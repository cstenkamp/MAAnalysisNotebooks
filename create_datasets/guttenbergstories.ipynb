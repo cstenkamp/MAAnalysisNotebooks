{
 "cells": [
  {
   "cell_type": "markdown",
   "id": "5171dee9-76de-48e1-bca2-a2ddfac90b4f",
   "metadata": {},
   "source": [
    "https://www.kaggle.com/shubchat/1002-short-stories-from-project-guttenberg"
   ]
  },
  {
   "cell_type": "code",
   "execution_count": 1,
   "id": "91e277c4-0654-4781-9e0d-935317700e87",
   "metadata": {},
   "outputs": [],
   "source": [
    "DIR = \"/home/chris/Documents/UNI_neu/Masterarbeit/data_new/guttenbergstories/\""
   ]
  },
  {
   "cell_type": "code",
   "execution_count": 34,
   "id": "ff0f63f0-200c-4808-bad4-987fab185397",
   "metadata": {},
   "outputs": [],
   "source": [
    "from os.path import join, isdir, isfile, abspath, dirname, splitext, basename, split\n",
    "from derive_conceptualspace.util.mpl_tools import show_hist\n",
    "\n",
    "import pandas as pd"
   ]
  },
  {
   "cell_type": "code",
   "execution_count": 55,
   "id": "41a597a5-8618-40a7-bddb-9b7ab9113662",
   "metadata": {},
   "outputs": [
    {
     "data": {
      "text/html": [
       "<div>\n",
       "<style scoped>\n",
       "    .dataframe tbody tr th:only-of-type {\n",
       "        vertical-align: middle;\n",
       "    }\n",
       "\n",
       "    .dataframe tbody tr th {\n",
       "        vertical-align: top;\n",
       "    }\n",
       "\n",
       "    .dataframe thead th {\n",
       "        text-align: right;\n",
       "    }\n",
       "</style>\n",
       "<table border=\"1\" class=\"dataframe\">\n",
       "  <thead>\n",
       "    <tr style=\"text-align: right;\">\n",
       "      <th></th>\n",
       "      <th>bookno</th>\n",
       "      <th>content</th>\n",
       "      <th>Title</th>\n",
       "      <th>Author</th>\n",
       "      <th>Language</th>\n",
       "    </tr>\n",
       "  </thead>\n",
       "  <tbody>\n",
       "    <tr>\n",
       "      <th>0</th>\n",
       "      <td>51082.txt</td>\n",
       "      <td>*** START OF THIS PROJECT GUTENBERG EBOOK COMING ATTRACTION ***\\n\\n\\n\\n\\n\\n\\n\\n\\n\\nProduced by Greg Weeks, Mary Meehan and the Online\\n\\nDistributed Proofreading Team at http://www.pgdp.net\\n\\n\\n\\n\\n\\n\\n\\n\\n\\n\\n\\n\\n\\n\\n\\n\\n\\n\\n\\n                           Coming Attraction\\n\\n\\n\\n                            BY FRITZ LEIBER\\n\\n\\n\\n                       Illustrated by Paul Calle\\n\\n\\n\\n           [Transcriber's Note: This etext was produced from\\n\\n                 Galaxy Science Fiction Nove...</td>\n",
       "      <td>Coming Attraction</td>\n",
       "      <td>Fritz Leiber</td>\n",
       "      <td>English</td>\n",
       "    </tr>\n",
       "    <tr>\n",
       "      <th>1</th>\n",
       "      <td>32243.txt</td>\n",
       "      <td>*** START OF THIS PROJECT GUTENBERG EBOOK CONFIDENCE GAME ***\\n\\n\\n\\n\\n\\n\\n\\n\\n\\nProduced by Greg Weeks, David Wilson and the Online\\n\\nDistributed Proofreading Team at http://www.pgdp.net\\n\\n\\n\\n\\n\\n\\n\\n\\n\\n\\n\\n  +--------------------------------------------------------------+\\n\\n  |                                                              |\\n\\n  | Transcriber's note:                                          |\\n\\n  |                                                              |\\n\\n  | ...</td>\n",
       "      <td>Confidence Game</td>\n",
       "      <td>James McKimmey</td>\n",
       "      <td>English</td>\n",
       "    </tr>\n",
       "    <tr>\n",
       "      <th>2</th>\n",
       "      <td>306-0.txt</td>\n",
       "      <td>*** START OF THIS PROJECT GUTENBERG EBOOK EARLY SHORT FICTION ***\\n\\n\\n\\n\\n\\n\\n\\n\\n\\nProduced by John Hamm\\n\\n\\n\\n\\n\\n\\n\\n\\n\\n\\n\\nTHE EARLY SHORT FICTION OF EDITH WHARTON\\n\\n\\n\\nA Ten-Part Collection\\n\\n\\n\\nVolume Two\\n\\n\\n\\n\\n\\n\\n\\nContents of Part Two\\n\\n\\n\\n                               Stories\\n\\n           AFTERWARD............................January   1910\\n\\n           THE FULNESS OF LIFE..................December  1893\\n\\n           A VENETIAN NIGHT’S ENTERTAINMENT.....December  190...</td>\n",
       "      <td>The Early Short Fiction of Edith Wharton, Part 2 (of 10)</td>\n",
       "      <td>Edith Wharton</td>\n",
       "      <td>English</td>\n",
       "    </tr>\n",
       "    <tr>\n",
       "      <th>3</th>\n",
       "      <td>31038.txt</td>\n",
       "      <td>*** START OF THIS PROJECT GUTENBERG EBOOK THE REAL HARD SELL ***\\n\\n\\n\\n\\n\\n\\n\\n\\n\\nProduced by Robert Cicconetti, David Wilson and the Online\\n\\nDistributed Proofreading Team at http://www.pgdp.net\\n\\n\\n\\n\\n\\n\\n\\n\\n\\n\\n\\n+--------------------------------------------------------------+\\n\\n|                                                              |\\n\\n| Transcriber's note:                                          |\\n\\n|                                                              |\\n\\n| ...</td>\n",
       "      <td>The Real Hard Sell</td>\n",
       "      <td>William W Stuart</td>\n",
       "      <td>English</td>\n",
       "    </tr>\n",
       "    <tr>\n",
       "      <th>4</th>\n",
       "      <td>28636-8.txt</td>\n",
       "      <td>*** START OF THIS PROJECT GUTENBERG EBOOK THE GREY WOMAN AND OTHER TALES ***\\n\\n\\n\\n\\n\\n\\n\\n\\n\\nProduced by Delphine Lettau and the Online Distributed\\n\\nProofreading Canada Team at http://www.pgdpcanada.net\\n\\n\\n\\n\\n\\n\\n\\n\\n\\n\\n\\n\\n\\n\\n\\n\\n\\n\\n\\n\\n\\n\\n\\n[Illustration:\\n\\n\\n\\nTHE GREY WOMAN\\n\\nAND\\n\\nOTHER TALES.\\n\\n\\n\\nMRS. GASKELL\\n\\n\\n\\n\\n\\n\\n\\nSMITH ELDER &amp; Co\\n\\n65 CORNHILL\\n\\n1865]\\n\\n\\n\\n\\n\\n\\n\\n\\n\\nTHE GREY WOMAN.\\n\\nAND OTHER TALES.\\n\\n\\n\\n\\n\\nBY MRS. GASKELL,\\n\\n\\n\\nAUTHOR OF \"MARY...</td>\n",
       "      <td>The Grey Woman and other Tales</td>\n",
       "      <td>Mrs. (Elizabeth) Gaskell</td>\n",
       "      <td>English</td>\n",
       "    </tr>\n",
       "  </tbody>\n",
       "</table>\n",
       "</div>"
      ],
      "text/plain": [
       "        bookno                                                                                                                                                                                                                                                                                                                                                                                                                                                                                                              content                                                     Title                    Author Language\n",
       "0    51082.txt  *** START OF THIS PROJECT GUTENBERG EBOOK COMING ATTRACTION ***\\n\\n\\n\\n\\n\\n\\n\\n\\n\\nProduced by Greg Weeks, Mary Meehan and the Online\\n\\nDistributed Proofreading Team at http://www.pgdp.net\\n\\n\\n\\n\\n\\n\\n\\n\\n\\n\\n\\n\\n\\n\\n\\n\\n\\n\\n\\n                           Coming Attraction\\n\\n\\n\\n                            BY FRITZ LEIBER\\n\\n\\n\\n                       Illustrated by Paul Calle\\n\\n\\n\\n           [Transcriber's Note: This etext was produced from\\n\\n                 Galaxy Science Fiction Nove...                                         Coming Attraction              Fritz Leiber  English\n",
       "1    32243.txt  *** START OF THIS PROJECT GUTENBERG EBOOK CONFIDENCE GAME ***\\n\\n\\n\\n\\n\\n\\n\\n\\n\\nProduced by Greg Weeks, David Wilson and the Online\\n\\nDistributed Proofreading Team at http://www.pgdp.net\\n\\n\\n\\n\\n\\n\\n\\n\\n\\n\\n\\n  +--------------------------------------------------------------+\\n\\n  |                                                              |\\n\\n  | Transcriber's note:                                          |\\n\\n  |                                                              |\\n\\n  | ...                                           Confidence Game            James McKimmey  English\n",
       "2    306-0.txt  *** START OF THIS PROJECT GUTENBERG EBOOK EARLY SHORT FICTION ***\\n\\n\\n\\n\\n\\n\\n\\n\\n\\nProduced by John Hamm\\n\\n\\n\\n\\n\\n\\n\\n\\n\\n\\n\\nTHE EARLY SHORT FICTION OF EDITH WHARTON\\n\\n\\n\\nA Ten-Part Collection\\n\\n\\n\\nVolume Two\\n\\n\\n\\n\\n\\n\\n\\nContents of Part Two\\n\\n\\n\\n                               Stories\\n\\n           AFTERWARD............................January   1910\\n\\n           THE FULNESS OF LIFE..................December  1893\\n\\n           A VENETIAN NIGHT’S ENTERTAINMENT.....December  190...  The Early Short Fiction of Edith Wharton, Part 2 (of 10)             Edith Wharton  English\n",
       "3    31038.txt  *** START OF THIS PROJECT GUTENBERG EBOOK THE REAL HARD SELL ***\\n\\n\\n\\n\\n\\n\\n\\n\\n\\nProduced by Robert Cicconetti, David Wilson and the Online\\n\\nDistributed Proofreading Team at http://www.pgdp.net\\n\\n\\n\\n\\n\\n\\n\\n\\n\\n\\n\\n+--------------------------------------------------------------+\\n\\n|                                                              |\\n\\n| Transcriber's note:                                          |\\n\\n|                                                              |\\n\\n| ...                                        The Real Hard Sell          William W Stuart  English\n",
       "4  28636-8.txt  *** START OF THIS PROJECT GUTENBERG EBOOK THE GREY WOMAN AND OTHER TALES ***\\n\\n\\n\\n\\n\\n\\n\\n\\n\\nProduced by Delphine Lettau and the Online Distributed\\n\\nProofreading Canada Team at http://www.pgdpcanada.net\\n\\n\\n\\n\\n\\n\\n\\n\\n\\n\\n\\n\\n\\n\\n\\n\\n\\n\\n\\n\\n\\n\\n\\n[Illustration:\\n\\n\\n\\nTHE GREY WOMAN\\n\\nAND\\n\\nOTHER TALES.\\n\\n\\n\\nMRS. GASKELL\\n\\n\\n\\n\\n\\n\\n\\nSMITH ELDER & Co\\n\\n65 CORNHILL\\n\\n1865]\\n\\n\\n\\n\\n\\n\\n\\n\\n\\nTHE GREY WOMAN.\\n\\nAND OTHER TALES.\\n\\n\\n\\n\\n\\nBY MRS. GASKELL,\\n\\n\\n\\nAUTHOR OF \"MARY...                            The Grey Woman and other Tales  Mrs. (Elizabeth) Gaskell  English"
      ]
     },
     "metadata": {},
     "output_type": "display_data"
    }
   ],
   "source": [
    "contents = pd.read_csv(join(DIR,\"stories.csv\"))\n",
    "info = pd.read_csv(join(DIR,\"db_books.csv\"))\n",
    "df = contents.merge(info, on=\"bookno\")\n",
    "for col in [\"bookno\", \"Title\", \"Author\", \"Language\"]:\n",
    "    df[col] = df[col].str.strip()\n",
    "assert len(df) == len(contents) == len(info)\n",
    "with pd.option_context('display.expand_frame_repr', False, 'display.max_colwidth', 500):\n",
    "    display(df.head())"
   ]
  },
  {
   "cell_type": "code",
   "execution_count": 56,
   "id": "47c89b7f-cd23-47ff-82cc-220da4b56c9b",
   "metadata": {
    "scrolled": true,
    "tags": []
   },
   "outputs": [
    {
     "name": "stdout",
     "output_type": "stream",
     "text": [
      "*** START OF THIS PROJECT GUTENBERG EBOOK COMING ATTRACTION ***\n",
      "\n",
      "\n",
      "\n",
      "\n",
      "\n",
      "\n",
      "\n",
      "\n",
      "\n",
      "Produced by Greg Weeks, Mary Meehan and the Online\n",
      "\n",
      "Distributed Proofreading Team at http://www.pgdp.net\n",
      "\n",
      "\n",
      "\n",
      "\n",
      "\n",
      "\n",
      "\n",
      "\n",
      "\n",
      "\n",
      "\n",
      "\n",
      "\n",
      "\n",
      "\n",
      "\n",
      "\n",
      "\n",
      "\n",
      "                           Coming Attraction\n",
      "\n",
      "\n",
      "\n",
      "                            BY FRITZ LEIBER\n",
      "\n",
      "\n",
      "\n",
      "                       Illustrated by Paul Calle\n",
      "\n",
      "\n",
      "\n",
      "           [Transcriber's Note: This etext was produced from\n",
      "\n",
      "                 Galaxy Science Fiction November 1950.\n",
      "\n",
      "         Extensive research did not uncover any evidence that\n",
      "\n",
      "         the U.S. copyright on this publication was renewed.]\n",
      "\n",
      "\n",
      "\n",
      "\n",
      "\n",
      "\n",
      "\n",
      "\n",
      "\n",
      "           Women will always go on trying to attract men ...\n",
      "\n",
      "             even when the future seems to have no future!\n",
      "\n",
      "\n",
      "\n",
      "\n",
      "\n",
      "The coupe with the fishhooks welded to the fender shouldered up over\n",
      "\n",
      "the curb like the nose of a nightmare. The girl in its path stood\n",
      "\n",
      "frozen, her face probably stiff with fright under her mask. For once my\n",
      "\n",
      "reflexes weren't shy. I took a fast step toward her, grabbed her elb\n",
      "ring any under a mask. The eye-brows\n",
      "\n",
      "were untidy and the lips chapped. But as for the general expression, as\n",
      "\n",
      "for the feelings crawling and wriggling across it--\n",
      "\n",
      "\n",
      "\n",
      "Have you ever lifted a rock from damp soil? Have you ever watched the\n",
      "\n",
      "slimy white grubs?\n",
      "\n",
      "\n",
      "\n",
      "I looked down at her, she up at me. \"Yes, you're so frightened, aren't\n",
      "\n",
      "you?\" I said sarcastically. \"You dread this little nightly drama, don't\n",
      "\n",
      "you? You're scared to death.\"\n",
      "\n",
      "\n",
      "\n",
      "And I walked right out into the purple night, still holding my hand\n",
      "\n",
      "to my bleeding cheek. No one stopped me, not even the girl wrestlers.\n",
      "\n",
      "I wished I could tear a tab from under my shirt, and test it then and\n",
      "\n",
      "there, and find I'd taken too much radiation, and so be able to ask to\n",
      "\n",
      "cross the Hudson and go down New Jersey, past the lingering radiance of\n",
      "\n",
      "the Narrows Bomb, and so on to Sandy Hook to wait for the rusty ship\n",
      "\n",
      "that would take me back over the seas to England.\n",
      "\n",
      "\n",
      "\n",
      "\n",
      "\n",
      "\n",
      "\n",
      "\n",
      "\n",
      "\n",
      "\n",
      "End of the Project Gutenberg EBook of Coming Attraction, by Fritz Leiber\n",
      "\n",
      "\n",
      "\n",
      "\n"
     ]
    }
   ],
   "source": [
    "print(df.iloc[0][\"content\"][:1000]+\"\\n\"+df.iloc[0][\"content\"][-1000:])"
   ]
  },
  {
   "cell_type": "code",
   "execution_count": 58,
   "id": "2f16eaea-bc0a-4025-a11e-0ed5b22db128",
   "metadata": {},
   "outputs": [
    {
     "data": {
      "text/plain": [
       "English               926\n",
       "German                 25\n",
       "French                 16\n",
       "Italian                10\n",
       "Spanish                 7\n",
       "Chinese                 6\n",
       "Portuguese              3\n",
       "Finnish                 2\n",
       "English and French      1\n",
       "Latin                   1\n",
       "Japanese                1\n",
       "Dutch                   1\n",
       "French / English        1\n",
       "Greek                   1\n",
       "Farsi                   1\n",
       "Name: Language, dtype: int64"
      ]
     },
     "execution_count": 58,
     "metadata": {},
     "output_type": "execute_result"
    }
   ],
   "source": [
    "df[\"Language\"].value_counts()"
   ]
  },
  {
   "cell_type": "code",
   "execution_count": 59,
   "id": "3584f1b4-f5b3-4947-8e98-7829d32779fa",
   "metadata": {},
   "outputs": [
    {
     "data": {
      "image/png": "[encoded data removed]",
      "text/plain": [
       "<Figure size 432x288 with 1 Axes>"
      ]
     },
     "metadata": {
      "needs_background": "light"
     },
     "output_type": "display_data"
    }
   ],
   "source": [
    "show_hist([i.count(\" \") for i in df[\"content\"]], \"Words per Story\", xlabel=\"Number of Words\", cutoff_percentile=98)"
   ]
  },
  {
   "cell_type": "code",
   "execution_count": 60,
   "id": "20c56632-29ef-4657-87cd-a31ef285c4ae",
   "metadata": {},
   "outputs": [
    {
     "name": "stdout",
     "output_type": "stream",
     "text": [
      "534 ones are longer than 10000 words.\n"
     ]
    },
    {
     "data": {
      "image/png": "[encoded data removed]",
      "text/plain": [
       "<Figure size 432x288 with 1 Axes>"
      ]
     },
     "metadata": {
      "needs_background": "light"
     },
     "output_type": "display_data"
    }
   ],
   "source": [
    "MIN_WORDS = 10000\n",
    "longones = df[df[\"content\"].str.count(\" \") > MIN_WORDS]\n",
    "show_hist([i.count(\" \") for i in longones[\"content\"]], \"Words per Story\", xlabel=\"Number of Words\", cutoff_percentile=98)\n",
    "print(f\"{len(longones)} ones are longer than {MIN_WORDS} words.\")"
   ]
  },
  {
   "cell_type": "code",
   "execution_count": 61,
   "id": "4d2c2f37-61d4-4f8a-8b94-bbe6e0047be6",
   "metadata": {},
   "outputs": [
    {
     "name": "stdout",
     "output_type": "stream",
     "text": [
      "940 ones are longer than 2000 words.\n"
     ]
    },
    {
     "data": {
      "image/png": "[encoded data removed]",
      "text/plain": [
       "<Figure size 432x288 with 1 Axes>"
      ]
     },
     "metadata": {
      "needs_background": "light"
     },
     "output_type": "display_data"
    }
   ],
   "source": [
    "MIN_WORDS = 2000\n",
    "longones = df[df[\"content\"].str.count(\" \") > MIN_WORDS]\n",
    "show_hist([i.count(\" \") for i in longones[\"content\"]], \"Words per Story\", xlabel=\"Number of Words\", cutoff_percentile=98)\n",
    "print(f\"{len(longones)} ones are longer than {MIN_WORDS} words.\")"
   ]
  },
  {
   "cell_type": "code",
   "execution_count": 63,
   "id": "c11f14d6-e206-4d47-8795-98f11c23beb0",
   "metadata": {},
   "outputs": [
    {
     "name": "stdout",
     "output_type": "stream",
     "text": [
      "Saving 871 ones which are long enough and only english.\n"
     ]
    }
   ],
   "source": [
    "long_onlyen = longones[longones[\"Language\"] == \"English\"]\n",
    "print(f\"Saving {len(long_onlyen)} ones which are long enough and only english.\")\n",
    "df.to_csv(join(DIR, \"guttenbergstories.csv\"))"
   ]
  }
 ],
 "metadata": {
  "kernelspec": {
   "display_name": "Python 3 (ipykernel)",
   "language": "python",
   "name": "python3"
  },
  "language_info": {
   "codemirror_mode": {
    "name": "ipython",
    "version": 3
   },
   "file_extension": ".py",
   "mimetype": "text/x-python",
   "name": "python",
   "nbconvert_exporter": "python",
   "pygments_lexer": "ipython3",
   "version": "3.10.0"
  },
  "widgets": {
   "application/vnd.jupyter.widget-state+json": {
    "state": {},
    "version_major": 2,
    "version_minor": 0
   }
  }
 },
 "nbformat": 4,
 "nbformat_minor": 5
}
