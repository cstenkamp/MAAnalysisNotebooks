{
 "cells": [
  {
   "cell_type": "code",
   "execution_count": 42,
   "id": "5cecfad7-3ea4-49aa-9b50-f2b70bedad4b",
   "metadata": {},
   "outputs": [],
   "source": [
    "PATH = \"/home/chris/Documents/UNI_neu/Masterarbeit/other_data/100k_coursera_dataset/\"\n",
    "import pandas as pd\n",
    "from os.path import join\n",
    "from langdetect import detect\n",
    "from langdetect.lang_detect_exception import LangDetectException\n",
    "from tqdm import tqdm, tqdm_notebook\n",
    "import numpy as np\n",
    "\n",
    "from derive_conceptualspace.util.jsonloadstore import json_dump\n",
    "from derive_conceptualspace.util.mpl_tools import show_hist"
   ]
  },
  {
   "cell_type": "code",
   "execution_count": 90,
   "id": "4cbf03b6-c6c5-49f8-aa94-c99d04ed1368",
   "metadata": {},
   "outputs": [
    {
     "name": "stdout",
     "output_type": "stream",
     "text": [
      "140320\n",
      "1835\n"
     ]
    },
    {
     "data": {
      "text/html": [
       "<div>\n",
       "<style scoped>\n",
       "    .dataframe tbody tr th:only-of-type {\n",
       "        vertical-align: middle;\n",
       "    }\n",
       "\n",
       "    .dataframe tbody tr th {\n",
       "        vertical-align: top;\n",
       "    }\n",
       "\n",
       "    .dataframe thead th {\n",
       "        text-align: right;\n",
       "    }\n",
       "</style>\n",
       "<table border=\"1\" class=\"dataframe\">\n",
       "  <thead>\n",
       "    <tr style=\"text-align: right;\">\n",
       "      <th></th>\n",
       "      <th>CourseId</th>\n",
       "      <th>Review</th>\n",
       "      <th>Label</th>\n",
       "    </tr>\n",
       "  </thead>\n",
       "  <tbody>\n",
       "    <tr>\n",
       "      <th>0</th>\n",
       "      <td>2-speed-it</td>\n",
       "      <td>BOring</td>\n",
       "      <td>1</td>\n",
       "    </tr>\n",
       "    <tr>\n",
       "      <th>1</th>\n",
       "      <td>2-speed-it</td>\n",
       "      <td>Bravo !</td>\n",
       "      <td>5</td>\n",
       "    </tr>\n",
       "    <tr>\n",
       "      <th>2</th>\n",
       "      <td>2-speed-it</td>\n",
       "      <td>Very goo</td>\n",
       "      <td>5</td>\n",
       "    </tr>\n",
       "    <tr>\n",
       "      <th>3</th>\n",
       "      <td>2-speed-it</td>\n",
       "      <td>Great course - I recommend it for all, especia...</td>\n",
       "      <td>5</td>\n",
       "    </tr>\n",
       "    <tr>\n",
       "      <th>4</th>\n",
       "      <td>2-speed-it</td>\n",
       "      <td>One of the most useful course on IT Management!</td>\n",
       "      <td>5</td>\n",
       "    </tr>\n",
       "  </tbody>\n",
       "</table>\n",
       "</div>"
      ],
      "text/plain": [
       "     CourseId                                             Review  Label\n",
       "0  2-speed-it                                             BOring      1\n",
       "1  2-speed-it                                            Bravo !      5\n",
       "2  2-speed-it                                           Very goo      5\n",
       "3  2-speed-it  Great course - I recommend it for all, especia...      5\n",
       "4  2-speed-it    One of the most useful course on IT Management!      5"
      ]
     },
     "execution_count": 90,
     "metadata": {},
     "output_type": "execute_result"
    }
   ],
   "source": [
    "df = pd.read_csv(join(PATH, \"reviews_by_course.csv\"))\n",
    "print(len(df))\n",
    "print(len(df[\"CourseId\"].unique()))\n",
    "df.head()"
   ]
  },
  {
   "cell_type": "code",
   "execution_count": 80,
   "id": "2e47ab9a-5dd4-4aa4-9779-f963a3633e85",
   "metadata": {},
   "outputs": [
    {
     "name": "stdout",
     "output_type": "stream",
     "text": [
      "Saving figure `Lens_per_Review_2022-01-05_11-48-51` under `/home/chris/saved_plots/2022-01-05/Lens_per_Review_2022-01-05_11-48-51.png`\n"
     ]
    },
    {
     "data": {
      "image/png": "[encoded data removed]",
      "text/plain": [
       "<Figure size 432x288 with 1 Axes>"
      ]
     },
     "metadata": {
      "needs_background": "light"
     },
     "output_type": "display_data"
    }
   ],
   "source": [
    "#df[\"Review\"].str.len().hist(bins=1000, log=True)\n",
    "lens = [i if not np.isnan(i) else 0 for i in df[\"Review\"].str.len()]\n",
    "show_hist(lens, \"Lens per Review\", xlabel=\"Lengths in chars\", ylabel=\"Count\", cutoff_percentile=95, log=False)"
   ]
  },
  {
   "cell_type": "markdown",
   "id": "81471de8-6596-46cd-98d1-7593b610d33d",
   "metadata": {},
   "source": [
    "## Filtering (only english, long enough, ..)"
   ]
  },
  {
   "cell_type": "code",
   "execution_count": 52,
   "id": "4de8fc4c-14fc-4914-aaed-a01ed213541f",
   "metadata": {},
   "outputs": [
    {
     "name": "stderr",
     "output_type": "stream",
     "text": [
      "<ipython-input-52-47e8f6ab96f8>:2: TqdmDeprecationWarning: This function will be removed in tqdm==5.0.0\n",
      "Please use `tqdm.notebook.tqdm` instead of `tqdm.tqdm_notebook`\n",
      "  for item in tqdm_notebook(df[\"Review\"]):\n"
     ]
    },
    {
     "data": {
      "application/vnd.jupyter.widget-view+json": {
       "model_id": "c33a77c2d3d340eb9dcfbd167ce4e2fa",
       "version_major": 2,
       "version_minor": 0
      },
      "text/plain": [
       "  0%|          | 0/140320 [00:00<?, ?it/s]"
      ]
     },
     "metadata": {},
     "output_type": "display_data"
    }
   ],
   "source": [
    "lans = []\n",
    "for item in tqdm_notebook(df[\"Review\"]):\n",
    "    if not isinstance(item, str) or len(item) < 40:\n",
    "        lans.append(\"tooshort\")\n",
    "    else:\n",
    "        try:\n",
    "            lans.append(detect(item))\n",
    "        except LangDetectException as e:\n",
    "            lans.append(\"unk\")\n",
    "df[\"lan\"] = lans"
   ]
  },
  {
   "cell_type": "code",
   "execution_count": 71,
   "id": "1515a665-74f2-48f2-b550-49aa38e922d0",
   "metadata": {},
   "outputs": [],
   "source": [
    "ens = df[df[\"lan\"] == \"en\"]\n",
    "grouped_reviews = ens.groupby(\"CourseId\")['Review'].apply(lambda x: '. \\n'.join(x))"
   ]
  },
  {
   "cell_type": "code",
   "execution_count": 83,
   "id": "581e75d3-9add-4506-85d1-f7e409c56137",
   "metadata": {},
   "outputs": [
    {
     "name": "stdout",
     "output_type": "stream",
     "text": [
      "Saving figure `Lens_per_All-Reviews-Per-Course_2022-01-05_11-49-12` under `/home/chris/saved_plots/2022-01-05/Lens_per_All-Reviews-Per-Course_2022-01-05_11-49-12.png`\n"
     ]
    },
    {
     "data": {
      "image/png": "[encoded data removed]",
      "text/plain": [
       "<Figure size 432x288 with 1 Axes>"
      ]
     },
     "metadata": {
      "needs_background": "light"
     },
     "output_type": "display_data"
    }
   ],
   "source": [
    "show_hist(grouped_reviews.str.len(), \"Lens per All-Reviews-Per-Course\", xlabel=\"Lengths in chars\", ylabel=\"Count\", cutoff_percentile=92, log=False)"
   ]
  },
  {
   "cell_type": "code",
   "execution_count": 85,
   "id": "1fd1bc35-0cc9-40a7-825a-215a2007e949",
   "metadata": {},
   "outputs": [
    {
     "name": "stdout",
     "output_type": "stream",
     "text": [
      "Saving figure `Lens_per_All-Reviews-Per-Course_2022-01-05_11-50-08` under `/home/chris/saved_plots/2022-01-05/Lens_per_All-Reviews-Per-Course_2022-01-05_11-50-08.png`\n"
     ]
    },
    {
     "data": {
      "image/png": "[encoded data removed]",
      "text/plain": [
       "<Figure size 432x288 with 1 Axes>"
      ]
     },
     "metadata": {
      "needs_background": "light"
     },
     "output_type": "display_data"
    }
   ],
   "source": [
    "show_hist([i for i in grouped_reviews.str.len() if i > 2000], \"Lens per All-Reviews-Per-Course\", xlabel=\"Lengths in chars\", ylabel=\"Count\", cutoff_percentile=92, log=False)"
   ]
  },
  {
   "cell_type": "code",
   "execution_count": 91,
   "id": "ddb3f034-bebb-4f12-8e14-f46b631b8d25",
   "metadata": {},
   "outputs": [
    {
     "name": "stdout",
     "output_type": "stream",
     "text": [
      "CourseId\n",
      "2-speed-it                  Great course - I recommend it for all, especia...\n",
      "3d-printing-applications    Excellent overview of the ways in which 3D pri...\n",
      "3d-printing-revolution      This is a very basic course on 3D Printing Tec...\n",
      "3d-printing-software        Thank you so much Jeff, iy was usefull course,...\n",
      "abdomen-anatomy             Excellent course you should make more courses ...\n",
      "                                                  ...                        \n",
      "world-change                It's great to know that halfway across the wor...\n",
      "writing-for-business        Simple techniques that can create habits for g...\n",
      "writing-for-children        I love this course! It is very inspiring and f...\n",
      "written-constitution        i'm the whole constitution lil' July 4, 1776. ...\n",
      "youth-sports                Great course! Very well structured and taught....\n",
      "Name: Review, Length: 847, dtype: object\n"
     ]
    }
   ],
   "source": [
    "tmp = grouped_reviews[grouped_reviews.str.len() > 2000]\n",
    "print(tmp)\n",
    "#for k,v in dict(tmp[:10]).items():\n",
    "#    print(\"\\n\\n\"+k)\n",
    "#    print(\"  \"+(\"\\n  \".join(v.split(\"\\n\"))))"
   ]
  },
  {
   "cell_type": "code",
   "execution_count": 96,
   "id": "211eb199-85fe-45bd-a8fb-0114af89f5be",
   "metadata": {},
   "outputs": [
    {
     "data": {
      "text/plain": [
       "'/home/chris/Documents/UNI_neu/Masterarbeit/other_data/100k_coursera_dataset/usable_reviews_2.json'"
      ]
     },
     "execution_count": 96,
     "metadata": {},
     "output_type": "execute_result"
    }
   ],
   "source": [
    "json_dump(dict(tmp), \"/home/chris/Documents/UNI_neu/Masterarbeit/other_data/100k_coursera_dataset/usable_reviews.json\")"
   ]
  },
  {
   "cell_type": "code",
   "execution_count": 97,
   "id": "e922a6e9-8de4-4226-9630-297e2d956a06",
   "metadata": {},
   "outputs": [],
   "source": [
    "tmp.to_csv(\"/home/chris/Documents/UNI_neu/Masterarbeit/other_data/100k_coursera_dataset/usable_reviews.csv\")"
   ]
  },
  {
   "cell_type": "code",
   "execution_count": 100,
   "id": "980430d7-b36f-4336-b48a-3c792aa6f92d",
   "metadata": {},
   "outputs": [
    {
     "data": {
      "text/plain": [
       "'/home/chris/Documents/UNI_neu/Masterarbeit/other_data/100k_coursera_dataset/languages_2.json'"
      ]
     },
     "execution_count": 100,
     "metadata": {},
     "output_type": "execute_result"
    }
   ],
   "source": [
    "json_dump(dict(langs={i: \"en\" for i in tmp.index}), \"/home/chris/Documents/UNI_neu/Masterarbeit/other_data/100k_coursera_dataset/languages.json\")"
   ]
  },
  {
   "cell_type": "code",
   "execution_count": null,
   "id": "085fbf0e-6476-4f3f-922e-889292beccd3",
   "metadata": {},
   "outputs": [],
   "source": []
  }
 ],
 "metadata": {
  "kernelspec": {
   "display_name": "Python 3",
   "language": "python",
   "name": "python3"
  },
  "language_info": {
   "codemirror_mode": {
    "name": "ipython",
    "version": 3
   },
   "file_extension": ".py",
   "mimetype": "text/x-python",
   "name": "python",
   "nbconvert_exporter": "python",
   "pygments_lexer": "ipython3",
   "version": "3.8.8"
  }
 },
 "nbformat": 4,
 "nbformat_minor": 5
}
