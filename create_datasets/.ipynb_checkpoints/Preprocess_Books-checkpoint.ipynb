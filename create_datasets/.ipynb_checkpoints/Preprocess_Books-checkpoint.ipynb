{
 "cells": [
  {
   "cell_type": "code",
   "execution_count": 1,
   "id": "b507dfe5-514c-434f-8b57-c992cec0f491",
   "metadata": {},
   "outputs": [],
   "source": [
    "import pandas as pd\n",
    "from os.path import join, isdir, isfile, abspath, dirname, splitext, basename, split\n",
    "from derive_conceptualspace.util.mpl_tools import show_hist\n",
    "\n",
    "BOOK_BASE = \"/home/chris/Documents/UNI_neu/Masterarbeit/OTHER/study_behavior_analysis/src/\""
   ]
  },
  {
   "cell_type": "markdown",
   "id": "ddc691ec-445d-4d2a-96cd-6c82a7fd8bc5",
   "metadata": {},
   "source": [
    "## Looking at book data"
   ]
  },
  {
   "cell_type": "code",
   "execution_count": 2,
   "id": "88c92178-90a8-47b6-afd1-98584d1ab786",
   "metadata": {},
   "outputs": [
    {
     "name": "stdout",
     "output_type": "stream",
     "text": [
      "605033\n"
     ]
    },
    {
     "data": {
      "text/html": [
       "<div>\n",
       "<style scoped>\n",
       "    .dataframe tbody tr th:only-of-type {\n",
       "        vertical-align: middle;\n",
       "    }\n",
       "\n",
       "    .dataframe tbody tr th {\n",
       "        vertical-align: top;\n",
       "    }\n",
       "\n",
       "    .dataframe thead th {\n",
       "        text-align: right;\n",
       "    }\n",
       "</style>\n",
       "<table border=\"1\" class=\"dataframe\">\n",
       "  <thead>\n",
       "    <tr style=\"text-align: right;\">\n",
       "      <th></th>\n",
       "      <th>title</th>\n",
       "      <th>ddc</th>\n",
       "    </tr>\n",
       "  </thead>\n",
       "  <tbody>\n",
       "    <tr>\n",
       "      <th>0</th>\n",
       "      <td>Socializing the human-computer environment</td>\n",
       "      <td>004/.01/9</td>\n",
       "    </tr>\n",
       "    <tr>\n",
       "      <th>1</th>\n",
       "      <td>Microsensors</td>\n",
       "      <td>681.2</td>\n",
       "    </tr>\n",
       "    <tr>\n",
       "      <th>2</th>\n",
       "      <td>How to produce methanol from coal</td>\n",
       "      <td>665.772</td>\n",
       "    </tr>\n",
       "    <tr>\n",
       "      <th>3</th>\n",
       "      <td>Wastewater Treatment by immobilized cells</td>\n",
       "      <td>628.35</td>\n",
       "    </tr>\n",
       "    <tr>\n",
       "      <th>4</th>\n",
       "      <td>Earth Rising : ecological belief in an age of ...</td>\n",
       "      <td>574.5/01</td>\n",
       "    </tr>\n",
       "  </tbody>\n",
       "</table>\n",
       "</div>"
      ],
      "text/plain": [
       "                                               title        ddc\n",
       "0         Socializing the human-computer environment  004/.01/9\n",
       "1                                       Microsensors      681.2\n",
       "2                  How to produce methanol from coal    665.772\n",
       "3          Wastewater Treatment by immobilized cells     628.35\n",
       "4  Earth Rising : ecological belief in an age of ...   574.5/01"
      ]
     },
     "execution_count": 2,
     "metadata": {},
     "output_type": "execute_result"
    }
   ],
   "source": [
    "df = pd.read_csv(join(BOOK_BASE, \"data/SidBERT_data/book_ddc_data\", \"buchtitel_hannover.csv\"))\n",
    "print(len(df))\n",
    "df.head()"
   ]
  },
  {
   "cell_type": "code",
   "execution_count": 3,
   "id": "980347b9-6c8f-4d15-acd4-536cedb5c088",
   "metadata": {},
   "outputs": [
    {
     "name": "stdout",
     "output_type": "stream",
     "text": [
      "151665\n"
     ]
    },
    {
     "data": {
      "text/html": [
       "<div>\n",
       "<style scoped>\n",
       "    .dataframe tbody tr th:only-of-type {\n",
       "        vertical-align: middle;\n",
       "    }\n",
       "\n",
       "    .dataframe tbody tr th {\n",
       "        vertical-align: top;\n",
       "    }\n",
       "\n",
       "    .dataframe thead th {\n",
       "        text-align: right;\n",
       "    }\n",
       "</style>\n",
       "<table border=\"1\" class=\"dataframe\">\n",
       "  <thead>\n",
       "    <tr style=\"text-align: right;\">\n",
       "      <th></th>\n",
       "      <th>ISBN</th>\n",
       "      <th>DDC</th>\n",
       "      <th>Titel</th>\n",
       "      <th>VerfasserIn</th>\n",
       "      <th>Zusammenfassung</th>\n",
       "    </tr>\n",
       "  </thead>\n",
       "  <tbody>\n",
       "    <tr>\n",
       "      <th>0</th>\n",
       "      <td>1280573880978;1770707580978;9781770706880</td>\n",
       "      <td>001.0</td>\n",
       "      <td>World's Most Mysterious Objects</td>\n",
       "      <td>Fanthorpe, Lionel &amp; Patricia</td>\n",
       "      <td>NaN</td>\n",
       "    </tr>\n",
       "    <tr>\n",
       "      <th>1</th>\n",
       "      <td>1280488522978;1907969911978;9781900990868</td>\n",
       "      <td>001.0</td>\n",
       "      <td>Young Person's Guide to the Children's Homes S...</td>\n",
       "      <td>Morgan, Roger</td>\n",
       "      <td>NaN</td>\n",
       "    </tr>\n",
       "    <tr>\n",
       "      <th>2</th>\n",
       "      <td>1280488506978;1907969898978;9781904787198</td>\n",
       "      <td>001.0</td>\n",
       "      <td>Young person's Guide to the Residential Specia...</td>\n",
       "      <td>Morgan, Roger</td>\n",
       "      <td>NaN</td>\n",
       "    </tr>\n",
       "    <tr>\n",
       "      <th>3</th>\n",
       "      <td>9781907969485;9781280488146;9781900990769</td>\n",
       "      <td>001.0</td>\n",
       "      <td>Young Europe: What young people between the ag...</td>\n",
       "      <td>Olle, hannah</td>\n",
       "      <td>Young Europe asks young people aged between 9 ...</td>\n",
       "    </tr>\n",
       "    <tr>\n",
       "      <th>4</th>\n",
       "      <td>3865993710978</td>\n",
       "      <td>001.1</td>\n",
       "      <td>Experimentalität : Hans-Jörg Rheinberger im Ge...</td>\n",
       "      <td>Eilenberger, Wolfram[InterviewerIn]</td>\n",
       "      <td>NaN</td>\n",
       "    </tr>\n",
       "  </tbody>\n",
       "</table>\n",
       "</div>"
      ],
      "text/plain": [
       "                                        ISBN    DDC  \\\n",
       "0  1280573880978;1770707580978;9781770706880  001.0   \n",
       "1  1280488522978;1907969911978;9781900990868  001.0   \n",
       "2  1280488506978;1907969898978;9781904787198  001.0   \n",
       "3  9781907969485;9781280488146;9781900990769  001.0   \n",
       "4                              3865993710978  001.1   \n",
       "\n",
       "                                               Titel  \\\n",
       "0                    World's Most Mysterious Objects   \n",
       "1  Young Person's Guide to the Children's Homes S...   \n",
       "2  Young person's Guide to the Residential Specia...   \n",
       "3  Young Europe: What young people between the ag...   \n",
       "4  Experimentalität : Hans-Jörg Rheinberger im Ge...   \n",
       "\n",
       "                           VerfasserIn  \\\n",
       "0         Fanthorpe, Lionel & Patricia   \n",
       "1                        Morgan, Roger   \n",
       "2                        Morgan, Roger   \n",
       "3                         Olle, hannah   \n",
       "4  Eilenberger, Wolfram[InterviewerIn]   \n",
       "\n",
       "                                     Zusammenfassung  \n",
       "0                                                NaN  \n",
       "1                                                NaN  \n",
       "2                                                NaN  \n",
       "3  Young Europe asks young people aged between 9 ...  \n",
       "4                                                NaN  "
      ]
     },
     "execution_count": 3,
     "metadata": {},
     "output_type": "execute_result"
    }
   ],
   "source": [
    "df = pd.read_csv(join(BOOK_BASE, \"data/SidBERT_data/book_ddc_data\", \"crawled_ddcs.csv\"))\n",
    "print(len(df))\n",
    "df.head()"
   ]
  },
  {
   "cell_type": "code",
   "execution_count": 4,
   "id": "4233e3a8-bd98-46f2-9326-79474c06fd39",
   "metadata": {},
   "outputs": [
    {
     "name": "stdout",
     "output_type": "stream",
     "text": [
      "65579\n"
     ]
    },
    {
     "data": {
      "text/html": [
       "<div>\n",
       "<style scoped>\n",
       "    .dataframe tbody tr th:only-of-type {\n",
       "        vertical-align: middle;\n",
       "    }\n",
       "\n",
       "    .dataframe tbody tr th {\n",
       "        vertical-align: top;\n",
       "    }\n",
       "\n",
       "    .dataframe thead th {\n",
       "        text-align: right;\n",
       "    }\n",
       "</style>\n",
       "<table border=\"1\" class=\"dataframe\">\n",
       "  <thead>\n",
       "    <tr style=\"text-align: right;\">\n",
       "      <th></th>\n",
       "      <th>ISBN</th>\n",
       "      <th>DDC</th>\n",
       "      <th>Titel</th>\n",
       "      <th>VerfasserIn</th>\n",
       "      <th>Zusammenfassung</th>\n",
       "    </tr>\n",
       "  </thead>\n",
       "  <tbody>\n",
       "    <tr>\n",
       "      <th>3</th>\n",
       "      <td>9781907969485;9781280488146;9781900990769</td>\n",
       "      <td>001.0</td>\n",
       "      <td>Young Europe: What young people between the ag...</td>\n",
       "      <td>Olle, hannah</td>\n",
       "      <td>Young Europe asks young people aged between 9 ...</td>\n",
       "    </tr>\n",
       "    <tr>\n",
       "      <th>7</th>\n",
       "      <td>9781137585752;9781137581624</td>\n",
       "      <td>001.1</td>\n",
       "      <td>The New Public Intellectual : Politics, Theory...</td>\n",
       "      <td>Di Leo, Jeffrey R.</td>\n",
       "      <td>Cover -- Half Title -- Title Page -- Copyright...</td>\n",
       "    </tr>\n",
       "    <tr>\n",
       "      <th>9</th>\n",
       "      <td>9780190264604</td>\n",
       "      <td>001.1</td>\n",
       "      <td>The ideas industry Daniel W. Drezner</td>\n",
       "      <td>Drezner, Daniel W.</td>\n",
       "      <td>\" The public intellectual, as a person and ide...</td>\n",
       "    </tr>\n",
       "    <tr>\n",
       "      <th>12</th>\n",
       "      <td>9780812291568</td>\n",
       "      <td>001.1</td>\n",
       "      <td>The mind is a collection</td>\n",
       "      <td>Silver, Sean</td>\n",
       "      <td>The Mind Is a Collection approaches seventeent...</td>\n",
       "    </tr>\n",
       "    <tr>\n",
       "      <th>15</th>\n",
       "      <td>9780415727754;9781317917366</td>\n",
       "      <td>001.1</td>\n",
       "      <td>The Element of Fire : Science, Art and the Hum...</td>\n",
       "      <td>O''Hear, Anthony</td>\n",
       "      <td>&lt;P&gt;First published in 1988, the aim of this bo...</td>\n",
       "    </tr>\n",
       "  </tbody>\n",
       "</table>\n",
       "</div>"
      ],
      "text/plain": [
       "                                         ISBN    DDC  \\\n",
       "3   9781907969485;9781280488146;9781900990769  001.0   \n",
       "7                 9781137585752;9781137581624  001.1   \n",
       "9                               9780190264604  001.1   \n",
       "12                              9780812291568  001.1   \n",
       "15                9780415727754;9781317917366  001.1   \n",
       "\n",
       "                                                Titel         VerfasserIn  \\\n",
       "3   Young Europe: What young people between the ag...        Olle, hannah   \n",
       "7   The New Public Intellectual : Politics, Theory...  Di Leo, Jeffrey R.   \n",
       "9                The ideas industry Daniel W. Drezner  Drezner, Daniel W.   \n",
       "12                           The mind is a collection        Silver, Sean   \n",
       "15  The Element of Fire : Science, Art and the Hum...    O''Hear, Anthony   \n",
       "\n",
       "                                      Zusammenfassung  \n",
       "3   Young Europe asks young people aged between 9 ...  \n",
       "7   Cover -- Half Title -- Title Page -- Copyright...  \n",
       "9   \" The public intellectual, as a person and ide...  \n",
       "12  The Mind Is a Collection approaches seventeent...  \n",
       "15  <P>First published in 1988, the aim of this bo...  "
      ]
     },
     "execution_count": 4,
     "metadata": {},
     "output_type": "execute_result"
    }
   ],
   "source": [
    "df = df.dropna(subset=[\"Zusammenfassung\"])\n",
    "df[\"unique_title\"] = df[\"Titel\"].str.lower()\n",
    "df = df.drop_duplicates(subset=[\"unique_title\"])\n",
    "df = df.drop(columns=[\"unique_title\"])\n",
    "print(len(df))\n",
    "df.head()"
   ]
  },
  {
   "cell_type": "code",
   "execution_count": 5,
   "id": "4cf4c12e-f374-4eda-96fc-4572cf49561c",
   "metadata": {},
   "outputs": [
    {
     "data": {
      "image/png": "[encoded data removed]",
      "text/plain": [
       "<Figure size 432x288 with 1 Axes>"
      ]
     },
     "metadata": {
      "needs_background": "light"
     },
     "output_type": "display_data"
    }
   ],
   "source": [
    "show_hist([i.count(\" \") for i in df[\"Zusammenfassung\"]], \"Words per Description\", xlabel=\"Number of Words\", cutoff_percentile=97)"
   ]
  },
  {
   "cell_type": "code",
   "execution_count": 6,
   "id": "9bc363c8-f7a6-4ca6-825a-29d99fc088f2",
   "metadata": {},
   "outputs": [
    {
     "data": {
      "text/plain": [
       "52904"
      ]
     },
     "execution_count": 6,
     "metadata": {},
     "output_type": "execute_result"
    }
   ],
   "source": [
    "len([1 for i in df[\"Zusammenfassung\"] if i.count(\" \") > 50])"
   ]
  },
  {
   "cell_type": "code",
   "execution_count": 7,
   "id": "d6f8059e-af4c-49aa-a725-cc75dd23c045",
   "metadata": {},
   "outputs": [
    {
     "data": {
      "text/html": [
       "<div>\n",
       "<style scoped>\n",
       "    .dataframe tbody tr th:only-of-type {\n",
       "        vertical-align: middle;\n",
       "    }\n",
       "\n",
       "    .dataframe tbody tr th {\n",
       "        vertical-align: top;\n",
       "    }\n",
       "\n",
       "    .dataframe thead th {\n",
       "        text-align: right;\n",
       "    }\n",
       "</style>\n",
       "<table border=\"1\" class=\"dataframe\">\n",
       "  <thead>\n",
       "    <tr style=\"text-align: right;\">\n",
       "      <th></th>\n",
       "      <th>DDC</th>\n",
       "      <th>Titel</th>\n",
       "      <th>VerfasserIn</th>\n",
       "      <th>Zusammenfassung</th>\n",
       "    </tr>\n",
       "  </thead>\n",
       "  <tbody>\n",
       "    <tr>\n",
       "      <th>7</th>\n",
       "      <td>001.1</td>\n",
       "      <td>The New Public Intellectual : Politics, Theory...</td>\n",
       "      <td>Di Leo, Jeffrey R.</td>\n",
       "      <td>Cover -- Half Title -- Title Page -- Copyright...</td>\n",
       "    </tr>\n",
       "    <tr>\n",
       "      <th>9</th>\n",
       "      <td>001.1</td>\n",
       "      <td>The ideas industry Daniel W. Drezner</td>\n",
       "      <td>Drezner, Daniel W.</td>\n",
       "      <td>\" The public intellectual, as a person and ide...</td>\n",
       "    </tr>\n",
       "    <tr>\n",
       "      <th>12</th>\n",
       "      <td>001.1</td>\n",
       "      <td>The mind is a collection</td>\n",
       "      <td>Silver, Sean</td>\n",
       "      <td>The Mind Is a Collection approaches seventeent...</td>\n",
       "    </tr>\n",
       "    <tr>\n",
       "      <th>15</th>\n",
       "      <td>001.1</td>\n",
       "      <td>The Element of Fire : Science, Art and the Hum...</td>\n",
       "      <td>O''Hear, Anthony</td>\n",
       "      <td>&lt;P&gt;First published in 1988, the aim of this bo...</td>\n",
       "    </tr>\n",
       "    <tr>\n",
       "      <th>18</th>\n",
       "      <td>001.5</td>\n",
       "      <td>The New Literacy Donald R. Gordon</td>\n",
       "      <td>Gordon, Donald R</td>\n",
       "      <td>Frontmatter -- Contents -- An introduction -- ...</td>\n",
       "    </tr>\n",
       "  </tbody>\n",
       "</table>\n",
       "</div>"
      ],
      "text/plain": [
       "      DDC                                              Titel  \\\n",
       "7   001.1  The New Public Intellectual : Politics, Theory...   \n",
       "9   001.1               The ideas industry Daniel W. Drezner   \n",
       "12  001.1                           The mind is a collection   \n",
       "15  001.1  The Element of Fire : Science, Art and the Hum...   \n",
       "18  001.5                  The New Literacy Donald R. Gordon   \n",
       "\n",
       "           VerfasserIn                                    Zusammenfassung  \n",
       "7   Di Leo, Jeffrey R.  Cover -- Half Title -- Title Page -- Copyright...  \n",
       "9   Drezner, Daniel W.  \" The public intellectual, as a person and ide...  \n",
       "12        Silver, Sean  The Mind Is a Collection approaches seventeent...  \n",
       "15    O''Hear, Anthony  <P>First published in 1988, the aim of this bo...  \n",
       "18    Gordon, Donald R  Frontmatter -- Contents -- An introduction -- ...  "
      ]
     },
     "execution_count": 7,
     "metadata": {},
     "output_type": "execute_result"
    }
   ],
   "source": [
    "df = df[df[\"Zusammenfassung\"].str.count(\" \") > 50]\n",
    "df = df.drop(columns=[\"ISBN\"])\n",
    "df.head()"
   ]
  },
  {
   "cell_type": "code",
   "execution_count": 8,
   "id": "fd6ae3a4-3ee4-41ec-b20e-5e44f7903f9c",
   "metadata": {},
   "outputs": [],
   "source": [
    "df.to_csv(join(BOOK_BASE, \"book_dataset.csv\"))"
   ]
  },
  {
   "cell_type": "markdown",
   "id": "6f5ce466-1b23-4d7a-b717-a1ff198a9114",
   "metadata": {},
   "source": [
    "## Using Johannes' Script"
   ]
  },
  {
   "cell_type": "code",
   "execution_count": 9,
   "id": "650c40b6-df1e-4ff6-a345-ae874cea9d50",
   "metadata": {},
   "outputs": [
    {
     "ename": "ModuleNotFoundError",
     "evalue": "No module named 'src'",
     "output_type": "error",
     "traceback": [
      "\u001b[0;31m---------------------------------------------------------------------------\u001b[0m",
      "\u001b[0;31mModuleNotFoundError\u001b[0m                       Traceback (most recent call last)",
      "\u001b[0;32m<ipython-input-9-05908cc93391>\u001b[0m in \u001b[0;36m<module>\u001b[0;34m\u001b[0m\n\u001b[1;32m      1\u001b[0m \u001b[0;32mimport\u001b[0m \u001b[0msys\u001b[0m\u001b[0;34m;\u001b[0m \u001b[0msys\u001b[0m\u001b[0;34m.\u001b[0m\u001b[0mpath\u001b[0m\u001b[0;34m.\u001b[0m\u001b[0mappend\u001b[0m\u001b[0;34m(\u001b[0m\u001b[0;34m\"/home/chris/Documents/UNI_neu/Masterarbeit/study_behavior_analysis/\"\u001b[0m\u001b[0;34m)\u001b[0m\u001b[0;34m\u001b[0m\u001b[0;34m\u001b[0m\u001b[0m\n\u001b[0;32m----> 2\u001b[0;31m \u001b[0;32mfrom\u001b[0m \u001b[0msrc\u001b[0m\u001b[0;34m.\u001b[0m\u001b[0mSidBERT\u001b[0m\u001b[0;34m.\u001b[0m\u001b[0mpreprocessing\u001b[0m\u001b[0;34m.\u001b[0m\u001b[0mbook_ddc_extractor\u001b[0m \u001b[0;32mimport\u001b[0m \u001b[0mDDCBookExtractor\u001b[0m\u001b[0;34m\u001b[0m\u001b[0;34m\u001b[0m\u001b[0m\n\u001b[0m",
      "\u001b[0;31mModuleNotFoundError\u001b[0m: No module named 'src'"
     ]
    }
   ],
   "source": [
    "import sys; sys.path.append(\"/home/chris/Documents/UNI_neu/Masterarbeit/study_behavior_analysis/\")\n",
    "from src.SidBERT.preprocessing.book_ddc_extractor import DDCBookExtractor"
   ]
  },
  {
   "cell_type": "code",
   "execution_count": null,
   "id": "41bedcdb-e91e-4a9d-a013-ef262dd70010",
   "metadata": {},
   "outputs": [],
   "source": [
    "extractor = DDCBookExtractor(\"/home/chris/Documents/UNI_neu/Masterarbeit/study_behavior_analysis/src/\")"
   ]
  },
  {
   "cell_type": "code",
   "execution_count": null,
   "id": "018374e9-105e-4dc6-a810-ce4cacdfd4c4",
   "metadata": {},
   "outputs": [],
   "source": [
    "df = extractor.parse_and_collect_raw_data()"
   ]
  },
  {
   "cell_type": "code",
   "execution_count": null,
   "id": "a296f00f-6705-4f74-a8a2-e35258901f3c",
   "metadata": {},
   "outputs": [],
   "source": [
    "df.head()"
   ]
  },
  {
   "cell_type": "code",
   "execution_count": null,
   "id": "1698f29f-a519-4dca-853b-9d9a6d191e5e",
   "metadata": {},
   "outputs": [],
   "source": [
    "df = df.dropna(subset=[\"Description\"])\n",
    "df = df[df[\"Description\"].str.len() > 100]\n",
    "df = df.set_index(\"index\")\n",
    "df"
   ]
  },
  {
   "cell_type": "code",
   "execution_count": null,
   "id": "c237c21c-81db-47bb-b372-b999d80d2b23",
   "metadata": {},
   "outputs": [],
   "source": [
    "df[\"unique_title\"] = df[\"Title\"].str.lower()"
   ]
  },
  {
   "cell_type": "code",
   "execution_count": null,
   "id": "15813168-b722-4092-8872-31655f9df056",
   "metadata": {},
   "outputs": [],
   "source": [
    "df[df.duplicated(subset=\"unique_title\", keep=False)].sort_values(\"unique_title\")"
   ]
  },
  {
   "cell_type": "code",
   "execution_count": null,
   "id": "222c31bc-b046-4b79-a223-09fb213f64be",
   "metadata": {},
   "outputs": [],
   "source": [
    "df = df.drop_duplicates(subset=[\"unique_title\"])\n",
    "df = df.drop(columns=[\"unique_title\"])\n",
    "df = df.set_index(\"index\")\n",
    "df"
   ]
  },
  {
   "cell_type": "code",
   "execution_count": null,
   "id": "a50c8794-1712-4cd5-81ba-cd0459d3311a",
   "metadata": {},
   "outputs": [],
   "source": [
    "show_hist([i.count(\" \") for i in df[\"Description\"]], \"Words per Description\", xlabel=\"Number of Words\", cutoff_percentile=97)"
   ]
  },
  {
   "cell_type": "code",
   "execution_count": null,
   "id": "cd0154fb-e2dd-4a17-937d-41c59ca11fb9",
   "metadata": {},
   "outputs": [],
   "source": [
    "len([1 for i in df[\"Description\"] if i.count(\" \") > 50])"
   ]
  },
  {
   "cell_type": "code",
   "execution_count": null,
   "id": "7fbbe2ac-c752-4a90-8c43-ccc4d8890103",
   "metadata": {},
   "outputs": [],
   "source": [
    "df.to_csv(join(BOOK_BASE, \"book_dataset2.csv\"))"
   ]
  }
 ],
 "metadata": {
  "kernelspec": {
   "display_name": "Python 3",
   "language": "python",
   "name": "python3"
  },
  "language_info": {
   "codemirror_mode": {
    "name": "ipython",
    "version": 3
   },
   "file_extension": ".py",
   "mimetype": "text/x-python",
   "name": "python",
   "nbconvert_exporter": "python",
   "pygments_lexer": "ipython3",
   "version": "3.8.8"
  }
 },
 "nbformat": 4,
 "nbformat_minor": 5
}
