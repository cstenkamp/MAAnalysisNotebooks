{
 "cells": [
  {
   "cell_type": "code",
   "execution_count": 1,
   "id": "a93fad98-f19f-4395-9fa0-3504c7a22330",
   "metadata": {},
   "outputs": [
    {
     "data": {
      "text/markdown": [
       "<span style=\"font-size:11pt\"></span>"
      ],
      "text/plain": [
       "<IPython.core.display.Markdown object>"
      ]
     },
     "metadata": {},
     "output_type": "display_data"
    },
    {
     "name": "stderr",
     "output_type": "stream",
     "text": [
      "2022-04-07 19:18:34.616655: W tensorflow/stream_executor/platform/default/dso_loader.cc:64] Could not load dynamic library 'libcudart.so.11.0'; dlerror: libcudart.so.11.0: cannot open shared object file: No such file or directory; LD_LIBRARY_PATH: /home/chris/Documents/JOBS/Uhrig-Gesture-Recog/skelshop_deps/openpose_cpu/build/src/openpose/\n",
      "2022-04-07 19:18:34.616691: I tensorflow/stream_executor/cuda/cudart_stub.cc:29] Ignore above cudart dlerror if you do not have a GPU set up on your machine.\n"
     ]
    }
   ],
   "source": [
    "import pyperclip\n",
    "import pandas as pd\n",
    "\n",
    "from misc_util.logutils import setup_logging\n",
    "from misc_util.pretty_print import Markdown, display\n",
    "\n",
    "from derive_conceptualspace.pipeline import SnakeContext, load_envfiles\n",
    "from derive_conceptualspace.util.result_analysis_tools import getfiles_allconfigs, highlight_nonzero_max, get_best_conf, df_to_latex\n",
    "from derive_conceptualspace.cli.args_from_filename import get_filename, print_envvars\n",
    "from derive_conceptualspace.evaluate.shallow_trees import classify_shallowtree_multi\n",
    "from derive_conceptualspace.util.desc_object import DescriptionList\n",
    "from derive_conceptualspace.pipeline import cluster_loader"
   ]
  },
  {
   "cell_type": "code",
   "execution_count": 2,
   "id": "2433a549-13c0-4f2e-ae22-f9061690126e",
   "metadata": {},
   "outputs": [],
   "source": [
    "setup_logging()\n",
    "load_envfiles(\"placetypes\")"
   ]
  },
  {
   "cell_type": "markdown",
   "id": "1aaafffe-72bb-4a96-b558-a9680bd4807c",
   "metadata": {},
   "source": [
    "# Find best-performing parameter-combination per Target+Depth Combination"
   ]
  },
  {
   "cell_type": "code",
   "execution_count": 3,
   "id": "a8446f6f-8483-40d7-aad8-7f7f72de86a1",
   "metadata": {
    "tags": []
   },
   "outputs": [
    {
     "data": {
      "text/markdown": [
       "### Best for: Geonames, depth 1"
      ],
      "text/plain": [
       "<IPython.core.display.Markdown object>"
      ]
     },
     "metadata": {},
     "output_type": "display_data"
    },
    {
     "data": {
      "text/markdown": [
       "<span style=\"font-size:11pt\">There are 43 different parameter-combis for dataset <span style=\"color: #0000ff\">placetypes</span>:</span>"
      ],
      "text/plain": [
       "<IPython.core.display.Markdown object>"
      ]
     },
     "metadata": {},
     "output_type": "display_data"
    },
    {
     "data": {
      "text/plain": [
       "{'dataset': 'placetypes',\n",
       " 'language': 'en',\n",
       " 'debug': 'False',\n",
       " 'pp_components': 'none',\n",
       " 'translate_policy': 'onlyorig',\n",
       " 'min_words_per_desc': '50',\n",
       " 'quantification_measure': ['ppmi', 'tfidf'],\n",
       " 'embed_algo': 'mds',\n",
       " 'embed_dimensions': ['3', '50', '200'],\n",
       " 'extraction_method': 'all',\n",
       " 'dcm_quant_measure': ['count', 'ppmi', 'tfidf'],\n",
       " 'kappa_weights': 'quadratic',\n",
       " 'classifier_succmetric': ['kappa_count2rank_onlypos',\n",
       "  'kappa_digitized_onlypos_2',\n",
       "  'kappa_rank2rank_onlypos_max',\n",
       "  'kappa_rank2rank_onlypos_min'],\n",
       " 'prim_lambda': '0.5',\n",
       " 'sec_lambda': ['0.1', '0.2'],\n",
       " 'cluster_direction_algo': 'reclassify'}"
      ]
     },
     "metadata": {},
     "output_type": "display_data"
    },
    {
     "data": {
      "application/vnd.jupyter.widget-view+json": {
       "model_id": "7d9f5066c3fe430dbc45f1356ebd56b7",
       "version_major": 2,
       "version_minor": 0
      },
      "text/plain": [
       "Getting Best-Performing Config [5 procs]:   0%|          | 0/43 [00:00<?, ?it/s]"
      ]
     },
     "metadata": {},
     "output_type": "display_data"
    },
    {
     "data": {
      "text/html": [
       "<style type=\"text/css\">\n",
       "#T_7f646 th {\n",
       "  vertical-align: top;\n",
       "  text-align: left;\n",
       "}\n",
       "#T_7f646_row3_col15 {\n",
       "  background-color: lightgreen;\n",
       "}\n",
       "</style>\n",
       "<table id=\"T_7f646\">\n",
       "  <thead>\n",
       "    <tr>\n",
       "      <th class=\"blank\" >&nbsp;</th>\n",
       "      <th class=\"blank level0\" >&nbsp;</th>\n",
       "      <th id=\"T_7f646_level0_col0\" class=\"col_heading level0 col0\" colspan=\"18\">f1</th>\n",
       "    </tr>\n",
       "    <tr>\n",
       "      <th class=\"blank\" >&nbsp;</th>\n",
       "      <th class=\"index_name level1\" >quantification_measure</th>\n",
       "      <th id=\"T_7f646_level1_col0\" class=\"col_heading level1 col0\" colspan=\"9\">ppmi</th>\n",
       "      <th id=\"T_7f646_level1_col9\" class=\"col_heading level1 col9\" colspan=\"9\">tfidf</th>\n",
       "    </tr>\n",
       "    <tr>\n",
       "      <th class=\"blank\" >&nbsp;</th>\n",
       "      <th class=\"index_name level2\" >embed_dimensions</th>\n",
       "      <th id=\"T_7f646_level2_col0\" class=\"col_heading level2 col0\" colspan=\"3\">3</th>\n",
       "      <th id=\"T_7f646_level2_col3\" class=\"col_heading level2 col3\" colspan=\"3\">50</th>\n",
       "      <th id=\"T_7f646_level2_col6\" class=\"col_heading level2 col6\" colspan=\"3\">200</th>\n",
       "      <th id=\"T_7f646_level2_col9\" class=\"col_heading level2 col9\" colspan=\"3\">3</th>\n",
       "      <th id=\"T_7f646_level2_col12\" class=\"col_heading level2 col12\" colspan=\"3\">50</th>\n",
       "      <th id=\"T_7f646_level2_col15\" class=\"col_heading level2 col15\" colspan=\"3\">200</th>\n",
       "    </tr>\n",
       "    <tr>\n",
       "      <th class=\"blank\" >&nbsp;</th>\n",
       "      <th class=\"index_name level3\" >dcm_quant_measure</th>\n",
       "      <th id=\"T_7f646_level3_col0\" class=\"col_heading level3 col0\" >count</th>\n",
       "      <th id=\"T_7f646_level3_col1\" class=\"col_heading level3 col1\" >ppmi</th>\n",
       "      <th id=\"T_7f646_level3_col2\" class=\"col_heading level3 col2\" >tfidf</th>\n",
       "      <th id=\"T_7f646_level3_col3\" class=\"col_heading level3 col3\" >count</th>\n",
       "      <th id=\"T_7f646_level3_col4\" class=\"col_heading level3 col4\" >ppmi</th>\n",
       "      <th id=\"T_7f646_level3_col5\" class=\"col_heading level3 col5\" >tfidf</th>\n",
       "      <th id=\"T_7f646_level3_col6\" class=\"col_heading level3 col6\" >count</th>\n",
       "      <th id=\"T_7f646_level3_col7\" class=\"col_heading level3 col7\" >ppmi</th>\n",
       "      <th id=\"T_7f646_level3_col8\" class=\"col_heading level3 col8\" >tfidf</th>\n",
       "      <th id=\"T_7f646_level3_col9\" class=\"col_heading level3 col9\" >count</th>\n",
       "      <th id=\"T_7f646_level3_col10\" class=\"col_heading level3 col10\" >ppmi</th>\n",
       "      <th id=\"T_7f646_level3_col11\" class=\"col_heading level3 col11\" >tfidf</th>\n",
       "      <th id=\"T_7f646_level3_col12\" class=\"col_heading level3 col12\" >count</th>\n",
       "      <th id=\"T_7f646_level3_col13\" class=\"col_heading level3 col13\" >ppmi</th>\n",
       "      <th id=\"T_7f646_level3_col14\" class=\"col_heading level3 col14\" >tfidf</th>\n",
       "      <th id=\"T_7f646_level3_col15\" class=\"col_heading level3 col15\" >count</th>\n",
       "      <th id=\"T_7f646_level3_col16\" class=\"col_heading level3 col16\" >ppmi</th>\n",
       "      <th id=\"T_7f646_level3_col17\" class=\"col_heading level3 col17\" >tfidf</th>\n",
       "    </tr>\n",
       "    <tr>\n",
       "      <th class=\"index_name level0\" >classifier_succmetric</th>\n",
       "      <th class=\"index_name level1\" >sec_lambda</th>\n",
       "      <th class=\"blank col0\" >&nbsp;</th>\n",
       "      <th class=\"blank col1\" >&nbsp;</th>\n",
       "      <th class=\"blank col2\" >&nbsp;</th>\n",
       "      <th class=\"blank col3\" >&nbsp;</th>\n",
       "      <th class=\"blank col4\" >&nbsp;</th>\n",
       "      <th class=\"blank col5\" >&nbsp;</th>\n",
       "      <th class=\"blank col6\" >&nbsp;</th>\n",
       "      <th class=\"blank col7\" >&nbsp;</th>\n",
       "      <th class=\"blank col8\" >&nbsp;</th>\n",
       "      <th class=\"blank col9\" >&nbsp;</th>\n",
       "      <th class=\"blank col10\" >&nbsp;</th>\n",
       "      <th class=\"blank col11\" >&nbsp;</th>\n",
       "      <th class=\"blank col12\" >&nbsp;</th>\n",
       "      <th class=\"blank col13\" >&nbsp;</th>\n",
       "      <th class=\"blank col14\" >&nbsp;</th>\n",
       "      <th class=\"blank col15\" >&nbsp;</th>\n",
       "      <th class=\"blank col16\" >&nbsp;</th>\n",
       "      <th class=\"blank col17\" >&nbsp;</th>\n",
       "    </tr>\n",
       "  </thead>\n",
       "  <tbody>\n",
       "    <tr>\n",
       "      <th id=\"T_7f646_level0_row0\" class=\"row_heading level0 row0\" >kappa_count2rank_onlypos</th>\n",
       "      <th id=\"T_7f646_level1_row0\" class=\"row_heading level1 row0\" >0.200000</th>\n",
       "      <td id=\"T_7f646_row0_col0\" class=\"data row0 col0\" >0.375</td>\n",
       "      <td id=\"T_7f646_row0_col1\" class=\"data row0 col1\" >-</td>\n",
       "      <td id=\"T_7f646_row0_col2\" class=\"data row0 col2\" >-</td>\n",
       "      <td id=\"T_7f646_row0_col3\" class=\"data row0 col3\" >0.326</td>\n",
       "      <td id=\"T_7f646_row0_col4\" class=\"data row0 col4\" >-</td>\n",
       "      <td id=\"T_7f646_row0_col5\" class=\"data row0 col5\" >-</td>\n",
       "      <td id=\"T_7f646_row0_col6\" class=\"data row0 col6\" >0.402</td>\n",
       "      <td id=\"T_7f646_row0_col7\" class=\"data row0 col7\" >-</td>\n",
       "      <td id=\"T_7f646_row0_col8\" class=\"data row0 col8\" >-</td>\n",
       "      <td id=\"T_7f646_row0_col9\" class=\"data row0 col9\" >0.487</td>\n",
       "      <td id=\"T_7f646_row0_col10\" class=\"data row0 col10\" >-</td>\n",
       "      <td id=\"T_7f646_row0_col11\" class=\"data row0 col11\" >-</td>\n",
       "      <td id=\"T_7f646_row0_col12\" class=\"data row0 col12\" >0.427</td>\n",
       "      <td id=\"T_7f646_row0_col13\" class=\"data row0 col13\" >-</td>\n",
       "      <td id=\"T_7f646_row0_col14\" class=\"data row0 col14\" >-</td>\n",
       "      <td id=\"T_7f646_row0_col15\" class=\"data row0 col15\" >0.417</td>\n",
       "      <td id=\"T_7f646_row0_col16\" class=\"data row0 col16\" >-</td>\n",
       "      <td id=\"T_7f646_row0_col17\" class=\"data row0 col17\" >-</td>\n",
       "    </tr>\n",
       "    <tr>\n",
       "      <th id=\"T_7f646_level0_row1\" class=\"row_heading level0 row1\" >kappa_digitized_onlypos_2</th>\n",
       "      <th id=\"T_7f646_level1_row1\" class=\"row_heading level1 row1\" >0.200000</th>\n",
       "      <td id=\"T_7f646_row1_col0\" class=\"data row1 col0\" >0.260</td>\n",
       "      <td id=\"T_7f646_row1_col1\" class=\"data row1 col1\" >0.360</td>\n",
       "      <td id=\"T_7f646_row1_col2\" class=\"data row1 col2\" >0.202</td>\n",
       "      <td id=\"T_7f646_row1_col3\" class=\"data row1 col3\" >0.164</td>\n",
       "      <td id=\"T_7f646_row1_col4\" class=\"data row1 col4\" >0.250</td>\n",
       "      <td id=\"T_7f646_row1_col5\" class=\"data row1 col5\" >0.377</td>\n",
       "      <td id=\"T_7f646_row1_col6\" class=\"data row1 col6\" >0.365</td>\n",
       "      <td id=\"T_7f646_row1_col7\" class=\"data row1 col7\" >0.241</td>\n",
       "      <td id=\"T_7f646_row1_col8\" class=\"data row1 col8\" >0.391</td>\n",
       "      <td id=\"T_7f646_row1_col9\" class=\"data row1 col9\" >0.351</td>\n",
       "      <td id=\"T_7f646_row1_col10\" class=\"data row1 col10\" >0.460</td>\n",
       "      <td id=\"T_7f646_row1_col11\" class=\"data row1 col11\" >0.282</td>\n",
       "      <td id=\"T_7f646_row1_col12\" class=\"data row1 col12\" >0.347</td>\n",
       "      <td id=\"T_7f646_row1_col13\" class=\"data row1 col13\" >0.380</td>\n",
       "      <td id=\"T_7f646_row1_col14\" class=\"data row1 col14\" >0.396</td>\n",
       "      <td id=\"T_7f646_row1_col15\" class=\"data row1 col15\" >0.495</td>\n",
       "      <td id=\"T_7f646_row1_col16\" class=\"data row1 col16\" >0.307</td>\n",
       "      <td id=\"T_7f646_row1_col17\" class=\"data row1 col17\" >0.364</td>\n",
       "    </tr>\n",
       "    <tr>\n",
       "      <th id=\"T_7f646_level0_row2\" class=\"row_heading level0 row2\" >kappa_rank2rank_onlypos_max</th>\n",
       "      <th id=\"T_7f646_level1_row2\" class=\"row_heading level1 row2\" >0.100000</th>\n",
       "      <td id=\"T_7f646_row2_col0\" class=\"data row2 col0\" >-</td>\n",
       "      <td id=\"T_7f646_row2_col1\" class=\"data row2 col1\" >-</td>\n",
       "      <td id=\"T_7f646_row2_col2\" class=\"data row2 col2\" >-</td>\n",
       "      <td id=\"T_7f646_row2_col3\" class=\"data row2 col3\" >0.358</td>\n",
       "      <td id=\"T_7f646_row2_col4\" class=\"data row2 col4\" >-</td>\n",
       "      <td id=\"T_7f646_row2_col5\" class=\"data row2 col5\" >-</td>\n",
       "      <td id=\"T_7f646_row2_col6\" class=\"data row2 col6\" >-</td>\n",
       "      <td id=\"T_7f646_row2_col7\" class=\"data row2 col7\" >-</td>\n",
       "      <td id=\"T_7f646_row2_col8\" class=\"data row2 col8\" >-</td>\n",
       "      <td id=\"T_7f646_row2_col9\" class=\"data row2 col9\" >-</td>\n",
       "      <td id=\"T_7f646_row2_col10\" class=\"data row2 col10\" >-</td>\n",
       "      <td id=\"T_7f646_row2_col11\" class=\"data row2 col11\" >-</td>\n",
       "      <td id=\"T_7f646_row2_col12\" class=\"data row2 col12\" >-</td>\n",
       "      <td id=\"T_7f646_row2_col13\" class=\"data row2 col13\" >-</td>\n",
       "      <td id=\"T_7f646_row2_col14\" class=\"data row2 col14\" >-</td>\n",
       "      <td id=\"T_7f646_row2_col15\" class=\"data row2 col15\" >-</td>\n",
       "      <td id=\"T_7f646_row2_col16\" class=\"data row2 col16\" >-</td>\n",
       "      <td id=\"T_7f646_row2_col17\" class=\"data row2 col17\" >-</td>\n",
       "    </tr>\n",
       "    <tr>\n",
       "      <th id=\"T_7f646_level0_row3\" class=\"row_heading level0 row3\" >kappa_rank2rank_onlypos_min</th>\n",
       "      <th id=\"T_7f646_level1_row3\" class=\"row_heading level1 row3\" >0.200000</th>\n",
       "      <td id=\"T_7f646_row3_col0\" class=\"data row3 col0\" >0.299</td>\n",
       "      <td id=\"T_7f646_row3_col1\" class=\"data row3 col1\" >0.465</td>\n",
       "      <td id=\"T_7f646_row3_col2\" class=\"data row3 col2\" >0.389</td>\n",
       "      <td id=\"T_7f646_row3_col3\" class=\"data row3 col3\" >0.349</td>\n",
       "      <td id=\"T_7f646_row3_col4\" class=\"data row3 col4\" >0.325</td>\n",
       "      <td id=\"T_7f646_row3_col5\" class=\"data row3 col5\" >0.425</td>\n",
       "      <td id=\"T_7f646_row3_col6\" class=\"data row3 col6\" >0.369</td>\n",
       "      <td id=\"T_7f646_row3_col7\" class=\"data row3 col7\" >0.331</td>\n",
       "      <td id=\"T_7f646_row3_col8\" class=\"data row3 col8\" >0.419</td>\n",
       "      <td id=\"T_7f646_row3_col9\" class=\"data row3 col9\" >0.497</td>\n",
       "      <td id=\"T_7f646_row3_col10\" class=\"data row3 col10\" >0.495</td>\n",
       "      <td id=\"T_7f646_row3_col11\" class=\"data row3 col11\" >0.454</td>\n",
       "      <td id=\"T_7f646_row3_col12\" class=\"data row3 col12\" >0.428</td>\n",
       "      <td id=\"T_7f646_row3_col13\" class=\"data row3 col13\" >0.427</td>\n",
       "      <td id=\"T_7f646_row3_col14\" class=\"data row3 col14\" >0.483</td>\n",
       "      <td id=\"T_7f646_row3_col15\" class=\"data row3 col15\" >0.505</td>\n",
       "      <td id=\"T_7f646_row3_col16\" class=\"data row3 col16\" >0.420</td>\n",
       "      <td id=\"T_7f646_row3_col17\" class=\"data row3 col17\" >0.370</td>\n",
       "    </tr>\n",
       "  </tbody>\n",
       "</table>\n"
      ],
      "text/plain": [
       "<pandas.io.formats.style.Styler at 0x7f8841e56ce0>"
      ]
     },
     "metadata": {},
     "output_type": "display_data"
    },
    {
     "name": "stdout",
     "output_type": "stream",
     "text": [
      "Best f1: 0.5045\n",
      "MA_DATASET=placetypes;MA_LANGUAGE=en;MA_DEBUG=False;MA_PP_COMPONENTS=none;MA_TRANSLATE_POLICY=onlyorig;MA_MIN_WORDS_PER_DESC=50;MA_QUANTIFICATION_MEASURE=tfidf;MA_EMBED_ALGO=mds;MA_EMBED_DIMENSIONS=200;MA_EXTRACTION_METHOD=all;MA_DCM_QUANT_MEASURE=count;MA_KAPPA_WEIGHTS=quadratic;MA_CLASSIFIER_SUCCMETRIC=kappa_rank2rank_onlypos_min;MA_PRIM_LAMBDA=0.5;MA_SEC_LAMBDA=0.2;MA_CLUSTER_DIRECTION_ALGO=reclassify\n",
      "cluster_reprs\n"
     ]
    },
    {
     "data": {
      "text/markdown": [
       "Best f1: **0.5045** <br><br> "
      ],
      "text/plain": [
       "<IPython.core.display.Markdown object>"
      ]
     },
     "metadata": {},
     "output_type": "display_data"
    },
    {
     "data": {
      "text/markdown": [
       "### Best for: Geonames, depth 3"
      ],
      "text/plain": [
       "<IPython.core.display.Markdown object>"
      ]
     },
     "metadata": {},
     "output_type": "display_data"
    },
    {
     "data": {
      "application/vnd.jupyter.widget-view+json": {
       "model_id": "890985e5f78740da8a65774089adc849",
       "version_major": 2,
       "version_minor": 0
      },
      "text/plain": [
       "Getting Best-Performing Config [5 procs]:   0%|          | 0/43 [00:00<?, ?it/s]"
      ]
     },
     "metadata": {},
     "output_type": "display_data"
    },
    {
     "data": {
      "text/html": [
       "<style type=\"text/css\">\n",
       "#T_0c196 th {\n",
       "  vertical-align: top;\n",
       "  text-align: left;\n",
       "}\n",
       "#T_0c196_row3_col10 {\n",
       "  background-color: lightgreen;\n",
       "}\n",
       "</style>\n",
       "<table id=\"T_0c196\">\n",
       "  <thead>\n",
       "    <tr>\n",
       "      <th class=\"blank\" >&nbsp;</th>\n",
       "      <th class=\"blank level0\" >&nbsp;</th>\n",
       "      <th id=\"T_0c196_level0_col0\" class=\"col_heading level0 col0\" colspan=\"18\">f1</th>\n",
       "    </tr>\n",
       "    <tr>\n",
       "      <th class=\"blank\" >&nbsp;</th>\n",
       "      <th class=\"index_name level1\" >quantification_measure</th>\n",
       "      <th id=\"T_0c196_level1_col0\" class=\"col_heading level1 col0\" colspan=\"9\">ppmi</th>\n",
       "      <th id=\"T_0c196_level1_col9\" class=\"col_heading level1 col9\" colspan=\"9\">tfidf</th>\n",
       "    </tr>\n",
       "    <tr>\n",
       "      <th class=\"blank\" >&nbsp;</th>\n",
       "      <th class=\"index_name level2\" >embed_dimensions</th>\n",
       "      <th id=\"T_0c196_level2_col0\" class=\"col_heading level2 col0\" colspan=\"3\">3</th>\n",
       "      <th id=\"T_0c196_level2_col3\" class=\"col_heading level2 col3\" colspan=\"3\">50</th>\n",
       "      <th id=\"T_0c196_level2_col6\" class=\"col_heading level2 col6\" colspan=\"3\">200</th>\n",
       "      <th id=\"T_0c196_level2_col9\" class=\"col_heading level2 col9\" colspan=\"3\">3</th>\n",
       "      <th id=\"T_0c196_level2_col12\" class=\"col_heading level2 col12\" colspan=\"3\">50</th>\n",
       "      <th id=\"T_0c196_level2_col15\" class=\"col_heading level2 col15\" colspan=\"3\">200</th>\n",
       "    </tr>\n",
       "    <tr>\n",
       "      <th class=\"blank\" >&nbsp;</th>\n",
       "      <th class=\"index_name level3\" >dcm_quant_measure</th>\n",
       "      <th id=\"T_0c196_level3_col0\" class=\"col_heading level3 col0\" >count</th>\n",
       "      <th id=\"T_0c196_level3_col1\" class=\"col_heading level3 col1\" >ppmi</th>\n",
       "      <th id=\"T_0c196_level3_col2\" class=\"col_heading level3 col2\" >tfidf</th>\n",
       "      <th id=\"T_0c196_level3_col3\" class=\"col_heading level3 col3\" >count</th>\n",
       "      <th id=\"T_0c196_level3_col4\" class=\"col_heading level3 col4\" >ppmi</th>\n",
       "      <th id=\"T_0c196_level3_col5\" class=\"col_heading level3 col5\" >tfidf</th>\n",
       "      <th id=\"T_0c196_level3_col6\" class=\"col_heading level3 col6\" >count</th>\n",
       "      <th id=\"T_0c196_level3_col7\" class=\"col_heading level3 col7\" >ppmi</th>\n",
       "      <th id=\"T_0c196_level3_col8\" class=\"col_heading level3 col8\" >tfidf</th>\n",
       "      <th id=\"T_0c196_level3_col9\" class=\"col_heading level3 col9\" >count</th>\n",
       "      <th id=\"T_0c196_level3_col10\" class=\"col_heading level3 col10\" >ppmi</th>\n",
       "      <th id=\"T_0c196_level3_col11\" class=\"col_heading level3 col11\" >tfidf</th>\n",
       "      <th id=\"T_0c196_level3_col12\" class=\"col_heading level3 col12\" >count</th>\n",
       "      <th id=\"T_0c196_level3_col13\" class=\"col_heading level3 col13\" >ppmi</th>\n",
       "      <th id=\"T_0c196_level3_col14\" class=\"col_heading level3 col14\" >tfidf</th>\n",
       "      <th id=\"T_0c196_level3_col15\" class=\"col_heading level3 col15\" >count</th>\n",
       "      <th id=\"T_0c196_level3_col16\" class=\"col_heading level3 col16\" >ppmi</th>\n",
       "      <th id=\"T_0c196_level3_col17\" class=\"col_heading level3 col17\" >tfidf</th>\n",
       "    </tr>\n",
       "    <tr>\n",
       "      <th class=\"index_name level0\" >classifier_succmetric</th>\n",
       "      <th class=\"index_name level1\" >sec_lambda</th>\n",
       "      <th class=\"blank col0\" >&nbsp;</th>\n",
       "      <th class=\"blank col1\" >&nbsp;</th>\n",
       "      <th class=\"blank col2\" >&nbsp;</th>\n",
       "      <th class=\"blank col3\" >&nbsp;</th>\n",
       "      <th class=\"blank col4\" >&nbsp;</th>\n",
       "      <th class=\"blank col5\" >&nbsp;</th>\n",
       "      <th class=\"blank col6\" >&nbsp;</th>\n",
       "      <th class=\"blank col7\" >&nbsp;</th>\n",
       "      <th class=\"blank col8\" >&nbsp;</th>\n",
       "      <th class=\"blank col9\" >&nbsp;</th>\n",
       "      <th class=\"blank col10\" >&nbsp;</th>\n",
       "      <th class=\"blank col11\" >&nbsp;</th>\n",
       "      <th class=\"blank col12\" >&nbsp;</th>\n",
       "      <th class=\"blank col13\" >&nbsp;</th>\n",
       "      <th class=\"blank col14\" >&nbsp;</th>\n",
       "      <th class=\"blank col15\" >&nbsp;</th>\n",
       "      <th class=\"blank col16\" >&nbsp;</th>\n",
       "      <th class=\"blank col17\" >&nbsp;</th>\n",
       "    </tr>\n",
       "  </thead>\n",
       "  <tbody>\n",
       "    <tr>\n",
       "      <th id=\"T_0c196_level0_row0\" class=\"row_heading level0 row0\" >kappa_count2rank_onlypos</th>\n",
       "      <th id=\"T_0c196_level1_row0\" class=\"row_heading level1 row0\" >0.200000</th>\n",
       "      <td id=\"T_0c196_row0_col0\" class=\"data row0 col0\" >0.438</td>\n",
       "      <td id=\"T_0c196_row0_col1\" class=\"data row0 col1\" >-</td>\n",
       "      <td id=\"T_0c196_row0_col2\" class=\"data row0 col2\" >-</td>\n",
       "      <td id=\"T_0c196_row0_col3\" class=\"data row0 col3\" >0.406</td>\n",
       "      <td id=\"T_0c196_row0_col4\" class=\"data row0 col4\" >-</td>\n",
       "      <td id=\"T_0c196_row0_col5\" class=\"data row0 col5\" >-</td>\n",
       "      <td id=\"T_0c196_row0_col6\" class=\"data row0 col6\" >0.445</td>\n",
       "      <td id=\"T_0c196_row0_col7\" class=\"data row0 col7\" >-</td>\n",
       "      <td id=\"T_0c196_row0_col8\" class=\"data row0 col8\" >-</td>\n",
       "      <td id=\"T_0c196_row0_col9\" class=\"data row0 col9\" >0.487</td>\n",
       "      <td id=\"T_0c196_row0_col10\" class=\"data row0 col10\" >-</td>\n",
       "      <td id=\"T_0c196_row0_col11\" class=\"data row0 col11\" >-</td>\n",
       "      <td id=\"T_0c196_row0_col12\" class=\"data row0 col12\" >0.464</td>\n",
       "      <td id=\"T_0c196_row0_col13\" class=\"data row0 col13\" >-</td>\n",
       "      <td id=\"T_0c196_row0_col14\" class=\"data row0 col14\" >-</td>\n",
       "      <td id=\"T_0c196_row0_col15\" class=\"data row0 col15\" >0.390</td>\n",
       "      <td id=\"T_0c196_row0_col16\" class=\"data row0 col16\" >-</td>\n",
       "      <td id=\"T_0c196_row0_col17\" class=\"data row0 col17\" >-</td>\n",
       "    </tr>\n",
       "    <tr>\n",
       "      <th id=\"T_0c196_level0_row1\" class=\"row_heading level0 row1\" >kappa_digitized_onlypos_2</th>\n",
       "      <th id=\"T_0c196_level1_row1\" class=\"row_heading level1 row1\" >0.200000</th>\n",
       "      <td id=\"T_0c196_row1_col0\" class=\"data row1 col0\" >0.352</td>\n",
       "      <td id=\"T_0c196_row1_col1\" class=\"data row1 col1\" >0.378</td>\n",
       "      <td id=\"T_0c196_row1_col2\" class=\"data row1 col2\" >0.352</td>\n",
       "      <td id=\"T_0c196_row1_col3\" class=\"data row1 col3\" >0.217</td>\n",
       "      <td id=\"T_0c196_row1_col4\" class=\"data row1 col4\" >0.373</td>\n",
       "      <td id=\"T_0c196_row1_col5\" class=\"data row1 col5\" >0.339</td>\n",
       "      <td id=\"T_0c196_row1_col6\" class=\"data row1 col6\" >0.440</td>\n",
       "      <td id=\"T_0c196_row1_col7\" class=\"data row1 col7\" >0.449</td>\n",
       "      <td id=\"T_0c196_row1_col8\" class=\"data row1 col8\" >0.423</td>\n",
       "      <td id=\"T_0c196_row1_col9\" class=\"data row1 col9\" >0.358</td>\n",
       "      <td id=\"T_0c196_row1_col10\" class=\"data row1 col10\" >0.510</td>\n",
       "      <td id=\"T_0c196_row1_col11\" class=\"data row1 col11\" >0.215</td>\n",
       "      <td id=\"T_0c196_row1_col12\" class=\"data row1 col12\" >0.381</td>\n",
       "      <td id=\"T_0c196_row1_col13\" class=\"data row1 col13\" >0.401</td>\n",
       "      <td id=\"T_0c196_row1_col14\" class=\"data row1 col14\" >0.318</td>\n",
       "      <td id=\"T_0c196_row1_col15\" class=\"data row1 col15\" >0.410</td>\n",
       "      <td id=\"T_0c196_row1_col16\" class=\"data row1 col16\" >0.468</td>\n",
       "      <td id=\"T_0c196_row1_col17\" class=\"data row1 col17\" >0.415</td>\n",
       "    </tr>\n",
       "    <tr>\n",
       "      <th id=\"T_0c196_level0_row2\" class=\"row_heading level0 row2\" >kappa_rank2rank_onlypos_max</th>\n",
       "      <th id=\"T_0c196_level1_row2\" class=\"row_heading level1 row2\" >0.100000</th>\n",
       "      <td id=\"T_0c196_row2_col0\" class=\"data row2 col0\" >-</td>\n",
       "      <td id=\"T_0c196_row2_col1\" class=\"data row2 col1\" >-</td>\n",
       "      <td id=\"T_0c196_row2_col2\" class=\"data row2 col2\" >-</td>\n",
       "      <td id=\"T_0c196_row2_col3\" class=\"data row2 col3\" >0.405</td>\n",
       "      <td id=\"T_0c196_row2_col4\" class=\"data row2 col4\" >-</td>\n",
       "      <td id=\"T_0c196_row2_col5\" class=\"data row2 col5\" >-</td>\n",
       "      <td id=\"T_0c196_row2_col6\" class=\"data row2 col6\" >-</td>\n",
       "      <td id=\"T_0c196_row2_col7\" class=\"data row2 col7\" >-</td>\n",
       "      <td id=\"T_0c196_row2_col8\" class=\"data row2 col8\" >-</td>\n",
       "      <td id=\"T_0c196_row2_col9\" class=\"data row2 col9\" >-</td>\n",
       "      <td id=\"T_0c196_row2_col10\" class=\"data row2 col10\" >-</td>\n",
       "      <td id=\"T_0c196_row2_col11\" class=\"data row2 col11\" >-</td>\n",
       "      <td id=\"T_0c196_row2_col12\" class=\"data row2 col12\" >-</td>\n",
       "      <td id=\"T_0c196_row2_col13\" class=\"data row2 col13\" >-</td>\n",
       "      <td id=\"T_0c196_row2_col14\" class=\"data row2 col14\" >-</td>\n",
       "      <td id=\"T_0c196_row2_col15\" class=\"data row2 col15\" >-</td>\n",
       "      <td id=\"T_0c196_row2_col16\" class=\"data row2 col16\" >-</td>\n",
       "      <td id=\"T_0c196_row2_col17\" class=\"data row2 col17\" >-</td>\n",
       "    </tr>\n",
       "    <tr>\n",
       "      <th id=\"T_0c196_level0_row3\" class=\"row_heading level0 row3\" >kappa_rank2rank_onlypos_min</th>\n",
       "      <th id=\"T_0c196_level1_row3\" class=\"row_heading level1 row3\" >0.200000</th>\n",
       "      <td id=\"T_0c196_row3_col0\" class=\"data row3 col0\" >0.375</td>\n",
       "      <td id=\"T_0c196_row3_col1\" class=\"data row3 col1\" >0.458</td>\n",
       "      <td id=\"T_0c196_row3_col2\" class=\"data row3 col2\" >0.392</td>\n",
       "      <td id=\"T_0c196_row3_col3\" class=\"data row3 col3\" >0.370</td>\n",
       "      <td id=\"T_0c196_row3_col4\" class=\"data row3 col4\" >0.314</td>\n",
       "      <td id=\"T_0c196_row3_col5\" class=\"data row3 col5\" >0.422</td>\n",
       "      <td id=\"T_0c196_row3_col6\" class=\"data row3 col6\" >0.409</td>\n",
       "      <td id=\"T_0c196_row3_col7\" class=\"data row3 col7\" >0.338</td>\n",
       "      <td id=\"T_0c196_row3_col8\" class=\"data row3 col8\" >0.366</td>\n",
       "      <td id=\"T_0c196_row3_col9\" class=\"data row3 col9\" >0.470</td>\n",
       "      <td id=\"T_0c196_row3_col10\" class=\"data row3 col10\" >0.539</td>\n",
       "      <td id=\"T_0c196_row3_col11\" class=\"data row3 col11\" >0.473</td>\n",
       "      <td id=\"T_0c196_row3_col12\" class=\"data row3 col12\" >0.465</td>\n",
       "      <td id=\"T_0c196_row3_col13\" class=\"data row3 col13\" >0.503</td>\n",
       "      <td id=\"T_0c196_row3_col14\" class=\"data row3 col14\" >0.485</td>\n",
       "      <td id=\"T_0c196_row3_col15\" class=\"data row3 col15\" >0.476</td>\n",
       "      <td id=\"T_0c196_row3_col16\" class=\"data row3 col16\" >0.406</td>\n",
       "      <td id=\"T_0c196_row3_col17\" class=\"data row3 col17\" >0.439</td>\n",
       "    </tr>\n",
       "  </tbody>\n",
       "</table>\n"
      ],
      "text/plain": [
       "<pandas.io.formats.style.Styler at 0x7f8841e56230>"
      ]
     },
     "metadata": {},
     "output_type": "display_data"
    },
    {
     "name": "stdout",
     "output_type": "stream",
     "text": [
      "Best f1: 0.5389\n",
      "MA_DATASET=placetypes;MA_LANGUAGE=en;MA_DEBUG=False;MA_PP_COMPONENTS=none;MA_TRANSLATE_POLICY=onlyorig;MA_MIN_WORDS_PER_DESC=50;MA_QUANTIFICATION_MEASURE=tfidf;MA_EMBED_ALGO=mds;MA_EMBED_DIMENSIONS=3;MA_EXTRACTION_METHOD=all;MA_DCM_QUANT_MEASURE=ppmi;MA_KAPPA_WEIGHTS=quadratic;MA_CLASSIFIER_SUCCMETRIC=kappa_rank2rank_onlypos_min;MA_PRIM_LAMBDA=0.5;MA_SEC_LAMBDA=0.2;MA_CLUSTER_DIRECTION_ALGO=reclassify\n",
      "cluster_reprs\n"
     ]
    },
    {
     "data": {
      "text/markdown": [
       "Best f1: **0.5389** <br><br> "
      ],
      "text/plain": [
       "<IPython.core.display.Markdown object>"
      ]
     },
     "metadata": {},
     "output_type": "display_data"
    },
    {
     "data": {
      "text/markdown": [
       "### Best for: Geonames, depth None"
      ],
      "text/plain": [
       "<IPython.core.display.Markdown object>"
      ]
     },
     "metadata": {},
     "output_type": "display_data"
    },
    {
     "data": {
      "application/vnd.jupyter.widget-view+json": {
       "model_id": "db051b8120c540b39ba972b7ac936bd2",
       "version_major": 2,
       "version_minor": 0
      },
      "text/plain": [
       "Getting Best-Performing Config [5 procs]:   0%|          | 0/43 [00:00<?, ?it/s]"
      ]
     },
     "metadata": {},
     "output_type": "display_data"
    },
    {
     "data": {
      "text/html": [
       "<style type=\"text/css\">\n",
       "#T_92455 th {\n",
       "  vertical-align: top;\n",
       "  text-align: left;\n",
       "}\n",
       "#T_92455_row3_col10 {\n",
       "  background-color: lightgreen;\n",
       "}\n",
       "</style>\n",
       "<table id=\"T_92455\">\n",
       "  <thead>\n",
       "    <tr>\n",
       "      <th class=\"blank\" >&nbsp;</th>\n",
       "      <th class=\"blank level0\" >&nbsp;</th>\n",
       "      <th id=\"T_92455_level0_col0\" class=\"col_heading level0 col0\" colspan=\"18\">f1</th>\n",
       "    </tr>\n",
       "    <tr>\n",
       "      <th class=\"blank\" >&nbsp;</th>\n",
       "      <th class=\"index_name level1\" >quantification_measure</th>\n",
       "      <th id=\"T_92455_level1_col0\" class=\"col_heading level1 col0\" colspan=\"9\">ppmi</th>\n",
       "      <th id=\"T_92455_level1_col9\" class=\"col_heading level1 col9\" colspan=\"9\">tfidf</th>\n",
       "    </tr>\n",
       "    <tr>\n",
       "      <th class=\"blank\" >&nbsp;</th>\n",
       "      <th class=\"index_name level2\" >embed_dimensions</th>\n",
       "      <th id=\"T_92455_level2_col0\" class=\"col_heading level2 col0\" colspan=\"3\">3</th>\n",
       "      <th id=\"T_92455_level2_col3\" class=\"col_heading level2 col3\" colspan=\"3\">50</th>\n",
       "      <th id=\"T_92455_level2_col6\" class=\"col_heading level2 col6\" colspan=\"3\">200</th>\n",
       "      <th id=\"T_92455_level2_col9\" class=\"col_heading level2 col9\" colspan=\"3\">3</th>\n",
       "      <th id=\"T_92455_level2_col12\" class=\"col_heading level2 col12\" colspan=\"3\">50</th>\n",
       "      <th id=\"T_92455_level2_col15\" class=\"col_heading level2 col15\" colspan=\"3\">200</th>\n",
       "    </tr>\n",
       "    <tr>\n",
       "      <th class=\"blank\" >&nbsp;</th>\n",
       "      <th class=\"index_name level3\" >dcm_quant_measure</th>\n",
       "      <th id=\"T_92455_level3_col0\" class=\"col_heading level3 col0\" >count</th>\n",
       "      <th id=\"T_92455_level3_col1\" class=\"col_heading level3 col1\" >ppmi</th>\n",
       "      <th id=\"T_92455_level3_col2\" class=\"col_heading level3 col2\" >tfidf</th>\n",
       "      <th id=\"T_92455_level3_col3\" class=\"col_heading level3 col3\" >count</th>\n",
       "      <th id=\"T_92455_level3_col4\" class=\"col_heading level3 col4\" >ppmi</th>\n",
       "      <th id=\"T_92455_level3_col5\" class=\"col_heading level3 col5\" >tfidf</th>\n",
       "      <th id=\"T_92455_level3_col6\" class=\"col_heading level3 col6\" >count</th>\n",
       "      <th id=\"T_92455_level3_col7\" class=\"col_heading level3 col7\" >ppmi</th>\n",
       "      <th id=\"T_92455_level3_col8\" class=\"col_heading level3 col8\" >tfidf</th>\n",
       "      <th id=\"T_92455_level3_col9\" class=\"col_heading level3 col9\" >count</th>\n",
       "      <th id=\"T_92455_level3_col10\" class=\"col_heading level3 col10\" >ppmi</th>\n",
       "      <th id=\"T_92455_level3_col11\" class=\"col_heading level3 col11\" >tfidf</th>\n",
       "      <th id=\"T_92455_level3_col12\" class=\"col_heading level3 col12\" >count</th>\n",
       "      <th id=\"T_92455_level3_col13\" class=\"col_heading level3 col13\" >ppmi</th>\n",
       "      <th id=\"T_92455_level3_col14\" class=\"col_heading level3 col14\" >tfidf</th>\n",
       "      <th id=\"T_92455_level3_col15\" class=\"col_heading level3 col15\" >count</th>\n",
       "      <th id=\"T_92455_level3_col16\" class=\"col_heading level3 col16\" >ppmi</th>\n",
       "      <th id=\"T_92455_level3_col17\" class=\"col_heading level3 col17\" >tfidf</th>\n",
       "    </tr>\n",
       "    <tr>\n",
       "      <th class=\"index_name level0\" >classifier_succmetric</th>\n",
       "      <th class=\"index_name level1\" >sec_lambda</th>\n",
       "      <th class=\"blank col0\" >&nbsp;</th>\n",
       "      <th class=\"blank col1\" >&nbsp;</th>\n",
       "      <th class=\"blank col2\" >&nbsp;</th>\n",
       "      <th class=\"blank col3\" >&nbsp;</th>\n",
       "      <th class=\"blank col4\" >&nbsp;</th>\n",
       "      <th class=\"blank col5\" >&nbsp;</th>\n",
       "      <th class=\"blank col6\" >&nbsp;</th>\n",
       "      <th class=\"blank col7\" >&nbsp;</th>\n",
       "      <th class=\"blank col8\" >&nbsp;</th>\n",
       "      <th class=\"blank col9\" >&nbsp;</th>\n",
       "      <th class=\"blank col10\" >&nbsp;</th>\n",
       "      <th class=\"blank col11\" >&nbsp;</th>\n",
       "      <th class=\"blank col12\" >&nbsp;</th>\n",
       "      <th class=\"blank col13\" >&nbsp;</th>\n",
       "      <th class=\"blank col14\" >&nbsp;</th>\n",
       "      <th class=\"blank col15\" >&nbsp;</th>\n",
       "      <th class=\"blank col16\" >&nbsp;</th>\n",
       "      <th class=\"blank col17\" >&nbsp;</th>\n",
       "    </tr>\n",
       "  </thead>\n",
       "  <tbody>\n",
       "    <tr>\n",
       "      <th id=\"T_92455_level0_row0\" class=\"row_heading level0 row0\" >kappa_count2rank_onlypos</th>\n",
       "      <th id=\"T_92455_level1_row0\" class=\"row_heading level1 row0\" >0.200000</th>\n",
       "      <td id=\"T_92455_row0_col0\" class=\"data row0 col0\" >0.344</td>\n",
       "      <td id=\"T_92455_row0_col1\" class=\"data row0 col1\" >-</td>\n",
       "      <td id=\"T_92455_row0_col2\" class=\"data row0 col2\" >-</td>\n",
       "      <td id=\"T_92455_row0_col3\" class=\"data row0 col3\" >0.342</td>\n",
       "      <td id=\"T_92455_row0_col4\" class=\"data row0 col4\" >-</td>\n",
       "      <td id=\"T_92455_row0_col5\" class=\"data row0 col5\" >-</td>\n",
       "      <td id=\"T_92455_row0_col6\" class=\"data row0 col6\" >0.400</td>\n",
       "      <td id=\"T_92455_row0_col7\" class=\"data row0 col7\" >-</td>\n",
       "      <td id=\"T_92455_row0_col8\" class=\"data row0 col8\" >-</td>\n",
       "      <td id=\"T_92455_row0_col9\" class=\"data row0 col9\" >0.386</td>\n",
       "      <td id=\"T_92455_row0_col10\" class=\"data row0 col10\" >-</td>\n",
       "      <td id=\"T_92455_row0_col11\" class=\"data row0 col11\" >-</td>\n",
       "      <td id=\"T_92455_row0_col12\" class=\"data row0 col12\" >0.400</td>\n",
       "      <td id=\"T_92455_row0_col13\" class=\"data row0 col13\" >-</td>\n",
       "      <td id=\"T_92455_row0_col14\" class=\"data row0 col14\" >-</td>\n",
       "      <td id=\"T_92455_row0_col15\" class=\"data row0 col15\" >0.383</td>\n",
       "      <td id=\"T_92455_row0_col16\" class=\"data row0 col16\" >-</td>\n",
       "      <td id=\"T_92455_row0_col17\" class=\"data row0 col17\" >-</td>\n",
       "    </tr>\n",
       "    <tr>\n",
       "      <th id=\"T_92455_level0_row1\" class=\"row_heading level0 row1\" >kappa_digitized_onlypos_2</th>\n",
       "      <th id=\"T_92455_level1_row1\" class=\"row_heading level1 row1\" >0.200000</th>\n",
       "      <td id=\"T_92455_row1_col0\" class=\"data row1 col0\" >0.284</td>\n",
       "      <td id=\"T_92455_row1_col1\" class=\"data row1 col1\" >0.273</td>\n",
       "      <td id=\"T_92455_row1_col2\" class=\"data row1 col2\" >0.291</td>\n",
       "      <td id=\"T_92455_row1_col3\" class=\"data row1 col3\" >0.269</td>\n",
       "      <td id=\"T_92455_row1_col4\" class=\"data row1 col4\" >0.363</td>\n",
       "      <td id=\"T_92455_row1_col5\" class=\"data row1 col5\" >0.290</td>\n",
       "      <td id=\"T_92455_row1_col6\" class=\"data row1 col6\" >0.426</td>\n",
       "      <td id=\"T_92455_row1_col7\" class=\"data row1 col7\" >0.317</td>\n",
       "      <td id=\"T_92455_row1_col8\" class=\"data row1 col8\" >0.327</td>\n",
       "      <td id=\"T_92455_row1_col9\" class=\"data row1 col9\" >0.349</td>\n",
       "      <td id=\"T_92455_row1_col10\" class=\"data row1 col10\" >0.416</td>\n",
       "      <td id=\"T_92455_row1_col11\" class=\"data row1 col11\" >0.267</td>\n",
       "      <td id=\"T_92455_row1_col12\" class=\"data row1 col12\" >0.273</td>\n",
       "      <td id=\"T_92455_row1_col13\" class=\"data row1 col13\" >0.360</td>\n",
       "      <td id=\"T_92455_row1_col14\" class=\"data row1 col14\" >0.284</td>\n",
       "      <td id=\"T_92455_row1_col15\" class=\"data row1 col15\" >0.397</td>\n",
       "      <td id=\"T_92455_row1_col16\" class=\"data row1 col16\" >0.421</td>\n",
       "      <td id=\"T_92455_row1_col17\" class=\"data row1 col17\" >0.316</td>\n",
       "    </tr>\n",
       "    <tr>\n",
       "      <th id=\"T_92455_level0_row2\" class=\"row_heading level0 row2\" >kappa_rank2rank_onlypos_max</th>\n",
       "      <th id=\"T_92455_level1_row2\" class=\"row_heading level1 row2\" >0.100000</th>\n",
       "      <td id=\"T_92455_row2_col0\" class=\"data row2 col0\" >-</td>\n",
       "      <td id=\"T_92455_row2_col1\" class=\"data row2 col1\" >-</td>\n",
       "      <td id=\"T_92455_row2_col2\" class=\"data row2 col2\" >-</td>\n",
       "      <td id=\"T_92455_row2_col3\" class=\"data row2 col3\" >0.371</td>\n",
       "      <td id=\"T_92455_row2_col4\" class=\"data row2 col4\" >-</td>\n",
       "      <td id=\"T_92455_row2_col5\" class=\"data row2 col5\" >-</td>\n",
       "      <td id=\"T_92455_row2_col6\" class=\"data row2 col6\" >-</td>\n",
       "      <td id=\"T_92455_row2_col7\" class=\"data row2 col7\" >-</td>\n",
       "      <td id=\"T_92455_row2_col8\" class=\"data row2 col8\" >-</td>\n",
       "      <td id=\"T_92455_row2_col9\" class=\"data row2 col9\" >-</td>\n",
       "      <td id=\"T_92455_row2_col10\" class=\"data row2 col10\" >-</td>\n",
       "      <td id=\"T_92455_row2_col11\" class=\"data row2 col11\" >-</td>\n",
       "      <td id=\"T_92455_row2_col12\" class=\"data row2 col12\" >-</td>\n",
       "      <td id=\"T_92455_row2_col13\" class=\"data row2 col13\" >-</td>\n",
       "      <td id=\"T_92455_row2_col14\" class=\"data row2 col14\" >-</td>\n",
       "      <td id=\"T_92455_row2_col15\" class=\"data row2 col15\" >-</td>\n",
       "      <td id=\"T_92455_row2_col16\" class=\"data row2 col16\" >-</td>\n",
       "      <td id=\"T_92455_row2_col17\" class=\"data row2 col17\" >-</td>\n",
       "    </tr>\n",
       "    <tr>\n",
       "      <th id=\"T_92455_level0_row3\" class=\"row_heading level0 row3\" >kappa_rank2rank_onlypos_min</th>\n",
       "      <th id=\"T_92455_level1_row3\" class=\"row_heading level1 row3\" >0.200000</th>\n",
       "      <td id=\"T_92455_row3_col0\" class=\"data row3 col0\" >0.407</td>\n",
       "      <td id=\"T_92455_row3_col1\" class=\"data row3 col1\" >0.296</td>\n",
       "      <td id=\"T_92455_row3_col2\" class=\"data row3 col2\" >0.275</td>\n",
       "      <td id=\"T_92455_row3_col3\" class=\"data row3 col3\" >0.402</td>\n",
       "      <td id=\"T_92455_row3_col4\" class=\"data row3 col4\" >0.288</td>\n",
       "      <td id=\"T_92455_row3_col5\" class=\"data row3 col5\" >0.404</td>\n",
       "      <td id=\"T_92455_row3_col6\" class=\"data row3 col6\" >0.345</td>\n",
       "      <td id=\"T_92455_row3_col7\" class=\"data row3 col7\" >0.354</td>\n",
       "      <td id=\"T_92455_row3_col8\" class=\"data row3 col8\" >0.253</td>\n",
       "      <td id=\"T_92455_row3_col9\" class=\"data row3 col9\" >0.381</td>\n",
       "      <td id=\"T_92455_row3_col10\" class=\"data row3 col10\" >0.464</td>\n",
       "      <td id=\"T_92455_row3_col11\" class=\"data row3 col11\" >0.379</td>\n",
       "      <td id=\"T_92455_row3_col12\" class=\"data row3 col12\" >0.413</td>\n",
       "      <td id=\"T_92455_row3_col13\" class=\"data row3 col13\" >0.443</td>\n",
       "      <td id=\"T_92455_row3_col14\" class=\"data row3 col14\" >0.448</td>\n",
       "      <td id=\"T_92455_row3_col15\" class=\"data row3 col15\" >0.426</td>\n",
       "      <td id=\"T_92455_row3_col16\" class=\"data row3 col16\" >0.374</td>\n",
       "      <td id=\"T_92455_row3_col17\" class=\"data row3 col17\" >0.440</td>\n",
       "    </tr>\n",
       "  </tbody>\n",
       "</table>\n"
      ],
      "text/plain": [
       "<pandas.io.formats.style.Styler at 0x7f8841e57670>"
      ]
     },
     "metadata": {},
     "output_type": "display_data"
    },
    {
     "name": "stdout",
     "output_type": "stream",
     "text": [
      "Best f1: 0.4637\n",
      "MA_DATASET=placetypes;MA_LANGUAGE=en;MA_DEBUG=False;MA_PP_COMPONENTS=none;MA_TRANSLATE_POLICY=onlyorig;MA_MIN_WORDS_PER_DESC=50;MA_QUANTIFICATION_MEASURE=tfidf;MA_EMBED_ALGO=mds;MA_EMBED_DIMENSIONS=3;MA_EXTRACTION_METHOD=all;MA_DCM_QUANT_MEASURE=ppmi;MA_KAPPA_WEIGHTS=quadratic;MA_CLASSIFIER_SUCCMETRIC=kappa_rank2rank_onlypos_min;MA_PRIM_LAMBDA=0.5;MA_SEC_LAMBDA=0.2;MA_CLUSTER_DIRECTION_ALGO=reclassify\n",
      "cluster_reprs\n"
     ]
    },
    {
     "data": {
      "text/markdown": [
       "Best f1: **0.4637** <br><br> "
      ],
      "text/plain": [
       "<IPython.core.display.Markdown object>"
      ]
     },
     "metadata": {},
     "output_type": "display_data"
    },
    {
     "data": {
      "text/markdown": [
       "### Best for: Foursquare, depth 1"
      ],
      "text/plain": [
       "<IPython.core.display.Markdown object>"
      ]
     },
     "metadata": {},
     "output_type": "display_data"
    },
    {
     "data": {
      "application/vnd.jupyter.widget-view+json": {
       "model_id": "8dea912d0de641b9a0aab7456f2bf2d8",
       "version_major": 2,
       "version_minor": 0
      },
      "text/plain": [
       "Getting Best-Performing Config [5 procs]:   0%|          | 0/43 [00:00<?, ?it/s]"
      ]
     },
     "metadata": {},
     "output_type": "display_data"
    },
    {
     "data": {
      "text/html": [
       "<style type=\"text/css\">\n",
       "#T_e676e th {\n",
       "  vertical-align: top;\n",
       "  text-align: left;\n",
       "}\n",
       "#T_e676e_row3_col14 {\n",
       "  background-color: lightgreen;\n",
       "}\n",
       "</style>\n",
       "<table id=\"T_e676e\">\n",
       "  <thead>\n",
       "    <tr>\n",
       "      <th class=\"blank\" >&nbsp;</th>\n",
       "      <th class=\"blank level0\" >&nbsp;</th>\n",
       "      <th id=\"T_e676e_level0_col0\" class=\"col_heading level0 col0\" colspan=\"18\">f1</th>\n",
       "    </tr>\n",
       "    <tr>\n",
       "      <th class=\"blank\" >&nbsp;</th>\n",
       "      <th class=\"index_name level1\" >quantification_measure</th>\n",
       "      <th id=\"T_e676e_level1_col0\" class=\"col_heading level1 col0\" colspan=\"9\">ppmi</th>\n",
       "      <th id=\"T_e676e_level1_col9\" class=\"col_heading level1 col9\" colspan=\"9\">tfidf</th>\n",
       "    </tr>\n",
       "    <tr>\n",
       "      <th class=\"blank\" >&nbsp;</th>\n",
       "      <th class=\"index_name level2\" >embed_dimensions</th>\n",
       "      <th id=\"T_e676e_level2_col0\" class=\"col_heading level2 col0\" colspan=\"3\">3</th>\n",
       "      <th id=\"T_e676e_level2_col3\" class=\"col_heading level2 col3\" colspan=\"3\">50</th>\n",
       "      <th id=\"T_e676e_level2_col6\" class=\"col_heading level2 col6\" colspan=\"3\">200</th>\n",
       "      <th id=\"T_e676e_level2_col9\" class=\"col_heading level2 col9\" colspan=\"3\">3</th>\n",
       "      <th id=\"T_e676e_level2_col12\" class=\"col_heading level2 col12\" colspan=\"3\">50</th>\n",
       "      <th id=\"T_e676e_level2_col15\" class=\"col_heading level2 col15\" colspan=\"3\">200</th>\n",
       "    </tr>\n",
       "    <tr>\n",
       "      <th class=\"blank\" >&nbsp;</th>\n",
       "      <th class=\"index_name level3\" >dcm_quant_measure</th>\n",
       "      <th id=\"T_e676e_level3_col0\" class=\"col_heading level3 col0\" >count</th>\n",
       "      <th id=\"T_e676e_level3_col1\" class=\"col_heading level3 col1\" >ppmi</th>\n",
       "      <th id=\"T_e676e_level3_col2\" class=\"col_heading level3 col2\" >tfidf</th>\n",
       "      <th id=\"T_e676e_level3_col3\" class=\"col_heading level3 col3\" >count</th>\n",
       "      <th id=\"T_e676e_level3_col4\" class=\"col_heading level3 col4\" >ppmi</th>\n",
       "      <th id=\"T_e676e_level3_col5\" class=\"col_heading level3 col5\" >tfidf</th>\n",
       "      <th id=\"T_e676e_level3_col6\" class=\"col_heading level3 col6\" >count</th>\n",
       "      <th id=\"T_e676e_level3_col7\" class=\"col_heading level3 col7\" >ppmi</th>\n",
       "      <th id=\"T_e676e_level3_col8\" class=\"col_heading level3 col8\" >tfidf</th>\n",
       "      <th id=\"T_e676e_level3_col9\" class=\"col_heading level3 col9\" >count</th>\n",
       "      <th id=\"T_e676e_level3_col10\" class=\"col_heading level3 col10\" >ppmi</th>\n",
       "      <th id=\"T_e676e_level3_col11\" class=\"col_heading level3 col11\" >tfidf</th>\n",
       "      <th id=\"T_e676e_level3_col12\" class=\"col_heading level3 col12\" >count</th>\n",
       "      <th id=\"T_e676e_level3_col13\" class=\"col_heading level3 col13\" >ppmi</th>\n",
       "      <th id=\"T_e676e_level3_col14\" class=\"col_heading level3 col14\" >tfidf</th>\n",
       "      <th id=\"T_e676e_level3_col15\" class=\"col_heading level3 col15\" >count</th>\n",
       "      <th id=\"T_e676e_level3_col16\" class=\"col_heading level3 col16\" >ppmi</th>\n",
       "      <th id=\"T_e676e_level3_col17\" class=\"col_heading level3 col17\" >tfidf</th>\n",
       "    </tr>\n",
       "    <tr>\n",
       "      <th class=\"index_name level0\" >classifier_succmetric</th>\n",
       "      <th class=\"index_name level1\" >sec_lambda</th>\n",
       "      <th class=\"blank col0\" >&nbsp;</th>\n",
       "      <th class=\"blank col1\" >&nbsp;</th>\n",
       "      <th class=\"blank col2\" >&nbsp;</th>\n",
       "      <th class=\"blank col3\" >&nbsp;</th>\n",
       "      <th class=\"blank col4\" >&nbsp;</th>\n",
       "      <th class=\"blank col5\" >&nbsp;</th>\n",
       "      <th class=\"blank col6\" >&nbsp;</th>\n",
       "      <th class=\"blank col7\" >&nbsp;</th>\n",
       "      <th class=\"blank col8\" >&nbsp;</th>\n",
       "      <th class=\"blank col9\" >&nbsp;</th>\n",
       "      <th class=\"blank col10\" >&nbsp;</th>\n",
       "      <th class=\"blank col11\" >&nbsp;</th>\n",
       "      <th class=\"blank col12\" >&nbsp;</th>\n",
       "      <th class=\"blank col13\" >&nbsp;</th>\n",
       "      <th class=\"blank col14\" >&nbsp;</th>\n",
       "      <th class=\"blank col15\" >&nbsp;</th>\n",
       "      <th class=\"blank col16\" >&nbsp;</th>\n",
       "      <th class=\"blank col17\" >&nbsp;</th>\n",
       "    </tr>\n",
       "  </thead>\n",
       "  <tbody>\n",
       "    <tr>\n",
       "      <th id=\"T_e676e_level0_row0\" class=\"row_heading level0 row0\" >kappa_count2rank_onlypos</th>\n",
       "      <th id=\"T_e676e_level1_row0\" class=\"row_heading level1 row0\" >0.200000</th>\n",
       "      <td id=\"T_e676e_row0_col0\" class=\"data row0 col0\" >0.405</td>\n",
       "      <td id=\"T_e676e_row0_col1\" class=\"data row0 col1\" >-</td>\n",
       "      <td id=\"T_e676e_row0_col2\" class=\"data row0 col2\" >-</td>\n",
       "      <td id=\"T_e676e_row0_col3\" class=\"data row0 col3\" >0.399</td>\n",
       "      <td id=\"T_e676e_row0_col4\" class=\"data row0 col4\" >-</td>\n",
       "      <td id=\"T_e676e_row0_col5\" class=\"data row0 col5\" >-</td>\n",
       "      <td id=\"T_e676e_row0_col6\" class=\"data row0 col6\" >0.346</td>\n",
       "      <td id=\"T_e676e_row0_col7\" class=\"data row0 col7\" >-</td>\n",
       "      <td id=\"T_e676e_row0_col8\" class=\"data row0 col8\" >-</td>\n",
       "      <td id=\"T_e676e_row0_col9\" class=\"data row0 col9\" >0.420</td>\n",
       "      <td id=\"T_e676e_row0_col10\" class=\"data row0 col10\" >-</td>\n",
       "      <td id=\"T_e676e_row0_col11\" class=\"data row0 col11\" >-</td>\n",
       "      <td id=\"T_e676e_row0_col12\" class=\"data row0 col12\" >0.457</td>\n",
       "      <td id=\"T_e676e_row0_col13\" class=\"data row0 col13\" >-</td>\n",
       "      <td id=\"T_e676e_row0_col14\" class=\"data row0 col14\" >-</td>\n",
       "      <td id=\"T_e676e_row0_col15\" class=\"data row0 col15\" >0.445</td>\n",
       "      <td id=\"T_e676e_row0_col16\" class=\"data row0 col16\" >-</td>\n",
       "      <td id=\"T_e676e_row0_col17\" class=\"data row0 col17\" >-</td>\n",
       "    </tr>\n",
       "    <tr>\n",
       "      <th id=\"T_e676e_level0_row1\" class=\"row_heading level0 row1\" >kappa_digitized_onlypos_2</th>\n",
       "      <th id=\"T_e676e_level1_row1\" class=\"row_heading level1 row1\" >0.200000</th>\n",
       "      <td id=\"T_e676e_row1_col0\" class=\"data row1 col0\" >0.273</td>\n",
       "      <td id=\"T_e676e_row1_col1\" class=\"data row1 col1\" >0.293</td>\n",
       "      <td id=\"T_e676e_row1_col2\" class=\"data row1 col2\" >0.338</td>\n",
       "      <td id=\"T_e676e_row1_col3\" class=\"data row1 col3\" >0.321</td>\n",
       "      <td id=\"T_e676e_row1_col4\" class=\"data row1 col4\" >0.340</td>\n",
       "      <td id=\"T_e676e_row1_col5\" class=\"data row1 col5\" >0.313</td>\n",
       "      <td id=\"T_e676e_row1_col6\" class=\"data row1 col6\" >0.390</td>\n",
       "      <td id=\"T_e676e_row1_col7\" class=\"data row1 col7\" >0.343</td>\n",
       "      <td id=\"T_e676e_row1_col8\" class=\"data row1 col8\" >0.397</td>\n",
       "      <td id=\"T_e676e_row1_col9\" class=\"data row1 col9\" >0.348</td>\n",
       "      <td id=\"T_e676e_row1_col10\" class=\"data row1 col10\" >0.474</td>\n",
       "      <td id=\"T_e676e_row1_col11\" class=\"data row1 col11\" >0.367</td>\n",
       "      <td id=\"T_e676e_row1_col12\" class=\"data row1 col12\" >0.314</td>\n",
       "      <td id=\"T_e676e_row1_col13\" class=\"data row1 col13\" >0.395</td>\n",
       "      <td id=\"T_e676e_row1_col14\" class=\"data row1 col14\" >0.350</td>\n",
       "      <td id=\"T_e676e_row1_col15\" class=\"data row1 col15\" >0.450</td>\n",
       "      <td id=\"T_e676e_row1_col16\" class=\"data row1 col16\" >0.386</td>\n",
       "      <td id=\"T_e676e_row1_col17\" class=\"data row1 col17\" >0.394</td>\n",
       "    </tr>\n",
       "    <tr>\n",
       "      <th id=\"T_e676e_level0_row2\" class=\"row_heading level0 row2\" >kappa_rank2rank_onlypos_max</th>\n",
       "      <th id=\"T_e676e_level1_row2\" class=\"row_heading level1 row2\" >0.100000</th>\n",
       "      <td id=\"T_e676e_row2_col0\" class=\"data row2 col0\" >-</td>\n",
       "      <td id=\"T_e676e_row2_col1\" class=\"data row2 col1\" >-</td>\n",
       "      <td id=\"T_e676e_row2_col2\" class=\"data row2 col2\" >-</td>\n",
       "      <td id=\"T_e676e_row2_col3\" class=\"data row2 col3\" >0.430</td>\n",
       "      <td id=\"T_e676e_row2_col4\" class=\"data row2 col4\" >-</td>\n",
       "      <td id=\"T_e676e_row2_col5\" class=\"data row2 col5\" >-</td>\n",
       "      <td id=\"T_e676e_row2_col6\" class=\"data row2 col6\" >-</td>\n",
       "      <td id=\"T_e676e_row2_col7\" class=\"data row2 col7\" >-</td>\n",
       "      <td id=\"T_e676e_row2_col8\" class=\"data row2 col8\" >-</td>\n",
       "      <td id=\"T_e676e_row2_col9\" class=\"data row2 col9\" >-</td>\n",
       "      <td id=\"T_e676e_row2_col10\" class=\"data row2 col10\" >-</td>\n",
       "      <td id=\"T_e676e_row2_col11\" class=\"data row2 col11\" >-</td>\n",
       "      <td id=\"T_e676e_row2_col12\" class=\"data row2 col12\" >-</td>\n",
       "      <td id=\"T_e676e_row2_col13\" class=\"data row2 col13\" >-</td>\n",
       "      <td id=\"T_e676e_row2_col14\" class=\"data row2 col14\" >-</td>\n",
       "      <td id=\"T_e676e_row2_col15\" class=\"data row2 col15\" >-</td>\n",
       "      <td id=\"T_e676e_row2_col16\" class=\"data row2 col16\" >-</td>\n",
       "      <td id=\"T_e676e_row2_col17\" class=\"data row2 col17\" >-</td>\n",
       "    </tr>\n",
       "    <tr>\n",
       "      <th id=\"T_e676e_level0_row3\" class=\"row_heading level0 row3\" >kappa_rank2rank_onlypos_min</th>\n",
       "      <th id=\"T_e676e_level1_row3\" class=\"row_heading level1 row3\" >0.200000</th>\n",
       "      <td id=\"T_e676e_row3_col0\" class=\"data row3 col0\" >0.298</td>\n",
       "      <td id=\"T_e676e_row3_col1\" class=\"data row3 col1\" >0.390</td>\n",
       "      <td id=\"T_e676e_row3_col2\" class=\"data row3 col2\" >0.357</td>\n",
       "      <td id=\"T_e676e_row3_col3\" class=\"data row3 col3\" >0.415</td>\n",
       "      <td id=\"T_e676e_row3_col4\" class=\"data row3 col4\" >0.418</td>\n",
       "      <td id=\"T_e676e_row3_col5\" class=\"data row3 col5\" >0.382</td>\n",
       "      <td id=\"T_e676e_row3_col6\" class=\"data row3 col6\" >0.379</td>\n",
       "      <td id=\"T_e676e_row3_col7\" class=\"data row3 col7\" >0.341</td>\n",
       "      <td id=\"T_e676e_row3_col8\" class=\"data row3 col8\" >0.401</td>\n",
       "      <td id=\"T_e676e_row3_col9\" class=\"data row3 col9\" >0.502</td>\n",
       "      <td id=\"T_e676e_row3_col10\" class=\"data row3 col10\" >0.500</td>\n",
       "      <td id=\"T_e676e_row3_col11\" class=\"data row3 col11\" >0.462</td>\n",
       "      <td id=\"T_e676e_row3_col12\" class=\"data row3 col12\" >0.370</td>\n",
       "      <td id=\"T_e676e_row3_col13\" class=\"data row3 col13\" >0.467</td>\n",
       "      <td id=\"T_e676e_row3_col14\" class=\"data row3 col14\" >0.504</td>\n",
       "      <td id=\"T_e676e_row3_col15\" class=\"data row3 col15\" >0.435</td>\n",
       "      <td id=\"T_e676e_row3_col16\" class=\"data row3 col16\" >0.409</td>\n",
       "      <td id=\"T_e676e_row3_col17\" class=\"data row3 col17\" >0.468</td>\n",
       "    </tr>\n",
       "  </tbody>\n",
       "</table>\n"
      ],
      "text/plain": [
       "<pandas.io.formats.style.Styler at 0x7f89017fa0e0>"
      ]
     },
     "metadata": {},
     "output_type": "display_data"
    },
    {
     "name": "stdout",
     "output_type": "stream",
     "text": [
      "Best f1: 0.5036\n",
      "MA_DATASET=placetypes;MA_LANGUAGE=en;MA_DEBUG=False;MA_PP_COMPONENTS=none;MA_TRANSLATE_POLICY=onlyorig;MA_MIN_WORDS_PER_DESC=50;MA_QUANTIFICATION_MEASURE=tfidf;MA_EMBED_ALGO=mds;MA_EMBED_DIMENSIONS=50;MA_EXTRACTION_METHOD=all;MA_DCM_QUANT_MEASURE=tfidf;MA_KAPPA_WEIGHTS=quadratic;MA_CLASSIFIER_SUCCMETRIC=kappa_rank2rank_onlypos_min;MA_PRIM_LAMBDA=0.5;MA_SEC_LAMBDA=0.2;MA_CLUSTER_DIRECTION_ALGO=reclassify\n",
      "cluster_reprs\n"
     ]
    },
    {
     "data": {
      "text/markdown": [
       "Best f1: **0.5036** <br><br> "
      ],
      "text/plain": [
       "<IPython.core.display.Markdown object>"
      ]
     },
     "metadata": {},
     "output_type": "display_data"
    },
    {
     "data": {
      "text/markdown": [
       "### Best for: Foursquare, depth 3"
      ],
      "text/plain": [
       "<IPython.core.display.Markdown object>"
      ]
     },
     "metadata": {},
     "output_type": "display_data"
    },
    {
     "data": {
      "application/vnd.jupyter.widget-view+json": {
       "model_id": "c39347215f7e4e18acc68b118a7fd467",
       "version_major": 2,
       "version_minor": 0
      },
      "text/plain": [
       "Getting Best-Performing Config [5 procs]:   0%|          | 0/43 [00:00<?, ?it/s]"
      ]
     },
     "metadata": {},
     "output_type": "display_data"
    },
    {
     "data": {
      "text/html": [
       "<style type=\"text/css\">\n",
       "#T_a4915 th {\n",
       "  vertical-align: top;\n",
       "  text-align: left;\n",
       "}\n",
       "#T_a4915_row3_col14 {\n",
       "  background-color: lightgreen;\n",
       "}\n",
       "</style>\n",
       "<table id=\"T_a4915\">\n",
       "  <thead>\n",
       "    <tr>\n",
       "      <th class=\"blank\" >&nbsp;</th>\n",
       "      <th class=\"blank level0\" >&nbsp;</th>\n",
       "      <th id=\"T_a4915_level0_col0\" class=\"col_heading level0 col0\" colspan=\"18\">f1</th>\n",
       "    </tr>\n",
       "    <tr>\n",
       "      <th class=\"blank\" >&nbsp;</th>\n",
       "      <th class=\"index_name level1\" >quantification_measure</th>\n",
       "      <th id=\"T_a4915_level1_col0\" class=\"col_heading level1 col0\" colspan=\"9\">ppmi</th>\n",
       "      <th id=\"T_a4915_level1_col9\" class=\"col_heading level1 col9\" colspan=\"9\">tfidf</th>\n",
       "    </tr>\n",
       "    <tr>\n",
       "      <th class=\"blank\" >&nbsp;</th>\n",
       "      <th class=\"index_name level2\" >embed_dimensions</th>\n",
       "      <th id=\"T_a4915_level2_col0\" class=\"col_heading level2 col0\" colspan=\"3\">3</th>\n",
       "      <th id=\"T_a4915_level2_col3\" class=\"col_heading level2 col3\" colspan=\"3\">50</th>\n",
       "      <th id=\"T_a4915_level2_col6\" class=\"col_heading level2 col6\" colspan=\"3\">200</th>\n",
       "      <th id=\"T_a4915_level2_col9\" class=\"col_heading level2 col9\" colspan=\"3\">3</th>\n",
       "      <th id=\"T_a4915_level2_col12\" class=\"col_heading level2 col12\" colspan=\"3\">50</th>\n",
       "      <th id=\"T_a4915_level2_col15\" class=\"col_heading level2 col15\" colspan=\"3\">200</th>\n",
       "    </tr>\n",
       "    <tr>\n",
       "      <th class=\"blank\" >&nbsp;</th>\n",
       "      <th class=\"index_name level3\" >dcm_quant_measure</th>\n",
       "      <th id=\"T_a4915_level3_col0\" class=\"col_heading level3 col0\" >count</th>\n",
       "      <th id=\"T_a4915_level3_col1\" class=\"col_heading level3 col1\" >ppmi</th>\n",
       "      <th id=\"T_a4915_level3_col2\" class=\"col_heading level3 col2\" >tfidf</th>\n",
       "      <th id=\"T_a4915_level3_col3\" class=\"col_heading level3 col3\" >count</th>\n",
       "      <th id=\"T_a4915_level3_col4\" class=\"col_heading level3 col4\" >ppmi</th>\n",
       "      <th id=\"T_a4915_level3_col5\" class=\"col_heading level3 col5\" >tfidf</th>\n",
       "      <th id=\"T_a4915_level3_col6\" class=\"col_heading level3 col6\" >count</th>\n",
       "      <th id=\"T_a4915_level3_col7\" class=\"col_heading level3 col7\" >ppmi</th>\n",
       "      <th id=\"T_a4915_level3_col8\" class=\"col_heading level3 col8\" >tfidf</th>\n",
       "      <th id=\"T_a4915_level3_col9\" class=\"col_heading level3 col9\" >count</th>\n",
       "      <th id=\"T_a4915_level3_col10\" class=\"col_heading level3 col10\" >ppmi</th>\n",
       "      <th id=\"T_a4915_level3_col11\" class=\"col_heading level3 col11\" >tfidf</th>\n",
       "      <th id=\"T_a4915_level3_col12\" class=\"col_heading level3 col12\" >count</th>\n",
       "      <th id=\"T_a4915_level3_col13\" class=\"col_heading level3 col13\" >ppmi</th>\n",
       "      <th id=\"T_a4915_level3_col14\" class=\"col_heading level3 col14\" >tfidf</th>\n",
       "      <th id=\"T_a4915_level3_col15\" class=\"col_heading level3 col15\" >count</th>\n",
       "      <th id=\"T_a4915_level3_col16\" class=\"col_heading level3 col16\" >ppmi</th>\n",
       "      <th id=\"T_a4915_level3_col17\" class=\"col_heading level3 col17\" >tfidf</th>\n",
       "    </tr>\n",
       "    <tr>\n",
       "      <th class=\"index_name level0\" >classifier_succmetric</th>\n",
       "      <th class=\"index_name level1\" >sec_lambda</th>\n",
       "      <th class=\"blank col0\" >&nbsp;</th>\n",
       "      <th class=\"blank col1\" >&nbsp;</th>\n",
       "      <th class=\"blank col2\" >&nbsp;</th>\n",
       "      <th class=\"blank col3\" >&nbsp;</th>\n",
       "      <th class=\"blank col4\" >&nbsp;</th>\n",
       "      <th class=\"blank col5\" >&nbsp;</th>\n",
       "      <th class=\"blank col6\" >&nbsp;</th>\n",
       "      <th class=\"blank col7\" >&nbsp;</th>\n",
       "      <th class=\"blank col8\" >&nbsp;</th>\n",
       "      <th class=\"blank col9\" >&nbsp;</th>\n",
       "      <th class=\"blank col10\" >&nbsp;</th>\n",
       "      <th class=\"blank col11\" >&nbsp;</th>\n",
       "      <th class=\"blank col12\" >&nbsp;</th>\n",
       "      <th class=\"blank col13\" >&nbsp;</th>\n",
       "      <th class=\"blank col14\" >&nbsp;</th>\n",
       "      <th class=\"blank col15\" >&nbsp;</th>\n",
       "      <th class=\"blank col16\" >&nbsp;</th>\n",
       "      <th class=\"blank col17\" >&nbsp;</th>\n",
       "    </tr>\n",
       "  </thead>\n",
       "  <tbody>\n",
       "    <tr>\n",
       "      <th id=\"T_a4915_level0_row0\" class=\"row_heading level0 row0\" >kappa_count2rank_onlypos</th>\n",
       "      <th id=\"T_a4915_level1_row0\" class=\"row_heading level1 row0\" >0.200000</th>\n",
       "      <td id=\"T_a4915_row0_col0\" class=\"data row0 col0\" >0.436</td>\n",
       "      <td id=\"T_a4915_row0_col1\" class=\"data row0 col1\" >-</td>\n",
       "      <td id=\"T_a4915_row0_col2\" class=\"data row0 col2\" >-</td>\n",
       "      <td id=\"T_a4915_row0_col3\" class=\"data row0 col3\" >0.443</td>\n",
       "      <td id=\"T_a4915_row0_col4\" class=\"data row0 col4\" >-</td>\n",
       "      <td id=\"T_a4915_row0_col5\" class=\"data row0 col5\" >-</td>\n",
       "      <td id=\"T_a4915_row0_col6\" class=\"data row0 col6\" >0.441</td>\n",
       "      <td id=\"T_a4915_row0_col7\" class=\"data row0 col7\" >-</td>\n",
       "      <td id=\"T_a4915_row0_col8\" class=\"data row0 col8\" >-</td>\n",
       "      <td id=\"T_a4915_row0_col9\" class=\"data row0 col9\" >0.557</td>\n",
       "      <td id=\"T_a4915_row0_col10\" class=\"data row0 col10\" >-</td>\n",
       "      <td id=\"T_a4915_row0_col11\" class=\"data row0 col11\" >-</td>\n",
       "      <td id=\"T_a4915_row0_col12\" class=\"data row0 col12\" >0.523</td>\n",
       "      <td id=\"T_a4915_row0_col13\" class=\"data row0 col13\" >-</td>\n",
       "      <td id=\"T_a4915_row0_col14\" class=\"data row0 col14\" >-</td>\n",
       "      <td id=\"T_a4915_row0_col15\" class=\"data row0 col15\" >0.437</td>\n",
       "      <td id=\"T_a4915_row0_col16\" class=\"data row0 col16\" >-</td>\n",
       "      <td id=\"T_a4915_row0_col17\" class=\"data row0 col17\" >-</td>\n",
       "    </tr>\n",
       "    <tr>\n",
       "      <th id=\"T_a4915_level0_row1\" class=\"row_heading level0 row1\" >kappa_digitized_onlypos_2</th>\n",
       "      <th id=\"T_a4915_level1_row1\" class=\"row_heading level1 row1\" >0.200000</th>\n",
       "      <td id=\"T_a4915_row1_col0\" class=\"data row1 col0\" >0.289</td>\n",
       "      <td id=\"T_a4915_row1_col1\" class=\"data row1 col1\" >0.260</td>\n",
       "      <td id=\"T_a4915_row1_col2\" class=\"data row1 col2\" >0.338</td>\n",
       "      <td id=\"T_a4915_row1_col3\" class=\"data row1 col3\" >0.309</td>\n",
       "      <td id=\"T_a4915_row1_col4\" class=\"data row1 col4\" >0.444</td>\n",
       "      <td id=\"T_a4915_row1_col5\" class=\"data row1 col5\" >0.337</td>\n",
       "      <td id=\"T_a4915_row1_col6\" class=\"data row1 col6\" >0.486</td>\n",
       "      <td id=\"T_a4915_row1_col7\" class=\"data row1 col7\" >0.337</td>\n",
       "      <td id=\"T_a4915_row1_col8\" class=\"data row1 col8\" >0.463</td>\n",
       "      <td id=\"T_a4915_row1_col9\" class=\"data row1 col9\" >0.340</td>\n",
       "      <td id=\"T_a4915_row1_col10\" class=\"data row1 col10\" >0.560</td>\n",
       "      <td id=\"T_a4915_row1_col11\" class=\"data row1 col11\" >0.347</td>\n",
       "      <td id=\"T_a4915_row1_col12\" class=\"data row1 col12\" >0.292</td>\n",
       "      <td id=\"T_a4915_row1_col13\" class=\"data row1 col13\" >0.467</td>\n",
       "      <td id=\"T_a4915_row1_col14\" class=\"data row1 col14\" >0.327</td>\n",
       "      <td id=\"T_a4915_row1_col15\" class=\"data row1 col15\" >0.477</td>\n",
       "      <td id=\"T_a4915_row1_col16\" class=\"data row1 col16\" >0.486</td>\n",
       "      <td id=\"T_a4915_row1_col17\" class=\"data row1 col17\" >0.475</td>\n",
       "    </tr>\n",
       "    <tr>\n",
       "      <th id=\"T_a4915_level0_row2\" class=\"row_heading level0 row2\" >kappa_rank2rank_onlypos_max</th>\n",
       "      <th id=\"T_a4915_level1_row2\" class=\"row_heading level1 row2\" >0.100000</th>\n",
       "      <td id=\"T_a4915_row2_col0\" class=\"data row2 col0\" >-</td>\n",
       "      <td id=\"T_a4915_row2_col1\" class=\"data row2 col1\" >-</td>\n",
       "      <td id=\"T_a4915_row2_col2\" class=\"data row2 col2\" >-</td>\n",
       "      <td id=\"T_a4915_row2_col3\" class=\"data row2 col3\" >0.451</td>\n",
       "      <td id=\"T_a4915_row2_col4\" class=\"data row2 col4\" >-</td>\n",
       "      <td id=\"T_a4915_row2_col5\" class=\"data row2 col5\" >-</td>\n",
       "      <td id=\"T_a4915_row2_col6\" class=\"data row2 col6\" >-</td>\n",
       "      <td id=\"T_a4915_row2_col7\" class=\"data row2 col7\" >-</td>\n",
       "      <td id=\"T_a4915_row2_col8\" class=\"data row2 col8\" >-</td>\n",
       "      <td id=\"T_a4915_row2_col9\" class=\"data row2 col9\" >-</td>\n",
       "      <td id=\"T_a4915_row2_col10\" class=\"data row2 col10\" >-</td>\n",
       "      <td id=\"T_a4915_row2_col11\" class=\"data row2 col11\" >-</td>\n",
       "      <td id=\"T_a4915_row2_col12\" class=\"data row2 col12\" >-</td>\n",
       "      <td id=\"T_a4915_row2_col13\" class=\"data row2 col13\" >-</td>\n",
       "      <td id=\"T_a4915_row2_col14\" class=\"data row2 col14\" >-</td>\n",
       "      <td id=\"T_a4915_row2_col15\" class=\"data row2 col15\" >-</td>\n",
       "      <td id=\"T_a4915_row2_col16\" class=\"data row2 col16\" >-</td>\n",
       "      <td id=\"T_a4915_row2_col17\" class=\"data row2 col17\" >-</td>\n",
       "    </tr>\n",
       "    <tr>\n",
       "      <th id=\"T_a4915_level0_row3\" class=\"row_heading level0 row3\" >kappa_rank2rank_onlypos_min</th>\n",
       "      <th id=\"T_a4915_level1_row3\" class=\"row_heading level1 row3\" >0.200000</th>\n",
       "      <td id=\"T_a4915_row3_col0\" class=\"data row3 col0\" >0.389</td>\n",
       "      <td id=\"T_a4915_row3_col1\" class=\"data row3 col1\" >0.384</td>\n",
       "      <td id=\"T_a4915_row3_col2\" class=\"data row3 col2\" >0.354</td>\n",
       "      <td id=\"T_a4915_row3_col3\" class=\"data row3 col3\" >0.503</td>\n",
       "      <td id=\"T_a4915_row3_col4\" class=\"data row3 col4\" >0.445</td>\n",
       "      <td id=\"T_a4915_row3_col5\" class=\"data row3 col5\" >0.449</td>\n",
       "      <td id=\"T_a4915_row3_col6\" class=\"data row3 col6\" >0.398</td>\n",
       "      <td id=\"T_a4915_row3_col7\" class=\"data row3 col7\" >0.370</td>\n",
       "      <td id=\"T_a4915_row3_col8\" class=\"data row3 col8\" >0.379</td>\n",
       "      <td id=\"T_a4915_row3_col9\" class=\"data row3 col9\" >0.574</td>\n",
       "      <td id=\"T_a4915_row3_col10\" class=\"data row3 col10\" >0.557</td>\n",
       "      <td id=\"T_a4915_row3_col11\" class=\"data row3 col11\" >0.532</td>\n",
       "      <td id=\"T_a4915_row3_col12\" class=\"data row3 col12\" >0.538</td>\n",
       "      <td id=\"T_a4915_row3_col13\" class=\"data row3 col13\" >0.567</td>\n",
       "      <td id=\"T_a4915_row3_col14\" class=\"data row3 col14\" >0.580</td>\n",
       "      <td id=\"T_a4915_row3_col15\" class=\"data row3 col15\" >0.521</td>\n",
       "      <td id=\"T_a4915_row3_col16\" class=\"data row3 col16\" >0.521</td>\n",
       "      <td id=\"T_a4915_row3_col17\" class=\"data row3 col17\" >0.561</td>\n",
       "    </tr>\n",
       "  </tbody>\n",
       "</table>\n"
      ],
      "text/plain": [
       "<pandas.io.formats.style.Styler at 0x7f88e1092dd0>"
      ]
     },
     "metadata": {},
     "output_type": "display_data"
    },
    {
     "name": "stdout",
     "output_type": "stream",
     "text": [
      "Best f1: 0.5799\n",
      "MA_DATASET=placetypes;MA_LANGUAGE=en;MA_DEBUG=False;MA_PP_COMPONENTS=none;MA_TRANSLATE_POLICY=onlyorig;MA_MIN_WORDS_PER_DESC=50;MA_QUANTIFICATION_MEASURE=tfidf;MA_EMBED_ALGO=mds;MA_EMBED_DIMENSIONS=50;MA_EXTRACTION_METHOD=all;MA_DCM_QUANT_MEASURE=tfidf;MA_KAPPA_WEIGHTS=quadratic;MA_CLASSIFIER_SUCCMETRIC=kappa_rank2rank_onlypos_min;MA_PRIM_LAMBDA=0.5;MA_SEC_LAMBDA=0.2;MA_CLUSTER_DIRECTION_ALGO=reclassify\n",
      "cluster_reprs\n"
     ]
    },
    {
     "data": {
      "text/markdown": [
       "Best f1: **0.5799** <br><br> "
      ],
      "text/plain": [
       "<IPython.core.display.Markdown object>"
      ]
     },
     "metadata": {},
     "output_type": "display_data"
    },
    {
     "data": {
      "text/markdown": [
       "### Best for: Foursquare, depth None"
      ],
      "text/plain": [
       "<IPython.core.display.Markdown object>"
      ]
     },
     "metadata": {},
     "output_type": "display_data"
    },
    {
     "data": {
      "application/vnd.jupyter.widget-view+json": {
       "model_id": "4912828963db4b4e8a8a9d710e0a7508",
       "version_major": 2,
       "version_minor": 0
      },
      "text/plain": [
       "Getting Best-Performing Config [5 procs]:   0%|          | 0/43 [00:00<?, ?it/s]"
      ]
     },
     "metadata": {},
     "output_type": "display_data"
    },
    {
     "data": {
      "text/html": [
       "<style type=\"text/css\">\n",
       "#T_14f15 th {\n",
       "  vertical-align: top;\n",
       "  text-align: left;\n",
       "}\n",
       "#T_14f15_row3_col16 {\n",
       "  background-color: lightgreen;\n",
       "}\n",
       "</style>\n",
       "<table id=\"T_14f15\">\n",
       "  <thead>\n",
       "    <tr>\n",
       "      <th class=\"blank\" >&nbsp;</th>\n",
       "      <th class=\"blank level0\" >&nbsp;</th>\n",
       "      <th id=\"T_14f15_level0_col0\" class=\"col_heading level0 col0\" colspan=\"18\">f1</th>\n",
       "    </tr>\n",
       "    <tr>\n",
       "      <th class=\"blank\" >&nbsp;</th>\n",
       "      <th class=\"index_name level1\" >quantification_measure</th>\n",
       "      <th id=\"T_14f15_level1_col0\" class=\"col_heading level1 col0\" colspan=\"9\">ppmi</th>\n",
       "      <th id=\"T_14f15_level1_col9\" class=\"col_heading level1 col9\" colspan=\"9\">tfidf</th>\n",
       "    </tr>\n",
       "    <tr>\n",
       "      <th class=\"blank\" >&nbsp;</th>\n",
       "      <th class=\"index_name level2\" >embed_dimensions</th>\n",
       "      <th id=\"T_14f15_level2_col0\" class=\"col_heading level2 col0\" colspan=\"3\">3</th>\n",
       "      <th id=\"T_14f15_level2_col3\" class=\"col_heading level2 col3\" colspan=\"3\">50</th>\n",
       "      <th id=\"T_14f15_level2_col6\" class=\"col_heading level2 col6\" colspan=\"3\">200</th>\n",
       "      <th id=\"T_14f15_level2_col9\" class=\"col_heading level2 col9\" colspan=\"3\">3</th>\n",
       "      <th id=\"T_14f15_level2_col12\" class=\"col_heading level2 col12\" colspan=\"3\">50</th>\n",
       "      <th id=\"T_14f15_level2_col15\" class=\"col_heading level2 col15\" colspan=\"3\">200</th>\n",
       "    </tr>\n",
       "    <tr>\n",
       "      <th class=\"blank\" >&nbsp;</th>\n",
       "      <th class=\"index_name level3\" >dcm_quant_measure</th>\n",
       "      <th id=\"T_14f15_level3_col0\" class=\"col_heading level3 col0\" >count</th>\n",
       "      <th id=\"T_14f15_level3_col1\" class=\"col_heading level3 col1\" >ppmi</th>\n",
       "      <th id=\"T_14f15_level3_col2\" class=\"col_heading level3 col2\" >tfidf</th>\n",
       "      <th id=\"T_14f15_level3_col3\" class=\"col_heading level3 col3\" >count</th>\n",
       "      <th id=\"T_14f15_level3_col4\" class=\"col_heading level3 col4\" >ppmi</th>\n",
       "      <th id=\"T_14f15_level3_col5\" class=\"col_heading level3 col5\" >tfidf</th>\n",
       "      <th id=\"T_14f15_level3_col6\" class=\"col_heading level3 col6\" >count</th>\n",
       "      <th id=\"T_14f15_level3_col7\" class=\"col_heading level3 col7\" >ppmi</th>\n",
       "      <th id=\"T_14f15_level3_col8\" class=\"col_heading level3 col8\" >tfidf</th>\n",
       "      <th id=\"T_14f15_level3_col9\" class=\"col_heading level3 col9\" >count</th>\n",
       "      <th id=\"T_14f15_level3_col10\" class=\"col_heading level3 col10\" >ppmi</th>\n",
       "      <th id=\"T_14f15_level3_col11\" class=\"col_heading level3 col11\" >tfidf</th>\n",
       "      <th id=\"T_14f15_level3_col12\" class=\"col_heading level3 col12\" >count</th>\n",
       "      <th id=\"T_14f15_level3_col13\" class=\"col_heading level3 col13\" >ppmi</th>\n",
       "      <th id=\"T_14f15_level3_col14\" class=\"col_heading level3 col14\" >tfidf</th>\n",
       "      <th id=\"T_14f15_level3_col15\" class=\"col_heading level3 col15\" >count</th>\n",
       "      <th id=\"T_14f15_level3_col16\" class=\"col_heading level3 col16\" >ppmi</th>\n",
       "      <th id=\"T_14f15_level3_col17\" class=\"col_heading level3 col17\" >tfidf</th>\n",
       "    </tr>\n",
       "    <tr>\n",
       "      <th class=\"index_name level0\" >classifier_succmetric</th>\n",
       "      <th class=\"index_name level1\" >sec_lambda</th>\n",
       "      <th class=\"blank col0\" >&nbsp;</th>\n",
       "      <th class=\"blank col1\" >&nbsp;</th>\n",
       "      <th class=\"blank col2\" >&nbsp;</th>\n",
       "      <th class=\"blank col3\" >&nbsp;</th>\n",
       "      <th class=\"blank col4\" >&nbsp;</th>\n",
       "      <th class=\"blank col5\" >&nbsp;</th>\n",
       "      <th class=\"blank col6\" >&nbsp;</th>\n",
       "      <th class=\"blank col7\" >&nbsp;</th>\n",
       "      <th class=\"blank col8\" >&nbsp;</th>\n",
       "      <th class=\"blank col9\" >&nbsp;</th>\n",
       "      <th class=\"blank col10\" >&nbsp;</th>\n",
       "      <th class=\"blank col11\" >&nbsp;</th>\n",
       "      <th class=\"blank col12\" >&nbsp;</th>\n",
       "      <th class=\"blank col13\" >&nbsp;</th>\n",
       "      <th class=\"blank col14\" >&nbsp;</th>\n",
       "      <th class=\"blank col15\" >&nbsp;</th>\n",
       "      <th class=\"blank col16\" >&nbsp;</th>\n",
       "      <th class=\"blank col17\" >&nbsp;</th>\n",
       "    </tr>\n",
       "  </thead>\n",
       "  <tbody>\n",
       "    <tr>\n",
       "      <th id=\"T_14f15_level0_row0\" class=\"row_heading level0 row0\" >kappa_count2rank_onlypos</th>\n",
       "      <th id=\"T_14f15_level1_row0\" class=\"row_heading level1 row0\" >0.200000</th>\n",
       "      <td id=\"T_14f15_row0_col0\" class=\"data row0 col0\" >0.360</td>\n",
       "      <td id=\"T_14f15_row0_col1\" class=\"data row0 col1\" >-</td>\n",
       "      <td id=\"T_14f15_row0_col2\" class=\"data row0 col2\" >-</td>\n",
       "      <td id=\"T_14f15_row0_col3\" class=\"data row0 col3\" >0.409</td>\n",
       "      <td id=\"T_14f15_row0_col4\" class=\"data row0 col4\" >-</td>\n",
       "      <td id=\"T_14f15_row0_col5\" class=\"data row0 col5\" >-</td>\n",
       "      <td id=\"T_14f15_row0_col6\" class=\"data row0 col6\" >0.440</td>\n",
       "      <td id=\"T_14f15_row0_col7\" class=\"data row0 col7\" >-</td>\n",
       "      <td id=\"T_14f15_row0_col8\" class=\"data row0 col8\" >-</td>\n",
       "      <td id=\"T_14f15_row0_col9\" class=\"data row0 col9\" >0.535</td>\n",
       "      <td id=\"T_14f15_row0_col10\" class=\"data row0 col10\" >-</td>\n",
       "      <td id=\"T_14f15_row0_col11\" class=\"data row0 col11\" >-</td>\n",
       "      <td id=\"T_14f15_row0_col12\" class=\"data row0 col12\" >0.504</td>\n",
       "      <td id=\"T_14f15_row0_col13\" class=\"data row0 col13\" >-</td>\n",
       "      <td id=\"T_14f15_row0_col14\" class=\"data row0 col14\" >-</td>\n",
       "      <td id=\"T_14f15_row0_col15\" class=\"data row0 col15\" >0.511</td>\n",
       "      <td id=\"T_14f15_row0_col16\" class=\"data row0 col16\" >-</td>\n",
       "      <td id=\"T_14f15_row0_col17\" class=\"data row0 col17\" >-</td>\n",
       "    </tr>\n",
       "    <tr>\n",
       "      <th id=\"T_14f15_level0_row1\" class=\"row_heading level0 row1\" >kappa_digitized_onlypos_2</th>\n",
       "      <th id=\"T_14f15_level1_row1\" class=\"row_heading level1 row1\" >0.200000</th>\n",
       "      <td id=\"T_14f15_row1_col0\" class=\"data row1 col0\" >0.221</td>\n",
       "      <td id=\"T_14f15_row1_col1\" class=\"data row1 col1\" >0.181</td>\n",
       "      <td id=\"T_14f15_row1_col2\" class=\"data row1 col2\" >0.194</td>\n",
       "      <td id=\"T_14f15_row1_col3\" class=\"data row1 col3\" >0.300</td>\n",
       "      <td id=\"T_14f15_row1_col4\" class=\"data row1 col4\" >0.395</td>\n",
       "      <td id=\"T_14f15_row1_col5\" class=\"data row1 col5\" >0.191</td>\n",
       "      <td id=\"T_14f15_row1_col6\" class=\"data row1 col6\" >0.434</td>\n",
       "      <td id=\"T_14f15_row1_col7\" class=\"data row1 col7\" >0.447</td>\n",
       "      <td id=\"T_14f15_row1_col8\" class=\"data row1 col8\" >0.401</td>\n",
       "      <td id=\"T_14f15_row1_col9\" class=\"data row1 col9\" >0.257</td>\n",
       "      <td id=\"T_14f15_row1_col10\" class=\"data row1 col10\" >0.505</td>\n",
       "      <td id=\"T_14f15_row1_col11\" class=\"data row1 col11\" >0.286</td>\n",
       "      <td id=\"T_14f15_row1_col12\" class=\"data row1 col12\" >0.134</td>\n",
       "      <td id=\"T_14f15_row1_col13\" class=\"data row1 col13\" >0.465</td>\n",
       "      <td id=\"T_14f15_row1_col14\" class=\"data row1 col14\" >0.268</td>\n",
       "      <td id=\"T_14f15_row1_col15\" class=\"data row1 col15\" >0.480</td>\n",
       "      <td id=\"T_14f15_row1_col16\" class=\"data row1 col16\" >0.511</td>\n",
       "      <td id=\"T_14f15_row1_col17\" class=\"data row1 col17\" >0.456</td>\n",
       "    </tr>\n",
       "    <tr>\n",
       "      <th id=\"T_14f15_level0_row2\" class=\"row_heading level0 row2\" >kappa_rank2rank_onlypos_max</th>\n",
       "      <th id=\"T_14f15_level1_row2\" class=\"row_heading level1 row2\" >0.100000</th>\n",
       "      <td id=\"T_14f15_row2_col0\" class=\"data row2 col0\" >-</td>\n",
       "      <td id=\"T_14f15_row2_col1\" class=\"data row2 col1\" >-</td>\n",
       "      <td id=\"T_14f15_row2_col2\" class=\"data row2 col2\" >-</td>\n",
       "      <td id=\"T_14f15_row2_col3\" class=\"data row2 col3\" >0.449</td>\n",
       "      <td id=\"T_14f15_row2_col4\" class=\"data row2 col4\" >-</td>\n",
       "      <td id=\"T_14f15_row2_col5\" class=\"data row2 col5\" >-</td>\n",
       "      <td id=\"T_14f15_row2_col6\" class=\"data row2 col6\" >-</td>\n",
       "      <td id=\"T_14f15_row2_col7\" class=\"data row2 col7\" >-</td>\n",
       "      <td id=\"T_14f15_row2_col8\" class=\"data row2 col8\" >-</td>\n",
       "      <td id=\"T_14f15_row2_col9\" class=\"data row2 col9\" >-</td>\n",
       "      <td id=\"T_14f15_row2_col10\" class=\"data row2 col10\" >-</td>\n",
       "      <td id=\"T_14f15_row2_col11\" class=\"data row2 col11\" >-</td>\n",
       "      <td id=\"T_14f15_row2_col12\" class=\"data row2 col12\" >-</td>\n",
       "      <td id=\"T_14f15_row2_col13\" class=\"data row2 col13\" >-</td>\n",
       "      <td id=\"T_14f15_row2_col14\" class=\"data row2 col14\" >-</td>\n",
       "      <td id=\"T_14f15_row2_col15\" class=\"data row2 col15\" >-</td>\n",
       "      <td id=\"T_14f15_row2_col16\" class=\"data row2 col16\" >-</td>\n",
       "      <td id=\"T_14f15_row2_col17\" class=\"data row2 col17\" >-</td>\n",
       "    </tr>\n",
       "    <tr>\n",
       "      <th id=\"T_14f15_level0_row3\" class=\"row_heading level0 row3\" >kappa_rank2rank_onlypos_min</th>\n",
       "      <th id=\"T_14f15_level1_row3\" class=\"row_heading level1 row3\" >0.200000</th>\n",
       "      <td id=\"T_14f15_row3_col0\" class=\"data row3 col0\" >0.361</td>\n",
       "      <td id=\"T_14f15_row3_col1\" class=\"data row3 col1\" >0.278</td>\n",
       "      <td id=\"T_14f15_row3_col2\" class=\"data row3 col2\" >0.213</td>\n",
       "      <td id=\"T_14f15_row3_col3\" class=\"data row3 col3\" >0.513</td>\n",
       "      <td id=\"T_14f15_row3_col4\" class=\"data row3 col4\" >0.443</td>\n",
       "      <td id=\"T_14f15_row3_col5\" class=\"data row3 col5\" >0.450</td>\n",
       "      <td id=\"T_14f15_row3_col6\" class=\"data row3 col6\" >0.409</td>\n",
       "      <td id=\"T_14f15_row3_col7\" class=\"data row3 col7\" >0.280</td>\n",
       "      <td id=\"T_14f15_row3_col8\" class=\"data row3 col8\" >0.329</td>\n",
       "      <td id=\"T_14f15_row3_col9\" class=\"data row3 col9\" >0.503</td>\n",
       "      <td id=\"T_14f15_row3_col10\" class=\"data row3 col10\" >0.535</td>\n",
       "      <td id=\"T_14f15_row3_col11\" class=\"data row3 col11\" >0.468</td>\n",
       "      <td id=\"T_14f15_row3_col12\" class=\"data row3 col12\" >0.541</td>\n",
       "      <td id=\"T_14f15_row3_col13\" class=\"data row3 col13\" >0.485</td>\n",
       "      <td id=\"T_14f15_row3_col14\" class=\"data row3 col14\" >0.546</td>\n",
       "      <td id=\"T_14f15_row3_col15\" class=\"data row3 col15\" >0.480</td>\n",
       "      <td id=\"T_14f15_row3_col16\" class=\"data row3 col16\" >0.574</td>\n",
       "      <td id=\"T_14f15_row3_col17\" class=\"data row3 col17\" >0.554</td>\n",
       "    </tr>\n",
       "  </tbody>\n",
       "</table>\n"
      ],
      "text/plain": [
       "<pandas.io.formats.style.Styler at 0x7f88e1093bb0>"
      ]
     },
     "metadata": {},
     "output_type": "display_data"
    },
    {
     "name": "stdout",
     "output_type": "stream",
     "text": [
      "Best f1: 0.5741\n",
      "MA_DATASET=placetypes;MA_LANGUAGE=en;MA_DEBUG=False;MA_PP_COMPONENTS=none;MA_TRANSLATE_POLICY=onlyorig;MA_MIN_WORDS_PER_DESC=50;MA_QUANTIFICATION_MEASURE=tfidf;MA_EMBED_ALGO=mds;MA_EMBED_DIMENSIONS=200;MA_EXTRACTION_METHOD=all;MA_DCM_QUANT_MEASURE=ppmi;MA_KAPPA_WEIGHTS=quadratic;MA_CLASSIFIER_SUCCMETRIC=kappa_rank2rank_onlypos_min;MA_PRIM_LAMBDA=0.5;MA_SEC_LAMBDA=0.2;MA_CLUSTER_DIRECTION_ALGO=reclassify\n",
      "cluster_reprs\n"
     ]
    },
    {
     "data": {
      "text/markdown": [
       "Best f1: **0.5741** <br><br> "
      ],
      "text/plain": [
       "<IPython.core.display.Markdown object>"
      ]
     },
     "metadata": {},
     "output_type": "display_data"
    }
   ],
   "source": [
    "metric = \"f1\"\n",
    "firsttime = True\n",
    "for target in [\"Geonames\", \"Foursquare\"]:\n",
    "    for dt_depth in [1,3,None]:\n",
    "        display(Markdown(f\"### Best for: {target}, depth {dt_depth}\"))\n",
    "        conf, perf = get_best_conf(target, verbose=True, forward_verbose=firsttime, balance_classes=True, one_vs_rest=True, dt_depth=dt_depth, test_percentage_crossval=0.3, metric=metric)\n",
    "        firsttime = False\n",
    "        \n",
    "        print_envvars(get_filename(conf, get_dependencies=False, doprint=False))\n",
    "        display(Markdown(f\"Best {metric}: **{perf:.4f}** <br><br> \"))"
   ]
  },
  {
   "cell_type": "markdown",
   "id": "f0cfa714-a953-462f-9ea5-4e86b2a6ae6d",
   "metadata": {},
   "source": [
    "<br><br><br><br><br><br>"
   ]
  },
  {
   "cell_type": "markdown",
   "id": "920bca6c-0aeb-4d65-a60b-92881e8f4bb1",
   "metadata": {},
   "source": [
    "# Find best overall config & run all for that one"
   ]
  },
  {
   "cell_type": "code",
   "execution_count": 3,
   "id": "11cd5de3-b359-42fd-abf1-f49c26523b43",
   "metadata": {},
   "outputs": [
    {
     "data": {
      "text/markdown": [
       "<span style=\"font-size:11pt\">There are 43 different parameter-combis for dataset <span style=\"color: #0000ff\">placetypes</span>:</span>"
      ],
      "text/plain": [
       "<IPython.core.display.Markdown object>"
      ]
     },
     "metadata": {},
     "output_type": "display_data"
    },
    {
     "data": {
      "text/plain": [
       "{'dataset': 'placetypes',\n",
       " 'language': 'en',\n",
       " 'debug': 'False',\n",
       " 'pp_components': 'none',\n",
       " 'translate_policy': 'onlyorig',\n",
       " 'min_words_per_desc': '50',\n",
       " 'quantification_measure': ['ppmi', 'tfidf'],\n",
       " 'embed_algo': 'mds',\n",
       " 'embed_dimensions': ['3', '50', '200'],\n",
       " 'extraction_method': 'all',\n",
       " 'dcm_quant_measure': ['count', 'ppmi', 'tfidf'],\n",
       " 'kappa_weights': 'quadratic',\n",
       " 'classifier_succmetric': ['kappa_count2rank_onlypos',\n",
       "  'kappa_digitized_onlypos_2',\n",
       "  'kappa_rank2rank_onlypos_max',\n",
       "  'kappa_rank2rank_onlypos_min'],\n",
       " 'prim_lambda': '0.5',\n",
       " 'sec_lambda': ['0.1', '0.2'],\n",
       " 'cluster_direction_algo': 'reclassify'}"
      ]
     },
     "metadata": {},
     "output_type": "display_data"
    },
    {
     "data": {
      "application/vnd.jupyter.widget-view+json": {
       "model_id": "c9a2fb44accd4cb79eb9ad56bcac0089",
       "version_major": 2,
       "version_minor": 0
      },
      "text/plain": [
       "Getting Best-Performing Config [5 procs]:   0%|          | 0/43 [00:00<?, ?it/s]"
      ]
     },
     "metadata": {},
     "output_type": "display_data"
    },
    {
     "data": {
      "text/html": [
       "<style type=\"text/css\">\n",
       "#T_3b56b th {\n",
       "  vertical-align: top;\n",
       "  text-align: left;\n",
       "}\n",
       "#T_3b56b_row3_col9 {\n",
       "  background-color: lightgreen;\n",
       "}\n",
       "</style>\n",
       "<table id=\"T_3b56b\">\n",
       "  <thead>\n",
       "    <tr>\n",
       "      <th class=\"blank\" >&nbsp;</th>\n",
       "      <th class=\"blank level0\" >&nbsp;</th>\n",
       "      <th id=\"T_3b56b_level0_col0\" class=\"col_heading level0 col0\" colspan=\"18\">f1</th>\n",
       "    </tr>\n",
       "    <tr>\n",
       "      <th class=\"blank\" >&nbsp;</th>\n",
       "      <th class=\"index_name level1\" >quantification_measure</th>\n",
       "      <th id=\"T_3b56b_level1_col0\" class=\"col_heading level1 col0\" colspan=\"9\">ppmi</th>\n",
       "      <th id=\"T_3b56b_level1_col9\" class=\"col_heading level1 col9\" colspan=\"9\">tfidf</th>\n",
       "    </tr>\n",
       "    <tr>\n",
       "      <th class=\"blank\" >&nbsp;</th>\n",
       "      <th class=\"index_name level2\" >embed_dimensions</th>\n",
       "      <th id=\"T_3b56b_level2_col0\" class=\"col_heading level2 col0\" colspan=\"3\">3</th>\n",
       "      <th id=\"T_3b56b_level2_col3\" class=\"col_heading level2 col3\" colspan=\"3\">50</th>\n",
       "      <th id=\"T_3b56b_level2_col6\" class=\"col_heading level2 col6\" colspan=\"3\">200</th>\n",
       "      <th id=\"T_3b56b_level2_col9\" class=\"col_heading level2 col9\" colspan=\"3\">3</th>\n",
       "      <th id=\"T_3b56b_level2_col12\" class=\"col_heading level2 col12\" colspan=\"3\">50</th>\n",
       "      <th id=\"T_3b56b_level2_col15\" class=\"col_heading level2 col15\" colspan=\"3\">200</th>\n",
       "    </tr>\n",
       "    <tr>\n",
       "      <th class=\"blank\" >&nbsp;</th>\n",
       "      <th class=\"index_name level3\" >dcm_quant_measure</th>\n",
       "      <th id=\"T_3b56b_level3_col0\" class=\"col_heading level3 col0\" >count</th>\n",
       "      <th id=\"T_3b56b_level3_col1\" class=\"col_heading level3 col1\" >ppmi</th>\n",
       "      <th id=\"T_3b56b_level3_col2\" class=\"col_heading level3 col2\" >tfidf</th>\n",
       "      <th id=\"T_3b56b_level3_col3\" class=\"col_heading level3 col3\" >count</th>\n",
       "      <th id=\"T_3b56b_level3_col4\" class=\"col_heading level3 col4\" >ppmi</th>\n",
       "      <th id=\"T_3b56b_level3_col5\" class=\"col_heading level3 col5\" >tfidf</th>\n",
       "      <th id=\"T_3b56b_level3_col6\" class=\"col_heading level3 col6\" >count</th>\n",
       "      <th id=\"T_3b56b_level3_col7\" class=\"col_heading level3 col7\" >ppmi</th>\n",
       "      <th id=\"T_3b56b_level3_col8\" class=\"col_heading level3 col8\" >tfidf</th>\n",
       "      <th id=\"T_3b56b_level3_col9\" class=\"col_heading level3 col9\" >count</th>\n",
       "      <th id=\"T_3b56b_level3_col10\" class=\"col_heading level3 col10\" >ppmi</th>\n",
       "      <th id=\"T_3b56b_level3_col11\" class=\"col_heading level3 col11\" >tfidf</th>\n",
       "      <th id=\"T_3b56b_level3_col12\" class=\"col_heading level3 col12\" >count</th>\n",
       "      <th id=\"T_3b56b_level3_col13\" class=\"col_heading level3 col13\" >ppmi</th>\n",
       "      <th id=\"T_3b56b_level3_col14\" class=\"col_heading level3 col14\" >tfidf</th>\n",
       "      <th id=\"T_3b56b_level3_col15\" class=\"col_heading level3 col15\" >count</th>\n",
       "      <th id=\"T_3b56b_level3_col16\" class=\"col_heading level3 col16\" >ppmi</th>\n",
       "      <th id=\"T_3b56b_level3_col17\" class=\"col_heading level3 col17\" >tfidf</th>\n",
       "    </tr>\n",
       "    <tr>\n",
       "      <th class=\"index_name level0\" >classifier_succmetric</th>\n",
       "      <th class=\"index_name level1\" >sec_lambda</th>\n",
       "      <th class=\"blank col0\" >&nbsp;</th>\n",
       "      <th class=\"blank col1\" >&nbsp;</th>\n",
       "      <th class=\"blank col2\" >&nbsp;</th>\n",
       "      <th class=\"blank col3\" >&nbsp;</th>\n",
       "      <th class=\"blank col4\" >&nbsp;</th>\n",
       "      <th class=\"blank col5\" >&nbsp;</th>\n",
       "      <th class=\"blank col6\" >&nbsp;</th>\n",
       "      <th class=\"blank col7\" >&nbsp;</th>\n",
       "      <th class=\"blank col8\" >&nbsp;</th>\n",
       "      <th class=\"blank col9\" >&nbsp;</th>\n",
       "      <th class=\"blank col10\" >&nbsp;</th>\n",
       "      <th class=\"blank col11\" >&nbsp;</th>\n",
       "      <th class=\"blank col12\" >&nbsp;</th>\n",
       "      <th class=\"blank col13\" >&nbsp;</th>\n",
       "      <th class=\"blank col14\" >&nbsp;</th>\n",
       "      <th class=\"blank col15\" >&nbsp;</th>\n",
       "      <th class=\"blank col16\" >&nbsp;</th>\n",
       "      <th class=\"blank col17\" >&nbsp;</th>\n",
       "    </tr>\n",
       "  </thead>\n",
       "  <tbody>\n",
       "    <tr>\n",
       "      <th id=\"T_3b56b_level0_row0\" class=\"row_heading level0 row0\" >kappa_count2rank_onlypos</th>\n",
       "      <th id=\"T_3b56b_level1_row0\" class=\"row_heading level1 row0\" >0.200000</th>\n",
       "      <td id=\"T_3b56b_row0_col0\" class=\"data row0 col0\" >0.392</td>\n",
       "      <td id=\"T_3b56b_row0_col1\" class=\"data row0 col1\" >-</td>\n",
       "      <td id=\"T_3b56b_row0_col2\" class=\"data row0 col2\" >-</td>\n",
       "      <td id=\"T_3b56b_row0_col3\" class=\"data row0 col3\" >0.361</td>\n",
       "      <td id=\"T_3b56b_row0_col4\" class=\"data row0 col4\" >-</td>\n",
       "      <td id=\"T_3b56b_row0_col5\" class=\"data row0 col5\" >-</td>\n",
       "      <td id=\"T_3b56b_row0_col6\" class=\"data row0 col6\" >0.250</td>\n",
       "      <td id=\"T_3b56b_row0_col7\" class=\"data row0 col7\" >-</td>\n",
       "      <td id=\"T_3b56b_row0_col8\" class=\"data row0 col8\" >-</td>\n",
       "      <td id=\"T_3b56b_row0_col9\" class=\"data row0 col9\" >0.477</td>\n",
       "      <td id=\"T_3b56b_row0_col10\" class=\"data row0 col10\" >-</td>\n",
       "      <td id=\"T_3b56b_row0_col11\" class=\"data row0 col11\" >-</td>\n",
       "      <td id=\"T_3b56b_row0_col12\" class=\"data row0 col12\" >0.442</td>\n",
       "      <td id=\"T_3b56b_row0_col13\" class=\"data row0 col13\" >-</td>\n",
       "      <td id=\"T_3b56b_row0_col14\" class=\"data row0 col14\" >-</td>\n",
       "      <td id=\"T_3b56b_row0_col15\" class=\"data row0 col15\" >0.421</td>\n",
       "      <td id=\"T_3b56b_row0_col16\" class=\"data row0 col16\" >-</td>\n",
       "      <td id=\"T_3b56b_row0_col17\" class=\"data row0 col17\" >-</td>\n",
       "    </tr>\n",
       "    <tr>\n",
       "      <th id=\"T_3b56b_level0_row1\" class=\"row_heading level0 row1\" >kappa_digitized_onlypos_2</th>\n",
       "      <th id=\"T_3b56b_level1_row1\" class=\"row_heading level1 row1\" >0.200000</th>\n",
       "      <td id=\"T_3b56b_row1_col0\" class=\"data row1 col0\" >0.275</td>\n",
       "      <td id=\"T_3b56b_row1_col1\" class=\"data row1 col1\" >0.290</td>\n",
       "      <td id=\"T_3b56b_row1_col2\" class=\"data row1 col2\" >0.184</td>\n",
       "      <td id=\"T_3b56b_row1_col3\" class=\"data row1 col3\" >0.280</td>\n",
       "      <td id=\"T_3b56b_row1_col4\" class=\"data row1 col4\" >0.217</td>\n",
       "      <td id=\"T_3b56b_row1_col5\" class=\"data row1 col5\" >0.179</td>\n",
       "      <td id=\"T_3b56b_row1_col6\" class=\"data row1 col6\" >0.380</td>\n",
       "      <td id=\"T_3b56b_row1_col7\" class=\"data row1 col7\" >0.368</td>\n",
       "      <td id=\"T_3b56b_row1_col8\" class=\"data row1 col8\" >0.380</td>\n",
       "      <td id=\"T_3b56b_row1_col9\" class=\"data row1 col9\" >0.380</td>\n",
       "      <td id=\"T_3b56b_row1_col10\" class=\"data row1 col10\" >0.467</td>\n",
       "      <td id=\"T_3b56b_row1_col11\" class=\"data row1 col11\" >0.234</td>\n",
       "      <td id=\"T_3b56b_row1_col12\" class=\"data row1 col12\" >0.374</td>\n",
       "      <td id=\"T_3b56b_row1_col13\" class=\"data row1 col13\" >0.402</td>\n",
       "      <td id=\"T_3b56b_row1_col14\" class=\"data row1 col14\" >0.391</td>\n",
       "      <td id=\"T_3b56b_row1_col15\" class=\"data row1 col15\" >0.427</td>\n",
       "      <td id=\"T_3b56b_row1_col16\" class=\"data row1 col16\" >0.363</td>\n",
       "      <td id=\"T_3b56b_row1_col17\" class=\"data row1 col17\" >0.389</td>\n",
       "    </tr>\n",
       "    <tr>\n",
       "      <th id=\"T_3b56b_level0_row2\" class=\"row_heading level0 row2\" >kappa_rank2rank_onlypos_max</th>\n",
       "      <th id=\"T_3b56b_level1_row2\" class=\"row_heading level1 row2\" >0.100000</th>\n",
       "      <td id=\"T_3b56b_row2_col0\" class=\"data row2 col0\" >-</td>\n",
       "      <td id=\"T_3b56b_row2_col1\" class=\"data row2 col1\" >-</td>\n",
       "      <td id=\"T_3b56b_row2_col2\" class=\"data row2 col2\" >-</td>\n",
       "      <td id=\"T_3b56b_row2_col3\" class=\"data row2 col3\" >0.318</td>\n",
       "      <td id=\"T_3b56b_row2_col4\" class=\"data row2 col4\" >-</td>\n",
       "      <td id=\"T_3b56b_row2_col5\" class=\"data row2 col5\" >-</td>\n",
       "      <td id=\"T_3b56b_row2_col6\" class=\"data row2 col6\" >-</td>\n",
       "      <td id=\"T_3b56b_row2_col7\" class=\"data row2 col7\" >-</td>\n",
       "      <td id=\"T_3b56b_row2_col8\" class=\"data row2 col8\" >-</td>\n",
       "      <td id=\"T_3b56b_row2_col9\" class=\"data row2 col9\" >-</td>\n",
       "      <td id=\"T_3b56b_row2_col10\" class=\"data row2 col10\" >-</td>\n",
       "      <td id=\"T_3b56b_row2_col11\" class=\"data row2 col11\" >-</td>\n",
       "      <td id=\"T_3b56b_row2_col12\" class=\"data row2 col12\" >-</td>\n",
       "      <td id=\"T_3b56b_row2_col13\" class=\"data row2 col13\" >-</td>\n",
       "      <td id=\"T_3b56b_row2_col14\" class=\"data row2 col14\" >-</td>\n",
       "      <td id=\"T_3b56b_row2_col15\" class=\"data row2 col15\" >-</td>\n",
       "      <td id=\"T_3b56b_row2_col16\" class=\"data row2 col16\" >-</td>\n",
       "      <td id=\"T_3b56b_row2_col17\" class=\"data row2 col17\" >-</td>\n",
       "    </tr>\n",
       "    <tr>\n",
       "      <th id=\"T_3b56b_level0_row3\" class=\"row_heading level0 row3\" >kappa_rank2rank_onlypos_min</th>\n",
       "      <th id=\"T_3b56b_level1_row3\" class=\"row_heading level1 row3\" >0.200000</th>\n",
       "      <td id=\"T_3b56b_row3_col0\" class=\"data row3 col0\" >0.388</td>\n",
       "      <td id=\"T_3b56b_row3_col1\" class=\"data row3 col1\" >0.437</td>\n",
       "      <td id=\"T_3b56b_row3_col2\" class=\"data row3 col2\" >0.382</td>\n",
       "      <td id=\"T_3b56b_row3_col3\" class=\"data row3 col3\" >0.333</td>\n",
       "      <td id=\"T_3b56b_row3_col4\" class=\"data row3 col4\" >0.292</td>\n",
       "      <td id=\"T_3b56b_row3_col5\" class=\"data row3 col5\" >0.407</td>\n",
       "      <td id=\"T_3b56b_row3_col6\" class=\"data row3 col6\" >0.355</td>\n",
       "      <td id=\"T_3b56b_row3_col7\" class=\"data row3 col7\" >0.389</td>\n",
       "      <td id=\"T_3b56b_row3_col8\" class=\"data row3 col8\" >0.359</td>\n",
       "      <td id=\"T_3b56b_row3_col9\" class=\"data row3 col9\" >0.490</td>\n",
       "      <td id=\"T_3b56b_row3_col10\" class=\"data row3 col10\" >0.474</td>\n",
       "      <td id=\"T_3b56b_row3_col11\" class=\"data row3 col11\" >0.456</td>\n",
       "      <td id=\"T_3b56b_row3_col12\" class=\"data row3 col12\" >0.405</td>\n",
       "      <td id=\"T_3b56b_row3_col13\" class=\"data row3 col13\" >0.413</td>\n",
       "      <td id=\"T_3b56b_row3_col14\" class=\"data row3 col14\" >0.388</td>\n",
       "      <td id=\"T_3b56b_row3_col15\" class=\"data row3 col15\" >0.435</td>\n",
       "      <td id=\"T_3b56b_row3_col16\" class=\"data row3 col16\" >0.400</td>\n",
       "      <td id=\"T_3b56b_row3_col17\" class=\"data row3 col17\" >0.464</td>\n",
       "    </tr>\n",
       "  </tbody>\n",
       "</table>\n"
      ],
      "text/plain": [
       "<pandas.io.formats.style.Styler at 0x7f3b921867a0>"
      ]
     },
     "metadata": {},
     "output_type": "display_data"
    },
    {
     "name": "stdout",
     "output_type": "stream",
     "text": [
      "Best f1: 0.4901\n"
     ]
    },
    {
     "data": {
      "text/markdown": [
       "<span style=\"font-size:11pt\">env_vars demanded config EMBED_DIMENSIONS to be <span style=\"color: #ff0000\">200</span>, but force overwrites it to <span style=\"color: #0000ff\">3</span></span>"
      ],
      "text/plain": [
       "<IPython.core.display.Markdown object>"
      ]
     },
     "metadata": {},
     "output_type": "display_data"
    },
    {
     "data": {
      "text/markdown": [
       "<span style=\"font-size:11pt\">env_vars demanded config CLASSIFIER_SUCCMETRIC to be <span style=\"color: #ff0000\">kappa_digitized_onlypos_2</span>, but force overwrites it to <span style=\"color: #0000ff\">kappa_rank2rank_onlypos_min</span></span>"
      ],
      "text/plain": [
       "<IPython.core.display.Markdown object>"
      ]
     },
     "metadata": {},
     "output_type": "display_data"
    },
    {
     "data": {
      "text/markdown": [
       "<span style=\"font-size:11pt\">Running with the following settings [<span style=\"color: #0000ff\">cd88961554</span>]: CLASSIFIER_SUCCMETRIC: <span style=\"color: #ff0000\">kappa_rank2rank_onlypos_min</span>, CLUSTER_DIRECTION_ALGO: <span style=\"color: #0000ff\">reclassify</span>, DATASET: <span style=\"color: #ff0000\">placetypes</span>, DCM_QUANT_MEASURE: <span style=\"color: #0000ff\">count</span>, DEBUG: <span style=\"color: #0000ff\">False</span>, EMBED_ALGO: <span style=\"color: #0000ff\">mds</span>, EMBED_DIMENSIONS: <span style=\"color: #ff0000\">3</span>, EXTRACTION_METHOD: <span style=\"color: #ff0000\">all</span>, KAPPA_WEIGHTS: <span style=\"color: #0000ff\">quadratic</span>, LANGUAGE: <span style=\"color: #ff0000\">en</span>, MIN_WORDS_PER_DESC: <span style=\"color: #0000ff\">50</span>, PP_COMPONENTS: <span style=\"color: #ff0000\">none</span>, PRIM_LAMBDA: <span style=\"color: #0000ff\">0.5</span>, QUANTIFICATION_MEASURE: <span style=\"color: #ff0000\">tfidf</span>, RANDOM_SEED: <span style=\"color: #ff0000\">None</span>, SEC_LAMBDA: <span style=\"color: #ff0000\">0.2</span>, TRANSLATE_POLICY: <span style=\"color: #0000ff\">onlyorig</span></span>"
      ],
      "text/plain": [
       "<IPython.core.display.Markdown object>"
      ]
     },
     "metadata": {},
     "output_type": "display_data"
    },
    {
     "name": "stdout",
     "output_type": "stream",
     "text": [
      "MA_DATASET=placetypes;MA_LANGUAGE=en;MA_DEBUG=False;MA_PP_COMPONENTS=none;MA_TRANSLATE_POLICY=onlyorig;MA_MIN_WORDS_PER_DESC=50;MA_QUANTIFICATION_MEASURE=tfidf;MA_EMBED_ALGO=mds;MA_EMBED_DIMENSIONS=3;MA_EXTRACTION_METHOD=all;MA_DCM_QUANT_MEASURE=count;MA_KAPPA_WEIGHTS=quadratic;MA_CLASSIFIER_SUCCMETRIC=kappa_rank2rank_onlypos_min;MA_PRIM_LAMBDA=0.5;MA_SEC_LAMBDA=0.2;MA_CLUSTER_DIRECTION_ALGO=reclassify\n",
      "cluster_reprs\n"
     ]
    }
   ],
   "source": [
    "conf, perf = get_best_conf(\"Geonames\", verbose=True, balance_classes=True, one_vs_rest=True, dt_depth=1, test_percentage_crossval=0.3, metric=\"f1\")\n",
    "\n",
    "ctx = SnakeContext.loader_context(config=conf, silent=False)\n",
    "descriptions, clusters, embedding = ctx.load(\"pp_descriptions\", \"clusters\", \"embedding\", \n",
    "                  loaders=dict(pp_descriptions=DescriptionList.from_json, clusters=cluster_loader, embedding=lambda **args: args[\"embedding\"].embedding_))\n",
    "\n",
    "print_envvars(get_filename(conf, get_dependencies=False, doprint=False))"
   ]
  },
  {
   "cell_type": "code",
   "execution_count": 4,
   "id": "70a29de5-185f-4b34-851a-4d1845ec78f7",
   "metadata": {
    "scrolled": true,
    "tags": []
   },
   "outputs": [
    {
     "data": {
      "text/markdown": [
       "<span style=\"font-size:11pt\">====================================================================================================</span>"
      ],
      "text/plain": [
       "<IPython.core.display.Markdown object>"
      ]
     },
     "metadata": {},
     "output_type": "display_data"
    },
    {
     "data": {
      "text/markdown": [
       "<span style=\"font-size:11pt\">Using classes from Foursquare - 391/1383 entities have a class</span>"
      ],
      "text/plain": [
       "<IPython.core.display.Markdown object>"
      ]
     },
     "metadata": {},
     "output_type": "display_data"
    },
    {
     "data": {
      "text/markdown": [
       "<span style=\"font-size:11pt\">returning CLUS_REP_ALGO from default: <span style=\"color: #0000ff\">top_1</span></span>"
      ],
      "text/plain": [
       "<IPython.core.display.Markdown object>"
      ]
     },
     "metadata": {},
     "output_type": "display_data"
    },
    {
     "data": {
      "text/markdown": [
       "<span style=\"font-size:11pt\">Labels (9 classes): <span style=\"color: #0000ff\">Shops&Services</span>: 88, <span style=\"color: #0000ff\">Food</span>: 82, <span style=\"color: #0000ff\">Travel&Transport</span>: 35, <span style=\"color: #0000ff\">Professional&Other</span>: 47, <span style=\"color: #0000ff\">Residences</span>: 6, <span style=\"color: #0000ff\">Arts&Entertainment</span>: 39, <span style=\"color: #0000ff\">NightlifeSpots</span>: 17, <span style=\"color: #0000ff\">GreatOutdoors</span>: 44, <span style=\"color: #0000ff\">College&University</span>: 33</span>"
      ],
      "text/plain": [
       "<IPython.core.display.Markdown object>"
      ]
     },
     "metadata": {},
     "output_type": "display_data"
    },
    {
     "data": {
      "text/markdown": [
       "<span style=\"font-size:11pt\">Eval-Settings: metric: <span style=\"color: #0000ff\">accuracy</span>, type: <span style=\"color: #0000ff\">one-vs-rest</span>, DT-Depth: <span style=\"color: #0000ff\">1</span>, train-test-split:<span style=\"color: #0000ff\"> 33.0% in test-set </span></span>"
      ],
      "text/plain": [
       "<IPython.core.display.Markdown object>"
      ]
     },
     "metadata": {},
     "output_type": "display_data"
    },
    {
     "data": {
      "text/markdown": [
       "<span style=\"font-size:11pt\">Per-Class-Scores: GreatOutdoors: 0.82, NightlifeSpots: 0.85, Travel&Transport: 0.72, Shops&Services: 0.85, College&University: 0.88, Residences: 0.58, Professional&Other: 0.69, Arts&Entertainment: 0.20, Food: 0.66</span>"
      ],
      "text/plain": [
       "<IPython.core.display.Markdown object>"
      ]
     },
     "metadata": {},
     "output_type": "display_data"
    },
    {
     "data": {
      "text/markdown": [
       "<span style=\"font-size:11pt\">Unweighted Mean accuracy: 69.32%</span>"
      ],
      "text/plain": [
       "<IPython.core.display.Markdown object>"
      ]
     },
     "metadata": {},
     "output_type": "display_data"
    },
    {
     "data": {
      "text/markdown": [
       "<span style=\"font-size:11pt\">Weighted Mean accuracy: 70.81%</span>"
      ],
      "text/plain": [
       "<IPython.core.display.Markdown object>"
      ]
     },
     "metadata": {},
     "output_type": "display_data"
    },
    {
     "data": {
      "text/markdown": [
       "<span style=\"font-size:11pt\">====================================================================================================</span>"
      ],
      "text/plain": [
       "<IPython.core.display.Markdown object>"
      ]
     },
     "metadata": {},
     "output_type": "display_data"
    },
    {
     "data": {
      "text/markdown": [
       "<span style=\"font-size:11pt\">Using classes from Foursquare - 391/1383 entities have a class</span>"
      ],
      "text/plain": [
       "<IPython.core.display.Markdown object>"
      ]
     },
     "metadata": {},
     "output_type": "display_data"
    },
    {
     "data": {
      "text/markdown": [
       "<span style=\"font-size:11pt\">Labels (9 classes): <span style=\"color: #0000ff\">Shops&Services</span>: 88, <span style=\"color: #0000ff\">Food</span>: 82, <span style=\"color: #0000ff\">Travel&Transport</span>: 35, <span style=\"color: #0000ff\">Professional&Other</span>: 47, <span style=\"color: #0000ff\">Residences</span>: 6, <span style=\"color: #0000ff\">Arts&Entertainment</span>: 39, <span style=\"color: #0000ff\">NightlifeSpots</span>: 17, <span style=\"color: #0000ff\">GreatOutdoors</span>: 44, <span style=\"color: #0000ff\">College&University</span>: 33</span>"
      ],
      "text/plain": [
       "<IPython.core.display.Markdown object>"
      ]
     },
     "metadata": {},
     "output_type": "display_data"
    },
    {
     "data": {
      "text/markdown": [
       "<span style=\"font-size:11pt\">Eval-Settings: metric: <span style=\"color: #0000ff\">f1</span>, type: <span style=\"color: #0000ff\">one-vs-rest</span>, DT-Depth: <span style=\"color: #0000ff\">1</span>, train-test-split:<span style=\"color: #0000ff\"> 33.0% in test-set </span></span>"
      ],
      "text/plain": [
       "<IPython.core.display.Markdown object>"
      ]
     },
     "metadata": {},
     "output_type": "display_data"
    },
    {
     "data": {
      "text/markdown": [
       "<span style=\"font-size:11pt\">Per-Class-Scores: GreatOutdoors: 0.61, NightlifeSpots: 0.57, Travel&Transport: 0.27, Shops&Services: 0.57, College&University: 0.53, Residences: 0.04, Professional&Other: 0.28, Arts&Entertainment: 0.17, Food: 0.62</span>"
      ],
      "text/plain": [
       "<IPython.core.display.Markdown object>"
      ]
     },
     "metadata": {},
     "output_type": "display_data"
    },
    {
     "data": {
      "text/markdown": [
       "<span style=\"font-size:11pt\">Unweighted Mean f1: 40.77%</span>"
      ],
      "text/plain": [
       "<IPython.core.display.Markdown object>"
      ]
     },
     "metadata": {},
     "output_type": "display_data"
    },
    {
     "data": {
      "text/markdown": [
       "<span style=\"font-size:11pt\">Weighted Mean f1: 47.30%</span>"
      ],
      "text/plain": [
       "<IPython.core.display.Markdown object>"
      ]
     },
     "metadata": {},
     "output_type": "display_data"
    },
    {
     "data": {
      "text/markdown": [
       "<span style=\"font-size:11pt\">====================================================================================================</span>"
      ],
      "text/plain": [
       "<IPython.core.display.Markdown object>"
      ]
     },
     "metadata": {},
     "output_type": "display_data"
    },
    {
     "data": {
      "text/markdown": [
       "<span style=\"font-size:11pt\">Using classes from Foursquare - 391/1383 entities have a class</span>"
      ],
      "text/plain": [
       "<IPython.core.display.Markdown object>"
      ]
     },
     "metadata": {},
     "output_type": "display_data"
    },
    {
     "data": {
      "text/markdown": [
       "<span style=\"font-size:11pt\">Labels (9 classes): <span style=\"color: #0000ff\">Shops&Services</span>: 88, <span style=\"color: #0000ff\">Food</span>: 82, <span style=\"color: #0000ff\">Travel&Transport</span>: 35, <span style=\"color: #0000ff\">Professional&Other</span>: 47, <span style=\"color: #0000ff\">Residences</span>: 6, <span style=\"color: #0000ff\">Arts&Entertainment</span>: 39, <span style=\"color: #0000ff\">NightlifeSpots</span>: 17, <span style=\"color: #0000ff\">GreatOutdoors</span>: 44, <span style=\"color: #0000ff\">College&University</span>: 33</span>"
      ],
      "text/plain": [
       "<IPython.core.display.Markdown object>"
      ]
     },
     "metadata": {},
     "output_type": "display_data"
    },
    {
     "data": {
      "text/markdown": [
       "<span style=\"font-size:11pt\">Eval-Settings: metric: <span style=\"color: #0000ff\">accuracy</span>, type: <span style=\"color: #0000ff\">one-vs-rest</span>, DT-Depth: <span style=\"color: #0000ff\">1</span>, train-test-split:<span style=\"color: #0000ff\"> 33.0% in test-set </span></span>"
      ],
      "text/plain": [
       "<IPython.core.display.Markdown object>"
      ]
     },
     "metadata": {},
     "output_type": "display_data"
    },
    {
     "data": {
      "text/markdown": [
       "<span style=\"font-size:11pt\">Per-Class-Scores: GreatOutdoors: 0.90, NightlifeSpots: 0.98, Travel&Transport: 0.90, Shops&Services: 0.86, College&University: 0.86, Residences: 0.99, Professional&Other: 0.93, Arts&Entertainment: 0.88, Food: 0.81</span>"
      ],
      "text/plain": [
       "<IPython.core.display.Markdown object>"
      ]
     },
     "metadata": {},
     "output_type": "display_data"
    },
    {
     "data": {
      "text/markdown": [
       "<span style=\"font-size:11pt\">Unweighted Mean accuracy: 90.17%</span>"
      ],
      "text/plain": [
       "<IPython.core.display.Markdown object>"
      ]
     },
     "metadata": {},
     "output_type": "display_data"
    },
    {
     "data": {
      "text/markdown": [
       "<span style=\"font-size:11pt\">Weighted Mean accuracy: 87.57%</span>"
      ],
      "text/plain": [
       "<IPython.core.display.Markdown object>"
      ]
     },
     "metadata": {},
     "output_type": "display_data"
    },
    {
     "data": {
      "text/markdown": [
       "<span style=\"font-size:11pt\">====================================================================================================</span>"
      ],
      "text/plain": [
       "<IPython.core.display.Markdown object>"
      ]
     },
     "metadata": {},
     "output_type": "display_data"
    },
    {
     "data": {
      "text/markdown": [
       "<span style=\"font-size:11pt\">Using classes from Foursquare - 391/1383 entities have a class</span>"
      ],
      "text/plain": [
       "<IPython.core.display.Markdown object>"
      ]
     },
     "metadata": {},
     "output_type": "display_data"
    },
    {
     "data": {
      "text/markdown": [
       "<span style=\"font-size:11pt\">Labels (9 classes): <span style=\"color: #0000ff\">Shops&Services</span>: 88, <span style=\"color: #0000ff\">Food</span>: 82, <span style=\"color: #0000ff\">Travel&Transport</span>: 35, <span style=\"color: #0000ff\">Professional&Other</span>: 47, <span style=\"color: #0000ff\">Residences</span>: 6, <span style=\"color: #0000ff\">Arts&Entertainment</span>: 39, <span style=\"color: #0000ff\">NightlifeSpots</span>: 17, <span style=\"color: #0000ff\">GreatOutdoors</span>: 44, <span style=\"color: #0000ff\">College&University</span>: 33</span>"
      ],
      "text/plain": [
       "<IPython.core.display.Markdown object>"
      ]
     },
     "metadata": {},
     "output_type": "display_data"
    },
    {
     "data": {
      "text/markdown": [
       "<span style=\"font-size:11pt\">Eval-Settings: metric: <span style=\"color: #0000ff\">f1</span>, type: <span style=\"color: #0000ff\">one-vs-rest</span>, DT-Depth: <span style=\"color: #0000ff\">1</span>, train-test-split:<span style=\"color: #0000ff\"> 33.0% in test-set </span></span>"
      ],
      "text/plain": [
       "<IPython.core.display.Markdown object>"
      ]
     },
     "metadata": {},
     "output_type": "display_data"
    },
    {
     "data": {
      "text/markdown": [
       "<span style=\"font-size:11pt\">Per-Class-Scores: GreatOutdoors: 0.59, NightlifeSpots: 0.00, Travel&Transport: 0.00, Shops&Services: 0.57, College&University: 0.47, Residences: 0.00, Professional&Other: 0.00, Arts&Entertainment: 0.00, Food: 0.46</span>"
      ],
      "text/plain": [
       "<IPython.core.display.Markdown object>"
      ]
     },
     "metadata": {},
     "output_type": "display_data"
    },
    {
     "data": {
      "text/markdown": [
       "<span style=\"font-size:11pt\">Unweighted Mean f1: 23.19%</span>"
      ],
      "text/plain": [
       "<IPython.core.display.Markdown object>"
      ]
     },
     "metadata": {},
     "output_type": "display_data"
    },
    {
     "data": {
      "text/markdown": [
       "<span style=\"font-size:11pt\">Weighted Mean f1: 33.03%</span>"
      ],
      "text/plain": [
       "<IPython.core.display.Markdown object>"
      ]
     },
     "metadata": {},
     "output_type": "display_data"
    },
    {
     "data": {
      "text/markdown": [
       "<span style=\"font-size:11pt\">====================================================================================================</span>"
      ],
      "text/plain": [
       "<IPython.core.display.Markdown object>"
      ]
     },
     "metadata": {},
     "output_type": "display_data"
    },
    {
     "data": {
      "text/markdown": [
       "<span style=\"font-size:11pt\">Using classes from Foursquare - 391/1383 entities have a class</span>"
      ],
      "text/plain": [
       "<IPython.core.display.Markdown object>"
      ]
     },
     "metadata": {},
     "output_type": "display_data"
    },
    {
     "data": {
      "text/markdown": [
       "<span style=\"font-size:11pt\">Labels (9 classes): <span style=\"color: #0000ff\">Shops&Services</span>: 88, <span style=\"color: #0000ff\">Food</span>: 82, <span style=\"color: #0000ff\">Travel&Transport</span>: 35, <span style=\"color: #0000ff\">Professional&Other</span>: 47, <span style=\"color: #0000ff\">Residences</span>: 6, <span style=\"color: #0000ff\">Arts&Entertainment</span>: 39, <span style=\"color: #0000ff\">NightlifeSpots</span>: 17, <span style=\"color: #0000ff\">GreatOutdoors</span>: 44, <span style=\"color: #0000ff\">College&University</span>: 33</span>"
      ],
      "text/plain": [
       "<IPython.core.display.Markdown object>"
      ]
     },
     "metadata": {},
     "output_type": "display_data"
    },
    {
     "data": {
      "text/markdown": [
       "<span style=\"font-size:11pt\">Eval-Settings: metric: <span style=\"color: #0000ff\">accuracy</span>, type: <span style=\"color: #0000ff\">one-vs-rest</span>, DT-Depth: <span style=\"color: #0000ff\">2</span>, train-test-split:<span style=\"color: #0000ff\"> 33.0% in test-set </span></span>"
      ],
      "text/plain": [
       "<IPython.core.display.Markdown object>"
      ]
     },
     "metadata": {},
     "output_type": "display_data"
    },
    {
     "data": {
      "text/markdown": [
       "<span style=\"font-size:11pt\">Per-Class-Scores: GreatOutdoors: 0.81, NightlifeSpots: 0.96, Travel&Transport: 0.79, Shops&Services: 0.83, College&University: 0.92, Residences: 0.84, Professional&Other: 0.74, Arts&Entertainment: 0.57, Food: 0.84</span>"
      ],
      "text/plain": [
       "<IPython.core.display.Markdown object>"
      ]
     },
     "metadata": {},
     "output_type": "display_data"
    },
    {
     "data": {
      "text/markdown": [
       "<span style=\"font-size:11pt\">Unweighted Mean accuracy: 81.11%</span>"
      ],
      "text/plain": [
       "<IPython.core.display.Markdown object>"
      ]
     },
     "metadata": {},
     "output_type": "display_data"
    },
    {
     "data": {
      "text/markdown": [
       "<span style=\"font-size:11pt\">Weighted Mean accuracy: 80.28%</span>"
      ],
      "text/plain": [
       "<IPython.core.display.Markdown object>"
      ]
     },
     "metadata": {},
     "output_type": "display_data"
    },
    {
     "data": {
      "text/markdown": [
       "<span style=\"font-size:11pt\">====================================================================================================</span>"
      ],
      "text/plain": [
       "<IPython.core.display.Markdown object>"
      ]
     },
     "metadata": {},
     "output_type": "display_data"
    },
    {
     "data": {
      "text/markdown": [
       "<span style=\"font-size:11pt\">Using classes from Foursquare - 391/1383 entities have a class</span>"
      ],
      "text/plain": [
       "<IPython.core.display.Markdown object>"
      ]
     },
     "metadata": {},
     "output_type": "display_data"
    },
    {
     "data": {
      "text/markdown": [
       "<span style=\"font-size:11pt\">Labels (9 classes): <span style=\"color: #0000ff\">Shops&Services</span>: 88, <span style=\"color: #0000ff\">Food</span>: 82, <span style=\"color: #0000ff\">Travel&Transport</span>: 35, <span style=\"color: #0000ff\">Professional&Other</span>: 47, <span style=\"color: #0000ff\">Residences</span>: 6, <span style=\"color: #0000ff\">Arts&Entertainment</span>: 39, <span style=\"color: #0000ff\">NightlifeSpots</span>: 17, <span style=\"color: #0000ff\">GreatOutdoors</span>: 44, <span style=\"color: #0000ff\">College&University</span>: 33</span>"
      ],
      "text/plain": [
       "<IPython.core.display.Markdown object>"
      ]
     },
     "metadata": {},
     "output_type": "display_data"
    },
    {
     "data": {
      "text/markdown": [
       "<span style=\"font-size:11pt\">Eval-Settings: metric: <span style=\"color: #0000ff\">f1</span>, type: <span style=\"color: #0000ff\">one-vs-rest</span>, DT-Depth: <span style=\"color: #0000ff\">2</span>, train-test-split:<span style=\"color: #0000ff\"> 33.0% in test-set </span></span>"
      ],
      "text/plain": [
       "<IPython.core.display.Markdown object>"
      ]
     },
     "metadata": {},
     "output_type": "display_data"
    },
    {
     "data": {
      "text/markdown": [
       "<span style=\"font-size:11pt\">Per-Class-Scores: GreatOutdoors: 0.51, NightlifeSpots: 0.50, Travel&Transport: 0.32, Shops&Services: 0.58, College&University: 0.56, Residences: 0.00, Professional&Other: 0.49, Arts&Entertainment: 0.25, Food: 0.89</span>"
      ],
      "text/plain": [
       "<IPython.core.display.Markdown object>"
      ]
     },
     "metadata": {},
     "output_type": "display_data"
    },
    {
     "data": {
      "text/markdown": [
       "<span style=\"font-size:11pt\">Unweighted Mean f1: 45.53%</span>"
      ],
      "text/plain": [
       "<IPython.core.display.Markdown object>"
      ]
     },
     "metadata": {},
     "output_type": "display_data"
    },
    {
     "data": {
      "text/markdown": [
       "<span style=\"font-size:11pt\">Weighted Mean f1: 55.61%</span>"
      ],
      "text/plain": [
       "<IPython.core.display.Markdown object>"
      ]
     },
     "metadata": {},
     "output_type": "display_data"
    },
    {
     "data": {
      "text/markdown": [
       "<span style=\"font-size:11pt\">====================================================================================================</span>"
      ],
      "text/plain": [
       "<IPython.core.display.Markdown object>"
      ]
     },
     "metadata": {},
     "output_type": "display_data"
    },
    {
     "data": {
      "text/markdown": [
       "<span style=\"font-size:11pt\">Using classes from Foursquare - 391/1383 entities have a class</span>"
      ],
      "text/plain": [
       "<IPython.core.display.Markdown object>"
      ]
     },
     "metadata": {},
     "output_type": "display_data"
    },
    {
     "data": {
      "text/markdown": [
       "<span style=\"font-size:11pt\">Labels (9 classes): <span style=\"color: #0000ff\">Shops&Services</span>: 88, <span style=\"color: #0000ff\">Food</span>: 82, <span style=\"color: #0000ff\">Travel&Transport</span>: 35, <span style=\"color: #0000ff\">Professional&Other</span>: 47, <span style=\"color: #0000ff\">Residences</span>: 6, <span style=\"color: #0000ff\">Arts&Entertainment</span>: 39, <span style=\"color: #0000ff\">NightlifeSpots</span>: 17, <span style=\"color: #0000ff\">GreatOutdoors</span>: 44, <span style=\"color: #0000ff\">College&University</span>: 33</span>"
      ],
      "text/plain": [
       "<IPython.core.display.Markdown object>"
      ]
     },
     "metadata": {},
     "output_type": "display_data"
    },
    {
     "data": {
      "text/markdown": [
       "<span style=\"font-size:11pt\">Eval-Settings: metric: <span style=\"color: #0000ff\">accuracy</span>, type: <span style=\"color: #0000ff\">one-vs-rest</span>, DT-Depth: <span style=\"color: #0000ff\">2</span>, train-test-split:<span style=\"color: #0000ff\"> 33.0% in test-set </span></span>"
      ],
      "text/plain": [
       "<IPython.core.display.Markdown object>"
      ]
     },
     "metadata": {},
     "output_type": "display_data"
    },
    {
     "data": {
      "text/markdown": [
       "<span style=\"font-size:11pt\">Per-Class-Scores: GreatOutdoors: 0.90, NightlifeSpots: 0.94, Travel&Transport: 0.86, Shops&Services: 0.87, College&University: 0.96, Residences: 0.98, Professional&Other: 0.82, Arts&Entertainment: 0.88, Food: 0.88</span>"
      ],
      "text/plain": [
       "<IPython.core.display.Markdown object>"
      ]
     },
     "metadata": {},
     "output_type": "display_data"
    },
    {
     "data": {
      "text/markdown": [
       "<span style=\"font-size:11pt\">Unweighted Mean accuracy: 90.00%</span>"
      ],
      "text/plain": [
       "<IPython.core.display.Markdown object>"
      ]
     },
     "metadata": {},
     "output_type": "display_data"
    },
    {
     "data": {
      "text/markdown": [
       "<span style=\"font-size:11pt\">Weighted Mean accuracy: 88.37%</span>"
      ],
      "text/plain": [
       "<IPython.core.display.Markdown object>"
      ]
     },
     "metadata": {},
     "output_type": "display_data"
    },
    {
     "data": {
      "text/markdown": [
       "<span style=\"font-size:11pt\">====================================================================================================</span>"
      ],
      "text/plain": [
       "<IPython.core.display.Markdown object>"
      ]
     },
     "metadata": {},
     "output_type": "display_data"
    },
    {
     "data": {
      "text/markdown": [
       "<span style=\"font-size:11pt\">Using classes from Foursquare - 391/1383 entities have a class</span>"
      ],
      "text/plain": [
       "<IPython.core.display.Markdown object>"
      ]
     },
     "metadata": {},
     "output_type": "display_data"
    },
    {
     "data": {
      "text/markdown": [
       "<span style=\"font-size:11pt\">Labels (9 classes): <span style=\"color: #0000ff\">Shops&Services</span>: 88, <span style=\"color: #0000ff\">Food</span>: 82, <span style=\"color: #0000ff\">Travel&Transport</span>: 35, <span style=\"color: #0000ff\">Professional&Other</span>: 47, <span style=\"color: #0000ff\">Residences</span>: 6, <span style=\"color: #0000ff\">Arts&Entertainment</span>: 39, <span style=\"color: #0000ff\">NightlifeSpots</span>: 17, <span style=\"color: #0000ff\">GreatOutdoors</span>: 44, <span style=\"color: #0000ff\">College&University</span>: 33</span>"
      ],
      "text/plain": [
       "<IPython.core.display.Markdown object>"
      ]
     },
     "metadata": {},
     "output_type": "display_data"
    },
    {
     "data": {
      "text/markdown": [
       "<span style=\"font-size:11pt\">Eval-Settings: metric: <span style=\"color: #0000ff\">f1</span>, type: <span style=\"color: #0000ff\">one-vs-rest</span>, DT-Depth: <span style=\"color: #0000ff\">2</span>, train-test-split:<span style=\"color: #0000ff\"> 33.0% in test-set </span></span>"
      ],
      "text/plain": [
       "<IPython.core.display.Markdown object>"
      ]
     },
     "metadata": {},
     "output_type": "display_data"
    },
    {
     "data": {
      "text/markdown": [
       "<span style=\"font-size:11pt\">Per-Class-Scores: GreatOutdoors: 0.46, NightlifeSpots: 0.50, Travel&Transport: 0.12, Shops&Services: 0.65, College&University: 0.63, Residences: 0.29, Professional&Other: 0.35, Arts&Entertainment: 0.00, Food: 0.86</span>"
      ],
      "text/plain": [
       "<IPython.core.display.Markdown object>"
      ]
     },
     "metadata": {},
     "output_type": "display_data"
    },
    {
     "data": {
      "text/markdown": [
       "<span style=\"font-size:11pt\">Unweighted Mean f1: 43.03%</span>"
      ],
      "text/plain": [
       "<IPython.core.display.Markdown object>"
      ]
     },
     "metadata": {},
     "output_type": "display_data"
    },
    {
     "data": {
      "text/markdown": [
       "<span style=\"font-size:11pt\">Weighted Mean f1: 51.29%</span>"
      ],
      "text/plain": [
       "<IPython.core.display.Markdown object>"
      ]
     },
     "metadata": {},
     "output_type": "display_data"
    },
    {
     "data": {
      "text/markdown": [
       "<span style=\"font-size:11pt\">====================================================================================================</span>"
      ],
      "text/plain": [
       "<IPython.core.display.Markdown object>"
      ]
     },
     "metadata": {},
     "output_type": "display_data"
    },
    {
     "data": {
      "text/markdown": [
       "<span style=\"font-size:11pt\">Using classes from Foursquare - 391/1383 entities have a class</span>"
      ],
      "text/plain": [
       "<IPython.core.display.Markdown object>"
      ]
     },
     "metadata": {},
     "output_type": "display_data"
    },
    {
     "data": {
      "text/markdown": [
       "<span style=\"font-size:11pt\">Labels (9 classes): <span style=\"color: #0000ff\">Shops&Services</span>: 88, <span style=\"color: #0000ff\">Food</span>: 82, <span style=\"color: #0000ff\">Travel&Transport</span>: 35, <span style=\"color: #0000ff\">Professional&Other</span>: 47, <span style=\"color: #0000ff\">Residences</span>: 6, <span style=\"color: #0000ff\">Arts&Entertainment</span>: 39, <span style=\"color: #0000ff\">NightlifeSpots</span>: 17, <span style=\"color: #0000ff\">GreatOutdoors</span>: 44, <span style=\"color: #0000ff\">College&University</span>: 33</span>"
      ],
      "text/plain": [
       "<IPython.core.display.Markdown object>"
      ]
     },
     "metadata": {},
     "output_type": "display_data"
    },
    {
     "data": {
      "text/markdown": [
       "<span style=\"font-size:11pt\">Eval-Settings: metric: <span style=\"color: #0000ff\">accuracy</span>, type: <span style=\"color: #0000ff\">one-vs-rest</span>, DT-Depth: <span style=\"color: #0000ff\">3</span>, train-test-split:<span style=\"color: #0000ff\"> 33.0% in test-set </span></span>"
      ],
      "text/plain": [
       "<IPython.core.display.Markdown object>"
      ]
     },
     "metadata": {},
     "output_type": "display_data"
    },
    {
     "data": {
      "text/markdown": [
       "<span style=\"font-size:11pt\">Per-Class-Scores: GreatOutdoors: 0.83, NightlifeSpots: 0.96, Travel&Transport: 0.78, Shops&Services: 0.84, College&University: 0.94, Residences: 0.92, Professional&Other: 0.81, Arts&Entertainment: 0.55, Food: 0.93</span>"
      ],
      "text/plain": [
       "<IPython.core.display.Markdown object>"
      ]
     },
     "metadata": {},
     "output_type": "display_data"
    },
    {
     "data": {
      "text/markdown": [
       "<span style=\"font-size:11pt\">Unweighted Mean accuracy: 84.02%</span>"
      ],
      "text/plain": [
       "<IPython.core.display.Markdown object>"
      ]
     },
     "metadata": {},
     "output_type": "display_data"
    },
    {
     "data": {
      "text/markdown": [
       "<span style=\"font-size:11pt\">Weighted Mean accuracy: 83.44%</span>"
      ],
      "text/plain": [
       "<IPython.core.display.Markdown object>"
      ]
     },
     "metadata": {},
     "output_type": "display_data"
    },
    {
     "data": {
      "text/markdown": [
       "<span style=\"font-size:11pt\">====================================================================================================</span>"
      ],
      "text/plain": [
       "<IPython.core.display.Markdown object>"
      ]
     },
     "metadata": {},
     "output_type": "display_data"
    },
    {
     "data": {
      "text/markdown": [
       "<span style=\"font-size:11pt\">Using classes from Foursquare - 391/1383 entities have a class</span>"
      ],
      "text/plain": [
       "<IPython.core.display.Markdown object>"
      ]
     },
     "metadata": {},
     "output_type": "display_data"
    },
    {
     "data": {
      "text/markdown": [
       "<span style=\"font-size:11pt\">Labels (9 classes): <span style=\"color: #0000ff\">Shops&Services</span>: 88, <span style=\"color: #0000ff\">Food</span>: 82, <span style=\"color: #0000ff\">Travel&Transport</span>: 35, <span style=\"color: #0000ff\">Professional&Other</span>: 47, <span style=\"color: #0000ff\">Residences</span>: 6, <span style=\"color: #0000ff\">Arts&Entertainment</span>: 39, <span style=\"color: #0000ff\">NightlifeSpots</span>: 17, <span style=\"color: #0000ff\">GreatOutdoors</span>: 44, <span style=\"color: #0000ff\">College&University</span>: 33</span>"
      ],
      "text/plain": [
       "<IPython.core.display.Markdown object>"
      ]
     },
     "metadata": {},
     "output_type": "display_data"
    },
    {
     "data": {
      "text/markdown": [
       "<span style=\"font-size:11pt\">Eval-Settings: metric: <span style=\"color: #0000ff\">f1</span>, type: <span style=\"color: #0000ff\">one-vs-rest</span>, DT-Depth: <span style=\"color: #0000ff\">3</span>, train-test-split:<span style=\"color: #0000ff\"> 33.0% in test-set </span></span>"
      ],
      "text/plain": [
       "<IPython.core.display.Markdown object>"
      ]
     },
     "metadata": {},
     "output_type": "display_data"
    },
    {
     "data": {
      "text/markdown": [
       "<span style=\"font-size:11pt\">Per-Class-Scores: GreatOutdoors: 0.51, NightlifeSpots: 0.55, Travel&Transport: 0.41, Shops&Services: 0.71, College&University: 0.74, Residences: 0.00, Professional&Other: 0.45, Arts&Entertainment: 0.26, Food: 0.76</span>"
      ],
      "text/plain": [
       "<IPython.core.display.Markdown object>"
      ]
     },
     "metadata": {},
     "output_type": "display_data"
    },
    {
     "data": {
      "text/markdown": [
       "<span style=\"font-size:11pt\">Unweighted Mean f1: 48.87%</span>"
      ],
      "text/plain": [
       "<IPython.core.display.Markdown object>"
      ]
     },
     "metadata": {},
     "output_type": "display_data"
    },
    {
     "data": {
      "text/markdown": [
       "<span style=\"font-size:11pt\">Weighted Mean f1: 58.15%</span>"
      ],
      "text/plain": [
       "<IPython.core.display.Markdown object>"
      ]
     },
     "metadata": {},
     "output_type": "display_data"
    },
    {
     "data": {
      "text/markdown": [
       "<span style=\"font-size:11pt\">====================================================================================================</span>"
      ],
      "text/plain": [
       "<IPython.core.display.Markdown object>"
      ]
     },
     "metadata": {},
     "output_type": "display_data"
    },
    {
     "data": {
      "text/markdown": [
       "<span style=\"font-size:11pt\">Using classes from Foursquare - 391/1383 entities have a class</span>"
      ],
      "text/plain": [
       "<IPython.core.display.Markdown object>"
      ]
     },
     "metadata": {},
     "output_type": "display_data"
    },
    {
     "data": {
      "text/markdown": [
       "<span style=\"font-size:11pt\">Labels (9 classes): <span style=\"color: #0000ff\">Shops&Services</span>: 88, <span style=\"color: #0000ff\">Food</span>: 82, <span style=\"color: #0000ff\">Travel&Transport</span>: 35, <span style=\"color: #0000ff\">Professional&Other</span>: 47, <span style=\"color: #0000ff\">Residences</span>: 6, <span style=\"color: #0000ff\">Arts&Entertainment</span>: 39, <span style=\"color: #0000ff\">NightlifeSpots</span>: 17, <span style=\"color: #0000ff\">GreatOutdoors</span>: 44, <span style=\"color: #0000ff\">College&University</span>: 33</span>"
      ],
      "text/plain": [
       "<IPython.core.display.Markdown object>"
      ]
     },
     "metadata": {},
     "output_type": "display_data"
    },
    {
     "data": {
      "text/markdown": [
       "<span style=\"font-size:11pt\">Eval-Settings: metric: <span style=\"color: #0000ff\">accuracy</span>, type: <span style=\"color: #0000ff\">one-vs-rest</span>, DT-Depth: <span style=\"color: #0000ff\">3</span>, train-test-split:<span style=\"color: #0000ff\"> 33.0% in test-set </span></span>"
      ],
      "text/plain": [
       "<IPython.core.display.Markdown object>"
      ]
     },
     "metadata": {},
     "output_type": "display_data"
    },
    {
     "data": {
      "text/markdown": [
       "<span style=\"font-size:11pt\">Per-Class-Scores: GreatOutdoors: 0.92, NightlifeSpots: 0.94, Travel&Transport: 0.91, Shops&Services: 0.84, College&University: 0.97, Residences: 0.99, Professional&Other: 0.87, Arts&Entertainment: 0.88, Food: 0.92</span>"
      ],
      "text/plain": [
       "<IPython.core.display.Markdown object>"
      ]
     },
     "metadata": {},
     "output_type": "display_data"
    },
    {
     "data": {
      "text/markdown": [
       "<span style=\"font-size:11pt\">Unweighted Mean accuracy: 91.45%</span>"
      ],
      "text/plain": [
       "<IPython.core.display.Markdown object>"
      ]
     },
     "metadata": {},
     "output_type": "display_data"
    },
    {
     "data": {
      "text/markdown": [
       "<span style=\"font-size:11pt\">Weighted Mean accuracy: 89.63%</span>"
      ],
      "text/plain": [
       "<IPython.core.display.Markdown object>"
      ]
     },
     "metadata": {},
     "output_type": "display_data"
    },
    {
     "data": {
      "text/markdown": [
       "<span style=\"font-size:11pt\">====================================================================================================</span>"
      ],
      "text/plain": [
       "<IPython.core.display.Markdown object>"
      ]
     },
     "metadata": {},
     "output_type": "display_data"
    },
    {
     "data": {
      "text/markdown": [
       "<span style=\"font-size:11pt\">Using classes from Foursquare - 391/1383 entities have a class</span>"
      ],
      "text/plain": [
       "<IPython.core.display.Markdown object>"
      ]
     },
     "metadata": {},
     "output_type": "display_data"
    },
    {
     "data": {
      "text/markdown": [
       "<span style=\"font-size:11pt\">Labels (9 classes): <span style=\"color: #0000ff\">Shops&Services</span>: 88, <span style=\"color: #0000ff\">Food</span>: 82, <span style=\"color: #0000ff\">Travel&Transport</span>: 35, <span style=\"color: #0000ff\">Professional&Other</span>: 47, <span style=\"color: #0000ff\">Residences</span>: 6, <span style=\"color: #0000ff\">Arts&Entertainment</span>: 39, <span style=\"color: #0000ff\">NightlifeSpots</span>: 17, <span style=\"color: #0000ff\">GreatOutdoors</span>: 44, <span style=\"color: #0000ff\">College&University</span>: 33</span>"
      ],
      "text/plain": [
       "<IPython.core.display.Markdown object>"
      ]
     },
     "metadata": {},
     "output_type": "display_data"
    },
    {
     "data": {
      "text/markdown": [
       "<span style=\"font-size:11pt\">Eval-Settings: metric: <span style=\"color: #0000ff\">f1</span>, type: <span style=\"color: #0000ff\">one-vs-rest</span>, DT-Depth: <span style=\"color: #0000ff\">3</span>, train-test-split:<span style=\"color: #0000ff\"> 33.0% in test-set </span></span>"
      ],
      "text/plain": [
       "<IPython.core.display.Markdown object>"
      ]
     },
     "metadata": {},
     "output_type": "display_data"
    },
    {
     "data": {
      "text/markdown": [
       "<span style=\"font-size:11pt\">Per-Class-Scores: GreatOutdoors: 0.48, NightlifeSpots: 0.00, Travel&Transport: 0.00, Shops&Services: 0.70, College&University: 0.79, Residences: 0.00, Professional&Other: 0.19, Arts&Entertainment: 0.20, Food: 0.78</span>"
      ],
      "text/plain": [
       "<IPython.core.display.Markdown object>"
      ]
     },
     "metadata": {},
     "output_type": "display_data"
    },
    {
     "data": {
      "text/markdown": [
       "<span style=\"font-size:11pt\">Unweighted Mean f1: 34.90%</span>"
      ],
      "text/plain": [
       "<IPython.core.display.Markdown object>"
      ]
     },
     "metadata": {},
     "output_type": "display_data"
    },
    {
     "data": {
      "text/markdown": [
       "<span style=\"font-size:11pt\">Weighted Mean f1: 48.45%</span>"
      ],
      "text/plain": [
       "<IPython.core.display.Markdown object>"
      ]
     },
     "metadata": {},
     "output_type": "display_data"
    },
    {
     "data": {
      "text/markdown": [
       "<span style=\"font-size:11pt\">====================================================================================================</span>"
      ],
      "text/plain": [
       "<IPython.core.display.Markdown object>"
      ]
     },
     "metadata": {},
     "output_type": "display_data"
    },
    {
     "data": {
      "text/markdown": [
       "<span style=\"font-size:11pt\">Using classes from Foursquare - 391/1383 entities have a class</span>"
      ],
      "text/plain": [
       "<IPython.core.display.Markdown object>"
      ]
     },
     "metadata": {},
     "output_type": "display_data"
    },
    {
     "data": {
      "text/markdown": [
       "<span style=\"font-size:11pt\">Labels (9 classes): <span style=\"color: #0000ff\">Shops&Services</span>: 88, <span style=\"color: #0000ff\">Food</span>: 82, <span style=\"color: #0000ff\">Travel&Transport</span>: 35, <span style=\"color: #0000ff\">Professional&Other</span>: 47, <span style=\"color: #0000ff\">Residences</span>: 6, <span style=\"color: #0000ff\">Arts&Entertainment</span>: 39, <span style=\"color: #0000ff\">NightlifeSpots</span>: 17, <span style=\"color: #0000ff\">GreatOutdoors</span>: 44, <span style=\"color: #0000ff\">College&University</span>: 33</span>"
      ],
      "text/plain": [
       "<IPython.core.display.Markdown object>"
      ]
     },
     "metadata": {},
     "output_type": "display_data"
    },
    {
     "data": {
      "text/markdown": [
       "<span style=\"font-size:11pt\">Eval-Settings: metric: <span style=\"color: #0000ff\">accuracy</span>, type: <span style=\"color: #0000ff\">one-vs-rest</span>, DT-Depth: <span style=\"color: #0000ff\">None</span>, train-test-split:<span style=\"color: #0000ff\"> 33.0% in test-set </span></span>"
      ],
      "text/plain": [
       "<IPython.core.display.Markdown object>"
      ]
     },
     "metadata": {},
     "output_type": "display_data"
    },
    {
     "data": {
      "text/markdown": [
       "<span style=\"font-size:11pt\">Per-Class-Scores: GreatOutdoors: 0.85, NightlifeSpots: 0.96, Travel&Transport: 0.82, Shops&Services: 0.78, College&University: 0.94, Residences: 0.99, Professional&Other: 0.85, Arts&Entertainment: 0.80, Food: 0.92</span>"
      ],
      "text/plain": [
       "<IPython.core.display.Markdown object>"
      ]
     },
     "metadata": {},
     "output_type": "display_data"
    },
    {
     "data": {
      "text/markdown": [
       "<span style=\"font-size:11pt\">Unweighted Mean accuracy: 87.78%</span>"
      ],
      "text/plain": [
       "<IPython.core.display.Markdown object>"
      ]
     },
     "metadata": {},
     "output_type": "display_data"
    },
    {
     "data": {
      "text/markdown": [
       "<span style=\"font-size:11pt\">Weighted Mean accuracy: 85.45%</span>"
      ],
      "text/plain": [
       "<IPython.core.display.Markdown object>"
      ]
     },
     "metadata": {},
     "output_type": "display_data"
    },
    {
     "data": {
      "text/markdown": [
       "<span style=\"font-size:11pt\">====================================================================================================</span>"
      ],
      "text/plain": [
       "<IPython.core.display.Markdown object>"
      ]
     },
     "metadata": {},
     "output_type": "display_data"
    },
    {
     "data": {
      "text/markdown": [
       "<span style=\"font-size:11pt\">Using classes from Foursquare - 391/1383 entities have a class</span>"
      ],
      "text/plain": [
       "<IPython.core.display.Markdown object>"
      ]
     },
     "metadata": {},
     "output_type": "display_data"
    },
    {
     "data": {
      "text/markdown": [
       "<span style=\"font-size:11pt\">Labels (9 classes): <span style=\"color: #0000ff\">Shops&Services</span>: 88, <span style=\"color: #0000ff\">Food</span>: 82, <span style=\"color: #0000ff\">Travel&Transport</span>: 35, <span style=\"color: #0000ff\">Professional&Other</span>: 47, <span style=\"color: #0000ff\">Residences</span>: 6, <span style=\"color: #0000ff\">Arts&Entertainment</span>: 39, <span style=\"color: #0000ff\">NightlifeSpots</span>: 17, <span style=\"color: #0000ff\">GreatOutdoors</span>: 44, <span style=\"color: #0000ff\">College&University</span>: 33</span>"
      ],
      "text/plain": [
       "<IPython.core.display.Markdown object>"
      ]
     },
     "metadata": {},
     "output_type": "display_data"
    },
    {
     "data": {
      "text/markdown": [
       "<span style=\"font-size:11pt\">Eval-Settings: metric: <span style=\"color: #0000ff\">f1</span>, type: <span style=\"color: #0000ff\">one-vs-rest</span>, DT-Depth: <span style=\"color: #0000ff\">None</span>, train-test-split:<span style=\"color: #0000ff\"> 33.0% in test-set </span></span>"
      ],
      "text/plain": [
       "<IPython.core.display.Markdown object>"
      ]
     },
     "metadata": {},
     "output_type": "display_data"
    },
    {
     "data": {
      "text/markdown": [
       "<span style=\"font-size:11pt\">Per-Class-Scores: GreatOutdoors: 0.43, NightlifeSpots: 0.63, Travel&Transport: 0.33, Shops&Services: 0.52, College&University: 0.80, Residences: 0.00, Professional&Other: 0.29, Arts&Entertainment: 0.22, Food: 0.75</span>"
      ],
      "text/plain": [
       "<IPython.core.display.Markdown object>"
      ]
     },
     "metadata": {},
     "output_type": "display_data"
    },
    {
     "data": {
      "text/markdown": [
       "<span style=\"font-size:11pt\">Unweighted Mean f1: 44.01%</span>"
      ],
      "text/plain": [
       "<IPython.core.display.Markdown object>"
      ]
     },
     "metadata": {},
     "output_type": "display_data"
    },
    {
     "data": {
      "text/markdown": [
       "<span style=\"font-size:11pt\">Weighted Mean f1: 50.28%</span>"
      ],
      "text/plain": [
       "<IPython.core.display.Markdown object>"
      ]
     },
     "metadata": {},
     "output_type": "display_data"
    },
    {
     "data": {
      "text/markdown": [
       "<span style=\"font-size:11pt\">====================================================================================================</span>"
      ],
      "text/plain": [
       "<IPython.core.display.Markdown object>"
      ]
     },
     "metadata": {},
     "output_type": "display_data"
    },
    {
     "data": {
      "text/markdown": [
       "<span style=\"font-size:11pt\">Using classes from Foursquare - 391/1383 entities have a class</span>"
      ],
      "text/plain": [
       "<IPython.core.display.Markdown object>"
      ]
     },
     "metadata": {},
     "output_type": "display_data"
    },
    {
     "data": {
      "text/markdown": [
       "<span style=\"font-size:11pt\">Labels (9 classes): <span style=\"color: #0000ff\">Shops&Services</span>: 88, <span style=\"color: #0000ff\">Food</span>: 82, <span style=\"color: #0000ff\">Travel&Transport</span>: 35, <span style=\"color: #0000ff\">Professional&Other</span>: 47, <span style=\"color: #0000ff\">Residences</span>: 6, <span style=\"color: #0000ff\">Arts&Entertainment</span>: 39, <span style=\"color: #0000ff\">NightlifeSpots</span>: 17, <span style=\"color: #0000ff\">GreatOutdoors</span>: 44, <span style=\"color: #0000ff\">College&University</span>: 33</span>"
      ],
      "text/plain": [
       "<IPython.core.display.Markdown object>"
      ]
     },
     "metadata": {},
     "output_type": "display_data"
    },
    {
     "data": {
      "text/markdown": [
       "<span style=\"font-size:11pt\">Eval-Settings: metric: <span style=\"color: #0000ff\">accuracy</span>, type: <span style=\"color: #0000ff\">one-vs-rest</span>, DT-Depth: <span style=\"color: #0000ff\">None</span>, train-test-split:<span style=\"color: #0000ff\"> 33.0% in test-set </span></span>"
      ],
      "text/plain": [
       "<IPython.core.display.Markdown object>"
      ]
     },
     "metadata": {},
     "output_type": "display_data"
    },
    {
     "data": {
      "text/markdown": [
       "<span style=\"font-size:11pt\">Per-Class-Scores: GreatOutdoors: 0.88, NightlifeSpots: 0.97, Travel&Transport: 0.84, Shops&Services: 0.78, College&University: 0.96, Residences: 0.97, Professional&Other: 0.90, Arts&Entertainment: 0.78, Food: 0.91</span>"
      ],
      "text/plain": [
       "<IPython.core.display.Markdown object>"
      ]
     },
     "metadata": {},
     "output_type": "display_data"
    },
    {
     "data": {
      "text/markdown": [
       "<span style=\"font-size:11pt\">Unweighted Mean accuracy: 88.80%</span>"
      ],
      "text/plain": [
       "<IPython.core.display.Markdown object>"
      ]
     },
     "metadata": {},
     "output_type": "display_data"
    },
    {
     "data": {
      "text/markdown": [
       "<span style=\"font-size:11pt\">Weighted Mean accuracy: 86.53%</span>"
      ],
      "text/plain": [
       "<IPython.core.display.Markdown object>"
      ]
     },
     "metadata": {},
     "output_type": "display_data"
    },
    {
     "data": {
      "text/markdown": [
       "<span style=\"font-size:11pt\">====================================================================================================</span>"
      ],
      "text/plain": [
       "<IPython.core.display.Markdown object>"
      ]
     },
     "metadata": {},
     "output_type": "display_data"
    },
    {
     "data": {
      "text/markdown": [
       "<span style=\"font-size:11pt\">Using classes from Foursquare - 391/1383 entities have a class</span>"
      ],
      "text/plain": [
       "<IPython.core.display.Markdown object>"
      ]
     },
     "metadata": {},
     "output_type": "display_data"
    },
    {
     "data": {
      "text/markdown": [
       "<span style=\"font-size:11pt\">Labels (9 classes): <span style=\"color: #0000ff\">Shops&Services</span>: 88, <span style=\"color: #0000ff\">Food</span>: 82, <span style=\"color: #0000ff\">Travel&Transport</span>: 35, <span style=\"color: #0000ff\">Professional&Other</span>: 47, <span style=\"color: #0000ff\">Residences</span>: 6, <span style=\"color: #0000ff\">Arts&Entertainment</span>: 39, <span style=\"color: #0000ff\">NightlifeSpots</span>: 17, <span style=\"color: #0000ff\">GreatOutdoors</span>: 44, <span style=\"color: #0000ff\">College&University</span>: 33</span>"
      ],
      "text/plain": [
       "<IPython.core.display.Markdown object>"
      ]
     },
     "metadata": {},
     "output_type": "display_data"
    },
    {
     "data": {
      "text/markdown": [
       "<span style=\"font-size:11pt\">Eval-Settings: metric: <span style=\"color: #0000ff\">f1</span>, type: <span style=\"color: #0000ff\">one-vs-rest</span>, DT-Depth: <span style=\"color: #0000ff\">None</span>, train-test-split:<span style=\"color: #0000ff\"> 33.0% in test-set </span></span>"
      ],
      "text/plain": [
       "<IPython.core.display.Markdown object>"
      ]
     },
     "metadata": {},
     "output_type": "display_data"
    },
    {
     "data": {
      "text/markdown": [
       "<span style=\"font-size:11pt\">Per-Class-Scores: GreatOutdoors: 0.48, NightlifeSpots: 0.67, Travel&Transport: 0.00, Shops&Services: 0.56, College&University: 0.67, Residences: 0.00, Professional&Other: 0.32, Arts&Entertainment: 0.36, Food: 0.83</span>"
      ],
      "text/plain": [
       "<IPython.core.display.Markdown object>"
      ]
     },
     "metadata": {},
     "output_type": "display_data"
    },
    {
     "data": {
      "text/markdown": [
       "<span style=\"font-size:11pt\">Unweighted Mean f1: 43.16%</span>"
      ],
      "text/plain": [
       "<IPython.core.display.Markdown object>"
      ]
     },
     "metadata": {},
     "output_type": "display_data"
    },
    {
     "data": {
      "text/markdown": [
       "<span style=\"font-size:11pt\">Weighted Mean f1: 51.39%</span>"
      ],
      "text/plain": [
       "<IPython.core.display.Markdown object>"
      ]
     },
     "metadata": {},
     "output_type": "display_data"
    },
    {
     "data": {
      "text/markdown": [
       "<span style=\"font-size:11pt\">====================================================================================================</span>"
      ],
      "text/plain": [
       "<IPython.core.display.Markdown object>"
      ]
     },
     "metadata": {},
     "output_type": "display_data"
    },
    {
     "data": {
      "text/markdown": [
       "<span style=\"font-size:11pt\">Using classes from Foursquare - 391/1383 entities have a class</span>"
      ],
      "text/plain": [
       "<IPython.core.display.Markdown object>"
      ]
     },
     "metadata": {},
     "output_type": "display_data"
    },
    {
     "data": {
      "text/markdown": [
       "<span style=\"font-size:11pt\">Labels (9 classes): <span style=\"color: #0000ff\">Shops&Services</span>: 88, <span style=\"color: #0000ff\">Food</span>: 82, <span style=\"color: #0000ff\">Travel&Transport</span>: 35, <span style=\"color: #0000ff\">Professional&Other</span>: 47, <span style=\"color: #0000ff\">Residences</span>: 6, <span style=\"color: #0000ff\">Arts&Entertainment</span>: 39, <span style=\"color: #0000ff\">NightlifeSpots</span>: 17, <span style=\"color: #0000ff\">GreatOutdoors</span>: 44, <span style=\"color: #0000ff\">College&University</span>: 33</span>"
      ],
      "text/plain": [
       "<IPython.core.display.Markdown object>"
      ]
     },
     "metadata": {},
     "output_type": "display_data"
    },
    {
     "data": {
      "text/markdown": [
       "<span style=\"font-size:11pt\">Eval-Settings: metric: <span style=\"color: #0000ff\">accuracy</span>, type: <span style=\"color: #0000ff\">all-at-once</span>, DT-Depth: <span style=\"color: #0000ff\">1</span>, train-test-split:<span style=\"color: #0000ff\"> 33.0% in test-set </span></span>"
      ],
      "text/plain": [
       "<IPython.core.display.Markdown object>"
      ]
     },
     "metadata": {},
     "output_type": "display_data"
    },
    {
     "name": "stderr",
     "output_type": "stream",
     "text": [
      "derive_conceptualspace/evaluate/shallow_trees.py:141: UserWarning: There are more classes (9) than your decision-tree can possibly classify (2)\n"
     ]
    },
    {
     "data": {
      "text/markdown": [
       "<span style=\"font-size:11pt\">accuracy: 0.13</span>"
      ],
      "text/plain": [
       "<IPython.core.display.Markdown object>"
      ]
     },
     "metadata": {},
     "output_type": "display_data"
    },
    {
     "data": {
      "text/markdown": [
       "<span style=\"font-size:11pt\">Baseline accuracy: 0.23</span>"
      ],
      "text/plain": [
       "<IPython.core.display.Markdown object>"
      ]
     },
     "metadata": {},
     "output_type": "display_data"
    },
    {
     "data": {
      "text/markdown": [
       "<span style=\"font-size:11pt\">Maximally achievable accuracy: 0.43</span>"
      ],
      "text/plain": [
       "<IPython.core.display.Markdown object>"
      ]
     },
     "metadata": {},
     "output_type": "display_data"
    },
    {
     "data": {
      "text/markdown": [
       "<span style=\"font-size:11pt\">====================================================================================================</span>"
      ],
      "text/plain": [
       "<IPython.core.display.Markdown object>"
      ]
     },
     "metadata": {},
     "output_type": "display_data"
    },
    {
     "data": {
      "text/markdown": [
       "<span style=\"font-size:11pt\">Using classes from Foursquare - 391/1383 entities have a class</span>"
      ],
      "text/plain": [
       "<IPython.core.display.Markdown object>"
      ]
     },
     "metadata": {},
     "output_type": "display_data"
    },
    {
     "data": {
      "text/markdown": [
       "<span style=\"font-size:11pt\">Labels (9 classes): <span style=\"color: #0000ff\">Shops&Services</span>: 88, <span style=\"color: #0000ff\">Food</span>: 82, <span style=\"color: #0000ff\">Travel&Transport</span>: 35, <span style=\"color: #0000ff\">Professional&Other</span>: 47, <span style=\"color: #0000ff\">Residences</span>: 6, <span style=\"color: #0000ff\">Arts&Entertainment</span>: 39, <span style=\"color: #0000ff\">NightlifeSpots</span>: 17, <span style=\"color: #0000ff\">GreatOutdoors</span>: 44, <span style=\"color: #0000ff\">College&University</span>: 33</span>"
      ],
      "text/plain": [
       "<IPython.core.display.Markdown object>"
      ]
     },
     "metadata": {},
     "output_type": "display_data"
    },
    {
     "data": {
      "text/markdown": [
       "<span style=\"font-size:11pt\">Eval-Settings: metric: <span style=\"color: #0000ff\">f1</span>, type: <span style=\"color: #0000ff\">all-at-once</span>, DT-Depth: <span style=\"color: #0000ff\">1</span>, train-test-split:<span style=\"color: #0000ff\"> 33.0% in test-set </span></span>"
      ],
      "text/plain": [
       "<IPython.core.display.Markdown object>"
      ]
     },
     "metadata": {},
     "output_type": "display_data"
    },
    {
     "name": "stderr",
     "output_type": "stream",
     "text": [
      "derive_conceptualspace/evaluate/shallow_trees.py:141: UserWarning: There are more classes (9) than your decision-tree can possibly classify (2)\n"
     ]
    },
    {
     "data": {
      "text/markdown": [
       "<span style=\"font-size:11pt\">f1: 0.18</span>"
      ],
      "text/plain": [
       "<IPython.core.display.Markdown object>"
      ]
     },
     "metadata": {},
     "output_type": "display_data"
    },
    {
     "data": {
      "text/markdown": [
       "<span style=\"font-size:11pt\">Baseline f1: 0.23</span>"
      ],
      "text/plain": [
       "<IPython.core.display.Markdown object>"
      ]
     },
     "metadata": {},
     "output_type": "display_data"
    },
    {
     "data": {
      "text/markdown": [
       "<span style=\"font-size:11pt\">====================================================================================================</span>"
      ],
      "text/plain": [
       "<IPython.core.display.Markdown object>"
      ]
     },
     "metadata": {},
     "output_type": "display_data"
    },
    {
     "data": {
      "text/markdown": [
       "<span style=\"font-size:11pt\">Using classes from Foursquare - 391/1383 entities have a class</span>"
      ],
      "text/plain": [
       "<IPython.core.display.Markdown object>"
      ]
     },
     "metadata": {},
     "output_type": "display_data"
    },
    {
     "data": {
      "text/markdown": [
       "<span style=\"font-size:11pt\">Labels (9 classes): <span style=\"color: #0000ff\">Shops&Services</span>: 88, <span style=\"color: #0000ff\">Food</span>: 82, <span style=\"color: #0000ff\">Travel&Transport</span>: 35, <span style=\"color: #0000ff\">Professional&Other</span>: 47, <span style=\"color: #0000ff\">Residences</span>: 6, <span style=\"color: #0000ff\">Arts&Entertainment</span>: 39, <span style=\"color: #0000ff\">NightlifeSpots</span>: 17, <span style=\"color: #0000ff\">GreatOutdoors</span>: 44, <span style=\"color: #0000ff\">College&University</span>: 33</span>"
      ],
      "text/plain": [
       "<IPython.core.display.Markdown object>"
      ]
     },
     "metadata": {},
     "output_type": "display_data"
    },
    {
     "data": {
      "text/markdown": [
       "<span style=\"font-size:11pt\">Eval-Settings: metric: <span style=\"color: #0000ff\">accuracy</span>, type: <span style=\"color: #0000ff\">all-at-once</span>, DT-Depth: <span style=\"color: #0000ff\">1</span>, train-test-split:<span style=\"color: #0000ff\"> 33.0% in test-set </span></span>"
      ],
      "text/plain": [
       "<IPython.core.display.Markdown object>"
      ]
     },
     "metadata": {},
     "output_type": "display_data"
    },
    {
     "name": "stderr",
     "output_type": "stream",
     "text": [
      "derive_conceptualspace/evaluate/shallow_trees.py:141: UserWarning: There are more classes (9) than your decision-tree can possibly classify (2)\n"
     ]
    },
    {
     "data": {
      "text/markdown": [
       "<span style=\"font-size:11pt\">accuracy: 0.28</span>"
      ],
      "text/plain": [
       "<IPython.core.display.Markdown object>"
      ]
     },
     "metadata": {},
     "output_type": "display_data"
    },
    {
     "data": {
      "text/markdown": [
       "<span style=\"font-size:11pt\">Baseline accuracy: 0.23</span>"
      ],
      "text/plain": [
       "<IPython.core.display.Markdown object>"
      ]
     },
     "metadata": {},
     "output_type": "display_data"
    },
    {
     "data": {
      "text/markdown": [
       "<span style=\"font-size:11pt\">Maximally achievable accuracy: 0.43</span>"
      ],
      "text/plain": [
       "<IPython.core.display.Markdown object>"
      ]
     },
     "metadata": {},
     "output_type": "display_data"
    },
    {
     "data": {
      "text/markdown": [
       "<span style=\"font-size:11pt\">====================================================================================================</span>"
      ],
      "text/plain": [
       "<IPython.core.display.Markdown object>"
      ]
     },
     "metadata": {},
     "output_type": "display_data"
    },
    {
     "data": {
      "text/markdown": [
       "<span style=\"font-size:11pt\">Using classes from Foursquare - 391/1383 entities have a class</span>"
      ],
      "text/plain": [
       "<IPython.core.display.Markdown object>"
      ]
     },
     "metadata": {},
     "output_type": "display_data"
    },
    {
     "data": {
      "text/markdown": [
       "<span style=\"font-size:11pt\">Labels (9 classes): <span style=\"color: #0000ff\">Shops&Services</span>: 88, <span style=\"color: #0000ff\">Food</span>: 82, <span style=\"color: #0000ff\">Travel&Transport</span>: 35, <span style=\"color: #0000ff\">Professional&Other</span>: 47, <span style=\"color: #0000ff\">Residences</span>: 6, <span style=\"color: #0000ff\">Arts&Entertainment</span>: 39, <span style=\"color: #0000ff\">NightlifeSpots</span>: 17, <span style=\"color: #0000ff\">GreatOutdoors</span>: 44, <span style=\"color: #0000ff\">College&University</span>: 33</span>"
      ],
      "text/plain": [
       "<IPython.core.display.Markdown object>"
      ]
     },
     "metadata": {},
     "output_type": "display_data"
    },
    {
     "data": {
      "text/markdown": [
       "<span style=\"font-size:11pt\">Eval-Settings: metric: <span style=\"color: #0000ff\">f1</span>, type: <span style=\"color: #0000ff\">all-at-once</span>, DT-Depth: <span style=\"color: #0000ff\">1</span>, train-test-split:<span style=\"color: #0000ff\"> 33.0% in test-set </span></span>"
      ],
      "text/plain": [
       "<IPython.core.display.Markdown object>"
      ]
     },
     "metadata": {},
     "output_type": "display_data"
    },
    {
     "name": "stderr",
     "output_type": "stream",
     "text": [
      "derive_conceptualspace/evaluate/shallow_trees.py:141: UserWarning: There are more classes (9) than your decision-tree can possibly classify (2)\n"
     ]
    },
    {
     "data": {
      "text/markdown": [
       "<span style=\"font-size:11pt\">f1: 0.41</span>"
      ],
      "text/plain": [
       "<IPython.core.display.Markdown object>"
      ]
     },
     "metadata": {},
     "output_type": "display_data"
    },
    {
     "data": {
      "text/markdown": [
       "<span style=\"font-size:11pt\">Baseline f1: 0.23</span>"
      ],
      "text/plain": [
       "<IPython.core.display.Markdown object>"
      ]
     },
     "metadata": {},
     "output_type": "display_data"
    },
    {
     "data": {
      "text/markdown": [
       "<span style=\"font-size:11pt\">====================================================================================================</span>"
      ],
      "text/plain": [
       "<IPython.core.display.Markdown object>"
      ]
     },
     "metadata": {},
     "output_type": "display_data"
    },
    {
     "data": {
      "text/markdown": [
       "<span style=\"font-size:11pt\">Using classes from Foursquare - 391/1383 entities have a class</span>"
      ],
      "text/plain": [
       "<IPython.core.display.Markdown object>"
      ]
     },
     "metadata": {},
     "output_type": "display_data"
    },
    {
     "data": {
      "text/markdown": [
       "<span style=\"font-size:11pt\">Labels (9 classes): <span style=\"color: #0000ff\">Shops&Services</span>: 88, <span style=\"color: #0000ff\">Food</span>: 82, <span style=\"color: #0000ff\">Travel&Transport</span>: 35, <span style=\"color: #0000ff\">Professional&Other</span>: 47, <span style=\"color: #0000ff\">Residences</span>: 6, <span style=\"color: #0000ff\">Arts&Entertainment</span>: 39, <span style=\"color: #0000ff\">NightlifeSpots</span>: 17, <span style=\"color: #0000ff\">GreatOutdoors</span>: 44, <span style=\"color: #0000ff\">College&University</span>: 33</span>"
      ],
      "text/plain": [
       "<IPython.core.display.Markdown object>"
      ]
     },
     "metadata": {},
     "output_type": "display_data"
    },
    {
     "data": {
      "text/markdown": [
       "<span style=\"font-size:11pt\">Eval-Settings: metric: <span style=\"color: #0000ff\">accuracy</span>, type: <span style=\"color: #0000ff\">all-at-once</span>, DT-Depth: <span style=\"color: #0000ff\">2</span>, train-test-split:<span style=\"color: #0000ff\"> 33.0% in test-set </span></span>"
      ],
      "text/plain": [
       "<IPython.core.display.Markdown object>"
      ]
     },
     "metadata": {},
     "output_type": "display_data"
    },
    {
     "name": "stderr",
     "output_type": "stream",
     "text": [
      "derive_conceptualspace/evaluate/shallow_trees.py:141: UserWarning: There are more classes (9) than your decision-tree can possibly classify (4)\n"
     ]
    },
    {
     "data": {
      "text/markdown": [
       "<span style=\"font-size:11pt\">accuracy: 0.34</span>"
      ],
      "text/plain": [
       "<IPython.core.display.Markdown object>"
      ]
     },
     "metadata": {},
     "output_type": "display_data"
    },
    {
     "data": {
      "text/markdown": [
       "<span style=\"font-size:11pt\">====================================================================================================</span>"
      ],
      "text/plain": [
       "<IPython.core.display.Markdown object>"
      ]
     },
     "metadata": {},
     "output_type": "display_data"
    },
    {
     "data": {
      "text/markdown": [
       "<span style=\"font-size:11pt\">Using classes from Foursquare - 391/1383 entities have a class</span>"
      ],
      "text/plain": [
       "<IPython.core.display.Markdown object>"
      ]
     },
     "metadata": {},
     "output_type": "display_data"
    },
    {
     "data": {
      "text/markdown": [
       "<span style=\"font-size:11pt\">Labels (9 classes): <span style=\"color: #0000ff\">Shops&Services</span>: 88, <span style=\"color: #0000ff\">Food</span>: 82, <span style=\"color: #0000ff\">Travel&Transport</span>: 35, <span style=\"color: #0000ff\">Professional&Other</span>: 47, <span style=\"color: #0000ff\">Residences</span>: 6, <span style=\"color: #0000ff\">Arts&Entertainment</span>: 39, <span style=\"color: #0000ff\">NightlifeSpots</span>: 17, <span style=\"color: #0000ff\">GreatOutdoors</span>: 44, <span style=\"color: #0000ff\">College&University</span>: 33</span>"
      ],
      "text/plain": [
       "<IPython.core.display.Markdown object>"
      ]
     },
     "metadata": {},
     "output_type": "display_data"
    },
    {
     "data": {
      "text/markdown": [
       "<span style=\"font-size:11pt\">Eval-Settings: metric: <span style=\"color: #0000ff\">f1</span>, type: <span style=\"color: #0000ff\">all-at-once</span>, DT-Depth: <span style=\"color: #0000ff\">2</span>, train-test-split:<span style=\"color: #0000ff\"> 33.0% in test-set </span></span>"
      ],
      "text/plain": [
       "<IPython.core.display.Markdown object>"
      ]
     },
     "metadata": {},
     "output_type": "display_data"
    },
    {
     "name": "stderr",
     "output_type": "stream",
     "text": [
      "derive_conceptualspace/evaluate/shallow_trees.py:141: UserWarning: There are more classes (9) than your decision-tree can possibly classify (4)\n"
     ]
    },
    {
     "data": {
      "text/markdown": [
       "<span style=\"font-size:11pt\">f1: 0.13</span>"
      ],
      "text/plain": [
       "<IPython.core.display.Markdown object>"
      ]
     },
     "metadata": {},
     "output_type": "display_data"
    },
    {
     "data": {
      "text/markdown": [
       "<span style=\"font-size:11pt\">====================================================================================================</span>"
      ],
      "text/plain": [
       "<IPython.core.display.Markdown object>"
      ]
     },
     "metadata": {},
     "output_type": "display_data"
    },
    {
     "data": {
      "text/markdown": [
       "<span style=\"font-size:11pt\">Using classes from Foursquare - 391/1383 entities have a class</span>"
      ],
      "text/plain": [
       "<IPython.core.display.Markdown object>"
      ]
     },
     "metadata": {},
     "output_type": "display_data"
    },
    {
     "data": {
      "text/markdown": [
       "<span style=\"font-size:11pt\">Labels (9 classes): <span style=\"color: #0000ff\">Shops&Services</span>: 88, <span style=\"color: #0000ff\">Food</span>: 82, <span style=\"color: #0000ff\">Travel&Transport</span>: 35, <span style=\"color: #0000ff\">Professional&Other</span>: 47, <span style=\"color: #0000ff\">Residences</span>: 6, <span style=\"color: #0000ff\">Arts&Entertainment</span>: 39, <span style=\"color: #0000ff\">NightlifeSpots</span>: 17, <span style=\"color: #0000ff\">GreatOutdoors</span>: 44, <span style=\"color: #0000ff\">College&University</span>: 33</span>"
      ],
      "text/plain": [
       "<IPython.core.display.Markdown object>"
      ]
     },
     "metadata": {},
     "output_type": "display_data"
    },
    {
     "data": {
      "text/markdown": [
       "<span style=\"font-size:11pt\">Eval-Settings: metric: <span style=\"color: #0000ff\">accuracy</span>, type: <span style=\"color: #0000ff\">all-at-once</span>, DT-Depth: <span style=\"color: #0000ff\">2</span>, train-test-split:<span style=\"color: #0000ff\"> 33.0% in test-set </span></span>"
      ],
      "text/plain": [
       "<IPython.core.display.Markdown object>"
      ]
     },
     "metadata": {},
     "output_type": "display_data"
    },
    {
     "name": "stderr",
     "output_type": "stream",
     "text": [
      "derive_conceptualspace/evaluate/shallow_trees.py:141: UserWarning: There are more classes (9) than your decision-tree can possibly classify (4)\n"
     ]
    },
    {
     "data": {
      "text/markdown": [
       "<span style=\"font-size:11pt\">accuracy: 0.40</span>"
      ],
      "text/plain": [
       "<IPython.core.display.Markdown object>"
      ]
     },
     "metadata": {},
     "output_type": "display_data"
    },
    {
     "data": {
      "text/markdown": [
       "<span style=\"font-size:11pt\">====================================================================================================</span>"
      ],
      "text/plain": [
       "<IPython.core.display.Markdown object>"
      ]
     },
     "metadata": {},
     "output_type": "display_data"
    },
    {
     "data": {
      "text/markdown": [
       "<span style=\"font-size:11pt\">Using classes from Foursquare - 391/1383 entities have a class</span>"
      ],
      "text/plain": [
       "<IPython.core.display.Markdown object>"
      ]
     },
     "metadata": {},
     "output_type": "display_data"
    },
    {
     "data": {
      "text/markdown": [
       "<span style=\"font-size:11pt\">Labels (9 classes): <span style=\"color: #0000ff\">Shops&Services</span>: 88, <span style=\"color: #0000ff\">Food</span>: 82, <span style=\"color: #0000ff\">Travel&Transport</span>: 35, <span style=\"color: #0000ff\">Professional&Other</span>: 47, <span style=\"color: #0000ff\">Residences</span>: 6, <span style=\"color: #0000ff\">Arts&Entertainment</span>: 39, <span style=\"color: #0000ff\">NightlifeSpots</span>: 17, <span style=\"color: #0000ff\">GreatOutdoors</span>: 44, <span style=\"color: #0000ff\">College&University</span>: 33</span>"
      ],
      "text/plain": [
       "<IPython.core.display.Markdown object>"
      ]
     },
     "metadata": {},
     "output_type": "display_data"
    },
    {
     "data": {
      "text/markdown": [
       "<span style=\"font-size:11pt\">Eval-Settings: metric: <span style=\"color: #0000ff\">f1</span>, type: <span style=\"color: #0000ff\">all-at-once</span>, DT-Depth: <span style=\"color: #0000ff\">2</span>, train-test-split:<span style=\"color: #0000ff\"> 33.0% in test-set </span></span>"
      ],
      "text/plain": [
       "<IPython.core.display.Markdown object>"
      ]
     },
     "metadata": {},
     "output_type": "display_data"
    },
    {
     "name": "stderr",
     "output_type": "stream",
     "text": [
      "derive_conceptualspace/evaluate/shallow_trees.py:141: UserWarning: There are more classes (9) than your decision-tree can possibly classify (4)\n"
     ]
    },
    {
     "data": {
      "text/markdown": [
       "<span style=\"font-size:11pt\">f1: 0.54</span>"
      ],
      "text/plain": [
       "<IPython.core.display.Markdown object>"
      ]
     },
     "metadata": {},
     "output_type": "display_data"
    },
    {
     "data": {
      "text/markdown": [
       "<span style=\"font-size:11pt\">====================================================================================================</span>"
      ],
      "text/plain": [
       "<IPython.core.display.Markdown object>"
      ]
     },
     "metadata": {},
     "output_type": "display_data"
    },
    {
     "data": {
      "text/markdown": [
       "<span style=\"font-size:11pt\">Using classes from Foursquare - 391/1383 entities have a class</span>"
      ],
      "text/plain": [
       "<IPython.core.display.Markdown object>"
      ]
     },
     "metadata": {},
     "output_type": "display_data"
    },
    {
     "data": {
      "text/markdown": [
       "<span style=\"font-size:11pt\">Labels (9 classes): <span style=\"color: #0000ff\">Shops&Services</span>: 88, <span style=\"color: #0000ff\">Food</span>: 82, <span style=\"color: #0000ff\">Travel&Transport</span>: 35, <span style=\"color: #0000ff\">Professional&Other</span>: 47, <span style=\"color: #0000ff\">Residences</span>: 6, <span style=\"color: #0000ff\">Arts&Entertainment</span>: 39, <span style=\"color: #0000ff\">NightlifeSpots</span>: 17, <span style=\"color: #0000ff\">GreatOutdoors</span>: 44, <span style=\"color: #0000ff\">College&University</span>: 33</span>"
      ],
      "text/plain": [
       "<IPython.core.display.Markdown object>"
      ]
     },
     "metadata": {},
     "output_type": "display_data"
    },
    {
     "data": {
      "text/markdown": [
       "<span style=\"font-size:11pt\">Eval-Settings: metric: <span style=\"color: #0000ff\">accuracy</span>, type: <span style=\"color: #0000ff\">all-at-once</span>, DT-Depth: <span style=\"color: #0000ff\">3</span>, train-test-split:<span style=\"color: #0000ff\"> 33.0% in test-set </span></span>"
      ],
      "text/plain": [
       "<IPython.core.display.Markdown object>"
      ]
     },
     "metadata": {},
     "output_type": "display_data"
    },
    {
     "name": "stderr",
     "output_type": "stream",
     "text": [
      "derive_conceptualspace/evaluate/shallow_trees.py:141: UserWarning: There are more classes (9) than your decision-tree can possibly classify (8)\n"
     ]
    },
    {
     "data": {
      "text/markdown": [
       "<span style=\"font-size:11pt\">accuracy: 0.22</span>"
      ],
      "text/plain": [
       "<IPython.core.display.Markdown object>"
      ]
     },
     "metadata": {},
     "output_type": "display_data"
    },
    {
     "data": {
      "text/markdown": [
       "<span style=\"font-size:11pt\">====================================================================================================</span>"
      ],
      "text/plain": [
       "<IPython.core.display.Markdown object>"
      ]
     },
     "metadata": {},
     "output_type": "display_data"
    },
    {
     "data": {
      "text/markdown": [
       "<span style=\"font-size:11pt\">Using classes from Foursquare - 391/1383 entities have a class</span>"
      ],
      "text/plain": [
       "<IPython.core.display.Markdown object>"
      ]
     },
     "metadata": {},
     "output_type": "display_data"
    },
    {
     "data": {
      "text/markdown": [
       "<span style=\"font-size:11pt\">Labels (9 classes): <span style=\"color: #0000ff\">Shops&Services</span>: 88, <span style=\"color: #0000ff\">Food</span>: 82, <span style=\"color: #0000ff\">Travel&Transport</span>: 35, <span style=\"color: #0000ff\">Professional&Other</span>: 47, <span style=\"color: #0000ff\">Residences</span>: 6, <span style=\"color: #0000ff\">Arts&Entertainment</span>: 39, <span style=\"color: #0000ff\">NightlifeSpots</span>: 17, <span style=\"color: #0000ff\">GreatOutdoors</span>: 44, <span style=\"color: #0000ff\">College&University</span>: 33</span>"
      ],
      "text/plain": [
       "<IPython.core.display.Markdown object>"
      ]
     },
     "metadata": {},
     "output_type": "display_data"
    },
    {
     "data": {
      "text/markdown": [
       "<span style=\"font-size:11pt\">Eval-Settings: metric: <span style=\"color: #0000ff\">f1</span>, type: <span style=\"color: #0000ff\">all-at-once</span>, DT-Depth: <span style=\"color: #0000ff\">3</span>, train-test-split:<span style=\"color: #0000ff\"> 33.0% in test-set </span></span>"
      ],
      "text/plain": [
       "<IPython.core.display.Markdown object>"
      ]
     },
     "metadata": {},
     "output_type": "display_data"
    },
    {
     "name": "stderr",
     "output_type": "stream",
     "text": [
      "derive_conceptualspace/evaluate/shallow_trees.py:141: UserWarning: There are more classes (9) than your decision-tree can possibly classify (8)\n"
     ]
    },
    {
     "data": {
      "text/markdown": [
       "<span style=\"font-size:11pt\">f1: 0.35</span>"
      ],
      "text/plain": [
       "<IPython.core.display.Markdown object>"
      ]
     },
     "metadata": {},
     "output_type": "display_data"
    },
    {
     "data": {
      "text/markdown": [
       "<span style=\"font-size:11pt\">====================================================================================================</span>"
      ],
      "text/plain": [
       "<IPython.core.display.Markdown object>"
      ]
     },
     "metadata": {},
     "output_type": "display_data"
    },
    {
     "data": {
      "text/markdown": [
       "<span style=\"font-size:11pt\">Using classes from Foursquare - 391/1383 entities have a class</span>"
      ],
      "text/plain": [
       "<IPython.core.display.Markdown object>"
      ]
     },
     "metadata": {},
     "output_type": "display_data"
    },
    {
     "data": {
      "text/markdown": [
       "<span style=\"font-size:11pt\">Labels (9 classes): <span style=\"color: #0000ff\">Shops&Services</span>: 88, <span style=\"color: #0000ff\">Food</span>: 82, <span style=\"color: #0000ff\">Travel&Transport</span>: 35, <span style=\"color: #0000ff\">Professional&Other</span>: 47, <span style=\"color: #0000ff\">Residences</span>: 6, <span style=\"color: #0000ff\">Arts&Entertainment</span>: 39, <span style=\"color: #0000ff\">NightlifeSpots</span>: 17, <span style=\"color: #0000ff\">GreatOutdoors</span>: 44, <span style=\"color: #0000ff\">College&University</span>: 33</span>"
      ],
      "text/plain": [
       "<IPython.core.display.Markdown object>"
      ]
     },
     "metadata": {},
     "output_type": "display_data"
    },
    {
     "data": {
      "text/markdown": [
       "<span style=\"font-size:11pt\">Eval-Settings: metric: <span style=\"color: #0000ff\">accuracy</span>, type: <span style=\"color: #0000ff\">all-at-once</span>, DT-Depth: <span style=\"color: #0000ff\">3</span>, train-test-split:<span style=\"color: #0000ff\"> 33.0% in test-set </span></span>"
      ],
      "text/plain": [
       "<IPython.core.display.Markdown object>"
      ]
     },
     "metadata": {},
     "output_type": "display_data"
    },
    {
     "name": "stderr",
     "output_type": "stream",
     "text": [
      "derive_conceptualspace/evaluate/shallow_trees.py:141: UserWarning: There are more classes (9) than your decision-tree can possibly classify (8)\n"
     ]
    },
    {
     "data": {
      "text/markdown": [
       "<span style=\"font-size:11pt\">accuracy: 0.57</span>"
      ],
      "text/plain": [
       "<IPython.core.display.Markdown object>"
      ]
     },
     "metadata": {},
     "output_type": "display_data"
    },
    {
     "data": {
      "text/markdown": [
       "<span style=\"font-size:11pt\">====================================================================================================</span>"
      ],
      "text/plain": [
       "<IPython.core.display.Markdown object>"
      ]
     },
     "metadata": {},
     "output_type": "display_data"
    },
    {
     "data": {
      "text/markdown": [
       "<span style=\"font-size:11pt\">Using classes from Foursquare - 391/1383 entities have a class</span>"
      ],
      "text/plain": [
       "<IPython.core.display.Markdown object>"
      ]
     },
     "metadata": {},
     "output_type": "display_data"
    },
    {
     "data": {
      "text/markdown": [
       "<span style=\"font-size:11pt\">Labels (9 classes): <span style=\"color: #0000ff\">Shops&Services</span>: 88, <span style=\"color: #0000ff\">Food</span>: 82, <span style=\"color: #0000ff\">Travel&Transport</span>: 35, <span style=\"color: #0000ff\">Professional&Other</span>: 47, <span style=\"color: #0000ff\">Residences</span>: 6, <span style=\"color: #0000ff\">Arts&Entertainment</span>: 39, <span style=\"color: #0000ff\">NightlifeSpots</span>: 17, <span style=\"color: #0000ff\">GreatOutdoors</span>: 44, <span style=\"color: #0000ff\">College&University</span>: 33</span>"
      ],
      "text/plain": [
       "<IPython.core.display.Markdown object>"
      ]
     },
     "metadata": {},
     "output_type": "display_data"
    },
    {
     "data": {
      "text/markdown": [
       "<span style=\"font-size:11pt\">Eval-Settings: metric: <span style=\"color: #0000ff\">f1</span>, type: <span style=\"color: #0000ff\">all-at-once</span>, DT-Depth: <span style=\"color: #0000ff\">3</span>, train-test-split:<span style=\"color: #0000ff\"> 33.0% in test-set </span></span>"
      ],
      "text/plain": [
       "<IPython.core.display.Markdown object>"
      ]
     },
     "metadata": {},
     "output_type": "display_data"
    },
    {
     "name": "stderr",
     "output_type": "stream",
     "text": [
      "derive_conceptualspace/evaluate/shallow_trees.py:141: UserWarning: There are more classes (9) than your decision-tree can possibly classify (8)\n"
     ]
    },
    {
     "data": {
      "text/markdown": [
       "<span style=\"font-size:11pt\">f1: 0.55</span>"
      ],
      "text/plain": [
       "<IPython.core.display.Markdown object>"
      ]
     },
     "metadata": {},
     "output_type": "display_data"
    },
    {
     "data": {
      "text/markdown": [
       "<span style=\"font-size:11pt\">====================================================================================================</span>"
      ],
      "text/plain": [
       "<IPython.core.display.Markdown object>"
      ]
     },
     "metadata": {},
     "output_type": "display_data"
    },
    {
     "data": {
      "text/markdown": [
       "<span style=\"font-size:11pt\">Using classes from Foursquare - 391/1383 entities have a class</span>"
      ],
      "text/plain": [
       "<IPython.core.display.Markdown object>"
      ]
     },
     "metadata": {},
     "output_type": "display_data"
    },
    {
     "data": {
      "text/markdown": [
       "<span style=\"font-size:11pt\">Labels (9 classes): <span style=\"color: #0000ff\">Shops&Services</span>: 88, <span style=\"color: #0000ff\">Food</span>: 82, <span style=\"color: #0000ff\">Travel&Transport</span>: 35, <span style=\"color: #0000ff\">Professional&Other</span>: 47, <span style=\"color: #0000ff\">Residences</span>: 6, <span style=\"color: #0000ff\">Arts&Entertainment</span>: 39, <span style=\"color: #0000ff\">NightlifeSpots</span>: 17, <span style=\"color: #0000ff\">GreatOutdoors</span>: 44, <span style=\"color: #0000ff\">College&University</span>: 33</span>"
      ],
      "text/plain": [
       "<IPython.core.display.Markdown object>"
      ]
     },
     "metadata": {},
     "output_type": "display_data"
    },
    {
     "data": {
      "text/markdown": [
       "<span style=\"font-size:11pt\">Eval-Settings: metric: <span style=\"color: #0000ff\">accuracy</span>, type: <span style=\"color: #0000ff\">all-at-once</span>, DT-Depth: <span style=\"color: #0000ff\">None</span>, train-test-split:<span style=\"color: #0000ff\"> 33.0% in test-set </span></span>"
      ],
      "text/plain": [
       "<IPython.core.display.Markdown object>"
      ]
     },
     "metadata": {},
     "output_type": "display_data"
    },
    {
     "data": {
      "text/markdown": [
       "<span style=\"font-size:11pt\">accuracy: 0.55</span>"
      ],
      "text/plain": [
       "<IPython.core.display.Markdown object>"
      ]
     },
     "metadata": {},
     "output_type": "display_data"
    },
    {
     "data": {
      "text/markdown": [
       "<span style=\"font-size:11pt\">====================================================================================================</span>"
      ],
      "text/plain": [
       "<IPython.core.display.Markdown object>"
      ]
     },
     "metadata": {},
     "output_type": "display_data"
    },
    {
     "data": {
      "text/markdown": [
       "<span style=\"font-size:11pt\">Using classes from Foursquare - 391/1383 entities have a class</span>"
      ],
      "text/plain": [
       "<IPython.core.display.Markdown object>"
      ]
     },
     "metadata": {},
     "output_type": "display_data"
    },
    {
     "data": {
      "text/markdown": [
       "<span style=\"font-size:11pt\">Labels (9 classes): <span style=\"color: #0000ff\">Shops&Services</span>: 88, <span style=\"color: #0000ff\">Food</span>: 82, <span style=\"color: #0000ff\">Travel&Transport</span>: 35, <span style=\"color: #0000ff\">Professional&Other</span>: 47, <span style=\"color: #0000ff\">Residences</span>: 6, <span style=\"color: #0000ff\">Arts&Entertainment</span>: 39, <span style=\"color: #0000ff\">NightlifeSpots</span>: 17, <span style=\"color: #0000ff\">GreatOutdoors</span>: 44, <span style=\"color: #0000ff\">College&University</span>: 33</span>"
      ],
      "text/plain": [
       "<IPython.core.display.Markdown object>"
      ]
     },
     "metadata": {},
     "output_type": "display_data"
    },
    {
     "data": {
      "text/markdown": [
       "<span style=\"font-size:11pt\">Eval-Settings: metric: <span style=\"color: #0000ff\">f1</span>, type: <span style=\"color: #0000ff\">all-at-once</span>, DT-Depth: <span style=\"color: #0000ff\">None</span>, train-test-split:<span style=\"color: #0000ff\"> 33.0% in test-set </span></span>"
      ],
      "text/plain": [
       "<IPython.core.display.Markdown object>"
      ]
     },
     "metadata": {},
     "output_type": "display_data"
    },
    {
     "data": {
      "text/markdown": [
       "<span style=\"font-size:11pt\">f1: 0.48</span>"
      ],
      "text/plain": [
       "<IPython.core.display.Markdown object>"
      ]
     },
     "metadata": {},
     "output_type": "display_data"
    },
    {
     "data": {
      "text/markdown": [
       "<span style=\"font-size:11pt\">====================================================================================================</span>"
      ],
      "text/plain": [
       "<IPython.core.display.Markdown object>"
      ]
     },
     "metadata": {},
     "output_type": "display_data"
    },
    {
     "data": {
      "text/markdown": [
       "<span style=\"font-size:11pt\">Using classes from Foursquare - 391/1383 entities have a class</span>"
      ],
      "text/plain": [
       "<IPython.core.display.Markdown object>"
      ]
     },
     "metadata": {},
     "output_type": "display_data"
    },
    {
     "data": {
      "text/markdown": [
       "<span style=\"font-size:11pt\">Labels (9 classes): <span style=\"color: #0000ff\">Shops&Services</span>: 88, <span style=\"color: #0000ff\">Food</span>: 82, <span style=\"color: #0000ff\">Travel&Transport</span>: 35, <span style=\"color: #0000ff\">Professional&Other</span>: 47, <span style=\"color: #0000ff\">Residences</span>: 6, <span style=\"color: #0000ff\">Arts&Entertainment</span>: 39, <span style=\"color: #0000ff\">NightlifeSpots</span>: 17, <span style=\"color: #0000ff\">GreatOutdoors</span>: 44, <span style=\"color: #0000ff\">College&University</span>: 33</span>"
      ],
      "text/plain": [
       "<IPython.core.display.Markdown object>"
      ]
     },
     "metadata": {},
     "output_type": "display_data"
    },
    {
     "data": {
      "text/markdown": [
       "<span style=\"font-size:11pt\">Eval-Settings: metric: <span style=\"color: #0000ff\">accuracy</span>, type: <span style=\"color: #0000ff\">all-at-once</span>, DT-Depth: <span style=\"color: #0000ff\">None</span>, train-test-split:<span style=\"color: #0000ff\"> 33.0% in test-set </span></span>"
      ],
      "text/plain": [
       "<IPython.core.display.Markdown object>"
      ]
     },
     "metadata": {},
     "output_type": "display_data"
    },
    {
     "data": {
      "text/markdown": [
       "<span style=\"font-size:11pt\">accuracy: 0.55</span>"
      ],
      "text/plain": [
       "<IPython.core.display.Markdown object>"
      ]
     },
     "metadata": {},
     "output_type": "display_data"
    },
    {
     "data": {
      "text/markdown": [
       "<span style=\"font-size:11pt\">====================================================================================================</span>"
      ],
      "text/plain": [
       "<IPython.core.display.Markdown object>"
      ]
     },
     "metadata": {},
     "output_type": "display_data"
    },
    {
     "data": {
      "text/markdown": [
       "<span style=\"font-size:11pt\">Using classes from Foursquare - 391/1383 entities have a class</span>"
      ],
      "text/plain": [
       "<IPython.core.display.Markdown object>"
      ]
     },
     "metadata": {},
     "output_type": "display_data"
    },
    {
     "data": {
      "text/markdown": [
       "<span style=\"font-size:11pt\">Labels (9 classes): <span style=\"color: #0000ff\">Shops&Services</span>: 88, <span style=\"color: #0000ff\">Food</span>: 82, <span style=\"color: #0000ff\">Travel&Transport</span>: 35, <span style=\"color: #0000ff\">Professional&Other</span>: 47, <span style=\"color: #0000ff\">Residences</span>: 6, <span style=\"color: #0000ff\">Arts&Entertainment</span>: 39, <span style=\"color: #0000ff\">NightlifeSpots</span>: 17, <span style=\"color: #0000ff\">GreatOutdoors</span>: 44, <span style=\"color: #0000ff\">College&University</span>: 33</span>"
      ],
      "text/plain": [
       "<IPython.core.display.Markdown object>"
      ]
     },
     "metadata": {},
     "output_type": "display_data"
    },
    {
     "data": {
      "text/markdown": [
       "<span style=\"font-size:11pt\">Eval-Settings: metric: <span style=\"color: #0000ff\">f1</span>, type: <span style=\"color: #0000ff\">all-at-once</span>, DT-Depth: <span style=\"color: #0000ff\">None</span>, train-test-split:<span style=\"color: #0000ff\"> 33.0% in test-set </span></span>"
      ],
      "text/plain": [
       "<IPython.core.display.Markdown object>"
      ]
     },
     "metadata": {},
     "output_type": "display_data"
    },
    {
     "data": {
      "text/markdown": [
       "<span style=\"font-size:11pt\">f1: 0.55</span>"
      ],
      "text/plain": [
       "<IPython.core.display.Markdown object>"
      ]
     },
     "metadata": {},
     "output_type": "display_data"
    },
    {
     "data": {
      "text/markdown": [
       "<span style=\"font-size:11pt\">====================================================================================================</span>"
      ],
      "text/plain": [
       "<IPython.core.display.Markdown object>"
      ]
     },
     "metadata": {},
     "output_type": "display_data"
    },
    {
     "data": {
      "text/markdown": [
       "<span style=\"font-size:11pt\">Using classes from Foursquare - 391/1383 entities have a class</span>"
      ],
      "text/plain": [
       "<IPython.core.display.Markdown object>"
      ]
     },
     "metadata": {},
     "output_type": "display_data"
    },
    {
     "data": {
      "text/markdown": [
       "<span style=\"font-size:11pt\">Labels (9 classes): <span style=\"color: #0000ff\">Shops&Services</span>: 88, <span style=\"color: #0000ff\">Food</span>: 82, <span style=\"color: #0000ff\">Travel&Transport</span>: 35, <span style=\"color: #0000ff\">Professional&Other</span>: 47, <span style=\"color: #0000ff\">Residences</span>: 6, <span style=\"color: #0000ff\">Arts&Entertainment</span>: 39, <span style=\"color: #0000ff\">NightlifeSpots</span>: 17, <span style=\"color: #0000ff\">GreatOutdoors</span>: 44, <span style=\"color: #0000ff\">College&University</span>: 33</span>"
      ],
      "text/plain": [
       "<IPython.core.display.Markdown object>"
      ]
     },
     "metadata": {},
     "output_type": "display_data"
    },
    {
     "data": {
      "text/markdown": [
       "<span style=\"font-size:11pt\">Eval-Settings: metric: <span style=\"color: #0000ff\">accuracy</span>, type: <span style=\"color: #0000ff\">one-vs-rest</span>, DT-Depth: <span style=\"color: #0000ff\">1</span>, train-test-split:<span style=\"color: #0000ff\"> 50.0% in test-set </span></span>"
      ],
      "text/plain": [
       "<IPython.core.display.Markdown object>"
      ]
     },
     "metadata": {},
     "output_type": "display_data"
    },
    {
     "data": {
      "text/markdown": [
       "<span style=\"font-size:11pt\">Per-Class-Scores: GreatOutdoors: 0.91, NightlifeSpots: 0.88, Travel&Transport: 0.61, Shops&Services: 0.81, College&University: 0.91, Residences: 0.62, Professional&Other: 0.67, Arts&Entertainment: 0.37, Food: 0.68</span>"
      ],
      "text/plain": [
       "<IPython.core.display.Markdown object>"
      ]
     },
     "metadata": {},
     "output_type": "display_data"
    },
    {
     "data": {
      "text/markdown": [
       "<span style=\"font-size:11pt\">Unweighted Mean accuracy: 71.83%</span>"
      ],
      "text/plain": [
       "<IPython.core.display.Markdown object>"
      ]
     },
     "metadata": {},
     "output_type": "display_data"
    },
    {
     "data": {
      "text/markdown": [
       "<span style=\"font-size:11pt\">Weighted Mean accuracy: 72.39%</span>"
      ],
      "text/plain": [
       "<IPython.core.display.Markdown object>"
      ]
     },
     "metadata": {},
     "output_type": "display_data"
    },
    {
     "data": {
      "text/markdown": [
       "<span style=\"font-size:11pt\">====================================================================================================</span>"
      ],
      "text/plain": [
       "<IPython.core.display.Markdown object>"
      ]
     },
     "metadata": {},
     "output_type": "display_data"
    },
    {
     "data": {
      "text/markdown": [
       "<span style=\"font-size:11pt\">Using classes from Foursquare - 391/1383 entities have a class</span>"
      ],
      "text/plain": [
       "<IPython.core.display.Markdown object>"
      ]
     },
     "metadata": {},
     "output_type": "display_data"
    },
    {
     "data": {
      "text/markdown": [
       "<span style=\"font-size:11pt\">Labels (9 classes): <span style=\"color: #0000ff\">Shops&Services</span>: 88, <span style=\"color: #0000ff\">Food</span>: 82, <span style=\"color: #0000ff\">Travel&Transport</span>: 35, <span style=\"color: #0000ff\">Professional&Other</span>: 47, <span style=\"color: #0000ff\">Residences</span>: 6, <span style=\"color: #0000ff\">Arts&Entertainment</span>: 39, <span style=\"color: #0000ff\">NightlifeSpots</span>: 17, <span style=\"color: #0000ff\">GreatOutdoors</span>: 44, <span style=\"color: #0000ff\">College&University</span>: 33</span>"
      ],
      "text/plain": [
       "<IPython.core.display.Markdown object>"
      ]
     },
     "metadata": {},
     "output_type": "display_data"
    },
    {
     "data": {
      "text/markdown": [
       "<span style=\"font-size:11pt\">Eval-Settings: metric: <span style=\"color: #0000ff\">f1</span>, type: <span style=\"color: #0000ff\">one-vs-rest</span>, DT-Depth: <span style=\"color: #0000ff\">1</span>, train-test-split:<span style=\"color: #0000ff\"> 50.0% in test-set </span></span>"
      ],
      "text/plain": [
       "<IPython.core.display.Markdown object>"
      ]
     },
     "metadata": {},
     "output_type": "display_data"
    },
    {
     "data": {
      "text/markdown": [
       "<span style=\"font-size:11pt\">Per-Class-Scores: GreatOutdoors: 0.56, NightlifeSpots: 0.36, Travel&Transport: 0.37, Shops&Services: 0.69, College&University: 0.50, Residences: 0.00, Professional&Other: 0.40, Arts&Entertainment: 0.13, Food: 0.58</span>"
      ],
      "text/plain": [
       "<IPython.core.display.Markdown object>"
      ]
     },
     "metadata": {},
     "output_type": "display_data"
    },
    {
     "data": {
      "text/markdown": [
       "<span style=\"font-size:11pt\">Unweighted Mean f1: 39.92%</span>"
      ],
      "text/plain": [
       "<IPython.core.display.Markdown object>"
      ]
     },
     "metadata": {},
     "output_type": "display_data"
    },
    {
     "data": {
      "text/markdown": [
       "<span style=\"font-size:11pt\">Weighted Mean f1: 49.17%</span>"
      ],
      "text/plain": [
       "<IPython.core.display.Markdown object>"
      ]
     },
     "metadata": {},
     "output_type": "display_data"
    },
    {
     "data": {
      "text/markdown": [
       "<span style=\"font-size:11pt\">====================================================================================================</span>"
      ],
      "text/plain": [
       "<IPython.core.display.Markdown object>"
      ]
     },
     "metadata": {},
     "output_type": "display_data"
    },
    {
     "data": {
      "text/markdown": [
       "<span style=\"font-size:11pt\">Using classes from Foursquare - 391/1383 entities have a class</span>"
      ],
      "text/plain": [
       "<IPython.core.display.Markdown object>"
      ]
     },
     "metadata": {},
     "output_type": "display_data"
    },
    {
     "data": {
      "text/markdown": [
       "<span style=\"font-size:11pt\">Labels (9 classes): <span style=\"color: #0000ff\">Shops&Services</span>: 88, <span style=\"color: #0000ff\">Food</span>: 82, <span style=\"color: #0000ff\">Travel&Transport</span>: 35, <span style=\"color: #0000ff\">Professional&Other</span>: 47, <span style=\"color: #0000ff\">Residences</span>: 6, <span style=\"color: #0000ff\">Arts&Entertainment</span>: 39, <span style=\"color: #0000ff\">NightlifeSpots</span>: 17, <span style=\"color: #0000ff\">GreatOutdoors</span>: 44, <span style=\"color: #0000ff\">College&University</span>: 33</span>"
      ],
      "text/plain": [
       "<IPython.core.display.Markdown object>"
      ]
     },
     "metadata": {},
     "output_type": "display_data"
    },
    {
     "data": {
      "text/markdown": [
       "<span style=\"font-size:11pt\">Eval-Settings: metric: <span style=\"color: #0000ff\">accuracy</span>, type: <span style=\"color: #0000ff\">one-vs-rest</span>, DT-Depth: <span style=\"color: #0000ff\">1</span>, train-test-split:<span style=\"color: #0000ff\"> 50.0% in test-set </span></span>"
      ],
      "text/plain": [
       "<IPython.core.display.Markdown object>"
      ]
     },
     "metadata": {},
     "output_type": "display_data"
    },
    {
     "data": {
      "text/markdown": [
       "<span style=\"font-size:11pt\">Per-Class-Scores: GreatOutdoors: 0.86, NightlifeSpots: 0.95, Travel&Transport: 0.93, Shops&Services: 0.88, College&University: 0.91, Residences: 0.98, Professional&Other: 0.87, Arts&Entertainment: 0.85, Food: 0.79</span>"
      ],
      "text/plain": [
       "<IPython.core.display.Markdown object>"
      ]
     },
     "metadata": {},
     "output_type": "display_data"
    },
    {
     "data": {
      "text/markdown": [
       "<span style=\"font-size:11pt\">Unweighted Mean accuracy: 89.06%</span>"
      ],
      "text/plain": [
       "<IPython.core.display.Markdown object>"
      ]
     },
     "metadata": {},
     "output_type": "display_data"
    },
    {
     "data": {
      "text/markdown": [
       "<span style=\"font-size:11pt\">Weighted Mean accuracy: 86.58%</span>"
      ],
      "text/plain": [
       "<IPython.core.display.Markdown object>"
      ]
     },
     "metadata": {},
     "output_type": "display_data"
    },
    {
     "data": {
      "text/markdown": [
       "<span style=\"font-size:11pt\">====================================================================================================</span>"
      ],
      "text/plain": [
       "<IPython.core.display.Markdown object>"
      ]
     },
     "metadata": {},
     "output_type": "display_data"
    },
    {
     "data": {
      "text/markdown": [
       "<span style=\"font-size:11pt\">Using classes from Foursquare - 391/1383 entities have a class</span>"
      ],
      "text/plain": [
       "<IPython.core.display.Markdown object>"
      ]
     },
     "metadata": {},
     "output_type": "display_data"
    },
    {
     "data": {
      "text/markdown": [
       "<span style=\"font-size:11pt\">Labels (9 classes): <span style=\"color: #0000ff\">Shops&Services</span>: 88, <span style=\"color: #0000ff\">Food</span>: 82, <span style=\"color: #0000ff\">Travel&Transport</span>: 35, <span style=\"color: #0000ff\">Professional&Other</span>: 47, <span style=\"color: #0000ff\">Residences</span>: 6, <span style=\"color: #0000ff\">Arts&Entertainment</span>: 39, <span style=\"color: #0000ff\">NightlifeSpots</span>: 17, <span style=\"color: #0000ff\">GreatOutdoors</span>: 44, <span style=\"color: #0000ff\">College&University</span>: 33</span>"
      ],
      "text/plain": [
       "<IPython.core.display.Markdown object>"
      ]
     },
     "metadata": {},
     "output_type": "display_data"
    },
    {
     "data": {
      "text/markdown": [
       "<span style=\"font-size:11pt\">Eval-Settings: metric: <span style=\"color: #0000ff\">f1</span>, type: <span style=\"color: #0000ff\">one-vs-rest</span>, DT-Depth: <span style=\"color: #0000ff\">1</span>, train-test-split:<span style=\"color: #0000ff\"> 50.0% in test-set </span></span>"
      ],
      "text/plain": [
       "<IPython.core.display.Markdown object>"
      ]
     },
     "metadata": {},
     "output_type": "display_data"
    },
    {
     "data": {
      "text/markdown": [
       "<span style=\"font-size:11pt\">Per-Class-Scores: GreatOutdoors: 0.58, NightlifeSpots: 0.00, Travel&Transport: 0.00, Shops&Services: 0.65, College&University: 0.00, Residences: 0.00, Professional&Other: 0.00, Arts&Entertainment: 0.00, Food: 0.00</span>"
      ],
      "text/plain": [
       "<IPython.core.display.Markdown object>"
      ]
     },
     "metadata": {},
     "output_type": "display_data"
    },
    {
     "data": {
      "text/markdown": [
       "<span style=\"font-size:11pt\">Unweighted Mean f1: 13.64%</span>"
      ],
      "text/plain": [
       "<IPython.core.display.Markdown object>"
      ]
     },
     "metadata": {},
     "output_type": "display_data"
    },
    {
     "data": {
      "text/markdown": [
       "<span style=\"font-size:11pt\">Weighted Mean f1: 21.13%</span>"
      ],
      "text/plain": [
       "<IPython.core.display.Markdown object>"
      ]
     },
     "metadata": {},
     "output_type": "display_data"
    },
    {
     "data": {
      "text/markdown": [
       "<span style=\"font-size:11pt\">====================================================================================================</span>"
      ],
      "text/plain": [
       "<IPython.core.display.Markdown object>"
      ]
     },
     "metadata": {},
     "output_type": "display_data"
    },
    {
     "data": {
      "text/markdown": [
       "<span style=\"font-size:11pt\">Using classes from Foursquare - 391/1383 entities have a class</span>"
      ],
      "text/plain": [
       "<IPython.core.display.Markdown object>"
      ]
     },
     "metadata": {},
     "output_type": "display_data"
    },
    {
     "data": {
      "text/markdown": [
       "<span style=\"font-size:11pt\">Labels (9 classes): <span style=\"color: #0000ff\">Shops&Services</span>: 88, <span style=\"color: #0000ff\">Food</span>: 82, <span style=\"color: #0000ff\">Travel&Transport</span>: 35, <span style=\"color: #0000ff\">Professional&Other</span>: 47, <span style=\"color: #0000ff\">Residences</span>: 6, <span style=\"color: #0000ff\">Arts&Entertainment</span>: 39, <span style=\"color: #0000ff\">NightlifeSpots</span>: 17, <span style=\"color: #0000ff\">GreatOutdoors</span>: 44, <span style=\"color: #0000ff\">College&University</span>: 33</span>"
      ],
      "text/plain": [
       "<IPython.core.display.Markdown object>"
      ]
     },
     "metadata": {},
     "output_type": "display_data"
    },
    {
     "data": {
      "text/markdown": [
       "<span style=\"font-size:11pt\">Eval-Settings: metric: <span style=\"color: #0000ff\">accuracy</span>, type: <span style=\"color: #0000ff\">one-vs-rest</span>, DT-Depth: <span style=\"color: #0000ff\">2</span>, train-test-split:<span style=\"color: #0000ff\"> 50.0% in test-set </span></span>"
      ],
      "text/plain": [
       "<IPython.core.display.Markdown object>"
      ]
     },
     "metadata": {},
     "output_type": "display_data"
    },
    {
     "data": {
      "text/markdown": [
       "<span style=\"font-size:11pt\">Per-Class-Scores: GreatOutdoors: 0.83, NightlifeSpots: 0.91, Travel&Transport: 0.80, Shops&Services: 0.81, College&University: 0.95, Residences: 0.82, Professional&Other: 0.71, Arts&Entertainment: 0.65, Food: 0.91</span>"
      ],
      "text/plain": [
       "<IPython.core.display.Markdown object>"
      ]
     },
     "metadata": {},
     "output_type": "display_data"
    },
    {
     "data": {
      "text/markdown": [
       "<span style=\"font-size:11pt\">Unweighted Mean accuracy: 82.20%</span>"
      ],
      "text/plain": [
       "<IPython.core.display.Markdown object>"
      ]
     },
     "metadata": {},
     "output_type": "display_data"
    },
    {
     "data": {
      "text/markdown": [
       "<span style=\"font-size:11pt\">Weighted Mean accuracy: 82.10%</span>"
      ],
      "text/plain": [
       "<IPython.core.display.Markdown object>"
      ]
     },
     "metadata": {},
     "output_type": "display_data"
    },
    {
     "data": {
      "text/markdown": [
       "<span style=\"font-size:11pt\">====================================================================================================</span>"
      ],
      "text/plain": [
       "<IPython.core.display.Markdown object>"
      ]
     },
     "metadata": {},
     "output_type": "display_data"
    },
    {
     "data": {
      "text/markdown": [
       "<span style=\"font-size:11pt\">Using classes from Foursquare - 391/1383 entities have a class</span>"
      ],
      "text/plain": [
       "<IPython.core.display.Markdown object>"
      ]
     },
     "metadata": {},
     "output_type": "display_data"
    },
    {
     "data": {
      "text/markdown": [
       "<span style=\"font-size:11pt\">Labels (9 classes): <span style=\"color: #0000ff\">Shops&Services</span>: 88, <span style=\"color: #0000ff\">Food</span>: 82, <span style=\"color: #0000ff\">Travel&Transport</span>: 35, <span style=\"color: #0000ff\">Professional&Other</span>: 47, <span style=\"color: #0000ff\">Residences</span>: 6, <span style=\"color: #0000ff\">Arts&Entertainment</span>: 39, <span style=\"color: #0000ff\">NightlifeSpots</span>: 17, <span style=\"color: #0000ff\">GreatOutdoors</span>: 44, <span style=\"color: #0000ff\">College&University</span>: 33</span>"
      ],
      "text/plain": [
       "<IPython.core.display.Markdown object>"
      ]
     },
     "metadata": {},
     "output_type": "display_data"
    },
    {
     "data": {
      "text/markdown": [
       "<span style=\"font-size:11pt\">Eval-Settings: metric: <span style=\"color: #0000ff\">f1</span>, type: <span style=\"color: #0000ff\">one-vs-rest</span>, DT-Depth: <span style=\"color: #0000ff\">2</span>, train-test-split:<span style=\"color: #0000ff\"> 50.0% in test-set </span></span>"
      ],
      "text/plain": [
       "<IPython.core.display.Markdown object>"
      ]
     },
     "metadata": {},
     "output_type": "display_data"
    },
    {
     "data": {
      "text/markdown": [
       "<span style=\"font-size:11pt\">Per-Class-Scores: GreatOutdoors: 0.52, NightlifeSpots: 0.42, Travel&Transport: 0.23, Shops&Services: 0.61, College&University: 0.63, Residences: 0.00, Professional&Other: 0.31, Arts&Entertainment: 0.27, Food: 0.79</span>"
      ],
      "text/plain": [
       "<IPython.core.display.Markdown object>"
      ]
     },
     "metadata": {},
     "output_type": "display_data"
    },
    {
     "data": {
      "text/markdown": [
       "<span style=\"font-size:11pt\">Unweighted Mean f1: 41.92%</span>"
      ],
      "text/plain": [
       "<IPython.core.display.Markdown object>"
      ]
     },
     "metadata": {},
     "output_type": "display_data"
    },
    {
     "data": {
      "text/markdown": [
       "<span style=\"font-size:11pt\">Weighted Mean f1: 51.68%</span>"
      ],
      "text/plain": [
       "<IPython.core.display.Markdown object>"
      ]
     },
     "metadata": {},
     "output_type": "display_data"
    },
    {
     "data": {
      "text/markdown": [
       "<span style=\"font-size:11pt\">====================================================================================================</span>"
      ],
      "text/plain": [
       "<IPython.core.display.Markdown object>"
      ]
     },
     "metadata": {},
     "output_type": "display_data"
    },
    {
     "data": {
      "text/markdown": [
       "<span style=\"font-size:11pt\">Using classes from Foursquare - 391/1383 entities have a class</span>"
      ],
      "text/plain": [
       "<IPython.core.display.Markdown object>"
      ]
     },
     "metadata": {},
     "output_type": "display_data"
    },
    {
     "data": {
      "text/markdown": [
       "<span style=\"font-size:11pt\">Labels (9 classes): <span style=\"color: #0000ff\">Shops&Services</span>: 88, <span style=\"color: #0000ff\">Food</span>: 82, <span style=\"color: #0000ff\">Travel&Transport</span>: 35, <span style=\"color: #0000ff\">Professional&Other</span>: 47, <span style=\"color: #0000ff\">Residences</span>: 6, <span style=\"color: #0000ff\">Arts&Entertainment</span>: 39, <span style=\"color: #0000ff\">NightlifeSpots</span>: 17, <span style=\"color: #0000ff\">GreatOutdoors</span>: 44, <span style=\"color: #0000ff\">College&University</span>: 33</span>"
      ],
      "text/plain": [
       "<IPython.core.display.Markdown object>"
      ]
     },
     "metadata": {},
     "output_type": "display_data"
    },
    {
     "data": {
      "text/markdown": [
       "<span style=\"font-size:11pt\">Eval-Settings: metric: <span style=\"color: #0000ff\">accuracy</span>, type: <span style=\"color: #0000ff\">one-vs-rest</span>, DT-Depth: <span style=\"color: #0000ff\">2</span>, train-test-split:<span style=\"color: #0000ff\"> 50.0% in test-set </span></span>"
      ],
      "text/plain": [
       "<IPython.core.display.Markdown object>"
      ]
     },
     "metadata": {},
     "output_type": "display_data"
    },
    {
     "data": {
      "text/markdown": [
       "<span style=\"font-size:11pt\">Per-Class-Scores: GreatOutdoors: 0.89, NightlifeSpots: 0.94, Travel&Transport: 0.87, Shops&Services: 0.85, College&University: 0.96, Residences: 0.97, Professional&Other: 0.89, Arts&Entertainment: 0.83, Food: 0.87</span>"
      ],
      "text/plain": [
       "<IPython.core.display.Markdown object>"
      ]
     },
     "metadata": {},
     "output_type": "display_data"
    },
    {
     "data": {
      "text/markdown": [
       "<span style=\"font-size:11pt\">Unweighted Mean accuracy: 89.85%</span>"
      ],
      "text/plain": [
       "<IPython.core.display.Markdown object>"
      ]
     },
     "metadata": {},
     "output_type": "display_data"
    },
    {
     "data": {
      "text/markdown": [
       "<span style=\"font-size:11pt\">Weighted Mean accuracy: 88.07%</span>"
      ],
      "text/plain": [
       "<IPython.core.display.Markdown object>"
      ]
     },
     "metadata": {},
     "output_type": "display_data"
    },
    {
     "data": {
      "text/markdown": [
       "<span style=\"font-size:11pt\">====================================================================================================</span>"
      ],
      "text/plain": [
       "<IPython.core.display.Markdown object>"
      ]
     },
     "metadata": {},
     "output_type": "display_data"
    },
    {
     "data": {
      "text/markdown": [
       "<span style=\"font-size:11pt\">Using classes from Foursquare - 391/1383 entities have a class</span>"
      ],
      "text/plain": [
       "<IPython.core.display.Markdown object>"
      ]
     },
     "metadata": {},
     "output_type": "display_data"
    },
    {
     "data": {
      "text/markdown": [
       "<span style=\"font-size:11pt\">Labels (9 classes): <span style=\"color: #0000ff\">Shops&Services</span>: 88, <span style=\"color: #0000ff\">Food</span>: 82, <span style=\"color: #0000ff\">Travel&Transport</span>: 35, <span style=\"color: #0000ff\">Professional&Other</span>: 47, <span style=\"color: #0000ff\">Residences</span>: 6, <span style=\"color: #0000ff\">Arts&Entertainment</span>: 39, <span style=\"color: #0000ff\">NightlifeSpots</span>: 17, <span style=\"color: #0000ff\">GreatOutdoors</span>: 44, <span style=\"color: #0000ff\">College&University</span>: 33</span>"
      ],
      "text/plain": [
       "<IPython.core.display.Markdown object>"
      ]
     },
     "metadata": {},
     "output_type": "display_data"
    },
    {
     "data": {
      "text/markdown": [
       "<span style=\"font-size:11pt\">Eval-Settings: metric: <span style=\"color: #0000ff\">f1</span>, type: <span style=\"color: #0000ff\">one-vs-rest</span>, DT-Depth: <span style=\"color: #0000ff\">2</span>, train-test-split:<span style=\"color: #0000ff\"> 50.0% in test-set </span></span>"
      ],
      "text/plain": [
       "<IPython.core.display.Markdown object>"
      ]
     },
     "metadata": {},
     "output_type": "display_data"
    },
    {
     "data": {
      "text/markdown": [
       "<span style=\"font-size:11pt\">Per-Class-Scores: GreatOutdoors: 0.67, NightlifeSpots: 0.33, Travel&Transport: 0.12, Shops&Services: 0.61, College&University: 0.83, Residences: 0.00, Professional&Other: 0.00, Arts&Entertainment: 0.07, Food: 0.62</span>"
      ],
      "text/plain": [
       "<IPython.core.display.Markdown object>"
      ]
     },
     "metadata": {},
     "output_type": "display_data"
    },
    {
     "data": {
      "text/markdown": [
       "<span style=\"font-size:11pt\">Unweighted Mean f1: 36.06%</span>"
      ],
      "text/plain": [
       "<IPython.core.display.Markdown object>"
      ]
     },
     "metadata": {},
     "output_type": "display_data"
    },
    {
     "data": {
      "text/markdown": [
       "<span style=\"font-size:11pt\">Weighted Mean f1: 44.34%</span>"
      ],
      "text/plain": [
       "<IPython.core.display.Markdown object>"
      ]
     },
     "metadata": {},
     "output_type": "display_data"
    },
    {
     "data": {
      "text/markdown": [
       "<span style=\"font-size:11pt\">====================================================================================================</span>"
      ],
      "text/plain": [
       "<IPython.core.display.Markdown object>"
      ]
     },
     "metadata": {},
     "output_type": "display_data"
    },
    {
     "data": {
      "text/markdown": [
       "<span style=\"font-size:11pt\">Using classes from Foursquare - 391/1383 entities have a class</span>"
      ],
      "text/plain": [
       "<IPython.core.display.Markdown object>"
      ]
     },
     "metadata": {},
     "output_type": "display_data"
    },
    {
     "data": {
      "text/markdown": [
       "<span style=\"font-size:11pt\">Labels (9 classes): <span style=\"color: #0000ff\">Shops&Services</span>: 88, <span style=\"color: #0000ff\">Food</span>: 82, <span style=\"color: #0000ff\">Travel&Transport</span>: 35, <span style=\"color: #0000ff\">Professional&Other</span>: 47, <span style=\"color: #0000ff\">Residences</span>: 6, <span style=\"color: #0000ff\">Arts&Entertainment</span>: 39, <span style=\"color: #0000ff\">NightlifeSpots</span>: 17, <span style=\"color: #0000ff\">GreatOutdoors</span>: 44, <span style=\"color: #0000ff\">College&University</span>: 33</span>"
      ],
      "text/plain": [
       "<IPython.core.display.Markdown object>"
      ]
     },
     "metadata": {},
     "output_type": "display_data"
    },
    {
     "data": {
      "text/markdown": [
       "<span style=\"font-size:11pt\">Eval-Settings: metric: <span style=\"color: #0000ff\">accuracy</span>, type: <span style=\"color: #0000ff\">one-vs-rest</span>, DT-Depth: <span style=\"color: #0000ff\">3</span>, train-test-split:<span style=\"color: #0000ff\"> 50.0% in test-set </span></span>"
      ],
      "text/plain": [
       "<IPython.core.display.Markdown object>"
      ]
     },
     "metadata": {},
     "output_type": "display_data"
    },
    {
     "data": {
      "text/markdown": [
       "<span style=\"font-size:11pt\">Per-Class-Scores: GreatOutdoors: 0.79, NightlifeSpots: 0.94, Travel&Transport: 0.76, Shops&Services: 0.81, College&University: 0.96, Residences: 0.96, Professional&Other: 0.75, Arts&Entertainment: 0.64, Food: 0.89</span>"
      ],
      "text/plain": [
       "<IPython.core.display.Markdown object>"
      ]
     },
     "metadata": {},
     "output_type": "display_data"
    },
    {
     "data": {
      "text/markdown": [
       "<span style=\"font-size:11pt\">Unweighted Mean accuracy: 83.22%</span>"
      ],
      "text/plain": [
       "<IPython.core.display.Markdown object>"
      ]
     },
     "metadata": {},
     "output_type": "display_data"
    },
    {
     "data": {
      "text/markdown": [
       "<span style=\"font-size:11pt\">Weighted Mean accuracy: 81.42%</span>"
      ],
      "text/plain": [
       "<IPython.core.display.Markdown object>"
      ]
     },
     "metadata": {},
     "output_type": "display_data"
    },
    {
     "data": {
      "text/markdown": [
       "<span style=\"font-size:11pt\">====================================================================================================</span>"
      ],
      "text/plain": [
       "<IPython.core.display.Markdown object>"
      ]
     },
     "metadata": {},
     "output_type": "display_data"
    },
    {
     "data": {
      "text/markdown": [
       "<span style=\"font-size:11pt\">Using classes from Foursquare - 391/1383 entities have a class</span>"
      ],
      "text/plain": [
       "<IPython.core.display.Markdown object>"
      ]
     },
     "metadata": {},
     "output_type": "display_data"
    },
    {
     "data": {
      "text/markdown": [
       "<span style=\"font-size:11pt\">Labels (9 classes): <span style=\"color: #0000ff\">Shops&Services</span>: 88, <span style=\"color: #0000ff\">Food</span>: 82, <span style=\"color: #0000ff\">Travel&Transport</span>: 35, <span style=\"color: #0000ff\">Professional&Other</span>: 47, <span style=\"color: #0000ff\">Residences</span>: 6, <span style=\"color: #0000ff\">Arts&Entertainment</span>: 39, <span style=\"color: #0000ff\">NightlifeSpots</span>: 17, <span style=\"color: #0000ff\">GreatOutdoors</span>: 44, <span style=\"color: #0000ff\">College&University</span>: 33</span>"
      ],
      "text/plain": [
       "<IPython.core.display.Markdown object>"
      ]
     },
     "metadata": {},
     "output_type": "display_data"
    },
    {
     "data": {
      "text/markdown": [
       "<span style=\"font-size:11pt\">Eval-Settings: metric: <span style=\"color: #0000ff\">f1</span>, type: <span style=\"color: #0000ff\">one-vs-rest</span>, DT-Depth: <span style=\"color: #0000ff\">3</span>, train-test-split:<span style=\"color: #0000ff\"> 50.0% in test-set </span></span>"
      ],
      "text/plain": [
       "<IPython.core.display.Markdown object>"
      ]
     },
     "metadata": {},
     "output_type": "display_data"
    },
    {
     "data": {
      "text/markdown": [
       "<span style=\"font-size:11pt\">Per-Class-Scores: GreatOutdoors: 0.37, NightlifeSpots: 0.53, Travel&Transport: 0.38, Shops&Services: 0.66, College&University: 0.89, Residences: 0.00, Professional&Other: 0.43, Arts&Entertainment: 0.25, Food: 0.80</span>"
      ],
      "text/plain": [
       "<IPython.core.display.Markdown object>"
      ]
     },
     "metadata": {},
     "output_type": "display_data"
    },
    {
     "data": {
      "text/markdown": [
       "<span style=\"font-size:11pt\">Unweighted Mean f1: 47.74%</span>"
      ],
      "text/plain": [
       "<IPython.core.display.Markdown object>"
      ]
     },
     "metadata": {},
     "output_type": "display_data"
    },
    {
     "data": {
      "text/markdown": [
       "<span style=\"font-size:11pt\">Weighted Mean f1: 56.50%</span>"
      ],
      "text/plain": [
       "<IPython.core.display.Markdown object>"
      ]
     },
     "metadata": {},
     "output_type": "display_data"
    },
    {
     "data": {
      "text/markdown": [
       "<span style=\"font-size:11pt\">====================================================================================================</span>"
      ],
      "text/plain": [
       "<IPython.core.display.Markdown object>"
      ]
     },
     "metadata": {},
     "output_type": "display_data"
    },
    {
     "data": {
      "text/markdown": [
       "<span style=\"font-size:11pt\">Using classes from Foursquare - 391/1383 entities have a class</span>"
      ],
      "text/plain": [
       "<IPython.core.display.Markdown object>"
      ]
     },
     "metadata": {},
     "output_type": "display_data"
    },
    {
     "data": {
      "text/markdown": [
       "<span style=\"font-size:11pt\">Labels (9 classes): <span style=\"color: #0000ff\">Shops&Services</span>: 88, <span style=\"color: #0000ff\">Food</span>: 82, <span style=\"color: #0000ff\">Travel&Transport</span>: 35, <span style=\"color: #0000ff\">Professional&Other</span>: 47, <span style=\"color: #0000ff\">Residences</span>: 6, <span style=\"color: #0000ff\">Arts&Entertainment</span>: 39, <span style=\"color: #0000ff\">NightlifeSpots</span>: 17, <span style=\"color: #0000ff\">GreatOutdoors</span>: 44, <span style=\"color: #0000ff\">College&University</span>: 33</span>"
      ],
      "text/plain": [
       "<IPython.core.display.Markdown object>"
      ]
     },
     "metadata": {},
     "output_type": "display_data"
    },
    {
     "data": {
      "text/markdown": [
       "<span style=\"font-size:11pt\">Eval-Settings: metric: <span style=\"color: #0000ff\">accuracy</span>, type: <span style=\"color: #0000ff\">one-vs-rest</span>, DT-Depth: <span style=\"color: #0000ff\">3</span>, train-test-split:<span style=\"color: #0000ff\"> 50.0% in test-set </span></span>"
      ],
      "text/plain": [
       "<IPython.core.display.Markdown object>"
      ]
     },
     "metadata": {},
     "output_type": "display_data"
    },
    {
     "data": {
      "text/markdown": [
       "<span style=\"font-size:11pt\">Per-Class-Scores: GreatOutdoors: 0.92, NightlifeSpots: 0.96, Travel&Transport: 0.87, Shops&Services: 0.88, College&University: 0.96, Residences: 0.97, Professional&Other: 0.87, Arts&Entertainment: 0.88, Food: 0.90</span>"
      ],
      "text/plain": [
       "<IPython.core.display.Markdown object>"
      ]
     },
     "metadata": {},
     "output_type": "display_data"
    },
    {
     "data": {
      "text/markdown": [
       "<span style=\"font-size:11pt\">Unweighted Mean accuracy: 91.50%</span>"
      ],
      "text/plain": [
       "<IPython.core.display.Markdown object>"
      ]
     },
     "metadata": {},
     "output_type": "display_data"
    },
    {
     "data": {
      "text/markdown": [
       "<span style=\"font-size:11pt\">Weighted Mean accuracy: 90.01%</span>"
      ],
      "text/plain": [
       "<IPython.core.display.Markdown object>"
      ]
     },
     "metadata": {},
     "output_type": "display_data"
    },
    {
     "data": {
      "text/markdown": [
       "<span style=\"font-size:11pt\">====================================================================================================</span>"
      ],
      "text/plain": [
       "<IPython.core.display.Markdown object>"
      ]
     },
     "metadata": {},
     "output_type": "display_data"
    },
    {
     "data": {
      "text/markdown": [
       "<span style=\"font-size:11pt\">Using classes from Foursquare - 391/1383 entities have a class</span>"
      ],
      "text/plain": [
       "<IPython.core.display.Markdown object>"
      ]
     },
     "metadata": {},
     "output_type": "display_data"
    },
    {
     "data": {
      "text/markdown": [
       "<span style=\"font-size:11pt\">Labels (9 classes): <span style=\"color: #0000ff\">Shops&Services</span>: 88, <span style=\"color: #0000ff\">Food</span>: 82, <span style=\"color: #0000ff\">Travel&Transport</span>: 35, <span style=\"color: #0000ff\">Professional&Other</span>: 47, <span style=\"color: #0000ff\">Residences</span>: 6, <span style=\"color: #0000ff\">Arts&Entertainment</span>: 39, <span style=\"color: #0000ff\">NightlifeSpots</span>: 17, <span style=\"color: #0000ff\">GreatOutdoors</span>: 44, <span style=\"color: #0000ff\">College&University</span>: 33</span>"
      ],
      "text/plain": [
       "<IPython.core.display.Markdown object>"
      ]
     },
     "metadata": {},
     "output_type": "display_data"
    },
    {
     "data": {
      "text/markdown": [
       "<span style=\"font-size:11pt\">Eval-Settings: metric: <span style=\"color: #0000ff\">f1</span>, type: <span style=\"color: #0000ff\">one-vs-rest</span>, DT-Depth: <span style=\"color: #0000ff\">3</span>, train-test-split:<span style=\"color: #0000ff\"> 50.0% in test-set </span></span>"
      ],
      "text/plain": [
       "<IPython.core.display.Markdown object>"
      ]
     },
     "metadata": {},
     "output_type": "display_data"
    },
    {
     "data": {
      "text/markdown": [
       "<span style=\"font-size:11pt\">Per-Class-Scores: GreatOutdoors: 0.50, NightlifeSpots: 0.17, Travel&Transport: 0.32, Shops&Services: 0.65, College&University: 0.64, Residences: 0.00, Professional&Other: 0.00, Arts&Entertainment: 0.07, Food: 0.72</span>"
      ],
      "text/plain": [
       "<IPython.core.display.Markdown object>"
      ]
     },
     "metadata": {},
     "output_type": "display_data"
    },
    {
     "data": {
      "text/markdown": [
       "<span style=\"font-size:11pt\">Unweighted Mean f1: 33.98%</span>"
      ],
      "text/plain": [
       "<IPython.core.display.Markdown object>"
      ]
     },
     "metadata": {},
     "output_type": "display_data"
    },
    {
     "data": {
      "text/markdown": [
       "<span style=\"font-size:11pt\">Weighted Mean f1: 44.93%</span>"
      ],
      "text/plain": [
       "<IPython.core.display.Markdown object>"
      ]
     },
     "metadata": {},
     "output_type": "display_data"
    },
    {
     "data": {
      "text/markdown": [
       "<span style=\"font-size:11pt\">====================================================================================================</span>"
      ],
      "text/plain": [
       "<IPython.core.display.Markdown object>"
      ]
     },
     "metadata": {},
     "output_type": "display_data"
    },
    {
     "data": {
      "text/markdown": [
       "<span style=\"font-size:11pt\">Using classes from Foursquare - 391/1383 entities have a class</span>"
      ],
      "text/plain": [
       "<IPython.core.display.Markdown object>"
      ]
     },
     "metadata": {},
     "output_type": "display_data"
    },
    {
     "data": {
      "text/markdown": [
       "<span style=\"font-size:11pt\">Labels (9 classes): <span style=\"color: #0000ff\">Shops&Services</span>: 88, <span style=\"color: #0000ff\">Food</span>: 82, <span style=\"color: #0000ff\">Travel&Transport</span>: 35, <span style=\"color: #0000ff\">Professional&Other</span>: 47, <span style=\"color: #0000ff\">Residences</span>: 6, <span style=\"color: #0000ff\">Arts&Entertainment</span>: 39, <span style=\"color: #0000ff\">NightlifeSpots</span>: 17, <span style=\"color: #0000ff\">GreatOutdoors</span>: 44, <span style=\"color: #0000ff\">College&University</span>: 33</span>"
      ],
      "text/plain": [
       "<IPython.core.display.Markdown object>"
      ]
     },
     "metadata": {},
     "output_type": "display_data"
    },
    {
     "data": {
      "text/markdown": [
       "<span style=\"font-size:11pt\">Eval-Settings: metric: <span style=\"color: #0000ff\">accuracy</span>, type: <span style=\"color: #0000ff\">one-vs-rest</span>, DT-Depth: <span style=\"color: #0000ff\">None</span>, train-test-split:<span style=\"color: #0000ff\"> 50.0% in test-set </span></span>"
      ],
      "text/plain": [
       "<IPython.core.display.Markdown object>"
      ]
     },
     "metadata": {},
     "output_type": "display_data"
    },
    {
     "data": {
      "text/markdown": [
       "<span style=\"font-size:11pt\">Per-Class-Scores: GreatOutdoors: 0.90, NightlifeSpots: 0.96, Travel&Transport: 0.90, Shops&Services: 0.84, College&University: 0.94, Residences: 0.97, Professional&Other: 0.83, Arts&Entertainment: 0.83, Food: 0.88</span>"
      ],
      "text/plain": [
       "<IPython.core.display.Markdown object>"
      ]
     },
     "metadata": {},
     "output_type": "display_data"
    },
    {
     "data": {
      "text/markdown": [
       "<span style=\"font-size:11pt\">Unweighted Mean accuracy: 89.46%</span>"
      ],
      "text/plain": [
       "<IPython.core.display.Markdown object>"
      ]
     },
     "metadata": {},
     "output_type": "display_data"
    },
    {
     "data": {
      "text/markdown": [
       "<span style=\"font-size:11pt\">Weighted Mean accuracy: 87.30%</span>"
      ],
      "text/plain": [
       "<IPython.core.display.Markdown object>"
      ]
     },
     "metadata": {},
     "output_type": "display_data"
    },
    {
     "data": {
      "text/markdown": [
       "<span style=\"font-size:11pt\">====================================================================================================</span>"
      ],
      "text/plain": [
       "<IPython.core.display.Markdown object>"
      ]
     },
     "metadata": {},
     "output_type": "display_data"
    },
    {
     "data": {
      "text/markdown": [
       "<span style=\"font-size:11pt\">Using classes from Foursquare - 391/1383 entities have a class</span>"
      ],
      "text/plain": [
       "<IPython.core.display.Markdown object>"
      ]
     },
     "metadata": {},
     "output_type": "display_data"
    },
    {
     "data": {
      "text/markdown": [
       "<span style=\"font-size:11pt\">Labels (9 classes): <span style=\"color: #0000ff\">Shops&Services</span>: 88, <span style=\"color: #0000ff\">Food</span>: 82, <span style=\"color: #0000ff\">Travel&Transport</span>: 35, <span style=\"color: #0000ff\">Professional&Other</span>: 47, <span style=\"color: #0000ff\">Residences</span>: 6, <span style=\"color: #0000ff\">Arts&Entertainment</span>: 39, <span style=\"color: #0000ff\">NightlifeSpots</span>: 17, <span style=\"color: #0000ff\">GreatOutdoors</span>: 44, <span style=\"color: #0000ff\">College&University</span>: 33</span>"
      ],
      "text/plain": [
       "<IPython.core.display.Markdown object>"
      ]
     },
     "metadata": {},
     "output_type": "display_data"
    },
    {
     "data": {
      "text/markdown": [
       "<span style=\"font-size:11pt\">Eval-Settings: metric: <span style=\"color: #0000ff\">f1</span>, type: <span style=\"color: #0000ff\">one-vs-rest</span>, DT-Depth: <span style=\"color: #0000ff\">None</span>, train-test-split:<span style=\"color: #0000ff\"> 50.0% in test-set </span></span>"
      ],
      "text/plain": [
       "<IPython.core.display.Markdown object>"
      ]
     },
     "metadata": {},
     "output_type": "display_data"
    },
    {
     "data": {
      "text/markdown": [
       "<span style=\"font-size:11pt\">Per-Class-Scores: GreatOutdoors: 0.50, NightlifeSpots: 0.67, Travel&Transport: 0.26, Shops&Services: 0.56, College&University: 0.67, Residences: 0.00, Professional&Other: 0.33, Arts&Entertainment: 0.20, Food: 0.78</span>"
      ],
      "text/plain": [
       "<IPython.core.display.Markdown object>"
      ]
     },
     "metadata": {},
     "output_type": "display_data"
    },
    {
     "data": {
      "text/markdown": [
       "<span style=\"font-size:11pt\">Unweighted Mean f1: 43.93%</span>"
      ],
      "text/plain": [
       "<IPython.core.display.Markdown object>"
      ]
     },
     "metadata": {},
     "output_type": "display_data"
    },
    {
     "data": {
      "text/markdown": [
       "<span style=\"font-size:11pt\">Weighted Mean f1: 51.26%</span>"
      ],
      "text/plain": [
       "<IPython.core.display.Markdown object>"
      ]
     },
     "metadata": {},
     "output_type": "display_data"
    },
    {
     "data": {
      "text/markdown": [
       "<span style=\"font-size:11pt\">====================================================================================================</span>"
      ],
      "text/plain": [
       "<IPython.core.display.Markdown object>"
      ]
     },
     "metadata": {},
     "output_type": "display_data"
    },
    {
     "data": {
      "text/markdown": [
       "<span style=\"font-size:11pt\">Using classes from Foursquare - 391/1383 entities have a class</span>"
      ],
      "text/plain": [
       "<IPython.core.display.Markdown object>"
      ]
     },
     "metadata": {},
     "output_type": "display_data"
    },
    {
     "data": {
      "text/markdown": [
       "<span style=\"font-size:11pt\">Labels (9 classes): <span style=\"color: #0000ff\">Shops&Services</span>: 88, <span style=\"color: #0000ff\">Food</span>: 82, <span style=\"color: #0000ff\">Travel&Transport</span>: 35, <span style=\"color: #0000ff\">Professional&Other</span>: 47, <span style=\"color: #0000ff\">Residences</span>: 6, <span style=\"color: #0000ff\">Arts&Entertainment</span>: 39, <span style=\"color: #0000ff\">NightlifeSpots</span>: 17, <span style=\"color: #0000ff\">GreatOutdoors</span>: 44, <span style=\"color: #0000ff\">College&University</span>: 33</span>"
      ],
      "text/plain": [
       "<IPython.core.display.Markdown object>"
      ]
     },
     "metadata": {},
     "output_type": "display_data"
    },
    {
     "data": {
      "text/markdown": [
       "<span style=\"font-size:11pt\">Eval-Settings: metric: <span style=\"color: #0000ff\">accuracy</span>, type: <span style=\"color: #0000ff\">one-vs-rest</span>, DT-Depth: <span style=\"color: #0000ff\">None</span>, train-test-split:<span style=\"color: #0000ff\"> 50.0% in test-set </span></span>"
      ],
      "text/plain": [
       "<IPython.core.display.Markdown object>"
      ]
     },
     "metadata": {},
     "output_type": "display_data"
    },
    {
     "data": {
      "text/markdown": [
       "<span style=\"font-size:11pt\">Per-Class-Scores: GreatOutdoors: 0.90, NightlifeSpots: 0.98, Travel&Transport: 0.86, Shops&Services: 0.84, College&University: 0.97, Residences: 0.97, Professional&Other: 0.82, Arts&Entertainment: 0.84, Food: 0.91</span>"
      ],
      "text/plain": [
       "<IPython.core.display.Markdown object>"
      ]
     },
     "metadata": {},
     "output_type": "display_data"
    },
    {
     "data": {
      "text/markdown": [
       "<span style=\"font-size:11pt\">Unweighted Mean accuracy: 89.97%</span>"
      ],
      "text/plain": [
       "<IPython.core.display.Markdown object>"
      ]
     },
     "metadata": {},
     "output_type": "display_data"
    },
    {
     "data": {
      "text/markdown": [
       "<span style=\"font-size:11pt\">Weighted Mean accuracy: 88.12%</span>"
      ],
      "text/plain": [
       "<IPython.core.display.Markdown object>"
      ]
     },
     "metadata": {},
     "output_type": "display_data"
    },
    {
     "data": {
      "text/markdown": [
       "<span style=\"font-size:11pt\">====================================================================================================</span>"
      ],
      "text/plain": [
       "<IPython.core.display.Markdown object>"
      ]
     },
     "metadata": {},
     "output_type": "display_data"
    },
    {
     "data": {
      "text/markdown": [
       "<span style=\"font-size:11pt\">Using classes from Foursquare - 391/1383 entities have a class</span>"
      ],
      "text/plain": [
       "<IPython.core.display.Markdown object>"
      ]
     },
     "metadata": {},
     "output_type": "display_data"
    },
    {
     "data": {
      "text/markdown": [
       "<span style=\"font-size:11pt\">Labels (9 classes): <span style=\"color: #0000ff\">Shops&Services</span>: 88, <span style=\"color: #0000ff\">Food</span>: 82, <span style=\"color: #0000ff\">Travel&Transport</span>: 35, <span style=\"color: #0000ff\">Professional&Other</span>: 47, <span style=\"color: #0000ff\">Residences</span>: 6, <span style=\"color: #0000ff\">Arts&Entertainment</span>: 39, <span style=\"color: #0000ff\">NightlifeSpots</span>: 17, <span style=\"color: #0000ff\">GreatOutdoors</span>: 44, <span style=\"color: #0000ff\">College&University</span>: 33</span>"
      ],
      "text/plain": [
       "<IPython.core.display.Markdown object>"
      ]
     },
     "metadata": {},
     "output_type": "display_data"
    },
    {
     "data": {
      "text/markdown": [
       "<span style=\"font-size:11pt\">Eval-Settings: metric: <span style=\"color: #0000ff\">f1</span>, type: <span style=\"color: #0000ff\">one-vs-rest</span>, DT-Depth: <span style=\"color: #0000ff\">None</span>, train-test-split:<span style=\"color: #0000ff\"> 50.0% in test-set </span></span>"
      ],
      "text/plain": [
       "<IPython.core.display.Markdown object>"
      ]
     },
     "metadata": {},
     "output_type": "display_data"
    },
    {
     "data": {
      "text/markdown": [
       "<span style=\"font-size:11pt\">Per-Class-Scores: GreatOutdoors: 0.44, NightlifeSpots: 0.40, Travel&Transport: 0.26, Shops&Services: 0.59, College&University: 0.62, Residences: 0.00, Professional&Other: 0.36, Arts&Entertainment: 0.26, Food: 0.86</span>"
      ],
      "text/plain": [
       "<IPython.core.display.Markdown object>"
      ]
     },
     "metadata": {},
     "output_type": "display_data"
    },
    {
     "data": {
      "text/markdown": [
       "<span style=\"font-size:11pt\">Unweighted Mean f1: 42.24%</span>"
      ],
      "text/plain": [
       "<IPython.core.display.Markdown object>"
      ]
     },
     "metadata": {},
     "output_type": "display_data"
    },
    {
     "data": {
      "text/markdown": [
       "<span style=\"font-size:11pt\">Weighted Mean f1: 52.60%</span>"
      ],
      "text/plain": [
       "<IPython.core.display.Markdown object>"
      ]
     },
     "metadata": {},
     "output_type": "display_data"
    },
    {
     "data": {
      "text/markdown": [
       "<span style=\"font-size:11pt\">====================================================================================================</span>"
      ],
      "text/plain": [
       "<IPython.core.display.Markdown object>"
      ]
     },
     "metadata": {},
     "output_type": "display_data"
    },
    {
     "data": {
      "text/markdown": [
       "<span style=\"font-size:11pt\">Using classes from Foursquare - 391/1383 entities have a class</span>"
      ],
      "text/plain": [
       "<IPython.core.display.Markdown object>"
      ]
     },
     "metadata": {},
     "output_type": "display_data"
    },
    {
     "data": {
      "text/markdown": [
       "<span style=\"font-size:11pt\">Labels (9 classes): <span style=\"color: #0000ff\">Shops&Services</span>: 88, <span style=\"color: #0000ff\">Food</span>: 82, <span style=\"color: #0000ff\">Travel&Transport</span>: 35, <span style=\"color: #0000ff\">Professional&Other</span>: 47, <span style=\"color: #0000ff\">Residences</span>: 6, <span style=\"color: #0000ff\">Arts&Entertainment</span>: 39, <span style=\"color: #0000ff\">NightlifeSpots</span>: 17, <span style=\"color: #0000ff\">GreatOutdoors</span>: 44, <span style=\"color: #0000ff\">College&University</span>: 33</span>"
      ],
      "text/plain": [
       "<IPython.core.display.Markdown object>"
      ]
     },
     "metadata": {},
     "output_type": "display_data"
    },
    {
     "data": {
      "text/markdown": [
       "<span style=\"font-size:11pt\">Eval-Settings: metric: <span style=\"color: #0000ff\">accuracy</span>, type: <span style=\"color: #0000ff\">all-at-once</span>, DT-Depth: <span style=\"color: #0000ff\">1</span>, train-test-split:<span style=\"color: #0000ff\"> 50.0% in test-set </span></span>"
      ],
      "text/plain": [
       "<IPython.core.display.Markdown object>"
      ]
     },
     "metadata": {},
     "output_type": "display_data"
    },
    {
     "name": "stderr",
     "output_type": "stream",
     "text": [
      "derive_conceptualspace/evaluate/shallow_trees.py:141: UserWarning: There are more classes (9) than your decision-tree can possibly classify (2)\n"
     ]
    },
    {
     "data": {
      "text/markdown": [
       "<span style=\"font-size:11pt\">accuracy: 0.09</span>"
      ],
      "text/plain": [
       "<IPython.core.display.Markdown object>"
      ]
     },
     "metadata": {},
     "output_type": "display_data"
    },
    {
     "data": {
      "text/markdown": [
       "<span style=\"font-size:11pt\">Baseline accuracy: 0.23</span>"
      ],
      "text/plain": [
       "<IPython.core.display.Markdown object>"
      ]
     },
     "metadata": {},
     "output_type": "display_data"
    },
    {
     "data": {
      "text/markdown": [
       "<span style=\"font-size:11pt\">Maximally achievable accuracy: 0.43</span>"
      ],
      "text/plain": [
       "<IPython.core.display.Markdown object>"
      ]
     },
     "metadata": {},
     "output_type": "display_data"
    },
    {
     "data": {
      "text/markdown": [
       "<span style=\"font-size:11pt\">====================================================================================================</span>"
      ],
      "text/plain": [
       "<IPython.core.display.Markdown object>"
      ]
     },
     "metadata": {},
     "output_type": "display_data"
    },
    {
     "data": {
      "text/markdown": [
       "<span style=\"font-size:11pt\">Using classes from Foursquare - 391/1383 entities have a class</span>"
      ],
      "text/plain": [
       "<IPython.core.display.Markdown object>"
      ]
     },
     "metadata": {},
     "output_type": "display_data"
    },
    {
     "data": {
      "text/markdown": [
       "<span style=\"font-size:11pt\">Labels (9 classes): <span style=\"color: #0000ff\">Shops&Services</span>: 88, <span style=\"color: #0000ff\">Food</span>: 82, <span style=\"color: #0000ff\">Travel&Transport</span>: 35, <span style=\"color: #0000ff\">Professional&Other</span>: 47, <span style=\"color: #0000ff\">Residences</span>: 6, <span style=\"color: #0000ff\">Arts&Entertainment</span>: 39, <span style=\"color: #0000ff\">NightlifeSpots</span>: 17, <span style=\"color: #0000ff\">GreatOutdoors</span>: 44, <span style=\"color: #0000ff\">College&University</span>: 33</span>"
      ],
      "text/plain": [
       "<IPython.core.display.Markdown object>"
      ]
     },
     "metadata": {},
     "output_type": "display_data"
    },
    {
     "data": {
      "text/markdown": [
       "<span style=\"font-size:11pt\">Eval-Settings: metric: <span style=\"color: #0000ff\">f1</span>, type: <span style=\"color: #0000ff\">all-at-once</span>, DT-Depth: <span style=\"color: #0000ff\">1</span>, train-test-split:<span style=\"color: #0000ff\"> 50.0% in test-set </span></span>"
      ],
      "text/plain": [
       "<IPython.core.display.Markdown object>"
      ]
     },
     "metadata": {},
     "output_type": "display_data"
    },
    {
     "name": "stderr",
     "output_type": "stream",
     "text": [
      "derive_conceptualspace/evaluate/shallow_trees.py:141: UserWarning: There are more classes (9) than your decision-tree can possibly classify (2)\n"
     ]
    },
    {
     "data": {
      "text/markdown": [
       "<span style=\"font-size:11pt\">f1: 0.12</span>"
      ],
      "text/plain": [
       "<IPython.core.display.Markdown object>"
      ]
     },
     "metadata": {},
     "output_type": "display_data"
    },
    {
     "data": {
      "text/markdown": [
       "<span style=\"font-size:11pt\">Baseline f1: 0.23</span>"
      ],
      "text/plain": [
       "<IPython.core.display.Markdown object>"
      ]
     },
     "metadata": {},
     "output_type": "display_data"
    },
    {
     "data": {
      "text/markdown": [
       "<span style=\"font-size:11pt\">====================================================================================================</span>"
      ],
      "text/plain": [
       "<IPython.core.display.Markdown object>"
      ]
     },
     "metadata": {},
     "output_type": "display_data"
    },
    {
     "data": {
      "text/markdown": [
       "<span style=\"font-size:11pt\">Using classes from Foursquare - 391/1383 entities have a class</span>"
      ],
      "text/plain": [
       "<IPython.core.display.Markdown object>"
      ]
     },
     "metadata": {},
     "output_type": "display_data"
    },
    {
     "data": {
      "text/markdown": [
       "<span style=\"font-size:11pt\">Labels (9 classes): <span style=\"color: #0000ff\">Shops&Services</span>: 88, <span style=\"color: #0000ff\">Food</span>: 82, <span style=\"color: #0000ff\">Travel&Transport</span>: 35, <span style=\"color: #0000ff\">Professional&Other</span>: 47, <span style=\"color: #0000ff\">Residences</span>: 6, <span style=\"color: #0000ff\">Arts&Entertainment</span>: 39, <span style=\"color: #0000ff\">NightlifeSpots</span>: 17, <span style=\"color: #0000ff\">GreatOutdoors</span>: 44, <span style=\"color: #0000ff\">College&University</span>: 33</span>"
      ],
      "text/plain": [
       "<IPython.core.display.Markdown object>"
      ]
     },
     "metadata": {},
     "output_type": "display_data"
    },
    {
     "data": {
      "text/markdown": [
       "<span style=\"font-size:11pt\">Eval-Settings: metric: <span style=\"color: #0000ff\">accuracy</span>, type: <span style=\"color: #0000ff\">all-at-once</span>, DT-Depth: <span style=\"color: #0000ff\">1</span>, train-test-split:<span style=\"color: #0000ff\"> 50.0% in test-set </span></span>"
      ],
      "text/plain": [
       "<IPython.core.display.Markdown object>"
      ]
     },
     "metadata": {},
     "output_type": "display_data"
    },
    {
     "name": "stderr",
     "output_type": "stream",
     "text": [
      "derive_conceptualspace/evaluate/shallow_trees.py:141: UserWarning: There are more classes (9) than your decision-tree can possibly classify (2)\n"
     ]
    },
    {
     "data": {
      "text/markdown": [
       "<span style=\"font-size:11pt\">accuracy: 0.37</span>"
      ],
      "text/plain": [
       "<IPython.core.display.Markdown object>"
      ]
     },
     "metadata": {},
     "output_type": "display_data"
    },
    {
     "data": {
      "text/markdown": [
       "<span style=\"font-size:11pt\">Baseline accuracy: 0.23</span>"
      ],
      "text/plain": [
       "<IPython.core.display.Markdown object>"
      ]
     },
     "metadata": {},
     "output_type": "display_data"
    },
    {
     "data": {
      "text/markdown": [
       "<span style=\"font-size:11pt\">Maximally achievable accuracy: 0.43</span>"
      ],
      "text/plain": [
       "<IPython.core.display.Markdown object>"
      ]
     },
     "metadata": {},
     "output_type": "display_data"
    },
    {
     "data": {
      "text/markdown": [
       "<span style=\"font-size:11pt\">====================================================================================================</span>"
      ],
      "text/plain": [
       "<IPython.core.display.Markdown object>"
      ]
     },
     "metadata": {},
     "output_type": "display_data"
    },
    {
     "data": {
      "text/markdown": [
       "<span style=\"font-size:11pt\">Using classes from Foursquare - 391/1383 entities have a class</span>"
      ],
      "text/plain": [
       "<IPython.core.display.Markdown object>"
      ]
     },
     "metadata": {},
     "output_type": "display_data"
    },
    {
     "data": {
      "text/markdown": [
       "<span style=\"font-size:11pt\">Labels (9 classes): <span style=\"color: #0000ff\">Shops&Services</span>: 88, <span style=\"color: #0000ff\">Food</span>: 82, <span style=\"color: #0000ff\">Travel&Transport</span>: 35, <span style=\"color: #0000ff\">Professional&Other</span>: 47, <span style=\"color: #0000ff\">Residences</span>: 6, <span style=\"color: #0000ff\">Arts&Entertainment</span>: 39, <span style=\"color: #0000ff\">NightlifeSpots</span>: 17, <span style=\"color: #0000ff\">GreatOutdoors</span>: 44, <span style=\"color: #0000ff\">College&University</span>: 33</span>"
      ],
      "text/plain": [
       "<IPython.core.display.Markdown object>"
      ]
     },
     "metadata": {},
     "output_type": "display_data"
    },
    {
     "data": {
      "text/markdown": [
       "<span style=\"font-size:11pt\">Eval-Settings: metric: <span style=\"color: #0000ff\">f1</span>, type: <span style=\"color: #0000ff\">all-at-once</span>, DT-Depth: <span style=\"color: #0000ff\">1</span>, train-test-split:<span style=\"color: #0000ff\"> 50.0% in test-set </span></span>"
      ],
      "text/plain": [
       "<IPython.core.display.Markdown object>"
      ]
     },
     "metadata": {},
     "output_type": "display_data"
    },
    {
     "name": "stderr",
     "output_type": "stream",
     "text": [
      "derive_conceptualspace/evaluate/shallow_trees.py:141: UserWarning: There are more classes (9) than your decision-tree can possibly classify (2)\n"
     ]
    },
    {
     "data": {
      "text/markdown": [
       "<span style=\"font-size:11pt\">f1: 0.41</span>"
      ],
      "text/plain": [
       "<IPython.core.display.Markdown object>"
      ]
     },
     "metadata": {},
     "output_type": "display_data"
    },
    {
     "data": {
      "text/markdown": [
       "<span style=\"font-size:11pt\">Baseline f1: 0.23</span>"
      ],
      "text/plain": [
       "<IPython.core.display.Markdown object>"
      ]
     },
     "metadata": {},
     "output_type": "display_data"
    },
    {
     "data": {
      "text/markdown": [
       "<span style=\"font-size:11pt\">====================================================================================================</span>"
      ],
      "text/plain": [
       "<IPython.core.display.Markdown object>"
      ]
     },
     "metadata": {},
     "output_type": "display_data"
    },
    {
     "data": {
      "text/markdown": [
       "<span style=\"font-size:11pt\">Using classes from Foursquare - 391/1383 entities have a class</span>"
      ],
      "text/plain": [
       "<IPython.core.display.Markdown object>"
      ]
     },
     "metadata": {},
     "output_type": "display_data"
    },
    {
     "data": {
      "text/markdown": [
       "<span style=\"font-size:11pt\">Labels (9 classes): <span style=\"color: #0000ff\">Shops&Services</span>: 88, <span style=\"color: #0000ff\">Food</span>: 82, <span style=\"color: #0000ff\">Travel&Transport</span>: 35, <span style=\"color: #0000ff\">Professional&Other</span>: 47, <span style=\"color: #0000ff\">Residences</span>: 6, <span style=\"color: #0000ff\">Arts&Entertainment</span>: 39, <span style=\"color: #0000ff\">NightlifeSpots</span>: 17, <span style=\"color: #0000ff\">GreatOutdoors</span>: 44, <span style=\"color: #0000ff\">College&University</span>: 33</span>"
      ],
      "text/plain": [
       "<IPython.core.display.Markdown object>"
      ]
     },
     "metadata": {},
     "output_type": "display_data"
    },
    {
     "data": {
      "text/markdown": [
       "<span style=\"font-size:11pt\">Eval-Settings: metric: <span style=\"color: #0000ff\">accuracy</span>, type: <span style=\"color: #0000ff\">all-at-once</span>, DT-Depth: <span style=\"color: #0000ff\">2</span>, train-test-split:<span style=\"color: #0000ff\"> 50.0% in test-set </span></span>"
      ],
      "text/plain": [
       "<IPython.core.display.Markdown object>"
      ]
     },
     "metadata": {},
     "output_type": "display_data"
    },
    {
     "name": "stderr",
     "output_type": "stream",
     "text": [
      "derive_conceptualspace/evaluate/shallow_trees.py:141: UserWarning: There are more classes (9) than your decision-tree can possibly classify (4)\n"
     ]
    },
    {
     "data": {
      "text/markdown": [
       "<span style=\"font-size:11pt\">accuracy: 0.13</span>"
      ],
      "text/plain": [
       "<IPython.core.display.Markdown object>"
      ]
     },
     "metadata": {},
     "output_type": "display_data"
    },
    {
     "data": {
      "text/markdown": [
       "<span style=\"font-size:11pt\">====================================================================================================</span>"
      ],
      "text/plain": [
       "<IPython.core.display.Markdown object>"
      ]
     },
     "metadata": {},
     "output_type": "display_data"
    },
    {
     "data": {
      "text/markdown": [
       "<span style=\"font-size:11pt\">Using classes from Foursquare - 391/1383 entities have a class</span>"
      ],
      "text/plain": [
       "<IPython.core.display.Markdown object>"
      ]
     },
     "metadata": {},
     "output_type": "display_data"
    },
    {
     "data": {
      "text/markdown": [
       "<span style=\"font-size:11pt\">Labels (9 classes): <span style=\"color: #0000ff\">Shops&Services</span>: 88, <span style=\"color: #0000ff\">Food</span>: 82, <span style=\"color: #0000ff\">Travel&Transport</span>: 35, <span style=\"color: #0000ff\">Professional&Other</span>: 47, <span style=\"color: #0000ff\">Residences</span>: 6, <span style=\"color: #0000ff\">Arts&Entertainment</span>: 39, <span style=\"color: #0000ff\">NightlifeSpots</span>: 17, <span style=\"color: #0000ff\">GreatOutdoors</span>: 44, <span style=\"color: #0000ff\">College&University</span>: 33</span>"
      ],
      "text/plain": [
       "<IPython.core.display.Markdown object>"
      ]
     },
     "metadata": {},
     "output_type": "display_data"
    },
    {
     "data": {
      "text/markdown": [
       "<span style=\"font-size:11pt\">Eval-Settings: metric: <span style=\"color: #0000ff\">f1</span>, type: <span style=\"color: #0000ff\">all-at-once</span>, DT-Depth: <span style=\"color: #0000ff\">2</span>, train-test-split:<span style=\"color: #0000ff\"> 50.0% in test-set </span></span>"
      ],
      "text/plain": [
       "<IPython.core.display.Markdown object>"
      ]
     },
     "metadata": {},
     "output_type": "display_data"
    },
    {
     "name": "stderr",
     "output_type": "stream",
     "text": [
      "derive_conceptualspace/evaluate/shallow_trees.py:141: UserWarning: There are more classes (9) than your decision-tree can possibly classify (4)\n"
     ]
    },
    {
     "data": {
      "text/markdown": [
       "<span style=\"font-size:11pt\">f1: 0.15</span>"
      ],
      "text/plain": [
       "<IPython.core.display.Markdown object>"
      ]
     },
     "metadata": {},
     "output_type": "display_data"
    },
    {
     "data": {
      "text/markdown": [
       "<span style=\"font-size:11pt\">====================================================================================================</span>"
      ],
      "text/plain": [
       "<IPython.core.display.Markdown object>"
      ]
     },
     "metadata": {},
     "output_type": "display_data"
    },
    {
     "data": {
      "text/markdown": [
       "<span style=\"font-size:11pt\">Using classes from Foursquare - 391/1383 entities have a class</span>"
      ],
      "text/plain": [
       "<IPython.core.display.Markdown object>"
      ]
     },
     "metadata": {},
     "output_type": "display_data"
    },
    {
     "data": {
      "text/markdown": [
       "<span style=\"font-size:11pt\">Labels (9 classes): <span style=\"color: #0000ff\">Shops&Services</span>: 88, <span style=\"color: #0000ff\">Food</span>: 82, <span style=\"color: #0000ff\">Travel&Transport</span>: 35, <span style=\"color: #0000ff\">Professional&Other</span>: 47, <span style=\"color: #0000ff\">Residences</span>: 6, <span style=\"color: #0000ff\">Arts&Entertainment</span>: 39, <span style=\"color: #0000ff\">NightlifeSpots</span>: 17, <span style=\"color: #0000ff\">GreatOutdoors</span>: 44, <span style=\"color: #0000ff\">College&University</span>: 33</span>"
      ],
      "text/plain": [
       "<IPython.core.display.Markdown object>"
      ]
     },
     "metadata": {},
     "output_type": "display_data"
    },
    {
     "data": {
      "text/markdown": [
       "<span style=\"font-size:11pt\">Eval-Settings: metric: <span style=\"color: #0000ff\">accuracy</span>, type: <span style=\"color: #0000ff\">all-at-once</span>, DT-Depth: <span style=\"color: #0000ff\">2</span>, train-test-split:<span style=\"color: #0000ff\"> 50.0% in test-set </span></span>"
      ],
      "text/plain": [
       "<IPython.core.display.Markdown object>"
      ]
     },
     "metadata": {},
     "output_type": "display_data"
    },
    {
     "name": "stderr",
     "output_type": "stream",
     "text": [
      "derive_conceptualspace/evaluate/shallow_trees.py:141: UserWarning: There are more classes (9) than your decision-tree can possibly classify (4)\n"
     ]
    },
    {
     "data": {
      "text/markdown": [
       "<span style=\"font-size:11pt\">accuracy: 0.37</span>"
      ],
      "text/plain": [
       "<IPython.core.display.Markdown object>"
      ]
     },
     "metadata": {},
     "output_type": "display_data"
    },
    {
     "data": {
      "text/markdown": [
       "<span style=\"font-size:11pt\">====================================================================================================</span>"
      ],
      "text/plain": [
       "<IPython.core.display.Markdown object>"
      ]
     },
     "metadata": {},
     "output_type": "display_data"
    },
    {
     "data": {
      "text/markdown": [
       "<span style=\"font-size:11pt\">Using classes from Foursquare - 391/1383 entities have a class</span>"
      ],
      "text/plain": [
       "<IPython.core.display.Markdown object>"
      ]
     },
     "metadata": {},
     "output_type": "display_data"
    },
    {
     "data": {
      "text/markdown": [
       "<span style=\"font-size:11pt\">Labels (9 classes): <span style=\"color: #0000ff\">Shops&Services</span>: 88, <span style=\"color: #0000ff\">Food</span>: 82, <span style=\"color: #0000ff\">Travel&Transport</span>: 35, <span style=\"color: #0000ff\">Professional&Other</span>: 47, <span style=\"color: #0000ff\">Residences</span>: 6, <span style=\"color: #0000ff\">Arts&Entertainment</span>: 39, <span style=\"color: #0000ff\">NightlifeSpots</span>: 17, <span style=\"color: #0000ff\">GreatOutdoors</span>: 44, <span style=\"color: #0000ff\">College&University</span>: 33</span>"
      ],
      "text/plain": [
       "<IPython.core.display.Markdown object>"
      ]
     },
     "metadata": {},
     "output_type": "display_data"
    },
    {
     "data": {
      "text/markdown": [
       "<span style=\"font-size:11pt\">Eval-Settings: metric: <span style=\"color: #0000ff\">f1</span>, type: <span style=\"color: #0000ff\">all-at-once</span>, DT-Depth: <span style=\"color: #0000ff\">2</span>, train-test-split:<span style=\"color: #0000ff\"> 50.0% in test-set </span></span>"
      ],
      "text/plain": [
       "<IPython.core.display.Markdown object>"
      ]
     },
     "metadata": {},
     "output_type": "display_data"
    },
    {
     "name": "stderr",
     "output_type": "stream",
     "text": [
      "derive_conceptualspace/evaluate/shallow_trees.py:141: UserWarning: There are more classes (9) than your decision-tree can possibly classify (4)\n"
     ]
    },
    {
     "data": {
      "text/markdown": [
       "<span style=\"font-size:11pt\">f1: 0.43</span>"
      ],
      "text/plain": [
       "<IPython.core.display.Markdown object>"
      ]
     },
     "metadata": {},
     "output_type": "display_data"
    },
    {
     "data": {
      "text/markdown": [
       "<span style=\"font-size:11pt\">====================================================================================================</span>"
      ],
      "text/plain": [
       "<IPython.core.display.Markdown object>"
      ]
     },
     "metadata": {},
     "output_type": "display_data"
    },
    {
     "data": {
      "text/markdown": [
       "<span style=\"font-size:11pt\">Using classes from Foursquare - 391/1383 entities have a class</span>"
      ],
      "text/plain": [
       "<IPython.core.display.Markdown object>"
      ]
     },
     "metadata": {},
     "output_type": "display_data"
    },
    {
     "data": {
      "text/markdown": [
       "<span style=\"font-size:11pt\">Labels (9 classes): <span style=\"color: #0000ff\">Shops&Services</span>: 88, <span style=\"color: #0000ff\">Food</span>: 82, <span style=\"color: #0000ff\">Travel&Transport</span>: 35, <span style=\"color: #0000ff\">Professional&Other</span>: 47, <span style=\"color: #0000ff\">Residences</span>: 6, <span style=\"color: #0000ff\">Arts&Entertainment</span>: 39, <span style=\"color: #0000ff\">NightlifeSpots</span>: 17, <span style=\"color: #0000ff\">GreatOutdoors</span>: 44, <span style=\"color: #0000ff\">College&University</span>: 33</span>"
      ],
      "text/plain": [
       "<IPython.core.display.Markdown object>"
      ]
     },
     "metadata": {},
     "output_type": "display_data"
    },
    {
     "data": {
      "text/markdown": [
       "<span style=\"font-size:11pt\">Eval-Settings: metric: <span style=\"color: #0000ff\">accuracy</span>, type: <span style=\"color: #0000ff\">all-at-once</span>, DT-Depth: <span style=\"color: #0000ff\">3</span>, train-test-split:<span style=\"color: #0000ff\"> 50.0% in test-set </span></span>"
      ],
      "text/plain": [
       "<IPython.core.display.Markdown object>"
      ]
     },
     "metadata": {},
     "output_type": "display_data"
    },
    {
     "name": "stderr",
     "output_type": "stream",
     "text": [
      "derive_conceptualspace/evaluate/shallow_trees.py:141: UserWarning: There are more classes (9) than your decision-tree can possibly classify (8)\n"
     ]
    },
    {
     "data": {
      "text/markdown": [
       "<span style=\"font-size:11pt\">accuracy: 0.38</span>"
      ],
      "text/plain": [
       "<IPython.core.display.Markdown object>"
      ]
     },
     "metadata": {},
     "output_type": "display_data"
    },
    {
     "data": {
      "text/markdown": [
       "<span style=\"font-size:11pt\">====================================================================================================</span>"
      ],
      "text/plain": [
       "<IPython.core.display.Markdown object>"
      ]
     },
     "metadata": {},
     "output_type": "display_data"
    },
    {
     "data": {
      "text/markdown": [
       "<span style=\"font-size:11pt\">Using classes from Foursquare - 391/1383 entities have a class</span>"
      ],
      "text/plain": [
       "<IPython.core.display.Markdown object>"
      ]
     },
     "metadata": {},
     "output_type": "display_data"
    },
    {
     "data": {
      "text/markdown": [
       "<span style=\"font-size:11pt\">Labels (9 classes): <span style=\"color: #0000ff\">Shops&Services</span>: 88, <span style=\"color: #0000ff\">Food</span>: 82, <span style=\"color: #0000ff\">Travel&Transport</span>: 35, <span style=\"color: #0000ff\">Professional&Other</span>: 47, <span style=\"color: #0000ff\">Residences</span>: 6, <span style=\"color: #0000ff\">Arts&Entertainment</span>: 39, <span style=\"color: #0000ff\">NightlifeSpots</span>: 17, <span style=\"color: #0000ff\">GreatOutdoors</span>: 44, <span style=\"color: #0000ff\">College&University</span>: 33</span>"
      ],
      "text/plain": [
       "<IPython.core.display.Markdown object>"
      ]
     },
     "metadata": {},
     "output_type": "display_data"
    },
    {
     "data": {
      "text/markdown": [
       "<span style=\"font-size:11pt\">Eval-Settings: metric: <span style=\"color: #0000ff\">f1</span>, type: <span style=\"color: #0000ff\">all-at-once</span>, DT-Depth: <span style=\"color: #0000ff\">3</span>, train-test-split:<span style=\"color: #0000ff\"> 50.0% in test-set </span></span>"
      ],
      "text/plain": [
       "<IPython.core.display.Markdown object>"
      ]
     },
     "metadata": {},
     "output_type": "display_data"
    },
    {
     "name": "stderr",
     "output_type": "stream",
     "text": [
      "derive_conceptualspace/evaluate/shallow_trees.py:141: UserWarning: There are more classes (9) than your decision-tree can possibly classify (8)\n"
     ]
    },
    {
     "data": {
      "text/markdown": [
       "<span style=\"font-size:11pt\">f1: 0.20</span>"
      ],
      "text/plain": [
       "<IPython.core.display.Markdown object>"
      ]
     },
     "metadata": {},
     "output_type": "display_data"
    },
    {
     "data": {
      "text/markdown": [
       "<span style=\"font-size:11pt\">====================================================================================================</span>"
      ],
      "text/plain": [
       "<IPython.core.display.Markdown object>"
      ]
     },
     "metadata": {},
     "output_type": "display_data"
    },
    {
     "data": {
      "text/markdown": [
       "<span style=\"font-size:11pt\">Using classes from Foursquare - 391/1383 entities have a class</span>"
      ],
      "text/plain": [
       "<IPython.core.display.Markdown object>"
      ]
     },
     "metadata": {},
     "output_type": "display_data"
    },
    {
     "data": {
      "text/markdown": [
       "<span style=\"font-size:11pt\">Labels (9 classes): <span style=\"color: #0000ff\">Shops&Services</span>: 88, <span style=\"color: #0000ff\">Food</span>: 82, <span style=\"color: #0000ff\">Travel&Transport</span>: 35, <span style=\"color: #0000ff\">Professional&Other</span>: 47, <span style=\"color: #0000ff\">Residences</span>: 6, <span style=\"color: #0000ff\">Arts&Entertainment</span>: 39, <span style=\"color: #0000ff\">NightlifeSpots</span>: 17, <span style=\"color: #0000ff\">GreatOutdoors</span>: 44, <span style=\"color: #0000ff\">College&University</span>: 33</span>"
      ],
      "text/plain": [
       "<IPython.core.display.Markdown object>"
      ]
     },
     "metadata": {},
     "output_type": "display_data"
    },
    {
     "data": {
      "text/markdown": [
       "<span style=\"font-size:11pt\">Eval-Settings: metric: <span style=\"color: #0000ff\">accuracy</span>, type: <span style=\"color: #0000ff\">all-at-once</span>, DT-Depth: <span style=\"color: #0000ff\">3</span>, train-test-split:<span style=\"color: #0000ff\"> 50.0% in test-set </span></span>"
      ],
      "text/plain": [
       "<IPython.core.display.Markdown object>"
      ]
     },
     "metadata": {},
     "output_type": "display_data"
    },
    {
     "name": "stderr",
     "output_type": "stream",
     "text": [
      "derive_conceptualspace/evaluate/shallow_trees.py:141: UserWarning: There are more classes (9) than your decision-tree can possibly classify (8)\n"
     ]
    },
    {
     "data": {
      "text/markdown": [
       "<span style=\"font-size:11pt\">accuracy: 0.45</span>"
      ],
      "text/plain": [
       "<IPython.core.display.Markdown object>"
      ]
     },
     "metadata": {},
     "output_type": "display_data"
    },
    {
     "data": {
      "text/markdown": [
       "<span style=\"font-size:11pt\">====================================================================================================</span>"
      ],
      "text/plain": [
       "<IPython.core.display.Markdown object>"
      ]
     },
     "metadata": {},
     "output_type": "display_data"
    },
    {
     "data": {
      "text/markdown": [
       "<span style=\"font-size:11pt\">Using classes from Foursquare - 391/1383 entities have a class</span>"
      ],
      "text/plain": [
       "<IPython.core.display.Markdown object>"
      ]
     },
     "metadata": {},
     "output_type": "display_data"
    },
    {
     "data": {
      "text/markdown": [
       "<span style=\"font-size:11pt\">Labels (9 classes): <span style=\"color: #0000ff\">Shops&Services</span>: 88, <span style=\"color: #0000ff\">Food</span>: 82, <span style=\"color: #0000ff\">Travel&Transport</span>: 35, <span style=\"color: #0000ff\">Professional&Other</span>: 47, <span style=\"color: #0000ff\">Residences</span>: 6, <span style=\"color: #0000ff\">Arts&Entertainment</span>: 39, <span style=\"color: #0000ff\">NightlifeSpots</span>: 17, <span style=\"color: #0000ff\">GreatOutdoors</span>: 44, <span style=\"color: #0000ff\">College&University</span>: 33</span>"
      ],
      "text/plain": [
       "<IPython.core.display.Markdown object>"
      ]
     },
     "metadata": {},
     "output_type": "display_data"
    },
    {
     "data": {
      "text/markdown": [
       "<span style=\"font-size:11pt\">Eval-Settings: metric: <span style=\"color: #0000ff\">f1</span>, type: <span style=\"color: #0000ff\">all-at-once</span>, DT-Depth: <span style=\"color: #0000ff\">3</span>, train-test-split:<span style=\"color: #0000ff\"> 50.0% in test-set </span></span>"
      ],
      "text/plain": [
       "<IPython.core.display.Markdown object>"
      ]
     },
     "metadata": {},
     "output_type": "display_data"
    },
    {
     "name": "stderr",
     "output_type": "stream",
     "text": [
      "derive_conceptualspace/evaluate/shallow_trees.py:141: UserWarning: There are more classes (9) than your decision-tree can possibly classify (8)\n"
     ]
    },
    {
     "data": {
      "text/markdown": [
       "<span style=\"font-size:11pt\">f1: 0.49</span>"
      ],
      "text/plain": [
       "<IPython.core.display.Markdown object>"
      ]
     },
     "metadata": {},
     "output_type": "display_data"
    },
    {
     "data": {
      "text/markdown": [
       "<span style=\"font-size:11pt\">====================================================================================================</span>"
      ],
      "text/plain": [
       "<IPython.core.display.Markdown object>"
      ]
     },
     "metadata": {},
     "output_type": "display_data"
    },
    {
     "data": {
      "text/markdown": [
       "<span style=\"font-size:11pt\">Using classes from Foursquare - 391/1383 entities have a class</span>"
      ],
      "text/plain": [
       "<IPython.core.display.Markdown object>"
      ]
     },
     "metadata": {},
     "output_type": "display_data"
    },
    {
     "data": {
      "text/markdown": [
       "<span style=\"font-size:11pt\">Labels (9 classes): <span style=\"color: #0000ff\">Shops&Services</span>: 88, <span style=\"color: #0000ff\">Food</span>: 82, <span style=\"color: #0000ff\">Travel&Transport</span>: 35, <span style=\"color: #0000ff\">Professional&Other</span>: 47, <span style=\"color: #0000ff\">Residences</span>: 6, <span style=\"color: #0000ff\">Arts&Entertainment</span>: 39, <span style=\"color: #0000ff\">NightlifeSpots</span>: 17, <span style=\"color: #0000ff\">GreatOutdoors</span>: 44, <span style=\"color: #0000ff\">College&University</span>: 33</span>"
      ],
      "text/plain": [
       "<IPython.core.display.Markdown object>"
      ]
     },
     "metadata": {},
     "output_type": "display_data"
    },
    {
     "data": {
      "text/markdown": [
       "<span style=\"font-size:11pt\">Eval-Settings: metric: <span style=\"color: #0000ff\">accuracy</span>, type: <span style=\"color: #0000ff\">all-at-once</span>, DT-Depth: <span style=\"color: #0000ff\">None</span>, train-test-split:<span style=\"color: #0000ff\"> 50.0% in test-set </span></span>"
      ],
      "text/plain": [
       "<IPython.core.display.Markdown object>"
      ]
     },
     "metadata": {},
     "output_type": "display_data"
    },
    {
     "data": {
      "text/markdown": [
       "<span style=\"font-size:11pt\">accuracy: 0.48</span>"
      ],
      "text/plain": [
       "<IPython.core.display.Markdown object>"
      ]
     },
     "metadata": {},
     "output_type": "display_data"
    },
    {
     "data": {
      "text/markdown": [
       "<span style=\"font-size:11pt\">====================================================================================================</span>"
      ],
      "text/plain": [
       "<IPython.core.display.Markdown object>"
      ]
     },
     "metadata": {},
     "output_type": "display_data"
    },
    {
     "data": {
      "text/markdown": [
       "<span style=\"font-size:11pt\">Using classes from Foursquare - 391/1383 entities have a class</span>"
      ],
      "text/plain": [
       "<IPython.core.display.Markdown object>"
      ]
     },
     "metadata": {},
     "output_type": "display_data"
    },
    {
     "data": {
      "text/markdown": [
       "<span style=\"font-size:11pt\">Labels (9 classes): <span style=\"color: #0000ff\">Shops&Services</span>: 88, <span style=\"color: #0000ff\">Food</span>: 82, <span style=\"color: #0000ff\">Travel&Transport</span>: 35, <span style=\"color: #0000ff\">Professional&Other</span>: 47, <span style=\"color: #0000ff\">Residences</span>: 6, <span style=\"color: #0000ff\">Arts&Entertainment</span>: 39, <span style=\"color: #0000ff\">NightlifeSpots</span>: 17, <span style=\"color: #0000ff\">GreatOutdoors</span>: 44, <span style=\"color: #0000ff\">College&University</span>: 33</span>"
      ],
      "text/plain": [
       "<IPython.core.display.Markdown object>"
      ]
     },
     "metadata": {},
     "output_type": "display_data"
    },
    {
     "data": {
      "text/markdown": [
       "<span style=\"font-size:11pt\">Eval-Settings: metric: <span style=\"color: #0000ff\">f1</span>, type: <span style=\"color: #0000ff\">all-at-once</span>, DT-Depth: <span style=\"color: #0000ff\">None</span>, train-test-split:<span style=\"color: #0000ff\"> 50.0% in test-set </span></span>"
      ],
      "text/plain": [
       "<IPython.core.display.Markdown object>"
      ]
     },
     "metadata": {},
     "output_type": "display_data"
    },
    {
     "data": {
      "text/markdown": [
       "<span style=\"font-size:11pt\">f1: 0.53</span>"
      ],
      "text/plain": [
       "<IPython.core.display.Markdown object>"
      ]
     },
     "metadata": {},
     "output_type": "display_data"
    },
    {
     "data": {
      "text/markdown": [
       "<span style=\"font-size:11pt\">====================================================================================================</span>"
      ],
      "text/plain": [
       "<IPython.core.display.Markdown object>"
      ]
     },
     "metadata": {},
     "output_type": "display_data"
    },
    {
     "data": {
      "text/markdown": [
       "<span style=\"font-size:11pt\">Using classes from Foursquare - 391/1383 entities have a class</span>"
      ],
      "text/plain": [
       "<IPython.core.display.Markdown object>"
      ]
     },
     "metadata": {},
     "output_type": "display_data"
    },
    {
     "data": {
      "text/markdown": [
       "<span style=\"font-size:11pt\">Labels (9 classes): <span style=\"color: #0000ff\">Shops&Services</span>: 88, <span style=\"color: #0000ff\">Food</span>: 82, <span style=\"color: #0000ff\">Travel&Transport</span>: 35, <span style=\"color: #0000ff\">Professional&Other</span>: 47, <span style=\"color: #0000ff\">Residences</span>: 6, <span style=\"color: #0000ff\">Arts&Entertainment</span>: 39, <span style=\"color: #0000ff\">NightlifeSpots</span>: 17, <span style=\"color: #0000ff\">GreatOutdoors</span>: 44, <span style=\"color: #0000ff\">College&University</span>: 33</span>"
      ],
      "text/plain": [
       "<IPython.core.display.Markdown object>"
      ]
     },
     "metadata": {},
     "output_type": "display_data"
    },
    {
     "data": {
      "text/markdown": [
       "<span style=\"font-size:11pt\">Eval-Settings: metric: <span style=\"color: #0000ff\">accuracy</span>, type: <span style=\"color: #0000ff\">all-at-once</span>, DT-Depth: <span style=\"color: #0000ff\">None</span>, train-test-split:<span style=\"color: #0000ff\"> 50.0% in test-set </span></span>"
      ],
      "text/plain": [
       "<IPython.core.display.Markdown object>"
      ]
     },
     "metadata": {},
     "output_type": "display_data"
    },
    {
     "data": {
      "text/markdown": [
       "<span style=\"font-size:11pt\">accuracy: 0.47</span>"
      ],
      "text/plain": [
       "<IPython.core.display.Markdown object>"
      ]
     },
     "metadata": {},
     "output_type": "display_data"
    },
    {
     "data": {
      "text/markdown": [
       "<span style=\"font-size:11pt\">====================================================================================================</span>"
      ],
      "text/plain": [
       "<IPython.core.display.Markdown object>"
      ]
     },
     "metadata": {},
     "output_type": "display_data"
    },
    {
     "data": {
      "text/markdown": [
       "<span style=\"font-size:11pt\">Using classes from Foursquare - 391/1383 entities have a class</span>"
      ],
      "text/plain": [
       "<IPython.core.display.Markdown object>"
      ]
     },
     "metadata": {},
     "output_type": "display_data"
    },
    {
     "data": {
      "text/markdown": [
       "<span style=\"font-size:11pt\">Labels (9 classes): <span style=\"color: #0000ff\">Shops&Services</span>: 88, <span style=\"color: #0000ff\">Food</span>: 82, <span style=\"color: #0000ff\">Travel&Transport</span>: 35, <span style=\"color: #0000ff\">Professional&Other</span>: 47, <span style=\"color: #0000ff\">Residences</span>: 6, <span style=\"color: #0000ff\">Arts&Entertainment</span>: 39, <span style=\"color: #0000ff\">NightlifeSpots</span>: 17, <span style=\"color: #0000ff\">GreatOutdoors</span>: 44, <span style=\"color: #0000ff\">College&University</span>: 33</span>"
      ],
      "text/plain": [
       "<IPython.core.display.Markdown object>"
      ]
     },
     "metadata": {},
     "output_type": "display_data"
    },
    {
     "data": {
      "text/markdown": [
       "<span style=\"font-size:11pt\">Eval-Settings: metric: <span style=\"color: #0000ff\">f1</span>, type: <span style=\"color: #0000ff\">all-at-once</span>, DT-Depth: <span style=\"color: #0000ff\">None</span>, train-test-split:<span style=\"color: #0000ff\"> 50.0% in test-set </span></span>"
      ],
      "text/plain": [
       "<IPython.core.display.Markdown object>"
      ]
     },
     "metadata": {},
     "output_type": "display_data"
    },
    {
     "data": {
      "text/markdown": [
       "<span style=\"font-size:11pt\">f1: 0.49</span>"
      ],
      "text/plain": [
       "<IPython.core.display.Markdown object>"
      ]
     },
     "metadata": {},
     "output_type": "display_data"
    },
    {
     "data": {
      "text/markdown": [
       "<span style=\"font-size:11pt\">====================================================================================================</span>"
      ],
      "text/plain": [
       "<IPython.core.display.Markdown object>"
      ]
     },
     "metadata": {},
     "output_type": "display_data"
    },
    {
     "data": {
      "text/markdown": [
       "<span style=\"font-size:11pt\">Using classes from Foursquare - 391/1383 entities have a class</span>"
      ],
      "text/plain": [
       "<IPython.core.display.Markdown object>"
      ]
     },
     "metadata": {},
     "output_type": "display_data"
    },
    {
     "data": {
      "text/markdown": [
       "<span style=\"font-size:11pt\">Labels (9 classes): <span style=\"color: #0000ff\">Shops&Services</span>: 88, <span style=\"color: #0000ff\">Food</span>: 82, <span style=\"color: #0000ff\">Travel&Transport</span>: 35, <span style=\"color: #0000ff\">Professional&Other</span>: 47, <span style=\"color: #0000ff\">Residences</span>: 6, <span style=\"color: #0000ff\">Arts&Entertainment</span>: 39, <span style=\"color: #0000ff\">NightlifeSpots</span>: 17, <span style=\"color: #0000ff\">GreatOutdoors</span>: 44, <span style=\"color: #0000ff\">College&University</span>: 33</span>"
      ],
      "text/plain": [
       "<IPython.core.display.Markdown object>"
      ]
     },
     "metadata": {},
     "output_type": "display_data"
    },
    {
     "data": {
      "text/markdown": [
       "<span style=\"font-size:11pt\">Eval-Settings: metric: <span style=\"color: #0000ff\">accuracy</span>, type: <span style=\"color: #0000ff\">one-vs-rest</span>, DT-Depth: <span style=\"color: #0000ff\">1</span>, train-test-split:<span style=\"color: #0000ff\"> 4-fold cross-validation </span></span>"
      ],
      "text/plain": [
       "<IPython.core.display.Markdown object>"
      ]
     },
     "metadata": {},
     "output_type": "display_data"
    },
    {
     "data": {
      "text/markdown": [
       "<span style=\"font-size:11pt\">Per-Class-Scores: GreatOutdoors: 0.89, NightlifeSpots: 0.88, Travel&Transport: 0.62, Shops&Services: 0.82, College&University: 0.87, Residences: 0.65, Professional&Other: 0.69, Arts&Entertainment: 0.60, Food: 0.62</span>"
      ],
      "text/plain": [
       "<IPython.core.display.Markdown object>"
      ]
     },
     "metadata": {},
     "output_type": "display_data"
    },
    {
     "data": {
      "text/markdown": [
       "<span style=\"font-size:11pt\">Unweighted Mean accuracy: 73.88%</span>"
      ],
      "text/plain": [
       "<IPython.core.display.Markdown object>"
      ]
     },
     "metadata": {},
     "output_type": "display_data"
    },
    {
     "data": {
      "text/markdown": [
       "<span style=\"font-size:11pt\">Weighted Mean accuracy: 73.44%</span>"
      ],
      "text/plain": [
       "<IPython.core.display.Markdown object>"
      ]
     },
     "metadata": {},
     "output_type": "display_data"
    },
    {
     "data": {
      "text/markdown": [
       "<span style=\"font-size:11pt\">====================================================================================================</span>"
      ],
      "text/plain": [
       "<IPython.core.display.Markdown object>"
      ]
     },
     "metadata": {},
     "output_type": "display_data"
    },
    {
     "data": {
      "text/markdown": [
       "<span style=\"font-size:11pt\">Using classes from Foursquare - 391/1383 entities have a class</span>"
      ],
      "text/plain": [
       "<IPython.core.display.Markdown object>"
      ]
     },
     "metadata": {},
     "output_type": "display_data"
    },
    {
     "data": {
      "text/markdown": [
       "<span style=\"font-size:11pt\">Labels (9 classes): <span style=\"color: #0000ff\">Shops&Services</span>: 88, <span style=\"color: #0000ff\">Food</span>: 82, <span style=\"color: #0000ff\">Travel&Transport</span>: 35, <span style=\"color: #0000ff\">Professional&Other</span>: 47, <span style=\"color: #0000ff\">Residences</span>: 6, <span style=\"color: #0000ff\">Arts&Entertainment</span>: 39, <span style=\"color: #0000ff\">NightlifeSpots</span>: 17, <span style=\"color: #0000ff\">GreatOutdoors</span>: 44, <span style=\"color: #0000ff\">College&University</span>: 33</span>"
      ],
      "text/plain": [
       "<IPython.core.display.Markdown object>"
      ]
     },
     "metadata": {},
     "output_type": "display_data"
    },
    {
     "data": {
      "text/markdown": [
       "<span style=\"font-size:11pt\">Eval-Settings: metric: <span style=\"color: #0000ff\">f1</span>, type: <span style=\"color: #0000ff\">one-vs-rest</span>, DT-Depth: <span style=\"color: #0000ff\">1</span>, train-test-split:<span style=\"color: #0000ff\"> 4-fold cross-validation </span></span>"
      ],
      "text/plain": [
       "<IPython.core.display.Markdown object>"
      ]
     },
     "metadata": {},
     "output_type": "display_data"
    },
    {
     "data": {
      "text/markdown": [
       "<span style=\"font-size:11pt\">Per-Class-Scores: GreatOutdoors: 0.60, NightlifeSpots: 0.43, Travel&Transport: 0.29, Shops&Services: 0.64, College&University: 0.55, Residences: 0.04, Professional&Other: 0.40, Arts&Entertainment: 0.21, Food: 0.49</span>"
      ],
      "text/plain": [
       "<IPython.core.display.Markdown object>"
      ]
     },
     "metadata": {},
     "output_type": "display_data"
    },
    {
     "data": {
      "text/markdown": [
       "<span style=\"font-size:11pt\">Unweighted Mean f1: 40.70%</span>"
      ],
      "text/plain": [
       "<IPython.core.display.Markdown object>"
      ]
     },
     "metadata": {},
     "output_type": "display_data"
    },
    {
     "data": {
      "text/markdown": [
       "<span style=\"font-size:11pt\">Weighted Mean f1: 47.69%</span>"
      ],
      "text/plain": [
       "<IPython.core.display.Markdown object>"
      ]
     },
     "metadata": {},
     "output_type": "display_data"
    },
    {
     "data": {
      "text/markdown": [
       "<span style=\"font-size:11pt\">====================================================================================================</span>"
      ],
      "text/plain": [
       "<IPython.core.display.Markdown object>"
      ]
     },
     "metadata": {},
     "output_type": "display_data"
    },
    {
     "data": {
      "text/markdown": [
       "<span style=\"font-size:11pt\">Using classes from Foursquare - 391/1383 entities have a class</span>"
      ],
      "text/plain": [
       "<IPython.core.display.Markdown object>"
      ]
     },
     "metadata": {},
     "output_type": "display_data"
    },
    {
     "data": {
      "text/markdown": [
       "<span style=\"font-size:11pt\">Labels (9 classes): <span style=\"color: #0000ff\">Shops&Services</span>: 88, <span style=\"color: #0000ff\">Food</span>: 82, <span style=\"color: #0000ff\">Travel&Transport</span>: 35, <span style=\"color: #0000ff\">Professional&Other</span>: 47, <span style=\"color: #0000ff\">Residences</span>: 6, <span style=\"color: #0000ff\">Arts&Entertainment</span>: 39, <span style=\"color: #0000ff\">NightlifeSpots</span>: 17, <span style=\"color: #0000ff\">GreatOutdoors</span>: 44, <span style=\"color: #0000ff\">College&University</span>: 33</span>"
      ],
      "text/plain": [
       "<IPython.core.display.Markdown object>"
      ]
     },
     "metadata": {},
     "output_type": "display_data"
    },
    {
     "data": {
      "text/markdown": [
       "<span style=\"font-size:11pt\">Eval-Settings: metric: <span style=\"color: #0000ff\">accuracy</span>, type: <span style=\"color: #0000ff\">one-vs-rest</span>, DT-Depth: <span style=\"color: #0000ff\">1</span>, train-test-split:<span style=\"color: #0000ff\"> 4-fold cross-validation </span></span>"
      ],
      "text/plain": [
       "<IPython.core.display.Markdown object>"
      ]
     },
     "metadata": {},
     "output_type": "display_data"
    },
    {
     "data": {
      "text/markdown": [
       "<span style=\"font-size:11pt\">Per-Class-Scores: GreatOutdoors: 0.88, NightlifeSpots: 0.96, Travel&Transport: 0.91, Shops&Services: 0.86, College&University: 0.90, Residences: 0.98, Professional&Other: 0.88, Arts&Entertainment: 0.90, Food: 0.75</span>"
      ],
      "text/plain": [
       "<IPython.core.display.Markdown object>"
      ]
     },
     "metadata": {},
     "output_type": "display_data"
    },
    {
     "data": {
      "text/markdown": [
       "<span style=\"font-size:11pt\">Unweighted Mean accuracy: 89.12%</span>"
      ],
      "text/plain": [
       "<IPython.core.display.Markdown object>"
      ]
     },
     "metadata": {},
     "output_type": "display_data"
    },
    {
     "data": {
      "text/markdown": [
       "<span style=\"font-size:11pt\">Weighted Mean accuracy: 86.01%</span>"
      ],
      "text/plain": [
       "<IPython.core.display.Markdown object>"
      ]
     },
     "metadata": {},
     "output_type": "display_data"
    },
    {
     "data": {
      "text/markdown": [
       "<span style=\"font-size:11pt\">====================================================================================================</span>"
      ],
      "text/plain": [
       "<IPython.core.display.Markdown object>"
      ]
     },
     "metadata": {},
     "output_type": "display_data"
    },
    {
     "data": {
      "text/markdown": [
       "<span style=\"font-size:11pt\">Using classes from Foursquare - 391/1383 entities have a class</span>"
      ],
      "text/plain": [
       "<IPython.core.display.Markdown object>"
      ]
     },
     "metadata": {},
     "output_type": "display_data"
    },
    {
     "data": {
      "text/markdown": [
       "<span style=\"font-size:11pt\">Labels (9 classes): <span style=\"color: #0000ff\">Shops&Services</span>: 88, <span style=\"color: #0000ff\">Food</span>: 82, <span style=\"color: #0000ff\">Travel&Transport</span>: 35, <span style=\"color: #0000ff\">Professional&Other</span>: 47, <span style=\"color: #0000ff\">Residences</span>: 6, <span style=\"color: #0000ff\">Arts&Entertainment</span>: 39, <span style=\"color: #0000ff\">NightlifeSpots</span>: 17, <span style=\"color: #0000ff\">GreatOutdoors</span>: 44, <span style=\"color: #0000ff\">College&University</span>: 33</span>"
      ],
      "text/plain": [
       "<IPython.core.display.Markdown object>"
      ]
     },
     "metadata": {},
     "output_type": "display_data"
    },
    {
     "data": {
      "text/markdown": [
       "<span style=\"font-size:11pt\">Eval-Settings: metric: <span style=\"color: #0000ff\">f1</span>, type: <span style=\"color: #0000ff\">one-vs-rest</span>, DT-Depth: <span style=\"color: #0000ff\">1</span>, train-test-split:<span style=\"color: #0000ff\"> 4-fold cross-validation </span></span>"
      ],
      "text/plain": [
       "<IPython.core.display.Markdown object>"
      ]
     },
     "metadata": {},
     "output_type": "display_data"
    },
    {
     "data": {
      "text/markdown": [
       "<span style=\"font-size:11pt\">Per-Class-Scores: GreatOutdoors: 0.42, NightlifeSpots: 0.00, Travel&Transport: 0.00, Shops&Services: 0.65, College&University: 0.25, Residences: 0.00, Professional&Other: 0.00, Arts&Entertainment: 0.00, Food: 0.08</span>"
      ],
      "text/plain": [
       "<IPython.core.display.Markdown object>"
      ]
     },
     "metadata": {},
     "output_type": "display_data"
    },
    {
     "data": {
      "text/markdown": [
       "<span style=\"font-size:11pt\">Unweighted Mean f1: 15.58%</span>"
      ],
      "text/plain": [
       "<IPython.core.display.Markdown object>"
      ]
     },
     "metadata": {},
     "output_type": "display_data"
    },
    {
     "data": {
      "text/markdown": [
       "<span style=\"font-size:11pt\">Weighted Mean f1: 23.13%</span>"
      ],
      "text/plain": [
       "<IPython.core.display.Markdown object>"
      ]
     },
     "metadata": {},
     "output_type": "display_data"
    },
    {
     "data": {
      "text/markdown": [
       "<span style=\"font-size:11pt\">====================================================================================================</span>"
      ],
      "text/plain": [
       "<IPython.core.display.Markdown object>"
      ]
     },
     "metadata": {},
     "output_type": "display_data"
    },
    {
     "data": {
      "text/markdown": [
       "<span style=\"font-size:11pt\">Using classes from Foursquare - 391/1383 entities have a class</span>"
      ],
      "text/plain": [
       "<IPython.core.display.Markdown object>"
      ]
     },
     "metadata": {},
     "output_type": "display_data"
    },
    {
     "data": {
      "text/markdown": [
       "<span style=\"font-size:11pt\">Labels (9 classes): <span style=\"color: #0000ff\">Shops&Services</span>: 88, <span style=\"color: #0000ff\">Food</span>: 82, <span style=\"color: #0000ff\">Travel&Transport</span>: 35, <span style=\"color: #0000ff\">Professional&Other</span>: 47, <span style=\"color: #0000ff\">Residences</span>: 6, <span style=\"color: #0000ff\">Arts&Entertainment</span>: 39, <span style=\"color: #0000ff\">NightlifeSpots</span>: 17, <span style=\"color: #0000ff\">GreatOutdoors</span>: 44, <span style=\"color: #0000ff\">College&University</span>: 33</span>"
      ],
      "text/plain": [
       "<IPython.core.display.Markdown object>"
      ]
     },
     "metadata": {},
     "output_type": "display_data"
    },
    {
     "data": {
      "text/markdown": [
       "<span style=\"font-size:11pt\">Eval-Settings: metric: <span style=\"color: #0000ff\">accuracy</span>, type: <span style=\"color: #0000ff\">one-vs-rest</span>, DT-Depth: <span style=\"color: #0000ff\">2</span>, train-test-split:<span style=\"color: #0000ff\"> 4-fold cross-validation </span></span>"
      ],
      "text/plain": [
       "<IPython.core.display.Markdown object>"
      ]
     },
     "metadata": {},
     "output_type": "display_data"
    },
    {
     "data": {
      "text/markdown": [
       "<span style=\"font-size:11pt\">Per-Class-Scores: GreatOutdoors: 0.87, NightlifeSpots: 0.93, Travel&Transport: 0.73, Shops&Services: 0.84, College&University: 0.94, Residences: 0.80, Professional&Other: 0.74, Arts&Entertainment: 0.63, Food: 0.90</span>"
      ],
      "text/plain": [
       "<IPython.core.display.Markdown object>"
      ]
     },
     "metadata": {},
     "output_type": "display_data"
    },
    {
     "data": {
      "text/markdown": [
       "<span style=\"font-size:11pt\">Unweighted Mean accuracy: 81.98%</span>"
      ],
      "text/plain": [
       "<IPython.core.display.Markdown object>"
      ]
     },
     "metadata": {},
     "output_type": "display_data"
    },
    {
     "data": {
      "text/markdown": [
       "<span style=\"font-size:11pt\">Weighted Mean accuracy: 82.47%</span>"
      ],
      "text/plain": [
       "<IPython.core.display.Markdown object>"
      ]
     },
     "metadata": {},
     "output_type": "display_data"
    },
    {
     "data": {
      "text/markdown": [
       "<span style=\"font-size:11pt\">====================================================================================================</span>"
      ],
      "text/plain": [
       "<IPython.core.display.Markdown object>"
      ]
     },
     "metadata": {},
     "output_type": "display_data"
    },
    {
     "data": {
      "text/markdown": [
       "<span style=\"font-size:11pt\">Using classes from Foursquare - 391/1383 entities have a class</span>"
      ],
      "text/plain": [
       "<IPython.core.display.Markdown object>"
      ]
     },
     "metadata": {},
     "output_type": "display_data"
    },
    {
     "data": {
      "text/markdown": [
       "<span style=\"font-size:11pt\">Labels (9 classes): <span style=\"color: #0000ff\">Shops&Services</span>: 88, <span style=\"color: #0000ff\">Food</span>: 82, <span style=\"color: #0000ff\">Travel&Transport</span>: 35, <span style=\"color: #0000ff\">Professional&Other</span>: 47, <span style=\"color: #0000ff\">Residences</span>: 6, <span style=\"color: #0000ff\">Arts&Entertainment</span>: 39, <span style=\"color: #0000ff\">NightlifeSpots</span>: 17, <span style=\"color: #0000ff\">GreatOutdoors</span>: 44, <span style=\"color: #0000ff\">College&University</span>: 33</span>"
      ],
      "text/plain": [
       "<IPython.core.display.Markdown object>"
      ]
     },
     "metadata": {},
     "output_type": "display_data"
    },
    {
     "data": {
      "text/markdown": [
       "<span style=\"font-size:11pt\">Eval-Settings: metric: <span style=\"color: #0000ff\">f1</span>, type: <span style=\"color: #0000ff\">one-vs-rest</span>, DT-Depth: <span style=\"color: #0000ff\">2</span>, train-test-split:<span style=\"color: #0000ff\"> 4-fold cross-validation </span></span>"
      ],
      "text/plain": [
       "<IPython.core.display.Markdown object>"
      ]
     },
     "metadata": {},
     "output_type": "display_data"
    },
    {
     "data": {
      "text/markdown": [
       "<span style=\"font-size:11pt\">Per-Class-Scores: GreatOutdoors: 0.54, NightlifeSpots: 0.53, Travel&Transport: 0.34, Shops&Services: 0.66, College&University: 0.68, Residences: 0.03, Professional&Other: 0.45, Arts&Entertainment: 0.24, Food: 0.79</span>"
      ],
      "text/plain": [
       "<IPython.core.display.Markdown object>"
      ]
     },
     "metadata": {},
     "output_type": "display_data"
    },
    {
     "data": {
      "text/markdown": [
       "<span style=\"font-size:11pt\">Unweighted Mean f1: 47.46%</span>"
      ],
      "text/plain": [
       "<IPython.core.display.Markdown object>"
      ]
     },
     "metadata": {},
     "output_type": "display_data"
    },
    {
     "data": {
      "text/markdown": [
       "<span style=\"font-size:11pt\">Weighted Mean f1: 56.51%</span>"
      ],
      "text/plain": [
       "<IPython.core.display.Markdown object>"
      ]
     },
     "metadata": {},
     "output_type": "display_data"
    },
    {
     "data": {
      "text/markdown": [
       "<span style=\"font-size:11pt\">====================================================================================================</span>"
      ],
      "text/plain": [
       "<IPython.core.display.Markdown object>"
      ]
     },
     "metadata": {},
     "output_type": "display_data"
    },
    {
     "data": {
      "text/markdown": [
       "<span style=\"font-size:11pt\">Using classes from Foursquare - 391/1383 entities have a class</span>"
      ],
      "text/plain": [
       "<IPython.core.display.Markdown object>"
      ]
     },
     "metadata": {},
     "output_type": "display_data"
    },
    {
     "data": {
      "text/markdown": [
       "<span style=\"font-size:11pt\">Labels (9 classes): <span style=\"color: #0000ff\">Shops&Services</span>: 88, <span style=\"color: #0000ff\">Food</span>: 82, <span style=\"color: #0000ff\">Travel&Transport</span>: 35, <span style=\"color: #0000ff\">Professional&Other</span>: 47, <span style=\"color: #0000ff\">Residences</span>: 6, <span style=\"color: #0000ff\">Arts&Entertainment</span>: 39, <span style=\"color: #0000ff\">NightlifeSpots</span>: 17, <span style=\"color: #0000ff\">GreatOutdoors</span>: 44, <span style=\"color: #0000ff\">College&University</span>: 33</span>"
      ],
      "text/plain": [
       "<IPython.core.display.Markdown object>"
      ]
     },
     "metadata": {},
     "output_type": "display_data"
    },
    {
     "data": {
      "text/markdown": [
       "<span style=\"font-size:11pt\">Eval-Settings: metric: <span style=\"color: #0000ff\">accuracy</span>, type: <span style=\"color: #0000ff\">one-vs-rest</span>, DT-Depth: <span style=\"color: #0000ff\">2</span>, train-test-split:<span style=\"color: #0000ff\"> 4-fold cross-validation </span></span>"
      ],
      "text/plain": [
       "<IPython.core.display.Markdown object>"
      ]
     },
     "metadata": {},
     "output_type": "display_data"
    },
    {
     "data": {
      "text/markdown": [
       "<span style=\"font-size:11pt\">Per-Class-Scores: GreatOutdoors: 0.92, NightlifeSpots: 0.95, Travel&Transport: 0.88, Shops&Services: 0.87, College&University: 0.95, Residences: 0.98, Professional&Other: 0.87, Arts&Entertainment: 0.90, Food: 0.89</span>"
      ],
      "text/plain": [
       "<IPython.core.display.Markdown object>"
      ]
     },
     "metadata": {},
     "output_type": "display_data"
    },
    {
     "data": {
      "text/markdown": [
       "<span style=\"font-size:11pt\">Unweighted Mean accuracy: 91.22%</span>"
      ],
      "text/plain": [
       "<IPython.core.display.Markdown object>"
      ]
     },
     "metadata": {},
     "output_type": "display_data"
    },
    {
     "data": {
      "text/markdown": [
       "<span style=\"font-size:11pt\">Weighted Mean accuracy: 89.60%</span>"
      ],
      "text/plain": [
       "<IPython.core.display.Markdown object>"
      ]
     },
     "metadata": {},
     "output_type": "display_data"
    },
    {
     "data": {
      "text/markdown": [
       "<span style=\"font-size:11pt\">====================================================================================================</span>"
      ],
      "text/plain": [
       "<IPython.core.display.Markdown object>"
      ]
     },
     "metadata": {},
     "output_type": "display_data"
    },
    {
     "data": {
      "text/markdown": [
       "<span style=\"font-size:11pt\">Using classes from Foursquare - 391/1383 entities have a class</span>"
      ],
      "text/plain": [
       "<IPython.core.display.Markdown object>"
      ]
     },
     "metadata": {},
     "output_type": "display_data"
    },
    {
     "data": {
      "text/markdown": [
       "<span style=\"font-size:11pt\">Labels (9 classes): <span style=\"color: #0000ff\">Shops&Services</span>: 88, <span style=\"color: #0000ff\">Food</span>: 82, <span style=\"color: #0000ff\">Travel&Transport</span>: 35, <span style=\"color: #0000ff\">Professional&Other</span>: 47, <span style=\"color: #0000ff\">Residences</span>: 6, <span style=\"color: #0000ff\">Arts&Entertainment</span>: 39, <span style=\"color: #0000ff\">NightlifeSpots</span>: 17, <span style=\"color: #0000ff\">GreatOutdoors</span>: 44, <span style=\"color: #0000ff\">College&University</span>: 33</span>"
      ],
      "text/plain": [
       "<IPython.core.display.Markdown object>"
      ]
     },
     "metadata": {},
     "output_type": "display_data"
    },
    {
     "data": {
      "text/markdown": [
       "<span style=\"font-size:11pt\">Eval-Settings: metric: <span style=\"color: #0000ff\">f1</span>, type: <span style=\"color: #0000ff\">one-vs-rest</span>, DT-Depth: <span style=\"color: #0000ff\">2</span>, train-test-split:<span style=\"color: #0000ff\"> 4-fold cross-validation </span></span>"
      ],
      "text/plain": [
       "<IPython.core.display.Markdown object>"
      ]
     },
     "metadata": {},
     "output_type": "display_data"
    },
    {
     "data": {
      "text/markdown": [
       "<span style=\"font-size:11pt\">Per-Class-Scores: GreatOutdoors: 0.66, NightlifeSpots: 0.26, Travel&Transport: 0.03, Shops&Services: 0.65, College&University: 0.69, Residences: 0.00, Professional&Other: 0.09, Arts&Entertainment: 0.05, Food: 0.73</span>"
      ],
      "text/plain": [
       "<IPython.core.display.Markdown object>"
      ]
     },
     "metadata": {},
     "output_type": "display_data"
    },
    {
     "data": {
      "text/markdown": [
       "<span style=\"font-size:11pt\">Unweighted Mean f1: 35.03%</span>"
      ],
      "text/plain": [
       "<IPython.core.display.Markdown object>"
      ]
     },
     "metadata": {},
     "output_type": "display_data"
    },
    {
     "data": {
      "text/markdown": [
       "<span style=\"font-size:11pt\">Weighted Mean f1: 46.05%</span>"
      ],
      "text/plain": [
       "<IPython.core.display.Markdown object>"
      ]
     },
     "metadata": {},
     "output_type": "display_data"
    },
    {
     "data": {
      "text/markdown": [
       "<span style=\"font-size:11pt\">====================================================================================================</span>"
      ],
      "text/plain": [
       "<IPython.core.display.Markdown object>"
      ]
     },
     "metadata": {},
     "output_type": "display_data"
    },
    {
     "data": {
      "text/markdown": [
       "<span style=\"font-size:11pt\">Using classes from Foursquare - 391/1383 entities have a class</span>"
      ],
      "text/plain": [
       "<IPython.core.display.Markdown object>"
      ]
     },
     "metadata": {},
     "output_type": "display_data"
    },
    {
     "data": {
      "text/markdown": [
       "<span style=\"font-size:11pt\">Labels (9 classes): <span style=\"color: #0000ff\">Shops&Services</span>: 88, <span style=\"color: #0000ff\">Food</span>: 82, <span style=\"color: #0000ff\">Travel&Transport</span>: 35, <span style=\"color: #0000ff\">Professional&Other</span>: 47, <span style=\"color: #0000ff\">Residences</span>: 6, <span style=\"color: #0000ff\">Arts&Entertainment</span>: 39, <span style=\"color: #0000ff\">NightlifeSpots</span>: 17, <span style=\"color: #0000ff\">GreatOutdoors</span>: 44, <span style=\"color: #0000ff\">College&University</span>: 33</span>"
      ],
      "text/plain": [
       "<IPython.core.display.Markdown object>"
      ]
     },
     "metadata": {},
     "output_type": "display_data"
    },
    {
     "data": {
      "text/markdown": [
       "<span style=\"font-size:11pt\">Eval-Settings: metric: <span style=\"color: #0000ff\">accuracy</span>, type: <span style=\"color: #0000ff\">one-vs-rest</span>, DT-Depth: <span style=\"color: #0000ff\">3</span>, train-test-split:<span style=\"color: #0000ff\"> 4-fold cross-validation </span></span>"
      ],
      "text/plain": [
       "<IPython.core.display.Markdown object>"
      ]
     },
     "metadata": {},
     "output_type": "display_data"
    },
    {
     "data": {
      "text/markdown": [
       "<span style=\"font-size:11pt\">Per-Class-Scores: GreatOutdoors: 0.86, NightlifeSpots: 0.96, Travel&Transport: 0.77, Shops&Services: 0.82, College&University: 0.95, Residences: 0.94, Professional&Other: 0.75, Arts&Entertainment: 0.58, Food: 0.86</span>"
      ],
      "text/plain": [
       "<IPython.core.display.Markdown object>"
      ]
     },
     "metadata": {},
     "output_type": "display_data"
    },
    {
     "data": {
      "text/markdown": [
       "<span style=\"font-size:11pt\">Unweighted Mean accuracy: 83.17%</span>"
      ],
      "text/plain": [
       "<IPython.core.display.Markdown object>"
      ]
     },
     "metadata": {},
     "output_type": "display_data"
    },
    {
     "data": {
      "text/markdown": [
       "<span style=\"font-size:11pt\">Weighted Mean accuracy: 81.51%</span>"
      ],
      "text/plain": [
       "<IPython.core.display.Markdown object>"
      ]
     },
     "metadata": {},
     "output_type": "display_data"
    },
    {
     "data": {
      "text/markdown": [
       "<span style=\"font-size:11pt\">====================================================================================================</span>"
      ],
      "text/plain": [
       "<IPython.core.display.Markdown object>"
      ]
     },
     "metadata": {},
     "output_type": "display_data"
    },
    {
     "data": {
      "text/markdown": [
       "<span style=\"font-size:11pt\">Using classes from Foursquare - 391/1383 entities have a class</span>"
      ],
      "text/plain": [
       "<IPython.core.display.Markdown object>"
      ]
     },
     "metadata": {},
     "output_type": "display_data"
    },
    {
     "data": {
      "text/markdown": [
       "<span style=\"font-size:11pt\">Labels (9 classes): <span style=\"color: #0000ff\">Shops&Services</span>: 88, <span style=\"color: #0000ff\">Food</span>: 82, <span style=\"color: #0000ff\">Travel&Transport</span>: 35, <span style=\"color: #0000ff\">Professional&Other</span>: 47, <span style=\"color: #0000ff\">Residences</span>: 6, <span style=\"color: #0000ff\">Arts&Entertainment</span>: 39, <span style=\"color: #0000ff\">NightlifeSpots</span>: 17, <span style=\"color: #0000ff\">GreatOutdoors</span>: 44, <span style=\"color: #0000ff\">College&University</span>: 33</span>"
      ],
      "text/plain": [
       "<IPython.core.display.Markdown object>"
      ]
     },
     "metadata": {},
     "output_type": "display_data"
    },
    {
     "data": {
      "text/markdown": [
       "<span style=\"font-size:11pt\">Eval-Settings: metric: <span style=\"color: #0000ff\">f1</span>, type: <span style=\"color: #0000ff\">one-vs-rest</span>, DT-Depth: <span style=\"color: #0000ff\">3</span>, train-test-split:<span style=\"color: #0000ff\"> 4-fold cross-validation </span></span>"
      ],
      "text/plain": [
       "<IPython.core.display.Markdown object>"
      ]
     },
     "metadata": {},
     "output_type": "display_data"
    },
    {
     "data": {
      "text/markdown": [
       "<span style=\"font-size:11pt\">Per-Class-Scores: GreatOutdoors: 0.54, NightlifeSpots: 0.61, Travel&Transport: 0.36, Shops&Services: 0.64, College&University: 0.73, Residences: 0.14, Professional&Other: 0.41, Arts&Entertainment: 0.25, Food: 0.74</span>"
      ],
      "text/plain": [
       "<IPython.core.display.Markdown object>"
      ]
     },
     "metadata": {},
     "output_type": "display_data"
    },
    {
     "data": {
      "text/markdown": [
       "<span style=\"font-size:11pt\">Unweighted Mean f1: 49.05%</span>"
      ],
      "text/plain": [
       "<IPython.core.display.Markdown object>"
      ]
     },
     "metadata": {},
     "output_type": "display_data"
    },
    {
     "data": {
      "text/markdown": [
       "<span style=\"font-size:11pt\">Weighted Mean f1: 55.60%</span>"
      ],
      "text/plain": [
       "<IPython.core.display.Markdown object>"
      ]
     },
     "metadata": {},
     "output_type": "display_data"
    },
    {
     "data": {
      "text/markdown": [
       "<span style=\"font-size:11pt\">====================================================================================================</span>"
      ],
      "text/plain": [
       "<IPython.core.display.Markdown object>"
      ]
     },
     "metadata": {},
     "output_type": "display_data"
    },
    {
     "data": {
      "text/markdown": [
       "<span style=\"font-size:11pt\">Using classes from Foursquare - 391/1383 entities have a class</span>"
      ],
      "text/plain": [
       "<IPython.core.display.Markdown object>"
      ]
     },
     "metadata": {},
     "output_type": "display_data"
    },
    {
     "data": {
      "text/markdown": [
       "<span style=\"font-size:11pt\">Labels (9 classes): <span style=\"color: #0000ff\">Shops&Services</span>: 88, <span style=\"color: #0000ff\">Food</span>: 82, <span style=\"color: #0000ff\">Travel&Transport</span>: 35, <span style=\"color: #0000ff\">Professional&Other</span>: 47, <span style=\"color: #0000ff\">Residences</span>: 6, <span style=\"color: #0000ff\">Arts&Entertainment</span>: 39, <span style=\"color: #0000ff\">NightlifeSpots</span>: 17, <span style=\"color: #0000ff\">GreatOutdoors</span>: 44, <span style=\"color: #0000ff\">College&University</span>: 33</span>"
      ],
      "text/plain": [
       "<IPython.core.display.Markdown object>"
      ]
     },
     "metadata": {},
     "output_type": "display_data"
    },
    {
     "data": {
      "text/markdown": [
       "<span style=\"font-size:11pt\">Eval-Settings: metric: <span style=\"color: #0000ff\">accuracy</span>, type: <span style=\"color: #0000ff\">one-vs-rest</span>, DT-Depth: <span style=\"color: #0000ff\">3</span>, train-test-split:<span style=\"color: #0000ff\"> 4-fold cross-validation </span></span>"
      ],
      "text/plain": [
       "<IPython.core.display.Markdown object>"
      ]
     },
     "metadata": {},
     "output_type": "display_data"
    },
    {
     "data": {
      "text/markdown": [
       "<span style=\"font-size:11pt\">Per-Class-Scores: GreatOutdoors: 0.91, NightlifeSpots: 0.96, Travel&Transport: 0.90, Shops&Services: 0.86, College&University: 0.96, Residences: 0.98, Professional&Other: 0.86, Arts&Entertainment: 0.88, Food: 0.92</span>"
      ],
      "text/plain": [
       "<IPython.core.display.Markdown object>"
      ]
     },
     "metadata": {},
     "output_type": "display_data"
    },
    {
     "data": {
      "text/markdown": [
       "<span style=\"font-size:11pt\">Unweighted Mean accuracy: 91.50%</span>"
      ],
      "text/plain": [
       "<IPython.core.display.Markdown object>"
      ]
     },
     "metadata": {},
     "output_type": "display_data"
    },
    {
     "data": {
      "text/markdown": [
       "<span style=\"font-size:11pt\">Weighted Mean accuracy: 89.97%</span>"
      ],
      "text/plain": [
       "<IPython.core.display.Markdown object>"
      ]
     },
     "metadata": {},
     "output_type": "display_data"
    },
    {
     "data": {
      "text/markdown": [
       "<span style=\"font-size:11pt\">====================================================================================================</span>"
      ],
      "text/plain": [
       "<IPython.core.display.Markdown object>"
      ]
     },
     "metadata": {},
     "output_type": "display_data"
    },
    {
     "data": {
      "text/markdown": [
       "<span style=\"font-size:11pt\">Using classes from Foursquare - 391/1383 entities have a class</span>"
      ],
      "text/plain": [
       "<IPython.core.display.Markdown object>"
      ]
     },
     "metadata": {},
     "output_type": "display_data"
    },
    {
     "data": {
      "text/markdown": [
       "<span style=\"font-size:11pt\">Labels (9 classes): <span style=\"color: #0000ff\">Shops&Services</span>: 88, <span style=\"color: #0000ff\">Food</span>: 82, <span style=\"color: #0000ff\">Travel&Transport</span>: 35, <span style=\"color: #0000ff\">Professional&Other</span>: 47, <span style=\"color: #0000ff\">Residences</span>: 6, <span style=\"color: #0000ff\">Arts&Entertainment</span>: 39, <span style=\"color: #0000ff\">NightlifeSpots</span>: 17, <span style=\"color: #0000ff\">GreatOutdoors</span>: 44, <span style=\"color: #0000ff\">College&University</span>: 33</span>"
      ],
      "text/plain": [
       "<IPython.core.display.Markdown object>"
      ]
     },
     "metadata": {},
     "output_type": "display_data"
    },
    {
     "data": {
      "text/markdown": [
       "<span style=\"font-size:11pt\">Eval-Settings: metric: <span style=\"color: #0000ff\">f1</span>, type: <span style=\"color: #0000ff\">one-vs-rest</span>, DT-Depth: <span style=\"color: #0000ff\">3</span>, train-test-split:<span style=\"color: #0000ff\"> 4-fold cross-validation </span></span>"
      ],
      "text/plain": [
       "<IPython.core.display.Markdown object>"
      ]
     },
     "metadata": {},
     "output_type": "display_data"
    },
    {
     "data": {
      "text/markdown": [
       "<span style=\"font-size:11pt\">Per-Class-Scores: GreatOutdoors: 0.58, NightlifeSpots: 0.50, Travel&Transport: 0.08, Shops&Services: 0.64, College&University: 0.76, Residences: 0.00, Professional&Other: 0.20, Arts&Entertainment: 0.04, Food: 0.79</span>"
      ],
      "text/plain": [
       "<IPython.core.display.Markdown object>"
      ]
     },
     "metadata": {},
     "output_type": "display_data"
    },
    {
     "data": {
      "text/markdown": [
       "<span style=\"font-size:11pt\">Unweighted Mean f1: 39.84%</span>"
      ],
      "text/plain": [
       "<IPython.core.display.Markdown object>"
      ]
     },
     "metadata": {},
     "output_type": "display_data"
    },
    {
     "data": {
      "text/markdown": [
       "<span style=\"font-size:11pt\">Weighted Mean f1: 49.54%</span>"
      ],
      "text/plain": [
       "<IPython.core.display.Markdown object>"
      ]
     },
     "metadata": {},
     "output_type": "display_data"
    },
    {
     "data": {
      "text/markdown": [
       "<span style=\"font-size:11pt\">====================================================================================================</span>"
      ],
      "text/plain": [
       "<IPython.core.display.Markdown object>"
      ]
     },
     "metadata": {},
     "output_type": "display_data"
    },
    {
     "data": {
      "text/markdown": [
       "<span style=\"font-size:11pt\">Using classes from Foursquare - 391/1383 entities have a class</span>"
      ],
      "text/plain": [
       "<IPython.core.display.Markdown object>"
      ]
     },
     "metadata": {},
     "output_type": "display_data"
    },
    {
     "data": {
      "text/markdown": [
       "<span style=\"font-size:11pt\">Labels (9 classes): <span style=\"color: #0000ff\">Shops&Services</span>: 88, <span style=\"color: #0000ff\">Food</span>: 82, <span style=\"color: #0000ff\">Travel&Transport</span>: 35, <span style=\"color: #0000ff\">Professional&Other</span>: 47, <span style=\"color: #0000ff\">Residences</span>: 6, <span style=\"color: #0000ff\">Arts&Entertainment</span>: 39, <span style=\"color: #0000ff\">NightlifeSpots</span>: 17, <span style=\"color: #0000ff\">GreatOutdoors</span>: 44, <span style=\"color: #0000ff\">College&University</span>: 33</span>"
      ],
      "text/plain": [
       "<IPython.core.display.Markdown object>"
      ]
     },
     "metadata": {},
     "output_type": "display_data"
    },
    {
     "data": {
      "text/markdown": [
       "<span style=\"font-size:11pt\">Eval-Settings: metric: <span style=\"color: #0000ff\">accuracy</span>, type: <span style=\"color: #0000ff\">one-vs-rest</span>, DT-Depth: <span style=\"color: #0000ff\">None</span>, train-test-split:<span style=\"color: #0000ff\"> 4-fold cross-validation </span></span>"
      ],
      "text/plain": [
       "<IPython.core.display.Markdown object>"
      ]
     },
     "metadata": {},
     "output_type": "display_data"
    },
    {
     "data": {
      "text/markdown": [
       "<span style=\"font-size:11pt\">Per-Class-Scores: GreatOutdoors: 0.88, NightlifeSpots: 0.97, Travel&Transport: 0.87, Shops&Services: 0.82, College&University: 0.96, Residences: 0.97, Professional&Other: 0.84, Arts&Entertainment: 0.82, Food: 0.91</span>"
      ],
      "text/plain": [
       "<IPython.core.display.Markdown object>"
      ]
     },
     "metadata": {},
     "output_type": "display_data"
    },
    {
     "data": {
      "text/markdown": [
       "<span style=\"font-size:11pt\">Unweighted Mean accuracy: 89.57%</span>"
      ],
      "text/plain": [
       "<IPython.core.display.Markdown object>"
      ]
     },
     "metadata": {},
     "output_type": "display_data"
    },
    {
     "data": {
      "text/markdown": [
       "<span style=\"font-size:11pt\">Weighted Mean accuracy: 87.54%</span>"
      ],
      "text/plain": [
       "<IPython.core.display.Markdown object>"
      ]
     },
     "metadata": {},
     "output_type": "display_data"
    },
    {
     "data": {
      "text/markdown": [
       "<span style=\"font-size:11pt\">====================================================================================================</span>"
      ],
      "text/plain": [
       "<IPython.core.display.Markdown object>"
      ]
     },
     "metadata": {},
     "output_type": "display_data"
    },
    {
     "data": {
      "text/markdown": [
       "<span style=\"font-size:11pt\">Using classes from Foursquare - 391/1383 entities have a class</span>"
      ],
      "text/plain": [
       "<IPython.core.display.Markdown object>"
      ]
     },
     "metadata": {},
     "output_type": "display_data"
    },
    {
     "data": {
      "text/markdown": [
       "<span style=\"font-size:11pt\">Labels (9 classes): <span style=\"color: #0000ff\">Shops&Services</span>: 88, <span style=\"color: #0000ff\">Food</span>: 82, <span style=\"color: #0000ff\">Travel&Transport</span>: 35, <span style=\"color: #0000ff\">Professional&Other</span>: 47, <span style=\"color: #0000ff\">Residences</span>: 6, <span style=\"color: #0000ff\">Arts&Entertainment</span>: 39, <span style=\"color: #0000ff\">NightlifeSpots</span>: 17, <span style=\"color: #0000ff\">GreatOutdoors</span>: 44, <span style=\"color: #0000ff\">College&University</span>: 33</span>"
      ],
      "text/plain": [
       "<IPython.core.display.Markdown object>"
      ]
     },
     "metadata": {},
     "output_type": "display_data"
    },
    {
     "data": {
      "text/markdown": [
       "<span style=\"font-size:11pt\">Eval-Settings: metric: <span style=\"color: #0000ff\">f1</span>, type: <span style=\"color: #0000ff\">one-vs-rest</span>, DT-Depth: <span style=\"color: #0000ff\">None</span>, train-test-split:<span style=\"color: #0000ff\"> 4-fold cross-validation </span></span>"
      ],
      "text/plain": [
       "<IPython.core.display.Markdown object>"
      ]
     },
     "metadata": {},
     "output_type": "display_data"
    },
    {
     "data": {
      "text/markdown": [
       "<span style=\"font-size:11pt\">Per-Class-Scores: GreatOutdoors: 0.46, NightlifeSpots: 0.67, Travel&Transport: 0.26, Shops&Services: 0.63, College&University: 0.71, Residences: 0.00, Professional&Other: 0.29, Arts&Entertainment: 0.25, Food: 0.77</span>"
      ],
      "text/plain": [
       "<IPython.core.display.Markdown object>"
      ]
     },
     "metadata": {},
     "output_type": "display_data"
    },
    {
     "data": {
      "text/markdown": [
       "<span style=\"font-size:11pt\">Unweighted Mean f1: 44.80%</span>"
      ],
      "text/plain": [
       "<IPython.core.display.Markdown object>"
      ]
     },
     "metadata": {},
     "output_type": "display_data"
    },
    {
     "data": {
      "text/markdown": [
       "<span style=\"font-size:11pt\">Weighted Mean f1: 52.62%</span>"
      ],
      "text/plain": [
       "<IPython.core.display.Markdown object>"
      ]
     },
     "metadata": {},
     "output_type": "display_data"
    },
    {
     "data": {
      "text/markdown": [
       "<span style=\"font-size:11pt\">====================================================================================================</span>"
      ],
      "text/plain": [
       "<IPython.core.display.Markdown object>"
      ]
     },
     "metadata": {},
     "output_type": "display_data"
    },
    {
     "data": {
      "text/markdown": [
       "<span style=\"font-size:11pt\">Using classes from Foursquare - 391/1383 entities have a class</span>"
      ],
      "text/plain": [
       "<IPython.core.display.Markdown object>"
      ]
     },
     "metadata": {},
     "output_type": "display_data"
    },
    {
     "data": {
      "text/markdown": [
       "<span style=\"font-size:11pt\">Labels (9 classes): <span style=\"color: #0000ff\">Shops&Services</span>: 88, <span style=\"color: #0000ff\">Food</span>: 82, <span style=\"color: #0000ff\">Travel&Transport</span>: 35, <span style=\"color: #0000ff\">Professional&Other</span>: 47, <span style=\"color: #0000ff\">Residences</span>: 6, <span style=\"color: #0000ff\">Arts&Entertainment</span>: 39, <span style=\"color: #0000ff\">NightlifeSpots</span>: 17, <span style=\"color: #0000ff\">GreatOutdoors</span>: 44, <span style=\"color: #0000ff\">College&University</span>: 33</span>"
      ],
      "text/plain": [
       "<IPython.core.display.Markdown object>"
      ]
     },
     "metadata": {},
     "output_type": "display_data"
    },
    {
     "data": {
      "text/markdown": [
       "<span style=\"font-size:11pt\">Eval-Settings: metric: <span style=\"color: #0000ff\">accuracy</span>, type: <span style=\"color: #0000ff\">one-vs-rest</span>, DT-Depth: <span style=\"color: #0000ff\">None</span>, train-test-split:<span style=\"color: #0000ff\"> 4-fold cross-validation </span></span>"
      ],
      "text/plain": [
       "<IPython.core.display.Markdown object>"
      ]
     },
     "metadata": {},
     "output_type": "display_data"
    },
    {
     "data": {
      "text/markdown": [
       "<span style=\"font-size:11pt\">Per-Class-Scores: GreatOutdoors: 0.90, NightlifeSpots: 0.97, Travel&Transport: 0.90, Shops&Services: 0.84, College&University: 0.97, Residences: 0.96, Professional&Other: 0.83, Arts&Entertainment: 0.78, Food: 0.91</span>"
      ],
      "text/plain": [
       "<IPython.core.display.Markdown object>"
      ]
     },
     "metadata": {},
     "output_type": "display_data"
    },
    {
     "data": {
      "text/markdown": [
       "<span style=\"font-size:11pt\">Unweighted Mean accuracy: 89.37%</span>"
      ],
      "text/plain": [
       "<IPython.core.display.Markdown object>"
      ]
     },
     "metadata": {},
     "output_type": "display_data"
    },
    {
     "data": {
      "text/markdown": [
       "<span style=\"font-size:11pt\">Weighted Mean accuracy: 87.55%</span>"
      ],
      "text/plain": [
       "<IPython.core.display.Markdown object>"
      ]
     },
     "metadata": {},
     "output_type": "display_data"
    },
    {
     "data": {
      "text/markdown": [
       "<span style=\"font-size:11pt\">====================================================================================================</span>"
      ],
      "text/plain": [
       "<IPython.core.display.Markdown object>"
      ]
     },
     "metadata": {},
     "output_type": "display_data"
    },
    {
     "data": {
      "text/markdown": [
       "<span style=\"font-size:11pt\">Using classes from Foursquare - 391/1383 entities have a class</span>"
      ],
      "text/plain": [
       "<IPython.core.display.Markdown object>"
      ]
     },
     "metadata": {},
     "output_type": "display_data"
    },
    {
     "data": {
      "text/markdown": [
       "<span style=\"font-size:11pt\">Labels (9 classes): <span style=\"color: #0000ff\">Shops&Services</span>: 88, <span style=\"color: #0000ff\">Food</span>: 82, <span style=\"color: #0000ff\">Travel&Transport</span>: 35, <span style=\"color: #0000ff\">Professional&Other</span>: 47, <span style=\"color: #0000ff\">Residences</span>: 6, <span style=\"color: #0000ff\">Arts&Entertainment</span>: 39, <span style=\"color: #0000ff\">NightlifeSpots</span>: 17, <span style=\"color: #0000ff\">GreatOutdoors</span>: 44, <span style=\"color: #0000ff\">College&University</span>: 33</span>"
      ],
      "text/plain": [
       "<IPython.core.display.Markdown object>"
      ]
     },
     "metadata": {},
     "output_type": "display_data"
    },
    {
     "data": {
      "text/markdown": [
       "<span style=\"font-size:11pt\">Eval-Settings: metric: <span style=\"color: #0000ff\">f1</span>, type: <span style=\"color: #0000ff\">one-vs-rest</span>, DT-Depth: <span style=\"color: #0000ff\">None</span>, train-test-split:<span style=\"color: #0000ff\"> 4-fold cross-validation </span></span>"
      ],
      "text/plain": [
       "<IPython.core.display.Markdown object>"
      ]
     },
     "metadata": {},
     "output_type": "display_data"
    },
    {
     "data": {
      "text/markdown": [
       "<span style=\"font-size:11pt\">Per-Class-Scores: GreatOutdoors: 0.46, NightlifeSpots: 0.59, Travel&Transport: 0.28, Shops&Services: 0.63, College&University: 0.78, Residences: 0.00, Professional&Other: 0.32, Arts&Entertainment: 0.14, Food: 0.74</span>"
      ],
      "text/plain": [
       "<IPython.core.display.Markdown object>"
      ]
     },
     "metadata": {},
     "output_type": "display_data"
    },
    {
     "data": {
      "text/markdown": [
       "<span style=\"font-size:11pt\">Unweighted Mean f1: 43.73%</span>"
      ],
      "text/plain": [
       "<IPython.core.display.Markdown object>"
      ]
     },
     "metadata": {},
     "output_type": "display_data"
    },
    {
     "data": {
      "text/markdown": [
       "<span style=\"font-size:11pt\">Weighted Mean f1: 51.79%</span>"
      ],
      "text/plain": [
       "<IPython.core.display.Markdown object>"
      ]
     },
     "metadata": {},
     "output_type": "display_data"
    },
    {
     "data": {
      "text/markdown": [
       "<span style=\"font-size:11pt\">====================================================================================================</span>"
      ],
      "text/plain": [
       "<IPython.core.display.Markdown object>"
      ]
     },
     "metadata": {},
     "output_type": "display_data"
    },
    {
     "data": {
      "text/markdown": [
       "<span style=\"font-size:11pt\">Using classes from Foursquare - 391/1383 entities have a class</span>"
      ],
      "text/plain": [
       "<IPython.core.display.Markdown object>"
      ]
     },
     "metadata": {},
     "output_type": "display_data"
    },
    {
     "data": {
      "text/markdown": [
       "<span style=\"font-size:11pt\">Labels (9 classes): <span style=\"color: #0000ff\">Shops&Services</span>: 88, <span style=\"color: #0000ff\">Food</span>: 82, <span style=\"color: #0000ff\">Travel&Transport</span>: 35, <span style=\"color: #0000ff\">Professional&Other</span>: 47, <span style=\"color: #0000ff\">Residences</span>: 6, <span style=\"color: #0000ff\">Arts&Entertainment</span>: 39, <span style=\"color: #0000ff\">NightlifeSpots</span>: 17, <span style=\"color: #0000ff\">GreatOutdoors</span>: 44, <span style=\"color: #0000ff\">College&University</span>: 33</span>"
      ],
      "text/plain": [
       "<IPython.core.display.Markdown object>"
      ]
     },
     "metadata": {},
     "output_type": "display_data"
    },
    {
     "data": {
      "text/markdown": [
       "<span style=\"font-size:11pt\">Eval-Settings: metric: <span style=\"color: #0000ff\">accuracy</span>, type: <span style=\"color: #0000ff\">all-at-once</span>, DT-Depth: <span style=\"color: #0000ff\">1</span>, train-test-split:<span style=\"color: #0000ff\"> 4-fold cross-validation </span></span>"
      ],
      "text/plain": [
       "<IPython.core.display.Markdown object>"
      ]
     },
     "metadata": {},
     "output_type": "display_data"
    },
    {
     "name": "stderr",
     "output_type": "stream",
     "text": [
      "derive_conceptualspace/evaluate/shallow_trees.py:141: UserWarning: There are more classes (9) than your decision-tree can possibly classify (2)\n"
     ]
    },
    {
     "data": {
      "text/markdown": [
       "<span style=\"font-size:11pt\">accuracy: 0.14</span>"
      ],
      "text/plain": [
       "<IPython.core.display.Markdown object>"
      ]
     },
     "metadata": {},
     "output_type": "display_data"
    },
    {
     "data": {
      "text/markdown": [
       "<span style=\"font-size:11pt\">Baseline accuracy: 0.23</span>"
      ],
      "text/plain": [
       "<IPython.core.display.Markdown object>"
      ]
     },
     "metadata": {},
     "output_type": "display_data"
    },
    {
     "data": {
      "text/markdown": [
       "<span style=\"font-size:11pt\">Maximally achievable accuracy: 0.43</span>"
      ],
      "text/plain": [
       "<IPython.core.display.Markdown object>"
      ]
     },
     "metadata": {},
     "output_type": "display_data"
    },
    {
     "data": {
      "text/markdown": [
       "<span style=\"font-size:11pt\">====================================================================================================</span>"
      ],
      "text/plain": [
       "<IPython.core.display.Markdown object>"
      ]
     },
     "metadata": {},
     "output_type": "display_data"
    },
    {
     "data": {
      "text/markdown": [
       "<span style=\"font-size:11pt\">Using classes from Foursquare - 391/1383 entities have a class</span>"
      ],
      "text/plain": [
       "<IPython.core.display.Markdown object>"
      ]
     },
     "metadata": {},
     "output_type": "display_data"
    },
    {
     "data": {
      "text/markdown": [
       "<span style=\"font-size:11pt\">Labels (9 classes): <span style=\"color: #0000ff\">Shops&Services</span>: 88, <span style=\"color: #0000ff\">Food</span>: 82, <span style=\"color: #0000ff\">Travel&Transport</span>: 35, <span style=\"color: #0000ff\">Professional&Other</span>: 47, <span style=\"color: #0000ff\">Residences</span>: 6, <span style=\"color: #0000ff\">Arts&Entertainment</span>: 39, <span style=\"color: #0000ff\">NightlifeSpots</span>: 17, <span style=\"color: #0000ff\">GreatOutdoors</span>: 44, <span style=\"color: #0000ff\">College&University</span>: 33</span>"
      ],
      "text/plain": [
       "<IPython.core.display.Markdown object>"
      ]
     },
     "metadata": {},
     "output_type": "display_data"
    },
    {
     "data": {
      "text/markdown": [
       "<span style=\"font-size:11pt\">Eval-Settings: metric: <span style=\"color: #0000ff\">f1</span>, type: <span style=\"color: #0000ff\">all-at-once</span>, DT-Depth: <span style=\"color: #0000ff\">1</span>, train-test-split:<span style=\"color: #0000ff\"> 4-fold cross-validation </span></span>"
      ],
      "text/plain": [
       "<IPython.core.display.Markdown object>"
      ]
     },
     "metadata": {},
     "output_type": "display_data"
    },
    {
     "name": "stderr",
     "output_type": "stream",
     "text": [
      "derive_conceptualspace/evaluate/shallow_trees.py:141: UserWarning: There are more classes (9) than your decision-tree can possibly classify (2)\n"
     ]
    },
    {
     "data": {
      "text/markdown": [
       "<span style=\"font-size:11pt\">f1: 0.14</span>"
      ],
      "text/plain": [
       "<IPython.core.display.Markdown object>"
      ]
     },
     "metadata": {},
     "output_type": "display_data"
    },
    {
     "data": {
      "text/markdown": [
       "<span style=\"font-size:11pt\">Baseline f1: 0.23</span>"
      ],
      "text/plain": [
       "<IPython.core.display.Markdown object>"
      ]
     },
     "metadata": {},
     "output_type": "display_data"
    },
    {
     "data": {
      "text/markdown": [
       "<span style=\"font-size:11pt\">====================================================================================================</span>"
      ],
      "text/plain": [
       "<IPython.core.display.Markdown object>"
      ]
     },
     "metadata": {},
     "output_type": "display_data"
    },
    {
     "data": {
      "text/markdown": [
       "<span style=\"font-size:11pt\">Using classes from Foursquare - 391/1383 entities have a class</span>"
      ],
      "text/plain": [
       "<IPython.core.display.Markdown object>"
      ]
     },
     "metadata": {},
     "output_type": "display_data"
    },
    {
     "data": {
      "text/markdown": [
       "<span style=\"font-size:11pt\">Labels (9 classes): <span style=\"color: #0000ff\">Shops&Services</span>: 88, <span style=\"color: #0000ff\">Food</span>: 82, <span style=\"color: #0000ff\">Travel&Transport</span>: 35, <span style=\"color: #0000ff\">Professional&Other</span>: 47, <span style=\"color: #0000ff\">Residences</span>: 6, <span style=\"color: #0000ff\">Arts&Entertainment</span>: 39, <span style=\"color: #0000ff\">NightlifeSpots</span>: 17, <span style=\"color: #0000ff\">GreatOutdoors</span>: 44, <span style=\"color: #0000ff\">College&University</span>: 33</span>"
      ],
      "text/plain": [
       "<IPython.core.display.Markdown object>"
      ]
     },
     "metadata": {},
     "output_type": "display_data"
    },
    {
     "data": {
      "text/markdown": [
       "<span style=\"font-size:11pt\">Eval-Settings: metric: <span style=\"color: #0000ff\">accuracy</span>, type: <span style=\"color: #0000ff\">all-at-once</span>, DT-Depth: <span style=\"color: #0000ff\">1</span>, train-test-split:<span style=\"color: #0000ff\"> 4-fold cross-validation </span></span>"
      ],
      "text/plain": [
       "<IPython.core.display.Markdown object>"
      ]
     },
     "metadata": {},
     "output_type": "display_data"
    },
    {
     "name": "stderr",
     "output_type": "stream",
     "text": [
      "derive_conceptualspace/evaluate/shallow_trees.py:141: UserWarning: There are more classes (9) than your decision-tree can possibly classify (2)\n"
     ]
    },
    {
     "data": {
      "text/markdown": [
       "<span style=\"font-size:11pt\">accuracy: 0.35</span>"
      ],
      "text/plain": [
       "<IPython.core.display.Markdown object>"
      ]
     },
     "metadata": {},
     "output_type": "display_data"
    },
    {
     "data": {
      "text/markdown": [
       "<span style=\"font-size:11pt\">Baseline accuracy: 0.23</span>"
      ],
      "text/plain": [
       "<IPython.core.display.Markdown object>"
      ]
     },
     "metadata": {},
     "output_type": "display_data"
    },
    {
     "data": {
      "text/markdown": [
       "<span style=\"font-size:11pt\">Maximally achievable accuracy: 0.43</span>"
      ],
      "text/plain": [
       "<IPython.core.display.Markdown object>"
      ]
     },
     "metadata": {},
     "output_type": "display_data"
    },
    {
     "data": {
      "text/markdown": [
       "<span style=\"font-size:11pt\">====================================================================================================</span>"
      ],
      "text/plain": [
       "<IPython.core.display.Markdown object>"
      ]
     },
     "metadata": {},
     "output_type": "display_data"
    },
    {
     "data": {
      "text/markdown": [
       "<span style=\"font-size:11pt\">Using classes from Foursquare - 391/1383 entities have a class</span>"
      ],
      "text/plain": [
       "<IPython.core.display.Markdown object>"
      ]
     },
     "metadata": {},
     "output_type": "display_data"
    },
    {
     "data": {
      "text/markdown": [
       "<span style=\"font-size:11pt\">Labels (9 classes): <span style=\"color: #0000ff\">Shops&Services</span>: 88, <span style=\"color: #0000ff\">Food</span>: 82, <span style=\"color: #0000ff\">Travel&Transport</span>: 35, <span style=\"color: #0000ff\">Professional&Other</span>: 47, <span style=\"color: #0000ff\">Residences</span>: 6, <span style=\"color: #0000ff\">Arts&Entertainment</span>: 39, <span style=\"color: #0000ff\">NightlifeSpots</span>: 17, <span style=\"color: #0000ff\">GreatOutdoors</span>: 44, <span style=\"color: #0000ff\">College&University</span>: 33</span>"
      ],
      "text/plain": [
       "<IPython.core.display.Markdown object>"
      ]
     },
     "metadata": {},
     "output_type": "display_data"
    },
    {
     "data": {
      "text/markdown": [
       "<span style=\"font-size:11pt\">Eval-Settings: metric: <span style=\"color: #0000ff\">f1</span>, type: <span style=\"color: #0000ff\">all-at-once</span>, DT-Depth: <span style=\"color: #0000ff\">1</span>, train-test-split:<span style=\"color: #0000ff\"> 4-fold cross-validation </span></span>"
      ],
      "text/plain": [
       "<IPython.core.display.Markdown object>"
      ]
     },
     "metadata": {},
     "output_type": "display_data"
    },
    {
     "name": "stderr",
     "output_type": "stream",
     "text": [
      "derive_conceptualspace/evaluate/shallow_trees.py:141: UserWarning: There are more classes (9) than your decision-tree can possibly classify (2)\n"
     ]
    },
    {
     "data": {
      "text/markdown": [
       "<span style=\"font-size:11pt\">f1: 0.35</span>"
      ],
      "text/plain": [
       "<IPython.core.display.Markdown object>"
      ]
     },
     "metadata": {},
     "output_type": "display_data"
    },
    {
     "data": {
      "text/markdown": [
       "<span style=\"font-size:11pt\">Baseline f1: 0.23</span>"
      ],
      "text/plain": [
       "<IPython.core.display.Markdown object>"
      ]
     },
     "metadata": {},
     "output_type": "display_data"
    },
    {
     "data": {
      "text/markdown": [
       "<span style=\"font-size:11pt\">====================================================================================================</span>"
      ],
      "text/plain": [
       "<IPython.core.display.Markdown object>"
      ]
     },
     "metadata": {},
     "output_type": "display_data"
    },
    {
     "data": {
      "text/markdown": [
       "<span style=\"font-size:11pt\">Using classes from Foursquare - 391/1383 entities have a class</span>"
      ],
      "text/plain": [
       "<IPython.core.display.Markdown object>"
      ]
     },
     "metadata": {},
     "output_type": "display_data"
    },
    {
     "data": {
      "text/markdown": [
       "<span style=\"font-size:11pt\">Labels (9 classes): <span style=\"color: #0000ff\">Shops&Services</span>: 88, <span style=\"color: #0000ff\">Food</span>: 82, <span style=\"color: #0000ff\">Travel&Transport</span>: 35, <span style=\"color: #0000ff\">Professional&Other</span>: 47, <span style=\"color: #0000ff\">Residences</span>: 6, <span style=\"color: #0000ff\">Arts&Entertainment</span>: 39, <span style=\"color: #0000ff\">NightlifeSpots</span>: 17, <span style=\"color: #0000ff\">GreatOutdoors</span>: 44, <span style=\"color: #0000ff\">College&University</span>: 33</span>"
      ],
      "text/plain": [
       "<IPython.core.display.Markdown object>"
      ]
     },
     "metadata": {},
     "output_type": "display_data"
    },
    {
     "data": {
      "text/markdown": [
       "<span style=\"font-size:11pt\">Eval-Settings: metric: <span style=\"color: #0000ff\">accuracy</span>, type: <span style=\"color: #0000ff\">all-at-once</span>, DT-Depth: <span style=\"color: #0000ff\">2</span>, train-test-split:<span style=\"color: #0000ff\"> 4-fold cross-validation </span></span>"
      ],
      "text/plain": [
       "<IPython.core.display.Markdown object>"
      ]
     },
     "metadata": {},
     "output_type": "display_data"
    },
    {
     "name": "stderr",
     "output_type": "stream",
     "text": [
      "derive_conceptualspace/evaluate/shallow_trees.py:141: UserWarning: There are more classes (9) than your decision-tree can possibly classify (4)\n"
     ]
    },
    {
     "data": {
      "text/markdown": [
       "<span style=\"font-size:11pt\">accuracy: 0.16</span>"
      ],
      "text/plain": [
       "<IPython.core.display.Markdown object>"
      ]
     },
     "metadata": {},
     "output_type": "display_data"
    },
    {
     "data": {
      "text/markdown": [
       "<span style=\"font-size:11pt\">====================================================================================================</span>"
      ],
      "text/plain": [
       "<IPython.core.display.Markdown object>"
      ]
     },
     "metadata": {},
     "output_type": "display_data"
    },
    {
     "data": {
      "text/markdown": [
       "<span style=\"font-size:11pt\">Using classes from Foursquare - 391/1383 entities have a class</span>"
      ],
      "text/plain": [
       "<IPython.core.display.Markdown object>"
      ]
     },
     "metadata": {},
     "output_type": "display_data"
    },
    {
     "data": {
      "text/markdown": [
       "<span style=\"font-size:11pt\">Labels (9 classes): <span style=\"color: #0000ff\">Shops&Services</span>: 88, <span style=\"color: #0000ff\">Food</span>: 82, <span style=\"color: #0000ff\">Travel&Transport</span>: 35, <span style=\"color: #0000ff\">Professional&Other</span>: 47, <span style=\"color: #0000ff\">Residences</span>: 6, <span style=\"color: #0000ff\">Arts&Entertainment</span>: 39, <span style=\"color: #0000ff\">NightlifeSpots</span>: 17, <span style=\"color: #0000ff\">GreatOutdoors</span>: 44, <span style=\"color: #0000ff\">College&University</span>: 33</span>"
      ],
      "text/plain": [
       "<IPython.core.display.Markdown object>"
      ]
     },
     "metadata": {},
     "output_type": "display_data"
    },
    {
     "data": {
      "text/markdown": [
       "<span style=\"font-size:11pt\">Eval-Settings: metric: <span style=\"color: #0000ff\">f1</span>, type: <span style=\"color: #0000ff\">all-at-once</span>, DT-Depth: <span style=\"color: #0000ff\">2</span>, train-test-split:<span style=\"color: #0000ff\"> 4-fold cross-validation </span></span>"
      ],
      "text/plain": [
       "<IPython.core.display.Markdown object>"
      ]
     },
     "metadata": {},
     "output_type": "display_data"
    },
    {
     "name": "stderr",
     "output_type": "stream",
     "text": [
      "derive_conceptualspace/evaluate/shallow_trees.py:141: UserWarning: There are more classes (9) than your decision-tree can possibly classify (4)\n"
     ]
    },
    {
     "data": {
      "text/markdown": [
       "<span style=\"font-size:11pt\">f1: 0.16</span>"
      ],
      "text/plain": [
       "<IPython.core.display.Markdown object>"
      ]
     },
     "metadata": {},
     "output_type": "display_data"
    },
    {
     "data": {
      "text/markdown": [
       "<span style=\"font-size:11pt\">====================================================================================================</span>"
      ],
      "text/plain": [
       "<IPython.core.display.Markdown object>"
      ]
     },
     "metadata": {},
     "output_type": "display_data"
    },
    {
     "data": {
      "text/markdown": [
       "<span style=\"font-size:11pt\">Using classes from Foursquare - 391/1383 entities have a class</span>"
      ],
      "text/plain": [
       "<IPython.core.display.Markdown object>"
      ]
     },
     "metadata": {},
     "output_type": "display_data"
    },
    {
     "data": {
      "text/markdown": [
       "<span style=\"font-size:11pt\">Labels (9 classes): <span style=\"color: #0000ff\">Shops&Services</span>: 88, <span style=\"color: #0000ff\">Food</span>: 82, <span style=\"color: #0000ff\">Travel&Transport</span>: 35, <span style=\"color: #0000ff\">Professional&Other</span>: 47, <span style=\"color: #0000ff\">Residences</span>: 6, <span style=\"color: #0000ff\">Arts&Entertainment</span>: 39, <span style=\"color: #0000ff\">NightlifeSpots</span>: 17, <span style=\"color: #0000ff\">GreatOutdoors</span>: 44, <span style=\"color: #0000ff\">College&University</span>: 33</span>"
      ],
      "text/plain": [
       "<IPython.core.display.Markdown object>"
      ]
     },
     "metadata": {},
     "output_type": "display_data"
    },
    {
     "data": {
      "text/markdown": [
       "<span style=\"font-size:11pt\">Eval-Settings: metric: <span style=\"color: #0000ff\">accuracy</span>, type: <span style=\"color: #0000ff\">all-at-once</span>, DT-Depth: <span style=\"color: #0000ff\">2</span>, train-test-split:<span style=\"color: #0000ff\"> 4-fold cross-validation </span></span>"
      ],
      "text/plain": [
       "<IPython.core.display.Markdown object>"
      ]
     },
     "metadata": {},
     "output_type": "display_data"
    },
    {
     "name": "stderr",
     "output_type": "stream",
     "text": [
      "derive_conceptualspace/evaluate/shallow_trees.py:141: UserWarning: There are more classes (9) than your decision-tree can possibly classify (4)\n"
     ]
    },
    {
     "data": {
      "text/markdown": [
       "<span style=\"font-size:11pt\">accuracy: 0.45</span>"
      ],
      "text/plain": [
       "<IPython.core.display.Markdown object>"
      ]
     },
     "metadata": {},
     "output_type": "display_data"
    },
    {
     "data": {
      "text/markdown": [
       "<span style=\"font-size:11pt\">====================================================================================================</span>"
      ],
      "text/plain": [
       "<IPython.core.display.Markdown object>"
      ]
     },
     "metadata": {},
     "output_type": "display_data"
    },
    {
     "data": {
      "text/markdown": [
       "<span style=\"font-size:11pt\">Using classes from Foursquare - 391/1383 entities have a class</span>"
      ],
      "text/plain": [
       "<IPython.core.display.Markdown object>"
      ]
     },
     "metadata": {},
     "output_type": "display_data"
    },
    {
     "data": {
      "text/markdown": [
       "<span style=\"font-size:11pt\">Labels (9 classes): <span style=\"color: #0000ff\">Shops&Services</span>: 88, <span style=\"color: #0000ff\">Food</span>: 82, <span style=\"color: #0000ff\">Travel&Transport</span>: 35, <span style=\"color: #0000ff\">Professional&Other</span>: 47, <span style=\"color: #0000ff\">Residences</span>: 6, <span style=\"color: #0000ff\">Arts&Entertainment</span>: 39, <span style=\"color: #0000ff\">NightlifeSpots</span>: 17, <span style=\"color: #0000ff\">GreatOutdoors</span>: 44, <span style=\"color: #0000ff\">College&University</span>: 33</span>"
      ],
      "text/plain": [
       "<IPython.core.display.Markdown object>"
      ]
     },
     "metadata": {},
     "output_type": "display_data"
    },
    {
     "data": {
      "text/markdown": [
       "<span style=\"font-size:11pt\">Eval-Settings: metric: <span style=\"color: #0000ff\">f1</span>, type: <span style=\"color: #0000ff\">all-at-once</span>, DT-Depth: <span style=\"color: #0000ff\">2</span>, train-test-split:<span style=\"color: #0000ff\"> 4-fold cross-validation </span></span>"
      ],
      "text/plain": [
       "<IPython.core.display.Markdown object>"
      ]
     },
     "metadata": {},
     "output_type": "display_data"
    },
    {
     "name": "stderr",
     "output_type": "stream",
     "text": [
      "derive_conceptualspace/evaluate/shallow_trees.py:141: UserWarning: There are more classes (9) than your decision-tree can possibly classify (4)\n"
     ]
    },
    {
     "data": {
      "text/markdown": [
       "<span style=\"font-size:11pt\">f1: 0.45</span>"
      ],
      "text/plain": [
       "<IPython.core.display.Markdown object>"
      ]
     },
     "metadata": {},
     "output_type": "display_data"
    },
    {
     "data": {
      "text/markdown": [
       "<span style=\"font-size:11pt\">====================================================================================================</span>"
      ],
      "text/plain": [
       "<IPython.core.display.Markdown object>"
      ]
     },
     "metadata": {},
     "output_type": "display_data"
    },
    {
     "data": {
      "text/markdown": [
       "<span style=\"font-size:11pt\">Using classes from Foursquare - 391/1383 entities have a class</span>"
      ],
      "text/plain": [
       "<IPython.core.display.Markdown object>"
      ]
     },
     "metadata": {},
     "output_type": "display_data"
    },
    {
     "data": {
      "text/markdown": [
       "<span style=\"font-size:11pt\">Labels (9 classes): <span style=\"color: #0000ff\">Shops&Services</span>: 88, <span style=\"color: #0000ff\">Food</span>: 82, <span style=\"color: #0000ff\">Travel&Transport</span>: 35, <span style=\"color: #0000ff\">Professional&Other</span>: 47, <span style=\"color: #0000ff\">Residences</span>: 6, <span style=\"color: #0000ff\">Arts&Entertainment</span>: 39, <span style=\"color: #0000ff\">NightlifeSpots</span>: 17, <span style=\"color: #0000ff\">GreatOutdoors</span>: 44, <span style=\"color: #0000ff\">College&University</span>: 33</span>"
      ],
      "text/plain": [
       "<IPython.core.display.Markdown object>"
      ]
     },
     "metadata": {},
     "output_type": "display_data"
    },
    {
     "data": {
      "text/markdown": [
       "<span style=\"font-size:11pt\">Eval-Settings: metric: <span style=\"color: #0000ff\">accuracy</span>, type: <span style=\"color: #0000ff\">all-at-once</span>, DT-Depth: <span style=\"color: #0000ff\">3</span>, train-test-split:<span style=\"color: #0000ff\"> 4-fold cross-validation </span></span>"
      ],
      "text/plain": [
       "<IPython.core.display.Markdown object>"
      ]
     },
     "metadata": {},
     "output_type": "display_data"
    },
    {
     "name": "stderr",
     "output_type": "stream",
     "text": [
      "derive_conceptualspace/evaluate/shallow_trees.py:141: UserWarning: There are more classes (9) than your decision-tree can possibly classify (8)\n"
     ]
    },
    {
     "data": {
      "text/markdown": [
       "<span style=\"font-size:11pt\">accuracy: 0.28</span>"
      ],
      "text/plain": [
       "<IPython.core.display.Markdown object>"
      ]
     },
     "metadata": {},
     "output_type": "display_data"
    },
    {
     "data": {
      "text/markdown": [
       "<span style=\"font-size:11pt\">====================================================================================================</span>"
      ],
      "text/plain": [
       "<IPython.core.display.Markdown object>"
      ]
     },
     "metadata": {},
     "output_type": "display_data"
    },
    {
     "data": {
      "text/markdown": [
       "<span style=\"font-size:11pt\">Using classes from Foursquare - 391/1383 entities have a class</span>"
      ],
      "text/plain": [
       "<IPython.core.display.Markdown object>"
      ]
     },
     "metadata": {},
     "output_type": "display_data"
    },
    {
     "data": {
      "text/markdown": [
       "<span style=\"font-size:11pt\">Labels (9 classes): <span style=\"color: #0000ff\">Shops&Services</span>: 88, <span style=\"color: #0000ff\">Food</span>: 82, <span style=\"color: #0000ff\">Travel&Transport</span>: 35, <span style=\"color: #0000ff\">Professional&Other</span>: 47, <span style=\"color: #0000ff\">Residences</span>: 6, <span style=\"color: #0000ff\">Arts&Entertainment</span>: 39, <span style=\"color: #0000ff\">NightlifeSpots</span>: 17, <span style=\"color: #0000ff\">GreatOutdoors</span>: 44, <span style=\"color: #0000ff\">College&University</span>: 33</span>"
      ],
      "text/plain": [
       "<IPython.core.display.Markdown object>"
      ]
     },
     "metadata": {},
     "output_type": "display_data"
    },
    {
     "data": {
      "text/markdown": [
       "<span style=\"font-size:11pt\">Eval-Settings: metric: <span style=\"color: #0000ff\">f1</span>, type: <span style=\"color: #0000ff\">all-at-once</span>, DT-Depth: <span style=\"color: #0000ff\">3</span>, train-test-split:<span style=\"color: #0000ff\"> 4-fold cross-validation </span></span>"
      ],
      "text/plain": [
       "<IPython.core.display.Markdown object>"
      ]
     },
     "metadata": {},
     "output_type": "display_data"
    },
    {
     "name": "stderr",
     "output_type": "stream",
     "text": [
      "derive_conceptualspace/evaluate/shallow_trees.py:141: UserWarning: There are more classes (9) than your decision-tree can possibly classify (8)\n"
     ]
    },
    {
     "data": {
      "text/markdown": [
       "<span style=\"font-size:11pt\">f1: 0.28</span>"
      ],
      "text/plain": [
       "<IPython.core.display.Markdown object>"
      ]
     },
     "metadata": {},
     "output_type": "display_data"
    },
    {
     "data": {
      "text/markdown": [
       "<span style=\"font-size:11pt\">====================================================================================================</span>"
      ],
      "text/plain": [
       "<IPython.core.display.Markdown object>"
      ]
     },
     "metadata": {},
     "output_type": "display_data"
    },
    {
     "data": {
      "text/markdown": [
       "<span style=\"font-size:11pt\">Using classes from Foursquare - 391/1383 entities have a class</span>"
      ],
      "text/plain": [
       "<IPython.core.display.Markdown object>"
      ]
     },
     "metadata": {},
     "output_type": "display_data"
    },
    {
     "data": {
      "text/markdown": [
       "<span style=\"font-size:11pt\">Labels (9 classes): <span style=\"color: #0000ff\">Shops&Services</span>: 88, <span style=\"color: #0000ff\">Food</span>: 82, <span style=\"color: #0000ff\">Travel&Transport</span>: 35, <span style=\"color: #0000ff\">Professional&Other</span>: 47, <span style=\"color: #0000ff\">Residences</span>: 6, <span style=\"color: #0000ff\">Arts&Entertainment</span>: 39, <span style=\"color: #0000ff\">NightlifeSpots</span>: 17, <span style=\"color: #0000ff\">GreatOutdoors</span>: 44, <span style=\"color: #0000ff\">College&University</span>: 33</span>"
      ],
      "text/plain": [
       "<IPython.core.display.Markdown object>"
      ]
     },
     "metadata": {},
     "output_type": "display_data"
    },
    {
     "data": {
      "text/markdown": [
       "<span style=\"font-size:11pt\">Eval-Settings: metric: <span style=\"color: #0000ff\">accuracy</span>, type: <span style=\"color: #0000ff\">all-at-once</span>, DT-Depth: <span style=\"color: #0000ff\">3</span>, train-test-split:<span style=\"color: #0000ff\"> 4-fold cross-validation </span></span>"
      ],
      "text/plain": [
       "<IPython.core.display.Markdown object>"
      ]
     },
     "metadata": {},
     "output_type": "display_data"
    },
    {
     "name": "stderr",
     "output_type": "stream",
     "text": [
      "derive_conceptualspace/evaluate/shallow_trees.py:141: UserWarning: There are more classes (9) than your decision-tree can possibly classify (8)\n"
     ]
    },
    {
     "data": {
      "text/markdown": [
       "<span style=\"font-size:11pt\">accuracy: 0.51</span>"
      ],
      "text/plain": [
       "<IPython.core.display.Markdown object>"
      ]
     },
     "metadata": {},
     "output_type": "display_data"
    },
    {
     "data": {
      "text/markdown": [
       "<span style=\"font-size:11pt\">====================================================================================================</span>"
      ],
      "text/plain": [
       "<IPython.core.display.Markdown object>"
      ]
     },
     "metadata": {},
     "output_type": "display_data"
    },
    {
     "data": {
      "text/markdown": [
       "<span style=\"font-size:11pt\">Using classes from Foursquare - 391/1383 entities have a class</span>"
      ],
      "text/plain": [
       "<IPython.core.display.Markdown object>"
      ]
     },
     "metadata": {},
     "output_type": "display_data"
    },
    {
     "data": {
      "text/markdown": [
       "<span style=\"font-size:11pt\">Labels (9 classes): <span style=\"color: #0000ff\">Shops&Services</span>: 88, <span style=\"color: #0000ff\">Food</span>: 82, <span style=\"color: #0000ff\">Travel&Transport</span>: 35, <span style=\"color: #0000ff\">Professional&Other</span>: 47, <span style=\"color: #0000ff\">Residences</span>: 6, <span style=\"color: #0000ff\">Arts&Entertainment</span>: 39, <span style=\"color: #0000ff\">NightlifeSpots</span>: 17, <span style=\"color: #0000ff\">GreatOutdoors</span>: 44, <span style=\"color: #0000ff\">College&University</span>: 33</span>"
      ],
      "text/plain": [
       "<IPython.core.display.Markdown object>"
      ]
     },
     "metadata": {},
     "output_type": "display_data"
    },
    {
     "data": {
      "text/markdown": [
       "<span style=\"font-size:11pt\">Eval-Settings: metric: <span style=\"color: #0000ff\">f1</span>, type: <span style=\"color: #0000ff\">all-at-once</span>, DT-Depth: <span style=\"color: #0000ff\">3</span>, train-test-split:<span style=\"color: #0000ff\"> 4-fold cross-validation </span></span>"
      ],
      "text/plain": [
       "<IPython.core.display.Markdown object>"
      ]
     },
     "metadata": {},
     "output_type": "display_data"
    },
    {
     "name": "stderr",
     "output_type": "stream",
     "text": [
      "derive_conceptualspace/evaluate/shallow_trees.py:141: UserWarning: There are more classes (9) than your decision-tree can possibly classify (8)\n"
     ]
    },
    {
     "data": {
      "text/markdown": [
       "<span style=\"font-size:11pt\">f1: 0.51</span>"
      ],
      "text/plain": [
       "<IPython.core.display.Markdown object>"
      ]
     },
     "metadata": {},
     "output_type": "display_data"
    },
    {
     "data": {
      "text/markdown": [
       "<span style=\"font-size:11pt\">====================================================================================================</span>"
      ],
      "text/plain": [
       "<IPython.core.display.Markdown object>"
      ]
     },
     "metadata": {},
     "output_type": "display_data"
    },
    {
     "data": {
      "text/markdown": [
       "<span style=\"font-size:11pt\">Using classes from Foursquare - 391/1383 entities have a class</span>"
      ],
      "text/plain": [
       "<IPython.core.display.Markdown object>"
      ]
     },
     "metadata": {},
     "output_type": "display_data"
    },
    {
     "data": {
      "text/markdown": [
       "<span style=\"font-size:11pt\">Labels (9 classes): <span style=\"color: #0000ff\">Shops&Services</span>: 88, <span style=\"color: #0000ff\">Food</span>: 82, <span style=\"color: #0000ff\">Travel&Transport</span>: 35, <span style=\"color: #0000ff\">Professional&Other</span>: 47, <span style=\"color: #0000ff\">Residences</span>: 6, <span style=\"color: #0000ff\">Arts&Entertainment</span>: 39, <span style=\"color: #0000ff\">NightlifeSpots</span>: 17, <span style=\"color: #0000ff\">GreatOutdoors</span>: 44, <span style=\"color: #0000ff\">College&University</span>: 33</span>"
      ],
      "text/plain": [
       "<IPython.core.display.Markdown object>"
      ]
     },
     "metadata": {},
     "output_type": "display_data"
    },
    {
     "data": {
      "text/markdown": [
       "<span style=\"font-size:11pt\">Eval-Settings: metric: <span style=\"color: #0000ff\">accuracy</span>, type: <span style=\"color: #0000ff\">all-at-once</span>, DT-Depth: <span style=\"color: #0000ff\">None</span>, train-test-split:<span style=\"color: #0000ff\"> 4-fold cross-validation </span></span>"
      ],
      "text/plain": [
       "<IPython.core.display.Markdown object>"
      ]
     },
     "metadata": {},
     "output_type": "display_data"
    },
    {
     "data": {
      "text/markdown": [
       "<span style=\"font-size:11pt\">accuracy: 0.54</span>"
      ],
      "text/plain": [
       "<IPython.core.display.Markdown object>"
      ]
     },
     "metadata": {},
     "output_type": "display_data"
    },
    {
     "data": {
      "text/markdown": [
       "<span style=\"font-size:11pt\">====================================================================================================</span>"
      ],
      "text/plain": [
       "<IPython.core.display.Markdown object>"
      ]
     },
     "metadata": {},
     "output_type": "display_data"
    },
    {
     "data": {
      "text/markdown": [
       "<span style=\"font-size:11pt\">Using classes from Foursquare - 391/1383 entities have a class</span>"
      ],
      "text/plain": [
       "<IPython.core.display.Markdown object>"
      ]
     },
     "metadata": {},
     "output_type": "display_data"
    },
    {
     "data": {
      "text/markdown": [
       "<span style=\"font-size:11pt\">Labels (9 classes): <span style=\"color: #0000ff\">Shops&Services</span>: 88, <span style=\"color: #0000ff\">Food</span>: 82, <span style=\"color: #0000ff\">Travel&Transport</span>: 35, <span style=\"color: #0000ff\">Professional&Other</span>: 47, <span style=\"color: #0000ff\">Residences</span>: 6, <span style=\"color: #0000ff\">Arts&Entertainment</span>: 39, <span style=\"color: #0000ff\">NightlifeSpots</span>: 17, <span style=\"color: #0000ff\">GreatOutdoors</span>: 44, <span style=\"color: #0000ff\">College&University</span>: 33</span>"
      ],
      "text/plain": [
       "<IPython.core.display.Markdown object>"
      ]
     },
     "metadata": {},
     "output_type": "display_data"
    },
    {
     "data": {
      "text/markdown": [
       "<span style=\"font-size:11pt\">Eval-Settings: metric: <span style=\"color: #0000ff\">f1</span>, type: <span style=\"color: #0000ff\">all-at-once</span>, DT-Depth: <span style=\"color: #0000ff\">None</span>, train-test-split:<span style=\"color: #0000ff\"> 4-fold cross-validation </span></span>"
      ],
      "text/plain": [
       "<IPython.core.display.Markdown object>"
      ]
     },
     "metadata": {},
     "output_type": "display_data"
    },
    {
     "data": {
      "text/markdown": [
       "<span style=\"font-size:11pt\">f1: 0.52</span>"
      ],
      "text/plain": [
       "<IPython.core.display.Markdown object>"
      ]
     },
     "metadata": {},
     "output_type": "display_data"
    },
    {
     "data": {
      "text/markdown": [
       "<span style=\"font-size:11pt\">====================================================================================================</span>"
      ],
      "text/plain": [
       "<IPython.core.display.Markdown object>"
      ]
     },
     "metadata": {},
     "output_type": "display_data"
    },
    {
     "data": {
      "text/markdown": [
       "<span style=\"font-size:11pt\">Using classes from Foursquare - 391/1383 entities have a class</span>"
      ],
      "text/plain": [
       "<IPython.core.display.Markdown object>"
      ]
     },
     "metadata": {},
     "output_type": "display_data"
    },
    {
     "data": {
      "text/markdown": [
       "<span style=\"font-size:11pt\">Labels (9 classes): <span style=\"color: #0000ff\">Shops&Services</span>: 88, <span style=\"color: #0000ff\">Food</span>: 82, <span style=\"color: #0000ff\">Travel&Transport</span>: 35, <span style=\"color: #0000ff\">Professional&Other</span>: 47, <span style=\"color: #0000ff\">Residences</span>: 6, <span style=\"color: #0000ff\">Arts&Entertainment</span>: 39, <span style=\"color: #0000ff\">NightlifeSpots</span>: 17, <span style=\"color: #0000ff\">GreatOutdoors</span>: 44, <span style=\"color: #0000ff\">College&University</span>: 33</span>"
      ],
      "text/plain": [
       "<IPython.core.display.Markdown object>"
      ]
     },
     "metadata": {},
     "output_type": "display_data"
    },
    {
     "data": {
      "text/markdown": [
       "<span style=\"font-size:11pt\">Eval-Settings: metric: <span style=\"color: #0000ff\">accuracy</span>, type: <span style=\"color: #0000ff\">all-at-once</span>, DT-Depth: <span style=\"color: #0000ff\">None</span>, train-test-split:<span style=\"color: #0000ff\"> 4-fold cross-validation </span></span>"
      ],
      "text/plain": [
       "<IPython.core.display.Markdown object>"
      ]
     },
     "metadata": {},
     "output_type": "display_data"
    },
    {
     "data": {
      "text/markdown": [
       "<span style=\"font-size:11pt\">accuracy: 0.51</span>"
      ],
      "text/plain": [
       "<IPython.core.display.Markdown object>"
      ]
     },
     "metadata": {},
     "output_type": "display_data"
    },
    {
     "data": {
      "text/markdown": [
       "<span style=\"font-size:11pt\">====================================================================================================</span>"
      ],
      "text/plain": [
       "<IPython.core.display.Markdown object>"
      ]
     },
     "metadata": {},
     "output_type": "display_data"
    },
    {
     "data": {
      "text/markdown": [
       "<span style=\"font-size:11pt\">Using classes from Foursquare - 391/1383 entities have a class</span>"
      ],
      "text/plain": [
       "<IPython.core.display.Markdown object>"
      ]
     },
     "metadata": {},
     "output_type": "display_data"
    },
    {
     "data": {
      "text/markdown": [
       "<span style=\"font-size:11pt\">Labels (9 classes): <span style=\"color: #0000ff\">Shops&Services</span>: 88, <span style=\"color: #0000ff\">Food</span>: 82, <span style=\"color: #0000ff\">Travel&Transport</span>: 35, <span style=\"color: #0000ff\">Professional&Other</span>: 47, <span style=\"color: #0000ff\">Residences</span>: 6, <span style=\"color: #0000ff\">Arts&Entertainment</span>: 39, <span style=\"color: #0000ff\">NightlifeSpots</span>: 17, <span style=\"color: #0000ff\">GreatOutdoors</span>: 44, <span style=\"color: #0000ff\">College&University</span>: 33</span>"
      ],
      "text/plain": [
       "<IPython.core.display.Markdown object>"
      ]
     },
     "metadata": {},
     "output_type": "display_data"
    },
    {
     "data": {
      "text/markdown": [
       "<span style=\"font-size:11pt\">Eval-Settings: metric: <span style=\"color: #0000ff\">f1</span>, type: <span style=\"color: #0000ff\">all-at-once</span>, DT-Depth: <span style=\"color: #0000ff\">None</span>, train-test-split:<span style=\"color: #0000ff\"> 4-fold cross-validation </span></span>"
      ],
      "text/plain": [
       "<IPython.core.display.Markdown object>"
      ]
     },
     "metadata": {},
     "output_type": "display_data"
    },
    {
     "data": {
      "text/markdown": [
       "<span style=\"font-size:11pt\">f1: 0.49</span>"
      ],
      "text/plain": [
       "<IPython.core.display.Markdown object>"
      ]
     },
     "metadata": {},
     "output_type": "display_data"
    },
    {
     "data": {
      "text/markdown": [
       "<span style=\"font-size:11pt\">====================================================================================================</span>"
      ],
      "text/plain": [
       "<IPython.core.display.Markdown object>"
      ]
     },
     "metadata": {},
     "output_type": "display_data"
    },
    {
     "data": {
      "text/markdown": [
       "<span style=\"font-size:11pt\">Using classes from Foursquare - 391/1383 entities have a class</span>"
      ],
      "text/plain": [
       "<IPython.core.display.Markdown object>"
      ]
     },
     "metadata": {},
     "output_type": "display_data"
    },
    {
     "data": {
      "text/markdown": [
       "<span style=\"font-size:11pt\">Labels (9 classes): <span style=\"color: #0000ff\">Shops&Services</span>: 88, <span style=\"color: #0000ff\">Food</span>: 82, <span style=\"color: #0000ff\">Travel&Transport</span>: 35, <span style=\"color: #0000ff\">Professional&Other</span>: 47, <span style=\"color: #0000ff\">Residences</span>: 6, <span style=\"color: #0000ff\">Arts&Entertainment</span>: 39, <span style=\"color: #0000ff\">NightlifeSpots</span>: 17, <span style=\"color: #0000ff\">GreatOutdoors</span>: 44, <span style=\"color: #0000ff\">College&University</span>: 33</span>"
      ],
      "text/plain": [
       "<IPython.core.display.Markdown object>"
      ]
     },
     "metadata": {},
     "output_type": "display_data"
    },
    {
     "data": {
      "text/markdown": [
       "<span style=\"font-size:11pt\">Eval-Settings: metric: <span style=\"color: #0000ff\">accuracy</span>, type: <span style=\"color: #0000ff\">one-vs-rest</span>, DT-Depth: <span style=\"color: #0000ff\">1</span>, train-test-split:<span style=\"color: #0000ff\"> 5-fold cross-validation </span></span>"
      ],
      "text/plain": [
       "<IPython.core.display.Markdown object>"
      ]
     },
     "metadata": {},
     "output_type": "display_data"
    },
    {
     "data": {
      "text/markdown": [
       "<span style=\"font-size:11pt\">Per-Class-Scores: GreatOutdoors: 0.89, NightlifeSpots: 0.88, Travel&Transport: 0.69, Shops&Services: 0.81, College&University: 0.89, Residences: 0.69, Professional&Other: 0.69, Arts&Entertainment: 0.54, Food: 0.63</span>"
      ],
      "text/plain": [
       "<IPython.core.display.Markdown object>"
      ]
     },
     "metadata": {},
     "output_type": "display_data"
    },
    {
     "data": {
      "text/markdown": [
       "<span style=\"font-size:11pt\">Unweighted Mean accuracy: 74.65%</span>"
      ],
      "text/plain": [
       "<IPython.core.display.Markdown object>"
      ]
     },
     "metadata": {},
     "output_type": "display_data"
    },
    {
     "data": {
      "text/markdown": [
       "<span style=\"font-size:11pt\">Weighted Mean accuracy: 73.85%</span>"
      ],
      "text/plain": [
       "<IPython.core.display.Markdown object>"
      ]
     },
     "metadata": {},
     "output_type": "display_data"
    },
    {
     "data": {
      "text/markdown": [
       "<span style=\"font-size:11pt\">====================================================================================================</span>"
      ],
      "text/plain": [
       "<IPython.core.display.Markdown object>"
      ]
     },
     "metadata": {},
     "output_type": "display_data"
    },
    {
     "data": {
      "text/markdown": [
       "<span style=\"font-size:11pt\">Using classes from Foursquare - 391/1383 entities have a class</span>"
      ],
      "text/plain": [
       "<IPython.core.display.Markdown object>"
      ]
     },
     "metadata": {},
     "output_type": "display_data"
    },
    {
     "data": {
      "text/markdown": [
       "<span style=\"font-size:11pt\">Labels (9 classes): <span style=\"color: #0000ff\">Shops&Services</span>: 88, <span style=\"color: #0000ff\">Food</span>: 82, <span style=\"color: #0000ff\">Travel&Transport</span>: 35, <span style=\"color: #0000ff\">Professional&Other</span>: 47, <span style=\"color: #0000ff\">Residences</span>: 6, <span style=\"color: #0000ff\">Arts&Entertainment</span>: 39, <span style=\"color: #0000ff\">NightlifeSpots</span>: 17, <span style=\"color: #0000ff\">GreatOutdoors</span>: 44, <span style=\"color: #0000ff\">College&University</span>: 33</span>"
      ],
      "text/plain": [
       "<IPython.core.display.Markdown object>"
      ]
     },
     "metadata": {},
     "output_type": "display_data"
    },
    {
     "data": {
      "text/markdown": [
       "<span style=\"font-size:11pt\">Eval-Settings: metric: <span style=\"color: #0000ff\">f1</span>, type: <span style=\"color: #0000ff\">one-vs-rest</span>, DT-Depth: <span style=\"color: #0000ff\">1</span>, train-test-split:<span style=\"color: #0000ff\"> 5-fold cross-validation </span></span>"
      ],
      "text/plain": [
       "<IPython.core.display.Markdown object>"
      ]
     },
     "metadata": {},
     "output_type": "display_data"
    },
    {
     "data": {
      "text/markdown": [
       "<span style=\"font-size:11pt\">Per-Class-Scores: GreatOutdoors: 0.63, NightlifeSpots: 0.42, Travel&Transport: 0.33, Shops&Services: 0.62, College&University: 0.58, Residences: 0.05, Professional&Other: 0.40, Arts&Entertainment: 0.21, Food: 0.52</span>"
      ],
      "text/plain": [
       "<IPython.core.display.Markdown object>"
      ]
     },
     "metadata": {},
     "output_type": "display_data"
    },
    {
     "data": {
      "text/markdown": [
       "<span style=\"font-size:11pt\">Unweighted Mean f1: 41.93%</span>"
      ],
      "text/plain": [
       "<IPython.core.display.Markdown object>"
      ]
     },
     "metadata": {},
     "output_type": "display_data"
    },
    {
     "data": {
      "text/markdown": [
       "<span style=\"font-size:11pt\">Weighted Mean f1: 48.80%</span>"
      ],
      "text/plain": [
       "<IPython.core.display.Markdown object>"
      ]
     },
     "metadata": {},
     "output_type": "display_data"
    },
    {
     "data": {
      "text/markdown": [
       "<span style=\"font-size:11pt\">====================================================================================================</span>"
      ],
      "text/plain": [
       "<IPython.core.display.Markdown object>"
      ]
     },
     "metadata": {},
     "output_type": "display_data"
    },
    {
     "data": {
      "text/markdown": [
       "<span style=\"font-size:11pt\">Using classes from Foursquare - 391/1383 entities have a class</span>"
      ],
      "text/plain": [
       "<IPython.core.display.Markdown object>"
      ]
     },
     "metadata": {},
     "output_type": "display_data"
    },
    {
     "data": {
      "text/markdown": [
       "<span style=\"font-size:11pt\">Labels (9 classes): <span style=\"color: #0000ff\">Shops&Services</span>: 88, <span style=\"color: #0000ff\">Food</span>: 82, <span style=\"color: #0000ff\">Travel&Transport</span>: 35, <span style=\"color: #0000ff\">Professional&Other</span>: 47, <span style=\"color: #0000ff\">Residences</span>: 6, <span style=\"color: #0000ff\">Arts&Entertainment</span>: 39, <span style=\"color: #0000ff\">NightlifeSpots</span>: 17, <span style=\"color: #0000ff\">GreatOutdoors</span>: 44, <span style=\"color: #0000ff\">College&University</span>: 33</span>"
      ],
      "text/plain": [
       "<IPython.core.display.Markdown object>"
      ]
     },
     "metadata": {},
     "output_type": "display_data"
    },
    {
     "data": {
      "text/markdown": [
       "<span style=\"font-size:11pt\">Eval-Settings: metric: <span style=\"color: #0000ff\">accuracy</span>, type: <span style=\"color: #0000ff\">one-vs-rest</span>, DT-Depth: <span style=\"color: #0000ff\">1</span>, train-test-split:<span style=\"color: #0000ff\"> 5-fold cross-validation </span></span>"
      ],
      "text/plain": [
       "<IPython.core.display.Markdown object>"
      ]
     },
     "metadata": {},
     "output_type": "display_data"
    },
    {
     "data": {
      "text/markdown": [
       "<span style=\"font-size:11pt\">Per-Class-Scores: GreatOutdoors: 0.90, NightlifeSpots: 0.96, Travel&Transport: 0.91, Shops&Services: 0.86, College&University: 0.92, Residences: 0.98, Professional&Other: 0.88, Arts&Entertainment: 0.90, Food: 0.73</span>"
      ],
      "text/plain": [
       "<IPython.core.display.Markdown object>"
      ]
     },
     "metadata": {},
     "output_type": "display_data"
    },
    {
     "data": {
      "text/markdown": [
       "<span style=\"font-size:11pt\">Unweighted Mean accuracy: 89.37%</span>"
      ],
      "text/plain": [
       "<IPython.core.display.Markdown object>"
      ]
     },
     "metadata": {},
     "output_type": "display_data"
    },
    {
     "data": {
      "text/markdown": [
       "<span style=\"font-size:11pt\">Weighted Mean accuracy: 86.08%</span>"
      ],
      "text/plain": [
       "<IPython.core.display.Markdown object>"
      ]
     },
     "metadata": {},
     "output_type": "display_data"
    },
    {
     "data": {
      "text/markdown": [
       "<span style=\"font-size:11pt\">====================================================================================================</span>"
      ],
      "text/plain": [
       "<IPython.core.display.Markdown object>"
      ]
     },
     "metadata": {},
     "output_type": "display_data"
    },
    {
     "data": {
      "text/markdown": [
       "<span style=\"font-size:11pt\">Using classes from Foursquare - 391/1383 entities have a class</span>"
      ],
      "text/plain": [
       "<IPython.core.display.Markdown object>"
      ]
     },
     "metadata": {},
     "output_type": "display_data"
    },
    {
     "data": {
      "text/markdown": [
       "<span style=\"font-size:11pt\">Labels (9 classes): <span style=\"color: #0000ff\">Shops&Services</span>: 88, <span style=\"color: #0000ff\">Food</span>: 82, <span style=\"color: #0000ff\">Travel&Transport</span>: 35, <span style=\"color: #0000ff\">Professional&Other</span>: 47, <span style=\"color: #0000ff\">Residences</span>: 6, <span style=\"color: #0000ff\">Arts&Entertainment</span>: 39, <span style=\"color: #0000ff\">NightlifeSpots</span>: 17, <span style=\"color: #0000ff\">GreatOutdoors</span>: 44, <span style=\"color: #0000ff\">College&University</span>: 33</span>"
      ],
      "text/plain": [
       "<IPython.core.display.Markdown object>"
      ]
     },
     "metadata": {},
     "output_type": "display_data"
    },
    {
     "data": {
      "text/markdown": [
       "<span style=\"font-size:11pt\">Eval-Settings: metric: <span style=\"color: #0000ff\">f1</span>, type: <span style=\"color: #0000ff\">one-vs-rest</span>, DT-Depth: <span style=\"color: #0000ff\">1</span>, train-test-split:<span style=\"color: #0000ff\"> 5-fold cross-validation </span></span>"
      ],
      "text/plain": [
       "<IPython.core.display.Markdown object>"
      ]
     },
     "metadata": {},
     "output_type": "display_data"
    },
    {
     "data": {
      "text/markdown": [
       "<span style=\"font-size:11pt\">Per-Class-Scores: GreatOutdoors: 0.62, NightlifeSpots: 0.00, Travel&Transport: 0.00, Shops&Services: 0.65, College&University: 0.00, Residences: 0.00, Professional&Other: 0.00, Arts&Entertainment: 0.00, Food: 0.06</span>"
      ],
      "text/plain": [
       "<IPython.core.display.Markdown object>"
      ]
     },
     "metadata": {},
     "output_type": "display_data"
    },
    {
     "data": {
      "text/markdown": [
       "<span style=\"font-size:11pt\">Unweighted Mean f1: 14.81%</span>"
      ],
      "text/plain": [
       "<IPython.core.display.Markdown object>"
      ]
     },
     "metadata": {},
     "output_type": "display_data"
    },
    {
     "data": {
      "text/markdown": [
       "<span style=\"font-size:11pt\">Weighted Mean f1: 22.88%</span>"
      ],
      "text/plain": [
       "<IPython.core.display.Markdown object>"
      ]
     },
     "metadata": {},
     "output_type": "display_data"
    },
    {
     "data": {
      "text/markdown": [
       "<span style=\"font-size:11pt\">====================================================================================================</span>"
      ],
      "text/plain": [
       "<IPython.core.display.Markdown object>"
      ]
     },
     "metadata": {},
     "output_type": "display_data"
    },
    {
     "data": {
      "text/markdown": [
       "<span style=\"font-size:11pt\">Using classes from Foursquare - 391/1383 entities have a class</span>"
      ],
      "text/plain": [
       "<IPython.core.display.Markdown object>"
      ]
     },
     "metadata": {},
     "output_type": "display_data"
    },
    {
     "data": {
      "text/markdown": [
       "<span style=\"font-size:11pt\">Labels (9 classes): <span style=\"color: #0000ff\">Shops&Services</span>: 88, <span style=\"color: #0000ff\">Food</span>: 82, <span style=\"color: #0000ff\">Travel&Transport</span>: 35, <span style=\"color: #0000ff\">Professional&Other</span>: 47, <span style=\"color: #0000ff\">Residences</span>: 6, <span style=\"color: #0000ff\">Arts&Entertainment</span>: 39, <span style=\"color: #0000ff\">NightlifeSpots</span>: 17, <span style=\"color: #0000ff\">GreatOutdoors</span>: 44, <span style=\"color: #0000ff\">College&University</span>: 33</span>"
      ],
      "text/plain": [
       "<IPython.core.display.Markdown object>"
      ]
     },
     "metadata": {},
     "output_type": "display_data"
    },
    {
     "data": {
      "text/markdown": [
       "<span style=\"font-size:11pt\">Eval-Settings: metric: <span style=\"color: #0000ff\">accuracy</span>, type: <span style=\"color: #0000ff\">one-vs-rest</span>, DT-Depth: <span style=\"color: #0000ff\">2</span>, train-test-split:<span style=\"color: #0000ff\"> 5-fold cross-validation </span></span>"
      ],
      "text/plain": [
       "<IPython.core.display.Markdown object>"
      ]
     },
     "metadata": {},
     "output_type": "display_data"
    },
    {
     "data": {
      "text/markdown": [
       "<span style=\"font-size:11pt\">Per-Class-Scores: GreatOutdoors: 0.87, NightlifeSpots: 0.93, Travel&Transport: 0.75, Shops&Services: 0.79, College&University: 0.94, Residences: 0.77, Professional&Other: 0.73, Arts&Entertainment: 0.56, Food: 0.92</span>"
      ],
      "text/plain": [
       "<IPython.core.display.Markdown object>"
      ]
     },
     "metadata": {},
     "output_type": "display_data"
    },
    {
     "data": {
      "text/markdown": [
       "<span style=\"font-size:11pt\">Unweighted Mean accuracy: 80.70%</span>"
      ],
      "text/plain": [
       "<IPython.core.display.Markdown object>"
      ]
     },
     "metadata": {},
     "output_type": "display_data"
    },
    {
     "data": {
      "text/markdown": [
       "<span style=\"font-size:11pt\">Weighted Mean accuracy: 81.13%</span>"
      ],
      "text/plain": [
       "<IPython.core.display.Markdown object>"
      ]
     },
     "metadata": {},
     "output_type": "display_data"
    },
    {
     "data": {
      "text/markdown": [
       "<span style=\"font-size:11pt\">====================================================================================================</span>"
      ],
      "text/plain": [
       "<IPython.core.display.Markdown object>"
      ]
     },
     "metadata": {},
     "output_type": "display_data"
    },
    {
     "data": {
      "text/markdown": [
       "<span style=\"font-size:11pt\">Using classes from Foursquare - 391/1383 entities have a class</span>"
      ],
      "text/plain": [
       "<IPython.core.display.Markdown object>"
      ]
     },
     "metadata": {},
     "output_type": "display_data"
    },
    {
     "data": {
      "text/markdown": [
       "<span style=\"font-size:11pt\">Labels (9 classes): <span style=\"color: #0000ff\">Shops&Services</span>: 88, <span style=\"color: #0000ff\">Food</span>: 82, <span style=\"color: #0000ff\">Travel&Transport</span>: 35, <span style=\"color: #0000ff\">Professional&Other</span>: 47, <span style=\"color: #0000ff\">Residences</span>: 6, <span style=\"color: #0000ff\">Arts&Entertainment</span>: 39, <span style=\"color: #0000ff\">NightlifeSpots</span>: 17, <span style=\"color: #0000ff\">GreatOutdoors</span>: 44, <span style=\"color: #0000ff\">College&University</span>: 33</span>"
      ],
      "text/plain": [
       "<IPython.core.display.Markdown object>"
      ]
     },
     "metadata": {},
     "output_type": "display_data"
    },
    {
     "data": {
      "text/markdown": [
       "<span style=\"font-size:11pt\">Eval-Settings: metric: <span style=\"color: #0000ff\">f1</span>, type: <span style=\"color: #0000ff\">one-vs-rest</span>, DT-Depth: <span style=\"color: #0000ff\">2</span>, train-test-split:<span style=\"color: #0000ff\"> 5-fold cross-validation </span></span>"
      ],
      "text/plain": [
       "<IPython.core.display.Markdown object>"
      ]
     },
     "metadata": {},
     "output_type": "display_data"
    },
    {
     "data": {
      "text/markdown": [
       "<span style=\"font-size:11pt\">Per-Class-Scores: GreatOutdoors: 0.58, NightlifeSpots: 0.54, Travel&Transport: 0.36, Shops&Services: 0.60, College&University: 0.70, Residences: 0.01, Professional&Other: 0.46, Arts&Entertainment: 0.24, Food: 0.81</span>"
      ],
      "text/plain": [
       "<IPython.core.display.Markdown object>"
      ]
     },
     "metadata": {},
     "output_type": "display_data"
    },
    {
     "data": {
      "text/markdown": [
       "<span style=\"font-size:11pt\">Unweighted Mean f1: 47.62%</span>"
      ],
      "text/plain": [
       "<IPython.core.display.Markdown object>"
      ]
     },
     "metadata": {},
     "output_type": "display_data"
    },
    {
     "data": {
      "text/markdown": [
       "<span style=\"font-size:11pt\">Weighted Mean f1: 56.33%</span>"
      ],
      "text/plain": [
       "<IPython.core.display.Markdown object>"
      ]
     },
     "metadata": {},
     "output_type": "display_data"
    },
    {
     "data": {
      "text/markdown": [
       "<span style=\"font-size:11pt\">====================================================================================================</span>"
      ],
      "text/plain": [
       "<IPython.core.display.Markdown object>"
      ]
     },
     "metadata": {},
     "output_type": "display_data"
    },
    {
     "data": {
      "text/markdown": [
       "<span style=\"font-size:11pt\">Using classes from Foursquare - 391/1383 entities have a class</span>"
      ],
      "text/plain": [
       "<IPython.core.display.Markdown object>"
      ]
     },
     "metadata": {},
     "output_type": "display_data"
    },
    {
     "data": {
      "text/markdown": [
       "<span style=\"font-size:11pt\">Labels (9 classes): <span style=\"color: #0000ff\">Shops&Services</span>: 88, <span style=\"color: #0000ff\">Food</span>: 82, <span style=\"color: #0000ff\">Travel&Transport</span>: 35, <span style=\"color: #0000ff\">Professional&Other</span>: 47, <span style=\"color: #0000ff\">Residences</span>: 6, <span style=\"color: #0000ff\">Arts&Entertainment</span>: 39, <span style=\"color: #0000ff\">NightlifeSpots</span>: 17, <span style=\"color: #0000ff\">GreatOutdoors</span>: 44, <span style=\"color: #0000ff\">College&University</span>: 33</span>"
      ],
      "text/plain": [
       "<IPython.core.display.Markdown object>"
      ]
     },
     "metadata": {},
     "output_type": "display_data"
    },
    {
     "data": {
      "text/markdown": [
       "<span style=\"font-size:11pt\">Eval-Settings: metric: <span style=\"color: #0000ff\">accuracy</span>, type: <span style=\"color: #0000ff\">one-vs-rest</span>, DT-Depth: <span style=\"color: #0000ff\">2</span>, train-test-split:<span style=\"color: #0000ff\"> 5-fold cross-validation </span></span>"
      ],
      "text/plain": [
       "<IPython.core.display.Markdown object>"
      ]
     },
     "metadata": {},
     "output_type": "display_data"
    },
    {
     "data": {
      "text/markdown": [
       "<span style=\"font-size:11pt\">Per-Class-Scores: GreatOutdoors: 0.93, NightlifeSpots: 0.95, Travel&Transport: 0.90, Shops&Services: 0.86, College&University: 0.95, Residences: 0.98, Professional&Other: 0.87, Arts&Entertainment: 0.89, Food: 0.89</span>"
      ],
      "text/plain": [
       "<IPython.core.display.Markdown object>"
      ]
     },
     "metadata": {},
     "output_type": "display_data"
    },
    {
     "data": {
      "text/markdown": [
       "<span style=\"font-size:11pt\">Unweighted Mean accuracy: 91.45%</span>"
      ],
      "text/plain": [
       "<IPython.core.display.Markdown object>"
      ]
     },
     "metadata": {},
     "output_type": "display_data"
    },
    {
     "data": {
      "text/markdown": [
       "<span style=\"font-size:11pt\">Weighted Mean accuracy: 89.69%</span>"
      ],
      "text/plain": [
       "<IPython.core.display.Markdown object>"
      ]
     },
     "metadata": {},
     "output_type": "display_data"
    },
    {
     "data": {
      "text/markdown": [
       "<span style=\"font-size:11pt\">====================================================================================================</span>"
      ],
      "text/plain": [
       "<IPython.core.display.Markdown object>"
      ]
     },
     "metadata": {},
     "output_type": "display_data"
    },
    {
     "data": {
      "text/markdown": [
       "<span style=\"font-size:11pt\">Using classes from Foursquare - 391/1383 entities have a class</span>"
      ],
      "text/plain": [
       "<IPython.core.display.Markdown object>"
      ]
     },
     "metadata": {},
     "output_type": "display_data"
    },
    {
     "data": {
      "text/markdown": [
       "<span style=\"font-size:11pt\">Labels (9 classes): <span style=\"color: #0000ff\">Shops&Services</span>: 88, <span style=\"color: #0000ff\">Food</span>: 82, <span style=\"color: #0000ff\">Travel&Transport</span>: 35, <span style=\"color: #0000ff\">Professional&Other</span>: 47, <span style=\"color: #0000ff\">Residences</span>: 6, <span style=\"color: #0000ff\">Arts&Entertainment</span>: 39, <span style=\"color: #0000ff\">NightlifeSpots</span>: 17, <span style=\"color: #0000ff\">GreatOutdoors</span>: 44, <span style=\"color: #0000ff\">College&University</span>: 33</span>"
      ],
      "text/plain": [
       "<IPython.core.display.Markdown object>"
      ]
     },
     "metadata": {},
     "output_type": "display_data"
    },
    {
     "data": {
      "text/markdown": [
       "<span style=\"font-size:11pt\">Eval-Settings: metric: <span style=\"color: #0000ff\">f1</span>, type: <span style=\"color: #0000ff\">one-vs-rest</span>, DT-Depth: <span style=\"color: #0000ff\">2</span>, train-test-split:<span style=\"color: #0000ff\"> 5-fold cross-validation </span></span>"
      ],
      "text/plain": [
       "<IPython.core.display.Markdown object>"
      ]
     },
     "metadata": {},
     "output_type": "display_data"
    },
    {
     "data": {
      "text/markdown": [
       "<span style=\"font-size:11pt\">Per-Class-Scores: GreatOutdoors: 0.67, NightlifeSpots: 0.09, Travel&Transport: 0.00, Shops&Services: 0.62, College&University: 0.69, Residences: 0.00, Professional&Other: 0.16, Arts&Entertainment: 0.04, Food: 0.73</span>"
      ],
      "text/plain": [
       "<IPython.core.display.Markdown object>"
      ]
     },
     "metadata": {},
     "output_type": "display_data"
    },
    {
     "data": {
      "text/markdown": [
       "<span style=\"font-size:11pt\">Unweighted Mean f1: 33.31%</span>"
      ],
      "text/plain": [
       "<IPython.core.display.Markdown object>"
      ]
     },
     "metadata": {},
     "output_type": "display_data"
    },
    {
     "data": {
      "text/markdown": [
       "<span style=\"font-size:11pt\">Weighted Mean f1: 45.31%</span>"
      ],
      "text/plain": [
       "<IPython.core.display.Markdown object>"
      ]
     },
     "metadata": {},
     "output_type": "display_data"
    },
    {
     "data": {
      "text/markdown": [
       "<span style=\"font-size:11pt\">====================================================================================================</span>"
      ],
      "text/plain": [
       "<IPython.core.display.Markdown object>"
      ]
     },
     "metadata": {},
     "output_type": "display_data"
    },
    {
     "data": {
      "text/markdown": [
       "<span style=\"font-size:11pt\">Using classes from Foursquare - 391/1383 entities have a class</span>"
      ],
      "text/plain": [
       "<IPython.core.display.Markdown object>"
      ]
     },
     "metadata": {},
     "output_type": "display_data"
    },
    {
     "data": {
      "text/markdown": [
       "<span style=\"font-size:11pt\">Labels (9 classes): <span style=\"color: #0000ff\">Shops&Services</span>: 88, <span style=\"color: #0000ff\">Food</span>: 82, <span style=\"color: #0000ff\">Travel&Transport</span>: 35, <span style=\"color: #0000ff\">Professional&Other</span>: 47, <span style=\"color: #0000ff\">Residences</span>: 6, <span style=\"color: #0000ff\">Arts&Entertainment</span>: 39, <span style=\"color: #0000ff\">NightlifeSpots</span>: 17, <span style=\"color: #0000ff\">GreatOutdoors</span>: 44, <span style=\"color: #0000ff\">College&University</span>: 33</span>"
      ],
      "text/plain": [
       "<IPython.core.display.Markdown object>"
      ]
     },
     "metadata": {},
     "output_type": "display_data"
    },
    {
     "data": {
      "text/markdown": [
       "<span style=\"font-size:11pt\">Eval-Settings: metric: <span style=\"color: #0000ff\">accuracy</span>, type: <span style=\"color: #0000ff\">one-vs-rest</span>, DT-Depth: <span style=\"color: #0000ff\">3</span>, train-test-split:<span style=\"color: #0000ff\"> 5-fold cross-validation </span></span>"
      ],
      "text/plain": [
       "<IPython.core.display.Markdown object>"
      ]
     },
     "metadata": {},
     "output_type": "display_data"
    },
    {
     "data": {
      "text/markdown": [
       "<span style=\"font-size:11pt\">Per-Class-Scores: GreatOutdoors: 0.81, NightlifeSpots: 0.95, Travel&Transport: 0.77, Shops&Services: 0.83, College&University: 0.96, Residences: 0.94, Professional&Other: 0.77, Arts&Entertainment: 0.60, Food: 0.86</span>"
      ],
      "text/plain": [
       "<IPython.core.display.Markdown object>"
      ]
     },
     "metadata": {},
     "output_type": "display_data"
    },
    {
     "data": {
      "text/markdown": [
       "<span style=\"font-size:11pt\">Unweighted Mean accuracy: 83.11%</span>"
      ],
      "text/plain": [
       "<IPython.core.display.Markdown object>"
      ]
     },
     "metadata": {},
     "output_type": "display_data"
    },
    {
     "data": {
      "text/markdown": [
       "<span style=\"font-size:11pt\">Weighted Mean accuracy: 81.57%</span>"
      ],
      "text/plain": [
       "<IPython.core.display.Markdown object>"
      ]
     },
     "metadata": {},
     "output_type": "display_data"
    },
    {
     "data": {
      "text/markdown": [
       "<span style=\"font-size:11pt\">====================================================================================================</span>"
      ],
      "text/plain": [
       "<IPython.core.display.Markdown object>"
      ]
     },
     "metadata": {},
     "output_type": "display_data"
    },
    {
     "data": {
      "text/markdown": [
       "<span style=\"font-size:11pt\">Using classes from Foursquare - 391/1383 entities have a class</span>"
      ],
      "text/plain": [
       "<IPython.core.display.Markdown object>"
      ]
     },
     "metadata": {},
     "output_type": "display_data"
    },
    {
     "data": {
      "text/markdown": [
       "<span style=\"font-size:11pt\">Labels (9 classes): <span style=\"color: #0000ff\">Shops&Services</span>: 88, <span style=\"color: #0000ff\">Food</span>: 82, <span style=\"color: #0000ff\">Travel&Transport</span>: 35, <span style=\"color: #0000ff\">Professional&Other</span>: 47, <span style=\"color: #0000ff\">Residences</span>: 6, <span style=\"color: #0000ff\">Arts&Entertainment</span>: 39, <span style=\"color: #0000ff\">NightlifeSpots</span>: 17, <span style=\"color: #0000ff\">GreatOutdoors</span>: 44, <span style=\"color: #0000ff\">College&University</span>: 33</span>"
      ],
      "text/plain": [
       "<IPython.core.display.Markdown object>"
      ]
     },
     "metadata": {},
     "output_type": "display_data"
    },
    {
     "data": {
      "text/markdown": [
       "<span style=\"font-size:11pt\">Eval-Settings: metric: <span style=\"color: #0000ff\">f1</span>, type: <span style=\"color: #0000ff\">one-vs-rest</span>, DT-Depth: <span style=\"color: #0000ff\">3</span>, train-test-split:<span style=\"color: #0000ff\"> 5-fold cross-validation </span></span>"
      ],
      "text/plain": [
       "<IPython.core.display.Markdown object>"
      ]
     },
     "metadata": {},
     "output_type": "display_data"
    },
    {
     "data": {
      "text/markdown": [
       "<span style=\"font-size:11pt\">Per-Class-Scores: GreatOutdoors: 0.50, NightlifeSpots: 0.60, Travel&Transport: 0.34, Shops&Services: 0.67, College&University: 0.75, Residences: 0.04, Professional&Other: 0.46, Arts&Entertainment: 0.25, Food: 0.72</span>"
      ],
      "text/plain": [
       "<IPython.core.display.Markdown object>"
      ]
     },
     "metadata": {},
     "output_type": "display_data"
    },
    {
     "data": {
      "text/markdown": [
       "<span style=\"font-size:11pt\">Unweighted Mean f1: 48.09%</span>"
      ],
      "text/plain": [
       "<IPython.core.display.Markdown object>"
      ]
     },
     "metadata": {},
     "output_type": "display_data"
    },
    {
     "data": {
      "text/markdown": [
       "<span style=\"font-size:11pt\">Weighted Mean f1: 55.81%</span>"
      ],
      "text/plain": [
       "<IPython.core.display.Markdown object>"
      ]
     },
     "metadata": {},
     "output_type": "display_data"
    },
    {
     "data": {
      "text/markdown": [
       "<span style=\"font-size:11pt\">====================================================================================================</span>"
      ],
      "text/plain": [
       "<IPython.core.display.Markdown object>"
      ]
     },
     "metadata": {},
     "output_type": "display_data"
    },
    {
     "data": {
      "text/markdown": [
       "<span style=\"font-size:11pt\">Using classes from Foursquare - 391/1383 entities have a class</span>"
      ],
      "text/plain": [
       "<IPython.core.display.Markdown object>"
      ]
     },
     "metadata": {},
     "output_type": "display_data"
    },
    {
     "data": {
      "text/markdown": [
       "<span style=\"font-size:11pt\">Labels (9 classes): <span style=\"color: #0000ff\">Shops&Services</span>: 88, <span style=\"color: #0000ff\">Food</span>: 82, <span style=\"color: #0000ff\">Travel&Transport</span>: 35, <span style=\"color: #0000ff\">Professional&Other</span>: 47, <span style=\"color: #0000ff\">Residences</span>: 6, <span style=\"color: #0000ff\">Arts&Entertainment</span>: 39, <span style=\"color: #0000ff\">NightlifeSpots</span>: 17, <span style=\"color: #0000ff\">GreatOutdoors</span>: 44, <span style=\"color: #0000ff\">College&University</span>: 33</span>"
      ],
      "text/plain": [
       "<IPython.core.display.Markdown object>"
      ]
     },
     "metadata": {},
     "output_type": "display_data"
    },
    {
     "data": {
      "text/markdown": [
       "<span style=\"font-size:11pt\">Eval-Settings: metric: <span style=\"color: #0000ff\">accuracy</span>, type: <span style=\"color: #0000ff\">one-vs-rest</span>, DT-Depth: <span style=\"color: #0000ff\">3</span>, train-test-split:<span style=\"color: #0000ff\"> 5-fold cross-validation </span></span>"
      ],
      "text/plain": [
       "<IPython.core.display.Markdown object>"
      ]
     },
     "metadata": {},
     "output_type": "display_data"
    },
    {
     "data": {
      "text/markdown": [
       "<span style=\"font-size:11pt\">Per-Class-Scores: GreatOutdoors: 0.92, NightlifeSpots: 0.96, Travel&Transport: 0.86, Shops&Services: 0.85, College&University: 0.97, Residences: 0.98, Professional&Other: 0.87, Arts&Entertainment: 0.88, Food: 0.92</span>"
      ],
      "text/plain": [
       "<IPython.core.display.Markdown object>"
      ]
     },
     "metadata": {},
     "output_type": "display_data"
    },
    {
     "data": {
      "text/markdown": [
       "<span style=\"font-size:11pt\">Unweighted Mean accuracy: 91.22%</span>"
      ],
      "text/plain": [
       "<IPython.core.display.Markdown object>"
      ]
     },
     "metadata": {},
     "output_type": "display_data"
    },
    {
     "data": {
      "text/markdown": [
       "<span style=\"font-size:11pt\">Weighted Mean accuracy: 89.65%</span>"
      ],
      "text/plain": [
       "<IPython.core.display.Markdown object>"
      ]
     },
     "metadata": {},
     "output_type": "display_data"
    },
    {
     "data": {
      "text/markdown": [
       "<span style=\"font-size:11pt\">====================================================================================================</span>"
      ],
      "text/plain": [
       "<IPython.core.display.Markdown object>"
      ]
     },
     "metadata": {},
     "output_type": "display_data"
    },
    {
     "data": {
      "text/markdown": [
       "<span style=\"font-size:11pt\">Using classes from Foursquare - 391/1383 entities have a class</span>"
      ],
      "text/plain": [
       "<IPython.core.display.Markdown object>"
      ]
     },
     "metadata": {},
     "output_type": "display_data"
    },
    {
     "data": {
      "text/markdown": [
       "<span style=\"font-size:11pt\">Labels (9 classes): <span style=\"color: #0000ff\">Shops&Services</span>: 88, <span style=\"color: #0000ff\">Food</span>: 82, <span style=\"color: #0000ff\">Travel&Transport</span>: 35, <span style=\"color: #0000ff\">Professional&Other</span>: 47, <span style=\"color: #0000ff\">Residences</span>: 6, <span style=\"color: #0000ff\">Arts&Entertainment</span>: 39, <span style=\"color: #0000ff\">NightlifeSpots</span>: 17, <span style=\"color: #0000ff\">GreatOutdoors</span>: 44, <span style=\"color: #0000ff\">College&University</span>: 33</span>"
      ],
      "text/plain": [
       "<IPython.core.display.Markdown object>"
      ]
     },
     "metadata": {},
     "output_type": "display_data"
    },
    {
     "data": {
      "text/markdown": [
       "<span style=\"font-size:11pt\">Eval-Settings: metric: <span style=\"color: #0000ff\">f1</span>, type: <span style=\"color: #0000ff\">one-vs-rest</span>, DT-Depth: <span style=\"color: #0000ff\">3</span>, train-test-split:<span style=\"color: #0000ff\"> 5-fold cross-validation </span></span>"
      ],
      "text/plain": [
       "<IPython.core.display.Markdown object>"
      ]
     },
     "metadata": {},
     "output_type": "display_data"
    },
    {
     "data": {
      "text/markdown": [
       "<span style=\"font-size:11pt\">Per-Class-Scores: GreatOutdoors: 0.64, NightlifeSpots: 0.55, Travel&Transport: 0.03, Shops&Services: 0.63, College&University: 0.77, Residences: 0.00, Professional&Other: 0.19, Arts&Entertainment: 0.03, Food: 0.77</span>"
      ],
      "text/plain": [
       "<IPython.core.display.Markdown object>"
      ]
     },
     "metadata": {},
     "output_type": "display_data"
    },
    {
     "data": {
      "text/markdown": [
       "<span style=\"font-size:11pt\">Unweighted Mean f1: 40.28%</span>"
      ],
      "text/plain": [
       "<IPython.core.display.Markdown object>"
      ]
     },
     "metadata": {},
     "output_type": "display_data"
    },
    {
     "data": {
      "text/markdown": [
       "<span style=\"font-size:11pt\">Weighted Mean f1: 49.42%</span>"
      ],
      "text/plain": [
       "<IPython.core.display.Markdown object>"
      ]
     },
     "metadata": {},
     "output_type": "display_data"
    },
    {
     "data": {
      "text/markdown": [
       "<span style=\"font-size:11pt\">====================================================================================================</span>"
      ],
      "text/plain": [
       "<IPython.core.display.Markdown object>"
      ]
     },
     "metadata": {},
     "output_type": "display_data"
    },
    {
     "data": {
      "text/markdown": [
       "<span style=\"font-size:11pt\">Using classes from Foursquare - 391/1383 entities have a class</span>"
      ],
      "text/plain": [
       "<IPython.core.display.Markdown object>"
      ]
     },
     "metadata": {},
     "output_type": "display_data"
    },
    {
     "data": {
      "text/markdown": [
       "<span style=\"font-size:11pt\">Labels (9 classes): <span style=\"color: #0000ff\">Shops&Services</span>: 88, <span style=\"color: #0000ff\">Food</span>: 82, <span style=\"color: #0000ff\">Travel&Transport</span>: 35, <span style=\"color: #0000ff\">Professional&Other</span>: 47, <span style=\"color: #0000ff\">Residences</span>: 6, <span style=\"color: #0000ff\">Arts&Entertainment</span>: 39, <span style=\"color: #0000ff\">NightlifeSpots</span>: 17, <span style=\"color: #0000ff\">GreatOutdoors</span>: 44, <span style=\"color: #0000ff\">College&University</span>: 33</span>"
      ],
      "text/plain": [
       "<IPython.core.display.Markdown object>"
      ]
     },
     "metadata": {},
     "output_type": "display_data"
    },
    {
     "data": {
      "text/markdown": [
       "<span style=\"font-size:11pt\">Eval-Settings: metric: <span style=\"color: #0000ff\">accuracy</span>, type: <span style=\"color: #0000ff\">one-vs-rest</span>, DT-Depth: <span style=\"color: #0000ff\">None</span>, train-test-split:<span style=\"color: #0000ff\"> 5-fold cross-validation </span></span>"
      ],
      "text/plain": [
       "<IPython.core.display.Markdown object>"
      ]
     },
     "metadata": {},
     "output_type": "display_data"
    },
    {
     "data": {
      "text/markdown": [
       "<span style=\"font-size:11pt\">Per-Class-Scores: GreatOutdoors: 0.90, NightlifeSpots: 0.97, Travel&Transport: 0.90, Shops&Services: 0.82, College&University: 0.96, Residences: 0.98, Professional&Other: 0.85, Arts&Entertainment: 0.83, Food: 0.89</span>"
      ],
      "text/plain": [
       "<IPython.core.display.Markdown object>"
      ]
     },
     "metadata": {},
     "output_type": "display_data"
    },
    {
     "data": {
      "text/markdown": [
       "<span style=\"font-size:11pt\">Unweighted Mean accuracy: 90.11%</span>"
      ],
      "text/plain": [
       "<IPython.core.display.Markdown object>"
      ]
     },
     "metadata": {},
     "output_type": "display_data"
    },
    {
     "data": {
      "text/markdown": [
       "<span style=\"font-size:11pt\">Weighted Mean accuracy: 87.73%</span>"
      ],
      "text/plain": [
       "<IPython.core.display.Markdown object>"
      ]
     },
     "metadata": {},
     "output_type": "display_data"
    },
    {
     "data": {
      "text/markdown": [
       "<span style=\"font-size:11pt\">====================================================================================================</span>"
      ],
      "text/plain": [
       "<IPython.core.display.Markdown object>"
      ]
     },
     "metadata": {},
     "output_type": "display_data"
    },
    {
     "data": {
      "text/markdown": [
       "<span style=\"font-size:11pt\">Using classes from Foursquare - 391/1383 entities have a class</span>"
      ],
      "text/plain": [
       "<IPython.core.display.Markdown object>"
      ]
     },
     "metadata": {},
     "output_type": "display_data"
    },
    {
     "data": {
      "text/markdown": [
       "<span style=\"font-size:11pt\">Labels (9 classes): <span style=\"color: #0000ff\">Shops&Services</span>: 88, <span style=\"color: #0000ff\">Food</span>: 82, <span style=\"color: #0000ff\">Travel&Transport</span>: 35, <span style=\"color: #0000ff\">Professional&Other</span>: 47, <span style=\"color: #0000ff\">Residences</span>: 6, <span style=\"color: #0000ff\">Arts&Entertainment</span>: 39, <span style=\"color: #0000ff\">NightlifeSpots</span>: 17, <span style=\"color: #0000ff\">GreatOutdoors</span>: 44, <span style=\"color: #0000ff\">College&University</span>: 33</span>"
      ],
      "text/plain": [
       "<IPython.core.display.Markdown object>"
      ]
     },
     "metadata": {},
     "output_type": "display_data"
    },
    {
     "data": {
      "text/markdown": [
       "<span style=\"font-size:11pt\">Eval-Settings: metric: <span style=\"color: #0000ff\">f1</span>, type: <span style=\"color: #0000ff\">one-vs-rest</span>, DT-Depth: <span style=\"color: #0000ff\">None</span>, train-test-split:<span style=\"color: #0000ff\"> 5-fold cross-validation </span></span>"
      ],
      "text/plain": [
       "<IPython.core.display.Markdown object>"
      ]
     },
     "metadata": {},
     "output_type": "display_data"
    },
    {
     "data": {
      "text/markdown": [
       "<span style=\"font-size:11pt\">Per-Class-Scores: GreatOutdoors: 0.56, NightlifeSpots: 0.66, Travel&Transport: 0.40, Shops&Services: 0.61, College&University: 0.71, Residences: 0.00, Professional&Other: 0.34, Arts&Entertainment: 0.23, Food: 0.76</span>"
      ],
      "text/plain": [
       "<IPython.core.display.Markdown object>"
      ]
     },
     "metadata": {},
     "output_type": "display_data"
    },
    {
     "data": {
      "text/markdown": [
       "<span style=\"font-size:11pt\">Unweighted Mean f1: 47.42%</span>"
      ],
      "text/plain": [
       "<IPython.core.display.Markdown object>"
      ]
     },
     "metadata": {},
     "output_type": "display_data"
    },
    {
     "data": {
      "text/markdown": [
       "<span style=\"font-size:11pt\">Weighted Mean f1: 54.82%</span>"
      ],
      "text/plain": [
       "<IPython.core.display.Markdown object>"
      ]
     },
     "metadata": {},
     "output_type": "display_data"
    },
    {
     "data": {
      "text/markdown": [
       "<span style=\"font-size:11pt\">====================================================================================================</span>"
      ],
      "text/plain": [
       "<IPython.core.display.Markdown object>"
      ]
     },
     "metadata": {},
     "output_type": "display_data"
    },
    {
     "data": {
      "text/markdown": [
       "<span style=\"font-size:11pt\">Using classes from Foursquare - 391/1383 entities have a class</span>"
      ],
      "text/plain": [
       "<IPython.core.display.Markdown object>"
      ]
     },
     "metadata": {},
     "output_type": "display_data"
    },
    {
     "data": {
      "text/markdown": [
       "<span style=\"font-size:11pt\">Labels (9 classes): <span style=\"color: #0000ff\">Shops&Services</span>: 88, <span style=\"color: #0000ff\">Food</span>: 82, <span style=\"color: #0000ff\">Travel&Transport</span>: 35, <span style=\"color: #0000ff\">Professional&Other</span>: 47, <span style=\"color: #0000ff\">Residences</span>: 6, <span style=\"color: #0000ff\">Arts&Entertainment</span>: 39, <span style=\"color: #0000ff\">NightlifeSpots</span>: 17, <span style=\"color: #0000ff\">GreatOutdoors</span>: 44, <span style=\"color: #0000ff\">College&University</span>: 33</span>"
      ],
      "text/plain": [
       "<IPython.core.display.Markdown object>"
      ]
     },
     "metadata": {},
     "output_type": "display_data"
    },
    {
     "data": {
      "text/markdown": [
       "<span style=\"font-size:11pt\">Eval-Settings: metric: <span style=\"color: #0000ff\">accuracy</span>, type: <span style=\"color: #0000ff\">one-vs-rest</span>, DT-Depth: <span style=\"color: #0000ff\">None</span>, train-test-split:<span style=\"color: #0000ff\"> 5-fold cross-validation </span></span>"
      ],
      "text/plain": [
       "<IPython.core.display.Markdown object>"
      ]
     },
     "metadata": {},
     "output_type": "display_data"
    },
    {
     "data": {
      "text/markdown": [
       "<span style=\"font-size:11pt\">Per-Class-Scores: GreatOutdoors: 0.88, NightlifeSpots: 0.97, Travel&Transport: 0.85, Shops&Services: 0.84, College&University: 0.97, Residences: 0.97, Professional&Other: 0.85, Arts&Entertainment: 0.81, Food: 0.88</span>"
      ],
      "text/plain": [
       "<IPython.core.display.Markdown object>"
      ]
     },
     "metadata": {},
     "output_type": "display_data"
    },
    {
     "data": {
      "text/markdown": [
       "<span style=\"font-size:11pt\">Unweighted Mean accuracy: 89.15%</span>"
      ],
      "text/plain": [
       "<IPython.core.display.Markdown object>"
      ]
     },
     "metadata": {},
     "output_type": "display_data"
    },
    {
     "data": {
      "text/markdown": [
       "<span style=\"font-size:11pt\">Weighted Mean accuracy: 87.12%</span>"
      ],
      "text/plain": [
       "<IPython.core.display.Markdown object>"
      ]
     },
     "metadata": {},
     "output_type": "display_data"
    },
    {
     "data": {
      "text/markdown": [
       "<span style=\"font-size:11pt\">====================================================================================================</span>"
      ],
      "text/plain": [
       "<IPython.core.display.Markdown object>"
      ]
     },
     "metadata": {},
     "output_type": "display_data"
    },
    {
     "data": {
      "text/markdown": [
       "<span style=\"font-size:11pt\">Using classes from Foursquare - 391/1383 entities have a class</span>"
      ],
      "text/plain": [
       "<IPython.core.display.Markdown object>"
      ]
     },
     "metadata": {},
     "output_type": "display_data"
    },
    {
     "data": {
      "text/markdown": [
       "<span style=\"font-size:11pt\">Labels (9 classes): <span style=\"color: #0000ff\">Shops&Services</span>: 88, <span style=\"color: #0000ff\">Food</span>: 82, <span style=\"color: #0000ff\">Travel&Transport</span>: 35, <span style=\"color: #0000ff\">Professional&Other</span>: 47, <span style=\"color: #0000ff\">Residences</span>: 6, <span style=\"color: #0000ff\">Arts&Entertainment</span>: 39, <span style=\"color: #0000ff\">NightlifeSpots</span>: 17, <span style=\"color: #0000ff\">GreatOutdoors</span>: 44, <span style=\"color: #0000ff\">College&University</span>: 33</span>"
      ],
      "text/plain": [
       "<IPython.core.display.Markdown object>"
      ]
     },
     "metadata": {},
     "output_type": "display_data"
    },
    {
     "data": {
      "text/markdown": [
       "<span style=\"font-size:11pt\">Eval-Settings: metric: <span style=\"color: #0000ff\">f1</span>, type: <span style=\"color: #0000ff\">one-vs-rest</span>, DT-Depth: <span style=\"color: #0000ff\">None</span>, train-test-split:<span style=\"color: #0000ff\"> 5-fold cross-validation </span></span>"
      ],
      "text/plain": [
       "<IPython.core.display.Markdown object>"
      ]
     },
     "metadata": {},
     "output_type": "display_data"
    },
    {
     "data": {
      "text/markdown": [
       "<span style=\"font-size:11pt\">Per-Class-Scores: GreatOutdoors: 0.41, NightlifeSpots: 0.67, Travel&Transport: 0.22, Shops&Services: 0.66, College&University: 0.77, Residences: 0.00, Professional&Other: 0.31, Arts&Entertainment: 0.16, Food: 0.72</span>"
      ],
      "text/plain": [
       "<IPython.core.display.Markdown object>"
      ]
     },
     "metadata": {},
     "output_type": "display_data"
    },
    {
     "data": {
      "text/markdown": [
       "<span style=\"font-size:11pt\">Unweighted Mean f1: 43.57%</span>"
      ],
      "text/plain": [
       "<IPython.core.display.Markdown object>"
      ]
     },
     "metadata": {},
     "output_type": "display_data"
    },
    {
     "data": {
      "text/markdown": [
       "<span style=\"font-size:11pt\">Weighted Mean f1: 51.26%</span>"
      ],
      "text/plain": [
       "<IPython.core.display.Markdown object>"
      ]
     },
     "metadata": {},
     "output_type": "display_data"
    },
    {
     "data": {
      "text/markdown": [
       "<span style=\"font-size:11pt\">====================================================================================================</span>"
      ],
      "text/plain": [
       "<IPython.core.display.Markdown object>"
      ]
     },
     "metadata": {},
     "output_type": "display_data"
    },
    {
     "data": {
      "text/markdown": [
       "<span style=\"font-size:11pt\">Using classes from Foursquare - 391/1383 entities have a class</span>"
      ],
      "text/plain": [
       "<IPython.core.display.Markdown object>"
      ]
     },
     "metadata": {},
     "output_type": "display_data"
    },
    {
     "data": {
      "text/markdown": [
       "<span style=\"font-size:11pt\">Labels (9 classes): <span style=\"color: #0000ff\">Shops&Services</span>: 88, <span style=\"color: #0000ff\">Food</span>: 82, <span style=\"color: #0000ff\">Travel&Transport</span>: 35, <span style=\"color: #0000ff\">Professional&Other</span>: 47, <span style=\"color: #0000ff\">Residences</span>: 6, <span style=\"color: #0000ff\">Arts&Entertainment</span>: 39, <span style=\"color: #0000ff\">NightlifeSpots</span>: 17, <span style=\"color: #0000ff\">GreatOutdoors</span>: 44, <span style=\"color: #0000ff\">College&University</span>: 33</span>"
      ],
      "text/plain": [
       "<IPython.core.display.Markdown object>"
      ]
     },
     "metadata": {},
     "output_type": "display_data"
    },
    {
     "data": {
      "text/markdown": [
       "<span style=\"font-size:11pt\">Eval-Settings: metric: <span style=\"color: #0000ff\">accuracy</span>, type: <span style=\"color: #0000ff\">all-at-once</span>, DT-Depth: <span style=\"color: #0000ff\">1</span>, train-test-split:<span style=\"color: #0000ff\"> 5-fold cross-validation </span></span>"
      ],
      "text/plain": [
       "<IPython.core.display.Markdown object>"
      ]
     },
     "metadata": {},
     "output_type": "display_data"
    },
    {
     "name": "stderr",
     "output_type": "stream",
     "text": [
      "derive_conceptualspace/evaluate/shallow_trees.py:141: UserWarning: There are more classes (9) than your decision-tree can possibly classify (2)\n"
     ]
    },
    {
     "data": {
      "text/markdown": [
       "<span style=\"font-size:11pt\">accuracy: 0.13</span>"
      ],
      "text/plain": [
       "<IPython.core.display.Markdown object>"
      ]
     },
     "metadata": {},
     "output_type": "display_data"
    },
    {
     "data": {
      "text/markdown": [
       "<span style=\"font-size:11pt\">Baseline accuracy: 0.23</span>"
      ],
      "text/plain": [
       "<IPython.core.display.Markdown object>"
      ]
     },
     "metadata": {},
     "output_type": "display_data"
    },
    {
     "data": {
      "text/markdown": [
       "<span style=\"font-size:11pt\">Maximally achievable accuracy: 0.43</span>"
      ],
      "text/plain": [
       "<IPython.core.display.Markdown object>"
      ]
     },
     "metadata": {},
     "output_type": "display_data"
    },
    {
     "data": {
      "text/markdown": [
       "<span style=\"font-size:11pt\">====================================================================================================</span>"
      ],
      "text/plain": [
       "<IPython.core.display.Markdown object>"
      ]
     },
     "metadata": {},
     "output_type": "display_data"
    },
    {
     "data": {
      "text/markdown": [
       "<span style=\"font-size:11pt\">Using classes from Foursquare - 391/1383 entities have a class</span>"
      ],
      "text/plain": [
       "<IPython.core.display.Markdown object>"
      ]
     },
     "metadata": {},
     "output_type": "display_data"
    },
    {
     "data": {
      "text/markdown": [
       "<span style=\"font-size:11pt\">Labels (9 classes): <span style=\"color: #0000ff\">Shops&Services</span>: 88, <span style=\"color: #0000ff\">Food</span>: 82, <span style=\"color: #0000ff\">Travel&Transport</span>: 35, <span style=\"color: #0000ff\">Professional&Other</span>: 47, <span style=\"color: #0000ff\">Residences</span>: 6, <span style=\"color: #0000ff\">Arts&Entertainment</span>: 39, <span style=\"color: #0000ff\">NightlifeSpots</span>: 17, <span style=\"color: #0000ff\">GreatOutdoors</span>: 44, <span style=\"color: #0000ff\">College&University</span>: 33</span>"
      ],
      "text/plain": [
       "<IPython.core.display.Markdown object>"
      ]
     },
     "metadata": {},
     "output_type": "display_data"
    },
    {
     "data": {
      "text/markdown": [
       "<span style=\"font-size:11pt\">Eval-Settings: metric: <span style=\"color: #0000ff\">f1</span>, type: <span style=\"color: #0000ff\">all-at-once</span>, DT-Depth: <span style=\"color: #0000ff\">1</span>, train-test-split:<span style=\"color: #0000ff\"> 5-fold cross-validation </span></span>"
      ],
      "text/plain": [
       "<IPython.core.display.Markdown object>"
      ]
     },
     "metadata": {},
     "output_type": "display_data"
    },
    {
     "name": "stderr",
     "output_type": "stream",
     "text": [
      "derive_conceptualspace/evaluate/shallow_trees.py:141: UserWarning: There are more classes (9) than your decision-tree can possibly classify (2)\n"
     ]
    },
    {
     "data": {
      "text/markdown": [
       "<span style=\"font-size:11pt\">f1: 0.13</span>"
      ],
      "text/plain": [
       "<IPython.core.display.Markdown object>"
      ]
     },
     "metadata": {},
     "output_type": "display_data"
    },
    {
     "data": {
      "text/markdown": [
       "<span style=\"font-size:11pt\">Baseline f1: 0.23</span>"
      ],
      "text/plain": [
       "<IPython.core.display.Markdown object>"
      ]
     },
     "metadata": {},
     "output_type": "display_data"
    },
    {
     "data": {
      "text/markdown": [
       "<span style=\"font-size:11pt\">====================================================================================================</span>"
      ],
      "text/plain": [
       "<IPython.core.display.Markdown object>"
      ]
     },
     "metadata": {},
     "output_type": "display_data"
    },
    {
     "data": {
      "text/markdown": [
       "<span style=\"font-size:11pt\">Using classes from Foursquare - 391/1383 entities have a class</span>"
      ],
      "text/plain": [
       "<IPython.core.display.Markdown object>"
      ]
     },
     "metadata": {},
     "output_type": "display_data"
    },
    {
     "data": {
      "text/markdown": [
       "<span style=\"font-size:11pt\">Labels (9 classes): <span style=\"color: #0000ff\">Shops&Services</span>: 88, <span style=\"color: #0000ff\">Food</span>: 82, <span style=\"color: #0000ff\">Travel&Transport</span>: 35, <span style=\"color: #0000ff\">Professional&Other</span>: 47, <span style=\"color: #0000ff\">Residences</span>: 6, <span style=\"color: #0000ff\">Arts&Entertainment</span>: 39, <span style=\"color: #0000ff\">NightlifeSpots</span>: 17, <span style=\"color: #0000ff\">GreatOutdoors</span>: 44, <span style=\"color: #0000ff\">College&University</span>: 33</span>"
      ],
      "text/plain": [
       "<IPython.core.display.Markdown object>"
      ]
     },
     "metadata": {},
     "output_type": "display_data"
    },
    {
     "data": {
      "text/markdown": [
       "<span style=\"font-size:11pt\">Eval-Settings: metric: <span style=\"color: #0000ff\">accuracy</span>, type: <span style=\"color: #0000ff\">all-at-once</span>, DT-Depth: <span style=\"color: #0000ff\">1</span>, train-test-split:<span style=\"color: #0000ff\"> 5-fold cross-validation </span></span>"
      ],
      "text/plain": [
       "<IPython.core.display.Markdown object>"
      ]
     },
     "metadata": {},
     "output_type": "display_data"
    },
    {
     "name": "stderr",
     "output_type": "stream",
     "text": [
      "derive_conceptualspace/evaluate/shallow_trees.py:141: UserWarning: There are more classes (9) than your decision-tree can possibly classify (2)\n"
     ]
    },
    {
     "data": {
      "text/markdown": [
       "<span style=\"font-size:11pt\">accuracy: 0.36</span>"
      ],
      "text/plain": [
       "<IPython.core.display.Markdown object>"
      ]
     },
     "metadata": {},
     "output_type": "display_data"
    },
    {
     "data": {
      "text/markdown": [
       "<span style=\"font-size:11pt\">Baseline accuracy: 0.23</span>"
      ],
      "text/plain": [
       "<IPython.core.display.Markdown object>"
      ]
     },
     "metadata": {},
     "output_type": "display_data"
    },
    {
     "data": {
      "text/markdown": [
       "<span style=\"font-size:11pt\">Maximally achievable accuracy: 0.43</span>"
      ],
      "text/plain": [
       "<IPython.core.display.Markdown object>"
      ]
     },
     "metadata": {},
     "output_type": "display_data"
    },
    {
     "data": {
      "text/markdown": [
       "<span style=\"font-size:11pt\">====================================================================================================</span>"
      ],
      "text/plain": [
       "<IPython.core.display.Markdown object>"
      ]
     },
     "metadata": {},
     "output_type": "display_data"
    },
    {
     "data": {
      "text/markdown": [
       "<span style=\"font-size:11pt\">Using classes from Foursquare - 391/1383 entities have a class</span>"
      ],
      "text/plain": [
       "<IPython.core.display.Markdown object>"
      ]
     },
     "metadata": {},
     "output_type": "display_data"
    },
    {
     "data": {
      "text/markdown": [
       "<span style=\"font-size:11pt\">Labels (9 classes): <span style=\"color: #0000ff\">Shops&Services</span>: 88, <span style=\"color: #0000ff\">Food</span>: 82, <span style=\"color: #0000ff\">Travel&Transport</span>: 35, <span style=\"color: #0000ff\">Professional&Other</span>: 47, <span style=\"color: #0000ff\">Residences</span>: 6, <span style=\"color: #0000ff\">Arts&Entertainment</span>: 39, <span style=\"color: #0000ff\">NightlifeSpots</span>: 17, <span style=\"color: #0000ff\">GreatOutdoors</span>: 44, <span style=\"color: #0000ff\">College&University</span>: 33</span>"
      ],
      "text/plain": [
       "<IPython.core.display.Markdown object>"
      ]
     },
     "metadata": {},
     "output_type": "display_data"
    },
    {
     "data": {
      "text/markdown": [
       "<span style=\"font-size:11pt\">Eval-Settings: metric: <span style=\"color: #0000ff\">f1</span>, type: <span style=\"color: #0000ff\">all-at-once</span>, DT-Depth: <span style=\"color: #0000ff\">1</span>, train-test-split:<span style=\"color: #0000ff\"> 5-fold cross-validation </span></span>"
      ],
      "text/plain": [
       "<IPython.core.display.Markdown object>"
      ]
     },
     "metadata": {},
     "output_type": "display_data"
    },
    {
     "name": "stderr",
     "output_type": "stream",
     "text": [
      "derive_conceptualspace/evaluate/shallow_trees.py:141: UserWarning: There are more classes (9) than your decision-tree can possibly classify (2)\n"
     ]
    },
    {
     "data": {
      "text/markdown": [
       "<span style=\"font-size:11pt\">f1: 0.36</span>"
      ],
      "text/plain": [
       "<IPython.core.display.Markdown object>"
      ]
     },
     "metadata": {},
     "output_type": "display_data"
    },
    {
     "data": {
      "text/markdown": [
       "<span style=\"font-size:11pt\">Baseline f1: 0.23</span>"
      ],
      "text/plain": [
       "<IPython.core.display.Markdown object>"
      ]
     },
     "metadata": {},
     "output_type": "display_data"
    },
    {
     "data": {
      "text/markdown": [
       "<span style=\"font-size:11pt\">====================================================================================================</span>"
      ],
      "text/plain": [
       "<IPython.core.display.Markdown object>"
      ]
     },
     "metadata": {},
     "output_type": "display_data"
    },
    {
     "data": {
      "text/markdown": [
       "<span style=\"font-size:11pt\">Using classes from Foursquare - 391/1383 entities have a class</span>"
      ],
      "text/plain": [
       "<IPython.core.display.Markdown object>"
      ]
     },
     "metadata": {},
     "output_type": "display_data"
    },
    {
     "data": {
      "text/markdown": [
       "<span style=\"font-size:11pt\">Labels (9 classes): <span style=\"color: #0000ff\">Shops&Services</span>: 88, <span style=\"color: #0000ff\">Food</span>: 82, <span style=\"color: #0000ff\">Travel&Transport</span>: 35, <span style=\"color: #0000ff\">Professional&Other</span>: 47, <span style=\"color: #0000ff\">Residences</span>: 6, <span style=\"color: #0000ff\">Arts&Entertainment</span>: 39, <span style=\"color: #0000ff\">NightlifeSpots</span>: 17, <span style=\"color: #0000ff\">GreatOutdoors</span>: 44, <span style=\"color: #0000ff\">College&University</span>: 33</span>"
      ],
      "text/plain": [
       "<IPython.core.display.Markdown object>"
      ]
     },
     "metadata": {},
     "output_type": "display_data"
    },
    {
     "data": {
      "text/markdown": [
       "<span style=\"font-size:11pt\">Eval-Settings: metric: <span style=\"color: #0000ff\">accuracy</span>, type: <span style=\"color: #0000ff\">all-at-once</span>, DT-Depth: <span style=\"color: #0000ff\">2</span>, train-test-split:<span style=\"color: #0000ff\"> 5-fold cross-validation </span></span>"
      ],
      "text/plain": [
       "<IPython.core.display.Markdown object>"
      ]
     },
     "metadata": {},
     "output_type": "display_data"
    },
    {
     "name": "stderr",
     "output_type": "stream",
     "text": [
      "derive_conceptualspace/evaluate/shallow_trees.py:141: UserWarning: There are more classes (9) than your decision-tree can possibly classify (4)\n"
     ]
    },
    {
     "data": {
      "text/markdown": [
       "<span style=\"font-size:11pt\">accuracy: 0.19</span>"
      ],
      "text/plain": [
       "<IPython.core.display.Markdown object>"
      ]
     },
     "metadata": {},
     "output_type": "display_data"
    },
    {
     "data": {
      "text/markdown": [
       "<span style=\"font-size:11pt\">====================================================================================================</span>"
      ],
      "text/plain": [
       "<IPython.core.display.Markdown object>"
      ]
     },
     "metadata": {},
     "output_type": "display_data"
    },
    {
     "data": {
      "text/markdown": [
       "<span style=\"font-size:11pt\">Using classes from Foursquare - 391/1383 entities have a class</span>"
      ],
      "text/plain": [
       "<IPython.core.display.Markdown object>"
      ]
     },
     "metadata": {},
     "output_type": "display_data"
    },
    {
     "data": {
      "text/markdown": [
       "<span style=\"font-size:11pt\">Labels (9 classes): <span style=\"color: #0000ff\">Shops&Services</span>: 88, <span style=\"color: #0000ff\">Food</span>: 82, <span style=\"color: #0000ff\">Travel&Transport</span>: 35, <span style=\"color: #0000ff\">Professional&Other</span>: 47, <span style=\"color: #0000ff\">Residences</span>: 6, <span style=\"color: #0000ff\">Arts&Entertainment</span>: 39, <span style=\"color: #0000ff\">NightlifeSpots</span>: 17, <span style=\"color: #0000ff\">GreatOutdoors</span>: 44, <span style=\"color: #0000ff\">College&University</span>: 33</span>"
      ],
      "text/plain": [
       "<IPython.core.display.Markdown object>"
      ]
     },
     "metadata": {},
     "output_type": "display_data"
    },
    {
     "data": {
      "text/markdown": [
       "<span style=\"font-size:11pt\">Eval-Settings: metric: <span style=\"color: #0000ff\">f1</span>, type: <span style=\"color: #0000ff\">all-at-once</span>, DT-Depth: <span style=\"color: #0000ff\">2</span>, train-test-split:<span style=\"color: #0000ff\"> 5-fold cross-validation </span></span>"
      ],
      "text/plain": [
       "<IPython.core.display.Markdown object>"
      ]
     },
     "metadata": {},
     "output_type": "display_data"
    },
    {
     "name": "stderr",
     "output_type": "stream",
     "text": [
      "derive_conceptualspace/evaluate/shallow_trees.py:141: UserWarning: There are more classes (9) than your decision-tree can possibly classify (4)\n"
     ]
    },
    {
     "data": {
      "text/markdown": [
       "<span style=\"font-size:11pt\">f1: 0.19</span>"
      ],
      "text/plain": [
       "<IPython.core.display.Markdown object>"
      ]
     },
     "metadata": {},
     "output_type": "display_data"
    },
    {
     "data": {
      "text/markdown": [
       "<span style=\"font-size:11pt\">====================================================================================================</span>"
      ],
      "text/plain": [
       "<IPython.core.display.Markdown object>"
      ]
     },
     "metadata": {},
     "output_type": "display_data"
    },
    {
     "data": {
      "text/markdown": [
       "<span style=\"font-size:11pt\">Using classes from Foursquare - 391/1383 entities have a class</span>"
      ],
      "text/plain": [
       "<IPython.core.display.Markdown object>"
      ]
     },
     "metadata": {},
     "output_type": "display_data"
    },
    {
     "data": {
      "text/markdown": [
       "<span style=\"font-size:11pt\">Labels (9 classes): <span style=\"color: #0000ff\">Shops&Services</span>: 88, <span style=\"color: #0000ff\">Food</span>: 82, <span style=\"color: #0000ff\">Travel&Transport</span>: 35, <span style=\"color: #0000ff\">Professional&Other</span>: 47, <span style=\"color: #0000ff\">Residences</span>: 6, <span style=\"color: #0000ff\">Arts&Entertainment</span>: 39, <span style=\"color: #0000ff\">NightlifeSpots</span>: 17, <span style=\"color: #0000ff\">GreatOutdoors</span>: 44, <span style=\"color: #0000ff\">College&University</span>: 33</span>"
      ],
      "text/plain": [
       "<IPython.core.display.Markdown object>"
      ]
     },
     "metadata": {},
     "output_type": "display_data"
    },
    {
     "data": {
      "text/markdown": [
       "<span style=\"font-size:11pt\">Eval-Settings: metric: <span style=\"color: #0000ff\">accuracy</span>, type: <span style=\"color: #0000ff\">all-at-once</span>, DT-Depth: <span style=\"color: #0000ff\">2</span>, train-test-split:<span style=\"color: #0000ff\"> 5-fold cross-validation </span></span>"
      ],
      "text/plain": [
       "<IPython.core.display.Markdown object>"
      ]
     },
     "metadata": {},
     "output_type": "display_data"
    },
    {
     "name": "stderr",
     "output_type": "stream",
     "text": [
      "derive_conceptualspace/evaluate/shallow_trees.py:141: UserWarning: There are more classes (9) than your decision-tree can possibly classify (4)\n"
     ]
    },
    {
     "data": {
      "text/markdown": [
       "<span style=\"font-size:11pt\">accuracy: 0.45</span>"
      ],
      "text/plain": [
       "<IPython.core.display.Markdown object>"
      ]
     },
     "metadata": {},
     "output_type": "display_data"
    },
    {
     "data": {
      "text/markdown": [
       "<span style=\"font-size:11pt\">====================================================================================================</span>"
      ],
      "text/plain": [
       "<IPython.core.display.Markdown object>"
      ]
     },
     "metadata": {},
     "output_type": "display_data"
    },
    {
     "data": {
      "text/markdown": [
       "<span style=\"font-size:11pt\">Using classes from Foursquare - 391/1383 entities have a class</span>"
      ],
      "text/plain": [
       "<IPython.core.display.Markdown object>"
      ]
     },
     "metadata": {},
     "output_type": "display_data"
    },
    {
     "data": {
      "text/markdown": [
       "<span style=\"font-size:11pt\">Labels (9 classes): <span style=\"color: #0000ff\">Shops&Services</span>: 88, <span style=\"color: #0000ff\">Food</span>: 82, <span style=\"color: #0000ff\">Travel&Transport</span>: 35, <span style=\"color: #0000ff\">Professional&Other</span>: 47, <span style=\"color: #0000ff\">Residences</span>: 6, <span style=\"color: #0000ff\">Arts&Entertainment</span>: 39, <span style=\"color: #0000ff\">NightlifeSpots</span>: 17, <span style=\"color: #0000ff\">GreatOutdoors</span>: 44, <span style=\"color: #0000ff\">College&University</span>: 33</span>"
      ],
      "text/plain": [
       "<IPython.core.display.Markdown object>"
      ]
     },
     "metadata": {},
     "output_type": "display_data"
    },
    {
     "data": {
      "text/markdown": [
       "<span style=\"font-size:11pt\">Eval-Settings: metric: <span style=\"color: #0000ff\">f1</span>, type: <span style=\"color: #0000ff\">all-at-once</span>, DT-Depth: <span style=\"color: #0000ff\">2</span>, train-test-split:<span style=\"color: #0000ff\"> 5-fold cross-validation </span></span>"
      ],
      "text/plain": [
       "<IPython.core.display.Markdown object>"
      ]
     },
     "metadata": {},
     "output_type": "display_data"
    },
    {
     "name": "stderr",
     "output_type": "stream",
     "text": [
      "derive_conceptualspace/evaluate/shallow_trees.py:141: UserWarning: There are more classes (9) than your decision-tree can possibly classify (4)\n"
     ]
    },
    {
     "data": {
      "text/markdown": [
       "<span style=\"font-size:11pt\">f1: 0.45</span>"
      ],
      "text/plain": [
       "<IPython.core.display.Markdown object>"
      ]
     },
     "metadata": {},
     "output_type": "display_data"
    },
    {
     "data": {
      "text/markdown": [
       "<span style=\"font-size:11pt\">====================================================================================================</span>"
      ],
      "text/plain": [
       "<IPython.core.display.Markdown object>"
      ]
     },
     "metadata": {},
     "output_type": "display_data"
    },
    {
     "data": {
      "text/markdown": [
       "<span style=\"font-size:11pt\">Using classes from Foursquare - 391/1383 entities have a class</span>"
      ],
      "text/plain": [
       "<IPython.core.display.Markdown object>"
      ]
     },
     "metadata": {},
     "output_type": "display_data"
    },
    {
     "data": {
      "text/markdown": [
       "<span style=\"font-size:11pt\">Labels (9 classes): <span style=\"color: #0000ff\">Shops&Services</span>: 88, <span style=\"color: #0000ff\">Food</span>: 82, <span style=\"color: #0000ff\">Travel&Transport</span>: 35, <span style=\"color: #0000ff\">Professional&Other</span>: 47, <span style=\"color: #0000ff\">Residences</span>: 6, <span style=\"color: #0000ff\">Arts&Entertainment</span>: 39, <span style=\"color: #0000ff\">NightlifeSpots</span>: 17, <span style=\"color: #0000ff\">GreatOutdoors</span>: 44, <span style=\"color: #0000ff\">College&University</span>: 33</span>"
      ],
      "text/plain": [
       "<IPython.core.display.Markdown object>"
      ]
     },
     "metadata": {},
     "output_type": "display_data"
    },
    {
     "data": {
      "text/markdown": [
       "<span style=\"font-size:11pt\">Eval-Settings: metric: <span style=\"color: #0000ff\">accuracy</span>, type: <span style=\"color: #0000ff\">all-at-once</span>, DT-Depth: <span style=\"color: #0000ff\">3</span>, train-test-split:<span style=\"color: #0000ff\"> 5-fold cross-validation </span></span>"
      ],
      "text/plain": [
       "<IPython.core.display.Markdown object>"
      ]
     },
     "metadata": {},
     "output_type": "display_data"
    },
    {
     "name": "stderr",
     "output_type": "stream",
     "text": [
      "derive_conceptualspace/evaluate/shallow_trees.py:141: UserWarning: There are more classes (9) than your decision-tree can possibly classify (8)\n"
     ]
    },
    {
     "data": {
      "text/markdown": [
       "<span style=\"font-size:11pt\">accuracy: 0.28</span>"
      ],
      "text/plain": [
       "<IPython.core.display.Markdown object>"
      ]
     },
     "metadata": {},
     "output_type": "display_data"
    },
    {
     "data": {
      "text/markdown": [
       "<span style=\"font-size:11pt\">====================================================================================================</span>"
      ],
      "text/plain": [
       "<IPython.core.display.Markdown object>"
      ]
     },
     "metadata": {},
     "output_type": "display_data"
    },
    {
     "data": {
      "text/markdown": [
       "<span style=\"font-size:11pt\">Using classes from Foursquare - 391/1383 entities have a class</span>"
      ],
      "text/plain": [
       "<IPython.core.display.Markdown object>"
      ]
     },
     "metadata": {},
     "output_type": "display_data"
    },
    {
     "data": {
      "text/markdown": [
       "<span style=\"font-size:11pt\">Labels (9 classes): <span style=\"color: #0000ff\">Shops&Services</span>: 88, <span style=\"color: #0000ff\">Food</span>: 82, <span style=\"color: #0000ff\">Travel&Transport</span>: 35, <span style=\"color: #0000ff\">Professional&Other</span>: 47, <span style=\"color: #0000ff\">Residences</span>: 6, <span style=\"color: #0000ff\">Arts&Entertainment</span>: 39, <span style=\"color: #0000ff\">NightlifeSpots</span>: 17, <span style=\"color: #0000ff\">GreatOutdoors</span>: 44, <span style=\"color: #0000ff\">College&University</span>: 33</span>"
      ],
      "text/plain": [
       "<IPython.core.display.Markdown object>"
      ]
     },
     "metadata": {},
     "output_type": "display_data"
    },
    {
     "data": {
      "text/markdown": [
       "<span style=\"font-size:11pt\">Eval-Settings: metric: <span style=\"color: #0000ff\">f1</span>, type: <span style=\"color: #0000ff\">all-at-once</span>, DT-Depth: <span style=\"color: #0000ff\">3</span>, train-test-split:<span style=\"color: #0000ff\"> 5-fold cross-validation </span></span>"
      ],
      "text/plain": [
       "<IPython.core.display.Markdown object>"
      ]
     },
     "metadata": {},
     "output_type": "display_data"
    },
    {
     "name": "stderr",
     "output_type": "stream",
     "text": [
      "derive_conceptualspace/evaluate/shallow_trees.py:141: UserWarning: There are more classes (9) than your decision-tree can possibly classify (8)\n"
     ]
    },
    {
     "data": {
      "text/markdown": [
       "<span style=\"font-size:11pt\">f1: 0.28</span>"
      ],
      "text/plain": [
       "<IPython.core.display.Markdown object>"
      ]
     },
     "metadata": {},
     "output_type": "display_data"
    },
    {
     "data": {
      "text/markdown": [
       "<span style=\"font-size:11pt\">====================================================================================================</span>"
      ],
      "text/plain": [
       "<IPython.core.display.Markdown object>"
      ]
     },
     "metadata": {},
     "output_type": "display_data"
    },
    {
     "data": {
      "text/markdown": [
       "<span style=\"font-size:11pt\">Using classes from Foursquare - 391/1383 entities have a class</span>"
      ],
      "text/plain": [
       "<IPython.core.display.Markdown object>"
      ]
     },
     "metadata": {},
     "output_type": "display_data"
    },
    {
     "data": {
      "text/markdown": [
       "<span style=\"font-size:11pt\">Labels (9 classes): <span style=\"color: #0000ff\">Shops&Services</span>: 88, <span style=\"color: #0000ff\">Food</span>: 82, <span style=\"color: #0000ff\">Travel&Transport</span>: 35, <span style=\"color: #0000ff\">Professional&Other</span>: 47, <span style=\"color: #0000ff\">Residences</span>: 6, <span style=\"color: #0000ff\">Arts&Entertainment</span>: 39, <span style=\"color: #0000ff\">NightlifeSpots</span>: 17, <span style=\"color: #0000ff\">GreatOutdoors</span>: 44, <span style=\"color: #0000ff\">College&University</span>: 33</span>"
      ],
      "text/plain": [
       "<IPython.core.display.Markdown object>"
      ]
     },
     "metadata": {},
     "output_type": "display_data"
    },
    {
     "data": {
      "text/markdown": [
       "<span style=\"font-size:11pt\">Eval-Settings: metric: <span style=\"color: #0000ff\">accuracy</span>, type: <span style=\"color: #0000ff\">all-at-once</span>, DT-Depth: <span style=\"color: #0000ff\">3</span>, train-test-split:<span style=\"color: #0000ff\"> 5-fold cross-validation </span></span>"
      ],
      "text/plain": [
       "<IPython.core.display.Markdown object>"
      ]
     },
     "metadata": {},
     "output_type": "display_data"
    },
    {
     "name": "stderr",
     "output_type": "stream",
     "text": [
      "derive_conceptualspace/evaluate/shallow_trees.py:141: UserWarning: There are more classes (9) than your decision-tree can possibly classify (8)\n"
     ]
    },
    {
     "data": {
      "text/markdown": [
       "<span style=\"font-size:11pt\">accuracy: 0.54</span>"
      ],
      "text/plain": [
       "<IPython.core.display.Markdown object>"
      ]
     },
     "metadata": {},
     "output_type": "display_data"
    },
    {
     "data": {
      "text/markdown": [
       "<span style=\"font-size:11pt\">====================================================================================================</span>"
      ],
      "text/plain": [
       "<IPython.core.display.Markdown object>"
      ]
     },
     "metadata": {},
     "output_type": "display_data"
    },
    {
     "data": {
      "text/markdown": [
       "<span style=\"font-size:11pt\">Using classes from Foursquare - 391/1383 entities have a class</span>"
      ],
      "text/plain": [
       "<IPython.core.display.Markdown object>"
      ]
     },
     "metadata": {},
     "output_type": "display_data"
    },
    {
     "data": {
      "text/markdown": [
       "<span style=\"font-size:11pt\">Labels (9 classes): <span style=\"color: #0000ff\">Shops&Services</span>: 88, <span style=\"color: #0000ff\">Food</span>: 82, <span style=\"color: #0000ff\">Travel&Transport</span>: 35, <span style=\"color: #0000ff\">Professional&Other</span>: 47, <span style=\"color: #0000ff\">Residences</span>: 6, <span style=\"color: #0000ff\">Arts&Entertainment</span>: 39, <span style=\"color: #0000ff\">NightlifeSpots</span>: 17, <span style=\"color: #0000ff\">GreatOutdoors</span>: 44, <span style=\"color: #0000ff\">College&University</span>: 33</span>"
      ],
      "text/plain": [
       "<IPython.core.display.Markdown object>"
      ]
     },
     "metadata": {},
     "output_type": "display_data"
    },
    {
     "data": {
      "text/markdown": [
       "<span style=\"font-size:11pt\">Eval-Settings: metric: <span style=\"color: #0000ff\">f1</span>, type: <span style=\"color: #0000ff\">all-at-once</span>, DT-Depth: <span style=\"color: #0000ff\">3</span>, train-test-split:<span style=\"color: #0000ff\"> 5-fold cross-validation </span></span>"
      ],
      "text/plain": [
       "<IPython.core.display.Markdown object>"
      ]
     },
     "metadata": {},
     "output_type": "display_data"
    },
    {
     "name": "stderr",
     "output_type": "stream",
     "text": [
      "derive_conceptualspace/evaluate/shallow_trees.py:141: UserWarning: There are more classes (9) than your decision-tree can possibly classify (8)\n"
     ]
    },
    {
     "data": {
      "text/markdown": [
       "<span style=\"font-size:11pt\">f1: 0.54</span>"
      ],
      "text/plain": [
       "<IPython.core.display.Markdown object>"
      ]
     },
     "metadata": {},
     "output_type": "display_data"
    },
    {
     "data": {
      "text/markdown": [
       "<span style=\"font-size:11pt\">====================================================================================================</span>"
      ],
      "text/plain": [
       "<IPython.core.display.Markdown object>"
      ]
     },
     "metadata": {},
     "output_type": "display_data"
    },
    {
     "data": {
      "text/markdown": [
       "<span style=\"font-size:11pt\">Using classes from Foursquare - 391/1383 entities have a class</span>"
      ],
      "text/plain": [
       "<IPython.core.display.Markdown object>"
      ]
     },
     "metadata": {},
     "output_type": "display_data"
    },
    {
     "data": {
      "text/markdown": [
       "<span style=\"font-size:11pt\">Labels (9 classes): <span style=\"color: #0000ff\">Shops&Services</span>: 88, <span style=\"color: #0000ff\">Food</span>: 82, <span style=\"color: #0000ff\">Travel&Transport</span>: 35, <span style=\"color: #0000ff\">Professional&Other</span>: 47, <span style=\"color: #0000ff\">Residences</span>: 6, <span style=\"color: #0000ff\">Arts&Entertainment</span>: 39, <span style=\"color: #0000ff\">NightlifeSpots</span>: 17, <span style=\"color: #0000ff\">GreatOutdoors</span>: 44, <span style=\"color: #0000ff\">College&University</span>: 33</span>"
      ],
      "text/plain": [
       "<IPython.core.display.Markdown object>"
      ]
     },
     "metadata": {},
     "output_type": "display_data"
    },
    {
     "data": {
      "text/markdown": [
       "<span style=\"font-size:11pt\">Eval-Settings: metric: <span style=\"color: #0000ff\">accuracy</span>, type: <span style=\"color: #0000ff\">all-at-once</span>, DT-Depth: <span style=\"color: #0000ff\">None</span>, train-test-split:<span style=\"color: #0000ff\"> 5-fold cross-validation </span></span>"
      ],
      "text/plain": [
       "<IPython.core.display.Markdown object>"
      ]
     },
     "metadata": {},
     "output_type": "display_data"
    },
    {
     "data": {
      "text/markdown": [
       "<span style=\"font-size:11pt\">accuracy: 0.54</span>"
      ],
      "text/plain": [
       "<IPython.core.display.Markdown object>"
      ]
     },
     "metadata": {},
     "output_type": "display_data"
    },
    {
     "data": {
      "text/markdown": [
       "<span style=\"font-size:11pt\">====================================================================================================</span>"
      ],
      "text/plain": [
       "<IPython.core.display.Markdown object>"
      ]
     },
     "metadata": {},
     "output_type": "display_data"
    },
    {
     "data": {
      "text/markdown": [
       "<span style=\"font-size:11pt\">Using classes from Foursquare - 391/1383 entities have a class</span>"
      ],
      "text/plain": [
       "<IPython.core.display.Markdown object>"
      ]
     },
     "metadata": {},
     "output_type": "display_data"
    },
    {
     "data": {
      "text/markdown": [
       "<span style=\"font-size:11pt\">Labels (9 classes): <span style=\"color: #0000ff\">Shops&Services</span>: 88, <span style=\"color: #0000ff\">Food</span>: 82, <span style=\"color: #0000ff\">Travel&Transport</span>: 35, <span style=\"color: #0000ff\">Professional&Other</span>: 47, <span style=\"color: #0000ff\">Residences</span>: 6, <span style=\"color: #0000ff\">Arts&Entertainment</span>: 39, <span style=\"color: #0000ff\">NightlifeSpots</span>: 17, <span style=\"color: #0000ff\">GreatOutdoors</span>: 44, <span style=\"color: #0000ff\">College&University</span>: 33</span>"
      ],
      "text/plain": [
       "<IPython.core.display.Markdown object>"
      ]
     },
     "metadata": {},
     "output_type": "display_data"
    },
    {
     "data": {
      "text/markdown": [
       "<span style=\"font-size:11pt\">Eval-Settings: metric: <span style=\"color: #0000ff\">f1</span>, type: <span style=\"color: #0000ff\">all-at-once</span>, DT-Depth: <span style=\"color: #0000ff\">None</span>, train-test-split:<span style=\"color: #0000ff\"> 5-fold cross-validation </span></span>"
      ],
      "text/plain": [
       "<IPython.core.display.Markdown object>"
      ]
     },
     "metadata": {},
     "output_type": "display_data"
    },
    {
     "data": {
      "text/markdown": [
       "<span style=\"font-size:11pt\">f1: 0.53</span>"
      ],
      "text/plain": [
       "<IPython.core.display.Markdown object>"
      ]
     },
     "metadata": {},
     "output_type": "display_data"
    },
    {
     "data": {
      "text/markdown": [
       "<span style=\"font-size:11pt\">====================================================================================================</span>"
      ],
      "text/plain": [
       "<IPython.core.display.Markdown object>"
      ]
     },
     "metadata": {},
     "output_type": "display_data"
    },
    {
     "data": {
      "text/markdown": [
       "<span style=\"font-size:11pt\">Using classes from Foursquare - 391/1383 entities have a class</span>"
      ],
      "text/plain": [
       "<IPython.core.display.Markdown object>"
      ]
     },
     "metadata": {},
     "output_type": "display_data"
    },
    {
     "data": {
      "text/markdown": [
       "<span style=\"font-size:11pt\">Labels (9 classes): <span style=\"color: #0000ff\">Shops&Services</span>: 88, <span style=\"color: #0000ff\">Food</span>: 82, <span style=\"color: #0000ff\">Travel&Transport</span>: 35, <span style=\"color: #0000ff\">Professional&Other</span>: 47, <span style=\"color: #0000ff\">Residences</span>: 6, <span style=\"color: #0000ff\">Arts&Entertainment</span>: 39, <span style=\"color: #0000ff\">NightlifeSpots</span>: 17, <span style=\"color: #0000ff\">GreatOutdoors</span>: 44, <span style=\"color: #0000ff\">College&University</span>: 33</span>"
      ],
      "text/plain": [
       "<IPython.core.display.Markdown object>"
      ]
     },
     "metadata": {},
     "output_type": "display_data"
    },
    {
     "data": {
      "text/markdown": [
       "<span style=\"font-size:11pt\">Eval-Settings: metric: <span style=\"color: #0000ff\">accuracy</span>, type: <span style=\"color: #0000ff\">all-at-once</span>, DT-Depth: <span style=\"color: #0000ff\">None</span>, train-test-split:<span style=\"color: #0000ff\"> 5-fold cross-validation </span></span>"
      ],
      "text/plain": [
       "<IPython.core.display.Markdown object>"
      ]
     },
     "metadata": {},
     "output_type": "display_data"
    },
    {
     "data": {
      "text/markdown": [
       "<span style=\"font-size:11pt\">accuracy: 0.53</span>"
      ],
      "text/plain": [
       "<IPython.core.display.Markdown object>"
      ]
     },
     "metadata": {},
     "output_type": "display_data"
    },
    {
     "data": {
      "text/markdown": [
       "<span style=\"font-size:11pt\">====================================================================================================</span>"
      ],
      "text/plain": [
       "<IPython.core.display.Markdown object>"
      ]
     },
     "metadata": {},
     "output_type": "display_data"
    },
    {
     "data": {
      "text/markdown": [
       "<span style=\"font-size:11pt\">Using classes from Foursquare - 391/1383 entities have a class</span>"
      ],
      "text/plain": [
       "<IPython.core.display.Markdown object>"
      ]
     },
     "metadata": {},
     "output_type": "display_data"
    },
    {
     "data": {
      "text/markdown": [
       "<span style=\"font-size:11pt\">Labels (9 classes): <span style=\"color: #0000ff\">Shops&Services</span>: 88, <span style=\"color: #0000ff\">Food</span>: 82, <span style=\"color: #0000ff\">Travel&Transport</span>: 35, <span style=\"color: #0000ff\">Professional&Other</span>: 47, <span style=\"color: #0000ff\">Residences</span>: 6, <span style=\"color: #0000ff\">Arts&Entertainment</span>: 39, <span style=\"color: #0000ff\">NightlifeSpots</span>: 17, <span style=\"color: #0000ff\">GreatOutdoors</span>: 44, <span style=\"color: #0000ff\">College&University</span>: 33</span>"
      ],
      "text/plain": [
       "<IPython.core.display.Markdown object>"
      ]
     },
     "metadata": {},
     "output_type": "display_data"
    },
    {
     "data": {
      "text/markdown": [
       "<span style=\"font-size:11pt\">Eval-Settings: metric: <span style=\"color: #0000ff\">f1</span>, type: <span style=\"color: #0000ff\">all-at-once</span>, DT-Depth: <span style=\"color: #0000ff\">None</span>, train-test-split:<span style=\"color: #0000ff\"> 5-fold cross-validation </span></span>"
      ],
      "text/plain": [
       "<IPython.core.display.Markdown object>"
      ]
     },
     "metadata": {},
     "output_type": "display_data"
    },
    {
     "data": {
      "text/markdown": [
       "<span style=\"font-size:11pt\">f1: 0.53</span>"
      ],
      "text/plain": [
       "<IPython.core.display.Markdown object>"
      ]
     },
     "metadata": {},
     "output_type": "display_data"
    },
    {
     "data": {
      "text/markdown": [
       "<span style=\"font-size:11pt\">====================================================================================================</span>"
      ],
      "text/plain": [
       "<IPython.core.display.Markdown object>"
      ]
     },
     "metadata": {},
     "output_type": "display_data"
    },
    {
     "data": {
      "text/markdown": [
       "<span style=\"font-size:11pt\">Using classes from Geonames - 403/1383 entities have a class</span>"
      ],
      "text/plain": [
       "<IPython.core.display.Markdown object>"
      ]
     },
     "metadata": {},
     "output_type": "display_data"
    },
    {
     "data": {
      "text/markdown": [
       "<span style=\"font-size:11pt\">Labels (7 classes): <span style=\"color: #0000ff\">spot,building,farm</span>: 176, <span style=\"color: #0000ff\">stream,lake</span>: 74, <span style=\"color: #0000ff\">road,railroad</span>: 16, <span style=\"color: #0000ff\">parks,area</span>: 28, <span style=\"color: #0000ff\">undersea</span>: 27, <span style=\"color: #0000ff\">mountain,hill,rock</span>: 68, <span style=\"color: #0000ff\">forest,heath</span>: 14</span>"
      ],
      "text/plain": [
       "<IPython.core.display.Markdown object>"
      ]
     },
     "metadata": {},
     "output_type": "display_data"
    },
    {
     "data": {
      "text/markdown": [
       "<span style=\"font-size:11pt\">Eval-Settings: metric: <span style=\"color: #0000ff\">accuracy</span>, type: <span style=\"color: #0000ff\">one-vs-rest</span>, DT-Depth: <span style=\"color: #0000ff\">1</span>, train-test-split:<span style=\"color: #0000ff\"> 33.0% in test-set </span></span>"
      ],
      "text/plain": [
       "<IPython.core.display.Markdown object>"
      ]
     },
     "metadata": {},
     "output_type": "display_data"
    },
    {
     "data": {
      "text/markdown": [
       "<span style=\"font-size:11pt\">Per-Class-Scores: stream,lake: 0.53, spot,building,farm: 0.69, road,railroad: 0.41, undersea: 0.33, forest,heath: 0.84, mountain,hill,rock: 0.53, parks,area: 0.26</span>"
      ],
      "text/plain": [
       "<IPython.core.display.Markdown object>"
      ]
     },
     "metadata": {},
     "output_type": "display_data"
    },
    {
     "data": {
      "text/markdown": [
       "<span style=\"font-size:11pt\">Unweighted Mean accuracy: 51.34%</span>"
      ],
      "text/plain": [
       "<IPython.core.display.Markdown object>"
      ]
     },
     "metadata": {},
     "output_type": "display_data"
    },
    {
     "data": {
      "text/markdown": [
       "<span style=\"font-size:11pt\">Weighted Mean accuracy: 57.45%</span>"
      ],
      "text/plain": [
       "<IPython.core.display.Markdown object>"
      ]
     },
     "metadata": {},
     "output_type": "display_data"
    },
    {
     "data": {
      "text/markdown": [
       "<span style=\"font-size:11pt\">====================================================================================================</span>"
      ],
      "text/plain": [
       "<IPython.core.display.Markdown object>"
      ]
     },
     "metadata": {},
     "output_type": "display_data"
    },
    {
     "data": {
      "text/markdown": [
       "<span style=\"font-size:11pt\">Using classes from Geonames - 403/1383 entities have a class</span>"
      ],
      "text/plain": [
       "<IPython.core.display.Markdown object>"
      ]
     },
     "metadata": {},
     "output_type": "display_data"
    },
    {
     "data": {
      "text/markdown": [
       "<span style=\"font-size:11pt\">Labels (7 classes): <span style=\"color: #0000ff\">spot,building,farm</span>: 176, <span style=\"color: #0000ff\">stream,lake</span>: 74, <span style=\"color: #0000ff\">road,railroad</span>: 16, <span style=\"color: #0000ff\">parks,area</span>: 28, <span style=\"color: #0000ff\">undersea</span>: 27, <span style=\"color: #0000ff\">mountain,hill,rock</span>: 68, <span style=\"color: #0000ff\">forest,heath</span>: 14</span>"
      ],
      "text/plain": [
       "<IPython.core.display.Markdown object>"
      ]
     },
     "metadata": {},
     "output_type": "display_data"
    },
    {
     "data": {
      "text/markdown": [
       "<span style=\"font-size:11pt\">Eval-Settings: metric: <span style=\"color: #0000ff\">f1</span>, type: <span style=\"color: #0000ff\">one-vs-rest</span>, DT-Depth: <span style=\"color: #0000ff\">1</span>, train-test-split:<span style=\"color: #0000ff\"> 33.0% in test-set </span></span>"
      ],
      "text/plain": [
       "<IPython.core.display.Markdown object>"
      ]
     },
     "metadata": {},
     "output_type": "display_data"
    },
    {
     "data": {
      "text/markdown": [
       "<span style=\"font-size:11pt\">Per-Class-Scores: stream,lake: 0.47, spot,building,farm: 0.68, road,railroad: 0.03, undersea: 0.15, forest,heath: 0.15, mountain,hill,rock: 0.31, parks,area: 0.19</span>"
      ],
      "text/plain": [
       "<IPython.core.display.Markdown object>"
      ]
     },
     "metadata": {},
     "output_type": "display_data"
    },
    {
     "data": {
      "text/markdown": [
       "<span style=\"font-size:11pt\">Unweighted Mean f1: 27.98%</span>"
      ],
      "text/plain": [
       "<IPython.core.display.Markdown object>"
      ]
     },
     "metadata": {},
     "output_type": "display_data"
    },
    {
     "data": {
      "text/markdown": [
       "<span style=\"font-size:11pt\">Weighted Mean f1: 46.21%</span>"
      ],
      "text/plain": [
       "<IPython.core.display.Markdown object>"
      ]
     },
     "metadata": {},
     "output_type": "display_data"
    },
    {
     "data": {
      "text/markdown": [
       "<span style=\"font-size:11pt\">====================================================================================================</span>"
      ],
      "text/plain": [
       "<IPython.core.display.Markdown object>"
      ]
     },
     "metadata": {},
     "output_type": "display_data"
    },
    {
     "data": {
      "text/markdown": [
       "<span style=\"font-size:11pt\">Using classes from Geonames - 403/1383 entities have a class</span>"
      ],
      "text/plain": [
       "<IPython.core.display.Markdown object>"
      ]
     },
     "metadata": {},
     "output_type": "display_data"
    },
    {
     "data": {
      "text/markdown": [
       "<span style=\"font-size:11pt\">Labels (7 classes): <span style=\"color: #0000ff\">spot,building,farm</span>: 176, <span style=\"color: #0000ff\">stream,lake</span>: 74, <span style=\"color: #0000ff\">road,railroad</span>: 16, <span style=\"color: #0000ff\">parks,area</span>: 28, <span style=\"color: #0000ff\">undersea</span>: 27, <span style=\"color: #0000ff\">mountain,hill,rock</span>: 68, <span style=\"color: #0000ff\">forest,heath</span>: 14</span>"
      ],
      "text/plain": [
       "<IPython.core.display.Markdown object>"
      ]
     },
     "metadata": {},
     "output_type": "display_data"
    },
    {
     "data": {
      "text/markdown": [
       "<span style=\"font-size:11pt\">Eval-Settings: metric: <span style=\"color: #0000ff\">accuracy</span>, type: <span style=\"color: #0000ff\">one-vs-rest</span>, DT-Depth: <span style=\"color: #0000ff\">1</span>, train-test-split:<span style=\"color: #0000ff\"> 33.0% in test-set </span></span>"
      ],
      "text/plain": [
       "<IPython.core.display.Markdown object>"
      ]
     },
     "metadata": {},
     "output_type": "display_data"
    },
    {
     "data": {
      "text/markdown": [
       "<span style=\"font-size:11pt\">Per-Class-Scores: stream,lake: 0.77, spot,building,farm: 0.70, road,railroad: 0.98, undersea: 0.91, forest,heath: 0.96, mountain,hill,rock: 0.80, parks,area: 0.93</span>"
      ],
      "text/plain": [
       "<IPython.core.display.Markdown object>"
      ]
     },
     "metadata": {},
     "output_type": "display_data"
    },
    {
     "data": {
      "text/markdown": [
       "<span style=\"font-size:11pt\">Unweighted Mean accuracy: 86.57%</span>"
      ],
      "text/plain": [
       "<IPython.core.display.Markdown object>"
      ]
     },
     "metadata": {},
     "output_type": "display_data"
    },
    {
     "data": {
      "text/markdown": [
       "<span style=\"font-size:11pt\">Weighted Mean accuracy: 78.13%</span>"
      ],
      "text/plain": [
       "<IPython.core.display.Markdown object>"
      ]
     },
     "metadata": {},
     "output_type": "display_data"
    },
    {
     "data": {
      "text/markdown": [
       "<span style=\"font-size:11pt\">====================================================================================================</span>"
      ],
      "text/plain": [
       "<IPython.core.display.Markdown object>"
      ]
     },
     "metadata": {},
     "output_type": "display_data"
    },
    {
     "data": {
      "text/markdown": [
       "<span style=\"font-size:11pt\">Using classes from Geonames - 403/1383 entities have a class</span>"
      ],
      "text/plain": [
       "<IPython.core.display.Markdown object>"
      ]
     },
     "metadata": {},
     "output_type": "display_data"
    },
    {
     "data": {
      "text/markdown": [
       "<span style=\"font-size:11pt\">Labels (7 classes): <span style=\"color: #0000ff\">spot,building,farm</span>: 176, <span style=\"color: #0000ff\">stream,lake</span>: 74, <span style=\"color: #0000ff\">road,railroad</span>: 16, <span style=\"color: #0000ff\">parks,area</span>: 28, <span style=\"color: #0000ff\">undersea</span>: 27, <span style=\"color: #0000ff\">mountain,hill,rock</span>: 68, <span style=\"color: #0000ff\">forest,heath</span>: 14</span>"
      ],
      "text/plain": [
       "<IPython.core.display.Markdown object>"
      ]
     },
     "metadata": {},
     "output_type": "display_data"
    },
    {
     "data": {
      "text/markdown": [
       "<span style=\"font-size:11pt\">Eval-Settings: metric: <span style=\"color: #0000ff\">f1</span>, type: <span style=\"color: #0000ff\">one-vs-rest</span>, DT-Depth: <span style=\"color: #0000ff\">1</span>, train-test-split:<span style=\"color: #0000ff\"> 33.0% in test-set </span></span>"
      ],
      "text/plain": [
       "<IPython.core.display.Markdown object>"
      ]
     },
     "metadata": {},
     "output_type": "display_data"
    },
    {
     "data": {
      "text/markdown": [
       "<span style=\"font-size:11pt\">Per-Class-Scores: stream,lake: 0.00, spot,building,farm: 0.68, road,railroad: 0.00, undersea: 0.00, forest,heath: 0.00, mountain,hill,rock: 0.00, parks,area: 0.00</span>"
      ],
      "text/plain": [
       "<IPython.core.display.Markdown object>"
      ]
     },
     "metadata": {},
     "output_type": "display_data"
    },
    {
     "data": {
      "text/markdown": [
       "<span style=\"font-size:11pt\">Unweighted Mean f1: 9.75%</span>"
      ],
      "text/plain": [
       "<IPython.core.display.Markdown object>"
      ]
     },
     "metadata": {},
     "output_type": "display_data"
    },
    {
     "data": {
      "text/markdown": [
       "<span style=\"font-size:11pt\">Weighted Mean f1: 29.79%</span>"
      ],
      "text/plain": [
       "<IPython.core.display.Markdown object>"
      ]
     },
     "metadata": {},
     "output_type": "display_data"
    },
    {
     "data": {
      "text/markdown": [
       "<span style=\"font-size:11pt\">====================================================================================================</span>"
      ],
      "text/plain": [
       "<IPython.core.display.Markdown object>"
      ]
     },
     "metadata": {},
     "output_type": "display_data"
    },
    {
     "data": {
      "text/markdown": [
       "<span style=\"font-size:11pt\">Using classes from Geonames - 403/1383 entities have a class</span>"
      ],
      "text/plain": [
       "<IPython.core.display.Markdown object>"
      ]
     },
     "metadata": {},
     "output_type": "display_data"
    },
    {
     "data": {
      "text/markdown": [
       "<span style=\"font-size:11pt\">Labels (7 classes): <span style=\"color: #0000ff\">spot,building,farm</span>: 176, <span style=\"color: #0000ff\">stream,lake</span>: 74, <span style=\"color: #0000ff\">road,railroad</span>: 16, <span style=\"color: #0000ff\">parks,area</span>: 28, <span style=\"color: #0000ff\">undersea</span>: 27, <span style=\"color: #0000ff\">mountain,hill,rock</span>: 68, <span style=\"color: #0000ff\">forest,heath</span>: 14</span>"
      ],
      "text/plain": [
       "<IPython.core.display.Markdown object>"
      ]
     },
     "metadata": {},
     "output_type": "display_data"
    },
    {
     "data": {
      "text/markdown": [
       "<span style=\"font-size:11pt\">Eval-Settings: metric: <span style=\"color: #0000ff\">accuracy</span>, type: <span style=\"color: #0000ff\">one-vs-rest</span>, DT-Depth: <span style=\"color: #0000ff\">2</span>, train-test-split:<span style=\"color: #0000ff\"> 33.0% in test-set </span></span>"
      ],
      "text/plain": [
       "<IPython.core.display.Markdown object>"
      ]
     },
     "metadata": {},
     "output_type": "display_data"
    },
    {
     "data": {
      "text/markdown": [
       "<span style=\"font-size:11pt\">Per-Class-Scores: stream,lake: 0.71, spot,building,farm: 0.77, road,railroad: 0.76, undersea: 0.67, forest,heath: 0.73, mountain,hill,rock: 0.54, parks,area: 0.25</span>"
      ],
      "text/plain": [
       "<IPython.core.display.Markdown object>"
      ]
     },
     "metadata": {},
     "output_type": "display_data"
    },
    {
     "data": {
      "text/markdown": [
       "<span style=\"font-size:11pt\">Unweighted Mean accuracy: 63.27%</span>"
      ],
      "text/plain": [
       "<IPython.core.display.Markdown object>"
      ]
     },
     "metadata": {},
     "output_type": "display_data"
    },
    {
     "data": {
      "text/markdown": [
       "<span style=\"font-size:11pt\">Weighted Mean accuracy: 67.69%</span>"
      ],
      "text/plain": [
       "<IPython.core.display.Markdown object>"
      ]
     },
     "metadata": {},
     "output_type": "display_data"
    },
    {
     "data": {
      "text/markdown": [
       "<span style=\"font-size:11pt\">====================================================================================================</span>"
      ],
      "text/plain": [
       "<IPython.core.display.Markdown object>"
      ]
     },
     "metadata": {},
     "output_type": "display_data"
    },
    {
     "data": {
      "text/markdown": [
       "<span style=\"font-size:11pt\">Using classes from Geonames - 403/1383 entities have a class</span>"
      ],
      "text/plain": [
       "<IPython.core.display.Markdown object>"
      ]
     },
     "metadata": {},
     "output_type": "display_data"
    },
    {
     "data": {
      "text/markdown": [
       "<span style=\"font-size:11pt\">Labels (7 classes): <span style=\"color: #0000ff\">spot,building,farm</span>: 176, <span style=\"color: #0000ff\">stream,lake</span>: 74, <span style=\"color: #0000ff\">road,railroad</span>: 16, <span style=\"color: #0000ff\">parks,area</span>: 28, <span style=\"color: #0000ff\">undersea</span>: 27, <span style=\"color: #0000ff\">mountain,hill,rock</span>: 68, <span style=\"color: #0000ff\">forest,heath</span>: 14</span>"
      ],
      "text/plain": [
       "<IPython.core.display.Markdown object>"
      ]
     },
     "metadata": {},
     "output_type": "display_data"
    },
    {
     "data": {
      "text/markdown": [
       "<span style=\"font-size:11pt\">Eval-Settings: metric: <span style=\"color: #0000ff\">f1</span>, type: <span style=\"color: #0000ff\">one-vs-rest</span>, DT-Depth: <span style=\"color: #0000ff\">2</span>, train-test-split:<span style=\"color: #0000ff\"> 33.0% in test-set </span></span>"
      ],
      "text/plain": [
       "<IPython.core.display.Markdown object>"
      ]
     },
     "metadata": {},
     "output_type": "display_data"
    },
    {
     "data": {
      "text/markdown": [
       "<span style=\"font-size:11pt\">Per-Class-Scores: stream,lake: 0.43, spot,building,farm: 0.75, road,railroad: 0.13, undersea: 0.16, forest,heath: 0.03, mountain,hill,rock: 0.36, parks,area: 0.10</span>"
      ],
      "text/plain": [
       "<IPython.core.display.Markdown object>"
      ]
     },
     "metadata": {},
     "output_type": "display_data"
    },
    {
     "data": {
      "text/markdown": [
       "<span style=\"font-size:11pt\">Unweighted Mean f1: 28.06%</span>"
      ],
      "text/plain": [
       "<IPython.core.display.Markdown object>"
      ]
     },
     "metadata": {},
     "output_type": "display_data"
    },
    {
     "data": {
      "text/markdown": [
       "<span style=\"font-size:11pt\">Weighted Mean f1: 49.19%</span>"
      ],
      "text/plain": [
       "<IPython.core.display.Markdown object>"
      ]
     },
     "metadata": {},
     "output_type": "display_data"
    },
    {
     "data": {
      "text/markdown": [
       "<span style=\"font-size:11pt\">====================================================================================================</span>"
      ],
      "text/plain": [
       "<IPython.core.display.Markdown object>"
      ]
     },
     "metadata": {},
     "output_type": "display_data"
    },
    {
     "data": {
      "text/markdown": [
       "<span style=\"font-size:11pt\">Using classes from Geonames - 403/1383 entities have a class</span>"
      ],
      "text/plain": [
       "<IPython.core.display.Markdown object>"
      ]
     },
     "metadata": {},
     "output_type": "display_data"
    },
    {
     "data": {
      "text/markdown": [
       "<span style=\"font-size:11pt\">Labels (7 classes): <span style=\"color: #0000ff\">spot,building,farm</span>: 176, <span style=\"color: #0000ff\">stream,lake</span>: 74, <span style=\"color: #0000ff\">road,railroad</span>: 16, <span style=\"color: #0000ff\">parks,area</span>: 28, <span style=\"color: #0000ff\">undersea</span>: 27, <span style=\"color: #0000ff\">mountain,hill,rock</span>: 68, <span style=\"color: #0000ff\">forest,heath</span>: 14</span>"
      ],
      "text/plain": [
       "<IPython.core.display.Markdown object>"
      ]
     },
     "metadata": {},
     "output_type": "display_data"
    },
    {
     "data": {
      "text/markdown": [
       "<span style=\"font-size:11pt\">Eval-Settings: metric: <span style=\"color: #0000ff\">accuracy</span>, type: <span style=\"color: #0000ff\">one-vs-rest</span>, DT-Depth: <span style=\"color: #0000ff\">2</span>, train-test-split:<span style=\"color: #0000ff\"> 33.0% in test-set </span></span>"
      ],
      "text/plain": [
       "<IPython.core.display.Markdown object>"
      ]
     },
     "metadata": {},
     "output_type": "display_data"
    },
    {
     "data": {
      "text/markdown": [
       "<span style=\"font-size:11pt\">Per-Class-Scores: stream,lake: 0.78, spot,building,farm: 0.76, road,railroad: 0.95, undersea: 0.91, forest,heath: 0.95, mountain,hill,rock: 0.82, parks,area: 0.92</span>"
      ],
      "text/plain": [
       "<IPython.core.display.Markdown object>"
      ]
     },
     "metadata": {},
     "output_type": "display_data"
    },
    {
     "data": {
      "text/markdown": [
       "<span style=\"font-size:11pt\">Unweighted Mean accuracy: 87.11%</span>"
      ],
      "text/plain": [
       "<IPython.core.display.Markdown object>"
      ]
     },
     "metadata": {},
     "output_type": "display_data"
    },
    {
     "data": {
      "text/markdown": [
       "<span style=\"font-size:11pt\">Weighted Mean accuracy: 80.93%</span>"
      ],
      "text/plain": [
       "<IPython.core.display.Markdown object>"
      ]
     },
     "metadata": {},
     "output_type": "display_data"
    },
    {
     "data": {
      "text/markdown": [
       "<span style=\"font-size:11pt\">====================================================================================================</span>"
      ],
      "text/plain": [
       "<IPython.core.display.Markdown object>"
      ]
     },
     "metadata": {},
     "output_type": "display_data"
    },
    {
     "data": {
      "text/markdown": [
       "<span style=\"font-size:11pt\">Using classes from Geonames - 403/1383 entities have a class</span>"
      ],
      "text/plain": [
       "<IPython.core.display.Markdown object>"
      ]
     },
     "metadata": {},
     "output_type": "display_data"
    },
    {
     "data": {
      "text/markdown": [
       "<span style=\"font-size:11pt\">Labels (7 classes): <span style=\"color: #0000ff\">spot,building,farm</span>: 176, <span style=\"color: #0000ff\">stream,lake</span>: 74, <span style=\"color: #0000ff\">road,railroad</span>: 16, <span style=\"color: #0000ff\">parks,area</span>: 28, <span style=\"color: #0000ff\">undersea</span>: 27, <span style=\"color: #0000ff\">mountain,hill,rock</span>: 68, <span style=\"color: #0000ff\">forest,heath</span>: 14</span>"
      ],
      "text/plain": [
       "<IPython.core.display.Markdown object>"
      ]
     },
     "metadata": {},
     "output_type": "display_data"
    },
    {
     "data": {
      "text/markdown": [
       "<span style=\"font-size:11pt\">Eval-Settings: metric: <span style=\"color: #0000ff\">f1</span>, type: <span style=\"color: #0000ff\">one-vs-rest</span>, DT-Depth: <span style=\"color: #0000ff\">2</span>, train-test-split:<span style=\"color: #0000ff\"> 33.0% in test-set </span></span>"
      ],
      "text/plain": [
       "<IPython.core.display.Markdown object>"
      ]
     },
     "metadata": {},
     "output_type": "display_data"
    },
    {
     "data": {
      "text/markdown": [
       "<span style=\"font-size:11pt\">Per-Class-Scores: stream,lake: 0.18, spot,building,farm: 0.70, road,railroad: 0.00, undersea: 0.00, forest,heath: 0.00, mountain,hill,rock: 0.00, parks,area: 0.00</span>"
      ],
      "text/plain": [
       "<IPython.core.display.Markdown object>"
      ]
     },
     "metadata": {},
     "output_type": "display_data"
    },
    {
     "data": {
      "text/markdown": [
       "<span style=\"font-size:11pt\">Unweighted Mean f1: 12.56%</span>"
      ],
      "text/plain": [
       "<IPython.core.display.Markdown object>"
      ]
     },
     "metadata": {},
     "output_type": "display_data"
    },
    {
     "data": {
      "text/markdown": [
       "<span style=\"font-size:11pt\">Weighted Mean f1: 33.93%</span>"
      ],
      "text/plain": [
       "<IPython.core.display.Markdown object>"
      ]
     },
     "metadata": {},
     "output_type": "display_data"
    },
    {
     "data": {
      "text/markdown": [
       "<span style=\"font-size:11pt\">====================================================================================================</span>"
      ],
      "text/plain": [
       "<IPython.core.display.Markdown object>"
      ]
     },
     "metadata": {},
     "output_type": "display_data"
    },
    {
     "data": {
      "text/markdown": [
       "<span style=\"font-size:11pt\">Using classes from Geonames - 403/1383 entities have a class</span>"
      ],
      "text/plain": [
       "<IPython.core.display.Markdown object>"
      ]
     },
     "metadata": {},
     "output_type": "display_data"
    },
    {
     "data": {
      "text/markdown": [
       "<span style=\"font-size:11pt\">Labels (7 classes): <span style=\"color: #0000ff\">spot,building,farm</span>: 176, <span style=\"color: #0000ff\">stream,lake</span>: 74, <span style=\"color: #0000ff\">road,railroad</span>: 16, <span style=\"color: #0000ff\">parks,area</span>: 28, <span style=\"color: #0000ff\">undersea</span>: 27, <span style=\"color: #0000ff\">mountain,hill,rock</span>: 68, <span style=\"color: #0000ff\">forest,heath</span>: 14</span>"
      ],
      "text/plain": [
       "<IPython.core.display.Markdown object>"
      ]
     },
     "metadata": {},
     "output_type": "display_data"
    },
    {
     "data": {
      "text/markdown": [
       "<span style=\"font-size:11pt\">Eval-Settings: metric: <span style=\"color: #0000ff\">accuracy</span>, type: <span style=\"color: #0000ff\">one-vs-rest</span>, DT-Depth: <span style=\"color: #0000ff\">3</span>, train-test-split:<span style=\"color: #0000ff\"> 33.0% in test-set </span></span>"
      ],
      "text/plain": [
       "<IPython.core.display.Markdown object>"
      ]
     },
     "metadata": {},
     "output_type": "display_data"
    },
    {
     "data": {
      "text/markdown": [
       "<span style=\"font-size:11pt\">Per-Class-Scores: stream,lake: 0.65, spot,building,farm: 0.77, road,railroad: 0.74, undersea: 0.61, forest,heath: 0.92, mountain,hill,rock: 0.65, parks,area: 0.37</span>"
      ],
      "text/plain": [
       "<IPython.core.display.Markdown object>"
      ]
     },
     "metadata": {},
     "output_type": "display_data"
    },
    {
     "data": {
      "text/markdown": [
       "<span style=\"font-size:11pt\">Unweighted Mean accuracy: 67.35%</span>"
      ],
      "text/plain": [
       "<IPython.core.display.Markdown object>"
      ]
     },
     "metadata": {},
     "output_type": "display_data"
    },
    {
     "data": {
      "text/markdown": [
       "<span style=\"font-size:11pt\">Weighted Mean accuracy: 69.22%</span>"
      ],
      "text/plain": [
       "<IPython.core.display.Markdown object>"
      ]
     },
     "metadata": {},
     "output_type": "display_data"
    },
    {
     "data": {
      "text/markdown": [
       "<span style=\"font-size:11pt\">====================================================================================================</span>"
      ],
      "text/plain": [
       "<IPython.core.display.Markdown object>"
      ]
     },
     "metadata": {},
     "output_type": "display_data"
    },
    {
     "data": {
      "text/markdown": [
       "<span style=\"font-size:11pt\">Using classes from Geonames - 403/1383 entities have a class</span>"
      ],
      "text/plain": [
       "<IPython.core.display.Markdown object>"
      ]
     },
     "metadata": {},
     "output_type": "display_data"
    },
    {
     "data": {
      "text/markdown": [
       "<span style=\"font-size:11pt\">Labels (7 classes): <span style=\"color: #0000ff\">spot,building,farm</span>: 176, <span style=\"color: #0000ff\">stream,lake</span>: 74, <span style=\"color: #0000ff\">road,railroad</span>: 16, <span style=\"color: #0000ff\">parks,area</span>: 28, <span style=\"color: #0000ff\">undersea</span>: 27, <span style=\"color: #0000ff\">mountain,hill,rock</span>: 68, <span style=\"color: #0000ff\">forest,heath</span>: 14</span>"
      ],
      "text/plain": [
       "<IPython.core.display.Markdown object>"
      ]
     },
     "metadata": {},
     "output_type": "display_data"
    },
    {
     "data": {
      "text/markdown": [
       "<span style=\"font-size:11pt\">Eval-Settings: metric: <span style=\"color: #0000ff\">f1</span>, type: <span style=\"color: #0000ff\">one-vs-rest</span>, DT-Depth: <span style=\"color: #0000ff\">3</span>, train-test-split:<span style=\"color: #0000ff\"> 33.0% in test-set </span></span>"
      ],
      "text/plain": [
       "<IPython.core.display.Markdown object>"
      ]
     },
     "metadata": {},
     "output_type": "display_data"
    },
    {
     "data": {
      "text/markdown": [
       "<span style=\"font-size:11pt\">Per-Class-Scores: stream,lake: 0.38, spot,building,farm: 0.73, road,railroad: 0.28, undersea: 0.18, forest,heath: 0.10, mountain,hill,rock: 0.33, parks,area: 0.13</span>"
      ],
      "text/plain": [
       "<IPython.core.display.Markdown object>"
      ]
     },
     "metadata": {},
     "output_type": "display_data"
    },
    {
     "data": {
      "text/markdown": [
       "<span style=\"font-size:11pt\">Unweighted Mean f1: 30.32%</span>"
      ],
      "text/plain": [
       "<IPython.core.display.Markdown object>"
      ]
     },
     "metadata": {},
     "output_type": "display_data"
    },
    {
     "data": {
      "text/markdown": [
       "<span style=\"font-size:11pt\">Weighted Mean f1: 47.88%</span>"
      ],
      "text/plain": [
       "<IPython.core.display.Markdown object>"
      ]
     },
     "metadata": {},
     "output_type": "display_data"
    },
    {
     "data": {
      "text/markdown": [
       "<span style=\"font-size:11pt\">====================================================================================================</span>"
      ],
      "text/plain": [
       "<IPython.core.display.Markdown object>"
      ]
     },
     "metadata": {},
     "output_type": "display_data"
    },
    {
     "data": {
      "text/markdown": [
       "<span style=\"font-size:11pt\">Using classes from Geonames - 403/1383 entities have a class</span>"
      ],
      "text/plain": [
       "<IPython.core.display.Markdown object>"
      ]
     },
     "metadata": {},
     "output_type": "display_data"
    },
    {
     "data": {
      "text/markdown": [
       "<span style=\"font-size:11pt\">Labels (7 classes): <span style=\"color: #0000ff\">spot,building,farm</span>: 176, <span style=\"color: #0000ff\">stream,lake</span>: 74, <span style=\"color: #0000ff\">road,railroad</span>: 16, <span style=\"color: #0000ff\">parks,area</span>: 28, <span style=\"color: #0000ff\">undersea</span>: 27, <span style=\"color: #0000ff\">mountain,hill,rock</span>: 68, <span style=\"color: #0000ff\">forest,heath</span>: 14</span>"
      ],
      "text/plain": [
       "<IPython.core.display.Markdown object>"
      ]
     },
     "metadata": {},
     "output_type": "display_data"
    },
    {
     "data": {
      "text/markdown": [
       "<span style=\"font-size:11pt\">Eval-Settings: metric: <span style=\"color: #0000ff\">accuracy</span>, type: <span style=\"color: #0000ff\">one-vs-rest</span>, DT-Depth: <span style=\"color: #0000ff\">3</span>, train-test-split:<span style=\"color: #0000ff\"> 33.0% in test-set </span></span>"
      ],
      "text/plain": [
       "<IPython.core.display.Markdown object>"
      ]
     },
     "metadata": {},
     "output_type": "display_data"
    },
    {
     "data": {
      "text/markdown": [
       "<span style=\"font-size:11pt\">Per-Class-Scores: stream,lake: 0.81, spot,building,farm: 0.69, road,railroad: 0.95, undersea: 0.92, forest,heath: 0.95, mountain,hill,rock: 0.80, parks,area: 0.94</span>"
      ],
      "text/plain": [
       "<IPython.core.display.Markdown object>"
      ]
     },
     "metadata": {},
     "output_type": "display_data"
    },
    {
     "data": {
      "text/markdown": [
       "<span style=\"font-size:11pt\">Unweighted Mean accuracy: 86.47%</span>"
      ],
      "text/plain": [
       "<IPython.core.display.Markdown object>"
      ]
     },
     "metadata": {},
     "output_type": "display_data"
    },
    {
     "data": {
      "text/markdown": [
       "<span style=\"font-size:11pt\">Weighted Mean accuracy: 78.30%</span>"
      ],
      "text/plain": [
       "<IPython.core.display.Markdown object>"
      ]
     },
     "metadata": {},
     "output_type": "display_data"
    },
    {
     "data": {
      "text/markdown": [
       "<span style=\"font-size:11pt\">====================================================================================================</span>"
      ],
      "text/plain": [
       "<IPython.core.display.Markdown object>"
      ]
     },
     "metadata": {},
     "output_type": "display_data"
    },
    {
     "data": {
      "text/markdown": [
       "<span style=\"font-size:11pt\">Using classes from Geonames - 403/1383 entities have a class</span>"
      ],
      "text/plain": [
       "<IPython.core.display.Markdown object>"
      ]
     },
     "metadata": {},
     "output_type": "display_data"
    },
    {
     "data": {
      "text/markdown": [
       "<span style=\"font-size:11pt\">Labels (7 classes): <span style=\"color: #0000ff\">spot,building,farm</span>: 176, <span style=\"color: #0000ff\">stream,lake</span>: 74, <span style=\"color: #0000ff\">road,railroad</span>: 16, <span style=\"color: #0000ff\">parks,area</span>: 28, <span style=\"color: #0000ff\">undersea</span>: 27, <span style=\"color: #0000ff\">mountain,hill,rock</span>: 68, <span style=\"color: #0000ff\">forest,heath</span>: 14</span>"
      ],
      "text/plain": [
       "<IPython.core.display.Markdown object>"
      ]
     },
     "metadata": {},
     "output_type": "display_data"
    },
    {
     "data": {
      "text/markdown": [
       "<span style=\"font-size:11pt\">Eval-Settings: metric: <span style=\"color: #0000ff\">f1</span>, type: <span style=\"color: #0000ff\">one-vs-rest</span>, DT-Depth: <span style=\"color: #0000ff\">3</span>, train-test-split:<span style=\"color: #0000ff\"> 33.0% in test-set </span></span>"
      ],
      "text/plain": [
       "<IPython.core.display.Markdown object>"
      ]
     },
     "metadata": {},
     "output_type": "display_data"
    },
    {
     "data": {
      "text/markdown": [
       "<span style=\"font-size:11pt\">Per-Class-Scores: stream,lake: 0.23, spot,building,farm: 0.73, road,railroad: 0.20, undersea: 0.00, forest,heath: 0.00, mountain,hill,rock: 0.00, parks,area: 0.00</span>"
      ],
      "text/plain": [
       "<IPython.core.display.Markdown object>"
      ]
     },
     "metadata": {},
     "output_type": "display_data"
    },
    {
     "data": {
      "text/markdown": [
       "<span style=\"font-size:11pt\">Unweighted Mean f1: 16.61%</span>"
      ],
      "text/plain": [
       "<IPython.core.display.Markdown object>"
      ]
     },
     "metadata": {},
     "output_type": "display_data"
    },
    {
     "data": {
      "text/markdown": [
       "<span style=\"font-size:11pt\">Weighted Mean f1: 37.04%</span>"
      ],
      "text/plain": [
       "<IPython.core.display.Markdown object>"
      ]
     },
     "metadata": {},
     "output_type": "display_data"
    },
    {
     "data": {
      "text/markdown": [
       "<span style=\"font-size:11pt\">====================================================================================================</span>"
      ],
      "text/plain": [
       "<IPython.core.display.Markdown object>"
      ]
     },
     "metadata": {},
     "output_type": "display_data"
    },
    {
     "data": {
      "text/markdown": [
       "<span style=\"font-size:11pt\">Using classes from Geonames - 403/1383 entities have a class</span>"
      ],
      "text/plain": [
       "<IPython.core.display.Markdown object>"
      ]
     },
     "metadata": {},
     "output_type": "display_data"
    },
    {
     "data": {
      "text/markdown": [
       "<span style=\"font-size:11pt\">Labels (7 classes): <span style=\"color: #0000ff\">spot,building,farm</span>: 176, <span style=\"color: #0000ff\">stream,lake</span>: 74, <span style=\"color: #0000ff\">road,railroad</span>: 16, <span style=\"color: #0000ff\">parks,area</span>: 28, <span style=\"color: #0000ff\">undersea</span>: 27, <span style=\"color: #0000ff\">mountain,hill,rock</span>: 68, <span style=\"color: #0000ff\">forest,heath</span>: 14</span>"
      ],
      "text/plain": [
       "<IPython.core.display.Markdown object>"
      ]
     },
     "metadata": {},
     "output_type": "display_data"
    },
    {
     "data": {
      "text/markdown": [
       "<span style=\"font-size:11pt\">Eval-Settings: metric: <span style=\"color: #0000ff\">accuracy</span>, type: <span style=\"color: #0000ff\">one-vs-rest</span>, DT-Depth: <span style=\"color: #0000ff\">None</span>, train-test-split:<span style=\"color: #0000ff\"> 33.0% in test-set </span></span>"
      ],
      "text/plain": [
       "<IPython.core.display.Markdown object>"
      ]
     },
     "metadata": {},
     "output_type": "display_data"
    },
    {
     "data": {
      "text/markdown": [
       "<span style=\"font-size:11pt\">Per-Class-Scores: stream,lake: 0.75, spot,building,farm: 0.77, road,railroad: 0.92, undersea: 0.89, forest,heath: 0.94, mountain,hill,rock: 0.71, parks,area: 0.89</span>"
      ],
      "text/plain": [
       "<IPython.core.display.Markdown object>"
      ]
     },
     "metadata": {},
     "output_type": "display_data"
    },
    {
     "data": {
      "text/markdown": [
       "<span style=\"font-size:11pt\">Unweighted Mean accuracy: 83.78%</span>"
      ],
      "text/plain": [
       "<IPython.core.display.Markdown object>"
      ]
     },
     "metadata": {},
     "output_type": "display_data"
    },
    {
     "data": {
      "text/markdown": [
       "<span style=\"font-size:11pt\">Weighted Mean accuracy: 78.37%</span>"
      ],
      "text/plain": [
       "<IPython.core.display.Markdown object>"
      ]
     },
     "metadata": {},
     "output_type": "display_data"
    },
    {
     "data": {
      "text/markdown": [
       "<span style=\"font-size:11pt\">====================================================================================================</span>"
      ],
      "text/plain": [
       "<IPython.core.display.Markdown object>"
      ]
     },
     "metadata": {},
     "output_type": "display_data"
    },
    {
     "data": {
      "text/markdown": [
       "<span style=\"font-size:11pt\">Using classes from Geonames - 403/1383 entities have a class</span>"
      ],
      "text/plain": [
       "<IPython.core.display.Markdown object>"
      ]
     },
     "metadata": {},
     "output_type": "display_data"
    },
    {
     "data": {
      "text/markdown": [
       "<span style=\"font-size:11pt\">Labels (7 classes): <span style=\"color: #0000ff\">spot,building,farm</span>: 176, <span style=\"color: #0000ff\">stream,lake</span>: 74, <span style=\"color: #0000ff\">road,railroad</span>: 16, <span style=\"color: #0000ff\">parks,area</span>: 28, <span style=\"color: #0000ff\">undersea</span>: 27, <span style=\"color: #0000ff\">mountain,hill,rock</span>: 68, <span style=\"color: #0000ff\">forest,heath</span>: 14</span>"
      ],
      "text/plain": [
       "<IPython.core.display.Markdown object>"
      ]
     },
     "metadata": {},
     "output_type": "display_data"
    },
    {
     "data": {
      "text/markdown": [
       "<span style=\"font-size:11pt\">Eval-Settings: metric: <span style=\"color: #0000ff\">f1</span>, type: <span style=\"color: #0000ff\">one-vs-rest</span>, DT-Depth: <span style=\"color: #0000ff\">None</span>, train-test-split:<span style=\"color: #0000ff\"> 33.0% in test-set </span></span>"
      ],
      "text/plain": [
       "<IPython.core.display.Markdown object>"
      ]
     },
     "metadata": {},
     "output_type": "display_data"
    },
    {
     "data": {
      "text/markdown": [
       "<span style=\"font-size:11pt\">Per-Class-Scores: stream,lake: 0.33, spot,building,farm: 0.77, road,railroad: 0.00, undersea: 0.00, forest,heath: 0.25, mountain,hill,rock: 0.23, parks,area: 0.00</span>"
      ],
      "text/plain": [
       "<IPython.core.display.Markdown object>"
      ]
     },
     "metadata": {},
     "output_type": "display_data"
    },
    {
     "data": {
      "text/markdown": [
       "<span style=\"font-size:11pt\">Unweighted Mean f1: 22.55%</span>"
      ],
      "text/plain": [
       "<IPython.core.display.Markdown object>"
      ]
     },
     "metadata": {},
     "output_type": "display_data"
    },
    {
     "data": {
      "text/markdown": [
       "<span style=\"font-size:11pt\">Weighted Mean f1: 44.36%</span>"
      ],
      "text/plain": [
       "<IPython.core.display.Markdown object>"
      ]
     },
     "metadata": {},
     "output_type": "display_data"
    },
    {
     "data": {
      "text/markdown": [
       "<span style=\"font-size:11pt\">====================================================================================================</span>"
      ],
      "text/plain": [
       "<IPython.core.display.Markdown object>"
      ]
     },
     "metadata": {},
     "output_type": "display_data"
    },
    {
     "data": {
      "text/markdown": [
       "<span style=\"font-size:11pt\">Using classes from Geonames - 403/1383 entities have a class</span>"
      ],
      "text/plain": [
       "<IPython.core.display.Markdown object>"
      ]
     },
     "metadata": {},
     "output_type": "display_data"
    },
    {
     "data": {
      "text/markdown": [
       "<span style=\"font-size:11pt\">Labels (7 classes): <span style=\"color: #0000ff\">spot,building,farm</span>: 176, <span style=\"color: #0000ff\">stream,lake</span>: 74, <span style=\"color: #0000ff\">road,railroad</span>: 16, <span style=\"color: #0000ff\">parks,area</span>: 28, <span style=\"color: #0000ff\">undersea</span>: 27, <span style=\"color: #0000ff\">mountain,hill,rock</span>: 68, <span style=\"color: #0000ff\">forest,heath</span>: 14</span>"
      ],
      "text/plain": [
       "<IPython.core.display.Markdown object>"
      ]
     },
     "metadata": {},
     "output_type": "display_data"
    },
    {
     "data": {
      "text/markdown": [
       "<span style=\"font-size:11pt\">Eval-Settings: metric: <span style=\"color: #0000ff\">accuracy</span>, type: <span style=\"color: #0000ff\">one-vs-rest</span>, DT-Depth: <span style=\"color: #0000ff\">None</span>, train-test-split:<span style=\"color: #0000ff\"> 33.0% in test-set </span></span>"
      ],
      "text/plain": [
       "<IPython.core.display.Markdown object>"
      ]
     },
     "metadata": {},
     "output_type": "display_data"
    },
    {
     "data": {
      "text/markdown": [
       "<span style=\"font-size:11pt\">Per-Class-Scores: stream,lake: 0.73, spot,building,farm: 0.65, road,railroad: 0.93, undersea: 0.88, forest,heath: 0.95, mountain,hill,rock: 0.80, parks,area: 0.86</span>"
      ],
      "text/plain": [
       "<IPython.core.display.Markdown object>"
      ]
     },
     "metadata": {},
     "output_type": "display_data"
    },
    {
     "data": {
      "text/markdown": [
       "<span style=\"font-size:11pt\">Unweighted Mean accuracy: 82.81%</span>"
      ],
      "text/plain": [
       "<IPython.core.display.Markdown object>"
      ]
     },
     "metadata": {},
     "output_type": "display_data"
    },
    {
     "data": {
      "text/markdown": [
       "<span style=\"font-size:11pt\">Weighted Mean accuracy: 73.95%</span>"
      ],
      "text/plain": [
       "<IPython.core.display.Markdown object>"
      ]
     },
     "metadata": {},
     "output_type": "display_data"
    },
    {
     "data": {
      "text/markdown": [
       "<span style=\"font-size:11pt\">====================================================================================================</span>"
      ],
      "text/plain": [
       "<IPython.core.display.Markdown object>"
      ]
     },
     "metadata": {},
     "output_type": "display_data"
    },
    {
     "data": {
      "text/markdown": [
       "<span style=\"font-size:11pt\">Using classes from Geonames - 403/1383 entities have a class</span>"
      ],
      "text/plain": [
       "<IPython.core.display.Markdown object>"
      ]
     },
     "metadata": {},
     "output_type": "display_data"
    },
    {
     "data": {
      "text/markdown": [
       "<span style=\"font-size:11pt\">Labels (7 classes): <span style=\"color: #0000ff\">spot,building,farm</span>: 176, <span style=\"color: #0000ff\">stream,lake</span>: 74, <span style=\"color: #0000ff\">road,railroad</span>: 16, <span style=\"color: #0000ff\">parks,area</span>: 28, <span style=\"color: #0000ff\">undersea</span>: 27, <span style=\"color: #0000ff\">mountain,hill,rock</span>: 68, <span style=\"color: #0000ff\">forest,heath</span>: 14</span>"
      ],
      "text/plain": [
       "<IPython.core.display.Markdown object>"
      ]
     },
     "metadata": {},
     "output_type": "display_data"
    },
    {
     "data": {
      "text/markdown": [
       "<span style=\"font-size:11pt\">Eval-Settings: metric: <span style=\"color: #0000ff\">f1</span>, type: <span style=\"color: #0000ff\">one-vs-rest</span>, DT-Depth: <span style=\"color: #0000ff\">None</span>, train-test-split:<span style=\"color: #0000ff\"> 33.0% in test-set </span></span>"
      ],
      "text/plain": [
       "<IPython.core.display.Markdown object>"
      ]
     },
     "metadata": {},
     "output_type": "display_data"
    },
    {
     "data": {
      "text/markdown": [
       "<span style=\"font-size:11pt\">Per-Class-Scores: stream,lake: 0.27, spot,building,farm: 0.61, road,railroad: 0.00, undersea: 0.00, forest,heath: 0.15, mountain,hill,rock: 0.26, parks,area: 0.15</span>"
      ],
      "text/plain": [
       "<IPython.core.display.Markdown object>"
      ]
     },
     "metadata": {},
     "output_type": "display_data"
    },
    {
     "data": {
      "text/markdown": [
       "<span style=\"font-size:11pt\">Unweighted Mean f1: 20.61%</span>"
      ],
      "text/plain": [
       "<IPython.core.display.Markdown object>"
      ]
     },
     "metadata": {},
     "output_type": "display_data"
    },
    {
     "data": {
      "text/markdown": [
       "<span style=\"font-size:11pt\">Weighted Mean f1: 37.38%</span>"
      ],
      "text/plain": [
       "<IPython.core.display.Markdown object>"
      ]
     },
     "metadata": {},
     "output_type": "display_data"
    },
    {
     "data": {
      "text/markdown": [
       "<span style=\"font-size:11pt\">====================================================================================================</span>"
      ],
      "text/plain": [
       "<IPython.core.display.Markdown object>"
      ]
     },
     "metadata": {},
     "output_type": "display_data"
    },
    {
     "data": {
      "text/markdown": [
       "<span style=\"font-size:11pt\">Using classes from Geonames - 403/1383 entities have a class</span>"
      ],
      "text/plain": [
       "<IPython.core.display.Markdown object>"
      ]
     },
     "metadata": {},
     "output_type": "display_data"
    },
    {
     "data": {
      "text/markdown": [
       "<span style=\"font-size:11pt\">Labels (7 classes): <span style=\"color: #0000ff\">spot,building,farm</span>: 176, <span style=\"color: #0000ff\">stream,lake</span>: 74, <span style=\"color: #0000ff\">road,railroad</span>: 16, <span style=\"color: #0000ff\">parks,area</span>: 28, <span style=\"color: #0000ff\">undersea</span>: 27, <span style=\"color: #0000ff\">mountain,hill,rock</span>: 68, <span style=\"color: #0000ff\">forest,heath</span>: 14</span>"
      ],
      "text/plain": [
       "<IPython.core.display.Markdown object>"
      ]
     },
     "metadata": {},
     "output_type": "display_data"
    },
    {
     "data": {
      "text/markdown": [
       "<span style=\"font-size:11pt\">Eval-Settings: metric: <span style=\"color: #0000ff\">accuracy</span>, type: <span style=\"color: #0000ff\">all-at-once</span>, DT-Depth: <span style=\"color: #0000ff\">1</span>, train-test-split:<span style=\"color: #0000ff\"> 33.0% in test-set </span></span>"
      ],
      "text/plain": [
       "<IPython.core.display.Markdown object>"
      ]
     },
     "metadata": {},
     "output_type": "display_data"
    },
    {
     "name": "stderr",
     "output_type": "stream",
     "text": [
      "derive_conceptualspace/evaluate/shallow_trees.py:141: UserWarning: There are more classes (7) than your decision-tree can possibly classify (2)\n"
     ]
    },
    {
     "data": {
      "text/markdown": [
       "<span style=\"font-size:11pt\">accuracy: 0.17</span>"
      ],
      "text/plain": [
       "<IPython.core.display.Markdown object>"
      ]
     },
     "metadata": {},
     "output_type": "display_data"
    },
    {
     "data": {
      "text/markdown": [
       "<span style=\"font-size:11pt\">Baseline accuracy: 0.44</span>"
      ],
      "text/plain": [
       "<IPython.core.display.Markdown object>"
      ]
     },
     "metadata": {},
     "output_type": "display_data"
    },
    {
     "data": {
      "text/markdown": [
       "<span style=\"font-size:11pt\">Maximally achievable accuracy: 0.62</span>"
      ],
      "text/plain": [
       "<IPython.core.display.Markdown object>"
      ]
     },
     "metadata": {},
     "output_type": "display_data"
    },
    {
     "data": {
      "text/markdown": [
       "<span style=\"font-size:11pt\">====================================================================================================</span>"
      ],
      "text/plain": [
       "<IPython.core.display.Markdown object>"
      ]
     },
     "metadata": {},
     "output_type": "display_data"
    },
    {
     "data": {
      "text/markdown": [
       "<span style=\"font-size:11pt\">Using classes from Geonames - 403/1383 entities have a class</span>"
      ],
      "text/plain": [
       "<IPython.core.display.Markdown object>"
      ]
     },
     "metadata": {},
     "output_type": "display_data"
    },
    {
     "data": {
      "text/markdown": [
       "<span style=\"font-size:11pt\">Labels (7 classes): <span style=\"color: #0000ff\">spot,building,farm</span>: 176, <span style=\"color: #0000ff\">stream,lake</span>: 74, <span style=\"color: #0000ff\">road,railroad</span>: 16, <span style=\"color: #0000ff\">parks,area</span>: 28, <span style=\"color: #0000ff\">undersea</span>: 27, <span style=\"color: #0000ff\">mountain,hill,rock</span>: 68, <span style=\"color: #0000ff\">forest,heath</span>: 14</span>"
      ],
      "text/plain": [
       "<IPython.core.display.Markdown object>"
      ]
     },
     "metadata": {},
     "output_type": "display_data"
    },
    {
     "data": {
      "text/markdown": [
       "<span style=\"font-size:11pt\">Eval-Settings: metric: <span style=\"color: #0000ff\">f1</span>, type: <span style=\"color: #0000ff\">all-at-once</span>, DT-Depth: <span style=\"color: #0000ff\">1</span>, train-test-split:<span style=\"color: #0000ff\"> 33.0% in test-set </span></span>"
      ],
      "text/plain": [
       "<IPython.core.display.Markdown object>"
      ]
     },
     "metadata": {},
     "output_type": "display_data"
    },
    {
     "name": "stderr",
     "output_type": "stream",
     "text": [
      "derive_conceptualspace/evaluate/shallow_trees.py:141: UserWarning: There are more classes (7) than your decision-tree can possibly classify (2)\n"
     ]
    },
    {
     "data": {
      "text/markdown": [
       "<span style=\"font-size:11pt\">f1: 0.19</span>"
      ],
      "text/plain": [
       "<IPython.core.display.Markdown object>"
      ]
     },
     "metadata": {},
     "output_type": "display_data"
    },
    {
     "data": {
      "text/markdown": [
       "<span style=\"font-size:11pt\">Baseline f1: 0.44</span>"
      ],
      "text/plain": [
       "<IPython.core.display.Markdown object>"
      ]
     },
     "metadata": {},
     "output_type": "display_data"
    },
    {
     "data": {
      "text/markdown": [
       "<span style=\"font-size:11pt\">====================================================================================================</span>"
      ],
      "text/plain": [
       "<IPython.core.display.Markdown object>"
      ]
     },
     "metadata": {},
     "output_type": "display_data"
    },
    {
     "data": {
      "text/markdown": [
       "<span style=\"font-size:11pt\">Using classes from Geonames - 403/1383 entities have a class</span>"
      ],
      "text/plain": [
       "<IPython.core.display.Markdown object>"
      ]
     },
     "metadata": {},
     "output_type": "display_data"
    },
    {
     "data": {
      "text/markdown": [
       "<span style=\"font-size:11pt\">Labels (7 classes): <span style=\"color: #0000ff\">spot,building,farm</span>: 176, <span style=\"color: #0000ff\">stream,lake</span>: 74, <span style=\"color: #0000ff\">road,railroad</span>: 16, <span style=\"color: #0000ff\">parks,area</span>: 28, <span style=\"color: #0000ff\">undersea</span>: 27, <span style=\"color: #0000ff\">mountain,hill,rock</span>: 68, <span style=\"color: #0000ff\">forest,heath</span>: 14</span>"
      ],
      "text/plain": [
       "<IPython.core.display.Markdown object>"
      ]
     },
     "metadata": {},
     "output_type": "display_data"
    },
    {
     "data": {
      "text/markdown": [
       "<span style=\"font-size:11pt\">Eval-Settings: metric: <span style=\"color: #0000ff\">accuracy</span>, type: <span style=\"color: #0000ff\">all-at-once</span>, DT-Depth: <span style=\"color: #0000ff\">1</span>, train-test-split:<span style=\"color: #0000ff\"> 33.0% in test-set </span></span>"
      ],
      "text/plain": [
       "<IPython.core.display.Markdown object>"
      ]
     },
     "metadata": {},
     "output_type": "display_data"
    },
    {
     "name": "stderr",
     "output_type": "stream",
     "text": [
      "derive_conceptualspace/evaluate/shallow_trees.py:141: UserWarning: There are more classes (7) than your decision-tree can possibly classify (2)\n"
     ]
    },
    {
     "data": {
      "text/markdown": [
       "<span style=\"font-size:11pt\">accuracy: 0.45</span>"
      ],
      "text/plain": [
       "<IPython.core.display.Markdown object>"
      ]
     },
     "metadata": {},
     "output_type": "display_data"
    },
    {
     "data": {
      "text/markdown": [
       "<span style=\"font-size:11pt\">Baseline accuracy: 0.44</span>"
      ],
      "text/plain": [
       "<IPython.core.display.Markdown object>"
      ]
     },
     "metadata": {},
     "output_type": "display_data"
    },
    {
     "data": {
      "text/markdown": [
       "<span style=\"font-size:11pt\">Maximally achievable accuracy: 0.62</span>"
      ],
      "text/plain": [
       "<IPython.core.display.Markdown object>"
      ]
     },
     "metadata": {},
     "output_type": "display_data"
    },
    {
     "data": {
      "text/markdown": [
       "<span style=\"font-size:11pt\">====================================================================================================</span>"
      ],
      "text/plain": [
       "<IPython.core.display.Markdown object>"
      ]
     },
     "metadata": {},
     "output_type": "display_data"
    },
    {
     "data": {
      "text/markdown": [
       "<span style=\"font-size:11pt\">Using classes from Geonames - 403/1383 entities have a class</span>"
      ],
      "text/plain": [
       "<IPython.core.display.Markdown object>"
      ]
     },
     "metadata": {},
     "output_type": "display_data"
    },
    {
     "data": {
      "text/markdown": [
       "<span style=\"font-size:11pt\">Labels (7 classes): <span style=\"color: #0000ff\">spot,building,farm</span>: 176, <span style=\"color: #0000ff\">stream,lake</span>: 74, <span style=\"color: #0000ff\">road,railroad</span>: 16, <span style=\"color: #0000ff\">parks,area</span>: 28, <span style=\"color: #0000ff\">undersea</span>: 27, <span style=\"color: #0000ff\">mountain,hill,rock</span>: 68, <span style=\"color: #0000ff\">forest,heath</span>: 14</span>"
      ],
      "text/plain": [
       "<IPython.core.display.Markdown object>"
      ]
     },
     "metadata": {},
     "output_type": "display_data"
    },
    {
     "data": {
      "text/markdown": [
       "<span style=\"font-size:11pt\">Eval-Settings: metric: <span style=\"color: #0000ff\">f1</span>, type: <span style=\"color: #0000ff\">all-at-once</span>, DT-Depth: <span style=\"color: #0000ff\">1</span>, train-test-split:<span style=\"color: #0000ff\"> 33.0% in test-set </span></span>"
      ],
      "text/plain": [
       "<IPython.core.display.Markdown object>"
      ]
     },
     "metadata": {},
     "output_type": "display_data"
    },
    {
     "name": "stderr",
     "output_type": "stream",
     "text": [
      "derive_conceptualspace/evaluate/shallow_trees.py:141: UserWarning: There are more classes (7) than your decision-tree can possibly classify (2)\n"
     ]
    },
    {
     "data": {
      "text/markdown": [
       "<span style=\"font-size:11pt\">f1: 0.47</span>"
      ],
      "text/plain": [
       "<IPython.core.display.Markdown object>"
      ]
     },
     "metadata": {},
     "output_type": "display_data"
    },
    {
     "data": {
      "text/markdown": [
       "<span style=\"font-size:11pt\">Baseline f1: 0.44</span>"
      ],
      "text/plain": [
       "<IPython.core.display.Markdown object>"
      ]
     },
     "metadata": {},
     "output_type": "display_data"
    },
    {
     "data": {
      "text/markdown": [
       "<span style=\"font-size:11pt\">====================================================================================================</span>"
      ],
      "text/plain": [
       "<IPython.core.display.Markdown object>"
      ]
     },
     "metadata": {},
     "output_type": "display_data"
    },
    {
     "data": {
      "text/markdown": [
       "<span style=\"font-size:11pt\">Using classes from Geonames - 403/1383 entities have a class</span>"
      ],
      "text/plain": [
       "<IPython.core.display.Markdown object>"
      ]
     },
     "metadata": {},
     "output_type": "display_data"
    },
    {
     "data": {
      "text/markdown": [
       "<span style=\"font-size:11pt\">Labels (7 classes): <span style=\"color: #0000ff\">spot,building,farm</span>: 176, <span style=\"color: #0000ff\">stream,lake</span>: 74, <span style=\"color: #0000ff\">road,railroad</span>: 16, <span style=\"color: #0000ff\">parks,area</span>: 28, <span style=\"color: #0000ff\">undersea</span>: 27, <span style=\"color: #0000ff\">mountain,hill,rock</span>: 68, <span style=\"color: #0000ff\">forest,heath</span>: 14</span>"
      ],
      "text/plain": [
       "<IPython.core.display.Markdown object>"
      ]
     },
     "metadata": {},
     "output_type": "display_data"
    },
    {
     "data": {
      "text/markdown": [
       "<span style=\"font-size:11pt\">Eval-Settings: metric: <span style=\"color: #0000ff\">accuracy</span>, type: <span style=\"color: #0000ff\">all-at-once</span>, DT-Depth: <span style=\"color: #0000ff\">2</span>, train-test-split:<span style=\"color: #0000ff\"> 33.0% in test-set </span></span>"
      ],
      "text/plain": [
       "<IPython.core.display.Markdown object>"
      ]
     },
     "metadata": {},
     "output_type": "display_data"
    },
    {
     "name": "stderr",
     "output_type": "stream",
     "text": [
      "derive_conceptualspace/evaluate/shallow_trees.py:141: UserWarning: There are more classes (7) than your decision-tree can possibly classify (4)\n"
     ]
    },
    {
     "data": {
      "text/markdown": [
       "<span style=\"font-size:11pt\">accuracy: 0.31</span>"
      ],
      "text/plain": [
       "<IPython.core.display.Markdown object>"
      ]
     },
     "metadata": {},
     "output_type": "display_data"
    },
    {
     "data": {
      "text/markdown": [
       "<span style=\"font-size:11pt\">====================================================================================================</span>"
      ],
      "text/plain": [
       "<IPython.core.display.Markdown object>"
      ]
     },
     "metadata": {},
     "output_type": "display_data"
    },
    {
     "data": {
      "text/markdown": [
       "<span style=\"font-size:11pt\">Using classes from Geonames - 403/1383 entities have a class</span>"
      ],
      "text/plain": [
       "<IPython.core.display.Markdown object>"
      ]
     },
     "metadata": {},
     "output_type": "display_data"
    },
    {
     "data": {
      "text/markdown": [
       "<span style=\"font-size:11pt\">Labels (7 classes): <span style=\"color: #0000ff\">spot,building,farm</span>: 176, <span style=\"color: #0000ff\">stream,lake</span>: 74, <span style=\"color: #0000ff\">road,railroad</span>: 16, <span style=\"color: #0000ff\">parks,area</span>: 28, <span style=\"color: #0000ff\">undersea</span>: 27, <span style=\"color: #0000ff\">mountain,hill,rock</span>: 68, <span style=\"color: #0000ff\">forest,heath</span>: 14</span>"
      ],
      "text/plain": [
       "<IPython.core.display.Markdown object>"
      ]
     },
     "metadata": {},
     "output_type": "display_data"
    },
    {
     "data": {
      "text/markdown": [
       "<span style=\"font-size:11pt\">Eval-Settings: metric: <span style=\"color: #0000ff\">f1</span>, type: <span style=\"color: #0000ff\">all-at-once</span>, DT-Depth: <span style=\"color: #0000ff\">2</span>, train-test-split:<span style=\"color: #0000ff\"> 33.0% in test-set </span></span>"
      ],
      "text/plain": [
       "<IPython.core.display.Markdown object>"
      ]
     },
     "metadata": {},
     "output_type": "display_data"
    },
    {
     "name": "stderr",
     "output_type": "stream",
     "text": [
      "derive_conceptualspace/evaluate/shallow_trees.py:141: UserWarning: There are more classes (7) than your decision-tree can possibly classify (4)\n"
     ]
    },
    {
     "data": {
      "text/markdown": [
       "<span style=\"font-size:11pt\">f1: 0.44</span>"
      ],
      "text/plain": [
       "<IPython.core.display.Markdown object>"
      ]
     },
     "metadata": {},
     "output_type": "display_data"
    },
    {
     "data": {
      "text/markdown": [
       "<span style=\"font-size:11pt\">====================================================================================================</span>"
      ],
      "text/plain": [
       "<IPython.core.display.Markdown object>"
      ]
     },
     "metadata": {},
     "output_type": "display_data"
    },
    {
     "data": {
      "text/markdown": [
       "<span style=\"font-size:11pt\">Using classes from Geonames - 403/1383 entities have a class</span>"
      ],
      "text/plain": [
       "<IPython.core.display.Markdown object>"
      ]
     },
     "metadata": {},
     "output_type": "display_data"
    },
    {
     "data": {
      "text/markdown": [
       "<span style=\"font-size:11pt\">Labels (7 classes): <span style=\"color: #0000ff\">spot,building,farm</span>: 176, <span style=\"color: #0000ff\">stream,lake</span>: 74, <span style=\"color: #0000ff\">road,railroad</span>: 16, <span style=\"color: #0000ff\">parks,area</span>: 28, <span style=\"color: #0000ff\">undersea</span>: 27, <span style=\"color: #0000ff\">mountain,hill,rock</span>: 68, <span style=\"color: #0000ff\">forest,heath</span>: 14</span>"
      ],
      "text/plain": [
       "<IPython.core.display.Markdown object>"
      ]
     },
     "metadata": {},
     "output_type": "display_data"
    },
    {
     "data": {
      "text/markdown": [
       "<span style=\"font-size:11pt\">Eval-Settings: metric: <span style=\"color: #0000ff\">accuracy</span>, type: <span style=\"color: #0000ff\">all-at-once</span>, DT-Depth: <span style=\"color: #0000ff\">2</span>, train-test-split:<span style=\"color: #0000ff\"> 33.0% in test-set </span></span>"
      ],
      "text/plain": [
       "<IPython.core.display.Markdown object>"
      ]
     },
     "metadata": {},
     "output_type": "display_data"
    },
    {
     "name": "stderr",
     "output_type": "stream",
     "text": [
      "derive_conceptualspace/evaluate/shallow_trees.py:141: UserWarning: There are more classes (7) than your decision-tree can possibly classify (4)\n"
     ]
    },
    {
     "data": {
      "text/markdown": [
       "<span style=\"font-size:11pt\">accuracy: 0.47</span>"
      ],
      "text/plain": [
       "<IPython.core.display.Markdown object>"
      ]
     },
     "metadata": {},
     "output_type": "display_data"
    },
    {
     "data": {
      "text/markdown": [
       "<span style=\"font-size:11pt\">====================================================================================================</span>"
      ],
      "text/plain": [
       "<IPython.core.display.Markdown object>"
      ]
     },
     "metadata": {},
     "output_type": "display_data"
    },
    {
     "data": {
      "text/markdown": [
       "<span style=\"font-size:11pt\">Using classes from Geonames - 403/1383 entities have a class</span>"
      ],
      "text/plain": [
       "<IPython.core.display.Markdown object>"
      ]
     },
     "metadata": {},
     "output_type": "display_data"
    },
    {
     "data": {
      "text/markdown": [
       "<span style=\"font-size:11pt\">Labels (7 classes): <span style=\"color: #0000ff\">spot,building,farm</span>: 176, <span style=\"color: #0000ff\">stream,lake</span>: 74, <span style=\"color: #0000ff\">road,railroad</span>: 16, <span style=\"color: #0000ff\">parks,area</span>: 28, <span style=\"color: #0000ff\">undersea</span>: 27, <span style=\"color: #0000ff\">mountain,hill,rock</span>: 68, <span style=\"color: #0000ff\">forest,heath</span>: 14</span>"
      ],
      "text/plain": [
       "<IPython.core.display.Markdown object>"
      ]
     },
     "metadata": {},
     "output_type": "display_data"
    },
    {
     "data": {
      "text/markdown": [
       "<span style=\"font-size:11pt\">Eval-Settings: metric: <span style=\"color: #0000ff\">f1</span>, type: <span style=\"color: #0000ff\">all-at-once</span>, DT-Depth: <span style=\"color: #0000ff\">2</span>, train-test-split:<span style=\"color: #0000ff\"> 33.0% in test-set </span></span>"
      ],
      "text/plain": [
       "<IPython.core.display.Markdown object>"
      ]
     },
     "metadata": {},
     "output_type": "display_data"
    },
    {
     "name": "stderr",
     "output_type": "stream",
     "text": [
      "derive_conceptualspace/evaluate/shallow_trees.py:141: UserWarning: There are more classes (7) than your decision-tree can possibly classify (4)\n"
     ]
    },
    {
     "data": {
      "text/markdown": [
       "<span style=\"font-size:11pt\">f1: 0.45</span>"
      ],
      "text/plain": [
       "<IPython.core.display.Markdown object>"
      ]
     },
     "metadata": {},
     "output_type": "display_data"
    },
    {
     "data": {
      "text/markdown": [
       "<span style=\"font-size:11pt\">====================================================================================================</span>"
      ],
      "text/plain": [
       "<IPython.core.display.Markdown object>"
      ]
     },
     "metadata": {},
     "output_type": "display_data"
    },
    {
     "data": {
      "text/markdown": [
       "<span style=\"font-size:11pt\">Using classes from Geonames - 403/1383 entities have a class</span>"
      ],
      "text/plain": [
       "<IPython.core.display.Markdown object>"
      ]
     },
     "metadata": {},
     "output_type": "display_data"
    },
    {
     "data": {
      "text/markdown": [
       "<span style=\"font-size:11pt\">Labels (7 classes): <span style=\"color: #0000ff\">spot,building,farm</span>: 176, <span style=\"color: #0000ff\">stream,lake</span>: 74, <span style=\"color: #0000ff\">road,railroad</span>: 16, <span style=\"color: #0000ff\">parks,area</span>: 28, <span style=\"color: #0000ff\">undersea</span>: 27, <span style=\"color: #0000ff\">mountain,hill,rock</span>: 68, <span style=\"color: #0000ff\">forest,heath</span>: 14</span>"
      ],
      "text/plain": [
       "<IPython.core.display.Markdown object>"
      ]
     },
     "metadata": {},
     "output_type": "display_data"
    },
    {
     "data": {
      "text/markdown": [
       "<span style=\"font-size:11pt\">Eval-Settings: metric: <span style=\"color: #0000ff\">accuracy</span>, type: <span style=\"color: #0000ff\">all-at-once</span>, DT-Depth: <span style=\"color: #0000ff\">3</span>, train-test-split:<span style=\"color: #0000ff\"> 33.0% in test-set </span></span>"
      ],
      "text/plain": [
       "<IPython.core.display.Markdown object>"
      ]
     },
     "metadata": {},
     "output_type": "display_data"
    },
    {
     "data": {
      "text/markdown": [
       "<span style=\"font-size:11pt\">accuracy: 0.29</span>"
      ],
      "text/plain": [
       "<IPython.core.display.Markdown object>"
      ]
     },
     "metadata": {},
     "output_type": "display_data"
    },
    {
     "data": {
      "text/markdown": [
       "<span style=\"font-size:11pt\">====================================================================================================</span>"
      ],
      "text/plain": [
       "<IPython.core.display.Markdown object>"
      ]
     },
     "metadata": {},
     "output_type": "display_data"
    },
    {
     "data": {
      "text/markdown": [
       "<span style=\"font-size:11pt\">Using classes from Geonames - 403/1383 entities have a class</span>"
      ],
      "text/plain": [
       "<IPython.core.display.Markdown object>"
      ]
     },
     "metadata": {},
     "output_type": "display_data"
    },
    {
     "data": {
      "text/markdown": [
       "<span style=\"font-size:11pt\">Labels (7 classes): <span style=\"color: #0000ff\">spot,building,farm</span>: 176, <span style=\"color: #0000ff\">stream,lake</span>: 74, <span style=\"color: #0000ff\">road,railroad</span>: 16, <span style=\"color: #0000ff\">parks,area</span>: 28, <span style=\"color: #0000ff\">undersea</span>: 27, <span style=\"color: #0000ff\">mountain,hill,rock</span>: 68, <span style=\"color: #0000ff\">forest,heath</span>: 14</span>"
      ],
      "text/plain": [
       "<IPython.core.display.Markdown object>"
      ]
     },
     "metadata": {},
     "output_type": "display_data"
    },
    {
     "data": {
      "text/markdown": [
       "<span style=\"font-size:11pt\">Eval-Settings: metric: <span style=\"color: #0000ff\">f1</span>, type: <span style=\"color: #0000ff\">all-at-once</span>, DT-Depth: <span style=\"color: #0000ff\">3</span>, train-test-split:<span style=\"color: #0000ff\"> 33.0% in test-set </span></span>"
      ],
      "text/plain": [
       "<IPython.core.display.Markdown object>"
      ]
     },
     "metadata": {},
     "output_type": "display_data"
    },
    {
     "data": {
      "text/markdown": [
       "<span style=\"font-size:11pt\">f1: 0.39</span>"
      ],
      "text/plain": [
       "<IPython.core.display.Markdown object>"
      ]
     },
     "metadata": {},
     "output_type": "display_data"
    },
    {
     "data": {
      "text/markdown": [
       "<span style=\"font-size:11pt\">====================================================================================================</span>"
      ],
      "text/plain": [
       "<IPython.core.display.Markdown object>"
      ]
     },
     "metadata": {},
     "output_type": "display_data"
    },
    {
     "data": {
      "text/markdown": [
       "<span style=\"font-size:11pt\">Using classes from Geonames - 403/1383 entities have a class</span>"
      ],
      "text/plain": [
       "<IPython.core.display.Markdown object>"
      ]
     },
     "metadata": {},
     "output_type": "display_data"
    },
    {
     "data": {
      "text/markdown": [
       "<span style=\"font-size:11pt\">Labels (7 classes): <span style=\"color: #0000ff\">spot,building,farm</span>: 176, <span style=\"color: #0000ff\">stream,lake</span>: 74, <span style=\"color: #0000ff\">road,railroad</span>: 16, <span style=\"color: #0000ff\">parks,area</span>: 28, <span style=\"color: #0000ff\">undersea</span>: 27, <span style=\"color: #0000ff\">mountain,hill,rock</span>: 68, <span style=\"color: #0000ff\">forest,heath</span>: 14</span>"
      ],
      "text/plain": [
       "<IPython.core.display.Markdown object>"
      ]
     },
     "metadata": {},
     "output_type": "display_data"
    },
    {
     "data": {
      "text/markdown": [
       "<span style=\"font-size:11pt\">Eval-Settings: metric: <span style=\"color: #0000ff\">accuracy</span>, type: <span style=\"color: #0000ff\">all-at-once</span>, DT-Depth: <span style=\"color: #0000ff\">3</span>, train-test-split:<span style=\"color: #0000ff\"> 33.0% in test-set </span></span>"
      ],
      "text/plain": [
       "<IPython.core.display.Markdown object>"
      ]
     },
     "metadata": {},
     "output_type": "display_data"
    },
    {
     "data": {
      "text/markdown": [
       "<span style=\"font-size:11pt\">accuracy: 0.54</span>"
      ],
      "text/plain": [
       "<IPython.core.display.Markdown object>"
      ]
     },
     "metadata": {},
     "output_type": "display_data"
    },
    {
     "data": {
      "text/markdown": [
       "<span style=\"font-size:11pt\">====================================================================================================</span>"
      ],
      "text/plain": [
       "<IPython.core.display.Markdown object>"
      ]
     },
     "metadata": {},
     "output_type": "display_data"
    },
    {
     "data": {
      "text/markdown": [
       "<span style=\"font-size:11pt\">Using classes from Geonames - 403/1383 entities have a class</span>"
      ],
      "text/plain": [
       "<IPython.core.display.Markdown object>"
      ]
     },
     "metadata": {},
     "output_type": "display_data"
    },
    {
     "data": {
      "text/markdown": [
       "<span style=\"font-size:11pt\">Labels (7 classes): <span style=\"color: #0000ff\">spot,building,farm</span>: 176, <span style=\"color: #0000ff\">stream,lake</span>: 74, <span style=\"color: #0000ff\">road,railroad</span>: 16, <span style=\"color: #0000ff\">parks,area</span>: 28, <span style=\"color: #0000ff\">undersea</span>: 27, <span style=\"color: #0000ff\">mountain,hill,rock</span>: 68, <span style=\"color: #0000ff\">forest,heath</span>: 14</span>"
      ],
      "text/plain": [
       "<IPython.core.display.Markdown object>"
      ]
     },
     "metadata": {},
     "output_type": "display_data"
    },
    {
     "data": {
      "text/markdown": [
       "<span style=\"font-size:11pt\">Eval-Settings: metric: <span style=\"color: #0000ff\">f1</span>, type: <span style=\"color: #0000ff\">all-at-once</span>, DT-Depth: <span style=\"color: #0000ff\">3</span>, train-test-split:<span style=\"color: #0000ff\"> 33.0% in test-set </span></span>"
      ],
      "text/plain": [
       "<IPython.core.display.Markdown object>"
      ]
     },
     "metadata": {},
     "output_type": "display_data"
    },
    {
     "data": {
      "text/markdown": [
       "<span style=\"font-size:11pt\">f1: 0.48</span>"
      ],
      "text/plain": [
       "<IPython.core.display.Markdown object>"
      ]
     },
     "metadata": {},
     "output_type": "display_data"
    },
    {
     "data": {
      "text/markdown": [
       "<span style=\"font-size:11pt\">====================================================================================================</span>"
      ],
      "text/plain": [
       "<IPython.core.display.Markdown object>"
      ]
     },
     "metadata": {},
     "output_type": "display_data"
    },
    {
     "data": {
      "text/markdown": [
       "<span style=\"font-size:11pt\">Using classes from Geonames - 403/1383 entities have a class</span>"
      ],
      "text/plain": [
       "<IPython.core.display.Markdown object>"
      ]
     },
     "metadata": {},
     "output_type": "display_data"
    },
    {
     "data": {
      "text/markdown": [
       "<span style=\"font-size:11pt\">Labels (7 classes): <span style=\"color: #0000ff\">spot,building,farm</span>: 176, <span style=\"color: #0000ff\">stream,lake</span>: 74, <span style=\"color: #0000ff\">road,railroad</span>: 16, <span style=\"color: #0000ff\">parks,area</span>: 28, <span style=\"color: #0000ff\">undersea</span>: 27, <span style=\"color: #0000ff\">mountain,hill,rock</span>: 68, <span style=\"color: #0000ff\">forest,heath</span>: 14</span>"
      ],
      "text/plain": [
       "<IPython.core.display.Markdown object>"
      ]
     },
     "metadata": {},
     "output_type": "display_data"
    },
    {
     "data": {
      "text/markdown": [
       "<span style=\"font-size:11pt\">Eval-Settings: metric: <span style=\"color: #0000ff\">accuracy</span>, type: <span style=\"color: #0000ff\">all-at-once</span>, DT-Depth: <span style=\"color: #0000ff\">None</span>, train-test-split:<span style=\"color: #0000ff\"> 33.0% in test-set </span></span>"
      ],
      "text/plain": [
       "<IPython.core.display.Markdown object>"
      ]
     },
     "metadata": {},
     "output_type": "display_data"
    },
    {
     "data": {
      "text/markdown": [
       "<span style=\"font-size:11pt\">accuracy: 0.41</span>"
      ],
      "text/plain": [
       "<IPython.core.display.Markdown object>"
      ]
     },
     "metadata": {},
     "output_type": "display_data"
    },
    {
     "data": {
      "text/markdown": [
       "<span style=\"font-size:11pt\">====================================================================================================</span>"
      ],
      "text/plain": [
       "<IPython.core.display.Markdown object>"
      ]
     },
     "metadata": {},
     "output_type": "display_data"
    },
    {
     "data": {
      "text/markdown": [
       "<span style=\"font-size:11pt\">Using classes from Geonames - 403/1383 entities have a class</span>"
      ],
      "text/plain": [
       "<IPython.core.display.Markdown object>"
      ]
     },
     "metadata": {},
     "output_type": "display_data"
    },
    {
     "data": {
      "text/markdown": [
       "<span style=\"font-size:11pt\">Labels (7 classes): <span style=\"color: #0000ff\">spot,building,farm</span>: 176, <span style=\"color: #0000ff\">stream,lake</span>: 74, <span style=\"color: #0000ff\">road,railroad</span>: 16, <span style=\"color: #0000ff\">parks,area</span>: 28, <span style=\"color: #0000ff\">undersea</span>: 27, <span style=\"color: #0000ff\">mountain,hill,rock</span>: 68, <span style=\"color: #0000ff\">forest,heath</span>: 14</span>"
      ],
      "text/plain": [
       "<IPython.core.display.Markdown object>"
      ]
     },
     "metadata": {},
     "output_type": "display_data"
    },
    {
     "data": {
      "text/markdown": [
       "<span style=\"font-size:11pt\">Eval-Settings: metric: <span style=\"color: #0000ff\">f1</span>, type: <span style=\"color: #0000ff\">all-at-once</span>, DT-Depth: <span style=\"color: #0000ff\">None</span>, train-test-split:<span style=\"color: #0000ff\"> 33.0% in test-set </span></span>"
      ],
      "text/plain": [
       "<IPython.core.display.Markdown object>"
      ]
     },
     "metadata": {},
     "output_type": "display_data"
    },
    {
     "data": {
      "text/markdown": [
       "<span style=\"font-size:11pt\">f1: 0.43</span>"
      ],
      "text/plain": [
       "<IPython.core.display.Markdown object>"
      ]
     },
     "metadata": {},
     "output_type": "display_data"
    },
    {
     "data": {
      "text/markdown": [
       "<span style=\"font-size:11pt\">====================================================================================================</span>"
      ],
      "text/plain": [
       "<IPython.core.display.Markdown object>"
      ]
     },
     "metadata": {},
     "output_type": "display_data"
    },
    {
     "data": {
      "text/markdown": [
       "<span style=\"font-size:11pt\">Using classes from Geonames - 403/1383 entities have a class</span>"
      ],
      "text/plain": [
       "<IPython.core.display.Markdown object>"
      ]
     },
     "metadata": {},
     "output_type": "display_data"
    },
    {
     "data": {
      "text/markdown": [
       "<span style=\"font-size:11pt\">Labels (7 classes): <span style=\"color: #0000ff\">spot,building,farm</span>: 176, <span style=\"color: #0000ff\">stream,lake</span>: 74, <span style=\"color: #0000ff\">road,railroad</span>: 16, <span style=\"color: #0000ff\">parks,area</span>: 28, <span style=\"color: #0000ff\">undersea</span>: 27, <span style=\"color: #0000ff\">mountain,hill,rock</span>: 68, <span style=\"color: #0000ff\">forest,heath</span>: 14</span>"
      ],
      "text/plain": [
       "<IPython.core.display.Markdown object>"
      ]
     },
     "metadata": {},
     "output_type": "display_data"
    },
    {
     "data": {
      "text/markdown": [
       "<span style=\"font-size:11pt\">Eval-Settings: metric: <span style=\"color: #0000ff\">accuracy</span>, type: <span style=\"color: #0000ff\">all-at-once</span>, DT-Depth: <span style=\"color: #0000ff\">None</span>, train-test-split:<span style=\"color: #0000ff\"> 33.0% in test-set </span></span>"
      ],
      "text/plain": [
       "<IPython.core.display.Markdown object>"
      ]
     },
     "metadata": {},
     "output_type": "display_data"
    },
    {
     "data": {
      "text/markdown": [
       "<span style=\"font-size:11pt\">accuracy: 0.41</span>"
      ],
      "text/plain": [
       "<IPython.core.display.Markdown object>"
      ]
     },
     "metadata": {},
     "output_type": "display_data"
    },
    {
     "data": {
      "text/markdown": [
       "<span style=\"font-size:11pt\">====================================================================================================</span>"
      ],
      "text/plain": [
       "<IPython.core.display.Markdown object>"
      ]
     },
     "metadata": {},
     "output_type": "display_data"
    },
    {
     "data": {
      "text/markdown": [
       "<span style=\"font-size:11pt\">Using classes from Geonames - 403/1383 entities have a class</span>"
      ],
      "text/plain": [
       "<IPython.core.display.Markdown object>"
      ]
     },
     "metadata": {},
     "output_type": "display_data"
    },
    {
     "data": {
      "text/markdown": [
       "<span style=\"font-size:11pt\">Labels (7 classes): <span style=\"color: #0000ff\">spot,building,farm</span>: 176, <span style=\"color: #0000ff\">stream,lake</span>: 74, <span style=\"color: #0000ff\">road,railroad</span>: 16, <span style=\"color: #0000ff\">parks,area</span>: 28, <span style=\"color: #0000ff\">undersea</span>: 27, <span style=\"color: #0000ff\">mountain,hill,rock</span>: 68, <span style=\"color: #0000ff\">forest,heath</span>: 14</span>"
      ],
      "text/plain": [
       "<IPython.core.display.Markdown object>"
      ]
     },
     "metadata": {},
     "output_type": "display_data"
    },
    {
     "data": {
      "text/markdown": [
       "<span style=\"font-size:11pt\">Eval-Settings: metric: <span style=\"color: #0000ff\">f1</span>, type: <span style=\"color: #0000ff\">all-at-once</span>, DT-Depth: <span style=\"color: #0000ff\">None</span>, train-test-split:<span style=\"color: #0000ff\"> 33.0% in test-set </span></span>"
      ],
      "text/plain": [
       "<IPython.core.display.Markdown object>"
      ]
     },
     "metadata": {},
     "output_type": "display_data"
    },
    {
     "data": {
      "text/markdown": [
       "<span style=\"font-size:11pt\">f1: 0.38</span>"
      ],
      "text/plain": [
       "<IPython.core.display.Markdown object>"
      ]
     },
     "metadata": {},
     "output_type": "display_data"
    },
    {
     "data": {
      "text/markdown": [
       "<span style=\"font-size:11pt\">====================================================================================================</span>"
      ],
      "text/plain": [
       "<IPython.core.display.Markdown object>"
      ]
     },
     "metadata": {},
     "output_type": "display_data"
    },
    {
     "data": {
      "text/markdown": [
       "<span style=\"font-size:11pt\">Using classes from Geonames - 403/1383 entities have a class</span>"
      ],
      "text/plain": [
       "<IPython.core.display.Markdown object>"
      ]
     },
     "metadata": {},
     "output_type": "display_data"
    },
    {
     "data": {
      "text/markdown": [
       "<span style=\"font-size:11pt\">Labels (7 classes): <span style=\"color: #0000ff\">spot,building,farm</span>: 176, <span style=\"color: #0000ff\">stream,lake</span>: 74, <span style=\"color: #0000ff\">road,railroad</span>: 16, <span style=\"color: #0000ff\">parks,area</span>: 28, <span style=\"color: #0000ff\">undersea</span>: 27, <span style=\"color: #0000ff\">mountain,hill,rock</span>: 68, <span style=\"color: #0000ff\">forest,heath</span>: 14</span>"
      ],
      "text/plain": [
       "<IPython.core.display.Markdown object>"
      ]
     },
     "metadata": {},
     "output_type": "display_data"
    },
    {
     "data": {
      "text/markdown": [
       "<span style=\"font-size:11pt\">Eval-Settings: metric: <span style=\"color: #0000ff\">accuracy</span>, type: <span style=\"color: #0000ff\">one-vs-rest</span>, DT-Depth: <span style=\"color: #0000ff\">1</span>, train-test-split:<span style=\"color: #0000ff\"> 50.0% in test-set </span></span>"
      ],
      "text/plain": [
       "<IPython.core.display.Markdown object>"
      ]
     },
     "metadata": {},
     "output_type": "display_data"
    },
    {
     "data": {
      "text/markdown": [
       "<span style=\"font-size:11pt\">Per-Class-Scores: stream,lake: 0.48, spot,building,farm: 0.76, road,railroad: 0.50, undersea: 0.45, forest,heath: 0.44, mountain,hill,rock: 0.50, parks,area: 0.31</span>"
      ],
      "text/plain": [
       "<IPython.core.display.Markdown object>"
      ]
     },
     "metadata": {},
     "output_type": "display_data"
    },
    {
     "data": {
      "text/markdown": [
       "<span style=\"font-size:11pt\">Unweighted Mean accuracy: 49.08%</span>"
      ],
      "text/plain": [
       "<IPython.core.display.Markdown object>"
      ]
     },
     "metadata": {},
     "output_type": "display_data"
    },
    {
     "data": {
      "text/markdown": [
       "<span style=\"font-size:11pt\">Weighted Mean accuracy: 59.05%</span>"
      ],
      "text/plain": [
       "<IPython.core.display.Markdown object>"
      ]
     },
     "metadata": {},
     "output_type": "display_data"
    },
    {
     "data": {
      "text/markdown": [
       "<span style=\"font-size:11pt\">====================================================================================================</span>"
      ],
      "text/plain": [
       "<IPython.core.display.Markdown object>"
      ]
     },
     "metadata": {},
     "output_type": "display_data"
    },
    {
     "data": {
      "text/markdown": [
       "<span style=\"font-size:11pt\">Using classes from Geonames - 403/1383 entities have a class</span>"
      ],
      "text/plain": [
       "<IPython.core.display.Markdown object>"
      ]
     },
     "metadata": {},
     "output_type": "display_data"
    },
    {
     "data": {
      "text/markdown": [
       "<span style=\"font-size:11pt\">Labels (7 classes): <span style=\"color: #0000ff\">spot,building,farm</span>: 176, <span style=\"color: #0000ff\">stream,lake</span>: 74, <span style=\"color: #0000ff\">road,railroad</span>: 16, <span style=\"color: #0000ff\">parks,area</span>: 28, <span style=\"color: #0000ff\">undersea</span>: 27, <span style=\"color: #0000ff\">mountain,hill,rock</span>: 68, <span style=\"color: #0000ff\">forest,heath</span>: 14</span>"
      ],
      "text/plain": [
       "<IPython.core.display.Markdown object>"
      ]
     },
     "metadata": {},
     "output_type": "display_data"
    },
    {
     "data": {
      "text/markdown": [
       "<span style=\"font-size:11pt\">Eval-Settings: metric: <span style=\"color: #0000ff\">f1</span>, type: <span style=\"color: #0000ff\">one-vs-rest</span>, DT-Depth: <span style=\"color: #0000ff\">1</span>, train-test-split:<span style=\"color: #0000ff\"> 50.0% in test-set </span></span>"
      ],
      "text/plain": [
       "<IPython.core.display.Markdown object>"
      ]
     },
     "metadata": {},
     "output_type": "display_data"
    },
    {
     "data": {
      "text/markdown": [
       "<span style=\"font-size:11pt\">Per-Class-Scores: stream,lake: 0.40, spot,building,farm: 0.68, road,railroad: 0.11, undersea: 0.15, forest,heath: 0.00, mountain,hill,rock: 0.35, parks,area: 0.15</span>"
      ],
      "text/plain": [
       "<IPython.core.display.Markdown object>"
      ]
     },
     "metadata": {},
     "output_type": "display_data"
    },
    {
     "data": {
      "text/markdown": [
       "<span style=\"font-size:11pt\">Unweighted Mean f1: 25.97%</span>"
      ],
      "text/plain": [
       "<IPython.core.display.Markdown object>"
      ]
     },
     "metadata": {},
     "output_type": "display_data"
    },
    {
     "data": {
      "text/markdown": [
       "<span style=\"font-size:11pt\">Weighted Mean f1: 45.14%</span>"
      ],
      "text/plain": [
       "<IPython.core.display.Markdown object>"
      ]
     },
     "metadata": {},
     "output_type": "display_data"
    },
    {
     "data": {
      "text/markdown": [
       "<span style=\"font-size:11pt\">====================================================================================================</span>"
      ],
      "text/plain": [
       "<IPython.core.display.Markdown object>"
      ]
     },
     "metadata": {},
     "output_type": "display_data"
    },
    {
     "data": {
      "text/markdown": [
       "<span style=\"font-size:11pt\">Using classes from Geonames - 403/1383 entities have a class</span>"
      ],
      "text/plain": [
       "<IPython.core.display.Markdown object>"
      ]
     },
     "metadata": {},
     "output_type": "display_data"
    },
    {
     "data": {
      "text/markdown": [
       "<span style=\"font-size:11pt\">Labels (7 classes): <span style=\"color: #0000ff\">spot,building,farm</span>: 176, <span style=\"color: #0000ff\">stream,lake</span>: 74, <span style=\"color: #0000ff\">road,railroad</span>: 16, <span style=\"color: #0000ff\">parks,area</span>: 28, <span style=\"color: #0000ff\">undersea</span>: 27, <span style=\"color: #0000ff\">mountain,hill,rock</span>: 68, <span style=\"color: #0000ff\">forest,heath</span>: 14</span>"
      ],
      "text/plain": [
       "<IPython.core.display.Markdown object>"
      ]
     },
     "metadata": {},
     "output_type": "display_data"
    },
    {
     "data": {
      "text/markdown": [
       "<span style=\"font-size:11pt\">Eval-Settings: metric: <span style=\"color: #0000ff\">accuracy</span>, type: <span style=\"color: #0000ff\">one-vs-rest</span>, DT-Depth: <span style=\"color: #0000ff\">1</span>, train-test-split:<span style=\"color: #0000ff\"> 50.0% in test-set </span></span>"
      ],
      "text/plain": [
       "<IPython.core.display.Markdown object>"
      ]
     },
     "metadata": {},
     "output_type": "display_data"
    },
    {
     "data": {
      "text/markdown": [
       "<span style=\"font-size:11pt\">Per-Class-Scores: stream,lake: 0.83, spot,building,farm: 0.75, road,railroad: 0.96, undersea: 0.90, forest,heath: 0.94, mountain,hill,rock: 0.84, parks,area: 0.92</span>"
      ],
      "text/plain": [
       "<IPython.core.display.Markdown object>"
      ]
     },
     "metadata": {},
     "output_type": "display_data"
    },
    {
     "data": {
      "text/markdown": [
       "<span style=\"font-size:11pt\">Unweighted Mean accuracy: 87.48%</span>"
      ],
      "text/plain": [
       "<IPython.core.display.Markdown object>"
      ]
     },
     "metadata": {},
     "output_type": "display_data"
    },
    {
     "data": {
      "text/markdown": [
       "<span style=\"font-size:11pt\">Weighted Mean accuracy: 81.45%</span>"
      ],
      "text/plain": [
       "<IPython.core.display.Markdown object>"
      ]
     },
     "metadata": {},
     "output_type": "display_data"
    },
    {
     "data": {
      "text/markdown": [
       "<span style=\"font-size:11pt\">====================================================================================================</span>"
      ],
      "text/plain": [
       "<IPython.core.display.Markdown object>"
      ]
     },
     "metadata": {},
     "output_type": "display_data"
    },
    {
     "data": {
      "text/markdown": [
       "<span style=\"font-size:11pt\">Using classes from Geonames - 403/1383 entities have a class</span>"
      ],
      "text/plain": [
       "<IPython.core.display.Markdown object>"
      ]
     },
     "metadata": {},
     "output_type": "display_data"
    },
    {
     "data": {
      "text/markdown": [
       "<span style=\"font-size:11pt\">Labels (7 classes): <span style=\"color: #0000ff\">spot,building,farm</span>: 176, <span style=\"color: #0000ff\">stream,lake</span>: 74, <span style=\"color: #0000ff\">road,railroad</span>: 16, <span style=\"color: #0000ff\">parks,area</span>: 28, <span style=\"color: #0000ff\">undersea</span>: 27, <span style=\"color: #0000ff\">mountain,hill,rock</span>: 68, <span style=\"color: #0000ff\">forest,heath</span>: 14</span>"
      ],
      "text/plain": [
       "<IPython.core.display.Markdown object>"
      ]
     },
     "metadata": {},
     "output_type": "display_data"
    },
    {
     "data": {
      "text/markdown": [
       "<span style=\"font-size:11pt\">Eval-Settings: metric: <span style=\"color: #0000ff\">f1</span>, type: <span style=\"color: #0000ff\">one-vs-rest</span>, DT-Depth: <span style=\"color: #0000ff\">1</span>, train-test-split:<span style=\"color: #0000ff\"> 50.0% in test-set </span></span>"
      ],
      "text/plain": [
       "<IPython.core.display.Markdown object>"
      ]
     },
     "metadata": {},
     "output_type": "display_data"
    },
    {
     "data": {
      "text/markdown": [
       "<span style=\"font-size:11pt\">Per-Class-Scores: stream,lake: 0.00, spot,building,farm: 0.68, road,railroad: 0.00, undersea: 0.00, forest,heath: 0.00, mountain,hill,rock: 0.00, parks,area: 0.00</span>"
      ],
      "text/plain": [
       "<IPython.core.display.Markdown object>"
      ]
     },
     "metadata": {},
     "output_type": "display_data"
    },
    {
     "data": {
      "text/markdown": [
       "<span style=\"font-size:11pt\">Unweighted Mean f1: 9.73%</span>"
      ],
      "text/plain": [
       "<IPython.core.display.Markdown object>"
      ]
     },
     "metadata": {},
     "output_type": "display_data"
    },
    {
     "data": {
      "text/markdown": [
       "<span style=\"font-size:11pt\">Weighted Mean f1: 29.73%</span>"
      ],
      "text/plain": [
       "<IPython.core.display.Markdown object>"
      ]
     },
     "metadata": {},
     "output_type": "display_data"
    },
    {
     "data": {
      "text/markdown": [
       "<span style=\"font-size:11pt\">====================================================================================================</span>"
      ],
      "text/plain": [
       "<IPython.core.display.Markdown object>"
      ]
     },
     "metadata": {},
     "output_type": "display_data"
    },
    {
     "data": {
      "text/markdown": [
       "<span style=\"font-size:11pt\">Using classes from Geonames - 403/1383 entities have a class</span>"
      ],
      "text/plain": [
       "<IPython.core.display.Markdown object>"
      ]
     },
     "metadata": {},
     "output_type": "display_data"
    },
    {
     "data": {
      "text/markdown": [
       "<span style=\"font-size:11pt\">Labels (7 classes): <span style=\"color: #0000ff\">spot,building,farm</span>: 176, <span style=\"color: #0000ff\">stream,lake</span>: 74, <span style=\"color: #0000ff\">road,railroad</span>: 16, <span style=\"color: #0000ff\">parks,area</span>: 28, <span style=\"color: #0000ff\">undersea</span>: 27, <span style=\"color: #0000ff\">mountain,hill,rock</span>: 68, <span style=\"color: #0000ff\">forest,heath</span>: 14</span>"
      ],
      "text/plain": [
       "<IPython.core.display.Markdown object>"
      ]
     },
     "metadata": {},
     "output_type": "display_data"
    },
    {
     "data": {
      "text/markdown": [
       "<span style=\"font-size:11pt\">Eval-Settings: metric: <span style=\"color: #0000ff\">accuracy</span>, type: <span style=\"color: #0000ff\">one-vs-rest</span>, DT-Depth: <span style=\"color: #0000ff\">2</span>, train-test-split:<span style=\"color: #0000ff\"> 50.0% in test-set </span></span>"
      ],
      "text/plain": [
       "<IPython.core.display.Markdown object>"
      ]
     },
     "metadata": {},
     "output_type": "display_data"
    },
    {
     "data": {
      "text/markdown": [
       "<span style=\"font-size:11pt\">Per-Class-Scores: stream,lake: 0.60, spot,building,farm: 0.75, road,railroad: 0.83, undersea: 0.54, forest,heath: 0.83, mountain,hill,rock: 0.62, parks,area: 0.71</span>"
      ],
      "text/plain": [
       "<IPython.core.display.Markdown object>"
      ]
     },
     "metadata": {},
     "output_type": "display_data"
    },
    {
     "data": {
      "text/markdown": [
       "<span style=\"font-size:11pt\">Unweighted Mean accuracy: 69.87%</span>"
      ],
      "text/plain": [
       "<IPython.core.display.Markdown object>"
      ]
     },
     "metadata": {},
     "output_type": "display_data"
    },
    {
     "data": {
      "text/markdown": [
       "<span style=\"font-size:11pt\">Weighted Mean accuracy: 69.16%</span>"
      ],
      "text/plain": [
       "<IPython.core.display.Markdown object>"
      ]
     },
     "metadata": {},
     "output_type": "display_data"
    },
    {
     "data": {
      "text/markdown": [
       "<span style=\"font-size:11pt\">====================================================================================================</span>"
      ],
      "text/plain": [
       "<IPython.core.display.Markdown object>"
      ]
     },
     "metadata": {},
     "output_type": "display_data"
    },
    {
     "data": {
      "text/markdown": [
       "<span style=\"font-size:11pt\">Using classes from Geonames - 403/1383 entities have a class</span>"
      ],
      "text/plain": [
       "<IPython.core.display.Markdown object>"
      ]
     },
     "metadata": {},
     "output_type": "display_data"
    },
    {
     "data": {
      "text/markdown": [
       "<span style=\"font-size:11pt\">Labels (7 classes): <span style=\"color: #0000ff\">spot,building,farm</span>: 176, <span style=\"color: #0000ff\">stream,lake</span>: 74, <span style=\"color: #0000ff\">road,railroad</span>: 16, <span style=\"color: #0000ff\">parks,area</span>: 28, <span style=\"color: #0000ff\">undersea</span>: 27, <span style=\"color: #0000ff\">mountain,hill,rock</span>: 68, <span style=\"color: #0000ff\">forest,heath</span>: 14</span>"
      ],
      "text/plain": [
       "<IPython.core.display.Markdown object>"
      ]
     },
     "metadata": {},
     "output_type": "display_data"
    },
    {
     "data": {
      "text/markdown": [
       "<span style=\"font-size:11pt\">Eval-Settings: metric: <span style=\"color: #0000ff\">f1</span>, type: <span style=\"color: #0000ff\">one-vs-rest</span>, DT-Depth: <span style=\"color: #0000ff\">2</span>, train-test-split:<span style=\"color: #0000ff\"> 50.0% in test-set </span></span>"
      ],
      "text/plain": [
       "<IPython.core.display.Markdown object>"
      ]
     },
     "metadata": {},
     "output_type": "display_data"
    },
    {
     "data": {
      "text/markdown": [
       "<span style=\"font-size:11pt\">Per-Class-Scores: stream,lake: 0.44, spot,building,farm: 0.74, road,railroad: 0.03, undersea: 0.17, forest,heath: 0.24, mountain,hill,rock: 0.37, parks,area: 0.17</span>"
      ],
      "text/plain": [
       "<IPython.core.display.Markdown object>"
      ]
     },
     "metadata": {},
     "output_type": "display_data"
    },
    {
     "data": {
      "text/markdown": [
       "<span style=\"font-size:11pt\">Unweighted Mean f1: 30.94%</span>"
      ],
      "text/plain": [
       "<IPython.core.display.Markdown object>"
      ]
     },
     "metadata": {},
     "output_type": "display_data"
    },
    {
     "data": {
      "text/markdown": [
       "<span style=\"font-size:11pt\">Weighted Mean f1: 50.09%</span>"
      ],
      "text/plain": [
       "<IPython.core.display.Markdown object>"
      ]
     },
     "metadata": {},
     "output_type": "display_data"
    },
    {
     "data": {
      "text/markdown": [
       "<span style=\"font-size:11pt\">====================================================================================================</span>"
      ],
      "text/plain": [
       "<IPython.core.display.Markdown object>"
      ]
     },
     "metadata": {},
     "output_type": "display_data"
    },
    {
     "data": {
      "text/markdown": [
       "<span style=\"font-size:11pt\">Using classes from Geonames - 403/1383 entities have a class</span>"
      ],
      "text/plain": [
       "<IPython.core.display.Markdown object>"
      ]
     },
     "metadata": {},
     "output_type": "display_data"
    },
    {
     "data": {
      "text/markdown": [
       "<span style=\"font-size:11pt\">Labels (7 classes): <span style=\"color: #0000ff\">spot,building,farm</span>: 176, <span style=\"color: #0000ff\">stream,lake</span>: 74, <span style=\"color: #0000ff\">road,railroad</span>: 16, <span style=\"color: #0000ff\">parks,area</span>: 28, <span style=\"color: #0000ff\">undersea</span>: 27, <span style=\"color: #0000ff\">mountain,hill,rock</span>: 68, <span style=\"color: #0000ff\">forest,heath</span>: 14</span>"
      ],
      "text/plain": [
       "<IPython.core.display.Markdown object>"
      ]
     },
     "metadata": {},
     "output_type": "display_data"
    },
    {
     "data": {
      "text/markdown": [
       "<span style=\"font-size:11pt\">Eval-Settings: metric: <span style=\"color: #0000ff\">accuracy</span>, type: <span style=\"color: #0000ff\">one-vs-rest</span>, DT-Depth: <span style=\"color: #0000ff\">2</span>, train-test-split:<span style=\"color: #0000ff\"> 50.0% in test-set </span></span>"
      ],
      "text/plain": [
       "<IPython.core.display.Markdown object>"
      ]
     },
     "metadata": {},
     "output_type": "display_data"
    },
    {
     "data": {
      "text/markdown": [
       "<span style=\"font-size:11pt\">Per-Class-Scores: stream,lake: 0.75, spot,building,farm: 0.79, road,railroad: 0.96, undersea: 0.94, forest,heath: 0.96, mountain,hill,rock: 0.84, parks,area: 0.90</span>"
      ],
      "text/plain": [
       "<IPython.core.display.Markdown object>"
      ]
     },
     "metadata": {},
     "output_type": "display_data"
    },
    {
     "data": {
      "text/markdown": [
       "<span style=\"font-size:11pt\">Unweighted Mean accuracy: 87.41%</span>"
      ],
      "text/plain": [
       "<IPython.core.display.Markdown object>"
      ]
     },
     "metadata": {},
     "output_type": "display_data"
    },
    {
     "data": {
      "text/markdown": [
       "<span style=\"font-size:11pt\">Weighted Mean accuracy: 81.91%</span>"
      ],
      "text/plain": [
       "<IPython.core.display.Markdown object>"
      ]
     },
     "metadata": {},
     "output_type": "display_data"
    },
    {
     "data": {
      "text/markdown": [
       "<span style=\"font-size:11pt\">====================================================================================================</span>"
      ],
      "text/plain": [
       "<IPython.core.display.Markdown object>"
      ]
     },
     "metadata": {},
     "output_type": "display_data"
    },
    {
     "data": {
      "text/markdown": [
       "<span style=\"font-size:11pt\">Using classes from Geonames - 403/1383 entities have a class</span>"
      ],
      "text/plain": [
       "<IPython.core.display.Markdown object>"
      ]
     },
     "metadata": {},
     "output_type": "display_data"
    },
    {
     "data": {
      "text/markdown": [
       "<span style=\"font-size:11pt\">Labels (7 classes): <span style=\"color: #0000ff\">spot,building,farm</span>: 176, <span style=\"color: #0000ff\">stream,lake</span>: 74, <span style=\"color: #0000ff\">road,railroad</span>: 16, <span style=\"color: #0000ff\">parks,area</span>: 28, <span style=\"color: #0000ff\">undersea</span>: 27, <span style=\"color: #0000ff\">mountain,hill,rock</span>: 68, <span style=\"color: #0000ff\">forest,heath</span>: 14</span>"
      ],
      "text/plain": [
       "<IPython.core.display.Markdown object>"
      ]
     },
     "metadata": {},
     "output_type": "display_data"
    },
    {
     "data": {
      "text/markdown": [
       "<span style=\"font-size:11pt\">Eval-Settings: metric: <span style=\"color: #0000ff\">f1</span>, type: <span style=\"color: #0000ff\">one-vs-rest</span>, DT-Depth: <span style=\"color: #0000ff\">2</span>, train-test-split:<span style=\"color: #0000ff\"> 50.0% in test-set </span></span>"
      ],
      "text/plain": [
       "<IPython.core.display.Markdown object>"
      ]
     },
     "metadata": {},
     "output_type": "display_data"
    },
    {
     "data": {
      "text/markdown": [
       "<span style=\"font-size:11pt\">Per-Class-Scores: stream,lake: 0.29, spot,building,farm: 0.76, road,railroad: 0.00, undersea: 0.00, forest,heath: 0.00, mountain,hill,rock: 0.05, parks,area: 0.00</span>"
      ],
      "text/plain": [
       "<IPython.core.display.Markdown object>"
      ]
     },
     "metadata": {},
     "output_type": "display_data"
    },
    {
     "data": {
      "text/markdown": [
       "<span style=\"font-size:11pt\">Unweighted Mean f1: 15.74%</span>"
      ],
      "text/plain": [
       "<IPython.core.display.Markdown object>"
      ]
     },
     "metadata": {},
     "output_type": "display_data"
    },
    {
     "data": {
      "text/markdown": [
       "<span style=\"font-size:11pt\">Weighted Mean f1: 39.37%</span>"
      ],
      "text/plain": [
       "<IPython.core.display.Markdown object>"
      ]
     },
     "metadata": {},
     "output_type": "display_data"
    },
    {
     "data": {
      "text/markdown": [
       "<span style=\"font-size:11pt\">====================================================================================================</span>"
      ],
      "text/plain": [
       "<IPython.core.display.Markdown object>"
      ]
     },
     "metadata": {},
     "output_type": "display_data"
    },
    {
     "data": {
      "text/markdown": [
       "<span style=\"font-size:11pt\">Using classes from Geonames - 403/1383 entities have a class</span>"
      ],
      "text/plain": [
       "<IPython.core.display.Markdown object>"
      ]
     },
     "metadata": {},
     "output_type": "display_data"
    },
    {
     "data": {
      "text/markdown": [
       "<span style=\"font-size:11pt\">Labels (7 classes): <span style=\"color: #0000ff\">spot,building,farm</span>: 176, <span style=\"color: #0000ff\">stream,lake</span>: 74, <span style=\"color: #0000ff\">road,railroad</span>: 16, <span style=\"color: #0000ff\">parks,area</span>: 28, <span style=\"color: #0000ff\">undersea</span>: 27, <span style=\"color: #0000ff\">mountain,hill,rock</span>: 68, <span style=\"color: #0000ff\">forest,heath</span>: 14</span>"
      ],
      "text/plain": [
       "<IPython.core.display.Markdown object>"
      ]
     },
     "metadata": {},
     "output_type": "display_data"
    },
    {
     "data": {
      "text/markdown": [
       "<span style=\"font-size:11pt\">Eval-Settings: metric: <span style=\"color: #0000ff\">accuracy</span>, type: <span style=\"color: #0000ff\">one-vs-rest</span>, DT-Depth: <span style=\"color: #0000ff\">3</span>, train-test-split:<span style=\"color: #0000ff\"> 50.0% in test-set </span></span>"
      ],
      "text/plain": [
       "<IPython.core.display.Markdown object>"
      ]
     },
     "metadata": {},
     "output_type": "display_data"
    },
    {
     "data": {
      "text/markdown": [
       "<span style=\"font-size:11pt\">Per-Class-Scores: stream,lake: 0.65, spot,building,farm: 0.71, road,railroad: 0.82, undersea: 0.45, forest,heath: 0.92, mountain,hill,rock: 0.69, parks,area: 0.58</span>"
      ],
      "text/plain": [
       "<IPython.core.display.Markdown object>"
      ]
     },
     "metadata": {},
     "output_type": "display_data"
    },
    {
     "data": {
      "text/markdown": [
       "<span style=\"font-size:11pt\">Unweighted Mean accuracy: 68.74%</span>"
      ],
      "text/plain": [
       "<IPython.core.display.Markdown object>"
      ]
     },
     "metadata": {},
     "output_type": "display_data"
    },
    {
     "data": {
      "text/markdown": [
       "<span style=\"font-size:11pt\">Weighted Mean accuracy: 68.12%</span>"
      ],
      "text/plain": [
       "<IPython.core.display.Markdown object>"
      ]
     },
     "metadata": {},
     "output_type": "display_data"
    },
    {
     "data": {
      "text/markdown": [
       "<span style=\"font-size:11pt\">====================================================================================================</span>"
      ],
      "text/plain": [
       "<IPython.core.display.Markdown object>"
      ]
     },
     "metadata": {},
     "output_type": "display_data"
    },
    {
     "data": {
      "text/markdown": [
       "<span style=\"font-size:11pt\">Using classes from Geonames - 403/1383 entities have a class</span>"
      ],
      "text/plain": [
       "<IPython.core.display.Markdown object>"
      ]
     },
     "metadata": {},
     "output_type": "display_data"
    },
    {
     "data": {
      "text/markdown": [
       "<span style=\"font-size:11pt\">Labels (7 classes): <span style=\"color: #0000ff\">spot,building,farm</span>: 176, <span style=\"color: #0000ff\">stream,lake</span>: 74, <span style=\"color: #0000ff\">road,railroad</span>: 16, <span style=\"color: #0000ff\">parks,area</span>: 28, <span style=\"color: #0000ff\">undersea</span>: 27, <span style=\"color: #0000ff\">mountain,hill,rock</span>: 68, <span style=\"color: #0000ff\">forest,heath</span>: 14</span>"
      ],
      "text/plain": [
       "<IPython.core.display.Markdown object>"
      ]
     },
     "metadata": {},
     "output_type": "display_data"
    },
    {
     "data": {
      "text/markdown": [
       "<span style=\"font-size:11pt\">Eval-Settings: metric: <span style=\"color: #0000ff\">f1</span>, type: <span style=\"color: #0000ff\">one-vs-rest</span>, DT-Depth: <span style=\"color: #0000ff\">3</span>, train-test-split:<span style=\"color: #0000ff\"> 50.0% in test-set </span></span>"
      ],
      "text/plain": [
       "<IPython.core.display.Markdown object>"
      ]
     },
     "metadata": {},
     "output_type": "display_data"
    },
    {
     "data": {
      "text/markdown": [
       "<span style=\"font-size:11pt\">Per-Class-Scores: stream,lake: 0.47, spot,building,farm: 0.74, road,railroad: 0.00, undersea: 0.18, forest,heath: 0.22, mountain,hill,rock: 0.39, parks,area: 0.21</span>"
      ],
      "text/plain": [
       "<IPython.core.display.Markdown object>"
      ]
     },
     "metadata": {},
     "output_type": "display_data"
    },
    {
     "data": {
      "text/markdown": [
       "<span style=\"font-size:11pt\">Unweighted Mean f1: 31.47%</span>"
      ],
      "text/plain": [
       "<IPython.core.display.Markdown object>"
      ]
     },
     "metadata": {},
     "output_type": "display_data"
    },
    {
     "data": {
      "text/markdown": [
       "<span style=\"font-size:11pt\">Weighted Mean f1: 50.74%</span>"
      ],
      "text/plain": [
       "<IPython.core.display.Markdown object>"
      ]
     },
     "metadata": {},
     "output_type": "display_data"
    },
    {
     "data": {
      "text/markdown": [
       "<span style=\"font-size:11pt\">====================================================================================================</span>"
      ],
      "text/plain": [
       "<IPython.core.display.Markdown object>"
      ]
     },
     "metadata": {},
     "output_type": "display_data"
    },
    {
     "data": {
      "text/markdown": [
       "<span style=\"font-size:11pt\">Using classes from Geonames - 403/1383 entities have a class</span>"
      ],
      "text/plain": [
       "<IPython.core.display.Markdown object>"
      ]
     },
     "metadata": {},
     "output_type": "display_data"
    },
    {
     "data": {
      "text/markdown": [
       "<span style=\"font-size:11pt\">Labels (7 classes): <span style=\"color: #0000ff\">spot,building,farm</span>: 176, <span style=\"color: #0000ff\">stream,lake</span>: 74, <span style=\"color: #0000ff\">road,railroad</span>: 16, <span style=\"color: #0000ff\">parks,area</span>: 28, <span style=\"color: #0000ff\">undersea</span>: 27, <span style=\"color: #0000ff\">mountain,hill,rock</span>: 68, <span style=\"color: #0000ff\">forest,heath</span>: 14</span>"
      ],
      "text/plain": [
       "<IPython.core.display.Markdown object>"
      ]
     },
     "metadata": {},
     "output_type": "display_data"
    },
    {
     "data": {
      "text/markdown": [
       "<span style=\"font-size:11pt\">Eval-Settings: metric: <span style=\"color: #0000ff\">accuracy</span>, type: <span style=\"color: #0000ff\">one-vs-rest</span>, DT-Depth: <span style=\"color: #0000ff\">3</span>, train-test-split:<span style=\"color: #0000ff\"> 50.0% in test-set </span></span>"
      ],
      "text/plain": [
       "<IPython.core.display.Markdown object>"
      ]
     },
     "metadata": {},
     "output_type": "display_data"
    },
    {
     "data": {
      "text/markdown": [
       "<span style=\"font-size:11pt\">Per-Class-Scores: stream,lake: 0.77, spot,building,farm: 0.74, road,railroad: 0.95, undersea: 0.91, forest,heath: 0.97, mountain,hill,rock: 0.82, parks,area: 0.92</span>"
      ],
      "text/plain": [
       "<IPython.core.display.Markdown object>"
      ]
     },
     "metadata": {},
     "output_type": "display_data"
    },
    {
     "data": {
      "text/markdown": [
       "<span style=\"font-size:11pt\">Unweighted Mean accuracy: 86.78%</span>"
      ],
      "text/plain": [
       "<IPython.core.display.Markdown object>"
      ]
     },
     "metadata": {},
     "output_type": "display_data"
    },
    {
     "data": {
      "text/markdown": [
       "<span style=\"font-size:11pt\">Weighted Mean accuracy: 79.99%</span>"
      ],
      "text/plain": [
       "<IPython.core.display.Markdown object>"
      ]
     },
     "metadata": {},
     "output_type": "display_data"
    },
    {
     "data": {
      "text/markdown": [
       "<span style=\"font-size:11pt\">====================================================================================================</span>"
      ],
      "text/plain": [
       "<IPython.core.display.Markdown object>"
      ]
     },
     "metadata": {},
     "output_type": "display_data"
    },
    {
     "data": {
      "text/markdown": [
       "<span style=\"font-size:11pt\">Using classes from Geonames - 403/1383 entities have a class</span>"
      ],
      "text/plain": [
       "<IPython.core.display.Markdown object>"
      ]
     },
     "metadata": {},
     "output_type": "display_data"
    },
    {
     "data": {
      "text/markdown": [
       "<span style=\"font-size:11pt\">Labels (7 classes): <span style=\"color: #0000ff\">spot,building,farm</span>: 176, <span style=\"color: #0000ff\">stream,lake</span>: 74, <span style=\"color: #0000ff\">road,railroad</span>: 16, <span style=\"color: #0000ff\">parks,area</span>: 28, <span style=\"color: #0000ff\">undersea</span>: 27, <span style=\"color: #0000ff\">mountain,hill,rock</span>: 68, <span style=\"color: #0000ff\">forest,heath</span>: 14</span>"
      ],
      "text/plain": [
       "<IPython.core.display.Markdown object>"
      ]
     },
     "metadata": {},
     "output_type": "display_data"
    },
    {
     "data": {
      "text/markdown": [
       "<span style=\"font-size:11pt\">Eval-Settings: metric: <span style=\"color: #0000ff\">f1</span>, type: <span style=\"color: #0000ff\">one-vs-rest</span>, DT-Depth: <span style=\"color: #0000ff\">3</span>, train-test-split:<span style=\"color: #0000ff\"> 50.0% in test-set </span></span>"
      ],
      "text/plain": [
       "<IPython.core.display.Markdown object>"
      ]
     },
     "metadata": {},
     "output_type": "display_data"
    },
    {
     "data": {
      "text/markdown": [
       "<span style=\"font-size:11pt\">Per-Class-Scores: stream,lake: 0.00, spot,building,farm: 0.76, road,railroad: 0.00, undersea: 0.10, forest,heath: 0.13, mountain,hill,rock: 0.00, parks,area: 0.00</span>"
      ],
      "text/plain": [
       "<IPython.core.display.Markdown object>"
      ]
     },
     "metadata": {},
     "output_type": "display_data"
    },
    {
     "data": {
      "text/markdown": [
       "<span style=\"font-size:11pt\">Unweighted Mean f1: 14.06%</span>"
      ],
      "text/plain": [
       "<IPython.core.display.Markdown object>"
      ]
     },
     "metadata": {},
     "output_type": "display_data"
    },
    {
     "data": {
      "text/markdown": [
       "<span style=\"font-size:11pt\">Weighted Mean f1: 34.11%</span>"
      ],
      "text/plain": [
       "<IPython.core.display.Markdown object>"
      ]
     },
     "metadata": {},
     "output_type": "display_data"
    },
    {
     "data": {
      "text/markdown": [
       "<span style=\"font-size:11pt\">====================================================================================================</span>"
      ],
      "text/plain": [
       "<IPython.core.display.Markdown object>"
      ]
     },
     "metadata": {},
     "output_type": "display_data"
    },
    {
     "data": {
      "text/markdown": [
       "<span style=\"font-size:11pt\">Using classes from Geonames - 403/1383 entities have a class</span>"
      ],
      "text/plain": [
       "<IPython.core.display.Markdown object>"
      ]
     },
     "metadata": {},
     "output_type": "display_data"
    },
    {
     "data": {
      "text/markdown": [
       "<span style=\"font-size:11pt\">Labels (7 classes): <span style=\"color: #0000ff\">spot,building,farm</span>: 176, <span style=\"color: #0000ff\">stream,lake</span>: 74, <span style=\"color: #0000ff\">road,railroad</span>: 16, <span style=\"color: #0000ff\">parks,area</span>: 28, <span style=\"color: #0000ff\">undersea</span>: 27, <span style=\"color: #0000ff\">mountain,hill,rock</span>: 68, <span style=\"color: #0000ff\">forest,heath</span>: 14</span>"
      ],
      "text/plain": [
       "<IPython.core.display.Markdown object>"
      ]
     },
     "metadata": {},
     "output_type": "display_data"
    },
    {
     "data": {
      "text/markdown": [
       "<span style=\"font-size:11pt\">Eval-Settings: metric: <span style=\"color: #0000ff\">accuracy</span>, type: <span style=\"color: #0000ff\">one-vs-rest</span>, DT-Depth: <span style=\"color: #0000ff\">None</span>, train-test-split:<span style=\"color: #0000ff\"> 50.0% in test-set </span></span>"
      ],
      "text/plain": [
       "<IPython.core.display.Markdown object>"
      ]
     },
     "metadata": {},
     "output_type": "display_data"
    },
    {
     "data": {
      "text/markdown": [
       "<span style=\"font-size:11pt\">Per-Class-Scores: stream,lake: 0.75, spot,building,farm: 0.66, road,railroad: 0.93, undersea: 0.88, forest,heath: 0.95, mountain,hill,rock: 0.81, parks,area: 0.84</span>"
      ],
      "text/plain": [
       "<IPython.core.display.Markdown object>"
      ]
     },
     "metadata": {},
     "output_type": "display_data"
    },
    {
     "data": {
      "text/markdown": [
       "<span style=\"font-size:11pt\">Unweighted Mean accuracy: 82.81%</span>"
      ],
      "text/plain": [
       "<IPython.core.display.Markdown object>"
      ]
     },
     "metadata": {},
     "output_type": "display_data"
    },
    {
     "data": {
      "text/markdown": [
       "<span style=\"font-size:11pt\">Weighted Mean accuracy: 74.74%</span>"
      ],
      "text/plain": [
       "<IPython.core.display.Markdown object>"
      ]
     },
     "metadata": {},
     "output_type": "display_data"
    },
    {
     "data": {
      "text/markdown": [
       "<span style=\"font-size:11pt\">====================================================================================================</span>"
      ],
      "text/plain": [
       "<IPython.core.display.Markdown object>"
      ]
     },
     "metadata": {},
     "output_type": "display_data"
    },
    {
     "data": {
      "text/markdown": [
       "<span style=\"font-size:11pt\">Using classes from Geonames - 403/1383 entities have a class</span>"
      ],
      "text/plain": [
       "<IPython.core.display.Markdown object>"
      ]
     },
     "metadata": {},
     "output_type": "display_data"
    },
    {
     "data": {
      "text/markdown": [
       "<span style=\"font-size:11pt\">Labels (7 classes): <span style=\"color: #0000ff\">spot,building,farm</span>: 176, <span style=\"color: #0000ff\">stream,lake</span>: 74, <span style=\"color: #0000ff\">road,railroad</span>: 16, <span style=\"color: #0000ff\">parks,area</span>: 28, <span style=\"color: #0000ff\">undersea</span>: 27, <span style=\"color: #0000ff\">mountain,hill,rock</span>: 68, <span style=\"color: #0000ff\">forest,heath</span>: 14</span>"
      ],
      "text/plain": [
       "<IPython.core.display.Markdown object>"
      ]
     },
     "metadata": {},
     "output_type": "display_data"
    },
    {
     "data": {
      "text/markdown": [
       "<span style=\"font-size:11pt\">Eval-Settings: metric: <span style=\"color: #0000ff\">f1</span>, type: <span style=\"color: #0000ff\">one-vs-rest</span>, DT-Depth: <span style=\"color: #0000ff\">None</span>, train-test-split:<span style=\"color: #0000ff\"> 50.0% in test-set </span></span>"
      ],
      "text/plain": [
       "<IPython.core.display.Markdown object>"
      ]
     },
     "metadata": {},
     "output_type": "display_data"
    },
    {
     "data": {
      "text/markdown": [
       "<span style=\"font-size:11pt\">Per-Class-Scores: stream,lake: 0.24, spot,building,farm: 0.60, road,railroad: 0.00, undersea: 0.00, forest,heath: 0.00, mountain,hill,rock: 0.21, parks,area: 0.00</span>"
      ],
      "text/plain": [
       "<IPython.core.display.Markdown object>"
      ]
     },
     "metadata": {},
     "output_type": "display_data"
    },
    {
     "data": {
      "text/markdown": [
       "<span style=\"font-size:11pt\">Unweighted Mean f1: 14.91%</span>"
      ],
      "text/plain": [
       "<IPython.core.display.Markdown object>"
      ]
     },
     "metadata": {},
     "output_type": "display_data"
    },
    {
     "data": {
      "text/markdown": [
       "<span style=\"font-size:11pt\">Weighted Mean f1: 33.93%</span>"
      ],
      "text/plain": [
       "<IPython.core.display.Markdown object>"
      ]
     },
     "metadata": {},
     "output_type": "display_data"
    },
    {
     "data": {
      "text/markdown": [
       "<span style=\"font-size:11pt\">====================================================================================================</span>"
      ],
      "text/plain": [
       "<IPython.core.display.Markdown object>"
      ]
     },
     "metadata": {},
     "output_type": "display_data"
    },
    {
     "data": {
      "text/markdown": [
       "<span style=\"font-size:11pt\">Using classes from Geonames - 403/1383 entities have a class</span>"
      ],
      "text/plain": [
       "<IPython.core.display.Markdown object>"
      ]
     },
     "metadata": {},
     "output_type": "display_data"
    },
    {
     "data": {
      "text/markdown": [
       "<span style=\"font-size:11pt\">Labels (7 classes): <span style=\"color: #0000ff\">spot,building,farm</span>: 176, <span style=\"color: #0000ff\">stream,lake</span>: 74, <span style=\"color: #0000ff\">road,railroad</span>: 16, <span style=\"color: #0000ff\">parks,area</span>: 28, <span style=\"color: #0000ff\">undersea</span>: 27, <span style=\"color: #0000ff\">mountain,hill,rock</span>: 68, <span style=\"color: #0000ff\">forest,heath</span>: 14</span>"
      ],
      "text/plain": [
       "<IPython.core.display.Markdown object>"
      ]
     },
     "metadata": {},
     "output_type": "display_data"
    },
    {
     "data": {
      "text/markdown": [
       "<span style=\"font-size:11pt\">Eval-Settings: metric: <span style=\"color: #0000ff\">accuracy</span>, type: <span style=\"color: #0000ff\">one-vs-rest</span>, DT-Depth: <span style=\"color: #0000ff\">None</span>, train-test-split:<span style=\"color: #0000ff\"> 50.0% in test-set </span></span>"
      ],
      "text/plain": [
       "<IPython.core.display.Markdown object>"
      ]
     },
     "metadata": {},
     "output_type": "display_data"
    },
    {
     "data": {
      "text/markdown": [
       "<span style=\"font-size:11pt\">Per-Class-Scores: stream,lake: 0.72, spot,building,farm: 0.70, road,railroad: 0.92, undersea: 0.91, forest,heath: 0.94, mountain,hill,rock: 0.76, parks,area: 0.90</span>"
      ],
      "text/plain": [
       "<IPython.core.display.Markdown object>"
      ]
     },
     "metadata": {},
     "output_type": "display_data"
    },
    {
     "data": {
      "text/markdown": [
       "<span style=\"font-size:11pt\">Unweighted Mean accuracy: 83.38%</span>"
      ],
      "text/plain": [
       "<IPython.core.display.Markdown object>"
      ]
     },
     "metadata": {},
     "output_type": "display_data"
    },
    {
     "data": {
      "text/markdown": [
       "<span style=\"font-size:11pt\">Weighted Mean accuracy: 75.66%</span>"
      ],
      "text/plain": [
       "<IPython.core.display.Markdown object>"
      ]
     },
     "metadata": {},
     "output_type": "display_data"
    },
    {
     "data": {
      "text/markdown": [
       "<span style=\"font-size:11pt\">====================================================================================================</span>"
      ],
      "text/plain": [
       "<IPython.core.display.Markdown object>"
      ]
     },
     "metadata": {},
     "output_type": "display_data"
    },
    {
     "data": {
      "text/markdown": [
       "<span style=\"font-size:11pt\">Using classes from Geonames - 403/1383 entities have a class</span>"
      ],
      "text/plain": [
       "<IPython.core.display.Markdown object>"
      ]
     },
     "metadata": {},
     "output_type": "display_data"
    },
    {
     "data": {
      "text/markdown": [
       "<span style=\"font-size:11pt\">Labels (7 classes): <span style=\"color: #0000ff\">spot,building,farm</span>: 176, <span style=\"color: #0000ff\">stream,lake</span>: 74, <span style=\"color: #0000ff\">road,railroad</span>: 16, <span style=\"color: #0000ff\">parks,area</span>: 28, <span style=\"color: #0000ff\">undersea</span>: 27, <span style=\"color: #0000ff\">mountain,hill,rock</span>: 68, <span style=\"color: #0000ff\">forest,heath</span>: 14</span>"
      ],
      "text/plain": [
       "<IPython.core.display.Markdown object>"
      ]
     },
     "metadata": {},
     "output_type": "display_data"
    },
    {
     "data": {
      "text/markdown": [
       "<span style=\"font-size:11pt\">Eval-Settings: metric: <span style=\"color: #0000ff\">f1</span>, type: <span style=\"color: #0000ff\">one-vs-rest</span>, DT-Depth: <span style=\"color: #0000ff\">None</span>, train-test-split:<span style=\"color: #0000ff\"> 50.0% in test-set </span></span>"
      ],
      "text/plain": [
       "<IPython.core.display.Markdown object>"
      ]
     },
     "metadata": {},
     "output_type": "display_data"
    },
    {
     "data": {
      "text/markdown": [
       "<span style=\"font-size:11pt\">Per-Class-Scores: stream,lake: 0.35, spot,building,farm: 0.69, road,railroad: 0.00, undersea: 0.00, forest,heath: 0.12, mountain,hill,rock: 0.21, parks,area: 0.26</span>"
      ],
      "text/plain": [
       "<IPython.core.display.Markdown object>"
      ]
     },
     "metadata": {},
     "output_type": "display_data"
    },
    {
     "data": {
      "text/markdown": [
       "<span style=\"font-size:11pt\">Unweighted Mean f1: 23.31%</span>"
      ],
      "text/plain": [
       "<IPython.core.display.Markdown object>"
      ]
     },
     "metadata": {},
     "output_type": "display_data"
    },
    {
     "data": {
      "text/markdown": [
       "<span style=\"font-size:11pt\">Weighted Mean f1: 42.48%</span>"
      ],
      "text/plain": [
       "<IPython.core.display.Markdown object>"
      ]
     },
     "metadata": {},
     "output_type": "display_data"
    },
    {
     "data": {
      "text/markdown": [
       "<span style=\"font-size:11pt\">====================================================================================================</span>"
      ],
      "text/plain": [
       "<IPython.core.display.Markdown object>"
      ]
     },
     "metadata": {},
     "output_type": "display_data"
    },
    {
     "data": {
      "text/markdown": [
       "<span style=\"font-size:11pt\">Using classes from Geonames - 403/1383 entities have a class</span>"
      ],
      "text/plain": [
       "<IPython.core.display.Markdown object>"
      ]
     },
     "metadata": {},
     "output_type": "display_data"
    },
    {
     "data": {
      "text/markdown": [
       "<span style=\"font-size:11pt\">Labels (7 classes): <span style=\"color: #0000ff\">spot,building,farm</span>: 176, <span style=\"color: #0000ff\">stream,lake</span>: 74, <span style=\"color: #0000ff\">road,railroad</span>: 16, <span style=\"color: #0000ff\">parks,area</span>: 28, <span style=\"color: #0000ff\">undersea</span>: 27, <span style=\"color: #0000ff\">mountain,hill,rock</span>: 68, <span style=\"color: #0000ff\">forest,heath</span>: 14</span>"
      ],
      "text/plain": [
       "<IPython.core.display.Markdown object>"
      ]
     },
     "metadata": {},
     "output_type": "display_data"
    },
    {
     "data": {
      "text/markdown": [
       "<span style=\"font-size:11pt\">Eval-Settings: metric: <span style=\"color: #0000ff\">accuracy</span>, type: <span style=\"color: #0000ff\">all-at-once</span>, DT-Depth: <span style=\"color: #0000ff\">1</span>, train-test-split:<span style=\"color: #0000ff\"> 50.0% in test-set </span></span>"
      ],
      "text/plain": [
       "<IPython.core.display.Markdown object>"
      ]
     },
     "metadata": {},
     "output_type": "display_data"
    },
    {
     "name": "stderr",
     "output_type": "stream",
     "text": [
      "derive_conceptualspace/evaluate/shallow_trees.py:141: UserWarning: There are more classes (7) than your decision-tree can possibly classify (2)\n"
     ]
    },
    {
     "data": {
      "text/markdown": [
       "<span style=\"font-size:11pt\">accuracy: 0.06</span>"
      ],
      "text/plain": [
       "<IPython.core.display.Markdown object>"
      ]
     },
     "metadata": {},
     "output_type": "display_data"
    },
    {
     "data": {
      "text/markdown": [
       "<span style=\"font-size:11pt\">Baseline accuracy: 0.44</span>"
      ],
      "text/plain": [
       "<IPython.core.display.Markdown object>"
      ]
     },
     "metadata": {},
     "output_type": "display_data"
    },
    {
     "data": {
      "text/markdown": [
       "<span style=\"font-size:11pt\">Maximally achievable accuracy: 0.62</span>"
      ],
      "text/plain": [
       "<IPython.core.display.Markdown object>"
      ]
     },
     "metadata": {},
     "output_type": "display_data"
    },
    {
     "data": {
      "text/markdown": [
       "<span style=\"font-size:11pt\">====================================================================================================</span>"
      ],
      "text/plain": [
       "<IPython.core.display.Markdown object>"
      ]
     },
     "metadata": {},
     "output_type": "display_data"
    },
    {
     "data": {
      "text/markdown": [
       "<span style=\"font-size:11pt\">Using classes from Geonames - 403/1383 entities have a class</span>"
      ],
      "text/plain": [
       "<IPython.core.display.Markdown object>"
      ]
     },
     "metadata": {},
     "output_type": "display_data"
    },
    {
     "data": {
      "text/markdown": [
       "<span style=\"font-size:11pt\">Labels (7 classes): <span style=\"color: #0000ff\">spot,building,farm</span>: 176, <span style=\"color: #0000ff\">stream,lake</span>: 74, <span style=\"color: #0000ff\">road,railroad</span>: 16, <span style=\"color: #0000ff\">parks,area</span>: 28, <span style=\"color: #0000ff\">undersea</span>: 27, <span style=\"color: #0000ff\">mountain,hill,rock</span>: 68, <span style=\"color: #0000ff\">forest,heath</span>: 14</span>"
      ],
      "text/plain": [
       "<IPython.core.display.Markdown object>"
      ]
     },
     "metadata": {},
     "output_type": "display_data"
    },
    {
     "data": {
      "text/markdown": [
       "<span style=\"font-size:11pt\">Eval-Settings: metric: <span style=\"color: #0000ff\">f1</span>, type: <span style=\"color: #0000ff\">all-at-once</span>, DT-Depth: <span style=\"color: #0000ff\">1</span>, train-test-split:<span style=\"color: #0000ff\"> 50.0% in test-set </span></span>"
      ],
      "text/plain": [
       "<IPython.core.display.Markdown object>"
      ]
     },
     "metadata": {},
     "output_type": "display_data"
    },
    {
     "name": "stderr",
     "output_type": "stream",
     "text": [
      "derive_conceptualspace/evaluate/shallow_trees.py:141: UserWarning: There are more classes (7) than your decision-tree can possibly classify (2)\n"
     ]
    },
    {
     "data": {
      "text/markdown": [
       "<span style=\"font-size:11pt\">f1: 0.03</span>"
      ],
      "text/plain": [
       "<IPython.core.display.Markdown object>"
      ]
     },
     "metadata": {},
     "output_type": "display_data"
    },
    {
     "data": {
      "text/markdown": [
       "<span style=\"font-size:11pt\">Baseline f1: 0.44</span>"
      ],
      "text/plain": [
       "<IPython.core.display.Markdown object>"
      ]
     },
     "metadata": {},
     "output_type": "display_data"
    },
    {
     "data": {
      "text/markdown": [
       "<span style=\"font-size:11pt\">====================================================================================================</span>"
      ],
      "text/plain": [
       "<IPython.core.display.Markdown object>"
      ]
     },
     "metadata": {},
     "output_type": "display_data"
    },
    {
     "data": {
      "text/markdown": [
       "<span style=\"font-size:11pt\">Using classes from Geonames - 403/1383 entities have a class</span>"
      ],
      "text/plain": [
       "<IPython.core.display.Markdown object>"
      ]
     },
     "metadata": {},
     "output_type": "display_data"
    },
    {
     "data": {
      "text/markdown": [
       "<span style=\"font-size:11pt\">Labels (7 classes): <span style=\"color: #0000ff\">spot,building,farm</span>: 176, <span style=\"color: #0000ff\">stream,lake</span>: 74, <span style=\"color: #0000ff\">road,railroad</span>: 16, <span style=\"color: #0000ff\">parks,area</span>: 28, <span style=\"color: #0000ff\">undersea</span>: 27, <span style=\"color: #0000ff\">mountain,hill,rock</span>: 68, <span style=\"color: #0000ff\">forest,heath</span>: 14</span>"
      ],
      "text/plain": [
       "<IPython.core.display.Markdown object>"
      ]
     },
     "metadata": {},
     "output_type": "display_data"
    },
    {
     "data": {
      "text/markdown": [
       "<span style=\"font-size:11pt\">Eval-Settings: metric: <span style=\"color: #0000ff\">accuracy</span>, type: <span style=\"color: #0000ff\">all-at-once</span>, DT-Depth: <span style=\"color: #0000ff\">1</span>, train-test-split:<span style=\"color: #0000ff\"> 50.0% in test-set </span></span>"
      ],
      "text/plain": [
       "<IPython.core.display.Markdown object>"
      ]
     },
     "metadata": {},
     "output_type": "display_data"
    },
    {
     "name": "stderr",
     "output_type": "stream",
     "text": [
      "derive_conceptualspace/evaluate/shallow_trees.py:141: UserWarning: There are more classes (7) than your decision-tree can possibly classify (2)\n"
     ]
    },
    {
     "data": {
      "text/markdown": [
       "<span style=\"font-size:11pt\">accuracy: 0.49</span>"
      ],
      "text/plain": [
       "<IPython.core.display.Markdown object>"
      ]
     },
     "metadata": {},
     "output_type": "display_data"
    },
    {
     "data": {
      "text/markdown": [
       "<span style=\"font-size:11pt\">Baseline accuracy: 0.44</span>"
      ],
      "text/plain": [
       "<IPython.core.display.Markdown object>"
      ]
     },
     "metadata": {},
     "output_type": "display_data"
    },
    {
     "data": {
      "text/markdown": [
       "<span style=\"font-size:11pt\">Maximally achievable accuracy: 0.62</span>"
      ],
      "text/plain": [
       "<IPython.core.display.Markdown object>"
      ]
     },
     "metadata": {},
     "output_type": "display_data"
    },
    {
     "data": {
      "text/markdown": [
       "<span style=\"font-size:11pt\">====================================================================================================</span>"
      ],
      "text/plain": [
       "<IPython.core.display.Markdown object>"
      ]
     },
     "metadata": {},
     "output_type": "display_data"
    },
    {
     "data": {
      "text/markdown": [
       "<span style=\"font-size:11pt\">Using classes from Geonames - 403/1383 entities have a class</span>"
      ],
      "text/plain": [
       "<IPython.core.display.Markdown object>"
      ]
     },
     "metadata": {},
     "output_type": "display_data"
    },
    {
     "data": {
      "text/markdown": [
       "<span style=\"font-size:11pt\">Labels (7 classes): <span style=\"color: #0000ff\">spot,building,farm</span>: 176, <span style=\"color: #0000ff\">stream,lake</span>: 74, <span style=\"color: #0000ff\">road,railroad</span>: 16, <span style=\"color: #0000ff\">parks,area</span>: 28, <span style=\"color: #0000ff\">undersea</span>: 27, <span style=\"color: #0000ff\">mountain,hill,rock</span>: 68, <span style=\"color: #0000ff\">forest,heath</span>: 14</span>"
      ],
      "text/plain": [
       "<IPython.core.display.Markdown object>"
      ]
     },
     "metadata": {},
     "output_type": "display_data"
    },
    {
     "data": {
      "text/markdown": [
       "<span style=\"font-size:11pt\">Eval-Settings: metric: <span style=\"color: #0000ff\">f1</span>, type: <span style=\"color: #0000ff\">all-at-once</span>, DT-Depth: <span style=\"color: #0000ff\">1</span>, train-test-split:<span style=\"color: #0000ff\"> 50.0% in test-set </span></span>"
      ],
      "text/plain": [
       "<IPython.core.display.Markdown object>"
      ]
     },
     "metadata": {},
     "output_type": "display_data"
    },
    {
     "name": "stderr",
     "output_type": "stream",
     "text": [
      "derive_conceptualspace/evaluate/shallow_trees.py:141: UserWarning: There are more classes (7) than your decision-tree can possibly classify (2)\n"
     ]
    },
    {
     "data": {
      "text/markdown": [
       "<span style=\"font-size:11pt\">f1: 0.40</span>"
      ],
      "text/plain": [
       "<IPython.core.display.Markdown object>"
      ]
     },
     "metadata": {},
     "output_type": "display_data"
    },
    {
     "data": {
      "text/markdown": [
       "<span style=\"font-size:11pt\">Baseline f1: 0.44</span>"
      ],
      "text/plain": [
       "<IPython.core.display.Markdown object>"
      ]
     },
     "metadata": {},
     "output_type": "display_data"
    },
    {
     "data": {
      "text/markdown": [
       "<span style=\"font-size:11pt\">====================================================================================================</span>"
      ],
      "text/plain": [
       "<IPython.core.display.Markdown object>"
      ]
     },
     "metadata": {},
     "output_type": "display_data"
    },
    {
     "data": {
      "text/markdown": [
       "<span style=\"font-size:11pt\">Using classes from Geonames - 403/1383 entities have a class</span>"
      ],
      "text/plain": [
       "<IPython.core.display.Markdown object>"
      ]
     },
     "metadata": {},
     "output_type": "display_data"
    },
    {
     "data": {
      "text/markdown": [
       "<span style=\"font-size:11pt\">Labels (7 classes): <span style=\"color: #0000ff\">spot,building,farm</span>: 176, <span style=\"color: #0000ff\">stream,lake</span>: 74, <span style=\"color: #0000ff\">road,railroad</span>: 16, <span style=\"color: #0000ff\">parks,area</span>: 28, <span style=\"color: #0000ff\">undersea</span>: 27, <span style=\"color: #0000ff\">mountain,hill,rock</span>: 68, <span style=\"color: #0000ff\">forest,heath</span>: 14</span>"
      ],
      "text/plain": [
       "<IPython.core.display.Markdown object>"
      ]
     },
     "metadata": {},
     "output_type": "display_data"
    },
    {
     "data": {
      "text/markdown": [
       "<span style=\"font-size:11pt\">Eval-Settings: metric: <span style=\"color: #0000ff\">accuracy</span>, type: <span style=\"color: #0000ff\">all-at-once</span>, DT-Depth: <span style=\"color: #0000ff\">2</span>, train-test-split:<span style=\"color: #0000ff\"> 50.0% in test-set </span></span>"
      ],
      "text/plain": [
       "<IPython.core.display.Markdown object>"
      ]
     },
     "metadata": {},
     "output_type": "display_data"
    },
    {
     "name": "stderr",
     "output_type": "stream",
     "text": [
      "derive_conceptualspace/evaluate/shallow_trees.py:141: UserWarning: There are more classes (7) than your decision-tree can possibly classify (4)\n"
     ]
    },
    {
     "data": {
      "text/markdown": [
       "<span style=\"font-size:11pt\">accuracy: 0.32</span>"
      ],
      "text/plain": [
       "<IPython.core.display.Markdown object>"
      ]
     },
     "metadata": {},
     "output_type": "display_data"
    },
    {
     "data": {
      "text/markdown": [
       "<span style=\"font-size:11pt\">====================================================================================================</span>"
      ],
      "text/plain": [
       "<IPython.core.display.Markdown object>"
      ]
     },
     "metadata": {},
     "output_type": "display_data"
    },
    {
     "data": {
      "text/markdown": [
       "<span style=\"font-size:11pt\">Using classes from Geonames - 403/1383 entities have a class</span>"
      ],
      "text/plain": [
       "<IPython.core.display.Markdown object>"
      ]
     },
     "metadata": {},
     "output_type": "display_data"
    },
    {
     "data": {
      "text/markdown": [
       "<span style=\"font-size:11pt\">Labels (7 classes): <span style=\"color: #0000ff\">spot,building,farm</span>: 176, <span style=\"color: #0000ff\">stream,lake</span>: 74, <span style=\"color: #0000ff\">road,railroad</span>: 16, <span style=\"color: #0000ff\">parks,area</span>: 28, <span style=\"color: #0000ff\">undersea</span>: 27, <span style=\"color: #0000ff\">mountain,hill,rock</span>: 68, <span style=\"color: #0000ff\">forest,heath</span>: 14</span>"
      ],
      "text/plain": [
       "<IPython.core.display.Markdown object>"
      ]
     },
     "metadata": {},
     "output_type": "display_data"
    },
    {
     "data": {
      "text/markdown": [
       "<span style=\"font-size:11pt\">Eval-Settings: metric: <span style=\"color: #0000ff\">f1</span>, type: <span style=\"color: #0000ff\">all-at-once</span>, DT-Depth: <span style=\"color: #0000ff\">2</span>, train-test-split:<span style=\"color: #0000ff\"> 50.0% in test-set </span></span>"
      ],
      "text/plain": [
       "<IPython.core.display.Markdown object>"
      ]
     },
     "metadata": {},
     "output_type": "display_data"
    },
    {
     "name": "stderr",
     "output_type": "stream",
     "text": [
      "derive_conceptualspace/evaluate/shallow_trees.py:141: UserWarning: There are more classes (7) than your decision-tree can possibly classify (4)\n"
     ]
    },
    {
     "data": {
      "text/markdown": [
       "<span style=\"font-size:11pt\">f1: 0.14</span>"
      ],
      "text/plain": [
       "<IPython.core.display.Markdown object>"
      ]
     },
     "metadata": {},
     "output_type": "display_data"
    },
    {
     "data": {
      "text/markdown": [
       "<span style=\"font-size:11pt\">====================================================================================================</span>"
      ],
      "text/plain": [
       "<IPython.core.display.Markdown object>"
      ]
     },
     "metadata": {},
     "output_type": "display_data"
    },
    {
     "data": {
      "text/markdown": [
       "<span style=\"font-size:11pt\">Using classes from Geonames - 403/1383 entities have a class</span>"
      ],
      "text/plain": [
       "<IPython.core.display.Markdown object>"
      ]
     },
     "metadata": {},
     "output_type": "display_data"
    },
    {
     "data": {
      "text/markdown": [
       "<span style=\"font-size:11pt\">Labels (7 classes): <span style=\"color: #0000ff\">spot,building,farm</span>: 176, <span style=\"color: #0000ff\">stream,lake</span>: 74, <span style=\"color: #0000ff\">road,railroad</span>: 16, <span style=\"color: #0000ff\">parks,area</span>: 28, <span style=\"color: #0000ff\">undersea</span>: 27, <span style=\"color: #0000ff\">mountain,hill,rock</span>: 68, <span style=\"color: #0000ff\">forest,heath</span>: 14</span>"
      ],
      "text/plain": [
       "<IPython.core.display.Markdown object>"
      ]
     },
     "metadata": {},
     "output_type": "display_data"
    },
    {
     "data": {
      "text/markdown": [
       "<span style=\"font-size:11pt\">Eval-Settings: metric: <span style=\"color: #0000ff\">accuracy</span>, type: <span style=\"color: #0000ff\">all-at-once</span>, DT-Depth: <span style=\"color: #0000ff\">2</span>, train-test-split:<span style=\"color: #0000ff\"> 50.0% in test-set </span></span>"
      ],
      "text/plain": [
       "<IPython.core.display.Markdown object>"
      ]
     },
     "metadata": {},
     "output_type": "display_data"
    },
    {
     "name": "stderr",
     "output_type": "stream",
     "text": [
      "derive_conceptualspace/evaluate/shallow_trees.py:141: UserWarning: There are more classes (7) than your decision-tree can possibly classify (4)\n"
     ]
    },
    {
     "data": {
      "text/markdown": [
       "<span style=\"font-size:11pt\">accuracy: 0.45</span>"
      ],
      "text/plain": [
       "<IPython.core.display.Markdown object>"
      ]
     },
     "metadata": {},
     "output_type": "display_data"
    },
    {
     "data": {
      "text/markdown": [
       "<span style=\"font-size:11pt\">====================================================================================================</span>"
      ],
      "text/plain": [
       "<IPython.core.display.Markdown object>"
      ]
     },
     "metadata": {},
     "output_type": "display_data"
    },
    {
     "data": {
      "text/markdown": [
       "<span style=\"font-size:11pt\">Using classes from Geonames - 403/1383 entities have a class</span>"
      ],
      "text/plain": [
       "<IPython.core.display.Markdown object>"
      ]
     },
     "metadata": {},
     "output_type": "display_data"
    },
    {
     "data": {
      "text/markdown": [
       "<span style=\"font-size:11pt\">Labels (7 classes): <span style=\"color: #0000ff\">spot,building,farm</span>: 176, <span style=\"color: #0000ff\">stream,lake</span>: 74, <span style=\"color: #0000ff\">road,railroad</span>: 16, <span style=\"color: #0000ff\">parks,area</span>: 28, <span style=\"color: #0000ff\">undersea</span>: 27, <span style=\"color: #0000ff\">mountain,hill,rock</span>: 68, <span style=\"color: #0000ff\">forest,heath</span>: 14</span>"
      ],
      "text/plain": [
       "<IPython.core.display.Markdown object>"
      ]
     },
     "metadata": {},
     "output_type": "display_data"
    },
    {
     "data": {
      "text/markdown": [
       "<span style=\"font-size:11pt\">Eval-Settings: metric: <span style=\"color: #0000ff\">f1</span>, type: <span style=\"color: #0000ff\">all-at-once</span>, DT-Depth: <span style=\"color: #0000ff\">2</span>, train-test-split:<span style=\"color: #0000ff\"> 50.0% in test-set </span></span>"
      ],
      "text/plain": [
       "<IPython.core.display.Markdown object>"
      ]
     },
     "metadata": {},
     "output_type": "display_data"
    },
    {
     "name": "stderr",
     "output_type": "stream",
     "text": [
      "derive_conceptualspace/evaluate/shallow_trees.py:141: UserWarning: There are more classes (7) than your decision-tree can possibly classify (4)\n"
     ]
    },
    {
     "data": {
      "text/markdown": [
       "<span style=\"font-size:11pt\">f1: 0.47</span>"
      ],
      "text/plain": [
       "<IPython.core.display.Markdown object>"
      ]
     },
     "metadata": {},
     "output_type": "display_data"
    },
    {
     "data": {
      "text/markdown": [
       "<span style=\"font-size:11pt\">====================================================================================================</span>"
      ],
      "text/plain": [
       "<IPython.core.display.Markdown object>"
      ]
     },
     "metadata": {},
     "output_type": "display_data"
    },
    {
     "data": {
      "text/markdown": [
       "<span style=\"font-size:11pt\">Using classes from Geonames - 403/1383 entities have a class</span>"
      ],
      "text/plain": [
       "<IPython.core.display.Markdown object>"
      ]
     },
     "metadata": {},
     "output_type": "display_data"
    },
    {
     "data": {
      "text/markdown": [
       "<span style=\"font-size:11pt\">Labels (7 classes): <span style=\"color: #0000ff\">spot,building,farm</span>: 176, <span style=\"color: #0000ff\">stream,lake</span>: 74, <span style=\"color: #0000ff\">road,railroad</span>: 16, <span style=\"color: #0000ff\">parks,area</span>: 28, <span style=\"color: #0000ff\">undersea</span>: 27, <span style=\"color: #0000ff\">mountain,hill,rock</span>: 68, <span style=\"color: #0000ff\">forest,heath</span>: 14</span>"
      ],
      "text/plain": [
       "<IPython.core.display.Markdown object>"
      ]
     },
     "metadata": {},
     "output_type": "display_data"
    },
    {
     "data": {
      "text/markdown": [
       "<span style=\"font-size:11pt\">Eval-Settings: metric: <span style=\"color: #0000ff\">accuracy</span>, type: <span style=\"color: #0000ff\">all-at-once</span>, DT-Depth: <span style=\"color: #0000ff\">3</span>, train-test-split:<span style=\"color: #0000ff\"> 50.0% in test-set </span></span>"
      ],
      "text/plain": [
       "<IPython.core.display.Markdown object>"
      ]
     },
     "metadata": {},
     "output_type": "display_data"
    },
    {
     "data": {
      "text/markdown": [
       "<span style=\"font-size:11pt\">accuracy: 0.21</span>"
      ],
      "text/plain": [
       "<IPython.core.display.Markdown object>"
      ]
     },
     "metadata": {},
     "output_type": "display_data"
    },
    {
     "data": {
      "text/markdown": [
       "<span style=\"font-size:11pt\">====================================================================================================</span>"
      ],
      "text/plain": [
       "<IPython.core.display.Markdown object>"
      ]
     },
     "metadata": {},
     "output_type": "display_data"
    },
    {
     "data": {
      "text/markdown": [
       "<span style=\"font-size:11pt\">Using classes from Geonames - 403/1383 entities have a class</span>"
      ],
      "text/plain": [
       "<IPython.core.display.Markdown object>"
      ]
     },
     "metadata": {},
     "output_type": "display_data"
    },
    {
     "data": {
      "text/markdown": [
       "<span style=\"font-size:11pt\">Labels (7 classes): <span style=\"color: #0000ff\">spot,building,farm</span>: 176, <span style=\"color: #0000ff\">stream,lake</span>: 74, <span style=\"color: #0000ff\">road,railroad</span>: 16, <span style=\"color: #0000ff\">parks,area</span>: 28, <span style=\"color: #0000ff\">undersea</span>: 27, <span style=\"color: #0000ff\">mountain,hill,rock</span>: 68, <span style=\"color: #0000ff\">forest,heath</span>: 14</span>"
      ],
      "text/plain": [
       "<IPython.core.display.Markdown object>"
      ]
     },
     "metadata": {},
     "output_type": "display_data"
    },
    {
     "data": {
      "text/markdown": [
       "<span style=\"font-size:11pt\">Eval-Settings: metric: <span style=\"color: #0000ff\">f1</span>, type: <span style=\"color: #0000ff\">all-at-once</span>, DT-Depth: <span style=\"color: #0000ff\">3</span>, train-test-split:<span style=\"color: #0000ff\"> 50.0% in test-set </span></span>"
      ],
      "text/plain": [
       "<IPython.core.display.Markdown object>"
      ]
     },
     "metadata": {},
     "output_type": "display_data"
    },
    {
     "data": {
      "text/markdown": [
       "<span style=\"font-size:11pt\">f1: 0.39</span>"
      ],
      "text/plain": [
       "<IPython.core.display.Markdown object>"
      ]
     },
     "metadata": {},
     "output_type": "display_data"
    },
    {
     "data": {
      "text/markdown": [
       "<span style=\"font-size:11pt\">====================================================================================================</span>"
      ],
      "text/plain": [
       "<IPython.core.display.Markdown object>"
      ]
     },
     "metadata": {},
     "output_type": "display_data"
    },
    {
     "data": {
      "text/markdown": [
       "<span style=\"font-size:11pt\">Using classes from Geonames - 403/1383 entities have a class</span>"
      ],
      "text/plain": [
       "<IPython.core.display.Markdown object>"
      ]
     },
     "metadata": {},
     "output_type": "display_data"
    },
    {
     "data": {
      "text/markdown": [
       "<span style=\"font-size:11pt\">Labels (7 classes): <span style=\"color: #0000ff\">spot,building,farm</span>: 176, <span style=\"color: #0000ff\">stream,lake</span>: 74, <span style=\"color: #0000ff\">road,railroad</span>: 16, <span style=\"color: #0000ff\">parks,area</span>: 28, <span style=\"color: #0000ff\">undersea</span>: 27, <span style=\"color: #0000ff\">mountain,hill,rock</span>: 68, <span style=\"color: #0000ff\">forest,heath</span>: 14</span>"
      ],
      "text/plain": [
       "<IPython.core.display.Markdown object>"
      ]
     },
     "metadata": {},
     "output_type": "display_data"
    },
    {
     "data": {
      "text/markdown": [
       "<span style=\"font-size:11pt\">Eval-Settings: metric: <span style=\"color: #0000ff\">accuracy</span>, type: <span style=\"color: #0000ff\">all-at-once</span>, DT-Depth: <span style=\"color: #0000ff\">3</span>, train-test-split:<span style=\"color: #0000ff\"> 50.0% in test-set </span></span>"
      ],
      "text/plain": [
       "<IPython.core.display.Markdown object>"
      ]
     },
     "metadata": {},
     "output_type": "display_data"
    },
    {
     "data": {
      "text/markdown": [
       "<span style=\"font-size:11pt\">accuracy: 0.51</span>"
      ],
      "text/plain": [
       "<IPython.core.display.Markdown object>"
      ]
     },
     "metadata": {},
     "output_type": "display_data"
    },
    {
     "data": {
      "text/markdown": [
       "<span style=\"font-size:11pt\">====================================================================================================</span>"
      ],
      "text/plain": [
       "<IPython.core.display.Markdown object>"
      ]
     },
     "metadata": {},
     "output_type": "display_data"
    },
    {
     "data": {
      "text/markdown": [
       "<span style=\"font-size:11pt\">Using classes from Geonames - 403/1383 entities have a class</span>"
      ],
      "text/plain": [
       "<IPython.core.display.Markdown object>"
      ]
     },
     "metadata": {},
     "output_type": "display_data"
    },
    {
     "data": {
      "text/markdown": [
       "<span style=\"font-size:11pt\">Labels (7 classes): <span style=\"color: #0000ff\">spot,building,farm</span>: 176, <span style=\"color: #0000ff\">stream,lake</span>: 74, <span style=\"color: #0000ff\">road,railroad</span>: 16, <span style=\"color: #0000ff\">parks,area</span>: 28, <span style=\"color: #0000ff\">undersea</span>: 27, <span style=\"color: #0000ff\">mountain,hill,rock</span>: 68, <span style=\"color: #0000ff\">forest,heath</span>: 14</span>"
      ],
      "text/plain": [
       "<IPython.core.display.Markdown object>"
      ]
     },
     "metadata": {},
     "output_type": "display_data"
    },
    {
     "data": {
      "text/markdown": [
       "<span style=\"font-size:11pt\">Eval-Settings: metric: <span style=\"color: #0000ff\">f1</span>, type: <span style=\"color: #0000ff\">all-at-once</span>, DT-Depth: <span style=\"color: #0000ff\">3</span>, train-test-split:<span style=\"color: #0000ff\"> 50.0% in test-set </span></span>"
      ],
      "text/plain": [
       "<IPython.core.display.Markdown object>"
      ]
     },
     "metadata": {},
     "output_type": "display_data"
    },
    {
     "data": {
      "text/markdown": [
       "<span style=\"font-size:11pt\">f1: 0.47</span>"
      ],
      "text/plain": [
       "<IPython.core.display.Markdown object>"
      ]
     },
     "metadata": {},
     "output_type": "display_data"
    },
    {
     "data": {
      "text/markdown": [
       "<span style=\"font-size:11pt\">====================================================================================================</span>"
      ],
      "text/plain": [
       "<IPython.core.display.Markdown object>"
      ]
     },
     "metadata": {},
     "output_type": "display_data"
    },
    {
     "data": {
      "text/markdown": [
       "<span style=\"font-size:11pt\">Using classes from Geonames - 403/1383 entities have a class</span>"
      ],
      "text/plain": [
       "<IPython.core.display.Markdown object>"
      ]
     },
     "metadata": {},
     "output_type": "display_data"
    },
    {
     "data": {
      "text/markdown": [
       "<span style=\"font-size:11pt\">Labels (7 classes): <span style=\"color: #0000ff\">spot,building,farm</span>: 176, <span style=\"color: #0000ff\">stream,lake</span>: 74, <span style=\"color: #0000ff\">road,railroad</span>: 16, <span style=\"color: #0000ff\">parks,area</span>: 28, <span style=\"color: #0000ff\">undersea</span>: 27, <span style=\"color: #0000ff\">mountain,hill,rock</span>: 68, <span style=\"color: #0000ff\">forest,heath</span>: 14</span>"
      ],
      "text/plain": [
       "<IPython.core.display.Markdown object>"
      ]
     },
     "metadata": {},
     "output_type": "display_data"
    },
    {
     "data": {
      "text/markdown": [
       "<span style=\"font-size:11pt\">Eval-Settings: metric: <span style=\"color: #0000ff\">accuracy</span>, type: <span style=\"color: #0000ff\">all-at-once</span>, DT-Depth: <span style=\"color: #0000ff\">None</span>, train-test-split:<span style=\"color: #0000ff\"> 50.0% in test-set </span></span>"
      ],
      "text/plain": [
       "<IPython.core.display.Markdown object>"
      ]
     },
     "metadata": {},
     "output_type": "display_data"
    },
    {
     "data": {
      "text/markdown": [
       "<span style=\"font-size:11pt\">accuracy: 0.42</span>"
      ],
      "text/plain": [
       "<IPython.core.display.Markdown object>"
      ]
     },
     "metadata": {},
     "output_type": "display_data"
    },
    {
     "data": {
      "text/markdown": [
       "<span style=\"font-size:11pt\">====================================================================================================</span>"
      ],
      "text/plain": [
       "<IPython.core.display.Markdown object>"
      ]
     },
     "metadata": {},
     "output_type": "display_data"
    },
    {
     "data": {
      "text/markdown": [
       "<span style=\"font-size:11pt\">Using classes from Geonames - 403/1383 entities have a class</span>"
      ],
      "text/plain": [
       "<IPython.core.display.Markdown object>"
      ]
     },
     "metadata": {},
     "output_type": "display_data"
    },
    {
     "data": {
      "text/markdown": [
       "<span style=\"font-size:11pt\">Labels (7 classes): <span style=\"color: #0000ff\">spot,building,farm</span>: 176, <span style=\"color: #0000ff\">stream,lake</span>: 74, <span style=\"color: #0000ff\">road,railroad</span>: 16, <span style=\"color: #0000ff\">parks,area</span>: 28, <span style=\"color: #0000ff\">undersea</span>: 27, <span style=\"color: #0000ff\">mountain,hill,rock</span>: 68, <span style=\"color: #0000ff\">forest,heath</span>: 14</span>"
      ],
      "text/plain": [
       "<IPython.core.display.Markdown object>"
      ]
     },
     "metadata": {},
     "output_type": "display_data"
    },
    {
     "data": {
      "text/markdown": [
       "<span style=\"font-size:11pt\">Eval-Settings: metric: <span style=\"color: #0000ff\">f1</span>, type: <span style=\"color: #0000ff\">all-at-once</span>, DT-Depth: <span style=\"color: #0000ff\">None</span>, train-test-split:<span style=\"color: #0000ff\"> 50.0% in test-set </span></span>"
      ],
      "text/plain": [
       "<IPython.core.display.Markdown object>"
      ]
     },
     "metadata": {},
     "output_type": "display_data"
    },
    {
     "data": {
      "text/markdown": [
       "<span style=\"font-size:11pt\">f1: 0.37</span>"
      ],
      "text/plain": [
       "<IPython.core.display.Markdown object>"
      ]
     },
     "metadata": {},
     "output_type": "display_data"
    },
    {
     "data": {
      "text/markdown": [
       "<span style=\"font-size:11pt\">====================================================================================================</span>"
      ],
      "text/plain": [
       "<IPython.core.display.Markdown object>"
      ]
     },
     "metadata": {},
     "output_type": "display_data"
    },
    {
     "data": {
      "text/markdown": [
       "<span style=\"font-size:11pt\">Using classes from Geonames - 403/1383 entities have a class</span>"
      ],
      "text/plain": [
       "<IPython.core.display.Markdown object>"
      ]
     },
     "metadata": {},
     "output_type": "display_data"
    },
    {
     "data": {
      "text/markdown": [
       "<span style=\"font-size:11pt\">Labels (7 classes): <span style=\"color: #0000ff\">spot,building,farm</span>: 176, <span style=\"color: #0000ff\">stream,lake</span>: 74, <span style=\"color: #0000ff\">road,railroad</span>: 16, <span style=\"color: #0000ff\">parks,area</span>: 28, <span style=\"color: #0000ff\">undersea</span>: 27, <span style=\"color: #0000ff\">mountain,hill,rock</span>: 68, <span style=\"color: #0000ff\">forest,heath</span>: 14</span>"
      ],
      "text/plain": [
       "<IPython.core.display.Markdown object>"
      ]
     },
     "metadata": {},
     "output_type": "display_data"
    },
    {
     "data": {
      "text/markdown": [
       "<span style=\"font-size:11pt\">Eval-Settings: metric: <span style=\"color: #0000ff\">accuracy</span>, type: <span style=\"color: #0000ff\">all-at-once</span>, DT-Depth: <span style=\"color: #0000ff\">None</span>, train-test-split:<span style=\"color: #0000ff\"> 50.0% in test-set </span></span>"
      ],
      "text/plain": [
       "<IPython.core.display.Markdown object>"
      ]
     },
     "metadata": {},
     "output_type": "display_data"
    },
    {
     "data": {
      "text/markdown": [
       "<span style=\"font-size:11pt\">accuracy: 0.42</span>"
      ],
      "text/plain": [
       "<IPython.core.display.Markdown object>"
      ]
     },
     "metadata": {},
     "output_type": "display_data"
    },
    {
     "data": {
      "text/markdown": [
       "<span style=\"font-size:11pt\">====================================================================================================</span>"
      ],
      "text/plain": [
       "<IPython.core.display.Markdown object>"
      ]
     },
     "metadata": {},
     "output_type": "display_data"
    },
    {
     "data": {
      "text/markdown": [
       "<span style=\"font-size:11pt\">Using classes from Geonames - 403/1383 entities have a class</span>"
      ],
      "text/plain": [
       "<IPython.core.display.Markdown object>"
      ]
     },
     "metadata": {},
     "output_type": "display_data"
    },
    {
     "data": {
      "text/markdown": [
       "<span style=\"font-size:11pt\">Labels (7 classes): <span style=\"color: #0000ff\">spot,building,farm</span>: 176, <span style=\"color: #0000ff\">stream,lake</span>: 74, <span style=\"color: #0000ff\">road,railroad</span>: 16, <span style=\"color: #0000ff\">parks,area</span>: 28, <span style=\"color: #0000ff\">undersea</span>: 27, <span style=\"color: #0000ff\">mountain,hill,rock</span>: 68, <span style=\"color: #0000ff\">forest,heath</span>: 14</span>"
      ],
      "text/plain": [
       "<IPython.core.display.Markdown object>"
      ]
     },
     "metadata": {},
     "output_type": "display_data"
    },
    {
     "data": {
      "text/markdown": [
       "<span style=\"font-size:11pt\">Eval-Settings: metric: <span style=\"color: #0000ff\">f1</span>, type: <span style=\"color: #0000ff\">all-at-once</span>, DT-Depth: <span style=\"color: #0000ff\">None</span>, train-test-split:<span style=\"color: #0000ff\"> 50.0% in test-set </span></span>"
      ],
      "text/plain": [
       "<IPython.core.display.Markdown object>"
      ]
     },
     "metadata": {},
     "output_type": "display_data"
    },
    {
     "data": {
      "text/markdown": [
       "<span style=\"font-size:11pt\">f1: 0.40</span>"
      ],
      "text/plain": [
       "<IPython.core.display.Markdown object>"
      ]
     },
     "metadata": {},
     "output_type": "display_data"
    },
    {
     "data": {
      "text/markdown": [
       "<span style=\"font-size:11pt\">====================================================================================================</span>"
      ],
      "text/plain": [
       "<IPython.core.display.Markdown object>"
      ]
     },
     "metadata": {},
     "output_type": "display_data"
    },
    {
     "data": {
      "text/markdown": [
       "<span style=\"font-size:11pt\">Using classes from Geonames - 403/1383 entities have a class</span>"
      ],
      "text/plain": [
       "<IPython.core.display.Markdown object>"
      ]
     },
     "metadata": {},
     "output_type": "display_data"
    },
    {
     "data": {
      "text/markdown": [
       "<span style=\"font-size:11pt\">Labels (7 classes): <span style=\"color: #0000ff\">spot,building,farm</span>: 176, <span style=\"color: #0000ff\">stream,lake</span>: 74, <span style=\"color: #0000ff\">road,railroad</span>: 16, <span style=\"color: #0000ff\">parks,area</span>: 28, <span style=\"color: #0000ff\">undersea</span>: 27, <span style=\"color: #0000ff\">mountain,hill,rock</span>: 68, <span style=\"color: #0000ff\">forest,heath</span>: 14</span>"
      ],
      "text/plain": [
       "<IPython.core.display.Markdown object>"
      ]
     },
     "metadata": {},
     "output_type": "display_data"
    },
    {
     "data": {
      "text/markdown": [
       "<span style=\"font-size:11pt\">Eval-Settings: metric: <span style=\"color: #0000ff\">accuracy</span>, type: <span style=\"color: #0000ff\">one-vs-rest</span>, DT-Depth: <span style=\"color: #0000ff\">1</span>, train-test-split:<span style=\"color: #0000ff\"> 4-fold cross-validation </span></span>"
      ],
      "text/plain": [
       "<IPython.core.display.Markdown object>"
      ]
     },
     "metadata": {},
     "output_type": "display_data"
    },
    {
     "data": {
      "text/markdown": [
       "<span style=\"font-size:11pt\">Per-Class-Scores: stream,lake: 0.58, spot,building,farm: 0.73, road,railroad: 0.44, undersea: 0.38, forest,heath: 0.57, mountain,hill,rock: 0.51, parks,area: 0.34</span>"
      ],
      "text/plain": [
       "<IPython.core.display.Markdown object>"
      ]
     },
     "metadata": {},
     "output_type": "display_data"
    },
    {
     "data": {
      "text/markdown": [
       "<span style=\"font-size:11pt\">Unweighted Mean accuracy: 50.80%</span>"
      ],
      "text/plain": [
       "<IPython.core.display.Markdown object>"
      ]
     },
     "metadata": {},
     "output_type": "display_data"
    },
    {
     "data": {
      "text/markdown": [
       "<span style=\"font-size:11pt\">Weighted Mean accuracy: 59.82%</span>"
      ],
      "text/plain": [
       "<IPython.core.display.Markdown object>"
      ]
     },
     "metadata": {},
     "output_type": "display_data"
    },
    {
     "data": {
      "text/markdown": [
       "<span style=\"font-size:11pt\">====================================================================================================</span>"
      ],
      "text/plain": [
       "<IPython.core.display.Markdown object>"
      ]
     },
     "metadata": {},
     "output_type": "display_data"
    },
    {
     "data": {
      "text/markdown": [
       "<span style=\"font-size:11pt\">Using classes from Geonames - 403/1383 entities have a class</span>"
      ],
      "text/plain": [
       "<IPython.core.display.Markdown object>"
      ]
     },
     "metadata": {},
     "output_type": "display_data"
    },
    {
     "data": {
      "text/markdown": [
       "<span style=\"font-size:11pt\">Labels (7 classes): <span style=\"color: #0000ff\">spot,building,farm</span>: 176, <span style=\"color: #0000ff\">stream,lake</span>: 74, <span style=\"color: #0000ff\">road,railroad</span>: 16, <span style=\"color: #0000ff\">parks,area</span>: 28, <span style=\"color: #0000ff\">undersea</span>: 27, <span style=\"color: #0000ff\">mountain,hill,rock</span>: 68, <span style=\"color: #0000ff\">forest,heath</span>: 14</span>"
      ],
      "text/plain": [
       "<IPython.core.display.Markdown object>"
      ]
     },
     "metadata": {},
     "output_type": "display_data"
    },
    {
     "data": {
      "text/markdown": [
       "<span style=\"font-size:11pt\">Eval-Settings: metric: <span style=\"color: #0000ff\">f1</span>, type: <span style=\"color: #0000ff\">one-vs-rest</span>, DT-Depth: <span style=\"color: #0000ff\">1</span>, train-test-split:<span style=\"color: #0000ff\"> 4-fold cross-validation </span></span>"
      ],
      "text/plain": [
       "<IPython.core.display.Markdown object>"
      ]
     },
     "metadata": {},
     "output_type": "display_data"
    },
    {
     "data": {
      "text/markdown": [
       "<span style=\"font-size:11pt\">Per-Class-Scores: stream,lake: 0.42, spot,building,farm: 0.73, road,railroad: 0.09, undersea: 0.17, forest,heath: 0.07, mountain,hill,rock: 0.38, parks,area: 0.15</span>"
      ],
      "text/plain": [
       "<IPython.core.display.Markdown object>"
      ]
     },
     "metadata": {},
     "output_type": "display_data"
    },
    {
     "data": {
      "text/markdown": [
       "<span style=\"font-size:11pt\">Unweighted Mean f1: 28.77%</span>"
      ],
      "text/plain": [
       "<IPython.core.display.Markdown object>"
      ]
     },
     "metadata": {},
     "output_type": "display_data"
    },
    {
     "data": {
      "text/markdown": [
       "<span style=\"font-size:11pt\">Weighted Mean f1: 48.96%</span>"
      ],
      "text/plain": [
       "<IPython.core.display.Markdown object>"
      ]
     },
     "metadata": {},
     "output_type": "display_data"
    },
    {
     "data": {
      "text/markdown": [
       "<span style=\"font-size:11pt\">====================================================================================================</span>"
      ],
      "text/plain": [
       "<IPython.core.display.Markdown object>"
      ]
     },
     "metadata": {},
     "output_type": "display_data"
    },
    {
     "data": {
      "text/markdown": [
       "<span style=\"font-size:11pt\">Using classes from Geonames - 403/1383 entities have a class</span>"
      ],
      "text/plain": [
       "<IPython.core.display.Markdown object>"
      ]
     },
     "metadata": {},
     "output_type": "display_data"
    },
    {
     "data": {
      "text/markdown": [
       "<span style=\"font-size:11pt\">Labels (7 classes): <span style=\"color: #0000ff\">spot,building,farm</span>: 176, <span style=\"color: #0000ff\">stream,lake</span>: 74, <span style=\"color: #0000ff\">road,railroad</span>: 16, <span style=\"color: #0000ff\">parks,area</span>: 28, <span style=\"color: #0000ff\">undersea</span>: 27, <span style=\"color: #0000ff\">mountain,hill,rock</span>: 68, <span style=\"color: #0000ff\">forest,heath</span>: 14</span>"
      ],
      "text/plain": [
       "<IPython.core.display.Markdown object>"
      ]
     },
     "metadata": {},
     "output_type": "display_data"
    },
    {
     "data": {
      "text/markdown": [
       "<span style=\"font-size:11pt\">Eval-Settings: metric: <span style=\"color: #0000ff\">accuracy</span>, type: <span style=\"color: #0000ff\">one-vs-rest</span>, DT-Depth: <span style=\"color: #0000ff\">1</span>, train-test-split:<span style=\"color: #0000ff\"> 4-fold cross-validation </span></span>"
      ],
      "text/plain": [
       "<IPython.core.display.Markdown object>"
      ]
     },
     "metadata": {},
     "output_type": "display_data"
    },
    {
     "data": {
      "text/markdown": [
       "<span style=\"font-size:11pt\">Per-Class-Scores: stream,lake: 0.82, spot,building,farm: 0.73, road,railroad: 0.96, undersea: 0.93, forest,heath: 0.96, mountain,hill,rock: 0.83, parks,area: 0.93</span>"
      ],
      "text/plain": [
       "<IPython.core.display.Markdown object>"
      ]
     },
     "metadata": {},
     "output_type": "display_data"
    },
    {
     "data": {
      "text/markdown": [
       "<span style=\"font-size:11pt\">Unweighted Mean accuracy: 87.95%</span>"
      ],
      "text/plain": [
       "<IPython.core.display.Markdown object>"
      ]
     },
     "metadata": {},
     "output_type": "display_data"
    },
    {
     "data": {
      "text/markdown": [
       "<span style=\"font-size:11pt\">Weighted Mean accuracy: 80.62%</span>"
      ],
      "text/plain": [
       "<IPython.core.display.Markdown object>"
      ]
     },
     "metadata": {},
     "output_type": "display_data"
    },
    {
     "data": {
      "text/markdown": [
       "<span style=\"font-size:11pt\">====================================================================================================</span>"
      ],
      "text/plain": [
       "<IPython.core.display.Markdown object>"
      ]
     },
     "metadata": {},
     "output_type": "display_data"
    },
    {
     "data": {
      "text/markdown": [
       "<span style=\"font-size:11pt\">Using classes from Geonames - 403/1383 entities have a class</span>"
      ],
      "text/plain": [
       "<IPython.core.display.Markdown object>"
      ]
     },
     "metadata": {},
     "output_type": "display_data"
    },
    {
     "data": {
      "text/markdown": [
       "<span style=\"font-size:11pt\">Labels (7 classes): <span style=\"color: #0000ff\">spot,building,farm</span>: 176, <span style=\"color: #0000ff\">stream,lake</span>: 74, <span style=\"color: #0000ff\">road,railroad</span>: 16, <span style=\"color: #0000ff\">parks,area</span>: 28, <span style=\"color: #0000ff\">undersea</span>: 27, <span style=\"color: #0000ff\">mountain,hill,rock</span>: 68, <span style=\"color: #0000ff\">forest,heath</span>: 14</span>"
      ],
      "text/plain": [
       "<IPython.core.display.Markdown object>"
      ]
     },
     "metadata": {},
     "output_type": "display_data"
    },
    {
     "data": {
      "text/markdown": [
       "<span style=\"font-size:11pt\">Eval-Settings: metric: <span style=\"color: #0000ff\">f1</span>, type: <span style=\"color: #0000ff\">one-vs-rest</span>, DT-Depth: <span style=\"color: #0000ff\">1</span>, train-test-split:<span style=\"color: #0000ff\"> 4-fold cross-validation </span></span>"
      ],
      "text/plain": [
       "<IPython.core.display.Markdown object>"
      ]
     },
     "metadata": {},
     "output_type": "display_data"
    },
    {
     "data": {
      "text/markdown": [
       "<span style=\"font-size:11pt\">Per-Class-Scores: stream,lake: 0.00, spot,building,farm: 0.72, road,railroad: 0.00, undersea: 0.00, forest,heath: 0.00, mountain,hill,rock: 0.00, parks,area: 0.00</span>"
      ],
      "text/plain": [
       "<IPython.core.display.Markdown object>"
      ]
     },
     "metadata": {},
     "output_type": "display_data"
    },
    {
     "data": {
      "text/markdown": [
       "<span style=\"font-size:11pt\">Unweighted Mean f1: 10.30%</span>"
      ],
      "text/plain": [
       "<IPython.core.display.Markdown object>"
      ]
     },
     "metadata": {},
     "output_type": "display_data"
    },
    {
     "data": {
      "text/markdown": [
       "<span style=\"font-size:11pt\">Weighted Mean f1: 31.48%</span>"
      ],
      "text/plain": [
       "<IPython.core.display.Markdown object>"
      ]
     },
     "metadata": {},
     "output_type": "display_data"
    },
    {
     "data": {
      "text/markdown": [
       "<span style=\"font-size:11pt\">====================================================================================================</span>"
      ],
      "text/plain": [
       "<IPython.core.display.Markdown object>"
      ]
     },
     "metadata": {},
     "output_type": "display_data"
    },
    {
     "data": {
      "text/markdown": [
       "<span style=\"font-size:11pt\">Using classes from Geonames - 403/1383 entities have a class</span>"
      ],
      "text/plain": [
       "<IPython.core.display.Markdown object>"
      ]
     },
     "metadata": {},
     "output_type": "display_data"
    },
    {
     "data": {
      "text/markdown": [
       "<span style=\"font-size:11pt\">Labels (7 classes): <span style=\"color: #0000ff\">spot,building,farm</span>: 176, <span style=\"color: #0000ff\">stream,lake</span>: 74, <span style=\"color: #0000ff\">road,railroad</span>: 16, <span style=\"color: #0000ff\">parks,area</span>: 28, <span style=\"color: #0000ff\">undersea</span>: 27, <span style=\"color: #0000ff\">mountain,hill,rock</span>: 68, <span style=\"color: #0000ff\">forest,heath</span>: 14</span>"
      ],
      "text/plain": [
       "<IPython.core.display.Markdown object>"
      ]
     },
     "metadata": {},
     "output_type": "display_data"
    },
    {
     "data": {
      "text/markdown": [
       "<span style=\"font-size:11pt\">Eval-Settings: metric: <span style=\"color: #0000ff\">accuracy</span>, type: <span style=\"color: #0000ff\">one-vs-rest</span>, DT-Depth: <span style=\"color: #0000ff\">2</span>, train-test-split:<span style=\"color: #0000ff\"> 4-fold cross-validation </span></span>"
      ],
      "text/plain": [
       "<IPython.core.display.Markdown object>"
      ]
     },
     "metadata": {},
     "output_type": "display_data"
    },
    {
     "data": {
      "text/markdown": [
       "<span style=\"font-size:11pt\">Per-Class-Scores: stream,lake: 0.65, spot,building,farm: 0.76, road,railroad: 0.65, undersea: 0.66, forest,heath: 0.60, mountain,hill,rock: 0.58, parks,area: 0.39</span>"
      ],
      "text/plain": [
       "<IPython.core.display.Markdown object>"
      ]
     },
     "metadata": {},
     "output_type": "display_data"
    },
    {
     "data": {
      "text/markdown": [
       "<span style=\"font-size:11pt\">Unweighted Mean accuracy: 61.40%</span>"
      ],
      "text/plain": [
       "<IPython.core.display.Markdown object>"
      ]
     },
     "metadata": {},
     "output_type": "display_data"
    },
    {
     "data": {
      "text/markdown": [
       "<span style=\"font-size:11pt\">Weighted Mean accuracy: 66.98%</span>"
      ],
      "text/plain": [
       "<IPython.core.display.Markdown object>"
      ]
     },
     "metadata": {},
     "output_type": "display_data"
    },
    {
     "data": {
      "text/markdown": [
       "<span style=\"font-size:11pt\">====================================================================================================</span>"
      ],
      "text/plain": [
       "<IPython.core.display.Markdown object>"
      ]
     },
     "metadata": {},
     "output_type": "display_data"
    },
    {
     "data": {
      "text/markdown": [
       "<span style=\"font-size:11pt\">Using classes from Geonames - 403/1383 entities have a class</span>"
      ],
      "text/plain": [
       "<IPython.core.display.Markdown object>"
      ]
     },
     "metadata": {},
     "output_type": "display_data"
    },
    {
     "data": {
      "text/markdown": [
       "<span style=\"font-size:11pt\">Labels (7 classes): <span style=\"color: #0000ff\">spot,building,farm</span>: 176, <span style=\"color: #0000ff\">stream,lake</span>: 74, <span style=\"color: #0000ff\">road,railroad</span>: 16, <span style=\"color: #0000ff\">parks,area</span>: 28, <span style=\"color: #0000ff\">undersea</span>: 27, <span style=\"color: #0000ff\">mountain,hill,rock</span>: 68, <span style=\"color: #0000ff\">forest,heath</span>: 14</span>"
      ],
      "text/plain": [
       "<IPython.core.display.Markdown object>"
      ]
     },
     "metadata": {},
     "output_type": "display_data"
    },
    {
     "data": {
      "text/markdown": [
       "<span style=\"font-size:11pt\">Eval-Settings: metric: <span style=\"color: #0000ff\">f1</span>, type: <span style=\"color: #0000ff\">one-vs-rest</span>, DT-Depth: <span style=\"color: #0000ff\">2</span>, train-test-split:<span style=\"color: #0000ff\"> 4-fold cross-validation </span></span>"
      ],
      "text/plain": [
       "<IPython.core.display.Markdown object>"
      ]
     },
     "metadata": {},
     "output_type": "display_data"
    },
    {
     "data": {
      "text/markdown": [
       "<span style=\"font-size:11pt\">Per-Class-Scores: stream,lake: 0.45, spot,building,farm: 0.75, road,railroad: 0.09, undersea: 0.17, forest,heath: 0.07, mountain,hill,rock: 0.40, parks,area: 0.14</span>"
      ],
      "text/plain": [
       "<IPython.core.display.Markdown object>"
      ]
     },
     "metadata": {},
     "output_type": "display_data"
    },
    {
     "data": {
      "text/markdown": [
       "<span style=\"font-size:11pt\">Unweighted Mean f1: 29.50%</span>"
      ],
      "text/plain": [
       "<IPython.core.display.Markdown object>"
      ]
     },
     "metadata": {},
     "output_type": "display_data"
    },
    {
     "data": {
      "text/markdown": [
       "<span style=\"font-size:11pt\">Weighted Mean f1: 50.28%</span>"
      ],
      "text/plain": [
       "<IPython.core.display.Markdown object>"
      ]
     },
     "metadata": {},
     "output_type": "display_data"
    },
    {
     "data": {
      "text/markdown": [
       "<span style=\"font-size:11pt\">====================================================================================================</span>"
      ],
      "text/plain": [
       "<IPython.core.display.Markdown object>"
      ]
     },
     "metadata": {},
     "output_type": "display_data"
    },
    {
     "data": {
      "text/markdown": [
       "<span style=\"font-size:11pt\">Using classes from Geonames - 403/1383 entities have a class</span>"
      ],
      "text/plain": [
       "<IPython.core.display.Markdown object>"
      ]
     },
     "metadata": {},
     "output_type": "display_data"
    },
    {
     "data": {
      "text/markdown": [
       "<span style=\"font-size:11pt\">Labels (7 classes): <span style=\"color: #0000ff\">spot,building,farm</span>: 176, <span style=\"color: #0000ff\">stream,lake</span>: 74, <span style=\"color: #0000ff\">road,railroad</span>: 16, <span style=\"color: #0000ff\">parks,area</span>: 28, <span style=\"color: #0000ff\">undersea</span>: 27, <span style=\"color: #0000ff\">mountain,hill,rock</span>: 68, <span style=\"color: #0000ff\">forest,heath</span>: 14</span>"
      ],
      "text/plain": [
       "<IPython.core.display.Markdown object>"
      ]
     },
     "metadata": {},
     "output_type": "display_data"
    },
    {
     "data": {
      "text/markdown": [
       "<span style=\"font-size:11pt\">Eval-Settings: metric: <span style=\"color: #0000ff\">accuracy</span>, type: <span style=\"color: #0000ff\">one-vs-rest</span>, DT-Depth: <span style=\"color: #0000ff\">2</span>, train-test-split:<span style=\"color: #0000ff\"> 4-fold cross-validation </span></span>"
      ],
      "text/plain": [
       "<IPython.core.display.Markdown object>"
      ]
     },
     "metadata": {},
     "output_type": "display_data"
    },
    {
     "data": {
      "text/markdown": [
       "<span style=\"font-size:11pt\">Per-Class-Scores: stream,lake: 0.80, spot,building,farm: 0.78, road,railroad: 0.95, undersea: 0.93, forest,heath: 0.96, mountain,hill,rock: 0.82, parks,area: 0.93</span>"
      ],
      "text/plain": [
       "<IPython.core.display.Markdown object>"
      ]
     },
     "metadata": {},
     "output_type": "display_data"
    },
    {
     "data": {
      "text/markdown": [
       "<span style=\"font-size:11pt\">Unweighted Mean accuracy: 88.09%</span>"
      ],
      "text/plain": [
       "<IPython.core.display.Markdown object>"
      ]
     },
     "metadata": {},
     "output_type": "display_data"
    },
    {
     "data": {
      "text/markdown": [
       "<span style=\"font-size:11pt\">Weighted Mean accuracy: 82.43%</span>"
      ],
      "text/plain": [
       "<IPython.core.display.Markdown object>"
      ]
     },
     "metadata": {},
     "output_type": "display_data"
    },
    {
     "data": {
      "text/markdown": [
       "<span style=\"font-size:11pt\">====================================================================================================</span>"
      ],
      "text/plain": [
       "<IPython.core.display.Markdown object>"
      ]
     },
     "metadata": {},
     "output_type": "display_data"
    },
    {
     "data": {
      "text/markdown": [
       "<span style=\"font-size:11pt\">Using classes from Geonames - 403/1383 entities have a class</span>"
      ],
      "text/plain": [
       "<IPython.core.display.Markdown object>"
      ]
     },
     "metadata": {},
     "output_type": "display_data"
    },
    {
     "data": {
      "text/markdown": [
       "<span style=\"font-size:11pt\">Labels (7 classes): <span style=\"color: #0000ff\">spot,building,farm</span>: 176, <span style=\"color: #0000ff\">stream,lake</span>: 74, <span style=\"color: #0000ff\">road,railroad</span>: 16, <span style=\"color: #0000ff\">parks,area</span>: 28, <span style=\"color: #0000ff\">undersea</span>: 27, <span style=\"color: #0000ff\">mountain,hill,rock</span>: 68, <span style=\"color: #0000ff\">forest,heath</span>: 14</span>"
      ],
      "text/plain": [
       "<IPython.core.display.Markdown object>"
      ]
     },
     "metadata": {},
     "output_type": "display_data"
    },
    {
     "data": {
      "text/markdown": [
       "<span style=\"font-size:11pt\">Eval-Settings: metric: <span style=\"color: #0000ff\">f1</span>, type: <span style=\"color: #0000ff\">one-vs-rest</span>, DT-Depth: <span style=\"color: #0000ff\">2</span>, train-test-split:<span style=\"color: #0000ff\"> 4-fold cross-validation </span></span>"
      ],
      "text/plain": [
       "<IPython.core.display.Markdown object>"
      ]
     },
     "metadata": {},
     "output_type": "display_data"
    },
    {
     "data": {
      "text/markdown": [
       "<span style=\"font-size:11pt\">Per-Class-Scores: stream,lake: 0.19, spot,building,farm: 0.75, road,railroad: 0.07, undersea: 0.00, forest,heath: 0.00, mountain,hill,rock: 0.04, parks,area: 0.00</span>"
      ],
      "text/plain": [
       "<IPython.core.display.Markdown object>"
      ]
     },
     "metadata": {},
     "output_type": "display_data"
    },
    {
     "data": {
      "text/markdown": [
       "<span style=\"font-size:11pt\">Unweighted Mean f1: 15.09%</span>"
      ],
      "text/plain": [
       "<IPython.core.display.Markdown object>"
      ]
     },
     "metadata": {},
     "output_type": "display_data"
    },
    {
     "data": {
      "text/markdown": [
       "<span style=\"font-size:11pt\">Weighted Mean f1: 37.32%</span>"
      ],
      "text/plain": [
       "<IPython.core.display.Markdown object>"
      ]
     },
     "metadata": {},
     "output_type": "display_data"
    },
    {
     "data": {
      "text/markdown": [
       "<span style=\"font-size:11pt\">====================================================================================================</span>"
      ],
      "text/plain": [
       "<IPython.core.display.Markdown object>"
      ]
     },
     "metadata": {},
     "output_type": "display_data"
    },
    {
     "data": {
      "text/markdown": [
       "<span style=\"font-size:11pt\">Using classes from Geonames - 403/1383 entities have a class</span>"
      ],
      "text/plain": [
       "<IPython.core.display.Markdown object>"
      ]
     },
     "metadata": {},
     "output_type": "display_data"
    },
    {
     "data": {
      "text/markdown": [
       "<span style=\"font-size:11pt\">Labels (7 classes): <span style=\"color: #0000ff\">spot,building,farm</span>: 176, <span style=\"color: #0000ff\">stream,lake</span>: 74, <span style=\"color: #0000ff\">road,railroad</span>: 16, <span style=\"color: #0000ff\">parks,area</span>: 28, <span style=\"color: #0000ff\">undersea</span>: 27, <span style=\"color: #0000ff\">mountain,hill,rock</span>: 68, <span style=\"color: #0000ff\">forest,heath</span>: 14</span>"
      ],
      "text/plain": [
       "<IPython.core.display.Markdown object>"
      ]
     },
     "metadata": {},
     "output_type": "display_data"
    },
    {
     "data": {
      "text/markdown": [
       "<span style=\"font-size:11pt\">Eval-Settings: metric: <span style=\"color: #0000ff\">accuracy</span>, type: <span style=\"color: #0000ff\">one-vs-rest</span>, DT-Depth: <span style=\"color: #0000ff\">3</span>, train-test-split:<span style=\"color: #0000ff\"> 4-fold cross-validation </span></span>"
      ],
      "text/plain": [
       "<IPython.core.display.Markdown object>"
      ]
     },
     "metadata": {},
     "output_type": "display_data"
    },
    {
     "data": {
      "text/markdown": [
       "<span style=\"font-size:11pt\">Per-Class-Scores: stream,lake: 0.65, spot,building,farm: 0.78, road,railroad: 0.84, undersea: 0.56, forest,heath: 0.68, mountain,hill,rock: 0.60, parks,area: 0.53</span>"
      ],
      "text/plain": [
       "<IPython.core.display.Markdown object>"
      ]
     },
     "metadata": {},
     "output_type": "display_data"
    },
    {
     "data": {
      "text/markdown": [
       "<span style=\"font-size:11pt\">Unweighted Mean accuracy: 66.25%</span>"
      ],
      "text/plain": [
       "<IPython.core.display.Markdown object>"
      ]
     },
     "metadata": {},
     "output_type": "display_data"
    },
    {
     "data": {
      "text/markdown": [
       "<span style=\"font-size:11pt\">Weighted Mean accuracy: 69.25%</span>"
      ],
      "text/plain": [
       "<IPython.core.display.Markdown object>"
      ]
     },
     "metadata": {},
     "output_type": "display_data"
    },
    {
     "data": {
      "text/markdown": [
       "<span style=\"font-size:11pt\">====================================================================================================</span>"
      ],
      "text/plain": [
       "<IPython.core.display.Markdown object>"
      ]
     },
     "metadata": {},
     "output_type": "display_data"
    },
    {
     "data": {
      "text/markdown": [
       "<span style=\"font-size:11pt\">Using classes from Geonames - 403/1383 entities have a class</span>"
      ],
      "text/plain": [
       "<IPython.core.display.Markdown object>"
      ]
     },
     "metadata": {},
     "output_type": "display_data"
    },
    {
     "data": {
      "text/markdown": [
       "<span style=\"font-size:11pt\">Labels (7 classes): <span style=\"color: #0000ff\">spot,building,farm</span>: 176, <span style=\"color: #0000ff\">stream,lake</span>: 74, <span style=\"color: #0000ff\">road,railroad</span>: 16, <span style=\"color: #0000ff\">parks,area</span>: 28, <span style=\"color: #0000ff\">undersea</span>: 27, <span style=\"color: #0000ff\">mountain,hill,rock</span>: 68, <span style=\"color: #0000ff\">forest,heath</span>: 14</span>"
      ],
      "text/plain": [
       "<IPython.core.display.Markdown object>"
      ]
     },
     "metadata": {},
     "output_type": "display_data"
    },
    {
     "data": {
      "text/markdown": [
       "<span style=\"font-size:11pt\">Eval-Settings: metric: <span style=\"color: #0000ff\">f1</span>, type: <span style=\"color: #0000ff\">one-vs-rest</span>, DT-Depth: <span style=\"color: #0000ff\">3</span>, train-test-split:<span style=\"color: #0000ff\"> 4-fold cross-validation </span></span>"
      ],
      "text/plain": [
       "<IPython.core.display.Markdown object>"
      ]
     },
     "metadata": {},
     "output_type": "display_data"
    },
    {
     "data": {
      "text/markdown": [
       "<span style=\"font-size:11pt\">Per-Class-Scores: stream,lake: 0.44, spot,building,farm: 0.77, road,railroad: 0.22, undersea: 0.17, forest,heath: 0.09, mountain,hill,rock: 0.39, parks,area: 0.13</span>"
      ],
      "text/plain": [
       "<IPython.core.display.Markdown object>"
      ]
     },
     "metadata": {},
     "output_type": "display_data"
    },
    {
     "data": {
      "text/markdown": [
       "<span style=\"font-size:11pt\">Unweighted Mean f1: 31.42%</span>"
      ],
      "text/plain": [
       "<IPython.core.display.Markdown object>"
      ]
     },
     "metadata": {},
     "output_type": "display_data"
    },
    {
     "data": {
      "text/markdown": [
       "<span style=\"font-size:11pt\">Weighted Mean f1: 51.41%</span>"
      ],
      "text/plain": [
       "<IPython.core.display.Markdown object>"
      ]
     },
     "metadata": {},
     "output_type": "display_data"
    },
    {
     "data": {
      "text/markdown": [
       "<span style=\"font-size:11pt\">====================================================================================================</span>"
      ],
      "text/plain": [
       "<IPython.core.display.Markdown object>"
      ]
     },
     "metadata": {},
     "output_type": "display_data"
    },
    {
     "data": {
      "text/markdown": [
       "<span style=\"font-size:11pt\">Using classes from Geonames - 403/1383 entities have a class</span>"
      ],
      "text/plain": [
       "<IPython.core.display.Markdown object>"
      ]
     },
     "metadata": {},
     "output_type": "display_data"
    },
    {
     "data": {
      "text/markdown": [
       "<span style=\"font-size:11pt\">Labels (7 classes): <span style=\"color: #0000ff\">spot,building,farm</span>: 176, <span style=\"color: #0000ff\">stream,lake</span>: 74, <span style=\"color: #0000ff\">road,railroad</span>: 16, <span style=\"color: #0000ff\">parks,area</span>: 28, <span style=\"color: #0000ff\">undersea</span>: 27, <span style=\"color: #0000ff\">mountain,hill,rock</span>: 68, <span style=\"color: #0000ff\">forest,heath</span>: 14</span>"
      ],
      "text/plain": [
       "<IPython.core.display.Markdown object>"
      ]
     },
     "metadata": {},
     "output_type": "display_data"
    },
    {
     "data": {
      "text/markdown": [
       "<span style=\"font-size:11pt\">Eval-Settings: metric: <span style=\"color: #0000ff\">accuracy</span>, type: <span style=\"color: #0000ff\">one-vs-rest</span>, DT-Depth: <span style=\"color: #0000ff\">3</span>, train-test-split:<span style=\"color: #0000ff\"> 4-fold cross-validation </span></span>"
      ],
      "text/plain": [
       "<IPython.core.display.Markdown object>"
      ]
     },
     "metadata": {},
     "output_type": "display_data"
    },
    {
     "data": {
      "text/markdown": [
       "<span style=\"font-size:11pt\">Per-Class-Scores: stream,lake: 0.81, spot,building,farm: 0.77, road,railroad: 0.95, undersea: 0.92, forest,heath: 0.95, mountain,hill,rock: 0.82, parks,area: 0.93</span>"
      ],
      "text/plain": [
       "<IPython.core.display.Markdown object>"
      ]
     },
     "metadata": {},
     "output_type": "display_data"
    },
    {
     "data": {
      "text/markdown": [
       "<span style=\"font-size:11pt\">Unweighted Mean accuracy: 87.81%</span>"
      ],
      "text/plain": [
       "<IPython.core.display.Markdown object>"
      ]
     },
     "metadata": {},
     "output_type": "display_data"
    },
    {
     "data": {
      "text/markdown": [
       "<span style=\"font-size:11pt\">Weighted Mean accuracy: 81.84%</span>"
      ],
      "text/plain": [
       "<IPython.core.display.Markdown object>"
      ]
     },
     "metadata": {},
     "output_type": "display_data"
    },
    {
     "data": {
      "text/markdown": [
       "<span style=\"font-size:11pt\">====================================================================================================</span>"
      ],
      "text/plain": [
       "<IPython.core.display.Markdown object>"
      ]
     },
     "metadata": {},
     "output_type": "display_data"
    },
    {
     "data": {
      "text/markdown": [
       "<span style=\"font-size:11pt\">Using classes from Geonames - 403/1383 entities have a class</span>"
      ],
      "text/plain": [
       "<IPython.core.display.Markdown object>"
      ]
     },
     "metadata": {},
     "output_type": "display_data"
    },
    {
     "data": {
      "text/markdown": [
       "<span style=\"font-size:11pt\">Labels (7 classes): <span style=\"color: #0000ff\">spot,building,farm</span>: 176, <span style=\"color: #0000ff\">stream,lake</span>: 74, <span style=\"color: #0000ff\">road,railroad</span>: 16, <span style=\"color: #0000ff\">parks,area</span>: 28, <span style=\"color: #0000ff\">undersea</span>: 27, <span style=\"color: #0000ff\">mountain,hill,rock</span>: 68, <span style=\"color: #0000ff\">forest,heath</span>: 14</span>"
      ],
      "text/plain": [
       "<IPython.core.display.Markdown object>"
      ]
     },
     "metadata": {},
     "output_type": "display_data"
    },
    {
     "data": {
      "text/markdown": [
       "<span style=\"font-size:11pt\">Eval-Settings: metric: <span style=\"color: #0000ff\">f1</span>, type: <span style=\"color: #0000ff\">one-vs-rest</span>, DT-Depth: <span style=\"color: #0000ff\">3</span>, train-test-split:<span style=\"color: #0000ff\"> 4-fold cross-validation </span></span>"
      ],
      "text/plain": [
       "<IPython.core.display.Markdown object>"
      ]
     },
     "metadata": {},
     "output_type": "display_data"
    },
    {
     "data": {
      "text/markdown": [
       "<span style=\"font-size:11pt\">Per-Class-Scores: stream,lake: 0.16, spot,building,farm: 0.76, road,railroad: 0.07, undersea: 0.00, forest,heath: 0.00, mountain,hill,rock: 0.20, parks,area: 0.06</span>"
      ],
      "text/plain": [
       "<IPython.core.display.Markdown object>"
      ]
     },
     "metadata": {},
     "output_type": "display_data"
    },
    {
     "data": {
      "text/markdown": [
       "<span style=\"font-size:11pt\">Unweighted Mean f1: 17.91%</span>"
      ],
      "text/plain": [
       "<IPython.core.display.Markdown object>"
      ]
     },
     "metadata": {},
     "output_type": "display_data"
    },
    {
     "data": {
      "text/markdown": [
       "<span style=\"font-size:11pt\">Weighted Mean f1: 40.13%</span>"
      ],
      "text/plain": [
       "<IPython.core.display.Markdown object>"
      ]
     },
     "metadata": {},
     "output_type": "display_data"
    },
    {
     "data": {
      "text/markdown": [
       "<span style=\"font-size:11pt\">====================================================================================================</span>"
      ],
      "text/plain": [
       "<IPython.core.display.Markdown object>"
      ]
     },
     "metadata": {},
     "output_type": "display_data"
    },
    {
     "data": {
      "text/markdown": [
       "<span style=\"font-size:11pt\">Using classes from Geonames - 403/1383 entities have a class</span>"
      ],
      "text/plain": [
       "<IPython.core.display.Markdown object>"
      ]
     },
     "metadata": {},
     "output_type": "display_data"
    },
    {
     "data": {
      "text/markdown": [
       "<span style=\"font-size:11pt\">Labels (7 classes): <span style=\"color: #0000ff\">spot,building,farm</span>: 176, <span style=\"color: #0000ff\">stream,lake</span>: 74, <span style=\"color: #0000ff\">road,railroad</span>: 16, <span style=\"color: #0000ff\">parks,area</span>: 28, <span style=\"color: #0000ff\">undersea</span>: 27, <span style=\"color: #0000ff\">mountain,hill,rock</span>: 68, <span style=\"color: #0000ff\">forest,heath</span>: 14</span>"
      ],
      "text/plain": [
       "<IPython.core.display.Markdown object>"
      ]
     },
     "metadata": {},
     "output_type": "display_data"
    },
    {
     "data": {
      "text/markdown": [
       "<span style=\"font-size:11pt\">Eval-Settings: metric: <span style=\"color: #0000ff\">accuracy</span>, type: <span style=\"color: #0000ff\">one-vs-rest</span>, DT-Depth: <span style=\"color: #0000ff\">None</span>, train-test-split:<span style=\"color: #0000ff\"> 4-fold cross-validation </span></span>"
      ],
      "text/plain": [
       "<IPython.core.display.Markdown object>"
      ]
     },
     "metadata": {},
     "output_type": "display_data"
    },
    {
     "data": {
      "text/markdown": [
       "<span style=\"font-size:11pt\">Per-Class-Scores: stream,lake: 0.71, spot,building,farm: 0.73, road,railroad: 0.93, undersea: 0.87, forest,heath: 0.95, mountain,hill,rock: 0.73, parks,area: 0.87</span>"
      ],
      "text/plain": [
       "<IPython.core.display.Markdown object>"
      ]
     },
     "metadata": {},
     "output_type": "display_data"
    },
    {
     "data": {
      "text/markdown": [
       "<span style=\"font-size:11pt\">Unweighted Mean accuracy: 82.63%</span>"
      ],
      "text/plain": [
       "<IPython.core.display.Markdown object>"
      ]
     },
     "metadata": {},
     "output_type": "display_data"
    },
    {
     "data": {
      "text/markdown": [
       "<span style=\"font-size:11pt\">Weighted Mean accuracy: 75.98%</span>"
      ],
      "text/plain": [
       "<IPython.core.display.Markdown object>"
      ]
     },
     "metadata": {},
     "output_type": "display_data"
    },
    {
     "data": {
      "text/markdown": [
       "<span style=\"font-size:11pt\">====================================================================================================</span>"
      ],
      "text/plain": [
       "<IPython.core.display.Markdown object>"
      ]
     },
     "metadata": {},
     "output_type": "display_data"
    },
    {
     "data": {
      "text/markdown": [
       "<span style=\"font-size:11pt\">Using classes from Geonames - 403/1383 entities have a class</span>"
      ],
      "text/plain": [
       "<IPython.core.display.Markdown object>"
      ]
     },
     "metadata": {},
     "output_type": "display_data"
    },
    {
     "data": {
      "text/markdown": [
       "<span style=\"font-size:11pt\">Labels (7 classes): <span style=\"color: #0000ff\">spot,building,farm</span>: 176, <span style=\"color: #0000ff\">stream,lake</span>: 74, <span style=\"color: #0000ff\">road,railroad</span>: 16, <span style=\"color: #0000ff\">parks,area</span>: 28, <span style=\"color: #0000ff\">undersea</span>: 27, <span style=\"color: #0000ff\">mountain,hill,rock</span>: 68, <span style=\"color: #0000ff\">forest,heath</span>: 14</span>"
      ],
      "text/plain": [
       "<IPython.core.display.Markdown object>"
      ]
     },
     "metadata": {},
     "output_type": "display_data"
    },
    {
     "data": {
      "text/markdown": [
       "<span style=\"font-size:11pt\">Eval-Settings: metric: <span style=\"color: #0000ff\">f1</span>, type: <span style=\"color: #0000ff\">one-vs-rest</span>, DT-Depth: <span style=\"color: #0000ff\">None</span>, train-test-split:<span style=\"color: #0000ff\"> 4-fold cross-validation </span></span>"
      ],
      "text/plain": [
       "<IPython.core.display.Markdown object>"
      ]
     },
     "metadata": {},
     "output_type": "display_data"
    },
    {
     "data": {
      "text/markdown": [
       "<span style=\"font-size:11pt\">Per-Class-Scores: stream,lake: 0.26, spot,building,farm: 0.65, road,railroad: 0.10, undersea: 0.25, forest,heath: 0.00, mountain,hill,rock: 0.22, parks,area: 0.09</span>"
      ],
      "text/plain": [
       "<IPython.core.display.Markdown object>"
      ]
     },
     "metadata": {},
     "output_type": "display_data"
    },
    {
     "data": {
      "text/markdown": [
       "<span style=\"font-size:11pt\">Unweighted Mean f1: 22.60%</span>"
      ],
      "text/plain": [
       "<IPython.core.display.Markdown object>"
      ]
     },
     "metadata": {},
     "output_type": "display_data"
    },
    {
     "data": {
      "text/markdown": [
       "<span style=\"font-size:11pt\">Weighted Mean f1: 39.91%</span>"
      ],
      "text/plain": [
       "<IPython.core.display.Markdown object>"
      ]
     },
     "metadata": {},
     "output_type": "display_data"
    },
    {
     "data": {
      "text/markdown": [
       "<span style=\"font-size:11pt\">====================================================================================================</span>"
      ],
      "text/plain": [
       "<IPython.core.display.Markdown object>"
      ]
     },
     "metadata": {},
     "output_type": "display_data"
    },
    {
     "data": {
      "text/markdown": [
       "<span style=\"font-size:11pt\">Using classes from Geonames - 403/1383 entities have a class</span>"
      ],
      "text/plain": [
       "<IPython.core.display.Markdown object>"
      ]
     },
     "metadata": {},
     "output_type": "display_data"
    },
    {
     "data": {
      "text/markdown": [
       "<span style=\"font-size:11pt\">Labels (7 classes): <span style=\"color: #0000ff\">spot,building,farm</span>: 176, <span style=\"color: #0000ff\">stream,lake</span>: 74, <span style=\"color: #0000ff\">road,railroad</span>: 16, <span style=\"color: #0000ff\">parks,area</span>: 28, <span style=\"color: #0000ff\">undersea</span>: 27, <span style=\"color: #0000ff\">mountain,hill,rock</span>: 68, <span style=\"color: #0000ff\">forest,heath</span>: 14</span>"
      ],
      "text/plain": [
       "<IPython.core.display.Markdown object>"
      ]
     },
     "metadata": {},
     "output_type": "display_data"
    },
    {
     "data": {
      "text/markdown": [
       "<span style=\"font-size:11pt\">Eval-Settings: metric: <span style=\"color: #0000ff\">accuracy</span>, type: <span style=\"color: #0000ff\">one-vs-rest</span>, DT-Depth: <span style=\"color: #0000ff\">None</span>, train-test-split:<span style=\"color: #0000ff\"> 4-fold cross-validation </span></span>"
      ],
      "text/plain": [
       "<IPython.core.display.Markdown object>"
      ]
     },
     "metadata": {},
     "output_type": "display_data"
    },
    {
     "data": {
      "text/markdown": [
       "<span style=\"font-size:11pt\">Per-Class-Scores: stream,lake: 0.76, spot,building,farm: 0.68, road,railroad: 0.95, undersea: 0.84, forest,heath: 0.94, mountain,hill,rock: 0.74, parks,area: 0.87</span>"
      ],
      "text/plain": [
       "<IPython.core.display.Markdown object>"
      ]
     },
     "metadata": {},
     "output_type": "display_data"
    },
    {
     "data": {
      "text/markdown": [
       "<span style=\"font-size:11pt\">Unweighted Mean accuracy: 82.59%</span>"
      ],
      "text/plain": [
       "<IPython.core.display.Markdown object>"
      ]
     },
     "metadata": {},
     "output_type": "display_data"
    },
    {
     "data": {
      "text/markdown": [
       "<span style=\"font-size:11pt\">Weighted Mean accuracy: 74.88%</span>"
      ],
      "text/plain": [
       "<IPython.core.display.Markdown object>"
      ]
     },
     "metadata": {},
     "output_type": "display_data"
    },
    {
     "data": {
      "text/markdown": [
       "<span style=\"font-size:11pt\">====================================================================================================</span>"
      ],
      "text/plain": [
       "<IPython.core.display.Markdown object>"
      ]
     },
     "metadata": {},
     "output_type": "display_data"
    },
    {
     "data": {
      "text/markdown": [
       "<span style=\"font-size:11pt\">Using classes from Geonames - 403/1383 entities have a class</span>"
      ],
      "text/plain": [
       "<IPython.core.display.Markdown object>"
      ]
     },
     "metadata": {},
     "output_type": "display_data"
    },
    {
     "data": {
      "text/markdown": [
       "<span style=\"font-size:11pt\">Labels (7 classes): <span style=\"color: #0000ff\">spot,building,farm</span>: 176, <span style=\"color: #0000ff\">stream,lake</span>: 74, <span style=\"color: #0000ff\">road,railroad</span>: 16, <span style=\"color: #0000ff\">parks,area</span>: 28, <span style=\"color: #0000ff\">undersea</span>: 27, <span style=\"color: #0000ff\">mountain,hill,rock</span>: 68, <span style=\"color: #0000ff\">forest,heath</span>: 14</span>"
      ],
      "text/plain": [
       "<IPython.core.display.Markdown object>"
      ]
     },
     "metadata": {},
     "output_type": "display_data"
    },
    {
     "data": {
      "text/markdown": [
       "<span style=\"font-size:11pt\">Eval-Settings: metric: <span style=\"color: #0000ff\">f1</span>, type: <span style=\"color: #0000ff\">one-vs-rest</span>, DT-Depth: <span style=\"color: #0000ff\">None</span>, train-test-split:<span style=\"color: #0000ff\"> 4-fold cross-validation </span></span>"
      ],
      "text/plain": [
       "<IPython.core.display.Markdown object>"
      ]
     },
     "metadata": {},
     "output_type": "display_data"
    },
    {
     "data": {
      "text/markdown": [
       "<span style=\"font-size:11pt\">Per-Class-Scores: stream,lake: 0.32, spot,building,farm: 0.67, road,railroad: 0.24, undersea: 0.04, forest,heath: 0.06, mountain,hill,rock: 0.27, parks,area: 0.18</span>"
      ],
      "text/plain": [
       "<IPython.core.display.Markdown object>"
      ]
     },
     "metadata": {},
     "output_type": "display_data"
    },
    {
     "data": {
      "text/markdown": [
       "<span style=\"font-size:11pt\">Unweighted Mean f1: 25.34%</span>"
      ],
      "text/plain": [
       "<IPython.core.display.Markdown object>"
      ]
     },
     "metadata": {},
     "output_type": "display_data"
    },
    {
     "data": {
      "text/markdown": [
       "<span style=\"font-size:11pt\">Weighted Mean f1: 42.17%</span>"
      ],
      "text/plain": [
       "<IPython.core.display.Markdown object>"
      ]
     },
     "metadata": {},
     "output_type": "display_data"
    },
    {
     "data": {
      "text/markdown": [
       "<span style=\"font-size:11pt\">====================================================================================================</span>"
      ],
      "text/plain": [
       "<IPython.core.display.Markdown object>"
      ]
     },
     "metadata": {},
     "output_type": "display_data"
    },
    {
     "data": {
      "text/markdown": [
       "<span style=\"font-size:11pt\">Using classes from Geonames - 403/1383 entities have a class</span>"
      ],
      "text/plain": [
       "<IPython.core.display.Markdown object>"
      ]
     },
     "metadata": {},
     "output_type": "display_data"
    },
    {
     "data": {
      "text/markdown": [
       "<span style=\"font-size:11pt\">Labels (7 classes): <span style=\"color: #0000ff\">spot,building,farm</span>: 176, <span style=\"color: #0000ff\">stream,lake</span>: 74, <span style=\"color: #0000ff\">road,railroad</span>: 16, <span style=\"color: #0000ff\">parks,area</span>: 28, <span style=\"color: #0000ff\">undersea</span>: 27, <span style=\"color: #0000ff\">mountain,hill,rock</span>: 68, <span style=\"color: #0000ff\">forest,heath</span>: 14</span>"
      ],
      "text/plain": [
       "<IPython.core.display.Markdown object>"
      ]
     },
     "metadata": {},
     "output_type": "display_data"
    },
    {
     "data": {
      "text/markdown": [
       "<span style=\"font-size:11pt\">Eval-Settings: metric: <span style=\"color: #0000ff\">accuracy</span>, type: <span style=\"color: #0000ff\">all-at-once</span>, DT-Depth: <span style=\"color: #0000ff\">1</span>, train-test-split:<span style=\"color: #0000ff\"> 4-fold cross-validation </span></span>"
      ],
      "text/plain": [
       "<IPython.core.display.Markdown object>"
      ]
     },
     "metadata": {},
     "output_type": "display_data"
    },
    {
     "name": "stderr",
     "output_type": "stream",
     "text": [
      "derive_conceptualspace/evaluate/shallow_trees.py:141: UserWarning: There are more classes (7) than your decision-tree can possibly classify (2)\n"
     ]
    },
    {
     "data": {
      "text/markdown": [
       "<span style=\"font-size:11pt\">accuracy: 0.18</span>"
      ],
      "text/plain": [
       "<IPython.core.display.Markdown object>"
      ]
     },
     "metadata": {},
     "output_type": "display_data"
    },
    {
     "data": {
      "text/markdown": [
       "<span style=\"font-size:11pt\">Baseline accuracy: 0.44</span>"
      ],
      "text/plain": [
       "<IPython.core.display.Markdown object>"
      ]
     },
     "metadata": {},
     "output_type": "display_data"
    },
    {
     "data": {
      "text/markdown": [
       "<span style=\"font-size:11pt\">Maximally achievable accuracy: 0.62</span>"
      ],
      "text/plain": [
       "<IPython.core.display.Markdown object>"
      ]
     },
     "metadata": {},
     "output_type": "display_data"
    },
    {
     "data": {
      "text/markdown": [
       "<span style=\"font-size:11pt\">====================================================================================================</span>"
      ],
      "text/plain": [
       "<IPython.core.display.Markdown object>"
      ]
     },
     "metadata": {},
     "output_type": "display_data"
    },
    {
     "data": {
      "text/markdown": [
       "<span style=\"font-size:11pt\">Using classes from Geonames - 403/1383 entities have a class</span>"
      ],
      "text/plain": [
       "<IPython.core.display.Markdown object>"
      ]
     },
     "metadata": {},
     "output_type": "display_data"
    },
    {
     "data": {
      "text/markdown": [
       "<span style=\"font-size:11pt\">Labels (7 classes): <span style=\"color: #0000ff\">spot,building,farm</span>: 176, <span style=\"color: #0000ff\">stream,lake</span>: 74, <span style=\"color: #0000ff\">road,railroad</span>: 16, <span style=\"color: #0000ff\">parks,area</span>: 28, <span style=\"color: #0000ff\">undersea</span>: 27, <span style=\"color: #0000ff\">mountain,hill,rock</span>: 68, <span style=\"color: #0000ff\">forest,heath</span>: 14</span>"
      ],
      "text/plain": [
       "<IPython.core.display.Markdown object>"
      ]
     },
     "metadata": {},
     "output_type": "display_data"
    },
    {
     "data": {
      "text/markdown": [
       "<span style=\"font-size:11pt\">Eval-Settings: metric: <span style=\"color: #0000ff\">f1</span>, type: <span style=\"color: #0000ff\">all-at-once</span>, DT-Depth: <span style=\"color: #0000ff\">1</span>, train-test-split:<span style=\"color: #0000ff\"> 4-fold cross-validation </span></span>"
      ],
      "text/plain": [
       "<IPython.core.display.Markdown object>"
      ]
     },
     "metadata": {},
     "output_type": "display_data"
    },
    {
     "name": "stderr",
     "output_type": "stream",
     "text": [
      "derive_conceptualspace/evaluate/shallow_trees.py:141: UserWarning: There are more classes (7) than your decision-tree can possibly classify (2)\n"
     ]
    },
    {
     "data": {
      "text/markdown": [
       "<span style=\"font-size:11pt\">f1: 0.18</span>"
      ],
      "text/plain": [
       "<IPython.core.display.Markdown object>"
      ]
     },
     "metadata": {},
     "output_type": "display_data"
    },
    {
     "data": {
      "text/markdown": [
       "<span style=\"font-size:11pt\">Baseline f1: 0.44</span>"
      ],
      "text/plain": [
       "<IPython.core.display.Markdown object>"
      ]
     },
     "metadata": {},
     "output_type": "display_data"
    },
    {
     "data": {
      "text/markdown": [
       "<span style=\"font-size:11pt\">====================================================================================================</span>"
      ],
      "text/plain": [
       "<IPython.core.display.Markdown object>"
      ]
     },
     "metadata": {},
     "output_type": "display_data"
    },
    {
     "data": {
      "text/markdown": [
       "<span style=\"font-size:11pt\">Using classes from Geonames - 403/1383 entities have a class</span>"
      ],
      "text/plain": [
       "<IPython.core.display.Markdown object>"
      ]
     },
     "metadata": {},
     "output_type": "display_data"
    },
    {
     "data": {
      "text/markdown": [
       "<span style=\"font-size:11pt\">Labels (7 classes): <span style=\"color: #0000ff\">spot,building,farm</span>: 176, <span style=\"color: #0000ff\">stream,lake</span>: 74, <span style=\"color: #0000ff\">road,railroad</span>: 16, <span style=\"color: #0000ff\">parks,area</span>: 28, <span style=\"color: #0000ff\">undersea</span>: 27, <span style=\"color: #0000ff\">mountain,hill,rock</span>: 68, <span style=\"color: #0000ff\">forest,heath</span>: 14</span>"
      ],
      "text/plain": [
       "<IPython.core.display.Markdown object>"
      ]
     },
     "metadata": {},
     "output_type": "display_data"
    },
    {
     "data": {
      "text/markdown": [
       "<span style=\"font-size:11pt\">Eval-Settings: metric: <span style=\"color: #0000ff\">accuracy</span>, type: <span style=\"color: #0000ff\">all-at-once</span>, DT-Depth: <span style=\"color: #0000ff\">1</span>, train-test-split:<span style=\"color: #0000ff\"> 4-fold cross-validation </span></span>"
      ],
      "text/plain": [
       "<IPython.core.display.Markdown object>"
      ]
     },
     "metadata": {},
     "output_type": "display_data"
    },
    {
     "name": "stderr",
     "output_type": "stream",
     "text": [
      "derive_conceptualspace/evaluate/shallow_trees.py:141: UserWarning: There are more classes (7) than your decision-tree can possibly classify (2)\n"
     ]
    },
    {
     "data": {
      "text/markdown": [
       "<span style=\"font-size:11pt\">accuracy: 0.49</span>"
      ],
      "text/plain": [
       "<IPython.core.display.Markdown object>"
      ]
     },
     "metadata": {},
     "output_type": "display_data"
    },
    {
     "data": {
      "text/markdown": [
       "<span style=\"font-size:11pt\">Baseline accuracy: 0.44</span>"
      ],
      "text/plain": [
       "<IPython.core.display.Markdown object>"
      ]
     },
     "metadata": {},
     "output_type": "display_data"
    },
    {
     "data": {
      "text/markdown": [
       "<span style=\"font-size:11pt\">Maximally achievable accuracy: 0.62</span>"
      ],
      "text/plain": [
       "<IPython.core.display.Markdown object>"
      ]
     },
     "metadata": {},
     "output_type": "display_data"
    },
    {
     "data": {
      "text/markdown": [
       "<span style=\"font-size:11pt\">====================================================================================================</span>"
      ],
      "text/plain": [
       "<IPython.core.display.Markdown object>"
      ]
     },
     "metadata": {},
     "output_type": "display_data"
    },
    {
     "data": {
      "text/markdown": [
       "<span style=\"font-size:11pt\">Using classes from Geonames - 403/1383 entities have a class</span>"
      ],
      "text/plain": [
       "<IPython.core.display.Markdown object>"
      ]
     },
     "metadata": {},
     "output_type": "display_data"
    },
    {
     "data": {
      "text/markdown": [
       "<span style=\"font-size:11pt\">Labels (7 classes): <span style=\"color: #0000ff\">spot,building,farm</span>: 176, <span style=\"color: #0000ff\">stream,lake</span>: 74, <span style=\"color: #0000ff\">road,railroad</span>: 16, <span style=\"color: #0000ff\">parks,area</span>: 28, <span style=\"color: #0000ff\">undersea</span>: 27, <span style=\"color: #0000ff\">mountain,hill,rock</span>: 68, <span style=\"color: #0000ff\">forest,heath</span>: 14</span>"
      ],
      "text/plain": [
       "<IPython.core.display.Markdown object>"
      ]
     },
     "metadata": {},
     "output_type": "display_data"
    },
    {
     "data": {
      "text/markdown": [
       "<span style=\"font-size:11pt\">Eval-Settings: metric: <span style=\"color: #0000ff\">f1</span>, type: <span style=\"color: #0000ff\">all-at-once</span>, DT-Depth: <span style=\"color: #0000ff\">1</span>, train-test-split:<span style=\"color: #0000ff\"> 4-fold cross-validation </span></span>"
      ],
      "text/plain": [
       "<IPython.core.display.Markdown object>"
      ]
     },
     "metadata": {},
     "output_type": "display_data"
    },
    {
     "name": "stderr",
     "output_type": "stream",
     "text": [
      "derive_conceptualspace/evaluate/shallow_trees.py:141: UserWarning: There are more classes (7) than your decision-tree can possibly classify (2)\n"
     ]
    },
    {
     "data": {
      "text/markdown": [
       "<span style=\"font-size:11pt\">f1: 0.49</span>"
      ],
      "text/plain": [
       "<IPython.core.display.Markdown object>"
      ]
     },
     "metadata": {},
     "output_type": "display_data"
    },
    {
     "data": {
      "text/markdown": [
       "<span style=\"font-size:11pt\">Baseline f1: 0.44</span>"
      ],
      "text/plain": [
       "<IPython.core.display.Markdown object>"
      ]
     },
     "metadata": {},
     "output_type": "display_data"
    },
    {
     "data": {
      "text/markdown": [
       "<span style=\"font-size:11pt\">====================================================================================================</span>"
      ],
      "text/plain": [
       "<IPython.core.display.Markdown object>"
      ]
     },
     "metadata": {},
     "output_type": "display_data"
    },
    {
     "data": {
      "text/markdown": [
       "<span style=\"font-size:11pt\">Using classes from Geonames - 403/1383 entities have a class</span>"
      ],
      "text/plain": [
       "<IPython.core.display.Markdown object>"
      ]
     },
     "metadata": {},
     "output_type": "display_data"
    },
    {
     "data": {
      "text/markdown": [
       "<span style=\"font-size:11pt\">Labels (7 classes): <span style=\"color: #0000ff\">spot,building,farm</span>: 176, <span style=\"color: #0000ff\">stream,lake</span>: 74, <span style=\"color: #0000ff\">road,railroad</span>: 16, <span style=\"color: #0000ff\">parks,area</span>: 28, <span style=\"color: #0000ff\">undersea</span>: 27, <span style=\"color: #0000ff\">mountain,hill,rock</span>: 68, <span style=\"color: #0000ff\">forest,heath</span>: 14</span>"
      ],
      "text/plain": [
       "<IPython.core.display.Markdown object>"
      ]
     },
     "metadata": {},
     "output_type": "display_data"
    },
    {
     "data": {
      "text/markdown": [
       "<span style=\"font-size:11pt\">Eval-Settings: metric: <span style=\"color: #0000ff\">accuracy</span>, type: <span style=\"color: #0000ff\">all-at-once</span>, DT-Depth: <span style=\"color: #0000ff\">2</span>, train-test-split:<span style=\"color: #0000ff\"> 4-fold cross-validation </span></span>"
      ],
      "text/plain": [
       "<IPython.core.display.Markdown object>"
      ]
     },
     "metadata": {},
     "output_type": "display_data"
    },
    {
     "name": "stderr",
     "output_type": "stream",
     "text": [
      "derive_conceptualspace/evaluate/shallow_trees.py:141: UserWarning: There are more classes (7) than your decision-tree can possibly classify (4)\n"
     ]
    },
    {
     "data": {
      "text/markdown": [
       "<span style=\"font-size:11pt\">accuracy: 0.24</span>"
      ],
      "text/plain": [
       "<IPython.core.display.Markdown object>"
      ]
     },
     "metadata": {},
     "output_type": "display_data"
    },
    {
     "data": {
      "text/markdown": [
       "<span style=\"font-size:11pt\">====================================================================================================</span>"
      ],
      "text/plain": [
       "<IPython.core.display.Markdown object>"
      ]
     },
     "metadata": {},
     "output_type": "display_data"
    },
    {
     "data": {
      "text/markdown": [
       "<span style=\"font-size:11pt\">Using classes from Geonames - 403/1383 entities have a class</span>"
      ],
      "text/plain": [
       "<IPython.core.display.Markdown object>"
      ]
     },
     "metadata": {},
     "output_type": "display_data"
    },
    {
     "data": {
      "text/markdown": [
       "<span style=\"font-size:11pt\">Labels (7 classes): <span style=\"color: #0000ff\">spot,building,farm</span>: 176, <span style=\"color: #0000ff\">stream,lake</span>: 74, <span style=\"color: #0000ff\">road,railroad</span>: 16, <span style=\"color: #0000ff\">parks,area</span>: 28, <span style=\"color: #0000ff\">undersea</span>: 27, <span style=\"color: #0000ff\">mountain,hill,rock</span>: 68, <span style=\"color: #0000ff\">forest,heath</span>: 14</span>"
      ],
      "text/plain": [
       "<IPython.core.display.Markdown object>"
      ]
     },
     "metadata": {},
     "output_type": "display_data"
    },
    {
     "data": {
      "text/markdown": [
       "<span style=\"font-size:11pt\">Eval-Settings: metric: <span style=\"color: #0000ff\">f1</span>, type: <span style=\"color: #0000ff\">all-at-once</span>, DT-Depth: <span style=\"color: #0000ff\">2</span>, train-test-split:<span style=\"color: #0000ff\"> 4-fold cross-validation </span></span>"
      ],
      "text/plain": [
       "<IPython.core.display.Markdown object>"
      ]
     },
     "metadata": {},
     "output_type": "display_data"
    },
    {
     "name": "stderr",
     "output_type": "stream",
     "text": [
      "derive_conceptualspace/evaluate/shallow_trees.py:141: UserWarning: There are more classes (7) than your decision-tree can possibly classify (4)\n"
     ]
    },
    {
     "data": {
      "text/markdown": [
       "<span style=\"font-size:11pt\">f1: 0.24</span>"
      ],
      "text/plain": [
       "<IPython.core.display.Markdown object>"
      ]
     },
     "metadata": {},
     "output_type": "display_data"
    },
    {
     "data": {
      "text/markdown": [
       "<span style=\"font-size:11pt\">====================================================================================================</span>"
      ],
      "text/plain": [
       "<IPython.core.display.Markdown object>"
      ]
     },
     "metadata": {},
     "output_type": "display_data"
    },
    {
     "data": {
      "text/markdown": [
       "<span style=\"font-size:11pt\">Using classes from Geonames - 403/1383 entities have a class</span>"
      ],
      "text/plain": [
       "<IPython.core.display.Markdown object>"
      ]
     },
     "metadata": {},
     "output_type": "display_data"
    },
    {
     "data": {
      "text/markdown": [
       "<span style=\"font-size:11pt\">Labels (7 classes): <span style=\"color: #0000ff\">spot,building,farm</span>: 176, <span style=\"color: #0000ff\">stream,lake</span>: 74, <span style=\"color: #0000ff\">road,railroad</span>: 16, <span style=\"color: #0000ff\">parks,area</span>: 28, <span style=\"color: #0000ff\">undersea</span>: 27, <span style=\"color: #0000ff\">mountain,hill,rock</span>: 68, <span style=\"color: #0000ff\">forest,heath</span>: 14</span>"
      ],
      "text/plain": [
       "<IPython.core.display.Markdown object>"
      ]
     },
     "metadata": {},
     "output_type": "display_data"
    },
    {
     "data": {
      "text/markdown": [
       "<span style=\"font-size:11pt\">Eval-Settings: metric: <span style=\"color: #0000ff\">accuracy</span>, type: <span style=\"color: #0000ff\">all-at-once</span>, DT-Depth: <span style=\"color: #0000ff\">2</span>, train-test-split:<span style=\"color: #0000ff\"> 4-fold cross-validation </span></span>"
      ],
      "text/plain": [
       "<IPython.core.display.Markdown object>"
      ]
     },
     "metadata": {},
     "output_type": "display_data"
    },
    {
     "name": "stderr",
     "output_type": "stream",
     "text": [
      "derive_conceptualspace/evaluate/shallow_trees.py:141: UserWarning: There are more classes (7) than your decision-tree can possibly classify (4)\n"
     ]
    },
    {
     "data": {
      "text/markdown": [
       "<span style=\"font-size:11pt\">accuracy: 0.48</span>"
      ],
      "text/plain": [
       "<IPython.core.display.Markdown object>"
      ]
     },
     "metadata": {},
     "output_type": "display_data"
    },
    {
     "data": {
      "text/markdown": [
       "<span style=\"font-size:11pt\">====================================================================================================</span>"
      ],
      "text/plain": [
       "<IPython.core.display.Markdown object>"
      ]
     },
     "metadata": {},
     "output_type": "display_data"
    },
    {
     "data": {
      "text/markdown": [
       "<span style=\"font-size:11pt\">Using classes from Geonames - 403/1383 entities have a class</span>"
      ],
      "text/plain": [
       "<IPython.core.display.Markdown object>"
      ]
     },
     "metadata": {},
     "output_type": "display_data"
    },
    {
     "data": {
      "text/markdown": [
       "<span style=\"font-size:11pt\">Labels (7 classes): <span style=\"color: #0000ff\">spot,building,farm</span>: 176, <span style=\"color: #0000ff\">stream,lake</span>: 74, <span style=\"color: #0000ff\">road,railroad</span>: 16, <span style=\"color: #0000ff\">parks,area</span>: 28, <span style=\"color: #0000ff\">undersea</span>: 27, <span style=\"color: #0000ff\">mountain,hill,rock</span>: 68, <span style=\"color: #0000ff\">forest,heath</span>: 14</span>"
      ],
      "text/plain": [
       "<IPython.core.display.Markdown object>"
      ]
     },
     "metadata": {},
     "output_type": "display_data"
    },
    {
     "data": {
      "text/markdown": [
       "<span style=\"font-size:11pt\">Eval-Settings: metric: <span style=\"color: #0000ff\">f1</span>, type: <span style=\"color: #0000ff\">all-at-once</span>, DT-Depth: <span style=\"color: #0000ff\">2</span>, train-test-split:<span style=\"color: #0000ff\"> 4-fold cross-validation </span></span>"
      ],
      "text/plain": [
       "<IPython.core.display.Markdown object>"
      ]
     },
     "metadata": {},
     "output_type": "display_data"
    },
    {
     "name": "stderr",
     "output_type": "stream",
     "text": [
      "derive_conceptualspace/evaluate/shallow_trees.py:141: UserWarning: There are more classes (7) than your decision-tree can possibly classify (4)\n"
     ]
    },
    {
     "data": {
      "text/markdown": [
       "<span style=\"font-size:11pt\">f1: 0.48</span>"
      ],
      "text/plain": [
       "<IPython.core.display.Markdown object>"
      ]
     },
     "metadata": {},
     "output_type": "display_data"
    },
    {
     "data": {
      "text/markdown": [
       "<span style=\"font-size:11pt\">====================================================================================================</span>"
      ],
      "text/plain": [
       "<IPython.core.display.Markdown object>"
      ]
     },
     "metadata": {},
     "output_type": "display_data"
    },
    {
     "data": {
      "text/markdown": [
       "<span style=\"font-size:11pt\">Using classes from Geonames - 403/1383 entities have a class</span>"
      ],
      "text/plain": [
       "<IPython.core.display.Markdown object>"
      ]
     },
     "metadata": {},
     "output_type": "display_data"
    },
    {
     "data": {
      "text/markdown": [
       "<span style=\"font-size:11pt\">Labels (7 classes): <span style=\"color: #0000ff\">spot,building,farm</span>: 176, <span style=\"color: #0000ff\">stream,lake</span>: 74, <span style=\"color: #0000ff\">road,railroad</span>: 16, <span style=\"color: #0000ff\">parks,area</span>: 28, <span style=\"color: #0000ff\">undersea</span>: 27, <span style=\"color: #0000ff\">mountain,hill,rock</span>: 68, <span style=\"color: #0000ff\">forest,heath</span>: 14</span>"
      ],
      "text/plain": [
       "<IPython.core.display.Markdown object>"
      ]
     },
     "metadata": {},
     "output_type": "display_data"
    },
    {
     "data": {
      "text/markdown": [
       "<span style=\"font-size:11pt\">Eval-Settings: metric: <span style=\"color: #0000ff\">accuracy</span>, type: <span style=\"color: #0000ff\">all-at-once</span>, DT-Depth: <span style=\"color: #0000ff\">3</span>, train-test-split:<span style=\"color: #0000ff\"> 4-fold cross-validation </span></span>"
      ],
      "text/plain": [
       "<IPython.core.display.Markdown object>"
      ]
     },
     "metadata": {},
     "output_type": "display_data"
    },
    {
     "data": {
      "text/markdown": [
       "<span style=\"font-size:11pt\">accuracy: 0.30</span>"
      ],
      "text/plain": [
       "<IPython.core.display.Markdown object>"
      ]
     },
     "metadata": {},
     "output_type": "display_data"
    },
    {
     "data": {
      "text/markdown": [
       "<span style=\"font-size:11pt\">====================================================================================================</span>"
      ],
      "text/plain": [
       "<IPython.core.display.Markdown object>"
      ]
     },
     "metadata": {},
     "output_type": "display_data"
    },
    {
     "data": {
      "text/markdown": [
       "<span style=\"font-size:11pt\">Using classes from Geonames - 403/1383 entities have a class</span>"
      ],
      "text/plain": [
       "<IPython.core.display.Markdown object>"
      ]
     },
     "metadata": {},
     "output_type": "display_data"
    },
    {
     "data": {
      "text/markdown": [
       "<span style=\"font-size:11pt\">Labels (7 classes): <span style=\"color: #0000ff\">spot,building,farm</span>: 176, <span style=\"color: #0000ff\">stream,lake</span>: 74, <span style=\"color: #0000ff\">road,railroad</span>: 16, <span style=\"color: #0000ff\">parks,area</span>: 28, <span style=\"color: #0000ff\">undersea</span>: 27, <span style=\"color: #0000ff\">mountain,hill,rock</span>: 68, <span style=\"color: #0000ff\">forest,heath</span>: 14</span>"
      ],
      "text/plain": [
       "<IPython.core.display.Markdown object>"
      ]
     },
     "metadata": {},
     "output_type": "display_data"
    },
    {
     "data": {
      "text/markdown": [
       "<span style=\"font-size:11pt\">Eval-Settings: metric: <span style=\"color: #0000ff\">f1</span>, type: <span style=\"color: #0000ff\">all-at-once</span>, DT-Depth: <span style=\"color: #0000ff\">3</span>, train-test-split:<span style=\"color: #0000ff\"> 4-fold cross-validation </span></span>"
      ],
      "text/plain": [
       "<IPython.core.display.Markdown object>"
      ]
     },
     "metadata": {},
     "output_type": "display_data"
    },
    {
     "data": {
      "text/markdown": [
       "<span style=\"font-size:11pt\">f1: 0.30</span>"
      ],
      "text/plain": [
       "<IPython.core.display.Markdown object>"
      ]
     },
     "metadata": {},
     "output_type": "display_data"
    },
    {
     "data": {
      "text/markdown": [
       "<span style=\"font-size:11pt\">====================================================================================================</span>"
      ],
      "text/plain": [
       "<IPython.core.display.Markdown object>"
      ]
     },
     "metadata": {},
     "output_type": "display_data"
    },
    {
     "data": {
      "text/markdown": [
       "<span style=\"font-size:11pt\">Using classes from Geonames - 403/1383 entities have a class</span>"
      ],
      "text/plain": [
       "<IPython.core.display.Markdown object>"
      ]
     },
     "metadata": {},
     "output_type": "display_data"
    },
    {
     "data": {
      "text/markdown": [
       "<span style=\"font-size:11pt\">Labels (7 classes): <span style=\"color: #0000ff\">spot,building,farm</span>: 176, <span style=\"color: #0000ff\">stream,lake</span>: 74, <span style=\"color: #0000ff\">road,railroad</span>: 16, <span style=\"color: #0000ff\">parks,area</span>: 28, <span style=\"color: #0000ff\">undersea</span>: 27, <span style=\"color: #0000ff\">mountain,hill,rock</span>: 68, <span style=\"color: #0000ff\">forest,heath</span>: 14</span>"
      ],
      "text/plain": [
       "<IPython.core.display.Markdown object>"
      ]
     },
     "metadata": {},
     "output_type": "display_data"
    },
    {
     "data": {
      "text/markdown": [
       "<span style=\"font-size:11pt\">Eval-Settings: metric: <span style=\"color: #0000ff\">accuracy</span>, type: <span style=\"color: #0000ff\">all-at-once</span>, DT-Depth: <span style=\"color: #0000ff\">3</span>, train-test-split:<span style=\"color: #0000ff\"> 4-fold cross-validation </span></span>"
      ],
      "text/plain": [
       "<IPython.core.display.Markdown object>"
      ]
     },
     "metadata": {},
     "output_type": "display_data"
    },
    {
     "data": {
      "text/markdown": [
       "<span style=\"font-size:11pt\">accuracy: 0.49</span>"
      ],
      "text/plain": [
       "<IPython.core.display.Markdown object>"
      ]
     },
     "metadata": {},
     "output_type": "display_data"
    },
    {
     "data": {
      "text/markdown": [
       "<span style=\"font-size:11pt\">====================================================================================================</span>"
      ],
      "text/plain": [
       "<IPython.core.display.Markdown object>"
      ]
     },
     "metadata": {},
     "output_type": "display_data"
    },
    {
     "data": {
      "text/markdown": [
       "<span style=\"font-size:11pt\">Using classes from Geonames - 403/1383 entities have a class</span>"
      ],
      "text/plain": [
       "<IPython.core.display.Markdown object>"
      ]
     },
     "metadata": {},
     "output_type": "display_data"
    },
    {
     "data": {
      "text/markdown": [
       "<span style=\"font-size:11pt\">Labels (7 classes): <span style=\"color: #0000ff\">spot,building,farm</span>: 176, <span style=\"color: #0000ff\">stream,lake</span>: 74, <span style=\"color: #0000ff\">road,railroad</span>: 16, <span style=\"color: #0000ff\">parks,area</span>: 28, <span style=\"color: #0000ff\">undersea</span>: 27, <span style=\"color: #0000ff\">mountain,hill,rock</span>: 68, <span style=\"color: #0000ff\">forest,heath</span>: 14</span>"
      ],
      "text/plain": [
       "<IPython.core.display.Markdown object>"
      ]
     },
     "metadata": {},
     "output_type": "display_data"
    },
    {
     "data": {
      "text/markdown": [
       "<span style=\"font-size:11pt\">Eval-Settings: metric: <span style=\"color: #0000ff\">f1</span>, type: <span style=\"color: #0000ff\">all-at-once</span>, DT-Depth: <span style=\"color: #0000ff\">3</span>, train-test-split:<span style=\"color: #0000ff\"> 4-fold cross-validation </span></span>"
      ],
      "text/plain": [
       "<IPython.core.display.Markdown object>"
      ]
     },
     "metadata": {},
     "output_type": "display_data"
    },
    {
     "data": {
      "text/markdown": [
       "<span style=\"font-size:11pt\">f1: 0.49</span>"
      ],
      "text/plain": [
       "<IPython.core.display.Markdown object>"
      ]
     },
     "metadata": {},
     "output_type": "display_data"
    },
    {
     "data": {
      "text/markdown": [
       "<span style=\"font-size:11pt\">====================================================================================================</span>"
      ],
      "text/plain": [
       "<IPython.core.display.Markdown object>"
      ]
     },
     "metadata": {},
     "output_type": "display_data"
    },
    {
     "data": {
      "text/markdown": [
       "<span style=\"font-size:11pt\">Using classes from Geonames - 403/1383 entities have a class</span>"
      ],
      "text/plain": [
       "<IPython.core.display.Markdown object>"
      ]
     },
     "metadata": {},
     "output_type": "display_data"
    },
    {
     "data": {
      "text/markdown": [
       "<span style=\"font-size:11pt\">Labels (7 classes): <span style=\"color: #0000ff\">spot,building,farm</span>: 176, <span style=\"color: #0000ff\">stream,lake</span>: 74, <span style=\"color: #0000ff\">road,railroad</span>: 16, <span style=\"color: #0000ff\">parks,area</span>: 28, <span style=\"color: #0000ff\">undersea</span>: 27, <span style=\"color: #0000ff\">mountain,hill,rock</span>: 68, <span style=\"color: #0000ff\">forest,heath</span>: 14</span>"
      ],
      "text/plain": [
       "<IPython.core.display.Markdown object>"
      ]
     },
     "metadata": {},
     "output_type": "display_data"
    },
    {
     "data": {
      "text/markdown": [
       "<span style=\"font-size:11pt\">Eval-Settings: metric: <span style=\"color: #0000ff\">accuracy</span>, type: <span style=\"color: #0000ff\">all-at-once</span>, DT-Depth: <span style=\"color: #0000ff\">None</span>, train-test-split:<span style=\"color: #0000ff\"> 4-fold cross-validation </span></span>"
      ],
      "text/plain": [
       "<IPython.core.display.Markdown object>"
      ]
     },
     "metadata": {},
     "output_type": "display_data"
    },
    {
     "data": {
      "text/markdown": [
       "<span style=\"font-size:11pt\">accuracy: 0.40</span>"
      ],
      "text/plain": [
       "<IPython.core.display.Markdown object>"
      ]
     },
     "metadata": {},
     "output_type": "display_data"
    },
    {
     "data": {
      "text/markdown": [
       "<span style=\"font-size:11pt\">====================================================================================================</span>"
      ],
      "text/plain": [
       "<IPython.core.display.Markdown object>"
      ]
     },
     "metadata": {},
     "output_type": "display_data"
    },
    {
     "data": {
      "text/markdown": [
       "<span style=\"font-size:11pt\">Using classes from Geonames - 403/1383 entities have a class</span>"
      ],
      "text/plain": [
       "<IPython.core.display.Markdown object>"
      ]
     },
     "metadata": {},
     "output_type": "display_data"
    },
    {
     "data": {
      "text/markdown": [
       "<span style=\"font-size:11pt\">Labels (7 classes): <span style=\"color: #0000ff\">spot,building,farm</span>: 176, <span style=\"color: #0000ff\">stream,lake</span>: 74, <span style=\"color: #0000ff\">road,railroad</span>: 16, <span style=\"color: #0000ff\">parks,area</span>: 28, <span style=\"color: #0000ff\">undersea</span>: 27, <span style=\"color: #0000ff\">mountain,hill,rock</span>: 68, <span style=\"color: #0000ff\">forest,heath</span>: 14</span>"
      ],
      "text/plain": [
       "<IPython.core.display.Markdown object>"
      ]
     },
     "metadata": {},
     "output_type": "display_data"
    },
    {
     "data": {
      "text/markdown": [
       "<span style=\"font-size:11pt\">Eval-Settings: metric: <span style=\"color: #0000ff\">f1</span>, type: <span style=\"color: #0000ff\">all-at-once</span>, DT-Depth: <span style=\"color: #0000ff\">None</span>, train-test-split:<span style=\"color: #0000ff\"> 4-fold cross-validation </span></span>"
      ],
      "text/plain": [
       "<IPython.core.display.Markdown object>"
      ]
     },
     "metadata": {},
     "output_type": "display_data"
    },
    {
     "data": {
      "text/markdown": [
       "<span style=\"font-size:11pt\">f1: 0.42</span>"
      ],
      "text/plain": [
       "<IPython.core.display.Markdown object>"
      ]
     },
     "metadata": {},
     "output_type": "display_data"
    },
    {
     "data": {
      "text/markdown": [
       "<span style=\"font-size:11pt\">====================================================================================================</span>"
      ],
      "text/plain": [
       "<IPython.core.display.Markdown object>"
      ]
     },
     "metadata": {},
     "output_type": "display_data"
    },
    {
     "data": {
      "text/markdown": [
       "<span style=\"font-size:11pt\">Using classes from Geonames - 403/1383 entities have a class</span>"
      ],
      "text/plain": [
       "<IPython.core.display.Markdown object>"
      ]
     },
     "metadata": {},
     "output_type": "display_data"
    },
    {
     "data": {
      "text/markdown": [
       "<span style=\"font-size:11pt\">Labels (7 classes): <span style=\"color: #0000ff\">spot,building,farm</span>: 176, <span style=\"color: #0000ff\">stream,lake</span>: 74, <span style=\"color: #0000ff\">road,railroad</span>: 16, <span style=\"color: #0000ff\">parks,area</span>: 28, <span style=\"color: #0000ff\">undersea</span>: 27, <span style=\"color: #0000ff\">mountain,hill,rock</span>: 68, <span style=\"color: #0000ff\">forest,heath</span>: 14</span>"
      ],
      "text/plain": [
       "<IPython.core.display.Markdown object>"
      ]
     },
     "metadata": {},
     "output_type": "display_data"
    },
    {
     "data": {
      "text/markdown": [
       "<span style=\"font-size:11pt\">Eval-Settings: metric: <span style=\"color: #0000ff\">accuracy</span>, type: <span style=\"color: #0000ff\">all-at-once</span>, DT-Depth: <span style=\"color: #0000ff\">None</span>, train-test-split:<span style=\"color: #0000ff\"> 4-fold cross-validation </span></span>"
      ],
      "text/plain": [
       "<IPython.core.display.Markdown object>"
      ]
     },
     "metadata": {},
     "output_type": "display_data"
    },
    {
     "data": {
      "text/markdown": [
       "<span style=\"font-size:11pt\">accuracy: 0.41</span>"
      ],
      "text/plain": [
       "<IPython.core.display.Markdown object>"
      ]
     },
     "metadata": {},
     "output_type": "display_data"
    },
    {
     "data": {
      "text/markdown": [
       "<span style=\"font-size:11pt\">====================================================================================================</span>"
      ],
      "text/plain": [
       "<IPython.core.display.Markdown object>"
      ]
     },
     "metadata": {},
     "output_type": "display_data"
    },
    {
     "data": {
      "text/markdown": [
       "<span style=\"font-size:11pt\">Using classes from Geonames - 403/1383 entities have a class</span>"
      ],
      "text/plain": [
       "<IPython.core.display.Markdown object>"
      ]
     },
     "metadata": {},
     "output_type": "display_data"
    },
    {
     "data": {
      "text/markdown": [
       "<span style=\"font-size:11pt\">Labels (7 classes): <span style=\"color: #0000ff\">spot,building,farm</span>: 176, <span style=\"color: #0000ff\">stream,lake</span>: 74, <span style=\"color: #0000ff\">road,railroad</span>: 16, <span style=\"color: #0000ff\">parks,area</span>: 28, <span style=\"color: #0000ff\">undersea</span>: 27, <span style=\"color: #0000ff\">mountain,hill,rock</span>: 68, <span style=\"color: #0000ff\">forest,heath</span>: 14</span>"
      ],
      "text/plain": [
       "<IPython.core.display.Markdown object>"
      ]
     },
     "metadata": {},
     "output_type": "display_data"
    },
    {
     "data": {
      "text/markdown": [
       "<span style=\"font-size:11pt\">Eval-Settings: metric: <span style=\"color: #0000ff\">f1</span>, type: <span style=\"color: #0000ff\">all-at-once</span>, DT-Depth: <span style=\"color: #0000ff\">None</span>, train-test-split:<span style=\"color: #0000ff\"> 4-fold cross-validation </span></span>"
      ],
      "text/plain": [
       "<IPython.core.display.Markdown object>"
      ]
     },
     "metadata": {},
     "output_type": "display_data"
    },
    {
     "data": {
      "text/markdown": [
       "<span style=\"font-size:11pt\">f1: 0.41</span>"
      ],
      "text/plain": [
       "<IPython.core.display.Markdown object>"
      ]
     },
     "metadata": {},
     "output_type": "display_data"
    },
    {
     "data": {
      "text/markdown": [
       "<span style=\"font-size:11pt\">====================================================================================================</span>"
      ],
      "text/plain": [
       "<IPython.core.display.Markdown object>"
      ]
     },
     "metadata": {},
     "output_type": "display_data"
    },
    {
     "data": {
      "text/markdown": [
       "<span style=\"font-size:11pt\">Using classes from Geonames - 403/1383 entities have a class</span>"
      ],
      "text/plain": [
       "<IPython.core.display.Markdown object>"
      ]
     },
     "metadata": {},
     "output_type": "display_data"
    },
    {
     "data": {
      "text/markdown": [
       "<span style=\"font-size:11pt\">Labels (7 classes): <span style=\"color: #0000ff\">spot,building,farm</span>: 176, <span style=\"color: #0000ff\">stream,lake</span>: 74, <span style=\"color: #0000ff\">road,railroad</span>: 16, <span style=\"color: #0000ff\">parks,area</span>: 28, <span style=\"color: #0000ff\">undersea</span>: 27, <span style=\"color: #0000ff\">mountain,hill,rock</span>: 68, <span style=\"color: #0000ff\">forest,heath</span>: 14</span>"
      ],
      "text/plain": [
       "<IPython.core.display.Markdown object>"
      ]
     },
     "metadata": {},
     "output_type": "display_data"
    },
    {
     "data": {
      "text/markdown": [
       "<span style=\"font-size:11pt\">Eval-Settings: metric: <span style=\"color: #0000ff\">accuracy</span>, type: <span style=\"color: #0000ff\">one-vs-rest</span>, DT-Depth: <span style=\"color: #0000ff\">1</span>, train-test-split:<span style=\"color: #0000ff\"> 5-fold cross-validation </span></span>"
      ],
      "text/plain": [
       "<IPython.core.display.Markdown object>"
      ]
     },
     "metadata": {},
     "output_type": "display_data"
    },
    {
     "data": {
      "text/markdown": [
       "<span style=\"font-size:11pt\">Per-Class-Scores: stream,lake: 0.55, spot,building,farm: 0.73, road,railroad: 0.50, undersea: 0.38, forest,heath: 0.59, mountain,hill,rock: 0.51, parks,area: 0.33</span>"
      ],
      "text/plain": [
       "<IPython.core.display.Markdown object>"
      ]
     },
     "metadata": {},
     "output_type": "display_data"
    },
    {
     "data": {
      "text/markdown": [
       "<span style=\"font-size:11pt\">Unweighted Mean accuracy: 51.35%</span>"
      ],
      "text/plain": [
       "<IPython.core.display.Markdown object>"
      ]
     },
     "metadata": {},
     "output_type": "display_data"
    },
    {
     "data": {
      "text/markdown": [
       "<span style=\"font-size:11pt\">Weighted Mean accuracy: 59.63%</span>"
      ],
      "text/plain": [
       "<IPython.core.display.Markdown object>"
      ]
     },
     "metadata": {},
     "output_type": "display_data"
    },
    {
     "data": {
      "text/markdown": [
       "<span style=\"font-size:11pt\">====================================================================================================</span>"
      ],
      "text/plain": [
       "<IPython.core.display.Markdown object>"
      ]
     },
     "metadata": {},
     "output_type": "display_data"
    },
    {
     "data": {
      "text/markdown": [
       "<span style=\"font-size:11pt\">Using classes from Geonames - 403/1383 entities have a class</span>"
      ],
      "text/plain": [
       "<IPython.core.display.Markdown object>"
      ]
     },
     "metadata": {},
     "output_type": "display_data"
    },
    {
     "data": {
      "text/markdown": [
       "<span style=\"font-size:11pt\">Labels (7 classes): <span style=\"color: #0000ff\">spot,building,farm</span>: 176, <span style=\"color: #0000ff\">stream,lake</span>: 74, <span style=\"color: #0000ff\">road,railroad</span>: 16, <span style=\"color: #0000ff\">parks,area</span>: 28, <span style=\"color: #0000ff\">undersea</span>: 27, <span style=\"color: #0000ff\">mountain,hill,rock</span>: 68, <span style=\"color: #0000ff\">forest,heath</span>: 14</span>"
      ],
      "text/plain": [
       "<IPython.core.display.Markdown object>"
      ]
     },
     "metadata": {},
     "output_type": "display_data"
    },
    {
     "data": {
      "text/markdown": [
       "<span style=\"font-size:11pt\">Eval-Settings: metric: <span style=\"color: #0000ff\">f1</span>, type: <span style=\"color: #0000ff\">one-vs-rest</span>, DT-Depth: <span style=\"color: #0000ff\">1</span>, train-test-split:<span style=\"color: #0000ff\"> 5-fold cross-validation </span></span>"
      ],
      "text/plain": [
       "<IPython.core.display.Markdown object>"
      ]
     },
     "metadata": {},
     "output_type": "display_data"
    },
    {
     "data": {
      "text/markdown": [
       "<span style=\"font-size:11pt\">Per-Class-Scores: stream,lake: 0.40, spot,building,farm: 0.73, road,railroad: 0.09, undersea: 0.17, forest,heath: 0.05, mountain,hill,rock: 0.39, parks,area: 0.14</span>"
      ],
      "text/plain": [
       "<IPython.core.display.Markdown object>"
      ]
     },
     "metadata": {},
     "output_type": "display_data"
    },
    {
     "data": {
      "text/markdown": [
       "<span style=\"font-size:11pt\">Unweighted Mean f1: 28.43%</span>"
      ],
      "text/plain": [
       "<IPython.core.display.Markdown object>"
      ]
     },
     "metadata": {},
     "output_type": "display_data"
    },
    {
     "data": {
      "text/markdown": [
       "<span style=\"font-size:11pt\">Weighted Mean f1: 48.74%</span>"
      ],
      "text/plain": [
       "<IPython.core.display.Markdown object>"
      ]
     },
     "metadata": {},
     "output_type": "display_data"
    },
    {
     "data": {
      "text/markdown": [
       "<span style=\"font-size:11pt\">====================================================================================================</span>"
      ],
      "text/plain": [
       "<IPython.core.display.Markdown object>"
      ]
     },
     "metadata": {},
     "output_type": "display_data"
    },
    {
     "data": {
      "text/markdown": [
       "<span style=\"font-size:11pt\">Using classes from Geonames - 403/1383 entities have a class</span>"
      ],
      "text/plain": [
       "<IPython.core.display.Markdown object>"
      ]
     },
     "metadata": {},
     "output_type": "display_data"
    },
    {
     "data": {
      "text/markdown": [
       "<span style=\"font-size:11pt\">Labels (7 classes): <span style=\"color: #0000ff\">spot,building,farm</span>: 176, <span style=\"color: #0000ff\">stream,lake</span>: 74, <span style=\"color: #0000ff\">road,railroad</span>: 16, <span style=\"color: #0000ff\">parks,area</span>: 28, <span style=\"color: #0000ff\">undersea</span>: 27, <span style=\"color: #0000ff\">mountain,hill,rock</span>: 68, <span style=\"color: #0000ff\">forest,heath</span>: 14</span>"
      ],
      "text/plain": [
       "<IPython.core.display.Markdown object>"
      ]
     },
     "metadata": {},
     "output_type": "display_data"
    },
    {
     "data": {
      "text/markdown": [
       "<span style=\"font-size:11pt\">Eval-Settings: metric: <span style=\"color: #0000ff\">accuracy</span>, type: <span style=\"color: #0000ff\">one-vs-rest</span>, DT-Depth: <span style=\"color: #0000ff\">1</span>, train-test-split:<span style=\"color: #0000ff\"> 5-fold cross-validation </span></span>"
      ],
      "text/plain": [
       "<IPython.core.display.Markdown object>"
      ]
     },
     "metadata": {},
     "output_type": "display_data"
    },
    {
     "data": {
      "text/markdown": [
       "<span style=\"font-size:11pt\">Per-Class-Scores: stream,lake: 0.82, spot,building,farm: 0.73, road,railroad: 0.96, undersea: 0.93, forest,heath: 0.96, mountain,hill,rock: 0.83, parks,area: 0.93</span>"
      ],
      "text/plain": [
       "<IPython.core.display.Markdown object>"
      ]
     },
     "metadata": {},
     "output_type": "display_data"
    },
    {
     "data": {
      "text/markdown": [
       "<span style=\"font-size:11pt\">Unweighted Mean accuracy: 88.02%</span>"
      ],
      "text/plain": [
       "<IPython.core.display.Markdown object>"
      ]
     },
     "metadata": {},
     "output_type": "display_data"
    },
    {
     "data": {
      "text/markdown": [
       "<span style=\"font-size:11pt\">Weighted Mean accuracy: 80.74%</span>"
      ],
      "text/plain": [
       "<IPython.core.display.Markdown object>"
      ]
     },
     "metadata": {},
     "output_type": "display_data"
    },
    {
     "data": {
      "text/markdown": [
       "<span style=\"font-size:11pt\">====================================================================================================</span>"
      ],
      "text/plain": [
       "<IPython.core.display.Markdown object>"
      ]
     },
     "metadata": {},
     "output_type": "display_data"
    },
    {
     "data": {
      "text/markdown": [
       "<span style=\"font-size:11pt\">Using classes from Geonames - 403/1383 entities have a class</span>"
      ],
      "text/plain": [
       "<IPython.core.display.Markdown object>"
      ]
     },
     "metadata": {},
     "output_type": "display_data"
    },
    {
     "data": {
      "text/markdown": [
       "<span style=\"font-size:11pt\">Labels (7 classes): <span style=\"color: #0000ff\">spot,building,farm</span>: 176, <span style=\"color: #0000ff\">stream,lake</span>: 74, <span style=\"color: #0000ff\">road,railroad</span>: 16, <span style=\"color: #0000ff\">parks,area</span>: 28, <span style=\"color: #0000ff\">undersea</span>: 27, <span style=\"color: #0000ff\">mountain,hill,rock</span>: 68, <span style=\"color: #0000ff\">forest,heath</span>: 14</span>"
      ],
      "text/plain": [
       "<IPython.core.display.Markdown object>"
      ]
     },
     "metadata": {},
     "output_type": "display_data"
    },
    {
     "data": {
      "text/markdown": [
       "<span style=\"font-size:11pt\">Eval-Settings: metric: <span style=\"color: #0000ff\">f1</span>, type: <span style=\"color: #0000ff\">one-vs-rest</span>, DT-Depth: <span style=\"color: #0000ff\">1</span>, train-test-split:<span style=\"color: #0000ff\"> 5-fold cross-validation </span></span>"
      ],
      "text/plain": [
       "<IPython.core.display.Markdown object>"
      ]
     },
     "metadata": {},
     "output_type": "display_data"
    },
    {
     "data": {
      "text/markdown": [
       "<span style=\"font-size:11pt\">Per-Class-Scores: stream,lake: 0.00, spot,building,farm: 0.72, road,railroad: 0.00, undersea: 0.00, forest,heath: 0.00, mountain,hill,rock: 0.00, parks,area: 0.00</span>"
      ],
      "text/plain": [
       "<IPython.core.display.Markdown object>"
      ]
     },
     "metadata": {},
     "output_type": "display_data"
    },
    {
     "data": {
      "text/markdown": [
       "<span style=\"font-size:11pt\">Unweighted Mean f1: 10.28%</span>"
      ],
      "text/plain": [
       "<IPython.core.display.Markdown object>"
      ]
     },
     "metadata": {},
     "output_type": "display_data"
    },
    {
     "data": {
      "text/markdown": [
       "<span style=\"font-size:11pt\">Weighted Mean f1: 31.42%</span>"
      ],
      "text/plain": [
       "<IPython.core.display.Markdown object>"
      ]
     },
     "metadata": {},
     "output_type": "display_data"
    },
    {
     "data": {
      "text/markdown": [
       "<span style=\"font-size:11pt\">====================================================================================================</span>"
      ],
      "text/plain": [
       "<IPython.core.display.Markdown object>"
      ]
     },
     "metadata": {},
     "output_type": "display_data"
    },
    {
     "data": {
      "text/markdown": [
       "<span style=\"font-size:11pt\">Using classes from Geonames - 403/1383 entities have a class</span>"
      ],
      "text/plain": [
       "<IPython.core.display.Markdown object>"
      ]
     },
     "metadata": {},
     "output_type": "display_data"
    },
    {
     "data": {
      "text/markdown": [
       "<span style=\"font-size:11pt\">Labels (7 classes): <span style=\"color: #0000ff\">spot,building,farm</span>: 176, <span style=\"color: #0000ff\">stream,lake</span>: 74, <span style=\"color: #0000ff\">road,railroad</span>: 16, <span style=\"color: #0000ff\">parks,area</span>: 28, <span style=\"color: #0000ff\">undersea</span>: 27, <span style=\"color: #0000ff\">mountain,hill,rock</span>: 68, <span style=\"color: #0000ff\">forest,heath</span>: 14</span>"
      ],
      "text/plain": [
       "<IPython.core.display.Markdown object>"
      ]
     },
     "metadata": {},
     "output_type": "display_data"
    },
    {
     "data": {
      "text/markdown": [
       "<span style=\"font-size:11pt\">Eval-Settings: metric: <span style=\"color: #0000ff\">accuracy</span>, type: <span style=\"color: #0000ff\">one-vs-rest</span>, DT-Depth: <span style=\"color: #0000ff\">2</span>, train-test-split:<span style=\"color: #0000ff\"> 5-fold cross-validation </span></span>"
      ],
      "text/plain": [
       "<IPython.core.display.Markdown object>"
      ]
     },
     "metadata": {},
     "output_type": "display_data"
    },
    {
     "data": {
      "text/markdown": [
       "<span style=\"font-size:11pt\">Per-Class-Scores: stream,lake: 0.68, spot,building,farm: 0.77, road,railroad: 0.67, undersea: 0.54, forest,heath: 0.70, mountain,hill,rock: 0.58, parks,area: 0.38</span>"
      ],
      "text/plain": [
       "<IPython.core.display.Markdown object>"
      ]
     },
     "metadata": {},
     "output_type": "display_data"
    },
    {
     "data": {
      "text/markdown": [
       "<span style=\"font-size:11pt\">Unweighted Mean accuracy: 61.60%</span>"
      ],
      "text/plain": [
       "<IPython.core.display.Markdown object>"
      ]
     },
     "metadata": {},
     "output_type": "display_data"
    },
    {
     "data": {
      "text/markdown": [
       "<span style=\"font-size:11pt\">Weighted Mean accuracy: 67.18%</span>"
      ],
      "text/plain": [
       "<IPython.core.display.Markdown object>"
      ]
     },
     "metadata": {},
     "output_type": "display_data"
    },
    {
     "data": {
      "text/markdown": [
       "<span style=\"font-size:11pt\">====================================================================================================</span>"
      ],
      "text/plain": [
       "<IPython.core.display.Markdown object>"
      ]
     },
     "metadata": {},
     "output_type": "display_data"
    },
    {
     "data": {
      "text/markdown": [
       "<span style=\"font-size:11pt\">Using classes from Geonames - 403/1383 entities have a class</span>"
      ],
      "text/plain": [
       "<IPython.core.display.Markdown object>"
      ]
     },
     "metadata": {},
     "output_type": "display_data"
    },
    {
     "data": {
      "text/markdown": [
       "<span style=\"font-size:11pt\">Labels (7 classes): <span style=\"color: #0000ff\">spot,building,farm</span>: 176, <span style=\"color: #0000ff\">stream,lake</span>: 74, <span style=\"color: #0000ff\">road,railroad</span>: 16, <span style=\"color: #0000ff\">parks,area</span>: 28, <span style=\"color: #0000ff\">undersea</span>: 27, <span style=\"color: #0000ff\">mountain,hill,rock</span>: 68, <span style=\"color: #0000ff\">forest,heath</span>: 14</span>"
      ],
      "text/plain": [
       "<IPython.core.display.Markdown object>"
      ]
     },
     "metadata": {},
     "output_type": "display_data"
    },
    {
     "data": {
      "text/markdown": [
       "<span style=\"font-size:11pt\">Eval-Settings: metric: <span style=\"color: #0000ff\">f1</span>, type: <span style=\"color: #0000ff\">one-vs-rest</span>, DT-Depth: <span style=\"color: #0000ff\">2</span>, train-test-split:<span style=\"color: #0000ff\"> 5-fold cross-validation </span></span>"
      ],
      "text/plain": [
       "<IPython.core.display.Markdown object>"
      ]
     },
     "metadata": {},
     "output_type": "display_data"
    },
    {
     "data": {
      "text/markdown": [
       "<span style=\"font-size:11pt\">Per-Class-Scores: stream,lake: 0.46, spot,building,farm: 0.75, road,railroad: 0.13, undersea: 0.13, forest,heath: 0.07, mountain,hill,rock: 0.42, parks,area: 0.10</span>"
      ],
      "text/plain": [
       "<IPython.core.display.Markdown object>"
      ]
     },
     "metadata": {},
     "output_type": "display_data"
    },
    {
     "data": {
      "text/markdown": [
       "<span style=\"font-size:11pt\">Unweighted Mean f1: 29.43%</span>"
      ],
      "text/plain": [
       "<IPython.core.display.Markdown object>"
      ]
     },
     "metadata": {},
     "output_type": "display_data"
    },
    {
     "data": {
      "text/markdown": [
       "<span style=\"font-size:11pt\">Weighted Mean f1: 50.51%</span>"
      ],
      "text/plain": [
       "<IPython.core.display.Markdown object>"
      ]
     },
     "metadata": {},
     "output_type": "display_data"
    },
    {
     "data": {
      "text/markdown": [
       "<span style=\"font-size:11pt\">====================================================================================================</span>"
      ],
      "text/plain": [
       "<IPython.core.display.Markdown object>"
      ]
     },
     "metadata": {},
     "output_type": "display_data"
    },
    {
     "data": {
      "text/markdown": [
       "<span style=\"font-size:11pt\">Using classes from Geonames - 403/1383 entities have a class</span>"
      ],
      "text/plain": [
       "<IPython.core.display.Markdown object>"
      ]
     },
     "metadata": {},
     "output_type": "display_data"
    },
    {
     "data": {
      "text/markdown": [
       "<span style=\"font-size:11pt\">Labels (7 classes): <span style=\"color: #0000ff\">spot,building,farm</span>: 176, <span style=\"color: #0000ff\">stream,lake</span>: 74, <span style=\"color: #0000ff\">road,railroad</span>: 16, <span style=\"color: #0000ff\">parks,area</span>: 28, <span style=\"color: #0000ff\">undersea</span>: 27, <span style=\"color: #0000ff\">mountain,hill,rock</span>: 68, <span style=\"color: #0000ff\">forest,heath</span>: 14</span>"
      ],
      "text/plain": [
       "<IPython.core.display.Markdown object>"
      ]
     },
     "metadata": {},
     "output_type": "display_data"
    },
    {
     "data": {
      "text/markdown": [
       "<span style=\"font-size:11pt\">Eval-Settings: metric: <span style=\"color: #0000ff\">accuracy</span>, type: <span style=\"color: #0000ff\">one-vs-rest</span>, DT-Depth: <span style=\"color: #0000ff\">2</span>, train-test-split:<span style=\"color: #0000ff\"> 5-fold cross-validation </span></span>"
      ],
      "text/plain": [
       "<IPython.core.display.Markdown object>"
      ]
     },
     "metadata": {},
     "output_type": "display_data"
    },
    {
     "data": {
      "text/markdown": [
       "<span style=\"font-size:11pt\">Per-Class-Scores: stream,lake: 0.80, spot,building,farm: 0.76, road,railroad: 0.95, undersea: 0.92, forest,heath: 0.96, mountain,hill,rock: 0.82, parks,area: 0.93</span>"
      ],
      "text/plain": [
       "<IPython.core.display.Markdown object>"
      ]
     },
     "metadata": {},
     "output_type": "display_data"
    },
    {
     "data": {
      "text/markdown": [
       "<span style=\"font-size:11pt\">Unweighted Mean accuracy: 87.77%</span>"
      ],
      "text/plain": [
       "<IPython.core.display.Markdown object>"
      ]
     },
     "metadata": {},
     "output_type": "display_data"
    },
    {
     "data": {
      "text/markdown": [
       "<span style=\"font-size:11pt\">Weighted Mean accuracy: 81.50%</span>"
      ],
      "text/plain": [
       "<IPython.core.display.Markdown object>"
      ]
     },
     "metadata": {},
     "output_type": "display_data"
    },
    {
     "data": {
      "text/markdown": [
       "<span style=\"font-size:11pt\">====================================================================================================</span>"
      ],
      "text/plain": [
       "<IPython.core.display.Markdown object>"
      ]
     },
     "metadata": {},
     "output_type": "display_data"
    },
    {
     "data": {
      "text/markdown": [
       "<span style=\"font-size:11pt\">Using classes from Geonames - 403/1383 entities have a class</span>"
      ],
      "text/plain": [
       "<IPython.core.display.Markdown object>"
      ]
     },
     "metadata": {},
     "output_type": "display_data"
    },
    {
     "data": {
      "text/markdown": [
       "<span style=\"font-size:11pt\">Labels (7 classes): <span style=\"color: #0000ff\">spot,building,farm</span>: 176, <span style=\"color: #0000ff\">stream,lake</span>: 74, <span style=\"color: #0000ff\">road,railroad</span>: 16, <span style=\"color: #0000ff\">parks,area</span>: 28, <span style=\"color: #0000ff\">undersea</span>: 27, <span style=\"color: #0000ff\">mountain,hill,rock</span>: 68, <span style=\"color: #0000ff\">forest,heath</span>: 14</span>"
      ],
      "text/plain": [
       "<IPython.core.display.Markdown object>"
      ]
     },
     "metadata": {},
     "output_type": "display_data"
    },
    {
     "data": {
      "text/markdown": [
       "<span style=\"font-size:11pt\">Eval-Settings: metric: <span style=\"color: #0000ff\">f1</span>, type: <span style=\"color: #0000ff\">one-vs-rest</span>, DT-Depth: <span style=\"color: #0000ff\">2</span>, train-test-split:<span style=\"color: #0000ff\"> 5-fold cross-validation </span></span>"
      ],
      "text/plain": [
       "<IPython.core.display.Markdown object>"
      ]
     },
     "metadata": {},
     "output_type": "display_data"
    },
    {
     "data": {
      "text/markdown": [
       "<span style=\"font-size:11pt\">Per-Class-Scores: stream,lake: 0.06, spot,building,farm: 0.72, road,railroad: 0.00, undersea: 0.00, forest,heath: 0.00, mountain,hill,rock: 0.04, parks,area: 0.00</span>"
      ],
      "text/plain": [
       "<IPython.core.display.Markdown object>"
      ]
     },
     "metadata": {},
     "output_type": "display_data"
    },
    {
     "data": {
      "text/markdown": [
       "<span style=\"font-size:11pt\">Unweighted Mean f1: 11.65%</span>"
      ],
      "text/plain": [
       "<IPython.core.display.Markdown object>"
      ]
     },
     "metadata": {},
     "output_type": "display_data"
    },
    {
     "data": {
      "text/markdown": [
       "<span style=\"font-size:11pt\">Weighted Mean f1: 33.13%</span>"
      ],
      "text/plain": [
       "<IPython.core.display.Markdown object>"
      ]
     },
     "metadata": {},
     "output_type": "display_data"
    },
    {
     "data": {
      "text/markdown": [
       "<span style=\"font-size:11pt\">====================================================================================================</span>"
      ],
      "text/plain": [
       "<IPython.core.display.Markdown object>"
      ]
     },
     "metadata": {},
     "output_type": "display_data"
    },
    {
     "data": {
      "text/markdown": [
       "<span style=\"font-size:11pt\">Using classes from Geonames - 403/1383 entities have a class</span>"
      ],
      "text/plain": [
       "<IPython.core.display.Markdown object>"
      ]
     },
     "metadata": {},
     "output_type": "display_data"
    },
    {
     "data": {
      "text/markdown": [
       "<span style=\"font-size:11pt\">Labels (7 classes): <span style=\"color: #0000ff\">spot,building,farm</span>: 176, <span style=\"color: #0000ff\">stream,lake</span>: 74, <span style=\"color: #0000ff\">road,railroad</span>: 16, <span style=\"color: #0000ff\">parks,area</span>: 28, <span style=\"color: #0000ff\">undersea</span>: 27, <span style=\"color: #0000ff\">mountain,hill,rock</span>: 68, <span style=\"color: #0000ff\">forest,heath</span>: 14</span>"
      ],
      "text/plain": [
       "<IPython.core.display.Markdown object>"
      ]
     },
     "metadata": {},
     "output_type": "display_data"
    },
    {
     "data": {
      "text/markdown": [
       "<span style=\"font-size:11pt\">Eval-Settings: metric: <span style=\"color: #0000ff\">accuracy</span>, type: <span style=\"color: #0000ff\">one-vs-rest</span>, DT-Depth: <span style=\"color: #0000ff\">3</span>, train-test-split:<span style=\"color: #0000ff\"> 5-fold cross-validation </span></span>"
      ],
      "text/plain": [
       "<IPython.core.display.Markdown object>"
      ]
     },
     "metadata": {},
     "output_type": "display_data"
    },
    {
     "data": {
      "text/markdown": [
       "<span style=\"font-size:11pt\">Per-Class-Scores: stream,lake: 0.66, spot,building,farm: 0.77, road,railroad: 0.78, undersea: 0.51, forest,heath: 0.75, mountain,hill,rock: 0.60, parks,area: 0.41</span>"
      ],
      "text/plain": [
       "<IPython.core.display.Markdown object>"
      ]
     },
     "metadata": {},
     "output_type": "display_data"
    },
    {
     "data": {
      "text/markdown": [
       "<span style=\"font-size:11pt\">Unweighted Mean accuracy: 64.10%</span>"
      ],
      "text/plain": [
       "<IPython.core.display.Markdown object>"
      ]
     },
     "metadata": {},
     "output_type": "display_data"
    },
    {
     "data": {
      "text/markdown": [
       "<span style=\"font-size:11pt\">Weighted Mean accuracy: 68.02%</span>"
      ],
      "text/plain": [
       "<IPython.core.display.Markdown object>"
      ]
     },
     "metadata": {},
     "output_type": "display_data"
    },
    {
     "data": {
      "text/markdown": [
       "<span style=\"font-size:11pt\">====================================================================================================</span>"
      ],
      "text/plain": [
       "<IPython.core.display.Markdown object>"
      ]
     },
     "metadata": {},
     "output_type": "display_data"
    },
    {
     "data": {
      "text/markdown": [
       "<span style=\"font-size:11pt\">Using classes from Geonames - 403/1383 entities have a class</span>"
      ],
      "text/plain": [
       "<IPython.core.display.Markdown object>"
      ]
     },
     "metadata": {},
     "output_type": "display_data"
    },
    {
     "data": {
      "text/markdown": [
       "<span style=\"font-size:11pt\">Labels (7 classes): <span style=\"color: #0000ff\">spot,building,farm</span>: 176, <span style=\"color: #0000ff\">stream,lake</span>: 74, <span style=\"color: #0000ff\">road,railroad</span>: 16, <span style=\"color: #0000ff\">parks,area</span>: 28, <span style=\"color: #0000ff\">undersea</span>: 27, <span style=\"color: #0000ff\">mountain,hill,rock</span>: 68, <span style=\"color: #0000ff\">forest,heath</span>: 14</span>"
      ],
      "text/plain": [
       "<IPython.core.display.Markdown object>"
      ]
     },
     "metadata": {},
     "output_type": "display_data"
    },
    {
     "data": {
      "text/markdown": [
       "<span style=\"font-size:11pt\">Eval-Settings: metric: <span style=\"color: #0000ff\">f1</span>, type: <span style=\"color: #0000ff\">one-vs-rest</span>, DT-Depth: <span style=\"color: #0000ff\">3</span>, train-test-split:<span style=\"color: #0000ff\"> 5-fold cross-validation </span></span>"
      ],
      "text/plain": [
       "<IPython.core.display.Markdown object>"
      ]
     },
     "metadata": {},
     "output_type": "display_data"
    },
    {
     "data": {
      "text/markdown": [
       "<span style=\"font-size:11pt\">Per-Class-Scores: stream,lake: 0.43, spot,building,farm: 0.77, road,railroad: 0.15, undersea: 0.14, forest,heath: 0.05, mountain,hill,rock: 0.40, parks,area: 0.11</span>"
      ],
      "text/plain": [
       "<IPython.core.display.Markdown object>"
      ]
     },
     "metadata": {},
     "output_type": "display_data"
    },
    {
     "data": {
      "text/markdown": [
       "<span style=\"font-size:11pt\">Unweighted Mean f1: 29.23%</span>"
      ],
      "text/plain": [
       "<IPython.core.display.Markdown object>"
      ]
     },
     "metadata": {},
     "output_type": "display_data"
    },
    {
     "data": {
      "text/markdown": [
       "<span style=\"font-size:11pt\">Weighted Mean f1: 50.56%</span>"
      ],
      "text/plain": [
       "<IPython.core.display.Markdown object>"
      ]
     },
     "metadata": {},
     "output_type": "display_data"
    },
    {
     "data": {
      "text/markdown": [
       "<span style=\"font-size:11pt\">====================================================================================================</span>"
      ],
      "text/plain": [
       "<IPython.core.display.Markdown object>"
      ]
     },
     "metadata": {},
     "output_type": "display_data"
    },
    {
     "data": {
      "text/markdown": [
       "<span style=\"font-size:11pt\">Using classes from Geonames - 403/1383 entities have a class</span>"
      ],
      "text/plain": [
       "<IPython.core.display.Markdown object>"
      ]
     },
     "metadata": {},
     "output_type": "display_data"
    },
    {
     "data": {
      "text/markdown": [
       "<span style=\"font-size:11pt\">Labels (7 classes): <span style=\"color: #0000ff\">spot,building,farm</span>: 176, <span style=\"color: #0000ff\">stream,lake</span>: 74, <span style=\"color: #0000ff\">road,railroad</span>: 16, <span style=\"color: #0000ff\">parks,area</span>: 28, <span style=\"color: #0000ff\">undersea</span>: 27, <span style=\"color: #0000ff\">mountain,hill,rock</span>: 68, <span style=\"color: #0000ff\">forest,heath</span>: 14</span>"
      ],
      "text/plain": [
       "<IPython.core.display.Markdown object>"
      ]
     },
     "metadata": {},
     "output_type": "display_data"
    },
    {
     "data": {
      "text/markdown": [
       "<span style=\"font-size:11pt\">Eval-Settings: metric: <span style=\"color: #0000ff\">accuracy</span>, type: <span style=\"color: #0000ff\">one-vs-rest</span>, DT-Depth: <span style=\"color: #0000ff\">3</span>, train-test-split:<span style=\"color: #0000ff\"> 5-fold cross-validation </span></span>"
      ],
      "text/plain": [
       "<IPython.core.display.Markdown object>"
      ]
     },
     "metadata": {},
     "output_type": "display_data"
    },
    {
     "data": {
      "text/markdown": [
       "<span style=\"font-size:11pt\">Per-Class-Scores: stream,lake: 0.79, spot,building,farm: 0.77, road,railroad: 0.94, undersea: 0.91, forest,heath: 0.96, mountain,hill,rock: 0.83, parks,area: 0.93</span>"
      ],
      "text/plain": [
       "<IPython.core.display.Markdown object>"
      ]
     },
     "metadata": {},
     "output_type": "display_data"
    },
    {
     "data": {
      "text/markdown": [
       "<span style=\"font-size:11pt\">Unweighted Mean accuracy: 87.49%</span>"
      ],
      "text/plain": [
       "<IPython.core.display.Markdown object>"
      ]
     },
     "metadata": {},
     "output_type": "display_data"
    },
    {
     "data": {
      "text/markdown": [
       "<span style=\"font-size:11pt\">Weighted Mean accuracy: 81.58%</span>"
      ],
      "text/plain": [
       "<IPython.core.display.Markdown object>"
      ]
     },
     "metadata": {},
     "output_type": "display_data"
    },
    {
     "data": {
      "text/markdown": [
       "<span style=\"font-size:11pt\">====================================================================================================</span>"
      ],
      "text/plain": [
       "<IPython.core.display.Markdown object>"
      ]
     },
     "metadata": {},
     "output_type": "display_data"
    },
    {
     "data": {
      "text/markdown": [
       "<span style=\"font-size:11pt\">Using classes from Geonames - 403/1383 entities have a class</span>"
      ],
      "text/plain": [
       "<IPython.core.display.Markdown object>"
      ]
     },
     "metadata": {},
     "output_type": "display_data"
    },
    {
     "data": {
      "text/markdown": [
       "<span style=\"font-size:11pt\">Labels (7 classes): <span style=\"color: #0000ff\">spot,building,farm</span>: 176, <span style=\"color: #0000ff\">stream,lake</span>: 74, <span style=\"color: #0000ff\">road,railroad</span>: 16, <span style=\"color: #0000ff\">parks,area</span>: 28, <span style=\"color: #0000ff\">undersea</span>: 27, <span style=\"color: #0000ff\">mountain,hill,rock</span>: 68, <span style=\"color: #0000ff\">forest,heath</span>: 14</span>"
      ],
      "text/plain": [
       "<IPython.core.display.Markdown object>"
      ]
     },
     "metadata": {},
     "output_type": "display_data"
    },
    {
     "data": {
      "text/markdown": [
       "<span style=\"font-size:11pt\">Eval-Settings: metric: <span style=\"color: #0000ff\">f1</span>, type: <span style=\"color: #0000ff\">one-vs-rest</span>, DT-Depth: <span style=\"color: #0000ff\">3</span>, train-test-split:<span style=\"color: #0000ff\"> 5-fold cross-validation </span></span>"
      ],
      "text/plain": [
       "<IPython.core.display.Markdown object>"
      ]
     },
     "metadata": {},
     "output_type": "display_data"
    },
    {
     "data": {
      "text/markdown": [
       "<span style=\"font-size:11pt\">Per-Class-Scores: stream,lake: 0.17, spot,building,farm: 0.75, road,railroad: 0.00, undersea: 0.00, forest,heath: 0.00, mountain,hill,rock: 0.10, parks,area: 0.05</span>"
      ],
      "text/plain": [
       "<IPython.core.display.Markdown object>"
      ]
     },
     "metadata": {},
     "output_type": "display_data"
    },
    {
     "data": {
      "text/markdown": [
       "<span style=\"font-size:11pt\">Unweighted Mean f1: 15.23%</span>"
      ],
      "text/plain": [
       "<IPython.core.display.Markdown object>"
      ]
     },
     "metadata": {},
     "output_type": "display_data"
    },
    {
     "data": {
      "text/markdown": [
       "<span style=\"font-size:11pt\">Weighted Mean f1: 37.75%</span>"
      ],
      "text/plain": [
       "<IPython.core.display.Markdown object>"
      ]
     },
     "metadata": {},
     "output_type": "display_data"
    },
    {
     "data": {
      "text/markdown": [
       "<span style=\"font-size:11pt\">====================================================================================================</span>"
      ],
      "text/plain": [
       "<IPython.core.display.Markdown object>"
      ]
     },
     "metadata": {},
     "output_type": "display_data"
    },
    {
     "data": {
      "text/markdown": [
       "<span style=\"font-size:11pt\">Using classes from Geonames - 403/1383 entities have a class</span>"
      ],
      "text/plain": [
       "<IPython.core.display.Markdown object>"
      ]
     },
     "metadata": {},
     "output_type": "display_data"
    },
    {
     "data": {
      "text/markdown": [
       "<span style=\"font-size:11pt\">Labels (7 classes): <span style=\"color: #0000ff\">spot,building,farm</span>: 176, <span style=\"color: #0000ff\">stream,lake</span>: 74, <span style=\"color: #0000ff\">road,railroad</span>: 16, <span style=\"color: #0000ff\">parks,area</span>: 28, <span style=\"color: #0000ff\">undersea</span>: 27, <span style=\"color: #0000ff\">mountain,hill,rock</span>: 68, <span style=\"color: #0000ff\">forest,heath</span>: 14</span>"
      ],
      "text/plain": [
       "<IPython.core.display.Markdown object>"
      ]
     },
     "metadata": {},
     "output_type": "display_data"
    },
    {
     "data": {
      "text/markdown": [
       "<span style=\"font-size:11pt\">Eval-Settings: metric: <span style=\"color: #0000ff\">accuracy</span>, type: <span style=\"color: #0000ff\">one-vs-rest</span>, DT-Depth: <span style=\"color: #0000ff\">None</span>, train-test-split:<span style=\"color: #0000ff\"> 5-fold cross-validation </span></span>"
      ],
      "text/plain": [
       "<IPython.core.display.Markdown object>"
      ]
     },
     "metadata": {},
     "output_type": "display_data"
    },
    {
     "data": {
      "text/markdown": [
       "<span style=\"font-size:11pt\">Per-Class-Scores: stream,lake: 0.75, spot,building,farm: 0.69, road,railroad: 0.93, undersea: 0.87, forest,heath: 0.95, mountain,hill,rock: 0.77, parks,area: 0.88</span>"
      ],
      "text/plain": [
       "<IPython.core.display.Markdown object>"
      ]
     },
     "metadata": {},
     "output_type": "display_data"
    },
    {
     "data": {
      "text/markdown": [
       "<span style=\"font-size:11pt\">Unweighted Mean accuracy: 83.27%</span>"
      ],
      "text/plain": [
       "<IPython.core.display.Markdown object>"
      ]
     },
     "metadata": {},
     "output_type": "display_data"
    },
    {
     "data": {
      "text/markdown": [
       "<span style=\"font-size:11pt\">Weighted Mean accuracy: 75.93%</span>"
      ],
      "text/plain": [
       "<IPython.core.display.Markdown object>"
      ]
     },
     "metadata": {},
     "output_type": "display_data"
    },
    {
     "data": {
      "text/markdown": [
       "<span style=\"font-size:11pt\">====================================================================================================</span>"
      ],
      "text/plain": [
       "<IPython.core.display.Markdown object>"
      ]
     },
     "metadata": {},
     "output_type": "display_data"
    },
    {
     "data": {
      "text/markdown": [
       "<span style=\"font-size:11pt\">Using classes from Geonames - 403/1383 entities have a class</span>"
      ],
      "text/plain": [
       "<IPython.core.display.Markdown object>"
      ]
     },
     "metadata": {},
     "output_type": "display_data"
    },
    {
     "data": {
      "text/markdown": [
       "<span style=\"font-size:11pt\">Labels (7 classes): <span style=\"color: #0000ff\">spot,building,farm</span>: 176, <span style=\"color: #0000ff\">stream,lake</span>: 74, <span style=\"color: #0000ff\">road,railroad</span>: 16, <span style=\"color: #0000ff\">parks,area</span>: 28, <span style=\"color: #0000ff\">undersea</span>: 27, <span style=\"color: #0000ff\">mountain,hill,rock</span>: 68, <span style=\"color: #0000ff\">forest,heath</span>: 14</span>"
      ],
      "text/plain": [
       "<IPython.core.display.Markdown object>"
      ]
     },
     "metadata": {},
     "output_type": "display_data"
    },
    {
     "data": {
      "text/markdown": [
       "<span style=\"font-size:11pt\">Eval-Settings: metric: <span style=\"color: #0000ff\">f1</span>, type: <span style=\"color: #0000ff\">one-vs-rest</span>, DT-Depth: <span style=\"color: #0000ff\">None</span>, train-test-split:<span style=\"color: #0000ff\"> 5-fold cross-validation </span></span>"
      ],
      "text/plain": [
       "<IPython.core.display.Markdown object>"
      ]
     },
     "metadata": {},
     "output_type": "display_data"
    },
    {
     "data": {
      "text/markdown": [
       "<span style=\"font-size:11pt\">Per-Class-Scores: stream,lake: 0.21, spot,building,farm: 0.65, road,railroad: 0.06, undersea: 0.10, forest,heath: 0.00, mountain,hill,rock: 0.25, parks,area: 0.10</span>"
      ],
      "text/plain": [
       "<IPython.core.display.Markdown object>"
      ]
     },
     "metadata": {},
     "output_type": "display_data"
    },
    {
     "data": {
      "text/markdown": [
       "<span style=\"font-size:11pt\">Unweighted Mean f1: 19.55%</span>"
      ],
      "text/plain": [
       "<IPython.core.display.Markdown object>"
      ]
     },
     "metadata": {},
     "output_type": "display_data"
    },
    {
     "data": {
      "text/markdown": [
       "<span style=\"font-size:11pt\">Weighted Mean f1: 38.15%</span>"
      ],
      "text/plain": [
       "<IPython.core.display.Markdown object>"
      ]
     },
     "metadata": {},
     "output_type": "display_data"
    },
    {
     "data": {
      "text/markdown": [
       "<span style=\"font-size:11pt\">====================================================================================================</span>"
      ],
      "text/plain": [
       "<IPython.core.display.Markdown object>"
      ]
     },
     "metadata": {},
     "output_type": "display_data"
    },
    {
     "data": {
      "text/markdown": [
       "<span style=\"font-size:11pt\">Using classes from Geonames - 403/1383 entities have a class</span>"
      ],
      "text/plain": [
       "<IPython.core.display.Markdown object>"
      ]
     },
     "metadata": {},
     "output_type": "display_data"
    },
    {
     "data": {
      "text/markdown": [
       "<span style=\"font-size:11pt\">Labels (7 classes): <span style=\"color: #0000ff\">spot,building,farm</span>: 176, <span style=\"color: #0000ff\">stream,lake</span>: 74, <span style=\"color: #0000ff\">road,railroad</span>: 16, <span style=\"color: #0000ff\">parks,area</span>: 28, <span style=\"color: #0000ff\">undersea</span>: 27, <span style=\"color: #0000ff\">mountain,hill,rock</span>: 68, <span style=\"color: #0000ff\">forest,heath</span>: 14</span>"
      ],
      "text/plain": [
       "<IPython.core.display.Markdown object>"
      ]
     },
     "metadata": {},
     "output_type": "display_data"
    },
    {
     "data": {
      "text/markdown": [
       "<span style=\"font-size:11pt\">Eval-Settings: metric: <span style=\"color: #0000ff\">accuracy</span>, type: <span style=\"color: #0000ff\">one-vs-rest</span>, DT-Depth: <span style=\"color: #0000ff\">None</span>, train-test-split:<span style=\"color: #0000ff\"> 5-fold cross-validation </span></span>"
      ],
      "text/plain": [
       "<IPython.core.display.Markdown object>"
      ]
     },
     "metadata": {},
     "output_type": "display_data"
    },
    {
     "data": {
      "text/markdown": [
       "<span style=\"font-size:11pt\">Per-Class-Scores: stream,lake: 0.76, spot,building,farm: 0.69, road,railroad: 0.93, undersea: 0.83, forest,heath: 0.95, mountain,hill,rock: 0.76, parks,area: 0.91</span>"
      ],
      "text/plain": [
       "<IPython.core.display.Markdown object>"
      ]
     },
     "metadata": {},
     "output_type": "display_data"
    },
    {
     "data": {
      "text/markdown": [
       "<span style=\"font-size:11pt\">Unweighted Mean accuracy: 83.27%</span>"
      ],
      "text/plain": [
       "<IPython.core.display.Markdown object>"
      ]
     },
     "metadata": {},
     "output_type": "display_data"
    },
    {
     "data": {
      "text/markdown": [
       "<span style=\"font-size:11pt\">Weighted Mean accuracy: 75.81%</span>"
      ],
      "text/plain": [
       "<IPython.core.display.Markdown object>"
      ]
     },
     "metadata": {},
     "output_type": "display_data"
    },
    {
     "data": {
      "text/markdown": [
       "<span style=\"font-size:11pt\">====================================================================================================</span>"
      ],
      "text/plain": [
       "<IPython.core.display.Markdown object>"
      ]
     },
     "metadata": {},
     "output_type": "display_data"
    },
    {
     "data": {
      "text/markdown": [
       "<span style=\"font-size:11pt\">Using classes from Geonames - 403/1383 entities have a class</span>"
      ],
      "text/plain": [
       "<IPython.core.display.Markdown object>"
      ]
     },
     "metadata": {},
     "output_type": "display_data"
    },
    {
     "data": {
      "text/markdown": [
       "<span style=\"font-size:11pt\">Labels (7 classes): <span style=\"color: #0000ff\">spot,building,farm</span>: 176, <span style=\"color: #0000ff\">stream,lake</span>: 74, <span style=\"color: #0000ff\">road,railroad</span>: 16, <span style=\"color: #0000ff\">parks,area</span>: 28, <span style=\"color: #0000ff\">undersea</span>: 27, <span style=\"color: #0000ff\">mountain,hill,rock</span>: 68, <span style=\"color: #0000ff\">forest,heath</span>: 14</span>"
      ],
      "text/plain": [
       "<IPython.core.display.Markdown object>"
      ]
     },
     "metadata": {},
     "output_type": "display_data"
    },
    {
     "data": {
      "text/markdown": [
       "<span style=\"font-size:11pt\">Eval-Settings: metric: <span style=\"color: #0000ff\">f1</span>, type: <span style=\"color: #0000ff\">one-vs-rest</span>, DT-Depth: <span style=\"color: #0000ff\">None</span>, train-test-split:<span style=\"color: #0000ff\"> 5-fold cross-validation </span></span>"
      ],
      "text/plain": [
       "<IPython.core.display.Markdown object>"
      ]
     },
     "metadata": {},
     "output_type": "display_data"
    },
    {
     "data": {
      "text/markdown": [
       "<span style=\"font-size:11pt\">Per-Class-Scores: stream,lake: 0.32, spot,building,farm: 0.67, road,railroad: 0.00, undersea: 0.02, forest,heath: 0.08, mountain,hill,rock: 0.28, parks,area: 0.15</span>"
      ],
      "text/plain": [
       "<IPython.core.display.Markdown object>"
      ]
     },
     "metadata": {},
     "output_type": "display_data"
    },
    {
     "data": {
      "text/markdown": [
       "<span style=\"font-size:11pt\">Unweighted Mean f1: 21.78%</span>"
      ],
      "text/plain": [
       "<IPython.core.display.Markdown object>"
      ]
     },
     "metadata": {},
     "output_type": "display_data"
    },
    {
     "data": {
      "text/markdown": [
       "<span style=\"font-size:11pt\">Weighted Mean f1: 41.27%</span>"
      ],
      "text/plain": [
       "<IPython.core.display.Markdown object>"
      ]
     },
     "metadata": {},
     "output_type": "display_data"
    },
    {
     "data": {
      "text/markdown": [
       "<span style=\"font-size:11pt\">====================================================================================================</span>"
      ],
      "text/plain": [
       "<IPython.core.display.Markdown object>"
      ]
     },
     "metadata": {},
     "output_type": "display_data"
    },
    {
     "data": {
      "text/markdown": [
       "<span style=\"font-size:11pt\">Using classes from Geonames - 403/1383 entities have a class</span>"
      ],
      "text/plain": [
       "<IPython.core.display.Markdown object>"
      ]
     },
     "metadata": {},
     "output_type": "display_data"
    },
    {
     "data": {
      "text/markdown": [
       "<span style=\"font-size:11pt\">Labels (7 classes): <span style=\"color: #0000ff\">spot,building,farm</span>: 176, <span style=\"color: #0000ff\">stream,lake</span>: 74, <span style=\"color: #0000ff\">road,railroad</span>: 16, <span style=\"color: #0000ff\">parks,area</span>: 28, <span style=\"color: #0000ff\">undersea</span>: 27, <span style=\"color: #0000ff\">mountain,hill,rock</span>: 68, <span style=\"color: #0000ff\">forest,heath</span>: 14</span>"
      ],
      "text/plain": [
       "<IPython.core.display.Markdown object>"
      ]
     },
     "metadata": {},
     "output_type": "display_data"
    },
    {
     "data": {
      "text/markdown": [
       "<span style=\"font-size:11pt\">Eval-Settings: metric: <span style=\"color: #0000ff\">accuracy</span>, type: <span style=\"color: #0000ff\">all-at-once</span>, DT-Depth: <span style=\"color: #0000ff\">1</span>, train-test-split:<span style=\"color: #0000ff\"> 5-fold cross-validation </span></span>"
      ],
      "text/plain": [
       "<IPython.core.display.Markdown object>"
      ]
     },
     "metadata": {},
     "output_type": "display_data"
    },
    {
     "name": "stderr",
     "output_type": "stream",
     "text": [
      "derive_conceptualspace/evaluate/shallow_trees.py:141: UserWarning: There are more classes (7) than your decision-tree can possibly classify (2)\n"
     ]
    },
    {
     "data": {
      "text/markdown": [
       "<span style=\"font-size:11pt\">accuracy: 0.11</span>"
      ],
      "text/plain": [
       "<IPython.core.display.Markdown object>"
      ]
     },
     "metadata": {},
     "output_type": "display_data"
    },
    {
     "data": {
      "text/markdown": [
       "<span style=\"font-size:11pt\">Baseline accuracy: 0.44</span>"
      ],
      "text/plain": [
       "<IPython.core.display.Markdown object>"
      ]
     },
     "metadata": {},
     "output_type": "display_data"
    },
    {
     "data": {
      "text/markdown": [
       "<span style=\"font-size:11pt\">Maximally achievable accuracy: 0.62</span>"
      ],
      "text/plain": [
       "<IPython.core.display.Markdown object>"
      ]
     },
     "metadata": {},
     "output_type": "display_data"
    },
    {
     "data": {
      "text/markdown": [
       "<span style=\"font-size:11pt\">====================================================================================================</span>"
      ],
      "text/plain": [
       "<IPython.core.display.Markdown object>"
      ]
     },
     "metadata": {},
     "output_type": "display_data"
    },
    {
     "data": {
      "text/markdown": [
       "<span style=\"font-size:11pt\">Using classes from Geonames - 403/1383 entities have a class</span>"
      ],
      "text/plain": [
       "<IPython.core.display.Markdown object>"
      ]
     },
     "metadata": {},
     "output_type": "display_data"
    },
    {
     "data": {
      "text/markdown": [
       "<span style=\"font-size:11pt\">Labels (7 classes): <span style=\"color: #0000ff\">spot,building,farm</span>: 176, <span style=\"color: #0000ff\">stream,lake</span>: 74, <span style=\"color: #0000ff\">road,railroad</span>: 16, <span style=\"color: #0000ff\">parks,area</span>: 28, <span style=\"color: #0000ff\">undersea</span>: 27, <span style=\"color: #0000ff\">mountain,hill,rock</span>: 68, <span style=\"color: #0000ff\">forest,heath</span>: 14</span>"
      ],
      "text/plain": [
       "<IPython.core.display.Markdown object>"
      ]
     },
     "metadata": {},
     "output_type": "display_data"
    },
    {
     "data": {
      "text/markdown": [
       "<span style=\"font-size:11pt\">Eval-Settings: metric: <span style=\"color: #0000ff\">f1</span>, type: <span style=\"color: #0000ff\">all-at-once</span>, DT-Depth: <span style=\"color: #0000ff\">1</span>, train-test-split:<span style=\"color: #0000ff\"> 5-fold cross-validation </span></span>"
      ],
      "text/plain": [
       "<IPython.core.display.Markdown object>"
      ]
     },
     "metadata": {},
     "output_type": "display_data"
    },
    {
     "name": "stderr",
     "output_type": "stream",
     "text": [
      "derive_conceptualspace/evaluate/shallow_trees.py:141: UserWarning: There are more classes (7) than your decision-tree can possibly classify (2)\n"
     ]
    },
    {
     "data": {
      "text/markdown": [
       "<span style=\"font-size:11pt\">f1: 0.11</span>"
      ],
      "text/plain": [
       "<IPython.core.display.Markdown object>"
      ]
     },
     "metadata": {},
     "output_type": "display_data"
    },
    {
     "data": {
      "text/markdown": [
       "<span style=\"font-size:11pt\">Baseline f1: 0.44</span>"
      ],
      "text/plain": [
       "<IPython.core.display.Markdown object>"
      ]
     },
     "metadata": {},
     "output_type": "display_data"
    },
    {
     "data": {
      "text/markdown": [
       "<span style=\"font-size:11pt\">====================================================================================================</span>"
      ],
      "text/plain": [
       "<IPython.core.display.Markdown object>"
      ]
     },
     "metadata": {},
     "output_type": "display_data"
    },
    {
     "data": {
      "text/markdown": [
       "<span style=\"font-size:11pt\">Using classes from Geonames - 403/1383 entities have a class</span>"
      ],
      "text/plain": [
       "<IPython.core.display.Markdown object>"
      ]
     },
     "metadata": {},
     "output_type": "display_data"
    },
    {
     "data": {
      "text/markdown": [
       "<span style=\"font-size:11pt\">Labels (7 classes): <span style=\"color: #0000ff\">spot,building,farm</span>: 176, <span style=\"color: #0000ff\">stream,lake</span>: 74, <span style=\"color: #0000ff\">road,railroad</span>: 16, <span style=\"color: #0000ff\">parks,area</span>: 28, <span style=\"color: #0000ff\">undersea</span>: 27, <span style=\"color: #0000ff\">mountain,hill,rock</span>: 68, <span style=\"color: #0000ff\">forest,heath</span>: 14</span>"
      ],
      "text/plain": [
       "<IPython.core.display.Markdown object>"
      ]
     },
     "metadata": {},
     "output_type": "display_data"
    },
    {
     "data": {
      "text/markdown": [
       "<span style=\"font-size:11pt\">Eval-Settings: metric: <span style=\"color: #0000ff\">accuracy</span>, type: <span style=\"color: #0000ff\">all-at-once</span>, DT-Depth: <span style=\"color: #0000ff\">1</span>, train-test-split:<span style=\"color: #0000ff\"> 5-fold cross-validation </span></span>"
      ],
      "text/plain": [
       "<IPython.core.display.Markdown object>"
      ]
     },
     "metadata": {},
     "output_type": "display_data"
    },
    {
     "name": "stderr",
     "output_type": "stream",
     "text": [
      "derive_conceptualspace/evaluate/shallow_trees.py:141: UserWarning: There are more classes (7) than your decision-tree can possibly classify (2)\n"
     ]
    },
    {
     "data": {
      "text/markdown": [
       "<span style=\"font-size:11pt\">accuracy: 0.49</span>"
      ],
      "text/plain": [
       "<IPython.core.display.Markdown object>"
      ]
     },
     "metadata": {},
     "output_type": "display_data"
    },
    {
     "data": {
      "text/markdown": [
       "<span style=\"font-size:11pt\">Baseline accuracy: 0.44</span>"
      ],
      "text/plain": [
       "<IPython.core.display.Markdown object>"
      ]
     },
     "metadata": {},
     "output_type": "display_data"
    },
    {
     "data": {
      "text/markdown": [
       "<span style=\"font-size:11pt\">Maximally achievable accuracy: 0.62</span>"
      ],
      "text/plain": [
       "<IPython.core.display.Markdown object>"
      ]
     },
     "metadata": {},
     "output_type": "display_data"
    },
    {
     "data": {
      "text/markdown": [
       "<span style=\"font-size:11pt\">====================================================================================================</span>"
      ],
      "text/plain": [
       "<IPython.core.display.Markdown object>"
      ]
     },
     "metadata": {},
     "output_type": "display_data"
    },
    {
     "data": {
      "text/markdown": [
       "<span style=\"font-size:11pt\">Using classes from Geonames - 403/1383 entities have a class</span>"
      ],
      "text/plain": [
       "<IPython.core.display.Markdown object>"
      ]
     },
     "metadata": {},
     "output_type": "display_data"
    },
    {
     "data": {
      "text/markdown": [
       "<span style=\"font-size:11pt\">Labels (7 classes): <span style=\"color: #0000ff\">spot,building,farm</span>: 176, <span style=\"color: #0000ff\">stream,lake</span>: 74, <span style=\"color: #0000ff\">road,railroad</span>: 16, <span style=\"color: #0000ff\">parks,area</span>: 28, <span style=\"color: #0000ff\">undersea</span>: 27, <span style=\"color: #0000ff\">mountain,hill,rock</span>: 68, <span style=\"color: #0000ff\">forest,heath</span>: 14</span>"
      ],
      "text/plain": [
       "<IPython.core.display.Markdown object>"
      ]
     },
     "metadata": {},
     "output_type": "display_data"
    },
    {
     "data": {
      "text/markdown": [
       "<span style=\"font-size:11pt\">Eval-Settings: metric: <span style=\"color: #0000ff\">f1</span>, type: <span style=\"color: #0000ff\">all-at-once</span>, DT-Depth: <span style=\"color: #0000ff\">1</span>, train-test-split:<span style=\"color: #0000ff\"> 5-fold cross-validation </span></span>"
      ],
      "text/plain": [
       "<IPython.core.display.Markdown object>"
      ]
     },
     "metadata": {},
     "output_type": "display_data"
    },
    {
     "name": "stderr",
     "output_type": "stream",
     "text": [
      "derive_conceptualspace/evaluate/shallow_trees.py:141: UserWarning: There are more classes (7) than your decision-tree can possibly classify (2)\n"
     ]
    },
    {
     "data": {
      "text/markdown": [
       "<span style=\"font-size:11pt\">f1: 0.49</span>"
      ],
      "text/plain": [
       "<IPython.core.display.Markdown object>"
      ]
     },
     "metadata": {},
     "output_type": "display_data"
    },
    {
     "data": {
      "text/markdown": [
       "<span style=\"font-size:11pt\">Baseline f1: 0.44</span>"
      ],
      "text/plain": [
       "<IPython.core.display.Markdown object>"
      ]
     },
     "metadata": {},
     "output_type": "display_data"
    },
    {
     "data": {
      "text/markdown": [
       "<span style=\"font-size:11pt\">====================================================================================================</span>"
      ],
      "text/plain": [
       "<IPython.core.display.Markdown object>"
      ]
     },
     "metadata": {},
     "output_type": "display_data"
    },
    {
     "data": {
      "text/markdown": [
       "<span style=\"font-size:11pt\">Using classes from Geonames - 403/1383 entities have a class</span>"
      ],
      "text/plain": [
       "<IPython.core.display.Markdown object>"
      ]
     },
     "metadata": {},
     "output_type": "display_data"
    },
    {
     "data": {
      "text/markdown": [
       "<span style=\"font-size:11pt\">Labels (7 classes): <span style=\"color: #0000ff\">spot,building,farm</span>: 176, <span style=\"color: #0000ff\">stream,lake</span>: 74, <span style=\"color: #0000ff\">road,railroad</span>: 16, <span style=\"color: #0000ff\">parks,area</span>: 28, <span style=\"color: #0000ff\">undersea</span>: 27, <span style=\"color: #0000ff\">mountain,hill,rock</span>: 68, <span style=\"color: #0000ff\">forest,heath</span>: 14</span>"
      ],
      "text/plain": [
       "<IPython.core.display.Markdown object>"
      ]
     },
     "metadata": {},
     "output_type": "display_data"
    },
    {
     "data": {
      "text/markdown": [
       "<span style=\"font-size:11pt\">Eval-Settings: metric: <span style=\"color: #0000ff\">accuracy</span>, type: <span style=\"color: #0000ff\">all-at-once</span>, DT-Depth: <span style=\"color: #0000ff\">2</span>, train-test-split:<span style=\"color: #0000ff\"> 5-fold cross-validation </span></span>"
      ],
      "text/plain": [
       "<IPython.core.display.Markdown object>"
      ]
     },
     "metadata": {},
     "output_type": "display_data"
    },
    {
     "name": "stderr",
     "output_type": "stream",
     "text": [
      "derive_conceptualspace/evaluate/shallow_trees.py:141: UserWarning: There are more classes (7) than your decision-tree can possibly classify (4)\n"
     ]
    },
    {
     "data": {
      "text/markdown": [
       "<span style=\"font-size:11pt\">accuracy: 0.30</span>"
      ],
      "text/plain": [
       "<IPython.core.display.Markdown object>"
      ]
     },
     "metadata": {},
     "output_type": "display_data"
    },
    {
     "data": {
      "text/markdown": [
       "<span style=\"font-size:11pt\">====================================================================================================</span>"
      ],
      "text/plain": [
       "<IPython.core.display.Markdown object>"
      ]
     },
     "metadata": {},
     "output_type": "display_data"
    },
    {
     "data": {
      "text/markdown": [
       "<span style=\"font-size:11pt\">Using classes from Geonames - 403/1383 entities have a class</span>"
      ],
      "text/plain": [
       "<IPython.core.display.Markdown object>"
      ]
     },
     "metadata": {},
     "output_type": "display_data"
    },
    {
     "data": {
      "text/markdown": [
       "<span style=\"font-size:11pt\">Labels (7 classes): <span style=\"color: #0000ff\">spot,building,farm</span>: 176, <span style=\"color: #0000ff\">stream,lake</span>: 74, <span style=\"color: #0000ff\">road,railroad</span>: 16, <span style=\"color: #0000ff\">parks,area</span>: 28, <span style=\"color: #0000ff\">undersea</span>: 27, <span style=\"color: #0000ff\">mountain,hill,rock</span>: 68, <span style=\"color: #0000ff\">forest,heath</span>: 14</span>"
      ],
      "text/plain": [
       "<IPython.core.display.Markdown object>"
      ]
     },
     "metadata": {},
     "output_type": "display_data"
    },
    {
     "data": {
      "text/markdown": [
       "<span style=\"font-size:11pt\">Eval-Settings: metric: <span style=\"color: #0000ff\">f1</span>, type: <span style=\"color: #0000ff\">all-at-once</span>, DT-Depth: <span style=\"color: #0000ff\">2</span>, train-test-split:<span style=\"color: #0000ff\"> 5-fold cross-validation </span></span>"
      ],
      "text/plain": [
       "<IPython.core.display.Markdown object>"
      ]
     },
     "metadata": {},
     "output_type": "display_data"
    },
    {
     "name": "stderr",
     "output_type": "stream",
     "text": [
      "derive_conceptualspace/evaluate/shallow_trees.py:141: UserWarning: There are more classes (7) than your decision-tree can possibly classify (4)\n"
     ]
    },
    {
     "data": {
      "text/markdown": [
       "<span style=\"font-size:11pt\">f1: 0.30</span>"
      ],
      "text/plain": [
       "<IPython.core.display.Markdown object>"
      ]
     },
     "metadata": {},
     "output_type": "display_data"
    },
    {
     "data": {
      "text/markdown": [
       "<span style=\"font-size:11pt\">====================================================================================================</span>"
      ],
      "text/plain": [
       "<IPython.core.display.Markdown object>"
      ]
     },
     "metadata": {},
     "output_type": "display_data"
    },
    {
     "data": {
      "text/markdown": [
       "<span style=\"font-size:11pt\">Using classes from Geonames - 403/1383 entities have a class</span>"
      ],
      "text/plain": [
       "<IPython.core.display.Markdown object>"
      ]
     },
     "metadata": {},
     "output_type": "display_data"
    },
    {
     "data": {
      "text/markdown": [
       "<span style=\"font-size:11pt\">Labels (7 classes): <span style=\"color: #0000ff\">spot,building,farm</span>: 176, <span style=\"color: #0000ff\">stream,lake</span>: 74, <span style=\"color: #0000ff\">road,railroad</span>: 16, <span style=\"color: #0000ff\">parks,area</span>: 28, <span style=\"color: #0000ff\">undersea</span>: 27, <span style=\"color: #0000ff\">mountain,hill,rock</span>: 68, <span style=\"color: #0000ff\">forest,heath</span>: 14</span>"
      ],
      "text/plain": [
       "<IPython.core.display.Markdown object>"
      ]
     },
     "metadata": {},
     "output_type": "display_data"
    },
    {
     "data": {
      "text/markdown": [
       "<span style=\"font-size:11pt\">Eval-Settings: metric: <span style=\"color: #0000ff\">accuracy</span>, type: <span style=\"color: #0000ff\">all-at-once</span>, DT-Depth: <span style=\"color: #0000ff\">2</span>, train-test-split:<span style=\"color: #0000ff\"> 5-fold cross-validation </span></span>"
      ],
      "text/plain": [
       "<IPython.core.display.Markdown object>"
      ]
     },
     "metadata": {},
     "output_type": "display_data"
    },
    {
     "name": "stderr",
     "output_type": "stream",
     "text": [
      "derive_conceptualspace/evaluate/shallow_trees.py:141: UserWarning: There are more classes (7) than your decision-tree can possibly classify (4)\n"
     ]
    },
    {
     "data": {
      "text/markdown": [
       "<span style=\"font-size:11pt\">accuracy: 0.47</span>"
      ],
      "text/plain": [
       "<IPython.core.display.Markdown object>"
      ]
     },
     "metadata": {},
     "output_type": "display_data"
    },
    {
     "data": {
      "text/markdown": [
       "<span style=\"font-size:11pt\">====================================================================================================</span>"
      ],
      "text/plain": [
       "<IPython.core.display.Markdown object>"
      ]
     },
     "metadata": {},
     "output_type": "display_data"
    },
    {
     "data": {
      "text/markdown": [
       "<span style=\"font-size:11pt\">Using classes from Geonames - 403/1383 entities have a class</span>"
      ],
      "text/plain": [
       "<IPython.core.display.Markdown object>"
      ]
     },
     "metadata": {},
     "output_type": "display_data"
    },
    {
     "data": {
      "text/markdown": [
       "<span style=\"font-size:11pt\">Labels (7 classes): <span style=\"color: #0000ff\">spot,building,farm</span>: 176, <span style=\"color: #0000ff\">stream,lake</span>: 74, <span style=\"color: #0000ff\">road,railroad</span>: 16, <span style=\"color: #0000ff\">parks,area</span>: 28, <span style=\"color: #0000ff\">undersea</span>: 27, <span style=\"color: #0000ff\">mountain,hill,rock</span>: 68, <span style=\"color: #0000ff\">forest,heath</span>: 14</span>"
      ],
      "text/plain": [
       "<IPython.core.display.Markdown object>"
      ]
     },
     "metadata": {},
     "output_type": "display_data"
    },
    {
     "data": {
      "text/markdown": [
       "<span style=\"font-size:11pt\">Eval-Settings: metric: <span style=\"color: #0000ff\">f1</span>, type: <span style=\"color: #0000ff\">all-at-once</span>, DT-Depth: <span style=\"color: #0000ff\">2</span>, train-test-split:<span style=\"color: #0000ff\"> 5-fold cross-validation </span></span>"
      ],
      "text/plain": [
       "<IPython.core.display.Markdown object>"
      ]
     },
     "metadata": {},
     "output_type": "display_data"
    },
    {
     "name": "stderr",
     "output_type": "stream",
     "text": [
      "derive_conceptualspace/evaluate/shallow_trees.py:141: UserWarning: There are more classes (7) than your decision-tree can possibly classify (4)\n"
     ]
    },
    {
     "data": {
      "text/markdown": [
       "<span style=\"font-size:11pt\">f1: 0.47</span>"
      ],
      "text/plain": [
       "<IPython.core.display.Markdown object>"
      ]
     },
     "metadata": {},
     "output_type": "display_data"
    },
    {
     "data": {
      "text/markdown": [
       "<span style=\"font-size:11pt\">====================================================================================================</span>"
      ],
      "text/plain": [
       "<IPython.core.display.Markdown object>"
      ]
     },
     "metadata": {},
     "output_type": "display_data"
    },
    {
     "data": {
      "text/markdown": [
       "<span style=\"font-size:11pt\">Using classes from Geonames - 403/1383 entities have a class</span>"
      ],
      "text/plain": [
       "<IPython.core.display.Markdown object>"
      ]
     },
     "metadata": {},
     "output_type": "display_data"
    },
    {
     "data": {
      "text/markdown": [
       "<span style=\"font-size:11pt\">Labels (7 classes): <span style=\"color: #0000ff\">spot,building,farm</span>: 176, <span style=\"color: #0000ff\">stream,lake</span>: 74, <span style=\"color: #0000ff\">road,railroad</span>: 16, <span style=\"color: #0000ff\">parks,area</span>: 28, <span style=\"color: #0000ff\">undersea</span>: 27, <span style=\"color: #0000ff\">mountain,hill,rock</span>: 68, <span style=\"color: #0000ff\">forest,heath</span>: 14</span>"
      ],
      "text/plain": [
       "<IPython.core.display.Markdown object>"
      ]
     },
     "metadata": {},
     "output_type": "display_data"
    },
    {
     "data": {
      "text/markdown": [
       "<span style=\"font-size:11pt\">Eval-Settings: metric: <span style=\"color: #0000ff\">accuracy</span>, type: <span style=\"color: #0000ff\">all-at-once</span>, DT-Depth: <span style=\"color: #0000ff\">3</span>, train-test-split:<span style=\"color: #0000ff\"> 5-fold cross-validation </span></span>"
      ],
      "text/plain": [
       "<IPython.core.display.Markdown object>"
      ]
     },
     "metadata": {},
     "output_type": "display_data"
    },
    {
     "data": {
      "text/markdown": [
       "<span style=\"font-size:11pt\">accuracy: 0.34</span>"
      ],
      "text/plain": [
       "<IPython.core.display.Markdown object>"
      ]
     },
     "metadata": {},
     "output_type": "display_data"
    },
    {
     "data": {
      "text/markdown": [
       "<span style=\"font-size:11pt\">====================================================================================================</span>"
      ],
      "text/plain": [
       "<IPython.core.display.Markdown object>"
      ]
     },
     "metadata": {},
     "output_type": "display_data"
    },
    {
     "data": {
      "text/markdown": [
       "<span style=\"font-size:11pt\">Using classes from Geonames - 403/1383 entities have a class</span>"
      ],
      "text/plain": [
       "<IPython.core.display.Markdown object>"
      ]
     },
     "metadata": {},
     "output_type": "display_data"
    },
    {
     "data": {
      "text/markdown": [
       "<span style=\"font-size:11pt\">Labels (7 classes): <span style=\"color: #0000ff\">spot,building,farm</span>: 176, <span style=\"color: #0000ff\">stream,lake</span>: 74, <span style=\"color: #0000ff\">road,railroad</span>: 16, <span style=\"color: #0000ff\">parks,area</span>: 28, <span style=\"color: #0000ff\">undersea</span>: 27, <span style=\"color: #0000ff\">mountain,hill,rock</span>: 68, <span style=\"color: #0000ff\">forest,heath</span>: 14</span>"
      ],
      "text/plain": [
       "<IPython.core.display.Markdown object>"
      ]
     },
     "metadata": {},
     "output_type": "display_data"
    },
    {
     "data": {
      "text/markdown": [
       "<span style=\"font-size:11pt\">Eval-Settings: metric: <span style=\"color: #0000ff\">f1</span>, type: <span style=\"color: #0000ff\">all-at-once</span>, DT-Depth: <span style=\"color: #0000ff\">3</span>, train-test-split:<span style=\"color: #0000ff\"> 5-fold cross-validation </span></span>"
      ],
      "text/plain": [
       "<IPython.core.display.Markdown object>"
      ]
     },
     "metadata": {},
     "output_type": "display_data"
    },
    {
     "data": {
      "text/markdown": [
       "<span style=\"font-size:11pt\">f1: 0.34</span>"
      ],
      "text/plain": [
       "<IPython.core.display.Markdown object>"
      ]
     },
     "metadata": {},
     "output_type": "display_data"
    },
    {
     "data": {
      "text/markdown": [
       "<span style=\"font-size:11pt\">====================================================================================================</span>"
      ],
      "text/plain": [
       "<IPython.core.display.Markdown object>"
      ]
     },
     "metadata": {},
     "output_type": "display_data"
    },
    {
     "data": {
      "text/markdown": [
       "<span style=\"font-size:11pt\">Using classes from Geonames - 403/1383 entities have a class</span>"
      ],
      "text/plain": [
       "<IPython.core.display.Markdown object>"
      ]
     },
     "metadata": {},
     "output_type": "display_data"
    },
    {
     "data": {
      "text/markdown": [
       "<span style=\"font-size:11pt\">Labels (7 classes): <span style=\"color: #0000ff\">spot,building,farm</span>: 176, <span style=\"color: #0000ff\">stream,lake</span>: 74, <span style=\"color: #0000ff\">road,railroad</span>: 16, <span style=\"color: #0000ff\">parks,area</span>: 28, <span style=\"color: #0000ff\">undersea</span>: 27, <span style=\"color: #0000ff\">mountain,hill,rock</span>: 68, <span style=\"color: #0000ff\">forest,heath</span>: 14</span>"
      ],
      "text/plain": [
       "<IPython.core.display.Markdown object>"
      ]
     },
     "metadata": {},
     "output_type": "display_data"
    },
    {
     "data": {
      "text/markdown": [
       "<span style=\"font-size:11pt\">Eval-Settings: metric: <span style=\"color: #0000ff\">accuracy</span>, type: <span style=\"color: #0000ff\">all-at-once</span>, DT-Depth: <span style=\"color: #0000ff\">3</span>, train-test-split:<span style=\"color: #0000ff\"> 5-fold cross-validation </span></span>"
      ],
      "text/plain": [
       "<IPython.core.display.Markdown object>"
      ]
     },
     "metadata": {},
     "output_type": "display_data"
    },
    {
     "data": {
      "text/markdown": [
       "<span style=\"font-size:11pt\">accuracy: 0.50</span>"
      ],
      "text/plain": [
       "<IPython.core.display.Markdown object>"
      ]
     },
     "metadata": {},
     "output_type": "display_data"
    },
    {
     "data": {
      "text/markdown": [
       "<span style=\"font-size:11pt\">====================================================================================================</span>"
      ],
      "text/plain": [
       "<IPython.core.display.Markdown object>"
      ]
     },
     "metadata": {},
     "output_type": "display_data"
    },
    {
     "data": {
      "text/markdown": [
       "<span style=\"font-size:11pt\">Using classes from Geonames - 403/1383 entities have a class</span>"
      ],
      "text/plain": [
       "<IPython.core.display.Markdown object>"
      ]
     },
     "metadata": {},
     "output_type": "display_data"
    },
    {
     "data": {
      "text/markdown": [
       "<span style=\"font-size:11pt\">Labels (7 classes): <span style=\"color: #0000ff\">spot,building,farm</span>: 176, <span style=\"color: #0000ff\">stream,lake</span>: 74, <span style=\"color: #0000ff\">road,railroad</span>: 16, <span style=\"color: #0000ff\">parks,area</span>: 28, <span style=\"color: #0000ff\">undersea</span>: 27, <span style=\"color: #0000ff\">mountain,hill,rock</span>: 68, <span style=\"color: #0000ff\">forest,heath</span>: 14</span>"
      ],
      "text/plain": [
       "<IPython.core.display.Markdown object>"
      ]
     },
     "metadata": {},
     "output_type": "display_data"
    },
    {
     "data": {
      "text/markdown": [
       "<span style=\"font-size:11pt\">Eval-Settings: metric: <span style=\"color: #0000ff\">f1</span>, type: <span style=\"color: #0000ff\">all-at-once</span>, DT-Depth: <span style=\"color: #0000ff\">3</span>, train-test-split:<span style=\"color: #0000ff\"> 5-fold cross-validation </span></span>"
      ],
      "text/plain": [
       "<IPython.core.display.Markdown object>"
      ]
     },
     "metadata": {},
     "output_type": "display_data"
    },
    {
     "data": {
      "text/markdown": [
       "<span style=\"font-size:11pt\">f1: 0.50</span>"
      ],
      "text/plain": [
       "<IPython.core.display.Markdown object>"
      ]
     },
     "metadata": {},
     "output_type": "display_data"
    },
    {
     "data": {
      "text/markdown": [
       "<span style=\"font-size:11pt\">====================================================================================================</span>"
      ],
      "text/plain": [
       "<IPython.core.display.Markdown object>"
      ]
     },
     "metadata": {},
     "output_type": "display_data"
    },
    {
     "data": {
      "text/markdown": [
       "<span style=\"font-size:11pt\">Using classes from Geonames - 403/1383 entities have a class</span>"
      ],
      "text/plain": [
       "<IPython.core.display.Markdown object>"
      ]
     },
     "metadata": {},
     "output_type": "display_data"
    },
    {
     "data": {
      "text/markdown": [
       "<span style=\"font-size:11pt\">Labels (7 classes): <span style=\"color: #0000ff\">spot,building,farm</span>: 176, <span style=\"color: #0000ff\">stream,lake</span>: 74, <span style=\"color: #0000ff\">road,railroad</span>: 16, <span style=\"color: #0000ff\">parks,area</span>: 28, <span style=\"color: #0000ff\">undersea</span>: 27, <span style=\"color: #0000ff\">mountain,hill,rock</span>: 68, <span style=\"color: #0000ff\">forest,heath</span>: 14</span>"
      ],
      "text/plain": [
       "<IPython.core.display.Markdown object>"
      ]
     },
     "metadata": {},
     "output_type": "display_data"
    },
    {
     "data": {
      "text/markdown": [
       "<span style=\"font-size:11pt\">Eval-Settings: metric: <span style=\"color: #0000ff\">accuracy</span>, type: <span style=\"color: #0000ff\">all-at-once</span>, DT-Depth: <span style=\"color: #0000ff\">None</span>, train-test-split:<span style=\"color: #0000ff\"> 5-fold cross-validation </span></span>"
      ],
      "text/plain": [
       "<IPython.core.display.Markdown object>"
      ]
     },
     "metadata": {},
     "output_type": "display_data"
    },
    {
     "data": {
      "text/markdown": [
       "<span style=\"font-size:11pt\">accuracy: 0.41</span>"
      ],
      "text/plain": [
       "<IPython.core.display.Markdown object>"
      ]
     },
     "metadata": {},
     "output_type": "display_data"
    },
    {
     "data": {
      "text/markdown": [
       "<span style=\"font-size:11pt\">====================================================================================================</span>"
      ],
      "text/plain": [
       "<IPython.core.display.Markdown object>"
      ]
     },
     "metadata": {},
     "output_type": "display_data"
    },
    {
     "data": {
      "text/markdown": [
       "<span style=\"font-size:11pt\">Using classes from Geonames - 403/1383 entities have a class</span>"
      ],
      "text/plain": [
       "<IPython.core.display.Markdown object>"
      ]
     },
     "metadata": {},
     "output_type": "display_data"
    },
    {
     "data": {
      "text/markdown": [
       "<span style=\"font-size:11pt\">Labels (7 classes): <span style=\"color: #0000ff\">spot,building,farm</span>: 176, <span style=\"color: #0000ff\">stream,lake</span>: 74, <span style=\"color: #0000ff\">road,railroad</span>: 16, <span style=\"color: #0000ff\">parks,area</span>: 28, <span style=\"color: #0000ff\">undersea</span>: 27, <span style=\"color: #0000ff\">mountain,hill,rock</span>: 68, <span style=\"color: #0000ff\">forest,heath</span>: 14</span>"
      ],
      "text/plain": [
       "<IPython.core.display.Markdown object>"
      ]
     },
     "metadata": {},
     "output_type": "display_data"
    },
    {
     "data": {
      "text/markdown": [
       "<span style=\"font-size:11pt\">Eval-Settings: metric: <span style=\"color: #0000ff\">f1</span>, type: <span style=\"color: #0000ff\">all-at-once</span>, DT-Depth: <span style=\"color: #0000ff\">None</span>, train-test-split:<span style=\"color: #0000ff\"> 5-fold cross-validation </span></span>"
      ],
      "text/plain": [
       "<IPython.core.display.Markdown object>"
      ]
     },
     "metadata": {},
     "output_type": "display_data"
    },
    {
     "data": {
      "text/markdown": [
       "<span style=\"font-size:11pt\">f1: 0.39</span>"
      ],
      "text/plain": [
       "<IPython.core.display.Markdown object>"
      ]
     },
     "metadata": {},
     "output_type": "display_data"
    },
    {
     "data": {
      "text/markdown": [
       "<span style=\"font-size:11pt\">====================================================================================================</span>"
      ],
      "text/plain": [
       "<IPython.core.display.Markdown object>"
      ]
     },
     "metadata": {},
     "output_type": "display_data"
    },
    {
     "data": {
      "text/markdown": [
       "<span style=\"font-size:11pt\">Using classes from Geonames - 403/1383 entities have a class</span>"
      ],
      "text/plain": [
       "<IPython.core.display.Markdown object>"
      ]
     },
     "metadata": {},
     "output_type": "display_data"
    },
    {
     "data": {
      "text/markdown": [
       "<span style=\"font-size:11pt\">Labels (7 classes): <span style=\"color: #0000ff\">spot,building,farm</span>: 176, <span style=\"color: #0000ff\">stream,lake</span>: 74, <span style=\"color: #0000ff\">road,railroad</span>: 16, <span style=\"color: #0000ff\">parks,area</span>: 28, <span style=\"color: #0000ff\">undersea</span>: 27, <span style=\"color: #0000ff\">mountain,hill,rock</span>: 68, <span style=\"color: #0000ff\">forest,heath</span>: 14</span>"
      ],
      "text/plain": [
       "<IPython.core.display.Markdown object>"
      ]
     },
     "metadata": {},
     "output_type": "display_data"
    },
    {
     "data": {
      "text/markdown": [
       "<span style=\"font-size:11pt\">Eval-Settings: metric: <span style=\"color: #0000ff\">accuracy</span>, type: <span style=\"color: #0000ff\">all-at-once</span>, DT-Depth: <span style=\"color: #0000ff\">None</span>, train-test-split:<span style=\"color: #0000ff\"> 5-fold cross-validation </span></span>"
      ],
      "text/plain": [
       "<IPython.core.display.Markdown object>"
      ]
     },
     "metadata": {},
     "output_type": "display_data"
    },
    {
     "data": {
      "text/markdown": [
       "<span style=\"font-size:11pt\">accuracy: 0.40</span>"
      ],
      "text/plain": [
       "<IPython.core.display.Markdown object>"
      ]
     },
     "metadata": {},
     "output_type": "display_data"
    },
    {
     "data": {
      "text/markdown": [
       "<span style=\"font-size:11pt\">====================================================================================================</span>"
      ],
      "text/plain": [
       "<IPython.core.display.Markdown object>"
      ]
     },
     "metadata": {},
     "output_type": "display_data"
    },
    {
     "data": {
      "text/markdown": [
       "<span style=\"font-size:11pt\">Using classes from Geonames - 403/1383 entities have a class</span>"
      ],
      "text/plain": [
       "<IPython.core.display.Markdown object>"
      ]
     },
     "metadata": {},
     "output_type": "display_data"
    },
    {
     "data": {
      "text/markdown": [
       "<span style=\"font-size:11pt\">Labels (7 classes): <span style=\"color: #0000ff\">spot,building,farm</span>: 176, <span style=\"color: #0000ff\">stream,lake</span>: 74, <span style=\"color: #0000ff\">road,railroad</span>: 16, <span style=\"color: #0000ff\">parks,area</span>: 28, <span style=\"color: #0000ff\">undersea</span>: 27, <span style=\"color: #0000ff\">mountain,hill,rock</span>: 68, <span style=\"color: #0000ff\">forest,heath</span>: 14</span>"
      ],
      "text/plain": [
       "<IPython.core.display.Markdown object>"
      ]
     },
     "metadata": {},
     "output_type": "display_data"
    },
    {
     "data": {
      "text/markdown": [
       "<span style=\"font-size:11pt\">Eval-Settings: metric: <span style=\"color: #0000ff\">f1</span>, type: <span style=\"color: #0000ff\">all-at-once</span>, DT-Depth: <span style=\"color: #0000ff\">None</span>, train-test-split:<span style=\"color: #0000ff\"> 5-fold cross-validation </span></span>"
      ],
      "text/plain": [
       "<IPython.core.display.Markdown object>"
      ]
     },
     "metadata": {},
     "output_type": "display_data"
    },
    {
     "data": {
      "text/markdown": [
       "<span style=\"font-size:11pt\">f1: 0.42</span>"
      ],
      "text/plain": [
       "<IPython.core.display.Markdown object>"
      ]
     },
     "metadata": {},
     "output_type": "display_data"
    },
    {
     "data": {
      "text/markdown": [
       "<span style=\"font-size:11pt\">classes              Foursquare                                                                                                                                                                                               ...             Geonames                                                                                                                                                                                             <br>test%/Xval               0.3300                                                                                                                                                                                               ...               5.0000                                                                                                                                                                                             <br>1vsRest                    True                                                                                                                                                                   False                       ...                 True                                     False                                                                                                                                                   <br>Tree-Depth               1.0000                                    2.0000                                    3.0000                                       NaN                                    1.0000                       ...                  NaN                                    1.0000                                    2.0000                                    3.0000                                       NaN                     <br>balanced                   True                False                 True                False                 True                False                 True                False                 True                False  ...                 True                False                 True                False                 True                False                 True                False                 True                False<br>accuracy    (0.7081251229588...  (0.8756639779657...  (0.8027542789691...  (0.8836710603974...  (0.8343694668502...  (0.8963407436553...  (0.8545150501672...  (0.8652960849891...  (0.1307692307692...  (0.2846153846153...  ...  (0.7592595656036...  (0.7581097785130...  (0.1088580246913...  (0.4937037037037...  (0.2979629629629...  (0.4714506172839...  (0.3421913580246...  (0.4962037037037...  (0.4094444444444...  (0.3969444444444...<br>f1          (0.4730393664462...  (0.3302597152811...  (0.5560819095315...  (0.5129295020207...  (0.5815173950605...  (0.4844953866739...  (0.5028083822756...  (0.5138878571157...  (0.1846153846153...  (0.4076923076923...  ...  (0.3815479829940...  (0.4126750664389...  (0.1088580246913...  (0.4937037037037...  (0.2979629629629...  (0.4714506172839...  (0.3421913580246...  (0.4962037037037...  (0.3943518518518...  (0.4194135802469...<br><br>[2 rows x 128 columns]</span>"
      ],
      "text/plain": [
       "<IPython.core.display.Markdown object>"
      ]
     },
     "metadata": {},
     "output_type": "display_data"
    }
   ],
   "source": [
    "res = classify_shallowtree_multi(clusters, embedding, descriptions, ctx.obj[\"dataset_class\"], verbose=False)"
   ]
  },
  {
   "cell_type": "code",
   "execution_count": 10,
   "id": "d6a210c0-8ffb-4f83-9c3a-7e59707dfd3b",
   "metadata": {},
   "outputs": [
    {
     "data": {
      "text/markdown": [
       "## Geonames (weighted)"
      ],
      "text/plain": [
       "<IPython.core.display.Markdown object>"
      ]
     },
     "metadata": {},
     "output_type": "display_data"
    },
    {
     "data": {
      "text/html": [
       "<style type=\"text/css\">\n",
       "#T_28dd0 th {\n",
       "  vertical-align: top;\n",
       "  text-align: left;\n",
       "}\n",
       "#T_28dd0_row0_col0, #T_28dd0_row0_col1, #T_28dd0_row3_col2, #T_28dd0_row3_col3 {\n",
       "  background-color: lightgreen;\n",
       "}\n",
       "</style>\n",
       "<table id=\"T_28dd0\">\n",
       "  <thead>\n",
       "    <tr>\n",
       "      <th class=\"blank\" >&nbsp;</th>\n",
       "      <th class=\"index_name level0\" >Tree-Depth</th>\n",
       "      <th id=\"T_28dd0_level0_col0\" class=\"col_heading level0 col0\" >-</th>\n",
       "      <th id=\"T_28dd0_level0_col1\" class=\"col_heading level0 col1\" >1</th>\n",
       "      <th id=\"T_28dd0_level0_col2\" class=\"col_heading level0 col2\" >2</th>\n",
       "      <th id=\"T_28dd0_level0_col3\" class=\"col_heading level0 col3\" >3</th>\n",
       "    </tr>\n",
       "    <tr>\n",
       "      <th class=\"index_name level0\" >1vsRest</th>\n",
       "      <th class=\"index_name level1\" >balanced</th>\n",
       "      <th class=\"blank col0\" >&nbsp;</th>\n",
       "      <th class=\"blank col1\" >&nbsp;</th>\n",
       "      <th class=\"blank col2\" >&nbsp;</th>\n",
       "      <th class=\"blank col3\" >&nbsp;</th>\n",
       "    </tr>\n",
       "  </thead>\n",
       "  <tbody>\n",
       "    <tr>\n",
       "      <th id=\"T_28dd0_level0_row0\" class=\"row_heading level0 row0\" rowspan=\"2\">0</th>\n",
       "      <th id=\"T_28dd0_level1_row0\" class=\"row_heading level1 row0\" >0</th>\n",
       "      <td id=\"T_28dd0_row0_col0\" class=\"data row0 col0\" >0.419</td>\n",
       "      <td id=\"T_28dd0_row0_col1\" class=\"data row0 col1\" >0.494</td>\n",
       "      <td id=\"T_28dd0_row0_col2\" class=\"data row0 col2\" >0.471</td>\n",
       "      <td id=\"T_28dd0_row0_col3\" class=\"data row0 col3\" >0.496</td>\n",
       "    </tr>\n",
       "    <tr>\n",
       "      <th id=\"T_28dd0_level1_row1\" class=\"row_heading level1 row1\" >1</th>\n",
       "      <td id=\"T_28dd0_row1_col0\" class=\"data row1 col0\" >0.394</td>\n",
       "      <td id=\"T_28dd0_row1_col1\" class=\"data row1 col1\" >0.109</td>\n",
       "      <td id=\"T_28dd0_row1_col2\" class=\"data row1 col2\" >0.298</td>\n",
       "      <td id=\"T_28dd0_row1_col3\" class=\"data row1 col3\" >0.342</td>\n",
       "    </tr>\n",
       "    <tr>\n",
       "      <th id=\"T_28dd0_level0_row2\" class=\"row_heading level0 row2\" rowspan=\"2\">1</th>\n",
       "      <th id=\"T_28dd0_level1_row2\" class=\"row_heading level1 row2\" >0</th>\n",
       "      <td id=\"T_28dd0_row2_col0\" class=\"data row2 col0\" >0.413</td>\n",
       "      <td id=\"T_28dd0_row2_col1\" class=\"data row2 col1\" >0.314</td>\n",
       "      <td id=\"T_28dd0_row2_col2\" class=\"data row2 col2\" >0.331</td>\n",
       "      <td id=\"T_28dd0_row2_col3\" class=\"data row2 col3\" >0.378</td>\n",
       "    </tr>\n",
       "    <tr>\n",
       "      <th id=\"T_28dd0_level1_row3\" class=\"row_heading level1 row3\" >1</th>\n",
       "      <td id=\"T_28dd0_row3_col0\" class=\"data row3 col0\" >0.382</td>\n",
       "      <td id=\"T_28dd0_row3_col1\" class=\"data row3 col1\" >0.487</td>\n",
       "      <td id=\"T_28dd0_row3_col2\" class=\"data row3 col2\" >0.505</td>\n",
       "      <td id=\"T_28dd0_row3_col3\" class=\"data row3 col3\" >0.506</td>\n",
       "    </tr>\n",
       "  </tbody>\n",
       "</table>\n"
      ],
      "text/plain": [
       "<pandas.io.formats.style.Styler at 0x7f3b90058fa0>"
      ]
     },
     "metadata": {},
     "output_type": "display_data"
    },
    {
     "data": {
      "text/markdown": [
       "## Foursquare (weighted)"
      ],
      "text/plain": [
       "<IPython.core.display.Markdown object>"
      ]
     },
     "metadata": {},
     "output_type": "display_data"
    },
    {
     "data": {
      "text/html": [
       "<style type=\"text/css\">\n",
       "#T_ce6e4 th {\n",
       "  vertical-align: top;\n",
       "  text-align: left;\n",
       "}\n",
       "#T_ce6e4_row3_col0, #T_ce6e4_row3_col1, #T_ce6e4_row3_col2, #T_ce6e4_row3_col3 {\n",
       "  background-color: lightgreen;\n",
       "}\n",
       "</style>\n",
       "<table id=\"T_ce6e4\">\n",
       "  <thead>\n",
       "    <tr>\n",
       "      <th class=\"blank\" >&nbsp;</th>\n",
       "      <th class=\"index_name level0\" >Tree-Depth</th>\n",
       "      <th id=\"T_ce6e4_level0_col0\" class=\"col_heading level0 col0\" >-</th>\n",
       "      <th id=\"T_ce6e4_level0_col1\" class=\"col_heading level0 col1\" >1</th>\n",
       "      <th id=\"T_ce6e4_level0_col2\" class=\"col_heading level0 col2\" >2</th>\n",
       "      <th id=\"T_ce6e4_level0_col3\" class=\"col_heading level0 col3\" >3</th>\n",
       "    </tr>\n",
       "    <tr>\n",
       "      <th class=\"index_name level0\" >1vsRest</th>\n",
       "      <th class=\"index_name level1\" >balanced</th>\n",
       "      <th class=\"blank col0\" >&nbsp;</th>\n",
       "      <th class=\"blank col1\" >&nbsp;</th>\n",
       "      <th class=\"blank col2\" >&nbsp;</th>\n",
       "      <th class=\"blank col3\" >&nbsp;</th>\n",
       "    </tr>\n",
       "  </thead>\n",
       "  <tbody>\n",
       "    <tr>\n",
       "      <th id=\"T_ce6e4_level0_row0\" class=\"row_heading level0 row0\" rowspan=\"2\">0</th>\n",
       "      <th id=\"T_ce6e4_level1_row0\" class=\"row_heading level1 row0\" >0</th>\n",
       "      <td id=\"T_ce6e4_row0_col0\" class=\"data row0 col0\" >0.527</td>\n",
       "      <td id=\"T_ce6e4_row0_col1\" class=\"data row0 col1\" >0.358</td>\n",
       "      <td id=\"T_ce6e4_row0_col2\" class=\"data row0 col2\" >0.453</td>\n",
       "      <td id=\"T_ce6e4_row0_col3\" class=\"data row0 col3\" >0.540</td>\n",
       "    </tr>\n",
       "    <tr>\n",
       "      <th id=\"T_ce6e4_level1_row1\" class=\"row_heading level1 row1\" >1</th>\n",
       "      <td id=\"T_ce6e4_row1_col0\" class=\"data row1 col0\" >0.535</td>\n",
       "      <td id=\"T_ce6e4_row1_col1\" class=\"data row1 col1\" >0.128</td>\n",
       "      <td id=\"T_ce6e4_row1_col2\" class=\"data row1 col2\" >0.189</td>\n",
       "      <td id=\"T_ce6e4_row1_col3\" class=\"data row1 col3\" >0.281</td>\n",
       "    </tr>\n",
       "    <tr>\n",
       "      <th id=\"T_ce6e4_level0_row2\" class=\"row_heading level0 row2\" rowspan=\"2\">1</th>\n",
       "      <th id=\"T_ce6e4_level1_row2\" class=\"row_heading level1 row2\" >0</th>\n",
       "      <td id=\"T_ce6e4_row2_col0\" class=\"data row2 col0\" >0.513</td>\n",
       "      <td id=\"T_ce6e4_row2_col1\" class=\"data row2 col1\" >0.229</td>\n",
       "      <td id=\"T_ce6e4_row2_col2\" class=\"data row2 col2\" >0.453</td>\n",
       "      <td id=\"T_ce6e4_row2_col3\" class=\"data row2 col3\" >0.494</td>\n",
       "    </tr>\n",
       "    <tr>\n",
       "      <th id=\"T_ce6e4_level1_row3\" class=\"row_heading level1 row3\" >1</th>\n",
       "      <td id=\"T_ce6e4_row3_col0\" class=\"data row3 col0\" >0.548</td>\n",
       "      <td id=\"T_ce6e4_row3_col1\" class=\"data row3 col1\" >0.488</td>\n",
       "      <td id=\"T_ce6e4_row3_col2\" class=\"data row3 col2\" >0.563</td>\n",
       "      <td id=\"T_ce6e4_row3_col3\" class=\"data row3 col3\" >0.558</td>\n",
       "    </tr>\n",
       "  </tbody>\n",
       "</table>\n"
      ],
      "text/plain": [
       "<pandas.io.formats.style.Styler at 0x7f3c51b18670>"
      ]
     },
     "metadata": {},
     "output_type": "display_data"
    },
    {
     "data": {
      "text/markdown": [
       "## Geonames (unweighted)"
      ],
      "text/plain": [
       "<IPython.core.display.Markdown object>"
      ]
     },
     "metadata": {},
     "output_type": "display_data"
    },
    {
     "data": {
      "text/html": [
       "<style type=\"text/css\">\n",
       "#T_5e3e1 th {\n",
       "  vertical-align: top;\n",
       "  text-align: left;\n",
       "}\n",
       "#T_5e3e1_row2_col0, #T_5e3e1_row3_col1, #T_5e3e1_row3_col2, #T_5e3e1_row3_col3 {\n",
       "  background-color: lightgreen;\n",
       "}\n",
       "</style>\n",
       "<table id=\"T_5e3e1\">\n",
       "  <thead>\n",
       "    <tr>\n",
       "      <th class=\"blank\" >&nbsp;</th>\n",
       "      <th class=\"index_name level0\" >Tree-Depth</th>\n",
       "      <th id=\"T_5e3e1_level0_col0\" class=\"col_heading level0 col0\" >-</th>\n",
       "      <th id=\"T_5e3e1_level0_col1\" class=\"col_heading level0 col1\" >1</th>\n",
       "      <th id=\"T_5e3e1_level0_col2\" class=\"col_heading level0 col2\" >2</th>\n",
       "      <th id=\"T_5e3e1_level0_col3\" class=\"col_heading level0 col3\" >3</th>\n",
       "    </tr>\n",
       "    <tr>\n",
       "      <th class=\"index_name level0\" >1vsRest</th>\n",
       "      <th class=\"index_name level1\" >balanced</th>\n",
       "      <th class=\"blank col0\" >&nbsp;</th>\n",
       "      <th class=\"blank col1\" >&nbsp;</th>\n",
       "      <th class=\"blank col2\" >&nbsp;</th>\n",
       "      <th class=\"blank col3\" >&nbsp;</th>\n",
       "    </tr>\n",
       "  </thead>\n",
       "  <tbody>\n",
       "    <tr>\n",
       "      <th id=\"T_5e3e1_level0_row0\" class=\"row_heading level0 row0\" rowspan=\"2\">0</th>\n",
       "      <th id=\"T_5e3e1_level1_row0\" class=\"row_heading level1 row0\" >0</th>\n",
       "      <td id=\"T_5e3e1_row0_col0\" class=\"data row0 col0\" >-</td>\n",
       "      <td id=\"T_5e3e1_row0_col1\" class=\"data row0 col1\" >-</td>\n",
       "      <td id=\"T_5e3e1_row0_col2\" class=\"data row0 col2\" >-</td>\n",
       "      <td id=\"T_5e3e1_row0_col3\" class=\"data row0 col3\" >-</td>\n",
       "    </tr>\n",
       "    <tr>\n",
       "      <th id=\"T_5e3e1_level1_row1\" class=\"row_heading level1 row1\" >1</th>\n",
       "      <td id=\"T_5e3e1_row1_col0\" class=\"data row1 col0\" >-</td>\n",
       "      <td id=\"T_5e3e1_row1_col1\" class=\"data row1 col1\" >-</td>\n",
       "      <td id=\"T_5e3e1_row1_col2\" class=\"data row1 col2\" >-</td>\n",
       "      <td id=\"T_5e3e1_row1_col3\" class=\"data row1 col3\" >-</td>\n",
       "    </tr>\n",
       "    <tr>\n",
       "      <th id=\"T_5e3e1_level0_row2\" class=\"row_heading level0 row2\" rowspan=\"2\">1</th>\n",
       "      <th id=\"T_5e3e1_level1_row2\" class=\"row_heading level1 row2\" >0</th>\n",
       "      <td id=\"T_5e3e1_row2_col0\" class=\"data row2 col0\" >0.218</td>\n",
       "      <td id=\"T_5e3e1_row2_col1\" class=\"data row2 col1\" >0.103</td>\n",
       "      <td id=\"T_5e3e1_row2_col2\" class=\"data row2 col2\" >0.116</td>\n",
       "      <td id=\"T_5e3e1_row2_col3\" class=\"data row2 col3\" >0.152</td>\n",
       "    </tr>\n",
       "    <tr>\n",
       "      <th id=\"T_5e3e1_level1_row3\" class=\"row_heading level1 row3\" >1</th>\n",
       "      <td id=\"T_5e3e1_row3_col0\" class=\"data row3 col0\" >0.195</td>\n",
       "      <td id=\"T_5e3e1_row3_col1\" class=\"data row3 col1\" >0.284</td>\n",
       "      <td id=\"T_5e3e1_row3_col2\" class=\"data row3 col2\" >0.294</td>\n",
       "      <td id=\"T_5e3e1_row3_col3\" class=\"data row3 col3\" >0.292</td>\n",
       "    </tr>\n",
       "  </tbody>\n",
       "</table>\n"
      ],
      "text/plain": [
       "<pandas.io.formats.style.Styler at 0x7f3c51b19ea0>"
      ]
     },
     "metadata": {},
     "output_type": "display_data"
    },
    {
     "data": {
      "text/markdown": [
       "## Foursquare (unweighted)"
      ],
      "text/plain": [
       "<IPython.core.display.Markdown object>"
      ]
     },
     "metadata": {},
     "output_type": "display_data"
    },
    {
     "data": {
      "text/html": [
       "<style type=\"text/css\">\n",
       "#T_d3a44 th {\n",
       "  vertical-align: top;\n",
       "  text-align: left;\n",
       "}\n",
       "#T_d3a44_row3_col0, #T_d3a44_row3_col1, #T_d3a44_row3_col2, #T_d3a44_row3_col3 {\n",
       "  background-color: lightgreen;\n",
       "}\n",
       "</style>\n",
       "<table id=\"T_d3a44\">\n",
       "  <thead>\n",
       "    <tr>\n",
       "      <th class=\"blank\" >&nbsp;</th>\n",
       "      <th class=\"index_name level0\" >Tree-Depth</th>\n",
       "      <th id=\"T_d3a44_level0_col0\" class=\"col_heading level0 col0\" >-</th>\n",
       "      <th id=\"T_d3a44_level0_col1\" class=\"col_heading level0 col1\" >1</th>\n",
       "      <th id=\"T_d3a44_level0_col2\" class=\"col_heading level0 col2\" >2</th>\n",
       "      <th id=\"T_d3a44_level0_col3\" class=\"col_heading level0 col3\" >3</th>\n",
       "    </tr>\n",
       "    <tr>\n",
       "      <th class=\"index_name level0\" >1vsRest</th>\n",
       "      <th class=\"index_name level1\" >balanced</th>\n",
       "      <th class=\"blank col0\" >&nbsp;</th>\n",
       "      <th class=\"blank col1\" >&nbsp;</th>\n",
       "      <th class=\"blank col2\" >&nbsp;</th>\n",
       "      <th class=\"blank col3\" >&nbsp;</th>\n",
       "    </tr>\n",
       "  </thead>\n",
       "  <tbody>\n",
       "    <tr>\n",
       "      <th id=\"T_d3a44_level0_row0\" class=\"row_heading level0 row0\" rowspan=\"2\">0</th>\n",
       "      <th id=\"T_d3a44_level1_row0\" class=\"row_heading level1 row0\" >0</th>\n",
       "      <td id=\"T_d3a44_row0_col0\" class=\"data row0 col0\" >-</td>\n",
       "      <td id=\"T_d3a44_row0_col1\" class=\"data row0 col1\" >-</td>\n",
       "      <td id=\"T_d3a44_row0_col2\" class=\"data row0 col2\" >-</td>\n",
       "      <td id=\"T_d3a44_row0_col3\" class=\"data row0 col3\" >-</td>\n",
       "    </tr>\n",
       "    <tr>\n",
       "      <th id=\"T_d3a44_level1_row1\" class=\"row_heading level1 row1\" >1</th>\n",
       "      <td id=\"T_d3a44_row1_col0\" class=\"data row1 col0\" >-</td>\n",
       "      <td id=\"T_d3a44_row1_col1\" class=\"data row1 col1\" >-</td>\n",
       "      <td id=\"T_d3a44_row1_col2\" class=\"data row1 col2\" >-</td>\n",
       "      <td id=\"T_d3a44_row1_col3\" class=\"data row1 col3\" >-</td>\n",
       "    </tr>\n",
       "    <tr>\n",
       "      <th id=\"T_d3a44_level0_row2\" class=\"row_heading level0 row2\" rowspan=\"2\">1</th>\n",
       "      <th id=\"T_d3a44_level1_row2\" class=\"row_heading level1 row2\" >0</th>\n",
       "      <td id=\"T_d3a44_row2_col0\" class=\"data row2 col0\" >0.436</td>\n",
       "      <td id=\"T_d3a44_row2_col1\" class=\"data row2 col1\" >0.148</td>\n",
       "      <td id=\"T_d3a44_row2_col2\" class=\"data row2 col2\" >0.333</td>\n",
       "      <td id=\"T_d3a44_row2_col3\" class=\"data row2 col3\" >0.403</td>\n",
       "    </tr>\n",
       "    <tr>\n",
       "      <th id=\"T_d3a44_level1_row3\" class=\"row_heading level1 row3\" >1</th>\n",
       "      <td id=\"T_d3a44_row3_col0\" class=\"data row3 col0\" >0.474</td>\n",
       "      <td id=\"T_d3a44_row3_col1\" class=\"data row3 col1\" >0.419</td>\n",
       "      <td id=\"T_d3a44_row3_col2\" class=\"data row3 col2\" >0.476</td>\n",
       "      <td id=\"T_d3a44_row3_col3\" class=\"data row3 col3\" >0.481</td>\n",
       "    </tr>\n",
       "  </tbody>\n",
       "</table>\n"
      ],
      "text/plain": [
       "<pandas.io.formats.style.Styler at 0x7f3b901eb340>"
      ]
     },
     "metadata": {},
     "output_type": "display_data"
    }
   ],
   "source": [
    "# new results (weighted & unweighted) \n",
    "\n",
    "SHOW_CROSSVAL_NUM = 5\n",
    "SHOW_METRIC = \"f1\"\n",
    "\n",
    "styles = [{'selector': 'th', 'props': [('vertical-align','top'),('text-align','left')]}] #('border-style', 'solid')  #see https://stackoverflow.com/a/55904239/5122790\n",
    "styler = lambda df: df.style.apply(highlight_nonzero_max, axis=0).format('{:.3f}'.format, na_rep=\"-\").set_table_styles(styles)\n",
    "    \n",
    "for taxonomy in set(wres.columns.get_level_values(0)):\n",
    "    display(Markdown(f\"## {taxonomy}\"))\n",
    "    for weighted in [True, False]:\n",
    "        wres = pd.DataFrame(np.array([[i[0] if weighted else i[1] for i in row] for row in res.values]), index=res.index, columns=res.columns)\n",
    "        df = wres.T.xs(taxonomy).xs(SHOW_CROSSVAL_NUM)[SHOW_METRIC].unstack(level=[1])\n",
    "        df.columns = pd.Series(df.columns.fillna(0).astype(int).astype(str)).replace(\"0\", \"-\")\n",
    "        display(styler(df))"
   ]
  },
  {
   "cell_type": "code",
   "execution_count": 10,
   "id": "1381fa0e-5b41-45c8-981a-f903509527af",
   "metadata": {},
   "outputs": [
    {
     "data": {
      "text/markdown": [
       "## Geonames (weighted)"
      ],
      "text/plain": [
       "<IPython.core.display.Markdown object>"
      ]
     },
     "metadata": {},
     "output_type": "display_data"
    },
    {
     "data": {
      "text/html": [
       "<style type=\"text/css\">\n",
       "#T_28dd0 th {\n",
       "  vertical-align: top;\n",
       "  text-align: left;\n",
       "}\n",
       "#T_28dd0_row0_col0, #T_28dd0_row0_col1, #T_28dd0_row3_col2, #T_28dd0_row3_col3 {\n",
       "  background-color: lightgreen;\n",
       "}\n",
       "</style>\n",
       "<table id=\"T_28dd0\">\n",
       "  <thead>\n",
       "    <tr>\n",
       "      <th class=\"blank\" >&nbsp;</th>\n",
       "      <th class=\"index_name level0\" >Tree-Depth</th>\n",
       "      <th id=\"T_28dd0_level0_col0\" class=\"col_heading level0 col0\" >-</th>\n",
       "      <th id=\"T_28dd0_level0_col1\" class=\"col_heading level0 col1\" >1</th>\n",
       "      <th id=\"T_28dd0_level0_col2\" class=\"col_heading level0 col2\" >2</th>\n",
       "      <th id=\"T_28dd0_level0_col3\" class=\"col_heading level0 col3\" >3</th>\n",
       "    </tr>\n",
       "    <tr>\n",
       "      <th class=\"index_name level0\" >1vsRest</th>\n",
       "      <th class=\"index_name level1\" >balanced</th>\n",
       "      <th class=\"blank col0\" >&nbsp;</th>\n",
       "      <th class=\"blank col1\" >&nbsp;</th>\n",
       "      <th class=\"blank col2\" >&nbsp;</th>\n",
       "      <th class=\"blank col3\" >&nbsp;</th>\n",
       "    </tr>\n",
       "  </thead>\n",
       "  <tbody>\n",
       "    <tr>\n",
       "      <th id=\"T_28dd0_level0_row0\" class=\"row_heading level0 row0\" rowspan=\"2\">0</th>\n",
       "      <th id=\"T_28dd0_level1_row0\" class=\"row_heading level1 row0\" >0</th>\n",
       "      <td id=\"T_28dd0_row0_col0\" class=\"data row0 col0\" >0.419</td>\n",
       "      <td id=\"T_28dd0_row0_col1\" class=\"data row0 col1\" >0.494</td>\n",
       "      <td id=\"T_28dd0_row0_col2\" class=\"data row0 col2\" >0.471</td>\n",
       "      <td id=\"T_28dd0_row0_col3\" class=\"data row0 col3\" >0.496</td>\n",
       "    </tr>\n",
       "    <tr>\n",
       "      <th id=\"T_28dd0_level1_row1\" class=\"row_heading level1 row1\" >1</th>\n",
       "      <td id=\"T_28dd0_row1_col0\" class=\"data row1 col0\" >0.394</td>\n",
       "      <td id=\"T_28dd0_row1_col1\" class=\"data row1 col1\" >0.109</td>\n",
       "      <td id=\"T_28dd0_row1_col2\" class=\"data row1 col2\" >0.298</td>\n",
       "      <td id=\"T_28dd0_row1_col3\" class=\"data row1 col3\" >0.342</td>\n",
       "    </tr>\n",
       "    <tr>\n",
       "      <th id=\"T_28dd0_level0_row2\" class=\"row_heading level0 row2\" rowspan=\"2\">1</th>\n",
       "      <th id=\"T_28dd0_level1_row2\" class=\"row_heading level1 row2\" >0</th>\n",
       "      <td id=\"T_28dd0_row2_col0\" class=\"data row2 col0\" >0.413</td>\n",
       "      <td id=\"T_28dd0_row2_col1\" class=\"data row2 col1\" >0.314</td>\n",
       "      <td id=\"T_28dd0_row2_col2\" class=\"data row2 col2\" >0.331</td>\n",
       "      <td id=\"T_28dd0_row2_col3\" class=\"data row2 col3\" >0.378</td>\n",
       "    </tr>\n",
       "    <tr>\n",
       "      <th id=\"T_28dd0_level1_row3\" class=\"row_heading level1 row3\" >1</th>\n",
       "      <td id=\"T_28dd0_row3_col0\" class=\"data row3 col0\" >0.382</td>\n",
       "      <td id=\"T_28dd0_row3_col1\" class=\"data row3 col1\" >0.487</td>\n",
       "      <td id=\"T_28dd0_row3_col2\" class=\"data row3 col2\" >0.505</td>\n",
       "      <td id=\"T_28dd0_row3_col3\" class=\"data row3 col3\" >0.506</td>\n",
       "    </tr>\n",
       "  </tbody>\n",
       "</table>\n"
      ],
      "text/plain": [
       "<pandas.io.formats.style.Styler at 0x7f3b90058fa0>"
      ]
     },
     "metadata": {},
     "output_type": "display_data"
    },
    {
     "data": {
      "text/markdown": [
       "## Foursquare (weighted)"
      ],
      "text/plain": [
       "<IPython.core.display.Markdown object>"
      ]
     },
     "metadata": {},
     "output_type": "display_data"
    },
    {
     "data": {
      "text/html": [
       "<style type=\"text/css\">\n",
       "#T_ce6e4 th {\n",
       "  vertical-align: top;\n",
       "  text-align: left;\n",
       "}\n",
       "#T_ce6e4_row3_col0, #T_ce6e4_row3_col1, #T_ce6e4_row3_col2, #T_ce6e4_row3_col3 {\n",
       "  background-color: lightgreen;\n",
       "}\n",
       "</style>\n",
       "<table id=\"T_ce6e4\">\n",
       "  <thead>\n",
       "    <tr>\n",
       "      <th class=\"blank\" >&nbsp;</th>\n",
       "      <th class=\"index_name level0\" >Tree-Depth</th>\n",
       "      <th id=\"T_ce6e4_level0_col0\" class=\"col_heading level0 col0\" >-</th>\n",
       "      <th id=\"T_ce6e4_level0_col1\" class=\"col_heading level0 col1\" >1</th>\n",
       "      <th id=\"T_ce6e4_level0_col2\" class=\"col_heading level0 col2\" >2</th>\n",
       "      <th id=\"T_ce6e4_level0_col3\" class=\"col_heading level0 col3\" >3</th>\n",
       "    </tr>\n",
       "    <tr>\n",
       "      <th class=\"index_name level0\" >1vsRest</th>\n",
       "      <th class=\"index_name level1\" >balanced</th>\n",
       "      <th class=\"blank col0\" >&nbsp;</th>\n",
       "      <th class=\"blank col1\" >&nbsp;</th>\n",
       "      <th class=\"blank col2\" >&nbsp;</th>\n",
       "      <th class=\"blank col3\" >&nbsp;</th>\n",
       "    </tr>\n",
       "  </thead>\n",
       "  <tbody>\n",
       "    <tr>\n",
       "      <th id=\"T_ce6e4_level0_row0\" class=\"row_heading level0 row0\" rowspan=\"2\">0</th>\n",
       "      <th id=\"T_ce6e4_level1_row0\" class=\"row_heading level1 row0\" >0</th>\n",
       "      <td id=\"T_ce6e4_row0_col0\" class=\"data row0 col0\" >0.527</td>\n",
       "      <td id=\"T_ce6e4_row0_col1\" class=\"data row0 col1\" >0.358</td>\n",
       "      <td id=\"T_ce6e4_row0_col2\" class=\"data row0 col2\" >0.453</td>\n",
       "      <td id=\"T_ce6e4_row0_col3\" class=\"data row0 col3\" >0.540</td>\n",
       "    </tr>\n",
       "    <tr>\n",
       "      <th id=\"T_ce6e4_level1_row1\" class=\"row_heading level1 row1\" >1</th>\n",
       "      <td id=\"T_ce6e4_row1_col0\" class=\"data row1 col0\" >0.535</td>\n",
       "      <td id=\"T_ce6e4_row1_col1\" class=\"data row1 col1\" >0.128</td>\n",
       "      <td id=\"T_ce6e4_row1_col2\" class=\"data row1 col2\" >0.189</td>\n",
       "      <td id=\"T_ce6e4_row1_col3\" class=\"data row1 col3\" >0.281</td>\n",
       "    </tr>\n",
       "    <tr>\n",
       "      <th id=\"T_ce6e4_level0_row2\" class=\"row_heading level0 row2\" rowspan=\"2\">1</th>\n",
       "      <th id=\"T_ce6e4_level1_row2\" class=\"row_heading level1 row2\" >0</th>\n",
       "      <td id=\"T_ce6e4_row2_col0\" class=\"data row2 col0\" >0.513</td>\n",
       "      <td id=\"T_ce6e4_row2_col1\" class=\"data row2 col1\" >0.229</td>\n",
       "      <td id=\"T_ce6e4_row2_col2\" class=\"data row2 col2\" >0.453</td>\n",
       "      <td id=\"T_ce6e4_row2_col3\" class=\"data row2 col3\" >0.494</td>\n",
       "    </tr>\n",
       "    <tr>\n",
       "      <th id=\"T_ce6e4_level1_row3\" class=\"row_heading level1 row3\" >1</th>\n",
       "      <td id=\"T_ce6e4_row3_col0\" class=\"data row3 col0\" >0.548</td>\n",
       "      <td id=\"T_ce6e4_row3_col1\" class=\"data row3 col1\" >0.488</td>\n",
       "      <td id=\"T_ce6e4_row3_col2\" class=\"data row3 col2\" >0.563</td>\n",
       "      <td id=\"T_ce6e4_row3_col3\" class=\"data row3 col3\" >0.558</td>\n",
       "    </tr>\n",
       "  </tbody>\n",
       "</table>\n"
      ],
      "text/plain": [
       "<pandas.io.formats.style.Styler at 0x7f3c51b18670>"
      ]
     },
     "metadata": {},
     "output_type": "display_data"
    },
    {
     "data": {
      "text/markdown": [
       "## Geonames (unweighted)"
      ],
      "text/plain": [
       "<IPython.core.display.Markdown object>"
      ]
     },
     "metadata": {},
     "output_type": "display_data"
    },
    {
     "data": {
      "text/html": [
       "<style type=\"text/css\">\n",
       "#T_5e3e1 th {\n",
       "  vertical-align: top;\n",
       "  text-align: left;\n",
       "}\n",
       "#T_5e3e1_row2_col0, #T_5e3e1_row3_col1, #T_5e3e1_row3_col2, #T_5e3e1_row3_col3 {\n",
       "  background-color: lightgreen;\n",
       "}\n",
       "</style>\n",
       "<table id=\"T_5e3e1\">\n",
       "  <thead>\n",
       "    <tr>\n",
       "      <th class=\"blank\" >&nbsp;</th>\n",
       "      <th class=\"index_name level0\" >Tree-Depth</th>\n",
       "      <th id=\"T_5e3e1_level0_col0\" class=\"col_heading level0 col0\" >-</th>\n",
       "      <th id=\"T_5e3e1_level0_col1\" class=\"col_heading level0 col1\" >1</th>\n",
       "      <th id=\"T_5e3e1_level0_col2\" class=\"col_heading level0 col2\" >2</th>\n",
       "      <th id=\"T_5e3e1_level0_col3\" class=\"col_heading level0 col3\" >3</th>\n",
       "    </tr>\n",
       "    <tr>\n",
       "      <th class=\"index_name level0\" >1vsRest</th>\n",
       "      <th class=\"index_name level1\" >balanced</th>\n",
       "      <th class=\"blank col0\" >&nbsp;</th>\n",
       "      <th class=\"blank col1\" >&nbsp;</th>\n",
       "      <th class=\"blank col2\" >&nbsp;</th>\n",
       "      <th class=\"blank col3\" >&nbsp;</th>\n",
       "    </tr>\n",
       "  </thead>\n",
       "  <tbody>\n",
       "    <tr>\n",
       "      <th id=\"T_5e3e1_level0_row0\" class=\"row_heading level0 row0\" rowspan=\"2\">0</th>\n",
       "      <th id=\"T_5e3e1_level1_row0\" class=\"row_heading level1 row0\" >0</th>\n",
       "      <td id=\"T_5e3e1_row0_col0\" class=\"data row0 col0\" >-</td>\n",
       "      <td id=\"T_5e3e1_row0_col1\" class=\"data row0 col1\" >-</td>\n",
       "      <td id=\"T_5e3e1_row0_col2\" class=\"data row0 col2\" >-</td>\n",
       "      <td id=\"T_5e3e1_row0_col3\" class=\"data row0 col3\" >-</td>\n",
       "    </tr>\n",
       "    <tr>\n",
       "      <th id=\"T_5e3e1_level1_row1\" class=\"row_heading level1 row1\" >1</th>\n",
       "      <td id=\"T_5e3e1_row1_col0\" class=\"data row1 col0\" >-</td>\n",
       "      <td id=\"T_5e3e1_row1_col1\" class=\"data row1 col1\" >-</td>\n",
       "      <td id=\"T_5e3e1_row1_col2\" class=\"data row1 col2\" >-</td>\n",
       "      <td id=\"T_5e3e1_row1_col3\" class=\"data row1 col3\" >-</td>\n",
       "    </tr>\n",
       "    <tr>\n",
       "      <th id=\"T_5e3e1_level0_row2\" class=\"row_heading level0 row2\" rowspan=\"2\">1</th>\n",
       "      <th id=\"T_5e3e1_level1_row2\" class=\"row_heading level1 row2\" >0</th>\n",
       "      <td id=\"T_5e3e1_row2_col0\" class=\"data row2 col0\" >0.218</td>\n",
       "      <td id=\"T_5e3e1_row2_col1\" class=\"data row2 col1\" >0.103</td>\n",
       "      <td id=\"T_5e3e1_row2_col2\" class=\"data row2 col2\" >0.116</td>\n",
       "      <td id=\"T_5e3e1_row2_col3\" class=\"data row2 col3\" >0.152</td>\n",
       "    </tr>\n",
       "    <tr>\n",
       "      <th id=\"T_5e3e1_level1_row3\" class=\"row_heading level1 row3\" >1</th>\n",
       "      <td id=\"T_5e3e1_row3_col0\" class=\"data row3 col0\" >0.195</td>\n",
       "      <td id=\"T_5e3e1_row3_col1\" class=\"data row3 col1\" >0.284</td>\n",
       "      <td id=\"T_5e3e1_row3_col2\" class=\"data row3 col2\" >0.294</td>\n",
       "      <td id=\"T_5e3e1_row3_col3\" class=\"data row3 col3\" >0.292</td>\n",
       "    </tr>\n",
       "  </tbody>\n",
       "</table>\n"
      ],
      "text/plain": [
       "<pandas.io.formats.style.Styler at 0x7f3c51b19ea0>"
      ]
     },
     "metadata": {},
     "output_type": "display_data"
    },
    {
     "data": {
      "text/markdown": [
       "## Foursquare (unweighted)"
      ],
      "text/plain": [
       "<IPython.core.display.Markdown object>"
      ]
     },
     "metadata": {},
     "output_type": "display_data"
    },
    {
     "data": {
      "text/html": [
       "<style type=\"text/css\">\n",
       "#T_d3a44 th {\n",
       "  vertical-align: top;\n",
       "  text-align: left;\n",
       "}\n",
       "#T_d3a44_row3_col0, #T_d3a44_row3_col1, #T_d3a44_row3_col2, #T_d3a44_row3_col3 {\n",
       "  background-color: lightgreen;\n",
       "}\n",
       "</style>\n",
       "<table id=\"T_d3a44\">\n",
       "  <thead>\n",
       "    <tr>\n",
       "      <th class=\"blank\" >&nbsp;</th>\n",
       "      <th class=\"index_name level0\" >Tree-Depth</th>\n",
       "      <th id=\"T_d3a44_level0_col0\" class=\"col_heading level0 col0\" >-</th>\n",
       "      <th id=\"T_d3a44_level0_col1\" class=\"col_heading level0 col1\" >1</th>\n",
       "      <th id=\"T_d3a44_level0_col2\" class=\"col_heading level0 col2\" >2</th>\n",
       "      <th id=\"T_d3a44_level0_col3\" class=\"col_heading level0 col3\" >3</th>\n",
       "    </tr>\n",
       "    <tr>\n",
       "      <th class=\"index_name level0\" >1vsRest</th>\n",
       "      <th class=\"index_name level1\" >balanced</th>\n",
       "      <th class=\"blank col0\" >&nbsp;</th>\n",
       "      <th class=\"blank col1\" >&nbsp;</th>\n",
       "      <th class=\"blank col2\" >&nbsp;</th>\n",
       "      <th class=\"blank col3\" >&nbsp;</th>\n",
       "    </tr>\n",
       "  </thead>\n",
       "  <tbody>\n",
       "    <tr>\n",
       "      <th id=\"T_d3a44_level0_row0\" class=\"row_heading level0 row0\" rowspan=\"2\">0</th>\n",
       "      <th id=\"T_d3a44_level1_row0\" class=\"row_heading level1 row0\" >0</th>\n",
       "      <td id=\"T_d3a44_row0_col0\" class=\"data row0 col0\" >-</td>\n",
       "      <td id=\"T_d3a44_row0_col1\" class=\"data row0 col1\" >-</td>\n",
       "      <td id=\"T_d3a44_row0_col2\" class=\"data row0 col2\" >-</td>\n",
       "      <td id=\"T_d3a44_row0_col3\" class=\"data row0 col3\" >-</td>\n",
       "    </tr>\n",
       "    <tr>\n",
       "      <th id=\"T_d3a44_level1_row1\" class=\"row_heading level1 row1\" >1</th>\n",
       "      <td id=\"T_d3a44_row1_col0\" class=\"data row1 col0\" >-</td>\n",
       "      <td id=\"T_d3a44_row1_col1\" class=\"data row1 col1\" >-</td>\n",
       "      <td id=\"T_d3a44_row1_col2\" class=\"data row1 col2\" >-</td>\n",
       "      <td id=\"T_d3a44_row1_col3\" class=\"data row1 col3\" >-</td>\n",
       "    </tr>\n",
       "    <tr>\n",
       "      <th id=\"T_d3a44_level0_row2\" class=\"row_heading level0 row2\" rowspan=\"2\">1</th>\n",
       "      <th id=\"T_d3a44_level1_row2\" class=\"row_heading level1 row2\" >0</th>\n",
       "      <td id=\"T_d3a44_row2_col0\" class=\"data row2 col0\" >0.436</td>\n",
       "      <td id=\"T_d3a44_row2_col1\" class=\"data row2 col1\" >0.148</td>\n",
       "      <td id=\"T_d3a44_row2_col2\" class=\"data row2 col2\" >0.333</td>\n",
       "      <td id=\"T_d3a44_row2_col3\" class=\"data row2 col3\" >0.403</td>\n",
       "    </tr>\n",
       "    <tr>\n",
       "      <th id=\"T_d3a44_level1_row3\" class=\"row_heading level1 row3\" >1</th>\n",
       "      <td id=\"T_d3a44_row3_col0\" class=\"data row3 col0\" >0.474</td>\n",
       "      <td id=\"T_d3a44_row3_col1\" class=\"data row3 col1\" >0.419</td>\n",
       "      <td id=\"T_d3a44_row3_col2\" class=\"data row3 col2\" >0.476</td>\n",
       "      <td id=\"T_d3a44_row3_col3\" class=\"data row3 col3\" >0.481</td>\n",
       "    </tr>\n",
       "  </tbody>\n",
       "</table>\n"
      ],
      "text/plain": [
       "<pandas.io.formats.style.Styler at 0x7f3b901eb340>"
      ]
     },
     "metadata": {},
     "output_type": "display_data"
    }
   ],
   "source": [
    "# new results (weighted & unweighted) \n",
    "\n",
    "SHOW_CROSSVAL_NUM = 5\n",
    "SHOW_METRIC = \"f1\"\n",
    "\n",
    "styles = [{'selector': 'th', 'props': [('vertical-align','top'),('text-align','left')]}] #('border-style', 'solid')  #see https://stackoverflow.com/a/55904239/5122790\n",
    "styler = lambda df: df.style.apply(highlight_nonzero_max, axis=0).format('{:.3f}'.format, na_rep=\"-\").set_table_styles(styles)\n",
    "    \n",
    "for weighted in [True, False]:\n",
    "    wres = pd.DataFrame(np.array([[i[0] if weighted else i[1] for i in row] for row in res.values]), index=res.index, columns=res.columns)\n",
    "    for taxonomy in set(wres.columns.get_level_values(0)):\n",
    "        display(Markdown(f\"## {taxonomy} ({'weighted' if weighted else 'unweighted'})\"))\n",
    "        df = wres.T.xs(taxonomy).xs(SHOW_CROSSVAL_NUM)[SHOW_METRIC].unstack(level=[1])\n",
    "        df.columns = pd.Series(df.columns.fillna(0).astype(int).astype(str)).replace(\"0\", \"-\")\n",
    "        display(styler(df))"
   ]
  },
  {
   "cell_type": "code",
   "execution_count": null,
   "id": "b135556b-0092-449b-981f-8fc5062a1d8a",
   "metadata": {},
   "outputs": [],
   "source": []
  }
 ],
 "metadata": {
  "kernelspec": {
   "display_name": "Python 3 (ipykernel)",
   "language": "python",
   "name": "python3"
  },
  "language_info": {
   "codemirror_mode": {
    "name": "ipython",
    "version": 3
   },
   "file_extension": ".py",
   "mimetype": "text/x-python",
   "name": "python",
   "nbconvert_exporter": "python",
   "pygments_lexer": "ipython3",
   "version": "3.10.0"
  },
  "widgets": {
   "application/vnd.jupyter.widget-state+json": {
    "state": {
     "1bffa17707a142eca82864b02e37df82": {
      "model_module": "@jupyter-widgets/controls",
      "model_module_version": "1.5.0",
      "model_name": "DescriptionStyleModel",
      "state": {
       "description_width": ""
      }
     },
     "2ca291b24b334d7e9acfe2ea195deb41": {
      "model_module": "@jupyter-widgets/controls",
      "model_module_version": "1.5.0",
      "model_name": "DescriptionStyleModel",
      "state": {
       "description_width": ""
      }
     },
     "7365bb786c4d4a88b1837a7232528180": {
      "model_module": "@jupyter-widgets/controls",
      "model_module_version": "1.5.0",
      "model_name": "FloatProgressModel",
      "state": {
       "bar_style": "success",
       "layout": "IPY_MODEL_7b8d873d4c0745159eb0400ebc133f63",
       "max": 43,
       "style": "IPY_MODEL_c4ca0df938c5451d832d1e64bbbcc4ab",
       "value": 43
      }
     },
     "7b8d873d4c0745159eb0400ebc133f63": {
      "model_module": "@jupyter-widgets/base",
      "model_module_version": "1.2.0",
      "model_name": "LayoutModel",
      "state": {}
     },
     "802b092e729b47f4bafe0e59566f016b": {
      "model_module": "@jupyter-widgets/base",
      "model_module_version": "1.2.0",
      "model_name": "LayoutModel",
      "state": {}
     },
     "8fcfc95082854a0aa1cfe161ae4b2567": {
      "model_module": "@jupyter-widgets/base",
      "model_module_version": "1.2.0",
      "model_name": "LayoutModel",
      "state": {}
     },
     "9c27e5980f89457d89feaf3feb1e4769": {
      "model_module": "@jupyter-widgets/controls",
      "model_module_version": "1.5.0",
      "model_name": "HTMLModel",
      "state": {
       "layout": "IPY_MODEL_8fcfc95082854a0aa1cfe161ae4b2567",
       "style": "IPY_MODEL_2ca291b24b334d7e9acfe2ea195deb41",
       "value": "Getting Best-Performing Config [5 procs]: 100%"
      }
     },
     "b2c6dc45b16f4e0193c5db8450a656ee": {
      "model_module": "@jupyter-widgets/controls",
      "model_module_version": "1.5.0",
      "model_name": "HTMLModel",
      "state": {
       "layout": "IPY_MODEL_802b092e729b47f4bafe0e59566f016b",
       "style": "IPY_MODEL_1bffa17707a142eca82864b02e37df82",
       "value": " 43/43 [02:12&lt;00:00,  2.66s/it]"
      }
     },
     "c4ca0df938c5451d832d1e64bbbcc4ab": {
      "model_module": "@jupyter-widgets/controls",
      "model_module_version": "1.5.0",
      "model_name": "ProgressStyleModel",
      "state": {
       "description_width": ""
      }
     },
     "c9a2fb44accd4cb79eb9ad56bcac0089": {
      "model_module": "@jupyter-widgets/controls",
      "model_module_version": "1.5.0",
      "model_name": "HBoxModel",
      "state": {
       "children": [
        "IPY_MODEL_9c27e5980f89457d89feaf3feb1e4769",
        "IPY_MODEL_7365bb786c4d4a88b1837a7232528180",
        "IPY_MODEL_b2c6dc45b16f4e0193c5db8450a656ee"
       ],
       "layout": "IPY_MODEL_ebb89b1ff75446d09697aef0b2dcfc23"
      }
     },
     "ebb89b1ff75446d09697aef0b2dcfc23": {
      "model_module": "@jupyter-widgets/base",
      "model_module_version": "1.2.0",
      "model_name": "LayoutModel",
      "state": {}
     }
    },
    "version_major": 2,
    "version_minor": 0
   }
  }
 },
 "nbformat": 4,
 "nbformat_minor": 5
}
