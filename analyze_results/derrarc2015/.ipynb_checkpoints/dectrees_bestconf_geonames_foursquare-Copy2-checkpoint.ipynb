{
 "cells": [
  {
   "cell_type": "code",
   "execution_count": 1,
   "id": "a93fad98-f19f-4395-9fa0-3504c7a22330",
   "metadata": {},
   "outputs": [
    {
     "name": "stderr",
     "output_type": "stream",
     "text": [
      "2022-04-03 19:32:07.030764: W tensorflow/stream_executor/platform/default/dso_loader.cc:64] Could not load dynamic library 'libcudart.so.11.0'; dlerror: libcudart.so.11.0: cannot open shared object file: No such file or directory; LD_LIBRARY_PATH: /home/chris/Documents/JOBS/Uhrig-Gesture-Recog/skelshop_deps/openpose_cpu/build/src/openpose/\n",
      "2022-04-03 19:32:07.030795: I tensorflow/stream_executor/cuda/cudart_stub.cc:29] Ignore above cudart dlerror if you do not have a GPU set up on your machine.\n"
     ]
    }
   ],
   "source": [
    "import pyperclip\n",
    "import pandas as pd\n",
    "\n",
    "from misc_util.logutils import setup_logging\n",
    "from misc_util.pretty_print import Markdown, display\n",
    "\n",
    "from derive_conceptualspace.pipeline import SnakeContext, load_envfiles\n",
    "from derive_conceptualspace.util.result_analysis_tools import getfiles_allconfigs, highlight_nonzero_max, get_best_conf, df_to_latex\n",
    "from derive_conceptualspace.cli.args_from_filename import get_filename, print_envvars\n",
    "from derive_conceptualspace.evaluate.shallow_trees import classify_shallowtree_multi\n",
    "from derive_conceptualspace.util.desc_object import DescriptionList\n",
    "from derive_conceptualspace.pipeline import cluster_loader"
   ]
  },
  {
   "cell_type": "code",
   "execution_count": 2,
   "id": "2433a549-13c0-4f2e-ae22-f9061690126e",
   "metadata": {},
   "outputs": [],
   "source": [
    "setup_logging()\n",
    "load_envfiles(\"placetypes\")"
   ]
  },
  {
   "cell_type": "markdown",
   "id": "1aaafffe-72bb-4a96-b558-a9680bd4807c",
   "metadata": {},
   "source": [
    "# Find best-performing parameter-combination per Target+Depth Combination"
   ]
  },
  {
   "cell_type": "code",
   "execution_count": 3,
   "id": "a8446f6f-8483-40d7-aad8-7f7f72de86a1",
   "metadata": {
    "tags": []
   },
   "outputs": [
    {
     "data": {
      "text/markdown": [
       "### Best for: Geonames, depth 1"
      ],
      "text/plain": [
       "<IPython.core.display.Markdown object>"
      ]
     },
     "metadata": {},
     "output_type": "display_data"
    },
    {
     "data": {
      "text/markdown": [
       "<span style=\"font-size:11pt\">There are 43 different parameter-combis for dataset <span style=\"color: #0000ff\">placetypes</span>:</span>"
      ],
      "text/plain": [
       "<IPython.core.display.Markdown object>"
      ]
     },
     "metadata": {},
     "output_type": "display_data"
    },
    {
     "data": {
      "text/plain": [
       "{'dataset': 'placetypes',\n",
       " 'language': 'en',\n",
       " 'debug': 'False',\n",
       " 'pp_components': 'none',\n",
       " 'translate_policy': 'onlyorig',\n",
       " 'min_words_per_desc': '50',\n",
       " 'quantification_measure': ['ppmi', 'tfidf'],\n",
       " 'embed_algo': 'mds',\n",
       " 'embed_dimensions': ['3', '50', '200'],\n",
       " 'extraction_method': 'all',\n",
       " 'dcm_quant_measure': ['count', 'ppmi', 'tfidf'],\n",
       " 'kappa_weights': 'quadratic',\n",
       " 'classifier_succmetric': ['kappa_count2rank_onlypos',\n",
       "  'kappa_digitized_onlypos_2',\n",
       "  'kappa_rank2rank_onlypos_max',\n",
       "  'kappa_rank2rank_onlypos_min'],\n",
       " 'prim_lambda': '0.5',\n",
       " 'sec_lambda': ['0.1', '0.2'],\n",
       " 'cluster_direction_algo': 'reclassify'}"
      ]
     },
     "metadata": {},
     "output_type": "display_data"
    },
    {
     "data": {
      "application/vnd.jupyter.widget-view+json": {
       "model_id": "7d9f5066c3fe430dbc45f1356ebd56b7",
       "version_major": 2,
       "version_minor": 0
      },
      "text/plain": [
       "Getting Best-Performing Config [5 procs]:   0%|          | 0/43 [00:00<?, ?it/s]"
      ]
     },
     "metadata": {},
     "output_type": "display_data"
    },
    {
     "data": {
      "text/html": [
       "<style type=\"text/css\">\n",
       "#T_7f646 th {\n",
       "  vertical-align: top;\n",
       "  text-align: left;\n",
       "}\n",
       "#T_7f646_row3_col15 {\n",
       "  background-color: lightgreen;\n",
       "}\n",
       "</style>\n",
       "<table id=\"T_7f646\">\n",
       "  <thead>\n",
       "    <tr>\n",
       "      <th class=\"blank\" >&nbsp;</th>\n",
       "      <th class=\"blank level0\" >&nbsp;</th>\n",
       "      <th id=\"T_7f646_level0_col0\" class=\"col_heading level0 col0\" colspan=\"18\">f1</th>\n",
       "    </tr>\n",
       "    <tr>\n",
       "      <th class=\"blank\" >&nbsp;</th>\n",
       "      <th class=\"index_name level1\" >quantification_measure</th>\n",
       "      <th id=\"T_7f646_level1_col0\" class=\"col_heading level1 col0\" colspan=\"9\">ppmi</th>\n",
       "      <th id=\"T_7f646_level1_col9\" class=\"col_heading level1 col9\" colspan=\"9\">tfidf</th>\n",
       "    </tr>\n",
       "    <tr>\n",
       "      <th class=\"blank\" >&nbsp;</th>\n",
       "      <th class=\"index_name level2\" >embed_dimensions</th>\n",
       "      <th id=\"T_7f646_level2_col0\" class=\"col_heading level2 col0\" colspan=\"3\">3</th>\n",
       "      <th id=\"T_7f646_level2_col3\" class=\"col_heading level2 col3\" colspan=\"3\">50</th>\n",
       "      <th id=\"T_7f646_level2_col6\" class=\"col_heading level2 col6\" colspan=\"3\">200</th>\n",
       "      <th id=\"T_7f646_level2_col9\" class=\"col_heading level2 col9\" colspan=\"3\">3</th>\n",
       "      <th id=\"T_7f646_level2_col12\" class=\"col_heading level2 col12\" colspan=\"3\">50</th>\n",
       "      <th id=\"T_7f646_level2_col15\" class=\"col_heading level2 col15\" colspan=\"3\">200</th>\n",
       "    </tr>\n",
       "    <tr>\n",
       "      <th class=\"blank\" >&nbsp;</th>\n",
       "      <th class=\"index_name level3\" >dcm_quant_measure</th>\n",
       "      <th id=\"T_7f646_level3_col0\" class=\"col_heading level3 col0\" >count</th>\n",
       "      <th id=\"T_7f646_level3_col1\" class=\"col_heading level3 col1\" >ppmi</th>\n",
       "      <th id=\"T_7f646_level3_col2\" class=\"col_heading level3 col2\" >tfidf</th>\n",
       "      <th id=\"T_7f646_level3_col3\" class=\"col_heading level3 col3\" >count</th>\n",
       "      <th id=\"T_7f646_level3_col4\" class=\"col_heading level3 col4\" >ppmi</th>\n",
       "      <th id=\"T_7f646_level3_col5\" class=\"col_heading level3 col5\" >tfidf</th>\n",
       "      <th id=\"T_7f646_level3_col6\" class=\"col_heading level3 col6\" >count</th>\n",
       "      <th id=\"T_7f646_level3_col7\" class=\"col_heading level3 col7\" >ppmi</th>\n",
       "      <th id=\"T_7f646_level3_col8\" class=\"col_heading level3 col8\" >tfidf</th>\n",
       "      <th id=\"T_7f646_level3_col9\" class=\"col_heading level3 col9\" >count</th>\n",
       "      <th id=\"T_7f646_level3_col10\" class=\"col_heading level3 col10\" >ppmi</th>\n",
       "      <th id=\"T_7f646_level3_col11\" class=\"col_heading level3 col11\" >tfidf</th>\n",
       "      <th id=\"T_7f646_level3_col12\" class=\"col_heading level3 col12\" >count</th>\n",
       "      <th id=\"T_7f646_level3_col13\" class=\"col_heading level3 col13\" >ppmi</th>\n",
       "      <th id=\"T_7f646_level3_col14\" class=\"col_heading level3 col14\" >tfidf</th>\n",
       "      <th id=\"T_7f646_level3_col15\" class=\"col_heading level3 col15\" >count</th>\n",
       "      <th id=\"T_7f646_level3_col16\" class=\"col_heading level3 col16\" >ppmi</th>\n",
       "      <th id=\"T_7f646_level3_col17\" class=\"col_heading level3 col17\" >tfidf</th>\n",
       "    </tr>\n",
       "    <tr>\n",
       "      <th class=\"index_name level0\" >classifier_succmetric</th>\n",
       "      <th class=\"index_name level1\" >sec_lambda</th>\n",
       "      <th class=\"blank col0\" >&nbsp;</th>\n",
       "      <th class=\"blank col1\" >&nbsp;</th>\n",
       "      <th class=\"blank col2\" >&nbsp;</th>\n",
       "      <th class=\"blank col3\" >&nbsp;</th>\n",
       "      <th class=\"blank col4\" >&nbsp;</th>\n",
       "      <th class=\"blank col5\" >&nbsp;</th>\n",
       "      <th class=\"blank col6\" >&nbsp;</th>\n",
       "      <th class=\"blank col7\" >&nbsp;</th>\n",
       "      <th class=\"blank col8\" >&nbsp;</th>\n",
       "      <th class=\"blank col9\" >&nbsp;</th>\n",
       "      <th class=\"blank col10\" >&nbsp;</th>\n",
       "      <th class=\"blank col11\" >&nbsp;</th>\n",
       "      <th class=\"blank col12\" >&nbsp;</th>\n",
       "      <th class=\"blank col13\" >&nbsp;</th>\n",
       "      <th class=\"blank col14\" >&nbsp;</th>\n",
       "      <th class=\"blank col15\" >&nbsp;</th>\n",
       "      <th class=\"blank col16\" >&nbsp;</th>\n",
       "      <th class=\"blank col17\" >&nbsp;</th>\n",
       "    </tr>\n",
       "  </thead>\n",
       "  <tbody>\n",
       "    <tr>\n",
       "      <th id=\"T_7f646_level0_row0\" class=\"row_heading level0 row0\" >kappa_count2rank_onlypos</th>\n",
       "      <th id=\"T_7f646_level1_row0\" class=\"row_heading level1 row0\" >0.200000</th>\n",
       "      <td id=\"T_7f646_row0_col0\" class=\"data row0 col0\" >0.375</td>\n",
       "      <td id=\"T_7f646_row0_col1\" class=\"data row0 col1\" >-</td>\n",
       "      <td id=\"T_7f646_row0_col2\" class=\"data row0 col2\" >-</td>\n",
       "      <td id=\"T_7f646_row0_col3\" class=\"data row0 col3\" >0.326</td>\n",
       "      <td id=\"T_7f646_row0_col4\" class=\"data row0 col4\" >-</td>\n",
       "      <td id=\"T_7f646_row0_col5\" class=\"data row0 col5\" >-</td>\n",
       "      <td id=\"T_7f646_row0_col6\" class=\"data row0 col6\" >0.402</td>\n",
       "      <td id=\"T_7f646_row0_col7\" class=\"data row0 col7\" >-</td>\n",
       "      <td id=\"T_7f646_row0_col8\" class=\"data row0 col8\" >-</td>\n",
       "      <td id=\"T_7f646_row0_col9\" class=\"data row0 col9\" >0.487</td>\n",
       "      <td id=\"T_7f646_row0_col10\" class=\"data row0 col10\" >-</td>\n",
       "      <td id=\"T_7f646_row0_col11\" class=\"data row0 col11\" >-</td>\n",
       "      <td id=\"T_7f646_row0_col12\" class=\"data row0 col12\" >0.427</td>\n",
       "      <td id=\"T_7f646_row0_col13\" class=\"data row0 col13\" >-</td>\n",
       "      <td id=\"T_7f646_row0_col14\" class=\"data row0 col14\" >-</td>\n",
       "      <td id=\"T_7f646_row0_col15\" class=\"data row0 col15\" >0.417</td>\n",
       "      <td id=\"T_7f646_row0_col16\" class=\"data row0 col16\" >-</td>\n",
       "      <td id=\"T_7f646_row0_col17\" class=\"data row0 col17\" >-</td>\n",
       "    </tr>\n",
       "    <tr>\n",
       "      <th id=\"T_7f646_level0_row1\" class=\"row_heading level0 row1\" >kappa_digitized_onlypos_2</th>\n",
       "      <th id=\"T_7f646_level1_row1\" class=\"row_heading level1 row1\" >0.200000</th>\n",
       "      <td id=\"T_7f646_row1_col0\" class=\"data row1 col0\" >0.260</td>\n",
       "      <td id=\"T_7f646_row1_col1\" class=\"data row1 col1\" >0.360</td>\n",
       "      <td id=\"T_7f646_row1_col2\" class=\"data row1 col2\" >0.202</td>\n",
       "      <td id=\"T_7f646_row1_col3\" class=\"data row1 col3\" >0.164</td>\n",
       "      <td id=\"T_7f646_row1_col4\" class=\"data row1 col4\" >0.250</td>\n",
       "      <td id=\"T_7f646_row1_col5\" class=\"data row1 col5\" >0.377</td>\n",
       "      <td id=\"T_7f646_row1_col6\" class=\"data row1 col6\" >0.365</td>\n",
       "      <td id=\"T_7f646_row1_col7\" class=\"data row1 col7\" >0.241</td>\n",
       "      <td id=\"T_7f646_row1_col8\" class=\"data row1 col8\" >0.391</td>\n",
       "      <td id=\"T_7f646_row1_col9\" class=\"data row1 col9\" >0.351</td>\n",
       "      <td id=\"T_7f646_row1_col10\" class=\"data row1 col10\" >0.460</td>\n",
       "      <td id=\"T_7f646_row1_col11\" class=\"data row1 col11\" >0.282</td>\n",
       "      <td id=\"T_7f646_row1_col12\" class=\"data row1 col12\" >0.347</td>\n",
       "      <td id=\"T_7f646_row1_col13\" class=\"data row1 col13\" >0.380</td>\n",
       "      <td id=\"T_7f646_row1_col14\" class=\"data row1 col14\" >0.396</td>\n",
       "      <td id=\"T_7f646_row1_col15\" class=\"data row1 col15\" >0.495</td>\n",
       "      <td id=\"T_7f646_row1_col16\" class=\"data row1 col16\" >0.307</td>\n",
       "      <td id=\"T_7f646_row1_col17\" class=\"data row1 col17\" >0.364</td>\n",
       "    </tr>\n",
       "    <tr>\n",
       "      <th id=\"T_7f646_level0_row2\" class=\"row_heading level0 row2\" >kappa_rank2rank_onlypos_max</th>\n",
       "      <th id=\"T_7f646_level1_row2\" class=\"row_heading level1 row2\" >0.100000</th>\n",
       "      <td id=\"T_7f646_row2_col0\" class=\"data row2 col0\" >-</td>\n",
       "      <td id=\"T_7f646_row2_col1\" class=\"data row2 col1\" >-</td>\n",
       "      <td id=\"T_7f646_row2_col2\" class=\"data row2 col2\" >-</td>\n",
       "      <td id=\"T_7f646_row2_col3\" class=\"data row2 col3\" >0.358</td>\n",
       "      <td id=\"T_7f646_row2_col4\" class=\"data row2 col4\" >-</td>\n",
       "      <td id=\"T_7f646_row2_col5\" class=\"data row2 col5\" >-</td>\n",
       "      <td id=\"T_7f646_row2_col6\" class=\"data row2 col6\" >-</td>\n",
       "      <td id=\"T_7f646_row2_col7\" class=\"data row2 col7\" >-</td>\n",
       "      <td id=\"T_7f646_row2_col8\" class=\"data row2 col8\" >-</td>\n",
       "      <td id=\"T_7f646_row2_col9\" class=\"data row2 col9\" >-</td>\n",
       "      <td id=\"T_7f646_row2_col10\" class=\"data row2 col10\" >-</td>\n",
       "      <td id=\"T_7f646_row2_col11\" class=\"data row2 col11\" >-</td>\n",
       "      <td id=\"T_7f646_row2_col12\" class=\"data row2 col12\" >-</td>\n",
       "      <td id=\"T_7f646_row2_col13\" class=\"data row2 col13\" >-</td>\n",
       "      <td id=\"T_7f646_row2_col14\" class=\"data row2 col14\" >-</td>\n",
       "      <td id=\"T_7f646_row2_col15\" class=\"data row2 col15\" >-</td>\n",
       "      <td id=\"T_7f646_row2_col16\" class=\"data row2 col16\" >-</td>\n",
       "      <td id=\"T_7f646_row2_col17\" class=\"data row2 col17\" >-</td>\n",
       "    </tr>\n",
       "    <tr>\n",
       "      <th id=\"T_7f646_level0_row3\" class=\"row_heading level0 row3\" >kappa_rank2rank_onlypos_min</th>\n",
       "      <th id=\"T_7f646_level1_row3\" class=\"row_heading level1 row3\" >0.200000</th>\n",
       "      <td id=\"T_7f646_row3_col0\" class=\"data row3 col0\" >0.299</td>\n",
       "      <td id=\"T_7f646_row3_col1\" class=\"data row3 col1\" >0.465</td>\n",
       "      <td id=\"T_7f646_row3_col2\" class=\"data row3 col2\" >0.389</td>\n",
       "      <td id=\"T_7f646_row3_col3\" class=\"data row3 col3\" >0.349</td>\n",
       "      <td id=\"T_7f646_row3_col4\" class=\"data row3 col4\" >0.325</td>\n",
       "      <td id=\"T_7f646_row3_col5\" class=\"data row3 col5\" >0.425</td>\n",
       "      <td id=\"T_7f646_row3_col6\" class=\"data row3 col6\" >0.369</td>\n",
       "      <td id=\"T_7f646_row3_col7\" class=\"data row3 col7\" >0.331</td>\n",
       "      <td id=\"T_7f646_row3_col8\" class=\"data row3 col8\" >0.419</td>\n",
       "      <td id=\"T_7f646_row3_col9\" class=\"data row3 col9\" >0.497</td>\n",
       "      <td id=\"T_7f646_row3_col10\" class=\"data row3 col10\" >0.495</td>\n",
       "      <td id=\"T_7f646_row3_col11\" class=\"data row3 col11\" >0.454</td>\n",
       "      <td id=\"T_7f646_row3_col12\" class=\"data row3 col12\" >0.428</td>\n",
       "      <td id=\"T_7f646_row3_col13\" class=\"data row3 col13\" >0.427</td>\n",
       "      <td id=\"T_7f646_row3_col14\" class=\"data row3 col14\" >0.483</td>\n",
       "      <td id=\"T_7f646_row3_col15\" class=\"data row3 col15\" >0.505</td>\n",
       "      <td id=\"T_7f646_row3_col16\" class=\"data row3 col16\" >0.420</td>\n",
       "      <td id=\"T_7f646_row3_col17\" class=\"data row3 col17\" >0.370</td>\n",
       "    </tr>\n",
       "  </tbody>\n",
       "</table>\n"
      ],
      "text/plain": [
       "<pandas.io.formats.style.Styler at 0x7f8841e56ce0>"
      ]
     },
     "metadata": {},
     "output_type": "display_data"
    },
    {
     "name": "stdout",
     "output_type": "stream",
     "text": [
      "Best f1: 0.5045\n",
      "MA_DATASET=placetypes;MA_LANGUAGE=en;MA_DEBUG=False;MA_PP_COMPONENTS=none;MA_TRANSLATE_POLICY=onlyorig;MA_MIN_WORDS_PER_DESC=50;MA_QUANTIFICATION_MEASURE=tfidf;MA_EMBED_ALGO=mds;MA_EMBED_DIMENSIONS=200;MA_EXTRACTION_METHOD=all;MA_DCM_QUANT_MEASURE=count;MA_KAPPA_WEIGHTS=quadratic;MA_CLASSIFIER_SUCCMETRIC=kappa_rank2rank_onlypos_min;MA_PRIM_LAMBDA=0.5;MA_SEC_LAMBDA=0.2;MA_CLUSTER_DIRECTION_ALGO=reclassify\n",
      "cluster_reprs\n"
     ]
    },
    {
     "data": {
      "text/markdown": [
       "Best f1: **0.5045** <br><br> "
      ],
      "text/plain": [
       "<IPython.core.display.Markdown object>"
      ]
     },
     "metadata": {},
     "output_type": "display_data"
    },
    {
     "data": {
      "text/markdown": [
       "### Best for: Geonames, depth 3"
      ],
      "text/plain": [
       "<IPython.core.display.Markdown object>"
      ]
     },
     "metadata": {},
     "output_type": "display_data"
    },
    {
     "data": {
      "application/vnd.jupyter.widget-view+json": {
       "model_id": "890985e5f78740da8a65774089adc849",
       "version_major": 2,
       "version_minor": 0
      },
      "text/plain": [
       "Getting Best-Performing Config [5 procs]:   0%|          | 0/43 [00:00<?, ?it/s]"
      ]
     },
     "metadata": {},
     "output_type": "display_data"
    },
    {
     "data": {
      "text/html": [
       "<style type=\"text/css\">\n",
       "#T_0c196 th {\n",
       "  vertical-align: top;\n",
       "  text-align: left;\n",
       "}\n",
       "#T_0c196_row3_col10 {\n",
       "  background-color: lightgreen;\n",
       "}\n",
       "</style>\n",
       "<table id=\"T_0c196\">\n",
       "  <thead>\n",
       "    <tr>\n",
       "      <th class=\"blank\" >&nbsp;</th>\n",
       "      <th class=\"blank level0\" >&nbsp;</th>\n",
       "      <th id=\"T_0c196_level0_col0\" class=\"col_heading level0 col0\" colspan=\"18\">f1</th>\n",
       "    </tr>\n",
       "    <tr>\n",
       "      <th class=\"blank\" >&nbsp;</th>\n",
       "      <th class=\"index_name level1\" >quantification_measure</th>\n",
       "      <th id=\"T_0c196_level1_col0\" class=\"col_heading level1 col0\" colspan=\"9\">ppmi</th>\n",
       "      <th id=\"T_0c196_level1_col9\" class=\"col_heading level1 col9\" colspan=\"9\">tfidf</th>\n",
       "    </tr>\n",
       "    <tr>\n",
       "      <th class=\"blank\" >&nbsp;</th>\n",
       "      <th class=\"index_name level2\" >embed_dimensions</th>\n",
       "      <th id=\"T_0c196_level2_col0\" class=\"col_heading level2 col0\" colspan=\"3\">3</th>\n",
       "      <th id=\"T_0c196_level2_col3\" class=\"col_heading level2 col3\" colspan=\"3\">50</th>\n",
       "      <th id=\"T_0c196_level2_col6\" class=\"col_heading level2 col6\" colspan=\"3\">200</th>\n",
       "      <th id=\"T_0c196_level2_col9\" class=\"col_heading level2 col9\" colspan=\"3\">3</th>\n",
       "      <th id=\"T_0c196_level2_col12\" class=\"col_heading level2 col12\" colspan=\"3\">50</th>\n",
       "      <th id=\"T_0c196_level2_col15\" class=\"col_heading level2 col15\" colspan=\"3\">200</th>\n",
       "    </tr>\n",
       "    <tr>\n",
       "      <th class=\"blank\" >&nbsp;</th>\n",
       "      <th class=\"index_name level3\" >dcm_quant_measure</th>\n",
       "      <th id=\"T_0c196_level3_col0\" class=\"col_heading level3 col0\" >count</th>\n",
       "      <th id=\"T_0c196_level3_col1\" class=\"col_heading level3 col1\" >ppmi</th>\n",
       "      <th id=\"T_0c196_level3_col2\" class=\"col_heading level3 col2\" >tfidf</th>\n",
       "      <th id=\"T_0c196_level3_col3\" class=\"col_heading level3 col3\" >count</th>\n",
       "      <th id=\"T_0c196_level3_col4\" class=\"col_heading level3 col4\" >ppmi</th>\n",
       "      <th id=\"T_0c196_level3_col5\" class=\"col_heading level3 col5\" >tfidf</th>\n",
       "      <th id=\"T_0c196_level3_col6\" class=\"col_heading level3 col6\" >count</th>\n",
       "      <th id=\"T_0c196_level3_col7\" class=\"col_heading level3 col7\" >ppmi</th>\n",
       "      <th id=\"T_0c196_level3_col8\" class=\"col_heading level3 col8\" >tfidf</th>\n",
       "      <th id=\"T_0c196_level3_col9\" class=\"col_heading level3 col9\" >count</th>\n",
       "      <th id=\"T_0c196_level3_col10\" class=\"col_heading level3 col10\" >ppmi</th>\n",
       "      <th id=\"T_0c196_level3_col11\" class=\"col_heading level3 col11\" >tfidf</th>\n",
       "      <th id=\"T_0c196_level3_col12\" class=\"col_heading level3 col12\" >count</th>\n",
       "      <th id=\"T_0c196_level3_col13\" class=\"col_heading level3 col13\" >ppmi</th>\n",
       "      <th id=\"T_0c196_level3_col14\" class=\"col_heading level3 col14\" >tfidf</th>\n",
       "      <th id=\"T_0c196_level3_col15\" class=\"col_heading level3 col15\" >count</th>\n",
       "      <th id=\"T_0c196_level3_col16\" class=\"col_heading level3 col16\" >ppmi</th>\n",
       "      <th id=\"T_0c196_level3_col17\" class=\"col_heading level3 col17\" >tfidf</th>\n",
       "    </tr>\n",
       "    <tr>\n",
       "      <th class=\"index_name level0\" >classifier_succmetric</th>\n",
       "      <th class=\"index_name level1\" >sec_lambda</th>\n",
       "      <th class=\"blank col0\" >&nbsp;</th>\n",
       "      <th class=\"blank col1\" >&nbsp;</th>\n",
       "      <th class=\"blank col2\" >&nbsp;</th>\n",
       "      <th class=\"blank col3\" >&nbsp;</th>\n",
       "      <th class=\"blank col4\" >&nbsp;</th>\n",
       "      <th class=\"blank col5\" >&nbsp;</th>\n",
       "      <th class=\"blank col6\" >&nbsp;</th>\n",
       "      <th class=\"blank col7\" >&nbsp;</th>\n",
       "      <th class=\"blank col8\" >&nbsp;</th>\n",
       "      <th class=\"blank col9\" >&nbsp;</th>\n",
       "      <th class=\"blank col10\" >&nbsp;</th>\n",
       "      <th class=\"blank col11\" >&nbsp;</th>\n",
       "      <th class=\"blank col12\" >&nbsp;</th>\n",
       "      <th class=\"blank col13\" >&nbsp;</th>\n",
       "      <th class=\"blank col14\" >&nbsp;</th>\n",
       "      <th class=\"blank col15\" >&nbsp;</th>\n",
       "      <th class=\"blank col16\" >&nbsp;</th>\n",
       "      <th class=\"blank col17\" >&nbsp;</th>\n",
       "    </tr>\n",
       "  </thead>\n",
       "  <tbody>\n",
       "    <tr>\n",
       "      <th id=\"T_0c196_level0_row0\" class=\"row_heading level0 row0\" >kappa_count2rank_onlypos</th>\n",
       "      <th id=\"T_0c196_level1_row0\" class=\"row_heading level1 row0\" >0.200000</th>\n",
       "      <td id=\"T_0c196_row0_col0\" class=\"data row0 col0\" >0.438</td>\n",
       "      <td id=\"T_0c196_row0_col1\" class=\"data row0 col1\" >-</td>\n",
       "      <td id=\"T_0c196_row0_col2\" class=\"data row0 col2\" >-</td>\n",
       "      <td id=\"T_0c196_row0_col3\" class=\"data row0 col3\" >0.406</td>\n",
       "      <td id=\"T_0c196_row0_col4\" class=\"data row0 col4\" >-</td>\n",
       "      <td id=\"T_0c196_row0_col5\" class=\"data row0 col5\" >-</td>\n",
       "      <td id=\"T_0c196_row0_col6\" class=\"data row0 col6\" >0.445</td>\n",
       "      <td id=\"T_0c196_row0_col7\" class=\"data row0 col7\" >-</td>\n",
       "      <td id=\"T_0c196_row0_col8\" class=\"data row0 col8\" >-</td>\n",
       "      <td id=\"T_0c196_row0_col9\" class=\"data row0 col9\" >0.487</td>\n",
       "      <td id=\"T_0c196_row0_col10\" class=\"data row0 col10\" >-</td>\n",
       "      <td id=\"T_0c196_row0_col11\" class=\"data row0 col11\" >-</td>\n",
       "      <td id=\"T_0c196_row0_col12\" class=\"data row0 col12\" >0.464</td>\n",
       "      <td id=\"T_0c196_row0_col13\" class=\"data row0 col13\" >-</td>\n",
       "      <td id=\"T_0c196_row0_col14\" class=\"data row0 col14\" >-</td>\n",
       "      <td id=\"T_0c196_row0_col15\" class=\"data row0 col15\" >0.390</td>\n",
       "      <td id=\"T_0c196_row0_col16\" class=\"data row0 col16\" >-</td>\n",
       "      <td id=\"T_0c196_row0_col17\" class=\"data row0 col17\" >-</td>\n",
       "    </tr>\n",
       "    <tr>\n",
       "      <th id=\"T_0c196_level0_row1\" class=\"row_heading level0 row1\" >kappa_digitized_onlypos_2</th>\n",
       "      <th id=\"T_0c196_level1_row1\" class=\"row_heading level1 row1\" >0.200000</th>\n",
       "      <td id=\"T_0c196_row1_col0\" class=\"data row1 col0\" >0.352</td>\n",
       "      <td id=\"T_0c196_row1_col1\" class=\"data row1 col1\" >0.378</td>\n",
       "      <td id=\"T_0c196_row1_col2\" class=\"data row1 col2\" >0.352</td>\n",
       "      <td id=\"T_0c196_row1_col3\" class=\"data row1 col3\" >0.217</td>\n",
       "      <td id=\"T_0c196_row1_col4\" class=\"data row1 col4\" >0.373</td>\n",
       "      <td id=\"T_0c196_row1_col5\" class=\"data row1 col5\" >0.339</td>\n",
       "      <td id=\"T_0c196_row1_col6\" class=\"data row1 col6\" >0.440</td>\n",
       "      <td id=\"T_0c196_row1_col7\" class=\"data row1 col7\" >0.449</td>\n",
       "      <td id=\"T_0c196_row1_col8\" class=\"data row1 col8\" >0.423</td>\n",
       "      <td id=\"T_0c196_row1_col9\" class=\"data row1 col9\" >0.358</td>\n",
       "      <td id=\"T_0c196_row1_col10\" class=\"data row1 col10\" >0.510</td>\n",
       "      <td id=\"T_0c196_row1_col11\" class=\"data row1 col11\" >0.215</td>\n",
       "      <td id=\"T_0c196_row1_col12\" class=\"data row1 col12\" >0.381</td>\n",
       "      <td id=\"T_0c196_row1_col13\" class=\"data row1 col13\" >0.401</td>\n",
       "      <td id=\"T_0c196_row1_col14\" class=\"data row1 col14\" >0.318</td>\n",
       "      <td id=\"T_0c196_row1_col15\" class=\"data row1 col15\" >0.410</td>\n",
       "      <td id=\"T_0c196_row1_col16\" class=\"data row1 col16\" >0.468</td>\n",
       "      <td id=\"T_0c196_row1_col17\" class=\"data row1 col17\" >0.415</td>\n",
       "    </tr>\n",
       "    <tr>\n",
       "      <th id=\"T_0c196_level0_row2\" class=\"row_heading level0 row2\" >kappa_rank2rank_onlypos_max</th>\n",
       "      <th id=\"T_0c196_level1_row2\" class=\"row_heading level1 row2\" >0.100000</th>\n",
       "      <td id=\"T_0c196_row2_col0\" class=\"data row2 col0\" >-</td>\n",
       "      <td id=\"T_0c196_row2_col1\" class=\"data row2 col1\" >-</td>\n",
       "      <td id=\"T_0c196_row2_col2\" class=\"data row2 col2\" >-</td>\n",
       "      <td id=\"T_0c196_row2_col3\" class=\"data row2 col3\" >0.405</td>\n",
       "      <td id=\"T_0c196_row2_col4\" class=\"data row2 col4\" >-</td>\n",
       "      <td id=\"T_0c196_row2_col5\" class=\"data row2 col5\" >-</td>\n",
       "      <td id=\"T_0c196_row2_col6\" class=\"data row2 col6\" >-</td>\n",
       "      <td id=\"T_0c196_row2_col7\" class=\"data row2 col7\" >-</td>\n",
       "      <td id=\"T_0c196_row2_col8\" class=\"data row2 col8\" >-</td>\n",
       "      <td id=\"T_0c196_row2_col9\" class=\"data row2 col9\" >-</td>\n",
       "      <td id=\"T_0c196_row2_col10\" class=\"data row2 col10\" >-</td>\n",
       "      <td id=\"T_0c196_row2_col11\" class=\"data row2 col11\" >-</td>\n",
       "      <td id=\"T_0c196_row2_col12\" class=\"data row2 col12\" >-</td>\n",
       "      <td id=\"T_0c196_row2_col13\" class=\"data row2 col13\" >-</td>\n",
       "      <td id=\"T_0c196_row2_col14\" class=\"data row2 col14\" >-</td>\n",
       "      <td id=\"T_0c196_row2_col15\" class=\"data row2 col15\" >-</td>\n",
       "      <td id=\"T_0c196_row2_col16\" class=\"data row2 col16\" >-</td>\n",
       "      <td id=\"T_0c196_row2_col17\" class=\"data row2 col17\" >-</td>\n",
       "    </tr>\n",
       "    <tr>\n",
       "      <th id=\"T_0c196_level0_row3\" class=\"row_heading level0 row3\" >kappa_rank2rank_onlypos_min</th>\n",
       "      <th id=\"T_0c196_level1_row3\" class=\"row_heading level1 row3\" >0.200000</th>\n",
       "      <td id=\"T_0c196_row3_col0\" class=\"data row3 col0\" >0.375</td>\n",
       "      <td id=\"T_0c196_row3_col1\" class=\"data row3 col1\" >0.458</td>\n",
       "      <td id=\"T_0c196_row3_col2\" class=\"data row3 col2\" >0.392</td>\n",
       "      <td id=\"T_0c196_row3_col3\" class=\"data row3 col3\" >0.370</td>\n",
       "      <td id=\"T_0c196_row3_col4\" class=\"data row3 col4\" >0.314</td>\n",
       "      <td id=\"T_0c196_row3_col5\" class=\"data row3 col5\" >0.422</td>\n",
       "      <td id=\"T_0c196_row3_col6\" class=\"data row3 col6\" >0.409</td>\n",
       "      <td id=\"T_0c196_row3_col7\" class=\"data row3 col7\" >0.338</td>\n",
       "      <td id=\"T_0c196_row3_col8\" class=\"data row3 col8\" >0.366</td>\n",
       "      <td id=\"T_0c196_row3_col9\" class=\"data row3 col9\" >0.470</td>\n",
       "      <td id=\"T_0c196_row3_col10\" class=\"data row3 col10\" >0.539</td>\n",
       "      <td id=\"T_0c196_row3_col11\" class=\"data row3 col11\" >0.473</td>\n",
       "      <td id=\"T_0c196_row3_col12\" class=\"data row3 col12\" >0.465</td>\n",
       "      <td id=\"T_0c196_row3_col13\" class=\"data row3 col13\" >0.503</td>\n",
       "      <td id=\"T_0c196_row3_col14\" class=\"data row3 col14\" >0.485</td>\n",
       "      <td id=\"T_0c196_row3_col15\" class=\"data row3 col15\" >0.476</td>\n",
       "      <td id=\"T_0c196_row3_col16\" class=\"data row3 col16\" >0.406</td>\n",
       "      <td id=\"T_0c196_row3_col17\" class=\"data row3 col17\" >0.439</td>\n",
       "    </tr>\n",
       "  </tbody>\n",
       "</table>\n"
      ],
      "text/plain": [
       "<pandas.io.formats.style.Styler at 0x7f8841e56230>"
      ]
     },
     "metadata": {},
     "output_type": "display_data"
    },
    {
     "name": "stdout",
     "output_type": "stream",
     "text": [
      "Best f1: 0.5389\n",
      "MA_DATASET=placetypes;MA_LANGUAGE=en;MA_DEBUG=False;MA_PP_COMPONENTS=none;MA_TRANSLATE_POLICY=onlyorig;MA_MIN_WORDS_PER_DESC=50;MA_QUANTIFICATION_MEASURE=tfidf;MA_EMBED_ALGO=mds;MA_EMBED_DIMENSIONS=3;MA_EXTRACTION_METHOD=all;MA_DCM_QUANT_MEASURE=ppmi;MA_KAPPA_WEIGHTS=quadratic;MA_CLASSIFIER_SUCCMETRIC=kappa_rank2rank_onlypos_min;MA_PRIM_LAMBDA=0.5;MA_SEC_LAMBDA=0.2;MA_CLUSTER_DIRECTION_ALGO=reclassify\n",
      "cluster_reprs\n"
     ]
    },
    {
     "data": {
      "text/markdown": [
       "Best f1: **0.5389** <br><br> "
      ],
      "text/plain": [
       "<IPython.core.display.Markdown object>"
      ]
     },
     "metadata": {},
     "output_type": "display_data"
    },
    {
     "data": {
      "text/markdown": [
       "### Best for: Geonames, depth None"
      ],
      "text/plain": [
       "<IPython.core.display.Markdown object>"
      ]
     },
     "metadata": {},
     "output_type": "display_data"
    },
    {
     "data": {
      "application/vnd.jupyter.widget-view+json": {
       "model_id": "db051b8120c540b39ba972b7ac936bd2",
       "version_major": 2,
       "version_minor": 0
      },
      "text/plain": [
       "Getting Best-Performing Config [5 procs]:   0%|          | 0/43 [00:00<?, ?it/s]"
      ]
     },
     "metadata": {},
     "output_type": "display_data"
    },
    {
     "data": {
      "text/html": [
       "<style type=\"text/css\">\n",
       "#T_92455 th {\n",
       "  vertical-align: top;\n",
       "  text-align: left;\n",
       "}\n",
       "#T_92455_row3_col10 {\n",
       "  background-color: lightgreen;\n",
       "}\n",
       "</style>\n",
       "<table id=\"T_92455\">\n",
       "  <thead>\n",
       "    <tr>\n",
       "      <th class=\"blank\" >&nbsp;</th>\n",
       "      <th class=\"blank level0\" >&nbsp;</th>\n",
       "      <th id=\"T_92455_level0_col0\" class=\"col_heading level0 col0\" colspan=\"18\">f1</th>\n",
       "    </tr>\n",
       "    <tr>\n",
       "      <th class=\"blank\" >&nbsp;</th>\n",
       "      <th class=\"index_name level1\" >quantification_measure</th>\n",
       "      <th id=\"T_92455_level1_col0\" class=\"col_heading level1 col0\" colspan=\"9\">ppmi</th>\n",
       "      <th id=\"T_92455_level1_col9\" class=\"col_heading level1 col9\" colspan=\"9\">tfidf</th>\n",
       "    </tr>\n",
       "    <tr>\n",
       "      <th class=\"blank\" >&nbsp;</th>\n",
       "      <th class=\"index_name level2\" >embed_dimensions</th>\n",
       "      <th id=\"T_92455_level2_col0\" class=\"col_heading level2 col0\" colspan=\"3\">3</th>\n",
       "      <th id=\"T_92455_level2_col3\" class=\"col_heading level2 col3\" colspan=\"3\">50</th>\n",
       "      <th id=\"T_92455_level2_col6\" class=\"col_heading level2 col6\" colspan=\"3\">200</th>\n",
       "      <th id=\"T_92455_level2_col9\" class=\"col_heading level2 col9\" colspan=\"3\">3</th>\n",
       "      <th id=\"T_92455_level2_col12\" class=\"col_heading level2 col12\" colspan=\"3\">50</th>\n",
       "      <th id=\"T_92455_level2_col15\" class=\"col_heading level2 col15\" colspan=\"3\">200</th>\n",
       "    </tr>\n",
       "    <tr>\n",
       "      <th class=\"blank\" >&nbsp;</th>\n",
       "      <th class=\"index_name level3\" >dcm_quant_measure</th>\n",
       "      <th id=\"T_92455_level3_col0\" class=\"col_heading level3 col0\" >count</th>\n",
       "      <th id=\"T_92455_level3_col1\" class=\"col_heading level3 col1\" >ppmi</th>\n",
       "      <th id=\"T_92455_level3_col2\" class=\"col_heading level3 col2\" >tfidf</th>\n",
       "      <th id=\"T_92455_level3_col3\" class=\"col_heading level3 col3\" >count</th>\n",
       "      <th id=\"T_92455_level3_col4\" class=\"col_heading level3 col4\" >ppmi</th>\n",
       "      <th id=\"T_92455_level3_col5\" class=\"col_heading level3 col5\" >tfidf</th>\n",
       "      <th id=\"T_92455_level3_col6\" class=\"col_heading level3 col6\" >count</th>\n",
       "      <th id=\"T_92455_level3_col7\" class=\"col_heading level3 col7\" >ppmi</th>\n",
       "      <th id=\"T_92455_level3_col8\" class=\"col_heading level3 col8\" >tfidf</th>\n",
       "      <th id=\"T_92455_level3_col9\" class=\"col_heading level3 col9\" >count</th>\n",
       "      <th id=\"T_92455_level3_col10\" class=\"col_heading level3 col10\" >ppmi</th>\n",
       "      <th id=\"T_92455_level3_col11\" class=\"col_heading level3 col11\" >tfidf</th>\n",
       "      <th id=\"T_92455_level3_col12\" class=\"col_heading level3 col12\" >count</th>\n",
       "      <th id=\"T_92455_level3_col13\" class=\"col_heading level3 col13\" >ppmi</th>\n",
       "      <th id=\"T_92455_level3_col14\" class=\"col_heading level3 col14\" >tfidf</th>\n",
       "      <th id=\"T_92455_level3_col15\" class=\"col_heading level3 col15\" >count</th>\n",
       "      <th id=\"T_92455_level3_col16\" class=\"col_heading level3 col16\" >ppmi</th>\n",
       "      <th id=\"T_92455_level3_col17\" class=\"col_heading level3 col17\" >tfidf</th>\n",
       "    </tr>\n",
       "    <tr>\n",
       "      <th class=\"index_name level0\" >classifier_succmetric</th>\n",
       "      <th class=\"index_name level1\" >sec_lambda</th>\n",
       "      <th class=\"blank col0\" >&nbsp;</th>\n",
       "      <th class=\"blank col1\" >&nbsp;</th>\n",
       "      <th class=\"blank col2\" >&nbsp;</th>\n",
       "      <th class=\"blank col3\" >&nbsp;</th>\n",
       "      <th class=\"blank col4\" >&nbsp;</th>\n",
       "      <th class=\"blank col5\" >&nbsp;</th>\n",
       "      <th class=\"blank col6\" >&nbsp;</th>\n",
       "      <th class=\"blank col7\" >&nbsp;</th>\n",
       "      <th class=\"blank col8\" >&nbsp;</th>\n",
       "      <th class=\"blank col9\" >&nbsp;</th>\n",
       "      <th class=\"blank col10\" >&nbsp;</th>\n",
       "      <th class=\"blank col11\" >&nbsp;</th>\n",
       "      <th class=\"blank col12\" >&nbsp;</th>\n",
       "      <th class=\"blank col13\" >&nbsp;</th>\n",
       "      <th class=\"blank col14\" >&nbsp;</th>\n",
       "      <th class=\"blank col15\" >&nbsp;</th>\n",
       "      <th class=\"blank col16\" >&nbsp;</th>\n",
       "      <th class=\"blank col17\" >&nbsp;</th>\n",
       "    </tr>\n",
       "  </thead>\n",
       "  <tbody>\n",
       "    <tr>\n",
       "      <th id=\"T_92455_level0_row0\" class=\"row_heading level0 row0\" >kappa_count2rank_onlypos</th>\n",
       "      <th id=\"T_92455_level1_row0\" class=\"row_heading level1 row0\" >0.200000</th>\n",
       "      <td id=\"T_92455_row0_col0\" class=\"data row0 col0\" >0.344</td>\n",
       "      <td id=\"T_92455_row0_col1\" class=\"data row0 col1\" >-</td>\n",
       "      <td id=\"T_92455_row0_col2\" class=\"data row0 col2\" >-</td>\n",
       "      <td id=\"T_92455_row0_col3\" class=\"data row0 col3\" >0.342</td>\n",
       "      <td id=\"T_92455_row0_col4\" class=\"data row0 col4\" >-</td>\n",
       "      <td id=\"T_92455_row0_col5\" class=\"data row0 col5\" >-</td>\n",
       "      <td id=\"T_92455_row0_col6\" class=\"data row0 col6\" >0.400</td>\n",
       "      <td id=\"T_92455_row0_col7\" class=\"data row0 col7\" >-</td>\n",
       "      <td id=\"T_92455_row0_col8\" class=\"data row0 col8\" >-</td>\n",
       "      <td id=\"T_92455_row0_col9\" class=\"data row0 col9\" >0.386</td>\n",
       "      <td id=\"T_92455_row0_col10\" class=\"data row0 col10\" >-</td>\n",
       "      <td id=\"T_92455_row0_col11\" class=\"data row0 col11\" >-</td>\n",
       "      <td id=\"T_92455_row0_col12\" class=\"data row0 col12\" >0.400</td>\n",
       "      <td id=\"T_92455_row0_col13\" class=\"data row0 col13\" >-</td>\n",
       "      <td id=\"T_92455_row0_col14\" class=\"data row0 col14\" >-</td>\n",
       "      <td id=\"T_92455_row0_col15\" class=\"data row0 col15\" >0.383</td>\n",
       "      <td id=\"T_92455_row0_col16\" class=\"data row0 col16\" >-</td>\n",
       "      <td id=\"T_92455_row0_col17\" class=\"data row0 col17\" >-</td>\n",
       "    </tr>\n",
       "    <tr>\n",
       "      <th id=\"T_92455_level0_row1\" class=\"row_heading level0 row1\" >kappa_digitized_onlypos_2</th>\n",
       "      <th id=\"T_92455_level1_row1\" class=\"row_heading level1 row1\" >0.200000</th>\n",
       "      <td id=\"T_92455_row1_col0\" class=\"data row1 col0\" >0.284</td>\n",
       "      <td id=\"T_92455_row1_col1\" class=\"data row1 col1\" >0.273</td>\n",
       "      <td id=\"T_92455_row1_col2\" class=\"data row1 col2\" >0.291</td>\n",
       "      <td id=\"T_92455_row1_col3\" class=\"data row1 col3\" >0.269</td>\n",
       "      <td id=\"T_92455_row1_col4\" class=\"data row1 col4\" >0.363</td>\n",
       "      <td id=\"T_92455_row1_col5\" class=\"data row1 col5\" >0.290</td>\n",
       "      <td id=\"T_92455_row1_col6\" class=\"data row1 col6\" >0.426</td>\n",
       "      <td id=\"T_92455_row1_col7\" class=\"data row1 col7\" >0.317</td>\n",
       "      <td id=\"T_92455_row1_col8\" class=\"data row1 col8\" >0.327</td>\n",
       "      <td id=\"T_92455_row1_col9\" class=\"data row1 col9\" >0.349</td>\n",
       "      <td id=\"T_92455_row1_col10\" class=\"data row1 col10\" >0.416</td>\n",
       "      <td id=\"T_92455_row1_col11\" class=\"data row1 col11\" >0.267</td>\n",
       "      <td id=\"T_92455_row1_col12\" class=\"data row1 col12\" >0.273</td>\n",
       "      <td id=\"T_92455_row1_col13\" class=\"data row1 col13\" >0.360</td>\n",
       "      <td id=\"T_92455_row1_col14\" class=\"data row1 col14\" >0.284</td>\n",
       "      <td id=\"T_92455_row1_col15\" class=\"data row1 col15\" >0.397</td>\n",
       "      <td id=\"T_92455_row1_col16\" class=\"data row1 col16\" >0.421</td>\n",
       "      <td id=\"T_92455_row1_col17\" class=\"data row1 col17\" >0.316</td>\n",
       "    </tr>\n",
       "    <tr>\n",
       "      <th id=\"T_92455_level0_row2\" class=\"row_heading level0 row2\" >kappa_rank2rank_onlypos_max</th>\n",
       "      <th id=\"T_92455_level1_row2\" class=\"row_heading level1 row2\" >0.100000</th>\n",
       "      <td id=\"T_92455_row2_col0\" class=\"data row2 col0\" >-</td>\n",
       "      <td id=\"T_92455_row2_col1\" class=\"data row2 col1\" >-</td>\n",
       "      <td id=\"T_92455_row2_col2\" class=\"data row2 col2\" >-</td>\n",
       "      <td id=\"T_92455_row2_col3\" class=\"data row2 col3\" >0.371</td>\n",
       "      <td id=\"T_92455_row2_col4\" class=\"data row2 col4\" >-</td>\n",
       "      <td id=\"T_92455_row2_col5\" class=\"data row2 col5\" >-</td>\n",
       "      <td id=\"T_92455_row2_col6\" class=\"data row2 col6\" >-</td>\n",
       "      <td id=\"T_92455_row2_col7\" class=\"data row2 col7\" >-</td>\n",
       "      <td id=\"T_92455_row2_col8\" class=\"data row2 col8\" >-</td>\n",
       "      <td id=\"T_92455_row2_col9\" class=\"data row2 col9\" >-</td>\n",
       "      <td id=\"T_92455_row2_col10\" class=\"data row2 col10\" >-</td>\n",
       "      <td id=\"T_92455_row2_col11\" class=\"data row2 col11\" >-</td>\n",
       "      <td id=\"T_92455_row2_col12\" class=\"data row2 col12\" >-</td>\n",
       "      <td id=\"T_92455_row2_col13\" class=\"data row2 col13\" >-</td>\n",
       "      <td id=\"T_92455_row2_col14\" class=\"data row2 col14\" >-</td>\n",
       "      <td id=\"T_92455_row2_col15\" class=\"data row2 col15\" >-</td>\n",
       "      <td id=\"T_92455_row2_col16\" class=\"data row2 col16\" >-</td>\n",
       "      <td id=\"T_92455_row2_col17\" class=\"data row2 col17\" >-</td>\n",
       "    </tr>\n",
       "    <tr>\n",
       "      <th id=\"T_92455_level0_row3\" class=\"row_heading level0 row3\" >kappa_rank2rank_onlypos_min</th>\n",
       "      <th id=\"T_92455_level1_row3\" class=\"row_heading level1 row3\" >0.200000</th>\n",
       "      <td id=\"T_92455_row3_col0\" class=\"data row3 col0\" >0.407</td>\n",
       "      <td id=\"T_92455_row3_col1\" class=\"data row3 col1\" >0.296</td>\n",
       "      <td id=\"T_92455_row3_col2\" class=\"data row3 col2\" >0.275</td>\n",
       "      <td id=\"T_92455_row3_col3\" class=\"data row3 col3\" >0.402</td>\n",
       "      <td id=\"T_92455_row3_col4\" class=\"data row3 col4\" >0.288</td>\n",
       "      <td id=\"T_92455_row3_col5\" class=\"data row3 col5\" >0.404</td>\n",
       "      <td id=\"T_92455_row3_col6\" class=\"data row3 col6\" >0.345</td>\n",
       "      <td id=\"T_92455_row3_col7\" class=\"data row3 col7\" >0.354</td>\n",
       "      <td id=\"T_92455_row3_col8\" class=\"data row3 col8\" >0.253</td>\n",
       "      <td id=\"T_92455_row3_col9\" class=\"data row3 col9\" >0.381</td>\n",
       "      <td id=\"T_92455_row3_col10\" class=\"data row3 col10\" >0.464</td>\n",
       "      <td id=\"T_92455_row3_col11\" class=\"data row3 col11\" >0.379</td>\n",
       "      <td id=\"T_92455_row3_col12\" class=\"data row3 col12\" >0.413</td>\n",
       "      <td id=\"T_92455_row3_col13\" class=\"data row3 col13\" >0.443</td>\n",
       "      <td id=\"T_92455_row3_col14\" class=\"data row3 col14\" >0.448</td>\n",
       "      <td id=\"T_92455_row3_col15\" class=\"data row3 col15\" >0.426</td>\n",
       "      <td id=\"T_92455_row3_col16\" class=\"data row3 col16\" >0.374</td>\n",
       "      <td id=\"T_92455_row3_col17\" class=\"data row3 col17\" >0.440</td>\n",
       "    </tr>\n",
       "  </tbody>\n",
       "</table>\n"
      ],
      "text/plain": [
       "<pandas.io.formats.style.Styler at 0x7f8841e57670>"
      ]
     },
     "metadata": {},
     "output_type": "display_data"
    },
    {
     "name": "stdout",
     "output_type": "stream",
     "text": [
      "Best f1: 0.4637\n",
      "MA_DATASET=placetypes;MA_LANGUAGE=en;MA_DEBUG=False;MA_PP_COMPONENTS=none;MA_TRANSLATE_POLICY=onlyorig;MA_MIN_WORDS_PER_DESC=50;MA_QUANTIFICATION_MEASURE=tfidf;MA_EMBED_ALGO=mds;MA_EMBED_DIMENSIONS=3;MA_EXTRACTION_METHOD=all;MA_DCM_QUANT_MEASURE=ppmi;MA_KAPPA_WEIGHTS=quadratic;MA_CLASSIFIER_SUCCMETRIC=kappa_rank2rank_onlypos_min;MA_PRIM_LAMBDA=0.5;MA_SEC_LAMBDA=0.2;MA_CLUSTER_DIRECTION_ALGO=reclassify\n",
      "cluster_reprs\n"
     ]
    },
    {
     "data": {
      "text/markdown": [
       "Best f1: **0.4637** <br><br> "
      ],
      "text/plain": [
       "<IPython.core.display.Markdown object>"
      ]
     },
     "metadata": {},
     "output_type": "display_data"
    },
    {
     "data": {
      "text/markdown": [
       "### Best for: Foursquare, depth 1"
      ],
      "text/plain": [
       "<IPython.core.display.Markdown object>"
      ]
     },
     "metadata": {},
     "output_type": "display_data"
    },
    {
     "data": {
      "application/vnd.jupyter.widget-view+json": {
       "model_id": "8dea912d0de641b9a0aab7456f2bf2d8",
       "version_major": 2,
       "version_minor": 0
      },
      "text/plain": [
       "Getting Best-Performing Config [5 procs]:   0%|          | 0/43 [00:00<?, ?it/s]"
      ]
     },
     "metadata": {},
     "output_type": "display_data"
    },
    {
     "data": {
      "text/html": [
       "<style type=\"text/css\">\n",
       "#T_e676e th {\n",
       "  vertical-align: top;\n",
       "  text-align: left;\n",
       "}\n",
       "#T_e676e_row3_col14 {\n",
       "  background-color: lightgreen;\n",
       "}\n",
       "</style>\n",
       "<table id=\"T_e676e\">\n",
       "  <thead>\n",
       "    <tr>\n",
       "      <th class=\"blank\" >&nbsp;</th>\n",
       "      <th class=\"blank level0\" >&nbsp;</th>\n",
       "      <th id=\"T_e676e_level0_col0\" class=\"col_heading level0 col0\" colspan=\"18\">f1</th>\n",
       "    </tr>\n",
       "    <tr>\n",
       "      <th class=\"blank\" >&nbsp;</th>\n",
       "      <th class=\"index_name level1\" >quantification_measure</th>\n",
       "      <th id=\"T_e676e_level1_col0\" class=\"col_heading level1 col0\" colspan=\"9\">ppmi</th>\n",
       "      <th id=\"T_e676e_level1_col9\" class=\"col_heading level1 col9\" colspan=\"9\">tfidf</th>\n",
       "    </tr>\n",
       "    <tr>\n",
       "      <th class=\"blank\" >&nbsp;</th>\n",
       "      <th class=\"index_name level2\" >embed_dimensions</th>\n",
       "      <th id=\"T_e676e_level2_col0\" class=\"col_heading level2 col0\" colspan=\"3\">3</th>\n",
       "      <th id=\"T_e676e_level2_col3\" class=\"col_heading level2 col3\" colspan=\"3\">50</th>\n",
       "      <th id=\"T_e676e_level2_col6\" class=\"col_heading level2 col6\" colspan=\"3\">200</th>\n",
       "      <th id=\"T_e676e_level2_col9\" class=\"col_heading level2 col9\" colspan=\"3\">3</th>\n",
       "      <th id=\"T_e676e_level2_col12\" class=\"col_heading level2 col12\" colspan=\"3\">50</th>\n",
       "      <th id=\"T_e676e_level2_col15\" class=\"col_heading level2 col15\" colspan=\"3\">200</th>\n",
       "    </tr>\n",
       "    <tr>\n",
       "      <th class=\"blank\" >&nbsp;</th>\n",
       "      <th class=\"index_name level3\" >dcm_quant_measure</th>\n",
       "      <th id=\"T_e676e_level3_col0\" class=\"col_heading level3 col0\" >count</th>\n",
       "      <th id=\"T_e676e_level3_col1\" class=\"col_heading level3 col1\" >ppmi</th>\n",
       "      <th id=\"T_e676e_level3_col2\" class=\"col_heading level3 col2\" >tfidf</th>\n",
       "      <th id=\"T_e676e_level3_col3\" class=\"col_heading level3 col3\" >count</th>\n",
       "      <th id=\"T_e676e_level3_col4\" class=\"col_heading level3 col4\" >ppmi</th>\n",
       "      <th id=\"T_e676e_level3_col5\" class=\"col_heading level3 col5\" >tfidf</th>\n",
       "      <th id=\"T_e676e_level3_col6\" class=\"col_heading level3 col6\" >count</th>\n",
       "      <th id=\"T_e676e_level3_col7\" class=\"col_heading level3 col7\" >ppmi</th>\n",
       "      <th id=\"T_e676e_level3_col8\" class=\"col_heading level3 col8\" >tfidf</th>\n",
       "      <th id=\"T_e676e_level3_col9\" class=\"col_heading level3 col9\" >count</th>\n",
       "      <th id=\"T_e676e_level3_col10\" class=\"col_heading level3 col10\" >ppmi</th>\n",
       "      <th id=\"T_e676e_level3_col11\" class=\"col_heading level3 col11\" >tfidf</th>\n",
       "      <th id=\"T_e676e_level3_col12\" class=\"col_heading level3 col12\" >count</th>\n",
       "      <th id=\"T_e676e_level3_col13\" class=\"col_heading level3 col13\" >ppmi</th>\n",
       "      <th id=\"T_e676e_level3_col14\" class=\"col_heading level3 col14\" >tfidf</th>\n",
       "      <th id=\"T_e676e_level3_col15\" class=\"col_heading level3 col15\" >count</th>\n",
       "      <th id=\"T_e676e_level3_col16\" class=\"col_heading level3 col16\" >ppmi</th>\n",
       "      <th id=\"T_e676e_level3_col17\" class=\"col_heading level3 col17\" >tfidf</th>\n",
       "    </tr>\n",
       "    <tr>\n",
       "      <th class=\"index_name level0\" >classifier_succmetric</th>\n",
       "      <th class=\"index_name level1\" >sec_lambda</th>\n",
       "      <th class=\"blank col0\" >&nbsp;</th>\n",
       "      <th class=\"blank col1\" >&nbsp;</th>\n",
       "      <th class=\"blank col2\" >&nbsp;</th>\n",
       "      <th class=\"blank col3\" >&nbsp;</th>\n",
       "      <th class=\"blank col4\" >&nbsp;</th>\n",
       "      <th class=\"blank col5\" >&nbsp;</th>\n",
       "      <th class=\"blank col6\" >&nbsp;</th>\n",
       "      <th class=\"blank col7\" >&nbsp;</th>\n",
       "      <th class=\"blank col8\" >&nbsp;</th>\n",
       "      <th class=\"blank col9\" >&nbsp;</th>\n",
       "      <th class=\"blank col10\" >&nbsp;</th>\n",
       "      <th class=\"blank col11\" >&nbsp;</th>\n",
       "      <th class=\"blank col12\" >&nbsp;</th>\n",
       "      <th class=\"blank col13\" >&nbsp;</th>\n",
       "      <th class=\"blank col14\" >&nbsp;</th>\n",
       "      <th class=\"blank col15\" >&nbsp;</th>\n",
       "      <th class=\"blank col16\" >&nbsp;</th>\n",
       "      <th class=\"blank col17\" >&nbsp;</th>\n",
       "    </tr>\n",
       "  </thead>\n",
       "  <tbody>\n",
       "    <tr>\n",
       "      <th id=\"T_e676e_level0_row0\" class=\"row_heading level0 row0\" >kappa_count2rank_onlypos</th>\n",
       "      <th id=\"T_e676e_level1_row0\" class=\"row_heading level1 row0\" >0.200000</th>\n",
       "      <td id=\"T_e676e_row0_col0\" class=\"data row0 col0\" >0.405</td>\n",
       "      <td id=\"T_e676e_row0_col1\" class=\"data row0 col1\" >-</td>\n",
       "      <td id=\"T_e676e_row0_col2\" class=\"data row0 col2\" >-</td>\n",
       "      <td id=\"T_e676e_row0_col3\" class=\"data row0 col3\" >0.399</td>\n",
       "      <td id=\"T_e676e_row0_col4\" class=\"data row0 col4\" >-</td>\n",
       "      <td id=\"T_e676e_row0_col5\" class=\"data row0 col5\" >-</td>\n",
       "      <td id=\"T_e676e_row0_col6\" class=\"data row0 col6\" >0.346</td>\n",
       "      <td id=\"T_e676e_row0_col7\" class=\"data row0 col7\" >-</td>\n",
       "      <td id=\"T_e676e_row0_col8\" class=\"data row0 col8\" >-</td>\n",
       "      <td id=\"T_e676e_row0_col9\" class=\"data row0 col9\" >0.420</td>\n",
       "      <td id=\"T_e676e_row0_col10\" class=\"data row0 col10\" >-</td>\n",
       "      <td id=\"T_e676e_row0_col11\" class=\"data row0 col11\" >-</td>\n",
       "      <td id=\"T_e676e_row0_col12\" class=\"data row0 col12\" >0.457</td>\n",
       "      <td id=\"T_e676e_row0_col13\" class=\"data row0 col13\" >-</td>\n",
       "      <td id=\"T_e676e_row0_col14\" class=\"data row0 col14\" >-</td>\n",
       "      <td id=\"T_e676e_row0_col15\" class=\"data row0 col15\" >0.445</td>\n",
       "      <td id=\"T_e676e_row0_col16\" class=\"data row0 col16\" >-</td>\n",
       "      <td id=\"T_e676e_row0_col17\" class=\"data row0 col17\" >-</td>\n",
       "    </tr>\n",
       "    <tr>\n",
       "      <th id=\"T_e676e_level0_row1\" class=\"row_heading level0 row1\" >kappa_digitized_onlypos_2</th>\n",
       "      <th id=\"T_e676e_level1_row1\" class=\"row_heading level1 row1\" >0.200000</th>\n",
       "      <td id=\"T_e676e_row1_col0\" class=\"data row1 col0\" >0.273</td>\n",
       "      <td id=\"T_e676e_row1_col1\" class=\"data row1 col1\" >0.293</td>\n",
       "      <td id=\"T_e676e_row1_col2\" class=\"data row1 col2\" >0.338</td>\n",
       "      <td id=\"T_e676e_row1_col3\" class=\"data row1 col3\" >0.321</td>\n",
       "      <td id=\"T_e676e_row1_col4\" class=\"data row1 col4\" >0.340</td>\n",
       "      <td id=\"T_e676e_row1_col5\" class=\"data row1 col5\" >0.313</td>\n",
       "      <td id=\"T_e676e_row1_col6\" class=\"data row1 col6\" >0.390</td>\n",
       "      <td id=\"T_e676e_row1_col7\" class=\"data row1 col7\" >0.343</td>\n",
       "      <td id=\"T_e676e_row1_col8\" class=\"data row1 col8\" >0.397</td>\n",
       "      <td id=\"T_e676e_row1_col9\" class=\"data row1 col9\" >0.348</td>\n",
       "      <td id=\"T_e676e_row1_col10\" class=\"data row1 col10\" >0.474</td>\n",
       "      <td id=\"T_e676e_row1_col11\" class=\"data row1 col11\" >0.367</td>\n",
       "      <td id=\"T_e676e_row1_col12\" class=\"data row1 col12\" >0.314</td>\n",
       "      <td id=\"T_e676e_row1_col13\" class=\"data row1 col13\" >0.395</td>\n",
       "      <td id=\"T_e676e_row1_col14\" class=\"data row1 col14\" >0.350</td>\n",
       "      <td id=\"T_e676e_row1_col15\" class=\"data row1 col15\" >0.450</td>\n",
       "      <td id=\"T_e676e_row1_col16\" class=\"data row1 col16\" >0.386</td>\n",
       "      <td id=\"T_e676e_row1_col17\" class=\"data row1 col17\" >0.394</td>\n",
       "    </tr>\n",
       "    <tr>\n",
       "      <th id=\"T_e676e_level0_row2\" class=\"row_heading level0 row2\" >kappa_rank2rank_onlypos_max</th>\n",
       "      <th id=\"T_e676e_level1_row2\" class=\"row_heading level1 row2\" >0.100000</th>\n",
       "      <td id=\"T_e676e_row2_col0\" class=\"data row2 col0\" >-</td>\n",
       "      <td id=\"T_e676e_row2_col1\" class=\"data row2 col1\" >-</td>\n",
       "      <td id=\"T_e676e_row2_col2\" class=\"data row2 col2\" >-</td>\n",
       "      <td id=\"T_e676e_row2_col3\" class=\"data row2 col3\" >0.430</td>\n",
       "      <td id=\"T_e676e_row2_col4\" class=\"data row2 col4\" >-</td>\n",
       "      <td id=\"T_e676e_row2_col5\" class=\"data row2 col5\" >-</td>\n",
       "      <td id=\"T_e676e_row2_col6\" class=\"data row2 col6\" >-</td>\n",
       "      <td id=\"T_e676e_row2_col7\" class=\"data row2 col7\" >-</td>\n",
       "      <td id=\"T_e676e_row2_col8\" class=\"data row2 col8\" >-</td>\n",
       "      <td id=\"T_e676e_row2_col9\" class=\"data row2 col9\" >-</td>\n",
       "      <td id=\"T_e676e_row2_col10\" class=\"data row2 col10\" >-</td>\n",
       "      <td id=\"T_e676e_row2_col11\" class=\"data row2 col11\" >-</td>\n",
       "      <td id=\"T_e676e_row2_col12\" class=\"data row2 col12\" >-</td>\n",
       "      <td id=\"T_e676e_row2_col13\" class=\"data row2 col13\" >-</td>\n",
       "      <td id=\"T_e676e_row2_col14\" class=\"data row2 col14\" >-</td>\n",
       "      <td id=\"T_e676e_row2_col15\" class=\"data row2 col15\" >-</td>\n",
       "      <td id=\"T_e676e_row2_col16\" class=\"data row2 col16\" >-</td>\n",
       "      <td id=\"T_e676e_row2_col17\" class=\"data row2 col17\" >-</td>\n",
       "    </tr>\n",
       "    <tr>\n",
       "      <th id=\"T_e676e_level0_row3\" class=\"row_heading level0 row3\" >kappa_rank2rank_onlypos_min</th>\n",
       "      <th id=\"T_e676e_level1_row3\" class=\"row_heading level1 row3\" >0.200000</th>\n",
       "      <td id=\"T_e676e_row3_col0\" class=\"data row3 col0\" >0.298</td>\n",
       "      <td id=\"T_e676e_row3_col1\" class=\"data row3 col1\" >0.390</td>\n",
       "      <td id=\"T_e676e_row3_col2\" class=\"data row3 col2\" >0.357</td>\n",
       "      <td id=\"T_e676e_row3_col3\" class=\"data row3 col3\" >0.415</td>\n",
       "      <td id=\"T_e676e_row3_col4\" class=\"data row3 col4\" >0.418</td>\n",
       "      <td id=\"T_e676e_row3_col5\" class=\"data row3 col5\" >0.382</td>\n",
       "      <td id=\"T_e676e_row3_col6\" class=\"data row3 col6\" >0.379</td>\n",
       "      <td id=\"T_e676e_row3_col7\" class=\"data row3 col7\" >0.341</td>\n",
       "      <td id=\"T_e676e_row3_col8\" class=\"data row3 col8\" >0.401</td>\n",
       "      <td id=\"T_e676e_row3_col9\" class=\"data row3 col9\" >0.502</td>\n",
       "      <td id=\"T_e676e_row3_col10\" class=\"data row3 col10\" >0.500</td>\n",
       "      <td id=\"T_e676e_row3_col11\" class=\"data row3 col11\" >0.462</td>\n",
       "      <td id=\"T_e676e_row3_col12\" class=\"data row3 col12\" >0.370</td>\n",
       "      <td id=\"T_e676e_row3_col13\" class=\"data row3 col13\" >0.467</td>\n",
       "      <td id=\"T_e676e_row3_col14\" class=\"data row3 col14\" >0.504</td>\n",
       "      <td id=\"T_e676e_row3_col15\" class=\"data row3 col15\" >0.435</td>\n",
       "      <td id=\"T_e676e_row3_col16\" class=\"data row3 col16\" >0.409</td>\n",
       "      <td id=\"T_e676e_row3_col17\" class=\"data row3 col17\" >0.468</td>\n",
       "    </tr>\n",
       "  </tbody>\n",
       "</table>\n"
      ],
      "text/plain": [
       "<pandas.io.formats.style.Styler at 0x7f89017fa0e0>"
      ]
     },
     "metadata": {},
     "output_type": "display_data"
    },
    {
     "name": "stdout",
     "output_type": "stream",
     "text": [
      "Best f1: 0.5036\n",
      "MA_DATASET=placetypes;MA_LANGUAGE=en;MA_DEBUG=False;MA_PP_COMPONENTS=none;MA_TRANSLATE_POLICY=onlyorig;MA_MIN_WORDS_PER_DESC=50;MA_QUANTIFICATION_MEASURE=tfidf;MA_EMBED_ALGO=mds;MA_EMBED_DIMENSIONS=50;MA_EXTRACTION_METHOD=all;MA_DCM_QUANT_MEASURE=tfidf;MA_KAPPA_WEIGHTS=quadratic;MA_CLASSIFIER_SUCCMETRIC=kappa_rank2rank_onlypos_min;MA_PRIM_LAMBDA=0.5;MA_SEC_LAMBDA=0.2;MA_CLUSTER_DIRECTION_ALGO=reclassify\n",
      "cluster_reprs\n"
     ]
    },
    {
     "data": {
      "text/markdown": [
       "Best f1: **0.5036** <br><br> "
      ],
      "text/plain": [
       "<IPython.core.display.Markdown object>"
      ]
     },
     "metadata": {},
     "output_type": "display_data"
    },
    {
     "data": {
      "text/markdown": [
       "### Best for: Foursquare, depth 3"
      ],
      "text/plain": [
       "<IPython.core.display.Markdown object>"
      ]
     },
     "metadata": {},
     "output_type": "display_data"
    },
    {
     "data": {
      "application/vnd.jupyter.widget-view+json": {
       "model_id": "c39347215f7e4e18acc68b118a7fd467",
       "version_major": 2,
       "version_minor": 0
      },
      "text/plain": [
       "Getting Best-Performing Config [5 procs]:   0%|          | 0/43 [00:00<?, ?it/s]"
      ]
     },
     "metadata": {},
     "output_type": "display_data"
    },
    {
     "data": {
      "text/html": [
       "<style type=\"text/css\">\n",
       "#T_a4915 th {\n",
       "  vertical-align: top;\n",
       "  text-align: left;\n",
       "}\n",
       "#T_a4915_row3_col14 {\n",
       "  background-color: lightgreen;\n",
       "}\n",
       "</style>\n",
       "<table id=\"T_a4915\">\n",
       "  <thead>\n",
       "    <tr>\n",
       "      <th class=\"blank\" >&nbsp;</th>\n",
       "      <th class=\"blank level0\" >&nbsp;</th>\n",
       "      <th id=\"T_a4915_level0_col0\" class=\"col_heading level0 col0\" colspan=\"18\">f1</th>\n",
       "    </tr>\n",
       "    <tr>\n",
       "      <th class=\"blank\" >&nbsp;</th>\n",
       "      <th class=\"index_name level1\" >quantification_measure</th>\n",
       "      <th id=\"T_a4915_level1_col0\" class=\"col_heading level1 col0\" colspan=\"9\">ppmi</th>\n",
       "      <th id=\"T_a4915_level1_col9\" class=\"col_heading level1 col9\" colspan=\"9\">tfidf</th>\n",
       "    </tr>\n",
       "    <tr>\n",
       "      <th class=\"blank\" >&nbsp;</th>\n",
       "      <th class=\"index_name level2\" >embed_dimensions</th>\n",
       "      <th id=\"T_a4915_level2_col0\" class=\"col_heading level2 col0\" colspan=\"3\">3</th>\n",
       "      <th id=\"T_a4915_level2_col3\" class=\"col_heading level2 col3\" colspan=\"3\">50</th>\n",
       "      <th id=\"T_a4915_level2_col6\" class=\"col_heading level2 col6\" colspan=\"3\">200</th>\n",
       "      <th id=\"T_a4915_level2_col9\" class=\"col_heading level2 col9\" colspan=\"3\">3</th>\n",
       "      <th id=\"T_a4915_level2_col12\" class=\"col_heading level2 col12\" colspan=\"3\">50</th>\n",
       "      <th id=\"T_a4915_level2_col15\" class=\"col_heading level2 col15\" colspan=\"3\">200</th>\n",
       "    </tr>\n",
       "    <tr>\n",
       "      <th class=\"blank\" >&nbsp;</th>\n",
       "      <th class=\"index_name level3\" >dcm_quant_measure</th>\n",
       "      <th id=\"T_a4915_level3_col0\" class=\"col_heading level3 col0\" >count</th>\n",
       "      <th id=\"T_a4915_level3_col1\" class=\"col_heading level3 col1\" >ppmi</th>\n",
       "      <th id=\"T_a4915_level3_col2\" class=\"col_heading level3 col2\" >tfidf</th>\n",
       "      <th id=\"T_a4915_level3_col3\" class=\"col_heading level3 col3\" >count</th>\n",
       "      <th id=\"T_a4915_level3_col4\" class=\"col_heading level3 col4\" >ppmi</th>\n",
       "      <th id=\"T_a4915_level3_col5\" class=\"col_heading level3 col5\" >tfidf</th>\n",
       "      <th id=\"T_a4915_level3_col6\" class=\"col_heading level3 col6\" >count</th>\n",
       "      <th id=\"T_a4915_level3_col7\" class=\"col_heading level3 col7\" >ppmi</th>\n",
       "      <th id=\"T_a4915_level3_col8\" class=\"col_heading level3 col8\" >tfidf</th>\n",
       "      <th id=\"T_a4915_level3_col9\" class=\"col_heading level3 col9\" >count</th>\n",
       "      <th id=\"T_a4915_level3_col10\" class=\"col_heading level3 col10\" >ppmi</th>\n",
       "      <th id=\"T_a4915_level3_col11\" class=\"col_heading level3 col11\" >tfidf</th>\n",
       "      <th id=\"T_a4915_level3_col12\" class=\"col_heading level3 col12\" >count</th>\n",
       "      <th id=\"T_a4915_level3_col13\" class=\"col_heading level3 col13\" >ppmi</th>\n",
       "      <th id=\"T_a4915_level3_col14\" class=\"col_heading level3 col14\" >tfidf</th>\n",
       "      <th id=\"T_a4915_level3_col15\" class=\"col_heading level3 col15\" >count</th>\n",
       "      <th id=\"T_a4915_level3_col16\" class=\"col_heading level3 col16\" >ppmi</th>\n",
       "      <th id=\"T_a4915_level3_col17\" class=\"col_heading level3 col17\" >tfidf</th>\n",
       "    </tr>\n",
       "    <tr>\n",
       "      <th class=\"index_name level0\" >classifier_succmetric</th>\n",
       "      <th class=\"index_name level1\" >sec_lambda</th>\n",
       "      <th class=\"blank col0\" >&nbsp;</th>\n",
       "      <th class=\"blank col1\" >&nbsp;</th>\n",
       "      <th class=\"blank col2\" >&nbsp;</th>\n",
       "      <th class=\"blank col3\" >&nbsp;</th>\n",
       "      <th class=\"blank col4\" >&nbsp;</th>\n",
       "      <th class=\"blank col5\" >&nbsp;</th>\n",
       "      <th class=\"blank col6\" >&nbsp;</th>\n",
       "      <th class=\"blank col7\" >&nbsp;</th>\n",
       "      <th class=\"blank col8\" >&nbsp;</th>\n",
       "      <th class=\"blank col9\" >&nbsp;</th>\n",
       "      <th class=\"blank col10\" >&nbsp;</th>\n",
       "      <th class=\"blank col11\" >&nbsp;</th>\n",
       "      <th class=\"blank col12\" >&nbsp;</th>\n",
       "      <th class=\"blank col13\" >&nbsp;</th>\n",
       "      <th class=\"blank col14\" >&nbsp;</th>\n",
       "      <th class=\"blank col15\" >&nbsp;</th>\n",
       "      <th class=\"blank col16\" >&nbsp;</th>\n",
       "      <th class=\"blank col17\" >&nbsp;</th>\n",
       "    </tr>\n",
       "  </thead>\n",
       "  <tbody>\n",
       "    <tr>\n",
       "      <th id=\"T_a4915_level0_row0\" class=\"row_heading level0 row0\" >kappa_count2rank_onlypos</th>\n",
       "      <th id=\"T_a4915_level1_row0\" class=\"row_heading level1 row0\" >0.200000</th>\n",
       "      <td id=\"T_a4915_row0_col0\" class=\"data row0 col0\" >0.436</td>\n",
       "      <td id=\"T_a4915_row0_col1\" class=\"data row0 col1\" >-</td>\n",
       "      <td id=\"T_a4915_row0_col2\" class=\"data row0 col2\" >-</td>\n",
       "      <td id=\"T_a4915_row0_col3\" class=\"data row0 col3\" >0.443</td>\n",
       "      <td id=\"T_a4915_row0_col4\" class=\"data row0 col4\" >-</td>\n",
       "      <td id=\"T_a4915_row0_col5\" class=\"data row0 col5\" >-</td>\n",
       "      <td id=\"T_a4915_row0_col6\" class=\"data row0 col6\" >0.441</td>\n",
       "      <td id=\"T_a4915_row0_col7\" class=\"data row0 col7\" >-</td>\n",
       "      <td id=\"T_a4915_row0_col8\" class=\"data row0 col8\" >-</td>\n",
       "      <td id=\"T_a4915_row0_col9\" class=\"data row0 col9\" >0.557</td>\n",
       "      <td id=\"T_a4915_row0_col10\" class=\"data row0 col10\" >-</td>\n",
       "      <td id=\"T_a4915_row0_col11\" class=\"data row0 col11\" >-</td>\n",
       "      <td id=\"T_a4915_row0_col12\" class=\"data row0 col12\" >0.523</td>\n",
       "      <td id=\"T_a4915_row0_col13\" class=\"data row0 col13\" >-</td>\n",
       "      <td id=\"T_a4915_row0_col14\" class=\"data row0 col14\" >-</td>\n",
       "      <td id=\"T_a4915_row0_col15\" class=\"data row0 col15\" >0.437</td>\n",
       "      <td id=\"T_a4915_row0_col16\" class=\"data row0 col16\" >-</td>\n",
       "      <td id=\"T_a4915_row0_col17\" class=\"data row0 col17\" >-</td>\n",
       "    </tr>\n",
       "    <tr>\n",
       "      <th id=\"T_a4915_level0_row1\" class=\"row_heading level0 row1\" >kappa_digitized_onlypos_2</th>\n",
       "      <th id=\"T_a4915_level1_row1\" class=\"row_heading level1 row1\" >0.200000</th>\n",
       "      <td id=\"T_a4915_row1_col0\" class=\"data row1 col0\" >0.289</td>\n",
       "      <td id=\"T_a4915_row1_col1\" class=\"data row1 col1\" >0.260</td>\n",
       "      <td id=\"T_a4915_row1_col2\" class=\"data row1 col2\" >0.338</td>\n",
       "      <td id=\"T_a4915_row1_col3\" class=\"data row1 col3\" >0.309</td>\n",
       "      <td id=\"T_a4915_row1_col4\" class=\"data row1 col4\" >0.444</td>\n",
       "      <td id=\"T_a4915_row1_col5\" class=\"data row1 col5\" >0.337</td>\n",
       "      <td id=\"T_a4915_row1_col6\" class=\"data row1 col6\" >0.486</td>\n",
       "      <td id=\"T_a4915_row1_col7\" class=\"data row1 col7\" >0.337</td>\n",
       "      <td id=\"T_a4915_row1_col8\" class=\"data row1 col8\" >0.463</td>\n",
       "      <td id=\"T_a4915_row1_col9\" class=\"data row1 col9\" >0.340</td>\n",
       "      <td id=\"T_a4915_row1_col10\" class=\"data row1 col10\" >0.560</td>\n",
       "      <td id=\"T_a4915_row1_col11\" class=\"data row1 col11\" >0.347</td>\n",
       "      <td id=\"T_a4915_row1_col12\" class=\"data row1 col12\" >0.292</td>\n",
       "      <td id=\"T_a4915_row1_col13\" class=\"data row1 col13\" >0.467</td>\n",
       "      <td id=\"T_a4915_row1_col14\" class=\"data row1 col14\" >0.327</td>\n",
       "      <td id=\"T_a4915_row1_col15\" class=\"data row1 col15\" >0.477</td>\n",
       "      <td id=\"T_a4915_row1_col16\" class=\"data row1 col16\" >0.486</td>\n",
       "      <td id=\"T_a4915_row1_col17\" class=\"data row1 col17\" >0.475</td>\n",
       "    </tr>\n",
       "    <tr>\n",
       "      <th id=\"T_a4915_level0_row2\" class=\"row_heading level0 row2\" >kappa_rank2rank_onlypos_max</th>\n",
       "      <th id=\"T_a4915_level1_row2\" class=\"row_heading level1 row2\" >0.100000</th>\n",
       "      <td id=\"T_a4915_row2_col0\" class=\"data row2 col0\" >-</td>\n",
       "      <td id=\"T_a4915_row2_col1\" class=\"data row2 col1\" >-</td>\n",
       "      <td id=\"T_a4915_row2_col2\" class=\"data row2 col2\" >-</td>\n",
       "      <td id=\"T_a4915_row2_col3\" class=\"data row2 col3\" >0.451</td>\n",
       "      <td id=\"T_a4915_row2_col4\" class=\"data row2 col4\" >-</td>\n",
       "      <td id=\"T_a4915_row2_col5\" class=\"data row2 col5\" >-</td>\n",
       "      <td id=\"T_a4915_row2_col6\" class=\"data row2 col6\" >-</td>\n",
       "      <td id=\"T_a4915_row2_col7\" class=\"data row2 col7\" >-</td>\n",
       "      <td id=\"T_a4915_row2_col8\" class=\"data row2 col8\" >-</td>\n",
       "      <td id=\"T_a4915_row2_col9\" class=\"data row2 col9\" >-</td>\n",
       "      <td id=\"T_a4915_row2_col10\" class=\"data row2 col10\" >-</td>\n",
       "      <td id=\"T_a4915_row2_col11\" class=\"data row2 col11\" >-</td>\n",
       "      <td id=\"T_a4915_row2_col12\" class=\"data row2 col12\" >-</td>\n",
       "      <td id=\"T_a4915_row2_col13\" class=\"data row2 col13\" >-</td>\n",
       "      <td id=\"T_a4915_row2_col14\" class=\"data row2 col14\" >-</td>\n",
       "      <td id=\"T_a4915_row2_col15\" class=\"data row2 col15\" >-</td>\n",
       "      <td id=\"T_a4915_row2_col16\" class=\"data row2 col16\" >-</td>\n",
       "      <td id=\"T_a4915_row2_col17\" class=\"data row2 col17\" >-</td>\n",
       "    </tr>\n",
       "    <tr>\n",
       "      <th id=\"T_a4915_level0_row3\" class=\"row_heading level0 row3\" >kappa_rank2rank_onlypos_min</th>\n",
       "      <th id=\"T_a4915_level1_row3\" class=\"row_heading level1 row3\" >0.200000</th>\n",
       "      <td id=\"T_a4915_row3_col0\" class=\"data row3 col0\" >0.389</td>\n",
       "      <td id=\"T_a4915_row3_col1\" class=\"data row3 col1\" >0.384</td>\n",
       "      <td id=\"T_a4915_row3_col2\" class=\"data row3 col2\" >0.354</td>\n",
       "      <td id=\"T_a4915_row3_col3\" class=\"data row3 col3\" >0.503</td>\n",
       "      <td id=\"T_a4915_row3_col4\" class=\"data row3 col4\" >0.445</td>\n",
       "      <td id=\"T_a4915_row3_col5\" class=\"data row3 col5\" >0.449</td>\n",
       "      <td id=\"T_a4915_row3_col6\" class=\"data row3 col6\" >0.398</td>\n",
       "      <td id=\"T_a4915_row3_col7\" class=\"data row3 col7\" >0.370</td>\n",
       "      <td id=\"T_a4915_row3_col8\" class=\"data row3 col8\" >0.379</td>\n",
       "      <td id=\"T_a4915_row3_col9\" class=\"data row3 col9\" >0.574</td>\n",
       "      <td id=\"T_a4915_row3_col10\" class=\"data row3 col10\" >0.557</td>\n",
       "      <td id=\"T_a4915_row3_col11\" class=\"data row3 col11\" >0.532</td>\n",
       "      <td id=\"T_a4915_row3_col12\" class=\"data row3 col12\" >0.538</td>\n",
       "      <td id=\"T_a4915_row3_col13\" class=\"data row3 col13\" >0.567</td>\n",
       "      <td id=\"T_a4915_row3_col14\" class=\"data row3 col14\" >0.580</td>\n",
       "      <td id=\"T_a4915_row3_col15\" class=\"data row3 col15\" >0.521</td>\n",
       "      <td id=\"T_a4915_row3_col16\" class=\"data row3 col16\" >0.521</td>\n",
       "      <td id=\"T_a4915_row3_col17\" class=\"data row3 col17\" >0.561</td>\n",
       "    </tr>\n",
       "  </tbody>\n",
       "</table>\n"
      ],
      "text/plain": [
       "<pandas.io.formats.style.Styler at 0x7f88e1092dd0>"
      ]
     },
     "metadata": {},
     "output_type": "display_data"
    },
    {
     "name": "stdout",
     "output_type": "stream",
     "text": [
      "Best f1: 0.5799\n",
      "MA_DATASET=placetypes;MA_LANGUAGE=en;MA_DEBUG=False;MA_PP_COMPONENTS=none;MA_TRANSLATE_POLICY=onlyorig;MA_MIN_WORDS_PER_DESC=50;MA_QUANTIFICATION_MEASURE=tfidf;MA_EMBED_ALGO=mds;MA_EMBED_DIMENSIONS=50;MA_EXTRACTION_METHOD=all;MA_DCM_QUANT_MEASURE=tfidf;MA_KAPPA_WEIGHTS=quadratic;MA_CLASSIFIER_SUCCMETRIC=kappa_rank2rank_onlypos_min;MA_PRIM_LAMBDA=0.5;MA_SEC_LAMBDA=0.2;MA_CLUSTER_DIRECTION_ALGO=reclassify\n",
      "cluster_reprs\n"
     ]
    },
    {
     "data": {
      "text/markdown": [
       "Best f1: **0.5799** <br><br> "
      ],
      "text/plain": [
       "<IPython.core.display.Markdown object>"
      ]
     },
     "metadata": {},
     "output_type": "display_data"
    },
    {
     "data": {
      "text/markdown": [
       "### Best for: Foursquare, depth None"
      ],
      "text/plain": [
       "<IPython.core.display.Markdown object>"
      ]
     },
     "metadata": {},
     "output_type": "display_data"
    },
    {
     "data": {
      "application/vnd.jupyter.widget-view+json": {
       "model_id": "4912828963db4b4e8a8a9d710e0a7508",
       "version_major": 2,
       "version_minor": 0
      },
      "text/plain": [
       "Getting Best-Performing Config [5 procs]:   0%|          | 0/43 [00:00<?, ?it/s]"
      ]
     },
     "metadata": {},
     "output_type": "display_data"
    },
    {
     "data": {
      "text/html": [
       "<style type=\"text/css\">\n",
       "#T_14f15 th {\n",
       "  vertical-align: top;\n",
       "  text-align: left;\n",
       "}\n",
       "#T_14f15_row3_col16 {\n",
       "  background-color: lightgreen;\n",
       "}\n",
       "</style>\n",
       "<table id=\"T_14f15\">\n",
       "  <thead>\n",
       "    <tr>\n",
       "      <th class=\"blank\" >&nbsp;</th>\n",
       "      <th class=\"blank level0\" >&nbsp;</th>\n",
       "      <th id=\"T_14f15_level0_col0\" class=\"col_heading level0 col0\" colspan=\"18\">f1</th>\n",
       "    </tr>\n",
       "    <tr>\n",
       "      <th class=\"blank\" >&nbsp;</th>\n",
       "      <th class=\"index_name level1\" >quantification_measure</th>\n",
       "      <th id=\"T_14f15_level1_col0\" class=\"col_heading level1 col0\" colspan=\"9\">ppmi</th>\n",
       "      <th id=\"T_14f15_level1_col9\" class=\"col_heading level1 col9\" colspan=\"9\">tfidf</th>\n",
       "    </tr>\n",
       "    <tr>\n",
       "      <th class=\"blank\" >&nbsp;</th>\n",
       "      <th class=\"index_name level2\" >embed_dimensions</th>\n",
       "      <th id=\"T_14f15_level2_col0\" class=\"col_heading level2 col0\" colspan=\"3\">3</th>\n",
       "      <th id=\"T_14f15_level2_col3\" class=\"col_heading level2 col3\" colspan=\"3\">50</th>\n",
       "      <th id=\"T_14f15_level2_col6\" class=\"col_heading level2 col6\" colspan=\"3\">200</th>\n",
       "      <th id=\"T_14f15_level2_col9\" class=\"col_heading level2 col9\" colspan=\"3\">3</th>\n",
       "      <th id=\"T_14f15_level2_col12\" class=\"col_heading level2 col12\" colspan=\"3\">50</th>\n",
       "      <th id=\"T_14f15_level2_col15\" class=\"col_heading level2 col15\" colspan=\"3\">200</th>\n",
       "    </tr>\n",
       "    <tr>\n",
       "      <th class=\"blank\" >&nbsp;</th>\n",
       "      <th class=\"index_name level3\" >dcm_quant_measure</th>\n",
       "      <th id=\"T_14f15_level3_col0\" class=\"col_heading level3 col0\" >count</th>\n",
       "      <th id=\"T_14f15_level3_col1\" class=\"col_heading level3 col1\" >ppmi</th>\n",
       "      <th id=\"T_14f15_level3_col2\" class=\"col_heading level3 col2\" >tfidf</th>\n",
       "      <th id=\"T_14f15_level3_col3\" class=\"col_heading level3 col3\" >count</th>\n",
       "      <th id=\"T_14f15_level3_col4\" class=\"col_heading level3 col4\" >ppmi</th>\n",
       "      <th id=\"T_14f15_level3_col5\" class=\"col_heading level3 col5\" >tfidf</th>\n",
       "      <th id=\"T_14f15_level3_col6\" class=\"col_heading level3 col6\" >count</th>\n",
       "      <th id=\"T_14f15_level3_col7\" class=\"col_heading level3 col7\" >ppmi</th>\n",
       "      <th id=\"T_14f15_level3_col8\" class=\"col_heading level3 col8\" >tfidf</th>\n",
       "      <th id=\"T_14f15_level3_col9\" class=\"col_heading level3 col9\" >count</th>\n",
       "      <th id=\"T_14f15_level3_col10\" class=\"col_heading level3 col10\" >ppmi</th>\n",
       "      <th id=\"T_14f15_level3_col11\" class=\"col_heading level3 col11\" >tfidf</th>\n",
       "      <th id=\"T_14f15_level3_col12\" class=\"col_heading level3 col12\" >count</th>\n",
       "      <th id=\"T_14f15_level3_col13\" class=\"col_heading level3 col13\" >ppmi</th>\n",
       "      <th id=\"T_14f15_level3_col14\" class=\"col_heading level3 col14\" >tfidf</th>\n",
       "      <th id=\"T_14f15_level3_col15\" class=\"col_heading level3 col15\" >count</th>\n",
       "      <th id=\"T_14f15_level3_col16\" class=\"col_heading level3 col16\" >ppmi</th>\n",
       "      <th id=\"T_14f15_level3_col17\" class=\"col_heading level3 col17\" >tfidf</th>\n",
       "    </tr>\n",
       "    <tr>\n",
       "      <th class=\"index_name level0\" >classifier_succmetric</th>\n",
       "      <th class=\"index_name level1\" >sec_lambda</th>\n",
       "      <th class=\"blank col0\" >&nbsp;</th>\n",
       "      <th class=\"blank col1\" >&nbsp;</th>\n",
       "      <th class=\"blank col2\" >&nbsp;</th>\n",
       "      <th class=\"blank col3\" >&nbsp;</th>\n",
       "      <th class=\"blank col4\" >&nbsp;</th>\n",
       "      <th class=\"blank col5\" >&nbsp;</th>\n",
       "      <th class=\"blank col6\" >&nbsp;</th>\n",
       "      <th class=\"blank col7\" >&nbsp;</th>\n",
       "      <th class=\"blank col8\" >&nbsp;</th>\n",
       "      <th class=\"blank col9\" >&nbsp;</th>\n",
       "      <th class=\"blank col10\" >&nbsp;</th>\n",
       "      <th class=\"blank col11\" >&nbsp;</th>\n",
       "      <th class=\"blank col12\" >&nbsp;</th>\n",
       "      <th class=\"blank col13\" >&nbsp;</th>\n",
       "      <th class=\"blank col14\" >&nbsp;</th>\n",
       "      <th class=\"blank col15\" >&nbsp;</th>\n",
       "      <th class=\"blank col16\" >&nbsp;</th>\n",
       "      <th class=\"blank col17\" >&nbsp;</th>\n",
       "    </tr>\n",
       "  </thead>\n",
       "  <tbody>\n",
       "    <tr>\n",
       "      <th id=\"T_14f15_level0_row0\" class=\"row_heading level0 row0\" >kappa_count2rank_onlypos</th>\n",
       "      <th id=\"T_14f15_level1_row0\" class=\"row_heading level1 row0\" >0.200000</th>\n",
       "      <td id=\"T_14f15_row0_col0\" class=\"data row0 col0\" >0.360</td>\n",
       "      <td id=\"T_14f15_row0_col1\" class=\"data row0 col1\" >-</td>\n",
       "      <td id=\"T_14f15_row0_col2\" class=\"data row0 col2\" >-</td>\n",
       "      <td id=\"T_14f15_row0_col3\" class=\"data row0 col3\" >0.409</td>\n",
       "      <td id=\"T_14f15_row0_col4\" class=\"data row0 col4\" >-</td>\n",
       "      <td id=\"T_14f15_row0_col5\" class=\"data row0 col5\" >-</td>\n",
       "      <td id=\"T_14f15_row0_col6\" class=\"data row0 col6\" >0.440</td>\n",
       "      <td id=\"T_14f15_row0_col7\" class=\"data row0 col7\" >-</td>\n",
       "      <td id=\"T_14f15_row0_col8\" class=\"data row0 col8\" >-</td>\n",
       "      <td id=\"T_14f15_row0_col9\" class=\"data row0 col9\" >0.535</td>\n",
       "      <td id=\"T_14f15_row0_col10\" class=\"data row0 col10\" >-</td>\n",
       "      <td id=\"T_14f15_row0_col11\" class=\"data row0 col11\" >-</td>\n",
       "      <td id=\"T_14f15_row0_col12\" class=\"data row0 col12\" >0.504</td>\n",
       "      <td id=\"T_14f15_row0_col13\" class=\"data row0 col13\" >-</td>\n",
       "      <td id=\"T_14f15_row0_col14\" class=\"data row0 col14\" >-</td>\n",
       "      <td id=\"T_14f15_row0_col15\" class=\"data row0 col15\" >0.511</td>\n",
       "      <td id=\"T_14f15_row0_col16\" class=\"data row0 col16\" >-</td>\n",
       "      <td id=\"T_14f15_row0_col17\" class=\"data row0 col17\" >-</td>\n",
       "    </tr>\n",
       "    <tr>\n",
       "      <th id=\"T_14f15_level0_row1\" class=\"row_heading level0 row1\" >kappa_digitized_onlypos_2</th>\n",
       "      <th id=\"T_14f15_level1_row1\" class=\"row_heading level1 row1\" >0.200000</th>\n",
       "      <td id=\"T_14f15_row1_col0\" class=\"data row1 col0\" >0.221</td>\n",
       "      <td id=\"T_14f15_row1_col1\" class=\"data row1 col1\" >0.181</td>\n",
       "      <td id=\"T_14f15_row1_col2\" class=\"data row1 col2\" >0.194</td>\n",
       "      <td id=\"T_14f15_row1_col3\" class=\"data row1 col3\" >0.300</td>\n",
       "      <td id=\"T_14f15_row1_col4\" class=\"data row1 col4\" >0.395</td>\n",
       "      <td id=\"T_14f15_row1_col5\" class=\"data row1 col5\" >0.191</td>\n",
       "      <td id=\"T_14f15_row1_col6\" class=\"data row1 col6\" >0.434</td>\n",
       "      <td id=\"T_14f15_row1_col7\" class=\"data row1 col7\" >0.447</td>\n",
       "      <td id=\"T_14f15_row1_col8\" class=\"data row1 col8\" >0.401</td>\n",
       "      <td id=\"T_14f15_row1_col9\" class=\"data row1 col9\" >0.257</td>\n",
       "      <td id=\"T_14f15_row1_col10\" class=\"data row1 col10\" >0.505</td>\n",
       "      <td id=\"T_14f15_row1_col11\" class=\"data row1 col11\" >0.286</td>\n",
       "      <td id=\"T_14f15_row1_col12\" class=\"data row1 col12\" >0.134</td>\n",
       "      <td id=\"T_14f15_row1_col13\" class=\"data row1 col13\" >0.465</td>\n",
       "      <td id=\"T_14f15_row1_col14\" class=\"data row1 col14\" >0.268</td>\n",
       "      <td id=\"T_14f15_row1_col15\" class=\"data row1 col15\" >0.480</td>\n",
       "      <td id=\"T_14f15_row1_col16\" class=\"data row1 col16\" >0.511</td>\n",
       "      <td id=\"T_14f15_row1_col17\" class=\"data row1 col17\" >0.456</td>\n",
       "    </tr>\n",
       "    <tr>\n",
       "      <th id=\"T_14f15_level0_row2\" class=\"row_heading level0 row2\" >kappa_rank2rank_onlypos_max</th>\n",
       "      <th id=\"T_14f15_level1_row2\" class=\"row_heading level1 row2\" >0.100000</th>\n",
       "      <td id=\"T_14f15_row2_col0\" class=\"data row2 col0\" >-</td>\n",
       "      <td id=\"T_14f15_row2_col1\" class=\"data row2 col1\" >-</td>\n",
       "      <td id=\"T_14f15_row2_col2\" class=\"data row2 col2\" >-</td>\n",
       "      <td id=\"T_14f15_row2_col3\" class=\"data row2 col3\" >0.449</td>\n",
       "      <td id=\"T_14f15_row2_col4\" class=\"data row2 col4\" >-</td>\n",
       "      <td id=\"T_14f15_row2_col5\" class=\"data row2 col5\" >-</td>\n",
       "      <td id=\"T_14f15_row2_col6\" class=\"data row2 col6\" >-</td>\n",
       "      <td id=\"T_14f15_row2_col7\" class=\"data row2 col7\" >-</td>\n",
       "      <td id=\"T_14f15_row2_col8\" class=\"data row2 col8\" >-</td>\n",
       "      <td id=\"T_14f15_row2_col9\" class=\"data row2 col9\" >-</td>\n",
       "      <td id=\"T_14f15_row2_col10\" class=\"data row2 col10\" >-</td>\n",
       "      <td id=\"T_14f15_row2_col11\" class=\"data row2 col11\" >-</td>\n",
       "      <td id=\"T_14f15_row2_col12\" class=\"data row2 col12\" >-</td>\n",
       "      <td id=\"T_14f15_row2_col13\" class=\"data row2 col13\" >-</td>\n",
       "      <td id=\"T_14f15_row2_col14\" class=\"data row2 col14\" >-</td>\n",
       "      <td id=\"T_14f15_row2_col15\" class=\"data row2 col15\" >-</td>\n",
       "      <td id=\"T_14f15_row2_col16\" class=\"data row2 col16\" >-</td>\n",
       "      <td id=\"T_14f15_row2_col17\" class=\"data row2 col17\" >-</td>\n",
       "    </tr>\n",
       "    <tr>\n",
       "      <th id=\"T_14f15_level0_row3\" class=\"row_heading level0 row3\" >kappa_rank2rank_onlypos_min</th>\n",
       "      <th id=\"T_14f15_level1_row3\" class=\"row_heading level1 row3\" >0.200000</th>\n",
       "      <td id=\"T_14f15_row3_col0\" class=\"data row3 col0\" >0.361</td>\n",
       "      <td id=\"T_14f15_row3_col1\" class=\"data row3 col1\" >0.278</td>\n",
       "      <td id=\"T_14f15_row3_col2\" class=\"data row3 col2\" >0.213</td>\n",
       "      <td id=\"T_14f15_row3_col3\" class=\"data row3 col3\" >0.513</td>\n",
       "      <td id=\"T_14f15_row3_col4\" class=\"data row3 col4\" >0.443</td>\n",
       "      <td id=\"T_14f15_row3_col5\" class=\"data row3 col5\" >0.450</td>\n",
       "      <td id=\"T_14f15_row3_col6\" class=\"data row3 col6\" >0.409</td>\n",
       "      <td id=\"T_14f15_row3_col7\" class=\"data row3 col7\" >0.280</td>\n",
       "      <td id=\"T_14f15_row3_col8\" class=\"data row3 col8\" >0.329</td>\n",
       "      <td id=\"T_14f15_row3_col9\" class=\"data row3 col9\" >0.503</td>\n",
       "      <td id=\"T_14f15_row3_col10\" class=\"data row3 col10\" >0.535</td>\n",
       "      <td id=\"T_14f15_row3_col11\" class=\"data row3 col11\" >0.468</td>\n",
       "      <td id=\"T_14f15_row3_col12\" class=\"data row3 col12\" >0.541</td>\n",
       "      <td id=\"T_14f15_row3_col13\" class=\"data row3 col13\" >0.485</td>\n",
       "      <td id=\"T_14f15_row3_col14\" class=\"data row3 col14\" >0.546</td>\n",
       "      <td id=\"T_14f15_row3_col15\" class=\"data row3 col15\" >0.480</td>\n",
       "      <td id=\"T_14f15_row3_col16\" class=\"data row3 col16\" >0.574</td>\n",
       "      <td id=\"T_14f15_row3_col17\" class=\"data row3 col17\" >0.554</td>\n",
       "    </tr>\n",
       "  </tbody>\n",
       "</table>\n"
      ],
      "text/plain": [
       "<pandas.io.formats.style.Styler at 0x7f88e1093bb0>"
      ]
     },
     "metadata": {},
     "output_type": "display_data"
    },
    {
     "name": "stdout",
     "output_type": "stream",
     "text": [
      "Best f1: 0.5741\n",
      "MA_DATASET=placetypes;MA_LANGUAGE=en;MA_DEBUG=False;MA_PP_COMPONENTS=none;MA_TRANSLATE_POLICY=onlyorig;MA_MIN_WORDS_PER_DESC=50;MA_QUANTIFICATION_MEASURE=tfidf;MA_EMBED_ALGO=mds;MA_EMBED_DIMENSIONS=200;MA_EXTRACTION_METHOD=all;MA_DCM_QUANT_MEASURE=ppmi;MA_KAPPA_WEIGHTS=quadratic;MA_CLASSIFIER_SUCCMETRIC=kappa_rank2rank_onlypos_min;MA_PRIM_LAMBDA=0.5;MA_SEC_LAMBDA=0.2;MA_CLUSTER_DIRECTION_ALGO=reclassify\n",
      "cluster_reprs\n"
     ]
    },
    {
     "data": {
      "text/markdown": [
       "Best f1: **0.5741** <br><br> "
      ],
      "text/plain": [
       "<IPython.core.display.Markdown object>"
      ]
     },
     "metadata": {},
     "output_type": "display_data"
    }
   ],
   "source": [
    "metric = \"f1\"\n",
    "firsttime = True\n",
    "for target in [\"Geonames\", \"Foursquare\"]:\n",
    "    for dt_depth in [1,3,None]:\n",
    "        display(Markdown(f\"### Best for: {target}, depth {dt_depth}\"))\n",
    "        conf, perf = get_best_conf(target, verbose=True, forward_verbose=firsttime, balance_classes=True, one_vs_rest=True, dt_depth=dt_depth, test_percentage_crossval=0.3, metric=metric)\n",
    "        firsttime = False\n",
    "        \n",
    "        print_envvars(get_filename(conf, get_dependencies=False, doprint=False))\n",
    "        display(Markdown(f\"Best {metric}: **{perf:.4f}** <br><br> \"))"
   ]
  },
  {
   "cell_type": "markdown",
   "id": "f0cfa714-a953-462f-9ea5-4e86b2a6ae6d",
   "metadata": {},
   "source": [
    "<br><br><br><br><br><br>"
   ]
  },
  {
   "cell_type": "markdown",
   "id": "920bca6c-0aeb-4d65-a60b-92881e8f4bb1",
   "metadata": {},
   "source": [
    "# Find best overall config & run all for that one"
   ]
  },
  {
   "cell_type": "code",
   "execution_count": 3,
   "id": "11cd5de3-b359-42fd-abf1-f49c26523b43",
   "metadata": {},
   "outputs": [
    {
     "data": {
      "text/markdown": [
       "<span style=\"font-size:11pt\">There are 43 different parameter-combis for dataset <span style=\"color: #0000ff\">placetypes</span>:</span>"
      ],
      "text/plain": [
       "<IPython.core.display.Markdown object>"
      ]
     },
     "metadata": {},
     "output_type": "display_data"
    },
    {
     "data": {
      "text/plain": [
       "{'dataset': 'placetypes',\n",
       " 'language': 'en',\n",
       " 'debug': 'False',\n",
       " 'pp_components': 'none',\n",
       " 'translate_policy': 'onlyorig',\n",
       " 'min_words_per_desc': '50',\n",
       " 'quantification_measure': ['ppmi', 'tfidf'],\n",
       " 'embed_algo': 'mds',\n",
       " 'embed_dimensions': ['3', '50', '200'],\n",
       " 'extraction_method': 'all',\n",
       " 'dcm_quant_measure': ['count', 'ppmi', 'tfidf'],\n",
       " 'kappa_weights': 'quadratic',\n",
       " 'classifier_succmetric': ['kappa_count2rank_onlypos',\n",
       "  'kappa_digitized_onlypos_2',\n",
       "  'kappa_rank2rank_onlypos_max',\n",
       "  'kappa_rank2rank_onlypos_min'],\n",
       " 'prim_lambda': '0.5',\n",
       " 'sec_lambda': ['0.1', '0.2'],\n",
       " 'cluster_direction_algo': 'reclassify'}"
      ]
     },
     "metadata": {},
     "output_type": "display_data"
    },
    {
     "data": {
      "application/vnd.jupyter.widget-view+json": {
       "model_id": "7d7ab4133a474f0d8493525126c92d74",
       "version_major": 2,
       "version_minor": 0
      },
      "text/plain": [
       "Getting Best-Performing Config [5 procs]:   0%|          | 0/43 [00:00<?, ?it/s]"
      ]
     },
     "metadata": {},
     "output_type": "display_data"
    },
    {
     "name": "stderr",
     "output_type": "stream",
     "text": [
      "/home/chris/miniconda3/envs/create_cs/lib/python3.10/site-packages/sklearn/metrics/_classification.py:1580: UndefinedMetricWarning: F-score is ill-defined and being set to 0.0 due to no true nor predicted samples. Use `zero_division` parameter to control this behavior.\n"
     ]
    },
    {
     "data": {
      "text/html": [
       "<style type=\"text/css\">\n",
       "#T_2035d th {\n",
       "  vertical-align: top;\n",
       "  text-align: left;\n",
       "}\n",
       "#T_2035d_row1_col10 {\n",
       "  background-color: lightgreen;\n",
       "}\n",
       "</style>\n",
       "<table id=\"T_2035d\">\n",
       "  <thead>\n",
       "    <tr>\n",
       "      <th class=\"blank\" >&nbsp;</th>\n",
       "      <th class=\"blank level0\" >&nbsp;</th>\n",
       "      <th id=\"T_2035d_level0_col0\" class=\"col_heading level0 col0\" colspan=\"18\">f1</th>\n",
       "    </tr>\n",
       "    <tr>\n",
       "      <th class=\"blank\" >&nbsp;</th>\n",
       "      <th class=\"index_name level1\" >quantification_measure</th>\n",
       "      <th id=\"T_2035d_level1_col0\" class=\"col_heading level1 col0\" colspan=\"9\">ppmi</th>\n",
       "      <th id=\"T_2035d_level1_col9\" class=\"col_heading level1 col9\" colspan=\"9\">tfidf</th>\n",
       "    </tr>\n",
       "    <tr>\n",
       "      <th class=\"blank\" >&nbsp;</th>\n",
       "      <th class=\"index_name level2\" >embed_dimensions</th>\n",
       "      <th id=\"T_2035d_level2_col0\" class=\"col_heading level2 col0\" colspan=\"3\">3</th>\n",
       "      <th id=\"T_2035d_level2_col3\" class=\"col_heading level2 col3\" colspan=\"3\">50</th>\n",
       "      <th id=\"T_2035d_level2_col6\" class=\"col_heading level2 col6\" colspan=\"3\">200</th>\n",
       "      <th id=\"T_2035d_level2_col9\" class=\"col_heading level2 col9\" colspan=\"3\">3</th>\n",
       "      <th id=\"T_2035d_level2_col12\" class=\"col_heading level2 col12\" colspan=\"3\">50</th>\n",
       "      <th id=\"T_2035d_level2_col15\" class=\"col_heading level2 col15\" colspan=\"3\">200</th>\n",
       "    </tr>\n",
       "    <tr>\n",
       "      <th class=\"blank\" >&nbsp;</th>\n",
       "      <th class=\"index_name level3\" >dcm_quant_measure</th>\n",
       "      <th id=\"T_2035d_level3_col0\" class=\"col_heading level3 col0\" >count</th>\n",
       "      <th id=\"T_2035d_level3_col1\" class=\"col_heading level3 col1\" >ppmi</th>\n",
       "      <th id=\"T_2035d_level3_col2\" class=\"col_heading level3 col2\" >tfidf</th>\n",
       "      <th id=\"T_2035d_level3_col3\" class=\"col_heading level3 col3\" >count</th>\n",
       "      <th id=\"T_2035d_level3_col4\" class=\"col_heading level3 col4\" >ppmi</th>\n",
       "      <th id=\"T_2035d_level3_col5\" class=\"col_heading level3 col5\" >tfidf</th>\n",
       "      <th id=\"T_2035d_level3_col6\" class=\"col_heading level3 col6\" >count</th>\n",
       "      <th id=\"T_2035d_level3_col7\" class=\"col_heading level3 col7\" >ppmi</th>\n",
       "      <th id=\"T_2035d_level3_col8\" class=\"col_heading level3 col8\" >tfidf</th>\n",
       "      <th id=\"T_2035d_level3_col9\" class=\"col_heading level3 col9\" >count</th>\n",
       "      <th id=\"T_2035d_level3_col10\" class=\"col_heading level3 col10\" >ppmi</th>\n",
       "      <th id=\"T_2035d_level3_col11\" class=\"col_heading level3 col11\" >tfidf</th>\n",
       "      <th id=\"T_2035d_level3_col12\" class=\"col_heading level3 col12\" >count</th>\n",
       "      <th id=\"T_2035d_level3_col13\" class=\"col_heading level3 col13\" >ppmi</th>\n",
       "      <th id=\"T_2035d_level3_col14\" class=\"col_heading level3 col14\" >tfidf</th>\n",
       "      <th id=\"T_2035d_level3_col15\" class=\"col_heading level3 col15\" >count</th>\n",
       "      <th id=\"T_2035d_level3_col16\" class=\"col_heading level3 col16\" >ppmi</th>\n",
       "      <th id=\"T_2035d_level3_col17\" class=\"col_heading level3 col17\" >tfidf</th>\n",
       "    </tr>\n",
       "    <tr>\n",
       "      <th class=\"index_name level0\" >classifier_succmetric</th>\n",
       "      <th class=\"index_name level1\" >sec_lambda</th>\n",
       "      <th class=\"blank col0\" >&nbsp;</th>\n",
       "      <th class=\"blank col1\" >&nbsp;</th>\n",
       "      <th class=\"blank col2\" >&nbsp;</th>\n",
       "      <th class=\"blank col3\" >&nbsp;</th>\n",
       "      <th class=\"blank col4\" >&nbsp;</th>\n",
       "      <th class=\"blank col5\" >&nbsp;</th>\n",
       "      <th class=\"blank col6\" >&nbsp;</th>\n",
       "      <th class=\"blank col7\" >&nbsp;</th>\n",
       "      <th class=\"blank col8\" >&nbsp;</th>\n",
       "      <th class=\"blank col9\" >&nbsp;</th>\n",
       "      <th class=\"blank col10\" >&nbsp;</th>\n",
       "      <th class=\"blank col11\" >&nbsp;</th>\n",
       "      <th class=\"blank col12\" >&nbsp;</th>\n",
       "      <th class=\"blank col13\" >&nbsp;</th>\n",
       "      <th class=\"blank col14\" >&nbsp;</th>\n",
       "      <th class=\"blank col15\" >&nbsp;</th>\n",
       "      <th class=\"blank col16\" >&nbsp;</th>\n",
       "      <th class=\"blank col17\" >&nbsp;</th>\n",
       "    </tr>\n",
       "  </thead>\n",
       "  <tbody>\n",
       "    <tr>\n",
       "      <th id=\"T_2035d_level0_row0\" class=\"row_heading level0 row0\" >kappa_count2rank_onlypos</th>\n",
       "      <th id=\"T_2035d_level1_row0\" class=\"row_heading level1 row0\" >0.200000</th>\n",
       "      <td id=\"T_2035d_row0_col0\" class=\"data row0 col0\" >0.381</td>\n",
       "      <td id=\"T_2035d_row0_col1\" class=\"data row0 col1\" >-</td>\n",
       "      <td id=\"T_2035d_row0_col2\" class=\"data row0 col2\" >-</td>\n",
       "      <td id=\"T_2035d_row0_col3\" class=\"data row0 col3\" >0.431</td>\n",
       "      <td id=\"T_2035d_row0_col4\" class=\"data row0 col4\" >-</td>\n",
       "      <td id=\"T_2035d_row0_col5\" class=\"data row0 col5\" >-</td>\n",
       "      <td id=\"T_2035d_row0_col6\" class=\"data row0 col6\" >0.396</td>\n",
       "      <td id=\"T_2035d_row0_col7\" class=\"data row0 col7\" >-</td>\n",
       "      <td id=\"T_2035d_row0_col8\" class=\"data row0 col8\" >-</td>\n",
       "      <td id=\"T_2035d_row0_col9\" class=\"data row0 col9\" >0.473</td>\n",
       "      <td id=\"T_2035d_row0_col10\" class=\"data row0 col10\" >-</td>\n",
       "      <td id=\"T_2035d_row0_col11\" class=\"data row0 col11\" >-</td>\n",
       "      <td id=\"T_2035d_row0_col12\" class=\"data row0 col12\" >0.401</td>\n",
       "      <td id=\"T_2035d_row0_col13\" class=\"data row0 col13\" >-</td>\n",
       "      <td id=\"T_2035d_row0_col14\" class=\"data row0 col14\" >-</td>\n",
       "      <td id=\"T_2035d_row0_col15\" class=\"data row0 col15\" >0.388</td>\n",
       "      <td id=\"T_2035d_row0_col16\" class=\"data row0 col16\" >-</td>\n",
       "      <td id=\"T_2035d_row0_col17\" class=\"data row0 col17\" >-</td>\n",
       "    </tr>\n",
       "    <tr>\n",
       "      <th id=\"T_2035d_level0_row1\" class=\"row_heading level0 row1\" >kappa_digitized_onlypos_2</th>\n",
       "      <th id=\"T_2035d_level1_row1\" class=\"row_heading level1 row1\" >0.200000</th>\n",
       "      <td id=\"T_2035d_row1_col0\" class=\"data row1 col0\" >0.266</td>\n",
       "      <td id=\"T_2035d_row1_col1\" class=\"data row1 col1\" >0.286</td>\n",
       "      <td id=\"T_2035d_row1_col2\" class=\"data row1 col2\" >0.201</td>\n",
       "      <td id=\"T_2035d_row1_col3\" class=\"data row1 col3\" >0.203</td>\n",
       "      <td id=\"T_2035d_row1_col4\" class=\"data row1 col4\" >0.257</td>\n",
       "      <td id=\"T_2035d_row1_col5\" class=\"data row1 col5\" >0.350</td>\n",
       "      <td id=\"T_2035d_row1_col6\" class=\"data row1 col6\" >0.370</td>\n",
       "      <td id=\"T_2035d_row1_col7\" class=\"data row1 col7\" >0.407</td>\n",
       "      <td id=\"T_2035d_row1_col8\" class=\"data row1 col8\" >0.379</td>\n",
       "      <td id=\"T_2035d_row1_col9\" class=\"data row1 col9\" >0.392</td>\n",
       "      <td id=\"T_2035d_row1_col10\" class=\"data row1 col10\" >0.507</td>\n",
       "      <td id=\"T_2035d_row1_col11\" class=\"data row1 col11\" >0.251</td>\n",
       "      <td id=\"T_2035d_row1_col12\" class=\"data row1 col12\" >0.403</td>\n",
       "      <td id=\"T_2035d_row1_col13\" class=\"data row1 col13\" >0.440</td>\n",
       "      <td id=\"T_2035d_row1_col14\" class=\"data row1 col14\" >0.373</td>\n",
       "      <td id=\"T_2035d_row1_col15\" class=\"data row1 col15\" >0.452</td>\n",
       "      <td id=\"T_2035d_row1_col16\" class=\"data row1 col16\" >0.381</td>\n",
       "      <td id=\"T_2035d_row1_col17\" class=\"data row1 col17\" >0.370</td>\n",
       "    </tr>\n",
       "    <tr>\n",
       "      <th id=\"T_2035d_level0_row2\" class=\"row_heading level0 row2\" >kappa_rank2rank_onlypos_max</th>\n",
       "      <th id=\"T_2035d_level1_row2\" class=\"row_heading level1 row2\" >0.100000</th>\n",
       "      <td id=\"T_2035d_row2_col0\" class=\"data row2 col0\" >-</td>\n",
       "      <td id=\"T_2035d_row2_col1\" class=\"data row2 col1\" >-</td>\n",
       "      <td id=\"T_2035d_row2_col2\" class=\"data row2 col2\" >-</td>\n",
       "      <td id=\"T_2035d_row2_col3\" class=\"data row2 col3\" >0.425</td>\n",
       "      <td id=\"T_2035d_row2_col4\" class=\"data row2 col4\" >-</td>\n",
       "      <td id=\"T_2035d_row2_col5\" class=\"data row2 col5\" >-</td>\n",
       "      <td id=\"T_2035d_row2_col6\" class=\"data row2 col6\" >-</td>\n",
       "      <td id=\"T_2035d_row2_col7\" class=\"data row2 col7\" >-</td>\n",
       "      <td id=\"T_2035d_row2_col8\" class=\"data row2 col8\" >-</td>\n",
       "      <td id=\"T_2035d_row2_col9\" class=\"data row2 col9\" >-</td>\n",
       "      <td id=\"T_2035d_row2_col10\" class=\"data row2 col10\" >-</td>\n",
       "      <td id=\"T_2035d_row2_col11\" class=\"data row2 col11\" >-</td>\n",
       "      <td id=\"T_2035d_row2_col12\" class=\"data row2 col12\" >-</td>\n",
       "      <td id=\"T_2035d_row2_col13\" class=\"data row2 col13\" >-</td>\n",
       "      <td id=\"T_2035d_row2_col14\" class=\"data row2 col14\" >-</td>\n",
       "      <td id=\"T_2035d_row2_col15\" class=\"data row2 col15\" >-</td>\n",
       "      <td id=\"T_2035d_row2_col16\" class=\"data row2 col16\" >-</td>\n",
       "      <td id=\"T_2035d_row2_col17\" class=\"data row2 col17\" >-</td>\n",
       "    </tr>\n",
       "    <tr>\n",
       "      <th id=\"T_2035d_level0_row3\" class=\"row_heading level0 row3\" >kappa_rank2rank_onlypos_min</th>\n",
       "      <th id=\"T_2035d_level1_row3\" class=\"row_heading level1 row3\" >0.200000</th>\n",
       "      <td id=\"T_2035d_row3_col0\" class=\"data row3 col0\" >0.308</td>\n",
       "      <td id=\"T_2035d_row3_col1\" class=\"data row3 col1\" >0.428</td>\n",
       "      <td id=\"T_2035d_row3_col2\" class=\"data row3 col2\" >0.363</td>\n",
       "      <td id=\"T_2035d_row3_col3\" class=\"data row3 col3\" >0.318</td>\n",
       "      <td id=\"T_2035d_row3_col4\" class=\"data row3 col4\" >0.286</td>\n",
       "      <td id=\"T_2035d_row3_col5\" class=\"data row3 col5\" >0.424</td>\n",
       "      <td id=\"T_2035d_row3_col6\" class=\"data row3 col6\" >0.328</td>\n",
       "      <td id=\"T_2035d_row3_col7\" class=\"data row3 col7\" >0.390</td>\n",
       "      <td id=\"T_2035d_row3_col8\" class=\"data row3 col8\" >0.333</td>\n",
       "      <td id=\"T_2035d_row3_col9\" class=\"data row3 col9\" >0.469</td>\n",
       "      <td id=\"T_2035d_row3_col10\" class=\"data row3 col10\" >0.494</td>\n",
       "      <td id=\"T_2035d_row3_col11\" class=\"data row3 col11\" >0.480</td>\n",
       "      <td id=\"T_2035d_row3_col12\" class=\"data row3 col12\" >0.452</td>\n",
       "      <td id=\"T_2035d_row3_col13\" class=\"data row3 col13\" >0.445</td>\n",
       "      <td id=\"T_2035d_row3_col14\" class=\"data row3 col14\" >0.473</td>\n",
       "      <td id=\"T_2035d_row3_col15\" class=\"data row3 col15\" >0.449</td>\n",
       "      <td id=\"T_2035d_row3_col16\" class=\"data row3 col16\" >0.387</td>\n",
       "      <td id=\"T_2035d_row3_col17\" class=\"data row3 col17\" >0.464</td>\n",
       "    </tr>\n",
       "  </tbody>\n",
       "</table>\n"
      ],
      "text/plain": [
       "<pandas.io.formats.style.Styler at 0x7ff366ef5d50>"
      ]
     },
     "metadata": {},
     "output_type": "display_data"
    },
    {
     "name": "stdout",
     "output_type": "stream",
     "text": [
      "Best f1: 0.5066\n"
     ]
    },
    {
     "data": {
      "text/markdown": [
       "<span style=\"font-size:11pt\">env_vars demanded config EMBED_DIMENSIONS to be <span style=\"color: #ff0000\">200</span>, but force overwrites it to <span style=\"color: #0000ff\">3</span></span>"
      ],
      "text/plain": [
       "<IPython.core.display.Markdown object>"
      ]
     },
     "metadata": {},
     "output_type": "display_data"
    },
    {
     "data": {
      "text/markdown": [
       "<span style=\"font-size:11pt\">Running with the following settings [<span style=\"color: #00ff00\">2c0cb71cb9</span>]: CLASSIFIER_SUCCMETRIC: <span style=\"color: #ff0000\">kappa_digitized_onlypos_2</span>, CLUSTER_DIRECTION_ALGO: <span style=\"color: #0000ff\">reclassify</span>, DATASET: <span style=\"color: #ff0000\">placetypes</span>, DCM_QUANT_MEASURE: <span style=\"color: #ff0000\">ppmi</span>, DEBUG: <span style=\"color: #0000ff\">False</span>, EMBED_ALGO: <span style=\"color: #0000ff\">mds</span>, EMBED_DIMENSIONS: <span style=\"color: #ff0000\">3</span>, EXTRACTION_METHOD: <span style=\"color: #ff0000\">all</span>, KAPPA_WEIGHTS: <span style=\"color: #0000ff\">quadratic</span>, LANGUAGE: <span style=\"color: #ff0000\">en</span>, MIN_WORDS_PER_DESC: <span style=\"color: #0000ff\">50</span>, PP_COMPONENTS: <span style=\"color: #ff0000\">none</span>, PRIM_LAMBDA: <span style=\"color: #0000ff\">0.5</span>, QUANTIFICATION_MEASURE: <span style=\"color: #ff0000\">tfidf</span>, RANDOM_SEED: <span style=\"color: #ff0000\">None</span>, SEC_LAMBDA: <span style=\"color: #ff0000\">0.2</span>, TRANSLATE_POLICY: <span style=\"color: #0000ff\">onlyorig</span></span>"
      ],
      "text/plain": [
       "<IPython.core.display.Markdown object>"
      ]
     },
     "metadata": {},
     "output_type": "display_data"
    },
    {
     "name": "stdout",
     "output_type": "stream",
     "text": [
      "MA_DATASET=placetypes;MA_LANGUAGE=en;MA_DEBUG=False;MA_PP_COMPONENTS=none;MA_TRANSLATE_POLICY=onlyorig;MA_MIN_WORDS_PER_DESC=50;MA_QUANTIFICATION_MEASURE=tfidf;MA_EMBED_ALGO=mds;MA_EMBED_DIMENSIONS=3;MA_EXTRACTION_METHOD=all;MA_DCM_QUANT_MEASURE=ppmi;MA_KAPPA_WEIGHTS=quadratic;MA_CLASSIFIER_SUCCMETRIC=kappa_digitized_onlypos_2;MA_PRIM_LAMBDA=0.5;MA_SEC_LAMBDA=0.2;MA_CLUSTER_DIRECTION_ALGO=reclassify\n",
      "cluster_reprs\n"
     ]
    }
   ],
   "source": [
    "conf, perf = get_best_conf(\"Geonames\", verbose=True, balance_classes=True, one_vs_rest=True, dt_depth=1, test_percentage_crossval=0.3, metric=\"f1\")\n",
    "\n",
    "ctx = SnakeContext.loader_context(config=conf, silent=False)\n",
    "descriptions, clusters, embedding = ctx.load(\"pp_descriptions\", \"clusters\", \"embedding\", \n",
    "                  loaders=dict(pp_descriptions=DescriptionList.from_json, clusters=cluster_loader, embedding=lambda **args: args[\"embedding\"].embedding_))\n",
    "\n",
    "print_envvars(get_filename(conf, get_dependencies=False, doprint=False))"
   ]
  },
  {
   "cell_type": "code",
   "execution_count": 4,
   "id": "70a29de5-185f-4b34-851a-4d1845ec78f7",
   "metadata": {
    "scrolled": true,
    "tags": []
   },
   "outputs": [
    {
     "data": {
      "text/markdown": [
       "<span style=\"font-size:11pt\">====================================================================================================</span>"
      ],
      "text/plain": [
       "<IPython.core.display.Markdown object>"
      ]
     },
     "metadata": {},
     "output_type": "display_data"
    },
    {
     "data": {
      "text/markdown": [
       "<span style=\"font-size:11pt\">Using classes from Foursquare - 391/1383 entities have a class</span>"
      ],
      "text/plain": [
       "<IPython.core.display.Markdown object>"
      ]
     },
     "metadata": {},
     "output_type": "display_data"
    },
    {
     "data": {
      "text/markdown": [
       "<span style=\"font-size:11pt\">returning CLUS_REP_ALGO from default: <span style=\"color: #0000ff\">top_1</span></span>"
      ],
      "text/plain": [
       "<IPython.core.display.Markdown object>"
      ]
     },
     "metadata": {},
     "output_type": "display_data"
    },
    {
     "data": {
      "text/markdown": [
       "<span style=\"font-size:11pt\">Labels (9 classes): <span style=\"color: #0000ff\">Shops&Services</span>: 88, <span style=\"color: #0000ff\">Food</span>: 82, <span style=\"color: #0000ff\">Travel&Transport</span>: 35, <span style=\"color: #0000ff\">Professional&Other</span>: 47, <span style=\"color: #0000ff\">Residences</span>: 6, <span style=\"color: #0000ff\">Arts&Entertainment</span>: 39, <span style=\"color: #0000ff\">NightlifeSpots</span>: 17, <span style=\"color: #0000ff\">GreatOutdoors</span>: 44, <span style=\"color: #0000ff\">College&University</span>: 33</span>"
      ],
      "text/plain": [
       "<IPython.core.display.Markdown object>"
      ]
     },
     "metadata": {},
     "output_type": "display_data"
    },
    {
     "data": {
      "text/markdown": [
       "<span style=\"font-size:11pt\">Eval-Settings: metric: <span style=\"color: #0000ff\">accuracy</span>, type: <span style=\"color: #0000ff\">one-vs-rest</span>, DT-Depth: <span style=\"color: #0000ff\">1</span>, train-test-split:<span style=\"color: #0000ff\"> 33.0% in test-set </span></span>"
      ],
      "text/plain": [
       "<IPython.core.display.Markdown object>"
      ]
     },
     "metadata": {},
     "output_type": "display_data"
    },
    {
     "data": {
      "text/markdown": [
       "<span style=\"font-size:11pt\">Per-Class-Scores: Food: 0.84, NightlifeSpots: 0.86, Travel&Transport: 0.68, Shops&Services: 0.79, Professional&Other: 0.58, Arts&Entertainment: 0.48, College&University: 0.86, GreatOutdoors: 0.63, Residences: 0.57</span>"
      ],
      "text/plain": [
       "<IPython.core.display.Markdown object>"
      ]
     },
     "metadata": {},
     "output_type": "display_data"
    },
    {
     "data": {
      "text/markdown": [
       "<span style=\"font-size:11pt\">Unweighted Mean accuracy: 69.91%</span>"
      ],
      "text/plain": [
       "<IPython.core.display.Markdown object>"
      ]
     },
     "metadata": {},
     "output_type": "display_data"
    },
    {
     "data": {
      "text/markdown": [
       "<span style=\"font-size:11pt\">Weighted Mean accuracy: 72.23%</span>"
      ],
      "text/plain": [
       "<IPython.core.display.Markdown object>"
      ]
     },
     "metadata": {},
     "output_type": "display_data"
    },
    {
     "data": {
      "text/markdown": [
       "<span style=\"font-size:11pt\">====================================================================================================</span>"
      ],
      "text/plain": [
       "<IPython.core.display.Markdown object>"
      ]
     },
     "metadata": {},
     "output_type": "display_data"
    },
    {
     "data": {
      "text/markdown": [
       "<span style=\"font-size:11pt\">Using classes from Foursquare - 391/1383 entities have a class</span>"
      ],
      "text/plain": [
       "<IPython.core.display.Markdown object>"
      ]
     },
     "metadata": {},
     "output_type": "display_data"
    },
    {
     "data": {
      "text/markdown": [
       "<span style=\"font-size:11pt\">Labels (9 classes): <span style=\"color: #0000ff\">Shops&Services</span>: 88, <span style=\"color: #0000ff\">Food</span>: 82, <span style=\"color: #0000ff\">Travel&Transport</span>: 35, <span style=\"color: #0000ff\">Professional&Other</span>: 47, <span style=\"color: #0000ff\">Residences</span>: 6, <span style=\"color: #0000ff\">Arts&Entertainment</span>: 39, <span style=\"color: #0000ff\">NightlifeSpots</span>: 17, <span style=\"color: #0000ff\">GreatOutdoors</span>: 44, <span style=\"color: #0000ff\">College&University</span>: 33</span>"
      ],
      "text/plain": [
       "<IPython.core.display.Markdown object>"
      ]
     },
     "metadata": {},
     "output_type": "display_data"
    },
    {
     "data": {
      "text/markdown": [
       "<span style=\"font-size:11pt\">Eval-Settings: metric: <span style=\"color: #0000ff\">f1</span>, type: <span style=\"color: #0000ff\">one-vs-rest</span>, DT-Depth: <span style=\"color: #0000ff\">1</span>, train-test-split:<span style=\"color: #0000ff\"> 33.0% in test-set </span></span>"
      ],
      "text/plain": [
       "<IPython.core.display.Markdown object>"
      ]
     },
     "metadata": {},
     "output_type": "display_data"
    },
    {
     "data": {
      "text/markdown": [
       "<span style=\"font-size:11pt\">Per-Class-Scores: Food: 0.72, NightlifeSpots: 0.38, Travel&Transport: 0.31, Shops&Services: 0.69, Professional&Other: 0.46, Arts&Entertainment: 0.13, College&University: 0.35, GreatOutdoors: 0.28, Residences: 0.05</span>"
      ],
      "text/plain": [
       "<IPython.core.display.Markdown object>"
      ]
     },
     "metadata": {},
     "output_type": "display_data"
    },
    {
     "data": {
      "text/markdown": [
       "<span style=\"font-size:11pt\">Unweighted Mean f1: 37.40%</span>"
      ],
      "text/plain": [
       "<IPython.core.display.Markdown object>"
      ]
     },
     "metadata": {},
     "output_type": "display_data"
    },
    {
     "data": {
      "text/markdown": [
       "<span style=\"font-size:11pt\">Weighted Mean f1: 48.10%</span>"
      ],
      "text/plain": [
       "<IPython.core.display.Markdown object>"
      ]
     },
     "metadata": {},
     "output_type": "display_data"
    },
    {
     "data": {
      "text/markdown": [
       "<span style=\"font-size:11pt\">====================================================================================================</span>"
      ],
      "text/plain": [
       "<IPython.core.display.Markdown object>"
      ]
     },
     "metadata": {},
     "output_type": "display_data"
    },
    {
     "data": {
      "text/markdown": [
       "<span style=\"font-size:11pt\">Using classes from Foursquare - 391/1383 entities have a class</span>"
      ],
      "text/plain": [
       "<IPython.core.display.Markdown object>"
      ]
     },
     "metadata": {},
     "output_type": "display_data"
    },
    {
     "data": {
      "text/markdown": [
       "<span style=\"font-size:11pt\">Labels (9 classes): <span style=\"color: #0000ff\">Shops&Services</span>: 88, <span style=\"color: #0000ff\">Food</span>: 82, <span style=\"color: #0000ff\">Travel&Transport</span>: 35, <span style=\"color: #0000ff\">Professional&Other</span>: 47, <span style=\"color: #0000ff\">Residences</span>: 6, <span style=\"color: #0000ff\">Arts&Entertainment</span>: 39, <span style=\"color: #0000ff\">NightlifeSpots</span>: 17, <span style=\"color: #0000ff\">GreatOutdoors</span>: 44, <span style=\"color: #0000ff\">College&University</span>: 33</span>"
      ],
      "text/plain": [
       "<IPython.core.display.Markdown object>"
      ]
     },
     "metadata": {},
     "output_type": "display_data"
    },
    {
     "data": {
      "text/markdown": [
       "<span style=\"font-size:11pt\">Eval-Settings: metric: <span style=\"color: #0000ff\">accuracy</span>, type: <span style=\"color: #0000ff\">one-vs-rest</span>, DT-Depth: <span style=\"color: #0000ff\">1</span>, train-test-split:<span style=\"color: #0000ff\"> 33.0% in test-set </span></span>"
      ],
      "text/plain": [
       "<IPython.core.display.Markdown object>"
      ]
     },
     "metadata": {},
     "output_type": "display_data"
    },
    {
     "data": {
      "text/markdown": [
       "<span style=\"font-size:11pt\">Per-Class-Scores: Food: 0.83, NightlifeSpots: 0.96, Travel&Transport: 0.93, Shops&Services: 0.82, Professional&Other: 0.87, Arts&Entertainment: 0.91, College&University: 0.91, GreatOutdoors: 0.90, Residences: 0.98</span>"
      ],
      "text/plain": [
       "<IPython.core.display.Markdown object>"
      ]
     },
     "metadata": {},
     "output_type": "display_data"
    },
    {
     "data": {
      "text/markdown": [
       "<span style=\"font-size:11pt\">Unweighted Mean accuracy: 90.09%</span>"
      ],
      "text/plain": [
       "<IPython.core.display.Markdown object>"
      ]
     },
     "metadata": {},
     "output_type": "display_data"
    },
    {
     "data": {
      "text/markdown": [
       "<span style=\"font-size:11pt\">Weighted Mean accuracy: 87.25%</span>"
      ],
      "text/plain": [
       "<IPython.core.display.Markdown object>"
      ]
     },
     "metadata": {},
     "output_type": "display_data"
    },
    {
     "data": {
      "text/markdown": [
       "<span style=\"font-size:11pt\">====================================================================================================</span>"
      ],
      "text/plain": [
       "<IPython.core.display.Markdown object>"
      ]
     },
     "metadata": {},
     "output_type": "display_data"
    },
    {
     "data": {
      "text/markdown": [
       "<span style=\"font-size:11pt\">Using classes from Foursquare - 391/1383 entities have a class</span>"
      ],
      "text/plain": [
       "<IPython.core.display.Markdown object>"
      ]
     },
     "metadata": {},
     "output_type": "display_data"
    },
    {
     "data": {
      "text/markdown": [
       "<span style=\"font-size:11pt\">Labels (9 classes): <span style=\"color: #0000ff\">Shops&Services</span>: 88, <span style=\"color: #0000ff\">Food</span>: 82, <span style=\"color: #0000ff\">Travel&Transport</span>: 35, <span style=\"color: #0000ff\">Professional&Other</span>: 47, <span style=\"color: #0000ff\">Residences</span>: 6, <span style=\"color: #0000ff\">Arts&Entertainment</span>: 39, <span style=\"color: #0000ff\">NightlifeSpots</span>: 17, <span style=\"color: #0000ff\">GreatOutdoors</span>: 44, <span style=\"color: #0000ff\">College&University</span>: 33</span>"
      ],
      "text/plain": [
       "<IPython.core.display.Markdown object>"
      ]
     },
     "metadata": {},
     "output_type": "display_data"
    },
    {
     "data": {
      "text/markdown": [
       "<span style=\"font-size:11pt\">Eval-Settings: metric: <span style=\"color: #0000ff\">f1</span>, type: <span style=\"color: #0000ff\">one-vs-rest</span>, DT-Depth: <span style=\"color: #0000ff\">1</span>, train-test-split:<span style=\"color: #0000ff\"> 33.0% in test-set </span></span>"
      ],
      "text/plain": [
       "<IPython.core.display.Markdown object>"
      ]
     },
     "metadata": {},
     "output_type": "display_data"
    },
    {
     "data": {
      "text/markdown": [
       "<span style=\"font-size:11pt\">Per-Class-Scores: Food: 0.62, NightlifeSpots: 0.00, Travel&Transport: 0.00, Shops&Services: 0.70, Professional&Other: 0.00, Arts&Entertainment: 0.00, College&University: 0.00, GreatOutdoors: 0.34, Residences: 0.00</span>"
      ],
      "text/plain": [
       "<IPython.core.display.Markdown object>"
      ]
     },
     "metadata": {},
     "output_type": "display_data"
    },
    {
     "data": {
      "text/markdown": [
       "<span style=\"font-size:11pt\">Unweighted Mean f1: 18.52%</span>"
      ],
      "text/plain": [
       "<IPython.core.display.Markdown object>"
      ]
     },
     "metadata": {},
     "output_type": "display_data"
    },
    {
     "data": {
      "text/markdown": [
       "<span style=\"font-size:11pt\">Weighted Mean f1: 32.68%</span>"
      ],
      "text/plain": [
       "<IPython.core.display.Markdown object>"
      ]
     },
     "metadata": {},
     "output_type": "display_data"
    },
    {
     "data": {
      "text/markdown": [
       "<span style=\"font-size:11pt\">====================================================================================================</span>"
      ],
      "text/plain": [
       "<IPython.core.display.Markdown object>"
      ]
     },
     "metadata": {},
     "output_type": "display_data"
    },
    {
     "data": {
      "text/markdown": [
       "<span style=\"font-size:11pt\">Using classes from Foursquare - 391/1383 entities have a class</span>"
      ],
      "text/plain": [
       "<IPython.core.display.Markdown object>"
      ]
     },
     "metadata": {},
     "output_type": "display_data"
    },
    {
     "data": {
      "text/markdown": [
       "<span style=\"font-size:11pt\">Labels (9 classes): <span style=\"color: #0000ff\">Shops&Services</span>: 88, <span style=\"color: #0000ff\">Food</span>: 82, <span style=\"color: #0000ff\">Travel&Transport</span>: 35, <span style=\"color: #0000ff\">Professional&Other</span>: 47, <span style=\"color: #0000ff\">Residences</span>: 6, <span style=\"color: #0000ff\">Arts&Entertainment</span>: 39, <span style=\"color: #0000ff\">NightlifeSpots</span>: 17, <span style=\"color: #0000ff\">GreatOutdoors</span>: 44, <span style=\"color: #0000ff\">College&University</span>: 33</span>"
      ],
      "text/plain": [
       "<IPython.core.display.Markdown object>"
      ]
     },
     "metadata": {},
     "output_type": "display_data"
    },
    {
     "data": {
      "text/markdown": [
       "<span style=\"font-size:11pt\">Eval-Settings: metric: <span style=\"color: #0000ff\">accuracy</span>, type: <span style=\"color: #0000ff\">one-vs-rest</span>, DT-Depth: <span style=\"color: #0000ff\">2</span>, train-test-split:<span style=\"color: #0000ff\"> 33.0% in test-set </span></span>"
      ],
      "text/plain": [
       "<IPython.core.display.Markdown object>"
      ]
     },
     "metadata": {},
     "output_type": "display_data"
    },
    {
     "data": {
      "text/markdown": [
       "<span style=\"font-size:11pt\">Per-Class-Scores: Food: 0.88, NightlifeSpots: 0.95, Travel&Transport: 0.71, Shops&Services: 0.85, Professional&Other: 0.76, Arts&Entertainment: 0.59, College&University: 0.92, GreatOutdoors: 0.71, Residences: 0.86</span>"
      ],
      "text/plain": [
       "<IPython.core.display.Markdown object>"
      ]
     },
     "metadata": {},
     "output_type": "display_data"
    },
    {
     "data": {
      "text/markdown": [
       "<span style=\"font-size:11pt\">Unweighted Mean accuracy: 80.34%</span>"
      ],
      "text/plain": [
       "<IPython.core.display.Markdown object>"
      ]
     },
     "metadata": {},
     "output_type": "display_data"
    },
    {
     "data": {
      "text/markdown": [
       "<span style=\"font-size:11pt\">Weighted Mean accuracy: 80.19%</span>"
      ],
      "text/plain": [
       "<IPython.core.display.Markdown object>"
      ]
     },
     "metadata": {},
     "output_type": "display_data"
    },
    {
     "data": {
      "text/markdown": [
       "<span style=\"font-size:11pt\">====================================================================================================</span>"
      ],
      "text/plain": [
       "<IPython.core.display.Markdown object>"
      ]
     },
     "metadata": {},
     "output_type": "display_data"
    },
    {
     "data": {
      "text/markdown": [
       "<span style=\"font-size:11pt\">Using classes from Foursquare - 391/1383 entities have a class</span>"
      ],
      "text/plain": [
       "<IPython.core.display.Markdown object>"
      ]
     },
     "metadata": {},
     "output_type": "display_data"
    },
    {
     "data": {
      "text/markdown": [
       "<span style=\"font-size:11pt\">Labels (9 classes): <span style=\"color: #0000ff\">Shops&Services</span>: 88, <span style=\"color: #0000ff\">Food</span>: 82, <span style=\"color: #0000ff\">Travel&Transport</span>: 35, <span style=\"color: #0000ff\">Professional&Other</span>: 47, <span style=\"color: #0000ff\">Residences</span>: 6, <span style=\"color: #0000ff\">Arts&Entertainment</span>: 39, <span style=\"color: #0000ff\">NightlifeSpots</span>: 17, <span style=\"color: #0000ff\">GreatOutdoors</span>: 44, <span style=\"color: #0000ff\">College&University</span>: 33</span>"
      ],
      "text/plain": [
       "<IPython.core.display.Markdown object>"
      ]
     },
     "metadata": {},
     "output_type": "display_data"
    },
    {
     "data": {
      "text/markdown": [
       "<span style=\"font-size:11pt\">Eval-Settings: metric: <span style=\"color: #0000ff\">f1</span>, type: <span style=\"color: #0000ff\">one-vs-rest</span>, DT-Depth: <span style=\"color: #0000ff\">2</span>, train-test-split:<span style=\"color: #0000ff\"> 33.0% in test-set </span></span>"
      ],
      "text/plain": [
       "<IPython.core.display.Markdown object>"
      ]
     },
     "metadata": {},
     "output_type": "display_data"
    },
    {
     "data": {
      "text/markdown": [
       "<span style=\"font-size:11pt\">Per-Class-Scores: Food: 0.78, NightlifeSpots: 0.53, Travel&Transport: 0.33, Shops&Services: 0.61, Professional&Other: 0.42, Arts&Entertainment: 0.27, College&University: 0.63, GreatOutdoors: 0.43, Residences: 0.15</span>"
      ],
      "text/plain": [
       "<IPython.core.display.Markdown object>"
      ]
     },
     "metadata": {},
     "output_type": "display_data"
    },
    {
     "data": {
      "text/markdown": [
       "<span style=\"font-size:11pt\">Unweighted Mean f1: 46.25%</span>"
      ],
      "text/plain": [
       "<IPython.core.display.Markdown object>"
      ]
     },
     "metadata": {},
     "output_type": "display_data"
    },
    {
     "data": {
      "text/markdown": [
       "<span style=\"font-size:11pt\">Weighted Mean f1: 53.51%</span>"
      ],
      "text/plain": [
       "<IPython.core.display.Markdown object>"
      ]
     },
     "metadata": {},
     "output_type": "display_data"
    },
    {
     "data": {
      "text/markdown": [
       "<span style=\"font-size:11pt\">====================================================================================================</span>"
      ],
      "text/plain": [
       "<IPython.core.display.Markdown object>"
      ]
     },
     "metadata": {},
     "output_type": "display_data"
    },
    {
     "data": {
      "text/markdown": [
       "<span style=\"font-size:11pt\">Using classes from Foursquare - 391/1383 entities have a class</span>"
      ],
      "text/plain": [
       "<IPython.core.display.Markdown object>"
      ]
     },
     "metadata": {},
     "output_type": "display_data"
    },
    {
     "data": {
      "text/markdown": [
       "<span style=\"font-size:11pt\">Labels (9 classes): <span style=\"color: #0000ff\">Shops&Services</span>: 88, <span style=\"color: #0000ff\">Food</span>: 82, <span style=\"color: #0000ff\">Travel&Transport</span>: 35, <span style=\"color: #0000ff\">Professional&Other</span>: 47, <span style=\"color: #0000ff\">Residences</span>: 6, <span style=\"color: #0000ff\">Arts&Entertainment</span>: 39, <span style=\"color: #0000ff\">NightlifeSpots</span>: 17, <span style=\"color: #0000ff\">GreatOutdoors</span>: 44, <span style=\"color: #0000ff\">College&University</span>: 33</span>"
      ],
      "text/plain": [
       "<IPython.core.display.Markdown object>"
      ]
     },
     "metadata": {},
     "output_type": "display_data"
    },
    {
     "data": {
      "text/markdown": [
       "<span style=\"font-size:11pt\">Eval-Settings: metric: <span style=\"color: #0000ff\">accuracy</span>, type: <span style=\"color: #0000ff\">one-vs-rest</span>, DT-Depth: <span style=\"color: #0000ff\">2</span>, train-test-split:<span style=\"color: #0000ff\"> 33.0% in test-set </span></span>"
      ],
      "text/plain": [
       "<IPython.core.display.Markdown object>"
      ]
     },
     "metadata": {},
     "output_type": "display_data"
    },
    {
     "data": {
      "text/markdown": [
       "<span style=\"font-size:11pt\">Per-Class-Scores: Food: 0.88, NightlifeSpots: 0.99, Travel&Transport: 0.91, Shops&Services: 0.85, Professional&Other: 0.85, Arts&Entertainment: 0.87, College&University: 0.90, GreatOutdoors: 0.88, Residences: 0.98</span>"
      ],
      "text/plain": [
       "<IPython.core.display.Markdown object>"
      ]
     },
     "metadata": {},
     "output_type": "display_data"
    },
    {
     "data": {
      "text/markdown": [
       "<span style=\"font-size:11pt\">Unweighted Mean accuracy: 90.00%</span>"
      ],
      "text/plain": [
       "<IPython.core.display.Markdown object>"
      ]
     },
     "metadata": {},
     "output_type": "display_data"
    },
    {
     "data": {
      "text/markdown": [
       "<span style=\"font-size:11pt\">Weighted Mean accuracy: 87.77%</span>"
      ],
      "text/plain": [
       "<IPython.core.display.Markdown object>"
      ]
     },
     "metadata": {},
     "output_type": "display_data"
    },
    {
     "data": {
      "text/markdown": [
       "<span style=\"font-size:11pt\">====================================================================================================</span>"
      ],
      "text/plain": [
       "<IPython.core.display.Markdown object>"
      ]
     },
     "metadata": {},
     "output_type": "display_data"
    },
    {
     "data": {
      "text/markdown": [
       "<span style=\"font-size:11pt\">Using classes from Foursquare - 391/1383 entities have a class</span>"
      ],
      "text/plain": [
       "<IPython.core.display.Markdown object>"
      ]
     },
     "metadata": {},
     "output_type": "display_data"
    },
    {
     "data": {
      "text/markdown": [
       "<span style=\"font-size:11pt\">Labels (9 classes): <span style=\"color: #0000ff\">Shops&Services</span>: 88, <span style=\"color: #0000ff\">Food</span>: 82, <span style=\"color: #0000ff\">Travel&Transport</span>: 35, <span style=\"color: #0000ff\">Professional&Other</span>: 47, <span style=\"color: #0000ff\">Residences</span>: 6, <span style=\"color: #0000ff\">Arts&Entertainment</span>: 39, <span style=\"color: #0000ff\">NightlifeSpots</span>: 17, <span style=\"color: #0000ff\">GreatOutdoors</span>: 44, <span style=\"color: #0000ff\">College&University</span>: 33</span>"
      ],
      "text/plain": [
       "<IPython.core.display.Markdown object>"
      ]
     },
     "metadata": {},
     "output_type": "display_data"
    },
    {
     "data": {
      "text/markdown": [
       "<span style=\"font-size:11pt\">Eval-Settings: metric: <span style=\"color: #0000ff\">f1</span>, type: <span style=\"color: #0000ff\">one-vs-rest</span>, DT-Depth: <span style=\"color: #0000ff\">2</span>, train-test-split:<span style=\"color: #0000ff\"> 33.0% in test-set </span></span>"
      ],
      "text/plain": [
       "<IPython.core.display.Markdown object>"
      ]
     },
     "metadata": {},
     "output_type": "display_data"
    },
    {
     "data": {
      "text/markdown": [
       "<span style=\"font-size:11pt\">Per-Class-Scores: Food: 0.77, NightlifeSpots: 0.00, Travel&Transport: 0.35, Shops&Services: 0.64, Professional&Other: 0.00, Arts&Entertainment: 0.00, College&University: 0.69, GreatOutdoors: 0.47, Residences: 0.00</span>"
      ],
      "text/plain": [
       "<IPython.core.display.Markdown object>"
      ]
     },
     "metadata": {},
     "output_type": "display_data"
    },
    {
     "data": {
      "text/markdown": [
       "<span style=\"font-size:11pt\">Unweighted Mean f1: 32.46%</span>"
      ],
      "text/plain": [
       "<IPython.core.display.Markdown object>"
      ]
     },
     "metadata": {},
     "output_type": "display_data"
    },
    {
     "data": {
      "text/markdown": [
       "<span style=\"font-size:11pt\">Weighted Mean f1: 44.86%</span>"
      ],
      "text/plain": [
       "<IPython.core.display.Markdown object>"
      ]
     },
     "metadata": {},
     "output_type": "display_data"
    },
    {
     "data": {
      "text/markdown": [
       "<span style=\"font-size:11pt\">====================================================================================================</span>"
      ],
      "text/plain": [
       "<IPython.core.display.Markdown object>"
      ]
     },
     "metadata": {},
     "output_type": "display_data"
    },
    {
     "data": {
      "text/markdown": [
       "<span style=\"font-size:11pt\">Using classes from Foursquare - 391/1383 entities have a class</span>"
      ],
      "text/plain": [
       "<IPython.core.display.Markdown object>"
      ]
     },
     "metadata": {},
     "output_type": "display_data"
    },
    {
     "data": {
      "text/markdown": [
       "<span style=\"font-size:11pt\">Labels (9 classes): <span style=\"color: #0000ff\">Shops&Services</span>: 88, <span style=\"color: #0000ff\">Food</span>: 82, <span style=\"color: #0000ff\">Travel&Transport</span>: 35, <span style=\"color: #0000ff\">Professional&Other</span>: 47, <span style=\"color: #0000ff\">Residences</span>: 6, <span style=\"color: #0000ff\">Arts&Entertainment</span>: 39, <span style=\"color: #0000ff\">NightlifeSpots</span>: 17, <span style=\"color: #0000ff\">GreatOutdoors</span>: 44, <span style=\"color: #0000ff\">College&University</span>: 33</span>"
      ],
      "text/plain": [
       "<IPython.core.display.Markdown object>"
      ]
     },
     "metadata": {},
     "output_type": "display_data"
    },
    {
     "data": {
      "text/markdown": [
       "<span style=\"font-size:11pt\">Eval-Settings: metric: <span style=\"color: #0000ff\">accuracy</span>, type: <span style=\"color: #0000ff\">one-vs-rest</span>, DT-Depth: <span style=\"color: #0000ff\">3</span>, train-test-split:<span style=\"color: #0000ff\"> 33.0% in test-set </span></span>"
      ],
      "text/plain": [
       "<IPython.core.display.Markdown object>"
      ]
     },
     "metadata": {},
     "output_type": "display_data"
    },
    {
     "data": {
      "text/markdown": [
       "<span style=\"font-size:11pt\">Per-Class-Scores: Food: 0.95, NightlifeSpots: 0.94, Travel&Transport: 0.60, Shops&Services: 0.75, Professional&Other: 0.72, Arts&Entertainment: 0.75, College&University: 0.95, GreatOutdoors: 0.79, Residences: 0.93</span>"
      ],
      "text/plain": [
       "<IPython.core.display.Markdown object>"
      ]
     },
     "metadata": {},
     "output_type": "display_data"
    },
    {
     "data": {
      "text/markdown": [
       "<span style=\"font-size:11pt\">Unweighted Mean accuracy: 81.97%</span>"
      ],
      "text/plain": [
       "<IPython.core.display.Markdown object>"
      ]
     },
     "metadata": {},
     "output_type": "display_data"
    },
    {
     "data": {
      "text/markdown": [
       "<span style=\"font-size:11pt\">Weighted Mean accuracy: 80.71%</span>"
      ],
      "text/plain": [
       "<IPython.core.display.Markdown object>"
      ]
     },
     "metadata": {},
     "output_type": "display_data"
    },
    {
     "data": {
      "text/markdown": [
       "<span style=\"font-size:11pt\">====================================================================================================</span>"
      ],
      "text/plain": [
       "<IPython.core.display.Markdown object>"
      ]
     },
     "metadata": {},
     "output_type": "display_data"
    },
    {
     "data": {
      "text/markdown": [
       "<span style=\"font-size:11pt\">Using classes from Foursquare - 391/1383 entities have a class</span>"
      ],
      "text/plain": [
       "<IPython.core.display.Markdown object>"
      ]
     },
     "metadata": {},
     "output_type": "display_data"
    },
    {
     "data": {
      "text/markdown": [
       "<span style=\"font-size:11pt\">Labels (9 classes): <span style=\"color: #0000ff\">Shops&Services</span>: 88, <span style=\"color: #0000ff\">Food</span>: 82, <span style=\"color: #0000ff\">Travel&Transport</span>: 35, <span style=\"color: #0000ff\">Professional&Other</span>: 47, <span style=\"color: #0000ff\">Residences</span>: 6, <span style=\"color: #0000ff\">Arts&Entertainment</span>: 39, <span style=\"color: #0000ff\">NightlifeSpots</span>: 17, <span style=\"color: #0000ff\">GreatOutdoors</span>: 44, <span style=\"color: #0000ff\">College&University</span>: 33</span>"
      ],
      "text/plain": [
       "<IPython.core.display.Markdown object>"
      ]
     },
     "metadata": {},
     "output_type": "display_data"
    },
    {
     "data": {
      "text/markdown": [
       "<span style=\"font-size:11pt\">Eval-Settings: metric: <span style=\"color: #0000ff\">f1</span>, type: <span style=\"color: #0000ff\">one-vs-rest</span>, DT-Depth: <span style=\"color: #0000ff\">3</span>, train-test-split:<span style=\"color: #0000ff\"> 33.0% in test-set </span></span>"
      ],
      "text/plain": [
       "<IPython.core.display.Markdown object>"
      ]
     },
     "metadata": {},
     "output_type": "display_data"
    },
    {
     "data": {
      "text/markdown": [
       "<span style=\"font-size:11pt\">Per-Class-Scores: Food: 0.72, NightlifeSpots: 0.71, Travel&Transport: 0.37, Shops&Services: 0.63, Professional&Other: 0.31, Arts&Entertainment: 0.14, College&University: 0.67, GreatOutdoors: 0.63, Residences: 0.00</span>"
      ],
      "text/plain": [
       "<IPython.core.display.Markdown object>"
      ]
     },
     "metadata": {},
     "output_type": "display_data"
    },
    {
     "data": {
      "text/markdown": [
       "<span style=\"font-size:11pt\">Unweighted Mean f1: 46.49%</span>"
      ],
      "text/plain": [
       "<IPython.core.display.Markdown object>"
      ]
     },
     "metadata": {},
     "output_type": "display_data"
    },
    {
     "data": {
      "text/markdown": [
       "<span style=\"font-size:11pt\">Weighted Mean f1: 53.61%</span>"
      ],
      "text/plain": [
       "<IPython.core.display.Markdown object>"
      ]
     },
     "metadata": {},
     "output_type": "display_data"
    },
    {
     "data": {
      "text/markdown": [
       "<span style=\"font-size:11pt\">====================================================================================================</span>"
      ],
      "text/plain": [
       "<IPython.core.display.Markdown object>"
      ]
     },
     "metadata": {},
     "output_type": "display_data"
    },
    {
     "data": {
      "text/markdown": [
       "<span style=\"font-size:11pt\">Using classes from Foursquare - 391/1383 entities have a class</span>"
      ],
      "text/plain": [
       "<IPython.core.display.Markdown object>"
      ]
     },
     "metadata": {},
     "output_type": "display_data"
    },
    {
     "data": {
      "text/markdown": [
       "<span style=\"font-size:11pt\">Labels (9 classes): <span style=\"color: #0000ff\">Shops&Services</span>: 88, <span style=\"color: #0000ff\">Food</span>: 82, <span style=\"color: #0000ff\">Travel&Transport</span>: 35, <span style=\"color: #0000ff\">Professional&Other</span>: 47, <span style=\"color: #0000ff\">Residences</span>: 6, <span style=\"color: #0000ff\">Arts&Entertainment</span>: 39, <span style=\"color: #0000ff\">NightlifeSpots</span>: 17, <span style=\"color: #0000ff\">GreatOutdoors</span>: 44, <span style=\"color: #0000ff\">College&University</span>: 33</span>"
      ],
      "text/plain": [
       "<IPython.core.display.Markdown object>"
      ]
     },
     "metadata": {},
     "output_type": "display_data"
    },
    {
     "data": {
      "text/markdown": [
       "<span style=\"font-size:11pt\">Eval-Settings: metric: <span style=\"color: #0000ff\">accuracy</span>, type: <span style=\"color: #0000ff\">one-vs-rest</span>, DT-Depth: <span style=\"color: #0000ff\">3</span>, train-test-split:<span style=\"color: #0000ff\"> 33.0% in test-set </span></span>"
      ],
      "text/plain": [
       "<IPython.core.display.Markdown object>"
      ]
     },
     "metadata": {},
     "output_type": "display_data"
    },
    {
     "data": {
      "text/markdown": [
       "<span style=\"font-size:11pt\">Per-Class-Scores: Food: 0.92, NightlifeSpots: 0.98, Travel&Transport: 0.91, Shops&Services: 0.82, Professional&Other: 0.88, Arts&Entertainment: 0.91, College&University: 0.95, GreatOutdoors: 0.92, Residences: 0.98</span>"
      ],
      "text/plain": [
       "<IPython.core.display.Markdown object>"
      ]
     },
     "metadata": {},
     "output_type": "display_data"
    },
    {
     "data": {
      "text/markdown": [
       "<span style=\"font-size:11pt\">Unweighted Mean accuracy: 91.79%</span>"
      ],
      "text/plain": [
       "<IPython.core.display.Markdown object>"
      ]
     },
     "metadata": {},
     "output_type": "display_data"
    },
    {
     "data": {
      "text/markdown": [
       "<span style=\"font-size:11pt\">Weighted Mean accuracy: 89.55%</span>"
      ],
      "text/plain": [
       "<IPython.core.display.Markdown object>"
      ]
     },
     "metadata": {},
     "output_type": "display_data"
    },
    {
     "data": {
      "text/markdown": [
       "<span style=\"font-size:11pt\">====================================================================================================</span>"
      ],
      "text/plain": [
       "<IPython.core.display.Markdown object>"
      ]
     },
     "metadata": {},
     "output_type": "display_data"
    },
    {
     "data": {
      "text/markdown": [
       "<span style=\"font-size:11pt\">Using classes from Foursquare - 391/1383 entities have a class</span>"
      ],
      "text/plain": [
       "<IPython.core.display.Markdown object>"
      ]
     },
     "metadata": {},
     "output_type": "display_data"
    },
    {
     "data": {
      "text/markdown": [
       "<span style=\"font-size:11pt\">Labels (9 classes): <span style=\"color: #0000ff\">Shops&Services</span>: 88, <span style=\"color: #0000ff\">Food</span>: 82, <span style=\"color: #0000ff\">Travel&Transport</span>: 35, <span style=\"color: #0000ff\">Professional&Other</span>: 47, <span style=\"color: #0000ff\">Residences</span>: 6, <span style=\"color: #0000ff\">Arts&Entertainment</span>: 39, <span style=\"color: #0000ff\">NightlifeSpots</span>: 17, <span style=\"color: #0000ff\">GreatOutdoors</span>: 44, <span style=\"color: #0000ff\">College&University</span>: 33</span>"
      ],
      "text/plain": [
       "<IPython.core.display.Markdown object>"
      ]
     },
     "metadata": {},
     "output_type": "display_data"
    },
    {
     "data": {
      "text/markdown": [
       "<span style=\"font-size:11pt\">Eval-Settings: metric: <span style=\"color: #0000ff\">f1</span>, type: <span style=\"color: #0000ff\">one-vs-rest</span>, DT-Depth: <span style=\"color: #0000ff\">3</span>, train-test-split:<span style=\"color: #0000ff\"> 33.0% in test-set </span></span>"
      ],
      "text/plain": [
       "<IPython.core.display.Markdown object>"
      ]
     },
     "metadata": {},
     "output_type": "display_data"
    },
    {
     "data": {
      "text/markdown": [
       "<span style=\"font-size:11pt\">Per-Class-Scores: Food: 0.70, NightlifeSpots: 0.36, Travel&Transport: 0.31, Shops&Services: 0.67, Professional&Other: 0.00, Arts&Entertainment: 0.00, College&University: 0.72, GreatOutdoors: 0.31, Residences: 0.00</span>"
      ],
      "text/plain": [
       "<IPython.core.display.Markdown object>"
      ]
     },
     "metadata": {},
     "output_type": "display_data"
    },
    {
     "data": {
      "text/markdown": [
       "<span style=\"font-size:11pt\">Unweighted Mean f1: 34.01%</span>"
      ],
      "text/plain": [
       "<IPython.core.display.Markdown object>"
      ]
     },
     "metadata": {},
     "output_type": "display_data"
    },
    {
     "data": {
      "text/markdown": [
       "<span style=\"font-size:11pt\">Weighted Mean f1: 43.47%</span>"
      ],
      "text/plain": [
       "<IPython.core.display.Markdown object>"
      ]
     },
     "metadata": {},
     "output_type": "display_data"
    },
    {
     "data": {
      "text/markdown": [
       "<span style=\"font-size:11pt\">====================================================================================================</span>"
      ],
      "text/plain": [
       "<IPython.core.display.Markdown object>"
      ]
     },
     "metadata": {},
     "output_type": "display_data"
    },
    {
     "data": {
      "text/markdown": [
       "<span style=\"font-size:11pt\">Using classes from Foursquare - 391/1383 entities have a class</span>"
      ],
      "text/plain": [
       "<IPython.core.display.Markdown object>"
      ]
     },
     "metadata": {},
     "output_type": "display_data"
    },
    {
     "data": {
      "text/markdown": [
       "<span style=\"font-size:11pt\">Labels (9 classes): <span style=\"color: #0000ff\">Shops&Services</span>: 88, <span style=\"color: #0000ff\">Food</span>: 82, <span style=\"color: #0000ff\">Travel&Transport</span>: 35, <span style=\"color: #0000ff\">Professional&Other</span>: 47, <span style=\"color: #0000ff\">Residences</span>: 6, <span style=\"color: #0000ff\">Arts&Entertainment</span>: 39, <span style=\"color: #0000ff\">NightlifeSpots</span>: 17, <span style=\"color: #0000ff\">GreatOutdoors</span>: 44, <span style=\"color: #0000ff\">College&University</span>: 33</span>"
      ],
      "text/plain": [
       "<IPython.core.display.Markdown object>"
      ]
     },
     "metadata": {},
     "output_type": "display_data"
    },
    {
     "data": {
      "text/markdown": [
       "<span style=\"font-size:11pt\">Eval-Settings: metric: <span style=\"color: #0000ff\">accuracy</span>, type: <span style=\"color: #0000ff\">one-vs-rest</span>, DT-Depth: <span style=\"color: #0000ff\">None</span>, train-test-split:<span style=\"color: #0000ff\"> 33.0% in test-set </span></span>"
      ],
      "text/plain": [
       "<IPython.core.display.Markdown object>"
      ]
     },
     "metadata": {},
     "output_type": "display_data"
    },
    {
     "data": {
      "text/markdown": [
       "<span style=\"font-size:11pt\">Per-Class-Scores: Food: 0.91, NightlifeSpots: 0.98, Travel&Transport: 0.89, Shops&Services: 0.89, Professional&Other: 0.88, Arts&Entertainment: 0.85, College&University: 0.95, GreatOutdoors: 0.86, Residences: 0.98</span>"
      ],
      "text/plain": [
       "<IPython.core.display.Markdown object>"
      ]
     },
     "metadata": {},
     "output_type": "display_data"
    },
    {
     "data": {
      "text/markdown": [
       "<span style=\"font-size:11pt\">Unweighted Mean accuracy: 91.03%</span>"
      ],
      "text/plain": [
       "<IPython.core.display.Markdown object>"
      ]
     },
     "metadata": {},
     "output_type": "display_data"
    },
    {
     "data": {
      "text/markdown": [
       "<span style=\"font-size:11pt\">Weighted Mean accuracy: 89.67%</span>"
      ],
      "text/plain": [
       "<IPython.core.display.Markdown object>"
      ]
     },
     "metadata": {},
     "output_type": "display_data"
    },
    {
     "data": {
      "text/markdown": [
       "<span style=\"font-size:11pt\">====================================================================================================</span>"
      ],
      "text/plain": [
       "<IPython.core.display.Markdown object>"
      ]
     },
     "metadata": {},
     "output_type": "display_data"
    },
    {
     "data": {
      "text/markdown": [
       "<span style=\"font-size:11pt\">Using classes from Foursquare - 391/1383 entities have a class</span>"
      ],
      "text/plain": [
       "<IPython.core.display.Markdown object>"
      ]
     },
     "metadata": {},
     "output_type": "display_data"
    },
    {
     "data": {
      "text/markdown": [
       "<span style=\"font-size:11pt\">Labels (9 classes): <span style=\"color: #0000ff\">Shops&Services</span>: 88, <span style=\"color: #0000ff\">Food</span>: 82, <span style=\"color: #0000ff\">Travel&Transport</span>: 35, <span style=\"color: #0000ff\">Professional&Other</span>: 47, <span style=\"color: #0000ff\">Residences</span>: 6, <span style=\"color: #0000ff\">Arts&Entertainment</span>: 39, <span style=\"color: #0000ff\">NightlifeSpots</span>: 17, <span style=\"color: #0000ff\">GreatOutdoors</span>: 44, <span style=\"color: #0000ff\">College&University</span>: 33</span>"
      ],
      "text/plain": [
       "<IPython.core.display.Markdown object>"
      ]
     },
     "metadata": {},
     "output_type": "display_data"
    },
    {
     "data": {
      "text/markdown": [
       "<span style=\"font-size:11pt\">Eval-Settings: metric: <span style=\"color: #0000ff\">f1</span>, type: <span style=\"color: #0000ff\">one-vs-rest</span>, DT-Depth: <span style=\"color: #0000ff\">None</span>, train-test-split:<span style=\"color: #0000ff\"> 33.0% in test-set </span></span>"
      ],
      "text/plain": [
       "<IPython.core.display.Markdown object>"
      ]
     },
     "metadata": {},
     "output_type": "display_data"
    },
    {
     "data": {
      "text/markdown": [
       "<span style=\"font-size:11pt\">Per-Class-Scores: Food: 0.67, NightlifeSpots: 0.91, Travel&Transport: 0.20, Shops&Services: 0.67, Professional&Other: 0.37, Arts&Entertainment: 0.00, College&University: 0.84, GreatOutdoors: 0.47, Residences: 0.00</span>"
      ],
      "text/plain": [
       "<IPython.core.display.Markdown object>"
      ]
     },
     "metadata": {},
     "output_type": "display_data"
    },
    {
     "data": {
      "text/markdown": [
       "<span style=\"font-size:11pt\">Unweighted Mean f1: 45.85%</span>"
      ],
      "text/plain": [
       "<IPython.core.display.Markdown object>"
      ]
     },
     "metadata": {},
     "output_type": "display_data"
    },
    {
     "data": {
      "text/markdown": [
       "<span style=\"font-size:11pt\">Weighted Mean f1: 51.59%</span>"
      ],
      "text/plain": [
       "<IPython.core.display.Markdown object>"
      ]
     },
     "metadata": {},
     "output_type": "display_data"
    },
    {
     "data": {
      "text/markdown": [
       "<span style=\"font-size:11pt\">====================================================================================================</span>"
      ],
      "text/plain": [
       "<IPython.core.display.Markdown object>"
      ]
     },
     "metadata": {},
     "output_type": "display_data"
    },
    {
     "data": {
      "text/markdown": [
       "<span style=\"font-size:11pt\">Using classes from Foursquare - 391/1383 entities have a class</span>"
      ],
      "text/plain": [
       "<IPython.core.display.Markdown object>"
      ]
     },
     "metadata": {},
     "output_type": "display_data"
    },
    {
     "data": {
      "text/markdown": [
       "<span style=\"font-size:11pt\">Labels (9 classes): <span style=\"color: #0000ff\">Shops&Services</span>: 88, <span style=\"color: #0000ff\">Food</span>: 82, <span style=\"color: #0000ff\">Travel&Transport</span>: 35, <span style=\"color: #0000ff\">Professional&Other</span>: 47, <span style=\"color: #0000ff\">Residences</span>: 6, <span style=\"color: #0000ff\">Arts&Entertainment</span>: 39, <span style=\"color: #0000ff\">NightlifeSpots</span>: 17, <span style=\"color: #0000ff\">GreatOutdoors</span>: 44, <span style=\"color: #0000ff\">College&University</span>: 33</span>"
      ],
      "text/plain": [
       "<IPython.core.display.Markdown object>"
      ]
     },
     "metadata": {},
     "output_type": "display_data"
    },
    {
     "data": {
      "text/markdown": [
       "<span style=\"font-size:11pt\">Eval-Settings: metric: <span style=\"color: #0000ff\">accuracy</span>, type: <span style=\"color: #0000ff\">one-vs-rest</span>, DT-Depth: <span style=\"color: #0000ff\">None</span>, train-test-split:<span style=\"color: #0000ff\"> 33.0% in test-set </span></span>"
      ],
      "text/plain": [
       "<IPython.core.display.Markdown object>"
      ]
     },
     "metadata": {},
     "output_type": "display_data"
    },
    {
     "data": {
      "text/markdown": [
       "<span style=\"font-size:11pt\">Per-Class-Scores: Food: 0.90, NightlifeSpots: 0.96, Travel&Transport: 0.89, Shops&Services: 0.84, Professional&Other: 0.80, Arts&Entertainment: 0.85, College&University: 0.95, GreatOutdoors: 0.88, Residences: 0.96</span>"
      ],
      "text/plain": [
       "<IPython.core.display.Markdown object>"
      ]
     },
     "metadata": {},
     "output_type": "display_data"
    },
    {
     "data": {
      "text/markdown": [
       "<span style=\"font-size:11pt\">Unweighted Mean accuracy: 89.23%</span>"
      ],
      "text/plain": [
       "<IPython.core.display.Markdown object>"
      ]
     },
     "metadata": {},
     "output_type": "display_data"
    },
    {
     "data": {
      "text/markdown": [
       "<span style=\"font-size:11pt\">Weighted Mean accuracy: 87.36%</span>"
      ],
      "text/plain": [
       "<IPython.core.display.Markdown object>"
      ]
     },
     "metadata": {},
     "output_type": "display_data"
    },
    {
     "data": {
      "text/markdown": [
       "<span style=\"font-size:11pt\">====================================================================================================</span>"
      ],
      "text/plain": [
       "<IPython.core.display.Markdown object>"
      ]
     },
     "metadata": {},
     "output_type": "display_data"
    },
    {
     "data": {
      "text/markdown": [
       "<span style=\"font-size:11pt\">Using classes from Foursquare - 391/1383 entities have a class</span>"
      ],
      "text/plain": [
       "<IPython.core.display.Markdown object>"
      ]
     },
     "metadata": {},
     "output_type": "display_data"
    },
    {
     "data": {
      "text/markdown": [
       "<span style=\"font-size:11pt\">Labels (9 classes): <span style=\"color: #0000ff\">Shops&Services</span>: 88, <span style=\"color: #0000ff\">Food</span>: 82, <span style=\"color: #0000ff\">Travel&Transport</span>: 35, <span style=\"color: #0000ff\">Professional&Other</span>: 47, <span style=\"color: #0000ff\">Residences</span>: 6, <span style=\"color: #0000ff\">Arts&Entertainment</span>: 39, <span style=\"color: #0000ff\">NightlifeSpots</span>: 17, <span style=\"color: #0000ff\">GreatOutdoors</span>: 44, <span style=\"color: #0000ff\">College&University</span>: 33</span>"
      ],
      "text/plain": [
       "<IPython.core.display.Markdown object>"
      ]
     },
     "metadata": {},
     "output_type": "display_data"
    },
    {
     "data": {
      "text/markdown": [
       "<span style=\"font-size:11pt\">Eval-Settings: metric: <span style=\"color: #0000ff\">f1</span>, type: <span style=\"color: #0000ff\">one-vs-rest</span>, DT-Depth: <span style=\"color: #0000ff\">None</span>, train-test-split:<span style=\"color: #0000ff\"> 33.0% in test-set </span></span>"
      ],
      "text/plain": [
       "<IPython.core.display.Markdown object>"
      ]
     },
     "metadata": {},
     "output_type": "display_data"
    },
    {
     "data": {
      "text/markdown": [
       "<span style=\"font-size:11pt\">Per-Class-Scores: Food: 0.73, NightlifeSpots: 0.50, Travel&Transport: 0.38, Shops&Services: 0.54, Professional&Other: 0.36, Arts&Entertainment: 0.12, College&University: 0.67, GreatOutdoors: 0.65, Residences: 0.00</span>"
      ],
      "text/plain": [
       "<IPython.core.display.Markdown object>"
      ]
     },
     "metadata": {},
     "output_type": "display_data"
    },
    {
     "data": {
      "text/markdown": [
       "<span style=\"font-size:11pt\">Unweighted Mean f1: 43.95%</span>"
      ],
      "text/plain": [
       "<IPython.core.display.Markdown object>"
      ]
     },
     "metadata": {},
     "output_type": "display_data"
    },
    {
     "data": {
      "text/markdown": [
       "<span style=\"font-size:11pt\">Weighted Mean f1: 51.60%</span>"
      ],
      "text/plain": [
       "<IPython.core.display.Markdown object>"
      ]
     },
     "metadata": {},
     "output_type": "display_data"
    },
    {
     "data": {
      "text/markdown": [
       "<span style=\"font-size:11pt\">====================================================================================================</span>"
      ],
      "text/plain": [
       "<IPython.core.display.Markdown object>"
      ]
     },
     "metadata": {},
     "output_type": "display_data"
    },
    {
     "data": {
      "text/markdown": [
       "<span style=\"font-size:11pt\">Using classes from Foursquare - 391/1383 entities have a class</span>"
      ],
      "text/plain": [
       "<IPython.core.display.Markdown object>"
      ]
     },
     "metadata": {},
     "output_type": "display_data"
    },
    {
     "data": {
      "text/markdown": [
       "<span style=\"font-size:11pt\">Labels (9 classes): <span style=\"color: #0000ff\">Shops&Services</span>: 88, <span style=\"color: #0000ff\">Food</span>: 82, <span style=\"color: #0000ff\">Travel&Transport</span>: 35, <span style=\"color: #0000ff\">Professional&Other</span>: 47, <span style=\"color: #0000ff\">Residences</span>: 6, <span style=\"color: #0000ff\">Arts&Entertainment</span>: 39, <span style=\"color: #0000ff\">NightlifeSpots</span>: 17, <span style=\"color: #0000ff\">GreatOutdoors</span>: 44, <span style=\"color: #0000ff\">College&University</span>: 33</span>"
      ],
      "text/plain": [
       "<IPython.core.display.Markdown object>"
      ]
     },
     "metadata": {},
     "output_type": "display_data"
    },
    {
     "data": {
      "text/markdown": [
       "<span style=\"font-size:11pt\">Eval-Settings: metric: <span style=\"color: #0000ff\">accuracy</span>, type: <span style=\"color: #0000ff\">all-at-once</span>, DT-Depth: <span style=\"color: #0000ff\">1</span>, train-test-split:<span style=\"color: #0000ff\"> 33.0% in test-set </span></span>"
      ],
      "text/plain": [
       "<IPython.core.display.Markdown object>"
      ]
     },
     "metadata": {},
     "output_type": "display_data"
    },
    {
     "name": "stderr",
     "output_type": "stream",
     "text": [
      "derive_conceptualspace/evaluate/shallow_trees.py:123: UserWarning: There are more classes (9) than your decision-tree can possibly classify (2)\n"
     ]
    },
    {
     "data": {
      "text/markdown": [
       "<span style=\"font-size:11pt\">accuracy: 0.04</span>"
      ],
      "text/plain": [
       "<IPython.core.display.Markdown object>"
      ]
     },
     "metadata": {},
     "output_type": "display_data"
    },
    {
     "data": {
      "text/markdown": [
       "<span style=\"font-size:11pt\">Baseline accuracy: 0.23</span>"
      ],
      "text/plain": [
       "<IPython.core.display.Markdown object>"
      ]
     },
     "metadata": {},
     "output_type": "display_data"
    },
    {
     "data": {
      "text/markdown": [
       "<span style=\"font-size:11pt\">Maximally achievable accuracy: 0.43</span>"
      ],
      "text/plain": [
       "<IPython.core.display.Markdown object>"
      ]
     },
     "metadata": {},
     "output_type": "display_data"
    },
    {
     "data": {
      "text/markdown": [
       "<span style=\"font-size:11pt\">====================================================================================================</span>"
      ],
      "text/plain": [
       "<IPython.core.display.Markdown object>"
      ]
     },
     "metadata": {},
     "output_type": "display_data"
    },
    {
     "data": {
      "text/markdown": [
       "<span style=\"font-size:11pt\">Using classes from Foursquare - 391/1383 entities have a class</span>"
      ],
      "text/plain": [
       "<IPython.core.display.Markdown object>"
      ]
     },
     "metadata": {},
     "output_type": "display_data"
    },
    {
     "data": {
      "text/markdown": [
       "<span style=\"font-size:11pt\">Labels (9 classes): <span style=\"color: #0000ff\">Shops&Services</span>: 88, <span style=\"color: #0000ff\">Food</span>: 82, <span style=\"color: #0000ff\">Travel&Transport</span>: 35, <span style=\"color: #0000ff\">Professional&Other</span>: 47, <span style=\"color: #0000ff\">Residences</span>: 6, <span style=\"color: #0000ff\">Arts&Entertainment</span>: 39, <span style=\"color: #0000ff\">NightlifeSpots</span>: 17, <span style=\"color: #0000ff\">GreatOutdoors</span>: 44, <span style=\"color: #0000ff\">College&University</span>: 33</span>"
      ],
      "text/plain": [
       "<IPython.core.display.Markdown object>"
      ]
     },
     "metadata": {},
     "output_type": "display_data"
    },
    {
     "data": {
      "text/markdown": [
       "<span style=\"font-size:11pt\">Eval-Settings: metric: <span style=\"color: #0000ff\">f1</span>, type: <span style=\"color: #0000ff\">all-at-once</span>, DT-Depth: <span style=\"color: #0000ff\">1</span>, train-test-split:<span style=\"color: #0000ff\"> 33.0% in test-set </span></span>"
      ],
      "text/plain": [
       "<IPython.core.display.Markdown object>"
      ]
     },
     "metadata": {},
     "output_type": "display_data"
    },
    {
     "name": "stderr",
     "output_type": "stream",
     "text": [
      "derive_conceptualspace/evaluate/shallow_trees.py:123: UserWarning: There are more classes (9) than your decision-tree can possibly classify (2)\n"
     ]
    },
    {
     "data": {
      "text/markdown": [
       "<span style=\"font-size:11pt\">f1: 0.13</span>"
      ],
      "text/plain": [
       "<IPython.core.display.Markdown object>"
      ]
     },
     "metadata": {},
     "output_type": "display_data"
    },
    {
     "data": {
      "text/markdown": [
       "<span style=\"font-size:11pt\">Baseline f1: 0.23</span>"
      ],
      "text/plain": [
       "<IPython.core.display.Markdown object>"
      ]
     },
     "metadata": {},
     "output_type": "display_data"
    },
    {
     "data": {
      "text/markdown": [
       "<span style=\"font-size:11pt\">====================================================================================================</span>"
      ],
      "text/plain": [
       "<IPython.core.display.Markdown object>"
      ]
     },
     "metadata": {},
     "output_type": "display_data"
    },
    {
     "data": {
      "text/markdown": [
       "<span style=\"font-size:11pt\">Using classes from Foursquare - 391/1383 entities have a class</span>"
      ],
      "text/plain": [
       "<IPython.core.display.Markdown object>"
      ]
     },
     "metadata": {},
     "output_type": "display_data"
    },
    {
     "data": {
      "text/markdown": [
       "<span style=\"font-size:11pt\">Labels (9 classes): <span style=\"color: #0000ff\">Shops&Services</span>: 88, <span style=\"color: #0000ff\">Food</span>: 82, <span style=\"color: #0000ff\">Travel&Transport</span>: 35, <span style=\"color: #0000ff\">Professional&Other</span>: 47, <span style=\"color: #0000ff\">Residences</span>: 6, <span style=\"color: #0000ff\">Arts&Entertainment</span>: 39, <span style=\"color: #0000ff\">NightlifeSpots</span>: 17, <span style=\"color: #0000ff\">GreatOutdoors</span>: 44, <span style=\"color: #0000ff\">College&University</span>: 33</span>"
      ],
      "text/plain": [
       "<IPython.core.display.Markdown object>"
      ]
     },
     "metadata": {},
     "output_type": "display_data"
    },
    {
     "data": {
      "text/markdown": [
       "<span style=\"font-size:11pt\">Eval-Settings: metric: <span style=\"color: #0000ff\">accuracy</span>, type: <span style=\"color: #0000ff\">all-at-once</span>, DT-Depth: <span style=\"color: #0000ff\">1</span>, train-test-split:<span style=\"color: #0000ff\"> 33.0% in test-set </span></span>"
      ],
      "text/plain": [
       "<IPython.core.display.Markdown object>"
      ]
     },
     "metadata": {},
     "output_type": "display_data"
    },
    {
     "name": "stderr",
     "output_type": "stream",
     "text": [
      "derive_conceptualspace/evaluate/shallow_trees.py:123: UserWarning: There are more classes (9) than your decision-tree can possibly classify (2)\n"
     ]
    },
    {
     "data": {
      "text/markdown": [
       "<span style=\"font-size:11pt\">accuracy: 0.39</span>"
      ],
      "text/plain": [
       "<IPython.core.display.Markdown object>"
      ]
     },
     "metadata": {},
     "output_type": "display_data"
    },
    {
     "data": {
      "text/markdown": [
       "<span style=\"font-size:11pt\">Baseline accuracy: 0.23</span>"
      ],
      "text/plain": [
       "<IPython.core.display.Markdown object>"
      ]
     },
     "metadata": {},
     "output_type": "display_data"
    },
    {
     "data": {
      "text/markdown": [
       "<span style=\"font-size:11pt\">Maximally achievable accuracy: 0.43</span>"
      ],
      "text/plain": [
       "<IPython.core.display.Markdown object>"
      ]
     },
     "metadata": {},
     "output_type": "display_data"
    },
    {
     "data": {
      "text/markdown": [
       "<span style=\"font-size:11pt\">====================================================================================================</span>"
      ],
      "text/plain": [
       "<IPython.core.display.Markdown object>"
      ]
     },
     "metadata": {},
     "output_type": "display_data"
    },
    {
     "data": {
      "text/markdown": [
       "<span style=\"font-size:11pt\">Using classes from Foursquare - 391/1383 entities have a class</span>"
      ],
      "text/plain": [
       "<IPython.core.display.Markdown object>"
      ]
     },
     "metadata": {},
     "output_type": "display_data"
    },
    {
     "data": {
      "text/markdown": [
       "<span style=\"font-size:11pt\">Labels (9 classes): <span style=\"color: #0000ff\">Shops&Services</span>: 88, <span style=\"color: #0000ff\">Food</span>: 82, <span style=\"color: #0000ff\">Travel&Transport</span>: 35, <span style=\"color: #0000ff\">Professional&Other</span>: 47, <span style=\"color: #0000ff\">Residences</span>: 6, <span style=\"color: #0000ff\">Arts&Entertainment</span>: 39, <span style=\"color: #0000ff\">NightlifeSpots</span>: 17, <span style=\"color: #0000ff\">GreatOutdoors</span>: 44, <span style=\"color: #0000ff\">College&University</span>: 33</span>"
      ],
      "text/plain": [
       "<IPython.core.display.Markdown object>"
      ]
     },
     "metadata": {},
     "output_type": "display_data"
    },
    {
     "data": {
      "text/markdown": [
       "<span style=\"font-size:11pt\">Eval-Settings: metric: <span style=\"color: #0000ff\">f1</span>, type: <span style=\"color: #0000ff\">all-at-once</span>, DT-Depth: <span style=\"color: #0000ff\">1</span>, train-test-split:<span style=\"color: #0000ff\"> 33.0% in test-set </span></span>"
      ],
      "text/plain": [
       "<IPython.core.display.Markdown object>"
      ]
     },
     "metadata": {},
     "output_type": "display_data"
    },
    {
     "name": "stderr",
     "output_type": "stream",
     "text": [
      "derive_conceptualspace/evaluate/shallow_trees.py:123: UserWarning: There are more classes (9) than your decision-tree can possibly classify (2)\n"
     ]
    },
    {
     "data": {
      "text/markdown": [
       "<span style=\"font-size:11pt\">f1: 0.40</span>"
      ],
      "text/plain": [
       "<IPython.core.display.Markdown object>"
      ]
     },
     "metadata": {},
     "output_type": "display_data"
    },
    {
     "data": {
      "text/markdown": [
       "<span style=\"font-size:11pt\">Baseline f1: 0.23</span>"
      ],
      "text/plain": [
       "<IPython.core.display.Markdown object>"
      ]
     },
     "metadata": {},
     "output_type": "display_data"
    },
    {
     "data": {
      "text/markdown": [
       "<span style=\"font-size:11pt\">====================================================================================================</span>"
      ],
      "text/plain": [
       "<IPython.core.display.Markdown object>"
      ]
     },
     "metadata": {},
     "output_type": "display_data"
    },
    {
     "data": {
      "text/markdown": [
       "<span style=\"font-size:11pt\">Using classes from Foursquare - 391/1383 entities have a class</span>"
      ],
      "text/plain": [
       "<IPython.core.display.Markdown object>"
      ]
     },
     "metadata": {},
     "output_type": "display_data"
    },
    {
     "data": {
      "text/markdown": [
       "<span style=\"font-size:11pt\">Labels (9 classes): <span style=\"color: #0000ff\">Shops&Services</span>: 88, <span style=\"color: #0000ff\">Food</span>: 82, <span style=\"color: #0000ff\">Travel&Transport</span>: 35, <span style=\"color: #0000ff\">Professional&Other</span>: 47, <span style=\"color: #0000ff\">Residences</span>: 6, <span style=\"color: #0000ff\">Arts&Entertainment</span>: 39, <span style=\"color: #0000ff\">NightlifeSpots</span>: 17, <span style=\"color: #0000ff\">GreatOutdoors</span>: 44, <span style=\"color: #0000ff\">College&University</span>: 33</span>"
      ],
      "text/plain": [
       "<IPython.core.display.Markdown object>"
      ]
     },
     "metadata": {},
     "output_type": "display_data"
    },
    {
     "data": {
      "text/markdown": [
       "<span style=\"font-size:11pt\">Eval-Settings: metric: <span style=\"color: #0000ff\">accuracy</span>, type: <span style=\"color: #0000ff\">all-at-once</span>, DT-Depth: <span style=\"color: #0000ff\">2</span>, train-test-split:<span style=\"color: #0000ff\"> 33.0% in test-set </span></span>"
      ],
      "text/plain": [
       "<IPython.core.display.Markdown object>"
      ]
     },
     "metadata": {},
     "output_type": "display_data"
    },
    {
     "name": "stderr",
     "output_type": "stream",
     "text": [
      "derive_conceptualspace/evaluate/shallow_trees.py:123: UserWarning: There are more classes (9) than your decision-tree can possibly classify (4)\n"
     ]
    },
    {
     "data": {
      "text/markdown": [
       "<span style=\"font-size:11pt\">accuracy: 0.25</span>"
      ],
      "text/plain": [
       "<IPython.core.display.Markdown object>"
      ]
     },
     "metadata": {},
     "output_type": "display_data"
    },
    {
     "data": {
      "text/markdown": [
       "<span style=\"font-size:11pt\">====================================================================================================</span>"
      ],
      "text/plain": [
       "<IPython.core.display.Markdown object>"
      ]
     },
     "metadata": {},
     "output_type": "display_data"
    },
    {
     "data": {
      "text/markdown": [
       "<span style=\"font-size:11pt\">Using classes from Foursquare - 391/1383 entities have a class</span>"
      ],
      "text/plain": [
       "<IPython.core.display.Markdown object>"
      ]
     },
     "metadata": {},
     "output_type": "display_data"
    },
    {
     "data": {
      "text/markdown": [
       "<span style=\"font-size:11pt\">Labels (9 classes): <span style=\"color: #0000ff\">Shops&Services</span>: 88, <span style=\"color: #0000ff\">Food</span>: 82, <span style=\"color: #0000ff\">Travel&Transport</span>: 35, <span style=\"color: #0000ff\">Professional&Other</span>: 47, <span style=\"color: #0000ff\">Residences</span>: 6, <span style=\"color: #0000ff\">Arts&Entertainment</span>: 39, <span style=\"color: #0000ff\">NightlifeSpots</span>: 17, <span style=\"color: #0000ff\">GreatOutdoors</span>: 44, <span style=\"color: #0000ff\">College&University</span>: 33</span>"
      ],
      "text/plain": [
       "<IPython.core.display.Markdown object>"
      ]
     },
     "metadata": {},
     "output_type": "display_data"
    },
    {
     "data": {
      "text/markdown": [
       "<span style=\"font-size:11pt\">Eval-Settings: metric: <span style=\"color: #0000ff\">f1</span>, type: <span style=\"color: #0000ff\">all-at-once</span>, DT-Depth: <span style=\"color: #0000ff\">2</span>, train-test-split:<span style=\"color: #0000ff\"> 33.0% in test-set </span></span>"
      ],
      "text/plain": [
       "<IPython.core.display.Markdown object>"
      ]
     },
     "metadata": {},
     "output_type": "display_data"
    },
    {
     "name": "stderr",
     "output_type": "stream",
     "text": [
      "derive_conceptualspace/evaluate/shallow_trees.py:123: UserWarning: There are more classes (9) than your decision-tree can possibly classify (4)\n"
     ]
    },
    {
     "data": {
      "text/markdown": [
       "<span style=\"font-size:11pt\">f1: 0.19</span>"
      ],
      "text/plain": [
       "<IPython.core.display.Markdown object>"
      ]
     },
     "metadata": {},
     "output_type": "display_data"
    },
    {
     "data": {
      "text/markdown": [
       "<span style=\"font-size:11pt\">====================================================================================================</span>"
      ],
      "text/plain": [
       "<IPython.core.display.Markdown object>"
      ]
     },
     "metadata": {},
     "output_type": "display_data"
    },
    {
     "data": {
      "text/markdown": [
       "<span style=\"font-size:11pt\">Using classes from Foursquare - 391/1383 entities have a class</span>"
      ],
      "text/plain": [
       "<IPython.core.display.Markdown object>"
      ]
     },
     "metadata": {},
     "output_type": "display_data"
    },
    {
     "data": {
      "text/markdown": [
       "<span style=\"font-size:11pt\">Labels (9 classes): <span style=\"color: #0000ff\">Shops&Services</span>: 88, <span style=\"color: #0000ff\">Food</span>: 82, <span style=\"color: #0000ff\">Travel&Transport</span>: 35, <span style=\"color: #0000ff\">Professional&Other</span>: 47, <span style=\"color: #0000ff\">Residences</span>: 6, <span style=\"color: #0000ff\">Arts&Entertainment</span>: 39, <span style=\"color: #0000ff\">NightlifeSpots</span>: 17, <span style=\"color: #0000ff\">GreatOutdoors</span>: 44, <span style=\"color: #0000ff\">College&University</span>: 33</span>"
      ],
      "text/plain": [
       "<IPython.core.display.Markdown object>"
      ]
     },
     "metadata": {},
     "output_type": "display_data"
    },
    {
     "data": {
      "text/markdown": [
       "<span style=\"font-size:11pt\">Eval-Settings: metric: <span style=\"color: #0000ff\">accuracy</span>, type: <span style=\"color: #0000ff\">all-at-once</span>, DT-Depth: <span style=\"color: #0000ff\">2</span>, train-test-split:<span style=\"color: #0000ff\"> 33.0% in test-set </span></span>"
      ],
      "text/plain": [
       "<IPython.core.display.Markdown object>"
      ]
     },
     "metadata": {},
     "output_type": "display_data"
    },
    {
     "name": "stderr",
     "output_type": "stream",
     "text": [
      "derive_conceptualspace/evaluate/shallow_trees.py:123: UserWarning: There are more classes (9) than your decision-tree can possibly classify (4)\n"
     ]
    },
    {
     "data": {
      "text/markdown": [
       "<span style=\"font-size:11pt\">accuracy: 0.35</span>"
      ],
      "text/plain": [
       "<IPython.core.display.Markdown object>"
      ]
     },
     "metadata": {},
     "output_type": "display_data"
    },
    {
     "data": {
      "text/markdown": [
       "<span style=\"font-size:11pt\">====================================================================================================</span>"
      ],
      "text/plain": [
       "<IPython.core.display.Markdown object>"
      ]
     },
     "metadata": {},
     "output_type": "display_data"
    },
    {
     "data": {
      "text/markdown": [
       "<span style=\"font-size:11pt\">Using classes from Foursquare - 391/1383 entities have a class</span>"
      ],
      "text/plain": [
       "<IPython.core.display.Markdown object>"
      ]
     },
     "metadata": {},
     "output_type": "display_data"
    },
    {
     "data": {
      "text/markdown": [
       "<span style=\"font-size:11pt\">Labels (9 classes): <span style=\"color: #0000ff\">Shops&Services</span>: 88, <span style=\"color: #0000ff\">Food</span>: 82, <span style=\"color: #0000ff\">Travel&Transport</span>: 35, <span style=\"color: #0000ff\">Professional&Other</span>: 47, <span style=\"color: #0000ff\">Residences</span>: 6, <span style=\"color: #0000ff\">Arts&Entertainment</span>: 39, <span style=\"color: #0000ff\">NightlifeSpots</span>: 17, <span style=\"color: #0000ff\">GreatOutdoors</span>: 44, <span style=\"color: #0000ff\">College&University</span>: 33</span>"
      ],
      "text/plain": [
       "<IPython.core.display.Markdown object>"
      ]
     },
     "metadata": {},
     "output_type": "display_data"
    },
    {
     "data": {
      "text/markdown": [
       "<span style=\"font-size:11pt\">Eval-Settings: metric: <span style=\"color: #0000ff\">f1</span>, type: <span style=\"color: #0000ff\">all-at-once</span>, DT-Depth: <span style=\"color: #0000ff\">2</span>, train-test-split:<span style=\"color: #0000ff\"> 33.0% in test-set </span></span>"
      ],
      "text/plain": [
       "<IPython.core.display.Markdown object>"
      ]
     },
     "metadata": {},
     "output_type": "display_data"
    },
    {
     "name": "stderr",
     "output_type": "stream",
     "text": [
      "derive_conceptualspace/evaluate/shallow_trees.py:123: UserWarning: There are more classes (9) than your decision-tree can possibly classify (4)\n"
     ]
    },
    {
     "data": {
      "text/markdown": [
       "<span style=\"font-size:11pt\">f1: 0.37</span>"
      ],
      "text/plain": [
       "<IPython.core.display.Markdown object>"
      ]
     },
     "metadata": {},
     "output_type": "display_data"
    },
    {
     "data": {
      "text/markdown": [
       "<span style=\"font-size:11pt\">====================================================================================================</span>"
      ],
      "text/plain": [
       "<IPython.core.display.Markdown object>"
      ]
     },
     "metadata": {},
     "output_type": "display_data"
    },
    {
     "data": {
      "text/markdown": [
       "<span style=\"font-size:11pt\">Using classes from Foursquare - 391/1383 entities have a class</span>"
      ],
      "text/plain": [
       "<IPython.core.display.Markdown object>"
      ]
     },
     "metadata": {},
     "output_type": "display_data"
    },
    {
     "data": {
      "text/markdown": [
       "<span style=\"font-size:11pt\">Labels (9 classes): <span style=\"color: #0000ff\">Shops&Services</span>: 88, <span style=\"color: #0000ff\">Food</span>: 82, <span style=\"color: #0000ff\">Travel&Transport</span>: 35, <span style=\"color: #0000ff\">Professional&Other</span>: 47, <span style=\"color: #0000ff\">Residences</span>: 6, <span style=\"color: #0000ff\">Arts&Entertainment</span>: 39, <span style=\"color: #0000ff\">NightlifeSpots</span>: 17, <span style=\"color: #0000ff\">GreatOutdoors</span>: 44, <span style=\"color: #0000ff\">College&University</span>: 33</span>"
      ],
      "text/plain": [
       "<IPython.core.display.Markdown object>"
      ]
     },
     "metadata": {},
     "output_type": "display_data"
    },
    {
     "data": {
      "text/markdown": [
       "<span style=\"font-size:11pt\">Eval-Settings: metric: <span style=\"color: #0000ff\">accuracy</span>, type: <span style=\"color: #0000ff\">all-at-once</span>, DT-Depth: <span style=\"color: #0000ff\">3</span>, train-test-split:<span style=\"color: #0000ff\"> 33.0% in test-set </span></span>"
      ],
      "text/plain": [
       "<IPython.core.display.Markdown object>"
      ]
     },
     "metadata": {},
     "output_type": "display_data"
    },
    {
     "name": "stderr",
     "output_type": "stream",
     "text": [
      "derive_conceptualspace/evaluate/shallow_trees.py:123: UserWarning: There are more classes (9) than your decision-tree can possibly classify (8)\n"
     ]
    },
    {
     "data": {
      "text/markdown": [
       "<span style=\"font-size:11pt\">accuracy: 0.52</span>"
      ],
      "text/plain": [
       "<IPython.core.display.Markdown object>"
      ]
     },
     "metadata": {},
     "output_type": "display_data"
    },
    {
     "data": {
      "text/markdown": [
       "<span style=\"font-size:11pt\">====================================================================================================</span>"
      ],
      "text/plain": [
       "<IPython.core.display.Markdown object>"
      ]
     },
     "metadata": {},
     "output_type": "display_data"
    },
    {
     "data": {
      "text/markdown": [
       "<span style=\"font-size:11pt\">Using classes from Foursquare - 391/1383 entities have a class</span>"
      ],
      "text/plain": [
       "<IPython.core.display.Markdown object>"
      ]
     },
     "metadata": {},
     "output_type": "display_data"
    },
    {
     "data": {
      "text/markdown": [
       "<span style=\"font-size:11pt\">Labels (9 classes): <span style=\"color: #0000ff\">Shops&Services</span>: 88, <span style=\"color: #0000ff\">Food</span>: 82, <span style=\"color: #0000ff\">Travel&Transport</span>: 35, <span style=\"color: #0000ff\">Professional&Other</span>: 47, <span style=\"color: #0000ff\">Residences</span>: 6, <span style=\"color: #0000ff\">Arts&Entertainment</span>: 39, <span style=\"color: #0000ff\">NightlifeSpots</span>: 17, <span style=\"color: #0000ff\">GreatOutdoors</span>: 44, <span style=\"color: #0000ff\">College&University</span>: 33</span>"
      ],
      "text/plain": [
       "<IPython.core.display.Markdown object>"
      ]
     },
     "metadata": {},
     "output_type": "display_data"
    },
    {
     "data": {
      "text/markdown": [
       "<span style=\"font-size:11pt\">Eval-Settings: metric: <span style=\"color: #0000ff\">f1</span>, type: <span style=\"color: #0000ff\">all-at-once</span>, DT-Depth: <span style=\"color: #0000ff\">3</span>, train-test-split:<span style=\"color: #0000ff\"> 33.0% in test-set </span></span>"
      ],
      "text/plain": [
       "<IPython.core.display.Markdown object>"
      ]
     },
     "metadata": {},
     "output_type": "display_data"
    },
    {
     "name": "stderr",
     "output_type": "stream",
     "text": [
      "derive_conceptualspace/evaluate/shallow_trees.py:123: UserWarning: There are more classes (9) than your decision-tree can possibly classify (8)\n"
     ]
    },
    {
     "data": {
      "text/markdown": [
       "<span style=\"font-size:11pt\">f1: 0.49</span>"
      ],
      "text/plain": [
       "<IPython.core.display.Markdown object>"
      ]
     },
     "metadata": {},
     "output_type": "display_data"
    },
    {
     "data": {
      "text/markdown": [
       "<span style=\"font-size:11pt\">====================================================================================================</span>"
      ],
      "text/plain": [
       "<IPython.core.display.Markdown object>"
      ]
     },
     "metadata": {},
     "output_type": "display_data"
    },
    {
     "data": {
      "text/markdown": [
       "<span style=\"font-size:11pt\">Using classes from Foursquare - 391/1383 entities have a class</span>"
      ],
      "text/plain": [
       "<IPython.core.display.Markdown object>"
      ]
     },
     "metadata": {},
     "output_type": "display_data"
    },
    {
     "data": {
      "text/markdown": [
       "<span style=\"font-size:11pt\">Labels (9 classes): <span style=\"color: #0000ff\">Shops&Services</span>: 88, <span style=\"color: #0000ff\">Food</span>: 82, <span style=\"color: #0000ff\">Travel&Transport</span>: 35, <span style=\"color: #0000ff\">Professional&Other</span>: 47, <span style=\"color: #0000ff\">Residences</span>: 6, <span style=\"color: #0000ff\">Arts&Entertainment</span>: 39, <span style=\"color: #0000ff\">NightlifeSpots</span>: 17, <span style=\"color: #0000ff\">GreatOutdoors</span>: 44, <span style=\"color: #0000ff\">College&University</span>: 33</span>"
      ],
      "text/plain": [
       "<IPython.core.display.Markdown object>"
      ]
     },
     "metadata": {},
     "output_type": "display_data"
    },
    {
     "data": {
      "text/markdown": [
       "<span style=\"font-size:11pt\">Eval-Settings: metric: <span style=\"color: #0000ff\">accuracy</span>, type: <span style=\"color: #0000ff\">all-at-once</span>, DT-Depth: <span style=\"color: #0000ff\">3</span>, train-test-split:<span style=\"color: #0000ff\"> 33.0% in test-set </span></span>"
      ],
      "text/plain": [
       "<IPython.core.display.Markdown object>"
      ]
     },
     "metadata": {},
     "output_type": "display_data"
    },
    {
     "name": "stderr",
     "output_type": "stream",
     "text": [
      "derive_conceptualspace/evaluate/shallow_trees.py:123: UserWarning: There are more classes (9) than your decision-tree can possibly classify (8)\n"
     ]
    },
    {
     "data": {
      "text/markdown": [
       "<span style=\"font-size:11pt\">accuracy: 0.40</span>"
      ],
      "text/plain": [
       "<IPython.core.display.Markdown object>"
      ]
     },
     "metadata": {},
     "output_type": "display_data"
    },
    {
     "data": {
      "text/markdown": [
       "<span style=\"font-size:11pt\">====================================================================================================</span>"
      ],
      "text/plain": [
       "<IPython.core.display.Markdown object>"
      ]
     },
     "metadata": {},
     "output_type": "display_data"
    },
    {
     "data": {
      "text/markdown": [
       "<span style=\"font-size:11pt\">Using classes from Foursquare - 391/1383 entities have a class</span>"
      ],
      "text/plain": [
       "<IPython.core.display.Markdown object>"
      ]
     },
     "metadata": {},
     "output_type": "display_data"
    },
    {
     "data": {
      "text/markdown": [
       "<span style=\"font-size:11pt\">Labels (9 classes): <span style=\"color: #0000ff\">Shops&Services</span>: 88, <span style=\"color: #0000ff\">Food</span>: 82, <span style=\"color: #0000ff\">Travel&Transport</span>: 35, <span style=\"color: #0000ff\">Professional&Other</span>: 47, <span style=\"color: #0000ff\">Residences</span>: 6, <span style=\"color: #0000ff\">Arts&Entertainment</span>: 39, <span style=\"color: #0000ff\">NightlifeSpots</span>: 17, <span style=\"color: #0000ff\">GreatOutdoors</span>: 44, <span style=\"color: #0000ff\">College&University</span>: 33</span>"
      ],
      "text/plain": [
       "<IPython.core.display.Markdown object>"
      ]
     },
     "metadata": {},
     "output_type": "display_data"
    },
    {
     "data": {
      "text/markdown": [
       "<span style=\"font-size:11pt\">Eval-Settings: metric: <span style=\"color: #0000ff\">f1</span>, type: <span style=\"color: #0000ff\">all-at-once</span>, DT-Depth: <span style=\"color: #0000ff\">3</span>, train-test-split:<span style=\"color: #0000ff\"> 33.0% in test-set </span></span>"
      ],
      "text/plain": [
       "<IPython.core.display.Markdown object>"
      ]
     },
     "metadata": {},
     "output_type": "display_data"
    },
    {
     "name": "stderr",
     "output_type": "stream",
     "text": [
      "derive_conceptualspace/evaluate/shallow_trees.py:123: UserWarning: There are more classes (9) than your decision-tree can possibly classify (8)\n"
     ]
    },
    {
     "data": {
      "text/markdown": [
       "<span style=\"font-size:11pt\">f1: 0.52</span>"
      ],
      "text/plain": [
       "<IPython.core.display.Markdown object>"
      ]
     },
     "metadata": {},
     "output_type": "display_data"
    },
    {
     "data": {
      "text/markdown": [
       "<span style=\"font-size:11pt\">====================================================================================================</span>"
      ],
      "text/plain": [
       "<IPython.core.display.Markdown object>"
      ]
     },
     "metadata": {},
     "output_type": "display_data"
    },
    {
     "data": {
      "text/markdown": [
       "<span style=\"font-size:11pt\">Using classes from Foursquare - 391/1383 entities have a class</span>"
      ],
      "text/plain": [
       "<IPython.core.display.Markdown object>"
      ]
     },
     "metadata": {},
     "output_type": "display_data"
    },
    {
     "data": {
      "text/markdown": [
       "<span style=\"font-size:11pt\">Labels (9 classes): <span style=\"color: #0000ff\">Shops&Services</span>: 88, <span style=\"color: #0000ff\">Food</span>: 82, <span style=\"color: #0000ff\">Travel&Transport</span>: 35, <span style=\"color: #0000ff\">Professional&Other</span>: 47, <span style=\"color: #0000ff\">Residences</span>: 6, <span style=\"color: #0000ff\">Arts&Entertainment</span>: 39, <span style=\"color: #0000ff\">NightlifeSpots</span>: 17, <span style=\"color: #0000ff\">GreatOutdoors</span>: 44, <span style=\"color: #0000ff\">College&University</span>: 33</span>"
      ],
      "text/plain": [
       "<IPython.core.display.Markdown object>"
      ]
     },
     "metadata": {},
     "output_type": "display_data"
    },
    {
     "data": {
      "text/markdown": [
       "<span style=\"font-size:11pt\">Eval-Settings: metric: <span style=\"color: #0000ff\">accuracy</span>, type: <span style=\"color: #0000ff\">all-at-once</span>, DT-Depth: <span style=\"color: #0000ff\">None</span>, train-test-split:<span style=\"color: #0000ff\"> 33.0% in test-set </span></span>"
      ],
      "text/plain": [
       "<IPython.core.display.Markdown object>"
      ]
     },
     "metadata": {},
     "output_type": "display_data"
    },
    {
     "data": {
      "text/markdown": [
       "<span style=\"font-size:11pt\">accuracy: 0.55</span>"
      ],
      "text/plain": [
       "<IPython.core.display.Markdown object>"
      ]
     },
     "metadata": {},
     "output_type": "display_data"
    },
    {
     "data": {
      "text/markdown": [
       "<span style=\"font-size:11pt\">====================================================================================================</span>"
      ],
      "text/plain": [
       "<IPython.core.display.Markdown object>"
      ]
     },
     "metadata": {},
     "output_type": "display_data"
    },
    {
     "data": {
      "text/markdown": [
       "<span style=\"font-size:11pt\">Using classes from Foursquare - 391/1383 entities have a class</span>"
      ],
      "text/plain": [
       "<IPython.core.display.Markdown object>"
      ]
     },
     "metadata": {},
     "output_type": "display_data"
    },
    {
     "data": {
      "text/markdown": [
       "<span style=\"font-size:11pt\">Labels (9 classes): <span style=\"color: #0000ff\">Shops&Services</span>: 88, <span style=\"color: #0000ff\">Food</span>: 82, <span style=\"color: #0000ff\">Travel&Transport</span>: 35, <span style=\"color: #0000ff\">Professional&Other</span>: 47, <span style=\"color: #0000ff\">Residences</span>: 6, <span style=\"color: #0000ff\">Arts&Entertainment</span>: 39, <span style=\"color: #0000ff\">NightlifeSpots</span>: 17, <span style=\"color: #0000ff\">GreatOutdoors</span>: 44, <span style=\"color: #0000ff\">College&University</span>: 33</span>"
      ],
      "text/plain": [
       "<IPython.core.display.Markdown object>"
      ]
     },
     "metadata": {},
     "output_type": "display_data"
    },
    {
     "data": {
      "text/markdown": [
       "<span style=\"font-size:11pt\">Eval-Settings: metric: <span style=\"color: #0000ff\">f1</span>, type: <span style=\"color: #0000ff\">all-at-once</span>, DT-Depth: <span style=\"color: #0000ff\">None</span>, train-test-split:<span style=\"color: #0000ff\"> 33.0% in test-set </span></span>"
      ],
      "text/plain": [
       "<IPython.core.display.Markdown object>"
      ]
     },
     "metadata": {},
     "output_type": "display_data"
    },
    {
     "data": {
      "text/markdown": [
       "<span style=\"font-size:11pt\">f1: 0.48</span>"
      ],
      "text/plain": [
       "<IPython.core.display.Markdown object>"
      ]
     },
     "metadata": {},
     "output_type": "display_data"
    },
    {
     "data": {
      "text/markdown": [
       "<span style=\"font-size:11pt\">====================================================================================================</span>"
      ],
      "text/plain": [
       "<IPython.core.display.Markdown object>"
      ]
     },
     "metadata": {},
     "output_type": "display_data"
    },
    {
     "data": {
      "text/markdown": [
       "<span style=\"font-size:11pt\">Using classes from Foursquare - 391/1383 entities have a class</span>"
      ],
      "text/plain": [
       "<IPython.core.display.Markdown object>"
      ]
     },
     "metadata": {},
     "output_type": "display_data"
    },
    {
     "data": {
      "text/markdown": [
       "<span style=\"font-size:11pt\">Labels (9 classes): <span style=\"color: #0000ff\">Shops&Services</span>: 88, <span style=\"color: #0000ff\">Food</span>: 82, <span style=\"color: #0000ff\">Travel&Transport</span>: 35, <span style=\"color: #0000ff\">Professional&Other</span>: 47, <span style=\"color: #0000ff\">Residences</span>: 6, <span style=\"color: #0000ff\">Arts&Entertainment</span>: 39, <span style=\"color: #0000ff\">NightlifeSpots</span>: 17, <span style=\"color: #0000ff\">GreatOutdoors</span>: 44, <span style=\"color: #0000ff\">College&University</span>: 33</span>"
      ],
      "text/plain": [
       "<IPython.core.display.Markdown object>"
      ]
     },
     "metadata": {},
     "output_type": "display_data"
    },
    {
     "data": {
      "text/markdown": [
       "<span style=\"font-size:11pt\">Eval-Settings: metric: <span style=\"color: #0000ff\">accuracy</span>, type: <span style=\"color: #0000ff\">all-at-once</span>, DT-Depth: <span style=\"color: #0000ff\">None</span>, train-test-split:<span style=\"color: #0000ff\"> 33.0% in test-set </span></span>"
      ],
      "text/plain": [
       "<IPython.core.display.Markdown object>"
      ]
     },
     "metadata": {},
     "output_type": "display_data"
    },
    {
     "data": {
      "text/markdown": [
       "<span style=\"font-size:11pt\">accuracy: 0.52</span>"
      ],
      "text/plain": [
       "<IPython.core.display.Markdown object>"
      ]
     },
     "metadata": {},
     "output_type": "display_data"
    },
    {
     "data": {
      "text/markdown": [
       "<span style=\"font-size:11pt\">====================================================================================================</span>"
      ],
      "text/plain": [
       "<IPython.core.display.Markdown object>"
      ]
     },
     "metadata": {},
     "output_type": "display_data"
    },
    {
     "data": {
      "text/markdown": [
       "<span style=\"font-size:11pt\">Using classes from Foursquare - 391/1383 entities have a class</span>"
      ],
      "text/plain": [
       "<IPython.core.display.Markdown object>"
      ]
     },
     "metadata": {},
     "output_type": "display_data"
    },
    {
     "data": {
      "text/markdown": [
       "<span style=\"font-size:11pt\">Labels (9 classes): <span style=\"color: #0000ff\">Shops&Services</span>: 88, <span style=\"color: #0000ff\">Food</span>: 82, <span style=\"color: #0000ff\">Travel&Transport</span>: 35, <span style=\"color: #0000ff\">Professional&Other</span>: 47, <span style=\"color: #0000ff\">Residences</span>: 6, <span style=\"color: #0000ff\">Arts&Entertainment</span>: 39, <span style=\"color: #0000ff\">NightlifeSpots</span>: 17, <span style=\"color: #0000ff\">GreatOutdoors</span>: 44, <span style=\"color: #0000ff\">College&University</span>: 33</span>"
      ],
      "text/plain": [
       "<IPython.core.display.Markdown object>"
      ]
     },
     "metadata": {},
     "output_type": "display_data"
    },
    {
     "data": {
      "text/markdown": [
       "<span style=\"font-size:11pt\">Eval-Settings: metric: <span style=\"color: #0000ff\">f1</span>, type: <span style=\"color: #0000ff\">all-at-once</span>, DT-Depth: <span style=\"color: #0000ff\">None</span>, train-test-split:<span style=\"color: #0000ff\"> 33.0% in test-set </span></span>"
      ],
      "text/plain": [
       "<IPython.core.display.Markdown object>"
      ]
     },
     "metadata": {},
     "output_type": "display_data"
    },
    {
     "data": {
      "text/markdown": [
       "<span style=\"font-size:11pt\">f1: 0.52</span>"
      ],
      "text/plain": [
       "<IPython.core.display.Markdown object>"
      ]
     },
     "metadata": {},
     "output_type": "display_data"
    },
    {
     "data": {
      "text/markdown": [
       "<span style=\"font-size:11pt\">====================================================================================================</span>"
      ],
      "text/plain": [
       "<IPython.core.display.Markdown object>"
      ]
     },
     "metadata": {},
     "output_type": "display_data"
    },
    {
     "data": {
      "text/markdown": [
       "<span style=\"font-size:11pt\">Using classes from Foursquare - 391/1383 entities have a class</span>"
      ],
      "text/plain": [
       "<IPython.core.display.Markdown object>"
      ]
     },
     "metadata": {},
     "output_type": "display_data"
    },
    {
     "data": {
      "text/markdown": [
       "<span style=\"font-size:11pt\">Labels (9 classes): <span style=\"color: #0000ff\">Shops&Services</span>: 88, <span style=\"color: #0000ff\">Food</span>: 82, <span style=\"color: #0000ff\">Travel&Transport</span>: 35, <span style=\"color: #0000ff\">Professional&Other</span>: 47, <span style=\"color: #0000ff\">Residences</span>: 6, <span style=\"color: #0000ff\">Arts&Entertainment</span>: 39, <span style=\"color: #0000ff\">NightlifeSpots</span>: 17, <span style=\"color: #0000ff\">GreatOutdoors</span>: 44, <span style=\"color: #0000ff\">College&University</span>: 33</span>"
      ],
      "text/plain": [
       "<IPython.core.display.Markdown object>"
      ]
     },
     "metadata": {},
     "output_type": "display_data"
    },
    {
     "data": {
      "text/markdown": [
       "<span style=\"font-size:11pt\">Eval-Settings: metric: <span style=\"color: #0000ff\">accuracy</span>, type: <span style=\"color: #0000ff\">one-vs-rest</span>, DT-Depth: <span style=\"color: #0000ff\">1</span>, train-test-split:<span style=\"color: #0000ff\"> 50.0% in test-set </span></span>"
      ],
      "text/plain": [
       "<IPython.core.display.Markdown object>"
      ]
     },
     "metadata": {},
     "output_type": "display_data"
    },
    {
     "data": {
      "text/markdown": [
       "<span style=\"font-size:11pt\">Per-Class-Scores: Food: 0.80, NightlifeSpots: 0.82, Travel&Transport: 0.58, Shops&Services: 0.84, Professional&Other: 0.70, Arts&Entertainment: 0.29, College&University: 0.84, GreatOutdoors: 0.80, Residences: 0.84</span>"
      ],
      "text/plain": [
       "<IPython.core.display.Markdown object>"
      ]
     },
     "metadata": {},
     "output_type": "display_data"
    },
    {
     "data": {
      "text/markdown": [
       "<span style=\"font-size:11pt\">Unweighted Mean accuracy: 72.17%</span>"
      ],
      "text/plain": [
       "<IPython.core.display.Markdown object>"
      ]
     },
     "metadata": {},
     "output_type": "display_data"
    },
    {
     "data": {
      "text/markdown": [
       "<span style=\"font-size:11pt\">Weighted Mean accuracy: 72.96%</span>"
      ],
      "text/plain": [
       "<IPython.core.display.Markdown object>"
      ]
     },
     "metadata": {},
     "output_type": "display_data"
    },
    {
     "data": {
      "text/markdown": [
       "<span style=\"font-size:11pt\">====================================================================================================</span>"
      ],
      "text/plain": [
       "<IPython.core.display.Markdown object>"
      ]
     },
     "metadata": {},
     "output_type": "display_data"
    },
    {
     "data": {
      "text/markdown": [
       "<span style=\"font-size:11pt\">Using classes from Foursquare - 391/1383 entities have a class</span>"
      ],
      "text/plain": [
       "<IPython.core.display.Markdown object>"
      ]
     },
     "metadata": {},
     "output_type": "display_data"
    },
    {
     "data": {
      "text/markdown": [
       "<span style=\"font-size:11pt\">Labels (9 classes): <span style=\"color: #0000ff\">Shops&Services</span>: 88, <span style=\"color: #0000ff\">Food</span>: 82, <span style=\"color: #0000ff\">Travel&Transport</span>: 35, <span style=\"color: #0000ff\">Professional&Other</span>: 47, <span style=\"color: #0000ff\">Residences</span>: 6, <span style=\"color: #0000ff\">Arts&Entertainment</span>: 39, <span style=\"color: #0000ff\">NightlifeSpots</span>: 17, <span style=\"color: #0000ff\">GreatOutdoors</span>: 44, <span style=\"color: #0000ff\">College&University</span>: 33</span>"
      ],
      "text/plain": [
       "<IPython.core.display.Markdown object>"
      ]
     },
     "metadata": {},
     "output_type": "display_data"
    },
    {
     "data": {
      "text/markdown": [
       "<span style=\"font-size:11pt\">Eval-Settings: metric: <span style=\"color: #0000ff\">f1</span>, type: <span style=\"color: #0000ff\">one-vs-rest</span>, DT-Depth: <span style=\"color: #0000ff\">1</span>, train-test-split:<span style=\"color: #0000ff\"> 50.0% in test-set </span></span>"
      ],
      "text/plain": [
       "<IPython.core.display.Markdown object>"
      ]
     },
     "metadata": {},
     "output_type": "display_data"
    },
    {
     "data": {
      "text/markdown": [
       "<span style=\"font-size:11pt\">Per-Class-Scores: Food: 0.61, NightlifeSpots: 0.38, Travel&Transport: 0.32, Shops&Services: 0.68, Professional&Other: 0.31, Arts&Entertainment: 0.14, College&University: 0.36, GreatOutdoors: 0.40, Residences: 0.03</span>"
      ],
      "text/plain": [
       "<IPython.core.display.Markdown object>"
      ]
     },
     "metadata": {},
     "output_type": "display_data"
    },
    {
     "data": {
      "text/markdown": [
       "<span style=\"font-size:11pt\">Unweighted Mean f1: 35.87%</span>"
      ],
      "text/plain": [
       "<IPython.core.display.Markdown object>"
      ]
     },
     "metadata": {},
     "output_type": "display_data"
    },
    {
     "data": {
      "text/markdown": [
       "<span style=\"font-size:11pt\">Weighted Mean f1: 45.24%</span>"
      ],
      "text/plain": [
       "<IPython.core.display.Markdown object>"
      ]
     },
     "metadata": {},
     "output_type": "display_data"
    },
    {
     "data": {
      "text/markdown": [
       "<span style=\"font-size:11pt\">====================================================================================================</span>"
      ],
      "text/plain": [
       "<IPython.core.display.Markdown object>"
      ]
     },
     "metadata": {},
     "output_type": "display_data"
    },
    {
     "data": {
      "text/markdown": [
       "<span style=\"font-size:11pt\">Using classes from Foursquare - 391/1383 entities have a class</span>"
      ],
      "text/plain": [
       "<IPython.core.display.Markdown object>"
      ]
     },
     "metadata": {},
     "output_type": "display_data"
    },
    {
     "data": {
      "text/markdown": [
       "<span style=\"font-size:11pt\">Labels (9 classes): <span style=\"color: #0000ff\">Shops&Services</span>: 88, <span style=\"color: #0000ff\">Food</span>: 82, <span style=\"color: #0000ff\">Travel&Transport</span>: 35, <span style=\"color: #0000ff\">Professional&Other</span>: 47, <span style=\"color: #0000ff\">Residences</span>: 6, <span style=\"color: #0000ff\">Arts&Entertainment</span>: 39, <span style=\"color: #0000ff\">NightlifeSpots</span>: 17, <span style=\"color: #0000ff\">GreatOutdoors</span>: 44, <span style=\"color: #0000ff\">College&University</span>: 33</span>"
      ],
      "text/plain": [
       "<IPython.core.display.Markdown object>"
      ]
     },
     "metadata": {},
     "output_type": "display_data"
    },
    {
     "data": {
      "text/markdown": [
       "<span style=\"font-size:11pt\">Eval-Settings: metric: <span style=\"color: #0000ff\">accuracy</span>, type: <span style=\"color: #0000ff\">one-vs-rest</span>, DT-Depth: <span style=\"color: #0000ff\">1</span>, train-test-split:<span style=\"color: #0000ff\"> 50.0% in test-set </span></span>"
      ],
      "text/plain": [
       "<IPython.core.display.Markdown object>"
      ]
     },
     "metadata": {},
     "output_type": "display_data"
    },
    {
     "data": {
      "text/markdown": [
       "<span style=\"font-size:11pt\">Per-Class-Scores: Food: 0.85, NightlifeSpots: 0.94, Travel&Transport: 0.91, Shops&Services: 0.83, Professional&Other: 0.84, Arts&Entertainment: 0.91, College&University: 0.94, GreatOutdoors: 0.80, Residences: 0.97</span>"
      ],
      "text/plain": [
       "<IPython.core.display.Markdown object>"
      ]
     },
     "metadata": {},
     "output_type": "display_data"
    },
    {
     "data": {
      "text/markdown": [
       "<span style=\"font-size:11pt\">Unweighted Mean accuracy: 88.83%</span>"
      ],
      "text/plain": [
       "<IPython.core.display.Markdown object>"
      ]
     },
     "metadata": {},
     "output_type": "display_data"
    },
    {
     "data": {
      "text/markdown": [
       "<span style=\"font-size:11pt\">Weighted Mean accuracy: 86.31%</span>"
      ],
      "text/plain": [
       "<IPython.core.display.Markdown object>"
      ]
     },
     "metadata": {},
     "output_type": "display_data"
    },
    {
     "data": {
      "text/markdown": [
       "<span style=\"font-size:11pt\">====================================================================================================</span>"
      ],
      "text/plain": [
       "<IPython.core.display.Markdown object>"
      ]
     },
     "metadata": {},
     "output_type": "display_data"
    },
    {
     "data": {
      "text/markdown": [
       "<span style=\"font-size:11pt\">Using classes from Foursquare - 391/1383 entities have a class</span>"
      ],
      "text/plain": [
       "<IPython.core.display.Markdown object>"
      ]
     },
     "metadata": {},
     "output_type": "display_data"
    },
    {
     "data": {
      "text/markdown": [
       "<span style=\"font-size:11pt\">Labels (9 classes): <span style=\"color: #0000ff\">Shops&Services</span>: 88, <span style=\"color: #0000ff\">Food</span>: 82, <span style=\"color: #0000ff\">Travel&Transport</span>: 35, <span style=\"color: #0000ff\">Professional&Other</span>: 47, <span style=\"color: #0000ff\">Residences</span>: 6, <span style=\"color: #0000ff\">Arts&Entertainment</span>: 39, <span style=\"color: #0000ff\">NightlifeSpots</span>: 17, <span style=\"color: #0000ff\">GreatOutdoors</span>: 44, <span style=\"color: #0000ff\">College&University</span>: 33</span>"
      ],
      "text/plain": [
       "<IPython.core.display.Markdown object>"
      ]
     },
     "metadata": {},
     "output_type": "display_data"
    },
    {
     "data": {
      "text/markdown": [
       "<span style=\"font-size:11pt\">Eval-Settings: metric: <span style=\"color: #0000ff\">f1</span>, type: <span style=\"color: #0000ff\">one-vs-rest</span>, DT-Depth: <span style=\"color: #0000ff\">1</span>, train-test-split:<span style=\"color: #0000ff\"> 50.0% in test-set </span></span>"
      ],
      "text/plain": [
       "<IPython.core.display.Markdown object>"
      ]
     },
     "metadata": {},
     "output_type": "display_data"
    },
    {
     "data": {
      "text/markdown": [
       "<span style=\"font-size:11pt\">Per-Class-Scores: Food: 0.71, NightlifeSpots: 0.00, Travel&Transport: 0.00, Shops&Services: 0.66, Professional&Other: 0.00, Arts&Entertainment: 0.00, College&University: 0.00, GreatOutdoors: 0.40, Residences: 0.00</span>"
      ],
      "text/plain": [
       "<IPython.core.display.Markdown object>"
      ]
     },
     "metadata": {},
     "output_type": "display_data"
    },
    {
     "data": {
      "text/markdown": [
       "<span style=\"font-size:11pt\">Unweighted Mean f1: 19.71%</span>"
      ],
      "text/plain": [
       "<IPython.core.display.Markdown object>"
      ]
     },
     "metadata": {},
     "output_type": "display_data"
    },
    {
     "data": {
      "text/markdown": [
       "<span style=\"font-size:11pt\">Weighted Mean f1: 34.32%</span>"
      ],
      "text/plain": [
       "<IPython.core.display.Markdown object>"
      ]
     },
     "metadata": {},
     "output_type": "display_data"
    },
    {
     "data": {
      "text/markdown": [
       "<span style=\"font-size:11pt\">====================================================================================================</span>"
      ],
      "text/plain": [
       "<IPython.core.display.Markdown object>"
      ]
     },
     "metadata": {},
     "output_type": "display_data"
    },
    {
     "data": {
      "text/markdown": [
       "<span style=\"font-size:11pt\">Using classes from Foursquare - 391/1383 entities have a class</span>"
      ],
      "text/plain": [
       "<IPython.core.display.Markdown object>"
      ]
     },
     "metadata": {},
     "output_type": "display_data"
    },
    {
     "data": {
      "text/markdown": [
       "<span style=\"font-size:11pt\">Labels (9 classes): <span style=\"color: #0000ff\">Shops&Services</span>: 88, <span style=\"color: #0000ff\">Food</span>: 82, <span style=\"color: #0000ff\">Travel&Transport</span>: 35, <span style=\"color: #0000ff\">Professional&Other</span>: 47, <span style=\"color: #0000ff\">Residences</span>: 6, <span style=\"color: #0000ff\">Arts&Entertainment</span>: 39, <span style=\"color: #0000ff\">NightlifeSpots</span>: 17, <span style=\"color: #0000ff\">GreatOutdoors</span>: 44, <span style=\"color: #0000ff\">College&University</span>: 33</span>"
      ],
      "text/plain": [
       "<IPython.core.display.Markdown object>"
      ]
     },
     "metadata": {},
     "output_type": "display_data"
    },
    {
     "data": {
      "text/markdown": [
       "<span style=\"font-size:11pt\">Eval-Settings: metric: <span style=\"color: #0000ff\">accuracy</span>, type: <span style=\"color: #0000ff\">one-vs-rest</span>, DT-Depth: <span style=\"color: #0000ff\">2</span>, train-test-split:<span style=\"color: #0000ff\"> 50.0% in test-set </span></span>"
      ],
      "text/plain": [
       "<IPython.core.display.Markdown object>"
      ]
     },
     "metadata": {},
     "output_type": "display_data"
    },
    {
     "data": {
      "text/markdown": [
       "<span style=\"font-size:11pt\">Per-Class-Scores: Food: 0.82, NightlifeSpots: 0.92, Travel&Transport: 0.77, Shops&Services: 0.85, Professional&Other: 0.74, Arts&Entertainment: 0.63, College&University: 0.94, GreatOutdoors: 0.75, Residences: 0.90</span>"
      ],
      "text/plain": [
       "<IPython.core.display.Markdown object>"
      ]
     },
     "metadata": {},
     "output_type": "display_data"
    },
    {
     "data": {
      "text/markdown": [
       "<span style=\"font-size:11pt\">Unweighted Mean accuracy: 81.41%</span>"
      ],
      "text/plain": [
       "<IPython.core.display.Markdown object>"
      ]
     },
     "metadata": {},
     "output_type": "display_data"
    },
    {
     "data": {
      "text/markdown": [
       "<span style=\"font-size:11pt\">Weighted Mean accuracy: 80.09%</span>"
      ],
      "text/plain": [
       "<IPython.core.display.Markdown object>"
      ]
     },
     "metadata": {},
     "output_type": "display_data"
    },
    {
     "data": {
      "text/markdown": [
       "<span style=\"font-size:11pt\">====================================================================================================</span>"
      ],
      "text/plain": [
       "<IPython.core.display.Markdown object>"
      ]
     },
     "metadata": {},
     "output_type": "display_data"
    },
    {
     "data": {
      "text/markdown": [
       "<span style=\"font-size:11pt\">Using classes from Foursquare - 391/1383 entities have a class</span>"
      ],
      "text/plain": [
       "<IPython.core.display.Markdown object>"
      ]
     },
     "metadata": {},
     "output_type": "display_data"
    },
    {
     "data": {
      "text/markdown": [
       "<span style=\"font-size:11pt\">Labels (9 classes): <span style=\"color: #0000ff\">Shops&Services</span>: 88, <span style=\"color: #0000ff\">Food</span>: 82, <span style=\"color: #0000ff\">Travel&Transport</span>: 35, <span style=\"color: #0000ff\">Professional&Other</span>: 47, <span style=\"color: #0000ff\">Residences</span>: 6, <span style=\"color: #0000ff\">Arts&Entertainment</span>: 39, <span style=\"color: #0000ff\">NightlifeSpots</span>: 17, <span style=\"color: #0000ff\">GreatOutdoors</span>: 44, <span style=\"color: #0000ff\">College&University</span>: 33</span>"
      ],
      "text/plain": [
       "<IPython.core.display.Markdown object>"
      ]
     },
     "metadata": {},
     "output_type": "display_data"
    },
    {
     "data": {
      "text/markdown": [
       "<span style=\"font-size:11pt\">Eval-Settings: metric: <span style=\"color: #0000ff\">f1</span>, type: <span style=\"color: #0000ff\">one-vs-rest</span>, DT-Depth: <span style=\"color: #0000ff\">2</span>, train-test-split:<span style=\"color: #0000ff\"> 50.0% in test-set </span></span>"
      ],
      "text/plain": [
       "<IPython.core.display.Markdown object>"
      ]
     },
     "metadata": {},
     "output_type": "display_data"
    },
    {
     "data": {
      "text/markdown": [
       "<span style=\"font-size:11pt\">Per-Class-Scores: Food: 0.69, NightlifeSpots: 0.50, Travel&Transport: 0.22, Shops&Services: 0.67, Professional&Other: 0.40, Arts&Entertainment: 0.20, College&University: 0.73, GreatOutdoors: 0.48, Residences: 0.00</span>"
      ],
      "text/plain": [
       "<IPython.core.display.Markdown object>"
      ]
     },
     "metadata": {},
     "output_type": "display_data"
    },
    {
     "data": {
      "text/markdown": [
       "<span style=\"font-size:11pt\">Unweighted Mean f1: 43.35%</span>"
      ],
      "text/plain": [
       "<IPython.core.display.Markdown object>"
      ]
     },
     "metadata": {},
     "output_type": "display_data"
    },
    {
     "data": {
      "text/markdown": [
       "<span style=\"font-size:11pt\">Weighted Mean f1: 52.27%</span>"
      ],
      "text/plain": [
       "<IPython.core.display.Markdown object>"
      ]
     },
     "metadata": {},
     "output_type": "display_data"
    },
    {
     "data": {
      "text/markdown": [
       "<span style=\"font-size:11pt\">====================================================================================================</span>"
      ],
      "text/plain": [
       "<IPython.core.display.Markdown object>"
      ]
     },
     "metadata": {},
     "output_type": "display_data"
    },
    {
     "data": {
      "text/markdown": [
       "<span style=\"font-size:11pt\">Using classes from Foursquare - 391/1383 entities have a class</span>"
      ],
      "text/plain": [
       "<IPython.core.display.Markdown object>"
      ]
     },
     "metadata": {},
     "output_type": "display_data"
    },
    {
     "data": {
      "text/markdown": [
       "<span style=\"font-size:11pt\">Labels (9 classes): <span style=\"color: #0000ff\">Shops&Services</span>: 88, <span style=\"color: #0000ff\">Food</span>: 82, <span style=\"color: #0000ff\">Travel&Transport</span>: 35, <span style=\"color: #0000ff\">Professional&Other</span>: 47, <span style=\"color: #0000ff\">Residences</span>: 6, <span style=\"color: #0000ff\">Arts&Entertainment</span>: 39, <span style=\"color: #0000ff\">NightlifeSpots</span>: 17, <span style=\"color: #0000ff\">GreatOutdoors</span>: 44, <span style=\"color: #0000ff\">College&University</span>: 33</span>"
      ],
      "text/plain": [
       "<IPython.core.display.Markdown object>"
      ]
     },
     "metadata": {},
     "output_type": "display_data"
    },
    {
     "data": {
      "text/markdown": [
       "<span style=\"font-size:11pt\">Eval-Settings: metric: <span style=\"color: #0000ff\">accuracy</span>, type: <span style=\"color: #0000ff\">one-vs-rest</span>, DT-Depth: <span style=\"color: #0000ff\">2</span>, train-test-split:<span style=\"color: #0000ff\"> 50.0% in test-set </span></span>"
      ],
      "text/plain": [
       "<IPython.core.display.Markdown object>"
      ]
     },
     "metadata": {},
     "output_type": "display_data"
    },
    {
     "data": {
      "text/markdown": [
       "<span style=\"font-size:11pt\">Per-Class-Scores: Food: 0.90, NightlifeSpots: 0.94, Travel&Transport: 0.89, Shops&Services: 0.88, Professional&Other: 0.86, Arts&Entertainment: 0.87, College&University: 0.95, GreatOutdoors: 0.89, Residences: 0.98</span>"
      ],
      "text/plain": [
       "<IPython.core.display.Markdown object>"
      ]
     },
     "metadata": {},
     "output_type": "display_data"
    },
    {
     "data": {
      "text/markdown": [
       "<span style=\"font-size:11pt\">Unweighted Mean accuracy: 90.82%</span>"
      ],
      "text/plain": [
       "<IPython.core.display.Markdown object>"
      ]
     },
     "metadata": {},
     "output_type": "display_data"
    },
    {
     "data": {
      "text/markdown": [
       "<span style=\"font-size:11pt\">Weighted Mean accuracy: 89.40%</span>"
      ],
      "text/plain": [
       "<IPython.core.display.Markdown object>"
      ]
     },
     "metadata": {},
     "output_type": "display_data"
    },
    {
     "data": {
      "text/markdown": [
       "<span style=\"font-size:11pt\">====================================================================================================</span>"
      ],
      "text/plain": [
       "<IPython.core.display.Markdown object>"
      ]
     },
     "metadata": {},
     "output_type": "display_data"
    },
    {
     "data": {
      "text/markdown": [
       "<span style=\"font-size:11pt\">Using classes from Foursquare - 391/1383 entities have a class</span>"
      ],
      "text/plain": [
       "<IPython.core.display.Markdown object>"
      ]
     },
     "metadata": {},
     "output_type": "display_data"
    },
    {
     "data": {
      "text/markdown": [
       "<span style=\"font-size:11pt\">Labels (9 classes): <span style=\"color: #0000ff\">Shops&Services</span>: 88, <span style=\"color: #0000ff\">Food</span>: 82, <span style=\"color: #0000ff\">Travel&Transport</span>: 35, <span style=\"color: #0000ff\">Professional&Other</span>: 47, <span style=\"color: #0000ff\">Residences</span>: 6, <span style=\"color: #0000ff\">Arts&Entertainment</span>: 39, <span style=\"color: #0000ff\">NightlifeSpots</span>: 17, <span style=\"color: #0000ff\">GreatOutdoors</span>: 44, <span style=\"color: #0000ff\">College&University</span>: 33</span>"
      ],
      "text/plain": [
       "<IPython.core.display.Markdown object>"
      ]
     },
     "metadata": {},
     "output_type": "display_data"
    },
    {
     "data": {
      "text/markdown": [
       "<span style=\"font-size:11pt\">Eval-Settings: metric: <span style=\"color: #0000ff\">f1</span>, type: <span style=\"color: #0000ff\">one-vs-rest</span>, DT-Depth: <span style=\"color: #0000ff\">2</span>, train-test-split:<span style=\"color: #0000ff\"> 50.0% in test-set </span></span>"
      ],
      "text/plain": [
       "<IPython.core.display.Markdown object>"
      ]
     },
     "metadata": {},
     "output_type": "display_data"
    },
    {
     "data": {
      "text/markdown": [
       "<span style=\"font-size:11pt\">Per-Class-Scores: Food: 0.78, NightlifeSpots: 0.44, Travel&Transport: 0.00, Shops&Services: 0.60, Professional&Other: 0.07, Arts&Entertainment: 0.00, College&University: 0.57, GreatOutdoors: 0.37, Residences: 0.00</span>"
      ],
      "text/plain": [
       "<IPython.core.display.Markdown object>"
      ]
     },
     "metadata": {},
     "output_type": "display_data"
    },
    {
     "data": {
      "text/markdown": [
       "<span style=\"font-size:11pt\">Unweighted Mean f1: 31.44%</span>"
      ],
      "text/plain": [
       "<IPython.core.display.Markdown object>"
      ]
     },
     "metadata": {},
     "output_type": "display_data"
    },
    {
     "data": {
      "text/markdown": [
       "<span style=\"font-size:11pt\">Weighted Mean f1: 41.52%</span>"
      ],
      "text/plain": [
       "<IPython.core.display.Markdown object>"
      ]
     },
     "metadata": {},
     "output_type": "display_data"
    },
    {
     "data": {
      "text/markdown": [
       "<span style=\"font-size:11pt\">====================================================================================================</span>"
      ],
      "text/plain": [
       "<IPython.core.display.Markdown object>"
      ]
     },
     "metadata": {},
     "output_type": "display_data"
    },
    {
     "data": {
      "text/markdown": [
       "<span style=\"font-size:11pt\">Using classes from Foursquare - 391/1383 entities have a class</span>"
      ],
      "text/plain": [
       "<IPython.core.display.Markdown object>"
      ]
     },
     "metadata": {},
     "output_type": "display_data"
    },
    {
     "data": {
      "text/markdown": [
       "<span style=\"font-size:11pt\">Labels (9 classes): <span style=\"color: #0000ff\">Shops&Services</span>: 88, <span style=\"color: #0000ff\">Food</span>: 82, <span style=\"color: #0000ff\">Travel&Transport</span>: 35, <span style=\"color: #0000ff\">Professional&Other</span>: 47, <span style=\"color: #0000ff\">Residences</span>: 6, <span style=\"color: #0000ff\">Arts&Entertainment</span>: 39, <span style=\"color: #0000ff\">NightlifeSpots</span>: 17, <span style=\"color: #0000ff\">GreatOutdoors</span>: 44, <span style=\"color: #0000ff\">College&University</span>: 33</span>"
      ],
      "text/plain": [
       "<IPython.core.display.Markdown object>"
      ]
     },
     "metadata": {},
     "output_type": "display_data"
    },
    {
     "data": {
      "text/markdown": [
       "<span style=\"font-size:11pt\">Eval-Settings: metric: <span style=\"color: #0000ff\">accuracy</span>, type: <span style=\"color: #0000ff\">one-vs-rest</span>, DT-Depth: <span style=\"color: #0000ff\">3</span>, train-test-split:<span style=\"color: #0000ff\"> 50.0% in test-set </span></span>"
      ],
      "text/plain": [
       "<IPython.core.display.Markdown object>"
      ]
     },
     "metadata": {},
     "output_type": "display_data"
    },
    {
     "data": {
      "text/markdown": [
       "<span style=\"font-size:11pt\">Per-Class-Scores: Food: 0.88, NightlifeSpots: 0.96, Travel&Transport: 0.80, Shops&Services: 0.81, Professional&Other: 0.74, Arts&Entertainment: 0.59, College&University: 0.94, GreatOutdoors: 0.89, Residences: 0.93</span>"
      ],
      "text/plain": [
       "<IPython.core.display.Markdown object>"
      ]
     },
     "metadata": {},
     "output_type": "display_data"
    },
    {
     "data": {
      "text/markdown": [
       "<span style=\"font-size:11pt\">Unweighted Mean accuracy: 83.90%</span>"
      ],
      "text/plain": [
       "<IPython.core.display.Markdown object>"
      ]
     },
     "metadata": {},
     "output_type": "display_data"
    },
    {
     "data": {
      "text/markdown": [
       "<span style=\"font-size:11pt\">Weighted Mean accuracy: 82.17%</span>"
      ],
      "text/plain": [
       "<IPython.core.display.Markdown object>"
      ]
     },
     "metadata": {},
     "output_type": "display_data"
    },
    {
     "data": {
      "text/markdown": [
       "<span style=\"font-size:11pt\">====================================================================================================</span>"
      ],
      "text/plain": [
       "<IPython.core.display.Markdown object>"
      ]
     },
     "metadata": {},
     "output_type": "display_data"
    },
    {
     "data": {
      "text/markdown": [
       "<span style=\"font-size:11pt\">Using classes from Foursquare - 391/1383 entities have a class</span>"
      ],
      "text/plain": [
       "<IPython.core.display.Markdown object>"
      ]
     },
     "metadata": {},
     "output_type": "display_data"
    },
    {
     "data": {
      "text/markdown": [
       "<span style=\"font-size:11pt\">Labels (9 classes): <span style=\"color: #0000ff\">Shops&Services</span>: 88, <span style=\"color: #0000ff\">Food</span>: 82, <span style=\"color: #0000ff\">Travel&Transport</span>: 35, <span style=\"color: #0000ff\">Professional&Other</span>: 47, <span style=\"color: #0000ff\">Residences</span>: 6, <span style=\"color: #0000ff\">Arts&Entertainment</span>: 39, <span style=\"color: #0000ff\">NightlifeSpots</span>: 17, <span style=\"color: #0000ff\">GreatOutdoors</span>: 44, <span style=\"color: #0000ff\">College&University</span>: 33</span>"
      ],
      "text/plain": [
       "<IPython.core.display.Markdown object>"
      ]
     },
     "metadata": {},
     "output_type": "display_data"
    },
    {
     "data": {
      "text/markdown": [
       "<span style=\"font-size:11pt\">Eval-Settings: metric: <span style=\"color: #0000ff\">f1</span>, type: <span style=\"color: #0000ff\">one-vs-rest</span>, DT-Depth: <span style=\"color: #0000ff\">3</span>, train-test-split:<span style=\"color: #0000ff\"> 50.0% in test-set </span></span>"
      ],
      "text/plain": [
       "<IPython.core.display.Markdown object>"
      ]
     },
     "metadata": {},
     "output_type": "display_data"
    },
    {
     "data": {
      "text/markdown": [
       "<span style=\"font-size:11pt\">Per-Class-Scores: Food: 0.80, NightlifeSpots: 0.59, Travel&Transport: 0.31, Shops&Services: 0.63, Professional&Other: 0.39, Arts&Entertainment: 0.18, College&University: 0.78, GreatOutdoors: 0.47, Residences: 0.00</span>"
      ],
      "text/plain": [
       "<IPython.core.display.Markdown object>"
      ]
     },
     "metadata": {},
     "output_type": "display_data"
    },
    {
     "data": {
      "text/markdown": [
       "<span style=\"font-size:11pt\">Unweighted Mean f1: 46.08%</span>"
      ],
      "text/plain": [
       "<IPython.core.display.Markdown object>"
      ]
     },
     "metadata": {},
     "output_type": "display_data"
    },
    {
     "data": {
      "text/markdown": [
       "<span style=\"font-size:11pt\">Weighted Mean f1: 54.64%</span>"
      ],
      "text/plain": [
       "<IPython.core.display.Markdown object>"
      ]
     },
     "metadata": {},
     "output_type": "display_data"
    },
    {
     "data": {
      "text/markdown": [
       "<span style=\"font-size:11pt\">====================================================================================================</span>"
      ],
      "text/plain": [
       "<IPython.core.display.Markdown object>"
      ]
     },
     "metadata": {},
     "output_type": "display_data"
    },
    {
     "data": {
      "text/markdown": [
       "<span style=\"font-size:11pt\">Using classes from Foursquare - 391/1383 entities have a class</span>"
      ],
      "text/plain": [
       "<IPython.core.display.Markdown object>"
      ]
     },
     "metadata": {},
     "output_type": "display_data"
    },
    {
     "data": {
      "text/markdown": [
       "<span style=\"font-size:11pt\">Labels (9 classes): <span style=\"color: #0000ff\">Shops&Services</span>: 88, <span style=\"color: #0000ff\">Food</span>: 82, <span style=\"color: #0000ff\">Travel&Transport</span>: 35, <span style=\"color: #0000ff\">Professional&Other</span>: 47, <span style=\"color: #0000ff\">Residences</span>: 6, <span style=\"color: #0000ff\">Arts&Entertainment</span>: 39, <span style=\"color: #0000ff\">NightlifeSpots</span>: 17, <span style=\"color: #0000ff\">GreatOutdoors</span>: 44, <span style=\"color: #0000ff\">College&University</span>: 33</span>"
      ],
      "text/plain": [
       "<IPython.core.display.Markdown object>"
      ]
     },
     "metadata": {},
     "output_type": "display_data"
    },
    {
     "data": {
      "text/markdown": [
       "<span style=\"font-size:11pt\">Eval-Settings: metric: <span style=\"color: #0000ff\">accuracy</span>, type: <span style=\"color: #0000ff\">one-vs-rest</span>, DT-Depth: <span style=\"color: #0000ff\">3</span>, train-test-split:<span style=\"color: #0000ff\"> 50.0% in test-set </span></span>"
      ],
      "text/plain": [
       "<IPython.core.display.Markdown object>"
      ]
     },
     "metadata": {},
     "output_type": "display_data"
    },
    {
     "data": {
      "text/markdown": [
       "<span style=\"font-size:11pt\">Per-Class-Scores: Food: 0.91, NightlifeSpots: 0.95, Travel&Transport: 0.90, Shops&Services: 0.84, Professional&Other: 0.86, Arts&Entertainment: 0.85, College&University: 0.96, GreatOutdoors: 0.91, Residences: 0.96</span>"
      ],
      "text/plain": [
       "<IPython.core.display.Markdown object>"
      ]
     },
     "metadata": {},
     "output_type": "display_data"
    },
    {
     "data": {
      "text/markdown": [
       "<span style=\"font-size:11pt\">Unweighted Mean accuracy: 90.31%</span>"
      ],
      "text/plain": [
       "<IPython.core.display.Markdown object>"
      ]
     },
     "metadata": {},
     "output_type": "display_data"
    },
    {
     "data": {
      "text/markdown": [
       "<span style=\"font-size:11pt\">Weighted Mean accuracy: 88.69%</span>"
      ],
      "text/plain": [
       "<IPython.core.display.Markdown object>"
      ]
     },
     "metadata": {},
     "output_type": "display_data"
    },
    {
     "data": {
      "text/markdown": [
       "<span style=\"font-size:11pt\">====================================================================================================</span>"
      ],
      "text/plain": [
       "<IPython.core.display.Markdown object>"
      ]
     },
     "metadata": {},
     "output_type": "display_data"
    },
    {
     "data": {
      "text/markdown": [
       "<span style=\"font-size:11pt\">Using classes from Foursquare - 391/1383 entities have a class</span>"
      ],
      "text/plain": [
       "<IPython.core.display.Markdown object>"
      ]
     },
     "metadata": {},
     "output_type": "display_data"
    },
    {
     "data": {
      "text/markdown": [
       "<span style=\"font-size:11pt\">Labels (9 classes): <span style=\"color: #0000ff\">Shops&Services</span>: 88, <span style=\"color: #0000ff\">Food</span>: 82, <span style=\"color: #0000ff\">Travel&Transport</span>: 35, <span style=\"color: #0000ff\">Professional&Other</span>: 47, <span style=\"color: #0000ff\">Residences</span>: 6, <span style=\"color: #0000ff\">Arts&Entertainment</span>: 39, <span style=\"color: #0000ff\">NightlifeSpots</span>: 17, <span style=\"color: #0000ff\">GreatOutdoors</span>: 44, <span style=\"color: #0000ff\">College&University</span>: 33</span>"
      ],
      "text/plain": [
       "<IPython.core.display.Markdown object>"
      ]
     },
     "metadata": {},
     "output_type": "display_data"
    },
    {
     "data": {
      "text/markdown": [
       "<span style=\"font-size:11pt\">Eval-Settings: metric: <span style=\"color: #0000ff\">f1</span>, type: <span style=\"color: #0000ff\">one-vs-rest</span>, DT-Depth: <span style=\"color: #0000ff\">3</span>, train-test-split:<span style=\"color: #0000ff\"> 50.0% in test-set </span></span>"
      ],
      "text/plain": [
       "<IPython.core.display.Markdown object>"
      ]
     },
     "metadata": {},
     "output_type": "display_data"
    },
    {
     "data": {
      "text/markdown": [
       "<span style=\"font-size:11pt\">Per-Class-Scores: Food: 0.80, NightlifeSpots: 0.00, Travel&Transport: 0.40, Shops&Services: 0.69, Professional&Other: 0.24, Arts&Entertainment: 0.00, College&University: 0.63, GreatOutdoors: 0.38, Residences: 0.00</span>"
      ],
      "text/plain": [
       "<IPython.core.display.Markdown object>"
      ]
     },
     "metadata": {},
     "output_type": "display_data"
    },
    {
     "data": {
      "text/markdown": [
       "<span style=\"font-size:11pt\">Unweighted Mean f1: 34.90%</span>"
      ],
      "text/plain": [
       "<IPython.core.display.Markdown object>"
      ]
     },
     "metadata": {},
     "output_type": "display_data"
    },
    {
     "data": {
      "text/markdown": [
       "<span style=\"font-size:11pt\">Weighted Mean f1: 48.39%</span>"
      ],
      "text/plain": [
       "<IPython.core.display.Markdown object>"
      ]
     },
     "metadata": {},
     "output_type": "display_data"
    },
    {
     "data": {
      "text/markdown": [
       "<span style=\"font-size:11pt\">====================================================================================================</span>"
      ],
      "text/plain": [
       "<IPython.core.display.Markdown object>"
      ]
     },
     "metadata": {},
     "output_type": "display_data"
    },
    {
     "data": {
      "text/markdown": [
       "<span style=\"font-size:11pt\">Using classes from Foursquare - 391/1383 entities have a class</span>"
      ],
      "text/plain": [
       "<IPython.core.display.Markdown object>"
      ]
     },
     "metadata": {},
     "output_type": "display_data"
    },
    {
     "data": {
      "text/markdown": [
       "<span style=\"font-size:11pt\">Labels (9 classes): <span style=\"color: #0000ff\">Shops&Services</span>: 88, <span style=\"color: #0000ff\">Food</span>: 82, <span style=\"color: #0000ff\">Travel&Transport</span>: 35, <span style=\"color: #0000ff\">Professional&Other</span>: 47, <span style=\"color: #0000ff\">Residences</span>: 6, <span style=\"color: #0000ff\">Arts&Entertainment</span>: 39, <span style=\"color: #0000ff\">NightlifeSpots</span>: 17, <span style=\"color: #0000ff\">GreatOutdoors</span>: 44, <span style=\"color: #0000ff\">College&University</span>: 33</span>"
      ],
      "text/plain": [
       "<IPython.core.display.Markdown object>"
      ]
     },
     "metadata": {},
     "output_type": "display_data"
    },
    {
     "data": {
      "text/markdown": [
       "<span style=\"font-size:11pt\">Eval-Settings: metric: <span style=\"color: #0000ff\">accuracy</span>, type: <span style=\"color: #0000ff\">one-vs-rest</span>, DT-Depth: <span style=\"color: #0000ff\">None</span>, train-test-split:<span style=\"color: #0000ff\"> 50.0% in test-set </span></span>"
      ],
      "text/plain": [
       "<IPython.core.display.Markdown object>"
      ]
     },
     "metadata": {},
     "output_type": "display_data"
    },
    {
     "data": {
      "text/markdown": [
       "<span style=\"font-size:11pt\">Per-Class-Scores: Food: 0.88, NightlifeSpots: 0.96, Travel&Transport: 0.90, Shops&Services: 0.85, Professional&Other: 0.87, Arts&Entertainment: 0.81, College&University: 0.96, GreatOutdoors: 0.89, Residences: 0.96</span>"
      ],
      "text/plain": [
       "<IPython.core.display.Markdown object>"
      ]
     },
     "metadata": {},
     "output_type": "display_data"
    },
    {
     "data": {
      "text/markdown": [
       "<span style=\"font-size:11pt\">Unweighted Mean accuracy: 89.74%</span>"
      ],
      "text/plain": [
       "<IPython.core.display.Markdown object>"
      ]
     },
     "metadata": {},
     "output_type": "display_data"
    },
    {
     "data": {
      "text/markdown": [
       "<span style=\"font-size:11pt\">Weighted Mean accuracy: 87.97%</span>"
      ],
      "text/plain": [
       "<IPython.core.display.Markdown object>"
      ]
     },
     "metadata": {},
     "output_type": "display_data"
    },
    {
     "data": {
      "text/markdown": [
       "<span style=\"font-size:11pt\">====================================================================================================</span>"
      ],
      "text/plain": [
       "<IPython.core.display.Markdown object>"
      ]
     },
     "metadata": {},
     "output_type": "display_data"
    },
    {
     "data": {
      "text/markdown": [
       "<span style=\"font-size:11pt\">Using classes from Foursquare - 391/1383 entities have a class</span>"
      ],
      "text/plain": [
       "<IPython.core.display.Markdown object>"
      ]
     },
     "metadata": {},
     "output_type": "display_data"
    },
    {
     "data": {
      "text/markdown": [
       "<span style=\"font-size:11pt\">Labels (9 classes): <span style=\"color: #0000ff\">Shops&Services</span>: 88, <span style=\"color: #0000ff\">Food</span>: 82, <span style=\"color: #0000ff\">Travel&Transport</span>: 35, <span style=\"color: #0000ff\">Professional&Other</span>: 47, <span style=\"color: #0000ff\">Residences</span>: 6, <span style=\"color: #0000ff\">Arts&Entertainment</span>: 39, <span style=\"color: #0000ff\">NightlifeSpots</span>: 17, <span style=\"color: #0000ff\">GreatOutdoors</span>: 44, <span style=\"color: #0000ff\">College&University</span>: 33</span>"
      ],
      "text/plain": [
       "<IPython.core.display.Markdown object>"
      ]
     },
     "metadata": {},
     "output_type": "display_data"
    },
    {
     "data": {
      "text/markdown": [
       "<span style=\"font-size:11pt\">Eval-Settings: metric: <span style=\"color: #0000ff\">f1</span>, type: <span style=\"color: #0000ff\">one-vs-rest</span>, DT-Depth: <span style=\"color: #0000ff\">None</span>, train-test-split:<span style=\"color: #0000ff\"> 50.0% in test-set </span></span>"
      ],
      "text/plain": [
       "<IPython.core.display.Markdown object>"
      ]
     },
     "metadata": {},
     "output_type": "display_data"
    },
    {
     "data": {
      "text/markdown": [
       "<span style=\"font-size:11pt\">Per-Class-Scores: Food: 0.77, NightlifeSpots: 0.43, Travel&Transport: 0.22, Shops&Services: 0.56, Professional&Other: 0.21, Arts&Entertainment: 0.00, College&University: 0.67, GreatOutdoors: 0.37, Residences: 0.67</span>"
      ],
      "text/plain": [
       "<IPython.core.display.Markdown object>"
      ]
     },
     "metadata": {},
     "output_type": "display_data"
    },
    {
     "data": {
      "text/markdown": [
       "<span style=\"font-size:11pt\">Unweighted Mean f1: 43.33%</span>"
      ],
      "text/plain": [
       "<IPython.core.display.Markdown object>"
      ]
     },
     "metadata": {},
     "output_type": "display_data"
    },
    {
     "data": {
      "text/markdown": [
       "<span style=\"font-size:11pt\">Weighted Mean f1: 46.02%</span>"
      ],
      "text/plain": [
       "<IPython.core.display.Markdown object>"
      ]
     },
     "metadata": {},
     "output_type": "display_data"
    },
    {
     "data": {
      "text/markdown": [
       "<span style=\"font-size:11pt\">====================================================================================================</span>"
      ],
      "text/plain": [
       "<IPython.core.display.Markdown object>"
      ]
     },
     "metadata": {},
     "output_type": "display_data"
    },
    {
     "data": {
      "text/markdown": [
       "<span style=\"font-size:11pt\">Using classes from Foursquare - 391/1383 entities have a class</span>"
      ],
      "text/plain": [
       "<IPython.core.display.Markdown object>"
      ]
     },
     "metadata": {},
     "output_type": "display_data"
    },
    {
     "data": {
      "text/markdown": [
       "<span style=\"font-size:11pt\">Labels (9 classes): <span style=\"color: #0000ff\">Shops&Services</span>: 88, <span style=\"color: #0000ff\">Food</span>: 82, <span style=\"color: #0000ff\">Travel&Transport</span>: 35, <span style=\"color: #0000ff\">Professional&Other</span>: 47, <span style=\"color: #0000ff\">Residences</span>: 6, <span style=\"color: #0000ff\">Arts&Entertainment</span>: 39, <span style=\"color: #0000ff\">NightlifeSpots</span>: 17, <span style=\"color: #0000ff\">GreatOutdoors</span>: 44, <span style=\"color: #0000ff\">College&University</span>: 33</span>"
      ],
      "text/plain": [
       "<IPython.core.display.Markdown object>"
      ]
     },
     "metadata": {},
     "output_type": "display_data"
    },
    {
     "data": {
      "text/markdown": [
       "<span style=\"font-size:11pt\">Eval-Settings: metric: <span style=\"color: #0000ff\">accuracy</span>, type: <span style=\"color: #0000ff\">one-vs-rest</span>, DT-Depth: <span style=\"color: #0000ff\">None</span>, train-test-split:<span style=\"color: #0000ff\"> 50.0% in test-set </span></span>"
      ],
      "text/plain": [
       "<IPython.core.display.Markdown object>"
      ]
     },
     "metadata": {},
     "output_type": "display_data"
    },
    {
     "data": {
      "text/markdown": [
       "<span style=\"font-size:11pt\">Per-Class-Scores: Food: 0.91, NightlifeSpots: 0.96, Travel&Transport: 0.87, Shops&Services: 0.82, Professional&Other: 0.86, Arts&Entertainment: 0.85, College&University: 0.92, GreatOutdoors: 0.87, Residences: 0.97</span>"
      ],
      "text/plain": [
       "<IPython.core.display.Markdown object>"
      ]
     },
     "metadata": {},
     "output_type": "display_data"
    },
    {
     "data": {
      "text/markdown": [
       "<span style=\"font-size:11pt\">Unweighted Mean accuracy: 89.17%</span>"
      ],
      "text/plain": [
       "<IPython.core.display.Markdown object>"
      ]
     },
     "metadata": {},
     "output_type": "display_data"
    },
    {
     "data": {
      "text/markdown": [
       "<span style=\"font-size:11pt\">Weighted Mean accuracy: 87.22%</span>"
      ],
      "text/plain": [
       "<IPython.core.display.Markdown object>"
      ]
     },
     "metadata": {},
     "output_type": "display_data"
    },
    {
     "data": {
      "text/markdown": [
       "<span style=\"font-size:11pt\">====================================================================================================</span>"
      ],
      "text/plain": [
       "<IPython.core.display.Markdown object>"
      ]
     },
     "metadata": {},
     "output_type": "display_data"
    },
    {
     "data": {
      "text/markdown": [
       "<span style=\"font-size:11pt\">Using classes from Foursquare - 391/1383 entities have a class</span>"
      ],
      "text/plain": [
       "<IPython.core.display.Markdown object>"
      ]
     },
     "metadata": {},
     "output_type": "display_data"
    },
    {
     "data": {
      "text/markdown": [
       "<span style=\"font-size:11pt\">Labels (9 classes): <span style=\"color: #0000ff\">Shops&Services</span>: 88, <span style=\"color: #0000ff\">Food</span>: 82, <span style=\"color: #0000ff\">Travel&Transport</span>: 35, <span style=\"color: #0000ff\">Professional&Other</span>: 47, <span style=\"color: #0000ff\">Residences</span>: 6, <span style=\"color: #0000ff\">Arts&Entertainment</span>: 39, <span style=\"color: #0000ff\">NightlifeSpots</span>: 17, <span style=\"color: #0000ff\">GreatOutdoors</span>: 44, <span style=\"color: #0000ff\">College&University</span>: 33</span>"
      ],
      "text/plain": [
       "<IPython.core.display.Markdown object>"
      ]
     },
     "metadata": {},
     "output_type": "display_data"
    },
    {
     "data": {
      "text/markdown": [
       "<span style=\"font-size:11pt\">Eval-Settings: metric: <span style=\"color: #0000ff\">f1</span>, type: <span style=\"color: #0000ff\">one-vs-rest</span>, DT-Depth: <span style=\"color: #0000ff\">None</span>, train-test-split:<span style=\"color: #0000ff\"> 50.0% in test-set </span></span>"
      ],
      "text/plain": [
       "<IPython.core.display.Markdown object>"
      ]
     },
     "metadata": {},
     "output_type": "display_data"
    },
    {
     "data": {
      "text/markdown": [
       "<span style=\"font-size:11pt\">Per-Class-Scores: Food: 0.70, NightlifeSpots: 0.59, Travel&Transport: 0.28, Shops&Services: 0.62, Professional&Other: 0.37, Arts&Entertainment: 0.28, College&University: 0.76, GreatOutdoors: 0.51, Residences: 0.00</span>"
      ],
      "text/plain": [
       "<IPython.core.display.Markdown object>"
      ]
     },
     "metadata": {},
     "output_type": "display_data"
    },
    {
     "data": {
      "text/markdown": [
       "<span style=\"font-size:11pt\">Unweighted Mean f1: 45.60%</span>"
      ],
      "text/plain": [
       "<IPython.core.display.Markdown object>"
      ]
     },
     "metadata": {},
     "output_type": "display_data"
    },
    {
     "data": {
      "text/markdown": [
       "<span style=\"font-size:11pt\">Weighted Mean f1: 53.06%</span>"
      ],
      "text/plain": [
       "<IPython.core.display.Markdown object>"
      ]
     },
     "metadata": {},
     "output_type": "display_data"
    },
    {
     "data": {
      "text/markdown": [
       "<span style=\"font-size:11pt\">====================================================================================================</span>"
      ],
      "text/plain": [
       "<IPython.core.display.Markdown object>"
      ]
     },
     "metadata": {},
     "output_type": "display_data"
    },
    {
     "data": {
      "text/markdown": [
       "<span style=\"font-size:11pt\">Using classes from Foursquare - 391/1383 entities have a class</span>"
      ],
      "text/plain": [
       "<IPython.core.display.Markdown object>"
      ]
     },
     "metadata": {},
     "output_type": "display_data"
    },
    {
     "data": {
      "text/markdown": [
       "<span style=\"font-size:11pt\">Labels (9 classes): <span style=\"color: #0000ff\">Shops&Services</span>: 88, <span style=\"color: #0000ff\">Food</span>: 82, <span style=\"color: #0000ff\">Travel&Transport</span>: 35, <span style=\"color: #0000ff\">Professional&Other</span>: 47, <span style=\"color: #0000ff\">Residences</span>: 6, <span style=\"color: #0000ff\">Arts&Entertainment</span>: 39, <span style=\"color: #0000ff\">NightlifeSpots</span>: 17, <span style=\"color: #0000ff\">GreatOutdoors</span>: 44, <span style=\"color: #0000ff\">College&University</span>: 33</span>"
      ],
      "text/plain": [
       "<IPython.core.display.Markdown object>"
      ]
     },
     "metadata": {},
     "output_type": "display_data"
    },
    {
     "data": {
      "text/markdown": [
       "<span style=\"font-size:11pt\">Eval-Settings: metric: <span style=\"color: #0000ff\">accuracy</span>, type: <span style=\"color: #0000ff\">all-at-once</span>, DT-Depth: <span style=\"color: #0000ff\">1</span>, train-test-split:<span style=\"color: #0000ff\"> 50.0% in test-set </span></span>"
      ],
      "text/plain": [
       "<IPython.core.display.Markdown object>"
      ]
     },
     "metadata": {},
     "output_type": "display_data"
    },
    {
     "name": "stderr",
     "output_type": "stream",
     "text": [
      "derive_conceptualspace/evaluate/shallow_trees.py:123: UserWarning: There are more classes (9) than your decision-tree can possibly classify (2)\n"
     ]
    },
    {
     "data": {
      "text/markdown": [
       "<span style=\"font-size:11pt\">accuracy: 0.12</span>"
      ],
      "text/plain": [
       "<IPython.core.display.Markdown object>"
      ]
     },
     "metadata": {},
     "output_type": "display_data"
    },
    {
     "data": {
      "text/markdown": [
       "<span style=\"font-size:11pt\">Baseline accuracy: 0.23</span>"
      ],
      "text/plain": [
       "<IPython.core.display.Markdown object>"
      ]
     },
     "metadata": {},
     "output_type": "display_data"
    },
    {
     "data": {
      "text/markdown": [
       "<span style=\"font-size:11pt\">Maximally achievable accuracy: 0.43</span>"
      ],
      "text/plain": [
       "<IPython.core.display.Markdown object>"
      ]
     },
     "metadata": {},
     "output_type": "display_data"
    },
    {
     "data": {
      "text/markdown": [
       "<span style=\"font-size:11pt\">====================================================================================================</span>"
      ],
      "text/plain": [
       "<IPython.core.display.Markdown object>"
      ]
     },
     "metadata": {},
     "output_type": "display_data"
    },
    {
     "data": {
      "text/markdown": [
       "<span style=\"font-size:11pt\">Using classes from Foursquare - 391/1383 entities have a class</span>"
      ],
      "text/plain": [
       "<IPython.core.display.Markdown object>"
      ]
     },
     "metadata": {},
     "output_type": "display_data"
    },
    {
     "data": {
      "text/markdown": [
       "<span style=\"font-size:11pt\">Labels (9 classes): <span style=\"color: #0000ff\">Shops&Services</span>: 88, <span style=\"color: #0000ff\">Food</span>: 82, <span style=\"color: #0000ff\">Travel&Transport</span>: 35, <span style=\"color: #0000ff\">Professional&Other</span>: 47, <span style=\"color: #0000ff\">Residences</span>: 6, <span style=\"color: #0000ff\">Arts&Entertainment</span>: 39, <span style=\"color: #0000ff\">NightlifeSpots</span>: 17, <span style=\"color: #0000ff\">GreatOutdoors</span>: 44, <span style=\"color: #0000ff\">College&University</span>: 33</span>"
      ],
      "text/plain": [
       "<IPython.core.display.Markdown object>"
      ]
     },
     "metadata": {},
     "output_type": "display_data"
    },
    {
     "data": {
      "text/markdown": [
       "<span style=\"font-size:11pt\">Eval-Settings: metric: <span style=\"color: #0000ff\">f1</span>, type: <span style=\"color: #0000ff\">all-at-once</span>, DT-Depth: <span style=\"color: #0000ff\">1</span>, train-test-split:<span style=\"color: #0000ff\"> 50.0% in test-set </span></span>"
      ],
      "text/plain": [
       "<IPython.core.display.Markdown object>"
      ]
     },
     "metadata": {},
     "output_type": "display_data"
    },
    {
     "name": "stderr",
     "output_type": "stream",
     "text": [
      "derive_conceptualspace/evaluate/shallow_trees.py:123: UserWarning: There are more classes (9) than your decision-tree can possibly classify (2)\n"
     ]
    },
    {
     "data": {
      "text/markdown": [
       "<span style=\"font-size:11pt\">f1: 0.12</span>"
      ],
      "text/plain": [
       "<IPython.core.display.Markdown object>"
      ]
     },
     "metadata": {},
     "output_type": "display_data"
    },
    {
     "data": {
      "text/markdown": [
       "<span style=\"font-size:11pt\">Baseline f1: 0.23</span>"
      ],
      "text/plain": [
       "<IPython.core.display.Markdown object>"
      ]
     },
     "metadata": {},
     "output_type": "display_data"
    },
    {
     "data": {
      "text/markdown": [
       "<span style=\"font-size:11pt\">====================================================================================================</span>"
      ],
      "text/plain": [
       "<IPython.core.display.Markdown object>"
      ]
     },
     "metadata": {},
     "output_type": "display_data"
    },
    {
     "data": {
      "text/markdown": [
       "<span style=\"font-size:11pt\">Using classes from Foursquare - 391/1383 entities have a class</span>"
      ],
      "text/plain": [
       "<IPython.core.display.Markdown object>"
      ]
     },
     "metadata": {},
     "output_type": "display_data"
    },
    {
     "data": {
      "text/markdown": [
       "<span style=\"font-size:11pt\">Labels (9 classes): <span style=\"color: #0000ff\">Shops&Services</span>: 88, <span style=\"color: #0000ff\">Food</span>: 82, <span style=\"color: #0000ff\">Travel&Transport</span>: 35, <span style=\"color: #0000ff\">Professional&Other</span>: 47, <span style=\"color: #0000ff\">Residences</span>: 6, <span style=\"color: #0000ff\">Arts&Entertainment</span>: 39, <span style=\"color: #0000ff\">NightlifeSpots</span>: 17, <span style=\"color: #0000ff\">GreatOutdoors</span>: 44, <span style=\"color: #0000ff\">College&University</span>: 33</span>"
      ],
      "text/plain": [
       "<IPython.core.display.Markdown object>"
      ]
     },
     "metadata": {},
     "output_type": "display_data"
    },
    {
     "data": {
      "text/markdown": [
       "<span style=\"font-size:11pt\">Eval-Settings: metric: <span style=\"color: #0000ff\">accuracy</span>, type: <span style=\"color: #0000ff\">all-at-once</span>, DT-Depth: <span style=\"color: #0000ff\">1</span>, train-test-split:<span style=\"color: #0000ff\"> 50.0% in test-set </span></span>"
      ],
      "text/plain": [
       "<IPython.core.display.Markdown object>"
      ]
     },
     "metadata": {},
     "output_type": "display_data"
    },
    {
     "name": "stderr",
     "output_type": "stream",
     "text": [
      "derive_conceptualspace/evaluate/shallow_trees.py:123: UserWarning: There are more classes (9) than your decision-tree can possibly classify (2)\n"
     ]
    },
    {
     "data": {
      "text/markdown": [
       "<span style=\"font-size:11pt\">accuracy: 0.30</span>"
      ],
      "text/plain": [
       "<IPython.core.display.Markdown object>"
      ]
     },
     "metadata": {},
     "output_type": "display_data"
    },
    {
     "data": {
      "text/markdown": [
       "<span style=\"font-size:11pt\">Baseline accuracy: 0.23</span>"
      ],
      "text/plain": [
       "<IPython.core.display.Markdown object>"
      ]
     },
     "metadata": {},
     "output_type": "display_data"
    },
    {
     "data": {
      "text/markdown": [
       "<span style=\"font-size:11pt\">Maximally achievable accuracy: 0.43</span>"
      ],
      "text/plain": [
       "<IPython.core.display.Markdown object>"
      ]
     },
     "metadata": {},
     "output_type": "display_data"
    },
    {
     "data": {
      "text/markdown": [
       "<span style=\"font-size:11pt\">====================================================================================================</span>"
      ],
      "text/plain": [
       "<IPython.core.display.Markdown object>"
      ]
     },
     "metadata": {},
     "output_type": "display_data"
    },
    {
     "data": {
      "text/markdown": [
       "<span style=\"font-size:11pt\">Using classes from Foursquare - 391/1383 entities have a class</span>"
      ],
      "text/plain": [
       "<IPython.core.display.Markdown object>"
      ]
     },
     "metadata": {},
     "output_type": "display_data"
    },
    {
     "data": {
      "text/markdown": [
       "<span style=\"font-size:11pt\">Labels (9 classes): <span style=\"color: #0000ff\">Shops&Services</span>: 88, <span style=\"color: #0000ff\">Food</span>: 82, <span style=\"color: #0000ff\">Travel&Transport</span>: 35, <span style=\"color: #0000ff\">Professional&Other</span>: 47, <span style=\"color: #0000ff\">Residences</span>: 6, <span style=\"color: #0000ff\">Arts&Entertainment</span>: 39, <span style=\"color: #0000ff\">NightlifeSpots</span>: 17, <span style=\"color: #0000ff\">GreatOutdoors</span>: 44, <span style=\"color: #0000ff\">College&University</span>: 33</span>"
      ],
      "text/plain": [
       "<IPython.core.display.Markdown object>"
      ]
     },
     "metadata": {},
     "output_type": "display_data"
    },
    {
     "data": {
      "text/markdown": [
       "<span style=\"font-size:11pt\">Eval-Settings: metric: <span style=\"color: #0000ff\">f1</span>, type: <span style=\"color: #0000ff\">all-at-once</span>, DT-Depth: <span style=\"color: #0000ff\">1</span>, train-test-split:<span style=\"color: #0000ff\"> 50.0% in test-set </span></span>"
      ],
      "text/plain": [
       "<IPython.core.display.Markdown object>"
      ]
     },
     "metadata": {},
     "output_type": "display_data"
    },
    {
     "name": "stderr",
     "output_type": "stream",
     "text": [
      "derive_conceptualspace/evaluate/shallow_trees.py:123: UserWarning: There are more classes (9) than your decision-tree can possibly classify (2)\n"
     ]
    },
    {
     "data": {
      "text/markdown": [
       "<span style=\"font-size:11pt\">f1: 0.32</span>"
      ],
      "text/plain": [
       "<IPython.core.display.Markdown object>"
      ]
     },
     "metadata": {},
     "output_type": "display_data"
    },
    {
     "data": {
      "text/markdown": [
       "<span style=\"font-size:11pt\">Baseline f1: 0.23</span>"
      ],
      "text/plain": [
       "<IPython.core.display.Markdown object>"
      ]
     },
     "metadata": {},
     "output_type": "display_data"
    },
    {
     "data": {
      "text/markdown": [
       "<span style=\"font-size:11pt\">====================================================================================================</span>"
      ],
      "text/plain": [
       "<IPython.core.display.Markdown object>"
      ]
     },
     "metadata": {},
     "output_type": "display_data"
    },
    {
     "data": {
      "text/markdown": [
       "<span style=\"font-size:11pt\">Using classes from Foursquare - 391/1383 entities have a class</span>"
      ],
      "text/plain": [
       "<IPython.core.display.Markdown object>"
      ]
     },
     "metadata": {},
     "output_type": "display_data"
    },
    {
     "data": {
      "text/markdown": [
       "<span style=\"font-size:11pt\">Labels (9 classes): <span style=\"color: #0000ff\">Shops&Services</span>: 88, <span style=\"color: #0000ff\">Food</span>: 82, <span style=\"color: #0000ff\">Travel&Transport</span>: 35, <span style=\"color: #0000ff\">Professional&Other</span>: 47, <span style=\"color: #0000ff\">Residences</span>: 6, <span style=\"color: #0000ff\">Arts&Entertainment</span>: 39, <span style=\"color: #0000ff\">NightlifeSpots</span>: 17, <span style=\"color: #0000ff\">GreatOutdoors</span>: 44, <span style=\"color: #0000ff\">College&University</span>: 33</span>"
      ],
      "text/plain": [
       "<IPython.core.display.Markdown object>"
      ]
     },
     "metadata": {},
     "output_type": "display_data"
    },
    {
     "data": {
      "text/markdown": [
       "<span style=\"font-size:11pt\">Eval-Settings: metric: <span style=\"color: #0000ff\">accuracy</span>, type: <span style=\"color: #0000ff\">all-at-once</span>, DT-Depth: <span style=\"color: #0000ff\">2</span>, train-test-split:<span style=\"color: #0000ff\"> 50.0% in test-set </span></span>"
      ],
      "text/plain": [
       "<IPython.core.display.Markdown object>"
      ]
     },
     "metadata": {},
     "output_type": "display_data"
    },
    {
     "name": "stderr",
     "output_type": "stream",
     "text": [
      "derive_conceptualspace/evaluate/shallow_trees.py:123: UserWarning: There are more classes (9) than your decision-tree can possibly classify (4)\n"
     ]
    },
    {
     "data": {
      "text/markdown": [
       "<span style=\"font-size:11pt\">accuracy: 0.22</span>"
      ],
      "text/plain": [
       "<IPython.core.display.Markdown object>"
      ]
     },
     "metadata": {},
     "output_type": "display_data"
    },
    {
     "data": {
      "text/markdown": [
       "<span style=\"font-size:11pt\">====================================================================================================</span>"
      ],
      "text/plain": [
       "<IPython.core.display.Markdown object>"
      ]
     },
     "metadata": {},
     "output_type": "display_data"
    },
    {
     "data": {
      "text/markdown": [
       "<span style=\"font-size:11pt\">Using classes from Foursquare - 391/1383 entities have a class</span>"
      ],
      "text/plain": [
       "<IPython.core.display.Markdown object>"
      ]
     },
     "metadata": {},
     "output_type": "display_data"
    },
    {
     "data": {
      "text/markdown": [
       "<span style=\"font-size:11pt\">Labels (9 classes): <span style=\"color: #0000ff\">Shops&Services</span>: 88, <span style=\"color: #0000ff\">Food</span>: 82, <span style=\"color: #0000ff\">Travel&Transport</span>: 35, <span style=\"color: #0000ff\">Professional&Other</span>: 47, <span style=\"color: #0000ff\">Residences</span>: 6, <span style=\"color: #0000ff\">Arts&Entertainment</span>: 39, <span style=\"color: #0000ff\">NightlifeSpots</span>: 17, <span style=\"color: #0000ff\">GreatOutdoors</span>: 44, <span style=\"color: #0000ff\">College&University</span>: 33</span>"
      ],
      "text/plain": [
       "<IPython.core.display.Markdown object>"
      ]
     },
     "metadata": {},
     "output_type": "display_data"
    },
    {
     "data": {
      "text/markdown": [
       "<span style=\"font-size:11pt\">Eval-Settings: metric: <span style=\"color: #0000ff\">f1</span>, type: <span style=\"color: #0000ff\">all-at-once</span>, DT-Depth: <span style=\"color: #0000ff\">2</span>, train-test-split:<span style=\"color: #0000ff\"> 50.0% in test-set </span></span>"
      ],
      "text/plain": [
       "<IPython.core.display.Markdown object>"
      ]
     },
     "metadata": {},
     "output_type": "display_data"
    },
    {
     "name": "stderr",
     "output_type": "stream",
     "text": [
      "derive_conceptualspace/evaluate/shallow_trees.py:123: UserWarning: There are more classes (9) than your decision-tree can possibly classify (4)\n"
     ]
    },
    {
     "data": {
      "text/markdown": [
       "<span style=\"font-size:11pt\">f1: 0.27</span>"
      ],
      "text/plain": [
       "<IPython.core.display.Markdown object>"
      ]
     },
     "metadata": {},
     "output_type": "display_data"
    },
    {
     "data": {
      "text/markdown": [
       "<span style=\"font-size:11pt\">====================================================================================================</span>"
      ],
      "text/plain": [
       "<IPython.core.display.Markdown object>"
      ]
     },
     "metadata": {},
     "output_type": "display_data"
    },
    {
     "data": {
      "text/markdown": [
       "<span style=\"font-size:11pt\">Using classes from Foursquare - 391/1383 entities have a class</span>"
      ],
      "text/plain": [
       "<IPython.core.display.Markdown object>"
      ]
     },
     "metadata": {},
     "output_type": "display_data"
    },
    {
     "data": {
      "text/markdown": [
       "<span style=\"font-size:11pt\">Labels (9 classes): <span style=\"color: #0000ff\">Shops&Services</span>: 88, <span style=\"color: #0000ff\">Food</span>: 82, <span style=\"color: #0000ff\">Travel&Transport</span>: 35, <span style=\"color: #0000ff\">Professional&Other</span>: 47, <span style=\"color: #0000ff\">Residences</span>: 6, <span style=\"color: #0000ff\">Arts&Entertainment</span>: 39, <span style=\"color: #0000ff\">NightlifeSpots</span>: 17, <span style=\"color: #0000ff\">GreatOutdoors</span>: 44, <span style=\"color: #0000ff\">College&University</span>: 33</span>"
      ],
      "text/plain": [
       "<IPython.core.display.Markdown object>"
      ]
     },
     "metadata": {},
     "output_type": "display_data"
    },
    {
     "data": {
      "text/markdown": [
       "<span style=\"font-size:11pt\">Eval-Settings: metric: <span style=\"color: #0000ff\">accuracy</span>, type: <span style=\"color: #0000ff\">all-at-once</span>, DT-Depth: <span style=\"color: #0000ff\">2</span>, train-test-split:<span style=\"color: #0000ff\"> 50.0% in test-set </span></span>"
      ],
      "text/plain": [
       "<IPython.core.display.Markdown object>"
      ]
     },
     "metadata": {},
     "output_type": "display_data"
    },
    {
     "name": "stderr",
     "output_type": "stream",
     "text": [
      "derive_conceptualspace/evaluate/shallow_trees.py:123: UserWarning: There are more classes (9) than your decision-tree can possibly classify (4)\n"
     ]
    },
    {
     "data": {
      "text/markdown": [
       "<span style=\"font-size:11pt\">accuracy: 0.35</span>"
      ],
      "text/plain": [
       "<IPython.core.display.Markdown object>"
      ]
     },
     "metadata": {},
     "output_type": "display_data"
    },
    {
     "data": {
      "text/markdown": [
       "<span style=\"font-size:11pt\">====================================================================================================</span>"
      ],
      "text/plain": [
       "<IPython.core.display.Markdown object>"
      ]
     },
     "metadata": {},
     "output_type": "display_data"
    },
    {
     "data": {
      "text/markdown": [
       "<span style=\"font-size:11pt\">Using classes from Foursquare - 391/1383 entities have a class</span>"
      ],
      "text/plain": [
       "<IPython.core.display.Markdown object>"
      ]
     },
     "metadata": {},
     "output_type": "display_data"
    },
    {
     "data": {
      "text/markdown": [
       "<span style=\"font-size:11pt\">Labels (9 classes): <span style=\"color: #0000ff\">Shops&Services</span>: 88, <span style=\"color: #0000ff\">Food</span>: 82, <span style=\"color: #0000ff\">Travel&Transport</span>: 35, <span style=\"color: #0000ff\">Professional&Other</span>: 47, <span style=\"color: #0000ff\">Residences</span>: 6, <span style=\"color: #0000ff\">Arts&Entertainment</span>: 39, <span style=\"color: #0000ff\">NightlifeSpots</span>: 17, <span style=\"color: #0000ff\">GreatOutdoors</span>: 44, <span style=\"color: #0000ff\">College&University</span>: 33</span>"
      ],
      "text/plain": [
       "<IPython.core.display.Markdown object>"
      ]
     },
     "metadata": {},
     "output_type": "display_data"
    },
    {
     "data": {
      "text/markdown": [
       "<span style=\"font-size:11pt\">Eval-Settings: metric: <span style=\"color: #0000ff\">f1</span>, type: <span style=\"color: #0000ff\">all-at-once</span>, DT-Depth: <span style=\"color: #0000ff\">2</span>, train-test-split:<span style=\"color: #0000ff\"> 50.0% in test-set </span></span>"
      ],
      "text/plain": [
       "<IPython.core.display.Markdown object>"
      ]
     },
     "metadata": {},
     "output_type": "display_data"
    },
    {
     "name": "stderr",
     "output_type": "stream",
     "text": [
      "derive_conceptualspace/evaluate/shallow_trees.py:123: UserWarning: There are more classes (9) than your decision-tree can possibly classify (4)\n"
     ]
    },
    {
     "data": {
      "text/markdown": [
       "<span style=\"font-size:11pt\">f1: 0.38</span>"
      ],
      "text/plain": [
       "<IPython.core.display.Markdown object>"
      ]
     },
     "metadata": {},
     "output_type": "display_data"
    },
    {
     "data": {
      "text/markdown": [
       "<span style=\"font-size:11pt\">====================================================================================================</span>"
      ],
      "text/plain": [
       "<IPython.core.display.Markdown object>"
      ]
     },
     "metadata": {},
     "output_type": "display_data"
    },
    {
     "data": {
      "text/markdown": [
       "<span style=\"font-size:11pt\">Using classes from Foursquare - 391/1383 entities have a class</span>"
      ],
      "text/plain": [
       "<IPython.core.display.Markdown object>"
      ]
     },
     "metadata": {},
     "output_type": "display_data"
    },
    {
     "data": {
      "text/markdown": [
       "<span style=\"font-size:11pt\">Labels (9 classes): <span style=\"color: #0000ff\">Shops&Services</span>: 88, <span style=\"color: #0000ff\">Food</span>: 82, <span style=\"color: #0000ff\">Travel&Transport</span>: 35, <span style=\"color: #0000ff\">Professional&Other</span>: 47, <span style=\"color: #0000ff\">Residences</span>: 6, <span style=\"color: #0000ff\">Arts&Entertainment</span>: 39, <span style=\"color: #0000ff\">NightlifeSpots</span>: 17, <span style=\"color: #0000ff\">GreatOutdoors</span>: 44, <span style=\"color: #0000ff\">College&University</span>: 33</span>"
      ],
      "text/plain": [
       "<IPython.core.display.Markdown object>"
      ]
     },
     "metadata": {},
     "output_type": "display_data"
    },
    {
     "data": {
      "text/markdown": [
       "<span style=\"font-size:11pt\">Eval-Settings: metric: <span style=\"color: #0000ff\">accuracy</span>, type: <span style=\"color: #0000ff\">all-at-once</span>, DT-Depth: <span style=\"color: #0000ff\">3</span>, train-test-split:<span style=\"color: #0000ff\"> 50.0% in test-set </span></span>"
      ],
      "text/plain": [
       "<IPython.core.display.Markdown object>"
      ]
     },
     "metadata": {},
     "output_type": "display_data"
    },
    {
     "name": "stderr",
     "output_type": "stream",
     "text": [
      "derive_conceptualspace/evaluate/shallow_trees.py:123: UserWarning: There are more classes (9) than your decision-tree can possibly classify (8)\n"
     ]
    },
    {
     "data": {
      "text/markdown": [
       "<span style=\"font-size:11pt\">accuracy: 0.41</span>"
      ],
      "text/plain": [
       "<IPython.core.display.Markdown object>"
      ]
     },
     "metadata": {},
     "output_type": "display_data"
    },
    {
     "data": {
      "text/markdown": [
       "<span style=\"font-size:11pt\">====================================================================================================</span>"
      ],
      "text/plain": [
       "<IPython.core.display.Markdown object>"
      ]
     },
     "metadata": {},
     "output_type": "display_data"
    },
    {
     "data": {
      "text/markdown": [
       "<span style=\"font-size:11pt\">Using classes from Foursquare - 391/1383 entities have a class</span>"
      ],
      "text/plain": [
       "<IPython.core.display.Markdown object>"
      ]
     },
     "metadata": {},
     "output_type": "display_data"
    },
    {
     "data": {
      "text/markdown": [
       "<span style=\"font-size:11pt\">Labels (9 classes): <span style=\"color: #0000ff\">Shops&Services</span>: 88, <span style=\"color: #0000ff\">Food</span>: 82, <span style=\"color: #0000ff\">Travel&Transport</span>: 35, <span style=\"color: #0000ff\">Professional&Other</span>: 47, <span style=\"color: #0000ff\">Residences</span>: 6, <span style=\"color: #0000ff\">Arts&Entertainment</span>: 39, <span style=\"color: #0000ff\">NightlifeSpots</span>: 17, <span style=\"color: #0000ff\">GreatOutdoors</span>: 44, <span style=\"color: #0000ff\">College&University</span>: 33</span>"
      ],
      "text/plain": [
       "<IPython.core.display.Markdown object>"
      ]
     },
     "metadata": {},
     "output_type": "display_data"
    },
    {
     "data": {
      "text/markdown": [
       "<span style=\"font-size:11pt\">Eval-Settings: metric: <span style=\"color: #0000ff\">f1</span>, type: <span style=\"color: #0000ff\">all-at-once</span>, DT-Depth: <span style=\"color: #0000ff\">3</span>, train-test-split:<span style=\"color: #0000ff\"> 50.0% in test-set </span></span>"
      ],
      "text/plain": [
       "<IPython.core.display.Markdown object>"
      ]
     },
     "metadata": {},
     "output_type": "display_data"
    },
    {
     "name": "stderr",
     "output_type": "stream",
     "text": [
      "derive_conceptualspace/evaluate/shallow_trees.py:123: UserWarning: There are more classes (9) than your decision-tree can possibly classify (8)\n"
     ]
    },
    {
     "data": {
      "text/markdown": [
       "<span style=\"font-size:11pt\">f1: 0.36</span>"
      ],
      "text/plain": [
       "<IPython.core.display.Markdown object>"
      ]
     },
     "metadata": {},
     "output_type": "display_data"
    },
    {
     "data": {
      "text/markdown": [
       "<span style=\"font-size:11pt\">====================================================================================================</span>"
      ],
      "text/plain": [
       "<IPython.core.display.Markdown object>"
      ]
     },
     "metadata": {},
     "output_type": "display_data"
    },
    {
     "data": {
      "text/markdown": [
       "<span style=\"font-size:11pt\">Using classes from Foursquare - 391/1383 entities have a class</span>"
      ],
      "text/plain": [
       "<IPython.core.display.Markdown object>"
      ]
     },
     "metadata": {},
     "output_type": "display_data"
    },
    {
     "data": {
      "text/markdown": [
       "<span style=\"font-size:11pt\">Labels (9 classes): <span style=\"color: #0000ff\">Shops&Services</span>: 88, <span style=\"color: #0000ff\">Food</span>: 82, <span style=\"color: #0000ff\">Travel&Transport</span>: 35, <span style=\"color: #0000ff\">Professional&Other</span>: 47, <span style=\"color: #0000ff\">Residences</span>: 6, <span style=\"color: #0000ff\">Arts&Entertainment</span>: 39, <span style=\"color: #0000ff\">NightlifeSpots</span>: 17, <span style=\"color: #0000ff\">GreatOutdoors</span>: 44, <span style=\"color: #0000ff\">College&University</span>: 33</span>"
      ],
      "text/plain": [
       "<IPython.core.display.Markdown object>"
      ]
     },
     "metadata": {},
     "output_type": "display_data"
    },
    {
     "data": {
      "text/markdown": [
       "<span style=\"font-size:11pt\">Eval-Settings: metric: <span style=\"color: #0000ff\">accuracy</span>, type: <span style=\"color: #0000ff\">all-at-once</span>, DT-Depth: <span style=\"color: #0000ff\">3</span>, train-test-split:<span style=\"color: #0000ff\"> 50.0% in test-set </span></span>"
      ],
      "text/plain": [
       "<IPython.core.display.Markdown object>"
      ]
     },
     "metadata": {},
     "output_type": "display_data"
    },
    {
     "name": "stderr",
     "output_type": "stream",
     "text": [
      "derive_conceptualspace/evaluate/shallow_trees.py:123: UserWarning: There are more classes (9) than your decision-tree can possibly classify (8)\n"
     ]
    },
    {
     "data": {
      "text/markdown": [
       "<span style=\"font-size:11pt\">accuracy: 0.52</span>"
      ],
      "text/plain": [
       "<IPython.core.display.Markdown object>"
      ]
     },
     "metadata": {},
     "output_type": "display_data"
    },
    {
     "data": {
      "text/markdown": [
       "<span style=\"font-size:11pt\">====================================================================================================</span>"
      ],
      "text/plain": [
       "<IPython.core.display.Markdown object>"
      ]
     },
     "metadata": {},
     "output_type": "display_data"
    },
    {
     "data": {
      "text/markdown": [
       "<span style=\"font-size:11pt\">Using classes from Foursquare - 391/1383 entities have a class</span>"
      ],
      "text/plain": [
       "<IPython.core.display.Markdown object>"
      ]
     },
     "metadata": {},
     "output_type": "display_data"
    },
    {
     "data": {
      "text/markdown": [
       "<span style=\"font-size:11pt\">Labels (9 classes): <span style=\"color: #0000ff\">Shops&Services</span>: 88, <span style=\"color: #0000ff\">Food</span>: 82, <span style=\"color: #0000ff\">Travel&Transport</span>: 35, <span style=\"color: #0000ff\">Professional&Other</span>: 47, <span style=\"color: #0000ff\">Residences</span>: 6, <span style=\"color: #0000ff\">Arts&Entertainment</span>: 39, <span style=\"color: #0000ff\">NightlifeSpots</span>: 17, <span style=\"color: #0000ff\">GreatOutdoors</span>: 44, <span style=\"color: #0000ff\">College&University</span>: 33</span>"
      ],
      "text/plain": [
       "<IPython.core.display.Markdown object>"
      ]
     },
     "metadata": {},
     "output_type": "display_data"
    },
    {
     "data": {
      "text/markdown": [
       "<span style=\"font-size:11pt\">Eval-Settings: metric: <span style=\"color: #0000ff\">f1</span>, type: <span style=\"color: #0000ff\">all-at-once</span>, DT-Depth: <span style=\"color: #0000ff\">3</span>, train-test-split:<span style=\"color: #0000ff\"> 50.0% in test-set </span></span>"
      ],
      "text/plain": [
       "<IPython.core.display.Markdown object>"
      ]
     },
     "metadata": {},
     "output_type": "display_data"
    },
    {
     "name": "stderr",
     "output_type": "stream",
     "text": [
      "derive_conceptualspace/evaluate/shallow_trees.py:123: UserWarning: There are more classes (9) than your decision-tree can possibly classify (8)\n"
     ]
    },
    {
     "data": {
      "text/markdown": [
       "<span style=\"font-size:11pt\">f1: 0.47</span>"
      ],
      "text/plain": [
       "<IPython.core.display.Markdown object>"
      ]
     },
     "metadata": {},
     "output_type": "display_data"
    },
    {
     "data": {
      "text/markdown": [
       "<span style=\"font-size:11pt\">====================================================================================================</span>"
      ],
      "text/plain": [
       "<IPython.core.display.Markdown object>"
      ]
     },
     "metadata": {},
     "output_type": "display_data"
    },
    {
     "data": {
      "text/markdown": [
       "<span style=\"font-size:11pt\">Using classes from Foursquare - 391/1383 entities have a class</span>"
      ],
      "text/plain": [
       "<IPython.core.display.Markdown object>"
      ]
     },
     "metadata": {},
     "output_type": "display_data"
    },
    {
     "data": {
      "text/markdown": [
       "<span style=\"font-size:11pt\">Labels (9 classes): <span style=\"color: #0000ff\">Shops&Services</span>: 88, <span style=\"color: #0000ff\">Food</span>: 82, <span style=\"color: #0000ff\">Travel&Transport</span>: 35, <span style=\"color: #0000ff\">Professional&Other</span>: 47, <span style=\"color: #0000ff\">Residences</span>: 6, <span style=\"color: #0000ff\">Arts&Entertainment</span>: 39, <span style=\"color: #0000ff\">NightlifeSpots</span>: 17, <span style=\"color: #0000ff\">GreatOutdoors</span>: 44, <span style=\"color: #0000ff\">College&University</span>: 33</span>"
      ],
      "text/plain": [
       "<IPython.core.display.Markdown object>"
      ]
     },
     "metadata": {},
     "output_type": "display_data"
    },
    {
     "data": {
      "text/markdown": [
       "<span style=\"font-size:11pt\">Eval-Settings: metric: <span style=\"color: #0000ff\">accuracy</span>, type: <span style=\"color: #0000ff\">all-at-once</span>, DT-Depth: <span style=\"color: #0000ff\">None</span>, train-test-split:<span style=\"color: #0000ff\"> 50.0% in test-set </span></span>"
      ],
      "text/plain": [
       "<IPython.core.display.Markdown object>"
      ]
     },
     "metadata": {},
     "output_type": "display_data"
    },
    {
     "data": {
      "text/markdown": [
       "<span style=\"font-size:11pt\">accuracy: 0.49</span>"
      ],
      "text/plain": [
       "<IPython.core.display.Markdown object>"
      ]
     },
     "metadata": {},
     "output_type": "display_data"
    },
    {
     "data": {
      "text/markdown": [
       "<span style=\"font-size:11pt\">====================================================================================================</span>"
      ],
      "text/plain": [
       "<IPython.core.display.Markdown object>"
      ]
     },
     "metadata": {},
     "output_type": "display_data"
    },
    {
     "data": {
      "text/markdown": [
       "<span style=\"font-size:11pt\">Using classes from Foursquare - 391/1383 entities have a class</span>"
      ],
      "text/plain": [
       "<IPython.core.display.Markdown object>"
      ]
     },
     "metadata": {},
     "output_type": "display_data"
    },
    {
     "data": {
      "text/markdown": [
       "<span style=\"font-size:11pt\">Labels (9 classes): <span style=\"color: #0000ff\">Shops&Services</span>: 88, <span style=\"color: #0000ff\">Food</span>: 82, <span style=\"color: #0000ff\">Travel&Transport</span>: 35, <span style=\"color: #0000ff\">Professional&Other</span>: 47, <span style=\"color: #0000ff\">Residences</span>: 6, <span style=\"color: #0000ff\">Arts&Entertainment</span>: 39, <span style=\"color: #0000ff\">NightlifeSpots</span>: 17, <span style=\"color: #0000ff\">GreatOutdoors</span>: 44, <span style=\"color: #0000ff\">College&University</span>: 33</span>"
      ],
      "text/plain": [
       "<IPython.core.display.Markdown object>"
      ]
     },
     "metadata": {},
     "output_type": "display_data"
    },
    {
     "data": {
      "text/markdown": [
       "<span style=\"font-size:11pt\">Eval-Settings: metric: <span style=\"color: #0000ff\">f1</span>, type: <span style=\"color: #0000ff\">all-at-once</span>, DT-Depth: <span style=\"color: #0000ff\">None</span>, train-test-split:<span style=\"color: #0000ff\"> 50.0% in test-set </span></span>"
      ],
      "text/plain": [
       "<IPython.core.display.Markdown object>"
      ]
     },
     "metadata": {},
     "output_type": "display_data"
    },
    {
     "data": {
      "text/markdown": [
       "<span style=\"font-size:11pt\">f1: 0.51</span>"
      ],
      "text/plain": [
       "<IPython.core.display.Markdown object>"
      ]
     },
     "metadata": {},
     "output_type": "display_data"
    },
    {
     "data": {
      "text/markdown": [
       "<span style=\"font-size:11pt\">====================================================================================================</span>"
      ],
      "text/plain": [
       "<IPython.core.display.Markdown object>"
      ]
     },
     "metadata": {},
     "output_type": "display_data"
    },
    {
     "data": {
      "text/markdown": [
       "<span style=\"font-size:11pt\">Using classes from Foursquare - 391/1383 entities have a class</span>"
      ],
      "text/plain": [
       "<IPython.core.display.Markdown object>"
      ]
     },
     "metadata": {},
     "output_type": "display_data"
    },
    {
     "data": {
      "text/markdown": [
       "<span style=\"font-size:11pt\">Labels (9 classes): <span style=\"color: #0000ff\">Shops&Services</span>: 88, <span style=\"color: #0000ff\">Food</span>: 82, <span style=\"color: #0000ff\">Travel&Transport</span>: 35, <span style=\"color: #0000ff\">Professional&Other</span>: 47, <span style=\"color: #0000ff\">Residences</span>: 6, <span style=\"color: #0000ff\">Arts&Entertainment</span>: 39, <span style=\"color: #0000ff\">NightlifeSpots</span>: 17, <span style=\"color: #0000ff\">GreatOutdoors</span>: 44, <span style=\"color: #0000ff\">College&University</span>: 33</span>"
      ],
      "text/plain": [
       "<IPython.core.display.Markdown object>"
      ]
     },
     "metadata": {},
     "output_type": "display_data"
    },
    {
     "data": {
      "text/markdown": [
       "<span style=\"font-size:11pt\">Eval-Settings: metric: <span style=\"color: #0000ff\">accuracy</span>, type: <span style=\"color: #0000ff\">all-at-once</span>, DT-Depth: <span style=\"color: #0000ff\">None</span>, train-test-split:<span style=\"color: #0000ff\"> 50.0% in test-set </span></span>"
      ],
      "text/plain": [
       "<IPython.core.display.Markdown object>"
      ]
     },
     "metadata": {},
     "output_type": "display_data"
    },
    {
     "data": {
      "text/markdown": [
       "<span style=\"font-size:11pt\">accuracy: 0.47</span>"
      ],
      "text/plain": [
       "<IPython.core.display.Markdown object>"
      ]
     },
     "metadata": {},
     "output_type": "display_data"
    },
    {
     "data": {
      "text/markdown": [
       "<span style=\"font-size:11pt\">====================================================================================================</span>"
      ],
      "text/plain": [
       "<IPython.core.display.Markdown object>"
      ]
     },
     "metadata": {},
     "output_type": "display_data"
    },
    {
     "data": {
      "text/markdown": [
       "<span style=\"font-size:11pt\">Using classes from Foursquare - 391/1383 entities have a class</span>"
      ],
      "text/plain": [
       "<IPython.core.display.Markdown object>"
      ]
     },
     "metadata": {},
     "output_type": "display_data"
    },
    {
     "data": {
      "text/markdown": [
       "<span style=\"font-size:11pt\">Labels (9 classes): <span style=\"color: #0000ff\">Shops&Services</span>: 88, <span style=\"color: #0000ff\">Food</span>: 82, <span style=\"color: #0000ff\">Travel&Transport</span>: 35, <span style=\"color: #0000ff\">Professional&Other</span>: 47, <span style=\"color: #0000ff\">Residences</span>: 6, <span style=\"color: #0000ff\">Arts&Entertainment</span>: 39, <span style=\"color: #0000ff\">NightlifeSpots</span>: 17, <span style=\"color: #0000ff\">GreatOutdoors</span>: 44, <span style=\"color: #0000ff\">College&University</span>: 33</span>"
      ],
      "text/plain": [
       "<IPython.core.display.Markdown object>"
      ]
     },
     "metadata": {},
     "output_type": "display_data"
    },
    {
     "data": {
      "text/markdown": [
       "<span style=\"font-size:11pt\">Eval-Settings: metric: <span style=\"color: #0000ff\">f1</span>, type: <span style=\"color: #0000ff\">all-at-once</span>, DT-Depth: <span style=\"color: #0000ff\">None</span>, train-test-split:<span style=\"color: #0000ff\"> 50.0% in test-set </span></span>"
      ],
      "text/plain": [
       "<IPython.core.display.Markdown object>"
      ]
     },
     "metadata": {},
     "output_type": "display_data"
    },
    {
     "data": {
      "text/markdown": [
       "<span style=\"font-size:11pt\">f1: 0.49</span>"
      ],
      "text/plain": [
       "<IPython.core.display.Markdown object>"
      ]
     },
     "metadata": {},
     "output_type": "display_data"
    },
    {
     "data": {
      "text/markdown": [
       "<span style=\"font-size:11pt\">====================================================================================================</span>"
      ],
      "text/plain": [
       "<IPython.core.display.Markdown object>"
      ]
     },
     "metadata": {},
     "output_type": "display_data"
    },
    {
     "data": {
      "text/markdown": [
       "<span style=\"font-size:11pt\">Using classes from Foursquare - 391/1383 entities have a class</span>"
      ],
      "text/plain": [
       "<IPython.core.display.Markdown object>"
      ]
     },
     "metadata": {},
     "output_type": "display_data"
    },
    {
     "data": {
      "text/markdown": [
       "<span style=\"font-size:11pt\">Labels (9 classes): <span style=\"color: #0000ff\">Shops&Services</span>: 88, <span style=\"color: #0000ff\">Food</span>: 82, <span style=\"color: #0000ff\">Travel&Transport</span>: 35, <span style=\"color: #0000ff\">Professional&Other</span>: 47, <span style=\"color: #0000ff\">Residences</span>: 6, <span style=\"color: #0000ff\">Arts&Entertainment</span>: 39, <span style=\"color: #0000ff\">NightlifeSpots</span>: 17, <span style=\"color: #0000ff\">GreatOutdoors</span>: 44, <span style=\"color: #0000ff\">College&University</span>: 33</span>"
      ],
      "text/plain": [
       "<IPython.core.display.Markdown object>"
      ]
     },
     "metadata": {},
     "output_type": "display_data"
    },
    {
     "data": {
      "text/markdown": [
       "<span style=\"font-size:11pt\">Eval-Settings: metric: <span style=\"color: #0000ff\">accuracy</span>, type: <span style=\"color: #0000ff\">one-vs-rest</span>, DT-Depth: <span style=\"color: #0000ff\">1</span>, train-test-split:<span style=\"color: #0000ff\"> 4-fold cross-validation </span></span>"
      ],
      "text/plain": [
       "<IPython.core.display.Markdown object>"
      ]
     },
     "metadata": {},
     "output_type": "display_data"
    },
    {
     "data": {
      "text/markdown": [
       "<span style=\"font-size:11pt\">Per-Class-Scores: Food: 0.75, NightlifeSpots: 0.83, Travel&Transport: 0.67, Shops&Services: 0.83, Professional&Other: 0.68, Arts&Entertainment: 0.54, College&University: 0.79, GreatOutdoors: 0.69, Residences: 0.68</span>"
      ],
      "text/plain": [
       "<IPython.core.display.Markdown object>"
      ]
     },
     "metadata": {},
     "output_type": "display_data"
    },
    {
     "data": {
      "text/markdown": [
       "<span style=\"font-size:11pt\">Unweighted Mean accuracy: 71.73%</span>"
      ],
      "text/plain": [
       "<IPython.core.display.Markdown object>"
      ]
     },
     "metadata": {},
     "output_type": "display_data"
    },
    {
     "data": {
      "text/markdown": [
       "<span style=\"font-size:11pt\">Weighted Mean accuracy: 73.08%</span>"
      ],
      "text/plain": [
       "<IPython.core.display.Markdown object>"
      ]
     },
     "metadata": {},
     "output_type": "display_data"
    },
    {
     "data": {
      "text/markdown": [
       "<span style=\"font-size:11pt\">====================================================================================================</span>"
      ],
      "text/plain": [
       "<IPython.core.display.Markdown object>"
      ]
     },
     "metadata": {},
     "output_type": "display_data"
    },
    {
     "data": {
      "text/markdown": [
       "<span style=\"font-size:11pt\">Using classes from Foursquare - 391/1383 entities have a class</span>"
      ],
      "text/plain": [
       "<IPython.core.display.Markdown object>"
      ]
     },
     "metadata": {},
     "output_type": "display_data"
    },
    {
     "data": {
      "text/markdown": [
       "<span style=\"font-size:11pt\">Labels (9 classes): <span style=\"color: #0000ff\">Shops&Services</span>: 88, <span style=\"color: #0000ff\">Food</span>: 82, <span style=\"color: #0000ff\">Travel&Transport</span>: 35, <span style=\"color: #0000ff\">Professional&Other</span>: 47, <span style=\"color: #0000ff\">Residences</span>: 6, <span style=\"color: #0000ff\">Arts&Entertainment</span>: 39, <span style=\"color: #0000ff\">NightlifeSpots</span>: 17, <span style=\"color: #0000ff\">GreatOutdoors</span>: 44, <span style=\"color: #0000ff\">College&University</span>: 33</span>"
      ],
      "text/plain": [
       "<IPython.core.display.Markdown object>"
      ]
     },
     "metadata": {},
     "output_type": "display_data"
    },
    {
     "data": {
      "text/markdown": [
       "<span style=\"font-size:11pt\">Eval-Settings: metric: <span style=\"color: #0000ff\">f1</span>, type: <span style=\"color: #0000ff\">one-vs-rest</span>, DT-Depth: <span style=\"color: #0000ff\">1</span>, train-test-split:<span style=\"color: #0000ff\"> 4-fold cross-validation </span></span>"
      ],
      "text/plain": [
       "<IPython.core.display.Markdown object>"
      ]
     },
     "metadata": {},
     "output_type": "display_data"
    },
    {
     "data": {
      "text/markdown": [
       "<span style=\"font-size:11pt\">Per-Class-Scores: Food: 0.60, NightlifeSpots: 0.34, Travel&Transport: 0.28, Shops&Services: 0.65, Professional&Other: 0.39, Arts&Entertainment: 0.18, College&University: 0.43, GreatOutdoors: 0.29, Residences: 0.05</span>"
      ],
      "text/plain": [
       "<IPython.core.display.Markdown object>"
      ]
     },
     "metadata": {},
     "output_type": "display_data"
    },
    {
     "data": {
      "text/markdown": [
       "<span style=\"font-size:11pt\">Unweighted Mean f1: 35.64%</span>"
      ],
      "text/plain": [
       "<IPython.core.display.Markdown object>"
      ]
     },
     "metadata": {},
     "output_type": "display_data"
    },
    {
     "data": {
      "text/markdown": [
       "<span style=\"font-size:11pt\">Weighted Mean f1: 44.59%</span>"
      ],
      "text/plain": [
       "<IPython.core.display.Markdown object>"
      ]
     },
     "metadata": {},
     "output_type": "display_data"
    },
    {
     "data": {
      "text/markdown": [
       "<span style=\"font-size:11pt\">====================================================================================================</span>"
      ],
      "text/plain": [
       "<IPython.core.display.Markdown object>"
      ]
     },
     "metadata": {},
     "output_type": "display_data"
    },
    {
     "data": {
      "text/markdown": [
       "<span style=\"font-size:11pt\">Using classes from Foursquare - 391/1383 entities have a class</span>"
      ],
      "text/plain": [
       "<IPython.core.display.Markdown object>"
      ]
     },
     "metadata": {},
     "output_type": "display_data"
    },
    {
     "data": {
      "text/markdown": [
       "<span style=\"font-size:11pt\">Labels (9 classes): <span style=\"color: #0000ff\">Shops&Services</span>: 88, <span style=\"color: #0000ff\">Food</span>: 82, <span style=\"color: #0000ff\">Travel&Transport</span>: 35, <span style=\"color: #0000ff\">Professional&Other</span>: 47, <span style=\"color: #0000ff\">Residences</span>: 6, <span style=\"color: #0000ff\">Arts&Entertainment</span>: 39, <span style=\"color: #0000ff\">NightlifeSpots</span>: 17, <span style=\"color: #0000ff\">GreatOutdoors</span>: 44, <span style=\"color: #0000ff\">College&University</span>: 33</span>"
      ],
      "text/plain": [
       "<IPython.core.display.Markdown object>"
      ]
     },
     "metadata": {},
     "output_type": "display_data"
    },
    {
     "data": {
      "text/markdown": [
       "<span style=\"font-size:11pt\">Eval-Settings: metric: <span style=\"color: #0000ff\">accuracy</span>, type: <span style=\"color: #0000ff\">one-vs-rest</span>, DT-Depth: <span style=\"color: #0000ff\">1</span>, train-test-split:<span style=\"color: #0000ff\"> 4-fold cross-validation </span></span>"
      ],
      "text/plain": [
       "<IPython.core.display.Markdown object>"
      ]
     },
     "metadata": {},
     "output_type": "display_data"
    },
    {
     "data": {
      "text/markdown": [
       "<span style=\"font-size:11pt\">Per-Class-Scores: Food: 0.84, NightlifeSpots: 0.96, Travel&Transport: 0.91, Shops&Services: 0.83, Professional&Other: 0.88, Arts&Entertainment: 0.90, College&University: 0.92, GreatOutdoors: 0.88, Residences: 0.98</span>"
      ],
      "text/plain": [
       "<IPython.core.display.Markdown object>"
      ]
     },
     "metadata": {},
     "output_type": "display_data"
    },
    {
     "data": {
      "text/markdown": [
       "<span style=\"font-size:11pt\">Unweighted Mean accuracy: 89.97%</span>"
      ],
      "text/plain": [
       "<IPython.core.display.Markdown object>"
      ]
     },
     "metadata": {},
     "output_type": "display_data"
    },
    {
     "data": {
      "text/markdown": [
       "<span style=\"font-size:11pt\">Weighted Mean accuracy: 87.33%</span>"
      ],
      "text/plain": [
       "<IPython.core.display.Markdown object>"
      ]
     },
     "metadata": {},
     "output_type": "display_data"
    },
    {
     "data": {
      "text/markdown": [
       "<span style=\"font-size:11pt\">====================================================================================================</span>"
      ],
      "text/plain": [
       "<IPython.core.display.Markdown object>"
      ]
     },
     "metadata": {},
     "output_type": "display_data"
    },
    {
     "data": {
      "text/markdown": [
       "<span style=\"font-size:11pt\">Using classes from Foursquare - 391/1383 entities have a class</span>"
      ],
      "text/plain": [
       "<IPython.core.display.Markdown object>"
      ]
     },
     "metadata": {},
     "output_type": "display_data"
    },
    {
     "data": {
      "text/markdown": [
       "<span style=\"font-size:11pt\">Labels (9 classes): <span style=\"color: #0000ff\">Shops&Services</span>: 88, <span style=\"color: #0000ff\">Food</span>: 82, <span style=\"color: #0000ff\">Travel&Transport</span>: 35, <span style=\"color: #0000ff\">Professional&Other</span>: 47, <span style=\"color: #0000ff\">Residences</span>: 6, <span style=\"color: #0000ff\">Arts&Entertainment</span>: 39, <span style=\"color: #0000ff\">NightlifeSpots</span>: 17, <span style=\"color: #0000ff\">GreatOutdoors</span>: 44, <span style=\"color: #0000ff\">College&University</span>: 33</span>"
      ],
      "text/plain": [
       "<IPython.core.display.Markdown object>"
      ]
     },
     "metadata": {},
     "output_type": "display_data"
    },
    {
     "data": {
      "text/markdown": [
       "<span style=\"font-size:11pt\">Eval-Settings: metric: <span style=\"color: #0000ff\">f1</span>, type: <span style=\"color: #0000ff\">one-vs-rest</span>, DT-Depth: <span style=\"color: #0000ff\">1</span>, train-test-split:<span style=\"color: #0000ff\"> 4-fold cross-validation </span></span>"
      ],
      "text/plain": [
       "<IPython.core.display.Markdown object>"
      ]
     },
     "metadata": {},
     "output_type": "display_data"
    },
    {
     "data": {
      "text/markdown": [
       "<span style=\"font-size:11pt\">Per-Class-Scores: Food: 0.68, NightlifeSpots: 0.00, Travel&Transport: 0.00, Shops&Services: 0.65, Professional&Other: 0.00, Arts&Entertainment: 0.00, College&University: 0.00, GreatOutdoors: 0.31, Residences: 0.00</span>"
      ],
      "text/plain": [
       "<IPython.core.display.Markdown object>"
      ]
     },
     "metadata": {},
     "output_type": "display_data"
    },
    {
     "data": {
      "text/markdown": [
       "<span style=\"font-size:11pt\">Unweighted Mean f1: 18.31%</span>"
      ],
      "text/plain": [
       "<IPython.core.display.Markdown object>"
      ]
     },
     "metadata": {},
     "output_type": "display_data"
    },
    {
     "data": {
      "text/markdown": [
       "<span style=\"font-size:11pt\">Weighted Mean f1: 32.54%</span>"
      ],
      "text/plain": [
       "<IPython.core.display.Markdown object>"
      ]
     },
     "metadata": {},
     "output_type": "display_data"
    },
    {
     "data": {
      "text/markdown": [
       "<span style=\"font-size:11pt\">====================================================================================================</span>"
      ],
      "text/plain": [
       "<IPython.core.display.Markdown object>"
      ]
     },
     "metadata": {},
     "output_type": "display_data"
    },
    {
     "data": {
      "text/markdown": [
       "<span style=\"font-size:11pt\">Using classes from Foursquare - 391/1383 entities have a class</span>"
      ],
      "text/plain": [
       "<IPython.core.display.Markdown object>"
      ]
     },
     "metadata": {},
     "output_type": "display_data"
    },
    {
     "data": {
      "text/markdown": [
       "<span style=\"font-size:11pt\">Labels (9 classes): <span style=\"color: #0000ff\">Shops&Services</span>: 88, <span style=\"color: #0000ff\">Food</span>: 82, <span style=\"color: #0000ff\">Travel&Transport</span>: 35, <span style=\"color: #0000ff\">Professional&Other</span>: 47, <span style=\"color: #0000ff\">Residences</span>: 6, <span style=\"color: #0000ff\">Arts&Entertainment</span>: 39, <span style=\"color: #0000ff\">NightlifeSpots</span>: 17, <span style=\"color: #0000ff\">GreatOutdoors</span>: 44, <span style=\"color: #0000ff\">College&University</span>: 33</span>"
      ],
      "text/plain": [
       "<IPython.core.display.Markdown object>"
      ]
     },
     "metadata": {},
     "output_type": "display_data"
    },
    {
     "data": {
      "text/markdown": [
       "<span style=\"font-size:11pt\">Eval-Settings: metric: <span style=\"color: #0000ff\">accuracy</span>, type: <span style=\"color: #0000ff\">one-vs-rest</span>, DT-Depth: <span style=\"color: #0000ff\">2</span>, train-test-split:<span style=\"color: #0000ff\"> 4-fold cross-validation </span></span>"
      ],
      "text/plain": [
       "<IPython.core.display.Markdown object>"
      ]
     },
     "metadata": {},
     "output_type": "display_data"
    },
    {
     "data": {
      "text/markdown": [
       "<span style=\"font-size:11pt\">Per-Class-Scores: Food: 0.87, NightlifeSpots: 0.89, Travel&Transport: 0.68, Shops&Services: 0.83, Professional&Other: 0.68, Arts&Entertainment: 0.61, College&University: 0.92, GreatOutdoors: 0.82, Residences: 0.89</span>"
      ],
      "text/plain": [
       "<IPython.core.display.Markdown object>"
      ]
     },
     "metadata": {},
     "output_type": "display_data"
    },
    {
     "data": {
      "text/markdown": [
       "<span style=\"font-size:11pt\">Unweighted Mean accuracy: 80.00%</span>"
      ],
      "text/plain": [
       "<IPython.core.display.Markdown object>"
      ]
     },
     "metadata": {},
     "output_type": "display_data"
    },
    {
     "data": {
      "text/markdown": [
       "<span style=\"font-size:11pt\">Weighted Mean accuracy: 79.61%</span>"
      ],
      "text/plain": [
       "<IPython.core.display.Markdown object>"
      ]
     },
     "metadata": {},
     "output_type": "display_data"
    },
    {
     "data": {
      "text/markdown": [
       "<span style=\"font-size:11pt\">====================================================================================================</span>"
      ],
      "text/plain": [
       "<IPython.core.display.Markdown object>"
      ]
     },
     "metadata": {},
     "output_type": "display_data"
    },
    {
     "data": {
      "text/markdown": [
       "<span style=\"font-size:11pt\">Using classes from Foursquare - 391/1383 entities have a class</span>"
      ],
      "text/plain": [
       "<IPython.core.display.Markdown object>"
      ]
     },
     "metadata": {},
     "output_type": "display_data"
    },
    {
     "data": {
      "text/markdown": [
       "<span style=\"font-size:11pt\">Labels (9 classes): <span style=\"color: #0000ff\">Shops&Services</span>: 88, <span style=\"color: #0000ff\">Food</span>: 82, <span style=\"color: #0000ff\">Travel&Transport</span>: 35, <span style=\"color: #0000ff\">Professional&Other</span>: 47, <span style=\"color: #0000ff\">Residences</span>: 6, <span style=\"color: #0000ff\">Arts&Entertainment</span>: 39, <span style=\"color: #0000ff\">NightlifeSpots</span>: 17, <span style=\"color: #0000ff\">GreatOutdoors</span>: 44, <span style=\"color: #0000ff\">College&University</span>: 33</span>"
      ],
      "text/plain": [
       "<IPython.core.display.Markdown object>"
      ]
     },
     "metadata": {},
     "output_type": "display_data"
    },
    {
     "data": {
      "text/markdown": [
       "<span style=\"font-size:11pt\">Eval-Settings: metric: <span style=\"color: #0000ff\">f1</span>, type: <span style=\"color: #0000ff\">one-vs-rest</span>, DT-Depth: <span style=\"color: #0000ff\">2</span>, train-test-split:<span style=\"color: #0000ff\"> 4-fold cross-validation </span></span>"
      ],
      "text/plain": [
       "<IPython.core.display.Markdown object>"
      ]
     },
     "metadata": {},
     "output_type": "display_data"
    },
    {
     "data": {
      "text/markdown": [
       "<span style=\"font-size:11pt\">Per-Class-Scores: Food: 0.73, NightlifeSpots: 0.40, Travel&Transport: 0.28, Shops&Services: 0.64, Professional&Other: 0.38, Arts&Entertainment: 0.23, College&University: 0.69, GreatOutdoors: 0.45, Residences: 0.13</span>"
      ],
      "text/plain": [
       "<IPython.core.display.Markdown object>"
      ]
     },
     "metadata": {},
     "output_type": "display_data"
    },
    {
     "data": {
      "text/markdown": [
       "<span style=\"font-size:11pt\">Unweighted Mean f1: 43.71%</span>"
      ],
      "text/plain": [
       "<IPython.core.display.Markdown object>"
      ]
     },
     "metadata": {},
     "output_type": "display_data"
    },
    {
     "data": {
      "text/markdown": [
       "<span style=\"font-size:11pt\">Weighted Mean f1: 51.98%</span>"
      ],
      "text/plain": [
       "<IPython.core.display.Markdown object>"
      ]
     },
     "metadata": {},
     "output_type": "display_data"
    },
    {
     "data": {
      "text/markdown": [
       "<span style=\"font-size:11pt\">====================================================================================================</span>"
      ],
      "text/plain": [
       "<IPython.core.display.Markdown object>"
      ]
     },
     "metadata": {},
     "output_type": "display_data"
    },
    {
     "data": {
      "text/markdown": [
       "<span style=\"font-size:11pt\">Using classes from Foursquare - 391/1383 entities have a class</span>"
      ],
      "text/plain": [
       "<IPython.core.display.Markdown object>"
      ]
     },
     "metadata": {},
     "output_type": "display_data"
    },
    {
     "data": {
      "text/markdown": [
       "<span style=\"font-size:11pt\">Labels (9 classes): <span style=\"color: #0000ff\">Shops&Services</span>: 88, <span style=\"color: #0000ff\">Food</span>: 82, <span style=\"color: #0000ff\">Travel&Transport</span>: 35, <span style=\"color: #0000ff\">Professional&Other</span>: 47, <span style=\"color: #0000ff\">Residences</span>: 6, <span style=\"color: #0000ff\">Arts&Entertainment</span>: 39, <span style=\"color: #0000ff\">NightlifeSpots</span>: 17, <span style=\"color: #0000ff\">GreatOutdoors</span>: 44, <span style=\"color: #0000ff\">College&University</span>: 33</span>"
      ],
      "text/plain": [
       "<IPython.core.display.Markdown object>"
      ]
     },
     "metadata": {},
     "output_type": "display_data"
    },
    {
     "data": {
      "text/markdown": [
       "<span style=\"font-size:11pt\">Eval-Settings: metric: <span style=\"color: #0000ff\">accuracy</span>, type: <span style=\"color: #0000ff\">one-vs-rest</span>, DT-Depth: <span style=\"color: #0000ff\">2</span>, train-test-split:<span style=\"color: #0000ff\"> 4-fold cross-validation </span></span>"
      ],
      "text/plain": [
       "<IPython.core.display.Markdown object>"
      ]
     },
     "metadata": {},
     "output_type": "display_data"
    },
    {
     "data": {
      "text/markdown": [
       "<span style=\"font-size:11pt\">Per-Class-Scores: Food: 0.86, NightlifeSpots: 0.96, Travel&Transport: 0.87, Shops&Services: 0.85, Professional&Other: 0.87, Arts&Entertainment: 0.89, College&University: 0.94, GreatOutdoors: 0.90, Residences: 0.98</span>"
      ],
      "text/plain": [
       "<IPython.core.display.Markdown object>"
      ]
     },
     "metadata": {},
     "output_type": "display_data"
    },
    {
     "data": {
      "text/markdown": [
       "<span style=\"font-size:11pt\">Unweighted Mean accuracy: 90.31%</span>"
      ],
      "text/plain": [
       "<IPython.core.display.Markdown object>"
      ]
     },
     "metadata": {},
     "output_type": "display_data"
    },
    {
     "data": {
      "text/markdown": [
       "<span style=\"font-size:11pt\">Weighted Mean accuracy: 88.15%</span>"
      ],
      "text/plain": [
       "<IPython.core.display.Markdown object>"
      ]
     },
     "metadata": {},
     "output_type": "display_data"
    },
    {
     "data": {
      "text/markdown": [
       "<span style=\"font-size:11pt\">====================================================================================================</span>"
      ],
      "text/plain": [
       "<IPython.core.display.Markdown object>"
      ]
     },
     "metadata": {},
     "output_type": "display_data"
    },
    {
     "data": {
      "text/markdown": [
       "<span style=\"font-size:11pt\">Using classes from Foursquare - 391/1383 entities have a class</span>"
      ],
      "text/plain": [
       "<IPython.core.display.Markdown object>"
      ]
     },
     "metadata": {},
     "output_type": "display_data"
    },
    {
     "data": {
      "text/markdown": [
       "<span style=\"font-size:11pt\">Labels (9 classes): <span style=\"color: #0000ff\">Shops&Services</span>: 88, <span style=\"color: #0000ff\">Food</span>: 82, <span style=\"color: #0000ff\">Travel&Transport</span>: 35, <span style=\"color: #0000ff\">Professional&Other</span>: 47, <span style=\"color: #0000ff\">Residences</span>: 6, <span style=\"color: #0000ff\">Arts&Entertainment</span>: 39, <span style=\"color: #0000ff\">NightlifeSpots</span>: 17, <span style=\"color: #0000ff\">GreatOutdoors</span>: 44, <span style=\"color: #0000ff\">College&University</span>: 33</span>"
      ],
      "text/plain": [
       "<IPython.core.display.Markdown object>"
      ]
     },
     "metadata": {},
     "output_type": "display_data"
    },
    {
     "data": {
      "text/markdown": [
       "<span style=\"font-size:11pt\">Eval-Settings: metric: <span style=\"color: #0000ff\">f1</span>, type: <span style=\"color: #0000ff\">one-vs-rest</span>, DT-Depth: <span style=\"color: #0000ff\">2</span>, train-test-split:<span style=\"color: #0000ff\"> 4-fold cross-validation </span></span>"
      ],
      "text/plain": [
       "<IPython.core.display.Markdown object>"
      ]
     },
     "metadata": {},
     "output_type": "display_data"
    },
    {
     "data": {
      "text/markdown": [
       "<span style=\"font-size:11pt\">Per-Class-Scores: Food: 0.69, NightlifeSpots: 0.19, Travel&Transport: 0.19, Shops&Services: 0.65, Professional&Other: 0.09, Arts&Entertainment: 0.00, College&University: 0.67, GreatOutdoors: 0.37, Residences: 0.00</span>"
      ],
      "text/plain": [
       "<IPython.core.display.Markdown object>"
      ]
     },
     "metadata": {},
     "output_type": "display_data"
    },
    {
     "data": {
      "text/markdown": [
       "<span style=\"font-size:11pt\">Unweighted Mean f1: 31.75%</span>"
      ],
      "text/plain": [
       "<IPython.core.display.Markdown object>"
      ]
     },
     "metadata": {},
     "output_type": "display_data"
    },
    {
     "data": {
      "text/markdown": [
       "<span style=\"font-size:11pt\">Weighted Mean f1: 42.67%</span>"
      ],
      "text/plain": [
       "<IPython.core.display.Markdown object>"
      ]
     },
     "metadata": {},
     "output_type": "display_data"
    },
    {
     "data": {
      "text/markdown": [
       "<span style=\"font-size:11pt\">====================================================================================================</span>"
      ],
      "text/plain": [
       "<IPython.core.display.Markdown object>"
      ]
     },
     "metadata": {},
     "output_type": "display_data"
    },
    {
     "data": {
      "text/markdown": [
       "<span style=\"font-size:11pt\">Using classes from Foursquare - 391/1383 entities have a class</span>"
      ],
      "text/plain": [
       "<IPython.core.display.Markdown object>"
      ]
     },
     "metadata": {},
     "output_type": "display_data"
    },
    {
     "data": {
      "text/markdown": [
       "<span style=\"font-size:11pt\">Labels (9 classes): <span style=\"color: #0000ff\">Shops&Services</span>: 88, <span style=\"color: #0000ff\">Food</span>: 82, <span style=\"color: #0000ff\">Travel&Transport</span>: 35, <span style=\"color: #0000ff\">Professional&Other</span>: 47, <span style=\"color: #0000ff\">Residences</span>: 6, <span style=\"color: #0000ff\">Arts&Entertainment</span>: 39, <span style=\"color: #0000ff\">NightlifeSpots</span>: 17, <span style=\"color: #0000ff\">GreatOutdoors</span>: 44, <span style=\"color: #0000ff\">College&University</span>: 33</span>"
      ],
      "text/plain": [
       "<IPython.core.display.Markdown object>"
      ]
     },
     "metadata": {},
     "output_type": "display_data"
    },
    {
     "data": {
      "text/markdown": [
       "<span style=\"font-size:11pt\">Eval-Settings: metric: <span style=\"color: #0000ff\">accuracy</span>, type: <span style=\"color: #0000ff\">one-vs-rest</span>, DT-Depth: <span style=\"color: #0000ff\">3</span>, train-test-split:<span style=\"color: #0000ff\"> 4-fold cross-validation </span></span>"
      ],
      "text/plain": [
       "<IPython.core.display.Markdown object>"
      ]
     },
     "metadata": {},
     "output_type": "display_data"
    },
    {
     "data": {
      "text/markdown": [
       "<span style=\"font-size:11pt\">Per-Class-Scores: Food: 0.86, NightlifeSpots: 0.94, Travel&Transport: 0.68, Shops&Services: 0.80, Professional&Other: 0.71, Arts&Entertainment: 0.63, College&University: 0.95, GreatOutdoors: 0.82, Residences: 0.93</span>"
      ],
      "text/plain": [
       "<IPython.core.display.Markdown object>"
      ]
     },
     "metadata": {},
     "output_type": "display_data"
    },
    {
     "data": {
      "text/markdown": [
       "<span style=\"font-size:11pt\">Unweighted Mean accuracy: 81.22%</span>"
      ],
      "text/plain": [
       "<IPython.core.display.Markdown object>"
      ]
     },
     "metadata": {},
     "output_type": "display_data"
    },
    {
     "data": {
      "text/markdown": [
       "<span style=\"font-size:11pt\">Weighted Mean accuracy: 79.50%</span>"
      ],
      "text/plain": [
       "<IPython.core.display.Markdown object>"
      ]
     },
     "metadata": {},
     "output_type": "display_data"
    },
    {
     "data": {
      "text/markdown": [
       "<span style=\"font-size:11pt\">====================================================================================================</span>"
      ],
      "text/plain": [
       "<IPython.core.display.Markdown object>"
      ]
     },
     "metadata": {},
     "output_type": "display_data"
    },
    {
     "data": {
      "text/markdown": [
       "<span style=\"font-size:11pt\">Using classes from Foursquare - 391/1383 entities have a class</span>"
      ],
      "text/plain": [
       "<IPython.core.display.Markdown object>"
      ]
     },
     "metadata": {},
     "output_type": "display_data"
    },
    {
     "data": {
      "text/markdown": [
       "<span style=\"font-size:11pt\">Labels (9 classes): <span style=\"color: #0000ff\">Shops&Services</span>: 88, <span style=\"color: #0000ff\">Food</span>: 82, <span style=\"color: #0000ff\">Travel&Transport</span>: 35, <span style=\"color: #0000ff\">Professional&Other</span>: 47, <span style=\"color: #0000ff\">Residences</span>: 6, <span style=\"color: #0000ff\">Arts&Entertainment</span>: 39, <span style=\"color: #0000ff\">NightlifeSpots</span>: 17, <span style=\"color: #0000ff\">GreatOutdoors</span>: 44, <span style=\"color: #0000ff\">College&University</span>: 33</span>"
      ],
      "text/plain": [
       "<IPython.core.display.Markdown object>"
      ]
     },
     "metadata": {},
     "output_type": "display_data"
    },
    {
     "data": {
      "text/markdown": [
       "<span style=\"font-size:11pt\">Eval-Settings: metric: <span style=\"color: #0000ff\">f1</span>, type: <span style=\"color: #0000ff\">one-vs-rest</span>, DT-Depth: <span style=\"color: #0000ff\">3</span>, train-test-split:<span style=\"color: #0000ff\"> 4-fold cross-validation </span></span>"
      ],
      "text/plain": [
       "<IPython.core.display.Markdown object>"
      ]
     },
     "metadata": {},
     "output_type": "display_data"
    },
    {
     "data": {
      "text/markdown": [
       "<span style=\"font-size:11pt\">Per-Class-Scores: Food: 0.71, NightlifeSpots: 0.54, Travel&Transport: 0.27, Shops&Services: 0.59, Professional&Other: 0.34, Arts&Entertainment: 0.24, College&University: 0.75, GreatOutdoors: 0.47, Residences: 0.20</span>"
      ],
      "text/plain": [
       "<IPython.core.display.Markdown object>"
      ]
     },
     "metadata": {},
     "output_type": "display_data"
    },
    {
     "data": {
      "text/markdown": [
       "<span style=\"font-size:11pt\">Unweighted Mean f1: 45.57%</span>"
      ],
      "text/plain": [
       "<IPython.core.display.Markdown object>"
      ]
     },
     "metadata": {},
     "output_type": "display_data"
    },
    {
     "data": {
      "text/markdown": [
       "<span style=\"font-size:11pt\">Weighted Mean f1: 51.27%</span>"
      ],
      "text/plain": [
       "<IPython.core.display.Markdown object>"
      ]
     },
     "metadata": {},
     "output_type": "display_data"
    },
    {
     "data": {
      "text/markdown": [
       "<span style=\"font-size:11pt\">====================================================================================================</span>"
      ],
      "text/plain": [
       "<IPython.core.display.Markdown object>"
      ]
     },
     "metadata": {},
     "output_type": "display_data"
    },
    {
     "data": {
      "text/markdown": [
       "<span style=\"font-size:11pt\">Using classes from Foursquare - 391/1383 entities have a class</span>"
      ],
      "text/plain": [
       "<IPython.core.display.Markdown object>"
      ]
     },
     "metadata": {},
     "output_type": "display_data"
    },
    {
     "data": {
      "text/markdown": [
       "<span style=\"font-size:11pt\">Labels (9 classes): <span style=\"color: #0000ff\">Shops&Services</span>: 88, <span style=\"color: #0000ff\">Food</span>: 82, <span style=\"color: #0000ff\">Travel&Transport</span>: 35, <span style=\"color: #0000ff\">Professional&Other</span>: 47, <span style=\"color: #0000ff\">Residences</span>: 6, <span style=\"color: #0000ff\">Arts&Entertainment</span>: 39, <span style=\"color: #0000ff\">NightlifeSpots</span>: 17, <span style=\"color: #0000ff\">GreatOutdoors</span>: 44, <span style=\"color: #0000ff\">College&University</span>: 33</span>"
      ],
      "text/plain": [
       "<IPython.core.display.Markdown object>"
      ]
     },
     "metadata": {},
     "output_type": "display_data"
    },
    {
     "data": {
      "text/markdown": [
       "<span style=\"font-size:11pt\">Eval-Settings: metric: <span style=\"color: #0000ff\">accuracy</span>, type: <span style=\"color: #0000ff\">one-vs-rest</span>, DT-Depth: <span style=\"color: #0000ff\">3</span>, train-test-split:<span style=\"color: #0000ff\"> 4-fold cross-validation </span></span>"
      ],
      "text/plain": [
       "<IPython.core.display.Markdown object>"
      ]
     },
     "metadata": {},
     "output_type": "display_data"
    },
    {
     "data": {
      "text/markdown": [
       "<span style=\"font-size:11pt\">Per-Class-Scores: Food: 0.87, NightlifeSpots: 0.95, Travel&Transport: 0.90, Shops&Services: 0.86, Professional&Other: 0.83, Arts&Entertainment: 0.87, College&University: 0.94, GreatOutdoors: 0.91, Residences: 0.98</span>"
      ],
      "text/plain": [
       "<IPython.core.display.Markdown object>"
      ]
     },
     "metadata": {},
     "output_type": "display_data"
    },
    {
     "data": {
      "text/markdown": [
       "<span style=\"font-size:11pt\">Unweighted Mean accuracy: 90.25%</span>"
      ],
      "text/plain": [
       "<IPython.core.display.Markdown object>"
      ]
     },
     "metadata": {},
     "output_type": "display_data"
    },
    {
     "data": {
      "text/markdown": [
       "<span style=\"font-size:11pt\">Weighted Mean accuracy: 88.35%</span>"
      ],
      "text/plain": [
       "<IPython.core.display.Markdown object>"
      ]
     },
     "metadata": {},
     "output_type": "display_data"
    },
    {
     "data": {
      "text/markdown": [
       "<span style=\"font-size:11pt\">====================================================================================================</span>"
      ],
      "text/plain": [
       "<IPython.core.display.Markdown object>"
      ]
     },
     "metadata": {},
     "output_type": "display_data"
    },
    {
     "data": {
      "text/markdown": [
       "<span style=\"font-size:11pt\">Using classes from Foursquare - 391/1383 entities have a class</span>"
      ],
      "text/plain": [
       "<IPython.core.display.Markdown object>"
      ]
     },
     "metadata": {},
     "output_type": "display_data"
    },
    {
     "data": {
      "text/markdown": [
       "<span style=\"font-size:11pt\">Labels (9 classes): <span style=\"color: #0000ff\">Shops&Services</span>: 88, <span style=\"color: #0000ff\">Food</span>: 82, <span style=\"color: #0000ff\">Travel&Transport</span>: 35, <span style=\"color: #0000ff\">Professional&Other</span>: 47, <span style=\"color: #0000ff\">Residences</span>: 6, <span style=\"color: #0000ff\">Arts&Entertainment</span>: 39, <span style=\"color: #0000ff\">NightlifeSpots</span>: 17, <span style=\"color: #0000ff\">GreatOutdoors</span>: 44, <span style=\"color: #0000ff\">College&University</span>: 33</span>"
      ],
      "text/plain": [
       "<IPython.core.display.Markdown object>"
      ]
     },
     "metadata": {},
     "output_type": "display_data"
    },
    {
     "data": {
      "text/markdown": [
       "<span style=\"font-size:11pt\">Eval-Settings: metric: <span style=\"color: #0000ff\">f1</span>, type: <span style=\"color: #0000ff\">one-vs-rest</span>, DT-Depth: <span style=\"color: #0000ff\">3</span>, train-test-split:<span style=\"color: #0000ff\"> 4-fold cross-validation </span></span>"
      ],
      "text/plain": [
       "<IPython.core.display.Markdown object>"
      ]
     },
     "metadata": {},
     "output_type": "display_data"
    },
    {
     "data": {
      "text/markdown": [
       "<span style=\"font-size:11pt\">Per-Class-Scores: Food: 0.69, NightlifeSpots: 0.15, Travel&Transport: 0.15, Shops&Services: 0.67, Professional&Other: 0.08, Arts&Entertainment: 0.13, College&University: 0.66, GreatOutdoors: 0.52, Residences: 0.00</span>"
      ],
      "text/plain": [
       "<IPython.core.display.Markdown object>"
      ]
     },
     "metadata": {},
     "output_type": "display_data"
    },
    {
     "data": {
      "text/markdown": [
       "<span style=\"font-size:11pt\">Unweighted Mean f1: 33.97%</span>"
      ],
      "text/plain": [
       "<IPython.core.display.Markdown object>"
      ]
     },
     "metadata": {},
     "output_type": "display_data"
    },
    {
     "data": {
      "text/markdown": [
       "<span style=\"font-size:11pt\">Weighted Mean f1: 45.36%</span>"
      ],
      "text/plain": [
       "<IPython.core.display.Markdown object>"
      ]
     },
     "metadata": {},
     "output_type": "display_data"
    },
    {
     "data": {
      "text/markdown": [
       "<span style=\"font-size:11pt\">====================================================================================================</span>"
      ],
      "text/plain": [
       "<IPython.core.display.Markdown object>"
      ]
     },
     "metadata": {},
     "output_type": "display_data"
    },
    {
     "data": {
      "text/markdown": [
       "<span style=\"font-size:11pt\">Using classes from Foursquare - 391/1383 entities have a class</span>"
      ],
      "text/plain": [
       "<IPython.core.display.Markdown object>"
      ]
     },
     "metadata": {},
     "output_type": "display_data"
    },
    {
     "data": {
      "text/markdown": [
       "<span style=\"font-size:11pt\">Labels (9 classes): <span style=\"color: #0000ff\">Shops&Services</span>: 88, <span style=\"color: #0000ff\">Food</span>: 82, <span style=\"color: #0000ff\">Travel&Transport</span>: 35, <span style=\"color: #0000ff\">Professional&Other</span>: 47, <span style=\"color: #0000ff\">Residences</span>: 6, <span style=\"color: #0000ff\">Arts&Entertainment</span>: 39, <span style=\"color: #0000ff\">NightlifeSpots</span>: 17, <span style=\"color: #0000ff\">GreatOutdoors</span>: 44, <span style=\"color: #0000ff\">College&University</span>: 33</span>"
      ],
      "text/plain": [
       "<IPython.core.display.Markdown object>"
      ]
     },
     "metadata": {},
     "output_type": "display_data"
    },
    {
     "data": {
      "text/markdown": [
       "<span style=\"font-size:11pt\">Eval-Settings: metric: <span style=\"color: #0000ff\">accuracy</span>, type: <span style=\"color: #0000ff\">one-vs-rest</span>, DT-Depth: <span style=\"color: #0000ff\">None</span>, train-test-split:<span style=\"color: #0000ff\"> 4-fold cross-validation </span></span>"
      ],
      "text/plain": [
       "<IPython.core.display.Markdown object>"
      ]
     },
     "metadata": {},
     "output_type": "display_data"
    },
    {
     "data": {
      "text/markdown": [
       "<span style=\"font-size:11pt\">Per-Class-Scores: Food: 0.87, NightlifeSpots: 0.96, Travel&Transport: 0.89, Shops&Services: 0.82, Professional&Other: 0.84, Arts&Entertainment: 0.83, College&University: 0.96, GreatOutdoors: 0.86, Residences: 0.98</span>"
      ],
      "text/plain": [
       "<IPython.core.display.Markdown object>"
      ]
     },
     "metadata": {},
     "output_type": "display_data"
    },
    {
     "data": {
      "text/markdown": [
       "<span style=\"font-size:11pt\">Unweighted Mean accuracy: 89.03%</span>"
      ],
      "text/plain": [
       "<IPython.core.display.Markdown object>"
      ]
     },
     "metadata": {},
     "output_type": "display_data"
    },
    {
     "data": {
      "text/markdown": [
       "<span style=\"font-size:11pt\">Weighted Mean accuracy: 86.48%</span>"
      ],
      "text/plain": [
       "<IPython.core.display.Markdown object>"
      ]
     },
     "metadata": {},
     "output_type": "display_data"
    },
    {
     "data": {
      "text/markdown": [
       "<span style=\"font-size:11pt\">====================================================================================================</span>"
      ],
      "text/plain": [
       "<IPython.core.display.Markdown object>"
      ]
     },
     "metadata": {},
     "output_type": "display_data"
    },
    {
     "data": {
      "text/markdown": [
       "<span style=\"font-size:11pt\">Using classes from Foursquare - 391/1383 entities have a class</span>"
      ],
      "text/plain": [
       "<IPython.core.display.Markdown object>"
      ]
     },
     "metadata": {},
     "output_type": "display_data"
    },
    {
     "data": {
      "text/markdown": [
       "<span style=\"font-size:11pt\">Labels (9 classes): <span style=\"color: #0000ff\">Shops&Services</span>: 88, <span style=\"color: #0000ff\">Food</span>: 82, <span style=\"color: #0000ff\">Travel&Transport</span>: 35, <span style=\"color: #0000ff\">Professional&Other</span>: 47, <span style=\"color: #0000ff\">Residences</span>: 6, <span style=\"color: #0000ff\">Arts&Entertainment</span>: 39, <span style=\"color: #0000ff\">NightlifeSpots</span>: 17, <span style=\"color: #0000ff\">GreatOutdoors</span>: 44, <span style=\"color: #0000ff\">College&University</span>: 33</span>"
      ],
      "text/plain": [
       "<IPython.core.display.Markdown object>"
      ]
     },
     "metadata": {},
     "output_type": "display_data"
    },
    {
     "data": {
      "text/markdown": [
       "<span style=\"font-size:11pt\">Eval-Settings: metric: <span style=\"color: #0000ff\">f1</span>, type: <span style=\"color: #0000ff\">one-vs-rest</span>, DT-Depth: <span style=\"color: #0000ff\">None</span>, train-test-split:<span style=\"color: #0000ff\"> 4-fold cross-validation </span></span>"
      ],
      "text/plain": [
       "<IPython.core.display.Markdown object>"
      ]
     },
     "metadata": {},
     "output_type": "display_data"
    },
    {
     "data": {
      "text/markdown": [
       "<span style=\"font-size:11pt\">Per-Class-Scores: Food: 0.72, NightlifeSpots: 0.46, Travel&Transport: 0.34, Shops&Services: 0.60, Professional&Other: 0.27, Arts&Entertainment: 0.27, College&University: 0.77, GreatOutdoors: 0.40, Residences: 0.25</span>"
      ],
      "text/plain": [
       "<IPython.core.display.Markdown object>"
      ]
     },
     "metadata": {},
     "output_type": "display_data"
    },
    {
     "data": {
      "text/markdown": [
       "<span style=\"font-size:11pt\">Unweighted Mean f1: 45.35%</span>"
      ],
      "text/plain": [
       "<IPython.core.display.Markdown object>"
      ]
     },
     "metadata": {},
     "output_type": "display_data"
    },
    {
     "data": {
      "text/markdown": [
       "<span style=\"font-size:11pt\">Weighted Mean f1: 50.94%</span>"
      ],
      "text/plain": [
       "<IPython.core.display.Markdown object>"
      ]
     },
     "metadata": {},
     "output_type": "display_data"
    },
    {
     "data": {
      "text/markdown": [
       "<span style=\"font-size:11pt\">====================================================================================================</span>"
      ],
      "text/plain": [
       "<IPython.core.display.Markdown object>"
      ]
     },
     "metadata": {},
     "output_type": "display_data"
    },
    {
     "data": {
      "text/markdown": [
       "<span style=\"font-size:11pt\">Using classes from Foursquare - 391/1383 entities have a class</span>"
      ],
      "text/plain": [
       "<IPython.core.display.Markdown object>"
      ]
     },
     "metadata": {},
     "output_type": "display_data"
    },
    {
     "data": {
      "text/markdown": [
       "<span style=\"font-size:11pt\">Labels (9 classes): <span style=\"color: #0000ff\">Shops&Services</span>: 88, <span style=\"color: #0000ff\">Food</span>: 82, <span style=\"color: #0000ff\">Travel&Transport</span>: 35, <span style=\"color: #0000ff\">Professional&Other</span>: 47, <span style=\"color: #0000ff\">Residences</span>: 6, <span style=\"color: #0000ff\">Arts&Entertainment</span>: 39, <span style=\"color: #0000ff\">NightlifeSpots</span>: 17, <span style=\"color: #0000ff\">GreatOutdoors</span>: 44, <span style=\"color: #0000ff\">College&University</span>: 33</span>"
      ],
      "text/plain": [
       "<IPython.core.display.Markdown object>"
      ]
     },
     "metadata": {},
     "output_type": "display_data"
    },
    {
     "data": {
      "text/markdown": [
       "<span style=\"font-size:11pt\">Eval-Settings: metric: <span style=\"color: #0000ff\">accuracy</span>, type: <span style=\"color: #0000ff\">one-vs-rest</span>, DT-Depth: <span style=\"color: #0000ff\">None</span>, train-test-split:<span style=\"color: #0000ff\"> 4-fold cross-validation </span></span>"
      ],
      "text/plain": [
       "<IPython.core.display.Markdown object>"
      ]
     },
     "metadata": {},
     "output_type": "display_data"
    },
    {
     "data": {
      "text/markdown": [
       "<span style=\"font-size:11pt\">Per-Class-Scores: Food: 0.87, NightlifeSpots: 0.95, Travel&Transport: 0.86, Shops&Services: 0.82, Professional&Other: 0.83, Arts&Entertainment: 0.82, College&University: 0.95, GreatOutdoors: 0.88, Residences: 0.98</span>"
      ],
      "text/plain": [
       "<IPython.core.display.Markdown object>"
      ]
     },
     "metadata": {},
     "output_type": "display_data"
    },
    {
     "data": {
      "text/markdown": [
       "<span style=\"font-size:11pt\">Unweighted Mean accuracy: 88.46%</span>"
      ],
      "text/plain": [
       "<IPython.core.display.Markdown object>"
      ]
     },
     "metadata": {},
     "output_type": "display_data"
    },
    {
     "data": {
      "text/markdown": [
       "<span style=\"font-size:11pt\">Weighted Mean accuracy: 86.25%</span>"
      ],
      "text/plain": [
       "<IPython.core.display.Markdown object>"
      ]
     },
     "metadata": {},
     "output_type": "display_data"
    },
    {
     "data": {
      "text/markdown": [
       "<span style=\"font-size:11pt\">====================================================================================================</span>"
      ],
      "text/plain": [
       "<IPython.core.display.Markdown object>"
      ]
     },
     "metadata": {},
     "output_type": "display_data"
    },
    {
     "data": {
      "text/markdown": [
       "<span style=\"font-size:11pt\">Using classes from Foursquare - 391/1383 entities have a class</span>"
      ],
      "text/plain": [
       "<IPython.core.display.Markdown object>"
      ]
     },
     "metadata": {},
     "output_type": "display_data"
    },
    {
     "data": {
      "text/markdown": [
       "<span style=\"font-size:11pt\">Labels (9 classes): <span style=\"color: #0000ff\">Shops&Services</span>: 88, <span style=\"color: #0000ff\">Food</span>: 82, <span style=\"color: #0000ff\">Travel&Transport</span>: 35, <span style=\"color: #0000ff\">Professional&Other</span>: 47, <span style=\"color: #0000ff\">Residences</span>: 6, <span style=\"color: #0000ff\">Arts&Entertainment</span>: 39, <span style=\"color: #0000ff\">NightlifeSpots</span>: 17, <span style=\"color: #0000ff\">GreatOutdoors</span>: 44, <span style=\"color: #0000ff\">College&University</span>: 33</span>"
      ],
      "text/plain": [
       "<IPython.core.display.Markdown object>"
      ]
     },
     "metadata": {},
     "output_type": "display_data"
    },
    {
     "data": {
      "text/markdown": [
       "<span style=\"font-size:11pt\">Eval-Settings: metric: <span style=\"color: #0000ff\">f1</span>, type: <span style=\"color: #0000ff\">one-vs-rest</span>, DT-Depth: <span style=\"color: #0000ff\">None</span>, train-test-split:<span style=\"color: #0000ff\"> 4-fold cross-validation </span></span>"
      ],
      "text/plain": [
       "<IPython.core.display.Markdown object>"
      ]
     },
     "metadata": {},
     "output_type": "display_data"
    },
    {
     "data": {
      "text/markdown": [
       "<span style=\"font-size:11pt\">Per-Class-Scores: Food: 0.71, NightlifeSpots: 0.51, Travel&Transport: 0.35, Shops&Services: 0.57, Professional&Other: 0.21, Arts&Entertainment: 0.17, College&University: 0.66, GreatOutdoors: 0.51, Residences: 0.00</span>"
      ],
      "text/plain": [
       "<IPython.core.display.Markdown object>"
      ]
     },
     "metadata": {},
     "output_type": "display_data"
    },
    {
     "data": {
      "text/markdown": [
       "<span style=\"font-size:11pt\">Unweighted Mean f1: 41.12%</span>"
      ],
      "text/plain": [
       "<IPython.core.display.Markdown object>"
      ]
     },
     "metadata": {},
     "output_type": "display_data"
    },
    {
     "data": {
      "text/markdown": [
       "<span style=\"font-size:11pt\">Weighted Mean f1: 48.76%</span>"
      ],
      "text/plain": [
       "<IPython.core.display.Markdown object>"
      ]
     },
     "metadata": {},
     "output_type": "display_data"
    },
    {
     "data": {
      "text/markdown": [
       "<span style=\"font-size:11pt\">====================================================================================================</span>"
      ],
      "text/plain": [
       "<IPython.core.display.Markdown object>"
      ]
     },
     "metadata": {},
     "output_type": "display_data"
    },
    {
     "data": {
      "text/markdown": [
       "<span style=\"font-size:11pt\">Using classes from Foursquare - 391/1383 entities have a class</span>"
      ],
      "text/plain": [
       "<IPython.core.display.Markdown object>"
      ]
     },
     "metadata": {},
     "output_type": "display_data"
    },
    {
     "data": {
      "text/markdown": [
       "<span style=\"font-size:11pt\">Labels (9 classes): <span style=\"color: #0000ff\">Shops&Services</span>: 88, <span style=\"color: #0000ff\">Food</span>: 82, <span style=\"color: #0000ff\">Travel&Transport</span>: 35, <span style=\"color: #0000ff\">Professional&Other</span>: 47, <span style=\"color: #0000ff\">Residences</span>: 6, <span style=\"color: #0000ff\">Arts&Entertainment</span>: 39, <span style=\"color: #0000ff\">NightlifeSpots</span>: 17, <span style=\"color: #0000ff\">GreatOutdoors</span>: 44, <span style=\"color: #0000ff\">College&University</span>: 33</span>"
      ],
      "text/plain": [
       "<IPython.core.display.Markdown object>"
      ]
     },
     "metadata": {},
     "output_type": "display_data"
    },
    {
     "data": {
      "text/markdown": [
       "<span style=\"font-size:11pt\">Eval-Settings: metric: <span style=\"color: #0000ff\">accuracy</span>, type: <span style=\"color: #0000ff\">all-at-once</span>, DT-Depth: <span style=\"color: #0000ff\">1</span>, train-test-split:<span style=\"color: #0000ff\"> 4-fold cross-validation </span></span>"
      ],
      "text/plain": [
       "<IPython.core.display.Markdown object>"
      ]
     },
     "metadata": {},
     "output_type": "display_data"
    },
    {
     "name": "stderr",
     "output_type": "stream",
     "text": [
      "derive_conceptualspace/evaluate/shallow_trees.py:123: UserWarning: There are more classes (9) than your decision-tree can possibly classify (2)\n"
     ]
    },
    {
     "data": {
      "text/markdown": [
       "<span style=\"font-size:11pt\">accuracy: 0.09</span>"
      ],
      "text/plain": [
       "<IPython.core.display.Markdown object>"
      ]
     },
     "metadata": {},
     "output_type": "display_data"
    },
    {
     "data": {
      "text/markdown": [
       "<span style=\"font-size:11pt\">Baseline accuracy: 0.23</span>"
      ],
      "text/plain": [
       "<IPython.core.display.Markdown object>"
      ]
     },
     "metadata": {},
     "output_type": "display_data"
    },
    {
     "data": {
      "text/markdown": [
       "<span style=\"font-size:11pt\">Maximally achievable accuracy: 0.43</span>"
      ],
      "text/plain": [
       "<IPython.core.display.Markdown object>"
      ]
     },
     "metadata": {},
     "output_type": "display_data"
    },
    {
     "data": {
      "text/markdown": [
       "<span style=\"font-size:11pt\">====================================================================================================</span>"
      ],
      "text/plain": [
       "<IPython.core.display.Markdown object>"
      ]
     },
     "metadata": {},
     "output_type": "display_data"
    },
    {
     "data": {
      "text/markdown": [
       "<span style=\"font-size:11pt\">Using classes from Foursquare - 391/1383 entities have a class</span>"
      ],
      "text/plain": [
       "<IPython.core.display.Markdown object>"
      ]
     },
     "metadata": {},
     "output_type": "display_data"
    },
    {
     "data": {
      "text/markdown": [
       "<span style=\"font-size:11pt\">Labels (9 classes): <span style=\"color: #0000ff\">Shops&Services</span>: 88, <span style=\"color: #0000ff\">Food</span>: 82, <span style=\"color: #0000ff\">Travel&Transport</span>: 35, <span style=\"color: #0000ff\">Professional&Other</span>: 47, <span style=\"color: #0000ff\">Residences</span>: 6, <span style=\"color: #0000ff\">Arts&Entertainment</span>: 39, <span style=\"color: #0000ff\">NightlifeSpots</span>: 17, <span style=\"color: #0000ff\">GreatOutdoors</span>: 44, <span style=\"color: #0000ff\">College&University</span>: 33</span>"
      ],
      "text/plain": [
       "<IPython.core.display.Markdown object>"
      ]
     },
     "metadata": {},
     "output_type": "display_data"
    },
    {
     "data": {
      "text/markdown": [
       "<span style=\"font-size:11pt\">Eval-Settings: metric: <span style=\"color: #0000ff\">f1</span>, type: <span style=\"color: #0000ff\">all-at-once</span>, DT-Depth: <span style=\"color: #0000ff\">1</span>, train-test-split:<span style=\"color: #0000ff\"> 4-fold cross-validation </span></span>"
      ],
      "text/plain": [
       "<IPython.core.display.Markdown object>"
      ]
     },
     "metadata": {},
     "output_type": "display_data"
    },
    {
     "name": "stderr",
     "output_type": "stream",
     "text": [
      "derive_conceptualspace/evaluate/shallow_trees.py:123: UserWarning: There are more classes (9) than your decision-tree can possibly classify (2)\n"
     ]
    },
    {
     "data": {
      "text/markdown": [
       "<span style=\"font-size:11pt\">f1: 0.09</span>"
      ],
      "text/plain": [
       "<IPython.core.display.Markdown object>"
      ]
     },
     "metadata": {},
     "output_type": "display_data"
    },
    {
     "data": {
      "text/markdown": [
       "<span style=\"font-size:11pt\">Baseline f1: 0.23</span>"
      ],
      "text/plain": [
       "<IPython.core.display.Markdown object>"
      ]
     },
     "metadata": {},
     "output_type": "display_data"
    },
    {
     "data": {
      "text/markdown": [
       "<span style=\"font-size:11pt\">====================================================================================================</span>"
      ],
      "text/plain": [
       "<IPython.core.display.Markdown object>"
      ]
     },
     "metadata": {},
     "output_type": "display_data"
    },
    {
     "data": {
      "text/markdown": [
       "<span style=\"font-size:11pt\">Using classes from Foursquare - 391/1383 entities have a class</span>"
      ],
      "text/plain": [
       "<IPython.core.display.Markdown object>"
      ]
     },
     "metadata": {},
     "output_type": "display_data"
    },
    {
     "data": {
      "text/markdown": [
       "<span style=\"font-size:11pt\">Labels (9 classes): <span style=\"color: #0000ff\">Shops&Services</span>: 88, <span style=\"color: #0000ff\">Food</span>: 82, <span style=\"color: #0000ff\">Travel&Transport</span>: 35, <span style=\"color: #0000ff\">Professional&Other</span>: 47, <span style=\"color: #0000ff\">Residences</span>: 6, <span style=\"color: #0000ff\">Arts&Entertainment</span>: 39, <span style=\"color: #0000ff\">NightlifeSpots</span>: 17, <span style=\"color: #0000ff\">GreatOutdoors</span>: 44, <span style=\"color: #0000ff\">College&University</span>: 33</span>"
      ],
      "text/plain": [
       "<IPython.core.display.Markdown object>"
      ]
     },
     "metadata": {},
     "output_type": "display_data"
    },
    {
     "data": {
      "text/markdown": [
       "<span style=\"font-size:11pt\">Eval-Settings: metric: <span style=\"color: #0000ff\">accuracy</span>, type: <span style=\"color: #0000ff\">all-at-once</span>, DT-Depth: <span style=\"color: #0000ff\">1</span>, train-test-split:<span style=\"color: #0000ff\"> 4-fold cross-validation </span></span>"
      ],
      "text/plain": [
       "<IPython.core.display.Markdown object>"
      ]
     },
     "metadata": {},
     "output_type": "display_data"
    },
    {
     "name": "stderr",
     "output_type": "stream",
     "text": [
      "derive_conceptualspace/evaluate/shallow_trees.py:123: UserWarning: There are more classes (9) than your decision-tree can possibly classify (2)\n"
     ]
    },
    {
     "data": {
      "text/markdown": [
       "<span style=\"font-size:11pt\">accuracy: 0.35</span>"
      ],
      "text/plain": [
       "<IPython.core.display.Markdown object>"
      ]
     },
     "metadata": {},
     "output_type": "display_data"
    },
    {
     "data": {
      "text/markdown": [
       "<span style=\"font-size:11pt\">Baseline accuracy: 0.23</span>"
      ],
      "text/plain": [
       "<IPython.core.display.Markdown object>"
      ]
     },
     "metadata": {},
     "output_type": "display_data"
    },
    {
     "data": {
      "text/markdown": [
       "<span style=\"font-size:11pt\">Maximally achievable accuracy: 0.43</span>"
      ],
      "text/plain": [
       "<IPython.core.display.Markdown object>"
      ]
     },
     "metadata": {},
     "output_type": "display_data"
    },
    {
     "data": {
      "text/markdown": [
       "<span style=\"font-size:11pt\">====================================================================================================</span>"
      ],
      "text/plain": [
       "<IPython.core.display.Markdown object>"
      ]
     },
     "metadata": {},
     "output_type": "display_data"
    },
    {
     "data": {
      "text/markdown": [
       "<span style=\"font-size:11pt\">Using classes from Foursquare - 391/1383 entities have a class</span>"
      ],
      "text/plain": [
       "<IPython.core.display.Markdown object>"
      ]
     },
     "metadata": {},
     "output_type": "display_data"
    },
    {
     "data": {
      "text/markdown": [
       "<span style=\"font-size:11pt\">Labels (9 classes): <span style=\"color: #0000ff\">Shops&Services</span>: 88, <span style=\"color: #0000ff\">Food</span>: 82, <span style=\"color: #0000ff\">Travel&Transport</span>: 35, <span style=\"color: #0000ff\">Professional&Other</span>: 47, <span style=\"color: #0000ff\">Residences</span>: 6, <span style=\"color: #0000ff\">Arts&Entertainment</span>: 39, <span style=\"color: #0000ff\">NightlifeSpots</span>: 17, <span style=\"color: #0000ff\">GreatOutdoors</span>: 44, <span style=\"color: #0000ff\">College&University</span>: 33</span>"
      ],
      "text/plain": [
       "<IPython.core.display.Markdown object>"
      ]
     },
     "metadata": {},
     "output_type": "display_data"
    },
    {
     "data": {
      "text/markdown": [
       "<span style=\"font-size:11pt\">Eval-Settings: metric: <span style=\"color: #0000ff\">f1</span>, type: <span style=\"color: #0000ff\">all-at-once</span>, DT-Depth: <span style=\"color: #0000ff\">1</span>, train-test-split:<span style=\"color: #0000ff\"> 4-fold cross-validation </span></span>"
      ],
      "text/plain": [
       "<IPython.core.display.Markdown object>"
      ]
     },
     "metadata": {},
     "output_type": "display_data"
    },
    {
     "name": "stderr",
     "output_type": "stream",
     "text": [
      "derive_conceptualspace/evaluate/shallow_trees.py:123: UserWarning: There are more classes (9) than your decision-tree can possibly classify (2)\n"
     ]
    },
    {
     "data": {
      "text/markdown": [
       "<span style=\"font-size:11pt\">f1: 0.35</span>"
      ],
      "text/plain": [
       "<IPython.core.display.Markdown object>"
      ]
     },
     "metadata": {},
     "output_type": "display_data"
    },
    {
     "data": {
      "text/markdown": [
       "<span style=\"font-size:11pt\">Baseline f1: 0.23</span>"
      ],
      "text/plain": [
       "<IPython.core.display.Markdown object>"
      ]
     },
     "metadata": {},
     "output_type": "display_data"
    },
    {
     "data": {
      "text/markdown": [
       "<span style=\"font-size:11pt\">====================================================================================================</span>"
      ],
      "text/plain": [
       "<IPython.core.display.Markdown object>"
      ]
     },
     "metadata": {},
     "output_type": "display_data"
    },
    {
     "data": {
      "text/markdown": [
       "<span style=\"font-size:11pt\">Using classes from Foursquare - 391/1383 entities have a class</span>"
      ],
      "text/plain": [
       "<IPython.core.display.Markdown object>"
      ]
     },
     "metadata": {},
     "output_type": "display_data"
    },
    {
     "data": {
      "text/markdown": [
       "<span style=\"font-size:11pt\">Labels (9 classes): <span style=\"color: #0000ff\">Shops&Services</span>: 88, <span style=\"color: #0000ff\">Food</span>: 82, <span style=\"color: #0000ff\">Travel&Transport</span>: 35, <span style=\"color: #0000ff\">Professional&Other</span>: 47, <span style=\"color: #0000ff\">Residences</span>: 6, <span style=\"color: #0000ff\">Arts&Entertainment</span>: 39, <span style=\"color: #0000ff\">NightlifeSpots</span>: 17, <span style=\"color: #0000ff\">GreatOutdoors</span>: 44, <span style=\"color: #0000ff\">College&University</span>: 33</span>"
      ],
      "text/plain": [
       "<IPython.core.display.Markdown object>"
      ]
     },
     "metadata": {},
     "output_type": "display_data"
    },
    {
     "data": {
      "text/markdown": [
       "<span style=\"font-size:11pt\">Eval-Settings: metric: <span style=\"color: #0000ff\">accuracy</span>, type: <span style=\"color: #0000ff\">all-at-once</span>, DT-Depth: <span style=\"color: #0000ff\">2</span>, train-test-split:<span style=\"color: #0000ff\"> 4-fold cross-validation </span></span>"
      ],
      "text/plain": [
       "<IPython.core.display.Markdown object>"
      ]
     },
     "metadata": {},
     "output_type": "display_data"
    },
    {
     "name": "stderr",
     "output_type": "stream",
     "text": [
      "derive_conceptualspace/evaluate/shallow_trees.py:123: UserWarning: There are more classes (9) than your decision-tree can possibly classify (4)\n"
     ]
    },
    {
     "data": {
      "text/markdown": [
       "<span style=\"font-size:11pt\">accuracy: 0.25</span>"
      ],
      "text/plain": [
       "<IPython.core.display.Markdown object>"
      ]
     },
     "metadata": {},
     "output_type": "display_data"
    },
    {
     "data": {
      "text/markdown": [
       "<span style=\"font-size:11pt\">====================================================================================================</span>"
      ],
      "text/plain": [
       "<IPython.core.display.Markdown object>"
      ]
     },
     "metadata": {},
     "output_type": "display_data"
    },
    {
     "data": {
      "text/markdown": [
       "<span style=\"font-size:11pt\">Using classes from Foursquare - 391/1383 entities have a class</span>"
      ],
      "text/plain": [
       "<IPython.core.display.Markdown object>"
      ]
     },
     "metadata": {},
     "output_type": "display_data"
    },
    {
     "data": {
      "text/markdown": [
       "<span style=\"font-size:11pt\">Labels (9 classes): <span style=\"color: #0000ff\">Shops&Services</span>: 88, <span style=\"color: #0000ff\">Food</span>: 82, <span style=\"color: #0000ff\">Travel&Transport</span>: 35, <span style=\"color: #0000ff\">Professional&Other</span>: 47, <span style=\"color: #0000ff\">Residences</span>: 6, <span style=\"color: #0000ff\">Arts&Entertainment</span>: 39, <span style=\"color: #0000ff\">NightlifeSpots</span>: 17, <span style=\"color: #0000ff\">GreatOutdoors</span>: 44, <span style=\"color: #0000ff\">College&University</span>: 33</span>"
      ],
      "text/plain": [
       "<IPython.core.display.Markdown object>"
      ]
     },
     "metadata": {},
     "output_type": "display_data"
    },
    {
     "data": {
      "text/markdown": [
       "<span style=\"font-size:11pt\">Eval-Settings: metric: <span style=\"color: #0000ff\">f1</span>, type: <span style=\"color: #0000ff\">all-at-once</span>, DT-Depth: <span style=\"color: #0000ff\">2</span>, train-test-split:<span style=\"color: #0000ff\"> 4-fold cross-validation </span></span>"
      ],
      "text/plain": [
       "<IPython.core.display.Markdown object>"
      ]
     },
     "metadata": {},
     "output_type": "display_data"
    },
    {
     "name": "stderr",
     "output_type": "stream",
     "text": [
      "derive_conceptualspace/evaluate/shallow_trees.py:123: UserWarning: There are more classes (9) than your decision-tree can possibly classify (4)\n"
     ]
    },
    {
     "data": {
      "text/markdown": [
       "<span style=\"font-size:11pt\">f1: 0.25</span>"
      ],
      "text/plain": [
       "<IPython.core.display.Markdown object>"
      ]
     },
     "metadata": {},
     "output_type": "display_data"
    },
    {
     "data": {
      "text/markdown": [
       "<span style=\"font-size:11pt\">====================================================================================================</span>"
      ],
      "text/plain": [
       "<IPython.core.display.Markdown object>"
      ]
     },
     "metadata": {},
     "output_type": "display_data"
    },
    {
     "data": {
      "text/markdown": [
       "<span style=\"font-size:11pt\">Using classes from Foursquare - 391/1383 entities have a class</span>"
      ],
      "text/plain": [
       "<IPython.core.display.Markdown object>"
      ]
     },
     "metadata": {},
     "output_type": "display_data"
    },
    {
     "data": {
      "text/markdown": [
       "<span style=\"font-size:11pt\">Labels (9 classes): <span style=\"color: #0000ff\">Shops&Services</span>: 88, <span style=\"color: #0000ff\">Food</span>: 82, <span style=\"color: #0000ff\">Travel&Transport</span>: 35, <span style=\"color: #0000ff\">Professional&Other</span>: 47, <span style=\"color: #0000ff\">Residences</span>: 6, <span style=\"color: #0000ff\">Arts&Entertainment</span>: 39, <span style=\"color: #0000ff\">NightlifeSpots</span>: 17, <span style=\"color: #0000ff\">GreatOutdoors</span>: 44, <span style=\"color: #0000ff\">College&University</span>: 33</span>"
      ],
      "text/plain": [
       "<IPython.core.display.Markdown object>"
      ]
     },
     "metadata": {},
     "output_type": "display_data"
    },
    {
     "data": {
      "text/markdown": [
       "<span style=\"font-size:11pt\">Eval-Settings: metric: <span style=\"color: #0000ff\">accuracy</span>, type: <span style=\"color: #0000ff\">all-at-once</span>, DT-Depth: <span style=\"color: #0000ff\">2</span>, train-test-split:<span style=\"color: #0000ff\"> 4-fold cross-validation </span></span>"
      ],
      "text/plain": [
       "<IPython.core.display.Markdown object>"
      ]
     },
     "metadata": {},
     "output_type": "display_data"
    },
    {
     "name": "stderr",
     "output_type": "stream",
     "text": [
      "derive_conceptualspace/evaluate/shallow_trees.py:123: UserWarning: There are more classes (9) than your decision-tree can possibly classify (4)\n"
     ]
    },
    {
     "data": {
      "text/markdown": [
       "<span style=\"font-size:11pt\">accuracy: 0.41</span>"
      ],
      "text/plain": [
       "<IPython.core.display.Markdown object>"
      ]
     },
     "metadata": {},
     "output_type": "display_data"
    },
    {
     "data": {
      "text/markdown": [
       "<span style=\"font-size:11pt\">====================================================================================================</span>"
      ],
      "text/plain": [
       "<IPython.core.display.Markdown object>"
      ]
     },
     "metadata": {},
     "output_type": "display_data"
    },
    {
     "data": {
      "text/markdown": [
       "<span style=\"font-size:11pt\">Using classes from Foursquare - 391/1383 entities have a class</span>"
      ],
      "text/plain": [
       "<IPython.core.display.Markdown object>"
      ]
     },
     "metadata": {},
     "output_type": "display_data"
    },
    {
     "data": {
      "text/markdown": [
       "<span style=\"font-size:11pt\">Labels (9 classes): <span style=\"color: #0000ff\">Shops&Services</span>: 88, <span style=\"color: #0000ff\">Food</span>: 82, <span style=\"color: #0000ff\">Travel&Transport</span>: 35, <span style=\"color: #0000ff\">Professional&Other</span>: 47, <span style=\"color: #0000ff\">Residences</span>: 6, <span style=\"color: #0000ff\">Arts&Entertainment</span>: 39, <span style=\"color: #0000ff\">NightlifeSpots</span>: 17, <span style=\"color: #0000ff\">GreatOutdoors</span>: 44, <span style=\"color: #0000ff\">College&University</span>: 33</span>"
      ],
      "text/plain": [
       "<IPython.core.display.Markdown object>"
      ]
     },
     "metadata": {},
     "output_type": "display_data"
    },
    {
     "data": {
      "text/markdown": [
       "<span style=\"font-size:11pt\">Eval-Settings: metric: <span style=\"color: #0000ff\">f1</span>, type: <span style=\"color: #0000ff\">all-at-once</span>, DT-Depth: <span style=\"color: #0000ff\">2</span>, train-test-split:<span style=\"color: #0000ff\"> 4-fold cross-validation </span></span>"
      ],
      "text/plain": [
       "<IPython.core.display.Markdown object>"
      ]
     },
     "metadata": {},
     "output_type": "display_data"
    },
    {
     "name": "stderr",
     "output_type": "stream",
     "text": [
      "derive_conceptualspace/evaluate/shallow_trees.py:123: UserWarning: There are more classes (9) than your decision-tree can possibly classify (4)\n"
     ]
    },
    {
     "data": {
      "text/markdown": [
       "<span style=\"font-size:11pt\">f1: 0.41</span>"
      ],
      "text/plain": [
       "<IPython.core.display.Markdown object>"
      ]
     },
     "metadata": {},
     "output_type": "display_data"
    },
    {
     "data": {
      "text/markdown": [
       "<span style=\"font-size:11pt\">====================================================================================================</span>"
      ],
      "text/plain": [
       "<IPython.core.display.Markdown object>"
      ]
     },
     "metadata": {},
     "output_type": "display_data"
    },
    {
     "data": {
      "text/markdown": [
       "<span style=\"font-size:11pt\">Using classes from Foursquare - 391/1383 entities have a class</span>"
      ],
      "text/plain": [
       "<IPython.core.display.Markdown object>"
      ]
     },
     "metadata": {},
     "output_type": "display_data"
    },
    {
     "data": {
      "text/markdown": [
       "<span style=\"font-size:11pt\">Labels (9 classes): <span style=\"color: #0000ff\">Shops&Services</span>: 88, <span style=\"color: #0000ff\">Food</span>: 82, <span style=\"color: #0000ff\">Travel&Transport</span>: 35, <span style=\"color: #0000ff\">Professional&Other</span>: 47, <span style=\"color: #0000ff\">Residences</span>: 6, <span style=\"color: #0000ff\">Arts&Entertainment</span>: 39, <span style=\"color: #0000ff\">NightlifeSpots</span>: 17, <span style=\"color: #0000ff\">GreatOutdoors</span>: 44, <span style=\"color: #0000ff\">College&University</span>: 33</span>"
      ],
      "text/plain": [
       "<IPython.core.display.Markdown object>"
      ]
     },
     "metadata": {},
     "output_type": "display_data"
    },
    {
     "data": {
      "text/markdown": [
       "<span style=\"font-size:11pt\">Eval-Settings: metric: <span style=\"color: #0000ff\">accuracy</span>, type: <span style=\"color: #0000ff\">all-at-once</span>, DT-Depth: <span style=\"color: #0000ff\">3</span>, train-test-split:<span style=\"color: #0000ff\"> 4-fold cross-validation </span></span>"
      ],
      "text/plain": [
       "<IPython.core.display.Markdown object>"
      ]
     },
     "metadata": {},
     "output_type": "display_data"
    },
    {
     "name": "stderr",
     "output_type": "stream",
     "text": [
      "derive_conceptualspace/evaluate/shallow_trees.py:123: UserWarning: There are more classes (9) than your decision-tree can possibly classify (8)\n"
     ]
    },
    {
     "data": {
      "text/markdown": [
       "<span style=\"font-size:11pt\">accuracy: 0.49</span>"
      ],
      "text/plain": [
       "<IPython.core.display.Markdown object>"
      ]
     },
     "metadata": {},
     "output_type": "display_data"
    },
    {
     "data": {
      "text/markdown": [
       "<span style=\"font-size:11pt\">====================================================================================================</span>"
      ],
      "text/plain": [
       "<IPython.core.display.Markdown object>"
      ]
     },
     "metadata": {},
     "output_type": "display_data"
    },
    {
     "data": {
      "text/markdown": [
       "<span style=\"font-size:11pt\">Using classes from Foursquare - 391/1383 entities have a class</span>"
      ],
      "text/plain": [
       "<IPython.core.display.Markdown object>"
      ]
     },
     "metadata": {},
     "output_type": "display_data"
    },
    {
     "data": {
      "text/markdown": [
       "<span style=\"font-size:11pt\">Labels (9 classes): <span style=\"color: #0000ff\">Shops&Services</span>: 88, <span style=\"color: #0000ff\">Food</span>: 82, <span style=\"color: #0000ff\">Travel&Transport</span>: 35, <span style=\"color: #0000ff\">Professional&Other</span>: 47, <span style=\"color: #0000ff\">Residences</span>: 6, <span style=\"color: #0000ff\">Arts&Entertainment</span>: 39, <span style=\"color: #0000ff\">NightlifeSpots</span>: 17, <span style=\"color: #0000ff\">GreatOutdoors</span>: 44, <span style=\"color: #0000ff\">College&University</span>: 33</span>"
      ],
      "text/plain": [
       "<IPython.core.display.Markdown object>"
      ]
     },
     "metadata": {},
     "output_type": "display_data"
    },
    {
     "data": {
      "text/markdown": [
       "<span style=\"font-size:11pt\">Eval-Settings: metric: <span style=\"color: #0000ff\">f1</span>, type: <span style=\"color: #0000ff\">all-at-once</span>, DT-Depth: <span style=\"color: #0000ff\">3</span>, train-test-split:<span style=\"color: #0000ff\"> 4-fold cross-validation </span></span>"
      ],
      "text/plain": [
       "<IPython.core.display.Markdown object>"
      ]
     },
     "metadata": {},
     "output_type": "display_data"
    },
    {
     "name": "stderr",
     "output_type": "stream",
     "text": [
      "derive_conceptualspace/evaluate/shallow_trees.py:123: UserWarning: There are more classes (9) than your decision-tree can possibly classify (8)\n"
     ]
    },
    {
     "data": {
      "text/markdown": [
       "<span style=\"font-size:11pt\">f1: 0.49</span>"
      ],
      "text/plain": [
       "<IPython.core.display.Markdown object>"
      ]
     },
     "metadata": {},
     "output_type": "display_data"
    },
    {
     "data": {
      "text/markdown": [
       "<span style=\"font-size:11pt\">====================================================================================================</span>"
      ],
      "text/plain": [
       "<IPython.core.display.Markdown object>"
      ]
     },
     "metadata": {},
     "output_type": "display_data"
    },
    {
     "data": {
      "text/markdown": [
       "<span style=\"font-size:11pt\">Using classes from Foursquare - 391/1383 entities have a class</span>"
      ],
      "text/plain": [
       "<IPython.core.display.Markdown object>"
      ]
     },
     "metadata": {},
     "output_type": "display_data"
    },
    {
     "data": {
      "text/markdown": [
       "<span style=\"font-size:11pt\">Labels (9 classes): <span style=\"color: #0000ff\">Shops&Services</span>: 88, <span style=\"color: #0000ff\">Food</span>: 82, <span style=\"color: #0000ff\">Travel&Transport</span>: 35, <span style=\"color: #0000ff\">Professional&Other</span>: 47, <span style=\"color: #0000ff\">Residences</span>: 6, <span style=\"color: #0000ff\">Arts&Entertainment</span>: 39, <span style=\"color: #0000ff\">NightlifeSpots</span>: 17, <span style=\"color: #0000ff\">GreatOutdoors</span>: 44, <span style=\"color: #0000ff\">College&University</span>: 33</span>"
      ],
      "text/plain": [
       "<IPython.core.display.Markdown object>"
      ]
     },
     "metadata": {},
     "output_type": "display_data"
    },
    {
     "data": {
      "text/markdown": [
       "<span style=\"font-size:11pt\">Eval-Settings: metric: <span style=\"color: #0000ff\">accuracy</span>, type: <span style=\"color: #0000ff\">all-at-once</span>, DT-Depth: <span style=\"color: #0000ff\">3</span>, train-test-split:<span style=\"color: #0000ff\"> 4-fold cross-validation </span></span>"
      ],
      "text/plain": [
       "<IPython.core.display.Markdown object>"
      ]
     },
     "metadata": {},
     "output_type": "display_data"
    },
    {
     "name": "stderr",
     "output_type": "stream",
     "text": [
      "derive_conceptualspace/evaluate/shallow_trees.py:123: UserWarning: There are more classes (9) than your decision-tree can possibly classify (8)\n"
     ]
    },
    {
     "data": {
      "text/markdown": [
       "<span style=\"font-size:11pt\">accuracy: 0.48</span>"
      ],
      "text/plain": [
       "<IPython.core.display.Markdown object>"
      ]
     },
     "metadata": {},
     "output_type": "display_data"
    },
    {
     "data": {
      "text/markdown": [
       "<span style=\"font-size:11pt\">====================================================================================================</span>"
      ],
      "text/plain": [
       "<IPython.core.display.Markdown object>"
      ]
     },
     "metadata": {},
     "output_type": "display_data"
    },
    {
     "data": {
      "text/markdown": [
       "<span style=\"font-size:11pt\">Using classes from Foursquare - 391/1383 entities have a class</span>"
      ],
      "text/plain": [
       "<IPython.core.display.Markdown object>"
      ]
     },
     "metadata": {},
     "output_type": "display_data"
    },
    {
     "data": {
      "text/markdown": [
       "<span style=\"font-size:11pt\">Labels (9 classes): <span style=\"color: #0000ff\">Shops&Services</span>: 88, <span style=\"color: #0000ff\">Food</span>: 82, <span style=\"color: #0000ff\">Travel&Transport</span>: 35, <span style=\"color: #0000ff\">Professional&Other</span>: 47, <span style=\"color: #0000ff\">Residences</span>: 6, <span style=\"color: #0000ff\">Arts&Entertainment</span>: 39, <span style=\"color: #0000ff\">NightlifeSpots</span>: 17, <span style=\"color: #0000ff\">GreatOutdoors</span>: 44, <span style=\"color: #0000ff\">College&University</span>: 33</span>"
      ],
      "text/plain": [
       "<IPython.core.display.Markdown object>"
      ]
     },
     "metadata": {},
     "output_type": "display_data"
    },
    {
     "data": {
      "text/markdown": [
       "<span style=\"font-size:11pt\">Eval-Settings: metric: <span style=\"color: #0000ff\">f1</span>, type: <span style=\"color: #0000ff\">all-at-once</span>, DT-Depth: <span style=\"color: #0000ff\">3</span>, train-test-split:<span style=\"color: #0000ff\"> 4-fold cross-validation </span></span>"
      ],
      "text/plain": [
       "<IPython.core.display.Markdown object>"
      ]
     },
     "metadata": {},
     "output_type": "display_data"
    },
    {
     "name": "stderr",
     "output_type": "stream",
     "text": [
      "derive_conceptualspace/evaluate/shallow_trees.py:123: UserWarning: There are more classes (9) than your decision-tree can possibly classify (8)\n"
     ]
    },
    {
     "data": {
      "text/markdown": [
       "<span style=\"font-size:11pt\">f1: 0.48</span>"
      ],
      "text/plain": [
       "<IPython.core.display.Markdown object>"
      ]
     },
     "metadata": {},
     "output_type": "display_data"
    },
    {
     "data": {
      "text/markdown": [
       "<span style=\"font-size:11pt\">====================================================================================================</span>"
      ],
      "text/plain": [
       "<IPython.core.display.Markdown object>"
      ]
     },
     "metadata": {},
     "output_type": "display_data"
    },
    {
     "data": {
      "text/markdown": [
       "<span style=\"font-size:11pt\">Using classes from Foursquare - 391/1383 entities have a class</span>"
      ],
      "text/plain": [
       "<IPython.core.display.Markdown object>"
      ]
     },
     "metadata": {},
     "output_type": "display_data"
    },
    {
     "data": {
      "text/markdown": [
       "<span style=\"font-size:11pt\">Labels (9 classes): <span style=\"color: #0000ff\">Shops&Services</span>: 88, <span style=\"color: #0000ff\">Food</span>: 82, <span style=\"color: #0000ff\">Travel&Transport</span>: 35, <span style=\"color: #0000ff\">Professional&Other</span>: 47, <span style=\"color: #0000ff\">Residences</span>: 6, <span style=\"color: #0000ff\">Arts&Entertainment</span>: 39, <span style=\"color: #0000ff\">NightlifeSpots</span>: 17, <span style=\"color: #0000ff\">GreatOutdoors</span>: 44, <span style=\"color: #0000ff\">College&University</span>: 33</span>"
      ],
      "text/plain": [
       "<IPython.core.display.Markdown object>"
      ]
     },
     "metadata": {},
     "output_type": "display_data"
    },
    {
     "data": {
      "text/markdown": [
       "<span style=\"font-size:11pt\">Eval-Settings: metric: <span style=\"color: #0000ff\">accuracy</span>, type: <span style=\"color: #0000ff\">all-at-once</span>, DT-Depth: <span style=\"color: #0000ff\">None</span>, train-test-split:<span style=\"color: #0000ff\"> 4-fold cross-validation </span></span>"
      ],
      "text/plain": [
       "<IPython.core.display.Markdown object>"
      ]
     },
     "metadata": {},
     "output_type": "display_data"
    },
    {
     "data": {
      "text/markdown": [
       "<span style=\"font-size:11pt\">accuracy: 0.53</span>"
      ],
      "text/plain": [
       "<IPython.core.display.Markdown object>"
      ]
     },
     "metadata": {},
     "output_type": "display_data"
    },
    {
     "data": {
      "text/markdown": [
       "<span style=\"font-size:11pt\">====================================================================================================</span>"
      ],
      "text/plain": [
       "<IPython.core.display.Markdown object>"
      ]
     },
     "metadata": {},
     "output_type": "display_data"
    },
    {
     "data": {
      "text/markdown": [
       "<span style=\"font-size:11pt\">Using classes from Foursquare - 391/1383 entities have a class</span>"
      ],
      "text/plain": [
       "<IPython.core.display.Markdown object>"
      ]
     },
     "metadata": {},
     "output_type": "display_data"
    },
    {
     "data": {
      "text/markdown": [
       "<span style=\"font-size:11pt\">Labels (9 classes): <span style=\"color: #0000ff\">Shops&Services</span>: 88, <span style=\"color: #0000ff\">Food</span>: 82, <span style=\"color: #0000ff\">Travel&Transport</span>: 35, <span style=\"color: #0000ff\">Professional&Other</span>: 47, <span style=\"color: #0000ff\">Residences</span>: 6, <span style=\"color: #0000ff\">Arts&Entertainment</span>: 39, <span style=\"color: #0000ff\">NightlifeSpots</span>: 17, <span style=\"color: #0000ff\">GreatOutdoors</span>: 44, <span style=\"color: #0000ff\">College&University</span>: 33</span>"
      ],
      "text/plain": [
       "<IPython.core.display.Markdown object>"
      ]
     },
     "metadata": {},
     "output_type": "display_data"
    },
    {
     "data": {
      "text/markdown": [
       "<span style=\"font-size:11pt\">Eval-Settings: metric: <span style=\"color: #0000ff\">f1</span>, type: <span style=\"color: #0000ff\">all-at-once</span>, DT-Depth: <span style=\"color: #0000ff\">None</span>, train-test-split:<span style=\"color: #0000ff\"> 4-fold cross-validation </span></span>"
      ],
      "text/plain": [
       "<IPython.core.display.Markdown object>"
      ]
     },
     "metadata": {},
     "output_type": "display_data"
    },
    {
     "data": {
      "text/markdown": [
       "<span style=\"font-size:11pt\">f1: 0.51</span>"
      ],
      "text/plain": [
       "<IPython.core.display.Markdown object>"
      ]
     },
     "metadata": {},
     "output_type": "display_data"
    },
    {
     "data": {
      "text/markdown": [
       "<span style=\"font-size:11pt\">====================================================================================================</span>"
      ],
      "text/plain": [
       "<IPython.core.display.Markdown object>"
      ]
     },
     "metadata": {},
     "output_type": "display_data"
    },
    {
     "data": {
      "text/markdown": [
       "<span style=\"font-size:11pt\">Using classes from Foursquare - 391/1383 entities have a class</span>"
      ],
      "text/plain": [
       "<IPython.core.display.Markdown object>"
      ]
     },
     "metadata": {},
     "output_type": "display_data"
    },
    {
     "data": {
      "text/markdown": [
       "<span style=\"font-size:11pt\">Labels (9 classes): <span style=\"color: #0000ff\">Shops&Services</span>: 88, <span style=\"color: #0000ff\">Food</span>: 82, <span style=\"color: #0000ff\">Travel&Transport</span>: 35, <span style=\"color: #0000ff\">Professional&Other</span>: 47, <span style=\"color: #0000ff\">Residences</span>: 6, <span style=\"color: #0000ff\">Arts&Entertainment</span>: 39, <span style=\"color: #0000ff\">NightlifeSpots</span>: 17, <span style=\"color: #0000ff\">GreatOutdoors</span>: 44, <span style=\"color: #0000ff\">College&University</span>: 33</span>"
      ],
      "text/plain": [
       "<IPython.core.display.Markdown object>"
      ]
     },
     "metadata": {},
     "output_type": "display_data"
    },
    {
     "data": {
      "text/markdown": [
       "<span style=\"font-size:11pt\">Eval-Settings: metric: <span style=\"color: #0000ff\">accuracy</span>, type: <span style=\"color: #0000ff\">all-at-once</span>, DT-Depth: <span style=\"color: #0000ff\">None</span>, train-test-split:<span style=\"color: #0000ff\"> 4-fold cross-validation </span></span>"
      ],
      "text/plain": [
       "<IPython.core.display.Markdown object>"
      ]
     },
     "metadata": {},
     "output_type": "display_data"
    },
    {
     "data": {
      "text/markdown": [
       "<span style=\"font-size:11pt\">accuracy: 0.49</span>"
      ],
      "text/plain": [
       "<IPython.core.display.Markdown object>"
      ]
     },
     "metadata": {},
     "output_type": "display_data"
    },
    {
     "data": {
      "text/markdown": [
       "<span style=\"font-size:11pt\">====================================================================================================</span>"
      ],
      "text/plain": [
       "<IPython.core.display.Markdown object>"
      ]
     },
     "metadata": {},
     "output_type": "display_data"
    },
    {
     "data": {
      "text/markdown": [
       "<span style=\"font-size:11pt\">Using classes from Foursquare - 391/1383 entities have a class</span>"
      ],
      "text/plain": [
       "<IPython.core.display.Markdown object>"
      ]
     },
     "metadata": {},
     "output_type": "display_data"
    },
    {
     "data": {
      "text/markdown": [
       "<span style=\"font-size:11pt\">Labels (9 classes): <span style=\"color: #0000ff\">Shops&Services</span>: 88, <span style=\"color: #0000ff\">Food</span>: 82, <span style=\"color: #0000ff\">Travel&Transport</span>: 35, <span style=\"color: #0000ff\">Professional&Other</span>: 47, <span style=\"color: #0000ff\">Residences</span>: 6, <span style=\"color: #0000ff\">Arts&Entertainment</span>: 39, <span style=\"color: #0000ff\">NightlifeSpots</span>: 17, <span style=\"color: #0000ff\">GreatOutdoors</span>: 44, <span style=\"color: #0000ff\">College&University</span>: 33</span>"
      ],
      "text/plain": [
       "<IPython.core.display.Markdown object>"
      ]
     },
     "metadata": {},
     "output_type": "display_data"
    },
    {
     "data": {
      "text/markdown": [
       "<span style=\"font-size:11pt\">Eval-Settings: metric: <span style=\"color: #0000ff\">f1</span>, type: <span style=\"color: #0000ff\">all-at-once</span>, DT-Depth: <span style=\"color: #0000ff\">None</span>, train-test-split:<span style=\"color: #0000ff\"> 4-fold cross-validation </span></span>"
      ],
      "text/plain": [
       "<IPython.core.display.Markdown object>"
      ]
     },
     "metadata": {},
     "output_type": "display_data"
    },
    {
     "data": {
      "text/markdown": [
       "<span style=\"font-size:11pt\">f1: 0.51</span>"
      ],
      "text/plain": [
       "<IPython.core.display.Markdown object>"
      ]
     },
     "metadata": {},
     "output_type": "display_data"
    },
    {
     "data": {
      "text/markdown": [
       "<span style=\"font-size:11pt\">====================================================================================================</span>"
      ],
      "text/plain": [
       "<IPython.core.display.Markdown object>"
      ]
     },
     "metadata": {},
     "output_type": "display_data"
    },
    {
     "data": {
      "text/markdown": [
       "<span style=\"font-size:11pt\">Using classes from Foursquare - 391/1383 entities have a class</span>"
      ],
      "text/plain": [
       "<IPython.core.display.Markdown object>"
      ]
     },
     "metadata": {},
     "output_type": "display_data"
    },
    {
     "data": {
      "text/markdown": [
       "<span style=\"font-size:11pt\">Labels (9 classes): <span style=\"color: #0000ff\">Shops&Services</span>: 88, <span style=\"color: #0000ff\">Food</span>: 82, <span style=\"color: #0000ff\">Travel&Transport</span>: 35, <span style=\"color: #0000ff\">Professional&Other</span>: 47, <span style=\"color: #0000ff\">Residences</span>: 6, <span style=\"color: #0000ff\">Arts&Entertainment</span>: 39, <span style=\"color: #0000ff\">NightlifeSpots</span>: 17, <span style=\"color: #0000ff\">GreatOutdoors</span>: 44, <span style=\"color: #0000ff\">College&University</span>: 33</span>"
      ],
      "text/plain": [
       "<IPython.core.display.Markdown object>"
      ]
     },
     "metadata": {},
     "output_type": "display_data"
    },
    {
     "data": {
      "text/markdown": [
       "<span style=\"font-size:11pt\">Eval-Settings: metric: <span style=\"color: #0000ff\">accuracy</span>, type: <span style=\"color: #0000ff\">one-vs-rest</span>, DT-Depth: <span style=\"color: #0000ff\">1</span>, train-test-split:<span style=\"color: #0000ff\"> 5-fold cross-validation </span></span>"
      ],
      "text/plain": [
       "<IPython.core.display.Markdown object>"
      ]
     },
     "metadata": {},
     "output_type": "display_data"
    },
    {
     "data": {
      "text/markdown": [
       "<span style=\"font-size:11pt\">Per-Class-Scores: Food: 0.73, NightlifeSpots: 0.82, Travel&Transport: 0.67, Shops&Services: 0.83, Professional&Other: 0.69, Arts&Entertainment: 0.51, College&University: 0.77, GreatOutdoors: 0.73, Residences: 0.64</span>"
      ],
      "text/plain": [
       "<IPython.core.display.Markdown object>"
      ]
     },
     "metadata": {},
     "output_type": "display_data"
    },
    {
     "data": {
      "text/markdown": [
       "<span style=\"font-size:11pt\">Unweighted Mean accuracy: 70.96%</span>"
      ],
      "text/plain": [
       "<IPython.core.display.Markdown object>"
      ]
     },
     "metadata": {},
     "output_type": "display_data"
    },
    {
     "data": {
      "text/markdown": [
       "<span style=\"font-size:11pt\">Weighted Mean accuracy: 72.62%</span>"
      ],
      "text/plain": [
       "<IPython.core.display.Markdown object>"
      ]
     },
     "metadata": {},
     "output_type": "display_data"
    },
    {
     "data": {
      "text/markdown": [
       "<span style=\"font-size:11pt\">====================================================================================================</span>"
      ],
      "text/plain": [
       "<IPython.core.display.Markdown object>"
      ]
     },
     "metadata": {},
     "output_type": "display_data"
    },
    {
     "data": {
      "text/markdown": [
       "<span style=\"font-size:11pt\">Using classes from Foursquare - 391/1383 entities have a class</span>"
      ],
      "text/plain": [
       "<IPython.core.display.Markdown object>"
      ]
     },
     "metadata": {},
     "output_type": "display_data"
    },
    {
     "data": {
      "text/markdown": [
       "<span style=\"font-size:11pt\">Labels (9 classes): <span style=\"color: #0000ff\">Shops&Services</span>: 88, <span style=\"color: #0000ff\">Food</span>: 82, <span style=\"color: #0000ff\">Travel&Transport</span>: 35, <span style=\"color: #0000ff\">Professional&Other</span>: 47, <span style=\"color: #0000ff\">Residences</span>: 6, <span style=\"color: #0000ff\">Arts&Entertainment</span>: 39, <span style=\"color: #0000ff\">NightlifeSpots</span>: 17, <span style=\"color: #0000ff\">GreatOutdoors</span>: 44, <span style=\"color: #0000ff\">College&University</span>: 33</span>"
      ],
      "text/plain": [
       "<IPython.core.display.Markdown object>"
      ]
     },
     "metadata": {},
     "output_type": "display_data"
    },
    {
     "data": {
      "text/markdown": [
       "<span style=\"font-size:11pt\">Eval-Settings: metric: <span style=\"color: #0000ff\">f1</span>, type: <span style=\"color: #0000ff\">one-vs-rest</span>, DT-Depth: <span style=\"color: #0000ff\">1</span>, train-test-split:<span style=\"color: #0000ff\"> 5-fold cross-validation </span></span>"
      ],
      "text/plain": [
       "<IPython.core.display.Markdown object>"
      ]
     },
     "metadata": {},
     "output_type": "display_data"
    },
    {
     "data": {
      "text/markdown": [
       "<span style=\"font-size:11pt\">Per-Class-Scores: Food: 0.57, NightlifeSpots: 0.32, Travel&Transport: 0.26, Shops&Services: 0.66, Professional&Other: 0.41, Arts&Entertainment: 0.23, College&University: 0.42, GreatOutdoors: 0.34, Residences: 0.05</span>"
      ],
      "text/plain": [
       "<IPython.core.display.Markdown object>"
      ]
     },
     "metadata": {},
     "output_type": "display_data"
    },
    {
     "data": {
      "text/markdown": [
       "<span style=\"font-size:11pt\">Unweighted Mean f1: 36.18%</span>"
      ],
      "text/plain": [
       "<IPython.core.display.Markdown object>"
      ]
     },
     "metadata": {},
     "output_type": "display_data"
    },
    {
     "data": {
      "text/markdown": [
       "<span style=\"font-size:11pt\">Weighted Mean f1: 45.10%</span>"
      ],
      "text/plain": [
       "<IPython.core.display.Markdown object>"
      ]
     },
     "metadata": {},
     "output_type": "display_data"
    },
    {
     "data": {
      "text/markdown": [
       "<span style=\"font-size:11pt\">====================================================================================================</span>"
      ],
      "text/plain": [
       "<IPython.core.display.Markdown object>"
      ]
     },
     "metadata": {},
     "output_type": "display_data"
    },
    {
     "data": {
      "text/markdown": [
       "<span style=\"font-size:11pt\">Using classes from Foursquare - 391/1383 entities have a class</span>"
      ],
      "text/plain": [
       "<IPython.core.display.Markdown object>"
      ]
     },
     "metadata": {},
     "output_type": "display_data"
    },
    {
     "data": {
      "text/markdown": [
       "<span style=\"font-size:11pt\">Labels (9 classes): <span style=\"color: #0000ff\">Shops&Services</span>: 88, <span style=\"color: #0000ff\">Food</span>: 82, <span style=\"color: #0000ff\">Travel&Transport</span>: 35, <span style=\"color: #0000ff\">Professional&Other</span>: 47, <span style=\"color: #0000ff\">Residences</span>: 6, <span style=\"color: #0000ff\">Arts&Entertainment</span>: 39, <span style=\"color: #0000ff\">NightlifeSpots</span>: 17, <span style=\"color: #0000ff\">GreatOutdoors</span>: 44, <span style=\"color: #0000ff\">College&University</span>: 33</span>"
      ],
      "text/plain": [
       "<IPython.core.display.Markdown object>"
      ]
     },
     "metadata": {},
     "output_type": "display_data"
    },
    {
     "data": {
      "text/markdown": [
       "<span style=\"font-size:11pt\">Eval-Settings: metric: <span style=\"color: #0000ff\">accuracy</span>, type: <span style=\"color: #0000ff\">one-vs-rest</span>, DT-Depth: <span style=\"color: #0000ff\">1</span>, train-test-split:<span style=\"color: #0000ff\"> 5-fold cross-validation </span></span>"
      ],
      "text/plain": [
       "<IPython.core.display.Markdown object>"
      ]
     },
     "metadata": {},
     "output_type": "display_data"
    },
    {
     "data": {
      "text/markdown": [
       "<span style=\"font-size:11pt\">Per-Class-Scores: Food: 0.84, NightlifeSpots: 0.96, Travel&Transport: 0.91, Shops&Services: 0.83, Professional&Other: 0.87, Arts&Entertainment: 0.90, College&University: 0.92, GreatOutdoors: 0.88, Residences: 0.98</span>"
      ],
      "text/plain": [
       "<IPython.core.display.Markdown object>"
      ]
     },
     "metadata": {},
     "output_type": "display_data"
    },
    {
     "data": {
      "text/markdown": [
       "<span style=\"font-size:11pt\">Unweighted Mean accuracy: 89.91%</span>"
      ],
      "text/plain": [
       "<IPython.core.display.Markdown object>"
      ]
     },
     "metadata": {},
     "output_type": "display_data"
    },
    {
     "data": {
      "text/markdown": [
       "<span style=\"font-size:11pt\">Weighted Mean accuracy: 87.27%</span>"
      ],
      "text/plain": [
       "<IPython.core.display.Markdown object>"
      ]
     },
     "metadata": {},
     "output_type": "display_data"
    },
    {
     "data": {
      "text/markdown": [
       "<span style=\"font-size:11pt\">====================================================================================================</span>"
      ],
      "text/plain": [
       "<IPython.core.display.Markdown object>"
      ]
     },
     "metadata": {},
     "output_type": "display_data"
    },
    {
     "data": {
      "text/markdown": [
       "<span style=\"font-size:11pt\">Using classes from Foursquare - 391/1383 entities have a class</span>"
      ],
      "text/plain": [
       "<IPython.core.display.Markdown object>"
      ]
     },
     "metadata": {},
     "output_type": "display_data"
    },
    {
     "data": {
      "text/markdown": [
       "<span style=\"font-size:11pt\">Labels (9 classes): <span style=\"color: #0000ff\">Shops&Services</span>: 88, <span style=\"color: #0000ff\">Food</span>: 82, <span style=\"color: #0000ff\">Travel&Transport</span>: 35, <span style=\"color: #0000ff\">Professional&Other</span>: 47, <span style=\"color: #0000ff\">Residences</span>: 6, <span style=\"color: #0000ff\">Arts&Entertainment</span>: 39, <span style=\"color: #0000ff\">NightlifeSpots</span>: 17, <span style=\"color: #0000ff\">GreatOutdoors</span>: 44, <span style=\"color: #0000ff\">College&University</span>: 33</span>"
      ],
      "text/plain": [
       "<IPython.core.display.Markdown object>"
      ]
     },
     "metadata": {},
     "output_type": "display_data"
    },
    {
     "data": {
      "text/markdown": [
       "<span style=\"font-size:11pt\">Eval-Settings: metric: <span style=\"color: #0000ff\">f1</span>, type: <span style=\"color: #0000ff\">one-vs-rest</span>, DT-Depth: <span style=\"color: #0000ff\">1</span>, train-test-split:<span style=\"color: #0000ff\"> 5-fold cross-validation </span></span>"
      ],
      "text/plain": [
       "<IPython.core.display.Markdown object>"
      ]
     },
     "metadata": {},
     "output_type": "display_data"
    },
    {
     "data": {
      "text/markdown": [
       "<span style=\"font-size:11pt\">Per-Class-Scores: Food: 0.69, NightlifeSpots: 0.00, Travel&Transport: 0.00, Shops&Services: 0.64, Professional&Other: 0.03, Arts&Entertainment: 0.00, College&University: 0.00, GreatOutdoors: 0.24, Residences: 0.00</span>"
      ],
      "text/plain": [
       "<IPython.core.display.Markdown object>"
      ]
     },
     "metadata": {},
     "output_type": "display_data"
    },
    {
     "data": {
      "text/markdown": [
       "<span style=\"font-size:11pt\">Unweighted Mean f1: 17.74%</span>"
      ],
      "text/plain": [
       "<IPython.core.display.Markdown object>"
      ]
     },
     "metadata": {},
     "output_type": "display_data"
    },
    {
     "data": {
      "text/markdown": [
       "<span style=\"font-size:11pt\">Weighted Mean f1: 31.87%</span>"
      ],
      "text/plain": [
       "<IPython.core.display.Markdown object>"
      ]
     },
     "metadata": {},
     "output_type": "display_data"
    },
    {
     "data": {
      "text/markdown": [
       "<span style=\"font-size:11pt\">====================================================================================================</span>"
      ],
      "text/plain": [
       "<IPython.core.display.Markdown object>"
      ]
     },
     "metadata": {},
     "output_type": "display_data"
    },
    {
     "data": {
      "text/markdown": [
       "<span style=\"font-size:11pt\">Using classes from Foursquare - 391/1383 entities have a class</span>"
      ],
      "text/plain": [
       "<IPython.core.display.Markdown object>"
      ]
     },
     "metadata": {},
     "output_type": "display_data"
    },
    {
     "data": {
      "text/markdown": [
       "<span style=\"font-size:11pt\">Labels (9 classes): <span style=\"color: #0000ff\">Shops&Services</span>: 88, <span style=\"color: #0000ff\">Food</span>: 82, <span style=\"color: #0000ff\">Travel&Transport</span>: 35, <span style=\"color: #0000ff\">Professional&Other</span>: 47, <span style=\"color: #0000ff\">Residences</span>: 6, <span style=\"color: #0000ff\">Arts&Entertainment</span>: 39, <span style=\"color: #0000ff\">NightlifeSpots</span>: 17, <span style=\"color: #0000ff\">GreatOutdoors</span>: 44, <span style=\"color: #0000ff\">College&University</span>: 33</span>"
      ],
      "text/plain": [
       "<IPython.core.display.Markdown object>"
      ]
     },
     "metadata": {},
     "output_type": "display_data"
    },
    {
     "data": {
      "text/markdown": [
       "<span style=\"font-size:11pt\">Eval-Settings: metric: <span style=\"color: #0000ff\">accuracy</span>, type: <span style=\"color: #0000ff\">one-vs-rest</span>, DT-Depth: <span style=\"color: #0000ff\">2</span>, train-test-split:<span style=\"color: #0000ff\"> 5-fold cross-validation </span></span>"
      ],
      "text/plain": [
       "<IPython.core.display.Markdown object>"
      ]
     },
     "metadata": {},
     "output_type": "display_data"
    },
    {
     "data": {
      "text/markdown": [
       "<span style=\"font-size:11pt\">Per-Class-Scores: Food: 0.88, NightlifeSpots: 0.90, Travel&Transport: 0.64, Shops&Services: 0.86, Professional&Other: 0.70, Arts&Entertainment: 0.58, College&University: 0.92, GreatOutdoors: 0.81, Residences: 0.88</span>"
      ],
      "text/plain": [
       "<IPython.core.display.Markdown object>"
      ]
     },
     "metadata": {},
     "output_type": "display_data"
    },
    {
     "data": {
      "text/markdown": [
       "<span style=\"font-size:11pt\">Unweighted Mean accuracy: 79.62%</span>"
      ],
      "text/plain": [
       "<IPython.core.display.Markdown object>"
      ]
     },
     "metadata": {},
     "output_type": "display_data"
    },
    {
     "data": {
      "text/markdown": [
       "<span style=\"font-size:11pt\">Weighted Mean accuracy: 79.86%</span>"
      ],
      "text/plain": [
       "<IPython.core.display.Markdown object>"
      ]
     },
     "metadata": {},
     "output_type": "display_data"
    },
    {
     "data": {
      "text/markdown": [
       "<span style=\"font-size:11pt\">====================================================================================================</span>"
      ],
      "text/plain": [
       "<IPython.core.display.Markdown object>"
      ]
     },
     "metadata": {},
     "output_type": "display_data"
    },
    {
     "data": {
      "text/markdown": [
       "<span style=\"font-size:11pt\">Using classes from Foursquare - 391/1383 entities have a class</span>"
      ],
      "text/plain": [
       "<IPython.core.display.Markdown object>"
      ]
     },
     "metadata": {},
     "output_type": "display_data"
    },
    {
     "data": {
      "text/markdown": [
       "<span style=\"font-size:11pt\">Labels (9 classes): <span style=\"color: #0000ff\">Shops&Services</span>: 88, <span style=\"color: #0000ff\">Food</span>: 82, <span style=\"color: #0000ff\">Travel&Transport</span>: 35, <span style=\"color: #0000ff\">Professional&Other</span>: 47, <span style=\"color: #0000ff\">Residences</span>: 6, <span style=\"color: #0000ff\">Arts&Entertainment</span>: 39, <span style=\"color: #0000ff\">NightlifeSpots</span>: 17, <span style=\"color: #0000ff\">GreatOutdoors</span>: 44, <span style=\"color: #0000ff\">College&University</span>: 33</span>"
      ],
      "text/plain": [
       "<IPython.core.display.Markdown object>"
      ]
     },
     "metadata": {},
     "output_type": "display_data"
    },
    {
     "data": {
      "text/markdown": [
       "<span style=\"font-size:11pt\">Eval-Settings: metric: <span style=\"color: #0000ff\">f1</span>, type: <span style=\"color: #0000ff\">one-vs-rest</span>, DT-Depth: <span style=\"color: #0000ff\">2</span>, train-test-split:<span style=\"color: #0000ff\"> 5-fold cross-validation </span></span>"
      ],
      "text/plain": [
       "<IPython.core.display.Markdown object>"
      ]
     },
     "metadata": {},
     "output_type": "display_data"
    },
    {
     "data": {
      "text/markdown": [
       "<span style=\"font-size:11pt\">Per-Class-Scores: Food: 0.74, NightlifeSpots: 0.43, Travel&Transport: 0.26, Shops&Services: 0.65, Professional&Other: 0.42, Arts&Entertainment: 0.23, College&University: 0.66, GreatOutdoors: 0.40, Residences: 0.12</span>"
      ],
      "text/plain": [
       "<IPython.core.display.Markdown object>"
      ]
     },
     "metadata": {},
     "output_type": "display_data"
    },
    {
     "data": {
      "text/markdown": [
       "<span style=\"font-size:11pt\">Unweighted Mean f1: 43.58%</span>"
      ],
      "text/plain": [
       "<IPython.core.display.Markdown object>"
      ]
     },
     "metadata": {},
     "output_type": "display_data"
    },
    {
     "data": {
      "text/markdown": [
       "<span style=\"font-size:11pt\">Weighted Mean f1: 52.07%</span>"
      ],
      "text/plain": [
       "<IPython.core.display.Markdown object>"
      ]
     },
     "metadata": {},
     "output_type": "display_data"
    },
    {
     "data": {
      "text/markdown": [
       "<span style=\"font-size:11pt\">====================================================================================================</span>"
      ],
      "text/plain": [
       "<IPython.core.display.Markdown object>"
      ]
     },
     "metadata": {},
     "output_type": "display_data"
    },
    {
     "data": {
      "text/markdown": [
       "<span style=\"font-size:11pt\">Using classes from Foursquare - 391/1383 entities have a class</span>"
      ],
      "text/plain": [
       "<IPython.core.display.Markdown object>"
      ]
     },
     "metadata": {},
     "output_type": "display_data"
    },
    {
     "data": {
      "text/markdown": [
       "<span style=\"font-size:11pt\">Labels (9 classes): <span style=\"color: #0000ff\">Shops&Services</span>: 88, <span style=\"color: #0000ff\">Food</span>: 82, <span style=\"color: #0000ff\">Travel&Transport</span>: 35, <span style=\"color: #0000ff\">Professional&Other</span>: 47, <span style=\"color: #0000ff\">Residences</span>: 6, <span style=\"color: #0000ff\">Arts&Entertainment</span>: 39, <span style=\"color: #0000ff\">NightlifeSpots</span>: 17, <span style=\"color: #0000ff\">GreatOutdoors</span>: 44, <span style=\"color: #0000ff\">College&University</span>: 33</span>"
      ],
      "text/plain": [
       "<IPython.core.display.Markdown object>"
      ]
     },
     "metadata": {},
     "output_type": "display_data"
    },
    {
     "data": {
      "text/markdown": [
       "<span style=\"font-size:11pt\">Eval-Settings: metric: <span style=\"color: #0000ff\">accuracy</span>, type: <span style=\"color: #0000ff\">one-vs-rest</span>, DT-Depth: <span style=\"color: #0000ff\">2</span>, train-test-split:<span style=\"color: #0000ff\"> 5-fold cross-validation </span></span>"
      ],
      "text/plain": [
       "<IPython.core.display.Markdown object>"
      ]
     },
     "metadata": {},
     "output_type": "display_data"
    },
    {
     "data": {
      "text/markdown": [
       "<span style=\"font-size:11pt\">Per-Class-Scores: Food: 0.87, NightlifeSpots: 0.95, Travel&Transport: 0.86, Shops&Services: 0.85, Professional&Other: 0.86, Arts&Entertainment: 0.88, College&University: 0.93, GreatOutdoors: 0.89, Residences: 0.98</span>"
      ],
      "text/plain": [
       "<IPython.core.display.Markdown object>"
      ]
     },
     "metadata": {},
     "output_type": "display_data"
    },
    {
     "data": {
      "text/markdown": [
       "<span style=\"font-size:11pt\">Unweighted Mean accuracy: 89.82%</span>"
      ],
      "text/plain": [
       "<IPython.core.display.Markdown object>"
      ]
     },
     "metadata": {},
     "output_type": "display_data"
    },
    {
     "data": {
      "text/markdown": [
       "<span style=\"font-size:11pt\">Weighted Mean accuracy: 87.87%</span>"
      ],
      "text/plain": [
       "<IPython.core.display.Markdown object>"
      ]
     },
     "metadata": {},
     "output_type": "display_data"
    },
    {
     "data": {
      "text/markdown": [
       "<span style=\"font-size:11pt\">====================================================================================================</span>"
      ],
      "text/plain": [
       "<IPython.core.display.Markdown object>"
      ]
     },
     "metadata": {},
     "output_type": "display_data"
    },
    {
     "data": {
      "text/markdown": [
       "<span style=\"font-size:11pt\">Using classes from Foursquare - 391/1383 entities have a class</span>"
      ],
      "text/plain": [
       "<IPython.core.display.Markdown object>"
      ]
     },
     "metadata": {},
     "output_type": "display_data"
    },
    {
     "data": {
      "text/markdown": [
       "<span style=\"font-size:11pt\">Labels (9 classes): <span style=\"color: #0000ff\">Shops&Services</span>: 88, <span style=\"color: #0000ff\">Food</span>: 82, <span style=\"color: #0000ff\">Travel&Transport</span>: 35, <span style=\"color: #0000ff\">Professional&Other</span>: 47, <span style=\"color: #0000ff\">Residences</span>: 6, <span style=\"color: #0000ff\">Arts&Entertainment</span>: 39, <span style=\"color: #0000ff\">NightlifeSpots</span>: 17, <span style=\"color: #0000ff\">GreatOutdoors</span>: 44, <span style=\"color: #0000ff\">College&University</span>: 33</span>"
      ],
      "text/plain": [
       "<IPython.core.display.Markdown object>"
      ]
     },
     "metadata": {},
     "output_type": "display_data"
    },
    {
     "data": {
      "text/markdown": [
       "<span style=\"font-size:11pt\">Eval-Settings: metric: <span style=\"color: #0000ff\">f1</span>, type: <span style=\"color: #0000ff\">one-vs-rest</span>, DT-Depth: <span style=\"color: #0000ff\">2</span>, train-test-split:<span style=\"color: #0000ff\"> 5-fold cross-validation </span></span>"
      ],
      "text/plain": [
       "<IPython.core.display.Markdown object>"
      ]
     },
     "metadata": {},
     "output_type": "display_data"
    },
    {
     "data": {
      "text/markdown": [
       "<span style=\"font-size:11pt\">Per-Class-Scores: Food: 0.71, NightlifeSpots: 0.18, Travel&Transport: 0.19, Shops&Services: 0.62, Professional&Other: 0.03, Arts&Entertainment: 0.04, College&University: 0.64, GreatOutdoors: 0.26, Residences: 0.00</span>"
      ],
      "text/plain": [
       "<IPython.core.display.Markdown object>"
      ]
     },
     "metadata": {},
     "output_type": "display_data"
    },
    {
     "data": {
      "text/markdown": [
       "<span style=\"font-size:11pt\">Unweighted Mean f1: 29.52%</span>"
      ],
      "text/plain": [
       "<IPython.core.display.Markdown object>"
      ]
     },
     "metadata": {},
     "output_type": "display_data"
    },
    {
     "data": {
      "text/markdown": [
       "<span style=\"font-size:11pt\">Weighted Mean f1: 40.27%</span>"
      ],
      "text/plain": [
       "<IPython.core.display.Markdown object>"
      ]
     },
     "metadata": {},
     "output_type": "display_data"
    },
    {
     "data": {
      "text/markdown": [
       "<span style=\"font-size:11pt\">====================================================================================================</span>"
      ],
      "text/plain": [
       "<IPython.core.display.Markdown object>"
      ]
     },
     "metadata": {},
     "output_type": "display_data"
    },
    {
     "data": {
      "text/markdown": [
       "<span style=\"font-size:11pt\">Using classes from Foursquare - 391/1383 entities have a class</span>"
      ],
      "text/plain": [
       "<IPython.core.display.Markdown object>"
      ]
     },
     "metadata": {},
     "output_type": "display_data"
    },
    {
     "data": {
      "text/markdown": [
       "<span style=\"font-size:11pt\">Labels (9 classes): <span style=\"color: #0000ff\">Shops&Services</span>: 88, <span style=\"color: #0000ff\">Food</span>: 82, <span style=\"color: #0000ff\">Travel&Transport</span>: 35, <span style=\"color: #0000ff\">Professional&Other</span>: 47, <span style=\"color: #0000ff\">Residences</span>: 6, <span style=\"color: #0000ff\">Arts&Entertainment</span>: 39, <span style=\"color: #0000ff\">NightlifeSpots</span>: 17, <span style=\"color: #0000ff\">GreatOutdoors</span>: 44, <span style=\"color: #0000ff\">College&University</span>: 33</span>"
      ],
      "text/plain": [
       "<IPython.core.display.Markdown object>"
      ]
     },
     "metadata": {},
     "output_type": "display_data"
    },
    {
     "data": {
      "text/markdown": [
       "<span style=\"font-size:11pt\">Eval-Settings: metric: <span style=\"color: #0000ff\">accuracy</span>, type: <span style=\"color: #0000ff\">one-vs-rest</span>, DT-Depth: <span style=\"color: #0000ff\">3</span>, train-test-split:<span style=\"color: #0000ff\"> 5-fold cross-validation </span></span>"
      ],
      "text/plain": [
       "<IPython.core.display.Markdown object>"
      ]
     },
     "metadata": {},
     "output_type": "display_data"
    },
    {
     "data": {
      "text/markdown": [
       "<span style=\"font-size:11pt\">Per-Class-Scores: Food: 0.85, NightlifeSpots: 0.96, Travel&Transport: 0.71, Shops&Services: 0.77, Professional&Other: 0.70, Arts&Entertainment: 0.58, College&University: 0.94, GreatOutdoors: 0.84, Residences: 0.93</span>"
      ],
      "text/plain": [
       "<IPython.core.display.Markdown object>"
      ]
     },
     "metadata": {},
     "output_type": "display_data"
    },
    {
     "data": {
      "text/markdown": [
       "<span style=\"font-size:11pt\">Unweighted Mean accuracy: 80.76%</span>"
      ],
      "text/plain": [
       "<IPython.core.display.Markdown object>"
      ]
     },
     "metadata": {},
     "output_type": "display_data"
    },
    {
     "data": {
      "text/markdown": [
       "<span style=\"font-size:11pt\">Weighted Mean accuracy: 78.59%</span>"
      ],
      "text/plain": [
       "<IPython.core.display.Markdown object>"
      ]
     },
     "metadata": {},
     "output_type": "display_data"
    },
    {
     "data": {
      "text/markdown": [
       "<span style=\"font-size:11pt\">====================================================================================================</span>"
      ],
      "text/plain": [
       "<IPython.core.display.Markdown object>"
      ]
     },
     "metadata": {},
     "output_type": "display_data"
    },
    {
     "data": {
      "text/markdown": [
       "<span style=\"font-size:11pt\">Using classes from Foursquare - 391/1383 entities have a class</span>"
      ],
      "text/plain": [
       "<IPython.core.display.Markdown object>"
      ]
     },
     "metadata": {},
     "output_type": "display_data"
    },
    {
     "data": {
      "text/markdown": [
       "<span style=\"font-size:11pt\">Labels (9 classes): <span style=\"color: #0000ff\">Shops&Services</span>: 88, <span style=\"color: #0000ff\">Food</span>: 82, <span style=\"color: #0000ff\">Travel&Transport</span>: 35, <span style=\"color: #0000ff\">Professional&Other</span>: 47, <span style=\"color: #0000ff\">Residences</span>: 6, <span style=\"color: #0000ff\">Arts&Entertainment</span>: 39, <span style=\"color: #0000ff\">NightlifeSpots</span>: 17, <span style=\"color: #0000ff\">GreatOutdoors</span>: 44, <span style=\"color: #0000ff\">College&University</span>: 33</span>"
      ],
      "text/plain": [
       "<IPython.core.display.Markdown object>"
      ]
     },
     "metadata": {},
     "output_type": "display_data"
    },
    {
     "data": {
      "text/markdown": [
       "<span style=\"font-size:11pt\">Eval-Settings: metric: <span style=\"color: #0000ff\">f1</span>, type: <span style=\"color: #0000ff\">one-vs-rest</span>, DT-Depth: <span style=\"color: #0000ff\">3</span>, train-test-split:<span style=\"color: #0000ff\"> 5-fold cross-validation </span></span>"
      ],
      "text/plain": [
       "<IPython.core.display.Markdown object>"
      ]
     },
     "metadata": {},
     "output_type": "display_data"
    },
    {
     "data": {
      "text/markdown": [
       "<span style=\"font-size:11pt\">Per-Class-Scores: Food: 0.70, NightlifeSpots: 0.63, Travel&Transport: 0.27, Shops&Services: 0.56, Professional&Other: 0.33, Arts&Entertainment: 0.21, College&University: 0.72, GreatOutdoors: 0.45, Residences: 0.11</span>"
      ],
      "text/plain": [
       "<IPython.core.display.Markdown object>"
      ]
     },
     "metadata": {},
     "output_type": "display_data"
    },
    {
     "data": {
      "text/markdown": [
       "<span style=\"font-size:11pt\">Unweighted Mean f1: 44.25%</span>"
      ],
      "text/plain": [
       "<IPython.core.display.Markdown object>"
      ]
     },
     "metadata": {},
     "output_type": "display_data"
    },
    {
     "data": {
      "text/markdown": [
       "<span style=\"font-size:11pt\">Weighted Mean f1: 49.80%</span>"
      ],
      "text/plain": [
       "<IPython.core.display.Markdown object>"
      ]
     },
     "metadata": {},
     "output_type": "display_data"
    },
    {
     "data": {
      "text/markdown": [
       "<span style=\"font-size:11pt\">====================================================================================================</span>"
      ],
      "text/plain": [
       "<IPython.core.display.Markdown object>"
      ]
     },
     "metadata": {},
     "output_type": "display_data"
    },
    {
     "data": {
      "text/markdown": [
       "<span style=\"font-size:11pt\">Using classes from Foursquare - 391/1383 entities have a class</span>"
      ],
      "text/plain": [
       "<IPython.core.display.Markdown object>"
      ]
     },
     "metadata": {},
     "output_type": "display_data"
    },
    {
     "data": {
      "text/markdown": [
       "<span style=\"font-size:11pt\">Labels (9 classes): <span style=\"color: #0000ff\">Shops&Services</span>: 88, <span style=\"color: #0000ff\">Food</span>: 82, <span style=\"color: #0000ff\">Travel&Transport</span>: 35, <span style=\"color: #0000ff\">Professional&Other</span>: 47, <span style=\"color: #0000ff\">Residences</span>: 6, <span style=\"color: #0000ff\">Arts&Entertainment</span>: 39, <span style=\"color: #0000ff\">NightlifeSpots</span>: 17, <span style=\"color: #0000ff\">GreatOutdoors</span>: 44, <span style=\"color: #0000ff\">College&University</span>: 33</span>"
      ],
      "text/plain": [
       "<IPython.core.display.Markdown object>"
      ]
     },
     "metadata": {},
     "output_type": "display_data"
    },
    {
     "data": {
      "text/markdown": [
       "<span style=\"font-size:11pt\">Eval-Settings: metric: <span style=\"color: #0000ff\">accuracy</span>, type: <span style=\"color: #0000ff\">one-vs-rest</span>, DT-Depth: <span style=\"color: #0000ff\">3</span>, train-test-split:<span style=\"color: #0000ff\"> 5-fold cross-validation </span></span>"
      ],
      "text/plain": [
       "<IPython.core.display.Markdown object>"
      ]
     },
     "metadata": {},
     "output_type": "display_data"
    },
    {
     "data": {
      "text/markdown": [
       "<span style=\"font-size:11pt\">Per-Class-Scores: Food: 0.88, NightlifeSpots: 0.95, Travel&Transport: 0.89, Shops&Services: 0.85, Professional&Other: 0.86, Arts&Entertainment: 0.86, College&University: 0.94, GreatOutdoors: 0.89, Residences: 0.98</span>"
      ],
      "text/plain": [
       "<IPython.core.display.Markdown object>"
      ]
     },
     "metadata": {},
     "output_type": "display_data"
    },
    {
     "data": {
      "text/markdown": [
       "<span style=\"font-size:11pt\">Unweighted Mean accuracy: 90.08%</span>"
      ],
      "text/plain": [
       "<IPython.core.display.Markdown object>"
      ]
     },
     "metadata": {},
     "output_type": "display_data"
    },
    {
     "data": {
      "text/markdown": [
       "<span style=\"font-size:11pt\">Weighted Mean accuracy: 88.27%</span>"
      ],
      "text/plain": [
       "<IPython.core.display.Markdown object>"
      ]
     },
     "metadata": {},
     "output_type": "display_data"
    },
    {
     "data": {
      "text/markdown": [
       "<span style=\"font-size:11pt\">====================================================================================================</span>"
      ],
      "text/plain": [
       "<IPython.core.display.Markdown object>"
      ]
     },
     "metadata": {},
     "output_type": "display_data"
    },
    {
     "data": {
      "text/markdown": [
       "<span style=\"font-size:11pt\">Using classes from Foursquare - 391/1383 entities have a class</span>"
      ],
      "text/plain": [
       "<IPython.core.display.Markdown object>"
      ]
     },
     "metadata": {},
     "output_type": "display_data"
    },
    {
     "data": {
      "text/markdown": [
       "<span style=\"font-size:11pt\">Labels (9 classes): <span style=\"color: #0000ff\">Shops&Services</span>: 88, <span style=\"color: #0000ff\">Food</span>: 82, <span style=\"color: #0000ff\">Travel&Transport</span>: 35, <span style=\"color: #0000ff\">Professional&Other</span>: 47, <span style=\"color: #0000ff\">Residences</span>: 6, <span style=\"color: #0000ff\">Arts&Entertainment</span>: 39, <span style=\"color: #0000ff\">NightlifeSpots</span>: 17, <span style=\"color: #0000ff\">GreatOutdoors</span>: 44, <span style=\"color: #0000ff\">College&University</span>: 33</span>"
      ],
      "text/plain": [
       "<IPython.core.display.Markdown object>"
      ]
     },
     "metadata": {},
     "output_type": "display_data"
    },
    {
     "data": {
      "text/markdown": [
       "<span style=\"font-size:11pt\">Eval-Settings: metric: <span style=\"color: #0000ff\">f1</span>, type: <span style=\"color: #0000ff\">one-vs-rest</span>, DT-Depth: <span style=\"color: #0000ff\">3</span>, train-test-split:<span style=\"color: #0000ff\"> 5-fold cross-validation </span></span>"
      ],
      "text/plain": [
       "<IPython.core.display.Markdown object>"
      ]
     },
     "metadata": {},
     "output_type": "display_data"
    },
    {
     "data": {
      "text/markdown": [
       "<span style=\"font-size:11pt\">Per-Class-Scores: Food: 0.72, NightlifeSpots: 0.27, Travel&Transport: 0.16, Shops&Services: 0.63, Professional&Other: 0.06, Arts&Entertainment: 0.00, College&University: 0.63, GreatOutdoors: 0.34, Residences: 0.00</span>"
      ],
      "text/plain": [
       "<IPython.core.display.Markdown object>"
      ]
     },
     "metadata": {},
     "output_type": "display_data"
    },
    {
     "data": {
      "text/markdown": [
       "<span style=\"font-size:11pt\">Unweighted Mean f1: 31.20%</span>"
      ],
      "text/plain": [
       "<IPython.core.display.Markdown object>"
      ]
     },
     "metadata": {},
     "output_type": "display_data"
    },
    {
     "data": {
      "text/markdown": [
       "<span style=\"font-size:11pt\">Weighted Mean f1: 41.69%</span>"
      ],
      "text/plain": [
       "<IPython.core.display.Markdown object>"
      ]
     },
     "metadata": {},
     "output_type": "display_data"
    },
    {
     "data": {
      "text/markdown": [
       "<span style=\"font-size:11pt\">====================================================================================================</span>"
      ],
      "text/plain": [
       "<IPython.core.display.Markdown object>"
      ]
     },
     "metadata": {},
     "output_type": "display_data"
    },
    {
     "data": {
      "text/markdown": [
       "<span style=\"font-size:11pt\">Using classes from Foursquare - 391/1383 entities have a class</span>"
      ],
      "text/plain": [
       "<IPython.core.display.Markdown object>"
      ]
     },
     "metadata": {},
     "output_type": "display_data"
    },
    {
     "data": {
      "text/markdown": [
       "<span style=\"font-size:11pt\">Labels (9 classes): <span style=\"color: #0000ff\">Shops&Services</span>: 88, <span style=\"color: #0000ff\">Food</span>: 82, <span style=\"color: #0000ff\">Travel&Transport</span>: 35, <span style=\"color: #0000ff\">Professional&Other</span>: 47, <span style=\"color: #0000ff\">Residences</span>: 6, <span style=\"color: #0000ff\">Arts&Entertainment</span>: 39, <span style=\"color: #0000ff\">NightlifeSpots</span>: 17, <span style=\"color: #0000ff\">GreatOutdoors</span>: 44, <span style=\"color: #0000ff\">College&University</span>: 33</span>"
      ],
      "text/plain": [
       "<IPython.core.display.Markdown object>"
      ]
     },
     "metadata": {},
     "output_type": "display_data"
    },
    {
     "data": {
      "text/markdown": [
       "<span style=\"font-size:11pt\">Eval-Settings: metric: <span style=\"color: #0000ff\">accuracy</span>, type: <span style=\"color: #0000ff\">one-vs-rest</span>, DT-Depth: <span style=\"color: #0000ff\">None</span>, train-test-split:<span style=\"color: #0000ff\"> 5-fold cross-validation </span></span>"
      ],
      "text/plain": [
       "<IPython.core.display.Markdown object>"
      ]
     },
     "metadata": {},
     "output_type": "display_data"
    },
    {
     "data": {
      "text/markdown": [
       "<span style=\"font-size:11pt\">Per-Class-Scores: Food: 0.89, NightlifeSpots: 0.97, Travel&Transport: 0.87, Shops&Services: 0.83, Professional&Other: 0.80, Arts&Entertainment: 0.83, College&University: 0.96, GreatOutdoors: 0.86, Residences: 0.98</span>"
      ],
      "text/plain": [
       "<IPython.core.display.Markdown object>"
      ]
     },
     "metadata": {},
     "output_type": "display_data"
    },
    {
     "data": {
      "text/markdown": [
       "<span style=\"font-size:11pt\">Unweighted Mean accuracy: 88.86%</span>"
      ],
      "text/plain": [
       "<IPython.core.display.Markdown object>"
      ]
     },
     "metadata": {},
     "output_type": "display_data"
    },
    {
     "data": {
      "text/markdown": [
       "<span style=\"font-size:11pt\">Weighted Mean accuracy: 86.54%</span>"
      ],
      "text/plain": [
       "<IPython.core.display.Markdown object>"
      ]
     },
     "metadata": {},
     "output_type": "display_data"
    },
    {
     "data": {
      "text/markdown": [
       "<span style=\"font-size:11pt\">====================================================================================================</span>"
      ],
      "text/plain": [
       "<IPython.core.display.Markdown object>"
      ]
     },
     "metadata": {},
     "output_type": "display_data"
    },
    {
     "data": {
      "text/markdown": [
       "<span style=\"font-size:11pt\">Using classes from Foursquare - 391/1383 entities have a class</span>"
      ],
      "text/plain": [
       "<IPython.core.display.Markdown object>"
      ]
     },
     "metadata": {},
     "output_type": "display_data"
    },
    {
     "data": {
      "text/markdown": [
       "<span style=\"font-size:11pt\">Labels (9 classes): <span style=\"color: #0000ff\">Shops&Services</span>: 88, <span style=\"color: #0000ff\">Food</span>: 82, <span style=\"color: #0000ff\">Travel&Transport</span>: 35, <span style=\"color: #0000ff\">Professional&Other</span>: 47, <span style=\"color: #0000ff\">Residences</span>: 6, <span style=\"color: #0000ff\">Arts&Entertainment</span>: 39, <span style=\"color: #0000ff\">NightlifeSpots</span>: 17, <span style=\"color: #0000ff\">GreatOutdoors</span>: 44, <span style=\"color: #0000ff\">College&University</span>: 33</span>"
      ],
      "text/plain": [
       "<IPython.core.display.Markdown object>"
      ]
     },
     "metadata": {},
     "output_type": "display_data"
    },
    {
     "data": {
      "text/markdown": [
       "<span style=\"font-size:11pt\">Eval-Settings: metric: <span style=\"color: #0000ff\">f1</span>, type: <span style=\"color: #0000ff\">one-vs-rest</span>, DT-Depth: <span style=\"color: #0000ff\">None</span>, train-test-split:<span style=\"color: #0000ff\"> 5-fold cross-validation </span></span>"
      ],
      "text/plain": [
       "<IPython.core.display.Markdown object>"
      ]
     },
     "metadata": {},
     "output_type": "display_data"
    },
    {
     "data": {
      "text/markdown": [
       "<span style=\"font-size:11pt\">Per-Class-Scores: Food: 0.75, NightlifeSpots: 0.65, Travel&Transport: 0.24, Shops&Services: 0.64, Professional&Other: 0.25, Arts&Entertainment: 0.21, College&University: 0.77, GreatOutdoors: 0.33, Residences: 0.10</span>"
      ],
      "text/plain": [
       "<IPython.core.display.Markdown object>"
      ]
     },
     "metadata": {},
     "output_type": "display_data"
    },
    {
     "data": {
      "text/markdown": [
       "<span style=\"font-size:11pt\">Unweighted Mean f1: 43.75%</span>"
      ],
      "text/plain": [
       "<IPython.core.display.Markdown object>"
      ]
     },
     "metadata": {},
     "output_type": "display_data"
    },
    {
     "data": {
      "text/markdown": [
       "<span style=\"font-size:11pt\">Weighted Mean f1: 50.53%</span>"
      ],
      "text/plain": [
       "<IPython.core.display.Markdown object>"
      ]
     },
     "metadata": {},
     "output_type": "display_data"
    },
    {
     "data": {
      "text/markdown": [
       "<span style=\"font-size:11pt\">====================================================================================================</span>"
      ],
      "text/plain": [
       "<IPython.core.display.Markdown object>"
      ]
     },
     "metadata": {},
     "output_type": "display_data"
    },
    {
     "data": {
      "text/markdown": [
       "<span style=\"font-size:11pt\">Using classes from Foursquare - 391/1383 entities have a class</span>"
      ],
      "text/plain": [
       "<IPython.core.display.Markdown object>"
      ]
     },
     "metadata": {},
     "output_type": "display_data"
    },
    {
     "data": {
      "text/markdown": [
       "<span style=\"font-size:11pt\">Labels (9 classes): <span style=\"color: #0000ff\">Shops&Services</span>: 88, <span style=\"color: #0000ff\">Food</span>: 82, <span style=\"color: #0000ff\">Travel&Transport</span>: 35, <span style=\"color: #0000ff\">Professional&Other</span>: 47, <span style=\"color: #0000ff\">Residences</span>: 6, <span style=\"color: #0000ff\">Arts&Entertainment</span>: 39, <span style=\"color: #0000ff\">NightlifeSpots</span>: 17, <span style=\"color: #0000ff\">GreatOutdoors</span>: 44, <span style=\"color: #0000ff\">College&University</span>: 33</span>"
      ],
      "text/plain": [
       "<IPython.core.display.Markdown object>"
      ]
     },
     "metadata": {},
     "output_type": "display_data"
    },
    {
     "data": {
      "text/markdown": [
       "<span style=\"font-size:11pt\">Eval-Settings: metric: <span style=\"color: #0000ff\">accuracy</span>, type: <span style=\"color: #0000ff\">one-vs-rest</span>, DT-Depth: <span style=\"color: #0000ff\">None</span>, train-test-split:<span style=\"color: #0000ff\"> 5-fold cross-validation </span></span>"
      ],
      "text/plain": [
       "<IPython.core.display.Markdown object>"
      ]
     },
     "metadata": {},
     "output_type": "display_data"
    },
    {
     "data": {
      "text/markdown": [
       "<span style=\"font-size:11pt\">Per-Class-Scores: Food: 0.90, NightlifeSpots: 0.96, Travel&Transport: 0.85, Shops&Services: 0.82, Professional&Other: 0.82, Arts&Entertainment: 0.81, College&University: 0.95, GreatOutdoors: 0.87, Residences: 0.97</span>"
      ],
      "text/plain": [
       "<IPython.core.display.Markdown object>"
      ]
     },
     "metadata": {},
     "output_type": "display_data"
    },
    {
     "data": {
      "text/markdown": [
       "<span style=\"font-size:11pt\">Unweighted Mean accuracy: 88.40%</span>"
      ],
      "text/plain": [
       "<IPython.core.display.Markdown object>"
      ]
     },
     "metadata": {},
     "output_type": "display_data"
    },
    {
     "data": {
      "text/markdown": [
       "<span style=\"font-size:11pt\">Weighted Mean accuracy: 86.38%</span>"
      ],
      "text/plain": [
       "<IPython.core.display.Markdown object>"
      ]
     },
     "metadata": {},
     "output_type": "display_data"
    },
    {
     "data": {
      "text/markdown": [
       "<span style=\"font-size:11pt\">====================================================================================================</span>"
      ],
      "text/plain": [
       "<IPython.core.display.Markdown object>"
      ]
     },
     "metadata": {},
     "output_type": "display_data"
    },
    {
     "data": {
      "text/markdown": [
       "<span style=\"font-size:11pt\">Using classes from Foursquare - 391/1383 entities have a class</span>"
      ],
      "text/plain": [
       "<IPython.core.display.Markdown object>"
      ]
     },
     "metadata": {},
     "output_type": "display_data"
    },
    {
     "data": {
      "text/markdown": [
       "<span style=\"font-size:11pt\">Labels (9 classes): <span style=\"color: #0000ff\">Shops&Services</span>: 88, <span style=\"color: #0000ff\">Food</span>: 82, <span style=\"color: #0000ff\">Travel&Transport</span>: 35, <span style=\"color: #0000ff\">Professional&Other</span>: 47, <span style=\"color: #0000ff\">Residences</span>: 6, <span style=\"color: #0000ff\">Arts&Entertainment</span>: 39, <span style=\"color: #0000ff\">NightlifeSpots</span>: 17, <span style=\"color: #0000ff\">GreatOutdoors</span>: 44, <span style=\"color: #0000ff\">College&University</span>: 33</span>"
      ],
      "text/plain": [
       "<IPython.core.display.Markdown object>"
      ]
     },
     "metadata": {},
     "output_type": "display_data"
    },
    {
     "data": {
      "text/markdown": [
       "<span style=\"font-size:11pt\">Eval-Settings: metric: <span style=\"color: #0000ff\">f1</span>, type: <span style=\"color: #0000ff\">one-vs-rest</span>, DT-Depth: <span style=\"color: #0000ff\">None</span>, train-test-split:<span style=\"color: #0000ff\"> 5-fold cross-validation </span></span>"
      ],
      "text/plain": [
       "<IPython.core.display.Markdown object>"
      ]
     },
     "metadata": {},
     "output_type": "display_data"
    },
    {
     "data": {
      "text/markdown": [
       "<span style=\"font-size:11pt\">Per-Class-Scores: Food: 0.75, NightlifeSpots: 0.51, Travel&Transport: 0.32, Shops&Services: 0.61, Professional&Other: 0.30, Arts&Entertainment: 0.21, College&University: 0.63, GreatOutdoors: 0.46, Residences: 0.10</span>"
      ],
      "text/plain": [
       "<IPython.core.display.Markdown object>"
      ]
     },
     "metadata": {},
     "output_type": "display_data"
    },
    {
     "data": {
      "text/markdown": [
       "<span style=\"font-size:11pt\">Unweighted Mean f1: 43.41%</span>"
      ],
      "text/plain": [
       "<IPython.core.display.Markdown object>"
      ]
     },
     "metadata": {},
     "output_type": "display_data"
    },
    {
     "data": {
      "text/markdown": [
       "<span style=\"font-size:11pt\">Weighted Mean f1: 51.10%</span>"
      ],
      "text/plain": [
       "<IPython.core.display.Markdown object>"
      ]
     },
     "metadata": {},
     "output_type": "display_data"
    },
    {
     "data": {
      "text/markdown": [
       "<span style=\"font-size:11pt\">====================================================================================================</span>"
      ],
      "text/plain": [
       "<IPython.core.display.Markdown object>"
      ]
     },
     "metadata": {},
     "output_type": "display_data"
    },
    {
     "data": {
      "text/markdown": [
       "<span style=\"font-size:11pt\">Using classes from Foursquare - 391/1383 entities have a class</span>"
      ],
      "text/plain": [
       "<IPython.core.display.Markdown object>"
      ]
     },
     "metadata": {},
     "output_type": "display_data"
    },
    {
     "data": {
      "text/markdown": [
       "<span style=\"font-size:11pt\">Labels (9 classes): <span style=\"color: #0000ff\">Shops&Services</span>: 88, <span style=\"color: #0000ff\">Food</span>: 82, <span style=\"color: #0000ff\">Travel&Transport</span>: 35, <span style=\"color: #0000ff\">Professional&Other</span>: 47, <span style=\"color: #0000ff\">Residences</span>: 6, <span style=\"color: #0000ff\">Arts&Entertainment</span>: 39, <span style=\"color: #0000ff\">NightlifeSpots</span>: 17, <span style=\"color: #0000ff\">GreatOutdoors</span>: 44, <span style=\"color: #0000ff\">College&University</span>: 33</span>"
      ],
      "text/plain": [
       "<IPython.core.display.Markdown object>"
      ]
     },
     "metadata": {},
     "output_type": "display_data"
    },
    {
     "data": {
      "text/markdown": [
       "<span style=\"font-size:11pt\">Eval-Settings: metric: <span style=\"color: #0000ff\">accuracy</span>, type: <span style=\"color: #0000ff\">all-at-once</span>, DT-Depth: <span style=\"color: #0000ff\">1</span>, train-test-split:<span style=\"color: #0000ff\"> 5-fold cross-validation </span></span>"
      ],
      "text/plain": [
       "<IPython.core.display.Markdown object>"
      ]
     },
     "metadata": {},
     "output_type": "display_data"
    },
    {
     "name": "stderr",
     "output_type": "stream",
     "text": [
      "derive_conceptualspace/evaluate/shallow_trees.py:123: UserWarning: There are more classes (9) than your decision-tree can possibly classify (2)\n"
     ]
    },
    {
     "data": {
      "text/markdown": [
       "<span style=\"font-size:11pt\">accuracy: 0.11</span>"
      ],
      "text/plain": [
       "<IPython.core.display.Markdown object>"
      ]
     },
     "metadata": {},
     "output_type": "display_data"
    },
    {
     "data": {
      "text/markdown": [
       "<span style=\"font-size:11pt\">Baseline accuracy: 0.23</span>"
      ],
      "text/plain": [
       "<IPython.core.display.Markdown object>"
      ]
     },
     "metadata": {},
     "output_type": "display_data"
    },
    {
     "data": {
      "text/markdown": [
       "<span style=\"font-size:11pt\">Maximally achievable accuracy: 0.43</span>"
      ],
      "text/plain": [
       "<IPython.core.display.Markdown object>"
      ]
     },
     "metadata": {},
     "output_type": "display_data"
    },
    {
     "data": {
      "text/markdown": [
       "<span style=\"font-size:11pt\">====================================================================================================</span>"
      ],
      "text/plain": [
       "<IPython.core.display.Markdown object>"
      ]
     },
     "metadata": {},
     "output_type": "display_data"
    },
    {
     "data": {
      "text/markdown": [
       "<span style=\"font-size:11pt\">Using classes from Foursquare - 391/1383 entities have a class</span>"
      ],
      "text/plain": [
       "<IPython.core.display.Markdown object>"
      ]
     },
     "metadata": {},
     "output_type": "display_data"
    },
    {
     "data": {
      "text/markdown": [
       "<span style=\"font-size:11pt\">Labels (9 classes): <span style=\"color: #0000ff\">Shops&Services</span>: 88, <span style=\"color: #0000ff\">Food</span>: 82, <span style=\"color: #0000ff\">Travel&Transport</span>: 35, <span style=\"color: #0000ff\">Professional&Other</span>: 47, <span style=\"color: #0000ff\">Residences</span>: 6, <span style=\"color: #0000ff\">Arts&Entertainment</span>: 39, <span style=\"color: #0000ff\">NightlifeSpots</span>: 17, <span style=\"color: #0000ff\">GreatOutdoors</span>: 44, <span style=\"color: #0000ff\">College&University</span>: 33</span>"
      ],
      "text/plain": [
       "<IPython.core.display.Markdown object>"
      ]
     },
     "metadata": {},
     "output_type": "display_data"
    },
    {
     "data": {
      "text/markdown": [
       "<span style=\"font-size:11pt\">Eval-Settings: metric: <span style=\"color: #0000ff\">f1</span>, type: <span style=\"color: #0000ff\">all-at-once</span>, DT-Depth: <span style=\"color: #0000ff\">1</span>, train-test-split:<span style=\"color: #0000ff\"> 5-fold cross-validation </span></span>"
      ],
      "text/plain": [
       "<IPython.core.display.Markdown object>"
      ]
     },
     "metadata": {},
     "output_type": "display_data"
    },
    {
     "name": "stderr",
     "output_type": "stream",
     "text": [
      "derive_conceptualspace/evaluate/shallow_trees.py:123: UserWarning: There are more classes (9) than your decision-tree can possibly classify (2)\n"
     ]
    },
    {
     "data": {
      "text/markdown": [
       "<span style=\"font-size:11pt\">f1: 0.11</span>"
      ],
      "text/plain": [
       "<IPython.core.display.Markdown object>"
      ]
     },
     "metadata": {},
     "output_type": "display_data"
    },
    {
     "data": {
      "text/markdown": [
       "<span style=\"font-size:11pt\">Baseline f1: 0.23</span>"
      ],
      "text/plain": [
       "<IPython.core.display.Markdown object>"
      ]
     },
     "metadata": {},
     "output_type": "display_data"
    },
    {
     "data": {
      "text/markdown": [
       "<span style=\"font-size:11pt\">====================================================================================================</span>"
      ],
      "text/plain": [
       "<IPython.core.display.Markdown object>"
      ]
     },
     "metadata": {},
     "output_type": "display_data"
    },
    {
     "data": {
      "text/markdown": [
       "<span style=\"font-size:11pt\">Using classes from Foursquare - 391/1383 entities have a class</span>"
      ],
      "text/plain": [
       "<IPython.core.display.Markdown object>"
      ]
     },
     "metadata": {},
     "output_type": "display_data"
    },
    {
     "data": {
      "text/markdown": [
       "<span style=\"font-size:11pt\">Labels (9 classes): <span style=\"color: #0000ff\">Shops&Services</span>: 88, <span style=\"color: #0000ff\">Food</span>: 82, <span style=\"color: #0000ff\">Travel&Transport</span>: 35, <span style=\"color: #0000ff\">Professional&Other</span>: 47, <span style=\"color: #0000ff\">Residences</span>: 6, <span style=\"color: #0000ff\">Arts&Entertainment</span>: 39, <span style=\"color: #0000ff\">NightlifeSpots</span>: 17, <span style=\"color: #0000ff\">GreatOutdoors</span>: 44, <span style=\"color: #0000ff\">College&University</span>: 33</span>"
      ],
      "text/plain": [
       "<IPython.core.display.Markdown object>"
      ]
     },
     "metadata": {},
     "output_type": "display_data"
    },
    {
     "data": {
      "text/markdown": [
       "<span style=\"font-size:11pt\">Eval-Settings: metric: <span style=\"color: #0000ff\">accuracy</span>, type: <span style=\"color: #0000ff\">all-at-once</span>, DT-Depth: <span style=\"color: #0000ff\">1</span>, train-test-split:<span style=\"color: #0000ff\"> 5-fold cross-validation </span></span>"
      ],
      "text/plain": [
       "<IPython.core.display.Markdown object>"
      ]
     },
     "metadata": {},
     "output_type": "display_data"
    },
    {
     "name": "stderr",
     "output_type": "stream",
     "text": [
      "derive_conceptualspace/evaluate/shallow_trees.py:123: UserWarning: There are more classes (9) than your decision-tree can possibly classify (2)\n"
     ]
    },
    {
     "data": {
      "text/markdown": [
       "<span style=\"font-size:11pt\">accuracy: 0.33</span>"
      ],
      "text/plain": [
       "<IPython.core.display.Markdown object>"
      ]
     },
     "metadata": {},
     "output_type": "display_data"
    },
    {
     "data": {
      "text/markdown": [
       "<span style=\"font-size:11pt\">Baseline accuracy: 0.23</span>"
      ],
      "text/plain": [
       "<IPython.core.display.Markdown object>"
      ]
     },
     "metadata": {},
     "output_type": "display_data"
    },
    {
     "data": {
      "text/markdown": [
       "<span style=\"font-size:11pt\">Maximally achievable accuracy: 0.43</span>"
      ],
      "text/plain": [
       "<IPython.core.display.Markdown object>"
      ]
     },
     "metadata": {},
     "output_type": "display_data"
    },
    {
     "data": {
      "text/markdown": [
       "<span style=\"font-size:11pt\">====================================================================================================</span>"
      ],
      "text/plain": [
       "<IPython.core.display.Markdown object>"
      ]
     },
     "metadata": {},
     "output_type": "display_data"
    },
    {
     "data": {
      "text/markdown": [
       "<span style=\"font-size:11pt\">Using classes from Foursquare - 391/1383 entities have a class</span>"
      ],
      "text/plain": [
       "<IPython.core.display.Markdown object>"
      ]
     },
     "metadata": {},
     "output_type": "display_data"
    },
    {
     "data": {
      "text/markdown": [
       "<span style=\"font-size:11pt\">Labels (9 classes): <span style=\"color: #0000ff\">Shops&Services</span>: 88, <span style=\"color: #0000ff\">Food</span>: 82, <span style=\"color: #0000ff\">Travel&Transport</span>: 35, <span style=\"color: #0000ff\">Professional&Other</span>: 47, <span style=\"color: #0000ff\">Residences</span>: 6, <span style=\"color: #0000ff\">Arts&Entertainment</span>: 39, <span style=\"color: #0000ff\">NightlifeSpots</span>: 17, <span style=\"color: #0000ff\">GreatOutdoors</span>: 44, <span style=\"color: #0000ff\">College&University</span>: 33</span>"
      ],
      "text/plain": [
       "<IPython.core.display.Markdown object>"
      ]
     },
     "metadata": {},
     "output_type": "display_data"
    },
    {
     "data": {
      "text/markdown": [
       "<span style=\"font-size:11pt\">Eval-Settings: metric: <span style=\"color: #0000ff\">f1</span>, type: <span style=\"color: #0000ff\">all-at-once</span>, DT-Depth: <span style=\"color: #0000ff\">1</span>, train-test-split:<span style=\"color: #0000ff\"> 5-fold cross-validation </span></span>"
      ],
      "text/plain": [
       "<IPython.core.display.Markdown object>"
      ]
     },
     "metadata": {},
     "output_type": "display_data"
    },
    {
     "name": "stderr",
     "output_type": "stream",
     "text": [
      "derive_conceptualspace/evaluate/shallow_trees.py:123: UserWarning: There are more classes (9) than your decision-tree can possibly classify (2)\n"
     ]
    },
    {
     "data": {
      "text/markdown": [
       "<span style=\"font-size:11pt\">f1: 0.33</span>"
      ],
      "text/plain": [
       "<IPython.core.display.Markdown object>"
      ]
     },
     "metadata": {},
     "output_type": "display_data"
    },
    {
     "data": {
      "text/markdown": [
       "<span style=\"font-size:11pt\">Baseline f1: 0.23</span>"
      ],
      "text/plain": [
       "<IPython.core.display.Markdown object>"
      ]
     },
     "metadata": {},
     "output_type": "display_data"
    },
    {
     "data": {
      "text/markdown": [
       "<span style=\"font-size:11pt\">====================================================================================================</span>"
      ],
      "text/plain": [
       "<IPython.core.display.Markdown object>"
      ]
     },
     "metadata": {},
     "output_type": "display_data"
    },
    {
     "data": {
      "text/markdown": [
       "<span style=\"font-size:11pt\">Using classes from Foursquare - 391/1383 entities have a class</span>"
      ],
      "text/plain": [
       "<IPython.core.display.Markdown object>"
      ]
     },
     "metadata": {},
     "output_type": "display_data"
    },
    {
     "data": {
      "text/markdown": [
       "<span style=\"font-size:11pt\">Labels (9 classes): <span style=\"color: #0000ff\">Shops&Services</span>: 88, <span style=\"color: #0000ff\">Food</span>: 82, <span style=\"color: #0000ff\">Travel&Transport</span>: 35, <span style=\"color: #0000ff\">Professional&Other</span>: 47, <span style=\"color: #0000ff\">Residences</span>: 6, <span style=\"color: #0000ff\">Arts&Entertainment</span>: 39, <span style=\"color: #0000ff\">NightlifeSpots</span>: 17, <span style=\"color: #0000ff\">GreatOutdoors</span>: 44, <span style=\"color: #0000ff\">College&University</span>: 33</span>"
      ],
      "text/plain": [
       "<IPython.core.display.Markdown object>"
      ]
     },
     "metadata": {},
     "output_type": "display_data"
    },
    {
     "data": {
      "text/markdown": [
       "<span style=\"font-size:11pt\">Eval-Settings: metric: <span style=\"color: #0000ff\">accuracy</span>, type: <span style=\"color: #0000ff\">all-at-once</span>, DT-Depth: <span style=\"color: #0000ff\">2</span>, train-test-split:<span style=\"color: #0000ff\"> 5-fold cross-validation </span></span>"
      ],
      "text/plain": [
       "<IPython.core.display.Markdown object>"
      ]
     },
     "metadata": {},
     "output_type": "display_data"
    },
    {
     "name": "stderr",
     "output_type": "stream",
     "text": [
      "derive_conceptualspace/evaluate/shallow_trees.py:123: UserWarning: There are more classes (9) than your decision-tree can possibly classify (4)\n"
     ]
    },
    {
     "data": {
      "text/markdown": [
       "<span style=\"font-size:11pt\">accuracy: 0.29</span>"
      ],
      "text/plain": [
       "<IPython.core.display.Markdown object>"
      ]
     },
     "metadata": {},
     "output_type": "display_data"
    },
    {
     "data": {
      "text/markdown": [
       "<span style=\"font-size:11pt\">====================================================================================================</span>"
      ],
      "text/plain": [
       "<IPython.core.display.Markdown object>"
      ]
     },
     "metadata": {},
     "output_type": "display_data"
    },
    {
     "data": {
      "text/markdown": [
       "<span style=\"font-size:11pt\">Using classes from Foursquare - 391/1383 entities have a class</span>"
      ],
      "text/plain": [
       "<IPython.core.display.Markdown object>"
      ]
     },
     "metadata": {},
     "output_type": "display_data"
    },
    {
     "data": {
      "text/markdown": [
       "<span style=\"font-size:11pt\">Labels (9 classes): <span style=\"color: #0000ff\">Shops&Services</span>: 88, <span style=\"color: #0000ff\">Food</span>: 82, <span style=\"color: #0000ff\">Travel&Transport</span>: 35, <span style=\"color: #0000ff\">Professional&Other</span>: 47, <span style=\"color: #0000ff\">Residences</span>: 6, <span style=\"color: #0000ff\">Arts&Entertainment</span>: 39, <span style=\"color: #0000ff\">NightlifeSpots</span>: 17, <span style=\"color: #0000ff\">GreatOutdoors</span>: 44, <span style=\"color: #0000ff\">College&University</span>: 33</span>"
      ],
      "text/plain": [
       "<IPython.core.display.Markdown object>"
      ]
     },
     "metadata": {},
     "output_type": "display_data"
    },
    {
     "data": {
      "text/markdown": [
       "<span style=\"font-size:11pt\">Eval-Settings: metric: <span style=\"color: #0000ff\">f1</span>, type: <span style=\"color: #0000ff\">all-at-once</span>, DT-Depth: <span style=\"color: #0000ff\">2</span>, train-test-split:<span style=\"color: #0000ff\"> 5-fold cross-validation </span></span>"
      ],
      "text/plain": [
       "<IPython.core.display.Markdown object>"
      ]
     },
     "metadata": {},
     "output_type": "display_data"
    },
    {
     "name": "stderr",
     "output_type": "stream",
     "text": [
      "derive_conceptualspace/evaluate/shallow_trees.py:123: UserWarning: There are more classes (9) than your decision-tree can possibly classify (4)\n"
     ]
    },
    {
     "data": {
      "text/markdown": [
       "<span style=\"font-size:11pt\">f1: 0.29</span>"
      ],
      "text/plain": [
       "<IPython.core.display.Markdown object>"
      ]
     },
     "metadata": {},
     "output_type": "display_data"
    },
    {
     "data": {
      "text/markdown": [
       "<span style=\"font-size:11pt\">====================================================================================================</span>"
      ],
      "text/plain": [
       "<IPython.core.display.Markdown object>"
      ]
     },
     "metadata": {},
     "output_type": "display_data"
    },
    {
     "data": {
      "text/markdown": [
       "<span style=\"font-size:11pt\">Using classes from Foursquare - 391/1383 entities have a class</span>"
      ],
      "text/plain": [
       "<IPython.core.display.Markdown object>"
      ]
     },
     "metadata": {},
     "output_type": "display_data"
    },
    {
     "data": {
      "text/markdown": [
       "<span style=\"font-size:11pt\">Labels (9 classes): <span style=\"color: #0000ff\">Shops&Services</span>: 88, <span style=\"color: #0000ff\">Food</span>: 82, <span style=\"color: #0000ff\">Travel&Transport</span>: 35, <span style=\"color: #0000ff\">Professional&Other</span>: 47, <span style=\"color: #0000ff\">Residences</span>: 6, <span style=\"color: #0000ff\">Arts&Entertainment</span>: 39, <span style=\"color: #0000ff\">NightlifeSpots</span>: 17, <span style=\"color: #0000ff\">GreatOutdoors</span>: 44, <span style=\"color: #0000ff\">College&University</span>: 33</span>"
      ],
      "text/plain": [
       "<IPython.core.display.Markdown object>"
      ]
     },
     "metadata": {},
     "output_type": "display_data"
    },
    {
     "data": {
      "text/markdown": [
       "<span style=\"font-size:11pt\">Eval-Settings: metric: <span style=\"color: #0000ff\">accuracy</span>, type: <span style=\"color: #0000ff\">all-at-once</span>, DT-Depth: <span style=\"color: #0000ff\">2</span>, train-test-split:<span style=\"color: #0000ff\"> 5-fold cross-validation </span></span>"
      ],
      "text/plain": [
       "<IPython.core.display.Markdown object>"
      ]
     },
     "metadata": {},
     "output_type": "display_data"
    },
    {
     "name": "stderr",
     "output_type": "stream",
     "text": [
      "derive_conceptualspace/evaluate/shallow_trees.py:123: UserWarning: There are more classes (9) than your decision-tree can possibly classify (4)\n"
     ]
    },
    {
     "data": {
      "text/markdown": [
       "<span style=\"font-size:11pt\">accuracy: 0.42</span>"
      ],
      "text/plain": [
       "<IPython.core.display.Markdown object>"
      ]
     },
     "metadata": {},
     "output_type": "display_data"
    },
    {
     "data": {
      "text/markdown": [
       "<span style=\"font-size:11pt\">====================================================================================================</span>"
      ],
      "text/plain": [
       "<IPython.core.display.Markdown object>"
      ]
     },
     "metadata": {},
     "output_type": "display_data"
    },
    {
     "data": {
      "text/markdown": [
       "<span style=\"font-size:11pt\">Using classes from Foursquare - 391/1383 entities have a class</span>"
      ],
      "text/plain": [
       "<IPython.core.display.Markdown object>"
      ]
     },
     "metadata": {},
     "output_type": "display_data"
    },
    {
     "data": {
      "text/markdown": [
       "<span style=\"font-size:11pt\">Labels (9 classes): <span style=\"color: #0000ff\">Shops&Services</span>: 88, <span style=\"color: #0000ff\">Food</span>: 82, <span style=\"color: #0000ff\">Travel&Transport</span>: 35, <span style=\"color: #0000ff\">Professional&Other</span>: 47, <span style=\"color: #0000ff\">Residences</span>: 6, <span style=\"color: #0000ff\">Arts&Entertainment</span>: 39, <span style=\"color: #0000ff\">NightlifeSpots</span>: 17, <span style=\"color: #0000ff\">GreatOutdoors</span>: 44, <span style=\"color: #0000ff\">College&University</span>: 33</span>"
      ],
      "text/plain": [
       "<IPython.core.display.Markdown object>"
      ]
     },
     "metadata": {},
     "output_type": "display_data"
    },
    {
     "data": {
      "text/markdown": [
       "<span style=\"font-size:11pt\">Eval-Settings: metric: <span style=\"color: #0000ff\">f1</span>, type: <span style=\"color: #0000ff\">all-at-once</span>, DT-Depth: <span style=\"color: #0000ff\">2</span>, train-test-split:<span style=\"color: #0000ff\"> 5-fold cross-validation </span></span>"
      ],
      "text/plain": [
       "<IPython.core.display.Markdown object>"
      ]
     },
     "metadata": {},
     "output_type": "display_data"
    },
    {
     "name": "stderr",
     "output_type": "stream",
     "text": [
      "derive_conceptualspace/evaluate/shallow_trees.py:123: UserWarning: There are more classes (9) than your decision-tree can possibly classify (4)\n"
     ]
    },
    {
     "data": {
      "text/markdown": [
       "<span style=\"font-size:11pt\">f1: 0.42</span>"
      ],
      "text/plain": [
       "<IPython.core.display.Markdown object>"
      ]
     },
     "metadata": {},
     "output_type": "display_data"
    },
    {
     "data": {
      "text/markdown": [
       "<span style=\"font-size:11pt\">====================================================================================================</span>"
      ],
      "text/plain": [
       "<IPython.core.display.Markdown object>"
      ]
     },
     "metadata": {},
     "output_type": "display_data"
    },
    {
     "data": {
      "text/markdown": [
       "<span style=\"font-size:11pt\">Using classes from Foursquare - 391/1383 entities have a class</span>"
      ],
      "text/plain": [
       "<IPython.core.display.Markdown object>"
      ]
     },
     "metadata": {},
     "output_type": "display_data"
    },
    {
     "data": {
      "text/markdown": [
       "<span style=\"font-size:11pt\">Labels (9 classes): <span style=\"color: #0000ff\">Shops&Services</span>: 88, <span style=\"color: #0000ff\">Food</span>: 82, <span style=\"color: #0000ff\">Travel&Transport</span>: 35, <span style=\"color: #0000ff\">Professional&Other</span>: 47, <span style=\"color: #0000ff\">Residences</span>: 6, <span style=\"color: #0000ff\">Arts&Entertainment</span>: 39, <span style=\"color: #0000ff\">NightlifeSpots</span>: 17, <span style=\"color: #0000ff\">GreatOutdoors</span>: 44, <span style=\"color: #0000ff\">College&University</span>: 33</span>"
      ],
      "text/plain": [
       "<IPython.core.display.Markdown object>"
      ]
     },
     "metadata": {},
     "output_type": "display_data"
    },
    {
     "data": {
      "text/markdown": [
       "<span style=\"font-size:11pt\">Eval-Settings: metric: <span style=\"color: #0000ff\">accuracy</span>, type: <span style=\"color: #0000ff\">all-at-once</span>, DT-Depth: <span style=\"color: #0000ff\">3</span>, train-test-split:<span style=\"color: #0000ff\"> 5-fold cross-validation </span></span>"
      ],
      "text/plain": [
       "<IPython.core.display.Markdown object>"
      ]
     },
     "metadata": {},
     "output_type": "display_data"
    },
    {
     "name": "stderr",
     "output_type": "stream",
     "text": [
      "derive_conceptualspace/evaluate/shallow_trees.py:123: UserWarning: There are more classes (9) than your decision-tree can possibly classify (8)\n"
     ]
    },
    {
     "data": {
      "text/markdown": [
       "<span style=\"font-size:11pt\">accuracy: 0.50</span>"
      ],
      "text/plain": [
       "<IPython.core.display.Markdown object>"
      ]
     },
     "metadata": {},
     "output_type": "display_data"
    },
    {
     "data": {
      "text/markdown": [
       "<span style=\"font-size:11pt\">====================================================================================================</span>"
      ],
      "text/plain": [
       "<IPython.core.display.Markdown object>"
      ]
     },
     "metadata": {},
     "output_type": "display_data"
    },
    {
     "data": {
      "text/markdown": [
       "<span style=\"font-size:11pt\">Using classes from Foursquare - 391/1383 entities have a class</span>"
      ],
      "text/plain": [
       "<IPython.core.display.Markdown object>"
      ]
     },
     "metadata": {},
     "output_type": "display_data"
    },
    {
     "data": {
      "text/markdown": [
       "<span style=\"font-size:11pt\">Labels (9 classes): <span style=\"color: #0000ff\">Shops&Services</span>: 88, <span style=\"color: #0000ff\">Food</span>: 82, <span style=\"color: #0000ff\">Travel&Transport</span>: 35, <span style=\"color: #0000ff\">Professional&Other</span>: 47, <span style=\"color: #0000ff\">Residences</span>: 6, <span style=\"color: #0000ff\">Arts&Entertainment</span>: 39, <span style=\"color: #0000ff\">NightlifeSpots</span>: 17, <span style=\"color: #0000ff\">GreatOutdoors</span>: 44, <span style=\"color: #0000ff\">College&University</span>: 33</span>"
      ],
      "text/plain": [
       "<IPython.core.display.Markdown object>"
      ]
     },
     "metadata": {},
     "output_type": "display_data"
    },
    {
     "data": {
      "text/markdown": [
       "<span style=\"font-size:11pt\">Eval-Settings: metric: <span style=\"color: #0000ff\">f1</span>, type: <span style=\"color: #0000ff\">all-at-once</span>, DT-Depth: <span style=\"color: #0000ff\">3</span>, train-test-split:<span style=\"color: #0000ff\"> 5-fold cross-validation </span></span>"
      ],
      "text/plain": [
       "<IPython.core.display.Markdown object>"
      ]
     },
     "metadata": {},
     "output_type": "display_data"
    },
    {
     "name": "stderr",
     "output_type": "stream",
     "text": [
      "derive_conceptualspace/evaluate/shallow_trees.py:123: UserWarning: There are more classes (9) than your decision-tree can possibly classify (8)\n"
     ]
    },
    {
     "data": {
      "text/markdown": [
       "<span style=\"font-size:11pt\">f1: 0.50</span>"
      ],
      "text/plain": [
       "<IPython.core.display.Markdown object>"
      ]
     },
     "metadata": {},
     "output_type": "display_data"
    },
    {
     "data": {
      "text/markdown": [
       "<span style=\"font-size:11pt\">====================================================================================================</span>"
      ],
      "text/plain": [
       "<IPython.core.display.Markdown object>"
      ]
     },
     "metadata": {},
     "output_type": "display_data"
    },
    {
     "data": {
      "text/markdown": [
       "<span style=\"font-size:11pt\">Using classes from Foursquare - 391/1383 entities have a class</span>"
      ],
      "text/plain": [
       "<IPython.core.display.Markdown object>"
      ]
     },
     "metadata": {},
     "output_type": "display_data"
    },
    {
     "data": {
      "text/markdown": [
       "<span style=\"font-size:11pt\">Labels (9 classes): <span style=\"color: #0000ff\">Shops&Services</span>: 88, <span style=\"color: #0000ff\">Food</span>: 82, <span style=\"color: #0000ff\">Travel&Transport</span>: 35, <span style=\"color: #0000ff\">Professional&Other</span>: 47, <span style=\"color: #0000ff\">Residences</span>: 6, <span style=\"color: #0000ff\">Arts&Entertainment</span>: 39, <span style=\"color: #0000ff\">NightlifeSpots</span>: 17, <span style=\"color: #0000ff\">GreatOutdoors</span>: 44, <span style=\"color: #0000ff\">College&University</span>: 33</span>"
      ],
      "text/plain": [
       "<IPython.core.display.Markdown object>"
      ]
     },
     "metadata": {},
     "output_type": "display_data"
    },
    {
     "data": {
      "text/markdown": [
       "<span style=\"font-size:11pt\">Eval-Settings: metric: <span style=\"color: #0000ff\">accuracy</span>, type: <span style=\"color: #0000ff\">all-at-once</span>, DT-Depth: <span style=\"color: #0000ff\">3</span>, train-test-split:<span style=\"color: #0000ff\"> 5-fold cross-validation </span></span>"
      ],
      "text/plain": [
       "<IPython.core.display.Markdown object>"
      ]
     },
     "metadata": {},
     "output_type": "display_data"
    },
    {
     "name": "stderr",
     "output_type": "stream",
     "text": [
      "derive_conceptualspace/evaluate/shallow_trees.py:123: UserWarning: There are more classes (9) than your decision-tree can possibly classify (8)\n"
     ]
    },
    {
     "data": {
      "text/markdown": [
       "<span style=\"font-size:11pt\">accuracy: 0.46</span>"
      ],
      "text/plain": [
       "<IPython.core.display.Markdown object>"
      ]
     },
     "metadata": {},
     "output_type": "display_data"
    },
    {
     "data": {
      "text/markdown": [
       "<span style=\"font-size:11pt\">====================================================================================================</span>"
      ],
      "text/plain": [
       "<IPython.core.display.Markdown object>"
      ]
     },
     "metadata": {},
     "output_type": "display_data"
    },
    {
     "data": {
      "text/markdown": [
       "<span style=\"font-size:11pt\">Using classes from Foursquare - 391/1383 entities have a class</span>"
      ],
      "text/plain": [
       "<IPython.core.display.Markdown object>"
      ]
     },
     "metadata": {},
     "output_type": "display_data"
    },
    {
     "data": {
      "text/markdown": [
       "<span style=\"font-size:11pt\">Labels (9 classes): <span style=\"color: #0000ff\">Shops&Services</span>: 88, <span style=\"color: #0000ff\">Food</span>: 82, <span style=\"color: #0000ff\">Travel&Transport</span>: 35, <span style=\"color: #0000ff\">Professional&Other</span>: 47, <span style=\"color: #0000ff\">Residences</span>: 6, <span style=\"color: #0000ff\">Arts&Entertainment</span>: 39, <span style=\"color: #0000ff\">NightlifeSpots</span>: 17, <span style=\"color: #0000ff\">GreatOutdoors</span>: 44, <span style=\"color: #0000ff\">College&University</span>: 33</span>"
      ],
      "text/plain": [
       "<IPython.core.display.Markdown object>"
      ]
     },
     "metadata": {},
     "output_type": "display_data"
    },
    {
     "data": {
      "text/markdown": [
       "<span style=\"font-size:11pt\">Eval-Settings: metric: <span style=\"color: #0000ff\">f1</span>, type: <span style=\"color: #0000ff\">all-at-once</span>, DT-Depth: <span style=\"color: #0000ff\">3</span>, train-test-split:<span style=\"color: #0000ff\"> 5-fold cross-validation </span></span>"
      ],
      "text/plain": [
       "<IPython.core.display.Markdown object>"
      ]
     },
     "metadata": {},
     "output_type": "display_data"
    },
    {
     "name": "stderr",
     "output_type": "stream",
     "text": [
      "derive_conceptualspace/evaluate/shallow_trees.py:123: UserWarning: There are more classes (9) than your decision-tree can possibly classify (8)\n"
     ]
    },
    {
     "data": {
      "text/markdown": [
       "<span style=\"font-size:11pt\">f1: 0.46</span>"
      ],
      "text/plain": [
       "<IPython.core.display.Markdown object>"
      ]
     },
     "metadata": {},
     "output_type": "display_data"
    },
    {
     "data": {
      "text/markdown": [
       "<span style=\"font-size:11pt\">====================================================================================================</span>"
      ],
      "text/plain": [
       "<IPython.core.display.Markdown object>"
      ]
     },
     "metadata": {},
     "output_type": "display_data"
    },
    {
     "data": {
      "text/markdown": [
       "<span style=\"font-size:11pt\">Using classes from Foursquare - 391/1383 entities have a class</span>"
      ],
      "text/plain": [
       "<IPython.core.display.Markdown object>"
      ]
     },
     "metadata": {},
     "output_type": "display_data"
    },
    {
     "data": {
      "text/markdown": [
       "<span style=\"font-size:11pt\">Labels (9 classes): <span style=\"color: #0000ff\">Shops&Services</span>: 88, <span style=\"color: #0000ff\">Food</span>: 82, <span style=\"color: #0000ff\">Travel&Transport</span>: 35, <span style=\"color: #0000ff\">Professional&Other</span>: 47, <span style=\"color: #0000ff\">Residences</span>: 6, <span style=\"color: #0000ff\">Arts&Entertainment</span>: 39, <span style=\"color: #0000ff\">NightlifeSpots</span>: 17, <span style=\"color: #0000ff\">GreatOutdoors</span>: 44, <span style=\"color: #0000ff\">College&University</span>: 33</span>"
      ],
      "text/plain": [
       "<IPython.core.display.Markdown object>"
      ]
     },
     "metadata": {},
     "output_type": "display_data"
    },
    {
     "data": {
      "text/markdown": [
       "<span style=\"font-size:11pt\">Eval-Settings: metric: <span style=\"color: #0000ff\">accuracy</span>, type: <span style=\"color: #0000ff\">all-at-once</span>, DT-Depth: <span style=\"color: #0000ff\">None</span>, train-test-split:<span style=\"color: #0000ff\"> 5-fold cross-validation </span></span>"
      ],
      "text/plain": [
       "<IPython.core.display.Markdown object>"
      ]
     },
     "metadata": {},
     "output_type": "display_data"
    },
    {
     "data": {
      "text/markdown": [
       "<span style=\"font-size:11pt\">accuracy: 0.54</span>"
      ],
      "text/plain": [
       "<IPython.core.display.Markdown object>"
      ]
     },
     "metadata": {},
     "output_type": "display_data"
    },
    {
     "data": {
      "text/markdown": [
       "<span style=\"font-size:11pt\">====================================================================================================</span>"
      ],
      "text/plain": [
       "<IPython.core.display.Markdown object>"
      ]
     },
     "metadata": {},
     "output_type": "display_data"
    },
    {
     "data": {
      "text/markdown": [
       "<span style=\"font-size:11pt\">Using classes from Foursquare - 391/1383 entities have a class</span>"
      ],
      "text/plain": [
       "<IPython.core.display.Markdown object>"
      ]
     },
     "metadata": {},
     "output_type": "display_data"
    },
    {
     "data": {
      "text/markdown": [
       "<span style=\"font-size:11pt\">Labels (9 classes): <span style=\"color: #0000ff\">Shops&Services</span>: 88, <span style=\"color: #0000ff\">Food</span>: 82, <span style=\"color: #0000ff\">Travel&Transport</span>: 35, <span style=\"color: #0000ff\">Professional&Other</span>: 47, <span style=\"color: #0000ff\">Residences</span>: 6, <span style=\"color: #0000ff\">Arts&Entertainment</span>: 39, <span style=\"color: #0000ff\">NightlifeSpots</span>: 17, <span style=\"color: #0000ff\">GreatOutdoors</span>: 44, <span style=\"color: #0000ff\">College&University</span>: 33</span>"
      ],
      "text/plain": [
       "<IPython.core.display.Markdown object>"
      ]
     },
     "metadata": {},
     "output_type": "display_data"
    },
    {
     "data": {
      "text/markdown": [
       "<span style=\"font-size:11pt\">Eval-Settings: metric: <span style=\"color: #0000ff\">f1</span>, type: <span style=\"color: #0000ff\">all-at-once</span>, DT-Depth: <span style=\"color: #0000ff\">None</span>, train-test-split:<span style=\"color: #0000ff\"> 5-fold cross-validation </span></span>"
      ],
      "text/plain": [
       "<IPython.core.display.Markdown object>"
      ]
     },
     "metadata": {},
     "output_type": "display_data"
    },
    {
     "data": {
      "text/markdown": [
       "<span style=\"font-size:11pt\">f1: 0.55</span>"
      ],
      "text/plain": [
       "<IPython.core.display.Markdown object>"
      ]
     },
     "metadata": {},
     "output_type": "display_data"
    },
    {
     "data": {
      "text/markdown": [
       "<span style=\"font-size:11pt\">====================================================================================================</span>"
      ],
      "text/plain": [
       "<IPython.core.display.Markdown object>"
      ]
     },
     "metadata": {},
     "output_type": "display_data"
    },
    {
     "data": {
      "text/markdown": [
       "<span style=\"font-size:11pt\">Using classes from Foursquare - 391/1383 entities have a class</span>"
      ],
      "text/plain": [
       "<IPython.core.display.Markdown object>"
      ]
     },
     "metadata": {},
     "output_type": "display_data"
    },
    {
     "data": {
      "text/markdown": [
       "<span style=\"font-size:11pt\">Labels (9 classes): <span style=\"color: #0000ff\">Shops&Services</span>: 88, <span style=\"color: #0000ff\">Food</span>: 82, <span style=\"color: #0000ff\">Travel&Transport</span>: 35, <span style=\"color: #0000ff\">Professional&Other</span>: 47, <span style=\"color: #0000ff\">Residences</span>: 6, <span style=\"color: #0000ff\">Arts&Entertainment</span>: 39, <span style=\"color: #0000ff\">NightlifeSpots</span>: 17, <span style=\"color: #0000ff\">GreatOutdoors</span>: 44, <span style=\"color: #0000ff\">College&University</span>: 33</span>"
      ],
      "text/plain": [
       "<IPython.core.display.Markdown object>"
      ]
     },
     "metadata": {},
     "output_type": "display_data"
    },
    {
     "data": {
      "text/markdown": [
       "<span style=\"font-size:11pt\">Eval-Settings: metric: <span style=\"color: #0000ff\">accuracy</span>, type: <span style=\"color: #0000ff\">all-at-once</span>, DT-Depth: <span style=\"color: #0000ff\">None</span>, train-test-split:<span style=\"color: #0000ff\"> 5-fold cross-validation </span></span>"
      ],
      "text/plain": [
       "<IPython.core.display.Markdown object>"
      ]
     },
     "metadata": {},
     "output_type": "display_data"
    },
    {
     "data": {
      "text/markdown": [
       "<span style=\"font-size:11pt\">accuracy: 0.51</span>"
      ],
      "text/plain": [
       "<IPython.core.display.Markdown object>"
      ]
     },
     "metadata": {},
     "output_type": "display_data"
    },
    {
     "data": {
      "text/markdown": [
       "<span style=\"font-size:11pt\">====================================================================================================</span>"
      ],
      "text/plain": [
       "<IPython.core.display.Markdown object>"
      ]
     },
     "metadata": {},
     "output_type": "display_data"
    },
    {
     "data": {
      "text/markdown": [
       "<span style=\"font-size:11pt\">Using classes from Foursquare - 391/1383 entities have a class</span>"
      ],
      "text/plain": [
       "<IPython.core.display.Markdown object>"
      ]
     },
     "metadata": {},
     "output_type": "display_data"
    },
    {
     "data": {
      "text/markdown": [
       "<span style=\"font-size:11pt\">Labels (9 classes): <span style=\"color: #0000ff\">Shops&Services</span>: 88, <span style=\"color: #0000ff\">Food</span>: 82, <span style=\"color: #0000ff\">Travel&Transport</span>: 35, <span style=\"color: #0000ff\">Professional&Other</span>: 47, <span style=\"color: #0000ff\">Residences</span>: 6, <span style=\"color: #0000ff\">Arts&Entertainment</span>: 39, <span style=\"color: #0000ff\">NightlifeSpots</span>: 17, <span style=\"color: #0000ff\">GreatOutdoors</span>: 44, <span style=\"color: #0000ff\">College&University</span>: 33</span>"
      ],
      "text/plain": [
       "<IPython.core.display.Markdown object>"
      ]
     },
     "metadata": {},
     "output_type": "display_data"
    },
    {
     "data": {
      "text/markdown": [
       "<span style=\"font-size:11pt\">Eval-Settings: metric: <span style=\"color: #0000ff\">f1</span>, type: <span style=\"color: #0000ff\">all-at-once</span>, DT-Depth: <span style=\"color: #0000ff\">None</span>, train-test-split:<span style=\"color: #0000ff\"> 5-fold cross-validation </span></span>"
      ],
      "text/plain": [
       "<IPython.core.display.Markdown object>"
      ]
     },
     "metadata": {},
     "output_type": "display_data"
    },
    {
     "data": {
      "text/markdown": [
       "<span style=\"font-size:11pt\">f1: 0.51</span>"
      ],
      "text/plain": [
       "<IPython.core.display.Markdown object>"
      ]
     },
     "metadata": {},
     "output_type": "display_data"
    },
    {
     "data": {
      "text/markdown": [
       "<span style=\"font-size:11pt\">====================================================================================================</span>"
      ],
      "text/plain": [
       "<IPython.core.display.Markdown object>"
      ]
     },
     "metadata": {},
     "output_type": "display_data"
    },
    {
     "data": {
      "text/markdown": [
       "<span style=\"font-size:11pt\">Using classes from Geonames - 403/1383 entities have a class</span>"
      ],
      "text/plain": [
       "<IPython.core.display.Markdown object>"
      ]
     },
     "metadata": {},
     "output_type": "display_data"
    },
    {
     "data": {
      "text/markdown": [
       "<span style=\"font-size:11pt\">Labels (7 classes): <span style=\"color: #0000ff\">spot,building,farm</span>: 176, <span style=\"color: #0000ff\">stream,lake</span>: 74, <span style=\"color: #0000ff\">road,railroad</span>: 16, <span style=\"color: #0000ff\">parks,area</span>: 28, <span style=\"color: #0000ff\">undersea</span>: 27, <span style=\"color: #0000ff\">mountain,hill,rock</span>: 68, <span style=\"color: #0000ff\">forest,heath</span>: 14</span>"
      ],
      "text/plain": [
       "<IPython.core.display.Markdown object>"
      ]
     },
     "metadata": {},
     "output_type": "display_data"
    },
    {
     "data": {
      "text/markdown": [
       "<span style=\"font-size:11pt\">Eval-Settings: metric: <span style=\"color: #0000ff\">accuracy</span>, type: <span style=\"color: #0000ff\">one-vs-rest</span>, DT-Depth: <span style=\"color: #0000ff\">1</span>, train-test-split:<span style=\"color: #0000ff\"> 33.0% in test-set </span></span>"
      ],
      "text/plain": [
       "<IPython.core.display.Markdown object>"
      ]
     },
     "metadata": {},
     "output_type": "display_data"
    },
    {
     "data": {
      "text/markdown": [
       "<span style=\"font-size:11pt\">Per-Class-Scores: spot,building,farm: 0.74, stream,lake: 0.59, undersea: 0.54, road,railroad: 0.34, forest,heath: 0.41, parks,area: 0.29, mountain,hill,rock: 0.53</span>"
      ],
      "text/plain": [
       "<IPython.core.display.Markdown object>"
      ]
     },
     "metadata": {},
     "output_type": "display_data"
    },
    {
     "data": {
      "text/markdown": [
       "<span style=\"font-size:11pt\">Unweighted Mean accuracy: 49.30%</span>"
      ],
      "text/plain": [
       "<IPython.core.display.Markdown object>"
      ]
     },
     "metadata": {},
     "output_type": "display_data"
    },
    {
     "data": {
      "text/markdown": [
       "<span style=\"font-size:11pt\">Weighted Mean accuracy: 60.73%</span>"
      ],
      "text/plain": [
       "<IPython.core.display.Markdown object>"
      ]
     },
     "metadata": {},
     "output_type": "display_data"
    },
    {
     "data": {
      "text/markdown": [
       "<span style=\"font-size:11pt\">====================================================================================================</span>"
      ],
      "text/plain": [
       "<IPython.core.display.Markdown object>"
      ]
     },
     "metadata": {},
     "output_type": "display_data"
    },
    {
     "data": {
      "text/markdown": [
       "<span style=\"font-size:11pt\">Using classes from Geonames - 403/1383 entities have a class</span>"
      ],
      "text/plain": [
       "<IPython.core.display.Markdown object>"
      ]
     },
     "metadata": {},
     "output_type": "display_data"
    },
    {
     "data": {
      "text/markdown": [
       "<span style=\"font-size:11pt\">Labels (7 classes): <span style=\"color: #0000ff\">spot,building,farm</span>: 176, <span style=\"color: #0000ff\">stream,lake</span>: 74, <span style=\"color: #0000ff\">road,railroad</span>: 16, <span style=\"color: #0000ff\">parks,area</span>: 28, <span style=\"color: #0000ff\">undersea</span>: 27, <span style=\"color: #0000ff\">mountain,hill,rock</span>: 68, <span style=\"color: #0000ff\">forest,heath</span>: 14</span>"
      ],
      "text/plain": [
       "<IPython.core.display.Markdown object>"
      ]
     },
     "metadata": {},
     "output_type": "display_data"
    },
    {
     "data": {
      "text/markdown": [
       "<span style=\"font-size:11pt\">Eval-Settings: metric: <span style=\"color: #0000ff\">f1</span>, type: <span style=\"color: #0000ff\">one-vs-rest</span>, DT-Depth: <span style=\"color: #0000ff\">1</span>, train-test-split:<span style=\"color: #0000ff\"> 33.0% in test-set </span></span>"
      ],
      "text/plain": [
       "<IPython.core.display.Markdown object>"
      ]
     },
     "metadata": {},
     "output_type": "display_data"
    },
    {
     "data": {
      "text/markdown": [
       "<span style=\"font-size:11pt\">Per-Class-Scores: spot,building,farm: 0.70, stream,lake: 0.54, undersea: 0.15, road,railroad: 0.08, forest,heath: 0.03, parks,area: 0.14, mountain,hill,rock: 0.47</span>"
      ],
      "text/plain": [
       "<IPython.core.display.Markdown object>"
      ]
     },
     "metadata": {},
     "output_type": "display_data"
    },
    {
     "data": {
      "text/markdown": [
       "<span style=\"font-size:11pt\">Unweighted Mean f1: 29.91%</span>"
      ],
      "text/plain": [
       "<IPython.core.display.Markdown object>"
      ]
     },
     "metadata": {},
     "output_type": "display_data"
    },
    {
     "data": {
      "text/markdown": [
       "<span style=\"font-size:11pt\">Weighted Mean f1: 50.57%</span>"
      ],
      "text/plain": [
       "<IPython.core.display.Markdown object>"
      ]
     },
     "metadata": {},
     "output_type": "display_data"
    },
    {
     "data": {
      "text/markdown": [
       "<span style=\"font-size:11pt\">====================================================================================================</span>"
      ],
      "text/plain": [
       "<IPython.core.display.Markdown object>"
      ]
     },
     "metadata": {},
     "output_type": "display_data"
    },
    {
     "data": {
      "text/markdown": [
       "<span style=\"font-size:11pt\">Using classes from Geonames - 403/1383 entities have a class</span>"
      ],
      "text/plain": [
       "<IPython.core.display.Markdown object>"
      ]
     },
     "metadata": {},
     "output_type": "display_data"
    },
    {
     "data": {
      "text/markdown": [
       "<span style=\"font-size:11pt\">Labels (7 classes): <span style=\"color: #0000ff\">spot,building,farm</span>: 176, <span style=\"color: #0000ff\">stream,lake</span>: 74, <span style=\"color: #0000ff\">road,railroad</span>: 16, <span style=\"color: #0000ff\">parks,area</span>: 28, <span style=\"color: #0000ff\">undersea</span>: 27, <span style=\"color: #0000ff\">mountain,hill,rock</span>: 68, <span style=\"color: #0000ff\">forest,heath</span>: 14</span>"
      ],
      "text/plain": [
       "<IPython.core.display.Markdown object>"
      ]
     },
     "metadata": {},
     "output_type": "display_data"
    },
    {
     "data": {
      "text/markdown": [
       "<span style=\"font-size:11pt\">Eval-Settings: metric: <span style=\"color: #0000ff\">accuracy</span>, type: <span style=\"color: #0000ff\">one-vs-rest</span>, DT-Depth: <span style=\"color: #0000ff\">1</span>, train-test-split:<span style=\"color: #0000ff\"> 33.0% in test-set </span></span>"
      ],
      "text/plain": [
       "<IPython.core.display.Markdown object>"
      ]
     },
     "metadata": {},
     "output_type": "display_data"
    },
    {
     "data": {
      "text/markdown": [
       "<span style=\"font-size:11pt\">Per-Class-Scores: spot,building,farm: 0.73, stream,lake: 0.82, undersea: 0.93, road,railroad: 0.96, forest,heath: 0.95, parks,area: 0.92, mountain,hill,rock: 0.89</span>"
      ],
      "text/plain": [
       "<IPython.core.display.Markdown object>"
      ]
     },
     "metadata": {},
     "output_type": "display_data"
    },
    {
     "data": {
      "text/markdown": [
       "<span style=\"font-size:11pt\">Unweighted Mean accuracy: 88.61%</span>"
      ],
      "text/plain": [
       "<IPython.core.display.Markdown object>"
      ]
     },
     "metadata": {},
     "output_type": "display_data"
    },
    {
     "data": {
      "text/markdown": [
       "<span style=\"font-size:11pt\">Weighted Mean accuracy: 81.63%</span>"
      ],
      "text/plain": [
       "<IPython.core.display.Markdown object>"
      ]
     },
     "metadata": {},
     "output_type": "display_data"
    },
    {
     "data": {
      "text/markdown": [
       "<span style=\"font-size:11pt\">====================================================================================================</span>"
      ],
      "text/plain": [
       "<IPython.core.display.Markdown object>"
      ]
     },
     "metadata": {},
     "output_type": "display_data"
    },
    {
     "data": {
      "text/markdown": [
       "<span style=\"font-size:11pt\">Using classes from Geonames - 403/1383 entities have a class</span>"
      ],
      "text/plain": [
       "<IPython.core.display.Markdown object>"
      ]
     },
     "metadata": {},
     "output_type": "display_data"
    },
    {
     "data": {
      "text/markdown": [
       "<span style=\"font-size:11pt\">Labels (7 classes): <span style=\"color: #0000ff\">spot,building,farm</span>: 176, <span style=\"color: #0000ff\">stream,lake</span>: 74, <span style=\"color: #0000ff\">road,railroad</span>: 16, <span style=\"color: #0000ff\">parks,area</span>: 28, <span style=\"color: #0000ff\">undersea</span>: 27, <span style=\"color: #0000ff\">mountain,hill,rock</span>: 68, <span style=\"color: #0000ff\">forest,heath</span>: 14</span>"
      ],
      "text/plain": [
       "<IPython.core.display.Markdown object>"
      ]
     },
     "metadata": {},
     "output_type": "display_data"
    },
    {
     "data": {
      "text/markdown": [
       "<span style=\"font-size:11pt\">Eval-Settings: metric: <span style=\"color: #0000ff\">f1</span>, type: <span style=\"color: #0000ff\">one-vs-rest</span>, DT-Depth: <span style=\"color: #0000ff\">1</span>, train-test-split:<span style=\"color: #0000ff\"> 33.0% in test-set </span></span>"
      ],
      "text/plain": [
       "<IPython.core.display.Markdown object>"
      ]
     },
     "metadata": {},
     "output_type": "display_data"
    },
    {
     "data": {
      "text/markdown": [
       "<span style=\"font-size:11pt\">Per-Class-Scores: spot,building,farm: 0.72, stream,lake: 0.00, undersea: 0.00, road,railroad: 0.00, forest,heath: 0.00, parks,area: 0.00, mountain,hill,rock: 0.00</span>"
      ],
      "text/plain": [
       "<IPython.core.display.Markdown object>"
      ]
     },
     "metadata": {},
     "output_type": "display_data"
    },
    {
     "data": {
      "text/markdown": [
       "<span style=\"font-size:11pt\">Unweighted Mean f1: 10.26%</span>"
      ],
      "text/plain": [
       "<IPython.core.display.Markdown object>"
      ]
     },
     "metadata": {},
     "output_type": "display_data"
    },
    {
     "data": {
      "text/markdown": [
       "<span style=\"font-size:11pt\">Weighted Mean f1: 31.35%</span>"
      ],
      "text/plain": [
       "<IPython.core.display.Markdown object>"
      ]
     },
     "metadata": {},
     "output_type": "display_data"
    },
    {
     "data": {
      "text/markdown": [
       "<span style=\"font-size:11pt\">====================================================================================================</span>"
      ],
      "text/plain": [
       "<IPython.core.display.Markdown object>"
      ]
     },
     "metadata": {},
     "output_type": "display_data"
    },
    {
     "data": {
      "text/markdown": [
       "<span style=\"font-size:11pt\">Using classes from Geonames - 403/1383 entities have a class</span>"
      ],
      "text/plain": [
       "<IPython.core.display.Markdown object>"
      ]
     },
     "metadata": {},
     "output_type": "display_data"
    },
    {
     "data": {
      "text/markdown": [
       "<span style=\"font-size:11pt\">Labels (7 classes): <span style=\"color: #0000ff\">spot,building,farm</span>: 176, <span style=\"color: #0000ff\">stream,lake</span>: 74, <span style=\"color: #0000ff\">road,railroad</span>: 16, <span style=\"color: #0000ff\">parks,area</span>: 28, <span style=\"color: #0000ff\">undersea</span>: 27, <span style=\"color: #0000ff\">mountain,hill,rock</span>: 68, <span style=\"color: #0000ff\">forest,heath</span>: 14</span>"
      ],
      "text/plain": [
       "<IPython.core.display.Markdown object>"
      ]
     },
     "metadata": {},
     "output_type": "display_data"
    },
    {
     "data": {
      "text/markdown": [
       "<span style=\"font-size:11pt\">Eval-Settings: metric: <span style=\"color: #0000ff\">accuracy</span>, type: <span style=\"color: #0000ff\">one-vs-rest</span>, DT-Depth: <span style=\"color: #0000ff\">2</span>, train-test-split:<span style=\"color: #0000ff\"> 33.0% in test-set </span></span>"
      ],
      "text/plain": [
       "<IPython.core.display.Markdown object>"
      ]
     },
     "metadata": {},
     "output_type": "display_data"
    },
    {
     "data": {
      "text/markdown": [
       "<span style=\"font-size:11pt\">Per-Class-Scores: spot,building,farm: 0.82, stream,lake: 0.63, undersea: 0.64, road,railroad: 0.61, forest,heath: 0.86, parks,area: 0.32, mountain,hill,rock: 0.50</span>"
      ],
      "text/plain": [
       "<IPython.core.display.Markdown object>"
      ]
     },
     "metadata": {},
     "output_type": "display_data"
    },
    {
     "data": {
      "text/markdown": [
       "<span style=\"font-size:11pt\">Unweighted Mean accuracy: 62.41%</span>"
      ],
      "text/plain": [
       "<IPython.core.display.Markdown object>"
      ]
     },
     "metadata": {},
     "output_type": "display_data"
    },
    {
     "data": {
      "text/markdown": [
       "<span style=\"font-size:11pt\">Weighted Mean accuracy: 67.63%</span>"
      ],
      "text/plain": [
       "<IPython.core.display.Markdown object>"
      ]
     },
     "metadata": {},
     "output_type": "display_data"
    },
    {
     "data": {
      "text/markdown": [
       "<span style=\"font-size:11pt\">====================================================================================================</span>"
      ],
      "text/plain": [
       "<IPython.core.display.Markdown object>"
      ]
     },
     "metadata": {},
     "output_type": "display_data"
    },
    {
     "data": {
      "text/markdown": [
       "<span style=\"font-size:11pt\">Using classes from Geonames - 403/1383 entities have a class</span>"
      ],
      "text/plain": [
       "<IPython.core.display.Markdown object>"
      ]
     },
     "metadata": {},
     "output_type": "display_data"
    },
    {
     "data": {
      "text/markdown": [
       "<span style=\"font-size:11pt\">Labels (7 classes): <span style=\"color: #0000ff\">spot,building,farm</span>: 176, <span style=\"color: #0000ff\">stream,lake</span>: 74, <span style=\"color: #0000ff\">road,railroad</span>: 16, <span style=\"color: #0000ff\">parks,area</span>: 28, <span style=\"color: #0000ff\">undersea</span>: 27, <span style=\"color: #0000ff\">mountain,hill,rock</span>: 68, <span style=\"color: #0000ff\">forest,heath</span>: 14</span>"
      ],
      "text/plain": [
       "<IPython.core.display.Markdown object>"
      ]
     },
     "metadata": {},
     "output_type": "display_data"
    },
    {
     "data": {
      "text/markdown": [
       "<span style=\"font-size:11pt\">Eval-Settings: metric: <span style=\"color: #0000ff\">f1</span>, type: <span style=\"color: #0000ff\">one-vs-rest</span>, DT-Depth: <span style=\"color: #0000ff\">2</span>, train-test-split:<span style=\"color: #0000ff\"> 33.0% in test-set </span></span>"
      ],
      "text/plain": [
       "<IPython.core.display.Markdown object>"
      ]
     },
     "metadata": {},
     "output_type": "display_data"
    },
    {
     "data": {
      "text/markdown": [
       "<span style=\"font-size:11pt\">Per-Class-Scores: spot,building,farm: 0.76, stream,lake: 0.37, undersea: 0.19, road,railroad: 0.09, forest,heath: 0.07, parks,area: 0.07, mountain,hill,rock: 0.30</span>"
      ],
      "text/plain": [
       "<IPython.core.display.Markdown object>"
      ]
     },
     "metadata": {},
     "output_type": "display_data"
    },
    {
     "data": {
      "text/markdown": [
       "<span style=\"font-size:11pt\">Unweighted Mean f1: 26.50%</span>"
      ],
      "text/plain": [
       "<IPython.core.display.Markdown object>"
      ]
     },
     "metadata": {},
     "output_type": "display_data"
    },
    {
     "data": {
      "text/markdown": [
       "<span style=\"font-size:11pt\">Weighted Mean f1: 47.61%</span>"
      ],
      "text/plain": [
       "<IPython.core.display.Markdown object>"
      ]
     },
     "metadata": {},
     "output_type": "display_data"
    },
    {
     "data": {
      "text/markdown": [
       "<span style=\"font-size:11pt\">====================================================================================================</span>"
      ],
      "text/plain": [
       "<IPython.core.display.Markdown object>"
      ]
     },
     "metadata": {},
     "output_type": "display_data"
    },
    {
     "data": {
      "text/markdown": [
       "<span style=\"font-size:11pt\">Using classes from Geonames - 403/1383 entities have a class</span>"
      ],
      "text/plain": [
       "<IPython.core.display.Markdown object>"
      ]
     },
     "metadata": {},
     "output_type": "display_data"
    },
    {
     "data": {
      "text/markdown": [
       "<span style=\"font-size:11pt\">Labels (7 classes): <span style=\"color: #0000ff\">spot,building,farm</span>: 176, <span style=\"color: #0000ff\">stream,lake</span>: 74, <span style=\"color: #0000ff\">road,railroad</span>: 16, <span style=\"color: #0000ff\">parks,area</span>: 28, <span style=\"color: #0000ff\">undersea</span>: 27, <span style=\"color: #0000ff\">mountain,hill,rock</span>: 68, <span style=\"color: #0000ff\">forest,heath</span>: 14</span>"
      ],
      "text/plain": [
       "<IPython.core.display.Markdown object>"
      ]
     },
     "metadata": {},
     "output_type": "display_data"
    },
    {
     "data": {
      "text/markdown": [
       "<span style=\"font-size:11pt\">Eval-Settings: metric: <span style=\"color: #0000ff\">accuracy</span>, type: <span style=\"color: #0000ff\">one-vs-rest</span>, DT-Depth: <span style=\"color: #0000ff\">2</span>, train-test-split:<span style=\"color: #0000ff\"> 33.0% in test-set </span></span>"
      ],
      "text/plain": [
       "<IPython.core.display.Markdown object>"
      ]
     },
     "metadata": {},
     "output_type": "display_data"
    },
    {
     "data": {
      "text/markdown": [
       "<span style=\"font-size:11pt\">Per-Class-Scores: spot,building,farm: 0.75, stream,lake: 0.86, undersea: 0.91, road,railroad: 0.94, forest,heath: 0.97, parks,area: 0.93, mountain,hill,rock: 0.77</span>"
      ],
      "text/plain": [
       "<IPython.core.display.Markdown object>"
      ]
     },
     "metadata": {},
     "output_type": "display_data"
    },
    {
     "data": {
      "text/markdown": [
       "<span style=\"font-size:11pt\">Unweighted Mean accuracy: 87.65%</span>"
      ],
      "text/plain": [
       "<IPython.core.display.Markdown object>"
      ]
     },
     "metadata": {},
     "output_type": "display_data"
    },
    {
     "data": {
      "text/markdown": [
       "<span style=\"font-size:11pt\">Weighted Mean accuracy: 81.32%</span>"
      ],
      "text/plain": [
       "<IPython.core.display.Markdown object>"
      ]
     },
     "metadata": {},
     "output_type": "display_data"
    },
    {
     "data": {
      "text/markdown": [
       "<span style=\"font-size:11pt\">====================================================================================================</span>"
      ],
      "text/plain": [
       "<IPython.core.display.Markdown object>"
      ]
     },
     "metadata": {},
     "output_type": "display_data"
    },
    {
     "data": {
      "text/markdown": [
       "<span style=\"font-size:11pt\">Using classes from Geonames - 403/1383 entities have a class</span>"
      ],
      "text/plain": [
       "<IPython.core.display.Markdown object>"
      ]
     },
     "metadata": {},
     "output_type": "display_data"
    },
    {
     "data": {
      "text/markdown": [
       "<span style=\"font-size:11pt\">Labels (7 classes): <span style=\"color: #0000ff\">spot,building,farm</span>: 176, <span style=\"color: #0000ff\">stream,lake</span>: 74, <span style=\"color: #0000ff\">road,railroad</span>: 16, <span style=\"color: #0000ff\">parks,area</span>: 28, <span style=\"color: #0000ff\">undersea</span>: 27, <span style=\"color: #0000ff\">mountain,hill,rock</span>: 68, <span style=\"color: #0000ff\">forest,heath</span>: 14</span>"
      ],
      "text/plain": [
       "<IPython.core.display.Markdown object>"
      ]
     },
     "metadata": {},
     "output_type": "display_data"
    },
    {
     "data": {
      "text/markdown": [
       "<span style=\"font-size:11pt\">Eval-Settings: metric: <span style=\"color: #0000ff\">f1</span>, type: <span style=\"color: #0000ff\">one-vs-rest</span>, DT-Depth: <span style=\"color: #0000ff\">2</span>, train-test-split:<span style=\"color: #0000ff\"> 33.0% in test-set </span></span>"
      ],
      "text/plain": [
       "<IPython.core.display.Markdown object>"
      ]
     },
     "metadata": {},
     "output_type": "display_data"
    },
    {
     "data": {
      "text/markdown": [
       "<span style=\"font-size:11pt\">Per-Class-Scores: spot,building,farm: 0.73, stream,lake: 0.11, undersea: 0.00, road,railroad: 0.00, forest,heath: 0.00, parks,area: 0.00, mountain,hill,rock: 0.00</span>"
      ],
      "text/plain": [
       "<IPython.core.display.Markdown object>"
      ]
     },
     "metadata": {},
     "output_type": "display_data"
    },
    {
     "data": {
      "text/markdown": [
       "<span style=\"font-size:11pt\">Unweighted Mean f1: 12.02%</span>"
      ],
      "text/plain": [
       "<IPython.core.display.Markdown object>"
      ]
     },
     "metadata": {},
     "output_type": "display_data"
    },
    {
     "data": {
      "text/markdown": [
       "<span style=\"font-size:11pt\">Weighted Mean f1: 33.86%</span>"
      ],
      "text/plain": [
       "<IPython.core.display.Markdown object>"
      ]
     },
     "metadata": {},
     "output_type": "display_data"
    },
    {
     "data": {
      "text/markdown": [
       "<span style=\"font-size:11pt\">====================================================================================================</span>"
      ],
      "text/plain": [
       "<IPython.core.display.Markdown object>"
      ]
     },
     "metadata": {},
     "output_type": "display_data"
    },
    {
     "data": {
      "text/markdown": [
       "<span style=\"font-size:11pt\">Using classes from Geonames - 403/1383 entities have a class</span>"
      ],
      "text/plain": [
       "<IPython.core.display.Markdown object>"
      ]
     },
     "metadata": {},
     "output_type": "display_data"
    },
    {
     "data": {
      "text/markdown": [
       "<span style=\"font-size:11pt\">Labels (7 classes): <span style=\"color: #0000ff\">spot,building,farm</span>: 176, <span style=\"color: #0000ff\">stream,lake</span>: 74, <span style=\"color: #0000ff\">road,railroad</span>: 16, <span style=\"color: #0000ff\">parks,area</span>: 28, <span style=\"color: #0000ff\">undersea</span>: 27, <span style=\"color: #0000ff\">mountain,hill,rock</span>: 68, <span style=\"color: #0000ff\">forest,heath</span>: 14</span>"
      ],
      "text/plain": [
       "<IPython.core.display.Markdown object>"
      ]
     },
     "metadata": {},
     "output_type": "display_data"
    },
    {
     "data": {
      "text/markdown": [
       "<span style=\"font-size:11pt\">Eval-Settings: metric: <span style=\"color: #0000ff\">accuracy</span>, type: <span style=\"color: #0000ff\">one-vs-rest</span>, DT-Depth: <span style=\"color: #0000ff\">3</span>, train-test-split:<span style=\"color: #0000ff\"> 33.0% in test-set </span></span>"
      ],
      "text/plain": [
       "<IPython.core.display.Markdown object>"
      ]
     },
     "metadata": {},
     "output_type": "display_data"
    },
    {
     "data": {
      "text/markdown": [
       "<span style=\"font-size:11pt\">Per-Class-Scores: spot,building,farm: 0.78, stream,lake: 0.70, undersea: 0.57, road,railroad: 0.74, forest,heath: 0.89, parks,area: 0.57, mountain,hill,rock: 0.53</span>"
      ],
      "text/plain": [
       "<IPython.core.display.Markdown object>"
      ]
     },
     "metadata": {},
     "output_type": "display_data"
    },
    {
     "data": {
      "text/markdown": [
       "<span style=\"font-size:11pt\">Unweighted Mean accuracy: 68.31%</span>"
      ],
      "text/plain": [
       "<IPython.core.display.Markdown object>"
      ]
     },
     "metadata": {},
     "output_type": "display_data"
    },
    {
     "data": {
      "text/markdown": [
       "<span style=\"font-size:11pt\">Weighted Mean accuracy: 69.70%</span>"
      ],
      "text/plain": [
       "<IPython.core.display.Markdown object>"
      ]
     },
     "metadata": {},
     "output_type": "display_data"
    },
    {
     "data": {
      "text/markdown": [
       "<span style=\"font-size:11pt\">====================================================================================================</span>"
      ],
      "text/plain": [
       "<IPython.core.display.Markdown object>"
      ]
     },
     "metadata": {},
     "output_type": "display_data"
    },
    {
     "data": {
      "text/markdown": [
       "<span style=\"font-size:11pt\">Using classes from Geonames - 403/1383 entities have a class</span>"
      ],
      "text/plain": [
       "<IPython.core.display.Markdown object>"
      ]
     },
     "metadata": {},
     "output_type": "display_data"
    },
    {
     "data": {
      "text/markdown": [
       "<span style=\"font-size:11pt\">Labels (7 classes): <span style=\"color: #0000ff\">spot,building,farm</span>: 176, <span style=\"color: #0000ff\">stream,lake</span>: 74, <span style=\"color: #0000ff\">road,railroad</span>: 16, <span style=\"color: #0000ff\">parks,area</span>: 28, <span style=\"color: #0000ff\">undersea</span>: 27, <span style=\"color: #0000ff\">mountain,hill,rock</span>: 68, <span style=\"color: #0000ff\">forest,heath</span>: 14</span>"
      ],
      "text/plain": [
       "<IPython.core.display.Markdown object>"
      ]
     },
     "metadata": {},
     "output_type": "display_data"
    },
    {
     "data": {
      "text/markdown": [
       "<span style=\"font-size:11pt\">Eval-Settings: metric: <span style=\"color: #0000ff\">f1</span>, type: <span style=\"color: #0000ff\">one-vs-rest</span>, DT-Depth: <span style=\"color: #0000ff\">3</span>, train-test-split:<span style=\"color: #0000ff\"> 33.0% in test-set </span></span>"
      ],
      "text/plain": [
       "<IPython.core.display.Markdown object>"
      ]
     },
     "metadata": {},
     "output_type": "display_data"
    },
    {
     "data": {
      "text/markdown": [
       "<span style=\"font-size:11pt\">Per-Class-Scores: spot,building,farm: 0.72, stream,lake: 0.36, undersea: 0.20, road,railroad: 0.12, forest,heath: 0.22, parks,area: 0.16, mountain,hill,rock: 0.45</span>"
      ],
      "text/plain": [
       "<IPython.core.display.Markdown object>"
      ]
     },
     "metadata": {},
     "output_type": "display_data"
    },
    {
     "data": {
      "text/markdown": [
       "<span style=\"font-size:11pt\">Unweighted Mean f1: 31.66%</span>"
      ],
      "text/plain": [
       "<IPython.core.display.Markdown object>"
      ]
     },
     "metadata": {},
     "output_type": "display_data"
    },
    {
     "data": {
      "text/markdown": [
       "<span style=\"font-size:11pt\">Weighted Mean f1: 49.02%</span>"
      ],
      "text/plain": [
       "<IPython.core.display.Markdown object>"
      ]
     },
     "metadata": {},
     "output_type": "display_data"
    },
    {
     "data": {
      "text/markdown": [
       "<span style=\"font-size:11pt\">====================================================================================================</span>"
      ],
      "text/plain": [
       "<IPython.core.display.Markdown object>"
      ]
     },
     "metadata": {},
     "output_type": "display_data"
    },
    {
     "data": {
      "text/markdown": [
       "<span style=\"font-size:11pt\">Using classes from Geonames - 403/1383 entities have a class</span>"
      ],
      "text/plain": [
       "<IPython.core.display.Markdown object>"
      ]
     },
     "metadata": {},
     "output_type": "display_data"
    },
    {
     "data": {
      "text/markdown": [
       "<span style=\"font-size:11pt\">Labels (7 classes): <span style=\"color: #0000ff\">spot,building,farm</span>: 176, <span style=\"color: #0000ff\">stream,lake</span>: 74, <span style=\"color: #0000ff\">road,railroad</span>: 16, <span style=\"color: #0000ff\">parks,area</span>: 28, <span style=\"color: #0000ff\">undersea</span>: 27, <span style=\"color: #0000ff\">mountain,hill,rock</span>: 68, <span style=\"color: #0000ff\">forest,heath</span>: 14</span>"
      ],
      "text/plain": [
       "<IPython.core.display.Markdown object>"
      ]
     },
     "metadata": {},
     "output_type": "display_data"
    },
    {
     "data": {
      "text/markdown": [
       "<span style=\"font-size:11pt\">Eval-Settings: metric: <span style=\"color: #0000ff\">accuracy</span>, type: <span style=\"color: #0000ff\">one-vs-rest</span>, DT-Depth: <span style=\"color: #0000ff\">3</span>, train-test-split:<span style=\"color: #0000ff\"> 33.0% in test-set </span></span>"
      ],
      "text/plain": [
       "<IPython.core.display.Markdown object>"
      ]
     },
     "metadata": {},
     "output_type": "display_data"
    },
    {
     "data": {
      "text/markdown": [
       "<span style=\"font-size:11pt\">Per-Class-Scores: spot,building,farm: 0.74, stream,lake: 0.77, undersea: 0.89, road,railroad: 0.95, forest,heath: 0.95, parks,area: 0.91, mountain,hill,rock: 0.77</span>"
      ],
      "text/plain": [
       "<IPython.core.display.Markdown object>"
      ]
     },
     "metadata": {},
     "output_type": "display_data"
    },
    {
     "data": {
      "text/markdown": [
       "<span style=\"font-size:11pt\">Unweighted Mean accuracy: 85.50%</span>"
      ],
      "text/plain": [
       "<IPython.core.display.Markdown object>"
      ]
     },
     "metadata": {},
     "output_type": "display_data"
    },
    {
     "data": {
      "text/markdown": [
       "<span style=\"font-size:11pt\">Weighted Mean accuracy: 78.72%</span>"
      ],
      "text/plain": [
       "<IPython.core.display.Markdown object>"
      ]
     },
     "metadata": {},
     "output_type": "display_data"
    },
    {
     "data": {
      "text/markdown": [
       "<span style=\"font-size:11pt\">====================================================================================================</span>"
      ],
      "text/plain": [
       "<IPython.core.display.Markdown object>"
      ]
     },
     "metadata": {},
     "output_type": "display_data"
    },
    {
     "data": {
      "text/markdown": [
       "<span style=\"font-size:11pt\">Using classes from Geonames - 403/1383 entities have a class</span>"
      ],
      "text/plain": [
       "<IPython.core.display.Markdown object>"
      ]
     },
     "metadata": {},
     "output_type": "display_data"
    },
    {
     "data": {
      "text/markdown": [
       "<span style=\"font-size:11pt\">Labels (7 classes): <span style=\"color: #0000ff\">spot,building,farm</span>: 176, <span style=\"color: #0000ff\">stream,lake</span>: 74, <span style=\"color: #0000ff\">road,railroad</span>: 16, <span style=\"color: #0000ff\">parks,area</span>: 28, <span style=\"color: #0000ff\">undersea</span>: 27, <span style=\"color: #0000ff\">mountain,hill,rock</span>: 68, <span style=\"color: #0000ff\">forest,heath</span>: 14</span>"
      ],
      "text/plain": [
       "<IPython.core.display.Markdown object>"
      ]
     },
     "metadata": {},
     "output_type": "display_data"
    },
    {
     "data": {
      "text/markdown": [
       "<span style=\"font-size:11pt\">Eval-Settings: metric: <span style=\"color: #0000ff\">f1</span>, type: <span style=\"color: #0000ff\">one-vs-rest</span>, DT-Depth: <span style=\"color: #0000ff\">3</span>, train-test-split:<span style=\"color: #0000ff\"> 33.0% in test-set </span></span>"
      ],
      "text/plain": [
       "<IPython.core.display.Markdown object>"
      ]
     },
     "metadata": {},
     "output_type": "display_data"
    },
    {
     "data": {
      "text/markdown": [
       "<span style=\"font-size:11pt\">Per-Class-Scores: spot,building,farm: 0.75, stream,lake: 0.06, undersea: 0.00, road,railroad: 0.00, forest,heath: 0.00, parks,area: 0.00, mountain,hill,rock: 0.16</span>"
      ],
      "text/plain": [
       "<IPython.core.display.Markdown object>"
      ]
     },
     "metadata": {},
     "output_type": "display_data"
    },
    {
     "data": {
      "text/markdown": [
       "<span style=\"font-size:11pt\">Unweighted Mean f1: 13.79%</span>"
      ],
      "text/plain": [
       "<IPython.core.display.Markdown object>"
      ]
     },
     "metadata": {},
     "output_type": "display_data"
    },
    {
     "data": {
      "text/markdown": [
       "<span style=\"font-size:11pt\">Weighted Mean f1: 36.53%</span>"
      ],
      "text/plain": [
       "<IPython.core.display.Markdown object>"
      ]
     },
     "metadata": {},
     "output_type": "display_data"
    },
    {
     "data": {
      "text/markdown": [
       "<span style=\"font-size:11pt\">====================================================================================================</span>"
      ],
      "text/plain": [
       "<IPython.core.display.Markdown object>"
      ]
     },
     "metadata": {},
     "output_type": "display_data"
    },
    {
     "data": {
      "text/markdown": [
       "<span style=\"font-size:11pt\">Using classes from Geonames - 403/1383 entities have a class</span>"
      ],
      "text/plain": [
       "<IPython.core.display.Markdown object>"
      ]
     },
     "metadata": {},
     "output_type": "display_data"
    },
    {
     "data": {
      "text/markdown": [
       "<span style=\"font-size:11pt\">Labels (7 classes): <span style=\"color: #0000ff\">spot,building,farm</span>: 176, <span style=\"color: #0000ff\">stream,lake</span>: 74, <span style=\"color: #0000ff\">road,railroad</span>: 16, <span style=\"color: #0000ff\">parks,area</span>: 28, <span style=\"color: #0000ff\">undersea</span>: 27, <span style=\"color: #0000ff\">mountain,hill,rock</span>: 68, <span style=\"color: #0000ff\">forest,heath</span>: 14</span>"
      ],
      "text/plain": [
       "<IPython.core.display.Markdown object>"
      ]
     },
     "metadata": {},
     "output_type": "display_data"
    },
    {
     "data": {
      "text/markdown": [
       "<span style=\"font-size:11pt\">Eval-Settings: metric: <span style=\"color: #0000ff\">accuracy</span>, type: <span style=\"color: #0000ff\">one-vs-rest</span>, DT-Depth: <span style=\"color: #0000ff\">None</span>, train-test-split:<span style=\"color: #0000ff\"> 33.0% in test-set </span></span>"
      ],
      "text/plain": [
       "<IPython.core.display.Markdown object>"
      ]
     },
     "metadata": {},
     "output_type": "display_data"
    },
    {
     "data": {
      "text/markdown": [
       "<span style=\"font-size:11pt\">Per-Class-Scores: spot,building,farm: 0.67, stream,lake: 0.79, undersea: 0.87, road,railroad: 0.95, forest,heath: 0.97, parks,area: 0.91, mountain,hill,rock: 0.76</span>"
      ],
      "text/plain": [
       "<IPython.core.display.Markdown object>"
      ]
     },
     "metadata": {},
     "output_type": "display_data"
    },
    {
     "data": {
      "text/markdown": [
       "<span style=\"font-size:11pt\">Unweighted Mean accuracy: 84.53%</span>"
      ],
      "text/plain": [
       "<IPython.core.display.Markdown object>"
      ]
     },
     "metadata": {},
     "output_type": "display_data"
    },
    {
     "data": {
      "text/markdown": [
       "<span style=\"font-size:11pt\">Weighted Mean accuracy: 75.83%</span>"
      ],
      "text/plain": [
       "<IPython.core.display.Markdown object>"
      ]
     },
     "metadata": {},
     "output_type": "display_data"
    },
    {
     "data": {
      "text/markdown": [
       "<span style=\"font-size:11pt\">====================================================================================================</span>"
      ],
      "text/plain": [
       "<IPython.core.display.Markdown object>"
      ]
     },
     "metadata": {},
     "output_type": "display_data"
    },
    {
     "data": {
      "text/markdown": [
       "<span style=\"font-size:11pt\">Using classes from Geonames - 403/1383 entities have a class</span>"
      ],
      "text/plain": [
       "<IPython.core.display.Markdown object>"
      ]
     },
     "metadata": {},
     "output_type": "display_data"
    },
    {
     "data": {
      "text/markdown": [
       "<span style=\"font-size:11pt\">Labels (7 classes): <span style=\"color: #0000ff\">spot,building,farm</span>: 176, <span style=\"color: #0000ff\">stream,lake</span>: 74, <span style=\"color: #0000ff\">road,railroad</span>: 16, <span style=\"color: #0000ff\">parks,area</span>: 28, <span style=\"color: #0000ff\">undersea</span>: 27, <span style=\"color: #0000ff\">mountain,hill,rock</span>: 68, <span style=\"color: #0000ff\">forest,heath</span>: 14</span>"
      ],
      "text/plain": [
       "<IPython.core.display.Markdown object>"
      ]
     },
     "metadata": {},
     "output_type": "display_data"
    },
    {
     "data": {
      "text/markdown": [
       "<span style=\"font-size:11pt\">Eval-Settings: metric: <span style=\"color: #0000ff\">f1</span>, type: <span style=\"color: #0000ff\">one-vs-rest</span>, DT-Depth: <span style=\"color: #0000ff\">None</span>, train-test-split:<span style=\"color: #0000ff\"> 33.0% in test-set </span></span>"
      ],
      "text/plain": [
       "<IPython.core.display.Markdown object>"
      ]
     },
     "metadata": {},
     "output_type": "display_data"
    },
    {
     "data": {
      "text/markdown": [
       "<span style=\"font-size:11pt\">Per-Class-Scores: spot,building,farm: 0.72, stream,lake: 0.13, undersea: 0.00, road,railroad: 0.15, forest,heath: 0.20, parks,area: 0.00, mountain,hill,rock: 0.39</span>"
      ],
      "text/plain": [
       "<IPython.core.display.Markdown object>"
      ]
     },
     "metadata": {},
     "output_type": "display_data"
    },
    {
     "data": {
      "text/markdown": [
       "<span style=\"font-size:11pt\">Unweighted Mean f1: 22.76%</span>"
      ],
      "text/plain": [
       "<IPython.core.display.Markdown object>"
      ]
     },
     "metadata": {},
     "output_type": "display_data"
    },
    {
     "data": {
      "text/markdown": [
       "<span style=\"font-size:11pt\">Weighted Mean f1: 41.58%</span>"
      ],
      "text/plain": [
       "<IPython.core.display.Markdown object>"
      ]
     },
     "metadata": {},
     "output_type": "display_data"
    },
    {
     "data": {
      "text/markdown": [
       "<span style=\"font-size:11pt\">====================================================================================================</span>"
      ],
      "text/plain": [
       "<IPython.core.display.Markdown object>"
      ]
     },
     "metadata": {},
     "output_type": "display_data"
    },
    {
     "data": {
      "text/markdown": [
       "<span style=\"font-size:11pt\">Using classes from Geonames - 403/1383 entities have a class</span>"
      ],
      "text/plain": [
       "<IPython.core.display.Markdown object>"
      ]
     },
     "metadata": {},
     "output_type": "display_data"
    },
    {
     "data": {
      "text/markdown": [
       "<span style=\"font-size:11pt\">Labels (7 classes): <span style=\"color: #0000ff\">spot,building,farm</span>: 176, <span style=\"color: #0000ff\">stream,lake</span>: 74, <span style=\"color: #0000ff\">road,railroad</span>: 16, <span style=\"color: #0000ff\">parks,area</span>: 28, <span style=\"color: #0000ff\">undersea</span>: 27, <span style=\"color: #0000ff\">mountain,hill,rock</span>: 68, <span style=\"color: #0000ff\">forest,heath</span>: 14</span>"
      ],
      "text/plain": [
       "<IPython.core.display.Markdown object>"
      ]
     },
     "metadata": {},
     "output_type": "display_data"
    },
    {
     "data": {
      "text/markdown": [
       "<span style=\"font-size:11pt\">Eval-Settings: metric: <span style=\"color: #0000ff\">accuracy</span>, type: <span style=\"color: #0000ff\">one-vs-rest</span>, DT-Depth: <span style=\"color: #0000ff\">None</span>, train-test-split:<span style=\"color: #0000ff\"> 33.0% in test-set </span></span>"
      ],
      "text/plain": [
       "<IPython.core.display.Markdown object>"
      ]
     },
     "metadata": {},
     "output_type": "display_data"
    },
    {
     "data": {
      "text/markdown": [
       "<span style=\"font-size:11pt\">Per-Class-Scores: spot,building,farm: 0.68, stream,lake: 0.77, undersea: 0.91, road,railroad: 0.93, forest,heath: 0.95, parks,area: 0.86, mountain,hill,rock: 0.77</span>"
      ],
      "text/plain": [
       "<IPython.core.display.Markdown object>"
      ]
     },
     "metadata": {},
     "output_type": "display_data"
    },
    {
     "data": {
      "text/markdown": [
       "<span style=\"font-size:11pt\">Unweighted Mean accuracy: 84.21%</span>"
      ],
      "text/plain": [
       "<IPython.core.display.Markdown object>"
      ]
     },
     "metadata": {},
     "output_type": "display_data"
    },
    {
     "data": {
      "text/markdown": [
       "<span style=\"font-size:11pt\">Weighted Mean accuracy: 76.29%</span>"
      ],
      "text/plain": [
       "<IPython.core.display.Markdown object>"
      ]
     },
     "metadata": {},
     "output_type": "display_data"
    },
    {
     "data": {
      "text/markdown": [
       "<span style=\"font-size:11pt\">====================================================================================================</span>"
      ],
      "text/plain": [
       "<IPython.core.display.Markdown object>"
      ]
     },
     "metadata": {},
     "output_type": "display_data"
    },
    {
     "data": {
      "text/markdown": [
       "<span style=\"font-size:11pt\">Using classes from Geonames - 403/1383 entities have a class</span>"
      ],
      "text/plain": [
       "<IPython.core.display.Markdown object>"
      ]
     },
     "metadata": {},
     "output_type": "display_data"
    },
    {
     "data": {
      "text/markdown": [
       "<span style=\"font-size:11pt\">Labels (7 classes): <span style=\"color: #0000ff\">spot,building,farm</span>: 176, <span style=\"color: #0000ff\">stream,lake</span>: 74, <span style=\"color: #0000ff\">road,railroad</span>: 16, <span style=\"color: #0000ff\">parks,area</span>: 28, <span style=\"color: #0000ff\">undersea</span>: 27, <span style=\"color: #0000ff\">mountain,hill,rock</span>: 68, <span style=\"color: #0000ff\">forest,heath</span>: 14</span>"
      ],
      "text/plain": [
       "<IPython.core.display.Markdown object>"
      ]
     },
     "metadata": {},
     "output_type": "display_data"
    },
    {
     "data": {
      "text/markdown": [
       "<span style=\"font-size:11pt\">Eval-Settings: metric: <span style=\"color: #0000ff\">f1</span>, type: <span style=\"color: #0000ff\">one-vs-rest</span>, DT-Depth: <span style=\"color: #0000ff\">None</span>, train-test-split:<span style=\"color: #0000ff\"> 33.0% in test-set </span></span>"
      ],
      "text/plain": [
       "<IPython.core.display.Markdown object>"
      ]
     },
     "metadata": {},
     "output_type": "display_data"
    },
    {
     "data": {
      "text/markdown": [
       "<span style=\"font-size:11pt\">Per-Class-Scores: spot,building,farm: 0.71, stream,lake: 0.27, undersea: 0.00, road,railroad: 0.14, forest,heath: 0.00, parks,area: 0.00, mountain,hill,rock: 0.30</span>"
      ],
      "text/plain": [
       "<IPython.core.display.Markdown object>"
      ]
     },
     "metadata": {},
     "output_type": "display_data"
    },
    {
     "data": {
      "text/markdown": [
       "<span style=\"font-size:11pt\">Unweighted Mean f1: 20.44%</span>"
      ],
      "text/plain": [
       "<IPython.core.display.Markdown object>"
      ]
     },
     "metadata": {},
     "output_type": "display_data"
    },
    {
     "data": {
      "text/markdown": [
       "<span style=\"font-size:11pt\">Weighted Mean f1: 41.84%</span>"
      ],
      "text/plain": [
       "<IPython.core.display.Markdown object>"
      ]
     },
     "metadata": {},
     "output_type": "display_data"
    },
    {
     "data": {
      "text/markdown": [
       "<span style=\"font-size:11pt\">====================================================================================================</span>"
      ],
      "text/plain": [
       "<IPython.core.display.Markdown object>"
      ]
     },
     "metadata": {},
     "output_type": "display_data"
    },
    {
     "data": {
      "text/markdown": [
       "<span style=\"font-size:11pt\">Using classes from Geonames - 403/1383 entities have a class</span>"
      ],
      "text/plain": [
       "<IPython.core.display.Markdown object>"
      ]
     },
     "metadata": {},
     "output_type": "display_data"
    },
    {
     "data": {
      "text/markdown": [
       "<span style=\"font-size:11pt\">Labels (7 classes): <span style=\"color: #0000ff\">spot,building,farm</span>: 176, <span style=\"color: #0000ff\">stream,lake</span>: 74, <span style=\"color: #0000ff\">road,railroad</span>: 16, <span style=\"color: #0000ff\">parks,area</span>: 28, <span style=\"color: #0000ff\">undersea</span>: 27, <span style=\"color: #0000ff\">mountain,hill,rock</span>: 68, <span style=\"color: #0000ff\">forest,heath</span>: 14</span>"
      ],
      "text/plain": [
       "<IPython.core.display.Markdown object>"
      ]
     },
     "metadata": {},
     "output_type": "display_data"
    },
    {
     "data": {
      "text/markdown": [
       "<span style=\"font-size:11pt\">Eval-Settings: metric: <span style=\"color: #0000ff\">accuracy</span>, type: <span style=\"color: #0000ff\">all-at-once</span>, DT-Depth: <span style=\"color: #0000ff\">1</span>, train-test-split:<span style=\"color: #0000ff\"> 33.0% in test-set </span></span>"
      ],
      "text/plain": [
       "<IPython.core.display.Markdown object>"
      ]
     },
     "metadata": {},
     "output_type": "display_data"
    },
    {
     "name": "stderr",
     "output_type": "stream",
     "text": [
      "derive_conceptualspace/evaluate/shallow_trees.py:123: UserWarning: There are more classes (7) than your decision-tree can possibly classify (2)\n"
     ]
    },
    {
     "data": {
      "text/markdown": [
       "<span style=\"font-size:11pt\">accuracy: 0.15</span>"
      ],
      "text/plain": [
       "<IPython.core.display.Markdown object>"
      ]
     },
     "metadata": {},
     "output_type": "display_data"
    },
    {
     "data": {
      "text/markdown": [
       "<span style=\"font-size:11pt\">Baseline accuracy: 0.44</span>"
      ],
      "text/plain": [
       "<IPython.core.display.Markdown object>"
      ]
     },
     "metadata": {},
     "output_type": "display_data"
    },
    {
     "data": {
      "text/markdown": [
       "<span style=\"font-size:11pt\">Maximally achievable accuracy: 0.62</span>"
      ],
      "text/plain": [
       "<IPython.core.display.Markdown object>"
      ]
     },
     "metadata": {},
     "output_type": "display_data"
    },
    {
     "data": {
      "text/markdown": [
       "<span style=\"font-size:11pt\">====================================================================================================</span>"
      ],
      "text/plain": [
       "<IPython.core.display.Markdown object>"
      ]
     },
     "metadata": {},
     "output_type": "display_data"
    },
    {
     "data": {
      "text/markdown": [
       "<span style=\"font-size:11pt\">Using classes from Geonames - 403/1383 entities have a class</span>"
      ],
      "text/plain": [
       "<IPython.core.display.Markdown object>"
      ]
     },
     "metadata": {},
     "output_type": "display_data"
    },
    {
     "data": {
      "text/markdown": [
       "<span style=\"font-size:11pt\">Labels (7 classes): <span style=\"color: #0000ff\">spot,building,farm</span>: 176, <span style=\"color: #0000ff\">stream,lake</span>: 74, <span style=\"color: #0000ff\">road,railroad</span>: 16, <span style=\"color: #0000ff\">parks,area</span>: 28, <span style=\"color: #0000ff\">undersea</span>: 27, <span style=\"color: #0000ff\">mountain,hill,rock</span>: 68, <span style=\"color: #0000ff\">forest,heath</span>: 14</span>"
      ],
      "text/plain": [
       "<IPython.core.display.Markdown object>"
      ]
     },
     "metadata": {},
     "output_type": "display_data"
    },
    {
     "data": {
      "text/markdown": [
       "<span style=\"font-size:11pt\">Eval-Settings: metric: <span style=\"color: #0000ff\">f1</span>, type: <span style=\"color: #0000ff\">all-at-once</span>, DT-Depth: <span style=\"color: #0000ff\">1</span>, train-test-split:<span style=\"color: #0000ff\"> 33.0% in test-set </span></span>"
      ],
      "text/plain": [
       "<IPython.core.display.Markdown object>"
      ]
     },
     "metadata": {},
     "output_type": "display_data"
    },
    {
     "name": "stderr",
     "output_type": "stream",
     "text": [
      "derive_conceptualspace/evaluate/shallow_trees.py:123: UserWarning: There are more classes (7) than your decision-tree can possibly classify (2)\n"
     ]
    },
    {
     "data": {
      "text/markdown": [
       "<span style=\"font-size:11pt\">f1: 0.17</span>"
      ],
      "text/plain": [
       "<IPython.core.display.Markdown object>"
      ]
     },
     "metadata": {},
     "output_type": "display_data"
    },
    {
     "data": {
      "text/markdown": [
       "<span style=\"font-size:11pt\">Baseline f1: 0.44</span>"
      ],
      "text/plain": [
       "<IPython.core.display.Markdown object>"
      ]
     },
     "metadata": {},
     "output_type": "display_data"
    },
    {
     "data": {
      "text/markdown": [
       "<span style=\"font-size:11pt\">====================================================================================================</span>"
      ],
      "text/plain": [
       "<IPython.core.display.Markdown object>"
      ]
     },
     "metadata": {},
     "output_type": "display_data"
    },
    {
     "data": {
      "text/markdown": [
       "<span style=\"font-size:11pt\">Using classes from Geonames - 403/1383 entities have a class</span>"
      ],
      "text/plain": [
       "<IPython.core.display.Markdown object>"
      ]
     },
     "metadata": {},
     "output_type": "display_data"
    },
    {
     "data": {
      "text/markdown": [
       "<span style=\"font-size:11pt\">Labels (7 classes): <span style=\"color: #0000ff\">spot,building,farm</span>: 176, <span style=\"color: #0000ff\">stream,lake</span>: 74, <span style=\"color: #0000ff\">road,railroad</span>: 16, <span style=\"color: #0000ff\">parks,area</span>: 28, <span style=\"color: #0000ff\">undersea</span>: 27, <span style=\"color: #0000ff\">mountain,hill,rock</span>: 68, <span style=\"color: #0000ff\">forest,heath</span>: 14</span>"
      ],
      "text/plain": [
       "<IPython.core.display.Markdown object>"
      ]
     },
     "metadata": {},
     "output_type": "display_data"
    },
    {
     "data": {
      "text/markdown": [
       "<span style=\"font-size:11pt\">Eval-Settings: metric: <span style=\"color: #0000ff\">accuracy</span>, type: <span style=\"color: #0000ff\">all-at-once</span>, DT-Depth: <span style=\"color: #0000ff\">1</span>, train-test-split:<span style=\"color: #0000ff\"> 33.0% in test-set </span></span>"
      ],
      "text/plain": [
       "<IPython.core.display.Markdown object>"
      ]
     },
     "metadata": {},
     "output_type": "display_data"
    },
    {
     "name": "stderr",
     "output_type": "stream",
     "text": [
      "derive_conceptualspace/evaluate/shallow_trees.py:123: UserWarning: There are more classes (7) than your decision-tree can possibly classify (2)\n"
     ]
    },
    {
     "data": {
      "text/markdown": [
       "<span style=\"font-size:11pt\">accuracy: 0.45</span>"
      ],
      "text/plain": [
       "<IPython.core.display.Markdown object>"
      ]
     },
     "metadata": {},
     "output_type": "display_data"
    },
    {
     "data": {
      "text/markdown": [
       "<span style=\"font-size:11pt\">Baseline accuracy: 0.44</span>"
      ],
      "text/plain": [
       "<IPython.core.display.Markdown object>"
      ]
     },
     "metadata": {},
     "output_type": "display_data"
    },
    {
     "data": {
      "text/markdown": [
       "<span style=\"font-size:11pt\">Maximally achievable accuracy: 0.62</span>"
      ],
      "text/plain": [
       "<IPython.core.display.Markdown object>"
      ]
     },
     "metadata": {},
     "output_type": "display_data"
    },
    {
     "data": {
      "text/markdown": [
       "<span style=\"font-size:11pt\">====================================================================================================</span>"
      ],
      "text/plain": [
       "<IPython.core.display.Markdown object>"
      ]
     },
     "metadata": {},
     "output_type": "display_data"
    },
    {
     "data": {
      "text/markdown": [
       "<span style=\"font-size:11pt\">Using classes from Geonames - 403/1383 entities have a class</span>"
      ],
      "text/plain": [
       "<IPython.core.display.Markdown object>"
      ]
     },
     "metadata": {},
     "output_type": "display_data"
    },
    {
     "data": {
      "text/markdown": [
       "<span style=\"font-size:11pt\">Labels (7 classes): <span style=\"color: #0000ff\">spot,building,farm</span>: 176, <span style=\"color: #0000ff\">stream,lake</span>: 74, <span style=\"color: #0000ff\">road,railroad</span>: 16, <span style=\"color: #0000ff\">parks,area</span>: 28, <span style=\"color: #0000ff\">undersea</span>: 27, <span style=\"color: #0000ff\">mountain,hill,rock</span>: 68, <span style=\"color: #0000ff\">forest,heath</span>: 14</span>"
      ],
      "text/plain": [
       "<IPython.core.display.Markdown object>"
      ]
     },
     "metadata": {},
     "output_type": "display_data"
    },
    {
     "data": {
      "text/markdown": [
       "<span style=\"font-size:11pt\">Eval-Settings: metric: <span style=\"color: #0000ff\">f1</span>, type: <span style=\"color: #0000ff\">all-at-once</span>, DT-Depth: <span style=\"color: #0000ff\">1</span>, train-test-split:<span style=\"color: #0000ff\"> 33.0% in test-set </span></span>"
      ],
      "text/plain": [
       "<IPython.core.display.Markdown object>"
      ]
     },
     "metadata": {},
     "output_type": "display_data"
    },
    {
     "name": "stderr",
     "output_type": "stream",
     "text": [
      "derive_conceptualspace/evaluate/shallow_trees.py:123: UserWarning: There are more classes (7) than your decision-tree can possibly classify (2)\n"
     ]
    },
    {
     "data": {
      "text/markdown": [
       "<span style=\"font-size:11pt\">f1: 0.56</span>"
      ],
      "text/plain": [
       "<IPython.core.display.Markdown object>"
      ]
     },
     "metadata": {},
     "output_type": "display_data"
    },
    {
     "data": {
      "text/markdown": [
       "<span style=\"font-size:11pt\">Baseline f1: 0.44</span>"
      ],
      "text/plain": [
       "<IPython.core.display.Markdown object>"
      ]
     },
     "metadata": {},
     "output_type": "display_data"
    },
    {
     "data": {
      "text/markdown": [
       "<span style=\"font-size:11pt\">====================================================================================================</span>"
      ],
      "text/plain": [
       "<IPython.core.display.Markdown object>"
      ]
     },
     "metadata": {},
     "output_type": "display_data"
    },
    {
     "data": {
      "text/markdown": [
       "<span style=\"font-size:11pt\">Using classes from Geonames - 403/1383 entities have a class</span>"
      ],
      "text/plain": [
       "<IPython.core.display.Markdown object>"
      ]
     },
     "metadata": {},
     "output_type": "display_data"
    },
    {
     "data": {
      "text/markdown": [
       "<span style=\"font-size:11pt\">Labels (7 classes): <span style=\"color: #0000ff\">spot,building,farm</span>: 176, <span style=\"color: #0000ff\">stream,lake</span>: 74, <span style=\"color: #0000ff\">road,railroad</span>: 16, <span style=\"color: #0000ff\">parks,area</span>: 28, <span style=\"color: #0000ff\">undersea</span>: 27, <span style=\"color: #0000ff\">mountain,hill,rock</span>: 68, <span style=\"color: #0000ff\">forest,heath</span>: 14</span>"
      ],
      "text/plain": [
       "<IPython.core.display.Markdown object>"
      ]
     },
     "metadata": {},
     "output_type": "display_data"
    },
    {
     "data": {
      "text/markdown": [
       "<span style=\"font-size:11pt\">Eval-Settings: metric: <span style=\"color: #0000ff\">accuracy</span>, type: <span style=\"color: #0000ff\">all-at-once</span>, DT-Depth: <span style=\"color: #0000ff\">2</span>, train-test-split:<span style=\"color: #0000ff\"> 33.0% in test-set </span></span>"
      ],
      "text/plain": [
       "<IPython.core.display.Markdown object>"
      ]
     },
     "metadata": {},
     "output_type": "display_data"
    },
    {
     "name": "stderr",
     "output_type": "stream",
     "text": [
      "derive_conceptualspace/evaluate/shallow_trees.py:123: UserWarning: There are more classes (7) than your decision-tree can possibly classify (4)\n"
     ]
    },
    {
     "data": {
      "text/markdown": [
       "<span style=\"font-size:11pt\">accuracy: 0.30</span>"
      ],
      "text/plain": [
       "<IPython.core.display.Markdown object>"
      ]
     },
     "metadata": {},
     "output_type": "display_data"
    },
    {
     "data": {
      "text/markdown": [
       "<span style=\"font-size:11pt\">====================================================================================================</span>"
      ],
      "text/plain": [
       "<IPython.core.display.Markdown object>"
      ]
     },
     "metadata": {},
     "output_type": "display_data"
    },
    {
     "data": {
      "text/markdown": [
       "<span style=\"font-size:11pt\">Using classes from Geonames - 403/1383 entities have a class</span>"
      ],
      "text/plain": [
       "<IPython.core.display.Markdown object>"
      ]
     },
     "metadata": {},
     "output_type": "display_data"
    },
    {
     "data": {
      "text/markdown": [
       "<span style=\"font-size:11pt\">Labels (7 classes): <span style=\"color: #0000ff\">spot,building,farm</span>: 176, <span style=\"color: #0000ff\">stream,lake</span>: 74, <span style=\"color: #0000ff\">road,railroad</span>: 16, <span style=\"color: #0000ff\">parks,area</span>: 28, <span style=\"color: #0000ff\">undersea</span>: 27, <span style=\"color: #0000ff\">mountain,hill,rock</span>: 68, <span style=\"color: #0000ff\">forest,heath</span>: 14</span>"
      ],
      "text/plain": [
       "<IPython.core.display.Markdown object>"
      ]
     },
     "metadata": {},
     "output_type": "display_data"
    },
    {
     "data": {
      "text/markdown": [
       "<span style=\"font-size:11pt\">Eval-Settings: metric: <span style=\"color: #0000ff\">f1</span>, type: <span style=\"color: #0000ff\">all-at-once</span>, DT-Depth: <span style=\"color: #0000ff\">2</span>, train-test-split:<span style=\"color: #0000ff\"> 33.0% in test-set </span></span>"
      ],
      "text/plain": [
       "<IPython.core.display.Markdown object>"
      ]
     },
     "metadata": {},
     "output_type": "display_data"
    },
    {
     "name": "stderr",
     "output_type": "stream",
     "text": [
      "derive_conceptualspace/evaluate/shallow_trees.py:123: UserWarning: There are more classes (7) than your decision-tree can possibly classify (4)\n"
     ]
    },
    {
     "data": {
      "text/markdown": [
       "<span style=\"font-size:11pt\">f1: 0.36</span>"
      ],
      "text/plain": [
       "<IPython.core.display.Markdown object>"
      ]
     },
     "metadata": {},
     "output_type": "display_data"
    },
    {
     "data": {
      "text/markdown": [
       "<span style=\"font-size:11pt\">====================================================================================================</span>"
      ],
      "text/plain": [
       "<IPython.core.display.Markdown object>"
      ]
     },
     "metadata": {},
     "output_type": "display_data"
    },
    {
     "data": {
      "text/markdown": [
       "<span style=\"font-size:11pt\">Using classes from Geonames - 403/1383 entities have a class</span>"
      ],
      "text/plain": [
       "<IPython.core.display.Markdown object>"
      ]
     },
     "metadata": {},
     "output_type": "display_data"
    },
    {
     "data": {
      "text/markdown": [
       "<span style=\"font-size:11pt\">Labels (7 classes): <span style=\"color: #0000ff\">spot,building,farm</span>: 176, <span style=\"color: #0000ff\">stream,lake</span>: 74, <span style=\"color: #0000ff\">road,railroad</span>: 16, <span style=\"color: #0000ff\">parks,area</span>: 28, <span style=\"color: #0000ff\">undersea</span>: 27, <span style=\"color: #0000ff\">mountain,hill,rock</span>: 68, <span style=\"color: #0000ff\">forest,heath</span>: 14</span>"
      ],
      "text/plain": [
       "<IPython.core.display.Markdown object>"
      ]
     },
     "metadata": {},
     "output_type": "display_data"
    },
    {
     "data": {
      "text/markdown": [
       "<span style=\"font-size:11pt\">Eval-Settings: metric: <span style=\"color: #0000ff\">accuracy</span>, type: <span style=\"color: #0000ff\">all-at-once</span>, DT-Depth: <span style=\"color: #0000ff\">2</span>, train-test-split:<span style=\"color: #0000ff\"> 33.0% in test-set </span></span>"
      ],
      "text/plain": [
       "<IPython.core.display.Markdown object>"
      ]
     },
     "metadata": {},
     "output_type": "display_data"
    },
    {
     "name": "stderr",
     "output_type": "stream",
     "text": [
      "derive_conceptualspace/evaluate/shallow_trees.py:123: UserWarning: There are more classes (7) than your decision-tree can possibly classify (4)\n"
     ]
    },
    {
     "data": {
      "text/markdown": [
       "<span style=\"font-size:11pt\">accuracy: 0.44</span>"
      ],
      "text/plain": [
       "<IPython.core.display.Markdown object>"
      ]
     },
     "metadata": {},
     "output_type": "display_data"
    },
    {
     "data": {
      "text/markdown": [
       "<span style=\"font-size:11pt\">====================================================================================================</span>"
      ],
      "text/plain": [
       "<IPython.core.display.Markdown object>"
      ]
     },
     "metadata": {},
     "output_type": "display_data"
    },
    {
     "data": {
      "text/markdown": [
       "<span style=\"font-size:11pt\">Using classes from Geonames - 403/1383 entities have a class</span>"
      ],
      "text/plain": [
       "<IPython.core.display.Markdown object>"
      ]
     },
     "metadata": {},
     "output_type": "display_data"
    },
    {
     "data": {
      "text/markdown": [
       "<span style=\"font-size:11pt\">Labels (7 classes): <span style=\"color: #0000ff\">spot,building,farm</span>: 176, <span style=\"color: #0000ff\">stream,lake</span>: 74, <span style=\"color: #0000ff\">road,railroad</span>: 16, <span style=\"color: #0000ff\">parks,area</span>: 28, <span style=\"color: #0000ff\">undersea</span>: 27, <span style=\"color: #0000ff\">mountain,hill,rock</span>: 68, <span style=\"color: #0000ff\">forest,heath</span>: 14</span>"
      ],
      "text/plain": [
       "<IPython.core.display.Markdown object>"
      ]
     },
     "metadata": {},
     "output_type": "display_data"
    },
    {
     "data": {
      "text/markdown": [
       "<span style=\"font-size:11pt\">Eval-Settings: metric: <span style=\"color: #0000ff\">f1</span>, type: <span style=\"color: #0000ff\">all-at-once</span>, DT-Depth: <span style=\"color: #0000ff\">2</span>, train-test-split:<span style=\"color: #0000ff\"> 33.0% in test-set </span></span>"
      ],
      "text/plain": [
       "<IPython.core.display.Markdown object>"
      ]
     },
     "metadata": {},
     "output_type": "display_data"
    },
    {
     "name": "stderr",
     "output_type": "stream",
     "text": [
      "derive_conceptualspace/evaluate/shallow_trees.py:123: UserWarning: There are more classes (7) than your decision-tree can possibly classify (4)\n"
     ]
    },
    {
     "data": {
      "text/markdown": [
       "<span style=\"font-size:11pt\">f1: 0.56</span>"
      ],
      "text/plain": [
       "<IPython.core.display.Markdown object>"
      ]
     },
     "metadata": {},
     "output_type": "display_data"
    },
    {
     "data": {
      "text/markdown": [
       "<span style=\"font-size:11pt\">====================================================================================================</span>"
      ],
      "text/plain": [
       "<IPython.core.display.Markdown object>"
      ]
     },
     "metadata": {},
     "output_type": "display_data"
    },
    {
     "data": {
      "text/markdown": [
       "<span style=\"font-size:11pt\">Using classes from Geonames - 403/1383 entities have a class</span>"
      ],
      "text/plain": [
       "<IPython.core.display.Markdown object>"
      ]
     },
     "metadata": {},
     "output_type": "display_data"
    },
    {
     "data": {
      "text/markdown": [
       "<span style=\"font-size:11pt\">Labels (7 classes): <span style=\"color: #0000ff\">spot,building,farm</span>: 176, <span style=\"color: #0000ff\">stream,lake</span>: 74, <span style=\"color: #0000ff\">road,railroad</span>: 16, <span style=\"color: #0000ff\">parks,area</span>: 28, <span style=\"color: #0000ff\">undersea</span>: 27, <span style=\"color: #0000ff\">mountain,hill,rock</span>: 68, <span style=\"color: #0000ff\">forest,heath</span>: 14</span>"
      ],
      "text/plain": [
       "<IPython.core.display.Markdown object>"
      ]
     },
     "metadata": {},
     "output_type": "display_data"
    },
    {
     "data": {
      "text/markdown": [
       "<span style=\"font-size:11pt\">Eval-Settings: metric: <span style=\"color: #0000ff\">accuracy</span>, type: <span style=\"color: #0000ff\">all-at-once</span>, DT-Depth: <span style=\"color: #0000ff\">3</span>, train-test-split:<span style=\"color: #0000ff\"> 33.0% in test-set </span></span>"
      ],
      "text/plain": [
       "<IPython.core.display.Markdown object>"
      ]
     },
     "metadata": {},
     "output_type": "display_data"
    },
    {
     "data": {
      "text/markdown": [
       "<span style=\"font-size:11pt\">accuracy: 0.15</span>"
      ],
      "text/plain": [
       "<IPython.core.display.Markdown object>"
      ]
     },
     "metadata": {},
     "output_type": "display_data"
    },
    {
     "data": {
      "text/markdown": [
       "<span style=\"font-size:11pt\">====================================================================================================</span>"
      ],
      "text/plain": [
       "<IPython.core.display.Markdown object>"
      ]
     },
     "metadata": {},
     "output_type": "display_data"
    },
    {
     "data": {
      "text/markdown": [
       "<span style=\"font-size:11pt\">Using classes from Geonames - 403/1383 entities have a class</span>"
      ],
      "text/plain": [
       "<IPython.core.display.Markdown object>"
      ]
     },
     "metadata": {},
     "output_type": "display_data"
    },
    {
     "data": {
      "text/markdown": [
       "<span style=\"font-size:11pt\">Labels (7 classes): <span style=\"color: #0000ff\">spot,building,farm</span>: 176, <span style=\"color: #0000ff\">stream,lake</span>: 74, <span style=\"color: #0000ff\">road,railroad</span>: 16, <span style=\"color: #0000ff\">parks,area</span>: 28, <span style=\"color: #0000ff\">undersea</span>: 27, <span style=\"color: #0000ff\">mountain,hill,rock</span>: 68, <span style=\"color: #0000ff\">forest,heath</span>: 14</span>"
      ],
      "text/plain": [
       "<IPython.core.display.Markdown object>"
      ]
     },
     "metadata": {},
     "output_type": "display_data"
    },
    {
     "data": {
      "text/markdown": [
       "<span style=\"font-size:11pt\">Eval-Settings: metric: <span style=\"color: #0000ff\">f1</span>, type: <span style=\"color: #0000ff\">all-at-once</span>, DT-Depth: <span style=\"color: #0000ff\">3</span>, train-test-split:<span style=\"color: #0000ff\"> 33.0% in test-set </span></span>"
      ],
      "text/plain": [
       "<IPython.core.display.Markdown object>"
      ]
     },
     "metadata": {},
     "output_type": "display_data"
    },
    {
     "data": {
      "text/markdown": [
       "<span style=\"font-size:11pt\">f1: 0.11</span>"
      ],
      "text/plain": [
       "<IPython.core.display.Markdown object>"
      ]
     },
     "metadata": {},
     "output_type": "display_data"
    },
    {
     "data": {
      "text/markdown": [
       "<span style=\"font-size:11pt\">====================================================================================================</span>"
      ],
      "text/plain": [
       "<IPython.core.display.Markdown object>"
      ]
     },
     "metadata": {},
     "output_type": "display_data"
    },
    {
     "data": {
      "text/markdown": [
       "<span style=\"font-size:11pt\">Using classes from Geonames - 403/1383 entities have a class</span>"
      ],
      "text/plain": [
       "<IPython.core.display.Markdown object>"
      ]
     },
     "metadata": {},
     "output_type": "display_data"
    },
    {
     "data": {
      "text/markdown": [
       "<span style=\"font-size:11pt\">Labels (7 classes): <span style=\"color: #0000ff\">spot,building,farm</span>: 176, <span style=\"color: #0000ff\">stream,lake</span>: 74, <span style=\"color: #0000ff\">road,railroad</span>: 16, <span style=\"color: #0000ff\">parks,area</span>: 28, <span style=\"color: #0000ff\">undersea</span>: 27, <span style=\"color: #0000ff\">mountain,hill,rock</span>: 68, <span style=\"color: #0000ff\">forest,heath</span>: 14</span>"
      ],
      "text/plain": [
       "<IPython.core.display.Markdown object>"
      ]
     },
     "metadata": {},
     "output_type": "display_data"
    },
    {
     "data": {
      "text/markdown": [
       "<span style=\"font-size:11pt\">Eval-Settings: metric: <span style=\"color: #0000ff\">accuracy</span>, type: <span style=\"color: #0000ff\">all-at-once</span>, DT-Depth: <span style=\"color: #0000ff\">3</span>, train-test-split:<span style=\"color: #0000ff\"> 33.0% in test-set </span></span>"
      ],
      "text/plain": [
       "<IPython.core.display.Markdown object>"
      ]
     },
     "metadata": {},
     "output_type": "display_data"
    },
    {
     "data": {
      "text/markdown": [
       "<span style=\"font-size:11pt\">accuracy: 0.50</span>"
      ],
      "text/plain": [
       "<IPython.core.display.Markdown object>"
      ]
     },
     "metadata": {},
     "output_type": "display_data"
    },
    {
     "data": {
      "text/markdown": [
       "<span style=\"font-size:11pt\">====================================================================================================</span>"
      ],
      "text/plain": [
       "<IPython.core.display.Markdown object>"
      ]
     },
     "metadata": {},
     "output_type": "display_data"
    },
    {
     "data": {
      "text/markdown": [
       "<span style=\"font-size:11pt\">Using classes from Geonames - 403/1383 entities have a class</span>"
      ],
      "text/plain": [
       "<IPython.core.display.Markdown object>"
      ]
     },
     "metadata": {},
     "output_type": "display_data"
    },
    {
     "data": {
      "text/markdown": [
       "<span style=\"font-size:11pt\">Labels (7 classes): <span style=\"color: #0000ff\">spot,building,farm</span>: 176, <span style=\"color: #0000ff\">stream,lake</span>: 74, <span style=\"color: #0000ff\">road,railroad</span>: 16, <span style=\"color: #0000ff\">parks,area</span>: 28, <span style=\"color: #0000ff\">undersea</span>: 27, <span style=\"color: #0000ff\">mountain,hill,rock</span>: 68, <span style=\"color: #0000ff\">forest,heath</span>: 14</span>"
      ],
      "text/plain": [
       "<IPython.core.display.Markdown object>"
      ]
     },
     "metadata": {},
     "output_type": "display_data"
    },
    {
     "data": {
      "text/markdown": [
       "<span style=\"font-size:11pt\">Eval-Settings: metric: <span style=\"color: #0000ff\">f1</span>, type: <span style=\"color: #0000ff\">all-at-once</span>, DT-Depth: <span style=\"color: #0000ff\">3</span>, train-test-split:<span style=\"color: #0000ff\"> 33.0% in test-set </span></span>"
      ],
      "text/plain": [
       "<IPython.core.display.Markdown object>"
      ]
     },
     "metadata": {},
     "output_type": "display_data"
    },
    {
     "data": {
      "text/markdown": [
       "<span style=\"font-size:11pt\">f1: 0.47</span>"
      ],
      "text/plain": [
       "<IPython.core.display.Markdown object>"
      ]
     },
     "metadata": {},
     "output_type": "display_data"
    },
    {
     "data": {
      "text/markdown": [
       "<span style=\"font-size:11pt\">====================================================================================================</span>"
      ],
      "text/plain": [
       "<IPython.core.display.Markdown object>"
      ]
     },
     "metadata": {},
     "output_type": "display_data"
    },
    {
     "data": {
      "text/markdown": [
       "<span style=\"font-size:11pt\">Using classes from Geonames - 403/1383 entities have a class</span>"
      ],
      "text/plain": [
       "<IPython.core.display.Markdown object>"
      ]
     },
     "metadata": {},
     "output_type": "display_data"
    },
    {
     "data": {
      "text/markdown": [
       "<span style=\"font-size:11pt\">Labels (7 classes): <span style=\"color: #0000ff\">spot,building,farm</span>: 176, <span style=\"color: #0000ff\">stream,lake</span>: 74, <span style=\"color: #0000ff\">road,railroad</span>: 16, <span style=\"color: #0000ff\">parks,area</span>: 28, <span style=\"color: #0000ff\">undersea</span>: 27, <span style=\"color: #0000ff\">mountain,hill,rock</span>: 68, <span style=\"color: #0000ff\">forest,heath</span>: 14</span>"
      ],
      "text/plain": [
       "<IPython.core.display.Markdown object>"
      ]
     },
     "metadata": {},
     "output_type": "display_data"
    },
    {
     "data": {
      "text/markdown": [
       "<span style=\"font-size:11pt\">Eval-Settings: metric: <span style=\"color: #0000ff\">accuracy</span>, type: <span style=\"color: #0000ff\">all-at-once</span>, DT-Depth: <span style=\"color: #0000ff\">None</span>, train-test-split:<span style=\"color: #0000ff\"> 33.0% in test-set </span></span>"
      ],
      "text/plain": [
       "<IPython.core.display.Markdown object>"
      ]
     },
     "metadata": {},
     "output_type": "display_data"
    },
    {
     "data": {
      "text/markdown": [
       "<span style=\"font-size:11pt\">accuracy: 0.33</span>"
      ],
      "text/plain": [
       "<IPython.core.display.Markdown object>"
      ]
     },
     "metadata": {},
     "output_type": "display_data"
    },
    {
     "data": {
      "text/markdown": [
       "<span style=\"font-size:11pt\">====================================================================================================</span>"
      ],
      "text/plain": [
       "<IPython.core.display.Markdown object>"
      ]
     },
     "metadata": {},
     "output_type": "display_data"
    },
    {
     "data": {
      "text/markdown": [
       "<span style=\"font-size:11pt\">Using classes from Geonames - 403/1383 entities have a class</span>"
      ],
      "text/plain": [
       "<IPython.core.display.Markdown object>"
      ]
     },
     "metadata": {},
     "output_type": "display_data"
    },
    {
     "data": {
      "text/markdown": [
       "<span style=\"font-size:11pt\">Labels (7 classes): <span style=\"color: #0000ff\">spot,building,farm</span>: 176, <span style=\"color: #0000ff\">stream,lake</span>: 74, <span style=\"color: #0000ff\">road,railroad</span>: 16, <span style=\"color: #0000ff\">parks,area</span>: 28, <span style=\"color: #0000ff\">undersea</span>: 27, <span style=\"color: #0000ff\">mountain,hill,rock</span>: 68, <span style=\"color: #0000ff\">forest,heath</span>: 14</span>"
      ],
      "text/plain": [
       "<IPython.core.display.Markdown object>"
      ]
     },
     "metadata": {},
     "output_type": "display_data"
    },
    {
     "data": {
      "text/markdown": [
       "<span style=\"font-size:11pt\">Eval-Settings: metric: <span style=\"color: #0000ff\">f1</span>, type: <span style=\"color: #0000ff\">all-at-once</span>, DT-Depth: <span style=\"color: #0000ff\">None</span>, train-test-split:<span style=\"color: #0000ff\"> 33.0% in test-set </span></span>"
      ],
      "text/plain": [
       "<IPython.core.display.Markdown object>"
      ]
     },
     "metadata": {},
     "output_type": "display_data"
    },
    {
     "data": {
      "text/markdown": [
       "<span style=\"font-size:11pt\">f1: 0.38</span>"
      ],
      "text/plain": [
       "<IPython.core.display.Markdown object>"
      ]
     },
     "metadata": {},
     "output_type": "display_data"
    },
    {
     "data": {
      "text/markdown": [
       "<span style=\"font-size:11pt\">====================================================================================================</span>"
      ],
      "text/plain": [
       "<IPython.core.display.Markdown object>"
      ]
     },
     "metadata": {},
     "output_type": "display_data"
    },
    {
     "data": {
      "text/markdown": [
       "<span style=\"font-size:11pt\">Using classes from Geonames - 403/1383 entities have a class</span>"
      ],
      "text/plain": [
       "<IPython.core.display.Markdown object>"
      ]
     },
     "metadata": {},
     "output_type": "display_data"
    },
    {
     "data": {
      "text/markdown": [
       "<span style=\"font-size:11pt\">Labels (7 classes): <span style=\"color: #0000ff\">spot,building,farm</span>: 176, <span style=\"color: #0000ff\">stream,lake</span>: 74, <span style=\"color: #0000ff\">road,railroad</span>: 16, <span style=\"color: #0000ff\">parks,area</span>: 28, <span style=\"color: #0000ff\">undersea</span>: 27, <span style=\"color: #0000ff\">mountain,hill,rock</span>: 68, <span style=\"color: #0000ff\">forest,heath</span>: 14</span>"
      ],
      "text/plain": [
       "<IPython.core.display.Markdown object>"
      ]
     },
     "metadata": {},
     "output_type": "display_data"
    },
    {
     "data": {
      "text/markdown": [
       "<span style=\"font-size:11pt\">Eval-Settings: metric: <span style=\"color: #0000ff\">accuracy</span>, type: <span style=\"color: #0000ff\">all-at-once</span>, DT-Depth: <span style=\"color: #0000ff\">None</span>, train-test-split:<span style=\"color: #0000ff\"> 33.0% in test-set </span></span>"
      ],
      "text/plain": [
       "<IPython.core.display.Markdown object>"
      ]
     },
     "metadata": {},
     "output_type": "display_data"
    },
    {
     "data": {
      "text/markdown": [
       "<span style=\"font-size:11pt\">accuracy: 0.40</span>"
      ],
      "text/plain": [
       "<IPython.core.display.Markdown object>"
      ]
     },
     "metadata": {},
     "output_type": "display_data"
    },
    {
     "data": {
      "text/markdown": [
       "<span style=\"font-size:11pt\">====================================================================================================</span>"
      ],
      "text/plain": [
       "<IPython.core.display.Markdown object>"
      ]
     },
     "metadata": {},
     "output_type": "display_data"
    },
    {
     "data": {
      "text/markdown": [
       "<span style=\"font-size:11pt\">Using classes from Geonames - 403/1383 entities have a class</span>"
      ],
      "text/plain": [
       "<IPython.core.display.Markdown object>"
      ]
     },
     "metadata": {},
     "output_type": "display_data"
    },
    {
     "data": {
      "text/markdown": [
       "<span style=\"font-size:11pt\">Labels (7 classes): <span style=\"color: #0000ff\">spot,building,farm</span>: 176, <span style=\"color: #0000ff\">stream,lake</span>: 74, <span style=\"color: #0000ff\">road,railroad</span>: 16, <span style=\"color: #0000ff\">parks,area</span>: 28, <span style=\"color: #0000ff\">undersea</span>: 27, <span style=\"color: #0000ff\">mountain,hill,rock</span>: 68, <span style=\"color: #0000ff\">forest,heath</span>: 14</span>"
      ],
      "text/plain": [
       "<IPython.core.display.Markdown object>"
      ]
     },
     "metadata": {},
     "output_type": "display_data"
    },
    {
     "data": {
      "text/markdown": [
       "<span style=\"font-size:11pt\">Eval-Settings: metric: <span style=\"color: #0000ff\">f1</span>, type: <span style=\"color: #0000ff\">all-at-once</span>, DT-Depth: <span style=\"color: #0000ff\">None</span>, train-test-split:<span style=\"color: #0000ff\"> 33.0% in test-set </span></span>"
      ],
      "text/plain": [
       "<IPython.core.display.Markdown object>"
      ]
     },
     "metadata": {},
     "output_type": "display_data"
    },
    {
     "data": {
      "text/markdown": [
       "<span style=\"font-size:11pt\">f1: 0.41</span>"
      ],
      "text/plain": [
       "<IPython.core.display.Markdown object>"
      ]
     },
     "metadata": {},
     "output_type": "display_data"
    },
    {
     "data": {
      "text/markdown": [
       "<span style=\"font-size:11pt\">====================================================================================================</span>"
      ],
      "text/plain": [
       "<IPython.core.display.Markdown object>"
      ]
     },
     "metadata": {},
     "output_type": "display_data"
    },
    {
     "data": {
      "text/markdown": [
       "<span style=\"font-size:11pt\">Using classes from Geonames - 403/1383 entities have a class</span>"
      ],
      "text/plain": [
       "<IPython.core.display.Markdown object>"
      ]
     },
     "metadata": {},
     "output_type": "display_data"
    },
    {
     "data": {
      "text/markdown": [
       "<span style=\"font-size:11pt\">Labels (7 classes): <span style=\"color: #0000ff\">spot,building,farm</span>: 176, <span style=\"color: #0000ff\">stream,lake</span>: 74, <span style=\"color: #0000ff\">road,railroad</span>: 16, <span style=\"color: #0000ff\">parks,area</span>: 28, <span style=\"color: #0000ff\">undersea</span>: 27, <span style=\"color: #0000ff\">mountain,hill,rock</span>: 68, <span style=\"color: #0000ff\">forest,heath</span>: 14</span>"
      ],
      "text/plain": [
       "<IPython.core.display.Markdown object>"
      ]
     },
     "metadata": {},
     "output_type": "display_data"
    },
    {
     "data": {
      "text/markdown": [
       "<span style=\"font-size:11pt\">Eval-Settings: metric: <span style=\"color: #0000ff\">accuracy</span>, type: <span style=\"color: #0000ff\">one-vs-rest</span>, DT-Depth: <span style=\"color: #0000ff\">1</span>, train-test-split:<span style=\"color: #0000ff\"> 50.0% in test-set </span></span>"
      ],
      "text/plain": [
       "<IPython.core.display.Markdown object>"
      ]
     },
     "metadata": {},
     "output_type": "display_data"
    },
    {
     "data": {
      "text/markdown": [
       "<span style=\"font-size:11pt\">Per-Class-Scores: spot,building,farm: 0.77, stream,lake: 0.65, undersea: 0.47, road,railroad: 0.57, forest,heath: 0.43, parks,area: 0.47, mountain,hill,rock: 0.49</span>"
      ],
      "text/plain": [
       "<IPython.core.display.Markdown object>"
      ]
     },
     "metadata": {},
     "output_type": "display_data"
    },
    {
     "data": {
      "text/markdown": [
       "<span style=\"font-size:11pt\">Unweighted Mean accuracy: 55.09%</span>"
      ],
      "text/plain": [
       "<IPython.core.display.Markdown object>"
      ]
     },
     "metadata": {},
     "output_type": "display_data"
    },
    {
     "data": {
      "text/markdown": [
       "<span style=\"font-size:11pt\">Weighted Mean accuracy: 63.97%</span>"
      ],
      "text/plain": [
       "<IPython.core.display.Markdown object>"
      ]
     },
     "metadata": {},
     "output_type": "display_data"
    },
    {
     "data": {
      "text/markdown": [
       "<span style=\"font-size:11pt\">====================================================================================================</span>"
      ],
      "text/plain": [
       "<IPython.core.display.Markdown object>"
      ]
     },
     "metadata": {},
     "output_type": "display_data"
    },
    {
     "data": {
      "text/markdown": [
       "<span style=\"font-size:11pt\">Using classes from Geonames - 403/1383 entities have a class</span>"
      ],
      "text/plain": [
       "<IPython.core.display.Markdown object>"
      ]
     },
     "metadata": {},
     "output_type": "display_data"
    },
    {
     "data": {
      "text/markdown": [
       "<span style=\"font-size:11pt\">Labels (7 classes): <span style=\"color: #0000ff\">spot,building,farm</span>: 176, <span style=\"color: #0000ff\">stream,lake</span>: 74, <span style=\"color: #0000ff\">road,railroad</span>: 16, <span style=\"color: #0000ff\">parks,area</span>: 28, <span style=\"color: #0000ff\">undersea</span>: 27, <span style=\"color: #0000ff\">mountain,hill,rock</span>: 68, <span style=\"color: #0000ff\">forest,heath</span>: 14</span>"
      ],
      "text/plain": [
       "<IPython.core.display.Markdown object>"
      ]
     },
     "metadata": {},
     "output_type": "display_data"
    },
    {
     "data": {
      "text/markdown": [
       "<span style=\"font-size:11pt\">Eval-Settings: metric: <span style=\"color: #0000ff\">f1</span>, type: <span style=\"color: #0000ff\">one-vs-rest</span>, DT-Depth: <span style=\"color: #0000ff\">1</span>, train-test-split:<span style=\"color: #0000ff\"> 50.0% in test-set </span></span>"
      ],
      "text/plain": [
       "<IPython.core.display.Markdown object>"
      ]
     },
     "metadata": {},
     "output_type": "display_data"
    },
    {
     "data": {
      "text/markdown": [
       "<span style=\"font-size:11pt\">Per-Class-Scores: spot,building,farm: 0.71, stream,lake: 0.37, undersea: 0.05, road,railroad: 0.14, forest,heath: 0.05, parks,area: 0.13, mountain,hill,rock: 0.39</span>"
      ],
      "text/plain": [
       "<IPython.core.display.Markdown object>"
      ]
     },
     "metadata": {},
     "output_type": "display_data"
    },
    {
     "data": {
      "text/markdown": [
       "<span style=\"font-size:11pt\">Unweighted Mean f1: 26.15%</span>"
      ],
      "text/plain": [
       "<IPython.core.display.Markdown object>"
      ]
     },
     "metadata": {},
     "output_type": "display_data"
    },
    {
     "data": {
      "text/markdown": [
       "<span style=\"font-size:11pt\">Weighted Mean f1: 46.25%</span>"
      ],
      "text/plain": [
       "<IPython.core.display.Markdown object>"
      ]
     },
     "metadata": {},
     "output_type": "display_data"
    },
    {
     "data": {
      "text/markdown": [
       "<span style=\"font-size:11pt\">====================================================================================================</span>"
      ],
      "text/plain": [
       "<IPython.core.display.Markdown object>"
      ]
     },
     "metadata": {},
     "output_type": "display_data"
    },
    {
     "data": {
      "text/markdown": [
       "<span style=\"font-size:11pt\">Using classes from Geonames - 403/1383 entities have a class</span>"
      ],
      "text/plain": [
       "<IPython.core.display.Markdown object>"
      ]
     },
     "metadata": {},
     "output_type": "display_data"
    },
    {
     "data": {
      "text/markdown": [
       "<span style=\"font-size:11pt\">Labels (7 classes): <span style=\"color: #0000ff\">spot,building,farm</span>: 176, <span style=\"color: #0000ff\">stream,lake</span>: 74, <span style=\"color: #0000ff\">road,railroad</span>: 16, <span style=\"color: #0000ff\">parks,area</span>: 28, <span style=\"color: #0000ff\">undersea</span>: 27, <span style=\"color: #0000ff\">mountain,hill,rock</span>: 68, <span style=\"color: #0000ff\">forest,heath</span>: 14</span>"
      ],
      "text/plain": [
       "<IPython.core.display.Markdown object>"
      ]
     },
     "metadata": {},
     "output_type": "display_data"
    },
    {
     "data": {
      "text/markdown": [
       "<span style=\"font-size:11pt\">Eval-Settings: metric: <span style=\"color: #0000ff\">accuracy</span>, type: <span style=\"color: #0000ff\">one-vs-rest</span>, DT-Depth: <span style=\"color: #0000ff\">1</span>, train-test-split:<span style=\"color: #0000ff\"> 50.0% in test-set </span></span>"
      ],
      "text/plain": [
       "<IPython.core.display.Markdown object>"
      ]
     },
     "metadata": {},
     "output_type": "display_data"
    },
    {
     "data": {
      "text/markdown": [
       "<span style=\"font-size:11pt\">Per-Class-Scores: spot,building,farm: 0.77, stream,lake: 0.79, undersea: 0.92, road,railroad: 0.95, forest,heath: 0.97, parks,area: 0.86, mountain,hill,rock: 0.87</span>"
      ],
      "text/plain": [
       "<IPython.core.display.Markdown object>"
      ]
     },
     "metadata": {},
     "output_type": "display_data"
    },
    {
     "data": {
      "text/markdown": [
       "<span style=\"font-size:11pt\">Unweighted Mean accuracy: 87.34%</span>"
      ],
      "text/plain": [
       "<IPython.core.display.Markdown object>"
      ]
     },
     "metadata": {},
     "output_type": "display_data"
    },
    {
     "data": {
      "text/markdown": [
       "<span style=\"font-size:11pt\">Weighted Mean accuracy: 82.08%</span>"
      ],
      "text/plain": [
       "<IPython.core.display.Markdown object>"
      ]
     },
     "metadata": {},
     "output_type": "display_data"
    },
    {
     "data": {
      "text/markdown": [
       "<span style=\"font-size:11pt\">====================================================================================================</span>"
      ],
      "text/plain": [
       "<IPython.core.display.Markdown object>"
      ]
     },
     "metadata": {},
     "output_type": "display_data"
    },
    {
     "data": {
      "text/markdown": [
       "<span style=\"font-size:11pt\">Using classes from Geonames - 403/1383 entities have a class</span>"
      ],
      "text/plain": [
       "<IPython.core.display.Markdown object>"
      ]
     },
     "metadata": {},
     "output_type": "display_data"
    },
    {
     "data": {
      "text/markdown": [
       "<span style=\"font-size:11pt\">Labels (7 classes): <span style=\"color: #0000ff\">spot,building,farm</span>: 176, <span style=\"color: #0000ff\">stream,lake</span>: 74, <span style=\"color: #0000ff\">road,railroad</span>: 16, <span style=\"color: #0000ff\">parks,area</span>: 28, <span style=\"color: #0000ff\">undersea</span>: 27, <span style=\"color: #0000ff\">mountain,hill,rock</span>: 68, <span style=\"color: #0000ff\">forest,heath</span>: 14</span>"
      ],
      "text/plain": [
       "<IPython.core.display.Markdown object>"
      ]
     },
     "metadata": {},
     "output_type": "display_data"
    },
    {
     "data": {
      "text/markdown": [
       "<span style=\"font-size:11pt\">Eval-Settings: metric: <span style=\"color: #0000ff\">f1</span>, type: <span style=\"color: #0000ff\">one-vs-rest</span>, DT-Depth: <span style=\"color: #0000ff\">1</span>, train-test-split:<span style=\"color: #0000ff\"> 50.0% in test-set </span></span>"
      ],
      "text/plain": [
       "<IPython.core.display.Markdown object>"
      ]
     },
     "metadata": {},
     "output_type": "display_data"
    },
    {
     "data": {
      "text/markdown": [
       "<span style=\"font-size:11pt\">Per-Class-Scores: spot,building,farm: 0.74, stream,lake: 0.00, undersea: 0.00, road,railroad: 0.00, forest,heath: 0.00, parks,area: 0.00, mountain,hill,rock: 0.00</span>"
      ],
      "text/plain": [
       "<IPython.core.display.Markdown object>"
      ]
     },
     "metadata": {},
     "output_type": "display_data"
    },
    {
     "data": {
      "text/markdown": [
       "<span style=\"font-size:11pt\">Unweighted Mean f1: 10.54%</span>"
      ],
      "text/plain": [
       "<IPython.core.display.Markdown object>"
      ]
     },
     "metadata": {},
     "output_type": "display_data"
    },
    {
     "data": {
      "text/markdown": [
       "<span style=\"font-size:11pt\">Weighted Mean f1: 32.23%</span>"
      ],
      "text/plain": [
       "<IPython.core.display.Markdown object>"
      ]
     },
     "metadata": {},
     "output_type": "display_data"
    },
    {
     "data": {
      "text/markdown": [
       "<span style=\"font-size:11pt\">====================================================================================================</span>"
      ],
      "text/plain": [
       "<IPython.core.display.Markdown object>"
      ]
     },
     "metadata": {},
     "output_type": "display_data"
    },
    {
     "data": {
      "text/markdown": [
       "<span style=\"font-size:11pt\">Using classes from Geonames - 403/1383 entities have a class</span>"
      ],
      "text/plain": [
       "<IPython.core.display.Markdown object>"
      ]
     },
     "metadata": {},
     "output_type": "display_data"
    },
    {
     "data": {
      "text/markdown": [
       "<span style=\"font-size:11pt\">Labels (7 classes): <span style=\"color: #0000ff\">spot,building,farm</span>: 176, <span style=\"color: #0000ff\">stream,lake</span>: 74, <span style=\"color: #0000ff\">road,railroad</span>: 16, <span style=\"color: #0000ff\">parks,area</span>: 28, <span style=\"color: #0000ff\">undersea</span>: 27, <span style=\"color: #0000ff\">mountain,hill,rock</span>: 68, <span style=\"color: #0000ff\">forest,heath</span>: 14</span>"
      ],
      "text/plain": [
       "<IPython.core.display.Markdown object>"
      ]
     },
     "metadata": {},
     "output_type": "display_data"
    },
    {
     "data": {
      "text/markdown": [
       "<span style=\"font-size:11pt\">Eval-Settings: metric: <span style=\"color: #0000ff\">accuracy</span>, type: <span style=\"color: #0000ff\">one-vs-rest</span>, DT-Depth: <span style=\"color: #0000ff\">2</span>, train-test-split:<span style=\"color: #0000ff\"> 50.0% in test-set </span></span>"
      ],
      "text/plain": [
       "<IPython.core.display.Markdown object>"
      ]
     },
     "metadata": {},
     "output_type": "display_data"
    },
    {
     "data": {
      "text/markdown": [
       "<span style=\"font-size:11pt\">Per-Class-Scores: spot,building,farm: 0.71, stream,lake: 0.56, undersea: 0.23, road,railroad: 0.83, forest,heath: 0.61, parks,area: 0.58, mountain,hill,rock: 0.50</span>"
      ],
      "text/plain": [
       "<IPython.core.display.Markdown object>"
      ]
     },
     "metadata": {},
     "output_type": "display_data"
    },
    {
     "data": {
      "text/markdown": [
       "<span style=\"font-size:11pt\">Unweighted Mean accuracy: 57.71%</span>"
      ],
      "text/plain": [
       "<IPython.core.display.Markdown object>"
      ]
     },
     "metadata": {},
     "output_type": "display_data"
    },
    {
     "data": {
      "text/markdown": [
       "<span style=\"font-size:11pt\">Weighted Mean accuracy: 61.05%</span>"
      ],
      "text/plain": [
       "<IPython.core.display.Markdown object>"
      ]
     },
     "metadata": {},
     "output_type": "display_data"
    },
    {
     "data": {
      "text/markdown": [
       "<span style=\"font-size:11pt\">====================================================================================================</span>"
      ],
      "text/plain": [
       "<IPython.core.display.Markdown object>"
      ]
     },
     "metadata": {},
     "output_type": "display_data"
    },
    {
     "data": {
      "text/markdown": [
       "<span style=\"font-size:11pt\">Using classes from Geonames - 403/1383 entities have a class</span>"
      ],
      "text/plain": [
       "<IPython.core.display.Markdown object>"
      ]
     },
     "metadata": {},
     "output_type": "display_data"
    },
    {
     "data": {
      "text/markdown": [
       "<span style=\"font-size:11pt\">Labels (7 classes): <span style=\"color: #0000ff\">spot,building,farm</span>: 176, <span style=\"color: #0000ff\">stream,lake</span>: 74, <span style=\"color: #0000ff\">road,railroad</span>: 16, <span style=\"color: #0000ff\">parks,area</span>: 28, <span style=\"color: #0000ff\">undersea</span>: 27, <span style=\"color: #0000ff\">mountain,hill,rock</span>: 68, <span style=\"color: #0000ff\">forest,heath</span>: 14</span>"
      ],
      "text/plain": [
       "<IPython.core.display.Markdown object>"
      ]
     },
     "metadata": {},
     "output_type": "display_data"
    },
    {
     "data": {
      "text/markdown": [
       "<span style=\"font-size:11pt\">Eval-Settings: metric: <span style=\"color: #0000ff\">f1</span>, type: <span style=\"color: #0000ff\">one-vs-rest</span>, DT-Depth: <span style=\"color: #0000ff\">2</span>, train-test-split:<span style=\"color: #0000ff\"> 50.0% in test-set </span></span>"
      ],
      "text/plain": [
       "<IPython.core.display.Markdown object>"
      ]
     },
     "metadata": {},
     "output_type": "display_data"
    },
    {
     "data": {
      "text/markdown": [
       "<span style=\"font-size:11pt\">Per-Class-Scores: spot,building,farm: 0.77, stream,lake: 0.37, undersea: 0.06, road,railroad: 0.16, forest,heath: 0.10, parks,area: 0.18, mountain,hill,rock: 0.38</span>"
      ],
      "text/plain": [
       "<IPython.core.display.Markdown object>"
      ]
     },
     "metadata": {},
     "output_type": "display_data"
    },
    {
     "data": {
      "text/markdown": [
       "<span style=\"font-size:11pt\">Unweighted Mean f1: 28.86%</span>"
      ],
      "text/plain": [
       "<IPython.core.display.Markdown object>"
      ]
     },
     "metadata": {},
     "output_type": "display_data"
    },
    {
     "data": {
      "text/markdown": [
       "<span style=\"font-size:11pt\">Weighted Mean f1: 49.46%</span>"
      ],
      "text/plain": [
       "<IPython.core.display.Markdown object>"
      ]
     },
     "metadata": {},
     "output_type": "display_data"
    },
    {
     "data": {
      "text/markdown": [
       "<span style=\"font-size:11pt\">====================================================================================================</span>"
      ],
      "text/plain": [
       "<IPython.core.display.Markdown object>"
      ]
     },
     "metadata": {},
     "output_type": "display_data"
    },
    {
     "data": {
      "text/markdown": [
       "<span style=\"font-size:11pt\">Using classes from Geonames - 403/1383 entities have a class</span>"
      ],
      "text/plain": [
       "<IPython.core.display.Markdown object>"
      ]
     },
     "metadata": {},
     "output_type": "display_data"
    },
    {
     "data": {
      "text/markdown": [
       "<span style=\"font-size:11pt\">Labels (7 classes): <span style=\"color: #0000ff\">spot,building,farm</span>: 176, <span style=\"color: #0000ff\">stream,lake</span>: 74, <span style=\"color: #0000ff\">road,railroad</span>: 16, <span style=\"color: #0000ff\">parks,area</span>: 28, <span style=\"color: #0000ff\">undersea</span>: 27, <span style=\"color: #0000ff\">mountain,hill,rock</span>: 68, <span style=\"color: #0000ff\">forest,heath</span>: 14</span>"
      ],
      "text/plain": [
       "<IPython.core.display.Markdown object>"
      ]
     },
     "metadata": {},
     "output_type": "display_data"
    },
    {
     "data": {
      "text/markdown": [
       "<span style=\"font-size:11pt\">Eval-Settings: metric: <span style=\"color: #0000ff\">accuracy</span>, type: <span style=\"color: #0000ff\">one-vs-rest</span>, DT-Depth: <span style=\"color: #0000ff\">2</span>, train-test-split:<span style=\"color: #0000ff\"> 50.0% in test-set </span></span>"
      ],
      "text/plain": [
       "<IPython.core.display.Markdown object>"
      ]
     },
     "metadata": {},
     "output_type": "display_data"
    },
    {
     "data": {
      "text/markdown": [
       "<span style=\"font-size:11pt\">Per-Class-Scores: spot,building,farm: 0.78, stream,lake: 0.77, undersea: 0.93, road,railroad: 0.96, forest,heath: 0.95, parks,area: 0.91, mountain,hill,rock: 0.73</span>"
      ],
      "text/plain": [
       "<IPython.core.display.Markdown object>"
      ]
     },
     "metadata": {},
     "output_type": "display_data"
    },
    {
     "data": {
      "text/markdown": [
       "<span style=\"font-size:11pt\">Unweighted Mean accuracy: 86.07%</span>"
      ],
      "text/plain": [
       "<IPython.core.display.Markdown object>"
      ]
     },
     "metadata": {},
     "output_type": "display_data"
    },
    {
     "data": {
      "text/markdown": [
       "<span style=\"font-size:11pt\">Weighted Mean accuracy: 80.19%</span>"
      ],
      "text/plain": [
       "<IPython.core.display.Markdown object>"
      ]
     },
     "metadata": {},
     "output_type": "display_data"
    },
    {
     "data": {
      "text/markdown": [
       "<span style=\"font-size:11pt\">====================================================================================================</span>"
      ],
      "text/plain": [
       "<IPython.core.display.Markdown object>"
      ]
     },
     "metadata": {},
     "output_type": "display_data"
    },
    {
     "data": {
      "text/markdown": [
       "<span style=\"font-size:11pt\">Using classes from Geonames - 403/1383 entities have a class</span>"
      ],
      "text/plain": [
       "<IPython.core.display.Markdown object>"
      ]
     },
     "metadata": {},
     "output_type": "display_data"
    },
    {
     "data": {
      "text/markdown": [
       "<span style=\"font-size:11pt\">Labels (7 classes): <span style=\"color: #0000ff\">spot,building,farm</span>: 176, <span style=\"color: #0000ff\">stream,lake</span>: 74, <span style=\"color: #0000ff\">road,railroad</span>: 16, <span style=\"color: #0000ff\">parks,area</span>: 28, <span style=\"color: #0000ff\">undersea</span>: 27, <span style=\"color: #0000ff\">mountain,hill,rock</span>: 68, <span style=\"color: #0000ff\">forest,heath</span>: 14</span>"
      ],
      "text/plain": [
       "<IPython.core.display.Markdown object>"
      ]
     },
     "metadata": {},
     "output_type": "display_data"
    },
    {
     "data": {
      "text/markdown": [
       "<span style=\"font-size:11pt\">Eval-Settings: metric: <span style=\"color: #0000ff\">f1</span>, type: <span style=\"color: #0000ff\">one-vs-rest</span>, DT-Depth: <span style=\"color: #0000ff\">2</span>, train-test-split:<span style=\"color: #0000ff\"> 50.0% in test-set </span></span>"
      ],
      "text/plain": [
       "<IPython.core.display.Markdown object>"
      ]
     },
     "metadata": {},
     "output_type": "display_data"
    },
    {
     "data": {
      "text/markdown": [
       "<span style=\"font-size:11pt\">Per-Class-Scores: spot,building,farm: 0.77, stream,lake: 0.33, undersea: 0.00, road,railroad: 0.00, forest,heath: 0.00, parks,area: 0.00, mountain,hill,rock: 0.18</span>"
      ],
      "text/plain": [
       "<IPython.core.display.Markdown object>"
      ]
     },
     "metadata": {},
     "output_type": "display_data"
    },
    {
     "data": {
      "text/markdown": [
       "<span style=\"font-size:11pt\">Unweighted Mean f1: 18.19%</span>"
      ],
      "text/plain": [
       "<IPython.core.display.Markdown object>"
      ]
     },
     "metadata": {},
     "output_type": "display_data"
    },
    {
     "data": {
      "text/markdown": [
       "<span style=\"font-size:11pt\">Weighted Mean f1: 42.50%</span>"
      ],
      "text/plain": [
       "<IPython.core.display.Markdown object>"
      ]
     },
     "metadata": {},
     "output_type": "display_data"
    },
    {
     "data": {
      "text/markdown": [
       "<span style=\"font-size:11pt\">====================================================================================================</span>"
      ],
      "text/plain": [
       "<IPython.core.display.Markdown object>"
      ]
     },
     "metadata": {},
     "output_type": "display_data"
    },
    {
     "data": {
      "text/markdown": [
       "<span style=\"font-size:11pt\">Using classes from Geonames - 403/1383 entities have a class</span>"
      ],
      "text/plain": [
       "<IPython.core.display.Markdown object>"
      ]
     },
     "metadata": {},
     "output_type": "display_data"
    },
    {
     "data": {
      "text/markdown": [
       "<span style=\"font-size:11pt\">Labels (7 classes): <span style=\"color: #0000ff\">spot,building,farm</span>: 176, <span style=\"color: #0000ff\">stream,lake</span>: 74, <span style=\"color: #0000ff\">road,railroad</span>: 16, <span style=\"color: #0000ff\">parks,area</span>: 28, <span style=\"color: #0000ff\">undersea</span>: 27, <span style=\"color: #0000ff\">mountain,hill,rock</span>: 68, <span style=\"color: #0000ff\">forest,heath</span>: 14</span>"
      ],
      "text/plain": [
       "<IPython.core.display.Markdown object>"
      ]
     },
     "metadata": {},
     "output_type": "display_data"
    },
    {
     "data": {
      "text/markdown": [
       "<span style=\"font-size:11pt\">Eval-Settings: metric: <span style=\"color: #0000ff\">accuracy</span>, type: <span style=\"color: #0000ff\">one-vs-rest</span>, DT-Depth: <span style=\"color: #0000ff\">3</span>, train-test-split:<span style=\"color: #0000ff\"> 50.0% in test-set </span></span>"
      ],
      "text/plain": [
       "<IPython.core.display.Markdown object>"
      ]
     },
     "metadata": {},
     "output_type": "display_data"
    },
    {
     "data": {
      "text/markdown": [
       "<span style=\"font-size:11pt\">Per-Class-Scores: spot,building,farm: 0.75, stream,lake: 0.70, undersea: 0.84, road,railroad: 0.58, forest,heath: 0.80, parks,area: 0.64, mountain,hill,rock: 0.53</span>"
      ],
      "text/plain": [
       "<IPython.core.display.Markdown object>"
      ]
     },
     "metadata": {},
     "output_type": "display_data"
    },
    {
     "data": {
      "text/markdown": [
       "<span style=\"font-size:11pt\">Unweighted Mean accuracy: 69.24%</span>"
      ],
      "text/plain": [
       "<IPython.core.display.Markdown object>"
      ]
     },
     "metadata": {},
     "output_type": "display_data"
    },
    {
     "data": {
      "text/markdown": [
       "<span style=\"font-size:11pt\">Weighted Mean accuracy: 69.74%</span>"
      ],
      "text/plain": [
       "<IPython.core.display.Markdown object>"
      ]
     },
     "metadata": {},
     "output_type": "display_data"
    },
    {
     "data": {
      "text/markdown": [
       "<span style=\"font-size:11pt\">====================================================================================================</span>"
      ],
      "text/plain": [
       "<IPython.core.display.Markdown object>"
      ]
     },
     "metadata": {},
     "output_type": "display_data"
    },
    {
     "data": {
      "text/markdown": [
       "<span style=\"font-size:11pt\">Using classes from Geonames - 403/1383 entities have a class</span>"
      ],
      "text/plain": [
       "<IPython.core.display.Markdown object>"
      ]
     },
     "metadata": {},
     "output_type": "display_data"
    },
    {
     "data": {
      "text/markdown": [
       "<span style=\"font-size:11pt\">Labels (7 classes): <span style=\"color: #0000ff\">spot,building,farm</span>: 176, <span style=\"color: #0000ff\">stream,lake</span>: 74, <span style=\"color: #0000ff\">road,railroad</span>: 16, <span style=\"color: #0000ff\">parks,area</span>: 28, <span style=\"color: #0000ff\">undersea</span>: 27, <span style=\"color: #0000ff\">mountain,hill,rock</span>: 68, <span style=\"color: #0000ff\">forest,heath</span>: 14</span>"
      ],
      "text/plain": [
       "<IPython.core.display.Markdown object>"
      ]
     },
     "metadata": {},
     "output_type": "display_data"
    },
    {
     "data": {
      "text/markdown": [
       "<span style=\"font-size:11pt\">Eval-Settings: metric: <span style=\"color: #0000ff\">f1</span>, type: <span style=\"color: #0000ff\">one-vs-rest</span>, DT-Depth: <span style=\"color: #0000ff\">3</span>, train-test-split:<span style=\"color: #0000ff\"> 50.0% in test-set </span></span>"
      ],
      "text/plain": [
       "<IPython.core.display.Markdown object>"
      ]
     },
     "metadata": {},
     "output_type": "display_data"
    },
    {
     "data": {
      "text/markdown": [
       "<span style=\"font-size:11pt\">Per-Class-Scores: spot,building,farm: 0.73, stream,lake: 0.52, undersea: 0.13, road,railroad: 0.10, forest,heath: 0.08, parks,area: 0.12, mountain,hill,rock: 0.40</span>"
      ],
      "text/plain": [
       "<IPython.core.display.Markdown object>"
      ]
     },
     "metadata": {},
     "output_type": "display_data"
    },
    {
     "data": {
      "text/markdown": [
       "<span style=\"font-size:11pt\">Unweighted Mean f1: 29.80%</span>"
      ],
      "text/plain": [
       "<IPython.core.display.Markdown object>"
      ]
     },
     "metadata": {},
     "output_type": "display_data"
    },
    {
     "data": {
      "text/markdown": [
       "<span style=\"font-size:11pt\">Weighted Mean f1: 50.72%</span>"
      ],
      "text/plain": [
       "<IPython.core.display.Markdown object>"
      ]
     },
     "metadata": {},
     "output_type": "display_data"
    },
    {
     "data": {
      "text/markdown": [
       "<span style=\"font-size:11pt\">====================================================================================================</span>"
      ],
      "text/plain": [
       "<IPython.core.display.Markdown object>"
      ]
     },
     "metadata": {},
     "output_type": "display_data"
    },
    {
     "data": {
      "text/markdown": [
       "<span style=\"font-size:11pt\">Using classes from Geonames - 403/1383 entities have a class</span>"
      ],
      "text/plain": [
       "<IPython.core.display.Markdown object>"
      ]
     },
     "metadata": {},
     "output_type": "display_data"
    },
    {
     "data": {
      "text/markdown": [
       "<span style=\"font-size:11pt\">Labels (7 classes): <span style=\"color: #0000ff\">spot,building,farm</span>: 176, <span style=\"color: #0000ff\">stream,lake</span>: 74, <span style=\"color: #0000ff\">road,railroad</span>: 16, <span style=\"color: #0000ff\">parks,area</span>: 28, <span style=\"color: #0000ff\">undersea</span>: 27, <span style=\"color: #0000ff\">mountain,hill,rock</span>: 68, <span style=\"color: #0000ff\">forest,heath</span>: 14</span>"
      ],
      "text/plain": [
       "<IPython.core.display.Markdown object>"
      ]
     },
     "metadata": {},
     "output_type": "display_data"
    },
    {
     "data": {
      "text/markdown": [
       "<span style=\"font-size:11pt\">Eval-Settings: metric: <span style=\"color: #0000ff\">accuracy</span>, type: <span style=\"color: #0000ff\">one-vs-rest</span>, DT-Depth: <span style=\"color: #0000ff\">3</span>, train-test-split:<span style=\"color: #0000ff\"> 50.0% in test-set </span></span>"
      ],
      "text/plain": [
       "<IPython.core.display.Markdown object>"
      ]
     },
     "metadata": {},
     "output_type": "display_data"
    },
    {
     "data": {
      "text/markdown": [
       "<span style=\"font-size:11pt\">Per-Class-Scores: spot,building,farm: 0.84, stream,lake: 0.78, undersea: 0.92, road,railroad: 0.96, forest,heath: 0.96, parks,area: 0.91, mountain,hill,rock: 0.74</span>"
      ],
      "text/plain": [
       "<IPython.core.display.Markdown object>"
      ]
     },
     "metadata": {},
     "output_type": "display_data"
    },
    {
     "data": {
      "text/markdown": [
       "<span style=\"font-size:11pt\">Unweighted Mean accuracy: 87.27%</span>"
      ],
      "text/plain": [
       "<IPython.core.display.Markdown object>"
      ]
     },
     "metadata": {},
     "output_type": "display_data"
    },
    {
     "data": {
      "text/markdown": [
       "<span style=\"font-size:11pt\">Weighted Mean accuracy: 82.99%</span>"
      ],
      "text/plain": [
       "<IPython.core.display.Markdown object>"
      ]
     },
     "metadata": {},
     "output_type": "display_data"
    },
    {
     "data": {
      "text/markdown": [
       "<span style=\"font-size:11pt\">====================================================================================================</span>"
      ],
      "text/plain": [
       "<IPython.core.display.Markdown object>"
      ]
     },
     "metadata": {},
     "output_type": "display_data"
    },
    {
     "data": {
      "text/markdown": [
       "<span style=\"font-size:11pt\">Using classes from Geonames - 403/1383 entities have a class</span>"
      ],
      "text/plain": [
       "<IPython.core.display.Markdown object>"
      ]
     },
     "metadata": {},
     "output_type": "display_data"
    },
    {
     "data": {
      "text/markdown": [
       "<span style=\"font-size:11pt\">Labels (7 classes): <span style=\"color: #0000ff\">spot,building,farm</span>: 176, <span style=\"color: #0000ff\">stream,lake</span>: 74, <span style=\"color: #0000ff\">road,railroad</span>: 16, <span style=\"color: #0000ff\">parks,area</span>: 28, <span style=\"color: #0000ff\">undersea</span>: 27, <span style=\"color: #0000ff\">mountain,hill,rock</span>: 68, <span style=\"color: #0000ff\">forest,heath</span>: 14</span>"
      ],
      "text/plain": [
       "<IPython.core.display.Markdown object>"
      ]
     },
     "metadata": {},
     "output_type": "display_data"
    },
    {
     "data": {
      "text/markdown": [
       "<span style=\"font-size:11pt\">Eval-Settings: metric: <span style=\"color: #0000ff\">f1</span>, type: <span style=\"color: #0000ff\">one-vs-rest</span>, DT-Depth: <span style=\"color: #0000ff\">3</span>, train-test-split:<span style=\"color: #0000ff\"> 50.0% in test-set </span></span>"
      ],
      "text/plain": [
       "<IPython.core.display.Markdown object>"
      ]
     },
     "metadata": {},
     "output_type": "display_data"
    },
    {
     "data": {
      "text/markdown": [
       "<span style=\"font-size:11pt\">Per-Class-Scores: spot,building,farm: 0.77, stream,lake: 0.26, undersea: 0.00, road,railroad: 0.00, forest,heath: 0.00, parks,area: 0.00, mountain,hill,rock: 0.20</span>"
      ],
      "text/plain": [
       "<IPython.core.display.Markdown object>"
      ]
     },
     "metadata": {},
     "output_type": "display_data"
    },
    {
     "data": {
      "text/markdown": [
       "<span style=\"font-size:11pt\">Unweighted Mean f1: 17.63%</span>"
      ],
      "text/plain": [
       "<IPython.core.display.Markdown object>"
      ]
     },
     "metadata": {},
     "output_type": "display_data"
    },
    {
     "data": {
      "text/markdown": [
       "<span style=\"font-size:11pt\">Weighted Mean f1: 41.87%</span>"
      ],
      "text/plain": [
       "<IPython.core.display.Markdown object>"
      ]
     },
     "metadata": {},
     "output_type": "display_data"
    },
    {
     "data": {
      "text/markdown": [
       "<span style=\"font-size:11pt\">====================================================================================================</span>"
      ],
      "text/plain": [
       "<IPython.core.display.Markdown object>"
      ]
     },
     "metadata": {},
     "output_type": "display_data"
    },
    {
     "data": {
      "text/markdown": [
       "<span style=\"font-size:11pt\">Using classes from Geonames - 403/1383 entities have a class</span>"
      ],
      "text/plain": [
       "<IPython.core.display.Markdown object>"
      ]
     },
     "metadata": {},
     "output_type": "display_data"
    },
    {
     "data": {
      "text/markdown": [
       "<span style=\"font-size:11pt\">Labels (7 classes): <span style=\"color: #0000ff\">spot,building,farm</span>: 176, <span style=\"color: #0000ff\">stream,lake</span>: 74, <span style=\"color: #0000ff\">road,railroad</span>: 16, <span style=\"color: #0000ff\">parks,area</span>: 28, <span style=\"color: #0000ff\">undersea</span>: 27, <span style=\"color: #0000ff\">mountain,hill,rock</span>: 68, <span style=\"color: #0000ff\">forest,heath</span>: 14</span>"
      ],
      "text/plain": [
       "<IPython.core.display.Markdown object>"
      ]
     },
     "metadata": {},
     "output_type": "display_data"
    },
    {
     "data": {
      "text/markdown": [
       "<span style=\"font-size:11pt\">Eval-Settings: metric: <span style=\"color: #0000ff\">accuracy</span>, type: <span style=\"color: #0000ff\">one-vs-rest</span>, DT-Depth: <span style=\"color: #0000ff\">None</span>, train-test-split:<span style=\"color: #0000ff\"> 50.0% in test-set </span></span>"
      ],
      "text/plain": [
       "<IPython.core.display.Markdown object>"
      ]
     },
     "metadata": {},
     "output_type": "display_data"
    },
    {
     "data": {
      "text/markdown": [
       "<span style=\"font-size:11pt\">Per-Class-Scores: spot,building,farm: 0.74, stream,lake: 0.75, undersea: 0.89, road,railroad: 0.92, forest,heath: 0.91, parks,area: 0.91, mountain,hill,rock: 0.74</span>"
      ],
      "text/plain": [
       "<IPython.core.display.Markdown object>"
      ]
     },
     "metadata": {},
     "output_type": "display_data"
    },
    {
     "data": {
      "text/markdown": [
       "<span style=\"font-size:11pt\">Unweighted Mean accuracy: 83.66%</span>"
      ],
      "text/plain": [
       "<IPython.core.display.Markdown object>"
      ]
     },
     "metadata": {},
     "output_type": "display_data"
    },
    {
     "data": {
      "text/markdown": [
       "<span style=\"font-size:11pt\">Weighted Mean accuracy: 77.69%</span>"
      ],
      "text/plain": [
       "<IPython.core.display.Markdown object>"
      ]
     },
     "metadata": {},
     "output_type": "display_data"
    },
    {
     "data": {
      "text/markdown": [
       "<span style=\"font-size:11pt\">====================================================================================================</span>"
      ],
      "text/plain": [
       "<IPython.core.display.Markdown object>"
      ]
     },
     "metadata": {},
     "output_type": "display_data"
    },
    {
     "data": {
      "text/markdown": [
       "<span style=\"font-size:11pt\">Using classes from Geonames - 403/1383 entities have a class</span>"
      ],
      "text/plain": [
       "<IPython.core.display.Markdown object>"
      ]
     },
     "metadata": {},
     "output_type": "display_data"
    },
    {
     "data": {
      "text/markdown": [
       "<span style=\"font-size:11pt\">Labels (7 classes): <span style=\"color: #0000ff\">spot,building,farm</span>: 176, <span style=\"color: #0000ff\">stream,lake</span>: 74, <span style=\"color: #0000ff\">road,railroad</span>: 16, <span style=\"color: #0000ff\">parks,area</span>: 28, <span style=\"color: #0000ff\">undersea</span>: 27, <span style=\"color: #0000ff\">mountain,hill,rock</span>: 68, <span style=\"color: #0000ff\">forest,heath</span>: 14</span>"
      ],
      "text/plain": [
       "<IPython.core.display.Markdown object>"
      ]
     },
     "metadata": {},
     "output_type": "display_data"
    },
    {
     "data": {
      "text/markdown": [
       "<span style=\"font-size:11pt\">Eval-Settings: metric: <span style=\"color: #0000ff\">f1</span>, type: <span style=\"color: #0000ff\">one-vs-rest</span>, DT-Depth: <span style=\"color: #0000ff\">None</span>, train-test-split:<span style=\"color: #0000ff\"> 50.0% in test-set </span></span>"
      ],
      "text/plain": [
       "<IPython.core.display.Markdown object>"
      ]
     },
     "metadata": {},
     "output_type": "display_data"
    },
    {
     "data": {
      "text/markdown": [
       "<span style=\"font-size:11pt\">Per-Class-Scores: spot,building,farm: 0.69, stream,lake: 0.17, undersea: 0.00, road,railroad: 0.12, forest,heath: 0.00, parks,area: 0.07, mountain,hill,rock: 0.42</span>"
      ],
      "text/plain": [
       "<IPython.core.display.Markdown object>"
      ]
     },
     "metadata": {},
     "output_type": "display_data"
    },
    {
     "data": {
      "text/markdown": [
       "<span style=\"font-size:11pt\">Unweighted Mean f1: 21.00%</span>"
      ],
      "text/plain": [
       "<IPython.core.display.Markdown object>"
      ]
     },
     "metadata": {},
     "output_type": "display_data"
    },
    {
     "data": {
      "text/markdown": [
       "<span style=\"font-size:11pt\">Weighted Mean f1: 41.36%</span>"
      ],
      "text/plain": [
       "<IPython.core.display.Markdown object>"
      ]
     },
     "metadata": {},
     "output_type": "display_data"
    },
    {
     "data": {
      "text/markdown": [
       "<span style=\"font-size:11pt\">====================================================================================================</span>"
      ],
      "text/plain": [
       "<IPython.core.display.Markdown object>"
      ]
     },
     "metadata": {},
     "output_type": "display_data"
    },
    {
     "data": {
      "text/markdown": [
       "<span style=\"font-size:11pt\">Using classes from Geonames - 403/1383 entities have a class</span>"
      ],
      "text/plain": [
       "<IPython.core.display.Markdown object>"
      ]
     },
     "metadata": {},
     "output_type": "display_data"
    },
    {
     "data": {
      "text/markdown": [
       "<span style=\"font-size:11pt\">Labels (7 classes): <span style=\"color: #0000ff\">spot,building,farm</span>: 176, <span style=\"color: #0000ff\">stream,lake</span>: 74, <span style=\"color: #0000ff\">road,railroad</span>: 16, <span style=\"color: #0000ff\">parks,area</span>: 28, <span style=\"color: #0000ff\">undersea</span>: 27, <span style=\"color: #0000ff\">mountain,hill,rock</span>: 68, <span style=\"color: #0000ff\">forest,heath</span>: 14</span>"
      ],
      "text/plain": [
       "<IPython.core.display.Markdown object>"
      ]
     },
     "metadata": {},
     "output_type": "display_data"
    },
    {
     "data": {
      "text/markdown": [
       "<span style=\"font-size:11pt\">Eval-Settings: metric: <span style=\"color: #0000ff\">accuracy</span>, type: <span style=\"color: #0000ff\">one-vs-rest</span>, DT-Depth: <span style=\"color: #0000ff\">None</span>, train-test-split:<span style=\"color: #0000ff\"> 50.0% in test-set </span></span>"
      ],
      "text/plain": [
       "<IPython.core.display.Markdown object>"
      ]
     },
     "metadata": {},
     "output_type": "display_data"
    },
    {
     "data": {
      "text/markdown": [
       "<span style=\"font-size:11pt\">Per-Class-Scores: spot,building,farm: 0.72, stream,lake: 0.78, undersea: 0.88, road,railroad: 0.93, forest,heath: 0.95, parks,area: 0.86, mountain,hill,rock: 0.74</span>"
      ],
      "text/plain": [
       "<IPython.core.display.Markdown object>"
      ]
     },
     "metadata": {},
     "output_type": "display_data"
    },
    {
     "data": {
      "text/markdown": [
       "<span style=\"font-size:11pt\">Unweighted Mean accuracy: 83.66%</span>"
      ],
      "text/plain": [
       "<IPython.core.display.Markdown object>"
      ]
     },
     "metadata": {},
     "output_type": "display_data"
    },
    {
     "data": {
      "text/markdown": [
       "<span style=\"font-size:11pt\">Weighted Mean accuracy: 77.00%</span>"
      ],
      "text/plain": [
       "<IPython.core.display.Markdown object>"
      ]
     },
     "metadata": {},
     "output_type": "display_data"
    },
    {
     "data": {
      "text/markdown": [
       "<span style=\"font-size:11pt\">====================================================================================================</span>"
      ],
      "text/plain": [
       "<IPython.core.display.Markdown object>"
      ]
     },
     "metadata": {},
     "output_type": "display_data"
    },
    {
     "data": {
      "text/markdown": [
       "<span style=\"font-size:11pt\">Using classes from Geonames - 403/1383 entities have a class</span>"
      ],
      "text/plain": [
       "<IPython.core.display.Markdown object>"
      ]
     },
     "metadata": {},
     "output_type": "display_data"
    },
    {
     "data": {
      "text/markdown": [
       "<span style=\"font-size:11pt\">Labels (7 classes): <span style=\"color: #0000ff\">spot,building,farm</span>: 176, <span style=\"color: #0000ff\">stream,lake</span>: 74, <span style=\"color: #0000ff\">road,railroad</span>: 16, <span style=\"color: #0000ff\">parks,area</span>: 28, <span style=\"color: #0000ff\">undersea</span>: 27, <span style=\"color: #0000ff\">mountain,hill,rock</span>: 68, <span style=\"color: #0000ff\">forest,heath</span>: 14</span>"
      ],
      "text/plain": [
       "<IPython.core.display.Markdown object>"
      ]
     },
     "metadata": {},
     "output_type": "display_data"
    },
    {
     "data": {
      "text/markdown": [
       "<span style=\"font-size:11pt\">Eval-Settings: metric: <span style=\"color: #0000ff\">f1</span>, type: <span style=\"color: #0000ff\">one-vs-rest</span>, DT-Depth: <span style=\"color: #0000ff\">None</span>, train-test-split:<span style=\"color: #0000ff\"> 50.0% in test-set </span></span>"
      ],
      "text/plain": [
       "<IPython.core.display.Markdown object>"
      ]
     },
     "metadata": {},
     "output_type": "display_data"
    },
    {
     "data": {
      "text/markdown": [
       "<span style=\"font-size:11pt\">Per-Class-Scores: spot,building,farm: 0.66, stream,lake: 0.23, undersea: 0.08, road,railroad: 0.00, forest,heath: 0.00, parks,area: 0.00, mountain,hill,rock: 0.22</span>"
      ],
      "text/plain": [
       "<IPython.core.display.Markdown object>"
      ]
     },
     "metadata": {},
     "output_type": "display_data"
    },
    {
     "data": {
      "text/markdown": [
       "<span style=\"font-size:11pt\">Unweighted Mean f1: 16.91%</span>"
      ],
      "text/plain": [
       "<IPython.core.display.Markdown object>"
      ]
     },
     "metadata": {},
     "output_type": "display_data"
    },
    {
     "data": {
      "text/markdown": [
       "<span style=\"font-size:11pt\">Weighted Mean f1: 37.17%</span>"
      ],
      "text/plain": [
       "<IPython.core.display.Markdown object>"
      ]
     },
     "metadata": {},
     "output_type": "display_data"
    },
    {
     "data": {
      "text/markdown": [
       "<span style=\"font-size:11pt\">====================================================================================================</span>"
      ],
      "text/plain": [
       "<IPython.core.display.Markdown object>"
      ]
     },
     "metadata": {},
     "output_type": "display_data"
    },
    {
     "data": {
      "text/markdown": [
       "<span style=\"font-size:11pt\">Using classes from Geonames - 403/1383 entities have a class</span>"
      ],
      "text/plain": [
       "<IPython.core.display.Markdown object>"
      ]
     },
     "metadata": {},
     "output_type": "display_data"
    },
    {
     "data": {
      "text/markdown": [
       "<span style=\"font-size:11pt\">Labels (7 classes): <span style=\"color: #0000ff\">spot,building,farm</span>: 176, <span style=\"color: #0000ff\">stream,lake</span>: 74, <span style=\"color: #0000ff\">road,railroad</span>: 16, <span style=\"color: #0000ff\">parks,area</span>: 28, <span style=\"color: #0000ff\">undersea</span>: 27, <span style=\"color: #0000ff\">mountain,hill,rock</span>: 68, <span style=\"color: #0000ff\">forest,heath</span>: 14</span>"
      ],
      "text/plain": [
       "<IPython.core.display.Markdown object>"
      ]
     },
     "metadata": {},
     "output_type": "display_data"
    },
    {
     "data": {
      "text/markdown": [
       "<span style=\"font-size:11pt\">Eval-Settings: metric: <span style=\"color: #0000ff\">accuracy</span>, type: <span style=\"color: #0000ff\">all-at-once</span>, DT-Depth: <span style=\"color: #0000ff\">1</span>, train-test-split:<span style=\"color: #0000ff\"> 50.0% in test-set </span></span>"
      ],
      "text/plain": [
       "<IPython.core.display.Markdown object>"
      ]
     },
     "metadata": {},
     "output_type": "display_data"
    },
    {
     "name": "stderr",
     "output_type": "stream",
     "text": [
      "derive_conceptualspace/evaluate/shallow_trees.py:123: UserWarning: There are more classes (7) than your decision-tree can possibly classify (2)\n"
     ]
    },
    {
     "data": {
      "text/markdown": [
       "<span style=\"font-size:11pt\">accuracy: 0.06</span>"
      ],
      "text/plain": [
       "<IPython.core.display.Markdown object>"
      ]
     },
     "metadata": {},
     "output_type": "display_data"
    },
    {
     "data": {
      "text/markdown": [
       "<span style=\"font-size:11pt\">Baseline accuracy: 0.44</span>"
      ],
      "text/plain": [
       "<IPython.core.display.Markdown object>"
      ]
     },
     "metadata": {},
     "output_type": "display_data"
    },
    {
     "data": {
      "text/markdown": [
       "<span style=\"font-size:11pt\">Maximally achievable accuracy: 0.62</span>"
      ],
      "text/plain": [
       "<IPython.core.display.Markdown object>"
      ]
     },
     "metadata": {},
     "output_type": "display_data"
    },
    {
     "data": {
      "text/markdown": [
       "<span style=\"font-size:11pt\">====================================================================================================</span>"
      ],
      "text/plain": [
       "<IPython.core.display.Markdown object>"
      ]
     },
     "metadata": {},
     "output_type": "display_data"
    },
    {
     "data": {
      "text/markdown": [
       "<span style=\"font-size:11pt\">Using classes from Geonames - 403/1383 entities have a class</span>"
      ],
      "text/plain": [
       "<IPython.core.display.Markdown object>"
      ]
     },
     "metadata": {},
     "output_type": "display_data"
    },
    {
     "data": {
      "text/markdown": [
       "<span style=\"font-size:11pt\">Labels (7 classes): <span style=\"color: #0000ff\">spot,building,farm</span>: 176, <span style=\"color: #0000ff\">stream,lake</span>: 74, <span style=\"color: #0000ff\">road,railroad</span>: 16, <span style=\"color: #0000ff\">parks,area</span>: 28, <span style=\"color: #0000ff\">undersea</span>: 27, <span style=\"color: #0000ff\">mountain,hill,rock</span>: 68, <span style=\"color: #0000ff\">forest,heath</span>: 14</span>"
      ],
      "text/plain": [
       "<IPython.core.display.Markdown object>"
      ]
     },
     "metadata": {},
     "output_type": "display_data"
    },
    {
     "data": {
      "text/markdown": [
       "<span style=\"font-size:11pt\">Eval-Settings: metric: <span style=\"color: #0000ff\">f1</span>, type: <span style=\"color: #0000ff\">all-at-once</span>, DT-Depth: <span style=\"color: #0000ff\">1</span>, train-test-split:<span style=\"color: #0000ff\"> 50.0% in test-set </span></span>"
      ],
      "text/plain": [
       "<IPython.core.display.Markdown object>"
      ]
     },
     "metadata": {},
     "output_type": "display_data"
    },
    {
     "name": "stderr",
     "output_type": "stream",
     "text": [
      "derive_conceptualspace/evaluate/shallow_trees.py:123: UserWarning: There are more classes (7) than your decision-tree can possibly classify (2)\n"
     ]
    },
    {
     "data": {
      "text/markdown": [
       "<span style=\"font-size:11pt\">f1: 0.20</span>"
      ],
      "text/plain": [
       "<IPython.core.display.Markdown object>"
      ]
     },
     "metadata": {},
     "output_type": "display_data"
    },
    {
     "data": {
      "text/markdown": [
       "<span style=\"font-size:11pt\">Baseline f1: 0.44</span>"
      ],
      "text/plain": [
       "<IPython.core.display.Markdown object>"
      ]
     },
     "metadata": {},
     "output_type": "display_data"
    },
    {
     "data": {
      "text/markdown": [
       "<span style=\"font-size:11pt\">====================================================================================================</span>"
      ],
      "text/plain": [
       "<IPython.core.display.Markdown object>"
      ]
     },
     "metadata": {},
     "output_type": "display_data"
    },
    {
     "data": {
      "text/markdown": [
       "<span style=\"font-size:11pt\">Using classes from Geonames - 403/1383 entities have a class</span>"
      ],
      "text/plain": [
       "<IPython.core.display.Markdown object>"
      ]
     },
     "metadata": {},
     "output_type": "display_data"
    },
    {
     "data": {
      "text/markdown": [
       "<span style=\"font-size:11pt\">Labels (7 classes): <span style=\"color: #0000ff\">spot,building,farm</span>: 176, <span style=\"color: #0000ff\">stream,lake</span>: 74, <span style=\"color: #0000ff\">road,railroad</span>: 16, <span style=\"color: #0000ff\">parks,area</span>: 28, <span style=\"color: #0000ff\">undersea</span>: 27, <span style=\"color: #0000ff\">mountain,hill,rock</span>: 68, <span style=\"color: #0000ff\">forest,heath</span>: 14</span>"
      ],
      "text/plain": [
       "<IPython.core.display.Markdown object>"
      ]
     },
     "metadata": {},
     "output_type": "display_data"
    },
    {
     "data": {
      "text/markdown": [
       "<span style=\"font-size:11pt\">Eval-Settings: metric: <span style=\"color: #0000ff\">accuracy</span>, type: <span style=\"color: #0000ff\">all-at-once</span>, DT-Depth: <span style=\"color: #0000ff\">1</span>, train-test-split:<span style=\"color: #0000ff\"> 50.0% in test-set </span></span>"
      ],
      "text/plain": [
       "<IPython.core.display.Markdown object>"
      ]
     },
     "metadata": {},
     "output_type": "display_data"
    },
    {
     "name": "stderr",
     "output_type": "stream",
     "text": [
      "derive_conceptualspace/evaluate/shallow_trees.py:123: UserWarning: There are more classes (7) than your decision-tree can possibly classify (2)\n"
     ]
    },
    {
     "data": {
      "text/markdown": [
       "<span style=\"font-size:11pt\">accuracy: 0.49</span>"
      ],
      "text/plain": [
       "<IPython.core.display.Markdown object>"
      ]
     },
     "metadata": {},
     "output_type": "display_data"
    },
    {
     "data": {
      "text/markdown": [
       "<span style=\"font-size:11pt\">Baseline accuracy: 0.44</span>"
      ],
      "text/plain": [
       "<IPython.core.display.Markdown object>"
      ]
     },
     "metadata": {},
     "output_type": "display_data"
    },
    {
     "data": {
      "text/markdown": [
       "<span style=\"font-size:11pt\">Maximally achievable accuracy: 0.62</span>"
      ],
      "text/plain": [
       "<IPython.core.display.Markdown object>"
      ]
     },
     "metadata": {},
     "output_type": "display_data"
    },
    {
     "data": {
      "text/markdown": [
       "<span style=\"font-size:11pt\">====================================================================================================</span>"
      ],
      "text/plain": [
       "<IPython.core.display.Markdown object>"
      ]
     },
     "metadata": {},
     "output_type": "display_data"
    },
    {
     "data": {
      "text/markdown": [
       "<span style=\"font-size:11pt\">Using classes from Geonames - 403/1383 entities have a class</span>"
      ],
      "text/plain": [
       "<IPython.core.display.Markdown object>"
      ]
     },
     "metadata": {},
     "output_type": "display_data"
    },
    {
     "data": {
      "text/markdown": [
       "<span style=\"font-size:11pt\">Labels (7 classes): <span style=\"color: #0000ff\">spot,building,farm</span>: 176, <span style=\"color: #0000ff\">stream,lake</span>: 74, <span style=\"color: #0000ff\">road,railroad</span>: 16, <span style=\"color: #0000ff\">parks,area</span>: 28, <span style=\"color: #0000ff\">undersea</span>: 27, <span style=\"color: #0000ff\">mountain,hill,rock</span>: 68, <span style=\"color: #0000ff\">forest,heath</span>: 14</span>"
      ],
      "text/plain": [
       "<IPython.core.display.Markdown object>"
      ]
     },
     "metadata": {},
     "output_type": "display_data"
    },
    {
     "data": {
      "text/markdown": [
       "<span style=\"font-size:11pt\">Eval-Settings: metric: <span style=\"color: #0000ff\">f1</span>, type: <span style=\"color: #0000ff\">all-at-once</span>, DT-Depth: <span style=\"color: #0000ff\">1</span>, train-test-split:<span style=\"color: #0000ff\"> 50.0% in test-set </span></span>"
      ],
      "text/plain": [
       "<IPython.core.display.Markdown object>"
      ]
     },
     "metadata": {},
     "output_type": "display_data"
    },
    {
     "name": "stderr",
     "output_type": "stream",
     "text": [
      "derive_conceptualspace/evaluate/shallow_trees.py:123: UserWarning: There are more classes (7) than your decision-tree can possibly classify (2)\n"
     ]
    },
    {
     "data": {
      "text/markdown": [
       "<span style=\"font-size:11pt\">f1: 0.47</span>"
      ],
      "text/plain": [
       "<IPython.core.display.Markdown object>"
      ]
     },
     "metadata": {},
     "output_type": "display_data"
    },
    {
     "data": {
      "text/markdown": [
       "<span style=\"font-size:11pt\">Baseline f1: 0.44</span>"
      ],
      "text/plain": [
       "<IPython.core.display.Markdown object>"
      ]
     },
     "metadata": {},
     "output_type": "display_data"
    },
    {
     "data": {
      "text/markdown": [
       "<span style=\"font-size:11pt\">====================================================================================================</span>"
      ],
      "text/plain": [
       "<IPython.core.display.Markdown object>"
      ]
     },
     "metadata": {},
     "output_type": "display_data"
    },
    {
     "data": {
      "text/markdown": [
       "<span style=\"font-size:11pt\">Using classes from Geonames - 403/1383 entities have a class</span>"
      ],
      "text/plain": [
       "<IPython.core.display.Markdown object>"
      ]
     },
     "metadata": {},
     "output_type": "display_data"
    },
    {
     "data": {
      "text/markdown": [
       "<span style=\"font-size:11pt\">Labels (7 classes): <span style=\"color: #0000ff\">spot,building,farm</span>: 176, <span style=\"color: #0000ff\">stream,lake</span>: 74, <span style=\"color: #0000ff\">road,railroad</span>: 16, <span style=\"color: #0000ff\">parks,area</span>: 28, <span style=\"color: #0000ff\">undersea</span>: 27, <span style=\"color: #0000ff\">mountain,hill,rock</span>: 68, <span style=\"color: #0000ff\">forest,heath</span>: 14</span>"
      ],
      "text/plain": [
       "<IPython.core.display.Markdown object>"
      ]
     },
     "metadata": {},
     "output_type": "display_data"
    },
    {
     "data": {
      "text/markdown": [
       "<span style=\"font-size:11pt\">Eval-Settings: metric: <span style=\"color: #0000ff\">accuracy</span>, type: <span style=\"color: #0000ff\">all-at-once</span>, DT-Depth: <span style=\"color: #0000ff\">2</span>, train-test-split:<span style=\"color: #0000ff\"> 50.0% in test-set </span></span>"
      ],
      "text/plain": [
       "<IPython.core.display.Markdown object>"
      ]
     },
     "metadata": {},
     "output_type": "display_data"
    },
    {
     "name": "stderr",
     "output_type": "stream",
     "text": [
      "derive_conceptualspace/evaluate/shallow_trees.py:123: UserWarning: There are more classes (7) than your decision-tree can possibly classify (4)\n"
     ]
    },
    {
     "data": {
      "text/markdown": [
       "<span style=\"font-size:11pt\">accuracy: 0.34</span>"
      ],
      "text/plain": [
       "<IPython.core.display.Markdown object>"
      ]
     },
     "metadata": {},
     "output_type": "display_data"
    },
    {
     "data": {
      "text/markdown": [
       "<span style=\"font-size:11pt\">====================================================================================================</span>"
      ],
      "text/plain": [
       "<IPython.core.display.Markdown object>"
      ]
     },
     "metadata": {},
     "output_type": "display_data"
    },
    {
     "data": {
      "text/markdown": [
       "<span style=\"font-size:11pt\">Using classes from Geonames - 403/1383 entities have a class</span>"
      ],
      "text/plain": [
       "<IPython.core.display.Markdown object>"
      ]
     },
     "metadata": {},
     "output_type": "display_data"
    },
    {
     "data": {
      "text/markdown": [
       "<span style=\"font-size:11pt\">Labels (7 classes): <span style=\"color: #0000ff\">spot,building,farm</span>: 176, <span style=\"color: #0000ff\">stream,lake</span>: 74, <span style=\"color: #0000ff\">road,railroad</span>: 16, <span style=\"color: #0000ff\">parks,area</span>: 28, <span style=\"color: #0000ff\">undersea</span>: 27, <span style=\"color: #0000ff\">mountain,hill,rock</span>: 68, <span style=\"color: #0000ff\">forest,heath</span>: 14</span>"
      ],
      "text/plain": [
       "<IPython.core.display.Markdown object>"
      ]
     },
     "metadata": {},
     "output_type": "display_data"
    },
    {
     "data": {
      "text/markdown": [
       "<span style=\"font-size:11pt\">Eval-Settings: metric: <span style=\"color: #0000ff\">f1</span>, type: <span style=\"color: #0000ff\">all-at-once</span>, DT-Depth: <span style=\"color: #0000ff\">2</span>, train-test-split:<span style=\"color: #0000ff\"> 50.0% in test-set </span></span>"
      ],
      "text/plain": [
       "<IPython.core.display.Markdown object>"
      ]
     },
     "metadata": {},
     "output_type": "display_data"
    },
    {
     "name": "stderr",
     "output_type": "stream",
     "text": [
      "derive_conceptualspace/evaluate/shallow_trees.py:123: UserWarning: There are more classes (7) than your decision-tree can possibly classify (4)\n"
     ]
    },
    {
     "data": {
      "text/markdown": [
       "<span style=\"font-size:11pt\">f1: 0.13</span>"
      ],
      "text/plain": [
       "<IPython.core.display.Markdown object>"
      ]
     },
     "metadata": {},
     "output_type": "display_data"
    },
    {
     "data": {
      "text/markdown": [
       "<span style=\"font-size:11pt\">====================================================================================================</span>"
      ],
      "text/plain": [
       "<IPython.core.display.Markdown object>"
      ]
     },
     "metadata": {},
     "output_type": "display_data"
    },
    {
     "data": {
      "text/markdown": [
       "<span style=\"font-size:11pt\">Using classes from Geonames - 403/1383 entities have a class</span>"
      ],
      "text/plain": [
       "<IPython.core.display.Markdown object>"
      ]
     },
     "metadata": {},
     "output_type": "display_data"
    },
    {
     "data": {
      "text/markdown": [
       "<span style=\"font-size:11pt\">Labels (7 classes): <span style=\"color: #0000ff\">spot,building,farm</span>: 176, <span style=\"color: #0000ff\">stream,lake</span>: 74, <span style=\"color: #0000ff\">road,railroad</span>: 16, <span style=\"color: #0000ff\">parks,area</span>: 28, <span style=\"color: #0000ff\">undersea</span>: 27, <span style=\"color: #0000ff\">mountain,hill,rock</span>: 68, <span style=\"color: #0000ff\">forest,heath</span>: 14</span>"
      ],
      "text/plain": [
       "<IPython.core.display.Markdown object>"
      ]
     },
     "metadata": {},
     "output_type": "display_data"
    },
    {
     "data": {
      "text/markdown": [
       "<span style=\"font-size:11pt\">Eval-Settings: metric: <span style=\"color: #0000ff\">accuracy</span>, type: <span style=\"color: #0000ff\">all-at-once</span>, DT-Depth: <span style=\"color: #0000ff\">2</span>, train-test-split:<span style=\"color: #0000ff\"> 50.0% in test-set </span></span>"
      ],
      "text/plain": [
       "<IPython.core.display.Markdown object>"
      ]
     },
     "metadata": {},
     "output_type": "display_data"
    },
    {
     "name": "stderr",
     "output_type": "stream",
     "text": [
      "derive_conceptualspace/evaluate/shallow_trees.py:123: UserWarning: There are more classes (7) than your decision-tree can possibly classify (4)\n"
     ]
    },
    {
     "data": {
      "text/markdown": [
       "<span style=\"font-size:11pt\">accuracy: 0.51</span>"
      ],
      "text/plain": [
       "<IPython.core.display.Markdown object>"
      ]
     },
     "metadata": {},
     "output_type": "display_data"
    },
    {
     "data": {
      "text/markdown": [
       "<span style=\"font-size:11pt\">====================================================================================================</span>"
      ],
      "text/plain": [
       "<IPython.core.display.Markdown object>"
      ]
     },
     "metadata": {},
     "output_type": "display_data"
    },
    {
     "data": {
      "text/markdown": [
       "<span style=\"font-size:11pt\">Using classes from Geonames - 403/1383 entities have a class</span>"
      ],
      "text/plain": [
       "<IPython.core.display.Markdown object>"
      ]
     },
     "metadata": {},
     "output_type": "display_data"
    },
    {
     "data": {
      "text/markdown": [
       "<span style=\"font-size:11pt\">Labels (7 classes): <span style=\"color: #0000ff\">spot,building,farm</span>: 176, <span style=\"color: #0000ff\">stream,lake</span>: 74, <span style=\"color: #0000ff\">road,railroad</span>: 16, <span style=\"color: #0000ff\">parks,area</span>: 28, <span style=\"color: #0000ff\">undersea</span>: 27, <span style=\"color: #0000ff\">mountain,hill,rock</span>: 68, <span style=\"color: #0000ff\">forest,heath</span>: 14</span>"
      ],
      "text/plain": [
       "<IPython.core.display.Markdown object>"
      ]
     },
     "metadata": {},
     "output_type": "display_data"
    },
    {
     "data": {
      "text/markdown": [
       "<span style=\"font-size:11pt\">Eval-Settings: metric: <span style=\"color: #0000ff\">f1</span>, type: <span style=\"color: #0000ff\">all-at-once</span>, DT-Depth: <span style=\"color: #0000ff\">2</span>, train-test-split:<span style=\"color: #0000ff\"> 50.0% in test-set </span></span>"
      ],
      "text/plain": [
       "<IPython.core.display.Markdown object>"
      ]
     },
     "metadata": {},
     "output_type": "display_data"
    },
    {
     "name": "stderr",
     "output_type": "stream",
     "text": [
      "derive_conceptualspace/evaluate/shallow_trees.py:123: UserWarning: There are more classes (7) than your decision-tree can possibly classify (4)\n"
     ]
    },
    {
     "data": {
      "text/markdown": [
       "<span style=\"font-size:11pt\">f1: 0.50</span>"
      ],
      "text/plain": [
       "<IPython.core.display.Markdown object>"
      ]
     },
     "metadata": {},
     "output_type": "display_data"
    },
    {
     "data": {
      "text/markdown": [
       "<span style=\"font-size:11pt\">====================================================================================================</span>"
      ],
      "text/plain": [
       "<IPython.core.display.Markdown object>"
      ]
     },
     "metadata": {},
     "output_type": "display_data"
    },
    {
     "data": {
      "text/markdown": [
       "<span style=\"font-size:11pt\">Using classes from Geonames - 403/1383 entities have a class</span>"
      ],
      "text/plain": [
       "<IPython.core.display.Markdown object>"
      ]
     },
     "metadata": {},
     "output_type": "display_data"
    },
    {
     "data": {
      "text/markdown": [
       "<span style=\"font-size:11pt\">Labels (7 classes): <span style=\"color: #0000ff\">spot,building,farm</span>: 176, <span style=\"color: #0000ff\">stream,lake</span>: 74, <span style=\"color: #0000ff\">road,railroad</span>: 16, <span style=\"color: #0000ff\">parks,area</span>: 28, <span style=\"color: #0000ff\">undersea</span>: 27, <span style=\"color: #0000ff\">mountain,hill,rock</span>: 68, <span style=\"color: #0000ff\">forest,heath</span>: 14</span>"
      ],
      "text/plain": [
       "<IPython.core.display.Markdown object>"
      ]
     },
     "metadata": {},
     "output_type": "display_data"
    },
    {
     "data": {
      "text/markdown": [
       "<span style=\"font-size:11pt\">Eval-Settings: metric: <span style=\"color: #0000ff\">accuracy</span>, type: <span style=\"color: #0000ff\">all-at-once</span>, DT-Depth: <span style=\"color: #0000ff\">3</span>, train-test-split:<span style=\"color: #0000ff\"> 50.0% in test-set </span></span>"
      ],
      "text/plain": [
       "<IPython.core.display.Markdown object>"
      ]
     },
     "metadata": {},
     "output_type": "display_data"
    },
    {
     "data": {
      "text/markdown": [
       "<span style=\"font-size:11pt\">accuracy: 0.34</span>"
      ],
      "text/plain": [
       "<IPython.core.display.Markdown object>"
      ]
     },
     "metadata": {},
     "output_type": "display_data"
    },
    {
     "data": {
      "text/markdown": [
       "<span style=\"font-size:11pt\">====================================================================================================</span>"
      ],
      "text/plain": [
       "<IPython.core.display.Markdown object>"
      ]
     },
     "metadata": {},
     "output_type": "display_data"
    },
    {
     "data": {
      "text/markdown": [
       "<span style=\"font-size:11pt\">Using classes from Geonames - 403/1383 entities have a class</span>"
      ],
      "text/plain": [
       "<IPython.core.display.Markdown object>"
      ]
     },
     "metadata": {},
     "output_type": "display_data"
    },
    {
     "data": {
      "text/markdown": [
       "<span style=\"font-size:11pt\">Labels (7 classes): <span style=\"color: #0000ff\">spot,building,farm</span>: 176, <span style=\"color: #0000ff\">stream,lake</span>: 74, <span style=\"color: #0000ff\">road,railroad</span>: 16, <span style=\"color: #0000ff\">parks,area</span>: 28, <span style=\"color: #0000ff\">undersea</span>: 27, <span style=\"color: #0000ff\">mountain,hill,rock</span>: 68, <span style=\"color: #0000ff\">forest,heath</span>: 14</span>"
      ],
      "text/plain": [
       "<IPython.core.display.Markdown object>"
      ]
     },
     "metadata": {},
     "output_type": "display_data"
    },
    {
     "data": {
      "text/markdown": [
       "<span style=\"font-size:11pt\">Eval-Settings: metric: <span style=\"color: #0000ff\">f1</span>, type: <span style=\"color: #0000ff\">all-at-once</span>, DT-Depth: <span style=\"color: #0000ff\">3</span>, train-test-split:<span style=\"color: #0000ff\"> 50.0% in test-set </span></span>"
      ],
      "text/plain": [
       "<IPython.core.display.Markdown object>"
      ]
     },
     "metadata": {},
     "output_type": "display_data"
    },
    {
     "data": {
      "text/markdown": [
       "<span style=\"font-size:11pt\">f1: 0.30</span>"
      ],
      "text/plain": [
       "<IPython.core.display.Markdown object>"
      ]
     },
     "metadata": {},
     "output_type": "display_data"
    },
    {
     "data": {
      "text/markdown": [
       "<span style=\"font-size:11pt\">====================================================================================================</span>"
      ],
      "text/plain": [
       "<IPython.core.display.Markdown object>"
      ]
     },
     "metadata": {},
     "output_type": "display_data"
    },
    {
     "data": {
      "text/markdown": [
       "<span style=\"font-size:11pt\">Using classes from Geonames - 403/1383 entities have a class</span>"
      ],
      "text/plain": [
       "<IPython.core.display.Markdown object>"
      ]
     },
     "metadata": {},
     "output_type": "display_data"
    },
    {
     "data": {
      "text/markdown": [
       "<span style=\"font-size:11pt\">Labels (7 classes): <span style=\"color: #0000ff\">spot,building,farm</span>: 176, <span style=\"color: #0000ff\">stream,lake</span>: 74, <span style=\"color: #0000ff\">road,railroad</span>: 16, <span style=\"color: #0000ff\">parks,area</span>: 28, <span style=\"color: #0000ff\">undersea</span>: 27, <span style=\"color: #0000ff\">mountain,hill,rock</span>: 68, <span style=\"color: #0000ff\">forest,heath</span>: 14</span>"
      ],
      "text/plain": [
       "<IPython.core.display.Markdown object>"
      ]
     },
     "metadata": {},
     "output_type": "display_data"
    },
    {
     "data": {
      "text/markdown": [
       "<span style=\"font-size:11pt\">Eval-Settings: metric: <span style=\"color: #0000ff\">accuracy</span>, type: <span style=\"color: #0000ff\">all-at-once</span>, DT-Depth: <span style=\"color: #0000ff\">3</span>, train-test-split:<span style=\"color: #0000ff\"> 50.0% in test-set </span></span>"
      ],
      "text/plain": [
       "<IPython.core.display.Markdown object>"
      ]
     },
     "metadata": {},
     "output_type": "display_data"
    },
    {
     "data": {
      "text/markdown": [
       "<span style=\"font-size:11pt\">accuracy: 0.47</span>"
      ],
      "text/plain": [
       "<IPython.core.display.Markdown object>"
      ]
     },
     "metadata": {},
     "output_type": "display_data"
    },
    {
     "data": {
      "text/markdown": [
       "<span style=\"font-size:11pt\">====================================================================================================</span>"
      ],
      "text/plain": [
       "<IPython.core.display.Markdown object>"
      ]
     },
     "metadata": {},
     "output_type": "display_data"
    },
    {
     "data": {
      "text/markdown": [
       "<span style=\"font-size:11pt\">Using classes from Geonames - 403/1383 entities have a class</span>"
      ],
      "text/plain": [
       "<IPython.core.display.Markdown object>"
      ]
     },
     "metadata": {},
     "output_type": "display_data"
    },
    {
     "data": {
      "text/markdown": [
       "<span style=\"font-size:11pt\">Labels (7 classes): <span style=\"color: #0000ff\">spot,building,farm</span>: 176, <span style=\"color: #0000ff\">stream,lake</span>: 74, <span style=\"color: #0000ff\">road,railroad</span>: 16, <span style=\"color: #0000ff\">parks,area</span>: 28, <span style=\"color: #0000ff\">undersea</span>: 27, <span style=\"color: #0000ff\">mountain,hill,rock</span>: 68, <span style=\"color: #0000ff\">forest,heath</span>: 14</span>"
      ],
      "text/plain": [
       "<IPython.core.display.Markdown object>"
      ]
     },
     "metadata": {},
     "output_type": "display_data"
    },
    {
     "data": {
      "text/markdown": [
       "<span style=\"font-size:11pt\">Eval-Settings: metric: <span style=\"color: #0000ff\">f1</span>, type: <span style=\"color: #0000ff\">all-at-once</span>, DT-Depth: <span style=\"color: #0000ff\">3</span>, train-test-split:<span style=\"color: #0000ff\"> 50.0% in test-set </span></span>"
      ],
      "text/plain": [
       "<IPython.core.display.Markdown object>"
      ]
     },
     "metadata": {},
     "output_type": "display_data"
    },
    {
     "data": {
      "text/markdown": [
       "<span style=\"font-size:11pt\">f1: 0.49</span>"
      ],
      "text/plain": [
       "<IPython.core.display.Markdown object>"
      ]
     },
     "metadata": {},
     "output_type": "display_data"
    },
    {
     "data": {
      "text/markdown": [
       "<span style=\"font-size:11pt\">====================================================================================================</span>"
      ],
      "text/plain": [
       "<IPython.core.display.Markdown object>"
      ]
     },
     "metadata": {},
     "output_type": "display_data"
    },
    {
     "data": {
      "text/markdown": [
       "<span style=\"font-size:11pt\">Using classes from Geonames - 403/1383 entities have a class</span>"
      ],
      "text/plain": [
       "<IPython.core.display.Markdown object>"
      ]
     },
     "metadata": {},
     "output_type": "display_data"
    },
    {
     "data": {
      "text/markdown": [
       "<span style=\"font-size:11pt\">Labels (7 classes): <span style=\"color: #0000ff\">spot,building,farm</span>: 176, <span style=\"color: #0000ff\">stream,lake</span>: 74, <span style=\"color: #0000ff\">road,railroad</span>: 16, <span style=\"color: #0000ff\">parks,area</span>: 28, <span style=\"color: #0000ff\">undersea</span>: 27, <span style=\"color: #0000ff\">mountain,hill,rock</span>: 68, <span style=\"color: #0000ff\">forest,heath</span>: 14</span>"
      ],
      "text/plain": [
       "<IPython.core.display.Markdown object>"
      ]
     },
     "metadata": {},
     "output_type": "display_data"
    },
    {
     "data": {
      "text/markdown": [
       "<span style=\"font-size:11pt\">Eval-Settings: metric: <span style=\"color: #0000ff\">accuracy</span>, type: <span style=\"color: #0000ff\">all-at-once</span>, DT-Depth: <span style=\"color: #0000ff\">None</span>, train-test-split:<span style=\"color: #0000ff\"> 50.0% in test-set </span></span>"
      ],
      "text/plain": [
       "<IPython.core.display.Markdown object>"
      ]
     },
     "metadata": {},
     "output_type": "display_data"
    },
    {
     "data": {
      "text/markdown": [
       "<span style=\"font-size:11pt\">accuracy: 0.42</span>"
      ],
      "text/plain": [
       "<IPython.core.display.Markdown object>"
      ]
     },
     "metadata": {},
     "output_type": "display_data"
    },
    {
     "data": {
      "text/markdown": [
       "<span style=\"font-size:11pt\">====================================================================================================</span>"
      ],
      "text/plain": [
       "<IPython.core.display.Markdown object>"
      ]
     },
     "metadata": {},
     "output_type": "display_data"
    },
    {
     "data": {
      "text/markdown": [
       "<span style=\"font-size:11pt\">Using classes from Geonames - 403/1383 entities have a class</span>"
      ],
      "text/plain": [
       "<IPython.core.display.Markdown object>"
      ]
     },
     "metadata": {},
     "output_type": "display_data"
    },
    {
     "data": {
      "text/markdown": [
       "<span style=\"font-size:11pt\">Labels (7 classes): <span style=\"color: #0000ff\">spot,building,farm</span>: 176, <span style=\"color: #0000ff\">stream,lake</span>: 74, <span style=\"color: #0000ff\">road,railroad</span>: 16, <span style=\"color: #0000ff\">parks,area</span>: 28, <span style=\"color: #0000ff\">undersea</span>: 27, <span style=\"color: #0000ff\">mountain,hill,rock</span>: 68, <span style=\"color: #0000ff\">forest,heath</span>: 14</span>"
      ],
      "text/plain": [
       "<IPython.core.display.Markdown object>"
      ]
     },
     "metadata": {},
     "output_type": "display_data"
    },
    {
     "data": {
      "text/markdown": [
       "<span style=\"font-size:11pt\">Eval-Settings: metric: <span style=\"color: #0000ff\">f1</span>, type: <span style=\"color: #0000ff\">all-at-once</span>, DT-Depth: <span style=\"color: #0000ff\">None</span>, train-test-split:<span style=\"color: #0000ff\"> 50.0% in test-set </span></span>"
      ],
      "text/plain": [
       "<IPython.core.display.Markdown object>"
      ]
     },
     "metadata": {},
     "output_type": "display_data"
    },
    {
     "data": {
      "text/markdown": [
       "<span style=\"font-size:11pt\">f1: 0.42</span>"
      ],
      "text/plain": [
       "<IPython.core.display.Markdown object>"
      ]
     },
     "metadata": {},
     "output_type": "display_data"
    },
    {
     "data": {
      "text/markdown": [
       "<span style=\"font-size:11pt\">====================================================================================================</span>"
      ],
      "text/plain": [
       "<IPython.core.display.Markdown object>"
      ]
     },
     "metadata": {},
     "output_type": "display_data"
    },
    {
     "data": {
      "text/markdown": [
       "<span style=\"font-size:11pt\">Using classes from Geonames - 403/1383 entities have a class</span>"
      ],
      "text/plain": [
       "<IPython.core.display.Markdown object>"
      ]
     },
     "metadata": {},
     "output_type": "display_data"
    },
    {
     "data": {
      "text/markdown": [
       "<span style=\"font-size:11pt\">Labels (7 classes): <span style=\"color: #0000ff\">spot,building,farm</span>: 176, <span style=\"color: #0000ff\">stream,lake</span>: 74, <span style=\"color: #0000ff\">road,railroad</span>: 16, <span style=\"color: #0000ff\">parks,area</span>: 28, <span style=\"color: #0000ff\">undersea</span>: 27, <span style=\"color: #0000ff\">mountain,hill,rock</span>: 68, <span style=\"color: #0000ff\">forest,heath</span>: 14</span>"
      ],
      "text/plain": [
       "<IPython.core.display.Markdown object>"
      ]
     },
     "metadata": {},
     "output_type": "display_data"
    },
    {
     "data": {
      "text/markdown": [
       "<span style=\"font-size:11pt\">Eval-Settings: metric: <span style=\"color: #0000ff\">accuracy</span>, type: <span style=\"color: #0000ff\">all-at-once</span>, DT-Depth: <span style=\"color: #0000ff\">None</span>, train-test-split:<span style=\"color: #0000ff\"> 50.0% in test-set </span></span>"
      ],
      "text/plain": [
       "<IPython.core.display.Markdown object>"
      ]
     },
     "metadata": {},
     "output_type": "display_data"
    },
    {
     "data": {
      "text/markdown": [
       "<span style=\"font-size:11pt\">accuracy: 0.40</span>"
      ],
      "text/plain": [
       "<IPython.core.display.Markdown object>"
      ]
     },
     "metadata": {},
     "output_type": "display_data"
    },
    {
     "data": {
      "text/markdown": [
       "<span style=\"font-size:11pt\">====================================================================================================</span>"
      ],
      "text/plain": [
       "<IPython.core.display.Markdown object>"
      ]
     },
     "metadata": {},
     "output_type": "display_data"
    },
    {
     "data": {
      "text/markdown": [
       "<span style=\"font-size:11pt\">Using classes from Geonames - 403/1383 entities have a class</span>"
      ],
      "text/plain": [
       "<IPython.core.display.Markdown object>"
      ]
     },
     "metadata": {},
     "output_type": "display_data"
    },
    {
     "data": {
      "text/markdown": [
       "<span style=\"font-size:11pt\">Labels (7 classes): <span style=\"color: #0000ff\">spot,building,farm</span>: 176, <span style=\"color: #0000ff\">stream,lake</span>: 74, <span style=\"color: #0000ff\">road,railroad</span>: 16, <span style=\"color: #0000ff\">parks,area</span>: 28, <span style=\"color: #0000ff\">undersea</span>: 27, <span style=\"color: #0000ff\">mountain,hill,rock</span>: 68, <span style=\"color: #0000ff\">forest,heath</span>: 14</span>"
      ],
      "text/plain": [
       "<IPython.core.display.Markdown object>"
      ]
     },
     "metadata": {},
     "output_type": "display_data"
    },
    {
     "data": {
      "text/markdown": [
       "<span style=\"font-size:11pt\">Eval-Settings: metric: <span style=\"color: #0000ff\">f1</span>, type: <span style=\"color: #0000ff\">all-at-once</span>, DT-Depth: <span style=\"color: #0000ff\">None</span>, train-test-split:<span style=\"color: #0000ff\"> 50.0% in test-set </span></span>"
      ],
      "text/plain": [
       "<IPython.core.display.Markdown object>"
      ]
     },
     "metadata": {},
     "output_type": "display_data"
    },
    {
     "data": {
      "text/markdown": [
       "<span style=\"font-size:11pt\">f1: 0.32</span>"
      ],
      "text/plain": [
       "<IPython.core.display.Markdown object>"
      ]
     },
     "metadata": {},
     "output_type": "display_data"
    },
    {
     "data": {
      "text/markdown": [
       "<span style=\"font-size:11pt\">====================================================================================================</span>"
      ],
      "text/plain": [
       "<IPython.core.display.Markdown object>"
      ]
     },
     "metadata": {},
     "output_type": "display_data"
    },
    {
     "data": {
      "text/markdown": [
       "<span style=\"font-size:11pt\">Using classes from Geonames - 403/1383 entities have a class</span>"
      ],
      "text/plain": [
       "<IPython.core.display.Markdown object>"
      ]
     },
     "metadata": {},
     "output_type": "display_data"
    },
    {
     "data": {
      "text/markdown": [
       "<span style=\"font-size:11pt\">Labels (7 classes): <span style=\"color: #0000ff\">spot,building,farm</span>: 176, <span style=\"color: #0000ff\">stream,lake</span>: 74, <span style=\"color: #0000ff\">road,railroad</span>: 16, <span style=\"color: #0000ff\">parks,area</span>: 28, <span style=\"color: #0000ff\">undersea</span>: 27, <span style=\"color: #0000ff\">mountain,hill,rock</span>: 68, <span style=\"color: #0000ff\">forest,heath</span>: 14</span>"
      ],
      "text/plain": [
       "<IPython.core.display.Markdown object>"
      ]
     },
     "metadata": {},
     "output_type": "display_data"
    },
    {
     "data": {
      "text/markdown": [
       "<span style=\"font-size:11pt\">Eval-Settings: metric: <span style=\"color: #0000ff\">accuracy</span>, type: <span style=\"color: #0000ff\">one-vs-rest</span>, DT-Depth: <span style=\"color: #0000ff\">1</span>, train-test-split:<span style=\"color: #0000ff\"> 4-fold cross-validation </span></span>"
      ],
      "text/plain": [
       "<IPython.core.display.Markdown object>"
      ]
     },
     "metadata": {},
     "output_type": "display_data"
    },
    {
     "data": {
      "text/markdown": [
       "<span style=\"font-size:11pt\">Per-Class-Scores: spot,building,farm: 0.75, stream,lake: 0.58, undersea: 0.67, road,railroad: 0.47, forest,heath: 0.42, parks,area: 0.38, mountain,hill,rock: 0.49</span>"
      ],
      "text/plain": [
       "<IPython.core.display.Markdown object>"
      ]
     },
     "metadata": {},
     "output_type": "display_data"
    },
    {
     "data": {
      "text/markdown": [
       "<span style=\"font-size:11pt\">Unweighted Mean accuracy: 53.82%</span>"
      ],
      "text/plain": [
       "<IPython.core.display.Markdown object>"
      ]
     },
     "metadata": {},
     "output_type": "display_data"
    },
    {
     "data": {
      "text/markdown": [
       "<span style=\"font-size:11pt\">Weighted Mean accuracy: 62.26%</span>"
      ],
      "text/plain": [
       "<IPython.core.display.Markdown object>"
      ]
     },
     "metadata": {},
     "output_type": "display_data"
    },
    {
     "data": {
      "text/markdown": [
       "<span style=\"font-size:11pt\">====================================================================================================</span>"
      ],
      "text/plain": [
       "<IPython.core.display.Markdown object>"
      ]
     },
     "metadata": {},
     "output_type": "display_data"
    },
    {
     "data": {
      "text/markdown": [
       "<span style=\"font-size:11pt\">Using classes from Geonames - 403/1383 entities have a class</span>"
      ],
      "text/plain": [
       "<IPython.core.display.Markdown object>"
      ]
     },
     "metadata": {},
     "output_type": "display_data"
    },
    {
     "data": {
      "text/markdown": [
       "<span style=\"font-size:11pt\">Labels (7 classes): <span style=\"color: #0000ff\">spot,building,farm</span>: 176, <span style=\"color: #0000ff\">stream,lake</span>: 74, <span style=\"color: #0000ff\">road,railroad</span>: 16, <span style=\"color: #0000ff\">parks,area</span>: 28, <span style=\"color: #0000ff\">undersea</span>: 27, <span style=\"color: #0000ff\">mountain,hill,rock</span>: 68, <span style=\"color: #0000ff\">forest,heath</span>: 14</span>"
      ],
      "text/plain": [
       "<IPython.core.display.Markdown object>"
      ]
     },
     "metadata": {},
     "output_type": "display_data"
    },
    {
     "data": {
      "text/markdown": [
       "<span style=\"font-size:11pt\">Eval-Settings: metric: <span style=\"color: #0000ff\">f1</span>, type: <span style=\"color: #0000ff\">one-vs-rest</span>, DT-Depth: <span style=\"color: #0000ff\">1</span>, train-test-split:<span style=\"color: #0000ff\"> 4-fold cross-validation </span></span>"
      ],
      "text/plain": [
       "<IPython.core.display.Markdown object>"
      ]
     },
     "metadata": {},
     "output_type": "display_data"
    },
    {
     "data": {
      "text/markdown": [
       "<span style=\"font-size:11pt\">Per-Class-Scores: spot,building,farm: 0.72, stream,lake: 0.40, undersea: 0.19, road,railroad: 0.10, forest,heath: 0.10, parks,area: 0.15, mountain,hill,rock: 0.39</span>"
      ],
      "text/plain": [
       "<IPython.core.display.Markdown object>"
      ]
     },
     "metadata": {},
     "output_type": "display_data"
    },
    {
     "data": {
      "text/markdown": [
       "<span style=\"font-size:11pt\">Unweighted Mean f1: 29.39%</span>"
      ],
      "text/plain": [
       "<IPython.core.display.Markdown object>"
      ]
     },
     "metadata": {},
     "output_type": "display_data"
    },
    {
     "data": {
      "text/markdown": [
       "<span style=\"font-size:11pt\">Weighted Mean f1: 48.69%</span>"
      ],
      "text/plain": [
       "<IPython.core.display.Markdown object>"
      ]
     },
     "metadata": {},
     "output_type": "display_data"
    },
    {
     "data": {
      "text/markdown": [
       "<span style=\"font-size:11pt\">====================================================================================================</span>"
      ],
      "text/plain": [
       "<IPython.core.display.Markdown object>"
      ]
     },
     "metadata": {},
     "output_type": "display_data"
    },
    {
     "data": {
      "text/markdown": [
       "<span style=\"font-size:11pt\">Using classes from Geonames - 403/1383 entities have a class</span>"
      ],
      "text/plain": [
       "<IPython.core.display.Markdown object>"
      ]
     },
     "metadata": {},
     "output_type": "display_data"
    },
    {
     "data": {
      "text/markdown": [
       "<span style=\"font-size:11pt\">Labels (7 classes): <span style=\"color: #0000ff\">spot,building,farm</span>: 176, <span style=\"color: #0000ff\">stream,lake</span>: 74, <span style=\"color: #0000ff\">road,railroad</span>: 16, <span style=\"color: #0000ff\">parks,area</span>: 28, <span style=\"color: #0000ff\">undersea</span>: 27, <span style=\"color: #0000ff\">mountain,hill,rock</span>: 68, <span style=\"color: #0000ff\">forest,heath</span>: 14</span>"
      ],
      "text/plain": [
       "<IPython.core.display.Markdown object>"
      ]
     },
     "metadata": {},
     "output_type": "display_data"
    },
    {
     "data": {
      "text/markdown": [
       "<span style=\"font-size:11pt\">Eval-Settings: metric: <span style=\"color: #0000ff\">accuracy</span>, type: <span style=\"color: #0000ff\">one-vs-rest</span>, DT-Depth: <span style=\"color: #0000ff\">1</span>, train-test-split:<span style=\"color: #0000ff\"> 4-fold cross-validation </span></span>"
      ],
      "text/plain": [
       "<IPython.core.display.Markdown object>"
      ]
     },
     "metadata": {},
     "output_type": "display_data"
    },
    {
     "data": {
      "text/markdown": [
       "<span style=\"font-size:11pt\">Per-Class-Scores: spot,building,farm: 0.75, stream,lake: 0.82, undersea: 0.93, road,railroad: 0.96, forest,heath: 0.97, parks,area: 0.93, mountain,hill,rock: 0.83</span>"
      ],
      "text/plain": [
       "<IPython.core.display.Markdown object>"
      ]
     },
     "metadata": {},
     "output_type": "display_data"
    },
    {
     "data": {
      "text/markdown": [
       "<span style=\"font-size:11pt\">Unweighted Mean accuracy: 88.37%</span>"
      ],
      "text/plain": [
       "<IPython.core.display.Markdown object>"
      ]
     },
     "metadata": {},
     "output_type": "display_data"
    },
    {
     "data": {
      "text/markdown": [
       "<span style=\"font-size:11pt\">Weighted Mean accuracy: 81.72%</span>"
      ],
      "text/plain": [
       "<IPython.core.display.Markdown object>"
      ]
     },
     "metadata": {},
     "output_type": "display_data"
    },
    {
     "data": {
      "text/markdown": [
       "<span style=\"font-size:11pt\">====================================================================================================</span>"
      ],
      "text/plain": [
       "<IPython.core.display.Markdown object>"
      ]
     },
     "metadata": {},
     "output_type": "display_data"
    },
    {
     "data": {
      "text/markdown": [
       "<span style=\"font-size:11pt\">Using classes from Geonames - 403/1383 entities have a class</span>"
      ],
      "text/plain": [
       "<IPython.core.display.Markdown object>"
      ]
     },
     "metadata": {},
     "output_type": "display_data"
    },
    {
     "data": {
      "text/markdown": [
       "<span style=\"font-size:11pt\">Labels (7 classes): <span style=\"color: #0000ff\">spot,building,farm</span>: 176, <span style=\"color: #0000ff\">stream,lake</span>: 74, <span style=\"color: #0000ff\">road,railroad</span>: 16, <span style=\"color: #0000ff\">parks,area</span>: 28, <span style=\"color: #0000ff\">undersea</span>: 27, <span style=\"color: #0000ff\">mountain,hill,rock</span>: 68, <span style=\"color: #0000ff\">forest,heath</span>: 14</span>"
      ],
      "text/plain": [
       "<IPython.core.display.Markdown object>"
      ]
     },
     "metadata": {},
     "output_type": "display_data"
    },
    {
     "data": {
      "text/markdown": [
       "<span style=\"font-size:11pt\">Eval-Settings: metric: <span style=\"color: #0000ff\">f1</span>, type: <span style=\"color: #0000ff\">one-vs-rest</span>, DT-Depth: <span style=\"color: #0000ff\">1</span>, train-test-split:<span style=\"color: #0000ff\"> 4-fold cross-validation </span></span>"
      ],
      "text/plain": [
       "<IPython.core.display.Markdown object>"
      ]
     },
     "metadata": {},
     "output_type": "display_data"
    },
    {
     "data": {
      "text/markdown": [
       "<span style=\"font-size:11pt\">Per-Class-Scores: spot,building,farm: 0.72, stream,lake: 0.00, undersea: 0.00, road,railroad: 0.00, forest,heath: 0.00, parks,area: 0.00, mountain,hill,rock: 0.00</span>"
      ],
      "text/plain": [
       "<IPython.core.display.Markdown object>"
      ]
     },
     "metadata": {},
     "output_type": "display_data"
    },
    {
     "data": {
      "text/markdown": [
       "<span style=\"font-size:11pt\">Unweighted Mean f1: 10.35%</span>"
      ],
      "text/plain": [
       "<IPython.core.display.Markdown object>"
      ]
     },
     "metadata": {},
     "output_type": "display_data"
    },
    {
     "data": {
      "text/markdown": [
       "<span style=\"font-size:11pt\">Weighted Mean f1: 31.64%</span>"
      ],
      "text/plain": [
       "<IPython.core.display.Markdown object>"
      ]
     },
     "metadata": {},
     "output_type": "display_data"
    },
    {
     "data": {
      "text/markdown": [
       "<span style=\"font-size:11pt\">====================================================================================================</span>"
      ],
      "text/plain": [
       "<IPython.core.display.Markdown object>"
      ]
     },
     "metadata": {},
     "output_type": "display_data"
    },
    {
     "data": {
      "text/markdown": [
       "<span style=\"font-size:11pt\">Using classes from Geonames - 403/1383 entities have a class</span>"
      ],
      "text/plain": [
       "<IPython.core.display.Markdown object>"
      ]
     },
     "metadata": {},
     "output_type": "display_data"
    },
    {
     "data": {
      "text/markdown": [
       "<span style=\"font-size:11pt\">Labels (7 classes): <span style=\"color: #0000ff\">spot,building,farm</span>: 176, <span style=\"color: #0000ff\">stream,lake</span>: 74, <span style=\"color: #0000ff\">road,railroad</span>: 16, <span style=\"color: #0000ff\">parks,area</span>: 28, <span style=\"color: #0000ff\">undersea</span>: 27, <span style=\"color: #0000ff\">mountain,hill,rock</span>: 68, <span style=\"color: #0000ff\">forest,heath</span>: 14</span>"
      ],
      "text/plain": [
       "<IPython.core.display.Markdown object>"
      ]
     },
     "metadata": {},
     "output_type": "display_data"
    },
    {
     "data": {
      "text/markdown": [
       "<span style=\"font-size:11pt\">Eval-Settings: metric: <span style=\"color: #0000ff\">accuracy</span>, type: <span style=\"color: #0000ff\">one-vs-rest</span>, DT-Depth: <span style=\"color: #0000ff\">2</span>, train-test-split:<span style=\"color: #0000ff\"> 4-fold cross-validation </span></span>"
      ],
      "text/plain": [
       "<IPython.core.display.Markdown object>"
      ]
     },
     "metadata": {},
     "output_type": "display_data"
    },
    {
     "data": {
      "text/markdown": [
       "<span style=\"font-size:11pt\">Per-Class-Scores: spot,building,farm: 0.76, stream,lake: 0.65, undersea: 0.68, road,railroad: 0.61, forest,heath: 0.76, parks,area: 0.42, mountain,hill,rock: 0.51</span>"
      ],
      "text/plain": [
       "<IPython.core.display.Markdown object>"
      ]
     },
     "metadata": {},
     "output_type": "display_data"
    },
    {
     "data": {
      "text/markdown": [
       "<span style=\"font-size:11pt\">Unweighted Mean accuracy: 62.85%</span>"
      ],
      "text/plain": [
       "<IPython.core.display.Markdown object>"
      ]
     },
     "metadata": {},
     "output_type": "display_data"
    },
    {
     "data": {
      "text/markdown": [
       "<span style=\"font-size:11pt\">Weighted Mean accuracy: 66.35%</span>"
      ],
      "text/plain": [
       "<IPython.core.display.Markdown object>"
      ]
     },
     "metadata": {},
     "output_type": "display_data"
    },
    {
     "data": {
      "text/markdown": [
       "<span style=\"font-size:11pt\">====================================================================================================</span>"
      ],
      "text/plain": [
       "<IPython.core.display.Markdown object>"
      ]
     },
     "metadata": {},
     "output_type": "display_data"
    },
    {
     "data": {
      "text/markdown": [
       "<span style=\"font-size:11pt\">Using classes from Geonames - 403/1383 entities have a class</span>"
      ],
      "text/plain": [
       "<IPython.core.display.Markdown object>"
      ]
     },
     "metadata": {},
     "output_type": "display_data"
    },
    {
     "data": {
      "text/markdown": [
       "<span style=\"font-size:11pt\">Labels (7 classes): <span style=\"color: #0000ff\">spot,building,farm</span>: 176, <span style=\"color: #0000ff\">stream,lake</span>: 74, <span style=\"color: #0000ff\">road,railroad</span>: 16, <span style=\"color: #0000ff\">parks,area</span>: 28, <span style=\"color: #0000ff\">undersea</span>: 27, <span style=\"color: #0000ff\">mountain,hill,rock</span>: 68, <span style=\"color: #0000ff\">forest,heath</span>: 14</span>"
      ],
      "text/plain": [
       "<IPython.core.display.Markdown object>"
      ]
     },
     "metadata": {},
     "output_type": "display_data"
    },
    {
     "data": {
      "text/markdown": [
       "<span style=\"font-size:11pt\">Eval-Settings: metric: <span style=\"color: #0000ff\">f1</span>, type: <span style=\"color: #0000ff\">one-vs-rest</span>, DT-Depth: <span style=\"color: #0000ff\">2</span>, train-test-split:<span style=\"color: #0000ff\"> 4-fold cross-validation </span></span>"
      ],
      "text/plain": [
       "<IPython.core.display.Markdown object>"
      ]
     },
     "metadata": {},
     "output_type": "display_data"
    },
    {
     "data": {
      "text/markdown": [
       "<span style=\"font-size:11pt\">Per-Class-Scores: spot,building,farm: 0.74, stream,lake: 0.44, undersea: 0.15, road,railroad: 0.12, forest,heath: 0.14, parks,area: 0.14, mountain,hill,rock: 0.39</span>"
      ],
      "text/plain": [
       "<IPython.core.display.Markdown object>"
      ]
     },
     "metadata": {},
     "output_type": "display_data"
    },
    {
     "data": {
      "text/markdown": [
       "<span style=\"font-size:11pt\">Unweighted Mean f1: 30.24%</span>"
      ],
      "text/plain": [
       "<IPython.core.display.Markdown object>"
      ]
     },
     "metadata": {},
     "output_type": "display_data"
    },
    {
     "data": {
      "text/markdown": [
       "<span style=\"font-size:11pt\">Weighted Mean f1: 49.81%</span>"
      ],
      "text/plain": [
       "<IPython.core.display.Markdown object>"
      ]
     },
     "metadata": {},
     "output_type": "display_data"
    },
    {
     "data": {
      "text/markdown": [
       "<span style=\"font-size:11pt\">====================================================================================================</span>"
      ],
      "text/plain": [
       "<IPython.core.display.Markdown object>"
      ]
     },
     "metadata": {},
     "output_type": "display_data"
    },
    {
     "data": {
      "text/markdown": [
       "<span style=\"font-size:11pt\">Using classes from Geonames - 403/1383 entities have a class</span>"
      ],
      "text/plain": [
       "<IPython.core.display.Markdown object>"
      ]
     },
     "metadata": {},
     "output_type": "display_data"
    },
    {
     "data": {
      "text/markdown": [
       "<span style=\"font-size:11pt\">Labels (7 classes): <span style=\"color: #0000ff\">spot,building,farm</span>: 176, <span style=\"color: #0000ff\">stream,lake</span>: 74, <span style=\"color: #0000ff\">road,railroad</span>: 16, <span style=\"color: #0000ff\">parks,area</span>: 28, <span style=\"color: #0000ff\">undersea</span>: 27, <span style=\"color: #0000ff\">mountain,hill,rock</span>: 68, <span style=\"color: #0000ff\">forest,heath</span>: 14</span>"
      ],
      "text/plain": [
       "<IPython.core.display.Markdown object>"
      ]
     },
     "metadata": {},
     "output_type": "display_data"
    },
    {
     "data": {
      "text/markdown": [
       "<span style=\"font-size:11pt\">Eval-Settings: metric: <span style=\"color: #0000ff\">accuracy</span>, type: <span style=\"color: #0000ff\">one-vs-rest</span>, DT-Depth: <span style=\"color: #0000ff\">2</span>, train-test-split:<span style=\"color: #0000ff\"> 4-fold cross-validation </span></span>"
      ],
      "text/plain": [
       "<IPython.core.display.Markdown object>"
      ]
     },
     "metadata": {},
     "output_type": "display_data"
    },
    {
     "data": {
      "text/markdown": [
       "<span style=\"font-size:11pt\">Per-Class-Scores: spot,building,farm: 0.75, stream,lake: 0.80, undersea: 0.92, road,railroad: 0.95, forest,heath: 0.97, parks,area: 0.93, mountain,hill,rock: 0.82</span>"
      ],
      "text/plain": [
       "<IPython.core.display.Markdown object>"
      ]
     },
     "metadata": {},
     "output_type": "display_data"
    },
    {
     "data": {
      "text/markdown": [
       "<span style=\"font-size:11pt\">Unweighted Mean accuracy: 87.56%</span>"
      ],
      "text/plain": [
       "<IPython.core.display.Markdown object>"
      ]
     },
     "metadata": {},
     "output_type": "display_data"
    },
    {
     "data": {
      "text/markdown": [
       "<span style=\"font-size:11pt\">Weighted Mean accuracy: 80.92%</span>"
      ],
      "text/plain": [
       "<IPython.core.display.Markdown object>"
      ]
     },
     "metadata": {},
     "output_type": "display_data"
    },
    {
     "data": {
      "text/markdown": [
       "<span style=\"font-size:11pt\">====================================================================================================</span>"
      ],
      "text/plain": [
       "<IPython.core.display.Markdown object>"
      ]
     },
     "metadata": {},
     "output_type": "display_data"
    },
    {
     "data": {
      "text/markdown": [
       "<span style=\"font-size:11pt\">Using classes from Geonames - 403/1383 entities have a class</span>"
      ],
      "text/plain": [
       "<IPython.core.display.Markdown object>"
      ]
     },
     "metadata": {},
     "output_type": "display_data"
    },
    {
     "data": {
      "text/markdown": [
       "<span style=\"font-size:11pt\">Labels (7 classes): <span style=\"color: #0000ff\">spot,building,farm</span>: 176, <span style=\"color: #0000ff\">stream,lake</span>: 74, <span style=\"color: #0000ff\">road,railroad</span>: 16, <span style=\"color: #0000ff\">parks,area</span>: 28, <span style=\"color: #0000ff\">undersea</span>: 27, <span style=\"color: #0000ff\">mountain,hill,rock</span>: 68, <span style=\"color: #0000ff\">forest,heath</span>: 14</span>"
      ],
      "text/plain": [
       "<IPython.core.display.Markdown object>"
      ]
     },
     "metadata": {},
     "output_type": "display_data"
    },
    {
     "data": {
      "text/markdown": [
       "<span style=\"font-size:11pt\">Eval-Settings: metric: <span style=\"color: #0000ff\">f1</span>, type: <span style=\"color: #0000ff\">one-vs-rest</span>, DT-Depth: <span style=\"color: #0000ff\">2</span>, train-test-split:<span style=\"color: #0000ff\"> 4-fold cross-validation </span></span>"
      ],
      "text/plain": [
       "<IPython.core.display.Markdown object>"
      ]
     },
     "metadata": {},
     "output_type": "display_data"
    },
    {
     "data": {
      "text/markdown": [
       "<span style=\"font-size:11pt\">Per-Class-Scores: spot,building,farm: 0.73, stream,lake: 0.04, undersea: 0.17, road,railroad: 0.00, forest,heath: 0.10, parks,area: 0.00, mountain,hill,rock: 0.07</span>"
      ],
      "text/plain": [
       "<IPython.core.display.Markdown object>"
      ]
     },
     "metadata": {},
     "output_type": "display_data"
    },
    {
     "data": {
      "text/markdown": [
       "<span style=\"font-size:11pt\">Unweighted Mean f1: 15.63%</span>"
      ],
      "text/plain": [
       "<IPython.core.display.Markdown object>"
      ]
     },
     "metadata": {},
     "output_type": "display_data"
    },
    {
     "data": {
      "text/markdown": [
       "<span style=\"font-size:11pt\">Weighted Mean f1: 34.93%</span>"
      ],
      "text/plain": [
       "<IPython.core.display.Markdown object>"
      ]
     },
     "metadata": {},
     "output_type": "display_data"
    },
    {
     "data": {
      "text/markdown": [
       "<span style=\"font-size:11pt\">====================================================================================================</span>"
      ],
      "text/plain": [
       "<IPython.core.display.Markdown object>"
      ]
     },
     "metadata": {},
     "output_type": "display_data"
    },
    {
     "data": {
      "text/markdown": [
       "<span style=\"font-size:11pt\">Using classes from Geonames - 403/1383 entities have a class</span>"
      ],
      "text/plain": [
       "<IPython.core.display.Markdown object>"
      ]
     },
     "metadata": {},
     "output_type": "display_data"
    },
    {
     "data": {
      "text/markdown": [
       "<span style=\"font-size:11pt\">Labels (7 classes): <span style=\"color: #0000ff\">spot,building,farm</span>: 176, <span style=\"color: #0000ff\">stream,lake</span>: 74, <span style=\"color: #0000ff\">road,railroad</span>: 16, <span style=\"color: #0000ff\">parks,area</span>: 28, <span style=\"color: #0000ff\">undersea</span>: 27, <span style=\"color: #0000ff\">mountain,hill,rock</span>: 68, <span style=\"color: #0000ff\">forest,heath</span>: 14</span>"
      ],
      "text/plain": [
       "<IPython.core.display.Markdown object>"
      ]
     },
     "metadata": {},
     "output_type": "display_data"
    },
    {
     "data": {
      "text/markdown": [
       "<span style=\"font-size:11pt\">Eval-Settings: metric: <span style=\"color: #0000ff\">accuracy</span>, type: <span style=\"color: #0000ff\">one-vs-rest</span>, DT-Depth: <span style=\"color: #0000ff\">3</span>, train-test-split:<span style=\"color: #0000ff\"> 4-fold cross-validation </span></span>"
      ],
      "text/plain": [
       "<IPython.core.display.Markdown object>"
      ]
     },
     "metadata": {},
     "output_type": "display_data"
    },
    {
     "data": {
      "text/markdown": [
       "<span style=\"font-size:11pt\">Per-Class-Scores: spot,building,farm: 0.78, stream,lake: 0.70, undersea: 0.66, road,railroad: 0.69, forest,heath: 0.74, parks,area: 0.58, mountain,hill,rock: 0.57</span>"
      ],
      "text/plain": [
       "<IPython.core.display.Markdown object>"
      ]
     },
     "metadata": {},
     "output_type": "display_data"
    },
    {
     "data": {
      "text/markdown": [
       "<span style=\"font-size:11pt\">Unweighted Mean accuracy: 67.45%</span>"
      ],
      "text/plain": [
       "<IPython.core.display.Markdown object>"
      ]
     },
     "metadata": {},
     "output_type": "display_data"
    },
    {
     "data": {
      "text/markdown": [
       "<span style=\"font-size:11pt\">Weighted Mean accuracy: 70.47%</span>"
      ],
      "text/plain": [
       "<IPython.core.display.Markdown object>"
      ]
     },
     "metadata": {},
     "output_type": "display_data"
    },
    {
     "data": {
      "text/markdown": [
       "<span style=\"font-size:11pt\">====================================================================================================</span>"
      ],
      "text/plain": [
       "<IPython.core.display.Markdown object>"
      ]
     },
     "metadata": {},
     "output_type": "display_data"
    },
    {
     "data": {
      "text/markdown": [
       "<span style=\"font-size:11pt\">Using classes from Geonames - 403/1383 entities have a class</span>"
      ],
      "text/plain": [
       "<IPython.core.display.Markdown object>"
      ]
     },
     "metadata": {},
     "output_type": "display_data"
    },
    {
     "data": {
      "text/markdown": [
       "<span style=\"font-size:11pt\">Labels (7 classes): <span style=\"color: #0000ff\">spot,building,farm</span>: 176, <span style=\"color: #0000ff\">stream,lake</span>: 74, <span style=\"color: #0000ff\">road,railroad</span>: 16, <span style=\"color: #0000ff\">parks,area</span>: 28, <span style=\"color: #0000ff\">undersea</span>: 27, <span style=\"color: #0000ff\">mountain,hill,rock</span>: 68, <span style=\"color: #0000ff\">forest,heath</span>: 14</span>"
      ],
      "text/plain": [
       "<IPython.core.display.Markdown object>"
      ]
     },
     "metadata": {},
     "output_type": "display_data"
    },
    {
     "data": {
      "text/markdown": [
       "<span style=\"font-size:11pt\">Eval-Settings: metric: <span style=\"color: #0000ff\">f1</span>, type: <span style=\"color: #0000ff\">one-vs-rest</span>, DT-Depth: <span style=\"color: #0000ff\">3</span>, train-test-split:<span style=\"color: #0000ff\"> 4-fold cross-validation </span></span>"
      ],
      "text/plain": [
       "<IPython.core.display.Markdown object>"
      ]
     },
     "metadata": {},
     "output_type": "display_data"
    },
    {
     "data": {
      "text/markdown": [
       "<span style=\"font-size:11pt\">Per-Class-Scores: spot,building,farm: 0.77, stream,lake: 0.47, undersea: 0.13, road,railroad: 0.13, forest,heath: 0.12, parks,area: 0.18, mountain,hill,rock: 0.35</span>"
      ],
      "text/plain": [
       "<IPython.core.display.Markdown object>"
      ]
     },
     "metadata": {},
     "output_type": "display_data"
    },
    {
     "data": {
      "text/markdown": [
       "<span style=\"font-size:11pt\">Unweighted Mean f1: 30.67%</span>"
      ],
      "text/plain": [
       "<IPython.core.display.Markdown object>"
      ]
     },
     "metadata": {},
     "output_type": "display_data"
    },
    {
     "data": {
      "text/markdown": [
       "<span style=\"font-size:11pt\">Weighted Mean f1: 51.18%</span>"
      ],
      "text/plain": [
       "<IPython.core.display.Markdown object>"
      ]
     },
     "metadata": {},
     "output_type": "display_data"
    },
    {
     "data": {
      "text/markdown": [
       "<span style=\"font-size:11pt\">====================================================================================================</span>"
      ],
      "text/plain": [
       "<IPython.core.display.Markdown object>"
      ]
     },
     "metadata": {},
     "output_type": "display_data"
    },
    {
     "data": {
      "text/markdown": [
       "<span style=\"font-size:11pt\">Using classes from Geonames - 403/1383 entities have a class</span>"
      ],
      "text/plain": [
       "<IPython.core.display.Markdown object>"
      ]
     },
     "metadata": {},
     "output_type": "display_data"
    },
    {
     "data": {
      "text/markdown": [
       "<span style=\"font-size:11pt\">Labels (7 classes): <span style=\"color: #0000ff\">spot,building,farm</span>: 176, <span style=\"color: #0000ff\">stream,lake</span>: 74, <span style=\"color: #0000ff\">road,railroad</span>: 16, <span style=\"color: #0000ff\">parks,area</span>: 28, <span style=\"color: #0000ff\">undersea</span>: 27, <span style=\"color: #0000ff\">mountain,hill,rock</span>: 68, <span style=\"color: #0000ff\">forest,heath</span>: 14</span>"
      ],
      "text/plain": [
       "<IPython.core.display.Markdown object>"
      ]
     },
     "metadata": {},
     "output_type": "display_data"
    },
    {
     "data": {
      "text/markdown": [
       "<span style=\"font-size:11pt\">Eval-Settings: metric: <span style=\"color: #0000ff\">accuracy</span>, type: <span style=\"color: #0000ff\">one-vs-rest</span>, DT-Depth: <span style=\"color: #0000ff\">3</span>, train-test-split:<span style=\"color: #0000ff\"> 4-fold cross-validation </span></span>"
      ],
      "text/plain": [
       "<IPython.core.display.Markdown object>"
      ]
     },
     "metadata": {},
     "output_type": "display_data"
    },
    {
     "data": {
      "text/markdown": [
       "<span style=\"font-size:11pt\">Per-Class-Scores: spot,building,farm: 0.77, stream,lake: 0.79, undersea: 0.91, road,railroad: 0.94, forest,heath: 0.96, parks,area: 0.92, mountain,hill,rock: 0.81</span>"
      ],
      "text/plain": [
       "<IPython.core.display.Markdown object>"
      ]
     },
     "metadata": {},
     "output_type": "display_data"
    },
    {
     "data": {
      "text/markdown": [
       "<span style=\"font-size:11pt\">Unweighted Mean accuracy: 87.13%</span>"
      ],
      "text/plain": [
       "<IPython.core.display.Markdown object>"
      ]
     },
     "metadata": {},
     "output_type": "display_data"
    },
    {
     "data": {
      "text/markdown": [
       "<span style=\"font-size:11pt\">Weighted Mean accuracy: 81.22%</span>"
      ],
      "text/plain": [
       "<IPython.core.display.Markdown object>"
      ]
     },
     "metadata": {},
     "output_type": "display_data"
    },
    {
     "data": {
      "text/markdown": [
       "<span style=\"font-size:11pt\">====================================================================================================</span>"
      ],
      "text/plain": [
       "<IPython.core.display.Markdown object>"
      ]
     },
     "metadata": {},
     "output_type": "display_data"
    },
    {
     "data": {
      "text/markdown": [
       "<span style=\"font-size:11pt\">Using classes from Geonames - 403/1383 entities have a class</span>"
      ],
      "text/plain": [
       "<IPython.core.display.Markdown object>"
      ]
     },
     "metadata": {},
     "output_type": "display_data"
    },
    {
     "data": {
      "text/markdown": [
       "<span style=\"font-size:11pt\">Labels (7 classes): <span style=\"color: #0000ff\">spot,building,farm</span>: 176, <span style=\"color: #0000ff\">stream,lake</span>: 74, <span style=\"color: #0000ff\">road,railroad</span>: 16, <span style=\"color: #0000ff\">parks,area</span>: 28, <span style=\"color: #0000ff\">undersea</span>: 27, <span style=\"color: #0000ff\">mountain,hill,rock</span>: 68, <span style=\"color: #0000ff\">forest,heath</span>: 14</span>"
      ],
      "text/plain": [
       "<IPython.core.display.Markdown object>"
      ]
     },
     "metadata": {},
     "output_type": "display_data"
    },
    {
     "data": {
      "text/markdown": [
       "<span style=\"font-size:11pt\">Eval-Settings: metric: <span style=\"color: #0000ff\">f1</span>, type: <span style=\"color: #0000ff\">one-vs-rest</span>, DT-Depth: <span style=\"color: #0000ff\">3</span>, train-test-split:<span style=\"color: #0000ff\"> 4-fold cross-validation </span></span>"
      ],
      "text/plain": [
       "<IPython.core.display.Markdown object>"
      ]
     },
     "metadata": {},
     "output_type": "display_data"
    },
    {
     "data": {
      "text/markdown": [
       "<span style=\"font-size:11pt\">Per-Class-Scores: spot,building,farm: 0.76, stream,lake: 0.04, undersea: 0.10, road,railroad: 0.00, forest,heath: 0.10, parks,area: 0.00, mountain,hill,rock: 0.06</span>"
      ],
      "text/plain": [
       "<IPython.core.display.Markdown object>"
      ]
     },
     "metadata": {},
     "output_type": "display_data"
    },
    {
     "data": {
      "text/markdown": [
       "<span style=\"font-size:11pt\">Unweighted Mean f1: 15.18%</span>"
      ],
      "text/plain": [
       "<IPython.core.display.Markdown object>"
      ]
     },
     "metadata": {},
     "output_type": "display_data"
    },
    {
     "data": {
      "text/markdown": [
       "<span style=\"font-size:11pt\">Weighted Mean f1: 35.86%</span>"
      ],
      "text/plain": [
       "<IPython.core.display.Markdown object>"
      ]
     },
     "metadata": {},
     "output_type": "display_data"
    },
    {
     "data": {
      "text/markdown": [
       "<span style=\"font-size:11pt\">====================================================================================================</span>"
      ],
      "text/plain": [
       "<IPython.core.display.Markdown object>"
      ]
     },
     "metadata": {},
     "output_type": "display_data"
    },
    {
     "data": {
      "text/markdown": [
       "<span style=\"font-size:11pt\">Using classes from Geonames - 403/1383 entities have a class</span>"
      ],
      "text/plain": [
       "<IPython.core.display.Markdown object>"
      ]
     },
     "metadata": {},
     "output_type": "display_data"
    },
    {
     "data": {
      "text/markdown": [
       "<span style=\"font-size:11pt\">Labels (7 classes): <span style=\"color: #0000ff\">spot,building,farm</span>: 176, <span style=\"color: #0000ff\">stream,lake</span>: 74, <span style=\"color: #0000ff\">road,railroad</span>: 16, <span style=\"color: #0000ff\">parks,area</span>: 28, <span style=\"color: #0000ff\">undersea</span>: 27, <span style=\"color: #0000ff\">mountain,hill,rock</span>: 68, <span style=\"color: #0000ff\">forest,heath</span>: 14</span>"
      ],
      "text/plain": [
       "<IPython.core.display.Markdown object>"
      ]
     },
     "metadata": {},
     "output_type": "display_data"
    },
    {
     "data": {
      "text/markdown": [
       "<span style=\"font-size:11pt\">Eval-Settings: metric: <span style=\"color: #0000ff\">accuracy</span>, type: <span style=\"color: #0000ff\">one-vs-rest</span>, DT-Depth: <span style=\"color: #0000ff\">None</span>, train-test-split:<span style=\"color: #0000ff\"> 4-fold cross-validation </span></span>"
      ],
      "text/plain": [
       "<IPython.core.display.Markdown object>"
      ]
     },
     "metadata": {},
     "output_type": "display_data"
    },
    {
     "data": {
      "text/markdown": [
       "<span style=\"font-size:11pt\">Per-Class-Scores: spot,building,farm: 0.69, stream,lake: 0.75, undersea: 0.88, road,railroad: 0.94, forest,heath: 0.95, parks,area: 0.89, mountain,hill,rock: 0.77</span>"
      ],
      "text/plain": [
       "<IPython.core.display.Markdown object>"
      ]
     },
     "metadata": {},
     "output_type": "display_data"
    },
    {
     "data": {
      "text/markdown": [
       "<span style=\"font-size:11pt\">Unweighted Mean accuracy: 83.66%</span>"
      ],
      "text/plain": [
       "<IPython.core.display.Markdown object>"
      ]
     },
     "metadata": {},
     "output_type": "display_data"
    },
    {
     "data": {
      "text/markdown": [
       "<span style=\"font-size:11pt\">Weighted Mean accuracy: 75.86%</span>"
      ],
      "text/plain": [
       "<IPython.core.display.Markdown object>"
      ]
     },
     "metadata": {},
     "output_type": "display_data"
    },
    {
     "data": {
      "text/markdown": [
       "<span style=\"font-size:11pt\">====================================================================================================</span>"
      ],
      "text/plain": [
       "<IPython.core.display.Markdown object>"
      ]
     },
     "metadata": {},
     "output_type": "display_data"
    },
    {
     "data": {
      "text/markdown": [
       "<span style=\"font-size:11pt\">Using classes from Geonames - 403/1383 entities have a class</span>"
      ],
      "text/plain": [
       "<IPython.core.display.Markdown object>"
      ]
     },
     "metadata": {},
     "output_type": "display_data"
    },
    {
     "data": {
      "text/markdown": [
       "<span style=\"font-size:11pt\">Labels (7 classes): <span style=\"color: #0000ff\">spot,building,farm</span>: 176, <span style=\"color: #0000ff\">stream,lake</span>: 74, <span style=\"color: #0000ff\">road,railroad</span>: 16, <span style=\"color: #0000ff\">parks,area</span>: 28, <span style=\"color: #0000ff\">undersea</span>: 27, <span style=\"color: #0000ff\">mountain,hill,rock</span>: 68, <span style=\"color: #0000ff\">forest,heath</span>: 14</span>"
      ],
      "text/plain": [
       "<IPython.core.display.Markdown object>"
      ]
     },
     "metadata": {},
     "output_type": "display_data"
    },
    {
     "data": {
      "text/markdown": [
       "<span style=\"font-size:11pt\">Eval-Settings: metric: <span style=\"color: #0000ff\">f1</span>, type: <span style=\"color: #0000ff\">one-vs-rest</span>, DT-Depth: <span style=\"color: #0000ff\">None</span>, train-test-split:<span style=\"color: #0000ff\"> 4-fold cross-validation </span></span>"
      ],
      "text/plain": [
       "<IPython.core.display.Markdown object>"
      ]
     },
     "metadata": {},
     "output_type": "display_data"
    },
    {
     "data": {
      "text/markdown": [
       "<span style=\"font-size:11pt\">Per-Class-Scores: spot,building,farm: 0.64, stream,lake: 0.36, undersea: 0.12, road,railroad: 0.11, forest,heath: 0.23, parks,area: 0.19, mountain,hill,rock: 0.29</span>"
      ],
      "text/plain": [
       "<IPython.core.display.Markdown object>"
      ]
     },
     "metadata": {},
     "output_type": "display_data"
    },
    {
     "data": {
      "text/markdown": [
       "<span style=\"font-size:11pt\">Unweighted Mean f1: 27.57%</span>"
      ],
      "text/plain": [
       "<IPython.core.display.Markdown object>"
      ]
     },
     "metadata": {},
     "output_type": "display_data"
    },
    {
     "data": {
      "text/markdown": [
       "<span style=\"font-size:11pt\">Weighted Mean f1: 42.59%</span>"
      ],
      "text/plain": [
       "<IPython.core.display.Markdown object>"
      ]
     },
     "metadata": {},
     "output_type": "display_data"
    },
    {
     "data": {
      "text/markdown": [
       "<span style=\"font-size:11pt\">====================================================================================================</span>"
      ],
      "text/plain": [
       "<IPython.core.display.Markdown object>"
      ]
     },
     "metadata": {},
     "output_type": "display_data"
    },
    {
     "data": {
      "text/markdown": [
       "<span style=\"font-size:11pt\">Using classes from Geonames - 403/1383 entities have a class</span>"
      ],
      "text/plain": [
       "<IPython.core.display.Markdown object>"
      ]
     },
     "metadata": {},
     "output_type": "display_data"
    },
    {
     "data": {
      "text/markdown": [
       "<span style=\"font-size:11pt\">Labels (7 classes): <span style=\"color: #0000ff\">spot,building,farm</span>: 176, <span style=\"color: #0000ff\">stream,lake</span>: 74, <span style=\"color: #0000ff\">road,railroad</span>: 16, <span style=\"color: #0000ff\">parks,area</span>: 28, <span style=\"color: #0000ff\">undersea</span>: 27, <span style=\"color: #0000ff\">mountain,hill,rock</span>: 68, <span style=\"color: #0000ff\">forest,heath</span>: 14</span>"
      ],
      "text/plain": [
       "<IPython.core.display.Markdown object>"
      ]
     },
     "metadata": {},
     "output_type": "display_data"
    },
    {
     "data": {
      "text/markdown": [
       "<span style=\"font-size:11pt\">Eval-Settings: metric: <span style=\"color: #0000ff\">accuracy</span>, type: <span style=\"color: #0000ff\">one-vs-rest</span>, DT-Depth: <span style=\"color: #0000ff\">None</span>, train-test-split:<span style=\"color: #0000ff\"> 4-fold cross-validation </span></span>"
      ],
      "text/plain": [
       "<IPython.core.display.Markdown object>"
      ]
     },
     "metadata": {},
     "output_type": "display_data"
    },
    {
     "data": {
      "text/markdown": [
       "<span style=\"font-size:11pt\">Per-Class-Scores: spot,building,farm: 0.68, stream,lake: 0.70, undersea: 0.87, road,railroad: 0.91, forest,heath: 0.95, parks,area: 0.85, mountain,hill,rock: 0.76</span>"
      ],
      "text/plain": [
       "<IPython.core.display.Markdown object>"
      ]
     },
     "metadata": {},
     "output_type": "display_data"
    },
    {
     "data": {
      "text/markdown": [
       "<span style=\"font-size:11pt\">Unweighted Mean accuracy: 81.71%</span>"
      ],
      "text/plain": [
       "<IPython.core.display.Markdown object>"
      ]
     },
     "metadata": {},
     "output_type": "display_data"
    },
    {
     "data": {
      "text/markdown": [
       "<span style=\"font-size:11pt\">Weighted Mean accuracy: 74.17%</span>"
      ],
      "text/plain": [
       "<IPython.core.display.Markdown object>"
      ]
     },
     "metadata": {},
     "output_type": "display_data"
    },
    {
     "data": {
      "text/markdown": [
       "<span style=\"font-size:11pt\">====================================================================================================</span>"
      ],
      "text/plain": [
       "<IPython.core.display.Markdown object>"
      ]
     },
     "metadata": {},
     "output_type": "display_data"
    },
    {
     "data": {
      "text/markdown": [
       "<span style=\"font-size:11pt\">Using classes from Geonames - 403/1383 entities have a class</span>"
      ],
      "text/plain": [
       "<IPython.core.display.Markdown object>"
      ]
     },
     "metadata": {},
     "output_type": "display_data"
    },
    {
     "data": {
      "text/markdown": [
       "<span style=\"font-size:11pt\">Labels (7 classes): <span style=\"color: #0000ff\">spot,building,farm</span>: 176, <span style=\"color: #0000ff\">stream,lake</span>: 74, <span style=\"color: #0000ff\">road,railroad</span>: 16, <span style=\"color: #0000ff\">parks,area</span>: 28, <span style=\"color: #0000ff\">undersea</span>: 27, <span style=\"color: #0000ff\">mountain,hill,rock</span>: 68, <span style=\"color: #0000ff\">forest,heath</span>: 14</span>"
      ],
      "text/plain": [
       "<IPython.core.display.Markdown object>"
      ]
     },
     "metadata": {},
     "output_type": "display_data"
    },
    {
     "data": {
      "text/markdown": [
       "<span style=\"font-size:11pt\">Eval-Settings: metric: <span style=\"color: #0000ff\">f1</span>, type: <span style=\"color: #0000ff\">one-vs-rest</span>, DT-Depth: <span style=\"color: #0000ff\">None</span>, train-test-split:<span style=\"color: #0000ff\"> 4-fold cross-validation </span></span>"
      ],
      "text/plain": [
       "<IPython.core.display.Markdown object>"
      ]
     },
     "metadata": {},
     "output_type": "display_data"
    },
    {
     "data": {
      "text/markdown": [
       "<span style=\"font-size:11pt\">Per-Class-Scores: spot,building,farm: 0.66, stream,lake: 0.21, undersea: 0.05, road,railroad: 0.11, forest,heath: 0.06, parks,area: 0.08, mountain,hill,rock: 0.25</span>"
      ],
      "text/plain": [
       "<IPython.core.display.Markdown object>"
      ]
     },
     "metadata": {},
     "output_type": "display_data"
    },
    {
     "data": {
      "text/markdown": [
       "<span style=\"font-size:11pt\">Unweighted Mean f1: 20.24%</span>"
      ],
      "text/plain": [
       "<IPython.core.display.Markdown object>"
      ]
     },
     "metadata": {},
     "output_type": "display_data"
    },
    {
     "data": {
      "text/markdown": [
       "<span style=\"font-size:11pt\">Weighted Mean f1: 38.25%</span>"
      ],
      "text/plain": [
       "<IPython.core.display.Markdown object>"
      ]
     },
     "metadata": {},
     "output_type": "display_data"
    },
    {
     "data": {
      "text/markdown": [
       "<span style=\"font-size:11pt\">====================================================================================================</span>"
      ],
      "text/plain": [
       "<IPython.core.display.Markdown object>"
      ]
     },
     "metadata": {},
     "output_type": "display_data"
    },
    {
     "data": {
      "text/markdown": [
       "<span style=\"font-size:11pt\">Using classes from Geonames - 403/1383 entities have a class</span>"
      ],
      "text/plain": [
       "<IPython.core.display.Markdown object>"
      ]
     },
     "metadata": {},
     "output_type": "display_data"
    },
    {
     "data": {
      "text/markdown": [
       "<span style=\"font-size:11pt\">Labels (7 classes): <span style=\"color: #0000ff\">spot,building,farm</span>: 176, <span style=\"color: #0000ff\">stream,lake</span>: 74, <span style=\"color: #0000ff\">road,railroad</span>: 16, <span style=\"color: #0000ff\">parks,area</span>: 28, <span style=\"color: #0000ff\">undersea</span>: 27, <span style=\"color: #0000ff\">mountain,hill,rock</span>: 68, <span style=\"color: #0000ff\">forest,heath</span>: 14</span>"
      ],
      "text/plain": [
       "<IPython.core.display.Markdown object>"
      ]
     },
     "metadata": {},
     "output_type": "display_data"
    },
    {
     "data": {
      "text/markdown": [
       "<span style=\"font-size:11pt\">Eval-Settings: metric: <span style=\"color: #0000ff\">accuracy</span>, type: <span style=\"color: #0000ff\">all-at-once</span>, DT-Depth: <span style=\"color: #0000ff\">1</span>, train-test-split:<span style=\"color: #0000ff\"> 4-fold cross-validation </span></span>"
      ],
      "text/plain": [
       "<IPython.core.display.Markdown object>"
      ]
     },
     "metadata": {},
     "output_type": "display_data"
    },
    {
     "name": "stderr",
     "output_type": "stream",
     "text": [
      "derive_conceptualspace/evaluate/shallow_trees.py:123: UserWarning: There are more classes (7) than your decision-tree can possibly classify (2)\n"
     ]
    },
    {
     "data": {
      "text/markdown": [
       "<span style=\"font-size:11pt\">accuracy: 0.10</span>"
      ],
      "text/plain": [
       "<IPython.core.display.Markdown object>"
      ]
     },
     "metadata": {},
     "output_type": "display_data"
    },
    {
     "data": {
      "text/markdown": [
       "<span style=\"font-size:11pt\">Baseline accuracy: 0.44</span>"
      ],
      "text/plain": [
       "<IPython.core.display.Markdown object>"
      ]
     },
     "metadata": {},
     "output_type": "display_data"
    },
    {
     "data": {
      "text/markdown": [
       "<span style=\"font-size:11pt\">Maximally achievable accuracy: 0.62</span>"
      ],
      "text/plain": [
       "<IPython.core.display.Markdown object>"
      ]
     },
     "metadata": {},
     "output_type": "display_data"
    },
    {
     "data": {
      "text/markdown": [
       "<span style=\"font-size:11pt\">====================================================================================================</span>"
      ],
      "text/plain": [
       "<IPython.core.display.Markdown object>"
      ]
     },
     "metadata": {},
     "output_type": "display_data"
    },
    {
     "data": {
      "text/markdown": [
       "<span style=\"font-size:11pt\">Using classes from Geonames - 403/1383 entities have a class</span>"
      ],
      "text/plain": [
       "<IPython.core.display.Markdown object>"
      ]
     },
     "metadata": {},
     "output_type": "display_data"
    },
    {
     "data": {
      "text/markdown": [
       "<span style=\"font-size:11pt\">Labels (7 classes): <span style=\"color: #0000ff\">spot,building,farm</span>: 176, <span style=\"color: #0000ff\">stream,lake</span>: 74, <span style=\"color: #0000ff\">road,railroad</span>: 16, <span style=\"color: #0000ff\">parks,area</span>: 28, <span style=\"color: #0000ff\">undersea</span>: 27, <span style=\"color: #0000ff\">mountain,hill,rock</span>: 68, <span style=\"color: #0000ff\">forest,heath</span>: 14</span>"
      ],
      "text/plain": [
       "<IPython.core.display.Markdown object>"
      ]
     },
     "metadata": {},
     "output_type": "display_data"
    },
    {
     "data": {
      "text/markdown": [
       "<span style=\"font-size:11pt\">Eval-Settings: metric: <span style=\"color: #0000ff\">f1</span>, type: <span style=\"color: #0000ff\">all-at-once</span>, DT-Depth: <span style=\"color: #0000ff\">1</span>, train-test-split:<span style=\"color: #0000ff\"> 4-fold cross-validation </span></span>"
      ],
      "text/plain": [
       "<IPython.core.display.Markdown object>"
      ]
     },
     "metadata": {},
     "output_type": "display_data"
    },
    {
     "name": "stderr",
     "output_type": "stream",
     "text": [
      "derive_conceptualspace/evaluate/shallow_trees.py:123: UserWarning: There are more classes (7) than your decision-tree can possibly classify (2)\n"
     ]
    },
    {
     "data": {
      "text/markdown": [
       "<span style=\"font-size:11pt\">f1: 0.10</span>"
      ],
      "text/plain": [
       "<IPython.core.display.Markdown object>"
      ]
     },
     "metadata": {},
     "output_type": "display_data"
    },
    {
     "data": {
      "text/markdown": [
       "<span style=\"font-size:11pt\">Baseline f1: 0.44</span>"
      ],
      "text/plain": [
       "<IPython.core.display.Markdown object>"
      ]
     },
     "metadata": {},
     "output_type": "display_data"
    },
    {
     "data": {
      "text/markdown": [
       "<span style=\"font-size:11pt\">====================================================================================================</span>"
      ],
      "text/plain": [
       "<IPython.core.display.Markdown object>"
      ]
     },
     "metadata": {},
     "output_type": "display_data"
    },
    {
     "data": {
      "text/markdown": [
       "<span style=\"font-size:11pt\">Using classes from Geonames - 403/1383 entities have a class</span>"
      ],
      "text/plain": [
       "<IPython.core.display.Markdown object>"
      ]
     },
     "metadata": {},
     "output_type": "display_data"
    },
    {
     "data": {
      "text/markdown": [
       "<span style=\"font-size:11pt\">Labels (7 classes): <span style=\"color: #0000ff\">spot,building,farm</span>: 176, <span style=\"color: #0000ff\">stream,lake</span>: 74, <span style=\"color: #0000ff\">road,railroad</span>: 16, <span style=\"color: #0000ff\">parks,area</span>: 28, <span style=\"color: #0000ff\">undersea</span>: 27, <span style=\"color: #0000ff\">mountain,hill,rock</span>: 68, <span style=\"color: #0000ff\">forest,heath</span>: 14</span>"
      ],
      "text/plain": [
       "<IPython.core.display.Markdown object>"
      ]
     },
     "metadata": {},
     "output_type": "display_data"
    },
    {
     "data": {
      "text/markdown": [
       "<span style=\"font-size:11pt\">Eval-Settings: metric: <span style=\"color: #0000ff\">accuracy</span>, type: <span style=\"color: #0000ff\">all-at-once</span>, DT-Depth: <span style=\"color: #0000ff\">1</span>, train-test-split:<span style=\"color: #0000ff\"> 4-fold cross-validation </span></span>"
      ],
      "text/plain": [
       "<IPython.core.display.Markdown object>"
      ]
     },
     "metadata": {},
     "output_type": "display_data"
    },
    {
     "name": "stderr",
     "output_type": "stream",
     "text": [
      "derive_conceptualspace/evaluate/shallow_trees.py:123: UserWarning: There are more classes (7) than your decision-tree can possibly classify (2)\n"
     ]
    },
    {
     "data": {
      "text/markdown": [
       "<span style=\"font-size:11pt\">accuracy: 0.48</span>"
      ],
      "text/plain": [
       "<IPython.core.display.Markdown object>"
      ]
     },
     "metadata": {},
     "output_type": "display_data"
    },
    {
     "data": {
      "text/markdown": [
       "<span style=\"font-size:11pt\">Baseline accuracy: 0.44</span>"
      ],
      "text/plain": [
       "<IPython.core.display.Markdown object>"
      ]
     },
     "metadata": {},
     "output_type": "display_data"
    },
    {
     "data": {
      "text/markdown": [
       "<span style=\"font-size:11pt\">Maximally achievable accuracy: 0.62</span>"
      ],
      "text/plain": [
       "<IPython.core.display.Markdown object>"
      ]
     },
     "metadata": {},
     "output_type": "display_data"
    },
    {
     "data": {
      "text/markdown": [
       "<span style=\"font-size:11pt\">====================================================================================================</span>"
      ],
      "text/plain": [
       "<IPython.core.display.Markdown object>"
      ]
     },
     "metadata": {},
     "output_type": "display_data"
    },
    {
     "data": {
      "text/markdown": [
       "<span style=\"font-size:11pt\">Using classes from Geonames - 403/1383 entities have a class</span>"
      ],
      "text/plain": [
       "<IPython.core.display.Markdown object>"
      ]
     },
     "metadata": {},
     "output_type": "display_data"
    },
    {
     "data": {
      "text/markdown": [
       "<span style=\"font-size:11pt\">Labels (7 classes): <span style=\"color: #0000ff\">spot,building,farm</span>: 176, <span style=\"color: #0000ff\">stream,lake</span>: 74, <span style=\"color: #0000ff\">road,railroad</span>: 16, <span style=\"color: #0000ff\">parks,area</span>: 28, <span style=\"color: #0000ff\">undersea</span>: 27, <span style=\"color: #0000ff\">mountain,hill,rock</span>: 68, <span style=\"color: #0000ff\">forest,heath</span>: 14</span>"
      ],
      "text/plain": [
       "<IPython.core.display.Markdown object>"
      ]
     },
     "metadata": {},
     "output_type": "display_data"
    },
    {
     "data": {
      "text/markdown": [
       "<span style=\"font-size:11pt\">Eval-Settings: metric: <span style=\"color: #0000ff\">f1</span>, type: <span style=\"color: #0000ff\">all-at-once</span>, DT-Depth: <span style=\"color: #0000ff\">1</span>, train-test-split:<span style=\"color: #0000ff\"> 4-fold cross-validation </span></span>"
      ],
      "text/plain": [
       "<IPython.core.display.Markdown object>"
      ]
     },
     "metadata": {},
     "output_type": "display_data"
    },
    {
     "name": "stderr",
     "output_type": "stream",
     "text": [
      "derive_conceptualspace/evaluate/shallow_trees.py:123: UserWarning: There are more classes (7) than your decision-tree can possibly classify (2)\n"
     ]
    },
    {
     "data": {
      "text/markdown": [
       "<span style=\"font-size:11pt\">f1: 0.48</span>"
      ],
      "text/plain": [
       "<IPython.core.display.Markdown object>"
      ]
     },
     "metadata": {},
     "output_type": "display_data"
    },
    {
     "data": {
      "text/markdown": [
       "<span style=\"font-size:11pt\">Baseline f1: 0.44</span>"
      ],
      "text/plain": [
       "<IPython.core.display.Markdown object>"
      ]
     },
     "metadata": {},
     "output_type": "display_data"
    },
    {
     "data": {
      "text/markdown": [
       "<span style=\"font-size:11pt\">====================================================================================================</span>"
      ],
      "text/plain": [
       "<IPython.core.display.Markdown object>"
      ]
     },
     "metadata": {},
     "output_type": "display_data"
    },
    {
     "data": {
      "text/markdown": [
       "<span style=\"font-size:11pt\">Using classes from Geonames - 403/1383 entities have a class</span>"
      ],
      "text/plain": [
       "<IPython.core.display.Markdown object>"
      ]
     },
     "metadata": {},
     "output_type": "display_data"
    },
    {
     "data": {
      "text/markdown": [
       "<span style=\"font-size:11pt\">Labels (7 classes): <span style=\"color: #0000ff\">spot,building,farm</span>: 176, <span style=\"color: #0000ff\">stream,lake</span>: 74, <span style=\"color: #0000ff\">road,railroad</span>: 16, <span style=\"color: #0000ff\">parks,area</span>: 28, <span style=\"color: #0000ff\">undersea</span>: 27, <span style=\"color: #0000ff\">mountain,hill,rock</span>: 68, <span style=\"color: #0000ff\">forest,heath</span>: 14</span>"
      ],
      "text/plain": [
       "<IPython.core.display.Markdown object>"
      ]
     },
     "metadata": {},
     "output_type": "display_data"
    },
    {
     "data": {
      "text/markdown": [
       "<span style=\"font-size:11pt\">Eval-Settings: metric: <span style=\"color: #0000ff\">accuracy</span>, type: <span style=\"color: #0000ff\">all-at-once</span>, DT-Depth: <span style=\"color: #0000ff\">2</span>, train-test-split:<span style=\"color: #0000ff\"> 4-fold cross-validation </span></span>"
      ],
      "text/plain": [
       "<IPython.core.display.Markdown object>"
      ]
     },
     "metadata": {},
     "output_type": "display_data"
    },
    {
     "name": "stderr",
     "output_type": "stream",
     "text": [
      "derive_conceptualspace/evaluate/shallow_trees.py:123: UserWarning: There are more classes (7) than your decision-tree can possibly classify (4)\n"
     ]
    },
    {
     "data": {
      "text/markdown": [
       "<span style=\"font-size:11pt\">accuracy: 0.18</span>"
      ],
      "text/plain": [
       "<IPython.core.display.Markdown object>"
      ]
     },
     "metadata": {},
     "output_type": "display_data"
    },
    {
     "data": {
      "text/markdown": [
       "<span style=\"font-size:11pt\">====================================================================================================</span>"
      ],
      "text/plain": [
       "<IPython.core.display.Markdown object>"
      ]
     },
     "metadata": {},
     "output_type": "display_data"
    },
    {
     "data": {
      "text/markdown": [
       "<span style=\"font-size:11pt\">Using classes from Geonames - 403/1383 entities have a class</span>"
      ],
      "text/plain": [
       "<IPython.core.display.Markdown object>"
      ]
     },
     "metadata": {},
     "output_type": "display_data"
    },
    {
     "data": {
      "text/markdown": [
       "<span style=\"font-size:11pt\">Labels (7 classes): <span style=\"color: #0000ff\">spot,building,farm</span>: 176, <span style=\"color: #0000ff\">stream,lake</span>: 74, <span style=\"color: #0000ff\">road,railroad</span>: 16, <span style=\"color: #0000ff\">parks,area</span>: 28, <span style=\"color: #0000ff\">undersea</span>: 27, <span style=\"color: #0000ff\">mountain,hill,rock</span>: 68, <span style=\"color: #0000ff\">forest,heath</span>: 14</span>"
      ],
      "text/plain": [
       "<IPython.core.display.Markdown object>"
      ]
     },
     "metadata": {},
     "output_type": "display_data"
    },
    {
     "data": {
      "text/markdown": [
       "<span style=\"font-size:11pt\">Eval-Settings: metric: <span style=\"color: #0000ff\">f1</span>, type: <span style=\"color: #0000ff\">all-at-once</span>, DT-Depth: <span style=\"color: #0000ff\">2</span>, train-test-split:<span style=\"color: #0000ff\"> 4-fold cross-validation </span></span>"
      ],
      "text/plain": [
       "<IPython.core.display.Markdown object>"
      ]
     },
     "metadata": {},
     "output_type": "display_data"
    },
    {
     "name": "stderr",
     "output_type": "stream",
     "text": [
      "derive_conceptualspace/evaluate/shallow_trees.py:123: UserWarning: There are more classes (7) than your decision-tree can possibly classify (4)\n"
     ]
    },
    {
     "data": {
      "text/markdown": [
       "<span style=\"font-size:11pt\">f1: 0.18</span>"
      ],
      "text/plain": [
       "<IPython.core.display.Markdown object>"
      ]
     },
     "metadata": {},
     "output_type": "display_data"
    },
    {
     "data": {
      "text/markdown": [
       "<span style=\"font-size:11pt\">====================================================================================================</span>"
      ],
      "text/plain": [
       "<IPython.core.display.Markdown object>"
      ]
     },
     "metadata": {},
     "output_type": "display_data"
    },
    {
     "data": {
      "text/markdown": [
       "<span style=\"font-size:11pt\">Using classes from Geonames - 403/1383 entities have a class</span>"
      ],
      "text/plain": [
       "<IPython.core.display.Markdown object>"
      ]
     },
     "metadata": {},
     "output_type": "display_data"
    },
    {
     "data": {
      "text/markdown": [
       "<span style=\"font-size:11pt\">Labels (7 classes): <span style=\"color: #0000ff\">spot,building,farm</span>: 176, <span style=\"color: #0000ff\">stream,lake</span>: 74, <span style=\"color: #0000ff\">road,railroad</span>: 16, <span style=\"color: #0000ff\">parks,area</span>: 28, <span style=\"color: #0000ff\">undersea</span>: 27, <span style=\"color: #0000ff\">mountain,hill,rock</span>: 68, <span style=\"color: #0000ff\">forest,heath</span>: 14</span>"
      ],
      "text/plain": [
       "<IPython.core.display.Markdown object>"
      ]
     },
     "metadata": {},
     "output_type": "display_data"
    },
    {
     "data": {
      "text/markdown": [
       "<span style=\"font-size:11pt\">Eval-Settings: metric: <span style=\"color: #0000ff\">accuracy</span>, type: <span style=\"color: #0000ff\">all-at-once</span>, DT-Depth: <span style=\"color: #0000ff\">2</span>, train-test-split:<span style=\"color: #0000ff\"> 4-fold cross-validation </span></span>"
      ],
      "text/plain": [
       "<IPython.core.display.Markdown object>"
      ]
     },
     "metadata": {},
     "output_type": "display_data"
    },
    {
     "name": "stderr",
     "output_type": "stream",
     "text": [
      "derive_conceptualspace/evaluate/shallow_trees.py:123: UserWarning: There are more classes (7) than your decision-tree can possibly classify (4)\n"
     ]
    },
    {
     "data": {
      "text/markdown": [
       "<span style=\"font-size:11pt\">accuracy: 0.48</span>"
      ],
      "text/plain": [
       "<IPython.core.display.Markdown object>"
      ]
     },
     "metadata": {},
     "output_type": "display_data"
    },
    {
     "data": {
      "text/markdown": [
       "<span style=\"font-size:11pt\">====================================================================================================</span>"
      ],
      "text/plain": [
       "<IPython.core.display.Markdown object>"
      ]
     },
     "metadata": {},
     "output_type": "display_data"
    },
    {
     "data": {
      "text/markdown": [
       "<span style=\"font-size:11pt\">Using classes from Geonames - 403/1383 entities have a class</span>"
      ],
      "text/plain": [
       "<IPython.core.display.Markdown object>"
      ]
     },
     "metadata": {},
     "output_type": "display_data"
    },
    {
     "data": {
      "text/markdown": [
       "<span style=\"font-size:11pt\">Labels (7 classes): <span style=\"color: #0000ff\">spot,building,farm</span>: 176, <span style=\"color: #0000ff\">stream,lake</span>: 74, <span style=\"color: #0000ff\">road,railroad</span>: 16, <span style=\"color: #0000ff\">parks,area</span>: 28, <span style=\"color: #0000ff\">undersea</span>: 27, <span style=\"color: #0000ff\">mountain,hill,rock</span>: 68, <span style=\"color: #0000ff\">forest,heath</span>: 14</span>"
      ],
      "text/plain": [
       "<IPython.core.display.Markdown object>"
      ]
     },
     "metadata": {},
     "output_type": "display_data"
    },
    {
     "data": {
      "text/markdown": [
       "<span style=\"font-size:11pt\">Eval-Settings: metric: <span style=\"color: #0000ff\">f1</span>, type: <span style=\"color: #0000ff\">all-at-once</span>, DT-Depth: <span style=\"color: #0000ff\">2</span>, train-test-split:<span style=\"color: #0000ff\"> 4-fold cross-validation </span></span>"
      ],
      "text/plain": [
       "<IPython.core.display.Markdown object>"
      ]
     },
     "metadata": {},
     "output_type": "display_data"
    },
    {
     "name": "stderr",
     "output_type": "stream",
     "text": [
      "derive_conceptualspace/evaluate/shallow_trees.py:123: UserWarning: There are more classes (7) than your decision-tree can possibly classify (4)\n"
     ]
    },
    {
     "data": {
      "text/markdown": [
       "<span style=\"font-size:11pt\">f1: 0.48</span>"
      ],
      "text/plain": [
       "<IPython.core.display.Markdown object>"
      ]
     },
     "metadata": {},
     "output_type": "display_data"
    },
    {
     "data": {
      "text/markdown": [
       "<span style=\"font-size:11pt\">====================================================================================================</span>"
      ],
      "text/plain": [
       "<IPython.core.display.Markdown object>"
      ]
     },
     "metadata": {},
     "output_type": "display_data"
    },
    {
     "data": {
      "text/markdown": [
       "<span style=\"font-size:11pt\">Using classes from Geonames - 403/1383 entities have a class</span>"
      ],
      "text/plain": [
       "<IPython.core.display.Markdown object>"
      ]
     },
     "metadata": {},
     "output_type": "display_data"
    },
    {
     "data": {
      "text/markdown": [
       "<span style=\"font-size:11pt\">Labels (7 classes): <span style=\"color: #0000ff\">spot,building,farm</span>: 176, <span style=\"color: #0000ff\">stream,lake</span>: 74, <span style=\"color: #0000ff\">road,railroad</span>: 16, <span style=\"color: #0000ff\">parks,area</span>: 28, <span style=\"color: #0000ff\">undersea</span>: 27, <span style=\"color: #0000ff\">mountain,hill,rock</span>: 68, <span style=\"color: #0000ff\">forest,heath</span>: 14</span>"
      ],
      "text/plain": [
       "<IPython.core.display.Markdown object>"
      ]
     },
     "metadata": {},
     "output_type": "display_data"
    },
    {
     "data": {
      "text/markdown": [
       "<span style=\"font-size:11pt\">Eval-Settings: metric: <span style=\"color: #0000ff\">accuracy</span>, type: <span style=\"color: #0000ff\">all-at-once</span>, DT-Depth: <span style=\"color: #0000ff\">3</span>, train-test-split:<span style=\"color: #0000ff\"> 4-fold cross-validation </span></span>"
      ],
      "text/plain": [
       "<IPython.core.display.Markdown object>"
      ]
     },
     "metadata": {},
     "output_type": "display_data"
    },
    {
     "data": {
      "text/markdown": [
       "<span style=\"font-size:11pt\">accuracy: 0.26</span>"
      ],
      "text/plain": [
       "<IPython.core.display.Markdown object>"
      ]
     },
     "metadata": {},
     "output_type": "display_data"
    },
    {
     "data": {
      "text/markdown": [
       "<span style=\"font-size:11pt\">====================================================================================================</span>"
      ],
      "text/plain": [
       "<IPython.core.display.Markdown object>"
      ]
     },
     "metadata": {},
     "output_type": "display_data"
    },
    {
     "data": {
      "text/markdown": [
       "<span style=\"font-size:11pt\">Using classes from Geonames - 403/1383 entities have a class</span>"
      ],
      "text/plain": [
       "<IPython.core.display.Markdown object>"
      ]
     },
     "metadata": {},
     "output_type": "display_data"
    },
    {
     "data": {
      "text/markdown": [
       "<span style=\"font-size:11pt\">Labels (7 classes): <span style=\"color: #0000ff\">spot,building,farm</span>: 176, <span style=\"color: #0000ff\">stream,lake</span>: 74, <span style=\"color: #0000ff\">road,railroad</span>: 16, <span style=\"color: #0000ff\">parks,area</span>: 28, <span style=\"color: #0000ff\">undersea</span>: 27, <span style=\"color: #0000ff\">mountain,hill,rock</span>: 68, <span style=\"color: #0000ff\">forest,heath</span>: 14</span>"
      ],
      "text/plain": [
       "<IPython.core.display.Markdown object>"
      ]
     },
     "metadata": {},
     "output_type": "display_data"
    },
    {
     "data": {
      "text/markdown": [
       "<span style=\"font-size:11pt\">Eval-Settings: metric: <span style=\"color: #0000ff\">f1</span>, type: <span style=\"color: #0000ff\">all-at-once</span>, DT-Depth: <span style=\"color: #0000ff\">3</span>, train-test-split:<span style=\"color: #0000ff\"> 4-fold cross-validation </span></span>"
      ],
      "text/plain": [
       "<IPython.core.display.Markdown object>"
      ]
     },
     "metadata": {},
     "output_type": "display_data"
    },
    {
     "data": {
      "text/markdown": [
       "<span style=\"font-size:11pt\">f1: 0.26</span>"
      ],
      "text/plain": [
       "<IPython.core.display.Markdown object>"
      ]
     },
     "metadata": {},
     "output_type": "display_data"
    },
    {
     "data": {
      "text/markdown": [
       "<span style=\"font-size:11pt\">====================================================================================================</span>"
      ],
      "text/plain": [
       "<IPython.core.display.Markdown object>"
      ]
     },
     "metadata": {},
     "output_type": "display_data"
    },
    {
     "data": {
      "text/markdown": [
       "<span style=\"font-size:11pt\">Using classes from Geonames - 403/1383 entities have a class</span>"
      ],
      "text/plain": [
       "<IPython.core.display.Markdown object>"
      ]
     },
     "metadata": {},
     "output_type": "display_data"
    },
    {
     "data": {
      "text/markdown": [
       "<span style=\"font-size:11pt\">Labels (7 classes): <span style=\"color: #0000ff\">spot,building,farm</span>: 176, <span style=\"color: #0000ff\">stream,lake</span>: 74, <span style=\"color: #0000ff\">road,railroad</span>: 16, <span style=\"color: #0000ff\">parks,area</span>: 28, <span style=\"color: #0000ff\">undersea</span>: 27, <span style=\"color: #0000ff\">mountain,hill,rock</span>: 68, <span style=\"color: #0000ff\">forest,heath</span>: 14</span>"
      ],
      "text/plain": [
       "<IPython.core.display.Markdown object>"
      ]
     },
     "metadata": {},
     "output_type": "display_data"
    },
    {
     "data": {
      "text/markdown": [
       "<span style=\"font-size:11pt\">Eval-Settings: metric: <span style=\"color: #0000ff\">accuracy</span>, type: <span style=\"color: #0000ff\">all-at-once</span>, DT-Depth: <span style=\"color: #0000ff\">3</span>, train-test-split:<span style=\"color: #0000ff\"> 4-fold cross-validation </span></span>"
      ],
      "text/plain": [
       "<IPython.core.display.Markdown object>"
      ]
     },
     "metadata": {},
     "output_type": "display_data"
    },
    {
     "data": {
      "text/markdown": [
       "<span style=\"font-size:11pt\">accuracy: 0.50</span>"
      ],
      "text/plain": [
       "<IPython.core.display.Markdown object>"
      ]
     },
     "metadata": {},
     "output_type": "display_data"
    },
    {
     "data": {
      "text/markdown": [
       "<span style=\"font-size:11pt\">====================================================================================================</span>"
      ],
      "text/plain": [
       "<IPython.core.display.Markdown object>"
      ]
     },
     "metadata": {},
     "output_type": "display_data"
    },
    {
     "data": {
      "text/markdown": [
       "<span style=\"font-size:11pt\">Using classes from Geonames - 403/1383 entities have a class</span>"
      ],
      "text/plain": [
       "<IPython.core.display.Markdown object>"
      ]
     },
     "metadata": {},
     "output_type": "display_data"
    },
    {
     "data": {
      "text/markdown": [
       "<span style=\"font-size:11pt\">Labels (7 classes): <span style=\"color: #0000ff\">spot,building,farm</span>: 176, <span style=\"color: #0000ff\">stream,lake</span>: 74, <span style=\"color: #0000ff\">road,railroad</span>: 16, <span style=\"color: #0000ff\">parks,area</span>: 28, <span style=\"color: #0000ff\">undersea</span>: 27, <span style=\"color: #0000ff\">mountain,hill,rock</span>: 68, <span style=\"color: #0000ff\">forest,heath</span>: 14</span>"
      ],
      "text/plain": [
       "<IPython.core.display.Markdown object>"
      ]
     },
     "metadata": {},
     "output_type": "display_data"
    },
    {
     "data": {
      "text/markdown": [
       "<span style=\"font-size:11pt\">Eval-Settings: metric: <span style=\"color: #0000ff\">f1</span>, type: <span style=\"color: #0000ff\">all-at-once</span>, DT-Depth: <span style=\"color: #0000ff\">3</span>, train-test-split:<span style=\"color: #0000ff\"> 4-fold cross-validation </span></span>"
      ],
      "text/plain": [
       "<IPython.core.display.Markdown object>"
      ]
     },
     "metadata": {},
     "output_type": "display_data"
    },
    {
     "data": {
      "text/markdown": [
       "<span style=\"font-size:11pt\">f1: 0.50</span>"
      ],
      "text/plain": [
       "<IPython.core.display.Markdown object>"
      ]
     },
     "metadata": {},
     "output_type": "display_data"
    },
    {
     "data": {
      "text/markdown": [
       "<span style=\"font-size:11pt\">====================================================================================================</span>"
      ],
      "text/plain": [
       "<IPython.core.display.Markdown object>"
      ]
     },
     "metadata": {},
     "output_type": "display_data"
    },
    {
     "data": {
      "text/markdown": [
       "<span style=\"font-size:11pt\">Using classes from Geonames - 403/1383 entities have a class</span>"
      ],
      "text/plain": [
       "<IPython.core.display.Markdown object>"
      ]
     },
     "metadata": {},
     "output_type": "display_data"
    },
    {
     "data": {
      "text/markdown": [
       "<span style=\"font-size:11pt\">Labels (7 classes): <span style=\"color: #0000ff\">spot,building,farm</span>: 176, <span style=\"color: #0000ff\">stream,lake</span>: 74, <span style=\"color: #0000ff\">road,railroad</span>: 16, <span style=\"color: #0000ff\">parks,area</span>: 28, <span style=\"color: #0000ff\">undersea</span>: 27, <span style=\"color: #0000ff\">mountain,hill,rock</span>: 68, <span style=\"color: #0000ff\">forest,heath</span>: 14</span>"
      ],
      "text/plain": [
       "<IPython.core.display.Markdown object>"
      ]
     },
     "metadata": {},
     "output_type": "display_data"
    },
    {
     "data": {
      "text/markdown": [
       "<span style=\"font-size:11pt\">Eval-Settings: metric: <span style=\"color: #0000ff\">accuracy</span>, type: <span style=\"color: #0000ff\">all-at-once</span>, DT-Depth: <span style=\"color: #0000ff\">None</span>, train-test-split:<span style=\"color: #0000ff\"> 4-fold cross-validation </span></span>"
      ],
      "text/plain": [
       "<IPython.core.display.Markdown object>"
      ]
     },
     "metadata": {},
     "output_type": "display_data"
    },
    {
     "data": {
      "text/markdown": [
       "<span style=\"font-size:11pt\">accuracy: 0.40</span>"
      ],
      "text/plain": [
       "<IPython.core.display.Markdown object>"
      ]
     },
     "metadata": {},
     "output_type": "display_data"
    },
    {
     "data": {
      "text/markdown": [
       "<span style=\"font-size:11pt\">====================================================================================================</span>"
      ],
      "text/plain": [
       "<IPython.core.display.Markdown object>"
      ]
     },
     "metadata": {},
     "output_type": "display_data"
    },
    {
     "data": {
      "text/markdown": [
       "<span style=\"font-size:11pt\">Using classes from Geonames - 403/1383 entities have a class</span>"
      ],
      "text/plain": [
       "<IPython.core.display.Markdown object>"
      ]
     },
     "metadata": {},
     "output_type": "display_data"
    },
    {
     "data": {
      "text/markdown": [
       "<span style=\"font-size:11pt\">Labels (7 classes): <span style=\"color: #0000ff\">spot,building,farm</span>: 176, <span style=\"color: #0000ff\">stream,lake</span>: 74, <span style=\"color: #0000ff\">road,railroad</span>: 16, <span style=\"color: #0000ff\">parks,area</span>: 28, <span style=\"color: #0000ff\">undersea</span>: 27, <span style=\"color: #0000ff\">mountain,hill,rock</span>: 68, <span style=\"color: #0000ff\">forest,heath</span>: 14</span>"
      ],
      "text/plain": [
       "<IPython.core.display.Markdown object>"
      ]
     },
     "metadata": {},
     "output_type": "display_data"
    },
    {
     "data": {
      "text/markdown": [
       "<span style=\"font-size:11pt\">Eval-Settings: metric: <span style=\"color: #0000ff\">f1</span>, type: <span style=\"color: #0000ff\">all-at-once</span>, DT-Depth: <span style=\"color: #0000ff\">None</span>, train-test-split:<span style=\"color: #0000ff\"> 4-fold cross-validation </span></span>"
      ],
      "text/plain": [
       "<IPython.core.display.Markdown object>"
      ]
     },
     "metadata": {},
     "output_type": "display_data"
    },
    {
     "data": {
      "text/markdown": [
       "<span style=\"font-size:11pt\">f1: 0.39</span>"
      ],
      "text/plain": [
       "<IPython.core.display.Markdown object>"
      ]
     },
     "metadata": {},
     "output_type": "display_data"
    },
    {
     "data": {
      "text/markdown": [
       "<span style=\"font-size:11pt\">====================================================================================================</span>"
      ],
      "text/plain": [
       "<IPython.core.display.Markdown object>"
      ]
     },
     "metadata": {},
     "output_type": "display_data"
    },
    {
     "data": {
      "text/markdown": [
       "<span style=\"font-size:11pt\">Using classes from Geonames - 403/1383 entities have a class</span>"
      ],
      "text/plain": [
       "<IPython.core.display.Markdown object>"
      ]
     },
     "metadata": {},
     "output_type": "display_data"
    },
    {
     "data": {
      "text/markdown": [
       "<span style=\"font-size:11pt\">Labels (7 classes): <span style=\"color: #0000ff\">spot,building,farm</span>: 176, <span style=\"color: #0000ff\">stream,lake</span>: 74, <span style=\"color: #0000ff\">road,railroad</span>: 16, <span style=\"color: #0000ff\">parks,area</span>: 28, <span style=\"color: #0000ff\">undersea</span>: 27, <span style=\"color: #0000ff\">mountain,hill,rock</span>: 68, <span style=\"color: #0000ff\">forest,heath</span>: 14</span>"
      ],
      "text/plain": [
       "<IPython.core.display.Markdown object>"
      ]
     },
     "metadata": {},
     "output_type": "display_data"
    },
    {
     "data": {
      "text/markdown": [
       "<span style=\"font-size:11pt\">Eval-Settings: metric: <span style=\"color: #0000ff\">accuracy</span>, type: <span style=\"color: #0000ff\">all-at-once</span>, DT-Depth: <span style=\"color: #0000ff\">None</span>, train-test-split:<span style=\"color: #0000ff\"> 4-fold cross-validation </span></span>"
      ],
      "text/plain": [
       "<IPython.core.display.Markdown object>"
      ]
     },
     "metadata": {},
     "output_type": "display_data"
    },
    {
     "data": {
      "text/markdown": [
       "<span style=\"font-size:11pt\">accuracy: 0.38</span>"
      ],
      "text/plain": [
       "<IPython.core.display.Markdown object>"
      ]
     },
     "metadata": {},
     "output_type": "display_data"
    },
    {
     "data": {
      "text/markdown": [
       "<span style=\"font-size:11pt\">====================================================================================================</span>"
      ],
      "text/plain": [
       "<IPython.core.display.Markdown object>"
      ]
     },
     "metadata": {},
     "output_type": "display_data"
    },
    {
     "data": {
      "text/markdown": [
       "<span style=\"font-size:11pt\">Using classes from Geonames - 403/1383 entities have a class</span>"
      ],
      "text/plain": [
       "<IPython.core.display.Markdown object>"
      ]
     },
     "metadata": {},
     "output_type": "display_data"
    },
    {
     "data": {
      "text/markdown": [
       "<span style=\"font-size:11pt\">Labels (7 classes): <span style=\"color: #0000ff\">spot,building,farm</span>: 176, <span style=\"color: #0000ff\">stream,lake</span>: 74, <span style=\"color: #0000ff\">road,railroad</span>: 16, <span style=\"color: #0000ff\">parks,area</span>: 28, <span style=\"color: #0000ff\">undersea</span>: 27, <span style=\"color: #0000ff\">mountain,hill,rock</span>: 68, <span style=\"color: #0000ff\">forest,heath</span>: 14</span>"
      ],
      "text/plain": [
       "<IPython.core.display.Markdown object>"
      ]
     },
     "metadata": {},
     "output_type": "display_data"
    },
    {
     "data": {
      "text/markdown": [
       "<span style=\"font-size:11pt\">Eval-Settings: metric: <span style=\"color: #0000ff\">f1</span>, type: <span style=\"color: #0000ff\">all-at-once</span>, DT-Depth: <span style=\"color: #0000ff\">None</span>, train-test-split:<span style=\"color: #0000ff\"> 4-fold cross-validation </span></span>"
      ],
      "text/plain": [
       "<IPython.core.display.Markdown object>"
      ]
     },
     "metadata": {},
     "output_type": "display_data"
    },
    {
     "data": {
      "text/markdown": [
       "<span style=\"font-size:11pt\">f1: 0.41</span>"
      ],
      "text/plain": [
       "<IPython.core.display.Markdown object>"
      ]
     },
     "metadata": {},
     "output_type": "display_data"
    },
    {
     "data": {
      "text/markdown": [
       "<span style=\"font-size:11pt\">====================================================================================================</span>"
      ],
      "text/plain": [
       "<IPython.core.display.Markdown object>"
      ]
     },
     "metadata": {},
     "output_type": "display_data"
    },
    {
     "data": {
      "text/markdown": [
       "<span style=\"font-size:11pt\">Using classes from Geonames - 403/1383 entities have a class</span>"
      ],
      "text/plain": [
       "<IPython.core.display.Markdown object>"
      ]
     },
     "metadata": {},
     "output_type": "display_data"
    },
    {
     "data": {
      "text/markdown": [
       "<span style=\"font-size:11pt\">Labels (7 classes): <span style=\"color: #0000ff\">spot,building,farm</span>: 176, <span style=\"color: #0000ff\">stream,lake</span>: 74, <span style=\"color: #0000ff\">road,railroad</span>: 16, <span style=\"color: #0000ff\">parks,area</span>: 28, <span style=\"color: #0000ff\">undersea</span>: 27, <span style=\"color: #0000ff\">mountain,hill,rock</span>: 68, <span style=\"color: #0000ff\">forest,heath</span>: 14</span>"
      ],
      "text/plain": [
       "<IPython.core.display.Markdown object>"
      ]
     },
     "metadata": {},
     "output_type": "display_data"
    },
    {
     "data": {
      "text/markdown": [
       "<span style=\"font-size:11pt\">Eval-Settings: metric: <span style=\"color: #0000ff\">accuracy</span>, type: <span style=\"color: #0000ff\">one-vs-rest</span>, DT-Depth: <span style=\"color: #0000ff\">1</span>, train-test-split:<span style=\"color: #0000ff\"> 5-fold cross-validation </span></span>"
      ],
      "text/plain": [
       "<IPython.core.display.Markdown object>"
      ]
     },
     "metadata": {},
     "output_type": "display_data"
    },
    {
     "data": {
      "text/markdown": [
       "<span style=\"font-size:11pt\">Per-Class-Scores: spot,building,farm: 0.76, stream,lake: 0.55, undersea: 0.64, road,railroad: 0.46, forest,heath: 0.42, parks,area: 0.41, mountain,hill,rock: 0.49</span>"
      ],
      "text/plain": [
       "<IPython.core.display.Markdown object>"
      ]
     },
     "metadata": {},
     "output_type": "display_data"
    },
    {
     "data": {
      "text/markdown": [
       "<span style=\"font-size:11pt\">Unweighted Mean accuracy: 53.25%</span>"
      ],
      "text/plain": [
       "<IPython.core.display.Markdown object>"
      ]
     },
     "metadata": {},
     "output_type": "display_data"
    },
    {
     "data": {
      "text/markdown": [
       "<span style=\"font-size:11pt\">Weighted Mean accuracy: 61.81%</span>"
      ],
      "text/plain": [
       "<IPython.core.display.Markdown object>"
      ]
     },
     "metadata": {},
     "output_type": "display_data"
    },
    {
     "data": {
      "text/markdown": [
       "<span style=\"font-size:11pt\">====================================================================================================</span>"
      ],
      "text/plain": [
       "<IPython.core.display.Markdown object>"
      ]
     },
     "metadata": {},
     "output_type": "display_data"
    },
    {
     "data": {
      "text/markdown": [
       "<span style=\"font-size:11pt\">Using classes from Geonames - 403/1383 entities have a class</span>"
      ],
      "text/plain": [
       "<IPython.core.display.Markdown object>"
      ]
     },
     "metadata": {},
     "output_type": "display_data"
    },
    {
     "data": {
      "text/markdown": [
       "<span style=\"font-size:11pt\">Labels (7 classes): <span style=\"color: #0000ff\">spot,building,farm</span>: 176, <span style=\"color: #0000ff\">stream,lake</span>: 74, <span style=\"color: #0000ff\">road,railroad</span>: 16, <span style=\"color: #0000ff\">parks,area</span>: 28, <span style=\"color: #0000ff\">undersea</span>: 27, <span style=\"color: #0000ff\">mountain,hill,rock</span>: 68, <span style=\"color: #0000ff\">forest,heath</span>: 14</span>"
      ],
      "text/plain": [
       "<IPython.core.display.Markdown object>"
      ]
     },
     "metadata": {},
     "output_type": "display_data"
    },
    {
     "data": {
      "text/markdown": [
       "<span style=\"font-size:11pt\">Eval-Settings: metric: <span style=\"color: #0000ff\">f1</span>, type: <span style=\"color: #0000ff\">one-vs-rest</span>, DT-Depth: <span style=\"color: #0000ff\">1</span>, train-test-split:<span style=\"color: #0000ff\"> 5-fold cross-validation </span></span>"
      ],
      "text/plain": [
       "<IPython.core.display.Markdown object>"
      ]
     },
     "metadata": {},
     "output_type": "display_data"
    },
    {
     "data": {
      "text/markdown": [
       "<span style=\"font-size:11pt\">Per-Class-Scores: spot,building,farm: 0.73, stream,lake: 0.39, undersea: 0.10, road,railroad: 0.10, forest,heath: 0.10, parks,area: 0.14, mountain,hill,rock: 0.40</span>"
      ],
      "text/plain": [
       "<IPython.core.display.Markdown object>"
      ]
     },
     "metadata": {},
     "output_type": "display_data"
    },
    {
     "data": {
      "text/markdown": [
       "<span style=\"font-size:11pt\">Unweighted Mean f1: 28.03%</span>"
      ],
      "text/plain": [
       "<IPython.core.display.Markdown object>"
      ]
     },
     "metadata": {},
     "output_type": "display_data"
    },
    {
     "data": {
      "text/markdown": [
       "<span style=\"font-size:11pt\">Weighted Mean f1: 48.19%</span>"
      ],
      "text/plain": [
       "<IPython.core.display.Markdown object>"
      ]
     },
     "metadata": {},
     "output_type": "display_data"
    },
    {
     "data": {
      "text/markdown": [
       "<span style=\"font-size:11pt\">====================================================================================================</span>"
      ],
      "text/plain": [
       "<IPython.core.display.Markdown object>"
      ]
     },
     "metadata": {},
     "output_type": "display_data"
    },
    {
     "data": {
      "text/markdown": [
       "<span style=\"font-size:11pt\">Using classes from Geonames - 403/1383 entities have a class</span>"
      ],
      "text/plain": [
       "<IPython.core.display.Markdown object>"
      ]
     },
     "metadata": {},
     "output_type": "display_data"
    },
    {
     "data": {
      "text/markdown": [
       "<span style=\"font-size:11pt\">Labels (7 classes): <span style=\"color: #0000ff\">spot,building,farm</span>: 176, <span style=\"color: #0000ff\">stream,lake</span>: 74, <span style=\"color: #0000ff\">road,railroad</span>: 16, <span style=\"color: #0000ff\">parks,area</span>: 28, <span style=\"color: #0000ff\">undersea</span>: 27, <span style=\"color: #0000ff\">mountain,hill,rock</span>: 68, <span style=\"color: #0000ff\">forest,heath</span>: 14</span>"
      ],
      "text/plain": [
       "<IPython.core.display.Markdown object>"
      ]
     },
     "metadata": {},
     "output_type": "display_data"
    },
    {
     "data": {
      "text/markdown": [
       "<span style=\"font-size:11pt\">Eval-Settings: metric: <span style=\"color: #0000ff\">accuracy</span>, type: <span style=\"color: #0000ff\">one-vs-rest</span>, DT-Depth: <span style=\"color: #0000ff\">1</span>, train-test-split:<span style=\"color: #0000ff\"> 5-fold cross-validation </span></span>"
      ],
      "text/plain": [
       "<IPython.core.display.Markdown object>"
      ]
     },
     "metadata": {},
     "output_type": "display_data"
    },
    {
     "data": {
      "text/markdown": [
       "<span style=\"font-size:11pt\">Per-Class-Scores: spot,building,farm: 0.76, stream,lake: 0.82, undersea: 0.93, road,railroad: 0.96, forest,heath: 0.97, parks,area: 0.93, mountain,hill,rock: 0.83</span>"
      ],
      "text/plain": [
       "<IPython.core.display.Markdown object>"
      ]
     },
     "metadata": {},
     "output_type": "display_data"
    },
    {
     "data": {
      "text/markdown": [
       "<span style=\"font-size:11pt\">Unweighted Mean accuracy: 88.52%</span>"
      ],
      "text/plain": [
       "<IPython.core.display.Markdown object>"
      ]
     },
     "metadata": {},
     "output_type": "display_data"
    },
    {
     "data": {
      "text/markdown": [
       "<span style=\"font-size:11pt\">Weighted Mean accuracy: 82.16%</span>"
      ],
      "text/plain": [
       "<IPython.core.display.Markdown object>"
      ]
     },
     "metadata": {},
     "output_type": "display_data"
    },
    {
     "data": {
      "text/markdown": [
       "<span style=\"font-size:11pt\">====================================================================================================</span>"
      ],
      "text/plain": [
       "<IPython.core.display.Markdown object>"
      ]
     },
     "metadata": {},
     "output_type": "display_data"
    },
    {
     "data": {
      "text/markdown": [
       "<span style=\"font-size:11pt\">Using classes from Geonames - 403/1383 entities have a class</span>"
      ],
      "text/plain": [
       "<IPython.core.display.Markdown object>"
      ]
     },
     "metadata": {},
     "output_type": "display_data"
    },
    {
     "data": {
      "text/markdown": [
       "<span style=\"font-size:11pt\">Labels (7 classes): <span style=\"color: #0000ff\">spot,building,farm</span>: 176, <span style=\"color: #0000ff\">stream,lake</span>: 74, <span style=\"color: #0000ff\">road,railroad</span>: 16, <span style=\"color: #0000ff\">parks,area</span>: 28, <span style=\"color: #0000ff\">undersea</span>: 27, <span style=\"color: #0000ff\">mountain,hill,rock</span>: 68, <span style=\"color: #0000ff\">forest,heath</span>: 14</span>"
      ],
      "text/plain": [
       "<IPython.core.display.Markdown object>"
      ]
     },
     "metadata": {},
     "output_type": "display_data"
    },
    {
     "data": {
      "text/markdown": [
       "<span style=\"font-size:11pt\">Eval-Settings: metric: <span style=\"color: #0000ff\">f1</span>, type: <span style=\"color: #0000ff\">one-vs-rest</span>, DT-Depth: <span style=\"color: #0000ff\">1</span>, train-test-split:<span style=\"color: #0000ff\"> 5-fold cross-validation </span></span>"
      ],
      "text/plain": [
       "<IPython.core.display.Markdown object>"
      ]
     },
     "metadata": {},
     "output_type": "display_data"
    },
    {
     "data": {
      "text/markdown": [
       "<span style=\"font-size:11pt\">Per-Class-Scores: spot,building,farm: 0.73, stream,lake: 0.00, undersea: 0.00, road,railroad: 0.00, forest,heath: 0.00, parks,area: 0.00, mountain,hill,rock: 0.00</span>"
      ],
      "text/plain": [
       "<IPython.core.display.Markdown object>"
      ]
     },
     "metadata": {},
     "output_type": "display_data"
    },
    {
     "data": {
      "text/markdown": [
       "<span style=\"font-size:11pt\">Unweighted Mean f1: 10.46%</span>"
      ],
      "text/plain": [
       "<IPython.core.display.Markdown object>"
      ]
     },
     "metadata": {},
     "output_type": "display_data"
    },
    {
     "data": {
      "text/markdown": [
       "<span style=\"font-size:11pt\">Weighted Mean f1: 31.97%</span>"
      ],
      "text/plain": [
       "<IPython.core.display.Markdown object>"
      ]
     },
     "metadata": {},
     "output_type": "display_data"
    },
    {
     "data": {
      "text/markdown": [
       "<span style=\"font-size:11pt\">====================================================================================================</span>"
      ],
      "text/plain": [
       "<IPython.core.display.Markdown object>"
      ]
     },
     "metadata": {},
     "output_type": "display_data"
    },
    {
     "data": {
      "text/markdown": [
       "<span style=\"font-size:11pt\">Using classes from Geonames - 403/1383 entities have a class</span>"
      ],
      "text/plain": [
       "<IPython.core.display.Markdown object>"
      ]
     },
     "metadata": {},
     "output_type": "display_data"
    },
    {
     "data": {
      "text/markdown": [
       "<span style=\"font-size:11pt\">Labels (7 classes): <span style=\"color: #0000ff\">spot,building,farm</span>: 176, <span style=\"color: #0000ff\">stream,lake</span>: 74, <span style=\"color: #0000ff\">road,railroad</span>: 16, <span style=\"color: #0000ff\">parks,area</span>: 28, <span style=\"color: #0000ff\">undersea</span>: 27, <span style=\"color: #0000ff\">mountain,hill,rock</span>: 68, <span style=\"color: #0000ff\">forest,heath</span>: 14</span>"
      ],
      "text/plain": [
       "<IPython.core.display.Markdown object>"
      ]
     },
     "metadata": {},
     "output_type": "display_data"
    },
    {
     "data": {
      "text/markdown": [
       "<span style=\"font-size:11pt\">Eval-Settings: metric: <span style=\"color: #0000ff\">accuracy</span>, type: <span style=\"color: #0000ff\">one-vs-rest</span>, DT-Depth: <span style=\"color: #0000ff\">2</span>, train-test-split:<span style=\"color: #0000ff\"> 5-fold cross-validation </span></span>"
      ],
      "text/plain": [
       "<IPython.core.display.Markdown object>"
      ]
     },
     "metadata": {},
     "output_type": "display_data"
    },
    {
     "data": {
      "text/markdown": [
       "<span style=\"font-size:11pt\">Per-Class-Scores: spot,building,farm: 0.75, stream,lake: 0.61, undersea: 0.73, road,railroad: 0.61, forest,heath: 0.75, parks,area: 0.43, mountain,hill,rock: 0.53</span>"
      ],
      "text/plain": [
       "<IPython.core.display.Markdown object>"
      ]
     },
     "metadata": {},
     "output_type": "display_data"
    },
    {
     "data": {
      "text/markdown": [
       "<span style=\"font-size:11pt\">Unweighted Mean accuracy: 63.01%</span>"
      ],
      "text/plain": [
       "<IPython.core.display.Markdown object>"
      ]
     },
     "metadata": {},
     "output_type": "display_data"
    },
    {
     "data": {
      "text/markdown": [
       "<span style=\"font-size:11pt\">Weighted Mean accuracy: 65.86%</span>"
      ],
      "text/plain": [
       "<IPython.core.display.Markdown object>"
      ]
     },
     "metadata": {},
     "output_type": "display_data"
    },
    {
     "data": {
      "text/markdown": [
       "<span style=\"font-size:11pt\">====================================================================================================</span>"
      ],
      "text/plain": [
       "<IPython.core.display.Markdown object>"
      ]
     },
     "metadata": {},
     "output_type": "display_data"
    },
    {
     "data": {
      "text/markdown": [
       "<span style=\"font-size:11pt\">Using classes from Geonames - 403/1383 entities have a class</span>"
      ],
      "text/plain": [
       "<IPython.core.display.Markdown object>"
      ]
     },
     "metadata": {},
     "output_type": "display_data"
    },
    {
     "data": {
      "text/markdown": [
       "<span style=\"font-size:11pt\">Labels (7 classes): <span style=\"color: #0000ff\">spot,building,farm</span>: 176, <span style=\"color: #0000ff\">stream,lake</span>: 74, <span style=\"color: #0000ff\">road,railroad</span>: 16, <span style=\"color: #0000ff\">parks,area</span>: 28, <span style=\"color: #0000ff\">undersea</span>: 27, <span style=\"color: #0000ff\">mountain,hill,rock</span>: 68, <span style=\"color: #0000ff\">forest,heath</span>: 14</span>"
      ],
      "text/plain": [
       "<IPython.core.display.Markdown object>"
      ]
     },
     "metadata": {},
     "output_type": "display_data"
    },
    {
     "data": {
      "text/markdown": [
       "<span style=\"font-size:11pt\">Eval-Settings: metric: <span style=\"color: #0000ff\">f1</span>, type: <span style=\"color: #0000ff\">one-vs-rest</span>, DT-Depth: <span style=\"color: #0000ff\">2</span>, train-test-split:<span style=\"color: #0000ff\"> 5-fold cross-validation </span></span>"
      ],
      "text/plain": [
       "<IPython.core.display.Markdown object>"
      ]
     },
     "metadata": {},
     "output_type": "display_data"
    },
    {
     "data": {
      "text/markdown": [
       "<span style=\"font-size:11pt\">Per-Class-Scores: spot,building,farm: 0.73, stream,lake: 0.41, undersea: 0.11, road,railroad: 0.13, forest,heath: 0.12, parks,area: 0.16, mountain,hill,rock: 0.41</span>"
      ],
      "text/plain": [
       "<IPython.core.display.Markdown object>"
      ]
     },
     "metadata": {},
     "output_type": "display_data"
    },
    {
     "data": {
      "text/markdown": [
       "<span style=\"font-size:11pt\">Unweighted Mean f1: 29.36%</span>"
      ],
      "text/plain": [
       "<IPython.core.display.Markdown object>"
      ]
     },
     "metadata": {},
     "output_type": "display_data"
    },
    {
     "data": {
      "text/markdown": [
       "<span style=\"font-size:11pt\">Weighted Mean f1: 48.93%</span>"
      ],
      "text/plain": [
       "<IPython.core.display.Markdown object>"
      ]
     },
     "metadata": {},
     "output_type": "display_data"
    },
    {
     "data": {
      "text/markdown": [
       "<span style=\"font-size:11pt\">====================================================================================================</span>"
      ],
      "text/plain": [
       "<IPython.core.display.Markdown object>"
      ]
     },
     "metadata": {},
     "output_type": "display_data"
    },
    {
     "data": {
      "text/markdown": [
       "<span style=\"font-size:11pt\">Using classes from Geonames - 403/1383 entities have a class</span>"
      ],
      "text/plain": [
       "<IPython.core.display.Markdown object>"
      ]
     },
     "metadata": {},
     "output_type": "display_data"
    },
    {
     "data": {
      "text/markdown": [
       "<span style=\"font-size:11pt\">Labels (7 classes): <span style=\"color: #0000ff\">spot,building,farm</span>: 176, <span style=\"color: #0000ff\">stream,lake</span>: 74, <span style=\"color: #0000ff\">road,railroad</span>: 16, <span style=\"color: #0000ff\">parks,area</span>: 28, <span style=\"color: #0000ff\">undersea</span>: 27, <span style=\"color: #0000ff\">mountain,hill,rock</span>: 68, <span style=\"color: #0000ff\">forest,heath</span>: 14</span>"
      ],
      "text/plain": [
       "<IPython.core.display.Markdown object>"
      ]
     },
     "metadata": {},
     "output_type": "display_data"
    },
    {
     "data": {
      "text/markdown": [
       "<span style=\"font-size:11pt\">Eval-Settings: metric: <span style=\"color: #0000ff\">accuracy</span>, type: <span style=\"color: #0000ff\">one-vs-rest</span>, DT-Depth: <span style=\"color: #0000ff\">2</span>, train-test-split:<span style=\"color: #0000ff\"> 5-fold cross-validation </span></span>"
      ],
      "text/plain": [
       "<IPython.core.display.Markdown object>"
      ]
     },
     "metadata": {},
     "output_type": "display_data"
    },
    {
     "data": {
      "text/markdown": [
       "<span style=\"font-size:11pt\">Per-Class-Scores: spot,building,farm: 0.75, stream,lake: 0.82, undersea: 0.92, road,railroad: 0.95, forest,heath: 0.97, parks,area: 0.92, mountain,hill,rock: 0.80</span>"
      ],
      "text/plain": [
       "<IPython.core.display.Markdown object>"
      ]
     },
     "metadata": {},
     "output_type": "display_data"
    },
    {
     "data": {
      "text/markdown": [
       "<span style=\"font-size:11pt\">Unweighted Mean accuracy: 87.41%</span>"
      ],
      "text/plain": [
       "<IPython.core.display.Markdown object>"
      ]
     },
     "metadata": {},
     "output_type": "display_data"
    },
    {
     "data": {
      "text/markdown": [
       "<span style=\"font-size:11pt\">Weighted Mean accuracy: 80.84%</span>"
      ],
      "text/plain": [
       "<IPython.core.display.Markdown object>"
      ]
     },
     "metadata": {},
     "output_type": "display_data"
    },
    {
     "data": {
      "text/markdown": [
       "<span style=\"font-size:11pt\">====================================================================================================</span>"
      ],
      "text/plain": [
       "<IPython.core.display.Markdown object>"
      ]
     },
     "metadata": {},
     "output_type": "display_data"
    },
    {
     "data": {
      "text/markdown": [
       "<span style=\"font-size:11pt\">Using classes from Geonames - 403/1383 entities have a class</span>"
      ],
      "text/plain": [
       "<IPython.core.display.Markdown object>"
      ]
     },
     "metadata": {},
     "output_type": "display_data"
    },
    {
     "data": {
      "text/markdown": [
       "<span style=\"font-size:11pt\">Labels (7 classes): <span style=\"color: #0000ff\">spot,building,farm</span>: 176, <span style=\"color: #0000ff\">stream,lake</span>: 74, <span style=\"color: #0000ff\">road,railroad</span>: 16, <span style=\"color: #0000ff\">parks,area</span>: 28, <span style=\"color: #0000ff\">undersea</span>: 27, <span style=\"color: #0000ff\">mountain,hill,rock</span>: 68, <span style=\"color: #0000ff\">forest,heath</span>: 14</span>"
      ],
      "text/plain": [
       "<IPython.core.display.Markdown object>"
      ]
     },
     "metadata": {},
     "output_type": "display_data"
    },
    {
     "data": {
      "text/markdown": [
       "<span style=\"font-size:11pt\">Eval-Settings: metric: <span style=\"color: #0000ff\">f1</span>, type: <span style=\"color: #0000ff\">one-vs-rest</span>, DT-Depth: <span style=\"color: #0000ff\">2</span>, train-test-split:<span style=\"color: #0000ff\"> 5-fold cross-validation </span></span>"
      ],
      "text/plain": [
       "<IPython.core.display.Markdown object>"
      ]
     },
     "metadata": {},
     "output_type": "display_data"
    },
    {
     "data": {
      "text/markdown": [
       "<span style=\"font-size:11pt\">Per-Class-Scores: spot,building,farm: 0.72, stream,lake: 0.00, undersea: 0.00, road,railroad: 0.00, forest,heath: 0.00, parks,area: 0.00, mountain,hill,rock: 0.09</span>"
      ],
      "text/plain": [
       "<IPython.core.display.Markdown object>"
      ]
     },
     "metadata": {},
     "output_type": "display_data"
    },
    {
     "data": {
      "text/markdown": [
       "<span style=\"font-size:11pt\">Unweighted Mean f1: 11.64%</span>"
      ],
      "text/plain": [
       "<IPython.core.display.Markdown object>"
      ]
     },
     "metadata": {},
     "output_type": "display_data"
    },
    {
     "data": {
      "text/markdown": [
       "<span style=\"font-size:11pt\">Weighted Mean f1: 33.16%</span>"
      ],
      "text/plain": [
       "<IPython.core.display.Markdown object>"
      ]
     },
     "metadata": {},
     "output_type": "display_data"
    },
    {
     "data": {
      "text/markdown": [
       "<span style=\"font-size:11pt\">====================================================================================================</span>"
      ],
      "text/plain": [
       "<IPython.core.display.Markdown object>"
      ]
     },
     "metadata": {},
     "output_type": "display_data"
    },
    {
     "data": {
      "text/markdown": [
       "<span style=\"font-size:11pt\">Using classes from Geonames - 403/1383 entities have a class</span>"
      ],
      "text/plain": [
       "<IPython.core.display.Markdown object>"
      ]
     },
     "metadata": {},
     "output_type": "display_data"
    },
    {
     "data": {
      "text/markdown": [
       "<span style=\"font-size:11pt\">Labels (7 classes): <span style=\"color: #0000ff\">spot,building,farm</span>: 176, <span style=\"color: #0000ff\">stream,lake</span>: 74, <span style=\"color: #0000ff\">road,railroad</span>: 16, <span style=\"color: #0000ff\">parks,area</span>: 28, <span style=\"color: #0000ff\">undersea</span>: 27, <span style=\"color: #0000ff\">mountain,hill,rock</span>: 68, <span style=\"color: #0000ff\">forest,heath</span>: 14</span>"
      ],
      "text/plain": [
       "<IPython.core.display.Markdown object>"
      ]
     },
     "metadata": {},
     "output_type": "display_data"
    },
    {
     "data": {
      "text/markdown": [
       "<span style=\"font-size:11pt\">Eval-Settings: metric: <span style=\"color: #0000ff\">accuracy</span>, type: <span style=\"color: #0000ff\">one-vs-rest</span>, DT-Depth: <span style=\"color: #0000ff\">3</span>, train-test-split:<span style=\"color: #0000ff\"> 5-fold cross-validation </span></span>"
      ],
      "text/plain": [
       "<IPython.core.display.Markdown object>"
      ]
     },
     "metadata": {},
     "output_type": "display_data"
    },
    {
     "data": {
      "text/markdown": [
       "<span style=\"font-size:11pt\">Per-Class-Scores: spot,building,farm: 0.79, stream,lake: 0.66, undersea: 0.67, road,railroad: 0.65, forest,heath: 0.77, parks,area: 0.54, mountain,hill,rock: 0.58</span>"
      ],
      "text/plain": [
       "<IPython.core.display.Markdown object>"
      ]
     },
     "metadata": {},
     "output_type": "display_data"
    },
    {
     "data": {
      "text/markdown": [
       "<span style=\"font-size:11pt\">Unweighted Mean accuracy: 66.45%</span>"
      ],
      "text/plain": [
       "<IPython.core.display.Markdown object>"
      ]
     },
     "metadata": {},
     "output_type": "display_data"
    },
    {
     "data": {
      "text/markdown": [
       "<span style=\"font-size:11pt\">Weighted Mean accuracy: 69.72%</span>"
      ],
      "text/plain": [
       "<IPython.core.display.Markdown object>"
      ]
     },
     "metadata": {},
     "output_type": "display_data"
    },
    {
     "data": {
      "text/markdown": [
       "<span style=\"font-size:11pt\">====================================================================================================</span>"
      ],
      "text/plain": [
       "<IPython.core.display.Markdown object>"
      ]
     },
     "metadata": {},
     "output_type": "display_data"
    },
    {
     "data": {
      "text/markdown": [
       "<span style=\"font-size:11pt\">Using classes from Geonames - 403/1383 entities have a class</span>"
      ],
      "text/plain": [
       "<IPython.core.display.Markdown object>"
      ]
     },
     "metadata": {},
     "output_type": "display_data"
    },
    {
     "data": {
      "text/markdown": [
       "<span style=\"font-size:11pt\">Labels (7 classes): <span style=\"color: #0000ff\">spot,building,farm</span>: 176, <span style=\"color: #0000ff\">stream,lake</span>: 74, <span style=\"color: #0000ff\">road,railroad</span>: 16, <span style=\"color: #0000ff\">parks,area</span>: 28, <span style=\"color: #0000ff\">undersea</span>: 27, <span style=\"color: #0000ff\">mountain,hill,rock</span>: 68, <span style=\"color: #0000ff\">forest,heath</span>: 14</span>"
      ],
      "text/plain": [
       "<IPython.core.display.Markdown object>"
      ]
     },
     "metadata": {},
     "output_type": "display_data"
    },
    {
     "data": {
      "text/markdown": [
       "<span style=\"font-size:11pt\">Eval-Settings: metric: <span style=\"color: #0000ff\">f1</span>, type: <span style=\"color: #0000ff\">one-vs-rest</span>, DT-Depth: <span style=\"color: #0000ff\">3</span>, train-test-split:<span style=\"color: #0000ff\"> 5-fold cross-validation </span></span>"
      ],
      "text/plain": [
       "<IPython.core.display.Markdown object>"
      ]
     },
     "metadata": {},
     "output_type": "display_data"
    },
    {
     "data": {
      "text/markdown": [
       "<span style=\"font-size:11pt\">Per-Class-Scores: spot,building,farm: 0.78, stream,lake: 0.43, undersea: 0.07, road,railroad: 0.13, forest,heath: 0.14, parks,area: 0.16, mountain,hill,rock: 0.40</span>"
      ],
      "text/plain": [
       "<IPython.core.display.Markdown object>"
      ]
     },
     "metadata": {},
     "output_type": "display_data"
    },
    {
     "data": {
      "text/markdown": [
       "<span style=\"font-size:11pt\">Unweighted Mean f1: 30.06%</span>"
      ],
      "text/plain": [
       "<IPython.core.display.Markdown object>"
      ]
     },
     "metadata": {},
     "output_type": "display_data"
    },
    {
     "data": {
      "text/markdown": [
       "<span style=\"font-size:11pt\">Weighted Mean f1: 51.28%</span>"
      ],
      "text/plain": [
       "<IPython.core.display.Markdown object>"
      ]
     },
     "metadata": {},
     "output_type": "display_data"
    },
    {
     "data": {
      "text/markdown": [
       "<span style=\"font-size:11pt\">====================================================================================================</span>"
      ],
      "text/plain": [
       "<IPython.core.display.Markdown object>"
      ]
     },
     "metadata": {},
     "output_type": "display_data"
    },
    {
     "data": {
      "text/markdown": [
       "<span style=\"font-size:11pt\">Using classes from Geonames - 403/1383 entities have a class</span>"
      ],
      "text/plain": [
       "<IPython.core.display.Markdown object>"
      ]
     },
     "metadata": {},
     "output_type": "display_data"
    },
    {
     "data": {
      "text/markdown": [
       "<span style=\"font-size:11pt\">Labels (7 classes): <span style=\"color: #0000ff\">spot,building,farm</span>: 176, <span style=\"color: #0000ff\">stream,lake</span>: 74, <span style=\"color: #0000ff\">road,railroad</span>: 16, <span style=\"color: #0000ff\">parks,area</span>: 28, <span style=\"color: #0000ff\">undersea</span>: 27, <span style=\"color: #0000ff\">mountain,hill,rock</span>: 68, <span style=\"color: #0000ff\">forest,heath</span>: 14</span>"
      ],
      "text/plain": [
       "<IPython.core.display.Markdown object>"
      ]
     },
     "metadata": {},
     "output_type": "display_data"
    },
    {
     "data": {
      "text/markdown": [
       "<span style=\"font-size:11pt\">Eval-Settings: metric: <span style=\"color: #0000ff\">accuracy</span>, type: <span style=\"color: #0000ff\">one-vs-rest</span>, DT-Depth: <span style=\"color: #0000ff\">3</span>, train-test-split:<span style=\"color: #0000ff\"> 5-fold cross-validation </span></span>"
      ],
      "text/plain": [
       "<IPython.core.display.Markdown object>"
      ]
     },
     "metadata": {},
     "output_type": "display_data"
    },
    {
     "data": {
      "text/markdown": [
       "<span style=\"font-size:11pt\">Per-Class-Scores: spot,building,farm: 0.78, stream,lake: 0.79, undersea: 0.91, road,railroad: 0.95, forest,heath: 0.96, parks,area: 0.91, mountain,hill,rock: 0.82</span>"
      ],
      "text/plain": [
       "<IPython.core.display.Markdown object>"
      ]
     },
     "metadata": {},
     "output_type": "display_data"
    },
    {
     "data": {
      "text/markdown": [
       "<span style=\"font-size:11pt\">Unweighted Mean accuracy: 87.56%</span>"
      ],
      "text/plain": [
       "<IPython.core.display.Markdown object>"
      ]
     },
     "metadata": {},
     "output_type": "display_data"
    },
    {
     "data": {
      "text/markdown": [
       "<span style=\"font-size:11pt\">Weighted Mean accuracy: 81.94%</span>"
      ],
      "text/plain": [
       "<IPython.core.display.Markdown object>"
      ]
     },
     "metadata": {},
     "output_type": "display_data"
    },
    {
     "data": {
      "text/markdown": [
       "<span style=\"font-size:11pt\">====================================================================================================</span>"
      ],
      "text/plain": [
       "<IPython.core.display.Markdown object>"
      ]
     },
     "metadata": {},
     "output_type": "display_data"
    },
    {
     "data": {
      "text/markdown": [
       "<span style=\"font-size:11pt\">Using classes from Geonames - 403/1383 entities have a class</span>"
      ],
      "text/plain": [
       "<IPython.core.display.Markdown object>"
      ]
     },
     "metadata": {},
     "output_type": "display_data"
    },
    {
     "data": {
      "text/markdown": [
       "<span style=\"font-size:11pt\">Labels (7 classes): <span style=\"color: #0000ff\">spot,building,farm</span>: 176, <span style=\"color: #0000ff\">stream,lake</span>: 74, <span style=\"color: #0000ff\">road,railroad</span>: 16, <span style=\"color: #0000ff\">parks,area</span>: 28, <span style=\"color: #0000ff\">undersea</span>: 27, <span style=\"color: #0000ff\">mountain,hill,rock</span>: 68, <span style=\"color: #0000ff\">forest,heath</span>: 14</span>"
      ],
      "text/plain": [
       "<IPython.core.display.Markdown object>"
      ]
     },
     "metadata": {},
     "output_type": "display_data"
    },
    {
     "data": {
      "text/markdown": [
       "<span style=\"font-size:11pt\">Eval-Settings: metric: <span style=\"color: #0000ff\">f1</span>, type: <span style=\"color: #0000ff\">one-vs-rest</span>, DT-Depth: <span style=\"color: #0000ff\">3</span>, train-test-split:<span style=\"color: #0000ff\"> 5-fold cross-validation </span></span>"
      ],
      "text/plain": [
       "<IPython.core.display.Markdown object>"
      ]
     },
     "metadata": {},
     "output_type": "display_data"
    },
    {
     "data": {
      "text/markdown": [
       "<span style=\"font-size:11pt\">Per-Class-Scores: spot,building,farm: 0.77, stream,lake: 0.04, undersea: 0.07, road,railroad: 0.00, forest,heath: 0.08, parks,area: 0.00, mountain,hill,rock: 0.10</span>"
      ],
      "text/plain": [
       "<IPython.core.display.Markdown object>"
      ]
     },
     "metadata": {},
     "output_type": "display_data"
    },
    {
     "data": {
      "text/markdown": [
       "<span style=\"font-size:11pt\">Unweighted Mean f1: 15.01%</span>"
      ],
      "text/plain": [
       "<IPython.core.display.Markdown object>"
      ]
     },
     "metadata": {},
     "output_type": "display_data"
    },
    {
     "data": {
      "text/markdown": [
       "<span style=\"font-size:11pt\">Weighted Mean f1: 36.59%</span>"
      ],
      "text/plain": [
       "<IPython.core.display.Markdown object>"
      ]
     },
     "metadata": {},
     "output_type": "display_data"
    },
    {
     "data": {
      "text/markdown": [
       "<span style=\"font-size:11pt\">====================================================================================================</span>"
      ],
      "text/plain": [
       "<IPython.core.display.Markdown object>"
      ]
     },
     "metadata": {},
     "output_type": "display_data"
    },
    {
     "data": {
      "text/markdown": [
       "<span style=\"font-size:11pt\">Using classes from Geonames - 403/1383 entities have a class</span>"
      ],
      "text/plain": [
       "<IPython.core.display.Markdown object>"
      ]
     },
     "metadata": {},
     "output_type": "display_data"
    },
    {
     "data": {
      "text/markdown": [
       "<span style=\"font-size:11pt\">Labels (7 classes): <span style=\"color: #0000ff\">spot,building,farm</span>: 176, <span style=\"color: #0000ff\">stream,lake</span>: 74, <span style=\"color: #0000ff\">road,railroad</span>: 16, <span style=\"color: #0000ff\">parks,area</span>: 28, <span style=\"color: #0000ff\">undersea</span>: 27, <span style=\"color: #0000ff\">mountain,hill,rock</span>: 68, <span style=\"color: #0000ff\">forest,heath</span>: 14</span>"
      ],
      "text/plain": [
       "<IPython.core.display.Markdown object>"
      ]
     },
     "metadata": {},
     "output_type": "display_data"
    },
    {
     "data": {
      "text/markdown": [
       "<span style=\"font-size:11pt\">Eval-Settings: metric: <span style=\"color: #0000ff\">accuracy</span>, type: <span style=\"color: #0000ff\">one-vs-rest</span>, DT-Depth: <span style=\"color: #0000ff\">None</span>, train-test-split:<span style=\"color: #0000ff\"> 5-fold cross-validation </span></span>"
      ],
      "text/plain": [
       "<IPython.core.display.Markdown object>"
      ]
     },
     "metadata": {},
     "output_type": "display_data"
    },
    {
     "data": {
      "text/markdown": [
       "<span style=\"font-size:11pt\">Per-Class-Scores: spot,building,farm: 0.71, stream,lake: 0.78, undersea: 0.86, road,railroad: 0.93, forest,heath: 0.96, parks,area: 0.90, mountain,hill,rock: 0.77</span>"
      ],
      "text/plain": [
       "<IPython.core.display.Markdown object>"
      ]
     },
     "metadata": {},
     "output_type": "display_data"
    },
    {
     "data": {
      "text/markdown": [
       "<span style=\"font-size:11pt\">Unweighted Mean accuracy: 84.26%</span>"
      ],
      "text/plain": [
       "<IPython.core.display.Markdown object>"
      ]
     },
     "metadata": {},
     "output_type": "display_data"
    },
    {
     "data": {
      "text/markdown": [
       "<span style=\"font-size:11pt\">Weighted Mean accuracy: 77.39%</span>"
      ],
      "text/plain": [
       "<IPython.core.display.Markdown object>"
      ]
     },
     "metadata": {},
     "output_type": "display_data"
    },
    {
     "data": {
      "text/markdown": [
       "<span style=\"font-size:11pt\">====================================================================================================</span>"
      ],
      "text/plain": [
       "<IPython.core.display.Markdown object>"
      ]
     },
     "metadata": {},
     "output_type": "display_data"
    },
    {
     "data": {
      "text/markdown": [
       "<span style=\"font-size:11pt\">Using classes from Geonames - 403/1383 entities have a class</span>"
      ],
      "text/plain": [
       "<IPython.core.display.Markdown object>"
      ]
     },
     "metadata": {},
     "output_type": "display_data"
    },
    {
     "data": {
      "text/markdown": [
       "<span style=\"font-size:11pt\">Labels (7 classes): <span style=\"color: #0000ff\">spot,building,farm</span>: 176, <span style=\"color: #0000ff\">stream,lake</span>: 74, <span style=\"color: #0000ff\">road,railroad</span>: 16, <span style=\"color: #0000ff\">parks,area</span>: 28, <span style=\"color: #0000ff\">undersea</span>: 27, <span style=\"color: #0000ff\">mountain,hill,rock</span>: 68, <span style=\"color: #0000ff\">forest,heath</span>: 14</span>"
      ],
      "text/plain": [
       "<IPython.core.display.Markdown object>"
      ]
     },
     "metadata": {},
     "output_type": "display_data"
    },
    {
     "data": {
      "text/markdown": [
       "<span style=\"font-size:11pt\">Eval-Settings: metric: <span style=\"color: #0000ff\">f1</span>, type: <span style=\"color: #0000ff\">one-vs-rest</span>, DT-Depth: <span style=\"color: #0000ff\">None</span>, train-test-split:<span style=\"color: #0000ff\"> 5-fold cross-validation </span></span>"
      ],
      "text/plain": [
       "<IPython.core.display.Markdown object>"
      ]
     },
     "metadata": {},
     "output_type": "display_data"
    },
    {
     "data": {
      "text/markdown": [
       "<span style=\"font-size:11pt\">Per-Class-Scores: spot,building,farm: 0.67, stream,lake: 0.39, undersea: 0.00, road,railroad: 0.16, forest,heath: 0.11, parks,area: 0.19, mountain,hill,rock: 0.31</span>"
      ],
      "text/plain": [
       "<IPython.core.display.Markdown object>"
      ]
     },
     "metadata": {},
     "output_type": "display_data"
    },
    {
     "data": {
      "text/markdown": [
       "<span style=\"font-size:11pt\">Unweighted Mean f1: 26.20%</span>"
      ],
      "text/plain": [
       "<IPython.core.display.Markdown object>"
      ]
     },
     "metadata": {},
     "output_type": "display_data"
    },
    {
     "data": {
      "text/markdown": [
       "<span style=\"font-size:11pt\">Weighted Mean f1: 44.05%</span>"
      ],
      "text/plain": [
       "<IPython.core.display.Markdown object>"
      ]
     },
     "metadata": {},
     "output_type": "display_data"
    },
    {
     "data": {
      "text/markdown": [
       "<span style=\"font-size:11pt\">====================================================================================================</span>"
      ],
      "text/plain": [
       "<IPython.core.display.Markdown object>"
      ]
     },
     "metadata": {},
     "output_type": "display_data"
    },
    {
     "data": {
      "text/markdown": [
       "<span style=\"font-size:11pt\">Using classes from Geonames - 403/1383 entities have a class</span>"
      ],
      "text/plain": [
       "<IPython.core.display.Markdown object>"
      ]
     },
     "metadata": {},
     "output_type": "display_data"
    },
    {
     "data": {
      "text/markdown": [
       "<span style=\"font-size:11pt\">Labels (7 classes): <span style=\"color: #0000ff\">spot,building,farm</span>: 176, <span style=\"color: #0000ff\">stream,lake</span>: 74, <span style=\"color: #0000ff\">road,railroad</span>: 16, <span style=\"color: #0000ff\">parks,area</span>: 28, <span style=\"color: #0000ff\">undersea</span>: 27, <span style=\"color: #0000ff\">mountain,hill,rock</span>: 68, <span style=\"color: #0000ff\">forest,heath</span>: 14</span>"
      ],
      "text/plain": [
       "<IPython.core.display.Markdown object>"
      ]
     },
     "metadata": {},
     "output_type": "display_data"
    },
    {
     "data": {
      "text/markdown": [
       "<span style=\"font-size:11pt\">Eval-Settings: metric: <span style=\"color: #0000ff\">accuracy</span>, type: <span style=\"color: #0000ff\">one-vs-rest</span>, DT-Depth: <span style=\"color: #0000ff\">None</span>, train-test-split:<span style=\"color: #0000ff\"> 5-fold cross-validation </span></span>"
      ],
      "text/plain": [
       "<IPython.core.display.Markdown object>"
      ]
     },
     "metadata": {},
     "output_type": "display_data"
    },
    {
     "data": {
      "text/markdown": [
       "<span style=\"font-size:11pt\">Per-Class-Scores: spot,building,farm: 0.69, stream,lake: 0.76, undersea: 0.87, road,railroad: 0.93, forest,heath: 0.95, parks,area: 0.87, mountain,hill,rock: 0.78</span>"
      ],
      "text/plain": [
       "<IPython.core.display.Markdown object>"
      ]
     },
     "metadata": {},
     "output_type": "display_data"
    },
    {
     "data": {
      "text/markdown": [
       "<span style=\"font-size:11pt\">Unweighted Mean accuracy: 83.51%</span>"
      ],
      "text/plain": [
       "<IPython.core.display.Markdown object>"
      ]
     },
     "metadata": {},
     "output_type": "display_data"
    },
    {
     "data": {
      "text/markdown": [
       "<span style=\"font-size:11pt\">Weighted Mean accuracy: 76.23%</span>"
      ],
      "text/plain": [
       "<IPython.core.display.Markdown object>"
      ]
     },
     "metadata": {},
     "output_type": "display_data"
    },
    {
     "data": {
      "text/markdown": [
       "<span style=\"font-size:11pt\">====================================================================================================</span>"
      ],
      "text/plain": [
       "<IPython.core.display.Markdown object>"
      ]
     },
     "metadata": {},
     "output_type": "display_data"
    },
    {
     "data": {
      "text/markdown": [
       "<span style=\"font-size:11pt\">Using classes from Geonames - 403/1383 entities have a class</span>"
      ],
      "text/plain": [
       "<IPython.core.display.Markdown object>"
      ]
     },
     "metadata": {},
     "output_type": "display_data"
    },
    {
     "data": {
      "text/markdown": [
       "<span style=\"font-size:11pt\">Labels (7 classes): <span style=\"color: #0000ff\">spot,building,farm</span>: 176, <span style=\"color: #0000ff\">stream,lake</span>: 74, <span style=\"color: #0000ff\">road,railroad</span>: 16, <span style=\"color: #0000ff\">parks,area</span>: 28, <span style=\"color: #0000ff\">undersea</span>: 27, <span style=\"color: #0000ff\">mountain,hill,rock</span>: 68, <span style=\"color: #0000ff\">forest,heath</span>: 14</span>"
      ],
      "text/plain": [
       "<IPython.core.display.Markdown object>"
      ]
     },
     "metadata": {},
     "output_type": "display_data"
    },
    {
     "data": {
      "text/markdown": [
       "<span style=\"font-size:11pt\">Eval-Settings: metric: <span style=\"color: #0000ff\">f1</span>, type: <span style=\"color: #0000ff\">one-vs-rest</span>, DT-Depth: <span style=\"color: #0000ff\">None</span>, train-test-split:<span style=\"color: #0000ff\"> 5-fold cross-validation </span></span>"
      ],
      "text/plain": [
       "<IPython.core.display.Markdown object>"
      ]
     },
     "metadata": {},
     "output_type": "display_data"
    },
    {
     "data": {
      "text/markdown": [
       "<span style=\"font-size:11pt\">Per-Class-Scores: spot,building,farm: 0.67, stream,lake: 0.34, undersea: 0.03, road,railroad: 0.06, forest,heath: 0.08, parks,area: 0.15, mountain,hill,rock: 0.31</span>"
      ],
      "text/plain": [
       "<IPython.core.display.Markdown object>"
      ]
     },
     "metadata": {},
     "output_type": "display_data"
    },
    {
     "data": {
      "text/markdown": [
       "<span style=\"font-size:11pt\">Unweighted Mean f1: 23.32%</span>"
      ],
      "text/plain": [
       "<IPython.core.display.Markdown object>"
      ]
     },
     "metadata": {},
     "output_type": "display_data"
    },
    {
     "data": {
      "text/markdown": [
       "<span style=\"font-size:11pt\">Weighted Mean f1: 42.39%</span>"
      ],
      "text/plain": [
       "<IPython.core.display.Markdown object>"
      ]
     },
     "metadata": {},
     "output_type": "display_data"
    },
    {
     "data": {
      "text/markdown": [
       "<span style=\"font-size:11pt\">====================================================================================================</span>"
      ],
      "text/plain": [
       "<IPython.core.display.Markdown object>"
      ]
     },
     "metadata": {},
     "output_type": "display_data"
    },
    {
     "data": {
      "text/markdown": [
       "<span style=\"font-size:11pt\">Using classes from Geonames - 403/1383 entities have a class</span>"
      ],
      "text/plain": [
       "<IPython.core.display.Markdown object>"
      ]
     },
     "metadata": {},
     "output_type": "display_data"
    },
    {
     "data": {
      "text/markdown": [
       "<span style=\"font-size:11pt\">Labels (7 classes): <span style=\"color: #0000ff\">spot,building,farm</span>: 176, <span style=\"color: #0000ff\">stream,lake</span>: 74, <span style=\"color: #0000ff\">road,railroad</span>: 16, <span style=\"color: #0000ff\">parks,area</span>: 28, <span style=\"color: #0000ff\">undersea</span>: 27, <span style=\"color: #0000ff\">mountain,hill,rock</span>: 68, <span style=\"color: #0000ff\">forest,heath</span>: 14</span>"
      ],
      "text/plain": [
       "<IPython.core.display.Markdown object>"
      ]
     },
     "metadata": {},
     "output_type": "display_data"
    },
    {
     "data": {
      "text/markdown": [
       "<span style=\"font-size:11pt\">Eval-Settings: metric: <span style=\"color: #0000ff\">accuracy</span>, type: <span style=\"color: #0000ff\">all-at-once</span>, DT-Depth: <span style=\"color: #0000ff\">1</span>, train-test-split:<span style=\"color: #0000ff\"> 5-fold cross-validation </span></span>"
      ],
      "text/plain": [
       "<IPython.core.display.Markdown object>"
      ]
     },
     "metadata": {},
     "output_type": "display_data"
    },
    {
     "name": "stderr",
     "output_type": "stream",
     "text": [
      "derive_conceptualspace/evaluate/shallow_trees.py:123: UserWarning: There are more classes (7) than your decision-tree can possibly classify (2)\n"
     ]
    },
    {
     "data": {
      "text/markdown": [
       "<span style=\"font-size:11pt\">accuracy: 0.13</span>"
      ],
      "text/plain": [
       "<IPython.core.display.Markdown object>"
      ]
     },
     "metadata": {},
     "output_type": "display_data"
    },
    {
     "data": {
      "text/markdown": [
       "<span style=\"font-size:11pt\">Baseline accuracy: 0.44</span>"
      ],
      "text/plain": [
       "<IPython.core.display.Markdown object>"
      ]
     },
     "metadata": {},
     "output_type": "display_data"
    },
    {
     "data": {
      "text/markdown": [
       "<span style=\"font-size:11pt\">Maximally achievable accuracy: 0.62</span>"
      ],
      "text/plain": [
       "<IPython.core.display.Markdown object>"
      ]
     },
     "metadata": {},
     "output_type": "display_data"
    },
    {
     "data": {
      "text/markdown": [
       "<span style=\"font-size:11pt\">====================================================================================================</span>"
      ],
      "text/plain": [
       "<IPython.core.display.Markdown object>"
      ]
     },
     "metadata": {},
     "output_type": "display_data"
    },
    {
     "data": {
      "text/markdown": [
       "<span style=\"font-size:11pt\">Using classes from Geonames - 403/1383 entities have a class</span>"
      ],
      "text/plain": [
       "<IPython.core.display.Markdown object>"
      ]
     },
     "metadata": {},
     "output_type": "display_data"
    },
    {
     "data": {
      "text/markdown": [
       "<span style=\"font-size:11pt\">Labels (7 classes): <span style=\"color: #0000ff\">spot,building,farm</span>: 176, <span style=\"color: #0000ff\">stream,lake</span>: 74, <span style=\"color: #0000ff\">road,railroad</span>: 16, <span style=\"color: #0000ff\">parks,area</span>: 28, <span style=\"color: #0000ff\">undersea</span>: 27, <span style=\"color: #0000ff\">mountain,hill,rock</span>: 68, <span style=\"color: #0000ff\">forest,heath</span>: 14</span>"
      ],
      "text/plain": [
       "<IPython.core.display.Markdown object>"
      ]
     },
     "metadata": {},
     "output_type": "display_data"
    },
    {
     "data": {
      "text/markdown": [
       "<span style=\"font-size:11pt\">Eval-Settings: metric: <span style=\"color: #0000ff\">f1</span>, type: <span style=\"color: #0000ff\">all-at-once</span>, DT-Depth: <span style=\"color: #0000ff\">1</span>, train-test-split:<span style=\"color: #0000ff\"> 5-fold cross-validation </span></span>"
      ],
      "text/plain": [
       "<IPython.core.display.Markdown object>"
      ]
     },
     "metadata": {},
     "output_type": "display_data"
    },
    {
     "name": "stderr",
     "output_type": "stream",
     "text": [
      "derive_conceptualspace/evaluate/shallow_trees.py:123: UserWarning: There are more classes (7) than your decision-tree can possibly classify (2)\n"
     ]
    },
    {
     "data": {
      "text/markdown": [
       "<span style=\"font-size:11pt\">f1: 0.13</span>"
      ],
      "text/plain": [
       "<IPython.core.display.Markdown object>"
      ]
     },
     "metadata": {},
     "output_type": "display_data"
    },
    {
     "data": {
      "text/markdown": [
       "<span style=\"font-size:11pt\">Baseline f1: 0.44</span>"
      ],
      "text/plain": [
       "<IPython.core.display.Markdown object>"
      ]
     },
     "metadata": {},
     "output_type": "display_data"
    },
    {
     "data": {
      "text/markdown": [
       "<span style=\"font-size:11pt\">====================================================================================================</span>"
      ],
      "text/plain": [
       "<IPython.core.display.Markdown object>"
      ]
     },
     "metadata": {},
     "output_type": "display_data"
    },
    {
     "data": {
      "text/markdown": [
       "<span style=\"font-size:11pt\">Using classes from Geonames - 403/1383 entities have a class</span>"
      ],
      "text/plain": [
       "<IPython.core.display.Markdown object>"
      ]
     },
     "metadata": {},
     "output_type": "display_data"
    },
    {
     "data": {
      "text/markdown": [
       "<span style=\"font-size:11pt\">Labels (7 classes): <span style=\"color: #0000ff\">spot,building,farm</span>: 176, <span style=\"color: #0000ff\">stream,lake</span>: 74, <span style=\"color: #0000ff\">road,railroad</span>: 16, <span style=\"color: #0000ff\">parks,area</span>: 28, <span style=\"color: #0000ff\">undersea</span>: 27, <span style=\"color: #0000ff\">mountain,hill,rock</span>: 68, <span style=\"color: #0000ff\">forest,heath</span>: 14</span>"
      ],
      "text/plain": [
       "<IPython.core.display.Markdown object>"
      ]
     },
     "metadata": {},
     "output_type": "display_data"
    },
    {
     "data": {
      "text/markdown": [
       "<span style=\"font-size:11pt\">Eval-Settings: metric: <span style=\"color: #0000ff\">accuracy</span>, type: <span style=\"color: #0000ff\">all-at-once</span>, DT-Depth: <span style=\"color: #0000ff\">1</span>, train-test-split:<span style=\"color: #0000ff\"> 5-fold cross-validation </span></span>"
      ],
      "text/plain": [
       "<IPython.core.display.Markdown object>"
      ]
     },
     "metadata": {},
     "output_type": "display_data"
    },
    {
     "name": "stderr",
     "output_type": "stream",
     "text": [
      "derive_conceptualspace/evaluate/shallow_trees.py:123: UserWarning: There are more classes (7) than your decision-tree can possibly classify (2)\n"
     ]
    },
    {
     "data": {
      "text/markdown": [
       "<span style=\"font-size:11pt\">accuracy: 0.48</span>"
      ],
      "text/plain": [
       "<IPython.core.display.Markdown object>"
      ]
     },
     "metadata": {},
     "output_type": "display_data"
    },
    {
     "data": {
      "text/markdown": [
       "<span style=\"font-size:11pt\">Baseline accuracy: 0.44</span>"
      ],
      "text/plain": [
       "<IPython.core.display.Markdown object>"
      ]
     },
     "metadata": {},
     "output_type": "display_data"
    },
    {
     "data": {
      "text/markdown": [
       "<span style=\"font-size:11pt\">Maximally achievable accuracy: 0.62</span>"
      ],
      "text/plain": [
       "<IPython.core.display.Markdown object>"
      ]
     },
     "metadata": {},
     "output_type": "display_data"
    },
    {
     "data": {
      "text/markdown": [
       "<span style=\"font-size:11pt\">====================================================================================================</span>"
      ],
      "text/plain": [
       "<IPython.core.display.Markdown object>"
      ]
     },
     "metadata": {},
     "output_type": "display_data"
    },
    {
     "data": {
      "text/markdown": [
       "<span style=\"font-size:11pt\">Using classes from Geonames - 403/1383 entities have a class</span>"
      ],
      "text/plain": [
       "<IPython.core.display.Markdown object>"
      ]
     },
     "metadata": {},
     "output_type": "display_data"
    },
    {
     "data": {
      "text/markdown": [
       "<span style=\"font-size:11pt\">Labels (7 classes): <span style=\"color: #0000ff\">spot,building,farm</span>: 176, <span style=\"color: #0000ff\">stream,lake</span>: 74, <span style=\"color: #0000ff\">road,railroad</span>: 16, <span style=\"color: #0000ff\">parks,area</span>: 28, <span style=\"color: #0000ff\">undersea</span>: 27, <span style=\"color: #0000ff\">mountain,hill,rock</span>: 68, <span style=\"color: #0000ff\">forest,heath</span>: 14</span>"
      ],
      "text/plain": [
       "<IPython.core.display.Markdown object>"
      ]
     },
     "metadata": {},
     "output_type": "display_data"
    },
    {
     "data": {
      "text/markdown": [
       "<span style=\"font-size:11pt\">Eval-Settings: metric: <span style=\"color: #0000ff\">f1</span>, type: <span style=\"color: #0000ff\">all-at-once</span>, DT-Depth: <span style=\"color: #0000ff\">1</span>, train-test-split:<span style=\"color: #0000ff\"> 5-fold cross-validation </span></span>"
      ],
      "text/plain": [
       "<IPython.core.display.Markdown object>"
      ]
     },
     "metadata": {},
     "output_type": "display_data"
    },
    {
     "name": "stderr",
     "output_type": "stream",
     "text": [
      "derive_conceptualspace/evaluate/shallow_trees.py:123: UserWarning: There are more classes (7) than your decision-tree can possibly classify (2)\n"
     ]
    },
    {
     "data": {
      "text/markdown": [
       "<span style=\"font-size:11pt\">f1: 0.48</span>"
      ],
      "text/plain": [
       "<IPython.core.display.Markdown object>"
      ]
     },
     "metadata": {},
     "output_type": "display_data"
    },
    {
     "data": {
      "text/markdown": [
       "<span style=\"font-size:11pt\">Baseline f1: 0.44</span>"
      ],
      "text/plain": [
       "<IPython.core.display.Markdown object>"
      ]
     },
     "metadata": {},
     "output_type": "display_data"
    },
    {
     "data": {
      "text/markdown": [
       "<span style=\"font-size:11pt\">====================================================================================================</span>"
      ],
      "text/plain": [
       "<IPython.core.display.Markdown object>"
      ]
     },
     "metadata": {},
     "output_type": "display_data"
    },
    {
     "data": {
      "text/markdown": [
       "<span style=\"font-size:11pt\">Using classes from Geonames - 403/1383 entities have a class</span>"
      ],
      "text/plain": [
       "<IPython.core.display.Markdown object>"
      ]
     },
     "metadata": {},
     "output_type": "display_data"
    },
    {
     "data": {
      "text/markdown": [
       "<span style=\"font-size:11pt\">Labels (7 classes): <span style=\"color: #0000ff\">spot,building,farm</span>: 176, <span style=\"color: #0000ff\">stream,lake</span>: 74, <span style=\"color: #0000ff\">road,railroad</span>: 16, <span style=\"color: #0000ff\">parks,area</span>: 28, <span style=\"color: #0000ff\">undersea</span>: 27, <span style=\"color: #0000ff\">mountain,hill,rock</span>: 68, <span style=\"color: #0000ff\">forest,heath</span>: 14</span>"
      ],
      "text/plain": [
       "<IPython.core.display.Markdown object>"
      ]
     },
     "metadata": {},
     "output_type": "display_data"
    },
    {
     "data": {
      "text/markdown": [
       "<span style=\"font-size:11pt\">Eval-Settings: metric: <span style=\"color: #0000ff\">accuracy</span>, type: <span style=\"color: #0000ff\">all-at-once</span>, DT-Depth: <span style=\"color: #0000ff\">2</span>, train-test-split:<span style=\"color: #0000ff\"> 5-fold cross-validation </span></span>"
      ],
      "text/plain": [
       "<IPython.core.display.Markdown object>"
      ]
     },
     "metadata": {},
     "output_type": "display_data"
    },
    {
     "name": "stderr",
     "output_type": "stream",
     "text": [
      "derive_conceptualspace/evaluate/shallow_trees.py:123: UserWarning: There are more classes (7) than your decision-tree can possibly classify (4)\n"
     ]
    },
    {
     "data": {
      "text/markdown": [
       "<span style=\"font-size:11pt\">accuracy: 0.24</span>"
      ],
      "text/plain": [
       "<IPython.core.display.Markdown object>"
      ]
     },
     "metadata": {},
     "output_type": "display_data"
    },
    {
     "data": {
      "text/markdown": [
       "<span style=\"font-size:11pt\">====================================================================================================</span>"
      ],
      "text/plain": [
       "<IPython.core.display.Markdown object>"
      ]
     },
     "metadata": {},
     "output_type": "display_data"
    },
    {
     "data": {
      "text/markdown": [
       "<span style=\"font-size:11pt\">Using classes from Geonames - 403/1383 entities have a class</span>"
      ],
      "text/plain": [
       "<IPython.core.display.Markdown object>"
      ]
     },
     "metadata": {},
     "output_type": "display_data"
    },
    {
     "data": {
      "text/markdown": [
       "<span style=\"font-size:11pt\">Labels (7 classes): <span style=\"color: #0000ff\">spot,building,farm</span>: 176, <span style=\"color: #0000ff\">stream,lake</span>: 74, <span style=\"color: #0000ff\">road,railroad</span>: 16, <span style=\"color: #0000ff\">parks,area</span>: 28, <span style=\"color: #0000ff\">undersea</span>: 27, <span style=\"color: #0000ff\">mountain,hill,rock</span>: 68, <span style=\"color: #0000ff\">forest,heath</span>: 14</span>"
      ],
      "text/plain": [
       "<IPython.core.display.Markdown object>"
      ]
     },
     "metadata": {},
     "output_type": "display_data"
    },
    {
     "data": {
      "text/markdown": [
       "<span style=\"font-size:11pt\">Eval-Settings: metric: <span style=\"color: #0000ff\">f1</span>, type: <span style=\"color: #0000ff\">all-at-once</span>, DT-Depth: <span style=\"color: #0000ff\">2</span>, train-test-split:<span style=\"color: #0000ff\"> 5-fold cross-validation </span></span>"
      ],
      "text/plain": [
       "<IPython.core.display.Markdown object>"
      ]
     },
     "metadata": {},
     "output_type": "display_data"
    },
    {
     "name": "stderr",
     "output_type": "stream",
     "text": [
      "derive_conceptualspace/evaluate/shallow_trees.py:123: UserWarning: There are more classes (7) than your decision-tree can possibly classify (4)\n"
     ]
    },
    {
     "data": {
      "text/markdown": [
       "<span style=\"font-size:11pt\">f1: 0.24</span>"
      ],
      "text/plain": [
       "<IPython.core.display.Markdown object>"
      ]
     },
     "metadata": {},
     "output_type": "display_data"
    },
    {
     "data": {
      "text/markdown": [
       "<span style=\"font-size:11pt\">====================================================================================================</span>"
      ],
      "text/plain": [
       "<IPython.core.display.Markdown object>"
      ]
     },
     "metadata": {},
     "output_type": "display_data"
    },
    {
     "data": {
      "text/markdown": [
       "<span style=\"font-size:11pt\">Using classes from Geonames - 403/1383 entities have a class</span>"
      ],
      "text/plain": [
       "<IPython.core.display.Markdown object>"
      ]
     },
     "metadata": {},
     "output_type": "display_data"
    },
    {
     "data": {
      "text/markdown": [
       "<span style=\"font-size:11pt\">Labels (7 classes): <span style=\"color: #0000ff\">spot,building,farm</span>: 176, <span style=\"color: #0000ff\">stream,lake</span>: 74, <span style=\"color: #0000ff\">road,railroad</span>: 16, <span style=\"color: #0000ff\">parks,area</span>: 28, <span style=\"color: #0000ff\">undersea</span>: 27, <span style=\"color: #0000ff\">mountain,hill,rock</span>: 68, <span style=\"color: #0000ff\">forest,heath</span>: 14</span>"
      ],
      "text/plain": [
       "<IPython.core.display.Markdown object>"
      ]
     },
     "metadata": {},
     "output_type": "display_data"
    },
    {
     "data": {
      "text/markdown": [
       "<span style=\"font-size:11pt\">Eval-Settings: metric: <span style=\"color: #0000ff\">accuracy</span>, type: <span style=\"color: #0000ff\">all-at-once</span>, DT-Depth: <span style=\"color: #0000ff\">2</span>, train-test-split:<span style=\"color: #0000ff\"> 5-fold cross-validation </span></span>"
      ],
      "text/plain": [
       "<IPython.core.display.Markdown object>"
      ]
     },
     "metadata": {},
     "output_type": "display_data"
    },
    {
     "name": "stderr",
     "output_type": "stream",
     "text": [
      "derive_conceptualspace/evaluate/shallow_trees.py:123: UserWarning: There are more classes (7) than your decision-tree can possibly classify (4)\n"
     ]
    },
    {
     "data": {
      "text/markdown": [
       "<span style=\"font-size:11pt\">accuracy: 0.50</span>"
      ],
      "text/plain": [
       "<IPython.core.display.Markdown object>"
      ]
     },
     "metadata": {},
     "output_type": "display_data"
    },
    {
     "data": {
      "text/markdown": [
       "<span style=\"font-size:11pt\">====================================================================================================</span>"
      ],
      "text/plain": [
       "<IPython.core.display.Markdown object>"
      ]
     },
     "metadata": {},
     "output_type": "display_data"
    },
    {
     "data": {
      "text/markdown": [
       "<span style=\"font-size:11pt\">Using classes from Geonames - 403/1383 entities have a class</span>"
      ],
      "text/plain": [
       "<IPython.core.display.Markdown object>"
      ]
     },
     "metadata": {},
     "output_type": "display_data"
    },
    {
     "data": {
      "text/markdown": [
       "<span style=\"font-size:11pt\">Labels (7 classes): <span style=\"color: #0000ff\">spot,building,farm</span>: 176, <span style=\"color: #0000ff\">stream,lake</span>: 74, <span style=\"color: #0000ff\">road,railroad</span>: 16, <span style=\"color: #0000ff\">parks,area</span>: 28, <span style=\"color: #0000ff\">undersea</span>: 27, <span style=\"color: #0000ff\">mountain,hill,rock</span>: 68, <span style=\"color: #0000ff\">forest,heath</span>: 14</span>"
      ],
      "text/plain": [
       "<IPython.core.display.Markdown object>"
      ]
     },
     "metadata": {},
     "output_type": "display_data"
    },
    {
     "data": {
      "text/markdown": [
       "<span style=\"font-size:11pt\">Eval-Settings: metric: <span style=\"color: #0000ff\">f1</span>, type: <span style=\"color: #0000ff\">all-at-once</span>, DT-Depth: <span style=\"color: #0000ff\">2</span>, train-test-split:<span style=\"color: #0000ff\"> 5-fold cross-validation </span></span>"
      ],
      "text/plain": [
       "<IPython.core.display.Markdown object>"
      ]
     },
     "metadata": {},
     "output_type": "display_data"
    },
    {
     "name": "stderr",
     "output_type": "stream",
     "text": [
      "derive_conceptualspace/evaluate/shallow_trees.py:123: UserWarning: There are more classes (7) than your decision-tree can possibly classify (4)\n"
     ]
    },
    {
     "data": {
      "text/markdown": [
       "<span style=\"font-size:11pt\">f1: 0.50</span>"
      ],
      "text/plain": [
       "<IPython.core.display.Markdown object>"
      ]
     },
     "metadata": {},
     "output_type": "display_data"
    },
    {
     "data": {
      "text/markdown": [
       "<span style=\"font-size:11pt\">====================================================================================================</span>"
      ],
      "text/plain": [
       "<IPython.core.display.Markdown object>"
      ]
     },
     "metadata": {},
     "output_type": "display_data"
    },
    {
     "data": {
      "text/markdown": [
       "<span style=\"font-size:11pt\">Using classes from Geonames - 403/1383 entities have a class</span>"
      ],
      "text/plain": [
       "<IPython.core.display.Markdown object>"
      ]
     },
     "metadata": {},
     "output_type": "display_data"
    },
    {
     "data": {
      "text/markdown": [
       "<span style=\"font-size:11pt\">Labels (7 classes): <span style=\"color: #0000ff\">spot,building,farm</span>: 176, <span style=\"color: #0000ff\">stream,lake</span>: 74, <span style=\"color: #0000ff\">road,railroad</span>: 16, <span style=\"color: #0000ff\">parks,area</span>: 28, <span style=\"color: #0000ff\">undersea</span>: 27, <span style=\"color: #0000ff\">mountain,hill,rock</span>: 68, <span style=\"color: #0000ff\">forest,heath</span>: 14</span>"
      ],
      "text/plain": [
       "<IPython.core.display.Markdown object>"
      ]
     },
     "metadata": {},
     "output_type": "display_data"
    },
    {
     "data": {
      "text/markdown": [
       "<span style=\"font-size:11pt\">Eval-Settings: metric: <span style=\"color: #0000ff\">accuracy</span>, type: <span style=\"color: #0000ff\">all-at-once</span>, DT-Depth: <span style=\"color: #0000ff\">3</span>, train-test-split:<span style=\"color: #0000ff\"> 5-fold cross-validation </span></span>"
      ],
      "text/plain": [
       "<IPython.core.display.Markdown object>"
      ]
     },
     "metadata": {},
     "output_type": "display_data"
    },
    {
     "data": {
      "text/markdown": [
       "<span style=\"font-size:11pt\">accuracy: 0.26</span>"
      ],
      "text/plain": [
       "<IPython.core.display.Markdown object>"
      ]
     },
     "metadata": {},
     "output_type": "display_data"
    },
    {
     "data": {
      "text/markdown": [
       "<span style=\"font-size:11pt\">====================================================================================================</span>"
      ],
      "text/plain": [
       "<IPython.core.display.Markdown object>"
      ]
     },
     "metadata": {},
     "output_type": "display_data"
    },
    {
     "data": {
      "text/markdown": [
       "<span style=\"font-size:11pt\">Using classes from Geonames - 403/1383 entities have a class</span>"
      ],
      "text/plain": [
       "<IPython.core.display.Markdown object>"
      ]
     },
     "metadata": {},
     "output_type": "display_data"
    },
    {
     "data": {
      "text/markdown": [
       "<span style=\"font-size:11pt\">Labels (7 classes): <span style=\"color: #0000ff\">spot,building,farm</span>: 176, <span style=\"color: #0000ff\">stream,lake</span>: 74, <span style=\"color: #0000ff\">road,railroad</span>: 16, <span style=\"color: #0000ff\">parks,area</span>: 28, <span style=\"color: #0000ff\">undersea</span>: 27, <span style=\"color: #0000ff\">mountain,hill,rock</span>: 68, <span style=\"color: #0000ff\">forest,heath</span>: 14</span>"
      ],
      "text/plain": [
       "<IPython.core.display.Markdown object>"
      ]
     },
     "metadata": {},
     "output_type": "display_data"
    },
    {
     "data": {
      "text/markdown": [
       "<span style=\"font-size:11pt\">Eval-Settings: metric: <span style=\"color: #0000ff\">f1</span>, type: <span style=\"color: #0000ff\">all-at-once</span>, DT-Depth: <span style=\"color: #0000ff\">3</span>, train-test-split:<span style=\"color: #0000ff\"> 5-fold cross-validation </span></span>"
      ],
      "text/plain": [
       "<IPython.core.display.Markdown object>"
      ]
     },
     "metadata": {},
     "output_type": "display_data"
    },
    {
     "data": {
      "text/markdown": [
       "<span style=\"font-size:11pt\">f1: 0.26</span>"
      ],
      "text/plain": [
       "<IPython.core.display.Markdown object>"
      ]
     },
     "metadata": {},
     "output_type": "display_data"
    },
    {
     "data": {
      "text/markdown": [
       "<span style=\"font-size:11pt\">====================================================================================================</span>"
      ],
      "text/plain": [
       "<IPython.core.display.Markdown object>"
      ]
     },
     "metadata": {},
     "output_type": "display_data"
    },
    {
     "data": {
      "text/markdown": [
       "<span style=\"font-size:11pt\">Using classes from Geonames - 403/1383 entities have a class</span>"
      ],
      "text/plain": [
       "<IPython.core.display.Markdown object>"
      ]
     },
     "metadata": {},
     "output_type": "display_data"
    },
    {
     "data": {
      "text/markdown": [
       "<span style=\"font-size:11pt\">Labels (7 classes): <span style=\"color: #0000ff\">spot,building,farm</span>: 176, <span style=\"color: #0000ff\">stream,lake</span>: 74, <span style=\"color: #0000ff\">road,railroad</span>: 16, <span style=\"color: #0000ff\">parks,area</span>: 28, <span style=\"color: #0000ff\">undersea</span>: 27, <span style=\"color: #0000ff\">mountain,hill,rock</span>: 68, <span style=\"color: #0000ff\">forest,heath</span>: 14</span>"
      ],
      "text/plain": [
       "<IPython.core.display.Markdown object>"
      ]
     },
     "metadata": {},
     "output_type": "display_data"
    },
    {
     "data": {
      "text/markdown": [
       "<span style=\"font-size:11pt\">Eval-Settings: metric: <span style=\"color: #0000ff\">accuracy</span>, type: <span style=\"color: #0000ff\">all-at-once</span>, DT-Depth: <span style=\"color: #0000ff\">3</span>, train-test-split:<span style=\"color: #0000ff\"> 5-fold cross-validation </span></span>"
      ],
      "text/plain": [
       "<IPython.core.display.Markdown object>"
      ]
     },
     "metadata": {},
     "output_type": "display_data"
    },
    {
     "data": {
      "text/markdown": [
       "<span style=\"font-size:11pt\">accuracy: 0.50</span>"
      ],
      "text/plain": [
       "<IPython.core.display.Markdown object>"
      ]
     },
     "metadata": {},
     "output_type": "display_data"
    },
    {
     "data": {
      "text/markdown": [
       "<span style=\"font-size:11pt\">====================================================================================================</span>"
      ],
      "text/plain": [
       "<IPython.core.display.Markdown object>"
      ]
     },
     "metadata": {},
     "output_type": "display_data"
    },
    {
     "data": {
      "text/markdown": [
       "<span style=\"font-size:11pt\">Using classes from Geonames - 403/1383 entities have a class</span>"
      ],
      "text/plain": [
       "<IPython.core.display.Markdown object>"
      ]
     },
     "metadata": {},
     "output_type": "display_data"
    },
    {
     "data": {
      "text/markdown": [
       "<span style=\"font-size:11pt\">Labels (7 classes): <span style=\"color: #0000ff\">spot,building,farm</span>: 176, <span style=\"color: #0000ff\">stream,lake</span>: 74, <span style=\"color: #0000ff\">road,railroad</span>: 16, <span style=\"color: #0000ff\">parks,area</span>: 28, <span style=\"color: #0000ff\">undersea</span>: 27, <span style=\"color: #0000ff\">mountain,hill,rock</span>: 68, <span style=\"color: #0000ff\">forest,heath</span>: 14</span>"
      ],
      "text/plain": [
       "<IPython.core.display.Markdown object>"
      ]
     },
     "metadata": {},
     "output_type": "display_data"
    },
    {
     "data": {
      "text/markdown": [
       "<span style=\"font-size:11pt\">Eval-Settings: metric: <span style=\"color: #0000ff\">f1</span>, type: <span style=\"color: #0000ff\">all-at-once</span>, DT-Depth: <span style=\"color: #0000ff\">3</span>, train-test-split:<span style=\"color: #0000ff\"> 5-fold cross-validation </span></span>"
      ],
      "text/plain": [
       "<IPython.core.display.Markdown object>"
      ]
     },
     "metadata": {},
     "output_type": "display_data"
    },
    {
     "data": {
      "text/markdown": [
       "<span style=\"font-size:11pt\">f1: 0.50</span>"
      ],
      "text/plain": [
       "<IPython.core.display.Markdown object>"
      ]
     },
     "metadata": {},
     "output_type": "display_data"
    },
    {
     "data": {
      "text/markdown": [
       "<span style=\"font-size:11pt\">====================================================================================================</span>"
      ],
      "text/plain": [
       "<IPython.core.display.Markdown object>"
      ]
     },
     "metadata": {},
     "output_type": "display_data"
    },
    {
     "data": {
      "text/markdown": [
       "<span style=\"font-size:11pt\">Using classes from Geonames - 403/1383 entities have a class</span>"
      ],
      "text/plain": [
       "<IPython.core.display.Markdown object>"
      ]
     },
     "metadata": {},
     "output_type": "display_data"
    },
    {
     "data": {
      "text/markdown": [
       "<span style=\"font-size:11pt\">Labels (7 classes): <span style=\"color: #0000ff\">spot,building,farm</span>: 176, <span style=\"color: #0000ff\">stream,lake</span>: 74, <span style=\"color: #0000ff\">road,railroad</span>: 16, <span style=\"color: #0000ff\">parks,area</span>: 28, <span style=\"color: #0000ff\">undersea</span>: 27, <span style=\"color: #0000ff\">mountain,hill,rock</span>: 68, <span style=\"color: #0000ff\">forest,heath</span>: 14</span>"
      ],
      "text/plain": [
       "<IPython.core.display.Markdown object>"
      ]
     },
     "metadata": {},
     "output_type": "display_data"
    },
    {
     "data": {
      "text/markdown": [
       "<span style=\"font-size:11pt\">Eval-Settings: metric: <span style=\"color: #0000ff\">accuracy</span>, type: <span style=\"color: #0000ff\">all-at-once</span>, DT-Depth: <span style=\"color: #0000ff\">None</span>, train-test-split:<span style=\"color: #0000ff\"> 5-fold cross-validation </span></span>"
      ],
      "text/plain": [
       "<IPython.core.display.Markdown object>"
      ]
     },
     "metadata": {},
     "output_type": "display_data"
    },
    {
     "data": {
      "text/markdown": [
       "<span style=\"font-size:11pt\">accuracy: 0.39</span>"
      ],
      "text/plain": [
       "<IPython.core.display.Markdown object>"
      ]
     },
     "metadata": {},
     "output_type": "display_data"
    },
    {
     "data": {
      "text/markdown": [
       "<span style=\"font-size:11pt\">====================================================================================================</span>"
      ],
      "text/plain": [
       "<IPython.core.display.Markdown object>"
      ]
     },
     "metadata": {},
     "output_type": "display_data"
    },
    {
     "data": {
      "text/markdown": [
       "<span style=\"font-size:11pt\">Using classes from Geonames - 403/1383 entities have a class</span>"
      ],
      "text/plain": [
       "<IPython.core.display.Markdown object>"
      ]
     },
     "metadata": {},
     "output_type": "display_data"
    },
    {
     "data": {
      "text/markdown": [
       "<span style=\"font-size:11pt\">Labels (7 classes): <span style=\"color: #0000ff\">spot,building,farm</span>: 176, <span style=\"color: #0000ff\">stream,lake</span>: 74, <span style=\"color: #0000ff\">road,railroad</span>: 16, <span style=\"color: #0000ff\">parks,area</span>: 28, <span style=\"color: #0000ff\">undersea</span>: 27, <span style=\"color: #0000ff\">mountain,hill,rock</span>: 68, <span style=\"color: #0000ff\">forest,heath</span>: 14</span>"
      ],
      "text/plain": [
       "<IPython.core.display.Markdown object>"
      ]
     },
     "metadata": {},
     "output_type": "display_data"
    },
    {
     "data": {
      "text/markdown": [
       "<span style=\"font-size:11pt\">Eval-Settings: metric: <span style=\"color: #0000ff\">f1</span>, type: <span style=\"color: #0000ff\">all-at-once</span>, DT-Depth: <span style=\"color: #0000ff\">None</span>, train-test-split:<span style=\"color: #0000ff\"> 5-fold cross-validation </span></span>"
      ],
      "text/plain": [
       "<IPython.core.display.Markdown object>"
      ]
     },
     "metadata": {},
     "output_type": "display_data"
    },
    {
     "data": {
      "text/markdown": [
       "<span style=\"font-size:11pt\">f1: 0.39</span>"
      ],
      "text/plain": [
       "<IPython.core.display.Markdown object>"
      ]
     },
     "metadata": {},
     "output_type": "display_data"
    },
    {
     "data": {
      "text/markdown": [
       "<span style=\"font-size:11pt\">====================================================================================================</span>"
      ],
      "text/plain": [
       "<IPython.core.display.Markdown object>"
      ]
     },
     "metadata": {},
     "output_type": "display_data"
    },
    {
     "data": {
      "text/markdown": [
       "<span style=\"font-size:11pt\">Using classes from Geonames - 403/1383 entities have a class</span>"
      ],
      "text/plain": [
       "<IPython.core.display.Markdown object>"
      ]
     },
     "metadata": {},
     "output_type": "display_data"
    },
    {
     "data": {
      "text/markdown": [
       "<span style=\"font-size:11pt\">Labels (7 classes): <span style=\"color: #0000ff\">spot,building,farm</span>: 176, <span style=\"color: #0000ff\">stream,lake</span>: 74, <span style=\"color: #0000ff\">road,railroad</span>: 16, <span style=\"color: #0000ff\">parks,area</span>: 28, <span style=\"color: #0000ff\">undersea</span>: 27, <span style=\"color: #0000ff\">mountain,hill,rock</span>: 68, <span style=\"color: #0000ff\">forest,heath</span>: 14</span>"
      ],
      "text/plain": [
       "<IPython.core.display.Markdown object>"
      ]
     },
     "metadata": {},
     "output_type": "display_data"
    },
    {
     "data": {
      "text/markdown": [
       "<span style=\"font-size:11pt\">Eval-Settings: metric: <span style=\"color: #0000ff\">accuracy</span>, type: <span style=\"color: #0000ff\">all-at-once</span>, DT-Depth: <span style=\"color: #0000ff\">None</span>, train-test-split:<span style=\"color: #0000ff\"> 5-fold cross-validation </span></span>"
      ],
      "text/plain": [
       "<IPython.core.display.Markdown object>"
      ]
     },
     "metadata": {},
     "output_type": "display_data"
    },
    {
     "data": {
      "text/markdown": [
       "<span style=\"font-size:11pt\">accuracy: 0.39</span>"
      ],
      "text/plain": [
       "<IPython.core.display.Markdown object>"
      ]
     },
     "metadata": {},
     "output_type": "display_data"
    },
    {
     "data": {
      "text/markdown": [
       "<span style=\"font-size:11pt\">====================================================================================================</span>"
      ],
      "text/plain": [
       "<IPython.core.display.Markdown object>"
      ]
     },
     "metadata": {},
     "output_type": "display_data"
    },
    {
     "data": {
      "text/markdown": [
       "<span style=\"font-size:11pt\">Using classes from Geonames - 403/1383 entities have a class</span>"
      ],
      "text/plain": [
       "<IPython.core.display.Markdown object>"
      ]
     },
     "metadata": {},
     "output_type": "display_data"
    },
    {
     "data": {
      "text/markdown": [
       "<span style=\"font-size:11pt\">Labels (7 classes): <span style=\"color: #0000ff\">spot,building,farm</span>: 176, <span style=\"color: #0000ff\">stream,lake</span>: 74, <span style=\"color: #0000ff\">road,railroad</span>: 16, <span style=\"color: #0000ff\">parks,area</span>: 28, <span style=\"color: #0000ff\">undersea</span>: 27, <span style=\"color: #0000ff\">mountain,hill,rock</span>: 68, <span style=\"color: #0000ff\">forest,heath</span>: 14</span>"
      ],
      "text/plain": [
       "<IPython.core.display.Markdown object>"
      ]
     },
     "metadata": {},
     "output_type": "display_data"
    },
    {
     "data": {
      "text/markdown": [
       "<span style=\"font-size:11pt\">Eval-Settings: metric: <span style=\"color: #0000ff\">f1</span>, type: <span style=\"color: #0000ff\">all-at-once</span>, DT-Depth: <span style=\"color: #0000ff\">None</span>, train-test-split:<span style=\"color: #0000ff\"> 5-fold cross-validation </span></span>"
      ],
      "text/plain": [
       "<IPython.core.display.Markdown object>"
      ]
     },
     "metadata": {},
     "output_type": "display_data"
    },
    {
     "data": {
      "text/markdown": [
       "<span style=\"font-size:11pt\">f1: 0.38</span>"
      ],
      "text/plain": [
       "<IPython.core.display.Markdown object>"
      ]
     },
     "metadata": {},
     "output_type": "display_data"
    },
    {
     "data": {
      "text/markdown": [
       "<span style=\"font-size:11pt\">classes    Foursquare                                                                 ... Geonames                                                               <br>test%/Xval     0.3300                                                                 ...   5.0000                                                               <br>1vsRest          True                                                   False         ...     True         False                                                 <br>Tree-Depth     1.0000        2.0000        3.0000           NaN        1.0000         ...      NaN        1.0000        2.0000        3.0000           NaN       <br>balanced         True  False   True  False   True  False   True  False   True  False  ...     True  False   True  False   True  False   True  False   True  False<br>accuracy       0.7223 0.8725 0.8019 0.8777 0.8071 0.8955 0.8967 0.8736 0.0385 0.3923  ...   0.7739 0.7623 0.1344 0.4840 0.2383 0.4964 0.2556 0.4962 0.3920 0.3896<br>f1             0.4810 0.3268 0.5351 0.4486 0.5361 0.4347 0.5159 0.5160 0.1308 0.4000  ...   0.4405 0.4239 0.1344 0.4840 0.2383 0.4964 0.2556 0.4962 0.3944 0.3771<br><br>[2 rows x 128 columns]</span>"
      ],
      "text/plain": [
       "<IPython.core.display.Markdown object>"
      ]
     },
     "metadata": {},
     "output_type": "display_data"
    }
   ],
   "source": [
    "res = classify_shallowtree_multi(clusters, embedding, descriptions, ctx.obj[\"dataset_class\"], verbose=False)"
   ]
  },
  {
   "cell_type": "code",
   "execution_count": 55,
   "id": "0aac2ae6-1d53-458c-b20b-603c81fdceac",
   "metadata": {},
   "outputs": [
    {
     "data": {
      "text/markdown": [
       "## Foursquare"
      ],
      "text/plain": [
       "<IPython.core.display.Markdown object>"
      ]
     },
     "metadata": {},
     "output_type": "display_data"
    },
    {
     "data": {
      "text/html": [
       "<style type=\"text/css\">\n",
       "#T_12556 th {\n",
       "  vertical-align: top;\n",
       "  text-align: left;\n",
       "}\n",
       "#T_12556_row1_col0, #T_12556_row1_col3, #T_12556_row3_col1, #T_12556_row3_col2 {\n",
       "  background-color: lightgreen;\n",
       "}\n",
       "</style>\n",
       "<table id=\"T_12556\">\n",
       "  <thead>\n",
       "    <tr>\n",
       "      <th class=\"blank\" >&nbsp;</th>\n",
       "      <th class=\"index_name level0\" >Tree-Depth</th>\n",
       "      <th id=\"T_12556_level0_col0\" class=\"col_heading level0 col0\" >-</th>\n",
       "      <th id=\"T_12556_level0_col1\" class=\"col_heading level0 col1\" >1</th>\n",
       "      <th id=\"T_12556_level0_col2\" class=\"col_heading level0 col2\" >2</th>\n",
       "      <th id=\"T_12556_level0_col3\" class=\"col_heading level0 col3\" >3</th>\n",
       "    </tr>\n",
       "    <tr>\n",
       "      <th class=\"index_name level0\" >1vsRest</th>\n",
       "      <th class=\"index_name level1\" >balanced</th>\n",
       "      <th class=\"blank col0\" >&nbsp;</th>\n",
       "      <th class=\"blank col1\" >&nbsp;</th>\n",
       "      <th class=\"blank col2\" >&nbsp;</th>\n",
       "      <th class=\"blank col3\" >&nbsp;</th>\n",
       "    </tr>\n",
       "  </thead>\n",
       "  <tbody>\n",
       "    <tr>\n",
       "      <th id=\"T_12556_level0_row0\" class=\"row_heading level0 row0\" rowspan=\"2\">0</th>\n",
       "      <th id=\"T_12556_level1_row0\" class=\"row_heading level1 row0\" >0</th>\n",
       "      <td id=\"T_12556_row0_col0\" class=\"data row0 col0\" >0.506</td>\n",
       "      <td id=\"T_12556_row0_col1\" class=\"data row0 col1\" >0.330</td>\n",
       "      <td id=\"T_12556_row0_col2\" class=\"data row0 col2\" >0.417</td>\n",
       "      <td id=\"T_12556_row0_col3\" class=\"data row0 col3\" >0.455</td>\n",
       "    </tr>\n",
       "    <tr>\n",
       "      <th id=\"T_12556_level1_row1\" class=\"row_heading level1 row1\" >1</th>\n",
       "      <td id=\"T_12556_row1_col0\" class=\"data row1 col0\" >0.550</td>\n",
       "      <td id=\"T_12556_row1_col1\" class=\"data row1 col1\" >0.113</td>\n",
       "      <td id=\"T_12556_row1_col2\" class=\"data row1 col2\" >0.294</td>\n",
       "      <td id=\"T_12556_row1_col3\" class=\"data row1 col3\" >0.499</td>\n",
       "    </tr>\n",
       "    <tr>\n",
       "      <th id=\"T_12556_level0_row2\" class=\"row_heading level0 row2\" rowspan=\"2\">1</th>\n",
       "      <th id=\"T_12556_level1_row2\" class=\"row_heading level1 row2\" >0</th>\n",
       "      <td id=\"T_12556_row2_col0\" class=\"data row2 col0\" >0.511</td>\n",
       "      <td id=\"T_12556_row2_col1\" class=\"data row2 col1\" >0.319</td>\n",
       "      <td id=\"T_12556_row2_col2\" class=\"data row2 col2\" >0.403</td>\n",
       "      <td id=\"T_12556_row2_col3\" class=\"data row2 col3\" >0.417</td>\n",
       "    </tr>\n",
       "    <tr>\n",
       "      <th id=\"T_12556_level1_row3\" class=\"row_heading level1 row3\" >1</th>\n",
       "      <td id=\"T_12556_row3_col0\" class=\"data row3 col0\" >0.505</td>\n",
       "      <td id=\"T_12556_row3_col1\" class=\"data row3 col1\" >0.451</td>\n",
       "      <td id=\"T_12556_row3_col2\" class=\"data row3 col2\" >0.521</td>\n",
       "      <td id=\"T_12556_row3_col3\" class=\"data row3 col3\" >0.498</td>\n",
       "    </tr>\n",
       "  </tbody>\n",
       "</table>\n"
      ],
      "text/plain": [
       "<pandas.io.formats.style.Styler at 0x7ff35de5aaa0>"
      ]
     },
     "metadata": {},
     "output_type": "display_data"
    },
    {
     "data": {
      "text/markdown": [
       "## Geonames"
      ],
      "text/plain": [
       "<IPython.core.display.Markdown object>"
      ]
     },
     "metadata": {},
     "output_type": "display_data"
    },
    {
     "data": {
      "text/html": [
       "<style type=\"text/css\">\n",
       "#T_bb4b6 th {\n",
       "  vertical-align: top;\n",
       "  text-align: left;\n",
       "}\n",
       "#T_bb4b6_row0_col1, #T_bb4b6_row0_col2, #T_bb4b6_row3_col0, #T_bb4b6_row3_col3 {\n",
       "  background-color: lightgreen;\n",
       "}\n",
       "</style>\n",
       "<table id=\"T_bb4b6\">\n",
       "  <thead>\n",
       "    <tr>\n",
       "      <th class=\"blank\" >&nbsp;</th>\n",
       "      <th class=\"index_name level0\" >Tree-Depth</th>\n",
       "      <th id=\"T_bb4b6_level0_col0\" class=\"col_heading level0 col0\" >-</th>\n",
       "      <th id=\"T_bb4b6_level0_col1\" class=\"col_heading level0 col1\" >1</th>\n",
       "      <th id=\"T_bb4b6_level0_col2\" class=\"col_heading level0 col2\" >2</th>\n",
       "      <th id=\"T_bb4b6_level0_col3\" class=\"col_heading level0 col3\" >3</th>\n",
       "    </tr>\n",
       "    <tr>\n",
       "      <th class=\"index_name level0\" >1vsRest</th>\n",
       "      <th class=\"index_name level1\" >balanced</th>\n",
       "      <th class=\"blank col0\" >&nbsp;</th>\n",
       "      <th class=\"blank col1\" >&nbsp;</th>\n",
       "      <th class=\"blank col2\" >&nbsp;</th>\n",
       "      <th class=\"blank col3\" >&nbsp;</th>\n",
       "    </tr>\n",
       "  </thead>\n",
       "  <tbody>\n",
       "    <tr>\n",
       "      <th id=\"T_bb4b6_level0_row0\" class=\"row_heading level0 row0\" rowspan=\"2\">0</th>\n",
       "      <th id=\"T_bb4b6_level1_row0\" class=\"row_heading level1 row0\" >0</th>\n",
       "      <td id=\"T_bb4b6_row0_col0\" class=\"data row0 col0\" >0.377</td>\n",
       "      <td id=\"T_bb4b6_row0_col1\" class=\"data row0 col1\" >0.484</td>\n",
       "      <td id=\"T_bb4b6_row0_col2\" class=\"data row0 col2\" >0.496</td>\n",
       "      <td id=\"T_bb4b6_row0_col3\" class=\"data row0 col3\" >0.496</td>\n",
       "    </tr>\n",
       "    <tr>\n",
       "      <th id=\"T_bb4b6_level1_row1\" class=\"row_heading level1 row1\" >1</th>\n",
       "      <td id=\"T_bb4b6_row1_col0\" class=\"data row1 col0\" >0.394</td>\n",
       "      <td id=\"T_bb4b6_row1_col1\" class=\"data row1 col1\" >0.134</td>\n",
       "      <td id=\"T_bb4b6_row1_col2\" class=\"data row1 col2\" >0.238</td>\n",
       "      <td id=\"T_bb4b6_row1_col3\" class=\"data row1 col3\" >0.256</td>\n",
       "    </tr>\n",
       "    <tr>\n",
       "      <th id=\"T_bb4b6_level0_row2\" class=\"row_heading level0 row2\" rowspan=\"2\">1</th>\n",
       "      <th id=\"T_bb4b6_level1_row2\" class=\"row_heading level1 row2\" >0</th>\n",
       "      <td id=\"T_bb4b6_row2_col0\" class=\"data row2 col0\" >0.424</td>\n",
       "      <td id=\"T_bb4b6_row2_col1\" class=\"data row2 col1\" >0.320</td>\n",
       "      <td id=\"T_bb4b6_row2_col2\" class=\"data row2 col2\" >0.332</td>\n",
       "      <td id=\"T_bb4b6_row2_col3\" class=\"data row2 col3\" >0.366</td>\n",
       "    </tr>\n",
       "    <tr>\n",
       "      <th id=\"T_bb4b6_level1_row3\" class=\"row_heading level1 row3\" >1</th>\n",
       "      <td id=\"T_bb4b6_row3_col0\" class=\"data row3 col0\" >0.441</td>\n",
       "      <td id=\"T_bb4b6_row3_col1\" class=\"data row3 col1\" >0.482</td>\n",
       "      <td id=\"T_bb4b6_row3_col2\" class=\"data row3 col2\" >0.489</td>\n",
       "      <td id=\"T_bb4b6_row3_col3\" class=\"data row3 col3\" >0.513</td>\n",
       "    </tr>\n",
       "  </tbody>\n",
       "</table>\n"
      ],
      "text/plain": [
       "<pandas.io.formats.style.Styler at 0x7ff35de5b640>"
      ]
     },
     "metadata": {},
     "output_type": "display_data"
    }
   ],
   "source": [
    "SHOW_CROSSVAL_NUM = 5\n",
    "SHOW_METRIC = \"f1\"\n",
    "\n",
    "styles = [{'selector': 'th', 'props': [('vertical-align','top'),('text-align','left')]}] #('border-style', 'solid')  #see https://stackoverflow.com/a/55904239/5122790\n",
    "styler = lambda df: df.style.apply(highlight_nonzero_max, axis=0).format('{:.3f}'.format, na_rep=\"-\").set_table_styles(styles)\n",
    "    \n",
    "for taxonomy in set(res.columns.get_level_values(0)):\n",
    "    display(Markdown(f\"## {taxonomy}\"))\n",
    "    df = res.T.xs(taxonomy).xs(SHOW_CROSSVAL_NUM)[SHOW_METRIC].unstack(level=[1])\n",
    "    df.columns = pd.Series(df.columns.fillna(0).astype(int).astype(str)).replace(\"0\", \"-\")\n",
    "    display(styler(df))\n",
    "    pyperclip.copy(df_to_latex(df, styler, rotate=False, caption=f\"This algorithm on {taxonomy}\"))"
   ]
  },
  {
   "cell_type": "code",
   "execution_count": null,
   "id": "e306d3ca-8de1-4757-9956-bf96182da2ed",
   "metadata": {},
   "outputs": [],
   "source": []
  }
 ],
 "metadata": {
  "kernelspec": {
   "display_name": "Python 3 (ipykernel)",
   "language": "python",
   "name": "python3"
  },
  "language_info": {
   "codemirror_mode": {
    "name": "ipython",
    "version": 3
   },
   "file_extension": ".py",
   "mimetype": "text/x-python",
   "name": "python",
   "nbconvert_exporter": "python",
   "pygments_lexer": "ipython3",
   "version": "3.10.0"
  },
  "widgets": {
   "application/vnd.jupyter.widget-state+json": {
    "state": {
     "011f696d32ae48468362ae52e7fa291f": {
      "model_module": "@jupyter-widgets/base",
      "model_module_version": "1.2.0",
      "model_name": "LayoutModel",
      "state": {}
     },
     "1a4af1afdcc1416c98d19e94ad791f2e": {
      "model_module": "@jupyter-widgets/base",
      "model_module_version": "1.2.0",
      "model_name": "LayoutModel",
      "state": {}
     },
     "3f8916ab007c4a87946471f5bb76133c": {
      "model_module": "@jupyter-widgets/controls",
      "model_module_version": "1.5.0",
      "model_name": "DescriptionStyleModel",
      "state": {
       "description_width": ""
      }
     },
     "422808a8a4ad4012a80191e57d9d7d33": {
      "model_module": "@jupyter-widgets/base",
      "model_module_version": "1.2.0",
      "model_name": "LayoutModel",
      "state": {}
     },
     "44998cd60203432191850ed7f51d3096": {
      "model_module": "@jupyter-widgets/controls",
      "model_module_version": "1.5.0",
      "model_name": "HTMLModel",
      "state": {
       "layout": "IPY_MODEL_422808a8a4ad4012a80191e57d9d7d33",
       "style": "IPY_MODEL_3f8916ab007c4a87946471f5bb76133c",
       "value": " 43/43 [02:22&lt;00:00,  2.93s/it]"
      }
     },
     "4d0452ffa0834a31a131bbe9f55afe8e": {
      "model_module": "@jupyter-widgets/controls",
      "model_module_version": "1.5.0",
      "model_name": "DescriptionStyleModel",
      "state": {
       "description_width": ""
      }
     },
     "7085ca2679d94d638509c33b412abd8c": {
      "model_module": "@jupyter-widgets/controls",
      "model_module_version": "1.5.0",
      "model_name": "FloatProgressModel",
      "state": {
       "bar_style": "success",
       "layout": "IPY_MODEL_bf8e57a517264db2bfc28ca684f4211a",
       "max": 43,
       "style": "IPY_MODEL_9df24972b8d14bbabf6cab3818332155",
       "value": 43
      }
     },
     "7d7ab4133a474f0d8493525126c92d74": {
      "model_module": "@jupyter-widgets/controls",
      "model_module_version": "1.5.0",
      "model_name": "HBoxModel",
      "state": {
       "children": [
        "IPY_MODEL_820dcf814d1146548e031a3f8add880f",
        "IPY_MODEL_7085ca2679d94d638509c33b412abd8c",
        "IPY_MODEL_44998cd60203432191850ed7f51d3096"
       ],
       "layout": "IPY_MODEL_011f696d32ae48468362ae52e7fa291f"
      }
     },
     "820dcf814d1146548e031a3f8add880f": {
      "model_module": "@jupyter-widgets/controls",
      "model_module_version": "1.5.0",
      "model_name": "HTMLModel",
      "state": {
       "layout": "IPY_MODEL_1a4af1afdcc1416c98d19e94ad791f2e",
       "style": "IPY_MODEL_4d0452ffa0834a31a131bbe9f55afe8e",
       "value": "Getting Best-Performing Config [5 procs]: 100%"
      }
     },
     "9df24972b8d14bbabf6cab3818332155": {
      "model_module": "@jupyter-widgets/controls",
      "model_module_version": "1.5.0",
      "model_name": "ProgressStyleModel",
      "state": {
       "description_width": ""
      }
     },
     "bf8e57a517264db2bfc28ca684f4211a": {
      "model_module": "@jupyter-widgets/base",
      "model_module_version": "1.2.0",
      "model_name": "LayoutModel",
      "state": {}
     }
    },
    "version_major": 2,
    "version_minor": 0
   }
  }
 },
 "nbformat": 4,
 "nbformat_minor": 5
}
