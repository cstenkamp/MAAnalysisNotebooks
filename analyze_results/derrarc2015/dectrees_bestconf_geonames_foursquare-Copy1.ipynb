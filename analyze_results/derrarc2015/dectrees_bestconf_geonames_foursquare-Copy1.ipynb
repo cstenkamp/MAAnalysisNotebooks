{
 "cells": [
  {
   "cell_type": "code",
   "execution_count": 1,
   "id": "a93fad98-f19f-4395-9fa0-3504c7a22330",
   "metadata": {},
   "outputs": [
    {
     "name": "stderr",
     "output_type": "stream",
     "text": [
      "2022-04-03 11:12:52.437043: W tensorflow/stream_executor/platform/default/dso_loader.cc:64] Could not load dynamic library 'libcudart.so.11.0'; dlerror: libcudart.so.11.0: cannot open shared object file: No such file or directory; LD_LIBRARY_PATH: /home/chris/Documents/JOBS/Uhrig-Gesture-Recog/skelshop_deps/openpose_cpu/build/src/openpose/\n",
      "2022-04-03 11:12:52.437080: I tensorflow/stream_executor/cuda/cudart_stub.cc:29] Ignore above cudart dlerror if you do not have a GPU set up on your machine.\n"
     ]
    }
   ],
   "source": [
    "import pyperclip\n",
    "\n",
    "from misc_util.logutils import setup_logging\n",
    "from misc_util.pretty_print import Markdown, display\n",
    "\n",
    "from derive_conceptualspace.pipeline import SnakeContext, load_envfiles\n",
    "from derive_conceptualspace.util.result_analysis_tools import getfiles_allconfigs, highlight_nonzero_max, get_best_conf, df_to_latex\n",
    "from derive_conceptualspace.cli.args_from_filename import get_filename, print_envvars\n",
    "from derive_conceptualspace.evaluate.shallow_trees import classify_shallowtree_multi\n",
    "from derive_conceptualspace.util.desc_object import DescriptionList\n",
    "from derive_conceptualspace.pipeline import cluster_loader"
   ]
  },
  {
   "cell_type": "markdown",
   "id": "1aaafffe-72bb-4a96-b558-a9680bd4807c",
   "metadata": {},
   "source": [
    "## Find best-performing parameter-combination"
   ]
  },
  {
   "cell_type": "code",
   "execution_count": 3,
   "id": "b3feb420-338f-4263-aafd-35936c56ac13",
   "metadata": {
    "tags": []
   },
   "outputs": [
    {
     "data": {
      "text/markdown": [
       "<span style=\"font-size:11pt\">There are 32 different parameter-combis for dataset <span style=\"color: #0000ff\">placetypes</span>:</span>"
      ],
      "text/plain": [
       "<IPython.core.display.Markdown object>"
      ]
     },
     "metadata": {},
     "output_type": "display_data"
    },
    {
     "data": {
      "text/plain": [
       "{'dataset': 'placetypes',\n",
       " 'language': 'en',\n",
       " 'debug': 'False',\n",
       " 'pp_components': 'none',\n",
       " 'translate_policy': 'onlyorig',\n",
       " 'min_words_per_desc': '50',\n",
       " 'quantification_measure': ['ppmi', 'tfidf'],\n",
       " 'embed_algo': 'mds',\n",
       " 'embed_dimensions': ['3', '50', '200'],\n",
       " 'extraction_method': 'all',\n",
       " 'dcm_quant_measure': ['count', 'ppmi', 'tfidf'],\n",
       " 'kappa_weights': 'quadratic',\n",
       " 'classifier_succmetric': ['kappa_digitized_onlypos_2',\n",
       "  'kappa_rank2rank_onlypos_max',\n",
       "  'kappa_rank2rank_onlypos_min'],\n",
       " 'prim_lambda': '0.5',\n",
       " 'sec_lambda': ['0.1', '0.2'],\n",
       " 'cluster_direction_algo': 'reclassify'}"
      ]
     },
     "metadata": {},
     "output_type": "display_data"
    },
    {
     "name": "stderr",
     "output_type": "stream",
     "text": [
      "Getting Best-Performing Config [5 procs]: 100%|██████████| 32/32 [02:25<00:00,  4.56s/it]\n"
     ]
    },
    {
     "data": {
      "text/html": [
       "<div>\n",
       "<style scoped>\n",
       "    .dataframe tbody tr th:only-of-type {\n",
       "        vertical-align: middle;\n",
       "    }\n",
       "\n",
       "    .dataframe tbody tr th {\n",
       "        vertical-align: top;\n",
       "    }\n",
       "\n",
       "    .dataframe thead tr th {\n",
       "        text-align: left;\n",
       "    }\n",
       "</style>\n",
       "<table border=\"1\" class=\"dataframe\">\n",
       "  <thead>\n",
       "    <tr>\n",
       "      <th></th>\n",
       "      <th></th>\n",
       "      <th colspan=\"16\" halign=\"left\">Accuracy</th>\n",
       "    </tr>\n",
       "    <tr>\n",
       "      <th></th>\n",
       "      <th></th>\n",
       "      <th colspan=\"9\" halign=\"left\">ppmi</th>\n",
       "      <th colspan=\"7\" halign=\"left\">tfidf</th>\n",
       "    </tr>\n",
       "    <tr>\n",
       "      <th></th>\n",
       "      <th></th>\n",
       "      <th colspan=\"3\" halign=\"left\">3</th>\n",
       "      <th colspan=\"3\" halign=\"left\">50</th>\n",
       "      <th colspan=\"3\" halign=\"left\">200</th>\n",
       "      <th colspan=\"2\" halign=\"left\">3</th>\n",
       "      <th colspan=\"2\" halign=\"left\">50</th>\n",
       "      <th colspan=\"3\" halign=\"left\">200</th>\n",
       "    </tr>\n",
       "    <tr>\n",
       "      <th></th>\n",
       "      <th></th>\n",
       "      <th>count</th>\n",
       "      <th>ppmi</th>\n",
       "      <th>tfidf</th>\n",
       "      <th>count</th>\n",
       "      <th>ppmi</th>\n",
       "      <th>tfidf</th>\n",
       "      <th>count</th>\n",
       "      <th>ppmi</th>\n",
       "      <th>tfidf</th>\n",
       "      <th>ppmi</th>\n",
       "      <th>tfidf</th>\n",
       "      <th>ppmi</th>\n",
       "      <th>tfidf</th>\n",
       "      <th>count</th>\n",
       "      <th>ppmi</th>\n",
       "      <th>tfidf</th>\n",
       "    </tr>\n",
       "  </thead>\n",
       "  <tbody>\n",
       "    <tr>\n",
       "      <th>kappa_digitized_onlypos_2</th>\n",
       "      <th>0.2</th>\n",
       "      <td>0.463609</td>\n",
       "      <td>0.395716</td>\n",
       "      <td>0.426780</td>\n",
       "      <td>0.467845</td>\n",
       "      <td>0.584899</td>\n",
       "      <td>0.477304</td>\n",
       "      <td>0.622306</td>\n",
       "      <td>0.502957</td>\n",
       "      <td>0.548406</td>\n",
       "      <td>0.614228</td>\n",
       "      <td>0.478684</td>\n",
       "      <td>0.598985</td>\n",
       "      <td>0.557865</td>\n",
       "      <td>0.624284</td>\n",
       "      <td>0.563313</td>\n",
       "      <td>0.513909</td>\n",
       "    </tr>\n",
       "    <tr>\n",
       "      <th>kappa_rank2rank_onlypos_max</th>\n",
       "      <th>0.1</th>\n",
       "      <td>NaN</td>\n",
       "      <td>NaN</td>\n",
       "      <td>NaN</td>\n",
       "      <td>0.594806</td>\n",
       "      <td>NaN</td>\n",
       "      <td>NaN</td>\n",
       "      <td>NaN</td>\n",
       "      <td>NaN</td>\n",
       "      <td>NaN</td>\n",
       "      <td>NaN</td>\n",
       "      <td>NaN</td>\n",
       "      <td>NaN</td>\n",
       "      <td>NaN</td>\n",
       "      <td>NaN</td>\n",
       "      <td>NaN</td>\n",
       "      <td>NaN</td>\n",
       "    </tr>\n",
       "    <tr>\n",
       "      <th>kappa_rank2rank_onlypos_min</th>\n",
       "      <th>0.2</th>\n",
       "      <td>0.492491</td>\n",
       "      <td>0.554600</td>\n",
       "      <td>0.549432</td>\n",
       "      <td>0.560738</td>\n",
       "      <td>0.584600</td>\n",
       "      <td>0.571149</td>\n",
       "      <td>0.542006</td>\n",
       "      <td>0.498293</td>\n",
       "      <td>0.500774</td>\n",
       "      <td>0.633575</td>\n",
       "      <td>0.612176</td>\n",
       "      <td>0.569731</td>\n",
       "      <td>0.617885</td>\n",
       "      <td>NaN</td>\n",
       "      <td>0.533891</td>\n",
       "      <td>0.547715</td>\n",
       "    </tr>\n",
       "  </tbody>\n",
       "</table>\n",
       "</div>"
      ],
      "text/plain": [
       "                                 Accuracy                                \\\n",
       "                                     ppmi                                 \n",
       "                                      3                             50    \n",
       "                                    count      ppmi     tfidf     count   \n",
       "kappa_digitized_onlypos_2   0.2  0.463609  0.395716  0.426780  0.467845   \n",
       "kappa_rank2rank_onlypos_max 0.1       NaN       NaN       NaN  0.594806   \n",
       "kappa_rank2rank_onlypos_min 0.2  0.492491  0.554600  0.549432  0.560738   \n",
       "\n",
       "                                                                         \\\n",
       "                                                                          \n",
       "                                                          200             \n",
       "                                     ppmi     tfidf     count      ppmi   \n",
       "kappa_digitized_onlypos_2   0.2  0.584899  0.477304  0.622306  0.502957   \n",
       "kappa_rank2rank_onlypos_max 0.1       NaN       NaN       NaN       NaN   \n",
       "kappa_rank2rank_onlypos_min 0.2  0.584600  0.571149  0.542006  0.498293   \n",
       "\n",
       "                                                                         \\\n",
       "                                              tfidf                       \n",
       "                                                3                   50    \n",
       "                                    tfidf      ppmi     tfidf      ppmi   \n",
       "kappa_digitized_onlypos_2   0.2  0.548406  0.614228  0.478684  0.598985   \n",
       "kappa_rank2rank_onlypos_max 0.1       NaN       NaN       NaN       NaN   \n",
       "kappa_rank2rank_onlypos_min 0.2  0.500774  0.633575  0.612176  0.569731   \n",
       "\n",
       "                                                                         \n",
       "                                                                         \n",
       "                                                200                      \n",
       "                                    tfidf     count      ppmi     tfidf  \n",
       "kappa_digitized_onlypos_2   0.2  0.557865  0.624284  0.563313  0.513909  \n",
       "kappa_rank2rank_onlypos_max 0.1       NaN       NaN       NaN       NaN  \n",
       "kappa_rank2rank_onlypos_min 0.2  0.617885       NaN  0.533891  0.547715  "
      ]
     },
     "metadata": {},
     "output_type": "display_data"
    },
    {
     "name": "stdout",
     "output_type": "stream",
     "text": [
      "Best Accuracy: 63.36%\n"
     ]
    }
   ],
   "source": [
    "setup_logging()\n",
    "load_envfiles(\"placetypes\")\n",
    "conf, perf = get_best_conf(\"Geonames\", verbose=True, balance_classes=True, one_vs_rest=True, dt_depth=1, test_percentage_crossval=0.33)"
   ]
  },
  {
   "cell_type": "code",
   "execution_count": 3,
   "id": "974a5921-31d1-4f2a-9c6f-85bbc9d561bf",
   "metadata": {},
   "outputs": [
    {
     "name": "stdout",
     "output_type": "stream",
     "text": [
      "MA_DATASET=placetypes;MA_LANGUAGE=en;MA_DEBUG=False;MA_PP_COMPONENTS=none;MA_TRANSLATE_POLICY=onlyorig;MA_MIN_WORDS_PER_DESC=50;MA_QUANTIFICATION_MEASURE=ppmi;MA_EMBED_ALGO=mds;MA_EMBED_DIMENSIONS=50;MA_EXTRACTION_METHOD=all;MA_DCM_QUANT_MEASURE=count;MA_KAPPA_WEIGHTS=quadratic;MA_CLASSIFIER_SUCCMETRIC=kappa_rank2rank_onlypos_max;MA_PRIM_LAMBDA=0.5;MA_SEC_LAMBDA=0.1;MA_CLUSTER_DIRECTION_ALGO=reclassify\n",
      "cluster_reprs\n"
     ]
    }
   ],
   "source": [
    "print_envvars(get_filename(conf, get_dependencies=False, doprint=False))"
   ]
  },
  {
   "cell_type": "code",
   "execution_count": 4,
   "id": "153bc072-b08e-4148-b7c0-ae2d124c7cf4",
   "metadata": {},
   "outputs": [
    {
     "data": {
      "text/markdown": [
       "<span style=\"font-size:11pt\">env_vars demanded config EMBED_DIMENSIONS to be <span style=\"color: #ff0000\">200</span>, but force overwrites it to <span style=\"color: #0000ff\">50</span></span>"
      ],
      "text/plain": [
       "<IPython.core.display.Markdown object>"
      ]
     },
     "metadata": {},
     "output_type": "display_data"
    },
    {
     "data": {
      "text/markdown": [
       "<span style=\"font-size:11pt\">env_vars demanded config CLASSIFIER_SUCCMETRIC to be <span style=\"color: #ff0000\">kappa_digitized_onlypos_2</span>, but force overwrites it to <span style=\"color: #0000ff\">kappa_rank2rank_onlypos_max</span></span>"
      ],
      "text/plain": [
       "<IPython.core.display.Markdown object>"
      ]
     },
     "metadata": {},
     "output_type": "display_data"
    },
    {
     "data": {
      "text/markdown": [
       "<span style=\"font-size:11pt\">Running with the following settings [<span style=\"color: #ff0000\">bcc559bc6c</span>]: CLASSIFIER_SUCCMETRIC: <span style=\"color: #0000ff\">kappa_rank2rank_onlypos_max</span>, CLUSTER_DIRECTION_ALGO: <span style=\"color: #0000ff\">reclassify</span>, DATASET: <span style=\"color: #ff0000\">placetypes</span>, DCM_QUANT_MEASURE: <span style=\"color: #0000ff\">count</span>, DEBUG: <span style=\"color: #0000ff\">False</span>, EMBED_ALGO: <span style=\"color: #0000ff\">mds</span>, EMBED_DIMENSIONS: <span style=\"color: #ff0000\">50</span>, EXTRACTION_METHOD: <span style=\"color: #ff0000\">all</span>, KAPPA_WEIGHTS: <span style=\"color: #0000ff\">quadratic</span>, LANGUAGE: <span style=\"color: #ff0000\">en</span>, MIN_WORDS_PER_DESC: <span style=\"color: #0000ff\">50</span>, PP_COMPONENTS: <span style=\"color: #ff0000\">none</span>, PRIM_LAMBDA: <span style=\"color: #0000ff\">0.5</span>, QUANTIFICATION_MEASURE: <span style=\"color: #ff0000\">ppmi</span>, RANDOM_SEED: <span style=\"color: #ff0000\">None</span>, SEC_LAMBDA: <span style=\"color: #0000ff\">0.1</span>, TRANSLATE_POLICY: <span style=\"color: #0000ff\">onlyorig</span></span>"
      ],
      "text/plain": [
       "<IPython.core.display.Markdown object>"
      ]
     },
     "metadata": {},
     "output_type": "display_data"
    }
   ],
   "source": [
    "ctx = SnakeContext.loader_context(config=conf, silent=False)\n",
    "descriptions, clusters, embedding = ctx.load(\"pp_descriptions\", \"clusters\", \"embedding\", \n",
    "                          loaders=dict(pp_descriptions=DescriptionList.from_json, clusters=cluster_loader, embedding=lambda **args: args[\"embedding\"].embedding_))"
   ]
  },
  {
   "cell_type": "code",
   "execution_count": 5,
   "id": "70a29de5-185f-4b34-851a-4d1845ec78f7",
   "metadata": {
    "scrolled": true,
    "tags": []
   },
   "outputs": [
    {
     "data": {
      "text/markdown": [
       "<span style=\"font-size:11pt\">====================================================================================================</span>"
      ],
      "text/plain": [
       "<IPython.core.display.Markdown object>"
      ]
     },
     "metadata": {},
     "output_type": "display_data"
    },
    {
     "data": {
      "text/markdown": [
       "<span style=\"font-size:11pt\">Using classes from Foursquare - 391/1383 entities have a class</span>"
      ],
      "text/plain": [
       "<IPython.core.display.Markdown object>"
      ]
     },
     "metadata": {},
     "output_type": "display_data"
    },
    {
     "data": {
      "text/markdown": [
       "<span style=\"font-size:11pt\">returning CLUS_REP_ALGO from default: <span style=\"color: #0000ff\">top_1</span></span>"
      ],
      "text/plain": [
       "<IPython.core.display.Markdown object>"
      ]
     },
     "metadata": {},
     "output_type": "display_data"
    },
    {
     "data": {
      "text/markdown": [
       "<span style=\"font-size:11pt\">Labels (9 classes): <span style=\"color: #0000ff\">Shops&Services</span>: 88, <span style=\"color: #0000ff\">Food</span>: 82, <span style=\"color: #0000ff\">Travel&Transport</span>: 35, <span style=\"color: #0000ff\">Professional&Other</span>: 47, <span style=\"color: #0000ff\">Residences</span>: 6, <span style=\"color: #0000ff\">Arts&Entertainment</span>: 39, <span style=\"color: #0000ff\">NightlifeSpots</span>: 17, <span style=\"color: #0000ff\">GreatOutdoors</span>: 44, <span style=\"color: #0000ff\">College&University</span>: 33</span>"
      ],
      "text/plain": [
       "<IPython.core.display.Markdown object>"
      ]
     },
     "metadata": {},
     "output_type": "display_data"
    },
    {
     "data": {
      "text/markdown": [
       "<span style=\"font-size:11pt\">Eval-Settings: type: <span style=\"color: #0000ff\">one-vs-rest</span>, DT-Depth: <span style=\"color: #0000ff\">1</span>, train-test-split:<span style=\"color: #0000ff\"> 33.0% in test-set </span></span>"
      ],
      "text/plain": [
       "<IPython.core.display.Markdown object>"
      ]
     },
     "metadata": {},
     "output_type": "display_data"
    },
    {
     "data": {
      "text/markdown": [
       "<span style=\"font-size:11pt\">Per-Class-Scores: College&University: 0.79, NightlifeSpots: 0.60, Residences: 0.95, GreatOutdoors: 0.79, Arts&Entertainment: 0.52, Travel&Transport: 0.75, Food: 0.78, Professional&Other: 0.52, Shops&Services: 0.55</span>"
      ],
      "text/plain": [
       "<IPython.core.display.Markdown object>"
      ]
     },
     "metadata": {},
     "output_type": "display_data"
    },
    {
     "data": {
      "text/markdown": [
       "<span style=\"font-size:11pt\">Unweighted Mean Accuracy: 69.49%</span>"
      ],
      "text/plain": [
       "<IPython.core.display.Markdown object>"
      ]
     },
     "metadata": {},
     "output_type": "display_data"
    },
    {
     "data": {
      "text/markdown": [
       "<span style=\"font-size:11pt\">Weighted Mean Accuracy: 66.68%</span>"
      ],
      "text/plain": [
       "<IPython.core.display.Markdown object>"
      ]
     },
     "metadata": {},
     "output_type": "display_data"
    },
    {
     "data": {
      "text/markdown": [
       "<span style=\"font-size:11pt\">====================================================================================================</span>"
      ],
      "text/plain": [
       "<IPython.core.display.Markdown object>"
      ]
     },
     "metadata": {},
     "output_type": "display_data"
    },
    {
     "data": {
      "text/markdown": [
       "<span style=\"font-size:11pt\">Using classes from Foursquare - 391/1383 entities have a class</span>"
      ],
      "text/plain": [
       "<IPython.core.display.Markdown object>"
      ]
     },
     "metadata": {},
     "output_type": "display_data"
    },
    {
     "data": {
      "text/markdown": [
       "<span style=\"font-size:11pt\">Labels (9 classes): <span style=\"color: #0000ff\">Shops&Services</span>: 88, <span style=\"color: #0000ff\">Food</span>: 82, <span style=\"color: #0000ff\">Travel&Transport</span>: 35, <span style=\"color: #0000ff\">Professional&Other</span>: 47, <span style=\"color: #0000ff\">Residences</span>: 6, <span style=\"color: #0000ff\">Arts&Entertainment</span>: 39, <span style=\"color: #0000ff\">NightlifeSpots</span>: 17, <span style=\"color: #0000ff\">GreatOutdoors</span>: 44, <span style=\"color: #0000ff\">College&University</span>: 33</span>"
      ],
      "text/plain": [
       "<IPython.core.display.Markdown object>"
      ]
     },
     "metadata": {},
     "output_type": "display_data"
    },
    {
     "data": {
      "text/markdown": [
       "<span style=\"font-size:11pt\">Eval-Settings: type: <span style=\"color: #0000ff\">one-vs-rest</span>, DT-Depth: <span style=\"color: #0000ff\">1</span>, train-test-split:<span style=\"color: #0000ff\"> 33.0% in test-set </span></span>"
      ],
      "text/plain": [
       "<IPython.core.display.Markdown object>"
      ]
     },
     "metadata": {},
     "output_type": "display_data"
    },
    {
     "data": {
      "text/markdown": [
       "<span style=\"font-size:11pt\">Per-Class-Scores: College&University: 0.88, NightlifeSpots: 0.94, Residences: 0.98, GreatOutdoors: 0.91, Arts&Entertainment: 0.92, Travel&Transport: 0.93, Food: 0.82, Professional&Other: 0.85, Shops&Services: 0.79</span>"
      ],
      "text/plain": [
       "<IPython.core.display.Markdown object>"
      ]
     },
     "metadata": {},
     "output_type": "display_data"
    },
    {
     "data": {
      "text/markdown": [
       "<span style=\"font-size:11pt\">Unweighted Mean Accuracy: 89.23%</span>"
      ],
      "text/plain": [
       "<IPython.core.display.Markdown object>"
      ]
     },
     "metadata": {},
     "output_type": "display_data"
    },
    {
     "data": {
      "text/markdown": [
       "<span style=\"font-size:11pt\">Weighted Mean Accuracy: 86.16%</span>"
      ],
      "text/plain": [
       "<IPython.core.display.Markdown object>"
      ]
     },
     "metadata": {},
     "output_type": "display_data"
    },
    {
     "data": {
      "text/markdown": [
       "<span style=\"font-size:11pt\">====================================================================================================</span>"
      ],
      "text/plain": [
       "<IPython.core.display.Markdown object>"
      ]
     },
     "metadata": {},
     "output_type": "display_data"
    },
    {
     "data": {
      "text/markdown": [
       "<span style=\"font-size:11pt\">Using classes from Foursquare - 391/1383 entities have a class</span>"
      ],
      "text/plain": [
       "<IPython.core.display.Markdown object>"
      ]
     },
     "metadata": {},
     "output_type": "display_data"
    },
    {
     "data": {
      "text/markdown": [
       "<span style=\"font-size:11pt\">Labels (9 classes): <span style=\"color: #0000ff\">Shops&Services</span>: 88, <span style=\"color: #0000ff\">Food</span>: 82, <span style=\"color: #0000ff\">Travel&Transport</span>: 35, <span style=\"color: #0000ff\">Professional&Other</span>: 47, <span style=\"color: #0000ff\">Residences</span>: 6, <span style=\"color: #0000ff\">Arts&Entertainment</span>: 39, <span style=\"color: #0000ff\">NightlifeSpots</span>: 17, <span style=\"color: #0000ff\">GreatOutdoors</span>: 44, <span style=\"color: #0000ff\">College&University</span>: 33</span>"
      ],
      "text/plain": [
       "<IPython.core.display.Markdown object>"
      ]
     },
     "metadata": {},
     "output_type": "display_data"
    },
    {
     "data": {
      "text/markdown": [
       "<span style=\"font-size:11pt\">Eval-Settings: type: <span style=\"color: #0000ff\">one-vs-rest</span>, DT-Depth: <span style=\"color: #0000ff\">2</span>, train-test-split:<span style=\"color: #0000ff\"> 33.0% in test-set </span></span>"
      ],
      "text/plain": [
       "<IPython.core.display.Markdown object>"
      ]
     },
     "metadata": {},
     "output_type": "display_data"
    },
    {
     "data": {
      "text/markdown": [
       "<span style=\"font-size:11pt\">Per-Class-Scores: College&University: 0.88, NightlifeSpots: 0.83, Residences: 0.91, GreatOutdoors: 0.75, Arts&Entertainment: 0.55, Travel&Transport: 0.81, Food: 0.86, Professional&Other: 0.66, Shops&Services: 0.67</span>"
      ],
      "text/plain": [
       "<IPython.core.display.Markdown object>"
      ]
     },
     "metadata": {},
     "output_type": "display_data"
    },
    {
     "data": {
      "text/markdown": [
       "<span style=\"font-size:11pt\">Unweighted Mean Accuracy: 76.92%</span>"
      ],
      "text/plain": [
       "<IPython.core.display.Markdown object>"
      ]
     },
     "metadata": {},
     "output_type": "display_data"
    },
    {
     "data": {
      "text/markdown": [
       "<span style=\"font-size:11pt\">Weighted Mean Accuracy: 74.73%</span>"
      ],
      "text/plain": [
       "<IPython.core.display.Markdown object>"
      ]
     },
     "metadata": {},
     "output_type": "display_data"
    },
    {
     "data": {
      "text/markdown": [
       "<span style=\"font-size:11pt\">====================================================================================================</span>"
      ],
      "text/plain": [
       "<IPython.core.display.Markdown object>"
      ]
     },
     "metadata": {},
     "output_type": "display_data"
    },
    {
     "data": {
      "text/markdown": [
       "<span style=\"font-size:11pt\">Using classes from Foursquare - 391/1383 entities have a class</span>"
      ],
      "text/plain": [
       "<IPython.core.display.Markdown object>"
      ]
     },
     "metadata": {},
     "output_type": "display_data"
    },
    {
     "data": {
      "text/markdown": [
       "<span style=\"font-size:11pt\">Labels (9 classes): <span style=\"color: #0000ff\">Shops&Services</span>: 88, <span style=\"color: #0000ff\">Food</span>: 82, <span style=\"color: #0000ff\">Travel&Transport</span>: 35, <span style=\"color: #0000ff\">Professional&Other</span>: 47, <span style=\"color: #0000ff\">Residences</span>: 6, <span style=\"color: #0000ff\">Arts&Entertainment</span>: 39, <span style=\"color: #0000ff\">NightlifeSpots</span>: 17, <span style=\"color: #0000ff\">GreatOutdoors</span>: 44, <span style=\"color: #0000ff\">College&University</span>: 33</span>"
      ],
      "text/plain": [
       "<IPython.core.display.Markdown object>"
      ]
     },
     "metadata": {},
     "output_type": "display_data"
    },
    {
     "data": {
      "text/markdown": [
       "<span style=\"font-size:11pt\">Eval-Settings: type: <span style=\"color: #0000ff\">one-vs-rest</span>, DT-Depth: <span style=\"color: #0000ff\">2</span>, train-test-split:<span style=\"color: #0000ff\"> 33.0% in test-set </span></span>"
      ],
      "text/plain": [
       "<IPython.core.display.Markdown object>"
      ]
     },
     "metadata": {},
     "output_type": "display_data"
    },
    {
     "data": {
      "text/markdown": [
       "<span style=\"font-size:11pt\">Per-Class-Scores: College&University: 0.92, NightlifeSpots: 0.93, Residences: 0.98, GreatOutdoors: 0.88, Arts&Entertainment: 0.88, Travel&Transport: 0.95, Food: 0.85, Professional&Other: 0.91, Shops&Services: 0.77</span>"
      ],
      "text/plain": [
       "<IPython.core.display.Markdown object>"
      ]
     },
     "metadata": {},
     "output_type": "display_data"
    },
    {
     "data": {
      "text/markdown": [
       "<span style=\"font-size:11pt\">Unweighted Mean Accuracy: 89.49%</span>"
      ],
      "text/plain": [
       "<IPython.core.display.Markdown object>"
      ]
     },
     "metadata": {},
     "output_type": "display_data"
    },
    {
     "data": {
      "text/markdown": [
       "<span style=\"font-size:11pt\">Weighted Mean Accuracy: 86.39%</span>"
      ],
      "text/plain": [
       "<IPython.core.display.Markdown object>"
      ]
     },
     "metadata": {},
     "output_type": "display_data"
    },
    {
     "data": {
      "text/markdown": [
       "<span style=\"font-size:11pt\">====================================================================================================</span>"
      ],
      "text/plain": [
       "<IPython.core.display.Markdown object>"
      ]
     },
     "metadata": {},
     "output_type": "display_data"
    },
    {
     "data": {
      "text/markdown": [
       "<span style=\"font-size:11pt\">Using classes from Foursquare - 391/1383 entities have a class</span>"
      ],
      "text/plain": [
       "<IPython.core.display.Markdown object>"
      ]
     },
     "metadata": {},
     "output_type": "display_data"
    },
    {
     "data": {
      "text/markdown": [
       "<span style=\"font-size:11pt\">Labels (9 classes): <span style=\"color: #0000ff\">Shops&Services</span>: 88, <span style=\"color: #0000ff\">Food</span>: 82, <span style=\"color: #0000ff\">Travel&Transport</span>: 35, <span style=\"color: #0000ff\">Professional&Other</span>: 47, <span style=\"color: #0000ff\">Residences</span>: 6, <span style=\"color: #0000ff\">Arts&Entertainment</span>: 39, <span style=\"color: #0000ff\">NightlifeSpots</span>: 17, <span style=\"color: #0000ff\">GreatOutdoors</span>: 44, <span style=\"color: #0000ff\">College&University</span>: 33</span>"
      ],
      "text/plain": [
       "<IPython.core.display.Markdown object>"
      ]
     },
     "metadata": {},
     "output_type": "display_data"
    },
    {
     "data": {
      "text/markdown": [
       "<span style=\"font-size:11pt\">Eval-Settings: type: <span style=\"color: #0000ff\">one-vs-rest</span>, DT-Depth: <span style=\"color: #0000ff\">3</span>, train-test-split:<span style=\"color: #0000ff\"> 33.0% in test-set </span></span>"
      ],
      "text/plain": [
       "<IPython.core.display.Markdown object>"
      ]
     },
     "metadata": {},
     "output_type": "display_data"
    },
    {
     "data": {
      "text/markdown": [
       "<span style=\"font-size:11pt\">Per-Class-Scores: College&University: 0.94, NightlifeSpots: 0.79, Residences: 1.00, GreatOutdoors: 0.73, Arts&Entertainment: 0.79, Travel&Transport: 0.75, Food: 0.79, Professional&Other: 0.68, Shops&Services: 0.74</span>"
      ],
      "text/plain": [
       "<IPython.core.display.Markdown object>"
      ]
     },
     "metadata": {},
     "output_type": "display_data"
    },
    {
     "data": {
      "text/markdown": [
       "<span style=\"font-size:11pt\">Unweighted Mean Accuracy: 80.26%</span>"
      ],
      "text/plain": [
       "<IPython.core.display.Markdown object>"
      ]
     },
     "metadata": {},
     "output_type": "display_data"
    },
    {
     "data": {
      "text/markdown": [
       "<span style=\"font-size:11pt\">Weighted Mean Accuracy: 77.24%</span>"
      ],
      "text/plain": [
       "<IPython.core.display.Markdown object>"
      ]
     },
     "metadata": {},
     "output_type": "display_data"
    },
    {
     "data": {
      "text/markdown": [
       "<span style=\"font-size:11pt\">====================================================================================================</span>"
      ],
      "text/plain": [
       "<IPython.core.display.Markdown object>"
      ]
     },
     "metadata": {},
     "output_type": "display_data"
    },
    {
     "data": {
      "text/markdown": [
       "<span style=\"font-size:11pt\">Using classes from Foursquare - 391/1383 entities have a class</span>"
      ],
      "text/plain": [
       "<IPython.core.display.Markdown object>"
      ]
     },
     "metadata": {},
     "output_type": "display_data"
    },
    {
     "data": {
      "text/markdown": [
       "<span style=\"font-size:11pt\">Labels (9 classes): <span style=\"color: #0000ff\">Shops&Services</span>: 88, <span style=\"color: #0000ff\">Food</span>: 82, <span style=\"color: #0000ff\">Travel&Transport</span>: 35, <span style=\"color: #0000ff\">Professional&Other</span>: 47, <span style=\"color: #0000ff\">Residences</span>: 6, <span style=\"color: #0000ff\">Arts&Entertainment</span>: 39, <span style=\"color: #0000ff\">NightlifeSpots</span>: 17, <span style=\"color: #0000ff\">GreatOutdoors</span>: 44, <span style=\"color: #0000ff\">College&University</span>: 33</span>"
      ],
      "text/plain": [
       "<IPython.core.display.Markdown object>"
      ]
     },
     "metadata": {},
     "output_type": "display_data"
    },
    {
     "data": {
      "text/markdown": [
       "<span style=\"font-size:11pt\">Eval-Settings: type: <span style=\"color: #0000ff\">one-vs-rest</span>, DT-Depth: <span style=\"color: #0000ff\">3</span>, train-test-split:<span style=\"color: #0000ff\"> 33.0% in test-set </span></span>"
      ],
      "text/plain": [
       "<IPython.core.display.Markdown object>"
      ]
     },
     "metadata": {},
     "output_type": "display_data"
    },
    {
     "data": {
      "text/markdown": [
       "<span style=\"font-size:11pt\">Per-Class-Scores: College&University: 0.93, NightlifeSpots: 0.97, Residences: 0.98, GreatOutdoors: 0.90, Arts&Entertainment: 0.88, Travel&Transport: 0.88, Food: 0.92, Professional&Other: 0.87, Shops&Services: 0.78</span>"
      ],
      "text/plain": [
       "<IPython.core.display.Markdown object>"
      ]
     },
     "metadata": {},
     "output_type": "display_data"
    },
    {
     "data": {
      "text/markdown": [
       "<span style=\"font-size:11pt\">Unweighted Mean Accuracy: 90.00%</span>"
      ],
      "text/plain": [
       "<IPython.core.display.Markdown object>"
      ]
     },
     "metadata": {},
     "output_type": "display_data"
    },
    {
     "data": {
      "text/markdown": [
       "<span style=\"font-size:11pt\">Weighted Mean Accuracy: 87.49%</span>"
      ],
      "text/plain": [
       "<IPython.core.display.Markdown object>"
      ]
     },
     "metadata": {},
     "output_type": "display_data"
    },
    {
     "data": {
      "text/markdown": [
       "<span style=\"font-size:11pt\">====================================================================================================</span>"
      ],
      "text/plain": [
       "<IPython.core.display.Markdown object>"
      ]
     },
     "metadata": {},
     "output_type": "display_data"
    },
    {
     "data": {
      "text/markdown": [
       "<span style=\"font-size:11pt\">Using classes from Foursquare - 391/1383 entities have a class</span>"
      ],
      "text/plain": [
       "<IPython.core.display.Markdown object>"
      ]
     },
     "metadata": {},
     "output_type": "display_data"
    },
    {
     "data": {
      "text/markdown": [
       "<span style=\"font-size:11pt\">Labels (9 classes): <span style=\"color: #0000ff\">Shops&Services</span>: 88, <span style=\"color: #0000ff\">Food</span>: 82, <span style=\"color: #0000ff\">Travel&Transport</span>: 35, <span style=\"color: #0000ff\">Professional&Other</span>: 47, <span style=\"color: #0000ff\">Residences</span>: 6, <span style=\"color: #0000ff\">Arts&Entertainment</span>: 39, <span style=\"color: #0000ff\">NightlifeSpots</span>: 17, <span style=\"color: #0000ff\">GreatOutdoors</span>: 44, <span style=\"color: #0000ff\">College&University</span>: 33</span>"
      ],
      "text/plain": [
       "<IPython.core.display.Markdown object>"
      ]
     },
     "metadata": {},
     "output_type": "display_data"
    },
    {
     "data": {
      "text/markdown": [
       "<span style=\"font-size:11pt\">Eval-Settings: type: <span style=\"color: #0000ff\">all-at-once</span>, DT-Depth: <span style=\"color: #0000ff\">1</span>, train-test-split:<span style=\"color: #0000ff\"> 33.0% in test-set </span></span>"
      ],
      "text/plain": [
       "<IPython.core.display.Markdown object>"
      ]
     },
     "metadata": {},
     "output_type": "display_data"
    },
    {
     "name": "stderr",
     "output_type": "stream",
     "text": [
      "derive_conceptualspace/evaluate/shallow_trees.py:120: UserWarning: There are more classes (9) than your decision-tree can possibly classify (2)\n"
     ]
    },
    {
     "data": {
      "text/markdown": [
       "<span style=\"font-size:11pt\">Accuracy: 0.28</span>"
      ],
      "text/plain": [
       "<IPython.core.display.Markdown object>"
      ]
     },
     "metadata": {},
     "output_type": "display_data"
    },
    {
     "data": {
      "text/markdown": [
       "<span style=\"font-size:11pt\">Baseline Accuracy: 0.23</span>"
      ],
      "text/plain": [
       "<IPython.core.display.Markdown object>"
      ]
     },
     "metadata": {},
     "output_type": "display_data"
    },
    {
     "data": {
      "text/markdown": [
       "<span style=\"font-size:11pt\">Maximally achievable Accuracy: 0.43</span>"
      ],
      "text/plain": [
       "<IPython.core.display.Markdown object>"
      ]
     },
     "metadata": {},
     "output_type": "display_data"
    },
    {
     "data": {
      "text/markdown": [
       "<span style=\"font-size:11pt\">====================================================================================================</span>"
      ],
      "text/plain": [
       "<IPython.core.display.Markdown object>"
      ]
     },
     "metadata": {},
     "output_type": "display_data"
    },
    {
     "data": {
      "text/markdown": [
       "<span style=\"font-size:11pt\">Using classes from Foursquare - 391/1383 entities have a class</span>"
      ],
      "text/plain": [
       "<IPython.core.display.Markdown object>"
      ]
     },
     "metadata": {},
     "output_type": "display_data"
    },
    {
     "data": {
      "text/markdown": [
       "<span style=\"font-size:11pt\">Labels (9 classes): <span style=\"color: #0000ff\">Shops&Services</span>: 88, <span style=\"color: #0000ff\">Food</span>: 82, <span style=\"color: #0000ff\">Travel&Transport</span>: 35, <span style=\"color: #0000ff\">Professional&Other</span>: 47, <span style=\"color: #0000ff\">Residences</span>: 6, <span style=\"color: #0000ff\">Arts&Entertainment</span>: 39, <span style=\"color: #0000ff\">NightlifeSpots</span>: 17, <span style=\"color: #0000ff\">GreatOutdoors</span>: 44, <span style=\"color: #0000ff\">College&University</span>: 33</span>"
      ],
      "text/plain": [
       "<IPython.core.display.Markdown object>"
      ]
     },
     "metadata": {},
     "output_type": "display_data"
    },
    {
     "data": {
      "text/markdown": [
       "<span style=\"font-size:11pt\">Eval-Settings: type: <span style=\"color: #0000ff\">all-at-once</span>, DT-Depth: <span style=\"color: #0000ff\">1</span>, train-test-split:<span style=\"color: #0000ff\"> 33.0% in test-set </span></span>"
      ],
      "text/plain": [
       "<IPython.core.display.Markdown object>"
      ]
     },
     "metadata": {},
     "output_type": "display_data"
    },
    {
     "name": "stderr",
     "output_type": "stream",
     "text": [
      "derive_conceptualspace/evaluate/shallow_trees.py:120: UserWarning: There are more classes (9) than your decision-tree can possibly classify (2)\n"
     ]
    },
    {
     "data": {
      "text/markdown": [
       "<span style=\"font-size:11pt\">Accuracy: 0.29</span>"
      ],
      "text/plain": [
       "<IPython.core.display.Markdown object>"
      ]
     },
     "metadata": {},
     "output_type": "display_data"
    },
    {
     "data": {
      "text/markdown": [
       "<span style=\"font-size:11pt\">Baseline Accuracy: 0.23</span>"
      ],
      "text/plain": [
       "<IPython.core.display.Markdown object>"
      ]
     },
     "metadata": {},
     "output_type": "display_data"
    },
    {
     "data": {
      "text/markdown": [
       "<span style=\"font-size:11pt\">Maximally achievable Accuracy: 0.43</span>"
      ],
      "text/plain": [
       "<IPython.core.display.Markdown object>"
      ]
     },
     "metadata": {},
     "output_type": "display_data"
    },
    {
     "data": {
      "text/markdown": [
       "<span style=\"font-size:11pt\">====================================================================================================</span>"
      ],
      "text/plain": [
       "<IPython.core.display.Markdown object>"
      ]
     },
     "metadata": {},
     "output_type": "display_data"
    },
    {
     "data": {
      "text/markdown": [
       "<span style=\"font-size:11pt\">Using classes from Foursquare - 391/1383 entities have a class</span>"
      ],
      "text/plain": [
       "<IPython.core.display.Markdown object>"
      ]
     },
     "metadata": {},
     "output_type": "display_data"
    },
    {
     "data": {
      "text/markdown": [
       "<span style=\"font-size:11pt\">Labels (9 classes): <span style=\"color: #0000ff\">Shops&Services</span>: 88, <span style=\"color: #0000ff\">Food</span>: 82, <span style=\"color: #0000ff\">Travel&Transport</span>: 35, <span style=\"color: #0000ff\">Professional&Other</span>: 47, <span style=\"color: #0000ff\">Residences</span>: 6, <span style=\"color: #0000ff\">Arts&Entertainment</span>: 39, <span style=\"color: #0000ff\">NightlifeSpots</span>: 17, <span style=\"color: #0000ff\">GreatOutdoors</span>: 44, <span style=\"color: #0000ff\">College&University</span>: 33</span>"
      ],
      "text/plain": [
       "<IPython.core.display.Markdown object>"
      ]
     },
     "metadata": {},
     "output_type": "display_data"
    },
    {
     "data": {
      "text/markdown": [
       "<span style=\"font-size:11pt\">Eval-Settings: type: <span style=\"color: #0000ff\">all-at-once</span>, DT-Depth: <span style=\"color: #0000ff\">2</span>, train-test-split:<span style=\"color: #0000ff\"> 33.0% in test-set </span></span>"
      ],
      "text/plain": [
       "<IPython.core.display.Markdown object>"
      ]
     },
     "metadata": {},
     "output_type": "display_data"
    },
    {
     "name": "stderr",
     "output_type": "stream",
     "text": [
      "derive_conceptualspace/evaluate/shallow_trees.py:120: UserWarning: There are more classes (9) than your decision-tree can possibly classify (4)\n"
     ]
    },
    {
     "data": {
      "text/markdown": [
       "<span style=\"font-size:11pt\">Accuracy: 0.17</span>"
      ],
      "text/plain": [
       "<IPython.core.display.Markdown object>"
      ]
     },
     "metadata": {},
     "output_type": "display_data"
    },
    {
     "data": {
      "text/markdown": [
       "<span style=\"font-size:11pt\">====================================================================================================</span>"
      ],
      "text/plain": [
       "<IPython.core.display.Markdown object>"
      ]
     },
     "metadata": {},
     "output_type": "display_data"
    },
    {
     "data": {
      "text/markdown": [
       "<span style=\"font-size:11pt\">Using classes from Foursquare - 391/1383 entities have a class</span>"
      ],
      "text/plain": [
       "<IPython.core.display.Markdown object>"
      ]
     },
     "metadata": {},
     "output_type": "display_data"
    },
    {
     "data": {
      "text/markdown": [
       "<span style=\"font-size:11pt\">Labels (9 classes): <span style=\"color: #0000ff\">Shops&Services</span>: 88, <span style=\"color: #0000ff\">Food</span>: 82, <span style=\"color: #0000ff\">Travel&Transport</span>: 35, <span style=\"color: #0000ff\">Professional&Other</span>: 47, <span style=\"color: #0000ff\">Residences</span>: 6, <span style=\"color: #0000ff\">Arts&Entertainment</span>: 39, <span style=\"color: #0000ff\">NightlifeSpots</span>: 17, <span style=\"color: #0000ff\">GreatOutdoors</span>: 44, <span style=\"color: #0000ff\">College&University</span>: 33</span>"
      ],
      "text/plain": [
       "<IPython.core.display.Markdown object>"
      ]
     },
     "metadata": {},
     "output_type": "display_data"
    },
    {
     "data": {
      "text/markdown": [
       "<span style=\"font-size:11pt\">Eval-Settings: type: <span style=\"color: #0000ff\">all-at-once</span>, DT-Depth: <span style=\"color: #0000ff\">2</span>, train-test-split:<span style=\"color: #0000ff\"> 33.0% in test-set </span></span>"
      ],
      "text/plain": [
       "<IPython.core.display.Markdown object>"
      ]
     },
     "metadata": {},
     "output_type": "display_data"
    },
    {
     "name": "stderr",
     "output_type": "stream",
     "text": [
      "derive_conceptualspace/evaluate/shallow_trees.py:120: UserWarning: There are more classes (9) than your decision-tree can possibly classify (4)\n"
     ]
    },
    {
     "data": {
      "text/markdown": [
       "<span style=\"font-size:11pt\">Accuracy: 0.33</span>"
      ],
      "text/plain": [
       "<IPython.core.display.Markdown object>"
      ]
     },
     "metadata": {},
     "output_type": "display_data"
    },
    {
     "data": {
      "text/markdown": [
       "<span style=\"font-size:11pt\">====================================================================================================</span>"
      ],
      "text/plain": [
       "<IPython.core.display.Markdown object>"
      ]
     },
     "metadata": {},
     "output_type": "display_data"
    },
    {
     "data": {
      "text/markdown": [
       "<span style=\"font-size:11pt\">Using classes from Foursquare - 391/1383 entities have a class</span>"
      ],
      "text/plain": [
       "<IPython.core.display.Markdown object>"
      ]
     },
     "metadata": {},
     "output_type": "display_data"
    },
    {
     "data": {
      "text/markdown": [
       "<span style=\"font-size:11pt\">Labels (9 classes): <span style=\"color: #0000ff\">Shops&Services</span>: 88, <span style=\"color: #0000ff\">Food</span>: 82, <span style=\"color: #0000ff\">Travel&Transport</span>: 35, <span style=\"color: #0000ff\">Professional&Other</span>: 47, <span style=\"color: #0000ff\">Residences</span>: 6, <span style=\"color: #0000ff\">Arts&Entertainment</span>: 39, <span style=\"color: #0000ff\">NightlifeSpots</span>: 17, <span style=\"color: #0000ff\">GreatOutdoors</span>: 44, <span style=\"color: #0000ff\">College&University</span>: 33</span>"
      ],
      "text/plain": [
       "<IPython.core.display.Markdown object>"
      ]
     },
     "metadata": {},
     "output_type": "display_data"
    },
    {
     "data": {
      "text/markdown": [
       "<span style=\"font-size:11pt\">Eval-Settings: type: <span style=\"color: #0000ff\">all-at-once</span>, DT-Depth: <span style=\"color: #0000ff\">3</span>, train-test-split:<span style=\"color: #0000ff\"> 33.0% in test-set </span></span>"
      ],
      "text/plain": [
       "<IPython.core.display.Markdown object>"
      ]
     },
     "metadata": {},
     "output_type": "display_data"
    },
    {
     "name": "stderr",
     "output_type": "stream",
     "text": [
      "derive_conceptualspace/evaluate/shallow_trees.py:120: UserWarning: There are more classes (9) than your decision-tree can possibly classify (8)\n"
     ]
    },
    {
     "data": {
      "text/markdown": [
       "<span style=\"font-size:11pt\">Accuracy: 0.22</span>"
      ],
      "text/plain": [
       "<IPython.core.display.Markdown object>"
      ]
     },
     "metadata": {},
     "output_type": "display_data"
    },
    {
     "data": {
      "text/markdown": [
       "<span style=\"font-size:11pt\">====================================================================================================</span>"
      ],
      "text/plain": [
       "<IPython.core.display.Markdown object>"
      ]
     },
     "metadata": {},
     "output_type": "display_data"
    },
    {
     "data": {
      "text/markdown": [
       "<span style=\"font-size:11pt\">Using classes from Foursquare - 391/1383 entities have a class</span>"
      ],
      "text/plain": [
       "<IPython.core.display.Markdown object>"
      ]
     },
     "metadata": {},
     "output_type": "display_data"
    },
    {
     "data": {
      "text/markdown": [
       "<span style=\"font-size:11pt\">Labels (9 classes): <span style=\"color: #0000ff\">Shops&Services</span>: 88, <span style=\"color: #0000ff\">Food</span>: 82, <span style=\"color: #0000ff\">Travel&Transport</span>: 35, <span style=\"color: #0000ff\">Professional&Other</span>: 47, <span style=\"color: #0000ff\">Residences</span>: 6, <span style=\"color: #0000ff\">Arts&Entertainment</span>: 39, <span style=\"color: #0000ff\">NightlifeSpots</span>: 17, <span style=\"color: #0000ff\">GreatOutdoors</span>: 44, <span style=\"color: #0000ff\">College&University</span>: 33</span>"
      ],
      "text/plain": [
       "<IPython.core.display.Markdown object>"
      ]
     },
     "metadata": {},
     "output_type": "display_data"
    },
    {
     "data": {
      "text/markdown": [
       "<span style=\"font-size:11pt\">Eval-Settings: type: <span style=\"color: #0000ff\">all-at-once</span>, DT-Depth: <span style=\"color: #0000ff\">3</span>, train-test-split:<span style=\"color: #0000ff\"> 33.0% in test-set </span></span>"
      ],
      "text/plain": [
       "<IPython.core.display.Markdown object>"
      ]
     },
     "metadata": {},
     "output_type": "display_data"
    },
    {
     "name": "stderr",
     "output_type": "stream",
     "text": [
      "derive_conceptualspace/evaluate/shallow_trees.py:120: UserWarning: There are more classes (9) than your decision-tree can possibly classify (8)\n"
     ]
    },
    {
     "data": {
      "text/markdown": [
       "<span style=\"font-size:11pt\">Accuracy: 0.30</span>"
      ],
      "text/plain": [
       "<IPython.core.display.Markdown object>"
      ]
     },
     "metadata": {},
     "output_type": "display_data"
    },
    {
     "data": {
      "text/markdown": [
       "<span style=\"font-size:11pt\">====================================================================================================</span>"
      ],
      "text/plain": [
       "<IPython.core.display.Markdown object>"
      ]
     },
     "metadata": {},
     "output_type": "display_data"
    },
    {
     "data": {
      "text/markdown": [
       "<span style=\"font-size:11pt\">Using classes from Foursquare - 391/1383 entities have a class</span>"
      ],
      "text/plain": [
       "<IPython.core.display.Markdown object>"
      ]
     },
     "metadata": {},
     "output_type": "display_data"
    },
    {
     "data": {
      "text/markdown": [
       "<span style=\"font-size:11pt\">Labels (9 classes): <span style=\"color: #0000ff\">Shops&Services</span>: 88, <span style=\"color: #0000ff\">Food</span>: 82, <span style=\"color: #0000ff\">Travel&Transport</span>: 35, <span style=\"color: #0000ff\">Professional&Other</span>: 47, <span style=\"color: #0000ff\">Residences</span>: 6, <span style=\"color: #0000ff\">Arts&Entertainment</span>: 39, <span style=\"color: #0000ff\">NightlifeSpots</span>: 17, <span style=\"color: #0000ff\">GreatOutdoors</span>: 44, <span style=\"color: #0000ff\">College&University</span>: 33</span>"
      ],
      "text/plain": [
       "<IPython.core.display.Markdown object>"
      ]
     },
     "metadata": {},
     "output_type": "display_data"
    },
    {
     "data": {
      "text/markdown": [
       "<span style=\"font-size:11pt\">Eval-Settings: type: <span style=\"color: #0000ff\">one-vs-rest</span>, DT-Depth: <span style=\"color: #0000ff\">1</span>, train-test-split:<span style=\"color: #0000ff\"> 50.0% in test-set </span></span>"
      ],
      "text/plain": [
       "<IPython.core.display.Markdown object>"
      ]
     },
     "metadata": {},
     "output_type": "display_data"
    },
    {
     "data": {
      "text/markdown": [
       "<span style=\"font-size:11pt\">Per-Class-Scores: College&University: 0.83, NightlifeSpots: 0.57, Residences: 0.88, GreatOutdoors: 0.71, Arts&Entertainment: 0.85, Travel&Transport: 0.72, Food: 0.80, Professional&Other: 0.66, Shops&Services: 0.57</span>"
      ],
      "text/plain": [
       "<IPython.core.display.Markdown object>"
      ]
     },
     "metadata": {},
     "output_type": "display_data"
    },
    {
     "data": {
      "text/markdown": [
       "<span style=\"font-size:11pt\">Unweighted Mean Accuracy: 73.24%</span>"
      ],
      "text/plain": [
       "<IPython.core.display.Markdown object>"
      ]
     },
     "metadata": {},
     "output_type": "display_data"
    },
    {
     "data": {
      "text/markdown": [
       "<span style=\"font-size:11pt\">Weighted Mean Accuracy: 71.38%</span>"
      ],
      "text/plain": [
       "<IPython.core.display.Markdown object>"
      ]
     },
     "metadata": {},
     "output_type": "display_data"
    },
    {
     "data": {
      "text/markdown": [
       "<span style=\"font-size:11pt\">====================================================================================================</span>"
      ],
      "text/plain": [
       "<IPython.core.display.Markdown object>"
      ]
     },
     "metadata": {},
     "output_type": "display_data"
    },
    {
     "data": {
      "text/markdown": [
       "<span style=\"font-size:11pt\">Using classes from Foursquare - 391/1383 entities have a class</span>"
      ],
      "text/plain": [
       "<IPython.core.display.Markdown object>"
      ]
     },
     "metadata": {},
     "output_type": "display_data"
    },
    {
     "data": {
      "text/markdown": [
       "<span style=\"font-size:11pt\">Labels (9 classes): <span style=\"color: #0000ff\">Shops&Services</span>: 88, <span style=\"color: #0000ff\">Food</span>: 82, <span style=\"color: #0000ff\">Travel&Transport</span>: 35, <span style=\"color: #0000ff\">Professional&Other</span>: 47, <span style=\"color: #0000ff\">Residences</span>: 6, <span style=\"color: #0000ff\">Arts&Entertainment</span>: 39, <span style=\"color: #0000ff\">NightlifeSpots</span>: 17, <span style=\"color: #0000ff\">GreatOutdoors</span>: 44, <span style=\"color: #0000ff\">College&University</span>: 33</span>"
      ],
      "text/plain": [
       "<IPython.core.display.Markdown object>"
      ]
     },
     "metadata": {},
     "output_type": "display_data"
    },
    {
     "data": {
      "text/markdown": [
       "<span style=\"font-size:11pt\">Eval-Settings: type: <span style=\"color: #0000ff\">one-vs-rest</span>, DT-Depth: <span style=\"color: #0000ff\">1</span>, train-test-split:<span style=\"color: #0000ff\"> 50.0% in test-set </span></span>"
      ],
      "text/plain": [
       "<IPython.core.display.Markdown object>"
      ]
     },
     "metadata": {},
     "output_type": "display_data"
    },
    {
     "data": {
      "text/markdown": [
       "<span style=\"font-size:11pt\">Per-Class-Scores: College&University: 0.92, NightlifeSpots: 0.96, Residences: 0.96, GreatOutdoors: 0.91, Arts&Entertainment: 0.90, Travel&Transport: 0.91, Food: 0.80, Professional&Other: 0.88, Shops&Services: 0.81</span>"
      ],
      "text/plain": [
       "<IPython.core.display.Markdown object>"
      ]
     },
     "metadata": {},
     "output_type": "display_data"
    },
    {
     "data": {
      "text/markdown": [
       "<span style=\"font-size:11pt\">Unweighted Mean Accuracy: 89.40%</span>"
      ],
      "text/plain": [
       "<IPython.core.display.Markdown object>"
      ]
     },
     "metadata": {},
     "output_type": "display_data"
    },
    {
     "data": {
      "text/markdown": [
       "<span style=\"font-size:11pt\">Weighted Mean Accuracy: 86.26%</span>"
      ],
      "text/plain": [
       "<IPython.core.display.Markdown object>"
      ]
     },
     "metadata": {},
     "output_type": "display_data"
    },
    {
     "data": {
      "text/markdown": [
       "<span style=\"font-size:11pt\">====================================================================================================</span>"
      ],
      "text/plain": [
       "<IPython.core.display.Markdown object>"
      ]
     },
     "metadata": {},
     "output_type": "display_data"
    },
    {
     "data": {
      "text/markdown": [
       "<span style=\"font-size:11pt\">Using classes from Foursquare - 391/1383 entities have a class</span>"
      ],
      "text/plain": [
       "<IPython.core.display.Markdown object>"
      ]
     },
     "metadata": {},
     "output_type": "display_data"
    },
    {
     "data": {
      "text/markdown": [
       "<span style=\"font-size:11pt\">Labels (9 classes): <span style=\"color: #0000ff\">Shops&Services</span>: 88, <span style=\"color: #0000ff\">Food</span>: 82, <span style=\"color: #0000ff\">Travel&Transport</span>: 35, <span style=\"color: #0000ff\">Professional&Other</span>: 47, <span style=\"color: #0000ff\">Residences</span>: 6, <span style=\"color: #0000ff\">Arts&Entertainment</span>: 39, <span style=\"color: #0000ff\">NightlifeSpots</span>: 17, <span style=\"color: #0000ff\">GreatOutdoors</span>: 44, <span style=\"color: #0000ff\">College&University</span>: 33</span>"
      ],
      "text/plain": [
       "<IPython.core.display.Markdown object>"
      ]
     },
     "metadata": {},
     "output_type": "display_data"
    },
    {
     "data": {
      "text/markdown": [
       "<span style=\"font-size:11pt\">Eval-Settings: type: <span style=\"color: #0000ff\">one-vs-rest</span>, DT-Depth: <span style=\"color: #0000ff\">2</span>, train-test-split:<span style=\"color: #0000ff\"> 50.0% in test-set </span></span>"
      ],
      "text/plain": [
       "<IPython.core.display.Markdown object>"
      ]
     },
     "metadata": {},
     "output_type": "display_data"
    },
    {
     "data": {
      "text/markdown": [
       "<span style=\"font-size:11pt\">Per-Class-Scores: College&University: 0.91, NightlifeSpots: 0.89, Residences: 0.91, GreatOutdoors: 0.81, Arts&Entertainment: 0.79, Travel&Transport: 0.71, Food: 0.83, Professional&Other: 0.74, Shops&Services: 0.82</span>"
      ],
      "text/plain": [
       "<IPython.core.display.Markdown object>"
      ]
     },
     "metadata": {},
     "output_type": "display_data"
    },
    {
     "data": {
      "text/markdown": [
       "<span style=\"font-size:11pt\">Unweighted Mean Accuracy: 82.37%</span>"
      ],
      "text/plain": [
       "<IPython.core.display.Markdown object>"
      ]
     },
     "metadata": {},
     "output_type": "display_data"
    },
    {
     "data": {
      "text/markdown": [
       "<span style=\"font-size:11pt\">Weighted Mean Accuracy: 81.04%</span>"
      ],
      "text/plain": [
       "<IPython.core.display.Markdown object>"
      ]
     },
     "metadata": {},
     "output_type": "display_data"
    },
    {
     "data": {
      "text/markdown": [
       "<span style=\"font-size:11pt\">====================================================================================================</span>"
      ],
      "text/plain": [
       "<IPython.core.display.Markdown object>"
      ]
     },
     "metadata": {},
     "output_type": "display_data"
    },
    {
     "data": {
      "text/markdown": [
       "<span style=\"font-size:11pt\">Using classes from Foursquare - 391/1383 entities have a class</span>"
      ],
      "text/plain": [
       "<IPython.core.display.Markdown object>"
      ]
     },
     "metadata": {},
     "output_type": "display_data"
    },
    {
     "data": {
      "text/markdown": [
       "<span style=\"font-size:11pt\">Labels (9 classes): <span style=\"color: #0000ff\">Shops&Services</span>: 88, <span style=\"color: #0000ff\">Food</span>: 82, <span style=\"color: #0000ff\">Travel&Transport</span>: 35, <span style=\"color: #0000ff\">Professional&Other</span>: 47, <span style=\"color: #0000ff\">Residences</span>: 6, <span style=\"color: #0000ff\">Arts&Entertainment</span>: 39, <span style=\"color: #0000ff\">NightlifeSpots</span>: 17, <span style=\"color: #0000ff\">GreatOutdoors</span>: 44, <span style=\"color: #0000ff\">College&University</span>: 33</span>"
      ],
      "text/plain": [
       "<IPython.core.display.Markdown object>"
      ]
     },
     "metadata": {},
     "output_type": "display_data"
    },
    {
     "data": {
      "text/markdown": [
       "<span style=\"font-size:11pt\">Eval-Settings: type: <span style=\"color: #0000ff\">one-vs-rest</span>, DT-Depth: <span style=\"color: #0000ff\">2</span>, train-test-split:<span style=\"color: #0000ff\"> 50.0% in test-set </span></span>"
      ],
      "text/plain": [
       "<IPython.core.display.Markdown object>"
      ]
     },
     "metadata": {},
     "output_type": "display_data"
    },
    {
     "data": {
      "text/markdown": [
       "<span style=\"font-size:11pt\">Per-Class-Scores: College&University: 0.88, NightlifeSpots: 0.96, Residences: 0.98, GreatOutdoors: 0.90, Arts&Entertainment: 0.89, Travel&Transport: 0.86, Food: 0.88, Professional&Other: 0.88, Shops&Services: 0.79</span>"
      ],
      "text/plain": [
       "<IPython.core.display.Markdown object>"
      ]
     },
     "metadata": {},
     "output_type": "display_data"
    },
    {
     "data": {
      "text/markdown": [
       "<span style=\"font-size:11pt\">Unweighted Mean Accuracy: 89.17%</span>"
      ],
      "text/plain": [
       "<IPython.core.display.Markdown object>"
      ]
     },
     "metadata": {},
     "output_type": "display_data"
    },
    {
     "data": {
      "text/markdown": [
       "<span style=\"font-size:11pt\">Weighted Mean Accuracy: 86.67%</span>"
      ],
      "text/plain": [
       "<IPython.core.display.Markdown object>"
      ]
     },
     "metadata": {},
     "output_type": "display_data"
    },
    {
     "data": {
      "text/markdown": [
       "<span style=\"font-size:11pt\">====================================================================================================</span>"
      ],
      "text/plain": [
       "<IPython.core.display.Markdown object>"
      ]
     },
     "metadata": {},
     "output_type": "display_data"
    },
    {
     "data": {
      "text/markdown": [
       "<span style=\"font-size:11pt\">Using classes from Foursquare - 391/1383 entities have a class</span>"
      ],
      "text/plain": [
       "<IPython.core.display.Markdown object>"
      ]
     },
     "metadata": {},
     "output_type": "display_data"
    },
    {
     "data": {
      "text/markdown": [
       "<span style=\"font-size:11pt\">Labels (9 classes): <span style=\"color: #0000ff\">Shops&Services</span>: 88, <span style=\"color: #0000ff\">Food</span>: 82, <span style=\"color: #0000ff\">Travel&Transport</span>: 35, <span style=\"color: #0000ff\">Professional&Other</span>: 47, <span style=\"color: #0000ff\">Residences</span>: 6, <span style=\"color: #0000ff\">Arts&Entertainment</span>: 39, <span style=\"color: #0000ff\">NightlifeSpots</span>: 17, <span style=\"color: #0000ff\">GreatOutdoors</span>: 44, <span style=\"color: #0000ff\">College&University</span>: 33</span>"
      ],
      "text/plain": [
       "<IPython.core.display.Markdown object>"
      ]
     },
     "metadata": {},
     "output_type": "display_data"
    },
    {
     "data": {
      "text/markdown": [
       "<span style=\"font-size:11pt\">Eval-Settings: type: <span style=\"color: #0000ff\">one-vs-rest</span>, DT-Depth: <span style=\"color: #0000ff\">3</span>, train-test-split:<span style=\"color: #0000ff\"> 50.0% in test-set </span></span>"
      ],
      "text/plain": [
       "<IPython.core.display.Markdown object>"
      ]
     },
     "metadata": {},
     "output_type": "display_data"
    },
    {
     "data": {
      "text/markdown": [
       "<span style=\"font-size:11pt\">Per-Class-Scores: College&University: 0.95, NightlifeSpots: 0.84, Residences: 0.89, GreatOutdoors: 0.76, Arts&Entertainment: 0.70, Travel&Transport: 0.84, Food: 0.85, Professional&Other: 0.79, Shops&Services: 0.71</span>"
      ],
      "text/plain": [
       "<IPython.core.display.Markdown object>"
      ]
     },
     "metadata": {},
     "output_type": "display_data"
    },
    {
     "data": {
      "text/markdown": [
       "<span style=\"font-size:11pt\">Unweighted Mean Accuracy: 81.41%</span>"
      ],
      "text/plain": [
       "<IPython.core.display.Markdown object>"
      ]
     },
     "metadata": {},
     "output_type": "display_data"
    },
    {
     "data": {
      "text/markdown": [
       "<span style=\"font-size:11pt\">Weighted Mean Accuracy: 79.33%</span>"
      ],
      "text/plain": [
       "<IPython.core.display.Markdown object>"
      ]
     },
     "metadata": {},
     "output_type": "display_data"
    },
    {
     "data": {
      "text/markdown": [
       "<span style=\"font-size:11pt\">====================================================================================================</span>"
      ],
      "text/plain": [
       "<IPython.core.display.Markdown object>"
      ]
     },
     "metadata": {},
     "output_type": "display_data"
    },
    {
     "data": {
      "text/markdown": [
       "<span style=\"font-size:11pt\">Using classes from Foursquare - 391/1383 entities have a class</span>"
      ],
      "text/plain": [
       "<IPython.core.display.Markdown object>"
      ]
     },
     "metadata": {},
     "output_type": "display_data"
    },
    {
     "data": {
      "text/markdown": [
       "<span style=\"font-size:11pt\">Labels (9 classes): <span style=\"color: #0000ff\">Shops&Services</span>: 88, <span style=\"color: #0000ff\">Food</span>: 82, <span style=\"color: #0000ff\">Travel&Transport</span>: 35, <span style=\"color: #0000ff\">Professional&Other</span>: 47, <span style=\"color: #0000ff\">Residences</span>: 6, <span style=\"color: #0000ff\">Arts&Entertainment</span>: 39, <span style=\"color: #0000ff\">NightlifeSpots</span>: 17, <span style=\"color: #0000ff\">GreatOutdoors</span>: 44, <span style=\"color: #0000ff\">College&University</span>: 33</span>"
      ],
      "text/plain": [
       "<IPython.core.display.Markdown object>"
      ]
     },
     "metadata": {},
     "output_type": "display_data"
    },
    {
     "data": {
      "text/markdown": [
       "<span style=\"font-size:11pt\">Eval-Settings: type: <span style=\"color: #0000ff\">one-vs-rest</span>, DT-Depth: <span style=\"color: #0000ff\">3</span>, train-test-split:<span style=\"color: #0000ff\"> 50.0% in test-set </span></span>"
      ],
      "text/plain": [
       "<IPython.core.display.Markdown object>"
      ]
     },
     "metadata": {},
     "output_type": "display_data"
    },
    {
     "data": {
      "text/markdown": [
       "<span style=\"font-size:11pt\">Per-Class-Scores: College&University: 0.95, NightlifeSpots: 0.93, Residences: 0.98, GreatOutdoors: 0.86, Arts&Entertainment: 0.87, Travel&Transport: 0.92, Food: 0.91, Professional&Other: 0.90, Shops&Services: 0.81</span>"
      ],
      "text/plain": [
       "<IPython.core.display.Markdown object>"
      ]
     },
     "metadata": {},
     "output_type": "display_data"
    },
    {
     "data": {
      "text/markdown": [
       "<span style=\"font-size:11pt\">Unweighted Mean Accuracy: 90.36%</span>"
      ],
      "text/plain": [
       "<IPython.core.display.Markdown object>"
      ]
     },
     "metadata": {},
     "output_type": "display_data"
    },
    {
     "data": {
      "text/markdown": [
       "<span style=\"font-size:11pt\">Weighted Mean Accuracy: 88.37%</span>"
      ],
      "text/plain": [
       "<IPython.core.display.Markdown object>"
      ]
     },
     "metadata": {},
     "output_type": "display_data"
    },
    {
     "data": {
      "text/markdown": [
       "<span style=\"font-size:11pt\">====================================================================================================</span>"
      ],
      "text/plain": [
       "<IPython.core.display.Markdown object>"
      ]
     },
     "metadata": {},
     "output_type": "display_data"
    },
    {
     "data": {
      "text/markdown": [
       "<span style=\"font-size:11pt\">Using classes from Foursquare - 391/1383 entities have a class</span>"
      ],
      "text/plain": [
       "<IPython.core.display.Markdown object>"
      ]
     },
     "metadata": {},
     "output_type": "display_data"
    },
    {
     "data": {
      "text/markdown": [
       "<span style=\"font-size:11pt\">Labels (9 classes): <span style=\"color: #0000ff\">Shops&Services</span>: 88, <span style=\"color: #0000ff\">Food</span>: 82, <span style=\"color: #0000ff\">Travel&Transport</span>: 35, <span style=\"color: #0000ff\">Professional&Other</span>: 47, <span style=\"color: #0000ff\">Residences</span>: 6, <span style=\"color: #0000ff\">Arts&Entertainment</span>: 39, <span style=\"color: #0000ff\">NightlifeSpots</span>: 17, <span style=\"color: #0000ff\">GreatOutdoors</span>: 44, <span style=\"color: #0000ff\">College&University</span>: 33</span>"
      ],
      "text/plain": [
       "<IPython.core.display.Markdown object>"
      ]
     },
     "metadata": {},
     "output_type": "display_data"
    },
    {
     "data": {
      "text/markdown": [
       "<span style=\"font-size:11pt\">Eval-Settings: type: <span style=\"color: #0000ff\">all-at-once</span>, DT-Depth: <span style=\"color: #0000ff\">1</span>, train-test-split:<span style=\"color: #0000ff\"> 50.0% in test-set </span></span>"
      ],
      "text/plain": [
       "<IPython.core.display.Markdown object>"
      ]
     },
     "metadata": {},
     "output_type": "display_data"
    },
    {
     "name": "stderr",
     "output_type": "stream",
     "text": [
      "derive_conceptualspace/evaluate/shallow_trees.py:120: UserWarning: There are more classes (9) than your decision-tree can possibly classify (2)\n"
     ]
    },
    {
     "data": {
      "text/markdown": [
       "<span style=\"font-size:11pt\">Accuracy: 0.24</span>"
      ],
      "text/plain": [
       "<IPython.core.display.Markdown object>"
      ]
     },
     "metadata": {},
     "output_type": "display_data"
    },
    {
     "data": {
      "text/markdown": [
       "<span style=\"font-size:11pt\">Baseline Accuracy: 0.23</span>"
      ],
      "text/plain": [
       "<IPython.core.display.Markdown object>"
      ]
     },
     "metadata": {},
     "output_type": "display_data"
    },
    {
     "data": {
      "text/markdown": [
       "<span style=\"font-size:11pt\">Maximally achievable Accuracy: 0.43</span>"
      ],
      "text/plain": [
       "<IPython.core.display.Markdown object>"
      ]
     },
     "metadata": {},
     "output_type": "display_data"
    },
    {
     "data": {
      "text/markdown": [
       "<span style=\"font-size:11pt\">====================================================================================================</span>"
      ],
      "text/plain": [
       "<IPython.core.display.Markdown object>"
      ]
     },
     "metadata": {},
     "output_type": "display_data"
    },
    {
     "data": {
      "text/markdown": [
       "<span style=\"font-size:11pt\">Using classes from Foursquare - 391/1383 entities have a class</span>"
      ],
      "text/plain": [
       "<IPython.core.display.Markdown object>"
      ]
     },
     "metadata": {},
     "output_type": "display_data"
    },
    {
     "data": {
      "text/markdown": [
       "<span style=\"font-size:11pt\">Labels (9 classes): <span style=\"color: #0000ff\">Shops&Services</span>: 88, <span style=\"color: #0000ff\">Food</span>: 82, <span style=\"color: #0000ff\">Travel&Transport</span>: 35, <span style=\"color: #0000ff\">Professional&Other</span>: 47, <span style=\"color: #0000ff\">Residences</span>: 6, <span style=\"color: #0000ff\">Arts&Entertainment</span>: 39, <span style=\"color: #0000ff\">NightlifeSpots</span>: 17, <span style=\"color: #0000ff\">GreatOutdoors</span>: 44, <span style=\"color: #0000ff\">College&University</span>: 33</span>"
      ],
      "text/plain": [
       "<IPython.core.display.Markdown object>"
      ]
     },
     "metadata": {},
     "output_type": "display_data"
    },
    {
     "data": {
      "text/markdown": [
       "<span style=\"font-size:11pt\">Eval-Settings: type: <span style=\"color: #0000ff\">all-at-once</span>, DT-Depth: <span style=\"color: #0000ff\">1</span>, train-test-split:<span style=\"color: #0000ff\"> 50.0% in test-set </span></span>"
      ],
      "text/plain": [
       "<IPython.core.display.Markdown object>"
      ]
     },
     "metadata": {},
     "output_type": "display_data"
    },
    {
     "name": "stderr",
     "output_type": "stream",
     "text": [
      "derive_conceptualspace/evaluate/shallow_trees.py:120: UserWarning: There are more classes (9) than your decision-tree can possibly classify (2)\n"
     ]
    },
    {
     "data": {
      "text/markdown": [
       "<span style=\"font-size:11pt\">Accuracy: 0.30</span>"
      ],
      "text/plain": [
       "<IPython.core.display.Markdown object>"
      ]
     },
     "metadata": {},
     "output_type": "display_data"
    },
    {
     "data": {
      "text/markdown": [
       "<span style=\"font-size:11pt\">Baseline Accuracy: 0.23</span>"
      ],
      "text/plain": [
       "<IPython.core.display.Markdown object>"
      ]
     },
     "metadata": {},
     "output_type": "display_data"
    },
    {
     "data": {
      "text/markdown": [
       "<span style=\"font-size:11pt\">Maximally achievable Accuracy: 0.43</span>"
      ],
      "text/plain": [
       "<IPython.core.display.Markdown object>"
      ]
     },
     "metadata": {},
     "output_type": "display_data"
    },
    {
     "data": {
      "text/markdown": [
       "<span style=\"font-size:11pt\">====================================================================================================</span>"
      ],
      "text/plain": [
       "<IPython.core.display.Markdown object>"
      ]
     },
     "metadata": {},
     "output_type": "display_data"
    },
    {
     "data": {
      "text/markdown": [
       "<span style=\"font-size:11pt\">Using classes from Foursquare - 391/1383 entities have a class</span>"
      ],
      "text/plain": [
       "<IPython.core.display.Markdown object>"
      ]
     },
     "metadata": {},
     "output_type": "display_data"
    },
    {
     "data": {
      "text/markdown": [
       "<span style=\"font-size:11pt\">Labels (9 classes): <span style=\"color: #0000ff\">Shops&Services</span>: 88, <span style=\"color: #0000ff\">Food</span>: 82, <span style=\"color: #0000ff\">Travel&Transport</span>: 35, <span style=\"color: #0000ff\">Professional&Other</span>: 47, <span style=\"color: #0000ff\">Residences</span>: 6, <span style=\"color: #0000ff\">Arts&Entertainment</span>: 39, <span style=\"color: #0000ff\">NightlifeSpots</span>: 17, <span style=\"color: #0000ff\">GreatOutdoors</span>: 44, <span style=\"color: #0000ff\">College&University</span>: 33</span>"
      ],
      "text/plain": [
       "<IPython.core.display.Markdown object>"
      ]
     },
     "metadata": {},
     "output_type": "display_data"
    },
    {
     "data": {
      "text/markdown": [
       "<span style=\"font-size:11pt\">Eval-Settings: type: <span style=\"color: #0000ff\">all-at-once</span>, DT-Depth: <span style=\"color: #0000ff\">2</span>, train-test-split:<span style=\"color: #0000ff\"> 50.0% in test-set </span></span>"
      ],
      "text/plain": [
       "<IPython.core.display.Markdown object>"
      ]
     },
     "metadata": {},
     "output_type": "display_data"
    },
    {
     "name": "stderr",
     "output_type": "stream",
     "text": [
      "derive_conceptualspace/evaluate/shallow_trees.py:120: UserWarning: There are more classes (9) than your decision-tree can possibly classify (4)\n"
     ]
    },
    {
     "data": {
      "text/markdown": [
       "<span style=\"font-size:11pt\">Accuracy: 0.11</span>"
      ],
      "text/plain": [
       "<IPython.core.display.Markdown object>"
      ]
     },
     "metadata": {},
     "output_type": "display_data"
    },
    {
     "data": {
      "text/markdown": [
       "<span style=\"font-size:11pt\">====================================================================================================</span>"
      ],
      "text/plain": [
       "<IPython.core.display.Markdown object>"
      ]
     },
     "metadata": {},
     "output_type": "display_data"
    },
    {
     "data": {
      "text/markdown": [
       "<span style=\"font-size:11pt\">Using classes from Foursquare - 391/1383 entities have a class</span>"
      ],
      "text/plain": [
       "<IPython.core.display.Markdown object>"
      ]
     },
     "metadata": {},
     "output_type": "display_data"
    },
    {
     "data": {
      "text/markdown": [
       "<span style=\"font-size:11pt\">Labels (9 classes): <span style=\"color: #0000ff\">Shops&Services</span>: 88, <span style=\"color: #0000ff\">Food</span>: 82, <span style=\"color: #0000ff\">Travel&Transport</span>: 35, <span style=\"color: #0000ff\">Professional&Other</span>: 47, <span style=\"color: #0000ff\">Residences</span>: 6, <span style=\"color: #0000ff\">Arts&Entertainment</span>: 39, <span style=\"color: #0000ff\">NightlifeSpots</span>: 17, <span style=\"color: #0000ff\">GreatOutdoors</span>: 44, <span style=\"color: #0000ff\">College&University</span>: 33</span>"
      ],
      "text/plain": [
       "<IPython.core.display.Markdown object>"
      ]
     },
     "metadata": {},
     "output_type": "display_data"
    },
    {
     "data": {
      "text/markdown": [
       "<span style=\"font-size:11pt\">Eval-Settings: type: <span style=\"color: #0000ff\">all-at-once</span>, DT-Depth: <span style=\"color: #0000ff\">2</span>, train-test-split:<span style=\"color: #0000ff\"> 50.0% in test-set </span></span>"
      ],
      "text/plain": [
       "<IPython.core.display.Markdown object>"
      ]
     },
     "metadata": {},
     "output_type": "display_data"
    },
    {
     "name": "stderr",
     "output_type": "stream",
     "text": [
      "derive_conceptualspace/evaluate/shallow_trees.py:120: UserWarning: There are more classes (9) than your decision-tree can possibly classify (4)\n"
     ]
    },
    {
     "data": {
      "text/markdown": [
       "<span style=\"font-size:11pt\">Accuracy: 0.35</span>"
      ],
      "text/plain": [
       "<IPython.core.display.Markdown object>"
      ]
     },
     "metadata": {},
     "output_type": "display_data"
    },
    {
     "data": {
      "text/markdown": [
       "<span style=\"font-size:11pt\">====================================================================================================</span>"
      ],
      "text/plain": [
       "<IPython.core.display.Markdown object>"
      ]
     },
     "metadata": {},
     "output_type": "display_data"
    },
    {
     "data": {
      "text/markdown": [
       "<span style=\"font-size:11pt\">Using classes from Foursquare - 391/1383 entities have a class</span>"
      ],
      "text/plain": [
       "<IPython.core.display.Markdown object>"
      ]
     },
     "metadata": {},
     "output_type": "display_data"
    },
    {
     "data": {
      "text/markdown": [
       "<span style=\"font-size:11pt\">Labels (9 classes): <span style=\"color: #0000ff\">Shops&Services</span>: 88, <span style=\"color: #0000ff\">Food</span>: 82, <span style=\"color: #0000ff\">Travel&Transport</span>: 35, <span style=\"color: #0000ff\">Professional&Other</span>: 47, <span style=\"color: #0000ff\">Residences</span>: 6, <span style=\"color: #0000ff\">Arts&Entertainment</span>: 39, <span style=\"color: #0000ff\">NightlifeSpots</span>: 17, <span style=\"color: #0000ff\">GreatOutdoors</span>: 44, <span style=\"color: #0000ff\">College&University</span>: 33</span>"
      ],
      "text/plain": [
       "<IPython.core.display.Markdown object>"
      ]
     },
     "metadata": {},
     "output_type": "display_data"
    },
    {
     "data": {
      "text/markdown": [
       "<span style=\"font-size:11pt\">Eval-Settings: type: <span style=\"color: #0000ff\">all-at-once</span>, DT-Depth: <span style=\"color: #0000ff\">3</span>, train-test-split:<span style=\"color: #0000ff\"> 50.0% in test-set </span></span>"
      ],
      "text/plain": [
       "<IPython.core.display.Markdown object>"
      ]
     },
     "metadata": {},
     "output_type": "display_data"
    },
    {
     "name": "stderr",
     "output_type": "stream",
     "text": [
      "derive_conceptualspace/evaluate/shallow_trees.py:120: UserWarning: There are more classes (9) than your decision-tree can possibly classify (8)\n"
     ]
    },
    {
     "data": {
      "text/markdown": [
       "<span style=\"font-size:11pt\">Accuracy: 0.25</span>"
      ],
      "text/plain": [
       "<IPython.core.display.Markdown object>"
      ]
     },
     "metadata": {},
     "output_type": "display_data"
    },
    {
     "data": {
      "text/markdown": [
       "<span style=\"font-size:11pt\">====================================================================================================</span>"
      ],
      "text/plain": [
       "<IPython.core.display.Markdown object>"
      ]
     },
     "metadata": {},
     "output_type": "display_data"
    },
    {
     "data": {
      "text/markdown": [
       "<span style=\"font-size:11pt\">Using classes from Foursquare - 391/1383 entities have a class</span>"
      ],
      "text/plain": [
       "<IPython.core.display.Markdown object>"
      ]
     },
     "metadata": {},
     "output_type": "display_data"
    },
    {
     "data": {
      "text/markdown": [
       "<span style=\"font-size:11pt\">Labels (9 classes): <span style=\"color: #0000ff\">Shops&Services</span>: 88, <span style=\"color: #0000ff\">Food</span>: 82, <span style=\"color: #0000ff\">Travel&Transport</span>: 35, <span style=\"color: #0000ff\">Professional&Other</span>: 47, <span style=\"color: #0000ff\">Residences</span>: 6, <span style=\"color: #0000ff\">Arts&Entertainment</span>: 39, <span style=\"color: #0000ff\">NightlifeSpots</span>: 17, <span style=\"color: #0000ff\">GreatOutdoors</span>: 44, <span style=\"color: #0000ff\">College&University</span>: 33</span>"
      ],
      "text/plain": [
       "<IPython.core.display.Markdown object>"
      ]
     },
     "metadata": {},
     "output_type": "display_data"
    },
    {
     "data": {
      "text/markdown": [
       "<span style=\"font-size:11pt\">Eval-Settings: type: <span style=\"color: #0000ff\">all-at-once</span>, DT-Depth: <span style=\"color: #0000ff\">3</span>, train-test-split:<span style=\"color: #0000ff\"> 50.0% in test-set </span></span>"
      ],
      "text/plain": [
       "<IPython.core.display.Markdown object>"
      ]
     },
     "metadata": {},
     "output_type": "display_data"
    },
    {
     "name": "stderr",
     "output_type": "stream",
     "text": [
      "derive_conceptualspace/evaluate/shallow_trees.py:120: UserWarning: There are more classes (9) than your decision-tree can possibly classify (8)\n"
     ]
    },
    {
     "data": {
      "text/markdown": [
       "<span style=\"font-size:11pt\">Accuracy: 0.32</span>"
      ],
      "text/plain": [
       "<IPython.core.display.Markdown object>"
      ]
     },
     "metadata": {},
     "output_type": "display_data"
    },
    {
     "data": {
      "text/markdown": [
       "<span style=\"font-size:11pt\">====================================================================================================</span>"
      ],
      "text/plain": [
       "<IPython.core.display.Markdown object>"
      ]
     },
     "metadata": {},
     "output_type": "display_data"
    },
    {
     "data": {
      "text/markdown": [
       "<span style=\"font-size:11pt\">Using classes from Foursquare - 391/1383 entities have a class</span>"
      ],
      "text/plain": [
       "<IPython.core.display.Markdown object>"
      ]
     },
     "metadata": {},
     "output_type": "display_data"
    },
    {
     "data": {
      "text/markdown": [
       "<span style=\"font-size:11pt\">Labels (9 classes): <span style=\"color: #0000ff\">Shops&Services</span>: 88, <span style=\"color: #0000ff\">Food</span>: 82, <span style=\"color: #0000ff\">Travel&Transport</span>: 35, <span style=\"color: #0000ff\">Professional&Other</span>: 47, <span style=\"color: #0000ff\">Residences</span>: 6, <span style=\"color: #0000ff\">Arts&Entertainment</span>: 39, <span style=\"color: #0000ff\">NightlifeSpots</span>: 17, <span style=\"color: #0000ff\">GreatOutdoors</span>: 44, <span style=\"color: #0000ff\">College&University</span>: 33</span>"
      ],
      "text/plain": [
       "<IPython.core.display.Markdown object>"
      ]
     },
     "metadata": {},
     "output_type": "display_data"
    },
    {
     "data": {
      "text/markdown": [
       "<span style=\"font-size:11pt\">Eval-Settings: type: <span style=\"color: #0000ff\">one-vs-rest</span>, DT-Depth: <span style=\"color: #0000ff\">1</span>, train-test-split:<span style=\"color: #0000ff\"> 4-fold cross-validation </span></span>"
      ],
      "text/plain": [
       "<IPython.core.display.Markdown object>"
      ]
     },
     "metadata": {},
     "output_type": "display_data"
    },
    {
     "data": {
      "text/markdown": [
       "<span style=\"font-size:11pt\">Per-Class-Scores: College&University: 0.84, NightlifeSpots: 0.53, Residences: 0.96, GreatOutdoors: 0.70, Arts&Entertainment: 0.70, Travel&Transport: 0.69, Food: 0.80, Professional&Other: 0.67, Shops&Services: 0.57</span>"
      ],
      "text/plain": [
       "<IPython.core.display.Markdown object>"
      ]
     },
     "metadata": {},
     "output_type": "display_data"
    },
    {
     "data": {
      "text/markdown": [
       "<span style=\"font-size:11pt\">Unweighted Mean Accuracy: 71.78%</span>"
      ],
      "text/plain": [
       "<IPython.core.display.Markdown object>"
      ]
     },
     "metadata": {},
     "output_type": "display_data"
    },
    {
     "data": {
      "text/markdown": [
       "<span style=\"font-size:11pt\">Weighted Mean Accuracy: 69.55%</span>"
      ],
      "text/plain": [
       "<IPython.core.display.Markdown object>"
      ]
     },
     "metadata": {},
     "output_type": "display_data"
    },
    {
     "data": {
      "text/markdown": [
       "<span style=\"font-size:11pt\">====================================================================================================</span>"
      ],
      "text/plain": [
       "<IPython.core.display.Markdown object>"
      ]
     },
     "metadata": {},
     "output_type": "display_data"
    },
    {
     "data": {
      "text/markdown": [
       "<span style=\"font-size:11pt\">Using classes from Foursquare - 391/1383 entities have a class</span>"
      ],
      "text/plain": [
       "<IPython.core.display.Markdown object>"
      ]
     },
     "metadata": {},
     "output_type": "display_data"
    },
    {
     "data": {
      "text/markdown": [
       "<span style=\"font-size:11pt\">Labels (9 classes): <span style=\"color: #0000ff\">Shops&Services</span>: 88, <span style=\"color: #0000ff\">Food</span>: 82, <span style=\"color: #0000ff\">Travel&Transport</span>: 35, <span style=\"color: #0000ff\">Professional&Other</span>: 47, <span style=\"color: #0000ff\">Residences</span>: 6, <span style=\"color: #0000ff\">Arts&Entertainment</span>: 39, <span style=\"color: #0000ff\">NightlifeSpots</span>: 17, <span style=\"color: #0000ff\">GreatOutdoors</span>: 44, <span style=\"color: #0000ff\">College&University</span>: 33</span>"
      ],
      "text/plain": [
       "<IPython.core.display.Markdown object>"
      ]
     },
     "metadata": {},
     "output_type": "display_data"
    },
    {
     "data": {
      "text/markdown": [
       "<span style=\"font-size:11pt\">Eval-Settings: type: <span style=\"color: #0000ff\">one-vs-rest</span>, DT-Depth: <span style=\"color: #0000ff\">1</span>, train-test-split:<span style=\"color: #0000ff\"> 4-fold cross-validation </span></span>"
      ],
      "text/plain": [
       "<IPython.core.display.Markdown object>"
      ]
     },
     "metadata": {},
     "output_type": "display_data"
    },
    {
     "data": {
      "text/markdown": [
       "<span style=\"font-size:11pt\">Per-Class-Scores: College&University: 0.90, NightlifeSpots: 0.95, Residences: 0.98, GreatOutdoors: 0.91, Arts&Entertainment: 0.89, Travel&Transport: 0.90, Food: 0.82, Professional&Other: 0.87, Shops&Services: 0.74</span>"
      ],
      "text/plain": [
       "<IPython.core.display.Markdown object>"
      ]
     },
     "metadata": {},
     "output_type": "display_data"
    },
    {
     "data": {
      "text/markdown": [
       "<span style=\"font-size:11pt\">Unweighted Mean Accuracy: 88.46%</span>"
      ],
      "text/plain": [
       "<IPython.core.display.Markdown object>"
      ]
     },
     "metadata": {},
     "output_type": "display_data"
    },
    {
     "data": {
      "text/markdown": [
       "<span style=\"font-size:11pt\">Weighted Mean Accuracy: 84.70%</span>"
      ],
      "text/plain": [
       "<IPython.core.display.Markdown object>"
      ]
     },
     "metadata": {},
     "output_type": "display_data"
    },
    {
     "data": {
      "text/markdown": [
       "<span style=\"font-size:11pt\">====================================================================================================</span>"
      ],
      "text/plain": [
       "<IPython.core.display.Markdown object>"
      ]
     },
     "metadata": {},
     "output_type": "display_data"
    },
    {
     "data": {
      "text/markdown": [
       "<span style=\"font-size:11pt\">Using classes from Foursquare - 391/1383 entities have a class</span>"
      ],
      "text/plain": [
       "<IPython.core.display.Markdown object>"
      ]
     },
     "metadata": {},
     "output_type": "display_data"
    },
    {
     "data": {
      "text/markdown": [
       "<span style=\"font-size:11pt\">Labels (9 classes): <span style=\"color: #0000ff\">Shops&Services</span>: 88, <span style=\"color: #0000ff\">Food</span>: 82, <span style=\"color: #0000ff\">Travel&Transport</span>: 35, <span style=\"color: #0000ff\">Professional&Other</span>: 47, <span style=\"color: #0000ff\">Residences</span>: 6, <span style=\"color: #0000ff\">Arts&Entertainment</span>: 39, <span style=\"color: #0000ff\">NightlifeSpots</span>: 17, <span style=\"color: #0000ff\">GreatOutdoors</span>: 44, <span style=\"color: #0000ff\">College&University</span>: 33</span>"
      ],
      "text/plain": [
       "<IPython.core.display.Markdown object>"
      ]
     },
     "metadata": {},
     "output_type": "display_data"
    },
    {
     "data": {
      "text/markdown": [
       "<span style=\"font-size:11pt\">Eval-Settings: type: <span style=\"color: #0000ff\">one-vs-rest</span>, DT-Depth: <span style=\"color: #0000ff\">2</span>, train-test-split:<span style=\"color: #0000ff\"> 4-fold cross-validation </span></span>"
      ],
      "text/plain": [
       "<IPython.core.display.Markdown object>"
      ]
     },
     "metadata": {},
     "output_type": "display_data"
    },
    {
     "data": {
      "text/markdown": [
       "<span style=\"font-size:11pt\">Per-Class-Scores: College&University: 0.90, NightlifeSpots: 0.83, Residences: 0.91, GreatOutdoors: 0.79, Arts&Entertainment: 0.65, Travel&Transport: 0.73, Food: 0.84, Professional&Other: 0.71, Shops&Services: 0.78</span>"
      ],
      "text/plain": [
       "<IPython.core.display.Markdown object>"
      ]
     },
     "metadata": {},
     "output_type": "display_data"
    },
    {
     "data": {
      "text/markdown": [
       "<span style=\"font-size:11pt\">Unweighted Mean Accuracy: 79.31%</span>"
      ],
      "text/plain": [
       "<IPython.core.display.Markdown object>"
      ]
     },
     "metadata": {},
     "output_type": "display_data"
    },
    {
     "data": {
      "text/markdown": [
       "<span style=\"font-size:11pt\">Weighted Mean Accuracy: 78.23%</span>"
      ],
      "text/plain": [
       "<IPython.core.display.Markdown object>"
      ]
     },
     "metadata": {},
     "output_type": "display_data"
    },
    {
     "data": {
      "text/markdown": [
       "<span style=\"font-size:11pt\">====================================================================================================</span>"
      ],
      "text/plain": [
       "<IPython.core.display.Markdown object>"
      ]
     },
     "metadata": {},
     "output_type": "display_data"
    },
    {
     "data": {
      "text/markdown": [
       "<span style=\"font-size:11pt\">Using classes from Foursquare - 391/1383 entities have a class</span>"
      ],
      "text/plain": [
       "<IPython.core.display.Markdown object>"
      ]
     },
     "metadata": {},
     "output_type": "display_data"
    },
    {
     "data": {
      "text/markdown": [
       "<span style=\"font-size:11pt\">Labels (9 classes): <span style=\"color: #0000ff\">Shops&Services</span>: 88, <span style=\"color: #0000ff\">Food</span>: 82, <span style=\"color: #0000ff\">Travel&Transport</span>: 35, <span style=\"color: #0000ff\">Professional&Other</span>: 47, <span style=\"color: #0000ff\">Residences</span>: 6, <span style=\"color: #0000ff\">Arts&Entertainment</span>: 39, <span style=\"color: #0000ff\">NightlifeSpots</span>: 17, <span style=\"color: #0000ff\">GreatOutdoors</span>: 44, <span style=\"color: #0000ff\">College&University</span>: 33</span>"
      ],
      "text/plain": [
       "<IPython.core.display.Markdown object>"
      ]
     },
     "metadata": {},
     "output_type": "display_data"
    },
    {
     "data": {
      "text/markdown": [
       "<span style=\"font-size:11pt\">Eval-Settings: type: <span style=\"color: #0000ff\">one-vs-rest</span>, DT-Depth: <span style=\"color: #0000ff\">2</span>, train-test-split:<span style=\"color: #0000ff\"> 4-fold cross-validation </span></span>"
      ],
      "text/plain": [
       "<IPython.core.display.Markdown object>"
      ]
     },
     "metadata": {},
     "output_type": "display_data"
    },
    {
     "data": {
      "text/markdown": [
       "<span style=\"font-size:11pt\">Per-Class-Scores: College&University: 0.94, NightlifeSpots: 0.94, Residences: 0.98, GreatOutdoors: 0.89, Arts&Entertainment: 0.87, Travel&Transport: 0.91, Food: 0.84, Professional&Other: 0.88, Shops&Services: 0.79</span>"
      ],
      "text/plain": [
       "<IPython.core.display.Markdown object>"
      ]
     },
     "metadata": {},
     "output_type": "display_data"
    },
    {
     "data": {
      "text/markdown": [
       "<span style=\"font-size:11pt\">Unweighted Mean Accuracy: 89.20%</span>"
      ],
      "text/plain": [
       "<IPython.core.display.Markdown object>"
      ]
     },
     "metadata": {},
     "output_type": "display_data"
    },
    {
     "data": {
      "text/markdown": [
       "<span style=\"font-size:11pt\">Weighted Mean Accuracy: 86.29%</span>"
      ],
      "text/plain": [
       "<IPython.core.display.Markdown object>"
      ]
     },
     "metadata": {},
     "output_type": "display_data"
    },
    {
     "data": {
      "text/markdown": [
       "<span style=\"font-size:11pt\">====================================================================================================</span>"
      ],
      "text/plain": [
       "<IPython.core.display.Markdown object>"
      ]
     },
     "metadata": {},
     "output_type": "display_data"
    },
    {
     "data": {
      "text/markdown": [
       "<span style=\"font-size:11pt\">Using classes from Foursquare - 391/1383 entities have a class</span>"
      ],
      "text/plain": [
       "<IPython.core.display.Markdown object>"
      ]
     },
     "metadata": {},
     "output_type": "display_data"
    },
    {
     "data": {
      "text/markdown": [
       "<span style=\"font-size:11pt\">Labels (9 classes): <span style=\"color: #0000ff\">Shops&Services</span>: 88, <span style=\"color: #0000ff\">Food</span>: 82, <span style=\"color: #0000ff\">Travel&Transport</span>: 35, <span style=\"color: #0000ff\">Professional&Other</span>: 47, <span style=\"color: #0000ff\">Residences</span>: 6, <span style=\"color: #0000ff\">Arts&Entertainment</span>: 39, <span style=\"color: #0000ff\">NightlifeSpots</span>: 17, <span style=\"color: #0000ff\">GreatOutdoors</span>: 44, <span style=\"color: #0000ff\">College&University</span>: 33</span>"
      ],
      "text/plain": [
       "<IPython.core.display.Markdown object>"
      ]
     },
     "metadata": {},
     "output_type": "display_data"
    },
    {
     "data": {
      "text/markdown": [
       "<span style=\"font-size:11pt\">Eval-Settings: type: <span style=\"color: #0000ff\">one-vs-rest</span>, DT-Depth: <span style=\"color: #0000ff\">3</span>, train-test-split:<span style=\"color: #0000ff\"> 4-fold cross-validation </span></span>"
      ],
      "text/plain": [
       "<IPython.core.display.Markdown object>"
      ]
     },
     "metadata": {},
     "output_type": "display_data"
    },
    {
     "data": {
      "text/markdown": [
       "<span style=\"font-size:11pt\">Per-Class-Scores: College&University: 0.95, NightlifeSpots: 0.88, Residences: 0.99, GreatOutdoors: 0.80, Arts&Entertainment: 0.74, Travel&Transport: 0.76, Food: 0.84, Professional&Other: 0.74, Shops&Services: 0.67</span>"
      ],
      "text/plain": [
       "<IPython.core.display.Markdown object>"
      ]
     },
     "metadata": {},
     "output_type": "display_data"
    },
    {
     "data": {
      "text/markdown": [
       "<span style=\"font-size:11pt\">Unweighted Mean Accuracy: 81.76%</span>"
      ],
      "text/plain": [
       "<IPython.core.display.Markdown object>"
      ]
     },
     "metadata": {},
     "output_type": "display_data"
    },
    {
     "data": {
      "text/markdown": [
       "<span style=\"font-size:11pt\">Weighted Mean Accuracy: 78.01%</span>"
      ],
      "text/plain": [
       "<IPython.core.display.Markdown object>"
      ]
     },
     "metadata": {},
     "output_type": "display_data"
    },
    {
     "data": {
      "text/markdown": [
       "<span style=\"font-size:11pt\">====================================================================================================</span>"
      ],
      "text/plain": [
       "<IPython.core.display.Markdown object>"
      ]
     },
     "metadata": {},
     "output_type": "display_data"
    },
    {
     "data": {
      "text/markdown": [
       "<span style=\"font-size:11pt\">Using classes from Foursquare - 391/1383 entities have a class</span>"
      ],
      "text/plain": [
       "<IPython.core.display.Markdown object>"
      ]
     },
     "metadata": {},
     "output_type": "display_data"
    },
    {
     "data": {
      "text/markdown": [
       "<span style=\"font-size:11pt\">Labels (9 classes): <span style=\"color: #0000ff\">Shops&Services</span>: 88, <span style=\"color: #0000ff\">Food</span>: 82, <span style=\"color: #0000ff\">Travel&Transport</span>: 35, <span style=\"color: #0000ff\">Professional&Other</span>: 47, <span style=\"color: #0000ff\">Residences</span>: 6, <span style=\"color: #0000ff\">Arts&Entertainment</span>: 39, <span style=\"color: #0000ff\">NightlifeSpots</span>: 17, <span style=\"color: #0000ff\">GreatOutdoors</span>: 44, <span style=\"color: #0000ff\">College&University</span>: 33</span>"
      ],
      "text/plain": [
       "<IPython.core.display.Markdown object>"
      ]
     },
     "metadata": {},
     "output_type": "display_data"
    },
    {
     "data": {
      "text/markdown": [
       "<span style=\"font-size:11pt\">Eval-Settings: type: <span style=\"color: #0000ff\">one-vs-rest</span>, DT-Depth: <span style=\"color: #0000ff\">3</span>, train-test-split:<span style=\"color: #0000ff\"> 4-fold cross-validation </span></span>"
      ],
      "text/plain": [
       "<IPython.core.display.Markdown object>"
      ]
     },
     "metadata": {},
     "output_type": "display_data"
    },
    {
     "data": {
      "text/markdown": [
       "<span style=\"font-size:11pt\">Per-Class-Scores: College&University: 0.95, NightlifeSpots: 0.94, Residences: 0.97, GreatOutdoors: 0.88, Arts&Entertainment: 0.86, Travel&Transport: 0.90, Food: 0.89, Professional&Other: 0.88, Shops&Services: 0.79</span>"
      ],
      "text/plain": [
       "<IPython.core.display.Markdown object>"
      ]
     },
     "metadata": {},
     "output_type": "display_data"
    },
    {
     "data": {
      "text/markdown": [
       "<span style=\"font-size:11pt\">Unweighted Mean Accuracy: 89.57%</span>"
      ],
      "text/plain": [
       "<IPython.core.display.Markdown object>"
      ]
     },
     "metadata": {},
     "output_type": "display_data"
    },
    {
     "data": {
      "text/markdown": [
       "<span style=\"font-size:11pt\">Weighted Mean Accuracy: 87.17%</span>"
      ],
      "text/plain": [
       "<IPython.core.display.Markdown object>"
      ]
     },
     "metadata": {},
     "output_type": "display_data"
    },
    {
     "data": {
      "text/markdown": [
       "<span style=\"font-size:11pt\">====================================================================================================</span>"
      ],
      "text/plain": [
       "<IPython.core.display.Markdown object>"
      ]
     },
     "metadata": {},
     "output_type": "display_data"
    },
    {
     "data": {
      "text/markdown": [
       "<span style=\"font-size:11pt\">Using classes from Foursquare - 391/1383 entities have a class</span>"
      ],
      "text/plain": [
       "<IPython.core.display.Markdown object>"
      ]
     },
     "metadata": {},
     "output_type": "display_data"
    },
    {
     "data": {
      "text/markdown": [
       "<span style=\"font-size:11pt\">Labels (9 classes): <span style=\"color: #0000ff\">Shops&Services</span>: 88, <span style=\"color: #0000ff\">Food</span>: 82, <span style=\"color: #0000ff\">Travel&Transport</span>: 35, <span style=\"color: #0000ff\">Professional&Other</span>: 47, <span style=\"color: #0000ff\">Residences</span>: 6, <span style=\"color: #0000ff\">Arts&Entertainment</span>: 39, <span style=\"color: #0000ff\">NightlifeSpots</span>: 17, <span style=\"color: #0000ff\">GreatOutdoors</span>: 44, <span style=\"color: #0000ff\">College&University</span>: 33</span>"
      ],
      "text/plain": [
       "<IPython.core.display.Markdown object>"
      ]
     },
     "metadata": {},
     "output_type": "display_data"
    },
    {
     "data": {
      "text/markdown": [
       "<span style=\"font-size:11pt\">Eval-Settings: type: <span style=\"color: #0000ff\">all-at-once</span>, DT-Depth: <span style=\"color: #0000ff\">1</span>, train-test-split:<span style=\"color: #0000ff\"> 4-fold cross-validation </span></span>"
      ],
      "text/plain": [
       "<IPython.core.display.Markdown object>"
      ]
     },
     "metadata": {},
     "output_type": "display_data"
    },
    {
     "name": "stderr",
     "output_type": "stream",
     "text": [
      "derive_conceptualspace/evaluate/shallow_trees.py:120: UserWarning: There are more classes (9) than your decision-tree can possibly classify (2)\n"
     ]
    },
    {
     "data": {
      "text/markdown": [
       "<span style=\"font-size:11pt\">Accuracy: 0.18</span>"
      ],
      "text/plain": [
       "<IPython.core.display.Markdown object>"
      ]
     },
     "metadata": {},
     "output_type": "display_data"
    },
    {
     "data": {
      "text/markdown": [
       "<span style=\"font-size:11pt\">Baseline Accuracy: 0.23</span>"
      ],
      "text/plain": [
       "<IPython.core.display.Markdown object>"
      ]
     },
     "metadata": {},
     "output_type": "display_data"
    },
    {
     "data": {
      "text/markdown": [
       "<span style=\"font-size:11pt\">Maximally achievable Accuracy: 0.43</span>"
      ],
      "text/plain": [
       "<IPython.core.display.Markdown object>"
      ]
     },
     "metadata": {},
     "output_type": "display_data"
    },
    {
     "data": {
      "text/markdown": [
       "<span style=\"font-size:11pt\">====================================================================================================</span>"
      ],
      "text/plain": [
       "<IPython.core.display.Markdown object>"
      ]
     },
     "metadata": {},
     "output_type": "display_data"
    },
    {
     "data": {
      "text/markdown": [
       "<span style=\"font-size:11pt\">Using classes from Foursquare - 391/1383 entities have a class</span>"
      ],
      "text/plain": [
       "<IPython.core.display.Markdown object>"
      ]
     },
     "metadata": {},
     "output_type": "display_data"
    },
    {
     "data": {
      "text/markdown": [
       "<span style=\"font-size:11pt\">Labels (9 classes): <span style=\"color: #0000ff\">Shops&Services</span>: 88, <span style=\"color: #0000ff\">Food</span>: 82, <span style=\"color: #0000ff\">Travel&Transport</span>: 35, <span style=\"color: #0000ff\">Professional&Other</span>: 47, <span style=\"color: #0000ff\">Residences</span>: 6, <span style=\"color: #0000ff\">Arts&Entertainment</span>: 39, <span style=\"color: #0000ff\">NightlifeSpots</span>: 17, <span style=\"color: #0000ff\">GreatOutdoors</span>: 44, <span style=\"color: #0000ff\">College&University</span>: 33</span>"
      ],
      "text/plain": [
       "<IPython.core.display.Markdown object>"
      ]
     },
     "metadata": {},
     "output_type": "display_data"
    },
    {
     "data": {
      "text/markdown": [
       "<span style=\"font-size:11pt\">Eval-Settings: type: <span style=\"color: #0000ff\">all-at-once</span>, DT-Depth: <span style=\"color: #0000ff\">1</span>, train-test-split:<span style=\"color: #0000ff\"> 4-fold cross-validation </span></span>"
      ],
      "text/plain": [
       "<IPython.core.display.Markdown object>"
      ]
     },
     "metadata": {},
     "output_type": "display_data"
    },
    {
     "name": "stderr",
     "output_type": "stream",
     "text": [
      "derive_conceptualspace/evaluate/shallow_trees.py:120: UserWarning: There are more classes (9) than your decision-tree can possibly classify (2)\n"
     ]
    },
    {
     "data": {
      "text/markdown": [
       "<span style=\"font-size:11pt\">Accuracy: 0.30</span>"
      ],
      "text/plain": [
       "<IPython.core.display.Markdown object>"
      ]
     },
     "metadata": {},
     "output_type": "display_data"
    },
    {
     "data": {
      "text/markdown": [
       "<span style=\"font-size:11pt\">Baseline Accuracy: 0.23</span>"
      ],
      "text/plain": [
       "<IPython.core.display.Markdown object>"
      ]
     },
     "metadata": {},
     "output_type": "display_data"
    },
    {
     "data": {
      "text/markdown": [
       "<span style=\"font-size:11pt\">Maximally achievable Accuracy: 0.43</span>"
      ],
      "text/plain": [
       "<IPython.core.display.Markdown object>"
      ]
     },
     "metadata": {},
     "output_type": "display_data"
    },
    {
     "data": {
      "text/markdown": [
       "<span style=\"font-size:11pt\">====================================================================================================</span>"
      ],
      "text/plain": [
       "<IPython.core.display.Markdown object>"
      ]
     },
     "metadata": {},
     "output_type": "display_data"
    },
    {
     "data": {
      "text/markdown": [
       "<span style=\"font-size:11pt\">Using classes from Foursquare - 391/1383 entities have a class</span>"
      ],
      "text/plain": [
       "<IPython.core.display.Markdown object>"
      ]
     },
     "metadata": {},
     "output_type": "display_data"
    },
    {
     "data": {
      "text/markdown": [
       "<span style=\"font-size:11pt\">Labels (9 classes): <span style=\"color: #0000ff\">Shops&Services</span>: 88, <span style=\"color: #0000ff\">Food</span>: 82, <span style=\"color: #0000ff\">Travel&Transport</span>: 35, <span style=\"color: #0000ff\">Professional&Other</span>: 47, <span style=\"color: #0000ff\">Residences</span>: 6, <span style=\"color: #0000ff\">Arts&Entertainment</span>: 39, <span style=\"color: #0000ff\">NightlifeSpots</span>: 17, <span style=\"color: #0000ff\">GreatOutdoors</span>: 44, <span style=\"color: #0000ff\">College&University</span>: 33</span>"
      ],
      "text/plain": [
       "<IPython.core.display.Markdown object>"
      ]
     },
     "metadata": {},
     "output_type": "display_data"
    },
    {
     "data": {
      "text/markdown": [
       "<span style=\"font-size:11pt\">Eval-Settings: type: <span style=\"color: #0000ff\">all-at-once</span>, DT-Depth: <span style=\"color: #0000ff\">2</span>, train-test-split:<span style=\"color: #0000ff\"> 4-fold cross-validation </span></span>"
      ],
      "text/plain": [
       "<IPython.core.display.Markdown object>"
      ]
     },
     "metadata": {},
     "output_type": "display_data"
    },
    {
     "name": "stderr",
     "output_type": "stream",
     "text": [
      "derive_conceptualspace/evaluate/shallow_trees.py:120: UserWarning: There are more classes (9) than your decision-tree can possibly classify (4)\n"
     ]
    },
    {
     "data": {
      "text/markdown": [
       "<span style=\"font-size:11pt\">Accuracy: 0.18</span>"
      ],
      "text/plain": [
       "<IPython.core.display.Markdown object>"
      ]
     },
     "metadata": {},
     "output_type": "display_data"
    },
    {
     "data": {
      "text/markdown": [
       "<span style=\"font-size:11pt\">====================================================================================================</span>"
      ],
      "text/plain": [
       "<IPython.core.display.Markdown object>"
      ]
     },
     "metadata": {},
     "output_type": "display_data"
    },
    {
     "data": {
      "text/markdown": [
       "<span style=\"font-size:11pt\">Using classes from Foursquare - 391/1383 entities have a class</span>"
      ],
      "text/plain": [
       "<IPython.core.display.Markdown object>"
      ]
     },
     "metadata": {},
     "output_type": "display_data"
    },
    {
     "data": {
      "text/markdown": [
       "<span style=\"font-size:11pt\">Labels (9 classes): <span style=\"color: #0000ff\">Shops&Services</span>: 88, <span style=\"color: #0000ff\">Food</span>: 82, <span style=\"color: #0000ff\">Travel&Transport</span>: 35, <span style=\"color: #0000ff\">Professional&Other</span>: 47, <span style=\"color: #0000ff\">Residences</span>: 6, <span style=\"color: #0000ff\">Arts&Entertainment</span>: 39, <span style=\"color: #0000ff\">NightlifeSpots</span>: 17, <span style=\"color: #0000ff\">GreatOutdoors</span>: 44, <span style=\"color: #0000ff\">College&University</span>: 33</span>"
      ],
      "text/plain": [
       "<IPython.core.display.Markdown object>"
      ]
     },
     "metadata": {},
     "output_type": "display_data"
    },
    {
     "data": {
      "text/markdown": [
       "<span style=\"font-size:11pt\">Eval-Settings: type: <span style=\"color: #0000ff\">all-at-once</span>, DT-Depth: <span style=\"color: #0000ff\">2</span>, train-test-split:<span style=\"color: #0000ff\"> 4-fold cross-validation </span></span>"
      ],
      "text/plain": [
       "<IPython.core.display.Markdown object>"
      ]
     },
     "metadata": {},
     "output_type": "display_data"
    },
    {
     "name": "stderr",
     "output_type": "stream",
     "text": [
      "derive_conceptualspace/evaluate/shallow_trees.py:120: UserWarning: There are more classes (9) than your decision-tree can possibly classify (4)\n"
     ]
    },
    {
     "data": {
      "text/markdown": [
       "<span style=\"font-size:11pt\">Accuracy: 0.35</span>"
      ],
      "text/plain": [
       "<IPython.core.display.Markdown object>"
      ]
     },
     "metadata": {},
     "output_type": "display_data"
    },
    {
     "data": {
      "text/markdown": [
       "<span style=\"font-size:11pt\">====================================================================================================</span>"
      ],
      "text/plain": [
       "<IPython.core.display.Markdown object>"
      ]
     },
     "metadata": {},
     "output_type": "display_data"
    },
    {
     "data": {
      "text/markdown": [
       "<span style=\"font-size:11pt\">Using classes from Foursquare - 391/1383 entities have a class</span>"
      ],
      "text/plain": [
       "<IPython.core.display.Markdown object>"
      ]
     },
     "metadata": {},
     "output_type": "display_data"
    },
    {
     "data": {
      "text/markdown": [
       "<span style=\"font-size:11pt\">Labels (9 classes): <span style=\"color: #0000ff\">Shops&Services</span>: 88, <span style=\"color: #0000ff\">Food</span>: 82, <span style=\"color: #0000ff\">Travel&Transport</span>: 35, <span style=\"color: #0000ff\">Professional&Other</span>: 47, <span style=\"color: #0000ff\">Residences</span>: 6, <span style=\"color: #0000ff\">Arts&Entertainment</span>: 39, <span style=\"color: #0000ff\">NightlifeSpots</span>: 17, <span style=\"color: #0000ff\">GreatOutdoors</span>: 44, <span style=\"color: #0000ff\">College&University</span>: 33</span>"
      ],
      "text/plain": [
       "<IPython.core.display.Markdown object>"
      ]
     },
     "metadata": {},
     "output_type": "display_data"
    },
    {
     "data": {
      "text/markdown": [
       "<span style=\"font-size:11pt\">Eval-Settings: type: <span style=\"color: #0000ff\">all-at-once</span>, DT-Depth: <span style=\"color: #0000ff\">3</span>, train-test-split:<span style=\"color: #0000ff\"> 4-fold cross-validation </span></span>"
      ],
      "text/plain": [
       "<IPython.core.display.Markdown object>"
      ]
     },
     "metadata": {},
     "output_type": "display_data"
    },
    {
     "name": "stderr",
     "output_type": "stream",
     "text": [
      "derive_conceptualspace/evaluate/shallow_trees.py:120: UserWarning: There are more classes (9) than your decision-tree can possibly classify (8)\n"
     ]
    },
    {
     "data": {
      "text/markdown": [
       "<span style=\"font-size:11pt\">Accuracy: 0.24</span>"
      ],
      "text/plain": [
       "<IPython.core.display.Markdown object>"
      ]
     },
     "metadata": {},
     "output_type": "display_data"
    },
    {
     "data": {
      "text/markdown": [
       "<span style=\"font-size:11pt\">====================================================================================================</span>"
      ],
      "text/plain": [
       "<IPython.core.display.Markdown object>"
      ]
     },
     "metadata": {},
     "output_type": "display_data"
    },
    {
     "data": {
      "text/markdown": [
       "<span style=\"font-size:11pt\">Using classes from Foursquare - 391/1383 entities have a class</span>"
      ],
      "text/plain": [
       "<IPython.core.display.Markdown object>"
      ]
     },
     "metadata": {},
     "output_type": "display_data"
    },
    {
     "data": {
      "text/markdown": [
       "<span style=\"font-size:11pt\">Labels (9 classes): <span style=\"color: #0000ff\">Shops&Services</span>: 88, <span style=\"color: #0000ff\">Food</span>: 82, <span style=\"color: #0000ff\">Travel&Transport</span>: 35, <span style=\"color: #0000ff\">Professional&Other</span>: 47, <span style=\"color: #0000ff\">Residences</span>: 6, <span style=\"color: #0000ff\">Arts&Entertainment</span>: 39, <span style=\"color: #0000ff\">NightlifeSpots</span>: 17, <span style=\"color: #0000ff\">GreatOutdoors</span>: 44, <span style=\"color: #0000ff\">College&University</span>: 33</span>"
      ],
      "text/plain": [
       "<IPython.core.display.Markdown object>"
      ]
     },
     "metadata": {},
     "output_type": "display_data"
    },
    {
     "data": {
      "text/markdown": [
       "<span style=\"font-size:11pt\">Eval-Settings: type: <span style=\"color: #0000ff\">all-at-once</span>, DT-Depth: <span style=\"color: #0000ff\">3</span>, train-test-split:<span style=\"color: #0000ff\"> 4-fold cross-validation </span></span>"
      ],
      "text/plain": [
       "<IPython.core.display.Markdown object>"
      ]
     },
     "metadata": {},
     "output_type": "display_data"
    },
    {
     "name": "stderr",
     "output_type": "stream",
     "text": [
      "derive_conceptualspace/evaluate/shallow_trees.py:120: UserWarning: There are more classes (9) than your decision-tree can possibly classify (8)\n"
     ]
    },
    {
     "data": {
      "text/markdown": [
       "<span style=\"font-size:11pt\">Accuracy: 0.39</span>"
      ],
      "text/plain": [
       "<IPython.core.display.Markdown object>"
      ]
     },
     "metadata": {},
     "output_type": "display_data"
    },
    {
     "data": {
      "text/markdown": [
       "<span style=\"font-size:11pt\">====================================================================================================</span>"
      ],
      "text/plain": [
       "<IPython.core.display.Markdown object>"
      ]
     },
     "metadata": {},
     "output_type": "display_data"
    },
    {
     "data": {
      "text/markdown": [
       "<span style=\"font-size:11pt\">Using classes from Foursquare - 391/1383 entities have a class</span>"
      ],
      "text/plain": [
       "<IPython.core.display.Markdown object>"
      ]
     },
     "metadata": {},
     "output_type": "display_data"
    },
    {
     "data": {
      "text/markdown": [
       "<span style=\"font-size:11pt\">Labels (9 classes): <span style=\"color: #0000ff\">Shops&Services</span>: 88, <span style=\"color: #0000ff\">Food</span>: 82, <span style=\"color: #0000ff\">Travel&Transport</span>: 35, <span style=\"color: #0000ff\">Professional&Other</span>: 47, <span style=\"color: #0000ff\">Residences</span>: 6, <span style=\"color: #0000ff\">Arts&Entertainment</span>: 39, <span style=\"color: #0000ff\">NightlifeSpots</span>: 17, <span style=\"color: #0000ff\">GreatOutdoors</span>: 44, <span style=\"color: #0000ff\">College&University</span>: 33</span>"
      ],
      "text/plain": [
       "<IPython.core.display.Markdown object>"
      ]
     },
     "metadata": {},
     "output_type": "display_data"
    },
    {
     "data": {
      "text/markdown": [
       "<span style=\"font-size:11pt\">Eval-Settings: type: <span style=\"color: #0000ff\">one-vs-rest</span>, DT-Depth: <span style=\"color: #0000ff\">1</span>, train-test-split:<span style=\"color: #0000ff\"> 5-fold cross-validation </span></span>"
      ],
      "text/plain": [
       "<IPython.core.display.Markdown object>"
      ]
     },
     "metadata": {},
     "output_type": "display_data"
    },
    {
     "data": {
      "text/markdown": [
       "<span style=\"font-size:11pt\">Per-Class-Scores: College&University: 0.85, NightlifeSpots: 0.50, Residences: 0.96, GreatOutdoors: 0.70, Arts&Entertainment: 0.69, Travel&Transport: 0.60, Food: 0.80, Professional&Other: 0.66, Shops&Services: 0.48</span>"
      ],
      "text/plain": [
       "<IPython.core.display.Markdown object>"
      ]
     },
     "metadata": {},
     "output_type": "display_data"
    },
    {
     "data": {
      "text/markdown": [
       "<span style=\"font-size:11pt\">Unweighted Mean Accuracy: 69.35%</span>"
      ],
      "text/plain": [
       "<IPython.core.display.Markdown object>"
      ]
     },
     "metadata": {},
     "output_type": "display_data"
    },
    {
     "data": {
      "text/markdown": [
       "<span style=\"font-size:11pt\">Weighted Mean Accuracy: 66.42%</span>"
      ],
      "text/plain": [
       "<IPython.core.display.Markdown object>"
      ]
     },
     "metadata": {},
     "output_type": "display_data"
    },
    {
     "data": {
      "text/markdown": [
       "<span style=\"font-size:11pt\">====================================================================================================</span>"
      ],
      "text/plain": [
       "<IPython.core.display.Markdown object>"
      ]
     },
     "metadata": {},
     "output_type": "display_data"
    },
    {
     "data": {
      "text/markdown": [
       "<span style=\"font-size:11pt\">Using classes from Foursquare - 391/1383 entities have a class</span>"
      ],
      "text/plain": [
       "<IPython.core.display.Markdown object>"
      ]
     },
     "metadata": {},
     "output_type": "display_data"
    },
    {
     "data": {
      "text/markdown": [
       "<span style=\"font-size:11pt\">Labels (9 classes): <span style=\"color: #0000ff\">Shops&Services</span>: 88, <span style=\"color: #0000ff\">Food</span>: 82, <span style=\"color: #0000ff\">Travel&Transport</span>: 35, <span style=\"color: #0000ff\">Professional&Other</span>: 47, <span style=\"color: #0000ff\">Residences</span>: 6, <span style=\"color: #0000ff\">Arts&Entertainment</span>: 39, <span style=\"color: #0000ff\">NightlifeSpots</span>: 17, <span style=\"color: #0000ff\">GreatOutdoors</span>: 44, <span style=\"color: #0000ff\">College&University</span>: 33</span>"
      ],
      "text/plain": [
       "<IPython.core.display.Markdown object>"
      ]
     },
     "metadata": {},
     "output_type": "display_data"
    },
    {
     "data": {
      "text/markdown": [
       "<span style=\"font-size:11pt\">Eval-Settings: type: <span style=\"color: #0000ff\">one-vs-rest</span>, DT-Depth: <span style=\"color: #0000ff\">1</span>, train-test-split:<span style=\"color: #0000ff\"> 5-fold cross-validation </span></span>"
      ],
      "text/plain": [
       "<IPython.core.display.Markdown object>"
      ]
     },
     "metadata": {},
     "output_type": "display_data"
    },
    {
     "data": {
      "text/markdown": [
       "<span style=\"font-size:11pt\">Per-Class-Scores: College&University: 0.90, NightlifeSpots: 0.95, Residences: 0.97, GreatOutdoors: 0.91, Arts&Entertainment: 0.90, Travel&Transport: 0.90, Food: 0.83, Professional&Other: 0.86, Shops&Services: 0.72</span>"
      ],
      "text/plain": [
       "<IPython.core.display.Markdown object>"
      ]
     },
     "metadata": {},
     "output_type": "display_data"
    },
    {
     "data": {
      "text/markdown": [
       "<span style=\"font-size:11pt\">Unweighted Mean Accuracy: 88.32%</span>"
      ],
      "text/plain": [
       "<IPython.core.display.Markdown object>"
      ]
     },
     "metadata": {},
     "output_type": "display_data"
    },
    {
     "data": {
      "text/markdown": [
       "<span style=\"font-size:11pt\">Weighted Mean Accuracy: 84.40%</span>"
      ],
      "text/plain": [
       "<IPython.core.display.Markdown object>"
      ]
     },
     "metadata": {},
     "output_type": "display_data"
    },
    {
     "data": {
      "text/markdown": [
       "<span style=\"font-size:11pt\">====================================================================================================</span>"
      ],
      "text/plain": [
       "<IPython.core.display.Markdown object>"
      ]
     },
     "metadata": {},
     "output_type": "display_data"
    },
    {
     "data": {
      "text/markdown": [
       "<span style=\"font-size:11pt\">Using classes from Foursquare - 391/1383 entities have a class</span>"
      ],
      "text/plain": [
       "<IPython.core.display.Markdown object>"
      ]
     },
     "metadata": {},
     "output_type": "display_data"
    },
    {
     "data": {
      "text/markdown": [
       "<span style=\"font-size:11pt\">Labels (9 classes): <span style=\"color: #0000ff\">Shops&Services</span>: 88, <span style=\"color: #0000ff\">Food</span>: 82, <span style=\"color: #0000ff\">Travel&Transport</span>: 35, <span style=\"color: #0000ff\">Professional&Other</span>: 47, <span style=\"color: #0000ff\">Residences</span>: 6, <span style=\"color: #0000ff\">Arts&Entertainment</span>: 39, <span style=\"color: #0000ff\">NightlifeSpots</span>: 17, <span style=\"color: #0000ff\">GreatOutdoors</span>: 44, <span style=\"color: #0000ff\">College&University</span>: 33</span>"
      ],
      "text/plain": [
       "<IPython.core.display.Markdown object>"
      ]
     },
     "metadata": {},
     "output_type": "display_data"
    },
    {
     "data": {
      "text/markdown": [
       "<span style=\"font-size:11pt\">Eval-Settings: type: <span style=\"color: #0000ff\">one-vs-rest</span>, DT-Depth: <span style=\"color: #0000ff\">2</span>, train-test-split:<span style=\"color: #0000ff\"> 5-fold cross-validation </span></span>"
      ],
      "text/plain": [
       "<IPython.core.display.Markdown object>"
      ]
     },
     "metadata": {},
     "output_type": "display_data"
    },
    {
     "data": {
      "text/markdown": [
       "<span style=\"font-size:11pt\">Per-Class-Scores: College&University: 0.91, NightlifeSpots: 0.78, Residences: 0.90, GreatOutdoors: 0.77, Arts&Entertainment: 0.61, Travel&Transport: 0.68, Food: 0.86, Professional&Other: 0.66, Shops&Services: 0.74</span>"
      ],
      "text/plain": [
       "<IPython.core.display.Markdown object>"
      ]
     },
     "metadata": {},
     "output_type": "display_data"
    },
    {
     "data": {
      "text/markdown": [
       "<span style=\"font-size:11pt\">Unweighted Mean Accuracy: 76.59%</span>"
      ],
      "text/plain": [
       "<IPython.core.display.Markdown object>"
      ]
     },
     "metadata": {},
     "output_type": "display_data"
    },
    {
     "data": {
      "text/markdown": [
       "<span style=\"font-size:11pt\">Weighted Mean Accuracy: 75.69%</span>"
      ],
      "text/plain": [
       "<IPython.core.display.Markdown object>"
      ]
     },
     "metadata": {},
     "output_type": "display_data"
    },
    {
     "data": {
      "text/markdown": [
       "<span style=\"font-size:11pt\">====================================================================================================</span>"
      ],
      "text/plain": [
       "<IPython.core.display.Markdown object>"
      ]
     },
     "metadata": {},
     "output_type": "display_data"
    },
    {
     "data": {
      "text/markdown": [
       "<span style=\"font-size:11pt\">Using classes from Foursquare - 391/1383 entities have a class</span>"
      ],
      "text/plain": [
       "<IPython.core.display.Markdown object>"
      ]
     },
     "metadata": {},
     "output_type": "display_data"
    },
    {
     "data": {
      "text/markdown": [
       "<span style=\"font-size:11pt\">Labels (9 classes): <span style=\"color: #0000ff\">Shops&Services</span>: 88, <span style=\"color: #0000ff\">Food</span>: 82, <span style=\"color: #0000ff\">Travel&Transport</span>: 35, <span style=\"color: #0000ff\">Professional&Other</span>: 47, <span style=\"color: #0000ff\">Residences</span>: 6, <span style=\"color: #0000ff\">Arts&Entertainment</span>: 39, <span style=\"color: #0000ff\">NightlifeSpots</span>: 17, <span style=\"color: #0000ff\">GreatOutdoors</span>: 44, <span style=\"color: #0000ff\">College&University</span>: 33</span>"
      ],
      "text/plain": [
       "<IPython.core.display.Markdown object>"
      ]
     },
     "metadata": {},
     "output_type": "display_data"
    },
    {
     "data": {
      "text/markdown": [
       "<span style=\"font-size:11pt\">Eval-Settings: type: <span style=\"color: #0000ff\">one-vs-rest</span>, DT-Depth: <span style=\"color: #0000ff\">2</span>, train-test-split:<span style=\"color: #0000ff\"> 5-fold cross-validation </span></span>"
      ],
      "text/plain": [
       "<IPython.core.display.Markdown object>"
      ]
     },
     "metadata": {},
     "output_type": "display_data"
    },
    {
     "data": {
      "text/markdown": [
       "<span style=\"font-size:11pt\">Per-Class-Scores: College&University: 0.94, NightlifeSpots: 0.93, Residences: 0.98, GreatOutdoors: 0.89, Arts&Entertainment: 0.87, Travel&Transport: 0.91, Food: 0.85, Professional&Other: 0.86, Shops&Services: 0.79</span>"
      ],
      "text/plain": [
       "<IPython.core.display.Markdown object>"
      ]
     },
     "metadata": {},
     "output_type": "display_data"
    },
    {
     "data": {
      "text/markdown": [
       "<span style=\"font-size:11pt\">Unweighted Mean Accuracy: 89.11%</span>"
      ],
      "text/plain": [
       "<IPython.core.display.Markdown object>"
      ]
     },
     "metadata": {},
     "output_type": "display_data"
    },
    {
     "data": {
      "text/markdown": [
       "<span style=\"font-size:11pt\">Weighted Mean Accuracy: 86.25%</span>"
      ],
      "text/plain": [
       "<IPython.core.display.Markdown object>"
      ]
     },
     "metadata": {},
     "output_type": "display_data"
    },
    {
     "data": {
      "text/markdown": [
       "<span style=\"font-size:11pt\">====================================================================================================</span>"
      ],
      "text/plain": [
       "<IPython.core.display.Markdown object>"
      ]
     },
     "metadata": {},
     "output_type": "display_data"
    },
    {
     "data": {
      "text/markdown": [
       "<span style=\"font-size:11pt\">Using classes from Foursquare - 391/1383 entities have a class</span>"
      ],
      "text/plain": [
       "<IPython.core.display.Markdown object>"
      ]
     },
     "metadata": {},
     "output_type": "display_data"
    },
    {
     "data": {
      "text/markdown": [
       "<span style=\"font-size:11pt\">Labels (9 classes): <span style=\"color: #0000ff\">Shops&Services</span>: 88, <span style=\"color: #0000ff\">Food</span>: 82, <span style=\"color: #0000ff\">Travel&Transport</span>: 35, <span style=\"color: #0000ff\">Professional&Other</span>: 47, <span style=\"color: #0000ff\">Residences</span>: 6, <span style=\"color: #0000ff\">Arts&Entertainment</span>: 39, <span style=\"color: #0000ff\">NightlifeSpots</span>: 17, <span style=\"color: #0000ff\">GreatOutdoors</span>: 44, <span style=\"color: #0000ff\">College&University</span>: 33</span>"
      ],
      "text/plain": [
       "<IPython.core.display.Markdown object>"
      ]
     },
     "metadata": {},
     "output_type": "display_data"
    },
    {
     "data": {
      "text/markdown": [
       "<span style=\"font-size:11pt\">Eval-Settings: type: <span style=\"color: #0000ff\">one-vs-rest</span>, DT-Depth: <span style=\"color: #0000ff\">3</span>, train-test-split:<span style=\"color: #0000ff\"> 5-fold cross-validation </span></span>"
      ],
      "text/plain": [
       "<IPython.core.display.Markdown object>"
      ]
     },
     "metadata": {},
     "output_type": "display_data"
    },
    {
     "data": {
      "text/markdown": [
       "<span style=\"font-size:11pt\">Per-Class-Scores: College&University: 0.95, NightlifeSpots: 0.85, Residences: 0.98, GreatOutdoors: 0.78, Arts&Entertainment: 0.70, Travel&Transport: 0.74, Food: 0.86, Professional&Other: 0.72, Shops&Services: 0.71</span>"
      ],
      "text/plain": [
       "<IPython.core.display.Markdown object>"
      ]
     },
     "metadata": {},
     "output_type": "display_data"
    },
    {
     "data": {
      "text/markdown": [
       "<span style=\"font-size:11pt\">Unweighted Mean Accuracy: 81.03%</span>"
      ],
      "text/plain": [
       "<IPython.core.display.Markdown object>"
      ]
     },
     "metadata": {},
     "output_type": "display_data"
    },
    {
     "data": {
      "text/markdown": [
       "<span style=\"font-size:11pt\">Weighted Mean Accuracy: 78.31%</span>"
      ],
      "text/plain": [
       "<IPython.core.display.Markdown object>"
      ]
     },
     "metadata": {},
     "output_type": "display_data"
    },
    {
     "data": {
      "text/markdown": [
       "<span style=\"font-size:11pt\">====================================================================================================</span>"
      ],
      "text/plain": [
       "<IPython.core.display.Markdown object>"
      ]
     },
     "metadata": {},
     "output_type": "display_data"
    },
    {
     "data": {
      "text/markdown": [
       "<span style=\"font-size:11pt\">Using classes from Foursquare - 391/1383 entities have a class</span>"
      ],
      "text/plain": [
       "<IPython.core.display.Markdown object>"
      ]
     },
     "metadata": {},
     "output_type": "display_data"
    },
    {
     "data": {
      "text/markdown": [
       "<span style=\"font-size:11pt\">Labels (9 classes): <span style=\"color: #0000ff\">Shops&Services</span>: 88, <span style=\"color: #0000ff\">Food</span>: 82, <span style=\"color: #0000ff\">Travel&Transport</span>: 35, <span style=\"color: #0000ff\">Professional&Other</span>: 47, <span style=\"color: #0000ff\">Residences</span>: 6, <span style=\"color: #0000ff\">Arts&Entertainment</span>: 39, <span style=\"color: #0000ff\">NightlifeSpots</span>: 17, <span style=\"color: #0000ff\">GreatOutdoors</span>: 44, <span style=\"color: #0000ff\">College&University</span>: 33</span>"
      ],
      "text/plain": [
       "<IPython.core.display.Markdown object>"
      ]
     },
     "metadata": {},
     "output_type": "display_data"
    },
    {
     "data": {
      "text/markdown": [
       "<span style=\"font-size:11pt\">Eval-Settings: type: <span style=\"color: #0000ff\">one-vs-rest</span>, DT-Depth: <span style=\"color: #0000ff\">3</span>, train-test-split:<span style=\"color: #0000ff\"> 5-fold cross-validation </span></span>"
      ],
      "text/plain": [
       "<IPython.core.display.Markdown object>"
      ]
     },
     "metadata": {},
     "output_type": "display_data"
    },
    {
     "data": {
      "text/markdown": [
       "<span style=\"font-size:11pt\">Per-Class-Scores: College&University: 0.94, NightlifeSpots: 0.94, Residences: 0.98, GreatOutdoors: 0.88, Arts&Entertainment: 0.85, Travel&Transport: 0.90, Food: 0.88, Professional&Other: 0.85, Shops&Services: 0.81</span>"
      ],
      "text/plain": [
       "<IPython.core.display.Markdown object>"
      ]
     },
     "metadata": {},
     "output_type": "display_data"
    },
    {
     "data": {
      "text/markdown": [
       "<span style=\"font-size:11pt\">Unweighted Mean Accuracy: 89.20%</span>"
      ],
      "text/plain": [
       "<IPython.core.display.Markdown object>"
      ]
     },
     "metadata": {},
     "output_type": "display_data"
    },
    {
     "data": {
      "text/markdown": [
       "<span style=\"font-size:11pt\">Weighted Mean Accuracy: 86.78%</span>"
      ],
      "text/plain": [
       "<IPython.core.display.Markdown object>"
      ]
     },
     "metadata": {},
     "output_type": "display_data"
    },
    {
     "data": {
      "text/markdown": [
       "<span style=\"font-size:11pt\">====================================================================================================</span>"
      ],
      "text/plain": [
       "<IPython.core.display.Markdown object>"
      ]
     },
     "metadata": {},
     "output_type": "display_data"
    },
    {
     "data": {
      "text/markdown": [
       "<span style=\"font-size:11pt\">Using classes from Foursquare - 391/1383 entities have a class</span>"
      ],
      "text/plain": [
       "<IPython.core.display.Markdown object>"
      ]
     },
     "metadata": {},
     "output_type": "display_data"
    },
    {
     "data": {
      "text/markdown": [
       "<span style=\"font-size:11pt\">Labels (9 classes): <span style=\"color: #0000ff\">Shops&Services</span>: 88, <span style=\"color: #0000ff\">Food</span>: 82, <span style=\"color: #0000ff\">Travel&Transport</span>: 35, <span style=\"color: #0000ff\">Professional&Other</span>: 47, <span style=\"color: #0000ff\">Residences</span>: 6, <span style=\"color: #0000ff\">Arts&Entertainment</span>: 39, <span style=\"color: #0000ff\">NightlifeSpots</span>: 17, <span style=\"color: #0000ff\">GreatOutdoors</span>: 44, <span style=\"color: #0000ff\">College&University</span>: 33</span>"
      ],
      "text/plain": [
       "<IPython.core.display.Markdown object>"
      ]
     },
     "metadata": {},
     "output_type": "display_data"
    },
    {
     "data": {
      "text/markdown": [
       "<span style=\"font-size:11pt\">Eval-Settings: type: <span style=\"color: #0000ff\">all-at-once</span>, DT-Depth: <span style=\"color: #0000ff\">1</span>, train-test-split:<span style=\"color: #0000ff\"> 5-fold cross-validation </span></span>"
      ],
      "text/plain": [
       "<IPython.core.display.Markdown object>"
      ]
     },
     "metadata": {},
     "output_type": "display_data"
    },
    {
     "name": "stderr",
     "output_type": "stream",
     "text": [
      "derive_conceptualspace/evaluate/shallow_trees.py:120: UserWarning: There are more classes (9) than your decision-tree can possibly classify (2)\n"
     ]
    },
    {
     "data": {
      "text/markdown": [
       "<span style=\"font-size:11pt\">Accuracy: 0.22</span>"
      ],
      "text/plain": [
       "<IPython.core.display.Markdown object>"
      ]
     },
     "metadata": {},
     "output_type": "display_data"
    },
    {
     "data": {
      "text/markdown": [
       "<span style=\"font-size:11pt\">Baseline Accuracy: 0.23</span>"
      ],
      "text/plain": [
       "<IPython.core.display.Markdown object>"
      ]
     },
     "metadata": {},
     "output_type": "display_data"
    },
    {
     "data": {
      "text/markdown": [
       "<span style=\"font-size:11pt\">Maximally achievable Accuracy: 0.43</span>"
      ],
      "text/plain": [
       "<IPython.core.display.Markdown object>"
      ]
     },
     "metadata": {},
     "output_type": "display_data"
    },
    {
     "data": {
      "text/markdown": [
       "<span style=\"font-size:11pt\">====================================================================================================</span>"
      ],
      "text/plain": [
       "<IPython.core.display.Markdown object>"
      ]
     },
     "metadata": {},
     "output_type": "display_data"
    },
    {
     "data": {
      "text/markdown": [
       "<span style=\"font-size:11pt\">Using classes from Foursquare - 391/1383 entities have a class</span>"
      ],
      "text/plain": [
       "<IPython.core.display.Markdown object>"
      ]
     },
     "metadata": {},
     "output_type": "display_data"
    },
    {
     "data": {
      "text/markdown": [
       "<span style=\"font-size:11pt\">Labels (9 classes): <span style=\"color: #0000ff\">Shops&Services</span>: 88, <span style=\"color: #0000ff\">Food</span>: 82, <span style=\"color: #0000ff\">Travel&Transport</span>: 35, <span style=\"color: #0000ff\">Professional&Other</span>: 47, <span style=\"color: #0000ff\">Residences</span>: 6, <span style=\"color: #0000ff\">Arts&Entertainment</span>: 39, <span style=\"color: #0000ff\">NightlifeSpots</span>: 17, <span style=\"color: #0000ff\">GreatOutdoors</span>: 44, <span style=\"color: #0000ff\">College&University</span>: 33</span>"
      ],
      "text/plain": [
       "<IPython.core.display.Markdown object>"
      ]
     },
     "metadata": {},
     "output_type": "display_data"
    },
    {
     "data": {
      "text/markdown": [
       "<span style=\"font-size:11pt\">Eval-Settings: type: <span style=\"color: #0000ff\">all-at-once</span>, DT-Depth: <span style=\"color: #0000ff\">1</span>, train-test-split:<span style=\"color: #0000ff\"> 5-fold cross-validation </span></span>"
      ],
      "text/plain": [
       "<IPython.core.display.Markdown object>"
      ]
     },
     "metadata": {},
     "output_type": "display_data"
    },
    {
     "name": "stderr",
     "output_type": "stream",
     "text": [
      "derive_conceptualspace/evaluate/shallow_trees.py:120: UserWarning: There are more classes (9) than your decision-tree can possibly classify (2)\n"
     ]
    },
    {
     "data": {
      "text/markdown": [
       "<span style=\"font-size:11pt\">Accuracy: 0.30</span>"
      ],
      "text/plain": [
       "<IPython.core.display.Markdown object>"
      ]
     },
     "metadata": {},
     "output_type": "display_data"
    },
    {
     "data": {
      "text/markdown": [
       "<span style=\"font-size:11pt\">Baseline Accuracy: 0.23</span>"
      ],
      "text/plain": [
       "<IPython.core.display.Markdown object>"
      ]
     },
     "metadata": {},
     "output_type": "display_data"
    },
    {
     "data": {
      "text/markdown": [
       "<span style=\"font-size:11pt\">Maximally achievable Accuracy: 0.43</span>"
      ],
      "text/plain": [
       "<IPython.core.display.Markdown object>"
      ]
     },
     "metadata": {},
     "output_type": "display_data"
    },
    {
     "data": {
      "text/markdown": [
       "<span style=\"font-size:11pt\">====================================================================================================</span>"
      ],
      "text/plain": [
       "<IPython.core.display.Markdown object>"
      ]
     },
     "metadata": {},
     "output_type": "display_data"
    },
    {
     "data": {
      "text/markdown": [
       "<span style=\"font-size:11pt\">Using classes from Foursquare - 391/1383 entities have a class</span>"
      ],
      "text/plain": [
       "<IPython.core.display.Markdown object>"
      ]
     },
     "metadata": {},
     "output_type": "display_data"
    },
    {
     "data": {
      "text/markdown": [
       "<span style=\"font-size:11pt\">Labels (9 classes): <span style=\"color: #0000ff\">Shops&Services</span>: 88, <span style=\"color: #0000ff\">Food</span>: 82, <span style=\"color: #0000ff\">Travel&Transport</span>: 35, <span style=\"color: #0000ff\">Professional&Other</span>: 47, <span style=\"color: #0000ff\">Residences</span>: 6, <span style=\"color: #0000ff\">Arts&Entertainment</span>: 39, <span style=\"color: #0000ff\">NightlifeSpots</span>: 17, <span style=\"color: #0000ff\">GreatOutdoors</span>: 44, <span style=\"color: #0000ff\">College&University</span>: 33</span>"
      ],
      "text/plain": [
       "<IPython.core.display.Markdown object>"
      ]
     },
     "metadata": {},
     "output_type": "display_data"
    },
    {
     "data": {
      "text/markdown": [
       "<span style=\"font-size:11pt\">Eval-Settings: type: <span style=\"color: #0000ff\">all-at-once</span>, DT-Depth: <span style=\"color: #0000ff\">2</span>, train-test-split:<span style=\"color: #0000ff\"> 5-fold cross-validation </span></span>"
      ],
      "text/plain": [
       "<IPython.core.display.Markdown object>"
      ]
     },
     "metadata": {},
     "output_type": "display_data"
    },
    {
     "name": "stderr",
     "output_type": "stream",
     "text": [
      "derive_conceptualspace/evaluate/shallow_trees.py:120: UserWarning: There are more classes (9) than your decision-tree can possibly classify (4)\n"
     ]
    },
    {
     "data": {
      "text/markdown": [
       "<span style=\"font-size:11pt\">Accuracy: 0.20</span>"
      ],
      "text/plain": [
       "<IPython.core.display.Markdown object>"
      ]
     },
     "metadata": {},
     "output_type": "display_data"
    },
    {
     "data": {
      "text/markdown": [
       "<span style=\"font-size:11pt\">====================================================================================================</span>"
      ],
      "text/plain": [
       "<IPython.core.display.Markdown object>"
      ]
     },
     "metadata": {},
     "output_type": "display_data"
    },
    {
     "data": {
      "text/markdown": [
       "<span style=\"font-size:11pt\">Using classes from Foursquare - 391/1383 entities have a class</span>"
      ],
      "text/plain": [
       "<IPython.core.display.Markdown object>"
      ]
     },
     "metadata": {},
     "output_type": "display_data"
    },
    {
     "data": {
      "text/markdown": [
       "<span style=\"font-size:11pt\">Labels (9 classes): <span style=\"color: #0000ff\">Shops&Services</span>: 88, <span style=\"color: #0000ff\">Food</span>: 82, <span style=\"color: #0000ff\">Travel&Transport</span>: 35, <span style=\"color: #0000ff\">Professional&Other</span>: 47, <span style=\"color: #0000ff\">Residences</span>: 6, <span style=\"color: #0000ff\">Arts&Entertainment</span>: 39, <span style=\"color: #0000ff\">NightlifeSpots</span>: 17, <span style=\"color: #0000ff\">GreatOutdoors</span>: 44, <span style=\"color: #0000ff\">College&University</span>: 33</span>"
      ],
      "text/plain": [
       "<IPython.core.display.Markdown object>"
      ]
     },
     "metadata": {},
     "output_type": "display_data"
    },
    {
     "data": {
      "text/markdown": [
       "<span style=\"font-size:11pt\">Eval-Settings: type: <span style=\"color: #0000ff\">all-at-once</span>, DT-Depth: <span style=\"color: #0000ff\">2</span>, train-test-split:<span style=\"color: #0000ff\"> 5-fold cross-validation </span></span>"
      ],
      "text/plain": [
       "<IPython.core.display.Markdown object>"
      ]
     },
     "metadata": {},
     "output_type": "display_data"
    },
    {
     "name": "stderr",
     "output_type": "stream",
     "text": [
      "derive_conceptualspace/evaluate/shallow_trees.py:120: UserWarning: There are more classes (9) than your decision-tree can possibly classify (4)\n"
     ]
    },
    {
     "data": {
      "text/markdown": [
       "<span style=\"font-size:11pt\">Accuracy: 0.34</span>"
      ],
      "text/plain": [
       "<IPython.core.display.Markdown object>"
      ]
     },
     "metadata": {},
     "output_type": "display_data"
    },
    {
     "data": {
      "text/markdown": [
       "<span style=\"font-size:11pt\">====================================================================================================</span>"
      ],
      "text/plain": [
       "<IPython.core.display.Markdown object>"
      ]
     },
     "metadata": {},
     "output_type": "display_data"
    },
    {
     "data": {
      "text/markdown": [
       "<span style=\"font-size:11pt\">Using classes from Foursquare - 391/1383 entities have a class</span>"
      ],
      "text/plain": [
       "<IPython.core.display.Markdown object>"
      ]
     },
     "metadata": {},
     "output_type": "display_data"
    },
    {
     "data": {
      "text/markdown": [
       "<span style=\"font-size:11pt\">Labels (9 classes): <span style=\"color: #0000ff\">Shops&Services</span>: 88, <span style=\"color: #0000ff\">Food</span>: 82, <span style=\"color: #0000ff\">Travel&Transport</span>: 35, <span style=\"color: #0000ff\">Professional&Other</span>: 47, <span style=\"color: #0000ff\">Residences</span>: 6, <span style=\"color: #0000ff\">Arts&Entertainment</span>: 39, <span style=\"color: #0000ff\">NightlifeSpots</span>: 17, <span style=\"color: #0000ff\">GreatOutdoors</span>: 44, <span style=\"color: #0000ff\">College&University</span>: 33</span>"
      ],
      "text/plain": [
       "<IPython.core.display.Markdown object>"
      ]
     },
     "metadata": {},
     "output_type": "display_data"
    },
    {
     "data": {
      "text/markdown": [
       "<span style=\"font-size:11pt\">Eval-Settings: type: <span style=\"color: #0000ff\">all-at-once</span>, DT-Depth: <span style=\"color: #0000ff\">3</span>, train-test-split:<span style=\"color: #0000ff\"> 5-fold cross-validation </span></span>"
      ],
      "text/plain": [
       "<IPython.core.display.Markdown object>"
      ]
     },
     "metadata": {},
     "output_type": "display_data"
    },
    {
     "name": "stderr",
     "output_type": "stream",
     "text": [
      "derive_conceptualspace/evaluate/shallow_trees.py:120: UserWarning: There are more classes (9) than your decision-tree can possibly classify (8)\n"
     ]
    },
    {
     "data": {
      "text/markdown": [
       "<span style=\"font-size:11pt\">Accuracy: 0.16</span>"
      ],
      "text/plain": [
       "<IPython.core.display.Markdown object>"
      ]
     },
     "metadata": {},
     "output_type": "display_data"
    },
    {
     "data": {
      "text/markdown": [
       "<span style=\"font-size:11pt\">====================================================================================================</span>"
      ],
      "text/plain": [
       "<IPython.core.display.Markdown object>"
      ]
     },
     "metadata": {},
     "output_type": "display_data"
    },
    {
     "data": {
      "text/markdown": [
       "<span style=\"font-size:11pt\">Using classes from Foursquare - 391/1383 entities have a class</span>"
      ],
      "text/plain": [
       "<IPython.core.display.Markdown object>"
      ]
     },
     "metadata": {},
     "output_type": "display_data"
    },
    {
     "data": {
      "text/markdown": [
       "<span style=\"font-size:11pt\">Labels (9 classes): <span style=\"color: #0000ff\">Shops&Services</span>: 88, <span style=\"color: #0000ff\">Food</span>: 82, <span style=\"color: #0000ff\">Travel&Transport</span>: 35, <span style=\"color: #0000ff\">Professional&Other</span>: 47, <span style=\"color: #0000ff\">Residences</span>: 6, <span style=\"color: #0000ff\">Arts&Entertainment</span>: 39, <span style=\"color: #0000ff\">NightlifeSpots</span>: 17, <span style=\"color: #0000ff\">GreatOutdoors</span>: 44, <span style=\"color: #0000ff\">College&University</span>: 33</span>"
      ],
      "text/plain": [
       "<IPython.core.display.Markdown object>"
      ]
     },
     "metadata": {},
     "output_type": "display_data"
    },
    {
     "data": {
      "text/markdown": [
       "<span style=\"font-size:11pt\">Eval-Settings: type: <span style=\"color: #0000ff\">all-at-once</span>, DT-Depth: <span style=\"color: #0000ff\">3</span>, train-test-split:<span style=\"color: #0000ff\"> 5-fold cross-validation </span></span>"
      ],
      "text/plain": [
       "<IPython.core.display.Markdown object>"
      ]
     },
     "metadata": {},
     "output_type": "display_data"
    },
    {
     "name": "stderr",
     "output_type": "stream",
     "text": [
      "derive_conceptualspace/evaluate/shallow_trees.py:120: UserWarning: There are more classes (9) than your decision-tree can possibly classify (8)\n"
     ]
    },
    {
     "data": {
      "text/markdown": [
       "<span style=\"font-size:11pt\">Accuracy: 0.36</span>"
      ],
      "text/plain": [
       "<IPython.core.display.Markdown object>"
      ]
     },
     "metadata": {},
     "output_type": "display_data"
    },
    {
     "data": {
      "text/markdown": [
       "<span style=\"font-size:11pt\">====================================================================================================</span>"
      ],
      "text/plain": [
       "<IPython.core.display.Markdown object>"
      ]
     },
     "metadata": {},
     "output_type": "display_data"
    },
    {
     "data": {
      "text/markdown": [
       "<span style=\"font-size:11pt\">Using classes from Geonames - 403/1383 entities have a class</span>"
      ],
      "text/plain": [
       "<IPython.core.display.Markdown object>"
      ]
     },
     "metadata": {},
     "output_type": "display_data"
    },
    {
     "data": {
      "text/markdown": [
       "<span style=\"font-size:11pt\">Labels (7 classes): <span style=\"color: #0000ff\">spot,building,farm</span>: 176, <span style=\"color: #0000ff\">stream,lake</span>: 74, <span style=\"color: #0000ff\">road,railroad</span>: 16, <span style=\"color: #0000ff\">parks,area</span>: 28, <span style=\"color: #0000ff\">undersea</span>: 27, <span style=\"color: #0000ff\">mountain,hill,rock</span>: 68, <span style=\"color: #0000ff\">forest,heath</span>: 14</span>"
      ],
      "text/plain": [
       "<IPython.core.display.Markdown object>"
      ]
     },
     "metadata": {},
     "output_type": "display_data"
    },
    {
     "data": {
      "text/markdown": [
       "<span style=\"font-size:11pt\">Eval-Settings: type: <span style=\"color: #0000ff\">one-vs-rest</span>, DT-Depth: <span style=\"color: #0000ff\">1</span>, train-test-split:<span style=\"color: #0000ff\"> 33.0% in test-set </span></span>"
      ],
      "text/plain": [
       "<IPython.core.display.Markdown object>"
      ]
     },
     "metadata": {},
     "output_type": "display_data"
    },
    {
     "data": {
      "text/markdown": [
       "<span style=\"font-size:11pt\">Per-Class-Scores: spot,building,farm: 0.61, mountain,hill,rock: 0.78, parks,area: 0.80, road,railroad: 0.92, forest,heath: 0.88, undersea: 0.39, stream,lake: 0.52</span>"
      ],
      "text/plain": [
       "<IPython.core.display.Markdown object>"
      ]
     },
     "metadata": {},
     "output_type": "display_data"
    },
    {
     "data": {
      "text/markdown": [
       "<span style=\"font-size:11pt\">Unweighted Mean Accuracy: 70.14%</span>"
      ],
      "text/plain": [
       "<IPython.core.display.Markdown object>"
      ]
     },
     "metadata": {},
     "output_type": "display_data"
    },
    {
     "data": {
      "text/markdown": [
       "<span style=\"font-size:11pt\">Weighted Mean Accuracy: 64.25%</span>"
      ],
      "text/plain": [
       "<IPython.core.display.Markdown object>"
      ]
     },
     "metadata": {},
     "output_type": "display_data"
    },
    {
     "data": {
      "text/markdown": [
       "<span style=\"font-size:11pt\">====================================================================================================</span>"
      ],
      "text/plain": [
       "<IPython.core.display.Markdown object>"
      ]
     },
     "metadata": {},
     "output_type": "display_data"
    },
    {
     "data": {
      "text/markdown": [
       "<span style=\"font-size:11pt\">Using classes from Geonames - 403/1383 entities have a class</span>"
      ],
      "text/plain": [
       "<IPython.core.display.Markdown object>"
      ]
     },
     "metadata": {},
     "output_type": "display_data"
    },
    {
     "data": {
      "text/markdown": [
       "<span style=\"font-size:11pt\">Labels (7 classes): <span style=\"color: #0000ff\">spot,building,farm</span>: 176, <span style=\"color: #0000ff\">stream,lake</span>: 74, <span style=\"color: #0000ff\">road,railroad</span>: 16, <span style=\"color: #0000ff\">parks,area</span>: 28, <span style=\"color: #0000ff\">undersea</span>: 27, <span style=\"color: #0000ff\">mountain,hill,rock</span>: 68, <span style=\"color: #0000ff\">forest,heath</span>: 14</span>"
      ],
      "text/plain": [
       "<IPython.core.display.Markdown object>"
      ]
     },
     "metadata": {},
     "output_type": "display_data"
    },
    {
     "data": {
      "text/markdown": [
       "<span style=\"font-size:11pt\">Eval-Settings: type: <span style=\"color: #0000ff\">one-vs-rest</span>, DT-Depth: <span style=\"color: #0000ff\">1</span>, train-test-split:<span style=\"color: #0000ff\"> 33.0% in test-set </span></span>"
      ],
      "text/plain": [
       "<IPython.core.display.Markdown object>"
      ]
     },
     "metadata": {},
     "output_type": "display_data"
    },
    {
     "data": {
      "text/markdown": [
       "<span style=\"font-size:11pt\">Per-Class-Scores: spot,building,farm: 0.66, mountain,hill,rock: 0.78, parks,area: 0.90, road,railroad: 0.96, forest,heath: 0.97, undersea: 0.94, stream,lake: 0.81</span>"
      ],
      "text/plain": [
       "<IPython.core.display.Markdown object>"
      ]
     },
     "metadata": {},
     "output_type": "display_data"
    },
    {
     "data": {
      "text/markdown": [
       "<span style=\"font-size:11pt\">Unweighted Mean Accuracy: 86.14%</span>"
      ],
      "text/plain": [
       "<IPython.core.display.Markdown object>"
      ]
     },
     "metadata": {},
     "output_type": "display_data"
    },
    {
     "data": {
      "text/markdown": [
       "<span style=\"font-size:11pt\">Weighted Mean Accuracy: 76.76%</span>"
      ],
      "text/plain": [
       "<IPython.core.display.Markdown object>"
      ]
     },
     "metadata": {},
     "output_type": "display_data"
    },
    {
     "data": {
      "text/markdown": [
       "<span style=\"font-size:11pt\">====================================================================================================</span>"
      ],
      "text/plain": [
       "<IPython.core.display.Markdown object>"
      ]
     },
     "metadata": {},
     "output_type": "display_data"
    },
    {
     "data": {
      "text/markdown": [
       "<span style=\"font-size:11pt\">Using classes from Geonames - 403/1383 entities have a class</span>"
      ],
      "text/plain": [
       "<IPython.core.display.Markdown object>"
      ]
     },
     "metadata": {},
     "output_type": "display_data"
    },
    {
     "data": {
      "text/markdown": [
       "<span style=\"font-size:11pt\">Labels (7 classes): <span style=\"color: #0000ff\">spot,building,farm</span>: 176, <span style=\"color: #0000ff\">stream,lake</span>: 74, <span style=\"color: #0000ff\">road,railroad</span>: 16, <span style=\"color: #0000ff\">parks,area</span>: 28, <span style=\"color: #0000ff\">undersea</span>: 27, <span style=\"color: #0000ff\">mountain,hill,rock</span>: 68, <span style=\"color: #0000ff\">forest,heath</span>: 14</span>"
      ],
      "text/plain": [
       "<IPython.core.display.Markdown object>"
      ]
     },
     "metadata": {},
     "output_type": "display_data"
    },
    {
     "data": {
      "text/markdown": [
       "<span style=\"font-size:11pt\">Eval-Settings: type: <span style=\"color: #0000ff\">one-vs-rest</span>, DT-Depth: <span style=\"color: #0000ff\">2</span>, train-test-split:<span style=\"color: #0000ff\"> 33.0% in test-set </span></span>"
      ],
      "text/plain": [
       "<IPython.core.display.Markdown object>"
      ]
     },
     "metadata": {},
     "output_type": "display_data"
    },
    {
     "data": {
      "text/markdown": [
       "<span style=\"font-size:11pt\">Per-Class-Scores: spot,building,farm: 0.74, mountain,hill,rock: 0.65, parks,area: 0.57, road,railroad: 0.80, forest,heath: 0.87, undersea: 0.53, stream,lake: 0.53</span>"
      ],
      "text/plain": [
       "<IPython.core.display.Markdown object>"
      ]
     },
     "metadata": {},
     "output_type": "display_data"
    },
    {
     "data": {
      "text/markdown": [
       "<span style=\"font-size:11pt\">Unweighted Mean Accuracy: 67.02%</span>"
      ],
      "text/plain": [
       "<IPython.core.display.Markdown object>"
      ]
     },
     "metadata": {},
     "output_type": "display_data"
    },
    {
     "data": {
      "text/markdown": [
       "<span style=\"font-size:11pt\">Weighted Mean Accuracy: 66.60%</span>"
      ],
      "text/plain": [
       "<IPython.core.display.Markdown object>"
      ]
     },
     "metadata": {},
     "output_type": "display_data"
    },
    {
     "data": {
      "text/markdown": [
       "<span style=\"font-size:11pt\">====================================================================================================</span>"
      ],
      "text/plain": [
       "<IPython.core.display.Markdown object>"
      ]
     },
     "metadata": {},
     "output_type": "display_data"
    },
    {
     "data": {
      "text/markdown": [
       "<span style=\"font-size:11pt\">Using classes from Geonames - 403/1383 entities have a class</span>"
      ],
      "text/plain": [
       "<IPython.core.display.Markdown object>"
      ]
     },
     "metadata": {},
     "output_type": "display_data"
    },
    {
     "data": {
      "text/markdown": [
       "<span style=\"font-size:11pt\">Labels (7 classes): <span style=\"color: #0000ff\">spot,building,farm</span>: 176, <span style=\"color: #0000ff\">stream,lake</span>: 74, <span style=\"color: #0000ff\">road,railroad</span>: 16, <span style=\"color: #0000ff\">parks,area</span>: 28, <span style=\"color: #0000ff\">undersea</span>: 27, <span style=\"color: #0000ff\">mountain,hill,rock</span>: 68, <span style=\"color: #0000ff\">forest,heath</span>: 14</span>"
      ],
      "text/plain": [
       "<IPython.core.display.Markdown object>"
      ]
     },
     "metadata": {},
     "output_type": "display_data"
    },
    {
     "data": {
      "text/markdown": [
       "<span style=\"font-size:11pt\">Eval-Settings: type: <span style=\"color: #0000ff\">one-vs-rest</span>, DT-Depth: <span style=\"color: #0000ff\">2</span>, train-test-split:<span style=\"color: #0000ff\"> 33.0% in test-set </span></span>"
      ],
      "text/plain": [
       "<IPython.core.display.Markdown object>"
      ]
     },
     "metadata": {},
     "output_type": "display_data"
    },
    {
     "data": {
      "text/markdown": [
       "<span style=\"font-size:11pt\">Per-Class-Scores: spot,building,farm: 0.69, mountain,hill,rock: 0.80, parks,area: 0.95, road,railroad: 0.95, forest,heath: 0.98, undersea: 0.91, stream,lake: 0.65</span>"
      ],
      "text/plain": [
       "<IPython.core.display.Markdown object>"
      ]
     },
     "metadata": {},
     "output_type": "display_data"
    },
    {
     "data": {
      "text/markdown": [
       "<span style=\"font-size:11pt\">Unweighted Mean Accuracy: 84.64%</span>"
      ],
      "text/plain": [
       "<IPython.core.display.Markdown object>"
      ]
     },
     "metadata": {},
     "output_type": "display_data"
    },
    {
     "data": {
      "text/markdown": [
       "<span style=\"font-size:11pt\">Weighted Mean Accuracy: 75.40%</span>"
      ],
      "text/plain": [
       "<IPython.core.display.Markdown object>"
      ]
     },
     "metadata": {},
     "output_type": "display_data"
    },
    {
     "data": {
      "text/markdown": [
       "<span style=\"font-size:11pt\">====================================================================================================</span>"
      ],
      "text/plain": [
       "<IPython.core.display.Markdown object>"
      ]
     },
     "metadata": {},
     "output_type": "display_data"
    },
    {
     "data": {
      "text/markdown": [
       "<span style=\"font-size:11pt\">Using classes from Geonames - 403/1383 entities have a class</span>"
      ],
      "text/plain": [
       "<IPython.core.display.Markdown object>"
      ]
     },
     "metadata": {},
     "output_type": "display_data"
    },
    {
     "data": {
      "text/markdown": [
       "<span style=\"font-size:11pt\">Labels (7 classes): <span style=\"color: #0000ff\">spot,building,farm</span>: 176, <span style=\"color: #0000ff\">stream,lake</span>: 74, <span style=\"color: #0000ff\">road,railroad</span>: 16, <span style=\"color: #0000ff\">parks,area</span>: 28, <span style=\"color: #0000ff\">undersea</span>: 27, <span style=\"color: #0000ff\">mountain,hill,rock</span>: 68, <span style=\"color: #0000ff\">forest,heath</span>: 14</span>"
      ],
      "text/plain": [
       "<IPython.core.display.Markdown object>"
      ]
     },
     "metadata": {},
     "output_type": "display_data"
    },
    {
     "data": {
      "text/markdown": [
       "<span style=\"font-size:11pt\">Eval-Settings: type: <span style=\"color: #0000ff\">one-vs-rest</span>, DT-Depth: <span style=\"color: #0000ff\">3</span>, train-test-split:<span style=\"color: #0000ff\"> 33.0% in test-set </span></span>"
      ],
      "text/plain": [
       "<IPython.core.display.Markdown object>"
      ]
     },
     "metadata": {},
     "output_type": "display_data"
    },
    {
     "data": {
      "text/markdown": [
       "<span style=\"font-size:11pt\">Per-Class-Scores: spot,building,farm: 0.68, mountain,hill,rock: 0.57, parks,area: 0.75, road,railroad: 0.85, forest,heath: 0.82, undersea: 0.75, stream,lake: 0.56</span>"
      ],
      "text/plain": [
       "<IPython.core.display.Markdown object>"
      ]
     },
     "metadata": {},
     "output_type": "display_data"
    },
    {
     "data": {
      "text/markdown": [
       "<span style=\"font-size:11pt\">Unweighted Mean Accuracy: 71.11%</span>"
      ],
      "text/plain": [
       "<IPython.core.display.Markdown object>"
      ]
     },
     "metadata": {},
     "output_type": "display_data"
    },
    {
     "data": {
      "text/markdown": [
       "<span style=\"font-size:11pt\">Weighted Mean Accuracy: 65.89%</span>"
      ],
      "text/plain": [
       "<IPython.core.display.Markdown object>"
      ]
     },
     "metadata": {},
     "output_type": "display_data"
    },
    {
     "data": {
      "text/markdown": [
       "<span style=\"font-size:11pt\">====================================================================================================</span>"
      ],
      "text/plain": [
       "<IPython.core.display.Markdown object>"
      ]
     },
     "metadata": {},
     "output_type": "display_data"
    },
    {
     "data": {
      "text/markdown": [
       "<span style=\"font-size:11pt\">Using classes from Geonames - 403/1383 entities have a class</span>"
      ],
      "text/plain": [
       "<IPython.core.display.Markdown object>"
      ]
     },
     "metadata": {},
     "output_type": "display_data"
    },
    {
     "data": {
      "text/markdown": [
       "<span style=\"font-size:11pt\">Labels (7 classes): <span style=\"color: #0000ff\">spot,building,farm</span>: 176, <span style=\"color: #0000ff\">stream,lake</span>: 74, <span style=\"color: #0000ff\">road,railroad</span>: 16, <span style=\"color: #0000ff\">parks,area</span>: 28, <span style=\"color: #0000ff\">undersea</span>: 27, <span style=\"color: #0000ff\">mountain,hill,rock</span>: 68, <span style=\"color: #0000ff\">forest,heath</span>: 14</span>"
      ],
      "text/plain": [
       "<IPython.core.display.Markdown object>"
      ]
     },
     "metadata": {},
     "output_type": "display_data"
    },
    {
     "data": {
      "text/markdown": [
       "<span style=\"font-size:11pt\">Eval-Settings: type: <span style=\"color: #0000ff\">one-vs-rest</span>, DT-Depth: <span style=\"color: #0000ff\">3</span>, train-test-split:<span style=\"color: #0000ff\"> 33.0% in test-set </span></span>"
      ],
      "text/plain": [
       "<IPython.core.display.Markdown object>"
      ]
     },
     "metadata": {},
     "output_type": "display_data"
    },
    {
     "data": {
      "text/markdown": [
       "<span style=\"font-size:11pt\">Per-Class-Scores: spot,building,farm: 0.75, mountain,hill,rock: 0.81, parks,area: 0.90, road,railroad: 0.95, forest,heath: 0.95, undersea: 0.92, stream,lake: 0.79</span>"
      ],
      "text/plain": [
       "<IPython.core.display.Markdown object>"
      ]
     },
     "metadata": {},
     "output_type": "display_data"
    },
    {
     "data": {
      "text/markdown": [
       "<span style=\"font-size:11pt\">Unweighted Mean Accuracy: 86.90%</span>"
      ],
      "text/plain": [
       "<IPython.core.display.Markdown object>"
      ]
     },
     "metadata": {},
     "output_type": "display_data"
    },
    {
     "data": {
      "text/markdown": [
       "<span style=\"font-size:11pt\">Weighted Mean Accuracy: 80.58%</span>"
      ],
      "text/plain": [
       "<IPython.core.display.Markdown object>"
      ]
     },
     "metadata": {},
     "output_type": "display_data"
    },
    {
     "data": {
      "text/markdown": [
       "<span style=\"font-size:11pt\">====================================================================================================</span>"
      ],
      "text/plain": [
       "<IPython.core.display.Markdown object>"
      ]
     },
     "metadata": {},
     "output_type": "display_data"
    },
    {
     "data": {
      "text/markdown": [
       "<span style=\"font-size:11pt\">Using classes from Geonames - 403/1383 entities have a class</span>"
      ],
      "text/plain": [
       "<IPython.core.display.Markdown object>"
      ]
     },
     "metadata": {},
     "output_type": "display_data"
    },
    {
     "data": {
      "text/markdown": [
       "<span style=\"font-size:11pt\">Labels (7 classes): <span style=\"color: #0000ff\">spot,building,farm</span>: 176, <span style=\"color: #0000ff\">stream,lake</span>: 74, <span style=\"color: #0000ff\">road,railroad</span>: 16, <span style=\"color: #0000ff\">parks,area</span>: 28, <span style=\"color: #0000ff\">undersea</span>: 27, <span style=\"color: #0000ff\">mountain,hill,rock</span>: 68, <span style=\"color: #0000ff\">forest,heath</span>: 14</span>"
      ],
      "text/plain": [
       "<IPython.core.display.Markdown object>"
      ]
     },
     "metadata": {},
     "output_type": "display_data"
    },
    {
     "data": {
      "text/markdown": [
       "<span style=\"font-size:11pt\">Eval-Settings: type: <span style=\"color: #0000ff\">all-at-once</span>, DT-Depth: <span style=\"color: #0000ff\">1</span>, train-test-split:<span style=\"color: #0000ff\"> 33.0% in test-set </span></span>"
      ],
      "text/plain": [
       "<IPython.core.display.Markdown object>"
      ]
     },
     "metadata": {},
     "output_type": "display_data"
    },
    {
     "name": "stderr",
     "output_type": "stream",
     "text": [
      "derive_conceptualspace/evaluate/shallow_trees.py:120: UserWarning: There are more classes (7) than your decision-tree can possibly classify (2)\n"
     ]
    },
    {
     "data": {
      "text/markdown": [
       "<span style=\"font-size:11pt\">Accuracy: 0.06</span>"
      ],
      "text/plain": [
       "<IPython.core.display.Markdown object>"
      ]
     },
     "metadata": {},
     "output_type": "display_data"
    },
    {
     "data": {
      "text/markdown": [
       "<span style=\"font-size:11pt\">Baseline Accuracy: 0.44</span>"
      ],
      "text/plain": [
       "<IPython.core.display.Markdown object>"
      ]
     },
     "metadata": {},
     "output_type": "display_data"
    },
    {
     "data": {
      "text/markdown": [
       "<span style=\"font-size:11pt\">Maximally achievable Accuracy: 0.62</span>"
      ],
      "text/plain": [
       "<IPython.core.display.Markdown object>"
      ]
     },
     "metadata": {},
     "output_type": "display_data"
    },
    {
     "data": {
      "text/markdown": [
       "<span style=\"font-size:11pt\">====================================================================================================</span>"
      ],
      "text/plain": [
       "<IPython.core.display.Markdown object>"
      ]
     },
     "metadata": {},
     "output_type": "display_data"
    },
    {
     "data": {
      "text/markdown": [
       "<span style=\"font-size:11pt\">Using classes from Geonames - 403/1383 entities have a class</span>"
      ],
      "text/plain": [
       "<IPython.core.display.Markdown object>"
      ]
     },
     "metadata": {},
     "output_type": "display_data"
    },
    {
     "data": {
      "text/markdown": [
       "<span style=\"font-size:11pt\">Labels (7 classes): <span style=\"color: #0000ff\">spot,building,farm</span>: 176, <span style=\"color: #0000ff\">stream,lake</span>: 74, <span style=\"color: #0000ff\">road,railroad</span>: 16, <span style=\"color: #0000ff\">parks,area</span>: 28, <span style=\"color: #0000ff\">undersea</span>: 27, <span style=\"color: #0000ff\">mountain,hill,rock</span>: 68, <span style=\"color: #0000ff\">forest,heath</span>: 14</span>"
      ],
      "text/plain": [
       "<IPython.core.display.Markdown object>"
      ]
     },
     "metadata": {},
     "output_type": "display_data"
    },
    {
     "data": {
      "text/markdown": [
       "<span style=\"font-size:11pt\">Eval-Settings: type: <span style=\"color: #0000ff\">all-at-once</span>, DT-Depth: <span style=\"color: #0000ff\">1</span>, train-test-split:<span style=\"color: #0000ff\"> 33.0% in test-set </span></span>"
      ],
      "text/plain": [
       "<IPython.core.display.Markdown object>"
      ]
     },
     "metadata": {},
     "output_type": "display_data"
    },
    {
     "name": "stderr",
     "output_type": "stream",
     "text": [
      "derive_conceptualspace/evaluate/shallow_trees.py:120: UserWarning: There are more classes (7) than your decision-tree can possibly classify (2)\n"
     ]
    },
    {
     "data": {
      "text/markdown": [
       "<span style=\"font-size:11pt\">Accuracy: 0.42</span>"
      ],
      "text/plain": [
       "<IPython.core.display.Markdown object>"
      ]
     },
     "metadata": {},
     "output_type": "display_data"
    },
    {
     "data": {
      "text/markdown": [
       "<span style=\"font-size:11pt\">Baseline Accuracy: 0.44</span>"
      ],
      "text/plain": [
       "<IPython.core.display.Markdown object>"
      ]
     },
     "metadata": {},
     "output_type": "display_data"
    },
    {
     "data": {
      "text/markdown": [
       "<span style=\"font-size:11pt\">Maximally achievable Accuracy: 0.62</span>"
      ],
      "text/plain": [
       "<IPython.core.display.Markdown object>"
      ]
     },
     "metadata": {},
     "output_type": "display_data"
    },
    {
     "data": {
      "text/markdown": [
       "<span style=\"font-size:11pt\">====================================================================================================</span>"
      ],
      "text/plain": [
       "<IPython.core.display.Markdown object>"
      ]
     },
     "metadata": {},
     "output_type": "display_data"
    },
    {
     "data": {
      "text/markdown": [
       "<span style=\"font-size:11pt\">Using classes from Geonames - 403/1383 entities have a class</span>"
      ],
      "text/plain": [
       "<IPython.core.display.Markdown object>"
      ]
     },
     "metadata": {},
     "output_type": "display_data"
    },
    {
     "data": {
      "text/markdown": [
       "<span style=\"font-size:11pt\">Labels (7 classes): <span style=\"color: #0000ff\">spot,building,farm</span>: 176, <span style=\"color: #0000ff\">stream,lake</span>: 74, <span style=\"color: #0000ff\">road,railroad</span>: 16, <span style=\"color: #0000ff\">parks,area</span>: 28, <span style=\"color: #0000ff\">undersea</span>: 27, <span style=\"color: #0000ff\">mountain,hill,rock</span>: 68, <span style=\"color: #0000ff\">forest,heath</span>: 14</span>"
      ],
      "text/plain": [
       "<IPython.core.display.Markdown object>"
      ]
     },
     "metadata": {},
     "output_type": "display_data"
    },
    {
     "data": {
      "text/markdown": [
       "<span style=\"font-size:11pt\">Eval-Settings: type: <span style=\"color: #0000ff\">all-at-once</span>, DT-Depth: <span style=\"color: #0000ff\">2</span>, train-test-split:<span style=\"color: #0000ff\"> 33.0% in test-set </span></span>"
      ],
      "text/plain": [
       "<IPython.core.display.Markdown object>"
      ]
     },
     "metadata": {},
     "output_type": "display_data"
    },
    {
     "name": "stderr",
     "output_type": "stream",
     "text": [
      "derive_conceptualspace/evaluate/shallow_trees.py:120: UserWarning: There are more classes (7) than your decision-tree can possibly classify (4)\n"
     ]
    },
    {
     "data": {
      "text/markdown": [
       "<span style=\"font-size:11pt\">Accuracy: 0.16</span>"
      ],
      "text/plain": [
       "<IPython.core.display.Markdown object>"
      ]
     },
     "metadata": {},
     "output_type": "display_data"
    },
    {
     "data": {
      "text/markdown": [
       "<span style=\"font-size:11pt\">====================================================================================================</span>"
      ],
      "text/plain": [
       "<IPython.core.display.Markdown object>"
      ]
     },
     "metadata": {},
     "output_type": "display_data"
    },
    {
     "data": {
      "text/markdown": [
       "<span style=\"font-size:11pt\">Using classes from Geonames - 403/1383 entities have a class</span>"
      ],
      "text/plain": [
       "<IPython.core.display.Markdown object>"
      ]
     },
     "metadata": {},
     "output_type": "display_data"
    },
    {
     "data": {
      "text/markdown": [
       "<span style=\"font-size:11pt\">Labels (7 classes): <span style=\"color: #0000ff\">spot,building,farm</span>: 176, <span style=\"color: #0000ff\">stream,lake</span>: 74, <span style=\"color: #0000ff\">road,railroad</span>: 16, <span style=\"color: #0000ff\">parks,area</span>: 28, <span style=\"color: #0000ff\">undersea</span>: 27, <span style=\"color: #0000ff\">mountain,hill,rock</span>: 68, <span style=\"color: #0000ff\">forest,heath</span>: 14</span>"
      ],
      "text/plain": [
       "<IPython.core.display.Markdown object>"
      ]
     },
     "metadata": {},
     "output_type": "display_data"
    },
    {
     "data": {
      "text/markdown": [
       "<span style=\"font-size:11pt\">Eval-Settings: type: <span style=\"color: #0000ff\">all-at-once</span>, DT-Depth: <span style=\"color: #0000ff\">2</span>, train-test-split:<span style=\"color: #0000ff\"> 33.0% in test-set </span></span>"
      ],
      "text/plain": [
       "<IPython.core.display.Markdown object>"
      ]
     },
     "metadata": {},
     "output_type": "display_data"
    },
    {
     "name": "stderr",
     "output_type": "stream",
     "text": [
      "derive_conceptualspace/evaluate/shallow_trees.py:120: UserWarning: There are more classes (7) than your decision-tree can possibly classify (4)\n"
     ]
    },
    {
     "data": {
      "text/markdown": [
       "<span style=\"font-size:11pt\">Accuracy: 0.53</span>"
      ],
      "text/plain": [
       "<IPython.core.display.Markdown object>"
      ]
     },
     "metadata": {},
     "output_type": "display_data"
    },
    {
     "data": {
      "text/markdown": [
       "<span style=\"font-size:11pt\">====================================================================================================</span>"
      ],
      "text/plain": [
       "<IPython.core.display.Markdown object>"
      ]
     },
     "metadata": {},
     "output_type": "display_data"
    },
    {
     "data": {
      "text/markdown": [
       "<span style=\"font-size:11pt\">Using classes from Geonames - 403/1383 entities have a class</span>"
      ],
      "text/plain": [
       "<IPython.core.display.Markdown object>"
      ]
     },
     "metadata": {},
     "output_type": "display_data"
    },
    {
     "data": {
      "text/markdown": [
       "<span style=\"font-size:11pt\">Labels (7 classes): <span style=\"color: #0000ff\">spot,building,farm</span>: 176, <span style=\"color: #0000ff\">stream,lake</span>: 74, <span style=\"color: #0000ff\">road,railroad</span>: 16, <span style=\"color: #0000ff\">parks,area</span>: 28, <span style=\"color: #0000ff\">undersea</span>: 27, <span style=\"color: #0000ff\">mountain,hill,rock</span>: 68, <span style=\"color: #0000ff\">forest,heath</span>: 14</span>"
      ],
      "text/plain": [
       "<IPython.core.display.Markdown object>"
      ]
     },
     "metadata": {},
     "output_type": "display_data"
    },
    {
     "data": {
      "text/markdown": [
       "<span style=\"font-size:11pt\">Eval-Settings: type: <span style=\"color: #0000ff\">all-at-once</span>, DT-Depth: <span style=\"color: #0000ff\">3</span>, train-test-split:<span style=\"color: #0000ff\"> 33.0% in test-set </span></span>"
      ],
      "text/plain": [
       "<IPython.core.display.Markdown object>"
      ]
     },
     "metadata": {},
     "output_type": "display_data"
    },
    {
     "data": {
      "text/markdown": [
       "<span style=\"font-size:11pt\">Accuracy: 0.09</span>"
      ],
      "text/plain": [
       "<IPython.core.display.Markdown object>"
      ]
     },
     "metadata": {},
     "output_type": "display_data"
    },
    {
     "data": {
      "text/markdown": [
       "<span style=\"font-size:11pt\">====================================================================================================</span>"
      ],
      "text/plain": [
       "<IPython.core.display.Markdown object>"
      ]
     },
     "metadata": {},
     "output_type": "display_data"
    },
    {
     "data": {
      "text/markdown": [
       "<span style=\"font-size:11pt\">Using classes from Geonames - 403/1383 entities have a class</span>"
      ],
      "text/plain": [
       "<IPython.core.display.Markdown object>"
      ]
     },
     "metadata": {},
     "output_type": "display_data"
    },
    {
     "data": {
      "text/markdown": [
       "<span style=\"font-size:11pt\">Labels (7 classes): <span style=\"color: #0000ff\">spot,building,farm</span>: 176, <span style=\"color: #0000ff\">stream,lake</span>: 74, <span style=\"color: #0000ff\">road,railroad</span>: 16, <span style=\"color: #0000ff\">parks,area</span>: 28, <span style=\"color: #0000ff\">undersea</span>: 27, <span style=\"color: #0000ff\">mountain,hill,rock</span>: 68, <span style=\"color: #0000ff\">forest,heath</span>: 14</span>"
      ],
      "text/plain": [
       "<IPython.core.display.Markdown object>"
      ]
     },
     "metadata": {},
     "output_type": "display_data"
    },
    {
     "data": {
      "text/markdown": [
       "<span style=\"font-size:11pt\">Eval-Settings: type: <span style=\"color: #0000ff\">all-at-once</span>, DT-Depth: <span style=\"color: #0000ff\">3</span>, train-test-split:<span style=\"color: #0000ff\"> 33.0% in test-set </span></span>"
      ],
      "text/plain": [
       "<IPython.core.display.Markdown object>"
      ]
     },
     "metadata": {},
     "output_type": "display_data"
    },
    {
     "data": {
      "text/markdown": [
       "<span style=\"font-size:11pt\">Accuracy: 0.50</span>"
      ],
      "text/plain": [
       "<IPython.core.display.Markdown object>"
      ]
     },
     "metadata": {},
     "output_type": "display_data"
    },
    {
     "data": {
      "text/markdown": [
       "<span style=\"font-size:11pt\">====================================================================================================</span>"
      ],
      "text/plain": [
       "<IPython.core.display.Markdown object>"
      ]
     },
     "metadata": {},
     "output_type": "display_data"
    },
    {
     "data": {
      "text/markdown": [
       "<span style=\"font-size:11pt\">Using classes from Geonames - 403/1383 entities have a class</span>"
      ],
      "text/plain": [
       "<IPython.core.display.Markdown object>"
      ]
     },
     "metadata": {},
     "output_type": "display_data"
    },
    {
     "data": {
      "text/markdown": [
       "<span style=\"font-size:11pt\">Labels (7 classes): <span style=\"color: #0000ff\">spot,building,farm</span>: 176, <span style=\"color: #0000ff\">stream,lake</span>: 74, <span style=\"color: #0000ff\">road,railroad</span>: 16, <span style=\"color: #0000ff\">parks,area</span>: 28, <span style=\"color: #0000ff\">undersea</span>: 27, <span style=\"color: #0000ff\">mountain,hill,rock</span>: 68, <span style=\"color: #0000ff\">forest,heath</span>: 14</span>"
      ],
      "text/plain": [
       "<IPython.core.display.Markdown object>"
      ]
     },
     "metadata": {},
     "output_type": "display_data"
    },
    {
     "data": {
      "text/markdown": [
       "<span style=\"font-size:11pt\">Eval-Settings: type: <span style=\"color: #0000ff\">one-vs-rest</span>, DT-Depth: <span style=\"color: #0000ff\">1</span>, train-test-split:<span style=\"color: #0000ff\"> 50.0% in test-set </span></span>"
      ],
      "text/plain": [
       "<IPython.core.display.Markdown object>"
      ]
     },
     "metadata": {},
     "output_type": "display_data"
    },
    {
     "data": {
      "text/markdown": [
       "<span style=\"font-size:11pt\">Per-Class-Scores: spot,building,farm: 0.58, mountain,hill,rock: 0.36, parks,area: 0.80, road,railroad: 0.71, forest,heath: 0.79, undersea: 0.48, stream,lake: 0.58</span>"
      ],
      "text/plain": [
       "<IPython.core.display.Markdown object>"
      ]
     },
     "metadata": {},
     "output_type": "display_data"
    },
    {
     "data": {
      "text/markdown": [
       "<span style=\"font-size:11pt\">Unweighted Mean Accuracy: 61.32%</span>"
      ],
      "text/plain": [
       "<IPython.core.display.Markdown object>"
      ]
     },
     "metadata": {},
     "output_type": "display_data"
    },
    {
     "data": {
      "text/markdown": [
       "<span style=\"font-size:11pt\">Weighted Mean Accuracy: 56.46%</span>"
      ],
      "text/plain": [
       "<IPython.core.display.Markdown object>"
      ]
     },
     "metadata": {},
     "output_type": "display_data"
    },
    {
     "data": {
      "text/markdown": [
       "<span style=\"font-size:11pt\">====================================================================================================</span>"
      ],
      "text/plain": [
       "<IPython.core.display.Markdown object>"
      ]
     },
     "metadata": {},
     "output_type": "display_data"
    },
    {
     "data": {
      "text/markdown": [
       "<span style=\"font-size:11pt\">Using classes from Geonames - 403/1383 entities have a class</span>"
      ],
      "text/plain": [
       "<IPython.core.display.Markdown object>"
      ]
     },
     "metadata": {},
     "output_type": "display_data"
    },
    {
     "data": {
      "text/markdown": [
       "<span style=\"font-size:11pt\">Labels (7 classes): <span style=\"color: #0000ff\">spot,building,farm</span>: 176, <span style=\"color: #0000ff\">stream,lake</span>: 74, <span style=\"color: #0000ff\">road,railroad</span>: 16, <span style=\"color: #0000ff\">parks,area</span>: 28, <span style=\"color: #0000ff\">undersea</span>: 27, <span style=\"color: #0000ff\">mountain,hill,rock</span>: 68, <span style=\"color: #0000ff\">forest,heath</span>: 14</span>"
      ],
      "text/plain": [
       "<IPython.core.display.Markdown object>"
      ]
     },
     "metadata": {},
     "output_type": "display_data"
    },
    {
     "data": {
      "text/markdown": [
       "<span style=\"font-size:11pt\">Eval-Settings: type: <span style=\"color: #0000ff\">one-vs-rest</span>, DT-Depth: <span style=\"color: #0000ff\">1</span>, train-test-split:<span style=\"color: #0000ff\"> 50.0% in test-set </span></span>"
      ],
      "text/plain": [
       "<IPython.core.display.Markdown object>"
      ]
     },
     "metadata": {},
     "output_type": "display_data"
    },
    {
     "data": {
      "text/markdown": [
       "<span style=\"font-size:11pt\">Per-Class-Scores: spot,building,farm: 0.68, mountain,hill,rock: 0.80, parks,area: 0.95, road,railroad: 0.95, forest,heath: 0.97, undersea: 0.94, stream,lake: 0.81</span>"
      ],
      "text/plain": [
       "<IPython.core.display.Markdown object>"
      ]
     },
     "metadata": {},
     "output_type": "display_data"
    },
    {
     "data": {
      "text/markdown": [
       "<span style=\"font-size:11pt\">Unweighted Mean Accuracy: 86.99%</span>"
      ],
      "text/plain": [
       "<IPython.core.display.Markdown object>"
      ]
     },
     "metadata": {},
     "output_type": "display_data"
    },
    {
     "data": {
      "text/markdown": [
       "<span style=\"font-size:11pt\">Weighted Mean Accuracy: 77.96%</span>"
      ],
      "text/plain": [
       "<IPython.core.display.Markdown object>"
      ]
     },
     "metadata": {},
     "output_type": "display_data"
    },
    {
     "data": {
      "text/markdown": [
       "<span style=\"font-size:11pt\">====================================================================================================</span>"
      ],
      "text/plain": [
       "<IPython.core.display.Markdown object>"
      ]
     },
     "metadata": {},
     "output_type": "display_data"
    },
    {
     "data": {
      "text/markdown": [
       "<span style=\"font-size:11pt\">Using classes from Geonames - 403/1383 entities have a class</span>"
      ],
      "text/plain": [
       "<IPython.core.display.Markdown object>"
      ]
     },
     "metadata": {},
     "output_type": "display_data"
    },
    {
     "data": {
      "text/markdown": [
       "<span style=\"font-size:11pt\">Labels (7 classes): <span style=\"color: #0000ff\">spot,building,farm</span>: 176, <span style=\"color: #0000ff\">stream,lake</span>: 74, <span style=\"color: #0000ff\">road,railroad</span>: 16, <span style=\"color: #0000ff\">parks,area</span>: 28, <span style=\"color: #0000ff\">undersea</span>: 27, <span style=\"color: #0000ff\">mountain,hill,rock</span>: 68, <span style=\"color: #0000ff\">forest,heath</span>: 14</span>"
      ],
      "text/plain": [
       "<IPython.core.display.Markdown object>"
      ]
     },
     "metadata": {},
     "output_type": "display_data"
    },
    {
     "data": {
      "text/markdown": [
       "<span style=\"font-size:11pt\">Eval-Settings: type: <span style=\"color: #0000ff\">one-vs-rest</span>, DT-Depth: <span style=\"color: #0000ff\">2</span>, train-test-split:<span style=\"color: #0000ff\"> 50.0% in test-set </span></span>"
      ],
      "text/plain": [
       "<IPython.core.display.Markdown object>"
      ]
     },
     "metadata": {},
     "output_type": "display_data"
    },
    {
     "data": {
      "text/markdown": [
       "<span style=\"font-size:11pt\">Per-Class-Scores: spot,building,farm: 0.75, mountain,hill,rock: 0.54, parks,area: 0.70, road,railroad: 0.91, forest,heath: 0.74, undersea: 0.67, stream,lake: 0.58</span>"
      ],
      "text/plain": [
       "<IPython.core.display.Markdown object>"
      ]
     },
     "metadata": {},
     "output_type": "display_data"
    },
    {
     "data": {
      "text/markdown": [
       "<span style=\"font-size:11pt\">Unweighted Mean Accuracy: 69.94%</span>"
      ],
      "text/plain": [
       "<IPython.core.display.Markdown object>"
      ]
     },
     "metadata": {},
     "output_type": "display_data"
    },
    {
     "data": {
      "text/markdown": [
       "<span style=\"font-size:11pt\">Weighted Mean Accuracy: 67.98%</span>"
      ],
      "text/plain": [
       "<IPython.core.display.Markdown object>"
      ]
     },
     "metadata": {},
     "output_type": "display_data"
    },
    {
     "data": {
      "text/markdown": [
       "<span style=\"font-size:11pt\">====================================================================================================</span>"
      ],
      "text/plain": [
       "<IPython.core.display.Markdown object>"
      ]
     },
     "metadata": {},
     "output_type": "display_data"
    },
    {
     "data": {
      "text/markdown": [
       "<span style=\"font-size:11pt\">Using classes from Geonames - 403/1383 entities have a class</span>"
      ],
      "text/plain": [
       "<IPython.core.display.Markdown object>"
      ]
     },
     "metadata": {},
     "output_type": "display_data"
    },
    {
     "data": {
      "text/markdown": [
       "<span style=\"font-size:11pt\">Labels (7 classes): <span style=\"color: #0000ff\">spot,building,farm</span>: 176, <span style=\"color: #0000ff\">stream,lake</span>: 74, <span style=\"color: #0000ff\">road,railroad</span>: 16, <span style=\"color: #0000ff\">parks,area</span>: 28, <span style=\"color: #0000ff\">undersea</span>: 27, <span style=\"color: #0000ff\">mountain,hill,rock</span>: 68, <span style=\"color: #0000ff\">forest,heath</span>: 14</span>"
      ],
      "text/plain": [
       "<IPython.core.display.Markdown object>"
      ]
     },
     "metadata": {},
     "output_type": "display_data"
    },
    {
     "data": {
      "text/markdown": [
       "<span style=\"font-size:11pt\">Eval-Settings: type: <span style=\"color: #0000ff\">one-vs-rest</span>, DT-Depth: <span style=\"color: #0000ff\">2</span>, train-test-split:<span style=\"color: #0000ff\"> 50.0% in test-set </span></span>"
      ],
      "text/plain": [
       "<IPython.core.display.Markdown object>"
      ]
     },
     "metadata": {},
     "output_type": "display_data"
    },
    {
     "data": {
      "text/markdown": [
       "<span style=\"font-size:11pt\">Per-Class-Scores: spot,building,farm: 0.73, mountain,hill,rock: 0.82, parks,area: 0.92, road,railroad: 0.96, forest,heath: 0.96, undersea: 0.91, stream,lake: 0.82</span>"
      ],
      "text/plain": [
       "<IPython.core.display.Markdown object>"
      ]
     },
     "metadata": {},
     "output_type": "display_data"
    },
    {
     "data": {
      "text/markdown": [
       "<span style=\"font-size:11pt\">Unweighted Mean Accuracy: 87.27%</span>"
      ],
      "text/plain": [
       "<IPython.core.display.Markdown object>"
      ]
     },
     "metadata": {},
     "output_type": "display_data"
    },
    {
     "data": {
      "text/markdown": [
       "<span style=\"font-size:11pt\">Weighted Mean Accuracy: 80.24%</span>"
      ],
      "text/plain": [
       "<IPython.core.display.Markdown object>"
      ]
     },
     "metadata": {},
     "output_type": "display_data"
    },
    {
     "data": {
      "text/markdown": [
       "<span style=\"font-size:11pt\">====================================================================================================</span>"
      ],
      "text/plain": [
       "<IPython.core.display.Markdown object>"
      ]
     },
     "metadata": {},
     "output_type": "display_data"
    },
    {
     "data": {
      "text/markdown": [
       "<span style=\"font-size:11pt\">Using classes from Geonames - 403/1383 entities have a class</span>"
      ],
      "text/plain": [
       "<IPython.core.display.Markdown object>"
      ]
     },
     "metadata": {},
     "output_type": "display_data"
    },
    {
     "data": {
      "text/markdown": [
       "<span style=\"font-size:11pt\">Labels (7 classes): <span style=\"color: #0000ff\">spot,building,farm</span>: 176, <span style=\"color: #0000ff\">stream,lake</span>: 74, <span style=\"color: #0000ff\">road,railroad</span>: 16, <span style=\"color: #0000ff\">parks,area</span>: 28, <span style=\"color: #0000ff\">undersea</span>: 27, <span style=\"color: #0000ff\">mountain,hill,rock</span>: 68, <span style=\"color: #0000ff\">forest,heath</span>: 14</span>"
      ],
      "text/plain": [
       "<IPython.core.display.Markdown object>"
      ]
     },
     "metadata": {},
     "output_type": "display_data"
    },
    {
     "data": {
      "text/markdown": [
       "<span style=\"font-size:11pt\">Eval-Settings: type: <span style=\"color: #0000ff\">one-vs-rest</span>, DT-Depth: <span style=\"color: #0000ff\">3</span>, train-test-split:<span style=\"color: #0000ff\"> 50.0% in test-set </span></span>"
      ],
      "text/plain": [
       "<IPython.core.display.Markdown object>"
      ]
     },
     "metadata": {},
     "output_type": "display_data"
    },
    {
     "data": {
      "text/markdown": [
       "<span style=\"font-size:11pt\">Per-Class-Scores: spot,building,farm: 0.64, mountain,hill,rock: 0.69, parks,area: 0.72, road,railroad: 0.92, forest,heath: 0.88, undersea: 0.69, stream,lake: 0.54</span>"
      ],
      "text/plain": [
       "<IPython.core.display.Markdown object>"
      ]
     },
     "metadata": {},
     "output_type": "display_data"
    },
    {
     "data": {
      "text/markdown": [
       "<span style=\"font-size:11pt\">Unweighted Mean Accuracy: 72.63%</span>"
      ],
      "text/plain": [
       "<IPython.core.display.Markdown object>"
      ]
     },
     "metadata": {},
     "output_type": "display_data"
    },
    {
     "data": {
      "text/markdown": [
       "<span style=\"font-size:11pt\">Weighted Mean Accuracy: 65.86%</span>"
      ],
      "text/plain": [
       "<IPython.core.display.Markdown object>"
      ]
     },
     "metadata": {},
     "output_type": "display_data"
    },
    {
     "data": {
      "text/markdown": [
       "<span style=\"font-size:11pt\">====================================================================================================</span>"
      ],
      "text/plain": [
       "<IPython.core.display.Markdown object>"
      ]
     },
     "metadata": {},
     "output_type": "display_data"
    },
    {
     "data": {
      "text/markdown": [
       "<span style=\"font-size:11pt\">Using classes from Geonames - 403/1383 entities have a class</span>"
      ],
      "text/plain": [
       "<IPython.core.display.Markdown object>"
      ]
     },
     "metadata": {},
     "output_type": "display_data"
    },
    {
     "data": {
      "text/markdown": [
       "<span style=\"font-size:11pt\">Labels (7 classes): <span style=\"color: #0000ff\">spot,building,farm</span>: 176, <span style=\"color: #0000ff\">stream,lake</span>: 74, <span style=\"color: #0000ff\">road,railroad</span>: 16, <span style=\"color: #0000ff\">parks,area</span>: 28, <span style=\"color: #0000ff\">undersea</span>: 27, <span style=\"color: #0000ff\">mountain,hill,rock</span>: 68, <span style=\"color: #0000ff\">forest,heath</span>: 14</span>"
      ],
      "text/plain": [
       "<IPython.core.display.Markdown object>"
      ]
     },
     "metadata": {},
     "output_type": "display_data"
    },
    {
     "data": {
      "text/markdown": [
       "<span style=\"font-size:11pt\">Eval-Settings: type: <span style=\"color: #0000ff\">one-vs-rest</span>, DT-Depth: <span style=\"color: #0000ff\">3</span>, train-test-split:<span style=\"color: #0000ff\"> 50.0% in test-set </span></span>"
      ],
      "text/plain": [
       "<IPython.core.display.Markdown object>"
      ]
     },
     "metadata": {},
     "output_type": "display_data"
    },
    {
     "data": {
      "text/markdown": [
       "<span style=\"font-size:11pt\">Per-Class-Scores: spot,building,farm: 0.77, mountain,hill,rock: 0.78, parks,area: 0.91, road,railroad: 0.92, forest,heath: 0.96, undersea: 0.92, stream,lake: 0.81</span>"
      ],
      "text/plain": [
       "<IPython.core.display.Markdown object>"
      ]
     },
     "metadata": {},
     "output_type": "display_data"
    },
    {
     "data": {
      "text/markdown": [
       "<span style=\"font-size:11pt\">Unweighted Mean Accuracy: 86.63%</span>"
      ],
      "text/plain": [
       "<IPython.core.display.Markdown object>"
      ]
     },
     "metadata": {},
     "output_type": "display_data"
    },
    {
     "data": {
      "text/markdown": [
       "<span style=\"font-size:11pt\">Weighted Mean Accuracy: 80.98%</span>"
      ],
      "text/plain": [
       "<IPython.core.display.Markdown object>"
      ]
     },
     "metadata": {},
     "output_type": "display_data"
    },
    {
     "data": {
      "text/markdown": [
       "<span style=\"font-size:11pt\">====================================================================================================</span>"
      ],
      "text/plain": [
       "<IPython.core.display.Markdown object>"
      ]
     },
     "metadata": {},
     "output_type": "display_data"
    },
    {
     "data": {
      "text/markdown": [
       "<span style=\"font-size:11pt\">Using classes from Geonames - 403/1383 entities have a class</span>"
      ],
      "text/plain": [
       "<IPython.core.display.Markdown object>"
      ]
     },
     "metadata": {},
     "output_type": "display_data"
    },
    {
     "data": {
      "text/markdown": [
       "<span style=\"font-size:11pt\">Labels (7 classes): <span style=\"color: #0000ff\">spot,building,farm</span>: 176, <span style=\"color: #0000ff\">stream,lake</span>: 74, <span style=\"color: #0000ff\">road,railroad</span>: 16, <span style=\"color: #0000ff\">parks,area</span>: 28, <span style=\"color: #0000ff\">undersea</span>: 27, <span style=\"color: #0000ff\">mountain,hill,rock</span>: 68, <span style=\"color: #0000ff\">forest,heath</span>: 14</span>"
      ],
      "text/plain": [
       "<IPython.core.display.Markdown object>"
      ]
     },
     "metadata": {},
     "output_type": "display_data"
    },
    {
     "data": {
      "text/markdown": [
       "<span style=\"font-size:11pt\">Eval-Settings: type: <span style=\"color: #0000ff\">all-at-once</span>, DT-Depth: <span style=\"color: #0000ff\">1</span>, train-test-split:<span style=\"color: #0000ff\"> 50.0% in test-set </span></span>"
      ],
      "text/plain": [
       "<IPython.core.display.Markdown object>"
      ]
     },
     "metadata": {},
     "output_type": "display_data"
    },
    {
     "name": "stderr",
     "output_type": "stream",
     "text": [
      "derive_conceptualspace/evaluate/shallow_trees.py:120: UserWarning: There are more classes (7) than your decision-tree can possibly classify (2)\n"
     ]
    },
    {
     "data": {
      "text/markdown": [
       "<span style=\"font-size:11pt\">Accuracy: 0.15</span>"
      ],
      "text/plain": [
       "<IPython.core.display.Markdown object>"
      ]
     },
     "metadata": {},
     "output_type": "display_data"
    },
    {
     "data": {
      "text/markdown": [
       "<span style=\"font-size:11pt\">Baseline Accuracy: 0.44</span>"
      ],
      "text/plain": [
       "<IPython.core.display.Markdown object>"
      ]
     },
     "metadata": {},
     "output_type": "display_data"
    },
    {
     "data": {
      "text/markdown": [
       "<span style=\"font-size:11pt\">Maximally achievable Accuracy: 0.62</span>"
      ],
      "text/plain": [
       "<IPython.core.display.Markdown object>"
      ]
     },
     "metadata": {},
     "output_type": "display_data"
    },
    {
     "data": {
      "text/markdown": [
       "<span style=\"font-size:11pt\">====================================================================================================</span>"
      ],
      "text/plain": [
       "<IPython.core.display.Markdown object>"
      ]
     },
     "metadata": {},
     "output_type": "display_data"
    },
    {
     "data": {
      "text/markdown": [
       "<span style=\"font-size:11pt\">Using classes from Geonames - 403/1383 entities have a class</span>"
      ],
      "text/plain": [
       "<IPython.core.display.Markdown object>"
      ]
     },
     "metadata": {},
     "output_type": "display_data"
    },
    {
     "data": {
      "text/markdown": [
       "<span style=\"font-size:11pt\">Labels (7 classes): <span style=\"color: #0000ff\">spot,building,farm</span>: 176, <span style=\"color: #0000ff\">stream,lake</span>: 74, <span style=\"color: #0000ff\">road,railroad</span>: 16, <span style=\"color: #0000ff\">parks,area</span>: 28, <span style=\"color: #0000ff\">undersea</span>: 27, <span style=\"color: #0000ff\">mountain,hill,rock</span>: 68, <span style=\"color: #0000ff\">forest,heath</span>: 14</span>"
      ],
      "text/plain": [
       "<IPython.core.display.Markdown object>"
      ]
     },
     "metadata": {},
     "output_type": "display_data"
    },
    {
     "data": {
      "text/markdown": [
       "<span style=\"font-size:11pt\">Eval-Settings: type: <span style=\"color: #0000ff\">all-at-once</span>, DT-Depth: <span style=\"color: #0000ff\">1</span>, train-test-split:<span style=\"color: #0000ff\"> 50.0% in test-set </span></span>"
      ],
      "text/plain": [
       "<IPython.core.display.Markdown object>"
      ]
     },
     "metadata": {},
     "output_type": "display_data"
    },
    {
     "name": "stderr",
     "output_type": "stream",
     "text": [
      "derive_conceptualspace/evaluate/shallow_trees.py:120: UserWarning: There are more classes (7) than your decision-tree can possibly classify (2)\n"
     ]
    },
    {
     "data": {
      "text/markdown": [
       "<span style=\"font-size:11pt\">Accuracy: 0.35</span>"
      ],
      "text/plain": [
       "<IPython.core.display.Markdown object>"
      ]
     },
     "metadata": {},
     "output_type": "display_data"
    },
    {
     "data": {
      "text/markdown": [
       "<span style=\"font-size:11pt\">Baseline Accuracy: 0.44</span>"
      ],
      "text/plain": [
       "<IPython.core.display.Markdown object>"
      ]
     },
     "metadata": {},
     "output_type": "display_data"
    },
    {
     "data": {
      "text/markdown": [
       "<span style=\"font-size:11pt\">Maximally achievable Accuracy: 0.62</span>"
      ],
      "text/plain": [
       "<IPython.core.display.Markdown object>"
      ]
     },
     "metadata": {},
     "output_type": "display_data"
    },
    {
     "data": {
      "text/markdown": [
       "<span style=\"font-size:11pt\">====================================================================================================</span>"
      ],
      "text/plain": [
       "<IPython.core.display.Markdown object>"
      ]
     },
     "metadata": {},
     "output_type": "display_data"
    },
    {
     "data": {
      "text/markdown": [
       "<span style=\"font-size:11pt\">Using classes from Geonames - 403/1383 entities have a class</span>"
      ],
      "text/plain": [
       "<IPython.core.display.Markdown object>"
      ]
     },
     "metadata": {},
     "output_type": "display_data"
    },
    {
     "data": {
      "text/markdown": [
       "<span style=\"font-size:11pt\">Labels (7 classes): <span style=\"color: #0000ff\">spot,building,farm</span>: 176, <span style=\"color: #0000ff\">stream,lake</span>: 74, <span style=\"color: #0000ff\">road,railroad</span>: 16, <span style=\"color: #0000ff\">parks,area</span>: 28, <span style=\"color: #0000ff\">undersea</span>: 27, <span style=\"color: #0000ff\">mountain,hill,rock</span>: 68, <span style=\"color: #0000ff\">forest,heath</span>: 14</span>"
      ],
      "text/plain": [
       "<IPython.core.display.Markdown object>"
      ]
     },
     "metadata": {},
     "output_type": "display_data"
    },
    {
     "data": {
      "text/markdown": [
       "<span style=\"font-size:11pt\">Eval-Settings: type: <span style=\"color: #0000ff\">all-at-once</span>, DT-Depth: <span style=\"color: #0000ff\">2</span>, train-test-split:<span style=\"color: #0000ff\"> 50.0% in test-set </span></span>"
      ],
      "text/plain": [
       "<IPython.core.display.Markdown object>"
      ]
     },
     "metadata": {},
     "output_type": "display_data"
    },
    {
     "name": "stderr",
     "output_type": "stream",
     "text": [
      "derive_conceptualspace/evaluate/shallow_trees.py:120: UserWarning: There are more classes (7) than your decision-tree can possibly classify (4)\n"
     ]
    },
    {
     "data": {
      "text/markdown": [
       "<span style=\"font-size:11pt\">Accuracy: 0.06</span>"
      ],
      "text/plain": [
       "<IPython.core.display.Markdown object>"
      ]
     },
     "metadata": {},
     "output_type": "display_data"
    },
    {
     "data": {
      "text/markdown": [
       "<span style=\"font-size:11pt\">====================================================================================================</span>"
      ],
      "text/plain": [
       "<IPython.core.display.Markdown object>"
      ]
     },
     "metadata": {},
     "output_type": "display_data"
    },
    {
     "data": {
      "text/markdown": [
       "<span style=\"font-size:11pt\">Using classes from Geonames - 403/1383 entities have a class</span>"
      ],
      "text/plain": [
       "<IPython.core.display.Markdown object>"
      ]
     },
     "metadata": {},
     "output_type": "display_data"
    },
    {
     "data": {
      "text/markdown": [
       "<span style=\"font-size:11pt\">Labels (7 classes): <span style=\"color: #0000ff\">spot,building,farm</span>: 176, <span style=\"color: #0000ff\">stream,lake</span>: 74, <span style=\"color: #0000ff\">road,railroad</span>: 16, <span style=\"color: #0000ff\">parks,area</span>: 28, <span style=\"color: #0000ff\">undersea</span>: 27, <span style=\"color: #0000ff\">mountain,hill,rock</span>: 68, <span style=\"color: #0000ff\">forest,heath</span>: 14</span>"
      ],
      "text/plain": [
       "<IPython.core.display.Markdown object>"
      ]
     },
     "metadata": {},
     "output_type": "display_data"
    },
    {
     "data": {
      "text/markdown": [
       "<span style=\"font-size:11pt\">Eval-Settings: type: <span style=\"color: #0000ff\">all-at-once</span>, DT-Depth: <span style=\"color: #0000ff\">2</span>, train-test-split:<span style=\"color: #0000ff\"> 50.0% in test-set </span></span>"
      ],
      "text/plain": [
       "<IPython.core.display.Markdown object>"
      ]
     },
     "metadata": {},
     "output_type": "display_data"
    },
    {
     "name": "stderr",
     "output_type": "stream",
     "text": [
      "derive_conceptualspace/evaluate/shallow_trees.py:120: UserWarning: There are more classes (7) than your decision-tree can possibly classify (4)\n"
     ]
    },
    {
     "data": {
      "text/markdown": [
       "<span style=\"font-size:11pt\">Accuracy: 0.49</span>"
      ],
      "text/plain": [
       "<IPython.core.display.Markdown object>"
      ]
     },
     "metadata": {},
     "output_type": "display_data"
    },
    {
     "data": {
      "text/markdown": [
       "<span style=\"font-size:11pt\">====================================================================================================</span>"
      ],
      "text/plain": [
       "<IPython.core.display.Markdown object>"
      ]
     },
     "metadata": {},
     "output_type": "display_data"
    },
    {
     "data": {
      "text/markdown": [
       "<span style=\"font-size:11pt\">Using classes from Geonames - 403/1383 entities have a class</span>"
      ],
      "text/plain": [
       "<IPython.core.display.Markdown object>"
      ]
     },
     "metadata": {},
     "output_type": "display_data"
    },
    {
     "data": {
      "text/markdown": [
       "<span style=\"font-size:11pt\">Labels (7 classes): <span style=\"color: #0000ff\">spot,building,farm</span>: 176, <span style=\"color: #0000ff\">stream,lake</span>: 74, <span style=\"color: #0000ff\">road,railroad</span>: 16, <span style=\"color: #0000ff\">parks,area</span>: 28, <span style=\"color: #0000ff\">undersea</span>: 27, <span style=\"color: #0000ff\">mountain,hill,rock</span>: 68, <span style=\"color: #0000ff\">forest,heath</span>: 14</span>"
      ],
      "text/plain": [
       "<IPython.core.display.Markdown object>"
      ]
     },
     "metadata": {},
     "output_type": "display_data"
    },
    {
     "data": {
      "text/markdown": [
       "<span style=\"font-size:11pt\">Eval-Settings: type: <span style=\"color: #0000ff\">all-at-once</span>, DT-Depth: <span style=\"color: #0000ff\">3</span>, train-test-split:<span style=\"color: #0000ff\"> 50.0% in test-set </span></span>"
      ],
      "text/plain": [
       "<IPython.core.display.Markdown object>"
      ]
     },
     "metadata": {},
     "output_type": "display_data"
    },
    {
     "data": {
      "text/markdown": [
       "<span style=\"font-size:11pt\">Accuracy: 0.24</span>"
      ],
      "text/plain": [
       "<IPython.core.display.Markdown object>"
      ]
     },
     "metadata": {},
     "output_type": "display_data"
    },
    {
     "data": {
      "text/markdown": [
       "<span style=\"font-size:11pt\">====================================================================================================</span>"
      ],
      "text/plain": [
       "<IPython.core.display.Markdown object>"
      ]
     },
     "metadata": {},
     "output_type": "display_data"
    },
    {
     "data": {
      "text/markdown": [
       "<span style=\"font-size:11pt\">Using classes from Geonames - 403/1383 entities have a class</span>"
      ],
      "text/plain": [
       "<IPython.core.display.Markdown object>"
      ]
     },
     "metadata": {},
     "output_type": "display_data"
    },
    {
     "data": {
      "text/markdown": [
       "<span style=\"font-size:11pt\">Labels (7 classes): <span style=\"color: #0000ff\">spot,building,farm</span>: 176, <span style=\"color: #0000ff\">stream,lake</span>: 74, <span style=\"color: #0000ff\">road,railroad</span>: 16, <span style=\"color: #0000ff\">parks,area</span>: 28, <span style=\"color: #0000ff\">undersea</span>: 27, <span style=\"color: #0000ff\">mountain,hill,rock</span>: 68, <span style=\"color: #0000ff\">forest,heath</span>: 14</span>"
      ],
      "text/plain": [
       "<IPython.core.display.Markdown object>"
      ]
     },
     "metadata": {},
     "output_type": "display_data"
    },
    {
     "data": {
      "text/markdown": [
       "<span style=\"font-size:11pt\">Eval-Settings: type: <span style=\"color: #0000ff\">all-at-once</span>, DT-Depth: <span style=\"color: #0000ff\">3</span>, train-test-split:<span style=\"color: #0000ff\"> 50.0% in test-set </span></span>"
      ],
      "text/plain": [
       "<IPython.core.display.Markdown object>"
      ]
     },
     "metadata": {},
     "output_type": "display_data"
    },
    {
     "data": {
      "text/markdown": [
       "<span style=\"font-size:11pt\">Accuracy: 0.47</span>"
      ],
      "text/plain": [
       "<IPython.core.display.Markdown object>"
      ]
     },
     "metadata": {},
     "output_type": "display_data"
    },
    {
     "data": {
      "text/markdown": [
       "<span style=\"font-size:11pt\">====================================================================================================</span>"
      ],
      "text/plain": [
       "<IPython.core.display.Markdown object>"
      ]
     },
     "metadata": {},
     "output_type": "display_data"
    },
    {
     "data": {
      "text/markdown": [
       "<span style=\"font-size:11pt\">Using classes from Geonames - 403/1383 entities have a class</span>"
      ],
      "text/plain": [
       "<IPython.core.display.Markdown object>"
      ]
     },
     "metadata": {},
     "output_type": "display_data"
    },
    {
     "data": {
      "text/markdown": [
       "<span style=\"font-size:11pt\">Labels (7 classes): <span style=\"color: #0000ff\">spot,building,farm</span>: 176, <span style=\"color: #0000ff\">stream,lake</span>: 74, <span style=\"color: #0000ff\">road,railroad</span>: 16, <span style=\"color: #0000ff\">parks,area</span>: 28, <span style=\"color: #0000ff\">undersea</span>: 27, <span style=\"color: #0000ff\">mountain,hill,rock</span>: 68, <span style=\"color: #0000ff\">forest,heath</span>: 14</span>"
      ],
      "text/plain": [
       "<IPython.core.display.Markdown object>"
      ]
     },
     "metadata": {},
     "output_type": "display_data"
    },
    {
     "data": {
      "text/markdown": [
       "<span style=\"font-size:11pt\">Eval-Settings: type: <span style=\"color: #0000ff\">one-vs-rest</span>, DT-Depth: <span style=\"color: #0000ff\">1</span>, train-test-split:<span style=\"color: #0000ff\"> 4-fold cross-validation </span></span>"
      ],
      "text/plain": [
       "<IPython.core.display.Markdown object>"
      ]
     },
     "metadata": {},
     "output_type": "display_data"
    },
    {
     "data": {
      "text/markdown": [
       "<span style=\"font-size:11pt\">Per-Class-Scores: spot,building,farm: 0.59, mountain,hill,rock: 0.46, parks,area: 0.49, road,railroad: 0.67, forest,heath: 0.67, undersea: 0.42, stream,lake: 0.52</span>"
      ],
      "text/plain": [
       "<IPython.core.display.Markdown object>"
      ]
     },
     "metadata": {},
     "output_type": "display_data"
    },
    {
     "data": {
      "text/markdown": [
       "<span style=\"font-size:11pt\">Unweighted Mean Accuracy: 54.50%</span>"
      ],
      "text/plain": [
       "<IPython.core.display.Markdown object>"
      ]
     },
     "metadata": {},
     "output_type": "display_data"
    },
    {
     "data": {
      "text/markdown": [
       "<span style=\"font-size:11pt\">Weighted Mean Accuracy: 54.11%</span>"
      ],
      "text/plain": [
       "<IPython.core.display.Markdown object>"
      ]
     },
     "metadata": {},
     "output_type": "display_data"
    },
    {
     "data": {
      "text/markdown": [
       "<span style=\"font-size:11pt\">====================================================================================================</span>"
      ],
      "text/plain": [
       "<IPython.core.display.Markdown object>"
      ]
     },
     "metadata": {},
     "output_type": "display_data"
    },
    {
     "data": {
      "text/markdown": [
       "<span style=\"font-size:11pt\">Using classes from Geonames - 403/1383 entities have a class</span>"
      ],
      "text/plain": [
       "<IPython.core.display.Markdown object>"
      ]
     },
     "metadata": {},
     "output_type": "display_data"
    },
    {
     "data": {
      "text/markdown": [
       "<span style=\"font-size:11pt\">Labels (7 classes): <span style=\"color: #0000ff\">spot,building,farm</span>: 176, <span style=\"color: #0000ff\">stream,lake</span>: 74, <span style=\"color: #0000ff\">road,railroad</span>: 16, <span style=\"color: #0000ff\">parks,area</span>: 28, <span style=\"color: #0000ff\">undersea</span>: 27, <span style=\"color: #0000ff\">mountain,hill,rock</span>: 68, <span style=\"color: #0000ff\">forest,heath</span>: 14</span>"
      ],
      "text/plain": [
       "<IPython.core.display.Markdown object>"
      ]
     },
     "metadata": {},
     "output_type": "display_data"
    },
    {
     "data": {
      "text/markdown": [
       "<span style=\"font-size:11pt\">Eval-Settings: type: <span style=\"color: #0000ff\">one-vs-rest</span>, DT-Depth: <span style=\"color: #0000ff\">1</span>, train-test-split:<span style=\"color: #0000ff\"> 4-fold cross-validation </span></span>"
      ],
      "text/plain": [
       "<IPython.core.display.Markdown object>"
      ]
     },
     "metadata": {},
     "output_type": "display_data"
    },
    {
     "data": {
      "text/markdown": [
       "<span style=\"font-size:11pt\">Per-Class-Scores: spot,building,farm: 0.62, mountain,hill,rock: 0.81, parks,area: 0.93, road,railroad: 0.96, forest,heath: 0.97, undersea: 0.93, stream,lake: 0.82</span>"
      ],
      "text/plain": [
       "<IPython.core.display.Markdown object>"
      ]
     },
     "metadata": {},
     "output_type": "display_data"
    },
    {
     "data": {
      "text/markdown": [
       "<span style=\"font-size:11pt\">Unweighted Mean Accuracy: 86.11%</span>"
      ],
      "text/plain": [
       "<IPython.core.display.Markdown object>"
      ]
     },
     "metadata": {},
     "output_type": "display_data"
    },
    {
     "data": {
      "text/markdown": [
       "<span style=\"font-size:11pt\">Weighted Mean Accuracy: 75.70%</span>"
      ],
      "text/plain": [
       "<IPython.core.display.Markdown object>"
      ]
     },
     "metadata": {},
     "output_type": "display_data"
    },
    {
     "data": {
      "text/markdown": [
       "<span style=\"font-size:11pt\">====================================================================================================</span>"
      ],
      "text/plain": [
       "<IPython.core.display.Markdown object>"
      ]
     },
     "metadata": {},
     "output_type": "display_data"
    },
    {
     "data": {
      "text/markdown": [
       "<span style=\"font-size:11pt\">Using classes from Geonames - 403/1383 entities have a class</span>"
      ],
      "text/plain": [
       "<IPython.core.display.Markdown object>"
      ]
     },
     "metadata": {},
     "output_type": "display_data"
    },
    {
     "data": {
      "text/markdown": [
       "<span style=\"font-size:11pt\">Labels (7 classes): <span style=\"color: #0000ff\">spot,building,farm</span>: 176, <span style=\"color: #0000ff\">stream,lake</span>: 74, <span style=\"color: #0000ff\">road,railroad</span>: 16, <span style=\"color: #0000ff\">parks,area</span>: 28, <span style=\"color: #0000ff\">undersea</span>: 27, <span style=\"color: #0000ff\">mountain,hill,rock</span>: 68, <span style=\"color: #0000ff\">forest,heath</span>: 14</span>"
      ],
      "text/plain": [
       "<IPython.core.display.Markdown object>"
      ]
     },
     "metadata": {},
     "output_type": "display_data"
    },
    {
     "data": {
      "text/markdown": [
       "<span style=\"font-size:11pt\">Eval-Settings: type: <span style=\"color: #0000ff\">one-vs-rest</span>, DT-Depth: <span style=\"color: #0000ff\">2</span>, train-test-split:<span style=\"color: #0000ff\"> 4-fold cross-validation </span></span>"
      ],
      "text/plain": [
       "<IPython.core.display.Markdown object>"
      ]
     },
     "metadata": {},
     "output_type": "display_data"
    },
    {
     "data": {
      "text/markdown": [
       "<span style=\"font-size:11pt\">Per-Class-Scores: spot,building,farm: 0.70, mountain,hill,rock: 0.51, parks,area: 0.68, road,railroad: 0.73, forest,heath: 0.80, undersea: 0.66, stream,lake: 0.50</span>"
      ],
      "text/plain": [
       "<IPython.core.display.Markdown object>"
      ]
     },
     "metadata": {},
     "output_type": "display_data"
    },
    {
     "data": {
      "text/markdown": [
       "<span style=\"font-size:11pt\">Unweighted Mean Accuracy: 65.44%</span>"
      ],
      "text/plain": [
       "<IPython.core.display.Markdown object>"
      ]
     },
     "metadata": {},
     "output_type": "display_data"
    },
    {
     "data": {
      "text/markdown": [
       "<span style=\"font-size:11pt\">Weighted Mean Accuracy: 63.17%</span>"
      ],
      "text/plain": [
       "<IPython.core.display.Markdown object>"
      ]
     },
     "metadata": {},
     "output_type": "display_data"
    },
    {
     "data": {
      "text/markdown": [
       "<span style=\"font-size:11pt\">====================================================================================================</span>"
      ],
      "text/plain": [
       "<IPython.core.display.Markdown object>"
      ]
     },
     "metadata": {},
     "output_type": "display_data"
    },
    {
     "data": {
      "text/markdown": [
       "<span style=\"font-size:11pt\">Using classes from Geonames - 403/1383 entities have a class</span>"
      ],
      "text/plain": [
       "<IPython.core.display.Markdown object>"
      ]
     },
     "metadata": {},
     "output_type": "display_data"
    },
    {
     "data": {
      "text/markdown": [
       "<span style=\"font-size:11pt\">Labels (7 classes): <span style=\"color: #0000ff\">spot,building,farm</span>: 176, <span style=\"color: #0000ff\">stream,lake</span>: 74, <span style=\"color: #0000ff\">road,railroad</span>: 16, <span style=\"color: #0000ff\">parks,area</span>: 28, <span style=\"color: #0000ff\">undersea</span>: 27, <span style=\"color: #0000ff\">mountain,hill,rock</span>: 68, <span style=\"color: #0000ff\">forest,heath</span>: 14</span>"
      ],
      "text/plain": [
       "<IPython.core.display.Markdown object>"
      ]
     },
     "metadata": {},
     "output_type": "display_data"
    },
    {
     "data": {
      "text/markdown": [
       "<span style=\"font-size:11pt\">Eval-Settings: type: <span style=\"color: #0000ff\">one-vs-rest</span>, DT-Depth: <span style=\"color: #0000ff\">2</span>, train-test-split:<span style=\"color: #0000ff\"> 4-fold cross-validation </span></span>"
      ],
      "text/plain": [
       "<IPython.core.display.Markdown object>"
      ]
     },
     "metadata": {},
     "output_type": "display_data"
    },
    {
     "data": {
      "text/markdown": [
       "<span style=\"font-size:11pt\">Per-Class-Scores: spot,building,farm: 0.70, mountain,hill,rock: 0.83, parks,area: 0.92, road,railroad: 0.96, forest,heath: 0.97, undersea: 0.93, stream,lake: 0.77</span>"
      ],
      "text/plain": [
       "<IPython.core.display.Markdown object>"
      ]
     },
     "metadata": {},
     "output_type": "display_data"
    },
    {
     "data": {
      "text/markdown": [
       "<span style=\"font-size:11pt\">Unweighted Mean Accuracy: 86.67%</span>"
      ],
      "text/plain": [
       "<IPython.core.display.Markdown object>"
      ]
     },
     "metadata": {},
     "output_type": "display_data"
    },
    {
     "data": {
      "text/markdown": [
       "<span style=\"font-size:11pt\">Weighted Mean Accuracy: 78.57%</span>"
      ],
      "text/plain": [
       "<IPython.core.display.Markdown object>"
      ]
     },
     "metadata": {},
     "output_type": "display_data"
    },
    {
     "data": {
      "text/markdown": [
       "<span style=\"font-size:11pt\">====================================================================================================</span>"
      ],
      "text/plain": [
       "<IPython.core.display.Markdown object>"
      ]
     },
     "metadata": {},
     "output_type": "display_data"
    },
    {
     "data": {
      "text/markdown": [
       "<span style=\"font-size:11pt\">Using classes from Geonames - 403/1383 entities have a class</span>"
      ],
      "text/plain": [
       "<IPython.core.display.Markdown object>"
      ]
     },
     "metadata": {},
     "output_type": "display_data"
    },
    {
     "data": {
      "text/markdown": [
       "<span style=\"font-size:11pt\">Labels (7 classes): <span style=\"color: #0000ff\">spot,building,farm</span>: 176, <span style=\"color: #0000ff\">stream,lake</span>: 74, <span style=\"color: #0000ff\">road,railroad</span>: 16, <span style=\"color: #0000ff\">parks,area</span>: 28, <span style=\"color: #0000ff\">undersea</span>: 27, <span style=\"color: #0000ff\">mountain,hill,rock</span>: 68, <span style=\"color: #0000ff\">forest,heath</span>: 14</span>"
      ],
      "text/plain": [
       "<IPython.core.display.Markdown object>"
      ]
     },
     "metadata": {},
     "output_type": "display_data"
    },
    {
     "data": {
      "text/markdown": [
       "<span style=\"font-size:11pt\">Eval-Settings: type: <span style=\"color: #0000ff\">one-vs-rest</span>, DT-Depth: <span style=\"color: #0000ff\">3</span>, train-test-split:<span style=\"color: #0000ff\"> 4-fold cross-validation </span></span>"
      ],
      "text/plain": [
       "<IPython.core.display.Markdown object>"
      ]
     },
     "metadata": {},
     "output_type": "display_data"
    },
    {
     "data": {
      "text/markdown": [
       "<span style=\"font-size:11pt\">Per-Class-Scores: spot,building,farm: 0.74, mountain,hill,rock: 0.56, parks,area: 0.64, road,railroad: 0.78, forest,heath: 0.88, undersea: 0.68, stream,lake: 0.54</span>"
      ],
      "text/plain": [
       "<IPython.core.display.Markdown object>"
      ]
     },
     "metadata": {},
     "output_type": "display_data"
    },
    {
     "data": {
      "text/markdown": [
       "<span style=\"font-size:11pt\">Unweighted Mean Accuracy: 68.75%</span>"
      ],
      "text/plain": [
       "<IPython.core.display.Markdown object>"
      ]
     },
     "metadata": {},
     "output_type": "display_data"
    },
    {
     "data": {
      "text/markdown": [
       "<span style=\"font-size:11pt\">Weighted Mean Accuracy: 66.61%</span>"
      ],
      "text/plain": [
       "<IPython.core.display.Markdown object>"
      ]
     },
     "metadata": {},
     "output_type": "display_data"
    },
    {
     "data": {
      "text/markdown": [
       "<span style=\"font-size:11pt\">====================================================================================================</span>"
      ],
      "text/plain": [
       "<IPython.core.display.Markdown object>"
      ]
     },
     "metadata": {},
     "output_type": "display_data"
    },
    {
     "data": {
      "text/markdown": [
       "<span style=\"font-size:11pt\">Using classes from Geonames - 403/1383 entities have a class</span>"
      ],
      "text/plain": [
       "<IPython.core.display.Markdown object>"
      ]
     },
     "metadata": {},
     "output_type": "display_data"
    },
    {
     "data": {
      "text/markdown": [
       "<span style=\"font-size:11pt\">Labels (7 classes): <span style=\"color: #0000ff\">spot,building,farm</span>: 176, <span style=\"color: #0000ff\">stream,lake</span>: 74, <span style=\"color: #0000ff\">road,railroad</span>: 16, <span style=\"color: #0000ff\">parks,area</span>: 28, <span style=\"color: #0000ff\">undersea</span>: 27, <span style=\"color: #0000ff\">mountain,hill,rock</span>: 68, <span style=\"color: #0000ff\">forest,heath</span>: 14</span>"
      ],
      "text/plain": [
       "<IPython.core.display.Markdown object>"
      ]
     },
     "metadata": {},
     "output_type": "display_data"
    },
    {
     "data": {
      "text/markdown": [
       "<span style=\"font-size:11pt\">Eval-Settings: type: <span style=\"color: #0000ff\">one-vs-rest</span>, DT-Depth: <span style=\"color: #0000ff\">3</span>, train-test-split:<span style=\"color: #0000ff\"> 4-fold cross-validation </span></span>"
      ],
      "text/plain": [
       "<IPython.core.display.Markdown object>"
      ]
     },
     "metadata": {},
     "output_type": "display_data"
    },
    {
     "data": {
      "text/markdown": [
       "<span style=\"font-size:11pt\">Per-Class-Scores: spot,building,farm: 0.77, mountain,hill,rock: 0.81, parks,area: 0.92, road,railroad: 0.96, forest,heath: 0.97, undersea: 0.91, stream,lake: 0.77</span>"
      ],
      "text/plain": [
       "<IPython.core.display.Markdown object>"
      ]
     },
     "metadata": {},
     "output_type": "display_data"
    },
    {
     "data": {
      "text/markdown": [
       "<span style=\"font-size:11pt\">Unweighted Mean Accuracy: 87.27%</span>"
      ],
      "text/plain": [
       "<IPython.core.display.Markdown object>"
      ]
     },
     "metadata": {},
     "output_type": "display_data"
    },
    {
     "data": {
      "text/markdown": [
       "<span style=\"font-size:11pt\">Weighted Mean Accuracy: 81.27%</span>"
      ],
      "text/plain": [
       "<IPython.core.display.Markdown object>"
      ]
     },
     "metadata": {},
     "output_type": "display_data"
    },
    {
     "data": {
      "text/markdown": [
       "<span style=\"font-size:11pt\">====================================================================================================</span>"
      ],
      "text/plain": [
       "<IPython.core.display.Markdown object>"
      ]
     },
     "metadata": {},
     "output_type": "display_data"
    },
    {
     "data": {
      "text/markdown": [
       "<span style=\"font-size:11pt\">Using classes from Geonames - 403/1383 entities have a class</span>"
      ],
      "text/plain": [
       "<IPython.core.display.Markdown object>"
      ]
     },
     "metadata": {},
     "output_type": "display_data"
    },
    {
     "data": {
      "text/markdown": [
       "<span style=\"font-size:11pt\">Labels (7 classes): <span style=\"color: #0000ff\">spot,building,farm</span>: 176, <span style=\"color: #0000ff\">stream,lake</span>: 74, <span style=\"color: #0000ff\">road,railroad</span>: 16, <span style=\"color: #0000ff\">parks,area</span>: 28, <span style=\"color: #0000ff\">undersea</span>: 27, <span style=\"color: #0000ff\">mountain,hill,rock</span>: 68, <span style=\"color: #0000ff\">forest,heath</span>: 14</span>"
      ],
      "text/plain": [
       "<IPython.core.display.Markdown object>"
      ]
     },
     "metadata": {},
     "output_type": "display_data"
    },
    {
     "data": {
      "text/markdown": [
       "<span style=\"font-size:11pt\">Eval-Settings: type: <span style=\"color: #0000ff\">all-at-once</span>, DT-Depth: <span style=\"color: #0000ff\">1</span>, train-test-split:<span style=\"color: #0000ff\"> 4-fold cross-validation </span></span>"
      ],
      "text/plain": [
       "<IPython.core.display.Markdown object>"
      ]
     },
     "metadata": {},
     "output_type": "display_data"
    },
    {
     "name": "stderr",
     "output_type": "stream",
     "text": [
      "derive_conceptualspace/evaluate/shallow_trees.py:120: UserWarning: There are more classes (7) than your decision-tree can possibly classify (2)\n"
     ]
    },
    {
     "data": {
      "text/markdown": [
       "<span style=\"font-size:11pt\">Accuracy: 0.06</span>"
      ],
      "text/plain": [
       "<IPython.core.display.Markdown object>"
      ]
     },
     "metadata": {},
     "output_type": "display_data"
    },
    {
     "data": {
      "text/markdown": [
       "<span style=\"font-size:11pt\">Baseline Accuracy: 0.44</span>"
      ],
      "text/plain": [
       "<IPython.core.display.Markdown object>"
      ]
     },
     "metadata": {},
     "output_type": "display_data"
    },
    {
     "data": {
      "text/markdown": [
       "<span style=\"font-size:11pt\">Maximally achievable Accuracy: 0.62</span>"
      ],
      "text/plain": [
       "<IPython.core.display.Markdown object>"
      ]
     },
     "metadata": {},
     "output_type": "display_data"
    },
    {
     "data": {
      "text/markdown": [
       "<span style=\"font-size:11pt\">====================================================================================================</span>"
      ],
      "text/plain": [
       "<IPython.core.display.Markdown object>"
      ]
     },
     "metadata": {},
     "output_type": "display_data"
    },
    {
     "data": {
      "text/markdown": [
       "<span style=\"font-size:11pt\">Using classes from Geonames - 403/1383 entities have a class</span>"
      ],
      "text/plain": [
       "<IPython.core.display.Markdown object>"
      ]
     },
     "metadata": {},
     "output_type": "display_data"
    },
    {
     "data": {
      "text/markdown": [
       "<span style=\"font-size:11pt\">Labels (7 classes): <span style=\"color: #0000ff\">spot,building,farm</span>: 176, <span style=\"color: #0000ff\">stream,lake</span>: 74, <span style=\"color: #0000ff\">road,railroad</span>: 16, <span style=\"color: #0000ff\">parks,area</span>: 28, <span style=\"color: #0000ff\">undersea</span>: 27, <span style=\"color: #0000ff\">mountain,hill,rock</span>: 68, <span style=\"color: #0000ff\">forest,heath</span>: 14</span>"
      ],
      "text/plain": [
       "<IPython.core.display.Markdown object>"
      ]
     },
     "metadata": {},
     "output_type": "display_data"
    },
    {
     "data": {
      "text/markdown": [
       "<span style=\"font-size:11pt\">Eval-Settings: type: <span style=\"color: #0000ff\">all-at-once</span>, DT-Depth: <span style=\"color: #0000ff\">1</span>, train-test-split:<span style=\"color: #0000ff\"> 4-fold cross-validation </span></span>"
      ],
      "text/plain": [
       "<IPython.core.display.Markdown object>"
      ]
     },
     "metadata": {},
     "output_type": "display_data"
    },
    {
     "name": "stderr",
     "output_type": "stream",
     "text": [
      "derive_conceptualspace/evaluate/shallow_trees.py:120: UserWarning: There are more classes (7) than your decision-tree can possibly classify (2)\n"
     ]
    },
    {
     "data": {
      "text/markdown": [
       "<span style=\"font-size:11pt\">Accuracy: 0.45</span>"
      ],
      "text/plain": [
       "<IPython.core.display.Markdown object>"
      ]
     },
     "metadata": {},
     "output_type": "display_data"
    },
    {
     "data": {
      "text/markdown": [
       "<span style=\"font-size:11pt\">Baseline Accuracy: 0.44</span>"
      ],
      "text/plain": [
       "<IPython.core.display.Markdown object>"
      ]
     },
     "metadata": {},
     "output_type": "display_data"
    },
    {
     "data": {
      "text/markdown": [
       "<span style=\"font-size:11pt\">Maximally achievable Accuracy: 0.62</span>"
      ],
      "text/plain": [
       "<IPython.core.display.Markdown object>"
      ]
     },
     "metadata": {},
     "output_type": "display_data"
    },
    {
     "data": {
      "text/markdown": [
       "<span style=\"font-size:11pt\">====================================================================================================</span>"
      ],
      "text/plain": [
       "<IPython.core.display.Markdown object>"
      ]
     },
     "metadata": {},
     "output_type": "display_data"
    },
    {
     "data": {
      "text/markdown": [
       "<span style=\"font-size:11pt\">Using classes from Geonames - 403/1383 entities have a class</span>"
      ],
      "text/plain": [
       "<IPython.core.display.Markdown object>"
      ]
     },
     "metadata": {},
     "output_type": "display_data"
    },
    {
     "data": {
      "text/markdown": [
       "<span style=\"font-size:11pt\">Labels (7 classes): <span style=\"color: #0000ff\">spot,building,farm</span>: 176, <span style=\"color: #0000ff\">stream,lake</span>: 74, <span style=\"color: #0000ff\">road,railroad</span>: 16, <span style=\"color: #0000ff\">parks,area</span>: 28, <span style=\"color: #0000ff\">undersea</span>: 27, <span style=\"color: #0000ff\">mountain,hill,rock</span>: 68, <span style=\"color: #0000ff\">forest,heath</span>: 14</span>"
      ],
      "text/plain": [
       "<IPython.core.display.Markdown object>"
      ]
     },
     "metadata": {},
     "output_type": "display_data"
    },
    {
     "data": {
      "text/markdown": [
       "<span style=\"font-size:11pt\">Eval-Settings: type: <span style=\"color: #0000ff\">all-at-once</span>, DT-Depth: <span style=\"color: #0000ff\">2</span>, train-test-split:<span style=\"color: #0000ff\"> 4-fold cross-validation </span></span>"
      ],
      "text/plain": [
       "<IPython.core.display.Markdown object>"
      ]
     },
     "metadata": {},
     "output_type": "display_data"
    },
    {
     "name": "stderr",
     "output_type": "stream",
     "text": [
      "derive_conceptualspace/evaluate/shallow_trees.py:120: UserWarning: There are more classes (7) than your decision-tree can possibly classify (4)\n"
     ]
    },
    {
     "data": {
      "text/markdown": [
       "<span style=\"font-size:11pt\">Accuracy: 0.11</span>"
      ],
      "text/plain": [
       "<IPython.core.display.Markdown object>"
      ]
     },
     "metadata": {},
     "output_type": "display_data"
    },
    {
     "data": {
      "text/markdown": [
       "<span style=\"font-size:11pt\">====================================================================================================</span>"
      ],
      "text/plain": [
       "<IPython.core.display.Markdown object>"
      ]
     },
     "metadata": {},
     "output_type": "display_data"
    },
    {
     "data": {
      "text/markdown": [
       "<span style=\"font-size:11pt\">Using classes from Geonames - 403/1383 entities have a class</span>"
      ],
      "text/plain": [
       "<IPython.core.display.Markdown object>"
      ]
     },
     "metadata": {},
     "output_type": "display_data"
    },
    {
     "data": {
      "text/markdown": [
       "<span style=\"font-size:11pt\">Labels (7 classes): <span style=\"color: #0000ff\">spot,building,farm</span>: 176, <span style=\"color: #0000ff\">stream,lake</span>: 74, <span style=\"color: #0000ff\">road,railroad</span>: 16, <span style=\"color: #0000ff\">parks,area</span>: 28, <span style=\"color: #0000ff\">undersea</span>: 27, <span style=\"color: #0000ff\">mountain,hill,rock</span>: 68, <span style=\"color: #0000ff\">forest,heath</span>: 14</span>"
      ],
      "text/plain": [
       "<IPython.core.display.Markdown object>"
      ]
     },
     "metadata": {},
     "output_type": "display_data"
    },
    {
     "data": {
      "text/markdown": [
       "<span style=\"font-size:11pt\">Eval-Settings: type: <span style=\"color: #0000ff\">all-at-once</span>, DT-Depth: <span style=\"color: #0000ff\">2</span>, train-test-split:<span style=\"color: #0000ff\"> 4-fold cross-validation </span></span>"
      ],
      "text/plain": [
       "<IPython.core.display.Markdown object>"
      ]
     },
     "metadata": {},
     "output_type": "display_data"
    },
    {
     "name": "stderr",
     "output_type": "stream",
     "text": [
      "derive_conceptualspace/evaluate/shallow_trees.py:120: UserWarning: There are more classes (7) than your decision-tree can possibly classify (4)\n"
     ]
    },
    {
     "data": {
      "text/markdown": [
       "<span style=\"font-size:11pt\">Accuracy: 0.45</span>"
      ],
      "text/plain": [
       "<IPython.core.display.Markdown object>"
      ]
     },
     "metadata": {},
     "output_type": "display_data"
    },
    {
     "data": {
      "text/markdown": [
       "<span style=\"font-size:11pt\">====================================================================================================</span>"
      ],
      "text/plain": [
       "<IPython.core.display.Markdown object>"
      ]
     },
     "metadata": {},
     "output_type": "display_data"
    },
    {
     "data": {
      "text/markdown": [
       "<span style=\"font-size:11pt\">Using classes from Geonames - 403/1383 entities have a class</span>"
      ],
      "text/plain": [
       "<IPython.core.display.Markdown object>"
      ]
     },
     "metadata": {},
     "output_type": "display_data"
    },
    {
     "data": {
      "text/markdown": [
       "<span style=\"font-size:11pt\">Labels (7 classes): <span style=\"color: #0000ff\">spot,building,farm</span>: 176, <span style=\"color: #0000ff\">stream,lake</span>: 74, <span style=\"color: #0000ff\">road,railroad</span>: 16, <span style=\"color: #0000ff\">parks,area</span>: 28, <span style=\"color: #0000ff\">undersea</span>: 27, <span style=\"color: #0000ff\">mountain,hill,rock</span>: 68, <span style=\"color: #0000ff\">forest,heath</span>: 14</span>"
      ],
      "text/plain": [
       "<IPython.core.display.Markdown object>"
      ]
     },
     "metadata": {},
     "output_type": "display_data"
    },
    {
     "data": {
      "text/markdown": [
       "<span style=\"font-size:11pt\">Eval-Settings: type: <span style=\"color: #0000ff\">all-at-once</span>, DT-Depth: <span style=\"color: #0000ff\">3</span>, train-test-split:<span style=\"color: #0000ff\"> 4-fold cross-validation </span></span>"
      ],
      "text/plain": [
       "<IPython.core.display.Markdown object>"
      ]
     },
     "metadata": {},
     "output_type": "display_data"
    },
    {
     "data": {
      "text/markdown": [
       "<span style=\"font-size:11pt\">Accuracy: 0.16</span>"
      ],
      "text/plain": [
       "<IPython.core.display.Markdown object>"
      ]
     },
     "metadata": {},
     "output_type": "display_data"
    },
    {
     "data": {
      "text/markdown": [
       "<span style=\"font-size:11pt\">====================================================================================================</span>"
      ],
      "text/plain": [
       "<IPython.core.display.Markdown object>"
      ]
     },
     "metadata": {},
     "output_type": "display_data"
    },
    {
     "data": {
      "text/markdown": [
       "<span style=\"font-size:11pt\">Using classes from Geonames - 403/1383 entities have a class</span>"
      ],
      "text/plain": [
       "<IPython.core.display.Markdown object>"
      ]
     },
     "metadata": {},
     "output_type": "display_data"
    },
    {
     "data": {
      "text/markdown": [
       "<span style=\"font-size:11pt\">Labels (7 classes): <span style=\"color: #0000ff\">spot,building,farm</span>: 176, <span style=\"color: #0000ff\">stream,lake</span>: 74, <span style=\"color: #0000ff\">road,railroad</span>: 16, <span style=\"color: #0000ff\">parks,area</span>: 28, <span style=\"color: #0000ff\">undersea</span>: 27, <span style=\"color: #0000ff\">mountain,hill,rock</span>: 68, <span style=\"color: #0000ff\">forest,heath</span>: 14</span>"
      ],
      "text/plain": [
       "<IPython.core.display.Markdown object>"
      ]
     },
     "metadata": {},
     "output_type": "display_data"
    },
    {
     "data": {
      "text/markdown": [
       "<span style=\"font-size:11pt\">Eval-Settings: type: <span style=\"color: #0000ff\">all-at-once</span>, DT-Depth: <span style=\"color: #0000ff\">3</span>, train-test-split:<span style=\"color: #0000ff\"> 4-fold cross-validation </span></span>"
      ],
      "text/plain": [
       "<IPython.core.display.Markdown object>"
      ]
     },
     "metadata": {},
     "output_type": "display_data"
    },
    {
     "data": {
      "text/markdown": [
       "<span style=\"font-size:11pt\">Accuracy: 0.48</span>"
      ],
      "text/plain": [
       "<IPython.core.display.Markdown object>"
      ]
     },
     "metadata": {},
     "output_type": "display_data"
    },
    {
     "data": {
      "text/markdown": [
       "<span style=\"font-size:11pt\">====================================================================================================</span>"
      ],
      "text/plain": [
       "<IPython.core.display.Markdown object>"
      ]
     },
     "metadata": {},
     "output_type": "display_data"
    },
    {
     "data": {
      "text/markdown": [
       "<span style=\"font-size:11pt\">Using classes from Geonames - 403/1383 entities have a class</span>"
      ],
      "text/plain": [
       "<IPython.core.display.Markdown object>"
      ]
     },
     "metadata": {},
     "output_type": "display_data"
    },
    {
     "data": {
      "text/markdown": [
       "<span style=\"font-size:11pt\">Labels (7 classes): <span style=\"color: #0000ff\">spot,building,farm</span>: 176, <span style=\"color: #0000ff\">stream,lake</span>: 74, <span style=\"color: #0000ff\">road,railroad</span>: 16, <span style=\"color: #0000ff\">parks,area</span>: 28, <span style=\"color: #0000ff\">undersea</span>: 27, <span style=\"color: #0000ff\">mountain,hill,rock</span>: 68, <span style=\"color: #0000ff\">forest,heath</span>: 14</span>"
      ],
      "text/plain": [
       "<IPython.core.display.Markdown object>"
      ]
     },
     "metadata": {},
     "output_type": "display_data"
    },
    {
     "data": {
      "text/markdown": [
       "<span style=\"font-size:11pt\">Eval-Settings: type: <span style=\"color: #0000ff\">one-vs-rest</span>, DT-Depth: <span style=\"color: #0000ff\">1</span>, train-test-split:<span style=\"color: #0000ff\"> 5-fold cross-validation </span></span>"
      ],
      "text/plain": [
       "<IPython.core.display.Markdown object>"
      ]
     },
     "metadata": {},
     "output_type": "display_data"
    },
    {
     "data": {
      "text/markdown": [
       "<span style=\"font-size:11pt\">Per-Class-Scores: spot,building,farm: 0.57, mountain,hill,rock: 0.44, parks,area: 0.46, road,railroad: 0.64, forest,heath: 0.75, undersea: 0.41, stream,lake: 0.51</span>"
      ],
      "text/plain": [
       "<IPython.core.display.Markdown object>"
      ]
     },
     "metadata": {},
     "output_type": "display_data"
    },
    {
     "data": {
      "text/markdown": [
       "<span style=\"font-size:11pt\">Unweighted Mean Accuracy: 53.93%</span>"
      ],
      "text/plain": [
       "<IPython.core.display.Markdown object>"
      ]
     },
     "metadata": {},
     "output_type": "display_data"
    },
    {
     "data": {
      "text/markdown": [
       "<span style=\"font-size:11pt\">Weighted Mean Accuracy: 52.88%</span>"
      ],
      "text/plain": [
       "<IPython.core.display.Markdown object>"
      ]
     },
     "metadata": {},
     "output_type": "display_data"
    },
    {
     "data": {
      "text/markdown": [
       "<span style=\"font-size:11pt\">====================================================================================================</span>"
      ],
      "text/plain": [
       "<IPython.core.display.Markdown object>"
      ]
     },
     "metadata": {},
     "output_type": "display_data"
    },
    {
     "data": {
      "text/markdown": [
       "<span style=\"font-size:11pt\">Using classes from Geonames - 403/1383 entities have a class</span>"
      ],
      "text/plain": [
       "<IPython.core.display.Markdown object>"
      ]
     },
     "metadata": {},
     "output_type": "display_data"
    },
    {
     "data": {
      "text/markdown": [
       "<span style=\"font-size:11pt\">Labels (7 classes): <span style=\"color: #0000ff\">spot,building,farm</span>: 176, <span style=\"color: #0000ff\">stream,lake</span>: 74, <span style=\"color: #0000ff\">road,railroad</span>: 16, <span style=\"color: #0000ff\">parks,area</span>: 28, <span style=\"color: #0000ff\">undersea</span>: 27, <span style=\"color: #0000ff\">mountain,hill,rock</span>: 68, <span style=\"color: #0000ff\">forest,heath</span>: 14</span>"
      ],
      "text/plain": [
       "<IPython.core.display.Markdown object>"
      ]
     },
     "metadata": {},
     "output_type": "display_data"
    },
    {
     "data": {
      "text/markdown": [
       "<span style=\"font-size:11pt\">Eval-Settings: type: <span style=\"color: #0000ff\">one-vs-rest</span>, DT-Depth: <span style=\"color: #0000ff\">1</span>, train-test-split:<span style=\"color: #0000ff\"> 5-fold cross-validation </span></span>"
      ],
      "text/plain": [
       "<IPython.core.display.Markdown object>"
      ]
     },
     "metadata": {},
     "output_type": "display_data"
    },
    {
     "data": {
      "text/markdown": [
       "<span style=\"font-size:11pt\">Per-Class-Scores: spot,building,farm: 0.59, mountain,hill,rock: 0.82, parks,area: 0.93, road,railroad: 0.95, forest,heath: 0.97, undersea: 0.93, stream,lake: 0.82</span>"
      ],
      "text/plain": [
       "<IPython.core.display.Markdown object>"
      ]
     },
     "metadata": {},
     "output_type": "display_data"
    },
    {
     "data": {
      "text/markdown": [
       "<span style=\"font-size:11pt\">Unweighted Mean Accuracy: 85.72%</span>"
      ],
      "text/plain": [
       "<IPython.core.display.Markdown object>"
      ]
     },
     "metadata": {},
     "output_type": "display_data"
    },
    {
     "data": {
      "text/markdown": [
       "<span style=\"font-size:11pt\">Weighted Mean Accuracy: 74.44%</span>"
      ],
      "text/plain": [
       "<IPython.core.display.Markdown object>"
      ]
     },
     "metadata": {},
     "output_type": "display_data"
    },
    {
     "data": {
      "text/markdown": [
       "<span style=\"font-size:11pt\">====================================================================================================</span>"
      ],
      "text/plain": [
       "<IPython.core.display.Markdown object>"
      ]
     },
     "metadata": {},
     "output_type": "display_data"
    },
    {
     "data": {
      "text/markdown": [
       "<span style=\"font-size:11pt\">Using classes from Geonames - 403/1383 entities have a class</span>"
      ],
      "text/plain": [
       "<IPython.core.display.Markdown object>"
      ]
     },
     "metadata": {},
     "output_type": "display_data"
    },
    {
     "data": {
      "text/markdown": [
       "<span style=\"font-size:11pt\">Labels (7 classes): <span style=\"color: #0000ff\">spot,building,farm</span>: 176, <span style=\"color: #0000ff\">stream,lake</span>: 74, <span style=\"color: #0000ff\">road,railroad</span>: 16, <span style=\"color: #0000ff\">parks,area</span>: 28, <span style=\"color: #0000ff\">undersea</span>: 27, <span style=\"color: #0000ff\">mountain,hill,rock</span>: 68, <span style=\"color: #0000ff\">forest,heath</span>: 14</span>"
      ],
      "text/plain": [
       "<IPython.core.display.Markdown object>"
      ]
     },
     "metadata": {},
     "output_type": "display_data"
    },
    {
     "data": {
      "text/markdown": [
       "<span style=\"font-size:11pt\">Eval-Settings: type: <span style=\"color: #0000ff\">one-vs-rest</span>, DT-Depth: <span style=\"color: #0000ff\">2</span>, train-test-split:<span style=\"color: #0000ff\"> 5-fold cross-validation </span></span>"
      ],
      "text/plain": [
       "<IPython.core.display.Markdown object>"
      ]
     },
     "metadata": {},
     "output_type": "display_data"
    },
    {
     "data": {
      "text/markdown": [
       "<span style=\"font-size:11pt\">Per-Class-Scores: spot,building,farm: 0.69, mountain,hill,rock: 0.62, parks,area: 0.81, road,railroad: 0.74, forest,heath: 0.80, undersea: 0.59, stream,lake: 0.55</span>"
      ],
      "text/plain": [
       "<IPython.core.display.Markdown object>"
      ]
     },
     "metadata": {},
     "output_type": "display_data"
    },
    {
     "data": {
      "text/markdown": [
       "<span style=\"font-size:11pt\">Unweighted Mean Accuracy: 68.60%</span>"
      ],
      "text/plain": [
       "<IPython.core.display.Markdown object>"
      ]
     },
     "metadata": {},
     "output_type": "display_data"
    },
    {
     "data": {
      "text/markdown": [
       "<span style=\"font-size:11pt\">Weighted Mean Accuracy: 66.03%</span>"
      ],
      "text/plain": [
       "<IPython.core.display.Markdown object>"
      ]
     },
     "metadata": {},
     "output_type": "display_data"
    },
    {
     "data": {
      "text/markdown": [
       "<span style=\"font-size:11pt\">====================================================================================================</span>"
      ],
      "text/plain": [
       "<IPython.core.display.Markdown object>"
      ]
     },
     "metadata": {},
     "output_type": "display_data"
    },
    {
     "data": {
      "text/markdown": [
       "<span style=\"font-size:11pt\">Using classes from Geonames - 403/1383 entities have a class</span>"
      ],
      "text/plain": [
       "<IPython.core.display.Markdown object>"
      ]
     },
     "metadata": {},
     "output_type": "display_data"
    },
    {
     "data": {
      "text/markdown": [
       "<span style=\"font-size:11pt\">Labels (7 classes): <span style=\"color: #0000ff\">spot,building,farm</span>: 176, <span style=\"color: #0000ff\">stream,lake</span>: 74, <span style=\"color: #0000ff\">road,railroad</span>: 16, <span style=\"color: #0000ff\">parks,area</span>: 28, <span style=\"color: #0000ff\">undersea</span>: 27, <span style=\"color: #0000ff\">mountain,hill,rock</span>: 68, <span style=\"color: #0000ff\">forest,heath</span>: 14</span>"
      ],
      "text/plain": [
       "<IPython.core.display.Markdown object>"
      ]
     },
     "metadata": {},
     "output_type": "display_data"
    },
    {
     "data": {
      "text/markdown": [
       "<span style=\"font-size:11pt\">Eval-Settings: type: <span style=\"color: #0000ff\">one-vs-rest</span>, DT-Depth: <span style=\"color: #0000ff\">2</span>, train-test-split:<span style=\"color: #0000ff\"> 5-fold cross-validation </span></span>"
      ],
      "text/plain": [
       "<IPython.core.display.Markdown object>"
      ]
     },
     "metadata": {},
     "output_type": "display_data"
    },
    {
     "data": {
      "text/markdown": [
       "<span style=\"font-size:11pt\">Per-Class-Scores: spot,building,farm: 0.72, mountain,hill,rock: 0.81, parks,area: 0.93, road,railroad: 0.95, forest,heath: 0.97, undersea: 0.92, stream,lake: 0.79</span>"
      ],
      "text/plain": [
       "<IPython.core.display.Markdown object>"
      ]
     },
     "metadata": {},
     "output_type": "display_data"
    },
    {
     "data": {
      "text/markdown": [
       "<span style=\"font-size:11pt\">Unweighted Mean Accuracy: 86.92%</span>"
      ],
      "text/plain": [
       "<IPython.core.display.Markdown object>"
      ]
     },
     "metadata": {},
     "output_type": "display_data"
    },
    {
     "data": {
      "text/markdown": [
       "<span style=\"font-size:11pt\">Weighted Mean Accuracy: 79.30%</span>"
      ],
      "text/plain": [
       "<IPython.core.display.Markdown object>"
      ]
     },
     "metadata": {},
     "output_type": "display_data"
    },
    {
     "data": {
      "text/markdown": [
       "<span style=\"font-size:11pt\">====================================================================================================</span>"
      ],
      "text/plain": [
       "<IPython.core.display.Markdown object>"
      ]
     },
     "metadata": {},
     "output_type": "display_data"
    },
    {
     "data": {
      "text/markdown": [
       "<span style=\"font-size:11pt\">Using classes from Geonames - 403/1383 entities have a class</span>"
      ],
      "text/plain": [
       "<IPython.core.display.Markdown object>"
      ]
     },
     "metadata": {},
     "output_type": "display_data"
    },
    {
     "data": {
      "text/markdown": [
       "<span style=\"font-size:11pt\">Labels (7 classes): <span style=\"color: #0000ff\">spot,building,farm</span>: 176, <span style=\"color: #0000ff\">stream,lake</span>: 74, <span style=\"color: #0000ff\">road,railroad</span>: 16, <span style=\"color: #0000ff\">parks,area</span>: 28, <span style=\"color: #0000ff\">undersea</span>: 27, <span style=\"color: #0000ff\">mountain,hill,rock</span>: 68, <span style=\"color: #0000ff\">forest,heath</span>: 14</span>"
      ],
      "text/plain": [
       "<IPython.core.display.Markdown object>"
      ]
     },
     "metadata": {},
     "output_type": "display_data"
    },
    {
     "data": {
      "text/markdown": [
       "<span style=\"font-size:11pt\">Eval-Settings: type: <span style=\"color: #0000ff\">one-vs-rest</span>, DT-Depth: <span style=\"color: #0000ff\">3</span>, train-test-split:<span style=\"color: #0000ff\"> 5-fold cross-validation </span></span>"
      ],
      "text/plain": [
       "<IPython.core.display.Markdown object>"
      ]
     },
     "metadata": {},
     "output_type": "display_data"
    },
    {
     "data": {
      "text/markdown": [
       "<span style=\"font-size:11pt\">Per-Class-Scores: spot,building,farm: 0.72, mountain,hill,rock: 0.65, parks,area: 0.60, road,railroad: 0.79, forest,heath: 0.91, undersea: 0.65, stream,lake: 0.60</span>"
      ],
      "text/plain": [
       "<IPython.core.display.Markdown object>"
      ]
     },
     "metadata": {},
     "output_type": "display_data"
    },
    {
     "data": {
      "text/markdown": [
       "<span style=\"font-size:11pt\">Unweighted Mean Accuracy: 70.25%</span>"
      ],
      "text/plain": [
       "<IPython.core.display.Markdown object>"
      ]
     },
     "metadata": {},
     "output_type": "display_data"
    },
    {
     "data": {
      "text/markdown": [
       "<span style=\"font-size:11pt\">Weighted Mean Accuracy: 68.43%</span>"
      ],
      "text/plain": [
       "<IPython.core.display.Markdown object>"
      ]
     },
     "metadata": {},
     "output_type": "display_data"
    },
    {
     "data": {
      "text/markdown": [
       "<span style=\"font-size:11pt\">====================================================================================================</span>"
      ],
      "text/plain": [
       "<IPython.core.display.Markdown object>"
      ]
     },
     "metadata": {},
     "output_type": "display_data"
    },
    {
     "data": {
      "text/markdown": [
       "<span style=\"font-size:11pt\">Using classes from Geonames - 403/1383 entities have a class</span>"
      ],
      "text/plain": [
       "<IPython.core.display.Markdown object>"
      ]
     },
     "metadata": {},
     "output_type": "display_data"
    },
    {
     "data": {
      "text/markdown": [
       "<span style=\"font-size:11pt\">Labels (7 classes): <span style=\"color: #0000ff\">spot,building,farm</span>: 176, <span style=\"color: #0000ff\">stream,lake</span>: 74, <span style=\"color: #0000ff\">road,railroad</span>: 16, <span style=\"color: #0000ff\">parks,area</span>: 28, <span style=\"color: #0000ff\">undersea</span>: 27, <span style=\"color: #0000ff\">mountain,hill,rock</span>: 68, <span style=\"color: #0000ff\">forest,heath</span>: 14</span>"
      ],
      "text/plain": [
       "<IPython.core.display.Markdown object>"
      ]
     },
     "metadata": {},
     "output_type": "display_data"
    },
    {
     "data": {
      "text/markdown": [
       "<span style=\"font-size:11pt\">Eval-Settings: type: <span style=\"color: #0000ff\">one-vs-rest</span>, DT-Depth: <span style=\"color: #0000ff\">3</span>, train-test-split:<span style=\"color: #0000ff\"> 5-fold cross-validation </span></span>"
      ],
      "text/plain": [
       "<IPython.core.display.Markdown object>"
      ]
     },
     "metadata": {},
     "output_type": "display_data"
    },
    {
     "data": {
      "text/markdown": [
       "<span style=\"font-size:11pt\">Per-Class-Scores: spot,building,farm: 0.76, mountain,hill,rock: 0.80, parks,area: 0.91, road,railroad: 0.95, forest,heath: 0.96, undersea: 0.91, stream,lake: 0.81</span>"
      ],
      "text/plain": [
       "<IPython.core.display.Markdown object>"
      ]
     },
     "metadata": {},
     "output_type": "display_data"
    },
    {
     "data": {
      "text/markdown": [
       "<span style=\"font-size:11pt\">Unweighted Mean Accuracy: 87.10%</span>"
      ],
      "text/plain": [
       "<IPython.core.display.Markdown object>"
      ]
     },
     "metadata": {},
     "output_type": "display_data"
    },
    {
     "data": {
      "text/markdown": [
       "<span style=\"font-size:11pt\">Weighted Mean Accuracy: 81.13%</span>"
      ],
      "text/plain": [
       "<IPython.core.display.Markdown object>"
      ]
     },
     "metadata": {},
     "output_type": "display_data"
    },
    {
     "data": {
      "text/markdown": [
       "<span style=\"font-size:11pt\">====================================================================================================</span>"
      ],
      "text/plain": [
       "<IPython.core.display.Markdown object>"
      ]
     },
     "metadata": {},
     "output_type": "display_data"
    },
    {
     "data": {
      "text/markdown": [
       "<span style=\"font-size:11pt\">Using classes from Geonames - 403/1383 entities have a class</span>"
      ],
      "text/plain": [
       "<IPython.core.display.Markdown object>"
      ]
     },
     "metadata": {},
     "output_type": "display_data"
    },
    {
     "data": {
      "text/markdown": [
       "<span style=\"font-size:11pt\">Labels (7 classes): <span style=\"color: #0000ff\">spot,building,farm</span>: 176, <span style=\"color: #0000ff\">stream,lake</span>: 74, <span style=\"color: #0000ff\">road,railroad</span>: 16, <span style=\"color: #0000ff\">parks,area</span>: 28, <span style=\"color: #0000ff\">undersea</span>: 27, <span style=\"color: #0000ff\">mountain,hill,rock</span>: 68, <span style=\"color: #0000ff\">forest,heath</span>: 14</span>"
      ],
      "text/plain": [
       "<IPython.core.display.Markdown object>"
      ]
     },
     "metadata": {},
     "output_type": "display_data"
    },
    {
     "data": {
      "text/markdown": [
       "<span style=\"font-size:11pt\">Eval-Settings: type: <span style=\"color: #0000ff\">all-at-once</span>, DT-Depth: <span style=\"color: #0000ff\">1</span>, train-test-split:<span style=\"color: #0000ff\"> 5-fold cross-validation </span></span>"
      ],
      "text/plain": [
       "<IPython.core.display.Markdown object>"
      ]
     },
     "metadata": {},
     "output_type": "display_data"
    },
    {
     "name": "stderr",
     "output_type": "stream",
     "text": [
      "derive_conceptualspace/evaluate/shallow_trees.py:120: UserWarning: There are more classes (7) than your decision-tree can possibly classify (2)\n"
     ]
    },
    {
     "data": {
      "text/markdown": [
       "<span style=\"font-size:11pt\">Accuracy: 0.06</span>"
      ],
      "text/plain": [
       "<IPython.core.display.Markdown object>"
      ]
     },
     "metadata": {},
     "output_type": "display_data"
    },
    {
     "data": {
      "text/markdown": [
       "<span style=\"font-size:11pt\">Baseline Accuracy: 0.44</span>"
      ],
      "text/plain": [
       "<IPython.core.display.Markdown object>"
      ]
     },
     "metadata": {},
     "output_type": "display_data"
    },
    {
     "data": {
      "text/markdown": [
       "<span style=\"font-size:11pt\">Maximally achievable Accuracy: 0.62</span>"
      ],
      "text/plain": [
       "<IPython.core.display.Markdown object>"
      ]
     },
     "metadata": {},
     "output_type": "display_data"
    },
    {
     "data": {
      "text/markdown": [
       "<span style=\"font-size:11pt\">====================================================================================================</span>"
      ],
      "text/plain": [
       "<IPython.core.display.Markdown object>"
      ]
     },
     "metadata": {},
     "output_type": "display_data"
    },
    {
     "data": {
      "text/markdown": [
       "<span style=\"font-size:11pt\">Using classes from Geonames - 403/1383 entities have a class</span>"
      ],
      "text/plain": [
       "<IPython.core.display.Markdown object>"
      ]
     },
     "metadata": {},
     "output_type": "display_data"
    },
    {
     "data": {
      "text/markdown": [
       "<span style=\"font-size:11pt\">Labels (7 classes): <span style=\"color: #0000ff\">spot,building,farm</span>: 176, <span style=\"color: #0000ff\">stream,lake</span>: 74, <span style=\"color: #0000ff\">road,railroad</span>: 16, <span style=\"color: #0000ff\">parks,area</span>: 28, <span style=\"color: #0000ff\">undersea</span>: 27, <span style=\"color: #0000ff\">mountain,hill,rock</span>: 68, <span style=\"color: #0000ff\">forest,heath</span>: 14</span>"
      ],
      "text/plain": [
       "<IPython.core.display.Markdown object>"
      ]
     },
     "metadata": {},
     "output_type": "display_data"
    },
    {
     "data": {
      "text/markdown": [
       "<span style=\"font-size:11pt\">Eval-Settings: type: <span style=\"color: #0000ff\">all-at-once</span>, DT-Depth: <span style=\"color: #0000ff\">1</span>, train-test-split:<span style=\"color: #0000ff\"> 5-fold cross-validation </span></span>"
      ],
      "text/plain": [
       "<IPython.core.display.Markdown object>"
      ]
     },
     "metadata": {},
     "output_type": "display_data"
    },
    {
     "name": "stderr",
     "output_type": "stream",
     "text": [
      "derive_conceptualspace/evaluate/shallow_trees.py:120: UserWarning: There are more classes (7) than your decision-tree can possibly classify (2)\n"
     ]
    },
    {
     "data": {
      "text/markdown": [
       "<span style=\"font-size:11pt\">Accuracy: 0.43</span>"
      ],
      "text/plain": [
       "<IPython.core.display.Markdown object>"
      ]
     },
     "metadata": {},
     "output_type": "display_data"
    },
    {
     "data": {
      "text/markdown": [
       "<span style=\"font-size:11pt\">Baseline Accuracy: 0.44</span>"
      ],
      "text/plain": [
       "<IPython.core.display.Markdown object>"
      ]
     },
     "metadata": {},
     "output_type": "display_data"
    },
    {
     "data": {
      "text/markdown": [
       "<span style=\"font-size:11pt\">Maximally achievable Accuracy: 0.62</span>"
      ],
      "text/plain": [
       "<IPython.core.display.Markdown object>"
      ]
     },
     "metadata": {},
     "output_type": "display_data"
    },
    {
     "data": {
      "text/markdown": [
       "<span style=\"font-size:11pt\">====================================================================================================</span>"
      ],
      "text/plain": [
       "<IPython.core.display.Markdown object>"
      ]
     },
     "metadata": {},
     "output_type": "display_data"
    },
    {
     "data": {
      "text/markdown": [
       "<span style=\"font-size:11pt\">Using classes from Geonames - 403/1383 entities have a class</span>"
      ],
      "text/plain": [
       "<IPython.core.display.Markdown object>"
      ]
     },
     "metadata": {},
     "output_type": "display_data"
    },
    {
     "data": {
      "text/markdown": [
       "<span style=\"font-size:11pt\">Labels (7 classes): <span style=\"color: #0000ff\">spot,building,farm</span>: 176, <span style=\"color: #0000ff\">stream,lake</span>: 74, <span style=\"color: #0000ff\">road,railroad</span>: 16, <span style=\"color: #0000ff\">parks,area</span>: 28, <span style=\"color: #0000ff\">undersea</span>: 27, <span style=\"color: #0000ff\">mountain,hill,rock</span>: 68, <span style=\"color: #0000ff\">forest,heath</span>: 14</span>"
      ],
      "text/plain": [
       "<IPython.core.display.Markdown object>"
      ]
     },
     "metadata": {},
     "output_type": "display_data"
    },
    {
     "data": {
      "text/markdown": [
       "<span style=\"font-size:11pt\">Eval-Settings: type: <span style=\"color: #0000ff\">all-at-once</span>, DT-Depth: <span style=\"color: #0000ff\">2</span>, train-test-split:<span style=\"color: #0000ff\"> 5-fold cross-validation </span></span>"
      ],
      "text/plain": [
       "<IPython.core.display.Markdown object>"
      ]
     },
     "metadata": {},
     "output_type": "display_data"
    },
    {
     "name": "stderr",
     "output_type": "stream",
     "text": [
      "derive_conceptualspace/evaluate/shallow_trees.py:120: UserWarning: There are more classes (7) than your decision-tree can possibly classify (4)\n"
     ]
    },
    {
     "data": {
      "text/markdown": [
       "<span style=\"font-size:11pt\">Accuracy: 0.11</span>"
      ],
      "text/plain": [
       "<IPython.core.display.Markdown object>"
      ]
     },
     "metadata": {},
     "output_type": "display_data"
    },
    {
     "data": {
      "text/markdown": [
       "<span style=\"font-size:11pt\">====================================================================================================</span>"
      ],
      "text/plain": [
       "<IPython.core.display.Markdown object>"
      ]
     },
     "metadata": {},
     "output_type": "display_data"
    },
    {
     "data": {
      "text/markdown": [
       "<span style=\"font-size:11pt\">Using classes from Geonames - 403/1383 entities have a class</span>"
      ],
      "text/plain": [
       "<IPython.core.display.Markdown object>"
      ]
     },
     "metadata": {},
     "output_type": "display_data"
    },
    {
     "data": {
      "text/markdown": [
       "<span style=\"font-size:11pt\">Labels (7 classes): <span style=\"color: #0000ff\">spot,building,farm</span>: 176, <span style=\"color: #0000ff\">stream,lake</span>: 74, <span style=\"color: #0000ff\">road,railroad</span>: 16, <span style=\"color: #0000ff\">parks,area</span>: 28, <span style=\"color: #0000ff\">undersea</span>: 27, <span style=\"color: #0000ff\">mountain,hill,rock</span>: 68, <span style=\"color: #0000ff\">forest,heath</span>: 14</span>"
      ],
      "text/plain": [
       "<IPython.core.display.Markdown object>"
      ]
     },
     "metadata": {},
     "output_type": "display_data"
    },
    {
     "data": {
      "text/markdown": [
       "<span style=\"font-size:11pt\">Eval-Settings: type: <span style=\"color: #0000ff\">all-at-once</span>, DT-Depth: <span style=\"color: #0000ff\">2</span>, train-test-split:<span style=\"color: #0000ff\"> 5-fold cross-validation </span></span>"
      ],
      "text/plain": [
       "<IPython.core.display.Markdown object>"
      ]
     },
     "metadata": {},
     "output_type": "display_data"
    },
    {
     "name": "stderr",
     "output_type": "stream",
     "text": [
      "derive_conceptualspace/evaluate/shallow_trees.py:120: UserWarning: There are more classes (7) than your decision-tree can possibly classify (4)\n"
     ]
    },
    {
     "data": {
      "text/markdown": [
       "<span style=\"font-size:11pt\">Accuracy: 0.47</span>"
      ],
      "text/plain": [
       "<IPython.core.display.Markdown object>"
      ]
     },
     "metadata": {},
     "output_type": "display_data"
    },
    {
     "data": {
      "text/markdown": [
       "<span style=\"font-size:11pt\">====================================================================================================</span>"
      ],
      "text/plain": [
       "<IPython.core.display.Markdown object>"
      ]
     },
     "metadata": {},
     "output_type": "display_data"
    },
    {
     "data": {
      "text/markdown": [
       "<span style=\"font-size:11pt\">Using classes from Geonames - 403/1383 entities have a class</span>"
      ],
      "text/plain": [
       "<IPython.core.display.Markdown object>"
      ]
     },
     "metadata": {},
     "output_type": "display_data"
    },
    {
     "data": {
      "text/markdown": [
       "<span style=\"font-size:11pt\">Labels (7 classes): <span style=\"color: #0000ff\">spot,building,farm</span>: 176, <span style=\"color: #0000ff\">stream,lake</span>: 74, <span style=\"color: #0000ff\">road,railroad</span>: 16, <span style=\"color: #0000ff\">parks,area</span>: 28, <span style=\"color: #0000ff\">undersea</span>: 27, <span style=\"color: #0000ff\">mountain,hill,rock</span>: 68, <span style=\"color: #0000ff\">forest,heath</span>: 14</span>"
      ],
      "text/plain": [
       "<IPython.core.display.Markdown object>"
      ]
     },
     "metadata": {},
     "output_type": "display_data"
    },
    {
     "data": {
      "text/markdown": [
       "<span style=\"font-size:11pt\">Eval-Settings: type: <span style=\"color: #0000ff\">all-at-once</span>, DT-Depth: <span style=\"color: #0000ff\">3</span>, train-test-split:<span style=\"color: #0000ff\"> 5-fold cross-validation </span></span>"
      ],
      "text/plain": [
       "<IPython.core.display.Markdown object>"
      ]
     },
     "metadata": {},
     "output_type": "display_data"
    },
    {
     "data": {
      "text/markdown": [
       "<span style=\"font-size:11pt\">Accuracy: 0.13</span>"
      ],
      "text/plain": [
       "<IPython.core.display.Markdown object>"
      ]
     },
     "metadata": {},
     "output_type": "display_data"
    },
    {
     "data": {
      "text/markdown": [
       "<span style=\"font-size:11pt\">====================================================================================================</span>"
      ],
      "text/plain": [
       "<IPython.core.display.Markdown object>"
      ]
     },
     "metadata": {},
     "output_type": "display_data"
    },
    {
     "data": {
      "text/markdown": [
       "<span style=\"font-size:11pt\">Using classes from Geonames - 403/1383 entities have a class</span>"
      ],
      "text/plain": [
       "<IPython.core.display.Markdown object>"
      ]
     },
     "metadata": {},
     "output_type": "display_data"
    },
    {
     "data": {
      "text/markdown": [
       "<span style=\"font-size:11pt\">Labels (7 classes): <span style=\"color: #0000ff\">spot,building,farm</span>: 176, <span style=\"color: #0000ff\">stream,lake</span>: 74, <span style=\"color: #0000ff\">road,railroad</span>: 16, <span style=\"color: #0000ff\">parks,area</span>: 28, <span style=\"color: #0000ff\">undersea</span>: 27, <span style=\"color: #0000ff\">mountain,hill,rock</span>: 68, <span style=\"color: #0000ff\">forest,heath</span>: 14</span>"
      ],
      "text/plain": [
       "<IPython.core.display.Markdown object>"
      ]
     },
     "metadata": {},
     "output_type": "display_data"
    },
    {
     "data": {
      "text/markdown": [
       "<span style=\"font-size:11pt\">Eval-Settings: type: <span style=\"color: #0000ff\">all-at-once</span>, DT-Depth: <span style=\"color: #0000ff\">3</span>, train-test-split:<span style=\"color: #0000ff\"> 5-fold cross-validation </span></span>"
      ],
      "text/plain": [
       "<IPython.core.display.Markdown object>"
      ]
     },
     "metadata": {},
     "output_type": "display_data"
    },
    {
     "data": {
      "text/markdown": [
       "<span style=\"font-size:11pt\">Accuracy: 0.48</span>"
      ],
      "text/plain": [
       "<IPython.core.display.Markdown object>"
      ]
     },
     "metadata": {},
     "output_type": "display_data"
    },
    {
     "data": {
      "text/markdown": [
       "<span style=\"font-size:11pt\">                                                   Accuracy<br>classes    test%/Xval 1vsRest Tree-Depth balanced          <br>Foursquare 0.3300     True    1          True        0.6668<br>                                         False       0.8616<br>                              2          True        0.7473<br>                                         False       0.8639<br>                              3          True        0.7724<br>...                                                     ...<br>Geonames   5.0000     False   1          False       0.4269<br>                              2          True        0.1066<br>                                         False       0.4715<br>                              3          True        0.1340<br>                                         False       0.4765<br><br>[96 rows x 1 columns]</span>"
      ],
      "text/plain": [
       "<IPython.core.display.Markdown object>"
      ]
     },
     "metadata": {},
     "output_type": "display_data"
    }
   ],
   "source": [
    "res = classify_shallowtree_multi(clusters, embedding, descriptions, ctx.obj[\"dataset_class\"], verbose=False)"
   ]
  },
  {
   "cell_type": "code",
   "execution_count": 6,
   "id": "0aac2ae6-1d53-458c-b20b-603c81fdceac",
   "metadata": {},
   "outputs": [
    {
     "data": {
      "text/markdown": [
       "## Geonames"
      ],
      "text/plain": [
       "<IPython.core.display.Markdown object>"
      ]
     },
     "metadata": {},
     "output_type": "display_data"
    },
    {
     "data": {
      "text/html": [
       "<style type=\"text/css\">\n",
       "#T_ed9d6 th {\n",
       "  vertical-align: top;\n",
       "  text-align: left;\n",
       "}\n",
       "#T_ed9d6_row2_col0, #T_ed9d6_row2_col1, #T_ed9d6_row2_col2 {\n",
       "  background-color: lightgreen;\n",
       "}\n",
       "</style>\n",
       "<table id=\"T_ed9d6\">\n",
       "  <thead>\n",
       "    <tr>\n",
       "      <th class=\"blank\" >&nbsp;</th>\n",
       "      <th class=\"blank level0\" >&nbsp;</th>\n",
       "      <th id=\"T_ed9d6_level0_col0\" class=\"col_heading level0 col0\" colspan=\"3\">Accuracy</th>\n",
       "    </tr>\n",
       "    <tr>\n",
       "      <th class=\"blank\" >&nbsp;</th>\n",
       "      <th class=\"index_name level1\" >Tree-Depth</th>\n",
       "      <th id=\"T_ed9d6_level1_col0\" class=\"col_heading level1 col0\" >1</th>\n",
       "      <th id=\"T_ed9d6_level1_col1\" class=\"col_heading level1 col1\" >2</th>\n",
       "      <th id=\"T_ed9d6_level1_col2\" class=\"col_heading level1 col2\" >3</th>\n",
       "    </tr>\n",
       "    <tr>\n",
       "      <th class=\"index_name level0\" >1vsRest</th>\n",
       "      <th class=\"index_name level1\" >balanced</th>\n",
       "      <th class=\"blank col0\" >&nbsp;</th>\n",
       "      <th class=\"blank col1\" >&nbsp;</th>\n",
       "      <th class=\"blank col2\" >&nbsp;</th>\n",
       "    </tr>\n",
       "  </thead>\n",
       "  <tbody>\n",
       "    <tr>\n",
       "      <th id=\"T_ed9d6_level0_row0\" class=\"row_heading level0 row0\" rowspan=\"2\">0</th>\n",
       "      <th id=\"T_ed9d6_level1_row0\" class=\"row_heading level1 row0\" >0</th>\n",
       "      <td id=\"T_ed9d6_row0_col0\" class=\"data row0 col0\" >0.427</td>\n",
       "      <td id=\"T_ed9d6_row0_col1\" class=\"data row0 col1\" >0.472</td>\n",
       "      <td id=\"T_ed9d6_row0_col2\" class=\"data row0 col2\" >0.477</td>\n",
       "    </tr>\n",
       "    <tr>\n",
       "      <th id=\"T_ed9d6_level1_row1\" class=\"row_heading level1 row1\" >1</th>\n",
       "      <td id=\"T_ed9d6_row1_col0\" class=\"data row1 col0\" >0.057</td>\n",
       "      <td id=\"T_ed9d6_row1_col1\" class=\"data row1 col1\" >0.107</td>\n",
       "      <td id=\"T_ed9d6_row1_col2\" class=\"data row1 col2\" >0.134</td>\n",
       "    </tr>\n",
       "    <tr>\n",
       "      <th id=\"T_ed9d6_level0_row2\" class=\"row_heading level0 row2\" rowspan=\"2\">1</th>\n",
       "      <th id=\"T_ed9d6_level1_row2\" class=\"row_heading level1 row2\" >0</th>\n",
       "      <td id=\"T_ed9d6_row2_col0\" class=\"data row2 col0\" >0.744</td>\n",
       "      <td id=\"T_ed9d6_row2_col1\" class=\"data row2 col1\" >0.793</td>\n",
       "      <td id=\"T_ed9d6_row2_col2\" class=\"data row2 col2\" >0.811</td>\n",
       "    </tr>\n",
       "    <tr>\n",
       "      <th id=\"T_ed9d6_level1_row3\" class=\"row_heading level1 row3\" >1</th>\n",
       "      <td id=\"T_ed9d6_row3_col0\" class=\"data row3 col0\" >0.529</td>\n",
       "      <td id=\"T_ed9d6_row3_col1\" class=\"data row3 col1\" >0.660</td>\n",
       "      <td id=\"T_ed9d6_row3_col2\" class=\"data row3 col2\" >0.684</td>\n",
       "    </tr>\n",
       "  </tbody>\n",
       "</table>\n"
      ],
      "text/plain": [
       "<pandas.io.formats.style.Styler at 0x7fc27ed930a0>"
      ]
     },
     "metadata": {},
     "output_type": "display_data"
    },
    {
     "data": {
      "text/markdown": [
       "## Foursquare"
      ],
      "text/plain": [
       "<IPython.core.display.Markdown object>"
      ]
     },
     "metadata": {},
     "output_type": "display_data"
    },
    {
     "data": {
      "text/html": [
       "<style type=\"text/css\">\n",
       "#T_c4dac th {\n",
       "  vertical-align: top;\n",
       "  text-align: left;\n",
       "}\n",
       "#T_c4dac_row2_col0, #T_c4dac_row2_col1, #T_c4dac_row2_col2 {\n",
       "  background-color: lightgreen;\n",
       "}\n",
       "</style>\n",
       "<table id=\"T_c4dac\">\n",
       "  <thead>\n",
       "    <tr>\n",
       "      <th class=\"blank\" >&nbsp;</th>\n",
       "      <th class=\"blank level0\" >&nbsp;</th>\n",
       "      <th id=\"T_c4dac_level0_col0\" class=\"col_heading level0 col0\" colspan=\"3\">Accuracy</th>\n",
       "    </tr>\n",
       "    <tr>\n",
       "      <th class=\"blank\" >&nbsp;</th>\n",
       "      <th class=\"index_name level1\" >Tree-Depth</th>\n",
       "      <th id=\"T_c4dac_level1_col0\" class=\"col_heading level1 col0\" >1</th>\n",
       "      <th id=\"T_c4dac_level1_col1\" class=\"col_heading level1 col1\" >2</th>\n",
       "      <th id=\"T_c4dac_level1_col2\" class=\"col_heading level1 col2\" >3</th>\n",
       "    </tr>\n",
       "    <tr>\n",
       "      <th class=\"index_name level0\" >1vsRest</th>\n",
       "      <th class=\"index_name level1\" >balanced</th>\n",
       "      <th class=\"blank col0\" >&nbsp;</th>\n",
       "      <th class=\"blank col1\" >&nbsp;</th>\n",
       "      <th class=\"blank col2\" >&nbsp;</th>\n",
       "    </tr>\n",
       "  </thead>\n",
       "  <tbody>\n",
       "    <tr>\n",
       "      <th id=\"T_c4dac_level0_row0\" class=\"row_heading level0 row0\" rowspan=\"2\">0</th>\n",
       "      <th id=\"T_c4dac_level1_row0\" class=\"row_heading level1 row0\" >0</th>\n",
       "      <td id=\"T_c4dac_row0_col0\" class=\"data row0 col0\" >0.304</td>\n",
       "      <td id=\"T_c4dac_row0_col1\" class=\"data row0 col1\" >0.337</td>\n",
       "      <td id=\"T_c4dac_row0_col2\" class=\"data row0 col2\" >0.363</td>\n",
       "    </tr>\n",
       "    <tr>\n",
       "      <th id=\"T_c4dac_level1_row1\" class=\"row_heading level1 row1\" >1</th>\n",
       "      <td id=\"T_c4dac_row1_col0\" class=\"data row1 col0\" >0.223</td>\n",
       "      <td id=\"T_c4dac_row1_col1\" class=\"data row1 col1\" >0.199</td>\n",
       "      <td id=\"T_c4dac_row1_col2\" class=\"data row1 col2\" >0.156</td>\n",
       "    </tr>\n",
       "    <tr>\n",
       "      <th id=\"T_c4dac_level0_row2\" class=\"row_heading level0 row2\" rowspan=\"2\">1</th>\n",
       "      <th id=\"T_c4dac_level1_row2\" class=\"row_heading level1 row2\" >0</th>\n",
       "      <td id=\"T_c4dac_row2_col0\" class=\"data row2 col0\" >0.844</td>\n",
       "      <td id=\"T_c4dac_row2_col1\" class=\"data row2 col1\" >0.862</td>\n",
       "      <td id=\"T_c4dac_row2_col2\" class=\"data row2 col2\" >0.868</td>\n",
       "    </tr>\n",
       "    <tr>\n",
       "      <th id=\"T_c4dac_level1_row3\" class=\"row_heading level1 row3\" >1</th>\n",
       "      <td id=\"T_c4dac_row3_col0\" class=\"data row3 col0\" >0.664</td>\n",
       "      <td id=\"T_c4dac_row3_col1\" class=\"data row3 col1\" >0.757</td>\n",
       "      <td id=\"T_c4dac_row3_col2\" class=\"data row3 col2\" >0.783</td>\n",
       "    </tr>\n",
       "  </tbody>\n",
       "</table>\n"
      ],
      "text/plain": [
       "<pandas.io.formats.style.Styler at 0x7fc2100d3a00>"
      ]
     },
     "metadata": {},
     "output_type": "display_data"
    }
   ],
   "source": [
    "SHOW_CROSSVAL_NUM = 5\n",
    "\n",
    "styles = [{'selector': 'th', 'props': [('vertical-align','top'),('text-align','left')]}] #('border-style', 'solid')  #see https://stackoverflow.com/a/55904239/5122790\n",
    "styler = lambda df: df.style.apply(highlight_nonzero_max, axis=0).format(precision=3).set_table_styles(styles)\n",
    "    \n",
    "for taxonomy in set(res.index.get_level_values(0)):\n",
    "    display(Markdown(f\"## {taxonomy}\"))\n",
    "    df = res.xs(SHOW_CROSSVAL_NUM, level=1).xs(taxonomy).unstack(level=[1])\n",
    "    display(styler(df))\n",
    "    pyperclip.copy(df_to_latex(df, styler, rotate=False, caption=\"This algorithm on Placetypes\"))"
   ]
  },
  {
   "cell_type": "code",
   "execution_count": null,
   "id": "e306d3ca-8de1-4757-9956-bf96182da2ed",
   "metadata": {},
   "outputs": [],
   "source": []
  }
 ],
 "metadata": {
  "kernelspec": {
   "display_name": "Python 3 (ipykernel)",
   "language": "python",
   "name": "python3"
  },
  "language_info": {
   "codemirror_mode": {
    "name": "ipython",
    "version": 3
   },
   "file_extension": ".py",
   "mimetype": "text/x-python",
   "name": "python",
   "nbconvert_exporter": "python",
   "pygments_lexer": "ipython3",
   "version": "3.10.0"
  },
  "widgets": {
   "application/vnd.jupyter.widget-state+json": {
    "state": {},
    "version_major": 2,
    "version_minor": 0
   }
  }
 },
 "nbformat": 4,
 "nbformat_minor": 5
}
