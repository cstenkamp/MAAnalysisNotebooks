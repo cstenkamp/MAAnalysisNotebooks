{
 "cells": [
  {
   "cell_type": "markdown",
   "id": "b4ce3431-7810-468e-9289-8a7482bde8fb",
   "metadata": {},
   "source": [
    "# Lengths of the associated Bags-of-Words"
   ]
  },
  {
   "cell_type": "code",
   "execution_count": 1,
   "id": "fe8f445c-9b04-4b7c-9db0-14fe2d5b0596",
   "metadata": {},
   "outputs": [],
   "source": [
    "from functools import partial\n",
    "\n",
    "import pandas as pd\n",
    "import matplotlib.pyplot as plt\n",
    "from matplotlib.backends.backend_pdf import PdfPages\n",
    "import numpy as np\n",
    "from tqdm import tqdm\n",
    "\n",
    "from misc_util.pretty_print import Markdown\n",
    "from derive_conceptualspace.util.mpl_tools import show_hist\n",
    "from derive_conceptualspace.load_data.load_semanticspaces import load_ppmi_weighted_feature_vectors\n",
    "\n",
    "plt.rcParams['figure.figsize'] = [16, 8]\n",
    "largedfstyle = [dict(selector=\"th\", props= [('font-size', '18px')]), dict(selector=\"td\", props= [('font-size', '18px')])]\n",
    "flatten = lambda l: [item for sublist in l for item in sublist] "
   ]
  },
  {
   "cell_type": "markdown",
   "id": "3756c1da-dcbb-443d-bd1e-18e5865c9113",
   "metadata": {},
   "source": [
    "## Places\n",
    "### Words overall"
   ]
  },
  {
   "cell_type": "code",
   "execution_count": 2,
   "id": "a015309a-4231-46a6-ba34-f1dbf618866d",
   "metadata": {},
   "outputs": [],
   "source": [
    "data_base = \"/home/chris/Documents/UNI_neu/Masterarbeit/data_new/semanticspaces/\"\n",
    "vecs = load_ppmi_weighted_feature_vectors(data_base, \"places\")\n",
    "counts = pd.DataFrame({k: {\"unique words\": len(v), \"words\": sum(v.values())} for k, v in vecs.items()}).T"
   ]
  },
  {
   "cell_type": "code",
   "execution_count": 3,
   "id": "a66eedd5-3fd1-4f48-92c4-b93b9e1040ff",
   "metadata": {},
   "outputs": [
    {
     "name": "stderr",
     "output_type": "stream",
     "text": [
      "100%|██████████| 1383/1383 [00:06<00:00, 205.67it/s]\n"
     ]
    },
    {
     "data": {
      "text/markdown": [
       "### Number of words that have a df or stf of at least..."
      ],
      "text/plain": [
       "<IPython.core.display.Markdown object>"
      ]
     },
     "metadata": {},
     "output_type": "display_data"
    },
    {
     "data": {
      "text/html": [
       "<style type=\"text/css\">\n",
       "#T_b32d0 th {\n",
       "  font-size: 18px;\n",
       "}\n",
       "#T_b32d0 td {\n",
       "  font-size: 18px;\n",
       "}\n",
       "</style>\n",
       "<table id=\"T_b32d0\">\n",
       "  <thead>\n",
       "    <tr>\n",
       "      <th class=\"blank level0\" >&nbsp;</th>\n",
       "      <th id=\"T_b32d0_level0_col0\" class=\"col_heading level0 col0\" >1</th>\n",
       "      <th id=\"T_b32d0_level0_col1\" class=\"col_heading level0 col1\" >2</th>\n",
       "      <th id=\"T_b32d0_level0_col2\" class=\"col_heading level0 col2\" >5</th>\n",
       "      <th id=\"T_b32d0_level0_col3\" class=\"col_heading level0 col3\" >10</th>\n",
       "      <th id=\"T_b32d0_level0_col4\" class=\"col_heading level0 col4\" >25</th>\n",
       "      <th id=\"T_b32d0_level0_col5\" class=\"col_heading level0 col5\" >50</th>\n",
       "      <th id=\"T_b32d0_level0_col6\" class=\"col_heading level0 col6\" >100</th>\n",
       "      <th id=\"T_b32d0_level0_col7\" class=\"col_heading level0 col7\" >500</th>\n",
       "      <th id=\"T_b32d0_level0_col8\" class=\"col_heading level0 col8\" >1000</th>\n",
       "      <th id=\"T_b32d0_level0_col9\" class=\"col_heading level0 col9\" >138</th>\n",
       "      <th id=\"T_b32d0_level0_col10\" class=\"col_heading level0 col10\" >345</th>\n",
       "    </tr>\n",
       "  </thead>\n",
       "  <tbody>\n",
       "    <tr>\n",
       "      <th id=\"T_b32d0_level0_row0\" class=\"row_heading level0 row0\" >df</th>\n",
       "      <td id=\"T_b32d0_row0_col0\" class=\"data row0 col0\" >746180</td>\n",
       "      <td id=\"T_b32d0_row0_col1\" class=\"data row0 col1\" >428810</td>\n",
       "      <td id=\"T_b32d0_row0_col2\" class=\"data row0 col2\" >182906</td>\n",
       "      <td id=\"T_b32d0_row0_col3\" class=\"data row0 col3\" >94010</td>\n",
       "      <td id=\"T_b32d0_row0_col4\" class=\"data row0 col4\" >41320</td>\n",
       "      <td id=\"T_b32d0_row0_col5\" class=\"data row0 col5\" >21833</td>\n",
       "      <td id=\"T_b32d0_row0_col6\" class=\"data row0 col6\" >11166</td>\n",
       "      <td id=\"T_b32d0_row0_col7\" class=\"data row0 col7\" >1452</td>\n",
       "      <td id=\"T_b32d0_row0_col8\" class=\"data row0 col8\" >183</td>\n",
       "      <td id=\"T_b32d0_row0_col9\" class=\"data row0 col9\" >8047</td>\n",
       "      <td id=\"T_b32d0_row0_col10\" class=\"data row0 col10\" >2669</td>\n",
       "    </tr>\n",
       "    <tr>\n",
       "      <th id=\"T_b32d0_level0_row1\" class=\"row_heading level0 row1\" >stf</th>\n",
       "      <td id=\"T_b32d0_row1_col0\" class=\"data row1 col0\" >746180</td>\n",
       "      <td id=\"T_b32d0_row1_col1\" class=\"data row1 col1\" >746180</td>\n",
       "      <td id=\"T_b32d0_row1_col2\" class=\"data row1 col2\" >746180</td>\n",
       "      <td id=\"T_b32d0_row1_col3\" class=\"data row1 col3\" >519700</td>\n",
       "      <td id=\"T_b32d0_row1_col4\" class=\"data row1 col4\" >313858</td>\n",
       "      <td id=\"T_b32d0_row1_col5\" class=\"data row1 col5\" >202713</td>\n",
       "      <td id=\"T_b32d0_row1_col6\" class=\"data row1 col6\" >126899</td>\n",
       "      <td id=\"T_b32d0_row1_col7\" class=\"data row1 col7\" >41108</td>\n",
       "      <td id=\"T_b32d0_row1_col8\" class=\"data row1 col8\" >24735</td>\n",
       "      <td id=\"T_b32d0_row1_col9\" class=\"data row1 col9\" >101867</td>\n",
       "      <td id=\"T_b32d0_row1_col10\" class=\"data row1 col10\" >53588</td>\n",
       "    </tr>\n",
       "  </tbody>\n",
       "</table>\n"
      ],
      "text/plain": [
       "<pandas.io.formats.style.Styler at 0x7f28e7234e20>"
      ]
     },
     "execution_count": 3,
     "metadata": {},
     "output_type": "execute_result"
    }
   ],
   "source": [
    "all_words = set(flatten([set(k.keys()) for k in vecs.values()]))\n",
    "summed_counts = {i: {\"df\": 0, \"stf\": 0} for i in all_words}\n",
    "for v in tqdm(vecs.values()):\n",
    "    for word, occs in v.items():\n",
    "        summed_counts[word][\"stf\"] += occs\n",
    "        summed_counts[word][\"df\"] += 1\n",
    "words_of_len = {key: {nwords: len({k: v for k, v in summed_counts.items() if v[key] >= nwords}) for nwords in [1, 2, 5, 10, 25, 50, 100, 500, 1000, len(vecs)//10, len(vecs)//4]} for key in [\"df\", \"stf\"]}\n",
    "display(Markdown(\"### Number of words that have a df or stf of at least...\"))\n",
    "pd.DataFrame(words_of_len).T.style.set_table_styles(largedfstyle)"
   ]
  },
  {
   "cell_type": "code",
   "execution_count": 4,
   "id": "d6d5449f-3e9f-41e0-96a2-784a52f8bf4f",
   "metadata": {},
   "outputs": [],
   "source": [
    "%%capture\n",
    "fig, ax = show_hist(counts[\"words\"], cutoff_percentile=90, zero_bin=True, ylabel=\"unique words\")"
   ]
  },
  {
   "cell_type": "code",
   "execution_count": 5,
   "id": "52d2afd8-d2fb-4846-b6b2-32815aaae5c3",
   "metadata": {},
   "outputs": [
    {
     "name": "stderr",
     "output_type": "stream",
     "text": [
      "/tmp/ipykernel_218296/204052253.py:5: UserWarning: FixedFormatter should only be used together with FixedLocator\n",
      "  ax.set_yticklabels(ax.get_yticklabels(), fontsize=22)\n"
     ]
    }
   ],
   "source": [
    "ax.set_ylabel(\"Number of Entities\", fontsize=26)\n",
    "ax.set_xlabel(\"Words\", fontsize=26)\n",
    "ax.get_xticklabels()[-1].set_text(ax.get_xticklabels()[-1].get_text().replace(\"-\",\"-\\n\"))\n",
    "ax.set_xticklabels(ax.get_xticklabels(), fontsize=22)\n",
    "ax.set_yticklabels(ax.get_yticklabels(), fontsize=22)\n",
    "ax.grid()\n",
    "ax.set_title(\"\");"
   ]
  },
  {
   "cell_type": "code",
   "execution_count": 6,
   "id": "3d345c13-498e-441a-84d8-6a0e47855db0",
   "metadata": {},
   "outputs": [
    {
     "data": {
      "image/png": "[encoded data removed]",
      "text/plain": [
       "<Figure size 1152x576 with 1 Axes>"
      ]
     },
     "execution_count": 6,
     "metadata": {},
     "output_type": "execute_result"
    }
   ],
   "source": [
    "with PdfPages(\"/home/chris/Documents/UNI_neu/Masterarbeit/MastersThesisText/graphics/figures/placetypes_dist.pdf\") as pdf:\n",
    "    plt.show()\n",
    "    pdf.savefig(fig, bbox_inches='tight')\n",
    "    \n",
    "fig"
   ]
  },
  {
   "cell_type": "markdown",
   "id": "9871fbb6-0cad-4f5d-80a9-85f006a25f90",
   "metadata": {},
   "source": [
    "<br><br> \n",
    "### Unique words"
   ]
  },
  {
   "cell_type": "code",
   "execution_count": 7,
   "id": "9a5bb3a8-2173-4637-aeff-1c99ecc458e6",
   "metadata": {},
   "outputs": [],
   "source": [
    "%%capture\n",
    "fig, ax = show_hist(counts[\"unique words\"], cutoff_percentile=92, zero_bin=True, ylabel=\"unique words\")"
   ]
  },
  {
   "cell_type": "code",
   "execution_count": 8,
   "id": "51754950-9c87-4732-9002-5ac70f76411f",
   "metadata": {},
   "outputs": [
    {
     "name": "stderr",
     "output_type": "stream",
     "text": [
      "/tmp/ipykernel_218296/3625053708.py:5: UserWarning: FixedFormatter should only be used together with FixedLocator\n",
      "  ax.set_yticklabels(ax.get_yticklabels(), fontsize=22)\n"
     ]
    }
   ],
   "source": [
    "ax.set_ylabel(\"Number of Entities\", fontsize=26)\n",
    "ax.set_xlabel(\"Unique Words\", fontsize=26)\n",
    "ax.get_xticklabels()[-1].set_text(ax.get_xticklabels()[-1].get_text().replace(\"-\",\"-\\n\"))\n",
    "ax.set_xticklabels(ax.get_xticklabels(), fontsize=22)\n",
    "ax.set_yticklabels(ax.get_yticklabels(), fontsize=22)\n",
    "ax.grid()\n",
    "ax.set_title(\"\");"
   ]
  },
  {
   "cell_type": "code",
   "execution_count": 9,
   "id": "3dcddb0b-751c-46b5-a7fa-458475bba28b",
   "metadata": {},
   "outputs": [
    {
     "data": {
      "image/png": "[encoded data removed]",
      "text/plain": [
       "<Figure size 1152x576 with 1 Axes>"
      ]
     },
     "execution_count": 9,
     "metadata": {},
     "output_type": "execute_result"
    }
   ],
   "source": [
    "with PdfPages(\"/home/chris/Documents/UNI_neu/Masterarbeit/MastersThesisText/graphics/figures/placetypes_dist_unique.pdf\") as pdf:\n",
    "    plt.show()\n",
    "    pdf.savefig(fig, bbox_inches='tight')\n",
    "    \n",
    "fig"
   ]
  },
  {
   "cell_type": "code",
   "execution_count": 10,
   "id": "9f26ddad-7cc4-4f06-a9a3-0807b8fdee8d",
   "metadata": {},
   "outputs": [
    {
     "data": {
      "text/html": [
       "<style type=\"text/css\">\n",
       "#T_298b0 th {\n",
       "  font-size: 18px;\n",
       "}\n",
       "#T_298b0 td {\n",
       "  font-size: 18px;\n",
       "}\n",
       "</style>\n",
       "<table id=\"T_298b0\">\n",
       "  <thead>\n",
       "    <tr>\n",
       "      <th class=\"blank level0\" >&nbsp;</th>\n",
       "      <th id=\"T_298b0_level0_col0\" class=\"col_heading level0 col0\" >unique words</th>\n",
       "      <th id=\"T_298b0_level0_col1\" class=\"col_heading level0 col1\" >words</th>\n",
       "    </tr>\n",
       "  </thead>\n",
       "  <tbody>\n",
       "    <tr>\n",
       "      <th id=\"T_298b0_level0_row0\" class=\"row_heading level0 row0\" >min</th>\n",
       "      <td id=\"T_298b0_row0_col0\" class=\"data row0 col0\" >13</td>\n",
       "      <td id=\"T_298b0_row0_col1\" class=\"data row0 col1\" >228</td>\n",
       "    </tr>\n",
       "    <tr>\n",
       "      <th id=\"T_298b0_level0_row1\" class=\"row_heading level0 row1\" >mean</th>\n",
       "      <td id=\"T_298b0_row1_col0\" class=\"data row1 col0\" >4926</td>\n",
       "      <td id=\"T_298b0_row1_col1\" class=\"data row1 col1\" >247311</td>\n",
       "    </tr>\n",
       "    <tr>\n",
       "      <th id=\"T_298b0_level0_row2\" class=\"row_heading level0 row2\" >median</th>\n",
       "      <td id=\"T_298b0_row2_col0\" class=\"data row2 col0\" >2215</td>\n",
       "      <td id=\"T_298b0_row2_col1\" class=\"data row2 col1\" >55422</td>\n",
       "    </tr>\n",
       "    <tr>\n",
       "      <th id=\"T_298b0_level0_row3\" class=\"row_heading level0 row3\" >min</th>\n",
       "      <td id=\"T_298b0_row3_col0\" class=\"data row3 col0\" >13</td>\n",
       "      <td id=\"T_298b0_row3_col1\" class=\"data row3 col1\" >228</td>\n",
       "    </tr>\n",
       "    <tr>\n",
       "      <th id=\"T_298b0_level0_row4\" class=\"row_heading level0 row4\" >0.050000</th>\n",
       "      <td id=\"T_298b0_row4_col0\" class=\"data row4 col0\" >159</td>\n",
       "      <td id=\"T_298b0_row4_col1\" class=\"data row4 col1\" >2378</td>\n",
       "    </tr>\n",
       "    <tr>\n",
       "      <th id=\"T_298b0_level0_row5\" class=\"row_heading level0 row5\" >0.950000</th>\n",
       "      <td id=\"T_298b0_row5_col0\" class=\"data row5 col0\" >18117</td>\n",
       "      <td id=\"T_298b0_row5_col1\" class=\"data row5 col1\" >886233</td>\n",
       "    </tr>\n",
       "  </tbody>\n",
       "</table>\n"
      ],
      "text/plain": [
       "<pandas.io.formats.style.Styler at 0x7f2871181990>"
      ]
     },
     "execution_count": 10,
     "metadata": {},
     "output_type": "execute_result"
    }
   ],
   "source": [
    "aggs = counts.agg((min, np.mean, np.median, min), axis=\"rows\")\n",
    "aggs = pd.concat((aggs, counts.quantile([.05, .95])))\n",
    "aggs.astype(int).style.set_table_styles(largedfstyle)"
   ]
  },
  {
   "cell_type": "markdown",
   "id": "6f0d879e-5644-4c65-927b-2f4bc8beb54b",
   "metadata": {},
   "source": [
    "<br><br><br><br> \n",
    "## Movies"
   ]
  },
  {
   "cell_type": "code",
   "execution_count": 11,
   "id": "292acf7f-cc89-4a63-9c5d-b254fb568225",
   "metadata": {},
   "outputs": [],
   "source": [
    "data_base = \"/home/chris/Documents/UNI_neu/Masterarbeit/data_new/semanticspaces/\"\n",
    "vecs = load_ppmi_weighted_feature_vectors(data_base, \"movies\")"
   ]
  },
  {
   "cell_type": "code",
   "execution_count": 12,
   "id": "2931528a-e027-478e-bc7f-1592ebf3792b",
   "metadata": {},
   "outputs": [
    {
     "name": "stderr",
     "output_type": "stream",
     "text": [
      "100%|██████████| 38649/38649 [00:47<00:00, 821.37it/s] \n"
     ]
    },
    {
     "data": {
      "text/markdown": [
       "### Number of words that have a df or stf of at least..."
      ],
      "text/plain": [
       "<IPython.core.display.Markdown object>"
      ]
     },
     "metadata": {},
     "output_type": "display_data"
    },
    {
     "data": {
      "text/html": [
       "<style type=\"text/css\">\n",
       "#T_6f8d1 th {\n",
       "  font-size: 18px;\n",
       "}\n",
       "#T_6f8d1 td {\n",
       "  font-size: 18px;\n",
       "}\n",
       "</style>\n",
       "<table id=\"T_6f8d1\">\n",
       "  <thead>\n",
       "    <tr>\n",
       "      <th class=\"blank level0\" >&nbsp;</th>\n",
       "      <th id=\"T_6f8d1_level0_col0\" class=\"col_heading level0 col0\" >1</th>\n",
       "      <th id=\"T_6f8d1_level0_col1\" class=\"col_heading level0 col1\" >2</th>\n",
       "      <th id=\"T_6f8d1_level0_col2\" class=\"col_heading level0 col2\" >5</th>\n",
       "      <th id=\"T_6f8d1_level0_col3\" class=\"col_heading level0 col3\" >10</th>\n",
       "      <th id=\"T_6f8d1_level0_col4\" class=\"col_heading level0 col4\" >25</th>\n",
       "      <th id=\"T_6f8d1_level0_col5\" class=\"col_heading level0 col5\" >50</th>\n",
       "      <th id=\"T_6f8d1_level0_col6\" class=\"col_heading level0 col6\" >100</th>\n",
       "      <th id=\"T_6f8d1_level0_col7\" class=\"col_heading level0 col7\" >500</th>\n",
       "      <th id=\"T_6f8d1_level0_col8\" class=\"col_heading level0 col8\" >1000</th>\n",
       "      <th id=\"T_6f8d1_level0_col9\" class=\"col_heading level0 col9\" >3864</th>\n",
       "      <th id=\"T_6f8d1_level0_col10\" class=\"col_heading level0 col10\" >9662</th>\n",
       "    </tr>\n",
       "  </thead>\n",
       "  <tbody>\n",
       "    <tr>\n",
       "      <th id=\"T_6f8d1_level0_row0\" class=\"row_heading level0 row0\" >df</th>\n",
       "      <td id=\"T_6f8d1_row0_col0\" class=\"data row0 col0\" >589727</td>\n",
       "      <td id=\"T_6f8d1_row0_col1\" class=\"data row0 col1\" >279429</td>\n",
       "      <td id=\"T_6f8d1_row0_col2\" class=\"data row0 col2\" >128850</td>\n",
       "      <td id=\"T_6f8d1_row0_col3\" class=\"data row0 col3\" >86670</td>\n",
       "      <td id=\"T_6f8d1_row0_col4\" class=\"data row0 col4\" >55429</td>\n",
       "      <td id=\"T_6f8d1_row0_col5\" class=\"data row0 col5\" >39976</td>\n",
       "      <td id=\"T_6f8d1_row0_col6\" class=\"data row0 col6\" >28768</td>\n",
       "      <td id=\"T_6f8d1_row0_col7\" class=\"data row0 col7\" >11431</td>\n",
       "      <td id=\"T_6f8d1_row0_col8\" class=\"data row0 col8\" >6931</td>\n",
       "      <td id=\"T_6f8d1_row0_col9\" class=\"data row0 col9\" >1786</td>\n",
       "      <td id=\"T_6f8d1_row0_col10\" class=\"data row0 col10\" >332</td>\n",
       "    </tr>\n",
       "    <tr>\n",
       "      <th id=\"T_6f8d1_level0_row1\" class=\"row_heading level0 row1\" >stf</th>\n",
       "      <td id=\"T_6f8d1_row1_col0\" class=\"data row1 col0\" >589727</td>\n",
       "      <td id=\"T_6f8d1_row1_col1\" class=\"data row1 col1\" >392885</td>\n",
       "      <td id=\"T_6f8d1_row1_col2\" class=\"data row1 col2\" >200470</td>\n",
       "      <td id=\"T_6f8d1_row1_col3\" class=\"data row1 col3\" >131801</td>\n",
       "      <td id=\"T_6f8d1_row1_col4\" class=\"data row1 col4\" >83354</td>\n",
       "      <td id=\"T_6f8d1_row1_col5\" class=\"data row1 col5\" >60952</td>\n",
       "      <td id=\"T_6f8d1_row1_col6\" class=\"data row1 col6\" >44809</td>\n",
       "      <td id=\"T_6f8d1_row1_col7\" class=\"data row1 col7\" >20314</td>\n",
       "      <td id=\"T_6f8d1_row1_col8\" class=\"data row1 col8\" >13558</td>\n",
       "      <td id=\"T_6f8d1_row1_col9\" class=\"data row1 col9\" >5317</td>\n",
       "      <td id=\"T_6f8d1_row1_col10\" class=\"data row1 col10\" >2484</td>\n",
       "    </tr>\n",
       "  </tbody>\n",
       "</table>\n"
      ],
      "text/plain": [
       "<pandas.io.formats.style.Styler at 0x7f289e3a67a0>"
      ]
     },
     "execution_count": 12,
     "metadata": {},
     "output_type": "execute_result"
    }
   ],
   "source": [
    "all_words = set(flatten([set(k.keys()) for k in vecs.values()]))\n",
    "summed_counts = {i: {\"df\": 0, \"stf\": 0} for i in all_words}\n",
    "for v in tqdm(vecs.values()):\n",
    "    for word, occs in v.items():\n",
    "        summed_counts[word][\"stf\"] += occs\n",
    "        summed_counts[word][\"df\"] += 1\n",
    "words_of_len = {key: {nwords: len({k: v for k, v in summed_counts.items() if v[key] >= nwords}) for nwords in [1, 2, 5, 10, 25, 50, 100, 500, 1000, len(vecs)//10, len(vecs)//4]} for key in [\"df\", \"stf\"]}\n",
    "display(Markdown(\"### Number of words that have a df or stf of at least...\"))\n",
    "pd.DataFrame(words_of_len).T.style.set_table_styles(largedfstyle)"
   ]
  },
  {
   "cell_type": "code",
   "execution_count": 13,
   "id": "7fb52ecf-d454-4913-a74d-fb1e14244249",
   "metadata": {},
   "outputs": [],
   "source": [
    "vecs = {j: vecs[j] for j in [i[0] for i in sorted({k:sum(v.values()) for k, v in vecs.items()}.items(), key=lambda x:x[1], reverse=True)[:15000]]}\n",
    "# \"we selected the 15.000 movies whose associated reviews contained the highest number of words\" - when I do it like this it is consistent with the rest of the data\n",
    "counts = pd.DataFrame({k: {\"unique words\": len(v), \"words\": sum(v.values())} for k, v in vecs.items()}).T"
   ]
  },
  {
   "cell_type": "code",
   "execution_count": 14,
   "id": "69075f68-9776-404d-80a7-c4e3c2758e71",
   "metadata": {},
   "outputs": [
    {
     "data": {
      "text/html": [
       "<style type=\"text/css\">\n",
       "#T_e6ba9 th {\n",
       "  font-size: 18px;\n",
       "}\n",
       "#T_e6ba9 td {\n",
       "  font-size: 18px;\n",
       "}\n",
       "</style>\n",
       "<table id=\"T_e6ba9\">\n",
       "  <thead>\n",
       "    <tr>\n",
       "      <th class=\"blank level0\" >&nbsp;</th>\n",
       "      <th id=\"T_e6ba9_level0_col0\" class=\"col_heading level0 col0\" >unique words</th>\n",
       "      <th id=\"T_e6ba9_level0_col1\" class=\"col_heading level0 col1\" >words</th>\n",
       "    </tr>\n",
       "  </thead>\n",
       "  <tbody>\n",
       "    <tr>\n",
       "      <th id=\"T_e6ba9_level0_row0\" class=\"row_heading level0 row0\" >min</th>\n",
       "      <td id=\"T_e6ba9_row0_col0\" class=\"data row0 col0\" >170</td>\n",
       "      <td id=\"T_e6ba9_row0_col1\" class=\"data row0 col1\" >851</td>\n",
       "    </tr>\n",
       "    <tr>\n",
       "      <th id=\"T_e6ba9_level0_row1\" class=\"row_heading level0 row1\" >mean</th>\n",
       "      <td id=\"T_e6ba9_row1_col0\" class=\"data row1 col0\" >1990</td>\n",
       "      <td id=\"T_e6ba9_row1_col1\" class=\"data row1 col1\" >9225</td>\n",
       "    </tr>\n",
       "    <tr>\n",
       "      <th id=\"T_e6ba9_level0_row2\" class=\"row_heading level0 row2\" >median</th>\n",
       "      <td id=\"T_e6ba9_row2_col0\" class=\"data row2 col0\" >1358</td>\n",
       "      <td id=\"T_e6ba9_row2_col1\" class=\"data row2 col1\" >3179</td>\n",
       "    </tr>\n",
       "    <tr>\n",
       "      <th id=\"T_e6ba9_level0_row3\" class=\"row_heading level0 row3\" >min</th>\n",
       "      <td id=\"T_e6ba9_row3_col0\" class=\"data row3 col0\" >170</td>\n",
       "      <td id=\"T_e6ba9_row3_col1\" class=\"data row3 col1\" >851</td>\n",
       "    </tr>\n",
       "    <tr>\n",
       "      <th id=\"T_e6ba9_level0_row4\" class=\"row_heading level0 row4\" >0.050000</th>\n",
       "      <td id=\"T_e6ba9_row4_col0\" class=\"data row4 col0\" >565</td>\n",
       "      <td id=\"T_e6ba9_row4_col1\" class=\"data row4 col1\" >962</td>\n",
       "    </tr>\n",
       "    <tr>\n",
       "      <th id=\"T_e6ba9_level0_row5\" class=\"row_heading level0 row5\" >0.950000</th>\n",
       "      <td id=\"T_e6ba9_row5_col0\" class=\"data row5 col0\" >5510</td>\n",
       "      <td id=\"T_e6ba9_row5_col1\" class=\"data row5 col1\" >38378</td>\n",
       "    </tr>\n",
       "  </tbody>\n",
       "</table>\n"
      ],
      "text/plain": [
       "<pandas.io.formats.style.Styler at 0x7f289e1940a0>"
      ]
     },
     "execution_count": 14,
     "metadata": {},
     "output_type": "execute_result"
    }
   ],
   "source": [
    "aggs = counts.agg((min, np.mean, np.median, min), axis=\"rows\")\n",
    "aggs = pd.concat((aggs, counts.quantile([.05, .95])))\n",
    "aggs.astype(int).style.set_table_styles(largedfstyle)"
   ]
  },
  {
   "cell_type": "code",
   "execution_count": null,
   "id": "333888fe-ad06-4d05-a4ee-23c13676ba0f",
   "metadata": {},
   "outputs": [],
   "source": []
  }
 ],
 "metadata": {
  "kernelspec": {
   "display_name": "Python 3 (ipykernel)",
   "language": "python",
   "name": "python3"
  },
  "language_info": {
   "codemirror_mode": {
    "name": "ipython",
    "version": 3
   },
   "file_extension": ".py",
   "mimetype": "text/x-python",
   "name": "python",
   "nbconvert_exporter": "python",
   "pygments_lexer": "ipython3",
   "version": "3.10.0"
  },
  "widgets": {
   "application/vnd.jupyter.widget-state+json": {
    "state": {},
    "version_major": 2,
    "version_minor": 0
   }
  }
 },
 "nbformat": 4,
 "nbformat_minor": 5
}
