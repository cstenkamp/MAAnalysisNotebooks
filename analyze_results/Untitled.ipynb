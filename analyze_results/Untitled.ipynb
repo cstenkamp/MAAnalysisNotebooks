{
 "cells": [
  {
   "cell_type": "code",
   "execution_count": 1,
   "id": "49c4bcd7-3c78-4eee-87f7-e43f8decd338",
   "metadata": {},
   "outputs": [
    {
     "data": {
      "text/markdown": [
       "<span style=\"font-size:11pt\"></span>"
      ],
      "text/plain": [
       "<IPython.core.display.Markdown object>"
      ]
     },
     "metadata": {},
     "output_type": "display_data"
    },
    {
     "name": "stderr",
     "output_type": "stream",
     "text": [
      "2022-04-14 08:28:50.445374: W tensorflow/stream_executor/platform/default/dso_loader.cc:64] Could not load dynamic library 'libcudart.so.11.0'; dlerror: libcudart.so.11.0: cannot open shared object file: No such file or directory; LD_LIBRARY_PATH: /home/chris/Documents/JOBS/Uhrig-Gesture-Recog/skelshop_deps/openpose_cpu/build/src/openpose/\n",
      "2022-04-14 08:28:50.445429: I tensorflow/stream_executor/cuda/cudart_stub.cc:29] Ignore above cudart dlerror if you do not have a GPU set up on your machine.\n"
     ]
    }
   ],
   "source": [
    "import matplotlib.pyplot as plt\n",
    "\n",
    "from derive_conceptualspace.pipeline import SnakeContext, load_envfiles\n",
    "from misc_util.logutils import setup_logging\n",
    "from misc_util.pretty_print import display\n",
    "from derive_conceptualspace.util.result_analysis_tools import getfiles_allconfigs\n",
    "from derive_conceptualspace.util.desc_object import DescriptionList\n",
    "from derive_conceptualspace.pipeline import cluster_loader\n",
    "\n",
    "plt.rcParams['figure.figsize'] = [16, 10]"
   ]
  },
  {
   "cell_type": "code",
   "execution_count": 2,
   "id": "1ab17603-c0cc-4900-b94c-3e9efeb6f5ee",
   "metadata": {},
   "outputs": [
    {
     "name": "stderr",
     "output_type": "stream",
     "text": [
      "derive_conceptualspace/util/result_analysis_tools.py:33: UserWarning: There are files that won't be considered here: \n",
      "    siddata2022/de_debug_True/mfauhcsd2_onlyorig_minwords80/filtered_dcm_tfidf_ppmi.json\n",
      "    siddata2022/de_debug_True/mfauhcsd2_onlyorig_minwords80/filtered_dcm_tfidf_count.json\n",
      "    siddata2022/de_debug_True/mfauhcsd2_onlyorig_minwords80/filtered_dcm_tfidf_tfidf.json\n",
      "    siddata2022/de_debug_True/mfauhtcsldp_onlyorig_minwords80/filtered_dcm_tfidf_ppmi.json\n",
      "    siddata2022/de_debug_True/mfauhtcsldp_onlyorig_minwords80/filtered_dcm_tfidf_count.json\n",
      "    siddata2022/de_debug_True/mfauhtcsldp_onlyorig_minwords80/filtered_dcm_tfidf_tfidf.json\n"
     ]
    },
    {
     "data": {
      "text/markdown": [
       "<span style=\"font-size:11pt\">There are 9 different parameter-combis for dataset <span style=\"color: #0000ff\">siddata2022</span>:</span>"
      ],
      "text/plain": [
       "<IPython.core.display.Markdown object>"
      ]
     },
     "metadata": {},
     "output_type": "display_data"
    },
    {
     "data": {
      "text/plain": [
       "{'dataset': 'siddata2022',\n",
       " 'language': 'de',\n",
       " 'debug': 'False',\n",
       " 'pp_components': ['mfauhcsd2', 'mfauhtcsldp', 'mfhcsd2'],\n",
       " 'translate_policy': 'onlyorig',\n",
       " 'min_words_per_desc': '80',\n",
       " 'extraction_method': 'tfidf',\n",
       " 'dcm_quant_measure': ['count', 'ppmi', 'tfidf']}"
      ]
     },
     "metadata": {},
     "output_type": "display_data"
    }
   ],
   "source": [
    "setup_logging()\n",
    "load_envfiles(\"siddata\")\n",
    "configs, print_cnf = getfiles_allconfigs(\"filtered_dcm\", verbose=True)"
   ]
  },
  {
   "cell_type": "code",
   "execution_count": 3,
   "id": "688a8bce-9c8b-47c5-8d3e-bbcb2edb7402",
   "metadata": {},
   "outputs": [],
   "source": [
    "# def filter_conf(conflist, restrictions=None):\n",
    "#     restrictions = restrictions or (lambda x: True)\n",
    "#     return [elem for elem in conflist if restrictions(elem)]\n",
    "\n",
    "# ctx2 = SnakeContext.loader_context(config=filter_conf(configs, restrictions=lambda x: x[\"embed_dimensions\"] == 50)[0])"
   ]
  },
  {
   "cell_type": "code",
   "execution_count": 4,
   "id": "3555029f-b400-4ded-a2f2-91e52abcb7de",
   "metadata": {},
   "outputs": [
    {
     "data": {
      "text/markdown": [
       "<span style=\"font-size:11pt\">Config-File /home/chris/Documents/UNI_neu/Masterarbeit/Derive_Conceptualspace/config/derrac2015_edited.yml loaded.</span>"
      ],
      "text/plain": [
       "<IPython.core.display.Markdown object>"
      ]
     },
     "metadata": {},
     "output_type": "display_data"
    },
    {
     "data": {
      "text/markdown": [
       "<span style=\"font-size:11pt\">Running with the following settings [<span style=\"color: #ff0000\">b0ad633ec3</span>]: CLASSIFIER: <span style=\"color: #0000ff\">SVM</span>, CLASSIFIER_SUCCMETRIC: <span style=\"color: #ff0000\">kappa_rank2rank_onlypos_min</span>, DATASET: <span style=\"color: #ff0000\">siddata2022</span>, DCM_QUANT_MEASURE: <span style=\"color: #0000ff\">count</span>, DEBUG: <span style=\"color: #0000ff\">False</span>, EMBED_ALGO: <span style=\"color: #0000ff\">mds</span>, EMBED_DIMENSIONS: <span style=\"color: #ff0000\">50</span>, EXTRACTION_METHOD: <span style=\"color: #ff0000\">tfidf</span>, KAPPA_WEIGHTS: <span style=\"color: #0000ff\">quadratic</span>, LANGUAGE: <span style=\"color: #0000ff\">de</span>, MIN_WORDS_PER_DESC: <span style=\"color: #ff0000\">80</span>, PP_COMPONENTS: <span style=\"color: #ff0000\">mfauhcsd2</span>, PRIM_LAMBDA: <span style=\"color: #0000ff\">0.5</span>, QUANTIFICATION_MEASURE: <span style=\"color: #ff0000\">ppmi</span>, RANDOM_SEED: <span style=\"color: #ff0000\">None</span>, SEC_LAMBDA: <span style=\"color: #0000ff\">0.1</span>, TRANSLATE_POLICY: <span style=\"color: #0000ff\">onlyorig</span></span>"
      ],
      "text/plain": [
       "<IPython.core.display.Markdown object>"
      ]
     },
     "metadata": {},
     "output_type": "display_data"
    }
   ],
   "source": [
    "ctx = SnakeContext.loader_context(config=configs[0], silent=False)"
   ]
  },
  {
   "cell_type": "code",
   "execution_count": 5,
   "id": "a4dea318-ff27-4d38-8d15-0b3c99afa85d",
   "metadata": {},
   "outputs": [],
   "source": [
    "descriptions, filtered_dcm = ctx.load(\"pp_descriptions\", \"filtered_dcm\", # \"embedding\", \"clusters\"\n",
    "                        loaders=dict(pp_descriptions=DescriptionList.from_json, clusters=cluster_loader, embedding=lambda **args: args[\"embedding\"].embedding_))"
   ]
  },
  {
   "cell_type": "code",
   "execution_count": 6,
   "id": "73df247e-4184-49a9-a599-ad6d5ed438ef",
   "metadata": {},
   "outputs": [
    {
     "data": {
      "text/markdown": [
       "<span style=\"font-size:11pt\">Running with the following settings [<span style=\"color: #ffff00\">abd568686c</span>]: CLASSIFIER: <span style=\"color: #0000ff\">SVM</span>, CLASSIFIER_SUCCMETRIC: <span style=\"color: #ff0000\">kappa_digitized_onlypos_2</span>, DATASET: </span>siddata2022</span>, DCM_QUANT_MEASURE: </span>count</span>, DEBUG: <span style=\"color: #0000ff\">False</span>, EMBED_ALGO: </span>mds</span>, EMBED_DIMENSIONS: <span style=\"color: #ff0000\">3</span>, EXTRACTION_METHOD: </span>tfidf</span>, KAPPA_WEIGHTS: <span style=\"color: #0000ff\">quadratic</span>, LANGUAGE: </span>de</span>, MIN_WORDS_PER_DESC: <span style=\"color: #ff0000\">80</span>, PP_COMPONENTS: </span>mfauhcsd2</span>, PRIM_LAMBDA: <span style=\"color: #0000ff\">0.5</span>, QUANTIFICATION_MEASURE: <span style=\"color: #ff0000\">ppmi</span>, RANDOM_SEED: </span>None</span>, SEC_LAMBDA: <span style=\"color: #ff0000\">0.2</span>, TRANSLATE_POLICY: </span>onlyorig</span><br>The following Pre-Processings will be performed: sentwise_merge, add_additionals, add_title, add_subtitle, remove_htmltags, convert_lower, remove_stopwords, remove_diacritics, use_skcountvec<br>Dropped 4495 out of 30841 descriptions because I will take only the ones of language de (26346 left)<br>pre-preprocessing descriptions: 100%|██████████| 30841/30841 [01:32<00:00, 334.19it/s]<br>Removed 14745 of 26346 Descriptions because they are less than 80 words (11601 left)<br>Saving figure `Words_per_Description_2022-03-17_23-40-37` under `/home/chris/Documents/UNI_neu/Masterarbeit/data_new/saved_plots/2022-03-17/Words_per_Description_2022-03-17_23-40-37.png`</span></span></span>"
      ],
      "text/plain": [
       "<IPython.core.display.Markdown object>"
      ]
     },
     "metadata": {},
     "output_type": "display_data"
    }
   ],
   "source": [
    "display(ctx.display_output(\"pp_descriptions\"))"
   ]
  },
  {
   "cell_type": "code",
   "execution_count": 7,
   "id": "adc6f3de-60ba-4443-9007-7a40700cfd8a",
   "metadata": {},
   "outputs": [],
   "source": [
    "# filtered_dcm.show_info(descriptions=descriptions)"
   ]
  },
  {
   "cell_type": "code",
   "execution_count": 8,
   "id": "856b7e04-ba6f-42c7-86e1-1f5ae3200c9a",
   "metadata": {},
   "outputs": [
    {
     "name": "stderr",
     "output_type": "stream",
     "text": [
      "Counting Occurences [verbose]: 100%|██████████| 10060/10060 [00:23<00:00, 423.71it/s]\n"
     ]
    }
   ],
   "source": [
    "from misc_util.pretty_print import pretty_print as print\n",
    "from derive_conceptualspace.util.mpl_tools import show_hist\n",
    "import numpy as np\n",
    "from tqdm import tqdm\n",
    "import pandas as pd\n",
    "from matplotlib.backends.backend_pdf import PdfPages\n",
    "self = filtered_dcm\n",
    "occurs_in = [set(j[0] for j in i) if i else set() for i in self.dtm]\n",
    "num_occurences = [sum([term_ind in i for i in occurs_in]) for term_ind in tqdm(range(len(self.all_terms)), desc=\"Counting Occurences [verbose]\")]"
   ]
  },
  {
   "cell_type": "code",
   "execution_count": 9,
   "id": "14c31c8e-6c37-408d-a555-d189d0b6319c",
   "metadata": {},
   "outputs": [
    {
     "data": {
      "text/plain": [
       "min        25\n",
       "mean      109\n",
       "median     49\n",
       "min        25\n",
       "0.05       26\n",
       "0.95      375\n",
       "dtype: int64"
      ]
     },
     "execution_count": 9,
     "metadata": {},
     "output_type": "execute_result"
    }
   ],
   "source": [
    "counts = pd.Series(np.array(num_occurences))\n",
    "aggs = counts.agg((min, np.mean, np.median, min), axis=\"rows\")\n",
    "aggs = pd.concat((aggs, counts.quantile([.05, .95])))\n",
    "aggs.astype(int)"
   ]
  },
  {
   "cell_type": "code",
   "execution_count": 10,
   "id": "adcf78f0-765b-425c-8971-b7a41494b891",
   "metadata": {},
   "outputs": [],
   "source": [
    "%%capture\n",
    "fig, ax = show_hist(num_occurences, f\"Docs per Candidate ({self.n_docs} docs, {len(self.all_terms)} terms)\", xlabel=\"#Texts containing a Candidate\", \n",
    "                    ylabel=\"Candidate-count (log scale)\", cutoff_percentile=97, no_plot=False, log=True,\n",
    "                    fig_kwargs=dict(figsize=(16, 6)))"
   ]
  },
  {
   "cell_type": "code",
   "execution_count": 11,
   "id": "888fd492-ae7f-4827-8cf6-acead2e75f7a",
   "metadata": {
    "tags": []
   },
   "outputs": [
    {
     "data": {
      "text/markdown": [
       "<span style=\"font-size:11pt\">Docs per Candidate (11601 docs, 10060 terms)</span>"
      ],
      "text/plain": [
       "<IPython.core.display.Markdown object>"
      ]
     },
     "metadata": {},
     "output_type": "display_data"
    },
    {
     "name": "stderr",
     "output_type": "stream",
     "text": [
      "/tmp/ipykernel_2346358/1892450145.py:6: UserWarning: FixedFormatter should only be used together with FixedLocator\n"
     ]
    },
    {
     "data": {
      "image/png": "[encoded data removed]",
      "text/plain": [
       "<Figure size 1152x432 with 1 Axes>"
      ]
     },
     "execution_count": 11,
     "metadata": {},
     "output_type": "execute_result"
    }
   ],
   "source": [
    "print(f\"Docs per Candidate ({self.n_docs} docs, {len(self.all_terms)} terms)\")\n",
    "ax.get_xticklabels()[-1].set_text(ax.get_xticklabels()[-1].get_text().replace(\"-\",\"-\\n\"))\n",
    "ax.set_ylabel(ax.get_ylabel(), fontsize=22)\n",
    "ax.set_xlabel(ax.get_xlabel(), fontsize=24)\n",
    "ax.set_xticklabels(ax.get_xticklabels(), fontsize=24)\n",
    "ax.set_yticklabels(ax.get_yticklabels(), fontsize=24)\n",
    "ax.grid()\n",
    "ax.set_title(\"\")\n",
    "with PdfPages(\"/home/chris/Documents/UNI_neu/Masterarbeit/MastersThesisText/graphics/dataset_new/docs_per_phrase.pdf\") as pdf:\n",
    "    plt.show()\n",
    "    pdf.savefig(fig, bbox_inches='tight')\n",
    "    \n",
    "fig"
   ]
  },
  {
   "cell_type": "code",
   "execution_count": 12,
   "id": "7b1c4d59-53a9-465f-bd6b-c7d831f3b329",
   "metadata": {},
   "outputs": [
    {
     "data": {
      "text/markdown": [
       "<span style=\"font-size:11pt\">Found 10060 candidate Terms, 10060 (100%) of which occur in at least 25 descriptions.</span>"
      ],
      "text/plain": [
       "<IPython.core.display.Markdown object>"
      ]
     },
     "metadata": {},
     "output_type": "display_data"
    },
    {
     "data": {
      "text/markdown": [
       "<span style=\"font-size:11pt\">The 25 terms that occur in the most descriptions (incl the #descriptions they occur in): seminar (5482), literatur (4201), sowie (4196), veranstaltung (3250), dabei (3165), sollen (2779), fragen (2651), teilnahme (2268), studierenden (2208), einfuhrung (2175), seminars (2101), studierende (2040), ersten (2022), grundlagen (1960), themen (1947), de (1935), uuml (1925), auml (1881), bzw (1812), ziel (1785), methoden (1757), lernen (1710), 10 (1708), anhand (1697), ouml (1687)</span>"
      ],
      "text/plain": [
       "<IPython.core.display.Markdown object>"
      ]
     },
     "metadata": {},
     "output_type": "display_data"
    },
    {
     "data": {
      "text/markdown": [
       "<span style=\"font-size:11pt\">Max value: Term <span style=\"color: #0000ff\">nbsp</span> has value <span style=\"color: #0000ff\">469.000</span> for doc <span style=\"color: #0000ff\">Geschichte erleben – Umgang mit Menschen mit Behinderungen während der NS- Zeit B.1 (3)</span></span>"
      ],
      "text/plain": [
       "<IPython.core.display.Markdown object>"
      ]
     },
     "metadata": {},
     "output_type": "display_data"
    },
    {
     "data": {
      "text/markdown": [
       "<span style=\"font-size:11pt\"><br><br></span>"
      ],
      "text/plain": [
       "<IPython.core.display.Markdown object>"
      ]
     },
     "metadata": {},
     "output_type": "display_data"
    },
    {
     "data": {
      "text/markdown": [
       "<span style=\"font-size:11pt\">Found 10060 candidate Terms, 5007 (50%) of which occur in at least 50 descriptions.</span>"
      ],
      "text/plain": [
       "<IPython.core.display.Markdown object>"
      ]
     },
     "metadata": {},
     "output_type": "display_data"
    },
    {
     "data": {
      "text/markdown": [
       "<span style=\"font-size:11pt\">The 25 terms that occur in the most descriptions (incl the #descriptions they occur in): seminar (5482), literatur (4201), sowie (4196), veranstaltung (3250), dabei (3165), sollen (2779), fragen (2651), teilnahme (2268), studierenden (2208), einfuhrung (2175), seminars (2101), studierende (2040), ersten (2022), grundlagen (1960), themen (1947), de (1935), uuml (1925), auml (1881), bzw (1812), ziel (1785), methoden (1757), lernen (1710), 10 (1708), anhand (1697), ouml (1687)</span>"
      ],
      "text/plain": [
       "<IPython.core.display.Markdown object>"
      ]
     },
     "metadata": {},
     "output_type": "display_data"
    },
    {
     "data": {
      "text/markdown": [
       "<span style=\"font-size:11pt\">Max value: Term <span style=\"color: #0000ff\">nbsp</span> has value <span style=\"color: #0000ff\">469.000</span> for doc <span style=\"color: #0000ff\">Geschichte erleben – Umgang mit Menschen mit Behinderungen während der NS- Zeit B.1 (3)</span></span>"
      ],
      "text/plain": [
       "<IPython.core.display.Markdown object>"
      ]
     },
     "metadata": {},
     "output_type": "display_data"
    },
    {
     "data": {
      "text/markdown": [
       "<span style=\"font-size:11pt\"><br><br></span>"
      ],
      "text/plain": [
       "<IPython.core.display.Markdown object>"
      ]
     },
     "metadata": {},
     "output_type": "display_data"
    },
    {
     "data": {
      "text/markdown": [
       "<span style=\"font-size:11pt\">Found 10060 candidate Terms, 2595 (26%) of which occur in at least 100 descriptions.</span>"
      ],
      "text/plain": [
       "<IPython.core.display.Markdown object>"
      ]
     },
     "metadata": {},
     "output_type": "display_data"
    },
    {
     "data": {
      "text/markdown": [
       "<span style=\"font-size:11pt\">The 25 terms that occur in the most descriptions (incl the #descriptions they occur in): seminar (5482), literatur (4201), sowie (4196), veranstaltung (3250), dabei (3165), sollen (2779), fragen (2651), teilnahme (2268), studierenden (2208), einfuhrung (2175), seminars (2101), studierende (2040), ersten (2022), grundlagen (1960), themen (1947), de (1935), uuml (1925), auml (1881), bzw (1812), ziel (1785), methoden (1757), lernen (1710), 10 (1708), anhand (1697), ouml (1687)</span>"
      ],
      "text/plain": [
       "<IPython.core.display.Markdown object>"
      ]
     },
     "metadata": {},
     "output_type": "display_data"
    },
    {
     "data": {
      "text/markdown": [
       "<span style=\"font-size:11pt\">Max value: Term <span style=\"color: #0000ff\">nbsp</span> has value <span style=\"color: #0000ff\">469.000</span> for doc <span style=\"color: #0000ff\">Geschichte erleben – Umgang mit Menschen mit Behinderungen während der NS- Zeit B.1 (3)</span></span>"
      ],
      "text/plain": [
       "<IPython.core.display.Markdown object>"
      ]
     },
     "metadata": {},
     "output_type": "display_data"
    },
    {
     "data": {
      "text/markdown": [
       "<span style=\"font-size:11pt\"><br><br></span>"
      ],
      "text/plain": [
       "<IPython.core.display.Markdown object>"
      ]
     },
     "metadata": {},
     "output_type": "display_data"
    }
   ],
   "source": [
    "for thresh in [25, 50, 100]:\n",
    "    above_threshold = len([i for i in num_occurences if i>= thresh])\n",
    "    sorted_canditerms = sorted([[ind, elem] for ind, elem in enumerate(num_occurences)], key=lambda x:x[1], reverse=True)\n",
    "    print(f\"Found {len(self.all_terms)} candidate Terms, {above_threshold} ({round(above_threshold/len(self.all_terms)*100)}%) of which occur in at least {thresh} descriptions.\")\n",
    "    print(\"The 25 terms that occur in the most descriptions (incl the #descriptions they occur in):\",\n",
    "          \", \".join([f\"{self.all_terms[ind]} ({occs})\" for ind, occs in sorted_canditerms[:25]]))\n",
    "    max_ind = np.unravel_index(self.as_csr().argmax(), self.as_csr().shape)\n",
    "    print(f\"Max value: Term *b*{self.all_terms[max_ind[0]]}*b* has value *b*{dict(self.dtm[max_ind[1]])[max_ind[0]]:.3f}*b* for doc *b*{descriptions._descriptions[max_ind[1]].title}*b*\")\n",
    "    print(\"\\n\\n\")"
   ]
  },
  {
   "cell_type": "markdown",
   "id": "69763884-fbdc-459d-ba67-b632e32b3ffa",
   "metadata": {},
   "source": [
    "<br><br><br><br>\n",
    "# Checking Frequencies of unprocessed & processed texts:"
   ]
  },
  {
   "cell_type": "code",
   "execution_count": 15,
   "id": "ced5283d-3c42-420a-a5ed-5668ac926d50",
   "metadata": {},
   "outputs": [
    {
     "data": {
      "text/markdown": [
       "<span style=\"font-size:11pt\">TF of `computer    `: 1.00% | 116</span>"
      ],
      "text/plain": [
       "<IPython.core.display.Markdown object>"
      ]
     },
     "metadata": {},
     "output_type": "display_data"
    },
    {
     "data": {
      "text/markdown": [
       "<span style=\"font-size:11pt\">TF of `mathe       `: 0.00% | 0</span>"
      ],
      "text/plain": [
       "<IPython.core.display.Markdown object>"
      ]
     },
     "metadata": {},
     "output_type": "display_data"
    },
    {
     "data": {
      "text/markdown": [
       "<span style=\"font-size:11pt\">TF of `mathematik  `: 0.79% | 92</span>"
      ],
      "text/plain": [
       "<IPython.core.display.Markdown object>"
      ]
     },
     "metadata": {},
     "output_type": "display_data"
    },
    {
     "data": {
      "text/markdown": [
       "<span style=\"font-size:11pt\">TF of `mathe       `: 0.00% | 0</span>"
      ],
      "text/plain": [
       "<IPython.core.display.Markdown object>"
      ]
     },
     "metadata": {},
     "output_type": "display_data"
    },
    {
     "data": {
      "text/markdown": [
       "<span style=\"font-size:11pt\">TF of `recht       `: 4.16% | 483</span>"
      ],
      "text/plain": [
       "<IPython.core.display.Markdown object>"
      ]
     },
     "metadata": {},
     "output_type": "display_data"
    },
    {
     "data": {
      "text/markdown": [
       "<span style=\"font-size:11pt\">TF of `musik       `: 2.27% | 263</span>"
      ],
      "text/plain": [
       "<IPython.core.display.Markdown object>"
      ]
     },
     "metadata": {},
     "output_type": "display_data"
    },
    {
     "data": {
      "text/markdown": [
       "<span style=\"font-size:11pt\">TF of `management  `: 1.94% | 225</span>"
      ],
      "text/plain": [
       "<IPython.core.display.Markdown object>"
      ]
     },
     "metadata": {},
     "output_type": "display_data"
    },
    {
     "data": {
      "text/markdown": [
       "<span style=\"font-size:11pt\">TF of `literatur   `: 36.21% | 4201</span>"
      ],
      "text/plain": [
       "<IPython.core.display.Markdown object>"
      ]
     },
     "metadata": {},
     "output_type": "display_data"
    },
    {
     "data": {
      "text/markdown": [
       "<span style=\"font-size:11pt\">TF of `sprache     `: 9.03% | 1048</span>"
      ],
      "text/plain": [
       "<IPython.core.display.Markdown object>"
      ]
     },
     "metadata": {},
     "output_type": "display_data"
    },
    {
     "data": {
      "text/markdown": [
       "<span style=\"font-size:11pt\">TF of `psychologie `: 1.92% | 223</span>"
      ],
      "text/plain": [
       "<IPython.core.display.Markdown object>"
      ]
     },
     "metadata": {},
     "output_type": "display_data"
    },
    {
     "data": {
      "text/markdown": [
       "<span style=\"font-size:11pt\">TF of `wirtschaft  `: 2.22% | 257</span>"
      ],
      "text/plain": [
       "<IPython.core.display.Markdown object>"
      ]
     },
     "metadata": {},
     "output_type": "display_data"
    },
    {
     "data": {
      "text/markdown": [
       "<span style=\"font-size:11pt\">TF of `geographie  `: 2.68% | 311</span>"
      ],
      "text/plain": [
       "<IPython.core.display.Markdown object>"
      ]
     },
     "metadata": {},
     "output_type": "display_data"
    },
    {
     "data": {
      "text/markdown": [
       "<span style=\"font-size:11pt\">TF of `schule      `: 7.56% | 877</span>"
      ],
      "text/plain": [
       "<IPython.core.display.Markdown object>"
      ]
     },
     "metadata": {},
     "output_type": "display_data"
    },
    {
     "data": {
      "text/markdown": [
       "<span style=\"font-size:11pt\">TF of `kultur      `: 5.72% | 664</span>"
      ],
      "text/plain": [
       "<IPython.core.display.Markdown object>"
      ]
     },
     "metadata": {},
     "output_type": "display_data"
    },
    {
     "data": {
      "text/markdown": [
       "<span style=\"font-size:11pt\">TF of `wissenschaft`: 3.28% | 380</span>"
      ],
      "text/plain": [
       "<IPython.core.display.Markdown object>"
      ]
     },
     "metadata": {},
     "output_type": "display_data"
    },
    {
     "data": {
      "text/markdown": [
       "<span style=\"font-size:11pt\">TF of `sport       `: 1.03% | 120</span>"
      ],
      "text/plain": [
       "<IPython.core.display.Markdown object>"
      ]
     },
     "metadata": {},
     "output_type": "display_data"
    }
   ],
   "source": [
    "terms = [\"computer\", \"mathe\", \"mathematik\", \"mathe\", \"recht\", \"musik\", \"management\", \"literatur\", \"sprache\", \"psychologie\", \"wirtschaft\", \"geographie\", \"schule\", \"kultur\", \"wissenschaft\", \"sport\"]\n",
    "for term in terms:\n",
    "    print(f\"TF of `{term.ljust(max(len(i) for i in terms))}`: {filtered_dcm.term_freq(term, relative=True):.2%} | {filtered_dcm.term_freq(term):.0f}\")"
   ]
  },
  {
   "cell_type": "code",
   "execution_count": 14,
   "id": "cd1e6c69-56f4-4782-8ca1-85e5aff057a0",
   "metadata": {},
   "outputs": [
    {
     "data": {
      "text/markdown": [
       "<span style=\"font-size:11pt\">Checking Frequencies for mathematik</span>"
      ],
      "text/plain": [
       "<IPython.core.display.Markdown object>"
      ]
     },
     "metadata": {},
     "output_type": "display_data"
    },
    {
     "data": {
      "text/markdown": [
       "<span style=\"font-size:11pt\">  Using Description.contains: 92</span>"
      ],
      "text/plain": [
       "<IPython.core.display.Markdown object>"
      ]
     },
     "metadata": {},
     "output_type": "display_data"
    },
    {
     "data": {
      "text/markdown": [
       "<span style=\"font-size:11pt\">  Checking if it's in unprocessed-text: 105</span>"
      ],
      "text/plain": [
       "<IPython.core.display.Markdown object>"
      ]
     },
     "metadata": {},
     "output_type": "display_data"
    },
    {
     "data": {
      "text/markdown": [
       "<span style=\"font-size:11pt\"></span>"
      ],
      "text/plain": [
       "<IPython.core.display.Markdown object>"
      ]
     },
     "metadata": {},
     "output_type": "display_data"
    },
    {
     "data": {
      "text/markdown": [
       "<span style=\"font-size:11pt\">Checking Frequencies for mathe</span>"
      ],
      "text/plain": [
       "<IPython.core.display.Markdown object>"
      ]
     },
     "metadata": {},
     "output_type": "display_data"
    },
    {
     "data": {
      "text/markdown": [
       "<span style=\"font-size:11pt\">  Using Description.contains: 7</span>"
      ],
      "text/plain": [
       "<IPython.core.display.Markdown object>"
      ]
     },
     "metadata": {},
     "output_type": "display_data"
    },
    {
     "data": {
      "text/markdown": [
       "<span style=\"font-size:11pt\">  Checking if it's in unprocessed-text: 174</span>"
      ],
      "text/plain": [
       "<IPython.core.display.Markdown object>"
      ]
     },
     "metadata": {},
     "output_type": "display_data"
    },
    {
     "data": {
      "text/markdown": [
       "<span style=\"font-size:11pt\"></span>"
      ],
      "text/plain": [
       "<IPython.core.display.Markdown object>"
      ]
     },
     "metadata": {},
     "output_type": "display_data"
    }
   ],
   "source": [
    "for term in [\"mathematik\", \"mathe\"]:\n",
    "    print(f\"Checking Frequencies for {term}\")\n",
    "    print(\"  Using Description.contains:\", sum([term in i for i in descriptions._descriptions]))\n",
    "    print(\"  Checking if it's in unprocessed-text:\", sum([term in i.unprocessed_text.lower() for i in descriptions._descriptions]))\n",
    "    print()"
   ]
  },
  {
   "cell_type": "markdown",
   "id": "bd06f4c4-2ef9-47d2-9548-4f1bc909c5ab",
   "metadata": {},
   "source": [
    "**Does Lemmatizing make it better?! Would \"Synsetizing\" help?**"
   ]
  },
  {
   "cell_type": "code",
   "execution_count": null,
   "id": "cb00d8fe-30e1-4f11-bfe3-476cdacc6514",
   "metadata": {},
   "outputs": [],
   "source": []
  }
 ],
 "metadata": {
  "kernelspec": {
   "display_name": "Python 3 (ipykernel)",
   "language": "python",
   "name": "python3"
  },
  "language_info": {
   "codemirror_mode": {
    "name": "ipython",
    "version": 3
   },
   "file_extension": ".py",
   "mimetype": "text/x-python",
   "name": "python",
   "nbconvert_exporter": "python",
   "pygments_lexer": "ipython3",
   "version": "3.10.0"
  },
  "widgets": {
   "application/vnd.jupyter.widget-state+json": {
    "state": {},
    "version_major": 2,
    "version_minor": 0
   }
  }
 },
 "nbformat": 4,
 "nbformat_minor": 5
}
