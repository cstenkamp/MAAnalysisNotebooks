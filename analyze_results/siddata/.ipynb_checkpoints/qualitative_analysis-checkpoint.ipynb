{
 "cells": [
  {
   "cell_type": "code",
   "execution_count": 1,
   "id": "49c4bcd7-3c78-4eee-87f7-e43f8decd338",
   "metadata": {},
   "outputs": [
    {
     "data": {
      "text/markdown": [
       "<span style=\"font-size:11pt\"></span>"
      ],
      "text/plain": [
       "<IPython.core.display.Markdown object>"
      ]
     },
     "metadata": {},
     "output_type": "display_data"
    },
    {
     "name": "stderr",
     "output_type": "stream",
     "text": [
      "2022-04-12 23:18:19.929497: W tensorflow/stream_executor/platform/default/dso_loader.cc:64] Could not load dynamic library 'libcudart.so.11.0'; dlerror: libcudart.so.11.0: cannot open shared object file: No such file or directory; LD_LIBRARY_PATH: /home/chris/Documents/JOBS/Uhrig-Gesture-Recog/skelshop_deps/openpose_cpu/build/src/openpose/\n",
      "2022-04-12 23:18:19.929537: I tensorflow/stream_executor/cuda/cudart_stub.cc:29] Ignore above cudart dlerror if you do not have a GPU set up on your machine.\n"
     ]
    }
   ],
   "source": [
    "from derive_conceptualspace.evaluate.shallow_trees import classify_shallowtree\n",
    "from derive_conceptualspace.pipeline import SnakeContext, load_envfiles\n",
    "from derive_conceptualspace.util.result_analysis_tools import get_best_conf, highlight_nonzero_max, highlight_max\n",
    "from derive_conceptualspace.cli.args_from_filename import get_filename, print_envvars\n",
    "from misc_util.logutils import setup_logging\n",
    "\n",
    "import warnings\n",
    "warnings.simplefilter(action='ignore', category=FutureWarning)"
   ]
  },
  {
   "cell_type": "code",
   "execution_count": 2,
   "id": "c3699c87-e4b5-4a90-a054-81266da1d850",
   "metadata": {},
   "outputs": [],
   "source": [
    "import builtins\n",
    "import pyperclip\n",
    "from derive_conceptualspace.util.result_analysis_tools import df_to_latex\n",
    "from misc_util.logutils import setup_logging\n",
    "from misc_util.pretty_print import display, pretty_print as print\n",
    "from derive_conceptualspace.util.threedfigure import ThreeDFigure\n",
    "from derive_conceptualspace.semantic_directions.cluster_names import get_name_dict\n",
    "from derive_conceptualspace.pipeline import SnakeContext, load_envfiles, cluster_loader\n",
    "from derive_conceptualspace.util.result_analysis_tools import getfiles_allconfigs\n",
    "from derive_conceptualspace.util.desc_object import DescriptionList\n",
    "from derive_conceptualspace.evaluate.shallow_trees import classify_shallowtree"
   ]
  },
  {
   "cell_type": "code",
   "execution_count": 3,
   "id": "e4e804b2-60e4-4915-89e8-9d06276d6a0f",
   "metadata": {},
   "outputs": [],
   "source": [
    "import pandas as pd\n",
    "import numpy as np\n",
    "import pyperclip\n",
    "from derive_conceptualspace.util.result_analysis_tools import getfiles_allconfigs\n",
    "from derive_conceptualspace.util.result_analysis_tools import df_to_latex, shorten_met\n",
    "from derive_conceptualspace.util.desc_object import DescriptionList\n",
    "from derive_conceptualspace.pipeline import cluster_loader\n",
    "from joblib import parallel_backend\n",
    "import matplotlib.pyplot as plt\n",
    "from matplotlib.backends.backend_pdf import PdfPages\n",
    "from IPython.display import Markdown\n",
    "flatten = lambda l: [item for sublist in l for item in sublist] "
   ]
  },
  {
   "cell_type": "code",
   "execution_count": 4,
   "id": "9a280efe-7d9e-4c79-b16d-d33add8ba04b",
   "metadata": {},
   "outputs": [
    {
     "data": {
      "text/markdown": [
       "<span style=\"font-size:11pt\">There are 165 different parameter-combis for dataset <span style=\"color: #0000ff\">siddata2022</span>:</span>"
      ],
      "text/plain": [
       "<IPython.core.display.Markdown object>"
      ]
     },
     "metadata": {},
     "output_type": "display_data"
    },
    {
     "data": {
      "text/plain": [
       "{'dataset': 'siddata2022',\n",
       " 'language': 'de',\n",
       " 'debug': 'False',\n",
       " 'pp_components': ['mfauhcsd2', 'mfauhtcsldp'],\n",
       " 'translate_policy': 'onlyorig',\n",
       " 'min_words_per_desc': '80',\n",
       " 'quantification_measure': ['ppmi', 'tfidf'],\n",
       " 'embed_algo': 'mds',\n",
       " 'embed_dimensions': ['3', '50', '200'],\n",
       " 'extraction_method': 'tfidf',\n",
       " 'dcm_quant_measure': ['count', 'ppmi', 'tfidf'],\n",
       " 'kappa_weights': 'quadratic',\n",
       " 'classifier_succmetric': ['kappa_count2rank_onlypos',\n",
       "  'kappa_digitized_onlypos_2',\n",
       "  'kappa_rank2rank_onlypos_min'],\n",
       " 'prim_lambda': '0.5',\n",
       " 'sec_lambda': ['0.1', '0.2'],\n",
       " 'cluster_direction_algo': 'reclassify'}"
      ]
     },
     "metadata": {},
     "output_type": "display_data"
    }
   ],
   "source": [
    "setup_logging()\n",
    "load_envfiles(\"siddata\")\n",
    "configs, print_cnf = getfiles_allconfigs(\"clusters\", verbose=True)"
   ]
  },
  {
   "cell_type": "markdown",
   "id": "bb1c16b4-24e9-4a4e-8424-ba5d1d03b336",
   "metadata": {},
   "source": [
    "# All configs"
   ]
  },
  {
   "cell_type": "code",
   "execution_count": 5,
   "id": "95471de0-f89e-4fe5-bfca-950c6f0d30f8",
   "metadata": {},
   "outputs": [],
   "source": [
    "def get_decisions(X_test, clf, catnames, axnames):\n",
    "    n_nodes = clf.tree_.node_count\n",
    "    children_left = clf.tree_.children_left\n",
    "    children_right = clf.tree_.children_right\n",
    "    classes = [catnames[clf.classes_[np.argmax(i)]] for i in clf.tree_.value]\n",
    "    node_depth = np.zeros(shape=n_nodes, dtype=np.int64)\n",
    "    is_leaves = np.zeros(shape=n_nodes, dtype=bool)\n",
    "    stack = [(0, 0)]  # start with the root node id (0) and its depth (0)\n",
    "    while len(stack) > 0:\n",
    "        # `pop` ensures each node is only visited once\n",
    "        node_id, depth = stack.pop()\n",
    "        node_depth[node_id] = depth\n",
    "        # If the left and right child of a node is not the same we have a split node\n",
    "        is_split_node = children_left[node_id] != children_right[node_id]\n",
    "        # If a split node, append left and right children and depth to `stack` so we can loop through them\n",
    "        if is_split_node:\n",
    "            stack.append((children_left[node_id], depth + 1))\n",
    "            stack.append((children_right[node_id], depth + 1))\n",
    "        else:\n",
    "            is_leaves[node_id] = True\n",
    "    alls = {}\n",
    "    for i in range(n_nodes):\n",
    "        if not is_leaves[i]:\n",
    "            alls.setdefault(node_depth[i], []).append((axnames[clf.tree_.feature[i]], clf.tree_.threshold[i]))  \n",
    "    return (alls[0]+alls[1]) if len(alls) > 1 else alls[0]"
   ]
  },
  {
   "cell_type": "code",
   "execution_count": 6,
   "id": "8230dff4-bcdf-4b35-9430-43b5feaa16f7",
   "metadata": {
    "scrolled": true,
    "tags": []
   },
   "outputs": [
    {
     "data": {
      "text/markdown": [
       "<span style=\"font-size:11pt\">Skipping... (1 clusters)</span>"
      ],
      "text/plain": [
       "<IPython.core.display.Markdown object>"
      ]
     },
     "metadata": {},
     "output_type": "display_data"
    },
    {
     "data": {
      "text/markdown": [
       "<span style=\"font-size:11pt\">Skipping... (1 clusters)</span>"
      ],
      "text/plain": [
       "<IPython.core.display.Markdown object>"
      ]
     },
     "metadata": {},
     "output_type": "display_data"
    },
    {
     "data": {
      "text/markdown": [
       "<span style=\"font-size:11pt\">Skipping... (2 clusters)</span>"
      ],
      "text/plain": [
       "<IPython.core.display.Markdown object>"
      ]
     },
     "metadata": {},
     "output_type": "display_data"
    },
    {
     "data": {
      "text/markdown": [
       "<span style=\"font-size:11pt\">Skipping... (2 clusters)</span>"
      ],
      "text/plain": [
       "<IPython.core.display.Markdown object>"
      ]
     },
     "metadata": {},
     "output_type": "display_data"
    },
    {
     "data": {
      "text/markdown": [
       "<span style=\"font-size:11pt\">returning CLUS_REP_ALGO from default: <span style=\"color: #0000ff\">top_1</span></span>"
      ],
      "text/plain": [
       "<IPython.core.display.Markdown object>"
      ]
     },
     "metadata": {},
     "output_type": "display_data"
    },
    {
     "data": {
      "text/markdown": [
       "<span style=\"font-size:11pt\">Skipping... (1 clusters)</span>"
      ],
      "text/plain": [
       "<IPython.core.display.Markdown object>"
      ]
     },
     "metadata": {},
     "output_type": "display_data"
    },
    {
     "data": {
      "text/markdown": [
       "<span style=\"font-size:11pt\">Skipping... (1 clusters)</span>"
      ],
      "text/plain": [
       "<IPython.core.display.Markdown object>"
      ]
     },
     "metadata": {},
     "output_type": "display_data"
    },
    {
     "data": {
      "text/markdown": [
       "<span style=\"font-size:11pt\">Skipping... (39 clusters)</span>"
      ],
      "text/plain": [
       "<IPython.core.display.Markdown object>"
      ]
     },
     "metadata": {},
     "output_type": "display_data"
    },
    {
     "data": {
      "text/markdown": [
       "<span style=\"font-size:11pt\">Skipping... (39 clusters)</span>"
      ],
      "text/plain": [
       "<IPython.core.display.Markdown object>"
      ]
     },
     "metadata": {},
     "output_type": "display_data"
    },
    {
     "data": {
      "text/markdown": [
       "<span style=\"font-size:11pt\">Skipping... (14 clusters)</span>"
      ],
      "text/plain": [
       "<IPython.core.display.Markdown object>"
      ]
     },
     "metadata": {},
     "output_type": "display_data"
    },
    {
     "data": {
      "text/markdown": [
       "<span style=\"font-size:11pt\">Skipping... (14 clusters)</span>"
      ],
      "text/plain": [
       "<IPython.core.display.Markdown object>"
      ]
     },
     "metadata": {},
     "output_type": "display_data"
    },
    {
     "data": {
      "text/markdown": [
       "<span style=\"font-size:11pt\">Skipping... (98 clusters)</span>"
      ],
      "text/plain": [
       "<IPython.core.display.Markdown object>"
      ]
     },
     "metadata": {},
     "output_type": "display_data"
    },
    {
     "data": {
      "text/markdown": [
       "<span style=\"font-size:11pt\">Skipping... (98 clusters)</span>"
      ],
      "text/plain": [
       "<IPython.core.display.Markdown object>"
      ]
     },
     "metadata": {},
     "output_type": "display_data"
    },
    {
     "data": {
      "text/markdown": [
       "<span style=\"font-size:11pt\">Skipping... (1 clusters)</span>"
      ],
      "text/plain": [
       "<IPython.core.display.Markdown object>"
      ]
     },
     "metadata": {},
     "output_type": "display_data"
    },
    {
     "data": {
      "text/markdown": [
       "<span style=\"font-size:11pt\">Skipping... (1 clusters)</span>"
      ],
      "text/plain": [
       "<IPython.core.display.Markdown object>"
      ]
     },
     "metadata": {},
     "output_type": "display_data"
    },
    {
     "data": {
      "text/markdown": [
       "<span style=\"font-size:11pt\">Skipping... (364 clusters)</span>"
      ],
      "text/plain": [
       "<IPython.core.display.Markdown object>"
      ]
     },
     "metadata": {},
     "output_type": "display_data"
    },
    {
     "data": {
      "text/markdown": [
       "<span style=\"font-size:11pt\">Skipping... (364 clusters)</span>"
      ],
      "text/plain": [
       "<IPython.core.display.Markdown object>"
      ]
     },
     "metadata": {},
     "output_type": "display_data"
    },
    {
     "data": {
      "text/markdown": [
       "<span style=\"font-size:11pt\">Skipping... (50 clusters)</span>"
      ],
      "text/plain": [
       "<IPython.core.display.Markdown object>"
      ]
     },
     "metadata": {},
     "output_type": "display_data"
    },
    {
     "data": {
      "text/markdown": [
       "<span style=\"font-size:11pt\">Skipping... (50 clusters)</span>"
      ],
      "text/plain": [
       "<IPython.core.display.Markdown object>"
      ]
     },
     "metadata": {},
     "output_type": "display_data"
    },
    {
     "data": {
      "text/markdown": [
       "<span style=\"font-size:11pt\">Skipping... (26 clusters)</span>"
      ],
      "text/plain": [
       "<IPython.core.display.Markdown object>"
      ]
     },
     "metadata": {},
     "output_type": "display_data"
    },
    {
     "data": {
      "text/markdown": [
       "<span style=\"font-size:11pt\">Skipping... (26 clusters)</span>"
      ],
      "text/plain": [
       "<IPython.core.display.Markdown object>"
      ]
     },
     "metadata": {},
     "output_type": "display_data"
    },
    {
     "data": {
      "text/markdown": [
       "<span style=\"font-size:11pt\">Skipping... (179 clusters)</span>"
      ],
      "text/plain": [
       "<IPython.core.display.Markdown object>"
      ]
     },
     "metadata": {},
     "output_type": "display_data"
    },
    {
     "data": {
      "text/markdown": [
       "<span style=\"font-size:11pt\">Skipping... (179 clusters)</span>"
      ],
      "text/plain": [
       "<IPython.core.display.Markdown object>"
      ]
     },
     "metadata": {},
     "output_type": "display_data"
    },
    {
     "data": {
      "text/markdown": [
       "<span style=\"font-size:11pt\">Skipping... (171 clusters)</span>"
      ],
      "text/plain": [
       "<IPython.core.display.Markdown object>"
      ]
     },
     "metadata": {},
     "output_type": "display_data"
    },
    {
     "data": {
      "text/markdown": [
       "<span style=\"font-size:11pt\">Skipping... (171 clusters)</span>"
      ],
      "text/plain": [
       "<IPython.core.display.Markdown object>"
      ]
     },
     "metadata": {},
     "output_type": "display_data"
    },
    {
     "data": {
      "text/markdown": [
       "<span style=\"font-size:11pt\">Skipping... (169 clusters)</span>"
      ],
      "text/plain": [
       "<IPython.core.display.Markdown object>"
      ]
     },
     "metadata": {},
     "output_type": "display_data"
    },
    {
     "data": {
      "text/markdown": [
       "<span style=\"font-size:11pt\">Skipping... (169 clusters)</span>"
      ],
      "text/plain": [
       "<IPython.core.display.Markdown object>"
      ]
     },
     "metadata": {},
     "output_type": "display_data"
    },
    {
     "data": {
      "text/markdown": [
       "<span style=\"font-size:11pt\">Skipping... (1 clusters)</span>"
      ],
      "text/plain": [
       "<IPython.core.display.Markdown object>"
      ]
     },
     "metadata": {},
     "output_type": "display_data"
    },
    {
     "data": {
      "text/markdown": [
       "<span style=\"font-size:11pt\">Skipping... (1 clusters)</span>"
      ],
      "text/plain": [
       "<IPython.core.display.Markdown object>"
      ]
     },
     "metadata": {},
     "output_type": "display_data"
    },
    {
     "data": {
      "text/markdown": [
       "<span style=\"font-size:11pt\">Skipping... (1 clusters)</span>"
      ],
      "text/plain": [
       "<IPython.core.display.Markdown object>"
      ]
     },
     "metadata": {},
     "output_type": "display_data"
    },
    {
     "data": {
      "text/markdown": [
       "<span style=\"font-size:11pt\">Skipping... (1 clusters)</span>"
      ],
      "text/plain": [
       "<IPython.core.display.Markdown object>"
      ]
     },
     "metadata": {},
     "output_type": "display_data"
    },
    {
     "data": {
      "text/markdown": [
       "<span style=\"font-size:11pt\">Skipping... (3 clusters)</span>"
      ],
      "text/plain": [
       "<IPython.core.display.Markdown object>"
      ]
     },
     "metadata": {},
     "output_type": "display_data"
    },
    {
     "data": {
      "text/markdown": [
       "<span style=\"font-size:11pt\">Skipping... (3 clusters)</span>"
      ],
      "text/plain": [
       "<IPython.core.display.Markdown object>"
      ]
     },
     "metadata": {},
     "output_type": "display_data"
    },
    {
     "data": {
      "text/markdown": [
       "<span style=\"font-size:11pt\">Skipping... (4 clusters)</span>"
      ],
      "text/plain": [
       "<IPython.core.display.Markdown object>"
      ]
     },
     "metadata": {},
     "output_type": "display_data"
    },
    {
     "data": {
      "text/markdown": [
       "<span style=\"font-size:11pt\">Skipping... (4 clusters)</span>"
      ],
      "text/plain": [
       "<IPython.core.display.Markdown object>"
      ]
     },
     "metadata": {},
     "output_type": "display_data"
    },
    {
     "data": {
      "text/markdown": [
       "<span style=\"font-size:11pt\">Skipping... (239 clusters)</span>"
      ],
      "text/plain": [
       "<IPython.core.display.Markdown object>"
      ]
     },
     "metadata": {},
     "output_type": "display_data"
    },
    {
     "data": {
      "text/markdown": [
       "<span style=\"font-size:11pt\">Skipping... (121 clusters)</span>"
      ],
      "text/plain": [
       "<IPython.core.display.Markdown object>"
      ]
     },
     "metadata": {},
     "output_type": "display_data"
    },
    {
     "data": {
      "text/markdown": [
       "<span style=\"font-size:11pt\">Skipping... (121 clusters)</span>"
      ],
      "text/plain": [
       "<IPython.core.display.Markdown object>"
      ]
     },
     "metadata": {},
     "output_type": "display_data"
    },
    {
     "data": {
      "text/markdown": [
       "<span style=\"font-size:11pt\">Skipping... (1 clusters)</span>"
      ],
      "text/plain": [
       "<IPython.core.display.Markdown object>"
      ]
     },
     "metadata": {},
     "output_type": "display_data"
    },
    {
     "data": {
      "text/markdown": [
       "<span style=\"font-size:11pt\">Skipping... (1 clusters)</span>"
      ],
      "text/plain": [
       "<IPython.core.display.Markdown object>"
      ]
     },
     "metadata": {},
     "output_type": "display_data"
    },
    {
     "data": {
      "text/markdown": [
       "<span style=\"font-size:11pt\">Skipping... (1 clusters)</span>"
      ],
      "text/plain": [
       "<IPython.core.display.Markdown object>"
      ]
     },
     "metadata": {},
     "output_type": "display_data"
    },
    {
     "data": {
      "text/markdown": [
       "<span style=\"font-size:11pt\">Skipping... (2 clusters)</span>"
      ],
      "text/plain": [
       "<IPython.core.display.Markdown object>"
      ]
     },
     "metadata": {},
     "output_type": "display_data"
    },
    {
     "data": {
      "text/markdown": [
       "<span style=\"font-size:11pt\">Skipping... (2 clusters)</span>"
      ],
      "text/plain": [
       "<IPython.core.display.Markdown object>"
      ]
     },
     "metadata": {},
     "output_type": "display_data"
    },
    {
     "data": {
      "text/markdown": [
       "<span style=\"font-size:11pt\">Skipping... (25 clusters)</span>"
      ],
      "text/plain": [
       "<IPython.core.display.Markdown object>"
      ]
     },
     "metadata": {},
     "output_type": "display_data"
    },
    {
     "data": {
      "text/markdown": [
       "<span style=\"font-size:11pt\">Skipping... (25 clusters)</span>"
      ],
      "text/plain": [
       "<IPython.core.display.Markdown object>"
      ]
     },
     "metadata": {},
     "output_type": "display_data"
    },
    {
     "data": {
      "text/markdown": [
       "<span style=\"font-size:11pt\">Skipping... (47 clusters)</span>"
      ],
      "text/plain": [
       "<IPython.core.display.Markdown object>"
      ]
     },
     "metadata": {},
     "output_type": "display_data"
    },
    {
     "data": {
      "text/markdown": [
       "<span style=\"font-size:11pt\">Skipping... (47 clusters)</span>"
      ],
      "text/plain": [
       "<IPython.core.display.Markdown object>"
      ]
     },
     "metadata": {},
     "output_type": "display_data"
    },
    {
     "data": {
      "text/markdown": [
       "<span style=\"font-size:11pt\">Skipping... (1 clusters)</span>"
      ],
      "text/plain": [
       "<IPython.core.display.Markdown object>"
      ]
     },
     "metadata": {},
     "output_type": "display_data"
    },
    {
     "data": {
      "text/markdown": [
       "<span style=\"font-size:11pt\">Skipping... (1 clusters)</span>"
      ],
      "text/plain": [
       "<IPython.core.display.Markdown object>"
      ]
     },
     "metadata": {},
     "output_type": "display_data"
    },
    {
     "data": {
      "text/markdown": [
       "<span style=\"font-size:11pt\">Skipping... (313 clusters)</span>"
      ],
      "text/plain": [
       "<IPython.core.display.Markdown object>"
      ]
     },
     "metadata": {},
     "output_type": "display_data"
    },
    {
     "data": {
      "text/markdown": [
       "<span style=\"font-size:11pt\">Skipping... (313 clusters)</span>"
      ],
      "text/plain": [
       "<IPython.core.display.Markdown object>"
      ]
     },
     "metadata": {},
     "output_type": "display_data"
    },
    {
     "data": {
      "text/markdown": [
       "<span style=\"font-size:11pt\">Skipping... (46 clusters)</span>"
      ],
      "text/plain": [
       "<IPython.core.display.Markdown object>"
      ]
     },
     "metadata": {},
     "output_type": "display_data"
    },
    {
     "data": {
      "text/markdown": [
       "<span style=\"font-size:11pt\">Skipping... (46 clusters)</span>"
      ],
      "text/plain": [
       "<IPython.core.display.Markdown object>"
      ]
     },
     "metadata": {},
     "output_type": "display_data"
    },
    {
     "data": {
      "text/markdown": [
       "<span style=\"font-size:11pt\">Skipping... (74 clusters)</span>"
      ],
      "text/plain": [
       "<IPython.core.display.Markdown object>"
      ]
     },
     "metadata": {},
     "output_type": "display_data"
    },
    {
     "data": {
      "text/markdown": [
       "<span style=\"font-size:11pt\">Skipping... (74 clusters)</span>"
      ],
      "text/plain": [
       "<IPython.core.display.Markdown object>"
      ]
     },
     "metadata": {},
     "output_type": "display_data"
    },
    {
     "data": {
      "text/markdown": [
       "<span style=\"font-size:11pt\">Skipping... (264 clusters)</span>"
      ],
      "text/plain": [
       "<IPython.core.display.Markdown object>"
      ]
     },
     "metadata": {},
     "output_type": "display_data"
    },
    {
     "data": {
      "text/markdown": [
       "<span style=\"font-size:11pt\">Skipping... (264 clusters)</span>"
      ],
      "text/plain": [
       "<IPython.core.display.Markdown object>"
      ]
     },
     "metadata": {},
     "output_type": "display_data"
    },
    {
     "data": {
      "text/markdown": [
       "<span style=\"font-size:11pt\">Skipping... (179 clusters)</span>"
      ],
      "text/plain": [
       "<IPython.core.display.Markdown object>"
      ]
     },
     "metadata": {},
     "output_type": "display_data"
    },
    {
     "data": {
      "text/markdown": [
       "<span style=\"font-size:11pt\">Skipping... (179 clusters)</span>"
      ],
      "text/plain": [
       "<IPython.core.display.Markdown object>"
      ]
     },
     "metadata": {},
     "output_type": "display_data"
    },
    {
     "data": {
      "text/markdown": [
       "<span style=\"font-size:11pt\">Skipping... (236 clusters)</span>"
      ],
      "text/plain": [
       "<IPython.core.display.Markdown object>"
      ]
     },
     "metadata": {},
     "output_type": "display_data"
    },
    {
     "data": {
      "text/markdown": [
       "<span style=\"font-size:11pt\">Skipping... (236 clusters)</span>"
      ],
      "text/plain": [
       "<IPython.core.display.Markdown object>"
      ]
     },
     "metadata": {},
     "output_type": "display_data"
    },
    {
     "data": {
      "text/markdown": [
       "<span style=\"font-size:11pt\">Skipping... (2 clusters)</span>"
      ],
      "text/plain": [
       "<IPython.core.display.Markdown object>"
      ]
     },
     "metadata": {},
     "output_type": "display_data"
    },
    {
     "data": {
      "text/markdown": [
       "<span style=\"font-size:11pt\">Skipping... (2 clusters)</span>"
      ],
      "text/plain": [
       "<IPython.core.display.Markdown object>"
      ]
     },
     "metadata": {},
     "output_type": "display_data"
    },
    {
     "data": {
      "text/markdown": [
       "<span style=\"font-size:11pt\">Skipping... (1 clusters)</span>"
      ],
      "text/plain": [
       "<IPython.core.display.Markdown object>"
      ]
     },
     "metadata": {},
     "output_type": "display_data"
    },
    {
     "data": {
      "text/markdown": [
       "<span style=\"font-size:11pt\">Skipping... (1 clusters)</span>"
      ],
      "text/plain": [
       "<IPython.core.display.Markdown object>"
      ]
     },
     "metadata": {},
     "output_type": "display_data"
    },
    {
     "data": {
      "text/markdown": [
       "<span style=\"font-size:11pt\">Skipping... (3 clusters)</span>"
      ],
      "text/plain": [
       "<IPython.core.display.Markdown object>"
      ]
     },
     "metadata": {},
     "output_type": "display_data"
    },
    {
     "data": {
      "text/markdown": [
       "<span style=\"font-size:11pt\">Skipping... (3 clusters)</span>"
      ],
      "text/plain": [
       "<IPython.core.display.Markdown object>"
      ]
     },
     "metadata": {},
     "output_type": "display_data"
    },
    {
     "data": {
      "text/markdown": [
       "<span style=\"font-size:11pt\">Skipping... (3 clusters)</span>"
      ],
      "text/plain": [
       "<IPython.core.display.Markdown object>"
      ]
     },
     "metadata": {},
     "output_type": "display_data"
    },
    {
     "data": {
      "text/markdown": [
       "<span style=\"font-size:11pt\">Skipping... (3 clusters)</span>"
      ],
      "text/plain": [
       "<IPython.core.display.Markdown object>"
      ]
     },
     "metadata": {},
     "output_type": "display_data"
    },
    {
     "data": {
      "text/markdown": [
       "<span style=\"font-size:11pt\">Skipping... (245 clusters)</span>"
      ],
      "text/plain": [
       "<IPython.core.display.Markdown object>"
      ]
     },
     "metadata": {},
     "output_type": "display_data"
    },
    {
     "data": {
      "text/markdown": [
       "<span style=\"font-size:11pt\">Skipping... (245 clusters)</span>"
      ],
      "text/plain": [
       "<IPython.core.display.Markdown object>"
      ]
     },
     "metadata": {},
     "output_type": "display_data"
    },
    {
     "data": {
      "text/markdown": [
       "<span style=\"font-size:11pt\">Skipping... (157 clusters)</span>"
      ],
      "text/plain": [
       "<IPython.core.display.Markdown object>"
      ]
     },
     "metadata": {},
     "output_type": "display_data"
    },
    {
     "data": {
      "text/markdown": [
       "<span style=\"font-size:11pt\">Skipping... (157 clusters)</span>"
      ],
      "text/plain": [
       "<IPython.core.display.Markdown object>"
      ]
     },
     "metadata": {},
     "output_type": "display_data"
    }
   ],
   "source": [
    "alls = None\n",
    "nworked = 0\n",
    "for conf in configs: #[i for i in configs if i[\"embed_dimensions\"] == NDIM][16:]: #first 10 have <10\n",
    "    ctx = SnakeContext.loader_context(config={**conf, \"debug\": False}, silent=True)\n",
    "    clusters = ctx.load(\"clusters\", loaders=dict(clusters=cluster_loader))\n",
    "    if len(clusters[\"clusters\"]) < conf[\"embed_dimensions\"]*2:\n",
    "        print(f'Skipping... ({len(clusters[\"clusters\"])} clusters)')\n",
    "        continue\n",
    "    nworked += 1\n",
    "    descriptions, embedding = ctx.load(\"pp_descriptions\", \"embedding\", \n",
    "                  loaders=dict(pp_descriptions=DescriptionList.from_json, clusters=cluster_loader, embedding=lambda **args: args[\"embedding\"].embedding_))\n",
    "    clfs, inputs, targets, scores, classes, catnames = classify_shallowtree(clusters, embedding, descriptions, ctx.obj[\"dataset_class\"], one_vs_rest=True, dt_depth=1, test_percentage_crossval=0.33,\n",
    "                       classes=\"fachbereich\", verbose=False, return_features=True, balance_classes=True, do_plot=False, shutup=True)\n",
    "    if alls is None:\n",
    "        alls = {i[1]: {int(j): [] for j in print_cnf[\"embed_dimensions\"]}  for i in classes}\n",
    "    \n",
    "    axnames = {n: k for n, k in enumerate(clusters[\"clusters\"].keys())}\n",
    "    for clf, catname in zip(clfs, classes):\n",
    "        feats = [(i[0], round(i[1],3)) for i in sorted({axnames[i]: elem for i, elem in enumerate(clf.feature_importances_) if elem > 0}.items(), key=lambda x:x[1], reverse=True)][:3]\n",
    "        alls[catname[1]][conf[\"embed_dimensions\"]].append([i[0] for i in feats])"
   ]
  },
  {
   "cell_type": "code",
   "execution_count": 7,
   "id": "fe540bc3-eca7-4cad-9ab7-268e649bec33",
   "metadata": {},
   "outputs": [],
   "source": [
    "from collections import Counter"
   ]
  },
  {
   "cell_type": "code",
   "execution_count": 8,
   "id": "a6de7c1e-d1a7-48f3-bf9f-9d739f602a6b",
   "metadata": {},
   "outputs": [
    {
     "data": {
      "text/markdown": [
       "<span style=\"font-size:11pt\">How many per dim have at least ndims*2 features with kappa > 0.5: {3: 40, 50: 38, 200: 15}</span>"
      ],
      "text/plain": [
       "<IPython.core.display.Markdown object>"
      ]
     },
     "metadata": {},
     "output_type": "display_data"
    },
    {
     "data": {
      "text/markdown": [
       "<span style=\"font-size:11pt\">How many unique per dim are there:</span>"
      ],
      "text/plain": [
       "<IPython.core.display.Markdown object>"
      ]
     },
     "metadata": {},
     "output_type": "display_data"
    },
    {
     "data": {
      "text/plain": [
       "{'Mathematik/Informatik': {3: 20, 50: 16, 200: 6},\n",
       " 'Wirtschaftswissenschaften': {3: 22, 50: 28, 200: 7},\n",
       " 'Rechtswissenschaften': {3: 19, 50: 13, 200: 9},\n",
       " 'Sprach-/Literaturwissenschaften': {3: 20, 50: 18, 200: 6},\n",
       " 'Humanwissenschaften': {3: 20, 50: 19, 200: 6},\n",
       " 'Biologie/Chemie': {3: 19, 50: 24, 200: 11},\n",
       " 'Physik': {3: 21, 50: 26, 200: 12},\n",
       " 'Kultur-/Geowissenschaften': {3: 22, 50: 15, 200: 9},\n",
       " 'Erziehungs-/Kulturwissenschaften': {3: 24, 50: 24, 200: 7},\n",
       " 'Sozialwissenschaften': {3: 19, 50: 22, 200: 8}}"
      ]
     },
     "execution_count": 8,
     "metadata": {},
     "output_type": "execute_result"
    }
   ],
   "source": [
    "num_goodruns = {k: len(v) for k, v in list(alls.values())[0].items()}\n",
    "print(f\"How many per dim have at least ndims*2 features with kappa > 0.5: {num_goodruns}\")\n",
    "\n",
    "flattened = {k1: {k2: set([i[0] for i in v2]) for k2, v2 in v1.items()} for k1, v1 in alls.items()}\n",
    "nums = {k1: {k2: len(v2) for k2, v2 in v1.items()} for k1, v1 in flattened.items()}\n",
    "print(f\"How many unique per dim are there:\")\n",
    "nums"
   ]
  },
  {
   "cell_type": "markdown",
   "id": "01260c5d-fc85-4106-881a-a9156a109522",
   "metadata": {},
   "source": [
    "Ok let us ignore 3-dim cause that obvs sucks"
   ]
  },
  {
   "cell_type": "code",
   "execution_count": 9,
   "id": "eda7c5d8-ff58-44ce-8209-1d8f244c5f90",
   "metadata": {},
   "outputs": [
    {
     "data": {
      "text/markdown": [
       "<span style=\"font-size:11pt\">How many unique in sum are there (out of 53 possible)</span>"
      ],
      "text/plain": [
       "<IPython.core.display.Markdown object>"
      ]
     },
     "metadata": {},
     "output_type": "display_data"
    },
    {
     "data": {
      "text/plain": [
       "{'Mathematik/Informatik': 22,\n",
       " 'Wirtschaftswissenschaften': 34,\n",
       " 'Rechtswissenschaften': 18,\n",
       " 'Sprach-/Literaturwissenschaften': 23,\n",
       " 'Humanwissenschaften': 23,\n",
       " 'Biologie/Chemie': 35,\n",
       " 'Physik': 37,\n",
       " 'Kultur-/Geowissenschaften': 21,\n",
       " 'Erziehungs-/Kulturwissenschaften': 29,\n",
       " 'Sozialwissenschaften': 29}"
      ]
     },
     "execution_count": 9,
     "metadata": {},
     "output_type": "execute_result"
    }
   ],
   "source": [
    "flattened = {k1: {k2: v2 for k2, v2 in v1.items() if k2 != 3} for k1, v1 in flattened.items()}\n",
    "\n",
    "fullflat = {k1: flatten([v2 for v2 in v1.values()]) for k1, v1 in flattened.items()}\n",
    "nums = {k1: len(set(v1)) for k1, v1 in fullflat.items()}\n",
    "print(f\"How many unique in sum are there (out of {sum(i[1] for i in num_goodruns.items() if i[0] != 3)} possible)\")\n",
    "nums"
   ]
  },
  {
   "cell_type": "code",
   "execution_count": 10,
   "id": "798002b1-3da0-49c2-9d2a-9376a2a61eaf",
   "metadata": {},
   "outputs": [
    {
     "data": {
      "text/plain": [
       "{'Mathematik/Informatik': set(),\n",
       " 'Wirtschaftswissenschaften': {'fallstudie (2)'},\n",
       " 'Rechtswissenschaften': {'deutsch recht (2)',\n",
       "  'grundrechte (2)',\n",
       "  'sp 5 (2)',\n",
       "  'strafrecht (2)'},\n",
       " 'Sprach-/Literaturwissenschaften': {'text (2)'},\n",
       " 'Humanwissenschaften': {'psychologie (2)', 'therapeutisch (2)'},\n",
       " 'Biologie/Chemie': set(),\n",
       " 'Physik': {'stress (2)'},\n",
       " 'Kultur-/Geowissenschaften': {'physischen geographie (2)',\n",
       "  'stadtgeographie (2)',\n",
       "  'tourismus (2)'},\n",
       " 'Erziehungs-/Kulturwissenschaften': {'padagogisch (2)', 'schule (2)'},\n",
       " 'Sozialwissenschaften': {'staatlicher (2)'}}"
      ]
     },
     "execution_count": 10,
     "metadata": {},
     "output_type": "execute_result"
    }
   ],
   "source": [
    "{k: {f\"{k2} ({v2})\" for k2, v2 in dict(Counter(v)).items() if v2 > 1} for k, v in fullflat.items()}"
   ]
  },
  {
   "cell_type": "markdown",
   "id": "6e4280e1-434f-4101-b8c2-19ec69bb54c9",
   "metadata": {},
   "source": [
    "<br><br>\n",
    "\n",
    "## Are intuitively appealing phrases among the semantic directions?\n",
    "\n",
    "Given the task of manually embedding courses into a semantic space, there are some intuitive can-\n",
    "didates one may think of that capture some important aspects of a course. For\n",
    "example, a word like computer hinting at computer-science related courses. Other\n",
    "obvious candidates that will be checked include math, culture, science, school and\n",
    "sport."
   ]
  },
  {
   "cell_type": "code",
   "execution_count": 27,
   "id": "bb920245-b1de-42ea-b257-b8737d0a5b7b",
   "metadata": {
    "scrolled": true,
    "tags": []
   },
   "outputs": [
    {
     "data": {
      "text/plain": [
       "{'Mathematik/Informatik': ['werkstoff',\n",
       "  'ki',\n",
       "  'pierre',\n",
       "  'smart',\n",
       "  'powerpoint',\n",
       "  'testverfahren',\n",
       "  '4 0',\n",
       "  'judische',\n",
       "  'bull',\n",
       "  'adobe',\n",
       "  'berechnung',\n",
       "  'ingenieurinnen sommeruni',\n",
       "  'technisch mechanik',\n",
       "  'linear',\n",
       "  'visualisieren',\n",
       "  'technische mechanik',\n",
       "  'programmiersprache',\n",
       "  'programmierung',\n",
       "  'variabel',\n",
       "  'modellierung',\n",
       "  'computer',\n",
       "  '3d'],\n",
       " 'Wirtschaftswissenschaften': ['career center',\n",
       "  'sozialwiss uni',\n",
       "  'fallstudie',\n",
       "  'musik',\n",
       "  'kind',\n",
       "  'economics',\n",
       "  'data',\n",
       "  '4 0',\n",
       "  'tanz',\n",
       "  'prasenzveranstaltung',\n",
       "  'prof dr',\n",
       "  'korper',\n",
       "  'steuerrecht',\n",
       "  'barth',\n",
       "  'kommune',\n",
       "  'visualisieren',\n",
       "  'veranstaltungssuche suchen',\n",
       "  'arbeitgeber',\n",
       "  'the beginning of the course',\n",
       "  'care center',\n",
       "  'veranstaltung studierenden',\n",
       "  'ki',\n",
       "  'bereichern',\n",
       "  'https',\n",
       "  'smart',\n",
       "  'hobbys',\n",
       "  'lessing',\n",
       "  'wirtschaftsgeographie',\n",
       "  'fallstudie',\n",
       "  'wiwi',\n",
       "  'business',\n",
       "  'betrieblich',\n",
       "  'management',\n",
       "  'organisation',\n",
       "  'center betriebswirtschaftlich kompetenz'],\n",
       " 'Rechtswissenschaften': ['schuldrecht',\n",
       "  'geistiges',\n",
       "  'strafrecht',\n",
       "  'rollenspiel',\n",
       "  'deutsch recht',\n",
       "  'verhandlung',\n",
       "  'abs',\n",
       "  'offentliches recht',\n",
       "  'sp 5',\n",
       "  'vo',\n",
       "  'grundrechte',\n",
       "  'urheberrecht',\n",
       "  'steuerrecht',\n",
       "  'offentliches',\n",
       "  'strafrecht',\n",
       "  'deutsches europaisches',\n",
       "  'europaisches',\n",
       "  'deutsch recht',\n",
       "  'juristisch',\n",
       "  'recht',\n",
       "  'sp 5',\n",
       "  'grundrechte'],\n",
       " 'Sprach-/Literaturwissenschaften': ['kanon',\n",
       "  'stuttgart reclam',\n",
       "  'manifest',\n",
       "  'roman',\n",
       "  'artikulation',\n",
       "  'neu deutsch',\n",
       "  '1961',\n",
       "  'seminar stellt',\n",
       "  'lekture empfehlen',\n",
       "  'text',\n",
       "  'studierend gelegenheit',\n",
       "  'tristan',\n",
       "  'lessing',\n",
       "  'grass',\n",
       "  'la',\n",
       "  'dame',\n",
       "  'lateinischen',\n",
       "  'thomas mann',\n",
       "  'deutsch literaturwissenschaft',\n",
       "  'romans',\n",
       "  'text',\n",
       "  'deutschen literatur',\n",
       "  'texte',\n",
       "  'literarisch'],\n",
       " 'Humanwissenschaften': ['biophysik',\n",
       "  'gesundheitsforderung',\n",
       "  'storung',\n",
       "  'entscheidungsfindung',\n",
       "  'stress',\n",
       "  'kognition',\n",
       "  'therapeutisch',\n",
       "  'psychologie',\n",
       "  'genetisch',\n",
       "  'resilienz',\n",
       "  'coaching',\n",
       "  'adl 1',\n",
       "  'erkrankungen',\n",
       "  'verhaltensweise',\n",
       "  'taglich leben',\n",
       "  'testverfahren',\n",
       "  'entspannungstechniken',\n",
       "  'mediation',\n",
       "  'patient',\n",
       "  'fuhrte',\n",
       "  'landes',\n",
       "  'therapeutisch',\n",
       "  'psychologie',\n",
       "  'gehirn',\n",
       "  'psychisch'],\n",
       " 'Biologie/Chemie': ['barrierefreiheit workshop kontaktieren bitte frau',\n",
       "  'bourdieu',\n",
       "  'umstellung',\n",
       "  'hintergrund aktuell',\n",
       "  'strassburg',\n",
       "  '20 00',\n",
       "  'tutor innen',\n",
       "  'beruflichen',\n",
       "  'erfahren studierend',\n",
       "  'qualifizierung',\n",
       "  'rhetorische',\n",
       "  'coaching',\n",
       "  'beruflich',\n",
       "  'verona',\n",
       "  'dissertation',\n",
       "  'innen',\n",
       "  'vorstellen gemeinsam',\n",
       "  'detailliert information',\n",
       "  'fruh neuzeit',\n",
       "  'jahrhundert',\n",
       "  'konkreten ablauf veranstaltung',\n",
       "  'lehr lernmethoden',\n",
       "  'schiller',\n",
       "  'lessing',\n",
       "  'kommunikation',\n",
       "  'kanon',\n",
       "  'mail studip',\n",
       "  '1977',\n",
       "  'ruckmeldung',\n",
       "  'werkstattseminar',\n",
       "  'forschend lernen',\n",
       "  'vi',\n",
       "  'geschichte',\n",
       "  'raten',\n",
       "  'umgangsform'],\n",
       " 'Physik': ['tatigkeitsfelder',\n",
       "  'klarer',\n",
       "  'erfolgsbescheinigung',\n",
       "  'singen',\n",
       "  'vorstellungsgesprach',\n",
       "  'stress',\n",
       "  'textarbeit',\n",
       "  'musik',\n",
       "  'funktionalitat',\n",
       "  'workshop',\n",
       "  'alltagssituation',\n",
       "  'lernen eigen',\n",
       "  'biologischen',\n",
       "  'ungefahr',\n",
       "  'fd',\n",
       "  'gremien',\n",
       "  'verortung',\n",
       "  'coaching',\n",
       "  'neu deutsch',\n",
       "  'kuhl',\n",
       "  'eigen person',\n",
       "  'radio',\n",
       "  'entspannt',\n",
       "  'rollenspiele',\n",
       "  '46',\n",
       "  'ubergreifend',\n",
       "  'heiligen',\n",
       "  'ding',\n",
       "  'team',\n",
       "  'stress',\n",
       "  'neu entwicklung',\n",
       "  'gestik',\n",
       "  'geschichte',\n",
       "  'islam',\n",
       "  'narrativ',\n",
       "  'klar',\n",
       "  'projektmanagement',\n",
       "  'mitarbeiterinnen'],\n",
       " 'Kultur-/Geowissenschaften': ['westfalisch',\n",
       "  'physischen',\n",
       "  'tourismus',\n",
       "  'exkursion',\n",
       "  'wirtschaftlicher',\n",
       "  'gis',\n",
       "  'arbeiten leitfaden studierende geographie bern',\n",
       "  'physischen geographie',\n",
       "  'architektur',\n",
       "  'lebensbedingung',\n",
       "  'industrielle',\n",
       "  'flache',\n",
       "  'bewohner',\n",
       "  'stadtgeographie',\n",
       "  'geookologisch',\n",
       "  'landwirtschaft',\n",
       "  'geographisch',\n",
       "  'tourismus',\n",
       "  'stadt',\n",
       "  'physischen geographie',\n",
       "  'klimawandel',\n",
       "  'humangeographische ubung',\n",
       "  'stadtgeographie',\n",
       "  'geographie'],\n",
       " 'Erziehungs-/Kulturwissenschaften': ['bildung',\n",
       "  'kinder',\n",
       "  'haupt realschule',\n",
       "  'interkulturelles lernen',\n",
       "  'berufsbildenden schulen',\n",
       "  'urheberrecht',\n",
       "  'heranwachsend',\n",
       "  'religionswissenschaft',\n",
       "  'koran',\n",
       "  'padagogisch',\n",
       "  'beruflich bildung',\n",
       "  'lernwerkstatt',\n",
       "  'klinkhardt',\n",
       "  'didaktik methodik',\n",
       "  'efp',\n",
       "  'pisa',\n",
       "  'schuljahr',\n",
       "  'sozialpadagogisch',\n",
       "  'schule',\n",
       "  'prasenzlehre',\n",
       "  'lernumgebungen',\n",
       "  'theologie',\n",
       "  'erwachsenenbildung',\n",
       "  'entwicklungsaufgabe',\n",
       "  'ausserschulisch',\n",
       "  'padagogik',\n",
       "  'padagogischen',\n",
       "  'erziehungswissenschaft',\n",
       "  'kind jugendlich',\n",
       "  'padagogisch',\n",
       "  'schule'],\n",
       " 'Sozialwissenschaften': ['entscheidungsfindung',\n",
       "  'migration',\n",
       "  'demographisch',\n",
       "  'sports',\n",
       "  'demokratie',\n",
       "  'migrationsforschung',\n",
       "  'sozial',\n",
       "  'economics',\n",
       "  'internationales',\n",
       "  'politisch system',\n",
       "  'eu',\n",
       "  'effektivitat',\n",
       "  'usa',\n",
       "  'springer vs',\n",
       "  'strukturwandel',\n",
       "  'arbeitgeber',\n",
       "  'losungsvorschlage',\n",
       "  'sozial bewegung',\n",
       "  'staatlicher',\n",
       "  'berufen',\n",
       "  'effekt',\n",
       "  'sozialstruktur',\n",
       "  'staatlicher',\n",
       "  'parteien',\n",
       "  'politik',\n",
       "  'policy',\n",
       "  'demokratisch',\n",
       "  'arbeitsmarkt',\n",
       "  'wirtschaft',\n",
       "  'soziologie']}"
      ]
     },
     "execution_count": 27,
     "metadata": {},
     "output_type": "execute_result"
    }
   ],
   "source": [
    "fullflat"
   ]
  },
  {
   "cell_type": "code",
   "execution_count": 26,
   "id": "8e70756f-6b69-4acf-9902-a8e5ef808160",
   "metadata": {},
   "outputs": [
    {
     "name": "stdout",
     "output_type": "stream",
     "text": [
      "Mathematik/Informatik               werkstoff, ki, pierre, smart, powerpoint, testverfahren, 4 0, judische, bull, adobe, berechnung, ingenieurinnen sommeruni, technisch mechanik, linear, visualisieren, technische mechanik, programmiersprache, programmierung, variabel, modellierung, computer, 3d\n",
      "Wirtschaftswissenschaften           career center, sozialwiss uni, fallstudie, musik, kind, economics, data, 4 0, tanz, prasenzveranstaltung, prof dr, korper, steuerrecht, barth, kommune, visualisieren, veranstaltungssuche suchen, arbeitgeber, the beginning of the course, care center, veranstaltung studierenden, ki, bereichern, https, smart, hobbys, lessing, wirtschaftsgeographie, fallstudie, wiwi, business, betrieblich, management, organisation, center betriebswirtschaftlich kompetenz\n",
      "Rechtswissenschaften                schuldrecht, geistiges, strafrecht, rollenspiel, deutsch recht, verhandlung, abs, offentliches recht, sp 5, vo, grundrechte, urheberrecht, steuerrecht, offentliches, strafrecht, deutsches europaisches, europaisches, deutsch recht, juristisch, recht, sp 5, grundrechte\n",
      "Sprach-/Literaturwissenschaften     kanon, stuttgart reclam, manifest, roman, artikulation, neu deutsch, 1961, seminar stellt, lekture empfehlen, text, studierend gelegenheit, tristan, lessing, grass, la, dame, lateinischen, thomas mann, deutsch literaturwissenschaft, romans, text, deutschen literatur, texte, literarisch\n",
      "Humanwissenschaften                 biophysik, gesundheitsforderung, storung, entscheidungsfindung, stress, kognition, therapeutisch, psychologie, genetisch, resilienz, coaching, adl 1, erkrankungen, verhaltensweise, taglich leben, testverfahren, entspannungstechniken, mediation, patient, fuhrte, landes, therapeutisch, psychologie, gehirn, psychisch\n",
      "Biologie/Chemie                     barrierefreiheit workshop kontaktieren bitte frau, bourdieu, umstellung, hintergrund aktuell, strassburg, 20 00, tutor innen, beruflichen, erfahren studierend, qualifizierung, rhetorische, coaching, beruflich, verona, dissertation, innen, vorstellen gemeinsam, detailliert information, fruh neuzeit, jahrhundert, konkreten ablauf veranstaltung, lehr lernmethoden, schiller, lessing, kommunikation, kanon, mail studip, 1977, ruckmeldung, werkstattseminar, forschend lernen, vi, geschichte, raten, umgangsform\n",
      "Physik                              tatigkeitsfelder, klarer, erfolgsbescheinigung, singen, vorstellungsgesprach, stress, textarbeit, musik, funktionalitat, workshop, alltagssituation, lernen eigen, biologischen, ungefahr, fd, gremien, verortung, coaching, neu deutsch, kuhl, eigen person, radio, entspannt, rollenspiele, 46, ubergreifend, heiligen, ding, team, stress, neu entwicklung, gestik, geschichte, islam, narrativ, klar, projektmanagement, mitarbeiterinnen\n",
      "Kultur-/Geowissenschaften           westfalisch, physischen, tourismus, exkursion, wirtschaftlicher, gis, arbeiten leitfaden studierende geographie bern, physischen geographie, architektur, lebensbedingung, industrielle, flache, bewohner, stadtgeographie, geookologisch, landwirtschaft, geographisch, tourismus, stadt, physischen geographie, klimawandel, humangeographische ubung, stadtgeographie, geographie\n",
      "Erziehungs-/Kulturwissenschaften    bildung, kinder, haupt realschule, interkulturelles lernen, berufsbildenden schulen, urheberrecht, heranwachsend, religionswissenschaft, koran, padagogisch, beruflich bildung, lernwerkstatt, klinkhardt, didaktik methodik, efp, pisa, schuljahr, sozialpadagogisch, schule, prasenzlehre, lernumgebungen, theologie, erwachsenenbildung, entwicklungsaufgabe, ausserschulisch, padagogik, padagogischen, erziehungswissenschaft, kind jugendlich, padagogisch, schule\n",
      "Sozialwissenschaften                entscheidungsfindung, migration, demographisch, sports, demokratie, migrationsforschung, sozial, economics, internationales, politisch system, eu, effektivitat, usa, springer vs, strukturwandel, arbeitgeber, losungsvorschlage, sozial bewegung, staatlicher, berufen, effekt, sozialstruktur, staatlicher, parteien, politik, policy, demokratisch, arbeitsmarkt, wirtschaft, soziologie\n"
     ]
    }
   ],
   "source": [
    "builtins.print('\\n'.join(k.ljust(max(len(i)+1 for i in fullflat.keys()))+'   '+(', '.join(v)) for k, v in fullflat.items()))"
   ]
  },
  {
   "cell_type": "code",
   "execution_count": 57,
   "id": "cee410cd-5d61-4ca6-8088-a564e172f957",
   "metadata": {},
   "outputs": [
    {
     "data": {
      "text/markdown": [
       "<span style=\"font-size:11pt\">Checking if it is a T^0.5 term</span>"
      ],
      "text/plain": [
       "<IPython.core.display.Markdown object>"
      ]
     },
     "metadata": {},
     "output_type": "display_data"
    },
    {
     "data": {
      "text/markdown": [
       "<span style=\"font-size:11pt\">computer ['Mathematik/Informatik']</span>"
      ],
      "text/plain": [
       "<IPython.core.display.Markdown object>"
      ]
     },
     "metadata": {},
     "output_type": "display_data"
    },
    {
     "data": {
      "text/markdown": [
       "<span style=\"font-size:11pt\">recht ['Rechtswissenschaften']</span>"
      ],
      "text/plain": [
       "<IPython.core.display.Markdown object>"
      ]
     },
     "metadata": {},
     "output_type": "display_data"
    },
    {
     "data": {
      "text/markdown": [
       "<span style=\"font-size:11pt\">musik ['Wirtschaftswissenschaften', 'Physik']</span>"
      ],
      "text/plain": [
       "<IPython.core.display.Markdown object>"
      ]
     },
     "metadata": {},
     "output_type": "display_data"
    },
    {
     "data": {
      "text/markdown": [
       "<span style=\"font-size:11pt\">management ['Wirtschaftswissenschaften']</span>"
      ],
      "text/plain": [
       "<IPython.core.display.Markdown object>"
      ]
     },
     "metadata": {},
     "output_type": "display_data"
    },
    {
     "data": {
      "text/markdown": [
       "<span style=\"font-size:11pt\">psychologie ['Humanwissenschaften']</span>"
      ],
      "text/plain": [
       "<IPython.core.display.Markdown object>"
      ]
     },
     "metadata": {},
     "output_type": "display_data"
    },
    {
     "data": {
      "text/markdown": [
       "<span style=\"font-size:11pt\">wirtschaft ['Sozialwissenschaften']</span>"
      ],
      "text/plain": [
       "<IPython.core.display.Markdown object>"
      ]
     },
     "metadata": {},
     "output_type": "display_data"
    },
    {
     "data": {
      "text/markdown": [
       "<span style=\"font-size:11pt\">geographie ['Kultur-/Geowissenschaften']</span>"
      ],
      "text/plain": [
       "<IPython.core.display.Markdown object>"
      ]
     },
     "metadata": {},
     "output_type": "display_data"
    },
    {
     "data": {
      "text/markdown": [
       "<span style=\"font-size:11pt\">schule ['Erziehungs-/Kulturwissenschaften']</span>"
      ],
      "text/plain": [
       "<IPython.core.display.Markdown object>"
      ]
     },
     "metadata": {},
     "output_type": "display_data"
    }
   ],
   "source": [
    "consider = [\"computer\", \"recht\", \"musik\", \"management\", \"literatur\", \"sprache\", \"psychologie\", \"wirtschaft\", \"geographie\", \"schule\", \"kultur\", \"wissenschaft\", \"sport\"]\n",
    "\n",
    "print(\"Checking if it is a T^0.5 term\")\n",
    "for i in consider:\n",
    "    if [k for k, v in fullflat.items() if i in v]:\n",
    "        print(i, [k for k, v in fullflat.items() if i in v])"
   ]
  },
  {
   "cell_type": "code",
   "execution_count": 58,
   "id": "7a2910a5-65c5-4ffd-8db9-cde49684434b",
   "metadata": {},
   "outputs": [
    {
     "data": {
      "text/markdown": [
       "<span style=\"font-size:11pt\">Checking if it is part of a T^0.5 term</span>"
      ],
      "text/plain": [
       "<IPython.core.display.Markdown object>"
      ]
     },
     "metadata": {},
     "output_type": "display_data"
    },
    {
     "name": "stdout",
     "output_type": "stream",
     "text": [
      "Mathematik/Informatik               programmiersprache\n",
      "Wirtschaftswissenschaften           wirtschaftsgeographie\n",
      "Rechtswissenschaften                schuldrecht, strafrecht, deutsch recht, offentliches recht, grundrechte, urheberrecht, steuerrecht, strafrecht, deutsch recht, recht, grundrechte\n",
      "Erziehungs-/Kulturwissenschaften    religionswissenschaft, erziehungswissenschaft\n",
      "Physik                              projektmanagement\n",
      "Sprach-/Literaturwissenschaften     deutsch literaturwissenschaft\n",
      "Humanwissenschaften                 psychologie, psychologie\n",
      "Kultur-/Geowissenschaften           arbeiten leitfaden studierende geographie bern, physischen geographie, stadtgeographie, physischen geographie, stadtgeographie, geographie\n",
      "Sozialwissenschaften                sports\n"
     ]
    }
   ],
   "source": [
    "def lst_to_di(lst):\n",
    "    dict_of_elems = {}\n",
    "    for key, val in lst:\n",
    "        dict_of_elems.setdefault(key, []).append(val)\n",
    "    return dict_of_elems\n",
    "\n",
    "full = {}\n",
    "for i in consider:\n",
    "    lst = [(k, v2) for k, v in fullflat.items() for v2 in v if i in v2]\n",
    "    if lst: full.update(**lst_to_di(lst))\n",
    "\n",
    "print(\"Checking if it is part of a T^0.5 term\")\n",
    "builtins.print('\\n'.join(k.ljust(max(len(i)+1 for i in full.keys()))+'   '+(', '.join(v)) for k, v in full.items()))"
   ]
  },
  {
   "cell_type": "code",
   "execution_count": null,
   "id": "330cc648-e438-49a5-831f-1ed024e14697",
   "metadata": {},
   "outputs": [],
   "source": []
  },
  {
   "cell_type": "markdown",
   "id": "adf8cf50-b822-4c0e-9126-febc77574d9b",
   "metadata": {},
   "source": [
    "# Ok, now for ALL ones\n",
    "\n",
    "(also robustness assessment)"
   ]
  },
  {
   "cell_type": "code",
   "execution_count": 72,
   "id": "c20c20ed-1d82-4c92-8434-647a9c9efe60",
   "metadata": {
    "scrolled": true,
    "tags": []
   },
   "outputs": [
    {
     "data": {
      "text/markdown": [
       "<span style=\"font-size:11pt\">Skipping... (1 clusters)</span>"
      ],
      "text/plain": [
       "<IPython.core.display.Markdown object>"
      ]
     },
     "metadata": {},
     "output_type": "display_data"
    },
    {
     "data": {
      "text/markdown": [
       "<span style=\"font-size:11pt\">Skipping... (1 clusters)</span>"
      ],
      "text/plain": [
       "<IPython.core.display.Markdown object>"
      ]
     },
     "metadata": {},
     "output_type": "display_data"
    },
    {
     "data": {
      "text/markdown": [
       "<span style=\"font-size:11pt\">Skipping... (2 clusters)</span>"
      ],
      "text/plain": [
       "<IPython.core.display.Markdown object>"
      ]
     },
     "metadata": {},
     "output_type": "display_data"
    },
    {
     "data": {
      "text/markdown": [
       "<span style=\"font-size:11pt\">Skipping... (2 clusters)</span>"
      ],
      "text/plain": [
       "<IPython.core.display.Markdown object>"
      ]
     },
     "metadata": {},
     "output_type": "display_data"
    },
    {
     "data": {
      "text/markdown": [
       "<span style=\"font-size:11pt\">Skipping... (1 clusters)</span>"
      ],
      "text/plain": [
       "<IPython.core.display.Markdown object>"
      ]
     },
     "metadata": {},
     "output_type": "display_data"
    },
    {
     "data": {
      "text/markdown": [
       "<span style=\"font-size:11pt\">Skipping... (1 clusters)</span>"
      ],
      "text/plain": [
       "<IPython.core.display.Markdown object>"
      ]
     },
     "metadata": {},
     "output_type": "display_data"
    },
    {
     "data": {
      "text/markdown": [
       "<span style=\"font-size:11pt\">Skipping... (39 clusters)</span>"
      ],
      "text/plain": [
       "<IPython.core.display.Markdown object>"
      ]
     },
     "metadata": {},
     "output_type": "display_data"
    },
    {
     "data": {
      "text/markdown": [
       "<span style=\"font-size:11pt\">Skipping... (39 clusters)</span>"
      ],
      "text/plain": [
       "<IPython.core.display.Markdown object>"
      ]
     },
     "metadata": {},
     "output_type": "display_data"
    },
    {
     "data": {
      "text/markdown": [
       "<span style=\"font-size:11pt\">Skipping... (14 clusters)</span>"
      ],
      "text/plain": [
       "<IPython.core.display.Markdown object>"
      ]
     },
     "metadata": {},
     "output_type": "display_data"
    },
    {
     "data": {
      "text/markdown": [
       "<span style=\"font-size:11pt\">Skipping... (14 clusters)</span>"
      ],
      "text/plain": [
       "<IPython.core.display.Markdown object>"
      ]
     },
     "metadata": {},
     "output_type": "display_data"
    },
    {
     "data": {
      "text/markdown": [
       "<span style=\"font-size:11pt\">Skipping... (98 clusters)</span>"
      ],
      "text/plain": [
       "<IPython.core.display.Markdown object>"
      ]
     },
     "metadata": {},
     "output_type": "display_data"
    },
    {
     "data": {
      "text/markdown": [
       "<span style=\"font-size:11pt\">Skipping... (98 clusters)</span>"
      ],
      "text/plain": [
       "<IPython.core.display.Markdown object>"
      ]
     },
     "metadata": {},
     "output_type": "display_data"
    },
    {
     "data": {
      "text/markdown": [
       "<span style=\"font-size:11pt\">Skipping... (1 clusters)</span>"
      ],
      "text/plain": [
       "<IPython.core.display.Markdown object>"
      ]
     },
     "metadata": {},
     "output_type": "display_data"
    },
    {
     "data": {
      "text/markdown": [
       "<span style=\"font-size:11pt\">Skipping... (1 clusters)</span>"
      ],
      "text/plain": [
       "<IPython.core.display.Markdown object>"
      ]
     },
     "metadata": {},
     "output_type": "display_data"
    },
    {
     "data": {
      "text/markdown": [
       "<span style=\"font-size:11pt\">Skipping... (364 clusters)</span>"
      ],
      "text/plain": [
       "<IPython.core.display.Markdown object>"
      ]
     },
     "metadata": {},
     "output_type": "display_data"
    },
    {
     "data": {
      "text/markdown": [
       "<span style=\"font-size:11pt\">Skipping... (364 clusters)</span>"
      ],
      "text/plain": [
       "<IPython.core.display.Markdown object>"
      ]
     },
     "metadata": {},
     "output_type": "display_data"
    },
    {
     "data": {
      "text/markdown": [
       "<span style=\"font-size:11pt\">Skipping... (50 clusters)</span>"
      ],
      "text/plain": [
       "<IPython.core.display.Markdown object>"
      ]
     },
     "metadata": {},
     "output_type": "display_data"
    },
    {
     "data": {
      "text/markdown": [
       "<span style=\"font-size:11pt\">Skipping... (50 clusters)</span>"
      ],
      "text/plain": [
       "<IPython.core.display.Markdown object>"
      ]
     },
     "metadata": {},
     "output_type": "display_data"
    },
    {
     "data": {
      "text/markdown": [
       "<span style=\"font-size:11pt\">Skipping... (26 clusters)</span>"
      ],
      "text/plain": [
       "<IPython.core.display.Markdown object>"
      ]
     },
     "metadata": {},
     "output_type": "display_data"
    },
    {
     "data": {
      "text/markdown": [
       "<span style=\"font-size:11pt\">Skipping... (26 clusters)</span>"
      ],
      "text/plain": [
       "<IPython.core.display.Markdown object>"
      ]
     },
     "metadata": {},
     "output_type": "display_data"
    },
    {
     "data": {
      "text/markdown": [
       "<span style=\"font-size:11pt\">Skipping... (179 clusters)</span>"
      ],
      "text/plain": [
       "<IPython.core.display.Markdown object>"
      ]
     },
     "metadata": {},
     "output_type": "display_data"
    },
    {
     "data": {
      "text/markdown": [
       "<span style=\"font-size:11pt\">Skipping... (179 clusters)</span>"
      ],
      "text/plain": [
       "<IPython.core.display.Markdown object>"
      ]
     },
     "metadata": {},
     "output_type": "display_data"
    },
    {
     "data": {
      "text/markdown": [
       "<span style=\"font-size:11pt\">Skipping... (171 clusters)</span>"
      ],
      "text/plain": [
       "<IPython.core.display.Markdown object>"
      ]
     },
     "metadata": {},
     "output_type": "display_data"
    },
    {
     "data": {
      "text/markdown": [
       "<span style=\"font-size:11pt\">Skipping... (171 clusters)</span>"
      ],
      "text/plain": [
       "<IPython.core.display.Markdown object>"
      ]
     },
     "metadata": {},
     "output_type": "display_data"
    },
    {
     "data": {
      "text/markdown": [
       "<span style=\"font-size:11pt\">Skipping... (169 clusters)</span>"
      ],
      "text/plain": [
       "<IPython.core.display.Markdown object>"
      ]
     },
     "metadata": {},
     "output_type": "display_data"
    },
    {
     "data": {
      "text/markdown": [
       "<span style=\"font-size:11pt\">Skipping... (169 clusters)</span>"
      ],
      "text/plain": [
       "<IPython.core.display.Markdown object>"
      ]
     },
     "metadata": {},
     "output_type": "display_data"
    },
    {
     "data": {
      "text/markdown": [
       "<span style=\"font-size:11pt\">Skipping... (1 clusters)</span>"
      ],
      "text/plain": [
       "<IPython.core.display.Markdown object>"
      ]
     },
     "metadata": {},
     "output_type": "display_data"
    },
    {
     "data": {
      "text/markdown": [
       "<span style=\"font-size:11pt\">Skipping... (1 clusters)</span>"
      ],
      "text/plain": [
       "<IPython.core.display.Markdown object>"
      ]
     },
     "metadata": {},
     "output_type": "display_data"
    },
    {
     "data": {
      "text/markdown": [
       "<span style=\"font-size:11pt\">Skipping... (1 clusters)</span>"
      ],
      "text/plain": [
       "<IPython.core.display.Markdown object>"
      ]
     },
     "metadata": {},
     "output_type": "display_data"
    },
    {
     "data": {
      "text/markdown": [
       "<span style=\"font-size:11pt\">Skipping... (1 clusters)</span>"
      ],
      "text/plain": [
       "<IPython.core.display.Markdown object>"
      ]
     },
     "metadata": {},
     "output_type": "display_data"
    },
    {
     "data": {
      "text/markdown": [
       "<span style=\"font-size:11pt\">Skipping... (3 clusters)</span>"
      ],
      "text/plain": [
       "<IPython.core.display.Markdown object>"
      ]
     },
     "metadata": {},
     "output_type": "display_data"
    },
    {
     "data": {
      "text/markdown": [
       "<span style=\"font-size:11pt\">Skipping... (3 clusters)</span>"
      ],
      "text/plain": [
       "<IPython.core.display.Markdown object>"
      ]
     },
     "metadata": {},
     "output_type": "display_data"
    },
    {
     "data": {
      "text/markdown": [
       "<span style=\"font-size:11pt\">Skipping... (4 clusters)</span>"
      ],
      "text/plain": [
       "<IPython.core.display.Markdown object>"
      ]
     },
     "metadata": {},
     "output_type": "display_data"
    },
    {
     "data": {
      "text/markdown": [
       "<span style=\"font-size:11pt\">Skipping... (4 clusters)</span>"
      ],
      "text/plain": [
       "<IPython.core.display.Markdown object>"
      ]
     },
     "metadata": {},
     "output_type": "display_data"
    },
    {
     "data": {
      "text/markdown": [
       "<span style=\"font-size:11pt\">Skipping... (239 clusters)</span>"
      ],
      "text/plain": [
       "<IPython.core.display.Markdown object>"
      ]
     },
     "metadata": {},
     "output_type": "display_data"
    },
    {
     "data": {
      "text/markdown": [
       "<span style=\"font-size:11pt\">Skipping... (121 clusters)</span>"
      ],
      "text/plain": [
       "<IPython.core.display.Markdown object>"
      ]
     },
     "metadata": {},
     "output_type": "display_data"
    },
    {
     "data": {
      "text/markdown": [
       "<span style=\"font-size:11pt\">Skipping... (121 clusters)</span>"
      ],
      "text/plain": [
       "<IPython.core.display.Markdown object>"
      ]
     },
     "metadata": {},
     "output_type": "display_data"
    },
    {
     "data": {
      "text/markdown": [
       "<span style=\"font-size:11pt\">Skipping... (1 clusters)</span>"
      ],
      "text/plain": [
       "<IPython.core.display.Markdown object>"
      ]
     },
     "metadata": {},
     "output_type": "display_data"
    },
    {
     "data": {
      "text/markdown": [
       "<span style=\"font-size:11pt\">Skipping... (1 clusters)</span>"
      ],
      "text/plain": [
       "<IPython.core.display.Markdown object>"
      ]
     },
     "metadata": {},
     "output_type": "display_data"
    },
    {
     "data": {
      "text/markdown": [
       "<span style=\"font-size:11pt\">Skipping... (1 clusters)</span>"
      ],
      "text/plain": [
       "<IPython.core.display.Markdown object>"
      ]
     },
     "metadata": {},
     "output_type": "display_data"
    },
    {
     "data": {
      "text/markdown": [
       "<span style=\"font-size:11pt\">Skipping... (2 clusters)</span>"
      ],
      "text/plain": [
       "<IPython.core.display.Markdown object>"
      ]
     },
     "metadata": {},
     "output_type": "display_data"
    },
    {
     "data": {
      "text/markdown": [
       "<span style=\"font-size:11pt\">Skipping... (2 clusters)</span>"
      ],
      "text/plain": [
       "<IPython.core.display.Markdown object>"
      ]
     },
     "metadata": {},
     "output_type": "display_data"
    },
    {
     "data": {
      "text/markdown": [
       "<span style=\"font-size:11pt\">Skipping... (25 clusters)</span>"
      ],
      "text/plain": [
       "<IPython.core.display.Markdown object>"
      ]
     },
     "metadata": {},
     "output_type": "display_data"
    },
    {
     "data": {
      "text/markdown": [
       "<span style=\"font-size:11pt\">Skipping... (25 clusters)</span>"
      ],
      "text/plain": [
       "<IPython.core.display.Markdown object>"
      ]
     },
     "metadata": {},
     "output_type": "display_data"
    },
    {
     "data": {
      "text/markdown": [
       "<span style=\"font-size:11pt\">Skipping... (47 clusters)</span>"
      ],
      "text/plain": [
       "<IPython.core.display.Markdown object>"
      ]
     },
     "metadata": {},
     "output_type": "display_data"
    },
    {
     "data": {
      "text/markdown": [
       "<span style=\"font-size:11pt\">Skipping... (47 clusters)</span>"
      ],
      "text/plain": [
       "<IPython.core.display.Markdown object>"
      ]
     },
     "metadata": {},
     "output_type": "display_data"
    },
    {
     "data": {
      "text/markdown": [
       "<span style=\"font-size:11pt\">Skipping... (1 clusters)</span>"
      ],
      "text/plain": [
       "<IPython.core.display.Markdown object>"
      ]
     },
     "metadata": {},
     "output_type": "display_data"
    },
    {
     "data": {
      "text/markdown": [
       "<span style=\"font-size:11pt\">Skipping... (1 clusters)</span>"
      ],
      "text/plain": [
       "<IPython.core.display.Markdown object>"
      ]
     },
     "metadata": {},
     "output_type": "display_data"
    },
    {
     "data": {
      "text/markdown": [
       "<span style=\"font-size:11pt\">Skipping... (313 clusters)</span>"
      ],
      "text/plain": [
       "<IPython.core.display.Markdown object>"
      ]
     },
     "metadata": {},
     "output_type": "display_data"
    },
    {
     "data": {
      "text/markdown": [
       "<span style=\"font-size:11pt\">Skipping... (313 clusters)</span>"
      ],
      "text/plain": [
       "<IPython.core.display.Markdown object>"
      ]
     },
     "metadata": {},
     "output_type": "display_data"
    },
    {
     "data": {
      "text/markdown": [
       "<span style=\"font-size:11pt\">Skipping... (46 clusters)</span>"
      ],
      "text/plain": [
       "<IPython.core.display.Markdown object>"
      ]
     },
     "metadata": {},
     "output_type": "display_data"
    },
    {
     "data": {
      "text/markdown": [
       "<span style=\"font-size:11pt\">Skipping... (46 clusters)</span>"
      ],
      "text/plain": [
       "<IPython.core.display.Markdown object>"
      ]
     },
     "metadata": {},
     "output_type": "display_data"
    },
    {
     "data": {
      "text/markdown": [
       "<span style=\"font-size:11pt\">Skipping... (74 clusters)</span>"
      ],
      "text/plain": [
       "<IPython.core.display.Markdown object>"
      ]
     },
     "metadata": {},
     "output_type": "display_data"
    },
    {
     "data": {
      "text/markdown": [
       "<span style=\"font-size:11pt\">Skipping... (74 clusters)</span>"
      ],
      "text/plain": [
       "<IPython.core.display.Markdown object>"
      ]
     },
     "metadata": {},
     "output_type": "display_data"
    },
    {
     "data": {
      "text/markdown": [
       "<span style=\"font-size:11pt\">Skipping... (264 clusters)</span>"
      ],
      "text/plain": [
       "<IPython.core.display.Markdown object>"
      ]
     },
     "metadata": {},
     "output_type": "display_data"
    },
    {
     "data": {
      "text/markdown": [
       "<span style=\"font-size:11pt\">Skipping... (264 clusters)</span>"
      ],
      "text/plain": [
       "<IPython.core.display.Markdown object>"
      ]
     },
     "metadata": {},
     "output_type": "display_data"
    },
    {
     "data": {
      "text/markdown": [
       "<span style=\"font-size:11pt\">Skipping... (179 clusters)</span>"
      ],
      "text/plain": [
       "<IPython.core.display.Markdown object>"
      ]
     },
     "metadata": {},
     "output_type": "display_data"
    },
    {
     "data": {
      "text/markdown": [
       "<span style=\"font-size:11pt\">Skipping... (179 clusters)</span>"
      ],
      "text/plain": [
       "<IPython.core.display.Markdown object>"
      ]
     },
     "metadata": {},
     "output_type": "display_data"
    },
    {
     "data": {
      "text/markdown": [
       "<span style=\"font-size:11pt\">Skipping... (236 clusters)</span>"
      ],
      "text/plain": [
       "<IPython.core.display.Markdown object>"
      ]
     },
     "metadata": {},
     "output_type": "display_data"
    },
    {
     "data": {
      "text/markdown": [
       "<span style=\"font-size:11pt\">Skipping... (236 clusters)</span>"
      ],
      "text/plain": [
       "<IPython.core.display.Markdown object>"
      ]
     },
     "metadata": {},
     "output_type": "display_data"
    },
    {
     "data": {
      "text/markdown": [
       "<span style=\"font-size:11pt\">Skipping... (2 clusters)</span>"
      ],
      "text/plain": [
       "<IPython.core.display.Markdown object>"
      ]
     },
     "metadata": {},
     "output_type": "display_data"
    },
    {
     "data": {
      "text/markdown": [
       "<span style=\"font-size:11pt\">Skipping... (2 clusters)</span>"
      ],
      "text/plain": [
       "<IPython.core.display.Markdown object>"
      ]
     },
     "metadata": {},
     "output_type": "display_data"
    },
    {
     "data": {
      "text/markdown": [
       "<span style=\"font-size:11pt\">Skipping... (1 clusters)</span>"
      ],
      "text/plain": [
       "<IPython.core.display.Markdown object>"
      ]
     },
     "metadata": {},
     "output_type": "display_data"
    },
    {
     "data": {
      "text/markdown": [
       "<span style=\"font-size:11pt\">Skipping... (1 clusters)</span>"
      ],
      "text/plain": [
       "<IPython.core.display.Markdown object>"
      ]
     },
     "metadata": {},
     "output_type": "display_data"
    },
    {
     "data": {
      "text/markdown": [
       "<span style=\"font-size:11pt\">Skipping... (3 clusters)</span>"
      ],
      "text/plain": [
       "<IPython.core.display.Markdown object>"
      ]
     },
     "metadata": {},
     "output_type": "display_data"
    },
    {
     "data": {
      "text/markdown": [
       "<span style=\"font-size:11pt\">Skipping... (3 clusters)</span>"
      ],
      "text/plain": [
       "<IPython.core.display.Markdown object>"
      ]
     },
     "metadata": {},
     "output_type": "display_data"
    },
    {
     "data": {
      "text/markdown": [
       "<span style=\"font-size:11pt\">Skipping... (3 clusters)</span>"
      ],
      "text/plain": [
       "<IPython.core.display.Markdown object>"
      ]
     },
     "metadata": {},
     "output_type": "display_data"
    },
    {
     "data": {
      "text/markdown": [
       "<span style=\"font-size:11pt\">Skipping... (3 clusters)</span>"
      ],
      "text/plain": [
       "<IPython.core.display.Markdown object>"
      ]
     },
     "metadata": {},
     "output_type": "display_data"
    },
    {
     "data": {
      "text/markdown": [
       "<span style=\"font-size:11pt\">Skipping... (245 clusters)</span>"
      ],
      "text/plain": [
       "<IPython.core.display.Markdown object>"
      ]
     },
     "metadata": {},
     "output_type": "display_data"
    },
    {
     "data": {
      "text/markdown": [
       "<span style=\"font-size:11pt\">Skipping... (245 clusters)</span>"
      ],
      "text/plain": [
       "<IPython.core.display.Markdown object>"
      ]
     },
     "metadata": {},
     "output_type": "display_data"
    },
    {
     "data": {
      "text/markdown": [
       "<span style=\"font-size:11pt\">Skipping... (157 clusters)</span>"
      ],
      "text/plain": [
       "<IPython.core.display.Markdown object>"
      ]
     },
     "metadata": {},
     "output_type": "display_data"
    },
    {
     "data": {
      "text/markdown": [
       "<span style=\"font-size:11pt\">Skipping... (157 clusters)</span>"
      ],
      "text/plain": [
       "<IPython.core.display.Markdown object>"
      ]
     },
     "metadata": {},
     "output_type": "display_data"
    }
   ],
   "source": [
    "all_centers, all_elems = {int(j): [] for j in print_cnf[\"embed_dimensions\"]}, {int(j): [] for j in print_cnf[\"embed_dimensions\"]}\n",
    "nworked = 0\n",
    "for conf in configs: #[i for i in configs if i[\"embed_dimensions\"] == NDIM][16:]: #first 10 have <10\n",
    "    ctx = SnakeContext.loader_context(config={**conf, \"debug\": False}, silent=True)\n",
    "    clusters = ctx.load(\"clusters\", loaders=dict(clusters=cluster_loader))\n",
    "    if len(clusters[\"clusters\"]) < conf[\"embed_dimensions\"]*2:\n",
    "        print(f'Skipping... ({len(clusters[\"clusters\"])} clusters)')\n",
    "        continue\n",
    "    all_centers[conf[\"embed_dimensions\"]].append(set(clusters[\"clusters\"].keys()))\n",
    "    all_elems[conf[\"embed_dimensions\"]].append(set(flatten(clusters[\"clusters\"].values())))"
   ]
  },
  {
   "cell_type": "code",
   "execution_count": 76,
   "id": "6181f07e-77b0-4cdf-90b5-537770ba7583",
   "metadata": {},
   "outputs": [],
   "source": [
    "all_centers = {k2: v2 for k2, v2 in all_centers.items() if k2 != 3}"
   ]
  },
  {
   "cell_type": "code",
   "execution_count": 90,
   "id": "95f681d0-c322-46c6-890d-878bb86d1bc4",
   "metadata": {},
   "outputs": [
    {
     "data": {
      "text/markdown": [
       "<span style=\"font-size:11pt\">38 3800 1003</span>"
      ],
      "text/plain": [
       "<IPython.core.display.Markdown object>"
      ]
     },
     "metadata": {},
     "output_type": "display_data"
    },
    {
     "data": {
      "text/markdown": [
       "<span style=\"font-size:11pt\">15 6000 1707</span>"
      ],
      "text/plain": [
       "<IPython.core.display.Markdown object>"
      ]
     },
     "metadata": {},
     "output_type": "display_data"
    }
   ],
   "source": [
    "print(len(all_centers[50]), len(flatten(all_centers[50])), len(set(flatten(all_centers[50]))))\n",
    "print(len(all_centers[200]), len(flatten(all_centers[200])), len(set(flatten(all_centers[200]))))"
   ]
  },
  {
   "cell_type": "code",
   "execution_count": 130,
   "id": "722e27d6-4a68-4f73-8668-b42f9160c55c",
   "metadata": {},
   "outputs": [],
   "source": [
    "from derive_conceptualspace.util.result_analysis_tools import df_to_latex"
   ]
  },
  {
   "cell_type": "code",
   "execution_count": 129,
   "id": "e905ae77-cecf-4767-8ddd-4d5eec92a1bc",
   "metadata": {},
   "outputs": [
    {
     "data": {
      "text/html": [
       "<div>\n",
       "<style scoped>\n",
       "    .dataframe tbody tr th:only-of-type {\n",
       "        vertical-align: middle;\n",
       "    }\n",
       "\n",
       "    .dataframe tbody tr th {\n",
       "        vertical-align: top;\n",
       "    }\n",
       "\n",
       "    .dataframe thead tr th {\n",
       "        text-align: left;\n",
       "    }\n",
       "</style>\n",
       "<table border=\"1\" class=\"dataframe\">\n",
       "  <thead>\n",
       "    <tr>\n",
       "      <th>NDim</th>\n",
       "      <th colspan=\"2\" halign=\"left\">50</th>\n",
       "      <th colspan=\"2\" halign=\"left\">200</th>\n",
       "    </tr>\n",
       "    <tr>\n",
       "      <th>T</th>\n",
       "      <th>0.1</th>\n",
       "      <th>0.5</th>\n",
       "      <th>0.1</th>\n",
       "      <th>0.5</th>\n",
       "    </tr>\n",
       "  </thead>\n",
       "  <tbody>\n",
       "    <tr>\n",
       "      <th>computer</th>\n",
       "      <td>24</td>\n",
       "      <td>0</td>\n",
       "      <td>4</td>\n",
       "      <td>11</td>\n",
       "    </tr>\n",
       "    <tr>\n",
       "      <th>recht</th>\n",
       "      <td>27</td>\n",
       "      <td>0</td>\n",
       "      <td>11</td>\n",
       "      <td>4</td>\n",
       "    </tr>\n",
       "    <tr>\n",
       "      <th>musik</th>\n",
       "      <td>17</td>\n",
       "      <td>12</td>\n",
       "      <td>7</td>\n",
       "      <td>8</td>\n",
       "    </tr>\n",
       "    <tr>\n",
       "      <th>management</th>\n",
       "      <td>25</td>\n",
       "      <td>0</td>\n",
       "      <td>9</td>\n",
       "      <td>6</td>\n",
       "    </tr>\n",
       "    <tr>\n",
       "      <th>literatur</th>\n",
       "      <td>0</td>\n",
       "      <td>0</td>\n",
       "      <td>0</td>\n",
       "      <td>0</td>\n",
       "    </tr>\n",
       "    <tr>\n",
       "      <th>sprache</th>\n",
       "      <td>22</td>\n",
       "      <td>0</td>\n",
       "      <td>9</td>\n",
       "      <td>6</td>\n",
       "    </tr>\n",
       "    <tr>\n",
       "      <th>psychologie</th>\n",
       "      <td>23</td>\n",
       "      <td>2</td>\n",
       "      <td>3</td>\n",
       "      <td>12</td>\n",
       "    </tr>\n",
       "    <tr>\n",
       "      <th>wirtschaft</th>\n",
       "      <td>25</td>\n",
       "      <td>0</td>\n",
       "      <td>13</td>\n",
       "      <td>2</td>\n",
       "    </tr>\n",
       "    <tr>\n",
       "      <th>geographie</th>\n",
       "      <td>28</td>\n",
       "      <td>0</td>\n",
       "      <td>10</td>\n",
       "      <td>3</td>\n",
       "    </tr>\n",
       "    <tr>\n",
       "      <th>schule</th>\n",
       "      <td>17</td>\n",
       "      <td>8</td>\n",
       "      <td>7</td>\n",
       "      <td>6</td>\n",
       "    </tr>\n",
       "    <tr>\n",
       "      <th>kultur</th>\n",
       "      <td>22</td>\n",
       "      <td>0</td>\n",
       "      <td>5</td>\n",
       "      <td>8</td>\n",
       "    </tr>\n",
       "    <tr>\n",
       "      <th>wissenschaft</th>\n",
       "      <td>17</td>\n",
       "      <td>0</td>\n",
       "      <td>14</td>\n",
       "      <td>0</td>\n",
       "    </tr>\n",
       "    <tr>\n",
       "      <th>sport</th>\n",
       "      <td>10</td>\n",
       "      <td>12</td>\n",
       "      <td>4</td>\n",
       "      <td>11</td>\n",
       "    </tr>\n",
       "    <tr>\n",
       "      <th>N</th>\n",
       "      <td>38</td>\n",
       "      <td>38</td>\n",
       "      <td>15</td>\n",
       "      <td>15</td>\n",
       "    </tr>\n",
       "  </tbody>\n",
       "</table>\n",
       "</div>"
      ],
      "text/plain": [
       "NDim         50      200    \n",
       "T            0.1 0.5 0.1 0.5\n",
       "computer      24   0   4  11\n",
       "recht         27   0  11   4\n",
       "musik         17  12   7   8\n",
       "management    25   0   9   6\n",
       "literatur      0   0   0   0\n",
       "sprache       22   0   9   6\n",
       "psychologie   23   2   3  12\n",
       "wirtschaft    25   0  13   2\n",
       "geographie    28   0  10   3\n",
       "schule        17   8   7   6\n",
       "kultur        22   0   5   8\n",
       "wissenschaft  17   0  14   0\n",
       "sport         10  12   4  11\n",
       "N             38  38  15  15"
      ]
     },
     "execution_count": 129,
     "metadata": {},
     "output_type": "execute_result"
    }
   ],
   "source": [
    "import pandas as pd\n",
    "df = pd.DataFrame(index=consider, columns=pd.MultiIndex.from_tuples([(i,j) for i in all_centers.keys() for j in (\"0.1\", \"0.5\")], names=(\"NDim\", \"T\")))\n",
    "for what, whatname in [(all_centers, \"0.5\"), (all_elems, \"0.1\")]:\n",
    "    for ndim in all_centers.keys():\n",
    "        df.loc[\"N\", (ndim, whatname)] = len(what[ndim])\n",
    "        for i in consider:\n",
    "            df.loc[i, (ndim, whatname)] = sum(1 for j in what[ndim] if i in j)\n",
    "df"
   ]
  },
  {
   "cell_type": "code",
   "execution_count": null,
   "id": "5c2a33ef-e14c-45a5-a5a9-973de1d41509",
   "metadata": {},
   "outputs": [],
   "source": [
    "builtins.print(df_to_latex(df, lambda x:x.style))"
   ]
  },
  {
   "cell_type": "code",
   "execution_count": null,
   "id": "45f7ba89-7366-4dfe-8654-55c383b1e430",
   "metadata": {},
   "outputs": [],
   "source": []
  }
 ],
 "metadata": {
  "kernelspec": {
   "display_name": "Python 3 (ipykernel)",
   "language": "python",
   "name": "python3"
  },
  "language_info": {
   "codemirror_mode": {
    "name": "ipython",
    "version": 3
   },
   "file_extension": ".py",
   "mimetype": "text/x-python",
   "name": "python",
   "nbconvert_exporter": "python",
   "pygments_lexer": "ipython3",
   "version": "3.10.0"
  },
  "widgets": {
   "application/vnd.jupyter.widget-state+json": {
    "state": {},
    "version_major": 2,
    "version_minor": 0
   }
  }
 },
 "nbformat": 4,
 "nbformat_minor": 5
}
