{
 "cells": [
  {
   "cell_type": "code",
   "execution_count": 1,
   "id": "49c4bcd7-3c78-4eee-87f7-e43f8decd338",
   "metadata": {},
   "outputs": [
    {
     "name": "stderr",
     "output_type": "stream",
     "text": [
      "2022-03-31 10:54:51.859491: W tensorflow/stream_executor/platform/default/dso_loader.cc:64] Could not load dynamic library 'libcudart.so.11.0'; dlerror: libcudart.so.11.0: cannot open shared object file: No such file or directory; LD_LIBRARY_PATH: /home/chris/Documents/JOBS/Uhrig-Gesture-Recog/skelshop_deps/openpose_cpu/build/src/openpose/\n",
      "2022-03-31 10:54:51.859533: I tensorflow/stream_executor/cuda/cudart_stub.cc:29] Ignore above cudart dlerror if you do not have a GPU set up on your machine.\n"
     ]
    }
   ],
   "source": [
    "from derive_conceptualspace.evaluate.shallow_trees import classify_shallowtree\n",
    "from derive_conceptualspace.pipeline import SnakeContext, load_envfiles\n",
    "from derive_conceptualspace.util.result_analysis_tools import get_best_conf\n",
    "from derive_conceptualspace.cli.args_from_filename import get_filename, print_envvars\n",
    "from misc_util.logutils import setup_logging\n",
    "\n",
    "import warnings\n",
    "warnings.simplefilter(action='ignore', category=FutureWarning)"
   ]
  },
  {
   "cell_type": "code",
   "execution_count": 2,
   "id": "c084b8a0-a457-4164-9af6-93cc95e27841",
   "metadata": {},
   "outputs": [
    {
     "data": {
      "text/markdown": [
       "<span style=\"font-size:11pt\">There are 66 different parameter-combis for dataset <span style=\"color: #0000ff\">siddata2022</span>:</span>"
      ],
      "text/plain": [
       "<IPython.core.display.Markdown object>"
      ]
     },
     "metadata": {},
     "output_type": "display_data"
    },
    {
     "data": {
      "text/plain": [
       "{'dataset': 'siddata2022',\n",
       " 'language': 'de',\n",
       " 'debug': 'False',\n",
       " 'pp_components': ['mfauhcsd2', 'mfauhtcsldp'],\n",
       " 'translate_policy': 'onlyorig',\n",
       " 'min_words_per_desc': '80',\n",
       " 'quantification_measure': ['ppmi', 'tfidf'],\n",
       " 'embed_algo': 'mds',\n",
       " 'embed_dimensions': ['3', '50', '200'],\n",
       " 'extraction_method': 'tfidf',\n",
       " 'dcm_quant_measure': ['count', 'ppmi', 'tfidf'],\n",
       " 'kappa_weights': 'quadratic',\n",
       " 'classifier_succmetric': ['kappa_count2rank_onlypos',\n",
       "  'kappa_digitized_onlypos_2',\n",
       "  'kappa_rank2rank_onlypos_min'],\n",
       " 'prim_lambda': '0.5',\n",
       " 'sec_lambda': '0.2',\n",
       " 'cluster_direction_algo': 'reclassify'}"
      ]
     },
     "metadata": {},
     "output_type": "display_data"
    },
    {
     "name": "stderr",
     "output_type": "stream",
     "text": [
      "Getting Best-Performing Config [5 procs]: 100%|██████████| 66/66 [09:49<00:00,  8.93s/it]\n"
     ]
    },
    {
     "data": {
      "text/html": [
       "<div>\n",
       "<style scoped>\n",
       "    .dataframe tbody tr th:only-of-type {\n",
       "        vertical-align: middle;\n",
       "    }\n",
       "\n",
       "    .dataframe tbody tr th {\n",
       "        vertical-align: top;\n",
       "    }\n",
       "\n",
       "    .dataframe thead tr th {\n",
       "        text-align: left;\n",
       "    }\n",
       "</style>\n",
       "<table border=\"1\" class=\"dataframe\">\n",
       "  <thead>\n",
       "    <tr>\n",
       "      <th></th>\n",
       "      <th></th>\n",
       "      <th colspan=\"11\" halign=\"left\">Accuracy</th>\n",
       "    </tr>\n",
       "    <tr>\n",
       "      <th></th>\n",
       "      <th></th>\n",
       "      <th colspan=\"5\" halign=\"left\">mfauhcsd2</th>\n",
       "      <th colspan=\"6\" halign=\"left\">mfauhtcsldp</th>\n",
       "    </tr>\n",
       "    <tr>\n",
       "      <th></th>\n",
       "      <th></th>\n",
       "      <th colspan=\"3\" halign=\"left\">ppmi</th>\n",
       "      <th colspan=\"2\" halign=\"left\">tfidf</th>\n",
       "      <th colspan=\"3\" halign=\"left\">ppmi</th>\n",
       "      <th colspan=\"3\" halign=\"left\">tfidf</th>\n",
       "    </tr>\n",
       "    <tr>\n",
       "      <th></th>\n",
       "      <th></th>\n",
       "      <th>3</th>\n",
       "      <th>50</th>\n",
       "      <th>200</th>\n",
       "      <th>50</th>\n",
       "      <th>200</th>\n",
       "      <th>3</th>\n",
       "      <th>50</th>\n",
       "      <th>200</th>\n",
       "      <th>3</th>\n",
       "      <th>50</th>\n",
       "      <th>200</th>\n",
       "    </tr>\n",
       "  </thead>\n",
       "  <tbody>\n",
       "    <tr>\n",
       "      <th rowspan=\"3\" valign=\"top\">count</th>\n",
       "      <th>kappa_count2rank_onlypos</th>\n",
       "      <td>NaN</td>\n",
       "      <td>0.462957</td>\n",
       "      <td>0.417054</td>\n",
       "      <td>0.376695</td>\n",
       "      <td>0.421024</td>\n",
       "      <td>0.491084</td>\n",
       "      <td>0.453825</td>\n",
       "      <td>0.403624</td>\n",
       "      <td>0.603619</td>\n",
       "      <td>0.548542</td>\n",
       "      <td>0.564588</td>\n",
       "    </tr>\n",
       "    <tr>\n",
       "      <th>kappa_digitized_onlypos_2</th>\n",
       "      <td>NaN</td>\n",
       "      <td>0.734894</td>\n",
       "      <td>0.767475</td>\n",
       "      <td>0.738796</td>\n",
       "      <td>0.818351</td>\n",
       "      <td>0.562041</td>\n",
       "      <td>0.728810</td>\n",
       "      <td>0.782316</td>\n",
       "      <td>0.442805</td>\n",
       "      <td>0.755227</td>\n",
       "      <td>0.796113</td>\n",
       "    </tr>\n",
       "    <tr>\n",
       "      <th>kappa_rank2rank_onlypos_min</th>\n",
       "      <td>NaN</td>\n",
       "      <td>0.753587</td>\n",
       "      <td>0.739182</td>\n",
       "      <td>0.756628</td>\n",
       "      <td>0.789484</td>\n",
       "      <td>0.666624</td>\n",
       "      <td>0.727799</td>\n",
       "      <td>0.704429</td>\n",
       "      <td>0.603641</td>\n",
       "      <td>0.788161</td>\n",
       "      <td>0.799296</td>\n",
       "    </tr>\n",
       "    <tr>\n",
       "      <th rowspan=\"2\" valign=\"top\">ppmi</th>\n",
       "      <th>kappa_digitized_onlypos_2</th>\n",
       "      <td>0.652006</td>\n",
       "      <td>0.597405</td>\n",
       "      <td>0.656427</td>\n",
       "      <td>0.807523</td>\n",
       "      <td>NaN</td>\n",
       "      <td>NaN</td>\n",
       "      <td>NaN</td>\n",
       "      <td>0.684282</td>\n",
       "      <td>0.625372</td>\n",
       "      <td>0.786189</td>\n",
       "      <td>0.799663</td>\n",
       "    </tr>\n",
       "    <tr>\n",
       "      <th>kappa_rank2rank_onlypos_min</th>\n",
       "      <td>0.640206</td>\n",
       "      <td>0.783320</td>\n",
       "      <td>0.766859</td>\n",
       "      <td>0.797042</td>\n",
       "      <td>NaN</td>\n",
       "      <td>NaN</td>\n",
       "      <td>NaN</td>\n",
       "      <td>0.807956</td>\n",
       "      <td>0.650738</td>\n",
       "      <td>0.787100</td>\n",
       "      <td>0.816508</td>\n",
       "    </tr>\n",
       "    <tr>\n",
       "      <th rowspan=\"2\" valign=\"top\">tfidf</th>\n",
       "      <th>kappa_digitized_onlypos_2</th>\n",
       "      <td>0.575377</td>\n",
       "      <td>0.751184</td>\n",
       "      <td>0.783374</td>\n",
       "      <td>0.775644</td>\n",
       "      <td>0.797300</td>\n",
       "      <td>0.640158</td>\n",
       "      <td>0.764662</td>\n",
       "      <td>0.773541</td>\n",
       "      <td>0.622750</td>\n",
       "      <td>0.775139</td>\n",
       "      <td>NaN</td>\n",
       "    </tr>\n",
       "    <tr>\n",
       "      <th>kappa_rank2rank_onlypos_min</th>\n",
       "      <td>0.642253</td>\n",
       "      <td>0.741706</td>\n",
       "      <td>0.727299</td>\n",
       "      <td>0.756939</td>\n",
       "      <td>0.760250</td>\n",
       "      <td>0.632063</td>\n",
       "      <td>0.783255</td>\n",
       "      <td>0.763461</td>\n",
       "      <td>0.616398</td>\n",
       "      <td>0.771245</td>\n",
       "      <td>NaN</td>\n",
       "    </tr>\n",
       "  </tbody>\n",
       "</table>\n",
       "</div>"
      ],
      "text/plain": [
       "                                   Accuracy                                \\\n",
       "                                  mfauhcsd2                                 \n",
       "                                       ppmi                         tfidf   \n",
       "                                        3         50        200       50    \n",
       "count kappa_count2rank_onlypos          NaN  0.462957  0.417054  0.376695   \n",
       "      kappa_digitized_onlypos_2         NaN  0.734894  0.767475  0.738796   \n",
       "      kappa_rank2rank_onlypos_min       NaN  0.753587  0.739182  0.756628   \n",
       "ppmi  kappa_digitized_onlypos_2    0.652006  0.597405  0.656427  0.807523   \n",
       "      kappa_rank2rank_onlypos_min  0.640206  0.783320  0.766859  0.797042   \n",
       "tfidf kappa_digitized_onlypos_2    0.575377  0.751184  0.783374  0.775644   \n",
       "      kappa_rank2rank_onlypos_min  0.642253  0.741706  0.727299  0.756939   \n",
       "\n",
       "                                                                             \\\n",
       "                                            mfauhtcsldp                       \n",
       "                                                   ppmi                       \n",
       "                                        200         3         50        200   \n",
       "count kappa_count2rank_onlypos     0.421024    0.491084  0.453825  0.403624   \n",
       "      kappa_digitized_onlypos_2    0.818351    0.562041  0.728810  0.782316   \n",
       "      kappa_rank2rank_onlypos_min  0.789484    0.666624  0.727799  0.704429   \n",
       "ppmi  kappa_digitized_onlypos_2         NaN         NaN       NaN  0.684282   \n",
       "      kappa_rank2rank_onlypos_min       NaN         NaN       NaN  0.807956   \n",
       "tfidf kappa_digitized_onlypos_2    0.797300    0.640158  0.764662  0.773541   \n",
       "      kappa_rank2rank_onlypos_min  0.760250    0.632063  0.783255  0.763461   \n",
       "\n",
       "                                                                 \n",
       "                                                                 \n",
       "                                      tfidf                      \n",
       "                                        3         50        200  \n",
       "count kappa_count2rank_onlypos     0.603619  0.548542  0.564588  \n",
       "      kappa_digitized_onlypos_2    0.442805  0.755227  0.796113  \n",
       "      kappa_rank2rank_onlypos_min  0.603641  0.788161  0.799296  \n",
       "ppmi  kappa_digitized_onlypos_2    0.625372  0.786189  0.799663  \n",
       "      kappa_rank2rank_onlypos_min  0.650738  0.787100  0.816508  \n",
       "tfidf kappa_digitized_onlypos_2    0.622750  0.775139       NaN  \n",
       "      kappa_rank2rank_onlypos_min  0.616398  0.771245       NaN  "
      ]
     },
     "metadata": {},
     "output_type": "display_data"
    },
    {
     "name": "stdout",
     "output_type": "stream",
     "text": [
      "Best Accuracy: 81.84%\n"
     ]
    }
   ],
   "source": [
    "setup_logging()\n",
    "load_envfiles(\"siddata\")\n",
    "conf, perf = get_best_conf(\"fachbereich\", verbose=True, balance_classes=True, one_vs_rest=True, dt_depth=1, test_percentage_crossval=0.33)"
   ]
  },
  {
   "cell_type": "code",
   "execution_count": 3,
   "id": "f476fcf3-e378-4458-b417-8810ffcfa43f",
   "metadata": {},
   "outputs": [
    {
     "name": "stdout",
     "output_type": "stream",
     "text": [
      "MA_DATASET=siddata2022;MA_LANGUAGE=de;MA_DEBUG=False;MA_PP_COMPONENTS=mfauhcsd2;MA_TRANSLATE_POLICY=onlyorig;MA_MIN_WORDS_PER_DESC=80;MA_QUANTIFICATION_MEASURE=tfidf;MA_EMBED_ALGO=mds;MA_EMBED_DIMENSIONS=200;MA_EXTRACTION_METHOD=tfidf;MA_DCM_QUANT_MEASURE=count;MA_KAPPA_WEIGHTS=quadratic;MA_CLASSIFIER_SUCCMETRIC=kappa_digitized_onlypos_2;MA_PRIM_LAMBDA=0.5;MA_SEC_LAMBDA=0.2;MA_CLUSTER_DIRECTION_ALGO=reclassify\n",
      "cluster_reprs\n"
     ]
    }
   ],
   "source": [
    "print_envvars(get_filename(conf, get_dependencies=False, doprint=False))"
   ]
  },
  {
   "cell_type": "code",
   "execution_count": 4,
   "id": "741276b1-44a9-454a-a299-ea562840ddd1",
   "metadata": {},
   "outputs": [
    {
     "data": {
      "text/markdown": [
       "<span style=\"font-size:11pt\">Running with the following settings [<span style=\"color: #ff00ff\">4a341d441d</span>]: CLASSIFIER: <span style=\"color: #0000ff\">SVM</span>, CLASSIFIER_SUCCMETRIC: <span style=\"color: #ff0000\">kappa_digitized_onlypos_2</span>, CLUSTER_DIRECTION_ALGO: <span style=\"color: #0000ff\">reclassify</span>, DATASET: <span style=\"color: #ff0000\">siddata2022</span>, DCM_QUANT_MEASURE: <span style=\"color: #0000ff\">count</span>, DEBUG: <span style=\"color: #0000ff\">False</span>, EMBED_ALGO: <span style=\"color: #0000ff\">mds</span>, EMBED_DIMENSIONS: <span style=\"color: #ff0000\">200</span>, EXTRACTION_METHOD: <span style=\"color: #ff0000\">tfidf</span>, KAPPA_WEIGHTS: <span style=\"color: #0000ff\">quadratic</span>, LANGUAGE: <span style=\"color: #0000ff\">de</span>, MIN_WORDS_PER_DESC: <span style=\"color: #ff0000\">80</span>, PP_COMPONENTS: <span style=\"color: #ff0000\">mfauhcsd2</span>, PRIM_LAMBDA: <span style=\"color: #0000ff\">0.5</span>, QUANTIFICATION_MEASURE: <span style=\"color: #ff0000\">tfidf</span>, RANDOM_SEED: <span style=\"color: #ff0000\">None</span>, SEC_LAMBDA: <span style=\"color: #ff0000\">0.2</span>, TRANSLATE_POLICY: <span style=\"color: #0000ff\">onlyorig</span></span>"
      ],
      "text/plain": [
       "<IPython.core.display.Markdown object>"
      ]
     },
     "metadata": {},
     "output_type": "display_data"
    }
   ],
   "source": [
    "ctx = SnakeContext.loader_context(config=conf, silent=True, warn_filters=[\"DifferentFileWarning\"])\n",
    "ctx.print_important_settings()\n",
    "cluster_reprs, clusters, embedding, descriptions = ctx.load(\"cluster_reprs\", \"clusters\", \"embedding\", \"pp_descriptions\")"
   ]
  },
  {
   "cell_type": "code",
   "execution_count": 7,
   "id": "bfeaa9c5-34e6-4b26-9019-21f3fe14411a",
   "metadata": {
    "scrolled": true,
    "tags": []
   },
   "outputs": [
    {
     "name": "stdout",
     "output_type": "stream",
     "text": [
      "Detected Semantic Directions: bibliotheken, verdeutlichen, opnv, schriftliche mundliche, blockveranstaltungen, schwierige, erde, bertolt brecht, religionswissenschaft, vi, erkrankungen, gesammelt, mitarbeiterinnen, bietet uberblick, lineare, verhaltens, weist, parteien, aktivitaten, texte verfassen, kleidung, kreuz, gabriel, assessment, politischen gesellschaftlichen, berufstypischen, offentliches, masterstudium, erschlie szlig, herstellung, unterrichtspraxis, abstrakt, aristoteles, zusammenfassung, mythologie, arbeitsaufgabe, selbstrecherche, flexibilitat, stufe, wald, office, stattgefunden, rollenspiele, aktive beteiligung, dokumenten, unsicherheit, wirtschaftlicher, obligatorische, gleichnamigen, mussten, projektseminar, menschenrechte, eschenbach, tod, schuldrecht, typischer, prasenzveranstaltung, pragmatik, pisa, vorlage, innovative, anrechenbar, radio, messen, ca seiten, methoden empirischen, dtv, tanz, teilnehmen mochten, shy, eigentums, sowie aktuelle, vorurteile, ki, klar, wahrzunehmen, cicero, fragen probleme, seminar vermittelt, einzuuben, str ouml, mogen, ouml szlig en, neue medien, steuerrecht, uhr raum 41, ag, paulus, objektiven, abgelegt, burgerlichen, strategie, beruflicher, lehr lern, religiositat, gremien, konne, zwolf, einordnung, 05 2020, vorrang, interkulturalitat, digitalisierung medien, auseinander setzen, herz, ubergange, mail studip, jungere, 1b, folgende inhalte, stress, sozialpolitik, szene, prazise, aussprache, fremde, gerate, richard, einheit, themenorientierten, potentiellen, uuml ler, gehirn, elektronischen, anmeldung stud ip, pierre, 10 10, mitbestimmung, bildung erziehung unterricht, pers ouml nliche, schwerpunkte bilden, biologie, werbung, lt, hoffnungen, willen, www uni, zugriff, differenzierung, historisches, post, ende veranstaltung, kulturgeschichtlichen, dom, handlungsfahigkeit, ungleichheit, erhalten studierenden, kulturwissenschaft, 20 studierende, internationales, hingewiesen, findet online statt, arbeitsmarkte, isbn, erfolgreichen teilnahme, wissenschaftstheorie, klimawandel, erziehungswissenschaft, ende zweiten, anfanger, germany, ausbreitung, abschlussarbeit, geleistet, gesundheitswesen, anhand ausgewahlter beispiele, ausnahme, berg, streit, vorbereitende lekture, anthropologische, visualisieren, mehrfach, wahr, berufliche praxis, millionen menschen, papier, arbeitsmethoden, bestimmungen, entscheidende, emotion, versus, finanzielle, schulpraktikum, sichern, reclam ub, einfuhrung geschichte, fuhrte, verschiedenen perspektiven, konstruktivismus, methodisches, interdisziplinarer, leistungsfahigkeit, thema seminars, forschungsprozess, rechtfertigung, erhebungen, gemeinsame lekture, scan, fd, anleiten, erfolgreich absolviert, hausaufgaben, teamarbeit, einuben, spannung, marchen, el, cultural, ubersicht, nachweisen, serie, reprasentation, anlehnung, kerncurriculum, offentlichen raum, erklarungen, frauen, alternativen, faust, typologie, europaisierung, qualifikation, toleranz, kuhl, multi, fragen beantworten, vorkenntnissen, bachelorstudiengang, ruckmeldung, gerhard, verschiedenen formen, grundkonzepte, antworten fragen, ikc, schließlich sollen, universal, geruckt, optimal, heidelberg springer, absicht, zeitschriften, betreuer, bio, web, fr uuml, stefanie, pflege, vorlesung richtet studierende, vs verlag, stadtgeographie, one, dateien, intervention, mitarbeiter_innen, feste, medialen, entwicklungs, jugendalter, de gruyter, luft, 15 11, antisemitismus, barth, habermas, part, verhandeln, historischen kontext, lernumgebungen, neuerungen, wochenende, 19 20, bildungsforschung, uuml nden, mittelpunkt steht, beantwortung fragen, welten, alterer, spracherwerb, begeisterung, effektivitat, list, gepr, don, herder, ungefahr, vollstandige, geschehen, preis, 1950er, neue herausforderungen, materielle, leiten, topics, produkte, eintritt, originalen, resultierenden, zehn, geist, freuen, deutschen literatur, films, sozialgeographie, erl, ideale, abgestimmt, entwicklungslinien, konfessionell, veranstaltung studierenden, frieden, elementaren, nachfrage, begrenzten, erinnern, fallstudie, minderheiten, city, getragen, rhythmus, gewissen, informellen, wandels, rhetorische, kap, mechanik, polizei, praxisbeispielen, inklusive, wissenschaftlichen texten, uben, se, abschnitte, effekt, corona krise, mut, erwachsenenbildung, globalisierten, umgangsformen, haus, kriegen, politiken, 14 18, dauerhaft, festlegen, analog, cd, hof, zukommt, general, gluck, un, life, verlaufen, momente, konsum, brd, dietrich, zeugen, leistungspunkten, biologischen, non, 10 1007, analysis, stichworte, dialog, systemische, nomos, maria, licht, didaktische modelle, standorte, plattform, lieder, zeitgeschichte, mitarbeiten, industrielle, illustriert, horer, jacques, neueren, vergabe, netzwerken, poetischen, islamischen, 3d, landschaft, danach gefragt, karten, diskutierten, wirtschaftsgeographie, erlernte, online workshop, promotion, strukturierten, norm, gesprache, tristan, analyse interpretation, rational\n"
     ]
    }
   ],
   "source": [
    "print(\"Detected Semantic Directions:\", \", \".join(list(cluster_reprs.keys())))"
   ]
  },
  {
   "cell_type": "markdown",
   "id": "63393c87-0f4d-454e-b630-2ae7c47b18f9",
   "metadata": {},
   "source": [
    "## Can we recover the exact courses from the detected directions?"
   ]
  },
  {
   "cell_type": "code",
   "execution_count": null,
   "id": "f83f14fa-a824-4209-9469-fd6e1c17c7e7",
   "metadata": {
    "tags": []
   },
   "outputs": [],
   "source": [
    "import pyperclip\n",
    "from derive_conceptualspace.util.result_analysis_tools import df_to_latex\n",
    "\n",
    "import numpy as np\n",
    "import pandas as pd\n",
    "from scipy.stats import rankdata\n",
    "from sklearn.tree import DecisionTreeClassifier\n",
    "from tqdm.notebook import tqdm\n",
    "from misc_util.pretty_print import pretty_print as print\n",
    "from derive_conceptualspace.semantic_directions.cluster_names import get_name_dict\n",
    "clus_rep_algo = \"top_1\"\n",
    "clusters, planes = clusters.values()"
   ]
  },
  {
   "cell_type": "code",
   "execution_count": 22,
   "id": "1f0ef322-35f1-4678-8c23-9f199c5fbfda",
   "metadata": {},
   "outputs": [
    {
     "data": {
      "text/markdown": [
       "<span style=\"font-size:11pt\">Highest-ranking descriptions [with any class] per dimension:<br>    <span style=\"color: #0000ff\">bibliotheken          </span>: Tutorium Orientierungsseminar (Gruppe I)<br>    <span style=\"color: #0000ff\">verdeutlichen         </span>: Konzeptionen, Geschichte und Inhalte des Sachunterrichts (G1)<br>    <span style=\"color: #0000ff\">opnv                  </span>: Tagesexkursion Agri-Food Cluster in Nord-West Niedersachsen<br>    <span style=\"color: #0000ff\">schriftliche mundliche</span>: HannES Probeexamen<br>    <span style=\"color: #0000ff\">blockveranstaltungen  </span>: Begleitung und Betreuung des Fachpraktikums Englisch im Herbst 2008<br>    <span style=\"color: #0000ff\">schwierige            </span>: ZQS/SK: Stimm- und Sprechtraining<br>    <span style=\"color: #0000ff\">erde                  </span>: Tutorium zur Vorlesung: System Lebewesen/Ökozonen<br>    <span style=\"color: #0000ff\">bertolt brecht        </span>: Bertolt Brecht - Dramatische Arbeit (NDL 3)<br>    <span style=\"color: #0000ff\">religionswissenschaft </span>: Friedrich Schleiermacher, Über die Religion: Reden an die Gebildeten unter ihren Verächtern<br>    <span style=\"color: #0000ff\">vi                    </span>: AG Wissensbasierte Robotik<br>    <span style=\"color: #0000ff\">erkrankungen          </span>: Psychosomatik/Verhaltensmedizin M-Psy-111<br>    <span style=\"color: #0000ff\">gesammelt             </span>: Bauen und Konstruieren als Thema im Sachunterricht (G2,3/H1,2,3,5)<br>    <span style=\"color: #0000ff\">mitarbeiterinnen      </span>: WB 1.8 Gesund bleiben und gesund führen - Was kann ich als Führungskraft tun?  (Referntinnen Mareike Claus und Janna Stern)<br>    <span style=\"color: #0000ff\">bietet uberblick      </span>: Einführung in die Sozialpsychologie (V)<br>    <span style=\"color: #0000ff\">lineare               </span>: Datenanalyse I<br>    <span style=\"color: #0000ff\">verhaltens            </span>: Ausgewählte Experimente der Psychologie<br>    <span style=\"color: #0000ff\">weist                 </span>: digital: Aufräumen! Tätig sein!<br>    <span style=\"color: #0000ff\">parteien              </span>: Modul Vergleichende Politikwissenschaft I: Westliche Regierungssysteme im Vergleich<br>    <span style=\"color: #0000ff\">aktivitaten           </span>: Finanzpolitik in der Demokratie [Präsenz]<br>    <span style=\"color: #0000ff\">texte verfassen       </span>: Gender !? - Einstieg in die Geschlechterforschung</span>"
      ],
      "text/plain": [
       "<IPython.core.display.Markdown object>"
      ]
     },
     "metadata": {},
     "output_type": "display_data"
    }
   ],
   "source": [
    "cluster_names = get_name_dict(clusters, cluster_reprs, clus_rep_algo)\n",
    "#first I want the distances to the origins of the respective dimensions (induced by the clusters), what induces the respective rankings (see DESC15 p.24u, proj2 of load_semanticspaces.load_projections)\n",
    "axis_dists = {i: {cluster_names[k]: v.dist(embedding[i]) for k, v in planes.items()} for i in range(len(embedding))}\n",
    "best_per_dim = {k: descriptions._descriptions[v].title for k, v in pd.DataFrame(axis_dists).T.idxmax().to_dict().items()}\n",
    "print(\"Highest-ranking descriptions [with any class] per dimension:\\n    \"+\"\\n    \".join([f\"*b*{k.ljust(max([len(i) for i in best_per_dim.keys()][:20]))}*b*: {v}\" for k, v in best_per_dim.items()][:20]))"
   ]
  },
  {
   "cell_type": "code",
   "execution_count": null,
   "id": "3551e6fd-5f81-48f7-a871-86ba32c161b6",
   "metadata": {},
   "outputs": [],
   "source": [
    "#TODO also show places 2, 3, 4 - hier sehen wir wieder sehr ähnliche (\"football stadium\", \"stadium\", \"fan\" for \"goalie\")\n",
    "#TODO axis_dists is all I need for the movietuner already!! I can say \"give me something like X, only with more Y\"\n",
    "\n",
    "consider = pd.DataFrame({descriptions._descriptions[i].title: axis_dists[i] for i in range(len(embedding))})\n",
    "ranked = pd.DataFrame([rankdata(i) for i in consider.values], index=consider.index, columns=consider.columns).astype(int).T\n",
    "ranked = ranked / ranked.shape[0] #looks better if we're doing relative rankings"
   ]
  },
  {
   "cell_type": "code",
   "execution_count": 35,
   "id": "5d8daf41-32c6-4f4c-9223-d70fa2f7c2d2",
   "metadata": {
    "tags": []
   },
   "outputs": [
    {
     "data": {
      "text/html": [
       "<div>\n",
       "<style scoped>\n",
       "    .dataframe tbody tr th:only-of-type {\n",
       "        vertical-align: middle;\n",
       "    }\n",
       "\n",
       "    .dataframe tbody tr th {\n",
       "        vertical-align: top;\n",
       "    }\n",
       "\n",
       "    .dataframe thead th {\n",
       "        text-align: right;\n",
       "    }\n",
       "</style>\n",
       "<table border=\"1\" class=\"dataframe\">\n",
       "  <thead>\n",
       "    <tr style=\"text-align: right;\">\n",
       "      <th></th>\n",
       "      <th>bibliotheken</th>\n",
       "      <th>verdeutlichen</th>\n",
       "      <th>opnv</th>\n",
       "      <th>schriftliche mundliche</th>\n",
       "      <th>blockveranstaltungen</th>\n",
       "      <th>...</th>\n",
       "      <th>norm</th>\n",
       "      <th>gesprache</th>\n",
       "      <th>tristan</th>\n",
       "      <th>analyse interpretation</th>\n",
       "      <th>rational</th>\n",
       "    </tr>\n",
       "  </thead>\n",
       "  <tbody>\n",
       "    <tr>\n",
       "      <th>!! FÄLLT AB 15.11. AUS !! Lektürekurs Spanisch I (Gruppe A und B)</th>\n",
       "      <td>0.663</td>\n",
       "      <td>0.021</td>\n",
       "      <td>0.566</td>\n",
       "      <td>0.954</td>\n",
       "      <td>0.724</td>\n",
       "      <td>...</td>\n",
       "      <td>0.026</td>\n",
       "      <td>0.660</td>\n",
       "      <td>0.099</td>\n",
       "      <td>0.206</td>\n",
       "      <td>0.149</td>\n",
       "    </tr>\n",
       "    <tr>\n",
       "      <th>!! FÄLLT AUS !!  Grammatik und Grammatikvermittlung rund ums Wort (D3)</th>\n",
       "      <td>0.686</td>\n",
       "      <td>0.389</td>\n",
       "      <td>0.763</td>\n",
       "      <td>0.715</td>\n",
       "      <td>0.452</td>\n",
       "      <td>...</td>\n",
       "      <td>0.939</td>\n",
       "      <td>0.788</td>\n",
       "      <td>0.382</td>\n",
       "      <td>0.378</td>\n",
       "      <td>0.740</td>\n",
       "    </tr>\n",
       "    <tr>\n",
       "      <th>!! FÄLLT AUS !!  Sprachen in der Klasse - Sprachdidaktik als linguistische Sozialarbeit (D3)</th>\n",
       "      <td>0.172</td>\n",
       "      <td>0.737</td>\n",
       "      <td>0.027</td>\n",
       "      <td>0.129</td>\n",
       "      <td>0.003</td>\n",
       "      <td>...</td>\n",
       "      <td>0.670</td>\n",
       "      <td>0.399</td>\n",
       "      <td>0.610</td>\n",
       "      <td>0.141</td>\n",
       "      <td>0.303</td>\n",
       "    </tr>\n",
       "    <tr>\n",
       "      <th>!! FÄLLT AUS !!  Sprachnormen: (Was ist) \"Gutes und richtiges Deutsch?\" (D3)</th>\n",
       "      <td>0.170</td>\n",
       "      <td>0.149</td>\n",
       "      <td>0.219</td>\n",
       "      <td>0.215</td>\n",
       "      <td>0.408</td>\n",
       "      <td>...</td>\n",
       "      <td>0.975</td>\n",
       "      <td>0.982</td>\n",
       "      <td>0.741</td>\n",
       "      <td>0.044</td>\n",
       "      <td>0.536</td>\n",
       "    </tr>\n",
       "    <tr>\n",
       "      <th>!! FÄLLT AUS !! Anna Seghers: Das siebte Kreuz (1942)</th>\n",
       "      <td>0.268</td>\n",
       "      <td>0.290</td>\n",
       "      <td>0.829</td>\n",
       "      <td>0.678</td>\n",
       "      <td>0.011</td>\n",
       "      <td>...</td>\n",
       "      <td>0.205</td>\n",
       "      <td>0.232</td>\n",
       "      <td>0.981</td>\n",
       "      <td>0.803</td>\n",
       "      <td>0.401</td>\n",
       "    </tr>\n",
       "    <tr>\n",
       "      <th>...</th>\n",
       "      <td>...</td>\n",
       "      <td>...</td>\n",
       "      <td>...</td>\n",
       "      <td>...</td>\n",
       "      <td>...</td>\n",
       "      <td>...</td>\n",
       "      <td>...</td>\n",
       "      <td>...</td>\n",
       "      <td>...</td>\n",
       "      <td>...</td>\n",
       "      <td>...</td>\n",
       "    </tr>\n",
       "    <tr>\n",
       "      <th>„… damit ihr einander kennenlernt“ (Sure 49,13) Interreligiöse Studientage vom 04.-06.10.2018 in Goslar (Bezugsmodul: Interreligiöse und interkulturelle Studien)</th>\n",
       "      <td>0.408</td>\n",
       "      <td>0.155</td>\n",
       "      <td>0.882</td>\n",
       "      <td>0.089</td>\n",
       "      <td>0.238</td>\n",
       "      <td>...</td>\n",
       "      <td>0.782</td>\n",
       "      <td>0.846</td>\n",
       "      <td>0.192</td>\n",
       "      <td>0.096</td>\n",
       "      <td>0.354</td>\n",
       "    </tr>\n",
       "    <tr>\n",
       "      <th>„… damit ihr einander kennenlernt“ (Sure 49,13) Interreligiöse Studientage vom 15.-17.10.2019 in Goslar (Bezugsmodul: Interreligiöse und interkulturelle Studien)</th>\n",
       "      <td>0.336</td>\n",
       "      <td>0.110</td>\n",
       "      <td>0.851</td>\n",
       "      <td>0.136</td>\n",
       "      <td>0.189</td>\n",
       "      <td>...</td>\n",
       "      <td>0.756</td>\n",
       "      <td>0.805</td>\n",
       "      <td>0.197</td>\n",
       "      <td>0.141</td>\n",
       "      <td>0.361</td>\n",
       "    </tr>\n",
       "    <tr>\n",
       "      <th>„… damit ihr einander kennenlernt“ (Sure 49,13) Interreligiöse Studientage vom 16.-18.10.2017 in Goslar (Bezugsmodul: Interreligiöse und interkulturelle Studien)</th>\n",
       "      <td>0.458</td>\n",
       "      <td>0.144</td>\n",
       "      <td>0.881</td>\n",
       "      <td>0.077</td>\n",
       "      <td>0.273</td>\n",
       "      <td>...</td>\n",
       "      <td>0.812</td>\n",
       "      <td>0.865</td>\n",
       "      <td>0.179</td>\n",
       "      <td>0.141</td>\n",
       "      <td>0.378</td>\n",
       "    </tr>\n",
       "    <tr>\n",
       "      <th>„….und wenn dann alles nicht so klappt, wie geplant.“</th>\n",
       "      <td>0.474</td>\n",
       "      <td>0.642</td>\n",
       "      <td>0.191</td>\n",
       "      <td>0.779</td>\n",
       "      <td>0.652</td>\n",
       "      <td>...</td>\n",
       "      <td>0.662</td>\n",
       "      <td>0.438</td>\n",
       "      <td>0.064</td>\n",
       "      <td>0.103</td>\n",
       "      <td>0.876</td>\n",
       "    </tr>\n",
       "    <tr>\n",
       "      <th>„…die armen Klosterjungfrauen in großer Eil und Schrecken sich in die Stadt salviret“ Die Belastungen des Dreißigjährigen Krieges für die Orte und Klöster im Fürstentum Lüneburg</th>\n",
       "      <td>0.400</td>\n",
       "      <td>0.247</td>\n",
       "      <td>0.973</td>\n",
       "      <td>0.181</td>\n",
       "      <td>0.072</td>\n",
       "      <td>...</td>\n",
       "      <td>0.179</td>\n",
       "      <td>0.775</td>\n",
       "      <td>0.797</td>\n",
       "      <td>0.316</td>\n",
       "      <td>0.392</td>\n",
       "    </tr>\n",
       "  </tbody>\n",
       "</table>\n",
       "<p>11601 rows × 400 columns</p>\n",
       "</div>"
      ],
      "text/plain": [
       "                                                    bibliotheken  verdeutlichen  opnv  schriftliche mundliche  blockveranstaltungen  ...  norm  gesprache  tristan  analyse interpretation  rational\n",
       "!! FÄLLT AB 15.11. AUS !! Lektürekurs Spanisch ...         0.663          0.021 0.566                   0.954                 0.724  ... 0.026      0.660    0.099                   0.206     0.149\n",
       "!! FÄLLT AUS !!  Grammatik und Grammatikvermitt...         0.686          0.389 0.763                   0.715                 0.452  ... 0.939      0.788    0.382                   0.378     0.740\n",
       "!! FÄLLT AUS !!  Sprachen in der Klasse - Sprac...         0.172          0.737 0.027                   0.129                 0.003  ... 0.670      0.399    0.610                   0.141     0.303\n",
       "!! FÄLLT AUS !!  Sprachnormen: (Was ist) \"Gutes...         0.170          0.149 0.219                   0.215                 0.408  ... 0.975      0.982    0.741                   0.044     0.536\n",
       "!! FÄLLT AUS !! Anna Seghers: Das siebte Kreuz ...         0.268          0.290 0.829                   0.678                 0.011  ... 0.205      0.232    0.981                   0.803     0.401\n",
       "...                                                          ...            ...   ...                     ...                   ...  ...   ...        ...      ...                     ...       ...\n",
       "„… damit ihr einander kennenlernt“ (Sure 49,13)...         0.408          0.155 0.882                   0.089                 0.238  ... 0.782      0.846    0.192                   0.096     0.354\n",
       "„… damit ihr einander kennenlernt“ (Sure 49,13)...         0.336          0.110 0.851                   0.136                 0.189  ... 0.756      0.805    0.197                   0.141     0.361\n",
       "„… damit ihr einander kennenlernt“ (Sure 49,13)...         0.458          0.144 0.881                   0.077                 0.273  ... 0.812      0.865    0.179                   0.141     0.378\n",
       "„….und wenn dann alles nicht so klappt, wie gep...         0.474          0.642 0.191                   0.779                 0.652  ... 0.662      0.438    0.064                   0.103     0.876\n",
       "„…die armen Klosterjungfrauen in großer Eil und...         0.400          0.247 0.973                   0.181                 0.072  ... 0.179      0.775    0.797                   0.316     0.392\n",
       "\n",
       "[11601 rows x 400 columns]"
      ]
     },
     "metadata": {},
     "output_type": "display_data"
    }
   ],
   "source": [
    "with pd.option_context('display.max_rows', 10, 'display.max_columns', 10, 'display.expand_frame_repr', False, 'display.float_format', '{:.3f}'.format):\n",
    "    display(ranked)"
   ]
  },
  {
   "cell_type": "markdown",
   "id": "8f8a5e0b-d40d-4da0-a8d0-7f66ee690d08",
   "metadata": {},
   "source": [
    "So now we will test if we can recover one specific course perfectly against all others with a decision tree...\n",
    "\n",
    "* With the rankings in the semantic directions rounded\n",
    "* With only a random subset of the semanatic directions.\n",
    "\n",
    "In every `repeat`, we will test `ntests` random candidates with only `max_dirs` randomly selected directions, rounded to `roundto`. Which directions to select differs in every `repeat`"
   ]
  },
  {
   "cell_type": "code",
   "execution_count": 105,
   "id": "9212304e-d477-4483-8707-5349025de8e8",
   "metadata": {},
   "outputs": [],
   "source": [
    "def test_recover_one(ranked, roundto=3, ntests=100, max_dirs=None, repeat=1):\n",
    "    repeat_results = []\n",
    "    with tqdm(total=ntests*repeat, leave=False) as pgbar:\n",
    "        for ntrial in range(repeat):\n",
    "            clone = ranked.copy().round(roundto)\n",
    "            if max_dirs:\n",
    "                clone = clone[np.random.choice(clone.columns, max_dirs)]\n",
    "            results = []\n",
    "            for i in np.random.choice(range(len(clone)), ntests):\n",
    "                targets = [0]*len(clone)\n",
    "                targets[i] = 1\n",
    "                clf = DecisionTreeClassifier()\n",
    "                clf.fit(clone.values, targets)\n",
    "                results.append((clf.predict(clone.values) == targets).all())\n",
    "                pgbar.update(1)\n",
    "                \n",
    "            repeat_results.append(sum(results)/len(results))\n",
    "        return repeat_results"
   ]
  },
  {
   "cell_type": "code",
   "execution_count": 109,
   "id": "f28de278-4aff-4c27-87eb-05e4a2e6a32c",
   "metadata": {
    "scrolled": true,
    "tags": []
   },
   "outputs": [
    {
     "data": {
      "text/markdown": [
       "<span style=\"font-size:11pt\">Run 1/12. Arguments: round-to=3, max-dirs=150</span>"
      ],
      "text/plain": [
       "<IPython.core.display.Markdown object>"
      ]
     },
     "metadata": {},
     "output_type": "display_data"
    },
    {
     "data": {
      "application/vnd.jupyter.widget-view+json": {
       "model_id": "",
       "version_major": 2,
       "version_minor": 0
      },
      "text/plain": [
       "  0%|          | 0/4000 [00:00<?, ?it/s]"
      ]
     },
     "metadata": {},
     "output_type": "display_data"
    },
    {
     "data": {
      "text/markdown": [
       "<span style=\"font-size:11pt\">   Mean Accuracy: 100.00%, Standard-Deviation: 0.0000, Best Result: 100.00%</span>"
      ],
      "text/plain": [
       "<IPython.core.display.Markdown object>"
      ]
     },
     "metadata": {},
     "output_type": "display_data"
    },
    {
     "data": {
      "text/markdown": [
       "<span style=\"font-size:11pt\">Run 2/12. Arguments: round-to=3, max-dirs=100</span>"
      ],
      "text/plain": [
       "<IPython.core.display.Markdown object>"
      ]
     },
     "metadata": {},
     "output_type": "display_data"
    },
    {
     "data": {
      "application/vnd.jupyter.widget-view+json": {
       "model_id": "",
       "version_major": 2,
       "version_minor": 0
      },
      "text/plain": [
       "  0%|          | 0/4000 [00:00<?, ?it/s]"
      ]
     },
     "metadata": {},
     "output_type": "display_data"
    },
    {
     "data": {
      "text/markdown": [
       "<span style=\"font-size:11pt\">   Mean Accuracy: 100.00%, Standard-Deviation: 0.0000, Best Result: 100.00%</span>"
      ],
      "text/plain": [
       "<IPython.core.display.Markdown object>"
      ]
     },
     "metadata": {},
     "output_type": "display_data"
    },
    {
     "data": {
      "text/markdown": [
       "<span style=\"font-size:11pt\">Run 3/12. Arguments: round-to=3, max-dirs=50</span>"
      ],
      "text/plain": [
       "<IPython.core.display.Markdown object>"
      ]
     },
     "metadata": {},
     "output_type": "display_data"
    },
    {
     "data": {
      "application/vnd.jupyter.widget-view+json": {
       "model_id": "",
       "version_major": 2,
       "version_minor": 0
      },
      "text/plain": [
       "  0%|          | 0/4000 [00:00<?, ?it/s]"
      ]
     },
     "metadata": {},
     "output_type": "display_data"
    },
    {
     "data": {
      "text/markdown": [
       "<span style=\"font-size:11pt\">   Mean Accuracy: 99.88%, Standard-Deviation: 0.0027, Best Result: 100.00%</span>"
      ],
      "text/plain": [
       "<IPython.core.display.Markdown object>"
      ]
     },
     "metadata": {},
     "output_type": "display_data"
    },
    {
     "data": {
      "text/markdown": [
       "<span style=\"font-size:11pt\">Run 4/12. Arguments: round-to=3, max-dirs=20</span>"
      ],
      "text/plain": [
       "<IPython.core.display.Markdown object>"
      ]
     },
     "metadata": {},
     "output_type": "display_data"
    },
    {
     "data": {
      "application/vnd.jupyter.widget-view+json": {
       "model_id": "",
       "version_major": 2,
       "version_minor": 0
      },
      "text/plain": [
       "  0%|          | 0/4000 [00:00<?, ?it/s]"
      ]
     },
     "metadata": {},
     "output_type": "display_data"
    },
    {
     "data": {
      "text/markdown": [
       "<span style=\"font-size:11pt\">   Mean Accuracy: 99.00%, Standard-Deviation: 0.0079, Best Result: 100.00%</span>"
      ],
      "text/plain": [
       "<IPython.core.display.Markdown object>"
      ]
     },
     "metadata": {},
     "output_type": "display_data"
    },
    {
     "data": {
      "text/markdown": [
       "<span style=\"font-size:11pt\">Run 5/12. Arguments: round-to=2, max-dirs=150</span>"
      ],
      "text/plain": [
       "<IPython.core.display.Markdown object>"
      ]
     },
     "metadata": {},
     "output_type": "display_data"
    },
    {
     "data": {
      "application/vnd.jupyter.widget-view+json": {
       "model_id": "",
       "version_major": 2,
       "version_minor": 0
      },
      "text/plain": [
       "  0%|          | 0/4000 [00:00<?, ?it/s]"
      ]
     },
     "metadata": {},
     "output_type": "display_data"
    },
    {
     "data": {
      "text/markdown": [
       "<span style=\"font-size:11pt\">   Mean Accuracy: 98.38%, Standard-Deviation: 0.0088, Best Result: 100.00%</span>"
      ],
      "text/plain": [
       "<IPython.core.display.Markdown object>"
      ]
     },
     "metadata": {},
     "output_type": "display_data"
    },
    {
     "data": {
      "text/markdown": [
       "<span style=\"font-size:11pt\">Run 6/12. Arguments: round-to=2, max-dirs=100</span>"
      ],
      "text/plain": [
       "<IPython.core.display.Markdown object>"
      ]
     },
     "metadata": {},
     "output_type": "display_data"
    },
    {
     "data": {
      "application/vnd.jupyter.widget-view+json": {
       "model_id": "",
       "version_major": 2,
       "version_minor": 0
      },
      "text/plain": [
       "  0%|          | 0/4000 [00:00<?, ?it/s]"
      ]
     },
     "metadata": {},
     "output_type": "display_data"
    },
    {
     "data": {
      "text/markdown": [
       "<span style=\"font-size:11pt\">   Mean Accuracy: 98.02%, Standard-Deviation: 0.0080, Best Result: 99.50%</span>"
      ],
      "text/plain": [
       "<IPython.core.display.Markdown object>"
      ]
     },
     "metadata": {},
     "output_type": "display_data"
    },
    {
     "data": {
      "text/markdown": [
       "<span style=\"font-size:11pt\">Run 7/12. Arguments: round-to=2, max-dirs=50</span>"
      ],
      "text/plain": [
       "<IPython.core.display.Markdown object>"
      ]
     },
     "metadata": {},
     "output_type": "display_data"
    },
    {
     "data": {
      "application/vnd.jupyter.widget-view+json": {
       "model_id": "",
       "version_major": 2,
       "version_minor": 0
      },
      "text/plain": [
       "  0%|          | 0/4000 [00:00<?, ?it/s]"
      ]
     },
     "metadata": {},
     "output_type": "display_data"
    },
    {
     "data": {
      "text/markdown": [
       "<span style=\"font-size:11pt\">   Mean Accuracy: 96.12%, Standard-Deviation: 0.0127, Best Result: 98.00%</span>"
      ],
      "text/plain": [
       "<IPython.core.display.Markdown object>"
      ]
     },
     "metadata": {},
     "output_type": "display_data"
    },
    {
     "data": {
      "text/markdown": [
       "<span style=\"font-size:11pt\">Run 8/12. Arguments: round-to=2, max-dirs=20</span>"
      ],
      "text/plain": [
       "<IPython.core.display.Markdown object>"
      ]
     },
     "metadata": {},
     "output_type": "display_data"
    },
    {
     "data": {
      "application/vnd.jupyter.widget-view+json": {
       "model_id": "",
       "version_major": 2,
       "version_minor": 0
      },
      "text/plain": [
       "  0%|          | 0/4000 [00:00<?, ?it/s]"
      ]
     },
     "metadata": {},
     "output_type": "display_data"
    },
    {
     "data": {
      "text/markdown": [
       "<span style=\"font-size:11pt\">   Mean Accuracy: 95.60%, Standard-Deviation: 0.0132, Best Result: 98.00%</span>"
      ],
      "text/plain": [
       "<IPython.core.display.Markdown object>"
      ]
     },
     "metadata": {},
     "output_type": "display_data"
    },
    {
     "data": {
      "text/markdown": [
       "<span style=\"font-size:11pt\">Run 9/12. Arguments: round-to=1, max-dirs=150</span>"
      ],
      "text/plain": [
       "<IPython.core.display.Markdown object>"
      ]
     },
     "metadata": {},
     "output_type": "display_data"
    },
    {
     "data": {
      "application/vnd.jupyter.widget-view+json": {
       "model_id": "",
       "version_major": 2,
       "version_minor": 0
      },
      "text/plain": [
       "  0%|          | 0/4000 [00:00<?, ?it/s]"
      ]
     },
     "metadata": {},
     "output_type": "display_data"
    },
    {
     "data": {
      "text/markdown": [
       "<span style=\"font-size:11pt\">   Mean Accuracy: 95.65%, Standard-Deviation: 0.0139, Best Result: 98.00%</span>"
      ],
      "text/plain": [
       "<IPython.core.display.Markdown object>"
      ]
     },
     "metadata": {},
     "output_type": "display_data"
    },
    {
     "data": {
      "text/markdown": [
       "<span style=\"font-size:11pt\">Run 10/12. Arguments: round-to=1, max-dirs=100</span>"
      ],
      "text/plain": [
       "<IPython.core.display.Markdown object>"
      ]
     },
     "metadata": {},
     "output_type": "display_data"
    },
    {
     "data": {
      "application/vnd.jupyter.widget-view+json": {
       "model_id": "",
       "version_major": 2,
       "version_minor": 0
      },
      "text/plain": [
       "  0%|          | 0/4000 [00:00<?, ?it/s]"
      ]
     },
     "metadata": {},
     "output_type": "display_data"
    },
    {
     "data": {
      "text/markdown": [
       "<span style=\"font-size:11pt\">   Mean Accuracy: 94.92%, Standard-Deviation: 0.0129, Best Result: 97.00%</span>"
      ],
      "text/plain": [
       "<IPython.core.display.Markdown object>"
      ]
     },
     "metadata": {},
     "output_type": "display_data"
    },
    {
     "data": {
      "text/markdown": [
       "<span style=\"font-size:11pt\">Run 11/12. Arguments: round-to=1, max-dirs=50</span>"
      ],
      "text/plain": [
       "<IPython.core.display.Markdown object>"
      ]
     },
     "metadata": {},
     "output_type": "display_data"
    },
    {
     "data": {
      "application/vnd.jupyter.widget-view+json": {
       "model_id": "",
       "version_major": 2,
       "version_minor": 0
      },
      "text/plain": [
       "  0%|          | 0/4000 [00:00<?, ?it/s]"
      ]
     },
     "metadata": {},
     "output_type": "display_data"
    },
    {
     "data": {
      "text/markdown": [
       "<span style=\"font-size:11pt\">   Mean Accuracy: 94.08%, Standard-Deviation: 0.0138, Best Result: 96.00%</span>"
      ],
      "text/plain": [
       "<IPython.core.display.Markdown object>"
      ]
     },
     "metadata": {},
     "output_type": "display_data"
    },
    {
     "data": {
      "text/markdown": [
       "<span style=\"font-size:11pt\">Run 12/12. Arguments: round-to=1, max-dirs=20</span>"
      ],
      "text/plain": [
       "<IPython.core.display.Markdown object>"
      ]
     },
     "metadata": {},
     "output_type": "display_data"
    },
    {
     "data": {
      "application/vnd.jupyter.widget-view+json": {
       "model_id": "",
       "version_major": 2,
       "version_minor": 0
      },
      "text/plain": [
       "  0%|          | 0/4000 [00:00<?, ?it/s]"
      ]
     },
     "metadata": {},
     "output_type": "display_data"
    },
    {
     "data": {
      "text/markdown": [
       "<span style=\"font-size:11pt\">   Mean Accuracy: 91.68%, Standard-Deviation: 0.0176, Best Result: 95.00%</span>"
      ],
      "text/plain": [
       "<IPython.core.display.Markdown object>"
      ]
     },
     "metadata": {},
     "output_type": "display_data"
    }
   ],
   "source": [
    "REPEAT = 20\n",
    "NTESTS = 200\n",
    "\n",
    "ROUND_TO = [3, 2, 1]\n",
    "MAX_DIRS = [150, 100, 50, 20, 10, 5, 3]\n",
    "\n",
    "n=0\n",
    "results = {}\n",
    "for roundto in ROUND_TO:\n",
    "    for max_dirs in MAX_DIRS:\n",
    "        n += 1\n",
    "        print(f\"Run {n}/{len(ROUND_TO)*len(MAX_DIRS)}. Arguments: round-to={roundto}, max-dirs={max_dirs}\")\n",
    "        res = test_recover_one(ranked, roundto=roundto, ntests=NTESTS, max_dirs=max_dirs, repeat=REPEAT)\n",
    "        print(f\"   Mean Accuracy: {np.array(res).mean():.2%}, Standard-Deviation: {np.array(res).std():.4f}, Best Result: {np.array(res).max():.2%}\")\n",
    "        results[(roundto,max_dirs)] = res"
   ]
  },
  {
   "cell_type": "code",
   "execution_count": 192,
   "id": "6cd4ce89-d802-40ff-815a-b704ff8c8fd0",
   "metadata": {},
   "outputs": [
    {
     "data": {
      "text/html": [
       "<style type=\"text/css\">\n",
       "#T_a4a67 th {\n",
       "  vertical-align: top;\n",
       "  text-align: left;\n",
       "}\n",
       "</style>\n",
       "<table id=\"T_a4a67\">\n",
       "  <thead>\n",
       "    <tr>\n",
       "      <th class=\"index_name level0\" >Precision</th>\n",
       "      <th id=\"T_a4a67_level0_col0\" class=\"col_heading level0 col0\" colspan=\"7\">1</th>\n",
       "      <th id=\"T_a4a67_level0_col7\" class=\"col_heading level0 col7\" colspan=\"7\">2</th>\n",
       "      <th id=\"T_a4a67_level0_col14\" class=\"col_heading level0 col14\" colspan=\"7\">3</th>\n",
       "    </tr>\n",
       "    <tr>\n",
       "      <th class=\"index_name level1\" >Max-Dims</th>\n",
       "      <th id=\"T_a4a67_level1_col0\" class=\"col_heading level1 col0\" >3</th>\n",
       "      <th id=\"T_a4a67_level1_col1\" class=\"col_heading level1 col1\" >5</th>\n",
       "      <th id=\"T_a4a67_level1_col2\" class=\"col_heading level1 col2\" >10</th>\n",
       "      <th id=\"T_a4a67_level1_col3\" class=\"col_heading level1 col3\" >20</th>\n",
       "      <th id=\"T_a4a67_level1_col4\" class=\"col_heading level1 col4\" >50</th>\n",
       "      <th id=\"T_a4a67_level1_col5\" class=\"col_heading level1 col5\" >100</th>\n",
       "      <th id=\"T_a4a67_level1_col6\" class=\"col_heading level1 col6\" >150</th>\n",
       "      <th id=\"T_a4a67_level1_col7\" class=\"col_heading level1 col7\" >3</th>\n",
       "      <th id=\"T_a4a67_level1_col8\" class=\"col_heading level1 col8\" >5</th>\n",
       "      <th id=\"T_a4a67_level1_col9\" class=\"col_heading level1 col9\" >10</th>\n",
       "      <th id=\"T_a4a67_level1_col10\" class=\"col_heading level1 col10\" >20</th>\n",
       "      <th id=\"T_a4a67_level1_col11\" class=\"col_heading level1 col11\" >50</th>\n",
       "      <th id=\"T_a4a67_level1_col12\" class=\"col_heading level1 col12\" >100</th>\n",
       "      <th id=\"T_a4a67_level1_col13\" class=\"col_heading level1 col13\" >150</th>\n",
       "      <th id=\"T_a4a67_level1_col14\" class=\"col_heading level1 col14\" >3</th>\n",
       "      <th id=\"T_a4a67_level1_col15\" class=\"col_heading level1 col15\" >5</th>\n",
       "      <th id=\"T_a4a67_level1_col16\" class=\"col_heading level1 col16\" >10</th>\n",
       "      <th id=\"T_a4a67_level1_col17\" class=\"col_heading level1 col17\" >20</th>\n",
       "      <th id=\"T_a4a67_level1_col18\" class=\"col_heading level1 col18\" >50</th>\n",
       "      <th id=\"T_a4a67_level1_col19\" class=\"col_heading level1 col19\" >100</th>\n",
       "      <th id=\"T_a4a67_level1_col20\" class=\"col_heading level1 col20\" >150</th>\n",
       "    </tr>\n",
       "  </thead>\n",
       "  <tbody>\n",
       "    <tr>\n",
       "      <th id=\"T_a4a67_level0_row0\" class=\"row_heading level0 row0\" >amax</th>\n",
       "      <td id=\"T_a4a67_row0_col0\" class=\"data row0 col0\" >1.00%</td>\n",
       "      <td id=\"T_a4a67_row0_col1\" class=\"data row0 col1\" >82.50%</td>\n",
       "      <td id=\"T_a4a67_row0_col2\" class=\"data row0 col2\" >93.50%</td>\n",
       "      <td id=\"T_a4a67_row0_col3\" class=\"data row0 col3\" >95.00%</td>\n",
       "      <td id=\"T_a4a67_row0_col4\" class=\"data row0 col4\" >96.00%</td>\n",
       "      <td id=\"T_a4a67_row0_col5\" class=\"data row0 col5\" >97.00%</td>\n",
       "      <td id=\"T_a4a67_row0_col6\" class=\"data row0 col6\" >98.00%</td>\n",
       "      <td id=\"T_a4a67_row0_col7\" class=\"data row0 col7\" >94.50%</td>\n",
       "      <td id=\"T_a4a67_row0_col8\" class=\"data row0 col8\" >96.00%</td>\n",
       "      <td id=\"T_a4a67_row0_col9\" class=\"data row0 col9\" >97.50%</td>\n",
       "      <td id=\"T_a4a67_row0_col10\" class=\"data row0 col10\" >98.00%</td>\n",
       "      <td id=\"T_a4a67_row0_col11\" class=\"data row0 col11\" >98.00%</td>\n",
       "      <td id=\"T_a4a67_row0_col12\" class=\"data row0 col12\" >99.50%</td>\n",
       "      <td id=\"T_a4a67_row0_col13\" class=\"data row0 col13\" >100.00%</td>\n",
       "      <td id=\"T_a4a67_row0_col14\" class=\"data row0 col14\" >97.50%</td>\n",
       "      <td id=\"T_a4a67_row0_col15\" class=\"data row0 col15\" >99.00%</td>\n",
       "      <td id=\"T_a4a67_row0_col16\" class=\"data row0 col16\" >99.50%</td>\n",
       "      <td id=\"T_a4a67_row0_col17\" class=\"data row0 col17\" >100.00%</td>\n",
       "      <td id=\"T_a4a67_row0_col18\" class=\"data row0 col18\" >100.00%</td>\n",
       "      <td id=\"T_a4a67_row0_col19\" class=\"data row0 col19\" >100.00%</td>\n",
       "      <td id=\"T_a4a67_row0_col20\" class=\"data row0 col20\" >100.00%</td>\n",
       "    </tr>\n",
       "    <tr>\n",
       "      <th id=\"T_a4a67_level0_row1\" class=\"row_heading level0 row1\" >mean</th>\n",
       "      <td id=\"T_a4a67_row1_col0\" class=\"data row1 col0\" >0.62%</td>\n",
       "      <td id=\"T_a4a67_row1_col1\" class=\"data row1 col1\" >74.55%</td>\n",
       "      <td id=\"T_a4a67_row1_col2\" class=\"data row1 col2\" >90.38%</td>\n",
       "      <td id=\"T_a4a67_row1_col3\" class=\"data row1 col3\" >91.68%</td>\n",
       "      <td id=\"T_a4a67_row1_col4\" class=\"data row1 col4\" >94.08%</td>\n",
       "      <td id=\"T_a4a67_row1_col5\" class=\"data row1 col5\" >94.92%</td>\n",
       "      <td id=\"T_a4a67_row1_col6\" class=\"data row1 col6\" >95.65%</td>\n",
       "      <td id=\"T_a4a67_row1_col7\" class=\"data row1 col7\" >92.08%</td>\n",
       "      <td id=\"T_a4a67_row1_col8\" class=\"data row1 col8\" >94.18%</td>\n",
       "      <td id=\"T_a4a67_row1_col9\" class=\"data row1 col9\" >94.50%</td>\n",
       "      <td id=\"T_a4a67_row1_col10\" class=\"data row1 col10\" >95.60%</td>\n",
       "      <td id=\"T_a4a67_row1_col11\" class=\"data row1 col11\" >96.12%</td>\n",
       "      <td id=\"T_a4a67_row1_col12\" class=\"data row1 col12\" >98.02%</td>\n",
       "      <td id=\"T_a4a67_row1_col13\" class=\"data row1 col13\" >98.38%</td>\n",
       "      <td id=\"T_a4a67_row1_col14\" class=\"data row1 col14\" >95.57%</td>\n",
       "      <td id=\"T_a4a67_row1_col15\" class=\"data row1 col15\" >96.70%</td>\n",
       "      <td id=\"T_a4a67_row1_col16\" class=\"data row1 col16\" >97.83%</td>\n",
       "      <td id=\"T_a4a67_row1_col17\" class=\"data row1 col17\" >99.00%</td>\n",
       "      <td id=\"T_a4a67_row1_col18\" class=\"data row1 col18\" >99.88%</td>\n",
       "      <td id=\"T_a4a67_row1_col19\" class=\"data row1 col19\" >100.00%</td>\n",
       "      <td id=\"T_a4a67_row1_col20\" class=\"data row1 col20\" >100.00%</td>\n",
       "    </tr>\n",
       "  </tbody>\n",
       "</table>\n"
      ],
      "text/plain": [
       "<pandas.io.formats.style.Styler at 0x7f8dfa2b24d0>"
      ]
     },
     "execution_count": 192,
     "metadata": {},
     "output_type": "execute_result"
    }
   ],
   "source": [
    "styles = [{'selector': 'th', 'props': [('vertical-align','top'),('text-align','left')]}]  #('border-style', 'solid')\n",
    "styler = lambda df: df.style.format('{:.2%}'.format).set_table_styles(styles) #{\"amax\": '{:.0%}'.format, \"mean\": '{:.2%}'.format}\n",
    "\n",
    "df = pd.DataFrame(results, columns=pd.MultiIndex.from_arrays(list(zip(*results.keys())), names=[\"Precision\", \"Max-Dims\"]))\n",
    "df = df.agg([np.max, np.mean])  #, np.std\n",
    "df = df.T.sort_index().T\n",
    "styler(df)"
   ]
  },
  {
   "cell_type": "markdown",
   "id": "ec593001-ebc5-49a7-a91a-f79d7eb331bd",
   "metadata": {},
   "source": [
    "With three **random** directions we can on average recover 95% of courses!!"
   ]
  },
  {
   "cell_type": "markdown",
   "id": "e5051ae2-b05e-4513-a2a7-aec0eb109b7d",
   "metadata": {},
   "source": [
    "## We don't even need to use classifiers, we can just look at the number of duplicates dependent on the number and precision of dimensions"
   ]
  },
  {
   "cell_type": "code",
   "execution_count": 544,
   "id": "46936e54-2983-4bb9-bbf0-2448a07b91d9",
   "metadata": {},
   "outputs": [],
   "source": [
    "def count_dups(ranked, digit_bins, max_dirs, noise_lvl=(0,), repeat=1):\n",
    "    total = len(digit_bins) * len(max_dirs) * len(noise_lvl) * repeat\n",
    "    with tqdm(total=total) as pgbar:\n",
    "        res = {}\n",
    "        for bins in digit_bins:\n",
    "            for dirs in max_dirs:\n",
    "                for noise in noise_lvl:\n",
    "                    dup_num, dup_in = [], []\n",
    "                    for ntrial in range(repeat):\n",
    "                        clone = ranked.copy()\n",
    "                        clone = clone[np.random.choice(clone.columns, dirs, replace=False)]\n",
    "                        clone += np.random.normal(0, noise, clone.values.shape)\n",
    "                        clone = clone.apply(lambda x: np.digitize(x, bins=np.linspace(0, 1, bins)))\n",
    "                        \n",
    "                        n_dups = clone.groupby(clone.columns.tolist()).size()\n",
    "                        dup_num.append(n_dups[n_dups > 1].sum())\n",
    "                        dup_in.append(n_dups[n_dups > 1].count())\n",
    "                        pgbar.update(1)\n",
    "                    res[(bins, dirs, noise)] = dict(value_space=min(bins**dirs, 2**99),\n",
    "                                                    dup_num_max=np.array(dup_num).max(), dup_num_mean=np.array(dup_num).mean(), \n",
    "                                                    dup_in_max=np.array(dup_in).max(), dup_in_mean=np.array(dup_in).mean())\n",
    "                    \n",
    "    return res"
   ]
  },
  {
   "cell_type": "code",
   "execution_count": 573,
   "id": "ba9256e1-6310-4bfd-aa98-f4274cdfda36",
   "metadata": {},
   "outputs": [
    {
     "data": {
      "text/html": [
       "<style type=\"text/css\">\n",
       "#T_a6f77 th {\n",
       "  vertical-align: top;\n",
       "  text-align: left;\n",
       "}\n",
       "</style>\n",
       "<table id=\"T_a6f77\">\n",
       "  <thead>\n",
       "    <tr>\n",
       "      <th class=\"index_name level0\" >#bins</th>\n",
       "      <th id=\"T_a6f77_level0_col0\" class=\"col_heading level0 col0\" colspan=\"7\">2</th>\n",
       "      <th id=\"T_a6f77_level0_col7\" class=\"col_heading level0 col7\" colspan=\"7\">11</th>\n",
       "      <th id=\"T_a6f77_level0_col14\" class=\"col_heading level0 col14\" colspan=\"7\">23</th>\n",
       "      <th id=\"T_a6f77_level0_col21\" class=\"col_heading level0 col21\" colspan=\"7\">116</th>\n",
       "      <th id=\"T_a6f77_level0_col28\" class=\"col_heading level0 col28\" colspan=\"7\">232</th>\n",
       "      <th id=\"T_a6f77_level0_col35\" class=\"col_heading level0 col35\" colspan=\"7\">1160</th>\n",
       "    </tr>\n",
       "    <tr>\n",
       "      <th class=\"index_name level1\" >#dims</th>\n",
       "      <th id=\"T_a6f77_level1_col0\" class=\"col_heading level1 col0\" >3</th>\n",
       "      <th id=\"T_a6f77_level1_col1\" class=\"col_heading level1 col1\" >5</th>\n",
       "      <th id=\"T_a6f77_level1_col2\" class=\"col_heading level1 col2\" >10</th>\n",
       "      <th id=\"T_a6f77_level1_col3\" class=\"col_heading level1 col3\" >20</th>\n",
       "      <th id=\"T_a6f77_level1_col4\" class=\"col_heading level1 col4\" >50</th>\n",
       "      <th id=\"T_a6f77_level1_col5\" class=\"col_heading level1 col5\" >100</th>\n",
       "      <th id=\"T_a6f77_level1_col6\" class=\"col_heading level1 col6\" >200</th>\n",
       "      <th id=\"T_a6f77_level1_col7\" class=\"col_heading level1 col7\" >3</th>\n",
       "      <th id=\"T_a6f77_level1_col8\" class=\"col_heading level1 col8\" >5</th>\n",
       "      <th id=\"T_a6f77_level1_col9\" class=\"col_heading level1 col9\" >10</th>\n",
       "      <th id=\"T_a6f77_level1_col10\" class=\"col_heading level1 col10\" >20</th>\n",
       "      <th id=\"T_a6f77_level1_col11\" class=\"col_heading level1 col11\" >50</th>\n",
       "      <th id=\"T_a6f77_level1_col12\" class=\"col_heading level1 col12\" >100</th>\n",
       "      <th id=\"T_a6f77_level1_col13\" class=\"col_heading level1 col13\" >200</th>\n",
       "      <th id=\"T_a6f77_level1_col14\" class=\"col_heading level1 col14\" >3</th>\n",
       "      <th id=\"T_a6f77_level1_col15\" class=\"col_heading level1 col15\" >5</th>\n",
       "      <th id=\"T_a6f77_level1_col16\" class=\"col_heading level1 col16\" >10</th>\n",
       "      <th id=\"T_a6f77_level1_col17\" class=\"col_heading level1 col17\" >20</th>\n",
       "      <th id=\"T_a6f77_level1_col18\" class=\"col_heading level1 col18\" >50</th>\n",
       "      <th id=\"T_a6f77_level1_col19\" class=\"col_heading level1 col19\" >100</th>\n",
       "      <th id=\"T_a6f77_level1_col20\" class=\"col_heading level1 col20\" >200</th>\n",
       "      <th id=\"T_a6f77_level1_col21\" class=\"col_heading level1 col21\" >3</th>\n",
       "      <th id=\"T_a6f77_level1_col22\" class=\"col_heading level1 col22\" >5</th>\n",
       "      <th id=\"T_a6f77_level1_col23\" class=\"col_heading level1 col23\" >10</th>\n",
       "      <th id=\"T_a6f77_level1_col24\" class=\"col_heading level1 col24\" >20</th>\n",
       "      <th id=\"T_a6f77_level1_col25\" class=\"col_heading level1 col25\" >50</th>\n",
       "      <th id=\"T_a6f77_level1_col26\" class=\"col_heading level1 col26\" >100</th>\n",
       "      <th id=\"T_a6f77_level1_col27\" class=\"col_heading level1 col27\" >200</th>\n",
       "      <th id=\"T_a6f77_level1_col28\" class=\"col_heading level1 col28\" >3</th>\n",
       "      <th id=\"T_a6f77_level1_col29\" class=\"col_heading level1 col29\" >5</th>\n",
       "      <th id=\"T_a6f77_level1_col30\" class=\"col_heading level1 col30\" >10</th>\n",
       "      <th id=\"T_a6f77_level1_col31\" class=\"col_heading level1 col31\" >20</th>\n",
       "      <th id=\"T_a6f77_level1_col32\" class=\"col_heading level1 col32\" >50</th>\n",
       "      <th id=\"T_a6f77_level1_col33\" class=\"col_heading level1 col33\" >100</th>\n",
       "      <th id=\"T_a6f77_level1_col34\" class=\"col_heading level1 col34\" >200</th>\n",
       "      <th id=\"T_a6f77_level1_col35\" class=\"col_heading level1 col35\" >3</th>\n",
       "      <th id=\"T_a6f77_level1_col36\" class=\"col_heading level1 col36\" >5</th>\n",
       "      <th id=\"T_a6f77_level1_col37\" class=\"col_heading level1 col37\" >10</th>\n",
       "      <th id=\"T_a6f77_level1_col38\" class=\"col_heading level1 col38\" >20</th>\n",
       "      <th id=\"T_a6f77_level1_col39\" class=\"col_heading level1 col39\" >50</th>\n",
       "      <th id=\"T_a6f77_level1_col40\" class=\"col_heading level1 col40\" >100</th>\n",
       "      <th id=\"T_a6f77_level1_col41\" class=\"col_heading level1 col41\" >200</th>\n",
       "    </tr>\n",
       "    <tr>\n",
       "      <th class=\"index_name level2\" >noise</th>\n",
       "      <th id=\"T_a6f77_level2_col0\" class=\"col_heading level2 col0\" >0</th>\n",
       "      <th id=\"T_a6f77_level2_col1\" class=\"col_heading level2 col1\" >0</th>\n",
       "      <th id=\"T_a6f77_level2_col2\" class=\"col_heading level2 col2\" >0</th>\n",
       "      <th id=\"T_a6f77_level2_col3\" class=\"col_heading level2 col3\" >0</th>\n",
       "      <th id=\"T_a6f77_level2_col4\" class=\"col_heading level2 col4\" >0</th>\n",
       "      <th id=\"T_a6f77_level2_col5\" class=\"col_heading level2 col5\" >0</th>\n",
       "      <th id=\"T_a6f77_level2_col6\" class=\"col_heading level2 col6\" >0</th>\n",
       "      <th id=\"T_a6f77_level2_col7\" class=\"col_heading level2 col7\" >0</th>\n",
       "      <th id=\"T_a6f77_level2_col8\" class=\"col_heading level2 col8\" >0</th>\n",
       "      <th id=\"T_a6f77_level2_col9\" class=\"col_heading level2 col9\" >0</th>\n",
       "      <th id=\"T_a6f77_level2_col10\" class=\"col_heading level2 col10\" >0</th>\n",
       "      <th id=\"T_a6f77_level2_col11\" class=\"col_heading level2 col11\" >0</th>\n",
       "      <th id=\"T_a6f77_level2_col12\" class=\"col_heading level2 col12\" >0</th>\n",
       "      <th id=\"T_a6f77_level2_col13\" class=\"col_heading level2 col13\" >0</th>\n",
       "      <th id=\"T_a6f77_level2_col14\" class=\"col_heading level2 col14\" >0</th>\n",
       "      <th id=\"T_a6f77_level2_col15\" class=\"col_heading level2 col15\" >0</th>\n",
       "      <th id=\"T_a6f77_level2_col16\" class=\"col_heading level2 col16\" >0</th>\n",
       "      <th id=\"T_a6f77_level2_col17\" class=\"col_heading level2 col17\" >0</th>\n",
       "      <th id=\"T_a6f77_level2_col18\" class=\"col_heading level2 col18\" >0</th>\n",
       "      <th id=\"T_a6f77_level2_col19\" class=\"col_heading level2 col19\" >0</th>\n",
       "      <th id=\"T_a6f77_level2_col20\" class=\"col_heading level2 col20\" >0</th>\n",
       "      <th id=\"T_a6f77_level2_col21\" class=\"col_heading level2 col21\" >0</th>\n",
       "      <th id=\"T_a6f77_level2_col22\" class=\"col_heading level2 col22\" >0</th>\n",
       "      <th id=\"T_a6f77_level2_col23\" class=\"col_heading level2 col23\" >0</th>\n",
       "      <th id=\"T_a6f77_level2_col24\" class=\"col_heading level2 col24\" >0</th>\n",
       "      <th id=\"T_a6f77_level2_col25\" class=\"col_heading level2 col25\" >0</th>\n",
       "      <th id=\"T_a6f77_level2_col26\" class=\"col_heading level2 col26\" >0</th>\n",
       "      <th id=\"T_a6f77_level2_col27\" class=\"col_heading level2 col27\" >0</th>\n",
       "      <th id=\"T_a6f77_level2_col28\" class=\"col_heading level2 col28\" >0</th>\n",
       "      <th id=\"T_a6f77_level2_col29\" class=\"col_heading level2 col29\" >0</th>\n",
       "      <th id=\"T_a6f77_level2_col30\" class=\"col_heading level2 col30\" >0</th>\n",
       "      <th id=\"T_a6f77_level2_col31\" class=\"col_heading level2 col31\" >0</th>\n",
       "      <th id=\"T_a6f77_level2_col32\" class=\"col_heading level2 col32\" >0</th>\n",
       "      <th id=\"T_a6f77_level2_col33\" class=\"col_heading level2 col33\" >0</th>\n",
       "      <th id=\"T_a6f77_level2_col34\" class=\"col_heading level2 col34\" >0</th>\n",
       "      <th id=\"T_a6f77_level2_col35\" class=\"col_heading level2 col35\" >0</th>\n",
       "      <th id=\"T_a6f77_level2_col36\" class=\"col_heading level2 col36\" >0</th>\n",
       "      <th id=\"T_a6f77_level2_col37\" class=\"col_heading level2 col37\" >0</th>\n",
       "      <th id=\"T_a6f77_level2_col38\" class=\"col_heading level2 col38\" >0</th>\n",
       "      <th id=\"T_a6f77_level2_col39\" class=\"col_heading level2 col39\" >0</th>\n",
       "      <th id=\"T_a6f77_level2_col40\" class=\"col_heading level2 col40\" >0</th>\n",
       "      <th id=\"T_a6f77_level2_col41\" class=\"col_heading level2 col41\" >0</th>\n",
       "    </tr>\n",
       "  </thead>\n",
       "  <tbody>\n",
       "    <tr>\n",
       "      <th id=\"T_a6f77_level0_row0\" class=\"row_heading level0 row0\" >value_fill</th>\n",
       "      <td id=\"T_a6f77_row0_col0\" class=\"data row0 col0\" >50.00%</td>\n",
       "      <td id=\"T_a6f77_row0_col1\" class=\"data row0 col1\" >18.75%</td>\n",
       "      <td id=\"T_a6f77_row0_col2\" class=\"data row0 col2\" >1.08%</td>\n",
       "      <td id=\"T_a6f77_row0_col3\" class=\"data row0 col3\" >0.00%</td>\n",
       "      <td id=\"T_a6f77_row0_col4\" class=\"data row0 col4\" >0.00%</td>\n",
       "      <td id=\"T_a6f77_row0_col5\" class=\"data row0 col5\" >0.00%</td>\n",
       "      <td id=\"T_a6f77_row0_col6\" class=\"data row0 col6\" >0.00%</td>\n",
       "      <td id=\"T_a6f77_row0_col7\" class=\"data row0 col7\" >74.78%</td>\n",
       "      <td id=\"T_a6f77_row0_col8\" class=\"data row0 col8\" >0.76%</td>\n",
       "      <td id=\"T_a6f77_row0_col9\" class=\"data row0 col9\" >0.00%</td>\n",
       "      <td id=\"T_a6f77_row0_col10\" class=\"data row0 col10\" >0.00%</td>\n",
       "      <td id=\"T_a6f77_row0_col11\" class=\"data row0 col11\" >0.00%</td>\n",
       "      <td id=\"T_a6f77_row0_col12\" class=\"data row0 col12\" >0.00%</td>\n",
       "      <td id=\"T_a6f77_row0_col13\" class=\"data row0 col13\" >0.00%</td>\n",
       "      <td id=\"T_a6f77_row0_col14\" class=\"data row0 col14\" >25.10%</td>\n",
       "      <td id=\"T_a6f77_row0_col15\" class=\"data row0 col15\" >0.01%</td>\n",
       "      <td id=\"T_a6f77_row0_col16\" class=\"data row0 col16\" >0.00%</td>\n",
       "      <td id=\"T_a6f77_row0_col17\" class=\"data row0 col17\" >0.00%</td>\n",
       "      <td id=\"T_a6f77_row0_col18\" class=\"data row0 col18\" >0.00%</td>\n",
       "      <td id=\"T_a6f77_row0_col19\" class=\"data row0 col19\" >0.00%</td>\n",
       "      <td id=\"T_a6f77_row0_col20\" class=\"data row0 col20\" >0.00%</td>\n",
       "      <td id=\"T_a6f77_row0_col21\" class=\"data row0 col21\" >0.02%</td>\n",
       "      <td id=\"T_a6f77_row0_col22\" class=\"data row0 col22\" >0.00%</td>\n",
       "      <td id=\"T_a6f77_row0_col23\" class=\"data row0 col23\" >0.00%</td>\n",
       "      <td id=\"T_a6f77_row0_col24\" class=\"data row0 col24\" >0.00%</td>\n",
       "      <td id=\"T_a6f77_row0_col25\" class=\"data row0 col25\" >0.00%</td>\n",
       "      <td id=\"T_a6f77_row0_col26\" class=\"data row0 col26\" >0.00%</td>\n",
       "      <td id=\"T_a6f77_row0_col27\" class=\"data row0 col27\" >0.00%</td>\n",
       "      <td id=\"T_a6f77_row0_col28\" class=\"data row0 col28\" >0.00%</td>\n",
       "      <td id=\"T_a6f77_row0_col29\" class=\"data row0 col29\" >0.00%</td>\n",
       "      <td id=\"T_a6f77_row0_col30\" class=\"data row0 col30\" >0.00%</td>\n",
       "      <td id=\"T_a6f77_row0_col31\" class=\"data row0 col31\" >0.00%</td>\n",
       "      <td id=\"T_a6f77_row0_col32\" class=\"data row0 col32\" >0.00%</td>\n",
       "      <td id=\"T_a6f77_row0_col33\" class=\"data row0 col33\" >0.00%</td>\n",
       "      <td id=\"T_a6f77_row0_col34\" class=\"data row0 col34\" >0.00%</td>\n",
       "      <td id=\"T_a6f77_row0_col35\" class=\"data row0 col35\" >0.00%</td>\n",
       "      <td id=\"T_a6f77_row0_col36\" class=\"data row0 col36\" >0.00%</td>\n",
       "      <td id=\"T_a6f77_row0_col37\" class=\"data row0 col37\" >0.00%</td>\n",
       "      <td id=\"T_a6f77_row0_col38\" class=\"data row0 col38\" >0.00%</td>\n",
       "      <td id=\"T_a6f77_row0_col39\" class=\"data row0 col39\" >0.00%</td>\n",
       "      <td id=\"T_a6f77_row0_col40\" class=\"data row0 col40\" >0.00%</td>\n",
       "      <td id=\"T_a6f77_row0_col41\" class=\"data row0 col41\" >0.00%</td>\n",
       "    </tr>\n",
       "    <tr>\n",
       "      <th id=\"T_a6f77_level0_row1\" class=\"row_heading level0 row1\" >dup_perc</th>\n",
       "      <td id=\"T_a6f77_row1_col0\" class=\"data row1 col0\" >100.00%</td>\n",
       "      <td id=\"T_a6f77_row1_col1\" class=\"data row1 col1\" >100.00%</td>\n",
       "      <td id=\"T_a6f77_row1_col2\" class=\"data row1 col2\" >100.00%</td>\n",
       "      <td id=\"T_a6f77_row1_col3\" class=\"data row1 col3\" >100.00%</td>\n",
       "      <td id=\"T_a6f77_row1_col4\" class=\"data row1 col4\" >99.97%</td>\n",
       "      <td id=\"T_a6f77_row1_col5\" class=\"data row1 col5\" >99.88%</td>\n",
       "      <td id=\"T_a6f77_row1_col6\" class=\"data row1 col6\" >99.55%</td>\n",
       "      <td id=\"T_a6f77_row1_col7\" class=\"data row1 col7\" >99.85%</td>\n",
       "      <td id=\"T_a6f77_row1_col8\" class=\"data row1 col8\" >24.91%</td>\n",
       "      <td id=\"T_a6f77_row1_col9\" class=\"data row1 col9\" >10.18%</td>\n",
       "      <td id=\"T_a6f77_row1_col10\" class=\"data row1 col10\" >7.41%</td>\n",
       "      <td id=\"T_a6f77_row1_col11\" class=\"data row1 col11\" >5.46%</td>\n",
       "      <td id=\"T_a6f77_row1_col12\" class=\"data row1 col12\" >4.80%</td>\n",
       "      <td id=\"T_a6f77_row1_col13\" class=\"data row1 col13\" >4.36%</td>\n",
       "      <td id=\"T_a6f77_row1_col14\" class=\"data row1 col14\" >68.98%</td>\n",
       "      <td id=\"T_a6f77_row1_col15\" class=\"data row1 col15\" >9.79%</td>\n",
       "      <td id=\"T_a6f77_row1_col16\" class=\"data row1 col16\" >6.90%</td>\n",
       "      <td id=\"T_a6f77_row1_col17\" class=\"data row1 col17\" >5.58%</td>\n",
       "      <td id=\"T_a6f77_row1_col18\" class=\"data row1 col18\" >4.72%</td>\n",
       "      <td id=\"T_a6f77_row1_col19\" class=\"data row1 col19\" >4.18%</td>\n",
       "      <td id=\"T_a6f77_row1_col20\" class=\"data row1 col20\" >3.44%</td>\n",
       "      <td id=\"T_a6f77_row1_col21\" class=\"data row1 col21\" >6.85%</td>\n",
       "      <td id=\"T_a6f77_row1_col22\" class=\"data row1 col22\" >5.25%</td>\n",
       "      <td id=\"T_a6f77_row1_col23\" class=\"data row1 col23\" >4.67%</td>\n",
       "      <td id=\"T_a6f77_row1_col24\" class=\"data row1 col24\" >4.23%</td>\n",
       "      <td id=\"T_a6f77_row1_col25\" class=\"data row1 col25\" >3.19%</td>\n",
       "      <td id=\"T_a6f77_row1_col26\" class=\"data row1 col26\" >1.94%</td>\n",
       "      <td id=\"T_a6f77_row1_col27\" class=\"data row1 col27\" >0.67%</td>\n",
       "      <td id=\"T_a6f77_row1_col28\" class=\"data row1 col28\" >5.25%</td>\n",
       "      <td id=\"T_a6f77_row1_col29\" class=\"data row1 col29\" >4.72%</td>\n",
       "      <td id=\"T_a6f77_row1_col30\" class=\"data row1 col30\" >4.23%</td>\n",
       "      <td id=\"T_a6f77_row1_col31\" class=\"data row1 col31\" >3.52%</td>\n",
       "      <td id=\"T_a6f77_row1_col32\" class=\"data row1 col32\" >1.89%</td>\n",
       "      <td id=\"T_a6f77_row1_col33\" class=\"data row1 col33\" >0.65%</td>\n",
       "      <td id=\"T_a6f77_row1_col34\" class=\"data row1 col34\" >0.09%</td>\n",
       "      <td id=\"T_a6f77_row1_col35\" class=\"data row1 col35\" >3.97%</td>\n",
       "      <td id=\"T_a6f77_row1_col36\" class=\"data row1 col36\" >3.42%</td>\n",
       "      <td id=\"T_a6f77_row1_col37\" class=\"data row1 col37\" >2.11%</td>\n",
       "      <td id=\"T_a6f77_row1_col38\" class=\"data row1 col38\" >0.79%</td>\n",
       "      <td id=\"T_a6f77_row1_col39\" class=\"data row1 col39\" >0.05%</td>\n",
       "      <td id=\"T_a6f77_row1_col40\" class=\"data row1 col40\" >0.00%</td>\n",
       "      <td id=\"T_a6f77_row1_col41\" class=\"data row1 col41\" >0.00%</td>\n",
       "    </tr>\n",
       "  </tbody>\n",
       "</table>\n"
      ],
      "text/plain": [
       "<pandas.io.formats.style.Styler at 0x7f8de9f67eb0>"
      ]
     },
     "execution_count": 573,
     "metadata": {},
     "output_type": "execute_result"
    }
   ],
   "source": [
    "nbins = [len(clone)//5000, len(clone)//1000, len(clone)//500, len(clone)//100,  len(clone)//50, len(clone)//10]\n",
    "ndims = [3, 5, 10, 20, 50, 100, 200]\n",
    "noise = [0]\n",
    "\n",
    "res = count_dups(ranked, nbins, ndims, noise_lvl=noise, repeat=20)\n",
    "#display(pd.DataFrame(res, columns=pd.MultiIndex.from_arrays(list(zip(*res.keys())), names=[\"#bins\", \"#dims\", \"noise\"])))\n",
    "res = {k: dict(value_fill = v[\"dup_in_mean\"]/v[\"value_space\"], dup_perc = v[\"dup_num_mean\"]/len(clone)) for k, v in res.items()}\n",
    "\n",
    "styles = [{'selector': 'th', 'props': [('vertical-align','top'),('text-align','left')]}]  \n",
    "styler = lambda df: df.style.format('{:.2%}'.format).set_table_styles(styles) \n",
    "df = pd.DataFrame(res, columns=pd.MultiIndex.from_arrays(list(zip(*res.keys())), names=[\"#bins\", \"#dims\", \"noise\"]))\n",
    "styler(df)"
   ]
  },
  {
   "cell_type": "code",
   "execution_count": 578,
   "id": "fae659da-8204-44c6-9186-4da307723903",
   "metadata": {},
   "outputs": [
    {
     "data": {
      "text/html": [
       "<style type=\"text/css\">\n",
       "#T_2dd06 th {\n",
       "  vertical-align: top;\n",
       "  text-align: left;\n",
       "}\n",
       "</style>\n",
       "<table id=\"T_2dd06\">\n",
       "  <thead>\n",
       "    <tr>\n",
       "      <th class=\"blank level0\" >&nbsp;</th>\n",
       "      <th id=\"T_2dd06_level0_col0\" class=\"col_heading level0 col0\" colspan=\"6\">dup_perc</th>\n",
       "    </tr>\n",
       "    <tr>\n",
       "      <th class=\"index_name level1\" >#bins</th>\n",
       "      <th id=\"T_2dd06_level1_col0\" class=\"col_heading level1 col0\" >2</th>\n",
       "      <th id=\"T_2dd06_level1_col1\" class=\"col_heading level1 col1\" >11</th>\n",
       "      <th id=\"T_2dd06_level1_col2\" class=\"col_heading level1 col2\" >23</th>\n",
       "      <th id=\"T_2dd06_level1_col3\" class=\"col_heading level1 col3\" >116</th>\n",
       "      <th id=\"T_2dd06_level1_col4\" class=\"col_heading level1 col4\" >232</th>\n",
       "      <th id=\"T_2dd06_level1_col5\" class=\"col_heading level1 col5\" >1160</th>\n",
       "    </tr>\n",
       "    <tr>\n",
       "      <th class=\"index_name level0\" >#dims</th>\n",
       "      <th class=\"blank col0\" >&nbsp;</th>\n",
       "      <th class=\"blank col1\" >&nbsp;</th>\n",
       "      <th class=\"blank col2\" >&nbsp;</th>\n",
       "      <th class=\"blank col3\" >&nbsp;</th>\n",
       "      <th class=\"blank col4\" >&nbsp;</th>\n",
       "      <th class=\"blank col5\" >&nbsp;</th>\n",
       "    </tr>\n",
       "  </thead>\n",
       "  <tbody>\n",
       "    <tr>\n",
       "      <th id=\"T_2dd06_level0_row0\" class=\"row_heading level0 row0\" >3</th>\n",
       "      <td id=\"T_2dd06_row0_col0\" class=\"data row0 col0\" >100.00%</td>\n",
       "      <td id=\"T_2dd06_row0_col1\" class=\"data row0 col1\" >99.85%</td>\n",
       "      <td id=\"T_2dd06_row0_col2\" class=\"data row0 col2\" >68.98%</td>\n",
       "      <td id=\"T_2dd06_row0_col3\" class=\"data row0 col3\" >6.85%</td>\n",
       "      <td id=\"T_2dd06_row0_col4\" class=\"data row0 col4\" >5.25%</td>\n",
       "      <td id=\"T_2dd06_row0_col5\" class=\"data row0 col5\" >3.97%</td>\n",
       "    </tr>\n",
       "    <tr>\n",
       "      <th id=\"T_2dd06_level0_row1\" class=\"row_heading level0 row1\" >5</th>\n",
       "      <td id=\"T_2dd06_row1_col0\" class=\"data row1 col0\" >100.00%</td>\n",
       "      <td id=\"T_2dd06_row1_col1\" class=\"data row1 col1\" >24.91%</td>\n",
       "      <td id=\"T_2dd06_row1_col2\" class=\"data row1 col2\" >9.79%</td>\n",
       "      <td id=\"T_2dd06_row1_col3\" class=\"data row1 col3\" >5.25%</td>\n",
       "      <td id=\"T_2dd06_row1_col4\" class=\"data row1 col4\" >4.72%</td>\n",
       "      <td id=\"T_2dd06_row1_col5\" class=\"data row1 col5\" >3.42%</td>\n",
       "    </tr>\n",
       "    <tr>\n",
       "      <th id=\"T_2dd06_level0_row2\" class=\"row_heading level0 row2\" >10</th>\n",
       "      <td id=\"T_2dd06_row2_col0\" class=\"data row2 col0\" >100.00%</td>\n",
       "      <td id=\"T_2dd06_row2_col1\" class=\"data row2 col1\" >10.18%</td>\n",
       "      <td id=\"T_2dd06_row2_col2\" class=\"data row2 col2\" >6.90%</td>\n",
       "      <td id=\"T_2dd06_row2_col3\" class=\"data row2 col3\" >4.67%</td>\n",
       "      <td id=\"T_2dd06_row2_col4\" class=\"data row2 col4\" >4.23%</td>\n",
       "      <td id=\"T_2dd06_row2_col5\" class=\"data row2 col5\" >2.11%</td>\n",
       "    </tr>\n",
       "    <tr>\n",
       "      <th id=\"T_2dd06_level0_row3\" class=\"row_heading level0 row3\" >20</th>\n",
       "      <td id=\"T_2dd06_row3_col0\" class=\"data row3 col0\" >100.00%</td>\n",
       "      <td id=\"T_2dd06_row3_col1\" class=\"data row3 col1\" >7.41%</td>\n",
       "      <td id=\"T_2dd06_row3_col2\" class=\"data row3 col2\" >5.58%</td>\n",
       "      <td id=\"T_2dd06_row3_col3\" class=\"data row3 col3\" >4.23%</td>\n",
       "      <td id=\"T_2dd06_row3_col4\" class=\"data row3 col4\" >3.52%</td>\n",
       "      <td id=\"T_2dd06_row3_col5\" class=\"data row3 col5\" >0.79%</td>\n",
       "    </tr>\n",
       "    <tr>\n",
       "      <th id=\"T_2dd06_level0_row4\" class=\"row_heading level0 row4\" >50</th>\n",
       "      <td id=\"T_2dd06_row4_col0\" class=\"data row4 col0\" >99.97%</td>\n",
       "      <td id=\"T_2dd06_row4_col1\" class=\"data row4 col1\" >5.46%</td>\n",
       "      <td id=\"T_2dd06_row4_col2\" class=\"data row4 col2\" >4.72%</td>\n",
       "      <td id=\"T_2dd06_row4_col3\" class=\"data row4 col3\" >3.19%</td>\n",
       "      <td id=\"T_2dd06_row4_col4\" class=\"data row4 col4\" >1.89%</td>\n",
       "      <td id=\"T_2dd06_row4_col5\" class=\"data row4 col5\" >0.05%</td>\n",
       "    </tr>\n",
       "    <tr>\n",
       "      <th id=\"T_2dd06_level0_row5\" class=\"row_heading level0 row5\" >100</th>\n",
       "      <td id=\"T_2dd06_row5_col0\" class=\"data row5 col0\" >99.88%</td>\n",
       "      <td id=\"T_2dd06_row5_col1\" class=\"data row5 col1\" >4.80%</td>\n",
       "      <td id=\"T_2dd06_row5_col2\" class=\"data row5 col2\" >4.18%</td>\n",
       "      <td id=\"T_2dd06_row5_col3\" class=\"data row5 col3\" >1.94%</td>\n",
       "      <td id=\"T_2dd06_row5_col4\" class=\"data row5 col4\" >0.65%</td>\n",
       "      <td id=\"T_2dd06_row5_col5\" class=\"data row5 col5\" >0.00%</td>\n",
       "    </tr>\n",
       "    <tr>\n",
       "      <th id=\"T_2dd06_level0_row6\" class=\"row_heading level0 row6\" >200</th>\n",
       "      <td id=\"T_2dd06_row6_col0\" class=\"data row6 col0\" >99.55%</td>\n",
       "      <td id=\"T_2dd06_row6_col1\" class=\"data row6 col1\" >4.36%</td>\n",
       "      <td id=\"T_2dd06_row6_col2\" class=\"data row6 col2\" >3.44%</td>\n",
       "      <td id=\"T_2dd06_row6_col3\" class=\"data row6 col3\" >0.67%</td>\n",
       "      <td id=\"T_2dd06_row6_col4\" class=\"data row6 col4\" >0.09%</td>\n",
       "      <td id=\"T_2dd06_row6_col5\" class=\"data row6 col5\" >0.00%</td>\n",
       "    </tr>\n",
       "  </tbody>\n",
       "</table>\n"
      ],
      "text/plain": [
       "<pandas.io.formats.style.Styler at 0x7f8de9f3cac0>"
      ]
     },
     "execution_count": 578,
     "metadata": {},
     "output_type": "execute_result"
    }
   ],
   "source": [
    "df = pd.DataFrame({k[:2]:v[\"dup_perc\"] for k,v in res.items()}, columns=pd.MultiIndex.from_arrays(list(zip(*res.keys()))[:2], names=[\"#bins\", \"#dims\"]), index=[\"dup_perc\"])\n",
    "df = df.T.unstack(level=[0])\n",
    "styler(df)"
   ]
  },
  {
   "cell_type": "code",
   "execution_count": 591,
   "id": "a9c90fb6-ce41-4f2f-bdb3-17ec88e5e72a",
   "metadata": {},
   "outputs": [],
   "source": [
    "pyperclip.copy(df_to_latex(df, styler, rotate=False, caption=\"This algorithm on Placetypes\"), multi_ind=False)"
   ]
  },
  {
   "cell_type": "code",
   "execution_count": null,
   "id": "f92ea80a-e999-4a6f-9b9c-633a48ebba5c",
   "metadata": {},
   "outputs": [],
   "source": []
  },
  {
   "cell_type": "markdown",
   "id": "1572d7ef-3ea5-4a0b-86dc-7e452cd84e7b",
   "metadata": {},
   "source": [
    "<br><br><br><br><br><br>"
   ]
  },
  {
   "cell_type": "code",
   "execution_count": null,
   "id": "82f4fb7c-06c1-47fd-bcf8-eaaaa05da2ce",
   "metadata": {},
   "outputs": [],
   "source": []
  },
  {
   "cell_type": "markdown",
   "id": "862a3efc-4ac6-4b84-8196-0c2cddd15c36",
   "metadata": {},
   "source": [
    "## Analyzing what becomes duplicates may reveal actual duplicate courses!"
   ]
  },
  {
   "cell_type": "code",
   "execution_count": null,
   "id": "4d0b1561-d676-4868-ab6f-692336ea2202",
   "metadata": {},
   "outputs": [],
   "source": [
    "max_dirs, digit_bins = 3, len(clone)//500\n",
    "print(\"n-cats:\", digit_bins)\n",
    "res = []\n",
    "for _ in range(100):\n",
    "    targets = [0]*len(clone)\n",
    "    targets[i] = 1\n",
    "    clf = DecisionTreeClassifier()\n",
    "    clf.fit(clone.values, targets)\n",
    "    result = clf.predict(clone.values)\n",
    "    res.append((result == targets).all())\n",
    "np.array(res).mean()"
   ]
  },
  {
   "cell_type": "code",
   "execution_count": 437,
   "id": "6fc69aba-c16c-49d2-9e14-89b1d5049063",
   "metadata": {},
   "outputs": [
    {
     "data": {
      "text/markdown": [
       "<span style=\"font-size:11pt\">Duplicates: 8093 (69.76%) entities share 2990 values (value-space 24.57% filled)</span>"
      ],
      "text/plain": [
       "<IPython.core.display.Markdown object>"
      ]
     },
     "metadata": {},
     "output_type": "display_data"
    },
    {
     "data": {
      "text/html": [
       "<div>\n",
       "<style scoped>\n",
       "    .dataframe tbody tr th:only-of-type {\n",
       "        vertical-align: middle;\n",
       "    }\n",
       "\n",
       "    .dataframe tbody tr th {\n",
       "        vertical-align: top;\n",
       "    }\n",
       "\n",
       "    .dataframe thead th {\n",
       "        text-align: right;\n",
       "    }\n",
       "</style>\n",
       "<table border=\"1\" class=\"dataframe\">\n",
       "  <thead>\n",
       "    <tr style=\"text-align: right;\">\n",
       "      <th></th>\n",
       "      <th>strukturierten</th>\n",
       "      <th>internationales</th>\n",
       "      <th>1950er</th>\n",
       "    </tr>\n",
       "  </thead>\n",
       "  <tbody>\n",
       "    <tr>\n",
       "      <th>!! FÄLLT AUS !! Anna Seghers: Das siebte Kreuz (1942)</th>\n",
       "      <td>2</td>\n",
       "      <td>15</td>\n",
       "      <td>18</td>\n",
       "    </tr>\n",
       "    <tr>\n",
       "      <th>Anna Seghers: Das siebte Kreuz (1942)</th>\n",
       "      <td>2</td>\n",
       "      <td>15</td>\n",
       "      <td>18</td>\n",
       "    </tr>\n",
       "    <tr>\n",
       "      <th>Anna Seghers: Das siebte Kreuz (1942) (NDL 2)</th>\n",
       "      <td>2</td>\n",
       "      <td>15</td>\n",
       "      <td>18</td>\n",
       "    </tr>\n",
       "    <tr>\n",
       "      <th>Friedrich Hebbel: Agnes Bernauer (1852)</th>\n",
       "      <td>2</td>\n",
       "      <td>15</td>\n",
       "      <td>18</td>\n",
       "    </tr>\n",
       "  </tbody>\n",
       "</table>\n",
       "</div>"
      ],
      "text/plain": [
       "                                                    strukturierten  \\\n",
       "!! FÄLLT AUS !! Anna Seghers: Das siebte Kreuz ...               2   \n",
       "Anna Seghers: Das siebte Kreuz (1942)                            2   \n",
       "Anna Seghers: Das siebte Kreuz (1942) (NDL 2)                    2   \n",
       "Friedrich Hebbel: Agnes Bernauer (1852)                          2   \n",
       "\n",
       "                                                    internationales  1950er  \n",
       "!! FÄLLT AUS !! Anna Seghers: Das siebte Kreuz ...               15      18  \n",
       "Anna Seghers: Das siebte Kreuz (1942)                            15      18  \n",
       "Anna Seghers: Das siebte Kreuz (1942) (NDL 2)                    15      18  \n",
       "Friedrich Hebbel: Agnes Bernauer (1852)                          15      18  "
      ]
     },
     "metadata": {},
     "output_type": "display_data"
    }
   ],
   "source": [
    "n_dups = clone.groupby(clone.columns.tolist()).size()\n",
    "dup_num, dup_in = n_dups[n_dups > 1].sum(), n_dups[n_dups > 1].count()\n",
    "print(f\"Duplicates: {dup_num} ({dup_num/len(clone):.2%}) entities share {dup_in} values (value-space {dup_in/(digit_bins**max_dirs):.2%} filled)\")\n",
    "\n",
    "display(clone[(clone == (clone.iloc[np.argmax(np.array(targets))].values)).all(axis=1)])"
   ]
  }
 ],
 "metadata": {
  "kernelspec": {
   "display_name": "Python 3 (ipykernel)",
   "language": "python",
   "name": "python3"
  },
  "language_info": {
   "codemirror_mode": {
    "name": "ipython",
    "version": 3
   },
   "file_extension": ".py",
   "mimetype": "text/x-python",
   "name": "python",
   "nbconvert_exporter": "python",
   "pygments_lexer": "ipython3",
   "version": "3.10.0"
  },
  "widgets": {
   "application/vnd.jupyter.widget-state+json": {
    "state": {
     "002981e2738d4c81941eead0055ddb89": {
      "model_module": "@jupyter-widgets/controls",
      "model_module_version": "1.5.0",
      "model_name": "HTMLModel",
      "state": {
       "layout": "IPY_MODEL_92a66d46626f483b8666bc21af147a00",
       "style": "IPY_MODEL_51a2cf36b06c4ce78d9cc1b21115c444",
       "value": "100%"
      }
     },
     "0049e2db3c764fada1f48d4bab3937ce": {
      "model_module": "@jupyter-widgets/controls",
      "model_module_version": "1.5.0",
      "model_name": "ProgressStyleModel",
      "state": {
       "description_width": ""
      }
     },
     "0067034262ec42f0aaea50cbe2424aef": {
      "model_module": "@jupyter-widgets/controls",
      "model_module_version": "1.5.0",
      "model_name": "DescriptionStyleModel",
      "state": {
       "description_width": ""
      }
     },
     "008754d3bc1d4b8cafe4c72660e933cd": {
      "model_module": "@jupyter-widgets/controls",
      "model_module_version": "1.5.0",
      "model_name": "DescriptionStyleModel",
      "state": {
       "description_width": ""
      }
     },
     "00a3a89183ed47e2bc61f953b7e02f29": {
      "model_module": "@jupyter-widgets/base",
      "model_module_version": "1.2.0",
      "model_name": "LayoutModel",
      "state": {}
     },
     "00db31c6ed014871b2319fc03af612ee": {
      "model_module": "@jupyter-widgets/controls",
      "model_module_version": "1.5.0",
      "model_name": "ProgressStyleModel",
      "state": {
       "description_width": ""
      }
     },
     "0121c77e25db417e98e3ab6ddfd329c9": {
      "model_module": "@jupyter-widgets/controls",
      "model_module_version": "1.5.0",
      "model_name": "DescriptionStyleModel",
      "state": {
       "description_width": ""
      }
     },
     "0184bb5f457e466e9c66a66bca4120ea": {
      "model_module": "@jupyter-widgets/controls",
      "model_module_version": "1.5.0",
      "model_name": "FloatProgressModel",
      "state": {
       "bar_style": "danger",
       "layout": "IPY_MODEL_ffd068d35d964c929d89719afed8aa5f",
       "max": 40,
       "style": "IPY_MODEL_a8498f6a96f6492986bea17cd57a01ae",
       "value": 10
      }
     },
     "022a8d9dba794c2493a1e4f1b96518a8": {
      "model_module": "@jupyter-widgets/controls",
      "model_module_version": "1.5.0",
      "model_name": "HTMLModel",
      "state": {
       "layout": "IPY_MODEL_fd510a29706846d9bf79fcaf5502c20e",
       "style": "IPY_MODEL_1bd4601d177f4193b77c22c381537233",
       "value": "100%"
      }
     },
     "02888cf64b0a446c81329aadb62ccc8c": {
      "model_module": "@jupyter-widgets/base",
      "model_module_version": "1.2.0",
      "model_name": "LayoutModel",
      "state": {}
     },
     "02ae1f80be5849c4a9bc7a994975e5f3": {
      "model_module": "@jupyter-widgets/base",
      "model_module_version": "1.2.0",
      "model_name": "LayoutModel",
      "state": {}
     },
     "02d8d2db03004089890c9e6bb531a116": {
      "model_module": "@jupyter-widgets/controls",
      "model_module_version": "1.5.0",
      "model_name": "ProgressStyleModel",
      "state": {
       "description_width": ""
      }
     },
     "0345b31c2c774e0789d6830bd0d7b292": {
      "model_module": "@jupyter-widgets/base",
      "model_module_version": "1.2.0",
      "model_name": "LayoutModel",
      "state": {}
     },
     "035d425d29f14eb9978cd616b86ee0a8": {
      "model_module": "@jupyter-widgets/controls",
      "model_module_version": "1.5.0",
      "model_name": "HTMLModel",
      "state": {
       "layout": "IPY_MODEL_9196a4a5b5c840678af742c4f99134af",
       "style": "IPY_MODEL_a6cf1b75740d46dc8ba86652d3228e51",
       "value": "100%"
      }
     },
     "0458e728738b411189c954ab9361a6b2": {
      "model_module": "@jupyter-widgets/base",
      "model_module_version": "1.2.0",
      "model_name": "LayoutModel",
      "state": {}
     },
     "04689d38b33d4b5a8110275ff39cbc3e": {
      "model_module": "@jupyter-widgets/controls",
      "model_module_version": "1.5.0",
      "model_name": "ProgressStyleModel",
      "state": {
       "description_width": ""
      }
     },
     "04b31a4cfd8d40ae9067c5247e2a1eef": {
      "model_module": "@jupyter-widgets/controls",
      "model_module_version": "1.5.0",
      "model_name": "DescriptionStyleModel",
      "state": {
       "description_width": ""
      }
     },
     "04bfcf7cd3114564bbd0c2f418b9e71d": {
      "model_module": "@jupyter-widgets/controls",
      "model_module_version": "1.5.0",
      "model_name": "FloatProgressModel",
      "state": {
       "layout": "IPY_MODEL_9956d4b2b5e44be88b04e9533ae80394",
       "max": 50,
       "style": "IPY_MODEL_275bac7753af4547a329de4f9ad01280",
       "value": 50
      }
     },
     "04ce493719ed4464b6e99dc43bf2db08": {
      "model_module": "@jupyter-widgets/controls",
      "model_module_version": "1.5.0",
      "model_name": "FloatProgressModel",
      "state": {
       "bar_style": "success",
       "layout": "IPY_MODEL_536acbe96d7447f585093e19a78c5b12",
       "max": 50,
       "style": "IPY_MODEL_66945ecfcaa04b67a5d9e30f77c55b2d",
       "value": 50
      }
     },
     "051d9acf689c4d099ffe3d555c5c69fa": {
      "model_module": "@jupyter-widgets/controls",
      "model_module_version": "1.5.0",
      "model_name": "DescriptionStyleModel",
      "state": {
       "description_width": ""
      }
     },
     "05dfd9c2e41c42dd854d16b7bb524dde": {
      "model_module": "@jupyter-widgets/controls",
      "model_module_version": "1.5.0",
      "model_name": "HBoxModel",
      "state": {
       "children": [
        "IPY_MODEL_b2a22ee892364688aa296aea5097871d",
        "IPY_MODEL_c0b6c1b46edb4a1bb12a0cf469a52281",
        "IPY_MODEL_c65af6257b18433588a22e1aa0650257"
       ],
       "layout": "IPY_MODEL_72fe9ee8ef7d46e6b545c77e46257ec7"
      }
     },
     "060c2fde09d64aac8ec5ff26c283c6fb": {
      "model_module": "@jupyter-widgets/base",
      "model_module_version": "1.2.0",
      "model_name": "LayoutModel",
      "state": {}
     },
     "0641ee94d9e94bd0855d31c4e8ad7436": {
      "model_module": "@jupyter-widgets/controls",
      "model_module_version": "1.5.0",
      "model_name": "HTMLModel",
      "state": {
       "layout": "IPY_MODEL_6cd9c65e1e8944b08d90b3888b2f6761",
       "style": "IPY_MODEL_8b6fde84abab466fb14180113eeb85dd",
       "value": "100%"
      }
     },
     "06e10453741543f4ba57c7b57da7aafd": {
      "model_module": "@jupyter-widgets/controls",
      "model_module_version": "1.5.0",
      "model_name": "DescriptionStyleModel",
      "state": {
       "description_width": ""
      }
     },
     "07052d048aaa4d73a0dc8f3abc7d3796": {
      "model_module": "@jupyter-widgets/controls",
      "model_module_version": "1.5.0",
      "model_name": "ProgressStyleModel",
      "state": {
       "description_width": ""
      }
     },
     "0752b28ed2fb48b1b76db912832d8a7f": {
      "model_module": "@jupyter-widgets/controls",
      "model_module_version": "1.5.0",
      "model_name": "DescriptionStyleModel",
      "state": {
       "description_width": ""
      }
     },
     "07b5380ad86f4b2fb8e5ef3515525851": {
      "model_module": "@jupyter-widgets/base",
      "model_module_version": "1.2.0",
      "model_name": "LayoutModel",
      "state": {}
     },
     "07bec6e8266f4994a0b7de19265e6169": {
      "model_module": "@jupyter-widgets/controls",
      "model_module_version": "1.5.0",
      "model_name": "DescriptionStyleModel",
      "state": {
       "description_width": ""
      }
     },
     "081c3abec96a457cbdc65e4b20e3d315": {
      "model_module": "@jupyter-widgets/controls",
      "model_module_version": "1.5.0",
      "model_name": "HBoxModel",
      "state": {
       "children": [
        "IPY_MODEL_35900c22968c4503a1ea1ab3bfadded1",
        "IPY_MODEL_88b534669b1a4b4ea25980c4f6ca95a3",
        "IPY_MODEL_faa12a82776d48ea8dd4f54d5cc794d8"
       ],
       "layout": "IPY_MODEL_45b5296eb8b247af9040812168c4910b"
      }
     },
     "083269b504ed41bc86f6a0d3788619b5": {
      "model_module": "@jupyter-widgets/base",
      "model_module_version": "1.2.0",
      "model_name": "LayoutModel",
      "state": {}
     },
     "08857931e9b3416aba2559358a7487a2": {
      "model_module": "@jupyter-widgets/controls",
      "model_module_version": "1.5.0",
      "model_name": "HBoxModel",
      "state": {
       "children": [
        "IPY_MODEL_da9f6eea11c249229f551e6cb5b9c433",
        "IPY_MODEL_ca785fb3f0124acfbba89183b262c941",
        "IPY_MODEL_ebc8e3d3b9404b328eae57d589359028"
       ],
       "layout": "IPY_MODEL_64d8f9dd986e4ba2a13200ad205cf2c5"
      }
     },
     "08df0e8d44024071bb1826d81b7bcb6a": {
      "model_module": "@jupyter-widgets/controls",
      "model_module_version": "1.5.0",
      "model_name": "FloatProgressModel",
      "state": {
       "bar_style": "success",
       "layout": "IPY_MODEL_3040b599b6b443fc8892ee00f3963aea",
       "max": 50,
       "style": "IPY_MODEL_e2a229eb75964caeaacc4c348e6ee9ee",
       "value": 50
      }
     },
     "08ef85c3932943a78e4455adaf95f0fd": {
      "model_module": "@jupyter-widgets/base",
      "model_module_version": "1.2.0",
      "model_name": "LayoutModel",
      "state": {}
     },
     "09233fea29de40918a071f9f083a9d95": {
      "model_module": "@jupyter-widgets/base",
      "model_module_version": "1.2.0",
      "model_name": "LayoutModel",
      "state": {}
     },
     "096e327cb9db40bebc7f70dbff6b74d4": {
      "model_module": "@jupyter-widgets/base",
      "model_module_version": "1.2.0",
      "model_name": "LayoutModel",
      "state": {}
     },
     "0991bd9fc08e4cca92507ded20de2f9f": {
      "model_module": "@jupyter-widgets/controls",
      "model_module_version": "1.5.0",
      "model_name": "FloatProgressModel",
      "state": {
       "layout": "IPY_MODEL_bde73bb4032b44a3821db1696384afc8",
       "max": 4000,
       "style": "IPY_MODEL_a647927e5ca84c8b875b25459f4078be",
       "value": 4000
      }
     },
     "09b6e8a8aa764790b4ff4ed53fe7d0b0": {
      "model_module": "@jupyter-widgets/base",
      "model_module_version": "1.2.0",
      "model_name": "LayoutModel",
      "state": {}
     },
     "09d711f1064248938148e3f6f33cee7f": {
      "model_module": "@jupyter-widgets/base",
      "model_module_version": "1.2.0",
      "model_name": "LayoutModel",
      "state": {}
     },
     "09d7543705d4435f95bc08b6f73047a2": {
      "model_module": "@jupyter-widgets/base",
      "model_module_version": "1.2.0",
      "model_name": "LayoutModel",
      "state": {}
     },
     "09f68083dcaf4e768f649beebe9c83ff": {
      "model_module": "@jupyter-widgets/base",
      "model_module_version": "1.2.0",
      "model_name": "LayoutModel",
      "state": {}
     },
     "09fdcf2ccf1246bdb2c9bd990c45843b": {
      "model_module": "@jupyter-widgets/base",
      "model_module_version": "1.2.0",
      "model_name": "LayoutModel",
      "state": {}
     },
     "0a375e82d15a486dad34dd3fc96240a9": {
      "model_module": "@jupyter-widgets/base",
      "model_module_version": "1.2.0",
      "model_name": "LayoutModel",
      "state": {}
     },
     "0a767639a5ae437b8a0ab0d43f13adc1": {
      "model_module": "@jupyter-widgets/controls",
      "model_module_version": "1.5.0",
      "model_name": "HTMLModel",
      "state": {
       "layout": "IPY_MODEL_58d97164e09b4f10bc605caaa7744ea8",
       "style": "IPY_MODEL_21d235bdd93644e49a989760a9cafd1d",
       "value": " 3995/4000 [01:25&lt;00:00, 58.43it/s]"
      }
     },
     "0a97c4c5b2544e29a6248f897deeeace": {
      "model_module": "@jupyter-widgets/controls",
      "model_module_version": "1.5.0",
      "model_name": "ProgressStyleModel",
      "state": {
       "description_width": ""
      }
     },
     "0ad4a7ecd5324bad84a2ddde3e70a793": {
      "model_module": "@jupyter-widgets/controls",
      "model_module_version": "1.5.0",
      "model_name": "DescriptionStyleModel",
      "state": {
       "description_width": ""
      }
     },
     "0b247e66813d4693a3181abcec0c99d4": {
      "model_module": "@jupyter-widgets/base",
      "model_module_version": "1.2.0",
      "model_name": "LayoutModel",
      "state": {}
     },
     "0bb9851ef65e4b3d84254cd3956deb05": {
      "model_module": "@jupyter-widgets/base",
      "model_module_version": "1.2.0",
      "model_name": "LayoutModel",
      "state": {}
     },
     "0bddcbdc2bc64b8c903afb3d0cba8e79": {
      "model_module": "@jupyter-widgets/controls",
      "model_module_version": "1.5.0",
      "model_name": "HTMLModel",
      "state": {
       "layout": "IPY_MODEL_3d8f3e52a9534d6680b2a41053d33969",
       "style": "IPY_MODEL_cd8f3f00e2f5403bb5622c9baa1abced",
       "value": "100%"
      }
     },
     "0bf172c153f44e0f84e15d2b001544db": {
      "model_module": "@jupyter-widgets/controls",
      "model_module_version": "1.5.0",
      "model_name": "ProgressStyleModel",
      "state": {
       "description_width": ""
      }
     },
     "0c4e9552126143aca387ecd644e667e4": {
      "model_module": "@jupyter-widgets/base",
      "model_module_version": "1.2.0",
      "model_name": "LayoutModel",
      "state": {}
     },
     "0c8fad279f2e4bf0a2fff53ece13b20e": {
      "model_module": "@jupyter-widgets/controls",
      "model_module_version": "1.5.0",
      "model_name": "HBoxModel",
      "state": {
       "children": [
        "IPY_MODEL_2a502ee4811e43ea965eef6a94bb3738",
        "IPY_MODEL_29f15ba497574c67963f04c5dc336c42",
        "IPY_MODEL_1927cfd83a724f8285a1c98b18a35a0f"
       ],
       "layout": "IPY_MODEL_b6bf42ff0ad4430eba41739d0c6189c4"
      }
     },
     "0cb70b67388d41bd97fd8f9ef72c50d9": {
      "model_module": "@jupyter-widgets/controls",
      "model_module_version": "1.5.0",
      "model_name": "FloatProgressModel",
      "state": {
       "bar_style": "danger",
       "layout": "IPY_MODEL_11ddc4e1986a48fc9475d976f53884f1",
       "max": 10,
       "style": "IPY_MODEL_2f194ec3ac164e3fb0962b8df5a7279b"
      }
     },
     "0d6add2e3d9c4f6e8481dcaec79a63cf": {
      "model_module": "@jupyter-widgets/base",
      "model_module_version": "1.2.0",
      "model_name": "LayoutModel",
      "state": {}
     },
     "0da696cab4c94c24abe13fef3af5e171": {
      "model_module": "@jupyter-widgets/controls",
      "model_module_version": "1.5.0",
      "model_name": "ProgressStyleModel",
      "state": {
       "description_width": ""
      }
     },
     "0ede5575b16f47ee96e1d47065804af2": {
      "model_module": "@jupyter-widgets/base",
      "model_module_version": "1.2.0",
      "model_name": "LayoutModel",
      "state": {}
     },
     "0f5a5c5b17fc4aa78a2568b51a99b922": {
      "model_module": "@jupyter-widgets/controls",
      "model_module_version": "1.5.0",
      "model_name": "DescriptionStyleModel",
      "state": {
       "description_width": ""
      }
     },
     "0f6ed0ce9072407f8b2ebcc65d6be34e": {
      "model_module": "@jupyter-widgets/controls",
      "model_module_version": "1.5.0",
      "model_name": "FloatProgressModel",
      "state": {
       "layout": "IPY_MODEL_6db8bb470c0d4c93a042d259f53d349c",
       "max": 4000,
       "style": "IPY_MODEL_ac144b88fab44b01930396f9ea2f3f72",
       "value": 4000
      }
     },
     "0f8973a44bc64691a51a68c46b665045": {
      "model_module": "@jupyter-widgets/controls",
      "model_module_version": "1.5.0",
      "model_name": "ProgressStyleModel",
      "state": {
       "description_width": ""
      }
     },
     "0ff252c682fd47a8ac83eeae00bd74ba": {
      "model_module": "@jupyter-widgets/controls",
      "model_module_version": "1.5.0",
      "model_name": "HTMLModel",
      "state": {
       "layout": "IPY_MODEL_f6392fa82ad9462c9c62f2e21fadb78b",
       "style": "IPY_MODEL_a931b46abd2145a197fc1616fd9e313c",
       "value": " 600/600 [00:27&lt;00:00, 16.56it/s]"
      }
     },
     "101ec075ac7744138a302212ec607c80": {
      "model_module": "@jupyter-widgets/controls",
      "model_module_version": "1.5.0",
      "model_name": "DescriptionStyleModel",
      "state": {
       "description_width": ""
      }
     },
     "102bf7b307194790a102a946a2782c50": {
      "model_module": "@jupyter-widgets/base",
      "model_module_version": "1.2.0",
      "model_name": "LayoutModel",
      "state": {}
     },
     "103ad31e13d24246abae56f0342079f3": {
      "model_module": "@jupyter-widgets/controls",
      "model_module_version": "1.5.0",
      "model_name": "DescriptionStyleModel",
      "state": {
       "description_width": ""
      }
     },
     "10e4034a0963441db6abd0ccb195af9e": {
      "model_module": "@jupyter-widgets/controls",
      "model_module_version": "1.5.0",
      "model_name": "HTMLModel",
      "state": {
       "layout": "IPY_MODEL_09b6e8a8aa764790b4ff4ed53fe7d0b0",
       "style": "IPY_MODEL_124d985b27f84ca486cad83966861c2f",
       "value": " 800/800 [00:39&lt;00:00, 16.39it/s]"
      }
     },
     "10ef21076ea24498bed459ec1d91de9a": {
      "model_module": "@jupyter-widgets/controls",
      "model_module_version": "1.5.0",
      "model_name": "HTMLModel",
      "state": {
       "layout": "IPY_MODEL_0ede5575b16f47ee96e1d47065804af2",
       "style": "IPY_MODEL_292883851cc04c7c9b3526065bc9fd56",
       "value": " 0/10 [00:00&lt;?, ?it/s]"
      }
     },
     "1160340fa46a4109909d1c9f47f7243a": {
      "model_module": "@jupyter-widgets/controls",
      "model_module_version": "1.5.0",
      "model_name": "HTMLModel",
      "state": {
       "layout": "IPY_MODEL_81be78fe883748ce82d2858a90c5f562",
       "style": "IPY_MODEL_300aa95c1e2243048edc61ad0d4b46d9",
       "value": " 49/50 [00:04&lt;00:00, 13.53it/s]"
      }
     },
     "11ddc4e1986a48fc9475d976f53884f1": {
      "model_module": "@jupyter-widgets/base",
      "model_module_version": "1.2.0",
      "model_name": "LayoutModel",
      "state": {}
     },
     "120cdac5976e4f368d674e1a49fd44a0": {
      "model_module": "@jupyter-widgets/controls",
      "model_module_version": "1.5.0",
      "model_name": "HTMLModel",
      "state": {
       "layout": "IPY_MODEL_c0c835e54ab7451596f4d088774d699f",
       "style": "IPY_MODEL_b80938a5266049b3afc5c311cc2e836c",
       "value": "100%"
      }
     },
     "1219a3b0092a474cab5bfbdb21257a06": {
      "model_module": "@jupyter-widgets/controls",
      "model_module_version": "1.5.0",
      "model_name": "HTMLModel",
      "state": {
       "layout": "IPY_MODEL_29feab1bfd6e45298e2ee6c9a5014cf0",
       "style": "IPY_MODEL_d185a6f32adc497b8ba37288ddeeec21",
       "value": "100%"
      }
     },
     "124d985b27f84ca486cad83966861c2f": {
      "model_module": "@jupyter-widgets/controls",
      "model_module_version": "1.5.0",
      "model_name": "DescriptionStyleModel",
      "state": {
       "description_width": ""
      }
     },
     "12c05b5af97a443dbbf7941f52ee8cf2": {
      "model_module": "@jupyter-widgets/controls",
      "model_module_version": "1.5.0",
      "model_name": "HTMLModel",
      "state": {
       "layout": "IPY_MODEL_fc11e4898f4b42469fd07a4f23ef5546",
       "style": "IPY_MODEL_fd5bb321058c4b4da72c10bcbf79657e",
       "value": " 50/50 [00:04&lt;00:00, 12.49it/s]"
      }
     },
     "12e68ba8a3774c428437a06e33cffcdb": {
      "model_module": "@jupyter-widgets/controls",
      "model_module_version": "1.5.0",
      "model_name": "HTMLModel",
      "state": {
       "layout": "IPY_MODEL_842647c7104f4d2f9cf00add90aba474",
       "style": "IPY_MODEL_a79f962ae72c4f1fa40685562d5cc447",
       "value": " 49/50 [00:03&lt;00:00, 17.72it/s]"
      }
     },
     "132706ed8c444603bf85d70a1e8b1290": {
      "model_module": "@jupyter-widgets/controls",
      "model_module_version": "1.5.0",
      "model_name": "ProgressStyleModel",
      "state": {
       "description_width": ""
      }
     },
     "1340c35d9d0f4bfdb899f787ab798312": {
      "model_module": "@jupyter-widgets/controls",
      "model_module_version": "1.5.0",
      "model_name": "DescriptionStyleModel",
      "state": {
       "description_width": ""
      }
     },
     "13c008873cbe4472a7e01c34126064e4": {
      "model_module": "@jupyter-widgets/controls",
      "model_module_version": "1.5.0",
      "model_name": "HTMLModel",
      "state": {
       "layout": "IPY_MODEL_e3ed144a670645ca96d7c40900d3ed48",
       "style": "IPY_MODEL_326278cd3d3946ff942ad6a6e88d754b",
       "value": " 40/40 [00:02&lt;00:00, 15.19it/s]"
      }
     },
     "141463d3047f4c018ea2ffaa87c3c4d9": {
      "model_module": "@jupyter-widgets/base",
      "model_module_version": "1.2.0",
      "model_name": "LayoutModel",
      "state": {}
     },
     "147b3c78a6a248b9ba4d2ddb75eda7e0": {
      "model_module": "@jupyter-widgets/controls",
      "model_module_version": "1.5.0",
      "model_name": "DescriptionStyleModel",
      "state": {
       "description_width": ""
      }
     },
     "14aa5e50f083494897a93baa57266464": {
      "model_module": "@jupyter-widgets/base",
      "model_module_version": "1.2.0",
      "model_name": "LayoutModel",
      "state": {}
     },
     "152efe251e804f6ca7654089af6806ce": {
      "model_module": "@jupyter-widgets/controls",
      "model_module_version": "1.5.0",
      "model_name": "DescriptionStyleModel",
      "state": {
       "description_width": ""
      }
     },
     "159d4a0ac0d94770b9af65e258e65358": {
      "model_module": "@jupyter-widgets/base",
      "model_module_version": "1.2.0",
      "model_name": "LayoutModel",
      "state": {}
     },
     "15a4fd34dd3f4bbaa71a714d02cebae6": {
      "model_module": "@jupyter-widgets/controls",
      "model_module_version": "1.5.0",
      "model_name": "ProgressStyleModel",
      "state": {
       "description_width": ""
      }
     },
     "15cb8c7c1380453f8dc5fdb0fb90a04e": {
      "model_module": "@jupyter-widgets/base",
      "model_module_version": "1.2.0",
      "model_name": "LayoutModel",
      "state": {}
     },
     "15e19ecb35d54bb6b4f3e82bca9e8fe2": {
      "model_module": "@jupyter-widgets/controls",
      "model_module_version": "1.5.0",
      "model_name": "HBoxModel",
      "state": {
       "children": [
        "IPY_MODEL_9dd08b52136e4b43a669d531cd674604",
        "IPY_MODEL_c5964b65baa4411fb45f750f720f947f",
        "IPY_MODEL_792b49cd252d4a22bc7a93d88b44c9f7"
       ],
       "layout": "IPY_MODEL_8e7f7510a12f409ca83b476d83eb6a3a"
      }
     },
     "166e3282005842adb48e2a0cbbcceeae": {
      "model_module": "@jupyter-widgets/controls",
      "model_module_version": "1.5.0",
      "model_name": "HTMLModel",
      "state": {
       "layout": "IPY_MODEL_472ec8f9069c4ff1a858ca29a38f5ed3",
       "style": "IPY_MODEL_98103eb58ea64fa5b5b7648f88967f53",
       "value": " 49/50 [00:06&lt;00:00,  9.37it/s]"
      }
     },
     "1690680205424d1aae2a399cf9a403cb": {
      "model_module": "@jupyter-widgets/base",
      "model_module_version": "1.2.0",
      "model_name": "LayoutModel",
      "state": {}
     },
     "175944f82687428db84c39ed7753183d": {
      "model_module": "@jupyter-widgets/controls",
      "model_module_version": "1.5.0",
      "model_name": "HTMLModel",
      "state": {
       "layout": "IPY_MODEL_8a8a12458cd941bfa5b11731a052d29e",
       "style": "IPY_MODEL_c6f0b4e9865340da967769e40bc3ef3f",
       "value": "100%"
      }
     },
     "1777f90505cf432a8c99cc4c893849af": {
      "model_module": "@jupyter-widgets/controls",
      "model_module_version": "1.5.0",
      "model_name": "FloatProgressModel",
      "state": {
       "bar_style": "danger",
       "layout": "IPY_MODEL_1bd9508a7e7e4819875a27989ed1530e",
       "max": 10,
       "style": "IPY_MODEL_8920ec260e6a43659999d4768b6e6ce5"
      }
     },
     "17ba1bf419dc4df0a21701f3315120fa": {
      "model_module": "@jupyter-widgets/base",
      "model_module_version": "1.2.0",
      "model_name": "LayoutModel",
      "state": {}
     },
     "17c886c21e7a4d5b8b25ff89ddb8da23": {
      "model_module": "@jupyter-widgets/base",
      "model_module_version": "1.2.0",
      "model_name": "LayoutModel",
      "state": {}
     },
     "17e8593108804111bee8223f029f9852": {
      "model_module": "@jupyter-widgets/base",
      "model_module_version": "1.2.0",
      "model_name": "LayoutModel",
      "state": {}
     },
     "18099791445c47838858f12793fe4a87": {
      "model_module": "@jupyter-widgets/controls",
      "model_module_version": "1.5.0",
      "model_name": "ProgressStyleModel",
      "state": {
       "description_width": ""
      }
     },
     "191bcba45e744e1980563ce8b4db65af": {
      "model_module": "@jupyter-widgets/controls",
      "model_module_version": "1.5.0",
      "model_name": "FloatProgressModel",
      "state": {
       "bar_style": "success",
       "layout": "IPY_MODEL_980945757f5f4054bdcf0bd3cbde5571",
       "max": 50,
       "style": "IPY_MODEL_b616b87521e7461dbeda5cbc088ba0ce",
       "value": 50
      }
     },
     "1927cfd83a724f8285a1c98b18a35a0f": {
      "model_module": "@jupyter-widgets/controls",
      "model_module_version": "1.5.0",
      "model_name": "HTMLModel",
      "state": {
       "layout": "IPY_MODEL_1f0cbd352bdc427a9e03577edbfda2cb",
       "style": "IPY_MODEL_ea724dc55ed14676a776d8e7ad9875fd",
       "value": " 0/10 [00:00&lt;?, ?it/s]"
      }
     },
     "19a4b4c7f14443f1bffae3e785af0090": {
      "model_module": "@jupyter-widgets/base",
      "model_module_version": "1.2.0",
      "model_name": "LayoutModel",
      "state": {}
     },
     "19aa45c31e28457fb4ec500820db9576": {
      "model_module": "@jupyter-widgets/base",
      "model_module_version": "1.2.0",
      "model_name": "LayoutModel",
      "state": {}
     },
     "19c431ba358e4f2dad8d7677cf20f345": {
      "model_module": "@jupyter-widgets/base",
      "model_module_version": "1.2.0",
      "model_name": "LayoutModel",
      "state": {}
     },
     "1ab3fa9b757a43efa419acef0c4c0798": {
      "model_module": "@jupyter-widgets/controls",
      "model_module_version": "1.5.0",
      "model_name": "DescriptionStyleModel",
      "state": {
       "description_width": ""
      }
     },
     "1b00fbeeeea047e79bbdace3fe8e4ca6": {
      "model_module": "@jupyter-widgets/controls",
      "model_module_version": "1.5.0",
      "model_name": "FloatProgressModel",
      "state": {
       "bar_style": "danger",
       "layout": "IPY_MODEL_d43b87759d204ee5ae0f94e1f77c81a8",
       "max": 40,
       "style": "IPY_MODEL_4dfa6cf8304d416ea5ff7f1d862d714b",
       "value": 12
      }
     },
     "1b53413929c6419190afb45fd455c4b4": {
      "model_module": "@jupyter-widgets/controls",
      "model_module_version": "1.5.0",
      "model_name": "DescriptionStyleModel",
      "state": {
       "description_width": ""
      }
     },
     "1b8f10e8543242939fd7aa2d5a689c21": {
      "model_module": "@jupyter-widgets/base",
      "model_module_version": "1.2.0",
      "model_name": "LayoutModel",
      "state": {}
     },
     "1bba7d06d6544fbc95155e5a07931c1e": {
      "model_module": "@jupyter-widgets/controls",
      "model_module_version": "1.5.0",
      "model_name": "HBoxModel",
      "state": {
       "children": [
        "IPY_MODEL_a45ec6b5f5944d22b3d033fc9837a949",
        "IPY_MODEL_41205b28fa8c4a388bb52a6bc8031c4f",
        "IPY_MODEL_c5064f0572e9444bb6885239ec898e09"
       ],
       "layout": "IPY_MODEL_da466dfc162a41c2a6a3eb71bc0f14ac"
      }
     },
     "1bd4601d177f4193b77c22c381537233": {
      "model_module": "@jupyter-widgets/controls",
      "model_module_version": "1.5.0",
      "model_name": "DescriptionStyleModel",
      "state": {
       "description_width": ""
      }
     },
     "1bd9508a7e7e4819875a27989ed1530e": {
      "model_module": "@jupyter-widgets/base",
      "model_module_version": "1.2.0",
      "model_name": "LayoutModel",
      "state": {}
     },
     "1beb6f1cd7634c6baaa9358be6e3e47c": {
      "model_module": "@jupyter-widgets/controls",
      "model_module_version": "1.5.0",
      "model_name": "DescriptionStyleModel",
      "state": {
       "description_width": ""
      }
     },
     "1c1ddffddeff40448c2de1f553fdc70d": {
      "model_module": "@jupyter-widgets/base",
      "model_module_version": "1.2.0",
      "model_name": "LayoutModel",
      "state": {}
     },
     "1c7c8b9c13a540739f8b63e58f23dd2e": {
      "model_module": "@jupyter-widgets/controls",
      "model_module_version": "1.5.0",
      "model_name": "HTMLModel",
      "state": {
       "layout": "IPY_MODEL_30056bca9c5744188e3f960111117964",
       "style": "IPY_MODEL_04b31a4cfd8d40ae9067c5247e2a1eef",
       "value": "100%"
      }
     },
     "1d3292c83e4747908c7ef1e1b0ed6e22": {
      "model_module": "@jupyter-widgets/base",
      "model_module_version": "1.2.0",
      "model_name": "LayoutModel",
      "state": {}
     },
     "1d8615e270ee4a79990ff084b4a95a5f": {
      "model_module": "@jupyter-widgets/controls",
      "model_module_version": "1.5.0",
      "model_name": "HTMLModel",
      "state": {
       "layout": "IPY_MODEL_bf985606cc4945dc8902dbd3164de60f",
       "style": "IPY_MODEL_f98a673c82894bb0925fa7e569857dd8",
       "value": " 50/50 [00:05&lt;00:00,  9.55it/s]"
      }
     },
     "1dc99d1e3fe24e4a8f475af1623f3438": {
      "model_module": "@jupyter-widgets/controls",
      "model_module_version": "1.5.0",
      "model_name": "DescriptionStyleModel",
      "state": {
       "description_width": ""
      }
     },
     "1ea90933bb3748c3bfbe2ce664f14afe": {
      "model_module": "@jupyter-widgets/controls",
      "model_module_version": "1.5.0",
      "model_name": "DescriptionStyleModel",
      "state": {
       "description_width": ""
      }
     },
     "1eb513477fdc4daa947a403a9dcd6e23": {
      "model_module": "@jupyter-widgets/base",
      "model_module_version": "1.2.0",
      "model_name": "LayoutModel",
      "state": {}
     },
     "1ecda356130943e482bf11ae02846e15": {
      "model_module": "@jupyter-widgets/controls",
      "model_module_version": "1.5.0",
      "model_name": "DescriptionStyleModel",
      "state": {
       "description_width": ""
      }
     },
     "1ef7c86ff62e46668b8619b7e9e62c11": {
      "model_module": "@jupyter-widgets/base",
      "model_module_version": "1.2.0",
      "model_name": "LayoutModel",
      "state": {}
     },
     "1f0b08ab821a4933b60eff0546bde721": {
      "model_module": "@jupyter-widgets/base",
      "model_module_version": "1.2.0",
      "model_name": "LayoutModel",
      "state": {}
     },
     "1f0cbd352bdc427a9e03577edbfda2cb": {
      "model_module": "@jupyter-widgets/base",
      "model_module_version": "1.2.0",
      "model_name": "LayoutModel",
      "state": {}
     },
     "1f431c1f1a004e1aba79836a648d9396": {
      "model_module": "@jupyter-widgets/controls",
      "model_module_version": "1.5.0",
      "model_name": "HTMLModel",
      "state": {
       "layout": "IPY_MODEL_6346fa28653747cea88eb170b34016ee",
       "style": "IPY_MODEL_4eed465623424339bba9bb19dfb54a91",
       "value": "100%"
      }
     },
     "1fa905ebeaf941968eb2ec61654c847b": {
      "model_module": "@jupyter-widgets/base",
      "model_module_version": "1.2.0",
      "model_name": "LayoutModel",
      "state": {}
     },
     "200ba41b72c14f8ea7677168ab0295e5": {
      "model_module": "@jupyter-widgets/controls",
      "model_module_version": "1.5.0",
      "model_name": "HTMLModel",
      "state": {
       "layout": "IPY_MODEL_26b13edd1c37492eb1c567b66285a11b",
       "style": "IPY_MODEL_956df3ca7a9343e79dfcd38d0a6780da",
       "value": " 0/10 [00:00&lt;?, ?it/s]"
      }
     },
     "2014a7604478485cb0f8aed86d30cfaa": {
      "model_module": "@jupyter-widgets/controls",
      "model_module_version": "1.5.0",
      "model_name": "HTMLModel",
      "state": {
       "layout": "IPY_MODEL_fa77a30f05314e64912d64e91be4108a",
       "style": "IPY_MODEL_a6a7060849a04e1c81cbf07cd32d88c2",
       "value": "100%"
      }
     },
     "20b1e5e0a6414f29acf29fe9a39de2fa": {
      "model_module": "@jupyter-widgets/controls",
      "model_module_version": "1.5.0",
      "model_name": "ProgressStyleModel",
      "state": {
       "description_width": ""
      }
     },
     "213861af96c04b82a4711fd7afc46d31": {
      "model_module": "@jupyter-widgets/controls",
      "model_module_version": "1.5.0",
      "model_name": "HTMLModel",
      "state": {
       "layout": "IPY_MODEL_e020f9f7985846299d5af0203d6193f7",
       "style": "IPY_MODEL_06e10453741543f4ba57c7b57da7aafd",
       "value": " 32%"
      }
     },
     "213a187b1a104ac9abbd801e2edd62a7": {
      "model_module": "@jupyter-widgets/controls",
      "model_module_version": "1.5.0",
      "model_name": "HTMLModel",
      "state": {
       "layout": "IPY_MODEL_56afb59ea1434b67943dceec48e1f496",
       "style": "IPY_MODEL_83eb00c22bfd4994bb72442992083f28",
       "value": " 3995/4000 [01:40&lt;00:00, 62.59it/s]"
      }
     },
     "21b07d8a32ae45c69bfaa4ed3627ac20": {
      "model_module": "@jupyter-widgets/controls",
      "model_module_version": "1.5.0",
      "model_name": "FloatProgressModel",
      "state": {
       "bar_style": "success",
       "layout": "IPY_MODEL_d602cccc2dbb439a95d20d2c22cf0a76",
       "max": 50,
       "style": "IPY_MODEL_0049e2db3c764fada1f48d4bab3937ce",
       "value": 50
      }
     },
     "21d235bdd93644e49a989760a9cafd1d": {
      "model_module": "@jupyter-widgets/controls",
      "model_module_version": "1.5.0",
      "model_name": "DescriptionStyleModel",
      "state": {
       "description_width": ""
      }
     },
     "21e6b99da0494227874fdb52cc95db16": {
      "model_module": "@jupyter-widgets/controls",
      "model_module_version": "1.5.0",
      "model_name": "ProgressStyleModel",
      "state": {
       "description_width": ""
      }
     },
     "220156b1fcbe49b1973d4605c29f7b93": {
      "model_module": "@jupyter-widgets/base",
      "model_module_version": "1.2.0",
      "model_name": "LayoutModel",
      "state": {}
     },
     "22105590f2d44354844d2c0b70eba984": {
      "model_module": "@jupyter-widgets/controls",
      "model_module_version": "1.5.0",
      "model_name": "FloatProgressModel",
      "state": {
       "bar_style": "success",
       "layout": "IPY_MODEL_d92ce07e973440aea90c3cc11c3b4b18",
       "max": 200,
       "style": "IPY_MODEL_18099791445c47838858f12793fe4a87",
       "value": 200
      }
     },
     "2282ec49121849019a34dfe91c98393e": {
      "model_module": "@jupyter-widgets/controls",
      "model_module_version": "1.5.0",
      "model_name": "ProgressStyleModel",
      "state": {
       "description_width": ""
      }
     },
     "22e07545f43d4d778b58f0ea935b1dbf": {
      "model_module": "@jupyter-widgets/controls",
      "model_module_version": "1.5.0",
      "model_name": "HBoxModel",
      "state": {
       "children": [
        "IPY_MODEL_79bb367cd2404b7590747a53fdd50d6a",
        "IPY_MODEL_04ce493719ed4464b6e99dc43bf2db08",
        "IPY_MODEL_a5627b31181c4a22841171dcb497c284"
       ],
       "layout": "IPY_MODEL_4da001bef61a47aaa6c1b61fecf76ee5"
      }
     },
     "2375b4293f804b51b4a3eb8c954bdc65": {
      "model_module": "@jupyter-widgets/controls",
      "model_module_version": "1.5.0",
      "model_name": "DescriptionStyleModel",
      "state": {
       "description_width": ""
      }
     },
     "238a2b1b44de4a7c8401858cbaaef1c1": {
      "model_module": "@jupyter-widgets/base",
      "model_module_version": "1.2.0",
      "model_name": "LayoutModel",
      "state": {}
     },
     "247cd24cfcc449b69fb4f8a895326ac2": {
      "model_module": "@jupyter-widgets/base",
      "model_module_version": "1.2.0",
      "model_name": "LayoutModel",
      "state": {}
     },
     "249ddb006eb742a490db54f8bd1268df": {
      "model_module": "@jupyter-widgets/base",
      "model_module_version": "1.2.0",
      "model_name": "LayoutModel",
      "state": {}
     },
     "2509231e9c414af6ae7bf0d1d98d9885": {
      "model_module": "@jupyter-widgets/base",
      "model_module_version": "1.2.0",
      "model_name": "LayoutModel",
      "state": {}
     },
     "25118b02e432446ebdd2e5991bba57ad": {
      "model_module": "@jupyter-widgets/controls",
      "model_module_version": "1.5.0",
      "model_name": "HTMLModel",
      "state": {
       "layout": "IPY_MODEL_7d466f0e43654223a9870825f6a299d4",
       "style": "IPY_MODEL_e683440b74a3499e84eb9ef27602bda5",
       "value": "100%"
      }
     },
     "2513b6ca54e140e1a4e17d6424e954bc": {
      "model_module": "@jupyter-widgets/base",
      "model_module_version": "1.2.0",
      "model_name": "LayoutModel",
      "state": {}
     },
     "260e153e43d14f2582b7377d3a44db2a": {
      "model_module": "@jupyter-widgets/base",
      "model_module_version": "1.2.0",
      "model_name": "LayoutModel",
      "state": {}
     },
     "266748db42654fa9988a79d4539cf0d4": {
      "model_module": "@jupyter-widgets/controls",
      "model_module_version": "1.5.0",
      "model_name": "DescriptionStyleModel",
      "state": {
       "description_width": ""
      }
     },
     "26b13edd1c37492eb1c567b66285a11b": {
      "model_module": "@jupyter-widgets/base",
      "model_module_version": "1.2.0",
      "model_name": "LayoutModel",
      "state": {}
     },
     "275bac7753af4547a329de4f9ad01280": {
      "model_module": "@jupyter-widgets/controls",
      "model_module_version": "1.5.0",
      "model_name": "ProgressStyleModel",
      "state": {
       "description_width": ""
      }
     },
     "27ca61c5c4c54a42baf158e0b39c50ad": {
      "model_module": "@jupyter-widgets/controls",
      "model_module_version": "1.5.0",
      "model_name": "DescriptionStyleModel",
      "state": {
       "description_width": ""
      }
     },
     "27d62e23d9dd41388288ed2de959371f": {
      "model_module": "@jupyter-widgets/base",
      "model_module_version": "1.2.0",
      "model_name": "LayoutModel",
      "state": {}
     },
     "27f1c6c52f2c47109542006268bec599": {
      "model_module": "@jupyter-widgets/controls",
      "model_module_version": "1.5.0",
      "model_name": "DescriptionStyleModel",
      "state": {
       "description_width": ""
      }
     },
     "285397aafed342dc8fdb7f8175ac5fae": {
      "model_module": "@jupyter-widgets/base",
      "model_module_version": "1.2.0",
      "model_name": "LayoutModel",
      "state": {}
     },
     "28a24bd7f21a4fedb187f8663474c218": {
      "model_module": "@jupyter-widgets/base",
      "model_module_version": "1.2.0",
      "model_name": "LayoutModel",
      "state": {}
     },
     "28cc8df4772e45338f070a035b44485f": {
      "model_module": "@jupyter-widgets/controls",
      "model_module_version": "1.5.0",
      "model_name": "DescriptionStyleModel",
      "state": {
       "description_width": ""
      }
     },
     "28d84ddc794149689967a6818f87aa5d": {
      "model_module": "@jupyter-widgets/base",
      "model_module_version": "1.2.0",
      "model_name": "LayoutModel",
      "state": {}
     },
     "28e2dfd967dc49f6aba33afb9c11992f": {
      "model_module": "@jupyter-widgets/base",
      "model_module_version": "1.2.0",
      "model_name": "LayoutModel",
      "state": {}
     },
     "292883851cc04c7c9b3526065bc9fd56": {
      "model_module": "@jupyter-widgets/controls",
      "model_module_version": "1.5.0",
      "model_name": "DescriptionStyleModel",
      "state": {
       "description_width": ""
      }
     },
     "293c2b60ff0142bc80b38fa679b30e4d": {
      "model_module": "@jupyter-widgets/controls",
      "model_module_version": "1.5.0",
      "model_name": "HTMLModel",
      "state": {
       "layout": "IPY_MODEL_df6f754526624144b400c6124b0efd31",
       "style": "IPY_MODEL_008754d3bc1d4b8cafe4c72660e933cd",
       "value": " 96%"
      }
     },
     "297df0d5e664442784f35a8bceea168a": {
      "model_module": "@jupyter-widgets/base",
      "model_module_version": "1.2.0",
      "model_name": "LayoutModel",
      "state": {}
     },
     "29a24aa2823b4355a70190e52dec4d17": {
      "model_module": "@jupyter-widgets/controls",
      "model_module_version": "1.5.0",
      "model_name": "ProgressStyleModel",
      "state": {
       "description_width": ""
      }
     },
     "29d686e56667423a98c6f03b227e9311": {
      "model_module": "@jupyter-widgets/base",
      "model_module_version": "1.2.0",
      "model_name": "LayoutModel",
      "state": {}
     },
     "29f15ba497574c67963f04c5dc336c42": {
      "model_module": "@jupyter-widgets/controls",
      "model_module_version": "1.5.0",
      "model_name": "FloatProgressModel",
      "state": {
       "bar_style": "danger",
       "layout": "IPY_MODEL_bc226337c0ff4b1081400eba13b1099b",
       "max": 10,
       "style": "IPY_MODEL_df8bf425268348938e43536c3860e0b6"
      }
     },
     "29f8500f54144b239e971514ff5117aa": {
      "model_module": "@jupyter-widgets/base",
      "model_module_version": "1.2.0",
      "model_name": "LayoutModel",
      "state": {}
     },
     "29feab1bfd6e45298e2ee6c9a5014cf0": {
      "model_module": "@jupyter-widgets/base",
      "model_module_version": "1.2.0",
      "model_name": "LayoutModel",
      "state": {}
     },
     "2a01ed632b444563bc2c75d85748fb42": {
      "model_module": "@jupyter-widgets/controls",
      "model_module_version": "1.5.0",
      "model_name": "HTMLModel",
      "state": {
       "layout": "IPY_MODEL_bc81c9015826451abd258e6472a8ebd3",
       "style": "IPY_MODEL_c7c0832621144d51af61e6b8db5867b1",
       "value": " 50/50 [00:02&lt;00:00, 25.75it/s]"
      }
     },
     "2a271428d22945928ad7272372ec9862": {
      "model_module": "@jupyter-widgets/base",
      "model_module_version": "1.2.0",
      "model_name": "LayoutModel",
      "state": {}
     },
     "2a502ee4811e43ea965eef6a94bb3738": {
      "model_module": "@jupyter-widgets/controls",
      "model_module_version": "1.5.0",
      "model_name": "HTMLModel",
      "state": {
       "layout": "IPY_MODEL_9f554d5efb6d4f7eb634e36cf4db2cc5",
       "style": "IPY_MODEL_d7135fc2d35b4fb7bff5c1374f19a5fb",
       "value": "  0%"
      }
     },
     "2a9f292fab33492bb03d92ce1d5e7145": {
      "model_module": "@jupyter-widgets/controls",
      "model_module_version": "1.5.0",
      "model_name": "DescriptionStyleModel",
      "state": {
       "description_width": ""
      }
     },
     "2afd89a074584412bff382c15c307194": {
      "model_module": "@jupyter-widgets/base",
      "model_module_version": "1.2.0",
      "model_name": "LayoutModel",
      "state": {}
     },
     "2b37019793ca4c54b8c22a09f58b7a8e": {
      "model_module": "@jupyter-widgets/base",
      "model_module_version": "1.2.0",
      "model_name": "LayoutModel",
      "state": {}
     },
     "2b5487f176784cb29e337d4e6085498d": {
      "model_module": "@jupyter-widgets/controls",
      "model_module_version": "1.5.0",
      "model_name": "HTMLModel",
      "state": {
       "layout": "IPY_MODEL_d9fc8568deaa4604adb2723bd8706336",
       "style": "IPY_MODEL_dd18307f741f419aa517f8c0af0efa49",
       "value": "100%"
      }
     },
     "2b6c430e81d34ba0826d32aaafcdb6aa": {
      "model_module": "@jupyter-widgets/base",
      "model_module_version": "1.2.0",
      "model_name": "LayoutModel",
      "state": {}
     },
     "2b86226a753b4cff91afd6cd67f9583e": {
      "model_module": "@jupyter-widgets/base",
      "model_module_version": "1.2.0",
      "model_name": "LayoutModel",
      "state": {}
     },
     "2c1a0349f7164b85b6e379555f3cdbf9": {
      "model_module": "@jupyter-widgets/base",
      "model_module_version": "1.2.0",
      "model_name": "LayoutModel",
      "state": {}
     },
     "2c6ab67a3be3434b91b410fcca4b6da2": {
      "model_module": "@jupyter-widgets/controls",
      "model_module_version": "1.5.0",
      "model_name": "DescriptionStyleModel",
      "state": {
       "description_width": ""
      }
     },
     "2ccbb09165114fb5911fce53aa3007ae": {
      "model_module": "@jupyter-widgets/controls",
      "model_module_version": "1.5.0",
      "model_name": "HBoxModel",
      "state": {
       "children": [
        "IPY_MODEL_860aaa95bd454ae395f348a624849b75",
        "IPY_MODEL_a7297ce9650d48ca9ad8eeaf6bcd6675",
        "IPY_MODEL_98fec75931954a3aa48906b241ee47c5"
       ],
       "layout": "IPY_MODEL_19a4b4c7f14443f1bffae3e785af0090"
      }
     },
     "2ccc2a8e64f542e3b7a7737fba3b497c": {
      "model_module": "@jupyter-widgets/base",
      "model_module_version": "1.2.0",
      "model_name": "LayoutModel",
      "state": {}
     },
     "2cd4c8f40d6d4b48a4e6220311e4f5b8": {
      "model_module": "@jupyter-widgets/base",
      "model_module_version": "1.2.0",
      "model_name": "LayoutModel",
      "state": {}
     },
     "2cee1f802a01411cb4e1698c31873a92": {
      "model_module": "@jupyter-widgets/base",
      "model_module_version": "1.2.0",
      "model_name": "LayoutModel",
      "state": {}
     },
     "2d8e07f0730e4fdd91007f3b70f9923d": {
      "model_module": "@jupyter-widgets/controls",
      "model_module_version": "1.5.0",
      "model_name": "DescriptionStyleModel",
      "state": {
       "description_width": ""
      }
     },
     "2da137ba94c8476eaf40db85bfca375c": {
      "model_module": "@jupyter-widgets/controls",
      "model_module_version": "1.5.0",
      "model_name": "HTMLModel",
      "state": {
       "layout": "IPY_MODEL_a1453fb9b16049f3864830cd75e505d4",
       "style": "IPY_MODEL_62866ceb62144088b48106275d4c2909",
       "value": " 4000/4000 [06:47&lt;00:00,  8.04it/s]"
      }
     },
     "2e3515c3c778465f9181bcf76171ed1f": {
      "model_module": "@jupyter-widgets/controls",
      "model_module_version": "1.5.0",
      "model_name": "HTMLModel",
      "state": {
       "layout": "IPY_MODEL_31783ee6163c450392f29ffb380de7dc",
       "style": "IPY_MODEL_572c39cf897047b5af5780b8182a9c10",
       "value": " 840/840 [03:36&lt;00:00,  1.11s/it]"
      }
     },
     "2e55211f27e54514877b3c937bf8717e": {
      "model_module": "@jupyter-widgets/controls",
      "model_module_version": "1.5.0",
      "model_name": "HTMLModel",
      "state": {
       "layout": "IPY_MODEL_9f2f7f169be04c55934439c727a95c72",
       "style": "IPY_MODEL_b394fa0204434064ac9185926a77e05d",
       "value": "100%"
      }
     },
     "2e607a1335bb4b9fa0e7b78b9922a325": {
      "model_module": "@jupyter-widgets/controls",
      "model_module_version": "1.5.0",
      "model_name": "HTMLModel",
      "state": {
       "layout": "IPY_MODEL_7ff03efe296d4c4884be6ad8fb627087",
       "style": "IPY_MODEL_f9f2b497f95c4d98b39489cd9737bc81",
       "value": " 50/50 [00:04&lt;00:00, 14.22it/s]"
      }
     },
     "2ea929eab45b41379584665b72784d10": {
      "model_module": "@jupyter-widgets/controls",
      "model_module_version": "1.5.0",
      "model_name": "ProgressStyleModel",
      "state": {
       "description_width": ""
      }
     },
     "2f194ec3ac164e3fb0962b8df5a7279b": {
      "model_module": "@jupyter-widgets/controls",
      "model_module_version": "1.5.0",
      "model_name": "ProgressStyleModel",
      "state": {
       "description_width": ""
      }
     },
     "2f94c48b16c14f6ca63bc9c66863635b": {
      "model_module": "@jupyter-widgets/base",
      "model_module_version": "1.2.0",
      "model_name": "LayoutModel",
      "state": {}
     },
     "2fb822ab8f38453984e9acf5d291f989": {
      "model_module": "@jupyter-widgets/base",
      "model_module_version": "1.2.0",
      "model_name": "LayoutModel",
      "state": {}
     },
     "2fb8a3a290364c2ead38a2a78c7554e2": {
      "model_module": "@jupyter-widgets/controls",
      "model_module_version": "1.5.0",
      "model_name": "FloatProgressModel",
      "state": {
       "layout": "IPY_MODEL_58b8a98c698245238bf25888b3ac0cca",
       "max": 50,
       "style": "IPY_MODEL_a81b416964c14911843c4ce50f8f18ee",
       "value": 50
      }
     },
     "2fcb8c6c07b448109ba0ce9432ac4d0d": {
      "model_module": "@jupyter-widgets/controls",
      "model_module_version": "1.5.0",
      "model_name": "FloatProgressModel",
      "state": {
       "bar_style": "danger",
       "layout": "IPY_MODEL_09f68083dcaf4e768f649beebe9c83ff",
       "max": 10,
       "style": "IPY_MODEL_95e006cfac7d4d95aa38659da8ed5f76"
      }
     },
     "2fd7e9be5269434a9e9f70d7243e7f4f": {
      "model_module": "@jupyter-widgets/base",
      "model_module_version": "1.2.0",
      "model_name": "LayoutModel",
      "state": {}
     },
     "2ffd001c4f624784871512206d833710": {
      "model_module": "@jupyter-widgets/controls",
      "model_module_version": "1.5.0",
      "model_name": "ProgressStyleModel",
      "state": {
       "description_width": ""
      }
     },
     "30056bca9c5744188e3f960111117964": {
      "model_module": "@jupyter-widgets/base",
      "model_module_version": "1.2.0",
      "model_name": "LayoutModel",
      "state": {}
     },
     "300aa95c1e2243048edc61ad0d4b46d9": {
      "model_module": "@jupyter-widgets/controls",
      "model_module_version": "1.5.0",
      "model_name": "DescriptionStyleModel",
      "state": {
       "description_width": ""
      }
     },
     "301ded2c9e6747c48c4b4bb381239076": {
      "model_module": "@jupyter-widgets/base",
      "model_module_version": "1.2.0",
      "model_name": "LayoutModel",
      "state": {}
     },
     "3040b599b6b443fc8892ee00f3963aea": {
      "model_module": "@jupyter-widgets/base",
      "model_module_version": "1.2.0",
      "model_name": "LayoutModel",
      "state": {}
     },
     "30ecd8eec959414ca167560d544e448b": {
      "model_module": "@jupyter-widgets/controls",
      "model_module_version": "1.5.0",
      "model_name": "HTMLModel",
      "state": {
       "layout": "IPY_MODEL_ccef2ee7aeed4bf18b6471c4a36812b4",
       "style": "IPY_MODEL_f168d20daeaa48a680dea33b647e1fc1",
       "value": " 3994/4000 [01:25&lt;00:00, 65.52it/s]"
      }
     },
     "30f1cf00a3af45b78d821a377109044e": {
      "model_module": "@jupyter-widgets/controls",
      "model_module_version": "1.5.0",
      "model_name": "DescriptionStyleModel",
      "state": {
       "description_width": ""
      }
     },
     "310bab27011e4c6dafd68f8f2e12b950": {
      "model_module": "@jupyter-widgets/controls",
      "model_module_version": "1.5.0",
      "model_name": "DescriptionStyleModel",
      "state": {
       "description_width": ""
      }
     },
     "31685f9726f44cfdb6ea1345fef874e2": {
      "model_module": "@jupyter-widgets/base",
      "model_module_version": "1.2.0",
      "model_name": "LayoutModel",
      "state": {}
     },
     "31783ee6163c450392f29ffb380de7dc": {
      "model_module": "@jupyter-widgets/base",
      "model_module_version": "1.2.0",
      "model_name": "LayoutModel",
      "state": {}
     },
     "31c45234e5d94ac4ae66b874c9bc53e0": {
      "model_module": "@jupyter-widgets/controls",
      "model_module_version": "1.5.0",
      "model_name": "ProgressStyleModel",
      "state": {
       "description_width": ""
      }
     },
     "326278cd3d3946ff942ad6a6e88d754b": {
      "model_module": "@jupyter-widgets/controls",
      "model_module_version": "1.5.0",
      "model_name": "DescriptionStyleModel",
      "state": {
       "description_width": ""
      }
     },
     "336a1a7fbb604c499bd1a19c745120f8": {
      "model_module": "@jupyter-widgets/base",
      "model_module_version": "1.2.0",
      "model_name": "LayoutModel",
      "state": {}
     },
     "33807ff6d9ca4cea823e74a793a75c8c": {
      "model_module": "@jupyter-widgets/controls",
      "model_module_version": "1.5.0",
      "model_name": "DescriptionStyleModel",
      "state": {
       "description_width": ""
      }
     },
     "33990a5646344ad7801c430cdeb80353": {
      "model_module": "@jupyter-widgets/base",
      "model_module_version": "1.2.0",
      "model_name": "LayoutModel",
      "state": {}
     },
     "33afd755f1c4420aa6f6665ef7cad27b": {
      "model_module": "@jupyter-widgets/controls",
      "model_module_version": "1.5.0",
      "model_name": "HTMLModel",
      "state": {
       "layout": "IPY_MODEL_61e334e3c2e64063a91cf3f5f1eedf14",
       "style": "IPY_MODEL_e32b5f26e4ed413ea9472e6f0fe9cacf",
       "value": " 50/50 [00:08&lt;00:00,  6.81it/s]"
      }
     },
     "33e60a962e00465fa2cb0b0f201cadd3": {
      "model_module": "@jupyter-widgets/base",
      "model_module_version": "1.2.0",
      "model_name": "LayoutModel",
      "state": {}
     },
     "346ec833cd5445d3971e77c1f8d51484": {
      "model_module": "@jupyter-widgets/controls",
      "model_module_version": "1.5.0",
      "model_name": "DescriptionStyleModel",
      "state": {
       "description_width": ""
      }
     },
     "34be2eb0e7334a59a68ab3bc03fcbbe0": {
      "model_module": "@jupyter-widgets/controls",
      "model_module_version": "1.5.0",
      "model_name": "FloatProgressModel",
      "state": {
       "layout": "IPY_MODEL_b006bfc76f484c408f17e886b441624d",
       "max": 4000,
       "style": "IPY_MODEL_b8eb046990f4483db7dbfc9da2bfdf52",
       "value": 4000
      }
     },
     "354b5a0b0016410dbdef3227aa325a3e": {
      "model_module": "@jupyter-widgets/controls",
      "model_module_version": "1.5.0",
      "model_name": "ProgressStyleModel",
      "state": {
       "description_width": ""
      }
     },
     "358119a640ea493cb89f8bb2e446c376": {
      "model_module": "@jupyter-widgets/base",
      "model_module_version": "1.2.0",
      "model_name": "LayoutModel",
      "state": {}
     },
     "35900c22968c4503a1ea1ab3bfadded1": {
      "model_module": "@jupyter-widgets/controls",
      "model_module_version": "1.5.0",
      "model_name": "HTMLModel",
      "state": {
       "layout": "IPY_MODEL_5fc2d835d4164cd785a7551063c1598f",
       "style": "IPY_MODEL_2a9f292fab33492bb03d92ce1d5e7145",
       "value": "100%"
      }
     },
     "360a60a56de24035b31d0f088d72d4f2": {
      "model_module": "@jupyter-widgets/base",
      "model_module_version": "1.2.0",
      "model_name": "LayoutModel",
      "state": {}
     },
     "363c6dd919064ccc966de6eef50330a7": {
      "model_module": "@jupyter-widgets/base",
      "model_module_version": "1.2.0",
      "model_name": "LayoutModel",
      "state": {}
     },
     "36631ea5fdaf4f49aa8edc67d7f8599a": {
      "model_module": "@jupyter-widgets/controls",
      "model_module_version": "1.5.0",
      "model_name": "HTMLModel",
      "state": {
       "layout": "IPY_MODEL_67c9f172f7d64ad0bd2c6ee1bd1d327e",
       "style": "IPY_MODEL_7c8311b2ede345b693be82bf3f5c7154",
       "value": " 3998/4000 [03:08&lt;00:00, 30.86it/s]"
      }
     },
     "3668206401d94fe980d98cb087d77832": {
      "model_module": "@jupyter-widgets/controls",
      "model_module_version": "1.5.0",
      "model_name": "HTMLModel",
      "state": {
       "layout": "IPY_MODEL_c0a074369c9d4485922e47b54186db6c",
       "style": "IPY_MODEL_147b3c78a6a248b9ba4d2ddb75eda7e0",
       "value": "100%"
      }
     },
     "36a8752f31b84a1091e3ab3aaaff85c6": {
      "model_module": "@jupyter-widgets/base",
      "model_module_version": "1.2.0",
      "model_name": "LayoutModel",
      "state": {}
     },
     "36d78fc5221c4cfaa8d9df61a9c04503": {
      "model_module": "@jupyter-widgets/base",
      "model_module_version": "1.2.0",
      "model_name": "LayoutModel",
      "state": {}
     },
     "380dccd6161a4e2aaffb0b02e3b6bbcd": {
      "model_module": "@jupyter-widgets/controls",
      "model_module_version": "1.5.0",
      "model_name": "HBoxModel",
      "state": {
       "children": [
        "IPY_MODEL_2e55211f27e54514877b3c937bf8717e",
        "IPY_MODEL_d9d2294ea09548ce9f4fc2ffb06f9fbf",
        "IPY_MODEL_625b4862df7b49d982cd0a60554bcac9"
       ],
       "layout": "IPY_MODEL_09d711f1064248938148e3f6f33cee7f"
      }
     },
     "3930a062c8b24bd0afe013ca9171f498": {
      "model_module": "@jupyter-widgets/controls",
      "model_module_version": "1.5.0",
      "model_name": "DescriptionStyleModel",
      "state": {
       "description_width": ""
      }
     },
     "3938d9946c1f438fb26ee32b262e475d": {
      "model_module": "@jupyter-widgets/controls",
      "model_module_version": "1.5.0",
      "model_name": "HTMLModel",
      "state": {
       "layout": "IPY_MODEL_2b6c430e81d34ba0826d32aaafcdb6aa",
       "style": "IPY_MODEL_95bf94518605495c816d326d3ed3c3b4",
       "value": " 40/40 [00:02&lt;00:00, 16.41it/s]"
      }
     },
     "3971250a79364f948b973d081fde124c": {
      "model_module": "@jupyter-widgets/controls",
      "model_module_version": "1.5.0",
      "model_name": "DescriptionStyleModel",
      "state": {
       "description_width": ""
      }
     },
     "398e55a52ea849ae829d01004b4d1524": {
      "model_module": "@jupyter-widgets/base",
      "model_module_version": "1.2.0",
      "model_name": "LayoutModel",
      "state": {}
     },
     "398eccfba458456085716193a5977d00": {
      "model_module": "@jupyter-widgets/controls",
      "model_module_version": "1.5.0",
      "model_name": "ProgressStyleModel",
      "state": {
       "description_width": ""
      }
     },
     "39cc588de6bb4759b1b70c503052c2a0": {
      "model_module": "@jupyter-widgets/base",
      "model_module_version": "1.2.0",
      "model_name": "LayoutModel",
      "state": {}
     },
     "3a0d3f79eed3416fb807564ca913e6ad": {
      "model_module": "@jupyter-widgets/base",
      "model_module_version": "1.2.0",
      "model_name": "LayoutModel",
      "state": {}
     },
     "3a6777e0fa264756a71dca07bda0d329": {
      "model_module": "@jupyter-widgets/base",
      "model_module_version": "1.2.0",
      "model_name": "LayoutModel",
      "state": {}
     },
     "3aa0ad362b554c819d32a5e60a98f5ff": {
      "model_module": "@jupyter-widgets/base",
      "model_module_version": "1.2.0",
      "model_name": "LayoutModel",
      "state": {}
     },
     "3aa0f9fb6a5b4c738281b2366dc6371e": {
      "model_module": "@jupyter-widgets/controls",
      "model_module_version": "1.5.0",
      "model_name": "ProgressStyleModel",
      "state": {
       "description_width": ""
      }
     },
     "3ac5c52dddb44db19192a66371700085": {
      "model_module": "@jupyter-widgets/controls",
      "model_module_version": "1.5.0",
      "model_name": "FloatProgressModel",
      "state": {
       "bar_style": "success",
       "layout": "IPY_MODEL_692a1b897a40420a88930f9b300f6258",
       "max": 840,
       "style": "IPY_MODEL_4291921181ad4017a7df011e67b37e72",
       "value": 840
      }
     },
     "3c033d69798e482d8eda64db3c9efb64": {
      "model_module": "@jupyter-widgets/controls",
      "model_module_version": "1.5.0",
      "model_name": "HTMLModel",
      "state": {
       "layout": "IPY_MODEL_85b2063845494c409272a3b91e568a9c",
       "style": "IPY_MODEL_72677419ae654dbcb3e391ac12432e4a",
       "value": "100%"
      }
     },
     "3c326ee566ed426b9e6e32023b8bd609": {
      "model_module": "@jupyter-widgets/base",
      "model_module_version": "1.2.0",
      "model_name": "LayoutModel",
      "state": {}
     },
     "3c591417ec90456e9ed77c4ebba9d065": {
      "model_module": "@jupyter-widgets/base",
      "model_module_version": "1.2.0",
      "model_name": "LayoutModel",
      "state": {}
     },
     "3c82740483384d80a995608875a8253f": {
      "model_module": "@jupyter-widgets/controls",
      "model_module_version": "1.5.0",
      "model_name": "FloatProgressModel",
      "state": {
       "bar_style": "danger",
       "layout": "IPY_MODEL_b3ba21ee6d1541bb998bd01a210c6de8",
       "max": 10,
       "style": "IPY_MODEL_c6788b9fb3764fe1b9d6b0a774957a42"
      }
     },
     "3caa2ab5100a4562a8265cddf2ba0a22": {
      "model_module": "@jupyter-widgets/controls",
      "model_module_version": "1.5.0",
      "model_name": "HBoxModel",
      "state": {
       "children": [
        "IPY_MODEL_f3d8bf5a5876438aabab969cb506d016",
        "IPY_MODEL_d833bfacd0364490a8a003acb9c68bb8",
        "IPY_MODEL_42139bf39b0a4cd5be2bf58589338d54"
       ],
       "layout": "IPY_MODEL_8e909ff1c65c472792f3ea2fd3fad00e"
      }
     },
     "3d5ea486ea3a46d7920f7159e2ce6b6e": {
      "model_module": "@jupyter-widgets/base",
      "model_module_version": "1.2.0",
      "model_name": "LayoutModel",
      "state": {}
     },
     "3d628e70837649f98564e2c620e9800d": {
      "model_module": "@jupyter-widgets/controls",
      "model_module_version": "1.5.0",
      "model_name": "HTMLModel",
      "state": {
       "layout": "IPY_MODEL_1eb513477fdc4daa947a403a9dcd6e23",
       "style": "IPY_MODEL_3930a062c8b24bd0afe013ca9171f498",
       "value": "  0%"
      }
     },
     "3d8f3e52a9534d6680b2a41053d33969": {
      "model_module": "@jupyter-widgets/base",
      "model_module_version": "1.2.0",
      "model_name": "LayoutModel",
      "state": {}
     },
     "3e0272623dc042b08c724c2728b75c17": {
      "model_module": "@jupyter-widgets/base",
      "model_module_version": "1.2.0",
      "model_name": "LayoutModel",
      "state": {}
     },
     "3e987ccb9fa149baabc4bdcbe5fde5f0": {
      "model_module": "@jupyter-widgets/controls",
      "model_module_version": "1.5.0",
      "model_name": "HTMLModel",
      "state": {
       "layout": "IPY_MODEL_7e03b5b540a44c18b7ffdcdd8508f1f1",
       "style": "IPY_MODEL_9f5ff4ea6e2b4e23838b4bda2e60902a",
       "value": "100%"
      }
     },
     "3ec68cfcef5e40b182281bffd4b80cc1": {
      "model_module": "@jupyter-widgets/controls",
      "model_module_version": "1.5.0",
      "model_name": "ProgressStyleModel",
      "state": {
       "description_width": ""
      }
     },
     "3fd8a2923c354bb6aa4c68607361dc4f": {
      "model_module": "@jupyter-widgets/controls",
      "model_module_version": "1.5.0",
      "model_name": "HTMLModel",
      "state": {
       "layout": "IPY_MODEL_00a3a89183ed47e2bc61f953b7e02f29",
       "style": "IPY_MODEL_152efe251e804f6ca7654089af6806ce",
       "value": " 50/50 [00:03&lt;00:00, 16.90it/s]"
      }
     },
     "3ff3edd872ca457fa26568a3306c0424": {
      "model_module": "@jupyter-widgets/controls",
      "model_module_version": "1.5.0",
      "model_name": "FloatProgressModel",
      "state": {
       "bar_style": "danger",
       "layout": "IPY_MODEL_e5c5289711314cd4b9ea11a94bfb7527",
       "max": 40,
       "style": "IPY_MODEL_3ec68cfcef5e40b182281bffd4b80cc1",
       "value": 13
      }
     },
     "4005f8d001f7493fb7dc11e829c0d2d5": {
      "model_module": "@jupyter-widgets/controls",
      "model_module_version": "1.5.0",
      "model_name": "DescriptionStyleModel",
      "state": {
       "description_width": ""
      }
     },
     "40c61b6889454405a33b1bcf4650e55b": {
      "model_module": "@jupyter-widgets/base",
      "model_module_version": "1.2.0",
      "model_name": "LayoutModel",
      "state": {}
     },
     "411e74a793044d1893436c3e7a486d15": {
      "model_module": "@jupyter-widgets/controls",
      "model_module_version": "1.5.0",
      "model_name": "HTMLModel",
      "state": {
       "layout": "IPY_MODEL_b668f0c1909a4e7ca607cd1bd9209690",
       "style": "IPY_MODEL_db07798856414220aeab974792081f02",
       "value": "  0%"
      }
     },
     "41205b28fa8c4a388bb52a6bc8031c4f": {
      "model_module": "@jupyter-widgets/controls",
      "model_module_version": "1.5.0",
      "model_name": "FloatProgressModel",
      "state": {
       "bar_style": "success",
       "layout": "IPY_MODEL_ba3ee3155d394dfd9128d4a522339ce6",
       "max": 50,
       "style": "IPY_MODEL_15a4fd34dd3f4bbaa71a714d02cebae6",
       "value": 50
      }
     },
     "413559354ffd41bda57780a8901b04ac": {
      "model_module": "@jupyter-widgets/base",
      "model_module_version": "1.2.0",
      "model_name": "LayoutModel",
      "state": {}
     },
     "418b29c772774457b629077815a075cd": {
      "model_module": "@jupyter-widgets/controls",
      "model_module_version": "1.5.0",
      "model_name": "ProgressStyleModel",
      "state": {
       "description_width": ""
      }
     },
     "419eda1abb4f488d973eb0241cac8137": {
      "model_module": "@jupyter-widgets/base",
      "model_module_version": "1.2.0",
      "model_name": "LayoutModel",
      "state": {}
     },
     "41a903c96eb74ebba6444bea9f0d8f0c": {
      "model_module": "@jupyter-widgets/controls",
      "model_module_version": "1.5.0",
      "model_name": "FloatProgressModel",
      "state": {
       "layout": "IPY_MODEL_a97ced196ea44c248a2560cfe5ae6784",
       "max": 50,
       "style": "IPY_MODEL_f504ec77364648979d6a8873ff62a015",
       "value": 50
      }
     },
     "41d2e26c9eb44a6695eb84dcc64782fb": {
      "model_module": "@jupyter-widgets/controls",
      "model_module_version": "1.5.0",
      "model_name": "DescriptionStyleModel",
      "state": {
       "description_width": ""
      }
     },
     "41fe4c7a56d24c3a9da06eb7d027b1f2": {
      "model_module": "@jupyter-widgets/controls",
      "model_module_version": "1.5.0",
      "model_name": "HTMLModel",
      "state": {
       "layout": "IPY_MODEL_a441db4cf61f46e7994d2aac27324b7c",
       "style": "IPY_MODEL_bce31b93efe14d26b254bbe54bbe7201",
       "value": " 0/10 [00:00&lt;?, ?it/s]"
      }
     },
     "42139bf39b0a4cd5be2bf58589338d54": {
      "model_module": "@jupyter-widgets/controls",
      "model_module_version": "1.5.0",
      "model_name": "HTMLModel",
      "state": {
       "layout": "IPY_MODEL_08ef85c3932943a78e4455adaf95f0fd",
       "style": "IPY_MODEL_b006121d022043ebb2d4e7b4eb3e9cd9",
       "value": " 50/50 [00:03&lt;00:00, 15.62it/s]"
      }
     },
     "4249b7a9f7cb4cd6ac1d7da28d16083b": {
      "model_module": "@jupyter-widgets/base",
      "model_module_version": "1.2.0",
      "model_name": "LayoutModel",
      "state": {}
     },
     "425fde63e7574ff892077fd0383de957": {
      "model_module": "@jupyter-widgets/controls",
      "model_module_version": "1.5.0",
      "model_name": "ProgressStyleModel",
      "state": {
       "description_width": ""
      }
     },
     "4291921181ad4017a7df011e67b37e72": {
      "model_module": "@jupyter-widgets/controls",
      "model_module_version": "1.5.0",
      "model_name": "ProgressStyleModel",
      "state": {
       "description_width": ""
      }
     },
     "42c3c864b91a4e2facf48e35eced76b9": {
      "model_module": "@jupyter-widgets/base",
      "model_module_version": "1.2.0",
      "model_name": "LayoutModel",
      "state": {}
     },
     "42cf18a57f26412b8faeb0cdecf5af77": {
      "model_module": "@jupyter-widgets/base",
      "model_module_version": "1.2.0",
      "model_name": "LayoutModel",
      "state": {}
     },
     "43e8662bc04e4464af6c2ef7f881f8cc": {
      "model_module": "@jupyter-widgets/controls",
      "model_module_version": "1.5.0",
      "model_name": "ProgressStyleModel",
      "state": {
       "description_width": ""
      }
     },
     "441c4fe183964c398520a5bbf8437b0d": {
      "model_module": "@jupyter-widgets/controls",
      "model_module_version": "1.5.0",
      "model_name": "DescriptionStyleModel",
      "state": {
       "description_width": ""
      }
     },
     "4496a98317d042bfb9cf2acc528e272a": {
      "model_module": "@jupyter-widgets/base",
      "model_module_version": "1.2.0",
      "model_name": "LayoutModel",
      "state": {}
     },
     "44f689af93ac4b38a8bbd29fea74de98": {
      "model_module": "@jupyter-widgets/controls",
      "model_module_version": "1.5.0",
      "model_name": "FloatProgressModel",
      "state": {
       "layout": "IPY_MODEL_f2d6421a435c4ef28ac76df641685a4e",
       "max": 4000,
       "style": "IPY_MODEL_07052d048aaa4d73a0dc8f3abc7d3796",
       "value": 4000
      }
     },
     "456fd87e1a82438cb41f7f806e884b78": {
      "model_module": "@jupyter-widgets/controls",
      "model_module_version": "1.5.0",
      "model_name": "DescriptionStyleModel",
      "state": {
       "description_width": ""
      }
     },
     "457eb5ba490449afb0eedbd7cda76308": {
      "model_module": "@jupyter-widgets/base",
      "model_module_version": "1.2.0",
      "model_name": "LayoutModel",
      "state": {}
     },
     "4593105b4718484ab0a022b92db95e3c": {
      "model_module": "@jupyter-widgets/base",
      "model_module_version": "1.2.0",
      "model_name": "LayoutModel",
      "state": {}
     },
     "45999ad1190f4faba1c2a9bd8ec3fb97": {
      "model_module": "@jupyter-widgets/base",
      "model_module_version": "1.2.0",
      "model_name": "LayoutModel",
      "state": {}
     },
     "45b5296eb8b247af9040812168c4910b": {
      "model_module": "@jupyter-widgets/base",
      "model_module_version": "1.2.0",
      "model_name": "LayoutModel",
      "state": {}
     },
     "45e9df6e8d1849749984a485edb51c46": {
      "model_module": "@jupyter-widgets/base",
      "model_module_version": "1.2.0",
      "model_name": "LayoutModel",
      "state": {}
     },
     "460e266bf46245f3bde2eba47bebfdf7": {
      "model_module": "@jupyter-widgets/base",
      "model_module_version": "1.2.0",
      "model_name": "LayoutModel",
      "state": {}
     },
     "46cbc47659cf431a8014bf36a31a141b": {
      "model_module": "@jupyter-widgets/controls",
      "model_module_version": "1.5.0",
      "model_name": "ProgressStyleModel",
      "state": {
       "description_width": ""
      }
     },
     "46e38038f72b42609632d3782f5da89f": {
      "model_module": "@jupyter-widgets/base",
      "model_module_version": "1.2.0",
      "model_name": "LayoutModel",
      "state": {}
     },
     "46ec7ae43ab74febbbdeb94e0bef7e80": {
      "model_module": "@jupyter-widgets/controls",
      "model_module_version": "1.5.0",
      "model_name": "HTMLModel",
      "state": {
       "layout": "IPY_MODEL_4cbd6697d50f42feaac6bded686c90cf",
       "style": "IPY_MODEL_9be3d9c643c7422ba970abae82a1e9d8",
       "value": " 3999/4000 [05:53&lt;00:00, 11.97it/s]"
      }
     },
     "472ec8f9069c4ff1a858ca29a38f5ed3": {
      "model_module": "@jupyter-widgets/base",
      "model_module_version": "1.2.0",
      "model_name": "LayoutModel",
      "state": {}
     },
     "47a61615c0ec4ea9a44b8a23142374e2": {
      "model_module": "@jupyter-widgets/controls",
      "model_module_version": "1.5.0",
      "model_name": "HTMLModel",
      "state": {
       "layout": "IPY_MODEL_906699554893448eab512ff9e29618f2",
       "style": "IPY_MODEL_96c03ad237ec4bafb4f0ac4a0a935e78",
       "value": "100%"
      }
     },
     "482427e73375457c876d56d09e8e2d47": {
      "model_module": "@jupyter-widgets/base",
      "model_module_version": "1.2.0",
      "model_name": "LayoutModel",
      "state": {}
     },
     "490b0e0fc1224bdf90c7ad2bd5c9b6da": {
      "model_module": "@jupyter-widgets/controls",
      "model_module_version": "1.5.0",
      "model_name": "ProgressStyleModel",
      "state": {
       "description_width": ""
      }
     },
     "491a1b57a89f492e816c4a4ad7bbf429": {
      "model_module": "@jupyter-widgets/controls",
      "model_module_version": "1.5.0",
      "model_name": "ProgressStyleModel",
      "state": {
       "description_width": ""
      }
     },
     "491df29eae8e4ba8909fa731668a83c1": {
      "model_module": "@jupyter-widgets/controls",
      "model_module_version": "1.5.0",
      "model_name": "FloatProgressModel",
      "state": {
       "bar_style": "danger",
       "layout": "IPY_MODEL_692f434bc49849028191e7f7cdb8398a",
       "max": 10,
       "style": "IPY_MODEL_02d8d2db03004089890c9e6bb531a116"
      }
     },
     "4948741fb4ce47239c96095578f0cc05": {
      "model_module": "@jupyter-widgets/controls",
      "model_module_version": "1.5.0",
      "model_name": "FloatProgressModel",
      "state": {
       "bar_style": "danger",
       "layout": "IPY_MODEL_285397aafed342dc8fdb7f8175ac5fae",
       "max": 10,
       "style": "IPY_MODEL_b2f86f61bb2a481db40fb06d0e1126e4"
      }
     },
     "494ddbd016c642a99f6b09429f482cd7": {
      "model_module": "@jupyter-widgets/controls",
      "model_module_version": "1.5.0",
      "model_name": "DescriptionStyleModel",
      "state": {
       "description_width": ""
      }
     },
     "49992a38d4c442ecabd2a267b7ec0a34": {
      "model_module": "@jupyter-widgets/base",
      "model_module_version": "1.2.0",
      "model_name": "LayoutModel",
      "state": {}
     },
     "4af8c6ffcf1d45398dd4c2ace9ab7729": {
      "model_module": "@jupyter-widgets/controls",
      "model_module_version": "1.5.0",
      "model_name": "HTMLModel",
      "state": {
       "layout": "IPY_MODEL_5f353271442a421891e33bf491ebe1bd",
       "style": "IPY_MODEL_2c6ab67a3be3434b91b410fcca4b6da2",
       "value": " 40/40 [00:02&lt;00:00, 16.23it/s]"
      }
     },
     "4b164f1b10c74183956364e3c61b4851": {
      "model_module": "@jupyter-widgets/controls",
      "model_module_version": "1.5.0",
      "model_name": "HTMLModel",
      "state": {
       "layout": "IPY_MODEL_c69c5be7d8224d85aac02d1b3048d53f",
       "style": "IPY_MODEL_68024ec666174555b29e8af6d6cccca5",
       "value": "100%"
      }
     },
     "4b2f6754e0d34166a790fddbbd134298": {
      "model_module": "@jupyter-widgets/controls",
      "model_module_version": "1.5.0",
      "model_name": "HTMLModel",
      "state": {
       "layout": "IPY_MODEL_17e8593108804111bee8223f029f9852",
       "style": "IPY_MODEL_30f1cf00a3af45b78d821a377109044e",
       "value": " 98%"
      }
     },
     "4b3080003b1847238ea57489eb35a2a3": {
      "model_module": "@jupyter-widgets/base",
      "model_module_version": "1.2.0",
      "model_name": "LayoutModel",
      "state": {}
     },
     "4b5c998d45574fcf9912ccc3e166f1db": {
      "model_module": "@jupyter-widgets/base",
      "model_module_version": "1.2.0",
      "model_name": "LayoutModel",
      "state": {}
     },
     "4bd342d38d914f6188609cb2c5c472fa": {
      "model_module": "@jupyter-widgets/controls",
      "model_module_version": "1.5.0",
      "model_name": "DescriptionStyleModel",
      "state": {
       "description_width": ""
      }
     },
     "4c7e6bba46704b63aa2401fe66eb4161": {
      "model_module": "@jupyter-widgets/controls",
      "model_module_version": "1.5.0",
      "model_name": "HTMLModel",
      "state": {
       "layout": "IPY_MODEL_bce9b9fa22e040cd998d7ab7c77bfab2",
       "style": "IPY_MODEL_4005f8d001f7493fb7dc11e829c0d2d5",
       "value": "100%"
      }
     },
     "4cbd6697d50f42feaac6bded686c90cf": {
      "model_module": "@jupyter-widgets/base",
      "model_module_version": "1.2.0",
      "model_name": "LayoutModel",
      "state": {}
     },
     "4d4dfe36e9e94241b0e0b536b47314a3": {
      "model_module": "@jupyter-widgets/controls",
      "model_module_version": "1.5.0",
      "model_name": "FloatProgressModel",
      "state": {
       "bar_style": "danger",
       "layout": "IPY_MODEL_0b247e66813d4693a3181abcec0c99d4",
       "max": 40,
       "style": "IPY_MODEL_70dfa38573174d2e8df912be75d78d12"
      }
     },
     "4d90acee541e4ee4919a92d66c801129": {
      "model_module": "@jupyter-widgets/controls",
      "model_module_version": "1.5.0",
      "model_name": "FloatProgressModel",
      "state": {
       "layout": "IPY_MODEL_09d7543705d4435f95bc08b6f73047a2",
       "max": 50,
       "style": "IPY_MODEL_731ae83f487040da91f191ba497df859",
       "value": 50
      }
     },
     "4da001bef61a47aaa6c1b61fecf76ee5": {
      "model_module": "@jupyter-widgets/base",
      "model_module_version": "1.2.0",
      "model_name": "LayoutModel",
      "state": {}
     },
     "4deddbc9837243d8a1ce30d69ef73977": {
      "model_module": "@jupyter-widgets/controls",
      "model_module_version": "1.5.0",
      "model_name": "FloatProgressModel",
      "state": {
       "layout": "IPY_MODEL_083269b504ed41bc86f6a0d3788619b5",
       "max": 4000,
       "style": "IPY_MODEL_a178f0ddfdc64643849e6da9d4e81470",
       "value": 4000
      }
     },
     "4dfa6cf8304d416ea5ff7f1d862d714b": {
      "model_module": "@jupyter-widgets/controls",
      "model_module_version": "1.5.0",
      "model_name": "ProgressStyleModel",
      "state": {
       "description_width": ""
      }
     },
     "4ec795e5b83f413883b66cee992eea9a": {
      "model_module": "@jupyter-widgets/base",
      "model_module_version": "1.2.0",
      "model_name": "LayoutModel",
      "state": {}
     },
     "4eed465623424339bba9bb19dfb54a91": {
      "model_module": "@jupyter-widgets/controls",
      "model_module_version": "1.5.0",
      "model_name": "DescriptionStyleModel",
      "state": {
       "description_width": ""
      }
     },
     "4f60e9f31fea40dab59ce44ff709731f": {
      "model_module": "@jupyter-widgets/controls",
      "model_module_version": "1.5.0",
      "model_name": "HTMLModel",
      "state": {
       "layout": "IPY_MODEL_2c1a0349f7164b85b6e379555f3cdbf9",
       "style": "IPY_MODEL_27f1c6c52f2c47109542006268bec599",
       "value": " 0/40 [00:00&lt;?, ?it/s]"
      }
     },
     "4f6783f6fb084f028b2f4c04400255d7": {
      "model_module": "@jupyter-widgets/controls",
      "model_module_version": "1.5.0",
      "model_name": "HTMLModel",
      "state": {
       "layout": "IPY_MODEL_802a1d3fd72c492fa31c976f5276b9f5",
       "style": "IPY_MODEL_1ab3fa9b757a43efa419acef0c4c0798",
       "value": "100%"
      }
     },
     "4f9043ea9ffe4da38141a4385b28f981": {
      "model_module": "@jupyter-widgets/controls",
      "model_module_version": "1.5.0",
      "model_name": "FloatProgressModel",
      "state": {
       "layout": "IPY_MODEL_eecf3ec2ec74498d8d6fb8d26abf18a0",
       "max": 50,
       "style": "IPY_MODEL_2ea929eab45b41379584665b72784d10",
       "value": 50
      }
     },
     "4f98befa502940cba9ebf9172eeb117a": {
      "model_module": "@jupyter-widgets/controls",
      "model_module_version": "1.5.0",
      "model_name": "FloatProgressModel",
      "state": {
       "layout": "IPY_MODEL_f48c24fa2cd44c69a12d807551ae745d",
       "max": 50,
       "style": "IPY_MODEL_46cbc47659cf431a8014bf36a31a141b",
       "value": 50
      }
     },
     "4fc87b775c03496e8ff169bcb4b8bed4": {
      "model_module": "@jupyter-widgets/controls",
      "model_module_version": "1.5.0",
      "model_name": "DescriptionStyleModel",
      "state": {
       "description_width": ""
      }
     },
     "4fe599cfedd64b67b41c2beee112dfb2": {
      "model_module": "@jupyter-widgets/controls",
      "model_module_version": "1.5.0",
      "model_name": "HTMLModel",
      "state": {
       "layout": "IPY_MODEL_3a6777e0fa264756a71dca07bda0d329",
       "style": "IPY_MODEL_93ca7ac4bc2342a29abc19303a1e2875",
       "value": "100%"
      }
     },
     "502c8e59e49148d282eeb91bf1f9ed02": {
      "model_module": "@jupyter-widgets/base",
      "model_module_version": "1.2.0",
      "model_name": "LayoutModel",
      "state": {}
     },
     "5099524c4d4d4600b66b382db80aba8e": {
      "model_module": "@jupyter-widgets/controls",
      "model_module_version": "1.5.0",
      "model_name": "HTMLModel",
      "state": {
       "layout": "IPY_MODEL_7bc561a5ff2f4d43b8cdaeea3f4fc4c7",
       "style": "IPY_MODEL_a2ccb0531e694e9d8fe077326aa1392c",
       "value": "100%"
      }
     },
     "51446e927dc346818e3cbf3d647f0b05": {
      "model_module": "@jupyter-widgets/controls",
      "model_module_version": "1.5.0",
      "model_name": "HTMLModel",
      "state": {
       "layout": "IPY_MODEL_2509231e9c414af6ae7bf0d1d98d9885",
       "style": "IPY_MODEL_1ea90933bb3748c3bfbe2ce664f14afe",
       "value": " 96%"
      }
     },
     "51a2cf36b06c4ce78d9cc1b21115c444": {
      "model_module": "@jupyter-widgets/controls",
      "model_module_version": "1.5.0",
      "model_name": "DescriptionStyleModel",
      "state": {
       "description_width": ""
      }
     },
     "51c94a50ea19468e835da5371f784e15": {
      "model_module": "@jupyter-widgets/base",
      "model_module_version": "1.2.0",
      "model_name": "LayoutModel",
      "state": {}
     },
     "527743ec5912480e8e72b28d608d31cf": {
      "model_module": "@jupyter-widgets/controls",
      "model_module_version": "1.5.0",
      "model_name": "DescriptionStyleModel",
      "state": {
       "description_width": ""
      }
     },
     "52c45898c25a46e4b10a7a493d2314f1": {
      "model_module": "@jupyter-widgets/controls",
      "model_module_version": "1.5.0",
      "model_name": "HTMLModel",
      "state": {
       "layout": "IPY_MODEL_6a01d562e90a455f86d67eddb6d735e7",
       "style": "IPY_MODEL_a3bb0ff6774c4d849b9297b96f7f2b58",
       "value": " 0/10 [00:00&lt;?, ?it/s]"
      }
     },
     "52ce66c3254c46e6a0ac35b18c1c6435": {
      "model_module": "@jupyter-widgets/base",
      "model_module_version": "1.2.0",
      "model_name": "LayoutModel",
      "state": {}
     },
     "536acbe96d7447f585093e19a78c5b12": {
      "model_module": "@jupyter-widgets/base",
      "model_module_version": "1.2.0",
      "model_name": "LayoutModel",
      "state": {}
     },
     "53cc52af33824eeaa79c03bfc5c797c6": {
      "model_module": "@jupyter-widgets/base",
      "model_module_version": "1.2.0",
      "model_name": "LayoutModel",
      "state": {}
     },
     "542609971da94fe5bc6941e47a21ac8f": {
      "model_module": "@jupyter-widgets/controls",
      "model_module_version": "1.5.0",
      "model_name": "HTMLModel",
      "state": {
       "layout": "IPY_MODEL_1690680205424d1aae2a399cf9a403cb",
       "style": "IPY_MODEL_807c46d155d142ce9f851fc8a5ad1fad",
       "value": " 48/50 [00:02&lt;00:00, 23.37it/s]"
      }
     },
     "5506d703bd0845d6a984d783c43a0b8f": {
      "model_module": "@jupyter-widgets/controls",
      "model_module_version": "1.5.0",
      "model_name": "FloatProgressModel",
      "state": {
       "bar_style": "success",
       "layout": "IPY_MODEL_4b3080003b1847238ea57489eb35a2a3",
       "max": 50,
       "style": "IPY_MODEL_add0faf946704a819f271b023664841f",
       "value": 50
      }
     },
     "55217ac7cb964dddb6c561ec08991ab4": {
      "model_module": "@jupyter-widgets/base",
      "model_module_version": "1.2.0",
      "model_name": "LayoutModel",
      "state": {}
     },
     "55d34dea4de64fb59f3d71fccbffb7b1": {
      "model_module": "@jupyter-widgets/base",
      "model_module_version": "1.2.0",
      "model_name": "LayoutModel",
      "state": {}
     },
     "560074f38b5b4f4cab3458016ba91541": {
      "model_module": "@jupyter-widgets/controls",
      "model_module_version": "1.5.0",
      "model_name": "DescriptionStyleModel",
      "state": {
       "description_width": ""
      }
     },
     "560f7c1e0ae14d83ac19b27686264e33": {
      "model_module": "@jupyter-widgets/controls",
      "model_module_version": "1.5.0",
      "model_name": "HTMLModel",
      "state": {
       "layout": "IPY_MODEL_2b37019793ca4c54b8c22a09f58b7a8e",
       "style": "IPY_MODEL_41d2e26c9eb44a6695eb84dcc64782fb",
       "value": " 98%"
      }
     },
     "563386d04bfe45e4a4060325afab6ed5": {
      "model_module": "@jupyter-widgets/base",
      "model_module_version": "1.2.0",
      "model_name": "LayoutModel",
      "state": {}
     },
     "5675fc8346d84623a4e9725917d0e031": {
      "model_module": "@jupyter-widgets/base",
      "model_module_version": "1.2.0",
      "model_name": "LayoutModel",
      "state": {}
     },
     "56afb59ea1434b67943dceec48e1f496": {
      "model_module": "@jupyter-widgets/base",
      "model_module_version": "1.2.0",
      "model_name": "LayoutModel",
      "state": {}
     },
     "56b55676e6a44031a55f035b99858836": {
      "model_module": "@jupyter-widgets/controls",
      "model_module_version": "1.5.0",
      "model_name": "HTMLModel",
      "state": {
       "layout": "IPY_MODEL_2cd4c8f40d6d4b48a4e6220311e4f5b8",
       "style": "IPY_MODEL_a4589134c2b64f939857ab278e777eb0",
       "value": " 3999/4000 [01:48&lt;00:00, 33.40it/s]"
      }
     },
     "572c39cf897047b5af5780b8182a9c10": {
      "model_module": "@jupyter-widgets/controls",
      "model_module_version": "1.5.0",
      "model_name": "DescriptionStyleModel",
      "state": {
       "description_width": ""
      }
     },
     "57abf4e2fdfe4548b52043ca49f49203": {
      "model_module": "@jupyter-widgets/controls",
      "model_module_version": "1.5.0",
      "model_name": "HBoxModel",
      "state": {
       "children": [
        "IPY_MODEL_828e1ca13a74427eb8657e3fdcc70b59",
        "IPY_MODEL_6d11d5394e81452db124c943c3376b0d",
        "IPY_MODEL_200ba41b72c14f8ea7677168ab0295e5"
       ],
       "layout": "IPY_MODEL_8ff62ea1f83246bf8c41968dcea4e90a"
      }
     },
     "5850c16af77a463782c0ec9a6dc2920b": {
      "model_module": "@jupyter-widgets/controls",
      "model_module_version": "1.5.0",
      "model_name": "HBoxModel",
      "state": {
       "children": [
        "IPY_MODEL_7e2a6c7613f747a898ac3cdefce3acfd",
        "IPY_MODEL_3c82740483384d80a995608875a8253f",
        "IPY_MODEL_b845d3932ce34bc7ac05e59116a60850"
       ],
       "layout": "IPY_MODEL_19aa45c31e28457fb4ec500820db9576"
      }
     },
     "5853491456364af1b510cc08c07bc2cf": {
      "model_module": "@jupyter-widgets/controls",
      "model_module_version": "1.5.0",
      "model_name": "HTMLModel",
      "state": {
       "layout": "IPY_MODEL_40c61b6889454405a33b1bcf4650e55b",
       "style": "IPY_MODEL_f67d556741ee4dfba5623484977c003d",
       "value": " 50/50 [00:08&lt;00:00,  6.93it/s]"
      }
     },
     "58b8a98c698245238bf25888b3ac0cca": {
      "model_module": "@jupyter-widgets/base",
      "model_module_version": "1.2.0",
      "model_name": "LayoutModel",
      "state": {}
     },
     "58d97164e09b4f10bc605caaa7744ea8": {
      "model_module": "@jupyter-widgets/base",
      "model_module_version": "1.2.0",
      "model_name": "LayoutModel",
      "state": {}
     },
     "59441440041646dd9003dfd14b170aee": {
      "model_module": "@jupyter-widgets/controls",
      "model_module_version": "1.5.0",
      "model_name": "HBoxModel",
      "state": {
       "children": [
        "IPY_MODEL_1219a3b0092a474cab5bfbdb21257a06",
        "IPY_MODEL_cdd9758ba12147a2ad687e6f144a3304",
        "IPY_MODEL_2e607a1335bb4b9fa0e7b78b9922a325"
       ],
       "layout": "IPY_MODEL_220156b1fcbe49b1973d4605c29f7b93"
      }
     },
     "59d0370bf33d465fb4d4f4718d9f50f0": {
      "model_module": "@jupyter-widgets/base",
      "model_module_version": "1.2.0",
      "model_name": "LayoutModel",
      "state": {}
     },
     "5a93d4002b72464fb9071a5343b03268": {
      "model_module": "@jupyter-widgets/controls",
      "model_module_version": "1.5.0",
      "model_name": "FloatProgressModel",
      "state": {
       "layout": "IPY_MODEL_3e0272623dc042b08c724c2728b75c17",
       "max": 50,
       "style": "IPY_MODEL_418b29c772774457b629077815a075cd",
       "value": 50
      }
     },
     "5a99db4b2cfd4669b05566e473840229": {
      "model_module": "@jupyter-widgets/controls",
      "model_module_version": "1.5.0",
      "model_name": "DescriptionStyleModel",
      "state": {
       "description_width": ""
      }
     },
     "5ad8b3f632264e6e86a595b954ccabab": {
      "model_module": "@jupyter-widgets/controls",
      "model_module_version": "1.5.0",
      "model_name": "DescriptionStyleModel",
      "state": {
       "description_width": ""
      }
     },
     "5b3bd7fcbecc4f66b021e705a63ababe": {
      "model_module": "@jupyter-widgets/controls",
      "model_module_version": "1.5.0",
      "model_name": "FloatProgressModel",
      "state": {
       "layout": "IPY_MODEL_ce0a24a02fb14a3b86a1e5fb9be4237d",
       "max": 50,
       "style": "IPY_MODEL_425fde63e7574ff892077fd0383de957",
       "value": 50
      }
     },
     "5b73a0b5562842cba9f921e9f07cc0eb": {
      "model_module": "@jupyter-widgets/controls",
      "model_module_version": "1.5.0",
      "model_name": "DescriptionStyleModel",
      "state": {
       "description_width": ""
      }
     },
     "5bc31ff568bb4a20b103df10f2ba3552": {
      "model_module": "@jupyter-widgets/controls",
      "model_module_version": "1.5.0",
      "model_name": "ProgressStyleModel",
      "state": {
       "description_width": ""
      }
     },
     "5bd7c99bb0fb4e8aafb8d90b792ebf58": {
      "model_module": "@jupyter-widgets/controls",
      "model_module_version": "1.5.0",
      "model_name": "HTMLModel",
      "state": {
       "layout": "IPY_MODEL_060c2fde09d64aac8ec5ff26c283c6fb",
       "style": "IPY_MODEL_9890def8008242a6afc2cf3046665060",
       "value": "100%"
      }
     },
     "5bd9023420cb4fa089db61f5be4f7bc6": {
      "model_module": "@jupyter-widgets/controls",
      "model_module_version": "1.5.0",
      "model_name": "HTMLModel",
      "state": {
       "layout": "IPY_MODEL_e1322e4db5b349898d958a3eacc1ec60",
       "style": "IPY_MODEL_bab9d152b63142b0ada22e6ccd25b766",
       "value": " 98%"
      }
     },
     "5c6fac285be64719b87cb81de73b2e8f": {
      "model_module": "@jupyter-widgets/controls",
      "model_module_version": "1.5.0",
      "model_name": "ProgressStyleModel",
      "state": {
       "description_width": ""
      }
     },
     "5ca366a510fb4f53a78363b005d39504": {
      "model_module": "@jupyter-widgets/base",
      "model_module_version": "1.2.0",
      "model_name": "LayoutModel",
      "state": {}
     },
     "5caabdf1d88448df89d92b7eed75685d": {
      "model_module": "@jupyter-widgets/controls",
      "model_module_version": "1.5.0",
      "model_name": "DescriptionStyleModel",
      "state": {
       "description_width": ""
      }
     },
     "5d17e1cc6e2447c29d3e2e6911c258df": {
      "model_module": "@jupyter-widgets/base",
      "model_module_version": "1.2.0",
      "model_name": "LayoutModel",
      "state": {}
     },
     "5dde04a9a1424caf813745511976e481": {
      "model_module": "@jupyter-widgets/controls",
      "model_module_version": "1.5.0",
      "model_name": "ProgressStyleModel",
      "state": {
       "description_width": ""
      }
     },
     "5ecbfcd1dfca431ea0d4a28c45649753": {
      "model_module": "@jupyter-widgets/controls",
      "model_module_version": "1.5.0",
      "model_name": "FloatProgressModel",
      "state": {
       "layout": "IPY_MODEL_727f79d26faf451a884b83f7f439c047",
       "max": 50,
       "style": "IPY_MODEL_afd976478a494c2d911286aef67e1817",
       "value": 50
      }
     },
     "5f353271442a421891e33bf491ebe1bd": {
      "model_module": "@jupyter-widgets/base",
      "model_module_version": "1.2.0",
      "model_name": "LayoutModel",
      "state": {}
     },
     "5f802ca97c1d4c9b9bb55d5400c38d5b": {
      "model_module": "@jupyter-widgets/base",
      "model_module_version": "1.2.0",
      "model_name": "LayoutModel",
      "state": {}
     },
     "5fc2d835d4164cd785a7551063c1598f": {
      "model_module": "@jupyter-widgets/base",
      "model_module_version": "1.2.0",
      "model_name": "LayoutModel",
      "state": {}
     },
     "5fd3433ffaa143839935f2fa9a79ecf5": {
      "model_module": "@jupyter-widgets/controls",
      "model_module_version": "1.5.0",
      "model_name": "FloatProgressModel",
      "state": {
       "layout": "IPY_MODEL_096e327cb9db40bebc7f70dbff6b74d4",
       "max": 50,
       "style": "IPY_MODEL_d0ccac878834495ca82fff94092f0148",
       "value": 50
      }
     },
     "5fddc23fade149b4a089897f2207370b": {
      "model_module": "@jupyter-widgets/controls",
      "model_module_version": "1.5.0",
      "model_name": "DescriptionStyleModel",
      "state": {
       "description_width": ""
      }
     },
     "603eab0bc9f44c148e27722969de49ed": {
      "model_module": "@jupyter-widgets/controls",
      "model_module_version": "1.5.0",
      "model_name": "DescriptionStyleModel",
      "state": {
       "description_width": ""
      }
     },
     "604eaf3943e34d449a702b68172d546a": {
      "model_module": "@jupyter-widgets/base",
      "model_module_version": "1.2.0",
      "model_name": "LayoutModel",
      "state": {}
     },
     "60df0ad304454dc09db7831271af65d7": {
      "model_module": "@jupyter-widgets/base",
      "model_module_version": "1.2.0",
      "model_name": "LayoutModel",
      "state": {}
     },
     "61e334e3c2e64063a91cf3f5f1eedf14": {
      "model_module": "@jupyter-widgets/base",
      "model_module_version": "1.2.0",
      "model_name": "LayoutModel",
      "state": {}
     },
     "6245d5a596ee42019fa447e7cba4ca22": {
      "model_module": "@jupyter-widgets/base",
      "model_module_version": "1.2.0",
      "model_name": "LayoutModel",
      "state": {}
     },
     "625b4862df7b49d982cd0a60554bcac9": {
      "model_module": "@jupyter-widgets/controls",
      "model_module_version": "1.5.0",
      "model_name": "HTMLModel",
      "state": {
       "layout": "IPY_MODEL_974b3d554d47419ca59846baf2883efa",
       "style": "IPY_MODEL_a0c3a9e06dbd4ac6bd3dc67bffbe1ace",
       "value": " 40/40 [00:02&lt;00:00, 19.72it/s]"
      }
     },
     "62866ceb62144088b48106275d4c2909": {
      "model_module": "@jupyter-widgets/controls",
      "model_module_version": "1.5.0",
      "model_name": "DescriptionStyleModel",
      "state": {
       "description_width": ""
      }
     },
     "62cbb80e9a034649aa2e008c83ec8b62": {
      "model_module": "@jupyter-widgets/base",
      "model_module_version": "1.2.0",
      "model_name": "LayoutModel",
      "state": {}
     },
     "62dc4c7498604db89526e47d851a9bce": {
      "model_module": "@jupyter-widgets/base",
      "model_module_version": "1.2.0",
      "model_name": "LayoutModel",
      "state": {}
     },
     "6346fa28653747cea88eb170b34016ee": {
      "model_module": "@jupyter-widgets/base",
      "model_module_version": "1.2.0",
      "model_name": "LayoutModel",
      "state": {}
     },
     "63dd37d18f354d529b683bba448c3cde": {
      "model_module": "@jupyter-widgets/controls",
      "model_module_version": "1.5.0",
      "model_name": "DescriptionStyleModel",
      "state": {
       "description_width": ""
      }
     },
     "640f831da2fd4097bb2f1936bff413fa": {
      "model_module": "@jupyter-widgets/base",
      "model_module_version": "1.2.0",
      "model_name": "LayoutModel",
      "state": {}
     },
     "64759cc68c01418daa92c59eafac3b5d": {
      "model_module": "@jupyter-widgets/controls",
      "model_module_version": "1.5.0",
      "model_name": "DescriptionStyleModel",
      "state": {
       "description_width": ""
      }
     },
     "6489b4486aed42998cb689311b985797": {
      "model_module": "@jupyter-widgets/base",
      "model_module_version": "1.2.0",
      "model_name": "LayoutModel",
      "state": {}
     },
     "64d8f9dd986e4ba2a13200ad205cf2c5": {
      "model_module": "@jupyter-widgets/base",
      "model_module_version": "1.2.0",
      "model_name": "LayoutModel",
      "state": {}
     },
     "65c73d7f9aa4490dbdfd65685f932fa9": {
      "model_module": "@jupyter-widgets/controls",
      "model_module_version": "1.5.0",
      "model_name": "FloatProgressModel",
      "state": {
       "layout": "IPY_MODEL_798480df6e594699a284f1f32fca6fe6",
       "max": 4000,
       "style": "IPY_MODEL_354b5a0b0016410dbdef3227aa325a3e",
       "value": 4000
      }
     },
     "65e99d59e3404be8b5a05496b3fa0e9a": {
      "model_module": "@jupyter-widgets/base",
      "model_module_version": "1.2.0",
      "model_name": "LayoutModel",
      "state": {}
     },
     "66945ecfcaa04b67a5d9e30f77c55b2d": {
      "model_module": "@jupyter-widgets/controls",
      "model_module_version": "1.5.0",
      "model_name": "ProgressStyleModel",
      "state": {
       "description_width": ""
      }
     },
     "6696ed641c004de7a5409fa26c9fffbe": {
      "model_module": "@jupyter-widgets/controls",
      "model_module_version": "1.5.0",
      "model_name": "FloatProgressModel",
      "state": {
       "layout": "IPY_MODEL_d467e0f68d9d43d8a65dc7d75b082973",
       "max": 50,
       "style": "IPY_MODEL_9be3e5aab1bc412091e5eb646c079783",
       "value": 50
      }
     },
     "66f6b629ea1049b89f9202b7f9d946fc": {
      "model_module": "@jupyter-widgets/base",
      "model_module_version": "1.2.0",
      "model_name": "LayoutModel",
      "state": {}
     },
     "670ca640cbf14f29b786f3ff15c0d41a": {
      "model_module": "@jupyter-widgets/controls",
      "model_module_version": "1.5.0",
      "model_name": "FloatProgressModel",
      "state": {
       "bar_style": "success",
       "layout": "IPY_MODEL_39cc588de6bb4759b1b70c503052c2a0",
       "max": 40,
       "style": "IPY_MODEL_490b0e0fc1224bdf90c7ad2bd5c9b6da",
       "value": 40
      }
     },
     "6752b7e608054783b984ff7953a26e00": {
      "model_module": "@jupyter-widgets/controls",
      "model_module_version": "1.5.0",
      "model_name": "HBoxModel",
      "state": {
       "children": [
        "IPY_MODEL_7a131b63da704184b77c322bb52dd8ff",
        "IPY_MODEL_a094786e28f5464ea56defbd71f756c1",
        "IPY_MODEL_2e3515c3c778465f9181bcf76171ed1f"
       ],
       "layout": "IPY_MODEL_51c94a50ea19468e835da5371f784e15"
      }
     },
     "67c9f172f7d64ad0bd2c6ee1bd1d327e": {
      "model_module": "@jupyter-widgets/base",
      "model_module_version": "1.2.0",
      "model_name": "LayoutModel",
      "state": {}
     },
     "68024ec666174555b29e8af6d6cccca5": {
      "model_module": "@jupyter-widgets/controls",
      "model_module_version": "1.5.0",
      "model_name": "DescriptionStyleModel",
      "state": {
       "description_width": ""
      }
     },
     "68da31dcc6804b09a92904b6dedb3499": {
      "model_module": "@jupyter-widgets/controls",
      "model_module_version": "1.5.0",
      "model_name": "HTMLModel",
      "state": {
       "layout": "IPY_MODEL_c2dee3579e5f42d3a1614a03475b9375",
       "style": "IPY_MODEL_456fd87e1a82438cb41f7f806e884b78",
       "value": " 50/50 [00:08&lt;00:00,  7.05it/s]"
      }
     },
     "690a47db2e7d4f53b22c43924b2bba08": {
      "model_module": "@jupyter-widgets/base",
      "model_module_version": "1.2.0",
      "model_name": "LayoutModel",
      "state": {}
     },
     "692a1b897a40420a88930f9b300f6258": {
      "model_module": "@jupyter-widgets/base",
      "model_module_version": "1.2.0",
      "model_name": "LayoutModel",
      "state": {}
     },
     "692f434bc49849028191e7f7cdb8398a": {
      "model_module": "@jupyter-widgets/base",
      "model_module_version": "1.2.0",
      "model_name": "LayoutModel",
      "state": {}
     },
     "6980ecfc34bb4e19a940a203c3b22fad": {
      "model_module": "@jupyter-widgets/base",
      "model_module_version": "1.2.0",
      "model_name": "LayoutModel",
      "state": {}
     },
     "69be9750b13d4f20af2c208bb8e421ec": {
      "model_module": "@jupyter-widgets/base",
      "model_module_version": "1.2.0",
      "model_name": "LayoutModel",
      "state": {}
     },
     "69c85ce265574a0ba659bd0d094f7d2f": {
      "model_module": "@jupyter-widgets/base",
      "model_module_version": "1.2.0",
      "model_name": "LayoutModel",
      "state": {}
     },
     "6a01d562e90a455f86d67eddb6d735e7": {
      "model_module": "@jupyter-widgets/base",
      "model_module_version": "1.2.0",
      "model_name": "LayoutModel",
      "state": {}
     },
     "6b4adeccb03d476a8e5f91253296afb8": {
      "model_module": "@jupyter-widgets/controls",
      "model_module_version": "1.5.0",
      "model_name": "ProgressStyleModel",
      "state": {
       "description_width": ""
      }
     },
     "6c6720f1b1e141ad81d4caf911d639f1": {
      "model_module": "@jupyter-widgets/controls",
      "model_module_version": "1.5.0",
      "model_name": "FloatProgressModel",
      "state": {
       "bar_style": "success",
       "layout": "IPY_MODEL_6980ecfc34bb4e19a940a203c3b22fad",
       "max": 40,
       "style": "IPY_MODEL_5bc31ff568bb4a20b103df10f2ba3552",
       "value": 40
      }
     },
     "6cd9c65e1e8944b08d90b3888b2f6761": {
      "model_module": "@jupyter-widgets/base",
      "model_module_version": "1.2.0",
      "model_name": "LayoutModel",
      "state": {}
     },
     "6d03f892fea445df917340bd81659726": {
      "model_module": "@jupyter-widgets/controls",
      "model_module_version": "1.5.0",
      "model_name": "FloatProgressModel",
      "state": {
       "layout": "IPY_MODEL_457eb5ba490449afb0eedbd7cda76308",
       "max": 4000,
       "style": "IPY_MODEL_771046668fe241ae98d5b00eb4e18237",
       "value": 4000
      }
     },
     "6d11d5394e81452db124c943c3376b0d": {
      "model_module": "@jupyter-widgets/controls",
      "model_module_version": "1.5.0",
      "model_name": "FloatProgressModel",
      "state": {
       "bar_style": "danger",
       "layout": "IPY_MODEL_8ba6aba580054a419847406f83511fb7",
       "max": 10,
       "style": "IPY_MODEL_132706ed8c444603bf85d70a1e8b1290"
      }
     },
     "6db8bb470c0d4c93a042d259f53d349c": {
      "model_module": "@jupyter-widgets/base",
      "model_module_version": "1.2.0",
      "model_name": "LayoutModel",
      "state": {}
     },
     "6de04fc4309f4fa184f548a3fed86deb": {
      "model_module": "@jupyter-widgets/controls",
      "model_module_version": "1.5.0",
      "model_name": "FloatProgressModel",
      "state": {
       "layout": "IPY_MODEL_5f802ca97c1d4c9b9bb55d5400c38d5b",
       "max": 4000,
       "style": "IPY_MODEL_0da696cab4c94c24abe13fef3af5e171",
       "value": 4000
      }
     },
     "6e5af16c93ff4ed1af3062e66b75404d": {
      "model_module": "@jupyter-widgets/controls",
      "model_module_version": "1.5.0",
      "model_name": "DescriptionStyleModel",
      "state": {
       "description_width": ""
      }
     },
     "6ed8dd0a25a1486abd85c2b850c78ef6": {
      "model_module": "@jupyter-widgets/controls",
      "model_module_version": "1.5.0",
      "model_name": "DescriptionStyleModel",
      "state": {
       "description_width": ""
      }
     },
     "70992ea887c54884beb5fbb6de078e4a": {
      "model_module": "@jupyter-widgets/base",
      "model_module_version": "1.2.0",
      "model_name": "LayoutModel",
      "state": {}
     },
     "70a22c8a83ef4574a51d918f600c8d6e": {
      "model_module": "@jupyter-widgets/base",
      "model_module_version": "1.2.0",
      "model_name": "LayoutModel",
      "state": {}
     },
     "70dfa38573174d2e8df912be75d78d12": {
      "model_module": "@jupyter-widgets/controls",
      "model_module_version": "1.5.0",
      "model_name": "ProgressStyleModel",
      "state": {
       "description_width": ""
      }
     },
     "710f770a14b54f8786172afcd2b3d68d": {
      "model_module": "@jupyter-widgets/base",
      "model_module_version": "1.2.0",
      "model_name": "LayoutModel",
      "state": {}
     },
     "712ff6e9f8bc4474af1aecefffca7195": {
      "model_module": "@jupyter-widgets/base",
      "model_module_version": "1.2.0",
      "model_name": "LayoutModel",
      "state": {}
     },
     "7151f1d75ecb4d08912a0ee8c9178f02": {
      "model_module": "@jupyter-widgets/base",
      "model_module_version": "1.2.0",
      "model_name": "LayoutModel",
      "state": {}
     },
     "71f3e0223e714482967c49220460d758": {
      "model_module": "@jupyter-widgets/base",
      "model_module_version": "1.2.0",
      "model_name": "LayoutModel",
      "state": {}
     },
     "72677419ae654dbcb3e391ac12432e4a": {
      "model_module": "@jupyter-widgets/controls",
      "model_module_version": "1.5.0",
      "model_name": "DescriptionStyleModel",
      "state": {
       "description_width": ""
      }
     },
     "727f79d26faf451a884b83f7f439c047": {
      "model_module": "@jupyter-widgets/base",
      "model_module_version": "1.2.0",
      "model_name": "LayoutModel",
      "state": {}
     },
     "728d5219434d4fb7b98378a49f02db2e": {
      "model_module": "@jupyter-widgets/controls",
      "model_module_version": "1.5.0",
      "model_name": "HTMLModel",
      "state": {
       "layout": "IPY_MODEL_e887d905b30842ce8b365c4d5d8a64b3",
       "style": "IPY_MODEL_a504e2f05bfb49a881249d504f8cafe4",
       "value": " 50/50 [00:02&lt;00:00, 22.81it/s]"
      }
     },
     "72fe9ee8ef7d46e6b545c77e46257ec7": {
      "model_module": "@jupyter-widgets/base",
      "model_module_version": "1.2.0",
      "model_name": "LayoutModel",
      "state": {}
     },
     "731ae83f487040da91f191ba497df859": {
      "model_module": "@jupyter-widgets/controls",
      "model_module_version": "1.5.0",
      "model_name": "ProgressStyleModel",
      "state": {
       "description_width": ""
      }
     },
     "737d65f3c1a34adca22939adbd827709": {
      "model_module": "@jupyter-widgets/controls",
      "model_module_version": "1.5.0",
      "model_name": "HBoxModel",
      "state": {
       "children": [
        "IPY_MODEL_e63a00f0d65f4422ab11acbb15150f61",
        "IPY_MODEL_fae0ded236f04788b62fa1040d8518ce",
        "IPY_MODEL_3938d9946c1f438fb26ee32b262e475d"
       ],
       "layout": "IPY_MODEL_1c1ddffddeff40448c2de1f553fdc70d"
      }
     },
     "743e5b5ac0e44ff4affd767805fd65b8": {
      "model_module": "@jupyter-widgets/base",
      "model_module_version": "1.2.0",
      "model_name": "LayoutModel",
      "state": {}
     },
     "7451da51c66046e4b645f56bb102993d": {
      "model_module": "@jupyter-widgets/base",
      "model_module_version": "1.2.0",
      "model_name": "LayoutModel",
      "state": {}
     },
     "74706e2df32e443dbcea6ec3937d23d7": {
      "model_module": "@jupyter-widgets/controls",
      "model_module_version": "1.5.0",
      "model_name": "HTMLModel",
      "state": {
       "layout": "IPY_MODEL_2513b6ca54e140e1a4e17d6424e954bc",
       "style": "IPY_MODEL_80dcf509fe36430084655f0237a9ce4c",
       "value": " 49/50 [00:05&lt;00:00, 12.71it/s]"
      }
     },
     "74acce2bf09841a5b5c5e35239d2be65": {
      "model_module": "@jupyter-widgets/base",
      "model_module_version": "1.2.0",
      "model_name": "LayoutModel",
      "state": {}
     },
     "74b7b1f71f4e45b88581c797eb63f9f1": {
      "model_module": "@jupyter-widgets/controls",
      "model_module_version": "1.5.0",
      "model_name": "HTMLModel",
      "state": {
       "layout": "IPY_MODEL_4ec795e5b83f413883b66cee992eea9a",
       "style": "IPY_MODEL_db069955c9414a06be3c97e8b78ffdf3",
       "value": "100%"
      }
     },
     "74c2f63f415148109b0de525f7594ec4": {
      "model_module": "@jupyter-widgets/controls",
      "model_module_version": "1.5.0",
      "model_name": "HBoxModel",
      "state": {
       "children": [
        "IPY_MODEL_92f60b0b0a034c35a5643d00077787e8",
        "IPY_MODEL_08df0e8d44024071bb1826d81b7bcb6a",
        "IPY_MODEL_12c05b5af97a443dbbf7941f52ee8cf2"
       ],
       "layout": "IPY_MODEL_eeb00743e37446bc9e87099d21286d28"
      }
     },
     "753a8617179c44ca90fc6491e78dd0af": {
      "model_module": "@jupyter-widgets/controls",
      "model_module_version": "1.5.0",
      "model_name": "FloatProgressModel",
      "state": {
       "layout": "IPY_MODEL_94fb60acd8cc4a05aa615a7da6e232a0",
       "max": 4000,
       "style": "IPY_MODEL_0a97c4c5b2544e29a6248f897deeeace",
       "value": 4000
      }
     },
     "7600106cb7684949a37fd6b7a553bc3f": {
      "model_module": "@jupyter-widgets/controls",
      "model_module_version": "1.5.0",
      "model_name": "ProgressStyleModel",
      "state": {
       "description_width": ""
      }
     },
     "7609f85923e44b049737d9799fb512e8": {
      "model_module": "@jupyter-widgets/base",
      "model_module_version": "1.2.0",
      "model_name": "LayoutModel",
      "state": {}
     },
     "7697caf08c4543a1b643c8d933834c7c": {
      "model_module": "@jupyter-widgets/controls",
      "model_module_version": "1.5.0",
      "model_name": "HTMLModel",
      "state": {
       "layout": "IPY_MODEL_09233fea29de40918a071f9f083a9d95",
       "style": "IPY_MODEL_c00ec4c058da4df8bc7552816839545b",
       "value": " 41/50 [00:01&lt;00:00, 24.13it/s]"
      }
     },
     "771046668fe241ae98d5b00eb4e18237": {
      "model_module": "@jupyter-widgets/controls",
      "model_module_version": "1.5.0",
      "model_name": "ProgressStyleModel",
      "state": {
       "description_width": ""
      }
     },
     "779134b6d881460a9c34e163a1a487bb": {
      "model_module": "@jupyter-widgets/controls",
      "model_module_version": "1.5.0",
      "model_name": "HTMLModel",
      "state": {
       "layout": "IPY_MODEL_8c27758606dc4f3ca93dcdf95ade21ef",
       "style": "IPY_MODEL_e673bd47fe4042e6ac4813b9f7b8effe",
       "value": "100%"
      }
     },
     "77f26f2797774f49a1d89e212020af06": {
      "model_module": "@jupyter-widgets/controls",
      "model_module_version": "1.5.0",
      "model_name": "HBoxModel",
      "state": {
       "children": [
        "IPY_MODEL_2b5487f176784cb29e337d4e6085498d",
        "IPY_MODEL_e4d5d7cf4bc54ae1b714ffce7e516a52",
        "IPY_MODEL_0ff252c682fd47a8ac83eeae00bd74ba"
       ],
       "layout": "IPY_MODEL_19c431ba358e4f2dad8d7677cf20f345"
      }
     },
     "780055a29a644b8dbd2ca26ab44227a5": {
      "model_module": "@jupyter-widgets/controls",
      "model_module_version": "1.5.0",
      "model_name": "HBoxModel",
      "state": {
       "children": [
        "IPY_MODEL_f040f00dad42430e8133bf9d64a92bbc",
        "IPY_MODEL_c471c00c53aa487191dddff3ebe0d328",
        "IPY_MODEL_52c45898c25a46e4b10a7a493d2314f1"
       ],
       "layout": "IPY_MODEL_79e4925ed13f4877b734e867081f59e6"
      }
     },
     "783c4334273443fab1c637a1c4cf93fc": {
      "model_module": "@jupyter-widgets/base",
      "model_module_version": "1.2.0",
      "model_name": "LayoutModel",
      "state": {}
     },
     "786bee939f7944dd8a4a3bb0119aaa05": {
      "model_module": "@jupyter-widgets/base",
      "model_module_version": "1.2.0",
      "model_name": "LayoutModel",
      "state": {}
     },
     "78b06a3753a945bdb3f8aaf6149c8777": {
      "model_module": "@jupyter-widgets/base",
      "model_module_version": "1.2.0",
      "model_name": "LayoutModel",
      "state": {}
     },
     "78eff989a1294655a5ac52e82ab1f570": {
      "model_module": "@jupyter-widgets/controls",
      "model_module_version": "1.5.0",
      "model_name": "FloatProgressModel",
      "state": {
       "layout": "IPY_MODEL_69be9750b13d4f20af2c208bb8e421ec",
       "max": 4000,
       "style": "IPY_MODEL_f0df3665bd0a48abb9eca408cfcaf12b",
       "value": 4000
      }
     },
     "790a6b02b1e449dd9534a5714e9f4f47": {
      "model_module": "@jupyter-widgets/controls",
      "model_module_version": "1.5.0",
      "model_name": "DescriptionStyleModel",
      "state": {
       "description_width": ""
      }
     },
     "792b49cd252d4a22bc7a93d88b44c9f7": {
      "model_module": "@jupyter-widgets/controls",
      "model_module_version": "1.5.0",
      "model_name": "HTMLModel",
      "state": {
       "layout": "IPY_MODEL_ef0bdf5582ee457da354892f67c94384",
       "style": "IPY_MODEL_c12d513978e840399f8e746118950470",
       "value": " 40/40 [00:02&lt;00:00, 16.23it/s]"
      }
     },
     "798480df6e594699a284f1f32fca6fe6": {
      "model_module": "@jupyter-widgets/base",
      "model_module_version": "1.2.0",
      "model_name": "LayoutModel",
      "state": {}
     },
     "79bb367cd2404b7590747a53fdd50d6a": {
      "model_module": "@jupyter-widgets/controls",
      "model_module_version": "1.5.0",
      "model_name": "HTMLModel",
      "state": {
       "layout": "IPY_MODEL_b5096349b2b6432cbdda8a907ea41c88",
       "style": "IPY_MODEL_6ed8dd0a25a1486abd85c2b850c78ef6",
       "value": "100%"
      }
     },
     "79c5ba8b5db045eeb70a124c1cef81fc": {
      "model_module": "@jupyter-widgets/controls",
      "model_module_version": "1.5.0",
      "model_name": "HTMLModel",
      "state": {
       "layout": "IPY_MODEL_52ce66c3254c46e6a0ac35b18c1c6435",
       "style": "IPY_MODEL_c99f4769e67a45d0a9a17a210f33b1ff",
       "value": " 50/50 [00:02&lt;00:00, 21.07it/s]"
      }
     },
     "79e4925ed13f4877b734e867081f59e6": {
      "model_module": "@jupyter-widgets/base",
      "model_module_version": "1.2.0",
      "model_name": "LayoutModel",
      "state": {}
     },
     "7a131b63da704184b77c322bb52dd8ff": {
      "model_module": "@jupyter-widgets/controls",
      "model_module_version": "1.5.0",
      "model_name": "HTMLModel",
      "state": {
       "layout": "IPY_MODEL_8878cec4e45f40d8b8c2a5e4bc0a5bcf",
       "style": "IPY_MODEL_527743ec5912480e8e72b28d608d31cf",
       "value": "100%"
      }
     },
     "7a20fea46f52445ab66b1bdbeba0fcd3": {
      "model_module": "@jupyter-widgets/controls",
      "model_module_version": "1.5.0",
      "model_name": "ProgressStyleModel",
      "state": {
       "description_width": ""
      }
     },
     "7a39dbb8d93e43b38f111406634ec870": {
      "model_module": "@jupyter-widgets/controls",
      "model_module_version": "1.5.0",
      "model_name": "DescriptionStyleModel",
      "state": {
       "description_width": ""
      }
     },
     "7a47f25252bc492dab342798ebe3dd96": {
      "model_module": "@jupyter-widgets/base",
      "model_module_version": "1.2.0",
      "model_name": "LayoutModel",
      "state": {}
     },
     "7a4f291c6b6248abb613dfff465cbdaf": {
      "model_module": "@jupyter-widgets/base",
      "model_module_version": "1.2.0",
      "model_name": "LayoutModel",
      "state": {}
     },
     "7adf9a9f25364062ab44cd3b282905eb": {
      "model_module": "@jupyter-widgets/base",
      "model_module_version": "1.2.0",
      "model_name": "LayoutModel",
      "state": {}
     },
     "7afa79ddd23c4ec78e1c9625385a6fc5": {
      "model_module": "@jupyter-widgets/controls",
      "model_module_version": "1.5.0",
      "model_name": "ProgressStyleModel",
      "state": {
       "description_width": ""
      }
     },
     "7bc561a5ff2f4d43b8cdaeea3f4fc4c7": {
      "model_module": "@jupyter-widgets/base",
      "model_module_version": "1.2.0",
      "model_name": "LayoutModel",
      "state": {}
     },
     "7c8311b2ede345b693be82bf3f5c7154": {
      "model_module": "@jupyter-widgets/controls",
      "model_module_version": "1.5.0",
      "model_name": "DescriptionStyleModel",
      "state": {
       "description_width": ""
      }
     },
     "7cd172698fe34f43b8cc48179d49f0df": {
      "model_module": "@jupyter-widgets/base",
      "model_module_version": "1.2.0",
      "model_name": "LayoutModel",
      "state": {}
     },
     "7d466f0e43654223a9870825f6a299d4": {
      "model_module": "@jupyter-widgets/base",
      "model_module_version": "1.2.0",
      "model_name": "LayoutModel",
      "state": {}
     },
     "7d5c7099325e4044ba50e4853ba29cb3": {
      "model_module": "@jupyter-widgets/controls",
      "model_module_version": "1.5.0",
      "model_name": "HBoxModel",
      "state": {
       "children": [
        "IPY_MODEL_411e74a793044d1893436c3e7a486d15",
        "IPY_MODEL_4d4dfe36e9e94241b0e0b536b47314a3",
        "IPY_MODEL_4f60e9f31fea40dab59ce44ff709731f"
       ],
       "layout": "IPY_MODEL_ebf14cc3182f4e9296b0dbff7ac1a0bc"
      }
     },
     "7d5cf0cfde504d0397089f1810ca6e04": {
      "model_module": "@jupyter-widgets/controls",
      "model_module_version": "1.5.0",
      "model_name": "FloatProgressModel",
      "state": {
       "layout": "IPY_MODEL_e375dae7f8374ab9bec7778a8b6955b1",
       "max": 50,
       "style": "IPY_MODEL_8827c179f9134724b765ce4788a252b5",
       "value": 50
      }
     },
     "7e03b5b540a44c18b7ffdcdd8508f1f1": {
      "model_module": "@jupyter-widgets/base",
      "model_module_version": "1.2.0",
      "model_name": "LayoutModel",
      "state": {}
     },
     "7e2a6c7613f747a898ac3cdefce3acfd": {
      "model_module": "@jupyter-widgets/controls",
      "model_module_version": "1.5.0",
      "model_name": "HTMLModel",
      "state": {
       "layout": "IPY_MODEL_358119a640ea493cb89f8bb2e446c376",
       "style": "IPY_MODEL_b19a9d505b044798b8919be3d10860bc",
       "value": "  0%"
      }
     },
     "7e997f19346a4cc5a57e2111d9a2e97d": {
      "model_module": "@jupyter-widgets/controls",
      "model_module_version": "1.5.0",
      "model_name": "DescriptionStyleModel",
      "state": {
       "description_width": ""
      }
     },
     "7eed69be2b764307b104ac52155b2f0e": {
      "model_module": "@jupyter-widgets/controls",
      "model_module_version": "1.5.0",
      "model_name": "ProgressStyleModel",
      "state": {
       "description_width": ""
      }
     },
     "7f2ba17ff0d54f85b56f6060332f4745": {
      "model_module": "@jupyter-widgets/controls",
      "model_module_version": "1.5.0",
      "model_name": "DescriptionStyleModel",
      "state": {
       "description_width": ""
      }
     },
     "7ff03efe296d4c4884be6ad8fb627087": {
      "model_module": "@jupyter-widgets/base",
      "model_module_version": "1.2.0",
      "model_name": "LayoutModel",
      "state": {}
     },
     "802a1d3fd72c492fa31c976f5276b9f5": {
      "model_module": "@jupyter-widgets/base",
      "model_module_version": "1.2.0",
      "model_name": "LayoutModel",
      "state": {}
     },
     "807c46d155d142ce9f851fc8a5ad1fad": {
      "model_module": "@jupyter-widgets/controls",
      "model_module_version": "1.5.0",
      "model_name": "DescriptionStyleModel",
      "state": {
       "description_width": ""
      }
     },
     "80dcf509fe36430084655f0237a9ce4c": {
      "model_module": "@jupyter-widgets/controls",
      "model_module_version": "1.5.0",
      "model_name": "DescriptionStyleModel",
      "state": {
       "description_width": ""
      }
     },
     "81086730ef0844819740e99cda38f916": {
      "model_module": "@jupyter-widgets/controls",
      "model_module_version": "1.5.0",
      "model_name": "FloatProgressModel",
      "state": {
       "bar_style": "success",
       "layout": "IPY_MODEL_0bb9851ef65e4b3d84254cd3956deb05",
       "max": 50,
       "style": "IPY_MODEL_00db31c6ed014871b2319fc03af612ee",
       "value": 50
      }
     },
     "81481926e45346508817c9e7ef7bbd68": {
      "model_module": "@jupyter-widgets/controls",
      "model_module_version": "1.5.0",
      "model_name": "HBoxModel",
      "state": {
       "children": [
        "IPY_MODEL_be24bacbd240475fb707b48238926b1e",
        "IPY_MODEL_0184bb5f457e466e9c66a66bca4120ea",
        "IPY_MODEL_ad4b96aa4d6a4d9096e454e7cca01368"
       ],
       "layout": "IPY_MODEL_4249b7a9f7cb4cd6ac1d7da28d16083b"
      }
     },
     "81be78fe883748ce82d2858a90c5f562": {
      "model_module": "@jupyter-widgets/base",
      "model_module_version": "1.2.0",
      "model_name": "LayoutModel",
      "state": {}
     },
     "81f9f542eb4f4df0a9dc77b707b81ed2": {
      "model_module": "@jupyter-widgets/controls",
      "model_module_version": "1.5.0",
      "model_name": "HTMLModel",
      "state": {
       "layout": "IPY_MODEL_85da35c1270346a1a8289739e7bef332",
       "style": "IPY_MODEL_e79216bcb274444986db8fc0a0372571",
       "value": " 13/40 [00:00&lt;00:01, 17.65it/s]"
      }
     },
     "828a26a5a0064bd1a33f9928ee303b0b": {
      "model_module": "@jupyter-widgets/controls",
      "model_module_version": "1.5.0",
      "model_name": "FloatProgressModel",
      "state": {
       "layout": "IPY_MODEL_53cc52af33824eeaa79c03bfc5c797c6",
       "max": 50,
       "style": "IPY_MODEL_d1ea2af088724faaaf94a7ff6cd8c227",
       "value": 50
      }
     },
     "828e1ca13a74427eb8657e3fdcc70b59": {
      "model_module": "@jupyter-widgets/controls",
      "model_module_version": "1.5.0",
      "model_name": "HTMLModel",
      "state": {
       "layout": "IPY_MODEL_1f0b08ab821a4933b60eff0546bde721",
       "style": "IPY_MODEL_ef5d262f684445a08d3fe5d55043d3cd",
       "value": "  0%"
      }
     },
     "82b6964e5b364936acb8580de10bff9c": {
      "model_module": "@jupyter-widgets/base",
      "model_module_version": "1.2.0",
      "model_name": "LayoutModel",
      "state": {}
     },
     "82bf5257c6be429d92bbb10327fcd29a": {
      "model_module": "@jupyter-widgets/controls",
      "model_module_version": "1.5.0",
      "model_name": "HTMLModel",
      "state": {
       "layout": "IPY_MODEL_ae24070be70c4db2a0535bbb7e5ff1e9",
       "style": "IPY_MODEL_603eab0bc9f44c148e27722969de49ed",
       "value": " 30%"
      }
     },
     "8305e977ef1240deb2f950545d21c322": {
      "model_module": "@jupyter-widgets/controls",
      "model_module_version": "1.5.0",
      "model_name": "ProgressStyleModel",
      "state": {
       "description_width": ""
      }
     },
     "833caad0600249bfb97ce7859147d3d4": {
      "model_module": "@jupyter-widgets/controls",
      "model_module_version": "1.5.0",
      "model_name": "HTMLModel",
      "state": {
       "layout": "IPY_MODEL_28e2dfd967dc49f6aba33afb9c11992f",
       "style": "IPY_MODEL_e4ee34eca42e4e77b95c86065ed69f04",
       "value": "100%"
      }
     },
     "833f1fdea66348a6b1b6870156a5e008": {
      "model_module": "@jupyter-widgets/base",
      "model_module_version": "1.2.0",
      "model_name": "LayoutModel",
      "state": {}
     },
     "83eb00c22bfd4994bb72442992083f28": {
      "model_module": "@jupyter-widgets/controls",
      "model_module_version": "1.5.0",
      "model_name": "DescriptionStyleModel",
      "state": {
       "description_width": ""
      }
     },
     "842647c7104f4d2f9cf00add90aba474": {
      "model_module": "@jupyter-widgets/base",
      "model_module_version": "1.2.0",
      "model_name": "LayoutModel",
      "state": {}
     },
     "843cafae785042c5bb16dd3cc295d049": {
      "model_module": "@jupyter-widgets/controls",
      "model_module_version": "1.5.0",
      "model_name": "HTMLModel",
      "state": {
       "layout": "IPY_MODEL_d94df6c3830349c7ad884d230c512312",
       "style": "IPY_MODEL_0121c77e25db417e98e3ab6ddfd329c9",
       "value": " 3997/4000 [02:36&lt;00:00, 37.91it/s]"
      }
     },
     "846bdb524fd644c08beb9159c891dcb8": {
      "model_module": "@jupyter-widgets/controls",
      "model_module_version": "1.5.0",
      "model_name": "HBoxModel",
      "state": {
       "children": [
        "IPY_MODEL_8df54050b7a24575ba5e6298ebf5e9e1",
        "IPY_MODEL_21b07d8a32ae45c69bfaa4ed3627ac20",
        "IPY_MODEL_2a01ed632b444563bc2c75d85748fb42"
       ],
       "layout": "IPY_MODEL_b589acad984641bfae1486fbc6dd8146"
      }
     },
     "84a7fa2afea8490c8d6b1972726b2d12": {
      "model_module": "@jupyter-widgets/controls",
      "model_module_version": "1.5.0",
      "model_name": "HTMLModel",
      "state": {
       "layout": "IPY_MODEL_d580ce4b5420489bbc080ee3e63f33a1",
       "style": "IPY_MODEL_1ecda356130943e482bf11ae02846e15",
       "value": "100%"
      }
     },
     "85b2063845494c409272a3b91e568a9c": {
      "model_module": "@jupyter-widgets/base",
      "model_module_version": "1.2.0",
      "model_name": "LayoutModel",
      "state": {}
     },
     "85da35c1270346a1a8289739e7bef332": {
      "model_module": "@jupyter-widgets/base",
      "model_module_version": "1.2.0",
      "model_name": "LayoutModel",
      "state": {}
     },
     "85dba55d27bb4c2ba6ba76f1813ae5ae": {
      "model_module": "@jupyter-widgets/base",
      "model_module_version": "1.2.0",
      "model_name": "LayoutModel",
      "state": {}
     },
     "85f42384c51348a0afe0c448ad14959c": {
      "model_module": "@jupyter-widgets/controls",
      "model_module_version": "1.5.0",
      "model_name": "DescriptionStyleModel",
      "state": {
       "description_width": ""
      }
     },
     "860aaa95bd454ae395f348a624849b75": {
      "model_module": "@jupyter-widgets/controls",
      "model_module_version": "1.5.0",
      "model_name": "HTMLModel",
      "state": {
       "layout": "IPY_MODEL_398e55a52ea849ae829d01004b4d1524",
       "style": "IPY_MODEL_790a6b02b1e449dd9534a5714e9f4f47",
       "value": "100%"
      }
     },
     "8622a3547e7b4d20a7dd78abed10ac84": {
      "model_module": "@jupyter-widgets/controls",
      "model_module_version": "1.5.0",
      "model_name": "DescriptionStyleModel",
      "state": {
       "description_width": ""
      }
     },
     "86b0816e6ca0427582cfaf07817fa143": {
      "model_module": "@jupyter-widgets/controls",
      "model_module_version": "1.5.0",
      "model_name": "DescriptionStyleModel",
      "state": {
       "description_width": ""
      }
     },
     "86d4501f04b44044a7f484697947e2c8": {
      "model_module": "@jupyter-widgets/base",
      "model_module_version": "1.2.0",
      "model_name": "LayoutModel",
      "state": {}
     },
     "87195aca506241f6a32757f41e30eee6": {
      "model_module": "@jupyter-widgets/controls",
      "model_module_version": "1.5.0",
      "model_name": "FloatProgressModel",
      "state": {
       "bar_style": "success",
       "layout": "IPY_MODEL_55217ac7cb964dddb6c561ec08991ab4",
       "max": 800,
       "style": "IPY_MODEL_29a24aa2823b4355a70190e52dec4d17",
       "value": 800
      }
     },
     "872ab828975b4064b74a2f0586badbbc": {
      "model_module": "@jupyter-widgets/base",
      "model_module_version": "1.2.0",
      "model_name": "LayoutModel",
      "state": {}
     },
     "872b77e1e14e4724a4a0b9057a51c51a": {
      "model_module": "@jupyter-widgets/controls",
      "model_module_version": "1.5.0",
      "model_name": "HTMLModel",
      "state": {
       "layout": "IPY_MODEL_36a8752f31b84a1091e3ab3aaaff85c6",
       "style": "IPY_MODEL_d69b2a1c5d664278bc42b1a79e5ae29a",
       "value": " 0/10 [00:00&lt;?, ?it/s]"
      }
     },
     "8779be27b75c4989b108f839efbd8c15": {
      "model_module": "@jupyter-widgets/controls",
      "model_module_version": "1.5.0",
      "model_name": "DescriptionStyleModel",
      "state": {
       "description_width": ""
      }
     },
     "87a73a6c14f34dcdbb4d938f5ec31c30": {
      "model_module": "@jupyter-widgets/base",
      "model_module_version": "1.2.0",
      "model_name": "LayoutModel",
      "state": {}
     },
     "87b53930aaad4b7c8edeefa14e591184": {
      "model_module": "@jupyter-widgets/controls",
      "model_module_version": "1.5.0",
      "model_name": "HBoxModel",
      "state": {
       "children": [
        "IPY_MODEL_84a7fa2afea8490c8d6b1972726b2d12",
        "IPY_MODEL_81086730ef0844819740e99cda38f916",
        "IPY_MODEL_1d8615e270ee4a79990ff084b4a95a5f"
       ],
       "layout": "IPY_MODEL_ab63b39ffa73469293c2db814f657fa9"
      }
     },
     "87c082ca297a4d79a286534386326ded": {
      "model_module": "@jupyter-widgets/base",
      "model_module_version": "1.2.0",
      "model_name": "LayoutModel",
      "state": {}
     },
     "8803a383f1064a57a5ac2b7844e89185": {
      "model_module": "@jupyter-widgets/base",
      "model_module_version": "1.2.0",
      "model_name": "LayoutModel",
      "state": {}
     },
     "8827c179f9134724b765ce4788a252b5": {
      "model_module": "@jupyter-widgets/controls",
      "model_module_version": "1.5.0",
      "model_name": "ProgressStyleModel",
      "state": {
       "description_width": ""
      }
     },
     "885776c4a4cb48aa9a585ee509a4340a": {
      "model_module": "@jupyter-widgets/controls",
      "model_module_version": "1.5.0",
      "model_name": "ProgressStyleModel",
      "state": {
       "description_width": ""
      }
     },
     "8878cec4e45f40d8b8c2a5e4bc0a5bcf": {
      "model_module": "@jupyter-widgets/base",
      "model_module_version": "1.2.0",
      "model_name": "LayoutModel",
      "state": {}
     },
     "88b534669b1a4b4ea25980c4f6ca95a3": {
      "model_module": "@jupyter-widgets/controls",
      "model_module_version": "1.5.0",
      "model_name": "FloatProgressModel",
      "state": {
       "bar_style": "success",
       "layout": "IPY_MODEL_af367a84d9264cc1acf50a38a9a774e2",
       "max": 40,
       "style": "IPY_MODEL_d495172f61f1466baafde208682646a7",
       "value": 40
      }
     },
     "8920ec260e6a43659999d4768b6e6ce5": {
      "model_module": "@jupyter-widgets/controls",
      "model_module_version": "1.5.0",
      "model_name": "ProgressStyleModel",
      "state": {
       "description_width": ""
      }
     },
     "8a38f17c95a5487cab621bd6265f2de5": {
      "model_module": "@jupyter-widgets/base",
      "model_module_version": "1.2.0",
      "model_name": "LayoutModel",
      "state": {}
     },
     "8a8a12458cd941bfa5b11731a052d29e": {
      "model_module": "@jupyter-widgets/base",
      "model_module_version": "1.2.0",
      "model_name": "LayoutModel",
      "state": {}
     },
     "8b1068bd760246cfa3f7dc8329b4a1f6": {
      "model_module": "@jupyter-widgets/base",
      "model_module_version": "1.2.0",
      "model_name": "LayoutModel",
      "state": {}
     },
     "8b5188c91de6421f956fdc755a483c38": {
      "model_module": "@jupyter-widgets/base",
      "model_module_version": "1.2.0",
      "model_name": "LayoutModel",
      "state": {}
     },
     "8b6fde84abab466fb14180113eeb85dd": {
      "model_module": "@jupyter-widgets/controls",
      "model_module_version": "1.5.0",
      "model_name": "DescriptionStyleModel",
      "state": {
       "description_width": ""
      }
     },
     "8b74217c0fe3451a91d8d820d3b85a42": {
      "model_module": "@jupyter-widgets/controls",
      "model_module_version": "1.5.0",
      "model_name": "ProgressStyleModel",
      "state": {
       "description_width": ""
      }
     },
     "8ba6aba580054a419847406f83511fb7": {
      "model_module": "@jupyter-widgets/base",
      "model_module_version": "1.2.0",
      "model_name": "LayoutModel",
      "state": {}
     },
     "8c1c29daf408453197d1008068172b70": {
      "model_module": "@jupyter-widgets/controls",
      "model_module_version": "1.5.0",
      "model_name": "FloatProgressModel",
      "state": {
       "layout": "IPY_MODEL_2cee1f802a01411cb4e1698c31873a92",
       "max": 50,
       "style": "IPY_MODEL_04689d38b33d4b5a8110275ff39cbc3e",
       "value": 50
      }
     },
     "8c27758606dc4f3ca93dcdf95ade21ef": {
      "model_module": "@jupyter-widgets/base",
      "model_module_version": "1.2.0",
      "model_name": "LayoutModel",
      "state": {}
     },
     "8c4f6c43e0924b218d27fe44645f74be": {
      "model_module": "@jupyter-widgets/controls",
      "model_module_version": "1.5.0",
      "model_name": "HTMLModel",
      "state": {
       "layout": "IPY_MODEL_4496a98317d042bfb9cf2acc528e272a",
       "style": "IPY_MODEL_f832a8e6b7ea42e9be06d30715a02370",
       "value": "100%"
      }
     },
     "8c6674bd57464e39a4aad469dc88b591": {
      "model_module": "@jupyter-widgets/base",
      "model_module_version": "1.2.0",
      "model_name": "LayoutModel",
      "state": {}
     },
     "8c78e89bbaf6429fa9611af07d18011d": {
      "model_module": "@jupyter-widgets/controls",
      "model_module_version": "1.5.0",
      "model_name": "HTMLModel",
      "state": {
       "layout": "IPY_MODEL_abd4b161e6b94aa38f90e0eab4cf282f",
       "style": "IPY_MODEL_ed9516ee6e464990bb3275f2ce09141d",
       "value": " 82%"
      }
     },
     "8c7aa2f584034070a0b2ce679ce867a0": {
      "model_module": "@jupyter-widgets/controls",
      "model_module_version": "1.5.0",
      "model_name": "DescriptionStyleModel",
      "state": {
       "description_width": ""
      }
     },
     "8d56d68acead4dd096e3a2983ab99479": {
      "model_module": "@jupyter-widgets/base",
      "model_module_version": "1.2.0",
      "model_name": "LayoutModel",
      "state": {}
     },
     "8dba477bdb474000b74f27c79d49e558": {
      "model_module": "@jupyter-widgets/base",
      "model_module_version": "1.2.0",
      "model_name": "LayoutModel",
      "state": {}
     },
     "8df54050b7a24575ba5e6298ebf5e9e1": {
      "model_module": "@jupyter-widgets/controls",
      "model_module_version": "1.5.0",
      "model_name": "HTMLModel",
      "state": {
       "layout": "IPY_MODEL_17c886c21e7a4d5b8b25ff89ddb8da23",
       "style": "IPY_MODEL_d153e6a8cc7c44928c0ec66aced243ba",
       "value": "100%"
      }
     },
     "8e7f7510a12f409ca83b476d83eb6a3a": {
      "model_module": "@jupyter-widgets/base",
      "model_module_version": "1.2.0",
      "model_name": "LayoutModel",
      "state": {}
     },
     "8e909ff1c65c472792f3ea2fd3fad00e": {
      "model_module": "@jupyter-widgets/base",
      "model_module_version": "1.2.0",
      "model_name": "LayoutModel",
      "state": {}
     },
     "8ee790fd46cf446da87951208b853331": {
      "model_module": "@jupyter-widgets/controls",
      "model_module_version": "1.5.0",
      "model_name": "HTMLModel",
      "state": {
       "layout": "IPY_MODEL_4593105b4718484ab0a022b92db95e3c",
       "style": "IPY_MODEL_266748db42654fa9988a79d4539cf0d4",
       "value": " 200/200 [00:09&lt;00:00, 20.48it/s]"
      }
     },
     "8ef0164bf9d148c2ac4319df1dceb4d2": {
      "model_module": "@jupyter-widgets/base",
      "model_module_version": "1.2.0",
      "model_name": "LayoutModel",
      "state": {}
     },
     "8fcbeca65fe84793ae601515244b2823": {
      "model_module": "@jupyter-widgets/controls",
      "model_module_version": "1.5.0",
      "model_name": "DescriptionStyleModel",
      "state": {
       "description_width": ""
      }
     },
     "8ff62ea1f83246bf8c41968dcea4e90a": {
      "model_module": "@jupyter-widgets/base",
      "model_module_version": "1.2.0",
      "model_name": "LayoutModel",
      "state": {}
     },
     "9011d3c063ee4698b3c9fa4c9b0be916": {
      "model_module": "@jupyter-widgets/controls",
      "model_module_version": "1.5.0",
      "model_name": "HBoxModel",
      "state": {
       "children": [
        "IPY_MODEL_4f6783f6fb084f028b2f4c04400255d7",
        "IPY_MODEL_5506d703bd0845d6a984d783c43a0b8f",
        "IPY_MODEL_728d5219434d4fb7b98378a49f02db2e"
       ],
       "layout": "IPY_MODEL_db8e7b3375b74a289a6ef1207fb090a4"
      }
     },
     "906699554893448eab512ff9e29618f2": {
      "model_module": "@jupyter-widgets/base",
      "model_module_version": "1.2.0",
      "model_name": "LayoutModel",
      "state": {}
     },
     "90a61e0698d34e75834f3b8d17b95fe9": {
      "model_module": "@jupyter-widgets/controls",
      "model_module_version": "1.5.0",
      "model_name": "DescriptionStyleModel",
      "state": {
       "description_width": ""
      }
     },
     "90ca7850cecc4548a1c518b3f23089f4": {
      "model_module": "@jupyter-widgets/controls",
      "model_module_version": "1.5.0",
      "model_name": "FloatProgressModel",
      "state": {
       "layout": "IPY_MODEL_8b5188c91de6421f956fdc755a483c38",
       "max": 4000,
       "style": "IPY_MODEL_f0c9f7c7d8884e67b15e52791e7985b7",
       "value": 4000
      }
     },
     "90d76d91dc53470dbe7d8663bc8f9759": {
      "model_module": "@jupyter-widgets/controls",
      "model_module_version": "1.5.0",
      "model_name": "ProgressStyleModel",
      "state": {
       "description_width": ""
      }
     },
     "90de5d1fe77e40a78089ad5566de4cbf": {
      "model_module": "@jupyter-widgets/controls",
      "model_module_version": "1.5.0",
      "model_name": "HTMLModel",
      "state": {
       "layout": "IPY_MODEL_460e266bf46245f3bde2eba47bebfdf7",
       "style": "IPY_MODEL_90e35bd021ff4c67886cef874d3f0b46",
       "value": " 92%"
      }
     },
     "90e35bd021ff4c67886cef874d3f0b46": {
      "model_module": "@jupyter-widgets/controls",
      "model_module_version": "1.5.0",
      "model_name": "DescriptionStyleModel",
      "state": {
       "description_width": ""
      }
     },
     "914e39806bf44a3f92d97a691fd464fc": {
      "model_module": "@jupyter-widgets/controls",
      "model_module_version": "1.5.0",
      "model_name": "HTMLModel",
      "state": {
       "layout": "IPY_MODEL_5675fc8346d84623a4e9725917d0e031",
       "style": "IPY_MODEL_494ddbd016c642a99f6b09429f482cd7",
       "value": " 4000/4000 [02:49&lt;00:00, 30.84it/s]"
      }
     },
     "9196a4a5b5c840678af742c4f99134af": {
      "model_module": "@jupyter-widgets/base",
      "model_module_version": "1.2.0",
      "model_name": "LayoutModel",
      "state": {}
     },
     "91c1918944db4ad9963aeba3d51556be": {
      "model_module": "@jupyter-widgets/base",
      "model_module_version": "1.2.0",
      "model_name": "LayoutModel",
      "state": {}
     },
     "91ebebe7bdb64a55b22260ec59748592": {
      "model_module": "@jupyter-widgets/controls",
      "model_module_version": "1.5.0",
      "model_name": "DescriptionStyleModel",
      "state": {
       "description_width": ""
      }
     },
     "92a66d46626f483b8666bc21af147a00": {
      "model_module": "@jupyter-widgets/base",
      "model_module_version": "1.2.0",
      "model_name": "LayoutModel",
      "state": {}
     },
     "92e76968b468489db7e65485fa93143f": {
      "model_module": "@jupyter-widgets/controls",
      "model_module_version": "1.5.0",
      "model_name": "HTMLModel",
      "state": {
       "layout": "IPY_MODEL_c6eb425ebe164dd7bca3f3feb7c5da32",
       "style": "IPY_MODEL_91ebebe7bdb64a55b22260ec59748592",
       "value": " 3998/4000 [01:25&lt;00:00, 53.69it/s]"
      }
     },
     "92f60b0b0a034c35a5643d00077787e8": {
      "model_module": "@jupyter-widgets/controls",
      "model_module_version": "1.5.0",
      "model_name": "HTMLModel",
      "state": {
       "layout": "IPY_MODEL_55d34dea4de64fb59f3d71fccbffb7b1",
       "style": "IPY_MODEL_943fc07b97c148d98fde65589fb79a08",
       "value": "100%"
      }
     },
     "93ca7ac4bc2342a29abc19303a1e2875": {
      "model_module": "@jupyter-widgets/controls",
      "model_module_version": "1.5.0",
      "model_name": "DescriptionStyleModel",
      "state": {
       "description_width": ""
      }
     },
     "943fc07b97c148d98fde65589fb79a08": {
      "model_module": "@jupyter-widgets/controls",
      "model_module_version": "1.5.0",
      "model_name": "DescriptionStyleModel",
      "state": {
       "description_width": ""
      }
     },
     "94b282a501784bf38ef627cde702e06c": {
      "model_module": "@jupyter-widgets/controls",
      "model_module_version": "1.5.0",
      "model_name": "HTMLModel",
      "state": {
       "layout": "IPY_MODEL_482427e73375457c876d56d09e8e2d47",
       "style": "IPY_MODEL_b68f2b413825437baa5e123a9fdc9697",
       "value": " 48/50 [00:02&lt;00:00, 23.34it/s]"
      }
     },
     "94fb60acd8cc4a05aa615a7da6e232a0": {
      "model_module": "@jupyter-widgets/base",
      "model_module_version": "1.2.0",
      "model_name": "LayoutModel",
      "state": {}
     },
     "956df3ca7a9343e79dfcd38d0a6780da": {
      "model_module": "@jupyter-widgets/controls",
      "model_module_version": "1.5.0",
      "model_name": "DescriptionStyleModel",
      "state": {
       "description_width": ""
      }
     },
     "958f111077a949e1b0dc61b96c52b9e6": {
      "model_module": "@jupyter-widgets/controls",
      "model_module_version": "1.5.0",
      "model_name": "FloatProgressModel",
      "state": {
       "bar_style": "success",
       "layout": "IPY_MODEL_62dc4c7498604db89526e47d851a9bce",
       "max": 50,
       "style": "IPY_MODEL_0f8973a44bc64691a51a68c46b665045",
       "value": 50
      }
     },
     "95bf94518605495c816d326d3ed3c3b4": {
      "model_module": "@jupyter-widgets/controls",
      "model_module_version": "1.5.0",
      "model_name": "DescriptionStyleModel",
      "state": {
       "description_width": ""
      }
     },
     "95cf3ac07a7d4834bd0769ffda80a3d1": {
      "model_module": "@jupyter-widgets/base",
      "model_module_version": "1.2.0",
      "model_name": "LayoutModel",
      "state": {}
     },
     "95e006cfac7d4d95aa38659da8ed5f76": {
      "model_module": "@jupyter-widgets/controls",
      "model_module_version": "1.5.0",
      "model_name": "ProgressStyleModel",
      "state": {
       "description_width": ""
      }
     },
     "966b067726394666b21884b9bab7f49a": {
      "model_module": "@jupyter-widgets/controls",
      "model_module_version": "1.5.0",
      "model_name": "HTMLModel",
      "state": {
       "layout": "IPY_MODEL_f1191139c3a240798b2454c4d58416c2",
       "style": "IPY_MODEL_b31a1a5e23ae40c1bfd413d621debc80",
       "value": " 46/50 [00:02&lt;00:00, 20.76it/s]"
      }
     },
     "96c03ad237ec4bafb4f0ac4a0a935e78": {
      "model_module": "@jupyter-widgets/controls",
      "model_module_version": "1.5.0",
      "model_name": "DescriptionStyleModel",
      "state": {
       "description_width": ""
      }
     },
     "96cafc54e7284961bae9a1579d660d8f": {
      "model_module": "@jupyter-widgets/controls",
      "model_module_version": "1.5.0",
      "model_name": "HTMLModel",
      "state": {
       "layout": "IPY_MODEL_45999ad1190f4faba1c2a9bd8ec3fb97",
       "style": "IPY_MODEL_90a61e0698d34e75834f3b8d17b95fe9",
       "value": " 49/50 [00:05&lt;00:00, 12.39it/s]"
      }
     },
     "9703b10a86d64b768693a6d0c7220569": {
      "model_module": "@jupyter-widgets/base",
      "model_module_version": "1.2.0",
      "model_name": "LayoutModel",
      "state": {}
     },
     "9710637fd8074e0580d788d41a411bd9": {
      "model_module": "@jupyter-widgets/controls",
      "model_module_version": "1.5.0",
      "model_name": "ProgressStyleModel",
      "state": {
       "description_width": ""
      }
     },
     "97416abebfd941ffbfd409027f23ba80": {
      "model_module": "@jupyter-widgets/controls",
      "model_module_version": "1.5.0",
      "model_name": "HTMLModel",
      "state": {
       "layout": "IPY_MODEL_c4d82268d7ad41109c6a3a59904a2bb2",
       "style": "IPY_MODEL_4fc87b775c03496e8ff169bcb4b8bed4",
       "value": "100%"
      }
     },
     "974b3d554d47419ca59846baf2883efa": {
      "model_module": "@jupyter-widgets/base",
      "model_module_version": "1.2.0",
      "model_name": "LayoutModel",
      "state": {}
     },
     "97c28d39b76344599d6dc0691f4baea1": {
      "model_module": "@jupyter-widgets/controls",
      "model_module_version": "1.5.0",
      "model_name": "HBoxModel",
      "state": {
       "children": [
        "IPY_MODEL_213861af96c04b82a4711fd7afc46d31",
        "IPY_MODEL_3ff3edd872ca457fa26568a3306c0424",
        "IPY_MODEL_81f9f542eb4f4df0a9dc77b707b81ed2"
       ],
       "layout": "IPY_MODEL_70a22c8a83ef4574a51d918f600c8d6e"
      }
     },
     "97de69f935cd446a80183b89ed242639": {
      "model_module": "@jupyter-widgets/controls",
      "model_module_version": "1.5.0",
      "model_name": "HTMLModel",
      "state": {
       "layout": "IPY_MODEL_6489b4486aed42998cb689311b985797",
       "style": "IPY_MODEL_ae62c7b10581425ab0d7d56122ed9093",
       "value": "100%"
      }
     },
     "97e836dac907449bb17217323123a412": {
      "model_module": "@jupyter-widgets/controls",
      "model_module_version": "1.5.0",
      "model_name": "HTMLModel",
      "state": {
       "layout": "IPY_MODEL_28d84ddc794149689967a6818f87aa5d",
       "style": "IPY_MODEL_7e997f19346a4cc5a57e2111d9a2e97d",
       "value": "100%"
      }
     },
     "980945757f5f4054bdcf0bd3cbde5571": {
      "model_module": "@jupyter-widgets/base",
      "model_module_version": "1.2.0",
      "model_name": "LayoutModel",
      "state": {}
     },
     "98103eb58ea64fa5b5b7648f88967f53": {
      "model_module": "@jupyter-widgets/controls",
      "model_module_version": "1.5.0",
      "model_name": "DescriptionStyleModel",
      "state": {
       "description_width": ""
      }
     },
     "9890def8008242a6afc2cf3046665060": {
      "model_module": "@jupyter-widgets/controls",
      "model_module_version": "1.5.0",
      "model_name": "DescriptionStyleModel",
      "state": {
       "description_width": ""
      }
     },
     "98fec75931954a3aa48906b241ee47c5": {
      "model_module": "@jupyter-widgets/controls",
      "model_module_version": "1.5.0",
      "model_name": "HTMLModel",
      "state": {
       "layout": "IPY_MODEL_0c4e9552126143aca387ecd644e667e4",
       "style": "IPY_MODEL_8779be27b75c4989b108f839efbd8c15",
       "value": " 40/40 [00:02&lt;00:00, 20.32it/s]"
      }
     },
     "9910abdb18fa4ba591a490a40b010261": {
      "model_module": "@jupyter-widgets/controls",
      "model_module_version": "1.5.0",
      "model_name": "FloatProgressModel",
      "state": {
       "layout": "IPY_MODEL_27d62e23d9dd41388288ed2de959371f",
       "max": 50,
       "style": "IPY_MODEL_21e6b99da0494227874fdb52cc95db16",
       "value": 50
      }
     },
     "9956d4b2b5e44be88b04e9533ae80394": {
      "model_module": "@jupyter-widgets/base",
      "model_module_version": "1.2.0",
      "model_name": "LayoutModel",
      "state": {}
     },
     "997068725b3142d5a21549a16fef1512": {
      "model_module": "@jupyter-widgets/controls",
      "model_module_version": "1.5.0",
      "model_name": "ProgressStyleModel",
      "state": {
       "description_width": ""
      }
     },
     "9a0340c201ad4bbd8154f568db1a6b1a": {
      "model_module": "@jupyter-widgets/base",
      "model_module_version": "1.2.0",
      "model_name": "LayoutModel",
      "state": {}
     },
     "9a4025d18cd2407882cc7ef12defd67a": {
      "model_module": "@jupyter-widgets/base",
      "model_module_version": "1.2.0",
      "model_name": "LayoutModel",
      "state": {}
     },
     "9adccb9aed994dd1893ac51e2a67ef1d": {
      "model_module": "@jupyter-widgets/controls",
      "model_module_version": "1.5.0",
      "model_name": "HBoxModel",
      "state": {
       "children": [
        "IPY_MODEL_d9c7c3d866b246259d40ab769d6da177",
        "IPY_MODEL_0cb70b67388d41bd97fd8f9ef72c50d9",
        "IPY_MODEL_fbec494e65434ff5a94936351b5d98af"
       ],
       "layout": "IPY_MODEL_c8b09adf59754bde9490b28c5f6fef32"
      }
     },
     "9aef20f5ce31452ca9cec3323ad3a0fd": {
      "model_module": "@jupyter-widgets/controls",
      "model_module_version": "1.5.0",
      "model_name": "DescriptionStyleModel",
      "state": {
       "description_width": ""
      }
     },
     "9af48a0885124193a6847adf7c216591": {
      "model_module": "@jupyter-widgets/base",
      "model_module_version": "1.2.0",
      "model_name": "LayoutModel",
      "state": {}
     },
     "9b713787de8849adb4a02fea853c2186": {
      "model_module": "@jupyter-widgets/base",
      "model_module_version": "1.2.0",
      "model_name": "LayoutModel",
      "state": {}
     },
     "9be3d9c643c7422ba970abae82a1e9d8": {
      "model_module": "@jupyter-widgets/controls",
      "model_module_version": "1.5.0",
      "model_name": "DescriptionStyleModel",
      "state": {
       "description_width": ""
      }
     },
     "9be3e5aab1bc412091e5eb646c079783": {
      "model_module": "@jupyter-widgets/controls",
      "model_module_version": "1.5.0",
      "model_name": "ProgressStyleModel",
      "state": {
       "description_width": ""
      }
     },
     "9be558a95abd4db0a7443d5c53d863a2": {
      "model_module": "@jupyter-widgets/controls",
      "model_module_version": "1.5.0",
      "model_name": "DescriptionStyleModel",
      "state": {
       "description_width": ""
      }
     },
     "9be994d42a804820b7c7fb32d702cc6f": {
      "model_module": "@jupyter-widgets/controls",
      "model_module_version": "1.5.0",
      "model_name": "HTMLModel",
      "state": {
       "layout": "IPY_MODEL_87a73a6c14f34dcdbb4d938f5ec31c30",
       "style": "IPY_MODEL_5caabdf1d88448df89d92b7eed75685d",
       "value": " 46/50 [00:02&lt;00:00, 18.57it/s]"
      }
     },
     "9ce40eaa64884689aeeca8693c828a5b": {
      "model_module": "@jupyter-widgets/base",
      "model_module_version": "1.2.0",
      "model_name": "LayoutModel",
      "state": {}
     },
     "9d02bd0fe7594b0b8e4400b11bc26d8d": {
      "model_module": "@jupyter-widgets/controls",
      "model_module_version": "1.5.0",
      "model_name": "FloatProgressModel",
      "state": {
       "layout": "IPY_MODEL_b63e543bb063458492e65cd9f5510925",
       "max": 50,
       "style": "IPY_MODEL_9d8e069fc9b04f26a7cf365033ae99a5",
       "value": 50
      }
     },
     "9d285156f1654da9b3211605d4ce12cf": {
      "model_module": "@jupyter-widgets/controls",
      "model_module_version": "1.5.0",
      "model_name": "HTMLModel",
      "state": {
       "layout": "IPY_MODEL_42cf18a57f26412b8faeb0cdecf5af77",
       "style": "IPY_MODEL_ae65282b4a9542e88f8454847dd7ef15",
       "value": " 98%"
      }
     },
     "9d4f74b39b964d6f93e06a10e4402bcd": {
      "model_module": "@jupyter-widgets/controls",
      "model_module_version": "1.5.0",
      "model_name": "FloatProgressModel",
      "state": {
       "layout": "IPY_MODEL_3a0d3f79eed3416fb807564ca913e6ad",
       "max": 50,
       "style": "IPY_MODEL_7600106cb7684949a37fd6b7a553bc3f",
       "value": 50
      }
     },
     "9d8e069fc9b04f26a7cf365033ae99a5": {
      "model_module": "@jupyter-widgets/controls",
      "model_module_version": "1.5.0",
      "model_name": "ProgressStyleModel",
      "state": {
       "description_width": ""
      }
     },
     "9dd08b52136e4b43a669d531cd674604": {
      "model_module": "@jupyter-widgets/controls",
      "model_module_version": "1.5.0",
      "model_name": "HTMLModel",
      "state": {
       "layout": "IPY_MODEL_8b1068bd760246cfa3f7dc8329b4a1f6",
       "style": "IPY_MODEL_9aef20f5ce31452ca9cec3323ad3a0fd",
       "value": "100%"
      }
     },
     "9e71cb3e4a6f4c58a6ed83c6ceaca855": {
      "model_module": "@jupyter-widgets/base",
      "model_module_version": "1.2.0",
      "model_name": "LayoutModel",
      "state": {}
     },
     "9ec5bc3fc8724fcdaa7bcc3f46715ee4": {
      "model_module": "@jupyter-widgets/controls",
      "model_module_version": "1.5.0",
      "model_name": "ProgressStyleModel",
      "state": {
       "description_width": ""
      }
     },
     "9f2f7f169be04c55934439c727a95c72": {
      "model_module": "@jupyter-widgets/base",
      "model_module_version": "1.2.0",
      "model_name": "LayoutModel",
      "state": {}
     },
     "9f421066caf042e89f3217285d3b25e8": {
      "model_module": "@jupyter-widgets/base",
      "model_module_version": "1.2.0",
      "model_name": "LayoutModel",
      "state": {}
     },
     "9f554d5efb6d4f7eb634e36cf4db2cc5": {
      "model_module": "@jupyter-widgets/base",
      "model_module_version": "1.2.0",
      "model_name": "LayoutModel",
      "state": {}
     },
     "9f5ff4ea6e2b4e23838b4bda2e60902a": {
      "model_module": "@jupyter-widgets/controls",
      "model_module_version": "1.5.0",
      "model_name": "DescriptionStyleModel",
      "state": {
       "description_width": ""
      }
     },
     "9fa0d9ad368142a78be2bf2774e7b0f4": {
      "model_module": "@jupyter-widgets/controls",
      "model_module_version": "1.5.0",
      "model_name": "DescriptionStyleModel",
      "state": {
       "description_width": ""
      }
     },
     "9fe13d83e15e4aacae88f9bfc9b258b7": {
      "model_module": "@jupyter-widgets/base",
      "model_module_version": "1.2.0",
      "model_name": "LayoutModel",
      "state": {}
     },
     "a0301283df884412bef5277ec15ee1ca": {
      "model_module": "@jupyter-widgets/base",
      "model_module_version": "1.2.0",
      "model_name": "LayoutModel",
      "state": {}
     },
     "a094786e28f5464ea56defbd71f756c1": {
      "model_module": "@jupyter-widgets/controls",
      "model_module_version": "1.5.0",
      "model_name": "FloatProgressModel",
      "state": {
       "bar_style": "success",
       "layout": "IPY_MODEL_1fa905ebeaf941968eb2ec61654c847b",
       "max": 840,
       "style": "IPY_MODEL_9ec5bc3fc8724fcdaa7bcc3f46715ee4",
       "value": 840
      }
     },
     "a0b8fcbd995848b092f6b5ad701612df": {
      "model_module": "@jupyter-widgets/controls",
      "model_module_version": "1.5.0",
      "model_name": "DescriptionStyleModel",
      "state": {
       "description_width": ""
      }
     },
     "a0c3a9e06dbd4ac6bd3dc67bffbe1ace": {
      "model_module": "@jupyter-widgets/controls",
      "model_module_version": "1.5.0",
      "model_name": "DescriptionStyleModel",
      "state": {
       "description_width": ""
      }
     },
     "a0f5c5601f1d4090a7445fc0e8ffe525": {
      "model_module": "@jupyter-widgets/base",
      "model_module_version": "1.2.0",
      "model_name": "LayoutModel",
      "state": {}
     },
     "a1453fb9b16049f3864830cd75e505d4": {
      "model_module": "@jupyter-widgets/base",
      "model_module_version": "1.2.0",
      "model_name": "LayoutModel",
      "state": {}
     },
     "a178f0ddfdc64643849e6da9d4e81470": {
      "model_module": "@jupyter-widgets/controls",
      "model_module_version": "1.5.0",
      "model_name": "ProgressStyleModel",
      "state": {
       "description_width": ""
      }
     },
     "a2ccb0531e694e9d8fe077326aa1392c": {
      "model_module": "@jupyter-widgets/controls",
      "model_module_version": "1.5.0",
      "model_name": "DescriptionStyleModel",
      "state": {
       "description_width": ""
      }
     },
     "a3bb0ff6774c4d849b9297b96f7f2b58": {
      "model_module": "@jupyter-widgets/controls",
      "model_module_version": "1.5.0",
      "model_name": "DescriptionStyleModel",
      "state": {
       "description_width": ""
      }
     },
     "a441c841e4b04b79b28b97e7cf2f3457": {
      "model_module": "@jupyter-widgets/base",
      "model_module_version": "1.2.0",
      "model_name": "LayoutModel",
      "state": {}
     },
     "a441db4cf61f46e7994d2aac27324b7c": {
      "model_module": "@jupyter-widgets/base",
      "model_module_version": "1.2.0",
      "model_name": "LayoutModel",
      "state": {}
     },
     "a4589134c2b64f939857ab278e777eb0": {
      "model_module": "@jupyter-widgets/controls",
      "model_module_version": "1.5.0",
      "model_name": "DescriptionStyleModel",
      "state": {
       "description_width": ""
      }
     },
     "a45ec6b5f5944d22b3d033fc9837a949": {
      "model_module": "@jupyter-widgets/controls",
      "model_module_version": "1.5.0",
      "model_name": "HTMLModel",
      "state": {
       "layout": "IPY_MODEL_e36e8940a5474d9bb6046e06fbafe610",
       "style": "IPY_MODEL_b46fd38bc26a4d18b4cf7c13f2086cd5",
       "value": "100%"
      }
     },
     "a4a6e680984b4ff4935ef8094ab2264b": {
      "model_module": "@jupyter-widgets/base",
      "model_module_version": "1.2.0",
      "model_name": "LayoutModel",
      "state": {}
     },
     "a4e231d96de4475fa86041dea678ee63": {
      "model_module": "@jupyter-widgets/controls",
      "model_module_version": "1.5.0",
      "model_name": "DescriptionStyleModel",
      "state": {
       "description_width": ""
      }
     },
     "a504e2f05bfb49a881249d504f8cafe4": {
      "model_module": "@jupyter-widgets/controls",
      "model_module_version": "1.5.0",
      "model_name": "DescriptionStyleModel",
      "state": {
       "description_width": ""
      }
     },
     "a513248cf7c74b13a3d28c3c4378f4e5": {
      "model_module": "@jupyter-widgets/controls",
      "model_module_version": "1.5.0",
      "model_name": "DescriptionStyleModel",
      "state": {
       "description_width": ""
      }
     },
     "a5627b31181c4a22841171dcb497c284": {
      "model_module": "@jupyter-widgets/controls",
      "model_module_version": "1.5.0",
      "model_name": "HTMLModel",
      "state": {
       "layout": "IPY_MODEL_a7db154350bd4694ae62ef0d55a1d2b6",
       "style": "IPY_MODEL_b82f92861b984d25884c895d8f6d290f",
       "value": " 50/50 [00:06&lt;00:00, 10.05it/s]"
      }
     },
     "a5779b57b33f4483a59a9d68e089760c": {
      "model_module": "@jupyter-widgets/controls",
      "model_module_version": "1.5.0",
      "model_name": "FloatProgressModel",
      "state": {
       "layout": "IPY_MODEL_3d5ea486ea3a46d7920f7159e2ce6b6e",
       "max": 4000,
       "style": "IPY_MODEL_8305e977ef1240deb2f950545d21c322",
       "value": 4000
      }
     },
     "a647927e5ca84c8b875b25459f4078be": {
      "model_module": "@jupyter-widgets/controls",
      "model_module_version": "1.5.0",
      "model_name": "ProgressStyleModel",
      "state": {
       "description_width": ""
      }
     },
     "a64c2c602a414f6193f99e1ddafb29ca": {
      "model_module": "@jupyter-widgets/controls",
      "model_module_version": "1.5.0",
      "model_name": "HTMLModel",
      "state": {
       "layout": "IPY_MODEL_71f3e0223e714482967c49220460d758",
       "style": "IPY_MODEL_f2271e8527e9421a8edf58c42bbe2120",
       "value": " 49/50 [00:06&lt;00:00,  9.15it/s]"
      }
     },
     "a658b8cbce7c4b96a282e423f1f47c93": {
      "model_module": "@jupyter-widgets/controls",
      "model_module_version": "1.5.0",
      "model_name": "DescriptionStyleModel",
      "state": {
       "description_width": ""
      }
     },
     "a67221f91db548179715590bcb773764": {
      "model_module": "@jupyter-widgets/controls",
      "model_module_version": "1.5.0",
      "model_name": "ProgressStyleModel",
      "state": {
       "description_width": ""
      }
     },
     "a6a7060849a04e1c81cbf07cd32d88c2": {
      "model_module": "@jupyter-widgets/controls",
      "model_module_version": "1.5.0",
      "model_name": "DescriptionStyleModel",
      "state": {
       "description_width": ""
      }
     },
     "a6cf1b75740d46dc8ba86652d3228e51": {
      "model_module": "@jupyter-widgets/controls",
      "model_module_version": "1.5.0",
      "model_name": "DescriptionStyleModel",
      "state": {
       "description_width": ""
      }
     },
     "a7297ce9650d48ca9ad8eeaf6bcd6675": {
      "model_module": "@jupyter-widgets/controls",
      "model_module_version": "1.5.0",
      "model_name": "FloatProgressModel",
      "state": {
       "bar_style": "success",
       "layout": "IPY_MODEL_b983b8a54f30416ab30fe382329fc070",
       "max": 40,
       "style": "IPY_MODEL_43e8662bc04e4464af6c2ef7f881f8cc",
       "value": 40
      }
     },
     "a79f962ae72c4f1fa40685562d5cc447": {
      "model_module": "@jupyter-widgets/controls",
      "model_module_version": "1.5.0",
      "model_name": "DescriptionStyleModel",
      "state": {
       "description_width": ""
      }
     },
     "a7ac8e359a34487ea8b3806efa540a45": {
      "model_module": "@jupyter-widgets/base",
      "model_module_version": "1.2.0",
      "model_name": "LayoutModel",
      "state": {}
     },
     "a7d2f0591ee045a1b6b9aa483048f93a": {
      "model_module": "@jupyter-widgets/controls",
      "model_module_version": "1.5.0",
      "model_name": "DescriptionStyleModel",
      "state": {
       "description_width": ""
      }
     },
     "a7db154350bd4694ae62ef0d55a1d2b6": {
      "model_module": "@jupyter-widgets/base",
      "model_module_version": "1.2.0",
      "model_name": "LayoutModel",
      "state": {}
     },
     "a81b416964c14911843c4ce50f8f18ee": {
      "model_module": "@jupyter-widgets/controls",
      "model_module_version": "1.5.0",
      "model_name": "ProgressStyleModel",
      "state": {
       "description_width": ""
      }
     },
     "a8498f6a96f6492986bea17cd57a01ae": {
      "model_module": "@jupyter-widgets/controls",
      "model_module_version": "1.5.0",
      "model_name": "ProgressStyleModel",
      "state": {
       "description_width": ""
      }
     },
     "a931b46abd2145a197fc1616fd9e313c": {
      "model_module": "@jupyter-widgets/controls",
      "model_module_version": "1.5.0",
      "model_name": "DescriptionStyleModel",
      "state": {
       "description_width": ""
      }
     },
     "a97ced196ea44c248a2560cfe5ae6784": {
      "model_module": "@jupyter-widgets/base",
      "model_module_version": "1.2.0",
      "model_name": "LayoutModel",
      "state": {}
     },
     "ab63b39ffa73469293c2db814f657fa9": {
      "model_module": "@jupyter-widgets/base",
      "model_module_version": "1.2.0",
      "model_name": "LayoutModel",
      "state": {}
     },
     "aba1fd0a4a1e448ea9196b2a4a96e144": {
      "model_module": "@jupyter-widgets/controls",
      "model_module_version": "1.5.0",
      "model_name": "HTMLModel",
      "state": {
       "layout": "IPY_MODEL_49992a38d4c442ecabd2a267b7ec0a34",
       "style": "IPY_MODEL_f6e2db8c3bc24d5999ff4a48257fcd4d",
       "value": " 49/50 [00:05&lt;00:00,  9.76it/s]"
      }
     },
     "abd4b161e6b94aa38f90e0eab4cf282f": {
      "model_module": "@jupyter-widgets/base",
      "model_module_version": "1.2.0",
      "model_name": "LayoutModel",
      "state": {}
     },
     "abec91d8d9164ad9b3a35280a7661a66": {
      "model_module": "@jupyter-widgets/controls",
      "model_module_version": "1.5.0",
      "model_name": "HTMLModel",
      "state": {
       "layout": "IPY_MODEL_f28953fb47794e0d9c5648ed048aa9d2",
       "style": "IPY_MODEL_ed710448fba3441aaf942e3231b2dff7",
       "value": "100%"
      }
     },
     "ac144b88fab44b01930396f9ea2f3f72": {
      "model_module": "@jupyter-widgets/controls",
      "model_module_version": "1.5.0",
      "model_name": "ProgressStyleModel",
      "state": {
       "description_width": ""
      }
     },
     "ad4b96aa4d6a4d9096e454e7cca01368": {
      "model_module": "@jupyter-widgets/controls",
      "model_module_version": "1.5.0",
      "model_name": "HTMLModel",
      "state": {
       "layout": "IPY_MODEL_9a0340c201ad4bbd8154f568db1a6b1a",
       "style": "IPY_MODEL_3971250a79364f948b973d081fde124c",
       "value": " 10/40 [00:00&lt;00:01, 15.43it/s]"
      }
     },
     "ad9ff7b7567e464dbbacb71eca939252": {
      "model_module": "@jupyter-widgets/base",
      "model_module_version": "1.2.0",
      "model_name": "LayoutModel",
      "state": {}
     },
     "adbb2a651e1340a6a0bfa89f2ef87f0b": {
      "model_module": "@jupyter-widgets/controls",
      "model_module_version": "1.5.0",
      "model_name": "DescriptionStyleModel",
      "state": {
       "description_width": ""
      }
     },
     "add0faf946704a819f271b023664841f": {
      "model_module": "@jupyter-widgets/controls",
      "model_module_version": "1.5.0",
      "model_name": "ProgressStyleModel",
      "state": {
       "description_width": ""
      }
     },
     "ae24070be70c4db2a0535bbb7e5ff1e9": {
      "model_module": "@jupyter-widgets/base",
      "model_module_version": "1.2.0",
      "model_name": "LayoutModel",
      "state": {}
     },
     "ae380dd64d8149598be35107372a161e": {
      "model_module": "@jupyter-widgets/base",
      "model_module_version": "1.2.0",
      "model_name": "LayoutModel",
      "state": {}
     },
     "ae62c7b10581425ab0d7d56122ed9093": {
      "model_module": "@jupyter-widgets/controls",
      "model_module_version": "1.5.0",
      "model_name": "DescriptionStyleModel",
      "state": {
       "description_width": ""
      }
     },
     "ae65282b4a9542e88f8454847dd7ef15": {
      "model_module": "@jupyter-widgets/controls",
      "model_module_version": "1.5.0",
      "model_name": "DescriptionStyleModel",
      "state": {
       "description_width": ""
      }
     },
     "af367a84d9264cc1acf50a38a9a774e2": {
      "model_module": "@jupyter-widgets/base",
      "model_module_version": "1.2.0",
      "model_name": "LayoutModel",
      "state": {}
     },
     "af4f4100dff04e2fb5c61237a97d4f2d": {
      "model_module": "@jupyter-widgets/controls",
      "model_module_version": "1.5.0",
      "model_name": "FloatProgressModel",
      "state": {
       "bar_style": "danger",
       "layout": "IPY_MODEL_640f831da2fd4097bb2f1936bff413fa",
       "max": 10,
       "style": "IPY_MODEL_6b4adeccb03d476a8e5f91253296afb8"
      }
     },
     "afcbd1ca242747eab6828bafc29fb52e": {
      "model_module": "@jupyter-widgets/controls",
      "model_module_version": "1.5.0",
      "model_name": "HTMLModel",
      "state": {
       "layout": "IPY_MODEL_fab0d17d38f74fc6bff8afa2a00fb8dc",
       "style": "IPY_MODEL_1b53413929c6419190afb45fd455c4b4",
       "value": " 98%"
      }
     },
     "afd976478a494c2d911286aef67e1817": {
      "model_module": "@jupyter-widgets/controls",
      "model_module_version": "1.5.0",
      "model_name": "ProgressStyleModel",
      "state": {
       "description_width": ""
      }
     },
     "afec20c4dd9f451e8064f10ed2742793": {
      "model_module": "@jupyter-widgets/base",
      "model_module_version": "1.2.0",
      "model_name": "LayoutModel",
      "state": {}
     },
     "b006121d022043ebb2d4e7b4eb3e9cd9": {
      "model_module": "@jupyter-widgets/controls",
      "model_module_version": "1.5.0",
      "model_name": "DescriptionStyleModel",
      "state": {
       "description_width": ""
      }
     },
     "b006bfc76f484c408f17e886b441624d": {
      "model_module": "@jupyter-widgets/base",
      "model_module_version": "1.2.0",
      "model_name": "LayoutModel",
      "state": {}
     },
     "b009cba0d3de439ab68730fa19e77753": {
      "model_module": "@jupyter-widgets/controls",
      "model_module_version": "1.5.0",
      "model_name": "DescriptionStyleModel",
      "state": {
       "description_width": ""
      }
     },
     "b01684e255704287a2a22f861ae1ec33": {
      "model_module": "@jupyter-widgets/controls",
      "model_module_version": "1.5.0",
      "model_name": "HBoxModel",
      "state": {
       "children": [
        "IPY_MODEL_b638049f0e6242ac88f6ee9a900ef7e0",
        "IPY_MODEL_4948741fb4ce47239c96095578f0cc05",
        "IPY_MODEL_e553570965e549588f5e62353282e196"
       ],
       "layout": "IPY_MODEL_1d3292c83e4747908c7ef1e1b0ed6e22"
      }
     },
     "b037dbdae0e14b7a8f8d754171110833": {
      "model_module": "@jupyter-widgets/controls",
      "model_module_version": "1.5.0",
      "model_name": "HTMLModel",
      "state": {
       "layout": "IPY_MODEL_fc96267139114088ba38296f71ade956",
       "style": "IPY_MODEL_e606912f91c94086b79873dddcf286cd",
       "value": " 98%"
      }
     },
     "b1459c36685d46dc92fb5f4436482eda": {
      "model_module": "@jupyter-widgets/base",
      "model_module_version": "1.2.0",
      "model_name": "LayoutModel",
      "state": {}
     },
     "b16b013f057648cc9704f28c9cee317c": {
      "model_module": "@jupyter-widgets/controls",
      "model_module_version": "1.5.0",
      "model_name": "DescriptionStyleModel",
      "state": {
       "description_width": ""
      }
     },
     "b19a9d505b044798b8919be3d10860bc": {
      "model_module": "@jupyter-widgets/controls",
      "model_module_version": "1.5.0",
      "model_name": "DescriptionStyleModel",
      "state": {
       "description_width": ""
      }
     },
     "b1c1b8c25eab4ffc937fc4ac9d6e6d15": {
      "model_module": "@jupyter-widgets/controls",
      "model_module_version": "1.5.0",
      "model_name": "HBoxModel",
      "state": {
       "children": [
        "IPY_MODEL_3d628e70837649f98564e2c620e9800d",
        "IPY_MODEL_be65a45f2a784423aef2793cd13cb184",
        "IPY_MODEL_872b77e1e14e4724a4a0b9057a51c51a"
       ],
       "layout": "IPY_MODEL_2b86226a753b4cff91afd6cd67f9583e"
      }
     },
     "b283f5560c05434898656e801ba33614": {
      "model_module": "@jupyter-widgets/controls",
      "model_module_version": "1.5.0",
      "model_name": "DescriptionStyleModel",
      "state": {
       "description_width": ""
      }
     },
     "b2a22ee892364688aa296aea5097871d": {
      "model_module": "@jupyter-widgets/controls",
      "model_module_version": "1.5.0",
      "model_name": "HTMLModel",
      "state": {
       "layout": "IPY_MODEL_e817a76111be404099f40fe8e89b76f4",
       "style": "IPY_MODEL_be16858d905048488a86ddcc93d5ba8a",
       "value": "100%"
      }
     },
     "b2a576828dee4320b9470281f609b25f": {
      "model_module": "@jupyter-widgets/controls",
      "model_module_version": "1.5.0",
      "model_name": "HTMLModel",
      "state": {
       "layout": "IPY_MODEL_fb7dd0507ad242209be94aaa78d602ed",
       "style": "IPY_MODEL_cfd797f4133d4153ad9f9a85b06e98a3",
       "value": " 98%"
      }
     },
     "b2f86f61bb2a481db40fb06d0e1126e4": {
      "model_module": "@jupyter-widgets/controls",
      "model_module_version": "1.5.0",
      "model_name": "ProgressStyleModel",
      "state": {
       "description_width": ""
      }
     },
     "b303176180bd4add951557ab3841a31e": {
      "model_module": "@jupyter-widgets/controls",
      "model_module_version": "1.5.0",
      "model_name": "DescriptionStyleModel",
      "state": {
       "description_width": ""
      }
     },
     "b31a1a5e23ae40c1bfd413d621debc80": {
      "model_module": "@jupyter-widgets/controls",
      "model_module_version": "1.5.0",
      "model_name": "DescriptionStyleModel",
      "state": {
       "description_width": ""
      }
     },
     "b31d94539bbd47a7b6737afe13450520": {
      "model_module": "@jupyter-widgets/base",
      "model_module_version": "1.2.0",
      "model_name": "LayoutModel",
      "state": {}
     },
     "b37f04c59e134420b55f25e9acdc28e6": {
      "model_module": "@jupyter-widgets/controls",
      "model_module_version": "1.5.0",
      "model_name": "FloatProgressModel",
      "state": {
       "bar_style": "success",
       "layout": "IPY_MODEL_ce650f3f616b45058967e4c9081de2f9",
       "max": 50,
       "style": "IPY_MODEL_3aa0f9fb6a5b4c738281b2366dc6371e",
       "value": 50
      }
     },
     "b394fa0204434064ac9185926a77e05d": {
      "model_module": "@jupyter-widgets/controls",
      "model_module_version": "1.5.0",
      "model_name": "DescriptionStyleModel",
      "state": {
       "description_width": ""
      }
     },
     "b3ba21ee6d1541bb998bd01a210c6de8": {
      "model_module": "@jupyter-widgets/base",
      "model_module_version": "1.2.0",
      "model_name": "LayoutModel",
      "state": {}
     },
     "b46fd38bc26a4d18b4cf7c13f2086cd5": {
      "model_module": "@jupyter-widgets/controls",
      "model_module_version": "1.5.0",
      "model_name": "DescriptionStyleModel",
      "state": {
       "description_width": ""
      }
     },
     "b49a174578ae47918e8ab89bf74b94f9": {
      "model_module": "@jupyter-widgets/controls",
      "model_module_version": "1.5.0",
      "model_name": "DescriptionStyleModel",
      "state": {
       "description_width": ""
      }
     },
     "b49af2ce204f448da2909a8e00f5662f": {
      "model_module": "@jupyter-widgets/controls",
      "model_module_version": "1.5.0",
      "model_name": "HBoxModel",
      "state": {
       "children": [
        "IPY_MODEL_bb23fec1137a4e0cabcc75095ee2ef46",
        "IPY_MODEL_491df29eae8e4ba8909fa731668a83c1",
        "IPY_MODEL_da8a3045b909409eb78ea054fe7ccf13"
       ],
       "layout": "IPY_MODEL_9fe13d83e15e4aacae88f9bfc9b258b7"
      }
     },
     "b4c4e37e9c6247779c04b6f5d143e40d": {
      "model_module": "@jupyter-widgets/base",
      "model_module_version": "1.2.0",
      "model_name": "LayoutModel",
      "state": {}
     },
     "b5096349b2b6432cbdda8a907ea41c88": {
      "model_module": "@jupyter-widgets/base",
      "model_module_version": "1.2.0",
      "model_name": "LayoutModel",
      "state": {}
     },
     "b5140813f5bd49ecb36d0f5d47004739": {
      "model_module": "@jupyter-widgets/base",
      "model_module_version": "1.2.0",
      "model_name": "LayoutModel",
      "state": {}
     },
     "b589acad984641bfae1486fbc6dd8146": {
      "model_module": "@jupyter-widgets/base",
      "model_module_version": "1.2.0",
      "model_name": "LayoutModel",
      "state": {}
     },
     "b616b87521e7461dbeda5cbc088ba0ce": {
      "model_module": "@jupyter-widgets/controls",
      "model_module_version": "1.5.0",
      "model_name": "ProgressStyleModel",
      "state": {
       "description_width": ""
      }
     },
     "b638049f0e6242ac88f6ee9a900ef7e0": {
      "model_module": "@jupyter-widgets/controls",
      "model_module_version": "1.5.0",
      "model_name": "HTMLModel",
      "state": {
       "layout": "IPY_MODEL_e19921eeecbb4bd58c27ce245155ba3c",
       "style": "IPY_MODEL_c709a65379ba404ab6b754e85463da58",
       "value": "  0%"
      }
     },
     "b63e543bb063458492e65cd9f5510925": {
      "model_module": "@jupyter-widgets/base",
      "model_module_version": "1.2.0",
      "model_name": "LayoutModel",
      "state": {}
     },
     "b6679e9820b24639baa50a055037a58e": {
      "model_module": "@jupyter-widgets/base",
      "model_module_version": "1.2.0",
      "model_name": "LayoutModel",
      "state": {}
     },
     "b668f0c1909a4e7ca607cd1bd9209690": {
      "model_module": "@jupyter-widgets/base",
      "model_module_version": "1.2.0",
      "model_name": "LayoutModel",
      "state": {}
     },
     "b686c9f7be7b4072a4f0913d5c0d5007": {
      "model_module": "@jupyter-widgets/controls",
      "model_module_version": "1.5.0",
      "model_name": "HBoxModel",
      "state": {
       "children": [
        "IPY_MODEL_1f431c1f1a004e1aba79836a648d9396",
        "IPY_MODEL_670ca640cbf14f29b786f3ff15c0d41a",
        "IPY_MODEL_4af8c6ffcf1d45398dd4c2ace9ab7729"
       ],
       "layout": "IPY_MODEL_1b8f10e8543242939fd7aa2d5a689c21"
      }
     },
     "b68f2b413825437baa5e123a9fdc9697": {
      "model_module": "@jupyter-widgets/controls",
      "model_module_version": "1.5.0",
      "model_name": "DescriptionStyleModel",
      "state": {
       "description_width": ""
      }
     },
     "b6bf42ff0ad4430eba41739d0c6189c4": {
      "model_module": "@jupyter-widgets/base",
      "model_module_version": "1.2.0",
      "model_name": "LayoutModel",
      "state": {}
     },
     "b71646728d024ceaab3d3aed05d6ec62": {
      "model_module": "@jupyter-widgets/controls",
      "model_module_version": "1.5.0",
      "model_name": "HTMLModel",
      "state": {
       "layout": "IPY_MODEL_419eda1abb4f488d973eb0241cac8137",
       "style": "IPY_MODEL_d1dd7b9cf6ed4ab4889123853c2445c3",
       "value": " 3998/4000 [01:33&lt;00:00, 55.28it/s]"
      }
     },
     "b80938a5266049b3afc5c311cc2e836c": {
      "model_module": "@jupyter-widgets/controls",
      "model_module_version": "1.5.0",
      "model_name": "DescriptionStyleModel",
      "state": {
       "description_width": ""
      }
     },
     "b82f92861b984d25884c895d8f6d290f": {
      "model_module": "@jupyter-widgets/controls",
      "model_module_version": "1.5.0",
      "model_name": "DescriptionStyleModel",
      "state": {
       "description_width": ""
      }
     },
     "b845d3932ce34bc7ac05e59116a60850": {
      "model_module": "@jupyter-widgets/controls",
      "model_module_version": "1.5.0",
      "model_name": "HTMLModel",
      "state": {
       "layout": "IPY_MODEL_7a47f25252bc492dab342798ebe3dd96",
       "style": "IPY_MODEL_5fddc23fade149b4a089897f2207370b",
       "value": " 0/10 [00:00&lt;?, ?it/s]"
      }
     },
     "b8eb046990f4483db7dbfc9da2bfdf52": {
      "model_module": "@jupyter-widgets/controls",
      "model_module_version": "1.5.0",
      "model_name": "ProgressStyleModel",
      "state": {
       "description_width": ""
      }
     },
     "b94f929518a944439e8b563717e38f38": {
      "model_module": "@jupyter-widgets/controls",
      "model_module_version": "1.5.0",
      "model_name": "HTMLModel",
      "state": {
       "layout": "IPY_MODEL_c33e1d83217e44bd80673d042111942c",
       "style": "IPY_MODEL_a4e231d96de4475fa86041dea678ee63",
       "value": " 45/50 [00:02&lt;00:00, 24.30it/s]"
      }
     },
     "b983b8a54f30416ab30fe382329fc070": {
      "model_module": "@jupyter-widgets/base",
      "model_module_version": "1.2.0",
      "model_name": "LayoutModel",
      "state": {}
     },
     "b9dada417f6e4d07bb978b66f6b7ca21": {
      "model_module": "@jupyter-widgets/controls",
      "model_module_version": "1.5.0",
      "model_name": "HTMLModel",
      "state": {
       "layout": "IPY_MODEL_78b06a3753a945bdb3f8aaf6149c8777",
       "style": "IPY_MODEL_a513248cf7c74b13a3d28c3c4378f4e5",
       "value": " 98%"
      }
     },
     "b9f82bc093f244eca2ff04aba863bb69": {
      "model_module": "@jupyter-widgets/base",
      "model_module_version": "1.2.0",
      "model_name": "LayoutModel",
      "state": {}
     },
     "ba3ee3155d394dfd9128d4a522339ce6": {
      "model_module": "@jupyter-widgets/base",
      "model_module_version": "1.2.0",
      "model_name": "LayoutModel",
      "state": {}
     },
     "ba4a4b891f09435fa2b299d11c1510e7": {
      "model_module": "@jupyter-widgets/base",
      "model_module_version": "1.2.0",
      "model_name": "LayoutModel",
      "state": {}
     },
     "ba7e5ee5e4a74e41916af20d12d93aef": {
      "model_module": "@jupyter-widgets/controls",
      "model_module_version": "1.5.0",
      "model_name": "DescriptionStyleModel",
      "state": {
       "description_width": ""
      }
     },
     "ba89c1b3c1f446cfadb306dc7a7023c0": {
      "model_module": "@jupyter-widgets/controls",
      "model_module_version": "1.5.0",
      "model_name": "HTMLModel",
      "state": {
       "layout": "IPY_MODEL_5ca366a510fb4f53a78363b005d39504",
       "style": "IPY_MODEL_051d9acf689c4d099ffe3d555c5c69fa",
       "value": " 40/40 [00:02&lt;00:00, 17.99it/s]"
      }
     },
     "bab9d152b63142b0ada22e6ccd25b766": {
      "model_module": "@jupyter-widgets/controls",
      "model_module_version": "1.5.0",
      "model_name": "DescriptionStyleModel",
      "state": {
       "description_width": ""
      }
     },
     "baeaee92f76a43d7bea795501b798d2b": {
      "model_module": "@jupyter-widgets/controls",
      "model_module_version": "1.5.0",
      "model_name": "HTMLModel",
      "state": {
       "layout": "IPY_MODEL_260e153e43d14f2582b7377d3a44db2a",
       "style": "IPY_MODEL_a7d2f0591ee045a1b6b9aa483048f93a",
       "value": "100%"
      }
     },
     "bb1826bb04904293bf1ef2919eb9eefd": {
      "model_module": "@jupyter-widgets/controls",
      "model_module_version": "1.5.0",
      "model_name": "HTMLModel",
      "state": {
       "layout": "IPY_MODEL_360a60a56de24035b31d0f088d72d4f2",
       "style": "IPY_MODEL_0ad4a7ecd5324bad84a2ddde3e70a793",
       "value": " 0/10 [00:00&lt;?, ?it/s]"
      }
     },
     "bb19048452514cf089e827b059e49b82": {
      "model_module": "@jupyter-widgets/controls",
      "model_module_version": "1.5.0",
      "model_name": "HBoxModel",
      "state": {
       "children": [
        "IPY_MODEL_25118b02e432446ebdd2e5991bba57ad",
        "IPY_MODEL_191bcba45e744e1980563ce8b4db65af",
        "IPY_MODEL_68da31dcc6804b09a92904b6dedb3499"
       ],
       "layout": "IPY_MODEL_c7eee988650249aba2fa4c0e5b5bd8af"
      }
     },
     "bb23fec1137a4e0cabcc75095ee2ef46": {
      "model_module": "@jupyter-widgets/controls",
      "model_module_version": "1.5.0",
      "model_name": "HTMLModel",
      "state": {
       "layout": "IPY_MODEL_7451da51c66046e4b645f56bb102993d",
       "style": "IPY_MODEL_b009cba0d3de439ab68730fa19e77753",
       "value": "  0%"
      }
     },
     "bc226337c0ff4b1081400eba13b1099b": {
      "model_module": "@jupyter-widgets/base",
      "model_module_version": "1.2.0",
      "model_name": "LayoutModel",
      "state": {}
     },
     "bc81c9015826451abd258e6472a8ebd3": {
      "model_module": "@jupyter-widgets/base",
      "model_module_version": "1.2.0",
      "model_name": "LayoutModel",
      "state": {}
     },
     "bce31b93efe14d26b254bbe54bbe7201": {
      "model_module": "@jupyter-widgets/controls",
      "model_module_version": "1.5.0",
      "model_name": "DescriptionStyleModel",
      "state": {
       "description_width": ""
      }
     },
     "bce9b9fa22e040cd998d7ab7c77bfab2": {
      "model_module": "@jupyter-widgets/base",
      "model_module_version": "1.2.0",
      "model_name": "LayoutModel",
      "state": {}
     },
     "bcf38cb149fe45f6b90792a05a50c3de": {
      "model_module": "@jupyter-widgets/base",
      "model_module_version": "1.2.0",
      "model_name": "LayoutModel",
      "state": {}
     },
     "bd6da662b6f84a739c76eaa39007fb83": {
      "model_module": "@jupyter-widgets/controls",
      "model_module_version": "1.5.0",
      "model_name": "HTMLModel",
      "state": {
       "layout": "IPY_MODEL_fe5972f1457749dfb18fbec6e745fef5",
       "style": "IPY_MODEL_101ec075ac7744138a302212ec607c80",
       "value": " 98%"
      }
     },
     "bdb34e32eb9243f898f4f2c487711399": {
      "model_module": "@jupyter-widgets/controls",
      "model_module_version": "1.5.0",
      "model_name": "HTMLModel",
      "state": {
       "layout": "IPY_MODEL_ad9ff7b7567e464dbbacb71eca939252",
       "style": "IPY_MODEL_8622a3547e7b4d20a7dd78abed10ac84",
       "value": " 4000/4000 [02:41&lt;00:00, 16.15it/s]"
      }
     },
     "bde73bb4032b44a3821db1696384afc8": {
      "model_module": "@jupyter-widgets/base",
      "model_module_version": "1.2.0",
      "model_name": "LayoutModel",
      "state": {}
     },
     "be0635b43af9412ca699aa1b950007df": {
      "model_module": "@jupyter-widgets/controls",
      "model_module_version": "1.5.0",
      "model_name": "ProgressStyleModel",
      "state": {
       "description_width": ""
      }
     },
     "be16858d905048488a86ddcc93d5ba8a": {
      "model_module": "@jupyter-widgets/controls",
      "model_module_version": "1.5.0",
      "model_name": "DescriptionStyleModel",
      "state": {
       "description_width": ""
      }
     },
     "be1be87be3c5407e808a77fa9a0bd1ab": {
      "model_module": "@jupyter-widgets/base",
      "model_module_version": "1.2.0",
      "model_name": "LayoutModel",
      "state": {}
     },
     "be24bacbd240475fb707b48238926b1e": {
      "model_module": "@jupyter-widgets/controls",
      "model_module_version": "1.5.0",
      "model_name": "HTMLModel",
      "state": {
       "layout": "IPY_MODEL_7151f1d75ecb4d08912a0ee8c9178f02",
       "style": "IPY_MODEL_5ad8b3f632264e6e86a595b954ccabab",
       "value": " 25%"
      }
     },
     "be512c20af0f4524a9d89818f03ea5e2": {
      "model_module": "@jupyter-widgets/controls",
      "model_module_version": "1.5.0",
      "model_name": "DescriptionStyleModel",
      "state": {
       "description_width": ""
      }
     },
     "be5d9fa0151b44ad9fc785cd2e53274a": {
      "model_module": "@jupyter-widgets/controls",
      "model_module_version": "1.5.0",
      "model_name": "HBoxModel",
      "state": {
       "children": [
        "IPY_MODEL_97e836dac907449bb17217323123a412",
        "IPY_MODEL_3ac5c52dddb44db19192a66371700085",
        "IPY_MODEL_ee9696c963554a69a5eb64ec8e1b9362"
       ],
       "layout": "IPY_MODEL_8d56d68acead4dd096e3a2983ab99479"
      }
     },
     "be65a45f2a784423aef2793cd13cb184": {
      "model_module": "@jupyter-widgets/controls",
      "model_module_version": "1.5.0",
      "model_name": "FloatProgressModel",
      "state": {
       "bar_style": "danger",
       "layout": "IPY_MODEL_8803a383f1064a57a5ac2b7844e89185",
       "max": 10,
       "style": "IPY_MODEL_90d76d91dc53470dbe7d8663bc8f9759"
      }
     },
     "be67bd9a713c45729f591a565d7528ab": {
      "model_module": "@jupyter-widgets/controls",
      "model_module_version": "1.5.0",
      "model_name": "ProgressStyleModel",
      "state": {
       "description_width": ""
      }
     },
     "be9232f8b6164f6cb8cea54673f74807": {
      "model_module": "@jupyter-widgets/controls",
      "model_module_version": "1.5.0",
      "model_name": "DescriptionStyleModel",
      "state": {
       "description_width": ""
      }
     },
     "bf355620ba654733a874d56b46eeec95": {
      "model_module": "@jupyter-widgets/base",
      "model_module_version": "1.2.0",
      "model_name": "LayoutModel",
      "state": {}
     },
     "bf8fe80574af4172b59b0cbf3e074b7c": {
      "model_module": "@jupyter-widgets/controls",
      "model_module_version": "1.5.0",
      "model_name": "HBoxModel",
      "state": {
       "children": [
        "IPY_MODEL_f3424daeca2f4affa9ffd342fd00bba1",
        "IPY_MODEL_1777f90505cf432a8c99cc4c893849af",
        "IPY_MODEL_41fe4c7a56d24c3a9da06eb7d027b1f2"
       ],
       "layout": "IPY_MODEL_62cbb80e9a034649aa2e008c83ec8b62"
      }
     },
     "bf944ba378db479f8b6ac2d4686b4e0e": {
      "model_module": "@jupyter-widgets/base",
      "model_module_version": "1.2.0",
      "model_name": "LayoutModel",
      "state": {}
     },
     "bf985606cc4945dc8902dbd3164de60f": {
      "model_module": "@jupyter-widgets/base",
      "model_module_version": "1.2.0",
      "model_name": "LayoutModel",
      "state": {}
     },
     "bfa2288246f441f0851a4db0a780f466": {
      "model_module": "@jupyter-widgets/controls",
      "model_module_version": "1.5.0",
      "model_name": "HTMLModel",
      "state": {
       "layout": "IPY_MODEL_413559354ffd41bda57780a8901b04ac",
       "style": "IPY_MODEL_e9f76c59767649cdbd6fd2505a6a9ad9",
       "value": " 98%"
      }
     },
     "bfbf904ee6ee46d9abad0bddba2c8f98": {
      "model_module": "@jupyter-widgets/base",
      "model_module_version": "1.2.0",
      "model_name": "LayoutModel",
      "state": {}
     },
     "bff5dddbe019449e986a779d8eb29f49": {
      "model_module": "@jupyter-widgets/base",
      "model_module_version": "1.2.0",
      "model_name": "LayoutModel",
      "state": {}
     },
     "c00ec4c058da4df8bc7552816839545b": {
      "model_module": "@jupyter-widgets/controls",
      "model_module_version": "1.5.0",
      "model_name": "DescriptionStyleModel",
      "state": {
       "description_width": ""
      }
     },
     "c09e5bffba954aaaa5ad47a2f79518de": {
      "model_module": "@jupyter-widgets/controls",
      "model_module_version": "1.5.0",
      "model_name": "HBoxModel",
      "state": {
       "children": [
        "IPY_MODEL_82bf5257c6be429d92bbb10327fcd29a",
        "IPY_MODEL_1b00fbeeeea047e79bbdace3fe8e4ca6",
        "IPY_MODEL_e991d38350454a64bf485588f17e8dd3"
       ],
       "layout": "IPY_MODEL_6245d5a596ee42019fa447e7cba4ca22"
      }
     },
     "c0a074369c9d4485922e47b54186db6c": {
      "model_module": "@jupyter-widgets/base",
      "model_module_version": "1.2.0",
      "model_name": "LayoutModel",
      "state": {}
     },
     "c0b6c1b46edb4a1bb12a0cf469a52281": {
      "model_module": "@jupyter-widgets/controls",
      "model_module_version": "1.5.0",
      "model_name": "FloatProgressModel",
      "state": {
       "bar_style": "success",
       "layout": "IPY_MODEL_b5140813f5bd49ecb36d0f5d47004739",
       "max": 50,
       "style": "IPY_MODEL_d4e8639f465046dfa90257120c915ad1",
       "value": 50
      }
     },
     "c0c835e54ab7451596f4d088774d699f": {
      "model_module": "@jupyter-widgets/base",
      "model_module_version": "1.2.0",
      "model_name": "LayoutModel",
      "state": {}
     },
     "c0e25a5fcfc94bbb8a774e12c991a775": {
      "model_module": "@jupyter-widgets/base",
      "model_module_version": "1.2.0",
      "model_name": "LayoutModel",
      "state": {}
     },
     "c0e7c2aadadb47fba722a00ba7b95cdb": {
      "model_module": "@jupyter-widgets/base",
      "model_module_version": "1.2.0",
      "model_name": "LayoutModel",
      "state": {}
     },
     "c0f34ceb37af4951adba56d453513e0a": {
      "model_module": "@jupyter-widgets/controls",
      "model_module_version": "1.5.0",
      "model_name": "HTMLModel",
      "state": {
       "layout": "IPY_MODEL_2f94c48b16c14f6ca63bc9c66863635b",
       "style": "IPY_MODEL_5a99db4b2cfd4669b05566e473840229",
       "value": " 49/50 [00:04&lt;00:00, 12.50it/s]"
      }
     },
     "c12d513978e840399f8e746118950470": {
      "model_module": "@jupyter-widgets/controls",
      "model_module_version": "1.5.0",
      "model_name": "DescriptionStyleModel",
      "state": {
       "description_width": ""
      }
     },
     "c135e17f5489456fb61f9c5c6d56cafb": {
      "model_module": "@jupyter-widgets/controls",
      "model_module_version": "1.5.0",
      "model_name": "FloatProgressModel",
      "state": {
       "layout": "IPY_MODEL_60df0ad304454dc09db7831271af65d7",
       "max": 4000,
       "style": "IPY_MODEL_eecfdf2c7bb0465a9f4dd1017eeef277",
       "value": 4000
      }
     },
     "c20ec396f6d941d9b0189f501cc21543": {
      "model_module": "@jupyter-widgets/controls",
      "model_module_version": "1.5.0",
      "model_name": "HBoxModel",
      "state": {
       "children": [
        "IPY_MODEL_fce4ed4df63d45438af6a2bc9ffac149",
        "IPY_MODEL_2fcb8c6c07b448109ba0ce9432ac4d0d",
        "IPY_MODEL_bb1826bb04904293bf1ef2919eb9eefd"
       ],
       "layout": "IPY_MODEL_b6679e9820b24639baa50a055037a58e"
      }
     },
     "c25250be84d94e17b7b676046a8bcb58": {
      "model_module": "@jupyter-widgets/controls",
      "model_module_version": "1.5.0",
      "model_name": "DescriptionStyleModel",
      "state": {
       "description_width": ""
      }
     },
     "c2dee3579e5f42d3a1614a03475b9375": {
      "model_module": "@jupyter-widgets/base",
      "model_module_version": "1.2.0",
      "model_name": "LayoutModel",
      "state": {}
     },
     "c33e1d83217e44bd80673d042111942c": {
      "model_module": "@jupyter-widgets/base",
      "model_module_version": "1.2.0",
      "model_name": "LayoutModel",
      "state": {}
     },
     "c35175b6beee4b24842f0a6965796663": {
      "model_module": "@jupyter-widgets/controls",
      "model_module_version": "1.5.0",
      "model_name": "ProgressStyleModel",
      "state": {
       "description_width": ""
      }
     },
     "c399213478d04d0db2a43e91b08983fc": {
      "model_module": "@jupyter-widgets/controls",
      "model_module_version": "1.5.0",
      "model_name": "HTMLModel",
      "state": {
       "layout": "IPY_MODEL_02888cf64b0a446c81329aadb62ccc8c",
       "style": "IPY_MODEL_33807ff6d9ca4cea823e74a793a75c8c",
       "value": "100%"
      }
     },
     "c471c00c53aa487191dddff3ebe0d328": {
      "model_module": "@jupyter-widgets/controls",
      "model_module_version": "1.5.0",
      "model_name": "FloatProgressModel",
      "state": {
       "bar_style": "danger",
       "layout": "IPY_MODEL_d17737e2480c41629e61ee7107647aeb",
       "max": 10,
       "style": "IPY_MODEL_d09c87b4f7fb42dc89e045cb834fb580"
      }
     },
     "c4d82268d7ad41109c6a3a59904a2bb2": {
      "model_module": "@jupyter-widgets/base",
      "model_module_version": "1.2.0",
      "model_name": "LayoutModel",
      "state": {}
     },
     "c5064f0572e9444bb6885239ec898e09": {
      "model_module": "@jupyter-widgets/controls",
      "model_module_version": "1.5.0",
      "model_name": "HTMLModel",
      "state": {
       "layout": "IPY_MODEL_7cd172698fe34f43b8cc48179d49f0df",
       "style": "IPY_MODEL_0f5a5c5b17fc4aa78a2568b51a99b922",
       "value": " 50/50 [00:02&lt;00:00, 18.94it/s]"
      }
     },
     "c5964b65baa4411fb45f750f720f947f": {
      "model_module": "@jupyter-widgets/controls",
      "model_module_version": "1.5.0",
      "model_name": "FloatProgressModel",
      "state": {
       "bar_style": "success",
       "layout": "IPY_MODEL_85dba55d27bb4c2ba6ba76f1813ae5ae",
       "max": 40,
       "style": "IPY_MODEL_f8f06fe1201d4ec8bb1eca9158f0c9e7",
       "value": 40
      }
     },
     "c65af6257b18433588a22e1aa0650257": {
      "model_module": "@jupyter-widgets/controls",
      "model_module_version": "1.5.0",
      "model_name": "HTMLModel",
      "state": {
       "layout": "IPY_MODEL_ae380dd64d8149598be35107372a161e",
       "style": "IPY_MODEL_86b0816e6ca0427582cfaf07817fa143",
       "value": " 50/50 [00:03&lt;00:00, 15.66it/s]"
      }
     },
     "c6788b9fb3764fe1b9d6b0a774957a42": {
      "model_module": "@jupyter-widgets/controls",
      "model_module_version": "1.5.0",
      "model_name": "ProgressStyleModel",
      "state": {
       "description_width": ""
      }
     },
     "c68492138c9546a8b373e143e7de8773": {
      "model_module": "@jupyter-widgets/controls",
      "model_module_version": "1.5.0",
      "model_name": "HTMLModel",
      "state": {
       "layout": "IPY_MODEL_502c8e59e49148d282eeb91bf1f9ed02",
       "style": "IPY_MODEL_9be558a95abd4db0a7443d5c53d863a2",
       "value": " 50/50 [00:04&lt;00:00, 13.29it/s]"
      }
     },
     "c69c5be7d8224d85aac02d1b3048d53f": {
      "model_module": "@jupyter-widgets/base",
      "model_module_version": "1.2.0",
      "model_name": "LayoutModel",
      "state": {}
     },
     "c6b943f7415d49148b5b3f42f1353574": {
      "model_module": "@jupyter-widgets/controls",
      "model_module_version": "1.5.0",
      "model_name": "DescriptionStyleModel",
      "state": {
       "description_width": ""
      }
     },
     "c6eb425ebe164dd7bca3f3feb7c5da32": {
      "model_module": "@jupyter-widgets/base",
      "model_module_version": "1.2.0",
      "model_name": "LayoutModel",
      "state": {}
     },
     "c6f0b4e9865340da967769e40bc3ef3f": {
      "model_module": "@jupyter-widgets/controls",
      "model_module_version": "1.5.0",
      "model_name": "DescriptionStyleModel",
      "state": {
       "description_width": ""
      }
     },
     "c709a65379ba404ab6b754e85463da58": {
      "model_module": "@jupyter-widgets/controls",
      "model_module_version": "1.5.0",
      "model_name": "DescriptionStyleModel",
      "state": {
       "description_width": ""
      }
     },
     "c7c0832621144d51af61e6b8db5867b1": {
      "model_module": "@jupyter-widgets/controls",
      "model_module_version": "1.5.0",
      "model_name": "DescriptionStyleModel",
      "state": {
       "description_width": ""
      }
     },
     "c7eee988650249aba2fa4c0e5b5bd8af": {
      "model_module": "@jupyter-widgets/base",
      "model_module_version": "1.2.0",
      "model_name": "LayoutModel",
      "state": {}
     },
     "c8b09adf59754bde9490b28c5f6fef32": {
      "model_module": "@jupyter-widgets/base",
      "model_module_version": "1.2.0",
      "model_name": "LayoutModel",
      "state": {}
     },
     "c8daa92d6d9a4524925ca18fc7d1d515": {
      "model_module": "@jupyter-widgets/controls",
      "model_module_version": "1.5.0",
      "model_name": "HTMLModel",
      "state": {
       "layout": "IPY_MODEL_f14d78a9c1ee4cc286b71800fe930202",
       "style": "IPY_MODEL_441c4fe183964c398520a5bbf8437b0d",
       "value": " 50/50 [00:04&lt;00:00, 13.09it/s]"
      }
     },
     "c8e822d994df443ebd309408d0084731": {
      "model_module": "@jupyter-widgets/controls",
      "model_module_version": "1.5.0",
      "model_name": "HTMLModel",
      "state": {
       "layout": "IPY_MODEL_9e71cb3e4a6f4c58a6ed83c6ceaca855",
       "style": "IPY_MODEL_07bec6e8266f4994a0b7de19265e6169",
       "value": " 4000/4000 [09:58&lt;00:00,  8.83it/s]"
      }
     },
     "c9212be9a5574aeb9d3028bc68dbd4fd": {
      "model_module": "@jupyter-widgets/base",
      "model_module_version": "1.2.0",
      "model_name": "LayoutModel",
      "state": {}
     },
     "c978fb014a194463a2b5fae320d79853": {
      "model_module": "@jupyter-widgets/controls",
      "model_module_version": "1.5.0",
      "model_name": "FloatProgressModel",
      "state": {
       "layout": "IPY_MODEL_0345b31c2c774e0789d6830bd0d7b292",
       "max": 4000,
       "style": "IPY_MODEL_7eed69be2b764307b104ac52155b2f0e",
       "value": 4000
      }
     },
     "c99f4769e67a45d0a9a17a210f33b1ff": {
      "model_module": "@jupyter-widgets/controls",
      "model_module_version": "1.5.0",
      "model_name": "DescriptionStyleModel",
      "state": {
       "description_width": ""
      }
     },
     "c9b2c8486ab845709c72c9ad7f6e6d73": {
      "model_module": "@jupyter-widgets/controls",
      "model_module_version": "1.5.0",
      "model_name": "FloatProgressModel",
      "state": {
       "layout": "IPY_MODEL_15cb8c7c1380453f8dc5fdb0fb90a04e",
       "max": 50,
       "style": "IPY_MODEL_5c6fac285be64719b87cb81de73b2e8f",
       "value": 50
      }
     },
     "ca785fb3f0124acfbba89183b262c941": {
      "model_module": "@jupyter-widgets/controls",
      "model_module_version": "1.5.0",
      "model_name": "FloatProgressModel",
      "state": {
       "bar_style": "danger",
       "layout": "IPY_MODEL_3c326ee566ed426b9e6e32023b8bd609",
       "max": 10,
       "style": "IPY_MODEL_491a1b57a89f492e816c4a4ad7bbf429"
      }
     },
     "cae0df731ecf4a9788c8d9b9d228aee7": {
      "model_module": "@jupyter-widgets/controls",
      "model_module_version": "1.5.0",
      "model_name": "FloatProgressModel",
      "state": {
       "layout": "IPY_MODEL_dbdff2fb22344a7c823171ac784089e4",
       "max": 4000,
       "style": "IPY_MODEL_c35175b6beee4b24842f0a6965796663",
       "value": 4000
      }
     },
     "cae80ddf70064852973774c8c123ccc9": {
      "model_module": "@jupyter-widgets/controls",
      "model_module_version": "1.5.0",
      "model_name": "HBoxModel",
      "state": {
       "children": [
        "IPY_MODEL_3c033d69798e482d8eda64db3c9efb64",
        "IPY_MODEL_958f111077a949e1b0dc61b96c52b9e6",
        "IPY_MODEL_3fd8a2923c354bb6aa4c68607361dc4f"
       ],
       "layout": "IPY_MODEL_7adf9a9f25364062ab44cd3b282905eb"
      }
     },
     "cb65f61fd205408985d610c68fc0b795": {
      "model_module": "@jupyter-widgets/controls",
      "model_module_version": "1.5.0",
      "model_name": "HTMLModel",
      "state": {
       "layout": "IPY_MODEL_be1be87be3c5407e808a77fa9a0bd1ab",
       "style": "IPY_MODEL_dba42250cd6148b8b70bb359151e5c51",
       "value": "100%"
      }
     },
     "cc1195293a6d4a07954b0dcc2c6c05d8": {
      "model_module": "@jupyter-widgets/controls",
      "model_module_version": "1.5.0",
      "model_name": "FloatProgressModel",
      "state": {
       "layout": "IPY_MODEL_86d4501f04b44044a7f484697947e2c8",
       "max": 50,
       "style": "IPY_MODEL_9710637fd8074e0580d788d41a411bd9",
       "value": 50
      }
     },
     "ccef2ee7aeed4bf18b6471c4a36812b4": {
      "model_module": "@jupyter-widgets/base",
      "model_module_version": "1.2.0",
      "model_name": "LayoutModel",
      "state": {}
     },
     "cd6852583e254710b36dbecc60b0c2c7": {
      "model_module": "@jupyter-widgets/controls",
      "model_module_version": "1.5.0",
      "model_name": "HTMLModel",
      "state": {
       "layout": "IPY_MODEL_2afd89a074584412bff382c15c307194",
       "style": "IPY_MODEL_c6b943f7415d49148b5b3f42f1353574",
       "value": " 90%"
      }
     },
     "cd8f3f00e2f5403bb5622c9baa1abced": {
      "model_module": "@jupyter-widgets/controls",
      "model_module_version": "1.5.0",
      "model_name": "DescriptionStyleModel",
      "state": {
       "description_width": ""
      }
     },
     "cdca3096b9684d9fa421c0a138cf5cac": {
      "model_module": "@jupyter-widgets/controls",
      "model_module_version": "1.5.0",
      "model_name": "HTMLModel",
      "state": {
       "layout": "IPY_MODEL_872ab828975b4064b74a2f0586badbbc",
       "style": "IPY_MODEL_6e5af16c93ff4ed1af3062e66b75404d",
       "value": " 3992/4000 [01:05&lt;00:00, 89.56it/s]"
      }
     },
     "cdd9758ba12147a2ad687e6f144a3304": {
      "model_module": "@jupyter-widgets/controls",
      "model_module_version": "1.5.0",
      "model_name": "FloatProgressModel",
      "state": {
       "bar_style": "success",
       "layout": "IPY_MODEL_e434250bf75748d784cd6a92af89ec36",
       "max": 50,
       "style": "IPY_MODEL_0bf172c153f44e0f84e15d2b001544db",
       "value": 50
      }
     },
     "cde0daa94eb34173a01f286fe6df2a90": {
      "model_module": "@jupyter-widgets/controls",
      "model_module_version": "1.5.0",
      "model_name": "HTMLModel",
      "state": {
       "layout": "IPY_MODEL_59d0370bf33d465fb4d4f4718d9f50f0",
       "style": "IPY_MODEL_8fcbeca65fe84793ae601515244b2823",
       "value": "100%"
      }
     },
     "ce0a24a02fb14a3b86a1e5fb9be4237d": {
      "model_module": "@jupyter-widgets/base",
      "model_module_version": "1.2.0",
      "model_name": "LayoutModel",
      "state": {}
     },
     "ce38117b35d146a092f3a513e7b71908": {
      "model_module": "@jupyter-widgets/controls",
      "model_module_version": "1.5.0",
      "model_name": "HTMLModel",
      "state": {
       "layout": "IPY_MODEL_141463d3047f4c018ea2ffaa87c3c4d9",
       "style": "IPY_MODEL_63dd37d18f354d529b683bba448c3cde",
       "value": " 4000/4000 [09:18&lt;00:00,  6.64it/s]"
      }
     },
     "ce650f3f616b45058967e4c9081de2f9": {
      "model_module": "@jupyter-widgets/base",
      "model_module_version": "1.2.0",
      "model_name": "LayoutModel",
      "state": {}
     },
     "ceaffa01b946478aa5f66e14ddcb31b9": {
      "model_module": "@jupyter-widgets/controls",
      "model_module_version": "1.5.0",
      "model_name": "HTMLModel",
      "state": {
       "layout": "IPY_MODEL_b31d94539bbd47a7b6737afe13450520",
       "style": "IPY_MODEL_adbb2a651e1340a6a0bfa89f2ef87f0b",
       "value": " 50/50 [00:06&lt;00:00,  9.27it/s]"
      }
     },
     "cf859b54069142b3984918935b7461d4": {
      "model_module": "@jupyter-widgets/controls",
      "model_module_version": "1.5.0",
      "model_name": "HTMLModel",
      "state": {
       "layout": "IPY_MODEL_690a47db2e7d4f53b22c43924b2bba08",
       "style": "IPY_MODEL_0752b28ed2fb48b1b76db912832d8a7f",
       "value": " 49/50 [00:03&lt;00:00, 15.83it/s]"
      }
     },
     "cf9c46a3d05f428bbf116629d249a4cc": {
      "model_module": "@jupyter-widgets/base",
      "model_module_version": "1.2.0",
      "model_name": "LayoutModel",
      "state": {}
     },
     "cfd797f4133d4153ad9f9a85b06e98a3": {
      "model_module": "@jupyter-widgets/controls",
      "model_module_version": "1.5.0",
      "model_name": "DescriptionStyleModel",
      "state": {
       "description_width": ""
      }
     },
     "d09c87b4f7fb42dc89e045cb834fb580": {
      "model_module": "@jupyter-widgets/controls",
      "model_module_version": "1.5.0",
      "model_name": "ProgressStyleModel",
      "state": {
       "description_width": ""
      }
     },
     "d0c279184c9643c7837847236b84c0f9": {
      "model_module": "@jupyter-widgets/controls",
      "model_module_version": "1.5.0",
      "model_name": "HBoxModel",
      "state": {
       "children": [
        "IPY_MODEL_cde0daa94eb34173a01f286fe6df2a90",
        "IPY_MODEL_e93d12557cbc45608d35ac097b869ead",
        "IPY_MODEL_13c008873cbe4472a7e01c34126064e4"
       ],
       "layout": "IPY_MODEL_28a24bd7f21a4fedb187f8663474c218"
      }
     },
     "d0ccac878834495ca82fff94092f0148": {
      "model_module": "@jupyter-widgets/controls",
      "model_module_version": "1.5.0",
      "model_name": "ProgressStyleModel",
      "state": {
       "description_width": ""
      }
     },
     "d134345b12774223a64ef6786a0255e9": {
      "model_module": "@jupyter-widgets/controls",
      "model_module_version": "1.5.0",
      "model_name": "HBoxModel",
      "state": {
       "children": [
        "IPY_MODEL_e17337e063c44ad584ec48fcb8285dba",
        "IPY_MODEL_22105590f2d44354844d2c0b70eba984",
        "IPY_MODEL_8ee790fd46cf446da87951208b853331"
       ],
       "layout": "IPY_MODEL_2fd7e9be5269434a9e9f70d7243e7f4f"
      }
     },
     "d153e6a8cc7c44928c0ec66aced243ba": {
      "model_module": "@jupyter-widgets/controls",
      "model_module_version": "1.5.0",
      "model_name": "DescriptionStyleModel",
      "state": {
       "description_width": ""
      }
     },
     "d17737e2480c41629e61ee7107647aeb": {
      "model_module": "@jupyter-widgets/base",
      "model_module_version": "1.2.0",
      "model_name": "LayoutModel",
      "state": {}
     },
     "d185a6f32adc497b8ba37288ddeeec21": {
      "model_module": "@jupyter-widgets/controls",
      "model_module_version": "1.5.0",
      "model_name": "DescriptionStyleModel",
      "state": {
       "description_width": ""
      }
     },
     "d1abe9e63dbb4feb98d04ddbb3d71ae0": {
      "model_module": "@jupyter-widgets/controls",
      "model_module_version": "1.5.0",
      "model_name": "HTMLModel",
      "state": {
       "layout": "IPY_MODEL_ba4a4b891f09435fa2b299d11c1510e7",
       "style": "IPY_MODEL_28cc8df4772e45338f070a035b44485f",
       "value": "100%"
      }
     },
     "d1dd7b9cf6ed4ab4889123853c2445c3": {
      "model_module": "@jupyter-widgets/controls",
      "model_module_version": "1.5.0",
      "model_name": "DescriptionStyleModel",
      "state": {
       "description_width": ""
      }
     },
     "d1ea2af088724faaaf94a7ff6cd8c227": {
      "model_module": "@jupyter-widgets/controls",
      "model_module_version": "1.5.0",
      "model_name": "ProgressStyleModel",
      "state": {
       "description_width": ""
      }
     },
     "d43b87759d204ee5ae0f94e1f77c81a8": {
      "model_module": "@jupyter-widgets/base",
      "model_module_version": "1.2.0",
      "model_name": "LayoutModel",
      "state": {}
     },
     "d4471b1f5b344db4b259174f5b3f45c7": {
      "model_module": "@jupyter-widgets/controls",
      "model_module_version": "1.5.0",
      "model_name": "DescriptionStyleModel",
      "state": {
       "description_width": ""
      }
     },
     "d460ac560cf04975bfbcb05229d1ab0c": {
      "model_module": "@jupyter-widgets/controls",
      "model_module_version": "1.5.0",
      "model_name": "HBoxModel",
      "state": {
       "children": [
        "IPY_MODEL_5099524c4d4d4600b66b382db80aba8e",
        "IPY_MODEL_b37f04c59e134420b55f25e9acdc28e6",
        "IPY_MODEL_c8daa92d6d9a4524925ca18fc7d1d515"
       ],
       "layout": "IPY_MODEL_0458e728738b411189c954ab9361a6b2"
      }
     },
     "d467e0f68d9d43d8a65dc7d75b082973": {
      "model_module": "@jupyter-widgets/base",
      "model_module_version": "1.2.0",
      "model_name": "LayoutModel",
      "state": {}
     },
     "d495172f61f1466baafde208682646a7": {
      "model_module": "@jupyter-widgets/controls",
      "model_module_version": "1.5.0",
      "model_name": "ProgressStyleModel",
      "state": {
       "description_width": ""
      }
     },
     "d4e8639f465046dfa90257120c915ad1": {
      "model_module": "@jupyter-widgets/controls",
      "model_module_version": "1.5.0",
      "model_name": "ProgressStyleModel",
      "state": {
       "description_width": ""
      }
     },
     "d580ce4b5420489bbc080ee3e63f33a1": {
      "model_module": "@jupyter-widgets/base",
      "model_module_version": "1.2.0",
      "model_name": "LayoutModel",
      "state": {}
     },
     "d602cccc2dbb439a95d20d2c22cf0a76": {
      "model_module": "@jupyter-widgets/base",
      "model_module_version": "1.2.0",
      "model_name": "LayoutModel",
      "state": {}
     },
     "d6669ccdf4b6402e979df2e9c31e6a6a": {
      "model_module": "@jupyter-widgets/controls",
      "model_module_version": "1.5.0",
      "model_name": "FloatProgressModel",
      "state": {
       "layout": "IPY_MODEL_f27c1a9b4df34db1a0e6a45b3ab7e49e",
       "max": 50,
       "style": "IPY_MODEL_997068725b3142d5a21549a16fef1512",
       "value": 50
      }
     },
     "d688a0373f7d44c09256e09bc58db90a": {
      "model_module": "@jupyter-widgets/controls",
      "model_module_version": "1.5.0",
      "model_name": "HTMLModel",
      "state": {
       "layout": "IPY_MODEL_dc6329cb19ac42f2b44ed3199f2ee5e3",
       "style": "IPY_MODEL_27ca61c5c4c54a42baf158e0b39c50ad",
       "value": " 50/50 [00:08&lt;00:00,  6.87it/s]"
      }
     },
     "d69b2a1c5d664278bc42b1a79e5ae29a": {
      "model_module": "@jupyter-widgets/controls",
      "model_module_version": "1.5.0",
      "model_name": "DescriptionStyleModel",
      "state": {
       "description_width": ""
      }
     },
     "d6c6c8b6f9984beab24edd52b488c21c": {
      "model_module": "@jupyter-widgets/base",
      "model_module_version": "1.2.0",
      "model_name": "LayoutModel",
      "state": {}
     },
     "d7135fc2d35b4fb7bff5c1374f19a5fb": {
      "model_module": "@jupyter-widgets/controls",
      "model_module_version": "1.5.0",
      "model_name": "DescriptionStyleModel",
      "state": {
       "description_width": ""
      }
     },
     "d716b48c767d4dc1bc77866ae83d8f7a": {
      "model_module": "@jupyter-widgets/controls",
      "model_module_version": "1.5.0",
      "model_name": "FloatProgressModel",
      "state": {
       "layout": "IPY_MODEL_bf944ba378db479f8b6ac2d4686b4e0e",
       "max": 4000,
       "style": "IPY_MODEL_dc8176e3fea24498b6c7bb694aedfdfe",
       "value": 4000
      }
     },
     "d7c1328be1364726bc56274b8e9bd5e5": {
      "model_module": "@jupyter-widgets/base",
      "model_module_version": "1.2.0",
      "model_name": "LayoutModel",
      "state": {}
     },
     "d833bfacd0364490a8a003acb9c68bb8": {
      "model_module": "@jupyter-widgets/controls",
      "model_module_version": "1.5.0",
      "model_name": "FloatProgressModel",
      "state": {
       "bar_style": "success",
       "layout": "IPY_MODEL_0d6add2e3d9c4f6e8481dcaec79a63cf",
       "max": 50,
       "style": "IPY_MODEL_5dde04a9a1424caf813745511976e481",
       "value": 50
      }
     },
     "d83dd70dbff04c56b74e0128e5a59c91": {
      "model_module": "@jupyter-widgets/base",
      "model_module_version": "1.2.0",
      "model_name": "LayoutModel",
      "state": {}
     },
     "d8a5312f249846c185463a86dc413c1e": {
      "model_module": "@jupyter-widgets/controls",
      "model_module_version": "1.5.0",
      "model_name": "HTMLModel",
      "state": {
       "layout": "IPY_MODEL_09fdcf2ccf1246bdb2c9bd990c45843b",
       "style": "IPY_MODEL_a658b8cbce7c4b96a282e423f1f47c93",
       "value": " 4000/4000 [05:30&lt;00:00, 13.31it/s]"
      }
     },
     "d92ce07e973440aea90c3cc11c3b4b18": {
      "model_module": "@jupyter-widgets/base",
      "model_module_version": "1.2.0",
      "model_name": "LayoutModel",
      "state": {}
     },
     "d94df6c3830349c7ad884d230c512312": {
      "model_module": "@jupyter-widgets/base",
      "model_module_version": "1.2.0",
      "model_name": "LayoutModel",
      "state": {}
     },
     "d9c7c3d866b246259d40ab769d6da177": {
      "model_module": "@jupyter-widgets/controls",
      "model_module_version": "1.5.0",
      "model_name": "HTMLModel",
      "state": {
       "layout": "IPY_MODEL_8dba477bdb474000b74f27c79d49e558",
       "style": "IPY_MODEL_ba7e5ee5e4a74e41916af20d12d93aef",
       "value": "  0%"
      }
     },
     "d9d2294ea09548ce9f4fc2ffb06f9fbf": {
      "model_module": "@jupyter-widgets/controls",
      "model_module_version": "1.5.0",
      "model_name": "FloatProgressModel",
      "state": {
       "bar_style": "success",
       "layout": "IPY_MODEL_bf355620ba654733a874d56b46eeec95",
       "max": 40,
       "style": "IPY_MODEL_2ffd001c4f624784871512206d833710",
       "value": 40
      }
     },
     "d9fc8568deaa4604adb2723bd8706336": {
      "model_module": "@jupyter-widgets/base",
      "model_module_version": "1.2.0",
      "model_name": "LayoutModel",
      "state": {}
     },
     "da466dfc162a41c2a6a3eb71bc0f14ac": {
      "model_module": "@jupyter-widgets/base",
      "model_module_version": "1.2.0",
      "model_name": "LayoutModel",
      "state": {}
     },
     "da5d8a66c3e348809c2f6a258664c9ff": {
      "model_module": "@jupyter-widgets/base",
      "model_module_version": "1.2.0",
      "model_name": "LayoutModel",
      "state": {}
     },
     "da6f80f4fb3a4cca878e2f1a5435301b": {
      "model_module": "@jupyter-widgets/controls",
      "model_module_version": "1.5.0",
      "model_name": "HTMLModel",
      "state": {
       "layout": "IPY_MODEL_46e38038f72b42609632d3782f5da89f",
       "style": "IPY_MODEL_c25250be84d94e17b7b676046a8bcb58",
       "value": " 92%"
      }
     },
     "da728b70f4364e9da0b3b33286ae7a0c": {
      "model_module": "@jupyter-widgets/base",
      "model_module_version": "1.2.0",
      "model_name": "LayoutModel",
      "state": {}
     },
     "da8a3045b909409eb78ea054fe7ccf13": {
      "model_module": "@jupyter-widgets/controls",
      "model_module_version": "1.5.0",
      "model_name": "HTMLModel",
      "state": {
       "layout": "IPY_MODEL_9703b10a86d64b768693a6d0c7220569",
       "style": "IPY_MODEL_d4471b1f5b344db4b259174f5b3f45c7",
       "value": " 0/10 [00:00&lt;?, ?it/s]"
      }
     },
     "da9f6eea11c249229f551e6cb5b9c433": {
      "model_module": "@jupyter-widgets/controls",
      "model_module_version": "1.5.0",
      "model_name": "HTMLModel",
      "state": {
       "layout": "IPY_MODEL_31685f9726f44cfdb6ea1345fef874e2",
       "style": "IPY_MODEL_9fa0d9ad368142a78be2bf2774e7b0f4",
       "value": "  0%"
      }
     },
     "db069955c9414a06be3c97e8b78ffdf3": {
      "model_module": "@jupyter-widgets/controls",
      "model_module_version": "1.5.0",
      "model_name": "DescriptionStyleModel",
      "state": {
       "description_width": ""
      }
     },
     "db07798856414220aeab974792081f02": {
      "model_module": "@jupyter-widgets/controls",
      "model_module_version": "1.5.0",
      "model_name": "DescriptionStyleModel",
      "state": {
       "description_width": ""
      }
     },
     "db8e7b3375b74a289a6ef1207fb090a4": {
      "model_module": "@jupyter-widgets/base",
      "model_module_version": "1.2.0",
      "model_name": "LayoutModel",
      "state": {}
     },
     "dba42250cd6148b8b70bb359151e5c51": {
      "model_module": "@jupyter-widgets/controls",
      "model_module_version": "1.5.0",
      "model_name": "DescriptionStyleModel",
      "state": {
       "description_width": ""
      }
     },
     "dbdff2fb22344a7c823171ac784089e4": {
      "model_module": "@jupyter-widgets/base",
      "model_module_version": "1.2.0",
      "model_name": "LayoutModel",
      "state": {}
     },
     "dc30333b5cb64ed8a5f42cb24e09902c": {
      "model_module": "@jupyter-widgets/controls",
      "model_module_version": "1.5.0",
      "model_name": "DescriptionStyleModel",
      "state": {
       "description_width": ""
      }
     },
     "dc606a3078034fd3803b652f8afe3bd7": {
      "model_module": "@jupyter-widgets/controls",
      "model_module_version": "1.5.0",
      "model_name": "HTMLModel",
      "state": {
       "layout": "IPY_MODEL_faae59b917924c94b7b69ae84dcfd7b1",
       "style": "IPY_MODEL_85f42384c51348a0afe0c448ad14959c",
       "value": " 3997/4000 [02:52&lt;00:00, 28.87it/s]"
      }
     },
     "dc6329cb19ac42f2b44ed3199f2ee5e3": {
      "model_module": "@jupyter-widgets/base",
      "model_module_version": "1.2.0",
      "model_name": "LayoutModel",
      "state": {}
     },
     "dc8176e3fea24498b6c7bb694aedfdfe": {
      "model_module": "@jupyter-widgets/controls",
      "model_module_version": "1.5.0",
      "model_name": "ProgressStyleModel",
      "state": {
       "description_width": ""
      }
     },
     "dd18307f741f419aa517f8c0af0efa49": {
      "model_module": "@jupyter-widgets/controls",
      "model_module_version": "1.5.0",
      "model_name": "DescriptionStyleModel",
      "state": {
       "description_width": ""
      }
     },
     "dd47a8a109f74345904b492a65babba2": {
      "model_module": "@jupyter-widgets/controls",
      "model_module_version": "1.5.0",
      "model_name": "HTMLModel",
      "state": {
       "layout": "IPY_MODEL_33990a5646344ad7801c430cdeb80353",
       "style": "IPY_MODEL_560074f38b5b4f4cab3458016ba91541",
       "value": " 46/50 [00:02&lt;00:00, 21.51it/s]"
      }
     },
     "dd7c1f09ce194d7087bac3bc14bd9c27": {
      "model_module": "@jupyter-widgets/controls",
      "model_module_version": "1.5.0",
      "model_name": "FloatProgressModel",
      "state": {
       "layout": "IPY_MODEL_710f770a14b54f8786172afcd2b3d68d",
       "max": 4000,
       "style": "IPY_MODEL_ebdb7e7d64d24f699b02c084029c453a",
       "value": 4000
      }
     },
     "decb2f33e709401794efed520b25709e": {
      "model_module": "@jupyter-widgets/controls",
      "model_module_version": "1.5.0",
      "model_name": "HBoxModel",
      "state": {
       "children": [
        "IPY_MODEL_e9781523f19d484eb9aadff8d79410e2",
        "IPY_MODEL_af4f4100dff04e2fb5c61237a97d4f2d",
        "IPY_MODEL_10ef21076ea24498bed459ec1d91de9a"
       ],
       "layout": "IPY_MODEL_65e99d59e3404be8b5a05496b3fa0e9a"
      }
     },
     "df6f754526624144b400c6124b0efd31": {
      "model_module": "@jupyter-widgets/base",
      "model_module_version": "1.2.0",
      "model_name": "LayoutModel",
      "state": {}
     },
     "df8bf425268348938e43536c3860e0b6": {
      "model_module": "@jupyter-widgets/controls",
      "model_module_version": "1.5.0",
      "model_name": "ProgressStyleModel",
      "state": {
       "description_width": ""
      }
     },
     "df9b62d4e216463398866e1f9478af52": {
      "model_module": "@jupyter-widgets/controls",
      "model_module_version": "1.5.0",
      "model_name": "HTMLModel",
      "state": {
       "layout": "IPY_MODEL_786bee939f7944dd8a4a3bb0119aaa05",
       "style": "IPY_MODEL_be512c20af0f4524a9d89818f03ea5e2",
       "value": "100%"
      }
     },
     "e020f9f7985846299d5af0203d6193f7": {
      "model_module": "@jupyter-widgets/base",
      "model_module_version": "1.2.0",
      "model_name": "LayoutModel",
      "state": {}
     },
     "e09bf3ed9e164e88ab2756f6ae49aa46": {
      "model_module": "@jupyter-widgets/controls",
      "model_module_version": "1.5.0",
      "model_name": "HTMLModel",
      "state": {
       "layout": "IPY_MODEL_17ba1bf419dc4df0a21701f3315120fa",
       "style": "IPY_MODEL_64759cc68c01418daa92c59eafac3b5d",
       "value": " 4000/4000 [03:10&lt;00:00, 22.80it/s]"
      }
     },
     "e1322e4db5b349898d958a3eacc1ec60": {
      "model_module": "@jupyter-widgets/base",
      "model_module_version": "1.2.0",
      "model_name": "LayoutModel",
      "state": {}
     },
     "e17337e063c44ad584ec48fcb8285dba": {
      "model_module": "@jupyter-widgets/controls",
      "model_module_version": "1.5.0",
      "model_name": "HTMLModel",
      "state": {
       "layout": "IPY_MODEL_604eaf3943e34d449a702b68172d546a",
       "style": "IPY_MODEL_310bab27011e4c6dafd68f8f2e12b950",
       "value": "100%"
      }
     },
     "e19921eeecbb4bd58c27ce245155ba3c": {
      "model_module": "@jupyter-widgets/base",
      "model_module_version": "1.2.0",
      "model_name": "LayoutModel",
      "state": {}
     },
     "e2a229eb75964caeaacc4c348e6ee9ee": {
      "model_module": "@jupyter-widgets/controls",
      "model_module_version": "1.5.0",
      "model_name": "ProgressStyleModel",
      "state": {
       "description_width": ""
      }
     },
     "e2f8551dee154f569daa031a5c6d05ba": {
      "model_module": "@jupyter-widgets/base",
      "model_module_version": "1.2.0",
      "model_name": "LayoutModel",
      "state": {}
     },
     "e32b5f26e4ed413ea9472e6f0fe9cacf": {
      "model_module": "@jupyter-widgets/controls",
      "model_module_version": "1.5.0",
      "model_name": "DescriptionStyleModel",
      "state": {
       "description_width": ""
      }
     },
     "e36e8940a5474d9bb6046e06fbafe610": {
      "model_module": "@jupyter-widgets/base",
      "model_module_version": "1.2.0",
      "model_name": "LayoutModel",
      "state": {}
     },
     "e375dae7f8374ab9bec7778a8b6955b1": {
      "model_module": "@jupyter-widgets/base",
      "model_module_version": "1.2.0",
      "model_name": "LayoutModel",
      "state": {}
     },
     "e3d09246f9644cfa9beaa4332078fb19": {
      "model_module": "@jupyter-widgets/controls",
      "model_module_version": "1.5.0",
      "model_name": "FloatProgressModel",
      "state": {
       "layout": "IPY_MODEL_95cf3ac07a7d4834bd0769ffda80a3d1",
       "max": 4000,
       "style": "IPY_MODEL_be0635b43af9412ca699aa1b950007df",
       "value": 4000
      }
     },
     "e3d29597cffb4c909473831c6f3f7f66": {
      "model_module": "@jupyter-widgets/base",
      "model_module_version": "1.2.0",
      "model_name": "LayoutModel",
      "state": {}
     },
     "e3ed144a670645ca96d7c40900d3ed48": {
      "model_module": "@jupyter-widgets/base",
      "model_module_version": "1.2.0",
      "model_name": "LayoutModel",
      "state": {}
     },
     "e434250bf75748d784cd6a92af89ec36": {
      "model_module": "@jupyter-widgets/base",
      "model_module_version": "1.2.0",
      "model_name": "LayoutModel",
      "state": {}
     },
     "e4d5d7cf4bc54ae1b714ffce7e516a52": {
      "model_module": "@jupyter-widgets/controls",
      "model_module_version": "1.5.0",
      "model_name": "FloatProgressModel",
      "state": {
       "bar_style": "success",
       "layout": "IPY_MODEL_ed5a2bfad65045d0990e84a70f9f26d8",
       "max": 600,
       "style": "IPY_MODEL_7afa79ddd23c4ec78e1c9625385a6fc5",
       "value": 600
      }
     },
     "e4ee34eca42e4e77b95c86065ed69f04": {
      "model_module": "@jupyter-widgets/controls",
      "model_module_version": "1.5.0",
      "model_name": "DescriptionStyleModel",
      "state": {
       "description_width": ""
      }
     },
     "e553570965e549588f5e62353282e196": {
      "model_module": "@jupyter-widgets/controls",
      "model_module_version": "1.5.0",
      "model_name": "HTMLModel",
      "state": {
       "layout": "IPY_MODEL_8a38f17c95a5487cab621bd6265f2de5",
       "style": "IPY_MODEL_7a39dbb8d93e43b38f111406634ec870",
       "value": " 0/10 [00:00&lt;?, ?it/s]"
      }
     },
     "e5892fe1615245d79436f55bfc5246ff": {
      "model_module": "@jupyter-widgets/base",
      "model_module_version": "1.2.0",
      "model_name": "LayoutModel",
      "state": {}
     },
     "e58e3ac58c59408a852248598b76a694": {
      "model_module": "@jupyter-widgets/controls",
      "model_module_version": "1.5.0",
      "model_name": "HTMLModel",
      "state": {
       "layout": "IPY_MODEL_9ce40eaa64884689aeeca8693c828a5b",
       "style": "IPY_MODEL_5b73a0b5562842cba9f921e9f07cc0eb",
       "value": " 92%"
      }
     },
     "e5c5289711314cd4b9ea11a94bfb7527": {
      "model_module": "@jupyter-widgets/base",
      "model_module_version": "1.2.0",
      "model_name": "LayoutModel",
      "state": {}
     },
     "e606912f91c94086b79873dddcf286cd": {
      "model_module": "@jupyter-widgets/controls",
      "model_module_version": "1.5.0",
      "model_name": "DescriptionStyleModel",
      "state": {
       "description_width": ""
      }
     },
     "e63a00f0d65f4422ab11acbb15150f61": {
      "model_module": "@jupyter-widgets/controls",
      "model_module_version": "1.5.0",
      "model_name": "HTMLModel",
      "state": {
       "layout": "IPY_MODEL_9b713787de8849adb4a02fea853c2186",
       "style": "IPY_MODEL_b303176180bd4add951557ab3841a31e",
       "value": "100%"
      }
     },
     "e673bd47fe4042e6ac4813b9f7b8effe": {
      "model_module": "@jupyter-widgets/controls",
      "model_module_version": "1.5.0",
      "model_name": "DescriptionStyleModel",
      "state": {
       "description_width": ""
      }
     },
     "e683440b74a3499e84eb9ef27602bda5": {
      "model_module": "@jupyter-widgets/controls",
      "model_module_version": "1.5.0",
      "model_name": "DescriptionStyleModel",
      "state": {
       "description_width": ""
      }
     },
     "e6ba1f07b31f4cb0bac099128effc1cf": {
      "model_module": "@jupyter-widgets/controls",
      "model_module_version": "1.5.0",
      "model_name": "FloatProgressModel",
      "state": {
       "layout": "IPY_MODEL_69c85ce265574a0ba659bd0d094f7d2f",
       "max": 50,
       "style": "IPY_MODEL_398eccfba458456085716193a5977d00",
       "value": 50
      }
     },
     "e79216bcb274444986db8fc0a0372571": {
      "model_module": "@jupyter-widgets/controls",
      "model_module_version": "1.5.0",
      "model_name": "DescriptionStyleModel",
      "state": {
       "description_width": ""
      }
     },
     "e7dcd99aa16846a9b1611082ea3f9b05": {
      "model_module": "@jupyter-widgets/controls",
      "model_module_version": "1.5.0",
      "model_name": "DescriptionStyleModel",
      "state": {
       "description_width": ""
      }
     },
     "e817a76111be404099f40fe8e89b76f4": {
      "model_module": "@jupyter-widgets/base",
      "model_module_version": "1.2.0",
      "model_name": "LayoutModel",
      "state": {}
     },
     "e887d905b30842ce8b365c4d5d8a64b3": {
      "model_module": "@jupyter-widgets/base",
      "model_module_version": "1.2.0",
      "model_name": "LayoutModel",
      "state": {}
     },
     "e8f5f8609bec44cb8d961c734766fd82": {
      "model_module": "@jupyter-widgets/base",
      "model_module_version": "1.2.0",
      "model_name": "LayoutModel",
      "state": {}
     },
     "e93d12557cbc45608d35ac097b869ead": {
      "model_module": "@jupyter-widgets/controls",
      "model_module_version": "1.5.0",
      "model_name": "FloatProgressModel",
      "state": {
       "bar_style": "success",
       "layout": "IPY_MODEL_07b5380ad86f4b2fb8e5ef3515525851",
       "max": 40,
       "style": "IPY_MODEL_20b1e5e0a6414f29acf29fe9a39de2fa",
       "value": 40
      }
     },
     "e96d553a8a9b4d878017f887528d25f9": {
      "model_module": "@jupyter-widgets/controls",
      "model_module_version": "1.5.0",
      "model_name": "HTMLModel",
      "state": {
       "layout": "IPY_MODEL_8c6674bd57464e39a4aad469dc88b591",
       "style": "IPY_MODEL_1beb6f1cd7634c6baaa9358be6e3e47c",
       "value": " 4000/4000 [02:52&lt;00:00, 27.67it/s]"
      }
     },
     "e9781523f19d484eb9aadff8d79410e2": {
      "model_module": "@jupyter-widgets/controls",
      "model_module_version": "1.5.0",
      "model_name": "HTMLModel",
      "state": {
       "layout": "IPY_MODEL_238a2b1b44de4a7c8401858cbaaef1c1",
       "style": "IPY_MODEL_2d8e07f0730e4fdd91007f3b70f9923d",
       "value": "  0%"
      }
     },
     "e991d38350454a64bf485588f17e8dd3": {
      "model_module": "@jupyter-widgets/controls",
      "model_module_version": "1.5.0",
      "model_name": "HTMLModel",
      "state": {
       "layout": "IPY_MODEL_336a1a7fbb604c499bd1a19c745120f8",
       "style": "IPY_MODEL_8c7aa2f584034070a0b2ce679ce867a0",
       "value": " 12/40 [00:00&lt;00:01, 16.59it/s]"
      }
     },
     "e9f76c59767649cdbd6fd2505a6a9ad9": {
      "model_module": "@jupyter-widgets/controls",
      "model_module_version": "1.5.0",
      "model_name": "DescriptionStyleModel",
      "state": {
       "description_width": ""
      }
     },
     "ea724dc55ed14676a776d8e7ad9875fd": {
      "model_module": "@jupyter-widgets/controls",
      "model_module_version": "1.5.0",
      "model_name": "DescriptionStyleModel",
      "state": {
       "description_width": ""
      }
     },
     "eb41ec68ca90411c9f6c8fa9714e9d55": {
      "model_module": "@jupyter-widgets/controls",
      "model_module_version": "1.5.0",
      "model_name": "HTMLModel",
      "state": {
       "layout": "IPY_MODEL_da5d8a66c3e348809c2f6a258664c9ff",
       "style": "IPY_MODEL_1dc99d1e3fe24e4a8f475af1623f3438",
       "value": " 49/50 [00:03&lt;00:00, 17.67it/s]"
      }
     },
     "ebc8e3d3b9404b328eae57d589359028": {
      "model_module": "@jupyter-widgets/controls",
      "model_module_version": "1.5.0",
      "model_name": "HTMLModel",
      "state": {
       "layout": "IPY_MODEL_cf9c46a3d05f428bbf116629d249a4cc",
       "style": "IPY_MODEL_be9232f8b6164f6cb8cea54673f74807",
       "value": " 0/10 [00:00&lt;?, ?it/s]"
      }
     },
     "ebdb7e7d64d24f699b02c084029c453a": {
      "model_module": "@jupyter-widgets/controls",
      "model_module_version": "1.5.0",
      "model_name": "ProgressStyleModel",
      "state": {
       "description_width": ""
      }
     },
     "ebf14cc3182f4e9296b0dbff7ac1a0bc": {
      "model_module": "@jupyter-widgets/base",
      "model_module_version": "1.2.0",
      "model_name": "LayoutModel",
      "state": {}
     },
     "ec7397312022420dbf029ccab48ed166": {
      "model_module": "@jupyter-widgets/controls",
      "model_module_version": "1.5.0",
      "model_name": "HBoxModel",
      "state": {
       "children": [
        "IPY_MODEL_0bddcbdc2bc64b8c903afb3d0cba8e79",
        "IPY_MODEL_87195aca506241f6a32757f41e30eee6",
        "IPY_MODEL_10e4034a0963441db6abd0ccb195af9e"
       ],
       "layout": "IPY_MODEL_42c3c864b91a4e2facf48e35eced76b9"
      }
     },
     "ecbce71ba70149aa81b8ae682eb2d067": {
      "model_module": "@jupyter-widgets/controls",
      "model_module_version": "1.5.0",
      "model_name": "HTMLModel",
      "state": {
       "layout": "IPY_MODEL_36d78fc5221c4cfaa8d9df61a9c04503",
       "style": "IPY_MODEL_2375b4293f804b51b4a3eb8c954bdc65",
       "value": " 49/50 [00:04&lt;00:00, 14.92it/s]"
      }
     },
     "ed179821dd3b4557954064d3d8b8e1d5": {
      "model_module": "@jupyter-widgets/controls",
      "model_module_version": "1.5.0",
      "model_name": "HTMLModel",
      "state": {
       "layout": "IPY_MODEL_bcf38cb149fe45f6b90792a05a50c3de",
       "style": "IPY_MODEL_a0b8fcbd995848b092f6b5ad701612df",
       "value": " 49/50 [00:03&lt;00:00, 15.87it/s]"
      }
     },
     "ed28019d630e49fdbacf7fa3cbc3825c": {
      "model_module": "@jupyter-widgets/controls",
      "model_module_version": "1.5.0",
      "model_name": "HTMLModel",
      "state": {
       "layout": "IPY_MODEL_d83dd70dbff04c56b74e0128e5a59c91",
       "style": "IPY_MODEL_1340c35d9d0f4bfdb899f787ab798312",
       "value": " 4000/4000 [10:39&lt;00:00,  5.72it/s]"
      }
     },
     "ed5a2bfad65045d0990e84a70f9f26d8": {
      "model_module": "@jupyter-widgets/base",
      "model_module_version": "1.2.0",
      "model_name": "LayoutModel",
      "state": {}
     },
     "ed710448fba3441aaf942e3231b2dff7": {
      "model_module": "@jupyter-widgets/controls",
      "model_module_version": "1.5.0",
      "model_name": "DescriptionStyleModel",
      "state": {
       "description_width": ""
      }
     },
     "ed9516ee6e464990bb3275f2ce09141d": {
      "model_module": "@jupyter-widgets/controls",
      "model_module_version": "1.5.0",
      "model_name": "DescriptionStyleModel",
      "state": {
       "description_width": ""
      }
     },
     "edebf17924bb478090d0a58bbbf0c9ab": {
      "model_module": "@jupyter-widgets/controls",
      "model_module_version": "1.5.0",
      "model_name": "FloatProgressModel",
      "state": {
       "layout": "IPY_MODEL_a4a6e680984b4ff4935ef8094ab2264b",
       "max": 50,
       "style": "IPY_MODEL_7a20fea46f52445ab66b1bdbeba0fcd3",
       "value": 50
      }
     },
     "ee9696c963554a69a5eb64ec8e1b9362": {
      "model_module": "@jupyter-widgets/controls",
      "model_module_version": "1.5.0",
      "model_name": "HTMLModel",
      "state": {
       "layout": "IPY_MODEL_8ef0164bf9d148c2ac4319df1dceb4d2",
       "style": "IPY_MODEL_4bd342d38d914f6188609cb2c5c472fa",
       "value": " 840/840 [04:52&lt;00:00,  1.50s/it]"
      }
     },
     "eeb00743e37446bc9e87099d21286d28": {
      "model_module": "@jupyter-widgets/base",
      "model_module_version": "1.2.0",
      "model_name": "LayoutModel",
      "state": {}
     },
     "eecf3ec2ec74498d8d6fb8d26abf18a0": {
      "model_module": "@jupyter-widgets/base",
      "model_module_version": "1.2.0",
      "model_name": "LayoutModel",
      "state": {}
     },
     "eecfdf2c7bb0465a9f4dd1017eeef277": {
      "model_module": "@jupyter-widgets/controls",
      "model_module_version": "1.5.0",
      "model_name": "ProgressStyleModel",
      "state": {
       "description_width": ""
      }
     },
     "eee43312d45d421d9987ad76417ac870": {
      "model_module": "@jupyter-widgets/base",
      "model_module_version": "1.2.0",
      "model_name": "LayoutModel",
      "state": {}
     },
     "ef0bdf5582ee457da354892f67c94384": {
      "model_module": "@jupyter-widgets/base",
      "model_module_version": "1.2.0",
      "model_name": "LayoutModel",
      "state": {}
     },
     "ef5d262f684445a08d3fe5d55043d3cd": {
      "model_module": "@jupyter-widgets/controls",
      "model_module_version": "1.5.0",
      "model_name": "DescriptionStyleModel",
      "state": {
       "description_width": ""
      }
     },
     "f02da1a4b60f470ebae8001d370ddc12": {
      "model_module": "@jupyter-widgets/controls",
      "model_module_version": "1.5.0",
      "model_name": "FloatProgressModel",
      "state": {
       "layout": "IPY_MODEL_66f6b629ea1049b89f9202b7f9d946fc",
       "max": 50,
       "style": "IPY_MODEL_2282ec49121849019a34dfe91c98393e",
       "value": 50
      }
     },
     "f040f00dad42430e8133bf9d64a92bbc": {
      "model_module": "@jupyter-widgets/controls",
      "model_module_version": "1.5.0",
      "model_name": "HTMLModel",
      "state": {
       "layout": "IPY_MODEL_70992ea887c54884beb5fbb6de078e4a",
       "style": "IPY_MODEL_f857b43cfb9142149fb5d692cd424daa",
       "value": "  0%"
      }
     },
     "f09ba7f52ec943c5b98ff32d5cffa9e5": {
      "model_module": "@jupyter-widgets/controls",
      "model_module_version": "1.5.0",
      "model_name": "FloatProgressModel",
      "state": {
       "layout": "IPY_MODEL_f21e11974be6426aad70045ff97c8f42",
       "max": 4000,
       "style": "IPY_MODEL_885776c4a4cb48aa9a585ee509a4340a",
       "value": 4000
      }
     },
     "f0c9f7c7d8884e67b15e52791e7985b7": {
      "model_module": "@jupyter-widgets/controls",
      "model_module_version": "1.5.0",
      "model_name": "ProgressStyleModel",
      "state": {
       "description_width": ""
      }
     },
     "f0df3665bd0a48abb9eca408cfcaf12b": {
      "model_module": "@jupyter-widgets/controls",
      "model_module_version": "1.5.0",
      "model_name": "ProgressStyleModel",
      "state": {
       "description_width": ""
      }
     },
     "f1191139c3a240798b2454c4d58416c2": {
      "model_module": "@jupyter-widgets/base",
      "model_module_version": "1.2.0",
      "model_name": "LayoutModel",
      "state": {}
     },
     "f127689d129e461d94826e8eee639b08": {
      "model_module": "@jupyter-widgets/controls",
      "model_module_version": "1.5.0",
      "model_name": "ProgressStyleModel",
      "state": {
       "description_width": ""
      }
     },
     "f14d78a9c1ee4cc286b71800fe930202": {
      "model_module": "@jupyter-widgets/base",
      "model_module_version": "1.2.0",
      "model_name": "LayoutModel",
      "state": {}
     },
     "f168d20daeaa48a680dea33b647e1fc1": {
      "model_module": "@jupyter-widgets/controls",
      "model_module_version": "1.5.0",
      "model_name": "DescriptionStyleModel",
      "state": {
       "description_width": ""
      }
     },
     "f1bb610cd1544ab9ae89c2dd61da80a0": {
      "model_module": "@jupyter-widgets/controls",
      "model_module_version": "1.5.0",
      "model_name": "FloatProgressModel",
      "state": {
       "layout": "IPY_MODEL_363c6dd919064ccc966de6eef50330a7",
       "max": 50,
       "style": "IPY_MODEL_31c45234e5d94ac4ae66b874c9bc53e0",
       "value": 50
      }
     },
     "f21e11974be6426aad70045ff97c8f42": {
      "model_module": "@jupyter-widgets/base",
      "model_module_version": "1.2.0",
      "model_name": "LayoutModel",
      "state": {}
     },
     "f2271e8527e9421a8edf58c42bbe2120": {
      "model_module": "@jupyter-widgets/controls",
      "model_module_version": "1.5.0",
      "model_name": "DescriptionStyleModel",
      "state": {
       "description_width": ""
      }
     },
     "f27c1a9b4df34db1a0e6a45b3ab7e49e": {
      "model_module": "@jupyter-widgets/base",
      "model_module_version": "1.2.0",
      "model_name": "LayoutModel",
      "state": {}
     },
     "f28953fb47794e0d9c5648ed048aa9d2": {
      "model_module": "@jupyter-widgets/base",
      "model_module_version": "1.2.0",
      "model_name": "LayoutModel",
      "state": {}
     },
     "f2d6421a435c4ef28ac76df641685a4e": {
      "model_module": "@jupyter-widgets/base",
      "model_module_version": "1.2.0",
      "model_name": "LayoutModel",
      "state": {}
     },
     "f31cdc49d0224caab1a4ba98c64a4521": {
      "model_module": "@jupyter-widgets/controls",
      "model_module_version": "1.5.0",
      "model_name": "FloatProgressModel",
      "state": {
       "layout": "IPY_MODEL_563386d04bfe45e4a4060325afab6ed5",
       "max": 50,
       "style": "IPY_MODEL_a67221f91db548179715590bcb773764",
       "value": 50
      }
     },
     "f3424daeca2f4affa9ffd342fd00bba1": {
      "model_module": "@jupyter-widgets/controls",
      "model_module_version": "1.5.0",
      "model_name": "HTMLModel",
      "state": {
       "layout": "IPY_MODEL_249ddb006eb742a490db54f8bd1268df",
       "style": "IPY_MODEL_7f2ba17ff0d54f85b56f6060332f4745",
       "value": "  0%"
      }
     },
     "f3c024331c834ba6bbea439b175436a6": {
      "model_module": "@jupyter-widgets/controls",
      "model_module_version": "1.5.0",
      "model_name": "HTMLModel",
      "state": {
       "layout": "IPY_MODEL_2fb822ab8f38453984e9acf5d291f989",
       "style": "IPY_MODEL_b16b013f057648cc9704f28c9cee317c",
       "value": " 98%"
      }
     },
     "f3d83cbf831a45ebb665c229dff084d3": {
      "model_module": "@jupyter-widgets/base",
      "model_module_version": "1.2.0",
      "model_name": "LayoutModel",
      "state": {}
     },
     "f3d8bf5a5876438aabab969cb506d016": {
      "model_module": "@jupyter-widgets/controls",
      "model_module_version": "1.5.0",
      "model_name": "HTMLModel",
      "state": {
       "layout": "IPY_MODEL_301ded2c9e6747c48c4b4bb381239076",
       "style": "IPY_MODEL_dc30333b5cb64ed8a5f42cb24e09902c",
       "value": "100%"
      }
     },
     "f3e5fed4a9304c1b9c807ce26103aba4": {
      "model_module": "@jupyter-widgets/controls",
      "model_module_version": "1.5.0",
      "model_name": "HBoxModel",
      "state": {
       "children": [
        "IPY_MODEL_022a8d9dba794c2493a1e4f1b96518a8",
        "IPY_MODEL_6c6720f1b1e141ad81d4caf911d639f1",
        "IPY_MODEL_ba89c1b3c1f446cfadb306dc7a7023c0"
       ],
       "layout": "IPY_MODEL_a0f5c5601f1d4090a7445fc0e8ffe525"
      }
     },
     "f48c24fa2cd44c69a12d807551ae745d": {
      "model_module": "@jupyter-widgets/base",
      "model_module_version": "1.2.0",
      "model_name": "LayoutModel",
      "state": {}
     },
     "f4a11c82447141e7b6af74b0905cc89f": {
      "model_module": "@jupyter-widgets/controls",
      "model_module_version": "1.5.0",
      "model_name": "FloatProgressModel",
      "state": {
       "layout": "IPY_MODEL_9f421066caf042e89f3217285d3b25e8",
       "max": 4000,
       "style": "IPY_MODEL_8b74217c0fe3451a91d8d820d3b85a42",
       "value": 4000
      }
     },
     "f504ec77364648979d6a8873ff62a015": {
      "model_module": "@jupyter-widgets/controls",
      "model_module_version": "1.5.0",
      "model_name": "ProgressStyleModel",
      "state": {
       "description_width": ""
      }
     },
     "f5aeb8ea043b43388f7be2a158a1828a": {
      "model_module": "@jupyter-widgets/controls",
      "model_module_version": "1.5.0",
      "model_name": "HTMLModel",
      "state": {
       "layout": "IPY_MODEL_3aa0ad362b554c819d32a5e60a98f5ff",
       "style": "IPY_MODEL_b283f5560c05434898656e801ba33614",
       "value": " 98%"
      }
     },
     "f5ff805498e540f5b83b6e824bfbd673": {
      "model_module": "@jupyter-widgets/base",
      "model_module_version": "1.2.0",
      "model_name": "LayoutModel",
      "state": {}
     },
     "f6392fa82ad9462c9c62f2e21fadb78b": {
      "model_module": "@jupyter-widgets/base",
      "model_module_version": "1.2.0",
      "model_name": "LayoutModel",
      "state": {}
     },
     "f67d556741ee4dfba5623484977c003d": {
      "model_module": "@jupyter-widgets/controls",
      "model_module_version": "1.5.0",
      "model_name": "DescriptionStyleModel",
      "state": {
       "description_width": ""
      }
     },
     "f6c8d3459ffe4d56bd834fdbb151e9f8": {
      "model_module": "@jupyter-widgets/controls",
      "model_module_version": "1.5.0",
      "model_name": "FloatProgressModel",
      "state": {
       "layout": "IPY_MODEL_e5892fe1615245d79436f55bfc5246ff",
       "max": 4000,
       "style": "IPY_MODEL_f127689d129e461d94826e8eee639b08",
       "value": 4000
      }
     },
     "f6e2db8c3bc24d5999ff4a48257fcd4d": {
      "model_module": "@jupyter-widgets/controls",
      "model_module_version": "1.5.0",
      "model_name": "DescriptionStyleModel",
      "state": {
       "description_width": ""
      }
     },
     "f832a8e6b7ea42e9be06d30715a02370": {
      "model_module": "@jupyter-widgets/controls",
      "model_module_version": "1.5.0",
      "model_name": "DescriptionStyleModel",
      "state": {
       "description_width": ""
      }
     },
     "f857b43cfb9142149fb5d692cd424daa": {
      "model_module": "@jupyter-widgets/controls",
      "model_module_version": "1.5.0",
      "model_name": "DescriptionStyleModel",
      "state": {
       "description_width": ""
      }
     },
     "f8f06fe1201d4ec8bb1eca9158f0c9e7": {
      "model_module": "@jupyter-widgets/controls",
      "model_module_version": "1.5.0",
      "model_name": "ProgressStyleModel",
      "state": {
       "description_width": ""
      }
     },
     "f98a673c82894bb0925fa7e569857dd8": {
      "model_module": "@jupyter-widgets/controls",
      "model_module_version": "1.5.0",
      "model_name": "DescriptionStyleModel",
      "state": {
       "description_width": ""
      }
     },
     "f9f2b497f95c4d98b39489cd9737bc81": {
      "model_module": "@jupyter-widgets/controls",
      "model_module_version": "1.5.0",
      "model_name": "DescriptionStyleModel",
      "state": {
       "description_width": ""
      }
     },
     "f9fe2ccf640b4c17b39481dfc36907ca": {
      "model_module": "@jupyter-widgets/base",
      "model_module_version": "1.2.0",
      "model_name": "LayoutModel",
      "state": {}
     },
     "fa77a30f05314e64912d64e91be4108a": {
      "model_module": "@jupyter-widgets/base",
      "model_module_version": "1.2.0",
      "model_name": "LayoutModel",
      "state": {}
     },
     "faa12a82776d48ea8dd4f54d5cc794d8": {
      "model_module": "@jupyter-widgets/controls",
      "model_module_version": "1.5.0",
      "model_name": "HTMLModel",
      "state": {
       "layout": "IPY_MODEL_783c4334273443fab1c637a1c4cf93fc",
       "style": "IPY_MODEL_b49a174578ae47918e8ab89bf74b94f9",
       "value": " 40/40 [00:02&lt;00:00, 17.66it/s]"
      }
     },
     "faae59b917924c94b7b69ae84dcfd7b1": {
      "model_module": "@jupyter-widgets/base",
      "model_module_version": "1.2.0",
      "model_name": "LayoutModel",
      "state": {}
     },
     "fab0d17d38f74fc6bff8afa2a00fb8dc": {
      "model_module": "@jupyter-widgets/base",
      "model_module_version": "1.2.0",
      "model_name": "LayoutModel",
      "state": {}
     },
     "fae0ded236f04788b62fa1040d8518ce": {
      "model_module": "@jupyter-widgets/controls",
      "model_module_version": "1.5.0",
      "model_name": "FloatProgressModel",
      "state": {
       "bar_style": "success",
       "layout": "IPY_MODEL_fb944f6d76714c4980067ba5348c0310",
       "max": 40,
       "style": "IPY_MODEL_be67bd9a713c45729f591a565d7528ab",
       "value": 40
      }
     },
     "fb7dd0507ad242209be94aaa78d602ed": {
      "model_module": "@jupyter-widgets/base",
      "model_module_version": "1.2.0",
      "model_name": "LayoutModel",
      "state": {}
     },
     "fb944f6d76714c4980067ba5348c0310": {
      "model_module": "@jupyter-widgets/base",
      "model_module_version": "1.2.0",
      "model_name": "LayoutModel",
      "state": {}
     },
     "fbec494e65434ff5a94936351b5d98af": {
      "model_module": "@jupyter-widgets/controls",
      "model_module_version": "1.5.0",
      "model_name": "HTMLModel",
      "state": {
       "layout": "IPY_MODEL_b9f82bc093f244eca2ff04aba863bb69",
       "style": "IPY_MODEL_103ad31e13d24246abae56f0342079f3",
       "value": " 0/10 [00:00&lt;?, ?it/s]"
      }
     },
     "fc11e4898f4b42469fd07a4f23ef5546": {
      "model_module": "@jupyter-widgets/base",
      "model_module_version": "1.2.0",
      "model_name": "LayoutModel",
      "state": {}
     },
     "fc4748d51ae2435db0cb39c8bfebb660": {
      "model_module": "@jupyter-widgets/controls",
      "model_module_version": "1.5.0",
      "model_name": "HTMLModel",
      "state": {
       "layout": "IPY_MODEL_29d686e56667423a98c6f03b227e9311",
       "style": "IPY_MODEL_346ec833cd5445d3971e77c1f8d51484",
       "value": " 4000/4000 [05:19&lt;00:00, 17.34it/s]"
      }
     },
     "fc96267139114088ba38296f71ade956": {
      "model_module": "@jupyter-widgets/base",
      "model_module_version": "1.2.0",
      "model_name": "LayoutModel",
      "state": {}
     },
     "fce4ed4df63d45438af6a2bc9ffac149": {
      "model_module": "@jupyter-widgets/controls",
      "model_module_version": "1.5.0",
      "model_name": "HTMLModel",
      "state": {
       "layout": "IPY_MODEL_7a4f291c6b6248abb613dfff465cbdaf",
       "style": "IPY_MODEL_e7dcd99aa16846a9b1611082ea3f9b05",
       "value": "  0%"
      }
     },
     "fd0f0f361b0a40ea9698aa9cc8877826": {
      "model_module": "@jupyter-widgets/controls",
      "model_module_version": "1.5.0",
      "model_name": "HTMLModel",
      "state": {
       "layout": "IPY_MODEL_4b5c998d45574fcf9912ccc3e166f1db",
       "style": "IPY_MODEL_0067034262ec42f0aaea50cbe2424aef",
       "value": "100%"
      }
     },
     "fd510a29706846d9bf79fcaf5502c20e": {
      "model_module": "@jupyter-widgets/base",
      "model_module_version": "1.2.0",
      "model_name": "LayoutModel",
      "state": {}
     },
     "fd5bb321058c4b4da72c10bcbf79657e": {
      "model_module": "@jupyter-widgets/controls",
      "model_module_version": "1.5.0",
      "model_name": "DescriptionStyleModel",
      "state": {
       "description_width": ""
      }
     },
     "fe5972f1457749dfb18fbec6e745fef5": {
      "model_module": "@jupyter-widgets/base",
      "model_module_version": "1.2.0",
      "model_name": "LayoutModel",
      "state": {}
     },
     "ffd068d35d964c929d89719afed8aa5f": {
      "model_module": "@jupyter-widgets/base",
      "model_module_version": "1.2.0",
      "model_name": "LayoutModel",
      "state": {}
     }
    },
    "version_major": 2,
    "version_minor": 0
   }
  }
 },
 "nbformat": 4,
 "nbformat_minor": 5
}
