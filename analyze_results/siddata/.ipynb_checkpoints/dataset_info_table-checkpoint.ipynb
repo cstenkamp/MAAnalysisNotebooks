{
 "cells": [
  {
   "cell_type": "code",
   "execution_count": 3,
   "id": "49c4bcd7-3c78-4eee-87f7-e43f8decd338",
   "metadata": {},
   "outputs": [],
   "source": [
    "import matplotlib.pyplot as plt\n",
    "\n",
    "from derive_conceptualspace.pipeline import SnakeContext, load_envfiles\n",
    "from misc_util.logutils import setup_logging\n",
    "from misc_util.pretty_print import display\n",
    "from derive_conceptualspace.util.result_analysis_tools import getfiles_allconfigs\n",
    "from derive_conceptualspace.util.desc_object import DescriptionList\n",
    "from derive_conceptualspace.pipeline import cluster_loader\n",
    "\n",
    "plt.rcParams['figure.figsize'] = [16, 10]"
   ]
  },
  {
   "cell_type": "code",
   "execution_count": 2,
   "id": "1ab17603-c0cc-4900-b94c-3e9efeb6f5ee",
   "metadata": {},
   "outputs": [
    {
     "data": {
      "text/markdown": [
       "<span style=\"font-size:11pt\">There are 165 different parameter-combis for dataset <span style=\"color: #0000ff\">siddata2022</span>:</span>"
      ],
      "text/plain": [
       "<IPython.core.display.Markdown object>"
      ]
     },
     "metadata": {},
     "output_type": "display_data"
    },
    {
     "data": {
      "text/plain": [
       "{'dataset': 'siddata2022',\n",
       " 'language': 'de',\n",
       " 'debug': 'False',\n",
       " 'pp_components': ['mfauhcsd2', 'mfauhtcsldp'],\n",
       " 'translate_policy': 'onlyorig',\n",
       " 'min_words_per_desc': '80',\n",
       " 'quantification_measure': ['ppmi', 'tfidf'],\n",
       " 'embed_algo': 'mds',\n",
       " 'embed_dimensions': ['3', '50', '200'],\n",
       " 'extraction_method': 'tfidf',\n",
       " 'dcm_quant_measure': ['count', 'ppmi', 'tfidf'],\n",
       " 'kappa_weights': 'quadratic',\n",
       " 'classifier_succmetric': ['kappa_count2rank_onlypos',\n",
       "  'kappa_digitized_onlypos_2',\n",
       "  'kappa_rank2rank_onlypos_min'],\n",
       " 'prim_lambda': '0.5',\n",
       " 'sec_lambda': ['0.1', '0.2'],\n",
       " 'cluster_direction_algo': 'reclassify'}"
      ]
     },
     "metadata": {},
     "output_type": "display_data"
    }
   ],
   "source": [
    "setup_logging()\n",
    "load_envfiles(\"siddata\")\n",
    "configs, print_cnf = getfiles_allconfigs(\"clusters\", verbose=True)"
   ]
  },
  {
   "cell_type": "markdown",
   "id": "f6257cf6-38ca-41e4-94a9-54b6ce413ad7",
   "metadata": {},
   "source": [
    "# Getting stuff for dataset info table"
   ]
  },
  {
   "cell_type": "code",
   "execution_count": 9,
   "id": "c57f11ef-9e3f-4144-adbf-613d02dd3888",
   "metadata": {},
   "outputs": [
    {
     "name": "stdout",
     "output_type": "stream",
     "text": [
      "Best conf: {'pp_components': 'mfauhcsd2', 'quantification_measure': 'tfidf', 'embed_dimensions': '200', 'dcm_quant_measure': 'count', 'classifier_succmetric': 'kappa_digitized_onlypos_2', 'sec_lambda': '0.2'}\n"
     ]
    },
    {
     "data": {
      "text/markdown": [
       "<span style=\"font-size:11pt\">conf_file demanded config QUANTIFICATION_MEASURE to be <span style=\"color: #ff0000\">ppmi</span>, but force overwrites it to <span style=\"color: #0000ff\">tfidf</span></span>"
      ],
      "text/plain": [
       "<IPython.core.display.Markdown object>"
      ]
     },
     "metadata": {},
     "output_type": "display_data"
    },
    {
     "data": {
      "text/markdown": [
       "<span style=\"font-size:11pt\">conf_file demanded config EMBED_DIMENSIONS to be <span style=\"color: #ff0000\">50</span>, but force overwrites it to <span style=\"color: #0000ff\">200</span></span>"
      ],
      "text/plain": [
       "<IPython.core.display.Markdown object>"
      ]
     },
     "metadata": {},
     "output_type": "display_data"
    },
    {
     "data": {
      "text/markdown": [
       "<span style=\"font-size:11pt\">conf_file demanded config CLASSIFIER_SUCCMETRIC to be <span style=\"color: #ff0000\">kappa_rank2rank_onlypos_min</span>, but force overwrites it to <span style=\"color: #0000ff\">kappa_digitized_onlypos_2</span></span>"
      ],
      "text/plain": [
       "<IPython.core.display.Markdown object>"
      ]
     },
     "metadata": {},
     "output_type": "display_data"
    },
    {
     "data": {
      "text/markdown": [
       "<span style=\"font-size:11pt\">conf_file demanded config SEC_LAMBDA to be <span style=\"color: #ff0000\">0.1</span>, but force overwrites it to <span style=\"color: #0000ff\">0.2</span></span>"
      ],
      "text/plain": [
       "<IPython.core.display.Markdown object>"
      ]
     },
     "metadata": {},
     "output_type": "display_data"
    },
    {
     "data": {
      "text/markdown": [
       "<span style=\"font-size:11pt\">Config-File /home/chris/Documents/UNI_neu/Masterarbeit/Derive_Conceptualspace/config/derrac2015_edited.yml loaded.</span>"
      ],
      "text/plain": [
       "<IPython.core.display.Markdown object>"
      ]
     },
     "metadata": {},
     "output_type": "display_data"
    },
    {
     "data": {
      "text/markdown": [
       "<span style=\"font-size:11pt\">Running with the following settings [<span style=\"color: #ff00ff\">4a341d441d</span>]: CLASSIFIER: <span style=\"color: #0000ff\">SVM</span>, CLASSIFIER_SUCCMETRIC: <span style=\"color: #ff0000\">kappa_digitized_onlypos_2</span>, DATASET: <span style=\"color: #ff0000\">siddata2022</span>, DCM_QUANT_MEASURE: <span style=\"color: #0000ff\">count</span>, DEBUG: <span style=\"color: #0000ff\">False</span>, EMBED_ALGO: <span style=\"color: #0000ff\">mds</span>, EMBED_DIMENSIONS: <span style=\"color: #ff0000\">200</span>, EXTRACTION_METHOD: <span style=\"color: #ff0000\">tfidf</span>, KAPPA_WEIGHTS: <span style=\"color: #0000ff\">quadratic</span>, LANGUAGE: <span style=\"color: #0000ff\">de</span>, MIN_WORDS_PER_DESC: <span style=\"color: #ff0000\">80</span>, PP_COMPONENTS: <span style=\"color: #ff0000\">mfauhcsd2</span>, PRIM_LAMBDA: <span style=\"color: #0000ff\">0.5</span>, QUANTIFICATION_MEASURE: <span style=\"color: #ff0000\">tfidf</span>, RANDOM_SEED: <span style=\"color: #ff0000\">None</span>, SEC_LAMBDA: <span style=\"color: #ff0000\">0.2</span>, TRANSLATE_POLICY: <span style=\"color: #0000ff\">onlyorig</span></span>"
      ],
      "text/plain": [
       "<IPython.core.display.Markdown object>"
      ]
     },
     "metadata": {},
     "output_type": "display_data"
    }
   ],
   "source": [
    "best_conf = {'pp_components': 'mfauhcsd2', 'quantification_measure': 'tfidf', 'embed_dimensions': '200', 'dcm_quant_measure': 'count', 'classifier_succmetric': 'kappa_digitized_onlypos_2', 'sec_lambda': '0.2'}\n",
    "print(\"Best conf:\", best_conf)\n",
    "ctx = SnakeContext.loader_context(config={**best_conf, \"debug\": False}, silent=False)\n",
    "descriptions, filtered_dcm, embedding, featureaxes, clusters = ctx.load(\"pp_descriptions\", \"filtered_dcm\", \"embedding\", \"featureaxes\", \"clusters\",\n",
    "                        loaders=dict(pp_descriptions=DescriptionList.from_json, clusters=cluster_loader, embedding=lambda **args: args[\"embedding\"].embedding_))"
   ]
  },
  {
   "cell_type": "code",
   "execution_count": 19,
   "id": "0d78a96f-e6a4-4f04-859d-5e4f64dc378f",
   "metadata": {},
   "outputs": [
    {
     "name": "stdout",
     "output_type": "stream",
     "text": [
      "Kappa >= 0.1: 5016\n",
      "Kappa >= 0.5: 1008\n"
     ]
    },
    {
     "data": {
      "text/plain": [
       "(2.0, 16.0)"
      ]
     },
     "execution_count": 19,
     "metadata": {},
     "output_type": "execute_result"
    }
   ],
   "source": [
    "from collections import Counter\n",
    "import numpy as np\n",
    "print(\"Kappa >= 0.1:\", len({k: v for k,v in featureaxes[\"metrics\"].items() if v[\"kappa_digitized_onlypos_2\"] > 0.1}))\n",
    "print(\"Kappa >= 0.5:\", len({k: v for k,v in featureaxes[\"metrics\"].items() if v[\"kappa_digitized_onlypos_2\"] > 0.5}))\n",
    "np.percentile((clslen := np.array([len(v) for k, v in clusters[\"clusters\"].items()])), 10), np.percentile(clslen,90)"
   ]
  },
  {
   "cell_type": "code",
   "execution_count": 20,
   "id": "86bb3f4a-098c-47fa-b785-dbc40ff7ba99",
   "metadata": {},
   "outputs": [
    {
     "name": "stdout",
     "output_type": "stream",
     "text": [
      "Best conf: {'pp_components': 'mfauhcsd2', 'quantification_measure': 'tfidf', 'embed_dimensions': '50', 'dcm_quant_measure': 'count', 'classifier_succmetric': 'kappa_digitized_onlypos_2', 'sec_lambda': '0.2'}\n"
     ]
    },
    {
     "data": {
      "text/markdown": [
       "<span style=\"font-size:11pt\">conf_file demanded config QUANTIFICATION_MEASURE to be <span style=\"color: #ff0000\">ppmi</span>, but force overwrites it to <span style=\"color: #0000ff\">tfidf</span></span>"
      ],
      "text/plain": [
       "<IPython.core.display.Markdown object>"
      ]
     },
     "metadata": {},
     "output_type": "display_data"
    },
    {
     "data": {
      "text/markdown": [
       "<span style=\"font-size:11pt\">conf_file demanded config CLASSIFIER_SUCCMETRIC to be <span style=\"color: #ff0000\">kappa_rank2rank_onlypos_min</span>, but force overwrites it to <span style=\"color: #0000ff\">kappa_digitized_onlypos_2</span></span>"
      ],
      "text/plain": [
       "<IPython.core.display.Markdown object>"
      ]
     },
     "metadata": {},
     "output_type": "display_data"
    },
    {
     "data": {
      "text/markdown": [
       "<span style=\"font-size:11pt\">conf_file demanded config SEC_LAMBDA to be <span style=\"color: #ff0000\">0.1</span>, but force overwrites it to <span style=\"color: #0000ff\">0.2</span></span>"
      ],
      "text/plain": [
       "<IPython.core.display.Markdown object>"
      ]
     },
     "metadata": {},
     "output_type": "display_data"
    },
    {
     "data": {
      "text/markdown": [
       "<span style=\"font-size:11pt\">Config-File /home/chris/Documents/UNI_neu/Masterarbeit/Derive_Conceptualspace/config/derrac2015_edited.yml loaded.</span>"
      ],
      "text/plain": [
       "<IPython.core.display.Markdown object>"
      ]
     },
     "metadata": {},
     "output_type": "display_data"
    },
    {
     "data": {
      "text/markdown": [
       "<span style=\"font-size:11pt\">Running with the following settings [<span style=\"color: #ffff00\">46d3d793e1</span>]: CLASSIFIER: <span style=\"color: #0000ff\">SVM</span>, CLASSIFIER_SUCCMETRIC: <span style=\"color: #ff0000\">kappa_digitized_onlypos_2</span>, DATASET: <span style=\"color: #ff0000\">siddata2022</span>, DCM_QUANT_MEASURE: <span style=\"color: #0000ff\">count</span>, DEBUG: <span style=\"color: #0000ff\">False</span>, EMBED_ALGO: <span style=\"color: #0000ff\">mds</span>, EMBED_DIMENSIONS: <span style=\"color: #ff0000\">50</span>, EXTRACTION_METHOD: <span style=\"color: #ff0000\">tfidf</span>, KAPPA_WEIGHTS: <span style=\"color: #0000ff\">quadratic</span>, LANGUAGE: <span style=\"color: #0000ff\">de</span>, MIN_WORDS_PER_DESC: <span style=\"color: #ff0000\">80</span>, PP_COMPONENTS: <span style=\"color: #ff0000\">mfauhcsd2</span>, PRIM_LAMBDA: <span style=\"color: #0000ff\">0.5</span>, QUANTIFICATION_MEASURE: <span style=\"color: #ff0000\">tfidf</span>, RANDOM_SEED: <span style=\"color: #ff0000\">None</span>, SEC_LAMBDA: <span style=\"color: #ff0000\">0.2</span>, TRANSLATE_POLICY: <span style=\"color: #0000ff\">onlyorig</span></span>"
      ],
      "text/plain": [
       "<IPython.core.display.Markdown object>"
      ]
     },
     "metadata": {},
     "output_type": "display_data"
    }
   ],
   "source": [
    "best_conf = {'pp_components': 'mfauhcsd2', 'quantification_measure': 'tfidf', 'embed_dimensions': '50', 'dcm_quant_measure': 'count', 'classifier_succmetric': 'kappa_digitized_onlypos_2', 'sec_lambda': '0.2'}\n",
    "print(\"Best conf:\", best_conf)\n",
    "ctx = SnakeContext.loader_context(config={**best_conf, \"debug\": False}, silent=False)\n",
    "descriptions, filtered_dcm, embedding, featureaxes, clusters = ctx.load(\"pp_descriptions\", \"filtered_dcm\", \"embedding\", \"featureaxes\", \"clusters\",\n",
    "                        loaders=dict(pp_descriptions=DescriptionList.from_json, clusters=cluster_loader, embedding=lambda **args: args[\"embedding\"].embedding_))"
   ]
  },
  {
   "cell_type": "code",
   "execution_count": 21,
   "id": "a317930e-b517-4964-981c-d1849d9cf55b",
   "metadata": {},
   "outputs": [
    {
     "name": "stdout",
     "output_type": "stream",
     "text": [
      "Kappa >= 0.1: 3010\n",
      "Kappa >= 0.5: 334\n"
     ]
    },
    {
     "data": {
      "text/plain": [
       "(6.9, 30.0)"
      ]
     },
     "execution_count": 21,
     "metadata": {},
     "output_type": "execute_result"
    }
   ],
   "source": [
    "from collections import Counter\n",
    "import numpy as np\n",
    "print(\"Kappa >= 0.1:\", len({k: v for k,v in featureaxes[\"metrics\"].items() if v[\"kappa_digitized_onlypos_2\"] > 0.1}))\n",
    "print(\"Kappa >= 0.5:\", len({k: v for k,v in featureaxes[\"metrics\"].items() if v[\"kappa_digitized_onlypos_2\"] > 0.5}))\n",
    "np.percentile((clslen := np.array([len(v) for k, v in clusters[\"clusters\"].items()])), 10), np.percentile(clslen,90)"
   ]
  },
  {
   "cell_type": "code",
   "execution_count": null,
   "id": "9f7c9141-e014-4bd4-b4a1-a47615778ed4",
   "metadata": {},
   "outputs": [],
   "source": [
    "NUM_KEYS = 50\n",
    "NUM_VALS = 7\n",
    "maxlen = max(len(i) for i in list(clusters[\"clusters\"].keys())[:NUM_KEYS])\n",
    "\n",
    "print(\"\\n\".join([f\"{k.rjust(maxlen)}: {(', '.join(v[:NUM_VALS]))+(', ...' if len(v) > NUM_VALS else '')}\" for k, v in list(clusters[\"clusters\"].items())[:NUM_KEYS]]))"
   ]
  },
  {
   "cell_type": "markdown",
   "id": "af097c24-d481-4ab7-a49b-3d3e9c52802b",
   "metadata": {},
   "source": [
    "# And an overall"
   ]
  },
  {
   "cell_type": "code",
   "execution_count": 52,
   "id": "12bb1887-5798-4ba6-9a54-c1e538bc3b41",
   "metadata": {},
   "outputs": [
    {
     "name": "stdout",
     "output_type": "stream",
     "text": [
      "{'3': {1: 11, 2: 4, 6: 40}, '50': {1: 2, 100: 38, 39: 2, 14: 2, 98: 2, 3: 4, 2: 2, 25: 2, 47: 2}, '100': {}, '200': {1: 4, 364: 2, 50: 2, 26: 2, 179: 4, 171: 2, 169: 2, 4: 2, 400: 15, 239: 1, 121: 2, 313: 2, 46: 2, 74: 2, 264: 2, 236: 2, 3: 2, 245: 2, 157: 2}}\n"
     ]
    }
   ],
   "source": [
    "flatten = lambda l: [item for sublist in l for item in sublist] \n",
    "greats, goods = set(), set()\n",
    "greatsperdim, goodsperdim = {}, {}\n",
    "for ndims in [\"3\", \"50\", \"100\", \"200\"]:\n",
    "    greatsperdim[ndims], goodsperdim[ndims] = list(), list()\n",
    "    for conf in [i for i in configs if i[\"embed_dimensions\"] == int(ndims)]:\n",
    "        ctx = SnakeContext.loader_context(config={**conf, \"debug\": False}, silent=True)\n",
    "        clusters = ctx.load(\"clusters\", loaders=dict(clusters=cluster_loader))\n",
    "        greatsperdim[ndims].append(set(clusters[\"clusters\"].keys()))\n",
    "        goodsperdim[ndims].append(set(flatten(clusters[\"clusters\"].values())))\n",
    "    \n",
    "# print(\"n-greats:\", len(greats))\n",
    "# print(\"n-goods:\", len(goods))\n",
    "\n",
    "print({k: dict(Counter([len(i) for i in v])) for k, v in greatsperdim.items()})\n",
    "consider_num = {k: [n for n,i in enumerate(v) if len(i) == int(k)*2][:1] for k, v in greatsperdim.items()}"
   ]
  },
  {
   "cell_type": "code",
   "execution_count": 80,
   "id": "3ab17fb2-535e-4d8d-bb29-84bd2edb0906",
   "metadata": {},
   "outputs": [
    {
     "name": "stdout",
     "output_type": "stream",
     "text": [
      "In Kappa_0.5: 481/706\n",
      "In Kappa_0.1: 5937\n"
     ]
    }
   ],
   "source": [
    "greats = set(flatten([greatsperdim[k][v[0]] for k, v in consider_num.items() if len(v)]))\n",
    "print(f\"In Kappa_0.5: {len(greats)}/{sum([int(i)*2 for i in consider_num.keys()])}\")\n",
    "goods = set(flatten([goodsperdim[k][v[0]] for k, v in consider_num.items() if len(v)]))\n",
    "print(f\"In Kappa_0.1: {len(goods)}\")"
   ]
  }
 ],
 "metadata": {
  "kernelspec": {
   "display_name": "Python 3 (ipykernel)",
   "language": "python",
   "name": "python3"
  },
  "language_info": {
   "codemirror_mode": {
    "name": "ipython",
    "version": 3
   },
   "file_extension": ".py",
   "mimetype": "text/x-python",
   "name": "python",
   "nbconvert_exporter": "python",
   "pygments_lexer": "ipython3",
   "version": "3.10.0"
  },
  "widgets": {
   "application/vnd.jupyter.widget-state+json": {
    "state": {},
    "version_major": 2,
    "version_minor": 0
   }
  }
 },
 "nbformat": 4,
 "nbformat_minor": 5
}
