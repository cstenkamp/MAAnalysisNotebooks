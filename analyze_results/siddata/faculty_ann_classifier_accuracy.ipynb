{
 "cells": [
  {
   "cell_type": "code",
   "execution_count": 13,
   "metadata": {},
   "outputs": [],
   "source": [
    "import os\n",
    "from dotenv.main import load_dotenv\n",
    "load_dotenv(\"../docker/.env\")\n",
    "assert os.getenv(\"MONGO_INITDB_ROOT_USERNAME\") and os.getenv(\"MONGO_INITDB_ROOT_PASSWORD\")"
   ]
  },
  {
   "cell_type": "code",
   "execution_count": 14,
   "metadata": {},
   "outputs": [],
   "source": [
    "from incense import ExperimentLoader\n",
    "import pandas as pd\n",
    "from fb_classifier.settings import MONGO_URI"
   ]
  },
  {
   "cell_type": "code",
   "execution_count": 8,
   "metadata": {},
   "outputs": [
    {
     "data": {
      "text/html": [
       "<div>\n",
       "<style scoped>\n",
       "    .dataframe tbody tr th:only-of-type {\n",
       "        vertical-align: middle;\n",
       "    }\n",
       "\n",
       "    .dataframe tbody tr th {\n",
       "        vertical-align: top;\n",
       "    }\n",
       "\n",
       "    .dataframe thead th {\n",
       "        text-align: right;\n",
       "    }\n",
       "</style>\n",
       "<table border=\"1\" class=\"dataframe\">\n",
       "  <thead>\n",
       "    <tr style=\"text-align: right;\">\n",
       "      <th></th>\n",
       "      <th>epochs</th>\n",
       "      <th>train_loss</th>\n",
       "      <th>train_accuracy</th>\n",
       "      <th>test_loss</th>\n",
       "      <th>test_accuracy</th>\n",
       "    </tr>\n",
       "    <tr>\n",
       "      <th>date</th>\n",
       "      <th></th>\n",
       "      <th></th>\n",
       "      <th></th>\n",
       "      <th></th>\n",
       "      <th></th>\n",
       "    </tr>\n",
       "  </thead>\n",
       "  <tbody>\n",
       "    <tr>\n",
       "      <th>2022-03-25 15:42:29.443</th>\n",
       "      <td>12</td>\n",
       "      <td>1.029218</td>\n",
       "      <td>0.941306</td>\n",
       "      <td>0.766324</td>\n",
       "      <td>0.851904</td>\n",
       "    </tr>\n",
       "  </tbody>\n",
       "</table>\n",
       "</div>"
      ],
      "text/plain": [
       "                         epochs  train_loss  train_accuracy  test_loss  \\\n",
       "date                                                                     \n",
       "2022-03-25 15:42:29.443      12    1.029218        0.941306   0.766324   \n",
       "\n",
       "                         test_accuracy  \n",
       "date                                    \n",
       "2022-03-25 15:42:29.443       0.851904  "
      ]
     },
     "execution_count": 8,
     "metadata": {},
     "output_type": "execute_result"
    }
   ],
   "source": [
    "loader = ExperimentLoader(mongo_uri=MONGO_URI, db_name='Masterarbeit')\n",
    "classifier_runs = [i for i in loader.find_by_name(\"Fachbereich_Classifier\") if i.status == \"COMPLETED\" and i.metrics]\n",
    "classifier_runs = [i for i in classifier_runs if i.to_dict()[\"config\"].get(\"PP_DATASET\") == \"siddata2022\"] #only those for the new dataset\n",
    "classifier_perf = pd.DataFrame([{**{\"date\": run.to_dict()[\"start_time\"], \"epochs\": run.to_dict()[\"config\"][\"ANN_EPOCHS\"]}, **{k: v.max() for k, v in run.metrics.items() if not \"seconds\" in k}} for run in classifier_runs]).set_index(\"date\")\n",
    "classifier_perf"
   ]
  },
  {
   "cell_type": "code",
   "execution_count": 12,
   "metadata": {},
   "outputs": [
    {
     "name": "stdout",
     "output_type": "stream",
     "text": [
      "Best Test-Accuracy for Siddata2022 Dataset: 85.19%\n"
     ]
    }
   ],
   "source": [
    "print(f\"Best Test-Accuracy for Siddata2022 Dataset: {classifier_perf.max()['test_accuracy']:.2%}\")"
   ]
  }
 ],
 "metadata": {
  "celltoolbar": "Tags",
  "kernelspec": {
   "display_name": "Python 3 (ipykernel)",
   "language": "python",
   "name": "python3"
  },
  "language_info": {
   "codemirror_mode": {
    "name": "ipython",
    "version": 3
   },
   "file_extension": ".py",
   "mimetype": "text/x-python",
   "name": "python",
   "nbconvert_exporter": "python",
   "pygments_lexer": "ipython3",
   "version": "3.10.0"
  },
  "widgets": {
   "application/vnd.jupyter.widget-state+json": {
    "state": {},
    "version_major": 2,
    "version_minor": 0
   }
  }
 },
 "nbformat": 4,
 "nbformat_minor": 4
}
