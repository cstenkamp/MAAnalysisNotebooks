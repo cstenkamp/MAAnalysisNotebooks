{
 "cells": [
  {
   "cell_type": "code",
   "execution_count": 1,
   "id": "49c4bcd7-3c78-4eee-87f7-e43f8decd338",
   "metadata": {},
   "outputs": [
    {
     "name": "stderr",
     "output_type": "stream",
     "text": [
      "2022-03-31 10:54:51.859491: W tensorflow/stream_executor/platform/default/dso_loader.cc:64] Could not load dynamic library 'libcudart.so.11.0'; dlerror: libcudart.so.11.0: cannot open shared object file: No such file or directory; LD_LIBRARY_PATH: /home/chris/Documents/JOBS/Uhrig-Gesture-Recog/skelshop_deps/openpose_cpu/build/src/openpose/\n",
      "2022-03-31 10:54:51.859533: I tensorflow/stream_executor/cuda/cudart_stub.cc:29] Ignore above cudart dlerror if you do not have a GPU set up on your machine.\n"
     ]
    }
   ],
   "source": [
    "from derive_conceptualspace.evaluate.shallow_trees import classify_shallowtree\n",
    "from derive_conceptualspace.pipeline import SnakeContext, load_envfiles\n",
    "from derive_conceptualspace.util.result_analysis_tools import get_best_conf\n",
    "from derive_conceptualspace.cli.args_from_filename import get_filename, print_envvars\n",
    "from misc_util.logutils import setup_logging\n",
    "\n",
    "import warnings\n",
    "warnings.simplefilter(action='ignore', category=FutureWarning)"
   ]
  },
  {
   "cell_type": "code",
   "execution_count": 2,
   "id": "c084b8a0-a457-4164-9af6-93cc95e27841",
   "metadata": {},
   "outputs": [
    {
     "data": {
      "text/markdown": [
       "<span style=\"font-size:11pt\">There are 66 different parameter-combis for dataset <span style=\"color: #0000ff\">siddata2022</span>:</span>"
      ],
      "text/plain": [
       "<IPython.core.display.Markdown object>"
      ]
     },
     "metadata": {},
     "output_type": "display_data"
    },
    {
     "data": {
      "text/plain": [
       "{'dataset': 'siddata2022',\n",
       " 'language': 'de',\n",
       " 'debug': 'False',\n",
       " 'pp_components': ['mfauhcsd2', 'mfauhtcsldp'],\n",
       " 'translate_policy': 'onlyorig',\n",
       " 'min_words_per_desc': '80',\n",
       " 'quantification_measure': ['ppmi', 'tfidf'],\n",
       " 'embed_algo': 'mds',\n",
       " 'embed_dimensions': ['3', '50', '200'],\n",
       " 'extraction_method': 'tfidf',\n",
       " 'dcm_quant_measure': ['count', 'ppmi', 'tfidf'],\n",
       " 'kappa_weights': 'quadratic',\n",
       " 'classifier_succmetric': ['kappa_count2rank_onlypos',\n",
       "  'kappa_digitized_onlypos_2',\n",
       "  'kappa_rank2rank_onlypos_min'],\n",
       " 'prim_lambda': '0.5',\n",
       " 'sec_lambda': '0.2',\n",
       " 'cluster_direction_algo': 'reclassify'}"
      ]
     },
     "metadata": {},
     "output_type": "display_data"
    },
    {
     "name": "stderr",
     "output_type": "stream",
     "text": [
      "Getting Best-Performing Config [5 procs]: 100%|██████████| 66/66 [09:49<00:00,  8.93s/it]\n"
     ]
    },
    {
     "data": {
      "text/html": [
       "<div>\n",
       "<style scoped>\n",
       "    .dataframe tbody tr th:only-of-type {\n",
       "        vertical-align: middle;\n",
       "    }\n",
       "\n",
       "    .dataframe tbody tr th {\n",
       "        vertical-align: top;\n",
       "    }\n",
       "\n",
       "    .dataframe thead tr th {\n",
       "        text-align: left;\n",
       "    }\n",
       "</style>\n",
       "<table border=\"1\" class=\"dataframe\">\n",
       "  <thead>\n",
       "    <tr>\n",
       "      <th></th>\n",
       "      <th></th>\n",
       "      <th colspan=\"11\" halign=\"left\">Accuracy</th>\n",
       "    </tr>\n",
       "    <tr>\n",
       "      <th></th>\n",
       "      <th></th>\n",
       "      <th colspan=\"5\" halign=\"left\">mfauhcsd2</th>\n",
       "      <th colspan=\"6\" halign=\"left\">mfauhtcsldp</th>\n",
       "    </tr>\n",
       "    <tr>\n",
       "      <th></th>\n",
       "      <th></th>\n",
       "      <th colspan=\"3\" halign=\"left\">ppmi</th>\n",
       "      <th colspan=\"2\" halign=\"left\">tfidf</th>\n",
       "      <th colspan=\"3\" halign=\"left\">ppmi</th>\n",
       "      <th colspan=\"3\" halign=\"left\">tfidf</th>\n",
       "    </tr>\n",
       "    <tr>\n",
       "      <th></th>\n",
       "      <th></th>\n",
       "      <th>3</th>\n",
       "      <th>50</th>\n",
       "      <th>200</th>\n",
       "      <th>50</th>\n",
       "      <th>200</th>\n",
       "      <th>3</th>\n",
       "      <th>50</th>\n",
       "      <th>200</th>\n",
       "      <th>3</th>\n",
       "      <th>50</th>\n",
       "      <th>200</th>\n",
       "    </tr>\n",
       "  </thead>\n",
       "  <tbody>\n",
       "    <tr>\n",
       "      <th rowspan=\"3\" valign=\"top\">count</th>\n",
       "      <th>kappa_count2rank_onlypos</th>\n",
       "      <td>NaN</td>\n",
       "      <td>0.462957</td>\n",
       "      <td>0.417054</td>\n",
       "      <td>0.376695</td>\n",
       "      <td>0.421024</td>\n",
       "      <td>0.491084</td>\n",
       "      <td>0.453825</td>\n",
       "      <td>0.403624</td>\n",
       "      <td>0.603619</td>\n",
       "      <td>0.548542</td>\n",
       "      <td>0.564588</td>\n",
       "    </tr>\n",
       "    <tr>\n",
       "      <th>kappa_digitized_onlypos_2</th>\n",
       "      <td>NaN</td>\n",
       "      <td>0.734894</td>\n",
       "      <td>0.767475</td>\n",
       "      <td>0.738796</td>\n",
       "      <td>0.818351</td>\n",
       "      <td>0.562041</td>\n",
       "      <td>0.728810</td>\n",
       "      <td>0.782316</td>\n",
       "      <td>0.442805</td>\n",
       "      <td>0.755227</td>\n",
       "      <td>0.796113</td>\n",
       "    </tr>\n",
       "    <tr>\n",
       "      <th>kappa_rank2rank_onlypos_min</th>\n",
       "      <td>NaN</td>\n",
       "      <td>0.753587</td>\n",
       "      <td>0.739182</td>\n",
       "      <td>0.756628</td>\n",
       "      <td>0.789484</td>\n",
       "      <td>0.666624</td>\n",
       "      <td>0.727799</td>\n",
       "      <td>0.704429</td>\n",
       "      <td>0.603641</td>\n",
       "      <td>0.788161</td>\n",
       "      <td>0.799296</td>\n",
       "    </tr>\n",
       "    <tr>\n",
       "      <th rowspan=\"2\" valign=\"top\">ppmi</th>\n",
       "      <th>kappa_digitized_onlypos_2</th>\n",
       "      <td>0.652006</td>\n",
       "      <td>0.597405</td>\n",
       "      <td>0.656427</td>\n",
       "      <td>0.807523</td>\n",
       "      <td>NaN</td>\n",
       "      <td>NaN</td>\n",
       "      <td>NaN</td>\n",
       "      <td>0.684282</td>\n",
       "      <td>0.625372</td>\n",
       "      <td>0.786189</td>\n",
       "      <td>0.799663</td>\n",
       "    </tr>\n",
       "    <tr>\n",
       "      <th>kappa_rank2rank_onlypos_min</th>\n",
       "      <td>0.640206</td>\n",
       "      <td>0.783320</td>\n",
       "      <td>0.766859</td>\n",
       "      <td>0.797042</td>\n",
       "      <td>NaN</td>\n",
       "      <td>NaN</td>\n",
       "      <td>NaN</td>\n",
       "      <td>0.807956</td>\n",
       "      <td>0.650738</td>\n",
       "      <td>0.787100</td>\n",
       "      <td>0.816508</td>\n",
       "    </tr>\n",
       "    <tr>\n",
       "      <th rowspan=\"2\" valign=\"top\">tfidf</th>\n",
       "      <th>kappa_digitized_onlypos_2</th>\n",
       "      <td>0.575377</td>\n",
       "      <td>0.751184</td>\n",
       "      <td>0.783374</td>\n",
       "      <td>0.775644</td>\n",
       "      <td>0.797300</td>\n",
       "      <td>0.640158</td>\n",
       "      <td>0.764662</td>\n",
       "      <td>0.773541</td>\n",
       "      <td>0.622750</td>\n",
       "      <td>0.775139</td>\n",
       "      <td>NaN</td>\n",
       "    </tr>\n",
       "    <tr>\n",
       "      <th>kappa_rank2rank_onlypos_min</th>\n",
       "      <td>0.642253</td>\n",
       "      <td>0.741706</td>\n",
       "      <td>0.727299</td>\n",
       "      <td>0.756939</td>\n",
       "      <td>0.760250</td>\n",
       "      <td>0.632063</td>\n",
       "      <td>0.783255</td>\n",
       "      <td>0.763461</td>\n",
       "      <td>0.616398</td>\n",
       "      <td>0.771245</td>\n",
       "      <td>NaN</td>\n",
       "    </tr>\n",
       "  </tbody>\n",
       "</table>\n",
       "</div>"
      ],
      "text/plain": [
       "                                   Accuracy                                \\\n",
       "                                  mfauhcsd2                                 \n",
       "                                       ppmi                         tfidf   \n",
       "                                        3         50        200       50    \n",
       "count kappa_count2rank_onlypos          NaN  0.462957  0.417054  0.376695   \n",
       "      kappa_digitized_onlypos_2         NaN  0.734894  0.767475  0.738796   \n",
       "      kappa_rank2rank_onlypos_min       NaN  0.753587  0.739182  0.756628   \n",
       "ppmi  kappa_digitized_onlypos_2    0.652006  0.597405  0.656427  0.807523   \n",
       "      kappa_rank2rank_onlypos_min  0.640206  0.783320  0.766859  0.797042   \n",
       "tfidf kappa_digitized_onlypos_2    0.575377  0.751184  0.783374  0.775644   \n",
       "      kappa_rank2rank_onlypos_min  0.642253  0.741706  0.727299  0.756939   \n",
       "\n",
       "                                                                             \\\n",
       "                                            mfauhtcsldp                       \n",
       "                                                   ppmi                       \n",
       "                                        200         3         50        200   \n",
       "count kappa_count2rank_onlypos     0.421024    0.491084  0.453825  0.403624   \n",
       "      kappa_digitized_onlypos_2    0.818351    0.562041  0.728810  0.782316   \n",
       "      kappa_rank2rank_onlypos_min  0.789484    0.666624  0.727799  0.704429   \n",
       "ppmi  kappa_digitized_onlypos_2         NaN         NaN       NaN  0.684282   \n",
       "      kappa_rank2rank_onlypos_min       NaN         NaN       NaN  0.807956   \n",
       "tfidf kappa_digitized_onlypos_2    0.797300    0.640158  0.764662  0.773541   \n",
       "      kappa_rank2rank_onlypos_min  0.760250    0.632063  0.783255  0.763461   \n",
       "\n",
       "                                                                 \n",
       "                                                                 \n",
       "                                      tfidf                      \n",
       "                                        3         50        200  \n",
       "count kappa_count2rank_onlypos     0.603619  0.548542  0.564588  \n",
       "      kappa_digitized_onlypos_2    0.442805  0.755227  0.796113  \n",
       "      kappa_rank2rank_onlypos_min  0.603641  0.788161  0.799296  \n",
       "ppmi  kappa_digitized_onlypos_2    0.625372  0.786189  0.799663  \n",
       "      kappa_rank2rank_onlypos_min  0.650738  0.787100  0.816508  \n",
       "tfidf kappa_digitized_onlypos_2    0.622750  0.775139       NaN  \n",
       "      kappa_rank2rank_onlypos_min  0.616398  0.771245       NaN  "
      ]
     },
     "metadata": {},
     "output_type": "display_data"
    },
    {
     "name": "stdout",
     "output_type": "stream",
     "text": [
      "Best Accuracy: 81.84%\n"
     ]
    }
   ],
   "source": [
    "setup_logging()\n",
    "load_envfiles(\"siddata\")\n",
    "conf, perf = get_best_conf(\"fachbereich\", verbose=True, balance_classes=True, one_vs_rest=True, dt_depth=1, test_percentage_crossval=0.33)"
   ]
  },
  {
   "cell_type": "code",
   "execution_count": 3,
   "id": "f476fcf3-e378-4458-b417-8810ffcfa43f",
   "metadata": {},
   "outputs": [
    {
     "name": "stdout",
     "output_type": "stream",
     "text": [
      "MA_DATASET=siddata2022;MA_LANGUAGE=de;MA_DEBUG=False;MA_PP_COMPONENTS=mfauhcsd2;MA_TRANSLATE_POLICY=onlyorig;MA_MIN_WORDS_PER_DESC=80;MA_QUANTIFICATION_MEASURE=tfidf;MA_EMBED_ALGO=mds;MA_EMBED_DIMENSIONS=200;MA_EXTRACTION_METHOD=tfidf;MA_DCM_QUANT_MEASURE=count;MA_KAPPA_WEIGHTS=quadratic;MA_CLASSIFIER_SUCCMETRIC=kappa_digitized_onlypos_2;MA_PRIM_LAMBDA=0.5;MA_SEC_LAMBDA=0.2;MA_CLUSTER_DIRECTION_ALGO=reclassify\n",
      "cluster_reprs\n"
     ]
    }
   ],
   "source": [
    "print_envvars(get_filename(conf, get_dependencies=False, doprint=False))"
   ]
  },
  {
   "cell_type": "code",
   "execution_count": 4,
   "id": "741276b1-44a9-454a-a299-ea562840ddd1",
   "metadata": {},
   "outputs": [
    {
     "data": {
      "text/markdown": [
       "<span style=\"font-size:11pt\">Running with the following settings [<span style=\"color: #ff00ff\">4a341d441d</span>]: CLASSIFIER: <span style=\"color: #0000ff\">SVM</span>, CLASSIFIER_SUCCMETRIC: <span style=\"color: #ff0000\">kappa_digitized_onlypos_2</span>, CLUSTER_DIRECTION_ALGO: <span style=\"color: #0000ff\">reclassify</span>, DATASET: <span style=\"color: #ff0000\">siddata2022</span>, DCM_QUANT_MEASURE: <span style=\"color: #0000ff\">count</span>, DEBUG: <span style=\"color: #0000ff\">False</span>, EMBED_ALGO: <span style=\"color: #0000ff\">mds</span>, EMBED_DIMENSIONS: <span style=\"color: #ff0000\">200</span>, EXTRACTION_METHOD: <span style=\"color: #ff0000\">tfidf</span>, KAPPA_WEIGHTS: <span style=\"color: #0000ff\">quadratic</span>, LANGUAGE: <span style=\"color: #0000ff\">de</span>, MIN_WORDS_PER_DESC: <span style=\"color: #ff0000\">80</span>, PP_COMPONENTS: <span style=\"color: #ff0000\">mfauhcsd2</span>, PRIM_LAMBDA: <span style=\"color: #0000ff\">0.5</span>, QUANTIFICATION_MEASURE: <span style=\"color: #ff0000\">tfidf</span>, RANDOM_SEED: <span style=\"color: #ff0000\">None</span>, SEC_LAMBDA: <span style=\"color: #ff0000\">0.2</span>, TRANSLATE_POLICY: <span style=\"color: #0000ff\">onlyorig</span></span>"
      ],
      "text/plain": [
       "<IPython.core.display.Markdown object>"
      ]
     },
     "metadata": {},
     "output_type": "display_data"
    }
   ],
   "source": [
    "ctx = SnakeContext.loader_context(config=conf, silent=True, warn_filters=[\"DifferentFileWarning\"])\n",
    "ctx.print_important_settings()\n",
    "cluster_reprs, clusters, embedding, descriptions = ctx.load(\"cluster_reprs\", \"clusters\", \"embedding\", \"pp_descriptions\")"
   ]
  },
  {
   "cell_type": "code",
   "execution_count": 7,
   "id": "bfeaa9c5-34e6-4b26-9019-21f3fe14411a",
   "metadata": {
    "scrolled": true,
    "tags": []
   },
   "outputs": [
    {
     "name": "stdout",
     "output_type": "stream",
     "text": [
      "Detected Semantic Directions: bibliotheken, verdeutlichen, opnv, schriftliche mundliche, blockveranstaltungen, schwierige, erde, bertolt brecht, religionswissenschaft, vi, erkrankungen, gesammelt, mitarbeiterinnen, bietet uberblick, lineare, verhaltens, weist, parteien, aktivitaten, texte verfassen, kleidung, kreuz, gabriel, assessment, politischen gesellschaftlichen, berufstypischen, offentliches, masterstudium, erschlie szlig, herstellung, unterrichtspraxis, abstrakt, aristoteles, zusammenfassung, mythologie, arbeitsaufgabe, selbstrecherche, flexibilitat, stufe, wald, office, stattgefunden, rollenspiele, aktive beteiligung, dokumenten, unsicherheit, wirtschaftlicher, obligatorische, gleichnamigen, mussten, projektseminar, menschenrechte, eschenbach, tod, schuldrecht, typischer, prasenzveranstaltung, pragmatik, pisa, vorlage, innovative, anrechenbar, radio, messen, ca seiten, methoden empirischen, dtv, tanz, teilnehmen mochten, shy, eigentums, sowie aktuelle, vorurteile, ki, klar, wahrzunehmen, cicero, fragen probleme, seminar vermittelt, einzuuben, str ouml, mogen, ouml szlig en, neue medien, steuerrecht, uhr raum 41, ag, paulus, objektiven, abgelegt, burgerlichen, strategie, beruflicher, lehr lern, religiositat, gremien, konne, zwolf, einordnung, 05 2020, vorrang, interkulturalitat, digitalisierung medien, auseinander setzen, herz, ubergange, mail studip, jungere, 1b, folgende inhalte, stress, sozialpolitik, szene, prazise, aussprache, fremde, gerate, richard, einheit, themenorientierten, potentiellen, uuml ler, gehirn, elektronischen, anmeldung stud ip, pierre, 10 10, mitbestimmung, bildung erziehung unterricht, pers ouml nliche, schwerpunkte bilden, biologie, werbung, lt, hoffnungen, willen, www uni, zugriff, differenzierung, historisches, post, ende veranstaltung, kulturgeschichtlichen, dom, handlungsfahigkeit, ungleichheit, erhalten studierenden, kulturwissenschaft, 20 studierende, internationales, hingewiesen, findet online statt, arbeitsmarkte, isbn, erfolgreichen teilnahme, wissenschaftstheorie, klimawandel, erziehungswissenschaft, ende zweiten, anfanger, germany, ausbreitung, abschlussarbeit, geleistet, gesundheitswesen, anhand ausgewahlter beispiele, ausnahme, berg, streit, vorbereitende lekture, anthropologische, visualisieren, mehrfach, wahr, berufliche praxis, millionen menschen, papier, arbeitsmethoden, bestimmungen, entscheidende, emotion, versus, finanzielle, schulpraktikum, sichern, reclam ub, einfuhrung geschichte, fuhrte, verschiedenen perspektiven, konstruktivismus, methodisches, interdisziplinarer, leistungsfahigkeit, thema seminars, forschungsprozess, rechtfertigung, erhebungen, gemeinsame lekture, scan, fd, anleiten, erfolgreich absolviert, hausaufgaben, teamarbeit, einuben, spannung, marchen, el, cultural, ubersicht, nachweisen, serie, reprasentation, anlehnung, kerncurriculum, offentlichen raum, erklarungen, frauen, alternativen, faust, typologie, europaisierung, qualifikation, toleranz, kuhl, multi, fragen beantworten, vorkenntnissen, bachelorstudiengang, ruckmeldung, gerhard, verschiedenen formen, grundkonzepte, antworten fragen, ikc, schließlich sollen, universal, geruckt, optimal, heidelberg springer, absicht, zeitschriften, betreuer, bio, web, fr uuml, stefanie, pflege, vorlesung richtet studierende, vs verlag, stadtgeographie, one, dateien, intervention, mitarbeiter_innen, feste, medialen, entwicklungs, jugendalter, de gruyter, luft, 15 11, antisemitismus, barth, habermas, part, verhandeln, historischen kontext, lernumgebungen, neuerungen, wochenende, 19 20, bildungsforschung, uuml nden, mittelpunkt steht, beantwortung fragen, welten, alterer, spracherwerb, begeisterung, effektivitat, list, gepr, don, herder, ungefahr, vollstandige, geschehen, preis, 1950er, neue herausforderungen, materielle, leiten, topics, produkte, eintritt, originalen, resultierenden, zehn, geist, freuen, deutschen literatur, films, sozialgeographie, erl, ideale, abgestimmt, entwicklungslinien, konfessionell, veranstaltung studierenden, frieden, elementaren, nachfrage, begrenzten, erinnern, fallstudie, minderheiten, city, getragen, rhythmus, gewissen, informellen, wandels, rhetorische, kap, mechanik, polizei, praxisbeispielen, inklusive, wissenschaftlichen texten, uben, se, abschnitte, effekt, corona krise, mut, erwachsenenbildung, globalisierten, umgangsformen, haus, kriegen, politiken, 14 18, dauerhaft, festlegen, analog, cd, hof, zukommt, general, gluck, un, life, verlaufen, momente, konsum, brd, dietrich, zeugen, leistungspunkten, biologischen, non, 10 1007, analysis, stichworte, dialog, systemische, nomos, maria, licht, didaktische modelle, standorte, plattform, lieder, zeitgeschichte, mitarbeiten, industrielle, illustriert, horer, jacques, neueren, vergabe, netzwerken, poetischen, islamischen, 3d, landschaft, danach gefragt, karten, diskutierten, wirtschaftsgeographie, erlernte, online workshop, promotion, strukturierten, norm, gesprache, tristan, analyse interpretation, rational\n"
     ]
    }
   ],
   "source": [
    "print(\"Detected Semantic Directions:\", \", \".join(list(cluster_reprs.keys())))"
   ]
  },
  {
   "cell_type": "markdown",
   "id": "63393c87-0f4d-454e-b630-2ae7c47b18f9",
   "metadata": {},
   "source": [
    "## Can we recover the exact courses from the detected directions?"
   ]
  },
  {
   "cell_type": "code",
   "execution_count": null,
   "id": "f83f14fa-a824-4209-9469-fd6e1c17c7e7",
   "metadata": {
    "tags": []
   },
   "outputs": [],
   "source": [
    "import pyperclip\n",
    "from derive_conceptualspace.util.result_analysis_tools import df_to_latex\n",
    "\n",
    "import numpy as np\n",
    "import pandas as pd\n",
    "from scipy.stats import rankdata\n",
    "from sklearn.tree import DecisionTreeClassifier\n",
    "from tqdm.notebook import tqdm\n",
    "from misc_util.pretty_print import pretty_print as print\n",
    "from derive_conceptualspace.semantic_directions.cluster_names import get_name_dict\n",
    "clus_rep_algo = \"top_1\"\n",
    "clusters, planes = clusters.values()"
   ]
  },
  {
   "cell_type": "code",
   "execution_count": 22,
   "id": "1f0ef322-35f1-4678-8c23-9f199c5fbfda",
   "metadata": {},
   "outputs": [
    {
     "data": {
      "text/markdown": [
       "<span style=\"font-size:11pt\">Highest-ranking descriptions [with any class] per dimension:<br>    <span style=\"color: #0000ff\">bibliotheken          </span>: Tutorium Orientierungsseminar (Gruppe I)<br>    <span style=\"color: #0000ff\">verdeutlichen         </span>: Konzeptionen, Geschichte und Inhalte des Sachunterrichts (G1)<br>    <span style=\"color: #0000ff\">opnv                  </span>: Tagesexkursion Agri-Food Cluster in Nord-West Niedersachsen<br>    <span style=\"color: #0000ff\">schriftliche mundliche</span>: HannES Probeexamen<br>    <span style=\"color: #0000ff\">blockveranstaltungen  </span>: Begleitung und Betreuung des Fachpraktikums Englisch im Herbst 2008<br>    <span style=\"color: #0000ff\">schwierige            </span>: ZQS/SK: Stimm- und Sprechtraining<br>    <span style=\"color: #0000ff\">erde                  </span>: Tutorium zur Vorlesung: System Lebewesen/Ökozonen<br>    <span style=\"color: #0000ff\">bertolt brecht        </span>: Bertolt Brecht - Dramatische Arbeit (NDL 3)<br>    <span style=\"color: #0000ff\">religionswissenschaft </span>: Friedrich Schleiermacher, Über die Religion: Reden an die Gebildeten unter ihren Verächtern<br>    <span style=\"color: #0000ff\">vi                    </span>: AG Wissensbasierte Robotik<br>    <span style=\"color: #0000ff\">erkrankungen          </span>: Psychosomatik/Verhaltensmedizin M-Psy-111<br>    <span style=\"color: #0000ff\">gesammelt             </span>: Bauen und Konstruieren als Thema im Sachunterricht (G2,3/H1,2,3,5)<br>    <span style=\"color: #0000ff\">mitarbeiterinnen      </span>: WB 1.8 Gesund bleiben und gesund führen - Was kann ich als Führungskraft tun?  (Referntinnen Mareike Claus und Janna Stern)<br>    <span style=\"color: #0000ff\">bietet uberblick      </span>: Einführung in die Sozialpsychologie (V)<br>    <span style=\"color: #0000ff\">lineare               </span>: Datenanalyse I<br>    <span style=\"color: #0000ff\">verhaltens            </span>: Ausgewählte Experimente der Psychologie<br>    <span style=\"color: #0000ff\">weist                 </span>: digital: Aufräumen! Tätig sein!<br>    <span style=\"color: #0000ff\">parteien              </span>: Modul Vergleichende Politikwissenschaft I: Westliche Regierungssysteme im Vergleich<br>    <span style=\"color: #0000ff\">aktivitaten           </span>: Finanzpolitik in der Demokratie [Präsenz]<br>    <span style=\"color: #0000ff\">texte verfassen       </span>: Gender !? - Einstieg in die Geschlechterforschung</span>"
      ],
      "text/plain": [
       "<IPython.core.display.Markdown object>"
      ]
     },
     "metadata": {},
     "output_type": "display_data"
    }
   ],
   "source": [
    "cluster_names = get_name_dict(clusters, cluster_reprs, clus_rep_algo)\n",
    "#first I want the distances to the origins of the respective dimensions (induced by the clusters), what induces the respective rankings (see DESC15 p.24u, proj2 of load_semanticspaces.load_projections)\n",
    "axis_dists = {i: {cluster_names[k]: v.dist(embedding[i]) for k, v in planes.items()} for i in range(len(embedding))}\n",
    "best_per_dim = {k: descriptions._descriptions[v].title for k, v in pd.DataFrame(axis_dists).T.idxmax().to_dict().items()}\n",
    "print(\"Highest-ranking descriptions [with any class] per dimension:\\n    \"+\"\\n    \".join([f\"*b*{k.ljust(max([len(i) for i in best_per_dim.keys()][:20]))}*b*: {v}\" for k, v in best_per_dim.items()][:20]))"
   ]
  },
  {
   "cell_type": "code",
   "execution_count": null,
   "id": "3551e6fd-5f81-48f7-a871-86ba32c161b6",
   "metadata": {},
   "outputs": [],
   "source": [
    "#TODO also show places 2, 3, 4 - hier sehen wir wieder sehr ähnliche (\"football stadium\", \"stadium\", \"fan\" for \"goalie\")\n",
    "#TODO axis_dists is all I need for the movietuner already!! I can say \"give me something like X, only with more Y\"\n",
    "\n",
    "consider = pd.DataFrame({descriptions._descriptions[i].title: axis_dists[i] for i in range(len(embedding))})\n",
    "ranked = pd.DataFrame([rankdata(i) for i in consider.values], index=consider.index, columns=consider.columns).astype(int).T\n",
    "ranked = ranked / ranked.shape[0] #looks better if we're doing relative rankings"
   ]
  },
  {
   "cell_type": "code",
   "execution_count": 35,
   "id": "5d8daf41-32c6-4f4c-9223-d70fa2f7c2d2",
   "metadata": {
    "tags": []
   },
   "outputs": [
    {
     "data": {
      "text/html": [
       "<div>\n",
       "<style scoped>\n",
       "    .dataframe tbody tr th:only-of-type {\n",
       "        vertical-align: middle;\n",
       "    }\n",
       "\n",
       "    .dataframe tbody tr th {\n",
       "        vertical-align: top;\n",
       "    }\n",
       "\n",
       "    .dataframe thead th {\n",
       "        text-align: right;\n",
       "    }\n",
       "</style>\n",
       "<table border=\"1\" class=\"dataframe\">\n",
       "  <thead>\n",
       "    <tr style=\"text-align: right;\">\n",
       "      <th></th>\n",
       "      <th>bibliotheken</th>\n",
       "      <th>verdeutlichen</th>\n",
       "      <th>opnv</th>\n",
       "      <th>schriftliche mundliche</th>\n",
       "      <th>blockveranstaltungen</th>\n",
       "      <th>...</th>\n",
       "      <th>norm</th>\n",
       "      <th>gesprache</th>\n",
       "      <th>tristan</th>\n",
       "      <th>analyse interpretation</th>\n",
       "      <th>rational</th>\n",
       "    </tr>\n",
       "  </thead>\n",
       "  <tbody>\n",
       "    <tr>\n",
       "      <th>!! FÄLLT AB 15.11. AUS !! Lektürekurs Spanisch I (Gruppe A und B)</th>\n",
       "      <td>0.663</td>\n",
       "      <td>0.021</td>\n",
       "      <td>0.566</td>\n",
       "      <td>0.954</td>\n",
       "      <td>0.724</td>\n",
       "      <td>...</td>\n",
       "      <td>0.026</td>\n",
       "      <td>0.660</td>\n",
       "      <td>0.099</td>\n",
       "      <td>0.206</td>\n",
       "      <td>0.149</td>\n",
       "    </tr>\n",
       "    <tr>\n",
       "      <th>!! FÄLLT AUS !!  Grammatik und Grammatikvermittlung rund ums Wort (D3)</th>\n",
       "      <td>0.686</td>\n",
       "      <td>0.389</td>\n",
       "      <td>0.763</td>\n",
       "      <td>0.715</td>\n",
       "      <td>0.452</td>\n",
       "      <td>...</td>\n",
       "      <td>0.939</td>\n",
       "      <td>0.788</td>\n",
       "      <td>0.382</td>\n",
       "      <td>0.378</td>\n",
       "      <td>0.740</td>\n",
       "    </tr>\n",
       "    <tr>\n",
       "      <th>!! FÄLLT AUS !!  Sprachen in der Klasse - Sprachdidaktik als linguistische Sozialarbeit (D3)</th>\n",
       "      <td>0.172</td>\n",
       "      <td>0.737</td>\n",
       "      <td>0.027</td>\n",
       "      <td>0.129</td>\n",
       "      <td>0.003</td>\n",
       "      <td>...</td>\n",
       "      <td>0.670</td>\n",
       "      <td>0.399</td>\n",
       "      <td>0.610</td>\n",
       "      <td>0.141</td>\n",
       "      <td>0.303</td>\n",
       "    </tr>\n",
       "    <tr>\n",
       "      <th>!! FÄLLT AUS !!  Sprachnormen: (Was ist) \"Gutes und richtiges Deutsch?\" (D3)</th>\n",
       "      <td>0.170</td>\n",
       "      <td>0.149</td>\n",
       "      <td>0.219</td>\n",
       "      <td>0.215</td>\n",
       "      <td>0.408</td>\n",
       "      <td>...</td>\n",
       "      <td>0.975</td>\n",
       "      <td>0.982</td>\n",
       "      <td>0.741</td>\n",
       "      <td>0.044</td>\n",
       "      <td>0.536</td>\n",
       "    </tr>\n",
       "    <tr>\n",
       "      <th>!! FÄLLT AUS !! Anna Seghers: Das siebte Kreuz (1942)</th>\n",
       "      <td>0.268</td>\n",
       "      <td>0.290</td>\n",
       "      <td>0.829</td>\n",
       "      <td>0.678</td>\n",
       "      <td>0.011</td>\n",
       "      <td>...</td>\n",
       "      <td>0.205</td>\n",
       "      <td>0.232</td>\n",
       "      <td>0.981</td>\n",
       "      <td>0.803</td>\n",
       "      <td>0.401</td>\n",
       "    </tr>\n",
       "    <tr>\n",
       "      <th>...</th>\n",
       "      <td>...</td>\n",
       "      <td>...</td>\n",
       "      <td>...</td>\n",
       "      <td>...</td>\n",
       "      <td>...</td>\n",
       "      <td>...</td>\n",
       "      <td>...</td>\n",
       "      <td>...</td>\n",
       "      <td>...</td>\n",
       "      <td>...</td>\n",
       "      <td>...</td>\n",
       "    </tr>\n",
       "    <tr>\n",
       "      <th>„… damit ihr einander kennenlernt“ (Sure 49,13) Interreligiöse Studientage vom 04.-06.10.2018 in Goslar (Bezugsmodul: Interreligiöse und interkulturelle Studien)</th>\n",
       "      <td>0.408</td>\n",
       "      <td>0.155</td>\n",
       "      <td>0.882</td>\n",
       "      <td>0.089</td>\n",
       "      <td>0.238</td>\n",
       "      <td>...</td>\n",
       "      <td>0.782</td>\n",
       "      <td>0.846</td>\n",
       "      <td>0.192</td>\n",
       "      <td>0.096</td>\n",
       "      <td>0.354</td>\n",
       "    </tr>\n",
       "    <tr>\n",
       "      <th>„… damit ihr einander kennenlernt“ (Sure 49,13) Interreligiöse Studientage vom 15.-17.10.2019 in Goslar (Bezugsmodul: Interreligiöse und interkulturelle Studien)</th>\n",
       "      <td>0.336</td>\n",
       "      <td>0.110</td>\n",
       "      <td>0.851</td>\n",
       "      <td>0.136</td>\n",
       "      <td>0.189</td>\n",
       "      <td>...</td>\n",
       "      <td>0.756</td>\n",
       "      <td>0.805</td>\n",
       "      <td>0.197</td>\n",
       "      <td>0.141</td>\n",
       "      <td>0.361</td>\n",
       "    </tr>\n",
       "    <tr>\n",
       "      <th>„… damit ihr einander kennenlernt“ (Sure 49,13) Interreligiöse Studientage vom 16.-18.10.2017 in Goslar (Bezugsmodul: Interreligiöse und interkulturelle Studien)</th>\n",
       "      <td>0.458</td>\n",
       "      <td>0.144</td>\n",
       "      <td>0.881</td>\n",
       "      <td>0.077</td>\n",
       "      <td>0.273</td>\n",
       "      <td>...</td>\n",
       "      <td>0.812</td>\n",
       "      <td>0.865</td>\n",
       "      <td>0.179</td>\n",
       "      <td>0.141</td>\n",
       "      <td>0.378</td>\n",
       "    </tr>\n",
       "    <tr>\n",
       "      <th>„….und wenn dann alles nicht so klappt, wie geplant.“</th>\n",
       "      <td>0.474</td>\n",
       "      <td>0.642</td>\n",
       "      <td>0.191</td>\n",
       "      <td>0.779</td>\n",
       "      <td>0.652</td>\n",
       "      <td>...</td>\n",
       "      <td>0.662</td>\n",
       "      <td>0.438</td>\n",
       "      <td>0.064</td>\n",
       "      <td>0.103</td>\n",
       "      <td>0.876</td>\n",
       "    </tr>\n",
       "    <tr>\n",
       "      <th>„…die armen Klosterjungfrauen in großer Eil und Schrecken sich in die Stadt salviret“ Die Belastungen des Dreißigjährigen Krieges für die Orte und Klöster im Fürstentum Lüneburg</th>\n",
       "      <td>0.400</td>\n",
       "      <td>0.247</td>\n",
       "      <td>0.973</td>\n",
       "      <td>0.181</td>\n",
       "      <td>0.072</td>\n",
       "      <td>...</td>\n",
       "      <td>0.179</td>\n",
       "      <td>0.775</td>\n",
       "      <td>0.797</td>\n",
       "      <td>0.316</td>\n",
       "      <td>0.392</td>\n",
       "    </tr>\n",
       "  </tbody>\n",
       "</table>\n",
       "<p>11601 rows × 400 columns</p>\n",
       "</div>"
      ],
      "text/plain": [
       "                                                    bibliotheken  verdeutlichen  opnv  schriftliche mundliche  blockveranstaltungen  ...  norm  gesprache  tristan  analyse interpretation  rational\n",
       "!! FÄLLT AB 15.11. AUS !! Lektürekurs Spanisch ...         0.663          0.021 0.566                   0.954                 0.724  ... 0.026      0.660    0.099                   0.206     0.149\n",
       "!! FÄLLT AUS !!  Grammatik und Grammatikvermitt...         0.686          0.389 0.763                   0.715                 0.452  ... 0.939      0.788    0.382                   0.378     0.740\n",
       "!! FÄLLT AUS !!  Sprachen in der Klasse - Sprac...         0.172          0.737 0.027                   0.129                 0.003  ... 0.670      0.399    0.610                   0.141     0.303\n",
       "!! FÄLLT AUS !!  Sprachnormen: (Was ist) \"Gutes...         0.170          0.149 0.219                   0.215                 0.408  ... 0.975      0.982    0.741                   0.044     0.536\n",
       "!! FÄLLT AUS !! Anna Seghers: Das siebte Kreuz ...         0.268          0.290 0.829                   0.678                 0.011  ... 0.205      0.232    0.981                   0.803     0.401\n",
       "...                                                          ...            ...   ...                     ...                   ...  ...   ...        ...      ...                     ...       ...\n",
       "„… damit ihr einander kennenlernt“ (Sure 49,13)...         0.408          0.155 0.882                   0.089                 0.238  ... 0.782      0.846    0.192                   0.096     0.354\n",
       "„… damit ihr einander kennenlernt“ (Sure 49,13)...         0.336          0.110 0.851                   0.136                 0.189  ... 0.756      0.805    0.197                   0.141     0.361\n",
       "„… damit ihr einander kennenlernt“ (Sure 49,13)...         0.458          0.144 0.881                   0.077                 0.273  ... 0.812      0.865    0.179                   0.141     0.378\n",
       "„….und wenn dann alles nicht so klappt, wie gep...         0.474          0.642 0.191                   0.779                 0.652  ... 0.662      0.438    0.064                   0.103     0.876\n",
       "„…die armen Klosterjungfrauen in großer Eil und...         0.400          0.247 0.973                   0.181                 0.072  ... 0.179      0.775    0.797                   0.316     0.392\n",
       "\n",
       "[11601 rows x 400 columns]"
      ]
     },
     "metadata": {},
     "output_type": "display_data"
    }
   ],
   "source": [
    "with pd.option_context('display.max_rows', 10, 'display.max_columns', 10, 'display.expand_frame_repr', False, 'display.float_format', '{:.3f}'.format):\n",
    "    display(ranked)"
   ]
  },
  {
   "cell_type": "markdown",
   "id": "8f8a5e0b-d40d-4da0-a8d0-7f66ee690d08",
   "metadata": {},
   "source": [
    "So now we will test if we can recover one specific course perfectly against all others with a decision tree...\n",
    "\n",
    "* With the rankings in the semantic directions rounded\n",
    "* With only a random subset of the semanatic directions.\n",
    "\n",
    "In every `repeat`, we will test `ntests` random candidates with only `max_dirs` randomly selected directions, rounded to `roundto`. Which directions to select differs in every `repeat`"
   ]
  },
  {
   "cell_type": "code",
   "execution_count": 105,
   "id": "9212304e-d477-4483-8707-5349025de8e8",
   "metadata": {},
   "outputs": [],
   "source": [
    "def test_recover_one(ranked, roundto=3, ntests=100, max_dirs=None, repeat=1):\n",
    "    repeat_results = []\n",
    "    with tqdm(total=ntests*repeat, leave=False) as pgbar:\n",
    "        for ntrial in range(repeat):\n",
    "            clone = ranked.copy().round(roundto)\n",
    "            if max_dirs:\n",
    "                clone = clone[np.random.choice(clone.columns, max_dirs)]\n",
    "            results = []\n",
    "            for i in np.random.choice(range(len(clone)), ntests):\n",
    "                targets = [0]*len(clone)\n",
    "                targets[i] = 1\n",
    "                clf = DecisionTreeClassifier()\n",
    "                clf.fit(clone.values, targets)\n",
    "                results.append((clf.predict(clone.values) == targets).all())\n",
    "                pgbar.update(1)\n",
    "                \n",
    "            repeat_results.append(sum(results)/len(results))\n",
    "        return repeat_results"
   ]
  },
  {
   "cell_type": "code",
   "execution_count": 109,
   "id": "f28de278-4aff-4c27-87eb-05e4a2e6a32c",
   "metadata": {
    "scrolled": true,
    "tags": []
   },
   "outputs": [
    {
     "data": {
      "text/markdown": [
       "<span style=\"font-size:11pt\">Run 1/12. Arguments: round-to=3, max-dirs=150</span>"
      ],
      "text/plain": [
       "<IPython.core.display.Markdown object>"
      ]
     },
     "metadata": {},
     "output_type": "display_data"
    },
    {
     "data": {
      "application/vnd.jupyter.widget-view+json": {
       "model_id": "",
       "version_major": 2,
       "version_minor": 0
      },
      "text/plain": [
       "  0%|          | 0/4000 [00:00<?, ?it/s]"
      ]
     },
     "metadata": {},
     "output_type": "display_data"
    },
    {
     "data": {
      "text/markdown": [
       "<span style=\"font-size:11pt\">   Mean Accuracy: 100.00%, Standard-Deviation: 0.0000, Best Result: 100.00%</span>"
      ],
      "text/plain": [
       "<IPython.core.display.Markdown object>"
      ]
     },
     "metadata": {},
     "output_type": "display_data"
    },
    {
     "data": {
      "text/markdown": [
       "<span style=\"font-size:11pt\">Run 2/12. Arguments: round-to=3, max-dirs=100</span>"
      ],
      "text/plain": [
       "<IPython.core.display.Markdown object>"
      ]
     },
     "metadata": {},
     "output_type": "display_data"
    },
    {
     "data": {
      "application/vnd.jupyter.widget-view+json": {
       "model_id": "",
       "version_major": 2,
       "version_minor": 0
      },
      "text/plain": [
       "  0%|          | 0/4000 [00:00<?, ?it/s]"
      ]
     },
     "metadata": {},
     "output_type": "display_data"
    },
    {
     "data": {
      "text/markdown": [
       "<span style=\"font-size:11pt\">   Mean Accuracy: 100.00%, Standard-Deviation: 0.0000, Best Result: 100.00%</span>"
      ],
      "text/plain": [
       "<IPython.core.display.Markdown object>"
      ]
     },
     "metadata": {},
     "output_type": "display_data"
    },
    {
     "data": {
      "text/markdown": [
       "<span style=\"font-size:11pt\">Run 3/12. Arguments: round-to=3, max-dirs=50</span>"
      ],
      "text/plain": [
       "<IPython.core.display.Markdown object>"
      ]
     },
     "metadata": {},
     "output_type": "display_data"
    },
    {
     "data": {
      "application/vnd.jupyter.widget-view+json": {
       "model_id": "",
       "version_major": 2,
       "version_minor": 0
      },
      "text/plain": [
       "  0%|          | 0/4000 [00:00<?, ?it/s]"
      ]
     },
     "metadata": {},
     "output_type": "display_data"
    },
    {
     "data": {
      "text/markdown": [
       "<span style=\"font-size:11pt\">   Mean Accuracy: 99.88%, Standard-Deviation: 0.0027, Best Result: 100.00%</span>"
      ],
      "text/plain": [
       "<IPython.core.display.Markdown object>"
      ]
     },
     "metadata": {},
     "output_type": "display_data"
    },
    {
     "data": {
      "text/markdown": [
       "<span style=\"font-size:11pt\">Run 4/12. Arguments: round-to=3, max-dirs=20</span>"
      ],
      "text/plain": [
       "<IPython.core.display.Markdown object>"
      ]
     },
     "metadata": {},
     "output_type": "display_data"
    },
    {
     "data": {
      "application/vnd.jupyter.widget-view+json": {
       "model_id": "",
       "version_major": 2,
       "version_minor": 0
      },
      "text/plain": [
       "  0%|          | 0/4000 [00:00<?, ?it/s]"
      ]
     },
     "metadata": {},
     "output_type": "display_data"
    },
    {
     "data": {
      "text/markdown": [
       "<span style=\"font-size:11pt\">   Mean Accuracy: 99.00%, Standard-Deviation: 0.0079, Best Result: 100.00%</span>"
      ],
      "text/plain": [
       "<IPython.core.display.Markdown object>"
      ]
     },
     "metadata": {},
     "output_type": "display_data"
    },
    {
     "data": {
      "text/markdown": [
       "<span style=\"font-size:11pt\">Run 5/12. Arguments: round-to=2, max-dirs=150</span>"
      ],
      "text/plain": [
       "<IPython.core.display.Markdown object>"
      ]
     },
     "metadata": {},
     "output_type": "display_data"
    },
    {
     "data": {
      "application/vnd.jupyter.widget-view+json": {
       "model_id": "",
       "version_major": 2,
       "version_minor": 0
      },
      "text/plain": [
       "  0%|          | 0/4000 [00:00<?, ?it/s]"
      ]
     },
     "metadata": {},
     "output_type": "display_data"
    },
    {
     "data": {
      "text/markdown": [
       "<span style=\"font-size:11pt\">   Mean Accuracy: 98.38%, Standard-Deviation: 0.0088, Best Result: 100.00%</span>"
      ],
      "text/plain": [
       "<IPython.core.display.Markdown object>"
      ]
     },
     "metadata": {},
     "output_type": "display_data"
    },
    {
     "data": {
      "text/markdown": [
       "<span style=\"font-size:11pt\">Run 6/12. Arguments: round-to=2, max-dirs=100</span>"
      ],
      "text/plain": [
       "<IPython.core.display.Markdown object>"
      ]
     },
     "metadata": {},
     "output_type": "display_data"
    },
    {
     "data": {
      "application/vnd.jupyter.widget-view+json": {
       "model_id": "",
       "version_major": 2,
       "version_minor": 0
      },
      "text/plain": [
       "  0%|          | 0/4000 [00:00<?, ?it/s]"
      ]
     },
     "metadata": {},
     "output_type": "display_data"
    },
    {
     "data": {
      "text/markdown": [
       "<span style=\"font-size:11pt\">   Mean Accuracy: 98.02%, Standard-Deviation: 0.0080, Best Result: 99.50%</span>"
      ],
      "text/plain": [
       "<IPython.core.display.Markdown object>"
      ]
     },
     "metadata": {},
     "output_type": "display_data"
    },
    {
     "data": {
      "text/markdown": [
       "<span style=\"font-size:11pt\">Run 7/12. Arguments: round-to=2, max-dirs=50</span>"
      ],
      "text/plain": [
       "<IPython.core.display.Markdown object>"
      ]
     },
     "metadata": {},
     "output_type": "display_data"
    },
    {
     "data": {
      "application/vnd.jupyter.widget-view+json": {
       "model_id": "",
       "version_major": 2,
       "version_minor": 0
      },
      "text/plain": [
       "  0%|          | 0/4000 [00:00<?, ?it/s]"
      ]
     },
     "metadata": {},
     "output_type": "display_data"
    },
    {
     "data": {
      "text/markdown": [
       "<span style=\"font-size:11pt\">   Mean Accuracy: 96.12%, Standard-Deviation: 0.0127, Best Result: 98.00%</span>"
      ],
      "text/plain": [
       "<IPython.core.display.Markdown object>"
      ]
     },
     "metadata": {},
     "output_type": "display_data"
    },
    {
     "data": {
      "text/markdown": [
       "<span style=\"font-size:11pt\">Run 8/12. Arguments: round-to=2, max-dirs=20</span>"
      ],
      "text/plain": [
       "<IPython.core.display.Markdown object>"
      ]
     },
     "metadata": {},
     "output_type": "display_data"
    },
    {
     "data": {
      "application/vnd.jupyter.widget-view+json": {
       "model_id": "",
       "version_major": 2,
       "version_minor": 0
      },
      "text/plain": [
       "  0%|          | 0/4000 [00:00<?, ?it/s]"
      ]
     },
     "metadata": {},
     "output_type": "display_data"
    },
    {
     "data": {
      "text/markdown": [
       "<span style=\"font-size:11pt\">   Mean Accuracy: 95.60%, Standard-Deviation: 0.0132, Best Result: 98.00%</span>"
      ],
      "text/plain": [
       "<IPython.core.display.Markdown object>"
      ]
     },
     "metadata": {},
     "output_type": "display_data"
    },
    {
     "data": {
      "text/markdown": [
       "<span style=\"font-size:11pt\">Run 9/12. Arguments: round-to=1, max-dirs=150</span>"
      ],
      "text/plain": [
       "<IPython.core.display.Markdown object>"
      ]
     },
     "metadata": {},
     "output_type": "display_data"
    },
    {
     "data": {
      "application/vnd.jupyter.widget-view+json": {
       "model_id": "",
       "version_major": 2,
       "version_minor": 0
      },
      "text/plain": [
       "  0%|          | 0/4000 [00:00<?, ?it/s]"
      ]
     },
     "metadata": {},
     "output_type": "display_data"
    },
    {
     "data": {
      "text/markdown": [
       "<span style=\"font-size:11pt\">   Mean Accuracy: 95.65%, Standard-Deviation: 0.0139, Best Result: 98.00%</span>"
      ],
      "text/plain": [
       "<IPython.core.display.Markdown object>"
      ]
     },
     "metadata": {},
     "output_type": "display_data"
    },
    {
     "data": {
      "text/markdown": [
       "<span style=\"font-size:11pt\">Run 10/12. Arguments: round-to=1, max-dirs=100</span>"
      ],
      "text/plain": [
       "<IPython.core.display.Markdown object>"
      ]
     },
     "metadata": {},
     "output_type": "display_data"
    },
    {
     "data": {
      "application/vnd.jupyter.widget-view+json": {
       "model_id": "",
       "version_major": 2,
       "version_minor": 0
      },
      "text/plain": [
       "  0%|          | 0/4000 [00:00<?, ?it/s]"
      ]
     },
     "metadata": {},
     "output_type": "display_data"
    },
    {
     "data": {
      "text/markdown": [
       "<span style=\"font-size:11pt\">   Mean Accuracy: 94.92%, Standard-Deviation: 0.0129, Best Result: 97.00%</span>"
      ],
      "text/plain": [
       "<IPython.core.display.Markdown object>"
      ]
     },
     "metadata": {},
     "output_type": "display_data"
    },
    {
     "data": {
      "text/markdown": [
       "<span style=\"font-size:11pt\">Run 11/12. Arguments: round-to=1, max-dirs=50</span>"
      ],
      "text/plain": [
       "<IPython.core.display.Markdown object>"
      ]
     },
     "metadata": {},
     "output_type": "display_data"
    },
    {
     "data": {
      "application/vnd.jupyter.widget-view+json": {
       "model_id": "",
       "version_major": 2,
       "version_minor": 0
      },
      "text/plain": [
       "  0%|          | 0/4000 [00:00<?, ?it/s]"
      ]
     },
     "metadata": {},
     "output_type": "display_data"
    },
    {
     "data": {
      "text/markdown": [
       "<span style=\"font-size:11pt\">   Mean Accuracy: 94.08%, Standard-Deviation: 0.0138, Best Result: 96.00%</span>"
      ],
      "text/plain": [
       "<IPython.core.display.Markdown object>"
      ]
     },
     "metadata": {},
     "output_type": "display_data"
    },
    {
     "data": {
      "text/markdown": [
       "<span style=\"font-size:11pt\">Run 12/12. Arguments: round-to=1, max-dirs=20</span>"
      ],
      "text/plain": [
       "<IPython.core.display.Markdown object>"
      ]
     },
     "metadata": {},
     "output_type": "display_data"
    },
    {
     "data": {
      "application/vnd.jupyter.widget-view+json": {
       "model_id": "",
       "version_major": 2,
       "version_minor": 0
      },
      "text/plain": [
       "  0%|          | 0/4000 [00:00<?, ?it/s]"
      ]
     },
     "metadata": {},
     "output_type": "display_data"
    },
    {
     "data": {
      "text/markdown": [
       "<span style=\"font-size:11pt\">   Mean Accuracy: 91.68%, Standard-Deviation: 0.0176, Best Result: 95.00%</span>"
      ],
      "text/plain": [
       "<IPython.core.display.Markdown object>"
      ]
     },
     "metadata": {},
     "output_type": "display_data"
    }
   ],
   "source": [
    "REPEAT = 20\n",
    "NTESTS = 200\n",
    "\n",
    "ROUND_TO = [3, 2, 1]\n",
    "MAX_DIRS = [150, 100, 50, 20, 10, 5, 3]\n",
    "\n",
    "n=0\n",
    "results = {}\n",
    "for roundto in ROUND_TO:\n",
    "    for max_dirs in MAX_DIRS:\n",
    "        n += 1\n",
    "        print(f\"Run {n}/{len(ROUND_TO)*len(MAX_DIRS)}. Arguments: round-to={roundto}, max-dirs={max_dirs}\")\n",
    "        res = test_recover_one(ranked, roundto=roundto, ntests=NTESTS, max_dirs=max_dirs, repeat=REPEAT)\n",
    "        print(f\"   Mean Accuracy: {np.array(res).mean():.2%}, Standard-Deviation: {np.array(res).std():.4f}, Best Result: {np.array(res).max():.2%}\")\n",
    "        results[(roundto,max_dirs)] = res"
   ]
  },
  {
   "cell_type": "code",
   "execution_count": 192,
   "id": "6cd4ce89-d802-40ff-815a-b704ff8c8fd0",
   "metadata": {},
   "outputs": [
    {
     "data": {
      "text/html": [
       "<style type=\"text/css\">\n",
       "#T_a4a67 th {\n",
       "  vertical-align: top;\n",
       "  text-align: left;\n",
       "}\n",
       "</style>\n",
       "<table id=\"T_a4a67\">\n",
       "  <thead>\n",
       "    <tr>\n",
       "      <th class=\"index_name level0\" >Precision</th>\n",
       "      <th id=\"T_a4a67_level0_col0\" class=\"col_heading level0 col0\" colspan=\"7\">1</th>\n",
       "      <th id=\"T_a4a67_level0_col7\" class=\"col_heading level0 col7\" colspan=\"7\">2</th>\n",
       "      <th id=\"T_a4a67_level0_col14\" class=\"col_heading level0 col14\" colspan=\"7\">3</th>\n",
       "    </tr>\n",
       "    <tr>\n",
       "      <th class=\"index_name level1\" >Max-Dims</th>\n",
       "      <th id=\"T_a4a67_level1_col0\" class=\"col_heading level1 col0\" >3</th>\n",
       "      <th id=\"T_a4a67_level1_col1\" class=\"col_heading level1 col1\" >5</th>\n",
       "      <th id=\"T_a4a67_level1_col2\" class=\"col_heading level1 col2\" >10</th>\n",
       "      <th id=\"T_a4a67_level1_col3\" class=\"col_heading level1 col3\" >20</th>\n",
       "      <th id=\"T_a4a67_level1_col4\" class=\"col_heading level1 col4\" >50</th>\n",
       "      <th id=\"T_a4a67_level1_col5\" class=\"col_heading level1 col5\" >100</th>\n",
       "      <th id=\"T_a4a67_level1_col6\" class=\"col_heading level1 col6\" >150</th>\n",
       "      <th id=\"T_a4a67_level1_col7\" class=\"col_heading level1 col7\" >3</th>\n",
       "      <th id=\"T_a4a67_level1_col8\" class=\"col_heading level1 col8\" >5</th>\n",
       "      <th id=\"T_a4a67_level1_col9\" class=\"col_heading level1 col9\" >10</th>\n",
       "      <th id=\"T_a4a67_level1_col10\" class=\"col_heading level1 col10\" >20</th>\n",
       "      <th id=\"T_a4a67_level1_col11\" class=\"col_heading level1 col11\" >50</th>\n",
       "      <th id=\"T_a4a67_level1_col12\" class=\"col_heading level1 col12\" >100</th>\n",
       "      <th id=\"T_a4a67_level1_col13\" class=\"col_heading level1 col13\" >150</th>\n",
       "      <th id=\"T_a4a67_level1_col14\" class=\"col_heading level1 col14\" >3</th>\n",
       "      <th id=\"T_a4a67_level1_col15\" class=\"col_heading level1 col15\" >5</th>\n",
       "      <th id=\"T_a4a67_level1_col16\" class=\"col_heading level1 col16\" >10</th>\n",
       "      <th id=\"T_a4a67_level1_col17\" class=\"col_heading level1 col17\" >20</th>\n",
       "      <th id=\"T_a4a67_level1_col18\" class=\"col_heading level1 col18\" >50</th>\n",
       "      <th id=\"T_a4a67_level1_col19\" class=\"col_heading level1 col19\" >100</th>\n",
       "      <th id=\"T_a4a67_level1_col20\" class=\"col_heading level1 col20\" >150</th>\n",
       "    </tr>\n",
       "  </thead>\n",
       "  <tbody>\n",
       "    <tr>\n",
       "      <th id=\"T_a4a67_level0_row0\" class=\"row_heading level0 row0\" >amax</th>\n",
       "      <td id=\"T_a4a67_row0_col0\" class=\"data row0 col0\" >1.00%</td>\n",
       "      <td id=\"T_a4a67_row0_col1\" class=\"data row0 col1\" >82.50%</td>\n",
       "      <td id=\"T_a4a67_row0_col2\" class=\"data row0 col2\" >93.50%</td>\n",
       "      <td id=\"T_a4a67_row0_col3\" class=\"data row0 col3\" >95.00%</td>\n",
       "      <td id=\"T_a4a67_row0_col4\" class=\"data row0 col4\" >96.00%</td>\n",
       "      <td id=\"T_a4a67_row0_col5\" class=\"data row0 col5\" >97.00%</td>\n",
       "      <td id=\"T_a4a67_row0_col6\" class=\"data row0 col6\" >98.00%</td>\n",
       "      <td id=\"T_a4a67_row0_col7\" class=\"data row0 col7\" >94.50%</td>\n",
       "      <td id=\"T_a4a67_row0_col8\" class=\"data row0 col8\" >96.00%</td>\n",
       "      <td id=\"T_a4a67_row0_col9\" class=\"data row0 col9\" >97.50%</td>\n",
       "      <td id=\"T_a4a67_row0_col10\" class=\"data row0 col10\" >98.00%</td>\n",
       "      <td id=\"T_a4a67_row0_col11\" class=\"data row0 col11\" >98.00%</td>\n",
       "      <td id=\"T_a4a67_row0_col12\" class=\"data row0 col12\" >99.50%</td>\n",
       "      <td id=\"T_a4a67_row0_col13\" class=\"data row0 col13\" >100.00%</td>\n",
       "      <td id=\"T_a4a67_row0_col14\" class=\"data row0 col14\" >97.50%</td>\n",
       "      <td id=\"T_a4a67_row0_col15\" class=\"data row0 col15\" >99.00%</td>\n",
       "      <td id=\"T_a4a67_row0_col16\" class=\"data row0 col16\" >99.50%</td>\n",
       "      <td id=\"T_a4a67_row0_col17\" class=\"data row0 col17\" >100.00%</td>\n",
       "      <td id=\"T_a4a67_row0_col18\" class=\"data row0 col18\" >100.00%</td>\n",
       "      <td id=\"T_a4a67_row0_col19\" class=\"data row0 col19\" >100.00%</td>\n",
       "      <td id=\"T_a4a67_row0_col20\" class=\"data row0 col20\" >100.00%</td>\n",
       "    </tr>\n",
       "    <tr>\n",
       "      <th id=\"T_a4a67_level0_row1\" class=\"row_heading level0 row1\" >mean</th>\n",
       "      <td id=\"T_a4a67_row1_col0\" class=\"data row1 col0\" >0.62%</td>\n",
       "      <td id=\"T_a4a67_row1_col1\" class=\"data row1 col1\" >74.55%</td>\n",
       "      <td id=\"T_a4a67_row1_col2\" class=\"data row1 col2\" >90.38%</td>\n",
       "      <td id=\"T_a4a67_row1_col3\" class=\"data row1 col3\" >91.68%</td>\n",
       "      <td id=\"T_a4a67_row1_col4\" class=\"data row1 col4\" >94.08%</td>\n",
       "      <td id=\"T_a4a67_row1_col5\" class=\"data row1 col5\" >94.92%</td>\n",
       "      <td id=\"T_a4a67_row1_col6\" class=\"data row1 col6\" >95.65%</td>\n",
       "      <td id=\"T_a4a67_row1_col7\" class=\"data row1 col7\" >92.08%</td>\n",
       "      <td id=\"T_a4a67_row1_col8\" class=\"data row1 col8\" >94.18%</td>\n",
       "      <td id=\"T_a4a67_row1_col9\" class=\"data row1 col9\" >94.50%</td>\n",
       "      <td id=\"T_a4a67_row1_col10\" class=\"data row1 col10\" >95.60%</td>\n",
       "      <td id=\"T_a4a67_row1_col11\" class=\"data row1 col11\" >96.12%</td>\n",
       "      <td id=\"T_a4a67_row1_col12\" class=\"data row1 col12\" >98.02%</td>\n",
       "      <td id=\"T_a4a67_row1_col13\" class=\"data row1 col13\" >98.38%</td>\n",
       "      <td id=\"T_a4a67_row1_col14\" class=\"data row1 col14\" >95.57%</td>\n",
       "      <td id=\"T_a4a67_row1_col15\" class=\"data row1 col15\" >96.70%</td>\n",
       "      <td id=\"T_a4a67_row1_col16\" class=\"data row1 col16\" >97.83%</td>\n",
       "      <td id=\"T_a4a67_row1_col17\" class=\"data row1 col17\" >99.00%</td>\n",
       "      <td id=\"T_a4a67_row1_col18\" class=\"data row1 col18\" >99.88%</td>\n",
       "      <td id=\"T_a4a67_row1_col19\" class=\"data row1 col19\" >100.00%</td>\n",
       "      <td id=\"T_a4a67_row1_col20\" class=\"data row1 col20\" >100.00%</td>\n",
       "    </tr>\n",
       "  </tbody>\n",
       "</table>\n"
      ],
      "text/plain": [
       "<pandas.io.formats.style.Styler at 0x7f8dfa2b24d0>"
      ]
     },
     "execution_count": 192,
     "metadata": {},
     "output_type": "execute_result"
    }
   ],
   "source": [
    "styles = [{'selector': 'th', 'props': [('vertical-align','top'),('text-align','left')]}]  #('border-style', 'solid')\n",
    "styler = lambda df: df.style.format('{:.2%}'.format).set_table_styles(styles) #{\"amax\": '{:.0%}'.format, \"mean\": '{:.2%}'.format}\n",
    "\n",
    "df = pd.DataFrame(results, columns=pd.MultiIndex.from_arrays(list(zip(*results.keys())), names=[\"Precision\", \"Max-Dims\"]))\n",
    "df = df.agg([np.max, np.mean])  #, np.std\n",
    "df = df.T.sort_index().T\n",
    "styler(df)"
   ]
  },
  {
   "cell_type": "markdown",
   "id": "ec593001-ebc5-49a7-a91a-f79d7eb331bd",
   "metadata": {},
   "source": [
    "With three **random** directions we can on average recover 95% of courses!!"
   ]
  },
  {
   "cell_type": "markdown",
   "id": "e5051ae2-b05e-4513-a2a7-aec0eb109b7d",
   "metadata": {},
   "source": [
    "## We don't even need to use classifiers, we can just look at the number of duplicates dependent on the number and precision of dimensions"
   ]
  },
  {
   "cell_type": "code",
   "execution_count": 544,
   "id": "46936e54-2983-4bb9-bbf0-2448a07b91d9",
   "metadata": {},
   "outputs": [],
   "source": [
    "def count_dups(ranked, digit_bins, max_dirs, noise_lvl=(0,), repeat=1):\n",
    "    total = len(digit_bins) * len(max_dirs) * len(noise_lvl) * repeat\n",
    "    with tqdm(total=total) as pgbar:\n",
    "        res = {}\n",
    "        for bins in digit_bins:\n",
    "            for dirs in max_dirs:\n",
    "                for noise in noise_lvl:\n",
    "                    dup_num, dup_in = [], []\n",
    "                    for ntrial in range(repeat):\n",
    "                        clone = ranked.copy()\n",
    "                        clone = clone[np.random.choice(clone.columns, dirs, replace=False)]\n",
    "                        clone += np.random.normal(0, noise, clone.values.shape)\n",
    "                        clone = clone.apply(lambda x: np.digitize(x, bins=np.linspace(0, 1, bins)))\n",
    "                        \n",
    "                        n_dups = clone.groupby(clone.columns.tolist()).size()\n",
    "                        dup_num.append(n_dups[n_dups > 1].sum())\n",
    "                        dup_in.append(n_dups[n_dups > 1].count())\n",
    "                        pgbar.update(1)\n",
    "                    res[(bins, dirs, noise)] = dict(value_space=min(bins**dirs, 2**99),\n",
    "                                                    dup_num_max=np.array(dup_num).max(), dup_num_mean=np.array(dup_num).mean(), \n",
    "                                                    dup_in_max=np.array(dup_in).max(), dup_in_mean=np.array(dup_in).mean())\n",
    "                    \n",
    "    return res"
   ]
  },
  {
   "cell_type": "code",
   "execution_count": 573,
   "id": "ba9256e1-6310-4bfd-aa98-f4274cdfda36",
   "metadata": {},
   "outputs": [
    {
     "data": {
      "text/html": [
       "<style type=\"text/css\">\n",
       "#T_a6f77 th {\n",
       "  vertical-align: top;\n",
       "  text-align: left;\n",
       "}\n",
       "</style>\n",
       "<table id=\"T_a6f77\">\n",
       "  <thead>\n",
       "    <tr>\n",
       "      <th class=\"index_name level0\" >#bins</th>\n",
       "      <th id=\"T_a6f77_level0_col0\" class=\"col_heading level0 col0\" colspan=\"7\">2</th>\n",
       "      <th id=\"T_a6f77_level0_col7\" class=\"col_heading level0 col7\" colspan=\"7\">11</th>\n",
       "      <th id=\"T_a6f77_level0_col14\" class=\"col_heading level0 col14\" colspan=\"7\">23</th>\n",
       "      <th id=\"T_a6f77_level0_col21\" class=\"col_heading level0 col21\" colspan=\"7\">116</th>\n",
       "      <th id=\"T_a6f77_level0_col28\" class=\"col_heading level0 col28\" colspan=\"7\">232</th>\n",
       "      <th id=\"T_a6f77_level0_col35\" class=\"col_heading level0 col35\" colspan=\"7\">1160</th>\n",
       "    </tr>\n",
       "    <tr>\n",
       "      <th class=\"index_name level1\" >#dims</th>\n",
       "      <th id=\"T_a6f77_level1_col0\" class=\"col_heading level1 col0\" >3</th>\n",
       "      <th id=\"T_a6f77_level1_col1\" class=\"col_heading level1 col1\" >5</th>\n",
       "      <th id=\"T_a6f77_level1_col2\" class=\"col_heading level1 col2\" >10</th>\n",
       "      <th id=\"T_a6f77_level1_col3\" class=\"col_heading level1 col3\" >20</th>\n",
       "      <th id=\"T_a6f77_level1_col4\" class=\"col_heading level1 col4\" >50</th>\n",
       "      <th id=\"T_a6f77_level1_col5\" class=\"col_heading level1 col5\" >100</th>\n",
       "      <th id=\"T_a6f77_level1_col6\" class=\"col_heading level1 col6\" >200</th>\n",
       "      <th id=\"T_a6f77_level1_col7\" class=\"col_heading level1 col7\" >3</th>\n",
       "      <th id=\"T_a6f77_level1_col8\" class=\"col_heading level1 col8\" >5</th>\n",
       "      <th id=\"T_a6f77_level1_col9\" class=\"col_heading level1 col9\" >10</th>\n",
       "      <th id=\"T_a6f77_level1_col10\" class=\"col_heading level1 col10\" >20</th>\n",
       "      <th id=\"T_a6f77_level1_col11\" class=\"col_heading level1 col11\" >50</th>\n",
       "      <th id=\"T_a6f77_level1_col12\" class=\"col_heading level1 col12\" >100</th>\n",
       "      <th id=\"T_a6f77_level1_col13\" class=\"col_heading level1 col13\" >200</th>\n",
       "      <th id=\"T_a6f77_level1_col14\" class=\"col_heading level1 col14\" >3</th>\n",
       "      <th id=\"T_a6f77_level1_col15\" class=\"col_heading level1 col15\" >5</th>\n",
       "      <th id=\"T_a6f77_level1_col16\" class=\"col_heading level1 col16\" >10</th>\n",
       "      <th id=\"T_a6f77_level1_col17\" class=\"col_heading level1 col17\" >20</th>\n",
       "      <th id=\"T_a6f77_level1_col18\" class=\"col_heading level1 col18\" >50</th>\n",
       "      <th id=\"T_a6f77_level1_col19\" class=\"col_heading level1 col19\" >100</th>\n",
       "      <th id=\"T_a6f77_level1_col20\" class=\"col_heading level1 col20\" >200</th>\n",
       "      <th id=\"T_a6f77_level1_col21\" class=\"col_heading level1 col21\" >3</th>\n",
       "      <th id=\"T_a6f77_level1_col22\" class=\"col_heading level1 col22\" >5</th>\n",
       "      <th id=\"T_a6f77_level1_col23\" class=\"col_heading level1 col23\" >10</th>\n",
       "      <th id=\"T_a6f77_level1_col24\" class=\"col_heading level1 col24\" >20</th>\n",
       "      <th id=\"T_a6f77_level1_col25\" class=\"col_heading level1 col25\" >50</th>\n",
       "      <th id=\"T_a6f77_level1_col26\" class=\"col_heading level1 col26\" >100</th>\n",
       "      <th id=\"T_a6f77_level1_col27\" class=\"col_heading level1 col27\" >200</th>\n",
       "      <th id=\"T_a6f77_level1_col28\" class=\"col_heading level1 col28\" >3</th>\n",
       "      <th id=\"T_a6f77_level1_col29\" class=\"col_heading level1 col29\" >5</th>\n",
       "      <th id=\"T_a6f77_level1_col30\" class=\"col_heading level1 col30\" >10</th>\n",
       "      <th id=\"T_a6f77_level1_col31\" class=\"col_heading level1 col31\" >20</th>\n",
       "      <th id=\"T_a6f77_level1_col32\" class=\"col_heading level1 col32\" >50</th>\n",
       "      <th id=\"T_a6f77_level1_col33\" class=\"col_heading level1 col33\" >100</th>\n",
       "      <th id=\"T_a6f77_level1_col34\" class=\"col_heading level1 col34\" >200</th>\n",
       "      <th id=\"T_a6f77_level1_col35\" class=\"col_heading level1 col35\" >3</th>\n",
       "      <th id=\"T_a6f77_level1_col36\" class=\"col_heading level1 col36\" >5</th>\n",
       "      <th id=\"T_a6f77_level1_col37\" class=\"col_heading level1 col37\" >10</th>\n",
       "      <th id=\"T_a6f77_level1_col38\" class=\"col_heading level1 col38\" >20</th>\n",
       "      <th id=\"T_a6f77_level1_col39\" class=\"col_heading level1 col39\" >50</th>\n",
       "      <th id=\"T_a6f77_level1_col40\" class=\"col_heading level1 col40\" >100</th>\n",
       "      <th id=\"T_a6f77_level1_col41\" class=\"col_heading level1 col41\" >200</th>\n",
       "    </tr>\n",
       "    <tr>\n",
       "      <th class=\"index_name level2\" >noise</th>\n",
       "      <th id=\"T_a6f77_level2_col0\" class=\"col_heading level2 col0\" >0</th>\n",
       "      <th id=\"T_a6f77_level2_col1\" class=\"col_heading level2 col1\" >0</th>\n",
       "      <th id=\"T_a6f77_level2_col2\" class=\"col_heading level2 col2\" >0</th>\n",
       "      <th id=\"T_a6f77_level2_col3\" class=\"col_heading level2 col3\" >0</th>\n",
       "      <th id=\"T_a6f77_level2_col4\" class=\"col_heading level2 col4\" >0</th>\n",
       "      <th id=\"T_a6f77_level2_col5\" class=\"col_heading level2 col5\" >0</th>\n",
       "      <th id=\"T_a6f77_level2_col6\" class=\"col_heading level2 col6\" >0</th>\n",
       "      <th id=\"T_a6f77_level2_col7\" class=\"col_heading level2 col7\" >0</th>\n",
       "      <th id=\"T_a6f77_level2_col8\" class=\"col_heading level2 col8\" >0</th>\n",
       "      <th id=\"T_a6f77_level2_col9\" class=\"col_heading level2 col9\" >0</th>\n",
       "      <th id=\"T_a6f77_level2_col10\" class=\"col_heading level2 col10\" >0</th>\n",
       "      <th id=\"T_a6f77_level2_col11\" class=\"col_heading level2 col11\" >0</th>\n",
       "      <th id=\"T_a6f77_level2_col12\" class=\"col_heading level2 col12\" >0</th>\n",
       "      <th id=\"T_a6f77_level2_col13\" class=\"col_heading level2 col13\" >0</th>\n",
       "      <th id=\"T_a6f77_level2_col14\" class=\"col_heading level2 col14\" >0</th>\n",
       "      <th id=\"T_a6f77_level2_col15\" class=\"col_heading level2 col15\" >0</th>\n",
       "      <th id=\"T_a6f77_level2_col16\" class=\"col_heading level2 col16\" >0</th>\n",
       "      <th id=\"T_a6f77_level2_col17\" class=\"col_heading level2 col17\" >0</th>\n",
       "      <th id=\"T_a6f77_level2_col18\" class=\"col_heading level2 col18\" >0</th>\n",
       "      <th id=\"T_a6f77_level2_col19\" class=\"col_heading level2 col19\" >0</th>\n",
       "      <th id=\"T_a6f77_level2_col20\" class=\"col_heading level2 col20\" >0</th>\n",
       "      <th id=\"T_a6f77_level2_col21\" class=\"col_heading level2 col21\" >0</th>\n",
       "      <th id=\"T_a6f77_level2_col22\" class=\"col_heading level2 col22\" >0</th>\n",
       "      <th id=\"T_a6f77_level2_col23\" class=\"col_heading level2 col23\" >0</th>\n",
       "      <th id=\"T_a6f77_level2_col24\" class=\"col_heading level2 col24\" >0</th>\n",
       "      <th id=\"T_a6f77_level2_col25\" class=\"col_heading level2 col25\" >0</th>\n",
       "      <th id=\"T_a6f77_level2_col26\" class=\"col_heading level2 col26\" >0</th>\n",
       "      <th id=\"T_a6f77_level2_col27\" class=\"col_heading level2 col27\" >0</th>\n",
       "      <th id=\"T_a6f77_level2_col28\" class=\"col_heading level2 col28\" >0</th>\n",
       "      <th id=\"T_a6f77_level2_col29\" class=\"col_heading level2 col29\" >0</th>\n",
       "      <th id=\"T_a6f77_level2_col30\" class=\"col_heading level2 col30\" >0</th>\n",
       "      <th id=\"T_a6f77_level2_col31\" class=\"col_heading level2 col31\" >0</th>\n",
       "      <th id=\"T_a6f77_level2_col32\" class=\"col_heading level2 col32\" >0</th>\n",
       "      <th id=\"T_a6f77_level2_col33\" class=\"col_heading level2 col33\" >0</th>\n",
       "      <th id=\"T_a6f77_level2_col34\" class=\"col_heading level2 col34\" >0</th>\n",
       "      <th id=\"T_a6f77_level2_col35\" class=\"col_heading level2 col35\" >0</th>\n",
       "      <th id=\"T_a6f77_level2_col36\" class=\"col_heading level2 col36\" >0</th>\n",
       "      <th id=\"T_a6f77_level2_col37\" class=\"col_heading level2 col37\" >0</th>\n",
       "      <th id=\"T_a6f77_level2_col38\" class=\"col_heading level2 col38\" >0</th>\n",
       "      <th id=\"T_a6f77_level2_col39\" class=\"col_heading level2 col39\" >0</th>\n",
       "      <th id=\"T_a6f77_level2_col40\" class=\"col_heading level2 col40\" >0</th>\n",
       "      <th id=\"T_a6f77_level2_col41\" class=\"col_heading level2 col41\" >0</th>\n",
       "    </tr>\n",
       "  </thead>\n",
       "  <tbody>\n",
       "    <tr>\n",
       "      <th id=\"T_a6f77_level0_row0\" class=\"row_heading level0 row0\" >value_fill</th>\n",
       "      <td id=\"T_a6f77_row0_col0\" class=\"data row0 col0\" >50.00%</td>\n",
       "      <td id=\"T_a6f77_row0_col1\" class=\"data row0 col1\" >18.75%</td>\n",
       "      <td id=\"T_a6f77_row0_col2\" class=\"data row0 col2\" >1.08%</td>\n",
       "      <td id=\"T_a6f77_row0_col3\" class=\"data row0 col3\" >0.00%</td>\n",
       "      <td id=\"T_a6f77_row0_col4\" class=\"data row0 col4\" >0.00%</td>\n",
       "      <td id=\"T_a6f77_row0_col5\" class=\"data row0 col5\" >0.00%</td>\n",
       "      <td id=\"T_a6f77_row0_col6\" class=\"data row0 col6\" >0.00%</td>\n",
       "      <td id=\"T_a6f77_row0_col7\" class=\"data row0 col7\" >74.78%</td>\n",
       "      <td id=\"T_a6f77_row0_col8\" class=\"data row0 col8\" >0.76%</td>\n",
       "      <td id=\"T_a6f77_row0_col9\" class=\"data row0 col9\" >0.00%</td>\n",
       "      <td id=\"T_a6f77_row0_col10\" class=\"data row0 col10\" >0.00%</td>\n",
       "      <td id=\"T_a6f77_row0_col11\" class=\"data row0 col11\" >0.00%</td>\n",
       "      <td id=\"T_a6f77_row0_col12\" class=\"data row0 col12\" >0.00%</td>\n",
       "      <td id=\"T_a6f77_row0_col13\" class=\"data row0 col13\" >0.00%</td>\n",
       "      <td id=\"T_a6f77_row0_col14\" class=\"data row0 col14\" >25.10%</td>\n",
       "      <td id=\"T_a6f77_row0_col15\" class=\"data row0 col15\" >0.01%</td>\n",
       "      <td id=\"T_a6f77_row0_col16\" class=\"data row0 col16\" >0.00%</td>\n",
       "      <td id=\"T_a6f77_row0_col17\" class=\"data row0 col17\" >0.00%</td>\n",
       "      <td id=\"T_a6f77_row0_col18\" class=\"data row0 col18\" >0.00%</td>\n",
       "      <td id=\"T_a6f77_row0_col19\" class=\"data row0 col19\" >0.00%</td>\n",
       "      <td id=\"T_a6f77_row0_col20\" class=\"data row0 col20\" >0.00%</td>\n",
       "      <td id=\"T_a6f77_row0_col21\" class=\"data row0 col21\" >0.02%</td>\n",
       "      <td id=\"T_a6f77_row0_col22\" class=\"data row0 col22\" >0.00%</td>\n",
       "      <td id=\"T_a6f77_row0_col23\" class=\"data row0 col23\" >0.00%</td>\n",
       "      <td id=\"T_a6f77_row0_col24\" class=\"data row0 col24\" >0.00%</td>\n",
       "      <td id=\"T_a6f77_row0_col25\" class=\"data row0 col25\" >0.00%</td>\n",
       "      <td id=\"T_a6f77_row0_col26\" class=\"data row0 col26\" >0.00%</td>\n",
       "      <td id=\"T_a6f77_row0_col27\" class=\"data row0 col27\" >0.00%</td>\n",
       "      <td id=\"T_a6f77_row0_col28\" class=\"data row0 col28\" >0.00%</td>\n",
       "      <td id=\"T_a6f77_row0_col29\" class=\"data row0 col29\" >0.00%</td>\n",
       "      <td id=\"T_a6f77_row0_col30\" class=\"data row0 col30\" >0.00%</td>\n",
       "      <td id=\"T_a6f77_row0_col31\" class=\"data row0 col31\" >0.00%</td>\n",
       "      <td id=\"T_a6f77_row0_col32\" class=\"data row0 col32\" >0.00%</td>\n",
       "      <td id=\"T_a6f77_row0_col33\" class=\"data row0 col33\" >0.00%</td>\n",
       "      <td id=\"T_a6f77_row0_col34\" class=\"data row0 col34\" >0.00%</td>\n",
       "      <td id=\"T_a6f77_row0_col35\" class=\"data row0 col35\" >0.00%</td>\n",
       "      <td id=\"T_a6f77_row0_col36\" class=\"data row0 col36\" >0.00%</td>\n",
       "      <td id=\"T_a6f77_row0_col37\" class=\"data row0 col37\" >0.00%</td>\n",
       "      <td id=\"T_a6f77_row0_col38\" class=\"data row0 col38\" >0.00%</td>\n",
       "      <td id=\"T_a6f77_row0_col39\" class=\"data row0 col39\" >0.00%</td>\n",
       "      <td id=\"T_a6f77_row0_col40\" class=\"data row0 col40\" >0.00%</td>\n",
       "      <td id=\"T_a6f77_row0_col41\" class=\"data row0 col41\" >0.00%</td>\n",
       "    </tr>\n",
       "    <tr>\n",
       "      <th id=\"T_a6f77_level0_row1\" class=\"row_heading level0 row1\" >dup_perc</th>\n",
       "      <td id=\"T_a6f77_row1_col0\" class=\"data row1 col0\" >100.00%</td>\n",
       "      <td id=\"T_a6f77_row1_col1\" class=\"data row1 col1\" >100.00%</td>\n",
       "      <td id=\"T_a6f77_row1_col2\" class=\"data row1 col2\" >100.00%</td>\n",
       "      <td id=\"T_a6f77_row1_col3\" class=\"data row1 col3\" >100.00%</td>\n",
       "      <td id=\"T_a6f77_row1_col4\" class=\"data row1 col4\" >99.97%</td>\n",
       "      <td id=\"T_a6f77_row1_col5\" class=\"data row1 col5\" >99.88%</td>\n",
       "      <td id=\"T_a6f77_row1_col6\" class=\"data row1 col6\" >99.55%</td>\n",
       "      <td id=\"T_a6f77_row1_col7\" class=\"data row1 col7\" >99.85%</td>\n",
       "      <td id=\"T_a6f77_row1_col8\" class=\"data row1 col8\" >24.91%</td>\n",
       "      <td id=\"T_a6f77_row1_col9\" class=\"data row1 col9\" >10.18%</td>\n",
       "      <td id=\"T_a6f77_row1_col10\" class=\"data row1 col10\" >7.41%</td>\n",
       "      <td id=\"T_a6f77_row1_col11\" class=\"data row1 col11\" >5.46%</td>\n",
       "      <td id=\"T_a6f77_row1_col12\" class=\"data row1 col12\" >4.80%</td>\n",
       "      <td id=\"T_a6f77_row1_col13\" class=\"data row1 col13\" >4.36%</td>\n",
       "      <td id=\"T_a6f77_row1_col14\" class=\"data row1 col14\" >68.98%</td>\n",
       "      <td id=\"T_a6f77_row1_col15\" class=\"data row1 col15\" >9.79%</td>\n",
       "      <td id=\"T_a6f77_row1_col16\" class=\"data row1 col16\" >6.90%</td>\n",
       "      <td id=\"T_a6f77_row1_col17\" class=\"data row1 col17\" >5.58%</td>\n",
       "      <td id=\"T_a6f77_row1_col18\" class=\"data row1 col18\" >4.72%</td>\n",
       "      <td id=\"T_a6f77_row1_col19\" class=\"data row1 col19\" >4.18%</td>\n",
       "      <td id=\"T_a6f77_row1_col20\" class=\"data row1 col20\" >3.44%</td>\n",
       "      <td id=\"T_a6f77_row1_col21\" class=\"data row1 col21\" >6.85%</td>\n",
       "      <td id=\"T_a6f77_row1_col22\" class=\"data row1 col22\" >5.25%</td>\n",
       "      <td id=\"T_a6f77_row1_col23\" class=\"data row1 col23\" >4.67%</td>\n",
       "      <td id=\"T_a6f77_row1_col24\" class=\"data row1 col24\" >4.23%</td>\n",
       "      <td id=\"T_a6f77_row1_col25\" class=\"data row1 col25\" >3.19%</td>\n",
       "      <td id=\"T_a6f77_row1_col26\" class=\"data row1 col26\" >1.94%</td>\n",
       "      <td id=\"T_a6f77_row1_col27\" class=\"data row1 col27\" >0.67%</td>\n",
       "      <td id=\"T_a6f77_row1_col28\" class=\"data row1 col28\" >5.25%</td>\n",
       "      <td id=\"T_a6f77_row1_col29\" class=\"data row1 col29\" >4.72%</td>\n",
       "      <td id=\"T_a6f77_row1_col30\" class=\"data row1 col30\" >4.23%</td>\n",
       "      <td id=\"T_a6f77_row1_col31\" class=\"data row1 col31\" >3.52%</td>\n",
       "      <td id=\"T_a6f77_row1_col32\" class=\"data row1 col32\" >1.89%</td>\n",
       "      <td id=\"T_a6f77_row1_col33\" class=\"data row1 col33\" >0.65%</td>\n",
       "      <td id=\"T_a6f77_row1_col34\" class=\"data row1 col34\" >0.09%</td>\n",
       "      <td id=\"T_a6f77_row1_col35\" class=\"data row1 col35\" >3.97%</td>\n",
       "      <td id=\"T_a6f77_row1_col36\" class=\"data row1 col36\" >3.42%</td>\n",
       "      <td id=\"T_a6f77_row1_col37\" class=\"data row1 col37\" >2.11%</td>\n",
       "      <td id=\"T_a6f77_row1_col38\" class=\"data row1 col38\" >0.79%</td>\n",
       "      <td id=\"T_a6f77_row1_col39\" class=\"data row1 col39\" >0.05%</td>\n",
       "      <td id=\"T_a6f77_row1_col40\" class=\"data row1 col40\" >0.00%</td>\n",
       "      <td id=\"T_a6f77_row1_col41\" class=\"data row1 col41\" >0.00%</td>\n",
       "    </tr>\n",
       "  </tbody>\n",
       "</table>\n"
      ],
      "text/plain": [
       "<pandas.io.formats.style.Styler at 0x7f8de9f67eb0>"
      ]
     },
     "execution_count": 573,
     "metadata": {},
     "output_type": "execute_result"
    }
   ],
   "source": [
    "nbins = [len(clone)//5000, len(clone)//1000, len(clone)//500, len(clone)//100,  len(clone)//50, len(clone)//10]\n",
    "ndims = [3, 5, 10, 20, 50, 100, 200]\n",
    "noise = [0]\n",
    "\n",
    "res = count_dups(ranked, nbins, ndims, noise_lvl=noise, repeat=20)\n",
    "#display(pd.DataFrame(res, columns=pd.MultiIndex.from_arrays(list(zip(*res.keys())), names=[\"#bins\", \"#dims\", \"noise\"])))\n",
    "res = {k: dict(value_fill = v[\"dup_in_mean\"]/v[\"value_space\"], dup_perc = v[\"dup_num_mean\"]/len(clone)) for k, v in res.items()}\n",
    "\n",
    "styles = [{'selector': 'th', 'props': [('vertical-align','top'),('text-align','left')]}]  \n",
    "styler = lambda df: df.style.format('{:.2%}'.format).set_table_styles(styles) \n",
    "df = pd.DataFrame(res, columns=pd.MultiIndex.from_arrays(list(zip(*res.keys())), names=[\"#bins\", \"#dims\", \"noise\"]))\n",
    "styler(df)"
   ]
  },
  {
   "cell_type": "code",
   "execution_count": 578,
   "id": "fae659da-8204-44c6-9186-4da307723903",
   "metadata": {},
   "outputs": [
    {
     "data": {
      "text/html": [
       "<style type=\"text/css\">\n",
       "#T_2dd06 th {\n",
       "  vertical-align: top;\n",
       "  text-align: left;\n",
       "}\n",
       "</style>\n",
       "<table id=\"T_2dd06\">\n",
       "  <thead>\n",
       "    <tr>\n",
       "      <th class=\"blank level0\" >&nbsp;</th>\n",
       "      <th id=\"T_2dd06_level0_col0\" class=\"col_heading level0 col0\" colspan=\"6\">dup_perc</th>\n",
       "    </tr>\n",
       "    <tr>\n",
       "      <th class=\"index_name level1\" >#bins</th>\n",
       "      <th id=\"T_2dd06_level1_col0\" class=\"col_heading level1 col0\" >2</th>\n",
       "      <th id=\"T_2dd06_level1_col1\" class=\"col_heading level1 col1\" >11</th>\n",
       "      <th id=\"T_2dd06_level1_col2\" class=\"col_heading level1 col2\" >23</th>\n",
       "      <th id=\"T_2dd06_level1_col3\" class=\"col_heading level1 col3\" >116</th>\n",
       "      <th id=\"T_2dd06_level1_col4\" class=\"col_heading level1 col4\" >232</th>\n",
       "      <th id=\"T_2dd06_level1_col5\" class=\"col_heading level1 col5\" >1160</th>\n",
       "    </tr>\n",
       "    <tr>\n",
       "      <th class=\"index_name level0\" >#dims</th>\n",
       "      <th class=\"blank col0\" >&nbsp;</th>\n",
       "      <th class=\"blank col1\" >&nbsp;</th>\n",
       "      <th class=\"blank col2\" >&nbsp;</th>\n",
       "      <th class=\"blank col3\" >&nbsp;</th>\n",
       "      <th class=\"blank col4\" >&nbsp;</th>\n",
       "      <th class=\"blank col5\" >&nbsp;</th>\n",
       "    </tr>\n",
       "  </thead>\n",
       "  <tbody>\n",
       "    <tr>\n",
       "      <th id=\"T_2dd06_level0_row0\" class=\"row_heading level0 row0\" >3</th>\n",
       "      <td id=\"T_2dd06_row0_col0\" class=\"data row0 col0\" >100.00%</td>\n",
       "      <td id=\"T_2dd06_row0_col1\" class=\"data row0 col1\" >99.85%</td>\n",
       "      <td id=\"T_2dd06_row0_col2\" class=\"data row0 col2\" >68.98%</td>\n",
       "      <td id=\"T_2dd06_row0_col3\" class=\"data row0 col3\" >6.85%</td>\n",
       "      <td id=\"T_2dd06_row0_col4\" class=\"data row0 col4\" >5.25%</td>\n",
       "      <td id=\"T_2dd06_row0_col5\" class=\"data row0 col5\" >3.97%</td>\n",
       "    </tr>\n",
       "    <tr>\n",
       "      <th id=\"T_2dd06_level0_row1\" class=\"row_heading level0 row1\" >5</th>\n",
       "      <td id=\"T_2dd06_row1_col0\" class=\"data row1 col0\" >100.00%</td>\n",
       "      <td id=\"T_2dd06_row1_col1\" class=\"data row1 col1\" >24.91%</td>\n",
       "      <td id=\"T_2dd06_row1_col2\" class=\"data row1 col2\" >9.79%</td>\n",
       "      <td id=\"T_2dd06_row1_col3\" class=\"data row1 col3\" >5.25%</td>\n",
       "      <td id=\"T_2dd06_row1_col4\" class=\"data row1 col4\" >4.72%</td>\n",
       "      <td id=\"T_2dd06_row1_col5\" class=\"data row1 col5\" >3.42%</td>\n",
       "    </tr>\n",
       "    <tr>\n",
       "      <th id=\"T_2dd06_level0_row2\" class=\"row_heading level0 row2\" >10</th>\n",
       "      <td id=\"T_2dd06_row2_col0\" class=\"data row2 col0\" >100.00%</td>\n",
       "      <td id=\"T_2dd06_row2_col1\" class=\"data row2 col1\" >10.18%</td>\n",
       "      <td id=\"T_2dd06_row2_col2\" class=\"data row2 col2\" >6.90%</td>\n",
       "      <td id=\"T_2dd06_row2_col3\" class=\"data row2 col3\" >4.67%</td>\n",
       "      <td id=\"T_2dd06_row2_col4\" class=\"data row2 col4\" >4.23%</td>\n",
       "      <td id=\"T_2dd06_row2_col5\" class=\"data row2 col5\" >2.11%</td>\n",
       "    </tr>\n",
       "    <tr>\n",
       "      <th id=\"T_2dd06_level0_row3\" class=\"row_heading level0 row3\" >20</th>\n",
       "      <td id=\"T_2dd06_row3_col0\" class=\"data row3 col0\" >100.00%</td>\n",
       "      <td id=\"T_2dd06_row3_col1\" class=\"data row3 col1\" >7.41%</td>\n",
       "      <td id=\"T_2dd06_row3_col2\" class=\"data row3 col2\" >5.58%</td>\n",
       "      <td id=\"T_2dd06_row3_col3\" class=\"data row3 col3\" >4.23%</td>\n",
       "      <td id=\"T_2dd06_row3_col4\" class=\"data row3 col4\" >3.52%</td>\n",
       "      <td id=\"T_2dd06_row3_col5\" class=\"data row3 col5\" >0.79%</td>\n",
       "    </tr>\n",
       "    <tr>\n",
       "      <th id=\"T_2dd06_level0_row4\" class=\"row_heading level0 row4\" >50</th>\n",
       "      <td id=\"T_2dd06_row4_col0\" class=\"data row4 col0\" >99.97%</td>\n",
       "      <td id=\"T_2dd06_row4_col1\" class=\"data row4 col1\" >5.46%</td>\n",
       "      <td id=\"T_2dd06_row4_col2\" class=\"data row4 col2\" >4.72%</td>\n",
       "      <td id=\"T_2dd06_row4_col3\" class=\"data row4 col3\" >3.19%</td>\n",
       "      <td id=\"T_2dd06_row4_col4\" class=\"data row4 col4\" >1.89%</td>\n",
       "      <td id=\"T_2dd06_row4_col5\" class=\"data row4 col5\" >0.05%</td>\n",
       "    </tr>\n",
       "    <tr>\n",
       "      <th id=\"T_2dd06_level0_row5\" class=\"row_heading level0 row5\" >100</th>\n",
       "      <td id=\"T_2dd06_row5_col0\" class=\"data row5 col0\" >99.88%</td>\n",
       "      <td id=\"T_2dd06_row5_col1\" class=\"data row5 col1\" >4.80%</td>\n",
       "      <td id=\"T_2dd06_row5_col2\" class=\"data row5 col2\" >4.18%</td>\n",
       "      <td id=\"T_2dd06_row5_col3\" class=\"data row5 col3\" >1.94%</td>\n",
       "      <td id=\"T_2dd06_row5_col4\" class=\"data row5 col4\" >0.65%</td>\n",
       "      <td id=\"T_2dd06_row5_col5\" class=\"data row5 col5\" >0.00%</td>\n",
       "    </tr>\n",
       "    <tr>\n",
       "      <th id=\"T_2dd06_level0_row6\" class=\"row_heading level0 row6\" >200</th>\n",
       "      <td id=\"T_2dd06_row6_col0\" class=\"data row6 col0\" >99.55%</td>\n",
       "      <td id=\"T_2dd06_row6_col1\" class=\"data row6 col1\" >4.36%</td>\n",
       "      <td id=\"T_2dd06_row6_col2\" class=\"data row6 col2\" >3.44%</td>\n",
       "      <td id=\"T_2dd06_row6_col3\" class=\"data row6 col3\" >0.67%</td>\n",
       "      <td id=\"T_2dd06_row6_col4\" class=\"data row6 col4\" >0.09%</td>\n",
       "      <td id=\"T_2dd06_row6_col5\" class=\"data row6 col5\" >0.00%</td>\n",
       "    </tr>\n",
       "  </tbody>\n",
       "</table>\n"
      ],
      "text/plain": [
       "<pandas.io.formats.style.Styler at 0x7f8de9f3cac0>"
      ]
     },
     "execution_count": 578,
     "metadata": {},
     "output_type": "execute_result"
    }
   ],
   "source": [
    "df = pd.DataFrame({k[:2]:v[\"dup_perc\"] for k,v in res.items()}, columns=pd.MultiIndex.from_arrays(list(zip(*res.keys()))[:2], names=[\"#bins\", \"#dims\"]), index=[\"dup_perc\"])\n",
    "df = df.T.unstack(level=[0])\n",
    "styler(df)"
   ]
  },
  {
   "cell_type": "code",
   "execution_count": 591,
   "id": "a9c90fb6-ce41-4f2f-bdb3-17ec88e5e72a",
   "metadata": {},
   "outputs": [],
   "source": [
    "pyperclip.copy(df_to_latex(df, styler, rotate=False, caption=\"This algorithm on Placetypes\"), multi_ind=False)"
   ]
  },
  {
   "cell_type": "code",
   "execution_count": null,
   "id": "f92ea80a-e999-4a6f-9b9c-633a48ebba5c",
   "metadata": {},
   "outputs": [],
   "source": []
  },
  {
   "cell_type": "markdown",
   "id": "1572d7ef-3ea5-4a0b-86dc-7e452cd84e7b",
   "metadata": {},
   "source": [
    "<br><br><br><br><br><br>"
   ]
  },
  {
   "cell_type": "code",
   "execution_count": null,
   "id": "82f4fb7c-06c1-47fd-bcf8-eaaaa05da2ce",
   "metadata": {},
   "outputs": [],
   "source": []
  },
  {
   "cell_type": "markdown",
   "id": "862a3efc-4ac6-4b84-8196-0c2cddd15c36",
   "metadata": {},
   "source": [
    "## Analyzing what becomes duplicates may reveal actual duplicate courses!"
   ]
  },
  {
   "cell_type": "code",
   "execution_count": null,
   "id": "4d0b1561-d676-4868-ab6f-692336ea2202",
   "metadata": {},
   "outputs": [],
   "source": [
    "max_dirs, digit_bins = 3, len(clone)//500\n",
    "print(\"n-cats:\", digit_bins)\n",
    "res = []\n",
    "for _ in range(100):\n",
    "    targets = [0]*len(clone)\n",
    "    targets[i] = 1\n",
    "    clf = DecisionTreeClassifier()\n",
    "    clf.fit(clone.values, targets)\n",
    "    result = clf.predict(clone.values)\n",
    "    res.append((result == targets).all())\n",
    "np.array(res).mean()"
   ]
  },
  {
   "cell_type": "code",
   "execution_count": 437,
   "id": "6fc69aba-c16c-49d2-9e14-89b1d5049063",
   "metadata": {},
   "outputs": [
    {
     "data": {
      "text/markdown": [
       "<span style=\"font-size:11pt\">Duplicates: 8093 (69.76%) entities share 2990 values (value-space 24.57% filled)</span>"
      ],
      "text/plain": [
       "<IPython.core.display.Markdown object>"
      ]
     },
     "metadata": {},
     "output_type": "display_data"
    },
    {
     "data": {
      "text/html": [
       "<div>\n",
       "<style scoped>\n",
       "    .dataframe tbody tr th:only-of-type {\n",
       "        vertical-align: middle;\n",
       "    }\n",
       "\n",
       "    .dataframe tbody tr th {\n",
       "        vertical-align: top;\n",
       "    }\n",
       "\n",
       "    .dataframe thead th {\n",
       "        text-align: right;\n",
       "    }\n",
       "</style>\n",
       "<table border=\"1\" class=\"dataframe\">\n",
       "  <thead>\n",
       "    <tr style=\"text-align: right;\">\n",
       "      <th></th>\n",
       "      <th>strukturierten</th>\n",
       "      <th>internationales</th>\n",
       "      <th>1950er</th>\n",
       "    </tr>\n",
       "  </thead>\n",
       "  <tbody>\n",
       "    <tr>\n",
       "      <th>!! FÄLLT AUS !! Anna Seghers: Das siebte Kreuz (1942)</th>\n",
       "      <td>2</td>\n",
       "      <td>15</td>\n",
       "      <td>18</td>\n",
       "    </tr>\n",
       "    <tr>\n",
       "      <th>Anna Seghers: Das siebte Kreuz (1942)</th>\n",
       "      <td>2</td>\n",
       "      <td>15</td>\n",
       "      <td>18</td>\n",
       "    </tr>\n",
       "    <tr>\n",
       "      <th>Anna Seghers: Das siebte Kreuz (1942) (NDL 2)</th>\n",
       "      <td>2</td>\n",
       "      <td>15</td>\n",
       "      <td>18</td>\n",
       "    </tr>\n",
       "    <tr>\n",
       "      <th>Friedrich Hebbel: Agnes Bernauer (1852)</th>\n",
       "      <td>2</td>\n",
       "      <td>15</td>\n",
       "      <td>18</td>\n",
       "    </tr>\n",
       "  </tbody>\n",
       "</table>\n",
       "</div>"
      ],
      "text/plain": [
       "                                                    strukturierten  \\\n",
       "!! FÄLLT AUS !! Anna Seghers: Das siebte Kreuz ...               2   \n",
       "Anna Seghers: Das siebte Kreuz (1942)                            2   \n",
       "Anna Seghers: Das siebte Kreuz (1942) (NDL 2)                    2   \n",
       "Friedrich Hebbel: Agnes Bernauer (1852)                          2   \n",
       "\n",
       "                                                    internationales  1950er  \n",
       "!! FÄLLT AUS !! Anna Seghers: Das siebte Kreuz ...               15      18  \n",
       "Anna Seghers: Das siebte Kreuz (1942)                            15      18  \n",
       "Anna Seghers: Das siebte Kreuz (1942) (NDL 2)                    15      18  \n",
       "Friedrich Hebbel: Agnes Bernauer (1852)                          15      18  "
      ]
     },
     "metadata": {},
     "output_type": "display_data"
    }
   ],
   "source": [
    "n_dups = clone.groupby(clone.columns.tolist()).size()\n",
    "dup_num, dup_in = n_dups[n_dups > 1].sum(), n_dups[n_dups > 1].count()\n",
    "print(f\"Duplicates: {dup_num} ({dup_num/len(clone):.2%}) entities share {dup_in} values (value-space {dup_in/(digit_bins**max_dirs):.2%} filled)\")\n",
    "\n",
    "display(clone[(clone == (clone.iloc[np.argmax(np.array(targets))].values)).all(axis=1)])"
   ]
  }
 ],
 "metadata": {
  "kernelspec": {
   "display_name": "Python 3 (ipykernel)",
   "language": "python",
   "name": "python3"
  },
  "language_info": {
   "codemirror_mode": {
    "name": "ipython",
    "version": 3
   },
   "file_extension": ".py",
   "mimetype": "text/x-python",
   "name": "python",
   "nbconvert_exporter": "python",
   "pygments_lexer": "ipython3",
   "version": "3.10.0"
  },
  "widgets": {
   "application/vnd.jupyter.widget-state+json": {
    "state": {},
    "version_major": 2,
    "version_minor": 0
   }
  }
 },
 "nbformat": 4,
 "nbformat_minor": 5
}
