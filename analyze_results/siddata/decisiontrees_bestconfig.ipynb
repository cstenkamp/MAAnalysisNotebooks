{
 "cells": [
  {
   "cell_type": "code",
   "execution_count": 4,
   "id": "49c4bcd7-3c78-4eee-87f7-e43f8decd338",
   "metadata": {},
   "outputs": [],
   "source": [
    "from derive_conceptualspace.evaluate.shallow_trees import classify_shallowtree\n",
    "from derive_conceptualspace.pipeline import SnakeContext, load_envfiles\n",
    "from derive_conceptualspace.util.result_analysis_tools import get_best_conf, highlight_nonzero_max, highlight_max\n",
    "from derive_conceptualspace.cli.args_from_filename import get_filename, print_envvars\n",
    "from misc_util.logutils import setup_logging\n",
    "\n",
    "import warnings\n",
    "warnings.simplefilter(action='ignore', category=FutureWarning)"
   ]
  },
  {
   "cell_type": "markdown",
   "id": "566e8832-1205-4a43-bf99-3540f7634ab2",
   "metadata": {},
   "source": [
    "## Let's first create a quick table of the best configs"
   ]
  },
  {
   "cell_type": "code",
   "execution_count": 102,
   "id": "e4e804b2-60e4-4915-89e8-9d06276d6a0f",
   "metadata": {},
   "outputs": [],
   "source": [
    "import pandas as pd\n",
    "import numpy as np\n",
    "import pyperclip\n",
    "from derive_conceptualspace.util.result_analysis_tools import df_to_latex, shorten_met\n",
    "from derive_conceptualspace.util.desc_object import DescriptionList\n",
    "from derive_conceptualspace.pipeline import cluster_loader\n",
    "from joblib import parallel_backend\n",
    "import matplotlib.pyplot as plt\n",
    "from matplotlib.backends.backend_pdf import PdfPages\n",
    "from IPython.display import Markdown\n",
    "flatten = lambda l: [item for sublist in l for item in sublist] "
   ]
  },
  {
   "cell_type": "code",
   "execution_count": 3,
   "id": "9a280efe-7d9e-4c79-b16d-d33add8ba04b",
   "metadata": {},
   "outputs": [],
   "source": [
    "setup_logging()\n",
    "load_envfiles(\"siddata\")"
   ]
  },
  {
   "cell_type": "code",
   "execution_count": 3,
   "id": "5788b996-9708-4f3c-952b-f2ec5019336c",
   "metadata": {},
   "outputs": [
    {
     "data": {
      "application/vnd.jupyter.widget-view+json": {
       "model_id": "cad1e65c48234efb9a06f3fd1bd38ebb",
       "version_major": 2,
       "version_minor": 0
      },
      "text/plain": [
       "Getting Best-Performing Config [5 procs]:   0%|          | 0/165 [00:00<?, ?it/s]"
      ]
     },
     "metadata": {},
     "output_type": "display_data"
    }
   ],
   "source": [
    "conf_results = get_best_conf(\"fachbereich\", verbose=False, balance_classes=True, \n",
    "                             one_vs_rest=True, dt_depth=1, test_percentage_crossval=0.3, return_all=True, nprocs=5)"
   ]
  },
  {
   "cell_type": "code",
   "execution_count": 25,
   "id": "8550c797-72a0-4f56-a720-4ab22c5aa4df",
   "metadata": {},
   "outputs": [
    {
     "data": {
      "text/html": [
       "<style type=\"text/css\">\n",
       "#T_433ee th {\n",
       "  vertical-align: top;\n",
       "  text-align: left;\n",
       "}\n",
       "#T_433ee_row3_col15 {\n",
       "  background-color: lightgreen;\n",
       "}\n",
       "</style>\n",
       "<table id=\"T_433ee\">\n",
       "  <thead>\n",
       "    <tr>\n",
       "      <th class=\"blank\" >&nbsp;</th>\n",
       "      <th class=\"blank\" >&nbsp;</th>\n",
       "      <th class=\"blank level0\" >&nbsp;</th>\n",
       "      <th id=\"T_433ee_level0_col0\" class=\"col_heading level0 col0\" colspan=\"18\">accuracy</th>\n",
       "    </tr>\n",
       "    <tr>\n",
       "      <th class=\"blank\" >&nbsp;</th>\n",
       "      <th class=\"blank\" >&nbsp;</th>\n",
       "      <th class=\"index_name level1\" >classifier_succmetric</th>\n",
       "      <th id=\"T_433ee_level1_col0\" class=\"col_heading level1 col0\" colspan=\"2\">k_c2r+</th>\n",
       "      <th id=\"T_433ee_level1_col2\" class=\"col_heading level1 col2\" colspan=\"2\">k_dig+_2</th>\n",
       "      <th id=\"T_433ee_level1_col4\" class=\"col_heading level1 col4\" colspan=\"2\">k_r2r+_min</th>\n",
       "      <th id=\"T_433ee_level1_col6\" class=\"col_heading level1 col6\" colspan=\"2\">k_c2r+</th>\n",
       "      <th id=\"T_433ee_level1_col8\" class=\"col_heading level1 col8\" colspan=\"2\">k_dig+_2</th>\n",
       "      <th id=\"T_433ee_level1_col10\" class=\"col_heading level1 col10\" colspan=\"2\">k_r2r+_min</th>\n",
       "      <th id=\"T_433ee_level1_col12\" class=\"col_heading level1 col12\" colspan=\"2\">k_c2r+</th>\n",
       "      <th id=\"T_433ee_level1_col14\" class=\"col_heading level1 col14\" colspan=\"2\">k_dig+_2</th>\n",
       "      <th id=\"T_433ee_level1_col16\" class=\"col_heading level1 col16\" colspan=\"2\">k_r2r+_min</th>\n",
       "    </tr>\n",
       "    <tr>\n",
       "      <th class=\"blank\" >&nbsp;</th>\n",
       "      <th class=\"blank\" >&nbsp;</th>\n",
       "      <th class=\"index_name level2\" >embed_dimensions</th>\n",
       "      <th id=\"T_433ee_level2_col0\" class=\"col_heading level2 col0\" colspan=\"2\">3</th>\n",
       "      <th id=\"T_433ee_level2_col2\" class=\"col_heading level2 col2\" colspan=\"2\">3</th>\n",
       "      <th id=\"T_433ee_level2_col4\" class=\"col_heading level2 col4\" colspan=\"2\">3</th>\n",
       "      <th id=\"T_433ee_level2_col6\" class=\"col_heading level2 col6\" colspan=\"2\">50</th>\n",
       "      <th id=\"T_433ee_level2_col8\" class=\"col_heading level2 col8\" colspan=\"2\">50</th>\n",
       "      <th id=\"T_433ee_level2_col10\" class=\"col_heading level2 col10\" colspan=\"2\">50</th>\n",
       "      <th id=\"T_433ee_level2_col12\" class=\"col_heading level2 col12\" colspan=\"2\">200</th>\n",
       "      <th id=\"T_433ee_level2_col14\" class=\"col_heading level2 col14\" colspan=\"2\">200</th>\n",
       "      <th id=\"T_433ee_level2_col16\" class=\"col_heading level2 col16\" colspan=\"2\">200</th>\n",
       "    </tr>\n",
       "    <tr>\n",
       "      <th class=\"blank\" >&nbsp;</th>\n",
       "      <th class=\"blank\" >&nbsp;</th>\n",
       "      <th class=\"index_name level3\" >sec_lambda</th>\n",
       "      <th id=\"T_433ee_level3_col0\" class=\"col_heading level3 col0\" >0.1</th>\n",
       "      <th id=\"T_433ee_level3_col1\" class=\"col_heading level3 col1\" >0.2</th>\n",
       "      <th id=\"T_433ee_level3_col2\" class=\"col_heading level3 col2\" >0.1</th>\n",
       "      <th id=\"T_433ee_level3_col3\" class=\"col_heading level3 col3\" >0.2</th>\n",
       "      <th id=\"T_433ee_level3_col4\" class=\"col_heading level3 col4\" >0.1</th>\n",
       "      <th id=\"T_433ee_level3_col5\" class=\"col_heading level3 col5\" >0.2</th>\n",
       "      <th id=\"T_433ee_level3_col6\" class=\"col_heading level3 col6\" >0.1</th>\n",
       "      <th id=\"T_433ee_level3_col7\" class=\"col_heading level3 col7\" >0.2</th>\n",
       "      <th id=\"T_433ee_level3_col8\" class=\"col_heading level3 col8\" >0.1</th>\n",
       "      <th id=\"T_433ee_level3_col9\" class=\"col_heading level3 col9\" >0.2</th>\n",
       "      <th id=\"T_433ee_level3_col10\" class=\"col_heading level3 col10\" >0.1</th>\n",
       "      <th id=\"T_433ee_level3_col11\" class=\"col_heading level3 col11\" >0.2</th>\n",
       "      <th id=\"T_433ee_level3_col12\" class=\"col_heading level3 col12\" >0.1</th>\n",
       "      <th id=\"T_433ee_level3_col13\" class=\"col_heading level3 col13\" >0.2</th>\n",
       "      <th id=\"T_433ee_level3_col14\" class=\"col_heading level3 col14\" >0.1</th>\n",
       "      <th id=\"T_433ee_level3_col15\" class=\"col_heading level3 col15\" >0.2</th>\n",
       "      <th id=\"T_433ee_level3_col16\" class=\"col_heading level3 col16\" >0.1</th>\n",
       "      <th id=\"T_433ee_level3_col17\" class=\"col_heading level3 col17\" >0.2</th>\n",
       "    </tr>\n",
       "    <tr>\n",
       "      <th class=\"index_name level0\" >pp_components</th>\n",
       "      <th class=\"index_name level1\" >quantification_measure</th>\n",
       "      <th class=\"index_name level2\" >dcm_quant_measure</th>\n",
       "      <th class=\"blank col0\" >&nbsp;</th>\n",
       "      <th class=\"blank col1\" >&nbsp;</th>\n",
       "      <th class=\"blank col2\" >&nbsp;</th>\n",
       "      <th class=\"blank col3\" >&nbsp;</th>\n",
       "      <th class=\"blank col4\" >&nbsp;</th>\n",
       "      <th class=\"blank col5\" >&nbsp;</th>\n",
       "      <th class=\"blank col6\" >&nbsp;</th>\n",
       "      <th class=\"blank col7\" >&nbsp;</th>\n",
       "      <th class=\"blank col8\" >&nbsp;</th>\n",
       "      <th class=\"blank col9\" >&nbsp;</th>\n",
       "      <th class=\"blank col10\" >&nbsp;</th>\n",
       "      <th class=\"blank col11\" >&nbsp;</th>\n",
       "      <th class=\"blank col12\" >&nbsp;</th>\n",
       "      <th class=\"blank col13\" >&nbsp;</th>\n",
       "      <th class=\"blank col14\" >&nbsp;</th>\n",
       "      <th class=\"blank col15\" >&nbsp;</th>\n",
       "      <th class=\"blank col16\" >&nbsp;</th>\n",
       "      <th class=\"blank col17\" >&nbsp;</th>\n",
       "    </tr>\n",
       "  </thead>\n",
       "  <tbody>\n",
       "    <tr>\n",
       "      <th id=\"T_433ee_level0_row0\" class=\"row_heading level0 row0\" rowspan=\"6\">mfauhcsd2</th>\n",
       "      <th id=\"T_433ee_level1_row0\" class=\"row_heading level1 row0\" rowspan=\"3\">ppmi</th>\n",
       "      <th id=\"T_433ee_level2_row0\" class=\"row_heading level2 row0\" >count</th>\n",
       "      <td id=\"T_433ee_row0_col0\" class=\"data row0 col0\" >55.02%</td>\n",
       "      <td id=\"T_433ee_row0_col1\" class=\"data row0 col1\" >48.09%</td>\n",
       "      <td id=\"T_433ee_row0_col2\" class=\"data row0 col2\" >50.57%</td>\n",
       "      <td id=\"T_433ee_row0_col3\" class=\"data row0 col3\" >58.31%</td>\n",
       "      <td id=\"T_433ee_row0_col4\" class=\"data row0 col4\" >62.21%</td>\n",
       "      <td id=\"T_433ee_row0_col5\" class=\"data row0 col5\" >67.31%</td>\n",
       "      <td id=\"T_433ee_row0_col6\" class=\"data row0 col6\" >42.53%</td>\n",
       "      <td id=\"T_433ee_row0_col7\" class=\"data row0 col7\" >35.55%</td>\n",
       "      <td id=\"T_433ee_row0_col8\" class=\"data row0 col8\" >75.87%</td>\n",
       "      <td id=\"T_433ee_row0_col9\" class=\"data row0 col9\" >75.43%</td>\n",
       "      <td id=\"T_433ee_row0_col10\" class=\"data row0 col10\" >75.34%</td>\n",
       "      <td id=\"T_433ee_row0_col11\" class=\"data row0 col11\" >74.40%</td>\n",
       "      <td id=\"T_433ee_row0_col12\" class=\"data row0 col12\" >42.11%</td>\n",
       "      <td id=\"T_433ee_row0_col13\" class=\"data row0 col13\" >44.69%</td>\n",
       "      <td id=\"T_433ee_row0_col14\" class=\"data row0 col14\" >79.74%</td>\n",
       "      <td id=\"T_433ee_row0_col15\" class=\"data row0 col15\" >77.13%</td>\n",
       "      <td id=\"T_433ee_row0_col16\" class=\"data row0 col16\" >69.86%</td>\n",
       "      <td id=\"T_433ee_row0_col17\" class=\"data row0 col17\" >75.05%</td>\n",
       "    </tr>\n",
       "    <tr>\n",
       "      <th id=\"T_433ee_level2_row1\" class=\"row_heading level2 row1\" >ppmi</th>\n",
       "      <td id=\"T_433ee_row1_col0\" class=\"data row1 col0\" >-</td>\n",
       "      <td id=\"T_433ee_row1_col1\" class=\"data row1 col1\" >-</td>\n",
       "      <td id=\"T_433ee_row1_col2\" class=\"data row1 col2\" >65.31%</td>\n",
       "      <td id=\"T_433ee_row1_col3\" class=\"data row1 col3\" >64.84%</td>\n",
       "      <td id=\"T_433ee_row1_col4\" class=\"data row1 col4\" >64.41%</td>\n",
       "      <td id=\"T_433ee_row1_col5\" class=\"data row1 col5\" >64.43%</td>\n",
       "      <td id=\"T_433ee_row1_col6\" class=\"data row1 col6\" >-</td>\n",
       "      <td id=\"T_433ee_row1_col7\" class=\"data row1 col7\" >-</td>\n",
       "      <td id=\"T_433ee_row1_col8\" class=\"data row1 col8\" >57.52%</td>\n",
       "      <td id=\"T_433ee_row1_col9\" class=\"data row1 col9\" >57.61%</td>\n",
       "      <td id=\"T_433ee_row1_col10\" class=\"data row1 col10\" >76.38%</td>\n",
       "      <td id=\"T_433ee_row1_col11\" class=\"data row1 col11\" >75.58%</td>\n",
       "      <td id=\"T_433ee_row1_col12\" class=\"data row1 col12\" >-</td>\n",
       "      <td id=\"T_433ee_row1_col13\" class=\"data row1 col13\" >-</td>\n",
       "      <td id=\"T_433ee_row1_col14\" class=\"data row1 col14\" >56.23%</td>\n",
       "      <td id=\"T_433ee_row1_col15\" class=\"data row1 col15\" >64.93%</td>\n",
       "      <td id=\"T_433ee_row1_col16\" class=\"data row1 col16\" >76.56%</td>\n",
       "      <td id=\"T_433ee_row1_col17\" class=\"data row1 col17\" >77.46%</td>\n",
       "    </tr>\n",
       "    <tr>\n",
       "      <th id=\"T_433ee_level2_row2\" class=\"row_heading level2 row2\" >tfidf</th>\n",
       "      <td id=\"T_433ee_row2_col0\" class=\"data row2 col0\" >-</td>\n",
       "      <td id=\"T_433ee_row2_col1\" class=\"data row2 col1\" >-</td>\n",
       "      <td id=\"T_433ee_row2_col2\" class=\"data row2 col2\" >55.96%</td>\n",
       "      <td id=\"T_433ee_row2_col3\" class=\"data row2 col3\" >64.98%</td>\n",
       "      <td id=\"T_433ee_row2_col4\" class=\"data row2 col4\" >65.51%</td>\n",
       "      <td id=\"T_433ee_row2_col5\" class=\"data row2 col5\" >67.46%</td>\n",
       "      <td id=\"T_433ee_row2_col6\" class=\"data row2 col6\" >-</td>\n",
       "      <td id=\"T_433ee_row2_col7\" class=\"data row2 col7\" >-</td>\n",
       "      <td id=\"T_433ee_row2_col8\" class=\"data row2 col8\" >76.11%</td>\n",
       "      <td id=\"T_433ee_row2_col9\" class=\"data row2 col9\" >75.39%</td>\n",
       "      <td id=\"T_433ee_row2_col10\" class=\"data row2 col10\" >72.43%</td>\n",
       "      <td id=\"T_433ee_row2_col11\" class=\"data row2 col11\" >72.82%</td>\n",
       "      <td id=\"T_433ee_row2_col12\" class=\"data row2 col12\" >-</td>\n",
       "      <td id=\"T_433ee_row2_col13\" class=\"data row2 col13\" >-</td>\n",
       "      <td id=\"T_433ee_row2_col14\" class=\"data row2 col14\" >74.60%</td>\n",
       "      <td id=\"T_433ee_row2_col15\" class=\"data row2 col15\" >77.87%</td>\n",
       "      <td id=\"T_433ee_row2_col16\" class=\"data row2 col16\" >76.20%</td>\n",
       "      <td id=\"T_433ee_row2_col17\" class=\"data row2 col17\" >72.63%</td>\n",
       "    </tr>\n",
       "    <tr>\n",
       "      <th id=\"T_433ee_level1_row3\" class=\"row_heading level1 row3\" rowspan=\"3\">tfidf</th>\n",
       "      <th id=\"T_433ee_level2_row3\" class=\"row_heading level2 row3\" >count</th>\n",
       "      <td id=\"T_433ee_row3_col0\" class=\"data row3 col0\" >43.97%</td>\n",
       "      <td id=\"T_433ee_row3_col1\" class=\"data row3 col1\" >47.78%</td>\n",
       "      <td id=\"T_433ee_row3_col2\" class=\"data row3 col2\" >45.32%</td>\n",
       "      <td id=\"T_433ee_row3_col3\" class=\"data row3 col3\" >48.04%</td>\n",
       "      <td id=\"T_433ee_row3_col4\" class=\"data row3 col4\" >59.53%</td>\n",
       "      <td id=\"T_433ee_row3_col5\" class=\"data row3 col5\" >60.71%</td>\n",
       "      <td id=\"T_433ee_row3_col6\" class=\"data row3 col6\" >58.60%</td>\n",
       "      <td id=\"T_433ee_row3_col7\" class=\"data row3 col7\" >43.35%</td>\n",
       "      <td id=\"T_433ee_row3_col8\" class=\"data row3 col8\" >76.27%</td>\n",
       "      <td id=\"T_433ee_row3_col9\" class=\"data row3 col9\" >76.12%</td>\n",
       "      <td id=\"T_433ee_row3_col10\" class=\"data row3 col10\" >72.08%</td>\n",
       "      <td id=\"T_433ee_row3_col11\" class=\"data row3 col11\" >78.45%</td>\n",
       "      <td id=\"T_433ee_row3_col12\" class=\"data row3 col12\" >51.91%</td>\n",
       "      <td id=\"T_433ee_row3_col13\" class=\"data row3 col13\" >45.28%</td>\n",
       "      <td id=\"T_433ee_row3_col14\" class=\"data row3 col14\" >79.06%</td>\n",
       "      <td id=\"T_433ee_row3_col15\" class=\"data row3 col15\" >82.06%</td>\n",
       "      <td id=\"T_433ee_row3_col16\" class=\"data row3 col16\" >-</td>\n",
       "      <td id=\"T_433ee_row3_col17\" class=\"data row3 col17\" >81.38%</td>\n",
       "    </tr>\n",
       "    <tr>\n",
       "      <th id=\"T_433ee_level2_row4\" class=\"row_heading level2 row4\" >ppmi</th>\n",
       "      <td id=\"T_433ee_row4_col0\" class=\"data row4 col0\" >-</td>\n",
       "      <td id=\"T_433ee_row4_col1\" class=\"data row4 col1\" >-</td>\n",
       "      <td id=\"T_433ee_row4_col2\" class=\"data row4 col2\" >56.57%</td>\n",
       "      <td id=\"T_433ee_row4_col3\" class=\"data row4 col3\" >60.85%</td>\n",
       "      <td id=\"T_433ee_row4_col4\" class=\"data row4 col4\" >53.67%</td>\n",
       "      <td id=\"T_433ee_row4_col5\" class=\"data row4 col5\" >55.30%</td>\n",
       "      <td id=\"T_433ee_row4_col6\" class=\"data row4 col6\" >-</td>\n",
       "      <td id=\"T_433ee_row4_col7\" class=\"data row4 col7\" >-</td>\n",
       "      <td id=\"T_433ee_row4_col8\" class=\"data row4 col8\" >77.79%</td>\n",
       "      <td id=\"T_433ee_row4_col9\" class=\"data row4 col9\" >80.95%</td>\n",
       "      <td id=\"T_433ee_row4_col10\" class=\"data row4 col10\" >78.69%</td>\n",
       "      <td id=\"T_433ee_row4_col11\" class=\"data row4 col11\" >79.55%</td>\n",
       "      <td id=\"T_433ee_row4_col12\" class=\"data row4 col12\" >-</td>\n",
       "      <td id=\"T_433ee_row4_col13\" class=\"data row4 col13\" >-</td>\n",
       "      <td id=\"T_433ee_row4_col14\" class=\"data row4 col14\" >74.57%</td>\n",
       "      <td id=\"T_433ee_row4_col15\" class=\"data row4 col15\" >70.68%</td>\n",
       "      <td id=\"T_433ee_row4_col16\" class=\"data row4 col16\" >79.48%</td>\n",
       "      <td id=\"T_433ee_row4_col17\" class=\"data row4 col17\" >79.19%</td>\n",
       "    </tr>\n",
       "    <tr>\n",
       "      <th id=\"T_433ee_level2_row5\" class=\"row_heading level2 row5\" >tfidf</th>\n",
       "      <td id=\"T_433ee_row5_col0\" class=\"data row5 col0\" >-</td>\n",
       "      <td id=\"T_433ee_row5_col1\" class=\"data row5 col1\" >-</td>\n",
       "      <td id=\"T_433ee_row5_col2\" class=\"data row5 col2\" >54.34%</td>\n",
       "      <td id=\"T_433ee_row5_col3\" class=\"data row5 col3\" >53.91%</td>\n",
       "      <td id=\"T_433ee_row5_col4\" class=\"data row5 col4\" >56.88%</td>\n",
       "      <td id=\"T_433ee_row5_col5\" class=\"data row5 col5\" >59.36%</td>\n",
       "      <td id=\"T_433ee_row5_col6\" class=\"data row5 col6\" >-</td>\n",
       "      <td id=\"T_433ee_row5_col7\" class=\"data row5 col7\" >-</td>\n",
       "      <td id=\"T_433ee_row5_col8\" class=\"data row5 col8\" >76.65%</td>\n",
       "      <td id=\"T_433ee_row5_col9\" class=\"data row5 col9\" >77.54%</td>\n",
       "      <td id=\"T_433ee_row5_col10\" class=\"data row5 col10\" >76.15%</td>\n",
       "      <td id=\"T_433ee_row5_col11\" class=\"data row5 col11\" >74.95%</td>\n",
       "      <td id=\"T_433ee_row5_col12\" class=\"data row5 col12\" >-</td>\n",
       "      <td id=\"T_433ee_row5_col13\" class=\"data row5 col13\" >-</td>\n",
       "      <td id=\"T_433ee_row5_col14\" class=\"data row5 col14\" >-</td>\n",
       "      <td id=\"T_433ee_row5_col15\" class=\"data row5 col15\" >79.72%</td>\n",
       "      <td id=\"T_433ee_row5_col16\" class=\"data row5 col16\" >78.32%</td>\n",
       "      <td id=\"T_433ee_row5_col17\" class=\"data row5 col17\" >77.10%</td>\n",
       "    </tr>\n",
       "    <tr>\n",
       "      <th id=\"T_433ee_level0_row6\" class=\"row_heading level0 row6\" rowspan=\"6\">mfauhtcsldp</th>\n",
       "      <th id=\"T_433ee_level1_row6\" class=\"row_heading level1 row6\" rowspan=\"3\">ppmi</th>\n",
       "      <th id=\"T_433ee_level2_row6\" class=\"row_heading level2 row6\" >count</th>\n",
       "      <td id=\"T_433ee_row6_col0\" class=\"data row6 col0\" >-</td>\n",
       "      <td id=\"T_433ee_row6_col1\" class=\"data row6 col1\" >50.59%</td>\n",
       "      <td id=\"T_433ee_row6_col2\" class=\"data row6 col2\" >59.14%</td>\n",
       "      <td id=\"T_433ee_row6_col3\" class=\"data row6 col3\" >58.60%</td>\n",
       "      <td id=\"T_433ee_row6_col4\" class=\"data row6 col4\" >55.88%</td>\n",
       "      <td id=\"T_433ee_row6_col5\" class=\"data row6 col5\" >66.87%</td>\n",
       "      <td id=\"T_433ee_row6_col6\" class=\"data row6 col6\" >43.80%</td>\n",
       "      <td id=\"T_433ee_row6_col7\" class=\"data row6 col7\" >41.91%</td>\n",
       "      <td id=\"T_433ee_row6_col8\" class=\"data row6 col8\" >74.54%</td>\n",
       "      <td id=\"T_433ee_row6_col9\" class=\"data row6 col9\" >76.13%</td>\n",
       "      <td id=\"T_433ee_row6_col10\" class=\"data row6 col10\" >72.43%</td>\n",
       "      <td id=\"T_433ee_row6_col11\" class=\"data row6 col11\" >73.45%</td>\n",
       "      <td id=\"T_433ee_row6_col12\" class=\"data row6 col12\" >41.47%</td>\n",
       "      <td id=\"T_433ee_row6_col13\" class=\"data row6 col13\" >43.41%</td>\n",
       "      <td id=\"T_433ee_row6_col14\" class=\"data row6 col14\" >78.77%</td>\n",
       "      <td id=\"T_433ee_row6_col15\" class=\"data row6 col15\" >77.12%</td>\n",
       "      <td id=\"T_433ee_row6_col16\" class=\"data row6 col16\" >69.31%</td>\n",
       "      <td id=\"T_433ee_row6_col17\" class=\"data row6 col17\" >72.29%</td>\n",
       "    </tr>\n",
       "    <tr>\n",
       "      <th id=\"T_433ee_level2_row7\" class=\"row_heading level2 row7\" >ppmi</th>\n",
       "      <td id=\"T_433ee_row7_col0\" class=\"data row7 col0\" >-</td>\n",
       "      <td id=\"T_433ee_row7_col1\" class=\"data row7 col1\" >-</td>\n",
       "      <td id=\"T_433ee_row7_col2\" class=\"data row7 col2\" >58.32%</td>\n",
       "      <td id=\"T_433ee_row7_col3\" class=\"data row7 col3\" >58.55%</td>\n",
       "      <td id=\"T_433ee_row7_col4\" class=\"data row7 col4\" >59.14%</td>\n",
       "      <td id=\"T_433ee_row7_col5\" class=\"data row7 col5\" >61.42%</td>\n",
       "      <td id=\"T_433ee_row7_col6\" class=\"data row7 col6\" >-</td>\n",
       "      <td id=\"T_433ee_row7_col7\" class=\"data row7 col7\" >-</td>\n",
       "      <td id=\"T_433ee_row7_col8\" class=\"data row7 col8\" >71.10%</td>\n",
       "      <td id=\"T_433ee_row7_col9\" class=\"data row7 col9\" >71.26%</td>\n",
       "      <td id=\"T_433ee_row7_col10\" class=\"data row7 col10\" >75.87%</td>\n",
       "      <td id=\"T_433ee_row7_col11\" class=\"data row7 col11\" >78.57%</td>\n",
       "      <td id=\"T_433ee_row7_col12\" class=\"data row7 col12\" >-</td>\n",
       "      <td id=\"T_433ee_row7_col13\" class=\"data row7 col13\" >-</td>\n",
       "      <td id=\"T_433ee_row7_col14\" class=\"data row7 col14\" >73.68%</td>\n",
       "      <td id=\"T_433ee_row7_col15\" class=\"data row7 col15\" >66.39%</td>\n",
       "      <td id=\"T_433ee_row7_col16\" class=\"data row7 col16\" >79.21%</td>\n",
       "      <td id=\"T_433ee_row7_col17\" class=\"data row7 col17\" >81.55%</td>\n",
       "    </tr>\n",
       "    <tr>\n",
       "      <th id=\"T_433ee_level2_row8\" class=\"row_heading level2 row8\" >tfidf</th>\n",
       "      <td id=\"T_433ee_row8_col0\" class=\"data row8 col0\" >-</td>\n",
       "      <td id=\"T_433ee_row8_col1\" class=\"data row8 col1\" >-</td>\n",
       "      <td id=\"T_433ee_row8_col2\" class=\"data row8 col2\" >69.94%</td>\n",
       "      <td id=\"T_433ee_row8_col3\" class=\"data row8 col3\" >64.25%</td>\n",
       "      <td id=\"T_433ee_row8_col4\" class=\"data row8 col4\" >57.62%</td>\n",
       "      <td id=\"T_433ee_row8_col5\" class=\"data row8 col5\" >58.36%</td>\n",
       "      <td id=\"T_433ee_row8_col6\" class=\"data row8 col6\" >-</td>\n",
       "      <td id=\"T_433ee_row8_col7\" class=\"data row8 col7\" >-</td>\n",
       "      <td id=\"T_433ee_row8_col8\" class=\"data row8 col8\" >75.67%</td>\n",
       "      <td id=\"T_433ee_row8_col9\" class=\"data row8 col9\" >77.19%</td>\n",
       "      <td id=\"T_433ee_row8_col10\" class=\"data row8 col10\" >77.16%</td>\n",
       "      <td id=\"T_433ee_row8_col11\" class=\"data row8 col11\" >77.61%</td>\n",
       "      <td id=\"T_433ee_row8_col12\" class=\"data row8 col12\" >-</td>\n",
       "      <td id=\"T_433ee_row8_col13\" class=\"data row8 col13\" >-</td>\n",
       "      <td id=\"T_433ee_row8_col14\" class=\"data row8 col14\" >78.71%</td>\n",
       "      <td id=\"T_433ee_row8_col15\" class=\"data row8 col15\" >79.37%</td>\n",
       "      <td id=\"T_433ee_row8_col16\" class=\"data row8 col16\" >73.71%</td>\n",
       "      <td id=\"T_433ee_row8_col17\" class=\"data row8 col17\" >78.43%</td>\n",
       "    </tr>\n",
       "    <tr>\n",
       "      <th id=\"T_433ee_level1_row9\" class=\"row_heading level1 row9\" rowspan=\"3\">tfidf</th>\n",
       "      <th id=\"T_433ee_level2_row9\" class=\"row_heading level2 row9\" >count</th>\n",
       "      <td id=\"T_433ee_row9_col0\" class=\"data row9 col0\" >61.78%</td>\n",
       "      <td id=\"T_433ee_row9_col1\" class=\"data row9 col1\" >61.59%</td>\n",
       "      <td id=\"T_433ee_row9_col2\" class=\"data row9 col2\" >51.66%</td>\n",
       "      <td id=\"T_433ee_row9_col3\" class=\"data row9 col3\" >45.55%</td>\n",
       "      <td id=\"T_433ee_row9_col4\" class=\"data row9 col4\" >59.22%</td>\n",
       "      <td id=\"T_433ee_row9_col5\" class=\"data row9 col5\" >62.13%</td>\n",
       "      <td id=\"T_433ee_row9_col6\" class=\"data row9 col6\" >40.13%</td>\n",
       "      <td id=\"T_433ee_row9_col7\" class=\"data row9 col7\" >52.29%</td>\n",
       "      <td id=\"T_433ee_row9_col8\" class=\"data row9 col8\" >80.19%</td>\n",
       "      <td id=\"T_433ee_row9_col9\" class=\"data row9 col9\" >78.85%</td>\n",
       "      <td id=\"T_433ee_row9_col10\" class=\"data row9 col10\" >75.29%</td>\n",
       "      <td id=\"T_433ee_row9_col11\" class=\"data row9 col11\" >78.29%</td>\n",
       "      <td id=\"T_433ee_row9_col12\" class=\"data row9 col12\" >49.64%</td>\n",
       "      <td id=\"T_433ee_row9_col13\" class=\"data row9 col13\" >49.98%</td>\n",
       "      <td id=\"T_433ee_row9_col14\" class=\"data row9 col14\" >81.91%</td>\n",
       "      <td id=\"T_433ee_row9_col15\" class=\"data row9 col15\" >78.52%</td>\n",
       "      <td id=\"T_433ee_row9_col16\" class=\"data row9 col16\" >77.33%</td>\n",
       "      <td id=\"T_433ee_row9_col17\" class=\"data row9 col17\" >78.64%</td>\n",
       "    </tr>\n",
       "    <tr>\n",
       "      <th id=\"T_433ee_level2_row10\" class=\"row_heading level2 row10\" >ppmi</th>\n",
       "      <td id=\"T_433ee_row10_col0\" class=\"data row10 col0\" >-</td>\n",
       "      <td id=\"T_433ee_row10_col1\" class=\"data row10 col1\" >-</td>\n",
       "      <td id=\"T_433ee_row10_col2\" class=\"data row10 col2\" >55.71%</td>\n",
       "      <td id=\"T_433ee_row10_col3\" class=\"data row10 col3\" >58.86%</td>\n",
       "      <td id=\"T_433ee_row10_col4\" class=\"data row10 col4\" >62.65%</td>\n",
       "      <td id=\"T_433ee_row10_col5\" class=\"data row10 col5\" >60.12%</td>\n",
       "      <td id=\"T_433ee_row10_col6\" class=\"data row10 col6\" >-</td>\n",
       "      <td id=\"T_433ee_row10_col7\" class=\"data row10 col7\" >-</td>\n",
       "      <td id=\"T_433ee_row10_col8\" class=\"data row10 col8\" >80.13%</td>\n",
       "      <td id=\"T_433ee_row10_col9\" class=\"data row10 col9\" >79.50%</td>\n",
       "      <td id=\"T_433ee_row10_col10\" class=\"data row10 col10\" >76.52%</td>\n",
       "      <td id=\"T_433ee_row10_col11\" class=\"data row10 col11\" >80.71%</td>\n",
       "      <td id=\"T_433ee_row10_col12\" class=\"data row10 col12\" >-</td>\n",
       "      <td id=\"T_433ee_row10_col13\" class=\"data row10 col13\" >-</td>\n",
       "      <td id=\"T_433ee_row10_col14\" class=\"data row10 col14\" >80.33%</td>\n",
       "      <td id=\"T_433ee_row10_col15\" class=\"data row10 col15\" >79.58%</td>\n",
       "      <td id=\"T_433ee_row10_col16\" class=\"data row10 col16\" >81.73%</td>\n",
       "      <td id=\"T_433ee_row10_col17\" class=\"data row10 col17\" >81.84%</td>\n",
       "    </tr>\n",
       "    <tr>\n",
       "      <th id=\"T_433ee_level2_row11\" class=\"row_heading level2 row11\" >tfidf</th>\n",
       "      <td id=\"T_433ee_row11_col0\" class=\"data row11 col0\" >-</td>\n",
       "      <td id=\"T_433ee_row11_col1\" class=\"data row11 col1\" >-</td>\n",
       "      <td id=\"T_433ee_row11_col2\" class=\"data row11 col2\" >62.80%</td>\n",
       "      <td id=\"T_433ee_row11_col3\" class=\"data row11 col3\" >63.49%</td>\n",
       "      <td id=\"T_433ee_row11_col4\" class=\"data row11 col4\" >62.55%</td>\n",
       "      <td id=\"T_433ee_row11_col5\" class=\"data row11 col5\" >61.28%</td>\n",
       "      <td id=\"T_433ee_row11_col6\" class=\"data row11 col6\" >-</td>\n",
       "      <td id=\"T_433ee_row11_col7\" class=\"data row11 col7\" >-</td>\n",
       "      <td id=\"T_433ee_row11_col8\" class=\"data row11 col8\" >78.38%</td>\n",
       "      <td id=\"T_433ee_row11_col9\" class=\"data row11 col9\" >79.73%</td>\n",
       "      <td id=\"T_433ee_row11_col10\" class=\"data row11 col10\" >78.30%</td>\n",
       "      <td id=\"T_433ee_row11_col11\" class=\"data row11 col11\" >74.95%</td>\n",
       "      <td id=\"T_433ee_row11_col12\" class=\"data row11 col12\" >-</td>\n",
       "      <td id=\"T_433ee_row11_col13\" class=\"data row11 col13\" >-</td>\n",
       "      <td id=\"T_433ee_row11_col14\" class=\"data row11 col14\" >78.13%</td>\n",
       "      <td id=\"T_433ee_row11_col15\" class=\"data row11 col15\" >76.52%</td>\n",
       "      <td id=\"T_433ee_row11_col16\" class=\"data row11 col16\" >79.23%</td>\n",
       "      <td id=\"T_433ee_row11_col17\" class=\"data row11 col17\" >79.33%</td>\n",
       "    </tr>\n",
       "  </tbody>\n",
       "</table>\n"
      ],
      "text/plain": [
       "<pandas.io.formats.style.Styler at 0x7f9e112f54e0>"
      ]
     },
     "metadata": {},
     "output_type": "display_data"
    }
   ],
   "source": [
    "styles = [{'selector': 'th', 'props': [('vertical-align','top'),('text-align','left')]}]  #('border-style', 'solid')\n",
    "styler = lambda df: df.style.format('{:.2%}'.format, na_rep=\"-\").format_index(precision=1,axis=1).set_table_styles(styles) #{\"amax\": '{:.0%}'.format, \"mean\": '{:.2%}'.format}\n",
    "pd.set_option(\"display.precision\", 4)\n",
    "\n",
    "df = conf_results.T.unstack(level=[\"classifier_succmetric\", \"embed_dimensions\", \"sec_lambda\"])\n",
    "df.index = pd.MultiIndex.from_arrays(list(zip(*[[shorten_met(j) for j in i] for i in df.index])), names=df.index.names)\n",
    "df.columns = pd.MultiIndex.from_arrays(list(zip(*[[shorten_met(j) for j in i] for i in df.columns])), names=df.columns.names)\n",
    "\n",
    "display(styler(df).apply(highlight_max, axis=None))\n",
    "\n",
    "pyperclip.copy(df_to_latex(df, styler, rotate=False, caption=\"Decision-Tree-Accuracies for different Parameter-Combinations\"))"
   ]
  },
  {
   "cell_type": "code",
   "execution_count": 30,
   "id": "8212445d-b690-4491-b04c-f5104bf93c14",
   "metadata": {
    "collapsed": true,
    "jupyter": {
     "outputs_hidden": true,
     "source_hidden": true
    },
    "tags": []
   },
   "outputs": [
    {
     "name": "stdout",
     "output_type": "stream",
     "text": [
      "\\begin{table}\n",
      "\\resizebox{\\textwidth}{!}{\\%\n",
      "\\caption{Decision-Tree-Accuracies for different Parameter-Combinations}\n",
      "\\begin{tabular}{lllrrrrrrrrrrrrrrrrrr}\n",
      "\\toprule\n",
      " &  &  & \\textbf{k_c2r+} & \\textbf{k_c2r+} & \\textbf{k_dig+_2} & \\textbf{k_dig+_2} & \\textbf{k_r2r+_min} & \\textbf{k_r2r+_min} & \\textbf{k_c2r+} & \\textbf{k_c2r+} & \\textbf{k_dig+_2} & \\textbf{k_dig+_2} & \\textbf{k_r2r+_min} & \\textbf{k_r2r+_min} & \\textbf{k_c2r+} & \\textbf{k_c2r+} & \\textbf{k_dig+_2} & \\textbf{k_dig+_2} & \\textbf{k_r2r+_min} & \\textbf{k_r2r+_min} \\\\\n",
      "\\textbf{pp_components} & \\textbf{quantification_measure} & \\textbf{dcm_quant_measure} &  &  &  &  &  &  &  &  &  &  &  &  &  &  &  &  &  &  \\\\\n",
      "\\midrule\n",
      "\\multirow[t]{6}{*}{\\textbf{mfauhcsd2}} & \\multirow[t]{3}{*}{\\textbf{ppmi}} & \\textbf{count} & 55.02\\% & 48.09\\% & 50.57\\% & 58.31\\% & 62.21\\% & 67.31\\% & 42.53\\% & 35.55\\% & 75.87\\% & 75.43\\% & 75.34\\% & 74.40\\% & 42.11\\% & 44.69\\% & 79.74\\% & 77.13\\% & 69.86\\% & 75.05\\% \\\\\n",
      " &  & \\textbf{ppmi} & - & - & 65.31\\% & 64.84\\% & 64.41\\% & 64.43\\% & - & - & 57.52\\% & 57.61\\% & 76.38\\% & 75.58\\% & - & - & 56.23\\% & 64.93\\% & 76.56\\% & 77.46\\% \\\\\n",
      " &  & \\textbf{tfidf} & - & - & 55.96\\% & 64.98\\% & 65.51\\% & 67.46\\% & - & - & 76.11\\% & 75.39\\% & 72.43\\% & 72.82\\% & - & - & 74.60\\% & 77.87\\% & 76.20\\% & 72.63\\% \\\\\n",
      "\\cline{2-3}\n",
      " & \\multirow[t]{3}{*}{\\textbf{tfidf}} & \\textbf{count} & 43.97\\% & 47.78\\% & 45.32\\% & 48.04\\% & 59.53\\% & 60.71\\% & 58.60\\% & 43.35\\% & 76.27\\% & 76.12\\% & 72.08\\% & 78.45\\% & 51.91\\% & 45.28\\% & 79.06\\% & 82.06\\% & - & 81.38\\% \\\\\n",
      " &  & \\textbf{ppmi} & - & - & 56.57\\% & 60.85\\% & 53.67\\% & 55.30\\% & - & - & 77.79\\% & 80.95\\% & 78.69\\% & 79.55\\% & - & - & 74.57\\% & 70.68\\% & 79.48\\% & 79.19\\% \\\\\n",
      " &  & \\textbf{tfidf} & - & - & 54.34\\% & 53.91\\% & 56.88\\% & 59.36\\% & - & - & 76.65\\% & 77.54\\% & 76.15\\% & 74.95\\% & - & - & - & 79.72\\% & 78.32\\% & 77.10\\% \\\\\n",
      "\\cline{1-3} \\cline{2-3}\n",
      "\\multirow[t]{6}{*}{\\textbf{mfauhtcsldp}} & \\multirow[t]{3}{*}{\\textbf{ppmi}} & \\textbf{count} & - & 50.59\\% & 59.14\\% & 58.60\\% & 55.88\\% & 66.87\\% & 43.80\\% & 41.91\\% & 74.54\\% & 76.13\\% & 72.43\\% & 73.45\\% & 41.47\\% & 43.41\\% & 78.77\\% & 77.12\\% & 69.31\\% & 72.29\\% \\\\\n",
      " &  & \\textbf{ppmi} & - & - & 58.32\\% & 58.55\\% & 59.14\\% & 61.42\\% & - & - & 71.10\\% & 71.26\\% & 75.87\\% & 78.57\\% & - & - & 73.68\\% & 66.39\\% & 79.21\\% & 81.55\\% \\\\\n",
      " &  & \\textbf{tfidf} & - & - & 69.94\\% & 64.25\\% & 57.62\\% & 58.36\\% & - & - & 75.67\\% & 77.19\\% & 77.16\\% & 77.61\\% & - & - & 78.71\\% & 79.37\\% & 73.71\\% & 78.43\\% \\\\\n",
      "\\cline{2-3}\n",
      " & \\multirow[t]{3}{*}{\\textbf{tfidf}} & \\textbf{count} & 61.78\\% & 61.59\\% & 51.66\\% & 45.55\\% & 59.22\\% & 62.13\\% & 40.13\\% & 52.29\\% & 80.19\\% & 78.85\\% & 75.29\\% & 78.29\\% & 49.64\\% & 49.98\\% & 81.91\\% & 78.52\\% & 77.33\\% & 78.64\\% \\\\\n",
      " &  & \\textbf{ppmi} & - & - & 55.71\\% & 58.86\\% & 62.65\\% & 60.12\\% & - & - & 80.13\\% & 79.50\\% & 76.52\\% & 80.71\\% & - & - & 80.33\\% & 79.58\\% & 81.73\\% & 81.84\\% \\\\\n",
      " &  & \\textbf{tfidf} & - & - & 62.80\\% & 63.49\\% & 62.55\\% & 61.28\\% & - & - & 78.38\\% & 79.73\\% & 78.30\\% & 74.95\\% & - & - & 78.13\\% & 76.52\\% & 79.23\\% & 79.33\\% \\\\\n",
      "\\bottomrule\n",
      "\\end{tabular}\n",
      "}\n",
      "\\end{table}\n"
     ]
    }
   ],
   "source": [
    "print(df_to_latex(df, styler, rotate=False, caption=\"Decision-Tree-Accuracies for different Parameter-Combinations\"))"
   ]
  },
  {
   "cell_type": "markdown",
   "id": "4bef3133-d1e8-49d6-a6cb-3de24f081a18",
   "metadata": {},
   "source": [
    "## Next: Robust accuracies for different depths"
   ]
  },
  {
   "cell_type": "code",
   "execution_count": 5,
   "id": "023eb7da-3f84-4223-a091-c42a55662ccd",
   "metadata": {
    "tags": []
   },
   "outputs": [
    {
     "name": "stdout",
     "output_type": "stream",
     "text": [
      "Best conf: {'pp_components': 'mfauhcsd2', 'quantification_measure': 'tfidf', 'embed_dimensions': '200', 'dcm_quant_measure': 'count', 'classifier_succmetric': 'kappa_digitized_onlypos_2', 'sec_lambda': '0.2'}\n"
     ]
    },
    {
     "data": {
      "text/markdown": [
       "<span style=\"font-size:11pt\">Running with the following settings [<span style=\"color: #ff00ff\">4a341d441d</span>]: CLASSIFIER: <span style=\"color: #0000ff\">SVM</span>, CLASSIFIER_SUCCMETRIC: <span style=\"color: #ff0000\">kappa_digitized_onlypos_2</span>, DATASET: <span style=\"color: #ff0000\">siddata2022</span>, DCM_QUANT_MEASURE: <span style=\"color: #0000ff\">count</span>, DEBUG: <span style=\"color: #0000ff\">False</span>, EMBED_ALGO: <span style=\"color: #0000ff\">mds</span>, EMBED_DIMENSIONS: <span style=\"color: #ff0000\">200</span>, EXTRACTION_METHOD: <span style=\"color: #ff0000\">tfidf</span>, KAPPA_WEIGHTS: <span style=\"color: #0000ff\">quadratic</span>, LANGUAGE: <span style=\"color: #0000ff\">de</span>, MIN_WORDS_PER_DESC: <span style=\"color: #ff0000\">80</span>, PP_COMPONENTS: <span style=\"color: #ff0000\">mfauhcsd2</span>, PRIM_LAMBDA: <span style=\"color: #0000ff\">0.5</span>, QUANTIFICATION_MEASURE: <span style=\"color: #ff0000\">tfidf</span>, RANDOM_SEED: <span style=\"color: #ff0000\">None</span>, SEC_LAMBDA: <span style=\"color: #ff0000\">0.2</span>, TRANSLATE_POLICY: <span style=\"color: #0000ff\">onlyorig</span></span>"
      ],
      "text/plain": [
       "<IPython.core.display.Markdown object>"
      ]
     },
     "metadata": {},
     "output_type": "display_data"
    }
   ],
   "source": [
    "# best_conf = {k: str(v) for k, v in dict(zip(conf_results.columns.names, conf_results.T.idxmax()[0])).items()}\n",
    "best_conf = {'pp_components': 'mfauhcsd2', 'quantification_measure': 'tfidf', 'embed_dimensions': '200', 'dcm_quant_measure': 'count', 'classifier_succmetric': 'kappa_digitized_onlypos_2', 'sec_lambda': '0.2'}\n",
    "print(\"Best conf:\", best_conf)\n",
    "\n",
    "ctx = SnakeContext.loader_context(config={**best_conf, \"debug\": False}, silent=True)\n",
    "ctx.print_important_settings()\n",
    "descriptions, clusters, embedding = ctx.load(\"pp_descriptions\", \"clusters\", \"embedding\", \n",
    "                  loaders=dict(pp_descriptions=DescriptionList.from_json, clusters=cluster_loader, embedding=lambda **args: args[\"embedding\"].embedding_))"
   ]
  },
  {
   "cell_type": "code",
   "execution_count": 201,
   "id": "b125d994-3dc9-411c-8fcb-0ca3550cf1ad",
   "metadata": {},
   "outputs": [
    {
     "data": {
      "text/markdown": [
       "<span style=\"font-size:11pt\">Using classes from fachbereich - 7081/11601 entities have a class</span>"
      ],
      "text/plain": [
       "<IPython.core.display.Markdown object>"
      ]
     },
     "metadata": {},
     "output_type": "display_data"
    },
    {
     "data": {
      "text/markdown": [
       "<span style=\"font-size:11pt\">Labels (10 classes): <span style=\"color: #0000ff\">Sprach-/Literaturwissenschaften</span>: 1659, <span style=\"color: #0000ff\">Erziehungs-/Kulturwissenschaften</span>: 1998, <span style=\"color: #0000ff\">Kultur-/Geowissenschaften</span>: 1447, <span style=\"color: #0000ff\">Sozialwissenschaften</span>: 715, <span style=\"color: #0000ff\">Rechtswissenschaften</span>: 334, <span style=\"color: #0000ff\">Humanwissenschaften</span>: 354, <span style=\"color: #0000ff\">Biologie/Chemie</span>: 160, <span style=\"color: #0000ff\">Mathematik/Informatik</span>: 180, <span style=\"color: #0000ff\">Physik</span>: 134, <span style=\"color: #0000ff\">Wirtschaftswissenschaften</span>: 100</span>"
      ],
      "text/plain": [
       "<IPython.core.display.Markdown object>"
      ]
     },
     "metadata": {},
     "output_type": "display_data"
    },
    {
     "data": {
      "text/markdown": [
       "<span style=\"font-size:11pt\">Eval-Settings: metric: <span style=\"color: #0000ff\">['accuracy', 'f1']</span>, type: <span style=\"color: #0000ff\">one-vs-rest</span>, DT-Depth: <span style=\"color: #0000ff\">1</span>, train-test-split:<span style=\"color: #0000ff\"> 5-fold cross-validation </span></span>"
      ],
      "text/plain": [
       "<IPython.core.display.Markdown object>"
      ]
     },
     "metadata": {},
     "output_type": "display_data"
    },
    {
     "name": "stderr",
     "output_type": "stream",
     "text": [
      "100%|██████████| 100/100 [00:56<00:00,  1.78it/s]\n"
     ]
    },
    {
     "data": {
      "text/markdown": [
       "<span style=\"font-size:11pt\">Using classes from fachbereich - 7081/11601 entities have a class</span>"
      ],
      "text/plain": [
       "<IPython.core.display.Markdown object>"
      ]
     },
     "metadata": {},
     "output_type": "display_data"
    },
    {
     "data": {
      "text/markdown": [
       "<span style=\"font-size:11pt\">Labels (10 classes): <span style=\"color: #0000ff\">Sprach-/Literaturwissenschaften</span>: 1659, <span style=\"color: #0000ff\">Erziehungs-/Kulturwissenschaften</span>: 1998, <span style=\"color: #0000ff\">Kultur-/Geowissenschaften</span>: 1447, <span style=\"color: #0000ff\">Sozialwissenschaften</span>: 715, <span style=\"color: #0000ff\">Rechtswissenschaften</span>: 334, <span style=\"color: #0000ff\">Humanwissenschaften</span>: 354, <span style=\"color: #0000ff\">Biologie/Chemie</span>: 160, <span style=\"color: #0000ff\">Mathematik/Informatik</span>: 180, <span style=\"color: #0000ff\">Physik</span>: 134, <span style=\"color: #0000ff\">Wirtschaftswissenschaften</span>: 100</span>"
      ],
      "text/plain": [
       "<IPython.core.display.Markdown object>"
      ]
     },
     "metadata": {},
     "output_type": "display_data"
    },
    {
     "data": {
      "text/markdown": [
       "<span style=\"font-size:11pt\">Eval-Settings: metric: <span style=\"color: #0000ff\">['accuracy', 'f1']</span>, type: <span style=\"color: #0000ff\">one-vs-rest</span>, DT-Depth: <span style=\"color: #0000ff\">2</span>, train-test-split:<span style=\"color: #0000ff\"> 5-fold cross-validation </span></span>"
      ],
      "text/plain": [
       "<IPython.core.display.Markdown object>"
      ]
     },
     "metadata": {},
     "output_type": "display_data"
    },
    {
     "name": "stderr",
     "output_type": "stream",
     "text": [
      "100%|██████████| 100/100 [01:57<00:00,  1.18s/it]\n"
     ]
    },
    {
     "data": {
      "text/markdown": [
       "<span style=\"font-size:11pt\">Using classes from fachbereich - 7081/11601 entities have a class</span>"
      ],
      "text/plain": [
       "<IPython.core.display.Markdown object>"
      ]
     },
     "metadata": {},
     "output_type": "display_data"
    },
    {
     "data": {
      "text/markdown": [
       "<span style=\"font-size:11pt\">Labels (10 classes): <span style=\"color: #0000ff\">Sprach-/Literaturwissenschaften</span>: 1659, <span style=\"color: #0000ff\">Erziehungs-/Kulturwissenschaften</span>: 1998, <span style=\"color: #0000ff\">Kultur-/Geowissenschaften</span>: 1447, <span style=\"color: #0000ff\">Sozialwissenschaften</span>: 715, <span style=\"color: #0000ff\">Rechtswissenschaften</span>: 334, <span style=\"color: #0000ff\">Humanwissenschaften</span>: 354, <span style=\"color: #0000ff\">Biologie/Chemie</span>: 160, <span style=\"color: #0000ff\">Mathematik/Informatik</span>: 180, <span style=\"color: #0000ff\">Physik</span>: 134, <span style=\"color: #0000ff\">Wirtschaftswissenschaften</span>: 100</span>"
      ],
      "text/plain": [
       "<IPython.core.display.Markdown object>"
      ]
     },
     "metadata": {},
     "output_type": "display_data"
    },
    {
     "data": {
      "text/markdown": [
       "<span style=\"font-size:11pt\">Eval-Settings: metric: <span style=\"color: #0000ff\">['accuracy', 'f1']</span>, type: <span style=\"color: #0000ff\">one-vs-rest</span>, DT-Depth: <span style=\"color: #0000ff\">3</span>, train-test-split:<span style=\"color: #0000ff\"> 5-fold cross-validation </span></span>"
      ],
      "text/plain": [
       "<IPython.core.display.Markdown object>"
      ]
     },
     "metadata": {},
     "output_type": "display_data"
    },
    {
     "name": "stderr",
     "output_type": "stream",
     "text": [
      "100%|██████████| 100/100 [03:06<00:00,  1.86s/it]\n"
     ]
    },
    {
     "data": {
      "text/markdown": [
       "<span style=\"font-size:11pt\">Using classes from fachbereich - 7081/11601 entities have a class</span>"
      ],
      "text/plain": [
       "<IPython.core.display.Markdown object>"
      ]
     },
     "metadata": {},
     "output_type": "display_data"
    },
    {
     "data": {
      "text/markdown": [
       "<span style=\"font-size:11pt\">Labels (10 classes): <span style=\"color: #0000ff\">Sprach-/Literaturwissenschaften</span>: 1659, <span style=\"color: #0000ff\">Erziehungs-/Kulturwissenschaften</span>: 1998, <span style=\"color: #0000ff\">Kultur-/Geowissenschaften</span>: 1447, <span style=\"color: #0000ff\">Sozialwissenschaften</span>: 715, <span style=\"color: #0000ff\">Rechtswissenschaften</span>: 334, <span style=\"color: #0000ff\">Humanwissenschaften</span>: 354, <span style=\"color: #0000ff\">Biologie/Chemie</span>: 160, <span style=\"color: #0000ff\">Mathematik/Informatik</span>: 180, <span style=\"color: #0000ff\">Physik</span>: 134, <span style=\"color: #0000ff\">Wirtschaftswissenschaften</span>: 100</span>"
      ],
      "text/plain": [
       "<IPython.core.display.Markdown object>"
      ]
     },
     "metadata": {},
     "output_type": "display_data"
    },
    {
     "data": {
      "text/markdown": [
       "<span style=\"font-size:11pt\">Eval-Settings: metric: <span style=\"color: #0000ff\">['accuracy', 'f1']</span>, type: <span style=\"color: #0000ff\">one-vs-rest</span>, DT-Depth: <span style=\"color: #0000ff\">None</span>, train-test-split:<span style=\"color: #0000ff\"> 5-fold cross-validation </span></span>"
      ],
      "text/plain": [
       "<IPython.core.display.Markdown object>"
      ]
     },
     "metadata": {},
     "output_type": "display_data"
    },
    {
     "name": "stderr",
     "output_type": "stream",
     "text": [
      "100%|██████████| 100/100 [13:14<00:00,  7.94s/it]\n"
     ]
    }
   ],
   "source": [
    "metrics = [\"accuracy\", \"f1\"]\n",
    "all_scores = {}\n",
    "for depth in [1, 2, 3, None]:\n",
    "    with parallel_backend('threading', n_jobs=7):\n",
    "        scores, clsizes = classify_shallowtree(clusters, embedding, descriptions, ctx.obj[\"dataset_class\"], one_vs_rest=True,\n",
    "                                               classes=\"fachbereich\", dt_depth=depth, test_percentage_crossval=5, metric=metrics, repeat=10, pgbar=True)\n",
    "        scores = dict(sorted(scores.items(), key=lambda x: list(ctx.obj[\"dataset_class\"].FB_MAPPER.values()).index(x[0])))\n",
    "    for m in metrics:\n",
    "        all_scores.setdefault(depth, {})[m] = {k: np.array(flatten([i[f\"test_{m}\"] for i in v])) for k, v in scores.items()}"
   ]
  },
  {
   "cell_type": "code",
   "execution_count": 289,
   "id": "8813793b-eed7-4f2b-ba9a-3444b7a9c386",
   "metadata": {},
   "outputs": [
    {
     "data": {
      "image/png": "[encoded data removed]",
      "text/plain": [
       "<Figure size 576x360 with 1 Axes>"
      ]
     },
     "metadata": {
      "needs_background": "light"
     },
     "output_type": "display_data"
    }
   ],
   "source": [
    "res = pd.DataFrame(all_scores[1][\"accuracy\"])\n",
    "fig, ax = plt.subplots(figsize = [8, 5])\n",
    "res.boxplot(ax=ax, vert=False, fontsize=14, patch_artist=True, medianprops=dict(color=\"red\", linewidth=1.5), whiskerprops = dict(linestyle='-',linewidth=2.0), capprops=dict(linewidth=2.0));\n",
    "\n",
    "with PdfPages(\"/home/chris/Documents/UNI_neu/Masterarbeit/MastersThesisText/graphics/dataset_new/accuracy_boxplots.pdf\") as pdf:\n",
    "    plt.show()\n",
    "    pdf.savefig(fig, bbox_inches='tight')"
   ]
  },
  {
   "cell_type": "code",
   "execution_count": 293,
   "id": "46c441c6-b298-40d3-89c3-615f1ec51445",
   "metadata": {},
   "outputs": [
    {
     "data": {
      "text/html": [
       "<div>\n",
       "<style scoped>\n",
       "    .dataframe tbody tr th:only-of-type {\n",
       "        vertical-align: middle;\n",
       "    }\n",
       "\n",
       "    .dataframe tbody tr th {\n",
       "        vertical-align: top;\n",
       "    }\n",
       "\n",
       "    .dataframe thead tr th {\n",
       "        text-align: left;\n",
       "    }\n",
       "\n",
       "    .dataframe thead tr:last-of-type th {\n",
       "        text-align: right;\n",
       "    }\n",
       "</style>\n",
       "<table border=\"1\" class=\"dataframe\">\n",
       "  <thead>\n",
       "    <tr>\n",
       "      <th></th>\n",
       "      <th></th>\n",
       "      <th colspan=\"10\" halign=\"left\">Sozialwissenschaften</th>\n",
       "      <th>...</th>\n",
       "      <th colspan=\"10\" halign=\"left\">Rechtswissenschaften</th>\n",
       "    </tr>\n",
       "    <tr>\n",
       "      <th></th>\n",
       "      <th></th>\n",
       "      <th>0</th>\n",
       "      <th>1</th>\n",
       "      <th>2</th>\n",
       "      <th>3</th>\n",
       "      <th>4</th>\n",
       "      <th>5</th>\n",
       "      <th>6</th>\n",
       "      <th>7</th>\n",
       "      <th>8</th>\n",
       "      <th>9</th>\n",
       "      <th>...</th>\n",
       "      <th>40</th>\n",
       "      <th>41</th>\n",
       "      <th>42</th>\n",
       "      <th>43</th>\n",
       "      <th>44</th>\n",
       "      <th>45</th>\n",
       "      <th>46</th>\n",
       "      <th>47</th>\n",
       "      <th>48</th>\n",
       "      <th>49</th>\n",
       "    </tr>\n",
       "    <tr>\n",
       "      <th>depth</th>\n",
       "      <th>metric</th>\n",
       "      <th></th>\n",
       "      <th></th>\n",
       "      <th></th>\n",
       "      <th></th>\n",
       "      <th></th>\n",
       "      <th></th>\n",
       "      <th></th>\n",
       "      <th></th>\n",
       "      <th></th>\n",
       "      <th></th>\n",
       "      <th></th>\n",
       "      <th></th>\n",
       "      <th></th>\n",
       "      <th></th>\n",
       "      <th></th>\n",
       "      <th></th>\n",
       "      <th></th>\n",
       "      <th></th>\n",
       "      <th></th>\n",
       "      <th></th>\n",
       "      <th></th>\n",
       "    </tr>\n",
       "  </thead>\n",
       "  <tbody>\n",
       "    <tr>\n",
       "      <th rowspan=\"2\" valign=\"top\">1.0</th>\n",
       "      <th>accuracy</th>\n",
       "      <td>0.832745</td>\n",
       "      <td>0.774011</td>\n",
       "      <td>0.836864</td>\n",
       "      <td>0.825565</td>\n",
       "      <td>0.842514</td>\n",
       "      <td>0.857445</td>\n",
       "      <td>0.765537</td>\n",
       "      <td>0.839689</td>\n",
       "      <td>0.826977</td>\n",
       "      <td>0.840395</td>\n",
       "      <td>...</td>\n",
       "      <td>0.963303</td>\n",
       "      <td>0.956921</td>\n",
       "      <td>0.956921</td>\n",
       "      <td>0.966808</td>\n",
       "      <td>0.882768</td>\n",
       "      <td>0.964714</td>\n",
       "      <td>0.888418</td>\n",
       "      <td>0.956215</td>\n",
       "      <td>0.960452</td>\n",
       "      <td>0.968220</td>\n",
       "    </tr>\n",
       "    <tr>\n",
       "      <th>f1</th>\n",
       "      <td>0.384416</td>\n",
       "      <td>0.365079</td>\n",
       "      <td>0.356546</td>\n",
       "      <td>0.384040</td>\n",
       "      <td>0.385675</td>\n",
       "      <td>0.451087</td>\n",
       "      <td>0.325203</td>\n",
       "      <td>0.356941</td>\n",
       "      <td>0.370180</td>\n",
       "      <td>0.398936</td>\n",
       "      <td>...</td>\n",
       "      <td>0.670886</td>\n",
       "      <td>0.625767</td>\n",
       "      <td>0.634731</td>\n",
       "      <td>0.700637</td>\n",
       "      <td>0.389706</td>\n",
       "      <td>0.675325</td>\n",
       "      <td>0.423358</td>\n",
       "      <td>0.626506</td>\n",
       "      <td>0.658537</td>\n",
       "      <td>0.689655</td>\n",
       "    </tr>\n",
       "    <tr>\n",
       "      <th rowspan=\"2\" valign=\"top\">2.0</th>\n",
       "      <th>accuracy</th>\n",
       "      <td>0.812985</td>\n",
       "      <td>0.798023</td>\n",
       "      <td>0.859463</td>\n",
       "      <td>0.860876</td>\n",
       "      <td>0.814972</td>\n",
       "      <td>0.798871</td>\n",
       "      <td>0.814972</td>\n",
       "      <td>0.828390</td>\n",
       "      <td>0.834040</td>\n",
       "      <td>0.828390</td>\n",
       "      <td>...</td>\n",
       "      <td>0.896965</td>\n",
       "      <td>0.891243</td>\n",
       "      <td>0.885593</td>\n",
       "      <td>0.888418</td>\n",
       "      <td>0.890537</td>\n",
       "      <td>0.913903</td>\n",
       "      <td>0.890537</td>\n",
       "      <td>0.888418</td>\n",
       "      <td>0.924435</td>\n",
       "      <td>0.884887</td>\n",
       "    </tr>\n",
       "    <tr>\n",
       "      <th>f1</th>\n",
       "      <td>0.420131</td>\n",
       "      <td>0.383621</td>\n",
       "      <td>0.451791</td>\n",
       "      <td>0.469003</td>\n",
       "      <td>0.432900</td>\n",
       "      <td>0.402516</td>\n",
       "      <td>0.425439</td>\n",
       "      <td>0.443936</td>\n",
       "      <td>0.436451</td>\n",
       "      <td>0.414458</td>\n",
       "      <td>...</td>\n",
       "      <td>0.463235</td>\n",
       "      <td>0.446043</td>\n",
       "      <td>0.445205</td>\n",
       "      <td>0.435714</td>\n",
       "      <td>0.452297</td>\n",
       "      <td>0.508065</td>\n",
       "      <td>0.444444</td>\n",
       "      <td>0.447552</td>\n",
       "      <td>0.524444</td>\n",
       "      <td>0.432056</td>\n",
       "    </tr>\n",
       "    <tr>\n",
       "      <th rowspan=\"2\" valign=\"top\">3.0</th>\n",
       "      <th>accuracy</th>\n",
       "      <td>0.717713</td>\n",
       "      <td>0.752119</td>\n",
       "      <td>0.822740</td>\n",
       "      <td>0.766243</td>\n",
       "      <td>0.781073</td>\n",
       "      <td>0.771348</td>\n",
       "      <td>0.747175</td>\n",
       "      <td>0.800141</td>\n",
       "      <td>0.845339</td>\n",
       "      <td>0.770480</td>\n",
       "      <td>...</td>\n",
       "      <td>0.968243</td>\n",
       "      <td>0.949859</td>\n",
       "      <td>0.934322</td>\n",
       "      <td>0.939972</td>\n",
       "      <td>0.957627</td>\n",
       "      <td>0.923077</td>\n",
       "      <td>0.946328</td>\n",
       "      <td>0.966102</td>\n",
       "      <td>0.956215</td>\n",
       "      <td>0.937147</td>\n",
       "    </tr>\n",
       "    <tr>\n",
       "      <th>f1</th>\n",
       "      <td>0.356913</td>\n",
       "      <td>0.393782</td>\n",
       "      <td>0.443459</td>\n",
       "      <td>0.369524</td>\n",
       "      <td>0.412879</td>\n",
       "      <td>0.406593</td>\n",
       "      <td>0.374126</td>\n",
       "      <td>0.411642</td>\n",
       "      <td>0.431169</td>\n",
       "      <td>0.410163</td>\n",
       "      <td>...</td>\n",
       "      <td>0.733728</td>\n",
       "      <td>0.612022</td>\n",
       "      <td>0.563380</td>\n",
       "      <td>0.597156</td>\n",
       "      <td>0.673913</td>\n",
       "      <td>0.532189</td>\n",
       "      <td>0.608247</td>\n",
       "      <td>0.720930</td>\n",
       "      <td>0.643678</td>\n",
       "      <td>0.586047</td>\n",
       "    </tr>\n",
       "    <tr>\n",
       "      <th rowspan=\"2\" valign=\"top\">NaN</th>\n",
       "      <th>accuracy</th>\n",
       "      <td>0.908963</td>\n",
       "      <td>0.922316</td>\n",
       "      <td>0.918785</td>\n",
       "      <td>0.918079</td>\n",
       "      <td>0.915254</td>\n",
       "      <td>0.918843</td>\n",
       "      <td>0.919492</td>\n",
       "      <td>0.914548</td>\n",
       "      <td>0.913136</td>\n",
       "      <td>0.914548</td>\n",
       "      <td>...</td>\n",
       "      <td>0.987297</td>\n",
       "      <td>0.984463</td>\n",
       "      <td>0.990819</td>\n",
       "      <td>0.980226</td>\n",
       "      <td>0.986582</td>\n",
       "      <td>0.987297</td>\n",
       "      <td>0.985876</td>\n",
       "      <td>0.990113</td>\n",
       "      <td>0.986582</td>\n",
       "      <td>0.984463</td>\n",
       "    </tr>\n",
       "    <tr>\n",
       "      <th>f1</th>\n",
       "      <td>0.527473</td>\n",
       "      <td>0.598540</td>\n",
       "      <td>0.569288</td>\n",
       "      <td>0.582734</td>\n",
       "      <td>0.577465</td>\n",
       "      <td>0.593640</td>\n",
       "      <td>0.554688</td>\n",
       "      <td>0.575439</td>\n",
       "      <td>0.588629</td>\n",
       "      <td>0.566308</td>\n",
       "      <td>...</td>\n",
       "      <td>0.869565</td>\n",
       "      <td>0.833333</td>\n",
       "      <td>0.896000</td>\n",
       "      <td>0.774194</td>\n",
       "      <td>0.850394</td>\n",
       "      <td>0.863636</td>\n",
       "      <td>0.855072</td>\n",
       "      <td>0.897059</td>\n",
       "      <td>0.850394</td>\n",
       "      <td>0.830769</td>\n",
       "    </tr>\n",
       "  </tbody>\n",
       "</table>\n",
       "<p>8 rows × 500 columns</p>\n",
       "</div>"
      ],
      "text/plain": [
       "               Sozialwissenschaften                                          \\\n",
       "                                 0         1         2         3         4    \n",
       "depth metric                                                                  \n",
       "1.0   accuracy             0.832745  0.774011  0.836864  0.825565  0.842514   \n",
       "      f1                   0.384416  0.365079  0.356546  0.384040  0.385675   \n",
       "2.0   accuracy             0.812985  0.798023  0.859463  0.860876  0.814972   \n",
       "      f1                   0.420131  0.383621  0.451791  0.469003  0.432900   \n",
       "3.0   accuracy             0.717713  0.752119  0.822740  0.766243  0.781073   \n",
       "      f1                   0.356913  0.393782  0.443459  0.369524  0.412879   \n",
       "NaN   accuracy             0.908963  0.922316  0.918785  0.918079  0.915254   \n",
       "      f1                   0.527473  0.598540  0.569288  0.582734  0.577465   \n",
       "\n",
       "                                                                  ...  \\\n",
       "                      5         6         7         8         9   ...   \n",
       "depth metric                                                      ...   \n",
       "1.0   accuracy  0.857445  0.765537  0.839689  0.826977  0.840395  ...   \n",
       "      f1        0.451087  0.325203  0.356941  0.370180  0.398936  ...   \n",
       "2.0   accuracy  0.798871  0.814972  0.828390  0.834040  0.828390  ...   \n",
       "      f1        0.402516  0.425439  0.443936  0.436451  0.414458  ...   \n",
       "3.0   accuracy  0.771348  0.747175  0.800141  0.845339  0.770480  ...   \n",
       "      f1        0.406593  0.374126  0.411642  0.431169  0.410163  ...   \n",
       "NaN   accuracy  0.918843  0.919492  0.914548  0.913136  0.914548  ...   \n",
       "      f1        0.593640  0.554688  0.575439  0.588629  0.566308  ...   \n",
       "\n",
       "               Rechtswissenschaften                                          \\\n",
       "                                 40        41        42        43        44   \n",
       "depth metric                                                                  \n",
       "1.0   accuracy             0.963303  0.956921  0.956921  0.966808  0.882768   \n",
       "      f1                   0.670886  0.625767  0.634731  0.700637  0.389706   \n",
       "2.0   accuracy             0.896965  0.891243  0.885593  0.888418  0.890537   \n",
       "      f1                   0.463235  0.446043  0.445205  0.435714  0.452297   \n",
       "3.0   accuracy             0.968243  0.949859  0.934322  0.939972  0.957627   \n",
       "      f1                   0.733728  0.612022  0.563380  0.597156  0.673913   \n",
       "NaN   accuracy             0.987297  0.984463  0.990819  0.980226  0.986582   \n",
       "      f1                   0.869565  0.833333  0.896000  0.774194  0.850394   \n",
       "\n",
       "                                                                  \n",
       "                      45        46        47        48        49  \n",
       "depth metric                                                      \n",
       "1.0   accuracy  0.964714  0.888418  0.956215  0.960452  0.968220  \n",
       "      f1        0.675325  0.423358  0.626506  0.658537  0.689655  \n",
       "2.0   accuracy  0.913903  0.890537  0.888418  0.924435  0.884887  \n",
       "      f1        0.508065  0.444444  0.447552  0.524444  0.432056  \n",
       "3.0   accuracy  0.923077  0.946328  0.966102  0.956215  0.937147  \n",
       "      f1        0.532189  0.608247  0.720930  0.643678  0.586047  \n",
       "NaN   accuracy  0.987297  0.985876  0.990113  0.986582  0.984463  \n",
       "      f1        0.863636  0.855072  0.897059  0.850394  0.830769  \n",
       "\n",
       "[8 rows x 500 columns]"
      ]
     },
     "execution_count": 293,
     "metadata": {},
     "output_type": "execute_result"
    }
   ],
   "source": [
    "res = pd.concat([pd.DataFrame(pd.DataFrame(all_scores[depth][metric]).unstack(), columns=pd.MultiIndex.from_product([[depth], [metric]], names=[\"depth\",\"metric\"])).T for depth, v in all_scores.items() for metric, v2 in v.items()])\n",
    "res"
   ]
  },
  {
   "cell_type": "code",
   "execution_count": 334,
   "id": "29b21dff-0590-433d-99ff-bcc86cdf70e4",
   "metadata": {},
   "outputs": [
    {
     "data": {
      "text/markdown": [
       "### accuracy"
      ],
      "text/plain": [
       "<IPython.core.display.Markdown object>"
      ]
     },
     "metadata": {},
     "output_type": "display_data"
    },
    {
     "data": {
      "image/png": "[encoded data removed]",
      "text/plain": [
       "<Figure size 1152x720 with 1 Axes>"
      ]
     },
     "metadata": {
      "needs_background": "light"
     },
     "output_type": "display_data"
    },
    {
     "data": {
      "text/markdown": [
       "### f1"
      ],
      "text/plain": [
       "<IPython.core.display.Markdown object>"
      ]
     },
     "metadata": {},
     "output_type": "display_data"
    },
    {
     "data": {
      "image/png": "[encoded data removed]",
      "text/plain": [
       "<Figure size 1152x720 with 1 Axes>"
      ]
     },
     "metadata": {
      "needs_background": "light"
     },
     "output_type": "display_data"
    }
   ],
   "source": [
    "import seaborn as sns\n",
    "# r2 = res.stack(level=0).reset_index().rename(columns={\"level_2\": \"faculty\"})\n",
    "r2 = res.unstack(level=[0,1]).reset_index(level=1, drop=True).reset_index(name='data').rename(columns={\"level_0\": \"faculty\"})\n",
    "r2[\"depth\"] = r2[\"depth\"].fillna(\"any\")\n",
    "\n",
    "for metric in r2[\"metric\"].unique():\n",
    "    fig, ax = plt.subplots(figsize = [16, 10])\n",
    "    display(Markdown(f\"### {metric}\"))\n",
    "    ax = sns.boxplot(x='depth', y='data', hue=\"faculty\", data=r2[r2[\"metric\"] == metric], palette=\"Set3\", ax=ax)\n",
    "    plt.show()"
   ]
  },
  {
   "cell_type": "code",
   "execution_count": 203,
   "id": "66fa30be-6343-4015-a55a-9be0a3a34454",
   "metadata": {
    "tags": []
   },
   "outputs": [],
   "source": [
    "styles = [{'selector': 'th', 'props': [('vertical-align','top'),('text-align','left')]}] #('border-style', 'solid')  #see https://stackoverflow.com/a/55904239/5122790\n",
    "styler = lambda df: df.style.format('{:.3f}'.format, na_rep=\"-\").set_table_styles(styles)\n",
    "\n",
    "summarized = {}\n",
    "for depth, v in all_scores.items():\n",
    "    for metric, scores in v.items():\n",
    "        scores_df = pd.concat([pd.DataFrame(scores).agg((min, np.mean, max, np.std), axis=\"rows\"), pd.DataFrame(clsizes, index=[\"samples\"])])\n",
    "        scores_df[\"unweighted_mean\"] = scores_df.loc[[\"min\", \"mean\", \"max\", \"std\"]].mean(axis=1)\n",
    "        scores_df[\"weighted_mean\"] = (scores_df.loc[[\"min\", \"mean\", \"max\", \"std\"]] * scores_df.loc[\"samples\"] / scores_df.loc[\"samples\"].sum()).sum(axis=1)\n",
    "        scores_df.loc[\"samples\", [\"unweighted_mean\", \"weighted_mean\"]] = scores_df.loc[\"samples\"].sum()\n",
    "#         display(Markdown(f\"### depth {depth}, metric {metric}\"))\n",
    "#         display(styler(scores_df.T))\n",
    "        summarized[(depth, metric)] = scores_df.loc[[\"mean\", \"std\"], :]"
   ]
  },
  {
   "cell_type": "code",
   "execution_count": 353,
   "id": "5e2ed027-97d4-4aff-aa76-5b043da371c5",
   "metadata": {},
   "outputs": [
    {
     "data": {
      "text/markdown": [
       "## accuracy"
      ],
      "text/plain": [
       "<IPython.core.display.Markdown object>"
      ]
     },
     "metadata": {},
     "output_type": "display_data"
    },
    {
     "data": {
      "text/html": [
       "<div>\n",
       "<style scoped>\n",
       "    .dataframe tbody tr th:only-of-type {\n",
       "        vertical-align: middle;\n",
       "    }\n",
       "\n",
       "    .dataframe tbody tr th {\n",
       "        vertical-align: top;\n",
       "    }\n",
       "\n",
       "    .dataframe thead th {\n",
       "        text-align: right;\n",
       "    }\n",
       "</style>\n",
       "<table border=\"1\" class=\"dataframe\">\n",
       "  <thead>\n",
       "    <tr style=\"text-align: right;\">\n",
       "      <th></th>\n",
       "      <th>1</th>\n",
       "      <th>2</th>\n",
       "      <th>3</th>\n",
       "      <th>any</th>\n",
       "    </tr>\n",
       "  </thead>\n",
       "  <tbody>\n",
       "    <tr>\n",
       "      <th>Sozialwissenschaften</th>\n",
       "      <td>0.831 ± 0.021</td>\n",
       "      <td>0.811 ± 0.033</td>\n",
       "      <td>0.780 ± 0.028</td>\n",
       "      <td>0.918 ± 0.006</td>\n",
       "    </tr>\n",
       "    <tr>\n",
       "      <th>Kultur-/Geowissenschaften</th>\n",
       "      <td>0.806 ± 0.010</td>\n",
       "      <td>0.728 ± 0.066</td>\n",
       "      <td>0.813 ± 0.022</td>\n",
       "      <td>0.873 ± 0.008</td>\n",
       "    </tr>\n",
       "    <tr>\n",
       "      <th>Erziehungs-/Kulturwissenschaften</th>\n",
       "      <td>0.791 ± 0.010</td>\n",
       "      <td>0.824 ± 0.010</td>\n",
       "      <td>0.828 ± 0.020</td>\n",
       "      <td>0.868 ± 0.008</td>\n",
       "    </tr>\n",
       "    <tr>\n",
       "      <th>Physik</th>\n",
       "      <td>0.747 ± 0.054</td>\n",
       "      <td>0.770 ± 0.033</td>\n",
       "      <td>0.818 ± 0.038</td>\n",
       "      <td>0.983 ± 0.003</td>\n",
       "    </tr>\n",
       "    <tr>\n",
       "      <th>Biologie/Chemie</th>\n",
       "      <td>0.787 ± 0.044</td>\n",
       "      <td>0.838 ± 0.049</td>\n",
       "      <td>0.890 ± 0.036</td>\n",
       "      <td>0.982 ± 0.004</td>\n",
       "    </tr>\n",
       "    <tr>\n",
       "      <th>Mathematik/Informatik</th>\n",
       "      <td>0.866 ± 0.031</td>\n",
       "      <td>0.844 ± 0.051</td>\n",
       "      <td>0.882 ± 0.038</td>\n",
       "      <td>0.978 ± 0.004</td>\n",
       "    </tr>\n",
       "    <tr>\n",
       "      <th>Sprach-/Literaturwissenschaften</th>\n",
       "      <td>0.832 ± 0.009</td>\n",
       "      <td>0.832 ± 0.009</td>\n",
       "      <td>0.862 ± 0.009</td>\n",
       "      <td>0.902 ± 0.008</td>\n",
       "    </tr>\n",
       "    <tr>\n",
       "      <th>Humanwissenschaften</th>\n",
       "      <td>0.630 ± 0.130</td>\n",
       "      <td>0.768 ± 0.103</td>\n",
       "      <td>0.781 ± 0.093</td>\n",
       "      <td>0.949 ± 0.005</td>\n",
       "    </tr>\n",
       "    <tr>\n",
       "      <th>Wirtschaftswissenschaften</th>\n",
       "      <td>0.903 ± 0.015</td>\n",
       "      <td>0.910 ± 0.034</td>\n",
       "      <td>0.924 ± 0.018</td>\n",
       "      <td>0.989 ± 0.003</td>\n",
       "    </tr>\n",
       "    <tr>\n",
       "      <th>Rechtswissenschaften</th>\n",
       "      <td>0.948 ± 0.031</td>\n",
       "      <td>0.894 ± 0.015</td>\n",
       "      <td>0.952 ± 0.011</td>\n",
       "      <td>0.985 ± 0.003</td>\n",
       "    </tr>\n",
       "    <tr>\n",
       "      <th>unweighted_mean</th>\n",
       "      <td>0.814 ± 0.035</td>\n",
       "      <td>0.822 ± 0.040</td>\n",
       "      <td>0.853 ± 0.031</td>\n",
       "      <td>0.943 ± 0.005</td>\n",
       "    </tr>\n",
       "    <tr>\n",
       "      <th>weighted_mean</th>\n",
       "      <td>0.810 ± 0.020</td>\n",
       "      <td>0.806 ± 0.031</td>\n",
       "      <td>0.835 ± 0.023</td>\n",
       "      <td>0.901 ± 0.007</td>\n",
       "    </tr>\n",
       "  </tbody>\n",
       "</table>\n",
       "</div>"
      ],
      "text/plain": [
       "                                              1              2              3  \\\n",
       "Sozialwissenschaften              0.831 ± 0.021  0.811 ± 0.033  0.780 ± 0.028   \n",
       "Kultur-/Geowissenschaften         0.806 ± 0.010  0.728 ± 0.066  0.813 ± 0.022   \n",
       "Erziehungs-/Kulturwissenschaften  0.791 ± 0.010  0.824 ± 0.010  0.828 ± 0.020   \n",
       "Physik                            0.747 ± 0.054  0.770 ± 0.033  0.818 ± 0.038   \n",
       "Biologie/Chemie                   0.787 ± 0.044  0.838 ± 0.049  0.890 ± 0.036   \n",
       "Mathematik/Informatik             0.866 ± 0.031  0.844 ± 0.051  0.882 ± 0.038   \n",
       "Sprach-/Literaturwissenschaften   0.832 ± 0.009  0.832 ± 0.009  0.862 ± 0.009   \n",
       "Humanwissenschaften               0.630 ± 0.130  0.768 ± 0.103  0.781 ± 0.093   \n",
       "Wirtschaftswissenschaften         0.903 ± 0.015  0.910 ± 0.034  0.924 ± 0.018   \n",
       "Rechtswissenschaften              0.948 ± 0.031  0.894 ± 0.015  0.952 ± 0.011   \n",
       "unweighted_mean                   0.814 ± 0.035  0.822 ± 0.040  0.853 ± 0.031   \n",
       "weighted_mean                     0.810 ± 0.020  0.806 ± 0.031  0.835 ± 0.023   \n",
       "\n",
       "                                            any  \n",
       "Sozialwissenschaften              0.918 ± 0.006  \n",
       "Kultur-/Geowissenschaften         0.873 ± 0.008  \n",
       "Erziehungs-/Kulturwissenschaften  0.868 ± 0.008  \n",
       "Physik                            0.983 ± 0.003  \n",
       "Biologie/Chemie                   0.982 ± 0.004  \n",
       "Mathematik/Informatik             0.978 ± 0.004  \n",
       "Sprach-/Literaturwissenschaften   0.902 ± 0.008  \n",
       "Humanwissenschaften               0.949 ± 0.005  \n",
       "Wirtschaftswissenschaften         0.989 ± 0.003  \n",
       "Rechtswissenschaften              0.985 ± 0.003  \n",
       "unweighted_mean                   0.943 ± 0.005  \n",
       "weighted_mean                     0.901 ± 0.007  "
      ]
     },
     "metadata": {},
     "output_type": "display_data"
    },
    {
     "data": {
      "text/markdown": [
       "## f1"
      ],
      "text/plain": [
       "<IPython.core.display.Markdown object>"
      ]
     },
     "metadata": {},
     "output_type": "display_data"
    },
    {
     "data": {
      "text/html": [
       "<div>\n",
       "<style scoped>\n",
       "    .dataframe tbody tr th:only-of-type {\n",
       "        vertical-align: middle;\n",
       "    }\n",
       "\n",
       "    .dataframe tbody tr th {\n",
       "        vertical-align: top;\n",
       "    }\n",
       "\n",
       "    .dataframe thead th {\n",
       "        text-align: right;\n",
       "    }\n",
       "</style>\n",
       "<table border=\"1\" class=\"dataframe\">\n",
       "  <thead>\n",
       "    <tr style=\"text-align: right;\">\n",
       "      <th></th>\n",
       "      <th>1</th>\n",
       "      <th>2</th>\n",
       "      <th>3</th>\n",
       "      <th>any</th>\n",
       "    </tr>\n",
       "  </thead>\n",
       "  <tbody>\n",
       "    <tr>\n",
       "      <th>Sozialwissenschaften</th>\n",
       "      <td>0.386 ± 0.029</td>\n",
       "      <td>0.414 ± 0.031</td>\n",
       "      <td>0.403 ± 0.024</td>\n",
       "      <td>0.580 ± 0.034</td>\n",
       "    </tr>\n",
       "    <tr>\n",
       "      <th>Kultur-/Geowissenschaften</th>\n",
       "      <td>0.454 ± 0.023</td>\n",
       "      <td>0.514 ± 0.034</td>\n",
       "      <td>0.591 ± 0.026</td>\n",
       "      <td>0.685 ± 0.020</td>\n",
       "    </tr>\n",
       "    <tr>\n",
       "      <th>Erziehungs-/Kulturwissenschaften</th>\n",
       "      <td>0.600 ± 0.019</td>\n",
       "      <td>0.701 ± 0.015</td>\n",
       "      <td>0.713 ± 0.019</td>\n",
       "      <td>0.765 ± 0.015</td>\n",
       "    </tr>\n",
       "    <tr>\n",
       "      <th>Physik</th>\n",
       "      <td>0.096 ± 0.019</td>\n",
       "      <td>0.117 ± 0.012</td>\n",
       "      <td>0.145 ± 0.023</td>\n",
       "      <td>0.552 ± 0.072</td>\n",
       "    </tr>\n",
       "    <tr>\n",
       "      <th>Biologie/Chemie</th>\n",
       "      <td>0.133 ± 0.019</td>\n",
       "      <td>0.178 ± 0.043</td>\n",
       "      <td>0.247 ± 0.063</td>\n",
       "      <td>0.611 ± 0.084</td>\n",
       "    </tr>\n",
       "    <tr>\n",
       "      <th>Mathematik/Informatik</th>\n",
       "      <td>0.215 ± 0.032</td>\n",
       "      <td>0.211 ± 0.046</td>\n",
       "      <td>0.260 ± 0.057</td>\n",
       "      <td>0.542 ± 0.070</td>\n",
       "    </tr>\n",
       "    <tr>\n",
       "      <th>Sprach-/Literaturwissenschaften</th>\n",
       "      <td>0.652 ± 0.020</td>\n",
       "      <td>0.685 ± 0.014</td>\n",
       "      <td>0.733 ± 0.014</td>\n",
       "      <td>0.790 ± 0.017</td>\n",
       "    </tr>\n",
       "    <tr>\n",
       "      <th>Humanwissenschaften</th>\n",
       "      <td>0.177 ± 0.028</td>\n",
       "      <td>0.245 ± 0.061</td>\n",
       "      <td>0.276 ± 0.078</td>\n",
       "      <td>0.484 ± 0.043</td>\n",
       "    </tr>\n",
       "    <tr>\n",
       "      <th>Wirtschaftswissenschaften</th>\n",
       "      <td>0.198 ± 0.022</td>\n",
       "      <td>0.219 ± 0.059</td>\n",
       "      <td>0.236 ± 0.040</td>\n",
       "      <td>0.596 ± 0.084</td>\n",
       "    </tr>\n",
       "    <tr>\n",
       "      <th>Rechtswissenschaften</th>\n",
       "      <td>0.617 ± 0.108</td>\n",
       "      <td>0.456 ± 0.037</td>\n",
       "      <td>0.641 ± 0.050</td>\n",
       "      <td>0.841 ± 0.032</td>\n",
       "    </tr>\n",
       "    <tr>\n",
       "      <th>unweighted_mean</th>\n",
       "      <td>0.353 ± 0.032</td>\n",
       "      <td>0.374 ± 0.035</td>\n",
       "      <td>0.424 ± 0.039</td>\n",
       "      <td>0.645 ± 0.047</td>\n",
       "    </tr>\n",
       "    <tr>\n",
       "      <th>weighted_mean</th>\n",
       "      <td>0.505 ± 0.026</td>\n",
       "      <td>0.553 ± 0.026</td>\n",
       "      <td>0.597 ± 0.026</td>\n",
       "      <td>0.710 ± 0.026</td>\n",
       "    </tr>\n",
       "  </tbody>\n",
       "</table>\n",
       "</div>"
      ],
      "text/plain": [
       "                                              1              2              3  \\\n",
       "Sozialwissenschaften              0.386 ± 0.029  0.414 ± 0.031  0.403 ± 0.024   \n",
       "Kultur-/Geowissenschaften         0.454 ± 0.023  0.514 ± 0.034  0.591 ± 0.026   \n",
       "Erziehungs-/Kulturwissenschaften  0.600 ± 0.019  0.701 ± 0.015  0.713 ± 0.019   \n",
       "Physik                            0.096 ± 0.019  0.117 ± 0.012  0.145 ± 0.023   \n",
       "Biologie/Chemie                   0.133 ± 0.019  0.178 ± 0.043  0.247 ± 0.063   \n",
       "Mathematik/Informatik             0.215 ± 0.032  0.211 ± 0.046  0.260 ± 0.057   \n",
       "Sprach-/Literaturwissenschaften   0.652 ± 0.020  0.685 ± 0.014  0.733 ± 0.014   \n",
       "Humanwissenschaften               0.177 ± 0.028  0.245 ± 0.061  0.276 ± 0.078   \n",
       "Wirtschaftswissenschaften         0.198 ± 0.022  0.219 ± 0.059  0.236 ± 0.040   \n",
       "Rechtswissenschaften              0.617 ± 0.108  0.456 ± 0.037  0.641 ± 0.050   \n",
       "unweighted_mean                   0.353 ± 0.032  0.374 ± 0.035  0.424 ± 0.039   \n",
       "weighted_mean                     0.505 ± 0.026  0.553 ± 0.026  0.597 ± 0.026   \n",
       "\n",
       "                                            any  \n",
       "Sozialwissenschaften              0.580 ± 0.034  \n",
       "Kultur-/Geowissenschaften         0.685 ± 0.020  \n",
       "Erziehungs-/Kulturwissenschaften  0.765 ± 0.015  \n",
       "Physik                            0.552 ± 0.072  \n",
       "Biologie/Chemie                   0.611 ± 0.084  \n",
       "Mathematik/Informatik             0.542 ± 0.070  \n",
       "Sprach-/Literaturwissenschaften   0.790 ± 0.017  \n",
       "Humanwissenschaften               0.484 ± 0.043  \n",
       "Wirtschaftswissenschaften         0.596 ± 0.084  \n",
       "Rechtswissenschaften              0.841 ± 0.032  \n",
       "unweighted_mean                   0.645 ± 0.047  \n",
       "weighted_mean                     0.710 ± 0.026  "
      ]
     },
     "metadata": {},
     "output_type": "display_data"
    }
   ],
   "source": [
    "summarized_all = pd.DataFrame({smkey: {i[0]: f\"{i[1]['mean']:.3f} ± {i[1]['std']:.3f}\" for i in sm.T.iterrows()} for smkey, sm in summarized.items()})\n",
    "# display(summarized_all)\n",
    "style = [{'selector': 'th', 'props': [('text-align','center')]}]\n",
    "\n",
    "for metric in [\"accuracy\", \"f1\"]:\n",
    "    display(Markdown(f\"## {metric}\"))\n",
    "    df = summarized_all.T.xs(metric, level=1).T\n",
    "    df.columns = [int(i) if isinstance(i,float) else i for i in df.columns.fillna(\"any\")]\n",
    "    pyperclip.copy(df.style.set_table_styles(style).to_latex(convert_css=True, clines=\"skip-last;index\", multirow_align=\"t\", hrules=True, siunitx=False))\n",
    "    display(df)"
   ]
  },
  {
   "cell_type": "markdown",
   "id": "2764829e-69b4-46a2-9b5a-62470ca270b9",
   "metadata": {},
   "source": [
    "## What about not 1-vs-rest?"
   ]
  },
  {
   "cell_type": "code",
   "execution_count": 8,
   "id": "7317b755-2bfc-4cf3-89b4-475ed6dc33e7",
   "metadata": {},
   "outputs": [
    {
     "data": {
      "text/markdown": [
       "<span style=\"font-size:11pt\">Using classes from fachbereich - 7081/11601 entities have a class</span>"
      ],
      "text/plain": [
       "<IPython.core.display.Markdown object>"
      ]
     },
     "metadata": {},
     "output_type": "display_data"
    },
    {
     "data": {
      "text/markdown": [
       "<span style=\"font-size:11pt\">Labels (10 classes): <span style=\"color: #0000ff\">Sprach-/Literaturwissenschaften</span>: 1654, <span style=\"color: #0000ff\">Erziehungs-/Kulturwissenschaften</span>: 2018, <span style=\"color: #0000ff\">Kultur-/Geowissenschaften</span>: 1428, <span style=\"color: #0000ff\">Sozialwissenschaften</span>: 702, <span style=\"color: #0000ff\">Rechtswissenschaften</span>: 333, <span style=\"color: #0000ff\">Humanwissenschaften</span>: 356, <span style=\"color: #0000ff\">Biologie/Chemie</span>: 162, <span style=\"color: #0000ff\">Mathematik/Informatik</span>: 186, <span style=\"color: #0000ff\">Physik</span>: 137, <span style=\"color: #0000ff\">Wirtschaftswissenschaften</span>: 105</span>"
      ],
      "text/plain": [
       "<IPython.core.display.Markdown object>"
      ]
     },
     "metadata": {},
     "output_type": "display_data"
    },
    {
     "data": {
      "text/markdown": [
       "<span style=\"font-size:11pt\">Eval-Settings: metric: <span style=\"color: #0000ff\">['accuracy', 'f1_macro']</span>, type: <span style=\"color: #0000ff\">all-at-once</span>, DT-Depth: <span style=\"color: #0000ff\">1</span>, train-test-split:<span style=\"color: #0000ff\"> 5-fold cross-validation </span></span>"
      ],
      "text/plain": [
       "<IPython.core.display.Markdown object>"
      ]
     },
     "metadata": {},
     "output_type": "display_data"
    },
    {
     "name": "stderr",
     "output_type": "stream",
     "text": [
      "derive_conceptualspace/evaluate/shallow_trees.py:140: UserWarning: There are more classes (10) than your decision-tree can possibly classify (2)\n"
     ]
    },
    {
     "data": {
      "text/markdown": [
       "<span style=\"font-size:11pt\">Using classes from fachbereich - 7081/11601 entities have a class</span>"
      ],
      "text/plain": [
       "<IPython.core.display.Markdown object>"
      ]
     },
     "metadata": {},
     "output_type": "display_data"
    },
    {
     "data": {
      "text/markdown": [
       "<span style=\"font-size:11pt\">Labels (10 classes): <span style=\"color: #0000ff\">Sprach-/Literaturwissenschaften</span>: 1654, <span style=\"color: #0000ff\">Erziehungs-/Kulturwissenschaften</span>: 2018, <span style=\"color: #0000ff\">Kultur-/Geowissenschaften</span>: 1428, <span style=\"color: #0000ff\">Sozialwissenschaften</span>: 702, <span style=\"color: #0000ff\">Rechtswissenschaften</span>: 333, <span style=\"color: #0000ff\">Humanwissenschaften</span>: 356, <span style=\"color: #0000ff\">Biologie/Chemie</span>: 162, <span style=\"color: #0000ff\">Mathematik/Informatik</span>: 186, <span style=\"color: #0000ff\">Physik</span>: 137, <span style=\"color: #0000ff\">Wirtschaftswissenschaften</span>: 105</span>"
      ],
      "text/plain": [
       "<IPython.core.display.Markdown object>"
      ]
     },
     "metadata": {},
     "output_type": "display_data"
    },
    {
     "data": {
      "text/markdown": [
       "<span style=\"font-size:11pt\">Eval-Settings: metric: <span style=\"color: #0000ff\">['accuracy', 'f1_macro']</span>, type: <span style=\"color: #0000ff\">all-at-once</span>, DT-Depth: <span style=\"color: #0000ff\">2</span>, train-test-split:<span style=\"color: #0000ff\"> 5-fold cross-validation </span></span>"
      ],
      "text/plain": [
       "<IPython.core.display.Markdown object>"
      ]
     },
     "metadata": {},
     "output_type": "display_data"
    },
    {
     "name": "stderr",
     "output_type": "stream",
     "text": [
      "derive_conceptualspace/evaluate/shallow_trees.py:140: UserWarning: There are more classes (10) than your decision-tree can possibly classify (4)\n"
     ]
    },
    {
     "data": {
      "text/markdown": [
       "<span style=\"font-size:11pt\">Using classes from fachbereich - 7081/11601 entities have a class</span>"
      ],
      "text/plain": [
       "<IPython.core.display.Markdown object>"
      ]
     },
     "metadata": {},
     "output_type": "display_data"
    },
    {
     "data": {
      "text/markdown": [
       "<span style=\"font-size:11pt\">Labels (10 classes): <span style=\"color: #0000ff\">Sprach-/Literaturwissenschaften</span>: 1654, <span style=\"color: #0000ff\">Erziehungs-/Kulturwissenschaften</span>: 2018, <span style=\"color: #0000ff\">Kultur-/Geowissenschaften</span>: 1428, <span style=\"color: #0000ff\">Sozialwissenschaften</span>: 702, <span style=\"color: #0000ff\">Rechtswissenschaften</span>: 333, <span style=\"color: #0000ff\">Humanwissenschaften</span>: 356, <span style=\"color: #0000ff\">Biologie/Chemie</span>: 162, <span style=\"color: #0000ff\">Mathematik/Informatik</span>: 186, <span style=\"color: #0000ff\">Physik</span>: 137, <span style=\"color: #0000ff\">Wirtschaftswissenschaften</span>: 105</span>"
      ],
      "text/plain": [
       "<IPython.core.display.Markdown object>"
      ]
     },
     "metadata": {},
     "output_type": "display_data"
    },
    {
     "data": {
      "text/markdown": [
       "<span style=\"font-size:11pt\">Eval-Settings: metric: <span style=\"color: #0000ff\">['accuracy', 'f1_macro']</span>, type: <span style=\"color: #0000ff\">all-at-once</span>, DT-Depth: <span style=\"color: #0000ff\">3</span>, train-test-split:<span style=\"color: #0000ff\"> 5-fold cross-validation </span></span>"
      ],
      "text/plain": [
       "<IPython.core.display.Markdown object>"
      ]
     },
     "metadata": {},
     "output_type": "display_data"
    },
    {
     "name": "stderr",
     "output_type": "stream",
     "text": [
      "derive_conceptualspace/evaluate/shallow_trees.py:140: UserWarning: There are more classes (10) than your decision-tree can possibly classify (8)\n"
     ]
    },
    {
     "data": {
      "text/markdown": [
       "<span style=\"font-size:11pt\">Using classes from fachbereich - 7081/11601 entities have a class</span>"
      ],
      "text/plain": [
       "<IPython.core.display.Markdown object>"
      ]
     },
     "metadata": {},
     "output_type": "display_data"
    },
    {
     "data": {
      "text/markdown": [
       "<span style=\"font-size:11pt\">Labels (10 classes): <span style=\"color: #0000ff\">Sprach-/Literaturwissenschaften</span>: 1654, <span style=\"color: #0000ff\">Erziehungs-/Kulturwissenschaften</span>: 2018, <span style=\"color: #0000ff\">Kultur-/Geowissenschaften</span>: 1428, <span style=\"color: #0000ff\">Sozialwissenschaften</span>: 702, <span style=\"color: #0000ff\">Rechtswissenschaften</span>: 333, <span style=\"color: #0000ff\">Humanwissenschaften</span>: 356, <span style=\"color: #0000ff\">Biologie/Chemie</span>: 162, <span style=\"color: #0000ff\">Mathematik/Informatik</span>: 186, <span style=\"color: #0000ff\">Physik</span>: 137, <span style=\"color: #0000ff\">Wirtschaftswissenschaften</span>: 105</span>"
      ],
      "text/plain": [
       "<IPython.core.display.Markdown object>"
      ]
     },
     "metadata": {},
     "output_type": "display_data"
    },
    {
     "data": {
      "text/markdown": [
       "<span style=\"font-size:11pt\">Eval-Settings: metric: <span style=\"color: #0000ff\">['accuracy', 'f1_macro']</span>, type: <span style=\"color: #0000ff\">all-at-once</span>, DT-Depth: <span style=\"color: #0000ff\">None</span>, train-test-split:<span style=\"color: #0000ff\"> 5-fold cross-validation </span></span>"
      ],
      "text/plain": [
       "<IPython.core.display.Markdown object>"
      ]
     },
     "metadata": {},
     "output_type": "display_data"
    }
   ],
   "source": [
    "metrics = [\"accuracy\", \"f1_macro\"]\n",
    "new_scores = {}\n",
    "for depth in [1, 2, 3, None]:\n",
    "    with parallel_backend('threading', n_jobs=7):\n",
    "        scores, clsizes = classify_shallowtree(clusters, embedding, descriptions, ctx.obj[\"dataset_class\"], one_vs_rest=False,\n",
    "                                               classes=\"fachbereich\", dt_depth=depth, test_percentage_crossval=5, metric=metrics, repeat=10, pgbar=True)\n",
    "    for m in metrics:\n",
    "        new_scores.setdefault(depth, {})[m] = np.array(flatten([i[f\"test_{m}\"] for i in scores]))"
   ]
  },
  {
   "cell_type": "code",
   "execution_count": 9,
   "id": "7f53dc76-5b35-4d17-a05a-7cdf77ff0d54",
   "metadata": {},
   "outputs": [
    {
     "data": {
      "text/html": [
       "<div>\n",
       "<style scoped>\n",
       "    .dataframe tbody tr th:only-of-type {\n",
       "        vertical-align: middle;\n",
       "    }\n",
       "\n",
       "    .dataframe tbody tr th {\n",
       "        vertical-align: top;\n",
       "    }\n",
       "\n",
       "    .dataframe thead th {\n",
       "        text-align: right;\n",
       "    }\n",
       "</style>\n",
       "<table border=\"1\" class=\"dataframe\">\n",
       "  <thead>\n",
       "    <tr style=\"text-align: right;\">\n",
       "      <th></th>\n",
       "      <th></th>\n",
       "      <th>1</th>\n",
       "      <th>2</th>\n",
       "      <th>3</th>\n",
       "      <th>any</th>\n",
       "    </tr>\n",
       "  </thead>\n",
       "  <tbody>\n",
       "    <tr>\n",
       "      <th rowspan=\"2\" valign=\"top\"></th>\n",
       "      <th>Accuracy</th>\n",
       "      <td>0.056 ± 0.008</td>\n",
       "      <td>0.078 ± 0.042</td>\n",
       "      <td>0.196 ± 0.017</td>\n",
       "      <td>0.584 ± 0.015</td>\n",
       "    </tr>\n",
       "    <tr>\n",
       "      <th>F1</th>\n",
       "      <td>0.072 ± 0.006</td>\n",
       "      <td>0.125 ± 0.014</td>\n",
       "      <td>0.199 ± 0.007</td>\n",
       "      <td>0.513 ± 0.020</td>\n",
       "    </tr>\n",
       "  </tbody>\n",
       "</table>\n",
       "</div>"
      ],
      "text/plain": [
       "                       1              2              3            any\n",
       " Accuracy  0.056 ± 0.008  0.078 ± 0.042  0.196 ± 0.017  0.584 ± 0.015\n",
       " F1        0.072 ± 0.006  0.125 ± 0.014  0.199 ± 0.007  0.513 ± 0.020"
      ]
     },
     "execution_count": 9,
     "metadata": {},
     "output_type": "execute_result"
    }
   ],
   "source": [
    "df = pd.concat([pd.DataFrame(pd.DataFrame(new_scores[depth][metric]).unstack(), columns=pd.MultiIndex.from_product([[depth], [metric]], names=[\"depth\",\"metric\"])).T for depth, v in new_scores.items() for metric, v2 in v.items()])\n",
    "df.index = pd.MultiIndex.from_tuples([(1, 'Accuracy'), (1, 'F1'), (2, 'Accuracy'), (2, 'F1'), (3, 'Accuracy'), (3, 'F1'), (\"any\", 'Accuracy'), (\"any\", 'F1')], names=['depth', 'metric'])\n",
    "df = pd.DataFrame({i[0] if not pd.isna(i[0]) else \"any\": f\"{i[1].mean():.3f} ± {i[1].std():.3f}\" for i in df.iterrows()}, index=[\"\"]).stack()\n",
    "pyperclip.copy(df.style.to_latex(convert_css=True, multirow_align=\"t\", hrules=True, siunitx=False))\n",
    "df"
   ]
  },
  {
   "cell_type": "markdown",
   "id": "0d71e6b0-f3cb-4a01-9efa-6f88edaf418b",
   "metadata": {},
   "source": [
    "## Ok, now, Decision-Tree for best config"
   ]
  },
  {
   "cell_type": "code",
   "execution_count": null,
   "id": "8bfcd9c5-0b02-4797-af87-2f6c7153ea2d",
   "metadata": {},
   "outputs": [],
   "source": [
    "conf, perf = get_best_conf(\"fachbereich\", verbose=True, balance_classes=True, one_vs_rest=True, dt_depth=1, test_percentage_crossval=0.33)"
   ]
  },
  {
   "cell_type": "code",
   "execution_count": 3,
   "id": "f476fcf3-e378-4458-b417-8810ffcfa43f",
   "metadata": {},
   "outputs": [
    {
     "name": "stdout",
     "output_type": "stream",
     "text": [
      "MA_DATASET=siddata2022;MA_LANGUAGE=de;MA_DEBUG=False;MA_PP_COMPONENTS=mfauhtcsldp;MA_TRANSLATE_POLICY=onlyorig;MA_MIN_WORDS_PER_DESC=80;MA_QUANTIFICATION_MEASURE=tfidf;MA_EMBED_ALGO=mds;MA_EMBED_DIMENSIONS=200;MA_EXTRACTION_METHOD=tfidf;MA_DCM_QUANT_MEASURE=ppmi;MA_KAPPA_WEIGHTS=quadratic;MA_CLASSIFIER_SUCCMETRIC=kappa_rank2rank_onlypos_min;MA_PRIM_LAMBDA=0.5;MA_SEC_LAMBDA=0.2;MA_CLUSTER_DIRECTION_ALGO=reclassify\n",
      "cluster_reprs\n"
     ]
    }
   ],
   "source": [
    "print_envvars(get_filename(conf, get_dependencies=False, doprint=False))"
   ]
  },
  {
   "cell_type": "code",
   "execution_count": null,
   "id": "741276b1-44a9-454a-a299-ea562840ddd1",
   "metadata": {},
   "outputs": [],
   "source": [
    "ctx = SnakeContext.loader_context(config=conf, silent=True, warn_filters=[\"DifferentFileWarning\"])\n",
    "ctx.print_important_settings()\n",
    "cluster_reprs, clusters, embedding, descriptions = ctx.load(\"cluster_reprs\", \"clusters\", \"embedding\", \"pp_descriptions\")"
   ]
  },
  {
   "cell_type": "markdown",
   "id": "d98459b7-3ca1-4503-96e6-6037f9757b46",
   "metadata": {},
   "source": [
    "# Classifying Fachbereich"
   ]
  },
  {
   "cell_type": "markdown",
   "id": "c6d26d73-a4a1-4015-9baf-3e38dc8b9f22",
   "metadata": {},
   "source": [
    "### Sample one (best 05.03.2022)"
   ]
  },
  {
   "cell_type": "code",
   "execution_count": 388,
   "id": "b18a6e35-70a5-465e-a2a2-6f19c652cfb3",
   "metadata": {},
   "outputs": [
    {
     "name": "stdout",
     "output_type": "stream",
     "text": [
      "{'dataset': 'siddata2022', 'language': 'de', 'debug': False, 'pp_components': 'mfauhcsd2', 'translate_policy': 'onlyorig', 'min_words_per_desc': 80, 'quantification_measure': 'tfidf', 'embed_algo': 'mds', 'embed_dimensions': '200', 'extraction_method': 'tfidf', 'dcm_quant_measure': 'count', 'kappa_weights': 'quadratic', 'classifier_succmetric': 'kappa_digitized_onlypos_2', 'prim_lambda': 0.5, 'sec_lambda': '0.2', 'cluster_direction_algo': 'reclassify'}\n",
      "\n",
      "MA_DATASET=siddata2022;MA_LANGUAGE=de;MA_DEBUG=False;MA_PP_COMPONENTS=mfauhcsd2;MA_TRANSLATE_POLICY=onlyorig;MA_MIN_WORDS_PER_DESC=80;MA_QUANTIFICATION_MEASURE=tfidf;MA_EMBED_ALGO=mds;MA_EMBED_DIMENSIONS=200;MA_EXTRACTION_METHOD=tfidf;MA_DCM_QUANT_MEASURE=count;MA_KAPPA_WEIGHTS=quadratic;MA_CLASSIFIER_SUCCMETRIC=kappa_digitized_onlypos_2;MA_PRIM_LAMBDA=0.5;MA_SEC_LAMBDA=0.2;MA_CLUSTER_DIRECTION_ALGO=reclassify\n",
      "cluster_reprs\n"
     ]
    }
   ],
   "source": [
    "from derive_conceptualspace.util.result_analysis_tools import getfiles_allconfigs\n",
    "confs, print_conf = getfiles_allconfigs(\"clusters\", dataset=\"siddata2022\", verbose=False)\n",
    "\n",
    "# best_conf = {'pp_components': 'mfauhcsd2', 'quantification_measure': 'tfidf', 'embed_dimensions': '200', 'dcm_quant_measure': 'count', 'classifier_succmetric': 'kappa_digitized_onlypos_2', 'sec_lambda': '0.2'}\n",
    "best_conf = {**confs[0], **best_conf, \"debug\": False}\n",
    "print(best_conf)\n",
    "print()\n",
    "print_envvars(get_filename({**best_conf, \"debug\": False}, get_dependencies=False, doprint=False))"
   ]
  },
  {
   "cell_type": "code",
   "execution_count": 390,
   "id": "1cf65144-0a57-442d-9bd4-840370e26041",
   "metadata": {},
   "outputs": [
    {
     "data": {
      "text/markdown": [
       "<span style=\"font-size:11pt\">Running with the following settings [<span style=\"color: #ff00ff\">4a341d441d</span>]: CLASSIFIER: <span style=\"color: #0000ff\">SVM</span>, CLASSIFIER_SUCCMETRIC: <span style=\"color: #ff0000\">kappa_digitized_onlypos_2</span>, CLUSTER_DIRECTION_ALGO: <span style=\"color: #0000ff\">reclassify</span>, DATASET: <span style=\"color: #ff0000\">siddata2022</span>, DCM_QUANT_MEASURE: <span style=\"color: #0000ff\">count</span>, DEBUG: <span style=\"color: #0000ff\">False</span>, EMBED_ALGO: <span style=\"color: #0000ff\">mds</span>, EMBED_DIMENSIONS: <span style=\"color: #ff0000\">200</span>, EXTRACTION_METHOD: <span style=\"color: #ff0000\">tfidf</span>, KAPPA_WEIGHTS: <span style=\"color: #0000ff\">quadratic</span>, LANGUAGE: <span style=\"color: #0000ff\">de</span>, MIN_WORDS_PER_DESC: <span style=\"color: #ff0000\">80</span>, PP_COMPONENTS: <span style=\"color: #ff0000\">mfauhcsd2</span>, PRIM_LAMBDA: <span style=\"color: #0000ff\">0.5</span>, QUANTIFICATION_MEASURE: <span style=\"color: #ff0000\">tfidf</span>, RANDOM_SEED: <span style=\"color: #ff0000\">None</span>, SEC_LAMBDA: <span style=\"color: #ff0000\">0.2</span>, TRANSLATE_POLICY: <span style=\"color: #0000ff\">onlyorig</span></span>"
      ],
      "text/plain": [
       "<IPython.core.display.Markdown object>"
      ]
     },
     "metadata": {},
     "output_type": "display_data"
    },
    {
     "name": "stderr",
     "output_type": "stream",
     "text": [
      "derive_conceptualspace/util/jsonloadstore.py:317: DifferentFileWarning: A different clusters was used for file cluster_reprs!\n"
     ]
    }
   ],
   "source": [
    "ctx = SnakeContext.loader_context(config=best_conf, silent=True)\n",
    "ctx.print_important_settings()\n",
    "descriptions, clusters, embedding, cluster_reprs = ctx.load(\"pp_descriptions\", \"clusters\", \"embedding\", \"cluster_reprs\",\n",
    "                  loaders=dict(pp_descriptions=DescriptionList.from_json, clusters=cluster_loader, embedding=lambda **args: args[\"embedding\"].embedding_))"
   ]
  },
  {
   "cell_type": "code",
   "execution_count": 389,
   "id": "1ac7f522-fb9d-4991-96ff-e79c3fc0ec52",
   "metadata": {
    "tags": []
   },
   "outputs": [
    {
     "data": {
      "text/markdown": [
       "<span style=\"font-size:11pt\">Using classes from fachbereich - 7081/11601 entities have a class</span>"
      ],
      "text/plain": [
       "<IPython.core.display.Markdown object>"
      ]
     },
     "metadata": {},
     "output_type": "display_data"
    },
    {
     "data": {
      "text/markdown": [
       "<span style=\"font-size:11pt\">Labels (10 classes): <span style=\"color: #0000ff\">Sprach-/Literaturwissenschaften</span>: 1659, <span style=\"color: #0000ff\">Erziehungs-/Kulturwissenschaften</span>: 1998, <span style=\"color: #0000ff\">Kultur-/Geowissenschaften</span>: 1447, <span style=\"color: #0000ff\">Sozialwissenschaften</span>: 715, <span style=\"color: #0000ff\">Rechtswissenschaften</span>: 334, <span style=\"color: #0000ff\">Humanwissenschaften</span>: 354, <span style=\"color: #0000ff\">Biologie/Chemie</span>: 160, <span style=\"color: #0000ff\">Mathematik/Informatik</span>: 180, <span style=\"color: #0000ff\">Physik</span>: 134, <span style=\"color: #0000ff\">Wirtschaftswissenschaften</span>: 100</span>"
      ],
      "text/plain": [
       "<IPython.core.display.Markdown object>"
      ]
     },
     "metadata": {},
     "output_type": "display_data"
    },
    {
     "data": {
      "text/markdown": [
       "<span style=\"font-size:11pt\">Eval-Settings: metric: <span style=\"color: #0000ff\">acc</span>, type: <span style=\"color: #0000ff\">one-vs-rest</span>, DT-Depth: <span style=\"color: #0000ff\">1</span>, train-test-split:<span style=\"color: #0000ff\"> 33.0% in test-set </span></span>"
      ],
      "text/plain": [
       "<IPython.core.display.Markdown object>"
      ]
     },
     "metadata": {},
     "output_type": "display_data"
    },
    {
     "data": {
      "image/svg+xml": [
       "<?xml version=\"1.0\" encoding=\"UTF-8\" standalone=\"no\"?>\n",
       "<!DOCTYPE svg PUBLIC \"-//W3C//DTD SVG 1.1//EN\"\n",
       " \"http://www.w3.org/Graphics/SVG/1.1/DTD/svg11.dtd\">\n",
       "<!-- Generated by graphviz version 2.43.0 (0)\n",
       " -->\n",
       "<!-- Title: root Pages: 1 -->\n",
       "<svg width=\"933pt\" height=\"177pt\"\n",
       " viewBox=\"0.00 0.00 932.50 177.00\" xmlns=\"http://www.w3.org/2000/svg\" xmlns:xlink=\"http://www.w3.org/1999/xlink\">\n",
       "<g id=\"graph0\" class=\"graph\" transform=\"scale(1 1) rotate(0) translate(4 173)\">\n",
       "<title>root</title>\n",
       "<polygon fill=\"white\" stroke=\"transparent\" points=\"-4,4 -4,-173 928.5,-173 928.5,4 -4,4\"/>\n",
       "<!-- 0 -->\n",
       "<g id=\"node1\" class=\"node\">\n",
       "<title>0</title>\n",
       "<path fill=\"#ffffff\" stroke=\"black\" d=\"M414.5,-169C414.5,-169 163.5,-169 163.5,-169 157.5,-169 151.5,-163 151.5,-157 151.5,-157 151.5,-106 151.5,-106 151.5,-100 157.5,-94 163.5,-94 163.5,-94 414.5,-94 414.5,-94 420.5,-94 426.5,-100 426.5,-106 426.5,-106 426.5,-157 426.5,-157 426.5,-163 420.5,-169 414.5,-169\"/>\n",
       "<text text-anchor=\"start\" x=\"192.5\" y=\"-150.3\" font-family=\"Helvetica,sans-Serif\" font-size=\"14.00\">erziehungswissenschaft ≤ 0.765</text>\n",
       "<text text-anchor=\"start\" x=\"240.5\" y=\"-135.3\" font-family=\"Helvetica,sans-Serif\" font-size=\"14.00\">samples = 4744</text>\n",
       "<text text-anchor=\"start\" x=\"216\" y=\"-120.3\" font-family=\"Helvetica,sans-Serif\" font-size=\"14.00\">value = [2372.0, 2372.0]</text>\n",
       "<text text-anchor=\"start\" x=\"164\" y=\"-105.3\" font-family=\"Helvetica,sans-Serif\" font-size=\"14.00\">class = Erziehungs&#45;/Kulturwissenschaften</text>\n",
       "</g>\n",
       "<!-- 1 -->\n",
       "<g id=\"node2\" class=\"node\">\n",
       "<title>1</title>\n",
       "<path fill=\"#f2c09b\" stroke=\"black\" d=\"M186,-58C186,-58 12,-58 12,-58 6,-58 0,-52 0,-46 0,-46 0,-12 0,-12 0,-6 6,0 12,0 12,0 186,0 186,0 192,0 198,-6 198,-12 198,-12 198,-46 198,-46 198,-52 192,-58 186,-58\"/>\n",
       "<text text-anchor=\"start\" x=\"50.5\" y=\"-40.3\" font-family=\"Helvetica,sans-Serif\" font-size=\"14.00\">samples = 3649</text>\n",
       "<text text-anchor=\"start\" x=\"11\" y=\"-25.3\" font-family=\"Helvetica,sans-Serif\" font-size=\"14.00\">value = [2126.789, 1055.797]</text>\n",
       "<text text-anchor=\"start\" x=\"60\" y=\"-10.3\" font-family=\"Helvetica,sans-Serif\" font-size=\"14.00\">class = other</text>\n",
       "</g>\n",
       "<!-- 0&#45;&gt;1 -->\n",
       "<g id=\"edge1\" class=\"edge\">\n",
       "<title>0&#45;&gt;1</title>\n",
       "<path fill=\"none\" stroke=\"black\" d=\"M219.87,-93.93C200.63,-83.76 179.86,-72.77 161.05,-62.82\"/>\n",
       "<polygon fill=\"black\" stroke=\"black\" points=\"162.47,-59.61 151.99,-58.03 159.19,-65.8 162.47,-59.61\"/>\n",
       "<text text-anchor=\"middle\" x=\"159.35\" y=\"-78.22\" font-family=\"Helvetica,sans-Serif\" font-size=\"14.00\">True</text>\n",
       "</g>\n",
       "<!-- 2 -->\n",
       "<g id=\"node3\" class=\"node\">\n",
       "<title>2</title>\n",
       "<path fill=\"#5eafea\" stroke=\"black\" d=\"M479.5,-58C479.5,-58 228.5,-58 228.5,-58 222.5,-58 216.5,-52 216.5,-46 216.5,-46 216.5,-12 216.5,-12 216.5,-6 222.5,0 228.5,0 228.5,0 479.5,0 479.5,0 485.5,0 491.5,-6 491.5,-12 491.5,-12 491.5,-46 491.5,-46 491.5,-52 485.5,-58 479.5,-58\"/>\n",
       "<text text-anchor=\"start\" x=\"305.5\" y=\"-40.3\" font-family=\"Helvetica,sans-Serif\" font-size=\"14.00\">samples = 1095</text>\n",
       "<text text-anchor=\"start\" x=\"269.5\" y=\"-25.3\" font-family=\"Helvetica,sans-Serif\" font-size=\"14.00\">value = [245.211, 1316.203]</text>\n",
       "<text text-anchor=\"start\" x=\"229\" y=\"-10.3\" font-family=\"Helvetica,sans-Serif\" font-size=\"14.00\">class = Erziehungs&#45;/Kulturwissenschaften</text>\n",
       "</g>\n",
       "<!-- 0&#45;&gt;2 -->\n",
       "<g id=\"edge2\" class=\"edge\">\n",
       "<title>0&#45;&gt;2</title>\n",
       "<path fill=\"none\" stroke=\"black\" d=\"M312.65,-93.93C318.37,-85.09 324.48,-75.64 330.2,-66.79\"/>\n",
       "<polygon fill=\"black\" stroke=\"black\" points=\"333.28,-68.49 335.77,-58.19 327.4,-64.68 333.28,-68.49\"/>\n",
       "<text text-anchor=\"middle\" x=\"341.01\" y=\"-78.93\" font-family=\"Helvetica,sans-Serif\" font-size=\"14.00\">False</text>\n",
       "</g>\n",
       "<!-- 0_gv1 -->\n",
       "<g id=\"node4\" class=\"node\">\n",
       "<title>0_gv1</title>\n",
       "<path fill=\"#ffffff\" stroke=\"black\" d=\"M761.5,-169C761.5,-169 582.5,-169 582.5,-169 576.5,-169 570.5,-163 570.5,-157 570.5,-157 570.5,-106 570.5,-106 570.5,-100 576.5,-94 582.5,-94 582.5,-94 761.5,-94 761.5,-94 767.5,-94 773.5,-100 773.5,-106 773.5,-106 773.5,-157 773.5,-157 773.5,-163 767.5,-169 761.5,-169\"/>\n",
       "<text text-anchor=\"start\" x=\"613\" y=\"-150.3\" font-family=\"Helvetica,sans-Serif\" font-size=\"14.00\">offentliches ≤ 0.857</text>\n",
       "<text text-anchor=\"start\" x=\"623.5\" y=\"-135.3\" font-family=\"Helvetica,sans-Serif\" font-size=\"14.00\">samples = 4744</text>\n",
       "<text text-anchor=\"start\" x=\"599\" y=\"-120.3\" font-family=\"Helvetica,sans-Serif\" font-size=\"14.00\">value = [2372.0, 2372.0]</text>\n",
       "<text text-anchor=\"start\" x=\"581.5\" y=\"-105.3\" font-family=\"Helvetica,sans-Serif\" font-size=\"14.00\">class = Rechtswissenschaften</text>\n",
       "</g>\n",
       "<!-- 1_gv1 -->\n",
       "<g id=\"node5\" class=\"node\">\n",
       "<title>1_gv1</title>\n",
       "<path fill=\"#e99254\" stroke=\"black\" d=\"M691,-58C691,-58 525,-58 525,-58 519,-58 513,-52 513,-46 513,-46 513,-12 513,-12 513,-6 519,0 525,0 525,0 691,0 691,0 697,0 703,-6 703,-12 703,-12 703,-46 703,-46 703,-52 697,-58 691,-58\"/>\n",
       "<text text-anchor=\"start\" x=\"559.5\" y=\"-40.3\" font-family=\"Helvetica,sans-Serif\" font-size=\"14.00\">samples = 4053</text>\n",
       "<text text-anchor=\"start\" x=\"523.5\" y=\"-25.3\" font-family=\"Helvetica,sans-Serif\" font-size=\"14.00\">value = [2110.016, 284.203]</text>\n",
       "<text text-anchor=\"start\" x=\"569\" y=\"-10.3\" font-family=\"Helvetica,sans-Serif\" font-size=\"14.00\">class = other</text>\n",
       "</g>\n",
       "<!-- 0_gv1&#45;&gt;1_gv1 -->\n",
       "<g id=\"edge3\" class=\"edge\">\n",
       "<title>0_gv1&#45;&gt;1_gv1</title>\n",
       "<path fill=\"none\" stroke=\"black\" d=\"M648.71,-93.93C643.08,-85.09 637.07,-75.64 631.43,-66.79\"/>\n",
       "<polygon fill=\"black\" stroke=\"black\" points=\"634.27,-64.74 625.95,-58.19 628.37,-68.5 634.27,-64.74\"/>\n",
       "<text text-anchor=\"middle\" x=\"620.54\" y=\"-78.89\" font-family=\"Helvetica,sans-Serif\" font-size=\"14.00\">True</text>\n",
       "</g>\n",
       "<!-- 2_gv1 -->\n",
       "<g id=\"node6\" class=\"node\">\n",
       "<title>2_gv1</title>\n",
       "<path fill=\"#52a9e8\" stroke=\"black\" d=\"M912.5,-58C912.5,-58 733.5,-58 733.5,-58 727.5,-58 721.5,-52 721.5,-46 721.5,-46 721.5,-12 721.5,-12 721.5,-6 727.5,0 733.5,0 733.5,0 912.5,0 912.5,0 918.5,0 924.5,-6 924.5,-12 924.5,-12 924.5,-46 924.5,-46 924.5,-52 918.5,-58 912.5,-58\"/>\n",
       "<text text-anchor=\"start\" x=\"778\" y=\"-40.3\" font-family=\"Helvetica,sans-Serif\" font-size=\"14.00\">samples = 691</text>\n",
       "<text text-anchor=\"start\" x=\"738.5\" y=\"-25.3\" font-family=\"Helvetica,sans-Serif\" font-size=\"14.00\">value = [261.984, 2087.797]</text>\n",
       "<text text-anchor=\"start\" x=\"732.5\" y=\"-10.3\" font-family=\"Helvetica,sans-Serif\" font-size=\"14.00\">class = Rechtswissenschaften</text>\n",
       "</g>\n",
       "<!-- 0_gv1&#45;&gt;2_gv1 -->\n",
       "<g id=\"edge4\" class=\"edge\">\n",
       "<title>0_gv1&#45;&gt;2_gv1</title>\n",
       "<path fill=\"none\" stroke=\"black\" d=\"M726.94,-93.93C741.74,-84.08 757.69,-73.47 772.25,-63.78\"/>\n",
       "<polygon fill=\"black\" stroke=\"black\" points=\"774.26,-66.64 780.65,-58.19 770.38,-60.82 774.26,-66.64\"/>\n",
       "<text text-anchor=\"middle\" x=\"775.73\" y=\"-79\" font-family=\"Helvetica,sans-Serif\" font-size=\"14.00\">False</text>\n",
       "</g>\n",
       "</g>\n",
       "</svg>\n"
      ],
      "text/plain": [
       "<graphviz.sources.Source at 0x7ff5f982ee00>"
      ]
     },
     "metadata": {},
     "output_type": "display_data"
    },
    {
     "data": {
      "text/markdown": [
       "<span style=\"font-size:11pt\"><br><br></span>"
      ],
      "text/plain": [
       "<IPython.core.display.Markdown object>"
      ]
     },
     "metadata": {},
     "output_type": "display_data"
    },
    {
     "data": {
      "image/svg+xml": [
       "<?xml version=\"1.0\" encoding=\"UTF-8\" standalone=\"no\"?>\n",
       "<!DOCTYPE svg PUBLIC \"-//W3C//DTD SVG 1.1//EN\"\n",
       " \"http://www.w3.org/Graphics/SVG/1.1/DTD/svg11.dtd\">\n",
       "<!-- Generated by graphviz version 2.43.0 (0)\n",
       " -->\n",
       "<!-- Title: root Pages: 1 -->\n",
       "<svg width=\"884pt\" height=\"177pt\"\n",
       " viewBox=\"0.00 0.00 883.50 177.00\" xmlns=\"http://www.w3.org/2000/svg\" xmlns:xlink=\"http://www.w3.org/1999/xlink\">\n",
       "<g id=\"graph0\" class=\"graph\" transform=\"scale(1 1) rotate(0) translate(4 173)\">\n",
       "<title>root</title>\n",
       "<polygon fill=\"white\" stroke=\"transparent\" points=\"-4,4 -4,-173 879.5,-173 879.5,4 -4,4\"/>\n",
       "<!-- 0 -->\n",
       "<g id=\"node1\" class=\"node\">\n",
       "<title>0</title>\n",
       "<path fill=\"#ffffff\" stroke=\"black\" d=\"M335,-169C335,-169 157,-169 157,-169 151,-169 145,-163 145,-157 145,-157 145,-106 145,-106 145,-100 151,-94 157,-94 157,-94 335,-94 335,-94 341,-94 347,-100 347,-106 347,-106 347,-157 347,-157 347,-163 341,-169 335,-169\"/>\n",
       "<text text-anchor=\"start\" x=\"196\" y=\"-150.3\" font-family=\"Helvetica,sans-Serif\" font-size=\"14.00\">mechanik ≤ 0.81</text>\n",
       "<text text-anchor=\"start\" x=\"197.5\" y=\"-135.3\" font-family=\"Helvetica,sans-Serif\" font-size=\"14.00\">samples = 4744</text>\n",
       "<text text-anchor=\"start\" x=\"173\" y=\"-120.3\" font-family=\"Helvetica,sans-Serif\" font-size=\"14.00\">value = [2372.0, 2372.0]</text>\n",
       "<text text-anchor=\"start\" x=\"155\" y=\"-105.3\" font-family=\"Helvetica,sans-Serif\" font-size=\"14.00\">class = Mathematik/Informatik</text>\n",
       "</g>\n",
       "<!-- 1 -->\n",
       "<g id=\"node2\" class=\"node\">\n",
       "<title>1</title>\n",
       "<path fill=\"#eb9e67\" stroke=\"black\" d=\"M170,-58C170,-58 12,-58 12,-58 6,-58 0,-52 0,-46 0,-46 0,-12 0,-12 0,-6 6,0 12,0 12,0 170,0 170,0 176,0 182,-6 182,-12 182,-12 182,-46 182,-46 182,-52 176,-58 170,-58\"/>\n",
       "<text text-anchor=\"start\" x=\"42.5\" y=\"-40.3\" font-family=\"Helvetica,sans-Serif\" font-size=\"14.00\">samples = 3836</text>\n",
       "<text text-anchor=\"start\" x=\"10.5\" y=\"-25.3\" font-family=\"Helvetica,sans-Serif\" font-size=\"14.00\">value = [1957.58, 455.424]</text>\n",
       "<text text-anchor=\"start\" x=\"52\" y=\"-10.3\" font-family=\"Helvetica,sans-Serif\" font-size=\"14.00\">class = other</text>\n",
       "</g>\n",
       "<!-- 0&#45;&gt;1 -->\n",
       "<g id=\"edge1\" class=\"edge\">\n",
       "<title>0&#45;&gt;1</title>\n",
       "<path fill=\"none\" stroke=\"black\" d=\"M189.6,-93.93C174.41,-84.08 158.04,-73.47 143.09,-63.78\"/>\n",
       "<polygon fill=\"black\" stroke=\"black\" points=\"144.77,-60.69 134.47,-58.19 140.96,-66.57 144.77,-60.69\"/>\n",
       "<text text-anchor=\"middle\" x=\"139.69\" y=\"-78.94\" font-family=\"Helvetica,sans-Serif\" font-size=\"14.00\">True</text>\n",
       "</g>\n",
       "<!-- 2 -->\n",
       "<g id=\"node3\" class=\"node\">\n",
       "<title>2</title>\n",
       "<path fill=\"#64b2eb\" stroke=\"black\" d=\"M390,-58C390,-58 212,-58 212,-58 206,-58 200,-52 200,-46 200,-46 200,-12 200,-12 200,-6 206,0 212,0 212,0 390,0 390,0 396,0 402,-6 402,-12 402,-12 402,-46 402,-46 402,-52 396,-58 390,-58\"/>\n",
       "<text text-anchor=\"start\" x=\"256\" y=\"-40.3\" font-family=\"Helvetica,sans-Serif\" font-size=\"14.00\">samples = 908</text>\n",
       "<text text-anchor=\"start\" x=\"220.5\" y=\"-25.3\" font-family=\"Helvetica,sans-Serif\" font-size=\"14.00\">value = [414.42, 1916.576]</text>\n",
       "<text text-anchor=\"start\" x=\"210\" y=\"-10.3\" font-family=\"Helvetica,sans-Serif\" font-size=\"14.00\">class = Mathematik/Informatik</text>\n",
       "</g>\n",
       "<!-- 0&#45;&gt;2 -->\n",
       "<g id=\"edge2\" class=\"edge\">\n",
       "<title>0&#45;&gt;2</title>\n",
       "<path fill=\"none\" stroke=\"black\" d=\"M266.01,-93.93C270.8,-85.19 275.91,-75.84 280.71,-67.07\"/>\n",
       "<polygon fill=\"black\" stroke=\"black\" points=\"283.84,-68.64 285.57,-58.19 277.7,-65.28 283.84,-68.64\"/>\n",
       "<text text-anchor=\"middle\" x=\"292.59\" y=\"-78.48\" font-family=\"Helvetica,sans-Serif\" font-size=\"14.00\">False</text>\n",
       "</g>\n",
       "<!-- 0_gv1 -->\n",
       "<g id=\"node4\" class=\"node\">\n",
       "<title>0_gv1</title>\n",
       "<path fill=\"#ffffff\" stroke=\"black\" d=\"M684.5,-169C684.5,-169 477.5,-169 477.5,-169 471.5,-169 465.5,-163 465.5,-157 465.5,-157 465.5,-106 465.5,-106 465.5,-100 471.5,-94 477.5,-94 477.5,-94 684.5,-94 684.5,-94 690.5,-94 696.5,-100 696.5,-106 696.5,-106 696.5,-157 696.5,-157 696.5,-163 690.5,-169 684.5,-169\"/>\n",
       "<text text-anchor=\"start\" x=\"508\" y=\"-150.3\" font-family=\"Helvetica,sans-Serif\" font-size=\"14.00\">stadtgeographie ≤ 0.834</text>\n",
       "<text text-anchor=\"start\" x=\"532.5\" y=\"-135.3\" font-family=\"Helvetica,sans-Serif\" font-size=\"14.00\">samples = 4744</text>\n",
       "<text text-anchor=\"start\" x=\"508\" y=\"-120.3\" font-family=\"Helvetica,sans-Serif\" font-size=\"14.00\">value = [2372.0, 2372.0]</text>\n",
       "<text text-anchor=\"start\" x=\"476.5\" y=\"-105.3\" font-family=\"Helvetica,sans-Serif\" font-size=\"14.00\">class = Kultur&#45;/Geowissenschaften</text>\n",
       "</g>\n",
       "<!-- 1_gv1 -->\n",
       "<g id=\"node5\" class=\"node\">\n",
       "<title>1_gv1</title>\n",
       "<path fill=\"#f6d2b9\" stroke=\"black\" d=\"M614,-58C614,-58 440,-58 440,-58 434,-58 428,-52 428,-46 428,-46 428,-12 428,-12 428,-6 434,0 440,0 440,0 614,0 614,0 620,0 626,-6 626,-12 626,-12 626,-46 626,-46 626,-52 620,-58 614,-58\"/>\n",
       "<text text-anchor=\"start\" x=\"478.5\" y=\"-40.3\" font-family=\"Helvetica,sans-Serif\" font-size=\"14.00\">samples = 3951</text>\n",
       "<text text-anchor=\"start\" x=\"439\" y=\"-25.3\" font-family=\"Helvetica,sans-Serif\" font-size=\"14.00\">value = [2132.277, 1376.435]</text>\n",
       "<text text-anchor=\"start\" x=\"488\" y=\"-10.3\" font-family=\"Helvetica,sans-Serif\" font-size=\"14.00\">class = other</text>\n",
       "</g>\n",
       "<!-- 0_gv1&#45;&gt;1_gv1 -->\n",
       "<g id=\"edge3\" class=\"edge\">\n",
       "<title>0_gv1&#45;&gt;1_gv1</title>\n",
       "<path fill=\"none\" stroke=\"black\" d=\"M561.35,-93.93C556.65,-85.19 551.63,-75.84 546.92,-67.07\"/>\n",
       "<polygon fill=\"black\" stroke=\"black\" points=\"549.96,-65.34 542.15,-58.19 543.8,-68.65 549.96,-65.34\"/>\n",
       "<text text-anchor=\"middle\" x=\"534.94\" y=\"-78.43\" font-family=\"Helvetica,sans-Serif\" font-size=\"14.00\">True</text>\n",
       "</g>\n",
       "<!-- 2_gv1 -->\n",
       "<g id=\"node6\" class=\"node\">\n",
       "<title>2_gv1</title>\n",
       "<path fill=\"#69b5eb\" stroke=\"black\" d=\"M863.5,-58C863.5,-58 656.5,-58 656.5,-58 650.5,-58 644.5,-52 644.5,-46 644.5,-46 644.5,-12 644.5,-12 644.5,-6 650.5,0 656.5,0 656.5,0 863.5,0 863.5,0 869.5,0 875.5,-6 875.5,-12 875.5,-12 875.5,-46 875.5,-46 875.5,-52 869.5,-58 863.5,-58\"/>\n",
       "<text text-anchor=\"start\" x=\"715\" y=\"-40.3\" font-family=\"Helvetica,sans-Serif\" font-size=\"14.00\">samples = 793</text>\n",
       "<text text-anchor=\"start\" x=\"679.5\" y=\"-25.3\" font-family=\"Helvetica,sans-Serif\" font-size=\"14.00\">value = [239.723, 995.565]</text>\n",
       "<text text-anchor=\"start\" x=\"655.5\" y=\"-10.3\" font-family=\"Helvetica,sans-Serif\" font-size=\"14.00\">class = Kultur&#45;/Geowissenschaften</text>\n",
       "</g>\n",
       "<!-- 0_gv1&#45;&gt;2_gv1 -->\n",
       "<g id=\"edge4\" class=\"edge\">\n",
       "<title>0_gv1&#45;&gt;2_gv1</title>\n",
       "<path fill=\"none\" stroke=\"black\" d=\"M646.13,-93.93C664.09,-83.85 683.47,-72.97 701.06,-63.09\"/>\n",
       "<polygon fill=\"black\" stroke=\"black\" points=\"703.07,-65.98 710.08,-58.03 699.64,-59.87 703.07,-65.98\"/>\n",
       "<text text-anchor=\"middle\" x=\"703.32\" y=\"-78.4\" font-family=\"Helvetica,sans-Serif\" font-size=\"14.00\">False</text>\n",
       "</g>\n",
       "</g>\n",
       "</svg>\n"
      ],
      "text/plain": [
       "<graphviz.sources.Source at 0x7ff5f982ca30>"
      ]
     },
     "metadata": {},
     "output_type": "display_data"
    },
    {
     "data": {
      "text/markdown": [
       "<span style=\"font-size:11pt\"><br><br></span>"
      ],
      "text/plain": [
       "<IPython.core.display.Markdown object>"
      ]
     },
     "metadata": {},
     "output_type": "display_data"
    },
    {
     "data": {
      "image/svg+xml": [
       "<?xml version=\"1.0\" encoding=\"UTF-8\" standalone=\"no\"?>\n",
       "<!DOCTYPE svg PUBLIC \"-//W3C//DTD SVG 1.1//EN\"\n",
       " \"http://www.w3.org/Graphics/SVG/1.1/DTD/svg11.dtd\">\n",
       "<!-- Generated by graphviz version 2.43.0 (0)\n",
       " -->\n",
       "<!-- Title: root Pages: 1 -->\n",
       "<svg width=\"904pt\" height=\"177pt\"\n",
       " viewBox=\"0.00 0.00 904.00 177.00\" xmlns=\"http://www.w3.org/2000/svg\" xmlns:xlink=\"http://www.w3.org/1999/xlink\">\n",
       "<g id=\"graph0\" class=\"graph\" transform=\"scale(1 1) rotate(0) translate(4 173)\">\n",
       "<title>root</title>\n",
       "<polygon fill=\"white\" stroke=\"transparent\" points=\"-4,4 -4,-173 900,-173 900,4 -4,4\"/>\n",
       "<!-- 0 -->\n",
       "<g id=\"node1\" class=\"node\">\n",
       "<title>0</title>\n",
       "<path fill=\"#ffffff\" stroke=\"black\" d=\"M273,-169C273,-169 99,-169 99,-169 93,-169 87,-163 87,-157 87,-157 87,-106 87,-106 87,-100 93,-94 99,-94 99,-94 273,-94 273,-94 279,-94 285,-100 285,-106 285,-106 285,-157 285,-157 285,-163 279,-169 273,-169\"/>\n",
       "<text text-anchor=\"start\" x=\"137\" y=\"-150.3\" font-family=\"Helvetica,sans-Serif\" font-size=\"14.00\">parteien ≤ 0.839</text>\n",
       "<text text-anchor=\"start\" x=\"137.5\" y=\"-135.3\" font-family=\"Helvetica,sans-Serif\" font-size=\"14.00\">samples = 4744</text>\n",
       "<text text-anchor=\"start\" x=\"113\" y=\"-120.3\" font-family=\"Helvetica,sans-Serif\" font-size=\"14.00\">value = [2372.0, 2372.0]</text>\n",
       "<text text-anchor=\"start\" x=\"98\" y=\"-105.3\" font-family=\"Helvetica,sans-Serif\" font-size=\"14.00\">class = Sozialwissenschaften</text>\n",
       "</g>\n",
       "<!-- 1 -->\n",
       "<g id=\"node2\" class=\"node\">\n",
       "<title>1</title>\n",
       "<path fill=\"#f3c6a6\" stroke=\"black\" d=\"M186,-58C186,-58 12,-58 12,-58 6,-58 0,-52 0,-46 0,-46 0,-12 0,-12 0,-6 6,0 12,0 12,0 186,0 186,0 192,0 198,-6 198,-12 198,-12 198,-46 198,-46 198,-52 192,-58 186,-58\"/>\n",
       "<text text-anchor=\"start\" x=\"50.5\" y=\"-40.3\" font-family=\"Helvetica,sans-Serif\" font-size=\"14.00\">samples = 3992</text>\n",
       "<text text-anchor=\"start\" x=\"11\" y=\"-25.3\" font-family=\"Helvetica,sans-Serif\" font-size=\"14.00\">value = [2093.204, 1152.114]</text>\n",
       "<text text-anchor=\"start\" x=\"60\" y=\"-10.3\" font-family=\"Helvetica,sans-Serif\" font-size=\"14.00\">class = other</text>\n",
       "</g>\n",
       "<!-- 0&#45;&gt;1 -->\n",
       "<g id=\"edge1\" class=\"edge\">\n",
       "<title>0&#45;&gt;1</title>\n",
       "<path fill=\"none\" stroke=\"black\" d=\"M154.34,-93.93C146.45,-84.82 138,-75.05 130.13,-65.96\"/>\n",
       "<polygon fill=\"black\" stroke=\"black\" points=\"132.59,-63.46 123.4,-58.19 127.3,-68.04 132.59,-63.46\"/>\n",
       "<text text-anchor=\"middle\" x=\"121.61\" y=\"-79.42\" font-family=\"Helvetica,sans-Serif\" font-size=\"14.00\">True</text>\n",
       "</g>\n",
       "<!-- 2 -->\n",
       "<g id=\"node3\" class=\"node\">\n",
       "<title>2</title>\n",
       "<path fill=\"#66b3eb\" stroke=\"black\" d=\"M402,-58C402,-58 228,-58 228,-58 222,-58 216,-52 216,-46 216,-46 216,-12 216,-12 216,-6 222,0 228,0 228,0 402,0 402,0 408,0 414,-6 414,-12 414,-12 414,-46 414,-46 414,-52 408,-58 402,-58\"/>\n",
       "<text text-anchor=\"start\" x=\"270\" y=\"-40.3\" font-family=\"Helvetica,sans-Serif\" font-size=\"14.00\">samples = 752</text>\n",
       "<text text-anchor=\"start\" x=\"230.5\" y=\"-25.3\" font-family=\"Helvetica,sans-Serif\" font-size=\"14.00\">value = [278.796, 1219.886]</text>\n",
       "<text text-anchor=\"start\" x=\"227\" y=\"-10.3\" font-family=\"Helvetica,sans-Serif\" font-size=\"14.00\">class = Sozialwissenschaften</text>\n",
       "</g>\n",
       "<!-- 0&#45;&gt;2 -->\n",
       "<g id=\"edge2\" class=\"edge\">\n",
       "<title>0&#45;&gt;2</title>\n",
       "<path fill=\"none\" stroke=\"black\" d=\"M232.94,-93.93C245.23,-84.36 258.44,-74.06 270.6,-64.59\"/>\n",
       "<polygon fill=\"black\" stroke=\"black\" points=\"273.08,-67.09 278.82,-58.19 268.78,-61.57 273.08,-67.09\"/>\n",
       "<text text-anchor=\"middle\" x=\"275.74\" y=\"-79.3\" font-family=\"Helvetica,sans-Serif\" font-size=\"14.00\">False</text>\n",
       "</g>\n",
       "<!-- 0_gv1 -->\n",
       "<g id=\"node4\" class=\"node\">\n",
       "<title>0_gv1</title>\n",
       "<path fill=\"#ffffff\" stroke=\"black\" d=\"M763,-169C763,-169 523,-169 523,-169 517,-169 511,-163 511,-157 511,-157 511,-106 511,-106 511,-100 517,-94 523,-94 523,-94 763,-94 763,-94 769,-94 775,-100 775,-106 775,-106 775,-157 775,-157 775,-163 769,-169 763,-169\"/>\n",
       "<text text-anchor=\"start\" x=\"563\" y=\"-150.3\" font-family=\"Helvetica,sans-Serif\" font-size=\"14.00\">deutschen literatur ≤ 0.757</text>\n",
       "<text text-anchor=\"start\" x=\"594.5\" y=\"-135.3\" font-family=\"Helvetica,sans-Serif\" font-size=\"14.00\">samples = 4744</text>\n",
       "<text text-anchor=\"start\" x=\"570\" y=\"-120.3\" font-family=\"Helvetica,sans-Serif\" font-size=\"14.00\">value = [2372.0, 2372.0]</text>\n",
       "<text text-anchor=\"start\" x=\"523\" y=\"-105.3\" font-family=\"Helvetica,sans-Serif\" font-size=\"14.00\">class = Sprach&#45;/Literaturwissenschaften</text>\n",
       "</g>\n",
       "<!-- 1_gv1 -->\n",
       "<g id=\"node5\" class=\"node\">\n",
       "<title>1_gv1</title>\n",
       "<path fill=\"#efaf81\" stroke=\"black\" d=\"M602,-58C602,-58 444,-58 444,-58 438,-58 432,-52 432,-46 432,-46 432,-12 432,-12 432,-6 438,0 444,0 444,0 602,0 602,0 608,0 614,-6 614,-12 614,-12 614,-46 614,-46 614,-52 608,-58 602,-58\"/>\n",
       "<text text-anchor=\"start\" x=\"474.5\" y=\"-40.3\" font-family=\"Helvetica,sans-Serif\" font-size=\"14.00\">samples = 3570</text>\n",
       "<text text-anchor=\"start\" x=\"442.5\" y=\"-25.3\" font-family=\"Helvetica,sans-Serif\" font-size=\"14.00\">value = [2103.918, 769.75]</text>\n",
       "<text text-anchor=\"start\" x=\"484\" y=\"-10.3\" font-family=\"Helvetica,sans-Serif\" font-size=\"14.00\">class = other</text>\n",
       "</g>\n",
       "<!-- 0_gv1&#45;&gt;1_gv1 -->\n",
       "<g id=\"edge3\" class=\"edge\">\n",
       "<title>0_gv1&#45;&gt;1_gv1</title>\n",
       "<path fill=\"none\" stroke=\"black\" d=\"M599.34,-93.93C588.01,-84.45 575.85,-74.26 564.63,-64.87\"/>\n",
       "<polygon fill=\"black\" stroke=\"black\" points=\"566.57,-61.93 556.66,-58.19 562.08,-67.29 566.57,-61.93\"/>\n",
       "<text text-anchor=\"middle\" x=\"558.86\" y=\"-79.39\" font-family=\"Helvetica,sans-Serif\" font-size=\"14.00\">True</text>\n",
       "</g>\n",
       "<!-- 2_gv1 -->\n",
       "<g id=\"node6\" class=\"node\">\n",
       "<title>2_gv1</title>\n",
       "<path fill=\"#5aade9\" stroke=\"black\" d=\"M884,-58C884,-58 644,-58 644,-58 638,-58 632,-52 632,-46 632,-46 632,-12 632,-12 632,-6 638,0 644,0 644,0 884,0 884,0 890,0 896,-6 896,-12 896,-12 896,-46 896,-46 896,-52 890,-58 884,-58\"/>\n",
       "<text text-anchor=\"start\" x=\"715.5\" y=\"-40.3\" font-family=\"Helvetica,sans-Serif\" font-size=\"14.00\">samples = 1174</text>\n",
       "<text text-anchor=\"start\" x=\"683.5\" y=\"-25.3\" font-family=\"Helvetica,sans-Serif\" font-size=\"14.00\">value = [268.082, 1602.25]</text>\n",
       "<text text-anchor=\"start\" x=\"644\" y=\"-10.3\" font-family=\"Helvetica,sans-Serif\" font-size=\"14.00\">class = Sprach&#45;/Literaturwissenschaften</text>\n",
       "</g>\n",
       "<!-- 0_gv1&#45;&gt;2_gv1 -->\n",
       "<g id=\"edge4\" class=\"edge\">\n",
       "<title>0_gv1&#45;&gt;2_gv1</title>\n",
       "<path fill=\"none\" stroke=\"black\" d=\"M687.03,-93.93C698.56,-84.36 710.95,-74.06 722.35,-64.59\"/>\n",
       "<polygon fill=\"black\" stroke=\"black\" points=\"724.61,-67.27 730.06,-58.19 720.13,-61.88 724.61,-67.27\"/>\n",
       "<text text-anchor=\"middle\" x=\"727.76\" y=\"-79.38\" font-family=\"Helvetica,sans-Serif\" font-size=\"14.00\">False</text>\n",
       "</g>\n",
       "</g>\n",
       "</svg>\n"
      ],
      "text/plain": [
       "<graphviz.sources.Source at 0x7ff5f982ca30>"
      ]
     },
     "metadata": {},
     "output_type": "display_data"
    },
    {
     "data": {
      "text/markdown": [
       "<span style=\"font-size:11pt\"><br><br></span>"
      ],
      "text/plain": [
       "<IPython.core.display.Markdown object>"
      ]
     },
     "metadata": {},
     "output_type": "display_data"
    },
    {
     "data": {
      "image/svg+xml": [
       "<?xml version=\"1.0\" encoding=\"UTF-8\" standalone=\"no\"?>\n",
       "<!DOCTYPE svg PUBLIC \"-//W3C//DTD SVG 1.1//EN\"\n",
       " \"http://www.w3.org/Graphics/SVG/1.1/DTD/svg11.dtd\">\n",
       "<!-- Generated by graphviz version 2.43.0 (0)\n",
       " -->\n",
       "<!-- Title: root Pages: 1 -->\n",
       "<svg width=\"830pt\" height=\"177pt\"\n",
       " viewBox=\"0.00 0.00 829.50 177.00\" xmlns=\"http://www.w3.org/2000/svg\" xmlns:xlink=\"http://www.w3.org/1999/xlink\">\n",
       "<g id=\"graph0\" class=\"graph\" transform=\"scale(1 1) rotate(0) translate(4 173)\">\n",
       "<title>root</title>\n",
       "<polygon fill=\"white\" stroke=\"transparent\" points=\"-4,4 -4,-173 825.5,-173 825.5,4 -4,4\"/>\n",
       "<!-- 0 -->\n",
       "<g id=\"node1\" class=\"node\">\n",
       "<title>0</title>\n",
       "<path fill=\"#ffffff\" stroke=\"black\" d=\"M299,-169C299,-169 118,-169 118,-169 112,-169 106,-163 106,-157 106,-157 106,-106 106,-106 106,-100 112,-94 118,-94 118,-94 299,-94 299,-94 305,-94 311,-100 311,-106 311,-106 311,-157 311,-157 311,-163 305,-169 299,-169\"/>\n",
       "<text text-anchor=\"start\" x=\"166.5\" y=\"-150.3\" font-family=\"Helvetica,sans-Serif\" font-size=\"14.00\">fuhrte ≤ 0.541</text>\n",
       "<text text-anchor=\"start\" x=\"160\" y=\"-135.3\" font-family=\"Helvetica,sans-Serif\" font-size=\"14.00\">samples = 4744</text>\n",
       "<text text-anchor=\"start\" x=\"135.5\" y=\"-120.3\" font-family=\"Helvetica,sans-Serif\" font-size=\"14.00\">value = [2372.0, 2372.0]</text>\n",
       "<text text-anchor=\"start\" x=\"116.5\" y=\"-105.3\" font-family=\"Helvetica,sans-Serif\" font-size=\"14.00\">class = Humanwissenschaften</text>\n",
       "</g>\n",
       "<!-- 1 -->\n",
       "<g id=\"node2\" class=\"node\">\n",
       "<title>1</title>\n",
       "<path fill=\"#aad5f4\" stroke=\"black\" d=\"M193,-58C193,-58 12,-58 12,-58 6,-58 0,-52 0,-46 0,-46 0,-12 0,-12 0,-6 6,0 12,0 12,0 193,0 193,0 199,0 205,-6 205,-12 205,-12 205,-46 205,-46 205,-52 199,-58 193,-58\"/>\n",
       "<text text-anchor=\"start\" x=\"54\" y=\"-40.3\" font-family=\"Helvetica,sans-Serif\" font-size=\"14.00\">samples = 2558</text>\n",
       "<text text-anchor=\"start\" x=\"18\" y=\"-25.3\" font-family=\"Helvetica,sans-Serif\" font-size=\"14.00\">value = [1232.83, 2160.932]</text>\n",
       "<text text-anchor=\"start\" x=\"10.5\" y=\"-10.3\" font-family=\"Helvetica,sans-Serif\" font-size=\"14.00\">class = Humanwissenschaften</text>\n",
       "</g>\n",
       "<!-- 0&#45;&gt;1 -->\n",
       "<g id=\"edge1\" class=\"edge\">\n",
       "<title>0&#45;&gt;1</title>\n",
       "<path fill=\"none\" stroke=\"black\" d=\"M169.93,-93.93C160.03,-84.54 149.39,-74.46 139.56,-65.14\"/>\n",
       "<polygon fill=\"black\" stroke=\"black\" points=\"141.9,-62.53 132.23,-58.19 137.08,-67.61 141.9,-62.53\"/>\n",
       "<text text-anchor=\"middle\" x=\"132.9\" y=\"-79.48\" font-family=\"Helvetica,sans-Serif\" font-size=\"14.00\">True</text>\n",
       "</g>\n",
       "<!-- 2 -->\n",
       "<g id=\"node3\" class=\"node\">\n",
       "<title>2</title>\n",
       "<path fill=\"#ea985e\" stroke=\"black\" d=\"M393.5,-58C393.5,-58 235.5,-58 235.5,-58 229.5,-58 223.5,-52 223.5,-46 223.5,-46 223.5,-12 223.5,-12 223.5,-6 229.5,0 235.5,0 235.5,0 393.5,0 393.5,0 399.5,0 405.5,-6 405.5,-12 405.5,-12 405.5,-46 405.5,-46 405.5,-52 399.5,-58 393.5,-58\"/>\n",
       "<text text-anchor=\"start\" x=\"266\" y=\"-40.3\" font-family=\"Helvetica,sans-Serif\" font-size=\"14.00\">samples = 2186</text>\n",
       "<text text-anchor=\"start\" x=\"234\" y=\"-25.3\" font-family=\"Helvetica,sans-Serif\" font-size=\"14.00\">value = [1139.17, 211.068]</text>\n",
       "<text text-anchor=\"start\" x=\"275.5\" y=\"-10.3\" font-family=\"Helvetica,sans-Serif\" font-size=\"14.00\">class = other</text>\n",
       "</g>\n",
       "<!-- 0&#45;&gt;2 -->\n",
       "<g id=\"edge2\" class=\"edge\">\n",
       "<title>0&#45;&gt;2</title>\n",
       "<path fill=\"none\" stroke=\"black\" d=\"M247.07,-93.93C256.97,-84.54 267.61,-74.46 277.44,-65.14\"/>\n",
       "<polygon fill=\"black\" stroke=\"black\" points=\"279.92,-67.61 284.77,-58.19 275.1,-62.53 279.92,-67.61\"/>\n",
       "<text text-anchor=\"middle\" x=\"284.1\" y=\"-79.48\" font-family=\"Helvetica,sans-Serif\" font-size=\"14.00\">False</text>\n",
       "</g>\n",
       "<!-- 0_gv1 -->\n",
       "<g id=\"node4\" class=\"node\">\n",
       "<title>0_gv1</title>\n",
       "<path fill=\"#ffffff\" stroke=\"black\" d=\"M694,-169C694,-169 551,-169 551,-169 545,-169 539,-163 539,-157 539,-157 539,-106 539,-106 539,-100 545,-94 551,-94 551,-94 694,-94 694,-94 700,-94 706,-100 706,-106 706,-106 706,-157 706,-157 706,-163 700,-169 694,-169\"/>\n",
       "<text text-anchor=\"start\" x=\"587\" y=\"-150.3\" font-family=\"Helvetica,sans-Serif\" font-size=\"14.00\">klar ≤ 0.749</text>\n",
       "<text text-anchor=\"start\" x=\"574\" y=\"-135.3\" font-family=\"Helvetica,sans-Serif\" font-size=\"14.00\">samples = 4744</text>\n",
       "<text text-anchor=\"start\" x=\"549.5\" y=\"-120.3\" font-family=\"Helvetica,sans-Serif\" font-size=\"14.00\">value = [2372.0, 2372.0]</text>\n",
       "<text text-anchor=\"start\" x=\"579\" y=\"-105.3\" font-family=\"Helvetica,sans-Serif\" font-size=\"14.00\">class = Physik</text>\n",
       "</g>\n",
       "<!-- 1_gv1 -->\n",
       "<g id=\"node5\" class=\"node\">\n",
       "<title>1_gv1</title>\n",
       "<path fill=\"#eeac7d\" stroke=\"black\" d=\"M601.5,-58C601.5,-58 435.5,-58 435.5,-58 429.5,-58 423.5,-52 423.5,-46 423.5,-46 423.5,-12 423.5,-12 423.5,-6 429.5,0 435.5,0 435.5,0 601.5,0 601.5,0 607.5,0 613.5,-6 613.5,-12 613.5,-12 613.5,-46 613.5,-46 613.5,-52 607.5,-58 601.5,-58\"/>\n",
       "<text text-anchor=\"start\" x=\"470\" y=\"-40.3\" font-family=\"Helvetica,sans-Serif\" font-size=\"14.00\">samples = 3541</text>\n",
       "<text text-anchor=\"start\" x=\"434\" y=\"-25.3\" font-family=\"Helvetica,sans-Serif\" font-size=\"14.00\">value = [1792.631, 612.989]</text>\n",
       "<text text-anchor=\"start\" x=\"479.5\" y=\"-10.3\" font-family=\"Helvetica,sans-Serif\" font-size=\"14.00\">class = other</text>\n",
       "</g>\n",
       "<!-- 0_gv1&#45;&gt;1_gv1 -->\n",
       "<g id=\"edge3\" class=\"edge\">\n",
       "<title>0_gv1&#45;&gt;1_gv1</title>\n",
       "<path fill=\"none\" stroke=\"black\" d=\"M584.66,-93.93C574.94,-84.54 564.51,-74.46 554.86,-65.14\"/>\n",
       "<polygon fill=\"black\" stroke=\"black\" points=\"557.29,-62.62 547.67,-58.19 552.43,-67.65 557.29,-62.62\"/>\n",
       "<text text-anchor=\"middle\" x=\"548.1\" y=\"-79.48\" font-family=\"Helvetica,sans-Serif\" font-size=\"14.00\">True</text>\n",
       "</g>\n",
       "<!-- 2_gv1 -->\n",
       "<g id=\"node6\" class=\"node\">\n",
       "<title>2_gv1</title>\n",
       "<path fill=\"#7abdee\" stroke=\"black\" d=\"M809.5,-58C809.5,-58 643.5,-58 643.5,-58 637.5,-58 631.5,-52 631.5,-46 631.5,-46 631.5,-12 631.5,-12 631.5,-6 637.5,0 643.5,0 643.5,0 809.5,0 809.5,0 815.5,0 821.5,-6 821.5,-12 821.5,-12 821.5,-46 821.5,-46 821.5,-52 815.5,-58 809.5,-58\"/>\n",
       "<text text-anchor=\"start\" x=\"678\" y=\"-40.3\" font-family=\"Helvetica,sans-Serif\" font-size=\"14.00\">samples = 1203</text>\n",
       "<text text-anchor=\"start\" x=\"642\" y=\"-25.3\" font-family=\"Helvetica,sans-Serif\" font-size=\"14.00\">value = [579.369, 1759.011]</text>\n",
       "<text text-anchor=\"start\" x=\"683\" y=\"-10.3\" font-family=\"Helvetica,sans-Serif\" font-size=\"14.00\">class = Physik</text>\n",
       "</g>\n",
       "<!-- 0_gv1&#45;&gt;2_gv1 -->\n",
       "<g id=\"edge4\" class=\"edge\">\n",
       "<title>0_gv1&#45;&gt;2_gv1</title>\n",
       "<path fill=\"none\" stroke=\"black\" d=\"M660.34,-93.93C670.06,-84.54 680.49,-74.46 690.14,-65.14\"/>\n",
       "<polygon fill=\"black\" stroke=\"black\" points=\"692.57,-67.65 697.33,-58.19 687.71,-62.62 692.57,-67.65\"/>\n",
       "<text text-anchor=\"middle\" x=\"696.9\" y=\"-79.48\" font-family=\"Helvetica,sans-Serif\" font-size=\"14.00\">False</text>\n",
       "</g>\n",
       "</g>\n",
       "</svg>\n"
      ],
      "text/plain": [
       "<graphviz.sources.Source at 0x7ff5f982bcd0>"
      ]
     },
     "metadata": {},
     "output_type": "display_data"
    },
    {
     "data": {
      "text/markdown": [
       "<span style=\"font-size:11pt\"><br><br></span>"
      ],
      "text/plain": [
       "<IPython.core.display.Markdown object>"
      ]
     },
     "metadata": {},
     "output_type": "display_data"
    },
    {
     "data": {
      "image/svg+xml": [
       "<?xml version=\"1.0\" encoding=\"UTF-8\" standalone=\"no\"?>\n",
       "<!DOCTYPE svg PUBLIC \"-//W3C//DTD SVG 1.1//EN\"\n",
       " \"http://www.w3.org/Graphics/SVG/1.1/DTD/svg11.dtd\">\n",
       "<!-- Generated by graphviz version 2.43.0 (0)\n",
       " -->\n",
       "<!-- Title: root Pages: 1 -->\n",
       "<svg width=\"862pt\" height=\"177pt\"\n",
       " viewBox=\"0.00 0.00 862.00 177.00\" xmlns=\"http://www.w3.org/2000/svg\" xmlns:xlink=\"http://www.w3.org/1999/xlink\">\n",
       "<g id=\"graph0\" class=\"graph\" transform=\"scale(1 1) rotate(0) translate(4 173)\">\n",
       "<title>root</title>\n",
       "<polygon fill=\"white\" stroke=\"transparent\" points=\"-4,4 -4,-173 858,-173 858,4 -4,4\"/>\n",
       "<!-- 0 -->\n",
       "<g id=\"node1\" class=\"node\">\n",
       "<title>0</title>\n",
       "<path fill=\"#ffffff\" stroke=\"black\" d=\"M311.5,-169C311.5,-169 106.5,-169 106.5,-169 100.5,-169 94.5,-163 94.5,-157 94.5,-157 94.5,-106 94.5,-106 94.5,-100 100.5,-94 106.5,-94 106.5,-94 311.5,-94 311.5,-94 317.5,-94 323.5,-100 323.5,-106 323.5,-106 323.5,-157 323.5,-157 323.5,-163 317.5,-169 311.5,-169\"/>\n",
       "<text text-anchor=\"start\" x=\"157.5\" y=\"-150.3\" font-family=\"Helvetica,sans-Serif\" font-size=\"14.00\">fallstudie ≤ 0.905</text>\n",
       "<text text-anchor=\"start\" x=\"160.5\" y=\"-135.3\" font-family=\"Helvetica,sans-Serif\" font-size=\"14.00\">samples = 4744</text>\n",
       "<text text-anchor=\"start\" x=\"136\" y=\"-120.3\" font-family=\"Helvetica,sans-Serif\" font-size=\"14.00\">value = [2372.0, 2372.0]</text>\n",
       "<text text-anchor=\"start\" x=\"105.5\" y=\"-105.3\" font-family=\"Helvetica,sans-Serif\" font-size=\"14.00\">class = Wirtschaftswissenschaften</text>\n",
       "</g>\n",
       "<!-- 1 -->\n",
       "<g id=\"node2\" class=\"node\">\n",
       "<title>1</title>\n",
       "<path fill=\"#e99355\" stroke=\"black\" d=\"M178,-58C178,-58 12,-58 12,-58 6,-58 0,-52 0,-46 0,-46 0,-12 0,-12 0,-6 6,0 12,0 12,0 178,0 178,0 184,0 190,-6 190,-12 190,-12 190,-46 190,-46 190,-52 184,-58 178,-58\"/>\n",
       "<text text-anchor=\"start\" x=\"46.5\" y=\"-40.3\" font-family=\"Helvetica,sans-Serif\" font-size=\"14.00\">samples = 4314</text>\n",
       "<text text-anchor=\"start\" x=\"10.5\" y=\"-25.3\" font-family=\"Helvetica,sans-Serif\" font-size=\"14.00\">value = [2183.802, 313.941]</text>\n",
       "<text text-anchor=\"start\" x=\"56\" y=\"-10.3\" font-family=\"Helvetica,sans-Serif\" font-size=\"14.00\">class = other</text>\n",
       "</g>\n",
       "<!-- 0&#45;&gt;1 -->\n",
       "<g id=\"edge1\" class=\"edge\">\n",
       "<title>0&#45;&gt;1</title>\n",
       "<path fill=\"none\" stroke=\"black\" d=\"M167.52,-93.93C156.76,-84.45 145.21,-74.26 134.55,-64.87\"/>\n",
       "<polygon fill=\"black\" stroke=\"black\" points=\"136.79,-62.18 126.97,-58.19 132.16,-67.43 136.79,-62.18\"/>\n",
       "<text text-anchor=\"middle\" x=\"128.54\" y=\"-79.44\" font-family=\"Helvetica,sans-Serif\" font-size=\"14.00\">True</text>\n",
       "</g>\n",
       "<!-- 2 -->\n",
       "<g id=\"node3\" class=\"node\">\n",
       "<title>2</title>\n",
       "<path fill=\"#4ba6e7\" stroke=\"black\" d=\"M425.5,-58C425.5,-58 220.5,-58 220.5,-58 214.5,-58 208.5,-52 208.5,-46 208.5,-46 208.5,-12 208.5,-12 208.5,-6 214.5,0 220.5,0 220.5,0 425.5,0 425.5,0 431.5,0 437.5,-6 437.5,-12 437.5,-12 437.5,-46 437.5,-46 437.5,-52 431.5,-58 425.5,-58\"/>\n",
       "<text text-anchor=\"start\" x=\"278\" y=\"-40.3\" font-family=\"Helvetica,sans-Serif\" font-size=\"14.00\">samples = 430</text>\n",
       "<text text-anchor=\"start\" x=\"238.5\" y=\"-25.3\" font-family=\"Helvetica,sans-Serif\" font-size=\"14.00\">value = [188.198, 2058.059]</text>\n",
       "<text text-anchor=\"start\" x=\"219.5\" y=\"-10.3\" font-family=\"Helvetica,sans-Serif\" font-size=\"14.00\">class = Wirtschaftswissenschaften</text>\n",
       "</g>\n",
       "<!-- 0&#45;&gt;2 -->\n",
       "<g id=\"edge2\" class=\"edge\">\n",
       "<title>0&#45;&gt;2</title>\n",
       "<path fill=\"none\" stroke=\"black\" d=\"M250.48,-93.93C261.24,-84.45 272.79,-74.26 283.45,-64.87\"/>\n",
       "<polygon fill=\"black\" stroke=\"black\" points=\"285.84,-67.43 291.03,-58.19 281.21,-62.18 285.84,-67.43\"/>\n",
       "<text text-anchor=\"middle\" x=\"289.46\" y=\"-79.44\" font-family=\"Helvetica,sans-Serif\" font-size=\"14.00\">False</text>\n",
       "</g>\n",
       "<!-- 0_gv1 -->\n",
       "<g id=\"node4\" class=\"node\">\n",
       "<title>0_gv1</title>\n",
       "<path fill=\"#ffffff\" stroke=\"black\" d=\"M726.5,-169C726.5,-169 583.5,-169 583.5,-169 577.5,-169 571.5,-163 571.5,-157 571.5,-157 571.5,-106 571.5,-106 571.5,-100 577.5,-94 583.5,-94 583.5,-94 726.5,-94 726.5,-94 732.5,-94 738.5,-100 738.5,-106 738.5,-106 738.5,-157 738.5,-157 738.5,-163 732.5,-169 726.5,-169\"/>\n",
       "<text text-anchor=\"start\" x=\"589.5\" y=\"-150.3\" font-family=\"Helvetica,sans-Serif\" font-size=\"14.00\">stattgefunden ≤ 0.825</text>\n",
       "<text text-anchor=\"start\" x=\"606.5\" y=\"-135.3\" font-family=\"Helvetica,sans-Serif\" font-size=\"14.00\">samples = 4744</text>\n",
       "<text text-anchor=\"start\" x=\"582\" y=\"-120.3\" font-family=\"Helvetica,sans-Serif\" font-size=\"14.00\">value = [2372.0, 2372.0]</text>\n",
       "<text text-anchor=\"start\" x=\"616\" y=\"-105.3\" font-family=\"Helvetica,sans-Serif\" font-size=\"14.00\">class = other</text>\n",
       "</g>\n",
       "<!-- 1_gv1 -->\n",
       "<g id=\"node5\" class=\"node\">\n",
       "<title>1_gv1</title>\n",
       "<path fill=\"#eda775\" stroke=\"black\" d=\"M634,-58C634,-58 468,-58 468,-58 462,-58 456,-52 456,-46 456,-46 456,-12 456,-12 456,-6 462,0 468,0 468,0 634,0 634,0 640,0 646,-6 646,-12 646,-12 646,-46 646,-46 646,-52 640,-58 634,-58\"/>\n",
       "<text text-anchor=\"start\" x=\"502.5\" y=\"-40.3\" font-family=\"Helvetica,sans-Serif\" font-size=\"14.00\">samples = 3906</text>\n",
       "<text text-anchor=\"start\" x=\"466.5\" y=\"-25.3\" font-family=\"Helvetica,sans-Serif\" font-size=\"14.00\">value = [1985.027, 603.782]</text>\n",
       "<text text-anchor=\"start\" x=\"512\" y=\"-10.3\" font-family=\"Helvetica,sans-Serif\" font-size=\"14.00\">class = other</text>\n",
       "</g>\n",
       "<!-- 0_gv1&#45;&gt;1_gv1 -->\n",
       "<g id=\"edge3\" class=\"edge\">\n",
       "<title>0_gv1&#45;&gt;1_gv1</title>\n",
       "<path fill=\"none\" stroke=\"black\" d=\"M617.16,-93.93C607.44,-84.54 597.01,-74.46 587.36,-65.14\"/>\n",
       "<polygon fill=\"black\" stroke=\"black\" points=\"589.79,-62.62 580.17,-58.19 584.93,-67.65 589.79,-62.62\"/>\n",
       "<text text-anchor=\"middle\" x=\"580.6\" y=\"-79.48\" font-family=\"Helvetica,sans-Serif\" font-size=\"14.00\">True</text>\n",
       "</g>\n",
       "<!-- 2_gv1 -->\n",
       "<g id=\"node6\" class=\"node\">\n",
       "<title>2_gv1</title>\n",
       "<path fill=\"#64b2eb\" stroke=\"black\" d=\"M842,-58C842,-58 676,-58 676,-58 670,-58 664,-52 664,-46 664,-46 664,-12 664,-12 664,-6 670,0 676,0 676,0 842,0 842,0 848,0 854,-6 854,-12 854,-12 854,-46 854,-46 854,-52 848,-58 842,-58\"/>\n",
       "<text text-anchor=\"start\" x=\"714\" y=\"-40.3\" font-family=\"Helvetica,sans-Serif\" font-size=\"14.00\">samples = 838</text>\n",
       "<text text-anchor=\"start\" x=\"674.5\" y=\"-25.3\" font-family=\"Helvetica,sans-Serif\" font-size=\"14.00\">value = [386.973, 1768.218]</text>\n",
       "<text text-anchor=\"start\" x=\"686\" y=\"-10.3\" font-family=\"Helvetica,sans-Serif\" font-size=\"14.00\">class = Biologie/Chemie</text>\n",
       "</g>\n",
       "<!-- 0_gv1&#45;&gt;2_gv1 -->\n",
       "<g id=\"edge4\" class=\"edge\">\n",
       "<title>0_gv1&#45;&gt;2_gv1</title>\n",
       "<path fill=\"none\" stroke=\"black\" d=\"M692.84,-93.93C702.56,-84.54 712.99,-74.46 722.64,-65.14\"/>\n",
       "<polygon fill=\"black\" stroke=\"black\" points=\"725.07,-67.65 729.83,-58.19 720.21,-62.62 725.07,-67.65\"/>\n",
       "<text text-anchor=\"middle\" x=\"729.4\" y=\"-79.48\" font-family=\"Helvetica,sans-Serif\" font-size=\"14.00\">False</text>\n",
       "</g>\n",
       "</g>\n",
       "</svg>\n"
      ],
      "text/plain": [
       "<graphviz.sources.Source at 0x7ff5f982e9e0>"
      ]
     },
     "metadata": {},
     "output_type": "display_data"
    },
    {
     "data": {
      "text/markdown": [
       "<span style=\"font-size:11pt\"><br><br></span>"
      ],
      "text/plain": [
       "<IPython.core.display.Markdown object>"
      ]
     },
     "metadata": {},
     "output_type": "display_data"
    },
    {
     "data": {
      "text/markdown": [
       "<span style=\"font-size:11pt\">Per-Class-Scores: Erziehungs-/Kulturwissenschaften: 0.79, Rechtswissenschaften: 0.90, Mathematik/Informatik: 0.82, Kultur-/Geowissenschaften: 0.81, Sozialwissenschaften: 0.84, Sprach-/Literaturwissenschaften: 0.84, Humanwissenschaften: 0.49, Physik: 0.76, Wirtschaftswissenschaften: 0.91, Biologie/Chemie: 0.83</span>"
      ],
      "text/plain": [
       "<IPython.core.display.Markdown object>"
      ]
     },
     "metadata": {},
     "output_type": "display_data"
    },
    {
     "data": {
      "text/markdown": [
       "<span style=\"font-size:11pt\">Unweighted Mean acc: 79.88%</span>"
      ],
      "text/plain": [
       "<IPython.core.display.Markdown object>"
      ]
     },
     "metadata": {},
     "output_type": "display_data"
    },
    {
     "data": {
      "text/markdown": [
       "<span style=\"font-size:11pt\">Weighted Mean acc: 80.21%</span>"
      ],
      "text/plain": [
       "<IPython.core.display.Markdown object>"
      ]
     },
     "metadata": {},
     "output_type": "display_data"
    }
   ],
   "source": [
    "clfs = classify_shallowtree(clusters, embedding, descriptions, ctx.obj[\"dataset_class\"], one_vs_rest=True, dt_depth=1, test_percentage_crossval=0.33,\n",
    "                       classes=\"fachbereich\", cluster_reprs=cluster_reprs, verbose=False, return_features=True, balance_classes=True, do_plot=True)[0]"
   ]
  },
  {
   "cell_type": "markdown",
   "id": "19f935db-b848-4deb-99cf-5872d3c42da8",
   "metadata": {},
   "source": [
    "### Sample two (best before 05.03.2022, keep me!)"
   ]
  },
  {
   "cell_type": "code",
   "execution_count": 18,
   "id": "d7661009-d4ea-47a5-80c7-21ffddc5fa39",
   "metadata": {
    "tags": [
     "keep_output"
    ]
   },
   "outputs": [
    {
     "data": {
      "text/markdown": [
       "<span style=\"font-size:11pt\">Using classes from fachbereich - 7319/11942 entities have a class</span>"
      ],
      "text/plain": [
       "<IPython.core.display.Markdown object>"
      ]
     },
     "metadata": {},
     "output_type": "display_data"
    },
    {
     "data": {
      "text/markdown": [
       "<span style=\"font-size:11pt\">Labels (10 classes): <span style=\"color: #0000ff\">Sprach-/Literaturwissenschaften</span>: 1723, <span style=\"color: #0000ff\">Erziehungs-/Kulturwissenschaften</span>: 2090, <span style=\"color: #0000ff\">Kultur-/Geowissenschaften</span>: 1457, <span style=\"color: #0000ff\">Sozialwissenschaften</span>: 707, <span style=\"color: #0000ff\">Rechtswissenschaften</span>: 350, <span style=\"color: #0000ff\">Humanwissenschaften</span>: 376, <span style=\"color: #0000ff\">Biologie/Chemie</span>: 167, <span style=\"color: #0000ff\">Mathematik/Informatik</span>: 197, <span style=\"color: #0000ff\">Physik</span>: 147, <span style=\"color: #0000ff\">Wirtschaftswissenschaften</span>: 105</span>"
      ],
      "text/plain": [
       "<IPython.core.display.Markdown object>"
      ]
     },
     "metadata": {},
     "output_type": "display_data"
    },
    {
     "data": {
      "text/markdown": [
       "<span style=\"font-size:11pt\">Eval-Settings: type: <span style=\"color: #0000ff\">one-vs-rest</span>, DT-Depth: <span style=\"color: #0000ff\">1</span>, train-test-split:<span style=\"color: #0000ff\"> 33.0% in test-set </span></span>"
      ],
      "text/plain": [
       "<IPython.core.display.Markdown object>"
      ]
     },
     "metadata": {},
     "output_type": "display_data"
    },
    {
     "name": "stderr",
     "output_type": "stream",
     "text": [
      "Warning: node 0 in graph[1] Tree already defined\n",
      "Some nodes will be renamed.\n",
      "Warning: node 0 in graph[1] Tree already defined\n",
      "Some nodes will be renamed.\n",
      "Warning: node 0 in graph[1] Tree already defined\n",
      "Some nodes will be renamed.\n",
      "Warning: node 0 in graph[1] Tree already defined\n",
      "Some nodes will be renamed.\n",
      "Warning: node 0 in graph[1] Tree already defined\n",
      "Some nodes will be renamed.\n"
     ]
    },
    {
     "data": {
      "image/svg+xml": [
       "<?xml version=\"1.0\" encoding=\"UTF-8\" standalone=\"no\"?>\n",
       "<!DOCTYPE svg PUBLIC \"-//W3C//DTD SVG 1.1//EN\"\n",
       " \"http://www.w3.org/Graphics/SVG/1.1/DTD/svg11.dtd\">\n",
       "<!-- Generated by graphviz version 2.43.0 (0)\n",
       " -->\n",
       "<!-- Title: root Pages: 1 -->\n",
       "<svg width=\"914pt\" height=\"177pt\"\n",
       " viewBox=\"0.00 0.00 913.50 177.00\" xmlns=\"http://www.w3.org/2000/svg\" xmlns:xlink=\"http://www.w3.org/1999/xlink\">\n",
       "<g id=\"graph0\" class=\"graph\" transform=\"scale(1 1) rotate(0) translate(4 173)\">\n",
       "<title>root</title>\n",
       "<polygon fill=\"white\" stroke=\"transparent\" points=\"-4,4 -4,-173 909.5,-173 909.5,4 -4,4\"/>\n",
       "<!-- 0 -->\n",
       "<g id=\"node1\" class=\"node\">\n",
       "<title>0</title>\n",
       "<path fill=\"#ffffff\" stroke=\"black\" d=\"M346.5,-169C346.5,-169 95.5,-169 95.5,-169 89.5,-169 83.5,-163 83.5,-157 83.5,-157 83.5,-106 83.5,-106 83.5,-100 89.5,-94 95.5,-94 95.5,-94 346.5,-94 346.5,-94 352.5,-94 358.5,-100 358.5,-106 358.5,-106 358.5,-157 358.5,-157 358.5,-163 352.5,-169 346.5,-169\"/>\n",
       "<text text-anchor=\"start\" x=\"158\" y=\"-150.3\" font-family=\"Helvetica,sans-Serif\" font-size=\"14.00\">padagogisch ≤ 0.546</text>\n",
       "<text text-anchor=\"start\" x=\"172.5\" y=\"-135.3\" font-family=\"Helvetica,sans-Serif\" font-size=\"14.00\">samples = 4903</text>\n",
       "<text text-anchor=\"start\" x=\"148\" y=\"-120.3\" font-family=\"Helvetica,sans-Serif\" font-size=\"14.00\">value = [2451.5, 2451.5]</text>\n",
       "<text text-anchor=\"start\" x=\"96\" y=\"-105.3\" font-family=\"Helvetica,sans-Serif\" font-size=\"14.00\">class = Erziehungs&#45;/Kulturwissenschaften</text>\n",
       "</g>\n",
       "<!-- 1 -->\n",
       "<g id=\"node2\" class=\"node\">\n",
       "<title>1</title>\n",
       "<path fill=\"#efaf81\" stroke=\"black\" d=\"M178,-58C178,-58 12,-58 12,-58 6,-58 0,-52 0,-46 0,-46 0,-12 0,-12 0,-6 6,0 12,0 12,0 178,0 178,0 184,0 190,-6 190,-12 190,-12 190,-46 190,-46 190,-52 184,-58 178,-58\"/>\n",
       "<text text-anchor=\"start\" x=\"46.5\" y=\"-40.3\" font-family=\"Helvetica,sans-Serif\" font-size=\"14.00\">samples = 2665</text>\n",
       "<text text-anchor=\"start\" x=\"10.5\" y=\"-25.3\" font-family=\"Helvetica,sans-Serif\" font-size=\"14.00\">value = [1621.355, 592.846]</text>\n",
       "<text text-anchor=\"start\" x=\"56\" y=\"-10.3\" font-family=\"Helvetica,sans-Serif\" font-size=\"14.00\">class = other</text>\n",
       "</g>\n",
       "<!-- 0&#45;&gt;1 -->\n",
       "<g id=\"edge1\" class=\"edge\">\n",
       "<title>0&#45;&gt;1</title>\n",
       "<path fill=\"none\" stroke=\"black\" d=\"M175.15,-93.93C163.15,-84.36 150.24,-74.06 138.37,-64.59\"/>\n",
       "<polygon fill=\"black\" stroke=\"black\" points=\"140.34,-61.69 130.34,-58.19 135.98,-67.16 140.34,-61.69\"/>\n",
       "<text text-anchor=\"middle\" x=\"133.14\" y=\"-79.33\" font-family=\"Helvetica,sans-Serif\" font-size=\"14.00\">True</text>\n",
       "</g>\n",
       "<!-- 2 -->\n",
       "<g id=\"node3\" class=\"node\">\n",
       "<title>2</title>\n",
       "<path fill=\"#91c9f1\" stroke=\"black\" d=\"M471.5,-58C471.5,-58 220.5,-58 220.5,-58 214.5,-58 208.5,-52 208.5,-46 208.5,-46 208.5,-12 208.5,-12 208.5,-6 214.5,0 220.5,0 220.5,0 471.5,0 471.5,0 477.5,0 483.5,-6 483.5,-12 483.5,-12 483.5,-46 483.5,-46 483.5,-52 477.5,-58 471.5,-58\"/>\n",
       "<text text-anchor=\"start\" x=\"297.5\" y=\"-40.3\" font-family=\"Helvetica,sans-Serif\" font-size=\"14.00\">samples = 2238</text>\n",
       "<text text-anchor=\"start\" x=\"261.5\" y=\"-25.3\" font-family=\"Helvetica,sans-Serif\" font-size=\"14.00\">value = [830.145, 1858.654]</text>\n",
       "<text text-anchor=\"start\" x=\"221\" y=\"-10.3\" font-family=\"Helvetica,sans-Serif\" font-size=\"14.00\">class = Erziehungs&#45;/Kulturwissenschaften</text>\n",
       "</g>\n",
       "<!-- 0&#45;&gt;2 -->\n",
       "<g id=\"edge2\" class=\"edge\">\n",
       "<title>0&#45;&gt;2</title>\n",
       "<path fill=\"none\" stroke=\"black\" d=\"M266.48,-93.93C278.39,-84.36 291.2,-74.06 302.97,-64.59\"/>\n",
       "<polygon fill=\"black\" stroke=\"black\" points=\"305.34,-67.18 310.94,-58.19 300.95,-61.73 305.34,-67.18\"/>\n",
       "<text text-anchor=\"middle\" x=\"308.24\" y=\"-79.34\" font-family=\"Helvetica,sans-Serif\" font-size=\"14.00\">False</text>\n",
       "</g>\n",
       "<!-- 0_gv1 -->\n",
       "<g id=\"node4\" class=\"node\">\n",
       "<title>0_gv1</title>\n",
       "<path fill=\"#ffffff\" stroke=\"black\" d=\"M769.5,-169C769.5,-169 626.5,-169 626.5,-169 620.5,-169 614.5,-163 614.5,-157 614.5,-157 614.5,-106 614.5,-106 614.5,-100 620.5,-94 626.5,-94 626.5,-94 769.5,-94 769.5,-94 775.5,-94 781.5,-100 781.5,-106 781.5,-106 781.5,-157 781.5,-157 781.5,-163 775.5,-169 769.5,-169\"/>\n",
       "<text text-anchor=\"start\" x=\"658.5\" y=\"-150.3\" font-family=\"Helvetica,sans-Serif\" font-size=\"14.00\">recht ≤ 0.911</text>\n",
       "<text text-anchor=\"start\" x=\"649.5\" y=\"-135.3\" font-family=\"Helvetica,sans-Serif\" font-size=\"14.00\">samples = 4903</text>\n",
       "<text text-anchor=\"start\" x=\"625\" y=\"-120.3\" font-family=\"Helvetica,sans-Serif\" font-size=\"14.00\">value = [2451.5, 2451.5]</text>\n",
       "<text text-anchor=\"start\" x=\"659\" y=\"-105.3\" font-family=\"Helvetica,sans-Serif\" font-size=\"14.00\">class = other</text>\n",
       "</g>\n",
       "<!-- 1_gv1 -->\n",
       "<g id=\"node5\" class=\"node\">\n",
       "<title>1_gv1</title>\n",
       "<path fill=\"#e88d4c\" stroke=\"black\" d=\"M672,-58C672,-58 514,-58 514,-58 508,-58 502,-52 502,-46 502,-46 502,-12 502,-12 502,-6 508,0 514,0 514,0 672,0 672,0 678,0 684,-6 684,-12 684,-12 684,-46 684,-46 684,-52 678,-58 672,-58\"/>\n",
       "<text text-anchor=\"start\" x=\"544.5\" y=\"-40.3\" font-family=\"Helvetica,sans-Serif\" font-size=\"14.00\">samples = 4462</text>\n",
       "<text text-anchor=\"start\" x=\"512.5\" y=\"-25.3\" font-family=\"Helvetica,sans-Serif\" font-size=\"14.00\">value = [2332.261, 228.53]</text>\n",
       "<text text-anchor=\"start\" x=\"554\" y=\"-10.3\" font-family=\"Helvetica,sans-Serif\" font-size=\"14.00\">class = other</text>\n",
       "</g>\n",
       "<!-- 0_gv1&#45;&gt;1_gv1 -->\n",
       "<g id=\"edge3\" class=\"edge\">\n",
       "<title>0_gv1&#45;&gt;1_gv1</title>\n",
       "<path fill=\"none\" stroke=\"black\" d=\"M659.8,-93.93C649.98,-84.54 639.45,-74.46 629.71,-65.14\"/>\n",
       "<polygon fill=\"black\" stroke=\"black\" points=\"632.09,-62.57 622.45,-58.19 627.25,-67.63 632.09,-62.57\"/>\n",
       "<text text-anchor=\"middle\" x=\"623\" y=\"-79.48\" font-family=\"Helvetica,sans-Serif\" font-size=\"14.00\">True</text>\n",
       "</g>\n",
       "<!-- 2_gv1 -->\n",
       "<g id=\"node6\" class=\"node\">\n",
       "<title>2_gv1</title>\n",
       "<path fill=\"#44a2e6\" stroke=\"black\" d=\"M893.5,-58C893.5,-58 714.5,-58 714.5,-58 708.5,-58 702.5,-52 702.5,-46 702.5,-46 702.5,-12 702.5,-12 702.5,-6 708.5,0 714.5,0 714.5,0 893.5,0 893.5,0 899.5,0 905.5,-6 905.5,-12 905.5,-12 905.5,-46 905.5,-46 905.5,-52 899.5,-58 893.5,-58\"/>\n",
       "<text text-anchor=\"start\" x=\"759\" y=\"-40.3\" font-family=\"Helvetica,sans-Serif\" font-size=\"14.00\">samples = 441</text>\n",
       "<text text-anchor=\"start\" x=\"723.5\" y=\"-25.3\" font-family=\"Helvetica,sans-Serif\" font-size=\"14.00\">value = [119.239, 2222.97]</text>\n",
       "<text text-anchor=\"start\" x=\"713.5\" y=\"-10.3\" font-family=\"Helvetica,sans-Serif\" font-size=\"14.00\">class = Rechtswissenschaften</text>\n",
       "</g>\n",
       "<!-- 0_gv1&#45;&gt;2_gv1 -->\n",
       "<g id=\"edge4\" class=\"edge\">\n",
       "<title>0_gv1&#45;&gt;2_gv1</title>\n",
       "<path fill=\"none\" stroke=\"black\" d=\"M736.57,-93.93C746.47,-84.54 757.11,-74.46 766.94,-65.14\"/>\n",
       "<polygon fill=\"black\" stroke=\"black\" points=\"769.42,-67.61 774.27,-58.19 764.6,-62.53 769.42,-67.61\"/>\n",
       "<text text-anchor=\"middle\" x=\"773.6\" y=\"-79.48\" font-family=\"Helvetica,sans-Serif\" font-size=\"14.00\">False</text>\n",
       "</g>\n",
       "</g>\n",
       "</svg>\n"
      ],
      "text/plain": [
       "<graphviz.sources.Source at 0x7f189c6903d0>"
      ]
     },
     "metadata": {},
     "output_type": "display_data"
    },
    {
     "data": {
      "text/markdown": [
       "<span style=\"font-size:11pt\"><br><br></span>"
      ],
      "text/plain": [
       "<IPython.core.display.Markdown object>"
      ]
     },
     "metadata": {},
     "output_type": "display_data"
    },
    {
     "data": {
      "image/svg+xml": [
       "<?xml version=\"1.0\" encoding=\"UTF-8\" standalone=\"no\"?>\n",
       "<!DOCTYPE svg PUBLIC \"-//W3C//DTD SVG 1.1//EN\"\n",
       " \"http://www.w3.org/Graphics/SVG/1.1/DTD/svg11.dtd\">\n",
       "<!-- Generated by graphviz version 2.43.0 (0)\n",
       " -->\n",
       "<!-- Title: root Pages: 1 -->\n",
       "<svg width=\"904pt\" height=\"177pt\"\n",
       " viewBox=\"0.00 0.00 903.50 177.00\" xmlns=\"http://www.w3.org/2000/svg\" xmlns:xlink=\"http://www.w3.org/1999/xlink\">\n",
       "<g id=\"graph0\" class=\"graph\" transform=\"scale(1 1) rotate(0) translate(4 173)\">\n",
       "<title>root</title>\n",
       "<polygon fill=\"white\" stroke=\"transparent\" points=\"-4,4 -4,-173 899.5,-173 899.5,4 -4,4\"/>\n",
       "<!-- 0 -->\n",
       "<g id=\"node1\" class=\"node\">\n",
       "<title>0</title>\n",
       "<path fill=\"#ffffff\" stroke=\"black\" d=\"M311.5,-169C311.5,-169 106.5,-169 106.5,-169 100.5,-169 94.5,-163 94.5,-157 94.5,-157 94.5,-106 94.5,-106 94.5,-100 100.5,-94 106.5,-94 106.5,-94 311.5,-94 311.5,-94 317.5,-94 323.5,-100 323.5,-106 323.5,-106 323.5,-157 323.5,-157 323.5,-163 317.5,-169 311.5,-169\"/>\n",
       "<text text-anchor=\"start\" x=\"144\" y=\"-150.3\" font-family=\"Helvetica,sans-Serif\" font-size=\"14.00\">management ≤ 0.879</text>\n",
       "<text text-anchor=\"start\" x=\"160.5\" y=\"-135.3\" font-family=\"Helvetica,sans-Serif\" font-size=\"14.00\">samples = 4903</text>\n",
       "<text text-anchor=\"start\" x=\"136\" y=\"-120.3\" font-family=\"Helvetica,sans-Serif\" font-size=\"14.00\">value = [2451.5, 2451.5]</text>\n",
       "<text text-anchor=\"start\" x=\"105.5\" y=\"-105.3\" font-family=\"Helvetica,sans-Serif\" font-size=\"14.00\">class = Wirtschaftswissenschaften</text>\n",
       "</g>\n",
       "<!-- 1 -->\n",
       "<g id=\"node2\" class=\"node\">\n",
       "<title>1</title>\n",
       "<path fill=\"#eeaf81\" stroke=\"black\" d=\"M178,-58C178,-58 12,-58 12,-58 6,-58 0,-52 0,-46 0,-46 0,-12 0,-12 0,-6 6,0 12,0 12,0 178,0 178,0 184,0 190,-6 190,-12 190,-12 190,-46 190,-46 190,-52 184,-58 178,-58\"/>\n",
       "<text text-anchor=\"start\" x=\"46.5\" y=\"-40.3\" font-family=\"Helvetica,sans-Serif\" font-size=\"14.00\">samples = 4338</text>\n",
       "<text text-anchor=\"start\" x=\"10.5\" y=\"-25.3\" font-family=\"Helvetica,sans-Serif\" font-size=\"14.00\">value = [2190.907, 795.942]</text>\n",
       "<text text-anchor=\"start\" x=\"56\" y=\"-10.3\" font-family=\"Helvetica,sans-Serif\" font-size=\"14.00\">class = other</text>\n",
       "</g>\n",
       "<!-- 0&#45;&gt;1 -->\n",
       "<g id=\"edge1\" class=\"edge\">\n",
       "<title>0&#45;&gt;1</title>\n",
       "<path fill=\"none\" stroke=\"black\" d=\"M167.52,-93.93C156.76,-84.45 145.21,-74.26 134.55,-64.87\"/>\n",
       "<polygon fill=\"black\" stroke=\"black\" points=\"136.79,-62.18 126.97,-58.19 132.16,-67.43 136.79,-62.18\"/>\n",
       "<text text-anchor=\"middle\" x=\"128.54\" y=\"-79.44\" font-family=\"Helvetica,sans-Serif\" font-size=\"14.00\">True</text>\n",
       "</g>\n",
       "<!-- 2 -->\n",
       "<g id=\"node3\" class=\"node\">\n",
       "<title>2</title>\n",
       "<path fill=\"#58ace9\" stroke=\"black\" d=\"M425.5,-58C425.5,-58 220.5,-58 220.5,-58 214.5,-58 208.5,-52 208.5,-46 208.5,-46 208.5,-12 208.5,-12 208.5,-6 214.5,0 220.5,0 220.5,0 425.5,0 425.5,0 431.5,0 437.5,-6 437.5,-12 437.5,-12 437.5,-46 437.5,-46 437.5,-52 431.5,-58 425.5,-58\"/>\n",
       "<text text-anchor=\"start\" x=\"278\" y=\"-40.3\" font-family=\"Helvetica,sans-Serif\" font-size=\"14.00\">samples = 565</text>\n",
       "<text text-anchor=\"start\" x=\"238.5\" y=\"-25.3\" font-family=\"Helvetica,sans-Serif\" font-size=\"14.00\">value = [260.593, 1655.558]</text>\n",
       "<text text-anchor=\"start\" x=\"219.5\" y=\"-10.3\" font-family=\"Helvetica,sans-Serif\" font-size=\"14.00\">class = Wirtschaftswissenschaften</text>\n",
       "</g>\n",
       "<!-- 0&#45;&gt;2 -->\n",
       "<g id=\"edge2\" class=\"edge\">\n",
       "<title>0&#45;&gt;2</title>\n",
       "<path fill=\"none\" stroke=\"black\" d=\"M250.48,-93.93C261.24,-84.45 272.79,-74.26 283.45,-64.87\"/>\n",
       "<polygon fill=\"black\" stroke=\"black\" points=\"285.84,-67.43 291.03,-58.19 281.21,-62.18 285.84,-67.43\"/>\n",
       "<text text-anchor=\"middle\" x=\"289.46\" y=\"-79.44\" font-family=\"Helvetica,sans-Serif\" font-size=\"14.00\">False</text>\n",
       "</g>\n",
       "<!-- 0_gv1 -->\n",
       "<g id=\"node4\" class=\"node\">\n",
       "<title>0_gv1</title>\n",
       "<path fill=\"#ffffff\" stroke=\"black\" d=\"M736.5,-169C736.5,-169 593.5,-169 593.5,-169 587.5,-169 581.5,-163 581.5,-157 581.5,-157 581.5,-106 581.5,-106 581.5,-100 587.5,-94 593.5,-94 593.5,-94 736.5,-94 736.5,-94 742.5,-94 748.5,-100 748.5,-106 748.5,-106 748.5,-157 748.5,-157 748.5,-163 742.5,-169 736.5,-169\"/>\n",
       "<text text-anchor=\"start\" x=\"600\" y=\"-150.3\" font-family=\"Helvetica,sans-Serif\" font-size=\"14.00\">geographisch ≤ 0.823</text>\n",
       "<text text-anchor=\"start\" x=\"616.5\" y=\"-135.3\" font-family=\"Helvetica,sans-Serif\" font-size=\"14.00\">samples = 4903</text>\n",
       "<text text-anchor=\"start\" x=\"592\" y=\"-120.3\" font-family=\"Helvetica,sans-Serif\" font-size=\"14.00\">value = [2451.5, 2451.5]</text>\n",
       "<text text-anchor=\"start\" x=\"626\" y=\"-105.3\" font-family=\"Helvetica,sans-Serif\" font-size=\"14.00\">class = other</text>\n",
       "</g>\n",
       "<!-- 1_gv1 -->\n",
       "<g id=\"node5\" class=\"node\">\n",
       "<title>1_gv1</title>\n",
       "<path fill=\"#f4ccae\" stroke=\"black\" d=\"M634,-58C634,-58 468,-58 468,-58 462,-58 456,-52 456,-46 456,-46 456,-12 456,-12 456,-6 462,0 468,0 468,0 634,0 634,0 640,0 646,-6 646,-12 646,-12 646,-46 646,-46 646,-52 640,-58 634,-58\"/>\n",
       "<text text-anchor=\"start\" x=\"502.5\" y=\"-40.3\" font-family=\"Helvetica,sans-Serif\" font-size=\"14.00\">samples = 4036</text>\n",
       "<text text-anchor=\"start\" x=\"466.5\" y=\"-25.3\" font-family=\"Helvetica,sans-Serif\" font-size=\"14.00\">value = [2198.523, 1302.67]</text>\n",
       "<text text-anchor=\"start\" x=\"512\" y=\"-10.3\" font-family=\"Helvetica,sans-Serif\" font-size=\"14.00\">class = other</text>\n",
       "</g>\n",
       "<!-- 0_gv1&#45;&gt;1_gv1 -->\n",
       "<g id=\"edge3\" class=\"edge\">\n",
       "<title>0_gv1&#45;&gt;1_gv1</title>\n",
       "<path fill=\"none\" stroke=\"black\" d=\"M623.52,-93.93C612.76,-84.45 601.21,-74.26 590.55,-64.87\"/>\n",
       "<polygon fill=\"black\" stroke=\"black\" points=\"592.79,-62.18 582.97,-58.19 588.16,-67.43 592.79,-62.18\"/>\n",
       "<text text-anchor=\"middle\" x=\"584.54\" y=\"-79.44\" font-family=\"Helvetica,sans-Serif\" font-size=\"14.00\">True</text>\n",
       "</g>\n",
       "<!-- 2_gv1 -->\n",
       "<g id=\"node6\" class=\"node\">\n",
       "<title>2_gv1</title>\n",
       "<path fill=\"#65b3eb\" stroke=\"black\" d=\"M883.5,-58C883.5,-58 676.5,-58 676.5,-58 670.5,-58 664.5,-52 664.5,-46 664.5,-46 664.5,-12 664.5,-12 664.5,-6 670.5,0 676.5,0 676.5,0 883.5,0 883.5,0 889.5,0 895.5,-6 895.5,-12 895.5,-12 895.5,-46 895.5,-46 895.5,-52 889.5,-58 883.5,-58\"/>\n",
       "<text text-anchor=\"start\" x=\"735\" y=\"-40.3\" font-family=\"Helvetica,sans-Serif\" font-size=\"14.00\">samples = 867</text>\n",
       "<text text-anchor=\"start\" x=\"699.5\" y=\"-25.3\" font-family=\"Helvetica,sans-Serif\" font-size=\"14.00\">value = [252.977, 1148.83]</text>\n",
       "<text text-anchor=\"start\" x=\"675.5\" y=\"-10.3\" font-family=\"Helvetica,sans-Serif\" font-size=\"14.00\">class = Kultur&#45;/Geowissenschaften</text>\n",
       "</g>\n",
       "<!-- 0_gv1&#45;&gt;2_gv1 -->\n",
       "<g id=\"edge4\" class=\"edge\">\n",
       "<title>0_gv1&#45;&gt;2_gv1</title>\n",
       "<path fill=\"none\" stroke=\"black\" d=\"M706.84,-93.93C717.7,-84.45 729.35,-74.26 740.1,-64.87\"/>\n",
       "<polygon fill=\"black\" stroke=\"black\" points=\"742.52,-67.4 747.75,-58.19 737.91,-62.13 742.52,-67.4\"/>\n",
       "<text text-anchor=\"middle\" x=\"746.07\" y=\"-79.43\" font-family=\"Helvetica,sans-Serif\" font-size=\"14.00\">False</text>\n",
       "</g>\n",
       "</g>\n",
       "</svg>\n"
      ],
      "text/plain": [
       "<graphviz.sources.Source at 0x7f189c6909d0>"
      ]
     },
     "metadata": {},
     "output_type": "display_data"
    },
    {
     "data": {
      "text/markdown": [
       "<span style=\"font-size:11pt\"><br><br></span>"
      ],
      "text/plain": [
       "<IPython.core.display.Markdown object>"
      ]
     },
     "metadata": {},
     "output_type": "display_data"
    },
    {
     "data": {
      "image/svg+xml": [
       "<?xml version=\"1.0\" encoding=\"UTF-8\" standalone=\"no\"?>\n",
       "<!DOCTYPE svg PUBLIC \"-//W3C//DTD SVG 1.1//EN\"\n",
       " \"http://www.w3.org/Graphics/SVG/1.1/DTD/svg11.dtd\">\n",
       "<!-- Generated by graphviz version 2.43.0 (0)\n",
       " -->\n",
       "<!-- Title: root Pages: 1 -->\n",
       "<svg width=\"908pt\" height=\"177pt\"\n",
       " viewBox=\"0.00 0.00 908.00 177.00\" xmlns=\"http://www.w3.org/2000/svg\" xmlns:xlink=\"http://www.w3.org/1999/xlink\">\n",
       "<g id=\"graph0\" class=\"graph\" transform=\"scale(1 1) rotate(0) translate(4 173)\">\n",
       "<title>root</title>\n",
       "<polygon fill=\"white\" stroke=\"transparent\" points=\"-4,4 -4,-173 904,-173 904,4 -4,4\"/>\n",
       "<!-- 0 -->\n",
       "<g id=\"node1\" class=\"node\">\n",
       "<title>0</title>\n",
       "<path fill=\"#ffffff\" stroke=\"black\" d=\"M273.5,-169C273.5,-169 130.5,-169 130.5,-169 124.5,-169 118.5,-163 118.5,-157 118.5,-157 118.5,-106 118.5,-106 118.5,-100 124.5,-94 130.5,-94 130.5,-94 273.5,-94 273.5,-94 279.5,-94 285.5,-100 285.5,-106 285.5,-106 285.5,-157 285.5,-157 285.5,-163 279.5,-169 273.5,-169\"/>\n",
       "<text text-anchor=\"start\" x=\"149\" y=\"-150.3\" font-family=\"Helvetica,sans-Serif\" font-size=\"14.00\">computer ≤ 0.867</text>\n",
       "<text text-anchor=\"start\" x=\"153.5\" y=\"-135.3\" font-family=\"Helvetica,sans-Serif\" font-size=\"14.00\">samples = 4903</text>\n",
       "<text text-anchor=\"start\" x=\"129\" y=\"-120.3\" font-family=\"Helvetica,sans-Serif\" font-size=\"14.00\">value = [2451.5, 2451.5]</text>\n",
       "<text text-anchor=\"start\" x=\"163\" y=\"-105.3\" font-family=\"Helvetica,sans-Serif\" font-size=\"14.00\">class = other</text>\n",
       "</g>\n",
       "<!-- 1 -->\n",
       "<g id=\"node2\" class=\"node\">\n",
       "<title>1</title>\n",
       "<path fill=\"#eda877\" stroke=\"black\" d=\"M178,-58C178,-58 12,-58 12,-58 6,-58 0,-52 0,-46 0,-46 0,-12 0,-12 0,-6 6,0 12,0 12,0 178,0 178,0 184,0 190,-6 190,-12 190,-12 190,-46 190,-46 190,-52 184,-58 178,-58\"/>\n",
       "<text text-anchor=\"start\" x=\"46.5\" y=\"-40.3\" font-family=\"Helvetica,sans-Serif\" font-size=\"14.00\">samples = 4266</text>\n",
       "<text text-anchor=\"start\" x=\"10.5\" y=\"-25.3\" font-family=\"Helvetica,sans-Serif\" font-size=\"14.00\">value = [2172.605, 678.877]</text>\n",
       "<text text-anchor=\"start\" x=\"56\" y=\"-10.3\" font-family=\"Helvetica,sans-Serif\" font-size=\"14.00\">class = other</text>\n",
       "</g>\n",
       "<!-- 0&#45;&gt;1 -->\n",
       "<g id=\"edge1\" class=\"edge\">\n",
       "<title>0&#45;&gt;1</title>\n",
       "<path fill=\"none\" stroke=\"black\" d=\"M163.07,-93.93C153.07,-84.54 142.33,-74.46 132.41,-65.14\"/>\n",
       "<polygon fill=\"black\" stroke=\"black\" points=\"134.7,-62.48 125.01,-58.19 129.9,-67.59 134.7,-62.48\"/>\n",
       "<text text-anchor=\"middle\" x=\"125.79\" y=\"-79.48\" font-family=\"Helvetica,sans-Serif\" font-size=\"14.00\">True</text>\n",
       "</g>\n",
       "<!-- 2 -->\n",
       "<g id=\"node3\" class=\"node\">\n",
       "<title>2</title>\n",
       "<path fill=\"#58ace9\" stroke=\"black\" d=\"M398,-58C398,-58 220,-58 220,-58 214,-58 208,-52 208,-46 208,-46 208,-12 208,-12 208,-6 214,0 220,0 220,0 398,0 398,0 404,0 410,-6 410,-12 410,-12 410,-46 410,-46 410,-52 404,-58 398,-58\"/>\n",
       "<text text-anchor=\"start\" x=\"264\" y=\"-40.3\" font-family=\"Helvetica,sans-Serif\" font-size=\"14.00\">samples = 637</text>\n",
       "<text text-anchor=\"start\" x=\"224.5\" y=\"-25.3\" font-family=\"Helvetica,sans-Serif\" font-size=\"14.00\">value = [278.895, 1772.623]</text>\n",
       "<text text-anchor=\"start\" x=\"218\" y=\"-10.3\" font-family=\"Helvetica,sans-Serif\" font-size=\"14.00\">class = Mathematik/Informatik</text>\n",
       "</g>\n",
       "<!-- 0&#45;&gt;2 -->\n",
       "<g id=\"edge2\" class=\"edge\">\n",
       "<title>0&#45;&gt;2</title>\n",
       "<path fill=\"none\" stroke=\"black\" d=\"M240.93,-93.93C250.93,-84.54 261.67,-74.46 271.59,-65.14\"/>\n",
       "<polygon fill=\"black\" stroke=\"black\" points=\"274.1,-67.59 278.99,-58.19 269.3,-62.48 274.1,-67.59\"/>\n",
       "<text text-anchor=\"middle\" x=\"278.21\" y=\"-79.48\" font-family=\"Helvetica,sans-Serif\" font-size=\"14.00\">False</text>\n",
       "</g>\n",
       "<!-- 0_gv1 -->\n",
       "<g id=\"node4\" class=\"node\">\n",
       "<title>0_gv1</title>\n",
       "<path fill=\"#ffffff\" stroke=\"black\" d=\"M716.5,-169C716.5,-169 573.5,-169 573.5,-169 567.5,-169 561.5,-163 561.5,-157 561.5,-157 561.5,-106 561.5,-106 561.5,-100 567.5,-94 573.5,-94 573.5,-94 716.5,-94 716.5,-94 722.5,-94 728.5,-100 728.5,-106 728.5,-106 728.5,-157 728.5,-157 728.5,-163 722.5,-169 716.5,-169\"/>\n",
       "<text text-anchor=\"start\" x=\"591.5\" y=\"-150.3\" font-family=\"Helvetica,sans-Serif\" font-size=\"14.00\">literarisch ≤ 0.809</text>\n",
       "<text text-anchor=\"start\" x=\"596.5\" y=\"-135.3\" font-family=\"Helvetica,sans-Serif\" font-size=\"14.00\">samples = 4903</text>\n",
       "<text text-anchor=\"start\" x=\"572\" y=\"-120.3\" font-family=\"Helvetica,sans-Serif\" font-size=\"14.00\">value = [2451.5, 2451.5]</text>\n",
       "<text text-anchor=\"start\" x=\"606\" y=\"-105.3\" font-family=\"Helvetica,sans-Serif\" font-size=\"14.00\">class = other</text>\n",
       "</g>\n",
       "<!-- 1_gv1 -->\n",
       "<g id=\"node5\" class=\"node\">\n",
       "<title>1_gv1</title>\n",
       "<path fill=\"#f0b68c\" stroke=\"black\" d=\"M606,-58C606,-58 440,-58 440,-58 434,-58 428,-52 428,-46 428,-46 428,-12 428,-12 428,-6 434,0 440,0 440,0 606,0 606,0 612,0 618,-6 618,-12 618,-12 618,-46 618,-46 618,-52 612,-58 606,-58\"/>\n",
       "<text text-anchor=\"start\" x=\"474.5\" y=\"-40.3\" font-family=\"Helvetica,sans-Serif\" font-size=\"14.00\">samples = 3957</text>\n",
       "<text text-anchor=\"start\" x=\"438.5\" y=\"-25.3\" font-family=\"Helvetica,sans-Serif\" font-size=\"14.00\">value = [2290.028, 965.291]</text>\n",
       "<text text-anchor=\"start\" x=\"484\" y=\"-10.3\" font-family=\"Helvetica,sans-Serif\" font-size=\"14.00\">class = other</text>\n",
       "</g>\n",
       "<!-- 0_gv1&#45;&gt;1_gv1 -->\n",
       "<g id=\"edge3\" class=\"edge\">\n",
       "<title>0_gv1&#45;&gt;1_gv1</title>\n",
       "<path fill=\"none\" stroke=\"black\" d=\"M600.61,-93.93C588.99,-84.36 576.49,-74.06 564.99,-64.59\"/>\n",
       "<polygon fill=\"black\" stroke=\"black\" points=\"567.16,-61.84 557.22,-58.19 562.71,-67.25 567.16,-61.84\"/>\n",
       "<text text-anchor=\"middle\" x=\"559.62\" y=\"-79.37\" font-family=\"Helvetica,sans-Serif\" font-size=\"14.00\">True</text>\n",
       "</g>\n",
       "<!-- 2_gv1 -->\n",
       "<g id=\"node6\" class=\"node\">\n",
       "<title>2_gv1</title>\n",
       "<path fill=\"#4fa8e8\" stroke=\"black\" d=\"M888,-58C888,-58 648,-58 648,-58 642,-58 636,-52 636,-46 636,-46 636,-12 636,-12 636,-6 642,0 648,0 648,0 888,0 888,0 894,0 900,-6 900,-12 900,-12 900,-46 900,-46 900,-52 894,-58 888,-58\"/>\n",
       "<text text-anchor=\"start\" x=\"723\" y=\"-40.3\" font-family=\"Helvetica,sans-Serif\" font-size=\"14.00\">samples = 946</text>\n",
       "<text text-anchor=\"start\" x=\"683.5\" y=\"-25.3\" font-family=\"Helvetica,sans-Serif\" font-size=\"14.00\">value = [161.472, 1486.209]</text>\n",
       "<text text-anchor=\"start\" x=\"648\" y=\"-10.3\" font-family=\"Helvetica,sans-Serif\" font-size=\"14.00\">class = Sprach&#45;/Literaturwissenschaften</text>\n",
       "</g>\n",
       "<!-- 0_gv1&#45;&gt;2_gv1 -->\n",
       "<g id=\"edge4\" class=\"edge\">\n",
       "<title>0_gv1&#45;&gt;2_gv1</title>\n",
       "<path fill=\"none\" stroke=\"black\" d=\"M689.75,-93.93C701.47,-84.36 714.07,-74.06 725.66,-64.59\"/>\n",
       "<polygon fill=\"black\" stroke=\"black\" points=\"727.97,-67.23 733.5,-58.19 723.54,-61.8 727.97,-67.23\"/>\n",
       "<text text-anchor=\"middle\" x=\"731\" y=\"-79.36\" font-family=\"Helvetica,sans-Serif\" font-size=\"14.00\">False</text>\n",
       "</g>\n",
       "</g>\n",
       "</svg>\n"
      ],
      "text/plain": [
       "<graphviz.sources.Source at 0x7f189c690eb0>"
      ]
     },
     "metadata": {},
     "output_type": "display_data"
    },
    {
     "data": {
      "text/markdown": [
       "<span style=\"font-size:11pt\"><br><br></span>"
      ],
      "text/plain": [
       "<IPython.core.display.Markdown object>"
      ]
     },
     "metadata": {},
     "output_type": "display_data"
    },
    {
     "data": {
      "image/svg+xml": [
       "<?xml version=\"1.0\" encoding=\"UTF-8\" standalone=\"no\"?>\n",
       "<!DOCTYPE svg PUBLIC \"-//W3C//DTD SVG 1.1//EN\"\n",
       " \"http://www.w3.org/Graphics/SVG/1.1/DTD/svg11.dtd\">\n",
       "<!-- Generated by graphviz version 2.43.0 (0)\n",
       " -->\n",
       "<!-- Title: root Pages: 1 -->\n",
       "<svg width=\"838pt\" height=\"177pt\"\n",
       " viewBox=\"0.00 0.00 838.00 177.00\" xmlns=\"http://www.w3.org/2000/svg\" xmlns:xlink=\"http://www.w3.org/1999/xlink\">\n",
       "<g id=\"graph0\" class=\"graph\" transform=\"scale(1 1) rotate(0) translate(4 173)\">\n",
       "<title>root</title>\n",
       "<polygon fill=\"white\" stroke=\"transparent\" points=\"-4,4 -4,-173 834,-173 834,4 -4,4\"/>\n",
       "<!-- 0 -->\n",
       "<g id=\"node1\" class=\"node\">\n",
       "<title>0</title>\n",
       "<path fill=\"#ffffff\" stroke=\"black\" d=\"M274.5,-169C274.5,-169 131.5,-169 131.5,-169 125.5,-169 119.5,-163 119.5,-157 119.5,-157 119.5,-106 119.5,-106 119.5,-100 125.5,-94 131.5,-94 131.5,-94 274.5,-94 274.5,-94 280.5,-94 286.5,-100 286.5,-106 286.5,-106 286.5,-157 286.5,-157 286.5,-163 280.5,-169 274.5,-169\"/>\n",
       "<text text-anchor=\"start\" x=\"138\" y=\"-150.3\" font-family=\"Helvetica,sans-Serif\" font-size=\"14.00\">therapeutisch ≤ 0.756</text>\n",
       "<text text-anchor=\"start\" x=\"154.5\" y=\"-135.3\" font-family=\"Helvetica,sans-Serif\" font-size=\"14.00\">samples = 4903</text>\n",
       "<text text-anchor=\"start\" x=\"130\" y=\"-120.3\" font-family=\"Helvetica,sans-Serif\" font-size=\"14.00\">value = [2451.5, 2451.5]</text>\n",
       "<text text-anchor=\"start\" x=\"164\" y=\"-105.3\" font-family=\"Helvetica,sans-Serif\" font-size=\"14.00\">class = other</text>\n",
       "</g>\n",
       "<!-- 1 -->\n",
       "<g id=\"node2\" class=\"node\">\n",
       "<title>1</title>\n",
       "<path fill=\"#f0b48a\" stroke=\"black\" d=\"M178,-58C178,-58 12,-58 12,-58 6,-58 0,-52 0,-46 0,-46 0,-12 0,-12 0,-6 6,0 12,0 12,0 178,0 178,0 184,0 190,-6 190,-12 190,-12 190,-46 190,-46 190,-52 184,-58 178,-58\"/>\n",
       "<text text-anchor=\"start\" x=\"46.5\" y=\"-40.3\" font-family=\"Helvetica,sans-Serif\" font-size=\"14.00\">samples = 3715</text>\n",
       "<text text-anchor=\"start\" x=\"10.5\" y=\"-25.3\" font-family=\"Helvetica,sans-Serif\" font-size=\"14.00\">value = [1919.117, 783.374]</text>\n",
       "<text text-anchor=\"start\" x=\"56\" y=\"-10.3\" font-family=\"Helvetica,sans-Serif\" font-size=\"14.00\">class = other</text>\n",
       "</g>\n",
       "<!-- 0&#45;&gt;1 -->\n",
       "<g id=\"edge1\" class=\"edge\">\n",
       "<title>0&#45;&gt;1</title>\n",
       "<path fill=\"none\" stroke=\"black\" d=\"M163.7,-93.93C153.61,-84.54 142.78,-74.46 132.76,-65.14\"/>\n",
       "<polygon fill=\"black\" stroke=\"black\" points=\"135,-62.44 125.29,-58.19 130.23,-67.56 135,-62.44\"/>\n",
       "<text text-anchor=\"middle\" x=\"126.19\" y=\"-79.47\" font-family=\"Helvetica,sans-Serif\" font-size=\"14.00\">True</text>\n",
       "</g>\n",
       "<!-- 2 -->\n",
       "<g id=\"node3\" class=\"node\">\n",
       "<title>2</title>\n",
       "<path fill=\"#78bced\" stroke=\"black\" d=\"M401.5,-58C401.5,-58 220.5,-58 220.5,-58 214.5,-58 208.5,-52 208.5,-46 208.5,-46 208.5,-12 208.5,-12 208.5,-6 214.5,0 220.5,0 220.5,0 401.5,0 401.5,0 407.5,0 413.5,-6 413.5,-12 413.5,-12 413.5,-46 413.5,-46 413.5,-52 407.5,-58 401.5,-58\"/>\n",
       "<text text-anchor=\"start\" x=\"262.5\" y=\"-40.3\" font-family=\"Helvetica,sans-Serif\" font-size=\"14.00\">samples = 1188</text>\n",
       "<text text-anchor=\"start\" x=\"226.5\" y=\"-25.3\" font-family=\"Helvetica,sans-Serif\" font-size=\"14.00\">value = [532.383, 1668.126]</text>\n",
       "<text text-anchor=\"start\" x=\"219\" y=\"-10.3\" font-family=\"Helvetica,sans-Serif\" font-size=\"14.00\">class = Humanwissenschaften</text>\n",
       "</g>\n",
       "<!-- 0&#45;&gt;2 -->\n",
       "<g id=\"edge2\" class=\"edge\">\n",
       "<title>0&#45;&gt;2</title>\n",
       "<path fill=\"none\" stroke=\"black\" d=\"M242.3,-93.93C252.39,-84.54 263.22,-74.46 273.24,-65.14\"/>\n",
       "<polygon fill=\"black\" stroke=\"black\" points=\"275.77,-67.56 280.71,-58.19 271,-62.44 275.77,-67.56\"/>\n",
       "<text text-anchor=\"middle\" x=\"279.81\" y=\"-79.47\" font-family=\"Helvetica,sans-Serif\" font-size=\"14.00\">False</text>\n",
       "</g>\n",
       "<!-- 0_gv1 -->\n",
       "<g id=\"node4\" class=\"node\">\n",
       "<title>0_gv1</title>\n",
       "<path fill=\"#ffffff\" stroke=\"black\" d=\"M702.5,-169C702.5,-169 559.5,-169 559.5,-169 553.5,-169 547.5,-163 547.5,-157 547.5,-157 547.5,-106 547.5,-106 547.5,-100 553.5,-94 559.5,-94 559.5,-94 702.5,-94 702.5,-94 708.5,-94 714.5,-100 714.5,-106 714.5,-106 714.5,-157 714.5,-157 714.5,-163 708.5,-169 702.5,-169\"/>\n",
       "<text text-anchor=\"start\" x=\"588.5\" y=\"-150.3\" font-family=\"Helvetica,sans-Serif\" font-size=\"14.00\">gestik ≤ 0.669</text>\n",
       "<text text-anchor=\"start\" x=\"582.5\" y=\"-135.3\" font-family=\"Helvetica,sans-Serif\" font-size=\"14.00\">samples = 4903</text>\n",
       "<text text-anchor=\"start\" x=\"558\" y=\"-120.3\" font-family=\"Helvetica,sans-Serif\" font-size=\"14.00\">value = [2451.5, 2451.5]</text>\n",
       "<text text-anchor=\"start\" x=\"592\" y=\"-105.3\" font-family=\"Helvetica,sans-Serif\" font-size=\"14.00\">class = other</text>\n",
       "</g>\n",
       "<!-- 1_gv1 -->\n",
       "<g id=\"node5\" class=\"node\">\n",
       "<title>1_gv1</title>\n",
       "<path fill=\"#eeac7d\" stroke=\"black\" d=\"M610,-58C610,-58 444,-58 444,-58 438,-58 432,-52 432,-46 432,-46 432,-12 432,-12 432,-6 438,0 444,0 444,0 610,0 610,0 616,0 622,-6 622,-12 622,-12 622,-46 622,-46 622,-52 616,-58 610,-58\"/>\n",
       "<text text-anchor=\"start\" x=\"478.5\" y=\"-40.3\" font-family=\"Helvetica,sans-Serif\" font-size=\"14.00\">samples = 3268</text>\n",
       "<text text-anchor=\"start\" x=\"442.5\" y=\"-25.3\" font-family=\"Helvetica,sans-Serif\" font-size=\"14.00\">value = [1657.151, 565.731]</text>\n",
       "<text text-anchor=\"start\" x=\"488\" y=\"-10.3\" font-family=\"Helvetica,sans-Serif\" font-size=\"14.00\">class = other</text>\n",
       "</g>\n",
       "<!-- 0_gv1&#45;&gt;1_gv1 -->\n",
       "<g id=\"edge3\" class=\"edge\">\n",
       "<title>0_gv1&#45;&gt;1_gv1</title>\n",
       "<path fill=\"none\" stroke=\"black\" d=\"M593.16,-93.93C583.44,-84.54 573.01,-74.46 563.36,-65.14\"/>\n",
       "<polygon fill=\"black\" stroke=\"black\" points=\"565.79,-62.62 556.17,-58.19 560.93,-67.65 565.79,-62.62\"/>\n",
       "<text text-anchor=\"middle\" x=\"556.6\" y=\"-79.48\" font-family=\"Helvetica,sans-Serif\" font-size=\"14.00\">True</text>\n",
       "</g>\n",
       "<!-- 2_gv1 -->\n",
       "<g id=\"node6\" class=\"node\">\n",
       "<title>2_gv1</title>\n",
       "<path fill=\"#8cc6f0\" stroke=\"black\" d=\"M818,-58C818,-58 652,-58 652,-58 646,-58 640,-52 640,-46 640,-46 640,-12 640,-12 640,-6 646,0 652,0 652,0 818,0 818,0 824,0 830,-6 830,-12 830,-12 830,-46 830,-46 830,-52 824,-58 818,-58\"/>\n",
       "<text text-anchor=\"start\" x=\"686.5\" y=\"-40.3\" font-family=\"Helvetica,sans-Serif\" font-size=\"14.00\">samples = 1635</text>\n",
       "<text text-anchor=\"start\" x=\"650.5\" y=\"-25.3\" font-family=\"Helvetica,sans-Serif\" font-size=\"14.00\">value = [794.349, 1885.769]</text>\n",
       "<text text-anchor=\"start\" x=\"691.5\" y=\"-10.3\" font-family=\"Helvetica,sans-Serif\" font-size=\"14.00\">class = Physik</text>\n",
       "</g>\n",
       "<!-- 0_gv1&#45;&gt;2_gv1 -->\n",
       "<g id=\"edge4\" class=\"edge\">\n",
       "<title>0_gv1&#45;&gt;2_gv1</title>\n",
       "<path fill=\"none\" stroke=\"black\" d=\"M668.84,-93.93C678.56,-84.54 688.99,-74.46 698.64,-65.14\"/>\n",
       "<polygon fill=\"black\" stroke=\"black\" points=\"701.07,-67.65 705.83,-58.19 696.21,-62.62 701.07,-67.65\"/>\n",
       "<text text-anchor=\"middle\" x=\"705.4\" y=\"-79.48\" font-family=\"Helvetica,sans-Serif\" font-size=\"14.00\">False</text>\n",
       "</g>\n",
       "</g>\n",
       "</svg>\n"
      ],
      "text/plain": [
       "<graphviz.sources.Source at 0x7f189c690040>"
      ]
     },
     "metadata": {},
     "output_type": "display_data"
    },
    {
     "data": {
      "text/markdown": [
       "<span style=\"font-size:11pt\"><br><br></span>"
      ],
      "text/plain": [
       "<IPython.core.display.Markdown object>"
      ]
     },
     "metadata": {},
     "output_type": "display_data"
    },
    {
     "data": {
      "image/svg+xml": [
       "<?xml version=\"1.0\" encoding=\"UTF-8\" standalone=\"no\"?>\n",
       "<!DOCTYPE svg PUBLIC \"-//W3C//DTD SVG 1.1//EN\"\n",
       " \"http://www.w3.org/Graphics/SVG/1.1/DTD/svg11.dtd\">\n",
       "<!-- Generated by graphviz version 2.43.0 (0)\n",
       " -->\n",
       "<!-- Title: root Pages: 1 -->\n",
       "<svg width=\"846pt\" height=\"177pt\"\n",
       " viewBox=\"0.00 0.00 846.00 177.00\" xmlns=\"http://www.w3.org/2000/svg\" xmlns:xlink=\"http://www.w3.org/1999/xlink\">\n",
       "<g id=\"graph0\" class=\"graph\" transform=\"scale(1 1) rotate(0) translate(4 173)\">\n",
       "<title>root</title>\n",
       "<polygon fill=\"white\" stroke=\"transparent\" points=\"-4,4 -4,-173 842,-173 842,4 -4,4\"/>\n",
       "<!-- 0 -->\n",
       "<g id=\"node1\" class=\"node\">\n",
       "<title>0</title>\n",
       "<path fill=\"#ffffff\" stroke=\"black\" d=\"M276.5,-169C276.5,-169 133.5,-169 133.5,-169 127.5,-169 121.5,-163 121.5,-157 121.5,-157 121.5,-106 121.5,-106 121.5,-100 127.5,-94 133.5,-94 133.5,-94 276.5,-94 276.5,-94 282.5,-94 288.5,-100 288.5,-106 288.5,-106 288.5,-157 288.5,-157 288.5,-163 282.5,-169 276.5,-169\"/>\n",
       "<text text-anchor=\"start\" x=\"148\" y=\"-150.3\" font-family=\"Helvetica,sans-Serif\" font-size=\"14.00\">geschichte ≤ 0.571</text>\n",
       "<text text-anchor=\"start\" x=\"156.5\" y=\"-135.3\" font-family=\"Helvetica,sans-Serif\" font-size=\"14.00\">samples = 4903</text>\n",
       "<text text-anchor=\"start\" x=\"132\" y=\"-120.3\" font-family=\"Helvetica,sans-Serif\" font-size=\"14.00\">value = [2451.5, 2451.5]</text>\n",
       "<text text-anchor=\"start\" x=\"166\" y=\"-105.3\" font-family=\"Helvetica,sans-Serif\" font-size=\"14.00\">class = other</text>\n",
       "</g>\n",
       "<!-- 1 -->\n",
       "<g id=\"node2\" class=\"node\">\n",
       "<title>1</title>\n",
       "<path fill=\"#aed7f4\" stroke=\"black\" d=\"M186,-58C186,-58 12,-58 12,-58 6,-58 0,-52 0,-46 0,-46 0,-12 0,-12 0,-6 6,0 12,0 12,0 186,0 186,0 192,0 198,-6 198,-12 198,-12 198,-46 198,-46 198,-52 192,-58 186,-58\"/>\n",
       "<text text-anchor=\"start\" x=\"50.5\" y=\"-40.3\" font-family=\"Helvetica,sans-Serif\" font-size=\"14.00\">samples = 2812</text>\n",
       "<text text-anchor=\"start\" x=\"11\" y=\"-25.3\" font-family=\"Helvetica,sans-Serif\" font-size=\"14.00\">value = [1385.008, 2338.005]</text>\n",
       "<text text-anchor=\"start\" x=\"26\" y=\"-10.3\" font-family=\"Helvetica,sans-Serif\" font-size=\"14.00\">class = Biologie/Chemie</text>\n",
       "</g>\n",
       "<!-- 0&#45;&gt;1 -->\n",
       "<g id=\"edge1\" class=\"edge\">\n",
       "<title>0&#45;&gt;1</title>\n",
       "<path fill=\"none\" stroke=\"black\" d=\"M166.43,-93.93C156.53,-84.54 145.89,-74.46 136.06,-65.14\"/>\n",
       "<polygon fill=\"black\" stroke=\"black\" points=\"138.4,-62.53 128.73,-58.19 133.58,-67.61 138.4,-62.53\"/>\n",
       "<text text-anchor=\"middle\" x=\"129.4\" y=\"-79.48\" font-family=\"Helvetica,sans-Serif\" font-size=\"14.00\">True</text>\n",
       "</g>\n",
       "<!-- 2 -->\n",
       "<g id=\"node3\" class=\"node\">\n",
       "<title>2</title>\n",
       "<path fill=\"#e88e4e\" stroke=\"black\" d=\"M394,-58C394,-58 228,-58 228,-58 222,-58 216,-52 216,-46 216,-46 216,-12 216,-12 216,-6 222,0 228,0 228,0 394,0 394,0 400,0 406,-6 406,-12 406,-12 406,-46 406,-46 406,-52 400,-58 394,-58\"/>\n",
       "<text text-anchor=\"start\" x=\"262.5\" y=\"-40.3\" font-family=\"Helvetica,sans-Serif\" font-size=\"14.00\">samples = 2091</text>\n",
       "<text text-anchor=\"start\" x=\"226.5\" y=\"-25.3\" font-family=\"Helvetica,sans-Serif\" font-size=\"14.00\">value = [1066.492, 113.495]</text>\n",
       "<text text-anchor=\"start\" x=\"272\" y=\"-10.3\" font-family=\"Helvetica,sans-Serif\" font-size=\"14.00\">class = other</text>\n",
       "</g>\n",
       "<!-- 0&#45;&gt;2 -->\n",
       "<g id=\"edge2\" class=\"edge\">\n",
       "<title>0&#45;&gt;2</title>\n",
       "<path fill=\"none\" stroke=\"black\" d=\"M243.57,-93.93C253.47,-84.54 264.11,-74.46 273.94,-65.14\"/>\n",
       "<polygon fill=\"black\" stroke=\"black\" points=\"276.42,-67.61 281.27,-58.19 271.6,-62.53 276.42,-67.61\"/>\n",
       "<text text-anchor=\"middle\" x=\"280.6\" y=\"-79.48\" font-family=\"Helvetica,sans-Serif\" font-size=\"14.00\">False</text>\n",
       "</g>\n",
       "<!-- 0_gv1 -->\n",
       "<g id=\"node4\" class=\"node\">\n",
       "<title>0_gv1</title>\n",
       "<path fill=\"#ffffff\" stroke=\"black\" d=\"M718,-169C718,-169 544,-169 544,-169 538,-169 532,-163 532,-157 532,-157 532,-106 532,-106 532,-100 538,-94 544,-94 544,-94 718,-94 718,-94 724,-94 730,-100 730,-106 730,-106 730,-157 730,-157 730,-163 724,-169 718,-169\"/>\n",
       "<text text-anchor=\"start\" x=\"589\" y=\"-150.3\" font-family=\"Helvetica,sans-Serif\" font-size=\"14.00\">politik ≤ 0.842</text>\n",
       "<text text-anchor=\"start\" x=\"582.5\" y=\"-135.3\" font-family=\"Helvetica,sans-Serif\" font-size=\"14.00\">samples = 4903</text>\n",
       "<text text-anchor=\"start\" x=\"558\" y=\"-120.3\" font-family=\"Helvetica,sans-Serif\" font-size=\"14.00\">value = [2451.5, 2451.5]</text>\n",
       "<text text-anchor=\"start\" x=\"543\" y=\"-105.3\" font-family=\"Helvetica,sans-Serif\" font-size=\"14.00\">class = Sozialwissenschaften</text>\n",
       "</g>\n",
       "<!-- 1_gv1 -->\n",
       "<g id=\"node5\" class=\"node\">\n",
       "<title>1_gv1</title>\n",
       "<path fill=\"#f3c5a3\" stroke=\"black\" d=\"M610,-58C610,-58 436,-58 436,-58 430,-58 424,-52 424,-46 424,-46 424,-12 424,-12 424,-6 430,0 436,0 436,0 610,0 610,0 616,0 622,-6 622,-12 622,-12 622,-46 622,-46 622,-52 616,-58 610,-58\"/>\n",
       "<text text-anchor=\"start\" x=\"474.5\" y=\"-40.3\" font-family=\"Helvetica,sans-Serif\" font-size=\"14.00\">samples = 4108</text>\n",
       "<text text-anchor=\"start\" x=\"435\" y=\"-25.3\" font-family=\"Helvetica,sans-Serif\" font-size=\"14.00\">value = [2152.482, 1154.839]</text>\n",
       "<text text-anchor=\"start\" x=\"484\" y=\"-10.3\" font-family=\"Helvetica,sans-Serif\" font-size=\"14.00\">class = other</text>\n",
       "</g>\n",
       "<!-- 0_gv1&#45;&gt;1_gv1 -->\n",
       "<g id=\"edge3\" class=\"edge\">\n",
       "<title>0_gv1&#45;&gt;1_gv1</title>\n",
       "<path fill=\"none\" stroke=\"black\" d=\"M591.7,-93.93C581.61,-84.54 570.78,-74.46 560.76,-65.14\"/>\n",
       "<polygon fill=\"black\" stroke=\"black\" points=\"563,-62.44 553.29,-58.19 558.23,-67.56 563,-62.44\"/>\n",
       "<text text-anchor=\"middle\" x=\"554.19\" y=\"-79.47\" font-family=\"Helvetica,sans-Serif\" font-size=\"14.00\">True</text>\n",
       "</g>\n",
       "<!-- 2_gv1 -->\n",
       "<g id=\"node6\" class=\"node\">\n",
       "<title>2_gv1</title>\n",
       "<path fill=\"#67b4eb\" stroke=\"black\" d=\"M826,-58C826,-58 652,-58 652,-58 646,-58 640,-52 640,-46 640,-46 640,-12 640,-12 640,-6 646,0 652,0 652,0 826,0 826,0 832,0 838,-6 838,-12 838,-12 838,-46 838,-46 838,-52 832,-58 826,-58\"/>\n",
       "<text text-anchor=\"start\" x=\"694\" y=\"-40.3\" font-family=\"Helvetica,sans-Serif\" font-size=\"14.00\">samples = 795</text>\n",
       "<text text-anchor=\"start\" x=\"654.5\" y=\"-25.3\" font-family=\"Helvetica,sans-Serif\" font-size=\"14.00\">value = [299.018, 1296.661]</text>\n",
       "<text text-anchor=\"start\" x=\"651\" y=\"-10.3\" font-family=\"Helvetica,sans-Serif\" font-size=\"14.00\">class = Sozialwissenschaften</text>\n",
       "</g>\n",
       "<!-- 0_gv1&#45;&gt;2_gv1 -->\n",
       "<g id=\"edge4\" class=\"edge\">\n",
       "<title>0_gv1&#45;&gt;2_gv1</title>\n",
       "<path fill=\"none\" stroke=\"black\" d=\"M670.3,-93.93C680.39,-84.54 691.22,-74.46 701.24,-65.14\"/>\n",
       "<polygon fill=\"black\" stroke=\"black\" points=\"703.77,-67.56 708.71,-58.19 699,-62.44 703.77,-67.56\"/>\n",
       "<text text-anchor=\"middle\" x=\"707.81\" y=\"-79.47\" font-family=\"Helvetica,sans-Serif\" font-size=\"14.00\">False</text>\n",
       "</g>\n",
       "</g>\n",
       "</svg>\n"
      ],
      "text/plain": [
       "<graphviz.sources.Source at 0x7f189c6903d0>"
      ]
     },
     "metadata": {},
     "output_type": "display_data"
    },
    {
     "data": {
      "text/markdown": [
       "<span style=\"font-size:11pt\"><br><br></span>"
      ],
      "text/plain": [
       "<IPython.core.display.Markdown object>"
      ]
     },
     "metadata": {},
     "output_type": "display_data"
    },
    {
     "data": {
      "text/markdown": [
       "<span style=\"font-size:11pt\">Per-Class-Scores: Erziehungs-/Kulturwissenschaften: 0.68, Rechtswissenschaften: 0.95, Wirtschaftswissenschaften: 0.88, Kultur-/Geowissenschaften: 0.81, Mathematik/Informatik: 0.87, Sprach-/Literaturwissenschaften: 0.86, Humanwissenschaften: 0.77, Physik: 0.68, Biologie/Chemie: 0.46, Sozialwissenschaften: 0.86</span>"
      ],
      "text/plain": [
       "<IPython.core.display.Markdown object>"
      ]
     },
     "metadata": {},
     "output_type": "display_data"
    },
    {
     "data": {
      "text/markdown": [
       "<span style=\"font-size:11pt\">Unweighted Mean Accuracy: 78.17%</span>"
      ],
      "text/plain": [
       "<IPython.core.display.Markdown object>"
      ]
     },
     "metadata": {},
     "output_type": "display_data"
    },
    {
     "data": {
      "text/markdown": [
       "<span style=\"font-size:11pt\">Weighted Mean Accuracy: 78.50%</span>"
      ],
      "text/plain": [
       "<IPython.core.display.Markdown object>"
      ]
     },
     "metadata": {},
     "output_type": "display_data"
    }
   ],
   "source": [
    "# res = classify_shallowtree_multi(clusters, embedding, descriptions, ctx.obj[\"dataset_class\"], verbose=True)\n",
    "res = classify_shallowtree(clusters, embedding, descriptions, ctx.obj[\"dataset_class\"], one_vs_rest=True, dt_depth=1, test_percentage_crossval=0.33, \n",
    "                           classes=\"fachbereich\", cluster_reprs=cluster_reprs, verbose=False, return_features=False, balance_classes=True, do_plot=True)"
   ]
  },
  {
   "cell_type": "markdown",
   "id": "2d257607-1453-4f56-a3ed-06773fb42535",
   "metadata": {},
   "source": [
    "<br><br><br><br><br><br><br><br>\n",
    "\n",
    "# Classifying DDC"
   ]
  },
  {
   "cell_type": "code",
   "execution_count": 20,
   "id": "f2eb7bc0-9881-4e84-88a9-a6e4ad6877af",
   "metadata": {},
   "outputs": [
    {
     "data": {
      "text/markdown": [
       "<span style=\"font-size:11pt\">Using classes from ddc_l1 - 5199/11942 entities have a class</span>"
      ],
      "text/plain": [
       "<IPython.core.display.Markdown object>"
      ]
     },
     "metadata": {},
     "output_type": "display_data"
    },
    {
     "data": {
      "text/markdown": [
       "<span style=\"font-size:11pt\">Labels (10 classes): <span style=\"color: #0000ff\">Social sciences</span>: 1986, <span style=\"color: #0000ff\">History and geography</span>: 225, <span style=\"color: #0000ff\">Pure Science</span>: 265, <span style=\"color: #0000ff\">Literature</span>: 362, <span style=\"color: #0000ff\">Arts and recreation</span>: 424, <span style=\"color: #0000ff\">Technology</span>: 672, <span style=\"color: #0000ff\">Religion</span>: 235, <span style=\"color: #0000ff\">Computer science, information, general</span>: 319, <span style=\"color: #0000ff\">Language</span>: 452, <span style=\"color: #0000ff\">Philosophy and psychology</span>: 259</span>"
      ],
      "text/plain": [
       "<IPython.core.display.Markdown object>"
      ]
     },
     "metadata": {},
     "output_type": "display_data"
    },
    {
     "data": {
      "text/markdown": [
       "<span style=\"font-size:11pt\">Eval-Settings: type: <span style=\"color: #0000ff\">one-vs-rest</span>, DT-Depth: <span style=\"color: #0000ff\">1</span>, train-test-split:<span style=\"color: #0000ff\"> 33.0% in test-set </span></span>"
      ],
      "text/plain": [
       "<IPython.core.display.Markdown object>"
      ]
     },
     "metadata": {},
     "output_type": "display_data"
    },
    {
     "name": "stderr",
     "output_type": "stream",
     "text": [
      "Warning: node 0 in graph[1] Tree already defined\n",
      "Some nodes will be renamed.\n",
      "Warning: node 0 in graph[1] Tree already defined\n",
      "Some nodes will be renamed.\n",
      "Warning: node 0 in graph[1] Tree already defined\n",
      "Some nodes will be renamed.\n",
      "Warning: node 0 in graph[1] Tree already defined\n",
      "Some nodes will be renamed.\n",
      "Warning: node 0 in graph[1] Tree already defined\n",
      "Some nodes will be renamed.\n"
     ]
    },
    {
     "data": {
      "image/svg+xml": [
       "<?xml version=\"1.0\" encoding=\"UTF-8\" standalone=\"no\"?>\n",
       "<!DOCTYPE svg PUBLIC \"-//W3C//DTD SVG 1.1//EN\"\n",
       " \"http://www.w3.org/Graphics/SVG/1.1/DTD/svg11.dtd\">\n",
       "<!-- Generated by graphviz version 2.43.0 (0)\n",
       " -->\n",
       "<!-- Title: root Pages: 1 -->\n",
       "<svg width=\"838pt\" height=\"177pt\"\n",
       " viewBox=\"0.00 0.00 837.50 177.00\" xmlns=\"http://www.w3.org/2000/svg\" xmlns:xlink=\"http://www.w3.org/1999/xlink\">\n",
       "<g id=\"graph0\" class=\"graph\" transform=\"scale(1 1) rotate(0) translate(4 173)\">\n",
       "<title>root</title>\n",
       "<polygon fill=\"white\" stroke=\"transparent\" points=\"-4,4 -4,-173 833.5,-173 833.5,4 -4,4\"/>\n",
       "<!-- 0 -->\n",
       "<g id=\"node1\" class=\"node\">\n",
       "<title>0</title>\n",
       "<path fill=\"#ffffff\" stroke=\"black\" d=\"M274.5,-169C274.5,-169 131.5,-169 131.5,-169 125.5,-169 119.5,-163 119.5,-157 119.5,-157 119.5,-106 119.5,-106 119.5,-100 125.5,-94 131.5,-94 131.5,-94 274.5,-94 274.5,-94 280.5,-94 286.5,-100 286.5,-106 286.5,-106 286.5,-157 286.5,-157 286.5,-163 280.5,-169 274.5,-169\"/>\n",
       "<text text-anchor=\"start\" x=\"150\" y=\"-150.3\" font-family=\"Helvetica,sans-Serif\" font-size=\"14.00\">technisch ≤ 0.905</text>\n",
       "<text text-anchor=\"start\" x=\"154.5\" y=\"-135.3\" font-family=\"Helvetica,sans-Serif\" font-size=\"14.00\">samples = 3483</text>\n",
       "<text text-anchor=\"start\" x=\"130\" y=\"-120.3\" font-family=\"Helvetica,sans-Serif\" font-size=\"14.00\">value = [1741.5, 1741.5]</text>\n",
       "<text text-anchor=\"start\" x=\"145.5\" y=\"-105.3\" font-family=\"Helvetica,sans-Serif\" font-size=\"14.00\">class = Technology</text>\n",
       "</g>\n",
       "<!-- 1 -->\n",
       "<g id=\"node2\" class=\"node\">\n",
       "<title>1</title>\n",
       "<path fill=\"#f7d8c1\" stroke=\"black\" d=\"M186,-58C186,-58 12,-58 12,-58 6,-58 0,-52 0,-46 0,-46 0,-12 0,-12 0,-6 6,0 12,0 12,0 186,0 186,0 192,0 198,-6 198,-12 198,-12 198,-46 198,-46 198,-52 192,-58 186,-58\"/>\n",
       "<text text-anchor=\"start\" x=\"50.5\" y=\"-40.3\" font-family=\"Helvetica,sans-Serif\" font-size=\"14.00\">samples = 3140</text>\n",
       "<text text-anchor=\"start\" x=\"11\" y=\"-25.3\" font-family=\"Helvetica,sans-Serif\" font-size=\"14.00\">value = [1632.585, 1124.465]</text>\n",
       "<text text-anchor=\"start\" x=\"60\" y=\"-10.3\" font-family=\"Helvetica,sans-Serif\" font-size=\"14.00\">class = other</text>\n",
       "</g>\n",
       "<!-- 0&#45;&gt;1 -->\n",
       "<g id=\"edge1\" class=\"edge\">\n",
       "<title>0&#45;&gt;1</title>\n",
       "<path fill=\"none\" stroke=\"black\" d=\"M165.16,-93.93C155.44,-84.54 145.01,-74.46 135.36,-65.14\"/>\n",
       "<polygon fill=\"black\" stroke=\"black\" points=\"137.79,-62.62 128.17,-58.19 132.93,-67.65 137.79,-62.62\"/>\n",
       "<text text-anchor=\"middle\" x=\"128.6\" y=\"-79.48\" font-family=\"Helvetica,sans-Serif\" font-size=\"14.00\">True</text>\n",
       "</g>\n",
       "<!-- 2 -->\n",
       "<g id=\"node3\" class=\"node\">\n",
       "<title>2</title>\n",
       "<path fill=\"#5caeea\" stroke=\"black\" d=\"M386,-58C386,-58 228,-58 228,-58 222,-58 216,-52 216,-46 216,-46 216,-12 216,-12 216,-6 222,0 228,0 228,0 386,0 386,0 392,0 398,-6 398,-12 398,-12 398,-46 398,-46 398,-52 392,-58 386,-58\"/>\n",
       "<text text-anchor=\"start\" x=\"262\" y=\"-40.3\" font-family=\"Helvetica,sans-Serif\" font-size=\"14.00\">samples = 343</text>\n",
       "<text text-anchor=\"start\" x=\"226.5\" y=\"-25.3\" font-family=\"Helvetica,sans-Serif\" font-size=\"14.00\">value = [108.915, 617.035]</text>\n",
       "<text text-anchor=\"start\" x=\"249.5\" y=\"-10.3\" font-family=\"Helvetica,sans-Serif\" font-size=\"14.00\">class = Technology</text>\n",
       "</g>\n",
       "<!-- 0&#45;&gt;2 -->\n",
       "<g id=\"edge2\" class=\"edge\">\n",
       "<title>0&#45;&gt;2</title>\n",
       "<path fill=\"none\" stroke=\"black\" d=\"M240.84,-93.93C250.56,-84.54 260.99,-74.46 270.64,-65.14\"/>\n",
       "<polygon fill=\"black\" stroke=\"black\" points=\"273.07,-67.65 277.83,-58.19 268.21,-62.62 273.07,-67.65\"/>\n",
       "<text text-anchor=\"middle\" x=\"277.4\" y=\"-79.48\" font-family=\"Helvetica,sans-Serif\" font-size=\"14.00\">False</text>\n",
       "</g>\n",
       "<!-- 0_gv1 -->\n",
       "<g id=\"node4\" class=\"node\">\n",
       "<title>0_gv1</title>\n",
       "<path fill=\"#ffffff\" stroke=\"black\" d=\"M690.5,-169C690.5,-169 547.5,-169 547.5,-169 541.5,-169 535.5,-163 535.5,-157 535.5,-157 535.5,-106 535.5,-106 535.5,-100 541.5,-94 547.5,-94 547.5,-94 690.5,-94 690.5,-94 696.5,-94 702.5,-100 702.5,-106 702.5,-106 702.5,-157 702.5,-157 702.5,-163 696.5,-169 690.5,-169\"/>\n",
       "<text text-anchor=\"start\" x=\"562\" y=\"-150.3\" font-family=\"Helvetica,sans-Serif\" font-size=\"14.00\">geschichte ≤ 0.828</text>\n",
       "<text text-anchor=\"start\" x=\"570.5\" y=\"-135.3\" font-family=\"Helvetica,sans-Serif\" font-size=\"14.00\">samples = 3483</text>\n",
       "<text text-anchor=\"start\" x=\"546\" y=\"-120.3\" font-family=\"Helvetica,sans-Serif\" font-size=\"14.00\">value = [1741.5, 1741.5]</text>\n",
       "<text text-anchor=\"start\" x=\"580\" y=\"-105.3\" font-family=\"Helvetica,sans-Serif\" font-size=\"14.00\">class = other</text>\n",
       "</g>\n",
       "<!-- 1_gv1 -->\n",
       "<g id=\"node5\" class=\"node\">\n",
       "<title>1_gv1</title>\n",
       "<path fill=\"#f0b78e\" stroke=\"black\" d=\"M594,-58C594,-58 428,-58 428,-58 422,-58 416,-52 416,-46 416,-46 416,-12 416,-12 416,-6 422,0 428,0 428,0 594,0 594,0 600,0 606,-6 606,-12 606,-12 606,-46 606,-46 606,-52 600,-58 594,-58\"/>\n",
       "<text text-anchor=\"start\" x=\"462.5\" y=\"-40.3\" font-family=\"Helvetica,sans-Serif\" font-size=\"14.00\">samples = 2888</text>\n",
       "<text text-anchor=\"start\" x=\"426.5\" y=\"-25.3\" font-family=\"Helvetica,sans-Serif\" font-size=\"14.00\">value = [1481.872, 636.317]</text>\n",
       "<text text-anchor=\"start\" x=\"472\" y=\"-10.3\" font-family=\"Helvetica,sans-Serif\" font-size=\"14.00\">class = other</text>\n",
       "</g>\n",
       "<!-- 0_gv1&#45;&gt;1_gv1 -->\n",
       "<g id=\"edge3\" class=\"edge\">\n",
       "<title>0_gv1&#45;&gt;1_gv1</title>\n",
       "<path fill=\"none\" stroke=\"black\" d=\"M579.7,-93.93C569.61,-84.54 558.78,-74.46 548.76,-65.14\"/>\n",
       "<polygon fill=\"black\" stroke=\"black\" points=\"551,-62.44 541.29,-58.19 546.23,-67.56 551,-62.44\"/>\n",
       "<text text-anchor=\"middle\" x=\"542.19\" y=\"-79.47\" font-family=\"Helvetica,sans-Serif\" font-size=\"14.00\">True</text>\n",
       "</g>\n",
       "<!-- 2_gv1 -->\n",
       "<g id=\"node6\" class=\"node\">\n",
       "<title>2_gv1</title>\n",
       "<path fill=\"#68b4eb\" stroke=\"black\" d=\"M817.5,-58C817.5,-58 636.5,-58 636.5,-58 630.5,-58 624.5,-52 624.5,-46 624.5,-46 624.5,-12 624.5,-12 624.5,-6 630.5,0 636.5,0 636.5,0 817.5,0 817.5,0 823.5,0 829.5,-6 829.5,-12 829.5,-12 829.5,-46 829.5,-46 829.5,-52 823.5,-58 817.5,-58\"/>\n",
       "<text text-anchor=\"start\" x=\"682\" y=\"-40.3\" font-family=\"Helvetica,sans-Serif\" font-size=\"14.00\">samples = 595</text>\n",
       "<text text-anchor=\"start\" x=\"642.5\" y=\"-25.3\" font-family=\"Helvetica,sans-Serif\" font-size=\"14.00\">value = [259.628, 1105.183]</text>\n",
       "<text text-anchor=\"start\" x=\"635.5\" y=\"-10.3\" font-family=\"Helvetica,sans-Serif\" font-size=\"14.00\">class = History and geography</text>\n",
       "</g>\n",
       "<!-- 0_gv1&#45;&gt;2_gv1 -->\n",
       "<g id=\"edge4\" class=\"edge\">\n",
       "<title>0_gv1&#45;&gt;2_gv1</title>\n",
       "<path fill=\"none\" stroke=\"black\" d=\"M658.3,-93.93C668.39,-84.54 679.22,-74.46 689.24,-65.14\"/>\n",
       "<polygon fill=\"black\" stroke=\"black\" points=\"691.77,-67.56 696.71,-58.19 687,-62.44 691.77,-67.56\"/>\n",
       "<text text-anchor=\"middle\" x=\"695.81\" y=\"-79.47\" font-family=\"Helvetica,sans-Serif\" font-size=\"14.00\">False</text>\n",
       "</g>\n",
       "</g>\n",
       "</svg>\n"
      ],
      "text/plain": [
       "<graphviz.sources.Source at 0x7f1839c536a0>"
      ]
     },
     "metadata": {},
     "output_type": "display_data"
    },
    {
     "data": {
      "text/markdown": [
       "<span style=\"font-size:11pt\"><br><br></span>"
      ],
      "text/plain": [
       "<IPython.core.display.Markdown object>"
      ]
     },
     "metadata": {},
     "output_type": "display_data"
    },
    {
     "data": {
      "image/svg+xml": [
       "<?xml version=\"1.0\" encoding=\"UTF-8\" standalone=\"no\"?>\n",
       "<!DOCTYPE svg PUBLIC \"-//W3C//DTD SVG 1.1//EN\"\n",
       " \"http://www.w3.org/Graphics/SVG/1.1/DTD/svg11.dtd\">\n",
       "<!-- Generated by graphviz version 2.43.0 (0)\n",
       " -->\n",
       "<!-- Title: root Pages: 1 -->\n",
       "<svg width=\"814pt\" height=\"177pt\"\n",
       " viewBox=\"0.00 0.00 814.00 177.00\" xmlns=\"http://www.w3.org/2000/svg\" xmlns:xlink=\"http://www.w3.org/1999/xlink\">\n",
       "<g id=\"graph0\" class=\"graph\" transform=\"scale(1 1) rotate(0) translate(4 173)\">\n",
       "<title>root</title>\n",
       "<polygon fill=\"white\" stroke=\"transparent\" points=\"-4,4 -4,-173 810,-173 810,4 -4,4\"/>\n",
       "<!-- 0 -->\n",
       "<g id=\"node1\" class=\"node\">\n",
       "<title>0</title>\n",
       "<path fill=\"#ffffff\" stroke=\"black\" d=\"M268.5,-169C268.5,-169 125.5,-169 125.5,-169 119.5,-169 113.5,-163 113.5,-157 113.5,-157 113.5,-106 113.5,-106 113.5,-100 119.5,-94 125.5,-94 125.5,-94 268.5,-94 268.5,-94 274.5,-94 280.5,-100 280.5,-106 280.5,-106 280.5,-157 280.5,-157 280.5,-163 274.5,-169 268.5,-169\"/>\n",
       "<text text-anchor=\"start\" x=\"143\" y=\"-150.3\" font-family=\"Helvetica,sans-Serif\" font-size=\"14.00\">mechanik ≤ 0.841</text>\n",
       "<text text-anchor=\"start\" x=\"148.5\" y=\"-135.3\" font-family=\"Helvetica,sans-Serif\" font-size=\"14.00\">samples = 3483</text>\n",
       "<text text-anchor=\"start\" x=\"124\" y=\"-120.3\" font-family=\"Helvetica,sans-Serif\" font-size=\"14.00\">value = [1741.5, 1741.5]</text>\n",
       "<text text-anchor=\"start\" x=\"133.5\" y=\"-105.3\" font-family=\"Helvetica,sans-Serif\" font-size=\"14.00\">class = Pure Science</text>\n",
       "</g>\n",
       "<!-- 1 -->\n",
       "<g id=\"node2\" class=\"node\">\n",
       "<title>1</title>\n",
       "<path fill=\"#f2c29f\" stroke=\"black\" d=\"M178,-58C178,-58 12,-58 12,-58 6,-58 0,-52 0,-46 0,-46 0,-12 0,-12 0,-6 6,0 12,0 12,0 178,0 178,0 184,0 190,-6 190,-12 190,-12 190,-46 190,-46 190,-52 184,-58 178,-58\"/>\n",
       "<text text-anchor=\"start\" x=\"46.5\" y=\"-40.3\" font-family=\"Helvetica,sans-Serif\" font-size=\"14.00\">samples = 2926</text>\n",
       "<text text-anchor=\"start\" x=\"10.5\" y=\"-25.3\" font-family=\"Helvetica,sans-Serif\" font-size=\"14.00\">value = [1500.167, 772.913]</text>\n",
       "<text text-anchor=\"start\" x=\"56\" y=\"-10.3\" font-family=\"Helvetica,sans-Serif\" font-size=\"14.00\">class = other</text>\n",
       "</g>\n",
       "<!-- 0&#45;&gt;1 -->\n",
       "<g id=\"edge1\" class=\"edge\">\n",
       "<title>0&#45;&gt;1</title>\n",
       "<path fill=\"none\" stroke=\"black\" d=\"M159.89,-93.93C150.45,-84.63 140.32,-74.66 130.94,-65.41\"/>\n",
       "<polygon fill=\"black\" stroke=\"black\" points=\"133.19,-62.71 123.61,-58.19 128.28,-67.7 133.19,-62.71\"/>\n",
       "<text text-anchor=\"middle\" x=\"123.79\" y=\"-79.49\" font-family=\"Helvetica,sans-Serif\" font-size=\"14.00\">True</text>\n",
       "</g>\n",
       "<!-- 2 -->\n",
       "<g id=\"node3\" class=\"node\">\n",
       "<title>2</title>\n",
       "<path fill=\"#6ab5eb\" stroke=\"black\" d=\"M378,-58C378,-58 220,-58 220,-58 214,-58 208,-52 208,-46 208,-46 208,-12 208,-12 208,-6 214,0 220,0 220,0 378,0 378,0 384,0 390,-6 390,-12 390,-12 390,-46 390,-46 390,-52 384,-58 378,-58\"/>\n",
       "<text text-anchor=\"start\" x=\"254\" y=\"-40.3\" font-family=\"Helvetica,sans-Serif\" font-size=\"14.00\">samples = 557</text>\n",
       "<text text-anchor=\"start\" x=\"218.5\" y=\"-25.3\" font-family=\"Helvetica,sans-Serif\" font-size=\"14.00\">value = [241.333, 968.587]</text>\n",
       "<text text-anchor=\"start\" x=\"235.5\" y=\"-10.3\" font-family=\"Helvetica,sans-Serif\" font-size=\"14.00\">class = Pure Science</text>\n",
       "</g>\n",
       "<!-- 0&#45;&gt;2 -->\n",
       "<g id=\"edge2\" class=\"edge\">\n",
       "<title>0&#45;&gt;2</title>\n",
       "<path fill=\"none\" stroke=\"black\" d=\"M234.11,-93.93C243.55,-84.63 253.68,-74.66 263.06,-65.41\"/>\n",
       "<polygon fill=\"black\" stroke=\"black\" points=\"265.72,-67.7 270.39,-58.19 260.81,-62.71 265.72,-67.7\"/>\n",
       "<text text-anchor=\"middle\" x=\"270.21\" y=\"-79.49\" font-family=\"Helvetica,sans-Serif\" font-size=\"14.00\">False</text>\n",
       "</g>\n",
       "<!-- 0_gv1 -->\n",
       "<g id=\"node4\" class=\"node\">\n",
       "<title>0_gv1</title>\n",
       "<path fill=\"#ffffff\" stroke=\"black\" d=\"M678.5,-169C678.5,-169 535.5,-169 535.5,-169 529.5,-169 523.5,-163 523.5,-157 523.5,-157 523.5,-106 523.5,-106 523.5,-100 529.5,-94 535.5,-94 535.5,-94 678.5,-94 678.5,-94 684.5,-94 690.5,-100 690.5,-106 690.5,-106 690.5,-157 690.5,-157 690.5,-163 684.5,-169 678.5,-169\"/>\n",
       "<text text-anchor=\"start\" x=\"552\" y=\"-150.3\" font-family=\"Helvetica,sans-Serif\" font-size=\"14.00\">sprachlich ≤ 0.807</text>\n",
       "<text text-anchor=\"start\" x=\"558.5\" y=\"-135.3\" font-family=\"Helvetica,sans-Serif\" font-size=\"14.00\">samples = 3483</text>\n",
       "<text text-anchor=\"start\" x=\"534\" y=\"-120.3\" font-family=\"Helvetica,sans-Serif\" font-size=\"14.00\">value = [1741.5, 1741.5]</text>\n",
       "<text text-anchor=\"start\" x=\"568\" y=\"-105.3\" font-family=\"Helvetica,sans-Serif\" font-size=\"14.00\">class = other</text>\n",
       "</g>\n",
       "<!-- 1_gv1 -->\n",
       "<g id=\"node5\" class=\"node\">\n",
       "<title>1_gv1</title>\n",
       "<path fill=\"#eca36f\" stroke=\"black\" d=\"M586,-58C586,-58 420,-58 420,-58 414,-58 408,-52 408,-46 408,-46 408,-12 408,-12 408,-6 414,0 420,0 420,0 586,0 586,0 592,0 598,-6 598,-12 598,-12 598,-46 598,-46 598,-52 592,-58 586,-58\"/>\n",
       "<text text-anchor=\"start\" x=\"454.5\" y=\"-40.3\" font-family=\"Helvetica,sans-Serif\" font-size=\"14.00\">samples = 2818</text>\n",
       "<text text-anchor=\"start\" x=\"418.5\" y=\"-25.3\" font-family=\"Helvetica,sans-Serif\" font-size=\"14.00\">value = [1501.689, 407.334]</text>\n",
       "<text text-anchor=\"start\" x=\"464\" y=\"-10.3\" font-family=\"Helvetica,sans-Serif\" font-size=\"14.00\">class = other</text>\n",
       "</g>\n",
       "<!-- 0_gv1&#45;&gt;1_gv1 -->\n",
       "<g id=\"edge3\" class=\"edge\">\n",
       "<title>0_gv1&#45;&gt;1_gv1</title>\n",
       "<path fill=\"none\" stroke=\"black\" d=\"M569.16,-93.93C559.44,-84.54 549.01,-74.46 539.36,-65.14\"/>\n",
       "<polygon fill=\"black\" stroke=\"black\" points=\"541.79,-62.62 532.17,-58.19 536.93,-67.65 541.79,-62.62\"/>\n",
       "<text text-anchor=\"middle\" x=\"532.6\" y=\"-79.48\" font-family=\"Helvetica,sans-Serif\" font-size=\"14.00\">True</text>\n",
       "</g>\n",
       "<!-- 2_gv1 -->\n",
       "<g id=\"node6\" class=\"node\">\n",
       "<title>2_gv1</title>\n",
       "<path fill=\"#5dafea\" stroke=\"black\" d=\"M794,-58C794,-58 628,-58 628,-58 622,-58 616,-52 616,-46 616,-46 616,-12 616,-12 616,-6 622,0 628,0 628,0 794,0 794,0 800,0 806,-6 806,-12 806,-12 806,-46 806,-46 806,-52 800,-58 794,-58\"/>\n",
       "<text text-anchor=\"start\" x=\"666\" y=\"-40.3\" font-family=\"Helvetica,sans-Serif\" font-size=\"14.00\">samples = 665</text>\n",
       "<text text-anchor=\"start\" x=\"626.5\" y=\"-25.3\" font-family=\"Helvetica,sans-Serif\" font-size=\"14.00\">value = [239.811, 1334.166]</text>\n",
       "<text text-anchor=\"start\" x=\"657.5\" y=\"-10.3\" font-family=\"Helvetica,sans-Serif\" font-size=\"14.00\">class = Language</text>\n",
       "</g>\n",
       "<!-- 0_gv1&#45;&gt;2_gv1 -->\n",
       "<g id=\"edge4\" class=\"edge\">\n",
       "<title>0_gv1&#45;&gt;2_gv1</title>\n",
       "<path fill=\"none\" stroke=\"black\" d=\"M644.84,-93.93C654.56,-84.54 664.99,-74.46 674.64,-65.14\"/>\n",
       "<polygon fill=\"black\" stroke=\"black\" points=\"677.07,-67.65 681.83,-58.19 672.21,-62.62 677.07,-67.65\"/>\n",
       "<text text-anchor=\"middle\" x=\"681.4\" y=\"-79.48\" font-family=\"Helvetica,sans-Serif\" font-size=\"14.00\">False</text>\n",
       "</g>\n",
       "</g>\n",
       "</svg>\n"
      ],
      "text/plain": [
       "<graphviz.sources.Source at 0x7f1839c52e30>"
      ]
     },
     "metadata": {},
     "output_type": "display_data"
    },
    {
     "data": {
      "text/markdown": [
       "<span style=\"font-size:11pt\"><br><br></span>"
      ],
      "text/plain": [
       "<IPython.core.display.Markdown object>"
      ]
     },
     "metadata": {},
     "output_type": "display_data"
    },
    {
     "data": {
      "image/svg+xml": [
       "<?xml version=\"1.0\" encoding=\"UTF-8\" standalone=\"no\"?>\n",
       "<!DOCTYPE svg PUBLIC \"-//W3C//DTD SVG 1.1//EN\"\n",
       " \"http://www.w3.org/Graphics/SVG/1.1/DTD/svg11.dtd\">\n",
       "<!-- Generated by graphviz version 2.43.0 (0)\n",
       " -->\n",
       "<!-- Title: root Pages: 1 -->\n",
       "<svg width=\"790pt\" height=\"177pt\"\n",
       " viewBox=\"0.00 0.00 790.00 177.00\" xmlns=\"http://www.w3.org/2000/svg\" xmlns:xlink=\"http://www.w3.org/1999/xlink\">\n",
       "<g id=\"graph0\" class=\"graph\" transform=\"scale(1 1) rotate(0) translate(4 173)\">\n",
       "<title>root</title>\n",
       "<polygon fill=\"white\" stroke=\"transparent\" points=\"-4,4 -4,-173 786,-173 786,4 -4,4\"/>\n",
       "<!-- 0 -->\n",
       "<g id=\"node1\" class=\"node\">\n",
       "<title>0</title>\n",
       "<path fill=\"#ffffff\" stroke=\"black\" d=\"M272.5,-169C272.5,-169 129.5,-169 129.5,-169 123.5,-169 117.5,-163 117.5,-157 117.5,-157 117.5,-106 117.5,-106 117.5,-100 123.5,-94 129.5,-94 129.5,-94 272.5,-94 272.5,-94 278.5,-94 284.5,-100 284.5,-106 284.5,-106 284.5,-157 284.5,-157 284.5,-163 278.5,-169 272.5,-169\"/>\n",
       "<text text-anchor=\"start\" x=\"161.5\" y=\"-150.3\" font-family=\"Helvetica,sans-Serif\" font-size=\"14.00\">recht ≤ 0.941</text>\n",
       "<text text-anchor=\"start\" x=\"152.5\" y=\"-135.3\" font-family=\"Helvetica,sans-Serif\" font-size=\"14.00\">samples = 3483</text>\n",
       "<text text-anchor=\"start\" x=\"128\" y=\"-120.3\" font-family=\"Helvetica,sans-Serif\" font-size=\"14.00\">value = [1741.5, 1741.5]</text>\n",
       "<text text-anchor=\"start\" x=\"162\" y=\"-105.3\" font-family=\"Helvetica,sans-Serif\" font-size=\"14.00\">class = other</text>\n",
       "</g>\n",
       "<!-- 1 -->\n",
       "<g id=\"node2\" class=\"node\">\n",
       "<title>1</title>\n",
       "<path fill=\"#fceee4\" stroke=\"black\" d=\"M186,-58C186,-58 12,-58 12,-58 6,-58 0,-52 0,-46 0,-46 0,-12 0,-12 0,-6 6,0 12,0 12,0 186,0 186,0 192,0 198,-6 198,-12 198,-12 198,-46 198,-46 198,-52 192,-58 186,-58\"/>\n",
       "<text text-anchor=\"start\" x=\"50.5\" y=\"-40.3\" font-family=\"Helvetica,sans-Serif\" font-size=\"14.00\">samples = 3271</text>\n",
       "<text text-anchor=\"start\" x=\"11\" y=\"-25.3\" font-family=\"Helvetica,sans-Serif\" font-size=\"14.00\">value = [1724.426, 1493.456]</text>\n",
       "<text text-anchor=\"start\" x=\"60\" y=\"-10.3\" font-family=\"Helvetica,sans-Serif\" font-size=\"14.00\">class = other</text>\n",
       "</g>\n",
       "<!-- 0&#45;&gt;1 -->\n",
       "<g id=\"edge1\" class=\"edge\">\n",
       "<title>0&#45;&gt;1</title>\n",
       "<path fill=\"none\" stroke=\"black\" d=\"M163.89,-93.93C154.45,-84.63 144.32,-74.66 134.94,-65.41\"/>\n",
       "<polygon fill=\"black\" stroke=\"black\" points=\"137.19,-62.71 127.61,-58.19 132.28,-67.7 137.19,-62.71\"/>\n",
       "<text text-anchor=\"middle\" x=\"127.79\" y=\"-79.49\" font-family=\"Helvetica,sans-Serif\" font-size=\"14.00\">True</text>\n",
       "</g>\n",
       "<!-- 2 -->\n",
       "<g id=\"node3\" class=\"node\">\n",
       "<title>2</title>\n",
       "<path fill=\"#47a4e7\" stroke=\"black\" d=\"M378,-58C378,-58 228,-58 228,-58 222,-58 216,-52 216,-46 216,-46 216,-12 216,-12 216,-6 222,0 228,0 228,0 378,0 378,0 384,0 390,-6 390,-12 390,-12 390,-46 390,-46 390,-52 384,-58 378,-58\"/>\n",
       "<text text-anchor=\"start\" x=\"258\" y=\"-40.3\" font-family=\"Helvetica,sans-Serif\" font-size=\"14.00\">samples = 212</text>\n",
       "<text text-anchor=\"start\" x=\"226\" y=\"-25.3\" font-family=\"Helvetica,sans-Serif\" font-size=\"14.00\">value = [17.074, 248.044]</text>\n",
       "<text text-anchor=\"start\" x=\"233\" y=\"-10.3\" font-family=\"Helvetica,sans-Serif\" font-size=\"14.00\">class = Social sciences</text>\n",
       "</g>\n",
       "<!-- 0&#45;&gt;2 -->\n",
       "<g id=\"edge2\" class=\"edge\">\n",
       "<title>0&#45;&gt;2</title>\n",
       "<path fill=\"none\" stroke=\"black\" d=\"M238.11,-93.93C247.55,-84.63 257.68,-74.66 267.06,-65.41\"/>\n",
       "<polygon fill=\"black\" stroke=\"black\" points=\"269.72,-67.7 274.39,-58.19 264.81,-62.71 269.72,-67.7\"/>\n",
       "<text text-anchor=\"middle\" x=\"274.21\" y=\"-79.49\" font-family=\"Helvetica,sans-Serif\" font-size=\"14.00\">False</text>\n",
       "</g>\n",
       "<!-- 0_gv1 -->\n",
       "<g id=\"node4\" class=\"node\">\n",
       "<title>0_gv1</title>\n",
       "<path fill=\"#ffffff\" stroke=\"black\" d=\"M668.5,-169C668.5,-169 525.5,-169 525.5,-169 519.5,-169 513.5,-163 513.5,-157 513.5,-157 513.5,-106 513.5,-106 513.5,-100 519.5,-94 525.5,-94 525.5,-94 668.5,-94 668.5,-94 674.5,-94 680.5,-100 680.5,-106 680.5,-106 680.5,-157 680.5,-157 680.5,-163 674.5,-169 668.5,-169\"/>\n",
       "<text text-anchor=\"start\" x=\"543.5\" y=\"-150.3\" font-family=\"Helvetica,sans-Serif\" font-size=\"14.00\">literarisch ≤ 0.906</text>\n",
       "<text text-anchor=\"start\" x=\"548.5\" y=\"-135.3\" font-family=\"Helvetica,sans-Serif\" font-size=\"14.00\">samples = 3483</text>\n",
       "<text text-anchor=\"start\" x=\"524\" y=\"-120.3\" font-family=\"Helvetica,sans-Serif\" font-size=\"14.00\">value = [1741.5, 1741.5]</text>\n",
       "<text text-anchor=\"start\" x=\"545\" y=\"-105.3\" font-family=\"Helvetica,sans-Serif\" font-size=\"14.00\">class = Literature</text>\n",
       "</g>\n",
       "<!-- 1_gv1 -->\n",
       "<g id=\"node5\" class=\"node\">\n",
       "<title>1_gv1</title>\n",
       "<path fill=\"#efb082\" stroke=\"black\" d=\"M578,-58C578,-58 420,-58 420,-58 414,-58 408,-52 408,-46 408,-46 408,-12 408,-12 408,-6 414,0 420,0 420,0 578,0 578,0 584,0 590,-6 590,-12 590,-12 590,-46 590,-46 590,-52 584,-58 578,-58\"/>\n",
       "<text text-anchor=\"start\" x=\"450.5\" y=\"-40.3\" font-family=\"Helvetica,sans-Serif\" font-size=\"14.00\">samples = 3138</text>\n",
       "<text text-anchor=\"start\" x=\"418.5\" y=\"-25.3\" font-family=\"Helvetica,sans-Serif\" font-size=\"14.00\">value = [1644.42, 610.211]</text>\n",
       "<text text-anchor=\"start\" x=\"460\" y=\"-10.3\" font-family=\"Helvetica,sans-Serif\" font-size=\"14.00\">class = other</text>\n",
       "</g>\n",
       "<!-- 0_gv1&#45;&gt;1_gv1 -->\n",
       "<g id=\"edge3\" class=\"edge\">\n",
       "<title>0_gv1&#45;&gt;1_gv1</title>\n",
       "<path fill=\"none\" stroke=\"black\" d=\"M561.34,-93.93C552.27,-84.63 542.55,-74.66 533.53,-65.41\"/>\n",
       "<polygon fill=\"black\" stroke=\"black\" points=\"535.97,-62.9 526.49,-58.19 530.96,-67.79 535.97,-62.9\"/>\n",
       "<text text-anchor=\"middle\" x=\"526.17\" y=\"-79.49\" font-family=\"Helvetica,sans-Serif\" font-size=\"14.00\">True</text>\n",
       "</g>\n",
       "<!-- 2_gv1 -->\n",
       "<g id=\"node6\" class=\"node\">\n",
       "<title>2_gv1</title>\n",
       "<path fill=\"#4aa5e7\" stroke=\"black\" d=\"M770,-58C770,-58 620,-58 620,-58 614,-58 608,-52 608,-46 608,-46 608,-12 608,-12 608,-6 614,0 620,0 620,0 770,0 770,0 776,0 782,-6 782,-12 782,-12 782,-46 782,-46 782,-52 776,-58 770,-58\"/>\n",
       "<text text-anchor=\"start\" x=\"650\" y=\"-40.3\" font-family=\"Helvetica,sans-Serif\" font-size=\"14.00\">samples = 345</text>\n",
       "<text text-anchor=\"start\" x=\"618\" y=\"-25.3\" font-family=\"Helvetica,sans-Serif\" font-size=\"14.00\">value = [97.08, 1131.289]</text>\n",
       "<text text-anchor=\"start\" x=\"643\" y=\"-10.3\" font-family=\"Helvetica,sans-Serif\" font-size=\"14.00\">class = Literature</text>\n",
       "</g>\n",
       "<!-- 0_gv1&#45;&gt;2_gv1 -->\n",
       "<g id=\"edge4\" class=\"edge\">\n",
       "<title>0_gv1&#45;&gt;2_gv1</title>\n",
       "<path fill=\"none\" stroke=\"black\" d=\"M632.66,-93.93C641.73,-84.63 651.45,-74.66 660.47,-65.41\"/>\n",
       "<polygon fill=\"black\" stroke=\"black\" points=\"663.04,-67.79 667.51,-58.19 658.03,-62.9 663.04,-67.79\"/>\n",
       "<text text-anchor=\"middle\" x=\"667.83\" y=\"-79.49\" font-family=\"Helvetica,sans-Serif\" font-size=\"14.00\">False</text>\n",
       "</g>\n",
       "</g>\n",
       "</svg>\n"
      ],
      "text/plain": [
       "<graphviz.sources.Source at 0x7f1839c50bb0>"
      ]
     },
     "metadata": {},
     "output_type": "display_data"
    },
    {
     "data": {
      "text/markdown": [
       "<span style=\"font-size:11pt\"><br><br></span>"
      ],
      "text/plain": [
       "<IPython.core.display.Markdown object>"
      ]
     },
     "metadata": {},
     "output_type": "display_data"
    },
    {
     "data": {
      "image/svg+xml": [
       "<?xml version=\"1.0\" encoding=\"UTF-8\" standalone=\"no\"?>\n",
       "<!DOCTYPE svg PUBLIC \"-//W3C//DTD SVG 1.1//EN\"\n",
       " \"http://www.w3.org/Graphics/SVG/1.1/DTD/svg11.dtd\">\n",
       "<!-- Generated by graphviz version 2.43.0 (0)\n",
       " -->\n",
       "<!-- Title: root Pages: 1 -->\n",
       "<svg width=\"863pt\" height=\"177pt\"\n",
       " viewBox=\"0.00 0.00 862.50 177.00\" xmlns=\"http://www.w3.org/2000/svg\" xmlns:xlink=\"http://www.w3.org/1999/xlink\">\n",
       "<g id=\"graph0\" class=\"graph\" transform=\"scale(1 1) rotate(0) translate(4 173)\">\n",
       "<title>root</title>\n",
       "<polygon fill=\"white\" stroke=\"transparent\" points=\"-4,4 -4,-173 858.5,-173 858.5,4 -4,4\"/>\n",
       "<!-- 0 -->\n",
       "<g id=\"node1\" class=\"node\">\n",
       "<title>0</title>\n",
       "<path fill=\"#ffffff\" stroke=\"black\" d=\"M311.5,-169C311.5,-169 168.5,-169 168.5,-169 162.5,-169 156.5,-163 156.5,-157 156.5,-157 156.5,-106 156.5,-106 156.5,-100 162.5,-94 168.5,-94 168.5,-94 311.5,-94 311.5,-94 317.5,-94 323.5,-100 323.5,-106 323.5,-106 323.5,-157 323.5,-157 323.5,-163 317.5,-169 311.5,-169\"/>\n",
       "<text text-anchor=\"start\" x=\"199\" y=\"-150.3\" font-family=\"Helvetica,sans-Serif\" font-size=\"14.00\">kunst ≤ 0.884</text>\n",
       "<text text-anchor=\"start\" x=\"191.5\" y=\"-135.3\" font-family=\"Helvetica,sans-Serif\" font-size=\"14.00\">samples = 3483</text>\n",
       "<text text-anchor=\"start\" x=\"167\" y=\"-120.3\" font-family=\"Helvetica,sans-Serif\" font-size=\"14.00\">value = [1741.5, 1741.5]</text>\n",
       "<text text-anchor=\"start\" x=\"201\" y=\"-105.3\" font-family=\"Helvetica,sans-Serif\" font-size=\"14.00\">class = other</text>\n",
       "</g>\n",
       "<!-- 1 -->\n",
       "<g id=\"node2\" class=\"node\">\n",
       "<title>1</title>\n",
       "<path fill=\"#f4cbad\" stroke=\"black\" d=\"M170,-58C170,-58 12,-58 12,-58 6,-58 0,-52 0,-46 0,-46 0,-12 0,-12 0,-6 6,0 12,0 12,0 170,0 170,0 176,0 182,-6 182,-12 182,-12 182,-46 182,-46 182,-52 176,-58 170,-58\"/>\n",
       "<text text-anchor=\"start\" x=\"42.5\" y=\"-40.3\" font-family=\"Helvetica,sans-Serif\" font-size=\"14.00\">samples = 3078</text>\n",
       "<text text-anchor=\"start\" x=\"10.5\" y=\"-25.3\" font-family=\"Helvetica,sans-Serif\" font-size=\"14.00\">value = [1593.74, 934.022]</text>\n",
       "<text text-anchor=\"start\" x=\"52\" y=\"-10.3\" font-family=\"Helvetica,sans-Serif\" font-size=\"14.00\">class = other</text>\n",
       "</g>\n",
       "<!-- 0&#45;&gt;1 -->\n",
       "<g id=\"edge1\" class=\"edge\">\n",
       "<title>0&#45;&gt;1</title>\n",
       "<path fill=\"none\" stroke=\"black\" d=\"M185.79,-93.93C171.32,-84.17 155.74,-73.67 141.48,-64.05\"/>\n",
       "<polygon fill=\"black\" stroke=\"black\" points=\"143.04,-60.88 132.79,-58.19 139.12,-66.68 143.04,-60.88\"/>\n",
       "<text text-anchor=\"middle\" x=\"137.56\" y=\"-79.03\" font-family=\"Helvetica,sans-Serif\" font-size=\"14.00\">True</text>\n",
       "</g>\n",
       "<!-- 2 -->\n",
       "<g id=\"node3\" class=\"node\">\n",
       "<title>2</title>\n",
       "<path fill=\"#5dafea\" stroke=\"black\" d=\"M370,-58C370,-58 212,-58 212,-58 206,-58 200,-52 200,-46 200,-46 200,-12 200,-12 200,-6 206,0 212,0 212,0 370,0 370,0 376,0 382,-6 382,-12 382,-12 382,-46 382,-46 382,-52 376,-58 370,-58\"/>\n",
       "<text text-anchor=\"start\" x=\"246\" y=\"-40.3\" font-family=\"Helvetica,sans-Serif\" font-size=\"14.00\">samples = 405</text>\n",
       "<text text-anchor=\"start\" x=\"214\" y=\"-25.3\" font-family=\"Helvetica,sans-Serif\" font-size=\"14.00\">value = [147.76, 807.478]</text>\n",
       "<text text-anchor=\"start\" x=\"210.5\" y=\"-10.3\" font-family=\"Helvetica,sans-Serif\" font-size=\"14.00\">class = Arts and recreation</text>\n",
       "</g>\n",
       "<!-- 0&#45;&gt;2 -->\n",
       "<g id=\"edge2\" class=\"edge\">\n",
       "<title>0&#45;&gt;2</title>\n",
       "<path fill=\"none\" stroke=\"black\" d=\"M258.56,-93.93C262.95,-85.28 267.64,-76.04 272.05,-67.35\"/>\n",
       "<polygon fill=\"black\" stroke=\"black\" points=\"275.29,-68.69 276.7,-58.19 269.05,-65.52 275.29,-68.69\"/>\n",
       "<text text-anchor=\"middle\" x=\"284.46\" y=\"-78.25\" font-family=\"Helvetica,sans-Serif\" font-size=\"14.00\">False</text>\n",
       "</g>\n",
       "<!-- 0_gv1 -->\n",
       "<g id=\"node4\" class=\"node\">\n",
       "<title>0_gv1</title>\n",
       "<path fill=\"#ffffff\" stroke=\"black\" d=\"M659.5,-169C659.5,-169 450.5,-169 450.5,-169 444.5,-169 438.5,-163 438.5,-157 438.5,-157 438.5,-106 438.5,-106 438.5,-100 444.5,-94 450.5,-94 450.5,-94 659.5,-94 659.5,-94 665.5,-94 671.5,-100 671.5,-106 671.5,-106 671.5,-157 671.5,-157 671.5,-163 665.5,-169 659.5,-169\"/>\n",
       "<text text-anchor=\"start\" x=\"496\" y=\"-150.3\" font-family=\"Helvetica,sans-Serif\" font-size=\"14.00\">philosophie ≤ 0.966</text>\n",
       "<text text-anchor=\"start\" x=\"506.5\" y=\"-135.3\" font-family=\"Helvetica,sans-Serif\" font-size=\"14.00\">samples = 3483</text>\n",
       "<text text-anchor=\"start\" x=\"482\" y=\"-120.3\" font-family=\"Helvetica,sans-Serif\" font-size=\"14.00\">value = [1741.5, 1741.5]</text>\n",
       "<text text-anchor=\"start\" x=\"449.5\" y=\"-105.3\" font-family=\"Helvetica,sans-Serif\" font-size=\"14.00\">class = Philosophy and psychology</text>\n",
       "</g>\n",
       "<!-- 1_gv1 -->\n",
       "<g id=\"node5\" class=\"node\">\n",
       "<title>1_gv1</title>\n",
       "<path fill=\"#f8decb\" stroke=\"black\" d=\"M591,-58C591,-58 417,-58 417,-58 411,-58 405,-52 405,-46 405,-46 405,-12 405,-12 405,-6 411,0 417,0 417,0 591,0 591,0 597,0 603,-6 603,-12 603,-12 603,-46 603,-46 603,-52 597,-58 591,-58\"/>\n",
       "<text text-anchor=\"start\" x=\"455.5\" y=\"-40.3\" font-family=\"Helvetica,sans-Serif\" font-size=\"14.00\">samples = 3353</text>\n",
       "<text text-anchor=\"start\" x=\"416\" y=\"-25.3\" font-family=\"Helvetica,sans-Serif\" font-size=\"14.00\">value = [1699.333, 1255.047]</text>\n",
       "<text text-anchor=\"start\" x=\"465\" y=\"-10.3\" font-family=\"Helvetica,sans-Serif\" font-size=\"14.00\">class = other</text>\n",
       "</g>\n",
       "<!-- 0_gv1&#45;&gt;1_gv1 -->\n",
       "<g id=\"edge3\" class=\"edge\">\n",
       "<title>0_gv1&#45;&gt;1_gv1</title>\n",
       "<path fill=\"none\" stroke=\"black\" d=\"M536.44,-93.93C532.05,-85.28 527.36,-76.04 522.95,-67.35\"/>\n",
       "<polygon fill=\"black\" stroke=\"black\" points=\"525.95,-65.52 518.3,-58.19 519.71,-68.69 525.95,-65.52\"/>\n",
       "<text text-anchor=\"middle\" x=\"510.54\" y=\"-78.25\" font-family=\"Helvetica,sans-Serif\" font-size=\"14.00\">True</text>\n",
       "</g>\n",
       "<!-- 2_gv1 -->\n",
       "<g id=\"node6\" class=\"node\">\n",
       "<title>2_gv1</title>\n",
       "<path fill=\"#4aa5e7\" stroke=\"black\" d=\"M842.5,-58C842.5,-58 633.5,-58 633.5,-58 627.5,-58 621.5,-52 621.5,-46 621.5,-46 621.5,-12 621.5,-12 621.5,-6 627.5,0 633.5,0 633.5,0 842.5,0 842.5,0 848.5,0 854.5,-6 854.5,-12 854.5,-12 854.5,-46 854.5,-46 854.5,-52 848.5,-58 842.5,-58\"/>\n",
       "<text text-anchor=\"start\" x=\"693\" y=\"-40.3\" font-family=\"Helvetica,sans-Serif\" font-size=\"14.00\">samples = 130</text>\n",
       "<text text-anchor=\"start\" x=\"661\" y=\"-25.3\" font-family=\"Helvetica,sans-Serif\" font-size=\"14.00\">value = [42.167, 486.453]</text>\n",
       "<text text-anchor=\"start\" x=\"632.5\" y=\"-10.3\" font-family=\"Helvetica,sans-Serif\" font-size=\"14.00\">class = Philosophy and psychology</text>\n",
       "</g>\n",
       "<!-- 0_gv1&#45;&gt;2_gv1 -->\n",
       "<g id=\"edge4\" class=\"edge\">\n",
       "<title>0_gv1&#45;&gt;2_gv1</title>\n",
       "<path fill=\"none\" stroke=\"black\" d=\"M621.58,-93.93C639.95,-83.85 659.76,-72.97 677.74,-63.09\"/>\n",
       "<polygon fill=\"black\" stroke=\"black\" points=\"679.88,-65.91 686.96,-58.03 676.51,-59.78 679.88,-65.91\"/>\n",
       "<text text-anchor=\"middle\" x=\"679.98\" y=\"-78.33\" font-family=\"Helvetica,sans-Serif\" font-size=\"14.00\">False</text>\n",
       "</g>\n",
       "</g>\n",
       "</svg>\n"
      ],
      "text/plain": [
       "<graphviz.sources.Source at 0x7f1839c537f0>"
      ]
     },
     "metadata": {},
     "output_type": "display_data"
    },
    {
     "data": {
      "text/markdown": [
       "<span style=\"font-size:11pt\"><br><br></span>"
      ],
      "text/plain": [
       "<IPython.core.display.Markdown object>"
      ]
     },
     "metadata": {},
     "output_type": "display_data"
    },
    {
     "data": {
      "image/svg+xml": [
       "<?xml version=\"1.0\" encoding=\"UTF-8\" standalone=\"no\"?>\n",
       "<!DOCTYPE svg PUBLIC \"-//W3C//DTD SVG 1.1//EN\"\n",
       " \"http://www.w3.org/Graphics/SVG/1.1/DTD/svg11.dtd\">\n",
       "<!-- Generated by graphviz version 2.43.0 (0)\n",
       " -->\n",
       "<!-- Title: root Pages: 1 -->\n",
       "<svg width=\"940pt\" height=\"177pt\"\n",
       " viewBox=\"0.00 0.00 940.00 177.00\" xmlns=\"http://www.w3.org/2000/svg\" xmlns:xlink=\"http://www.w3.org/1999/xlink\">\n",
       "<g id=\"graph0\" class=\"graph\" transform=\"scale(1 1) rotate(0) translate(4 173)\">\n",
       "<title>root</title>\n",
       "<polygon fill=\"white\" stroke=\"transparent\" points=\"-4,4 -4,-173 936,-173 936,4 -4,4\"/>\n",
       "<!-- 0 -->\n",
       "<g id=\"node1\" class=\"node\">\n",
       "<title>0</title>\n",
       "<path fill=\"#ffffff\" stroke=\"black\" d=\"M300.5,-169C300.5,-169 157.5,-169 157.5,-169 151.5,-169 145.5,-163 145.5,-157 145.5,-157 145.5,-106 145.5,-106 145.5,-100 151.5,-94 157.5,-94 157.5,-94 300.5,-94 300.5,-94 306.5,-94 312.5,-100 312.5,-106 312.5,-106 312.5,-157 312.5,-157 312.5,-163 306.5,-169 300.5,-169\"/>\n",
       "<text text-anchor=\"start\" x=\"189.5\" y=\"-150.3\" font-family=\"Helvetica,sans-Serif\" font-size=\"14.00\">https ≤ 0.578</text>\n",
       "<text text-anchor=\"start\" x=\"180.5\" y=\"-135.3\" font-family=\"Helvetica,sans-Serif\" font-size=\"14.00\">samples = 3483</text>\n",
       "<text text-anchor=\"start\" x=\"156\" y=\"-120.3\" font-family=\"Helvetica,sans-Serif\" font-size=\"14.00\">value = [1741.5, 1741.5]</text>\n",
       "<text text-anchor=\"start\" x=\"190\" y=\"-105.3\" font-family=\"Helvetica,sans-Serif\" font-size=\"14.00\">class = other</text>\n",
       "</g>\n",
       "<!-- 1 -->\n",
       "<g id=\"node2\" class=\"node\">\n",
       "<title>1</title>\n",
       "<path fill=\"#f4c9a9\" stroke=\"black\" d=\"M178,-58C178,-58 12,-58 12,-58 6,-58 0,-52 0,-46 0,-46 0,-12 0,-12 0,-6 6,0 12,0 12,0 178,0 178,0 184,0 190,-6 190,-12 190,-12 190,-46 190,-46 190,-52 184,-58 178,-58\"/>\n",
       "<text text-anchor=\"start\" x=\"46.5\" y=\"-40.3\" font-family=\"Helvetica,sans-Serif\" font-size=\"14.00\">samples = 1998</text>\n",
       "<text text-anchor=\"start\" x=\"10.5\" y=\"-25.3\" font-family=\"Helvetica,sans-Serif\" font-size=\"14.00\">value = [1027.175, 583.127]</text>\n",
       "<text text-anchor=\"start\" x=\"56\" y=\"-10.3\" font-family=\"Helvetica,sans-Serif\" font-size=\"14.00\">class = other</text>\n",
       "</g>\n",
       "<!-- 0&#45;&gt;1 -->\n",
       "<g id=\"edge1\" class=\"edge\">\n",
       "<title>0&#45;&gt;1</title>\n",
       "<path fill=\"none\" stroke=\"black\" d=\"M180.24,-93.93C167.35,-84.26 153.49,-73.86 140.76,-64.32\"/>\n",
       "<polygon fill=\"black\" stroke=\"black\" points=\"142.68,-61.39 132.58,-58.19 138.48,-66.99 142.68,-61.39\"/>\n",
       "<text text-anchor=\"middle\" x=\"136.12\" y=\"-79.24\" font-family=\"Helvetica,sans-Serif\" font-size=\"14.00\">True</text>\n",
       "</g>\n",
       "<!-- 2 -->\n",
       "<g id=\"node3\" class=\"node\">\n",
       "<title>2</title>\n",
       "<path fill=\"#b3d9f5\" stroke=\"black\" d=\"M504,-58C504,-58 220,-58 220,-58 214,-58 208,-52 208,-46 208,-46 208,-12 208,-12 208,-6 214,0 220,0 220,0 504,0 504,0 510,0 516,-6 516,-12 516,-12 516,-46 516,-46 516,-52 510,-58 504,-58\"/>\n",
       "<text text-anchor=\"start\" x=\"313.5\" y=\"-40.3\" font-family=\"Helvetica,sans-Serif\" font-size=\"14.00\">samples = 1485</text>\n",
       "<text text-anchor=\"start\" x=\"277.5\" y=\"-25.3\" font-family=\"Helvetica,sans-Serif\" font-size=\"14.00\">value = [714.325, 1158.373]</text>\n",
       "<text text-anchor=\"start\" x=\"220\" y=\"-10.3\" font-family=\"Helvetica,sans-Serif\" font-size=\"14.00\">class = Computer science, information, general</text>\n",
       "</g>\n",
       "<!-- 0&#45;&gt;2 -->\n",
       "<g id=\"edge2\" class=\"edge\">\n",
       "<title>0&#45;&gt;2</title>\n",
       "<path fill=\"none\" stroke=\"black\" d=\"M277.39,-93.93C290.19,-84.26 303.95,-73.86 316.58,-64.32\"/>\n",
       "<polygon fill=\"black\" stroke=\"black\" points=\"318.83,-67.01 324.7,-58.19 314.61,-61.42 318.83,-67.01\"/>\n",
       "<text text-anchor=\"middle\" x=\"321.25\" y=\"-79.25\" font-family=\"Helvetica,sans-Serif\" font-size=\"14.00\">False</text>\n",
       "</g>\n",
       "<!-- 0_gv1 -->\n",
       "<g id=\"node4\" class=\"node\">\n",
       "<title>0_gv1</title>\n",
       "<path fill=\"#ffffff\" stroke=\"black\" d=\"M804.5,-169C804.5,-169 661.5,-169 661.5,-169 655.5,-169 649.5,-163 649.5,-157 649.5,-157 649.5,-106 649.5,-106 649.5,-100 655.5,-94 661.5,-94 661.5,-94 804.5,-94 804.5,-94 810.5,-94 816.5,-100 816.5,-106 816.5,-106 816.5,-157 816.5,-157 816.5,-163 810.5,-169 804.5,-169\"/>\n",
       "<text text-anchor=\"start\" x=\"681\" y=\"-150.3\" font-family=\"Helvetica,sans-Serif\" font-size=\"14.00\">theologie ≤ 0.907</text>\n",
       "<text text-anchor=\"start\" x=\"684.5\" y=\"-135.3\" font-family=\"Helvetica,sans-Serif\" font-size=\"14.00\">samples = 3483</text>\n",
       "<text text-anchor=\"start\" x=\"660\" y=\"-120.3\" font-family=\"Helvetica,sans-Serif\" font-size=\"14.00\">value = [1741.5, 1741.5]</text>\n",
       "<text text-anchor=\"start\" x=\"685\" y=\"-105.3\" font-family=\"Helvetica,sans-Serif\" font-size=\"14.00\">class = Religion</text>\n",
       "</g>\n",
       "<!-- 1_gv1 -->\n",
       "<g id=\"node5\" class=\"node\">\n",
       "<title>1_gv1</title>\n",
       "<path fill=\"#e99559\" stroke=\"black\" d=\"M712,-58C712,-58 546,-58 546,-58 540,-58 534,-52 534,-46 534,-46 534,-12 534,-12 534,-6 540,0 546,0 546,0 712,0 712,0 718,0 724,-6 724,-12 724,-12 724,-46 724,-46 724,-52 718,-58 712,-58\"/>\n",
       "<text text-anchor=\"start\" x=\"580.5\" y=\"-40.3\" font-family=\"Helvetica,sans-Serif\" font-size=\"14.00\">samples = 3149</text>\n",
       "<text text-anchor=\"start\" x=\"544.5\" y=\"-25.3\" font-family=\"Helvetica,sans-Serif\" font-size=\"14.00\">value = [1634.814, 261.794]</text>\n",
       "<text text-anchor=\"start\" x=\"590\" y=\"-10.3\" font-family=\"Helvetica,sans-Serif\" font-size=\"14.00\">class = other</text>\n",
       "</g>\n",
       "<!-- 0_gv1&#45;&gt;1_gv1 -->\n",
       "<g id=\"edge3\" class=\"edge\">\n",
       "<title>0_gv1&#45;&gt;1_gv1</title>\n",
       "<path fill=\"none\" stroke=\"black\" d=\"M695.16,-93.93C685.44,-84.54 675.01,-74.46 665.36,-65.14\"/>\n",
       "<polygon fill=\"black\" stroke=\"black\" points=\"667.79,-62.62 658.17,-58.19 662.93,-67.65 667.79,-62.62\"/>\n",
       "<text text-anchor=\"middle\" x=\"658.6\" y=\"-79.48\" font-family=\"Helvetica,sans-Serif\" font-size=\"14.00\">True</text>\n",
       "</g>\n",
       "<!-- 2_gv1 -->\n",
       "<g id=\"node6\" class=\"node\">\n",
       "<title>2_gv1</title>\n",
       "<path fill=\"#47a4e7\" stroke=\"black\" d=\"M920,-58C920,-58 754,-58 754,-58 748,-58 742,-52 742,-46 742,-46 742,-12 742,-12 742,-6 748,0 754,0 754,0 920,0 920,0 926,0 932,-6 932,-12 932,-12 932,-46 932,-46 932,-52 926,-58 920,-58\"/>\n",
       "<text text-anchor=\"start\" x=\"792\" y=\"-40.3\" font-family=\"Helvetica,sans-Serif\" font-size=\"14.00\">samples = 334</text>\n",
       "<text text-anchor=\"start\" x=\"752.5\" y=\"-25.3\" font-family=\"Helvetica,sans-Serif\" font-size=\"14.00\">value = [106.686, 1479.706]</text>\n",
       "<text text-anchor=\"start\" x=\"789\" y=\"-10.3\" font-family=\"Helvetica,sans-Serif\" font-size=\"14.00\">class = Religion</text>\n",
       "</g>\n",
       "<!-- 0_gv1&#45;&gt;2_gv1 -->\n",
       "<g id=\"edge4\" class=\"edge\">\n",
       "<title>0_gv1&#45;&gt;2_gv1</title>\n",
       "<path fill=\"none\" stroke=\"black\" d=\"M770.84,-93.93C780.56,-84.54 790.99,-74.46 800.64,-65.14\"/>\n",
       "<polygon fill=\"black\" stroke=\"black\" points=\"803.07,-67.65 807.83,-58.19 798.21,-62.62 803.07,-67.65\"/>\n",
       "<text text-anchor=\"middle\" x=\"807.4\" y=\"-79.48\" font-family=\"Helvetica,sans-Serif\" font-size=\"14.00\">False</text>\n",
       "</g>\n",
       "</g>\n",
       "</svg>\n"
      ],
      "text/plain": [
       "<graphviz.sources.Source at 0x7f1839c532b0>"
      ]
     },
     "metadata": {},
     "output_type": "display_data"
    },
    {
     "data": {
      "text/markdown": [
       "<span style=\"font-size:11pt\"><br><br></span>"
      ],
      "text/plain": [
       "<IPython.core.display.Markdown object>"
      ]
     },
     "metadata": {},
     "output_type": "display_data"
    },
    {
     "data": {
      "text/markdown": [
       "<span style=\"font-size:11pt\">Per-Class-Scores: Technology: 0.84, History and geography: 0.84, Pure Science: 0.85, Language: 0.84, Social sciences: 0.67, Literature: 0.92, Arts and recreation: 0.88, Philosophy and psychology: 0.95, Computer science, information, general: 0.61, Religion: 0.94</span>"
      ],
      "text/plain": [
       "<IPython.core.display.Markdown object>"
      ]
     },
     "metadata": {},
     "output_type": "display_data"
    },
    {
     "data": {
      "text/markdown": [
       "<span style=\"font-size:11pt\">Unweighted Mean Accuracy: 83.40%</span>"
      ],
      "text/plain": [
       "<IPython.core.display.Markdown object>"
      ]
     },
     "metadata": {},
     "output_type": "display_data"
    },
    {
     "data": {
      "text/markdown": [
       "<span style=\"font-size:11pt\">Weighted Mean Accuracy: 78.04%</span>"
      ],
      "text/plain": [
       "<IPython.core.display.Markdown object>"
      ]
     },
     "metadata": {},
     "output_type": "display_data"
    }
   ],
   "source": [
    "res = classify_shallowtree(clusters, embedding, descriptions, ctx.obj[\"dataset_class\"], one_vs_rest=True, dt_depth=1, test_percentage_crossval=0.33, \n",
    "                           classes=\"ddc_l1\", cluster_reprs=cluster_reprs, verbose=False, return_features=False, balance_classes=True, do_plot=True)"
   ]
  },
  {
   "cell_type": "markdown",
   "id": "21bd915e-0814-45a7-b292-3e8548e5e8e3",
   "metadata": {},
   "source": [
    "## Another one, cause the other also looked good"
   ]
  },
  {
   "cell_type": "code",
   "execution_count": 22,
   "id": "4fd79c6a-c1f1-443f-8c37-791354e4cccb",
   "metadata": {},
   "outputs": [
    {
     "data": {
      "text/markdown": [
       "<span style=\"font-size:11pt\">Running with the following settings [<span style=\"color: #ff00ff\">e2a70a9bf2</span>]: CLASSIFIER: <span style=\"color: #0000ff\">SVM</span>, CLASSIFIER_SUCCMETRIC: <span style=\"color: #ff0000\">kappa_digitized_onlypos_2</span>, CLUSTER_DIRECTION_ALGO: <span style=\"color: #0000ff\">reclassify</span>, DATASET: <span style=\"color: #ff0000\">siddata2022</span>, DCM_QUANT_MEASURE: <span style=\"color: #0000ff\">count</span>, DEBUG: <span style=\"color: #0000ff\">False</span>, EMBED_ALGO: <span style=\"color: #0000ff\">mds</span>, EMBED_DIMENSIONS: <span style=\"color: #ff0000\">200</span>, EXTRACTION_METHOD: <span style=\"color: #ff0000\">tfidf</span>, KAPPA_WEIGHTS: <span style=\"color: #0000ff\">quadratic</span>, LANGUAGE: <span style=\"color: #0000ff\">de</span>, MIN_WORDS_PER_DESC: <span style=\"color: #ff0000\">80</span>, PP_COMPONENTS: <span style=\"color: #ff0000\">mfauhtcsldp</span>, PRIM_LAMBDA: <span style=\"color: #0000ff\">0.5</span>, QUANTIFICATION_MEASURE: <span style=\"color: #ff0000\">tfidf</span>, RANDOM_SEED: <span style=\"color: #ff0000\">None</span>, SEC_LAMBDA: <span style=\"color: #ff0000\">0.2</span>, TRANSLATE_POLICY: <span style=\"color: #0000ff\">onlyorig</span></span>"
      ],
      "text/plain": [
       "<IPython.core.display.Markdown object>"
      ]
     },
     "metadata": {},
     "output_type": "display_data"
    },
    {
     "data": {
      "text/markdown": [
       "<span style=\"font-size:11pt\">Using classes from ddc_l1 - 5199/11942 entities have a class</span>"
      ],
      "text/plain": [
       "<IPython.core.display.Markdown object>"
      ]
     },
     "metadata": {},
     "output_type": "display_data"
    },
    {
     "data": {
      "text/markdown": [
       "<span style=\"font-size:11pt\">Labels (10 classes): <span style=\"color: #0000ff\">Social sciences</span>: 1986, <span style=\"color: #0000ff\">History and geography</span>: 225, <span style=\"color: #0000ff\">Pure Science</span>: 265, <span style=\"color: #0000ff\">Literature</span>: 362, <span style=\"color: #0000ff\">Arts and recreation</span>: 424, <span style=\"color: #0000ff\">Technology</span>: 672, <span style=\"color: #0000ff\">Religion</span>: 235, <span style=\"color: #0000ff\">Computer science, information, general</span>: 319, <span style=\"color: #0000ff\">Language</span>: 452, <span style=\"color: #0000ff\">Philosophy and psychology</span>: 259</span>"
      ],
      "text/plain": [
       "<IPython.core.display.Markdown object>"
      ]
     },
     "metadata": {},
     "output_type": "display_data"
    },
    {
     "data": {
      "text/markdown": [
       "<span style=\"font-size:11pt\">Eval-Settings: type: <span style=\"color: #0000ff\">one-vs-rest</span>, DT-Depth: <span style=\"color: #0000ff\">1</span>, train-test-split:<span style=\"color: #0000ff\"> 33.0% in test-set </span></span>"
      ],
      "text/plain": [
       "<IPython.core.display.Markdown object>"
      ]
     },
     "metadata": {},
     "output_type": "display_data"
    },
    {
     "name": "stderr",
     "output_type": "stream",
     "text": [
      "Warning: node 0 in graph[1] Tree already defined\n",
      "Some nodes will be renamed.\n",
      "Warning: node 0 in graph[1] Tree already defined\n",
      "Some nodes will be renamed.\n",
      "Warning: node 0 in graph[1] Tree already defined\n",
      "Some nodes will be renamed.\n",
      "Warning: node 0 in graph[1] Tree already defined\n",
      "Some nodes will be renamed.\n",
      "Warning: node 0 in graph[1] Tree already defined\n",
      "Some nodes will be renamed.\n"
     ]
    },
    {
     "data": {
      "image/svg+xml": [
       "<?xml version=\"1.0\" encoding=\"UTF-8\" standalone=\"no\"?>\n",
       "<!DOCTYPE svg PUBLIC \"-//W3C//DTD SVG 1.1//EN\"\n",
       " \"http://www.w3.org/Graphics/SVG/1.1/DTD/svg11.dtd\">\n",
       "<!-- Generated by graphviz version 2.43.0 (0)\n",
       " -->\n",
       "<!-- Title: root Pages: 1 -->\n",
       "<svg width=\"824pt\" height=\"177pt\"\n",
       " viewBox=\"0.00 0.00 823.50 177.00\" xmlns=\"http://www.w3.org/2000/svg\" xmlns:xlink=\"http://www.w3.org/1999/xlink\">\n",
       "<g id=\"graph0\" class=\"graph\" transform=\"scale(1 1) rotate(0) translate(4 173)\">\n",
       "<title>root</title>\n",
       "<polygon fill=\"white\" stroke=\"transparent\" points=\"-4,4 -4,-173 819.5,-173 819.5,4 -4,4\"/>\n",
       "<!-- 0 -->\n",
       "<g id=\"node1\" class=\"node\">\n",
       "<title>0</title>\n",
       "<path fill=\"#ffffff\" stroke=\"black\" d=\"M318.5,-169C318.5,-169 175.5,-169 175.5,-169 169.5,-169 163.5,-163 163.5,-157 163.5,-157 163.5,-106 163.5,-106 163.5,-100 169.5,-94 175.5,-94 175.5,-94 318.5,-94 318.5,-94 324.5,-94 330.5,-100 330.5,-106 330.5,-106 330.5,-157 330.5,-157 330.5,-163 324.5,-169 318.5,-169\"/>\n",
       "<text text-anchor=\"start\" x=\"202.5\" y=\"-150.3\" font-family=\"Helvetica,sans-Serif\" font-size=\"14.00\">design ≤ 0.726</text>\n",
       "<text text-anchor=\"start\" x=\"198.5\" y=\"-135.3\" font-family=\"Helvetica,sans-Serif\" font-size=\"14.00\">samples = 3483</text>\n",
       "<text text-anchor=\"start\" x=\"174\" y=\"-120.3\" font-family=\"Helvetica,sans-Serif\" font-size=\"14.00\">value = [1741.5, 1741.5]</text>\n",
       "<text text-anchor=\"start\" x=\"208\" y=\"-105.3\" font-family=\"Helvetica,sans-Serif\" font-size=\"14.00\">class = other</text>\n",
       "</g>\n",
       "<!-- 1 -->\n",
       "<g id=\"node2\" class=\"node\">\n",
       "<title>1</title>\n",
       "<path fill=\"#f3c7a7\" stroke=\"black\" d=\"M178,-58C178,-58 12,-58 12,-58 6,-58 0,-52 0,-46 0,-46 0,-12 0,-12 0,-6 6,0 12,0 12,0 178,0 178,0 184,0 190,-6 190,-12 190,-12 190,-46 190,-46 190,-52 184,-58 178,-58\"/>\n",
       "<text text-anchor=\"start\" x=\"46.5\" y=\"-40.3\" font-family=\"Helvetica,sans-Serif\" font-size=\"14.00\">samples = 2536</text>\n",
       "<text text-anchor=\"start\" x=\"10.5\" y=\"-25.3\" font-family=\"Helvetica,sans-Serif\" font-size=\"14.00\">value = [1345.809, 750.185]</text>\n",
       "<text text-anchor=\"start\" x=\"56\" y=\"-10.3\" font-family=\"Helvetica,sans-Serif\" font-size=\"14.00\">class = other</text>\n",
       "</g>\n",
       "<!-- 0&#45;&gt;1 -->\n",
       "<g id=\"edge1\" class=\"edge\">\n",
       "<title>0&#45;&gt;1</title>\n",
       "<path fill=\"none\" stroke=\"black\" d=\"M191.69,-93.93C176.79,-84.08 160.74,-73.47 146.08,-63.78\"/>\n",
       "<polygon fill=\"black\" stroke=\"black\" points=\"147.9,-60.78 137.63,-58.19 144.04,-66.62 147.9,-60.78\"/>\n",
       "<text text-anchor=\"middle\" x=\"142.63\" y=\"-78.98\" font-family=\"Helvetica,sans-Serif\" font-size=\"14.00\">True</text>\n",
       "</g>\n",
       "<!-- 2 -->\n",
       "<g id=\"node3\" class=\"node\">\n",
       "<title>2</title>\n",
       "<path fill=\"#88c4ef\" stroke=\"black\" d=\"M378,-58C378,-58 220,-58 220,-58 214,-58 208,-52 208,-46 208,-46 208,-12 208,-12 208,-6 214,0 220,0 220,0 378,0 378,0 384,0 390,-6 390,-12 390,-12 390,-46 390,-46 390,-52 384,-58 378,-58\"/>\n",
       "<text text-anchor=\"start\" x=\"254\" y=\"-40.3\" font-family=\"Helvetica,sans-Serif\" font-size=\"14.00\">samples = 947</text>\n",
       "<text text-anchor=\"start\" x=\"218.5\" y=\"-25.3\" font-family=\"Helvetica,sans-Serif\" font-size=\"14.00\">value = [395.691, 991.315]</text>\n",
       "<text text-anchor=\"start\" x=\"241.5\" y=\"-10.3\" font-family=\"Helvetica,sans-Serif\" font-size=\"14.00\">class = Technology</text>\n",
       "</g>\n",
       "<!-- 0&#45;&gt;2 -->\n",
       "<g id=\"edge2\" class=\"edge\">\n",
       "<title>0&#45;&gt;2</title>\n",
       "<path fill=\"none\" stroke=\"black\" d=\"M265.92,-93.93C270.4,-85.28 275.18,-76.04 279.68,-67.35\"/>\n",
       "<polygon fill=\"black\" stroke=\"black\" points=\"282.93,-68.68 284.42,-58.19 276.71,-65.46 282.93,-68.68\"/>\n",
       "<text text-anchor=\"middle\" x=\"291.99\" y=\"-78.31\" font-family=\"Helvetica,sans-Serif\" font-size=\"14.00\">False</text>\n",
       "</g>\n",
       "<!-- 0_gv1 -->\n",
       "<g id=\"node4\" class=\"node\">\n",
       "<title>0_gv1</title>\n",
       "<path fill=\"#ffffff\" stroke=\"black\" d=\"M642.5,-169C642.5,-169 461.5,-169 461.5,-169 455.5,-169 449.5,-163 449.5,-157 449.5,-157 449.5,-106 449.5,-106 449.5,-100 455.5,-94 461.5,-94 461.5,-94 642.5,-94 642.5,-94 648.5,-94 654.5,-100 654.5,-106 654.5,-106 654.5,-157 654.5,-157 654.5,-163 648.5,-169 642.5,-169\"/>\n",
       "<text text-anchor=\"start\" x=\"482.5\" y=\"-150.3\" font-family=\"Helvetica,sans-Serif\" font-size=\"14.00\">kulturhistorisch ≤ 0.734</text>\n",
       "<text text-anchor=\"start\" x=\"503.5\" y=\"-135.3\" font-family=\"Helvetica,sans-Serif\" font-size=\"14.00\">samples = 3483</text>\n",
       "<text text-anchor=\"start\" x=\"479\" y=\"-120.3\" font-family=\"Helvetica,sans-Serif\" font-size=\"14.00\">value = [1741.5, 1741.5]</text>\n",
       "<text text-anchor=\"start\" x=\"460.5\" y=\"-105.3\" font-family=\"Helvetica,sans-Serif\" font-size=\"14.00\">class = History and geography</text>\n",
       "</g>\n",
       "<!-- 1_gv1 -->\n",
       "<g id=\"node5\" class=\"node\">\n",
       "<title>1_gv1</title>\n",
       "<path fill=\"#edaa79\" stroke=\"black\" d=\"M580,-58C580,-58 422,-58 422,-58 416,-58 410,-52 410,-46 410,-46 410,-12 410,-12 410,-6 416,0 422,0 422,0 580,0 580,0 586,0 592,-6 592,-12 592,-12 592,-46 592,-46 592,-52 586,-58 580,-58\"/>\n",
       "<text text-anchor=\"start\" x=\"452.5\" y=\"-40.3\" font-family=\"Helvetica,sans-Serif\" font-size=\"14.00\">samples = 2569</text>\n",
       "<text text-anchor=\"start\" x=\"420.5\" y=\"-25.3\" font-family=\"Helvetica,sans-Serif\" font-size=\"14.00\">value = [1322.308, 426.49]</text>\n",
       "<text text-anchor=\"start\" x=\"462\" y=\"-10.3\" font-family=\"Helvetica,sans-Serif\" font-size=\"14.00\">class = other</text>\n",
       "</g>\n",
       "<!-- 0_gv1&#45;&gt;1_gv1 -->\n",
       "<g id=\"edge3\" class=\"edge\">\n",
       "<title>0_gv1&#45;&gt;1_gv1</title>\n",
       "<path fill=\"none\" stroke=\"black\" d=\"M533.44,-93.93C529.05,-85.28 524.36,-76.04 519.95,-67.35\"/>\n",
       "<polygon fill=\"black\" stroke=\"black\" points=\"522.95,-65.52 515.3,-58.19 516.71,-68.69 522.95,-65.52\"/>\n",
       "<text text-anchor=\"middle\" x=\"507.54\" y=\"-78.25\" font-family=\"Helvetica,sans-Serif\" font-size=\"14.00\">True</text>\n",
       "</g>\n",
       "<!-- 2_gv1 -->\n",
       "<g id=\"node6\" class=\"node\">\n",
       "<title>2_gv1</title>\n",
       "<path fill=\"#78bced\" stroke=\"black\" d=\"M803.5,-58C803.5,-58 622.5,-58 622.5,-58 616.5,-58 610.5,-52 610.5,-46 610.5,-46 610.5,-12 610.5,-12 610.5,-6 616.5,0 622.5,0 622.5,0 803.5,0 803.5,0 809.5,0 815.5,-6 815.5,-12 815.5,-12 815.5,-46 815.5,-46 815.5,-52 809.5,-58 803.5,-58\"/>\n",
       "<text text-anchor=\"start\" x=\"668\" y=\"-40.3\" font-family=\"Helvetica,sans-Serif\" font-size=\"14.00\">samples = 914</text>\n",
       "<text text-anchor=\"start\" x=\"632.5\" y=\"-25.3\" font-family=\"Helvetica,sans-Serif\" font-size=\"14.00\">value = [419.192, 1315.01]</text>\n",
       "<text text-anchor=\"start\" x=\"621.5\" y=\"-10.3\" font-family=\"Helvetica,sans-Serif\" font-size=\"14.00\">class = History and geography</text>\n",
       "</g>\n",
       "<!-- 0_gv1&#45;&gt;2_gv1 -->\n",
       "<g id=\"edge4\" class=\"edge\">\n",
       "<title>0_gv1&#45;&gt;2_gv1</title>\n",
       "<path fill=\"none\" stroke=\"black\" d=\"M610.58,-93.93C626.59,-83.94 643.85,-73.17 659.55,-63.36\"/>\n",
       "<polygon fill=\"black\" stroke=\"black\" points=\"661.47,-66.29 668.1,-58.03 657.76,-60.36 661.47,-66.29\"/>\n",
       "<text text-anchor=\"middle\" x=\"662.46\" y=\"-78.69\" font-family=\"Helvetica,sans-Serif\" font-size=\"14.00\">False</text>\n",
       "</g>\n",
       "</g>\n",
       "</svg>\n"
      ],
      "text/plain": [
       "<graphviz.sources.Source at 0x7f189d3a48e0>"
      ]
     },
     "metadata": {},
     "output_type": "display_data"
    },
    {
     "data": {
      "text/markdown": [
       "<span style=\"font-size:11pt\"><br><br></span>"
      ],
      "text/plain": [
       "<IPython.core.display.Markdown object>"
      ]
     },
     "metadata": {},
     "output_type": "display_data"
    },
    {
     "data": {
      "image/svg+xml": [
       "<?xml version=\"1.0\" encoding=\"UTF-8\" standalone=\"no\"?>\n",
       "<!DOCTYPE svg PUBLIC \"-//W3C//DTD SVG 1.1//EN\"\n",
       " \"http://www.w3.org/Graphics/SVG/1.1/DTD/svg11.dtd\">\n",
       "<!-- Generated by graphviz version 2.43.0 (0)\n",
       " -->\n",
       "<!-- Title: root Pages: 1 -->\n",
       "<svg width=\"790pt\" height=\"177pt\"\n",
       " viewBox=\"0.00 0.00 790.00 177.00\" xmlns=\"http://www.w3.org/2000/svg\" xmlns:xlink=\"http://www.w3.org/1999/xlink\">\n",
       "<g id=\"graph0\" class=\"graph\" transform=\"scale(1 1) rotate(0) translate(4 173)\">\n",
       "<title>root</title>\n",
       "<polygon fill=\"white\" stroke=\"transparent\" points=\"-4,4 -4,-173 786,-173 786,4 -4,4\"/>\n",
       "<!-- 0 -->\n",
       "<g id=\"node1\" class=\"node\">\n",
       "<title>0</title>\n",
       "<path fill=\"#ffffff\" stroke=\"black\" d=\"M254.5,-169C254.5,-169 111.5,-169 111.5,-169 105.5,-169 99.5,-163 99.5,-157 99.5,-157 99.5,-106 99.5,-106 99.5,-100 105.5,-94 111.5,-94 111.5,-94 254.5,-94 254.5,-94 260.5,-94 266.5,-100 266.5,-106 266.5,-106 266.5,-157 266.5,-157 266.5,-163 260.5,-169 254.5,-169\"/>\n",
       "<text text-anchor=\"start\" x=\"139\" y=\"-150.3\" font-family=\"Helvetica,sans-Serif\" font-size=\"14.00\">biologie ≤ 0.72</text>\n",
       "<text text-anchor=\"start\" x=\"134.5\" y=\"-135.3\" font-family=\"Helvetica,sans-Serif\" font-size=\"14.00\">samples = 3483</text>\n",
       "<text text-anchor=\"start\" x=\"110\" y=\"-120.3\" font-family=\"Helvetica,sans-Serif\" font-size=\"14.00\">value = [1741.5, 1741.5]</text>\n",
       "<text text-anchor=\"start\" x=\"119.5\" y=\"-105.3\" font-family=\"Helvetica,sans-Serif\" font-size=\"14.00\">class = Pure Science</text>\n",
       "</g>\n",
       "<!-- 1 -->\n",
       "<g id=\"node2\" class=\"node\">\n",
       "<title>1</title>\n",
       "<path fill=\"#efb286\" stroke=\"black\" d=\"M162,-58C162,-58 12,-58 12,-58 6,-58 0,-52 0,-46 0,-46 0,-12 0,-12 0,-6 6,0 12,0 12,0 162,0 162,0 168,0 174,-6 174,-12 174,-12 174,-46 174,-46 174,-52 168,-58 162,-58\"/>\n",
       "<text text-anchor=\"start\" x=\"38.5\" y=\"-40.3\" font-family=\"Helvetica,sans-Serif\" font-size=\"14.00\">samples = 2516</text>\n",
       "<text text-anchor=\"start\" x=\"10\" y=\"-25.3\" font-family=\"Helvetica,sans-Serif\" font-size=\"14.00\">value = [1299.139, 503.1]</text>\n",
       "<text text-anchor=\"start\" x=\"48\" y=\"-10.3\" font-family=\"Helvetica,sans-Serif\" font-size=\"14.00\">class = other</text>\n",
       "</g>\n",
       "<!-- 0&#45;&gt;1 -->\n",
       "<g id=\"edge1\" class=\"edge\">\n",
       "<title>0&#45;&gt;1</title>\n",
       "<path fill=\"none\" stroke=\"black\" d=\"M148.07,-93.93C139.27,-84.73 129.85,-74.85 121.09,-65.69\"/>\n",
       "<polygon fill=\"black\" stroke=\"black\" points=\"123.36,-63 113.93,-58.19 118.3,-67.84 123.36,-63\"/>\n",
       "<text text-anchor=\"middle\" x=\"113.35\" y=\"-79.48\" font-family=\"Helvetica,sans-Serif\" font-size=\"14.00\">True</text>\n",
       "</g>\n",
       "<!-- 2 -->\n",
       "<g id=\"node3\" class=\"node\">\n",
       "<title>2</title>\n",
       "<path fill=\"#80c0ee\" stroke=\"black\" d=\"M354,-58C354,-58 204,-58 204,-58 198,-58 192,-52 192,-46 192,-46 192,-12 192,-12 192,-6 198,0 204,0 204,0 354,0 354,0 360,0 366,-6 366,-12 366,-12 366,-46 366,-46 366,-52 360,-58 354,-58\"/>\n",
       "<text text-anchor=\"start\" x=\"234\" y=\"-40.3\" font-family=\"Helvetica,sans-Serif\" font-size=\"14.00\">samples = 967</text>\n",
       "<text text-anchor=\"start\" x=\"202\" y=\"-25.3\" font-family=\"Helvetica,sans-Serif\" font-size=\"14.00\">value = [442.361, 1238.4]</text>\n",
       "<text text-anchor=\"start\" x=\"215.5\" y=\"-10.3\" font-family=\"Helvetica,sans-Serif\" font-size=\"14.00\">class = Pure Science</text>\n",
       "</g>\n",
       "<!-- 0&#45;&gt;2 -->\n",
       "<g id=\"edge2\" class=\"edge\">\n",
       "<title>0&#45;&gt;2</title>\n",
       "<path fill=\"none\" stroke=\"black\" d=\"M217.93,-93.93C226.73,-84.73 236.15,-74.85 244.91,-65.69\"/>\n",
       "<polygon fill=\"black\" stroke=\"black\" points=\"247.7,-67.84 252.07,-58.19 242.64,-63 247.7,-67.84\"/>\n",
       "<text text-anchor=\"middle\" x=\"252.65\" y=\"-79.48\" font-family=\"Helvetica,sans-Serif\" font-size=\"14.00\">False</text>\n",
       "</g>\n",
       "<!-- 0_gv1 -->\n",
       "<g id=\"node4\" class=\"node\">\n",
       "<title>0_gv1</title>\n",
       "<path fill=\"#ffffff\" stroke=\"black\" d=\"M654.5,-169C654.5,-169 511.5,-169 511.5,-169 505.5,-169 499.5,-163 499.5,-157 499.5,-157 499.5,-106 499.5,-106 499.5,-100 505.5,-94 511.5,-94 511.5,-94 654.5,-94 654.5,-94 660.5,-94 666.5,-100 666.5,-106 666.5,-106 666.5,-157 666.5,-157 666.5,-163 660.5,-169 654.5,-169\"/>\n",
       "<text text-anchor=\"start\" x=\"534.5\" y=\"-150.3\" font-family=\"Helvetica,sans-Serif\" font-size=\"14.00\">sprache ≤ 0.805</text>\n",
       "<text text-anchor=\"start\" x=\"534.5\" y=\"-135.3\" font-family=\"Helvetica,sans-Serif\" font-size=\"14.00\">samples = 3483</text>\n",
       "<text text-anchor=\"start\" x=\"510\" y=\"-120.3\" font-family=\"Helvetica,sans-Serif\" font-size=\"14.00\">value = [1741.5, 1741.5]</text>\n",
       "<text text-anchor=\"start\" x=\"544\" y=\"-105.3\" font-family=\"Helvetica,sans-Serif\" font-size=\"14.00\">class = other</text>\n",
       "</g>\n",
       "<!-- 1_gv1 -->\n",
       "<g id=\"node5\" class=\"node\">\n",
       "<title>1_gv1</title>\n",
       "<path fill=\"#eca36f\" stroke=\"black\" d=\"M562,-58C562,-58 396,-58 396,-58 390,-58 384,-52 384,-46 384,-46 384,-12 384,-12 384,-6 390,0 396,0 396,0 562,0 562,0 568,0 574,-6 574,-12 574,-12 574,-46 574,-46 574,-52 568,-58 562,-58\"/>\n",
       "<text text-anchor=\"start\" x=\"430.5\" y=\"-40.3\" font-family=\"Helvetica,sans-Serif\" font-size=\"14.00\">samples = 2815</text>\n",
       "<text text-anchor=\"start\" x=\"394.5\" y=\"-25.3\" font-family=\"Helvetica,sans-Serif\" font-size=\"14.00\">value = [1502.256, 409.425]</text>\n",
       "<text text-anchor=\"start\" x=\"440\" y=\"-10.3\" font-family=\"Helvetica,sans-Serif\" font-size=\"14.00\">class = other</text>\n",
       "</g>\n",
       "<!-- 0_gv1&#45;&gt;1_gv1 -->\n",
       "<g id=\"edge3\" class=\"edge\">\n",
       "<title>0_gv1&#45;&gt;1_gv1</title>\n",
       "<path fill=\"none\" stroke=\"black\" d=\"M545.16,-93.93C535.44,-84.54 525.01,-74.46 515.36,-65.14\"/>\n",
       "<polygon fill=\"black\" stroke=\"black\" points=\"517.79,-62.62 508.17,-58.19 512.93,-67.65 517.79,-62.62\"/>\n",
       "<text text-anchor=\"middle\" x=\"508.6\" y=\"-79.48\" font-family=\"Helvetica,sans-Serif\" font-size=\"14.00\">True</text>\n",
       "</g>\n",
       "<!-- 2_gv1 -->\n",
       "<g id=\"node6\" class=\"node\">\n",
       "<title>2_gv1</title>\n",
       "<path fill=\"#5dafea\" stroke=\"black\" d=\"M770,-58C770,-58 604,-58 604,-58 598,-58 592,-52 592,-46 592,-46 592,-12 592,-12 592,-6 598,0 604,0 604,0 770,0 770,0 776,0 782,-6 782,-12 782,-12 782,-46 782,-46 782,-52 776,-58 770,-58\"/>\n",
       "<text text-anchor=\"start\" x=\"642\" y=\"-40.3\" font-family=\"Helvetica,sans-Serif\" font-size=\"14.00\">samples = 668</text>\n",
       "<text text-anchor=\"start\" x=\"602.5\" y=\"-25.3\" font-family=\"Helvetica,sans-Serif\" font-size=\"14.00\">value = [239.244, 1332.075]</text>\n",
       "<text text-anchor=\"start\" x=\"633.5\" y=\"-10.3\" font-family=\"Helvetica,sans-Serif\" font-size=\"14.00\">class = Language</text>\n",
       "</g>\n",
       "<!-- 0_gv1&#45;&gt;2_gv1 -->\n",
       "<g id=\"edge4\" class=\"edge\">\n",
       "<title>0_gv1&#45;&gt;2_gv1</title>\n",
       "<path fill=\"none\" stroke=\"black\" d=\"M620.84,-93.93C630.56,-84.54 640.99,-74.46 650.64,-65.14\"/>\n",
       "<polygon fill=\"black\" stroke=\"black\" points=\"653.07,-67.65 657.83,-58.19 648.21,-62.62 653.07,-67.65\"/>\n",
       "<text text-anchor=\"middle\" x=\"657.4\" y=\"-79.48\" font-family=\"Helvetica,sans-Serif\" font-size=\"14.00\">False</text>\n",
       "</g>\n",
       "</g>\n",
       "</svg>\n"
      ],
      "text/plain": [
       "<graphviz.sources.Source at 0x7f189d3a58a0>"
      ]
     },
     "metadata": {},
     "output_type": "display_data"
    },
    {
     "data": {
      "text/markdown": [
       "<span style=\"font-size:11pt\"><br><br></span>"
      ],
      "text/plain": [
       "<IPython.core.display.Markdown object>"
      ]
     },
     "metadata": {},
     "output_type": "display_data"
    },
    {
     "data": {
      "image/svg+xml": [
       "<?xml version=\"1.0\" encoding=\"UTF-8\" standalone=\"no\"?>\n",
       "<!DOCTYPE svg PUBLIC \"-//W3C//DTD SVG 1.1//EN\"\n",
       " \"http://www.w3.org/Graphics/SVG/1.1/DTD/svg11.dtd\">\n",
       "<!-- Generated by graphviz version 2.43.0 (0)\n",
       " -->\n",
       "<!-- Title: root Pages: 1 -->\n",
       "<svg width=\"798pt\" height=\"177pt\"\n",
       " viewBox=\"0.00 0.00 798.00 177.00\" xmlns=\"http://www.w3.org/2000/svg\" xmlns:xlink=\"http://www.w3.org/1999/xlink\">\n",
       "<g id=\"graph0\" class=\"graph\" transform=\"scale(1 1) rotate(0) translate(4 173)\">\n",
       "<title>root</title>\n",
       "<polygon fill=\"white\" stroke=\"transparent\" points=\"-4,4 -4,-173 794,-173 794,4 -4,4\"/>\n",
       "<!-- 0 -->\n",
       "<g id=\"node1\" class=\"node\">\n",
       "<title>0</title>\n",
       "<path fill=\"#ffffff\" stroke=\"black\" d=\"M273.5,-169C273.5,-169 120.5,-169 120.5,-169 114.5,-169 108.5,-163 108.5,-157 108.5,-157 108.5,-106 108.5,-106 108.5,-100 114.5,-94 120.5,-94 120.5,-94 273.5,-94 273.5,-94 279.5,-94 285.5,-100 285.5,-106 285.5,-106 285.5,-157 285.5,-157 285.5,-163 279.5,-169 273.5,-169\"/>\n",
       "<text text-anchor=\"start\" x=\"120\" y=\"-150.3\" font-family=\"Helvetica,sans-Serif\" font-size=\"14.00\">forschungsfragen ≤ 0.623</text>\n",
       "<text text-anchor=\"start\" x=\"148.5\" y=\"-135.3\" font-family=\"Helvetica,sans-Serif\" font-size=\"14.00\">samples = 3483</text>\n",
       "<text text-anchor=\"start\" x=\"124\" y=\"-120.3\" font-family=\"Helvetica,sans-Serif\" font-size=\"14.00\">value = [1741.5, 1741.5]</text>\n",
       "<text text-anchor=\"start\" x=\"127\" y=\"-105.3\" font-family=\"Helvetica,sans-Serif\" font-size=\"14.00\">class = Social sciences</text>\n",
       "</g>\n",
       "<!-- 1 -->\n",
       "<g id=\"node2\" class=\"node\">\n",
       "<title>1</title>\n",
       "<path fill=\"#f6d2b9\" stroke=\"black\" d=\"M178,-58C178,-58 12,-58 12,-58 6,-58 0,-52 0,-46 0,-46 0,-12 0,-12 0,-6 6,0 12,0 12,0 178,0 178,0 184,0 190,-6 190,-12 190,-12 190,-46 190,-46 190,-52 184,-58 178,-58\"/>\n",
       "<text text-anchor=\"start\" x=\"46.5\" y=\"-40.3\" font-family=\"Helvetica,sans-Serif\" font-size=\"14.00\">samples = 2182</text>\n",
       "<text text-anchor=\"start\" x=\"10.5\" y=\"-25.3\" font-family=\"Helvetica,sans-Serif\" font-size=\"14.00\">value = [1260.031, 814.019]</text>\n",
       "<text text-anchor=\"start\" x=\"56\" y=\"-10.3\" font-family=\"Helvetica,sans-Serif\" font-size=\"14.00\">class = other</text>\n",
       "</g>\n",
       "<!-- 0&#45;&gt;1 -->\n",
       "<g id=\"edge1\" class=\"edge\">\n",
       "<title>0&#45;&gt;1</title>\n",
       "<path fill=\"none\" stroke=\"black\" d=\"M159.89,-93.93C150.45,-84.63 140.32,-74.66 130.94,-65.41\"/>\n",
       "<polygon fill=\"black\" stroke=\"black\" points=\"133.19,-62.71 123.61,-58.19 128.28,-67.7 133.19,-62.71\"/>\n",
       "<text text-anchor=\"middle\" x=\"123.79\" y=\"-79.49\" font-family=\"Helvetica,sans-Serif\" font-size=\"14.00\">True</text>\n",
       "</g>\n",
       "<!-- 2 -->\n",
       "<g id=\"node3\" class=\"node\">\n",
       "<title>2</title>\n",
       "<path fill=\"#a0d0f2\" stroke=\"black\" d=\"M378,-58C378,-58 220,-58 220,-58 214,-58 208,-52 208,-46 208,-46 208,-12 208,-12 208,-6 214,0 220,0 220,0 378,0 378,0 384,0 390,-6 390,-12 390,-12 390,-46 390,-46 390,-52 384,-58 378,-58\"/>\n",
       "<text text-anchor=\"start\" x=\"250.5\" y=\"-40.3\" font-family=\"Helvetica,sans-Serif\" font-size=\"14.00\">samples = 1301</text>\n",
       "<text text-anchor=\"start\" x=\"218.5\" y=\"-25.3\" font-family=\"Helvetica,sans-Serif\" font-size=\"14.00\">value = [481.469, 927.481]</text>\n",
       "<text text-anchor=\"start\" x=\"229\" y=\"-10.3\" font-family=\"Helvetica,sans-Serif\" font-size=\"14.00\">class = Social sciences</text>\n",
       "</g>\n",
       "<!-- 0&#45;&gt;2 -->\n",
       "<g id=\"edge2\" class=\"edge\">\n",
       "<title>0&#45;&gt;2</title>\n",
       "<path fill=\"none\" stroke=\"black\" d=\"M234.11,-93.93C243.55,-84.63 253.68,-74.66 263.06,-65.41\"/>\n",
       "<polygon fill=\"black\" stroke=\"black\" points=\"265.72,-67.7 270.39,-58.19 260.81,-62.71 265.72,-67.7\"/>\n",
       "<text text-anchor=\"middle\" x=\"270.21\" y=\"-79.49\" font-family=\"Helvetica,sans-Serif\" font-size=\"14.00\">False</text>\n",
       "</g>\n",
       "<!-- 0_gv1 -->\n",
       "<g id=\"node4\" class=\"node\">\n",
       "<title>0_gv1</title>\n",
       "<path fill=\"#ffffff\" stroke=\"black\" d=\"M670.5,-169C670.5,-169 527.5,-169 527.5,-169 521.5,-169 515.5,-163 515.5,-157 515.5,-157 515.5,-106 515.5,-106 515.5,-100 521.5,-94 527.5,-94 527.5,-94 670.5,-94 670.5,-94 676.5,-94 682.5,-100 682.5,-106 682.5,-106 682.5,-157 682.5,-157 682.5,-163 676.5,-169 670.5,-169\"/>\n",
       "<text text-anchor=\"start\" x=\"564\" y=\"-150.3\" font-family=\"Helvetica,sans-Serif\" font-size=\"14.00\">exil ≤ 0.867</text>\n",
       "<text text-anchor=\"start\" x=\"550.5\" y=\"-135.3\" font-family=\"Helvetica,sans-Serif\" font-size=\"14.00\">samples = 3483</text>\n",
       "<text text-anchor=\"start\" x=\"526\" y=\"-120.3\" font-family=\"Helvetica,sans-Serif\" font-size=\"14.00\">value = [1741.5, 1741.5]</text>\n",
       "<text text-anchor=\"start\" x=\"560\" y=\"-105.3\" font-family=\"Helvetica,sans-Serif\" font-size=\"14.00\">class = other</text>\n",
       "</g>\n",
       "<!-- 1_gv1 -->\n",
       "<g id=\"node5\" class=\"node\">\n",
       "<title>1_gv1</title>\n",
       "<path fill=\"#efb185\" stroke=\"black\" d=\"M578,-58C578,-58 420,-58 420,-58 414,-58 408,-52 408,-46 408,-46 408,-12 408,-12 408,-6 414,0 420,0 420,0 578,0 578,0 584,0 590,-6 590,-12 590,-12 590,-46 590,-46 590,-52 584,-58 578,-58\"/>\n",
       "<text text-anchor=\"start\" x=\"450.5\" y=\"-40.3\" font-family=\"Helvetica,sans-Serif\" font-size=\"14.00\">samples = 3028</text>\n",
       "<text text-anchor=\"start\" x=\"418.5\" y=\"-25.3\" font-family=\"Helvetica,sans-Serif\" font-size=\"14.00\">value = [1583.28, 606.352]</text>\n",
       "<text text-anchor=\"start\" x=\"460\" y=\"-10.3\" font-family=\"Helvetica,sans-Serif\" font-size=\"14.00\">class = other</text>\n",
       "</g>\n",
       "<!-- 0_gv1&#45;&gt;1_gv1 -->\n",
       "<g id=\"edge3\" class=\"edge\">\n",
       "<title>0_gv1&#45;&gt;1_gv1</title>\n",
       "<path fill=\"none\" stroke=\"black\" d=\"M562.61,-93.93C553.36,-84.63 543.43,-74.66 534.24,-65.41\"/>\n",
       "<polygon fill=\"black\" stroke=\"black\" points=\"536.58,-62.81 527.05,-58.19 531.62,-67.75 536.58,-62.81\"/>\n",
       "<text text-anchor=\"middle\" x=\"526.99\" y=\"-79.49\" font-family=\"Helvetica,sans-Serif\" font-size=\"14.00\">True</text>\n",
       "</g>\n",
       "<!-- 2_gv1 -->\n",
       "<g id=\"node6\" class=\"node\">\n",
       "<title>2_gv1</title>\n",
       "<path fill=\"#55abe9\" stroke=\"black\" d=\"M778,-58C778,-58 620,-58 620,-58 614,-58 608,-52 608,-46 608,-46 608,-12 608,-12 608,-6 614,0 620,0 620,0 778,0 778,0 784,0 790,-6 790,-12 790,-12 790,-46 790,-46 790,-52 784,-58 778,-58\"/>\n",
       "<text text-anchor=\"start\" x=\"654\" y=\"-40.3\" font-family=\"Helvetica,sans-Serif\" font-size=\"14.00\">samples = 455</text>\n",
       "<text text-anchor=\"start\" x=\"618.5\" y=\"-25.3\" font-family=\"Helvetica,sans-Serif\" font-size=\"14.00\">value = [158.22, 1135.148]</text>\n",
       "<text text-anchor=\"start\" x=\"647\" y=\"-10.3\" font-family=\"Helvetica,sans-Serif\" font-size=\"14.00\">class = Literature</text>\n",
       "</g>\n",
       "<!-- 0_gv1&#45;&gt;2_gv1 -->\n",
       "<g id=\"edge4\" class=\"edge\">\n",
       "<title>0_gv1&#45;&gt;2_gv1</title>\n",
       "<path fill=\"none\" stroke=\"black\" d=\"M635.39,-93.93C644.64,-84.63 654.57,-74.66 663.76,-65.41\"/>\n",
       "<polygon fill=\"black\" stroke=\"black\" points=\"666.38,-67.75 670.95,-58.19 661.42,-62.81 666.38,-67.75\"/>\n",
       "<text text-anchor=\"middle\" x=\"671.01\" y=\"-79.49\" font-family=\"Helvetica,sans-Serif\" font-size=\"14.00\">False</text>\n",
       "</g>\n",
       "</g>\n",
       "</svg>\n"
      ],
      "text/plain": [
       "<graphviz.sources.Source at 0x7f189d3a7460>"
      ]
     },
     "metadata": {},
     "output_type": "display_data"
    },
    {
     "data": {
      "text/markdown": [
       "<span style=\"font-size:11pt\"><br><br></span>"
      ],
      "text/plain": [
       "<IPython.core.display.Markdown object>"
      ]
     },
     "metadata": {},
     "output_type": "display_data"
    },
    {
     "data": {
      "image/svg+xml": [
       "<?xml version=\"1.0\" encoding=\"UTF-8\" standalone=\"no\"?>\n",
       "<!DOCTYPE svg PUBLIC \"-//W3C//DTD SVG 1.1//EN\"\n",
       " \"http://www.w3.org/Graphics/SVG/1.1/DTD/svg11.dtd\">\n",
       "<!-- Generated by graphviz version 2.43.0 (0)\n",
       " -->\n",
       "<!-- Title: root Pages: 1 -->\n",
       "<svg width=\"877pt\" height=\"177pt\"\n",
       " viewBox=\"0.00 0.00 876.50 177.00\" xmlns=\"http://www.w3.org/2000/svg\" xmlns:xlink=\"http://www.w3.org/1999/xlink\">\n",
       "<g id=\"graph0\" class=\"graph\" transform=\"scale(1 1) rotate(0) translate(4 173)\">\n",
       "<title>root</title>\n",
       "<polygon fill=\"white\" stroke=\"transparent\" points=\"-4,4 -4,-173 872.5,-173 872.5,4 -4,4\"/>\n",
       "<!-- 0 -->\n",
       "<g id=\"node1\" class=\"node\">\n",
       "<title>0</title>\n",
       "<path fill=\"#ffffff\" stroke=\"black\" d=\"M321.5,-169C321.5,-169 178.5,-169 178.5,-169 172.5,-169 166.5,-163 166.5,-157 166.5,-157 166.5,-106 166.5,-106 166.5,-100 172.5,-94 178.5,-94 178.5,-94 321.5,-94 321.5,-94 327.5,-94 333.5,-100 333.5,-106 333.5,-106 333.5,-157 333.5,-157 333.5,-163 327.5,-169 321.5,-169\"/>\n",
       "<text text-anchor=\"start\" x=\"207.5\" y=\"-150.3\" font-family=\"Helvetica,sans-Serif\" font-size=\"14.00\">szene ≤ 0.677</text>\n",
       "<text text-anchor=\"start\" x=\"201.5\" y=\"-135.3\" font-family=\"Helvetica,sans-Serif\" font-size=\"14.00\">samples = 3483</text>\n",
       "<text text-anchor=\"start\" x=\"177\" y=\"-120.3\" font-family=\"Helvetica,sans-Serif\" font-size=\"14.00\">value = [1741.5, 1741.5]</text>\n",
       "<text text-anchor=\"start\" x=\"211\" y=\"-105.3\" font-family=\"Helvetica,sans-Serif\" font-size=\"14.00\">class = other</text>\n",
       "</g>\n",
       "<!-- 1 -->\n",
       "<g id=\"node2\" class=\"node\">\n",
       "<title>1</title>\n",
       "<path fill=\"#eeaf81\" stroke=\"black\" d=\"M178,-58C178,-58 12,-58 12,-58 6,-58 0,-52 0,-46 0,-46 0,-12 0,-12 0,-6 6,0 12,0 12,0 178,0 178,0 184,0 190,-6 190,-12 190,-12 190,-46 190,-46 190,-52 184,-58 178,-58\"/>\n",
       "<text text-anchor=\"start\" x=\"46.5\" y=\"-40.3\" font-family=\"Helvetica,sans-Serif\" font-size=\"14.00\">samples = 2355</text>\n",
       "<text text-anchor=\"start\" x=\"10.5\" y=\"-25.3\" font-family=\"Helvetica,sans-Serif\" font-size=\"14.00\">value = [1237.282, 448.568]</text>\n",
       "<text text-anchor=\"start\" x=\"56\" y=\"-10.3\" font-family=\"Helvetica,sans-Serif\" font-size=\"14.00\">class = other</text>\n",
       "</g>\n",
       "<!-- 0&#45;&gt;1 -->\n",
       "<g id=\"edge1\" class=\"edge\">\n",
       "<title>0&#45;&gt;1</title>\n",
       "<path fill=\"none\" stroke=\"black\" d=\"M193.6,-93.93C178.41,-84.08 162.04,-73.47 147.09,-63.78\"/>\n",
       "<polygon fill=\"black\" stroke=\"black\" points=\"148.77,-60.69 138.47,-58.19 144.96,-66.57 148.77,-60.69\"/>\n",
       "<text text-anchor=\"middle\" x=\"143.69\" y=\"-78.94\" font-family=\"Helvetica,sans-Serif\" font-size=\"14.00\">True</text>\n",
       "</g>\n",
       "<!-- 2 -->\n",
       "<g id=\"node3\" class=\"node\">\n",
       "<title>2</title>\n",
       "<path fill=\"#86c3ef\" stroke=\"black\" d=\"M386,-58C386,-58 220,-58 220,-58 214,-58 208,-52 208,-46 208,-46 208,-12 208,-12 208,-6 214,0 220,0 220,0 386,0 386,0 392,0 398,-6 398,-12 398,-12 398,-46 398,-46 398,-52 392,-58 386,-58\"/>\n",
       "<text text-anchor=\"start\" x=\"254.5\" y=\"-40.3\" font-family=\"Helvetica,sans-Serif\" font-size=\"14.00\">samples = 1128</text>\n",
       "<text text-anchor=\"start\" x=\"218.5\" y=\"-25.3\" font-family=\"Helvetica,sans-Serif\" font-size=\"14.00\">value = [504.218, 1292.932]</text>\n",
       "<text text-anchor=\"start\" x=\"222.5\" y=\"-10.3\" font-family=\"Helvetica,sans-Serif\" font-size=\"14.00\">class = Arts and recreation</text>\n",
       "</g>\n",
       "<!-- 0&#45;&gt;2 -->\n",
       "<g id=\"edge2\" class=\"edge\">\n",
       "<title>0&#45;&gt;2</title>\n",
       "<path fill=\"none\" stroke=\"black\" d=\"M269.28,-93.93C273.9,-85.19 278.83,-75.84 283.45,-67.07\"/>\n",
       "<polygon fill=\"black\" stroke=\"black\" points=\"286.57,-68.67 288.13,-58.19 280.37,-65.4 286.57,-68.67\"/>\n",
       "<text text-anchor=\"middle\" x=\"295.53\" y=\"-78.37\" font-family=\"Helvetica,sans-Serif\" font-size=\"14.00\">False</text>\n",
       "</g>\n",
       "<!-- 0_gv1 -->\n",
       "<g id=\"node4\" class=\"node\">\n",
       "<title>0_gv1</title>\n",
       "<path fill=\"#ffffff\" stroke=\"black\" d=\"M674.5,-169C674.5,-169 465.5,-169 465.5,-169 459.5,-169 453.5,-163 453.5,-157 453.5,-157 453.5,-106 453.5,-106 453.5,-100 459.5,-94 465.5,-94 465.5,-94 674.5,-94 674.5,-94 680.5,-94 686.5,-100 686.5,-106 686.5,-106 686.5,-157 686.5,-157 686.5,-163 680.5,-169 674.5,-169\"/>\n",
       "<text text-anchor=\"start\" x=\"509.5\" y=\"-150.3\" font-family=\"Helvetica,sans-Serif\" font-size=\"14.00\">psychologie ≤ 0.914</text>\n",
       "<text text-anchor=\"start\" x=\"521.5\" y=\"-135.3\" font-family=\"Helvetica,sans-Serif\" font-size=\"14.00\">samples = 3483</text>\n",
       "<text text-anchor=\"start\" x=\"497\" y=\"-120.3\" font-family=\"Helvetica,sans-Serif\" font-size=\"14.00\">value = [1741.5, 1741.5]</text>\n",
       "<text text-anchor=\"start\" x=\"464.5\" y=\"-105.3\" font-family=\"Helvetica,sans-Serif\" font-size=\"14.00\">class = Philosophy and psychology</text>\n",
       "</g>\n",
       "<!-- 1_gv1 -->\n",
       "<g id=\"node5\" class=\"node\">\n",
       "<title>1_gv1</title>\n",
       "<path fill=\"#f7dac5\" stroke=\"black\" d=\"M605,-58C605,-58 431,-58 431,-58 425,-58 419,-52 419,-46 419,-46 419,-12 419,-12 419,-6 425,0 431,0 431,0 605,0 605,0 611,0 617,-6 617,-12 617,-12 617,-46 617,-46 617,-52 611,-58 605,-58\"/>\n",
       "<text text-anchor=\"start\" x=\"469.5\" y=\"-40.3\" font-family=\"Helvetica,sans-Serif\" font-size=\"14.00\">samples = 3176</text>\n",
       "<text text-anchor=\"start\" x=\"430\" y=\"-25.3\" font-family=\"Helvetica,sans-Serif\" font-size=\"14.00\">value = [1611.506, 1140.983]</text>\n",
       "<text text-anchor=\"start\" x=\"479\" y=\"-10.3\" font-family=\"Helvetica,sans-Serif\" font-size=\"14.00\">class = other</text>\n",
       "</g>\n",
       "<!-- 0_gv1&#45;&gt;1_gv1 -->\n",
       "<g id=\"edge3\" class=\"edge\">\n",
       "<title>0_gv1&#45;&gt;1_gv1</title>\n",
       "<path fill=\"none\" stroke=\"black\" d=\"M551.08,-93.93C546.6,-85.28 541.82,-76.04 537.32,-67.35\"/>\n",
       "<polygon fill=\"black\" stroke=\"black\" points=\"540.29,-65.46 532.58,-58.19 534.07,-68.68 540.29,-65.46\"/>\n",
       "<text text-anchor=\"middle\" x=\"525.01\" y=\"-78.31\" font-family=\"Helvetica,sans-Serif\" font-size=\"14.00\">True</text>\n",
       "</g>\n",
       "<!-- 2_gv1 -->\n",
       "<g id=\"node6\" class=\"node\">\n",
       "<title>2_gv1</title>\n",
       "<path fill=\"#64b2eb\" stroke=\"black\" d=\"M856.5,-58C856.5,-58 647.5,-58 647.5,-58 641.5,-58 635.5,-52 635.5,-46 635.5,-46 635.5,-12 635.5,-12 635.5,-6 641.5,0 647.5,0 647.5,0 856.5,0 856.5,0 862.5,0 868.5,-6 868.5,-12 868.5,-12 868.5,-46 868.5,-46 868.5,-52 862.5,-58 856.5,-58\"/>\n",
       "<text text-anchor=\"start\" x=\"707\" y=\"-40.3\" font-family=\"Helvetica,sans-Serif\" font-size=\"14.00\">samples = 307</text>\n",
       "<text text-anchor=\"start\" x=\"671.5\" y=\"-25.3\" font-family=\"Helvetica,sans-Serif\" font-size=\"14.00\">value = [129.994, 600.517]</text>\n",
       "<text text-anchor=\"start\" x=\"646.5\" y=\"-10.3\" font-family=\"Helvetica,sans-Serif\" font-size=\"14.00\">class = Philosophy and psychology</text>\n",
       "</g>\n",
       "<!-- 0_gv1&#45;&gt;2_gv1 -->\n",
       "<g id=\"edge4\" class=\"edge\">\n",
       "<title>0_gv1&#45;&gt;2_gv1</title>\n",
       "<path fill=\"none\" stroke=\"black\" d=\"M636.22,-93.93C654.48,-83.85 674.19,-72.97 692.07,-63.09\"/>\n",
       "<polygon fill=\"black\" stroke=\"black\" points=\"694.18,-65.93 701.24,-58.03 690.79,-59.8 694.18,-65.93\"/>\n",
       "<text text-anchor=\"middle\" x=\"694.31\" y=\"-78.35\" font-family=\"Helvetica,sans-Serif\" font-size=\"14.00\">False</text>\n",
       "</g>\n",
       "</g>\n",
       "</svg>\n"
      ],
      "text/plain": [
       "<graphviz.sources.Source at 0x7f189d3a6230>"
      ]
     },
     "metadata": {},
     "output_type": "display_data"
    },
    {
     "data": {
      "text/markdown": [
       "<span style=\"font-size:11pt\"><br><br></span>"
      ],
      "text/plain": [
       "<IPython.core.display.Markdown object>"
      ]
     },
     "metadata": {},
     "output_type": "display_data"
    },
    {
     "data": {
      "image/svg+xml": [
       "<?xml version=\"1.0\" encoding=\"UTF-8\" standalone=\"no\"?>\n",
       "<!DOCTYPE svg PUBLIC \"-//W3C//DTD SVG 1.1//EN\"\n",
       " \"http://www.w3.org/Graphics/SVG/1.1/DTD/svg11.dtd\">\n",
       "<!-- Generated by graphviz version 2.43.0 (0)\n",
       " -->\n",
       "<!-- Title: root Pages: 1 -->\n",
       "<svg width=\"932pt\" height=\"177pt\"\n",
       " viewBox=\"0.00 0.00 932.00 177.00\" xmlns=\"http://www.w3.org/2000/svg\" xmlns:xlink=\"http://www.w3.org/1999/xlink\">\n",
       "<g id=\"graph0\" class=\"graph\" transform=\"scale(1 1) rotate(0) translate(4 173)\">\n",
       "<title>root</title>\n",
       "<polygon fill=\"white\" stroke=\"transparent\" points=\"-4,4 -4,-173 928,-173 928,4 -4,4\"/>\n",
       "<!-- 0 -->\n",
       "<g id=\"node1\" class=\"node\">\n",
       "<title>0</title>\n",
       "<path fill=\"#ffffff\" stroke=\"black\" d=\"M293.5,-169C293.5,-169 150.5,-169 150.5,-169 144.5,-169 138.5,-163 138.5,-157 138.5,-157 138.5,-106 138.5,-106 138.5,-100 144.5,-94 150.5,-94 150.5,-94 293.5,-94 293.5,-94 299.5,-94 305.5,-100 305.5,-106 305.5,-106 305.5,-157 305.5,-157 305.5,-163 299.5,-169 293.5,-169\"/>\n",
       "<text text-anchor=\"start\" x=\"177.5\" y=\"-150.3\" font-family=\"Helvetica,sans-Serif\" font-size=\"14.00\">design ≤ 0.464</text>\n",
       "<text text-anchor=\"start\" x=\"173.5\" y=\"-135.3\" font-family=\"Helvetica,sans-Serif\" font-size=\"14.00\">samples = 3483</text>\n",
       "<text text-anchor=\"start\" x=\"149\" y=\"-120.3\" font-family=\"Helvetica,sans-Serif\" font-size=\"14.00\">value = [1741.5, 1741.5]</text>\n",
       "<text text-anchor=\"start\" x=\"183\" y=\"-105.3\" font-family=\"Helvetica,sans-Serif\" font-size=\"14.00\">class = other</text>\n",
       "</g>\n",
       "<!-- 1 -->\n",
       "<g id=\"node2\" class=\"node\">\n",
       "<title>1</title>\n",
       "<path fill=\"#efb083\" stroke=\"black\" d=\"M170,-58C170,-58 12,-58 12,-58 6,-58 0,-52 0,-46 0,-46 0,-12 0,-12 0,-6 6,0 12,0 12,0 170,0 170,0 176,0 182,-6 182,-12 182,-12 182,-46 182,-46 182,-52 176,-58 170,-58\"/>\n",
       "<text text-anchor=\"start\" x=\"42.5\" y=\"-40.3\" font-family=\"Helvetica,sans-Serif\" font-size=\"14.00\">samples = 1633</text>\n",
       "<text text-anchor=\"start\" x=\"10.5\" y=\"-25.3\" font-family=\"Helvetica,sans-Serif\" font-size=\"14.00\">value = [849.174, 317.376]</text>\n",
       "<text text-anchor=\"start\" x=\"52\" y=\"-10.3\" font-family=\"Helvetica,sans-Serif\" font-size=\"14.00\">class = other</text>\n",
       "</g>\n",
       "<!-- 0&#45;&gt;1 -->\n",
       "<g id=\"edge1\" class=\"edge\">\n",
       "<title>0&#45;&gt;1</title>\n",
       "<path fill=\"none\" stroke=\"black\" d=\"M174.34,-93.93C161.73,-84.26 148.18,-73.86 135.74,-64.32\"/>\n",
       "<polygon fill=\"black\" stroke=\"black\" points=\"137.81,-61.5 127.74,-58.19 133.55,-67.05 137.81,-61.5\"/>\n",
       "<text text-anchor=\"middle\" x=\"131.01\" y=\"-79.27\" font-family=\"Helvetica,sans-Serif\" font-size=\"14.00\">True</text>\n",
       "</g>\n",
       "<!-- 2 -->\n",
       "<g id=\"node3\" class=\"node\">\n",
       "<title>2</title>\n",
       "<path fill=\"#b5daf5\" stroke=\"black\" d=\"M496,-58C496,-58 212,-58 212,-58 206,-58 200,-52 200,-46 200,-46 200,-12 200,-12 200,-6 206,0 212,0 212,0 496,0 496,0 502,0 508,-6 508,-12 508,-12 508,-46 508,-46 508,-52 502,-58 496,-58\"/>\n",
       "<text text-anchor=\"start\" x=\"305.5\" y=\"-40.3\" font-family=\"Helvetica,sans-Serif\" font-size=\"14.00\">samples = 1850</text>\n",
       "<text text-anchor=\"start\" x=\"269.5\" y=\"-25.3\" font-family=\"Helvetica,sans-Serif\" font-size=\"14.00\">value = [892.326, 1424.124]</text>\n",
       "<text text-anchor=\"start\" x=\"212\" y=\"-10.3\" font-family=\"Helvetica,sans-Serif\" font-size=\"14.00\">class = Computer science, information, general</text>\n",
       "</g>\n",
       "<!-- 0&#45;&gt;2 -->\n",
       "<g id=\"edge2\" class=\"edge\">\n",
       "<title>0&#45;&gt;2</title>\n",
       "<path fill=\"none\" stroke=\"black\" d=\"M270.03,-93.93C282.73,-84.26 296.39,-73.86 308.92,-64.32\"/>\n",
       "<polygon fill=\"black\" stroke=\"black\" points=\"311.14,-67.03 316.98,-58.19 306.9,-61.46 311.14,-67.03\"/>\n",
       "<text text-anchor=\"middle\" x=\"313.62\" y=\"-79.26\" font-family=\"Helvetica,sans-Serif\" font-size=\"14.00\">False</text>\n",
       "</g>\n",
       "<!-- 0_gv1 -->\n",
       "<g id=\"node4\" class=\"node\">\n",
       "<title>0_gv1</title>\n",
       "<path fill=\"#ffffff\" stroke=\"black\" d=\"M806,-169C806,-169 644,-169 644,-169 638,-169 632,-163 632,-157 632,-157 632,-106 632,-106 632,-100 638,-94 644,-94 644,-94 806,-94 806,-94 812,-94 818,-100 818,-106 818,-106 818,-157 818,-157 818,-163 812,-169 806,-169\"/>\n",
       "<text text-anchor=\"start\" x=\"643.5\" y=\"-150.3\" font-family=\"Helvetica,sans-Serif\" font-size=\"14.00\">religionsunterrichts ≤ 0.862</text>\n",
       "<text text-anchor=\"start\" x=\"676.5\" y=\"-135.3\" font-family=\"Helvetica,sans-Serif\" font-size=\"14.00\">samples = 3483</text>\n",
       "<text text-anchor=\"start\" x=\"652\" y=\"-120.3\" font-family=\"Helvetica,sans-Serif\" font-size=\"14.00\">value = [1741.5, 1741.5]</text>\n",
       "<text text-anchor=\"start\" x=\"677\" y=\"-105.3\" font-family=\"Helvetica,sans-Serif\" font-size=\"14.00\">class = Religion</text>\n",
       "</g>\n",
       "<!-- 1_gv1 -->\n",
       "<g id=\"node5\" class=\"node\">\n",
       "<title>1_gv1</title>\n",
       "<path fill=\"#eb9f69\" stroke=\"black\" d=\"M704,-58C704,-58 538,-58 538,-58 532,-58 526,-52 526,-46 526,-46 526,-12 526,-12 526,-6 532,0 538,0 538,0 704,0 704,0 710,0 716,-6 716,-12 716,-12 716,-46 716,-46 716,-52 710,-58 704,-58\"/>\n",
       "<text text-anchor=\"start\" x=\"572.5\" y=\"-40.3\" font-family=\"Helvetica,sans-Serif\" font-size=\"14.00\">samples = 2996</text>\n",
       "<text text-anchor=\"start\" x=\"536.5\" y=\"-25.3\" font-family=\"Helvetica,sans-Serif\" font-size=\"14.00\">value = [1551.375, 374.753]</text>\n",
       "<text text-anchor=\"start\" x=\"582\" y=\"-10.3\" font-family=\"Helvetica,sans-Serif\" font-size=\"14.00\">class = other</text>\n",
       "</g>\n",
       "<!-- 0_gv1&#45;&gt;1_gv1 -->\n",
       "<g id=\"edge3\" class=\"edge\">\n",
       "<title>0_gv1&#45;&gt;1_gv1</title>\n",
       "<path fill=\"none\" stroke=\"black\" d=\"M687.16,-93.93C677.44,-84.54 667.01,-74.46 657.36,-65.14\"/>\n",
       "<polygon fill=\"black\" stroke=\"black\" points=\"659.79,-62.62 650.17,-58.19 654.93,-67.65 659.79,-62.62\"/>\n",
       "<text text-anchor=\"middle\" x=\"650.6\" y=\"-79.48\" font-family=\"Helvetica,sans-Serif\" font-size=\"14.00\">True</text>\n",
       "</g>\n",
       "<!-- 2_gv1 -->\n",
       "<g id=\"node6\" class=\"node\">\n",
       "<title>2_gv1</title>\n",
       "<path fill=\"#55abe9\" stroke=\"black\" d=\"M912,-58C912,-58 746,-58 746,-58 740,-58 734,-52 734,-46 734,-46 734,-12 734,-12 734,-6 740,0 746,0 746,0 912,0 912,0 918,0 924,-6 924,-12 924,-12 924,-46 924,-46 924,-52 918,-58 912,-58\"/>\n",
       "<text text-anchor=\"start\" x=\"784\" y=\"-40.3\" font-family=\"Helvetica,sans-Serif\" font-size=\"14.00\">samples = 487</text>\n",
       "<text text-anchor=\"start\" x=\"744.5\" y=\"-25.3\" font-family=\"Helvetica,sans-Serif\" font-size=\"14.00\">value = [190.125, 1366.747]</text>\n",
       "<text text-anchor=\"start\" x=\"781\" y=\"-10.3\" font-family=\"Helvetica,sans-Serif\" font-size=\"14.00\">class = Religion</text>\n",
       "</g>\n",
       "<!-- 0_gv1&#45;&gt;2_gv1 -->\n",
       "<g id=\"edge4\" class=\"edge\">\n",
       "<title>0_gv1&#45;&gt;2_gv1</title>\n",
       "<path fill=\"none\" stroke=\"black\" d=\"M762.84,-93.93C772.56,-84.54 782.99,-74.46 792.64,-65.14\"/>\n",
       "<polygon fill=\"black\" stroke=\"black\" points=\"795.07,-67.65 799.83,-58.19 790.21,-62.62 795.07,-67.65\"/>\n",
       "<text text-anchor=\"middle\" x=\"799.4\" y=\"-79.48\" font-family=\"Helvetica,sans-Serif\" font-size=\"14.00\">False</text>\n",
       "</g>\n",
       "</g>\n",
       "</svg>\n"
      ],
      "text/plain": [
       "<graphviz.sources.Source at 0x7f189d3a4c70>"
      ]
     },
     "metadata": {},
     "output_type": "display_data"
    },
    {
     "data": {
      "text/markdown": [
       "<span style=\"font-size:11pt\"><br><br></span>"
      ],
      "text/plain": [
       "<IPython.core.display.Markdown object>"
      ]
     },
     "metadata": {},
     "output_type": "display_data"
    },
    {
     "data": {
      "text/markdown": [
       "<span style=\"font-size:11pt\">Per-Class-Scores: Technology: 0.73, History and geography: 0.74, Pure Science: 0.73, Language: 0.86, Social sciences: 0.64, Literature: 0.88, Arts and recreation: 0.71, Philosophy and psychology: 0.90, Computer science, information, general: 0.48, Religion: 0.89</span>"
      ],
      "text/plain": [
       "<IPython.core.display.Markdown object>"
      ]
     },
     "metadata": {},
     "output_type": "display_data"
    },
    {
     "data": {
      "text/markdown": [
       "<span style=\"font-size:11pt\">Unweighted Mean Accuracy: 75.62%</span>"
      ],
      "text/plain": [
       "<IPython.core.display.Markdown object>"
      ]
     },
     "metadata": {},
     "output_type": "display_data"
    },
    {
     "data": {
      "text/markdown": [
       "<span style=\"font-size:11pt\">Weighted Mean Accuracy: 71.73%</span>"
      ],
      "text/plain": [
       "<IPython.core.display.Markdown object>"
      ]
     },
     "metadata": {},
     "output_type": "display_data"
    }
   ],
   "source": [
    "conf = {'dataset': 'siddata2022', 'debug': False, 'kappa_weights': 'quadratic', 'embed_dimensions': 200, 'embed_algo': 'mds', 'quantification_measure': 'tfidf', 'dcm_quant_measure': 'count', 'extraction_method': 'tfidf', 'translate_policy': 'onlyorig', 'pp_components': 'mfauhtcsldp', 'language': 'de', 'min_words_per_desc': 80, 'prim_lambda': 0.5, 'sec_lambda': 0.2, 'classifier_succmetric': 'kappa_digitized_onlypos_2', 'cluster_direction_algo': 'reclassify'}\n",
    "ctx = SnakeContext.loader_context(config=conf, silent=True)\n",
    "ctx.print_important_settings()\n",
    "clusters, embedding, descriptions = ctx.load(\"clusters\", \"embedding\", \"pp_descriptions\")\n",
    "\n",
    "res = classify_shallowtree(clusters, embedding, descriptions, ctx.obj[\"dataset_class\"], one_vs_rest=True, dt_depth=1, test_percentage_crossval=0.33,\n",
    "                           classes=\"ddc_l1\", verbose=False, return_features=False, balance_classes=True, do_plot=True)"
   ]
  },
  {
   "cell_type": "markdown",
   "id": "29e5b7dc-fcf9-4025-8e76-408378782849",
   "metadata": {},
   "source": [
    "# Analyze Misclassifications"
   ]
  },
  {
   "cell_type": "markdown",
   "id": "651c6091-4199-4a44-a938-49c9cd31df53",
   "metadata": {},
   "source": [
    "## For one-vs-rest"
   ]
  },
  {
   "cell_type": "code",
   "execution_count": 11,
   "id": "c20db4fa-8330-4f88-8511-cb1388ce61c9",
   "metadata": {},
   "outputs": [
    {
     "data": {
      "text/markdown": [
       "<span style=\"font-size:11pt\">Using classes from fachbereich - 7081/11601 entities have a class</span>"
      ],
      "text/plain": [
       "<IPython.core.display.Markdown object>"
      ]
     },
     "metadata": {},
     "output_type": "display_data"
    },
    {
     "data": {
      "text/markdown": [
       "<span style=\"font-size:11pt\">Labels (10 classes): <span style=\"color: #0000ff\">Sprach-/Literaturwissenschaften</span>: 1656, <span style=\"color: #0000ff\">Erziehungs-/Kulturwissenschaften</span>: 2023, <span style=\"color: #0000ff\">Kultur-/Geowissenschaften</span>: 1431, <span style=\"color: #0000ff\">Sozialwissenschaften</span>: 704, <span style=\"color: #0000ff\">Rechtswissenschaften</span>: 334, <span style=\"color: #0000ff\">Humanwissenschaften</span>: 345, <span style=\"color: #0000ff\">Biologie/Chemie</span>: 159, <span style=\"color: #0000ff\">Mathematik/Informatik</span>: 185, <span style=\"color: #0000ff\">Physik</span>: 137, <span style=\"color: #0000ff\">Wirtschaftswissenschaften</span>: 107</span>"
      ],
      "text/plain": [
       "<IPython.core.display.Markdown object>"
      ]
     },
     "metadata": {},
     "output_type": "display_data"
    },
    {
     "data": {
      "text/markdown": [
       "<span style=\"font-size:11pt\">Eval-Settings: metric: <span style=\"color: #0000ff\">acc</span>, type: <span style=\"color: #0000ff\">one-vs-rest</span>, DT-Depth: <span style=\"color: #0000ff\">None</span>, train-test-split:<span style=\"color: #0000ff\"> 33.0% in test-set </span></span>"
      ],
      "text/plain": [
       "<IPython.core.display.Markdown object>"
      ]
     },
     "metadata": {},
     "output_type": "display_data"
    },
    {
     "data": {
      "text/markdown": [
       "<span style=\"font-size:11pt\">Per-Class-Scores: Humanwissenschaften: 0.94, Sprach-/Literaturwissenschaften: 0.90, Mathematik/Informatik: 0.97, Erziehungs-/Kulturwissenschaften: 0.85, Sozialwissenschaften: 0.90, Wirtschaftswissenschaften: 0.98, Biologie/Chemie: 0.98, Kultur-/Geowissenschaften: 0.87, Rechtswissenschaften: 0.98, Physik: 0.98</span>"
      ],
      "text/plain": [
       "<IPython.core.display.Markdown object>"
      ]
     },
     "metadata": {},
     "output_type": "display_data"
    },
    {
     "data": {
      "text/markdown": [
       "<span style=\"font-size:11pt\">Unweighted Mean acc: 93.53%</span>"
      ],
      "text/plain": [
       "<IPython.core.display.Markdown object>"
      ]
     },
     "metadata": {},
     "output_type": "display_data"
    },
    {
     "data": {
      "text/markdown": [
       "<span style=\"font-size:11pt\">Weighted Mean acc: 89.10%</span>"
      ],
      "text/plain": [
       "<IPython.core.display.Markdown object>"
      ]
     },
     "metadata": {},
     "output_type": "display_data"
    }
   ],
   "source": [
    "clfs = classify_shallowtree(clusters, embedding, descriptions, ctx.obj[\"dataset_class\"], one_vs_rest=True, dt_depth=None, test_percentage_crossval=0.33, classes=\"fachbereich\", cluster_reprs=cluster_reprs, verbose=False, return_features=True, balance_classes=True, do_plot=False)"
   ]
  },
  {
   "cell_type": "code",
   "execution_count": 99,
   "id": "a03ae179-4ba1-4a23-8960-fe3ae12bcab5",
   "metadata": {},
   "outputs": [
    {
     "data": {
      "text/plain": [
       "0.7914136421409406"
      ]
     },
     "execution_count": 99,
     "metadata": {},
     "output_type": "execute_result"
    }
   ],
   "source": [
    "accs = [(clfs[0][i].predict(clfs[1].values) == clfs[2][i]).mean() for i in range(len(clfs[0]))]\n",
    "sum(accs)/len(accs)"
   ]
  },
  {
   "cell_type": "code",
   "execution_count": 100,
   "id": "d5fcaba2-9bcb-447b-be69-097fb549a169",
   "metadata": {},
   "outputs": [
    {
     "data": {
      "text/plain": [
       "[Description(de: '\u001b[94m\"... and miles to go before I sleep\"\u001b[0m.  \"But I have promises to keep, and miles to go before I sleep” - [...]'),\n",
       " Description(de: '\u001b[94m\"...herrlicher als die Werke der alten Römer\". Bronzewerke des Mittelalters und der Frühen Neuzeit\u001b[0m.  Die Bronzetüren Karls des Großen in Aachen, der Braunschweiger [...]'),\n",
       " Description(de: '\u001b[94m\"Alt ist der, der aufhört neugierig zu sein\" (Irisches Sprichwort) Perspektiven und Entwicklung im Beruf ab dem 50. Lebensjahr\u001b[0m.  Sie haben einen großen beruflichen Erfahrungsschatz und erprobte [...]'),\n",
       " Description(de: '\u001b[94m\"Auswandern nach Amerika!\" Von der Quelle zur Ausstellung\u001b[0m.  Zwischen 1815 und 1914 verließen 5,5 Millionen Deutsche den [...]'),\n",
       " Description(de: '\u001b[94m\"Balu und Du\" - Präventionsprojekt für benachteiligte Kinder\u001b[0m.  Wenn Sie sich vorstellen können, für ein Kind, das in einer [...]'),\n",
       " Description(de: '\u001b[94m\"Balu und Du\" - ein Präventionsprojekt für Kinder\u001b[0m.  Wenn Sie sich vorstellen können, für ein Kind, das in einer [...]'),\n",
       " Description(de: '\u001b[94m\"Balu und Du\" -.ein Präventionsprojekt für Kinder  (Soziales Engagement im Studium integriert; angegebene Termin zur Auswahl)\u001b[0m.  Die vier angegebenen Termine werden zur Auswahl angeboten! [...]'),\n",
       " Description(de: '\u001b[94m\"Blaustrümpfe?!\" - Der (männliche) Blick auf die denkende Frau\u001b[0m.  \"Blaustrumpf: Ausdruck der Verachtung für alle Frauen mit [...]'),\n",
       " Description(de: '\u001b[94m\"Ecce homo\" - erlöst und befreit in Jesus Christus? Einführung in die Christologie und Soteriologie\u001b[0m.  Das Interesse an der Person Jesu von Nazareth ist ungebrochen, [...]'),\n",
       " Description(de: '\u001b[94m\"Einfach drauf los spielen?\" Improvisieren lernen und lehren\u001b[0m.  Bei der Vermittlung von Improvisation stößt man oftmals auf [...]')]"
      ]
     },
     "execution_count": 100,
     "metadata": {},
     "output_type": "execute_result"
    }
   ],
   "source": [
    "corrects = np.array([clfs[0][i].predict(clfs[1].values) == clfs[2][i] for i in range(len(clfs[0]))])\n",
    "misclassified = np.where(corrects.sum(axis=0) < corrects.shape[0])[0]\n",
    "len(misclassified)\n",
    "[descriptions._descriptions[i] for i in misclassified][:10]"
   ]
  },
  {
   "cell_type": "markdown",
   "id": "41699975-96db-4737-97e2-fd29fa6f32db",
   "metadata": {},
   "source": [
    "## For all-at-once"
   ]
  },
  {
   "cell_type": "code",
   "execution_count": 101,
   "id": "855a2257-e474-4d5c-9622-efbebd125dfb",
   "metadata": {},
   "outputs": [
    {
     "data": {
      "text/markdown": [
       "<span style=\"font-size:11pt\">Using classes from fachbereich - 7081/11601 entities have a class</span>"
      ],
      "text/plain": [
       "<IPython.core.display.Markdown object>"
      ]
     },
     "metadata": {},
     "output_type": "display_data"
    },
    {
     "data": {
      "text/markdown": [
       "<span style=\"font-size:11pt\">Labels (10 classes): <span style=\"color: #0000ff\">Sprach-/Literaturwissenschaften</span>: 1656, <span style=\"color: #0000ff\">Erziehungs-/Kulturwissenschaften</span>: 2023, <span style=\"color: #0000ff\">Kultur-/Geowissenschaften</span>: 1431, <span style=\"color: #0000ff\">Sozialwissenschaften</span>: 704, <span style=\"color: #0000ff\">Rechtswissenschaften</span>: 334, <span style=\"color: #0000ff\">Humanwissenschaften</span>: 345, <span style=\"color: #0000ff\">Biologie/Chemie</span>: 159, <span style=\"color: #0000ff\">Mathematik/Informatik</span>: 185, <span style=\"color: #0000ff\">Physik</span>: 137, <span style=\"color: #0000ff\">Wirtschaftswissenschaften</span>: 107</span>"
      ],
      "text/plain": [
       "<IPython.core.display.Markdown object>"
      ]
     },
     "metadata": {},
     "output_type": "display_data"
    },
    {
     "data": {
      "text/markdown": [
       "<span style=\"font-size:11pt\">Eval-Settings: metric: <span style=\"color: #0000ff\">acc</span>, type: <span style=\"color: #0000ff\">all-at-once</span>, DT-Depth: <span style=\"color: #0000ff\">15</span>, train-test-split:<span style=\"color: #0000ff\"> 33.0% in test-set </span></span>"
      ],
      "text/plain": [
       "<IPython.core.display.Markdown object>"
      ]
     },
     "metadata": {},
     "output_type": "display_data"
    },
    {
     "data": {
      "text/markdown": [
       "<span style=\"font-size:11pt\">acc: 0.57</span>"
      ],
      "text/plain": [
       "<IPython.core.display.Markdown object>"
      ]
     },
     "metadata": {},
     "output_type": "display_data"
    }
   ],
   "source": [
    "clfs = classify_shallowtree(clusters, embedding, descriptions, ctx.obj[\"dataset_class\"], one_vs_rest=False, dt_depth=15, test_percentage_crossval=0.33, classes=\"fachbereich\", cluster_reprs=cluster_reprs, verbose=False, return_features=True, balance_classes=True, do_plot=False)"
   ]
  },
  {
   "cell_type": "code",
   "execution_count": 102,
   "id": "c97fcb3f-f65a-47b1-9fe9-d8fc5239b7f4",
   "metadata": {},
   "outputs": [
    {
     "data": {
      "text/plain": [
       "[Description(de: '\u001b[94m!! FÄLLT AUS !! Phonetik des Deutschen\u001b[0m.  Phonetik beschäftigt sich mit gesprochener Sprache. Was passiert [...]'),\n",
       " Description(de: '\u001b[94m\"... and miles to go before I sleep\"\u001b[0m.  \"But I have promises to keep, and miles to go before I sleep” - [...]'),\n",
       " Description(de: '\u001b[94m\"... auferstanden von den Toten\"? Die Debatten um die historische Wahrheit, religiöse Bedeutung und dogmatische Interpretation der sogenannten Auferstehung Jesu in der protestantischen Theologie der Neuzeit\u001b[0m.  „Er ist auferstanden. Er ist wahrhaftig auferstanden!“. Der [...]'),\n",
       " Description(de: '\u001b[94m\"...herrlicher als die Werke der alten Römer\". Bronzewerke des Mittelalters und der Frühen Neuzeit\u001b[0m.  Die Bronzetüren Karls des Großen in Aachen, der Braunschweiger [...]'),\n",
       " Description(de: '\u001b[94m\"...und dein Fremder in deinen Toren.\" (Ex 20,10) - Christlich-ethische Zugänge zum Thema Flucht und Migration.\u001b[0m.  Die Themen Migration und Flucht sind in den vergangenen Jahren [...]'),\n",
       " Description(de: '\u001b[94m\"Auf den Anfang kommt es an...\"\u001b[0m.  Dem Übergang von der Kita in die Grundschule wird seit den [...]'),\n",
       " Description(de: '\u001b[94m\"Balu und Du\" - Präventionsprojekt für benachteiligte Kinder\u001b[0m.  Wenn Sie sich vorstellen können, für ein Kind, das in einer [...]'),\n",
       " Description(de: '\u001b[94m\"Balu und Du\" - Präventionsprojekt für benachteiligte Kinder (Praxis- u. Studienprojekt)\u001b[0m.  Die vier angegebenen Zeiten werden zur Auswahl angeboten! [...]'),\n",
       " Description(de: '\u001b[94m\"Balu und Du\" -.ein Präventionsprojekt für Kinder  (Soziales Engagement im Studium integriert; angegebene Termin zur Auswahl)\u001b[0m.  Die vier angegebenen Termine werden zur Auswahl angeboten! [...]'),\n",
       " Description(de: '\u001b[94m\"Blaustrümpfe?!\" - Der (männliche) Blick auf die denkende Frau\u001b[0m.  \"Blaustrumpf: Ausdruck der Verachtung für alle Frauen mit [...]')]"
      ]
     },
     "execution_count": 102,
     "metadata": {},
     "output_type": "execute_result"
    }
   ],
   "source": [
    "wrongs = np.where(~(clfs[0][0].predict(clfs[1].values) == clfs[2]))[1]\n",
    "len(wrongs)\n",
    "[descriptions._descriptions[i] for i in wrongs][:10]"
   ]
  },
  {
   "cell_type": "markdown",
   "id": "fa7c754d-8e7a-426b-868a-425fe07aca48",
   "metadata": {},
   "source": [
    "<br><br>\n",
    "**...unfortunately not showing that only descriptions like \"Tutors: xyz\" are misclassified**"
   ]
  }
 ],
 "metadata": {
  "kernelspec": {
   "display_name": "Python 3 (ipykernel)",
   "language": "python",
   "name": "python3"
  },
  "language_info": {
   "codemirror_mode": {
    "name": "ipython",
    "version": 3
   },
   "file_extension": ".py",
   "mimetype": "text/x-python",
   "name": "python",
   "nbconvert_exporter": "python",
   "pygments_lexer": "ipython3",
   "version": "3.10.0"
  },
  "widgets": {
   "application/vnd.jupyter.widget-state+json": {
    "state": {},
    "version_major": 2,
    "version_minor": 0
   }
  }
 },
 "nbformat": 4,
 "nbformat_minor": 5
}
