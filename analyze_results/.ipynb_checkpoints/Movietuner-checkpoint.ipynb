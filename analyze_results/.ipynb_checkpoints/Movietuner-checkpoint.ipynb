{
 "cells": [
  {
   "cell_type": "code",
   "execution_count": 1,
   "id": "8a10720f-8167-43b3-a1a1-38eeb5135999",
   "metadata": {},
   "outputs": [],
   "source": [
    "import matplotlib.pyplot as plt\n",
    "import pandas as pd\n",
    "from IPython.display import HTML\n",
    "import pyperclip\n",
    "\n",
    "from misc_util.logutils import setup_logging\n",
    "from misc_util.pretty_print import Markdown, display\n",
    "\n",
    "from derive_conceptualspace.pipeline import SnakeContext, load_envfiles, cluster_loader\n",
    "from derive_conceptualspace.util.result_analysis_tools import getfiles_allconfigs, display_metrics, show_lambda_elements, highlight_nonzero_max\n",
    "from derive_conceptualspace.settings import DEFAULT_N_CPUS\n",
    "from derive_conceptualspace.util.threadworker import WorkerPool\n",
    "from derive_conceptualspace.cli.args_from_filename import get_filename, print_envvars\n",
    "from derive_conceptualspace.util.desc_object import DescriptionList\n",
    "\n",
    "plt.rcParams['figure.figsize'] = [16, 10]"
   ]
  },
  {
   "cell_type": "code",
   "execution_count": 2,
   "id": "bbefd490-33ff-4f0a-ae55-a06eeed84fff",
   "metadata": {},
   "outputs": [],
   "source": [
    "setup_logging()\n",
    "load_envfiles(\"placetypes\")\n",
    "configs, print_cnf = getfiles_allconfigs(\"clusters\", verbose=False, parse_all=True)"
   ]
  },
  {
   "cell_type": "code",
   "execution_count": 3,
   "id": "a6efdcc7-faf3-4e60-b2cc-c8206e519acb",
   "metadata": {},
   "outputs": [
    {
     "data": {
      "text/markdown": [
       "<span style=\"font-size:11pt\">env_vars demanded config EMBED_DIMENSIONS to be <span style=\"color: #ff0000\">200</span>, but force overwrites it to <span style=\"color: #0000ff\">50</span></span>"
      ],
      "text/plain": [
       "<IPython.core.display.Markdown object>"
      ]
     },
     "metadata": {},
     "output_type": "display_data"
    },
    {
     "data": {
      "text/markdown": [
       "<span style=\"font-size:11pt\">env_vars demanded config CLASSIFIER_SUCCMETRIC to be <span style=\"color: #ff0000\">kappa_digitized_onlypos_2</span>, but force overwrites it to <span style=\"color: #0000ff\">kappa_rank2rank_onlypos_max</span></span>"
      ],
      "text/plain": [
       "<IPython.core.display.Markdown object>"
      ]
     },
     "metadata": {},
     "output_type": "display_data"
    },
    {
     "data": {
      "text/markdown": [
       "<span style=\"font-size:11pt\">Running with the following settings [<span style=\"color: #00ff00\">a3e25b6709</span>]: ALL_DESCRIPTIONS_LANG: <span style=\"color: #ff0000\">en</span>, CANDIDATE_MIN_TERM_COUNT: <span style=\"color: #ff0000\">50</span>, CANDS_USE_NDOCS_COUNT: <span style=\"color: #0000ff\">True</span>, CLASSIFIER: <span style=\"color: #0000ff\">SVM</span>, CLASSIFIER_SUCCMETRIC: <span style=\"color: #0000ff\">kappa_rank2rank_onlypos_max</span>, CLUSTER_DIRECTION_ALGO: <span style=\"color: #0000ff\">reclassify</span>, DATASET: <span style=\"color: #ff0000\">placetypes</span>, DCM_QUANT_MEASURE: <span style=\"color: #0000ff\">count</span>, DEBUG: <span style=\"color: #0000ff\">False</span>, DISSIM_MAT_ONLY_PARTNERED: <span style=\"color: #0000ff\">True</span>, DISSIM_MEASURE: <span style=\"color: #0000ff\">norm_ang_dist</span>, EMBED_ALGO: <span style=\"color: #0000ff\">mds</span>, EMBED_DIMENSIONS: <span style=\"color: #ff0000\">50</span>, EXTRACTION_METHOD: <span style=\"color: #ff0000\">all</span>, KAPPA_WEIGHTS: <span style=\"color: #0000ff\">quadratic</span>, LANGUAGE: <span style=\"color: #ff0000\">en</span>, MAX_NGRAM: <span style=\"color: #ff0000\">None</span>, MIN_WORDS_PER_DESC: <span style=\"color: #0000ff\">50</span>, MOST_DISTINCT_PERCENT: <span style=\"color: #0000ff\">30</span>, NDIMS_NCANDS_FACTOR: <span style=\"color: #0000ff\">2</span>, NGRAMS_IN_EMBEDDING: <span style=\"color: #0000ff\">False</span>, PP_COMPONENTS: <span style=\"color: #ff0000\">none</span>, PREPROCESSED_BOW: <span style=\"color: #ff0000\">True</span>, PRIM_LAMBDA: <span style=\"color: #0000ff\">0.5</span>, QUANTIFICATION_MEASURE: <span style=\"color: #ff0000\">ppmi</span>, RANDOM_SEED: <span style=\"color: #ff0000\">None</span>, SEC_LAMBDA: <span style=\"color: #0000ff\">0.1</span>, TRANSLATE_POLICY: <span style=\"color: #0000ff\">onlyorig</span></span>"
      ],
      "text/plain": [
       "<IPython.core.display.Markdown object>"
      ]
     },
     "metadata": {},
     "output_type": "display_data"
    }
   ],
   "source": [
    "loaders = dict(clusters=cluster_loader, embedding=lambda **args: args[\"embedding\"].embedding_, pp_descriptions=DescriptionList.from_json)\n",
    "clusters, embedding, descriptions = SnakeContext.loader_context(config=configs[0]).load(\"clusters\", \"embedding\", \"pp_descriptions\", loaders=loaders)\n",
    "clusters, planes = clusters.values()"
   ]
  },
  {
   "cell_type": "code",
   "execution_count": 4,
   "id": "adac8f87-5189-4b03-a983-8833c8c6febd",
   "metadata": {},
   "outputs": [
    {
     "name": "stdout",
     "output_type": "stream",
     "text": [
      "Highest-ranking descriptions per dimension:\n",
      "    isawyoufirst           : beach\n",
      "    workspace              : office\n",
      "    nutrition              : restaurant\n",
      "    goalie                 : stadium\n",
      "    pumper                 : building\n",
      "    starwoodhotels         : hotel room\n",
      "    interstate10           : highway\n",
      "    urban                  : interior\n",
      "    tuolumne               : creek\n",
      "    cabs                   : downtown\n",
      "    investment             : school\n",
      "    stripmall              : downtown\n",
      "    michiganstateuniversity: school\n",
      "    ews                    : railroad\n",
      "    anchored               : boat\n",
      "    a10                    : airport\n",
      "    wc2                    : restaurant\n",
      "    airbase                : airport\n",
      "    joshuatreenationalpark : canyon\n",
      "    clinker                : building\n"
     ]
    }
   ],
   "source": [
    "axis_dists = [{k: v.dist(embedding[i]) for k, v in planes.items()} for i in range(len(embedding))]\n",
    "best_per_dim = {k: descriptions._descriptions[v].title for k, v in pd.DataFrame(axis_dists).idxmax().to_dict().items()}\n",
    "print(\"Highest-ranking descriptions per dimension:\\n    \"+\"\\n    \".join([f\"{k.ljust(max([len(i) for i in best_per_dim.keys()][:20]))}: {v}\" for k, v in best_per_dim.items()][:20]))"
   ]
  },
  {
   "cell_type": "code",
   "execution_count": null,
   "id": "c29d850f-370f-4e5d-9f9d-44932d6e7fc7",
   "metadata": {},
   "outputs": [],
   "source": []
  }
 ],
 "metadata": {
  "kernelspec": {
   "display_name": "Python 3 (ipykernel)",
   "language": "python",
   "name": "python3"
  },
  "language_info": {
   "codemirror_mode": {
    "name": "ipython",
    "version": 3
   },
   "file_extension": ".py",
   "mimetype": "text/x-python",
   "name": "python",
   "nbconvert_exporter": "python",
   "pygments_lexer": "ipython3",
   "version": "3.10.0"
  },
  "widgets": {
   "application/vnd.jupyter.widget-state+json": {
    "state": {},
    "version_major": 2,
    "version_minor": 0
   }
  }
 },
 "nbformat": 4,
 "nbformat_minor": 5
}
