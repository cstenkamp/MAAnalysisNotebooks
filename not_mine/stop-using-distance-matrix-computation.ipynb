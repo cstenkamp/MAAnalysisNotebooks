{
 "cells": [
  {
   "cell_type": "markdown",
   "metadata": {},
   "source": [
    "# It's all wrong!"
   ]
  },
  {
   "cell_type": "code",
   "execution_count": 1,
   "metadata": {
    "_cell_guid": "b1076dfc-b9ad-4769-8c92-a6c4dae69d19",
    "_uuid": "8f2839f25d086af736a60e9eeb907d3b93b6e0e5"
   },
   "outputs": [],
   "source": [
    "# This Python 3 environment comes with many helpful analytics libraries installed\n",
    "# It is defined by the kaggle/python docker image: https://github.com/kaggle/docker-python\n",
    "# For example, here's several helpful packages to load in \n",
    "\n",
    "import numpy as np # linear algebra\n",
    "import pandas as pd # data processing, CSV file I/O (e.g. pd.read_csv)\n",
    "from tqdm import tqdm_notebook\n",
    "\n",
    "# Input data files are available in the \"../input/\" directory.\n",
    "# For example, running this (by clicking run or pressing Shift+Enter) will list the files in the input directory"
   ]
  },
  {
   "cell_type": "code",
   "execution_count": 2,
   "metadata": {},
   "outputs": [
    {
     "data": {
      "text/html": [
       "<div>\n",
       "<style scoped>\n",
       "    .dataframe tbody tr th:only-of-type {\n",
       "        vertical-align: middle;\n",
       "    }\n",
       "\n",
       "    .dataframe tbody tr th {\n",
       "        vertical-align: top;\n",
       "    }\n",
       "\n",
       "    .dataframe thead th {\n",
       "        text-align: right;\n",
       "    }\n",
       "</style>\n",
       "<table border=\"1\" class=\"dataframe\">\n",
       "  <thead>\n",
       "    <tr style=\"text-align: right;\">\n",
       "      <th></th>\n",
       "      <th>molecule_name</th>\n",
       "      <th>atom_index</th>\n",
       "      <th>atom</th>\n",
       "      <th>x</th>\n",
       "      <th>y</th>\n",
       "      <th>z</th>\n",
       "    </tr>\n",
       "  </thead>\n",
       "  <tbody>\n",
       "    <tr>\n",
       "      <th>0</th>\n",
       "      <td>dsgdb9nsd_000001</td>\n",
       "      <td>0</td>\n",
       "      <td>C</td>\n",
       "      <td>-0.012698</td>\n",
       "      <td>1.085804</td>\n",
       "      <td>0.008001</td>\n",
       "    </tr>\n",
       "    <tr>\n",
       "      <th>1</th>\n",
       "      <td>dsgdb9nsd_000001</td>\n",
       "      <td>1</td>\n",
       "      <td>H</td>\n",
       "      <td>0.002150</td>\n",
       "      <td>-0.006031</td>\n",
       "      <td>0.001976</td>\n",
       "    </tr>\n",
       "    <tr>\n",
       "      <th>2</th>\n",
       "      <td>dsgdb9nsd_000001</td>\n",
       "      <td>2</td>\n",
       "      <td>H</td>\n",
       "      <td>1.011731</td>\n",
       "      <td>1.463751</td>\n",
       "      <td>0.000277</td>\n",
       "    </tr>\n",
       "    <tr>\n",
       "      <th>3</th>\n",
       "      <td>dsgdb9nsd_000001</td>\n",
       "      <td>3</td>\n",
       "      <td>H</td>\n",
       "      <td>-0.540815</td>\n",
       "      <td>1.447527</td>\n",
       "      <td>-0.876644</td>\n",
       "    </tr>\n",
       "    <tr>\n",
       "      <th>4</th>\n",
       "      <td>dsgdb9nsd_000001</td>\n",
       "      <td>4</td>\n",
       "      <td>H</td>\n",
       "      <td>-0.523814</td>\n",
       "      <td>1.437933</td>\n",
       "      <td>0.906397</td>\n",
       "    </tr>\n",
       "  </tbody>\n",
       "</table>\n",
       "</div>"
      ],
      "text/plain": [
       "      molecule_name  atom_index atom         x         y         z\n",
       "0  dsgdb9nsd_000001           0    C -0.012698  1.085804  0.008001\n",
       "1  dsgdb9nsd_000001           1    H  0.002150 -0.006031  0.001976\n",
       "2  dsgdb9nsd_000001           2    H  1.011731  1.463751  0.000277\n",
       "3  dsgdb9nsd_000001           3    H -0.540815  1.447527 -0.876644\n",
       "4  dsgdb9nsd_000001           4    H -0.523814  1.437933  0.906397"
      ]
     },
     "execution_count": 2,
     "metadata": {},
     "output_type": "execute_result"
    }
   ],
   "source": [
    "structures = pd.read_csv('./structures.csv', delimiter=\";\")\n",
    "structures.head()"
   ]
  },
  {
   "cell_type": "code",
   "execution_count": 3,
   "metadata": {},
   "outputs": [],
   "source": [
    "xyz = structures[['x','y','z']].values"
   ]
  },
  {
   "cell_type": "code",
   "execution_count": 4,
   "metadata": {},
   "outputs": [
    {
     "data": {
      "text/plain": [
       "molecule_name\n",
       "dsgdb9nsd_000001     5\n",
       "dsgdb9nsd_000002     9\n",
       "dsgdb9nsd_000003    12\n",
       "dsgdb9nsd_000004    16\n",
       "dsgdb9nsd_000005    19\n",
       "dsgdb9nsd_000007    27\n",
       "dsgdb9nsd_000008    30\n",
       "dsgdb9nsd_133884    44\n",
       "dsgdb9nsd_133885    60\n",
       "dtype: int64"
      ]
     },
     "execution_count": 4,
     "metadata": {},
     "output_type": "execute_result"
    }
   ],
   "source": [
    "ss = structures.groupby('molecule_name').size()\n",
    "ss = ss.cumsum()\n",
    "ss"
   ]
  },
  {
   "cell_type": "code",
   "execution_count": 5,
   "metadata": {},
   "outputs": [
    {
     "data": {
      "text/plain": [
       "array([ 0,  5,  9, 12, 16, 19, 27, 30, 44, 60])"
      ]
     },
     "execution_count": 5,
     "metadata": {},
     "output_type": "execute_result"
    }
   ],
   "source": [
    "ssx = np.zeros(len(ss) + 1, 'int')\n",
    "ssx[1:] = ss\n",
    "ssx"
   ]
  },
  {
   "cell_type": "code",
   "execution_count": 6,
   "metadata": {},
   "outputs": [
    {
     "name": "stdout",
     "output_type": "stream",
     "text": [
      "dsgdb9nsd_000007\n"
     ]
    },
    {
     "data": {
      "text/plain": [
       "array([[-0.018704,  1.525582,  0.010433],\n",
       "       [ 0.002104, -0.003882,  0.001999],\n",
       "       [ 0.994873,  1.939743,  0.002941],\n",
       "       [-0.542076,  1.923611, -0.865117],\n",
       "       [-0.525241,  1.914173,  0.900024],\n",
       "       [ 0.525487, -0.401908,  0.877544],\n",
       "       [-1.011477, -0.418034,  0.009508],\n",
       "       [ 0.508626, -0.39247 , -0.887601]])"
      ]
     },
     "execution_count": 6,
     "metadata": {},
     "output_type": "execute_result"
    }
   ],
   "source": [
    "molecule_id = 5\n",
    "print(ss.index[molecule_id])\n",
    "start_molecule = ssx[molecule_id]\n",
    "end_molecule = ssx[molecule_id+1]\n",
    "xyz[start_molecule:end_molecule]"
   ]
  },
  {
   "cell_type": "markdown",
   "metadata": {},
   "source": [
    "We can compare with the information we get from the original pandas dataframe"
   ]
  },
  {
   "cell_type": "code",
   "execution_count": 7,
   "metadata": {},
   "outputs": [],
   "source": [
    "structures_idx = structures.set_index('molecule_name')"
   ]
  },
  {
   "cell_type": "code",
   "execution_count": 8,
   "metadata": {},
   "outputs": [
    {
     "data": {
      "text/plain": [
       "array([[-1.269800e-02,  1.085804e+00,  8.001000e-03],\n",
       "       [ 2.150000e-03, -6.031000e-03,  1.976000e-03],\n",
       "       [ 1.011731e+00,  1.463751e+00,  2.770000e-04],\n",
       "       [-5.408150e-01,  1.447527e+00, -8.766440e-01],\n",
       "       [-5.238140e-01,  1.437933e+00,  9.063970e-01]])"
      ]
     },
     "execution_count": 8,
     "metadata": {},
     "output_type": "execute_result"
    }
   ],
   "source": [
    "structures_idx.loc['dsgdb9nsd_000001'][['x', 'y', 'z']].values"
   ]
  },
  {
   "cell_type": "markdown",
   "metadata": {},
   "source": [
    "Looks good.\n",
    "\n",
    "We can now rewrite our function using our arrays.\n"
   ]
  },
  {
   "cell_type": "code",
   "execution_count": 17,
   "metadata": {},
   "outputs": [],
   "source": [
    "def get_fast_dist_matrix(xyz, ssx, molecule_id):\n",
    "    start_molecule, end_molecule = ssx[molecule_id], ssx[molecule_id+1]\n",
    "    locs = xyz[start_molecule:end_molecule]    \n",
    "    print(\"locs\", locs)\n",
    "    num_atoms = end_molecule - start_molecule\n",
    "    print(\"num_atoms\", num_atoms)\n",
    "    loc_tile = np.tile(locs.T, (num_atoms,1,1))\n",
    "    print(\"loc_tile\", loc_tile)\n",
    "    dist_mat = np.sqrt((loc_tile - loc_tile.T)**2).sum(axis=1)\n",
    "    return dist_mat"
   ]
  },
  {
   "cell_type": "markdown",
   "metadata": {},
   "source": [
    "Let's check we get the same result with both techniques.  We use methane, molecule_id=0"
   ]
  },
  {
   "cell_type": "code",
   "execution_count": 18,
   "metadata": {},
   "outputs": [
    {
     "name": "stdout",
     "output_type": "stream",
     "text": [
      "dsgdb9nsd_000001\n",
      "locs [[-1.269800e-02  1.085804e+00  8.001000e-03]\n",
      " [ 2.150000e-03 -6.031000e-03  1.976000e-03]\n",
      " [ 1.011731e+00  1.463751e+00  2.770000e-04]\n",
      " [-5.408150e-01  1.447527e+00 -8.766440e-01]\n",
      " [-5.238140e-01  1.437933e+00  9.063970e-01]]\n",
      "num_atoms 5\n",
      "loc_tile [[[-1.269800e-02  2.150000e-03  1.011731e+00 -5.408150e-01 -5.238140e-01]\n",
      "  [ 1.085804e+00 -6.031000e-03  1.463751e+00  1.447527e+00  1.437933e+00]\n",
      "  [ 8.001000e-03  1.976000e-03  2.770000e-04 -8.766440e-01  9.063970e-01]]\n",
      "\n",
      " [[-1.269800e-02  2.150000e-03  1.011731e+00 -5.408150e-01 -5.238140e-01]\n",
      "  [ 1.085804e+00 -6.031000e-03  1.463751e+00  1.447527e+00  1.437933e+00]\n",
      "  [ 8.001000e-03  1.976000e-03  2.770000e-04 -8.766440e-01  9.063970e-01]]\n",
      "\n",
      " [[-1.269800e-02  2.150000e-03  1.011731e+00 -5.408150e-01 -5.238140e-01]\n",
      "  [ 1.085804e+00 -6.031000e-03  1.463751e+00  1.447527e+00  1.437933e+00]\n",
      "  [ 8.001000e-03  1.976000e-03  2.770000e-04 -8.766440e-01  9.063970e-01]]\n",
      "\n",
      " [[-1.269800e-02  2.150000e-03  1.011731e+00 -5.408150e-01 -5.238140e-01]\n",
      "  [ 1.085804e+00 -6.031000e-03  1.463751e+00  1.447527e+00  1.437933e+00]\n",
      "  [ 8.001000e-03  1.976000e-03  2.770000e-04 -8.766440e-01  9.063970e-01]]\n",
      "\n",
      " [[-1.269800e-02  2.150000e-03  1.011731e+00 -5.408150e-01 -5.238140e-01]\n",
      "  [ 1.085804e+00 -6.031000e-03  1.463751e+00  1.447527e+00  1.437933e+00]\n",
      "  [ 8.001000e-03  1.976000e-03  2.770000e-04 -8.766440e-01  9.063970e-01]]]\n"
     ]
    },
    {
     "data": {
      "text/plain": [
       "array([[0.      , 1.112708, 1.4101  , 1.774485, 1.761641],\n",
       "       [1.112708, 0.      , 2.481062, 2.875143, 2.874349],\n",
       "       [1.4101  , 2.481062, 0.      , 2.445691, 2.467483],\n",
       "       [1.774485, 2.875143, 2.445691, 0.      , 1.809636],\n",
       "       [1.761641, 2.874349, 2.467483, 1.809636, 0.      ]])"
      ]
     },
     "execution_count": 18,
     "metadata": {},
     "output_type": "execute_result"
    }
   ],
   "source": [
    "molecule_id = 0\n",
    "molecule = ss.index[molecule_id]\n",
    "print(molecule)\n",
    "get_fast_dist_matrix(xyz, ssx, molecule_id)"
   ]
  },
  {
   "cell_type": "code",
   "execution_count": 19,
   "metadata": {},
   "outputs": [],
   "source": [
    "e1 = np.array([-1.269800e-02, 1.085804e+00, 8.001000e-03])\n",
    "e2 = np.array([2.150000e-03, -6.031000e-03, 1.976000e-03])"
   ]
  },
  {
   "cell_type": "code",
   "execution_count": 22,
   "metadata": {},
   "outputs": [
    {
     "data": {
      "text/plain": [
       "-0.9015418463421857"
      ]
     },
     "execution_count": 22,
     "metadata": {},
     "output_type": "execute_result"
    }
   ],
   "source": [
    "np.dot(e1, e2) / (np.linalg.norm(e1) * np.linalg.norm(e2))"
   ]
  },
  {
   "cell_type": "code",
   "execution_count": 33,
   "metadata": {},
   "outputs": [
    {
     "ename": "NameError",
     "evalue": "name 'locs' is not defined",
     "output_type": "error",
     "traceback": [
      "\u001b[0;31m---------------------------------------------------------------------------\u001b[0m",
      "\u001b[0;31mNameError\u001b[0m                                 Traceback (most recent call last)",
      "\u001b[0;32m<ipython-input-33-7b721c40aa6e>\u001b[0m in \u001b[0;36m<module>\u001b[0;34m\u001b[0m\n\u001b[0;32m----> 1\u001b[0;31m \u001b[0mlocs\u001b[0m\u001b[0;34m\u001b[0m\u001b[0;34m\u001b[0m\u001b[0m\n\u001b[0m",
      "\u001b[0;31mNameError\u001b[0m: name 'locs' is not defined"
     ]
    }
   ],
   "source": [
    "locs"
   ]
  },
  {
   "cell_type": "code",
   "execution_count": null,
   "metadata": {},
   "outputs": [],
   "source": [
    "loc_tile = np.tile(locs.T, (num_atoms,1,1))\n",
    "dist_mat = np.sqrt((loc_tile - loc_tile.T)**2).sum(axis=1)\n",
    "return dist_mat"
   ]
  },
  {
   "cell_type": "code",
   "execution_count": 28,
   "metadata": {},
   "outputs": [],
   "source": [
    "from math import sqrt\n",
    "epsilon = 1e-5"
   ]
  },
  {
   "cell_type": "code",
   "execution_count": 32,
   "metadata": {},
   "outputs": [
    {
     "name": "stdout",
     "output_type": "stream",
     "text": [
      "0\n",
      "[[0.         1.09195258 1.09195163 1.09194683 1.0919477 ]\n",
      " [1.09195258 0.         1.78311968 1.78314749 1.78315661]\n",
      " [1.09195163 1.78311968 0.         1.78315808 1.78314847]\n",
      " [1.09194683 1.78314749 1.78315808 0.         1.78314786]\n",
      " [1.0919477  1.78315661 1.78314847 1.78314786 0.        ]]\n",
      "\n",
      "\n",
      "1\n",
      "[[0.         1.01719045 1.01718669 1.01720842]\n",
      " [1.01719045 0.         1.61852281 1.61871018]\n",
      " [1.01718669 1.61852281 0.         1.61870556]\n",
      " [1.01720842 1.61871018 1.61870556 0.        ]]\n",
      "\n",
      "\n",
      "2\n",
      "[[0.         0.96210734 0.96210572]\n",
      " [0.96210734 0.         1.51335775]\n",
      " [0.96210572 1.51335775 0.        ]]\n",
      "\n",
      "\n",
      "3\n",
      "[[0.       1.199078 2.261178 1.0621  ]\n",
      " [1.199078 0.       1.0621   2.261178]\n",
      " [2.261178 1.0621   0.       3.323278]\n",
      " [1.0621   2.261178 3.323278 0.      ]]\n",
      "\n",
      "\n",
      "4\n",
      "[[0.         1.15174862 1.06659748]\n",
      " [1.15174862 0.         2.2183461 ]\n",
      " [1.06659748 2.2183461  0.        ]]\n",
      "\n",
      "\n",
      "5\n",
      "[[0.         1.52962879 1.09495379 1.09495805 1.09496797 2.18248552\n",
      "  2.18248534 2.18253648]\n",
      " [1.52962879 0.         2.18249154 2.18248741 2.18253903 1.09495822\n",
      "  1.0949542  1.09496727]\n",
      " [1.09495379 2.18249154 0.         1.76521873 1.76526437 2.54334092\n",
      "  3.09589984 2.54336759]\n",
      " [1.09495805 2.18248741 1.76521873 0.         1.76524651 3.09589999\n",
      "  2.54334573 2.54336616]\n",
      " [1.09496797 2.18253903 1.76526437 1.76524651 0.         2.54337687\n",
      "  2.54335088 3.09597901]\n",
      " [2.18248552 1.09495822 2.54334092 3.09589999 2.54337687 0.\n",
      "  1.76522092 1.76525076]\n",
      " [2.18248534 1.0949542  3.09589984 2.54334573 2.54335088 1.76522092\n",
      "  0.         1.76526803]\n",
      " [2.18253648 1.09496727 2.54336759 2.54336616 3.09597901 1.76525076\n",
      "  1.76526803 0.        ]]\n",
      "\n",
      "\n",
      "6\n",
      "[[0.         1.41575209 1.10034112]\n",
      " [1.41575209 0.         2.10177123]\n",
      " [1.10034112 2.10177123 0.        ]]\n",
      "\n",
      "\n",
      "7\n",
      "[[0.         1.5532638  2.24442887 2.42369236 1.53282904 4.40217872\n",
      "  4.4021685  3.24354677 2.30653509 1.08342055 2.20948942 2.20948895\n",
      "  3.24353413 2.30653841]\n",
      " [1.5532638  0.         1.52000792 2.50304999 2.54053765 3.60119457\n",
      "  3.60119076 3.15856602 3.49521392 2.30549102 1.09429236 1.09429272\n",
      "  3.158562   3.49522584]\n",
      " [2.24442887 1.52000792 0.         1.54251772 2.34424054 2.27823353\n",
      "  2.27823494 2.3048616  3.39742072 3.29732846 2.21174977 2.21175512\n",
      "  2.30486041 3.39742427]\n",
      " [2.42369236 2.50304999 1.54251772 0.         1.50993009 3.12382601\n",
      "  2.46962348 3.07295729 3.29253663 3.41792038 2.90279588 3.47057996\n",
      "  1.09048043 2.31220253]\n",
      " [1.53282904 2.54053765 2.34424054 1.50993009 0.         4.27705207\n",
      "  3.945753   3.35874786 2.29324811 2.27621242 3.03320926 3.44881161\n",
      "  2.2663794  1.08099684]\n",
      " [4.40217872 3.60119457 2.27823353 3.12382601 4.27705207 0.\n",
      "  1.80442291 2.37923908 4.77302692 5.45326093 4.22562849 3.82573115\n",
      "  3.60622472 5.26028352]\n",
      " [4.4021685  3.60119076 2.27823494 2.46962348 3.945753   1.80442291\n",
      "  0.         3.60624504 5.26029004 5.45324912 3.82570959 4.22564181\n",
      "  2.37921003 4.77300719]\n",
      " [3.24354677 3.15856602 2.3048616  3.07295729 3.35874786 2.37923908\n",
      "  3.60624504 0.         2.74496838 4.13559677 4.1905306  3.20901042\n",
      "  4.07012153 4.30841751]\n",
      " [2.30653509 3.49521392 3.39742072 3.29253663 2.29324811 4.77302692\n",
      "  5.26029004 2.74496838 0.         2.66239968 4.40793272 3.8203506\n",
      "  4.30842345 2.70941208]\n",
      " [1.08342055 2.30549102 3.29732846 3.41792038 2.27621242 5.45326093\n",
      "  5.45324912 4.13559677 2.66239968 0.         2.70945473 2.70945126\n",
      "  4.13558368 2.66240579]\n",
      " [2.20948942 1.09429236 2.21174977 2.90279588 3.03320926 4.22562849\n",
      "  3.82570959 4.1905306  4.40793272 2.70945473 0.         1.7844243\n",
      "  3.20900207 3.8203721 ]\n",
      " [2.20948895 1.09429272 2.21175512 3.47057996 3.44881161 3.82573115\n",
      "  4.22564181 3.20901042 3.8203506  2.70945126 1.7844243  0.\n",
      "  4.19053016 4.4079397 ]\n",
      " [3.24353413 3.158562   2.30486041 1.09048043 2.2663794  3.60622472\n",
      "  2.37921003 4.07012153 4.30842345 4.13558368 3.20900207 4.19053016\n",
      "  0.         2.74496808]\n",
      " [2.30653841 3.49522584 3.39742427 2.31220253 1.08099684 5.26028352\n",
      "  4.77300719 4.30841751 2.70941208 2.66240579 3.8203721  4.4079397\n",
      "  2.74496808 0.        ]]\n",
      "\n",
      "\n",
      "8\n",
      "[[0.         1.55442555 2.13359679 3.41077676 3.60792744 2.87300674\n",
      "  1.54066691 2.13359012 3.41077356 1.09182572 1.09182681 2.53265793\n",
      "  4.37915161 4.64982513 2.53264542 4.37914829]\n",
      " [1.55442555 0.         1.56309702 2.59962507 3.32117306 3.24016561\n",
      "  1.91136595 1.56309754 2.59962981 2.22595876 2.22595934 2.24829417\n",
      "  3.42424991 4.39379251 2.24829602 3.42425861]\n",
      " [2.13359679 1.56309702 0.         1.5032724  2.37662857 2.42805433\n",
      "  1.53118255 2.05227364 2.31911565 2.48109353 3.14210835 1.08820374\n",
      "  2.31557335 3.37896554 3.09389489 3.31353565]\n",
      " [3.41077676 2.59962507 1.5032724  0.         1.53773895 2.46737798\n",
      "  2.28845639 2.31911279 1.51951614 3.93768855 4.27287543 2.26444158\n",
      "  1.08048175 2.32454732 3.367226   2.30797819]\n",
      " [3.60792744 3.32117306 2.37662857 1.53773895 0.         1.43225417\n",
      "  2.10295956 2.37663574 1.53773998 4.27620563 4.27620672 3.19278747\n",
      "  2.31497781 1.080551   3.19279691 2.31497743]\n",
      " [2.87300674 3.24016561 2.42805433 2.46737798 1.43225417 0.\n",
      "  1.41038384 2.42805546 2.46737122 3.45846641 3.45846791 3.08479639\n",
      "  3.41086368 2.11316177 3.08479553 3.41085358]\n",
      " [1.54066691 1.91136595 1.53118255 2.28845639 2.10295956 1.41038384\n",
      "  0.         1.53118284 2.28845335 2.27327444 2.2732769  2.29895919\n",
      "  3.34389336 3.1192904  2.2989576  3.34388982]\n",
      " [2.13359012 1.56309754 2.05227364 2.31911279 2.37663574 2.42805546\n",
      "  1.53118284 0.         1.50327236 3.14210241 2.48108369 3.09389489\n",
      "  3.31352978 3.37897515 1.08820397 2.31557309]\n",
      " [3.41077356 2.59962981 2.31911565 1.51951614 1.53773998 2.46737122\n",
      "  2.28845335 1.50327236 0.         4.27287563 3.93767976 3.36722858\n",
      "  2.30797746 2.32455025 2.26444079 1.08048204]\n",
      " [1.09182572 2.22595876 2.48109353 3.93768855 4.27620563 3.45846641\n",
      "  2.27327444 3.14210241 4.27287563 0.         1.81117442 2.38902822\n",
      "  4.79050722 5.28249286 3.62076584 5.28266762]\n",
      " [1.09182681 2.22595934 3.14210835 4.27287543 4.27620672 3.45846791\n",
      "  2.2732769  2.48108369 3.93767976 1.81117442 0.         3.62077896\n",
      "  5.28266624 5.2824954  2.38900866 4.79049544]\n",
      " [2.53265793 2.24829417 1.08820374 2.26444158 3.19278747 3.08479639\n",
      "  2.29895919 3.09389489 3.36722858 2.38902822 3.62077896 0.\n",
      "  2.7550485  4.08193561 4.08717326 4.33335842]\n",
      " [4.37915161 3.42424991 2.31557335 1.08048175 2.31497781 3.41086368\n",
      "  3.34389336 3.31352978 2.30797746 4.79050722 5.28266624 2.7550485\n",
      "  0.         2.74031489 4.33335232 2.73726642]\n",
      " [4.64982513 4.39379251 3.37896554 2.32454732 1.080551   2.11316177\n",
      "  3.1192904  3.37897515 2.32455025 5.28249286 5.2824954  4.08193561\n",
      "  2.74031489 0.         4.08195017 2.74031676]\n",
      " [2.53264542 2.24829602 3.09389489 3.367226   3.19279691 3.08479553\n",
      "  2.2989576  1.08820397 2.26444079 3.62076584 2.38900866 4.08717326\n",
      "  4.33335232 4.08195017 0.         2.75504646]\n",
      " [4.37914829 3.42425861 3.31353565 2.30797819 2.31497743 3.41085358\n",
      "  3.34388982 2.31557309 1.08048204 5.28266762 4.79049544 4.33335842\n",
      "  2.73726642 2.74031676 2.75504646 0.        ]]\n",
      "\n",
      "\n"
     ]
    }
   ],
   "source": [
    "def numba_dist_matrix_ssert(xyz, ssx, molecule_id):\n",
    "    start_molecule, end_molecule = ssx[molecule_id], ssx[molecule_id+1]\n",
    "    locs = xyz[start_molecule:end_molecule]     \n",
    "   # return locs\n",
    "    num_atoms = end_molecule - start_molecule\n",
    "    dmat = np.zeros((num_atoms, num_atoms))\n",
    "    for i in range(num_atoms):\n",
    "        for j in range(i+1, num_atoms):\n",
    "            d = sqrt((locs[i,0] - locs[j,0])**2 + (locs[i,1] - locs[j,1])**2 + (locs[i,2] - locs[j,2])**2)\n",
    "            dmat[i,j] = d\n",
    "            dmat[j,i] = d\n",
    "    assert np.abs(dmat[0,1] - np.linalg.norm(locs[0] - locs[1])) < epsilon\n",
    "    return dmat\n",
    "\n",
    "for molecule_id in range(structures.molecule_name.nunique()):\n",
    "    print(molecule_id)\n",
    "    print(numba_dist_matrix_ssert(xyz, ssx, molecule_id))\n",
    "    print(\"\\n\")"
   ]
  },
  {
   "cell_type": "code",
   "execution_count": null,
   "metadata": {},
   "outputs": [],
   "source": []
  },
  {
   "cell_type": "markdown",
   "metadata": {},
   "source": [
    "# Okay, that is the distance matrix for molecule_id==0. Let's check which molecule it is."
   ]
  },
  {
   "cell_type": "code",
   "execution_count": 11,
   "metadata": {},
   "outputs": [
    {
     "name": "stdout",
     "output_type": "stream",
     "text": [
      "dsgdb9nsd_000001\n"
     ]
    }
   ],
   "source": [
    "print(ss.index[molecule_id])"
   ]
  },
  {
   "cell_type": "markdown",
   "metadata": {},
   "source": [
    "# As expected, it is dsgdb9nsd_000001. But we know it should be very symmetric with the same distances. Let's calculate it using the structures file."
   ]
  },
  {
   "cell_type": "code",
   "execution_count": 12,
   "metadata": {},
   "outputs": [
    {
     "data": {
      "text/html": [
       "<div>\n",
       "<style scoped>\n",
       "    .dataframe tbody tr th:only-of-type {\n",
       "        vertical-align: middle;\n",
       "    }\n",
       "\n",
       "    .dataframe tbody tr th {\n",
       "        vertical-align: top;\n",
       "    }\n",
       "\n",
       "    .dataframe thead th {\n",
       "        text-align: right;\n",
       "    }\n",
       "</style>\n",
       "<table border=\"1\" class=\"dataframe\">\n",
       "  <thead>\n",
       "    <tr style=\"text-align: right;\">\n",
       "      <th></th>\n",
       "      <th>molecule_name</th>\n",
       "      <th>atom_index</th>\n",
       "      <th>atom</th>\n",
       "      <th>x</th>\n",
       "      <th>y</th>\n",
       "      <th>z</th>\n",
       "    </tr>\n",
       "  </thead>\n",
       "  <tbody>\n",
       "    <tr>\n",
       "      <th>0</th>\n",
       "      <td>dsgdb9nsd_000001</td>\n",
       "      <td>0</td>\n",
       "      <td>C</td>\n",
       "      <td>-0.012698</td>\n",
       "      <td>1.085804</td>\n",
       "      <td>0.008001</td>\n",
       "    </tr>\n",
       "    <tr>\n",
       "      <th>1</th>\n",
       "      <td>dsgdb9nsd_000001</td>\n",
       "      <td>1</td>\n",
       "      <td>H</td>\n",
       "      <td>0.002150</td>\n",
       "      <td>-0.006031</td>\n",
       "      <td>0.001976</td>\n",
       "    </tr>\n",
       "    <tr>\n",
       "      <th>2</th>\n",
       "      <td>dsgdb9nsd_000001</td>\n",
       "      <td>2</td>\n",
       "      <td>H</td>\n",
       "      <td>1.011731</td>\n",
       "      <td>1.463751</td>\n",
       "      <td>0.000277</td>\n",
       "    </tr>\n",
       "    <tr>\n",
       "      <th>3</th>\n",
       "      <td>dsgdb9nsd_000001</td>\n",
       "      <td>3</td>\n",
       "      <td>H</td>\n",
       "      <td>-0.540815</td>\n",
       "      <td>1.447527</td>\n",
       "      <td>-0.876644</td>\n",
       "    </tr>\n",
       "    <tr>\n",
       "      <th>4</th>\n",
       "      <td>dsgdb9nsd_000001</td>\n",
       "      <td>4</td>\n",
       "      <td>H</td>\n",
       "      <td>-0.523814</td>\n",
       "      <td>1.437933</td>\n",
       "      <td>0.906397</td>\n",
       "    </tr>\n",
       "  </tbody>\n",
       "</table>\n",
       "</div>"
      ],
      "text/plain": [
       "      molecule_name  atom_index atom         x         y         z\n",
       "0  dsgdb9nsd_000001           0    C -0.012698  1.085804  0.008001\n",
       "1  dsgdb9nsd_000001           1    H  0.002150 -0.006031  0.001976\n",
       "2  dsgdb9nsd_000001           2    H  1.011731  1.463751  0.000277\n",
       "3  dsgdb9nsd_000001           3    H -0.540815  1.447527 -0.876644\n",
       "4  dsgdb9nsd_000001           4    H -0.523814  1.437933  0.906397"
      ]
     },
     "execution_count": 12,
     "metadata": {},
     "output_type": "execute_result"
    }
   ],
   "source": [
    "structures.loc[structures['molecule_name']=='dsgdb9nsd_000001']"
   ]
  },
  {
   "cell_type": "markdown",
   "metadata": {},
   "source": [
    "# Let's calculate the distances from the Carbon atom to the Hydrogens"
   ]
  },
  {
   "cell_type": "code",
   "execution_count": 13,
   "metadata": {},
   "outputs": [],
   "source": [
    "carbon_x = -0.012698\n",
    "carbon_y = 1.085804\n",
    "carbon_z = 0.008001"
   ]
  },
  {
   "cell_type": "code",
   "execution_count": 14,
   "metadata": {},
   "outputs": [],
   "source": [
    "def distance_from_carbon_to_xyz(xyz):\n",
    "    return np.sqrt( (carbon_x - xyz[0])**2 + (carbon_y - xyz[1])**2 + (carbon_z - xyz[2])**2)"
   ]
  },
  {
   "cell_type": "code",
   "execution_count": 15,
   "metadata": {},
   "outputs": [
    {
     "data": {
      "text/plain": [
       "0    2.084477e-07\n",
       "1    1.091953e+00\n",
       "2    1.091952e+00\n",
       "3    1.091947e+00\n",
       "4    1.091948e+00\n",
       "dtype: float64"
      ]
     },
     "execution_count": 15,
     "metadata": {},
     "output_type": "execute_result"
    }
   ],
   "source": [
    "structures.loc[structures['molecule_name']=='dsgdb9nsd_000001', ['x','y','z']].apply(distance_from_carbon_to_xyz, 1)"
   ]
  },
  {
   "cell_type": "markdown",
   "metadata": {},
   "source": [
    "# We can see the distances are 0 and 1.09 pretty much. Let's check the distance matrix again."
   ]
  },
  {
   "cell_type": "code",
   "execution_count": 16,
   "metadata": {},
   "outputs": [
    {
     "name": "stdout",
     "output_type": "stream",
     "text": [
      "dsgdb9nsd_000001\n"
     ]
    },
    {
     "data": {
      "text/plain": [
       "array([[0.        , 1.1127089 , 1.4101004 , 1.7744841 , 1.76164028],\n",
       "       [1.1127089 , 0.        , 2.48106245, 2.87514325, 2.87434919],\n",
       "       [1.4101004 , 2.48106245, 0.        , 2.44569075, 2.46748371],\n",
       "       [1.7744841 , 2.87514325, 2.44569075, 0.        , 1.80963641],\n",
       "       [1.76164028, 2.87434919, 2.46748371, 1.80963641, 0.        ]])"
      ]
     },
     "execution_count": 16,
     "metadata": {},
     "output_type": "execute_result"
    }
   ],
   "source": [
    "molecule_id = 0\n",
    "molecule = ss.index[molecule_id]\n",
    "print(molecule)\n",
    "get_fast_dist_matrix(xyz, ssx, molecule_id)"
   ]
  },
  {
   "cell_type": "markdown",
   "metadata": {},
   "source": [
    "# That distance is not there. Therefore the distance computation is wrong."
   ]
  }
 ],
 "metadata": {
  "kernelspec": {
   "display_name": "Python 3",
   "language": "python",
   "name": "python3"
  },
  "language_info": {
   "codemirror_mode": {
    "name": "ipython",
    "version": 3
   },
   "file_extension": ".py",
   "mimetype": "text/x-python",
   "name": "python",
   "nbconvert_exporter": "python",
   "pygments_lexer": "ipython3",
   "version": "3.8.8"
  }
 },
 "nbformat": 4,
 "nbformat_minor": 4
}
