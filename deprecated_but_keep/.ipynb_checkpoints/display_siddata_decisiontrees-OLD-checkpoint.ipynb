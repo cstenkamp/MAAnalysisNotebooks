{
 "cells": [
  {
   "cell_type": "code",
   "execution_count": 1,
   "id": "49c4bcd7-3c78-4eee-87f7-e43f8decd338",
   "metadata": {},
   "outputs": [],
   "source": [
    "from derive_conceptualspace.evaluate.shallow_trees import classify_shallowtree\n",
    "from derive_conceptualspace.pipeline import SnakeContext, load_envfiles\n",
    "from derive_conceptualspace.pipeline import cluster_loader\n",
    "from derive_conceptualspace.settings import DEFAULT_N_CPUS\n",
    "from derive_conceptualspace.util.desc_object import DescriptionList\n",
    "from derive_conceptualspace.util.result_analysis_tools import getfiles_allconfigs\n",
    "from derive_conceptualspace.util.threadworker import WorkerPool\n",
    "from misc_util.logutils import setup_logging\n",
    "from misc_util.pretty_print import display\n",
    "\n",
    "import warnings\n",
    "warnings.simplefilter(action='ignore', category=FutureWarning)"
   ]
  },
  {
   "cell_type": "code",
   "execution_count": 2,
   "id": "5bd9ca60-6c61-463f-adad-2dff3a23a8af",
   "metadata": {},
   "outputs": [
    {
     "data": {
      "text/markdown": [
       "<span style=\"font-size:11pt\">There are 66 different parameter-combis for dataset <span style=\"color: #0000ff\">siddata2022</span>:</span>"
      ],
      "text/plain": [
       "<IPython.core.display.Markdown object>"
      ]
     },
     "metadata": {},
     "output_type": "display_data"
    },
    {
     "data": {
      "text/plain": [
       "{'dataset': 'siddata2022',\n",
       " 'debug': 'False',\n",
       " 'kappa_weights': 'quadratic',\n",
       " 'embed_dimensions': ['3', '50', '200'],\n",
       " 'embed_algo': 'mds',\n",
       " 'quantification_measure': ['ppmi', 'tfidf'],\n",
       " 'translate_policy': 'onlyorig',\n",
       " 'dcm_quant_measure': ['count', 'ppmi', 'tfidf'],\n",
       " 'extraction_method': 'tfidf',\n",
       " 'language': 'de',\n",
       " 'pp_components': ['mfauhcsd2', 'mfauhtcsldp'],\n",
       " 'min_words_per_desc': '80',\n",
       " 'prim_lambda': '0.5',\n",
       " 'sec_lambda': '0.2',\n",
       " 'classifier_succmetric': ['kappa_count2rank_onlypos',\n",
       "  'kappa_digitized_onlypos_2',\n",
       "  'kappa_rank2rank_onlypos_min'],\n",
       " 'cluster_direction_algo': 'reclassify'}"
      ]
     },
     "metadata": {},
     "output_type": "display_data"
    }
   ],
   "source": [
    "setup_logging()\n",
    "load_envfiles(\"siddata\")\n",
    "configs, print_cnf = getfiles_allconfigs(\"clusters\", verbose=True)"
   ]
  },
  {
   "cell_type": "code",
   "execution_count": 3,
   "id": "0c538ca8-0404-47ff-bf56-1d665f2eb546",
   "metadata": {},
   "outputs": [
    {
     "name": "stderr",
     "output_type": "stream",
     "text": [
      "Fetching clusters.. [5 procs]: 100%|██████████| 66/66 [01:52<00:00,  1.71s/it]\n"
     ]
    }
   ],
   "source": [
    "N_CPUS = DEFAULT_N_CPUS-1\n",
    "with WorkerPool(N_CPUS, pgbar=\"Fetching clusters..\") as pool:\n",
    "    get_featureaxes = lambda conf: ((ctx := SnakeContext.loader_context(config=conf, silent=True)).get_important_settings(), ctx.load(\"clusters\"), conf)\n",
    "    perconf_list, interrupted = pool.work(configs, get_featureaxes)"
   ]
  },
  {
   "cell_type": "code",
   "execution_count": 4,
   "id": "741276b1-44a9-454a-a299-ea562840ddd1",
   "metadata": {},
   "outputs": [
    {
     "name": "stdout",
     "output_type": "stream",
     "text": [
      "Number of clusters per configs: [1, 1, 6, 6, 6, 6, 6, 6, 6, 2, 1, 6, 6, 6, 6, 6, 1, 100, 39, 2, 100, 25, 14, 100, 100, 98, 100, 100, 3, 100, 100, 3, 100, 100, 100, 100, 100, 100, 100, 100, 100, 100, 1, 364, 50, 1, 313, 46, 26, 179, 171, 169, 74, 264, 179, 236, 4, 400, 239, 3, 400, 245, 400, 400, 157, 400]\n"
     ]
    },
    {
     "data": {
      "text/markdown": [
       "<span style=\"font-size:11pt\">Taking one of the configs with the most clusters...</span>"
      ],
      "text/plain": [
       "<IPython.core.display.Markdown object>"
      ]
     },
     "metadata": {},
     "output_type": "display_data"
    },
    {
     "data": {
      "text/markdown": [
       "<span style=\"font-size:11pt\">CLASSIFIER: <span style=\"color: #0000ff\">SVM</span>, CLASSIFIER_SUCCMETRIC: <span style=\"color: #ff0000\">kappa_digitized_onlypos_2</span>, CLUSTER_DIRECTION_ALGO: <span style=\"color: #0000ff\">reclassify</span>, DATASET: <span style=\"color: #ff0000\">siddata2022</span>, DCM_QUANT_MEASURE: <span style=\"color: #0000ff\">count</span>, DEBUG: <span style=\"color: #0000ff\">False</span>, EMBED_ALGO: <span style=\"color: #0000ff\">mds</span>, EMBED_DIMENSIONS: <span style=\"color: #ff0000\">200</span>, EXTRACTION_METHOD: <span style=\"color: #ff0000\">tfidf</span>, KAPPA_WEIGHTS: <span style=\"color: #0000ff\">quadratic</span>, LANGUAGE: <span style=\"color: #0000ff\">de</span>, MIN_WORDS_PER_DESC: <span style=\"color: #ff0000\">80</span>, PP_COMPONENTS: <span style=\"color: #ff0000\">mfauhcsd2</span>, PRIM_LAMBDA: <span style=\"color: #0000ff\">0.5</span>, QUANTIFICATION_MEASURE: <span style=\"color: #ff0000\">tfidf</span>, RANDOM_SEED: <span style=\"color: #ff0000\">None</span>, SEC_LAMBDA: <span style=\"color: #ff0000\">0.2</span>, TRANSLATE_POLICY: <span style=\"color: #0000ff\">onlyorig</span></span>"
      ],
      "text/plain": [
       "<IPython.core.display.Markdown object>"
      ]
     },
     "metadata": {},
     "output_type": "display_data"
    },
    {
     "data": {
      "text/markdown": [
       "<span style=\"font-size:11pt\">Loading the rest of the necessary config...</span>"
      ],
      "text/plain": [
       "<IPython.core.display.Markdown object>"
      ]
     },
     "metadata": {},
     "output_type": "display_data"
    },
    {
     "data": {
      "text/markdown": [
       "<span style=\"font-size:11pt\">loading done.</span>"
      ],
      "text/plain": [
       "<IPython.core.display.Markdown object>"
      ]
     },
     "metadata": {},
     "output_type": "display_data"
    }
   ],
   "source": [
    "print(\"Number of clusters per configs:\", [len(x[1][\"clusters\"]) for x in perconf_list])\n",
    "display(\"Taking one of the configs with the most clusters...\")\n",
    "settings_str, clusters, conf = max(perconf_list, key=lambda x: len(x[1][\"clusters\"]))\n",
    "display(settings_str[1])\n",
    "display(\"Loading the rest of the necessary config...\")\n",
    "ctx, (embedding, descriptions) = (ctx := SnakeContext.loader_context(config=conf, silent=True)), ctx.load(\"embedding\", \"pp_descriptions\")\n",
    "display(\"loading done.\")"
   ]
  },
  {
   "cell_type": "markdown",
   "id": "d98459b7-3ca1-4503-96e6-6037f9757b46",
   "metadata": {},
   "source": [
    "# Classifying Fachbereich"
   ]
  },
  {
   "cell_type": "code",
   "execution_count": 5,
   "id": "d7661009-d4ea-47a5-80c7-21ffddc5fa39",
   "metadata": {
    "tags": [
     "keep_output"
    ]
   },
   "outputs": [
    {
     "name": "stdout",
     "output_type": "stream",
     "text": [
      "Dropping 4520/11601 (38.96%) courses - there is no Fachbereich for them\n",
      "63 courses are assigned more than 1 Fachbereich!\n"
     ]
    },
    {
     "name": "stderr",
     "output_type": "stream",
     "text": [
      "derive_conceptualspace/load_data/dataset_specifics/siddata2022.py:43: UserWarning: Will return the first Fachbereich for those ambiguous courses!\n"
     ]
    },
    {
     "data": {
      "text/markdown": [
       "<span style=\"font-size:11pt\">Using classes from fachbereich - 7081/11601 entities have a class</span>"
      ],
      "text/plain": [
       "<IPython.core.display.Markdown object>"
      ]
     },
     "metadata": {},
     "output_type": "display_data"
    },
    {
     "data": {
      "text/markdown": [
       "<span style=\"font-size:11pt\">Highest-ranking descriptions [with any class] per dimension:<br>    <span style=\"color: #0000ff\">bibliotheken          </span>: Tutorium Orientierungsseminar (Gruppe I)<br>    <span style=\"color: #0000ff\">verdeutlichen         </span>: Konzeptionen, Geschichte und Inhalte des Sachunterrichts (G1)<br>    <span style=\"color: #0000ff\">opnv                  </span>: Tagesexkursion Agri-Food Cluster in Nord-West Niedersachsen<br>    <span style=\"color: #0000ff\">schriftliche mundliche</span>: Kolloquium für Examenskandidaten<br>    <span style=\"color: #0000ff\">blockveranstaltungen  </span>: Begleitung und Betreuung des Fachpraktikums Englisch im Herbst 2008<br>    <span style=\"color: #0000ff\">schwierige            </span>: 1.14 Veränderungsmanagement im Prüfungswesen - Gelungene Kommunikation - auch in schwierigen Situationen<br>    <span style=\"color: #0000ff\">erde                  </span>: Tutorium zur Vorlesung: System Lebewesen/Ökozonen<br>    <span style=\"color: #0000ff\">bertolt brecht        </span>: Bertolt Brecht - Dramatische Arbeit (NDL 3)<br>    <span style=\"color: #0000ff\">religionswissenschaft </span>: Friedrich Schleiermacher, Über die Religion: Reden an die Gebildeten unter ihren Verächtern<br>    <span style=\"color: #0000ff\">vi                    </span>: AG Wissensbasierte Robotik<br>    <span style=\"color: #0000ff\">erkrankungen          </span>: Verhaltensmedizin<br>    <span style=\"color: #0000ff\">gesammelt             </span>: Bauen und Konstruieren als Thema im Sachunterricht (G2,3/H1,2,3,5)<br>    <span style=\"color: #0000ff\">mitarbeiterinnen      </span>: 1.2 Arbeitsplatz Universität: Einführung für neue Mitarbeiterinnen und Mitarbeiter aber auch für andere Interessierte<br>    <span style=\"color: #0000ff\">bietet uberblick      </span>: Einführung in die Sozialpsychologie (V)<br>    <span style=\"color: #0000ff\">lineare               </span>: Datenanalyse I<br>    <span style=\"color: #0000ff\">verhaltens            </span>: Praxiswerkstatt Klinische Psychologie: Einführung in die Positive Psychologie Beratung<br>    <span style=\"color: #0000ff\">weist                 </span>: Grundlehre Performance<br>    <span style=\"color: #0000ff\">parteien              </span>: Modul Vergleichende Politikwissenschaft I: Westliche Regierungssysteme im Vergleich<br>    <span style=\"color: #0000ff\">aktivitaten           </span>: Projektmanagement (Teil des Seminars 2.119)<br>    <span style=\"color: #0000ff\">texte verfassen       </span>: Gender !? - Einstieg in die Geschlechterforschung</span>"
      ],
      "text/plain": [
       "<IPython.core.display.Markdown object>"
      ]
     },
     "metadata": {},
     "output_type": "display_data"
    },
    {
     "data": {
      "text/markdown": [
       "<span style=\"font-size:11pt\">Labels (10 classes): <span style=\"color: #0000ff\">Sprach-/Literaturwissenschaften</span>: 1663, <span style=\"color: #0000ff\">Erziehungs-/Kulturwissenschaften</span>: 1998, <span style=\"color: #0000ff\">Kultur-/Geowissenschaften</span>: 1439, <span style=\"color: #0000ff\">Sozialwissenschaften</span>: 706, <span style=\"color: #0000ff\">Rechtswissenschaften</span>: 333, <span style=\"color: #0000ff\">Humanwissenschaften</span>: 366, <span style=\"color: #0000ff\">Biologie/Chemie</span>: 158, <span style=\"color: #0000ff\">Mathematik/Informatik</span>: 180, <span style=\"color: #0000ff\">Physik</span>: 134, <span style=\"color: #0000ff\">Wirtschaftswissenschaften</span>: 104</span>"
      ],
      "text/plain": [
       "<IPython.core.display.Markdown object>"
      ]
     },
     "metadata": {},
     "output_type": "display_data"
    },
    {
     "data": {
      "text/markdown": [
       "<span style=\"font-size:11pt\">Eval-Settings: type: <span style=\"color: #0000ff\">one-vs-rest</span>, DT-Depth: <span style=\"color: #0000ff\">1</span>, train-test-split:<span style=\"color: #0000ff\"> 33.0% in test-set </span></span>"
      ],
      "text/plain": [
       "<IPython.core.display.Markdown object>"
      ]
     },
     "metadata": {},
     "output_type": "display_data"
    },
    {
     "name": "stderr",
     "output_type": "stream",
     "text": [
      "Warning: node 0 in graph[1] Tree already defined\n",
      "Some nodes will be renamed.\n",
      "Warning: node 0 in graph[1] Tree already defined\n",
      "Some nodes will be renamed.\n",
      "Warning: node 0 in graph[1] Tree already defined\n",
      "Some nodes will be renamed.\n",
      "Warning: node 0 in graph[1] Tree already defined\n",
      "Some nodes will be renamed.\n",
      "Warning: node 0 in graph[1] Tree already defined\n",
      "Some nodes will be renamed.\n"
     ]
    },
    {
     "data": {
      "image/svg+xml": [
       "<?xml version=\"1.0\" encoding=\"UTF-8\" standalone=\"no\"?>\n",
       "<!DOCTYPE svg PUBLIC \"-//W3C//DTD SVG 1.1//EN\"\n",
       " \"http://www.w3.org/Graphics/SVG/1.1/DTD/svg11.dtd\">\n",
       "<!-- Generated by graphviz version 2.43.0 (0)\n",
       " -->\n",
       "<!-- Title: root Pages: 1 -->\n",
       "<svg width=\"871pt\" height=\"177pt\"\n",
       " viewBox=\"0.00 0.00 871.00 177.00\" xmlns=\"http://www.w3.org/2000/svg\" xmlns:xlink=\"http://www.w3.org/1999/xlink\">\n",
       "<g id=\"graph0\" class=\"graph\" transform=\"scale(1 1) rotate(0) translate(4 173)\">\n",
       "<title>root</title>\n",
       "<polygon fill=\"white\" stroke=\"transparent\" points=\"-4,4 -4,-173 867,-173 867,4 -4,4\"/>\n",
       "<!-- 0 -->\n",
       "<g id=\"node1\" class=\"node\">\n",
       "<title>0</title>\n",
       "<path fill=\"#ffffff\" stroke=\"black\" d=\"M365.5,-169C365.5,-169 160.5,-169 160.5,-169 154.5,-169 148.5,-163 148.5,-157 148.5,-157 148.5,-106 148.5,-106 148.5,-100 154.5,-94 160.5,-94 160.5,-94 365.5,-94 365.5,-94 371.5,-94 377.5,-100 377.5,-106 377.5,-106 377.5,-157 377.5,-157 377.5,-163 371.5,-169 365.5,-169\"/>\n",
       "<text text-anchor=\"start\" x=\"185\" y=\"-150.3\" font-family=\"Helvetica,sans-Serif\" font-size=\"14.00\">fallstudie,wi,wiwi ≤ 6376.5</text>\n",
       "<text text-anchor=\"start\" x=\"214.5\" y=\"-135.3\" font-family=\"Helvetica,sans-Serif\" font-size=\"14.00\">samples = 4744</text>\n",
       "<text text-anchor=\"start\" x=\"190\" y=\"-120.3\" font-family=\"Helvetica,sans-Serif\" font-size=\"14.00\">value = [2372.0, 2372.0]</text>\n",
       "<text text-anchor=\"start\" x=\"159.5\" y=\"-105.3\" font-family=\"Helvetica,sans-Serif\" font-size=\"14.00\">class = Wirtschaftswissenschaften</text>\n",
       "</g>\n",
       "<!-- 1 -->\n",
       "<g id=\"node2\" class=\"node\">\n",
       "<title>1</title>\n",
       "<path fill=\"#e99659\" stroke=\"black\" d=\"M178,-58C178,-58 12,-58 12,-58 6,-58 0,-52 0,-46 0,-46 0,-12 0,-12 0,-6 6,0 12,0 12,0 178,0 178,0 184,0 190,-6 190,-12 190,-12 190,-46 190,-46 190,-52 184,-58 178,-58\"/>\n",
       "<text text-anchor=\"start\" x=\"46.5\" y=\"-40.3\" font-family=\"Helvetica,sans-Serif\" font-size=\"14.00\">samples = 4254</text>\n",
       "<text text-anchor=\"start\" x=\"10.5\" y=\"-25.3\" font-family=\"Helvetica,sans-Serif\" font-size=\"14.00\">value = [2155.117, 352.595]</text>\n",
       "<text text-anchor=\"start\" x=\"56\" y=\"-10.3\" font-family=\"Helvetica,sans-Serif\" font-size=\"14.00\">class = other</text>\n",
       "</g>\n",
       "<!-- 0&#45;&gt;1 -->\n",
       "<g id=\"edge1\" class=\"edge\">\n",
       "<title>0&#45;&gt;1</title>\n",
       "<path fill=\"none\" stroke=\"black\" d=\"M201.87,-93.93C185.17,-83.94 167.16,-73.17 150.77,-63.36\"/>\n",
       "<polygon fill=\"black\" stroke=\"black\" points=\"152.23,-60.16 141.86,-58.03 148.64,-66.17 152.23,-60.16\"/>\n",
       "<text text-anchor=\"middle\" x=\"147.95\" y=\"-78.58\" font-family=\"Helvetica,sans-Serif\" font-size=\"14.00\">True</text>\n",
       "</g>\n",
       "<!-- 2 -->\n",
       "<g id=\"node3\" class=\"node\">\n",
       "<title>2</title>\n",
       "<path fill=\"#4ea8e8\" stroke=\"black\" d=\"M425.5,-58C425.5,-58 220.5,-58 220.5,-58 214.5,-58 208.5,-52 208.5,-46 208.5,-46 208.5,-12 208.5,-12 208.5,-6 214.5,0 220.5,0 220.5,0 425.5,0 425.5,0 431.5,0 437.5,-6 437.5,-12 437.5,-12 437.5,-46 437.5,-46 437.5,-52 431.5,-58 425.5,-58\"/>\n",
       "<text text-anchor=\"start\" x=\"278\" y=\"-40.3\" font-family=\"Helvetica,sans-Serif\" font-size=\"14.00\">samples = 490</text>\n",
       "<text text-anchor=\"start\" x=\"238.5\" y=\"-25.3\" font-family=\"Helvetica,sans-Serif\" font-size=\"14.00\">value = [216.883, 2019.405]</text>\n",
       "<text text-anchor=\"start\" x=\"219.5\" y=\"-10.3\" font-family=\"Helvetica,sans-Serif\" font-size=\"14.00\">class = Wirtschaftswissenschaften</text>\n",
       "</g>\n",
       "<!-- 0&#45;&gt;2 -->\n",
       "<g id=\"edge2\" class=\"edge\">\n",
       "<title>0&#45;&gt;2</title>\n",
       "<path fill=\"none\" stroke=\"black\" d=\"M284.83,-93.93C290.11,-85.09 295.75,-75.64 301.03,-66.79\"/>\n",
       "<polygon fill=\"black\" stroke=\"black\" points=\"304.05,-68.57 306.17,-58.19 298.04,-64.98 304.05,-68.57\"/>\n",
       "<text text-anchor=\"middle\" x=\"312.29\" y=\"-78.73\" font-family=\"Helvetica,sans-Serif\" font-size=\"14.00\">False</text>\n",
       "</g>\n",
       "<!-- 0_gv1 -->\n",
       "<g id=\"node4\" class=\"node\">\n",
       "<title>0_gv1</title>\n",
       "<path fill=\"#ffffff\" stroke=\"black\" d=\"M721,-169C721,-169 517,-169 517,-169 511,-169 505,-163 505,-157 505,-157 505,-106 505,-106 505,-100 511,-94 517,-94 517,-94 721,-94 721,-94 727,-94 733,-100 733,-106 733,-106 733,-157 733,-157 733,-163 727,-169 721,-169\"/>\n",
       "<text text-anchor=\"start\" x=\"517\" y=\"-150.3\" font-family=\"Helvetica,sans-Serif\" font-size=\"14.00\">klar,selbstwahrnehmung ≤ 5301.0</text>\n",
       "<text text-anchor=\"start\" x=\"570.5\" y=\"-135.3\" font-family=\"Helvetica,sans-Serif\" font-size=\"14.00\">samples = 4744</text>\n",
       "<text text-anchor=\"start\" x=\"546\" y=\"-120.3\" font-family=\"Helvetica,sans-Serif\" font-size=\"14.00\">value = [2372.0, 2372.0]</text>\n",
       "<text text-anchor=\"start\" x=\"580\" y=\"-105.3\" font-family=\"Helvetica,sans-Serif\" font-size=\"14.00\">class = other</text>\n",
       "</g>\n",
       "<!-- 1_gv1 -->\n",
       "<g id=\"node5\" class=\"node\">\n",
       "<title>1_gv1</title>\n",
       "<path fill=\"#efb185\" stroke=\"black\" d=\"M643,-58C643,-58 477,-58 477,-58 471,-58 465,-52 465,-46 465,-46 465,-12 465,-12 465,-6 471,0 477,0 477,0 643,0 643,0 649,0 655,-6 655,-12 655,-12 655,-46 655,-46 655,-52 649,-58 643,-58\"/>\n",
       "<text text-anchor=\"start\" x=\"511.5\" y=\"-40.3\" font-family=\"Helvetica,sans-Serif\" font-size=\"14.00\">samples = 3530</text>\n",
       "<text text-anchor=\"start\" x=\"475.5\" y=\"-25.3\" font-family=\"Helvetica,sans-Serif\" font-size=\"14.00\">value = [1785.881, 685.244]</text>\n",
       "<text text-anchor=\"start\" x=\"521\" y=\"-10.3\" font-family=\"Helvetica,sans-Serif\" font-size=\"14.00\">class = other</text>\n",
       "</g>\n",
       "<!-- 0_gv1&#45;&gt;1_gv1 -->\n",
       "<g id=\"edge3\" class=\"edge\">\n",
       "<title>0_gv1&#45;&gt;1_gv1</title>\n",
       "<path fill=\"none\" stroke=\"black\" d=\"M597.53,-93.93C592.4,-85.19 586.91,-75.84 581.76,-67.07\"/>\n",
       "<polygon fill=\"black\" stroke=\"black\" points=\"584.63,-65.04 576.55,-58.19 578.59,-68.58 584.63,-65.04\"/>\n",
       "<text text-anchor=\"middle\" x=\"570.25\" y=\"-78.68\" font-family=\"Helvetica,sans-Serif\" font-size=\"14.00\">True</text>\n",
       "</g>\n",
       "<!-- 2_gv1 -->\n",
       "<g id=\"node6\" class=\"node\">\n",
       "<title>2_gv1</title>\n",
       "<path fill=\"#7ebfee\" stroke=\"black\" d=\"M851,-58C851,-58 685,-58 685,-58 679,-58 673,-52 673,-46 673,-46 673,-12 673,-12 673,-6 679,0 685,0 685,0 851,0 851,0 857,0 863,-6 863,-12 863,-12 863,-46 863,-46 863,-52 857,-58 851,-58\"/>\n",
       "<text text-anchor=\"start\" x=\"719.5\" y=\"-40.3\" font-family=\"Helvetica,sans-Serif\" font-size=\"14.00\">samples = 1214</text>\n",
       "<text text-anchor=\"start\" x=\"683.5\" y=\"-25.3\" font-family=\"Helvetica,sans-Serif\" font-size=\"14.00\">value = [586.119, 1686.756]</text>\n",
       "<text text-anchor=\"start\" x=\"724.5\" y=\"-10.3\" font-family=\"Helvetica,sans-Serif\" font-size=\"14.00\">class = Physik</text>\n",
       "</g>\n",
       "<!-- 0_gv1&#45;&gt;2_gv1 -->\n",
       "<g id=\"edge4\" class=\"edge\">\n",
       "<title>0_gv1&#45;&gt;2_gv1</title>\n",
       "<path fill=\"none\" stroke=\"black\" d=\"M673.21,-93.93C687.68,-84.17 703.26,-73.67 717.52,-64.05\"/>\n",
       "<polygon fill=\"black\" stroke=\"black\" points=\"719.88,-66.68 726.21,-58.19 715.96,-60.88 719.88,-66.68\"/>\n",
       "<text text-anchor=\"middle\" x=\"721.44\" y=\"-79.03\" font-family=\"Helvetica,sans-Serif\" font-size=\"14.00\">False</text>\n",
       "</g>\n",
       "</g>\n",
       "</svg>\n"
      ],
      "text/plain": [
       "<graphviz.sources.Source at 0x7fec3b8f9300>"
      ]
     },
     "metadata": {},
     "output_type": "display_data"
    },
    {
     "data": {
      "text/markdown": [
       "<span style=\"font-size:11pt\"><br><br></span>"
      ],
      "text/plain": [
       "<IPython.core.display.Markdown object>"
      ]
     },
     "metadata": {},
     "output_type": "display_data"
    },
    {
     "data": {
      "image/svg+xml": [
       "<?xml version=\"1.0\" encoding=\"UTF-8\" standalone=\"no\"?>\n",
       "<!DOCTYPE svg PUBLIC \"-//W3C//DTD SVG 1.1//EN\"\n",
       " \"http://www.w3.org/Graphics/SVG/1.1/DTD/svg11.dtd\">\n",
       "<!-- Generated by graphviz version 2.43.0 (0)\n",
       " -->\n",
       "<!-- Title: root Pages: 1 -->\n",
       "<svg width=\"839pt\" height=\"177pt\"\n",
       " viewBox=\"0.00 0.00 838.50 177.00\" xmlns=\"http://www.w3.org/2000/svg\" xmlns:xlink=\"http://www.w3.org/1999/xlink\">\n",
       "<g id=\"graph0\" class=\"graph\" transform=\"scale(1 1) rotate(0) translate(4 173)\">\n",
       "<title>root</title>\n",
       "<polygon fill=\"white\" stroke=\"transparent\" points=\"-4,4 -4,-173 834.5,-173 834.5,4 -4,4\"/>\n",
       "<!-- 0 -->\n",
       "<g id=\"node1\" class=\"node\">\n",
       "<title>0</title>\n",
       "<path fill=\"#ffffff\" stroke=\"black\" d=\"M307.5,-169C307.5,-169 164.5,-169 164.5,-169 158.5,-169 152.5,-163 152.5,-157 152.5,-157 152.5,-106 152.5,-106 152.5,-100 158.5,-94 164.5,-94 164.5,-94 307.5,-94 307.5,-94 313.5,-94 319.5,-100 319.5,-106 319.5,-106 319.5,-157 319.5,-157 319.5,-163 313.5,-169 307.5,-169\"/>\n",
       "<text text-anchor=\"start\" x=\"166.5\" y=\"-150.3\" font-family=\"Helvetica,sans-Serif\" font-size=\"14.00\">stattgefunden ≤ 5755.5</text>\n",
       "<text text-anchor=\"start\" x=\"187.5\" y=\"-135.3\" font-family=\"Helvetica,sans-Serif\" font-size=\"14.00\">samples = 4744</text>\n",
       "<text text-anchor=\"start\" x=\"163\" y=\"-120.3\" font-family=\"Helvetica,sans-Serif\" font-size=\"14.00\">value = [2372.0, 2372.0]</text>\n",
       "<text text-anchor=\"start\" x=\"163\" y=\"-105.3\" font-family=\"Helvetica,sans-Serif\" font-size=\"14.00\">class = Biologie/Chemie</text>\n",
       "</g>\n",
       "<!-- 1 -->\n",
       "<g id=\"node2\" class=\"node\">\n",
       "<title>1</title>\n",
       "<path fill=\"#eda978\" stroke=\"black\" d=\"M170,-58C170,-58 12,-58 12,-58 6,-58 0,-52 0,-46 0,-46 0,-12 0,-12 0,-6 6,0 12,0 12,0 170,0 170,0 176,0 182,-6 182,-12 182,-12 182,-46 182,-46 182,-52 176,-58 170,-58\"/>\n",
       "<text text-anchor=\"start\" x=\"42.5\" y=\"-40.3\" font-family=\"Helvetica,sans-Serif\" font-size=\"14.00\">samples = 3826</text>\n",
       "<text text-anchor=\"start\" x=\"10.5\" y=\"-25.3\" font-family=\"Helvetica,sans-Serif\" font-size=\"14.00\">value = [1940.913, 616.72]</text>\n",
       "<text text-anchor=\"start\" x=\"52\" y=\"-10.3\" font-family=\"Helvetica,sans-Serif\" font-size=\"14.00\">class = other</text>\n",
       "</g>\n",
       "<!-- 0&#45;&gt;1 -->\n",
       "<g id=\"edge1\" class=\"edge\">\n",
       "<title>0&#45;&gt;1</title>\n",
       "<path fill=\"none\" stroke=\"black\" d=\"M183.24,-93.93C169.16,-84.17 154,-73.67 140.12,-64.05\"/>\n",
       "<polygon fill=\"black\" stroke=\"black\" points=\"141.88,-61.01 131.67,-58.19 137.89,-66.76 141.88,-61.01\"/>\n",
       "<text text-anchor=\"middle\" x=\"136.13\" y=\"-79.09\" font-family=\"Helvetica,sans-Serif\" font-size=\"14.00\">True</text>\n",
       "</g>\n",
       "<!-- 2 -->\n",
       "<g id=\"node3\" class=\"node\">\n",
       "<title>2</title>\n",
       "<path fill=\"#6ab5eb\" stroke=\"black\" d=\"M370,-58C370,-58 212,-58 212,-58 206,-58 200,-52 200,-46 200,-46 200,-12 200,-12 200,-6 206,0 212,0 212,0 370,0 370,0 376,0 382,-6 382,-12 382,-12 382,-46 382,-46 382,-52 376,-58 370,-58\"/>\n",
       "<text text-anchor=\"start\" x=\"246\" y=\"-40.3\" font-family=\"Helvetica,sans-Serif\" font-size=\"14.00\">samples = 918</text>\n",
       "<text text-anchor=\"start\" x=\"210.5\" y=\"-25.3\" font-family=\"Helvetica,sans-Serif\" font-size=\"14.00\">value = [431.087, 1755.28]</text>\n",
       "<text text-anchor=\"start\" x=\"218\" y=\"-10.3\" font-family=\"Helvetica,sans-Serif\" font-size=\"14.00\">class = Biologie/Chemie</text>\n",
       "</g>\n",
       "<!-- 0&#45;&gt;2 -->\n",
       "<g id=\"edge2\" class=\"edge\">\n",
       "<title>0&#45;&gt;2</title>\n",
       "<path fill=\"none\" stroke=\"black\" d=\"M256.01,-93.93C260.8,-85.19 265.91,-75.84 270.71,-67.07\"/>\n",
       "<polygon fill=\"black\" stroke=\"black\" points=\"273.84,-68.64 275.57,-58.19 267.7,-65.28 273.84,-68.64\"/>\n",
       "<text text-anchor=\"middle\" x=\"282.59\" y=\"-78.48\" font-family=\"Helvetica,sans-Serif\" font-size=\"14.00\">False</text>\n",
       "</g>\n",
       "<!-- 0_gv1 -->\n",
       "<g id=\"node4\" class=\"node\">\n",
       "<title>0_gv1</title>\n",
       "<path fill=\"#ffffff\" stroke=\"black\" d=\"M691,-169C691,-169 441,-169 441,-169 435,-169 429,-163 429,-157 429,-157 429,-106 429,-106 429,-100 435,-94 441,-94 441,-94 691,-94 691,-94 697,-94 703,-100 703,-106 703,-106 703,-157 703,-157 703,-163 697,-169 691,-169\"/>\n",
       "<text text-anchor=\"start\" x=\"442.5\" y=\"-150.3\" font-family=\"Helvetica,sans-Serif\" font-size=\"14.00\">gehirn,psychologische,kognitive ≤ 4589.5</text>\n",
       "<text text-anchor=\"start\" x=\"517.5\" y=\"-135.3\" font-family=\"Helvetica,sans-Serif\" font-size=\"14.00\">samples = 4744</text>\n",
       "<text text-anchor=\"start\" x=\"493\" y=\"-120.3\" font-family=\"Helvetica,sans-Serif\" font-size=\"14.00\">value = [2372.0, 2372.0]</text>\n",
       "<text text-anchor=\"start\" x=\"474\" y=\"-105.3\" font-family=\"Helvetica,sans-Serif\" font-size=\"14.00\">class = Humanwissenschaften</text>\n",
       "</g>\n",
       "<!-- 1_gv1 -->\n",
       "<g id=\"node5\" class=\"node\">\n",
       "<title>1_gv1</title>\n",
       "<path fill=\"#efaf82\" stroke=\"black\" d=\"M595,-58C595,-58 429,-58 429,-58 423,-58 417,-52 417,-46 417,-46 417,-12 417,-12 417,-6 423,0 429,0 429,0 595,0 595,0 601,0 607,-6 607,-12 607,-12 607,-46 607,-46 607,-52 601,-58 595,-58\"/>\n",
       "<text text-anchor=\"start\" x=\"463.5\" y=\"-40.3\" font-family=\"Helvetica,sans-Serif\" font-size=\"14.00\">samples = 3081</text>\n",
       "<text text-anchor=\"start\" x=\"427.5\" y=\"-25.3\" font-family=\"Helvetica,sans-Serif\" font-size=\"14.00\">value = [1595.613, 586.131]</text>\n",
       "<text text-anchor=\"start\" x=\"473\" y=\"-10.3\" font-family=\"Helvetica,sans-Serif\" font-size=\"14.00\">class = other</text>\n",
       "</g>\n",
       "<!-- 0_gv1&#45;&gt;1_gv1 -->\n",
       "<g id=\"edge3\" class=\"edge\">\n",
       "<title>0_gv1&#45;&gt;1_gv1</title>\n",
       "<path fill=\"none\" stroke=\"black\" d=\"M546.35,-93.93C541.65,-85.19 536.63,-75.84 531.92,-67.07\"/>\n",
       "<polygon fill=\"black\" stroke=\"black\" points=\"534.96,-65.34 527.15,-58.19 528.8,-68.65 534.96,-65.34\"/>\n",
       "<text text-anchor=\"middle\" x=\"519.94\" y=\"-78.43\" font-family=\"Helvetica,sans-Serif\" font-size=\"14.00\">True</text>\n",
       "</g>\n",
       "<!-- 2_gv1 -->\n",
       "<g id=\"node6\" class=\"node\">\n",
       "<title>2_gv1</title>\n",
       "<path fill=\"#8fc8f0\" stroke=\"black\" d=\"M818.5,-58C818.5,-58 637.5,-58 637.5,-58 631.5,-58 625.5,-52 625.5,-46 625.5,-46 625.5,-12 625.5,-12 625.5,-6 631.5,0 637.5,0 637.5,0 818.5,0 818.5,0 824.5,0 830.5,-6 830.5,-12 830.5,-12 830.5,-46 830.5,-46 830.5,-52 824.5,-58 818.5,-58\"/>\n",
       "<text text-anchor=\"start\" x=\"679.5\" y=\"-40.3\" font-family=\"Helvetica,sans-Serif\" font-size=\"14.00\">samples = 1663</text>\n",
       "<text text-anchor=\"start\" x=\"643.5\" y=\"-25.3\" font-family=\"Helvetica,sans-Serif\" font-size=\"14.00\">value = [776.387, 1785.869]</text>\n",
       "<text text-anchor=\"start\" x=\"636\" y=\"-10.3\" font-family=\"Helvetica,sans-Serif\" font-size=\"14.00\">class = Humanwissenschaften</text>\n",
       "</g>\n",
       "<!-- 0_gv1&#45;&gt;2_gv1 -->\n",
       "<g id=\"edge4\" class=\"edge\">\n",
       "<title>0_gv1&#45;&gt;2_gv1</title>\n",
       "<path fill=\"none\" stroke=\"black\" d=\"M624.94,-93.93C641.05,-83.94 658.42,-73.17 674.22,-63.36\"/>\n",
       "<polygon fill=\"black\" stroke=\"black\" points=\"676.17,-66.28 682.82,-58.03 672.47,-60.33 676.17,-66.28\"/>\n",
       "<text text-anchor=\"middle\" x=\"677.11\" y=\"-78.67\" font-family=\"Helvetica,sans-Serif\" font-size=\"14.00\">False</text>\n",
       "</g>\n",
       "</g>\n",
       "</svg>\n"
      ],
      "text/plain": [
       "<graphviz.sources.Source at 0x7fec3b8f9630>"
      ]
     },
     "metadata": {},
     "output_type": "display_data"
    },
    {
     "data": {
      "text/markdown": [
       "<span style=\"font-size:11pt\"><br><br></span>"
      ],
      "text/plain": [
       "<IPython.core.display.Markdown object>"
      ]
     },
     "metadata": {},
     "output_type": "display_data"
    },
    {
     "data": {
      "image/svg+xml": [
       "<?xml version=\"1.0\" encoding=\"UTF-8\" standalone=\"no\"?>\n",
       "<!DOCTYPE svg PUBLIC \"-//W3C//DTD SVG 1.1//EN\"\n",
       " \"http://www.w3.org/Graphics/SVG/1.1/DTD/svg11.dtd\">\n",
       "<!-- Generated by graphviz version 2.43.0 (0)\n",
       " -->\n",
       "<!-- Title: root Pages: 1 -->\n",
       "<svg width=\"960pt\" height=\"177pt\"\n",
       " viewBox=\"0.00 0.00 959.50 177.00\" xmlns=\"http://www.w3.org/2000/svg\" xmlns:xlink=\"http://www.w3.org/1999/xlink\">\n",
       "<g id=\"graph0\" class=\"graph\" transform=\"scale(1 1) rotate(0) translate(4 173)\">\n",
       "<title>root</title>\n",
       "<polygon fill=\"white\" stroke=\"transparent\" points=\"-4,4 -4,-173 955.5,-173 955.5,4 -4,4\"/>\n",
       "<!-- 0 -->\n",
       "<g id=\"node1\" class=\"node\">\n",
       "<title>0</title>\n",
       "<path fill=\"#ffffff\" stroke=\"black\" d=\"M390,-169C390,-169 142,-169 142,-169 136,-169 130,-163 130,-157 130,-157 130,-106 130,-106 130,-100 136,-94 142,-94 142,-94 390,-94 390,-94 396,-94 402,-100 402,-106 402,-106 402,-157 402,-157 402,-163 396,-169 390,-169\"/>\n",
       "<text text-anchor=\"start\" x=\"143\" y=\"-150.3\" font-family=\"Helvetica,sans-Serif\" font-size=\"14.00\">deutschen literatur,heine,moritz ≤ 5257.5</text>\n",
       "<text text-anchor=\"start\" x=\"217.5\" y=\"-135.3\" font-family=\"Helvetica,sans-Serif\" font-size=\"14.00\">samples = 4744</text>\n",
       "<text text-anchor=\"start\" x=\"193\" y=\"-120.3\" font-family=\"Helvetica,sans-Serif\" font-size=\"14.00\">value = [2372.0, 2372.0]</text>\n",
       "<text text-anchor=\"start\" x=\"146\" y=\"-105.3\" font-family=\"Helvetica,sans-Serif\" font-size=\"14.00\">class = Sprach&#45;/Literaturwissenschaften</text>\n",
       "</g>\n",
       "<!-- 1 -->\n",
       "<g id=\"node2\" class=\"node\">\n",
       "<title>1</title>\n",
       "<path fill=\"#efb083\" stroke=\"black\" d=\"M178,-58C178,-58 12,-58 12,-58 6,-58 0,-52 0,-46 0,-46 0,-12 0,-12 0,-6 6,0 12,0 12,0 178,0 178,0 184,0 190,-6 190,-12 190,-12 190,-46 190,-46 190,-52 184,-58 178,-58\"/>\n",
       "<text text-anchor=\"start\" x=\"46.5\" y=\"-40.3\" font-family=\"Helvetica,sans-Serif\" font-size=\"14.00\">samples = 3518</text>\n",
       "<text text-anchor=\"start\" x=\"10.5\" y=\"-25.3\" font-family=\"Helvetica,sans-Serif\" font-size=\"14.00\">value = [2062.438, 767.914]</text>\n",
       "<text text-anchor=\"start\" x=\"56\" y=\"-10.3\" font-family=\"Helvetica,sans-Serif\" font-size=\"14.00\">class = other</text>\n",
       "</g>\n",
       "<!-- 0&#45;&gt;1 -->\n",
       "<g id=\"edge1\" class=\"edge\">\n",
       "<title>0&#45;&gt;1</title>\n",
       "<path fill=\"none\" stroke=\"black\" d=\"M203.78,-93.93C186.78,-83.94 168.45,-73.17 151.77,-63.36\"/>\n",
       "<polygon fill=\"black\" stroke=\"black\" points=\"153.09,-60.08 142.69,-58.03 149.54,-66.11 153.09,-60.08\"/>\n",
       "<text text-anchor=\"middle\" x=\"148.98\" y=\"-78.53\" font-family=\"Helvetica,sans-Serif\" font-size=\"14.00\">True</text>\n",
       "</g>\n",
       "<!-- 2 -->\n",
       "<g id=\"node3\" class=\"node\">\n",
       "<title>2</title>\n",
       "<path fill=\"#5fb0ea\" stroke=\"black\" d=\"M460,-58C460,-58 220,-58 220,-58 214,-58 208,-52 208,-46 208,-46 208,-12 208,-12 208,-6 214,0 220,0 220,0 460,0 460,0 466,0 472,-6 472,-12 472,-12 472,-46 472,-46 472,-52 466,-58 460,-58\"/>\n",
       "<text text-anchor=\"start\" x=\"291.5\" y=\"-40.3\" font-family=\"Helvetica,sans-Serif\" font-size=\"14.00\">samples = 1226</text>\n",
       "<text text-anchor=\"start\" x=\"255.5\" y=\"-25.3\" font-family=\"Helvetica,sans-Serif\" font-size=\"14.00\">value = [309.562, 1604.086]</text>\n",
       "<text text-anchor=\"start\" x=\"220\" y=\"-10.3\" font-family=\"Helvetica,sans-Serif\" font-size=\"14.00\">class = Sprach&#45;/Literaturwissenschaften</text>\n",
       "</g>\n",
       "<!-- 0&#45;&gt;2 -->\n",
       "<g id=\"edge2\" class=\"edge\">\n",
       "<title>0&#45;&gt;2</title>\n",
       "<path fill=\"none\" stroke=\"black\" d=\"M292.93,-93.93C299.5,-85 306.54,-75.45 313.11,-66.52\"/>\n",
       "<polygon fill=\"black\" stroke=\"black\" points=\"316.13,-68.32 319.24,-58.19 310.5,-64.17 316.13,-68.32\"/>\n",
       "<text text-anchor=\"middle\" x=\"323\" y=\"-79.2\" font-family=\"Helvetica,sans-Serif\" font-size=\"14.00\">False</text>\n",
       "</g>\n",
       "<!-- 0_gv1 -->\n",
       "<g id=\"node4\" class=\"node\">\n",
       "<title>0_gv1</title>\n",
       "<path fill=\"#ffffff\" stroke=\"black\" d=\"M886.5,-169C886.5,-169 529.5,-169 529.5,-169 523.5,-169 517.5,-163 517.5,-157 517.5,-157 517.5,-106 517.5,-106 517.5,-100 523.5,-94 529.5,-94 529.5,-94 886.5,-94 886.5,-94 892.5,-94 898.5,-100 898.5,-106 898.5,-106 898.5,-157 898.5,-157 898.5,-163 892.5,-169 886.5,-169\"/>\n",
       "<text text-anchor=\"start\" x=\"533\" y=\"-150.3\" font-family=\"Helvetica,sans-Serif\" font-size=\"14.00\">offentliches,offentlichkeitsarbeit,verwaltungsrecht ≤ 6092.5</text>\n",
       "<text text-anchor=\"start\" x=\"659.5\" y=\"-135.3\" font-family=\"Helvetica,sans-Serif\" font-size=\"14.00\">samples = 4744</text>\n",
       "<text text-anchor=\"start\" x=\"635\" y=\"-120.3\" font-family=\"Helvetica,sans-Serif\" font-size=\"14.00\">value = [2372.0, 2372.0]</text>\n",
       "<text text-anchor=\"start\" x=\"617.5\" y=\"-105.3\" font-family=\"Helvetica,sans-Serif\" font-size=\"14.00\">class = Rechtswissenschaften</text>\n",
       "</g>\n",
       "<!-- 1_gv1 -->\n",
       "<g id=\"node5\" class=\"node\">\n",
       "<title>1_gv1</title>\n",
       "<path fill=\"#e88f4f\" stroke=\"black\" d=\"M718,-58C718,-58 552,-58 552,-58 546,-58 540,-52 540,-46 540,-46 540,-12 540,-12 540,-6 546,0 552,0 552,0 718,0 718,0 724,0 730,-6 730,-12 730,-12 730,-46 730,-46 730,-52 724,-58 718,-58\"/>\n",
       "<text text-anchor=\"start\" x=\"586.5\" y=\"-40.3\" font-family=\"Helvetica,sans-Serif\" font-size=\"14.00\">samples = 4072</text>\n",
       "<text text-anchor=\"start\" x=\"550.5\" y=\"-25.3\" font-family=\"Helvetica,sans-Serif\" font-size=\"14.00\">value = [2124.884, 234.009]</text>\n",
       "<text text-anchor=\"start\" x=\"596\" y=\"-10.3\" font-family=\"Helvetica,sans-Serif\" font-size=\"14.00\">class = other</text>\n",
       "</g>\n",
       "<!-- 0_gv1&#45;&gt;1_gv1 -->\n",
       "<g id=\"edge3\" class=\"edge\">\n",
       "<title>0_gv1&#45;&gt;1_gv1</title>\n",
       "<path fill=\"none\" stroke=\"black\" d=\"M681.44,-93.93C674.95,-85 668.01,-75.45 661.52,-66.52\"/>\n",
       "<polygon fill=\"black\" stroke=\"black\" points=\"664.18,-64.22 655.47,-58.19 658.52,-68.34 664.18,-64.22\"/>\n",
       "<text text-anchor=\"middle\" x=\"651.56\" y=\"-79.18\" font-family=\"Helvetica,sans-Serif\" font-size=\"14.00\">True</text>\n",
       "</g>\n",
       "<!-- 2_gv1 -->\n",
       "<g id=\"node6\" class=\"node\">\n",
       "<title>2_gv1</title>\n",
       "<path fill=\"#50a8e8\" stroke=\"black\" d=\"M939.5,-58C939.5,-58 760.5,-58 760.5,-58 754.5,-58 748.5,-52 748.5,-46 748.5,-46 748.5,-12 748.5,-12 748.5,-6 754.5,0 760.5,0 760.5,0 939.5,0 939.5,0 945.5,0 951.5,-6 951.5,-12 951.5,-12 951.5,-46 951.5,-46 951.5,-52 945.5,-58 939.5,-58\"/>\n",
       "<text text-anchor=\"start\" x=\"805\" y=\"-40.3\" font-family=\"Helvetica,sans-Serif\" font-size=\"14.00\">samples = 672</text>\n",
       "<text text-anchor=\"start\" x=\"765.5\" y=\"-25.3\" font-family=\"Helvetica,sans-Serif\" font-size=\"14.00\">value = [247.116, 2137.991]</text>\n",
       "<text text-anchor=\"start\" x=\"759.5\" y=\"-10.3\" font-family=\"Helvetica,sans-Serif\" font-size=\"14.00\">class = Rechtswissenschaften</text>\n",
       "</g>\n",
       "<!-- 0_gv1&#45;&gt;2_gv1 -->\n",
       "<g id=\"edge4\" class=\"edge\">\n",
       "<title>0_gv1&#45;&gt;2_gv1</title>\n",
       "<path fill=\"none\" stroke=\"black\" d=\"M759.67,-93.93C773.46,-84.17 788.3,-73.67 801.89,-64.05\"/>\n",
       "<polygon fill=\"black\" stroke=\"black\" points=\"804.03,-66.82 810.17,-58.19 799.99,-61.11 804.03,-66.82\"/>\n",
       "<text text-anchor=\"middle\" x=\"805.96\" y=\"-79.13\" font-family=\"Helvetica,sans-Serif\" font-size=\"14.00\">False</text>\n",
       "</g>\n",
       "</g>\n",
       "</svg>\n"
      ],
      "text/plain": [
       "<graphviz.sources.Source at 0x7fec3b8f99c0>"
      ]
     },
     "metadata": {},
     "output_type": "display_data"
    },
    {
     "data": {
      "text/markdown": [
       "<span style=\"font-size:11pt\"><br><br></span>"
      ],
      "text/plain": [
       "<IPython.core.display.Markdown object>"
      ]
     },
     "metadata": {},
     "output_type": "display_data"
    },
    {
     "data": {
      "image/svg+xml": [
       "<?xml version=\"1.0\" encoding=\"UTF-8\" standalone=\"no\"?>\n",
       "<!DOCTYPE svg PUBLIC \"-//W3C//DTD SVG 1.1//EN\"\n",
       " \"http://www.w3.org/Graphics/SVG/1.1/DTD/svg11.dtd\">\n",
       "<!-- Generated by graphviz version 2.43.0 (0)\n",
       " -->\n",
       "<!-- Title: root Pages: 1 -->\n",
       "<svg width=\"946pt\" height=\"177pt\"\n",
       " viewBox=\"0.00 0.00 946.00 177.00\" xmlns=\"http://www.w3.org/2000/svg\" xmlns:xlink=\"http://www.w3.org/1999/xlink\">\n",
       "<g id=\"graph0\" class=\"graph\" transform=\"scale(1 1) rotate(0) translate(4 173)\">\n",
       "<title>root</title>\n",
       "<polygon fill=\"white\" stroke=\"transparent\" points=\"-4,4 -4,-173 942,-173 942,4 -4,4\"/>\n",
       "<!-- 0 -->\n",
       "<g id=\"node1\" class=\"node\">\n",
       "<title>0</title>\n",
       "<path fill=\"#ffffff\" stroke=\"black\" d=\"M447.5,-169C447.5,-169 68.5,-169 68.5,-169 62.5,-169 56.5,-163 56.5,-157 56.5,-157 56.5,-106 56.5,-106 56.5,-100 62.5,-94 68.5,-94 68.5,-94 447.5,-94 447.5,-94 453.5,-94 459.5,-100 459.5,-106 459.5,-106 459.5,-157 459.5,-157 459.5,-163 453.5,-169 447.5,-169\"/>\n",
       "<text text-anchor=\"start\" x=\"72\" y=\"-150.3\" font-family=\"Helvetica,sans-Serif\" font-size=\"14.00\">erziehungswissenschaft,sozialpadagogik,padagogen ≤ 5143.0</text>\n",
       "<text text-anchor=\"start\" x=\"209.5\" y=\"-135.3\" font-family=\"Helvetica,sans-Serif\" font-size=\"14.00\">samples = 4744</text>\n",
       "<text text-anchor=\"start\" x=\"185\" y=\"-120.3\" font-family=\"Helvetica,sans-Serif\" font-size=\"14.00\">value = [2372.0, 2372.0]</text>\n",
       "<text text-anchor=\"start\" x=\"219\" y=\"-105.3\" font-family=\"Helvetica,sans-Serif\" font-size=\"14.00\">class = other</text>\n",
       "</g>\n",
       "<!-- 1 -->\n",
       "<g id=\"node2\" class=\"node\">\n",
       "<title>1</title>\n",
       "<path fill=\"#f1bd98\" stroke=\"black\" d=\"M162,-58C162,-58 12,-58 12,-58 6,-58 0,-52 0,-46 0,-46 0,-12 0,-12 0,-6 6,0 12,0 12,0 162,0 162,0 168,0 174,-6 174,-12 174,-12 174,-46 174,-46 174,-52 168,-58 162,-58\"/>\n",
       "<text text-anchor=\"start\" x=\"38.5\" y=\"-40.3\" font-family=\"Helvetica,sans-Serif\" font-size=\"14.00\">samples = 3448</text>\n",
       "<text text-anchor=\"start\" x=\"10\" y=\"-25.3\" font-family=\"Helvetica,sans-Serif\" font-size=\"14.00\">value = [2019.33, 969.07]</text>\n",
       "<text text-anchor=\"start\" x=\"48\" y=\"-10.3\" font-family=\"Helvetica,sans-Serif\" font-size=\"14.00\">class = other</text>\n",
       "</g>\n",
       "<!-- 0&#45;&gt;1 -->\n",
       "<g id=\"edge1\" class=\"edge\">\n",
       "<title>0&#45;&gt;1</title>\n",
       "<path fill=\"none\" stroke=\"black\" d=\"M195.78,-93.93C178.78,-83.94 160.45,-73.17 143.77,-63.36\"/>\n",
       "<polygon fill=\"black\" stroke=\"black\" points=\"145.09,-60.08 134.69,-58.03 141.54,-66.11 145.09,-60.08\"/>\n",
       "<text text-anchor=\"middle\" x=\"140.98\" y=\"-78.53\" font-family=\"Helvetica,sans-Serif\" font-size=\"14.00\">True</text>\n",
       "</g>\n",
       "<!-- 2 -->\n",
       "<g id=\"node3\" class=\"node\">\n",
       "<title>2</title>\n",
       "<path fill=\"#6bb6ec\" stroke=\"black\" d=\"M455.5,-58C455.5,-58 204.5,-58 204.5,-58 198.5,-58 192.5,-52 192.5,-46 192.5,-46 192.5,-12 192.5,-12 192.5,-6 198.5,0 204.5,0 204.5,0 455.5,0 455.5,0 461.5,0 467.5,-6 467.5,-12 467.5,-12 467.5,-46 467.5,-46 467.5,-52 461.5,-58 455.5,-58\"/>\n",
       "<text text-anchor=\"start\" x=\"281.5\" y=\"-40.3\" font-family=\"Helvetica,sans-Serif\" font-size=\"14.00\">samples = 1296</text>\n",
       "<text text-anchor=\"start\" x=\"253\" y=\"-25.3\" font-family=\"Helvetica,sans-Serif\" font-size=\"14.00\">value = [352.67, 1402.93]</text>\n",
       "<text text-anchor=\"start\" x=\"205\" y=\"-10.3\" font-family=\"Helvetica,sans-Serif\" font-size=\"14.00\">class = Erziehungs&#45;/Kulturwissenschaften</text>\n",
       "</g>\n",
       "<!-- 0&#45;&gt;2 -->\n",
       "<g id=\"edge2\" class=\"edge\">\n",
       "<title>0&#45;&gt;2</title>\n",
       "<path fill=\"none\" stroke=\"black\" d=\"M284.2,-93.93C290.6,-85 297.44,-75.45 303.84,-66.52\"/>\n",
       "<polygon fill=\"black\" stroke=\"black\" points=\"306.83,-68.36 309.81,-58.19 301.14,-64.28 306.83,-68.36\"/>\n",
       "<text text-anchor=\"middle\" x=\"313.88\" y=\"-79.15\" font-family=\"Helvetica,sans-Serif\" font-size=\"14.00\">False</text>\n",
       "</g>\n",
       "<!-- 0_gv1 -->\n",
       "<g id=\"node4\" class=\"node\">\n",
       "<title>0_gv1</title>\n",
       "<path fill=\"#ffffff\" stroke=\"black\" d=\"M798.5,-169C798.5,-169 589.5,-169 589.5,-169 583.5,-169 577.5,-163 577.5,-157 577.5,-157 577.5,-106 577.5,-106 577.5,-100 583.5,-94 589.5,-94 589.5,-94 798.5,-94 798.5,-94 804.5,-94 810.5,-100 810.5,-106 810.5,-106 810.5,-157 810.5,-157 810.5,-163 804.5,-169 798.5,-169\"/>\n",
       "<text text-anchor=\"start\" x=\"590\" y=\"-150.3\" font-family=\"Helvetica,sans-Serif\" font-size=\"14.00\">3d,modellierung,software ≤ 6174.0</text>\n",
       "<text text-anchor=\"start\" x=\"645.5\" y=\"-135.3\" font-family=\"Helvetica,sans-Serif\" font-size=\"14.00\">samples = 4744</text>\n",
       "<text text-anchor=\"start\" x=\"621\" y=\"-120.3\" font-family=\"Helvetica,sans-Serif\" font-size=\"14.00\">value = [2372.0, 2372.0]</text>\n",
       "<text text-anchor=\"start\" x=\"655\" y=\"-105.3\" font-family=\"Helvetica,sans-Serif\" font-size=\"14.00\">class = other</text>\n",
       "</g>\n",
       "<!-- 1_gv1 -->\n",
       "<g id=\"node5\" class=\"node\">\n",
       "<title>1_gv1</title>\n",
       "<path fill=\"#eda673\" stroke=\"black\" d=\"M706,-58C706,-58 540,-58 540,-58 534,-58 528,-52 528,-46 528,-46 528,-12 528,-12 528,-6 534,0 540,0 540,0 706,0 706,0 712,0 718,-6 718,-12 718,-12 718,-46 718,-46 718,-52 712,-58 706,-58\"/>\n",
       "<text text-anchor=\"start\" x=\"574.5\" y=\"-40.3\" font-family=\"Helvetica,sans-Serif\" font-size=\"14.00\">samples = 4128</text>\n",
       "<text text-anchor=\"start\" x=\"538.5\" y=\"-25.3\" font-family=\"Helvetica,sans-Serif\" font-size=\"14.00\">value = [2103.365, 621.238]</text>\n",
       "<text text-anchor=\"start\" x=\"584\" y=\"-10.3\" font-family=\"Helvetica,sans-Serif\" font-size=\"14.00\">class = other</text>\n",
       "</g>\n",
       "<!-- 0_gv1&#45;&gt;1_gv1 -->\n",
       "<g id=\"edge3\" class=\"edge\">\n",
       "<title>0_gv1&#45;&gt;1_gv1</title>\n",
       "<path fill=\"none\" stroke=\"black\" d=\"M668.17,-93.93C661.86,-85 655.11,-75.45 648.8,-66.52\"/>\n",
       "<polygon fill=\"black\" stroke=\"black\" points=\"651.54,-64.34 642.91,-58.19 645.83,-68.38 651.54,-64.34\"/>\n",
       "<text text-anchor=\"middle\" x=\"638.68\" y=\"-79.13\" font-family=\"Helvetica,sans-Serif\" font-size=\"14.00\">True</text>\n",
       "</g>\n",
       "<!-- 2_gv1 -->\n",
       "<g id=\"node6\" class=\"node\">\n",
       "<title>2_gv1</title>\n",
       "<path fill=\"#57ace9\" stroke=\"black\" d=\"M926,-58C926,-58 748,-58 748,-58 742,-58 736,-52 736,-46 736,-46 736,-12 736,-12 736,-6 742,0 748,0 748,0 926,0 926,0 932,0 938,-6 938,-12 938,-12 938,-46 938,-46 938,-52 932,-58 926,-58\"/>\n",
       "<text text-anchor=\"start\" x=\"792\" y=\"-40.3\" font-family=\"Helvetica,sans-Serif\" font-size=\"14.00\">samples = 616</text>\n",
       "<text text-anchor=\"start\" x=\"752.5\" y=\"-25.3\" font-family=\"Helvetica,sans-Serif\" font-size=\"14.00\">value = [268.635, 1750.762]</text>\n",
       "<text text-anchor=\"start\" x=\"746\" y=\"-10.3\" font-family=\"Helvetica,sans-Serif\" font-size=\"14.00\">class = Mathematik/Informatik</text>\n",
       "</g>\n",
       "<!-- 0_gv1&#45;&gt;2_gv1 -->\n",
       "<g id=\"edge4\" class=\"edge\">\n",
       "<title>0_gv1&#45;&gt;2_gv1</title>\n",
       "<path fill=\"none\" stroke=\"black\" d=\"M746.03,-93.93C759.92,-84.17 774.87,-73.67 788.55,-64.05\"/>\n",
       "<polygon fill=\"black\" stroke=\"black\" points=\"790.72,-66.8 796.89,-58.19 786.7,-61.07 790.72,-66.8\"/>\n",
       "<text text-anchor=\"middle\" x=\"792.59\" y=\"-79.12\" font-family=\"Helvetica,sans-Serif\" font-size=\"14.00\">False</text>\n",
       "</g>\n",
       "</g>\n",
       "</svg>\n"
      ],
      "text/plain": [
       "<graphviz.sources.Source at 0x7fec3b8f94b0>"
      ]
     },
     "metadata": {},
     "output_type": "display_data"
    },
    {
     "data": {
      "text/markdown": [
       "<span style=\"font-size:11pt\"><br><br></span>"
      ],
      "text/plain": [
       "<IPython.core.display.Markdown object>"
      ]
     },
     "metadata": {},
     "output_type": "display_data"
    },
    {
     "data": {
      "image/svg+xml": [
       "<?xml version=\"1.0\" encoding=\"UTF-8\" standalone=\"no\"?>\n",
       "<!DOCTYPE svg PUBLIC \"-//W3C//DTD SVG 1.1//EN\"\n",
       " \"http://www.w3.org/Graphics/SVG/1.1/DTD/svg11.dtd\">\n",
       "<!-- Generated by graphviz version 2.43.0 (0)\n",
       " -->\n",
       "<!-- Title: root Pages: 1 -->\n",
       "<svg width=\"947pt\" height=\"177pt\"\n",
       " viewBox=\"0.00 0.00 947.00 177.00\" xmlns=\"http://www.w3.org/2000/svg\" xmlns:xlink=\"http://www.w3.org/1999/xlink\">\n",
       "<g id=\"graph0\" class=\"graph\" transform=\"scale(1 1) rotate(0) translate(4 173)\">\n",
       "<title>root</title>\n",
       "<polygon fill=\"white\" stroke=\"transparent\" points=\"-4,4 -4,-173 943,-173 943,4 -4,4\"/>\n",
       "<!-- 0 -->\n",
       "<g id=\"node1\" class=\"node\">\n",
       "<title>0</title>\n",
       "<path fill=\"#ffffff\" stroke=\"black\" d=\"M428.5,-169C428.5,-169 89.5,-169 89.5,-169 83.5,-169 77.5,-163 77.5,-157 77.5,-157 77.5,-106 77.5,-106 77.5,-100 83.5,-94 89.5,-94 89.5,-94 428.5,-94 428.5,-94 434.5,-94 440.5,-100 440.5,-106 440.5,-106 440.5,-157 440.5,-157 440.5,-163 434.5,-169 428.5,-169\"/>\n",
       "<text text-anchor=\"start\" x=\"92\" y=\"-150.3\" font-family=\"Helvetica,sans-Serif\" font-size=\"14.00\">stadtgeographie,urbane,humangeographische ≤ 5907.5</text>\n",
       "<text text-anchor=\"start\" x=\"210.5\" y=\"-135.3\" font-family=\"Helvetica,sans-Serif\" font-size=\"14.00\">samples = 4744</text>\n",
       "<text text-anchor=\"start\" x=\"186\" y=\"-120.3\" font-family=\"Helvetica,sans-Serif\" font-size=\"14.00\">value = [2372.0, 2372.0]</text>\n",
       "<text text-anchor=\"start\" x=\"154.5\" y=\"-105.3\" font-family=\"Helvetica,sans-Serif\" font-size=\"14.00\">class = Kultur&#45;/Geowissenschaften</text>\n",
       "</g>\n",
       "<!-- 1 -->\n",
       "<g id=\"node2\" class=\"node\">\n",
       "<title>1</title>\n",
       "<path fill=\"#f6d2b8\" stroke=\"black\" d=\"M186,-58C186,-58 12,-58 12,-58 6,-58 0,-52 0,-46 0,-46 0,-12 0,-12 0,-6 6,0 12,0 12,0 186,0 186,0 192,0 198,-6 198,-12 198,-12 198,-46 198,-46 198,-52 192,-58 186,-58\"/>\n",
       "<text text-anchor=\"start\" x=\"50.5\" y=\"-40.3\" font-family=\"Helvetica,sans-Serif\" font-size=\"14.00\">samples = 3958</text>\n",
       "<text text-anchor=\"start\" x=\"11\" y=\"-25.3\" font-family=\"Helvetica,sans-Serif\" font-size=\"14.00\">value = [2138.461, 1371.237]</text>\n",
       "<text text-anchor=\"start\" x=\"60\" y=\"-10.3\" font-family=\"Helvetica,sans-Serif\" font-size=\"14.00\">class = other</text>\n",
       "</g>\n",
       "<!-- 0&#45;&gt;1 -->\n",
       "<g id=\"edge1\" class=\"edge\">\n",
       "<title>0&#45;&gt;1</title>\n",
       "<path fill=\"none\" stroke=\"black\" d=\"M200.78,-93.93C184.88,-83.94 167.73,-73.17 152.12,-63.36\"/>\n",
       "<polygon fill=\"black\" stroke=\"black\" points=\"153.95,-60.39 143.62,-58.03 150.23,-66.31 153.95,-60.39\"/>\n",
       "<text text-anchor=\"middle\" x=\"149.19\" y=\"-78.7\" font-family=\"Helvetica,sans-Serif\" font-size=\"14.00\">True</text>\n",
       "</g>\n",
       "<!-- 2 -->\n",
       "<g id=\"node3\" class=\"node\">\n",
       "<title>2</title>\n",
       "<path fill=\"#67b4eb\" stroke=\"black\" d=\"M435.5,-58C435.5,-58 228.5,-58 228.5,-58 222.5,-58 216.5,-52 216.5,-46 216.5,-46 216.5,-12 216.5,-12 216.5,-6 222.5,0 228.5,0 228.5,0 435.5,0 435.5,0 441.5,0 447.5,-6 447.5,-12 447.5,-12 447.5,-46 447.5,-46 447.5,-52 441.5,-58 435.5,-58\"/>\n",
       "<text text-anchor=\"start\" x=\"287\" y=\"-40.3\" font-family=\"Helvetica,sans-Serif\" font-size=\"14.00\">samples = 786</text>\n",
       "<text text-anchor=\"start\" x=\"247.5\" y=\"-25.3\" font-family=\"Helvetica,sans-Serif\" font-size=\"14.00\">value = [233.539, 1000.763]</text>\n",
       "<text text-anchor=\"start\" x=\"227.5\" y=\"-10.3\" font-family=\"Helvetica,sans-Serif\" font-size=\"14.00\">class = Kultur&#45;/Geowissenschaften</text>\n",
       "</g>\n",
       "<!-- 0&#45;&gt;2 -->\n",
       "<g id=\"edge2\" class=\"edge\">\n",
       "<title>0&#45;&gt;2</title>\n",
       "<path fill=\"none\" stroke=\"black\" d=\"M285.56,-93.93C292.05,-85 298.99,-75.45 305.48,-66.52\"/>\n",
       "<polygon fill=\"black\" stroke=\"black\" points=\"308.48,-68.34 311.53,-58.19 302.82,-64.22 308.48,-68.34\"/>\n",
       "<text text-anchor=\"middle\" x=\"315.44\" y=\"-79.18\" font-family=\"Helvetica,sans-Serif\" font-size=\"14.00\">False</text>\n",
       "</g>\n",
       "<!-- 0_gv1 -->\n",
       "<g id=\"node4\" class=\"node\">\n",
       "<title>0_gv1</title>\n",
       "<path fill=\"#ffffff\" stroke=\"black\" d=\"M836,-169C836,-169 558,-169 558,-169 552,-169 546,-163 546,-157 546,-157 546,-106 546,-106 546,-100 552,-94 558,-94 558,-94 836,-94 836,-94 842,-94 848,-100 848,-106 848,-106 848,-157 848,-157 848,-163 842,-169 836,-169\"/>\n",
       "<text text-anchor=\"start\" x=\"559.5\" y=\"-150.3\" font-family=\"Helvetica,sans-Serif\" font-size=\"14.00\">parteien,verfassung,demokratischen ≤ 5764.0</text>\n",
       "<text text-anchor=\"start\" x=\"648.5\" y=\"-135.3\" font-family=\"Helvetica,sans-Serif\" font-size=\"14.00\">samples = 4744</text>\n",
       "<text text-anchor=\"start\" x=\"624\" y=\"-120.3\" font-family=\"Helvetica,sans-Serif\" font-size=\"14.00\">value = [2372.0, 2372.0]</text>\n",
       "<text text-anchor=\"start\" x=\"658\" y=\"-105.3\" font-family=\"Helvetica,sans-Serif\" font-size=\"14.00\">class = other</text>\n",
       "</g>\n",
       "<!-- 1_gv1 -->\n",
       "<g id=\"node5\" class=\"node\">\n",
       "<title>1_gv1</title>\n",
       "<path fill=\"#f2c09c\" stroke=\"black\" d=\"M711,-58C711,-58 537,-58 537,-58 531,-58 525,-52 525,-46 525,-46 525,-12 525,-12 525,-6 531,0 537,0 537,0 711,0 711,0 717,0 723,-6 723,-12 723,-12 723,-46 723,-46 723,-52 717,-58 711,-58\"/>\n",
       "<text text-anchor=\"start\" x=\"575.5\" y=\"-40.3\" font-family=\"Helvetica,sans-Serif\" font-size=\"14.00\">samples = 3834</text>\n",
       "<text text-anchor=\"start\" x=\"536\" y=\"-25.3\" font-family=\"Helvetica,sans-Serif\" font-size=\"14.00\">value = [2016.117, 1004.912]</text>\n",
       "<text text-anchor=\"start\" x=\"585\" y=\"-10.3\" font-family=\"Helvetica,sans-Serif\" font-size=\"14.00\">class = other</text>\n",
       "</g>\n",
       "<!-- 0_gv1&#45;&gt;1_gv1 -->\n",
       "<g id=\"edge3\" class=\"edge\">\n",
       "<title>0_gv1&#45;&gt;1_gv1</title>\n",
       "<path fill=\"none\" stroke=\"black\" d=\"M670.44,-93.93C663.95,-85 657.01,-75.45 650.52,-66.52\"/>\n",
       "<polygon fill=\"black\" stroke=\"black\" points=\"653.18,-64.22 644.47,-58.19 647.52,-68.34 653.18,-64.22\"/>\n",
       "<text text-anchor=\"middle\" x=\"640.56\" y=\"-79.18\" font-family=\"Helvetica,sans-Serif\" font-size=\"14.00\">True</text>\n",
       "</g>\n",
       "<!-- 2_gv1 -->\n",
       "<g id=\"node6\" class=\"node\">\n",
       "<title>2_gv1</title>\n",
       "<path fill=\"#6db7ec\" stroke=\"black\" d=\"M927,-58C927,-58 753,-58 753,-58 747,-58 741,-52 741,-46 741,-46 741,-12 741,-12 741,-6 747,0 753,0 753,0 927,0 927,0 933,0 939,-6 939,-12 939,-12 939,-46 939,-46 939,-52 933,-58 927,-58\"/>\n",
       "<text text-anchor=\"start\" x=\"795\" y=\"-40.3\" font-family=\"Helvetica,sans-Serif\" font-size=\"14.00\">samples = 910</text>\n",
       "<text text-anchor=\"start\" x=\"755.5\" y=\"-25.3\" font-family=\"Helvetica,sans-Serif\" font-size=\"14.00\">value = [355.883, 1367.088]</text>\n",
       "<text text-anchor=\"start\" x=\"752\" y=\"-10.3\" font-family=\"Helvetica,sans-Serif\" font-size=\"14.00\">class = Sozialwissenschaften</text>\n",
       "</g>\n",
       "<!-- 0_gv1&#45;&gt;2_gv1 -->\n",
       "<g id=\"edge4\" class=\"edge\">\n",
       "<title>0_gv1&#45;&gt;2_gv1</title>\n",
       "<path fill=\"none\" stroke=\"black\" d=\"M749.03,-93.93C762.92,-84.17 777.87,-73.67 791.55,-64.05\"/>\n",
       "<polygon fill=\"black\" stroke=\"black\" points=\"793.72,-66.8 799.89,-58.19 789.7,-61.07 793.72,-66.8\"/>\n",
       "<text text-anchor=\"middle\" x=\"795.59\" y=\"-79.12\" font-family=\"Helvetica,sans-Serif\" font-size=\"14.00\">False</text>\n",
       "</g>\n",
       "</g>\n",
       "</svg>\n"
      ],
      "text/plain": [
       "<graphviz.sources.Source at 0x7fec3b8f9360>"
      ]
     },
     "metadata": {},
     "output_type": "display_data"
    },
    {
     "data": {
      "text/markdown": [
       "<span style=\"font-size:11pt\"><br><br></span>"
      ],
      "text/plain": [
       "<IPython.core.display.Markdown object>"
      ]
     },
     "metadata": {},
     "output_type": "display_data"
    },
    {
     "data": {
      "text/markdown": [
       "<span style=\"font-size:11pt\">Per-Class-Scores: Wirtschaftswissenschaften: 0.92, Physik: 0.77, Biologie/Chemie: 0.83, Humanwissenschaften: 0.67, Sprach-/Literaturwissenschaften: 0.84, Rechtswissenschaften: 0.90, Erziehungs-/Kulturwissenschaften: 0.79, Mathematik/Informatik: 0.89, Kultur-/Geowissenschaften: 0.81, Sozialwissenschaften: 0.83</span>"
      ],
      "text/plain": [
       "<IPython.core.display.Markdown object>"
      ]
     },
     "metadata": {},
     "output_type": "display_data"
    },
    {
     "data": {
      "text/markdown": [
       "<span style=\"font-size:11pt\">Unweighted Mean Accuracy: 82.41%</span>"
      ],
      "text/plain": [
       "<IPython.core.display.Markdown object>"
      ]
     },
     "metadata": {},
     "output_type": "display_data"
    },
    {
     "data": {
      "text/markdown": [
       "<span style=\"font-size:11pt\">Weighted Mean Accuracy: 81.37%</span>"
      ],
      "text/plain": [
       "<IPython.core.display.Markdown object>"
      ]
     },
     "metadata": {},
     "output_type": "display_data"
    }
   ],
   "source": [
    "# res = classify_shallowtree_multi(clusters, embedding, descriptions, ctx.obj[\"dataset_class\"], verbose=True)\n",
    "res = classify_shallowtree(clusters, embedding, descriptions, ctx.obj[\"dataset_class\"], one_vs_rest=True, dt_depth=1, test_percentage_crossval=0.33, \n",
    "                           classes=\"fachbereich\", verbose=True, return_features=False, balance_classes=True, do_plot=True)"
   ]
  },
  {
   "cell_type": "markdown",
   "id": "2d257607-1453-4f56-a3ed-06773fb42535",
   "metadata": {},
   "source": [
    "<br><br><br><br><br><br><br><br>\n",
    "\n",
    "# Classifying DDC"
   ]
  },
  {
   "cell_type": "code",
   "execution_count": 6,
   "id": "f2eb7bc0-9881-4e84-88a9-a6e4ad6877af",
   "metadata": {},
   "outputs": [
    {
     "name": "stdout",
     "output_type": "stream",
     "text": [
      "Dropping 6507/11601 (56.09%) courses - there is no DDC for them\n",
      "14 courses have multiple differing DDCs at this level!\n"
     ]
    },
    {
     "name": "stderr",
     "output_type": "stream",
     "text": [
      "derive_conceptualspace/load_data/dataset_specifics/siddata2022.py:52: UserWarning: Will return the first DDC for those ambiguous courses!\n"
     ]
    },
    {
     "data": {
      "text/markdown": [
       "<span style=\"font-size:11pt\">Using classes from ddc_l1 - 5094/11601 entities have a class</span>"
      ],
      "text/plain": [
       "<IPython.core.display.Markdown object>"
      ]
     },
     "metadata": {},
     "output_type": "display_data"
    },
    {
     "data": {
      "text/markdown": [
       "<span style=\"font-size:11pt\">Highest-ranking descriptions [with any class] per dimension:<br>    <span style=\"color: #0000ff\">bibliotheken          </span>: TUTORIUM: Einführung in die französische Kulturwissenschaft<br>    <span style=\"color: #0000ff\">verdeutlichen         </span>: Entwicklung von Kindern und Jugendlichen unter erschwerenden Bedingungen – Betrachtung im Kontext Schule<br>    <span style=\"color: #0000ff\">opnv                  </span>: Global Day of Coderetreat, alternativer Übungstermin zur Übung am 06.11.2020<br>    <span style=\"color: #0000ff\">schriftliche mundliche</span>: HannES Probeexamen<br>    <span style=\"color: #0000ff\">blockveranstaltungen  </span>: Einführung in das Studium der Geschichte<br>    <span style=\"color: #0000ff\">schwierige            </span>: ZQS/SK: Stimm- und Sprechtraining<br>    <span style=\"color: #0000ff\">erde                  </span>: Vorlesung: System \"Lebewesen & Ökozonen\"<br>    <span style=\"color: #0000ff\">bertolt brecht        </span>: Einführung in die neuere deutsche Literaturwissenschaft am Beispiel Gotthold Ephraim Lessings [NDL1B]<br>    <span style=\"color: #0000ff\">religionswissenschaft </span>: Säkularisierung, Individualisierung oder öffentliche Religion? Zum Verhältnis von Religion und Moderne (Online-Kurs)<br>    <span style=\"color: #0000ff\">vi                    </span>: Recht des Geistigen Eigentums, ab 5. Sem. Dipl. WPF SP 3<br>    <span style=\"color: #0000ff\">erkrankungen          </span>: Gesundheit und Krankheit als gesellschaftliche Konstruktionen? Zum soziologischen Verständnis von Gesundheit und Krankheit<br>    <span style=\"color: #0000ff\">gesammelt             </span>: Kinder als Erfinder - ein Tag in der Welt der Wissenschaften B.2 (1)<br>    <span style=\"color: #0000ff\">mitarbeiterinnen      </span>: 1.1 Arbeitsplatz Universität - Einführung für neue Beschäftigte und andere Interessierte<br>    <span style=\"color: #0000ff\">bietet uberblick      </span>: Einführung in die Sozialpsychologie (V)<br>    <span style=\"color: #0000ff\">lineare               </span>: Hackathon „Mobile Robotik“<br>    <span style=\"color: #0000ff\">verhaltens            </span>: Ausgewählte Experimente der Psychologie<br>    <span style=\"color: #0000ff\">weist                 </span>: digital: Aufräumen! Tätig sein!<br>    <span style=\"color: #0000ff\">parteien              </span>: Interessengruppenpolitik aus vergleichender Perspektive: Strukturen, Handeln und Konsequenzen<br>    <span style=\"color: #0000ff\">aktivitaten           </span>: Finanzpolitik in der Demokratie [Präsenz]<br>    <span style=\"color: #0000ff\">texte verfassen       </span>: Konstruiert, intersektional, queer? - Perspektiven, Konzepte und Themefelder sozialwissenschaftlicher Gender Studies</span>"
      ],
      "text/plain": [
       "<IPython.core.display.Markdown object>"
      ]
     },
     "metadata": {},
     "output_type": "display_data"
    },
    {
     "data": {
      "text/markdown": [
       "<span style=\"font-size:11pt\">Labels (10 classes): <span style=\"color: #0000ff\">Social sciences</span>: 1938, <span style=\"color: #0000ff\">History and geography</span>: 220, <span style=\"color: #0000ff\">Pure Science</span>: 254, <span style=\"color: #0000ff\">Literature</span>: 356, <span style=\"color: #0000ff\">Arts and recreation</span>: 412, <span style=\"color: #0000ff\">Technology</span>: 678, <span style=\"color: #0000ff\">Religion</span>: 229, <span style=\"color: #0000ff\">Computer science, information, general</span>: 323, <span style=\"color: #0000ff\">Language</span>: 430, <span style=\"color: #0000ff\">Philosophy and psychology</span>: 254</span>"
      ],
      "text/plain": [
       "<IPython.core.display.Markdown object>"
      ]
     },
     "metadata": {},
     "output_type": "display_data"
    },
    {
     "data": {
      "text/markdown": [
       "<span style=\"font-size:11pt\">Eval-Settings: type: <span style=\"color: #0000ff\">one-vs-rest</span>, DT-Depth: <span style=\"color: #0000ff\">1</span>, train-test-split:<span style=\"color: #0000ff\"> 33.0% in test-set </span></span>"
      ],
      "text/plain": [
       "<IPython.core.display.Markdown object>"
      ]
     },
     "metadata": {},
     "output_type": "display_data"
    },
    {
     "name": "stderr",
     "output_type": "stream",
     "text": [
      "Warning: node 0 in graph[1] Tree already defined\n",
      "Some nodes will be renamed.\n",
      "Warning: node 0 in graph[1] Tree already defined\n",
      "Some nodes will be renamed.\n",
      "Warning: node 0 in graph[1] Tree already defined\n",
      "Some nodes will be renamed.\n",
      "Warning: node 0 in graph[1] Tree already defined\n",
      "Some nodes will be renamed.\n",
      "Warning: node 0 in graph[1] Tree already defined\n",
      "Some nodes will be renamed.\n"
     ]
    },
    {
     "data": {
      "image/svg+xml": [
       "<?xml version=\"1.0\" encoding=\"UTF-8\" standalone=\"no\"?>\n",
       "<!DOCTYPE svg PUBLIC \"-//W3C//DTD SVG 1.1//EN\"\n",
       " \"http://www.w3.org/Graphics/SVG/1.1/DTD/svg11.dtd\">\n",
       "<!-- Generated by graphviz version 2.43.0 (0)\n",
       " -->\n",
       "<!-- Title: root Pages: 1 -->\n",
       "<svg width=\"891pt\" height=\"177pt\"\n",
       " viewBox=\"0.00 0.00 891.00 177.00\" xmlns=\"http://www.w3.org/2000/svg\" xmlns:xlink=\"http://www.w3.org/1999/xlink\">\n",
       "<g id=\"graph0\" class=\"graph\" transform=\"scale(1 1) rotate(0) translate(4 173)\">\n",
       "<title>root</title>\n",
       "<polygon fill=\"white\" stroke=\"transparent\" points=\"-4,4 -4,-173 887,-173 887,4 -4,4\"/>\n",
       "<!-- 0 -->\n",
       "<g id=\"node1\" class=\"node\">\n",
       "<title>0</title>\n",
       "<path fill=\"#ffffff\" stroke=\"black\" d=\"M382,-169C382,-169 132,-169 132,-169 126,-169 120,-163 120,-157 120,-157 120,-106 120,-106 120,-100 126,-94 132,-94 132,-94 382,-94 382,-94 388,-94 394,-100 394,-106 394,-106 394,-157 394,-157 394,-163 388,-169 382,-169\"/>\n",
       "<text text-anchor=\"start\" x=\"133.5\" y=\"-150.3\" font-family=\"Helvetica,sans-Serif\" font-size=\"14.00\">gehirn,psychologische,kognitive ≤ 3337.5</text>\n",
       "<text text-anchor=\"start\" x=\"208.5\" y=\"-135.3\" font-family=\"Helvetica,sans-Serif\" font-size=\"14.00\">samples = 3412</text>\n",
       "<text text-anchor=\"start\" x=\"184\" y=\"-120.3\" font-family=\"Helvetica,sans-Serif\" font-size=\"14.00\">value = [1706.0, 1706.0]</text>\n",
       "<text text-anchor=\"start\" x=\"151.5\" y=\"-105.3\" font-family=\"Helvetica,sans-Serif\" font-size=\"14.00\">class = Philosophy and psychology</text>\n",
       "</g>\n",
       "<!-- 1 -->\n",
       "<g id=\"node2\" class=\"node\">\n",
       "<title>1</title>\n",
       "<path fill=\"#eeab7c\" stroke=\"black\" d=\"M178,-58C178,-58 12,-58 12,-58 6,-58 0,-52 0,-46 0,-46 0,-12 0,-12 0,-6 6,0 12,0 12,0 178,0 178,0 184,0 190,-6 190,-12 190,-12 190,-46 190,-46 190,-52 184,-58 178,-58\"/>\n",
       "<text text-anchor=\"start\" x=\"46.5\" y=\"-40.3\" font-family=\"Helvetica,sans-Serif\" font-size=\"14.00\">samples = 2227</text>\n",
       "<text text-anchor=\"start\" x=\"10.5\" y=\"-25.3\" font-family=\"Helvetica,sans-Serif\" font-size=\"14.00\">value = [1149.935, 387.252]</text>\n",
       "<text text-anchor=\"start\" x=\"56\" y=\"-10.3\" font-family=\"Helvetica,sans-Serif\" font-size=\"14.00\">class = other</text>\n",
       "</g>\n",
       "<!-- 0&#45;&gt;1 -->\n",
       "<g id=\"edge1\" class=\"edge\">\n",
       "<title>0&#45;&gt;1</title>\n",
       "<path fill=\"none\" stroke=\"black\" d=\"M198.06,-93.93C181.95,-83.94 164.58,-73.17 148.78,-63.36\"/>\n",
       "<polygon fill=\"black\" stroke=\"black\" points=\"150.53,-60.33 140.18,-58.03 146.83,-66.28 150.53,-60.33\"/>\n",
       "<text text-anchor=\"middle\" x=\"145.89\" y=\"-78.67\" font-family=\"Helvetica,sans-Serif\" font-size=\"14.00\">True</text>\n",
       "</g>\n",
       "<!-- 2 -->\n",
       "<g id=\"node3\" class=\"node\">\n",
       "<title>2</title>\n",
       "<path fill=\"#8cc6f0\" stroke=\"black\" d=\"M429.5,-58C429.5,-58 220.5,-58 220.5,-58 214.5,-58 208.5,-52 208.5,-46 208.5,-46 208.5,-12 208.5,-12 208.5,-6 214.5,0 220.5,0 220.5,0 429.5,0 429.5,0 435.5,0 441.5,-6 441.5,-12 441.5,-12 441.5,-46 441.5,-46 441.5,-52 435.5,-58 429.5,-58\"/>\n",
       "<text text-anchor=\"start\" x=\"276.5\" y=\"-40.3\" font-family=\"Helvetica,sans-Serif\" font-size=\"14.00\">samples = 1185</text>\n",
       "<text text-anchor=\"start\" x=\"240.5\" y=\"-25.3\" font-family=\"Helvetica,sans-Serif\" font-size=\"14.00\">value = [556.065, 1318.748]</text>\n",
       "<text text-anchor=\"start\" x=\"219.5\" y=\"-10.3\" font-family=\"Helvetica,sans-Serif\" font-size=\"14.00\">class = Philosophy and psychology</text>\n",
       "</g>\n",
       "<!-- 0&#45;&gt;2 -->\n",
       "<g id=\"edge2\" class=\"edge\">\n",
       "<title>0&#45;&gt;2</title>\n",
       "<path fill=\"none\" stroke=\"black\" d=\"M281.74,-93.93C287.79,-85 294.25,-75.45 300.29,-66.52\"/>\n",
       "<polygon fill=\"black\" stroke=\"black\" points=\"303.22,-68.43 305.93,-58.19 297.42,-64.51 303.22,-68.43\"/>\n",
       "<text text-anchor=\"middle\" x=\"310.66\" y=\"-79.04\" font-family=\"Helvetica,sans-Serif\" font-size=\"14.00\">False</text>\n",
       "</g>\n",
       "<!-- 0_gv1 -->\n",
       "<g id=\"node4\" class=\"node\">\n",
       "<title>0_gv1</title>\n",
       "<path fill=\"#ffffff\" stroke=\"black\" d=\"M802,-169C802,-169 518,-169 518,-169 512,-169 506,-163 506,-157 506,-157 506,-106 506,-106 506,-100 512,-94 518,-94 518,-94 802,-94 802,-94 808,-94 814,-100 814,-106 814,-106 814,-157 814,-157 814,-163 808,-169 802,-169\"/>\n",
       "<text text-anchor=\"start\" x=\"520\" y=\"-150.3\" font-family=\"Helvetica,sans-Serif\" font-size=\"14.00\">tanz,unterrichtsstunden,kunstlerische ≤ 3991.0</text>\n",
       "<text text-anchor=\"start\" x=\"611.5\" y=\"-135.3\" font-family=\"Helvetica,sans-Serif\" font-size=\"14.00\">samples = 3412</text>\n",
       "<text text-anchor=\"start\" x=\"587\" y=\"-120.3\" font-family=\"Helvetica,sans-Serif\" font-size=\"14.00\">value = [1706.0, 1706.0]</text>\n",
       "<text text-anchor=\"start\" x=\"621\" y=\"-105.3\" font-family=\"Helvetica,sans-Serif\" font-size=\"14.00\">class = other</text>\n",
       "</g>\n",
       "<!-- 1_gv1 -->\n",
       "<g id=\"node5\" class=\"node\">\n",
       "<title>1_gv1</title>\n",
       "<path fill=\"#efb388\" stroke=\"black\" d=\"M671,-58C671,-58 513,-58 513,-58 507,-58 501,-52 501,-46 501,-46 501,-12 501,-12 501,-6 507,0 513,0 513,0 671,0 671,0 677,0 683,-6 683,-12 683,-12 683,-46 683,-46 683,-52 677,-58 671,-58\"/>\n",
       "<text text-anchor=\"start\" x=\"543.5\" y=\"-40.3\" font-family=\"Helvetica,sans-Serif\" font-size=\"14.00\">samples = 2656</text>\n",
       "<text text-anchor=\"start\" x=\"511.5\" y=\"-25.3\" font-family=\"Helvetica,sans-Serif\" font-size=\"14.00\">value = [1398.647, 558.76]</text>\n",
       "<text text-anchor=\"start\" x=\"553\" y=\"-10.3\" font-family=\"Helvetica,sans-Serif\" font-size=\"14.00\">class = other</text>\n",
       "</g>\n",
       "<!-- 0_gv1&#45;&gt;1_gv1 -->\n",
       "<g id=\"edge3\" class=\"edge\">\n",
       "<title>0_gv1&#45;&gt;1_gv1</title>\n",
       "<path fill=\"none\" stroke=\"black\" d=\"M635.26,-93.93C629.21,-85 622.75,-75.45 616.71,-66.52\"/>\n",
       "<polygon fill=\"black\" stroke=\"black\" points=\"619.58,-64.51 611.07,-58.19 613.78,-68.43 619.58,-64.51\"/>\n",
       "<text text-anchor=\"middle\" x=\"606.34\" y=\"-79.04\" font-family=\"Helvetica,sans-Serif\" font-size=\"14.00\">True</text>\n",
       "</g>\n",
       "<!-- 2_gv1 -->\n",
       "<g id=\"node6\" class=\"node\">\n",
       "<title>2_gv1</title>\n",
       "<path fill=\"#6eb7ec\" stroke=\"black\" d=\"M871,-58C871,-58 713,-58 713,-58 707,-58 701,-52 701,-46 701,-46 701,-12 701,-12 701,-6 707,0 713,0 713,0 871,0 871,0 877,0 883,-6 883,-12 883,-12 883,-46 883,-46 883,-52 877,-58 871,-58\"/>\n",
       "<text text-anchor=\"start\" x=\"747\" y=\"-40.3\" font-family=\"Helvetica,sans-Serif\" font-size=\"14.00\">samples = 756</text>\n",
       "<text text-anchor=\"start\" x=\"711.5\" y=\"-25.3\" font-family=\"Helvetica,sans-Serif\" font-size=\"14.00\">value = [307.353, 1147.24]</text>\n",
       "<text text-anchor=\"start\" x=\"711.5\" y=\"-10.3\" font-family=\"Helvetica,sans-Serif\" font-size=\"14.00\">class = Arts and recreation</text>\n",
       "</g>\n",
       "<!-- 0_gv1&#45;&gt;2_gv1 -->\n",
       "<g id=\"edge4\" class=\"edge\">\n",
       "<title>0_gv1&#45;&gt;2_gv1</title>\n",
       "<path fill=\"none\" stroke=\"black\" d=\"M708.03,-93.93C720.73,-84.26 734.39,-73.86 746.92,-64.32\"/>\n",
       "<polygon fill=\"black\" stroke=\"black\" points=\"749.14,-67.03 754.98,-58.19 744.9,-61.46 749.14,-67.03\"/>\n",
       "<text text-anchor=\"middle\" x=\"751.62\" y=\"-79.26\" font-family=\"Helvetica,sans-Serif\" font-size=\"14.00\">False</text>\n",
       "</g>\n",
       "</g>\n",
       "</svg>\n"
      ],
      "text/plain": [
       "<graphviz.sources.Source at 0x7fec3b72c0a0>"
      ]
     },
     "metadata": {},
     "output_type": "display_data"
    },
    {
     "data": {
      "text/markdown": [
       "<span style=\"font-size:11pt\"><br><br></span>"
      ],
      "text/plain": [
       "<IPython.core.display.Markdown object>"
      ]
     },
     "metadata": {},
     "output_type": "display_data"
    },
    {
     "data": {
      "image/svg+xml": [
       "<?xml version=\"1.0\" encoding=\"UTF-8\" standalone=\"no\"?>\n",
       "<!DOCTYPE svg PUBLIC \"-//W3C//DTD SVG 1.1//EN\"\n",
       " \"http://www.w3.org/Graphics/SVG/1.1/DTD/svg11.dtd\">\n",
       "<!-- Generated by graphviz version 2.43.0 (0)\n",
       " -->\n",
       "<!-- Title: root Pages: 1 -->\n",
       "<svg width=\"828pt\" height=\"177pt\"\n",
       " viewBox=\"0.00 0.00 828.00 177.00\" xmlns=\"http://www.w3.org/2000/svg\" xmlns:xlink=\"http://www.w3.org/1999/xlink\">\n",
       "<g id=\"graph0\" class=\"graph\" transform=\"scale(1 1) rotate(0) translate(4 173)\">\n",
       "<title>root</title>\n",
       "<polygon fill=\"white\" stroke=\"transparent\" points=\"-4,4 -4,-173 824,-173 824,4 -4,4\"/>\n",
       "<!-- 0 -->\n",
       "<g id=\"node1\" class=\"node\">\n",
       "<title>0</title>\n",
       "<path fill=\"#ffffff\" stroke=\"black\" d=\"M341.5,-169C341.5,-169 120.5,-169 120.5,-169 114.5,-169 108.5,-163 108.5,-157 108.5,-157 108.5,-106 108.5,-106 108.5,-100 114.5,-94 120.5,-94 120.5,-94 341.5,-94 341.5,-94 347.5,-94 353.5,-100 353.5,-106 353.5,-106 353.5,-157 353.5,-157 353.5,-163 347.5,-169 341.5,-169\"/>\n",
       "<text text-anchor=\"start\" x=\"121\" y=\"-150.3\" font-family=\"Helvetica,sans-Serif\" font-size=\"14.00\">paulus,christus,reformation ≤ 4635.5</text>\n",
       "<text text-anchor=\"start\" x=\"182.5\" y=\"-135.3\" font-family=\"Helvetica,sans-Serif\" font-size=\"14.00\">samples = 3412</text>\n",
       "<text text-anchor=\"start\" x=\"158\" y=\"-120.3\" font-family=\"Helvetica,sans-Serif\" font-size=\"14.00\">value = [1706.0, 1706.0]</text>\n",
       "<text text-anchor=\"start\" x=\"192\" y=\"-105.3\" font-family=\"Helvetica,sans-Serif\" font-size=\"14.00\">class = other</text>\n",
       "</g>\n",
       "<!-- 1 -->\n",
       "<g id=\"node2\" class=\"node\">\n",
       "<title>1</title>\n",
       "<path fill=\"#eca470\" stroke=\"black\" d=\"M170,-58C170,-58 12,-58 12,-58 6,-58 0,-52 0,-46 0,-46 0,-12 0,-12 0,-6 6,0 12,0 12,0 170,0 170,0 176,0 182,-6 182,-12 182,-12 182,-46 182,-46 182,-52 176,-58 170,-58\"/>\n",
       "<text text-anchor=\"start\" x=\"42.5\" y=\"-40.3\" font-family=\"Helvetica,sans-Serif\" font-size=\"14.00\">samples = 3095</text>\n",
       "<text text-anchor=\"start\" x=\"10.5\" y=\"-25.3\" font-family=\"Helvetica,sans-Serif\" font-size=\"14.00\">value = [1602.59, 442.296]</text>\n",
       "<text text-anchor=\"start\" x=\"52\" y=\"-10.3\" font-family=\"Helvetica,sans-Serif\" font-size=\"14.00\">class = other</text>\n",
       "</g>\n",
       "<!-- 0&#45;&gt;1 -->\n",
       "<g id=\"edge1\" class=\"edge\">\n",
       "<title>0&#45;&gt;1</title>\n",
       "<path fill=\"none\" stroke=\"black\" d=\"M180.06,-93.93C166.46,-84.17 151.83,-73.67 138.43,-64.05\"/>\n",
       "<polygon fill=\"black\" stroke=\"black\" points=\"140.43,-61.18 130.27,-58.19 136.35,-66.86 140.43,-61.18\"/>\n",
       "<text text-anchor=\"middle\" x=\"134.32\" y=\"-79.16\" font-family=\"Helvetica,sans-Serif\" font-size=\"14.00\">True</text>\n",
       "</g>\n",
       "<!-- 2 -->\n",
       "<g id=\"node3\" class=\"node\">\n",
       "<title>2</title>\n",
       "<path fill=\"#49a5e7\" stroke=\"black\" d=\"M370,-58C370,-58 212,-58 212,-58 206,-58 200,-52 200,-46 200,-46 200,-12 200,-12 200,-6 206,0 212,0 212,0 370,0 370,0 376,0 382,-6 382,-12 382,-12 382,-46 382,-46 382,-52 376,-58 370,-58\"/>\n",
       "<text text-anchor=\"start\" x=\"246\" y=\"-40.3\" font-family=\"Helvetica,sans-Serif\" font-size=\"14.00\">samples = 317</text>\n",
       "<text text-anchor=\"start\" x=\"210.5\" y=\"-25.3\" font-family=\"Helvetica,sans-Serif\" font-size=\"14.00\">value = [103.41, 1263.704]</text>\n",
       "<text text-anchor=\"start\" x=\"243\" y=\"-10.3\" font-family=\"Helvetica,sans-Serif\" font-size=\"14.00\">class = Religion</text>\n",
       "</g>\n",
       "<!-- 0&#45;&gt;2 -->\n",
       "<g id=\"edge2\" class=\"edge\">\n",
       "<title>0&#45;&gt;2</title>\n",
       "<path fill=\"none\" stroke=\"black\" d=\"M252.83,-93.93C258.11,-85.09 263.75,-75.64 269.03,-66.79\"/>\n",
       "<polygon fill=\"black\" stroke=\"black\" points=\"272.05,-68.57 274.17,-58.19 266.04,-64.98 272.05,-68.57\"/>\n",
       "<text text-anchor=\"middle\" x=\"280.29\" y=\"-78.73\" font-family=\"Helvetica,sans-Serif\" font-size=\"14.00\">False</text>\n",
       "</g>\n",
       "<!-- 0_gv1 -->\n",
       "<g id=\"node4\" class=\"node\">\n",
       "<title>0_gv1</title>\n",
       "<path fill=\"#ffffff\" stroke=\"black\" d=\"M712,-169C712,-169 464,-169 464,-169 458,-169 452,-163 452,-157 452,-157 452,-106 452,-106 452,-100 458,-94 464,-94 464,-94 712,-94 712,-94 718,-94 724,-100 724,-106 724,-106 724,-157 724,-157 724,-163 718,-169 712,-169\"/>\n",
       "<text text-anchor=\"start\" x=\"465\" y=\"-150.3\" font-family=\"Helvetica,sans-Serif\" font-size=\"14.00\">deutschen literatur,heine,moritz ≤ 4424.5</text>\n",
       "<text text-anchor=\"start\" x=\"539.5\" y=\"-135.3\" font-family=\"Helvetica,sans-Serif\" font-size=\"14.00\">samples = 3412</text>\n",
       "<text text-anchor=\"start\" x=\"515\" y=\"-120.3\" font-family=\"Helvetica,sans-Serif\" font-size=\"14.00\">value = [1706.0, 1706.0]</text>\n",
       "<text text-anchor=\"start\" x=\"536\" y=\"-105.3\" font-family=\"Helvetica,sans-Serif\" font-size=\"14.00\">class = Literature</text>\n",
       "</g>\n",
       "<!-- 1_gv1 -->\n",
       "<g id=\"node5\" class=\"node\">\n",
       "<title>1_gv1</title>\n",
       "<path fill=\"#efb185\" stroke=\"black\" d=\"M608,-58C608,-58 450,-58 450,-58 444,-58 438,-52 438,-46 438,-46 438,-12 438,-12 438,-6 444,0 450,0 450,0 608,0 608,0 614,0 620,-6 620,-12 620,-12 620,-46 620,-46 620,-52 614,-58 608,-58\"/>\n",
       "<text text-anchor=\"start\" x=\"480.5\" y=\"-40.3\" font-family=\"Helvetica,sans-Serif\" font-size=\"14.00\">samples = 2973</text>\n",
       "<text text-anchor=\"start\" x=\"448.5\" y=\"-25.3\" font-family=\"Helvetica,sans-Serif\" font-size=\"14.00\">value = [1553.352, 594.95]</text>\n",
       "<text text-anchor=\"start\" x=\"490\" y=\"-10.3\" font-family=\"Helvetica,sans-Serif\" font-size=\"14.00\">class = other</text>\n",
       "</g>\n",
       "<!-- 0_gv1&#45;&gt;1_gv1 -->\n",
       "<g id=\"edge3\" class=\"edge\">\n",
       "<title>0_gv1&#45;&gt;1_gv1</title>\n",
       "<path fill=\"none\" stroke=\"black\" d=\"M566.53,-93.93C561.4,-85.19 555.91,-75.84 550.76,-67.07\"/>\n",
       "<polygon fill=\"black\" stroke=\"black\" points=\"553.63,-65.04 545.55,-58.19 547.59,-68.58 553.63,-65.04\"/>\n",
       "<text text-anchor=\"middle\" x=\"539.25\" y=\"-78.68\" font-family=\"Helvetica,sans-Serif\" font-size=\"14.00\">True</text>\n",
       "</g>\n",
       "<!-- 2_gv1 -->\n",
       "<g id=\"node6\" class=\"node\">\n",
       "<title>2_gv1</title>\n",
       "<path fill=\"#54aae9\" stroke=\"black\" d=\"M808,-58C808,-58 650,-58 650,-58 644,-58 638,-52 638,-46 638,-46 638,-12 638,-12 638,-6 644,0 650,0 650,0 808,0 808,0 814,0 820,-6 820,-12 820,-12 820,-46 820,-46 820,-52 814,-58 808,-58\"/>\n",
       "<text text-anchor=\"start\" x=\"684\" y=\"-40.3\" font-family=\"Helvetica,sans-Serif\" font-size=\"14.00\">samples = 439</text>\n",
       "<text text-anchor=\"start\" x=\"649\" y=\"-25.3\" font-family=\"Helvetica,sans-Serif\" font-size=\"14.00\">value = [152.648, 1111.05]</text>\n",
       "<text text-anchor=\"start\" x=\"677\" y=\"-10.3\" font-family=\"Helvetica,sans-Serif\" font-size=\"14.00\">class = Literature</text>\n",
       "</g>\n",
       "<!-- 0_gv1&#45;&gt;2_gv1 -->\n",
       "<g id=\"edge4\" class=\"edge\">\n",
       "<title>0_gv1&#45;&gt;2_gv1</title>\n",
       "<path fill=\"none\" stroke=\"black\" d=\"M639.3,-93.93C653,-84.17 667.74,-73.67 681.23,-64.05\"/>\n",
       "<polygon fill=\"black\" stroke=\"black\" points=\"683.34,-66.84 689.45,-58.19 679.28,-61.14 683.34,-66.84\"/>\n",
       "<text text-anchor=\"middle\" x=\"685.32\" y=\"-79.14\" font-family=\"Helvetica,sans-Serif\" font-size=\"14.00\">False</text>\n",
       "</g>\n",
       "</g>\n",
       "</svg>\n"
      ],
      "text/plain": [
       "<graphviz.sources.Source at 0x7fec3b72cbe0>"
      ]
     },
     "metadata": {},
     "output_type": "display_data"
    },
    {
     "data": {
      "text/markdown": [
       "<span style=\"font-size:11pt\"><br><br></span>"
      ],
      "text/plain": [
       "<IPython.core.display.Markdown object>"
      ]
     },
     "metadata": {},
     "output_type": "display_data"
    },
    {
     "data": {
      "image/svg+xml": [
       "<?xml version=\"1.0\" encoding=\"UTF-8\" standalone=\"no\"?>\n",
       "<!DOCTYPE svg PUBLIC \"-//W3C//DTD SVG 1.1//EN\"\n",
       " \"http://www.w3.org/Graphics/SVG/1.1/DTD/svg11.dtd\">\n",
       "<!-- Generated by graphviz version 2.43.0 (0)\n",
       " -->\n",
       "<!-- Title: root Pages: 1 -->\n",
       "<svg width=\"1013pt\" height=\"177pt\"\n",
       " viewBox=\"0.00 0.00 1013.00 177.00\" xmlns=\"http://www.w3.org/2000/svg\" xmlns:xlink=\"http://www.w3.org/1999/xlink\">\n",
       "<g id=\"graph0\" class=\"graph\" transform=\"scale(1 1) rotate(0) translate(4 173)\">\n",
       "<title>root</title>\n",
       "<polygon fill=\"white\" stroke=\"transparent\" points=\"-4,4 -4,-173 1009,-173 1009,4 -4,4\"/>\n",
       "<!-- 0 -->\n",
       "<g id=\"node1\" class=\"node\">\n",
       "<title>0</title>\n",
       "<path fill=\"#ffffff\" stroke=\"black\" d=\"M409.5,-169C409.5,-169 52.5,-169 52.5,-169 46.5,-169 40.5,-163 40.5,-157 40.5,-157 40.5,-106 40.5,-106 40.5,-100 46.5,-94 52.5,-94 52.5,-94 409.5,-94 409.5,-94 415.5,-94 421.5,-100 421.5,-106 421.5,-106 421.5,-157 421.5,-157 421.5,-163 415.5,-169 409.5,-169\"/>\n",
       "<text text-anchor=\"start\" x=\"56\" y=\"-150.3\" font-family=\"Helvetica,sans-Serif\" font-size=\"14.00\">offentliches,offentlichkeitsarbeit,verwaltungsrecht ≤ 4822.0</text>\n",
       "<text text-anchor=\"start\" x=\"182.5\" y=\"-135.3\" font-family=\"Helvetica,sans-Serif\" font-size=\"14.00\">samples = 3412</text>\n",
       "<text text-anchor=\"start\" x=\"158\" y=\"-120.3\" font-family=\"Helvetica,sans-Serif\" font-size=\"14.00\">value = [1706.0, 1706.0]</text>\n",
       "<text text-anchor=\"start\" x=\"192\" y=\"-105.3\" font-family=\"Helvetica,sans-Serif\" font-size=\"14.00\">class = other</text>\n",
       "</g>\n",
       "<!-- 1 -->\n",
       "<g id=\"node2\" class=\"node\">\n",
       "<title>1</title>\n",
       "<path fill=\"#fcf0e7\" stroke=\"black\" d=\"M186,-58C186,-58 12,-58 12,-58 6,-58 0,-52 0,-46 0,-46 0,-12 0,-12 0,-6 6,0 12,0 12,0 186,0 186,0 192,0 198,-6 198,-12 198,-12 198,-46 198,-46 198,-52 192,-58 186,-58\"/>\n",
       "<text text-anchor=\"start\" x=\"50.5\" y=\"-40.3\" font-family=\"Helvetica,sans-Serif\" font-size=\"14.00\">samples = 3226</text>\n",
       "<text text-anchor=\"start\" x=\"11\" y=\"-25.3\" font-family=\"Helvetica,sans-Serif\" font-size=\"14.00\">value = [1689.959, 1485.614]</text>\n",
       "<text text-anchor=\"start\" x=\"60\" y=\"-10.3\" font-family=\"Helvetica,sans-Serif\" font-size=\"14.00\">class = other</text>\n",
       "</g>\n",
       "<!-- 0&#45;&gt;1 -->\n",
       "<g id=\"edge1\" class=\"edge\">\n",
       "<title>0&#45;&gt;1</title>\n",
       "<path fill=\"none\" stroke=\"black\" d=\"M182.97,-93.93C170.27,-84.26 156.61,-73.86 144.08,-64.32\"/>\n",
       "<polygon fill=\"black\" stroke=\"black\" points=\"146.1,-61.46 136.02,-58.19 141.86,-67.03 146.1,-61.46\"/>\n",
       "<text text-anchor=\"middle\" x=\"139.38\" y=\"-79.26\" font-family=\"Helvetica,sans-Serif\" font-size=\"14.00\">True</text>\n",
       "</g>\n",
       "<!-- 2 -->\n",
       "<g id=\"node3\" class=\"node\">\n",
       "<title>2</title>\n",
       "<path fill=\"#47a4e7\" stroke=\"black\" d=\"M378,-58C378,-58 228,-58 228,-58 222,-58 216,-52 216,-46 216,-46 216,-12 216,-12 216,-6 222,0 228,0 228,0 378,0 378,0 384,0 390,-6 390,-12 390,-12 390,-46 390,-46 390,-52 384,-58 378,-58\"/>\n",
       "<text text-anchor=\"start\" x=\"258\" y=\"-40.3\" font-family=\"Helvetica,sans-Serif\" font-size=\"14.00\">samples = 186</text>\n",
       "<text text-anchor=\"start\" x=\"226\" y=\"-25.3\" font-family=\"Helvetica,sans-Serif\" font-size=\"14.00\">value = [16.041, 220.386]</text>\n",
       "<text text-anchor=\"start\" x=\"233\" y=\"-10.3\" font-family=\"Helvetica,sans-Serif\" font-size=\"14.00\">class = Social sciences</text>\n",
       "</g>\n",
       "<!-- 0&#45;&gt;2 -->\n",
       "<g id=\"edge2\" class=\"edge\">\n",
       "<title>0&#45;&gt;2</title>\n",
       "<path fill=\"none\" stroke=\"black\" d=\"M257.2,-93.93C263.6,-85 270.44,-75.45 276.84,-66.52\"/>\n",
       "<polygon fill=\"black\" stroke=\"black\" points=\"279.83,-68.36 282.81,-58.19 274.14,-64.28 279.83,-68.36\"/>\n",
       "<text text-anchor=\"middle\" x=\"286.88\" y=\"-79.15\" font-family=\"Helvetica,sans-Serif\" font-size=\"14.00\">False</text>\n",
       "</g>\n",
       "<!-- 0_gv1 -->\n",
       "<g id=\"node4\" class=\"node\">\n",
       "<title>0_gv1</title>\n",
       "<path fill=\"#ffffff\" stroke=\"black\" d=\"M797,-169C797,-169 513,-169 513,-169 507,-169 501,-163 501,-157 501,-157 501,-106 501,-106 501,-100 507,-94 513,-94 513,-94 797,-94 797,-94 803,-94 809,-100 809,-106 809,-106 809,-157 809,-157 809,-163 803,-169 797,-169\"/>\n",
       "<text text-anchor=\"start\" x=\"562.5\" y=\"-150.3\" font-family=\"Helvetica,sans-Serif\" font-size=\"14.00\">festlegen,00 13,video ≤ 3456.5</text>\n",
       "<text text-anchor=\"start\" x=\"606.5\" y=\"-135.3\" font-family=\"Helvetica,sans-Serif\" font-size=\"14.00\">samples = 3412</text>\n",
       "<text text-anchor=\"start\" x=\"582\" y=\"-120.3\" font-family=\"Helvetica,sans-Serif\" font-size=\"14.00\">value = [1706.0, 1706.0]</text>\n",
       "<text text-anchor=\"start\" x=\"513\" y=\"-105.3\" font-family=\"Helvetica,sans-Serif\" font-size=\"14.00\">class = Computer science, information, general</text>\n",
       "</g>\n",
       "<!-- 1_gv1 -->\n",
       "<g id=\"node5\" class=\"node\">\n",
       "<title>1_gv1</title>\n",
       "<path fill=\"#f3c7a7\" stroke=\"black\" d=\"M667,-58C667,-58 501,-58 501,-58 495,-58 489,-52 489,-46 489,-46 489,-12 489,-12 489,-6 495,0 501,0 501,0 667,0 667,0 673,0 679,-6 679,-12 679,-12 679,-46 679,-46 679,-52 673,-58 667,-58\"/>\n",
       "<text text-anchor=\"start\" x=\"535.5\" y=\"-40.3\" font-family=\"Helvetica,sans-Serif\" font-size=\"14.00\">samples = 2270</text>\n",
       "<text text-anchor=\"start\" x=\"499.5\" y=\"-25.3\" font-family=\"Helvetica,sans-Serif\" font-size=\"14.00\">value = [1167.937, 647.648]</text>\n",
       "<text text-anchor=\"start\" x=\"545\" y=\"-10.3\" font-family=\"Helvetica,sans-Serif\" font-size=\"14.00\">class = other</text>\n",
       "</g>\n",
       "<!-- 0_gv1&#45;&gt;1_gv1 -->\n",
       "<g id=\"edge3\" class=\"edge\">\n",
       "<title>0_gv1&#45;&gt;1_gv1</title>\n",
       "<path fill=\"none\" stroke=\"black\" d=\"M629.17,-93.93C622.86,-85 616.11,-75.45 609.8,-66.52\"/>\n",
       "<polygon fill=\"black\" stroke=\"black\" points=\"612.54,-64.34 603.91,-58.19 606.83,-68.38 612.54,-64.34\"/>\n",
       "<text text-anchor=\"middle\" x=\"599.68\" y=\"-79.13\" font-family=\"Helvetica,sans-Serif\" font-size=\"14.00\">True</text>\n",
       "</g>\n",
       "<!-- 2_gv1 -->\n",
       "<g id=\"node6\" class=\"node\">\n",
       "<title>2_gv1</title>\n",
       "<path fill=\"#9ecff2\" stroke=\"black\" d=\"M993,-58C993,-58 709,-58 709,-58 703,-58 697,-52 697,-46 697,-46 697,-12 697,-12 697,-6 703,0 709,0 709,0 993,0 993,0 999,0 1005,-6 1005,-12 1005,-12 1005,-46 1005,-46 1005,-52 999,-58 993,-58\"/>\n",
       "<text text-anchor=\"start\" x=\"802.5\" y=\"-40.3\" font-family=\"Helvetica,sans-Serif\" font-size=\"14.00\">samples = 1142</text>\n",
       "<text text-anchor=\"start\" x=\"766.5\" y=\"-25.3\" font-family=\"Helvetica,sans-Serif\" font-size=\"14.00\">value = [538.063, 1058.352]</text>\n",
       "<text text-anchor=\"start\" x=\"709\" y=\"-10.3\" font-family=\"Helvetica,sans-Serif\" font-size=\"14.00\">class = Computer science, information, general</text>\n",
       "</g>\n",
       "<!-- 0_gv1&#45;&gt;2_gv1 -->\n",
       "<g id=\"edge4\" class=\"edge\">\n",
       "<title>0_gv1&#45;&gt;2_gv1</title>\n",
       "<path fill=\"none\" stroke=\"black\" d=\"M726.31,-93.93C746.25,-83.71 767.79,-72.67 787.25,-62.69\"/>\n",
       "<polygon fill=\"black\" stroke=\"black\" points=\"789.03,-65.71 796.33,-58.03 785.84,-59.48 789.03,-65.71\"/>\n",
       "<text text-anchor=\"middle\" x=\"788.67\" y=\"-78.13\" font-family=\"Helvetica,sans-Serif\" font-size=\"14.00\">False</text>\n",
       "</g>\n",
       "</g>\n",
       "</svg>\n"
      ],
      "text/plain": [
       "<graphviz.sources.Source at 0x7fec3b72c430>"
      ]
     },
     "metadata": {},
     "output_type": "display_data"
    },
    {
     "data": {
      "text/markdown": [
       "<span style=\"font-size:11pt\"><br><br></span>"
      ],
      "text/plain": [
       "<IPython.core.display.Markdown object>"
      ]
     },
     "metadata": {},
     "output_type": "display_data"
    },
    {
     "data": {
      "image/svg+xml": [
       "<?xml version=\"1.0\" encoding=\"UTF-8\" standalone=\"no\"?>\n",
       "<!DOCTYPE svg PUBLIC \"-//W3C//DTD SVG 1.1//EN\"\n",
       " \"http://www.w3.org/Graphics/SVG/1.1/DTD/svg11.dtd\">\n",
       "<!-- Generated by graphviz version 2.43.0 (0)\n",
       " -->\n",
       "<!-- Title: root Pages: 1 -->\n",
       "<svg width=\"861pt\" height=\"177pt\"\n",
       " viewBox=\"0.00 0.00 860.50 177.00\" xmlns=\"http://www.w3.org/2000/svg\" xmlns:xlink=\"http://www.w3.org/1999/xlink\">\n",
       "<g id=\"graph0\" class=\"graph\" transform=\"scale(1 1) rotate(0) translate(4 173)\">\n",
       "<title>root</title>\n",
       "<polygon fill=\"white\" stroke=\"transparent\" points=\"-4,4 -4,-173 856.5,-173 856.5,4 -4,4\"/>\n",
       "<!-- 0 -->\n",
       "<g id=\"node1\" class=\"node\">\n",
       "<title>0</title>\n",
       "<path fill=\"#ffffff\" stroke=\"black\" d=\"M335,-169C335,-169 99,-169 99,-169 93,-169 87,-163 87,-157 87,-157 87,-106 87,-106 87,-100 93,-94 99,-94 99,-94 335,-94 335,-94 341,-94 347,-100 347,-106 347,-106 347,-157 347,-157 347,-163 341,-169 335,-169\"/>\n",
       "<text text-anchor=\"start\" x=\"100.5\" y=\"-150.3\" font-family=\"Helvetica,sans-Serif\" font-size=\"14.00\">aussprache,phonetik,sprache ≤ 4293.0</text>\n",
       "<text text-anchor=\"start\" x=\"168.5\" y=\"-135.3\" font-family=\"Helvetica,sans-Serif\" font-size=\"14.00\">samples = 3412</text>\n",
       "<text text-anchor=\"start\" x=\"144\" y=\"-120.3\" font-family=\"Helvetica,sans-Serif\" font-size=\"14.00\">value = [1706.0, 1706.0]</text>\n",
       "<text text-anchor=\"start\" x=\"178\" y=\"-105.3\" font-family=\"Helvetica,sans-Serif\" font-size=\"14.00\">class = other</text>\n",
       "</g>\n",
       "<!-- 1 -->\n",
       "<g id=\"node2\" class=\"node\">\n",
       "<title>1</title>\n",
       "<path fill=\"#f0b58b\" stroke=\"black\" d=\"M162,-58C162,-58 12,-58 12,-58 6,-58 0,-52 0,-46 0,-46 0,-12 0,-12 0,-6 6,0 12,0 12,0 162,0 162,0 168,0 174,-6 174,-12 174,-12 174,-46 174,-46 174,-52 168,-58 162,-58\"/>\n",
       "<text text-anchor=\"start\" x=\"38.5\" y=\"-40.3\" font-family=\"Helvetica,sans-Serif\" font-size=\"14.00\">samples = 2886</text>\n",
       "<text text-anchor=\"start\" x=\"10\" y=\"-25.3\" font-family=\"Helvetica,sans-Serif\" font-size=\"14.00\">value = [1518.63, 625.73]</text>\n",
       "<text text-anchor=\"start\" x=\"48\" y=\"-10.3\" font-family=\"Helvetica,sans-Serif\" font-size=\"14.00\">class = other</text>\n",
       "</g>\n",
       "<!-- 0&#45;&gt;1 -->\n",
       "<g id=\"edge1\" class=\"edge\">\n",
       "<title>0&#45;&gt;1</title>\n",
       "<path fill=\"none\" stroke=\"black\" d=\"M169.7,-93.93C157.19,-84.26 143.74,-73.86 131.39,-64.32\"/>\n",
       "<polygon fill=\"black\" stroke=\"black\" points=\"133.51,-61.54 123.46,-58.19 129.23,-67.07 133.51,-61.54\"/>\n",
       "<text text-anchor=\"middle\" x=\"126.64\" y=\"-79.29\" font-family=\"Helvetica,sans-Serif\" font-size=\"14.00\">True</text>\n",
       "</g>\n",
       "<!-- 2 -->\n",
       "<g id=\"node3\" class=\"node\">\n",
       "<title>2</title>\n",
       "<path fill=\"#5baeea\" stroke=\"black\" d=\"M354,-58C354,-58 204,-58 204,-58 198,-58 192,-52 192,-46 192,-46 192,-12 192,-12 192,-6 198,0 204,0 204,0 354,0 354,0 360,0 366,-6 366,-12 366,-12 366,-46 366,-46 366,-52 360,-58 354,-58\"/>\n",
       "<text text-anchor=\"start\" x=\"234\" y=\"-40.3\" font-family=\"Helvetica,sans-Serif\" font-size=\"14.00\">samples = 526</text>\n",
       "<text text-anchor=\"start\" x=\"202\" y=\"-25.3\" font-family=\"Helvetica,sans-Serif\" font-size=\"14.00\">value = [187.37, 1080.27]</text>\n",
       "<text text-anchor=\"start\" x=\"225.5\" y=\"-10.3\" font-family=\"Helvetica,sans-Serif\" font-size=\"14.00\">class = Language</text>\n",
       "</g>\n",
       "<!-- 0&#45;&gt;2 -->\n",
       "<g id=\"edge2\" class=\"edge\">\n",
       "<title>0&#45;&gt;2</title>\n",
       "<path fill=\"none\" stroke=\"black\" d=\"M239.56,-93.93C245.01,-85.09 250.84,-75.64 256.3,-66.79\"/>\n",
       "<polygon fill=\"black\" stroke=\"black\" points=\"259.34,-68.54 261.61,-58.19 253.38,-64.86 259.34,-68.54\"/>\n",
       "<text text-anchor=\"middle\" x=\"267.37\" y=\"-78.81\" font-family=\"Helvetica,sans-Serif\" font-size=\"14.00\">False</text>\n",
       "</g>\n",
       "<!-- 0_gv1 -->\n",
       "<g id=\"node4\" class=\"node\">\n",
       "<title>0_gv1</title>\n",
       "<path fill=\"#ffffff\" stroke=\"black\" d=\"M747,-169C747,-169 445,-169 445,-169 439,-169 433,-163 433,-157 433,-157 433,-106 433,-106 433,-100 439,-94 445,-94 445,-94 747,-94 747,-94 753,-94 759,-100 759,-106 759,-106 759,-157 759,-157 759,-163 753,-169 747,-169\"/>\n",
       "<text text-anchor=\"start\" x=\"447\" y=\"-150.3\" font-family=\"Helvetica,sans-Serif\" font-size=\"14.00\">einfuhrung geschichte,mittelalter,essays ≤ 4236.0</text>\n",
       "<text text-anchor=\"start\" x=\"547.5\" y=\"-135.3\" font-family=\"Helvetica,sans-Serif\" font-size=\"14.00\">samples = 3412</text>\n",
       "<text text-anchor=\"start\" x=\"523\" y=\"-120.3\" font-family=\"Helvetica,sans-Serif\" font-size=\"14.00\">value = [1706.0, 1706.0]</text>\n",
       "<text text-anchor=\"start\" x=\"557\" y=\"-105.3\" font-family=\"Helvetica,sans-Serif\" font-size=\"14.00\">class = other</text>\n",
       "</g>\n",
       "<!-- 1_gv1 -->\n",
       "<g id=\"node5\" class=\"node\">\n",
       "<title>1_gv1</title>\n",
       "<path fill=\"#f1bb94\" stroke=\"black\" d=\"M617,-58C617,-58 451,-58 451,-58 445,-58 439,-52 439,-46 439,-46 439,-12 439,-12 439,-6 445,0 451,0 451,0 617,0 617,0 623,0 629,-6 629,-12 629,-12 629,-46 629,-46 629,-52 623,-58 617,-58\"/>\n",
       "<text text-anchor=\"start\" x=\"485.5\" y=\"-40.3\" font-family=\"Helvetica,sans-Serif\" font-size=\"14.00\">samples = 2829</text>\n",
       "<text text-anchor=\"start\" x=\"449.5\" y=\"-25.3\" font-family=\"Helvetica,sans-Serif\" font-size=\"14.00\">value = [1449.132, 666.583]</text>\n",
       "<text text-anchor=\"start\" x=\"495\" y=\"-10.3\" font-family=\"Helvetica,sans-Serif\" font-size=\"14.00\">class = other</text>\n",
       "</g>\n",
       "<!-- 0_gv1&#45;&gt;1_gv1 -->\n",
       "<g id=\"edge3\" class=\"edge\">\n",
       "<title>0_gv1&#45;&gt;1_gv1</title>\n",
       "<path fill=\"none\" stroke=\"black\" d=\"M573.44,-93.93C567.99,-85.09 562.16,-75.64 556.7,-66.79\"/>\n",
       "<polygon fill=\"black\" stroke=\"black\" points=\"559.62,-64.86 551.39,-58.19 553.66,-68.54 559.62,-64.86\"/>\n",
       "<text text-anchor=\"middle\" x=\"545.63\" y=\"-78.81\" font-family=\"Helvetica,sans-Serif\" font-size=\"14.00\">True</text>\n",
       "</g>\n",
       "<!-- 2_gv1 -->\n",
       "<g id=\"node6\" class=\"node\">\n",
       "<title>2_gv1</title>\n",
       "<path fill=\"#6ab5eb\" stroke=\"black\" d=\"M840.5,-58C840.5,-58 659.5,-58 659.5,-58 653.5,-58 647.5,-52 647.5,-46 647.5,-46 647.5,-12 647.5,-12 647.5,-6 653.5,0 659.5,0 659.5,0 840.5,0 840.5,0 846.5,0 852.5,-6 852.5,-12 852.5,-12 852.5,-46 852.5,-46 852.5,-52 846.5,-58 840.5,-58\"/>\n",
       "<text text-anchor=\"start\" x=\"705\" y=\"-40.3\" font-family=\"Helvetica,sans-Serif\" font-size=\"14.00\">samples = 583</text>\n",
       "<text text-anchor=\"start\" x=\"665.5\" y=\"-25.3\" font-family=\"Helvetica,sans-Serif\" font-size=\"14.00\">value = [256.868, 1039.417]</text>\n",
       "<text text-anchor=\"start\" x=\"658.5\" y=\"-10.3\" font-family=\"Helvetica,sans-Serif\" font-size=\"14.00\">class = History and geography</text>\n",
       "</g>\n",
       "<!-- 0_gv1&#45;&gt;2_gv1 -->\n",
       "<g id=\"edge4\" class=\"edge\">\n",
       "<title>0_gv1&#45;&gt;2_gv1</title>\n",
       "<path fill=\"none\" stroke=\"black\" d=\"M652.03,-93.93C667.13,-84.08 683.39,-73.47 698.24,-63.78\"/>\n",
       "<polygon fill=\"black\" stroke=\"black\" points=\"700.34,-66.58 706.81,-58.19 696.52,-60.72 700.34,-66.58\"/>\n",
       "<text text-anchor=\"middle\" x=\"701.66\" y=\"-78.95\" font-family=\"Helvetica,sans-Serif\" font-size=\"14.00\">False</text>\n",
       "</g>\n",
       "</g>\n",
       "</svg>\n"
      ],
      "text/plain": [
       "<graphviz.sources.Source at 0x7fec3b72d000>"
      ]
     },
     "metadata": {},
     "output_type": "display_data"
    },
    {
     "data": {
      "text/markdown": [
       "<span style=\"font-size:11pt\"><br><br></span>"
      ],
      "text/plain": [
       "<IPython.core.display.Markdown object>"
      ]
     },
     "metadata": {},
     "output_type": "display_data"
    },
    {
     "data": {
      "image/svg+xml": [
       "<?xml version=\"1.0\" encoding=\"UTF-8\" standalone=\"no\"?>\n",
       "<!DOCTYPE svg PUBLIC \"-//W3C//DTD SVG 1.1//EN\"\n",
       " \"http://www.w3.org/Graphics/SVG/1.1/DTD/svg11.dtd\">\n",
       "<!-- Generated by graphviz version 2.43.0 (0)\n",
       " -->\n",
       "<!-- Title: root Pages: 1 -->\n",
       "<svg width=\"814pt\" height=\"177pt\"\n",
       " viewBox=\"0.00 0.00 814.00 177.00\" xmlns=\"http://www.w3.org/2000/svg\" xmlns:xlink=\"http://www.w3.org/1999/xlink\">\n",
       "<g id=\"graph0\" class=\"graph\" transform=\"scale(1 1) rotate(0) translate(4 173)\">\n",
       "<title>root</title>\n",
       "<polygon fill=\"white\" stroke=\"transparent\" points=\"-4,4 -4,-173 810,-173 810,4 -4,4\"/>\n",
       "<!-- 0 -->\n",
       "<g id=\"node1\" class=\"node\">\n",
       "<title>0</title>\n",
       "<path fill=\"#ffffff\" stroke=\"black\" d=\"M303,-169C303,-169 51,-169 51,-169 45,-169 39,-163 39,-157 39,-157 39,-106 39,-106 39,-100 45,-94 51,-94 51,-94 303,-94 303,-94 309,-94 315,-100 315,-106 315,-106 315,-157 315,-157 315,-163 309,-169 303,-169\"/>\n",
       "<text text-anchor=\"start\" x=\"51.5\" y=\"-150.3\" font-family=\"Helvetica,sans-Serif\" font-size=\"14.00\">mechanik,pro semester,meeting ≤ 3403.5</text>\n",
       "<text text-anchor=\"start\" x=\"128.5\" y=\"-135.3\" font-family=\"Helvetica,sans-Serif\" font-size=\"14.00\">samples = 3412</text>\n",
       "<text text-anchor=\"start\" x=\"104\" y=\"-120.3\" font-family=\"Helvetica,sans-Serif\" font-size=\"14.00\">value = [1706.0, 1706.0]</text>\n",
       "<text text-anchor=\"start\" x=\"138\" y=\"-105.3\" font-family=\"Helvetica,sans-Serif\" font-size=\"14.00\">class = other</text>\n",
       "</g>\n",
       "<!-- 1 -->\n",
       "<g id=\"node2\" class=\"node\">\n",
       "<title>1</title>\n",
       "<path fill=\"#f3c3a0\" stroke=\"black\" d=\"M178,-58C178,-58 12,-58 12,-58 6,-58 0,-52 0,-46 0,-46 0,-12 0,-12 0,-6 6,0 12,0 12,0 178,0 178,0 184,0 190,-6 190,-12 190,-12 190,-46 190,-46 190,-52 184,-58 178,-58\"/>\n",
       "<text text-anchor=\"start\" x=\"46.5\" y=\"-40.3\" font-family=\"Helvetica,sans-Serif\" font-size=\"14.00\">samples = 2279</text>\n",
       "<text text-anchor=\"start\" x=\"10.5\" y=\"-25.3\" font-family=\"Helvetica,sans-Serif\" font-size=\"14.00\">value = [1219.813, 634.282]</text>\n",
       "<text text-anchor=\"start\" x=\"56\" y=\"-10.3\" font-family=\"Helvetica,sans-Serif\" font-size=\"14.00\">class = other</text>\n",
       "</g>\n",
       "<!-- 0&#45;&gt;1 -->\n",
       "<g id=\"edge1\" class=\"edge\">\n",
       "<title>0&#45;&gt;1</title>\n",
       "<path fill=\"none\" stroke=\"black\" d=\"M147.16,-93.93C139.73,-84.82 131.76,-75.05 124.34,-65.96\"/>\n",
       "<polygon fill=\"black\" stroke=\"black\" points=\"127.03,-63.72 118,-58.19 121.61,-68.15 127.03,-63.72\"/>\n",
       "<text text-anchor=\"middle\" x=\"115.48\" y=\"-79.36\" font-family=\"Helvetica,sans-Serif\" font-size=\"14.00\">True</text>\n",
       "</g>\n",
       "<!-- 2 -->\n",
       "<g id=\"node3\" class=\"node\">\n",
       "<title>2</title>\n",
       "<path fill=\"#93c9f1\" stroke=\"black\" d=\"M386,-58C386,-58 220,-58 220,-58 214,-58 208,-52 208,-46 208,-46 208,-12 208,-12 208,-6 214,0 220,0 220,0 386,0 386,0 392,0 398,-6 398,-12 398,-12 398,-46 398,-46 398,-52 392,-58 386,-58\"/>\n",
       "<text text-anchor=\"start\" x=\"254.5\" y=\"-40.3\" font-family=\"Helvetica,sans-Serif\" font-size=\"14.00\">samples = 1133</text>\n",
       "<text text-anchor=\"start\" x=\"218.5\" y=\"-25.3\" font-family=\"Helvetica,sans-Serif\" font-size=\"14.00\">value = [486.187, 1071.718]</text>\n",
       "<text text-anchor=\"start\" x=\"245.5\" y=\"-10.3\" font-family=\"Helvetica,sans-Serif\" font-size=\"14.00\">class = Technology</text>\n",
       "</g>\n",
       "<!-- 0&#45;&gt;2 -->\n",
       "<g id=\"edge2\" class=\"edge\">\n",
       "<title>0&#45;&gt;2</title>\n",
       "<path fill=\"none\" stroke=\"black\" d=\"M222.85,-93.93C234.85,-84.36 247.76,-74.06 259.63,-64.59\"/>\n",
       "<polygon fill=\"black\" stroke=\"black\" points=\"262.02,-67.16 267.66,-58.19 257.66,-61.69 262.02,-67.16\"/>\n",
       "<text text-anchor=\"middle\" x=\"264.86\" y=\"-79.33\" font-family=\"Helvetica,sans-Serif\" font-size=\"14.00\">False</text>\n",
       "</g>\n",
       "<!-- 0_gv1 -->\n",
       "<g id=\"node4\" class=\"node\">\n",
       "<title>0_gv1</title>\n",
       "<path fill=\"#ffffff\" stroke=\"black\" d=\"M697,-169C697,-169 529,-169 529,-169 523,-169 517,-163 517,-157 517,-157 517,-106 517,-106 517,-100 523,-94 529,-94 529,-94 697,-94 697,-94 703,-94 709,-100 709,-106 709,-106 709,-157 709,-157 709,-163 703,-169 697,-169\"/>\n",
       "<text text-anchor=\"start\" x=\"529\" y=\"-150.3\" font-family=\"Helvetica,sans-Serif\" font-size=\"14.00\">biologie,tier,garten ≤ 4218.5</text>\n",
       "<text text-anchor=\"start\" x=\"564.5\" y=\"-135.3\" font-family=\"Helvetica,sans-Serif\" font-size=\"14.00\">samples = 3412</text>\n",
       "<text text-anchor=\"start\" x=\"540\" y=\"-120.3\" font-family=\"Helvetica,sans-Serif\" font-size=\"14.00\">value = [1706.0, 1706.0]</text>\n",
       "<text text-anchor=\"start\" x=\"574\" y=\"-105.3\" font-family=\"Helvetica,sans-Serif\" font-size=\"14.00\">class = other</text>\n",
       "</g>\n",
       "<!-- 1_gv1 -->\n",
       "<g id=\"node5\" class=\"node\">\n",
       "<title>1_gv1</title>\n",
       "<path fill=\"#f5cdb0\" stroke=\"black\" d=\"M594,-58C594,-58 428,-58 428,-58 422,-58 416,-52 416,-46 416,-46 416,-12 416,-12 416,-6 422,0 428,0 428,0 594,0 594,0 600,0 606,-6 606,-12 606,-12 606,-46 606,-46 606,-52 600,-58 594,-58\"/>\n",
       "<text text-anchor=\"start\" x=\"462.5\" y=\"-40.3\" font-family=\"Helvetica,sans-Serif\" font-size=\"14.00\">samples = 2804</text>\n",
       "<text text-anchor=\"start\" x=\"426.5\" y=\"-25.3\" font-family=\"Helvetica,sans-Serif\" font-size=\"14.00\">value = [1433.125, 862.172]</text>\n",
       "<text text-anchor=\"start\" x=\"472\" y=\"-10.3\" font-family=\"Helvetica,sans-Serif\" font-size=\"14.00\">class = other</text>\n",
       "</g>\n",
       "<!-- 0_gv1&#45;&gt;1_gv1 -->\n",
       "<g id=\"edge3\" class=\"edge\">\n",
       "<title>0_gv1&#45;&gt;1_gv1</title>\n",
       "<path fill=\"none\" stroke=\"black\" d=\"M575.89,-93.93C566.45,-84.63 556.32,-74.66 546.94,-65.41\"/>\n",
       "<polygon fill=\"black\" stroke=\"black\" points=\"549.19,-62.71 539.61,-58.19 544.28,-67.7 549.19,-62.71\"/>\n",
       "<text text-anchor=\"middle\" x=\"539.79\" y=\"-79.49\" font-family=\"Helvetica,sans-Serif\" font-size=\"14.00\">True</text>\n",
       "</g>\n",
       "<!-- 2_gv1 -->\n",
       "<g id=\"node6\" class=\"node\">\n",
       "<title>2_gv1</title>\n",
       "<path fill=\"#79bded\" stroke=\"black\" d=\"M794,-58C794,-58 636,-58 636,-58 630,-58 624,-52 624,-46 624,-46 624,-12 624,-12 624,-6 630,0 636,0 636,0 794,0 794,0 800,0 806,-6 806,-12 806,-12 806,-46 806,-46 806,-52 800,-58 794,-58\"/>\n",
       "<text text-anchor=\"start\" x=\"670\" y=\"-40.3\" font-family=\"Helvetica,sans-Serif\" font-size=\"14.00\">samples = 608</text>\n",
       "<text text-anchor=\"start\" x=\"634.5\" y=\"-25.3\" font-family=\"Helvetica,sans-Serif\" font-size=\"14.00\">value = [272.875, 843.828]</text>\n",
       "<text text-anchor=\"start\" x=\"651.5\" y=\"-10.3\" font-family=\"Helvetica,sans-Serif\" font-size=\"14.00\">class = Pure Science</text>\n",
       "</g>\n",
       "<!-- 0_gv1&#45;&gt;2_gv1 -->\n",
       "<g id=\"edge4\" class=\"edge\">\n",
       "<title>0_gv1&#45;&gt;2_gv1</title>\n",
       "<path fill=\"none\" stroke=\"black\" d=\"M650.11,-93.93C659.55,-84.63 669.68,-74.66 679.06,-65.41\"/>\n",
       "<polygon fill=\"black\" stroke=\"black\" points=\"681.72,-67.7 686.39,-58.19 676.81,-62.71 681.72,-67.7\"/>\n",
       "<text text-anchor=\"middle\" x=\"686.21\" y=\"-79.49\" font-family=\"Helvetica,sans-Serif\" font-size=\"14.00\">False</text>\n",
       "</g>\n",
       "</g>\n",
       "</svg>\n"
      ],
      "text/plain": [
       "<graphviz.sources.Source at 0x7fec3b72c790>"
      ]
     },
     "metadata": {},
     "output_type": "display_data"
    },
    {
     "data": {
      "text/markdown": [
       "<span style=\"font-size:11pt\"><br><br></span>"
      ],
      "text/plain": [
       "<IPython.core.display.Markdown object>"
      ]
     },
     "metadata": {},
     "output_type": "display_data"
    },
    {
     "data": {
      "text/markdown": [
       "<span style=\"font-size:11pt\">Per-Class-Scores: Philosophy and psychology: 0.68, Arts and recreation: 0.81, Religion: 0.93, Literature: 0.88, Social sciences: 0.65, Computer science, information, general: 0.70, Language: 0.87, History and geography: 0.85, Technology: 0.69, Pure Science: 0.85</span>"
      ],
      "text/plain": [
       "<IPython.core.display.Markdown object>"
      ]
     },
     "metadata": {},
     "output_type": "display_data"
    },
    {
     "data": {
      "text/markdown": [
       "<span style=\"font-size:11pt\">Unweighted Mean Accuracy: 78.98%</span>"
      ],
      "text/plain": [
       "<IPython.core.display.Markdown object>"
      ]
     },
     "metadata": {},
     "output_type": "display_data"
    },
    {
     "data": {
      "text/markdown": [
       "<span style=\"font-size:11pt\">Weighted Mean Accuracy: 73.90%</span>"
      ],
      "text/plain": [
       "<IPython.core.display.Markdown object>"
      ]
     },
     "metadata": {},
     "output_type": "display_data"
    }
   ],
   "source": [
    "res = classify_shallowtree(clusters, embedding, descriptions, ctx.obj[\"dataset_class\"], one_vs_rest=True, dt_depth=1, test_percentage_crossval=0.33, \n",
    "                           classes=\"ddc_l1\", verbose=True, return_features=False, balance_classes=True, do_plot=True)"
   ]
  },
  {
   "cell_type": "markdown",
   "id": "21bd915e-0814-45a7-b292-3e8548e5e8e3",
   "metadata": {},
   "source": [
    "## Another one, cause the other also looked good"
   ]
  },
  {
   "cell_type": "code",
   "execution_count": 7,
   "id": "4fd79c6a-c1f1-443f-8c37-791354e4cccb",
   "metadata": {},
   "outputs": [
    {
     "data": {
      "text/markdown": [
       "<span style=\"font-size:11pt\">Running with the following settings [<span style=\"color: #ff00ff\">e2a70a9bf2</span>]: CLASSIFIER: <span style=\"color: #0000ff\">SVM</span>, CLASSIFIER_SUCCMETRIC: <span style=\"color: #ff0000\">kappa_digitized_onlypos_2</span>, CLUSTER_DIRECTION_ALGO: <span style=\"color: #0000ff\">reclassify</span>, DATASET: <span style=\"color: #ff0000\">siddata2022</span>, DCM_QUANT_MEASURE: <span style=\"color: #0000ff\">count</span>, DEBUG: <span style=\"color: #0000ff\">False</span>, EMBED_ALGO: <span style=\"color: #0000ff\">mds</span>, EMBED_DIMENSIONS: <span style=\"color: #ff0000\">200</span>, EXTRACTION_METHOD: <span style=\"color: #ff0000\">tfidf</span>, KAPPA_WEIGHTS: <span style=\"color: #0000ff\">quadratic</span>, LANGUAGE: <span style=\"color: #0000ff\">de</span>, MIN_WORDS_PER_DESC: <span style=\"color: #ff0000\">80</span>, PP_COMPONENTS: <span style=\"color: #ff0000\">mfauhtcsldp</span>, PRIM_LAMBDA: <span style=\"color: #0000ff\">0.5</span>, QUANTIFICATION_MEASURE: <span style=\"color: #ff0000\">tfidf</span>, RANDOM_SEED: <span style=\"color: #ff0000\">None</span>, SEC_LAMBDA: <span style=\"color: #ff0000\">0.2</span>, TRANSLATE_POLICY: <span style=\"color: #0000ff\">onlyorig</span></span>"
      ],
      "text/plain": [
       "<IPython.core.display.Markdown object>"
      ]
     },
     "metadata": {},
     "output_type": "display_data"
    },
    {
     "name": "stdout",
     "output_type": "stream",
     "text": [
      "Dropping 6743/11942 (56.46%) courses - there is no DDC for them\n",
      "14 courses have multiple differing DDCs at this level!\n"
     ]
    },
    {
     "name": "stderr",
     "output_type": "stream",
     "text": [
      "derive_conceptualspace/load_data/dataset_specifics/siddata2022.py:52: UserWarning: Will return the first DDC for those ambiguous courses!\n"
     ]
    },
    {
     "data": {
      "text/markdown": [
       "<span style=\"font-size:11pt\">Using classes from ddc_l1 - 5199/11942 entities have a class</span>"
      ],
      "text/plain": [
       "<IPython.core.display.Markdown object>"
      ]
     },
     "metadata": {},
     "output_type": "display_data"
    },
    {
     "data": {
      "text/markdown": [
       "<span style=\"font-size:11pt\">Highest-ranking descriptions [with any class] per dimension:<br>    <span style=\"color: #0000ff\">daran anschliessend    </span>: Was ist der Mensch? Die Anthropologie Karl Barths (Annika Kretschmann)<br>    <span style=\"color: #0000ff\">bewerber               </span>: Online! Berufseinstieg für Kultur- und Sprachwissenschaftler*innen<br>    <span style=\"color: #0000ff\">formel                 </span>: Lineare Algebra I (MP)<br>    <span style=\"color: #0000ff\">800                    </span>: Deutsche Literatur im Mittelalter (FN/ÄDL1B)<br>    <span style=\"color: #0000ff\">sprache                </span>: Sprache als Werkzeug des Lernens<br>    <span style=\"color: #0000ff\">turnen                 </span>: Interdisziplinäre Ringvorlesung ´Der Atlantik als historischer Raum´<br>    <span style=\"color: #0000ff\">2021 16                </span>: Begleitseminar zum Praxissemester<br>    <span style=\"color: #0000ff\">kologisch              </span>: OL_Kälteanlagen und Wärmepumpen<br>    <span style=\"color: #0000ff\">programmiersprache     </span>: Hackathon „Mobile Robotik“<br>    <span style=\"color: #0000ff\">audiovisuell           </span>: Sprache in Medien B (GER-SSS) (Do 10-12)<br>    <span style=\"color: #0000ff\">anrechenbar            </span>: Citavi: Schulung für Studierende aller Fachbereiche am 8. Oktober 2020<br>    <span style=\"color: #0000ff\">arbeitsaufgabe         </span>: Sitzung 6: Das System der Konzentrationslager: KZ-Dokumente, Geschichte und Funktion einzelner Lager<br>    <span style=\"color: #0000ff\">einfuhrung allgemein   </span>: Fat Studies<br>    <span style=\"color: #0000ff\">kommunikationsstrategie</span>: Sitzung 1: Einführung, Organisatorisches und virtuelles Kennenlernen/Wiedersehen<br>    <span style=\"color: #0000ff\">gebet                  </span>: Collegium musicum<br>    <span style=\"color: #0000ff\">erfindung              </span>: Einführung in die philosophische Ästhetik<br>    <span style=\"color: #0000ff\">aktivierung studierend </span>: Grundkurs Spanisch II (Grupo A)<br>    <span style=\"color: #0000ff\">madchen                </span>: Jugend und Übergänge<br>    <span style=\"color: #0000ff\">au szlig erde          </span>: Vorlesung: System Lebewesen & Ökozonen<br>    <span style=\"color: #0000ff\">mitbestimmung          </span>: Recht der Unternehmensmitbestimmung, ab 5. Sem. Dipl. WPF SP 2 u. 6. Sem. LL.B. PB 3 (nur 2. Semesterhälfte)</span>"
      ],
      "text/plain": [
       "<IPython.core.display.Markdown object>"
      ]
     },
     "metadata": {},
     "output_type": "display_data"
    },
    {
     "data": {
      "text/markdown": [
       "<span style=\"font-size:11pt\">Labels (10 classes): <span style=\"color: #0000ff\">Social sciences</span>: 1986, <span style=\"color: #0000ff\">History and geography</span>: 225, <span style=\"color: #0000ff\">Pure Science</span>: 265, <span style=\"color: #0000ff\">Literature</span>: 362, <span style=\"color: #0000ff\">Arts and recreation</span>: 424, <span style=\"color: #0000ff\">Technology</span>: 672, <span style=\"color: #0000ff\">Religion</span>: 235, <span style=\"color: #0000ff\">Computer science, information, general</span>: 319, <span style=\"color: #0000ff\">Language</span>: 452, <span style=\"color: #0000ff\">Philosophy and psychology</span>: 259</span>"
      ],
      "text/plain": [
       "<IPython.core.display.Markdown object>"
      ]
     },
     "metadata": {},
     "output_type": "display_data"
    },
    {
     "data": {
      "text/markdown": [
       "<span style=\"font-size:11pt\">Eval-Settings: type: <span style=\"color: #0000ff\">one-vs-rest</span>, DT-Depth: <span style=\"color: #0000ff\">1</span>, train-test-split:<span style=\"color: #0000ff\"> 33.0% in test-set </span></span>"
      ],
      "text/plain": [
       "<IPython.core.display.Markdown object>"
      ]
     },
     "metadata": {},
     "output_type": "display_data"
    },
    {
     "name": "stderr",
     "output_type": "stream",
     "text": [
      "Warning: node 0 in graph[1] Tree already defined\n",
      "Some nodes will be renamed.\n",
      "Warning: node 0 in graph[1] Tree already defined\n",
      "Some nodes will be renamed.\n",
      "Warning: node 0 in graph[1] Tree already defined\n",
      "Some nodes will be renamed.\n",
      "Warning: node 0 in graph[1] Tree already defined\n",
      "Some nodes will be renamed.\n",
      "Warning: node 0 in graph[1] Tree already defined\n",
      "Some nodes will be renamed.\n"
     ]
    },
    {
     "data": {
      "image/svg+xml": [
       "<?xml version=\"1.0\" encoding=\"UTF-8\" standalone=\"no\"?>\n",
       "<!DOCTYPE svg PUBLIC \"-//W3C//DTD SVG 1.1//EN\"\n",
       " \"http://www.w3.org/Graphics/SVG/1.1/DTD/svg11.dtd\">\n",
       "<!-- Generated by graphviz version 2.43.0 (0)\n",
       " -->\n",
       "<!-- Title: root Pages: 1 -->\n",
       "<svg width=\"860pt\" height=\"177pt\"\n",
       " viewBox=\"0.00 0.00 860.00 177.00\" xmlns=\"http://www.w3.org/2000/svg\" xmlns:xlink=\"http://www.w3.org/1999/xlink\">\n",
       "<g id=\"graph0\" class=\"graph\" transform=\"scale(1 1) rotate(0) translate(4 173)\">\n",
       "<title>root</title>\n",
       "<polygon fill=\"white\" stroke=\"transparent\" points=\"-4,4 -4,-173 856,-173 856,4 -4,4\"/>\n",
       "<!-- 0 -->\n",
       "<g id=\"node1\" class=\"node\">\n",
       "<title>0</title>\n",
       "<path fill=\"#ffffff\" stroke=\"black\" d=\"M388,-169C388,-169 120,-169 120,-169 114,-169 108,-163 108,-157 108,-157 108,-106 108,-106 108,-100 114,-94 120,-94 120,-94 388,-94 388,-94 394,-94 400,-100 400,-106 400,-106 400,-157 400,-157 400,-163 394,-169 388,-169\"/>\n",
       "<text text-anchor=\"start\" x=\"121.5\" y=\"-150.3\" font-family=\"Helvetica,sans-Serif\" font-size=\"14.00\">psychologie,klinisch,psychologisch ≤ 4266.5</text>\n",
       "<text text-anchor=\"start\" x=\"205.5\" y=\"-135.3\" font-family=\"Helvetica,sans-Serif\" font-size=\"14.00\">samples = 3483</text>\n",
       "<text text-anchor=\"start\" x=\"181\" y=\"-120.3\" font-family=\"Helvetica,sans-Serif\" font-size=\"14.00\">value = [1741.5, 1741.5]</text>\n",
       "<text text-anchor=\"start\" x=\"148.5\" y=\"-105.3\" font-family=\"Helvetica,sans-Serif\" font-size=\"14.00\">class = Philosophy and psychology</text>\n",
       "</g>\n",
       "<!-- 1 -->\n",
       "<g id=\"node2\" class=\"node\">\n",
       "<title>1</title>\n",
       "<path fill=\"#f4caac\" stroke=\"black\" d=\"M170,-58C170,-58 12,-58 12,-58 6,-58 0,-52 0,-46 0,-46 0,-12 0,-12 0,-6 6,0 12,0 12,0 170,0 170,0 176,0 182,-6 182,-12 182,-12 182,-46 182,-46 182,-52 176,-58 170,-58\"/>\n",
       "<text text-anchor=\"start\" x=\"42.5\" y=\"-40.3\" font-family=\"Helvetica,sans-Serif\" font-size=\"14.00\">samples = 2859</text>\n",
       "<text text-anchor=\"start\" x=\"10.5\" y=\"-25.3\" font-family=\"Helvetica,sans-Serif\" font-size=\"14.00\">value = [1463.877, 852.98]</text>\n",
       "<text text-anchor=\"start\" x=\"52\" y=\"-10.3\" font-family=\"Helvetica,sans-Serif\" font-size=\"14.00\">class = other</text>\n",
       "</g>\n",
       "<!-- 0&#45;&gt;1 -->\n",
       "<g id=\"edge1\" class=\"edge\">\n",
       "<title>0&#45;&gt;1</title>\n",
       "<path fill=\"none\" stroke=\"black\" d=\"M194.69,-93.93C178.49,-83.94 161.01,-73.17 145.11,-63.36\"/>\n",
       "<polygon fill=\"black\" stroke=\"black\" points=\"146.81,-60.3 136.46,-58.03 143.14,-66.26 146.81,-60.3\"/>\n",
       "<text text-anchor=\"middle\" x=\"142.23\" y=\"-78.65\" font-family=\"Helvetica,sans-Serif\" font-size=\"14.00\">True</text>\n",
       "</g>\n",
       "<!-- 2 -->\n",
       "<g id=\"node3\" class=\"node\">\n",
       "<title>2</title>\n",
       "<path fill=\"#77bced\" stroke=\"black\" d=\"M421.5,-58C421.5,-58 212.5,-58 212.5,-58 206.5,-58 200.5,-52 200.5,-46 200.5,-46 200.5,-12 200.5,-12 200.5,-6 206.5,0 212.5,0 212.5,0 421.5,0 421.5,0 427.5,0 433.5,-6 433.5,-12 433.5,-12 433.5,-46 433.5,-46 433.5,-52 427.5,-58 421.5,-58\"/>\n",
       "<text text-anchor=\"start\" x=\"272\" y=\"-40.3\" font-family=\"Helvetica,sans-Serif\" font-size=\"14.00\">samples = 624</text>\n",
       "<text text-anchor=\"start\" x=\"240\" y=\"-25.3\" font-family=\"Helvetica,sans-Serif\" font-size=\"14.00\">value = [277.623, 888.52]</text>\n",
       "<text text-anchor=\"start\" x=\"211.5\" y=\"-10.3\" font-family=\"Helvetica,sans-Serif\" font-size=\"14.00\">class = Philosophy and psychology</text>\n",
       "</g>\n",
       "<!-- 0&#45;&gt;2 -->\n",
       "<g id=\"edge2\" class=\"edge\">\n",
       "<title>0&#45;&gt;2</title>\n",
       "<path fill=\"none\" stroke=\"black\" d=\"M276.92,-93.93C282.46,-85.09 288.39,-75.64 293.94,-66.79\"/>\n",
       "<polygon fill=\"black\" stroke=\"black\" points=\"296.98,-68.52 299.33,-58.19 291.05,-64.8 296.98,-68.52\"/>\n",
       "<text text-anchor=\"middle\" x=\"304.92\" y=\"-78.86\" font-family=\"Helvetica,sans-Serif\" font-size=\"14.00\">False</text>\n",
       "</g>\n",
       "<!-- 0_gv1 -->\n",
       "<g id=\"node4\" class=\"node\">\n",
       "<title>0_gv1</title>\n",
       "<path fill=\"#ffffff\" stroke=\"black\" d=\"M726.5,-169C726.5,-169 529.5,-169 529.5,-169 523.5,-169 517.5,-163 517.5,-157 517.5,-157 517.5,-106 517.5,-106 517.5,-100 523.5,-94 529.5,-94 529.5,-94 726.5,-94 726.5,-94 732.5,-94 738.5,-100 738.5,-106 738.5,-106 738.5,-157 738.5,-157 738.5,-163 732.5,-169 726.5,-169\"/>\n",
       "<text text-anchor=\"start\" x=\"530\" y=\"-150.3\" font-family=\"Helvetica,sans-Serif\" font-size=\"14.00\">szene,begegnung,spiel ≤ 3153.5</text>\n",
       "<text text-anchor=\"start\" x=\"579.5\" y=\"-135.3\" font-family=\"Helvetica,sans-Serif\" font-size=\"14.00\">samples = 3483</text>\n",
       "<text text-anchor=\"start\" x=\"555\" y=\"-120.3\" font-family=\"Helvetica,sans-Serif\" font-size=\"14.00\">value = [1741.5, 1741.5]</text>\n",
       "<text text-anchor=\"start\" x=\"589\" y=\"-105.3\" font-family=\"Helvetica,sans-Serif\" font-size=\"14.00\">class = other</text>\n",
       "</g>\n",
       "<!-- 1_gv1 -->\n",
       "<g id=\"node5\" class=\"node\">\n",
       "<title>1_gv1</title>\n",
       "<path fill=\"#eda876\" stroke=\"black\" d=\"M640,-58C640,-58 490,-58 490,-58 484,-58 478,-52 478,-46 478,-46 478,-12 478,-12 478,-6 484,0 490,0 490,0 640,0 640,0 646,0 652,-6 652,-12 652,-12 652,-46 652,-46 652,-52 646,-58 640,-58\"/>\n",
       "<text text-anchor=\"start\" x=\"516.5\" y=\"-40.3\" font-family=\"Helvetica,sans-Serif\" font-size=\"14.00\">samples = 2116</text>\n",
       "<text text-anchor=\"start\" x=\"488\" y=\"-25.3\" font-family=\"Helvetica,sans-Serif\" font-size=\"14.00\">value = [1122.3, 344.672]</text>\n",
       "<text text-anchor=\"start\" x=\"526\" y=\"-10.3\" font-family=\"Helvetica,sans-Serif\" font-size=\"14.00\">class = other</text>\n",
       "</g>\n",
       "<!-- 0_gv1&#45;&gt;1_gv1 -->\n",
       "<g id=\"edge3\" class=\"edge\">\n",
       "<title>0_gv1&#45;&gt;1_gv1</title>\n",
       "<path fill=\"none\" stroke=\"black\" d=\"M605.08,-93.93C599.54,-85.09 593.61,-75.64 588.06,-66.79\"/>\n",
       "<polygon fill=\"black\" stroke=\"black\" points=\"590.95,-64.8 582.67,-58.19 585.02,-68.52 590.95,-64.8\"/>\n",
       "<text text-anchor=\"middle\" x=\"577.08\" y=\"-78.86\" font-family=\"Helvetica,sans-Serif\" font-size=\"14.00\">True</text>\n",
       "</g>\n",
       "<!-- 2_gv1 -->\n",
       "<g id=\"node6\" class=\"node\">\n",
       "<title>2_gv1</title>\n",
       "<path fill=\"#91c8f1\" stroke=\"black\" d=\"M840,-58C840,-58 682,-58 682,-58 676,-58 670,-52 670,-46 670,-46 670,-12 670,-12 670,-6 676,0 682,0 682,0 840,0 840,0 846,0 852,-6 852,-12 852,-12 852,-46 852,-46 852,-52 846,-58 840,-58\"/>\n",
       "<text text-anchor=\"start\" x=\"712.5\" y=\"-40.3\" font-family=\"Helvetica,sans-Serif\" font-size=\"14.00\">samples = 1367</text>\n",
       "<text text-anchor=\"start\" x=\"684\" y=\"-25.3\" font-family=\"Helvetica,sans-Serif\" font-size=\"14.00\">value = [619.2, 1396.828]</text>\n",
       "<text text-anchor=\"start\" x=\"680.5\" y=\"-10.3\" font-family=\"Helvetica,sans-Serif\" font-size=\"14.00\">class = Arts and recreation</text>\n",
       "</g>\n",
       "<!-- 0_gv1&#45;&gt;2_gv1 -->\n",
       "<g id=\"edge4\" class=\"edge\">\n",
       "<title>0_gv1&#45;&gt;2_gv1</title>\n",
       "<path fill=\"none\" stroke=\"black\" d=\"M676.39,-93.93C689.19,-84.26 702.95,-73.86 715.58,-64.32\"/>\n",
       "<polygon fill=\"black\" stroke=\"black\" points=\"717.83,-67.01 723.7,-58.19 713.61,-61.42 717.83,-67.01\"/>\n",
       "<text text-anchor=\"middle\" x=\"720.25\" y=\"-79.25\" font-family=\"Helvetica,sans-Serif\" font-size=\"14.00\">False</text>\n",
       "</g>\n",
       "</g>\n",
       "</svg>\n"
      ],
      "text/plain": [
       "<graphviz.sources.Source at 0x7fec12478970>"
      ]
     },
     "metadata": {},
     "output_type": "display_data"
    },
    {
     "data": {
      "text/markdown": [
       "<span style=\"font-size:11pt\"><br><br></span>"
      ],
      "text/plain": [
       "<IPython.core.display.Markdown object>"
      ]
     },
     "metadata": {},
     "output_type": "display_data"
    },
    {
     "data": {
      "image/svg+xml": [
       "<?xml version=\"1.0\" encoding=\"UTF-8\" standalone=\"no\"?>\n",
       "<!DOCTYPE svg PUBLIC \"-//W3C//DTD SVG 1.1//EN\"\n",
       " \"http://www.w3.org/Graphics/SVG/1.1/DTD/svg11.dtd\">\n",
       "<!-- Generated by graphviz version 2.43.0 (0)\n",
       " -->\n",
       "<!-- Title: root Pages: 1 -->\n",
       "<svg width=\"881pt\" height=\"177pt\"\n",
       " viewBox=\"0.00 0.00 881.00 177.00\" xmlns=\"http://www.w3.org/2000/svg\" xmlns:xlink=\"http://www.w3.org/1999/xlink\">\n",
       "<g id=\"graph0\" class=\"graph\" transform=\"scale(1 1) rotate(0) translate(4 173)\">\n",
       "<title>root</title>\n",
       "<polygon fill=\"white\" stroke=\"transparent\" points=\"-4,4 -4,-173 877,-173 877,4 -4,4\"/>\n",
       "<!-- 0 -->\n",
       "<g id=\"node1\" class=\"node\">\n",
       "<title>0</title>\n",
       "<path fill=\"#ffffff\" stroke=\"black\" d=\"M429,-169C429,-169 43,-169 43,-169 37,-169 31,-163 31,-157 31,-157 31,-106 31,-106 31,-100 37,-94 43,-94 43,-94 429,-94 429,-94 435,-94 441,-100 441,-106 441,-106 441,-157 441,-157 441,-163 435,-169 429,-169\"/>\n",
       "<text text-anchor=\"start\" x=\"46.5\" y=\"-150.3\" font-family=\"Helvetica,sans-Serif\" font-size=\"14.00\">religionsunterrichts,religionspadagogik,methode inhalt ≤ 4654.0</text>\n",
       "<text text-anchor=\"start\" x=\"187.5\" y=\"-135.3\" font-family=\"Helvetica,sans-Serif\" font-size=\"14.00\">samples = 3483</text>\n",
       "<text text-anchor=\"start\" x=\"163\" y=\"-120.3\" font-family=\"Helvetica,sans-Serif\" font-size=\"14.00\">value = [1741.5, 1741.5]</text>\n",
       "<text text-anchor=\"start\" x=\"188\" y=\"-105.3\" font-family=\"Helvetica,sans-Serif\" font-size=\"14.00\">class = Religion</text>\n",
       "</g>\n",
       "<!-- 1 -->\n",
       "<g id=\"node2\" class=\"node\">\n",
       "<title>1</title>\n",
       "<path fill=\"#eca471\" stroke=\"black\" d=\"M178,-58C178,-58 12,-58 12,-58 6,-58 0,-52 0,-46 0,-46 0,-12 0,-12 0,-6 6,0 12,0 12,0 178,0 178,0 184,0 190,-6 190,-12 190,-12 190,-46 190,-46 190,-52 184,-58 178,-58\"/>\n",
       "<text text-anchor=\"start\" x=\"46.5\" y=\"-40.3\" font-family=\"Helvetica,sans-Serif\" font-size=\"14.00\">samples = 3119</text>\n",
       "<text text-anchor=\"start\" x=\"10.5\" y=\"-25.3\" font-family=\"Helvetica,sans-Serif\" font-size=\"14.00\">value = [1613.063, 454.304]</text>\n",
       "<text text-anchor=\"start\" x=\"56\" y=\"-10.3\" font-family=\"Helvetica,sans-Serif\" font-size=\"14.00\">class = other</text>\n",
       "</g>\n",
       "<!-- 0&#45;&gt;1 -->\n",
       "<g id=\"edge1\" class=\"edge\">\n",
       "<title>0&#45;&gt;1</title>\n",
       "<path fill=\"none\" stroke=\"black\" d=\"M184.7,-93.93C171,-84.17 156.26,-73.67 142.77,-64.05\"/>\n",
       "<polygon fill=\"black\" stroke=\"black\" points=\"144.72,-61.14 134.55,-58.19 140.66,-66.84 144.72,-61.14\"/>\n",
       "<text text-anchor=\"middle\" x=\"138.68\" y=\"-79.14\" font-family=\"Helvetica,sans-Serif\" font-size=\"14.00\">True</text>\n",
       "</g>\n",
       "<!-- 2 -->\n",
       "<g id=\"node3\" class=\"node\">\n",
       "<title>2</title>\n",
       "<path fill=\"#4da7e8\" stroke=\"black\" d=\"M386,-58C386,-58 220,-58 220,-58 214,-58 208,-52 208,-46 208,-46 208,-12 208,-12 208,-6 214,0 220,0 220,0 386,0 386,0 392,0 398,-6 398,-12 398,-12 398,-46 398,-46 398,-52 392,-58 386,-58\"/>\n",
       "<text text-anchor=\"start\" x=\"258\" y=\"-40.3\" font-family=\"Helvetica,sans-Serif\" font-size=\"14.00\">samples = 364</text>\n",
       "<text text-anchor=\"start\" x=\"218.5\" y=\"-25.3\" font-family=\"Helvetica,sans-Serif\" font-size=\"14.00\">value = [128.437, 1287.196]</text>\n",
       "<text text-anchor=\"start\" x=\"255\" y=\"-10.3\" font-family=\"Helvetica,sans-Serif\" font-size=\"14.00\">class = Religion</text>\n",
       "</g>\n",
       "<!-- 0&#45;&gt;2 -->\n",
       "<g id=\"edge2\" class=\"edge\">\n",
       "<title>0&#45;&gt;2</title>\n",
       "<path fill=\"none\" stroke=\"black\" d=\"M260.38,-93.93C266.33,-85 272.7,-75.45 278.66,-66.52\"/>\n",
       "<polygon fill=\"black\" stroke=\"black\" points=\"281.57,-68.45 284.21,-58.19 275.75,-64.57 281.57,-68.45\"/>\n",
       "<text text-anchor=\"middle\" x=\"289.11\" y=\"-79\" font-family=\"Helvetica,sans-Serif\" font-size=\"14.00\">False</text>\n",
       "</g>\n",
       "<!-- 0_gv1 -->\n",
       "<g id=\"node4\" class=\"node\">\n",
       "<title>0_gv1</title>\n",
       "<path fill=\"#ffffff\" stroke=\"black\" d=\"M728.5,-169C728.5,-169 545.5,-169 545.5,-169 539.5,-169 533.5,-163 533.5,-157 533.5,-157 533.5,-106 533.5,-106 533.5,-100 539.5,-94 545.5,-94 545.5,-94 728.5,-94 728.5,-94 734.5,-94 740.5,-100 740.5,-106 740.5,-106 740.5,-157 740.5,-157 740.5,-163 734.5,-169 728.5,-169\"/>\n",
       "<text text-anchor=\"start\" x=\"545.5\" y=\"-150.3\" font-family=\"Helvetica,sans-Serif\" font-size=\"14.00\">exil,blutezeit,legende ≤ 4508.0</text>\n",
       "<text text-anchor=\"start\" x=\"588.5\" y=\"-135.3\" font-family=\"Helvetica,sans-Serif\" font-size=\"14.00\">samples = 3483</text>\n",
       "<text text-anchor=\"start\" x=\"564\" y=\"-120.3\" font-family=\"Helvetica,sans-Serif\" font-size=\"14.00\">value = [1741.5, 1741.5]</text>\n",
       "<text text-anchor=\"start\" x=\"598\" y=\"-105.3\" font-family=\"Helvetica,sans-Serif\" font-size=\"14.00\">class = other</text>\n",
       "</g>\n",
       "<!-- 1_gv1 -->\n",
       "<g id=\"node5\" class=\"node\">\n",
       "<title>1_gv1</title>\n",
       "<path fill=\"#efb286\" stroke=\"black\" d=\"M653,-58C653,-58 487,-58 487,-58 481,-58 475,-52 475,-46 475,-46 475,-12 475,-12 475,-6 481,0 487,0 487,0 653,0 653,0 659,0 665,-6 665,-12 665,-12 665,-46 665,-46 665,-52 659,-58 653,-58\"/>\n",
       "<text text-anchor=\"start\" x=\"521.5\" y=\"-40.3\" font-family=\"Helvetica,sans-Serif\" font-size=\"14.00\">samples = 3001</text>\n",
       "<text text-anchor=\"start\" x=\"485.5\" y=\"-25.3\" font-family=\"Helvetica,sans-Serif\" font-size=\"14.00\">value = [1568.749, 606.352]</text>\n",
       "<text text-anchor=\"start\" x=\"531\" y=\"-10.3\" font-family=\"Helvetica,sans-Serif\" font-size=\"14.00\">class = other</text>\n",
       "</g>\n",
       "<!-- 0_gv1&#45;&gt;1_gv1 -->\n",
       "<g id=\"edge3\" class=\"edge\">\n",
       "<title>0_gv1&#45;&gt;1_gv1</title>\n",
       "<path fill=\"none\" stroke=\"black\" d=\"M612.62,-93.93C606.67,-85 600.3,-75.45 594.34,-66.52\"/>\n",
       "<polygon fill=\"black\" stroke=\"black\" points=\"597.25,-64.57 588.79,-58.19 591.43,-68.45 597.25,-64.57\"/>\n",
       "<text text-anchor=\"middle\" x=\"583.89\" y=\"-79\" font-family=\"Helvetica,sans-Serif\" font-size=\"14.00\">True</text>\n",
       "</g>\n",
       "<!-- 2_gv1 -->\n",
       "<g id=\"node6\" class=\"node\">\n",
       "<title>2_gv1</title>\n",
       "<path fill=\"#57ace9\" stroke=\"black\" d=\"M861,-58C861,-58 695,-58 695,-58 689,-58 683,-52 683,-46 683,-46 683,-12 683,-12 683,-6 689,0 695,0 695,0 861,0 861,0 867,0 873,-6 873,-12 873,-12 873,-46 873,-46 873,-52 867,-58 861,-58\"/>\n",
       "<text text-anchor=\"start\" x=\"733\" y=\"-40.3\" font-family=\"Helvetica,sans-Serif\" font-size=\"14.00\">samples = 482</text>\n",
       "<text text-anchor=\"start\" x=\"693.5\" y=\"-25.3\" font-family=\"Helvetica,sans-Serif\" font-size=\"14.00\">value = [172.751, 1135.148]</text>\n",
       "<text text-anchor=\"start\" x=\"726\" y=\"-10.3\" font-family=\"Helvetica,sans-Serif\" font-size=\"14.00\">class = Literature</text>\n",
       "</g>\n",
       "<!-- 0_gv1&#45;&gt;2_gv1 -->\n",
       "<g id=\"edge4\" class=\"edge\">\n",
       "<title>0_gv1&#45;&gt;2_gv1</title>\n",
       "<path fill=\"none\" stroke=\"black\" d=\"M688.3,-93.93C702,-84.17 716.74,-73.67 730.23,-64.05\"/>\n",
       "<polygon fill=\"black\" stroke=\"black\" points=\"732.34,-66.84 738.45,-58.19 728.28,-61.14 732.34,-66.84\"/>\n",
       "<text text-anchor=\"middle\" x=\"734.32\" y=\"-79.14\" font-family=\"Helvetica,sans-Serif\" font-size=\"14.00\">False</text>\n",
       "</g>\n",
       "</g>\n",
       "</svg>\n"
      ],
      "text/plain": [
       "<graphviz.sources.Source at 0x7fec124784c0>"
      ]
     },
     "metadata": {},
     "output_type": "display_data"
    },
    {
     "data": {
      "text/markdown": [
       "<span style=\"font-size:11pt\"><br><br></span>"
      ],
      "text/plain": [
       "<IPython.core.display.Markdown object>"
      ]
     },
     "metadata": {},
     "output_type": "display_data"
    },
    {
     "data": {
      "image/svg+xml": [
       "<?xml version=\"1.0\" encoding=\"UTF-8\" standalone=\"no\"?>\n",
       "<!DOCTYPE svg PUBLIC \"-//W3C//DTD SVG 1.1//EN\"\n",
       " \"http://www.w3.org/Graphics/SVG/1.1/DTD/svg11.dtd\">\n",
       "<!-- Generated by graphviz version 2.43.0 (0)\n",
       " -->\n",
       "<!-- Title: root Pages: 1 -->\n",
       "<svg width=\"971pt\" height=\"177pt\"\n",
       " viewBox=\"0.00 0.00 971.00 177.00\" xmlns=\"http://www.w3.org/2000/svg\" xmlns:xlink=\"http://www.w3.org/1999/xlink\">\n",
       "<g id=\"graph0\" class=\"graph\" transform=\"scale(1 1) rotate(0) translate(4 173)\">\n",
       "<title>root</title>\n",
       "<polygon fill=\"white\" stroke=\"transparent\" points=\"-4,4 -4,-173 967,-173 967,4 -4,4\"/>\n",
       "<!-- 0 -->\n",
       "<g id=\"node1\" class=\"node\">\n",
       "<title>0</title>\n",
       "<path fill=\"#ffffff\" stroke=\"black\" d=\"M392.5,-169C392.5,-169 79.5,-169 79.5,-169 73.5,-169 67.5,-163 67.5,-157 67.5,-157 67.5,-106 67.5,-106 67.5,-100 73.5,-94 79.5,-94 79.5,-94 392.5,-94 392.5,-94 398.5,-94 404.5,-100 404.5,-106 404.5,-106 404.5,-157 404.5,-157 404.5,-163 398.5,-169 392.5,-169\"/>\n",
       "<text text-anchor=\"start\" x=\"81\" y=\"-150.3\" font-family=\"Helvetica,sans-Serif\" font-size=\"14.00\">forschungsfragen,masterarbeit,kolloquium ≤ 3211.5</text>\n",
       "<text text-anchor=\"start\" x=\"187.5\" y=\"-135.3\" font-family=\"Helvetica,sans-Serif\" font-size=\"14.00\">samples = 3483</text>\n",
       "<text text-anchor=\"start\" x=\"163\" y=\"-120.3\" font-family=\"Helvetica,sans-Serif\" font-size=\"14.00\">value = [1741.5, 1741.5]</text>\n",
       "<text text-anchor=\"start\" x=\"166\" y=\"-105.3\" font-family=\"Helvetica,sans-Serif\" font-size=\"14.00\">class = Social sciences</text>\n",
       "</g>\n",
       "<!-- 1 -->\n",
       "<g id=\"node2\" class=\"node\">\n",
       "<title>1</title>\n",
       "<path fill=\"#f6d1b7\" stroke=\"black\" d=\"M178,-58C178,-58 12,-58 12,-58 6,-58 0,-52 0,-46 0,-46 0,-12 0,-12 0,-6 6,0 12,0 12,0 178,0 178,0 184,0 190,-6 190,-12 190,-12 190,-46 190,-46 190,-52 184,-58 178,-58\"/>\n",
       "<text text-anchor=\"start\" x=\"46.5\" y=\"-40.3\" font-family=\"Helvetica,sans-Serif\" font-size=\"14.00\">samples = 2133</text>\n",
       "<text text-anchor=\"start\" x=\"10.5\" y=\"-25.3\" font-family=\"Helvetica,sans-Serif\" font-size=\"14.00\">value = [1235.437, 787.979]</text>\n",
       "<text text-anchor=\"start\" x=\"56\" y=\"-10.3\" font-family=\"Helvetica,sans-Serif\" font-size=\"14.00\">class = other</text>\n",
       "</g>\n",
       "<!-- 0&#45;&gt;1 -->\n",
       "<g id=\"edge1\" class=\"edge\">\n",
       "<title>0&#45;&gt;1</title>\n",
       "<path fill=\"none\" stroke=\"black\" d=\"M184.7,-93.93C171,-84.17 156.26,-73.67 142.77,-64.05\"/>\n",
       "<polygon fill=\"black\" stroke=\"black\" points=\"144.72,-61.14 134.55,-58.19 140.66,-66.84 144.72,-61.14\"/>\n",
       "<text text-anchor=\"middle\" x=\"138.68\" y=\"-79.14\" font-family=\"Helvetica,sans-Serif\" font-size=\"14.00\">True</text>\n",
       "</g>\n",
       "<!-- 2 -->\n",
       "<g id=\"node3\" class=\"node\">\n",
       "<title>2</title>\n",
       "<path fill=\"#a2d1f3\" stroke=\"black\" d=\"M378,-58C378,-58 220,-58 220,-58 214,-58 208,-52 208,-46 208,-46 208,-12 208,-12 208,-6 214,0 220,0 220,0 378,0 378,0 384,0 390,-6 390,-12 390,-12 390,-46 390,-46 390,-52 384,-58 378,-58\"/>\n",
       "<text text-anchor=\"start\" x=\"250.5\" y=\"-40.3\" font-family=\"Helvetica,sans-Serif\" font-size=\"14.00\">samples = 1350</text>\n",
       "<text text-anchor=\"start\" x=\"218.5\" y=\"-25.3\" font-family=\"Helvetica,sans-Serif\" font-size=\"14.00\">value = [506.063, 953.521]</text>\n",
       "<text text-anchor=\"start\" x=\"229\" y=\"-10.3\" font-family=\"Helvetica,sans-Serif\" font-size=\"14.00\">class = Social sciences</text>\n",
       "</g>\n",
       "<!-- 0&#45;&gt;2 -->\n",
       "<g id=\"edge2\" class=\"edge\">\n",
       "<title>0&#45;&gt;2</title>\n",
       "<path fill=\"none\" stroke=\"black\" d=\"M258.92,-93.93C264.46,-85.09 270.39,-75.64 275.94,-66.79\"/>\n",
       "<polygon fill=\"black\" stroke=\"black\" points=\"278.98,-68.52 281.33,-58.19 273.05,-64.8 278.98,-68.52\"/>\n",
       "<text text-anchor=\"middle\" x=\"286.92\" y=\"-78.86\" font-family=\"Helvetica,sans-Serif\" font-size=\"14.00\">False</text>\n",
       "</g>\n",
       "<!-- 0_gv1 -->\n",
       "<g id=\"node4\" class=\"node\">\n",
       "<title>0_gv1</title>\n",
       "<path fill=\"#ffffff\" stroke=\"black\" d=\"M703,-169C703,-169 513,-169 513,-169 507,-169 501,-163 501,-157 501,-157 501,-106 501,-106 501,-100 507,-94 513,-94 513,-94 703,-94 703,-94 709,-94 715,-100 715,-106 715,-106 715,-157 715,-157 715,-163 709,-169 703,-169\"/>\n",
       "<text text-anchor=\"start\" x=\"513\" y=\"-150.3\" font-family=\"Helvetica,sans-Serif\" font-size=\"14.00\">design,software,vision ≤ 2484.0</text>\n",
       "<text text-anchor=\"start\" x=\"559.5\" y=\"-135.3\" font-family=\"Helvetica,sans-Serif\" font-size=\"14.00\">samples = 3483</text>\n",
       "<text text-anchor=\"start\" x=\"535\" y=\"-120.3\" font-family=\"Helvetica,sans-Serif\" font-size=\"14.00\">value = [1741.5, 1741.5]</text>\n",
       "<text text-anchor=\"start\" x=\"569\" y=\"-105.3\" font-family=\"Helvetica,sans-Serif\" font-size=\"14.00\">class = other</text>\n",
       "</g>\n",
       "<!-- 1_gv1 -->\n",
       "<g id=\"node5\" class=\"node\">\n",
       "<title>1_gv1</title>\n",
       "<path fill=\"#efb286\" stroke=\"black\" d=\"M625,-58C625,-58 467,-58 467,-58 461,-58 455,-52 455,-46 455,-46 455,-12 455,-12 455,-6 461,0 467,0 467,0 625,0 625,0 631,0 637,-6 637,-12 637,-12 637,-46 637,-46 637,-52 631,-58 625,-58\"/>\n",
       "<text text-anchor=\"start\" x=\"497.5\" y=\"-40.3\" font-family=\"Helvetica,sans-Serif\" font-size=\"14.00\">samples = 1681</text>\n",
       "<text text-anchor=\"start\" x=\"465.5\" y=\"-25.3\" font-family=\"Helvetica,sans-Serif\" font-size=\"14.00\">value = [871.015, 339.592]</text>\n",
       "<text text-anchor=\"start\" x=\"507\" y=\"-10.3\" font-family=\"Helvetica,sans-Serif\" font-size=\"14.00\">class = other</text>\n",
       "</g>\n",
       "<!-- 0_gv1&#45;&gt;1_gv1 -->\n",
       "<g id=\"edge3\" class=\"edge\">\n",
       "<title>0_gv1&#45;&gt;1_gv1</title>\n",
       "<path fill=\"none\" stroke=\"black\" d=\"M585.44,-93.93C579.99,-85.09 574.16,-75.64 568.7,-66.79\"/>\n",
       "<polygon fill=\"black\" stroke=\"black\" points=\"571.62,-64.86 563.39,-58.19 565.66,-68.54 571.62,-64.86\"/>\n",
       "<text text-anchor=\"middle\" x=\"557.63\" y=\"-78.81\" font-family=\"Helvetica,sans-Serif\" font-size=\"14.00\">True</text>\n",
       "</g>\n",
       "<!-- 2_gv1 -->\n",
       "<g id=\"node6\" class=\"node\">\n",
       "<title>2_gv1</title>\n",
       "<path fill=\"#b4daf5\" stroke=\"black\" d=\"M951,-58C951,-58 667,-58 667,-58 661,-58 655,-52 655,-46 655,-46 655,-12 655,-12 655,-6 661,0 667,0 667,0 951,0 951,0 957,0 963,-6 963,-12 963,-12 963,-46 963,-46 963,-52 957,-58 951,-58\"/>\n",
       "<text text-anchor=\"start\" x=\"760.5\" y=\"-40.3\" font-family=\"Helvetica,sans-Serif\" font-size=\"14.00\">samples = 1802</text>\n",
       "<text text-anchor=\"start\" x=\"724.5\" y=\"-25.3\" font-family=\"Helvetica,sans-Serif\" font-size=\"14.00\">value = [870.485, 1401.907]</text>\n",
       "<text text-anchor=\"start\" x=\"667\" y=\"-10.3\" font-family=\"Helvetica,sans-Serif\" font-size=\"14.00\">class = Computer science, information, general</text>\n",
       "</g>\n",
       "<!-- 0_gv1&#45;&gt;2_gv1 -->\n",
       "<g id=\"edge4\" class=\"edge\">\n",
       "<title>0_gv1&#45;&gt;2_gv1</title>\n",
       "<path fill=\"none\" stroke=\"black\" d=\"M681.13,-93.93C701.67,-83.66 723.86,-72.57 743.9,-62.55\"/>\n",
       "<polygon fill=\"black\" stroke=\"black\" points=\"745.56,-65.63 752.94,-58.03 742.43,-59.37 745.56,-65.63\"/>\n",
       "<text text-anchor=\"middle\" x=\"745.03\" y=\"-78.05\" font-family=\"Helvetica,sans-Serif\" font-size=\"14.00\">False</text>\n",
       "</g>\n",
       "</g>\n",
       "</svg>\n"
      ],
      "text/plain": [
       "<graphviz.sources.Source at 0x7fec12478940>"
      ]
     },
     "metadata": {},
     "output_type": "display_data"
    },
    {
     "data": {
      "text/markdown": [
       "<span style=\"font-size:11pt\"><br><br></span>"
      ],
      "text/plain": [
       "<IPython.core.display.Markdown object>"
      ]
     },
     "metadata": {},
     "output_type": "display_data"
    },
    {
     "data": {
      "image/svg+xml": [
       "<?xml version=\"1.0\" encoding=\"UTF-8\" standalone=\"no\"?>\n",
       "<!DOCTYPE svg PUBLIC \"-//W3C//DTD SVG 1.1//EN\"\n",
       " \"http://www.w3.org/Graphics/SVG/1.1/DTD/svg11.dtd\">\n",
       "<!-- Generated by graphviz version 2.43.0 (0)\n",
       " -->\n",
       "<!-- Title: root Pages: 1 -->\n",
       "<svg width=\"879pt\" height=\"177pt\"\n",
       " viewBox=\"0.00 0.00 878.50 177.00\" xmlns=\"http://www.w3.org/2000/svg\" xmlns:xlink=\"http://www.w3.org/1999/xlink\">\n",
       "<g id=\"graph0\" class=\"graph\" transform=\"scale(1 1) rotate(0) translate(4 173)\">\n",
       "<title>root</title>\n",
       "<polygon fill=\"white\" stroke=\"transparent\" points=\"-4,4 -4,-173 874.5,-173 874.5,4 -4,4\"/>\n",
       "<!-- 0 -->\n",
       "<g id=\"node1\" class=\"node\">\n",
       "<title>0</title>\n",
       "<path fill=\"#ffffff\" stroke=\"black\" d=\"M390,-169C390,-169 88,-169 88,-169 82,-169 76,-163 76,-157 76,-157 76,-106 76,-106 76,-100 82,-94 88,-94 88,-94 390,-94 390,-94 396,-94 402,-100 402,-106 402,-106 402,-157 402,-157 402,-163 396,-169 390,-169\"/>\n",
       "<text text-anchor=\"start\" x=\"90\" y=\"-150.3\" font-family=\"Helvetica,sans-Serif\" font-size=\"14.00\">sprache,gesprochen,romanisch sprache ≤ 4184.5</text>\n",
       "<text text-anchor=\"start\" x=\"190.5\" y=\"-135.3\" font-family=\"Helvetica,sans-Serif\" font-size=\"14.00\">samples = 3483</text>\n",
       "<text text-anchor=\"start\" x=\"166\" y=\"-120.3\" font-family=\"Helvetica,sans-Serif\" font-size=\"14.00\">value = [1741.5, 1741.5]</text>\n",
       "<text text-anchor=\"start\" x=\"185.5\" y=\"-105.3\" font-family=\"Helvetica,sans-Serif\" font-size=\"14.00\">class = Language</text>\n",
       "</g>\n",
       "<!-- 1 -->\n",
       "<g id=\"node2\" class=\"node\">\n",
       "<title>1</title>\n",
       "<path fill=\"#eca16b\" stroke=\"black\" d=\"M178,-58C178,-58 12,-58 12,-58 6,-58 0,-52 0,-46 0,-46 0,-12 0,-12 0,-6 6,0 12,0 12,0 178,0 178,0 184,0 190,-6 190,-12 190,-12 190,-46 190,-46 190,-52 184,-58 178,-58\"/>\n",
       "<text text-anchor=\"start\" x=\"46.5\" y=\"-40.3\" font-family=\"Helvetica,sans-Serif\" font-size=\"14.00\">samples = 2807</text>\n",
       "<text text-anchor=\"start\" x=\"10.5\" y=\"-25.3\" font-family=\"Helvetica,sans-Serif\" font-size=\"14.00\">value = [1497.548, 375.735]</text>\n",
       "<text text-anchor=\"start\" x=\"56\" y=\"-10.3\" font-family=\"Helvetica,sans-Serif\" font-size=\"14.00\">class = other</text>\n",
       "</g>\n",
       "<!-- 0&#45;&gt;1 -->\n",
       "<g id=\"edge1\" class=\"edge\">\n",
       "<title>0&#45;&gt;1</title>\n",
       "<path fill=\"none\" stroke=\"black\" d=\"M186.61,-93.93C172.62,-84.17 157.57,-73.67 143.79,-64.05\"/>\n",
       "<polygon fill=\"black\" stroke=\"black\" points=\"145.59,-61.04 135.39,-58.19 141.59,-66.78 145.59,-61.04\"/>\n",
       "<text text-anchor=\"middle\" x=\"139.77\" y=\"-79.1\" font-family=\"Helvetica,sans-Serif\" font-size=\"14.00\">True</text>\n",
       "</g>\n",
       "<!-- 2 -->\n",
       "<g id=\"node3\" class=\"node\">\n",
       "<title>2</title>\n",
       "<path fill=\"#5cafea\" stroke=\"black\" d=\"M386,-58C386,-58 220,-58 220,-58 214,-58 208,-52 208,-46 208,-46 208,-12 208,-12 208,-6 214,0 220,0 220,0 386,0 386,0 392,0 398,-6 398,-12 398,-12 398,-46 398,-46 398,-52 392,-58 386,-58\"/>\n",
       "<text text-anchor=\"start\" x=\"258\" y=\"-40.3\" font-family=\"Helvetica,sans-Serif\" font-size=\"14.00\">samples = 676</text>\n",
       "<text text-anchor=\"start\" x=\"218.5\" y=\"-25.3\" font-family=\"Helvetica,sans-Serif\" font-size=\"14.00\">value = [243.952, 1365.765]</text>\n",
       "<text text-anchor=\"start\" x=\"249.5\" y=\"-10.3\" font-family=\"Helvetica,sans-Serif\" font-size=\"14.00\">class = Language</text>\n",
       "</g>\n",
       "<!-- 0&#45;&gt;2 -->\n",
       "<g id=\"edge2\" class=\"edge\">\n",
       "<title>0&#45;&gt;2</title>\n",
       "<path fill=\"none\" stroke=\"black\" d=\"M262.29,-93.93C267.92,-85.09 273.93,-75.64 279.57,-66.79\"/>\n",
       "<polygon fill=\"black\" stroke=\"black\" points=\"282.63,-68.5 285.05,-58.19 276.73,-64.74 282.63,-68.5\"/>\n",
       "<text text-anchor=\"middle\" x=\"290.46\" y=\"-78.89\" font-family=\"Helvetica,sans-Serif\" font-size=\"14.00\">False</text>\n",
       "</g>\n",
       "<!-- 0_gv1 -->\n",
       "<g id=\"node4\" class=\"node\">\n",
       "<title>0_gv1</title>\n",
       "<path fill=\"#ffffff\" stroke=\"black\" d=\"M729,-169C729,-169 511,-169 511,-169 505,-169 499,-163 499,-157 499,-157 499,-106 499,-106 499,-100 505,-94 511,-94 511,-94 729,-94 729,-94 735,-94 741,-100 741,-106 741,-106 741,-157 741,-157 741,-163 735,-169 729,-169\"/>\n",
       "<text text-anchor=\"start\" x=\"511\" y=\"-150.3\" font-family=\"Helvetica,sans-Serif\" font-size=\"14.00\">kulturhistorisch,museum,la ≤ 3699.0</text>\n",
       "<text text-anchor=\"start\" x=\"571.5\" y=\"-135.3\" font-family=\"Helvetica,sans-Serif\" font-size=\"14.00\">samples = 3483</text>\n",
       "<text text-anchor=\"start\" x=\"547\" y=\"-120.3\" font-family=\"Helvetica,sans-Serif\" font-size=\"14.00\">value = [1741.5, 1741.5]</text>\n",
       "<text text-anchor=\"start\" x=\"581\" y=\"-105.3\" font-family=\"Helvetica,sans-Serif\" font-size=\"14.00\">class = other</text>\n",
       "</g>\n",
       "<!-- 1_gv1 -->\n",
       "<g id=\"node5\" class=\"node\">\n",
       "<title>1_gv1</title>\n",
       "<path fill=\"#eda673\" stroke=\"black\" d=\"M635,-58C635,-58 477,-58 477,-58 471,-58 465,-52 465,-46 465,-46 465,-12 465,-12 465,-6 471,0 477,0 477,0 635,0 635,0 641,0 647,-6 647,-12 647,-12 647,-46 647,-46 647,-52 641,-58 635,-58\"/>\n",
       "<text text-anchor=\"start\" x=\"507.5\" y=\"-40.3\" font-family=\"Helvetica,sans-Serif\" font-size=\"14.00\">samples = 2479</text>\n",
       "<text text-anchor=\"start\" x=\"475.5\" y=\"-25.3\" font-family=\"Helvetica,sans-Serif\" font-size=\"14.00\">value = [1277.17, 372.321]</text>\n",
       "<text text-anchor=\"start\" x=\"517\" y=\"-10.3\" font-family=\"Helvetica,sans-Serif\" font-size=\"14.00\">class = other</text>\n",
       "</g>\n",
       "<!-- 0_gv1&#45;&gt;1_gv1 -->\n",
       "<g id=\"edge3\" class=\"edge\">\n",
       "<title>0_gv1&#45;&gt;1_gv1</title>\n",
       "<path fill=\"none\" stroke=\"black\" d=\"M596.71,-93.93C591.08,-85.09 585.07,-75.64 579.43,-66.79\"/>\n",
       "<polygon fill=\"black\" stroke=\"black\" points=\"582.27,-64.74 573.95,-58.19 576.37,-68.5 582.27,-64.74\"/>\n",
       "<text text-anchor=\"middle\" x=\"568.54\" y=\"-78.89\" font-family=\"Helvetica,sans-Serif\" font-size=\"14.00\">True</text>\n",
       "</g>\n",
       "<!-- 2_gv1 -->\n",
       "<g id=\"node6\" class=\"node\">\n",
       "<title>2_gv1</title>\n",
       "<path fill=\"#7cbeee\" stroke=\"black\" d=\"M858.5,-58C858.5,-58 677.5,-58 677.5,-58 671.5,-58 665.5,-52 665.5,-46 665.5,-46 665.5,-12 665.5,-12 665.5,-6 671.5,0 677.5,0 677.5,0 858.5,0 858.5,0 864.5,0 870.5,-6 870.5,-12 870.5,-12 870.5,-46 870.5,-46 870.5,-52 864.5,-58 858.5,-58\"/>\n",
       "<text text-anchor=\"start\" x=\"719.5\" y=\"-40.3\" font-family=\"Helvetica,sans-Serif\" font-size=\"14.00\">samples = 1004</text>\n",
       "<text text-anchor=\"start\" x=\"687.5\" y=\"-25.3\" font-family=\"Helvetica,sans-Serif\" font-size=\"14.00\">value = [464.33, 1369.179]</text>\n",
       "<text text-anchor=\"start\" x=\"676.5\" y=\"-10.3\" font-family=\"Helvetica,sans-Serif\" font-size=\"14.00\">class = History and geography</text>\n",
       "</g>\n",
       "<!-- 0_gv1&#45;&gt;2_gv1 -->\n",
       "<g id=\"edge4\" class=\"edge\">\n",
       "<title>0_gv1&#45;&gt;2_gv1</title>\n",
       "<path fill=\"none\" stroke=\"black\" d=\"M673.85,-93.93C688.22,-84.17 703.69,-73.67 717.86,-64.05\"/>\n",
       "<polygon fill=\"black\" stroke=\"black\" points=\"720.18,-66.7 726.49,-58.19 716.25,-60.91 720.18,-66.7\"/>\n",
       "<text text-anchor=\"middle\" x=\"721.8\" y=\"-79.04\" font-family=\"Helvetica,sans-Serif\" font-size=\"14.00\">False</text>\n",
       "</g>\n",
       "</g>\n",
       "</svg>\n"
      ],
      "text/plain": [
       "<graphviz.sources.Source at 0x7fec12478ca0>"
      ]
     },
     "metadata": {},
     "output_type": "display_data"
    },
    {
     "data": {
      "text/markdown": [
       "<span style=\"font-size:11pt\"><br><br></span>"
      ],
      "text/plain": [
       "<IPython.core.display.Markdown object>"
      ]
     },
     "metadata": {},
     "output_type": "display_data"
    },
    {
     "data": {
      "image/svg+xml": [
       "<?xml version=\"1.0\" encoding=\"UTF-8\" standalone=\"no\"?>\n",
       "<!DOCTYPE svg PUBLIC \"-//W3C//DTD SVG 1.1//EN\"\n",
       " \"http://www.w3.org/Graphics/SVG/1.1/DTD/svg11.dtd\">\n",
       "<!-- Generated by graphviz version 2.43.0 (0)\n",
       " -->\n",
       "<!-- Title: root Pages: 1 -->\n",
       "<svg width=\"826pt\" height=\"177pt\"\n",
       " viewBox=\"0.00 0.00 826.00 177.00\" xmlns=\"http://www.w3.org/2000/svg\" xmlns:xlink=\"http://www.w3.org/1999/xlink\">\n",
       "<g id=\"graph0\" class=\"graph\" transform=\"scale(1 1) rotate(0) translate(4 173)\">\n",
       "<title>root</title>\n",
       "<polygon fill=\"white\" stroke=\"transparent\" points=\"-4,4 -4,-173 822,-173 822,4 -4,4\"/>\n",
       "<!-- 0 -->\n",
       "<g id=\"node1\" class=\"node\">\n",
       "<title>0</title>\n",
       "<path fill=\"#ffffff\" stroke=\"black\" d=\"M337,-169C337,-169 147,-169 147,-169 141,-169 135,-163 135,-157 135,-157 135,-106 135,-106 135,-100 141,-94 147,-94 147,-94 337,-94 337,-94 343,-94 349,-100 349,-106 349,-106 349,-157 349,-157 349,-163 343,-169 337,-169\"/>\n",
       "<text text-anchor=\"start\" x=\"147\" y=\"-150.3\" font-family=\"Helvetica,sans-Serif\" font-size=\"14.00\">design,software,vision ≤ 3387.0</text>\n",
       "<text text-anchor=\"start\" x=\"193.5\" y=\"-135.3\" font-family=\"Helvetica,sans-Serif\" font-size=\"14.00\">samples = 3483</text>\n",
       "<text text-anchor=\"start\" x=\"169\" y=\"-120.3\" font-family=\"Helvetica,sans-Serif\" font-size=\"14.00\">value = [1741.5, 1741.5]</text>\n",
       "<text text-anchor=\"start\" x=\"184.5\" y=\"-105.3\" font-family=\"Helvetica,sans-Serif\" font-size=\"14.00\">class = Technology</text>\n",
       "</g>\n",
       "<!-- 1 -->\n",
       "<g id=\"node2\" class=\"node\">\n",
       "<title>1</title>\n",
       "<path fill=\"#f1bd97\" stroke=\"black\" d=\"M178,-58C178,-58 12,-58 12,-58 6,-58 0,-52 0,-46 0,-46 0,-12 0,-12 0,-6 6,0 12,0 12,0 178,0 178,0 184,0 190,-6 190,-12 190,-12 190,-46 190,-46 190,-52 184,-58 178,-58\"/>\n",
       "<text text-anchor=\"start\" x=\"46.5\" y=\"-40.3\" font-family=\"Helvetica,sans-Serif\" font-size=\"14.00\">samples = 2246</text>\n",
       "<text text-anchor=\"start\" x=\"10.5\" y=\"-25.3\" font-family=\"Helvetica,sans-Serif\" font-size=\"14.00\">value = [1202.791, 572.602]</text>\n",
       "<text text-anchor=\"start\" x=\"56\" y=\"-10.3\" font-family=\"Helvetica,sans-Serif\" font-size=\"14.00\">class = other</text>\n",
       "</g>\n",
       "<!-- 0&#45;&gt;1 -->\n",
       "<g id=\"edge1\" class=\"edge\">\n",
       "<title>0&#45;&gt;1</title>\n",
       "<path fill=\"none\" stroke=\"black\" d=\"M188.51,-93.93C174.24,-84.17 158.87,-73.67 144.8,-64.05\"/>\n",
       "<polygon fill=\"black\" stroke=\"black\" points=\"146.46,-60.94 136.23,-58.19 142.51,-66.72 146.46,-60.94\"/>\n",
       "<text text-anchor=\"middle\" x=\"140.85\" y=\"-79.06\" font-family=\"Helvetica,sans-Serif\" font-size=\"14.00\">True</text>\n",
       "</g>\n",
       "<!-- 2 -->\n",
       "<g id=\"node3\" class=\"node\">\n",
       "<title>2</title>\n",
       "<path fill=\"#94caf1\" stroke=\"black\" d=\"M386,-58C386,-58 220,-58 220,-58 214,-58 208,-52 208,-46 208,-46 208,-12 208,-12 208,-6 214,0 220,0 220,0 386,0 386,0 392,0 398,-6 398,-12 398,-12 398,-46 398,-46 398,-52 392,-58 386,-58\"/>\n",
       "<text text-anchor=\"start\" x=\"254.5\" y=\"-40.3\" font-family=\"Helvetica,sans-Serif\" font-size=\"14.00\">samples = 1237</text>\n",
       "<text text-anchor=\"start\" x=\"218.5\" y=\"-25.3\" font-family=\"Helvetica,sans-Serif\" font-size=\"14.00\">value = [538.709, 1168.898]</text>\n",
       "<text text-anchor=\"start\" x=\"245.5\" y=\"-10.3\" font-family=\"Helvetica,sans-Serif\" font-size=\"14.00\">class = Technology</text>\n",
       "</g>\n",
       "<!-- 0&#45;&gt;2 -->\n",
       "<g id=\"edge2\" class=\"edge\">\n",
       "<title>0&#45;&gt;2</title>\n",
       "<path fill=\"none\" stroke=\"black\" d=\"M264.19,-93.93C269.56,-85.09 275.3,-75.64 280.67,-66.79\"/>\n",
       "<polygon fill=\"black\" stroke=\"black\" points=\"283.69,-68.55 285.89,-58.19 277.71,-64.92 283.69,-68.55\"/>\n",
       "<text text-anchor=\"middle\" x=\"291.83\" y=\"-78.77\" font-family=\"Helvetica,sans-Serif\" font-size=\"14.00\">False</text>\n",
       "</g>\n",
       "<!-- 0_gv1 -->\n",
       "<g id=\"node4\" class=\"node\">\n",
       "<title>0_gv1</title>\n",
       "<path fill=\"#ffffff\" stroke=\"black\" d=\"M735.5,-169C735.5,-169 464.5,-169 464.5,-169 458.5,-169 452.5,-163 452.5,-157 452.5,-157 452.5,-106 452.5,-106 452.5,-100 458.5,-94 464.5,-94 464.5,-94 735.5,-94 735.5,-94 741.5,-94 747.5,-100 747.5,-106 747.5,-106 747.5,-157 747.5,-157 747.5,-163 741.5,-169 735.5,-169\"/>\n",
       "<text text-anchor=\"start\" x=\"466\" y=\"-150.3\" font-family=\"Helvetica,sans-Serif\" font-size=\"14.00\">biologie,folgend termin,lebensraum ≤ 3686.5</text>\n",
       "<text text-anchor=\"start\" x=\"551.5\" y=\"-135.3\" font-family=\"Helvetica,sans-Serif\" font-size=\"14.00\">samples = 3483</text>\n",
       "<text text-anchor=\"start\" x=\"527\" y=\"-120.3\" font-family=\"Helvetica,sans-Serif\" font-size=\"14.00\">value = [1741.5, 1741.5]</text>\n",
       "<text text-anchor=\"start\" x=\"536.5\" y=\"-105.3\" font-family=\"Helvetica,sans-Serif\" font-size=\"14.00\">class = Pure Science</text>\n",
       "</g>\n",
       "<!-- 1_gv1 -->\n",
       "<g id=\"node5\" class=\"node\">\n",
       "<title>1_gv1</title>\n",
       "<path fill=\"#efb184\" stroke=\"black\" d=\"M614,-58C614,-58 464,-58 464,-58 458,-58 452,-52 452,-46 452,-46 452,-12 452,-12 452,-6 458,0 464,0 464,0 614,0 614,0 620,0 626,-6 626,-12 626,-12 626,-46 626,-46 626,-52 620,-58 614,-58\"/>\n",
       "<text text-anchor=\"start\" x=\"490.5\" y=\"-40.3\" font-family=\"Helvetica,sans-Serif\" font-size=\"14.00\">samples = 2470</text>\n",
       "<text text-anchor=\"start\" x=\"462\" y=\"-25.3\" font-family=\"Helvetica,sans-Serif\" font-size=\"14.00\">value = [1275.94, 483.75]</text>\n",
       "<text text-anchor=\"start\" x=\"500\" y=\"-10.3\" font-family=\"Helvetica,sans-Serif\" font-size=\"14.00\">class = other</text>\n",
       "</g>\n",
       "<!-- 0_gv1&#45;&gt;1_gv1 -->\n",
       "<g id=\"edge3\" class=\"edge\">\n",
       "<title>0_gv1&#45;&gt;1_gv1</title>\n",
       "<path fill=\"none\" stroke=\"black\" d=\"M577.81,-93.93C572.44,-85.09 566.7,-75.64 561.33,-66.79\"/>\n",
       "<polygon fill=\"black\" stroke=\"black\" points=\"564.29,-64.92 556.11,-58.19 558.31,-68.55 564.29,-64.92\"/>\n",
       "<text text-anchor=\"middle\" x=\"550.17\" y=\"-78.77\" font-family=\"Helvetica,sans-Serif\" font-size=\"14.00\">True</text>\n",
       "</g>\n",
       "<!-- 2_gv1 -->\n",
       "<g id=\"node6\" class=\"node\">\n",
       "<title>2_gv1</title>\n",
       "<path fill=\"#82c1ef\" stroke=\"black\" d=\"M806,-58C806,-58 656,-58 656,-58 650,-58 644,-52 644,-46 644,-46 644,-12 644,-12 644,-6 650,0 656,0 656,0 806,0 806,0 812,0 818,-6 818,-12 818,-12 818,-46 818,-46 818,-52 812,-58 806,-58\"/>\n",
       "<text text-anchor=\"start\" x=\"682.5\" y=\"-40.3\" font-family=\"Helvetica,sans-Serif\" font-size=\"14.00\">samples = 1013</text>\n",
       "<text text-anchor=\"start\" x=\"654\" y=\"-25.3\" font-family=\"Helvetica,sans-Serif\" font-size=\"14.00\">value = [465.56, 1257.75]</text>\n",
       "<text text-anchor=\"start\" x=\"667.5\" y=\"-10.3\" font-family=\"Helvetica,sans-Serif\" font-size=\"14.00\">class = Pure Science</text>\n",
       "</g>\n",
       "<!-- 0_gv1&#45;&gt;2_gv1 -->\n",
       "<g id=\"edge4\" class=\"edge\">\n",
       "<title>0_gv1&#45;&gt;2_gv1</title>\n",
       "<path fill=\"none\" stroke=\"black\" d=\"M647.66,-93.93C660.27,-84.26 673.82,-73.86 686.26,-64.32\"/>\n",
       "<polygon fill=\"black\" stroke=\"black\" points=\"688.45,-67.05 694.26,-58.19 684.19,-61.5 688.45,-67.05\"/>\n",
       "<text text-anchor=\"middle\" x=\"690.99\" y=\"-79.27\" font-family=\"Helvetica,sans-Serif\" font-size=\"14.00\">False</text>\n",
       "</g>\n",
       "</g>\n",
       "</svg>\n"
      ],
      "text/plain": [
       "<graphviz.sources.Source at 0x7fec12478ac0>"
      ]
     },
     "metadata": {},
     "output_type": "display_data"
    },
    {
     "data": {
      "text/markdown": [
       "<span style=\"font-size:11pt\"><br><br></span>"
      ],
      "text/plain": [
       "<IPython.core.display.Markdown object>"
      ]
     },
     "metadata": {},
     "output_type": "display_data"
    },
    {
     "data": {
      "text/markdown": [
       "<span style=\"font-size:11pt\">Per-Class-Scores: Philosophy and psychology: 0.81, Arts and recreation: 0.65, Religion: 0.91, Literature: 0.90, Social sciences: 0.65, Computer science, information, general: 0.50, Language: 0.86, History and geography: 0.73, Technology: 0.69, Pure Science: 0.73</span>"
      ],
      "text/plain": [
       "<IPython.core.display.Markdown object>"
      ]
     },
     "metadata": {},
     "output_type": "display_data"
    },
    {
     "data": {
      "text/markdown": [
       "<span style=\"font-size:11pt\">Unweighted Mean Accuracy: 74.20%</span>"
      ],
      "text/plain": [
       "<IPython.core.display.Markdown object>"
      ]
     },
     "metadata": {},
     "output_type": "display_data"
    },
    {
     "data": {
      "text/markdown": [
       "<span style=\"font-size:11pt\">Weighted Mean Accuracy: 70.65%</span>"
      ],
      "text/plain": [
       "<IPython.core.display.Markdown object>"
      ]
     },
     "metadata": {},
     "output_type": "display_data"
    }
   ],
   "source": [
    "conf = {'dataset': 'siddata2022', 'debug': False, 'kappa_weights': 'quadratic', 'embed_dimensions': 200, 'embed_algo': 'mds', 'quantification_measure': 'tfidf', 'dcm_quant_measure': 'count', 'extraction_method': 'tfidf', 'translate_policy': 'onlyorig', 'pp_components': 'mfauhtcsldp', 'language': 'de', 'min_words_per_desc': 80, 'prim_lambda': 0.5, 'sec_lambda': 0.2, 'classifier_succmetric': 'kappa_digitized_onlypos_2', 'cluster_direction_algo': 'reclassify'}\n",
    "ctx = SnakeContext.loader_context(config=conf, silent=True)\n",
    "ctx.print_important_settings()\n",
    "clusters, embedding, descriptions = ctx.load(\"clusters\", \"embedding\", \"pp_descriptions\")\n",
    "\n",
    "res = classify_shallowtree(clusters, embedding, descriptions, ctx.obj[\"dataset_class\"], one_vs_rest=True, dt_depth=1, test_percentage_crossval=0.33,\n",
    "                           classes=\"ddc_l1\", verbose=True, return_features=False, balance_classes=True, do_plot=True)"
   ]
  },
  {
   "cell_type": "code",
   "execution_count": null,
   "id": "e910fcb6-fe97-48cd-bb9f-bc5b9d9bf6bd",
   "metadata": {},
   "outputs": [],
   "source": []
  }
 ],
 "metadata": {
  "kernelspec": {
   "display_name": "Python 3 (ipykernel)",
   "language": "python",
   "name": "python3"
  },
  "language_info": {
   "codemirror_mode": {
    "name": "ipython",
    "version": 3
   },
   "file_extension": ".py",
   "mimetype": "text/x-python",
   "name": "python",
   "nbconvert_exporter": "python",
   "pygments_lexer": "ipython3",
   "version": "3.10.0"
  },
  "widgets": {
   "application/vnd.jupyter.widget-state+json": {
    "state": {},
    "version_major": 2,
    "version_minor": 0
   }
  }
 },
 "nbformat": 4,
 "nbformat_minor": 5
}
